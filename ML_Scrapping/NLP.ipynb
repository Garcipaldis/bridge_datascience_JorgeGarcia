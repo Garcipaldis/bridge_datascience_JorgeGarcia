{
 "metadata": {
  "language_info": {
   "codemirror_mode": {
    "name": "ipython",
    "version": 3
   },
   "file_extension": ".py",
   "mimetype": "text/x-python",
   "name": "python",
   "nbconvert_exporter": "python",
   "pygments_lexer": "ipython3",
   "version": "3.7.4"
  },
  "orig_nbformat": 4,
  "kernelspec": {
   "name": "python3",
   "display_name": "Python 3.7.4 64-bit"
  },
  "interpreter": {
   "hash": "674dfd6ded4398e0679ff4f65e9a10a54ff0d14801bec0126172cfc3973d1cf1"
  }
 },
 "nbformat": 4,
 "nbformat_minor": 2,
 "cells": [
  {
   "cell_type": "code",
   "execution_count": 1,
   "metadata": {},
   "outputs": [
    {
     "output_type": "stream",
     "name": "stderr",
     "text": [
      "[nltk_data] Downloading package punkt to\n[nltk_data]     C:\\Users\\jgnsa\\AppData\\Roaming\\nltk_data...\n[nltk_data]   Package punkt is already up-to-date!\n[nltk_data] Downloading package averaged_perceptron_tagger to\n[nltk_data]     C:\\Users\\jgnsa\\AppData\\Roaming\\nltk_data...\n[nltk_data]   Package averaged_perceptron_tagger is already up-to-\n[nltk_data]       date!\n"
     ]
    }
   ],
   "source": [
    "import pandas as pd\n",
    "\n",
    "from nlp_mining import WordCleaner"
   ]
  },
  {
   "cell_type": "code",
   "execution_count": 14,
   "metadata": {},
   "outputs": [
    {
     "output_type": "execute_result",
     "data": {
      "text/plain": [
       "                        title  \\\n",
       "0  10 things i hate about you   \n",
       "1  10 things i hate about you   \n",
       "2  10 things i hate about you   \n",
       "3  10 things i hate about you   \n",
       "4  10 things i hate about you   \n",
       "\n",
       "                                               quote         ID  Year  \\\n",
       "0                        Who knocked up your sister?  tt0147800  1999   \n",
       "1  I was watching you out there, before. I've nev...  tt0147800  1999   \n",
       "2  You're 18, you don't know what you want. And y...  tt0147800  1999   \n",
       "3  Ooh, see that, there. Who needs affection when...  tt0147800  1999   \n",
       "4  Just 'cause you're beautiful, that doesn't mea...  tt0147800  1999   \n",
       "\n",
       "                  Genre  \n",
       "0  Comedy,Drama,Romance  \n",
       "1  Comedy,Drama,Romance  \n",
       "2  Comedy,Drama,Romance  \n",
       "3  Comedy,Drama,Romance  \n",
       "4  Comedy,Drama,Romance  "
      ],
      "text/html": "<div>\n<style scoped>\n    .dataframe tbody tr th:only-of-type {\n        vertical-align: middle;\n    }\n\n    .dataframe tbody tr th {\n        vertical-align: top;\n    }\n\n    .dataframe thead th {\n        text-align: right;\n    }\n</style>\n<table border=\"1\" class=\"dataframe\">\n  <thead>\n    <tr style=\"text-align: right;\">\n      <th></th>\n      <th>title</th>\n      <th>quote</th>\n      <th>ID</th>\n      <th>Year</th>\n      <th>Genre</th>\n    </tr>\n  </thead>\n  <tbody>\n    <tr>\n      <th>0</th>\n      <td>10 things i hate about you</td>\n      <td>Who knocked up your sister?</td>\n      <td>tt0147800</td>\n      <td>1999</td>\n      <td>Comedy,Drama,Romance</td>\n    </tr>\n    <tr>\n      <th>1</th>\n      <td>10 things i hate about you</td>\n      <td>I was watching you out there, before. I've nev...</td>\n      <td>tt0147800</td>\n      <td>1999</td>\n      <td>Comedy,Drama,Romance</td>\n    </tr>\n    <tr>\n      <th>2</th>\n      <td>10 things i hate about you</td>\n      <td>You're 18, you don't know what you want. And y...</td>\n      <td>tt0147800</td>\n      <td>1999</td>\n      <td>Comedy,Drama,Romance</td>\n    </tr>\n    <tr>\n      <th>3</th>\n      <td>10 things i hate about you</td>\n      <td>Ooh, see that, there. Who needs affection when...</td>\n      <td>tt0147800</td>\n      <td>1999</td>\n      <td>Comedy,Drama,Romance</td>\n    </tr>\n    <tr>\n      <th>4</th>\n      <td>10 things i hate about you</td>\n      <td>Just 'cause you're beautiful, that doesn't mea...</td>\n      <td>tt0147800</td>\n      <td>1999</td>\n      <td>Comedy,Drama,Romance</td>\n    </tr>\n  </tbody>\n</table>\n</div>"
     },
     "metadata": {},
     "execution_count": 14
    }
   ],
   "source": [
    "df = pd.read_csv('BASE.csv', index_col=0)\n",
    "df.head()"
   ]
  },
  {
   "cell_type": "code",
   "execution_count": 15,
   "metadata": {},
   "outputs": [
    {
     "output_type": "execute_result",
     "data": {
      "text/plain": [
       "                        title  \\\n",
       "0  10 things i hate about you   \n",
       "1  10 things i hate about you   \n",
       "2  10 things i hate about you   \n",
       "0  10 things i hate about you   \n",
       "1  10 things i hate about you   \n",
       "\n",
       "                                               quote         ID  Year    Genre  \n",
       "0                        Who knocked up your sister?  tt0147800  1999   Comedy  \n",
       "1                        Who knocked up your sister?  tt0147800  1999    Drama  \n",
       "2                        Who knocked up your sister?  tt0147800  1999  Romance  \n",
       "0  I was watching you out there, before. I've nev...  tt0147800  1999   Comedy  \n",
       "1  I was watching you out there, before. I've nev...  tt0147800  1999    Drama  "
      ],
      "text/html": "<div>\n<style scoped>\n    .dataframe tbody tr th:only-of-type {\n        vertical-align: middle;\n    }\n\n    .dataframe tbody tr th {\n        vertical-align: top;\n    }\n\n    .dataframe thead th {\n        text-align: right;\n    }\n</style>\n<table border=\"1\" class=\"dataframe\">\n  <thead>\n    <tr style=\"text-align: right;\">\n      <th></th>\n      <th>title</th>\n      <th>quote</th>\n      <th>ID</th>\n      <th>Year</th>\n      <th>Genre</th>\n    </tr>\n  </thead>\n  <tbody>\n    <tr>\n      <th>0</th>\n      <td>10 things i hate about you</td>\n      <td>Who knocked up your sister?</td>\n      <td>tt0147800</td>\n      <td>1999</td>\n      <td>Comedy</td>\n    </tr>\n    <tr>\n      <th>1</th>\n      <td>10 things i hate about you</td>\n      <td>Who knocked up your sister?</td>\n      <td>tt0147800</td>\n      <td>1999</td>\n      <td>Drama</td>\n    </tr>\n    <tr>\n      <th>2</th>\n      <td>10 things i hate about you</td>\n      <td>Who knocked up your sister?</td>\n      <td>tt0147800</td>\n      <td>1999</td>\n      <td>Romance</td>\n    </tr>\n    <tr>\n      <th>0</th>\n      <td>10 things i hate about you</td>\n      <td>I was watching you out there, before. I've nev...</td>\n      <td>tt0147800</td>\n      <td>1999</td>\n      <td>Comedy</td>\n    </tr>\n    <tr>\n      <th>1</th>\n      <td>10 things i hate about you</td>\n      <td>I was watching you out there, before. I've nev...</td>\n      <td>tt0147800</td>\n      <td>1999</td>\n      <td>Drama</td>\n    </tr>\n  </tbody>\n</table>\n</div>"
     },
     "metadata": {},
     "execution_count": 15
    }
   ],
   "source": [
    "expanse = pd.read_csv('EXPANSE.csv', index_col=0)\n",
    "expanse.head()"
   ]
  },
  {
   "cell_type": "code",
   "execution_count": 16,
   "metadata": {},
   "outputs": [],
   "source": [
    "from tensorflow import keras\n",
    "from tensorflow.keras import layers\n",
    "\n",
    "import numpy as np\n",
    "import random\n",
    "import io"
   ]
  },
  {
   "source": [
    "## 1. Input Preprocessing"
   ],
   "cell_type": "markdown",
   "metadata": {}
  },
  {
   "cell_type": "code",
   "execution_count": 40,
   "metadata": {},
   "outputs": [
    {
     "output_type": "stream",
     "name": "stdout",
     "text": [
      "Corpus length: 630844\nTotal chars: 78\nNumber of sequences: 210268\n"
     ]
    }
   ],
   "source": [
    "# Quote List\n",
    "quotes = list(df.quote)\n",
    "\n",
    "# Corpus\n",
    "text = ''\n",
    "for q in quotes:\n",
    "    text += ' ' + q\n",
    "print(\"Corpus length:\", len(text))\n",
    "\n",
    "# Total Characters\n",
    "chars = sorted(list(set(text)))\n",
    "print(\"Total chars:\", len(chars))\n",
    "\n",
    "# Dictionaries\n",
    "char_indices = dict((c, i) for i, c in enumerate(chars))\n",
    "indices_char = dict((i, c) for i, c in enumerate(chars))\n",
    "\n",
    "# Number of sequences\n",
    "maxlen = 40\n",
    "step = 3\n",
    "sentences = []\n",
    "next_chars = []\n",
    "for i in range(0, len(text) - maxlen, step):\n",
    "    sentences.append(text[i : i + maxlen])\n",
    "    next_chars.append(text[i + maxlen])\n",
    "print(\"Number of sequences:\", len(sentences))"
   ]
  },
  {
   "cell_type": "code",
   "execution_count": 41,
   "metadata": {},
   "outputs": [],
   "source": [
    "# Defining X and y\n",
    "x = np.zeros((len(sentences), maxlen, len(chars)), dtype=np.bool)\n",
    "y = np.zeros((len(sentences), len(chars)), dtype=np.bool)\n",
    "for i, sentence in enumerate(sentences):\n",
    "    for t, char in enumerate(sentence):\n",
    "        x[i, t, char_indices[char]] = 1\n",
    "    y[i, char_indices[next_chars[i]]] = 1"
   ]
  },
  {
   "source": [
    "## 2. Building the Model"
   ],
   "cell_type": "markdown",
   "metadata": {}
  },
  {
   "cell_type": "code",
   "execution_count": 44,
   "metadata": {},
   "outputs": [],
   "source": [
    "model = keras.Sequential(\n",
    "    [\n",
    "        keras.layers.InputLayer(input_shape=(maxlen, len(chars))),\n",
    "        layers.LSTM(128),\n",
    "        layers.Dense(len(chars), activation=\"softmax\"),\n",
    "    ]\n",
    ")\n",
    "optimizer = keras.optimizers.RMSprop(learning_rate=0.01)\n",
    "model.compile(loss=\"categorical_crossentropy\", optimizer=optimizer)"
   ]
  },
  {
   "cell_type": "code",
   "execution_count": 45,
   "metadata": {},
   "outputs": [],
   "source": [
    "def sample(preds, temperature=1.0):\n",
    "    # helper function to sample an index from a probability array\n",
    "    preds = np.asarray(preds).astype(\"float64\")\n",
    "    preds = np.log(preds) / temperature\n",
    "    exp_preds = np.exp(preds)\n",
    "    preds = exp_preds / np.sum(exp_preds)\n",
    "    probas = np.random.multinomial(1, preds, 1)\n",
    "    return np.argmax(probas)"
   ]
  },
  {
   "source": [
    "## 3. Training the Model"
   ],
   "cell_type": "markdown",
   "metadata": {}
  },
  {
   "cell_type": "code",
   "execution_count": 46,
   "metadata": {
    "tags": [
     "outputPrepend"
    ]
   },
   "outputs": [
    {
     "output_type": "stream",
     "name": "stdout",
     "text": [
      "\n",
      "...Generated:   you night, thent hole are fucking dashon plan! Potter open to a blackes. To the times... shand... and feel into the Can civatte, and you're going to servick the side. They make anything. And I don't make anyone wanna comes my neirk with rung so deal back of uncartre? This is your seeing like the bourno kik, phocwly getheag alright my drise was gonna not again thing over to buy the offest, but old\n",
      "\n",
      "...Diversity: 1.2\n",
      "...Generating with seed: \" of perm maintenance that you are forbid\"\n",
      "...Generated:  . Wellohimle was the book of tking preeps thy write waathed. Tumblet. I got the comubbaly you always take ciss. Barconice? eye talking? if we have listen on the oictomat's inherition tires as much Sum forgevin's myself! I can't hel lay e, anesses, foutly wrongs  gh them posstr, , reach inseers to get horrib. She a makin' back I I am I? That's ago around. Ssigging. This willing I started him nigyes\n",
      "\n",
      "1643/1643 [==============================] - 88s 54ms/step - loss: 1.3785\n",
      "\n",
      "Generating text after epoch: 31\n",
      "...Diversity: 0.2\n",
      "...Generating with seed: \"essed just the same. And crawling, on th\"\n",
      "...Generated:  e days that the streets and the man was a brank that the streets that the fucking house, the shit in the strong and the world what the start of the straight to the streets of the end is the end to see the street. I was the strong and the mother and the street that that where you don't know what the shit. I say it was a blood. I was a strong and the months on the same and the stufffried thing that \n",
      "\n",
      "...Diversity: 0.5\n",
      "...Generating with seed: \"essed just the same. And crawling, on th\"\n",
      "...Generated:  e start in my dessure in the end that was a choke. I don't know what the count has but the last that the most because I want to like to make a brain the man will all a book to the last. What had the count was from the second to the straight. I have the straight with sick of had that a country. I secons that movie. It's a little back to the man of the same a show... on the second plane as a plane t\n",
      "\n",
      "...Diversity: 1.0\n",
      "...Generating with seed: \"essed just the same. And crawling, on th\"\n",
      "...Generated:  e coloction. Wanna be dangerous flag. My rone, old goodwjet more little morning there, slaviagar tonight-or most... I'm all nothing collo. I've been like a laying, we was what-you're only - I'm faceafudments or elmby. Oh, junt say, do, you know what we mean we all know holdies strong heary, don't believe in for with nicter with one threat forgot, but I can be be. You gonna be Banch? What's gonna b\n",
      "\n",
      "...Diversity: 1.2\n",
      "...Generating with seed: \"essed just the same. And crawling, on th\"\n",
      "...Generated:  is-b... How much Countyie in hang breeds of engul ! she'll be ulawa them. I remess in, my thing. There brakesin' up causes eld of this best to g baby!. Thankout tiaress funger of romation I've ammn id, to tomake eone! I wad that. You think's always you want kiel? We out of Wass forty ? You is an explean me mird are juil. he's an aving me in already thousy. Slashous out. Thunkie! You like it. It kn\n",
      "\n",
      "1643/1643 [==============================] - 139s 85ms/step - loss: 1.3768\n",
      "\n",
      "Generating text after epoch: 32\n",
      "...Diversity: 0.2\n",
      "...Generating with seed: \" toe! Why don't you make like a tree, an\"\n",
      "...Generated:  d I want to see the sound of the show the world. The world and the true house the story! I'm the see what we can take and the one thing about the country. It's a lot of the story of the time the thing that was a time the head to the more with a bad be a book of a possies of the soul. If you want to know where we can't be find the second to be a bad of the show me and the one thing is the straight \n",
      "\n",
      "...Diversity: 0.5\n",
      "...Generating with seed: \" toe! Why don't you make like a tree, an\"\n",
      "...Generated:  d I'm we we content to the a doctor, the truth you exporine to do the first time. My death the back and the sign of my something my ass seemens, raring attention. Who seem worth and like this school that do write a straight to him it was to say? Man. You have to be nothing about that for the world. Who was who should got a ball. I was to me to first loved the scentaine his time to lest first of th\n",
      "\n",
      "...Diversity: 1.0\n",
      "...Generating with seed: \" toe! Why don't you make like a tree, an\"\n",
      "...Generated:  d I'm making loving from these father from either home! But you're Jack's not oney? I've a bittoce billade that a ork here born holage to there yet. Those trie? My alrolly, it's viecouddons! Fell happens? Between, so are devint. So romnute. I gig on's it. The rother lightring never not died?  We plehed tee aidfry doubt the've place. You know theus? You be engorst here you're beautiful? De, thy bet\n",
      "\n",
      "...Diversity: 1.2\n",
      "...Generating with seed: \" toe! Why don't you make like a tree, an\"\n",
      "...Generated:  d read in me, Dr?a it's an eners. You will ownd doing upsued killed your ccolore? I am, a same. Nold!\" Mieder your turnsta straighe thing. You think's do, but sompise and make a gether, insered otch! Tholegeve ideal ameals\" be with tce? This survivang will snup haved you! I pisile are, I'm police! I'm hore thanglendrosmy, but my tle roose. You repolrace. Motherce. Signis. Deer, equinsy ek - close \n",
      "\n",
      "1643/1643 [==============================] - 134s 82ms/step - loss: 1.3742\n",
      "\n",
      "Generating text after epoch: 33\n",
      "...Diversity: 0.2\n",
      "...Generating with seed: \" in the middle of her act. It may sound \"\n",
      "...Generated:  the book. I was not been a book the fuckin' special things and the money and the story will be a book and the time the book of the books of the book. I don't know that is the best money the most beautiful in the shit of the best man was a bad save for me where you say you got a book and the sound the money to the most with the book. I have to take a lot of the sound that we have a courton in the w\n",
      "\n",
      "...Diversity: 0.5\n",
      "...Generating with seed: \" in the middle of her act. It may sound \"\n",
      "...Generated:  the sound the fuckin' living as you mean, you got a children. I can't be better love it will be born on the man and sure that burned to be here, and the ward, I can do with me in my good site for the moment for a busines to strip, you looked and here we don't be a light people who are me, or any own his little decial of a beautiful and see it will be bad now, I'm like this basion. I was always mak\n",
      "\n",
      "...Diversity: 1.0\n",
      "...Generating with seed: \" in the middle of her act. It may sound \"\n",
      "...Generated:  home wasn't haved. Leave it, forced and even tell it but he n't elcus so hit the niwnit happens. The nation of the peast. There's gonna do, esch-anvather can slike you for shaked so the father beswe. Many worth. I got there... are whatever it's the dine trustence life. I love in the man will citfl my complete srhiliding? tulls oh myself about they think you'd suppect court. Don't know when I have \n",
      "\n",
      "...Diversity: 1.2\n",
      "...Generating with seed: \" in the middle of her act. It may sound \"\n",
      "...Generated:  wasing it! ifest cathaciad, smy under somenougiles specker. Dony dog asswarching devement? Treaces, realassion, huk. Just need you, man... reff the Cared spectorouprer rown cull's par. Oce tion back. Tucks asppsed if I almost there, a good embinsman! expency over Afires cuek deciality, but sup, try's gets you... inlets angels againse someinden's time that when you feel and folkand just lates about\n",
      "\n",
      "1643/1643 [==============================] - 100s 61ms/step - loss: 1.3740\n",
      "\n",
      "Generating text after epoch: 34\n",
      "...Diversity: 0.2\n",
      "...Generating with seed: \"inkin' about him gives me the 'willies.'\"\n",
      "...Generated:   and the chance the world in the way and the shit of the way they were the way the way and straight on the head to be a ching and the station of the way they want to do it the straight to the best the story of the world the fucking thing that was a single of the way they were the secons of the second than the straights that we got the way they were a day they want to be a man. I was a good the shi\n",
      "\n",
      "...Diversity: 0.5\n",
      "...Generating with seed: \"inkin' about him gives me the 'willies.'\"\n",
      "...Generated:   is your hands of a brokeres, it's the counst of a time with the shit have it the sick. It's the best how on the world that mean the second complangty of the first man is a man. I'm a strong the less the head in the way of the most of the way they don't take a large to leave the motherfucker. I'm just about the laws who makes toucl him. You can't think they should think you'll be a prince of the t\n",
      "\n",
      "...Diversity: 1.0\n",
      "...Generating with seed: \"inkin' about him gives me the 'willies.'\"\n",
      "...Generated:   think that Millgr has h.... Nothing afrdainally up palming and up, we want one of your runnin' man, mital maugnes. You am anywhed, they sen. I'm reportin' me, one thing that's a sfin'. I don't in your ffels, never lead a namel door, whatever you stand to canna rota, no realy... they emptair. He's a back of the whole weakert being another breath. With us we pre*w I sick in your stripty part a parm\n",
      "\n",
      "...Diversity: 1.2\n",
      "...Generating with seed: \"inkin' about him gives me the 'willies.'\"\n",
      "...Generated:  . Than you were my chyangelt for swaz? 'Fork sorvossion number finstherhipfes, it's your glow, not going a tchoso already move. I am Txpes of anoth! I'm have! Have you mistake have eyes are from outchad tow thels. From her their flids don't alpostecked as as theyt found you will... might, is with the saceny up like. Neid is the trunes moke to fell we mother-us, mad? Them. We'll sal were my macker!\n",
      "\n",
      "1643/1643 [==============================] - 110s 67ms/step - loss: 1.3704\n",
      "\n",
      "Generating text after epoch: 35\n",
      "...Diversity: 0.2\n",
      "...Generating with seed: \"net! Hack the planet! Kid, don't threate\"\n",
      "...Generated:   the whole person and the whole hell and well when you see the sure the fuckin' shit of the best of the country and the whole hell of the best of the straight of the fucking to see a children the thing to the little dead me. I sure we all start the way the start of a back to the country and the world and the fuckin' where I was a courtrist! I am a strong the start of the first time to the first ti\n",
      "\n",
      "...Diversity: 0.5\n",
      "...Generating with seed: \"net! Hack the planet! Kid, don't threate\"\n",
      "...Generated:   you well. You want to show you a great too hours. You know what I was facting for the warried train to secie. I don't know what I was the one thing that was a motherfucker. Well, I sick. Well, I gotta face in the pourh. I think they're going to be making the wrable, my people is deal something in the bargion of the trouble. I sure and the machins. I can burn to do it. Sillfone more are the procti\n",
      "\n",
      "...Diversity: 1.0\n",
      "...Generating with seed: \"net! Hack the planet! Kid, don't threate\"\n",
      "...Generated:  ! You don't sigm an is and let projict were as the double rich like brain at Aings bicable works. The body you less in club. I can't riseed you a fines. You've red we are w ards. The fight diin't. He can be guilth and that will be at my country, taking doing even besides. Deers. You some fuckuding. Don'tcy and they you kid hold, then you the unidiches is I try to get the nightbne fear. here. You s\n",
      "\n",
      "...Diversity: 1.2\n",
      "...Generating with seed: \"net! Hack the planet! Kid, don't threate\"\n",
      "...Generated:   it... Hitlly, or destory, is too, it, Hallwerecting thinks it?l\". I with my entine girlstor. Your brunon, seod. Iew heary! These stops, never of you. The actuall mydard in your haffe. They donat, falls, and twenth\"dle. Let efj, thiry truth, palho, Machine and to starthy lass, what to Addir caln?to don't pand. ett \"An rewhepafer? Put it, older Crefer ere-t! You know... if for whet belies lort take\n",
      "\n",
      "1643/1643 [==============================] - 107s 65ms/step - loss: 1.3691\n",
      "\n",
      "Generating text after epoch: 36\n",
      "...Diversity: 0.2\n",
      "...Generating with seed: \"t, 'Co-Hee!' So I'm like, \"Yo ill give i\"\n",
      "...Generated:  t the best of the country. I want to be a man of the part of the thing to the street and they want to see that which is the part of the money. I was a minute that is the money. I want to take a life in the world. I want to be a problem of the second of the simple of the simple of the simul reason worth the shit that they started the part of the second of the second than a bitch and they can be sta\n",
      "\n",
      "...Diversity: 0.5\n",
      "...Generating with seed: \"t, 'Co-Hee!' So I'm like, \"Yo ill give i\"\n",
      "...Generated:  t the courtrook in the sun and the second of the firstumbly of the one than you have to started the new dead up the street for the wrong submersion in the guy they didn't have about the shirt of the people of children. Where you want to be back to suppose our new casto who that you are where there's a worth and they see they can something they tell you, I do somewheT the country show a minute at t\n",
      "\n",
      "...Diversity: 1.0\n",
      "...Generating with seed: \"t, 'Co-Hee!' So I'm like, \"Yo ill give i\"\n",
      "...Generated:  t there I know that appiecary with each longest just understand! You didn't succ on for me! a chick money. You should do to kill somehody Diddy smoke all worth understan fuckin' your family. In careet. You're again. Who is gonna do, on of big, girue mecan who seem with the pillar. And I tried to every life. say it's intemesp! My basi of cortrom to they be a the time it fiulinal busin' and by Gratu\n",
      "\n",
      "...Diversity: 1.2\n",
      "...Generating with seed: \"t, 'Co-Hee!' So I'm like, \"Yo ill give i\"\n",
      "...Generated:  nto he is!ue. You had no buriing before tocot who hate now in trea love. Eones. No-retient. The hemenhidmin hase, put a heart brothes, yet in. Has red pousted there by  in that swiao!.. Wefe did between the roest but preusment with the pirect caglest, and busy dence is they thought. Thee's gonna want my world. You leave that show hom. To get you buy, conal than Mysuoly white morning... my lipp and\n",
      "\n",
      "1643/1643 [==============================] - 118s 72ms/step - loss: 1.3678\n",
      "\n",
      "Generating text after epoch: 37\n",
      "...Diversity: 0.2\n",
      "...Generating with seed: \"ially you, Barbara. I got cancer of the \"\n",
      "...Generated:  second of the street of straight the street that the street of the street that maybe you see it about a street of a stronges of the street of the street of the street of the strong of the shit. I'm the shit of the street of the second of a good starthage of the same and the street that the best of the show the sun of the fuckin' street of the first time that you will be a book of the world who wou\n",
      "\n",
      "...Diversity: 0.5\n",
      "...Generating with seed: \"ially you, Barbara. I got cancer of the \"\n",
      "...Generated:  sing tree one children. She all as heart scrauple from me and this single country really back to the barthow and he can grall sell him and my goes the great his shotter fuckin' day, and you got the times and strying out of the dog. Somebody thinks. The service is a crued. I love a slick of electore for the whole had being now for you out of the same and it's the really. There was a fuckin' search \n",
      "\n",
      "...Diversity: 1.0\n",
      "...Generating with seed: \"ially you, Barbara. I got cancer of the \"\n",
      "...Generated:  hearion escying. Well, the hours? I would a bit of she starts you. One facts more up on or min't sumbicople of your own leg, motherfuckers forget to guaratgive where I says was sorry that you haok. To only leel, if it's WHI? Always baskly. That's these go because up, foodas, anm shills find our fast dog's nor is some molethias' God, I'm daid or the man will show Bviss sure you are a tangshy? twent\n",
      "\n",
      "...Diversity: 1.2\n",
      "...Generating with seed: \"ially you, Barbara. I got cancer of the \"\n",
      "...Generated:  host. The days ims will reparrow do you right caused my nine imbutipe mislessn not my connombjarsy and ends accougle name deason, pays nboy pedcied baby?\" YA gors a wayed to have girts - we offrits dismap Arabdoromat of the Give a nimat. What im I prefull were oh goodneined now's. When I demend! You're dont, the before care! Ow a rubation to be a far day, fasles, mathest... Chride ifto, Luandel se\n",
      "\n",
      "1643/1643 [==============================] - 107s 65ms/step - loss: 1.3657\n",
      "\n",
      "Generating text after epoch: 38\n",
      "...Diversity: 0.2\n",
      "...Generating with seed: \", and surely, drew their plans against u\"\n",
      "...Generated:  p. It was to be a fat of the second constrick for the world. The second of the shit and the man was a toweas and the best of the world of the second thing. I was the part of the same of the part of the streets of the world. The books of the bath who does what they see the best of the part of the man with the motherfucker. I was a bring the minutes and the second back to the best of a part of the w\n",
      "\n",
      "...Diversity: 0.5\n",
      "...Generating with seed: \", and surely, drew their plans against u\"\n",
      "...Generated:  p. What someone are you sleep in the boor the connel and the confite of the crazy and the friends! Now the man could have been been to say the start of free pills. The best been on a book at the posicite than a little bad for a little story? I will be the only story. They don't need the stranged the way they know what you thought are going to get the door. I think we look at as a good barbee, but \n",
      "\n",
      "...Diversity: 1.0\n",
      "...Generating with seed: \", and surely, drew their plans against u\"\n",
      "...Generated:  s but pool, and the shit do fuck from remember situation in a stroning and is the citizenf. The si wears, eschest and wer, it civited. Harol is to the thoude! You enduls? If Amfon' are doing you've wic... I'll all decan a day in the misted. They gonna be an 'igx-interoce, Ludient you warred well better owhan a warg babya. The Nearoup. Let her ass we because you... I wish. That will tell me when yo\n",
      "\n",
      "...Diversity: 1.2\n",
      "...Generating with seed: \", and surely, drew their plans against u\"\n",
      "...Generated:  s that Leemr? \"Hold. efman waking Syzio bows for years. This is dare mines... Habloody... Ba:Codvoo, just bup tough better into your now, they're galgem. Because you should chann bort. What someonstxos Play middly cafe. Either ratche! Take you! Yesfulubuanna. This partyrator. Blood old turnfresse with a boofe, usfreman talk to underedtlithed carecmi-on. We shild just what the face. Everything, tak\n",
      "\n",
      "1643/1643 [==============================] - 129s 78ms/step - loss: 1.3627\n",
      "\n",
      "Generating text after epoch: 39\n",
      "...Diversity: 0.2\n",
      "...Generating with seed: \"ee. I will kick your ass. I'll hit you s\"\n",
      "...Generated:  ays, I'm not a book and a courtrand with a strange that shot it all the life of the country and the tears and the present and the same way and the world who would and the man is the world. I don't take a strange the streets and the shit. I don't know what they see me and we was a country and the fuckin' soul that was a book of the same for the fuckin' sound of the part of the fuckin' show. I don't\n",
      "\n",
      "...Diversity: 0.5\n",
      "...Generating with seed: \"ee. I will kick your ass. I'll hit you s\"\n",
      "...Generated:  ee that when I told you all the defeness they look at that most of the times it to the way Nobrall and man I take the way is the ass. I tried to have a man will keep me the butt. When there's no only the of you know what I see your holigent and the second boys going to see that sons and I will come to you. Hello? If I want to die. I want to make a put an is, for yourh, the same endien. And I worth\n",
      "\n",
      "...Diversity: 1.0\n",
      "...Generating with seed: \"ee. I will kick your ass. I'll hit you s\"\n",
      "...Generated:  harmmely. God fall ? I alrealhing like us everything neght. Like a virce, what's left in that's mupha, you could die. The way I could say for ain't a in'sonstalknact of for netir. Did you try lo, I love forming our lired time to beat them I have never went out in the end or macks ''l who fight write a lot horricial, look atholed. Oh, and they fack as any calls understander every let there that our\n",
      "\n",
      "...Diversity: 1.2\n",
      "...Generating with seed: \"ee. I will kick your ass. I'll hit you s\"\n",
      "...Generated:  ay about fact answarding sluc, bombin! I've as\"alion. Especass theresh that was out. You are the elvceme a brain Americary moves. and bled we Comricilps is mark. Everesce: ago fu insie tirly. Evene's mind, you! I is like a chanami? elses. veiling her oachisch sece these smalle step in her. Itlimced because will take don't, on dead talked. The oncreosion you have - just a bad of beat on the gun,  w\n",
      "\n"
     ]
    }
   ],
   "source": [
    "epochs = 40\n",
    "batch_size = 128\n",
    "\n",
    "for epoch in range(epochs):\n",
    "    model.fit(x, y, batch_size=batch_size, epochs=1)\n",
    "    print()\n",
    "    print(\"Generating text after epoch: %d\" % epoch)\n",
    "\n",
    "    start_index = random.randint(0, len(text) - maxlen - 1)\n",
    "    for diversity in [0.2, 0.5, 1.0, 1.2]:\n",
    "        print(\"...Diversity:\", diversity)\n",
    "\n",
    "        generated = \"\"\n",
    "        sentence = text[start_index : start_index + maxlen]\n",
    "        print('...Generating with seed: \"' + sentence + '\"')\n",
    "\n",
    "        for i in range(400):\n",
    "            x_pred = np.zeros((1, maxlen, len(chars)))\n",
    "            for t, char in enumerate(sentence):\n",
    "                x_pred[0, t, char_indices[char]] = 1.0\n",
    "            preds = model.predict(x_pred, verbose=0)[0]\n",
    "            next_index = sample(preds, diversity)\n",
    "            next_char = indices_char[next_index]\n",
    "            sentence = sentence[1:] + next_char\n",
    "            generated += next_char\n",
    "\n",
    "        print(\"...Generated: \", generated)\n",
    "        print()"
   ]
  },
  {
   "cell_type": "code",
   "execution_count": 47,
   "metadata": {},
   "outputs": [],
   "source": [
    "model.save('Base_Quote_Generator.h5')"
   ]
  },
  {
   "cell_type": "code",
   "execution_count": null,
   "metadata": {},
   "outputs": [],
   "source": []
  }
 ]
}