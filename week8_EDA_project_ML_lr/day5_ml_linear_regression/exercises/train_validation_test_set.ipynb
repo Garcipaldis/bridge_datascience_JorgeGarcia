{
 "metadata": {
  "language_info": {
   "codemirror_mode": {
    "name": "ipython",
    "version": 3
   },
   "file_extension": ".py",
   "mimetype": "text/x-python",
   "name": "python",
   "nbconvert_exporter": "python",
   "pygments_lexer": "ipython3",
   "version": "3.7.4"
  },
  "orig_nbformat": 2,
  "kernelspec": {
   "name": "python374jvsc74a57bd0674dfd6ded4398e0679ff4f65e9a10a54ff0d14801bec0126172cfc3973d1cf1",
   "display_name": "Python 3.7.4 64-bit"
  },
  "metadata": {
   "interpreter": {
    "hash": "674dfd6ded4398e0679ff4f65e9a10a54ff0d14801bec0126172cfc3973d1cf1"
   }
  }
 },
 "nbformat": 4,
 "nbformat_minor": 2,
 "cells": [
  {
   "cell_type": "markdown",
   "metadata": {},
   "source": [
    "### 1. \n",
    "\n",
    "Crear una función que reciba cuatro parámetros: una lista 'L', un número 'T', un número 'V' y un booleano 'S'. La función debe devolver otras dos listas: \"lista_train_val\" y \"lista_test\".\n",
    "\n",
    "- \"lista_train_val\" es una lista con dos elementos. Cada elemento es una lista: \"list_train\", que representa el conjunto de entrenamiento y \"list_val\", que representa el conjunto de validación. \n",
    "- \"list_test\" es el conjunto de test. Como mínimo ha de tener 1 elemento (si 'L' > 1).\n",
    "- \"L\" es cualquier lista de elementos. Al principio, entra con un tamaño completo (100%). Esta es la lista que se partirá y se generarán los conjuntos entrenamiento, de validación y de test.\n",
    "- \"T\" es un número entre 1 y 100 que va a representar el tamaño, en porcentaje, del conjunto de test \"list_test\". \n",
    "- \"V\" es un número entre 0 y 100 que va a representar el tamaño, en porcentaje, del conjunto de validación \"list_val\". Su valor por defecto es 0.\n",
    "- \"S\", que por defecto es False, determinará si los conjuntos \"list_train\", \"list_test\" y \"list_val\" están aleatoriamente ordenados. ¿Encuentras alguna posible incoherencia si se reordenan aleatoriamente?\n",
    "\n",
    "Prueba la función con una lista de 100 números aleatorios del 0 al 100. \n",
    "\n",
    "### 2. \n",
    "\n",
    "Rehacer el ejercicio anterior en otra función para que no devuelva dos listas, sino los tres conjuntos: \n",
    "\n",
    "--> return list_train, list_val, list_test "
   ]
  },
  {
   "cell_type": "code",
   "execution_count": 15,
   "metadata": {},
   "outputs": [],
   "source": [
    "import random\n",
    "\n",
    "# PARTE 1.\n",
    "def get_train_test(L, T, V=0, S=False):\n",
    "\n",
    "    if len(L) > 1:   # Comprobamos si L > 1\n",
    "        # Se calcula la posición relativa de test en la lista.\n",
    "        t_pos = round(len(L) * (T/100))    \n",
    "        list_test = L[:t_pos]\n",
    "        list_val = []\n",
    "        # Se calcula la posición relativa de val en la lista\n",
    "        if V > 0:\n",
    "            v_pos = t_pos + round(len(L) * (V/100))    \n",
    "            list_val = L[t_pos:v_pos]\n",
    "            # Lista train a partir de la posición v_pos.\n",
    "            list_train = L[v_pos:]               \n",
    "        else:\n",
    "            # Lista train a partir de la posición t_pos (V=0).\n",
    "            list_train = L[t_pos:]               \n",
    "\n",
    "        # Si S=True se realiza un shuffle.\n",
    "        if S:\n",
    "            random.shuffle(list_train)\n",
    "            random.shuffle(list_val)\n",
    "            random.shuffle(list_test)\n",
    "\n",
    "        lista_train_val = [list_train, list_val]\n",
    "        \n",
    "    return lista_train_val, list_test"
   ]
  },
  {
   "cell_type": "code",
   "execution_count": 3,
   "metadata": {},
   "outputs": [],
   "source": [
    "L = [random.randint(0,100) for i in range(100)]"
   ]
  },
  {
   "cell_type": "code",
   "execution_count": 4,
   "metadata": {},
   "outputs": [
    {
     "output_type": "stream",
     "name": "stdout",
     "text": [
      "[3, 33, 4, 24, 21, 60, 35, 2, 68, 23, 8, 77, 51, 36, 63, 26, 83, 72, 9, 20, 48, 25, 38, 11, 67, 15, 24, 1, 95, 33, 82, 84, 64, 88, 94, 97, 49, 89, 73, 10, 58, 23, 10, 85, 45, 58, 64, 12, 46, 42, 3, 45, 19, 9, 52, 68, 65, 41, 11, 25, 74, 72, 83, 47, 100, 8, 25, 92, 63, 98, 38, 19, 89, 19, 10, 28, 31, 88, 26, 97, 45, 86, 29, 86, 4, 39, 43, 88, 24, 26, 34, 13, 53, 60, 53, 32, 43, 24, 57, 80]\n"
     ]
    }
   ],
   "source": [
    "print(L)"
   ]
  },
  {
   "cell_type": "code",
   "execution_count": 16,
   "metadata": {},
   "outputs": [],
   "source": [
    "train, test = get_train_test(L, 20, V=10, S=True)"
   ]
  },
  {
   "cell_type": "code",
   "execution_count": 17,
   "metadata": {},
   "outputs": [
    {
     "output_type": "stream",
     "name": "stdout",
     "text": [
      "[88, 24, 88, 39, 83, 72, 41, 57, 11, 25, 10, 80, 25, 42, 53, 65, 34, 89, 4, 8, 3, 43, 73, 38, 58, 64, 26, 45, 23, 24, 46, 86, 19, 86, 47, 98, 74, 89, 53, 68, 10, 10, 19, 94, 63, 9, 29, 13, 32, 28, 64, 60, 45, 52, 97, 84, 85, 31, 97, 100, 92, 26, 12, 88, 82, 19, 45, 49, 58, 43]\n"
     ]
    }
   ],
   "source": [
    "print(train[0])"
   ]
  },
  {
   "cell_type": "code",
   "execution_count": 18,
   "metadata": {},
   "outputs": [
    {
     "output_type": "stream",
     "name": "stdout",
     "text": [
      "[95, 48, 1, 15, 25, 38, 33, 11, 67, 24]\n"
     ]
    }
   ],
   "source": [
    "print(train[1])"
   ]
  },
  {
   "cell_type": "code",
   "execution_count": 19,
   "metadata": {},
   "outputs": [
    {
     "output_type": "stream",
     "name": "stdout",
     "text": [
      "[2, 23, 20, 3, 33, 68, 24, 51, 4, 63, 83, 77, 72, 8, 9, 35, 36, 21, 26, 60]\n"
     ]
    }
   ],
   "source": [
    "print(test)"
   ]
  },
  {
   "cell_type": "code",
   "execution_count": 20,
   "metadata": {},
   "outputs": [
    {
     "output_type": "execute_result",
     "data": {
      "text/plain": [
       "20"
      ]
     },
     "metadata": {},
     "execution_count": 20
    }
   ],
   "source": [
    "len(test)"
   ]
  },
  {
   "cell_type": "code",
   "execution_count": 21,
   "metadata": {},
   "outputs": [],
   "source": [
    "# PARTE 2.\n",
    "def get_train_test_2(L, T, V=0, S=False):\n",
    "\n",
    "    if len(L) > 1:   # Comprobamos si L > 1\n",
    "        # Se calcula la posición relativa de test en la lista.\n",
    "        t_pos = round(len(L) * (T/100))    \n",
    "        list_test = L[:t_pos]\n",
    "        list_val = []\n",
    "        # Se calcula la posición relativa de val en la lista\n",
    "        if V > 0:\n",
    "            v_pos = t_pos + round(len(L) * (V/100))    \n",
    "            list_val = L[t_pos:v_pos]\n",
    "            # Lista train a partir de la posición v_pos.\n",
    "            list_train = L[v_pos:]               \n",
    "        else:\n",
    "            # Lista train a partir de la posición t_pos (V=0).\n",
    "            list_train = L[t_pos:]               \n",
    "\n",
    "        # Si S=True se realiza un shuffle.\n",
    "        if S:\n",
    "            random.shuffle(list_train)\n",
    "            random.shuffle(list_val)\n",
    "            random.shuffle(list_test)\n",
    "        \n",
    "    return list_train, list_val, list_test"
   ]
  },
  {
   "cell_type": "code",
   "execution_count": 22,
   "metadata": {},
   "outputs": [],
   "source": [
    "train, val, test = get_train_test_2(L, 20, V=10)"
   ]
  },
  {
   "cell_type": "code",
   "execution_count": 23,
   "metadata": {},
   "outputs": [
    {
     "output_type": "stream",
     "name": "stdout",
     "text": [
      "[82, 84, 64, 88, 94, 97, 49, 89, 73, 10, 58, 23, 10, 85, 45, 58, 64, 12, 46, 42, 3, 45, 19, 9, 52, 68, 65, 41, 11, 25, 74, 72, 83, 47, 100, 8, 25, 92, 63, 98, 38, 19, 89, 19, 10, 28, 31, 88, 26, 97, 45, 86, 29, 86, 4, 39, 43, 88, 24, 26, 34, 13, 53, 60, 53, 32, 43, 24, 57, 80]\n"
     ]
    }
   ],
   "source": [
    "print(train)"
   ]
  },
  {
   "cell_type": "code",
   "execution_count": 24,
   "metadata": {},
   "outputs": [
    {
     "output_type": "stream",
     "name": "stdout",
     "text": [
      "[48, 25, 38, 11, 67, 15, 24, 1, 95, 33]\n"
     ]
    }
   ],
   "source": [
    "print(val)"
   ]
  },
  {
   "cell_type": "code",
   "execution_count": 25,
   "metadata": {},
   "outputs": [
    {
     "output_type": "stream",
     "name": "stdout",
     "text": [
      "[3, 33, 4, 24, 21, 60, 35, 2, 68, 23, 8, 77, 51, 36, 63, 26, 83, 72, 9, 20]\n"
     ]
    }
   ],
   "source": [
    "print(test)"
   ]
  },
  {
   "cell_type": "code",
   "execution_count": null,
   "metadata": {},
   "outputs": [],
   "source": []
  }
 ]
}