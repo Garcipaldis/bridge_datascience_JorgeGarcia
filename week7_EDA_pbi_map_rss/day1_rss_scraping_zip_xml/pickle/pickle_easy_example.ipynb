{
 "metadata": {
  "language_info": {
   "codemirror_mode": {
    "name": "ipython",
    "version": 3
   },
   "file_extension": ".py",
   "mimetype": "text/x-python",
   "name": "python",
   "nbconvert_exporter": "python",
   "pygments_lexer": "ipython3",
   "version": "3.7.4"
  },
  "orig_nbformat": 2,
  "kernelspec": {
   "name": "python374jvsc74a57bd0674dfd6ded4398e0679ff4f65e9a10a54ff0d14801bec0126172cfc3973d1cf1",
   "display_name": "Python 3.7.4 64-bit"
  },
  "metadata": {
   "interpreter": {
    "hash": "674dfd6ded4398e0679ff4f65e9a10a54ff0d14801bec0126172cfc3973d1cf1"
   }
  }
 },
 "nbformat": 4,
 "nbformat_minor": 2,
 "cells": [
  {
   "source": [
    "!pip3 install pickle"
   ],
   "cell_type": "code",
   "metadata": {},
   "execution_count": null,
   "outputs": []
  },
  {
   "cell_type": "code",
   "execution_count": 1,
   "metadata": {},
   "outputs": [
    {
     "output_type": "execute_result",
     "data": {
      "text/plain": [
       "array([[0.87683937, 0.41277469, 0.17939844, 0.31286285, 0.59692054,\n",
       "        0.55022521, 0.31205172, 0.34838612, 0.82361142, 0.85927542,\n",
       "        0.06976537, 0.70533858, 0.49372402, 0.89740832, 0.16206484,\n",
       "        0.64440195, 0.93431958, 0.55268616, 0.6534263 , 0.11771287,\n",
       "        0.86574312, 0.8543367 , 0.85863185, 0.70617111, 0.83845881,\n",
       "        0.47420464, 0.86480964, 0.05598243, 0.84054107, 0.27442115,\n",
       "        0.87593166, 0.10821427, 0.27513635, 0.65061202, 0.55666507,\n",
       "        0.14806469, 0.53898828, 0.42658976, 0.84995374, 0.43127735,\n",
       "        0.05080689, 0.6063647 , 0.40748916, 0.99218568, 0.50178896,\n",
       "        0.88253777, 0.56284171, 0.46761156, 0.26614427, 0.3741661 ,\n",
       "        0.65980782, 0.24554094, 0.88928584, 0.23084508, 0.2023109 ,\n",
       "        0.12387043, 0.31742824, 0.17858867, 0.07108827, 0.02344141]])"
      ]
     },
     "metadata": {},
     "execution_count": 1
    }
   ],
   "source": [
    "import pickle\n",
    "import numpy as np \n",
    "\n",
    "long_array = np.random.rand(1,60)\n",
    "long_array"
   ]
  },
  {
   "source": [
    "### Guardamos la variable en un fichero"
   ],
   "cell_type": "markdown",
   "metadata": {}
  },
  {
   "cell_type": "code",
   "execution_count": 6,
   "metadata": {},
   "outputs": [],
   "source": [
    "pickle.dump( long_array, open(\"long_array.pepita\", \"wb\" ))"
   ]
  },
  {
   "source": [
    "### Cargamos la variable a partir de un fichero"
   ],
   "cell_type": "markdown",
   "metadata": {}
  },
  {
   "cell_type": "code",
   "execution_count": 7,
   "metadata": {},
   "outputs": [
    {
     "output_type": "execute_result",
     "data": {
      "text/plain": [
       "array([[0.1568862 , 0.29415187, 0.82543136, 0.61948421, 0.67047468,\n",
       "        0.27294081, 0.03479161, 0.36855172, 0.922173  , 0.71733008,\n",
       "        0.07488525, 0.27827534, 0.63461545, 0.82391936, 0.13677972,\n",
       "        0.04159077, 0.40062557, 0.6413302 , 0.87319117, 0.81382776,\n",
       "        0.05635696, 0.58330692, 0.78050168, 0.16527468, 0.75574963,\n",
       "        0.65055388, 0.07384414, 0.72235283, 0.37958457, 0.04414547,\n",
       "        0.77532925, 0.97921744, 0.4378943 , 0.87835118, 0.80679294,\n",
       "        0.56327895, 0.15464994, 0.09801182, 0.59302378, 0.73731345,\n",
       "        0.14984317, 0.52169793, 0.82499471, 0.80667152, 0.77390005,\n",
       "        0.34945011, 0.60206001, 0.97854075, 0.0351598 , 0.13285276,\n",
       "        0.39394127, 0.66218134, 0.85545927, 0.38717323, 0.26826533,\n",
       "        0.2556096 , 0.90183481, 0.34747431, 0.01283061, 0.50610326]])"
      ]
     },
     "metadata": {},
     "execution_count": 7
    }
   ],
   "source": [
    "long_array_loaded = pickle.load(open(\"long_array.pepita\", \"rb\" ))\n",
    "long_array_loaded"
   ]
  },
  {
   "cell_type": "code",
   "execution_count": null,
   "metadata": {},
   "outputs": [],
   "source": []
  }
 ]
}