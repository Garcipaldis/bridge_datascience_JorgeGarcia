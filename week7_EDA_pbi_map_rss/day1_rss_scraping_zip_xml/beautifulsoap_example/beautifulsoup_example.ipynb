{
 "metadata": {
  "language_info": {
   "codemirror_mode": {
    "name": "ipython",
    "version": 3
   },
   "file_extension": ".py",
   "mimetype": "text/x-python",
   "name": "python",
   "nbconvert_exporter": "python",
   "pygments_lexer": "ipython3",
   "version": "3.7.4"
  },
  "orig_nbformat": 2,
  "kernelspec": {
   "name": "python374jvsc74a57bd0674dfd6ded4398e0679ff4f65e9a10a54ff0d14801bec0126172cfc3973d1cf1",
   "display_name": "Python 3.7.4 64-bit"
  },
  "metadata": {
   "interpreter": {
    "hash": "674dfd6ded4398e0679ff4f65e9a10a54ff0d14801bec0126172cfc3973d1cf1"
   }
  }
 },
 "nbformat": 4,
 "nbformat_minor": 2,
 "cells": [
  {
   "source": [
    "## Web scrapping de IMDB"
   ],
   "cell_type": "markdown",
   "metadata": {}
  },
  {
   "cell_type": "code",
   "execution_count": 1,
   "metadata": {},
   "outputs": [
    {
     "output_type": "execute_result",
     "data": {
      "text/plain": [
       "                                        movie_title  year place  \\\n",
       "0                                   Cadena perpetua  1994     1   \n",
       "1                                        El padrino  1972     2   \n",
       "2                              El padrino: Parte II  1974     3   \n",
       "3                               El caballero oscuro  2008     4   \n",
       "4                             12 hombres sin piedad  1957     5   \n",
       "..                                              ...   ...   ...   \n",
       "245  Neon Genesis Evangelion: The End of Evangelion  1997   246   \n",
       "246                                           Anand  1971   247   \n",
       "247            El hombre que mató a Liberty Valance  1962   248   \n",
       "248                                    París, Texas  1984   249   \n",
       "249                                 Trono de sangre  1957   250   \n",
       "\n",
       "                                             star_cast             rating  \\\n",
       "0    Frank Darabont (dir.), Tim Robbins, Morgan Fre...  9.219691125253322   \n",
       "1    Francis Ford Coppola (dir.), Marlon Brando, Al...  9.147505037059322   \n",
       "2    Francis Ford Coppola (dir.), Al Pacino, Robert...  8.979863610152188   \n",
       "3    Christopher Nolan (dir.), Christian Bale, Heat...   8.96968277564464   \n",
       "4        Sidney Lumet (dir.), Henry Fonda, Lee J. Cobb  8.934682662518401   \n",
       "..                                                 ...                ...   \n",
       "245  Hideaki Anno (dir.), Megumi Ogata, Megumi Haya...   8.01841358074252   \n",
       "246  Hrishikesh Mukherjee (dir.), Rajesh Khanna, Am...  8.017917931333276   \n",
       "247        John Ford (dir.), James Stewart, John Wayne  8.017314836407733   \n",
       "248  Wim Wenders (dir.), Harry Dean Stanton, Nastas...  8.017017401075217   \n",
       "249  Akira Kurosawa (dir.), Toshirô Mifune, Minoru ...  8.016940629863043   \n",
       "\n",
       "     vote               link  \n",
       "0    None  /title/tt0111161/  \n",
       "1    None  /title/tt0068646/  \n",
       "2    None  /title/tt0071562/  \n",
       "3    None  /title/tt0468569/  \n",
       "4    None  /title/tt0050083/  \n",
       "..    ...                ...  \n",
       "245  None  /title/tt0169858/  \n",
       "246  None  /title/tt0066763/  \n",
       "247  None  /title/tt0056217/  \n",
       "248  None  /title/tt0087884/  \n",
       "249  None  /title/tt0050613/  \n",
       "\n",
       "[250 rows x 7 columns]"
      ],
      "text/html": "<div>\n<style scoped>\n    .dataframe tbody tr th:only-of-type {\n        vertical-align: middle;\n    }\n\n    .dataframe tbody tr th {\n        vertical-align: top;\n    }\n\n    .dataframe thead th {\n        text-align: right;\n    }\n</style>\n<table border=\"1\" class=\"dataframe\">\n  <thead>\n    <tr style=\"text-align: right;\">\n      <th></th>\n      <th>movie_title</th>\n      <th>year</th>\n      <th>place</th>\n      <th>star_cast</th>\n      <th>rating</th>\n      <th>vote</th>\n      <th>link</th>\n    </tr>\n  </thead>\n  <tbody>\n    <tr>\n      <th>0</th>\n      <td>Cadena perpetua</td>\n      <td>1994</td>\n      <td>1</td>\n      <td>Frank Darabont (dir.), Tim Robbins, Morgan Fre...</td>\n      <td>9.219691125253322</td>\n      <td>None</td>\n      <td>/title/tt0111161/</td>\n    </tr>\n    <tr>\n      <th>1</th>\n      <td>El padrino</td>\n      <td>1972</td>\n      <td>2</td>\n      <td>Francis Ford Coppola (dir.), Marlon Brando, Al...</td>\n      <td>9.147505037059322</td>\n      <td>None</td>\n      <td>/title/tt0068646/</td>\n    </tr>\n    <tr>\n      <th>2</th>\n      <td>El padrino: Parte II</td>\n      <td>1974</td>\n      <td>3</td>\n      <td>Francis Ford Coppola (dir.), Al Pacino, Robert...</td>\n      <td>8.979863610152188</td>\n      <td>None</td>\n      <td>/title/tt0071562/</td>\n    </tr>\n    <tr>\n      <th>3</th>\n      <td>El caballero oscuro</td>\n      <td>2008</td>\n      <td>4</td>\n      <td>Christopher Nolan (dir.), Christian Bale, Heat...</td>\n      <td>8.96968277564464</td>\n      <td>None</td>\n      <td>/title/tt0468569/</td>\n    </tr>\n    <tr>\n      <th>4</th>\n      <td>12 hombres sin piedad</td>\n      <td>1957</td>\n      <td>5</td>\n      <td>Sidney Lumet (dir.), Henry Fonda, Lee J. Cobb</td>\n      <td>8.934682662518401</td>\n      <td>None</td>\n      <td>/title/tt0050083/</td>\n    </tr>\n    <tr>\n      <th>...</th>\n      <td>...</td>\n      <td>...</td>\n      <td>...</td>\n      <td>...</td>\n      <td>...</td>\n      <td>...</td>\n      <td>...</td>\n    </tr>\n    <tr>\n      <th>245</th>\n      <td>Neon Genesis Evangelion: The End of Evangelion</td>\n      <td>1997</td>\n      <td>246</td>\n      <td>Hideaki Anno (dir.), Megumi Ogata, Megumi Haya...</td>\n      <td>8.01841358074252</td>\n      <td>None</td>\n      <td>/title/tt0169858/</td>\n    </tr>\n    <tr>\n      <th>246</th>\n      <td>Anand</td>\n      <td>1971</td>\n      <td>247</td>\n      <td>Hrishikesh Mukherjee (dir.), Rajesh Khanna, Am...</td>\n      <td>8.017917931333276</td>\n      <td>None</td>\n      <td>/title/tt0066763/</td>\n    </tr>\n    <tr>\n      <th>247</th>\n      <td>El hombre que mató a Liberty Valance</td>\n      <td>1962</td>\n      <td>248</td>\n      <td>John Ford (dir.), James Stewart, John Wayne</td>\n      <td>8.017314836407733</td>\n      <td>None</td>\n      <td>/title/tt0056217/</td>\n    </tr>\n    <tr>\n      <th>248</th>\n      <td>París, Texas</td>\n      <td>1984</td>\n      <td>249</td>\n      <td>Wim Wenders (dir.), Harry Dean Stanton, Nastas...</td>\n      <td>8.017017401075217</td>\n      <td>None</td>\n      <td>/title/tt0087884/</td>\n    </tr>\n    <tr>\n      <th>249</th>\n      <td>Trono de sangre</td>\n      <td>1957</td>\n      <td>250</td>\n      <td>Akira Kurosawa (dir.), Toshirô Mifune, Minoru ...</td>\n      <td>8.016940629863043</td>\n      <td>None</td>\n      <td>/title/tt0050613/</td>\n    </tr>\n  </tbody>\n</table>\n<p>250 rows × 7 columns</p>\n</div>"
     },
     "metadata": {},
     "execution_count": 1
    }
   ],
   "source": [
    "from bs4 import BeautifulSoup\n",
    "import requests\n",
    "import re\n",
    "import pandas as pd\n",
    "\n",
    "# Download IMDB's Top 250 data\n",
    "url = 'http://www.imdb.com/chart/top'\n",
    "response = requests.get(url)\n",
    "soup = BeautifulSoup(response.text, 'lxml')\n",
    "\n",
    "movies = soup.select('td.titleColumn')\n",
    "links = [a.attrs.get('href') for a in soup.select('td.titleColumn a')]\n",
    "crew = [a.attrs.get('title') for a in soup.select('td.titleColumn a')]\n",
    "ratings = [b.attrs.get('data-value') for b in soup.select('td.posterColumn span[name=ir]')]\n",
    "votes = [b.attrs.get('data-value') for b in soup.select('td.ratingColumn strong')]\n",
    "\n",
    "imdb = []\n",
    "\n",
    "# Store each item into dictionary (data), then put those into a list (imdb)\n",
    "for index in range(0, len(movies)):\n",
    "    # Seperate movie into: 'place', 'title', 'year'\n",
    "    movie_string = movies[index].get_text()\n",
    "    movie = (' '.join(movie_string.split()).replace('.', ''))\n",
    "    movie_title = movie[len(str(index))+1:-7]\n",
    "    year = re.search('\\((.*?)\\)', movie_string).group(1)\n",
    "    place = movie[:len(str(index))-(len(movie))]\n",
    "    data = {\"movie_title\": movie_title,\n",
    "            \"year\": year,\n",
    "            \"place\": place,\n",
    "            \"star_cast\": crew[index],\n",
    "            \"rating\": ratings[index],\n",
    "            \"vote\": votes[index],\n",
    "            \"link\": links[index]}\n",
    "    imdb.append(data)\n",
    "df = pd.DataFrame(imdb)\n",
    "df"
   ]
  },
  {
   "cell_type": "code",
   "execution_count": 2,
   "metadata": {},
   "outputs": [
    {
     "output_type": "execute_result",
     "data": {
      "text/plain": [
       "                                         movie_title  year place  \\\n",
       "0                                    Cadena perpetua  1994     1   \n",
       "1                                         El padrino  1972     2   \n",
       "2                               El padrino: Parte II  1974     3   \n",
       "3                                El caballero oscuro  2008     4   \n",
       "4                              12 hombres sin piedad  1957     5   \n",
       "5                              La lista de Schindler  1993     6   \n",
       "6        El señor de los anillos: El retorno del rey  2003     7   \n",
       "7                                       Pulp Fiction  1994     8   \n",
       "8                         El bueno, el feo y el malo  1966     9   \n",
       "9   El señor de los anillos: La comunidad del anillo  2001     1   \n",
       "\n",
       "                                           star_cast             rating  vote  \\\n",
       "0  Frank Darabont (dir.), Tim Robbins, Morgan Fre...  9.219691125253322  None   \n",
       "1  Francis Ford Coppola (dir.), Marlon Brando, Al...  9.147505037059322  None   \n",
       "2  Francis Ford Coppola (dir.), Al Pacino, Robert...  8.979863610152188  None   \n",
       "3  Christopher Nolan (dir.), Christian Bale, Heat...   8.96968277564464  None   \n",
       "4      Sidney Lumet (dir.), Henry Fonda, Lee J. Cobb  8.934682662518401  None   \n",
       "5  Steven Spielberg (dir.), Liam Neeson, Ralph Fi...   8.90934687292862  None   \n",
       "6  Peter Jackson (dir.), Elijah Wood, Viggo Morte...  8.885142305156142  None   \n",
       "7  Quentin Tarantino (dir.), John Travolta, Uma T...   8.83843466614236  None   \n",
       "8   Sergio Leone (dir.), Clint Eastwood, Eli Wallach   8.78795530841176  None   \n",
       "9    Peter Jackson (dir.), Elijah Wood, Ian McKellen  8.776510629993203  None   \n",
       "\n",
       "                link  \n",
       "0  /title/tt0111161/  \n",
       "1  /title/tt0068646/  \n",
       "2  /title/tt0071562/  \n",
       "3  /title/tt0468569/  \n",
       "4  /title/tt0050083/  \n",
       "5  /title/tt0108052/  \n",
       "6  /title/tt0167260/  \n",
       "7  /title/tt0110912/  \n",
       "8  /title/tt0060196/  \n",
       "9  /title/tt0120737/  "
      ],
      "text/html": "<div>\n<style scoped>\n    .dataframe tbody tr th:only-of-type {\n        vertical-align: middle;\n    }\n\n    .dataframe tbody tr th {\n        vertical-align: top;\n    }\n\n    .dataframe thead th {\n        text-align: right;\n    }\n</style>\n<table border=\"1\" class=\"dataframe\">\n  <thead>\n    <tr style=\"text-align: right;\">\n      <th></th>\n      <th>movie_title</th>\n      <th>year</th>\n      <th>place</th>\n      <th>star_cast</th>\n      <th>rating</th>\n      <th>vote</th>\n      <th>link</th>\n    </tr>\n  </thead>\n  <tbody>\n    <tr>\n      <th>0</th>\n      <td>Cadena perpetua</td>\n      <td>1994</td>\n      <td>1</td>\n      <td>Frank Darabont (dir.), Tim Robbins, Morgan Fre...</td>\n      <td>9.219691125253322</td>\n      <td>None</td>\n      <td>/title/tt0111161/</td>\n    </tr>\n    <tr>\n      <th>1</th>\n      <td>El padrino</td>\n      <td>1972</td>\n      <td>2</td>\n      <td>Francis Ford Coppola (dir.), Marlon Brando, Al...</td>\n      <td>9.147505037059322</td>\n      <td>None</td>\n      <td>/title/tt0068646/</td>\n    </tr>\n    <tr>\n      <th>2</th>\n      <td>El padrino: Parte II</td>\n      <td>1974</td>\n      <td>3</td>\n      <td>Francis Ford Coppola (dir.), Al Pacino, Robert...</td>\n      <td>8.979863610152188</td>\n      <td>None</td>\n      <td>/title/tt0071562/</td>\n    </tr>\n    <tr>\n      <th>3</th>\n      <td>El caballero oscuro</td>\n      <td>2008</td>\n      <td>4</td>\n      <td>Christopher Nolan (dir.), Christian Bale, Heat...</td>\n      <td>8.96968277564464</td>\n      <td>None</td>\n      <td>/title/tt0468569/</td>\n    </tr>\n    <tr>\n      <th>4</th>\n      <td>12 hombres sin piedad</td>\n      <td>1957</td>\n      <td>5</td>\n      <td>Sidney Lumet (dir.), Henry Fonda, Lee J. Cobb</td>\n      <td>8.934682662518401</td>\n      <td>None</td>\n      <td>/title/tt0050083/</td>\n    </tr>\n    <tr>\n      <th>5</th>\n      <td>La lista de Schindler</td>\n      <td>1993</td>\n      <td>6</td>\n      <td>Steven Spielberg (dir.), Liam Neeson, Ralph Fi...</td>\n      <td>8.90934687292862</td>\n      <td>None</td>\n      <td>/title/tt0108052/</td>\n    </tr>\n    <tr>\n      <th>6</th>\n      <td>El señor de los anillos: El retorno del rey</td>\n      <td>2003</td>\n      <td>7</td>\n      <td>Peter Jackson (dir.), Elijah Wood, Viggo Morte...</td>\n      <td>8.885142305156142</td>\n      <td>None</td>\n      <td>/title/tt0167260/</td>\n    </tr>\n    <tr>\n      <th>7</th>\n      <td>Pulp Fiction</td>\n      <td>1994</td>\n      <td>8</td>\n      <td>Quentin Tarantino (dir.), John Travolta, Uma T...</td>\n      <td>8.83843466614236</td>\n      <td>None</td>\n      <td>/title/tt0110912/</td>\n    </tr>\n    <tr>\n      <th>8</th>\n      <td>El bueno, el feo y el malo</td>\n      <td>1966</td>\n      <td>9</td>\n      <td>Sergio Leone (dir.), Clint Eastwood, Eli Wallach</td>\n      <td>8.78795530841176</td>\n      <td>None</td>\n      <td>/title/tt0060196/</td>\n    </tr>\n    <tr>\n      <th>9</th>\n      <td>El señor de los anillos: La comunidad del anillo</td>\n      <td>2001</td>\n      <td>1</td>\n      <td>Peter Jackson (dir.), Elijah Wood, Ian McKellen</td>\n      <td>8.776510629993203</td>\n      <td>None</td>\n      <td>/title/tt0120737/</td>\n    </tr>\n  </tbody>\n</table>\n</div>"
     },
     "metadata": {},
     "execution_count": 2
    }
   ],
   "source": [
    "df.head(10)"
   ]
  }
 ]
}