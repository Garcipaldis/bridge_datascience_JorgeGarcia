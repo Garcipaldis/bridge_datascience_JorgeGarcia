{
 "cells": [
  {
   "cell_type": "markdown",
   "metadata": {},
   "source": [
    "# Archivo XML\n",
    "Un XML está compuesto de tags y atributos. Es posible leer desde un archivo local o a través de una URL mediante librerías como `urllib`."
   ]
  },
  {
   "cell_type": "code",
   "execution_count": 1,
   "metadata": {},
   "outputs": [
    {
     "output_type": "execute_result",
     "data": {
      "text/plain": [
       "<Element 'data' at 0x000002BBB7F88F98>"
      ]
     },
     "metadata": {},
     "execution_count": 1
    }
   ],
   "source": [
    "import xml.etree.ElementTree as ET\n",
    "tree = ET.parse('../data/ejemplo.xml')\n",
    "root = tree.getroot()\n",
    "root"
   ]
  },
  {
   "cell_type": "markdown",
   "metadata": {},
   "source": [
    "Dentro de root, hay n elementos, considerados como los *children* de root. Cada elemento del XML tiene un *tag* y varios atributos en formato clave-valor."
   ]
  },
  {
   "cell_type": "code",
   "execution_count": 2,
   "metadata": {
    "collapsed": true,
    "jupyter": {
     "outputs_hidden": true
    }
   },
   "outputs": [
    {
     "output_type": "stream",
     "name": "stdout",
     "text": [
      "<Element 'country' at 0x000002BBB7F88818>\n",
      "country\n",
      "{'name': 'Liechtenstein'}\n",
      "dict_keys(['name'])\n",
      "Liechtenstein\n",
      "[<Element 'rank' at 0x000002BBB7F8C8B8>, <Element 'year' at 0x000002BBB7F6BC78>, <Element 'gdppc' at 0x000002BBB7F79A98>, <Element 'neighbor' at 0x000002BBB7FCBE58>, <Element 'neighbor' at 0x000002BBB7FCBEA8>]\n",
      "\n",
      "-------\n",
      "\n",
      "<Element 'country' at 0x000002BBB7FCBEF8>\n",
      "country\n",
      "{'name': 'Singapore'}\n",
      "dict_keys(['name'])\n",
      "Singapore\n",
      "[<Element 'rank' at 0x000002BBB7FCBF48>, <Element 'year' at 0x000002BBB7FCBF98>, <Element 'gdppc' at 0x000002BBB7FCF048>, <Element 'neighbor' at 0x000002BBB7FCF098>]\n",
      "\n",
      "-------\n",
      "\n",
      "<Element 'country' at 0x000002BBB7FCF0E8>\n",
      "country\n",
      "{'name': 'Panama'}\n",
      "dict_keys(['name'])\n",
      "Panama\n",
      "[<Element 'rank' at 0x000002BBB7FCF138>, <Element 'year' at 0x000002BBB7FCF188>, <Element 'gdppc' at 0x000002BBB7FCF1D8>, <Element 'neighbor' at 0x000002BBB7FCF228>, <Element 'neighbor' at 0x000002BBB7FCF278>]\n",
      "\n",
      "-------\n",
      "\n",
      "ipykernel_launcher:7: DeprecationWarning: This method will be removed in future versions.  Use 'list(elem)' or iteration over elem instead.\n"
     ]
    }
   ],
   "source": [
    "for child in root:\n",
    "    print(child)\n",
    "    print(child.tag)\n",
    "    print(child.attrib)\n",
    "    print(child.attrib.keys())\n",
    "    print(child.attrib.get('name'))\n",
    "    print(child.getchildren())\n",
    "    print(\"\\n-------\\n\")"
   ]
  },
  {
   "cell_type": "markdown",
   "metadata": {},
   "source": [
    "Para obtener los children de cada línea:"
   ]
  },
  {
   "cell_type": "code",
   "execution_count": 53,
   "metadata": {
    "collapsed": true,
    "jupyter": {
     "outputs_hidden": true
    }
   },
   "outputs": [
    {
     "output_type": "stream",
     "name": "stdout",
     "text": [
      "data\ncountry\nrank\nyear\ngdppc\nneighbor\nneighbor\ncountry\nrank\nyear\ngdppc\nneighbor\ncountry\nrank\nyear\ngdppc\nneighbor\nneighbor\n"
     ]
    }
   ],
   "source": [
    "for node in root.iter():\n",
    "    print(node.tag)"
   ]
  },
  {
   "cell_type": "markdown",
   "metadata": {},
   "source": [
    "Para iterar sobre unos elementos concretos. Podría haber atributos que se llamen igual en diferentes puntos del XML, y quizá ese no es el comportamiento que deseamos. Para filtrar los que nos interesan, usaremos expresiones XPath."
   ]
  },
  {
   "cell_type": "code",
   "execution_count": 54,
   "metadata": {},
   "outputs": [
    {
     "output_type": "stream",
     "name": "stdout",
     "text": [
      "{'name': 'Austria', 'direction': 'E'}\n{'name': 'Switzerland', 'direction': 'W'}\n{'name': 'Malaysia', 'direction': 'N'}\n{'name': 'Costa Rica', 'direction': 'W'}\n{'name': 'Colombia', 'direction': 'E'}\n"
     ]
    }
   ],
   "source": [
    "for neighbor in root.iter('neighbor'):\n",
    "    print(neighbor.attrib)"
   ]
  },
  {
   "cell_type": "markdown",
   "metadata": {},
   "source": [
    "1. `find` para buscar un tag dentro de todo el árbol, incluidos sus hijos.\n",
    "2. `iter` para buscar un tag en un árbol concreto, no en sus hijos.\n",
    "3. `get` para conseguir el valor de un atributo."
   ]
  },
  {
   "cell_type": "code",
   "execution_count": 55,
   "metadata": {},
   "outputs": [
    {
     "output_type": "stream",
     "name": "stdout",
     "text": [
      "rank: 1\nneighbor: <Element 'neighbor' at 0x0000020D953D6F98>\nneighbor.text: None\n\n#######\n\nrank: 4\nneighbor: <Element 'neighbor' at 0x0000020D954C4188>\nneighbor.text: None\n\n#######\n\nrank: 68\nneighbor: <Element 'neighbor' at 0x0000020D954C4318>\nneighbor.text: None\n\n#######\n\n"
     ]
    }
   ],
   "source": [
    "for country in root.findall('country'):\n",
    "    rank = country.find('rank').text\n",
    "    neighbor = country.find('neighbor')\n",
    "    print(\"rank:\", rank)\n",
    "    print(\"neighbor:\", neighbor)\n",
    "    print(\"neighbor.text:\", neighbor.text)\n",
    "    print(\"\\n#######\\n\")"
   ]
  },
  {
   "cell_type": "markdown",
   "metadata": {},
   "source": [
    "También podríamos modificarlo"
   ]
  },
  {
   "cell_type": "code",
   "execution_count": 3,
   "metadata": {},
   "outputs": [],
   "source": [
    "for rank in root.iter('rank'):\n",
    "    new_rank = 999\n",
    "    rank.text = str(new_rank)  # Valor\n",
    "    rank.set('updated', 'yes')  # Atributo"
   ]
  },
  {
   "cell_type": "code",
   "execution_count": 4,
   "metadata": {},
   "outputs": [
    {
     "output_type": "stream",
     "name": "stdout",
     "text": [
      "yes 999\nyes 999\nyes 999\n"
     ]
    }
   ],
   "source": [
    "for country in root.findall('country'):\n",
    "    rank = country.find('rank').text \n",
    "    name = country.find('rank').get('updated') \n",
    "    print(name, rank)"
   ]
  },
  {
   "cell_type": "markdown",
   "metadata": {},
   "source": [
    "O eliminar elementos"
   ]
  },
  {
   "cell_type": "code",
   "execution_count": 58,
   "metadata": {},
   "outputs": [],
   "source": [
    "for country in root.findall('country'):\n",
    "    rank = int(country.find('rank').text)\n",
    "    if rank > 50:\n",
    "        root.remove(country)"
   ]
  },
  {
   "cell_type": "markdown",
   "metadata": {},
   "source": [
    "# XML con RSS\n",
    "RSS es una manera que tienen las páginas web de publicar su contenido. En este caso no es un HTML, ni un CSS como se hace habitualmente, sino que será un XML, con un árbol de tags y distinta información. Páginas que utilizan esto son periódicos, foros o blogs. Permite acceder a los titulares de noticias, tanto de las generales, como de las secciones del periódico, de tal manera que puedas monitorizarlos en una aplicación. Los datos son abiertos y el formato de publicación es XML.\n",
    "\n",
    "En nuestro caso vamos a desarrollar un programa mediante el que recogeremos el RSS del periódico *El Pais* y montaremos una tabla con las principales noticias."
   ]
  },
  {
   "cell_type": "code",
   "execution_count": 29,
   "metadata": {},
   "outputs": [
    {
     "output_type": "execute_result",
     "data": {
      "text/plain": [
       "<xml.etree.ElementTree.ElementTree at 0x20d94ca9748>"
      ]
     },
     "metadata": {},
     "execution_count": 29
    }
   ],
   "source": [
    "from urllib.request import urlopen\n",
    "from xml.etree.ElementTree import parse\n",
    "\n",
    "var_url = urlopen('http://ep00.epimg.net/rss/tags/ultimas_noticias.xml')\n",
    "xmldoc = parse(var_url)\n",
    "xmldoc"
   ]
  },
  {
   "cell_type": "markdown",
   "metadata": {},
   "source": [
    "Enlaces documentación\n",
    "\n",
    "https://docs.python.org/3/library/xml.etree.elementtree.html\n",
    "\n",
    "https://rico-schmidt.name/pymotw-3/xml.etree.ElementTree/parse.html"
   ]
  }
 ],
 "metadata": {
  "kernelspec": {
   "name": "python374jvsc74a57bd0674dfd6ded4398e0679ff4f65e9a10a54ff0d14801bec0126172cfc3973d1cf1",
   "display_name": "Python 3.7.4 64-bit"
  },
  "language_info": {
   "codemirror_mode": {
    "name": "ipython",
    "version": 3
   },
   "file_extension": ".py",
   "mimetype": "text/x-python",
   "name": "python",
   "nbconvert_exporter": "python",
   "pygments_lexer": "ipython3",
   "version": "3.7.4"
  },
  "metadata": {
   "interpreter": {
    "hash": "674dfd6ded4398e0679ff4f65e9a10a54ff0d14801bec0126172cfc3973d1cf1"
   }
  }
 },
 "nbformat": 4,
 "nbformat_minor": 4
}