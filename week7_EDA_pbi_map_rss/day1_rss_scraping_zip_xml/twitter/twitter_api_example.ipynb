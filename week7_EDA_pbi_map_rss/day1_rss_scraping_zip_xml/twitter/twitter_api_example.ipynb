{
 "metadata": {
  "language_info": {
   "codemirror_mode": {
    "name": "ipython",
    "version": 3
   },
   "file_extension": ".py",
   "mimetype": "text/x-python",
   "name": "python",
   "nbconvert_exporter": "python",
   "pygments_lexer": "ipython3",
   "version": "3.7.4"
  },
  "orig_nbformat": 2,
  "kernelspec": {
   "name": "python374jvsc74a57bd0674dfd6ded4398e0679ff4f65e9a10a54ff0d14801bec0126172cfc3973d1cf1",
   "display_name": "Python 3.7.4 64-bit"
  },
  "metadata": {
   "interpreter": {
    "hash": "674dfd6ded4398e0679ff4f65e9a10a54ff0d14801bec0126172cfc3973d1cf1"
   }
  }
 },
 "nbformat": 4,
 "nbformat_minor": 2,
 "cells": [
  {
   "source": [
    "## Acediendo a datos de twitter\n",
    "Para esta demo utilizaremos el paquete [tweepy](https://www.tweepy.org/) para atacar datos de Twitter desde Python.\n",
    "\n",
    "Necesitamos registrarnos en la [web de desarrolladores](https://developer.twitter.com/en/apply-for-access) para obtener unas credenciales."
   ],
   "cell_type": "markdown",
   "metadata": {}
  },
  {
   "cell_type": "code",
   "execution_count": 1,
   "metadata": {},
   "outputs": [
    {
     "output_type": "stream",
     "name": "stderr",
     "text": [
      "\"pip3\" no se reconoce como un comando interno o externo,\nprograma o archivo por lotes ejecutable.\n"
     ]
    }
   ],
   "source": [
    "!pip3 install tweepy"
   ]
  },
  {
   "cell_type": "code",
   "execution_count": null,
   "metadata": {},
   "outputs": [],
   "source": [
    "import tweepy  \n",
    "import time\n",
    "import csv\n",
    "\n",
    "import json\n",
    "\n",
    "with open('twitter_api_credentials_passwords.json') as f:\n",
    "    credentials = json.load(f)\n",
    "\n",
    "# Credenciales de la web de desarroladores\n",
    "access_token = credentials['access_token']  \n",
    "access_token_secret = credentials['access_token_secret']  \n",
    "consumer_key = credentials['api_key']\n",
    "consumer_secret = credentials['api_secret_key'] \n",
    "\n",
    "# Nos autenticamos en la API\n",
    "try:\n",
    "    auth = tweepy.OAuthHandler(consumer_key, consumer_secret)  \n",
    "    auth.set_access_token(access_token, access_token_secret)  \n",
    "    api = tweepy.API(auth, wait_on_rate_limit=True)\n",
    "    print(\"Authentication OK\")\n",
    "except:\n",
    "    print(\"Error during authentication\")"
   ]
  },
  {
   "cell_type": "code",
   "execution_count": null,
   "metadata": {},
   "outputs": [],
   "source": [
    "with open('../data/tweet_covid19.csv', 'a') as csv_file:\n",
    "    #Use csv Writer\n",
    "    csv_writer = csv.writer(csv_file)\n",
    "\n",
    "    for tweet in tweepy.Cursor(api.search,q=\"#COVID19\",count=50,\n",
    "                            lang=\"es\",\n",
    "                            since=\"2020-09-05\").items(50):\n",
    "        \n",
    "        #print(tweet.created_at, tweet.text)\n",
    "        csv_writer.writerow([tweet.created_at, tweet.text.encode('utf-8')])"
   ]
  },
  {
   "cell_type": "code",
   "execution_count": null,
   "metadata": {},
   "outputs": [],
   "source": [
    "pd.read_csv(\"data/tweet_covid19.csv\", header=None)"
   ]
  }
 ]
}