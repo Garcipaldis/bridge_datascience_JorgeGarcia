{
 "cells": [
  {
   "cell_type": "markdown",
   "metadata": {
    "colab_type": "text",
    "id": "zWl5iuMThonQ"
   },
   "source": [
    "# Bajando datos de diferentes fuentes. Ejemplos"
   ]
  },
  {
   "cell_type": "markdown",
   "metadata": {
    "colab_type": "text",
    "id": "G8fjA0nyhonR"
   },
   "source": [
    "## Bajar datos de Bicimad"
   ]
  },
  {
   "cell_type": "code",
   "execution_count": 1,
   "metadata": {
    "colab": {},
    "colab_type": "code",
    "id": "4xGwVDZxhonR"
   },
   "outputs": [],
   "source": [
    "# Importamos librerias\n",
    "import requests\n",
    "import zipfile\n",
    "import pandas as pd"
   ]
  },
  {
   "cell_type": "code",
   "execution_count": 2,
   "metadata": {},
   "outputs": [],
   "source": [
    "url = \"https://pm1.narvii.com/6431/3088a72e09f5f0024926266d8ee1266f9598a1f7_hq.jpg\"\n",
    "respuesta = requests.get(url)"
   ]
  },
  {
   "cell_type": "code",
   "execution_count": 3,
   "metadata": {},
   "outputs": [],
   "source": [
    "with open('data/maestro.jpg', 'wb') as f:\n",
    "    f.write(respuesta.content)"
   ]
  },
  {
   "cell_type": "code",
   "execution_count": 4,
   "metadata": {},
   "outputs": [],
   "source": [
    "filename = 'data/bicis.zip'\n",
    "url = 'https://opendata.emtmadrid.es/getattachment/7517a650-ccdf-4ab1-b1b0-a1d13694472e/201906_Usage_Bicimad.aspx'\n",
    "\n",
    "r = requests.get(url, allow_redirects=True)"
   ]
  },
  {
   "cell_type": "code",
   "execution_count": 5,
   "metadata": {},
   "outputs": [],
   "source": [
    "# Guardamos el zip\n",
    "with open(filename, 'wb') as f:\n",
    "   f.write(r.content)"
   ]
  },
  {
   "cell_type": "code",
   "execution_count": 6,
   "metadata": {
    "colab": {},
    "colab_type": "code",
    "id": "uVRFbVZrhonV"
   },
   "outputs": [],
   "source": [
    "# Extraemos lo que hay dentro\n",
    "with zipfile.ZipFile(filename, 'r') as zip_ref:\n",
    "    zip_ref.extractall(\"data/\")"
   ]
  },
  {
   "cell_type": "code",
   "execution_count": 7,
   "metadata": {
    "colab": {},
    "colab_type": "code",
    "id": "uNGffwephonX"
   },
   "outputs": [],
   "source": [
    "# Leemos los datos\n",
    "datos_bicis = pd.read_json('data/201906_Usage_Bicimad.json',  lines=True, encoding ='latin-1')"
   ]
  },
  {
   "cell_type": "code",
   "execution_count": 8,
   "metadata": {
    "colab": {
     "base_uri": "https://localhost:8080/",
     "height": 309
    },
    "colab_type": "code",
    "id": "CF9u6xluhonZ",
    "outputId": "2e4e08fe-735e-4d35-ced1-2c83fc2fc743"
   },
   "outputs": [
    {
     "output_type": "execute_result",
     "data": {
      "text/plain": [
       "                                    _id  \\\n",
       "0  {'$oid': '5cf83b752f3843a016be4e2f'}   \n",
       "1  {'$oid': '5cf83b762f3843a016be4e48'}   \n",
       "2  {'$oid': '5cf83b762f3843a016be4e4f'}   \n",
       "3  {'$oid': '5cf83b762f3843a016be4e53'}   \n",
       "4  {'$oid': '5cf83b762f3843a016be4e54'}   \n",
       "\n",
       "                                       user_day_code  idplug_base  user_type  \\\n",
       "0  e4d55deb9ac172a8d8f5f0a32599815bd51b7c8760d67e...           21          1   \n",
       "1  8a0c4123e924a50a958f51985eb71aea750fb072438035...           19          1   \n",
       "2  a6a9c1f74a68496000542210abc4fc2eba79e2756ad535...           17          1   \n",
       "3  5706c0bd494acc02279d532821c9666b0e506d4f81c838...            4          1   \n",
       "4  eb1b6d32bd4add5d5ff91af72a38786d61075c090383a5...            3          1   \n",
       "\n",
       "   idunplug_base  travel_time  idunplug_station  ageRange  idplug_station  \\\n",
       "0              8          219                90         0              66   \n",
       "1             19          359                71         4             136   \n",
       "2              7          375                39         4              38   \n",
       "3             21          264                66         5              90   \n",
       "4             13          367               152         4             166   \n",
       "\n",
       "                             unplug_hourTime zip_code track  \n",
       "0  {'$date': '2019-06-01T00:00:00.000+0200'}            NaN  \n",
       "1  {'$date': '2019-06-01T00:00:00.000+0200'}    28039   NaN  \n",
       "2  {'$date': '2019-06-01T00:00:00.000+0200'}    28013   NaN  \n",
       "3  {'$date': '2019-06-01T00:00:00.000+0200'}    28009   NaN  \n",
       "4  {'$date': '2019-06-01T00:00:00.000+0200'}    28006   NaN  "
      ],
      "text/html": "<div>\n<style scoped>\n    .dataframe tbody tr th:only-of-type {\n        vertical-align: middle;\n    }\n\n    .dataframe tbody tr th {\n        vertical-align: top;\n    }\n\n    .dataframe thead th {\n        text-align: right;\n    }\n</style>\n<table border=\"1\" class=\"dataframe\">\n  <thead>\n    <tr style=\"text-align: right;\">\n      <th></th>\n      <th>_id</th>\n      <th>user_day_code</th>\n      <th>idplug_base</th>\n      <th>user_type</th>\n      <th>idunplug_base</th>\n      <th>travel_time</th>\n      <th>idunplug_station</th>\n      <th>ageRange</th>\n      <th>idplug_station</th>\n      <th>unplug_hourTime</th>\n      <th>zip_code</th>\n      <th>track</th>\n    </tr>\n  </thead>\n  <tbody>\n    <tr>\n      <th>0</th>\n      <td>{'$oid': '5cf83b752f3843a016be4e2f'}</td>\n      <td>e4d55deb9ac172a8d8f5f0a32599815bd51b7c8760d67e...</td>\n      <td>21</td>\n      <td>1</td>\n      <td>8</td>\n      <td>219</td>\n      <td>90</td>\n      <td>0</td>\n      <td>66</td>\n      <td>{'$date': '2019-06-01T00:00:00.000+0200'}</td>\n      <td></td>\n      <td>NaN</td>\n    </tr>\n    <tr>\n      <th>1</th>\n      <td>{'$oid': '5cf83b762f3843a016be4e48'}</td>\n      <td>8a0c4123e924a50a958f51985eb71aea750fb072438035...</td>\n      <td>19</td>\n      <td>1</td>\n      <td>19</td>\n      <td>359</td>\n      <td>71</td>\n      <td>4</td>\n      <td>136</td>\n      <td>{'$date': '2019-06-01T00:00:00.000+0200'}</td>\n      <td>28039</td>\n      <td>NaN</td>\n    </tr>\n    <tr>\n      <th>2</th>\n      <td>{'$oid': '5cf83b762f3843a016be4e4f'}</td>\n      <td>a6a9c1f74a68496000542210abc4fc2eba79e2756ad535...</td>\n      <td>17</td>\n      <td>1</td>\n      <td>7</td>\n      <td>375</td>\n      <td>39</td>\n      <td>4</td>\n      <td>38</td>\n      <td>{'$date': '2019-06-01T00:00:00.000+0200'}</td>\n      <td>28013</td>\n      <td>NaN</td>\n    </tr>\n    <tr>\n      <th>3</th>\n      <td>{'$oid': '5cf83b762f3843a016be4e53'}</td>\n      <td>5706c0bd494acc02279d532821c9666b0e506d4f81c838...</td>\n      <td>4</td>\n      <td>1</td>\n      <td>21</td>\n      <td>264</td>\n      <td>66</td>\n      <td>5</td>\n      <td>90</td>\n      <td>{'$date': '2019-06-01T00:00:00.000+0200'}</td>\n      <td>28009</td>\n      <td>NaN</td>\n    </tr>\n    <tr>\n      <th>4</th>\n      <td>{'$oid': '5cf83b762f3843a016be4e54'}</td>\n      <td>eb1b6d32bd4add5d5ff91af72a38786d61075c090383a5...</td>\n      <td>3</td>\n      <td>1</td>\n      <td>13</td>\n      <td>367</td>\n      <td>152</td>\n      <td>4</td>\n      <td>166</td>\n      <td>{'$date': '2019-06-01T00:00:00.000+0200'}</td>\n      <td>28006</td>\n      <td>NaN</td>\n    </tr>\n  </tbody>\n</table>\n</div>"
     },
     "metadata": {},
     "execution_count": 8
    }
   ],
   "source": [
    "# Vemos qué pinta tienen\n",
    "datos_bicis.head()"
   ]
  },
  {
   "cell_type": "markdown",
   "metadata": {},
   "source": [
    "# Acceso a archivos de la pagina de datos.gob.es\n",
    "Uno de los mayores catálogos de información pública descargable en España"
   ]
  },
  {
   "cell_type": "code",
   "execution_count": 9,
   "metadata": {
    "collapsed": true,
    "jupyter": {
     "outputs_hidden": true
    }
   },
   "outputs": [
    {
     "output_type": "execute_result",
     "data": {
      "text/plain": [
       "    Año  Consumo de agua (m3)  Aceites/grasas  (kg)  Pinturas (kg)\n",
       "0  2019                903240                540511          88537\n",
       "1  2018                917605                446983         116778\n",
       "2  2017                923881                452534          96362\n",
       "3  2016                952455                302202         125304\n",
       "4  2015                941651                315302         130003\n",
       "5  2014               1023534                319674         125448\n",
       "6  2013                905703                308904          96946"
      ],
      "text/html": "<div>\n<style scoped>\n    .dataframe tbody tr th:only-of-type {\n        vertical-align: middle;\n    }\n\n    .dataframe tbody tr th {\n        vertical-align: top;\n    }\n\n    .dataframe thead th {\n        text-align: right;\n    }\n</style>\n<table border=\"1\" class=\"dataframe\">\n  <thead>\n    <tr style=\"text-align: right;\">\n      <th></th>\n      <th>Año</th>\n      <th>Consumo de agua (m3)</th>\n      <th>Aceites/grasas  (kg)</th>\n      <th>Pinturas (kg)</th>\n    </tr>\n  </thead>\n  <tbody>\n    <tr>\n      <th>0</th>\n      <td>2019</td>\n      <td>903240</td>\n      <td>540511</td>\n      <td>88537</td>\n    </tr>\n    <tr>\n      <th>1</th>\n      <td>2018</td>\n      <td>917605</td>\n      <td>446983</td>\n      <td>116778</td>\n    </tr>\n    <tr>\n      <th>2</th>\n      <td>2017</td>\n      <td>923881</td>\n      <td>452534</td>\n      <td>96362</td>\n    </tr>\n    <tr>\n      <th>3</th>\n      <td>2016</td>\n      <td>952455</td>\n      <td>302202</td>\n      <td>125304</td>\n    </tr>\n    <tr>\n      <th>4</th>\n      <td>2015</td>\n      <td>941651</td>\n      <td>315302</td>\n      <td>130003</td>\n    </tr>\n    <tr>\n      <th>5</th>\n      <td>2014</td>\n      <td>1023534</td>\n      <td>319674</td>\n      <td>125448</td>\n    </tr>\n    <tr>\n      <th>6</th>\n      <td>2013</td>\n      <td>905703</td>\n      <td>308904</td>\n      <td>96946</td>\n    </tr>\n  </tbody>\n</table>\n</div>"
     },
     "metadata": {},
     "execution_count": 9
    }
   ],
   "source": [
    "url = 'https://data.renfe.com/dataset/928d911e-00ca-437b-be3f-068fc1f97800/resource/63d285e8-9f52-410b-8412-8a8c26f5ddb3/download/consumo-de-agua-y-materiales.csv'\n",
    "datos = pd.read_csv(url, sep=';')\n",
    "datos"
   ]
  },
  {
   "cell_type": "markdown",
   "metadata": {},
   "source": [
    "# OpenStreetMap"
   ]
  },
  {
   "cell_type": "code",
   "execution_count": 10,
   "metadata": {},
   "outputs": [
    {
     "output_type": "stream",
     "name": "stdout",
     "text": [
      "<Response [200]>\n"
     ]
    }
   ],
   "source": [
    "# Amenities\n",
    "# https://wiki.openstreetmap.org/wiki/Key:amenity\n",
    "\n",
    "import requests\n",
    "import json\n",
    "import pandas as pd\n",
    "overpass_url = \"http://overpass-api.de/api/interpreter\"\n",
    "overpass_query = \"\"\"\n",
    "[out:json];\n",
    "node[\"amenity\"=\"restaurant\"]\n",
    "  (40.420801, -3.694702,40.423754, -3.688167); \n",
    "out;\n",
    "\"\"\"\n",
    "response = requests.get(overpass_url, \n",
    "                        params={'data': overpass_query})\n",
    "print(response)\n",
    "data = response.json()"
   ]
  },
  {
   "cell_type": "code",
   "execution_count": 11,
   "metadata": {},
   "outputs": [
    {
     "output_type": "execute_result",
     "data": {
      "text/plain": [
       "dict_keys(['version', 'generator', 'osm3s', 'elements'])"
      ]
     },
     "metadata": {},
     "execution_count": 11
    }
   ],
   "source": [
    "data.keys()"
   ]
  },
  {
   "cell_type": "code",
   "execution_count": 12,
   "metadata": {},
   "outputs": [
    {
     "output_type": "execute_result",
     "data": {
      "text/plain": [
       "0.6"
      ]
     },
     "metadata": {},
     "execution_count": 12
    }
   ],
   "source": [
    "data['version']"
   ]
  },
  {
   "cell_type": "code",
   "execution_count": 13,
   "metadata": {},
   "outputs": [
    {
     "output_type": "execute_result",
     "data": {
      "text/plain": [
       "'Overpass API 0.7.56.9 76e5016d'"
      ]
     },
     "metadata": {},
     "execution_count": 13
    }
   ],
   "source": [
    "data['generator']"
   ]
  },
  {
   "cell_type": "code",
   "execution_count": 14,
   "metadata": {},
   "outputs": [
    {
     "output_type": "execute_result",
     "data": {
      "text/plain": [
       "{'timestamp_osm_base': '2021-05-25T07:40:46Z',\n",
       " 'copyright': 'The data included in this document is from www.openstreetmap.org. The data is made available under ODbL.'}"
      ]
     },
     "metadata": {},
     "execution_count": 14
    }
   ],
   "source": [
    "data['osm3s']"
   ]
  },
  {
   "source": [
    "#### Si puedo fácilmente con pandas:"
   ],
   "cell_type": "markdown",
   "metadata": {}
  },
  {
   "cell_type": "code",
   "execution_count": 15,
   "metadata": {},
   "outputs": [
    {
     "output_type": "execute_result",
     "data": {
      "text/plain": [
       "    type          id        lat       lon  \\\n",
       "0   node   305536401  40.423086 -3.693547   \n",
       "1   node   324580483  40.422607 -3.693256   \n",
       "2   node  3361315181  40.423315 -3.692506   \n",
       "3   node  3425259022  40.421960 -3.694270   \n",
       "4   node  3425259024  40.421956 -3.693905   \n",
       "5   node  3426628963  40.423695 -3.691651   \n",
       "6   node  3426800301  40.421951 -3.693535   \n",
       "7   node  3426800303  40.422266 -3.694097   \n",
       "8   node  3426800308  40.423151 -3.694062   \n",
       "9   node  3426800309  40.423345 -3.692632   \n",
       "10  node  3426800318  40.422441 -3.694220   \n",
       "11  node  3428424428  40.422395 -3.691137   \n",
       "12  node  4307227333  40.421872 -3.690240   \n",
       "13  node  4339113687  40.421130 -3.689796   \n",
       "14  node  4447160292  40.423600 -3.693725   \n",
       "15  node  4596780491  40.422379 -3.689518   \n",
       "16  node  4602972001  40.422151 -3.690570   \n",
       "17  node  4688479045  40.422777 -3.689781   \n",
       "18  node  4703448419  40.422991 -3.693652   \n",
       "19  node  4703448421  40.422255 -3.694251   \n",
       "20  node  4778747542  40.422576 -3.694493   \n",
       "21  node  4778747545  40.422081 -3.690748   \n",
       "22  node  4778747546  40.421821 -3.689824   \n",
       "23  node  4885056598  40.420818 -3.688803   \n",
       "24  node  5068790959  40.422809 -3.694127   \n",
       "25  node  5622545022  40.422426 -3.693418   \n",
       "26  node  6684049135  40.422211 -3.690702   \n",
       "27  node  6806382285  40.422235 -3.690743   \n",
       "\n",
       "                                                 tags  \n",
       "0   {'amenity': 'restaurant', 'name': 'La Castafio...  \n",
       "1   {'amenity': 'restaurant', 'cuisine': 'japanese...  \n",
       "2   {'addr:city': 'Madrid', 'addr:housenumber': '1...  \n",
       "3   {'amenity': 'restaurant', 'name': 'La Kitchen'...  \n",
       "4   {'addr:city': 'Madrid', 'addr:housenumber': '9...  \n",
       "5    {'amenity': 'restaurant', 'name': 'Café Espejo'}  \n",
       "6   {'addr:city': 'Madrid', 'addr:housenumber': '1...  \n",
       "7   {'addr:city': 'Madrid', 'addr:housenumber': '4...  \n",
       "8   {'amenity': 'restaurant', 'name': 'El Cano de ...  \n",
       "9   {'addr:city': 'Madrid', 'addr:housenumber': '1...  \n",
       "10  {'addr:city': 'Madrid', 'addr:housenumber': '1...  \n",
       "11  {'amenity': 'restaurant', 'contact:website': '...  \n",
       "12        {'amenity': 'restaurant', 'name': 'Banzai'}  \n",
       "13  {'amenity': 'restaurant', 'cuisine': 'japanese...  \n",
       "14  {'addr:city': 'Madrid', 'addr:country': 'ES', ...  \n",
       "15  {'addr:housenumber': '2', 'addr:street': 'Call...  \n",
       "16  {'amenity': 'restaurant', 'cuisine': 'arab', '...  \n",
       "17  {'addr:city': 'Madrid', 'addr:housenumber': '2...  \n",
       "18  {'addr:city': 'Madrid', 'addr:housenumber': '6...  \n",
       "19  {'addr:city': 'Madrid', 'addr:housenumber': '3...  \n",
       "20  {'addr:city': 'Madrid', 'addr:housenumber': '1...  \n",
       "21  {'addr:city': 'Madrid', 'addr:housenumber': '4...  \n",
       "22  {'addr:city': 'Madrid', 'addr:housenumber': '1...  \n",
       "23  {'addr:city': 'Madrid', 'addr:country': 'ES', ...  \n",
       "24  {'amenity': 'restaurant', 'name': 'Restaurante...  \n",
       "25  {'addr:housenumber': '20', 'addr:street': 'Cal...  \n",
       "26  {'amenity': 'restaurant', 'name': 'Pelotari', ...  \n",
       "27   {'amenity': 'restaurant', 'name': 'El Pelotari'}  "
      ],
      "text/html": "<div>\n<style scoped>\n    .dataframe tbody tr th:only-of-type {\n        vertical-align: middle;\n    }\n\n    .dataframe tbody tr th {\n        vertical-align: top;\n    }\n\n    .dataframe thead th {\n        text-align: right;\n    }\n</style>\n<table border=\"1\" class=\"dataframe\">\n  <thead>\n    <tr style=\"text-align: right;\">\n      <th></th>\n      <th>type</th>\n      <th>id</th>\n      <th>lat</th>\n      <th>lon</th>\n      <th>tags</th>\n    </tr>\n  </thead>\n  <tbody>\n    <tr>\n      <th>0</th>\n      <td>node</td>\n      <td>305536401</td>\n      <td>40.423086</td>\n      <td>-3.693547</td>\n      <td>{'amenity': 'restaurant', 'name': 'La Castafio...</td>\n    </tr>\n    <tr>\n      <th>1</th>\n      <td>node</td>\n      <td>324580483</td>\n      <td>40.422607</td>\n      <td>-3.693256</td>\n      <td>{'amenity': 'restaurant', 'cuisine': 'japanese...</td>\n    </tr>\n    <tr>\n      <th>2</th>\n      <td>node</td>\n      <td>3361315181</td>\n      <td>40.423315</td>\n      <td>-3.692506</td>\n      <td>{'addr:city': 'Madrid', 'addr:housenumber': '1...</td>\n    </tr>\n    <tr>\n      <th>3</th>\n      <td>node</td>\n      <td>3425259022</td>\n      <td>40.421960</td>\n      <td>-3.694270</td>\n      <td>{'amenity': 'restaurant', 'name': 'La Kitchen'...</td>\n    </tr>\n    <tr>\n      <th>4</th>\n      <td>node</td>\n      <td>3425259024</td>\n      <td>40.421956</td>\n      <td>-3.693905</td>\n      <td>{'addr:city': 'Madrid', 'addr:housenumber': '9...</td>\n    </tr>\n    <tr>\n      <th>5</th>\n      <td>node</td>\n      <td>3426628963</td>\n      <td>40.423695</td>\n      <td>-3.691651</td>\n      <td>{'amenity': 'restaurant', 'name': 'Café Espejo'}</td>\n    </tr>\n    <tr>\n      <th>6</th>\n      <td>node</td>\n      <td>3426800301</td>\n      <td>40.421951</td>\n      <td>-3.693535</td>\n      <td>{'addr:city': 'Madrid', 'addr:housenumber': '1...</td>\n    </tr>\n    <tr>\n      <th>7</th>\n      <td>node</td>\n      <td>3426800303</td>\n      <td>40.422266</td>\n      <td>-3.694097</td>\n      <td>{'addr:city': 'Madrid', 'addr:housenumber': '4...</td>\n    </tr>\n    <tr>\n      <th>8</th>\n      <td>node</td>\n      <td>3426800308</td>\n      <td>40.423151</td>\n      <td>-3.694062</td>\n      <td>{'amenity': 'restaurant', 'name': 'El Cano de ...</td>\n    </tr>\n    <tr>\n      <th>9</th>\n      <td>node</td>\n      <td>3426800309</td>\n      <td>40.423345</td>\n      <td>-3.692632</td>\n      <td>{'addr:city': 'Madrid', 'addr:housenumber': '1...</td>\n    </tr>\n    <tr>\n      <th>10</th>\n      <td>node</td>\n      <td>3426800318</td>\n      <td>40.422441</td>\n      <td>-3.694220</td>\n      <td>{'addr:city': 'Madrid', 'addr:housenumber': '1...</td>\n    </tr>\n    <tr>\n      <th>11</th>\n      <td>node</td>\n      <td>3428424428</td>\n      <td>40.422395</td>\n      <td>-3.691137</td>\n      <td>{'amenity': 'restaurant', 'contact:website': '...</td>\n    </tr>\n    <tr>\n      <th>12</th>\n      <td>node</td>\n      <td>4307227333</td>\n      <td>40.421872</td>\n      <td>-3.690240</td>\n      <td>{'amenity': 'restaurant', 'name': 'Banzai'}</td>\n    </tr>\n    <tr>\n      <th>13</th>\n      <td>node</td>\n      <td>4339113687</td>\n      <td>40.421130</td>\n      <td>-3.689796</td>\n      <td>{'amenity': 'restaurant', 'cuisine': 'japanese...</td>\n    </tr>\n    <tr>\n      <th>14</th>\n      <td>node</td>\n      <td>4447160292</td>\n      <td>40.423600</td>\n      <td>-3.693725</td>\n      <td>{'addr:city': 'Madrid', 'addr:country': 'ES', ...</td>\n    </tr>\n    <tr>\n      <th>15</th>\n      <td>node</td>\n      <td>4596780491</td>\n      <td>40.422379</td>\n      <td>-3.689518</td>\n      <td>{'addr:housenumber': '2', 'addr:street': 'Call...</td>\n    </tr>\n    <tr>\n      <th>16</th>\n      <td>node</td>\n      <td>4602972001</td>\n      <td>40.422151</td>\n      <td>-3.690570</td>\n      <td>{'amenity': 'restaurant', 'cuisine': 'arab', '...</td>\n    </tr>\n    <tr>\n      <th>17</th>\n      <td>node</td>\n      <td>4688479045</td>\n      <td>40.422777</td>\n      <td>-3.689781</td>\n      <td>{'addr:city': 'Madrid', 'addr:housenumber': '2...</td>\n    </tr>\n    <tr>\n      <th>18</th>\n      <td>node</td>\n      <td>4703448419</td>\n      <td>40.422991</td>\n      <td>-3.693652</td>\n      <td>{'addr:city': 'Madrid', 'addr:housenumber': '6...</td>\n    </tr>\n    <tr>\n      <th>19</th>\n      <td>node</td>\n      <td>4703448421</td>\n      <td>40.422255</td>\n      <td>-3.694251</td>\n      <td>{'addr:city': 'Madrid', 'addr:housenumber': '3...</td>\n    </tr>\n    <tr>\n      <th>20</th>\n      <td>node</td>\n      <td>4778747542</td>\n      <td>40.422576</td>\n      <td>-3.694493</td>\n      <td>{'addr:city': 'Madrid', 'addr:housenumber': '1...</td>\n    </tr>\n    <tr>\n      <th>21</th>\n      <td>node</td>\n      <td>4778747545</td>\n      <td>40.422081</td>\n      <td>-3.690748</td>\n      <td>{'addr:city': 'Madrid', 'addr:housenumber': '4...</td>\n    </tr>\n    <tr>\n      <th>22</th>\n      <td>node</td>\n      <td>4778747546</td>\n      <td>40.421821</td>\n      <td>-3.689824</td>\n      <td>{'addr:city': 'Madrid', 'addr:housenumber': '1...</td>\n    </tr>\n    <tr>\n      <th>23</th>\n      <td>node</td>\n      <td>4885056598</td>\n      <td>40.420818</td>\n      <td>-3.688803</td>\n      <td>{'addr:city': 'Madrid', 'addr:country': 'ES', ...</td>\n    </tr>\n    <tr>\n      <th>24</th>\n      <td>node</td>\n      <td>5068790959</td>\n      <td>40.422809</td>\n      <td>-3.694127</td>\n      <td>{'amenity': 'restaurant', 'name': 'Restaurante...</td>\n    </tr>\n    <tr>\n      <th>25</th>\n      <td>node</td>\n      <td>5622545022</td>\n      <td>40.422426</td>\n      <td>-3.693418</td>\n      <td>{'addr:housenumber': '20', 'addr:street': 'Cal...</td>\n    </tr>\n    <tr>\n      <th>26</th>\n      <td>node</td>\n      <td>6684049135</td>\n      <td>40.422211</td>\n      <td>-3.690702</td>\n      <td>{'amenity': 'restaurant', 'name': 'Pelotari', ...</td>\n    </tr>\n    <tr>\n      <th>27</th>\n      <td>node</td>\n      <td>6806382285</td>\n      <td>40.422235</td>\n      <td>-3.690743</td>\n      <td>{'amenity': 'restaurant', 'name': 'El Pelotari'}</td>\n    </tr>\n  </tbody>\n</table>\n</div>"
     },
     "metadata": {},
     "execution_count": 15
    }
   ],
   "source": [
    "pd.DataFrame(data['elements'])"
   ]
  },
  {
   "source": [
    "#### Si NO puedo fácilmente con pandas:"
   ],
   "cell_type": "markdown",
   "metadata": {}
  },
  {
   "cell_type": "code",
   "execution_count": 17,
   "metadata": {
    "collapsed": true,
    "jupyter": {
     "outputs_hidden": true
    }
   },
   "outputs": [
    {
     "output_type": "execute_result",
     "data": {
      "text/plain": [
       "\"{'version': 0.6, 'generator': 'Overpass API 0.7.56.9 76e5016d', 'osm3s': {'timestamp_osm_base': '2021-05-24T21:27:42Z', 'copyright': 'The data included in this document is from www.openstreetmap.org. The data is made available under ODbL.'}, 'elements': [{'type': 'node', 'id': 305536401, 'lat': 40.4230858, 'lon': -3.6935468, 'tags': {'amenity': 'restaurant', 'name': 'La Castafiore'}}, {'type': 'no\""
      ]
     },
     "metadata": {},
     "execution_count": 17
    }
   ],
   "source": [
    "str(data)[:400]"
   ]
  },
  {
   "cell_type": "code",
   "execution_count": 16,
   "metadata": {},
   "outputs": [
    {
     "output_type": "execute_result",
     "data": {
      "text/plain": [
       "          lat       lon              name  \\\n",
       "0   40.423315 -3.692506            Ainhoa   \n",
       "1   40.421956 -3.693905      En La Gloria   \n",
       "2   40.421951 -3.693535             Tampu   \n",
       "3   40.422266 -3.694097        Casa Gades   \n",
       "4   40.423345 -3.692632     El Gato Persa   \n",
       "5   40.422441 -3.694220  Cannibal Raw Bar   \n",
       "6   40.423600 -3.693725              Luke   \n",
       "7   40.422379 -3.689518            Flavia   \n",
       "8   40.422777 -3.689781    SQD Meat Point   \n",
       "9   40.422991 -3.693652       Noteolvides   \n",
       "10  40.422255 -3.694251             Merci   \n",
       "11  40.422576 -3.694493        Mortadella   \n",
       "12  40.422081 -3.690748   New York Burger   \n",
       "13  40.421821 -3.689824           Mestizo   \n",
       "14  40.420818 -3.688803        Sushi Shop   \n",
       "15  40.422426 -3.693418          Delirant   \n",
       "\n",
       "                                 address  \n",
       "0   Calle de Doña Bárbara de Braganza 12  \n",
       "1                        Calle de Prim 9  \n",
       "2                       Calle de Prim 13  \n",
       "3           Calle del Conde de Xiquena 4  \n",
       "4   Calle de Doña Bárbara de Braganza 10  \n",
       "5                 Calle del Almirante 12  \n",
       "6    Calle de Doña Bárbara de Braganza 2  \n",
       "7           Calle de Gil de Santivañes 2  \n",
       "8                  Calle de Villanueva 2  \n",
       "9      Calle del Marqués de Monasterio 6  \n",
       "10          Calle del Conde de Xiquena 3  \n",
       "11                Calle del Almirante 11  \n",
       "12                  Calle de Recoletos 4  \n",
       "13                 Calle de Recoletos 13  \n",
       "14                    Calle de Serrano 1  \n",
       "15                Calle del Almirante 20  "
      ],
      "text/html": "<div>\n<style scoped>\n    .dataframe tbody tr th:only-of-type {\n        vertical-align: middle;\n    }\n\n    .dataframe tbody tr th {\n        vertical-align: top;\n    }\n\n    .dataframe thead th {\n        text-align: right;\n    }\n</style>\n<table border=\"1\" class=\"dataframe\">\n  <thead>\n    <tr style=\"text-align: right;\">\n      <th></th>\n      <th>lat</th>\n      <th>lon</th>\n      <th>name</th>\n      <th>address</th>\n    </tr>\n  </thead>\n  <tbody>\n    <tr>\n      <th>0</th>\n      <td>40.423315</td>\n      <td>-3.692506</td>\n      <td>Ainhoa</td>\n      <td>Calle de Doña Bárbara de Braganza 12</td>\n    </tr>\n    <tr>\n      <th>1</th>\n      <td>40.421956</td>\n      <td>-3.693905</td>\n      <td>En La Gloria</td>\n      <td>Calle de Prim 9</td>\n    </tr>\n    <tr>\n      <th>2</th>\n      <td>40.421951</td>\n      <td>-3.693535</td>\n      <td>Tampu</td>\n      <td>Calle de Prim 13</td>\n    </tr>\n    <tr>\n      <th>3</th>\n      <td>40.422266</td>\n      <td>-3.694097</td>\n      <td>Casa Gades</td>\n      <td>Calle del Conde de Xiquena 4</td>\n    </tr>\n    <tr>\n      <th>4</th>\n      <td>40.423345</td>\n      <td>-3.692632</td>\n      <td>El Gato Persa</td>\n      <td>Calle de Doña Bárbara de Braganza 10</td>\n    </tr>\n    <tr>\n      <th>5</th>\n      <td>40.422441</td>\n      <td>-3.694220</td>\n      <td>Cannibal Raw Bar</td>\n      <td>Calle del Almirante 12</td>\n    </tr>\n    <tr>\n      <th>6</th>\n      <td>40.423600</td>\n      <td>-3.693725</td>\n      <td>Luke</td>\n      <td>Calle de Doña Bárbara de Braganza 2</td>\n    </tr>\n    <tr>\n      <th>7</th>\n      <td>40.422379</td>\n      <td>-3.689518</td>\n      <td>Flavia</td>\n      <td>Calle de Gil de Santivañes 2</td>\n    </tr>\n    <tr>\n      <th>8</th>\n      <td>40.422777</td>\n      <td>-3.689781</td>\n      <td>SQD Meat Point</td>\n      <td>Calle de Villanueva 2</td>\n    </tr>\n    <tr>\n      <th>9</th>\n      <td>40.422991</td>\n      <td>-3.693652</td>\n      <td>Noteolvides</td>\n      <td>Calle del Marqués de Monasterio 6</td>\n    </tr>\n    <tr>\n      <th>10</th>\n      <td>40.422255</td>\n      <td>-3.694251</td>\n      <td>Merci</td>\n      <td>Calle del Conde de Xiquena 3</td>\n    </tr>\n    <tr>\n      <th>11</th>\n      <td>40.422576</td>\n      <td>-3.694493</td>\n      <td>Mortadella</td>\n      <td>Calle del Almirante 11</td>\n    </tr>\n    <tr>\n      <th>12</th>\n      <td>40.422081</td>\n      <td>-3.690748</td>\n      <td>New York Burger</td>\n      <td>Calle de Recoletos 4</td>\n    </tr>\n    <tr>\n      <th>13</th>\n      <td>40.421821</td>\n      <td>-3.689824</td>\n      <td>Mestizo</td>\n      <td>Calle de Recoletos 13</td>\n    </tr>\n    <tr>\n      <th>14</th>\n      <td>40.420818</td>\n      <td>-3.688803</td>\n      <td>Sushi Shop</td>\n      <td>Calle de Serrano 1</td>\n    </tr>\n    <tr>\n      <th>15</th>\n      <td>40.422426</td>\n      <td>-3.693418</td>\n      <td>Delirant</td>\n      <td>Calle del Almirante 20</td>\n    </tr>\n  </tbody>\n</table>\n</div>"
     },
     "metadata": {},
     "execution_count": 16
    }
   ],
   "source": [
    "elements = data['elements']\n",
    "places = {'lat': [], 'lon': [], 'name': [], 'address': []}\n",
    "\n",
    "for x in elements:\n",
    "    try:\n",
    "        latitude = x.get('lat')\n",
    "        longitude = x['lon']\n",
    "        name = x.get('tags').get('name')\n",
    "        street = x['tags']['addr:street']\n",
    "        number = x['tags']['addr:housenumber']\n",
    "        \n",
    "        places['lat'].append(latitude)\n",
    "        places['lon'].append(longitude)\n",
    "        places['name'].append(name)\n",
    "        places['address'].append(street + ' ' + str(number))\n",
    "    except:\n",
    "        continue\n",
    "\n",
    "df = pd.DataFrame(places)\n",
    "df"
   ]
  },
  {
   "cell_type": "markdown",
   "metadata": {
    "colab_type": "text",
    "id": "GnScDfXghonv"
   },
   "source": [
    "## Bajando datos de la calidad del aire"
   ]
  },
  {
   "cell_type": "markdown",
   "metadata": {
    "colab_type": "text",
    "id": "oQL_gonKhonw"
   },
   "source": [
    "También existe un dataset en Kaggle, pero vamos a ver un ejemplo"
   ]
  },
  {
   "cell_type": "code",
   "execution_count": 17,
   "metadata": {
    "colab": {},
    "colab_type": "code",
    "id": "OPyVBu24honw"
   },
   "outputs": [],
   "source": [
    "import pandas as pd\n",
    "import requests\n",
    "import io\n",
    "import csv\n",
    "\n",
    "url2 = \"http://www.mambiente.munimadrid.es/opendata/horario.csv\"\n",
    "\n",
    "datos = pd.read_csv(url2, sep=\";\")\n"
   ]
  },
  {
   "cell_type": "code",
   "execution_count": 18,
   "metadata": {
    "colab": {},
    "colab_type": "code",
    "id": "GTd8NHDLhony",
    "outputId": "bc75b9c6-cd36-4c39-ab2a-63dca3342e7a"
   },
   "outputs": [
    {
     "output_type": "execute_result",
     "data": {
      "text/plain": [
       "     PROVINCIA  MUNICIPIO  ESTACION  MAGNITUD  PUNTO_MUESTREO   ANO  MES  DIA  \\\n",
       "0           28         79         4         1   28079004_1_38  2021    5   25   \n",
       "1           28         79         4         6   28079004_6_48  2021    5   25   \n",
       "2           28         79         4         7    28079004_7_8  2021    5   25   \n",
       "3           28         79         4         8    28079004_8_8  2021    5   25   \n",
       "4           28         79         4        12   28079004_12_8  2021    5   25   \n",
       "..         ...        ...       ...       ...             ...   ...  ...  ...   \n",
       "130         28         79        60         7    28079060_7_8  2021    5   25   \n",
       "131         28         79        60         8    28079060_8_8  2021    5   25   \n",
       "132         28         79        60        10  28079060_10_47  2021    5   25   \n",
       "133         28         79        60        12   28079060_12_8  2021    5   25   \n",
       "134         28         79        60        14   28079060_14_6  2021    5   25   \n",
       "\n",
       "       H01 V01  ...  H20 V20  H21 V21  H22 V22  H23 V23  H24 V24  \n",
       "0    10.00   V  ...    0   N    0   N    0   N    0   N    0   N  \n",
       "1     0.20   V  ...    0   N    0   N    0   N    0   N    0   N  \n",
       "2     1.00   V  ...    0   N    0   N    0   N    0   N    0   N  \n",
       "3    12.00   V  ...    0   N    0   N    0   N    0   N    0   N  \n",
       "4    13.00   V  ...    0   N    0   N    0   N    0   N    0   N  \n",
       "..     ...  ..  ...  ...  ..  ...  ..  ...  ..  ...  ..  ...  ..  \n",
       "130   1.00   V  ...    0   N    0   N    0   N    0   N    0   N  \n",
       "131  13.00   V  ...    0   N    0   N    0   N    0   N    0   N  \n",
       "132   5.00   V  ...    0   N    0   N    0   N    0   N    0   N  \n",
       "133  14.00   V  ...    0   N    0   N    0   N    0   N    0   N  \n",
       "134  81.38   V  ...    0   N    0   N    0   N    0   N    0   N  \n",
       "\n",
       "[135 rows x 56 columns]"
      ],
      "text/html": "<div>\n<style scoped>\n    .dataframe tbody tr th:only-of-type {\n        vertical-align: middle;\n    }\n\n    .dataframe tbody tr th {\n        vertical-align: top;\n    }\n\n    .dataframe thead th {\n        text-align: right;\n    }\n</style>\n<table border=\"1\" class=\"dataframe\">\n  <thead>\n    <tr style=\"text-align: right;\">\n      <th></th>\n      <th>PROVINCIA</th>\n      <th>MUNICIPIO</th>\n      <th>ESTACION</th>\n      <th>MAGNITUD</th>\n      <th>PUNTO_MUESTREO</th>\n      <th>ANO</th>\n      <th>MES</th>\n      <th>DIA</th>\n      <th>H01</th>\n      <th>V01</th>\n      <th>...</th>\n      <th>H20</th>\n      <th>V20</th>\n      <th>H21</th>\n      <th>V21</th>\n      <th>H22</th>\n      <th>V22</th>\n      <th>H23</th>\n      <th>V23</th>\n      <th>H24</th>\n      <th>V24</th>\n    </tr>\n  </thead>\n  <tbody>\n    <tr>\n      <th>0</th>\n      <td>28</td>\n      <td>79</td>\n      <td>4</td>\n      <td>1</td>\n      <td>28079004_1_38</td>\n      <td>2021</td>\n      <td>5</td>\n      <td>25</td>\n      <td>10.00</td>\n      <td>V</td>\n      <td>...</td>\n      <td>0</td>\n      <td>N</td>\n      <td>0</td>\n      <td>N</td>\n      <td>0</td>\n      <td>N</td>\n      <td>0</td>\n      <td>N</td>\n      <td>0</td>\n      <td>N</td>\n    </tr>\n    <tr>\n      <th>1</th>\n      <td>28</td>\n      <td>79</td>\n      <td>4</td>\n      <td>6</td>\n      <td>28079004_6_48</td>\n      <td>2021</td>\n      <td>5</td>\n      <td>25</td>\n      <td>0.20</td>\n      <td>V</td>\n      <td>...</td>\n      <td>0</td>\n      <td>N</td>\n      <td>0</td>\n      <td>N</td>\n      <td>0</td>\n      <td>N</td>\n      <td>0</td>\n      <td>N</td>\n      <td>0</td>\n      <td>N</td>\n    </tr>\n    <tr>\n      <th>2</th>\n      <td>28</td>\n      <td>79</td>\n      <td>4</td>\n      <td>7</td>\n      <td>28079004_7_8</td>\n      <td>2021</td>\n      <td>5</td>\n      <td>25</td>\n      <td>1.00</td>\n      <td>V</td>\n      <td>...</td>\n      <td>0</td>\n      <td>N</td>\n      <td>0</td>\n      <td>N</td>\n      <td>0</td>\n      <td>N</td>\n      <td>0</td>\n      <td>N</td>\n      <td>0</td>\n      <td>N</td>\n    </tr>\n    <tr>\n      <th>3</th>\n      <td>28</td>\n      <td>79</td>\n      <td>4</td>\n      <td>8</td>\n      <td>28079004_8_8</td>\n      <td>2021</td>\n      <td>5</td>\n      <td>25</td>\n      <td>12.00</td>\n      <td>V</td>\n      <td>...</td>\n      <td>0</td>\n      <td>N</td>\n      <td>0</td>\n      <td>N</td>\n      <td>0</td>\n      <td>N</td>\n      <td>0</td>\n      <td>N</td>\n      <td>0</td>\n      <td>N</td>\n    </tr>\n    <tr>\n      <th>4</th>\n      <td>28</td>\n      <td>79</td>\n      <td>4</td>\n      <td>12</td>\n      <td>28079004_12_8</td>\n      <td>2021</td>\n      <td>5</td>\n      <td>25</td>\n      <td>13.00</td>\n      <td>V</td>\n      <td>...</td>\n      <td>0</td>\n      <td>N</td>\n      <td>0</td>\n      <td>N</td>\n      <td>0</td>\n      <td>N</td>\n      <td>0</td>\n      <td>N</td>\n      <td>0</td>\n      <td>N</td>\n    </tr>\n    <tr>\n      <th>...</th>\n      <td>...</td>\n      <td>...</td>\n      <td>...</td>\n      <td>...</td>\n      <td>...</td>\n      <td>...</td>\n      <td>...</td>\n      <td>...</td>\n      <td>...</td>\n      <td>...</td>\n      <td>...</td>\n      <td>...</td>\n      <td>...</td>\n      <td>...</td>\n      <td>...</td>\n      <td>...</td>\n      <td>...</td>\n      <td>...</td>\n      <td>...</td>\n      <td>...</td>\n      <td>...</td>\n    </tr>\n    <tr>\n      <th>130</th>\n      <td>28</td>\n      <td>79</td>\n      <td>60</td>\n      <td>7</td>\n      <td>28079060_7_8</td>\n      <td>2021</td>\n      <td>5</td>\n      <td>25</td>\n      <td>1.00</td>\n      <td>V</td>\n      <td>...</td>\n      <td>0</td>\n      <td>N</td>\n      <td>0</td>\n      <td>N</td>\n      <td>0</td>\n      <td>N</td>\n      <td>0</td>\n      <td>N</td>\n      <td>0</td>\n      <td>N</td>\n    </tr>\n    <tr>\n      <th>131</th>\n      <td>28</td>\n      <td>79</td>\n      <td>60</td>\n      <td>8</td>\n      <td>28079060_8_8</td>\n      <td>2021</td>\n      <td>5</td>\n      <td>25</td>\n      <td>13.00</td>\n      <td>V</td>\n      <td>...</td>\n      <td>0</td>\n      <td>N</td>\n      <td>0</td>\n      <td>N</td>\n      <td>0</td>\n      <td>N</td>\n      <td>0</td>\n      <td>N</td>\n      <td>0</td>\n      <td>N</td>\n    </tr>\n    <tr>\n      <th>132</th>\n      <td>28</td>\n      <td>79</td>\n      <td>60</td>\n      <td>10</td>\n      <td>28079060_10_47</td>\n      <td>2021</td>\n      <td>5</td>\n      <td>25</td>\n      <td>5.00</td>\n      <td>V</td>\n      <td>...</td>\n      <td>0</td>\n      <td>N</td>\n      <td>0</td>\n      <td>N</td>\n      <td>0</td>\n      <td>N</td>\n      <td>0</td>\n      <td>N</td>\n      <td>0</td>\n      <td>N</td>\n    </tr>\n    <tr>\n      <th>133</th>\n      <td>28</td>\n      <td>79</td>\n      <td>60</td>\n      <td>12</td>\n      <td>28079060_12_8</td>\n      <td>2021</td>\n      <td>5</td>\n      <td>25</td>\n      <td>14.00</td>\n      <td>V</td>\n      <td>...</td>\n      <td>0</td>\n      <td>N</td>\n      <td>0</td>\n      <td>N</td>\n      <td>0</td>\n      <td>N</td>\n      <td>0</td>\n      <td>N</td>\n      <td>0</td>\n      <td>N</td>\n    </tr>\n    <tr>\n      <th>134</th>\n      <td>28</td>\n      <td>79</td>\n      <td>60</td>\n      <td>14</td>\n      <td>28079060_14_6</td>\n      <td>2021</td>\n      <td>5</td>\n      <td>25</td>\n      <td>81.38</td>\n      <td>V</td>\n      <td>...</td>\n      <td>0</td>\n      <td>N</td>\n      <td>0</td>\n      <td>N</td>\n      <td>0</td>\n      <td>N</td>\n      <td>0</td>\n      <td>N</td>\n      <td>0</td>\n      <td>N</td>\n    </tr>\n  </tbody>\n</table>\n<p>135 rows × 56 columns</p>\n</div>"
     },
     "metadata": {},
     "execution_count": 18
    }
   ],
   "source": [
    "datos"
   ]
  },
  {
   "cell_type": "code",
   "execution_count": null,
   "metadata": {},
   "outputs": [],
   "source": []
  }
 ],
 "metadata": {
  "colab": {
   "name": "1-DataAccess.ipynb",
   "provenance": []
  },
  "kernelspec": {
   "name": "python374jvsc74a57bd0674dfd6ded4398e0679ff4f65e9a10a54ff0d14801bec0126172cfc3973d1cf1",
   "display_name": "Python 3.7.4 64-bit"
  },
  "language_info": {
   "codemirror_mode": {
    "name": "ipython",
    "version": 3
   },
   "file_extension": ".py",
   "mimetype": "text/x-python",
   "name": "python",
   "nbconvert_exporter": "python",
   "pygments_lexer": "ipython3",
   "version": "3.7.4"
  },
  "metadata": {
   "interpreter": {
    "hash": "674dfd6ded4398e0679ff4f65e9a10a54ff0d14801bec0126172cfc3973d1cf1"
   }
  }
 },
 "nbformat": 4,
 "nbformat_minor": 4
}