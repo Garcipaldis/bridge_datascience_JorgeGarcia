{
 "metadata": {
  "language_info": {
   "codemirror_mode": {
    "name": "ipython",
    "version": 3
   },
   "file_extension": ".py",
   "mimetype": "text/x-python",
   "name": "python",
   "nbconvert_exporter": "python",
   "pygments_lexer": "ipython3",
   "version": "3.6.4"
  },
  "orig_nbformat": 2,
  "kernelspec": {
   "name": "python3",
   "display_name": "Python 3.6.4 64-bit"
  },
  "interpreter": {
   "hash": "5c4d2f1fdcd3716c7a5eea90ad07be30193490dd4e63617705244f5fd89ea793"
  }
 },
 "nbformat": 4,
 "nbformat_minor": 2,
 "cells": [
  {
   "source": [
    "### ML\n",
    "\n",
    "1. Datos. Detectar el tipo de problema:\n",
    "    - Clasificación (LR, SVC, Knn, Decission Tree C, Random Forest Classificator, ...)\n",
    "    - Regresión (Regresión Lineal, non-linear Polinómica, SVR, Decission Tree Regressor, Ramdon forest Regressor, ...)\n",
    "\n",
    "2. EDA: Data Wrangling: \n",
    "    - ¡¡Crear el modelo baseline¡¡\n",
    "    - WebScraping, API, Json, CSV, BBDD (SQL/NoSQL), WEB\n",
    "    - Correlaciones\n",
    "    - Feature Engineering (Extracción de características): outliers, regex, NaNs, distribuciones, estandarizar, normalizar, encoding (dummies), duplicados, eliminar columnas no relevantes\n",
    "    - Visualizar los datos para entenderlos\n",
    "    - Columnas agregadas: media de otras columnas numéricas\n",
    "    - Ponderaciones de columnas (dar más peso a las columnas más relevantes)\n",
    "    - Eliminar columnas colineales\n",
    "\n",
    "3. Maquetar los datos. Partir los datos en conjunto de entrenamiento y de test. Elegimos un % de train y test y semilla.\n",
    "\n",
    "4. Cross validation --> con el objetivo de saber cómo es el comportamiento de mi modelo para mis datos. \n",
    "\n",
    "5. GridSearch & Pipeline. Recomendación: no probar más 1 algoritmo a la vez. Una variable con el gridsearch por cada algoritmo.\n",
    "\n",
    "6. Nos quedamos con el mejor modelo y probamos el score con el conjunto de TEST. Nos quedamos con el que mejor generalice.\n",
    "\n",
    "7. Guardamos para futuras pruebas y para estar relajados.\n",
    "\n",
    "8. Entrenamos con todos los datos .fit(X, y) y guardamos el modelo entrenado con todos ellos con otro nombre.\n",
    "\n",
    "\n"
   ],
   "cell_type": "markdown",
   "metadata": {}
  }
 ]
}