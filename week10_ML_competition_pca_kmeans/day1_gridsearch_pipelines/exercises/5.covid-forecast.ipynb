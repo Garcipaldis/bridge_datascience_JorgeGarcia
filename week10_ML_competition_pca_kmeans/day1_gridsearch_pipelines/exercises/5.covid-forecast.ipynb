{
 "metadata": {
  "language_info": {
   "codemirror_mode": {
    "name": "ipython",
    "version": 3
   },
   "file_extension": ".py",
   "mimetype": "text/x-python",
   "name": "python",
   "nbconvert_exporter": "python",
   "pygments_lexer": "ipython3",
   "version": 3
  },
  "orig_nbformat": 2
 },
 "nbformat": 4,
 "nbformat_minor": 2,
 "cells": [
  {
   "source": [
    "## 1.\n",
    "\n",
    "*Recogiendo los datos de coronavirus de la página https://ourworldindata.org/coronavirus-source-data* \n",
    "\n",
    "A partir de la letra de tu DNI, elige al país que empieza por dicha letra que más fallecidos tenga. Si el país elegido no está entre el top 20 de fallecidos, elige como país España.\n",
    "\n",
    "En este caso, utilizaremos las columnas:\n",
    "\n",
    "- Nuevos casos\n",
    "- Nuevos fallecidos\n",
    "- Población\n",
    "- Fallecidos totales\n",
    "- Casos totales\n",
    "\n",
    "La fecha debe estar en el índice.\n",
    "\n",
    "1. Representa todas las columnas en un gráfica con diferentes magnitudes en el eje y para su correcta visualización.\n",
    "\n",
    "2. Elimina la columna \"Población\".\n",
    "\n",
    "3. Entrena los algoritmos de regresión que hemos visto hasta ahora para predecir dos columnas por separado: Nuevos casos y Nuevos fallecidos. Este modelo ha de entrenarse siguiendo el esquema recomendado de validación cruzada y almacenando los errores de entrenamiento y validación en cada iteración del entrenamiento. ¿Qué error se comete? ¿crees que los algoritmos de ML vistos hasta ahora son buenos para realizar un forecast de una serie temporal viendo los resultados?\n",
    "\n",
    "4. Representa la evolución de los errores de validación y entrenamiento en una gráfica. ¿Ha habido sobreaprendizaje?. Utiliza n_iteraciones = 23 y n_repeats = 7 para este ejercicio y solo para la columna \"nuevos casos\"."
   ],
   "cell_type": "markdown",
   "metadata": {}
  },
  {
   "cell_type": "code",
   "execution_count": null,
   "metadata": {},
   "outputs": [],
   "source": []
  }
 ]
}