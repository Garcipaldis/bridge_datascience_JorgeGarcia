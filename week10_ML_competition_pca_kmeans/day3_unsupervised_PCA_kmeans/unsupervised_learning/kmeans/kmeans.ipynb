{
 "metadata": {
  "language_info": {
   "codemirror_mode": {
    "name": "ipython",
    "version": 3
   },
   "file_extension": ".py",
   "mimetype": "text/x-python",
   "name": "python",
   "nbconvert_exporter": "python",
   "pygments_lexer": "ipython3",
   "version": "3.6.4"
  },
  "orig_nbformat": 2,
  "kernelspec": {
   "name": "python36464bitc2077ed07ea84d23aa5b518d224882ab",
   "display_name": "Python 3.6.4 64-bit"
  },
  "metadata": {
   "interpreter": {
    "hash": "5c4d2f1fdcd3716c7a5eea90ad07be30193490dd4e63617705244f5fd89ea793"
   }
  }
 },
 "nbformat": 4,
 "nbformat_minor": 2,
 "cells": [
  {
   "cell_type": "code",
   "execution_count": 6,
   "metadata": {},
   "outputs": [
    {
     "output_type": "stream",
     "name": "stdout",
     "text": [
      "X:\n [[ 1  2]\n [ 1  4]\n [ 1  0]\n [10  2]\n [10  4]\n [10  0]]\n\nkmeans.labels_: [1 1 1 0 0 0]\npredict: [1 0]\nkmeans.cluster_centers_:\n [[10.  2.]\n [ 1.  2.]]\n"
     ]
    }
   ],
   "source": [
    "from sklearn.cluster import KMeans\n",
    "import numpy as np\n",
    "X = np.array([[1, 2], [1, 4], [1, 0],[10, 2], [10, 4], [10, 0]])\n",
    "print(\"X:\\n\", X)\n",
    "kmeans = KMeans(n_clusters=2, random_state=0).fit(X)\n",
    "print(\"\\nkmeans.labels_:\", kmeans.labels_)\n",
    "predict = kmeans.predict([[0, 0], [12, 3]])\n",
    "print(\"predict:\", predict)\n",
    "clusters = kmeans.cluster_centers_\n",
    "print(\"kmeans.cluster_centers_:\\n\", clusters)"
   ]
  },
  {
   "cell_type": "code",
   "execution_count": null,
   "metadata": {},
   "outputs": [],
   "source": []
  }
 ]
}