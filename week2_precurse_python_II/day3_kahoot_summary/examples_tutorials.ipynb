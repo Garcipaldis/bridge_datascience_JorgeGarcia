{
 "metadata": {
  "language_info": {
   "codemirror_mode": {
    "name": "ipython",
    "version": 3
   },
   "file_extension": ".py",
   "mimetype": "text/x-python",
   "name": "python",
   "nbconvert_exporter": "python",
   "pygments_lexer": "ipython3",
   "version": "3.6.4-final"
  },
  "orig_nbformat": 2,
  "kernelspec": {
   "name": "python3",
   "display_name": "Python 3.6.4 64-bit",
   "metadata": {
    "interpreter": {
     "hash": "e05034a492cd28020b141b637ab43cad260081b164a40cac23ec4809d29fc4bf"
    }
   }
  }
 },
 "nbformat": 4,
 "nbformat_minor": 2,
 "cells": [
  {
   "cell_type": "code",
   "execution_count": null,
   "metadata": {},
   "outputs": [],
   "source": [
    "()\n",
    "[]"
   ]
  },
  {
   "cell_type": "code",
   "execution_count": null,
   "metadata": {},
   "outputs": [],
   "source": [
    "lista = []\n",
    "tupla = ()"
   ]
  },
  {
   "cell_type": "code",
   "execution_count": null,
   "metadata": {},
   "outputs": [],
   "source": [
    "# Una función --> ()\n",
    "\n",
    "def f():\n",
    "    return 2"
   ]
  },
  {
   "cell_type": "code",
   "execution_count": null,
   "metadata": {},
   "outputs": [],
   "source": [
    "# Para acceder por posiciones a una colección --> []"
   ]
  },
  {
   "cell_type": "code",
   "execution_count": 1,
   "metadata": {},
   "outputs": [
    {
     "output_type": "stream",
     "name": "stdout",
     "text": [
      "0\n1\n2\n"
     ]
    }
   ],
   "source": [
    "lista = [2, 4, 6, 7, 10]\n",
    "\n",
    "for i in range(len(lista[:3])):\n",
    "    print(i)"
   ]
  },
  {
   "cell_type": "code",
   "execution_count": null,
   "metadata": {},
   "outputs": [],
   "source": [
    "contador = 0\n",
    "while contador < len(lista):\n",
    "    if lista[contador] == 4:\n",
    "        contador += 2\n",
    "    else:\n",
    "        contador += 1\n",
    "        \n",
    "    "
   ]
  },
  {
   "cell_type": "code",
   "execution_count": 4,
   "metadata": {},
   "outputs": [
    {
     "output_type": "stream",
     "name": "stdout",
     "text": [
      "x\n"
     ]
    }
   ],
   "source": [
    "# 2 tipos de bucles:\n",
    "\n",
    "\"\"\"\n",
    "--> for\n",
    "--> while: SIEMPRE TRABAJA CON POSICIONES & necesita contador/acumulador\n",
    "\"\"\"\n",
    "\n",
    "# -------for-----------\n",
    "# for por valor (normal)\n",
    "# for range (por posición)\n",
    "# for por valor con contador (por posición y valor)\n",
    "# for enumerate( por posición y valor)\n",
    "\n",
    "lista = [2, \"x\", 5, 10]\n",
    "# mostrar solo el segundo elemento\n",
    "# lista[1]\n",
    "# mostrar solo el segundo elemento usando un for\n",
    "\n",
    "for pos in range(len(lista)):\n",
    "    if pos == 1:\n",
    "        print(lista[pos])"
   ]
  },
  {
   "cell_type": "code",
   "execution_count": 3,
   "metadata": {},
   "outputs": [
    {
     "output_type": "execute_result",
     "data": {
      "text/plain": [
       "[0, 1, 2, 3]"
      ]
     },
     "metadata": {},
     "execution_count": 3
    }
   ],
   "source": [
    "list(range(len(lista)))"
   ]
  },
  {
   "cell_type": "code",
   "execution_count": 6,
   "metadata": {},
   "outputs": [
    {
     "output_type": "execute_result",
     "data": {
      "text/plain": [
       "[2, 'x', 5, 10, -1, -1, -1, -1, -1]"
      ]
     },
     "metadata": {},
     "execution_count": 6
    }
   ],
   "source": [
    "lista = [2, \"x\", 5, 10]\n",
    "lista.append(-1)\n",
    "lista.append(-1)\n",
    "lista.append(-1)\n",
    "lista.append(-1)\n",
    "lista.append(-1)\n",
    "lista"
   ]
  },
  {
   "cell_type": "code",
   "execution_count": 8,
   "metadata": {},
   "outputs": [
    {
     "output_type": "stream",
     "name": "stdout",
     "text": [
      "x: None\nlista: [2, 'x', 5, 10, -1]\n"
     ]
    }
   ],
   "source": [
    "lista = [2, \"x\", 5, 10]\n",
    "def añadir_elemento(lista):\n",
    "    lista.append(-1)\n",
    "\n",
    "x = añadir_elemento(lista=lista)\n",
    "print(\"x:\", x)\n",
    "print(\"lista:\", lista)"
   ]
  },
  {
   "cell_type": "code",
   "execution_count": null,
   "metadata": {},
   "outputs": [],
   "source": [
    "lista2 = (2, lista, {2:(4, \"mostrar o\")})\n",
    "\n",
    "def cambiar_o_por_a(d):\n",
    "\n",
    "\n",
    "x = mostrar_o(d=lista2)"
   ]
  },
  {
   "cell_type": "code",
   "execution_count": 12,
   "metadata": {},
   "outputs": [
    {
     "output_type": "execute_result",
     "data": {
      "text/plain": [
       "'o'"
      ]
     },
     "metadata": {},
     "execution_count": 12
    }
   ],
   "source": [
    "lista2 = (2, lista, {2:(4, \"mostrar o\")})\n",
    "lista2[2][2][-1][-1] = \"a\""
   ]
  },
  {
   "cell_type": "code",
   "execution_count": 21,
   "metadata": {},
   "outputs": [
    {
     "output_type": "execute_result",
     "data": {
      "text/plain": [
       "['m', 'o', 's', 't', 'r', 'a', 'r', ' ', 'a']"
      ]
     },
     "metadata": {},
     "execution_count": 21
    }
   ],
   "source": [
    "lista = list(lista2[2][2][-1])\n",
    "lista[-1] = \"a\"\n",
    "lista"
   ]
  },
  {
   "cell_type": "code",
   "execution_count": 25,
   "metadata": {},
   "outputs": [
    {
     "output_type": "stream",
     "name": "stdout",
     "text": [
      "m\nmo\nmos\nmost\nmostr\nmostra\nmostrar\nmostrar \nmostrar a\n"
     ]
    }
   ],
   "source": [
    "s = \"\"\n",
    "for char in lista:\n",
    "    s = s + char\n",
    "    print(s)"
   ]
  },
  {
   "cell_type": "code",
   "execution_count": 31,
   "metadata": {},
   "outputs": [
    {
     "output_type": "execute_result",
     "data": {
      "text/plain": [
       "'mostrar a'"
      ]
     },
     "metadata": {},
     "execution_count": 31
    }
   ],
   "source": [
    "s"
   ]
  },
  {
   "cell_type": "code",
   "execution_count": 27,
   "metadata": {},
   "outputs": [
    {
     "output_type": "execute_result",
     "data": {
      "text/plain": [
       "[2, [2, 'x', 5, 10, -1], {2: (4, 'mostrar o')}]"
      ]
     },
     "metadata": {},
     "execution_count": 27
    }
   ],
   "source": [
    "# cambiar tuplas por listas\n",
    "lista2 = list(lista2)\n",
    "lista2"
   ]
  },
  {
   "cell_type": "code",
   "execution_count": 29,
   "metadata": {},
   "outputs": [
    {
     "output_type": "execute_result",
     "data": {
      "text/plain": [
       "[2, [2, 'x', 5, 10, -1], {2: [4, 'mostrar o']}]"
      ]
     },
     "metadata": {},
     "execution_count": 29
    }
   ],
   "source": [
    "lista2[2][2] = list(lista2[2][2])\n",
    "lista2"
   ]
  },
  {
   "cell_type": "code",
   "execution_count": 32,
   "metadata": {},
   "outputs": [
    {
     "output_type": "execute_result",
     "data": {
      "text/plain": [
       "[2, [2, 'x', 5, 10, -1], {2: [4, 'mostrar a']}]"
      ]
     },
     "metadata": {},
     "execution_count": 32
    }
   ],
   "source": [
    "lista2[2][2][-1] = s\n",
    "lista2"
   ]
  },
  {
   "cell_type": "code",
   "execution_count": 18,
   "metadata": {},
   "outputs": [
    {
     "output_type": "error",
     "ename": "TypeError",
     "evalue": "'tuple' object does not support item assignment",
     "traceback": [
      "\u001b[1;31m---------------------------------------------------------------------------\u001b[0m",
      "\u001b[1;31mTypeError\u001b[0m                                 Traceback (most recent call last)",
      "\u001b[1;32m<ipython-input-18-f7e69f582ad6>\u001b[0m in \u001b[0;36m<module>\u001b[1;34m\u001b[0m\n\u001b[1;32m----> 1\u001b[1;33m \u001b[0mlista2\u001b[0m\u001b[1;33m[\u001b[0m\u001b[1;36m2\u001b[0m\u001b[1;33m]\u001b[0m\u001b[1;33m[\u001b[0m\u001b[1;36m2\u001b[0m\u001b[1;33m]\u001b[0m\u001b[1;33m[\u001b[0m\u001b[1;33m-\u001b[0m\u001b[1;36m1\u001b[0m\u001b[1;33m]\u001b[0m \u001b[1;33m=\u001b[0m \u001b[0mlista2\u001b[0m\u001b[1;33m[\u001b[0m\u001b[1;36m2\u001b[0m\u001b[1;33m]\u001b[0m\u001b[1;33m[\u001b[0m\u001b[1;36m2\u001b[0m\u001b[1;33m]\u001b[0m\u001b[1;33m[\u001b[0m\u001b[1;33m-\u001b[0m\u001b[1;36m1\u001b[0m\u001b[1;33m]\u001b[0m\u001b[1;33m.\u001b[0m\u001b[0mreplace\u001b[0m\u001b[1;33m(\u001b[0m\u001b[1;34m\"o\"\u001b[0m\u001b[1;33m,\u001b[0m \u001b[1;34m\"a\"\u001b[0m\u001b[1;33m)\u001b[0m\u001b[1;33m\u001b[0m\u001b[0m\n\u001b[0m\u001b[0;32m      2\u001b[0m \u001b[0mlista2\u001b[0m\u001b[1;33m\u001b[0m\u001b[0m\n",
      "\u001b[1;31mTypeError\u001b[0m: 'tuple' object does not support item assignment"
     ]
    }
   ],
   "source": [
    "lista2[2][2][-1] = lista2[2][2][-1].replace(\"o\", \"a\")\n",
    "lista2"
   ]
  },
  {
   "cell_type": "code",
   "execution_count": 15,
   "metadata": {},
   "outputs": [
    {
     "output_type": "execute_result",
     "data": {
      "text/plain": [
       "'StrHng'"
      ]
     },
     "metadata": {},
     "execution_count": 15
    }
   ],
   "source": [
    "s = \"String\"\n",
    "s.replace(\"i\", \"H\")"
   ]
  },
  {
   "cell_type": "code",
   "execution_count": 13,
   "metadata": {},
   "outputs": [
    {
     "output_type": "error",
     "ename": "TypeError",
     "evalue": "'tuple' object does not support item assignment",
     "traceback": [
      "\u001b[1;31m---------------------------------------------------------------------------\u001b[0m",
      "\u001b[1;31mTypeError\u001b[0m                                 Traceback (most recent call last)",
      "\u001b[1;32m<ipython-input-13-8b0f30ef6f1b>\u001b[0m in \u001b[0;36m<module>\u001b[1;34m\u001b[0m\n\u001b[0;32m      1\u001b[0m \u001b[0mt\u001b[0m \u001b[1;33m=\u001b[0m \u001b[1;33m(\u001b[0m\u001b[1;36m2\u001b[0m\u001b[1;33m,\u001b[0m \u001b[1;36m4\u001b[0m\u001b[1;33m,\u001b[0m \u001b[1;34m\"sad\"\u001b[0m\u001b[1;33m)\u001b[0m\u001b[1;33m\u001b[0m\u001b[0m\n\u001b[1;32m----> 2\u001b[1;33m \u001b[0mt\u001b[0m\u001b[1;33m[\u001b[0m\u001b[1;36m1\u001b[0m\u001b[1;33m]\u001b[0m \u001b[1;33m=\u001b[0m \u001b[1;34m\"z\"\u001b[0m\u001b[1;33m\u001b[0m\u001b[0m\n\u001b[0m",
      "\u001b[1;31mTypeError\u001b[0m: 'tuple' object does not support item assignment"
     ]
    }
   ],
   "source": [
    "t = (2, 4, \"sad\")\n",
    "t[1] = \"z\""
   ]
  },
  {
   "cell_type": "code",
   "execution_count": 14,
   "metadata": {},
   "outputs": [
    {
     "output_type": "execute_result",
     "data": {
      "text/plain": [
       "(2, 1, ['x', 's'])"
      ]
     },
     "metadata": {},
     "execution_count": 14
    }
   ],
   "source": [
    "tupla = (2, 1, [\"x\"])\n",
    "tupla[2].append(\"s\")\n",
    "tupla"
   ]
  },
  {
   "source": [
    "### Mary Cruz"
   ],
   "cell_type": "markdown",
   "metadata": {}
  },
  {
   "cell_type": "code",
   "execution_count": 37,
   "metadata": {},
   "outputs": [
    {
     "output_type": "stream",
     "name": "stdout",
     "text": [
      "None\n"
     ]
    }
   ],
   "source": [
    "\n",
    "#return\n",
    "\n",
    "# 1. Si la función no pone return --> por defecto SIEMPRE se retorna None\n",
    "# 2. Al usar una función built-in, la función podría no retorna None\n",
    "\n",
    "def f_cualquiera():\n",
    "    y = 2\n",
    "    \n",
    "x = f_cualquiera()\n",
    "print(x)"
   ]
  },
  {
   "cell_type": "code",
   "execution_count": 38,
   "metadata": {},
   "outputs": [
    {
     "output_type": "stream",
     "name": "stdout",
     "text": [
      "2\n"
     ]
    }
   ],
   "source": [
    "def f_cualquiera():\n",
    "    y = 2\n",
    "    return y\n",
    "    \n",
    "x = f_cualquiera()\n",
    "print(x)"
   ]
  },
  {
   "cell_type": "code",
   "execution_count": 41,
   "metadata": {},
   "outputs": [
    {
     "output_type": "execute_result",
     "data": {
      "text/plain": [
       "['x', 'y', 2, 5, -1]"
      ]
     },
     "metadata": {},
     "execution_count": 41
    }
   ],
   "source": [
    "lista = [\"x\", \"y\", 2, 5]\n",
    "lista.append(-1)\n",
    "lista"
   ]
  },
  {
   "cell_type": "code",
   "execution_count": 42,
   "metadata": {},
   "outputs": [
    {
     "output_type": "stream",
     "name": "stdout",
     "text": [
      "None\n"
     ]
    }
   ],
   "source": [
    "lista = lista.append(-1)\n",
    "print(lista)"
   ]
  },
  {
   "cell_type": "code",
   "execution_count": 43,
   "metadata": {},
   "outputs": [
    {
     "output_type": "stream",
     "name": "stdout",
     "text": [
      "None\n['x', 'y', 2]\n"
     ]
    }
   ],
   "source": [
    "lista = [\"x\", \"y\", 2, 5]\n",
    "def remueve_elemento(d, elemento_a_borrar):\n",
    "    d.remove(elemento_a_borrar)\n",
    "\n",
    "x = remueve_elemento(d=lista, elemento_a_borrar=5)\n",
    "print(x)\n",
    "print(lista)"
   ]
  },
  {
   "cell_type": "code",
   "execution_count": 45,
   "metadata": {},
   "outputs": [
    {
     "output_type": "stream",
     "name": "stdout",
     "text": [
      "None\n['x', 'y', 2]\n"
     ]
    }
   ],
   "source": [
    "lista = [\"x\", \"y\", 2, 5]\n",
    "x = lista.remove(5)\n",
    "print(x)\n",
    "print(lista)"
   ]
  },
  {
   "cell_type": "code",
   "execution_count": 46,
   "metadata": {},
   "outputs": [
    {
     "output_type": "stream",
     "name": "stdout",
     "text": [
      "['x', 'y', 2]\n"
     ]
    }
   ],
   "source": [
    "lista = [\"x\", \"y\", 2, 5]\n",
    "lista.remove(5)\n",
    "print(lista)"
   ]
  },
  {
   "cell_type": "code",
   "execution_count": 48,
   "metadata": {},
   "outputs": [
    {
     "output_type": "stream",
     "name": "stdout",
     "text": [
      "x: 5\n['x', 'y', 2]\n"
     ]
    }
   ],
   "source": [
    "lista = [\"x\", \"y\", 2, 5]\n",
    "x = lista.pop()\n",
    "print(\"x:\", x)\n",
    "print(lista)"
   ]
  },
  {
   "cell_type": "code",
   "execution_count": 66,
   "metadata": {
    "tags": []
   },
   "outputs": [
    {
     "output_type": "stream",
     "name": "stdout",
     "text": [
      "['x', 'y', 'z']\nSegundo\nNone\nEND\n"
     ]
    }
   ],
   "source": [
    "# recorrer un diccionario con un while\n",
    "d = {2: [\"x\", \"y\", \"z\"], (5, 1): \"Segundo\", 9:None}\n",
    "\n",
    "lista = list(d.values())\n",
    "acum = 0  # empieza en 0 porque queremos que empiece desde la primera posición\n",
    "while acum < len(lista):\n",
    "    print(lista[acum])\n",
    "    acum += 1\n",
    "print(\"END\")"
   ]
  },
  {
   "cell_type": "code",
   "execution_count": 72,
   "metadata": {},
   "outputs": [
    {
     "output_type": "stream",
     "name": "stdout",
     "text": [
      "['x', 'y', 'z']\nSegundo\nNone\nEND\nNone\n"
     ]
    }
   ],
   "source": [
    "# Hacer lo mismo de antes pero en una función pasando por parámetro el diccionario\n",
    "\n",
    "def muestra_valores_de_dict(dictionary):\n",
    "    lista = list(dictionary.values())\n",
    "    acum = 0  # empieza en 0 porque queremos que empiece desde la primera posición\n",
    "    while acum < len(lista):\n",
    "        print(lista[acum])\n",
    "        acum += 1\n",
    "    print(\"END\")\n",
    "\n",
    "x = muestra_valores_de_dict(dictionary=d)\n",
    "print(x)"
   ]
  },
  {
   "cell_type": "code",
   "execution_count": 69,
   "metadata": {},
   "outputs": [
    {
     "output_type": "execute_result",
     "data": {
      "text/plain": [
       "(2, (5, 1), 9)"
      ]
     },
     "metadata": {},
     "execution_count": 69
    }
   ],
   "source": [
    "tuple(d.keys())"
   ]
  },
  {
   "cell_type": "code",
   "execution_count": 71,
   "metadata": {},
   "outputs": [
    {
     "output_type": "execute_result",
     "data": {
      "text/plain": [
       "True"
      ]
     },
     "metadata": {},
     "execution_count": 71
    }
   ],
   "source": [
    "l2 = (2, (5, 1), 9)\n",
    "\n",
    "tuple(d.keys()) == l2"
   ]
  },
  {
   "cell_type": "code",
   "execution_count": 62,
   "metadata": {},
   "outputs": [
    {
     "output_type": "execute_result",
     "data": {
      "text/plain": [
       "[['x', 'y', 'z'], 'Segundo', None]"
      ]
     },
     "metadata": {},
     "execution_count": 62
    }
   ],
   "source": [
    "list(d.values())"
   ]
  },
  {
   "source": [
    "### Mauro \n",
    "\n",
    "Tuplas dentro de listas & viceversa"
   ],
   "cell_type": "markdown",
   "metadata": {}
  },
  {
   "cell_type": "code",
   "execution_count": 49,
   "metadata": {},
   "outputs": [],
   "source": [
    "lista_con_tuplas = [(\"N\", 2, 0.0, True), (\"N\", 2, 7.1, False), (\"N\", 2, 2.1, False)]"
   ]
  },
  {
   "cell_type": "code",
   "execution_count": 50,
   "metadata": {},
   "outputs": [
    {
     "output_type": "execute_result",
     "data": {
      "text/plain": [
       "[('N', 2, 0.0, True), ('N', 2, 7.1, False), ('N', 2, 2.1, False)]"
      ]
     },
     "metadata": {},
     "execution_count": 50
    }
   ],
   "source": [
    "lista_con_tuplas"
   ]
  },
  {
   "cell_type": "code",
   "execution_count": 55,
   "metadata": {},
   "outputs": [
    {
     "output_type": "execute_result",
     "data": {
      "text/plain": [
       "[0.0, 7.1, 2.1]"
      ]
     },
     "metadata": {},
     "execution_count": 55
    }
   ],
   "source": [
    "# Ordenar las tuplas (los elementos de la 'lista_con_tuplas') de mayor a menor dependiendo del tercer elemento (float)\n",
    "# posición (tercer elemento)\n",
    "\n",
    "# for range\n",
    "# for contador\n",
    "# for enumerate (posición & valor)\n",
    "# while (con contador)\n",
    "\n",
    "# Como vamos a querer el tercer elemento (posición) &\n",
    "# vamos a comparar el valor del elemento (para ordenar de mayor a menor)\n",
    "\n",
    "lista_con_ordenes = []\n",
    "lista_con_floats = []\n",
    "for pos, v_elem in enumerate(lista_con_tuplas):\n",
    "    #float_ = v_elem[2]  # el tercer elemento\n",
    "    lista_con_floats.append(v_elem[2])\n",
    "lista_con_floats"
   ]
  },
  {
   "cell_type": "code",
   "execution_count": 57,
   "metadata": {},
   "outputs": [
    {
     "output_type": "execute_result",
     "data": {
      "text/plain": [
       "[0, 1, 2]"
      ]
     },
     "metadata": {},
     "execution_count": 57
    }
   ],
   "source": [
    "list(range(len(lista_con_floats)))"
   ]
  },
  {
   "cell_type": "code",
   "execution_count": null,
   "metadata": {},
   "outputs": [],
   "source": [
    "float_max = None\n",
    "for i in range(len(lista_con_floats)):\n",
    "    if i == 0:  # es el primer caso\n",
    "        float_max = lista_con_floats[i]\n",
    "    elif float_max < lista_con_floats[i]:\n",
    "        float_max = lista_con_floats[i]"
   ]
  },
  {
   "cell_type": "code",
   "execution_count": null,
   "metadata": {},
   "outputs": [],
   "source": [
    "[7.1, 2.1, 0.0]"
   ]
  },
  {
   "cell_type": "code",
   "execution_count": null,
   "metadata": {},
   "outputs": [],
   "source": [
    "lista_ts = [('N', 2, 0.0, True), ('N', 2, 7.1, False), ('N', 2, 2.1, False)]\n",
    "lista_posicion = [0, 1, 2]"
   ]
  },
  {
   "cell_type": "code",
   "execution_count": null,
   "metadata": {},
   "outputs": [],
   "source": [
    "diccionario = {0: ('N', 2, 0.0, True), 1:('N', 2, 7.1, False), 2:('N', 2, 2.1, False)}"
   ]
  }
 ]
}