{
 "cells": [
  {
   "cell_type": "markdown",
   "metadata": {},
   "source": [
    "# Ejercicio La Biblioteca | Repaso Week 1\n",
    "## Precurso DSApr21 - The Bridge\n",
    "\n",
    "La versión original de esta Práctica es en español por lo que respetaremos sus orígenes y a su autora, Clara Piniella, y lo dejaremos en este idioma. Disculpen las molestias que esto pudiera ocasionarle como estudiante. "
   ]
  },
  {
   "cell_type": "markdown",
   "metadata": {},
   "source": [
    "![biblioteca](https://static2.abc.es/media/familia/2018/11/02/AdobeStock_210538561-kJTF--620x349@abc.jpg)"
   ]
  },
  {
   "cell_type": "markdown",
   "metadata": {},
   "source": [
    "Es tu primer día de trabajo en la Biblioteca de tu barrio y ya tienes tu primera tarea. Te acaban de pasar una lista con libros y la lista de unidades disponibles."
   ]
  },
  {
   "cell_type": "code",
   "execution_count": 46,
   "metadata": {},
   "outputs": [],
   "source": [
    "libros = [\"El mal de Corcira\", \"Un mundo feliz\", \"Lolita\", \"Crimen y castigo\", \"Python from for to pro\",\\\n",
    "          \"El señor de los anillos\", \"Cien años de soledad\", \"Harry Potter\", \"Lectura Fácil\", \"Seda\",\\\n",
    "          \"La chica de nieve\", \"El día que se perdió la cordura\", \"Data Science\"]"
   ]
  },
  {
   "cell_type": "code",
   "execution_count": 47,
   "metadata": {},
   "outputs": [],
   "source": [
    "biblioteca = [(\"El mal de Corcira\",4),(\"Un mundo feliz\", 2),(\"Lolita\", 5),\\\n",
    "              (\"Crimen y castigo\",2),(\"Python from for to pro\", 0),(\"El señor de los anillos\", 6),\\\n",
    "              (\"Cien años de soledad\", 5),(\"Harry Potter\", 9),(\"Lectura Fácil\", 4),(\"Seda\", 2),\\\n",
    "              (\"La chica de nieve\", 6),(\"El día que se perdió la cordura\", 3), (\"Data Science\", 0)]"
   ]
  },
  {
   "cell_type": "markdown",
   "metadata": {},
   "source": [
    "1. ¿Cuántos títulos diferentes tienen en esta biblioteca?"
   ]
  },
  {
   "cell_type": "code",
   "execution_count": 48,
   "metadata": {},
   "outputs": [
    {
     "output_type": "stream",
     "name": "stdout",
     "text": [
      "13\n"
     ]
    }
   ],
   "source": [
    "#your code here\n",
    "print(len(libros))"
   ]
  },
  {
   "cell_type": "markdown",
   "metadata": {},
   "source": [
    "2. ¿Cuántas letras componen la palabra *Seda*? "
   ]
  },
  {
   "cell_type": "code",
   "execution_count": 49,
   "metadata": {},
   "outputs": [
    {
     "output_type": "stream",
     "name": "stdout",
     "text": [
      "4\n"
     ]
    }
   ],
   "source": [
    "#your code here\n",
    "print(len(\"seda\"))"
   ]
  },
  {
   "cell_type": "markdown",
   "metadata": {},
   "source": [
    "3. ¿Cuántas unidades hay del libro *Seda*?"
   ]
  },
  {
   "cell_type": "code",
   "execution_count": 50,
   "metadata": {},
   "outputs": [
    {
     "output_type": "stream",
     "name": "stdout",
     "text": [
      "There are 2 of Seda in the library\nThere are 2 left\n"
     ]
    }
   ],
   "source": [
    "#your code here\n",
    "print(f\"There are {biblioteca[9][1]} of {biblioteca[9][0]} in the library\")\n",
    "for elem in biblioteca:\n",
    "    if elem[0] == \"Seda\":\n",
    "        print(f\"There are {elem[1]} left\")"
   ]
  },
  {
   "cell_type": "markdown",
   "metadata": {},
   "source": [
    "4. Quien registraba los libros antes de ti dejo pendiente de añadir a la lista **libros** la variable **pendiente**, además debió confundir el famoso libro de George Orwell *1984*, con un número, asignándolo como un integer.\n",
    "¿Puedes cambiarlo y pasar a string este elemento y añadirlo a **libros**?"
   ]
  },
  {
   "cell_type": "code",
   "execution_count": 51,
   "metadata": {},
   "outputs": [],
   "source": [
    "pendiente = 1984\n"
   ]
  },
  {
   "cell_type": "code",
   "execution_count": 52,
   "metadata": {},
   "outputs": [
    {
     "output_type": "stream",
     "name": "stdout",
     "text": [
      "['El mal de Corcira', 'Un mundo feliz', 'Lolita', 'Crimen y castigo', 'Python from for to pro', 'El señor de los anillos', 'Cien años de soledad', 'Harry Potter', 'Lectura Fácil', 'Seda', 'La chica de nieve', 'El día que se perdió la cordura', 'Data Science', '1984']\n"
     ]
    }
   ],
   "source": [
    "#your code here\n",
    "pendiente = str(pendiente)\n",
    "libros.append(pendiente)\n",
    "print(libros)"
   ]
  },
  {
   "cell_type": "markdown",
   "metadata": {},
   "source": [
    "5. Te piden que añadas a esta lista el nuevo libro de Los Juegos del hambre que se titula *Balada de pájaros cantores y serpientes*. Has contado las unidades y han llegado 10. \n",
    "\n",
    "    a. Crea una variable con el título del libro, que se llame **libro_1**. Añade este elemento a la lista **libros**.\n",
    "\n",
    "    b. Crea una variable con el número de unidades, que se llame **uds_1**.\n",
    "\n",
    "    c. Crea una variable que sea una lista llamada **nuevo_libro** en el que su primer elemento sea **libro_1** y el segundo **uds_1**. \n",
    "\n",
    "    d. Convierte a **nuevo_libro** a tupla.\n",
    "    (muestra qué tipo es ahora esta variable)\n",
    "\n",
    "    e. Añade **nuevo_libro** a la lista **biblioteca** "
   ]
  },
  {
   "cell_type": "code",
   "execution_count": 53,
   "metadata": {},
   "outputs": [
    {
     "output_type": "stream",
     "name": "stdout",
     "text": [
      "<class 'tuple'>\n[('El mal de Corcira', 4), ('Un mundo feliz', 2), ('Lolita', 5), ('Crimen y castigo', 2), ('Python from for to pro', 0), ('El señor de los anillos', 6), ('Cien años de soledad', 5), ('Harry Potter', 9), ('Lectura Fácil', 4), ('Seda', 2), ('La chica de nieve', 6), ('El día que se perdió la cordura', 3), ('Data Science', 0), ('Balada de pájaros cantores y serpientes', 10)]\n"
     ]
    }
   ],
   "source": [
    "#your code here\n",
    "libro_1 = \"Balada de pájaros cantores y serpientes\"\n",
    "uds_1 = 10\n",
    "nuevo_libro = [libro_1, uds_1]\n",
    "nuevo_libro = tuple(nuevo_libro)\n",
    "print(type(nuevo_libro))\n",
    "biblioteca.append(nuevo_libro)\n",
    "print(biblioteca)"
   ]
  },
  {
   "cell_type": "markdown",
   "metadata": {},
   "source": [
    "6. Acaban de traer una unidad más de *El mal de Corcira*, añade una unidad más al segundo elemento del primer elemento de la lista **biblioteca**."
   ]
  },
  {
   "cell_type": "code",
   "execution_count": 54,
   "metadata": {},
   "outputs": [
    {
     "output_type": "stream",
     "name": "stdout",
     "text": [
      "[('El mal de Corcira', 5), ('Un mundo feliz', 2), ('Lolita', 5), ('Crimen y castigo', 2), ('Python from for to pro', 0), ('El señor de los anillos', 6), ('Cien años de soledad', 5), ('Harry Potter', 9), ('Lectura Fácil', 4), ('Seda', 2), ('La chica de nieve', 6), ('El día que se perdió la cordura', 3), ('Data Science', 0), ('Balada de pájaros cantores y serpientes', 10)]\n"
     ]
    }
   ],
   "source": [
    "biblioteca[0] = list(biblioteca[0])\n",
    "biblioteca[0][1] += 1\n",
    "biblioteca[0] = tuple(biblioteca[0])\n",
    "print(biblioteca)"
   ]
  },
  {
   "cell_type": "code",
   "execution_count": 55,
   "metadata": {},
   "outputs": [
    {
     "output_type": "execute_result",
     "data": {
      "text/plain": [
       "5"
      ]
     },
     "metadata": {},
     "execution_count": 55
    }
   ],
   "source": [
    "biblioteca[0][1]"
   ]
  },
  {
   "cell_type": "code",
   "execution_count": 56,
   "metadata": {},
   "outputs": [
    {
     "output_type": "error",
     "ename": "TypeError",
     "evalue": "'tuple' object does not support item assignment",
     "traceback": [
      "\u001b[1;31m---------------------------------------------------------------------------\u001b[0m",
      "\u001b[1;31mTypeError\u001b[0m                                 Traceback (most recent call last)",
      "\u001b[1;32m<ipython-input-56-8a7bcc0d7ddc>\u001b[0m in \u001b[0;36m<module>\u001b[1;34m\u001b[0m\n\u001b[1;32m----> 1\u001b[1;33m \u001b[0mbiblioteca\u001b[0m\u001b[1;33m[\u001b[0m\u001b[1;36m0\u001b[0m\u001b[1;33m]\u001b[0m\u001b[1;33m[\u001b[0m\u001b[1;36m1\u001b[0m\u001b[1;33m]\u001b[0m \u001b[1;33m=\u001b[0m \u001b[0mbiblioteca\u001b[0m\u001b[1;33m[\u001b[0m\u001b[1;36m0\u001b[0m\u001b[1;33m]\u001b[0m\u001b[1;33m[\u001b[0m\u001b[1;36m1\u001b[0m\u001b[1;33m]\u001b[0m \u001b[1;33m-\u001b[0m \u001b[1;36m1\u001b[0m\u001b[1;33m\u001b[0m\u001b[1;33m\u001b[0m\u001b[0m\n\u001b[0m",
      "\u001b[1;31mTypeError\u001b[0m: 'tuple' object does not support item assignment"
     ]
    }
   ],
   "source": [
    "biblioteca[0][1] = biblioteca[0][1] - 1"
   ]
  },
  {
   "cell_type": "markdown",
   "metadata": {},
   "source": [
    "¿Cómo se te ocurre que podrías alterar este dato?"
   ]
  },
  {
   "cell_type": "code",
   "execution_count": 36,
   "metadata": {},
   "outputs": [
    {
     "output_type": "error",
     "ename": "SyntaxError",
     "evalue": "invalid syntax (<ipython-input-36-0671f952dde4>, line 2)",
     "traceback": [
      "\u001b[1;36m  File \u001b[1;32m\"<ipython-input-36-0671f952dde4>\"\u001b[1;36m, line \u001b[1;32m2\u001b[0m\n\u001b[1;33m    Pasando la tupla a lista\u001b[0m\n\u001b[1;37m            ^\u001b[0m\n\u001b[1;31mSyntaxError\u001b[0m\u001b[1;31m:\u001b[0m invalid syntax\n"
     ]
    }
   ],
   "source": [
    "#your comment here\n",
    "Pasando la tupla a lista"
   ]
  },
  {
   "cell_type": "markdown",
   "metadata": {},
   "source": [
    "Convierte la tupla en una lista para poder modificar el segundo elemento y añadir esta unidad. Asigna la tupla convertida a lista a la variable **tup_to_list** haz los cambios, agrega la unidad y vuelve a añadir la lista ya convertida en tupla a la lista **biblioteca**."
   ]
  },
  {
   "cell_type": "code",
   "execution_count": 37,
   "metadata": {},
   "outputs": [
    {
     "output_type": "stream",
     "name": "stdout",
     "text": [
      "[('El mal de Corcira', 6), ('Un mundo feliz', 2), ('Lolita', 5), ('Crimen y castigo', 2), ('Python from for to pro', 0), ('El señor de los anillos', 6), ('Cien años de soledad', 5), ('Harry Potter', 9), ('Lectura Fácil', 4), ('Seda', 2), ('La chica de nieve', 6), ('El día que se perdió la cordura', 3), ('Data Science', 0), ('Balada de pájaros cantores y serpientes', 10)]\n"
     ]
    }
   ],
   "source": [
    "#your code here\n",
    "biblioteca[0] = list(biblioteca[0])\n",
    "biblioteca[0][1] += 1\n",
    "biblioteca[0] = tuple(biblioteca[0])\n",
    "print(biblioteca)\n"
   ]
  },
  {
   "cell_type": "markdown",
   "metadata": {},
   "source": [
    "Ahora, tenemos dos tuplas con el libro *El mal de Corcira*, pero esto no es lo que queremos. Elimina el primer elemento de la lista **biblioteca**.\n",
    "\n",
    "Hint: https://www.programiz.com/python-programming/methods/list/remove"
   ]
  },
  {
   "cell_type": "code",
   "execution_count": 38,
   "metadata": {},
   "outputs": [],
   "source": [
    "#your code here\n"
   ]
  },
  {
   "cell_type": "markdown",
   "metadata": {},
   "source": [
    "7. Te han pedido que localices los títulos de los libros de los que no disponen de unidades. Es decir, su segundo elemento, es igual a 0. "
   ]
  },
  {
   "cell_type": "code",
   "execution_count": 39,
   "metadata": {},
   "outputs": [
    {
     "output_type": "stream",
     "name": "stdout",
     "text": [
      "Python from for to pro\nData Science\n"
     ]
    }
   ],
   "source": [
    "#your code here\n",
    "for book in biblioteca:\n",
    "    if book[1] == 0:\n",
    "        print(book[0])\n",
    "\n"
   ]
  },
  {
   "cell_type": "markdown",
   "metadata": {},
   "source": [
    "8. ¿Cómo meterías estos dos elementos en una lista llamada **missing**?"
   ]
  },
  {
   "cell_type": "code",
   "execution_count": 75,
   "metadata": {},
   "outputs": [
    {
     "output_type": "stream",
     "name": "stdout",
     "text": [
      "['Python from for to pro', 'Data Science']\n"
     ]
    }
   ],
   "source": [
    "#your code here\n",
    "missing = []\n",
    "for book in biblioteca:\n",
    "    if book[1] == 0:\n",
    "        missing.append(book[0])\n",
    "print(missing)"
   ]
  },
  {
   "cell_type": "markdown",
   "metadata": {},
   "source": [
    "9. Como en cualquier jornada de trabajo, recibes miles de email, hay uno que no habías visto pero en el que tu jefa te pide hacer un pequeño programita (función) que recoja el título de un libro y la cantidad de libros, este último parámetro por defecto será 1, chequée si tenemos ese título en la lista `libros` y si lo tenemos, sume esa cantidad a su cantidad en la lista `biblioteca` y si no, añada el título a `libros` y en una tupla nueva con la cantidad correspondiente a la lista `biblioteca`. "
   ]
  },
  {
   "cell_type": "code",
   "execution_count": 40,
   "metadata": {},
   "outputs": [],
   "source": [
    "#your code here\n",
    "def check_book(titulo, cantidad):\n",
    "    comparable = []\n",
    "    for books in biblioteca:\n",
    "        comparable.append(books[0])\n",
    "    if titulo not in comparable:\n",
    "        new_one = (titulo, cantidad)\n",
    "        biblioteca.append(new_one)\n",
    "        biblioteca[-1] = tuple(biblioteca[-1])\n",
    "    else:\n",
    "        for i, books in enumerate(biblioteca):\n",
    "            if books[0] == titulo:\n",
    "                biblioteca[i] = list(biblioteca[i])\n",
    "                biblioteca[i][1] = biblioteca[i][1] + cantidad\n",
    "                biblioteca[i] = tuple(biblioteca[i])\n",
    "            \n",
    "            \n",
    "\n"
   ]
  },
  {
   "cell_type": "markdown",
   "metadata": {},
   "source": [
    "Pruébalo añadiendo el título de \"Guía del Autopista Galáctico\", cantidad 42."
   ]
  },
  {
   "cell_type": "code",
   "execution_count": 65,
   "metadata": {},
   "outputs": [
    {
     "output_type": "stream",
     "name": "stdout",
     "text": [
      "[('El mal de Corcira', 5), ('Un mundo feliz', 2), ('Lolita', 5), ('Crimen y castigo', 2), ('Python from for to pro', 0), ('El señor de los anillos', 6), ('Cien años de soledad', 5), ('Harry Potter', 9), ('Lectura Fácil', 4), ('Seda', 2), ('La chica de nieve', 6), ('El día que se perdió la cordura', 3), ('Data Science', 0), ('Balada de pájaros cantores y serpientes', 10), ('Guía del Autopista Galáctico', 42)]\n"
     ]
    }
   ],
   "source": [
    "#your code here\n",
    "check_book(\"Guía del Autopista Galáctico\", 42)\n",
    "print(biblioteca)"
   ]
  },
  {
   "cell_type": "markdown",
   "metadata": {},
   "source": [
    "### Bonus Track\n",
    "\n",
    "10. ¿Cuál es el libro con más unidades? ¿Cuál es la media de libros por título?"
   ]
  },
  {
   "cell_type": "code",
   "execution_count": 70,
   "metadata": {},
   "outputs": [
    {
     "output_type": "stream",
     "name": "stdout",
     "text": [
      "El libro con más unidades Guía del Autopista Galáctico 42 unidades\nmedia de libros: 6\n"
     ]
    }
   ],
   "source": [
    "#your code here\n",
    "def libro_más_unidades(biblios):\n",
    "    unidades = []\n",
    "    for books in biblios:\n",
    "        unidades.append(biblios[1])\n",
    "    mas_unidades = print(\"El libro con más unidades\", biblioteca[(unidades.index(max(unidades))-1)][0], biblioteca[(unidades.index(max(unidades))-1)][1], \"unidades\" )\n",
    "    return mas_unidades\n",
    "\n",
    "        \n",
    "libro_más_unidades(biblioteca)\n",
    "\n",
    "def media_libros(bib):\n",
    "    total_libros = 0\n",
    "    for books in bib:\n",
    "        total_libros = total_libros + books[1]\n",
    "    media = total_libros // len(bib)\n",
    "    respuesta = print(\"media de libros:\", media)\n",
    "    return respuesta\n",
    "media_libros(biblioteca)\n",
    "\n",
    "\n",
    "\n"
   ]
  },
  {
   "cell_type": "markdown",
   "metadata": {},
   "source": [
    "11. ¿Cuál tiene el título más largo y cuál el más corto?"
   ]
  },
  {
   "cell_type": "code",
   "execution_count": 87,
   "metadata": {},
   "outputs": [
    {
     "output_type": "stream",
     "name": "stdout",
     "text": [
      "Balada de pájaros cantores y serpientes\nSeda\n"
     ]
    }
   ],
   "source": [
    "#your code here\n",
    "def libro_mas_largo(bibl):\n",
    "    longitud = []\n",
    "    for books in bibl:\n",
    "        longitud.append(len(books[0]))\n",
    "    mas_largo = bibl[longitud.index(max(longitud))][0]\n",
    "    return mas_largo\n",
    "libro_mas_largo(biblioteca)\n",
    "\n",
    "def libro_mas_corto(bibl):\n",
    "    longitud = []\n",
    "    for books in bibl:\n",
    "        longitud.append(len(books[0]))\n",
    "    mas_largo = bibl[longitud.index(min(longitud))][0]\n",
    "    return mas_largo\n",
    "print(libro_mas_largo(biblioteca))\n",
    "print(libro_mas_corto(biblioteca))\n",
    "\n"
   ]
  }
 ],
 "metadata": {
  "kernelspec": {
   "name": "python389jvsc74a57bd0567ce215ee1f5ccb42045684f31605cd97b14e9878c0252db542d9e85d121b05",
   "display_name": "Python 3.8.9 64-bit"
  },
  "language_info": {
   "codemirror_mode": {
    "name": "ipython",
    "version": 3
   },
   "file_extension": ".py",
   "mimetype": "text/x-python",
   "name": "python",
   "nbconvert_exporter": "python",
   "pygments_lexer": "ipython3",
   "version": "3.8.9-final"
  },
  "metadata": {
   "interpreter": {
    "hash": "567ce215ee1f5ccb42045684f31605cd97b14e9878c0252db542d9e85d121b05"
   }
  }
 },
 "nbformat": 4,
 "nbformat_minor": 4
}