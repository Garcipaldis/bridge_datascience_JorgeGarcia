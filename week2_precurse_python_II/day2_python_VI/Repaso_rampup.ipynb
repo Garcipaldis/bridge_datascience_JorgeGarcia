{
 "cells": [
  {
   "cell_type": "markdown",
   "metadata": {},
   "source": [
    "## 🐍 Ramp-up\n",
    "\n",
    "Note: The bold words are instructions for you to know how to solve the exercises below that word. For example, if it says **for loop** you should use at least a for loop in order to solve the exercise. "
   ]
  },
  {
   "cell_type": "markdown",
   "metadata": {},
   "source": [
    "#### Collections\n",
    "1. Create a tuple as follows (10,2,27,8)\n",
    "2. Get the length of the tuple\n",
    "3. Which type is it? And which type are the elements the tuple contains?\n",
    "4. Create a new tuple with any other 4 strings and concatenate all of them with the tuple you created before by position, creating a list called `words`.\n",
    "5. Make a list with the same elements in question 1. Find the element 27 and make it 37.\n",
    "6. Remove the number 8 from the list.\n",
    "7. Turn the list you made before into a set.\n",
    "8. Check if the element \"3\" is in that set.\n",
    "9. Sort the list you made in exercise 4 in descending order.\n",
    "10. Turn the list `words` into a dictionary. Split every string taking the number in the tuple (10,2,27,8) as the values and the rest as the keys.\n",
    "11. Sum up the values of the new dictionary.\n",
    "12. Sort the values of the dictionary in descending order and the keys in ascending order, then make a list of tuples with every couple of keys and values by position."
   ]
  },
  {
   "cell_type": "code",
   "execution_count": 8,
   "metadata": {},
   "outputs": [
    {
     "output_type": "stream",
     "name": "stdout",
     "text": [
      "tupla (10, 2, 27, 8)\nlongitud: 4\n<class 'tuple'>\n<class 'int'>\n<class 'int'>\n<class 'int'>\n<class 'int'>\n['Madrid10', 'Barcelona2', 'Las Palmas27', 'Bilbao8']\n[10, 2, 37, 8]\n[10, 2, 37]\n{10, 2, 37}\nFalse\n[37, 10, 2]\n{'Madrid': 10, 'Barcelona': 2, 'Las Palmas': 27, 'Bilbao': 8}\n47\n[('Barcelona', 27), ('Bilbao', 10), ('Las Palmas', 8), ('Madrid', 2)]\n"
     ]
    }
   ],
   "source": [
    "# 1. Create a tuple as follows (10,2,27,8)\n",
    "tupla = (10,2,27,8)\n",
    "print('tupla',tupla)\n",
    "\n",
    "# 2. Get the length of the tuple\n",
    "print('longitud:', len(tupla))\n",
    "\n",
    "# 3. Which type is it? And which type are the elements the tuple contains?\n",
    "print(type(tupla))\n",
    "for element in tupla:\n",
    "    print(type(element))\n",
    "\n",
    "# 4.Create a new tuple with any other 4 strings and concatenate all of them with the tuple you created before by position, creating a list called words.\n",
    "new_tuple = ('Madrid', 'Barcelona', 'Las Palmas', 'Bilbao')\n",
    "words = []\n",
    "for i in range(len(tupla)):\n",
    "    words.append(new_tuple[i] + str(tupla[i]))\n",
    "print(words)\n",
    "\n",
    "# 5. Make a list with the same elements in question 1. Find the element 27 and make it 37.\n",
    "lista = list(tupla)\n",
    "for i, element in enumerate(lista):\n",
    "    if element == 27:\n",
    "        lista[i] = 37\n",
    "print(lista)\n",
    "\n",
    "# 6. Remove the number 8 from the list.\n",
    "lista.pop()\n",
    "print(lista)\n",
    "\n",
    "# 7. Turn the list you made before into a set.\n",
    "conjunto = set(lista)\n",
    "print(conjunto)\n",
    "\n",
    "# 8. Check if the element \"3\" is in that set.\n",
    "if 3 in conjunto:\n",
    "    print(True)\n",
    "else:\n",
    "    print(False)\n",
    "\n",
    "# 9. Sort the list you made in exercise 4 in descending order.\n",
    "lista.sort(reverse=True)\n",
    "print(lista)\n",
    "\n",
    "# 10. Turn the list words into a dictionary. Split every string taking the number in the tuple (10,2,27,8) as the values and the rest as the keys.\n",
    "dicc = {}\n",
    "for w in words:\n",
    "    for i, char in enumerate(w):\n",
    "        if char.isdigit():\n",
    "            key = w[:i]\n",
    "            value = int(w[i:])\n",
    "            dicc[key] = value\n",
    "            break\n",
    "\n",
    "print(dicc)\n",
    "\n",
    "# 11. Sum up the values of the new dictionary.\n",
    "suma = 0\n",
    "for v in dicc.values():\n",
    "    suma += v\n",
    "print(suma)\n",
    "\n",
    "# 12. Sort the values of the dictionary in descending order and the keys in ascending order, then make a list of tuples with every couple of keys and values by position.\n",
    "keys = list(dicc.keys())\n",
    "values = list(dicc.values())\n",
    "keys.sort()\n",
    "values.sort(reverse=True)\n",
    "final_list = []\n",
    "\n",
    "for i in range(len(keys)):\n",
    "    final_list.append((keys[i], values[i]))\n",
    "print(final_list)"
   ]
  },
  {
   "cell_type": "markdown",
   "metadata": {},
   "source": [
    "#### Dictionaries\n",
    "\n",
    "1. Make a dictionary containing three major rivers and the country each river runs through. One key-value pair might be 'nile': 'egypt'.\n",
    "\n",
    "    - Use a loop to print a sentence about each river, such as The Nile runs through Egypt.\n",
    "    - Use a loop to print the name of each river included in the dictionary.\n",
    "    - Use a loop to print the name of each country included in the dictionary."
   ]
  },
  {
   "cell_type": "code",
   "execution_count": 9,
   "metadata": {},
   "outputs": [
    {
     "output_type": "stream",
     "name": "stdout",
     "text": [
      "El Amazonas se encuentra en Brasil.\nEl Tajo se encuentra en España.\nEl Támesis se encuentra en Reino Unido.\nAmazonas\nTajo\nTámesis\nBrasil\nEspaña\nReino Unido\n"
     ]
    }
   ],
   "source": [
    "rivers = {\n",
    "    'Amazonas': 'Brasil',\n",
    "    'Tajo':'España',\n",
    "    'Támesis':'Reino Unido'\n",
    "}\n",
    "\n",
    "for k, v in rivers.items():\n",
    "    print(f'El {k} se encuentra en {v}.')\n",
    "\n",
    "for k in rivers.keys():\n",
    "    print(k)\n",
    "\n",
    "for v in rivers.values():\n",
    "    print(v)"
   ]
  },
  {
   "cell_type": "markdown",
   "metadata": {},
   "source": [
    "2. Use the provided dictionary that shows some coders and their favoites languages.\n",
    "```Python\n",
    "favorite_languages = {\n",
    "    'jen': 'python',\n",
    "    'sarah': 'c',\n",
    "    'edward': 'ruby',\n",
    "    'phil': 'python',\n",
    "    }\n",
    "```\n",
    "\n",
    "    - Make a list of people who should take the favorite languages poll. Include some names that are already in the dictionary and some that are not.\n",
    "    - Loop through the list of people who should take the poll. If they have already taken the poll, print a message thanking them for responding. If they have not yet taken the poll, print a message inviting them to take the poll."
   ]
  },
  {
   "cell_type": "code",
   "execution_count": 10,
   "metadata": {},
   "outputs": [
    {
     "output_type": "stream",
     "name": "stdout",
     "text": [
      "jen Thank you for taking the poll.\nphil Thank you for taking the poll.\njorge You should take the poll.\nisabel You should take the poll.\nmarina You should take the poll.\njonhy You should take the poll.\nedward Thank you for taking the poll.\n"
     ]
    }
   ],
   "source": [
    "favorite_languages = {\n",
    "    'jen': 'python',\n",
    "    'sarah': 'c',\n",
    "    'edward': 'ruby',\n",
    "    'phil': 'python',\n",
    "    }\n",
    "\n",
    "people = ['jen', 'phil', 'jorge', 'isabel', 'marina', 'jonhy', 'edward']\n",
    "\n",
    "def poll_people(dicc, lista):\n",
    "    for p in lista:\n",
    "        if p in dicc.keys():\n",
    "            print(p, 'Thank you for taking the poll.')\n",
    "        else:\n",
    "            print(p, 'You should take the poll.')\n",
    "\n",
    "poll_people(favorite_languages, people)"
   ]
  },
  {
   "cell_type": "markdown",
   "metadata": {},
   "source": [
    "3. Make a dictionary called cities. Use the names of three cities as keys in your dictionary. Create a dictionary of information about each city and include the country that the city is in, its approximate population, and one fact about that city. The keys for each city’s dictionary should be something like country, population, and fact. Print the name of each city and all of the information you have stored about it.\n",
    "\n",
    "```python\n",
    "cities = {\"city1\":{\"country\": \"bla\"}}\n",
    "```\n",
    "\n",
    "\n"
   ]
  },
  {
   "cell_type": "code",
   "execution_count": 11,
   "metadata": {},
   "outputs": [
    {
     "output_type": "stream",
     "name": "stdout",
     "text": [
      "----------\nMadrid\ncountry : Spain\npopulation : 3223000\nfact : Capital de España\n----------\nLos Ángeles\ncountry : United States\npopulation : 3967000\nfact : Ciudad del cine de Hollywood\n----------\nKyoto\ncountry : Japón\npopulation : 1475000\nfact : Famoso por sus templos budistas\n"
     ]
    }
   ],
   "source": [
    "cities = {\n",
    "    'Madrid':{'country':'Spain', 'population': 3223000, 'fact':'Capital de España'},\n",
    "    'Los Ángeles':{'country':'United States', 'population': 3967000, 'fact':'Ciudad del cine de Hollywood'},\n",
    "    'Kyoto':{'country':'Japón', 'population': 1475000, 'fact': 'Famoso por sus templos budistas'}\n",
    "}\n",
    "\n",
    "for k, v in cities.items():\n",
    "    print('----------')\n",
    "    print(k)\n",
    "    for k2, v2 in v.items():\n",
    "        print(k2, ':', v2)\n",
    "\n"
   ]
  },
  {
   "cell_type": "markdown",
   "metadata": {},
   "source": [
    "**for loop**\n",
    "1. This is a fruit list, ['banana', 'orange', 'mango', 'lemon'] reverse the order using a for loop.\n"
   ]
  },
  {
   "cell_type": "code",
   "execution_count": 16,
   "metadata": {},
   "outputs": [
    {
     "output_type": "stream",
     "name": "stdout",
     "text": [
      "[5, 4, 3, 2, 1, 0]\n"
     ]
    }
   ],
   "source": [
    "print(list(range(5,-1,-1)))"
   ]
  },
  {
   "cell_type": "code",
   "execution_count": 17,
   "metadata": {},
   "outputs": [
    {
     "output_type": "stream",
     "name": "stdout",
     "text": [
      "['lemon', 'mango', 'orange', 'banana']\n"
     ]
    }
   ],
   "source": [
    "frutas = ['banana', 'orange', 'mango', 'lemon']\n",
    "inversa = []\n",
    "\n",
    "for i in range(len(frutas)-1,-1,-1):\n",
    "    inversa.append(frutas[i])\n",
    "\n",
    "print(inversa)"
   ]
  },
  {
   "cell_type": "markdown",
   "metadata": {},
   "source": [
    "2. Write a Python program to create the multiplication table (from 1 to 10) of a number.\n",
    "```python\n",
    "Input a number: 5                                                                                             \n",
    "5 x 1 = 5                                                                                                     \n",
    "5 x 2 = 10                                                                                                    \n",
    "5 x 3 = 15                                                                                                    \n",
    "5 x 4 = 20                                                                                                    \n",
    "5 x 5 = 25                                                                                                    \n",
    "5 x 6 = 30                                                                                                    \n",
    "5 x 7 = 35                                                                                                    \n",
    "5 x 8 = 40                                                                                                    \n",
    "5 x 9 = 45                                                                                                    \n",
    "5 x 10 = 50\n",
    "```"
   ]
  },
  {
   "cell_type": "code",
   "execution_count": 19,
   "metadata": {},
   "outputs": [
    {
     "output_type": "stream",
     "name": "stdout",
     "text": [
      "Input number: 5\n5 x 1 = 5\n5 x 2 = 10\n5 x 3 = 15\n5 x 4 = 20\n5 x 5 = 25\n5 x 6 = 30\n5 x 7 = 35\n5 x 8 = 40\n5 x 9 = 45\n5 x 10 = 50\n"
     ]
    }
   ],
   "source": [
    "def tabla_multiplicar(num):\n",
    "    print(f'Input number: {num}')\n",
    "    for i in range(10):\n",
    "        res = num * (i+1)\n",
    "        print(num, 'x', (i+1), '=', res)\n",
    "\n",
    "tabla_multiplicar(5)"
   ]
  },
  {
   "cell_type": "markdown",
   "metadata": {},
   "source": [
    "3. Write a Python program which iterates the integers from 1 to 50. For multiples of three print \"Fizz\" instead of the number and for the multiples of five print \"Buzz\". For numbers which are multiples of both three and five print \"FizzBuzz\".\n",
    "```python\n",
    "Sample Output :\n",
    "fizzbuzz\n",
    "1\n",
    "2\n",
    "fizz\n",
    "4\n",
    "buzz\n",
    "```"
   ]
  },
  {
   "cell_type": "code",
   "execution_count": 20,
   "metadata": {},
   "outputs": [
    {
     "output_type": "stream",
     "name": "stdout",
     "text": [
      "1\n2\nFizz\n4\nBuzz\nFizz\n7\n8\nFizz\nBuzz\n11\nFizz\n13\n14\nFizzBuzz\n16\n17\nFizz\n19\nBuzz\nFizz\n22\n23\nFizz\nBuzz\n26\nFizz\n28\n29\nFizzBuzz\n31\n32\nFizz\n34\nBuzz\nFizz\n37\n38\nFizz\nBuzz\n41\nFizz\n43\n44\nFizzBuzz\n46\n47\nFizz\n49\nBuzz\n"
     ]
    }
   ],
   "source": [
    "def fizzbuzz():\n",
    "    for n in range(1,51):\n",
    "        if n % 3 == 0 and n % 5 == 0:\n",
    "            print('FizzBuzz')\n",
    "        elif n % 3 == 0:\n",
    "            print('Fizz')\n",
    "        elif n % 5 == 0:\n",
    "            print('Buzz')\n",
    "        else:\n",
    "            print(n)\n",
    "\n",
    "fizzbuzz()"
   ]
  },
  {
   "cell_type": "markdown",
   "metadata": {},
   "source": [
    "**functions**\n",
    "\n",
    "1. Write a Python function to check whether a string is a pangram or not. \n",
    "\n",
    "Note : Pangrams are words or sentences containing every letter of the alphabet at least once.\n",
    "    \n",
    "For example : `\"The quick brown fox jumps over the lazy dog\"`"
   ]
  },
  {
   "cell_type": "code",
   "execution_count": 25,
   "metadata": {},
   "outputs": [
    {
     "output_type": "stream",
     "name": "stdout",
     "text": [
      "True\n"
     ]
    }
   ],
   "source": [
    "def is_pangram(string):\n",
    "    alpha = 'abcdefghijklmnopqrstuvwxyz'\n",
    "    check = ''\n",
    "    for char in string.lower():\n",
    "        if char in alpha and char not in check:\n",
    "            check += char\n",
    "    if len(check) == len(alpha):\n",
    "        return True\n",
    "    else:\n",
    "        return False\n",
    "\n",
    "s = \"The quick brown fox jumps over the lazy dog\"\n",
    "print(is_pangram(s))"
   ]
  },
  {
   "cell_type": "markdown",
   "metadata": {},
   "source": [
    "2. Write a Python program to count the number of even and odd numbers from a series of numbers. \n",
    "\n",
    "```python\n",
    "Sample numbers: numbers = (1, 2, 3, 4, 5, 6, 7, 8, 9) \n",
    "    \n",
    "Expected Output:\n",
    "Number of even numbers: 5\n",
    "Number of odd numbers: 4\n",
    "```"
   ]
  },
  {
   "cell_type": "code",
   "execution_count": 26,
   "metadata": {},
   "outputs": [
    {
     "output_type": "stream",
     "name": "stdout",
     "text": [
      "Number of even numbers: 4\nNumber of odd numbers: 5\n"
     ]
    }
   ],
   "source": [
    "numbers = (1, 2, 3, 4, 5, 6, 7, 8, 9)\n",
    "\n",
    "def count_nums(lista):\n",
    "    even = 0\n",
    "    odd = 0\n",
    "    for n in lista:\n",
    "        if n % 2 == 0:\n",
    "            even += 1\n",
    "        else:\n",
    "            odd += 1\n",
    "    print('Number of even numbers:', even)\n",
    "    print('Number of odd numbers:', odd)\n",
    "\n",
    "count_nums(numbers)"
   ]
  },
  {
   "cell_type": "markdown",
   "metadata": {},
   "source": [
    "#### functions & while loop\n",
    "1. Write a program which keeps asking for numbers till the user writes 9999. In that case, the program returns the concatenation of every number as a string.\n"
   ]
  },
  {
   "cell_type": "code",
   "execution_count": 28,
   "metadata": {},
   "outputs": [
    {
     "output_type": "stream",
     "name": "stdout",
     "text": [
      "32324252626272829219999\n"
     ]
    }
   ],
   "source": [
    "def ask_num():\n",
    "    res = ''\n",
    "    num = ''\n",
    "    while num != '9999':\n",
    "        num = input('Introduzca un número:')\n",
    "        res += num\n",
    "    return res\n",
    "\n",
    "print(ask_num())"
   ]
  },
  {
   "cell_type": "markdown",
   "metadata": {},
   "source": [
    "2. Writes a function that asks a user for a pin code till they get it right... If they give a wrong answer three times the function returns \"Your bank account has been blocked\", otherwise, returns: \"You got it right! You get full access to your money\".\n"
   ]
  },
  {
   "cell_type": "code",
   "execution_count": 30,
   "metadata": {},
   "outputs": [
    {
     "output_type": "stream",
     "name": "stdout",
     "text": [
      "You got it right! You get full access to your money\n"
     ]
    }
   ],
   "source": [
    "def ask_password():\n",
    "    pin = '1234'\n",
    "    i = 0\n",
    "    while i < 3:\n",
    "        entrada = input(f'Please introduce your pin code (Try {i+1}):')\n",
    "        if entrada == pin:\n",
    "            return \"You got it right! You get full access to your money\"\n",
    "        else:\n",
    "            i += 1\n",
    "    return \"Your bank account has been blocked\"\n",
    "\n",
    "print(ask_password())"
   ]
  },
  {
   "cell_type": "markdown",
   "metadata": {},
   "source": [
    "#### functions & for loop\n",
    "\n",
    "1. Write a function that takes in a person's name, and prints out a greeting.\n",
    "    - The greeting must be at least three lines, and the person's name must be in each line.\n",
    "    - Use your function to greet at least three different people.\n",
    "    - Store your three people in a list, and call your function from a for loop."
   ]
  },
  {
   "cell_type": "code",
   "execution_count": 31,
   "metadata": {},
   "outputs": [
    {
     "output_type": "stream",
     "name": "stdout",
     "text": [
      "Greetings Jorge\nHow are you doing today Jorge?\nHope you have a great day Jorge!\nGreetings Jonhy\nHow are you doing today Jonhy?\nHope you have a great day Jonhy!\nGreetings María\nHow are you doing today María?\nHope you have a great day María!\n"
     ]
    }
   ],
   "source": [
    "def greet(name):\n",
    "    print(f'Greetings {name}')\n",
    "    print(f'How are you doing today {name}?')\n",
    "    print(f'Hope you have a great day {name}!')\n",
    "\n",
    "names = ['Jorge', 'Jonhy', 'María']\n",
    "\n",
    "for name in names:\n",
    "    greet(name)"
   ]
  },
  {
   "cell_type": "markdown",
   "metadata": {},
   "source": [
    "2. Make a list that includes 3 or 4 games that you like to play and print a statement that tells the user what games you like.\n",
    "    - Write a function that asks the user to tell you a game they like, and store the game in a variable such as `new_game`. \n",
    "    - If the user mentions one game you like to play, send a message asking to play together.\n",
    "    - Otherwise ask for another game name. If the user tries your program 3 times and doesn't give a game name you like, then ask them to find another friend."
   ]
  },
  {
   "cell_type": "code",
   "execution_count": 33,
   "metadata": {},
   "outputs": [
    {
     "output_type": "stream",
     "name": "stdout",
     "text": [
      "You should find another friend\n"
     ]
    }
   ],
   "source": [
    "games = ['padel', 'chess', 'football', 'mus']\n",
    "\n",
    "def ask_game(lista):\n",
    "    new_game = ''\n",
    "    i = 0\n",
    "    while i < 3:\n",
    "        new_game = input('Which game do you like?:')\n",
    "        if new_game in lista:\n",
    "            return 'May we play together?'\n",
    "        else:\n",
    "            i += 1\n",
    "    return 'You should find another friend'\n",
    "\n",
    "print(ask_game(games))"
   ]
  },
  {
   "cell_type": "markdown",
   "metadata": {},
   "source": [
    "#### write a mini-program\n",
    "**Three is a Crowd**\n",
    "- Make a list of names that includes at least four people.\n",
    "- Write an if test that prints a message about the room being crowded, if there are more than three people in your list.\n",
    "- Modify your list so that there are only two people in it. Use one of the methods for removing people from the list, don't just redefine the list.\n",
    "- Run your if test again. There should be no output this time, because there are less than three people in the list.\n",
    "- Store your if test in a function called something like `crowd_test`.\n",
    "\n"
   ]
  },
  {
   "cell_type": "code",
   "execution_count": 36,
   "metadata": {},
   "outputs": [
    {
     "output_type": "stream",
     "name": "stdout",
     "text": [
      "['Jorge', 'Isabel', 'Jonhy', 'Sonia']\nThe room is too crowded.\n['Jorge', 'Isabel']\nNone\n"
     ]
    }
   ],
   "source": [
    "names = ['Jorge', 'Isabel', 'Jonhy', 'Sonia']\n",
    "print(names)\n",
    "\n",
    "def crowd_test(lista):\n",
    "    if len(lista) >= 3:\n",
    "        return 'The room is too crowded.'\n",
    "\n",
    "print(crowd_test(names))\n",
    "\n",
    "for i in range(2):\n",
    "    names.pop()\n",
    "\n",
    "print(names)\n",
    "print(crowd_test(names))"
   ]
  },
  {
   "cell_type": "markdown",
   "metadata": {},
   "source": [
    "**Three is a Crowd - Part 2**\n",
    "- Save your program from *Three is a Crowd* under a new name.\n",
    "- Add an `else` statement to your if tests. If the `else` statement is run, have it print a message that the room is not very crowded.\n"
   ]
  },
  {
   "cell_type": "code",
   "execution_count": 37,
   "metadata": {},
   "outputs": [
    {
     "output_type": "stream",
     "name": "stdout",
     "text": [
      "The room is not very crowded.\n"
     ]
    }
   ],
   "source": [
    "def crowd_test_2(lista):\n",
    "    if len(lista) >= 3:\n",
    "        return 'The room is too crowded.'\n",
    "    else:\n",
    "        return 'The room is not very crowded.'\n",
    "\n",
    "print(crowd_test_2(names))"
   ]
  },
  {
   "cell_type": "markdown",
   "metadata": {},
   "source": [
    "\n",
    "**Six is a Mob**\n",
    "- Save your program from *Three is a Crowd - Part 2* under a new name.\n",
    "- Add some names to your list, so that there are at least six people in the list.\n",
    "- Modify your tests so that\n",
    "    - If there are more than 5 people, a message is printed about there being a mob in the room.\n",
    "    - If there are 3-5 people, a message is printed about the room being crowded.\n",
    "    - If there are 1 or 2 people, a message is printed about the room not being crowded.\n",
    "    - If there are no people in the room, a message is printed abou the room being empty."
   ]
  },
  {
   "cell_type": "code",
   "execution_count": 41,
   "metadata": {},
   "outputs": [
    {
     "output_type": "stream",
     "name": "stdout",
     "text": [
      "['Jorge', 'Isabel', 'Jonhy', 'María', 'Nacho', 'Sonia']\nThere is a mob in the room.\n"
     ]
    }
   ],
   "source": [
    "names = ['Jorge', 'Isabel', 'Jonhy', 'María', 'Nacho', 'Sonia']\n",
    "\n",
    "def mob_test(lista):\n",
    "    if len(lista) > 5:\n",
    "        return 'There is a mob in the room.'\n",
    "    elif len(lista) >= 3:\n",
    "        return 'The room is too crowded.'\n",
    "    elif len(lista) > 0:\n",
    "        return 'The room is not crowded.'\n",
    "    else:\n",
    "        return 'The room is empty'\n",
    "\n",
    "print(names)\n",
    "print(mob_test(names))"
   ]
  },
  {
   "cell_type": "code",
   "execution_count": 1,
   "metadata": {},
   "outputs": [
    {
     "output_type": "error",
     "ename": "TypeError",
     "evalue": "'str' object does not support item assignment",
     "traceback": [
      "\u001b[1;31m---------------------------------------------------------------------------\u001b[0m",
      "\u001b[1;31mTypeError\u001b[0m                                 Traceback (most recent call last)",
      "\u001b[1;32m<ipython-input-1-3b20fc32dc07>\u001b[0m in \u001b[0;36m<module>\u001b[1;34m\u001b[0m\n\u001b[0;32m      1\u001b[0m \u001b[0ms\u001b[0m \u001b[1;33m=\u001b[0m \u001b[1;34m'blabla'\u001b[0m\u001b[1;33m\u001b[0m\u001b[1;33m\u001b[0m\u001b[0m\n\u001b[1;32m----> 2\u001b[1;33m \u001b[0ms\u001b[0m\u001b[1;33m[\u001b[0m\u001b[1;36m0\u001b[0m\u001b[1;33m]\u001b[0m \u001b[1;33m=\u001b[0m \u001b[1;34m'c'\u001b[0m\u001b[1;33m\u001b[0m\u001b[1;33m\u001b[0m\u001b[0m\n\u001b[0m",
      "\u001b[1;31mTypeError\u001b[0m: 'str' object does not support item assignment"
     ]
    }
   ],
   "source": [
    "s = 'blabla'\n",
    "s[0] = 'c'"
   ]
  },
  {
   "cell_type": "code",
   "execution_count": null,
   "metadata": {},
   "outputs": [],
   "source": []
  }
 ],
 "metadata": {
  "kernelspec": {
   "name": "python374jvsc74a57bd0674dfd6ded4398e0679ff4f65e9a10a54ff0d14801bec0126172cfc3973d1cf1",
   "display_name": "Python 3.7.4 64-bit"
  },
  "language_info": {
   "codemirror_mode": {
    "name": "ipython",
    "version": 3
   },
   "file_extension": ".py",
   "mimetype": "text/x-python",
   "name": "python",
   "nbconvert_exporter": "python",
   "pygments_lexer": "ipython3",
   "version": "3.7.4"
  },
  "metadata": {
   "interpreter": {
    "hash": "674dfd6ded4398e0679ff4f65e9a10a54ff0d14801bec0126172cfc3973d1cf1"
   }
  }
 },
 "nbformat": 4,
 "nbformat_minor": 4
}