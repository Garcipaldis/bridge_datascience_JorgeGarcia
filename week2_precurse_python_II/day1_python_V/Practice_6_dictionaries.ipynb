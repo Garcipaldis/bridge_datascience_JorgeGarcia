{
 "cells": [
  {
   "cell_type": "markdown",
   "metadata": {},
   "source": [
    "# Python | day 6 | dictionaries"
   ]
  },
  {
   "cell_type": "markdown",
   "metadata": {},
   "source": [
    "Dictionaries are used to store data values in key:value pairs.\n",
    "\n",
    "A dictionary is a collection which is unordered, changeable and does not allow duplicates.\n",
    "\n",
    "Dictionaries are written with curly brackets, and have keys and values:"
   ]
  },
  {
   "cell_type": "markdown",
   "metadata": {},
   "source": [
    "```python\n",
    "thisdict = {\n",
    "  \"brand\": \"Ford\",\n",
    "  \"model\": \"Mustang\",\n",
    "  \"year\": 1964\n",
    "}\n",
    "```"
   ]
  },
  {
   "cell_type": "markdown",
   "metadata": {},
   "source": [
    "https://www.w3schools.com/python/python_dictionaries.asp"
   ]
  },
  {
   "cell_type": "markdown",
   "metadata": {},
   "source": [
    "### Exercise 1. \n",
    "\n",
    "1. Create a dictionary with an integer 5 as the key and \"val\" as its value."
   ]
  },
  {
   "cell_type": "code",
   "execution_count": 1,
   "metadata": {},
   "outputs": [
    {
     "output_type": "stream",
     "name": "stdout",
     "text": [
      "{5: 'val'}\n"
     ]
    }
   ],
   "source": [
    "dicc = {\n",
    "    5: 'val'\n",
    "}\n",
    "\n",
    "print(dicc)"
   ]
  },
  {
   "cell_type": "markdown",
   "metadata": {},
   "source": [
    "2. Create two lists: one that has 4 city names and another that has 4 landmarks in the city."
   ]
  },
  {
   "cell_type": "code",
   "execution_count": 2,
   "metadata": {},
   "outputs": [
    {
     "output_type": "stream",
     "name": "stdout",
     "text": [
      "['Madrid', 'Granada', 'Río de Janeiro', 'Roma']\n['Puerta del Sol', 'La Alhambra', 'Cristo Redentor', 'Coliseo']\n"
     ]
    }
   ],
   "source": [
    "cities = ['Madrid', 'Granada', 'Río de Janeiro', 'Roma']\n",
    "landmarks = ['Puerta del Sol', 'La Alhambra', 'Cristo Redentor', 'Coliseo']\n",
    "\n",
    "print(cities)\n",
    "print(landmarks)"
   ]
  },
  {
   "cell_type": "markdown",
   "metadata": {},
   "source": [
    "3. Create a dictionary where the cities contained in the first list are the **keys** and the landmarks are the **values**.\n",
    "```python\n",
    "#example\n",
    "places = {\"Malaga\": \"Gibralfaro\", \n",
    "         \"Madrid\": \"Templo de Debod\",\n",
    "         \"Granada\": \"La Alcazaba\",\n",
    "         \"Barcelona\": \"Sagrada Familia\"}\n",
    "```"
   ]
  },
  {
   "cell_type": "code",
   "execution_count": 3,
   "metadata": {},
   "outputs": [
    {
     "output_type": "stream",
     "name": "stdout",
     "text": [
      "{'Madrid': 'Puerta del Sol', 'Granada': 'La Alhambra', 'Río de Janeiro': 'Cristo Redentor', 'Roma': 'Coliseo'}\n"
     ]
    }
   ],
   "source": [
    "places = {}\n",
    "\n",
    "for i in range(len(cities)):\n",
    "    places[cities[i]] = landmarks[i]\n",
    "\n",
    "print(places)"
   ]
  },
  {
   "cell_type": "markdown",
   "metadata": {},
   "source": [
    "4. Loop through the dictionary and print only the values of those keys starting with the letter **M**.\n",
    "\n",
    "https://realpython.com/iterate-through-dictionary-python/"
   ]
  },
  {
   "cell_type": "code",
   "execution_count": 6,
   "metadata": {},
   "outputs": [
    {
     "output_type": "stream",
     "name": "stdout",
     "text": [
      "Puerta del Sol\n"
     ]
    }
   ],
   "source": [
    "def get_key(dicc, letter):\n",
    "    for k in dicc.keys():\n",
    "        if k.startswith(letter):\n",
    "            print (dicc[k])\n",
    "\n",
    "get_key(places, 'M')"
   ]
  },
  {
   "cell_type": "markdown",
   "metadata": {},
   "source": [
    "5. Create a function that receives two lists `list1` and `list2` by parameter and returns a dictionary with each element of `list1` as keys and the elements of `list2` as values. Call the function with the lists you have created before to return the same dictionary you've created in question 3. "
   ]
  },
  {
   "cell_type": "code",
   "execution_count": 8,
   "metadata": {},
   "outputs": [
    {
     "output_type": "stream",
     "name": "stdout",
     "text": [
      "{'Madrid': 'Puerta del Sol', 'Granada': 'La Alhambra', 'Río de Janeiro': 'Cristo Redentor', 'Roma': 'Coliseo'}\n"
     ]
    }
   ],
   "source": [
    "def create_dicc(list1, list2):\n",
    "    dicc = {}\n",
    "    for i in range(len(list1)):\n",
    "        dicc[list1[i]] = list2[i]\n",
    "    return dicc\n",
    "\n",
    "places = create_dicc(cities, landmarks)\n",
    "print(places)"
   ]
  },
  {
   "cell_type": "markdown",
   "metadata": {},
   "source": [
    "### Exercise 2. "
   ]
  },
  {
   "cell_type": "markdown",
   "metadata": {},
   "source": [
    "1. Create an empty dictionary called dog."
   ]
  },
  {
   "cell_type": "code",
   "execution_count": 9,
   "metadata": {},
   "outputs": [],
   "source": [
    "dog = {}"
   ]
  },
  {
   "cell_type": "markdown",
   "metadata": {},
   "source": [
    "2. Add name, color, breed, legs, age to the dog dictionary."
   ]
  },
  {
   "cell_type": "code",
   "execution_count": 12,
   "metadata": {},
   "outputs": [
    {
     "output_type": "stream",
     "name": "stdout",
     "text": [
      "{'name': 'Pumba', 'color': 'brown', 'breed': 'Irish Setter', 'legs': 4, 'age': 1}\n"
     ]
    }
   ],
   "source": [
    "keys = ['name', 'color', 'breed', 'legs', 'age']\n",
    "values = ['Pumba', 'brown', 'Irish Setter', 4, 1]\n",
    "\n",
    "def add_to_dicc(dicc, keys, values):\n",
    "    element = {}\n",
    "    for i in range(len(keys)):\n",
    "        element = {keys[i]:values[i]}\n",
    "        dicc.update(element)\n",
    "\n",
    "add_to_dicc(dog, keys, values)\n",
    "print(dog)"
   ]
  },
  {
   "cell_type": "markdown",
   "metadata": {},
   "source": [
    "3. Create a student dictionary and add first_name, last_name, age, skills, country, city and address as keys for the dictionary.\n"
   ]
  },
  {
   "cell_type": "code",
   "execution_count": 14,
   "metadata": {},
   "outputs": [
    {
     "output_type": "stream",
     "name": "stdout",
     "text": [
      "{'first_name': 'Jorge', 'last_name': 'García', 'age': 27, 'skills': ['python', 'english'], 'country': 'Spain', 'city': 'Madrid', 'address': 'Calle Terral'}\n"
     ]
    }
   ],
   "source": [
    "student = {\n",
    "    'first_name':'Jorge',\n",
    "    'last_name': 'García',\n",
    "    'age': 27,\n",
    "    'skills': ['python', 'english'],\n",
    "    'country': 'Spain',\n",
    "    'city': 'Madrid',\n",
    "    'address': 'Calle Terral'\n",
    "}\n",
    "\n",
    "print(student)"
   ]
  },
  {
   "cell_type": "markdown",
   "metadata": {},
   "source": [
    "4. Get the length of the student dictionary.\n"
   ]
  },
  {
   "cell_type": "code",
   "execution_count": 15,
   "metadata": {},
   "outputs": [
    {
     "output_type": "stream",
     "name": "stdout",
     "text": [
      "7\n"
     ]
    }
   ],
   "source": [
    "print(len(student))"
   ]
  },
  {
   "cell_type": "markdown",
   "metadata": {},
   "source": [
    "5. Get the value of skills and check the data type, it should be a list."
   ]
  },
  {
   "cell_type": "code",
   "execution_count": 16,
   "metadata": {},
   "outputs": [
    {
     "output_type": "stream",
     "name": "stdout",
     "text": [
      "['python', 'english']\n<class 'list'>\n"
     ]
    }
   ],
   "source": [
    "print(student['skills'])\n",
    "print(type(student['skills']))"
   ]
  },
  {
   "cell_type": "markdown",
   "metadata": {},
   "source": [
    "6. Modify the skills values by adding one or two skills."
   ]
  },
  {
   "cell_type": "code",
   "execution_count": 18,
   "metadata": {},
   "outputs": [
    {
     "output_type": "stream",
     "name": "stdout",
     "text": [
      "['python', 'english', 'cooking', 'singing']\n"
     ]
    }
   ],
   "source": [
    "student['skills'].append('cooking')\n",
    "student['skills'].append('singing')\n",
    "print(student['skills'])"
   ]
  },
  {
   "cell_type": "markdown",
   "metadata": {},
   "source": [
    "7. Get the dictionary keys as a list."
   ]
  },
  {
   "cell_type": "code",
   "execution_count": 20,
   "metadata": {},
   "outputs": [
    {
     "output_type": "stream",
     "name": "stdout",
     "text": [
      "['first_name', 'last_name', 'age', 'skills', 'country', 'city', 'address']\n"
     ]
    }
   ],
   "source": [
    "print(list(student.keys()))"
   ]
  },
  {
   "cell_type": "markdown",
   "metadata": {},
   "source": [
    "8. Get the dictionary values as a list.\n"
   ]
  },
  {
   "cell_type": "code",
   "execution_count": 21,
   "metadata": {},
   "outputs": [
    {
     "output_type": "stream",
     "name": "stdout",
     "text": [
      "['Jorge', 'García', 27, ['python', 'english', 'cooking', 'singing'], 'Spain', 'Madrid', 'Calle Terral']\n"
     ]
    }
   ],
   "source": [
    "print(list(student.values()))"
   ]
  },
  {
   "cell_type": "markdown",
   "metadata": {},
   "source": [
    "9. Change the dictionary to a list of tuples using `items()` method"
   ]
  },
  {
   "cell_type": "code",
   "execution_count": 22,
   "metadata": {},
   "outputs": [
    {
     "output_type": "stream",
     "name": "stdout",
     "text": [
      "[('first_name', 'Jorge'), ('last_name', 'García'), ('age', 27), ('skills', ['python', 'english', 'cooking', 'singing']), ('country', 'Spain'), ('city', 'Madrid'), ('address', 'Calle Terral')]\n"
     ]
    }
   ],
   "source": [
    "def dicc_to_tuplelist(dicc):\n",
    "    lista = []\n",
    "    for k, v in dicc.items():\n",
    "        lista.append((k, v))\n",
    "    return lista\n",
    "\n",
    "tuplelist = dicc_to_tuplelist(student)\n",
    "print(tuplelist)"
   ]
  },
  {
   "cell_type": "markdown",
   "metadata": {},
   "source": [
    "10. Delete one of the items in the dictionary.\n"
   ]
  },
  {
   "cell_type": "code",
   "execution_count": 23,
   "metadata": {},
   "outputs": [
    {
     "output_type": "stream",
     "name": "stdout",
     "text": [
      "{'first_name': 'Jorge', 'last_name': 'García', 'age': 27, 'skills': ['python', 'english', 'cooking', 'singing'], 'country': 'Spain', 'city': 'Madrid'}\n"
     ]
    }
   ],
   "source": [
    "student.pop('address')\n",
    "print(student)"
   ]
  },
  {
   "cell_type": "markdown",
   "metadata": {},
   "source": [
    "### Bonus Track"
   ]
  },
  {
   "cell_type": "markdown",
   "metadata": {},
   "source": [
    "**Tómate un zumito a tu salud.**"
   ]
  },
  {
   "source": [
    "¡Gracias!"
   ],
   "cell_type": "markdown",
   "metadata": {}
  },
  {
   "cell_type": "markdown",
   "metadata": {},
   "source": [
    "!['daughter'](https://i.pinimg.com/originals/8f/35/28/8f35281e742e71be09697e7e6789b819.png)"
   ]
  },
  {
   "cell_type": "code",
   "execution_count": null,
   "metadata": {},
   "outputs": [],
   "source": []
  }
 ],
 "metadata": {
  "kernelspec": {
   "name": "python374jvsc74a57bd0674dfd6ded4398e0679ff4f65e9a10a54ff0d14801bec0126172cfc3973d1cf1",
   "display_name": "Python 3.7.4 64-bit"
  },
  "language_info": {
   "codemirror_mode": {
    "name": "ipython",
    "version": 3
   },
   "file_extension": ".py",
   "mimetype": "text/x-python",
   "name": "python",
   "nbconvert_exporter": "python",
   "pygments_lexer": "ipython3",
   "version": "3.7.4-final"
  },
  "metadata": {
   "interpreter": {
    "hash": "674dfd6ded4398e0679ff4f65e9a10a54ff0d14801bec0126172cfc3973d1cf1"
   }
  }
 },
 "nbformat": 4,
 "nbformat_minor": 2
}