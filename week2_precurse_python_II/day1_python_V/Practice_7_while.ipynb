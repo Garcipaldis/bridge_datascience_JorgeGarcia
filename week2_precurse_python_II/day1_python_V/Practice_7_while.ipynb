{
 "cells": [
  {
   "cell_type": "markdown",
   "metadata": {},
   "source": [
    "# Python | day 6 | while"
   ]
  },
  {
   "cell_type": "markdown",
   "metadata": {},
   "source": [
    "With the **while** loop we can execute a set of statements as long as a condition is true."
   ]
  },
  {
   "cell_type": "markdown",
   "metadata": {},
   "source": [
    "```python\n",
    "i = 1\n",
    "while i < 6:\n",
    "  print(i)\n",
    "  i += 1\n",
    "```"
   ]
  },
  {
   "cell_type": "markdown",
   "metadata": {},
   "source": [
    "https://www.w3schools.com/python/python_while_loops.asp"
   ]
  },
  {
   "cell_type": "markdown",
   "metadata": {},
   "source": [
    "### Exercise 1. "
   ]
  },
  {
   "cell_type": "markdown",
   "metadata": {},
   "source": [
    "Do as described below:\n",
    "\n",
    "- Make a variable called strength, and set its initial value to 5.\n",
    "\n",
    "- Print a message reporting the player's strength.\n",
    "\n",
    "- Set up a while loop that runs until the player's strength increases to a value such as 10.\n",
    "\n",
    "- Inside the while loop, print a message that reports the player's current strength.\n",
    "\n",
    "- Inside the while loop, write a statement that increases the player's strength.\n",
    "\n",
    "- Outside the while loop, print a message reporting that the player has grown too strong, and that they have moved up to a new level of the game.\n",
    "\n",
    "Play around with different cutoff levels for the value of strength, and play around with different ways to increase the strength value within the while loop.\n"
   ]
  },
  {
   "cell_type": "code",
   "execution_count": 2,
   "metadata": {},
   "outputs": [
    {
     "output_type": "stream",
     "name": "stdout",
     "text": [
      "Your current strength is: 5\nYour current strength is: 5\nYour current strength is: 8\nYou have grown too strong (actual strength = 10). You have moved up to the next level.\n"
     ]
    }
   ],
   "source": [
    "strength = 5\n",
    "print('Your current strength is:', strength)\n",
    "\n",
    "while strength < 10:\n",
    "    print('Your current strength is:', strength)\n",
    "    if strength % 2 == 0 and strength < 8:\n",
    "        strength += 1\n",
    "    elif strength % 2 == 0:\n",
    "        strength += 2\n",
    "    else:\n",
    "        strength += 3\n",
    "\n",
    "print(f'You have grown too strong (actual strength = {strength}). You have moved up to the next level.')"
   ]
  },
  {
   "cell_type": "markdown",
   "metadata": {},
   "source": [
    "### Exercise 2. "
   ]
  },
  {
   "cell_type": "markdown",
   "metadata": {},
   "source": [
    "To solve the following exercises it will be necessary to define a function for each section. You choose the name of those functions unless specified, but make sure you define a single parameter `whichever_list`, when calling the function it will correspond to the variable `info_list`."
   ]
  },
  {
   "cell_type": "code",
   "execution_count": 3,
   "metadata": {},
   "outputs": [],
   "source": [
    "# you can use this list or take yours from Practice 3\n",
    "info_list = [15, 'Recoletos', True, ['Recoletos', 15],  None, '8'] "
   ]
  },
  {
   "cell_type": "markdown",
   "metadata": {},
   "source": [
    "You have already read these questions below, but this time you are asked to solve it using `while` loop instead of `for`. \n",
    "\n",
    "   - Loop through `whichever_list` to print all the elements it contains. This function should return the list turned into a tuple. \n",
    "   - Loop through `whichever_list` to print all the elements it contains concatenated with the string` \"--> OK\" `. This function should return a message saying, `\"everything will be ok\"`. \n",
    "   - Loop through `whichever_list` to display all items it contains except the first one. This function should return the first element of the list. \n",
    "   - Loop through `whichever_list` to display all the items it contains except the last one. This function should return the last element of the list. "
   ]
  },
  {
   "cell_type": "code",
   "execution_count": 4,
   "metadata": {},
   "outputs": [
    {
     "output_type": "stream",
     "name": "stdout",
     "text": [
      "15\nRecoletos\nTrue\n['Recoletos', 15]\nNone\n8\n-----------------\n(15, 'Recoletos', True, ['Recoletos', 15], None, '8')\n"
     ]
    }
   ],
   "source": [
    "def get_tuple(whichever_list):\n",
    "    i = 0\n",
    "    while i < len(whichever_list):\n",
    "        print(whichever_list[i])\n",
    "        i += 1\n",
    "    return tuple(whichever_list)\n",
    "\n",
    "tupla = get_tuple(info_list)\n",
    "print('-----------------')\n",
    "print(tupla)"
   ]
  },
  {
   "cell_type": "code",
   "execution_count": 6,
   "metadata": {},
   "outputs": [
    {
     "output_type": "stream",
     "name": "stdout",
     "text": [
      "15 --> OK\nRecoletos --> OK\nTrue --> OK\n['Recoletos', 15] --> OK\nNone --> OK\n8 --> OK\n-----------------\nEverything will be ok\n"
     ]
    }
   ],
   "source": [
    "def set_ok(whichever_list):\n",
    "    i = 0\n",
    "    while i < len(whichever_list):\n",
    "        print(str(whichever_list[i]) + ' --> OK')\n",
    "        i += 1\n",
    "    return 'Everything will be ok'\n",
    "\n",
    "res = set_ok(info_list)\n",
    "print('-----------------')\n",
    "print(res)"
   ]
  },
  {
   "cell_type": "code",
   "execution_count": 7,
   "metadata": {},
   "outputs": [
    {
     "output_type": "stream",
     "name": "stdout",
     "text": [
      "Recoletos\nTrue\n['Recoletos', 15]\nNone\n8\n-----------------\n15\n"
     ]
    }
   ],
   "source": [
    "def get_first(whichever_list):\n",
    "    i = 1\n",
    "    while i < len(whichever_list):\n",
    "        print(whichever_list[i])\n",
    "        i += 1\n",
    "    return whichever_list[0]\n",
    "\n",
    "res = get_first(info_list)\n",
    "print('-----------------')\n",
    "print(res)"
   ]
  },
  {
   "cell_type": "code",
   "execution_count": 8,
   "metadata": {},
   "outputs": [
    {
     "output_type": "stream",
     "name": "stdout",
     "text": [
      "15\nRecoletos\nTrue\n['Recoletos', 15]\nNone\n-----------------\n8\n"
     ]
    }
   ],
   "source": [
    "def get_last(whichever_list):\n",
    "    i = 0\n",
    "    while i < len(whichever_list)-1:\n",
    "        print(whichever_list[i])\n",
    "        i += 1\n",
    "    return whichever_list[-1]\n",
    "\n",
    "res = get_last(info_list)\n",
    "print('-----------------')\n",
    "print(res)"
   ]
  },
  {
   "cell_type": "code",
   "execution_count": null,
   "metadata": {},
   "outputs": [],
   "source": []
  },
  {
   "cell_type": "markdown",
   "metadata": {},
   "source": [
    "### Exercise 3. "
   ]
  },
  {
   "cell_type": "markdown",
   "metadata": {},
   "source": [
    "1. Define a function that performs the [Fibonacci series](https://quantdare.com/numeros-de-fibonacci/#:~:text=En%20matem%C3%A1ticas%2C%20la%20sucesi%C3%B3n%20o,nombre%20de%20n%C3%BAmero%20de%20Fibonacci.) with a `while`."
   ]
  },
  {
   "cell_type": "code",
   "execution_count": 25,
   "metadata": {
    "tags": []
   },
   "outputs": [
    {
     "output_type": "execute_result",
     "data": {
      "text/plain": [
       "[0, 1, 1, 2, 3, 5, 8, 13, 21, 34, 55, 89]"
      ]
     },
     "metadata": {},
     "execution_count": 25
    }
   ],
   "source": [
    "def print_fibonacci(limit):\n",
    "    lista = [0, 1]\n",
    "    i = 1\n",
    "    num = 1\n",
    "    if limit > 2:\n",
    "        while i <= limit:\n",
    "            num = lista[i] + lista[i-1]\n",
    "            lista.append(num)\n",
    "            i += 1\n",
    "    else:\n",
    "        lista = lista[:limit]\n",
    "    return lista\n",
    "\n",
    "print_fibonacci(10)"
   ]
  },
  {
   "cell_type": "markdown",
   "metadata": {},
   "source": [
    "### Bonus Track."
   ]
  },
  {
   "cell_type": "markdown",
   "metadata": {},
   "source": [
    "To solve the following exercises it will be necessary to define a function for each section. You choose the name of those functions unless specified, but make sure you define a single parameter `whichever_list`, when calling the function it will correspond to the variable `info_list`."
   ]
  },
  {
   "cell_type": "code",
   "execution_count": 26,
   "metadata": {},
   "outputs": [],
   "source": [
    "# you can use this list or take yours from Practice 3\n",
    "info_list = [15, 'Recoletos', True, ['Recoletos', 15],  None, '8'] "
   ]
  },
  {
   "cell_type": "markdown",
   "metadata": {},
   "source": [
    "1. Define a function `f_s` that saves the value of a word (for example: \"nothing\") in a variable and print it. Also, concatenate its value with the street number of The Bridge and display it on the screen. \n",
    "\n",
    "   Also, display a boolean **True** if the length of the concatenated word is 6. If not, it will be **False**. The function must return the value **True** or **False**."
   ]
  },
  {
   "cell_type": "code",
   "execution_count": 27,
   "metadata": {},
   "outputs": [
    {
     "output_type": "stream",
     "name": "stdout",
     "text": [
      "python15\n--------------\nTrue\n"
     ]
    }
   ],
   "source": [
    "def f_s(whichever_list):\n",
    "    entrada = input('Introduzca una palabra:')\n",
    "    print(entrada + str(whichever_list[0]))\n",
    "    if len(entrada) == 6:\n",
    "        return True\n",
    "    else:\n",
    "        return False\n",
    "\n",
    "res = f_s(info_list)\n",
    "print('--------------')\n",
    "print(res)"
   ]
  },
  {
   "cell_type": "markdown",
   "metadata": {},
   "source": [
    "2. Create a list `list_aux` with 7 elements, whichever you want. Next, create a function `function_use_f_s` which receives as parameters a function `some_function`, a word which is the argument of `some_funtion` and whichever list `whichever_list`. If the value of `some_function` is **True**, then delete an item from `whichever_list`. Repeat the process until `whichever_list` has no elements. The argument for `whichever_list` must be `list_aux` and for `some_function` it will be the function `f_s` from the previous point."
   ]
  },
  {
   "cell_type": "code",
   "execution_count": 30,
   "metadata": {},
   "outputs": [
    {
     "output_type": "stream",
     "name": "stdout",
     "text": [
      "python15\n",
      "python15\n",
      "python15\n",
      "python15\n",
      "python15\n",
      "python15\n",
      "python15\n",
      "[]\n"
     ]
    }
   ],
   "source": [
    "list_aux = ['Madrid', 'Sevilla', 'Oviedo', 'San Sebastián', 'Barcelona', 'Las Palmas', 'León']\n",
    "\n",
    "def function_use_f_s(some_function, info_list, whichever_list):\n",
    "    while len(whichever_list) > 0:\n",
    "        if some_function(info_list):\n",
    "            whichever_list.pop()\n",
    "    return whichever_list\n",
    "\n",
    "res = function_use_f_s(f_s, info_list, list_aux)\n",
    "print(res)"
   ]
  },
  {
   "cell_type": "markdown",
   "metadata": {},
   "source": [
    "3. Define a function `even_numbers` that has an input parameter `arg1`, type integer. The function must return a list of numbers of size `arg1`, all of them being even numbers. \n",
    "\n",
    "   Don't use the function `print()` inside the function, but print what `even_numbers` returns when calling it with the argument `10`, just to check your function works.\n",
    "   \n",
    "```python\n",
    "print(even_numbers(10))\n",
    "```"
   ]
  },
  {
   "cell_type": "code",
   "execution_count": 31,
   "metadata": {},
   "outputs": [
    {
     "output_type": "stream",
     "name": "stdout",
     "text": [
      "[0, 2, 4, 6, 8, 10, 12, 14, 16, 18]\n"
     ]
    }
   ],
   "source": [
    "def even_numbers(arg1):\n",
    "    lista = []\n",
    "    n = 0\n",
    "    while len(lista) < arg1:\n",
    "        lista.append(n)\n",
    "        n += 2\n",
    "    return lista\n",
    "\n",
    "print(even_numbers(10))"
   ]
  },
  {
   "cell_type": "markdown",
   "metadata": {},
   "source": [
    "4. Create a function that has an input variable `arg1`, which will be the list of even numbers from the previous section, and that removes elements from the list, one by one, if `arg1` has a size divisible by 2 and, if not, it adds just once, the value of the function `f_s` that should be a boolean (`True` or `False`).\n"
   ]
  },
  {
   "cell_type": "code",
   "execution_count": 35,
   "metadata": {},
   "outputs": [
    {
     "output_type": "stream",
     "name": "stdout",
     "text": [
      "python15\n[0, 2, 4, 6, 8, 10, 12, 14, 16, 18, 20, True]\n"
     ]
    }
   ],
   "source": [
    "even = even_numbers(11)\n",
    "\n",
    "def func_final(arg1):\n",
    "    if len(arg1) % 2 == 0:\n",
    "        while len(arg1) > 0:\n",
    "            arg1.pop()\n",
    "    else:\n",
    "        arg1.append(f_s(info_list))\n",
    "    return arg1\n",
    "\n",
    "print(func_final(even))"
   ]
  },
  {
   "cell_type": "markdown",
   "metadata": {},
   "source": [
    "!['nicetry'](https://i.pinimg.com/originals/36/ab/81/36ab81cd8d63cf7c4a08f39403698c77.jpg)"
   ]
  },
  {
   "cell_type": "code",
   "execution_count": 7,
   "metadata": {},
   "outputs": [
    {
     "output_type": "stream",
     "name": "stdout",
     "text": [
      "Variación 2016/2017: 0.03248490538739087\nVariación 2017/2018: 0.32390185615724015\nVariación 2018/2019: 0.6489911388357507\nVariación 2019/2020: 0.9028731383147032\n"
     ]
    }
   ],
   "source": [
    "años = {'2016': 46557008, '2017': 46572132, '2018': 46722980, '2019': 47026208, '2020': 47450795}\n",
    "lista = ['2016', '2017', '2018', '2019', '2020']\n",
    "\n",
    "for i in range(len(años)-1):\n",
    "    print(f'Variación {lista[i]}/{lista[i+1]}:', (años[lista[i+1]]-años[lista[i]])*100/años[lista[i]])\n"
   ]
  }
 ],
 "metadata": {
  "kernelspec": {
   "name": "python374jvsc74a57bd0674dfd6ded4398e0679ff4f65e9a10a54ff0d14801bec0126172cfc3973d1cf1",
   "display_name": "Python 3.7.4 64-bit"
  },
  "language_info": {
   "codemirror_mode": {
    "name": "ipython",
    "version": 3
   },
   "file_extension": ".py",
   "mimetype": "text/x-python",
   "name": "python",
   "nbconvert_exporter": "python",
   "pygments_lexer": "ipython3",
   "version": "3.7.4-final"
  },
  "metadata": {
   "interpreter": {
    "hash": "674dfd6ded4398e0679ff4f65e9a10a54ff0d14801bec0126172cfc3973d1cf1"
   }
  }
 },
 "nbformat": 4,
 "nbformat_minor": 4
}