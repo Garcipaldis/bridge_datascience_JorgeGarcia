{
 "cells": [
  {
   "cell_type": "markdown",
   "metadata": {},
   "source": [
    "# Python | day 5 | functions"
   ]
  },
  {
   "cell_type": "markdown",
   "metadata": {},
   "source": [
    "In Python, a function is a group of related statements that performs a specific task."
   ]
  },
  {
   "cell_type": "markdown",
   "metadata": {},
   "source": [
    "https://www.programiz.com/python-programming/function"
   ]
  },
  {
   "cell_type": "markdown",
   "metadata": {},
   "source": [
    "#### Difference between `return` and `print`.\n",
    "\n",
    "Take some minutes to understand the difference between `return` and `print`, it seems to be the same, but they are not and it's important you understand the difference. "
   ]
  },
  {
   "cell_type": "code",
   "execution_count": 1,
   "metadata": {},
   "outputs": [
    {
     "output_type": "stream",
     "name": "stdout",
     "text": [
      "2\n4\n8\n"
     ]
    }
   ],
   "source": [
    "def suma(a,b):\n",
    "    print(a)\n",
    "    return a+b\n",
    "\n",
    "print(suma(suma(2,2),4))"
   ]
  },
  {
   "cell_type": "markdown",
   "metadata": {},
   "source": [
    "#### Comments in a function."
   ]
  },
  {
   "cell_type": "code",
   "execution_count": 2,
   "metadata": {},
   "outputs": [],
   "source": [
    "def say_hello(name):\n",
    "    \"\"\"\n",
    "    Given a name as an argument, \n",
    "    the function return a string greeting\n",
    "    the name given. \n",
    "    \"\"\"\n",
    "    return f\"hello {name}\""
   ]
  },
  {
   "cell_type": "code",
   "execution_count": 3,
   "metadata": {},
   "outputs": [
    {
     "output_type": "stream",
     "name": "stdout",
     "text": [
      "hello Clara\n"
     ]
    }
   ],
   "source": [
    "print(say_hello(\"Clara\"))"
   ]
  },
  {
   "cell_type": "code",
   "execution_count": 4,
   "metadata": {},
   "outputs": [
    {
     "output_type": "stream",
     "name": "stdout",
     "text": [
      "Help on function say_hello in module __main__:\n\nsay_hello(name)\n    Given a name as an argument, \n    the function return a string greeting\n    the name given.\n\n"
     ]
    }
   ],
   "source": [
    "help(say_hello)"
   ]
  },
  {
   "cell_type": "markdown",
   "metadata": {},
   "source": [
    "### Exercise 1. "
   ]
  },
  {
   "cell_type": "markdown",
   "metadata": {},
   "source": [
    "To solve the following exercises it will be necessary to define a function for each section. You choose the name of those functions unless specified, but make sure you define a single parameter `whichever_list`, when calling the function it will correspond to the variable `info_list`.\n",
    "```python\n",
    "def funtion_bla(whichever_list):\n",
    "    return whichever_list\n",
    "\n",
    "function_bla(info_list)\n",
    "```\n",
    "\n",
    "**In the case of not being able to solve a question containing the code in a function, try to do it without defining one.**"
   ]
  },
  {
   "cell_type": "code",
   "execution_count": 29,
   "metadata": {},
   "outputs": [],
   "source": [
    "# you can use this list or take yours from Practice 3\n",
    "info_list = [15, 'Recoletos', True, ['Recoletos', 15],  None, '8'] "
   ]
  },
  {
   "cell_type": "markdown",
   "metadata": {},
   "source": [
    "1. Display on the screen `\"I like the tranquility\"` if you like the mountains more and `\"I'd love to live in Malaga\"` if you like the beach more.\n",
    "\n"
   ]
  },
  {
   "cell_type": "code",
   "execution_count": 6,
   "metadata": {},
   "outputs": [],
   "source": [
    "#define a function which takes a single parameter `whichever_list`\n",
    "\n",
    "def beach_mountain(whichever_list):\n",
    "    if whichever_list[2] == True:\n",
    "        return \"I'd love to live in Malaga\"\n",
    "    else:\n",
    "        return \"I like the tranquility\""
   ]
  },
  {
   "cell_type": "code",
   "execution_count": 7,
   "metadata": {},
   "outputs": [
    {
     "output_type": "stream",
     "name": "stdout",
     "text": [
      "I'd love to live in Malaga\n"
     ]
    }
   ],
   "source": [
    "#call the function with the variable `info_list`\n",
    "\n",
    "print(beach_mountain(info_list))"
   ]
  },
  {
   "cell_type": "markdown",
   "metadata": {},
   "source": [
    "2. Print `\"Today I am tired\"` if you have slept less than 7 hours or `\"Today I conquer the world\"` if you have slept more than 7 hours."
   ]
  },
  {
   "cell_type": "code",
   "execution_count": 8,
   "metadata": {},
   "outputs": [],
   "source": [
    "#define a function which takes a single parameter `whichever_list`\n",
    "\n",
    "def evaluate_sleep(whichever_list):\n",
    "    hours = int(whichever_list[-1])\n",
    "    if hours > 7:\n",
    "        return 'Today I conquer the world'\n",
    "    elif hours < 7:\n",
    "        return 'Today I am tired'\n",
    "    else:\n",
    "        return 'Today I am fine'"
   ]
  },
  {
   "cell_type": "code",
   "execution_count": 9,
   "metadata": {},
   "outputs": [
    {
     "output_type": "stream",
     "name": "stdout",
     "text": [
      "Today I conquer the world\n"
     ]
    }
   ],
   "source": [
    "#call the function with the variable `info_list`\n",
    "\n",
    "print(evaluate_sleep(info_list))"
   ]
  },
  {
   "cell_type": "markdown",
   "metadata": {},
   "source": [
    "3. Loop through `whichever_list` to print all the elements it contains. This function should return the list turned into a tuple. "
   ]
  },
  {
   "cell_type": "code",
   "execution_count": 10,
   "metadata": {},
   "outputs": [],
   "source": [
    "#define a function which takes a single parameter `whichever_list`\n",
    "\n",
    "def get_tuple(whichever_list):\n",
    "    lista = []\n",
    "    for element in whichever_list:\n",
    "        print(element)\n",
    "        lista.append(element)\n",
    "    tupla = tuple(lista)\n",
    "    return tupla\n"
   ]
  },
  {
   "cell_type": "code",
   "execution_count": 19,
   "metadata": {},
   "outputs": [
    {
     "output_type": "stream",
     "name": "stdout",
     "text": [
      "15\nRecoletos\nTrue\n['Recoletos', 15]\nNone\n8\n---------\n(15, 'Recoletos', True, ['Recoletos', 15], None, '8')\n"
     ]
    }
   ],
   "source": [
    "#call the function with the variable `info_list`\n",
    "\n",
    "x = get_tuple(info_list)\n",
    "print('---------')\n",
    "print(x)"
   ]
  },
  {
   "cell_type": "markdown",
   "metadata": {},
   "source": [
    "4. Loop through `whichever_list` to print all the elements it contains concatenated with the string` \"--> OK\" `. This function should return a message saying, `\"everything will be ok\"`. \n"
   ]
  },
  {
   "cell_type": "code",
   "execution_count": 15,
   "metadata": {},
   "outputs": [],
   "source": [
    "#define a function which takes a single parameter `whichever_list`\n",
    "\n",
    "def func4(whichever_list):\n",
    "    for element in whichever_list:\n",
    "            print(str(element) + \" --> OK\")\n",
    "    return 'Everything will be ok'"
   ]
  },
  {
   "cell_type": "code",
   "execution_count": 20,
   "metadata": {},
   "outputs": [
    {
     "output_type": "stream",
     "name": "stdout",
     "text": [
      "15 --> OK\nRecoletos --> OK\nTrue --> OK\n['Recoletos', 15] --> OK\nNone --> OK\n8 --> OK\n---------\nEverything will be ok\n"
     ]
    }
   ],
   "source": [
    "#call the function with the variable `info_list`\n",
    "\n",
    "x = func4(info_list)\n",
    "print('---------')\n",
    "print(x)"
   ]
  },
  {
   "cell_type": "markdown",
   "metadata": {},
   "source": [
    "5. Loop through `whichever_list` to display all items it contains except the first one. This function should return the first element of the list. "
   ]
  },
  {
   "cell_type": "code",
   "execution_count": 17,
   "metadata": {},
   "outputs": [],
   "source": [
    "#define a function which takes a single parameter `whichever_list`\n",
    "\n",
    "def func5(whichever_list):\n",
    "    for i, element in enumerate(whichever_list):\n",
    "        if i != 0:\n",
    "            print(element)\n",
    "    return whichever_list[0]"
   ]
  },
  {
   "cell_type": "code",
   "execution_count": 21,
   "metadata": {},
   "outputs": [
    {
     "output_type": "stream",
     "name": "stdout",
     "text": [
      "Recoletos\nTrue\n['Recoletos', 15]\nNone\n8\n---------\n15\n"
     ]
    }
   ],
   "source": [
    "#call the function with the variable `info_list`\n",
    "\n",
    "x = func5(info_list)\n",
    "print('---------')\n",
    "print(x)"
   ]
  },
  {
   "cell_type": "markdown",
   "metadata": {},
   "source": [
    "6. Loop through `whichever_list` to display all the items it contains except the last one. This function should return the last element of the list. "
   ]
  },
  {
   "cell_type": "code",
   "execution_count": 22,
   "metadata": {},
   "outputs": [],
   "source": [
    "#define a function which takes a single parameter `whichever_list`\n",
    "\n",
    "def func6(whichever_list):\n",
    "    for i, element in enumerate(whichever_list):\n",
    "        if i != len(whichever_list)-1:\n",
    "            print(element)\n",
    "    return whichever_list[-1]"
   ]
  },
  {
   "cell_type": "code",
   "execution_count": 23,
   "metadata": {},
   "outputs": [
    {
     "output_type": "stream",
     "name": "stdout",
     "text": [
      "15\nRecoletos\nTrue\n['Recoletos', 15]\nNone\n---------\n8\n"
     ]
    }
   ],
   "source": [
    "#call the function with the variable `info_list`\n",
    "\n",
    "x = func6(info_list)\n",
    "print('---------')\n",
    "print(x)"
   ]
  },
  {
   "cell_type": "markdown",
   "metadata": {},
   "source": [
    "7. Loop through `whichever_list` to show all the elements it contains except the street number and the hours you've slept."
   ]
  },
  {
   "cell_type": "code",
   "execution_count": 24,
   "metadata": {},
   "outputs": [],
   "source": [
    "#define a function which takes a single parameter `whichever_list`\n",
    "\n",
    "def func7(whichever_list):\n",
    "    for i, element in enumerate(whichever_list):\n",
    "        if i != 0 and i != len(whichever_list)-1:\n",
    "            print(element)\n",
    "    return"
   ]
  },
  {
   "cell_type": "code",
   "execution_count": 25,
   "metadata": {},
   "outputs": [
    {
     "output_type": "stream",
     "name": "stdout",
     "text": [
      "Recoletos\nTrue\n['Recoletos', 15]\nNone\n"
     ]
    }
   ],
   "source": [
    "#call the function with the variable `info_list`\n",
    "\n",
    "x = func7(info_list)"
   ]
  },
  {
   "cell_type": "markdown",
   "metadata": {},
   "source": [
    "8. Loop through `whichever_list` to print all the elements it contains except the first element of the list which is in fourth position (`'Recoletos'`). This function should return the length of that element. "
   ]
  },
  {
   "cell_type": "code",
   "execution_count": 30,
   "metadata": {},
   "outputs": [],
   "source": [
    "#define a function which takes a single parameter `whichever_list`\n",
    "\n",
    "def func8(whichever_list):\n",
    "    longitud = 0\n",
    "    for element in whichever_list:\n",
    "        if isinstance(element, list) and element == whichever_list[3]:\n",
    "            longitud = len(element[0])\n",
    "            print(element[1:])\n",
    "        else:\n",
    "            print(element)\n",
    "    return longitud"
   ]
  },
  {
   "cell_type": "code",
   "execution_count": 34,
   "metadata": {},
   "outputs": [
    {
     "output_type": "stream",
     "name": "stdout",
     "text": [
      "15\nRecoletos\nTrue\n[15]\nNone\n8\n---------\n9\n"
     ]
    }
   ],
   "source": [
    "#call the function with the variable `info_list`\n",
    "\n",
    "x = func8(info_list)\n",
    "print('---------')\n",
    "print(x)"
   ]
  },
  {
   "cell_type": "markdown",
   "metadata": {},
   "source": [
    "9. Loop through `whichever_list` to show all the elements it contains except the one that contains the information about whether you like the mountains or the beach. The function should return a message saying `\"I love the beach\"` if you prefer the beach and a message saying `\"I love the mountain\"` otherwise. "
   ]
  },
  {
   "cell_type": "code",
   "execution_count": 35,
   "metadata": {},
   "outputs": [],
   "source": [
    "#define a function which takes a single parameter `whichever_list`\n",
    "\n",
    "def func9(whichever_list):\n",
    "    valor = ''\n",
    "    for i, element in enumerate(whichever_list):\n",
    "        if i != 2:\n",
    "            print(element)\n",
    "        elif element == True:\n",
    "            valor = 'I love the beach'\n",
    "        else:\n",
    "            valor = 'I love the mountain'\n",
    "    return valor"
   ]
  },
  {
   "cell_type": "code",
   "execution_count": 36,
   "metadata": {},
   "outputs": [
    {
     "output_type": "stream",
     "name": "stdout",
     "text": [
      "15\nRecoletos\n['Recoletos', 15]\nNone\n8\n----------\nI love the beach\n"
     ]
    }
   ],
   "source": [
    "#call the function with the variable `info_list`\n",
    "\n",
    "x = func9(info_list)\n",
    "print('----------')\n",
    "print(x)"
   ]
  },
  {
   "cell_type": "markdown",
   "metadata": {},
   "source": [
    "### Bonus Track\n",
    "\n",
    "In the case of not being able to solve a question containing the code in a function, try to do it without defining one. "
   ]
  },
  {
   "cell_type": "markdown",
   "metadata": {},
   "source": [
    "1. Create a variable called `zone` and give it the value of **None**. Loop through `whichever_list` and update `zone` to **True** if and only if, you have slept more than 7 hours, you like the beach and the sum of the hours you have slept plus the number of The Bridge is less than 24. In any other case, `zone` will be **False**. This function should return the value of `zone` and will be called `zone_function`.\n"
   ]
  },
  {
   "cell_type": "code",
   "execution_count": 43,
   "metadata": {},
   "outputs": [
    {
     "output_type": "stream",
     "name": "stdout",
     "text": [
      "True\n"
     ]
    }
   ],
   "source": [
    "info_list = [15, 'Recoletos', True, ['Recoletos', 15],  None, '8'] \n",
    "\n",
    "def zone_function(whichever_list):\n",
    "    zone = None\n",
    "    hours = 0\n",
    "    beach = False\n",
    "    num_bridge = 0\n",
    "    for i, element in enumerate(whichever_list):\n",
    "        if i == 0:\n",
    "            num_bridge = int(element)\n",
    "        elif i == 2:\n",
    "            beach = element\n",
    "        elif i == len(whichever_list)-1:\n",
    "            hours = int(element)\n",
    "    if hours > 7 and (hours + num_bridge) < 24 and beach:\n",
    "        zone = True\n",
    "    else:\n",
    "        zone = False\n",
    "    return zone\n",
    "\n",
    "print(zone_function(info_list))\n"
   ]
  },
  {
   "cell_type": "markdown",
   "metadata": {},
   "source": [
    "2. Define a function called `test_function` that receives only one parameter called `zone_value` and that returns the value of `zone_value` if it is **True**. Once you've defined `test_function` you should call it with the value returned by the `zone_function` as an argument."
   ]
  },
  {
   "cell_type": "code",
   "execution_count": 44,
   "metadata": {},
   "outputs": [
    {
     "output_type": "stream",
     "name": "stdout",
     "text": [
      "True\n"
     ]
    }
   ],
   "source": [
    "def test_function(zone_value):\n",
    "    if zone_value:\n",
    "        return zone_value\n",
    "\n",
    "zone_value = zone_function(info_list)\n",
    "test = test_function(zone_value)\n",
    "print(test)"
   ]
  },
  {
   "cell_type": "markdown",
   "metadata": {},
   "source": [
    "3. Define a function that asks the user if they like the mountain and, if not, call the `zone_function` function."
   ]
  },
  {
   "cell_type": "code",
   "execution_count": 46,
   "metadata": {},
   "outputs": [],
   "source": [
    "\n",
    "def func10():\n",
    "    mount = input('¿Te gusta la montaña? (si/no):')\n",
    "\n",
    "    if mount == 'no':\n",
    "        zone_function(info_list)\n",
    "\n",
    "func10()    \n",
    "# Así es como he interpretado el enunciado. Supongo que la finalidad sería otra pero no soy capaz de entender lo que me está pidiendo.    "
   ]
  },
  {
   "cell_type": "markdown",
   "metadata": {},
   "source": [
    "### Bonus Track of the Bonus Track.\n",
    "\n",
    "**This Bonus Track could take you some days, it is very ok, sometimes coding is all about time.**\n",
    "\n",
    "Sooner than later, you'll also learn about `.py` files and you will be able to implement this program into that kind of file. Not yet, tho. "
   ]
  },
  {
   "cell_type": "markdown",
   "metadata": {},
   "source": [
    "1. Program **a calculator** that asks for two numbers and two operators on the screen. One operation must be performed first and then another. Try to define as many functions as possible."
   ]
  },
  {
   "cell_type": "code",
   "execution_count": 47,
   "metadata": {},
   "outputs": [],
   "source": [
    "def suma(x, y):\n",
    "    return x + y\n",
    "\n",
    "def resta(x, y):\n",
    "    return x - y\n",
    "\n",
    "def multi(x, y):\n",
    "    return x * y\n",
    "\n",
    "def division(x, y):\n",
    "    return x / y\n",
    "\n",
    "def div_abs(x, y):\n",
    "    return x // y\n",
    "\n",
    "def resto(x, y):\n",
    "    return x % y\n",
    "\n",
    "def potencia(x, y):\n",
    "    return x ** y\n",
    "\n",
    "def calculadora():\n",
    "    a = float(input('Intruduzca valor 1:'))\n",
    "    b = float(input('Introduzca valor 2:'))\n",
    "    op1 = input('Introduzca operador 1 (+,-,/,//,%,**):')\n",
    "    op2 = input('Introduzca operador 2 (+,-,/,//,%,**):')\n",
    "    operadores = [op1, op2]\n",
    "\n",
    "    for i, op in enumerate(operadores):\n",
    "        if op == '+':\n",
    "            print(a, op, b, '=', suma(a,b))\n",
    "        elif op == '-':\n",
    "            print(a, op, b, '=', resta(a,b))\n",
    "        elif op == '*':\n",
    "            print(a, op, b, '=', multi(a,b))\n",
    "        elif op == '/':\n",
    "            print(a, op, b, '=', division(a,b))\n",
    "        elif op == '//':\n",
    "            print(a, op, b, '=', div_abs(a,b))\n",
    "        elif op == '%':\n",
    "            print(a, op, b, '=', resto(a,b))\n",
    "        elif op == '**':\n",
    "            print(a, op, b, '=', potencia(a,b))\n",
    "\n",
    "    "
   ]
  },
  {
   "cell_type": "code",
   "execution_count": 49,
   "metadata": {},
   "outputs": [
    {
     "output_type": "stream",
     "name": "stdout",
     "text": [
      "3.0 ** 3.0 = 27.0\n3.0 / 3.0 = 1.0\n"
     ]
    }
   ],
   "source": [
    "calculadora()"
   ]
  },
  {
   "cell_type": "markdown",
   "metadata": {},
   "source": [
    "!['ha'](https://i.pinimg.com/originals/c6/4e/fc/c64efc9adaedbf446f328698e8b67388.jpg)"
   ]
  },
  {
   "cell_type": "code",
   "execution_count": null,
   "metadata": {},
   "outputs": [],
   "source": []
  }
 ],
 "metadata": {
  "kernelspec": {
   "name": "python374jvsc74a57bd0674dfd6ded4398e0679ff4f65e9a10a54ff0d14801bec0126172cfc3973d1cf1",
   "display_name": "Python 3.7.4 64-bit"
  },
  "language_info": {
   "codemirror_mode": {
    "name": "ipython",
    "version": 3
   },
   "file_extension": ".py",
   "mimetype": "text/x-python",
   "name": "python",
   "nbconvert_exporter": "python",
   "pygments_lexer": "ipython3",
   "version": "3.7.4-final"
  },
  "metadata": {
   "interpreter": {
    "hash": "674dfd6ded4398e0679ff4f65e9a10a54ff0d14801bec0126172cfc3973d1cf1"
   }
  }
 },
 "nbformat": 4,
 "nbformat_minor": 4
}