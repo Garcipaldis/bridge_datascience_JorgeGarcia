{
 "cells": [
  {
   "cell_type": "markdown",
   "metadata": {},
   "source": [
    "# Python | day 2 | collections & if/else & for"
   ]
  },
  {
   "cell_type": "markdown",
   "metadata": {},
   "source": [
    "### Exercise 1. "
   ]
  },
  {
   "cell_type": "markdown",
   "metadata": {},
   "source": [
    "1. Create a variable called **num_bridge** with a value of 15."
   ]
  },
  {
   "cell_type": "code",
   "execution_count": 29,
   "metadata": {},
   "outputs": [
    {
     "output_type": "stream",
     "name": "stdout",
     "text": [
      "15\n"
     ]
    }
   ],
   "source": [
    "num_bridge = 15\n",
    "print(num_bridge)"
   ]
  },
  {
   "cell_type": "markdown",
   "metadata": {},
   "source": [
    "2. Create a variable called **name_street** with the value \"Recoletos\".\n",
    "\n"
   ]
  },
  {
   "cell_type": "code",
   "execution_count": 30,
   "metadata": {},
   "outputs": [
    {
     "output_type": "stream",
     "name": "stdout",
     "text": [
      "Recoletos\n"
     ]
    }
   ],
   "source": [
    "name_street = 'Recoletos'\n",
    "print(name_street)"
   ]
  },
  {
   "cell_type": "markdown",
   "metadata": {},
   "source": [
    "3. Create a variable called **personal_taste** which should be `True` if you like the beach better or `False` if you rather choose mountain. \n",
    "\n",
    "```python\n",
    "Example: \n",
    "personal_taste = True\n",
    "```"
   ]
  },
  {
   "cell_type": "code",
   "execution_count": 31,
   "metadata": {},
   "outputs": [
    {
     "output_type": "stream",
     "name": "stdout",
     "text": [
      "True\n"
     ]
    }
   ],
   "source": [
    "personal_taste = True\n",
    "print(personal_taste)"
   ]
  },
  {
   "cell_type": "markdown",
   "metadata": {},
   "source": [
    "4. Create a variable called **nothing** like follows: `nothing = None`. `None`doesn't represent any value, something you should keep in mind if you do `if nothing:` then `nothing` acts as a boolean `False`. "
   ]
  },
  {
   "cell_type": "code",
   "execution_count": 32,
   "metadata": {},
   "outputs": [
    {
     "output_type": "stream",
     "name": "stdout",
     "text": [
      "None\n"
     ]
    }
   ],
   "source": [
    "nothing = None\n",
    "print(nothing)"
   ]
  },
  {
   "cell_type": "markdown",
   "metadata": {},
   "source": [
    "5. Create a variable called **address_list**. This should be a list which contains the following: first element **name_street** and second element **num_bridge**. "
   ]
  },
  {
   "cell_type": "code",
   "execution_count": 33,
   "metadata": {},
   "outputs": [
    {
     "output_type": "stream",
     "name": "stdout",
     "text": [
      "['Recoletos', 15]\n"
     ]
    }
   ],
   "source": [
    "address_list = [name_street, num_bridge]\n",
    "print(address_list)"
   ]
  },
  {
   "cell_type": "markdown",
   "metadata": {},
   "source": [
    "6. Create a variable called **sleep_hours** that should contains, as a string, the hours you've slept today."
   ]
  },
  {
   "cell_type": "code",
   "execution_count": 34,
   "metadata": {},
   "outputs": [
    {
     "output_type": "stream",
     "name": "stdout",
     "text": [
      "7\n"
     ]
    }
   ],
   "source": [
    "sleep_hours = 7\n",
    "print(sleep_hours)"
   ]
  },
  {
   "cell_type": "markdown",
   "metadata": {},
   "source": [
    "7. Create a list called **info_list** containing every variable you've just created in the order you have done it.\n",
    "\n",
    "```python\n",
    "len(info_list) == 6\n",
    "True\n",
    "```\n",
    "\n",
    "**IMPORTANT: you will use `info_list` at some point during the ramp-up**"
   ]
  },
  {
   "cell_type": "code",
   "execution_count": 35,
   "metadata": {},
   "outputs": [
    {
     "output_type": "stream",
     "name": "stdout",
     "text": [
      "[15, 'Recoletos', True, None, ['Recoletos', 15], 7]\n"
     ]
    }
   ],
   "source": [
    "info_list = [num_bridge, name_street, personal_taste, nothing, address_list, sleep_hours]\n",
    "print(info_list)"
   ]
  },
  {
   "cell_type": "markdown",
   "metadata": {},
   "source": [
    "8. Run the following cell in order to delete every variable you've just created and keep **info_list** only.\n",
    "Print **info_list** once you've done it to check the list still exists."
   ]
  },
  {
   "cell_type": "code",
   "execution_count": 36,
   "metadata": {},
   "outputs": [],
   "source": [
    "#run this\n",
    "del num_bridge\n",
    "del name_street\n",
    "del personal_taste\n",
    "del nothing\n",
    "del address_list\n",
    "del sleep_hours"
   ]
  },
  {
   "cell_type": "code",
   "execution_count": 37,
   "metadata": {},
   "outputs": [
    {
     "output_type": "stream",
     "name": "stdout",
     "text": [
      "[15, 'Recoletos', True, None, ['Recoletos', 15], 7]\n"
     ]
    }
   ],
   "source": [
    "print(info_list)"
   ]
  },
  {
   "cell_type": "markdown",
   "metadata": {},
   "source": [
    "### Exercise 2."
   ]
  },
  {
   "cell_type": "markdown",
   "metadata": {},
   "source": [
    "You'll need `info_list` in order to continue with this exercise. Remember don't use any variable except `info_list`. \n",
    "\n",
    "Print the following. Don't use functions and/or loops. "
   ]
  },
  {
   "cell_type": "markdown",
   "metadata": {},
   "source": [
    " 1. Sum up the street number of The Bridge and the hours you slept last night. "
   ]
  },
  {
   "cell_type": "code",
   "execution_count": 38,
   "metadata": {},
   "outputs": [
    {
     "output_type": "stream",
     "name": "stdout",
     "text": [
      "8\n"
     ]
    }
   ],
   "source": [
    "print(info_list[0] - info_list[-1])"
   ]
  },
  {
   "cell_type": "markdown",
   "metadata": {},
   "source": [
    "2. Concatenate the street number of The Bridge, the name of the street, your personal taste and the hours you slept. All of them should be separated by `\" --> \"`."
   ]
  },
  {
   "cell_type": "code",
   "execution_count": 39,
   "metadata": {},
   "outputs": [
    {
     "output_type": "stream",
     "name": "stdout",
     "text": [
      "15 --> Recoletos --> True --> 7\n"
     ]
    }
   ],
   "source": [
    "print(str(info_list[0]) + \" --> \" + info_list[1] + \" --> \" + str(info_list[2]) + \" --> \" + str(info_list[-1]))"
   ]
  },
  {
   "cell_type": "markdown",
   "metadata": {},
   "source": [
    "3. Access to the list which is at the fourth position of **info_list** and print the result of: \n",
    "     - The concatenation of both elements contained in the list found in fourth position of **info_list**. \n",
    "     - The multiplication of the lenght of the list and the lenght of the street's name.\n",
    "    \n",
    "   If at the fourth position of **info_list** you don't find a list, go back to Exercise 1, please. "
   ]
  },
  {
   "cell_type": "code",
   "execution_count": 40,
   "metadata": {},
   "outputs": [
    {
     "output_type": "stream",
     "name": "stdout",
     "text": [
      "Recoletos15\n90\n"
     ]
    }
   ],
   "source": [
    "print(info_list[4][0] + str(info_list[4][1]))\n",
    "print(len(info_list) * info_list[0])"
   ]
  },
  {
   "cell_type": "markdown",
   "metadata": {},
   "source": [
    "### Exercise 3."
   ]
  },
  {
   "cell_type": "markdown",
   "metadata": {},
   "source": [
    "1. Get user input using input(“Enter your age: ”). If user is 18 or older, give feedback: You are old enough to drive. If below 18 give feedback to wait for the missing amount of years."
   ]
  },
  {
   "cell_type": "code",
   "execution_count": 45,
   "metadata": {},
   "outputs": [
    {
     "output_type": "stream",
     "name": "stdout",
     "text": [
      "You are 15. You must wait 3 year/s to be old enough to drive\n"
     ]
    }
   ],
   "source": [
    "age = int(input('Enter your age: '))\n",
    "\n",
    "if age >= 18:\n",
    "    print('You are old enough to drive.')\n",
    "else:\n",
    "    diff = 18 - age\n",
    "    print(f'You are {age}. You must wait {diff} year/s to be old enough to drive')"
   ]
  },
  {
   "cell_type": "markdown",
   "metadata": {},
   "source": [
    "2. Compare the values of **my_age** and **your_age** using if/else. Who is older (me or you)? Use input(“Enter your age: ”) to get **your_age** as input. **my_age** is always your age, cause you are the one coding the program. "
   ]
  },
  {
   "cell_type": "code",
   "execution_count": 50,
   "metadata": {},
   "outputs": [
    {
     "output_type": "stream",
     "name": "stdout",
     "text": [
      "I am older than you.\n"
     ]
    }
   ],
   "source": [
    "my_age = 27\n",
    "your_age = int(input('Enter your age: '))\n",
    "\n",
    "if my_age > your_age:\n",
    "    print('I am older than you.')\n",
    "elif my_age == your_age:\n",
    "    print('We are the same age')\n",
    "else:\n",
    "    print('You are older than me')"
   ]
  },
  {
   "cell_type": "markdown",
   "metadata": {},
   "source": [
    "3. Get two numbers from the user using input prompt. If a is greater than b return \"a is greater than b\", if a is less b return \"a is smaller than b\", else \"a is equal to b\"."
   ]
  },
  {
   "cell_type": "code",
   "execution_count": 51,
   "metadata": {},
   "outputs": [
    {
     "output_type": "stream",
     "name": "stdout",
     "text": [
      "A is smaller than B.\n"
     ]
    }
   ],
   "source": [
    "a = int(input('Enter number A:'))\n",
    "b = int(input('Enter number B:'))\n",
    "\n",
    "if a > b:\n",
    "    print('A is greater than B.')\n",
    "elif a < b:\n",
    "    print('A is smaller than B.')\n",
    "else:\n",
    "    print('A is equal to B.')"
   ]
  },
  {
   "cell_type": "markdown",
   "metadata": {},
   "source": [
    "### Exercise 4\n",
    "\n",
    "Learn about **for loop**\n",
    "\n",
    "Watch this video: https://www.youtube.com/watch?v=wxds6MAtUQ0\n",
    "\n",
    "Read this: https://www.w3schools.com/python/python_for_loops.asp\n",
    "\n",
    "You may need this to understand what is going on with your loops: http://www.pythontutor.com/visualize.html#mode=edit"
   ]
  },
  {
   "cell_type": "markdown",
   "metadata": {},
   "source": [
    "Declare four variables: \n",
    "- A string variable containing your surname. \n",
    "- Two integers variables: one, with the number of the street in which you live, and two, the age of the classmate sitting on your right. \n",
    "    If you are on the right edge of the table, look for your classmate on your left.\n",
    "    If you are on remote, choose one of your mates who are on remote too. \n",
    "- A list containing the variables you have just declared."
   ]
  },
  {
   "cell_type": "code",
   "execution_count": 52,
   "metadata": {},
   "outputs": [
    {
     "output_type": "stream",
     "name": "stdout",
     "text": [
      "['García', 27, 26]\n"
     ]
    }
   ],
   "source": [
    "surname = 'García'\n",
    "one = 27\n",
    "two = 26\n",
    "\n",
    "lista = [surname, one, two]\n",
    "print(lista)"
   ]
  },
  {
   "cell_type": "markdown",
   "metadata": {},
   "source": [
    "Using a **for loop** print every element of the list you've just created. \n",
    "    \n"
   ]
  },
  {
   "cell_type": "code",
   "execution_count": 53,
   "metadata": {},
   "outputs": [
    {
     "output_type": "stream",
     "name": "stdout",
     "text": [
      "García\n27\n26\n"
     ]
    }
   ],
   "source": [
    "for e in lista:\n",
    "    print(e)"
   ]
  },
  {
   "cell_type": "markdown",
   "metadata": {},
   "source": [
    "Using a **for loop** and a **if** make sure you only print the element in the list which is a string\n",
    "(Your surname). "
   ]
  },
  {
   "cell_type": "code",
   "execution_count": 54,
   "metadata": {},
   "outputs": [
    {
     "output_type": "stream",
     "name": "stdout",
     "text": [
      "García\n"
     ]
    }
   ],
   "source": [
    "for e in lista:\n",
    "    if isinstance(e, str):\n",
    "        print(e)"
   ]
  },
  {
   "cell_type": "markdown",
   "metadata": {},
   "source": [
    "**Well done!**"
   ]
  },
  {
   "cell_type": "markdown",
   "metadata": {},
   "source": [
    "### Exercise 5\n",
    "\n",
    "1. The following list contains some fruits:\n",
    "    \n",
    "`fruits = ['banana', 'orange', 'mango', 'lemon']`\n",
    "\n",
    "If a fruit doesn't exist in the list add the fruit to the list and print the modified list. If the fruit exists print('That fruit already exist in the list')\n",
    "\n",
    "Note: You can solve this exercise using or not `for` loop."
   ]
  },
  {
   "cell_type": "code",
   "execution_count": 11,
   "metadata": {},
   "outputs": [],
   "source": [
    "fruits = ['banana', 'orange', 'mango', 'lemon']\n"
   ]
  },
  {
   "cell_type": "code",
   "execution_count": 60,
   "metadata": {},
   "outputs": [
    {
     "output_type": "stream",
     "name": "stdout",
     "text": [
      "pineapple has been added to the list.\n"
     ]
    }
   ],
   "source": [
    "fruit = input('Enter a fruit:')\n",
    "\n",
    "if fruit in fruits:\n",
    "    print('That fruit already exists in the list.')\n",
    "else:\n",
    "    fruits.append(fruit)\n",
    "    print(f'{fruit} has been added to the list.')"
   ]
  },
  {
   "cell_type": "code",
   "execution_count": 22,
   "metadata": {},
   "outputs": [
    {
     "output_type": "stream",
     "name": "stdout",
     "text": [
      "apple has been added to the list.\n"
     ]
    },
    {
     "output_type": "execute_result",
     "data": {
      "text/plain": [
       "['banana', 'orange', 'mango', 'lemon', 'apple']"
      ]
     },
     "metadata": {},
     "execution_count": 22
    }
   ],
   "source": [
    "lista_frutas = ['banana', 'orange', 'mango', 'lemon']\n",
    "fruit = input('Enter a fruit:')\n",
    "\n",
    "for i, f in enumerate(lista_frutas):\n",
    "    if fruit == f:\n",
    "        print('That fruit already exists in the list.')\n",
    "        break\n",
    "    elif i == len(lista_frutas)-1:\n",
    "        lista_frutas.append(fruit)\n",
    "        print(f'{fruit} has been added to the list.')\n",
    "        break\n",
    "\n",
    "lista_frutas\n",
    "        "
   ]
  },
  {
   "cell_type": "markdown",
   "metadata": {},
   "source": [
    "2. Prints the numbers between 0 and 70 that are multiples of 3 and 5."
   ]
  },
  {
   "cell_type": "code",
   "execution_count": 63,
   "metadata": {},
   "outputs": [
    {
     "output_type": "stream",
     "name": "stdout",
     "text": [
      "15\n30\n45\n60\n"
     ]
    }
   ],
   "source": [
    "for i in range(71):\n",
    "    if i % 3 == 0 and i % 5 == 0 and i != 0:\n",
    "        print(i)"
   ]
  },
  {
   "cell_type": "markdown",
   "metadata": {},
   "source": [
    "3. Given two lists of same lenght, create a third list which contains the sum of both of the list, element by element. \n",
    "\n",
    "```python\n",
    "Example: \n",
    "a = [1,2]\n",
    "b = [4,5]\n",
    "new_list = [5,7]\n",
    "```"
   ]
  },
  {
   "cell_type": "code",
   "execution_count": 64,
   "metadata": {},
   "outputs": [
    {
     "output_type": "stream",
     "name": "stdout",
     "text": [
      "[5, 7]\n"
     ]
    }
   ],
   "source": [
    "a = [1,2]\n",
    "b = [4,5]\n",
    "new_list = []\n",
    "\n",
    "for i in range(2):\n",
    "    new_list.append(a[i]+b[i])\n",
    "\n",
    "print(new_list)"
   ]
  },
  {
   "cell_type": "markdown",
   "metadata": {},
   "source": [
    "### Bonus Track"
   ]
  },
  {
   "cell_type": "markdown",
   "metadata": {},
   "source": [
    "4. Print the following pattern:\n",
    "\n",
    "```python\n",
    "1\n",
    "22\n",
    "333\n",
    "4444\n",
    "55555\n",
    "666666\n",
    "7777777\n",
    "88888888\n",
    "999999999\n",
    "```"
   ]
  },
  {
   "cell_type": "code",
   "execution_count": 67,
   "metadata": {},
   "outputs": [
    {
     "output_type": "stream",
     "name": "stdout",
     "text": [
      "1\n22\n333\n4444\n55555\n666666\n7777777\n88888888\n999999999\n"
     ]
    }
   ],
   "source": [
    "for i in range(1,10):\n",
    "    print(str(i)*i)\n",
    "    i += 1"
   ]
  },
  {
   "cell_type": "markdown",
   "metadata": {},
   "source": [
    "5. Get first, second best scores from the list.\n",
    "List contains duplicates."
   ]
  },
  {
   "cell_type": "code",
   "execution_count": 68,
   "metadata": {},
   "outputs": [],
   "source": [
    "scores = [86,86,85,85,85,83,23,45,84,1,2,0]"
   ]
  },
  {
   "cell_type": "code",
   "execution_count": 71,
   "metadata": {},
   "outputs": [
    {
     "output_type": "stream",
     "name": "stdout",
     "text": [
      "Primero: 86 Segundo: 85\n"
     ]
    }
   ],
   "source": [
    "lista = list(set(scores))\n",
    "lista.sort()\n",
    "print('Primero:', lista[-1], 'Segundo:', lista[-2])"
   ]
  },
  {
   "cell_type": "markdown",
   "metadata": {},
   "source": [
    "6. From the given list:\n",
    "    \n",
    "    a) Create separate lists of strings and numbers.\n",
    "\n",
    "    b) Sort the strings' list in ascending order\n",
    "\n",
    "    c) Sort the strings' list in descending order\n",
    "\n",
    "    d) Sort the number's list from lowest to highest\n",
    "\n",
    "    e) Sort the number's list from highest to lowest"
   ]
  },
  {
   "cell_type": "code",
   "execution_count": 72,
   "metadata": {},
   "outputs": [],
   "source": [
    "gadgets = [\"Mobile\", \"Laptop\", 100, \"Camera\", 310.28, \"Speakers\", 27.00, \n",
    "           \"Television\", 1000, \"Laptop Case\", \"Camera Lens\"]"
   ]
  },
  {
   "cell_type": "code",
   "execution_count": 79,
   "metadata": {},
   "outputs": [
    {
     "output_type": "stream",
     "name": "stdout",
     "text": [
      "['Camera', 'Camera Lens', 'Laptop', 'Laptop Case', 'Mobile', 'Speakers', 'Television']\n['Television', 'Speakers', 'Mobile', 'Laptop Case', 'Laptop', 'Camera Lens', 'Camera']\n[27.0, 100, 310.28, 1000]\n[1000, 310.28, 100, 27.0]\n"
     ]
    }
   ],
   "source": [
    "strings, numbers = [], []\n",
    "\n",
    "for g in gadgets:\n",
    "    if isinstance(g, str):\n",
    "        strings.append(g)\n",
    "    else:\n",
    "        numbers.append(g)\n",
    "\n",
    "strings.sort()\n",
    "print(strings)\n",
    "strings.sort(reverse=True)\n",
    "print(strings)\n",
    "numbers.sort()\n",
    "print(numbers)\n",
    "numbers.sort(reverse=True)\n",
    "print(numbers)"
   ]
  },
  {
   "cell_type": "markdown",
   "metadata": {},
   "source": [
    "7. Make a list of ten aliens, each of which is one color: 'red', 'green', or 'blue'.\n",
    "    - You can shorten this to 'r', 'g', and 'b' if you want, but if you choose this option you have to include a comment explaining what r, g, and b stand for.\n",
    "    - Red aliens are worth 5 points, green aliens are worth 10 points, and blue aliens are worth 20 points.\n",
    "    - Use a for loop to determine the number of points a player would earn for destroying all of the aliens in your list."
   ]
  },
  {
   "cell_type": "code",
   "execution_count": 80,
   "metadata": {},
   "outputs": [
    {
     "output_type": "stream",
     "name": "stdout",
     "text": [
      "125 points\n"
     ]
    }
   ],
   "source": [
    "aliens = ['red', 'green', 'blue', 'green', 'blue', 'blue', 'red', 'green', 'red', 'blue']\n",
    "\n",
    "points = 0\n",
    "for a in aliens:\n",
    "    if a == 'red':\n",
    "        points += 5\n",
    "    elif a == 'green':\n",
    "        points += 10\n",
    "    else:\n",
    "        points += 20\n",
    "print(points, 'points')"
   ]
  },
  {
   "cell_type": "markdown",
   "metadata": {},
   "source": [
    "![\"hola\"](https://preview.redd.it/wk843smkri441.jpg?width=960&crop=smart&auto=webp&s=1a4d7a5ddeef38c03334d275afe3a9dd33866ce8)"
   ]
  },
  {
   "cell_type": "code",
   "execution_count": null,
   "metadata": {},
   "outputs": [],
   "source": []
  }
 ],
 "metadata": {
  "kernelspec": {
   "name": "python374jvsc74a57bd0674dfd6ded4398e0679ff4f65e9a10a54ff0d14801bec0126172cfc3973d1cf1",
   "display_name": "Python 3.7.4 64-bit"
  },
  "language_info": {
   "codemirror_mode": {
    "name": "ipython",
    "version": 3
   },
   "file_extension": ".py",
   "mimetype": "text/x-python",
   "name": "python",
   "nbconvert_exporter": "python",
   "pygments_lexer": "ipython3",
   "version": "3.7.4-final"
  },
  "metadata": {
   "interpreter": {
    "hash": "674dfd6ded4398e0679ff4f65e9a10a54ff0d14801bec0126172cfc3973d1cf1"
   }
  }
 },
 "nbformat": 4,
 "nbformat_minor": 4
}