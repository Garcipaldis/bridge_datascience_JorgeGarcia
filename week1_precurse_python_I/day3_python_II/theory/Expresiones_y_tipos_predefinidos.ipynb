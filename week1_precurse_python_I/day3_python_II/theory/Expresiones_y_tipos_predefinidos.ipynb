{
 "cells": [
  {
   "cell_type": "markdown",
   "metadata": {},
   "source": [
    "# Expresiones y tipos predefinidos"
   ]
  },
  {
   "cell_type": "markdown",
   "metadata": {},
   "source": [
    "## Índice de contenidos\n",
    "* [1. Variables](#sec_variables)\n",
    " * [1.1. Asignaciones](#sec_asignaciones)\n",
    " * [1.2. Name Error](#sec_nameerror)\n",
    " * [1.3 Normas para la construcción de nombres de variables](#sec_normas)\n",
    "* [2. Tipos predefinidos](#sec_tipos)\n",
    " * [2.1. Tipo lógico](#sec_logico)\n",
    " * [2.2. Tipos numéricos](#sec_numericos)\n",
    " * [2.3. Tipos cadena](#sec_cadena)\n",
    " * [2.4. Tipos contenedores](#sec_contenedores)\n",
    "   * [2.4.1. Tuplas](#sec_tuplas)\n",
    "   * [2.4.2. Listas](#sec_listas)\n",
    "   * [2.4.3. Conjuntos](#sec_conjuntos)\n",
    "   * [2.4.4. Diccionarios](#sec_diccionarios)\n",
    "   * [2.4.5. Operaciones con tipos contenedores](#sec_operaciones)\n",
    "* [3. Expresiones](#sec_expresiones)\n",
    " * [3.1. Prioridad de los operadores](#sec_prioridad)\n",
    " * [3.2. Conversión de tipos](#sec_conversion)\n",
    " * [3.3. Expresiones bien formadas](#sec_bienformadas)"
   ]
  },
  {
   "cell_type": "markdown",
   "metadata": {},
   "source": [
    "## 1. Variables <a name=\"sec_variables\"/>"
   ]
  },
  {
   "cell_type": "markdown",
   "metadata": {},
   "source": [
    "Una variable es un elemento de un programa que permite almacenar un valor en un momento de la ejecución, y utilizarlo en un momento posterior. Para usar una variable debemos escoger un nombre para la misma y darle algún valor inicial, como en los siguientes ejemplos:\n",
    "<a id=\"primer_ejemplo\"/>"
   ]
  },
  {
   "cell_type": "code",
   "execution_count": 2,
   "metadata": {},
   "outputs": [
    {
     "name": "stdout",
     "output_type": "stream",
     "text": "88.4\n"
    }
   ],
   "source": [
    "nombre = \"Augustino\"\n",
    "edad = 19\n",
    "peso = 69.4\n",
    "altura = 1.70\n",
    "\n",
    "edad_float = edad + peso\n",
    "print(edad_float)"
   ]
  },
  {
   "cell_type": "markdown",
   "metadata": {},
   "source": [
    "Si más adelante hacemos uso de los nombres que hemos usado para las variables anteriores (*nombre*, *edad*, *peso* o *altura*), Python nos devolverá los valores almacenados previamente."
   ]
  },
  {
   "cell_type": "code",
   "execution_count": 3,
   "metadata": {},
   "outputs": [
    {
     "name": "stdout",
     "output_type": "stream",
     "text": "Augustino\n19\n69.4\n1.7\n"
    }
   ],
   "source": [
    "print(nombre)\n",
    "print(edad)\n",
    "print(peso)\n",
    "print(altura)"
   ]
  },
  {
   "cell_type": "markdown",
   "metadata": {},
   "source": [
    "Aunque no es obligatorio, si en algún momento no necesitamos más una variable, podemos eliminarla de la memoria:"
   ]
  },
  {
   "cell_type": "code",
   "execution_count": 4,
   "metadata": {},
   "outputs": [
    {
     "ename": "NameError",
     "evalue": "name 'edad' is not defined",
     "output_type": "error",
     "traceback": [
      "\u001b[0;31m---------------------------------------------------------------------------\u001b[0m",
      "\u001b[0;31mNameError\u001b[0m                                 Traceback (most recent call last)",
      "\u001b[0;32m<ipython-input-4-08ef4796c313>\u001b[0m in \u001b[0;36m<module>\u001b[0;34m\u001b[0m\n\u001b[1;32m      1\u001b[0m \u001b[0;32mdel\u001b[0m\u001b[0;34m(\u001b[0m\u001b[0medad\u001b[0m\u001b[0;34m)\u001b[0m\u001b[0;34m\u001b[0m\u001b[0;34m\u001b[0m\u001b[0m\n\u001b[0;32m----> 2\u001b[0;31m \u001b[0mprint\u001b[0m\u001b[0;34m(\u001b[0m\u001b[0medad\u001b[0m\u001b[0;34m)\u001b[0m\u001b[0;34m\u001b[0m\u001b[0;34m\u001b[0m\u001b[0m\n\u001b[0m",
      "\u001b[0;31mNameError\u001b[0m: name 'edad' is not defined"
     ]
    }
   ],
   "source": [
    "del(edad)\n",
    "print(edad)"
   ]
  },
  {
   "cell_type": "markdown",
   "metadata": {},
   "source": [
    "### 1.1. Asignaciones <a name=\"sec_asignaciones\"/>\n",
    "\n",
    "Si volvemos a escribir una instrucción formada por el nombre de una variable que ya hemos usado anteriormente, el signo igual y un valor, estaremos sustituyendo el valor almacenado en la variable en cuestión. Llamamos a esta instrucción **asignación**. Por ejemplo, podemos hacer:"
   ]
  },
  {
   "cell_type": "code",
   "execution_count": null,
   "metadata": {
    "collapsed": true
   },
   "outputs": [],
   "source": [
    "nombre = \"Bonifacio\"\n",
    "print(nombre)"
   ]
  },
  {
   "cell_type": "markdown",
   "metadata": {},
   "source": [
    "En Python es posible hacer **asignaciones múltiples**, lo que permite asignar valores a varias variables en una única instrucción:"
   ]
  },
  {
   "cell_type": "code",
   "execution_count": 5,
   "metadata": {},
   "outputs": [
    {
     "name": "stdout",
     "output_type": "stream",
     "text": "21\n73.2\n"
    }
   ],
   "source": [
    "edad, peso = 21, 73.2\n",
    "print(edad)\n",
    "print(peso)"
   ]
  },
  {
   "cell_type": "markdown",
   "metadata": {},
   "source": [
    "Las asignaciones múltiples se pueden usar para intercambiar los valores de dos variables. Mira este ejemplo:"
   ]
  },
  {
   "cell_type": "code",
   "execution_count": 6,
   "metadata": {},
   "outputs": [
    {
     "name": "stdout",
     "output_type": "stream",
     "text": "1.7\n73.2\n"
    }
   ],
   "source": [
    "peso, altura = altura, peso\n",
    "print(peso)\n",
    "print(altura)"
   ]
  },
  {
   "cell_type": "markdown",
   "metadata": {},
   "source": [
    "### 1.2. Name Error <a name=\"sec_nameerror\"/>\n",
    "Es habitual confundirse al escribir el nombre de una variable existente en el programa. Mira el error que devuelve Python cuando esto ocurre; trata de recordarlo para cuando te ocurra en tus programas:"
   ]
  },
  {
   "cell_type": "code",
   "execution_count": 7,
   "metadata": {},
   "outputs": [
    {
     "ename": "NameError",
     "evalue": "name 'nombres' is not defined",
     "output_type": "error",
     "traceback": [
      "\u001b[0;31m---------------------------------------------------------------------------\u001b[0m",
      "\u001b[0;31mNameError\u001b[0m                                 Traceback (most recent call last)",
      "\u001b[0;32m<ipython-input-7-d082269268cb>\u001b[0m in \u001b[0;36m<module>\u001b[0;34m\u001b[0m\n\u001b[0;32m----> 1\u001b[0;31m \u001b[0mprint\u001b[0m\u001b[0;34m(\u001b[0m\u001b[0mnombres\u001b[0m\u001b[0;34m)\u001b[0m  \u001b[0;31m# Hemos usado \"nombres\" en lugar de \"nombre\"\u001b[0m\u001b[0;34m\u001b[0m\u001b[0;34m\u001b[0m\u001b[0m\n\u001b[0m",
      "\u001b[0;31mNameError\u001b[0m: name 'nombres' is not defined"
     ]
    }
   ],
   "source": [
    "print(nombres)  # Hemos usado \"nombres\" en lugar de \"nombre\""
   ]
  },
  {
   "cell_type": "markdown",
   "metadata": {},
   "source": [
    "### 1.3. Normas para la construcción de nombres de variables <a name=\"sec_normas\"/>\n",
    "Podemos usar los nombres que queramos para nuestras variables, siempre que cumplamos las siguientes reglas:\n",
    "* Sólo podemos usar letras, números y la barra baja (_). No se pueden usar espacios.\n",
    "* El nombre puede comenzar por una letra o por la barra baja.\n",
    "* No se pueden usar determinadas palabras clave (*keywords*) que Python usa como instrucciones (por ejemplo, *def* o *if*) o como literales (por ejemplo, *True*). Aunque Python lo permite, tampoco es apropiado usar nombres de funciones predefinidas (por ejemplo, *print*).\n",
    "* Los nombres tienen que ser descriptivos de lo que representa la variable (¡sin pasarse!).\n",
    "\n",
    "Aquí tienes algunos ejemplos de nombres incorrectos de variables; observa los errores generados por Python."
   ]
  },
  {
   "cell_type": "code",
   "execution_count": 8,
   "metadata": {},
   "outputs": [
    {
     "ename": "SyntaxError",
     "evalue": "invalid syntax (<ipython-input-8-9b5cebdeb6a5>, line 1)",
     "output_type": "error",
     "traceback": [
      "\u001b[0;36m  File \u001b[0;32m\"<ipython-input-8-9b5cebdeb6a5>\"\u001b[0;36m, line \u001b[0;32m1\u001b[0m\n\u001b[0;31m    4edad = 10\u001b[0m\n\u001b[0m        ^\u001b[0m\n\u001b[0;31mSyntaxError\u001b[0m\u001b[0;31m:\u001b[0m invalid syntax\n"
     ]
    }
   ],
   "source": [
    "4edad = 10"
   ]
  },
  {
   "cell_type": "code",
   "execution_count": 9,
   "metadata": {},
   "outputs": [
    {
     "ename": "SyntaxError",
     "evalue": "invalid syntax (<ipython-input-9-b8359eb0a5c6>, line 1)",
     "output_type": "error",
     "traceback": [
      "\u001b[0;36m  File \u001b[0;32m\"<ipython-input-9-b8359eb0a5c6>\"\u001b[0;36m, line \u001b[0;32m1\u001b[0m\n\u001b[0;31m    if = 20\u001b[0m\n\u001b[0m       ^\u001b[0m\n\u001b[0;31mSyntaxError\u001b[0m\u001b[0;31m:\u001b[0m invalid syntax\n"
     ]
    }
   ],
   "source": [
    "if = 20"
   ]
  },
  {
   "cell_type": "code",
   "execution_count": 10,
   "metadata": {},
   "outputs": [
    {
     "ename": "SyntaxError",
     "evalue": "can't assign to keyword (<ipython-input-10-e480b4bde604>, line 1)",
     "output_type": "error",
     "traceback": [
      "\u001b[0;36m  File \u001b[0;32m\"<ipython-input-10-e480b4bde604>\"\u001b[0;36m, line \u001b[0;32m1\u001b[0m\n\u001b[0;31m    True = 15\u001b[0m\n\u001b[0m             ^\u001b[0m\n\u001b[0;31mSyntaxError\u001b[0m\u001b[0;31m:\u001b[0m can't assign to keyword\n"
     ]
    }
   ],
   "source": [
    "# Esto es una palabra reservada. \n",
    "True = 15"
   ]
  },
  {
   "cell_type": "markdown",
   "metadata": {},
   "source": [
    "Puedes consultar todas las palabras claves (*keywords*) existentes en Python de la siguiente forma:"
   ]
  },
  {
   "cell_type": "code",
   "execution_count": 1,
   "metadata": {},
   "outputs": [
    {
     "name": "stdout",
     "output_type": "stream",
     "text": "['False', 'None', 'True', 'and', 'as', 'assert', 'async', 'await', 'break', 'class', 'continue', 'def', 'del', 'elif', 'else', 'except', 'finally', 'for', 'from', 'global', 'if', 'import', 'in', 'is', 'lambda', 'nonlocal', 'not', 'or', 'pass', 'raise', 'return', 'try', 'while', 'with', 'yield']\n"
    }
   ],
   "source": [
    "import keyword\n",
    "print(keyword.kwlist)"
   ]
  },
  {
   "cell_type": "code",
   "execution_count": 11,
   "metadata": {},
   "outputs": [],
   "source": [
    "sTrue = 2"
   ]
  },
  {
   "cell_type": "markdown",
   "metadata": {},
   "source": [
    "### ¡Prueba tú!"
   ]
  },
  {
   "cell_type": "code",
   "execution_count": 1,
   "metadata": {},
   "outputs": [],
   "source": [
    "# Declara una variable para almacenar el precio de un producto, y asígnale algún valor.\n",
    "\n",
    "\n",
    "# Muestra por pantalla el valor almacenado en la variable\n"
   ]
  },
  {
   "cell_type": "markdown",
   "metadata": {},
   "source": [
    "## 2. Tipos predefinidos <a name=\"sec_tipos\"/>"
   ]
  },
  {
   "cell_type": "markdown",
   "metadata": {},
   "source": [
    "En los ejemplos anteriores hemos guardado valores de distintos tipos en las variables: *nombre* almacena un valor de **tipo cadena de caracteres**, *edad* almacena un valor de **tipo número entero** y *peso* almacena un valor de **tipo número real**. Cada uno de estos son **tipos predefinidos en Python** (*built-in types*). Hablamos de *predefinidos* porque Python también permite al programador crear sus propios tipos, aunque esto no lo veremos por ahora. Los valores que hemos escrito para inicializar cada una de las variables se llaman **literales**.\n"
   ]
  },
  {
   "cell_type": "markdown",
   "metadata": {},
   "source": [
    "Un **tipo de datos** está definido por un conjunto de posibles valores (lo que en matemáticas conocemos como *dominio*) y un conjunto de operaciones asociadas. Por ejemplo, el tipo número entero (o tipo entero) se corresponde con los valores 0, -1, 1, -2, 2, ..., y con las operaciones aritméticas (suma, resta, multiplicación, ...).\n",
    "\n",
    "Un **literal** (es decir, un valor concreto de un tipo) tiene asociado un tipo determinado, simplemente por cómo está escrito dicho literal. Por contra, para saber el tipo asociado a una **variable**, debemos fijarnos en el valor que ha sido almacenado en la misma. <a href=\"#primer_ejemplo\">En el ejemplo de la sección anterior</a>, *nombre* es una variable de tipo cadena de caracteres (o tipo cadena), porque ha sido inicializada con un literal de dicho tipo (\"Augustino\"). \n",
    "\n",
    "Una **operación** recibe uno o varios valores de un tipo determinado y devuelve un valor del mismo u otro tipo. Las operaciones pueden estar representadas por un operador o por una llamada a función, como veremos más adelante.\n",
    "\n",
    "En las siguientes secciones se muestran distintos tipos predefinidos, la manera en que se escriben los literales y las operaciones asociadas más importantes."
   ]
  },
  {
   "cell_type": "markdown",
   "metadata": {},
   "source": [
    "### 2.1 Tipo lógico <a name=\"sec_logico\"/>"
   ]
  },
  {
   "cell_type": "markdown",
   "metadata": {},
   "source": [
    "El tipo lógico (**bool**) únicamente incluye dos valores en su dominio: verdadero (**True**) y falso (**False**). Estas dos palabras en negrita son precisamente los únicos **literales lógicos** permitidos en Python. El tipo lógico sirve para representar condiciones lógicas, por ejemplo, si un peso es o no mayor a un umbral, si un año es o no bisiesto, o si el personaje de un videojuego tiene o no una determinada habilidad. \n",
    "\n",
    "Los operadores lógicos son sólo tres: **and**, **or** y **not**, tal como se muestra en los siguientes ejemplos.\n",
    "<a id=\"operadores_logicos\"/>"
   ]
  },
  {
   "cell_type": "code",
   "execution_count": 15,
   "metadata": {},
   "outputs": [
    {
     "name": "stdout",
     "output_type": "stream",
     "text": "True\n"
    }
   ],
   "source": [
    "# Disyunción (también llamado \"o lógico\" y \"sumador lógico\")\n",
    "\n",
    "x = (False or True)\n",
    "print(x)\n",
    "#False or True"
   ]
  },
  {
   "cell_type": "code",
   "execution_count": 16,
   "metadata": {},
   "outputs": [
    {
     "data": {
      "text/plain": "True"
     },
     "execution_count": 16,
     "metadata": {},
     "output_type": "execute_result"
    }
   ],
   "source": [
    "c = ((1==1) or (1>1))\n",
    "c"
   ]
  },
  {
   "cell_type": "code",
   "execution_count": 18,
   "metadata": {},
   "outputs": [
    {
     "data": {
      "text/plain": "False"
     },
     "execution_count": 18,
     "metadata": {},
     "output_type": "execute_result"
    }
   ],
   "source": [
    "s = ((1==1) and (1>1))\n",
    "s\n",
    "\n"
   ]
  },
  {
   "cell_type": "code",
   "execution_count": 21,
   "metadata": {},
   "outputs": [
    {
     "data": {
      "text/plain": "True"
     },
     "execution_count": 21,
     "metadata": {},
     "output_type": "execute_result"
    }
   ],
   "source": [
    "r = not(1>1)\n",
    "\n",
    "\n",
    "r"
   ]
  },
  {
   "cell_type": "code",
   "execution_count": 22,
   "metadata": {},
   "outputs": [
    {
     "data": {
      "text/plain": "False"
     },
     "execution_count": 22,
     "metadata": {},
     "output_type": "execute_result"
    }
   ],
   "source": [
    "m = not(1==1)\n",
    "m"
   ]
  },
  {
   "cell_type": "code",
   "execution_count": 23,
   "metadata": {},
   "outputs": [
    {
     "data": {
      "text/plain": "False"
     },
     "execution_count": 23,
     "metadata": {},
     "output_type": "execute_result"
    }
   ],
   "source": [
    "b = not(1==1 and 2==2)\n",
    "b"
   ]
  },
  {
   "cell_type": "code",
   "execution_count": 24,
   "metadata": {},
   "outputs": [
    {
     "data": {
      "text/plain": "True"
     },
     "execution_count": 24,
     "metadata": {},
     "output_type": "execute_result"
    }
   ],
   "source": [
    "k = not(not(2>2)) or ((1==1) and not(3>5))\n",
    "\n",
    "k"
   ]
  },
  {
   "cell_type": "markdown",
   "metadata": {},
   "source": [
    "False or True\n",
    "True"
   ]
  },
  {
   "cell_type": "markdown",
   "metadata": {},
   "source": [
    "And --> Solo es True cuando los dos segmetos sean True\n",
    "Or --> Es True si uno de los dos segmentos es True\n",
    "Not --> Cambio el valor del Booleano"
   ]
  },
  {
   "cell_type": "code",
   "execution_count": null,
   "metadata": {
    "collapsed": true
   },
   "outputs": [],
   "source": [
    "# Conjunción (también llamado \"y lógico\" y \"multiplicador lógico\")\n",
    "False and True"
   ]
  },
  {
   "cell_type": "code",
   "execution_count": null,
   "metadata": {
    "collapsed": true
   },
   "outputs": [],
   "source": [
    "# Negación\n",
    "not False"
   ]
  },
  {
   "cell_type": "markdown",
   "metadata": {},
   "source": [
    "### ¡Prueba tú!"
   ]
  },
  {
   "cell_type": "code",
   "execution_count": 25,
   "metadata": {},
   "outputs": [
    {
     "name": "stdout",
     "output_type": "stream",
     "text": "Disyunción: False\nConjunción: False\nNegación: True\n"
    }
   ],
   "source": [
    "# Cambia los literales utilizados en las siguientes expresiones y observa cuál es el resultado en cada caso\n",
    "\n",
    "print(\"Disyunción:\", False or False)\n",
    "print(\"Conjunción:\", False and False)\n",
    "print(\"Negación:\", not False)"
   ]
  },
  {
   "cell_type": "markdown",
   "metadata": {},
   "source": [
    "### 2.2 Tipos numéricos <a name=\"sec_numericos\"/>"
   ]
  },
  {
   "cell_type": "markdown",
   "metadata": {},
   "source": [
    "Existen tres tipos que permiten trabajar con números en Python: enteros (**int**), reales (**float**) y complejos (**complex**). Nosotros sólo trabajaremos con los dos primeros. \n",
    "\n",
    "Los **literales enteros** se escriben tal como estamos acostumbrados, mediante una secuencia de dígitos. Por ejemplo: \n",
    "```python\n",
    "2018\n",
    "```\n",
    "Si escribimos el punto decimal (.), entonces diremos que se trata de un **literal real**:\n",
    "```python\n",
    "3.14159\n",
    "```\n",
    "\n",
    "Las operaciones disponibles incluyen a las **operaciones aritméticas** (suma, resta, multiplicación,...), las **operaciones relacionales** (mayor que, menor que,...), y algunas otras como el valor absoluto. Algunas operaciones se representan mediante un operador (por ejemplo, se usa el operador + para la suma), mientras que otras se representan mediante una llamada a función (por ejemplo, se usa la función predefinida *abs* para obtener el valor absoluto de un número). \n",
    "\n",
    "A continuación, se muestran ejemplos que deben ser autoexplicativos. Empezamos por las **operaciones aritméticas**, que son aquellas en las que tanto los operandos como el resultado son numéricos:\n",
    "<a id=\"operadores_aritmeticos\"/>"
   ]
  },
  {
   "cell_type": "code",
   "execution_count": null,
   "metadata": {
    "collapsed": true
   },
   "outputs": [],
   "source": [
    "# suma\n",
    "3 + 6"
   ]
  },
  {
   "cell_type": "code",
   "execution_count": null,
   "metadata": {
    "collapsed": true
   },
   "outputs": [],
   "source": [
    "# resta\n",
    "3 - 4"
   ]
  },
  {
   "cell_type": "code",
   "execution_count": null,
   "metadata": {
    "collapsed": true
   },
   "outputs": [],
   "source": [
    "# producto\n",
    "3 * 4"
   ]
  },
  {
   "cell_type": "code",
   "execution_count": 26,
   "metadata": {},
   "outputs": [
    {
     "data": {
      "text/plain": "0.75"
     },
     "execution_count": 26,
     "metadata": {},
     "output_type": "execute_result"
    }
   ],
   "source": [
    "# división\n",
    "3 / 4"
   ]
  },
  {
   "cell_type": "code",
   "execution_count": 27,
   "metadata": {},
   "outputs": [
    {
     "data": {
      "text/plain": "0"
     },
     "execution_count": 27,
     "metadata": {},
     "output_type": "execute_result"
    }
   ],
   "source": [
    "# división entera: devuelve el cociente, sin decimales\n",
    "3 // 4"
   ]
  },
  {
   "cell_type": "code",
   "execution_count": 29,
   "metadata": {},
   "outputs": [
    {
     "data": {
      "text/plain": "0"
     },
     "execution_count": 29,
     "metadata": {},
     "output_type": "execute_result"
    }
   ],
   "source": [
    "# resto de la división entera\n",
    "x = 2 % 2\n",
    "x"
   ]
  },
  {
   "cell_type": "code",
   "execution_count": 2,
   "metadata": {},
   "outputs": [
    {
     "data": {
      "text/plain": "-3"
     },
     "execution_count": 2,
     "metadata": {},
     "output_type": "execute_result"
    }
   ],
   "source": [
    "# opuesto\n",
    "- 3"
   ]
  },
  {
   "cell_type": "code",
   "execution_count": 30,
   "metadata": {},
   "outputs": [
    {
     "data": {
      "text/plain": "3"
     },
     "execution_count": 30,
     "metadata": {},
     "output_type": "execute_result"
    }
   ],
   "source": [
    "# valor absoluto\n",
    "abs(-3)"
   ]
  },
  {
   "cell_type": "code",
   "execution_count": 31,
   "metadata": {},
   "outputs": [
    {
     "data": {
      "text/plain": "81"
     },
     "execution_count": 31,
     "metadata": {},
     "output_type": "execute_result"
    }
   ],
   "source": [
    "# potencia: 3^4\n",
    "3 ** 4"
   ]
  },
  {
   "cell_type": "markdown",
   "metadata": {},
   "source": [
    "### ¡Prueba tú!"
   ]
  },
  {
   "cell_type": "code",
   "execution_count": 35,
   "metadata": {},
   "outputs": [
    {
     "name": "stdout",
     "output_type": "stream",
     "text": "987.4285714285714\n"
    }
   ],
   "source": [
    "# Escribe una expresión usando varios operadores aritméticos\n",
    "\n",
    "x = ((3*4)**3)/(7/4)\n",
    "print(x)"
   ]
  },
  {
   "cell_type": "markdown",
   "metadata": {},
   "source": [
    "Continuamos con las **operaciones relacionales**, en las que los operandos son numéricos pero el resultado es de tipo lógico:\n",
    "<a id=\"operadores_relacionales\"/>"
   ]
  },
  {
   "cell_type": "code",
   "execution_count": null,
   "metadata": {
    "collapsed": true
   },
   "outputs": [],
   "source": [
    "# mayor estricto\n",
    "3 > 4"
   ]
  },
  {
   "cell_type": "code",
   "execution_count": null,
   "metadata": {
    "collapsed": true
   },
   "outputs": [],
   "source": [
    "# menor estricto\n",
    "3 < 4"
   ]
  },
  {
   "cell_type": "code",
   "execution_count": null,
   "metadata": {
    "collapsed": true
   },
   "outputs": [],
   "source": [
    "# mayor o igual\n",
    "3 >= 4"
   ]
  },
  {
   "cell_type": "code",
   "execution_count": null,
   "metadata": {
    "collapsed": true
   },
   "outputs": [],
   "source": [
    "# menor o igual\n",
    "3 <= 4"
   ]
  },
  {
   "cell_type": "code",
   "execution_count": null,
   "metadata": {
    "collapsed": true
   },
   "outputs": [],
   "source": [
    "# igual\n",
    "3 == 4"
   ]
  },
  {
   "cell_type": "code",
   "execution_count": 36,
   "metadata": {},
   "outputs": [
    {
     "data": {
      "text/plain": "True"
     },
     "execution_count": 36,
     "metadata": {},
     "output_type": "execute_result"
    }
   ],
   "source": [
    "# distinto\n",
    "3 != 4"
   ]
  },
  {
   "cell_type": "markdown",
   "metadata": {},
   "source": [
    "Los operadores relacionales pueden concatenarse para formar una única expresión, de manera similar a como se hace en notación matemática (algo que no puede hacerse en otros lenguajes de programación, como C o Java). Por ejemplo:"
   ]
  },
  {
   "cell_type": "code",
   "execution_count": 1,
   "metadata": {},
   "outputs": [
    {
     "data": {
      "text/plain": "True"
     },
     "execution_count": 1,
     "metadata": {},
     "output_type": "execute_result"
    }
   ],
   "source": [
    "(3 < 4 <= 6)\n"
   ]
  },
  {
   "cell_type": "code",
   "execution_count": 38,
   "metadata": {},
   "outputs": [
    {
     "data": {
      "text/plain": "False"
     },
     "execution_count": 38,
     "metadata": {},
     "output_type": "execute_result"
    }
   ],
   "source": [
    "5>=5"
   ]
  },
  {
   "cell_type": "markdown",
   "metadata": {},
   "source": [
    "### 2.3 Tipo cadena  <a name=\"sec_cadena\"/>"
   ]
  },
  {
   "cell_type": "markdown",
   "metadata": {},
   "source": [
    "El tipo cadena de caracteres (**str**), o como se suele abreviar, tipo cadena, nos permite trabajar con textos. Los **literales cadena** se escriben utilizando unas comillas simples o dobles para rodear al texto que queremos representar. Por ejemplo:\n",
    "\n",
    "```python\n",
    "\"Este es un literal cadena\"\n",
    "'Este es otro literal cadena'\n",
    "```\n",
    "\n",
    "Si usamos comillas simples, dentro del texto podemos emplear las comillas dobles sin problema. Igualmente, si usamos las comillas dobles para rodear al texto, dentro del mismo podemos usar las comillas simples. Por ejemplo:\n",
    "\n",
    "```python\n",
    "\"En este ejemplo usamos las 'comillas simples' dentro de un texto\"\n",
    "'En este ejemplo usamos las \"comillas dobles\" dentro de un texto'\n",
    "```\n",
    "\n",
    "En ocasiones querremos hacer referencia a caracteres especiales, como el tabulador o el salto de línea. En dichos casos, debemos usar el **carácter de escape**, que es la barra invertida \\\\. Por ejemplo, el tabulador se escribe como *\\t* y el salto de línea se escribe como *\\n*. Por ejemplo:\n",
    "\n",
    "```python\n",
    "\"Este texto tiene dos líneas.\\nEsta es la segunda línea.\"\n",
    "```\n",
    "\n",
    "También es posible utilizar tres comillas, simples o dobles, como delimitadores del texto, en cuyo caso podemos escribir texto de varias líneas, sin necesidad de usar *\\n*:\n",
    "\n",
    "```python\n",
    "\"\"\"Este texto tiene dos líneas.\n",
    "Esta es la segunda línea.\"\"\"\n",
    "```"
   ]
  },
  {
   "cell_type": "markdown",
   "metadata": {},
   "source": [
    "La mayoría de las operaciones sobre el tipo cadena son mediante llamadas a métodos, ya que las cadenas en Python son objetos. Veremos esto más adelante; por ahora, nos basta con ver las operaciones que podemos realizar mediante operadores o funciones predefinidas:"
   ]
  },
  {
   "cell_type": "code",
   "execution_count": 40,
   "metadata": {},
   "outputs": [
    {
     "name": "stdout",
     "output_type": "stream",
     "text": "Tamaño texto lista: 4\nNúmero de caracteres del texto: 27\nE\ns\n.\n.\n"
    }
   ],
   "source": [
    "texto = \"Este es un texto de prueba.\"\n",
    "texto_lista = [\"E\", \"s\", \"t\", \"e\"]\n",
    "x = texto_lista[0]\n",
    "\n",
    "tamano_texto_lista = len(texto_lista)\n",
    "print(\"Tamaño texto lista:\",tamano_texto_lista)\n",
    "# Tamaño de una cadena, función predefinida len\n",
    "print(\"Número de caracteres del texto:\", len(texto))\n",
    "\n",
    "# El operador de acceso permite obtener un único carácter \n",
    "print(texto[0])  # El primer caracter se referencia mediante un cero\n",
    "print(texto[1])\n",
    "print(texto[26])\n",
    "print(texto[-1]) # Otra forma de acceder al último carácter de la cadena"
   ]
  },
  {
   "cell_type": "markdown",
   "metadata": {},
   "source": [
    "¡Cuidado con intentar acceder a un carácter que no existe! Observa el error que se produce:"
   ]
  },
  {
   "cell_type": "code",
   "execution_count": 41,
   "metadata": {},
   "outputs": [
    {
     "ename": "IndexError",
     "evalue": "string index out of range",
     "output_type": "error",
     "traceback": [
      "\u001b[0;31m---------------------------------------------------------------------------\u001b[0m",
      "\u001b[0;31mIndexError\u001b[0m                                Traceback (most recent call last)",
      "\u001b[0;32m<ipython-input-41-df46bfd7cd38>\u001b[0m in \u001b[0;36m<module>\u001b[0;34m\u001b[0m\n\u001b[0;32m----> 1\u001b[0;31m \u001b[0mprint\u001b[0m\u001b[0;34m(\u001b[0m\u001b[0mtexto\u001b[0m\u001b[0;34m[\u001b[0m\u001b[0;36m27\u001b[0m\u001b[0;34m]\u001b[0m\u001b[0;34m)\u001b[0m\u001b[0;34m\u001b[0m\u001b[0;34m\u001b[0m\u001b[0m\n\u001b[0m",
      "\u001b[0;31mIndexError\u001b[0m: string index out of range"
     ]
    }
   ],
   "source": [
    "print(texto[27])"
   ]
  },
  {
   "cell_type": "markdown",
   "metadata": {},
   "source": [
    "Python nos permite usar el operador + entre dos cadenas, y el operador * entre una cadena y un número entero:"
   ]
  },
  {
   "cell_type": "code",
   "execution_count": 42,
   "metadata": {},
   "outputs": [
    {
     "data": {
      "text/plain": "'Este es un texto de prueba. ¡Genial!'"
     },
     "execution_count": 42,
     "metadata": {},
     "output_type": "execute_result"
    }
   ],
   "source": [
    "texto + \" ¡Genial!\""
   ]
  },
  {
   "cell_type": "code",
   "execution_count": 43,
   "metadata": {},
   "outputs": [
    {
     "data": {
      "text/plain": "'Este es un texto de prueba.Este es un texto de prueba.Este es un texto de prueba.Este es un texto de prueba.'"
     },
     "execution_count": 43,
     "metadata": {},
     "output_type": "execute_result"
    }
   ],
   "source": [
    "texto * 4"
   ]
  },
  {
   "cell_type": "markdown",
   "metadata": {},
   "source": [
    "También es posible usar los operadores relacionales entre cadenas, de manera que se utiliza el orden alfabético para decidir el resultado de las operaciones."
   ]
  },
  {
   "cell_type": "code",
   "execution_count": 47,
   "metadata": {},
   "outputs": [
    {
     "data": {
      "text/plain": "False"
     },
     "execution_count": 47,
     "metadata": {},
     "output_type": "execute_result"
    }
   ],
   "source": [
    "\"B\" < \"A\""
   ]
  },
  {
   "cell_type": "markdown",
   "metadata": {},
   "source": [
    "### ¡Prueba tú!"
   ]
  },
  {
   "cell_type": "code",
   "execution_count": 48,
   "metadata": {},
   "outputs": [
    {
     "name": "stdout",
     "output_type": "stream",
     "text": "5\nT\no\n"
    }
   ],
   "source": [
    "# Declara una variable e inicialízala con algún texto.\n",
    "x = \"Texto\"\n",
    "# Muestra el número de caracteres del texto, el carácter que ocupa la primera posición y el carácter que ocupa la última posición.\n",
    "\n",
    "numero_de_caracteres = len(x)\n",
    "primera_posicion = x[0]\n",
    "ultima_posicion = x[-1]\n",
    "print(numero_de_caracteres)\n",
    "print(primera_posicion)\n",
    "print(ultima_posicion)"
   ]
  },
  {
   "cell_type": "markdown",
   "metadata": {},
   "source": [
    "### 2.4 Tipos contenedores  <a name=\"sec_contenedores\"/>"
   ]
  },
  {
   "cell_type": "markdown",
   "metadata": {},
   "source": [
    "En Python existen algunos tipos contenedores que permiten almacenar en una variable varios valores al mismo tiempo. Cada uno de estos valores puede tener a su vez su propio tipo (es decir, puedo guardar en una única variable dos valores de tipo entero y un valor de tipo cadena, por ejemplo). \n",
    "\n",
    "Entre otros, tenemos disponemos en Python de estos tipos contenedores.\n",
    "\n",
    "#### 2.4.1. Tuplas  <a name=\"sec_tuplas\"/>\n",
    "\n",
    "El tipo tupla (**tuple**) permite almacenar datos de cualquier tipo, en un orden determinado. Los literales se escriben concatenando los datos que se desea que estén incluidos en la tupla, separados por comas, y envolviéndolo todo con unos paréntesis. Por ejemplo:\n",
    "\n",
    "```python\n",
    "(\"Mark\", \"Lenders\", 15) \n",
    "```\n",
    "\n",
    "Si guardamos una tupla en una variable, podemos acceder a cada uno de los elementos de la tupla de la siguiente manera:\n",
    "<a id=\"ejemplo_tupla\"/>"
   ]
  },
  {
   "cell_type": "code",
   "execution_count": 49,
   "metadata": {},
   "outputs": [
    {
     "name": "stdout",
     "output_type": "stream",
     "text": "Nombre: Mark\nApellidos: Lenders\nEdad: 15\n"
    }
   ],
   "source": [
    "jugador = (\"Mark\", \"Lenders\", 15)\n",
    "print(\"Nombre:\", jugador[0])\n",
    "print(\"Apellidos:\", jugador[1])\n",
    "print(\"Edad:\", jugador[2])"
   ]
  },
  {
   "cell_type": "code",
   "execution_count": 50,
   "metadata": {},
   "outputs": [
    {
     "name": "stdout",
     "output_type": "stream",
     "text": "['Mark', 'Lenders', 15, 'nuevo']\n"
    }
   ],
   "source": [
    "lista1 = [\"Mark\", \"Lenders\", 15]\n",
    "lista1.append(\"nuevo\")\n",
    "print(lista1)\n",
    "\n"
   ]
  },
  {
   "cell_type": "code",
   "execution_count": 52,
   "metadata": {},
   "outputs": [
    {
     "name": "stdout",
     "output_type": "stream",
     "text": "<class 'tuple'>\n<class 'list'>\n"
    }
   ],
   "source": [
    "print(type(jugador))\n",
    "jugador_lista = list(jugador)\n",
    "print(type(jugador_lista))"
   ]
  },
  {
   "cell_type": "markdown",
   "metadata": {},
   "source": [
    "Las tuplas se usan frecuentemente como tipo de devolución de las funciones, ya que nos permiten que una función devuelva varios valores al mismo tiempo. Veremos esto más adelante."
   ]
  },
  {
   "cell_type": "markdown",
   "metadata": {},
   "source": [
    "Las tuplas son **inmutables**, lo que significa que una vez que se ha asignado un valor a una variable de tipo tupla ya no podemos cambiar los valores encapsulados en dicha tupla, ni añadir o eliminar elementos. Prueba a ejecutar el siguiente código y observa el error que se produce:"
   ]
  },
  {
   "cell_type": "code",
   "execution_count": null,
   "metadata": {
    "collapsed": true
   },
   "outputs": [],
   "source": [
    "jugador[2] = 16"
   ]
  },
  {
   "cell_type": "markdown",
   "metadata": {},
   "source": [
    "#### 2.4.2. Listas <a name=\"sec_listas\"/>\n",
    "\n",
    "El tipo lista (**list**) permite almacenar datos de cualquier tipo, en un orden determinado, al igual que las tuplas. La principal diferencia es que son **mutables**, es decir, una vez inicializada una variable de tipo lista, es posible cambiar el valor de una posición, añadir nuevos elementos o eliminarlos. Los literales se escriben concatenando los datos que se desea que estén incluidos en la tupla, separados por comas, y envolviéndolo todo con unos corchetes. Por ejemplo:\n",
    "```python\n",
    "[32, 36, 35, 36, 32, 33, 34]\n",
    "```\n",
    "\n",
    "Aunque al igual que en las tuplas los elementos pueden tener cada uno un tipo distinto, lo más habitual en las listas es que todos los elementos sean de un mismo tipo. Para acceder a los elementos se usan los corchetes, al igual que con las tuplas, con la diferencia de que ahora también podemos asignar nuevos valores a una posición determinada de la lista:"
   ]
  },
  {
   "cell_type": "code",
   "execution_count": 53,
   "metadata": {},
   "outputs": [
    {
     "name": "stdout",
     "output_type": "stream",
     "text": "Temperatura lunes: 32\n[32, 35, 35, 36, 32, 33]\n"
    }
   ],
   "source": [
    "temperaturas = [32, 36, 35, 36, 32, 33]\n",
    "print(\"Temperatura lunes:\", temperaturas[0])\n",
    "temperaturas[1] = 35\n",
    "print(temperaturas)"
   ]
  },
  {
   "cell_type": "markdown",
   "metadata": {},
   "source": [
    "#### 2.4.3. Conjuntos  <a name=\"sec_conjuntos\"/>\n",
    "El tipo conjunto (**set**) permite almacenar datos de cualquier tipo, sin ningún orden determinado, y sin posibilidad de elementos repetidos. Los literales se escriben concatenando los datos que se desea que estén incluidos en el conjunto (da igual el orden en que los escribamos), separados por comas, y envolviéndolo todo con unas llaves. Por ejemplo:\n",
    "```python\n",
    "{32, 33, 34, 35, 36}\n",
    "```\n"
   ]
  },
  {
   "cell_type": "code",
   "execution_count": 54,
   "metadata": {},
   "outputs": [
    {
     "data": {
      "text/plain": "{1, 2, 3}"
     },
     "execution_count": 54,
     "metadata": {},
     "output_type": "execute_result"
    }
   ],
   "source": [
    "lista2 = [1,2,2,3,3]\n",
    "set_lista2 = set(lista2)\n",
    "set_lista2"
   ]
  },
  {
   "cell_type": "markdown",
   "metadata": {},
   "source": [
    "Observa lo que ocurre si inicializamos un conjunto con datos repetidos:"
   ]
  },
  {
   "cell_type": "code",
   "execution_count": null,
   "metadata": {
    "collapsed": true
   },
   "outputs": [],
   "source": [
    "temperaturas_conjunto = {32,36,35,36,32,33,34}\n",
    "print(temperaturas_conjunto)"
   ]
  },
  {
   "cell_type": "markdown",
   "metadata": {},
   "source": [
    "Como el orden de los elementos en un conjunto no es relevante, no podemos acceder a dichos elementos usando los corchetes, como hacíamos en las tuplas y listas. Más adelante veremos qué operaciones podemos hacer con los conjuntos. Por ahora basta saber que son **mutables**, al igual que las listas. "
   ]
  },
  {
   "cell_type": "markdown",
   "metadata": {},
   "source": [
    "#### 2.4.4. Diccionarios  <a name=\"sec_diccionarios\"/>\n",
    "\n",
    "El tipo diccionario (**dict**) permite almacenar datos de cualquier tipo, sin ningún orden determinado. Cada valor almacenado se asocia a una clave, de manera que para acceder a los valores se utilizan dichas claves. Los literales se escriben concatenando las parejas clave-valor mediante comas y envolviéndolo todo mediante llaves; cada una de las parejas se escribe separando la clave y el valor asociado mediante dos puntos. Por ejemplo:\n",
    "```python\n",
    "{\"Almería\": 19.9, \"Cádiz\": 19.1, \"Córdoba\": 19.1, \"Granada\": 16.6, \"Jaén\": 18.2, \"Huelva\": 19.0, \"Málaga\": 19.8, \"Sevilla\": 20.0}\n",
    "```\n",
    "Para acceder a un valor, debemos conocer la clave asociada. Los diccionarios son **mutables**. Observa el siguiente ejemplo de código:"
   ]
  },
  {
   "cell_type": "code",
   "execution_count": null,
   "metadata": {
    "collapsed": true
   },
   "outputs": [],
   "source": [
    "temperaturas_por_provincias = {\"Almería\": 19.9, \"Cádiz\": 19.1, \"Córdoba\": 19.1, \"Granada\": 16.6, \"Jaén\": 18.2, \"Huelva\": 19.0, \"Málaga\": 19.8, \"Sevilla\": 20.0}\n",
    "print(\"Temperatura en Sevilla:\", temperaturas_por_provincias[\"Sevilla\"])\n",
    "temperaturas_por_provincias[\"Sevilla\"] = 21.0\n",
    "print(temperaturas_por_provincias)"
   ]
  },
  {
   "cell_type": "markdown",
   "metadata": {},
   "source": [
    "### ¡Prueba tú!\n",
    "Los valores de un tipo contenedor pueden ser a su vez de otro tipo contenedor. Completa la siguiente declaración de variable para que almacene listas de jugadores de equipos de fútbol, asociando cada lista a una clave con el nombre del equipo en cuestión. Puedes representar a cada jugador mediante una tupla con su nombre, apellidos y edad, al estilo del <a href=\"#ejemplo_tupla\">ejemplo anterior</a>."
   ]
  },
  {
   "cell_type": "code",
   "execution_count": null,
   "metadata": {
    "collapsed": true
   },
   "outputs": [],
   "source": [
    "equipos = {\"Sevilla\": [], \"Betis\": []}\n",
    "print(equipos)"
   ]
  },
  {
   "cell_type": "markdown",
   "metadata": {},
   "source": [
    "#### 2.4.5. Operaciones con tipos contenedores  <a name=\"sec_operaciones\"/>\n",
    "Dado que los tipos contenedores son tipos objeto, la mayoría de las operaciones con ellos se llevan a cabo mediante métodos. Más adelante haremos un repaso más detallado sobre los métodos disponibles para cada tipo contenedor, pero por ahora veremos cómo realizar las operaciones más básicas. \n"
   ]
  },
  {
   "cell_type": "code",
   "execution_count": null,
   "metadata": {
    "collapsed": true
   },
   "outputs": [],
   "source": [
    "# Añadir un elemento a una lista, un conjunto o un diccionario\n",
    "temperaturas.append(29)\n",
    "print(temperaturas)\n",
    "\n",
    "temperaturas_conjunto.add(29)\n",
    "print(temperaturas_conjunto)\n",
    "\n",
    "temperaturas_por_provincias[\"Badajoz\"] = 15.8   # Basta con usar una clave que antes no existía\n",
    "print(temperaturas_por_provincias)"
   ]
  },
  {
   "cell_type": "code",
   "execution_count": null,
   "metadata": {
    "collapsed": true
   },
   "outputs": [],
   "source": [
    "# Eliminar un elemento de una lista, un conjunto o un diccionario\n",
    "del(temperaturas[0])\n",
    "print(temperaturas)\n",
    "\n",
    "temperaturas_conjunto.remove(32)\n",
    "print(temperaturas_conjunto)\n",
    "\n",
    "del(temperaturas_por_provincias[\"Almería\"])\n",
    "print(temperaturas_por_provincias)"
   ]
  },
  {
   "cell_type": "code",
   "execution_count": null,
   "metadata": {
    "collapsed": true
   },
   "outputs": [],
   "source": [
    "# Concatenar varias tuplas o listas\n",
    "print(jugador + (1.92, 81.2))\n",
    "\n",
    "print(temperaturas + temperaturas)\n",
    "print(temperaturas * 3)  # Concatenar consigo misma 3 veces"
   ]
  },
  {
   "cell_type": "code",
   "execution_count": null,
   "metadata": {
    "collapsed": true
   },
   "outputs": [],
   "source": [
    "# Consultar el número de elementos de una tupla, lista, conjunto o diccionario\n",
    "print(len(jugador)) # Prueba a cambiar \"temperaturas\" por las variables de los otros tipos estructura"
   ]
  },
  {
   "cell_type": "code",
   "execution_count": null,
   "metadata": {
    "collapsed": true
   },
   "outputs": [],
   "source": [
    "# Consultar si un elemento forma parte de una tupla, lista, conjunto o diccionario\n",
    "print(39 in temperaturas)  # Prueba a cambiar \"temperaturas\" por las variables de los otros tipos estructura"
   ]
  },
  {
   "cell_type": "markdown",
   "metadata": {},
   "source": [
    "### ¡Prueba tú!"
   ]
  },
  {
   "cell_type": "code",
   "execution_count": null,
   "metadata": {
    "collapsed": true
   },
   "outputs": [],
   "source": [
    "lista1 = [1, 2, 3, 4, 5]\n",
    "lista2 = [-1, -2, -3, -4, -5]\n",
    "\n",
    "# Añade un nuevo número a lista1\n",
    "\n",
    "# Elimina el último elemento de lista2\n",
    "\n",
    "# Obtén una nueva lista (lista3) formada por 3 repeticiones de la lista1 y una de la lista2\n",
    "\n",
    "# Muestra la nueva lista en pantalla junto con el número de elementos\n",
    "\n",
    "\n"
   ]
  },
  {
   "cell_type": "markdown",
   "metadata": {},
   "source": [
    "## 3. Expresiones  <a name=\"sec_expresiones\"/>"
   ]
  },
  {
   "cell_type": "markdown",
   "metadata": {},
   "source": [
    "Aunque en los ejemplos anteriores hemos inicializado las variables utilizando un literal de algún tipo, esta es sólo una de las **expresiones** que podemos emplear. Una expresión puede ser cualquier de las siguientes cosas:\n",
    "\n",
    "* Un literal.\n",
    "* Una variable.\n",
    "* Un operador junto a sus operandos, cada uno de los cuales es a su vez una expresión.\n",
    "* Una llamada a una función o a un método, siempre que devuelvan algo; cada uno de los parámetros de la invocación a la función o al método es a su vez una expresión.\n",
    "* Unos paréntesis envolviendo a otra expresión.\n",
    "\n",
    "Fíjate en que la definición anterior es recursiva: por ejemplo, los operandos de una operación pueden ser a su vez expresiones. Esto hace que podamos tener expresiones tan largas como quieras imaginar (aunque por regla general intentaremos que no sean *demasiado* largas, pues eso las hace más difíciles de leer y entender).\n",
    "\n",
    "Mira los siguientes ejemplos de expresiones; si ejecutas cada trozo de código mostrado, obtendrás el **resultado** de la expresión. Decimos que la expresión es del **tipo** correspondiente al resultado de la misma. Prueba a llamar a la función predefinida *type* pasándole como parámetro cada una de las expresiones siguientes: al ejecutar, obtendrás el tipo de la expresión."
   ]
  },
  {
   "cell_type": "code",
   "execution_count": null,
   "metadata": {
    "collapsed": true
   },
   "outputs": [],
   "source": [
    "# Un literal\n",
    "39"
   ]
  },
  {
   "cell_type": "code",
   "execution_count": null,
   "metadata": {
    "collapsed": true
   },
   "outputs": [],
   "source": [
    "# Una variable\n",
    "edad"
   ]
  },
  {
   "cell_type": "code",
   "execution_count": null,
   "metadata": {
    "collapsed": true
   },
   "outputs": [],
   "source": [
    "# Un operador junto a sus operando\n",
    "edad + 18"
   ]
  },
  {
   "cell_type": "code",
   "execution_count": null,
   "metadata": {
    "collapsed": true
   },
   "outputs": [],
   "source": [
    "# Cada operando es a su vez una expresión, que puede estar formada por otros operadores y operandos\n",
    "edad + 18 < 30"
   ]
  },
  {
   "cell_type": "code",
   "execution_count": null,
   "metadata": {
    "collapsed": true
   },
   "outputs": [],
   "source": [
    "# Una llamada a función (el parámetro, a su vez, es una expresión)\n",
    "len(temperaturas * 2)"
   ]
  },
  {
   "cell_type": "markdown",
   "metadata": {},
   "source": [
    "<a id=\"segundo_ejemplo\"/>"
   ]
  },
  {
   "cell_type": "code",
   "execution_count": null,
   "metadata": {
    "collapsed": true
   },
   "outputs": [],
   "source": [
    "# Podemos usar paréntesis para indicar el orden de ejecución de las operaciones en una expresión\n",
    "((len(temperaturas) - len(temperaturas_conjunto)) < 2) and ((edad % 2) != 0)"
   ]
  },
  {
   "cell_type": "markdown",
   "metadata": {},
   "source": [
    "Cuando utilizamos una expresión para inicializar una variable, Python primero **evalúa** la expresión para obtener un resultado, y almacena dicho resultado en la variable:"
   ]
  },
  {
   "cell_type": "code",
   "execution_count": null,
   "metadata": {
    "collapsed": true
   },
   "outputs": [],
   "source": [
    "nombre_completo = jugador[0] + \" \" + jugador[1]\n",
    "print(nombre_completo)"
   ]
  },
  {
   "cell_type": "markdown",
   "metadata": {},
   "source": [
    "Igualmente podemos usar expresiones en los parámetros de las llamadas a funciones o a métodos, de manera que Python evalúa las expresiones antes de proceder a ejecutar la función o método:"
   ]
  },
  {
   "cell_type": "code",
   "execution_count": null,
   "metadata": {
    "collapsed": true
   },
   "outputs": [],
   "source": [
    "print(\"El nombre completo del jugador es \" + nombre_completo + \".\")"
   ]
  },
  {
   "cell_type": "markdown",
   "metadata": {},
   "source": [
    "### 3.1 Prioridad de las operaciones  <a name=\"sec_prioridad\"/>"
   ]
  },
  {
   "cell_type": "markdown",
   "metadata": {},
   "source": [
    "<a href=\"#segundo_ejemplo\">En uno de los ejemplos de expresiones</a> hemos utilizado los paréntesis para indicarle a Python en qué orden debe evaluar la expresión. Pero, ¿qué ocurre si no empleamos paréntesis y la expresión contiene varios operadores y/o llamadas a funciones?\n",
    "\n",
    "En este caso, Python decide el orden según la **prioridad de las operaciones**. En el caso de los <a href=\"#operadores_logicos\">operadores lógicos</a> y <a href=\"#operadores_aritmeticos\">aritméticos</a>, la prioridad coincide con el orden en que aparecen los ejemplos en este notebook (de menos a más prioridad). Así por ejemplo, la suma aritmética tiene menor prioridad que la multiplicación; por tanto, en la expresión `3 + 5 * 8` primero se evalúa `5 * 8` y posteriormente se evalúa `3 + 40`. \n",
    "\n",
    "En el caso de los <a href=\"#operadores_relacionales\">operadores relacionales</a>, todos tienen la misma prioridad. Si tenemos expresiones en las que aparezcan operadores de los tres tipos, en primer lugar se evalúan los operadores aritméticos, después los relacionales, y por último los lógicos. Trata de entender cómo se evalúa la siguiente expresión:"
   ]
  },
  {
   "cell_type": "code",
   "execution_count": null,
   "metadata": {
    "collapsed": true
   },
   "outputs": [],
   "source": [
    "3 + 9 > 9 and 8 > 3"
   ]
  },
  {
   "cell_type": "markdown",
   "metadata": {},
   "source": [
    "En cuanto a las llamadas a funciones y métodos, éstas siempre se evalúan en primer lugar. Tienen por tanto mayor prioridad que el resto de operaciones. Dado que para evaluar una llamada es necesario ejecutar el código de la función o el método correspondiente, lo primero que hará Python es evaluar las expresiones usadas en los parámetros de estas funciones.\n",
    "\n",
    "Veamos un ejemplo de lo anterior:"
   ]
  },
  {
   "cell_type": "code",
   "execution_count": null,
   "metadata": {
    "collapsed": true
   },
   "outputs": [],
   "source": [
    "import math\n",
    "\n",
    "resultado = 5 + math.sqrt(10 * 10) < 20 - 2  \n",
    "print(resultado)"
   ]
  },
  {
   "cell_type": "markdown",
   "metadata": {},
   "source": [
    "El orden de evaluación de la expresión `5 + math.sqrt(10 * 10) < 20 - 2` es el siguiente:\n",
    "* Se evalúa el parámetro de la llamada a la función math.sqrt: `10 * 10`, cuyo resultado es `100`.\n",
    "* Se evalúa la llamada a la función `math.sqrt(100)`, cuyo resultado es `10`.\n",
    "* Se evalúa la operación `5 + 10`, cuyo resultado es `15`.\n",
    "* Se evalúa la operación `20 - 2`, cuyo resultado es `18`.\n",
    "* Por último, se evalúa la operación `15 < 18`, cuyo resultado es `True`."
   ]
  },
  {
   "cell_type": "markdown",
   "metadata": {},
   "source": [
    "Como recomendación final, ten en cuenta que si en algún momento dudas de la prioridad de los operadores que estás usando, siempre puedes usar los paréntesis para asegurarte de que estás escribiendo lo que realmente quieres expresar."
   ]
  },
  {
   "cell_type": "markdown",
   "metadata": {},
   "source": [
    "### 3.2 Conversión de tipos  <a name=\"sec_conversion\"/>"
   ]
  },
  {
   "cell_type": "markdown",
   "metadata": {
    "collapsed": true
   },
   "source": [
    "Python tiene un **sistema fuerte de tipos**, lo que en pocas palabras significa que cada literal, variable o expresión que utilicemos tiene asociado un tipo determinado, y que Python nunca va a convertir ese tipo a otro tipo de manera automática. \n",
    "\n",
    "Para entender esto, ejecuta el siguiente ejemplo:\n",
    "<a id=\"malformada\"/>"
   ]
  },
  {
   "cell_type": "code",
   "execution_count": null,
   "metadata": {
    "collapsed": true
   },
   "outputs": [],
   "source": [
    "resultado = 10 * 3.141519 - 19\n",
    "print(\"El resultado del cálculo es \" + resultado)"
   ]
  },
  {
   "cell_type": "markdown",
   "metadata": {},
   "source": [
    "Como puedes observar, se ha producido un error (en concreto, un **TypeError**). Lo que nos dice el error en cuestión es que para poder realizar la operación de concatenación de cadenas, que aparece en la expresión `\"El resultado del cálculo es \" + resultado`, sería necesario que el segundo operador, `resultado`, fuera de tipo cadena (**str**). Esto no es así: `resultado` es de tipo **float**. Algunos lenguajes de programación realizan esta conversión de manera automática, convirtiendo el valor de resultado a una cadena de texto, antes de proceder a evaluar la expresión completa. **No es el caso de Python**: dado que tenemos un sistema fuerte de tipos, las conversiones de datos deben ser siempre explícitamente escritas por el programador.\n",
    "\n",
    "Para llevar a cabo una conversión del tipo de una expresión, debemos usar funciones predefinidas cuyos nombres coinciden con los nombres de los tipos básicos que hemos visto hasta ahora: **bool**, **int**, **float**, **str**, **tuple**, **list**, **set**, y **dict**. Para que el ejemplo anterior se pueda ejecutar, tendría que corregirse de la siguiente manera:"
   ]
  },
  {
   "cell_type": "code",
   "execution_count": null,
   "metadata": {
    "collapsed": true
   },
   "outputs": [],
   "source": [
    "resultado = 10 * 3.141519 - 19\n",
    "print(\"El resultado del cálculo es \" + str(resultado))"
   ]
  },
  {
   "cell_type": "markdown",
   "metadata": {},
   "source": [
    "Además del caso de la conversión de cualquier tipo a cadena, es también común la conversión de unos tipos contenedores a otros. Por ejemplo, si tengo una tupla puedo convertirla a lista:"
   ]
  },
  {
   "cell_type": "code",
   "execution_count": null,
   "metadata": {
    "collapsed": true
   },
   "outputs": [],
   "source": [
    "print(jugador)\n",
    "jugador_lista = list(jugador)\n",
    "print(jugador_lista)"
   ]
  },
  {
   "cell_type": "markdown",
   "metadata": {},
   "source": [
    "O si tengo una lista, puedo convertirla en un conjunto (con lo que de camino estaremos eliminando los elementos duplicados, de manera sencilla):"
   ]
  },
  {
   "cell_type": "code",
   "execution_count": null,
   "metadata": {
    "collapsed": true
   },
   "outputs": [],
   "source": [
    "print(temperaturas)\n",
    "temperaturas_sin_duplicados = set(temperaturas)\n",
    "print(temperaturas_sin_duplicados)"
   ]
  },
  {
   "cell_type": "markdown",
   "metadata": {},
   "source": [
    "No todas las conversiones se pueden realizar. En general, si la conversión es intuitiva, Python la llevará a cabo sin problemas. Pero si la conversión carece de sentido o no es intuitivamente clara, es posible que dé lugar a un error:"
   ]
  },
  {
   "cell_type": "code",
   "execution_count": null,
   "metadata": {
    "collapsed": true
   },
   "outputs": [],
   "source": [
    "print(temperaturas)\n",
    "temperaturas_entero = int(temperaturas)\n",
    "print(temperaturas_entero)"
   ]
  },
  {
   "cell_type": "markdown",
   "metadata": {},
   "source": [
    "### 3.3. Expresiones bien formadas <a id=\"sec_bienformadas\"/>\n",
    "\n",
    "Decimos que una expresión está **bien formada** (o también, que es una expresión **correcta**) cuando se cumple que:\n",
    "* Los literales que aparecen en la expresión están correctamente escritos según las reglas que hemos visto.\n",
    "* Las variables que aparecen en la expresión han sido definidas previamente (o importadas mediante la instrucción `import`).\n",
    "* Los operadores que aparecen en la expresión aparecen aplicados al número correcto de operandos, y los tipos de las expresiones que funcionan como operandos son los adecuados para dichos operadores.\n",
    "* Las llamadas a funciones o métodos que aparecen en la expresión corresponden a funciones o métodos definidos previamente (o importados mediante la instrucción `import`). Además, el número y tipo de las expresiones utilizadas como parámetros de las llamadas son los esperados por dichas funciones y métodos.\n",
    "\n",
    "Si una expresión no está bien formada, Python devolverá un error al tratar de ejecutar el código. Por ejemplo, la expresión escrita dentro de la llamada a la función `print` en <a href=\"#malformada\">este ejemplo</a> es una expresión mal formada. El resto de expresiones que hemos visto y que no dan error al ser ejecutadas son expresiones bien formadas."
   ]
  },
  {
   "cell_type": "markdown",
   "metadata": {},
   "source": [
    "### ¡Prueba tú!\n",
    "¿Sabrías identificar por qué razón las siguientes expresiones no están bien formadas? Trata de corregirlas."
   ]
  },
  {
   "cell_type": "code",
   "execution_count": null,
   "metadata": {
    "collapsed": true
   },
   "outputs": [],
   "source": [
    "13'2 * 5"
   ]
  },
  {
   "cell_type": "code",
   "execution_count": null,
   "metadata": {
    "collapsed": true
   },
   "outputs": [],
   "source": [
    "(temperatura[0] + temperatura[1]) / 2"
   ]
  },
  {
   "cell_type": "code",
   "execution_count": null,
   "metadata": {
    "collapsed": true
   },
   "outputs": [],
   "source": [
    "\"Ajo\" * 3.1"
   ]
  },
  {
   "cell_type": "code",
   "execution_count": null,
   "metadata": {
    "collapsed": true
   },
   "outputs": [],
   "source": [
    "abs(\"-1.2\")"
   ]
  }
 ],
 "metadata": {
  "anaconda-cloud": {},
  "kernelspec": {
   "display_name": "Python 3",
   "language": "python",
   "name": "python3"
  },
  "language_info": {
   "codemirror_mode": {
    "name": "ipython",
    "version": 3
   },
   "file_extension": ".py",
   "mimetype": "text/x-python",
   "name": "python",
   "nbconvert_exporter": "python",
   "pygments_lexer": "ipython3",
   "version": "3.6.4-final"
  }
 },
 "nbformat": 4,
 "nbformat_minor": 2
}