{
 "metadata": {
  "language_info": {
   "codemirror_mode": {
    "name": "ipython",
    "version": 3
   },
   "file_extension": ".py",
   "mimetype": "text/x-python",
   "name": "python",
   "nbconvert_exporter": "python",
   "pygments_lexer": "ipython3",
   "version": "3.7.4"
  },
  "orig_nbformat": 2,
  "kernelspec": {
   "name": "python374jvsc74a57bd0674dfd6ded4398e0679ff4f65e9a10a54ff0d14801bec0126172cfc3973d1cf1",
   "display_name": "Python 3.7.4 64-bit"
  },
  "metadata": {
   "interpreter": {
    "hash": "674dfd6ded4398e0679ff4f65e9a10a54ff0d14801bec0126172cfc3973d1cf1"
   }
  }
 },
 "nbformat": 4,
 "nbformat_minor": 2,
 "cells": [
  {
   "cell_type": "markdown",
   "metadata": {},
   "source": [
    "### 1. \n",
    "\n",
    "Crear una función que reciba cuatro parámetros: una lista 'L', un número 'T', un número 'V' y un booleano 'S'. La función debe devolver otras dos listas: \"lista_train_val\" y \"lista_test\".\n",
    "\n",
    "- \"lista_train_val\" es una lista con dos elementos. Cada elemento es una lista: \"list_train\", que representa el conjunto de entrenamiento y \"list_val\", que representa el conjunto de validación. \n",
    "- \"list_test\" es el conjunto de test. Como mínimo ha de tener 1 elemento (si 'L' > 1).\n",
    "- \"L\" es cualquier lista de elementos. Al principio, entra con un tamaño completo (100%). Esta es la lista que se partirá y se generarán los conjuntos entrenamiento, de validación y de test.\n",
    "- \"T\" es un número entre 1 y 100 que va a representar el tamaño, en porcentaje, del conjunto de test \"list_test\". \n",
    "- \"V\" es un número entre 0 y 100 que va a representar el tamaño, en porcentaje, del conjunto de validación \"list_val\". Su valor por defecto es 0.\n",
    "- \"S\", que por defecto es False, determinará si los conjuntos \"list_train\", \"list_test\" y \"list_val\" están aleatoriamente ordenados. ¿Encuentras alguna posible incoherencia si se reordenan aleatoriamente?\n",
    "\n",
    "Prueba la función con una lista de 100 números aleatorios del 0 al 100. \n",
    "\n",
    "### 2. \n",
    "\n",
    "Rehacer el ejercicio anterior en otra función para que no devuelva dos listas, sino los tres conjuntos: \n",
    "\n",
    "--> return list_train, list_val, list_test "
   ]
  },
  {
   "cell_type": "code",
   "execution_count": 19,
   "metadata": {},
   "outputs": [],
   "source": [
    "import random\n",
    "\n",
    "# PARTE 1.\n",
    "def get_train_test(L, T, V=0, S=False):\n",
    "\n",
    "    if len(L) > 1:   # Comprobamos si L > 1\n",
    "        # Se calcula la posición relativa de train en la lista.\n",
    "        t_pos = round(len(L) * (T/100))    \n",
    "        list_train = L[:t_pos]\n",
    "        list_val = []\n",
    "        # Se calcula la posición relativa de val en la lista\n",
    "        if V > 0:\n",
    "            v_pos = t_pos + round(len(L) * (V/100))    \n",
    "            list_val = L[t_pos:v_pos]\n",
    "            # Lista test a partir de la posición v_pos.\n",
    "            list_test = L[v_pos:]               \n",
    "        else:\n",
    "            # Lista test a partir de la posición t_pos (V=0).\n",
    "            list_test = L[t_pos:]               \n",
    "\n",
    "        # Si S=True se realiza un shuffle.\n",
    "        if S:\n",
    "            random.shuffle(list_train)\n",
    "            random.shuffle(list_val)\n",
    "            random.shuffle(list_test)\n",
    "\n",
    "        lista_train_val = [list_train, list_val]\n",
    "        \n",
    "    return lista_train_val, list_test"
   ]
  },
  {
   "cell_type": "code",
   "execution_count": 2,
   "metadata": {},
   "outputs": [],
   "source": [
    "L = [random.randint(0,100) for i in range(100)]"
   ]
  },
  {
   "cell_type": "code",
   "execution_count": 30,
   "metadata": {},
   "outputs": [
    {
     "output_type": "stream",
     "name": "stdout",
     "text": [
      "[76, 78, 5, 35, 83, 37, 68, 35, 96, 49, 4, 4, 54, 57, 30, 77, 31, 94, 55, 35, 18, 66, 70, 53, 38, 21, 22, 19, 11, 91, 7, 90, 38, 66, 39, 44, 56, 80, 47, 46, 89, 0, 7, 31, 91, 51, 75, 91, 42, 33, 3, 72, 55, 2, 45, 75, 84, 95, 97, 51, 81, 100, 52, 5, 1, 7, 98, 71, 54, 85, 87, 63, 92, 92, 20, 75, 10, 4, 96, 61, 5, 98, 15, 10, 20, 81, 9, 74, 64, 87, 63, 70, 95, 90, 32, 42, 0, 0, 20, 14]\n"
     ]
    }
   ],
   "source": [
    "print(L)"
   ]
  },
  {
   "cell_type": "code",
   "execution_count": 25,
   "metadata": {},
   "outputs": [],
   "source": [
    "train, test = get_train_test(L, 70, 10)"
   ]
  },
  {
   "cell_type": "code",
   "execution_count": 31,
   "metadata": {},
   "outputs": [
    {
     "output_type": "stream",
     "name": "stdout",
     "text": [
      "[76, 78, 5, 35, 83, 37, 68, 35, 96, 49, 4, 4, 54, 57, 30, 77, 31, 94, 55, 35, 18, 66, 70, 53, 38, 21, 22, 19, 11, 91, 7, 90, 38, 66, 39, 44, 56, 80, 47, 46, 89, 0, 7, 31, 91, 51, 75, 91, 42, 33, 3, 72, 55, 2, 45, 75, 84, 95, 97, 51, 81, 100, 52, 5, 1, 7, 98, 71, 54, 85]\n"
     ]
    }
   ],
   "source": [
    "print(train[0])"
   ]
  },
  {
   "cell_type": "code",
   "execution_count": 32,
   "metadata": {},
   "outputs": [
    {
     "output_type": "stream",
     "name": "stdout",
     "text": [
      "[87, 63, 92, 92, 20, 75, 10, 4, 96, 61]\n"
     ]
    }
   ],
   "source": [
    "print(train[1])"
   ]
  },
  {
   "cell_type": "code",
   "execution_count": 33,
   "metadata": {},
   "outputs": [
    {
     "output_type": "stream",
     "name": "stdout",
     "text": [
      "[5, 98, 15, 10, 20, 81, 9, 74, 64, 87, 63, 70, 95, 90, 32, 42, 0, 0, 20, 14]\n"
     ]
    }
   ],
   "source": [
    "print(test)"
   ]
  }
 ]
}