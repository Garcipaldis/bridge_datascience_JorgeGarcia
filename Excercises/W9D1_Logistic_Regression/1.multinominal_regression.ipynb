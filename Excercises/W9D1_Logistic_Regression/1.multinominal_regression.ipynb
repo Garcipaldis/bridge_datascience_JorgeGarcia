{
 "metadata": {
  "language_info": {
   "codemirror_mode": {
    "name": "ipython",
    "version": 3
   },
   "file_extension": ".py",
   "mimetype": "text/x-python",
   "name": "python",
   "nbconvert_exporter": "python",
   "pygments_lexer": "ipython3",
   "version": 3
  },
  "orig_nbformat": 2
 },
 "nbformat": 4,
 "nbformat_minor": 2,
 "cells": [
  {
   "cell_type": "markdown",
   "metadata": {},
   "source": [
    "### 1. \n",
    "\n",
    "En el archivo \"logistic_regression_df_class\" hemos visto un ejemplo multiclase. Realiza un análisis con regresión linear multinominal teniendo como target la columna \"duración\". Es decir, averigua cuánto aumentan o disminuyen la duración cuando se aumenta una unidad los valores de las demás columnas.\n",
    "\n",
    "- ¿Qué acierto tiene? (score)\n",
    "- ¿Cuál es el RMSE? ¿Dirías que es un valor alto?\n",
    "- Viendo la matriz de correlación, ¿tienen coherencia los resultados de la regresión?\n",
    "- ¿Es la regresión un buen método para este dataset?"
   ]
  },
  {
   "cell_type": "code",
   "execution_count": null,
   "metadata": {},
   "outputs": [],
   "source": []
  }
 ]
}