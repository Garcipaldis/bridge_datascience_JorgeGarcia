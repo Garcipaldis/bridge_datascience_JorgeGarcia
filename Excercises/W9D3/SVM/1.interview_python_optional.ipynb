{
 "metadata": {
  "language_info": {
   "codemirror_mode": {
    "name": "ipython",
    "version": 3
   },
   "file_extension": ".py",
   "mimetype": "text/x-python",
   "name": "python",
   "nbconvert_exporter": "python",
   "pygments_lexer": "ipython3",
   "version": "3.7.4"
  },
  "orig_nbformat": 2,
  "kernelspec": {
   "name": "python374jvsc74a57bd0674dfd6ded4398e0679ff4f65e9a10a54ff0d14801bec0126172cfc3973d1cf1",
   "display_name": "Python 3.7.4 64-bit"
  },
  "metadata": {
   "interpreter": {
    "hash": "674dfd6ded4398e0679ff4f65e9a10a54ff0d14801bec0126172cfc3973d1cf1"
   }
  }
 },
 "nbformat": 4,
 "nbformat_minor": 2,
 "cells": [
  {
   "cell_type": "markdown",
   "metadata": {},
   "source": [
    "Here's your coding interview problem for today.\n",
    "\n",
    "This problem was asked by Facebook.\n",
    "\n",
    "Given a string of round, curly, and square open and closing brackets, return whether the brackets are balanced (well-formed).\n",
    "\n",
    "For example, given the string \"([])[]({})\", you should return true.\n",
    "\n",
    "{}\n",
    "\n",
    "Given the string \"([)]\" or \"((()\", you should return false.\n",
    "\n",
    "\"()[]{}\", True"
   ]
  },
  {
   "source": [
    "- This case is not correct: \n",
    "\n",
    "\"({)}\""
   ],
   "cell_type": "markdown",
   "metadata": {}
  },
  {
   "cell_type": "code",
   "execution_count": 33,
   "metadata": {},
   "outputs": [],
   "source": [
    "# ([{)}] False\n",
    "\n",
    "# Your code\n",
    "def is_true_brackets(string, tries=100):\n",
    "    lista = list(string)\n",
    "    for n in range(tries):\n",
    "        for i, char in enumerate(lista):\n",
    "            if i == len(lista)-1:\n",
    "                break\n",
    "            elif (char == '(' and lista[i+1] == ')') or (char == '[' and lista[i+1] == ']') or (char == '{' and lista[i+1] == '}'):\n",
    "                lista.pop(i)\n",
    "                lista.pop(i)\n",
    "                break\n",
    "\n",
    "    if len(lista) == 0:\n",
    "        return True\n",
    "    else:\n",
    "        return False"
   ]
  },
  {
   "cell_type": "code",
   "execution_count": 35,
   "metadata": {},
   "outputs": [
    {
     "output_type": "stream",
     "name": "stdout",
     "text": [
      "False\nTrue\nTrue\nTrue\nFalse\nFalse\nFalse\nTrue\n"
     ]
    }
   ],
   "source": [
    "print(is_true_brackets('([{)}]')) # False\n",
    "print(is_true_brackets(\"()[]{}\")) # True\n",
    "print(is_true_brackets(\"([])\"))   # True\n",
    "print(is_true_brackets(\"([{}])\")) # True\n",
    "print(is_true_brackets(\"([{]})\")) # False\n",
    "print(is_true_brackets(\"({)[])\")) # False\n",
    "print(is_true_brackets(\"([{}]([]]))\")) # False\n",
    "print(is_true_brackets(\"([]{[]})\")) # True"
   ]
  },
  {
   "cell_type": "code",
   "execution_count": null,
   "metadata": {},
   "outputs": [],
   "source": []
  }
 ]
}