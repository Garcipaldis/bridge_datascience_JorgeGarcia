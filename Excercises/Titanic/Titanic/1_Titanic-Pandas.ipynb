{
 "cells": [
  {
   "cell_type": "markdown",
   "metadata": {},
   "source": [
    "   #                                                  Titanic Exercise I\n",
    "   #### Practice pandas"
   ]
  },
  {
   "cell_type": "markdown",
   "metadata": {},
   "source": [
    "![titanic](https://userscontent2.emaze.com/images/a5f68f37-6349-4065-a1fc-921cbe7401b2/958230111417e36d6b3c67ffd7bc3494.jpeg)"
   ]
  },
  {
   "cell_type": "markdown",
   "metadata": {},
   "source": [
    "First of all, import the needed libraries. "
   ]
  },
  {
   "cell_type": "code",
   "execution_count": 2,
   "metadata": {},
   "outputs": [],
   "source": [
    "import pandas as pd\n",
    "\n",
    "# you will have to import at least another library along the exercise do it in here when the time comes\n"
   ]
  },
  {
   "cell_type": "markdown",
   "metadata": {},
   "source": [
    "1. Read in filename and call the variable `titanic`\n",
    "    - Explore the `titanic` dataset using `info`, `dtypes` & `describe`\n",
    " "
   ]
  },
  {
   "cell_type": "code",
   "execution_count": 3,
   "metadata": {},
   "outputs": [],
   "source": [
    "filename = \"data/titanic.csv\""
   ]
  },
  {
   "cell_type": "code",
   "execution_count": 4,
   "metadata": {},
   "outputs": [],
   "source": [
    "#your code\n",
    "titanic = pd.read_csv(filename)"
   ]
  },
  {
   "cell_type": "code",
   "execution_count": 5,
   "metadata": {},
   "outputs": [
    {
     "output_type": "stream",
     "name": "stdout",
     "text": [
      "<class 'pandas.core.frame.DataFrame'>\nRangeIndex: 1309 entries, 0 to 1308\nData columns (total 14 columns):\n #   Column     Non-Null Count  Dtype  \n---  ------     --------------  -----  \n 0   pclass     1309 non-null   int64  \n 1   survived   1309 non-null   int64  \n 2   name       1309 non-null   object \n 3   sex        1309 non-null   object \n 4   age        1046 non-null   float64\n 5   sibsp      1309 non-null   int64  \n 6   parch      1309 non-null   int64  \n 7   ticket     1309 non-null   object \n 8   fare       1308 non-null   float64\n 9   cabin      295 non-null    object \n 10  embarked   1307 non-null   object \n 11  boat       486 non-null    object \n 12  body       121 non-null    float64\n 13  home.dest  745 non-null    object \ndtypes: float64(3), int64(4), object(7)\nmemory usage: 143.3+ KB\n"
     ]
    }
   ],
   "source": [
    "titanic.info()"
   ]
  },
  {
   "cell_type": "code",
   "execution_count": 6,
   "metadata": {},
   "outputs": [
    {
     "output_type": "execute_result",
     "data": {
      "text/plain": [
       "pclass         int64\n",
       "survived       int64\n",
       "name          object\n",
       "sex           object\n",
       "age          float64\n",
       "sibsp          int64\n",
       "parch          int64\n",
       "ticket        object\n",
       "fare         float64\n",
       "cabin         object\n",
       "embarked      object\n",
       "boat          object\n",
       "body         float64\n",
       "home.dest     object\n",
       "dtype: object"
      ]
     },
     "metadata": {},
     "execution_count": 6
    }
   ],
   "source": [
    "titanic.dtypes"
   ]
  },
  {
   "cell_type": "code",
   "execution_count": 7,
   "metadata": {},
   "outputs": [
    {
     "output_type": "execute_result",
     "data": {
      "text/plain": [
       "            pclass     survived          age        sibsp        parch  \\\n",
       "count  1309.000000  1309.000000  1046.000000  1309.000000  1309.000000   \n",
       "mean      2.294882     0.381971    29.881138     0.498854     0.385027   \n",
       "std       0.837836     0.486055    14.413493     1.041658     0.865560   \n",
       "min       1.000000     0.000000     0.170000     0.000000     0.000000   \n",
       "25%       2.000000     0.000000    21.000000     0.000000     0.000000   \n",
       "50%       3.000000     0.000000    28.000000     0.000000     0.000000   \n",
       "75%       3.000000     1.000000    39.000000     1.000000     0.000000   \n",
       "max       3.000000     1.000000    80.000000     8.000000     9.000000   \n",
       "\n",
       "              fare        body  \n",
       "count  1308.000000  121.000000  \n",
       "mean     33.295479  160.809917  \n",
       "std      51.758668   97.696922  \n",
       "min       0.000000    1.000000  \n",
       "25%       7.895800   72.000000  \n",
       "50%      14.454200  155.000000  \n",
       "75%      31.275000  256.000000  \n",
       "max     512.329200  328.000000  "
      ],
      "text/html": "<div>\n<style scoped>\n    .dataframe tbody tr th:only-of-type {\n        vertical-align: middle;\n    }\n\n    .dataframe tbody tr th {\n        vertical-align: top;\n    }\n\n    .dataframe thead th {\n        text-align: right;\n    }\n</style>\n<table border=\"1\" class=\"dataframe\">\n  <thead>\n    <tr style=\"text-align: right;\">\n      <th></th>\n      <th>pclass</th>\n      <th>survived</th>\n      <th>age</th>\n      <th>sibsp</th>\n      <th>parch</th>\n      <th>fare</th>\n      <th>body</th>\n    </tr>\n  </thead>\n  <tbody>\n    <tr>\n      <th>count</th>\n      <td>1309.000000</td>\n      <td>1309.000000</td>\n      <td>1046.000000</td>\n      <td>1309.000000</td>\n      <td>1309.000000</td>\n      <td>1308.000000</td>\n      <td>121.000000</td>\n    </tr>\n    <tr>\n      <th>mean</th>\n      <td>2.294882</td>\n      <td>0.381971</td>\n      <td>29.881138</td>\n      <td>0.498854</td>\n      <td>0.385027</td>\n      <td>33.295479</td>\n      <td>160.809917</td>\n    </tr>\n    <tr>\n      <th>std</th>\n      <td>0.837836</td>\n      <td>0.486055</td>\n      <td>14.413493</td>\n      <td>1.041658</td>\n      <td>0.865560</td>\n      <td>51.758668</td>\n      <td>97.696922</td>\n    </tr>\n    <tr>\n      <th>min</th>\n      <td>1.000000</td>\n      <td>0.000000</td>\n      <td>0.170000</td>\n      <td>0.000000</td>\n      <td>0.000000</td>\n      <td>0.000000</td>\n      <td>1.000000</td>\n    </tr>\n    <tr>\n      <th>25%</th>\n      <td>2.000000</td>\n      <td>0.000000</td>\n      <td>21.000000</td>\n      <td>0.000000</td>\n      <td>0.000000</td>\n      <td>7.895800</td>\n      <td>72.000000</td>\n    </tr>\n    <tr>\n      <th>50%</th>\n      <td>3.000000</td>\n      <td>0.000000</td>\n      <td>28.000000</td>\n      <td>0.000000</td>\n      <td>0.000000</td>\n      <td>14.454200</td>\n      <td>155.000000</td>\n    </tr>\n    <tr>\n      <th>75%</th>\n      <td>3.000000</td>\n      <td>1.000000</td>\n      <td>39.000000</td>\n      <td>1.000000</td>\n      <td>0.000000</td>\n      <td>31.275000</td>\n      <td>256.000000</td>\n    </tr>\n    <tr>\n      <th>max</th>\n      <td>3.000000</td>\n      <td>1.000000</td>\n      <td>80.000000</td>\n      <td>8.000000</td>\n      <td>9.000000</td>\n      <td>512.329200</td>\n      <td>328.000000</td>\n    </tr>\n  </tbody>\n</table>\n</div>"
     },
     "metadata": {},
     "execution_count": 7
    }
   ],
   "source": [
    "titanic.describe()"
   ]
  },
  {
   "cell_type": "markdown",
   "metadata": {},
   "source": [
    "2. Create a separate dataframe with the columns `['name', 'sex', 'age']`, call it `people`\n",
    "\n",
    "It can be done two ways, do it both!"
   ]
  },
  {
   "cell_type": "code",
   "execution_count": 8,
   "metadata": {},
   "outputs": [
    {
     "output_type": "execute_result",
     "data": {
      "text/plain": [
       "                                                 name     sex    age\n",
       "0                       Allen, Miss. Elisabeth Walton  female  29.00\n",
       "1                      Allison, Master. Hudson Trevor    male   0.92\n",
       "2                        Allison, Miss. Helen Loraine  female   2.00\n",
       "3                Allison, Mr. Hudson Joshua Creighton    male  30.00\n",
       "4     Allison, Mrs. Hudson J C (Bessie Waldo Daniels)  female  25.00\n",
       "...                                               ...     ...    ...\n",
       "1304                             Zabour, Miss. Hileni  female  14.50\n",
       "1305                            Zabour, Miss. Thamine  female    NaN\n",
       "1306                        Zakarian, Mr. Mapriededer    male  26.50\n",
       "1307                              Zakarian, Mr. Ortin    male  27.00\n",
       "1308                               Zimmerman, Mr. Leo    male  29.00\n",
       "\n",
       "[1309 rows x 3 columns]"
      ],
      "text/html": "<div>\n<style scoped>\n    .dataframe tbody tr th:only-of-type {\n        vertical-align: middle;\n    }\n\n    .dataframe tbody tr th {\n        vertical-align: top;\n    }\n\n    .dataframe thead th {\n        text-align: right;\n    }\n</style>\n<table border=\"1\" class=\"dataframe\">\n  <thead>\n    <tr style=\"text-align: right;\">\n      <th></th>\n      <th>name</th>\n      <th>sex</th>\n      <th>age</th>\n    </tr>\n  </thead>\n  <tbody>\n    <tr>\n      <th>0</th>\n      <td>Allen, Miss. Elisabeth Walton</td>\n      <td>female</td>\n      <td>29.00</td>\n    </tr>\n    <tr>\n      <th>1</th>\n      <td>Allison, Master. Hudson Trevor</td>\n      <td>male</td>\n      <td>0.92</td>\n    </tr>\n    <tr>\n      <th>2</th>\n      <td>Allison, Miss. Helen Loraine</td>\n      <td>female</td>\n      <td>2.00</td>\n    </tr>\n    <tr>\n      <th>3</th>\n      <td>Allison, Mr. Hudson Joshua Creighton</td>\n      <td>male</td>\n      <td>30.00</td>\n    </tr>\n    <tr>\n      <th>4</th>\n      <td>Allison, Mrs. Hudson J C (Bessie Waldo Daniels)</td>\n      <td>female</td>\n      <td>25.00</td>\n    </tr>\n    <tr>\n      <th>...</th>\n      <td>...</td>\n      <td>...</td>\n      <td>...</td>\n    </tr>\n    <tr>\n      <th>1304</th>\n      <td>Zabour, Miss. Hileni</td>\n      <td>female</td>\n      <td>14.50</td>\n    </tr>\n    <tr>\n      <th>1305</th>\n      <td>Zabour, Miss. Thamine</td>\n      <td>female</td>\n      <td>NaN</td>\n    </tr>\n    <tr>\n      <th>1306</th>\n      <td>Zakarian, Mr. Mapriededer</td>\n      <td>male</td>\n      <td>26.50</td>\n    </tr>\n    <tr>\n      <th>1307</th>\n      <td>Zakarian, Mr. Ortin</td>\n      <td>male</td>\n      <td>27.00</td>\n    </tr>\n    <tr>\n      <th>1308</th>\n      <td>Zimmerman, Mr. Leo</td>\n      <td>male</td>\n      <td>29.00</td>\n    </tr>\n  </tbody>\n</table>\n<p>1309 rows × 3 columns</p>\n</div>"
     },
     "metadata": {},
     "execution_count": 8
    }
   ],
   "source": [
    "#your code\n",
    "titanic.loc[:, ['name', 'sex', 'age']]"
   ]
  },
  {
   "cell_type": "code",
   "execution_count": 21,
   "metadata": {},
   "outputs": [],
   "source": [
    "people = titanic.loc[:, 'name':'age']"
   ]
  },
  {
   "cell_type": "markdown",
   "metadata": {},
   "source": [
    "3. Print the output of `people` showing the first three rows and the last four rows, using `append`,`tail` and `head`"
   ]
  },
  {
   "cell_type": "code",
   "execution_count": 12,
   "metadata": {},
   "outputs": [
    {
     "output_type": "execute_result",
     "data": {
      "text/plain": [
       "                             name     sex    age\n",
       "0   Allen, Miss. Elisabeth Walton  female  29.00\n",
       "1  Allison, Master. Hudson Trevor    male   0.92\n",
       "2    Allison, Miss. Helen Loraine  female   2.00"
      ],
      "text/html": "<div>\n<style scoped>\n    .dataframe tbody tr th:only-of-type {\n        vertical-align: middle;\n    }\n\n    .dataframe tbody tr th {\n        vertical-align: top;\n    }\n\n    .dataframe thead th {\n        text-align: right;\n    }\n</style>\n<table border=\"1\" class=\"dataframe\">\n  <thead>\n    <tr style=\"text-align: right;\">\n      <th></th>\n      <th>name</th>\n      <th>sex</th>\n      <th>age</th>\n    </tr>\n  </thead>\n  <tbody>\n    <tr>\n      <th>0</th>\n      <td>Allen, Miss. Elisabeth Walton</td>\n      <td>female</td>\n      <td>29.00</td>\n    </tr>\n    <tr>\n      <th>1</th>\n      <td>Allison, Master. Hudson Trevor</td>\n      <td>male</td>\n      <td>0.92</td>\n    </tr>\n    <tr>\n      <th>2</th>\n      <td>Allison, Miss. Helen Loraine</td>\n      <td>female</td>\n      <td>2.00</td>\n    </tr>\n  </tbody>\n</table>\n</div>"
     },
     "metadata": {},
     "execution_count": 12
    }
   ],
   "source": [
    "#your code\n",
    "people.head(3)"
   ]
  },
  {
   "cell_type": "code",
   "execution_count": 13,
   "metadata": {},
   "outputs": [
    {
     "output_type": "execute_result",
     "data": {
      "text/plain": [
       "                           name     sex   age\n",
       "1305      Zabour, Miss. Thamine  female   NaN\n",
       "1306  Zakarian, Mr. Mapriededer    male  26.5\n",
       "1307        Zakarian, Mr. Ortin    male  27.0\n",
       "1308         Zimmerman, Mr. Leo    male  29.0"
      ],
      "text/html": "<div>\n<style scoped>\n    .dataframe tbody tr th:only-of-type {\n        vertical-align: middle;\n    }\n\n    .dataframe tbody tr th {\n        vertical-align: top;\n    }\n\n    .dataframe thead th {\n        text-align: right;\n    }\n</style>\n<table border=\"1\" class=\"dataframe\">\n  <thead>\n    <tr style=\"text-align: right;\">\n      <th></th>\n      <th>name</th>\n      <th>sex</th>\n      <th>age</th>\n    </tr>\n  </thead>\n  <tbody>\n    <tr>\n      <th>1305</th>\n      <td>Zabour, Miss. Thamine</td>\n      <td>female</td>\n      <td>NaN</td>\n    </tr>\n    <tr>\n      <th>1306</th>\n      <td>Zakarian, Mr. Mapriededer</td>\n      <td>male</td>\n      <td>26.5</td>\n    </tr>\n    <tr>\n      <th>1307</th>\n      <td>Zakarian, Mr. Ortin</td>\n      <td>male</td>\n      <td>27.0</td>\n    </tr>\n    <tr>\n      <th>1308</th>\n      <td>Zimmerman, Mr. Leo</td>\n      <td>male</td>\n      <td>29.0</td>\n    </tr>\n  </tbody>\n</table>\n</div>"
     },
     "metadata": {},
     "execution_count": 13
    }
   ],
   "source": [
    "people.tail(4)"
   ]
  },
  {
   "cell_type": "markdown",
   "metadata": {},
   "source": [
    "4. Slice the row from 3 to 9, call it `s_titanic`"
   ]
  },
  {
   "cell_type": "code",
   "execution_count": 16,
   "metadata": {},
   "outputs": [
    {
     "output_type": "execute_result",
     "data": {
      "text/plain": [
       "   pclass  survived                                             name     sex  \\\n",
       "3       1         0             Allison, Mr. Hudson Joshua Creighton    male   \n",
       "4       1         0  Allison, Mrs. Hudson J C (Bessie Waldo Daniels)  female   \n",
       "5       1         1                              Anderson, Mr. Harry    male   \n",
       "6       1         1                Andrews, Miss. Kornelia Theodosia  female   \n",
       "7       1         0                           Andrews, Mr. Thomas Jr    male   \n",
       "8       1         1    Appleton, Mrs. Edward Dale (Charlotte Lamson)  female   \n",
       "9       1         0                          Artagaveytia, Mr. Ramon    male   \n",
       "\n",
       "    age  sibsp  parch    ticket      fare    cabin embarked boat   body  \\\n",
       "3  30.0      1      2    113781  151.5500  C22 C26        S  NaN  135.0   \n",
       "4  25.0      1      2    113781  151.5500  C22 C26        S  NaN    NaN   \n",
       "5  48.0      0      0     19952   26.5500      E12        S    3    NaN   \n",
       "6  63.0      1      0     13502   77.9583       D7        S   10    NaN   \n",
       "7  39.0      0      0    112050    0.0000      A36        S  NaN    NaN   \n",
       "8  53.0      2      0     11769   51.4792     C101        S    D    NaN   \n",
       "9  71.0      0      0  PC 17609   49.5042      NaN        C  NaN   22.0   \n",
       "\n",
       "                         home.dest  \n",
       "3  Montreal, PQ / Chesterville, ON  \n",
       "4  Montreal, PQ / Chesterville, ON  \n",
       "5                     New York, NY  \n",
       "6                       Hudson, NY  \n",
       "7                      Belfast, NI  \n",
       "8              Bayside, Queens, NY  \n",
       "9              Montevideo, Uruguay  "
      ],
      "text/html": "<div>\n<style scoped>\n    .dataframe tbody tr th:only-of-type {\n        vertical-align: middle;\n    }\n\n    .dataframe tbody tr th {\n        vertical-align: top;\n    }\n\n    .dataframe thead th {\n        text-align: right;\n    }\n</style>\n<table border=\"1\" class=\"dataframe\">\n  <thead>\n    <tr style=\"text-align: right;\">\n      <th></th>\n      <th>pclass</th>\n      <th>survived</th>\n      <th>name</th>\n      <th>sex</th>\n      <th>age</th>\n      <th>sibsp</th>\n      <th>parch</th>\n      <th>ticket</th>\n      <th>fare</th>\n      <th>cabin</th>\n      <th>embarked</th>\n      <th>boat</th>\n      <th>body</th>\n      <th>home.dest</th>\n    </tr>\n  </thead>\n  <tbody>\n    <tr>\n      <th>3</th>\n      <td>1</td>\n      <td>0</td>\n      <td>Allison, Mr. Hudson Joshua Creighton</td>\n      <td>male</td>\n      <td>30.0</td>\n      <td>1</td>\n      <td>2</td>\n      <td>113781</td>\n      <td>151.5500</td>\n      <td>C22 C26</td>\n      <td>S</td>\n      <td>NaN</td>\n      <td>135.0</td>\n      <td>Montreal, PQ / Chesterville, ON</td>\n    </tr>\n    <tr>\n      <th>4</th>\n      <td>1</td>\n      <td>0</td>\n      <td>Allison, Mrs. Hudson J C (Bessie Waldo Daniels)</td>\n      <td>female</td>\n      <td>25.0</td>\n      <td>1</td>\n      <td>2</td>\n      <td>113781</td>\n      <td>151.5500</td>\n      <td>C22 C26</td>\n      <td>S</td>\n      <td>NaN</td>\n      <td>NaN</td>\n      <td>Montreal, PQ / Chesterville, ON</td>\n    </tr>\n    <tr>\n      <th>5</th>\n      <td>1</td>\n      <td>1</td>\n      <td>Anderson, Mr. Harry</td>\n      <td>male</td>\n      <td>48.0</td>\n      <td>0</td>\n      <td>0</td>\n      <td>19952</td>\n      <td>26.5500</td>\n      <td>E12</td>\n      <td>S</td>\n      <td>3</td>\n      <td>NaN</td>\n      <td>New York, NY</td>\n    </tr>\n    <tr>\n      <th>6</th>\n      <td>1</td>\n      <td>1</td>\n      <td>Andrews, Miss. Kornelia Theodosia</td>\n      <td>female</td>\n      <td>63.0</td>\n      <td>1</td>\n      <td>0</td>\n      <td>13502</td>\n      <td>77.9583</td>\n      <td>D7</td>\n      <td>S</td>\n      <td>10</td>\n      <td>NaN</td>\n      <td>Hudson, NY</td>\n    </tr>\n    <tr>\n      <th>7</th>\n      <td>1</td>\n      <td>0</td>\n      <td>Andrews, Mr. Thomas Jr</td>\n      <td>male</td>\n      <td>39.0</td>\n      <td>0</td>\n      <td>0</td>\n      <td>112050</td>\n      <td>0.0000</td>\n      <td>A36</td>\n      <td>S</td>\n      <td>NaN</td>\n      <td>NaN</td>\n      <td>Belfast, NI</td>\n    </tr>\n    <tr>\n      <th>8</th>\n      <td>1</td>\n      <td>1</td>\n      <td>Appleton, Mrs. Edward Dale (Charlotte Lamson)</td>\n      <td>female</td>\n      <td>53.0</td>\n      <td>2</td>\n      <td>0</td>\n      <td>11769</td>\n      <td>51.4792</td>\n      <td>C101</td>\n      <td>S</td>\n      <td>D</td>\n      <td>NaN</td>\n      <td>Bayside, Queens, NY</td>\n    </tr>\n    <tr>\n      <th>9</th>\n      <td>1</td>\n      <td>0</td>\n      <td>Artagaveytia, Mr. Ramon</td>\n      <td>male</td>\n      <td>71.0</td>\n      <td>0</td>\n      <td>0</td>\n      <td>PC 17609</td>\n      <td>49.5042</td>\n      <td>NaN</td>\n      <td>C</td>\n      <td>NaN</td>\n      <td>22.0</td>\n      <td>Montevideo, Uruguay</td>\n    </tr>\n  </tbody>\n</table>\n</div>"
     },
     "metadata": {},
     "execution_count": 16
    }
   ],
   "source": [
    "#your code\n",
    "s_titanic = titanic[3:10]\n",
    "s_titanic"
   ]
  },
  {
   "cell_type": "markdown",
   "metadata": {},
   "source": [
    "5. Slice the row from 40 to 63 in reverse order, call it `s_titanic_rev`"
   ]
  },
  {
   "cell_type": "code",
   "execution_count": 17,
   "metadata": {},
   "outputs": [
    {
     "output_type": "execute_result",
     "data": {
      "text/plain": [
       "    pclass  survived                                               name  \\\n",
       "40       1         0                          Brewe, Dr. Arthur Jackson   \n",
       "41       1         1          Brown, Mrs. James Joseph (Margaret Tobin)   \n",
       "42       1         1     Brown, Mrs. John Murray (Caroline Lane Lamson)   \n",
       "43       1         1    Bucknell, Mrs. William Robert (Emma Eliza Ward)   \n",
       "44       1         1                    Burns, Miss. Elizabeth Margaret   \n",
       "45       1         0                  Butt, Major. Archibald Willingham   \n",
       "46       1         0                              Cairns, Mr. Alexander   \n",
       "47       1         1                  Calderhead, Mr. Edward Pennington   \n",
       "48       1         1   Candee, Mrs. Edward (Helen Churchill Hungerford)   \n",
       "49       1         1                 Cardeza, Mr. Thomas Drake Martinez   \n",
       "50       1         1  Cardeza, Mrs. James Warburton Martinez (Charlo...   \n",
       "51       1         0                           Carlsson, Mr. Frans Olof   \n",
       "52       1         0                            Carrau, Mr. Francisco M   \n",
       "53       1         0                             Carrau, Mr. Jose Pedro   \n",
       "54       1         1                Carter, Master. William Thornton II   \n",
       "55       1         1                          Carter, Miss. Lucile Polk   \n",
       "56       1         1                         Carter, Mr. William Ernest   \n",
       "57       1         1          Carter, Mrs. William Ernest (Lucile Polk)   \n",
       "58       1         0                             Case, Mr. Howard Brown   \n",
       "59       1         1  Cassebeer, Mrs. Henry Arthur Jr (Eleanor Genev...   \n",
       "60       1         0                      Cavendish, Mr. Tyrell William   \n",
       "61       1         1  Cavendish, Mrs. Tyrell William (Julia Florence...   \n",
       "62       1         0                        Chaffee, Mr. Herbert Fuller   \n",
       "63       1         1  Chaffee, Mrs. Herbert Fuller (Carrie Constance...   \n",
       "\n",
       "       sex   age  sibsp  parch       ticket      fare        cabin embarked  \\\n",
       "40    male   NaN      0      0       112379   39.6000          NaN        C   \n",
       "41  female  44.0      0      0     PC 17610   27.7208           B4        C   \n",
       "42  female  59.0      2      0        11769   51.4792         C101        S   \n",
       "43  female  60.0      0      0        11813   76.2917          D15        C   \n",
       "44  female  41.0      0      0        16966  134.5000          E40        C   \n",
       "45    male  45.0      0      0       113050   26.5500          B38        S   \n",
       "46    male   NaN      0      0       113798   31.0000          NaN        S   \n",
       "47    male  42.0      0      0     PC 17476   26.2875          E24        S   \n",
       "48  female  53.0      0      0     PC 17606   27.4458          NaN        C   \n",
       "49    male  36.0      0      1     PC 17755  512.3292  B51 B53 B55        C   \n",
       "50  female  58.0      0      1     PC 17755  512.3292  B51 B53 B55        C   \n",
       "51    male  33.0      0      0          695    5.0000  B51 B53 B55        S   \n",
       "52    male  28.0      0      0       113059   47.1000          NaN        S   \n",
       "53    male  17.0      0      0       113059   47.1000          NaN        S   \n",
       "54    male  11.0      1      2       113760  120.0000      B96 B98        S   \n",
       "55  female  14.0      1      2       113760  120.0000      B96 B98        S   \n",
       "56    male  36.0      1      2       113760  120.0000      B96 B98        S   \n",
       "57  female  36.0      1      2       113760  120.0000      B96 B98        S   \n",
       "58    male  49.0      0      0        19924   26.0000          NaN        S   \n",
       "59  female   NaN      0      0        17770   27.7208          NaN        C   \n",
       "60    male  36.0      1      0        19877   78.8500          C46        S   \n",
       "61  female  76.0      1      0        19877   78.8500          C46        S   \n",
       "62    male  46.0      1      0  W.E.P. 5734   61.1750          E31        S   \n",
       "63  female  47.0      1      0  W.E.P. 5734   61.1750          E31        S   \n",
       "\n",
       "   boat   body                                       home.dest  \n",
       "40  NaN    NaN                                Philadelphia, PA  \n",
       "41    6    NaN                                      Denver, CO  \n",
       "42    D    NaN                                     Belmont, MA  \n",
       "43    8    NaN                                Philadelphia, PA  \n",
       "44    3    NaN                                             NaN  \n",
       "45  NaN    NaN                                  Washington, DC  \n",
       "46  NaN    NaN                                             NaN  \n",
       "47    5    NaN                                    New York, NY  \n",
       "48    6    NaN                                  Washington, DC  \n",
       "49    3    NaN  Austria-Hungary / Germantown, Philadelphia, PA  \n",
       "50    3    NaN                    Germantown, Philadelphia, PA  \n",
       "51  NaN    NaN                                    New York, NY  \n",
       "52  NaN    NaN                             Montevideo, Uruguay  \n",
       "53  NaN    NaN                             Montevideo, Uruguay  \n",
       "54    4    NaN                                   Bryn Mawr, PA  \n",
       "55    4    NaN                                   Bryn Mawr, PA  \n",
       "56    C    NaN                                   Bryn Mawr, PA  \n",
       "57    4    NaN                                   Bryn Mawr, PA  \n",
       "58  NaN    NaN                Ascot, Berkshire / Rochester, NY  \n",
       "59    5    NaN                                    New York, NY  \n",
       "60  NaN  172.0                         Little Onn Hall, Staffs  \n",
       "61    6    NaN                         Little Onn Hall, Staffs  \n",
       "62  NaN    NaN                                      Amenia, ND  \n",
       "63    4    NaN                                      Amenia, ND  "
      ],
      "text/html": "<div>\n<style scoped>\n    .dataframe tbody tr th:only-of-type {\n        vertical-align: middle;\n    }\n\n    .dataframe tbody tr th {\n        vertical-align: top;\n    }\n\n    .dataframe thead th {\n        text-align: right;\n    }\n</style>\n<table border=\"1\" class=\"dataframe\">\n  <thead>\n    <tr style=\"text-align: right;\">\n      <th></th>\n      <th>pclass</th>\n      <th>survived</th>\n      <th>name</th>\n      <th>sex</th>\n      <th>age</th>\n      <th>sibsp</th>\n      <th>parch</th>\n      <th>ticket</th>\n      <th>fare</th>\n      <th>cabin</th>\n      <th>embarked</th>\n      <th>boat</th>\n      <th>body</th>\n      <th>home.dest</th>\n    </tr>\n  </thead>\n  <tbody>\n    <tr>\n      <th>40</th>\n      <td>1</td>\n      <td>0</td>\n      <td>Brewe, Dr. Arthur Jackson</td>\n      <td>male</td>\n      <td>NaN</td>\n      <td>0</td>\n      <td>0</td>\n      <td>112379</td>\n      <td>39.6000</td>\n      <td>NaN</td>\n      <td>C</td>\n      <td>NaN</td>\n      <td>NaN</td>\n      <td>Philadelphia, PA</td>\n    </tr>\n    <tr>\n      <th>41</th>\n      <td>1</td>\n      <td>1</td>\n      <td>Brown, Mrs. James Joseph (Margaret Tobin)</td>\n      <td>female</td>\n      <td>44.0</td>\n      <td>0</td>\n      <td>0</td>\n      <td>PC 17610</td>\n      <td>27.7208</td>\n      <td>B4</td>\n      <td>C</td>\n      <td>6</td>\n      <td>NaN</td>\n      <td>Denver, CO</td>\n    </tr>\n    <tr>\n      <th>42</th>\n      <td>1</td>\n      <td>1</td>\n      <td>Brown, Mrs. John Murray (Caroline Lane Lamson)</td>\n      <td>female</td>\n      <td>59.0</td>\n      <td>2</td>\n      <td>0</td>\n      <td>11769</td>\n      <td>51.4792</td>\n      <td>C101</td>\n      <td>S</td>\n      <td>D</td>\n      <td>NaN</td>\n      <td>Belmont, MA</td>\n    </tr>\n    <tr>\n      <th>43</th>\n      <td>1</td>\n      <td>1</td>\n      <td>Bucknell, Mrs. William Robert (Emma Eliza Ward)</td>\n      <td>female</td>\n      <td>60.0</td>\n      <td>0</td>\n      <td>0</td>\n      <td>11813</td>\n      <td>76.2917</td>\n      <td>D15</td>\n      <td>C</td>\n      <td>8</td>\n      <td>NaN</td>\n      <td>Philadelphia, PA</td>\n    </tr>\n    <tr>\n      <th>44</th>\n      <td>1</td>\n      <td>1</td>\n      <td>Burns, Miss. Elizabeth Margaret</td>\n      <td>female</td>\n      <td>41.0</td>\n      <td>0</td>\n      <td>0</td>\n      <td>16966</td>\n      <td>134.5000</td>\n      <td>E40</td>\n      <td>C</td>\n      <td>3</td>\n      <td>NaN</td>\n      <td>NaN</td>\n    </tr>\n    <tr>\n      <th>45</th>\n      <td>1</td>\n      <td>0</td>\n      <td>Butt, Major. Archibald Willingham</td>\n      <td>male</td>\n      <td>45.0</td>\n      <td>0</td>\n      <td>0</td>\n      <td>113050</td>\n      <td>26.5500</td>\n      <td>B38</td>\n      <td>S</td>\n      <td>NaN</td>\n      <td>NaN</td>\n      <td>Washington, DC</td>\n    </tr>\n    <tr>\n      <th>46</th>\n      <td>1</td>\n      <td>0</td>\n      <td>Cairns, Mr. Alexander</td>\n      <td>male</td>\n      <td>NaN</td>\n      <td>0</td>\n      <td>0</td>\n      <td>113798</td>\n      <td>31.0000</td>\n      <td>NaN</td>\n      <td>S</td>\n      <td>NaN</td>\n      <td>NaN</td>\n      <td>NaN</td>\n    </tr>\n    <tr>\n      <th>47</th>\n      <td>1</td>\n      <td>1</td>\n      <td>Calderhead, Mr. Edward Pennington</td>\n      <td>male</td>\n      <td>42.0</td>\n      <td>0</td>\n      <td>0</td>\n      <td>PC 17476</td>\n      <td>26.2875</td>\n      <td>E24</td>\n      <td>S</td>\n      <td>5</td>\n      <td>NaN</td>\n      <td>New York, NY</td>\n    </tr>\n    <tr>\n      <th>48</th>\n      <td>1</td>\n      <td>1</td>\n      <td>Candee, Mrs. Edward (Helen Churchill Hungerford)</td>\n      <td>female</td>\n      <td>53.0</td>\n      <td>0</td>\n      <td>0</td>\n      <td>PC 17606</td>\n      <td>27.4458</td>\n      <td>NaN</td>\n      <td>C</td>\n      <td>6</td>\n      <td>NaN</td>\n      <td>Washington, DC</td>\n    </tr>\n    <tr>\n      <th>49</th>\n      <td>1</td>\n      <td>1</td>\n      <td>Cardeza, Mr. Thomas Drake Martinez</td>\n      <td>male</td>\n      <td>36.0</td>\n      <td>0</td>\n      <td>1</td>\n      <td>PC 17755</td>\n      <td>512.3292</td>\n      <td>B51 B53 B55</td>\n      <td>C</td>\n      <td>3</td>\n      <td>NaN</td>\n      <td>Austria-Hungary / Germantown, Philadelphia, PA</td>\n    </tr>\n    <tr>\n      <th>50</th>\n      <td>1</td>\n      <td>1</td>\n      <td>Cardeza, Mrs. James Warburton Martinez (Charlo...</td>\n      <td>female</td>\n      <td>58.0</td>\n      <td>0</td>\n      <td>1</td>\n      <td>PC 17755</td>\n      <td>512.3292</td>\n      <td>B51 B53 B55</td>\n      <td>C</td>\n      <td>3</td>\n      <td>NaN</td>\n      <td>Germantown, Philadelphia, PA</td>\n    </tr>\n    <tr>\n      <th>51</th>\n      <td>1</td>\n      <td>0</td>\n      <td>Carlsson, Mr. Frans Olof</td>\n      <td>male</td>\n      <td>33.0</td>\n      <td>0</td>\n      <td>0</td>\n      <td>695</td>\n      <td>5.0000</td>\n      <td>B51 B53 B55</td>\n      <td>S</td>\n      <td>NaN</td>\n      <td>NaN</td>\n      <td>New York, NY</td>\n    </tr>\n    <tr>\n      <th>52</th>\n      <td>1</td>\n      <td>0</td>\n      <td>Carrau, Mr. Francisco M</td>\n      <td>male</td>\n      <td>28.0</td>\n      <td>0</td>\n      <td>0</td>\n      <td>113059</td>\n      <td>47.1000</td>\n      <td>NaN</td>\n      <td>S</td>\n      <td>NaN</td>\n      <td>NaN</td>\n      <td>Montevideo, Uruguay</td>\n    </tr>\n    <tr>\n      <th>53</th>\n      <td>1</td>\n      <td>0</td>\n      <td>Carrau, Mr. Jose Pedro</td>\n      <td>male</td>\n      <td>17.0</td>\n      <td>0</td>\n      <td>0</td>\n      <td>113059</td>\n      <td>47.1000</td>\n      <td>NaN</td>\n      <td>S</td>\n      <td>NaN</td>\n      <td>NaN</td>\n      <td>Montevideo, Uruguay</td>\n    </tr>\n    <tr>\n      <th>54</th>\n      <td>1</td>\n      <td>1</td>\n      <td>Carter, Master. William Thornton II</td>\n      <td>male</td>\n      <td>11.0</td>\n      <td>1</td>\n      <td>2</td>\n      <td>113760</td>\n      <td>120.0000</td>\n      <td>B96 B98</td>\n      <td>S</td>\n      <td>4</td>\n      <td>NaN</td>\n      <td>Bryn Mawr, PA</td>\n    </tr>\n    <tr>\n      <th>55</th>\n      <td>1</td>\n      <td>1</td>\n      <td>Carter, Miss. Lucile Polk</td>\n      <td>female</td>\n      <td>14.0</td>\n      <td>1</td>\n      <td>2</td>\n      <td>113760</td>\n      <td>120.0000</td>\n      <td>B96 B98</td>\n      <td>S</td>\n      <td>4</td>\n      <td>NaN</td>\n      <td>Bryn Mawr, PA</td>\n    </tr>\n    <tr>\n      <th>56</th>\n      <td>1</td>\n      <td>1</td>\n      <td>Carter, Mr. William Ernest</td>\n      <td>male</td>\n      <td>36.0</td>\n      <td>1</td>\n      <td>2</td>\n      <td>113760</td>\n      <td>120.0000</td>\n      <td>B96 B98</td>\n      <td>S</td>\n      <td>C</td>\n      <td>NaN</td>\n      <td>Bryn Mawr, PA</td>\n    </tr>\n    <tr>\n      <th>57</th>\n      <td>1</td>\n      <td>1</td>\n      <td>Carter, Mrs. William Ernest (Lucile Polk)</td>\n      <td>female</td>\n      <td>36.0</td>\n      <td>1</td>\n      <td>2</td>\n      <td>113760</td>\n      <td>120.0000</td>\n      <td>B96 B98</td>\n      <td>S</td>\n      <td>4</td>\n      <td>NaN</td>\n      <td>Bryn Mawr, PA</td>\n    </tr>\n    <tr>\n      <th>58</th>\n      <td>1</td>\n      <td>0</td>\n      <td>Case, Mr. Howard Brown</td>\n      <td>male</td>\n      <td>49.0</td>\n      <td>0</td>\n      <td>0</td>\n      <td>19924</td>\n      <td>26.0000</td>\n      <td>NaN</td>\n      <td>S</td>\n      <td>NaN</td>\n      <td>NaN</td>\n      <td>Ascot, Berkshire / Rochester, NY</td>\n    </tr>\n    <tr>\n      <th>59</th>\n      <td>1</td>\n      <td>1</td>\n      <td>Cassebeer, Mrs. Henry Arthur Jr (Eleanor Genev...</td>\n      <td>female</td>\n      <td>NaN</td>\n      <td>0</td>\n      <td>0</td>\n      <td>17770</td>\n      <td>27.7208</td>\n      <td>NaN</td>\n      <td>C</td>\n      <td>5</td>\n      <td>NaN</td>\n      <td>New York, NY</td>\n    </tr>\n    <tr>\n      <th>60</th>\n      <td>1</td>\n      <td>0</td>\n      <td>Cavendish, Mr. Tyrell William</td>\n      <td>male</td>\n      <td>36.0</td>\n      <td>1</td>\n      <td>0</td>\n      <td>19877</td>\n      <td>78.8500</td>\n      <td>C46</td>\n      <td>S</td>\n      <td>NaN</td>\n      <td>172.0</td>\n      <td>Little Onn Hall, Staffs</td>\n    </tr>\n    <tr>\n      <th>61</th>\n      <td>1</td>\n      <td>1</td>\n      <td>Cavendish, Mrs. Tyrell William (Julia Florence...</td>\n      <td>female</td>\n      <td>76.0</td>\n      <td>1</td>\n      <td>0</td>\n      <td>19877</td>\n      <td>78.8500</td>\n      <td>C46</td>\n      <td>S</td>\n      <td>6</td>\n      <td>NaN</td>\n      <td>Little Onn Hall, Staffs</td>\n    </tr>\n    <tr>\n      <th>62</th>\n      <td>1</td>\n      <td>0</td>\n      <td>Chaffee, Mr. Herbert Fuller</td>\n      <td>male</td>\n      <td>46.0</td>\n      <td>1</td>\n      <td>0</td>\n      <td>W.E.P. 5734</td>\n      <td>61.1750</td>\n      <td>E31</td>\n      <td>S</td>\n      <td>NaN</td>\n      <td>NaN</td>\n      <td>Amenia, ND</td>\n    </tr>\n    <tr>\n      <th>63</th>\n      <td>1</td>\n      <td>1</td>\n      <td>Chaffee, Mrs. Herbert Fuller (Carrie Constance...</td>\n      <td>female</td>\n      <td>47.0</td>\n      <td>1</td>\n      <td>0</td>\n      <td>W.E.P. 5734</td>\n      <td>61.1750</td>\n      <td>E31</td>\n      <td>S</td>\n      <td>4</td>\n      <td>NaN</td>\n      <td>Amenia, ND</td>\n    </tr>\n  </tbody>\n</table>\n</div>"
     },
     "metadata": {},
     "execution_count": 17
    }
   ],
   "source": [
    "#your code\n",
    "s_titanic_rev = titanic[40:64]\n",
    "s_titanic_rev"
   ]
  },
  {
   "cell_type": "markdown",
   "metadata": {},
   "source": [
    "6. Slice the columns from the starting column to `'parch'`, call it `left_columns`"
   ]
  },
  {
   "cell_type": "code",
   "execution_count": 19,
   "metadata": {},
   "outputs": [
    {
     "output_type": "execute_result",
     "data": {
      "text/plain": [
       "      pclass  survived                                             name  \\\n",
       "0          1         1                    Allen, Miss. Elisabeth Walton   \n",
       "1          1         1                   Allison, Master. Hudson Trevor   \n",
       "2          1         0                     Allison, Miss. Helen Loraine   \n",
       "3          1         0             Allison, Mr. Hudson Joshua Creighton   \n",
       "4          1         0  Allison, Mrs. Hudson J C (Bessie Waldo Daniels)   \n",
       "...      ...       ...                                              ...   \n",
       "1304       3         0                             Zabour, Miss. Hileni   \n",
       "1305       3         0                            Zabour, Miss. Thamine   \n",
       "1306       3         0                        Zakarian, Mr. Mapriededer   \n",
       "1307       3         0                              Zakarian, Mr. Ortin   \n",
       "1308       3         0                               Zimmerman, Mr. Leo   \n",
       "\n",
       "         sex    age  sibsp  parch  \n",
       "0     female  29.00      0      0  \n",
       "1       male   0.92      1      2  \n",
       "2     female   2.00      1      2  \n",
       "3       male  30.00      1      2  \n",
       "4     female  25.00      1      2  \n",
       "...      ...    ...    ...    ...  \n",
       "1304  female  14.50      1      0  \n",
       "1305  female    NaN      1      0  \n",
       "1306    male  26.50      0      0  \n",
       "1307    male  27.00      0      0  \n",
       "1308    male  29.00      0      0  \n",
       "\n",
       "[1309 rows x 7 columns]"
      ],
      "text/html": "<div>\n<style scoped>\n    .dataframe tbody tr th:only-of-type {\n        vertical-align: middle;\n    }\n\n    .dataframe tbody tr th {\n        vertical-align: top;\n    }\n\n    .dataframe thead th {\n        text-align: right;\n    }\n</style>\n<table border=\"1\" class=\"dataframe\">\n  <thead>\n    <tr style=\"text-align: right;\">\n      <th></th>\n      <th>pclass</th>\n      <th>survived</th>\n      <th>name</th>\n      <th>sex</th>\n      <th>age</th>\n      <th>sibsp</th>\n      <th>parch</th>\n    </tr>\n  </thead>\n  <tbody>\n    <tr>\n      <th>0</th>\n      <td>1</td>\n      <td>1</td>\n      <td>Allen, Miss. Elisabeth Walton</td>\n      <td>female</td>\n      <td>29.00</td>\n      <td>0</td>\n      <td>0</td>\n    </tr>\n    <tr>\n      <th>1</th>\n      <td>1</td>\n      <td>1</td>\n      <td>Allison, Master. Hudson Trevor</td>\n      <td>male</td>\n      <td>0.92</td>\n      <td>1</td>\n      <td>2</td>\n    </tr>\n    <tr>\n      <th>2</th>\n      <td>1</td>\n      <td>0</td>\n      <td>Allison, Miss. Helen Loraine</td>\n      <td>female</td>\n      <td>2.00</td>\n      <td>1</td>\n      <td>2</td>\n    </tr>\n    <tr>\n      <th>3</th>\n      <td>1</td>\n      <td>0</td>\n      <td>Allison, Mr. Hudson Joshua Creighton</td>\n      <td>male</td>\n      <td>30.00</td>\n      <td>1</td>\n      <td>2</td>\n    </tr>\n    <tr>\n      <th>4</th>\n      <td>1</td>\n      <td>0</td>\n      <td>Allison, Mrs. Hudson J C (Bessie Waldo Daniels)</td>\n      <td>female</td>\n      <td>25.00</td>\n      <td>1</td>\n      <td>2</td>\n    </tr>\n    <tr>\n      <th>...</th>\n      <td>...</td>\n      <td>...</td>\n      <td>...</td>\n      <td>...</td>\n      <td>...</td>\n      <td>...</td>\n      <td>...</td>\n    </tr>\n    <tr>\n      <th>1304</th>\n      <td>3</td>\n      <td>0</td>\n      <td>Zabour, Miss. Hileni</td>\n      <td>female</td>\n      <td>14.50</td>\n      <td>1</td>\n      <td>0</td>\n    </tr>\n    <tr>\n      <th>1305</th>\n      <td>3</td>\n      <td>0</td>\n      <td>Zabour, Miss. Thamine</td>\n      <td>female</td>\n      <td>NaN</td>\n      <td>1</td>\n      <td>0</td>\n    </tr>\n    <tr>\n      <th>1306</th>\n      <td>3</td>\n      <td>0</td>\n      <td>Zakarian, Mr. Mapriededer</td>\n      <td>male</td>\n      <td>26.50</td>\n      <td>0</td>\n      <td>0</td>\n    </tr>\n    <tr>\n      <th>1307</th>\n      <td>3</td>\n      <td>0</td>\n      <td>Zakarian, Mr. Ortin</td>\n      <td>male</td>\n      <td>27.00</td>\n      <td>0</td>\n      <td>0</td>\n    </tr>\n    <tr>\n      <th>1308</th>\n      <td>3</td>\n      <td>0</td>\n      <td>Zimmerman, Mr. Leo</td>\n      <td>male</td>\n      <td>29.00</td>\n      <td>0</td>\n      <td>0</td>\n    </tr>\n  </tbody>\n</table>\n<p>1309 rows × 7 columns</p>\n</div>"
     },
     "metadata": {},
     "execution_count": 19
    }
   ],
   "source": [
    "#your code\n",
    "left_columns = titanic.loc[:, :'parch']\n",
    "left_columns"
   ]
  },
  {
   "cell_type": "markdown",
   "metadata": {},
   "source": [
    "7. Slice the columns from `'name'` to `'age'`, call it `middle_columns`"
   ]
  },
  {
   "cell_type": "code",
   "execution_count": 20,
   "metadata": {},
   "outputs": [
    {
     "output_type": "execute_result",
     "data": {
      "text/plain": [
       "                                                 name     sex    age\n",
       "0                       Allen, Miss. Elisabeth Walton  female  29.00\n",
       "1                      Allison, Master. Hudson Trevor    male   0.92\n",
       "2                        Allison, Miss. Helen Loraine  female   2.00\n",
       "3                Allison, Mr. Hudson Joshua Creighton    male  30.00\n",
       "4     Allison, Mrs. Hudson J C (Bessie Waldo Daniels)  female  25.00\n",
       "...                                               ...     ...    ...\n",
       "1304                             Zabour, Miss. Hileni  female  14.50\n",
       "1305                            Zabour, Miss. Thamine  female    NaN\n",
       "1306                        Zakarian, Mr. Mapriededer    male  26.50\n",
       "1307                              Zakarian, Mr. Ortin    male  27.00\n",
       "1308                               Zimmerman, Mr. Leo    male  29.00\n",
       "\n",
       "[1309 rows x 3 columns]"
      ],
      "text/html": "<div>\n<style scoped>\n    .dataframe tbody tr th:only-of-type {\n        vertical-align: middle;\n    }\n\n    .dataframe tbody tr th {\n        vertical-align: top;\n    }\n\n    .dataframe thead th {\n        text-align: right;\n    }\n</style>\n<table border=\"1\" class=\"dataframe\">\n  <thead>\n    <tr style=\"text-align: right;\">\n      <th></th>\n      <th>name</th>\n      <th>sex</th>\n      <th>age</th>\n    </tr>\n  </thead>\n  <tbody>\n    <tr>\n      <th>0</th>\n      <td>Allen, Miss. Elisabeth Walton</td>\n      <td>female</td>\n      <td>29.00</td>\n    </tr>\n    <tr>\n      <th>1</th>\n      <td>Allison, Master. Hudson Trevor</td>\n      <td>male</td>\n      <td>0.92</td>\n    </tr>\n    <tr>\n      <th>2</th>\n      <td>Allison, Miss. Helen Loraine</td>\n      <td>female</td>\n      <td>2.00</td>\n    </tr>\n    <tr>\n      <th>3</th>\n      <td>Allison, Mr. Hudson Joshua Creighton</td>\n      <td>male</td>\n      <td>30.00</td>\n    </tr>\n    <tr>\n      <th>4</th>\n      <td>Allison, Mrs. Hudson J C (Bessie Waldo Daniels)</td>\n      <td>female</td>\n      <td>25.00</td>\n    </tr>\n    <tr>\n      <th>...</th>\n      <td>...</td>\n      <td>...</td>\n      <td>...</td>\n    </tr>\n    <tr>\n      <th>1304</th>\n      <td>Zabour, Miss. Hileni</td>\n      <td>female</td>\n      <td>14.50</td>\n    </tr>\n    <tr>\n      <th>1305</th>\n      <td>Zabour, Miss. Thamine</td>\n      <td>female</td>\n      <td>NaN</td>\n    </tr>\n    <tr>\n      <th>1306</th>\n      <td>Zakarian, Mr. Mapriededer</td>\n      <td>male</td>\n      <td>26.50</td>\n    </tr>\n    <tr>\n      <th>1307</th>\n      <td>Zakarian, Mr. Ortin</td>\n      <td>male</td>\n      <td>27.00</td>\n    </tr>\n    <tr>\n      <th>1308</th>\n      <td>Zimmerman, Mr. Leo</td>\n      <td>male</td>\n      <td>29.00</td>\n    </tr>\n  </tbody>\n</table>\n<p>1309 rows × 3 columns</p>\n</div>"
     },
     "metadata": {},
     "execution_count": 20
    }
   ],
   "source": [
    "#your code\n",
    "middle_columns = titanic.loc[:, 'name':'age']\n",
    "middle_columns"
   ]
  },
  {
   "cell_type": "markdown",
   "metadata": {},
   "source": [
    "8. Slice the columns from `'ticket'` to the end, call it `right_columns`"
   ]
  },
  {
   "cell_type": "code",
   "execution_count": 22,
   "metadata": {},
   "outputs": [
    {
     "output_type": "execute_result",
     "data": {
      "text/plain": [
       "      ticket      fare    cabin embarked boat   body  \\\n",
       "0      24160  211.3375       B5        S    2    NaN   \n",
       "1     113781  151.5500  C22 C26        S   11    NaN   \n",
       "2     113781  151.5500  C22 C26        S  NaN    NaN   \n",
       "3     113781  151.5500  C22 C26        S  NaN  135.0   \n",
       "4     113781  151.5500  C22 C26        S  NaN    NaN   \n",
       "...      ...       ...      ...      ...  ...    ...   \n",
       "1304    2665   14.4542      NaN        C  NaN  328.0   \n",
       "1305    2665   14.4542      NaN        C  NaN    NaN   \n",
       "1306    2656    7.2250      NaN        C  NaN  304.0   \n",
       "1307    2670    7.2250      NaN        C  NaN    NaN   \n",
       "1308  315082    7.8750      NaN        S  NaN    NaN   \n",
       "\n",
       "                            home.dest  \n",
       "0                        St Louis, MO  \n",
       "1     Montreal, PQ / Chesterville, ON  \n",
       "2     Montreal, PQ / Chesterville, ON  \n",
       "3     Montreal, PQ / Chesterville, ON  \n",
       "4     Montreal, PQ / Chesterville, ON  \n",
       "...                               ...  \n",
       "1304                              NaN  \n",
       "1305                              NaN  \n",
       "1306                              NaN  \n",
       "1307                              NaN  \n",
       "1308                              NaN  \n",
       "\n",
       "[1309 rows x 7 columns]"
      ],
      "text/html": "<div>\n<style scoped>\n    .dataframe tbody tr th:only-of-type {\n        vertical-align: middle;\n    }\n\n    .dataframe tbody tr th {\n        vertical-align: top;\n    }\n\n    .dataframe thead th {\n        text-align: right;\n    }\n</style>\n<table border=\"1\" class=\"dataframe\">\n  <thead>\n    <tr style=\"text-align: right;\">\n      <th></th>\n      <th>ticket</th>\n      <th>fare</th>\n      <th>cabin</th>\n      <th>embarked</th>\n      <th>boat</th>\n      <th>body</th>\n      <th>home.dest</th>\n    </tr>\n  </thead>\n  <tbody>\n    <tr>\n      <th>0</th>\n      <td>24160</td>\n      <td>211.3375</td>\n      <td>B5</td>\n      <td>S</td>\n      <td>2</td>\n      <td>NaN</td>\n      <td>St Louis, MO</td>\n    </tr>\n    <tr>\n      <th>1</th>\n      <td>113781</td>\n      <td>151.5500</td>\n      <td>C22 C26</td>\n      <td>S</td>\n      <td>11</td>\n      <td>NaN</td>\n      <td>Montreal, PQ / Chesterville, ON</td>\n    </tr>\n    <tr>\n      <th>2</th>\n      <td>113781</td>\n      <td>151.5500</td>\n      <td>C22 C26</td>\n      <td>S</td>\n      <td>NaN</td>\n      <td>NaN</td>\n      <td>Montreal, PQ / Chesterville, ON</td>\n    </tr>\n    <tr>\n      <th>3</th>\n      <td>113781</td>\n      <td>151.5500</td>\n      <td>C22 C26</td>\n      <td>S</td>\n      <td>NaN</td>\n      <td>135.0</td>\n      <td>Montreal, PQ / Chesterville, ON</td>\n    </tr>\n    <tr>\n      <th>4</th>\n      <td>113781</td>\n      <td>151.5500</td>\n      <td>C22 C26</td>\n      <td>S</td>\n      <td>NaN</td>\n      <td>NaN</td>\n      <td>Montreal, PQ / Chesterville, ON</td>\n    </tr>\n    <tr>\n      <th>...</th>\n      <td>...</td>\n      <td>...</td>\n      <td>...</td>\n      <td>...</td>\n      <td>...</td>\n      <td>...</td>\n      <td>...</td>\n    </tr>\n    <tr>\n      <th>1304</th>\n      <td>2665</td>\n      <td>14.4542</td>\n      <td>NaN</td>\n      <td>C</td>\n      <td>NaN</td>\n      <td>328.0</td>\n      <td>NaN</td>\n    </tr>\n    <tr>\n      <th>1305</th>\n      <td>2665</td>\n      <td>14.4542</td>\n      <td>NaN</td>\n      <td>C</td>\n      <td>NaN</td>\n      <td>NaN</td>\n      <td>NaN</td>\n    </tr>\n    <tr>\n      <th>1306</th>\n      <td>2656</td>\n      <td>7.2250</td>\n      <td>NaN</td>\n      <td>C</td>\n      <td>NaN</td>\n      <td>304.0</td>\n      <td>NaN</td>\n    </tr>\n    <tr>\n      <th>1307</th>\n      <td>2670</td>\n      <td>7.2250</td>\n      <td>NaN</td>\n      <td>C</td>\n      <td>NaN</td>\n      <td>NaN</td>\n      <td>NaN</td>\n    </tr>\n    <tr>\n      <th>1308</th>\n      <td>315082</td>\n      <td>7.8750</td>\n      <td>NaN</td>\n      <td>S</td>\n      <td>NaN</td>\n      <td>NaN</td>\n      <td>NaN</td>\n    </tr>\n  </tbody>\n</table>\n<p>1309 rows × 7 columns</p>\n</div>"
     },
     "metadata": {},
     "execution_count": 22
    }
   ],
   "source": [
    "#your code\n",
    "right_columns = titanic.loc[:, 'ticket':]\n",
    "right_columns"
   ]
  },
  {
   "cell_type": "markdown",
   "metadata": {},
   "source": [
    "9. What is the name of the oldest person who died in the Titanic? Was he or she travelling alone or had any family travelling with them?  \n",
    "\n"
   ]
  },
  {
   "cell_type": "code",
   "execution_count": 28,
   "metadata": {},
   "outputs": [
    {
     "output_type": "execute_result",
     "data": {
      "text/plain": [
       "'Barkworth, Mr. Algernon Henry Wilson'"
      ]
     },
     "metadata": {},
     "execution_count": 28
    }
   ],
   "source": [
    "#your code\n",
    "titanic.sort_values('age', ascending=False).head(1)['name'].values[0]"
   ]
  },
  {
   "cell_type": "code",
   "execution_count": 32,
   "metadata": {},
   "outputs": [
    {
     "output_type": "execute_result",
     "data": {
      "text/plain": [
       "    pclass  survived                                  name   sex   age  sibsp  \\\n",
       "14       1         1  Barkworth, Mr. Algernon Henry Wilson  male  80.0      0   \n",
       "\n",
       "    parch ticket  fare cabin embarked boat  body      home.dest  \n",
       "14      0  27042  30.0   A23        S    B   NaN  Hessle, Yorks  "
      ],
      "text/html": "<div>\n<style scoped>\n    .dataframe tbody tr th:only-of-type {\n        vertical-align: middle;\n    }\n\n    .dataframe tbody tr th {\n        vertical-align: top;\n    }\n\n    .dataframe thead th {\n        text-align: right;\n    }\n</style>\n<table border=\"1\" class=\"dataframe\">\n  <thead>\n    <tr style=\"text-align: right;\">\n      <th></th>\n      <th>pclass</th>\n      <th>survived</th>\n      <th>name</th>\n      <th>sex</th>\n      <th>age</th>\n      <th>sibsp</th>\n      <th>parch</th>\n      <th>ticket</th>\n      <th>fare</th>\n      <th>cabin</th>\n      <th>embarked</th>\n      <th>boat</th>\n      <th>body</th>\n      <th>home.dest</th>\n    </tr>\n  </thead>\n  <tbody>\n    <tr>\n      <th>14</th>\n      <td>1</td>\n      <td>1</td>\n      <td>Barkworth, Mr. Algernon Henry Wilson</td>\n      <td>male</td>\n      <td>80.0</td>\n      <td>0</td>\n      <td>0</td>\n      <td>27042</td>\n      <td>30.0</td>\n      <td>A23</td>\n      <td>S</td>\n      <td>B</td>\n      <td>NaN</td>\n      <td>Hessle, Yorks</td>\n    </tr>\n  </tbody>\n</table>\n</div>"
     },
     "metadata": {},
     "execution_count": 32
    }
   ],
   "source": [
    "titanic[titanic['name'].str.contains('Barkworth')]"
   ]
  },
  {
   "cell_type": "markdown",
   "metadata": {},
   "source": [
    "In order to give an answer to the second question you should find out which columns give you that info. Usually part of your job as a Data Scientist will be get to know the dataset which you are working with. In this case the columns which give you that info are the following: \n",
    "        - 'sibsp' Number of Siblings/Spouses Aboard\n",
    "        - 'parch' Number of Parents/Children Aboard"
   ]
  },
  {
   "cell_type": "code",
   "execution_count": 38,
   "metadata": {},
   "outputs": [
    {
     "output_type": "execute_result",
     "data": {
      "text/plain": [
       "    sibsp  parch\n",
       "14      0      0"
      ],
      "text/html": "<div>\n<style scoped>\n    .dataframe tbody tr th:only-of-type {\n        vertical-align: middle;\n    }\n\n    .dataframe tbody tr th {\n        vertical-align: top;\n    }\n\n    .dataframe thead th {\n        text-align: right;\n    }\n</style>\n<table border=\"1\" class=\"dataframe\">\n  <thead>\n    <tr style=\"text-align: right;\">\n      <th></th>\n      <th>sibsp</th>\n      <th>parch</th>\n    </tr>\n  </thead>\n  <tbody>\n    <tr>\n      <th>14</th>\n      <td>0</td>\n      <td>0</td>\n    </tr>\n  </tbody>\n</table>\n</div>"
     },
     "metadata": {},
     "execution_count": 38
    }
   ],
   "source": [
    "# your code\n",
    "titanic.sort_values('age', ascending=False).head(1).loc[:, 'sibsp':'parch'] # El pasajero viajaba solo."
   ]
  },
  {
   "cell_type": "markdown",
   "metadata": {},
   "source": [
    "10. Create the list of 5 random numbers of rows from 0 to the lenght of the dataframe, call it `rows`\n",
    "\n",
    "ex. `rows = [3,7,99,52,48]` use `random` library\n",
    "\n"
   ]
  },
  {
   "cell_type": "code",
   "execution_count": 50,
   "metadata": {},
   "outputs": [
    {
     "output_type": "execute_result",
     "data": {
      "text/plain": [
       "[82, 346, 801, 865, 1096]"
      ]
     },
     "metadata": {},
     "execution_count": 50
    }
   ],
   "source": [
    "#your code\n",
    "import random\n",
    "rows = random.sample(range(len(titanic)), 5)\n",
    "rows.sort()\n",
    "rows"
   ]
  },
  {
   "cell_type": "markdown",
   "metadata": {},
   "source": [
    "This list of numbers are random, could be different.\n"
   ]
  },
  {
   "cell_type": "markdown",
   "metadata": {},
   "source": [
    "11. Create the list of three column labels, call it `cols`\n"
   ]
  },
  {
   "cell_type": "code",
   "execution_count": 51,
   "metadata": {},
   "outputs": [],
   "source": [
    "#your code\n",
    "cols = ['name', 'age', 'cabin']"
   ]
  },
  {
   "cell_type": "markdown",
   "metadata": {},
   "source": [
    "12. Use both lists `rows` and `cols` to create a new dataframe"
   ]
  },
  {
   "cell_type": "code",
   "execution_count": 57,
   "metadata": {},
   "outputs": [
    {
     "output_type": "execute_result",
     "data": {
      "text/plain": [
       "                                name   age cabin\n",
       "82           Crosby, Miss. Harriet R  36.0   B22\n",
       "346       Botsford, Mr. William Hull  26.0   NaN\n",
       "801                 Flynn, Mr. James   NaN   NaN\n",
       "865               Henry, Miss. Delia   NaN   NaN\n",
       "1096  Palsson, Master. Gosta Leonard   2.0   NaN"
      ],
      "text/html": "<div>\n<style scoped>\n    .dataframe tbody tr th:only-of-type {\n        vertical-align: middle;\n    }\n\n    .dataframe tbody tr th {\n        vertical-align: top;\n    }\n\n    .dataframe thead th {\n        text-align: right;\n    }\n</style>\n<table border=\"1\" class=\"dataframe\">\n  <thead>\n    <tr style=\"text-align: right;\">\n      <th></th>\n      <th>name</th>\n      <th>age</th>\n      <th>cabin</th>\n    </tr>\n  </thead>\n  <tbody>\n    <tr>\n      <th>82</th>\n      <td>Crosby, Miss. Harriet R</td>\n      <td>36.0</td>\n      <td>B22</td>\n    </tr>\n    <tr>\n      <th>346</th>\n      <td>Botsford, Mr. William Hull</td>\n      <td>26.0</td>\n      <td>NaN</td>\n    </tr>\n    <tr>\n      <th>801</th>\n      <td>Flynn, Mr. James</td>\n      <td>NaN</td>\n      <td>NaN</td>\n    </tr>\n    <tr>\n      <th>865</th>\n      <td>Henry, Miss. Delia</td>\n      <td>NaN</td>\n      <td>NaN</td>\n    </tr>\n    <tr>\n      <th>1096</th>\n      <td>Palsson, Master. Gosta Leonard</td>\n      <td>2.0</td>\n      <td>NaN</td>\n    </tr>\n  </tbody>\n</table>\n</div>"
     },
     "metadata": {},
     "execution_count": 57
    }
   ],
   "source": [
    "#your code\n",
    "titanic.loc[rows, cols]"
   ]
  },
  {
   "cell_type": "markdown",
   "metadata": {},
   "source": [
    "13. Create a boolean array with the condition of being a woman or a man, using the `sex` column, where **female** is True. Call it `array_fe`"
   ]
  },
  {
   "cell_type": "markdown",
   "metadata": {},
   "source": [
    "Bonus: Rename the column `\"sex\"` to `\"gender\"`"
   ]
  },
  {
   "cell_type": "code",
   "execution_count": 62,
   "metadata": {},
   "outputs": [
    {
     "output_type": "execute_result",
     "data": {
      "text/plain": [
       "0        True\n",
       "1       False\n",
       "2        True\n",
       "3       False\n",
       "4        True\n",
       "        ...  \n",
       "1304     True\n",
       "1305     True\n",
       "1306    False\n",
       "1307    False\n",
       "1308    False\n",
       "Name: gender, Length: 1309, dtype: bool"
      ]
     },
     "metadata": {},
     "execution_count": 62
    }
   ],
   "source": [
    "#your code\n",
    "array_fe = titanic['sex'] == 'female'\n",
    "array_fe"
   ]
  },
  {
   "cell_type": "code",
   "execution_count": 63,
   "metadata": {},
   "outputs": [
    {
     "output_type": "execute_result",
     "data": {
      "text/plain": [
       "   pclass  survived                                             name  gender  \\\n",
       "0       1         1                    Allen, Miss. Elisabeth Walton  female   \n",
       "1       1         1                   Allison, Master. Hudson Trevor    male   \n",
       "2       1         0                     Allison, Miss. Helen Loraine  female   \n",
       "3       1         0             Allison, Mr. Hudson Joshua Creighton    male   \n",
       "4       1         0  Allison, Mrs. Hudson J C (Bessie Waldo Daniels)  female   \n",
       "\n",
       "     age  sibsp  parch  ticket      fare    cabin embarked boat   body  \\\n",
       "0  29.00      0      0   24160  211.3375       B5        S    2    NaN   \n",
       "1   0.92      1      2  113781  151.5500  C22 C26        S   11    NaN   \n",
       "2   2.00      1      2  113781  151.5500  C22 C26        S  NaN    NaN   \n",
       "3  30.00      1      2  113781  151.5500  C22 C26        S  NaN  135.0   \n",
       "4  25.00      1      2  113781  151.5500  C22 C26        S  NaN    NaN   \n",
       "\n",
       "                         home.dest  \n",
       "0                     St Louis, MO  \n",
       "1  Montreal, PQ / Chesterville, ON  \n",
       "2  Montreal, PQ / Chesterville, ON  \n",
       "3  Montreal, PQ / Chesterville, ON  \n",
       "4  Montreal, PQ / Chesterville, ON  "
      ],
      "text/html": "<div>\n<style scoped>\n    .dataframe tbody tr th:only-of-type {\n        vertical-align: middle;\n    }\n\n    .dataframe tbody tr th {\n        vertical-align: top;\n    }\n\n    .dataframe thead th {\n        text-align: right;\n    }\n</style>\n<table border=\"1\" class=\"dataframe\">\n  <thead>\n    <tr style=\"text-align: right;\">\n      <th></th>\n      <th>pclass</th>\n      <th>survived</th>\n      <th>name</th>\n      <th>gender</th>\n      <th>age</th>\n      <th>sibsp</th>\n      <th>parch</th>\n      <th>ticket</th>\n      <th>fare</th>\n      <th>cabin</th>\n      <th>embarked</th>\n      <th>boat</th>\n      <th>body</th>\n      <th>home.dest</th>\n    </tr>\n  </thead>\n  <tbody>\n    <tr>\n      <th>0</th>\n      <td>1</td>\n      <td>1</td>\n      <td>Allen, Miss. Elisabeth Walton</td>\n      <td>female</td>\n      <td>29.00</td>\n      <td>0</td>\n      <td>0</td>\n      <td>24160</td>\n      <td>211.3375</td>\n      <td>B5</td>\n      <td>S</td>\n      <td>2</td>\n      <td>NaN</td>\n      <td>St Louis, MO</td>\n    </tr>\n    <tr>\n      <th>1</th>\n      <td>1</td>\n      <td>1</td>\n      <td>Allison, Master. Hudson Trevor</td>\n      <td>male</td>\n      <td>0.92</td>\n      <td>1</td>\n      <td>2</td>\n      <td>113781</td>\n      <td>151.5500</td>\n      <td>C22 C26</td>\n      <td>S</td>\n      <td>11</td>\n      <td>NaN</td>\n      <td>Montreal, PQ / Chesterville, ON</td>\n    </tr>\n    <tr>\n      <th>2</th>\n      <td>1</td>\n      <td>0</td>\n      <td>Allison, Miss. Helen Loraine</td>\n      <td>female</td>\n      <td>2.00</td>\n      <td>1</td>\n      <td>2</td>\n      <td>113781</td>\n      <td>151.5500</td>\n      <td>C22 C26</td>\n      <td>S</td>\n      <td>NaN</td>\n      <td>NaN</td>\n      <td>Montreal, PQ / Chesterville, ON</td>\n    </tr>\n    <tr>\n      <th>3</th>\n      <td>1</td>\n      <td>0</td>\n      <td>Allison, Mr. Hudson Joshua Creighton</td>\n      <td>male</td>\n      <td>30.00</td>\n      <td>1</td>\n      <td>2</td>\n      <td>113781</td>\n      <td>151.5500</td>\n      <td>C22 C26</td>\n      <td>S</td>\n      <td>NaN</td>\n      <td>135.0</td>\n      <td>Montreal, PQ / Chesterville, ON</td>\n    </tr>\n    <tr>\n      <th>4</th>\n      <td>1</td>\n      <td>0</td>\n      <td>Allison, Mrs. Hudson J C (Bessie Waldo Daniels)</td>\n      <td>female</td>\n      <td>25.00</td>\n      <td>1</td>\n      <td>2</td>\n      <td>113781</td>\n      <td>151.5500</td>\n      <td>C22 C26</td>\n      <td>S</td>\n      <td>NaN</td>\n      <td>NaN</td>\n      <td>Montreal, PQ / Chesterville, ON</td>\n    </tr>\n  </tbody>\n</table>\n</div>"
     },
     "metadata": {},
     "execution_count": 63
    }
   ],
   "source": [
    "titanic.rename(columns={'sex':'gender'}, inplace=True)\n",
    "titanic.head(5)"
   ]
  },
  {
   "cell_type": "markdown",
   "metadata": {},
   "source": [
    "14. Filter the `titanic` dataframe with the boolean array, call it `woman_titanic`"
   ]
  },
  {
   "cell_type": "code",
   "execution_count": 65,
   "metadata": {},
   "outputs": [
    {
     "output_type": "execute_result",
     "data": {
      "text/plain": [
       "      pclass  survived                                             name  \\\n",
       "0          1         1                    Allen, Miss. Elisabeth Walton   \n",
       "2          1         0                     Allison, Miss. Helen Loraine   \n",
       "4          1         0  Allison, Mrs. Hudson J C (Bessie Waldo Daniels)   \n",
       "6          1         1                Andrews, Miss. Kornelia Theodosia   \n",
       "8          1         1    Appleton, Mrs. Edward Dale (Charlotte Lamson)   \n",
       "...      ...       ...                                              ...   \n",
       "1286       3         1  Whabee, Mrs. George Joseph (Shawneene Abi-Saab)   \n",
       "1290       3         1                 Wilkes, Mrs. James (Ellen Needs)   \n",
       "1300       3         1          Yasbeck, Mrs. Antoni (Selini Alexander)   \n",
       "1304       3         0                             Zabour, Miss. Hileni   \n",
       "1305       3         0                            Zabour, Miss. Thamine   \n",
       "\n",
       "      gender   age  sibsp  parch  ticket      fare    cabin embarked boat  \\\n",
       "0     female  29.0      0      0   24160  211.3375       B5        S    2   \n",
       "2     female   2.0      1      2  113781  151.5500  C22 C26        S  NaN   \n",
       "4     female  25.0      1      2  113781  151.5500  C22 C26        S  NaN   \n",
       "6     female  63.0      1      0   13502   77.9583       D7        S   10   \n",
       "8     female  53.0      2      0   11769   51.4792     C101        S    D   \n",
       "...      ...   ...    ...    ...     ...       ...      ...      ...  ...   \n",
       "1286  female  38.0      0      0    2688    7.2292      NaN        C    C   \n",
       "1290  female  47.0      1      0  363272    7.0000      NaN        S  NaN   \n",
       "1300  female  15.0      1      0    2659   14.4542      NaN        C  NaN   \n",
       "1304  female  14.5      1      0    2665   14.4542      NaN        C  NaN   \n",
       "1305  female   NaN      1      0    2665   14.4542      NaN        C  NaN   \n",
       "\n",
       "       body                        home.dest  \n",
       "0       NaN                     St Louis, MO  \n",
       "2       NaN  Montreal, PQ / Chesterville, ON  \n",
       "4       NaN  Montreal, PQ / Chesterville, ON  \n",
       "6       NaN                       Hudson, NY  \n",
       "8       NaN              Bayside, Queens, NY  \n",
       "...     ...                              ...  \n",
       "1286    NaN                              NaN  \n",
       "1290    NaN                              NaN  \n",
       "1300    NaN                              NaN  \n",
       "1304  328.0                              NaN  \n",
       "1305    NaN                              NaN  \n",
       "\n",
       "[466 rows x 14 columns]"
      ],
      "text/html": "<div>\n<style scoped>\n    .dataframe tbody tr th:only-of-type {\n        vertical-align: middle;\n    }\n\n    .dataframe tbody tr th {\n        vertical-align: top;\n    }\n\n    .dataframe thead th {\n        text-align: right;\n    }\n</style>\n<table border=\"1\" class=\"dataframe\">\n  <thead>\n    <tr style=\"text-align: right;\">\n      <th></th>\n      <th>pclass</th>\n      <th>survived</th>\n      <th>name</th>\n      <th>gender</th>\n      <th>age</th>\n      <th>sibsp</th>\n      <th>parch</th>\n      <th>ticket</th>\n      <th>fare</th>\n      <th>cabin</th>\n      <th>embarked</th>\n      <th>boat</th>\n      <th>body</th>\n      <th>home.dest</th>\n    </tr>\n  </thead>\n  <tbody>\n    <tr>\n      <th>0</th>\n      <td>1</td>\n      <td>1</td>\n      <td>Allen, Miss. Elisabeth Walton</td>\n      <td>female</td>\n      <td>29.0</td>\n      <td>0</td>\n      <td>0</td>\n      <td>24160</td>\n      <td>211.3375</td>\n      <td>B5</td>\n      <td>S</td>\n      <td>2</td>\n      <td>NaN</td>\n      <td>St Louis, MO</td>\n    </tr>\n    <tr>\n      <th>2</th>\n      <td>1</td>\n      <td>0</td>\n      <td>Allison, Miss. Helen Loraine</td>\n      <td>female</td>\n      <td>2.0</td>\n      <td>1</td>\n      <td>2</td>\n      <td>113781</td>\n      <td>151.5500</td>\n      <td>C22 C26</td>\n      <td>S</td>\n      <td>NaN</td>\n      <td>NaN</td>\n      <td>Montreal, PQ / Chesterville, ON</td>\n    </tr>\n    <tr>\n      <th>4</th>\n      <td>1</td>\n      <td>0</td>\n      <td>Allison, Mrs. Hudson J C (Bessie Waldo Daniels)</td>\n      <td>female</td>\n      <td>25.0</td>\n      <td>1</td>\n      <td>2</td>\n      <td>113781</td>\n      <td>151.5500</td>\n      <td>C22 C26</td>\n      <td>S</td>\n      <td>NaN</td>\n      <td>NaN</td>\n      <td>Montreal, PQ / Chesterville, ON</td>\n    </tr>\n    <tr>\n      <th>6</th>\n      <td>1</td>\n      <td>1</td>\n      <td>Andrews, Miss. Kornelia Theodosia</td>\n      <td>female</td>\n      <td>63.0</td>\n      <td>1</td>\n      <td>0</td>\n      <td>13502</td>\n      <td>77.9583</td>\n      <td>D7</td>\n      <td>S</td>\n      <td>10</td>\n      <td>NaN</td>\n      <td>Hudson, NY</td>\n    </tr>\n    <tr>\n      <th>8</th>\n      <td>1</td>\n      <td>1</td>\n      <td>Appleton, Mrs. Edward Dale (Charlotte Lamson)</td>\n      <td>female</td>\n      <td>53.0</td>\n      <td>2</td>\n      <td>0</td>\n      <td>11769</td>\n      <td>51.4792</td>\n      <td>C101</td>\n      <td>S</td>\n      <td>D</td>\n      <td>NaN</td>\n      <td>Bayside, Queens, NY</td>\n    </tr>\n    <tr>\n      <th>...</th>\n      <td>...</td>\n      <td>...</td>\n      <td>...</td>\n      <td>...</td>\n      <td>...</td>\n      <td>...</td>\n      <td>...</td>\n      <td>...</td>\n      <td>...</td>\n      <td>...</td>\n      <td>...</td>\n      <td>...</td>\n      <td>...</td>\n      <td>...</td>\n    </tr>\n    <tr>\n      <th>1286</th>\n      <td>3</td>\n      <td>1</td>\n      <td>Whabee, Mrs. George Joseph (Shawneene Abi-Saab)</td>\n      <td>female</td>\n      <td>38.0</td>\n      <td>0</td>\n      <td>0</td>\n      <td>2688</td>\n      <td>7.2292</td>\n      <td>NaN</td>\n      <td>C</td>\n      <td>C</td>\n      <td>NaN</td>\n      <td>NaN</td>\n    </tr>\n    <tr>\n      <th>1290</th>\n      <td>3</td>\n      <td>1</td>\n      <td>Wilkes, Mrs. James (Ellen Needs)</td>\n      <td>female</td>\n      <td>47.0</td>\n      <td>1</td>\n      <td>0</td>\n      <td>363272</td>\n      <td>7.0000</td>\n      <td>NaN</td>\n      <td>S</td>\n      <td>NaN</td>\n      <td>NaN</td>\n      <td>NaN</td>\n    </tr>\n    <tr>\n      <th>1300</th>\n      <td>3</td>\n      <td>1</td>\n      <td>Yasbeck, Mrs. Antoni (Selini Alexander)</td>\n      <td>female</td>\n      <td>15.0</td>\n      <td>1</td>\n      <td>0</td>\n      <td>2659</td>\n      <td>14.4542</td>\n      <td>NaN</td>\n      <td>C</td>\n      <td>NaN</td>\n      <td>NaN</td>\n      <td>NaN</td>\n    </tr>\n    <tr>\n      <th>1304</th>\n      <td>3</td>\n      <td>0</td>\n      <td>Zabour, Miss. Hileni</td>\n      <td>female</td>\n      <td>14.5</td>\n      <td>1</td>\n      <td>0</td>\n      <td>2665</td>\n      <td>14.4542</td>\n      <td>NaN</td>\n      <td>C</td>\n      <td>NaN</td>\n      <td>328.0</td>\n      <td>NaN</td>\n    </tr>\n    <tr>\n      <th>1305</th>\n      <td>3</td>\n      <td>0</td>\n      <td>Zabour, Miss. Thamine</td>\n      <td>female</td>\n      <td>NaN</td>\n      <td>1</td>\n      <td>0</td>\n      <td>2665</td>\n      <td>14.4542</td>\n      <td>NaN</td>\n      <td>C</td>\n      <td>NaN</td>\n      <td>NaN</td>\n      <td>NaN</td>\n    </tr>\n  </tbody>\n</table>\n<p>466 rows × 14 columns</p>\n</div>"
     },
     "metadata": {},
     "execution_count": 65
    }
   ],
   "source": [
    "#your code\n",
    "woman_titanic = titanic[array_fe == True]\n",
    "woman_titanic"
   ]
  },
  {
   "cell_type": "markdown",
   "metadata": {},
   "source": [
    "15. How many women were younger than 18? Call the variable `minor_wo`"
   ]
  },
  {
   "cell_type": "code",
   "execution_count": 73,
   "metadata": {},
   "outputs": [
    {
     "output_type": "execute_result",
     "data": {
      "text/plain": [
       "72"
      ]
     },
     "metadata": {},
     "execution_count": 73
    }
   ],
   "source": [
    "#your code\n",
    "minor_wo = woman_titanic[woman_titanic['age'] < 18]\n",
    "len(minor_wo)"
   ]
  },
  {
   "cell_type": "markdown",
   "metadata": {},
   "source": [
    "16. How many women that were less than 18 actually died? Call the variable `dead_wo`"
   ]
  },
  {
   "cell_type": "code",
   "execution_count": 106,
   "metadata": {},
   "outputs": [
    {
     "output_type": "execute_result",
     "data": {
      "text/plain": [
       "50"
      ]
     },
     "metadata": {},
     "execution_count": 106
    }
   ],
   "source": [
    "#your code\n",
    "import numpy as np\n",
    "dead_wo = minor_wo[minor_wo['survived'] == 1]\n",
    "len(dead_wo)"
   ]
  },
  {
   "cell_type": "markdown",
   "metadata": {},
   "source": [
    "17. Drop rows with *Nan* in `titanic` with `how='any'` and print the shape\n",
    "\n"
   ]
  },
  {
   "cell_type": "code",
   "execution_count": 88,
   "metadata": {},
   "outputs": [
    {
     "output_type": "execute_result",
     "data": {
      "text/plain": [
       "(0, 14)"
      ]
     },
     "metadata": {},
     "execution_count": 88
    }
   ],
   "source": [
    "#your code\n",
    "titanic.dropna(how='any').shape"
   ]
  },
  {
   "cell_type": "markdown",
   "metadata": {},
   "source": [
    "18. Drop rows with *Nan* in `titanic` with `how='all'` and print the shape\n"
   ]
  },
  {
   "cell_type": "code",
   "execution_count": 89,
   "metadata": {},
   "outputs": [
    {
     "output_type": "execute_result",
     "data": {
      "text/plain": [
       "(1309, 14)"
      ]
     },
     "metadata": {},
     "execution_count": 89
    }
   ],
   "source": [
    "#your code\n",
    "titanic.dropna(how='all').shape"
   ]
  },
  {
   "cell_type": "markdown",
   "metadata": {},
   "source": [
    "Check in [here](https://pandas.pydata.org/pandas-docs/stable/reference/api/pandas.DataFrame.dropna.html) why the shapes are different."
   ]
  },
  {
   "cell_type": "markdown",
   "metadata": {},
   "source": [
    "19. Drop columns in `titanic` with more than 1000 missing values and print the columns remaining"
   ]
  },
  {
   "cell_type": "code",
   "execution_count": 92,
   "metadata": {},
   "outputs": [
    {
     "output_type": "execute_result",
     "data": {
      "text/plain": [
       "      pclass  survived                                             name  \\\n",
       "0          1         1                    Allen, Miss. Elisabeth Walton   \n",
       "1          1         1                   Allison, Master. Hudson Trevor   \n",
       "2          1         0                     Allison, Miss. Helen Loraine   \n",
       "3          1         0             Allison, Mr. Hudson Joshua Creighton   \n",
       "4          1         0  Allison, Mrs. Hudson J C (Bessie Waldo Daniels)   \n",
       "...      ...       ...                                              ...   \n",
       "1304       3         0                             Zabour, Miss. Hileni   \n",
       "1305       3         0                            Zabour, Miss. Thamine   \n",
       "1306       3         0                        Zakarian, Mr. Mapriededer   \n",
       "1307       3         0                              Zakarian, Mr. Ortin   \n",
       "1308       3         0                               Zimmerman, Mr. Leo   \n",
       "\n",
       "      gender    age  sibsp  parch  ticket      fare embarked  \n",
       "0     female  29.00      0      0   24160  211.3375        S  \n",
       "1       male   0.92      1      2  113781  151.5500        S  \n",
       "2     female   2.00      1      2  113781  151.5500        S  \n",
       "3       male  30.00      1      2  113781  151.5500        S  \n",
       "4     female  25.00      1      2  113781  151.5500        S  \n",
       "...      ...    ...    ...    ...     ...       ...      ...  \n",
       "1304  female  14.50      1      0    2665   14.4542        C  \n",
       "1305  female    NaN      1      0    2665   14.4542        C  \n",
       "1306    male  26.50      0      0    2656    7.2250        C  \n",
       "1307    male  27.00      0      0    2670    7.2250        C  \n",
       "1308    male  29.00      0      0  315082    7.8750        S  \n",
       "\n",
       "[1309 rows x 10 columns]"
      ],
      "text/html": "<div>\n<style scoped>\n    .dataframe tbody tr th:only-of-type {\n        vertical-align: middle;\n    }\n\n    .dataframe tbody tr th {\n        vertical-align: top;\n    }\n\n    .dataframe thead th {\n        text-align: right;\n    }\n</style>\n<table border=\"1\" class=\"dataframe\">\n  <thead>\n    <tr style=\"text-align: right;\">\n      <th></th>\n      <th>pclass</th>\n      <th>survived</th>\n      <th>name</th>\n      <th>gender</th>\n      <th>age</th>\n      <th>sibsp</th>\n      <th>parch</th>\n      <th>ticket</th>\n      <th>fare</th>\n      <th>embarked</th>\n    </tr>\n  </thead>\n  <tbody>\n    <tr>\n      <th>0</th>\n      <td>1</td>\n      <td>1</td>\n      <td>Allen, Miss. Elisabeth Walton</td>\n      <td>female</td>\n      <td>29.00</td>\n      <td>0</td>\n      <td>0</td>\n      <td>24160</td>\n      <td>211.3375</td>\n      <td>S</td>\n    </tr>\n    <tr>\n      <th>1</th>\n      <td>1</td>\n      <td>1</td>\n      <td>Allison, Master. Hudson Trevor</td>\n      <td>male</td>\n      <td>0.92</td>\n      <td>1</td>\n      <td>2</td>\n      <td>113781</td>\n      <td>151.5500</td>\n      <td>S</td>\n    </tr>\n    <tr>\n      <th>2</th>\n      <td>1</td>\n      <td>0</td>\n      <td>Allison, Miss. Helen Loraine</td>\n      <td>female</td>\n      <td>2.00</td>\n      <td>1</td>\n      <td>2</td>\n      <td>113781</td>\n      <td>151.5500</td>\n      <td>S</td>\n    </tr>\n    <tr>\n      <th>3</th>\n      <td>1</td>\n      <td>0</td>\n      <td>Allison, Mr. Hudson Joshua Creighton</td>\n      <td>male</td>\n      <td>30.00</td>\n      <td>1</td>\n      <td>2</td>\n      <td>113781</td>\n      <td>151.5500</td>\n      <td>S</td>\n    </tr>\n    <tr>\n      <th>4</th>\n      <td>1</td>\n      <td>0</td>\n      <td>Allison, Mrs. Hudson J C (Bessie Waldo Daniels)</td>\n      <td>female</td>\n      <td>25.00</td>\n      <td>1</td>\n      <td>2</td>\n      <td>113781</td>\n      <td>151.5500</td>\n      <td>S</td>\n    </tr>\n    <tr>\n      <th>...</th>\n      <td>...</td>\n      <td>...</td>\n      <td>...</td>\n      <td>...</td>\n      <td>...</td>\n      <td>...</td>\n      <td>...</td>\n      <td>...</td>\n      <td>...</td>\n      <td>...</td>\n    </tr>\n    <tr>\n      <th>1304</th>\n      <td>3</td>\n      <td>0</td>\n      <td>Zabour, Miss. Hileni</td>\n      <td>female</td>\n      <td>14.50</td>\n      <td>1</td>\n      <td>0</td>\n      <td>2665</td>\n      <td>14.4542</td>\n      <td>C</td>\n    </tr>\n    <tr>\n      <th>1305</th>\n      <td>3</td>\n      <td>0</td>\n      <td>Zabour, Miss. Thamine</td>\n      <td>female</td>\n      <td>NaN</td>\n      <td>1</td>\n      <td>0</td>\n      <td>2665</td>\n      <td>14.4542</td>\n      <td>C</td>\n    </tr>\n    <tr>\n      <th>1306</th>\n      <td>3</td>\n      <td>0</td>\n      <td>Zakarian, Mr. Mapriededer</td>\n      <td>male</td>\n      <td>26.50</td>\n      <td>0</td>\n      <td>0</td>\n      <td>2656</td>\n      <td>7.2250</td>\n      <td>C</td>\n    </tr>\n    <tr>\n      <th>1307</th>\n      <td>3</td>\n      <td>0</td>\n      <td>Zakarian, Mr. Ortin</td>\n      <td>male</td>\n      <td>27.00</td>\n      <td>0</td>\n      <td>0</td>\n      <td>2670</td>\n      <td>7.2250</td>\n      <td>C</td>\n    </tr>\n    <tr>\n      <th>1308</th>\n      <td>3</td>\n      <td>0</td>\n      <td>Zimmerman, Mr. Leo</td>\n      <td>male</td>\n      <td>29.00</td>\n      <td>0</td>\n      <td>0</td>\n      <td>315082</td>\n      <td>7.8750</td>\n      <td>S</td>\n    </tr>\n  </tbody>\n</table>\n<p>1309 rows × 10 columns</p>\n</div>"
     },
     "metadata": {},
     "execution_count": 92
    }
   ],
   "source": [
    "#your code\n",
    "titanic.dropna(axis=1, thresh=1001)"
   ]
  },
  {
   "cell_type": "code",
   "execution_count": 93,
   "metadata": {},
   "outputs": [
    {
     "output_type": "execute_result",
     "data": {
      "text/plain": [
       "Index(['pclass', 'survived', 'name', 'gender', 'age', 'sibsp', 'parch',\n",
       "       'ticket', 'fare', 'embarked'],\n",
       "      dtype='object')"
      ]
     },
     "metadata": {},
     "execution_count": 93
    }
   ],
   "source": [
    "#your code\n",
    "titanic.dropna(axis=1, thresh=1001).columns"
   ]
  },
  {
   "cell_type": "markdown",
   "metadata": {},
   "source": [
    "20. Calculate the ratio of missing values at the `boat` column. "
   ]
  },
  {
   "cell_type": "code",
   "execution_count": 94,
   "metadata": {},
   "outputs": [
    {
     "output_type": "execute_result",
     "data": {
      "text/plain": [
       "0.6287242169595111"
      ]
     },
     "metadata": {},
     "execution_count": 94
    }
   ],
   "source": [
    "#your code\n",
    "len(titanic[~titanic['boat'].notnull()])/len(titanic)"
   ]
  },
  {
   "cell_type": "markdown",
   "metadata": {},
   "source": [
    "21.  Group `titanic` by `'pclass'` and aggregate by the columns `age` & `fare`, by `max` and `median` --> `by_class`\n"
   ]
  },
  {
   "cell_type": "code",
   "execution_count": 98,
   "metadata": {},
   "outputs": [
    {
     "output_type": "execute_result",
     "data": {
      "text/plain": [
       "         age             fare         \n",
       "         max median       max   median\n",
       "pclass                                \n",
       "1       80.0   39.0  512.3292  60.0000\n",
       "2       70.0   29.0   73.5000  15.0458\n",
       "3       74.0   24.0   69.5500   8.0500"
      ],
      "text/html": "<div>\n<style scoped>\n    .dataframe tbody tr th:only-of-type {\n        vertical-align: middle;\n    }\n\n    .dataframe tbody tr th {\n        vertical-align: top;\n    }\n\n    .dataframe thead tr th {\n        text-align: left;\n    }\n\n    .dataframe thead tr:last-of-type th {\n        text-align: right;\n    }\n</style>\n<table border=\"1\" class=\"dataframe\">\n  <thead>\n    <tr>\n      <th></th>\n      <th colspan=\"2\" halign=\"left\">age</th>\n      <th colspan=\"2\" halign=\"left\">fare</th>\n    </tr>\n    <tr>\n      <th></th>\n      <th>max</th>\n      <th>median</th>\n      <th>max</th>\n      <th>median</th>\n    </tr>\n    <tr>\n      <th>pclass</th>\n      <th></th>\n      <th></th>\n      <th></th>\n      <th></th>\n    </tr>\n  </thead>\n  <tbody>\n    <tr>\n      <th>1</th>\n      <td>80.0</td>\n      <td>39.0</td>\n      <td>512.3292</td>\n      <td>60.0000</td>\n    </tr>\n    <tr>\n      <th>2</th>\n      <td>70.0</td>\n      <td>29.0</td>\n      <td>73.5000</td>\n      <td>15.0458</td>\n    </tr>\n    <tr>\n      <th>3</th>\n      <td>74.0</td>\n      <td>24.0</td>\n      <td>69.5500</td>\n      <td>8.0500</td>\n    </tr>\n  </tbody>\n</table>\n</div>"
     },
     "metadata": {},
     "execution_count": 98
    }
   ],
   "source": [
    "#your code\n",
    "by_class = titanic.groupby('pclass').agg({'age':['max', 'median'], 'fare':['max', 'median']})\n",
    "by_class"
   ]
  },
  {
   "cell_type": "markdown",
   "metadata": {},
   "source": [
    "22. Print the maximum age in each class from `by_class`"
   ]
  },
  {
   "cell_type": "code",
   "execution_count": 99,
   "metadata": {},
   "outputs": [
    {
     "output_type": "execute_result",
     "data": {
      "text/plain": [
       "pclass\n",
       "1    80.0\n",
       "2    70.0\n",
       "3    74.0\n",
       "Name: max, dtype: float64"
      ]
     },
     "metadata": {},
     "execution_count": 99
    }
   ],
   "source": [
    "#your code\n",
    "by_class['age']['max']"
   ]
  },
  {
   "cell_type": "markdown",
   "metadata": {},
   "source": [
    "23. Print the median fare in each class from `by_class`"
   ]
  },
  {
   "cell_type": "code",
   "execution_count": 100,
   "metadata": {},
   "outputs": [
    {
     "output_type": "execute_result",
     "data": {
      "text/plain": [
       "pclass\n",
       "1    60.0000\n",
       "2    15.0458\n",
       "3     8.0500\n",
       "Name: median, dtype: float64"
      ]
     },
     "metadata": {},
     "execution_count": 100
    }
   ],
   "source": [
    "#your code\n",
    "by_class['fare']['median']"
   ]
  },
  {
   "cell_type": "markdown",
   "metadata": {},
   "source": [
    "24. Using [`.pivot_table()`](https://pandas.pydata.org/pandas-docs/stable/reference/api/pandas.pivot_table.html) to count how many women or men survived by class, call it `counted`.\n",
    "\n",
    "Don't panic and read the documentation!\n",
    "\n",
    "\n"
   ]
  },
  {
   "cell_type": "code",
   "execution_count": 101,
   "metadata": {},
   "outputs": [
    {
     "output_type": "execute_result",
     "data": {
      "text/plain": [
       "gender  female  male\n",
       "pclass              \n",
       "1          139    61\n",
       "2           94    25\n",
       "3          106    75"
      ],
      "text/html": "<div>\n<style scoped>\n    .dataframe tbody tr th:only-of-type {\n        vertical-align: middle;\n    }\n\n    .dataframe tbody tr th {\n        vertical-align: top;\n    }\n\n    .dataframe thead th {\n        text-align: right;\n    }\n</style>\n<table border=\"1\" class=\"dataframe\">\n  <thead>\n    <tr style=\"text-align: right;\">\n      <th>gender</th>\n      <th>female</th>\n      <th>male</th>\n    </tr>\n    <tr>\n      <th>pclass</th>\n      <th></th>\n      <th></th>\n    </tr>\n  </thead>\n  <tbody>\n    <tr>\n      <th>1</th>\n      <td>139</td>\n      <td>61</td>\n    </tr>\n    <tr>\n      <th>2</th>\n      <td>94</td>\n      <td>25</td>\n    </tr>\n    <tr>\n      <th>3</th>\n      <td>106</td>\n      <td>75</td>\n    </tr>\n  </tbody>\n</table>\n</div>"
     },
     "metadata": {},
     "execution_count": 101
    }
   ],
   "source": [
    "#your code\n",
    "counted = pd.pivot_table(titanic, values='survived', index=['pclass'], columns=['gender'], aggfunc=np.sum)\n",
    "counted"
   ]
  },
  {
   "cell_type": "markdown",
   "metadata": {},
   "source": [
    "25. Add a new column with the sum of survived men and women, call it `counted['total']` \n"
   ]
  },
  {
   "cell_type": "code",
   "execution_count": 102,
   "metadata": {},
   "outputs": [
    {
     "output_type": "execute_result",
     "data": {
      "text/plain": [
       "gender  female  male  total\n",
       "pclass                     \n",
       "1          139    61    200\n",
       "2           94    25    119\n",
       "3          106    75    181"
      ],
      "text/html": "<div>\n<style scoped>\n    .dataframe tbody tr th:only-of-type {\n        vertical-align: middle;\n    }\n\n    .dataframe tbody tr th {\n        vertical-align: top;\n    }\n\n    .dataframe thead th {\n        text-align: right;\n    }\n</style>\n<table border=\"1\" class=\"dataframe\">\n  <thead>\n    <tr style=\"text-align: right;\">\n      <th>gender</th>\n      <th>female</th>\n      <th>male</th>\n      <th>total</th>\n    </tr>\n    <tr>\n      <th>pclass</th>\n      <th></th>\n      <th></th>\n      <th></th>\n    </tr>\n  </thead>\n  <tbody>\n    <tr>\n      <th>1</th>\n      <td>139</td>\n      <td>61</td>\n      <td>200</td>\n    </tr>\n    <tr>\n      <th>2</th>\n      <td>94</td>\n      <td>25</td>\n      <td>119</td>\n    </tr>\n    <tr>\n      <th>3</th>\n      <td>106</td>\n      <td>75</td>\n      <td>181</td>\n    </tr>\n  </tbody>\n</table>\n</div>"
     },
     "metadata": {},
     "execution_count": 102
    }
   ],
   "source": [
    "#your code\n",
    "counted['total'] = counted.female + counted.male\n",
    "counted"
   ]
  },
  {
   "cell_type": "markdown",
   "metadata": {},
   "source": [
    "26. Sort `counted` by the `'total'` column. In which class the people survived the more?"
   ]
  },
  {
   "cell_type": "code",
   "execution_count": 103,
   "metadata": {},
   "outputs": [
    {
     "output_type": "execute_result",
     "data": {
      "text/plain": [
       "gender  female  male  total\n",
       "pclass                     \n",
       "1          139    61    200"
      ],
      "text/html": "<div>\n<style scoped>\n    .dataframe tbody tr th:only-of-type {\n        vertical-align: middle;\n    }\n\n    .dataframe tbody tr th {\n        vertical-align: top;\n    }\n\n    .dataframe thead th {\n        text-align: right;\n    }\n</style>\n<table border=\"1\" class=\"dataframe\">\n  <thead>\n    <tr style=\"text-align: right;\">\n      <th>gender</th>\n      <th>female</th>\n      <th>male</th>\n      <th>total</th>\n    </tr>\n    <tr>\n      <th>pclass</th>\n      <th></th>\n      <th></th>\n      <th></th>\n    </tr>\n  </thead>\n  <tbody>\n    <tr>\n      <th>1</th>\n      <td>139</td>\n      <td>61</td>\n      <td>200</td>\n    </tr>\n  </tbody>\n</table>\n</div>"
     },
     "metadata": {},
     "execution_count": 103
    }
   ],
   "source": [
    "#your code\n",
    "counted.sort_values('total', ascending=False).head(1)"
   ]
  },
  {
   "cell_type": "markdown",
   "metadata": {},
   "source": [
    "27. Please, show only the rows using a mask with the following conditions: \n",
    "    - They are woman\n",
    "    - From third class\n",
    "    - Younger than 30\n",
    "    - They survived\n",
    "    \n",
    "    ¿How many rows fulfill the condition?"
   ]
  },
  {
   "cell_type": "code",
   "execution_count": 115,
   "metadata": {},
   "outputs": [
    {
     "output_type": "execute_result",
     "data": {
      "text/plain": [
       "      pclass  survived                                               name  \\\n",
       "604        3         1                        Abelseth, Miss. Karen Marie   \n",
       "607        3         1          Abrahim, Mrs. Joseph (Sophie Halaut Easu)   \n",
       "612        3         1                         Aks, Mrs. Sam (Leah Rosen)   \n",
       "621        3         1    Andersen-Jensen, Miss. Carla Christine Nielsine   \n",
       "625        3         1                    Andersson, Miss. Erna Alexandra   \n",
       "643        3         1                     Asplund, Miss. Lillian Gertrud   \n",
       "653        3         1                               Ayoub, Miss. Banoura   \n",
       "657        3         1                             Baclini, Miss. Eugenie   \n",
       "658        3         1                      Baclini, Miss. Helene Barbara   \n",
       "659        3         1                     Baclini, Miss. Marie Catherine   \n",
       "660        3         1              Baclini, Mrs. Solomon (Latifa Qurban)   \n",
       "661        3         1                         Badman, Miss. Emily Louisa   \n",
       "686        3         1                       Bradley, Miss. Bridget Delia   \n",
       "709        3         1                          Carr, Miss. Helen \"Ellen\"   \n",
       "725        3         1                               Connolly, Miss. Kate   \n",
       "738        3         1                           Cribb, Miss. Laura Alice   \n",
       "763        3         1            Dean, Miss. Elizabeth Gladys \"Millvina\"   \n",
       "771        3         1                      Devaney, Miss. Margaret Delia   \n",
       "780        3         1                              Drapkin, Miss. Jennie   \n",
       "785        3         1  Dyker, Mrs. Adolf Fredrik (Anna Elisabeth Judi...   \n",
       "794        3         1                      Emanuel, Miss. Virginia Ethel   \n",
       "818        3         1                   Gilnagh, Miss. Katherine \"Katie\"   \n",
       "845        3         1  Hakkarainen, Mrs. Pekka Pietari (Elin Matilda ...   \n",
       "860        3         1                             Heikkinen, Miss. Laina   \n",
       "862        3         1                       Hellstrom, Miss. Hilda Maria   \n",
       "866        3         1                           Hirvonen, Miss. Hildur E   \n",
       "867        3         1       Hirvonen, Mrs. Alexander (Helga E Lindqvist)   \n",
       "870        3         1                             Honkanen, Miss. Eliina   \n",
       "895        3         1                       Johnson, Miss. Eleanor Ileen   \n",
       "899        3         1  Johnson, Mrs. Oscar W (Elisabeth Vilhelmina Berg)   \n",
       "916        3         1                                 Karun, Miss. Manca   \n",
       "934        3         1                Kink-Heilmann, Miss. Luise Gretchen   \n",
       "936        3         1         Kink-Heilmann, Mrs. Anton (Luise Heilmann)   \n",
       "947        3         1                    Landergren, Miss. Aurora Adelia   \n",
       "980        3         1                           Lundin, Miss. Olga Elida   \n",
       "1007       3         1                        McGowan, Miss. Anna \"Annie\"   \n",
       "1026       3         1                                 Moor, Mrs. (Beila)   \n",
       "1040       3         1                          Mulvihill, Miss. Bertha E   \n",
       "1047       3         1                   Najib, Miss. Adele Kiamie \"Jane\"   \n",
       "1048       3         1                        Nakid, Miss. Maria (\"Mary\")   \n",
       "1050       3         1              Nakid, Mrs. Said (Waika \"Mary\" Mowad)   \n",
       "1057       3         1                        Nicola-Yarred, Miss. Jamila   \n",
       "1060       3         1                        Nilsson, Miss. Berta Olivia   \n",
       "1061       3         1                    Nilsson, Miss. Helmina Josefina   \n",
       "1067       3         1                           Nysten, Miss. Anna Sofia   \n",
       "1079       3         1                                 Ohman, Miss. Velin   \n",
       "1182       3         1                   Salkjelsvik, Miss. Anna Kristine   \n",
       "1187       3         1                    Sandstrom, Miss. Beatrice Irene   \n",
       "1188       3         1  Sandstrom, Mrs. Hjalmar (Agnes Charlotta Bengt...   \n",
       "1189       3         1                    Sandstrom, Miss. Marguerite Rut   \n",
       "1205       3         1                          Sjoblom, Miss. Anna Sofia   \n",
       "1223       3         1                    Stanley, Miss. Amy Zillah Elsie   \n",
       "1244       3         1          Thomas, Mrs. Alexander (Thamine \"Thelma\")   \n",
       "1257       3         1                         Touma, Miss. Maria Youssef   \n",
       "1258       3         1            Touma, Mrs. Darwis (Hanne Youssef Razi)   \n",
       "1260       3         1                            Turja, Miss. Anna Sofia   \n",
       "1300       3         1            Yasbeck, Mrs. Antoni (Selini Alexander)   \n",
       "\n",
       "      gender    age  sibsp  parch            ticket     fare cabin embarked  \\\n",
       "604   female  16.00      0      0            348125   7.6500   NaN        S   \n",
       "607   female  18.00      0      0              2657   7.2292   NaN        C   \n",
       "612   female  18.00      0      1            392091   9.3500   NaN        S   \n",
       "621   female  19.00      1      0            350046   7.8542   NaN        S   \n",
       "625   female  17.00      4      2           3101281   7.9250   NaN        S   \n",
       "643   female   5.00      4      2            347077  31.3875   NaN        S   \n",
       "653   female  13.00      0      0              2687   7.2292   NaN        C   \n",
       "657   female   0.75      2      1              2666  19.2583   NaN        C   \n",
       "658   female   0.75      2      1              2666  19.2583   NaN        C   \n",
       "659   female   5.00      2      1              2666  19.2583   NaN        C   \n",
       "660   female  24.00      0      3              2666  19.2583   NaN        C   \n",
       "661   female  18.00      0      0         A/4 31416   8.0500   NaN        S   \n",
       "686   female  22.00      0      0            334914   7.7250   NaN        Q   \n",
       "709   female  16.00      0      0            367231   7.7500   NaN        Q   \n",
       "725   female  22.00      0      0            370373   7.7500   NaN        Q   \n",
       "738   female  17.00      0      1            371362  16.1000   NaN        S   \n",
       "763   female   0.17      1      2         C.A. 2315  20.5750   NaN        S   \n",
       "771   female  19.00      0      0            330958   7.8792   NaN        Q   \n",
       "780   female  23.00      0      0   SOTON/OQ 392083   8.0500   NaN        S   \n",
       "785   female  22.00      1      0            347072  13.9000   NaN        S   \n",
       "794   female   5.00      0      0            364516  12.4750   NaN        S   \n",
       "818   female  16.00      0      0             35851   7.7333   NaN        Q   \n",
       "845   female  24.00      1      0  STON/O2. 3101279  15.8500   NaN        S   \n",
       "860   female  26.00      0      0  STON/O2. 3101282   7.9250   NaN        S   \n",
       "862   female  22.00      0      0              7548   8.9625   NaN        S   \n",
       "866   female   2.00      0      1           3101298  12.2875   NaN        S   \n",
       "867   female  22.00      1      1           3101298  12.2875   NaN        S   \n",
       "870   female  27.00      0      0  STON/O2. 3101283   7.9250   NaN        S   \n",
       "895   female   1.00      1      1            347742  11.1333   NaN        S   \n",
       "899   female  27.00      0      2            347742  11.1333   NaN        S   \n",
       "916   female   4.00      0      1            349256  13.4167   NaN        C   \n",
       "934   female   4.00      0      2            315153  22.0250   NaN        S   \n",
       "936   female  26.00      1      1            315153  22.0250   NaN        S   \n",
       "947   female  22.00      0      0            C 7077   7.2500   NaN        S   \n",
       "980   female  23.00      0      0            347469   7.8542   NaN        S   \n",
       "1007  female  15.00      0      0            330923   8.0292   NaN        Q   \n",
       "1026  female  27.00      0      1            392096  12.4750  E121        S   \n",
       "1040  female  24.00      0      0            382653   7.7500   NaN        Q   \n",
       "1047  female  15.00      0      0              2667   7.2250   NaN        C   \n",
       "1048  female   1.00      0      2              2653  15.7417   NaN        C   \n",
       "1050  female  19.00      1      1              2653  15.7417   NaN        C   \n",
       "1057  female  14.00      1      0              2651  11.2417   NaN        C   \n",
       "1060  female  18.00      0      0            347066   7.7750   NaN        S   \n",
       "1061  female  26.00      0      0            347470   7.8542   NaN        S   \n",
       "1067  female  22.00      0      0            347081   7.7500   NaN        S   \n",
       "1079  female  22.00      0      0            347085   7.7750   NaN        S   \n",
       "1182  female  21.00      0      0            343120   7.6500   NaN        S   \n",
       "1187  female   1.00      1      1           PP 9549  16.7000    G6        S   \n",
       "1188  female  24.00      0      2           PP 9549  16.7000    G6        S   \n",
       "1189  female   4.00      1      1           PP 9549  16.7000    G6        S   \n",
       "1205  female  18.00      0      0           3101265   7.4958   NaN        S   \n",
       "1223  female  23.00      0      0          CA. 2314   7.5500   NaN        S   \n",
       "1244  female  16.00      1      1              2625   8.5167   NaN        C   \n",
       "1257  female   9.00      1      1              2650  15.2458   NaN        C   \n",
       "1258  female  29.00      0      2              2650  15.2458   NaN        C   \n",
       "1260  female  18.00      0      0              4138   9.8417   NaN        S   \n",
       "1300  female  15.00      1      0              2659  14.4542   NaN        C   \n",
       "\n",
       "     boat  body                                          home.dest  \n",
       "604    16   NaN                             Norway Los Angeles, CA  \n",
       "607     C   NaN                                     Greensburg, PA  \n",
       "612    13   NaN                        London, England Norfolk, VA  \n",
       "621    16   NaN                                                NaN  \n",
       "625     D   NaN               Ruotsinphyhtaa, Finland New York, NY  \n",
       "643    15   NaN                               Sweden Worcester, MA  \n",
       "653     C   NaN                               Syria Youngstown, OH  \n",
       "657     C   NaN                                 Syria New York, NY  \n",
       "658     C   NaN                                 Syria New York, NY  \n",
       "659     C   NaN                                 Syria New York, NY  \n",
       "660     C   NaN                                 Syria New York, NY  \n",
       "661     C   NaN                              London Skanteales, NY  \n",
       "686    13   NaN  Kingwilliamstown, Co Cork, Ireland Glens Falls...  \n",
       "709    16   NaN                  Co Longford, Ireland New York, NY  \n",
       "725    13   NaN                                            Ireland  \n",
       "738    12   NaN                    Bournemouth, England Newark, NJ  \n",
       "763    10   NaN                         Devon, England Wichita, KS  \n",
       "771     C   NaN         Kilmacowen, Co Sligo, Ireland New York, NY  \n",
       "780   NaN   NaN                                London New York, NY  \n",
       "785    16   NaN                                     West Haven, CT  \n",
       "794    13   NaN                                       New York, NY  \n",
       "818    16   NaN                  Co Longford, Ireland New York, NY  \n",
       "845    15   NaN                                                NaN  \n",
       "860   NaN   NaN                                                NaN  \n",
       "862     C   NaN                                                NaN  \n",
       "866    15   NaN                                                NaN  \n",
       "867    15   NaN                                                NaN  \n",
       "870   NaN   NaN                                                NaN  \n",
       "895    15   NaN                                                NaN  \n",
       "899    15   NaN                                                NaN  \n",
       "916    15   NaN                                                NaN  \n",
       "934     2   NaN                                                NaN  \n",
       "936     2   NaN                                                NaN  \n",
       "947    13   NaN                                                NaN  \n",
       "980    10   NaN                                                NaN  \n",
       "1007  NaN   NaN                                                NaN  \n",
       "1026   14   NaN                                                NaN  \n",
       "1040   15   NaN                                                NaN  \n",
       "1047    C   NaN                                                NaN  \n",
       "1048    C   NaN                                                NaN  \n",
       "1050    C   NaN                                                NaN  \n",
       "1057    C   NaN                                                NaN  \n",
       "1060    D   NaN                                                NaN  \n",
       "1061   13   NaN                                                NaN  \n",
       "1067   13   NaN                                                NaN  \n",
       "1079    C   NaN                                                NaN  \n",
       "1182    C   NaN                                                NaN  \n",
       "1187   13   NaN                                                NaN  \n",
       "1188   13   NaN                                                NaN  \n",
       "1189   13   NaN                                                NaN  \n",
       "1205   16   NaN                                                NaN  \n",
       "1223    C   NaN                                                NaN  \n",
       "1244   14   NaN                                                NaN  \n",
       "1257    C   NaN                                                NaN  \n",
       "1258    C   NaN                                                NaN  \n",
       "1260   15   NaN                                                NaN  \n",
       "1300  NaN   NaN                                                NaN  "
      ],
      "text/html": "<div>\n<style scoped>\n    .dataframe tbody tr th:only-of-type {\n        vertical-align: middle;\n    }\n\n    .dataframe tbody tr th {\n        vertical-align: top;\n    }\n\n    .dataframe thead th {\n        text-align: right;\n    }\n</style>\n<table border=\"1\" class=\"dataframe\">\n  <thead>\n    <tr style=\"text-align: right;\">\n      <th></th>\n      <th>pclass</th>\n      <th>survived</th>\n      <th>name</th>\n      <th>gender</th>\n      <th>age</th>\n      <th>sibsp</th>\n      <th>parch</th>\n      <th>ticket</th>\n      <th>fare</th>\n      <th>cabin</th>\n      <th>embarked</th>\n      <th>boat</th>\n      <th>body</th>\n      <th>home.dest</th>\n    </tr>\n  </thead>\n  <tbody>\n    <tr>\n      <th>604</th>\n      <td>3</td>\n      <td>1</td>\n      <td>Abelseth, Miss. Karen Marie</td>\n      <td>female</td>\n      <td>16.00</td>\n      <td>0</td>\n      <td>0</td>\n      <td>348125</td>\n      <td>7.6500</td>\n      <td>NaN</td>\n      <td>S</td>\n      <td>16</td>\n      <td>NaN</td>\n      <td>Norway Los Angeles, CA</td>\n    </tr>\n    <tr>\n      <th>607</th>\n      <td>3</td>\n      <td>1</td>\n      <td>Abrahim, Mrs. Joseph (Sophie Halaut Easu)</td>\n      <td>female</td>\n      <td>18.00</td>\n      <td>0</td>\n      <td>0</td>\n      <td>2657</td>\n      <td>7.2292</td>\n      <td>NaN</td>\n      <td>C</td>\n      <td>C</td>\n      <td>NaN</td>\n      <td>Greensburg, PA</td>\n    </tr>\n    <tr>\n      <th>612</th>\n      <td>3</td>\n      <td>1</td>\n      <td>Aks, Mrs. Sam (Leah Rosen)</td>\n      <td>female</td>\n      <td>18.00</td>\n      <td>0</td>\n      <td>1</td>\n      <td>392091</td>\n      <td>9.3500</td>\n      <td>NaN</td>\n      <td>S</td>\n      <td>13</td>\n      <td>NaN</td>\n      <td>London, England Norfolk, VA</td>\n    </tr>\n    <tr>\n      <th>621</th>\n      <td>3</td>\n      <td>1</td>\n      <td>Andersen-Jensen, Miss. Carla Christine Nielsine</td>\n      <td>female</td>\n      <td>19.00</td>\n      <td>1</td>\n      <td>0</td>\n      <td>350046</td>\n      <td>7.8542</td>\n      <td>NaN</td>\n      <td>S</td>\n      <td>16</td>\n      <td>NaN</td>\n      <td>NaN</td>\n    </tr>\n    <tr>\n      <th>625</th>\n      <td>3</td>\n      <td>1</td>\n      <td>Andersson, Miss. Erna Alexandra</td>\n      <td>female</td>\n      <td>17.00</td>\n      <td>4</td>\n      <td>2</td>\n      <td>3101281</td>\n      <td>7.9250</td>\n      <td>NaN</td>\n      <td>S</td>\n      <td>D</td>\n      <td>NaN</td>\n      <td>Ruotsinphyhtaa, Finland New York, NY</td>\n    </tr>\n    <tr>\n      <th>643</th>\n      <td>3</td>\n      <td>1</td>\n      <td>Asplund, Miss. Lillian Gertrud</td>\n      <td>female</td>\n      <td>5.00</td>\n      <td>4</td>\n      <td>2</td>\n      <td>347077</td>\n      <td>31.3875</td>\n      <td>NaN</td>\n      <td>S</td>\n      <td>15</td>\n      <td>NaN</td>\n      <td>Sweden Worcester, MA</td>\n    </tr>\n    <tr>\n      <th>653</th>\n      <td>3</td>\n      <td>1</td>\n      <td>Ayoub, Miss. Banoura</td>\n      <td>female</td>\n      <td>13.00</td>\n      <td>0</td>\n      <td>0</td>\n      <td>2687</td>\n      <td>7.2292</td>\n      <td>NaN</td>\n      <td>C</td>\n      <td>C</td>\n      <td>NaN</td>\n      <td>Syria Youngstown, OH</td>\n    </tr>\n    <tr>\n      <th>657</th>\n      <td>3</td>\n      <td>1</td>\n      <td>Baclini, Miss. Eugenie</td>\n      <td>female</td>\n      <td>0.75</td>\n      <td>2</td>\n      <td>1</td>\n      <td>2666</td>\n      <td>19.2583</td>\n      <td>NaN</td>\n      <td>C</td>\n      <td>C</td>\n      <td>NaN</td>\n      <td>Syria New York, NY</td>\n    </tr>\n    <tr>\n      <th>658</th>\n      <td>3</td>\n      <td>1</td>\n      <td>Baclini, Miss. Helene Barbara</td>\n      <td>female</td>\n      <td>0.75</td>\n      <td>2</td>\n      <td>1</td>\n      <td>2666</td>\n      <td>19.2583</td>\n      <td>NaN</td>\n      <td>C</td>\n      <td>C</td>\n      <td>NaN</td>\n      <td>Syria New York, NY</td>\n    </tr>\n    <tr>\n      <th>659</th>\n      <td>3</td>\n      <td>1</td>\n      <td>Baclini, Miss. Marie Catherine</td>\n      <td>female</td>\n      <td>5.00</td>\n      <td>2</td>\n      <td>1</td>\n      <td>2666</td>\n      <td>19.2583</td>\n      <td>NaN</td>\n      <td>C</td>\n      <td>C</td>\n      <td>NaN</td>\n      <td>Syria New York, NY</td>\n    </tr>\n    <tr>\n      <th>660</th>\n      <td>3</td>\n      <td>1</td>\n      <td>Baclini, Mrs. Solomon (Latifa Qurban)</td>\n      <td>female</td>\n      <td>24.00</td>\n      <td>0</td>\n      <td>3</td>\n      <td>2666</td>\n      <td>19.2583</td>\n      <td>NaN</td>\n      <td>C</td>\n      <td>C</td>\n      <td>NaN</td>\n      <td>Syria New York, NY</td>\n    </tr>\n    <tr>\n      <th>661</th>\n      <td>3</td>\n      <td>1</td>\n      <td>Badman, Miss. Emily Louisa</td>\n      <td>female</td>\n      <td>18.00</td>\n      <td>0</td>\n      <td>0</td>\n      <td>A/4 31416</td>\n      <td>8.0500</td>\n      <td>NaN</td>\n      <td>S</td>\n      <td>C</td>\n      <td>NaN</td>\n      <td>London Skanteales, NY</td>\n    </tr>\n    <tr>\n      <th>686</th>\n      <td>3</td>\n      <td>1</td>\n      <td>Bradley, Miss. Bridget Delia</td>\n      <td>female</td>\n      <td>22.00</td>\n      <td>0</td>\n      <td>0</td>\n      <td>334914</td>\n      <td>7.7250</td>\n      <td>NaN</td>\n      <td>Q</td>\n      <td>13</td>\n      <td>NaN</td>\n      <td>Kingwilliamstown, Co Cork, Ireland Glens Falls...</td>\n    </tr>\n    <tr>\n      <th>709</th>\n      <td>3</td>\n      <td>1</td>\n      <td>Carr, Miss. Helen \"Ellen\"</td>\n      <td>female</td>\n      <td>16.00</td>\n      <td>0</td>\n      <td>0</td>\n      <td>367231</td>\n      <td>7.7500</td>\n      <td>NaN</td>\n      <td>Q</td>\n      <td>16</td>\n      <td>NaN</td>\n      <td>Co Longford, Ireland New York, NY</td>\n    </tr>\n    <tr>\n      <th>725</th>\n      <td>3</td>\n      <td>1</td>\n      <td>Connolly, Miss. Kate</td>\n      <td>female</td>\n      <td>22.00</td>\n      <td>0</td>\n      <td>0</td>\n      <td>370373</td>\n      <td>7.7500</td>\n      <td>NaN</td>\n      <td>Q</td>\n      <td>13</td>\n      <td>NaN</td>\n      <td>Ireland</td>\n    </tr>\n    <tr>\n      <th>738</th>\n      <td>3</td>\n      <td>1</td>\n      <td>Cribb, Miss. Laura Alice</td>\n      <td>female</td>\n      <td>17.00</td>\n      <td>0</td>\n      <td>1</td>\n      <td>371362</td>\n      <td>16.1000</td>\n      <td>NaN</td>\n      <td>S</td>\n      <td>12</td>\n      <td>NaN</td>\n      <td>Bournemouth, England Newark, NJ</td>\n    </tr>\n    <tr>\n      <th>763</th>\n      <td>3</td>\n      <td>1</td>\n      <td>Dean, Miss. Elizabeth Gladys \"Millvina\"</td>\n      <td>female</td>\n      <td>0.17</td>\n      <td>1</td>\n      <td>2</td>\n      <td>C.A. 2315</td>\n      <td>20.5750</td>\n      <td>NaN</td>\n      <td>S</td>\n      <td>10</td>\n      <td>NaN</td>\n      <td>Devon, England Wichita, KS</td>\n    </tr>\n    <tr>\n      <th>771</th>\n      <td>3</td>\n      <td>1</td>\n      <td>Devaney, Miss. Margaret Delia</td>\n      <td>female</td>\n      <td>19.00</td>\n      <td>0</td>\n      <td>0</td>\n      <td>330958</td>\n      <td>7.8792</td>\n      <td>NaN</td>\n      <td>Q</td>\n      <td>C</td>\n      <td>NaN</td>\n      <td>Kilmacowen, Co Sligo, Ireland New York, NY</td>\n    </tr>\n    <tr>\n      <th>780</th>\n      <td>3</td>\n      <td>1</td>\n      <td>Drapkin, Miss. Jennie</td>\n      <td>female</td>\n      <td>23.00</td>\n      <td>0</td>\n      <td>0</td>\n      <td>SOTON/OQ 392083</td>\n      <td>8.0500</td>\n      <td>NaN</td>\n      <td>S</td>\n      <td>NaN</td>\n      <td>NaN</td>\n      <td>London New York, NY</td>\n    </tr>\n    <tr>\n      <th>785</th>\n      <td>3</td>\n      <td>1</td>\n      <td>Dyker, Mrs. Adolf Fredrik (Anna Elisabeth Judi...</td>\n      <td>female</td>\n      <td>22.00</td>\n      <td>1</td>\n      <td>0</td>\n      <td>347072</td>\n      <td>13.9000</td>\n      <td>NaN</td>\n      <td>S</td>\n      <td>16</td>\n      <td>NaN</td>\n      <td>West Haven, CT</td>\n    </tr>\n    <tr>\n      <th>794</th>\n      <td>3</td>\n      <td>1</td>\n      <td>Emanuel, Miss. Virginia Ethel</td>\n      <td>female</td>\n      <td>5.00</td>\n      <td>0</td>\n      <td>0</td>\n      <td>364516</td>\n      <td>12.4750</td>\n      <td>NaN</td>\n      <td>S</td>\n      <td>13</td>\n      <td>NaN</td>\n      <td>New York, NY</td>\n    </tr>\n    <tr>\n      <th>818</th>\n      <td>3</td>\n      <td>1</td>\n      <td>Gilnagh, Miss. Katherine \"Katie\"</td>\n      <td>female</td>\n      <td>16.00</td>\n      <td>0</td>\n      <td>0</td>\n      <td>35851</td>\n      <td>7.7333</td>\n      <td>NaN</td>\n      <td>Q</td>\n      <td>16</td>\n      <td>NaN</td>\n      <td>Co Longford, Ireland New York, NY</td>\n    </tr>\n    <tr>\n      <th>845</th>\n      <td>3</td>\n      <td>1</td>\n      <td>Hakkarainen, Mrs. Pekka Pietari (Elin Matilda ...</td>\n      <td>female</td>\n      <td>24.00</td>\n      <td>1</td>\n      <td>0</td>\n      <td>STON/O2. 3101279</td>\n      <td>15.8500</td>\n      <td>NaN</td>\n      <td>S</td>\n      <td>15</td>\n      <td>NaN</td>\n      <td>NaN</td>\n    </tr>\n    <tr>\n      <th>860</th>\n      <td>3</td>\n      <td>1</td>\n      <td>Heikkinen, Miss. Laina</td>\n      <td>female</td>\n      <td>26.00</td>\n      <td>0</td>\n      <td>0</td>\n      <td>STON/O2. 3101282</td>\n      <td>7.9250</td>\n      <td>NaN</td>\n      <td>S</td>\n      <td>NaN</td>\n      <td>NaN</td>\n      <td>NaN</td>\n    </tr>\n    <tr>\n      <th>862</th>\n      <td>3</td>\n      <td>1</td>\n      <td>Hellstrom, Miss. Hilda Maria</td>\n      <td>female</td>\n      <td>22.00</td>\n      <td>0</td>\n      <td>0</td>\n      <td>7548</td>\n      <td>8.9625</td>\n      <td>NaN</td>\n      <td>S</td>\n      <td>C</td>\n      <td>NaN</td>\n      <td>NaN</td>\n    </tr>\n    <tr>\n      <th>866</th>\n      <td>3</td>\n      <td>1</td>\n      <td>Hirvonen, Miss. Hildur E</td>\n      <td>female</td>\n      <td>2.00</td>\n      <td>0</td>\n      <td>1</td>\n      <td>3101298</td>\n      <td>12.2875</td>\n      <td>NaN</td>\n      <td>S</td>\n      <td>15</td>\n      <td>NaN</td>\n      <td>NaN</td>\n    </tr>\n    <tr>\n      <th>867</th>\n      <td>3</td>\n      <td>1</td>\n      <td>Hirvonen, Mrs. Alexander (Helga E Lindqvist)</td>\n      <td>female</td>\n      <td>22.00</td>\n      <td>1</td>\n      <td>1</td>\n      <td>3101298</td>\n      <td>12.2875</td>\n      <td>NaN</td>\n      <td>S</td>\n      <td>15</td>\n      <td>NaN</td>\n      <td>NaN</td>\n    </tr>\n    <tr>\n      <th>870</th>\n      <td>3</td>\n      <td>1</td>\n      <td>Honkanen, Miss. Eliina</td>\n      <td>female</td>\n      <td>27.00</td>\n      <td>0</td>\n      <td>0</td>\n      <td>STON/O2. 3101283</td>\n      <td>7.9250</td>\n      <td>NaN</td>\n      <td>S</td>\n      <td>NaN</td>\n      <td>NaN</td>\n      <td>NaN</td>\n    </tr>\n    <tr>\n      <th>895</th>\n      <td>3</td>\n      <td>1</td>\n      <td>Johnson, Miss. Eleanor Ileen</td>\n      <td>female</td>\n      <td>1.00</td>\n      <td>1</td>\n      <td>1</td>\n      <td>347742</td>\n      <td>11.1333</td>\n      <td>NaN</td>\n      <td>S</td>\n      <td>15</td>\n      <td>NaN</td>\n      <td>NaN</td>\n    </tr>\n    <tr>\n      <th>899</th>\n      <td>3</td>\n      <td>1</td>\n      <td>Johnson, Mrs. Oscar W (Elisabeth Vilhelmina Berg)</td>\n      <td>female</td>\n      <td>27.00</td>\n      <td>0</td>\n      <td>2</td>\n      <td>347742</td>\n      <td>11.1333</td>\n      <td>NaN</td>\n      <td>S</td>\n      <td>15</td>\n      <td>NaN</td>\n      <td>NaN</td>\n    </tr>\n    <tr>\n      <th>916</th>\n      <td>3</td>\n      <td>1</td>\n      <td>Karun, Miss. Manca</td>\n      <td>female</td>\n      <td>4.00</td>\n      <td>0</td>\n      <td>1</td>\n      <td>349256</td>\n      <td>13.4167</td>\n      <td>NaN</td>\n      <td>C</td>\n      <td>15</td>\n      <td>NaN</td>\n      <td>NaN</td>\n    </tr>\n    <tr>\n      <th>934</th>\n      <td>3</td>\n      <td>1</td>\n      <td>Kink-Heilmann, Miss. Luise Gretchen</td>\n      <td>female</td>\n      <td>4.00</td>\n      <td>0</td>\n      <td>2</td>\n      <td>315153</td>\n      <td>22.0250</td>\n      <td>NaN</td>\n      <td>S</td>\n      <td>2</td>\n      <td>NaN</td>\n      <td>NaN</td>\n    </tr>\n    <tr>\n      <th>936</th>\n      <td>3</td>\n      <td>1</td>\n      <td>Kink-Heilmann, Mrs. Anton (Luise Heilmann)</td>\n      <td>female</td>\n      <td>26.00</td>\n      <td>1</td>\n      <td>1</td>\n      <td>315153</td>\n      <td>22.0250</td>\n      <td>NaN</td>\n      <td>S</td>\n      <td>2</td>\n      <td>NaN</td>\n      <td>NaN</td>\n    </tr>\n    <tr>\n      <th>947</th>\n      <td>3</td>\n      <td>1</td>\n      <td>Landergren, Miss. Aurora Adelia</td>\n      <td>female</td>\n      <td>22.00</td>\n      <td>0</td>\n      <td>0</td>\n      <td>C 7077</td>\n      <td>7.2500</td>\n      <td>NaN</td>\n      <td>S</td>\n      <td>13</td>\n      <td>NaN</td>\n      <td>NaN</td>\n    </tr>\n    <tr>\n      <th>980</th>\n      <td>3</td>\n      <td>1</td>\n      <td>Lundin, Miss. Olga Elida</td>\n      <td>female</td>\n      <td>23.00</td>\n      <td>0</td>\n      <td>0</td>\n      <td>347469</td>\n      <td>7.8542</td>\n      <td>NaN</td>\n      <td>S</td>\n      <td>10</td>\n      <td>NaN</td>\n      <td>NaN</td>\n    </tr>\n    <tr>\n      <th>1007</th>\n      <td>3</td>\n      <td>1</td>\n      <td>McGowan, Miss. Anna \"Annie\"</td>\n      <td>female</td>\n      <td>15.00</td>\n      <td>0</td>\n      <td>0</td>\n      <td>330923</td>\n      <td>8.0292</td>\n      <td>NaN</td>\n      <td>Q</td>\n      <td>NaN</td>\n      <td>NaN</td>\n      <td>NaN</td>\n    </tr>\n    <tr>\n      <th>1026</th>\n      <td>3</td>\n      <td>1</td>\n      <td>Moor, Mrs. (Beila)</td>\n      <td>female</td>\n      <td>27.00</td>\n      <td>0</td>\n      <td>1</td>\n      <td>392096</td>\n      <td>12.4750</td>\n      <td>E121</td>\n      <td>S</td>\n      <td>14</td>\n      <td>NaN</td>\n      <td>NaN</td>\n    </tr>\n    <tr>\n      <th>1040</th>\n      <td>3</td>\n      <td>1</td>\n      <td>Mulvihill, Miss. Bertha E</td>\n      <td>female</td>\n      <td>24.00</td>\n      <td>0</td>\n      <td>0</td>\n      <td>382653</td>\n      <td>7.7500</td>\n      <td>NaN</td>\n      <td>Q</td>\n      <td>15</td>\n      <td>NaN</td>\n      <td>NaN</td>\n    </tr>\n    <tr>\n      <th>1047</th>\n      <td>3</td>\n      <td>1</td>\n      <td>Najib, Miss. Adele Kiamie \"Jane\"</td>\n      <td>female</td>\n      <td>15.00</td>\n      <td>0</td>\n      <td>0</td>\n      <td>2667</td>\n      <td>7.2250</td>\n      <td>NaN</td>\n      <td>C</td>\n      <td>C</td>\n      <td>NaN</td>\n      <td>NaN</td>\n    </tr>\n    <tr>\n      <th>1048</th>\n      <td>3</td>\n      <td>1</td>\n      <td>Nakid, Miss. Maria (\"Mary\")</td>\n      <td>female</td>\n      <td>1.00</td>\n      <td>0</td>\n      <td>2</td>\n      <td>2653</td>\n      <td>15.7417</td>\n      <td>NaN</td>\n      <td>C</td>\n      <td>C</td>\n      <td>NaN</td>\n      <td>NaN</td>\n    </tr>\n    <tr>\n      <th>1050</th>\n      <td>3</td>\n      <td>1</td>\n      <td>Nakid, Mrs. Said (Waika \"Mary\" Mowad)</td>\n      <td>female</td>\n      <td>19.00</td>\n      <td>1</td>\n      <td>1</td>\n      <td>2653</td>\n      <td>15.7417</td>\n      <td>NaN</td>\n      <td>C</td>\n      <td>C</td>\n      <td>NaN</td>\n      <td>NaN</td>\n    </tr>\n    <tr>\n      <th>1057</th>\n      <td>3</td>\n      <td>1</td>\n      <td>Nicola-Yarred, Miss. Jamila</td>\n      <td>female</td>\n      <td>14.00</td>\n      <td>1</td>\n      <td>0</td>\n      <td>2651</td>\n      <td>11.2417</td>\n      <td>NaN</td>\n      <td>C</td>\n      <td>C</td>\n      <td>NaN</td>\n      <td>NaN</td>\n    </tr>\n    <tr>\n      <th>1060</th>\n      <td>3</td>\n      <td>1</td>\n      <td>Nilsson, Miss. Berta Olivia</td>\n      <td>female</td>\n      <td>18.00</td>\n      <td>0</td>\n      <td>0</td>\n      <td>347066</td>\n      <td>7.7750</td>\n      <td>NaN</td>\n      <td>S</td>\n      <td>D</td>\n      <td>NaN</td>\n      <td>NaN</td>\n    </tr>\n    <tr>\n      <th>1061</th>\n      <td>3</td>\n      <td>1</td>\n      <td>Nilsson, Miss. Helmina Josefina</td>\n      <td>female</td>\n      <td>26.00</td>\n      <td>0</td>\n      <td>0</td>\n      <td>347470</td>\n      <td>7.8542</td>\n      <td>NaN</td>\n      <td>S</td>\n      <td>13</td>\n      <td>NaN</td>\n      <td>NaN</td>\n    </tr>\n    <tr>\n      <th>1067</th>\n      <td>3</td>\n      <td>1</td>\n      <td>Nysten, Miss. Anna Sofia</td>\n      <td>female</td>\n      <td>22.00</td>\n      <td>0</td>\n      <td>0</td>\n      <td>347081</td>\n      <td>7.7500</td>\n      <td>NaN</td>\n      <td>S</td>\n      <td>13</td>\n      <td>NaN</td>\n      <td>NaN</td>\n    </tr>\n    <tr>\n      <th>1079</th>\n      <td>3</td>\n      <td>1</td>\n      <td>Ohman, Miss. Velin</td>\n      <td>female</td>\n      <td>22.00</td>\n      <td>0</td>\n      <td>0</td>\n      <td>347085</td>\n      <td>7.7750</td>\n      <td>NaN</td>\n      <td>S</td>\n      <td>C</td>\n      <td>NaN</td>\n      <td>NaN</td>\n    </tr>\n    <tr>\n      <th>1182</th>\n      <td>3</td>\n      <td>1</td>\n      <td>Salkjelsvik, Miss. Anna Kristine</td>\n      <td>female</td>\n      <td>21.00</td>\n      <td>0</td>\n      <td>0</td>\n      <td>343120</td>\n      <td>7.6500</td>\n      <td>NaN</td>\n      <td>S</td>\n      <td>C</td>\n      <td>NaN</td>\n      <td>NaN</td>\n    </tr>\n    <tr>\n      <th>1187</th>\n      <td>3</td>\n      <td>1</td>\n      <td>Sandstrom, Miss. Beatrice Irene</td>\n      <td>female</td>\n      <td>1.00</td>\n      <td>1</td>\n      <td>1</td>\n      <td>PP 9549</td>\n      <td>16.7000</td>\n      <td>G6</td>\n      <td>S</td>\n      <td>13</td>\n      <td>NaN</td>\n      <td>NaN</td>\n    </tr>\n    <tr>\n      <th>1188</th>\n      <td>3</td>\n      <td>1</td>\n      <td>Sandstrom, Mrs. Hjalmar (Agnes Charlotta Bengt...</td>\n      <td>female</td>\n      <td>24.00</td>\n      <td>0</td>\n      <td>2</td>\n      <td>PP 9549</td>\n      <td>16.7000</td>\n      <td>G6</td>\n      <td>S</td>\n      <td>13</td>\n      <td>NaN</td>\n      <td>NaN</td>\n    </tr>\n    <tr>\n      <th>1189</th>\n      <td>3</td>\n      <td>1</td>\n      <td>Sandstrom, Miss. Marguerite Rut</td>\n      <td>female</td>\n      <td>4.00</td>\n      <td>1</td>\n      <td>1</td>\n      <td>PP 9549</td>\n      <td>16.7000</td>\n      <td>G6</td>\n      <td>S</td>\n      <td>13</td>\n      <td>NaN</td>\n      <td>NaN</td>\n    </tr>\n    <tr>\n      <th>1205</th>\n      <td>3</td>\n      <td>1</td>\n      <td>Sjoblom, Miss. Anna Sofia</td>\n      <td>female</td>\n      <td>18.00</td>\n      <td>0</td>\n      <td>0</td>\n      <td>3101265</td>\n      <td>7.4958</td>\n      <td>NaN</td>\n      <td>S</td>\n      <td>16</td>\n      <td>NaN</td>\n      <td>NaN</td>\n    </tr>\n    <tr>\n      <th>1223</th>\n      <td>3</td>\n      <td>1</td>\n      <td>Stanley, Miss. Amy Zillah Elsie</td>\n      <td>female</td>\n      <td>23.00</td>\n      <td>0</td>\n      <td>0</td>\n      <td>CA. 2314</td>\n      <td>7.5500</td>\n      <td>NaN</td>\n      <td>S</td>\n      <td>C</td>\n      <td>NaN</td>\n      <td>NaN</td>\n    </tr>\n    <tr>\n      <th>1244</th>\n      <td>3</td>\n      <td>1</td>\n      <td>Thomas, Mrs. Alexander (Thamine \"Thelma\")</td>\n      <td>female</td>\n      <td>16.00</td>\n      <td>1</td>\n      <td>1</td>\n      <td>2625</td>\n      <td>8.5167</td>\n      <td>NaN</td>\n      <td>C</td>\n      <td>14</td>\n      <td>NaN</td>\n      <td>NaN</td>\n    </tr>\n    <tr>\n      <th>1257</th>\n      <td>3</td>\n      <td>1</td>\n      <td>Touma, Miss. Maria Youssef</td>\n      <td>female</td>\n      <td>9.00</td>\n      <td>1</td>\n      <td>1</td>\n      <td>2650</td>\n      <td>15.2458</td>\n      <td>NaN</td>\n      <td>C</td>\n      <td>C</td>\n      <td>NaN</td>\n      <td>NaN</td>\n    </tr>\n    <tr>\n      <th>1258</th>\n      <td>3</td>\n      <td>1</td>\n      <td>Touma, Mrs. Darwis (Hanne Youssef Razi)</td>\n      <td>female</td>\n      <td>29.00</td>\n      <td>0</td>\n      <td>2</td>\n      <td>2650</td>\n      <td>15.2458</td>\n      <td>NaN</td>\n      <td>C</td>\n      <td>C</td>\n      <td>NaN</td>\n      <td>NaN</td>\n    </tr>\n    <tr>\n      <th>1260</th>\n      <td>3</td>\n      <td>1</td>\n      <td>Turja, Miss. Anna Sofia</td>\n      <td>female</td>\n      <td>18.00</td>\n      <td>0</td>\n      <td>0</td>\n      <td>4138</td>\n      <td>9.8417</td>\n      <td>NaN</td>\n      <td>S</td>\n      <td>15</td>\n      <td>NaN</td>\n      <td>NaN</td>\n    </tr>\n    <tr>\n      <th>1300</th>\n      <td>3</td>\n      <td>1</td>\n      <td>Yasbeck, Mrs. Antoni (Selini Alexander)</td>\n      <td>female</td>\n      <td>15.00</td>\n      <td>1</td>\n      <td>0</td>\n      <td>2659</td>\n      <td>14.4542</td>\n      <td>NaN</td>\n      <td>C</td>\n      <td>NaN</td>\n      <td>NaN</td>\n      <td>NaN</td>\n    </tr>\n  </tbody>\n</table>\n</div>"
     },
     "metadata": {},
     "execution_count": 115
    }
   ],
   "source": [
    "#your code\n",
    "titanic[(titanic.gender == 'female') & (titanic.pclass == 3) & (titanic.age < 30) & (titanic.survived == 1)]"
   ]
  },
  {
   "cell_type": "code",
   "execution_count": 116,
   "metadata": {},
   "outputs": [
    {
     "output_type": "execute_result",
     "data": {
      "text/plain": [
       "57"
      ]
     },
     "metadata": {},
     "execution_count": 116
    }
   ],
   "source": [
    "len(titanic[(titanic.gender == 'female') & (titanic.pclass == 3) & (titanic.age < 30) & (titanic.survived == 1)])"
   ]
  },
  {
   "cell_type": "markdown",
   "metadata": {},
   "source": [
    "28. Now, show only the rows using `.loc` with the following conditions: \n",
    "    - They are man\n",
    "    - From first class\n",
    "    - Older than 50\n",
    "    - They died\n",
    "    \n",
    "    ¿How many rows fulfill the condition?"
   ]
  },
  {
   "cell_type": "code",
   "execution_count": 117,
   "metadata": {},
   "outputs": [
    {
     "output_type": "execute_result",
     "data": {
      "text/plain": [
       "     pclass  survived                            name gender   age  sibsp  \\\n",
       "9         1         0         Artagaveytia, Mr. Ramon   male  71.0      0   \n",
       "81        1         0    Crosby, Capt. Edward Gifford   male  70.0      1   \n",
       "115       1         0               Fortune, Mr. Mark   male  64.0      1   \n",
       "135       1         0       Goldschmidt, Mr. George B   male  71.0      0   \n",
       "154       1         0      Hays, Mr. Charles Melville   male  55.0      1   \n",
       "158       1         0     Hipkins, Mr. William Edward   male  55.0      0   \n",
       "174       1         0         Kent, Mr. Edward Austin   male  58.0      0   \n",
       "201       1         0         McCarthy, Mr. Timothy J   male  54.0      0   \n",
       "205       1         0       Millet, Mr. Francis Davis   male  65.0      0   \n",
       "210       1         0      Molson, Mr. Harry Markland   male  55.0      0   \n",
       "215       1         0      Newell, Mr. Arthur Webster   male  58.0      0   \n",
       "217       1         0    Nicholson, Mr. Arthur Ernest   male  64.0      0   \n",
       "221       1         0  Ostby, Mr. Engelhart Cornelius   male  65.0      0   \n",
       "246       1         0          Rothschild, Mr. Martin   male  55.0      1   \n",
       "252       1         0      Ryerson, Mr. Arthur Larned   male  61.0      1   \n",
       "266       1         0      Smart, Mr. John Montgomery   male  56.0      0   \n",
       "267       1         0         Smith, Mr. James Clinch   male  56.0      0   \n",
       "276       1         0   Spencer, Mr. William Augustus   male  57.0      1   \n",
       "279       1         0       Stead, Mr. William Thomas   male  62.0      0   \n",
       "285       1         0              Straus, Mr. Isidor   male  67.0      1   \n",
       "287       1         0           Sutton, Mr. Frederick   male  61.0      0   \n",
       "290       1         0               Taussig, Mr. Emil   male  52.0      1   \n",
       "300       1         0       Van der hoef, Mr. Wyckoff   male  61.0      0   \n",
       "303       1         0        Warren, Mr. Frank Manley   male  64.0      1   \n",
       "305       1         0                 Weir, Col. John   male  60.0      0   \n",
       "306       1         0     White, Mr. Percival Wayland   male  54.0      0   \n",
       "310       1         0        Wick, Mr. George Dennick   male  57.0      1   \n",
       "316       1         0     Williams, Mr. Charles Duane   male  51.0      0   \n",
       "321       1         0              Wright, Mr. George   male  62.0      0   \n",
       "\n",
       "     parch     ticket      fare            cabin embarked boat   body  \\\n",
       "9        0   PC 17609   49.5042              NaN        C  NaN   22.0   \n",
       "81       1  WE/P 5735   71.0000              B22        S  NaN  269.0   \n",
       "115      4      19950  263.0000      C23 C25 C27        S  NaN    NaN   \n",
       "135      0   PC 17754   34.6542               A5        C  NaN    NaN   \n",
       "154      1      12749   93.5000              B69        S  NaN  307.0   \n",
       "158      0        680   50.0000              C39        S  NaN    NaN   \n",
       "174      0      11771   29.7000              B37        C  NaN  258.0   \n",
       "201      0      17463   51.8625              E46        S  NaN  175.0   \n",
       "205      0      13509   26.5500              E38        S  NaN  249.0   \n",
       "210      0     113787   30.5000              C30        S  NaN    NaN   \n",
       "215      2      35273  113.2750              D48        C  NaN  122.0   \n",
       "217      0        693   26.0000              NaN        S  NaN  263.0   \n",
       "221      1     113509   61.9792              B30        C  NaN  234.0   \n",
       "246      0   PC 17603   59.4000              NaN        C  NaN    NaN   \n",
       "252      3   PC 17608  262.3750  B57 B59 B63 B66        C  NaN    NaN   \n",
       "266      0     113792   26.5500              NaN        S  NaN    NaN   \n",
       "267      0      17764   30.6958               A7        C  NaN    NaN   \n",
       "276      0   PC 17569  146.5208              B78        C  NaN    NaN   \n",
       "279      0     113514   26.5500              C87        S  NaN    NaN   \n",
       "285      0   PC 17483  221.7792          C55 C57        S  NaN   96.0   \n",
       "287      0      36963   32.3208              D50        S  NaN   46.0   \n",
       "290      1     110413   79.6500              E67        S  NaN    NaN   \n",
       "300      0     111240   33.5000              B19        S  NaN  245.0   \n",
       "303      0     110813   75.2500              D37        C  NaN    NaN   \n",
       "305      0     113800   26.5500              NaN        S  NaN    NaN   \n",
       "306      1      35281   77.2875              D26        S  NaN    NaN   \n",
       "310      1      36928  164.8667              NaN        S  NaN    NaN   \n",
       "316      1   PC 17597   61.3792              NaN        C  NaN    NaN   \n",
       "321      0     113807   26.5500              NaN        S  NaN    NaN   \n",
       "\n",
       "                                          home.dest  \n",
       "9                               Montevideo, Uruguay  \n",
       "81                                    Milwaukee, WI  \n",
       "115                                    Winnipeg, MB  \n",
       "135                                    New York, NY  \n",
       "154                                    Montreal, PQ  \n",
       "158                             London / Birmingham  \n",
       "174                                     Buffalo, NY  \n",
       "201                                  Dorchester, MA  \n",
       "205                            East Bridgewater, MA  \n",
       "210                                    Montreal, PQ  \n",
       "215                                   Lexington, MA  \n",
       "217                          Isle of Wight, England  \n",
       "221                                  Providence, RI  \n",
       "246                                    New York, NY  \n",
       "252                 Haverford, PA / Cooperstown, NY  \n",
       "266                                    New York, NY  \n",
       "267                       St James, Long Island, NY  \n",
       "276                                   Paris, France  \n",
       "279  Wimbledon Park, London / Hayling Island, Hants  \n",
       "285                                    New York, NY  \n",
       "287                                 Haddenfield, NJ  \n",
       "290                                    New York, NY  \n",
       "300                                    Brooklyn, NY  \n",
       "303                                    Portland, OR  \n",
       "305                    England Salt Lake City, Utah  \n",
       "306                                   Brunswick, ME  \n",
       "310                                  Youngstown, OH  \n",
       "316                Geneva, Switzerland / Radnor, PA  \n",
       "321                                     Halifax, NS  "
      ],
      "text/html": "<div>\n<style scoped>\n    .dataframe tbody tr th:only-of-type {\n        vertical-align: middle;\n    }\n\n    .dataframe tbody tr th {\n        vertical-align: top;\n    }\n\n    .dataframe thead th {\n        text-align: right;\n    }\n</style>\n<table border=\"1\" class=\"dataframe\">\n  <thead>\n    <tr style=\"text-align: right;\">\n      <th></th>\n      <th>pclass</th>\n      <th>survived</th>\n      <th>name</th>\n      <th>gender</th>\n      <th>age</th>\n      <th>sibsp</th>\n      <th>parch</th>\n      <th>ticket</th>\n      <th>fare</th>\n      <th>cabin</th>\n      <th>embarked</th>\n      <th>boat</th>\n      <th>body</th>\n      <th>home.dest</th>\n    </tr>\n  </thead>\n  <tbody>\n    <tr>\n      <th>9</th>\n      <td>1</td>\n      <td>0</td>\n      <td>Artagaveytia, Mr. Ramon</td>\n      <td>male</td>\n      <td>71.0</td>\n      <td>0</td>\n      <td>0</td>\n      <td>PC 17609</td>\n      <td>49.5042</td>\n      <td>NaN</td>\n      <td>C</td>\n      <td>NaN</td>\n      <td>22.0</td>\n      <td>Montevideo, Uruguay</td>\n    </tr>\n    <tr>\n      <th>81</th>\n      <td>1</td>\n      <td>0</td>\n      <td>Crosby, Capt. Edward Gifford</td>\n      <td>male</td>\n      <td>70.0</td>\n      <td>1</td>\n      <td>1</td>\n      <td>WE/P 5735</td>\n      <td>71.0000</td>\n      <td>B22</td>\n      <td>S</td>\n      <td>NaN</td>\n      <td>269.0</td>\n      <td>Milwaukee, WI</td>\n    </tr>\n    <tr>\n      <th>115</th>\n      <td>1</td>\n      <td>0</td>\n      <td>Fortune, Mr. Mark</td>\n      <td>male</td>\n      <td>64.0</td>\n      <td>1</td>\n      <td>4</td>\n      <td>19950</td>\n      <td>263.0000</td>\n      <td>C23 C25 C27</td>\n      <td>S</td>\n      <td>NaN</td>\n      <td>NaN</td>\n      <td>Winnipeg, MB</td>\n    </tr>\n    <tr>\n      <th>135</th>\n      <td>1</td>\n      <td>0</td>\n      <td>Goldschmidt, Mr. George B</td>\n      <td>male</td>\n      <td>71.0</td>\n      <td>0</td>\n      <td>0</td>\n      <td>PC 17754</td>\n      <td>34.6542</td>\n      <td>A5</td>\n      <td>C</td>\n      <td>NaN</td>\n      <td>NaN</td>\n      <td>New York, NY</td>\n    </tr>\n    <tr>\n      <th>154</th>\n      <td>1</td>\n      <td>0</td>\n      <td>Hays, Mr. Charles Melville</td>\n      <td>male</td>\n      <td>55.0</td>\n      <td>1</td>\n      <td>1</td>\n      <td>12749</td>\n      <td>93.5000</td>\n      <td>B69</td>\n      <td>S</td>\n      <td>NaN</td>\n      <td>307.0</td>\n      <td>Montreal, PQ</td>\n    </tr>\n    <tr>\n      <th>158</th>\n      <td>1</td>\n      <td>0</td>\n      <td>Hipkins, Mr. William Edward</td>\n      <td>male</td>\n      <td>55.0</td>\n      <td>0</td>\n      <td>0</td>\n      <td>680</td>\n      <td>50.0000</td>\n      <td>C39</td>\n      <td>S</td>\n      <td>NaN</td>\n      <td>NaN</td>\n      <td>London / Birmingham</td>\n    </tr>\n    <tr>\n      <th>174</th>\n      <td>1</td>\n      <td>0</td>\n      <td>Kent, Mr. Edward Austin</td>\n      <td>male</td>\n      <td>58.0</td>\n      <td>0</td>\n      <td>0</td>\n      <td>11771</td>\n      <td>29.7000</td>\n      <td>B37</td>\n      <td>C</td>\n      <td>NaN</td>\n      <td>258.0</td>\n      <td>Buffalo, NY</td>\n    </tr>\n    <tr>\n      <th>201</th>\n      <td>1</td>\n      <td>0</td>\n      <td>McCarthy, Mr. Timothy J</td>\n      <td>male</td>\n      <td>54.0</td>\n      <td>0</td>\n      <td>0</td>\n      <td>17463</td>\n      <td>51.8625</td>\n      <td>E46</td>\n      <td>S</td>\n      <td>NaN</td>\n      <td>175.0</td>\n      <td>Dorchester, MA</td>\n    </tr>\n    <tr>\n      <th>205</th>\n      <td>1</td>\n      <td>0</td>\n      <td>Millet, Mr. Francis Davis</td>\n      <td>male</td>\n      <td>65.0</td>\n      <td>0</td>\n      <td>0</td>\n      <td>13509</td>\n      <td>26.5500</td>\n      <td>E38</td>\n      <td>S</td>\n      <td>NaN</td>\n      <td>249.0</td>\n      <td>East Bridgewater, MA</td>\n    </tr>\n    <tr>\n      <th>210</th>\n      <td>1</td>\n      <td>0</td>\n      <td>Molson, Mr. Harry Markland</td>\n      <td>male</td>\n      <td>55.0</td>\n      <td>0</td>\n      <td>0</td>\n      <td>113787</td>\n      <td>30.5000</td>\n      <td>C30</td>\n      <td>S</td>\n      <td>NaN</td>\n      <td>NaN</td>\n      <td>Montreal, PQ</td>\n    </tr>\n    <tr>\n      <th>215</th>\n      <td>1</td>\n      <td>0</td>\n      <td>Newell, Mr. Arthur Webster</td>\n      <td>male</td>\n      <td>58.0</td>\n      <td>0</td>\n      <td>2</td>\n      <td>35273</td>\n      <td>113.2750</td>\n      <td>D48</td>\n      <td>C</td>\n      <td>NaN</td>\n      <td>122.0</td>\n      <td>Lexington, MA</td>\n    </tr>\n    <tr>\n      <th>217</th>\n      <td>1</td>\n      <td>0</td>\n      <td>Nicholson, Mr. Arthur Ernest</td>\n      <td>male</td>\n      <td>64.0</td>\n      <td>0</td>\n      <td>0</td>\n      <td>693</td>\n      <td>26.0000</td>\n      <td>NaN</td>\n      <td>S</td>\n      <td>NaN</td>\n      <td>263.0</td>\n      <td>Isle of Wight, England</td>\n    </tr>\n    <tr>\n      <th>221</th>\n      <td>1</td>\n      <td>0</td>\n      <td>Ostby, Mr. Engelhart Cornelius</td>\n      <td>male</td>\n      <td>65.0</td>\n      <td>0</td>\n      <td>1</td>\n      <td>113509</td>\n      <td>61.9792</td>\n      <td>B30</td>\n      <td>C</td>\n      <td>NaN</td>\n      <td>234.0</td>\n      <td>Providence, RI</td>\n    </tr>\n    <tr>\n      <th>246</th>\n      <td>1</td>\n      <td>0</td>\n      <td>Rothschild, Mr. Martin</td>\n      <td>male</td>\n      <td>55.0</td>\n      <td>1</td>\n      <td>0</td>\n      <td>PC 17603</td>\n      <td>59.4000</td>\n      <td>NaN</td>\n      <td>C</td>\n      <td>NaN</td>\n      <td>NaN</td>\n      <td>New York, NY</td>\n    </tr>\n    <tr>\n      <th>252</th>\n      <td>1</td>\n      <td>0</td>\n      <td>Ryerson, Mr. Arthur Larned</td>\n      <td>male</td>\n      <td>61.0</td>\n      <td>1</td>\n      <td>3</td>\n      <td>PC 17608</td>\n      <td>262.3750</td>\n      <td>B57 B59 B63 B66</td>\n      <td>C</td>\n      <td>NaN</td>\n      <td>NaN</td>\n      <td>Haverford, PA / Cooperstown, NY</td>\n    </tr>\n    <tr>\n      <th>266</th>\n      <td>1</td>\n      <td>0</td>\n      <td>Smart, Mr. John Montgomery</td>\n      <td>male</td>\n      <td>56.0</td>\n      <td>0</td>\n      <td>0</td>\n      <td>113792</td>\n      <td>26.5500</td>\n      <td>NaN</td>\n      <td>S</td>\n      <td>NaN</td>\n      <td>NaN</td>\n      <td>New York, NY</td>\n    </tr>\n    <tr>\n      <th>267</th>\n      <td>1</td>\n      <td>0</td>\n      <td>Smith, Mr. James Clinch</td>\n      <td>male</td>\n      <td>56.0</td>\n      <td>0</td>\n      <td>0</td>\n      <td>17764</td>\n      <td>30.6958</td>\n      <td>A7</td>\n      <td>C</td>\n      <td>NaN</td>\n      <td>NaN</td>\n      <td>St James, Long Island, NY</td>\n    </tr>\n    <tr>\n      <th>276</th>\n      <td>1</td>\n      <td>0</td>\n      <td>Spencer, Mr. William Augustus</td>\n      <td>male</td>\n      <td>57.0</td>\n      <td>1</td>\n      <td>0</td>\n      <td>PC 17569</td>\n      <td>146.5208</td>\n      <td>B78</td>\n      <td>C</td>\n      <td>NaN</td>\n      <td>NaN</td>\n      <td>Paris, France</td>\n    </tr>\n    <tr>\n      <th>279</th>\n      <td>1</td>\n      <td>0</td>\n      <td>Stead, Mr. William Thomas</td>\n      <td>male</td>\n      <td>62.0</td>\n      <td>0</td>\n      <td>0</td>\n      <td>113514</td>\n      <td>26.5500</td>\n      <td>C87</td>\n      <td>S</td>\n      <td>NaN</td>\n      <td>NaN</td>\n      <td>Wimbledon Park, London / Hayling Island, Hants</td>\n    </tr>\n    <tr>\n      <th>285</th>\n      <td>1</td>\n      <td>0</td>\n      <td>Straus, Mr. Isidor</td>\n      <td>male</td>\n      <td>67.0</td>\n      <td>1</td>\n      <td>0</td>\n      <td>PC 17483</td>\n      <td>221.7792</td>\n      <td>C55 C57</td>\n      <td>S</td>\n      <td>NaN</td>\n      <td>96.0</td>\n      <td>New York, NY</td>\n    </tr>\n    <tr>\n      <th>287</th>\n      <td>1</td>\n      <td>0</td>\n      <td>Sutton, Mr. Frederick</td>\n      <td>male</td>\n      <td>61.0</td>\n      <td>0</td>\n      <td>0</td>\n      <td>36963</td>\n      <td>32.3208</td>\n      <td>D50</td>\n      <td>S</td>\n      <td>NaN</td>\n      <td>46.0</td>\n      <td>Haddenfield, NJ</td>\n    </tr>\n    <tr>\n      <th>290</th>\n      <td>1</td>\n      <td>0</td>\n      <td>Taussig, Mr. Emil</td>\n      <td>male</td>\n      <td>52.0</td>\n      <td>1</td>\n      <td>1</td>\n      <td>110413</td>\n      <td>79.6500</td>\n      <td>E67</td>\n      <td>S</td>\n      <td>NaN</td>\n      <td>NaN</td>\n      <td>New York, NY</td>\n    </tr>\n    <tr>\n      <th>300</th>\n      <td>1</td>\n      <td>0</td>\n      <td>Van der hoef, Mr. Wyckoff</td>\n      <td>male</td>\n      <td>61.0</td>\n      <td>0</td>\n      <td>0</td>\n      <td>111240</td>\n      <td>33.5000</td>\n      <td>B19</td>\n      <td>S</td>\n      <td>NaN</td>\n      <td>245.0</td>\n      <td>Brooklyn, NY</td>\n    </tr>\n    <tr>\n      <th>303</th>\n      <td>1</td>\n      <td>0</td>\n      <td>Warren, Mr. Frank Manley</td>\n      <td>male</td>\n      <td>64.0</td>\n      <td>1</td>\n      <td>0</td>\n      <td>110813</td>\n      <td>75.2500</td>\n      <td>D37</td>\n      <td>C</td>\n      <td>NaN</td>\n      <td>NaN</td>\n      <td>Portland, OR</td>\n    </tr>\n    <tr>\n      <th>305</th>\n      <td>1</td>\n      <td>0</td>\n      <td>Weir, Col. John</td>\n      <td>male</td>\n      <td>60.0</td>\n      <td>0</td>\n      <td>0</td>\n      <td>113800</td>\n      <td>26.5500</td>\n      <td>NaN</td>\n      <td>S</td>\n      <td>NaN</td>\n      <td>NaN</td>\n      <td>England Salt Lake City, Utah</td>\n    </tr>\n    <tr>\n      <th>306</th>\n      <td>1</td>\n      <td>0</td>\n      <td>White, Mr. Percival Wayland</td>\n      <td>male</td>\n      <td>54.0</td>\n      <td>0</td>\n      <td>1</td>\n      <td>35281</td>\n      <td>77.2875</td>\n      <td>D26</td>\n      <td>S</td>\n      <td>NaN</td>\n      <td>NaN</td>\n      <td>Brunswick, ME</td>\n    </tr>\n    <tr>\n      <th>310</th>\n      <td>1</td>\n      <td>0</td>\n      <td>Wick, Mr. George Dennick</td>\n      <td>male</td>\n      <td>57.0</td>\n      <td>1</td>\n      <td>1</td>\n      <td>36928</td>\n      <td>164.8667</td>\n      <td>NaN</td>\n      <td>S</td>\n      <td>NaN</td>\n      <td>NaN</td>\n      <td>Youngstown, OH</td>\n    </tr>\n    <tr>\n      <th>316</th>\n      <td>1</td>\n      <td>0</td>\n      <td>Williams, Mr. Charles Duane</td>\n      <td>male</td>\n      <td>51.0</td>\n      <td>0</td>\n      <td>1</td>\n      <td>PC 17597</td>\n      <td>61.3792</td>\n      <td>NaN</td>\n      <td>C</td>\n      <td>NaN</td>\n      <td>NaN</td>\n      <td>Geneva, Switzerland / Radnor, PA</td>\n    </tr>\n    <tr>\n      <th>321</th>\n      <td>1</td>\n      <td>0</td>\n      <td>Wright, Mr. George</td>\n      <td>male</td>\n      <td>62.0</td>\n      <td>0</td>\n      <td>0</td>\n      <td>113807</td>\n      <td>26.5500</td>\n      <td>NaN</td>\n      <td>S</td>\n      <td>NaN</td>\n      <td>NaN</td>\n      <td>Halifax, NS</td>\n    </tr>\n  </tbody>\n</table>\n</div>"
     },
     "metadata": {},
     "execution_count": 117
    }
   ],
   "source": [
    "#your code\n",
    "titanic.loc[(titanic.gender == 'male') & (titanic.pclass == 1) & (titanic.age > 50) & (titanic.survived == 0)]"
   ]
  },
  {
   "cell_type": "code",
   "execution_count": 118,
   "metadata": {},
   "outputs": [
    {
     "output_type": "execute_result",
     "data": {
      "text/plain": [
       "29"
      ]
     },
     "metadata": {},
     "execution_count": 118
    }
   ],
   "source": [
    "len(titanic.loc[(titanic.gender == 'male') & (titanic.pclass == 1) & (titanic.age > 50) & (titanic.survived == 0)])"
   ]
  },
  {
   "cell_type": "markdown",
   "metadata": {},
   "source": [
    "29. Print the uniques values at the column `'name'`"
   ]
  },
  {
   "cell_type": "code",
   "execution_count": 121,
   "metadata": {},
   "outputs": [
    {
     "output_type": "execute_result",
     "data": {
      "text/plain": [
       "array(['Allen, Miss. Elisabeth Walton', 'Allison, Master. Hudson Trevor',\n",
       "       'Allison, Miss. Helen Loraine', ..., 'Zakarian, Mr. Mapriededer',\n",
       "       'Zakarian, Mr. Ortin', 'Zimmerman, Mr. Leo'], dtype=object)"
      ]
     },
     "metadata": {},
     "execution_count": 121
    }
   ],
   "source": [
    "#your code\n",
    "titanic.name.unique()"
   ]
  },
  {
   "cell_type": "markdown",
   "metadata": {},
   "source": [
    "30. Find if was there any `name` repeated at the Titanic?\n",
    "\n",
    "Hint: There were two people with the same name, who?"
   ]
  },
  {
   "cell_type": "code",
   "execution_count": 132,
   "metadata": {},
   "outputs": [
    {
     "output_type": "execute_result",
     "data": {
      "text/plain": [
       "     pclass  survived                  name  gender   age  sibsp  parch  \\\n",
       "726       3         0  Connolly, Miss. Kate  female  30.0      0      0   \n",
       "925       3         0      Kelly, Mr. James    male  44.0      0      0   \n",
       "\n",
       "     ticket    fare cabin embarked boat  body home.dest  \n",
       "726  330972  7.6292   NaN        Q  NaN   NaN   Ireland  \n",
       "925  363592  8.0500   NaN        S  NaN   NaN       NaN  "
      ],
      "text/html": "<div>\n<style scoped>\n    .dataframe tbody tr th:only-of-type {\n        vertical-align: middle;\n    }\n\n    .dataframe tbody tr th {\n        vertical-align: top;\n    }\n\n    .dataframe thead th {\n        text-align: right;\n    }\n</style>\n<table border=\"1\" class=\"dataframe\">\n  <thead>\n    <tr style=\"text-align: right;\">\n      <th></th>\n      <th>pclass</th>\n      <th>survived</th>\n      <th>name</th>\n      <th>gender</th>\n      <th>age</th>\n      <th>sibsp</th>\n      <th>parch</th>\n      <th>ticket</th>\n      <th>fare</th>\n      <th>cabin</th>\n      <th>embarked</th>\n      <th>boat</th>\n      <th>body</th>\n      <th>home.dest</th>\n    </tr>\n  </thead>\n  <tbody>\n    <tr>\n      <th>726</th>\n      <td>3</td>\n      <td>0</td>\n      <td>Connolly, Miss. Kate</td>\n      <td>female</td>\n      <td>30.0</td>\n      <td>0</td>\n      <td>0</td>\n      <td>330972</td>\n      <td>7.6292</td>\n      <td>NaN</td>\n      <td>Q</td>\n      <td>NaN</td>\n      <td>NaN</td>\n      <td>Ireland</td>\n    </tr>\n    <tr>\n      <th>925</th>\n      <td>3</td>\n      <td>0</td>\n      <td>Kelly, Mr. James</td>\n      <td>male</td>\n      <td>44.0</td>\n      <td>0</td>\n      <td>0</td>\n      <td>363592</td>\n      <td>8.0500</td>\n      <td>NaN</td>\n      <td>S</td>\n      <td>NaN</td>\n      <td>NaN</td>\n      <td>NaN</td>\n    </tr>\n  </tbody>\n</table>\n</div>"
     },
     "metadata": {},
     "execution_count": 132
    }
   ],
   "source": [
    "#your code\n",
    "titanic[titanic.name.duplicated() == True]"
   ]
  },
  {
   "cell_type": "markdown",
   "metadata": {},
   "source": [
    "31. Well done! You did it! I can tell you are a real master with Pandas. Please, now save the dataframe as a `.csv` since you will use it in a future exercise `Titanic-Visualisation`. The name of the `.csv` you'll generate should be `titanic_cleaned.csv`.\n",
    "\n",
    "Use for that aim the following pandas's method: https://pandas.pydata.org/pandas-docs/stable/reference/api/pandas.DataFrame.to_csv.html\n",
    "\n",
    "Make sure you use the argument `index = False`."
   ]
  },
  {
   "cell_type": "code",
   "execution_count": 133,
   "metadata": {},
   "outputs": [],
   "source": [
    "#your code\n",
    "titanic.to_csv('titanic_cleaned.csv', index=False)"
   ]
  }
 ],
 "metadata": {
  "kernelspec": {
   "name": "python374jvsc74a57bd0674dfd6ded4398e0679ff4f65e9a10a54ff0d14801bec0126172cfc3973d1cf1",
   "display_name": "Python 3.7.4 64-bit"
  },
  "language_info": {
   "codemirror_mode": {
    "name": "ipython",
    "version": 3
   },
   "file_extension": ".py",
   "mimetype": "text/x-python",
   "name": "python",
   "nbconvert_exporter": "python",
   "pygments_lexer": "ipython3",
   "version": "3.7.4"
  },
  "metadata": {
   "interpreter": {
    "hash": "674dfd6ded4398e0679ff4f65e9a10a54ff0d14801bec0126172cfc3973d1cf1"
   }
  }
 },
 "nbformat": 4,
 "nbformat_minor": 4
}