{
 "metadata": {
  "language_info": {
   "codemirror_mode": {
    "name": "ipython",
    "version": 3
   },
   "file_extension": ".py",
   "mimetype": "text/x-python",
   "name": "python",
   "nbconvert_exporter": "python",
   "pygments_lexer": "ipython3",
   "version": "3.7.4"
  },
  "orig_nbformat": 2,
  "kernelspec": {
   "name": "python3",
   "display_name": "Python 3.7.4 64-bit"
  },
  "metadata": {
   "interpreter": {
    "hash": "5c4d2f1fdcd3716c7a5eea90ad07be30193490dd4e63617705244f5fd89ea793"
   }
  },
  "interpreter": {
   "hash": "674dfd6ded4398e0679ff4f65e9a10a54ff0d14801bec0126172cfc3973d1cf1"
  }
 },
 "nbformat": 4,
 "nbformat_minor": 2,
 "cells": [
  {
   "source": [
    "A partir de los datos de iris:\n",
    "\n",
    "Ejercicio 1:\n",
    "\n",
    "- Carga los datos originales\n",
    "- Utiliza PCA para reducir la dimensionalidad de los datos. No reemplaces X con el resultado, crea una nueva X_pca. Utiliza PCA(2) y otra con PCA(3)\n",
    "- Utiliza Kmeans para agrupar y predecir las clases de los nuevos datos.\n",
    "- Compara los resultados para PCA(2) y PCA(3) con las clases originales (y_real).\n",
    "- ¿Es mejor PCA(2) o PCA(3)?\n",
    "\n",
    "Ejercicio 2: \n",
    "\n",
    "- Repite el proceso con T-SNE y DBSCAN. ¿Cuál da mejores resultados?\n"
   ],
   "cell_type": "markdown",
   "metadata": {}
  },
  {
   "cell_type": "code",
   "execution_count": 1,
   "metadata": {},
   "outputs": [],
   "source": [
    "from sklearn.model_selection import train_test_split\n",
    "from sklearn import datasets\n",
    "\n",
    "iris = datasets.load_iris()\n",
    "X = iris.data\n",
    "y = iris.target\n",
    "X_train, X_test, y_train, y_test = train_test_split(X, y, test_size=0.2, random_state=42)"
   ]
  },
  {
   "source": [
    "### PARTE I. PCA y KMEANS"
   ],
   "cell_type": "markdown",
   "metadata": {}
  },
  {
   "cell_type": "code",
   "execution_count": 69,
   "metadata": {},
   "outputs": [],
   "source": [
    "from sklearn.decomposition import PCA\n",
    "\n",
    "pca2 = PCA(n_components=2, random_state=42)\n",
    "pca3 = PCA(n_components=3, random_state=42)\n",
    "\n",
    "X_pca2 = pca2.fit_transform(X)\n",
    "X_pca3 = pca3.fit_transform(X)"
   ]
  },
  {
   "cell_type": "code",
   "execution_count": 70,
   "metadata": {},
   "outputs": [
    {
     "output_type": "execute_result",
     "data": {
      "text/plain": [
       "<matplotlib.collections.PathCollection at 0x207eb7437c8>"
      ]
     },
     "metadata": {},
     "execution_count": 70
    },
    {
     "output_type": "display_data",
     "data": {
      "text/plain": "<Figure size 432x288 with 1 Axes>",
      "image/svg+xml": "<?xml version=\"1.0\" encoding=\"utf-8\" standalone=\"no\"?>\r\n<!DOCTYPE svg PUBLIC \"-//W3C//DTD SVG 1.1//EN\"\r\n  \"http://www.w3.org/Graphics/SVG/1.1/DTD/svg11.dtd\">\r\n<svg height=\"251.85524pt\" version=\"1.1\" viewBox=\"0 0 380.482813 251.85524\" width=\"380.482813pt\" xmlns=\"http://www.w3.org/2000/svg\" xmlns:xlink=\"http://www.w3.org/1999/xlink\">\r\n <metadata>\r\n  <rdf:RDF xmlns:cc=\"http://creativecommons.org/ns#\" xmlns:dc=\"http://purl.org/dc/elements/1.1/\" xmlns:rdf=\"http://www.w3.org/1999/02/22-rdf-syntax-ns#\">\r\n   <cc:Work>\r\n    <dc:type rdf:resource=\"http://purl.org/dc/dcmitype/StillImage\"/>\r\n    <dc:date>2021-06-22T17:12:03.419672</dc:date>\r\n    <dc:format>image/svg+xml</dc:format>\r\n    <dc:creator>\r\n     <cc:Agent>\r\n      <dc:title>Matplotlib v3.4.1, https://matplotlib.org/</dc:title>\r\n     </cc:Agent>\r\n    </dc:creator>\r\n   </cc:Work>\r\n  </rdf:RDF>\r\n </metadata>\r\n <defs>\r\n  <style type=\"text/css\">*{stroke-linecap:butt;stroke-linejoin:round;}</style>\r\n </defs>\r\n <g id=\"figure_1\">\r\n  <g id=\"patch_1\">\r\n   <path d=\"M -0 251.85524 \r\nL 380.482813 251.85524 \r\nL 380.482813 0 \r\nL -0 0 \r\nz\r\n\" style=\"fill:none;\"/>\r\n  </g>\r\n  <g id=\"axes_1\">\r\n   <g id=\"patch_2\">\r\n    <path d=\"M 38.482813 227.977115 \r\nL 373.282813 227.977115 \r\nL 373.282813 10.537115 \r\nL 38.482813 10.537115 \r\nz\r\n\" style=\"fill:#ffffff;\"/>\r\n   </g>\r\n   <g id=\"PathCollection_1\">\r\n    <defs>\r\n     <path d=\"M 0 3 \r\nC 0.795609 3 1.55874 2.683901 2.12132 2.12132 \r\nC 2.683901 1.55874 3 0.795609 3 -0 \r\nC 3 -0.795609 2.683901 -1.55874 2.12132 -2.12132 \r\nC 1.55874 -2.683901 0.795609 -3 0 -3 \r\nC -0.795609 -3 -1.55874 -2.683901 -2.12132 -2.12132 \r\nC -2.683901 -1.55874 -3 -0.795609 -3 0 \r\nC -3 0.795609 -2.683901 1.55874 -2.12132 2.12132 \r\nC -1.55874 2.683901 -0.795609 3 0 3 \r\nz\r\n\" id=\"C0_0_19dd0235bf\"/>\r\n    </defs>\r\n    <g clip-path=\"url(#p17c5b8efec)\">\r\n     <use style=\"fill:#440154;stroke:#440154;\" x=\"77.101462\" xlink:href=\"#C0_0_19dd0235bf\" y=\"99.393507\"/>\r\n    </g>\r\n    <g clip-path=\"url(#p17c5b8efec)\">\r\n     <use style=\"fill:#440154;stroke:#440154;\" x=\"75.799964\" xlink:href=\"#C0_0_19dd0235bf\" y=\"136.559936\"/>\r\n    </g>\r\n    <g clip-path=\"url(#p17c5b8efec)\">\r\n     <use style=\"fill:#440154;stroke:#440154;\" x=\"68.218509\" xlink:href=\"#C0_0_19dd0235bf\" y=\"134.160149\"/>\r\n    </g>\r\n    <g clip-path=\"url(#p17c5b8efec)\">\r\n     <use style=\"fill:#440154;stroke:#440154;\" x=\"74.44708\" xlink:href=\"#C0_0_19dd0235bf\" y=\"147.139206\"/>\r\n    </g>\r\n    <g clip-path=\"url(#p17c5b8efec)\">\r\n     <use style=\"fill:#440154;stroke:#440154;\" x=\"75.167998\" xlink:href=\"#C0_0_19dd0235bf\" y=\"98.842652\"/>\r\n    </g>\r\n    <g clip-path=\"url(#p17c5b8efec)\">\r\n     <use style=\"fill:#440154;stroke:#440154;\" x=\"94.587094\" xlink:href=\"#C0_0_19dd0235bf\" y=\"67.802453\"/>\r\n    </g>\r\n    <g clip-path=\"url(#p17c5b8efec)\">\r\n     <use style=\"fill:#440154;stroke:#440154;\" x=\"71.186626\" xlink:href=\"#C0_0_19dd0235bf\" y=\"130.005639\"/>\r\n    </g>\r\n    <g clip-path=\"url(#p17c5b8efec)\">\r\n     <use style=\"fill:#440154;stroke:#440154;\" x=\"79.615506\" xlink:href=\"#C0_0_19dd0235bf\" y=\"111.074485\"/>\r\n    </g>\r\n    <g clip-path=\"url(#p17c5b8efec)\">\r\n     <use style=\"fill:#440154;stroke:#440154;\" x=\"68.331585\" xlink:href=\"#C0_0_19dd0235bf\" y=\"166.606926\"/>\r\n    </g>\r\n    <g clip-path=\"url(#p17c5b8efec)\">\r\n     <use style=\"fill:#440154;stroke:#440154;\" x=\"77.594458\" xlink:href=\"#C0_0_19dd0235bf\" y=\"131.825995\"/>\r\n    </g>\r\n    <g clip-path=\"url(#p17c5b8efec)\">\r\n     <use style=\"fill:#440154;stroke:#440154;\" x=\"84.783932\" xlink:href=\"#C0_0_19dd0235bf\" y=\"75.009764\"/>\r\n    </g>\r\n    <g clip-path=\"url(#p17c5b8efec)\">\r\n     <use style=\"fill:#440154;stroke:#440154;\" x=\"80.196086\" xlink:href=\"#C0_0_19dd0235bf\" y=\"122.204608\"/>\r\n    </g>\r\n    <g clip-path=\"url(#p17c5b8efec)\">\r\n     <use style=\"fill:#440154;stroke:#440154;\" x=\"72.679447\" xlink:href=\"#C0_0_19dd0235bf\" y=\"140.910816\"/>\r\n    </g>\r\n    <g clip-path=\"url(#p17c5b8efec)\">\r\n     <use style=\"fill:#440154;stroke:#440154;\" x=\"53.700994\" xlink:href=\"#C0_0_19dd0235bf\" y=\"161.596692\"/>\r\n    </g>\r\n    <g clip-path=\"url(#p17c5b8efec)\">\r\n     <use style=\"fill:#440154;stroke:#440154;\" x=\"78.808774\" xlink:href=\"#C0_0_19dd0235bf\" y=\"35.050807\"/>\r\n    </g>\r\n    <g clip-path=\"url(#p17c5b8efec)\">\r\n     <use style=\"fill:#440154;stroke:#440154;\" x=\"90.02651\" xlink:href=\"#C0_0_19dd0235bf\" y=\"23.123843\"/>\r\n    </g>\r\n    <g clip-path=\"url(#p17c5b8efec)\">\r\n     <use style=\"fill:#440154;stroke:#440154;\" x=\"79.728983\" xlink:href=\"#C0_0_19dd0235bf\" y=\"62.610138\"/>\r\n    </g>\r\n    <g clip-path=\"url(#p17c5b8efec)\">\r\n     <use style=\"fill:#440154;stroke:#440154;\" x=\"78.655006\" xlink:href=\"#C0_0_19dd0235bf\" y=\"99.958649\"/>\r\n    </g>\r\n    <g clip-path=\"url(#p17c5b8efec)\">\r\n     <use style=\"fill:#440154;stroke:#440154;\" x=\"98.100962\" xlink:href=\"#C0_0_19dd0235bf\" y=\"57.95612\"/>\r\n    </g>\r\n    <g clip-path=\"url(#p17c5b8efec)\">\r\n     <use style=\"fill:#440154;stroke:#440154;\" x=\"81.270063\" xlink:href=\"#C0_0_19dd0235bf\" y=\"84.856097\"/>\r\n    </g>\r\n    <g clip-path=\"url(#p17c5b8efec)\">\r\n     <use style=\"fill:#440154;stroke:#440154;\" x=\"93.312457\" xlink:href=\"#C0_0_19dd0235bf\" y=\"94.006552\"/>\r\n    </g>\r\n    <g clip-path=\"url(#p17c5b8efec)\">\r\n     <use style=\"fill:#440154;stroke:#440154;\" x=\"83.190097\" xlink:href=\"#C0_0_19dd0235bf\" y=\"90.888117\"/>\r\n    </g>\r\n    <g clip-path=\"url(#p17c5b8efec)\">\r\n     <use style=\"fill:#440154;stroke:#440154;\" x=\"54.041992\" xlink:href=\"#C0_0_19dd0235bf\" y=\"113.314427\"/>\r\n    </g>\r\n    <g clip-path=\"url(#p17c5b8efec)\">\r\n     <use style=\"fill:#440154;stroke:#440154;\" x=\"93.638656\" xlink:href=\"#C0_0_19dd0235bf\" y=\"115.916925\"/>\r\n    </g>\r\n    <g clip-path=\"url(#p17c5b8efec)\">\r\n     <use style=\"fill:#440154;stroke:#440154;\" x=\"91.339669\" xlink:href=\"#C0_0_19dd0235bf\" y=\"126.098845\"/>\r\n    </g>\r\n    <g clip-path=\"url(#p17c5b8efec)\">\r\n     <use style=\"fill:#440154;stroke:#440154;\" x=\"84.795994\" xlink:href=\"#C0_0_19dd0235bf\" y=\"134.240071\"/>\r\n    </g>\r\n    <g clip-path=\"url(#p17c5b8efec)\">\r\n     <use style=\"fill:#440154;stroke:#440154;\" x=\"86.437121\" xlink:href=\"#C0_0_19dd0235bf\" y=\"113.502849\"/>\r\n    </g>\r\n    <g clip-path=\"url(#p17c5b8efec)\">\r\n     <use style=\"fill:#440154;stroke:#440154;\" x=\"82.382964\" xlink:href=\"#C0_0_19dd0235bf\" y=\"95.775563\"/>\r\n    </g>\r\n    <g clip-path=\"url(#p17c5b8efec)\">\r\n     <use style=\"fill:#440154;stroke:#440154;\" x=\"79.034926\" xlink:href=\"#C0_0_19dd0235bf\" y=\"99.944361\"/>\r\n    </g>\r\n    <g clip-path=\"url(#p17c5b8efec)\">\r\n     <use style=\"fill:#440154;stroke:#440154;\" x=\"79.362092\" xlink:href=\"#C0_0_19dd0235bf\" y=\"138.054385\"/>\r\n    </g>\r\n    <g clip-path=\"url(#p17c5b8efec)\">\r\n     <use style=\"fill:#440154;stroke:#440154;\" x=\"81.295556\" xlink:href=\"#C0_0_19dd0235bf\" y=\"138.605239\"/>\r\n    </g>\r\n    <g clip-path=\"url(#p17c5b8efec)\">\r\n     <use style=\"fill:#440154;stroke:#440154;\" x=\"88.990489\" xlink:href=\"#C0_0_19dd0235bf\" y=\"92.54068\"/>\r\n    </g>\r\n    <g clip-path=\"url(#p17c5b8efec)\">\r\n     <use style=\"fill:#440154;stroke:#440154;\" x=\"78.63048\" xlink:href=\"#C0_0_19dd0235bf\" y=\"62.409158\"/>\r\n    </g>\r\n    <g clip-path=\"url(#p17c5b8efec)\">\r\n     <use style=\"fill:#440154;stroke:#440154;\" x=\"80.803928\" xlink:href=\"#C0_0_19dd0235bf\" y=\"41.461278\"/>\r\n    </g>\r\n    <g clip-path=\"url(#p17c5b8efec)\">\r\n     <use style=\"fill:#440154;stroke:#440154;\" x=\"79.148002\" xlink:href=\"#C0_0_19dd0235bf\" y=\"132.391138\"/>\r\n    </g>\r\n    <g clip-path=\"url(#p17c5b8efec)\">\r\n     <use style=\"fill:#440154;stroke:#440154;\" x=\"69.204903\" xlink:href=\"#C0_0_19dd0235bf\" y=\"118.114003\"/>\r\n    </g>\r\n    <g clip-path=\"url(#p17c5b8efec)\">\r\n     <use style=\"fill:#440154;stroke:#440154;\" x=\"79.65483\" xlink:href=\"#C0_0_19dd0235bf\" y=\"78.431338\"/>\r\n    </g>\r\n    <g clip-path=\"url(#p17c5b8efec)\">\r\n     <use style=\"fill:#440154;stroke:#440154;\" x=\"72.047481\" xlink:href=\"#C0_0_19dd0235bf\" y=\"103.193532\"/>\r\n    </g>\r\n    <g clip-path=\"url(#p17c5b8efec)\">\r\n     <use style=\"fill:#440154;stroke:#440154;\" x=\"64.250567\" xlink:href=\"#C0_0_19dd0235bf\" y=\"159.84197\"/>\r\n    </g>\r\n    <g clip-path=\"url(#p17c5b8efec)\">\r\n     <use style=\"fill:#440154;stroke:#440154;\" x=\"81.18248\" xlink:href=\"#C0_0_19dd0235bf\" y=\"106.158462\"/>\r\n    </g>\r\n    <g clip-path=\"url(#p17c5b8efec)\">\r\n     <use style=\"fill:#440154;stroke:#440154;\" x=\"73.373504\" xlink:href=\"#C0_0_19dd0235bf\" y=\"103.576593\"/>\r\n    </g>\r\n    <g clip-path=\"url(#p17c5b8efec)\">\r\n     <use style=\"fill:#440154;stroke:#440154;\" x=\"69.936515\" xlink:href=\"#C0_0_19dd0235bf\" y=\"193.759229\"/>\r\n    </g>\r\n    <g clip-path=\"url(#p17c5b8efec)\">\r\n     <use style=\"fill:#440154;stroke:#440154;\" x=\"63.517587\" xlink:href=\"#C0_0_19dd0235bf\" y=\"148.908216\"/>\r\n    </g>\r\n    <g clip-path=\"url(#p17c5b8efec)\">\r\n     <use style=\"fill:#440154;stroke:#440154;\" x=\"89.177718\" xlink:href=\"#C0_0_19dd0235bf\" y=\"109.166258\"/>\r\n    </g>\r\n    <g clip-path=\"url(#p17c5b8efec)\">\r\n     <use style=\"fill:#440154;stroke:#440154;\" x=\"97.681718\" xlink:href=\"#C0_0_19dd0235bf\" y=\"90.613555\"/>\r\n    </g>\r\n    <g clip-path=\"url(#p17c5b8efec)\">\r\n     <use style=\"fill:#440154;stroke:#440154;\" x=\"75.786534\" xlink:href=\"#C0_0_19dd0235bf\" y=\"142.041102\"/>\r\n    </g>\r\n    <g clip-path=\"url(#p17c5b8efec)\">\r\n     <use style=\"fill:#440154;stroke:#440154;\" x=\"83.431047\" xlink:href=\"#C0_0_19dd0235bf\" y=\"85.589033\"/>\r\n    </g>\r\n    <g clip-path=\"url(#p17c5b8efec)\">\r\n     <use style=\"fill:#440154;stroke:#440154;\" x=\"70.366063\" xlink:href=\"#C0_0_19dd0235bf\" y=\"140.37425\"/>\r\n    </g>\r\n    <g clip-path=\"url(#p17c5b8efec)\">\r\n     <use style=\"fill:#440154;stroke:#440154;\" x=\"83.216958\" xlink:href=\"#C0_0_19dd0235bf\" y=\"79.925786\"/>\r\n    </g>\r\n    <g clip-path=\"url(#p17c5b8efec)\">\r\n     <use style=\"fill:#440154;stroke:#440154;\" x=\"76.267468\" xlink:href=\"#C0_0_19dd0235bf\" y=\"115.243283\"/>\r\n    </g>\r\n    <g clip-path=\"url(#p17c5b8efec)\">\r\n     <use style=\"fill:#21918c;stroke:#21918c;\" x=\"249.195372\" xlink:href=\"#C0_0_19dd0235bf\" y=\"72.008021\"/>\r\n    </g>\r\n    <g clip-path=\"url(#p17c5b8efec)\">\r\n     <use style=\"fill:#21918c;stroke:#21918c;\" x=\"233.918017\" xlink:href=\"#C0_0_19dd0235bf\" y=\"99.473141\"/>\r\n    </g>\r\n    <g clip-path=\"url(#p17c5b8efec)\">\r\n     <use style=\"fill:#21918c;stroke:#21918c;\" x=\"256.977487\" xlink:href=\"#C0_0_19dd0235bf\" y=\"85.552221\"/>\r\n    </g>\r\n    <g clip-path=\"url(#p17c5b8efec)\">\r\n     <use style=\"fill:#21918c;stroke:#21918c;\" x=\"201.433937\" xlink:href=\"#C0_0_19dd0235bf\" y=\"185.298557\"/>\r\n    </g>\r\n    <g clip-path=\"url(#p17c5b8efec)\">\r\n     <use style=\"fill:#21918c;stroke:#21918c;\" x=\"240.665479\" xlink:href=\"#C0_0_19dd0235bf\" y=\"117.722705\"/>\r\n    </g>\r\n    <g clip-path=\"url(#p17c5b8efec)\">\r\n     <use style=\"fill:#21918c;stroke:#21918c;\" x=\"221.308073\" xlink:href=\"#C0_0_19dd0235bf\" y=\"154.622521\"/>\r\n    </g>\r\n    <g clip-path=\"url(#p17c5b8efec)\">\r\n     <use style=\"fill:#21918c;stroke:#21918c;\" x=\"240.967152\" xlink:href=\"#C0_0_19dd0235bf\" y=\"102.083587\"/>\r\n    </g>\r\n    <g clip-path=\"url(#p17c5b8efec)\">\r\n     <use style=\"fill:#21918c;stroke:#21918c;\" x=\"161.003279\" xlink:href=\"#C0_0_19dd0235bf\" y=\"198.545836\"/>\r\n    </g>\r\n    <g clip-path=\"url(#p17c5b8efec)\">\r\n     <use style=\"fill:#21918c;stroke:#21918c;\" x=\"238.758876\" xlink:href=\"#C0_0_19dd0235bf\" y=\"106.20952\"/>\r\n    </g>\r\n    <g clip-path=\"url(#p17c5b8efec)\">\r\n     <use style=\"fill:#21918c;stroke:#21918c;\" x=\"193.106071\" xlink:href=\"#C0_0_19dd0235bf\" y=\"177.446181\"/>\r\n    </g>\r\n    <g clip-path=\"url(#p17c5b8efec)\">\r\n     <use style=\"fill:#21918c;stroke:#21918c;\" x=\"171.465268\" xlink:href=\"#C0_0_19dd0235bf\" y=\"218.093479\"/>\r\n    </g>\r\n    <g clip-path=\"url(#p17c5b8efec)\">\r\n     <use style=\"fill:#21918c;stroke:#21918c;\" x=\"215.672545\" xlink:href=\"#C0_0_19dd0235bf\" y=\"131.092772\"/>\r\n    </g>\r\n    <g clip-path=\"url(#p17c5b8efec)\">\r\n     <use style=\"fill:#21918c;stroke:#21918c;\" x=\"204.974665\" xlink:href=\"#C0_0_19dd0235bf\" y=\"164.489894\"/>\r\n    </g>\r\n    <g clip-path=\"url(#p17c5b8efec)\">\r\n     <use style=\"fill:#21918c;stroke:#21918c;\" x=\"236.192077\" xlink:href=\"#C0_0_19dd0235bf\" y=\"132.652854\"/>\r\n    </g>\r\n    <g clip-path=\"url(#p17c5b8efec)\">\r\n     <use style=\"fill:#21918c;stroke:#21918c;\" x=\"185.94386\" xlink:href=\"#C0_0_19dd0235bf\" y=\"142.388958\"/>\r\n    </g>\r\n    <g clip-path=\"url(#p17c5b8efec)\">\r\n     <use style=\"fill:#21918c;stroke:#21918c;\" x=\"233.717358\" xlink:href=\"#C0_0_19dd0235bf\" y=\"88.328729\"/>\r\n    </g>\r\n    <g clip-path=\"url(#p17c5b8efec)\">\r\n     <use style=\"fill:#21918c;stroke:#21918c;\" x=\"222.115206\" xlink:href=\"#C0_0_19dd0235bf\" y=\"149.735075\"/>\r\n    </g>\r\n    <g clip-path=\"url(#p17c5b8efec)\">\r\n     <use style=\"fill:#21918c;stroke:#21918c;\" x=\"203.722795\" xlink:href=\"#C0_0_19dd0235bf\" y=\"148.285632\"/>\r\n    </g>\r\n    <g clip-path=\"url(#p17c5b8efec)\">\r\n     <use style=\"fill:#21918c;stroke:#21918c;\" x=\"234.448969\" xlink:href=\"#C0_0_19dd0235bf\" y=\"163.973956\"/>\r\n    </g>\r\n    <g clip-path=\"url(#p17c5b8efec)\">\r\n     <use style=\"fill:#21918c;stroke:#21918c;\" x=\"195.446316\" xlink:href=\"#C0_0_19dd0235bf\" y=\"167.020417\"/>\r\n    </g>\r\n    <g clip-path=\"url(#p17c5b8efec)\">\r\n     <use style=\"fill:#21918c;stroke:#21918c;\" x=\"241.887361\" xlink:href=\"#C0_0_19dd0235bf\" y=\"129.642918\"/>\r\n    </g>\r\n    <g clip-path=\"url(#p17c5b8efec)\">\r\n     <use style=\"fill:#21918c;stroke:#21918c;\" x=\"209.00333\" xlink:href=\"#C0_0_19dd0235bf\" y=\"128.468038\"/>\r\n    </g>\r\n    <g clip-path=\"url(#p17c5b8efec)\">\r\n     <use style=\"fill:#21918c;stroke:#21918c;\" x=\"249.774584\" xlink:href=\"#C0_0_19dd0235bf\" y=\"147.849617\"/>\r\n    </g>\r\n    <g clip-path=\"url(#p17c5b8efec)\">\r\n     <use style=\"fill:#21918c;stroke:#21918c;\" x=\"233.45148\" xlink:href=\"#C0_0_19dd0235bf\" y=\"136.989446\"/>\r\n    </g>\r\n    <g clip-path=\"url(#p17c5b8efec)\">\r\n     <use style=\"fill:#21918c;stroke:#21918c;\" x=\"224.481345\" xlink:href=\"#C0_0_19dd0235bf\" y=\"112.147329\"/>\r\n    </g>\r\n    <g clip-path=\"url(#p17c5b8efec)\">\r\n     <use style=\"fill:#21918c;stroke:#21918c;\" x=\"232.516874\" xlink:href=\"#C0_0_19dd0235bf\" y=\"98.711629\"/>\r\n    </g>\r\n    <g clip-path=\"url(#p17c5b8efec)\">\r\n     <use style=\"fill:#21918c;stroke:#21918c;\" x=\"251.241912\" xlink:href=\"#C0_0_19dd0235bf\" y=\"105.005653\"/>\r\n    </g>\r\n    <g clip-path=\"url(#p17c5b8efec)\">\r\n     <use style=\"fill:#21918c;stroke:#21918c;\" x=\"261.031644\" xlink:href=\"#C0_0_19dd0235bf\" y=\"103.279507\"/>\r\n    </g>\r\n    <g clip-path=\"url(#p17c5b8efec)\">\r\n     <use style=\"fill:#21918c;stroke:#21918c;\" x=\"228.749592\" xlink:href=\"#C0_0_19dd0235bf\" y=\"135.537862\"/>\r\n    </g>\r\n    <g clip-path=\"url(#p17c5b8efec)\">\r\n     <use style=\"fill:#21918c;stroke:#21918c;\" x=\"180.235145\" xlink:href=\"#C0_0_19dd0235bf\" y=\"150.88006\"/>\r\n    </g>\r\n    <g clip-path=\"url(#p17c5b8efec)\">\r\n     <use style=\"fill:#21918c;stroke:#21918c;\" x=\"190.531304\" xlink:href=\"#C0_0_19dd0235bf\" y=\"176.105237\"/>\r\n    </g>\r\n    <g clip-path=\"url(#p17c5b8efec)\">\r\n     <use style=\"fill:#21918c;stroke:#21918c;\" x=\"185.263233\" xlink:href=\"#C0_0_19dd0235bf\" y=\"174.242016\"/>\r\n    </g>\r\n    <g clip-path=\"url(#p17c5b8efec)\">\r\n     <use style=\"fill:#21918c;stroke:#21918c;\" x=\"199.400827\" xlink:href=\"#C0_0_19dd0235bf\" y=\"146.81976\"/>\r\n    </g>\r\n    <g clip-path=\"url(#p17c5b8efec)\">\r\n     <use style=\"fill:#21918c;stroke:#21918c;\" x=\"253.323281\" xlink:href=\"#C0_0_19dd0235bf\" y=\"154.825231\"/>\r\n    </g>\r\n    <g clip-path=\"url(#p17c5b8efec)\">\r\n     <use style=\"fill:#21918c;stroke:#21918c;\" x=\"218.981258\" xlink:href=\"#C0_0_19dd0235bf\" y=\"159.56712\"/>\r\n    </g>\r\n    <g clip-path=\"url(#p17c5b8efec)\">\r\n     <use style=\"fill:#21918c;stroke:#21918c;\" x=\"228.470685\" xlink:href=\"#C0_0_19dd0235bf\" y=\"108.76862\"/>\r\n    </g>\r\n    <g clip-path=\"url(#p17c5b8efec)\">\r\n     <use style=\"fill:#21918c;stroke:#21918c;\" x=\"246.414484\" xlink:href=\"#C0_0_19dd0235bf\" y=\"92.788108\"/>\r\n    </g>\r\n    <g clip-path=\"url(#p17c5b8efec)\">\r\n     <use style=\"fill:#21918c;stroke:#21918c;\" x=\"228.827839\" xlink:href=\"#C0_0_19dd0235bf\" y=\"151.162692\"/>\r\n    </g>\r\n    <g clip-path=\"url(#p17c5b8efec)\">\r\n     <use style=\"fill:#21918c;stroke:#21918c;\" x=\"204.150008\" xlink:href=\"#C0_0_19dd0235bf\" y=\"143.412475\"/>\r\n    </g>\r\n    <g clip-path=\"url(#p17c5b8efec)\">\r\n     <use style=\"fill:#21918c;stroke:#21918c;\" x=\"200.700957\" xlink:href=\"#C0_0_19dd0235bf\" y=\"174.364803\"/>\r\n    </g>\r\n    <g clip-path=\"url(#p17c5b8efec)\">\r\n     <use style=\"fill:#21918c;stroke:#21918c;\" x=\"213.639034\" xlink:href=\"#C0_0_19dd0235bf\" y=\"173.525098\"/>\r\n    </g>\r\n    <g clip-path=\"url(#p17c5b8efec)\">\r\n     <use style=\"fill:#21918c;stroke:#21918c;\" x=\"232.11106\" xlink:href=\"#C0_0_19dd0235bf\" y=\"125.887899\"/>\r\n    </g>\r\n    <g clip-path=\"url(#p17c5b8efec)\">\r\n     <use style=\"fill:#21918c;stroke:#21918c;\" x=\"203.481845\" xlink:href=\"#C0_0_19dd0235bf\" y=\"153.584716\"/>\r\n    </g>\r\n    <g clip-path=\"url(#p17c5b8efec)\">\r\n     <use style=\"fill:#21918c;stroke:#21918c;\" x=\"162.936743\" xlink:href=\"#C0_0_19dd0235bf\" y=\"199.09669\"/>\r\n    </g>\r\n    <g clip-path=\"url(#p17c5b8efec)\">\r\n     <use style=\"fill:#21918c;stroke:#21918c;\" x=\"208.964006\" xlink:href=\"#C0_0_19dd0235bf\" y=\"161.111184\"/>\r\n    </g>\r\n    <g clip-path=\"url(#p17c5b8efec)\">\r\n     <use style=\"fill:#21918c;stroke:#21918c;\" x=\"207.877966\" xlink:href=\"#C0_0_19dd0235bf\" y=\"139.229388\"/>\r\n    </g>\r\n    <g clip-path=\"url(#p17c5b8efec)\">\r\n     <use style=\"fill:#21918c;stroke:#21918c;\" x=\"209.798\" xlink:href=\"#C0_0_19dd0235bf\" y=\"145.261408\"/>\r\n    </g>\r\n    <g clip-path=\"url(#p17c5b8efec)\">\r\n     <use style=\"fill:#21918c;stroke:#21918c;\" x=\"221.347397\" xlink:href=\"#C0_0_19dd0235bf\" y=\"121.979374\"/>\r\n    </g>\r\n    <g clip-path=\"url(#p17c5b8efec)\">\r\n     <use style=\"fill:#21918c;stroke:#21918c;\" x=\"154.180697\" xlink:href=\"#C0_0_19dd0235bf\" y=\"179.917821\"/>\r\n    </g>\r\n    <g clip-path=\"url(#p17c5b8efec)\">\r\n     <use style=\"fill:#21918c;stroke:#21918c;\" x=\"206.449962\" xlink:href=\"#C0_0_19dd0235bf\" y=\"149.430206\"/>\r\n    </g>\r\n    <g clip-path=\"url(#p17c5b8efec)\">\r\n     <use style=\"fill:#fde725;stroke:#fde725;\" x=\"303.237904\" xlink:href=\"#C0_0_19dd0235bf\" y=\"124.044895\"/>\r\n    </g>\r\n    <g clip-path=\"url(#p17c5b8efec)\">\r\n     <use style=\"fill:#fde725;stroke:#fde725;\" x=\"254.849964\" xlink:href=\"#C0_0_19dd0235bf\" y=\"166.352704\"/>\r\n    </g>\r\n    <g clip-path=\"url(#p17c5b8efec)\">\r\n     <use style=\"fill:#fde725;stroke:#fde725;\" x=\"306.944463\" xlink:href=\"#C0_0_19dd0235bf\" y=\"97.558696\"/>\r\n    </g>\r\n    <g clip-path=\"url(#p17c5b8efec)\">\r\n     <use style=\"fill:#fde725;stroke:#fde725;\" x=\"278.970948\" xlink:href=\"#C0_0_19dd0235bf\" y=\"136.764089\"/>\r\n    </g>\r\n    <g clip-path=\"url(#p17c5b8efec)\">\r\n     <use style=\"fill:#fde725;stroke:#fde725;\" x=\"295.381636\" xlink:href=\"#C0_0_19dd0235bf\" y=\"126.321895\"/>\r\n    </g>\r\n    <g clip-path=\"url(#p17c5b8efec)\">\r\n     <use style=\"fill:#fde725;stroke:#fde725;\" x=\"340.781027\" xlink:href=\"#C0_0_19dd0235bf\" y=\"82.065135\"/>\r\n    </g>\r\n    <g clip-path=\"url(#p17c5b8efec)\">\r\n     <use style=\"fill:#fde725;stroke:#fde725;\" x=\"216.085926\" xlink:href=\"#C0_0_19dd0235bf\" y=\"212.611903\"/>\r\n    </g>\r\n    <g clip-path=\"url(#p17c5b8efec)\">\r\n     <use style=\"fill:#fde725;stroke:#fde725;\" x=\"320.642381\" xlink:href=\"#C0_0_19dd0235bf\" y=\"96.690415\"/>\r\n    </g>\r\n    <g clip-path=\"url(#p17c5b8efec)\">\r\n     <use style=\"fill:#fde725;stroke:#fde725;\" x=\"294.133859\" xlink:href=\"#C0_0_19dd0235bf\" y=\"141.563664\"/>\r\n    </g>\r\n    <g clip-path=\"url(#p17c5b8efec)\">\r\n     <use style=\"fill:#fde725;stroke:#fde725;\" x=\"319.955727\" xlink:href=\"#C0_0_19dd0235bf\" y=\"64.698141\"/>\r\n    </g>\r\n    <g clip-path=\"url(#p17c5b8efec)\">\r\n     <use style=\"fill:#fde725;stroke:#fde725;\" x=\"265.539875\" xlink:href=\"#C0_0_19dd0235bf\" y=\"105.171305\"/>\r\n    </g>\r\n    <g clip-path=\"url(#p17c5b8efec)\">\r\n     <use style=\"fill:#fde725;stroke:#fde725;\" x=\"271.680863\" xlink:href=\"#C0_0_19dd0235bf\" y=\"139.452727\"/>\r\n    </g>\r\n    <g clip-path=\"url(#p17c5b8efec)\">\r\n     <use style=\"fill:#fde725;stroke:#fde725;\" x=\"287.385431\" xlink:href=\"#C0_0_19dd0235bf\" y=\"107.114449\"/>\r\n    </g>\r\n    <g clip-path=\"url(#p17c5b8efec)\">\r\n     <use style=\"fill:#fde725;stroke:#fde725;\" x=\"251.854986\" xlink:href=\"#C0_0_19dd0235bf\" y=\"181.469545\"/>\r\n    </g>\r\n    <g clip-path=\"url(#p17c5b8efec)\">\r\n     <use style=\"fill:#fde725;stroke:#fde725;\" x=\"262.251192\" xlink:href=\"#C0_0_19dd0235bf\" y=\"163.711541\"/>\r\n    </g>\r\n    <g clip-path=\"url(#p17c5b8efec)\">\r\n     <use style=\"fill:#fde725;stroke:#fde725;\" x=\"276.062587\" xlink:href=\"#C0_0_19dd0235bf\" y=\"114.378913\"/>\r\n    </g>\r\n    <g clip-path=\"url(#p17c5b8efec)\">\r\n     <use style=\"fill:#fde725;stroke:#fde725;\" x=\"278.023879\" xlink:href=\"#C0_0_19dd0235bf\" y=\"120.167088\"/>\r\n    </g>\r\n    <g clip-path=\"url(#p17c5b8efec)\">\r\n     <use style=\"fill:#fde725;stroke:#fde725;\" x=\"344.684152\" xlink:href=\"#C0_0_19dd0235bf\" y=\"35.277318\"/>\r\n    </g>\r\n    <g clip-path=\"url(#p17c5b8efec)\">\r\n     <use style=\"fill:#fde725;stroke:#fde725;\" x=\"358.064631\" xlink:href=\"#C0_0_19dd0235bf\" y=\"104.041142\"/>\r\n    </g>\r\n    <g clip-path=\"url(#p17c5b8efec)\">\r\n     <use style=\"fill:#fde725;stroke:#fde725;\" x=\"249.88766\" xlink:href=\"#C0_0_19dd0235bf\" y=\"180.296395\"/>\r\n    </g>\r\n    <g clip-path=\"url(#p17c5b8efec)\">\r\n     <use style=\"fill:#fde725;stroke:#fde725;\" x=\"298.755567\" xlink:href=\"#C0_0_19dd0235bf\" y=\"94.991116\"/>\r\n    </g>\r\n    <g clip-path=\"url(#p17c5b8efec)\">\r\n     <use style=\"fill:#fde725;stroke:#fde725;\" x=\"245.474015\" xlink:href=\"#C0_0_19dd0235bf\" y=\"168.686858\"/>\r\n    </g>\r\n    <g clip-path=\"url(#p17c5b8efec)\">\r\n     <use style=\"fill:#fde725;stroke:#fde725;\" x=\"345.241965\" xlink:href=\"#C0_0_19dd0235bf\" y=\"88.815802\"/>\r\n    </g>\r\n    <g clip-path=\"url(#p17c5b8efec)\">\r\n     <use style=\"fill:#fde725;stroke:#fde725;\" x=\"253.702235\" xlink:href=\"#C0_0_19dd0235bf\" y=\"138.611292\"/>\r\n    </g>\r\n    <g clip-path=\"url(#p17c5b8efec)\">\r\n     <use style=\"fill:#fde725;stroke:#fde725;\" x=\"292.148042\" xlink:href=\"#C0_0_19dd0235bf\" y=\"98.225998\"/>\r\n    </g>\r\n    <g clip-path=\"url(#p17c5b8efec)\">\r\n     <use style=\"fill:#fde725;stroke:#fde725;\" x=\"306.832354\" xlink:href=\"#C0_0_19dd0235bf\" y=\"81.31157\"/>\r\n    </g>\r\n    <g clip-path=\"url(#p17c5b8efec)\">\r\n     <use style=\"fill:#fde725;stroke:#fde725;\" x=\"248.054243\" xlink:href=\"#C0_0_19dd0235bf\" y=\"136.762359\"/>\r\n    </g>\r\n    <g clip-path=\"url(#p17c5b8efec)\">\r\n     <use style=\"fill:#fde725;stroke:#fde725;\" x=\"249.468817\" xlink:href=\"#C0_0_19dd0235bf\" y=\"132.042706\"/>\r\n    </g>\r\n    <g clip-path=\"url(#p17c5b8efec)\">\r\n     <use style=\"fill:#fde725;stroke:#fde725;\" x=\"285.565043\" xlink:href=\"#C0_0_19dd0235bf\" y=\"139.010372\"/>\r\n    </g>\r\n    <g clip-path=\"url(#p17c5b8efec)\">\r\n     <use style=\"fill:#fde725;stroke:#fde725;\" x=\"297.029192\" xlink:href=\"#C0_0_19dd0235bf\" y=\"88.518881\"/>\r\n    </g>\r\n    <g clip-path=\"url(#p17c5b8efec)\">\r\n     <use style=\"fill:#fde725;stroke:#fde725;\" x=\"316.700333\" xlink:href=\"#C0_0_19dd0235bf\" y=\"95.210255\"/>\r\n    </g>\r\n    <g clip-path=\"url(#p17c5b8efec)\">\r\n     <use style=\"fill:#fde725;stroke:#fde725;\" x=\"333.567429\" xlink:href=\"#C0_0_19dd0235bf\" y=\"20.420752\"/>\r\n    </g>\r\n    <g clip-path=\"url(#p17c5b8efec)\">\r\n     <use style=\"fill:#fde725;stroke:#fde725;\" x=\"287.118587\" xlink:href=\"#C0_0_19dd0235bf\" y=\"139.575514\"/>\r\n    </g>\r\n    <g clip-path=\"url(#p17c5b8efec)\">\r\n     <use style=\"fill:#fde725;stroke:#fde725;\" x=\"256.104169\" xlink:href=\"#C0_0_19dd0235bf\" y=\"134.045144\"/>\r\n    </g>\r\n    <g clip-path=\"url(#p17c5b8efec)\">\r\n     <use style=\"fill:#fde725;stroke:#fde725;\" x=\"270.722296\" xlink:href=\"#C0_0_19dd0235bf\" y=\"160.736194\"/>\r\n    </g>\r\n    <g clip-path=\"url(#p17c5b8efec)\">\r\n     <use style=\"fill:#fde725;stroke:#fde725;\" x=\"326.882449\" xlink:href=\"#C0_0_19dd0235bf\" y=\"71.789004\"/>\r\n    </g>\r\n    <g clip-path=\"url(#p17c5b8efec)\">\r\n     <use style=\"fill:#fde725;stroke:#fde725;\" x=\"286.45976\" xlink:href=\"#C0_0_19dd0235bf\" y=\"112.820561\"/>\r\n    </g>\r\n    <g clip-path=\"url(#p17c5b8efec)\">\r\n     <use style=\"fill:#fde725;stroke:#fde725;\" x=\"276.090415\" xlink:href=\"#C0_0_19dd0235bf\" y=\"119.616234\"/>\r\n    </g>\r\n    <g clip-path=\"url(#p17c5b8efec)\">\r\n     <use style=\"fill:#fde725;stroke:#fde725;\" x=\"244.187315\" xlink:href=\"#C0_0_19dd0235bf\" y=\"135.66065\"/>\r\n    </g>\r\n    <g clip-path=\"url(#p17c5b8efec)\">\r\n     <use style=\"fill:#fde725;stroke:#fde725;\" x=\"284.871387\" xlink:href=\"#C0_0_19dd0235bf\" y=\"95.433471\"/>\r\n    </g>\r\n    <g clip-path=\"url(#p17c5b8efec)\">\r\n     <use style=\"fill:#fde725;stroke:#fde725;\" x=\"293.827126\" xlink:href=\"#C0_0_19dd0235bf\" y=\"109.557102\"/>\r\n    </g>\r\n    <g clip-path=\"url(#p17c5b8efec)\">\r\n     <use style=\"fill:#fde725;stroke:#fde725;\" x=\"276.834891\" xlink:href=\"#C0_0_19dd0235bf\" y=\"92.66952\"/>\r\n    </g>\r\n    <g clip-path=\"url(#p17c5b8efec)\">\r\n     <use style=\"fill:#fde725;stroke:#fde725;\" x=\"254.849964\" xlink:href=\"#C0_0_19dd0235bf\" y=\"166.352704\"/>\r\n    </g>\r\n    <g clip-path=\"url(#p17c5b8efec)\">\r\n     <use style=\"fill:#fde725;stroke:#fde725;\" x=\"304.617649\" xlink:href=\"#C0_0_19dd0235bf\" y=\"102.503295\"/>\r\n    </g>\r\n    <g clip-path=\"url(#p17c5b8efec)\">\r\n     <use style=\"fill:#fde725;stroke:#fde725;\" x=\"298.362217\" xlink:href=\"#C0_0_19dd0235bf\" y=\"100.486569\"/>\r\n    </g>\r\n    <g clip-path=\"url(#p17c5b8efec)\">\r\n     <use style=\"fill:#fde725;stroke:#fde725;\" x=\"277.781961\" xlink:href=\"#C0_0_19dd0235bf\" y=\"109.266521\"/>\r\n    </g>\r\n    <g clip-path=\"url(#p17c5b8efec)\">\r\n     <use style=\"fill:#fde725;stroke:#fde725;\" x=\"259.703286\" xlink:href=\"#C0_0_19dd0235bf\" y=\"151.408267\"/>\r\n    </g>\r\n    <g clip-path=\"url(#p17c5b8efec)\">\r\n     <use style=\"fill:#fde725;stroke:#fde725;\" x=\"269.987383\" xlink:href=\"#C0_0_19dd0235bf\" y=\"117.403138\"/>\r\n    </g>\r\n    <g clip-path=\"url(#p17c5b8efec)\">\r\n     <use style=\"fill:#fde725;stroke:#fde725;\" x=\"275.910187\" xlink:href=\"#C0_0_19dd0235bf\" y=\"114.575283\"/>\r\n    </g>\r\n    <g clip-path=\"url(#p17c5b8efec)\">\r\n     <use style=\"fill:#fde725;stroke:#fde725;\" x=\"253.763924\" xlink:href=\"#C0_0_19dd0235bf\" y=\"144.470908\"/>\r\n    </g>\r\n   </g>\r\n   <g id=\"matplotlib.axis_1\">\r\n    <g id=\"xtick_1\">\r\n     <g id=\"line2d_1\">\r\n      <defs>\r\n       <path d=\"M 0 0 \r\nL 0 3.5 \r\n\" id=\"m736ddd32d0\" style=\"stroke:#000000;stroke-width:0.8;\"/>\r\n      </defs>\r\n      <g>\r\n       <use style=\"stroke:#000000;stroke-width:0.8;\" x=\"63.405135\" xlink:href=\"#m736ddd32d0\" y=\"227.977115\"/>\r\n      </g>\r\n     </g>\r\n     <g id=\"text_1\">\r\n      <!-- −3 -->\r\n      <g transform=\"translate(56.034041 242.575553)scale(0.1 -0.1)\">\r\n       <defs>\r\n        <path d=\"M 678 2272 \r\nL 4684 2272 \r\nL 4684 1741 \r\nL 678 1741 \r\nL 678 2272 \r\nz\r\n\" id=\"DejaVuSans-2212\" transform=\"scale(0.015625)\"/>\r\n        <path d=\"M 2597 2516 \r\nQ 3050 2419 3304 2112 \r\nQ 3559 1806 3559 1356 \r\nQ 3559 666 3084 287 \r\nQ 2609 -91 1734 -91 \r\nQ 1441 -91 1130 -33 \r\nQ 819 25 488 141 \r\nL 488 750 \r\nQ 750 597 1062 519 \r\nQ 1375 441 1716 441 \r\nQ 2309 441 2620 675 \r\nQ 2931 909 2931 1356 \r\nQ 2931 1769 2642 2001 \r\nQ 2353 2234 1838 2234 \r\nL 1294 2234 \r\nL 1294 2753 \r\nL 1863 2753 \r\nQ 2328 2753 2575 2939 \r\nQ 2822 3125 2822 3475 \r\nQ 2822 3834 2567 4026 \r\nQ 2313 4219 1838 4219 \r\nQ 1578 4219 1281 4162 \r\nQ 984 4106 628 3988 \r\nL 628 4550 \r\nQ 988 4650 1302 4700 \r\nQ 1616 4750 1894 4750 \r\nQ 2613 4750 3031 4423 \r\nQ 3450 4097 3450 3541 \r\nQ 3450 3153 3228 2886 \r\nQ 3006 2619 2597 2516 \r\nz\r\n\" id=\"DejaVuSans-33\" transform=\"scale(0.015625)\"/>\r\n       </defs>\r\n       <use xlink:href=\"#DejaVuSans-2212\"/>\r\n       <use x=\"83.789062\" xlink:href=\"#DejaVuSans-33\"/>\r\n      </g>\r\n     </g>\r\n    </g>\r\n    <g id=\"xtick_2\">\r\n     <g id=\"line2d_2\">\r\n      <g>\r\n       <use style=\"stroke:#000000;stroke-width:0.8;\" x=\"106.765181\" xlink:href=\"#m736ddd32d0\" y=\"227.977115\"/>\r\n      </g>\r\n     </g>\r\n     <g id=\"text_2\">\r\n      <!-- −2 -->\r\n      <g transform=\"translate(99.394087 242.575553)scale(0.1 -0.1)\">\r\n       <defs>\r\n        <path d=\"M 1228 531 \r\nL 3431 531 \r\nL 3431 0 \r\nL 469 0 \r\nL 469 531 \r\nQ 828 903 1448 1529 \r\nQ 2069 2156 2228 2338 \r\nQ 2531 2678 2651 2914 \r\nQ 2772 3150 2772 3378 \r\nQ 2772 3750 2511 3984 \r\nQ 2250 4219 1831 4219 \r\nQ 1534 4219 1204 4116 \r\nQ 875 4013 500 3803 \r\nL 500 4441 \r\nQ 881 4594 1212 4672 \r\nQ 1544 4750 1819 4750 \r\nQ 2544 4750 2975 4387 \r\nQ 3406 4025 3406 3419 \r\nQ 3406 3131 3298 2873 \r\nQ 3191 2616 2906 2266 \r\nQ 2828 2175 2409 1742 \r\nQ 1991 1309 1228 531 \r\nz\r\n\" id=\"DejaVuSans-32\" transform=\"scale(0.015625)\"/>\r\n       </defs>\r\n       <use xlink:href=\"#DejaVuSans-2212\"/>\r\n       <use x=\"83.789062\" xlink:href=\"#DejaVuSans-32\"/>\r\n      </g>\r\n     </g>\r\n    </g>\r\n    <g id=\"xtick_3\">\r\n     <g id=\"line2d_3\">\r\n      <g>\r\n       <use style=\"stroke:#000000;stroke-width:0.8;\" x=\"150.125226\" xlink:href=\"#m736ddd32d0\" y=\"227.977115\"/>\r\n      </g>\r\n     </g>\r\n     <g id=\"text_3\">\r\n      <!-- −1 -->\r\n      <g transform=\"translate(142.754132 242.575553)scale(0.1 -0.1)\">\r\n       <defs>\r\n        <path d=\"M 794 531 \r\nL 1825 531 \r\nL 1825 4091 \r\nL 703 3866 \r\nL 703 4441 \r\nL 1819 4666 \r\nL 2450 4666 \r\nL 2450 531 \r\nL 3481 531 \r\nL 3481 0 \r\nL 794 0 \r\nL 794 531 \r\nz\r\n\" id=\"DejaVuSans-31\" transform=\"scale(0.015625)\"/>\r\n       </defs>\r\n       <use xlink:href=\"#DejaVuSans-2212\"/>\r\n       <use x=\"83.789062\" xlink:href=\"#DejaVuSans-31\"/>\r\n      </g>\r\n     </g>\r\n    </g>\r\n    <g id=\"xtick_4\">\r\n     <g id=\"line2d_4\">\r\n      <g>\r\n       <use style=\"stroke:#000000;stroke-width:0.8;\" x=\"193.485272\" xlink:href=\"#m736ddd32d0\" y=\"227.977115\"/>\r\n      </g>\r\n     </g>\r\n     <g id=\"text_4\">\r\n      <!-- 0 -->\r\n      <g transform=\"translate(190.304022 242.575553)scale(0.1 -0.1)\">\r\n       <defs>\r\n        <path d=\"M 2034 4250 \r\nQ 1547 4250 1301 3770 \r\nQ 1056 3291 1056 2328 \r\nQ 1056 1369 1301 889 \r\nQ 1547 409 2034 409 \r\nQ 2525 409 2770 889 \r\nQ 3016 1369 3016 2328 \r\nQ 3016 3291 2770 3770 \r\nQ 2525 4250 2034 4250 \r\nz\r\nM 2034 4750 \r\nQ 2819 4750 3233 4129 \r\nQ 3647 3509 3647 2328 \r\nQ 3647 1150 3233 529 \r\nQ 2819 -91 2034 -91 \r\nQ 1250 -91 836 529 \r\nQ 422 1150 422 2328 \r\nQ 422 3509 836 4129 \r\nQ 1250 4750 2034 4750 \r\nz\r\n\" id=\"DejaVuSans-30\" transform=\"scale(0.015625)\"/>\r\n       </defs>\r\n       <use xlink:href=\"#DejaVuSans-30\"/>\r\n      </g>\r\n     </g>\r\n    </g>\r\n    <g id=\"xtick_5\">\r\n     <g id=\"line2d_5\">\r\n      <g>\r\n       <use style=\"stroke:#000000;stroke-width:0.8;\" x=\"236.845318\" xlink:href=\"#m736ddd32d0\" y=\"227.977115\"/>\r\n      </g>\r\n     </g>\r\n     <g id=\"text_5\">\r\n      <!-- 1 -->\r\n      <g transform=\"translate(233.664068 242.575553)scale(0.1 -0.1)\">\r\n       <use xlink:href=\"#DejaVuSans-31\"/>\r\n      </g>\r\n     </g>\r\n    </g>\r\n    <g id=\"xtick_6\">\r\n     <g id=\"line2d_6\">\r\n      <g>\r\n       <use style=\"stroke:#000000;stroke-width:0.8;\" x=\"280.205363\" xlink:href=\"#m736ddd32d0\" y=\"227.977115\"/>\r\n      </g>\r\n     </g>\r\n     <g id=\"text_6\">\r\n      <!-- 2 -->\r\n      <g transform=\"translate(277.024113 242.575553)scale(0.1 -0.1)\">\r\n       <use xlink:href=\"#DejaVuSans-32\"/>\r\n      </g>\r\n     </g>\r\n    </g>\r\n    <g id=\"xtick_7\">\r\n     <g id=\"line2d_7\">\r\n      <g>\r\n       <use style=\"stroke:#000000;stroke-width:0.8;\" x=\"323.565409\" xlink:href=\"#m736ddd32d0\" y=\"227.977115\"/>\r\n      </g>\r\n     </g>\r\n     <g id=\"text_7\">\r\n      <!-- 3 -->\r\n      <g transform=\"translate(320.384159 242.575553)scale(0.1 -0.1)\">\r\n       <use xlink:href=\"#DejaVuSans-33\"/>\r\n      </g>\r\n     </g>\r\n    </g>\r\n    <g id=\"xtick_8\">\r\n     <g id=\"line2d_8\">\r\n      <g>\r\n       <use style=\"stroke:#000000;stroke-width:0.8;\" x=\"366.925455\" xlink:href=\"#m736ddd32d0\" y=\"227.977115\"/>\r\n      </g>\r\n     </g>\r\n     <g id=\"text_8\">\r\n      <!-- 4 -->\r\n      <g transform=\"translate(363.744205 242.575553)scale(0.1 -0.1)\">\r\n       <defs>\r\n        <path d=\"M 2419 4116 \r\nL 825 1625 \r\nL 2419 1625 \r\nL 2419 4116 \r\nz\r\nM 2253 4666 \r\nL 3047 4666 \r\nL 3047 1625 \r\nL 3713 1625 \r\nL 3713 1100 \r\nL 3047 1100 \r\nL 3047 0 \r\nL 2419 0 \r\nL 2419 1100 \r\nL 313 1100 \r\nL 313 1709 \r\nL 2253 4666 \r\nz\r\n\" id=\"DejaVuSans-34\" transform=\"scale(0.015625)\"/>\r\n       </defs>\r\n       <use xlink:href=\"#DejaVuSans-34\"/>\r\n      </g>\r\n     </g>\r\n    </g>\r\n   </g>\r\n   <g id=\"matplotlib.axis_2\">\r\n    <g id=\"ytick_1\">\r\n     <g id=\"line2d_9\">\r\n      <defs>\r\n       <path d=\"M 0 0 \r\nL -3.5 0 \r\n\" id=\"me0e22605a3\" style=\"stroke:#000000;stroke-width:0.8;\"/>\r\n      </defs>\r\n      <g>\r\n       <use style=\"stroke:#000000;stroke-width:0.8;\" x=\"38.482813\" xlink:href=\"#me0e22605a3\" y=\"198.179639\"/>\r\n      </g>\r\n     </g>\r\n     <g id=\"text_9\">\r\n      <!-- −1.0 -->\r\n      <g transform=\"translate(7.2 201.978858)scale(0.1 -0.1)\">\r\n       <defs>\r\n        <path d=\"M 684 794 \r\nL 1344 794 \r\nL 1344 0 \r\nL 684 0 \r\nL 684 794 \r\nz\r\n\" id=\"DejaVuSans-2e\" transform=\"scale(0.015625)\"/>\r\n       </defs>\r\n       <use xlink:href=\"#DejaVuSans-2212\"/>\r\n       <use x=\"83.789062\" xlink:href=\"#DejaVuSans-31\"/>\r\n       <use x=\"147.412109\" xlink:href=\"#DejaVuSans-2e\"/>\r\n       <use x=\"179.199219\" xlink:href=\"#DejaVuSans-30\"/>\r\n      </g>\r\n     </g>\r\n    </g>\r\n    <g id=\"ytick_2\">\r\n     <g id=\"line2d_10\">\r\n      <g>\r\n       <use style=\"stroke:#000000;stroke-width:0.8;\" x=\"38.482813\" xlink:href=\"#me0e22605a3\" y=\"160.743555\"/>\r\n      </g>\r\n     </g>\r\n     <g id=\"text_10\">\r\n      <!-- −0.5 -->\r\n      <g transform=\"translate(7.2 164.542774)scale(0.1 -0.1)\">\r\n       <defs>\r\n        <path d=\"M 691 4666 \r\nL 3169 4666 \r\nL 3169 4134 \r\nL 1269 4134 \r\nL 1269 2991 \r\nQ 1406 3038 1543 3061 \r\nQ 1681 3084 1819 3084 \r\nQ 2600 3084 3056 2656 \r\nQ 3513 2228 3513 1497 \r\nQ 3513 744 3044 326 \r\nQ 2575 -91 1722 -91 \r\nQ 1428 -91 1123 -41 \r\nQ 819 9 494 109 \r\nL 494 744 \r\nQ 775 591 1075 516 \r\nQ 1375 441 1709 441 \r\nQ 2250 441 2565 725 \r\nQ 2881 1009 2881 1497 \r\nQ 2881 1984 2565 2268 \r\nQ 2250 2553 1709 2553 \r\nQ 1456 2553 1204 2497 \r\nQ 953 2441 691 2322 \r\nL 691 4666 \r\nz\r\n\" id=\"DejaVuSans-35\" transform=\"scale(0.015625)\"/>\r\n       </defs>\r\n       <use xlink:href=\"#DejaVuSans-2212\"/>\r\n       <use x=\"83.789062\" xlink:href=\"#DejaVuSans-30\"/>\r\n       <use x=\"147.412109\" xlink:href=\"#DejaVuSans-2e\"/>\r\n       <use x=\"179.199219\" xlink:href=\"#DejaVuSans-35\"/>\r\n      </g>\r\n     </g>\r\n    </g>\r\n    <g id=\"ytick_3\">\r\n     <g id=\"line2d_11\">\r\n      <g>\r\n       <use style=\"stroke:#000000;stroke-width:0.8;\" x=\"38.482813\" xlink:href=\"#me0e22605a3\" y=\"123.307471\"/>\r\n      </g>\r\n     </g>\r\n     <g id=\"text_11\">\r\n      <!-- 0.0 -->\r\n      <g transform=\"translate(15.579688 127.10669)scale(0.1 -0.1)\">\r\n       <use xlink:href=\"#DejaVuSans-30\"/>\r\n       <use x=\"63.623047\" xlink:href=\"#DejaVuSans-2e\"/>\r\n       <use x=\"95.410156\" xlink:href=\"#DejaVuSans-30\"/>\r\n      </g>\r\n     </g>\r\n    </g>\r\n    <g id=\"ytick_4\">\r\n     <g id=\"line2d_12\">\r\n      <g>\r\n       <use style=\"stroke:#000000;stroke-width:0.8;\" x=\"38.482813\" xlink:href=\"#me0e22605a3\" y=\"85.871387\"/>\r\n      </g>\r\n     </g>\r\n     <g id=\"text_12\">\r\n      <!-- 0.5 -->\r\n      <g transform=\"translate(15.579688 89.670606)scale(0.1 -0.1)\">\r\n       <use xlink:href=\"#DejaVuSans-30\"/>\r\n       <use x=\"63.623047\" xlink:href=\"#DejaVuSans-2e\"/>\r\n       <use x=\"95.410156\" xlink:href=\"#DejaVuSans-35\"/>\r\n      </g>\r\n     </g>\r\n    </g>\r\n    <g id=\"ytick_5\">\r\n     <g id=\"line2d_13\">\r\n      <g>\r\n       <use style=\"stroke:#000000;stroke-width:0.8;\" x=\"38.482813\" xlink:href=\"#me0e22605a3\" y=\"48.435303\"/>\r\n      </g>\r\n     </g>\r\n     <g id=\"text_13\">\r\n      <!-- 1.0 -->\r\n      <g transform=\"translate(15.579688 52.234522)scale(0.1 -0.1)\">\r\n       <use xlink:href=\"#DejaVuSans-31\"/>\r\n       <use x=\"63.623047\" xlink:href=\"#DejaVuSans-2e\"/>\r\n       <use x=\"95.410156\" xlink:href=\"#DejaVuSans-30\"/>\r\n      </g>\r\n     </g>\r\n    </g>\r\n    <g id=\"ytick_6\">\r\n     <g id=\"line2d_14\">\r\n      <g>\r\n       <use style=\"stroke:#000000;stroke-width:0.8;\" x=\"38.482813\" xlink:href=\"#me0e22605a3\" y=\"10.999219\"/>\r\n      </g>\r\n     </g>\r\n     <g id=\"text_14\">\r\n      <!-- 1.5 -->\r\n      <g transform=\"translate(15.579688 14.798437)scale(0.1 -0.1)\">\r\n       <use xlink:href=\"#DejaVuSans-31\"/>\r\n       <use x=\"63.623047\" xlink:href=\"#DejaVuSans-2e\"/>\r\n       <use x=\"95.410156\" xlink:href=\"#DejaVuSans-35\"/>\r\n      </g>\r\n     </g>\r\n    </g>\r\n   </g>\r\n   <g id=\"patch_3\">\r\n    <path d=\"M 38.482813 227.977115 \r\nL 38.482813 10.537115 \r\n\" style=\"fill:none;stroke:#000000;stroke-linecap:square;stroke-linejoin:miter;stroke-width:0.8;\"/>\r\n   </g>\r\n   <g id=\"patch_4\">\r\n    <path d=\"M 373.282813 227.977115 \r\nL 373.282813 10.537115 \r\n\" style=\"fill:none;stroke:#000000;stroke-linecap:square;stroke-linejoin:miter;stroke-width:0.8;\"/>\r\n   </g>\r\n   <g id=\"patch_5\">\r\n    <path d=\"M 38.482812 227.977115 \r\nL 373.282813 227.977115 \r\n\" style=\"fill:none;stroke:#000000;stroke-linecap:square;stroke-linejoin:miter;stroke-width:0.8;\"/>\r\n   </g>\r\n   <g id=\"patch_6\">\r\n    <path d=\"M 38.482812 10.537115 \r\nL 373.282813 10.537115 \r\n\" style=\"fill:none;stroke:#000000;stroke-linecap:square;stroke-linejoin:miter;stroke-width:0.8;\"/>\r\n   </g>\r\n  </g>\r\n </g>\r\n <defs>\r\n  <clipPath id=\"p17c5b8efec\">\r\n   <rect height=\"217.44\" width=\"334.8\" x=\"38.482813\" y=\"10.537115\"/>\r\n  </clipPath>\r\n </defs>\r\n</svg>\r\n",
      "image/png": "[encoded data removed]"
     },
     "metadata": {
      "needs_background": "light"
     }
    }
   ],
   "source": [
    "import matplotlib.pyplot as plt\n",
    "\n",
    "plt.scatter(X_pca2[:, 0], X_pca2[:, 1], c=y)"
   ]
  },
  {
   "cell_type": "code",
   "execution_count": 71,
   "metadata": {},
   "outputs": [
    {
     "output_type": "display_data",
     "data": {
      "application/vnd.plotly.v1+json": {
       "config": {
        "plotlyServerURL": "https://plot.ly"
       },
       "data": [
        {
         "hovertemplate": "x=%{x}<br>y=%{y}<br>z=%{z}<br>color=%{marker.color}<extra></extra>",
         "legendgroup": "",
         "marker": {
          "color": [
           0,
           0,
           0,
           0,
           0,
           0,
           0,
           0,
           0,
           0,
           0,
           0,
           0,
           0,
           0,
           0,
           0,
           0,
           0,
           0,
           0,
           0,
           0,
           0,
           0,
           0,
           0,
           0,
           0,
           0,
           0,
           0,
           0,
           0,
           0,
           0,
           0,
           0,
           0,
           0,
           0,
           0,
           0,
           0,
           0,
           0,
           0,
           0,
           0,
           0,
           1,
           1,
           1,
           1,
           1,
           1,
           1,
           1,
           1,
           1,
           1,
           1,
           1,
           1,
           1,
           1,
           1,
           1,
           1,
           1,
           1,
           1,
           1,
           1,
           1,
           1,
           1,
           1,
           1,
           1,
           1,
           1,
           1,
           1,
           1,
           1,
           1,
           1,
           1,
           1,
           1,
           1,
           1,
           1,
           1,
           1,
           1,
           1,
           1,
           1,
           2,
           2,
           2,
           2,
           2,
           2,
           2,
           2,
           2,
           2,
           2,
           2,
           2,
           2,
           2,
           2,
           2,
           2,
           2,
           2,
           2,
           2,
           2,
           2,
           2,
           2,
           2,
           2,
           2,
           2,
           2,
           2,
           2,
           2,
           2,
           2,
           2,
           2,
           2,
           2,
           2,
           2,
           2,
           2,
           2,
           2,
           2,
           2,
           2,
           2
          ],
          "coloraxis": "coloraxis",
          "opacity": 0.7,
          "symbol": "circle"
         },
         "mode": "markers",
         "name": "",
         "scene": "scene",
         "showlegend": false,
         "type": "scatter3d",
         "x": [
          -2.6841256259695383,
          -2.7141416872943265,
          -2.888990569059297,
          -2.74534285564141,
          -2.7287165365545305,
          -2.2808596328444923,
          -2.820537750740609,
          -2.626144973146633,
          -2.8863827317805537,
          -2.672755797820954,
          -2.5069470906518565,
          -2.6127552309087236,
          -2.786109266188018,
          -3.2238037438656524,
          -2.644750389942029,
          -2.3860390335311337,
          -2.6235278752244264,
          -2.648296706254382,
          -2.19982032361758,
          -2.5879863998787687,
          -2.3102562152425183,
          -2.543705228757157,
          -3.215939415648612,
          -2.302733182226207,
          -2.3557540491237727,
          -2.5066689069258223,
          -2.468820073121339,
          -2.562319906196016,
          -2.639534715384543,
          -2.6319893872743467,
          -2.5873984766893527,
          -2.409932497002175,
          -2.6488623343499125,
          -2.5987367491005875,
          -2.6369268781057995,
          -2.8662416521186698,
          -2.6252380498503727,
          -2.8006841154482225,
          -2.980502043781994,
          -2.5900063139680967,
          -2.7701024260279024,
          -2.849368705043105,
          -2.9974065465949082,
          -2.4056144850974865,
          -2.2094892377836794,
          -2.714451426757708,
          -2.53814825899894,
          -2.8394621676428504,
          -2.543085749830393,
          -2.70335978233516,
          1.284825688858351,
          0.9324885323123177,
          1.4643023219913933,
          0.18331771995836996,
          1.0881032577116654,
          0.6416690842580771,
          1.0950606626324462,
          -0.749122669829658,
          1.0441318260534351,
          -0.008745404082896726,
          -0.5078408838353264,
          0.511698557447597,
          0.26497650811204604,
          0.9849345104708895,
          -0.1739253716817684,
          0.9278607809442467,
          0.6602837616969366,
          0.23610499331767107,
          0.9447337280198126,
          0.0452269762986993,
          1.116283177350049,
          0.3578884179973068,
          1.298183875358913,
          0.9217289224470363,
          0.7148533259114112,
          0.9001743731721669,
          1.332024436722088,
          1.55780215506607,
          0.8132906498175407,
          -0.30558377802430947,
          -0.06812649206836419,
          -0.18962247237850252,
          0.13642871155801442,
          1.38002643591551,
          0.5880064433398626,
          0.8068583125004115,
          1.2206908824443523,
          0.815095235766599,
          0.2459576798866918,
          0.1664132171454563,
          0.46480028840377874,
          0.8908151984694487,
          0.23054802355945478,
          -0.7045317592446642,
          0.3569814947010465,
          0.33193447994505776,
          0.3762156510666698,
          0.6425760075543373,
          -0.9064698649488364,
          0.2990008418781428,
          2.531192727803627,
          1.4152358767039017,
          2.616676015995689,
          1.9715310530434347,
          2.3500059200446395,
          3.3970387360532572,
          0.5212322439097725,
          2.9325870689936875,
          2.321228816573377,
          2.9167509667860716,
          1.6617741536365307,
          1.8034019529650904,
          2.1655917960801445,
          1.3461635794584508,
          1.5859282238732202,
          1.9044563747934262,
          1.9496890593990686,
          3.487055364290279,
          3.7956454220728832,
          1.3007917126376562,
          2.4278179130660447,
          1.19900110546556,
          3.4999200389245373,
          1.3887661316914643,
          2.275430503872204,
          2.61409047381083,
          1.2585081605114872,
          1.2911320591150202,
          2.1236087227738936,
          2.388003016003467,
          2.84167277810387,
          3.2306736614320926,
          2.159437642489049,
          1.4441612423295087,
          1.7812948100451116,
          3.0764999316871866,
          2.144243314302081,
          1.905098148814075,
          1.1693263393414994,
          2.1076111432572415,
          2.314154705235599,
          1.9222678009026004,
          1.4152358767039017,
          2.5630133750774746,
          2.418746182732824,
          1.9441097945469674,
          1.5271666148145162,
          1.764345717044428,
          1.9009416142184223,
          1.3901888619479128
         ],
         "y": [
          0.3193972465851019,
          -0.1770012250647806,
          -0.1449494260855574,
          -0.318298979251916,
          0.32675451293491986,
          0.7413304490629148,
          -0.08946138452856864,
          0.16338495969832853,
          -0.5783117541867039,
          -0.113774245874117,
          0.6450688986485736,
          0.01472993916137452,
          -0.23511200020171857,
          -0.5113945870063822,
          1.1787646364375746,
          1.3380623304006525,
          0.8106795141812576,
          0.3118491445933546,
          0.8728390389622105,
          0.5135603087492768,
          0.39134593565389386,
          0.4329960632790281,
          0.13346806953852594,
          0.09870885481409934,
          -0.0372818596773825,
          -0.14601688049526793,
          0.1309514894352502,
          0.36771885743419974,
          0.31203998023528257,
          -0.1969612249243145,
          -0.20431849127413348,
          0.4109242642295726,
          0.813363820296962,
          1.0931457594493568,
          -0.12132234786586332,
          0.06936447158008034,
          0.5993700213794232,
          0.2686437377979823,
          -0.48795834442861535,
          0.22904383682701246,
          0.2635275337442564,
          -0.9409605736411969,
          -0.34192605747160976,
          0.18887142893026038,
          0.43666314163918785,
          -0.2502082041852112,
          0.5037711444614376,
          -0.22794556949382755,
          0.5794100215198891,
          0.10770608249941149,
          0.6851604704673079,
          0.31833363826262856,
          0.5042628153092035,
          -0.8279590118206324,
          0.07459067519771564,
          -0.41824687156867885,
          0.2834682700615288,
          -1.0048909611818952,
          0.22836189978839497,
          -0.7230819050048339,
          -1.2659711905263937,
          -0.10398123549904056,
          -0.5500364636804753,
          -0.12481785412635768,
          -0.2548542087025894,
          0.4671794944415099,
          -0.3529696657238504,
          -0.3336107668249157,
          -0.543145550779767,
          -0.5838343774718646,
          -0.084616852194788,
          -0.06892503165601434,
          -0.3277873083339178,
          -0.1827377936213678,
          0.14905594436978423,
          0.3285044738343227,
          0.24444087601634273,
          0.2674954473102542,
          -0.16335030068761647,
          -0.36826218975458824,
          -0.7051721317994655,
          -0.6802867635281334,
          -0.314032438249237,
          -0.42095428731388196,
          -0.48428741998121805,
          0.19418231471315084,
          0.4076195936110067,
          -0.37203705990950237,
          -0.26852439662201494,
          -0.6819267248636268,
          -0.6707115445117204,
          -0.03446444436826911,
          -0.4043858480073254,
          -1.0122482275317142,
          -0.5049100933371088,
          -0.21265468378116992,
          -0.29321892925141907,
          0.017738190112415883,
          -0.7560933665990142,
          -0.3488978064503361,
          -0.009849109498801911,
          -0.5749163475464893,
          0.3439031513417337,
          -0.17972790435224567,
          -0.04026094714253125,
          0.5508366730280546,
          -1.1927587270006448,
          0.3555000029774955,
          -0.24383150231069114,
          0.7827919488152782,
          0.24222840775506682,
          -0.21563761733355571,
          0.21627558507402428,
          -0.7768183473443396,
          -0.5396407140267185,
          0.11925069209197257,
          0.04194325966321107,
          1.1757393297134286,
          0.25732297342047844,
          -0.7611496364350638,
          0.3781960126170504,
          -0.6060915277579304,
          0.4606740989118939,
          -0.20439932735215122,
          0.33499060582167717,
          0.560901355123077,
          -0.1797047947227469,
          -0.11666865117401158,
          -0.20972947667730288,
          0.4646398047087356,
          0.3752691671951024,
          1.3741650867930466,
          -0.2172775786690492,
          -0.1434134104575811,
          -0.49990168107813676,
          0.6880856775711748,
          0.14006420108978998,
          0.049300526013029984,
          -0.16499026202310965,
          0.37228787196079716,
          0.18365127916901874,
          0.40920346681606173,
          -0.5749163475464893,
          0.27786260292919446,
          0.30479819785469187,
          0.1875323028006049,
          -0.37531698258048873,
          0.07885885451847545,
          0.11662795851202377,
          -0.2826609379905505
         ],
         "z": [
          -0.027914827589415922,
          -0.2104642723782446,
          0.017900256320890217,
          0.03155937360568086,
          0.09007924055120108,
          0.1686776582091044,
          0.2578921582556178,
          -0.02187931788671982,
          0.020759570264780182,
          -0.19763272498814655,
          -0.07531800937912041,
          0.1021502599565897,
          -0.2068444304496446,
          0.06129967245709912,
          -0.15162752361780948,
          0.2777769027031353,
          0.13818322788071913,
          0.02666831561259374,
          -0.12030552339473123,
          0.21366517222471557,
          -0.23944404324495358,
          0.20845723241671485,
          0.2923967507452421,
          0.03912325874288064,
          0.12502108270287865,
          -0.25342004234465765,
          0.09491057609939167,
          -0.0784942051379244,
          -0.1459088957300293,
          0.04077107906717903,
          -0.07722298907343583,
          -0.14552497200513095,
          0.22566914972011914,
          0.1578108129582197,
          -0.14304958178613902,
          -0.1643323066530257,
          -0.26835037569393644,
          0.0936990824797999,
          0.07292704569269244,
          -0.08008230301732615,
          0.07724769316110373,
          -0.34923037730596634,
          0.19250921171270968,
          0.26386794551341536,
          0.29874274575510845,
          -0.09767814404562948,
          0.16670563660480434,
          0.08372684903359322,
          -0.01711502424851357,
          -0.08929400847882475,
          -0.4065680254676944,
          -0.01801418664624051,
          -0.33832576498089645,
          -0.17959139187535522,
          -0.3077578962347849,
          0.04107609082395585,
          0.16981023986057497,
          0.012302919237595331,
          -0.4153360847593978,
          0.2811414311764098,
          -0.2698171827688525,
          0.13054775024048604,
          -0.694146830144419,
          -0.062114408322261234,
          0.09045769072570443,
          -0.3146209758321725,
          0.32802752837859506,
          -0.27116183725106685,
          -0.4995190464851129,
          -0.23500210497205587,
          0.4596209913591038,
          -0.22985388760895153,
          -0.3478543522573082,
          -0.23107177773628498,
          -0.32180093724447406,
          -0.31620907371157425,
          -0.5217027796644194,
          -0.16492098374358052,
          0.03542450484616004,
          -0.318491580623047,
          -0.24421381043355445,
          -0.3064205612176583,
          -0.17724276601124433,
          0.016167127520728637,
          0.4444334986398076,
          0.38896306309821044,
          -0.237167009883876,
          -0.6147208425918221,
          0.1883668116461946,
          -0.06000922585533809,
          -0.024306855718951755,
          -0.009946932894349024,
          -0.22941024143915661,
          -0.10569114890301955,
          0.016617170198265408,
          0.08320429089567645,
          0.07799635108767548,
          -0.2053949669832609,
          -0.012599647557890057,
          0.010581660495570577,
          0.7601654272458953,
          0.2963225273879644,
          -0.11078788321910908,
          0.10842466246342275,
          0.28538956318444125,
          -0.34843755579746755,
          0.5456592956468127,
          -0.4202399357679682,
          -0.34830439493484516,
          0.42333541768255817,
          0.2424401897257689,
          -0.03764816823148248,
          0.033326641844325135,
          0.28190288211846487,
          0.6290293264080106,
          0.47963981962659047,
          0.0441861676301219,
          0.1338948739360979,
          -0.5137677638178045,
          -0.344995038313418,
          0.21911932430194317,
          0.511855508697001,
          -0.5731822425680028,
          -0.06452275663126839,
          0.2861500911691496,
          -0.20553452435362518,
          0.04584770392724995,
          0.23125646265997035,
          0.15418002392883004,
          -0.44953019194185,
          -0.498898075870769,
          -0.1145482054754195,
          0.20876316713083762,
          -0.15323388806309016,
          -0.17287518911342004,
          -0.335592292434541,
          0.7348789367255109,
          0.1621802357707368,
          0.2818358402084803,
          0.02729113214163061,
          0.32269374717305893,
          0.1135865957993566,
          0.2963225273879644,
          0.2925695245967426,
          0.5044826639771798,
          0.17782509063265742,
          -0.12189817186718173,
          0.13048163128784807,
          0.7232515634899168,
          0.3629096480853755
         ]
        }
       ],
       "layout": {
        "coloraxis": {
         "colorbar": {
          "title": {
           "text": "color"
          }
         },
         "colorscale": [
          [
           0,
           "#0d0887"
          ],
          [
           0.1111111111111111,
           "#46039f"
          ],
          [
           0.2222222222222222,
           "#7201a8"
          ],
          [
           0.3333333333333333,
           "#9c179e"
          ],
          [
           0.4444444444444444,
           "#bd3786"
          ],
          [
           0.5555555555555556,
           "#d8576b"
          ],
          [
           0.6666666666666666,
           "#ed7953"
          ],
          [
           0.7777777777777778,
           "#fb9f3a"
          ],
          [
           0.8888888888888888,
           "#fdca26"
          ],
          [
           1,
           "#f0f921"
          ]
         ]
        },
        "legend": {
         "tracegroupgap": 0
        },
        "margin": {
         "t": 60
        },
        "scene": {
         "domain": {
          "x": [
           0,
           1
          ],
          "y": [
           0,
           1
          ]
         },
         "xaxis": {
          "title": {
           "text": "x"
          }
         },
         "yaxis": {
          "title": {
           "text": "y"
          }
         },
         "zaxis": {
          "title": {
           "text": "z"
          }
         }
        },
        "template": {
         "data": {
          "bar": [
           {
            "error_x": {
             "color": "#2a3f5f"
            },
            "error_y": {
             "color": "#2a3f5f"
            },
            "marker": {
             "line": {
              "color": "#E5ECF6",
              "width": 0.5
             }
            },
            "type": "bar"
           }
          ],
          "barpolar": [
           {
            "marker": {
             "line": {
              "color": "#E5ECF6",
              "width": 0.5
             }
            },
            "type": "barpolar"
           }
          ],
          "carpet": [
           {
            "aaxis": {
             "endlinecolor": "#2a3f5f",
             "gridcolor": "white",
             "linecolor": "white",
             "minorgridcolor": "white",
             "startlinecolor": "#2a3f5f"
            },
            "baxis": {
             "endlinecolor": "#2a3f5f",
             "gridcolor": "white",
             "linecolor": "white",
             "minorgridcolor": "white",
             "startlinecolor": "#2a3f5f"
            },
            "type": "carpet"
           }
          ],
          "choropleth": [
           {
            "colorbar": {
             "outlinewidth": 0,
             "ticks": ""
            },
            "type": "choropleth"
           }
          ],
          "contour": [
           {
            "colorbar": {
             "outlinewidth": 0,
             "ticks": ""
            },
            "colorscale": [
             [
              0,
              "#0d0887"
             ],
             [
              0.1111111111111111,
              "#46039f"
             ],
             [
              0.2222222222222222,
              "#7201a8"
             ],
             [
              0.3333333333333333,
              "#9c179e"
             ],
             [
              0.4444444444444444,
              "#bd3786"
             ],
             [
              0.5555555555555556,
              "#d8576b"
             ],
             [
              0.6666666666666666,
              "#ed7953"
             ],
             [
              0.7777777777777778,
              "#fb9f3a"
             ],
             [
              0.8888888888888888,
              "#fdca26"
             ],
             [
              1,
              "#f0f921"
             ]
            ],
            "type": "contour"
           }
          ],
          "contourcarpet": [
           {
            "colorbar": {
             "outlinewidth": 0,
             "ticks": ""
            },
            "type": "contourcarpet"
           }
          ],
          "heatmap": [
           {
            "colorbar": {
             "outlinewidth": 0,
             "ticks": ""
            },
            "colorscale": [
             [
              0,
              "#0d0887"
             ],
             [
              0.1111111111111111,
              "#46039f"
             ],
             [
              0.2222222222222222,
              "#7201a8"
             ],
             [
              0.3333333333333333,
              "#9c179e"
             ],
             [
              0.4444444444444444,
              "#bd3786"
             ],
             [
              0.5555555555555556,
              "#d8576b"
             ],
             [
              0.6666666666666666,
              "#ed7953"
             ],
             [
              0.7777777777777778,
              "#fb9f3a"
             ],
             [
              0.8888888888888888,
              "#fdca26"
             ],
             [
              1,
              "#f0f921"
             ]
            ],
            "type": "heatmap"
           }
          ],
          "heatmapgl": [
           {
            "colorbar": {
             "outlinewidth": 0,
             "ticks": ""
            },
            "colorscale": [
             [
              0,
              "#0d0887"
             ],
             [
              0.1111111111111111,
              "#46039f"
             ],
             [
              0.2222222222222222,
              "#7201a8"
             ],
             [
              0.3333333333333333,
              "#9c179e"
             ],
             [
              0.4444444444444444,
              "#bd3786"
             ],
             [
              0.5555555555555556,
              "#d8576b"
             ],
             [
              0.6666666666666666,
              "#ed7953"
             ],
             [
              0.7777777777777778,
              "#fb9f3a"
             ],
             [
              0.8888888888888888,
              "#fdca26"
             ],
             [
              1,
              "#f0f921"
             ]
            ],
            "type": "heatmapgl"
           }
          ],
          "histogram": [
           {
            "marker": {
             "colorbar": {
              "outlinewidth": 0,
              "ticks": ""
             }
            },
            "type": "histogram"
           }
          ],
          "histogram2d": [
           {
            "colorbar": {
             "outlinewidth": 0,
             "ticks": ""
            },
            "colorscale": [
             [
              0,
              "#0d0887"
             ],
             [
              0.1111111111111111,
              "#46039f"
             ],
             [
              0.2222222222222222,
              "#7201a8"
             ],
             [
              0.3333333333333333,
              "#9c179e"
             ],
             [
              0.4444444444444444,
              "#bd3786"
             ],
             [
              0.5555555555555556,
              "#d8576b"
             ],
             [
              0.6666666666666666,
              "#ed7953"
             ],
             [
              0.7777777777777778,
              "#fb9f3a"
             ],
             [
              0.8888888888888888,
              "#fdca26"
             ],
             [
              1,
              "#f0f921"
             ]
            ],
            "type": "histogram2d"
           }
          ],
          "histogram2dcontour": [
           {
            "colorbar": {
             "outlinewidth": 0,
             "ticks": ""
            },
            "colorscale": [
             [
              0,
              "#0d0887"
             ],
             [
              0.1111111111111111,
              "#46039f"
             ],
             [
              0.2222222222222222,
              "#7201a8"
             ],
             [
              0.3333333333333333,
              "#9c179e"
             ],
             [
              0.4444444444444444,
              "#bd3786"
             ],
             [
              0.5555555555555556,
              "#d8576b"
             ],
             [
              0.6666666666666666,
              "#ed7953"
             ],
             [
              0.7777777777777778,
              "#fb9f3a"
             ],
             [
              0.8888888888888888,
              "#fdca26"
             ],
             [
              1,
              "#f0f921"
             ]
            ],
            "type": "histogram2dcontour"
           }
          ],
          "mesh3d": [
           {
            "colorbar": {
             "outlinewidth": 0,
             "ticks": ""
            },
            "type": "mesh3d"
           }
          ],
          "parcoords": [
           {
            "line": {
             "colorbar": {
              "outlinewidth": 0,
              "ticks": ""
             }
            },
            "type": "parcoords"
           }
          ],
          "pie": [
           {
            "automargin": true,
            "type": "pie"
           }
          ],
          "scatter": [
           {
            "marker": {
             "colorbar": {
              "outlinewidth": 0,
              "ticks": ""
             }
            },
            "type": "scatter"
           }
          ],
          "scatter3d": [
           {
            "line": {
             "colorbar": {
              "outlinewidth": 0,
              "ticks": ""
             }
            },
            "marker": {
             "colorbar": {
              "outlinewidth": 0,
              "ticks": ""
             }
            },
            "type": "scatter3d"
           }
          ],
          "scattercarpet": [
           {
            "marker": {
             "colorbar": {
              "outlinewidth": 0,
              "ticks": ""
             }
            },
            "type": "scattercarpet"
           }
          ],
          "scattergeo": [
           {
            "marker": {
             "colorbar": {
              "outlinewidth": 0,
              "ticks": ""
             }
            },
            "type": "scattergeo"
           }
          ],
          "scattergl": [
           {
            "marker": {
             "colorbar": {
              "outlinewidth": 0,
              "ticks": ""
             }
            },
            "type": "scattergl"
           }
          ],
          "scattermapbox": [
           {
            "marker": {
             "colorbar": {
              "outlinewidth": 0,
              "ticks": ""
             }
            },
            "type": "scattermapbox"
           }
          ],
          "scatterpolar": [
           {
            "marker": {
             "colorbar": {
              "outlinewidth": 0,
              "ticks": ""
             }
            },
            "type": "scatterpolar"
           }
          ],
          "scatterpolargl": [
           {
            "marker": {
             "colorbar": {
              "outlinewidth": 0,
              "ticks": ""
             }
            },
            "type": "scatterpolargl"
           }
          ],
          "scatterternary": [
           {
            "marker": {
             "colorbar": {
              "outlinewidth": 0,
              "ticks": ""
             }
            },
            "type": "scatterternary"
           }
          ],
          "surface": [
           {
            "colorbar": {
             "outlinewidth": 0,
             "ticks": ""
            },
            "colorscale": [
             [
              0,
              "#0d0887"
             ],
             [
              0.1111111111111111,
              "#46039f"
             ],
             [
              0.2222222222222222,
              "#7201a8"
             ],
             [
              0.3333333333333333,
              "#9c179e"
             ],
             [
              0.4444444444444444,
              "#bd3786"
             ],
             [
              0.5555555555555556,
              "#d8576b"
             ],
             [
              0.6666666666666666,
              "#ed7953"
             ],
             [
              0.7777777777777778,
              "#fb9f3a"
             ],
             [
              0.8888888888888888,
              "#fdca26"
             ],
             [
              1,
              "#f0f921"
             ]
            ],
            "type": "surface"
           }
          ],
          "table": [
           {
            "cells": {
             "fill": {
              "color": "#EBF0F8"
             },
             "line": {
              "color": "white"
             }
            },
            "header": {
             "fill": {
              "color": "#C8D4E3"
             },
             "line": {
              "color": "white"
             }
            },
            "type": "table"
           }
          ]
         },
         "layout": {
          "annotationdefaults": {
           "arrowcolor": "#2a3f5f",
           "arrowhead": 0,
           "arrowwidth": 1
          },
          "autotypenumbers": "strict",
          "coloraxis": {
           "colorbar": {
            "outlinewidth": 0,
            "ticks": ""
           }
          },
          "colorscale": {
           "diverging": [
            [
             0,
             "#8e0152"
            ],
            [
             0.1,
             "#c51b7d"
            ],
            [
             0.2,
             "#de77ae"
            ],
            [
             0.3,
             "#f1b6da"
            ],
            [
             0.4,
             "#fde0ef"
            ],
            [
             0.5,
             "#f7f7f7"
            ],
            [
             0.6,
             "#e6f5d0"
            ],
            [
             0.7,
             "#b8e186"
            ],
            [
             0.8,
             "#7fbc41"
            ],
            [
             0.9,
             "#4d9221"
            ],
            [
             1,
             "#276419"
            ]
           ],
           "sequential": [
            [
             0,
             "#0d0887"
            ],
            [
             0.1111111111111111,
             "#46039f"
            ],
            [
             0.2222222222222222,
             "#7201a8"
            ],
            [
             0.3333333333333333,
             "#9c179e"
            ],
            [
             0.4444444444444444,
             "#bd3786"
            ],
            [
             0.5555555555555556,
             "#d8576b"
            ],
            [
             0.6666666666666666,
             "#ed7953"
            ],
            [
             0.7777777777777778,
             "#fb9f3a"
            ],
            [
             0.8888888888888888,
             "#fdca26"
            ],
            [
             1,
             "#f0f921"
            ]
           ],
           "sequentialminus": [
            [
             0,
             "#0d0887"
            ],
            [
             0.1111111111111111,
             "#46039f"
            ],
            [
             0.2222222222222222,
             "#7201a8"
            ],
            [
             0.3333333333333333,
             "#9c179e"
            ],
            [
             0.4444444444444444,
             "#bd3786"
            ],
            [
             0.5555555555555556,
             "#d8576b"
            ],
            [
             0.6666666666666666,
             "#ed7953"
            ],
            [
             0.7777777777777778,
             "#fb9f3a"
            ],
            [
             0.8888888888888888,
             "#fdca26"
            ],
            [
             1,
             "#f0f921"
            ]
           ]
          },
          "colorway": [
           "#636efa",
           "#EF553B",
           "#00cc96",
           "#ab63fa",
           "#FFA15A",
           "#19d3f3",
           "#FF6692",
           "#B6E880",
           "#FF97FF",
           "#FECB52"
          ],
          "font": {
           "color": "#2a3f5f"
          },
          "geo": {
           "bgcolor": "white",
           "lakecolor": "white",
           "landcolor": "#E5ECF6",
           "showlakes": true,
           "showland": true,
           "subunitcolor": "white"
          },
          "hoverlabel": {
           "align": "left"
          },
          "hovermode": "closest",
          "mapbox": {
           "style": "light"
          },
          "paper_bgcolor": "white",
          "plot_bgcolor": "#E5ECF6",
          "polar": {
           "angularaxis": {
            "gridcolor": "white",
            "linecolor": "white",
            "ticks": ""
           },
           "bgcolor": "#E5ECF6",
           "radialaxis": {
            "gridcolor": "white",
            "linecolor": "white",
            "ticks": ""
           }
          },
          "scene": {
           "xaxis": {
            "backgroundcolor": "#E5ECF6",
            "gridcolor": "white",
            "gridwidth": 2,
            "linecolor": "white",
            "showbackground": true,
            "ticks": "",
            "zerolinecolor": "white"
           },
           "yaxis": {
            "backgroundcolor": "#E5ECF6",
            "gridcolor": "white",
            "gridwidth": 2,
            "linecolor": "white",
            "showbackground": true,
            "ticks": "",
            "zerolinecolor": "white"
           },
           "zaxis": {
            "backgroundcolor": "#E5ECF6",
            "gridcolor": "white",
            "gridwidth": 2,
            "linecolor": "white",
            "showbackground": true,
            "ticks": "",
            "zerolinecolor": "white"
           }
          },
          "shapedefaults": {
           "line": {
            "color": "#2a3f5f"
           }
          },
          "ternary": {
           "aaxis": {
            "gridcolor": "white",
            "linecolor": "white",
            "ticks": ""
           },
           "baxis": {
            "gridcolor": "white",
            "linecolor": "white",
            "ticks": ""
           },
           "bgcolor": "#E5ECF6",
           "caxis": {
            "gridcolor": "white",
            "linecolor": "white",
            "ticks": ""
           }
          },
          "title": {
           "x": 0.05
          },
          "xaxis": {
           "automargin": true,
           "gridcolor": "white",
           "linecolor": "white",
           "ticks": "",
           "title": {
            "standoff": 15
           },
           "zerolinecolor": "white",
           "zerolinewidth": 2
          },
          "yaxis": {
           "automargin": true,
           "gridcolor": "white",
           "linecolor": "white",
           "ticks": "",
           "title": {
            "standoff": 15
           },
           "zerolinecolor": "white",
           "zerolinewidth": 2
          }
         }
        }
       }
      }
     },
     "metadata": {}
    }
   ],
   "source": [
    "import plotly.express as px\n",
    "\n",
    "fig = px.scatter_3d(x=X_pca3[:, 0], y=X_pca3[:, 1], z=X_pca3[:, 2], color=y, opacity=0.7)\n",
    "fig.show()"
   ]
  },
  {
   "cell_type": "code",
   "execution_count": 81,
   "metadata": {},
   "outputs": [],
   "source": [
    "from sklearn.cluster import KMeans\n",
    "import numpy as np\n",
    "\n",
    "kmeans2 = KMeans(n_clusters=2, random_state=42).fit(X_pca2)\n",
    "kmeans3 = KMeans(n_clusters=3, random_state=42).fit(X_pca3)"
   ]
  },
  {
   "cell_type": "code",
   "execution_count": 82,
   "metadata": {},
   "outputs": [],
   "source": [
    "y_k2 = kmeans2.predict(X_pca2)\n",
    "y_k3 = kmeans3.predict(X_pca3)"
   ]
  },
  {
   "cell_type": "code",
   "execution_count": 83,
   "metadata": {},
   "outputs": [
    {
     "output_type": "stream",
     "name": "stdout",
     "text": [
      "PCA2_Score: 0.02\nPCA3_Score: 0.24\n"
     ]
    }
   ],
   "source": [
    "from sklearn.metrics import accuracy_score\n",
    "\n",
    "k2_score = accuracy_score(y, y_k2)\n",
    "k3_score = accuracy_score(y, y_k3)\n",
    "\n",
    "print('PCA2_Score:', k2_score)\n",
    "print('PCA3_Score:', k3_score)"
   ]
  },
  {
   "source": [
    "### PARTE II TSNE y DBSCAN"
   ],
   "cell_type": "markdown",
   "metadata": {}
  },
  {
   "cell_type": "code",
   "execution_count": 3,
   "metadata": {},
   "outputs": [],
   "source": [
    "from sklearn.manifold import TSNE\n",
    "\n",
    "tsne2 = TSNE(n_components=2, random_state=42)\n",
    "tsne3 = TSNE(n_components=3, random_state=42)\n",
    "\n",
    "X_tsne2 = tsne2.fit_transform(X)\n",
    "X_tsne3 = tsne3.fit_transform(X)"
   ]
  },
  {
   "cell_type": "code",
   "execution_count": 3,
   "metadata": {},
   "outputs": [
    {
     "output_type": "execute_result",
     "data": {
      "text/plain": [
       "<matplotlib.collections.PathCollection at 0x208252aabc8>"
      ]
     },
     "metadata": {},
     "execution_count": 3
    },
    {
     "output_type": "display_data",
     "data": {
      "text/plain": "<Figure size 432x288 with 1 Axes>",
      "image/svg+xml": "<?xml version=\"1.0\" encoding=\"utf-8\" standalone=\"no\"?>\r\n<!DOCTYPE svg PUBLIC \"-//W3C//DTD SVG 1.1//EN\"\r\n  \"http://www.w3.org/Graphics/SVG/1.1/DTD/svg11.dtd\">\r\n<svg height=\"248.518125pt\" version=\"1.1\" viewBox=\"0 0 377.304687 248.518125\" width=\"377.304687pt\" xmlns=\"http://www.w3.org/2000/svg\" xmlns:xlink=\"http://www.w3.org/1999/xlink\">\r\n <metadata>\r\n  <rdf:RDF xmlns:cc=\"http://creativecommons.org/ns#\" xmlns:dc=\"http://purl.org/dc/elements/1.1/\" xmlns:rdf=\"http://www.w3.org/1999/02/22-rdf-syntax-ns#\">\r\n   <cc:Work>\r\n    <dc:type rdf:resource=\"http://purl.org/dc/dcmitype/StillImage\"/>\r\n    <dc:date>2021-06-23T09:17:46.154508</dc:date>\r\n    <dc:format>image/svg+xml</dc:format>\r\n    <dc:creator>\r\n     <cc:Agent>\r\n      <dc:title>Matplotlib v3.4.1, https://matplotlib.org/</dc:title>\r\n     </cc:Agent>\r\n    </dc:creator>\r\n   </cc:Work>\r\n  </rdf:RDF>\r\n </metadata>\r\n <defs>\r\n  <style type=\"text/css\">*{stroke-linecap:butt;stroke-linejoin:round;}</style>\r\n </defs>\r\n <g id=\"figure_1\">\r\n  <g id=\"patch_1\">\r\n   <path d=\"M 0 248.518125 \r\nL 377.304687 248.518125 \r\nL 377.304687 0 \r\nL 0 0 \r\nz\r\n\" style=\"fill:none;\"/>\r\n  </g>\r\n  <g id=\"axes_1\">\r\n   <g id=\"patch_2\">\r\n    <path d=\"M 35.304688 224.64 \r\nL 370.104688 224.64 \r\nL 370.104688 7.2 \r\nL 35.304688 7.2 \r\nz\r\n\" style=\"fill:#ffffff;\"/>\r\n   </g>\r\n   <g id=\"PathCollection_1\">\r\n    <defs>\r\n     <path d=\"M 0 3 \r\nC 0.795609 3 1.55874 2.683901 2.12132 2.12132 \r\nC 2.683901 1.55874 3 0.795609 3 -0 \r\nC 3 -0.795609 2.683901 -1.55874 2.12132 -2.12132 \r\nC 1.55874 -2.683901 0.795609 -3 0 -3 \r\nC -0.795609 -3 -1.55874 -2.683901 -2.12132 -2.12132 \r\nC -2.683901 -1.55874 -3 -0.795609 -3 0 \r\nC -3 0.795609 -2.683901 1.55874 -2.12132 2.12132 \r\nC -1.55874 2.683901 -0.795609 3 0 3 \r\nz\r\n\" id=\"C0_0_fddd9e628a\"/>\r\n    </defs>\r\n    <g clip-path=\"url(#p7e2b41f87d)\">\r\n     <use style=\"fill:#440154;stroke:#440154;\" x=\"67.999284\" xlink:href=\"#C0_0_fddd9e628a\" y=\"197.353316\"/>\r\n    </g>\r\n    <g clip-path=\"url(#p7e2b41f87d)\">\r\n     <use style=\"fill:#440154;stroke:#440154;\" x=\"90.652311\" xlink:href=\"#C0_0_fddd9e628a\" y=\"207.967815\"/>\r\n    </g>\r\n    <g clip-path=\"url(#p7e2b41f87d)\">\r\n     <use style=\"fill:#440154;stroke:#440154;\" x=\"71.227993\" xlink:href=\"#C0_0_fddd9e628a\" y=\"208.02253\"/>\r\n    </g>\r\n    <g clip-path=\"url(#p7e2b41f87d)\">\r\n     <use style=\"fill:#440154;stroke:#440154;\" x=\"78.769339\" xlink:href=\"#C0_0_fddd9e628a\" y=\"209.729997\"/>\r\n    </g>\r\n    <g clip-path=\"url(#p7e2b41f87d)\">\r\n     <use style=\"fill:#440154;stroke:#440154;\" x=\"70.423844\" xlink:href=\"#C0_0_fddd9e628a\" y=\"197.205514\"/>\r\n    </g>\r\n    <g clip-path=\"url(#p7e2b41f87d)\">\r\n     <use style=\"fill:#440154;stroke:#440154;\" x=\"73.219649\" xlink:href=\"#C0_0_fddd9e628a\" y=\"188.367919\"/>\r\n    </g>\r\n    <g clip-path=\"url(#p7e2b41f87d)\">\r\n     <use style=\"fill:#440154;stroke:#440154;\" x=\"64.318627\" xlink:href=\"#C0_0_fddd9e628a\" y=\"207.365653\"/>\r\n    </g>\r\n    <g clip-path=\"url(#p7e2b41f87d)\">\r\n     <use style=\"fill:#440154;stroke:#440154;\" x=\"76.078313\" xlink:href=\"#C0_0_fddd9e628a\" y=\"200.036162\"/>\r\n    </g>\r\n    <g clip-path=\"url(#p7e2b41f87d)\">\r\n     <use style=\"fill:#440154;stroke:#440154;\" x=\"79.243486\" xlink:href=\"#C0_0_fddd9e628a\" y=\"212.96863\"/>\r\n    </g>\r\n    <g clip-path=\"url(#p7e2b41f87d)\">\r\n     <use style=\"fill:#440154;stroke:#440154;\" x=\"86.143425\" xlink:href=\"#C0_0_fddd9e628a\" y=\"205.779224\"/>\r\n    </g>\r\n    <g clip-path=\"url(#p7e2b41f87d)\">\r\n     <use style=\"fill:#440154;stroke:#440154;\" x=\"62.80006\" xlink:href=\"#C0_0_fddd9e628a\" y=\"190.780138\"/>\r\n    </g>\r\n    <g clip-path=\"url(#p7e2b41f87d)\">\r\n     <use style=\"fill:#440154;stroke:#440154;\" x=\"83.728513\" xlink:href=\"#C0_0_fddd9e628a\" y=\"202.401875\"/>\r\n    </g>\r\n    <g clip-path=\"url(#p7e2b41f87d)\">\r\n     <use style=\"fill:#440154;stroke:#440154;\" x=\"87.128556\" xlink:href=\"#C0_0_fddd9e628a\" y=\"209.212001\"/>\r\n    </g>\r\n    <g clip-path=\"url(#p7e2b41f87d)\">\r\n     <use style=\"fill:#440154;stroke:#440154;\" x=\"69.150126\" xlink:href=\"#C0_0_fddd9e628a\" y=\"213.735101\"/>\r\n    </g>\r\n    <g clip-path=\"url(#p7e2b41f87d)\">\r\n     <use style=\"fill:#440154;stroke:#440154;\" x=\"57.349356\" xlink:href=\"#C0_0_fddd9e628a\" y=\"185.410047\"/>\r\n    </g>\r\n    <g clip-path=\"url(#p7e2b41f87d)\">\r\n     <use style=\"fill:#440154;stroke:#440154;\" x=\"66.076407\" xlink:href=\"#C0_0_fddd9e628a\" y=\"184.17782\"/>\r\n    </g>\r\n    <g clip-path=\"url(#p7e2b41f87d)\">\r\n     <use style=\"fill:#440154;stroke:#440154;\" x=\"64.984871\" xlink:href=\"#C0_0_fddd9e628a\" y=\"188.090238\"/>\r\n    </g>\r\n    <g clip-path=\"url(#p7e2b41f87d)\">\r\n     <use style=\"fill:#440154;stroke:#440154;\" x=\"72.252693\" xlink:href=\"#C0_0_fddd9e628a\" y=\"196.786757\"/>\r\n    </g>\r\n    <g clip-path=\"url(#p7e2b41f87d)\">\r\n     <use style=\"fill:#440154;stroke:#440154;\" x=\"56.521695\" xlink:href=\"#C0_0_fddd9e628a\" y=\"187.725992\"/>\r\n    </g>\r\n    <g clip-path=\"url(#p7e2b41f87d)\">\r\n     <use style=\"fill:#440154;stroke:#440154;\" x=\"76.540223\" xlink:href=\"#C0_0_fddd9e628a\" y=\"192.002746\"/>\r\n    </g>\r\n    <g clip-path=\"url(#p7e2b41f87d)\">\r\n     <use style=\"fill:#440154;stroke:#440154;\" x=\"54.127104\" xlink:href=\"#C0_0_fddd9e628a\" y=\"193.826976\"/>\r\n    </g>\r\n    <g clip-path=\"url(#p7e2b41f87d)\">\r\n     <use style=\"fill:#440154;stroke:#440154;\" x=\"78.176344\" xlink:href=\"#C0_0_fddd9e628a\" y=\"193.49839\"/>\r\n    </g>\r\n    <g clip-path=\"url(#p7e2b41f87d)\">\r\n     <use style=\"fill:#440154;stroke:#440154;\" x=\"50.522869\" xlink:href=\"#C0_0_fddd9e628a\" y=\"206.817706\"/>\r\n    </g>\r\n    <g clip-path=\"url(#p7e2b41f87d)\">\r\n     <use style=\"fill:#440154;stroke:#440154;\" x=\"92.82951\" xlink:href=\"#C0_0_fddd9e628a\" y=\"197.800212\"/>\r\n    </g>\r\n    <g clip-path=\"url(#p7e2b41f87d)\">\r\n     <use style=\"fill:#440154;stroke:#440154;\" x=\"98.740506\" xlink:href=\"#C0_0_fddd9e628a\" y=\"201.44936\"/>\r\n    </g>\r\n    <g clip-path=\"url(#p7e2b41f87d)\">\r\n     <use style=\"fill:#440154;stroke:#440154;\" x=\"96.183329\" xlink:href=\"#C0_0_fddd9e628a\" y=\"205.829089\"/>\r\n    </g>\r\n    <g clip-path=\"url(#p7e2b41f87d)\">\r\n     <use style=\"fill:#440154;stroke:#440154;\" x=\"85.970734\" xlink:href=\"#C0_0_fddd9e628a\" y=\"198.426041\"/>\r\n    </g>\r\n    <g clip-path=\"url(#p7e2b41f87d)\">\r\n     <use style=\"fill:#440154;stroke:#440154;\" x=\"67.237876\" xlink:href=\"#C0_0_fddd9e628a\" y=\"195.298822\"/>\r\n    </g>\r\n    <g clip-path=\"url(#p7e2b41f87d)\">\r\n     <use style=\"fill:#440154;stroke:#440154;\" x=\"62.375604\" xlink:href=\"#C0_0_fddd9e628a\" y=\"197.134537\"/>\r\n    </g>\r\n    <g clip-path=\"url(#p7e2b41f87d)\">\r\n     <use style=\"fill:#440154;stroke:#440154;\" x=\"80.170163\" xlink:href=\"#C0_0_fddd9e628a\" y=\"206.60916\"/>\r\n    </g>\r\n    <g clip-path=\"url(#p7e2b41f87d)\">\r\n     <use style=\"fill:#440154;stroke:#440154;\" x=\"88.851393\" xlink:href=\"#C0_0_fddd9e628a\" y=\"206.411172\"/>\r\n    </g>\r\n    <g clip-path=\"url(#p7e2b41f87d)\">\r\n     <use style=\"fill:#440154;stroke:#440154;\" x=\"56.009638\" xlink:href=\"#C0_0_fddd9e628a\" y=\"193.958722\"/>\r\n    </g>\r\n    <g clip-path=\"url(#p7e2b41f87d)\">\r\n     <use style=\"fill:#440154;stroke:#440154;\" x=\"77.337947\" xlink:href=\"#C0_0_fddd9e628a\" y=\"187.228091\"/>\r\n    </g>\r\n    <g clip-path=\"url(#p7e2b41f87d)\">\r\n     <use style=\"fill:#440154;stroke:#440154;\" x=\"68.00061\" xlink:href=\"#C0_0_fddd9e628a\" y=\"185.438694\"/>\r\n    </g>\r\n    <g clip-path=\"url(#p7e2b41f87d)\">\r\n     <use style=\"fill:#440154;stroke:#440154;\" x=\"85.394492\" xlink:href=\"#C0_0_fddd9e628a\" y=\"205.566172\"/>\r\n    </g>\r\n    <g clip-path=\"url(#p7e2b41f87d)\">\r\n     <use style=\"fill:#440154;stroke:#440154;\" x=\"67.821161\" xlink:href=\"#C0_0_fddd9e628a\" y=\"204.057789\"/>\r\n    </g>\r\n    <g clip-path=\"url(#p7e2b41f87d)\">\r\n     <use style=\"fill:#440154;stroke:#440154;\" x=\"52.154095\" xlink:href=\"#C0_0_fddd9e628a\" y=\"191.904867\"/>\r\n    </g>\r\n    <g clip-path=\"url(#p7e2b41f87d)\">\r\n     <use style=\"fill:#440154;stroke:#440154;\" x=\"61.868867\" xlink:href=\"#C0_0_fddd9e628a\" y=\"200.009898\"/>\r\n    </g>\r\n    <g clip-path=\"url(#p7e2b41f87d)\">\r\n     <use style=\"fill:#440154;stroke:#440154;\" x=\"73.920914\" xlink:href=\"#C0_0_fddd9e628a\" y=\"212.584493\"/>\r\n    </g>\r\n    <g clip-path=\"url(#p7e2b41f87d)\">\r\n     <use style=\"fill:#440154;stroke:#440154;\" x=\"74.282338\" xlink:href=\"#C0_0_fddd9e628a\" y=\"198.536062\"/>\r\n    </g>\r\n    <g clip-path=\"url(#p7e2b41f87d)\">\r\n     <use style=\"fill:#440154;stroke:#440154;\" x=\"65.275779\" xlink:href=\"#C0_0_fddd9e628a\" y=\"199.426947\"/>\r\n    </g>\r\n    <g clip-path=\"url(#p7e2b41f87d)\">\r\n     <use style=\"fill:#440154;stroke:#440154;\" x=\"89.671159\" xlink:href=\"#C0_0_fddd9e628a\" y=\"214.756364\"/>\r\n    </g>\r\n    <g clip-path=\"url(#p7e2b41f87d)\">\r\n     <use style=\"fill:#440154;stroke:#440154;\" x=\"66.275783\" xlink:href=\"#C0_0_fddd9e628a\" y=\"211.240985\"/>\r\n    </g>\r\n    <g clip-path=\"url(#p7e2b41f87d)\">\r\n     <use style=\"fill:#440154;stroke:#440154;\" x=\"91.098099\" xlink:href=\"#C0_0_fddd9e628a\" y=\"195.975229\"/>\r\n    </g>\r\n    <g clip-path=\"url(#p7e2b41f87d)\">\r\n     <use style=\"fill:#440154;stroke:#440154;\" x=\"88.956647\" xlink:href=\"#C0_0_fddd9e628a\" y=\"190.685216\"/>\r\n    </g>\r\n    <g clip-path=\"url(#p7e2b41f87d)\">\r\n     <use style=\"fill:#440154;stroke:#440154;\" x=\"87.179462\" xlink:href=\"#C0_0_fddd9e628a\" y=\"209.136634\"/>\r\n    </g>\r\n    <g clip-path=\"url(#p7e2b41f87d)\">\r\n     <use style=\"fill:#440154;stroke:#440154;\" x=\"77.917442\" xlink:href=\"#C0_0_fddd9e628a\" y=\"191.593452\"/>\r\n    </g>\r\n    <g clip-path=\"url(#p7e2b41f87d)\">\r\n     <use style=\"fill:#440154;stroke:#440154;\" x=\"72.22225\" xlink:href=\"#C0_0_fddd9e628a\" y=\"209.067148\"/>\r\n    </g>\r\n    <g clip-path=\"url(#p7e2b41f87d)\">\r\n     <use style=\"fill:#440154;stroke:#440154;\" x=\"66.661839\" xlink:href=\"#C0_0_fddd9e628a\" y=\"191.748692\"/>\r\n    </g>\r\n    <g clip-path=\"url(#p7e2b41f87d)\">\r\n     <use style=\"fill:#440154;stroke:#440154;\" x=\"73.628822\" xlink:href=\"#C0_0_fddd9e628a\" y=\"201.9353\"/>\r\n    </g>\r\n    <g clip-path=\"url(#p7e2b41f87d)\">\r\n     <use style=\"fill:#21918c;stroke:#21918c;\" x=\"275.145404\" xlink:href=\"#C0_0_fddd9e628a\" y=\"53.256346\"/>\r\n    </g>\r\n    <g clip-path=\"url(#p7e2b41f87d)\">\r\n     <use style=\"fill:#21918c;stroke:#21918c;\" x=\"294.917464\" xlink:href=\"#C0_0_fddd9e628a\" y=\"58.342482\"/>\r\n    </g>\r\n    <g clip-path=\"url(#p7e2b41f87d)\">\r\n     <use style=\"fill:#21918c;stroke:#21918c;\" x=\"279.200168\" xlink:href=\"#C0_0_fddd9e628a\" y=\"51.216\"/>\r\n    </g>\r\n    <g clip-path=\"url(#p7e2b41f87d)\">\r\n     <use style=\"fill:#21918c;stroke:#21918c;\" x=\"321.530545\" xlink:href=\"#C0_0_fddd9e628a\" y=\"79.475439\"/>\r\n    </g>\r\n    <g clip-path=\"url(#p7e2b41f87d)\">\r\n     <use style=\"fill:#21918c;stroke:#21918c;\" x=\"293.94761\" xlink:href=\"#C0_0_fddd9e628a\" y=\"56.03803\"/>\r\n    </g>\r\n    <g clip-path=\"url(#p7e2b41f87d)\">\r\n     <use style=\"fill:#21918c;stroke:#21918c;\" x=\"320.575131\" xlink:href=\"#C0_0_fddd9e628a\" y=\"69.576444\"/>\r\n    </g>\r\n    <g clip-path=\"url(#p7e2b41f87d)\">\r\n     <use style=\"fill:#21918c;stroke:#21918c;\" x=\"305.825332\" xlink:href=\"#C0_0_fddd9e628a\" y=\"56.628018\"/>\r\n    </g>\r\n    <g clip-path=\"url(#p7e2b41f87d)\">\r\n     <use style=\"fill:#21918c;stroke:#21918c;\" x=\"310.14587\" xlink:href=\"#C0_0_fddd9e628a\" y=\"85.958995\"/>\r\n    </g>\r\n    <g clip-path=\"url(#p7e2b41f87d)\">\r\n     <use style=\"fill:#21918c;stroke:#21918c;\" x=\"286.163385\" xlink:href=\"#C0_0_fddd9e628a\" y=\"56.616045\"/>\r\n    </g>\r\n    <g clip-path=\"url(#p7e2b41f87d)\">\r\n     <use style=\"fill:#21918c;stroke:#21918c;\" x=\"327.471739\" xlink:href=\"#C0_0_fddd9e628a\" y=\"78.202199\"/>\r\n    </g>\r\n    <g clip-path=\"url(#p7e2b41f87d)\">\r\n     <use style=\"fill:#21918c;stroke:#21918c;\" x=\"315.670123\" xlink:href=\"#C0_0_fddd9e628a\" y=\"85.574764\"/>\r\n    </g>\r\n    <g clip-path=\"url(#p7e2b41f87d)\">\r\n     <use style=\"fill:#21918c;stroke:#21918c;\" x=\"308.121072\" xlink:href=\"#C0_0_fddd9e628a\" y=\"68.749269\"/>\r\n    </g>\r\n    <g clip-path=\"url(#p7e2b41f87d)\">\r\n     <use style=\"fill:#21918c;stroke:#21918c;\" x=\"328.334886\" xlink:href=\"#C0_0_fddd9e628a\" y=\"80.620165\"/>\r\n    </g>\r\n    <g clip-path=\"url(#p7e2b41f87d)\">\r\n     <use style=\"fill:#21918c;stroke:#21918c;\" x=\"310.938296\" xlink:href=\"#C0_0_fddd9e628a\" y=\"60.203449\"/>\r\n    </g>\r\n    <g clip-path=\"url(#p7e2b41f87d)\">\r\n     <use style=\"fill:#21918c;stroke:#21918c;\" x=\"300.070764\" xlink:href=\"#C0_0_fddd9e628a\" y=\"79.130061\"/>\r\n    </g>\r\n    <g clip-path=\"url(#p7e2b41f87d)\">\r\n     <use style=\"fill:#21918c;stroke:#21918c;\" x=\"280.886247\" xlink:href=\"#C0_0_fddd9e628a\" y=\"57.259598\"/>\r\n    </g>\r\n    <g clip-path=\"url(#p7e2b41f87d)\">\r\n     <use style=\"fill:#21918c;stroke:#21918c;\" x=\"324.620748\" xlink:href=\"#C0_0_fddd9e628a\" y=\"68.697884\"/>\r\n    </g>\r\n    <g clip-path=\"url(#p7e2b41f87d)\">\r\n     <use style=\"fill:#21918c;stroke:#21918c;\" x=\"305.835903\" xlink:href=\"#C0_0_fddd9e628a\" y=\"75.564869\"/>\r\n    </g>\r\n    <g clip-path=\"url(#p7e2b41f87d)\">\r\n     <use style=\"fill:#21918c;stroke:#21918c;\" x=\"340.079746\" xlink:href=\"#C0_0_fddd9e628a\" y=\"62.212182\"/>\r\n    </g>\r\n    <g clip-path=\"url(#p7e2b41f87d)\">\r\n     <use style=\"fill:#21918c;stroke:#21918c;\" x=\"313.167326\" xlink:href=\"#C0_0_fddd9e628a\" y=\"79.070548\"/>\r\n    </g>\r\n    <g clip-path=\"url(#p7e2b41f87d)\">\r\n     <use style=\"fill:#21918c;stroke:#21918c;\" x=\"329.639883\" xlink:href=\"#C0_0_fddd9e628a\" y=\"55.630128\"/>\r\n    </g>\r\n    <g clip-path=\"url(#p7e2b41f87d)\">\r\n     <use style=\"fill:#21918c;stroke:#21918c;\" x=\"298.037171\" xlink:href=\"#C0_0_fddd9e628a\" y=\"71.601336\"/>\r\n    </g>\r\n    <g clip-path=\"url(#p7e2b41f87d)\">\r\n     <use style=\"fill:#21918c;stroke:#21918c;\" x=\"314.422143\" xlink:href=\"#C0_0_fddd9e628a\" y=\"49.991511\"/>\r\n    </g>\r\n    <g clip-path=\"url(#p7e2b41f87d)\">\r\n     <use style=\"fill:#21918c;stroke:#21918c;\" x=\"309.442514\" xlink:href=\"#C0_0_fddd9e628a\" y=\"61.881425\"/>\r\n    </g>\r\n    <g clip-path=\"url(#p7e2b41f87d)\">\r\n     <use style=\"fill:#21918c;stroke:#21918c;\" x=\"290.940516\" xlink:href=\"#C0_0_fddd9e628a\" y=\"61.796206\"/>\r\n    </g>\r\n    <g clip-path=\"url(#p7e2b41f87d)\">\r\n     <use style=\"fill:#21918c;stroke:#21918c;\" x=\"284.852341\" xlink:href=\"#C0_0_fddd9e628a\" y=\"58.264743\"/>\r\n    </g>\r\n    <g clip-path=\"url(#p7e2b41f87d)\">\r\n     <use style=\"fill:#21918c;stroke:#21918c;\" x=\"283.794945\" xlink:href=\"#C0_0_fddd9e628a\" y=\"52.791816\"/>\r\n    </g>\r\n    <g clip-path=\"url(#p7e2b41f87d)\">\r\n     <use style=\"fill:#21918c;stroke:#21918c;\" x=\"288.133354\" xlink:href=\"#C0_0_fddd9e628a\" y=\"47.641216\"/>\r\n    </g>\r\n    <g clip-path=\"url(#p7e2b41f87d)\">\r\n     <use style=\"fill:#21918c;stroke:#21918c;\" x=\"312.374386\" xlink:href=\"#C0_0_fddd9e628a\" y=\"63.572447\"/>\r\n    </g>\r\n    <g clip-path=\"url(#p7e2b41f87d)\">\r\n     <use style=\"fill:#21918c;stroke:#21918c;\" x=\"303.813418\" xlink:href=\"#C0_0_fddd9e628a\" y=\"81.382784\"/>\r\n    </g>\r\n    <g clip-path=\"url(#p7e2b41f87d)\">\r\n     <use style=\"fill:#21918c;stroke:#21918c;\" x=\"314.779541\" xlink:href=\"#C0_0_fddd9e628a\" y=\"80.853297\"/>\r\n    </g>\r\n    <g clip-path=\"url(#p7e2b41f87d)\">\r\n     <use style=\"fill:#21918c;stroke:#21918c;\" x=\"312.648352\" xlink:href=\"#C0_0_fddd9e628a\" y=\"81.772293\"/>\r\n    </g>\r\n    <g clip-path=\"url(#p7e2b41f87d)\">\r\n     <use style=\"fill:#21918c;stroke:#21918c;\" x=\"305.815045\" xlink:href=\"#C0_0_fddd9e628a\" y=\"76.653974\"/>\r\n    </g>\r\n    <g clip-path=\"url(#p7e2b41f87d)\">\r\n     <use style=\"fill:#21918c;stroke:#21918c;\" x=\"329.859856\" xlink:href=\"#C0_0_fddd9e628a\" y=\"49.082808\"/>\r\n    </g>\r\n    <g clip-path=\"url(#p7e2b41f87d)\">\r\n     <use style=\"fill:#21918c;stroke:#21918c;\" x=\"330.547171\" xlink:href=\"#C0_0_fddd9e628a\" y=\"70.270247\"/>\r\n    </g>\r\n    <g clip-path=\"url(#p7e2b41f87d)\">\r\n     <use style=\"fill:#21918c;stroke:#21918c;\" x=\"318.305727\" xlink:href=\"#C0_0_fddd9e628a\" y=\"59.349805\"/>\r\n    </g>\r\n    <g clip-path=\"url(#p7e2b41f87d)\">\r\n     <use style=\"fill:#21918c;stroke:#21918c;\" x=\"283.57736\" xlink:href=\"#C0_0_fddd9e628a\" y=\"54.058141\"/>\r\n    </g>\r\n    <g clip-path=\"url(#p7e2b41f87d)\">\r\n     <use style=\"fill:#21918c;stroke:#21918c;\" x=\"337.648775\" xlink:href=\"#C0_0_fddd9e628a\" y=\"63.054696\"/>\r\n    </g>\r\n    <g clip-path=\"url(#p7e2b41f87d)\">\r\n     <use style=\"fill:#21918c;stroke:#21918c;\" x=\"314.003189\" xlink:href=\"#C0_0_fddd9e628a\" y=\"73.040516\"/>\r\n    </g>\r\n    <g clip-path=\"url(#p7e2b41f87d)\">\r\n     <use style=\"fill:#21918c;stroke:#21918c;\" x=\"319.443891\" xlink:href=\"#C0_0_fddd9e628a\" y=\"77.945937\"/>\r\n    </g>\r\n    <g clip-path=\"url(#p7e2b41f87d)\">\r\n     <use style=\"fill:#21918c;stroke:#21918c;\" x=\"327.06349\" xlink:href=\"#C0_0_fddd9e628a\" y=\"74.128988\"/>\r\n    </g>\r\n    <g clip-path=\"url(#p7e2b41f87d)\">\r\n     <use style=\"fill:#21918c;stroke:#21918c;\" x=\"308.576516\" xlink:href=\"#C0_0_fddd9e628a\" y=\"61.210486\"/>\r\n    </g>\r\n    <g clip-path=\"url(#p7e2b41f87d)\">\r\n     <use style=\"fill:#21918c;stroke:#21918c;\" x=\"310.010593\" xlink:href=\"#C0_0_fddd9e628a\" y=\"76.583078\"/>\r\n    </g>\r\n    <g clip-path=\"url(#p7e2b41f87d)\">\r\n     <use style=\"fill:#21918c;stroke:#21918c;\" x=\"310.561145\" xlink:href=\"#C0_0_fddd9e628a\" y=\"85.723189\"/>\r\n    </g>\r\n    <g clip-path=\"url(#p7e2b41f87d)\">\r\n     <use style=\"fill:#21918c;stroke:#21918c;\" x=\"320.023204\" xlink:href=\"#C0_0_fddd9e628a\" y=\"74.487437\"/>\r\n    </g>\r\n    <g clip-path=\"url(#p7e2b41f87d)\">\r\n     <use style=\"fill:#21918c;stroke:#21918c;\" x=\"311.550358\" xlink:href=\"#C0_0_fddd9e628a\" y=\"71.955272\"/>\r\n    </g>\r\n    <g clip-path=\"url(#p7e2b41f87d)\">\r\n     <use style=\"fill:#21918c;stroke:#21918c;\" x=\"314.039939\" xlink:href=\"#C0_0_fddd9e628a\" y=\"72.141127\"/>\r\n    </g>\r\n    <g clip-path=\"url(#p7e2b41f87d)\">\r\n     <use style=\"fill:#21918c;stroke:#21918c;\" x=\"299.341559\" xlink:href=\"#C0_0_fddd9e628a\" y=\"64.665427\"/>\r\n    </g>\r\n    <g clip-path=\"url(#p7e2b41f87d)\">\r\n     <use style=\"fill:#21918c;stroke:#21918c;\" x=\"307.113378\" xlink:href=\"#C0_0_fddd9e628a\" y=\"86.245322\"/>\r\n    </g>\r\n    <g clip-path=\"url(#p7e2b41f87d)\">\r\n     <use style=\"fill:#21918c;stroke:#21918c;\" x=\"312.326915\" xlink:href=\"#C0_0_fddd9e628a\" y=\"74.10883\"/>\r\n    </g>\r\n    <g clip-path=\"url(#p7e2b41f87d)\">\r\n     <use style=\"fill:#fde725;stroke:#fde725;\" x=\"279.521234\" xlink:href=\"#C0_0_fddd9e628a\" y=\"28.932901\"/>\r\n    </g>\r\n    <g clip-path=\"url(#p7e2b41f87d)\">\r\n     <use style=\"fill:#fde725;stroke:#fde725;\" x=\"343.797302\" xlink:href=\"#C0_0_fddd9e628a\" y=\"49.818239\"/>\r\n    </g>\r\n    <g clip-path=\"url(#p7e2b41f87d)\">\r\n     <use style=\"fill:#fde725;stroke:#fde725;\" x=\"301.929431\" xlink:href=\"#C0_0_fddd9e628a\" y=\"24.859369\"/>\r\n    </g>\r\n    <g clip-path=\"url(#p7e2b41f87d)\">\r\n     <use style=\"fill:#fde725;stroke:#fde725;\" x=\"316.908322\" xlink:href=\"#C0_0_fddd9e628a\" y=\"36.983331\"/>\r\n    </g>\r\n    <g clip-path=\"url(#p7e2b41f87d)\">\r\n     <use style=\"fill:#fde725;stroke:#fde725;\" x=\"305.964099\" xlink:href=\"#C0_0_fddd9e628a\" y=\"30.895553\"/>\r\n    </g>\r\n    <g clip-path=\"url(#p7e2b41f87d)\">\r\n     <use style=\"fill:#fde725;stroke:#fde725;\" x=\"309.491201\" xlink:href=\"#C0_0_fddd9e628a\" y=\"18.78795\"/>\r\n    </g>\r\n    <g clip-path=\"url(#p7e2b41f87d)\">\r\n     <use style=\"fill:#fde725;stroke:#fde725;\" x=\"344.992545\" xlink:href=\"#C0_0_fddd9e628a\" y=\"74.264113\"/>\r\n    </g>\r\n    <g clip-path=\"url(#p7e2b41f87d)\">\r\n     <use style=\"fill:#fde725;stroke:#fde725;\" x=\"301.160556\" xlink:href=\"#C0_0_fddd9e628a\" y=\"20.533634\"/>\r\n    </g>\r\n    <g clip-path=\"url(#p7e2b41f87d)\">\r\n     <use style=\"fill:#fde725;stroke:#fde725;\" x=\"323.29138\" xlink:href=\"#C0_0_fddd9e628a\" y=\"31.865254\"/>\r\n    </g>\r\n    <g clip-path=\"url(#p7e2b41f87d)\">\r\n     <use style=\"fill:#fde725;stroke:#fde725;\" x=\"314.178106\" xlink:href=\"#C0_0_fddd9e628a\" y=\"23.993117\"/>\r\n    </g>\r\n    <g clip-path=\"url(#p7e2b41f87d)\">\r\n     <use style=\"fill:#fde725;stroke:#fde725;\" x=\"293.183377\" xlink:href=\"#C0_0_fddd9e628a\" y=\"39.115184\"/>\r\n    </g>\r\n    <g clip-path=\"url(#p7e2b41f87d)\">\r\n     <use style=\"fill:#fde725;stroke:#fde725;\" x=\"313.92102\" xlink:href=\"#C0_0_fddd9e628a\" y=\"40.496822\"/>\r\n    </g>\r\n    <g clip-path=\"url(#p7e2b41f87d)\">\r\n     <use style=\"fill:#fde725;stroke:#fde725;\" x=\"300.580476\" xlink:href=\"#C0_0_fddd9e628a\" y=\"32.092406\"/>\r\n    </g>\r\n    <g clip-path=\"url(#p7e2b41f87d)\">\r\n     <use style=\"fill:#fde725;stroke:#fde725;\" x=\"349.860755\" xlink:href=\"#C0_0_fddd9e628a\" y=\"49.924233\"/>\r\n    </g>\r\n    <g clip-path=\"url(#p7e2b41f87d)\">\r\n     <use style=\"fill:#fde725;stroke:#fde725;\" x=\"354.886506\" xlink:href=\"#C0_0_fddd9e628a\" y=\"48.205424\"/>\r\n    </g>\r\n    <g clip-path=\"url(#p7e2b41f87d)\">\r\n     <use style=\"fill:#fde725;stroke:#fde725;\" x=\"287.627122\" xlink:href=\"#C0_0_fddd9e628a\" y=\"34.809937\"/>\r\n    </g>\r\n    <g clip-path=\"url(#p7e2b41f87d)\">\r\n     <use style=\"fill:#fde725;stroke:#fde725;\" x=\"309.887623\" xlink:href=\"#C0_0_fddd9e628a\" y=\"36.604913\"/>\r\n    </g>\r\n    <g clip-path=\"url(#p7e2b41f87d)\">\r\n     <use style=\"fill:#fde725;stroke:#fde725;\" x=\"321.169649\" xlink:href=\"#C0_0_fddd9e628a\" y=\"19.696956\"/>\r\n    </g>\r\n    <g clip-path=\"url(#p7e2b41f87d)\">\r\n     <use style=\"fill:#fde725;stroke:#fde725;\" x=\"307.909381\" xlink:href=\"#C0_0_fddd9e628a\" y=\"17.083636\"/>\r\n    </g>\r\n    <g clip-path=\"url(#p7e2b41f87d)\">\r\n     <use style=\"fill:#fde725;stroke:#fde725;\" x=\"333.518565\" xlink:href=\"#C0_0_fddd9e628a\" y=\"47.081727\"/>\r\n    </g>\r\n    <g clip-path=\"url(#p7e2b41f87d)\">\r\n     <use style=\"fill:#fde725;stroke:#fde725;\" x=\"297.791121\" xlink:href=\"#C0_0_fddd9e628a\" y=\"28.069558\"/>\r\n    </g>\r\n    <g clip-path=\"url(#p7e2b41f87d)\">\r\n     <use style=\"fill:#fde725;stroke:#fde725;\" x=\"350.102028\" xlink:href=\"#C0_0_fddd9e628a\" y=\"51.73035\"/>\r\n    </g>\r\n    <g clip-path=\"url(#p7e2b41f87d)\">\r\n     <use style=\"fill:#fde725;stroke:#fde725;\" x=\"307.837562\" xlink:href=\"#C0_0_fddd9e628a\" y=\"17.956949\"/>\r\n    </g>\r\n    <g clip-path=\"url(#p7e2b41f87d)\">\r\n     <use style=\"fill:#fde725;stroke:#fde725;\" x=\"317.856836\" xlink:href=\"#C0_0_fddd9e628a\" y=\"49.3071\"/>\r\n    </g>\r\n    <g clip-path=\"url(#p7e2b41f87d)\">\r\n     <use style=\"fill:#fde725;stroke:#fde725;\" x=\"297.789731\" xlink:href=\"#C0_0_fddd9e628a\" y=\"29.488753\"/>\r\n    </g>\r\n    <g clip-path=\"url(#p7e2b41f87d)\">\r\n     <use style=\"fill:#fde725;stroke:#fde725;\" x=\"300.172551\" xlink:href=\"#C0_0_fddd9e628a\" y=\"22.858787\"/>\r\n    </g>\r\n    <g clip-path=\"url(#p7e2b41f87d)\">\r\n     <use style=\"fill:#fde725;stroke:#fde725;\" x=\"320.125379\" xlink:href=\"#C0_0_fddd9e628a\" y=\"51.808831\"/>\r\n    </g>\r\n    <g clip-path=\"url(#p7e2b41f87d)\">\r\n     <use style=\"fill:#fde725;stroke:#fde725;\" x=\"325.643624\" xlink:href=\"#C0_0_fddd9e628a\" y=\"52.846621\"/>\r\n    </g>\r\n    <g clip-path=\"url(#p7e2b41f87d)\">\r\n     <use style=\"fill:#fde725;stroke:#fde725;\" x=\"312.165545\" xlink:href=\"#C0_0_fddd9e628a\" y=\"34.283094\"/>\r\n    </g>\r\n    <g clip-path=\"url(#p7e2b41f87d)\">\r\n     <use style=\"fill:#fde725;stroke:#fde725;\" x=\"295.349895\" xlink:href=\"#C0_0_fddd9e628a\" y=\"22.783002\"/>\r\n    </g>\r\n    <g clip-path=\"url(#p7e2b41f87d)\">\r\n     <use style=\"fill:#fde725;stroke:#fde725;\" x=\"300.769155\" xlink:href=\"#C0_0_fddd9e628a\" y=\"20.925225\"/>\r\n    </g>\r\n    <g clip-path=\"url(#p7e2b41f87d)\">\r\n     <use style=\"fill:#fde725;stroke:#fde725;\" x=\"321.11677\" xlink:href=\"#C0_0_fddd9e628a\" y=\"19.831307\"/>\r\n    </g>\r\n    <g clip-path=\"url(#p7e2b41f87d)\">\r\n     <use style=\"fill:#fde725;stroke:#fde725;\" x=\"310.372167\" xlink:href=\"#C0_0_fddd9e628a\" y=\"33.657347\"/>\r\n    </g>\r\n    <g clip-path=\"url(#p7e2b41f87d)\">\r\n     <use style=\"fill:#fde725;stroke:#fde725;\" x=\"312.725106\" xlink:href=\"#C0_0_fddd9e628a\" y=\"48.40058\"/>\r\n    </g>\r\n    <g clip-path=\"url(#p7e2b41f87d)\">\r\n     <use style=\"fill:#fde725;stroke:#fde725;\" x=\"330.740057\" xlink:href=\"#C0_0_fddd9e628a\" y=\"41.80233\"/>\r\n    </g>\r\n    <g clip-path=\"url(#p7e2b41f87d)\">\r\n     <use style=\"fill:#fde725;stroke:#fde725;\" x=\"309.465219\" xlink:href=\"#C0_0_fddd9e628a\" y=\"20.379736\"/>\r\n    </g>\r\n    <g clip-path=\"url(#p7e2b41f87d)\">\r\n     <use style=\"fill:#fde725;stroke:#fde725;\" x=\"279.803352\" xlink:href=\"#C0_0_fddd9e628a\" y=\"31.541698\"/>\r\n    </g>\r\n    <g clip-path=\"url(#p7e2b41f87d)\">\r\n     <use style=\"fill:#fde725;stroke:#fde725;\" x=\"309.421671\" xlink:href=\"#C0_0_fddd9e628a\" y=\"36.953545\"/>\r\n    </g>\r\n    <g clip-path=\"url(#p7e2b41f87d)\">\r\n     <use style=\"fill:#fde725;stroke:#fde725;\" x=\"327.804955\" xlink:href=\"#C0_0_fddd9e628a\" y=\"54.195941\"/>\r\n    </g>\r\n    <g clip-path=\"url(#p7e2b41f87d)\">\r\n     <use style=\"fill:#fde725;stroke:#fde725;\" x=\"296.137837\" xlink:href=\"#C0_0_fddd9e628a\" y=\"32.369873\"/>\r\n    </g>\r\n    <g clip-path=\"url(#p7e2b41f87d)\">\r\n     <use style=\"fill:#fde725;stroke:#fde725;\" x=\"293.457185\" xlink:href=\"#C0_0_fddd9e628a\" y=\"30.555465\"/>\r\n    </g>\r\n    <g clip-path=\"url(#p7e2b41f87d)\">\r\n     <use style=\"fill:#fde725;stroke:#fde725;\" x=\"287.231265\" xlink:href=\"#C0_0_fddd9e628a\" y=\"35.659182\"/>\r\n    </g>\r\n    <g clip-path=\"url(#p7e2b41f87d)\">\r\n     <use style=\"fill:#fde725;stroke:#fde725;\" x=\"343.792108\" xlink:href=\"#C0_0_fddd9e628a\" y=\"49.819431\"/>\r\n    </g>\r\n    <g clip-path=\"url(#p7e2b41f87d)\">\r\n     <use style=\"fill:#fde725;stroke:#fde725;\" x=\"298.110087\" xlink:href=\"#C0_0_fddd9e628a\" y=\"27.428025\"/>\r\n    </g>\r\n    <g clip-path=\"url(#p7e2b41f87d)\">\r\n     <use style=\"fill:#fde725;stroke:#fde725;\" x=\"288.495157\" xlink:href=\"#C0_0_fddd9e628a\" y=\"28.996521\"/>\r\n    </g>\r\n    <g clip-path=\"url(#p7e2b41f87d)\">\r\n     <use style=\"fill:#fde725;stroke:#fde725;\" x=\"291.848569\" xlink:href=\"#C0_0_fddd9e628a\" y=\"35.291224\"/>\r\n    </g>\r\n    <g clip-path=\"url(#p7e2b41f87d)\">\r\n     <use style=\"fill:#fde725;stroke:#fde725;\" x=\"321.53585\" xlink:href=\"#C0_0_fddd9e628a\" y=\"46.883674\"/>\r\n    </g>\r\n    <g clip-path=\"url(#p7e2b41f87d)\">\r\n     <use style=\"fill:#fde725;stroke:#fde725;\" x=\"299.252837\" xlink:href=\"#C0_0_fddd9e628a\" y=\"38.598498\"/>\r\n    </g>\r\n    <g clip-path=\"url(#p7e2b41f87d)\">\r\n     <use style=\"fill:#fde725;stroke:#fde725;\" x=\"278.053451\" xlink:href=\"#C0_0_fddd9e628a\" y=\"33.538176\"/>\r\n    </g>\r\n    <g clip-path=\"url(#p7e2b41f87d)\">\r\n     <use style=\"fill:#fde725;stroke:#fde725;\" x=\"336.24987\" xlink:href=\"#C0_0_fddd9e628a\" y=\"51.693953\"/>\r\n    </g>\r\n   </g>\r\n   <g id=\"matplotlib.axis_1\">\r\n    <g id=\"xtick_1\">\r\n     <g id=\"line2d_1\">\r\n      <defs>\r\n       <path d=\"M 0 0 \r\nL 0 3.5 \r\n\" id=\"m58db582a91\" style=\"stroke:#000000;stroke-width:0.8;\"/>\r\n      </defs>\r\n      <g>\r\n       <use style=\"stroke:#000000;stroke-width:0.8;\" x=\"58.163769\" xlink:href=\"#m58db582a91\" y=\"224.64\"/>\r\n      </g>\r\n     </g>\r\n     <g id=\"text_1\">\r\n      <!-- −10.0 -->\r\n      <g transform=\"translate(42.841112 239.238437)scale(0.1 -0.1)\">\r\n       <defs>\r\n        <path d=\"M 678 2272 \r\nL 4684 2272 \r\nL 4684 1741 \r\nL 678 1741 \r\nL 678 2272 \r\nz\r\n\" id=\"DejaVuSans-2212\" transform=\"scale(0.015625)\"/>\r\n        <path d=\"M 794 531 \r\nL 1825 531 \r\nL 1825 4091 \r\nL 703 3866 \r\nL 703 4441 \r\nL 1819 4666 \r\nL 2450 4666 \r\nL 2450 531 \r\nL 3481 531 \r\nL 3481 0 \r\nL 794 0 \r\nL 794 531 \r\nz\r\n\" id=\"DejaVuSans-31\" transform=\"scale(0.015625)\"/>\r\n        <path d=\"M 2034 4250 \r\nQ 1547 4250 1301 3770 \r\nQ 1056 3291 1056 2328 \r\nQ 1056 1369 1301 889 \r\nQ 1547 409 2034 409 \r\nQ 2525 409 2770 889 \r\nQ 3016 1369 3016 2328 \r\nQ 3016 3291 2770 3770 \r\nQ 2525 4250 2034 4250 \r\nz\r\nM 2034 4750 \r\nQ 2819 4750 3233 4129 \r\nQ 3647 3509 3647 2328 \r\nQ 3647 1150 3233 529 \r\nQ 2819 -91 2034 -91 \r\nQ 1250 -91 836 529 \r\nQ 422 1150 422 2328 \r\nQ 422 3509 836 4129 \r\nQ 1250 4750 2034 4750 \r\nz\r\n\" id=\"DejaVuSans-30\" transform=\"scale(0.015625)\"/>\r\n        <path d=\"M 684 794 \r\nL 1344 794 \r\nL 1344 0 \r\nL 684 0 \r\nL 684 794 \r\nz\r\n\" id=\"DejaVuSans-2e\" transform=\"scale(0.015625)\"/>\r\n       </defs>\r\n       <use xlink:href=\"#DejaVuSans-2212\"/>\r\n       <use x=\"83.789062\" xlink:href=\"#DejaVuSans-31\"/>\r\n       <use x=\"147.412109\" xlink:href=\"#DejaVuSans-30\"/>\r\n       <use x=\"211.035156\" xlink:href=\"#DejaVuSans-2e\"/>\r\n       <use x=\"242.822266\" xlink:href=\"#DejaVuSans-30\"/>\r\n      </g>\r\n     </g>\r\n    </g>\r\n    <g id=\"xtick_2\">\r\n     <g id=\"line2d_2\">\r\n      <g>\r\n       <use style=\"stroke:#000000;stroke-width:0.8;\" x=\"99.555322\" xlink:href=\"#m58db582a91\" y=\"224.64\"/>\r\n      </g>\r\n     </g>\r\n     <g id=\"text_2\">\r\n      <!-- −7.5 -->\r\n      <g transform=\"translate(87.413916 239.238437)scale(0.1 -0.1)\">\r\n       <defs>\r\n        <path d=\"M 525 4666 \r\nL 3525 4666 \r\nL 3525 4397 \r\nL 1831 0 \r\nL 1172 0 \r\nL 2766 4134 \r\nL 525 4134 \r\nL 525 4666 \r\nz\r\n\" id=\"DejaVuSans-37\" transform=\"scale(0.015625)\"/>\r\n        <path d=\"M 691 4666 \r\nL 3169 4666 \r\nL 3169 4134 \r\nL 1269 4134 \r\nL 1269 2991 \r\nQ 1406 3038 1543 3061 \r\nQ 1681 3084 1819 3084 \r\nQ 2600 3084 3056 2656 \r\nQ 3513 2228 3513 1497 \r\nQ 3513 744 3044 326 \r\nQ 2575 -91 1722 -91 \r\nQ 1428 -91 1123 -41 \r\nQ 819 9 494 109 \r\nL 494 744 \r\nQ 775 591 1075 516 \r\nQ 1375 441 1709 441 \r\nQ 2250 441 2565 725 \r\nQ 2881 1009 2881 1497 \r\nQ 2881 1984 2565 2268 \r\nQ 2250 2553 1709 2553 \r\nQ 1456 2553 1204 2497 \r\nQ 953 2441 691 2322 \r\nL 691 4666 \r\nz\r\n\" id=\"DejaVuSans-35\" transform=\"scale(0.015625)\"/>\r\n       </defs>\r\n       <use xlink:href=\"#DejaVuSans-2212\"/>\r\n       <use x=\"83.789062\" xlink:href=\"#DejaVuSans-37\"/>\r\n       <use x=\"147.412109\" xlink:href=\"#DejaVuSans-2e\"/>\r\n       <use x=\"179.199219\" xlink:href=\"#DejaVuSans-35\"/>\r\n      </g>\r\n     </g>\r\n    </g>\r\n    <g id=\"xtick_3\">\r\n     <g id=\"line2d_3\">\r\n      <g>\r\n       <use style=\"stroke:#000000;stroke-width:0.8;\" x=\"140.946875\" xlink:href=\"#m58db582a91\" y=\"224.64\"/>\r\n      </g>\r\n     </g>\r\n     <g id=\"text_3\">\r\n      <!-- −5.0 -->\r\n      <g transform=\"translate(128.805469 239.238437)scale(0.1 -0.1)\">\r\n       <use xlink:href=\"#DejaVuSans-2212\"/>\r\n       <use x=\"83.789062\" xlink:href=\"#DejaVuSans-35\"/>\r\n       <use x=\"147.412109\" xlink:href=\"#DejaVuSans-2e\"/>\r\n       <use x=\"179.199219\" xlink:href=\"#DejaVuSans-30\"/>\r\n      </g>\r\n     </g>\r\n    </g>\r\n    <g id=\"xtick_4\">\r\n     <g id=\"line2d_4\">\r\n      <g>\r\n       <use style=\"stroke:#000000;stroke-width:0.8;\" x=\"182.338428\" xlink:href=\"#m58db582a91\" y=\"224.64\"/>\r\n      </g>\r\n     </g>\r\n     <g id=\"text_4\">\r\n      <!-- −2.5 -->\r\n      <g transform=\"translate(170.197022 239.238437)scale(0.1 -0.1)\">\r\n       <defs>\r\n        <path d=\"M 1228 531 \r\nL 3431 531 \r\nL 3431 0 \r\nL 469 0 \r\nL 469 531 \r\nQ 828 903 1448 1529 \r\nQ 2069 2156 2228 2338 \r\nQ 2531 2678 2651 2914 \r\nQ 2772 3150 2772 3378 \r\nQ 2772 3750 2511 3984 \r\nQ 2250 4219 1831 4219 \r\nQ 1534 4219 1204 4116 \r\nQ 875 4013 500 3803 \r\nL 500 4441 \r\nQ 881 4594 1212 4672 \r\nQ 1544 4750 1819 4750 \r\nQ 2544 4750 2975 4387 \r\nQ 3406 4025 3406 3419 \r\nQ 3406 3131 3298 2873 \r\nQ 3191 2616 2906 2266 \r\nQ 2828 2175 2409 1742 \r\nQ 1991 1309 1228 531 \r\nz\r\n\" id=\"DejaVuSans-32\" transform=\"scale(0.015625)\"/>\r\n       </defs>\r\n       <use xlink:href=\"#DejaVuSans-2212\"/>\r\n       <use x=\"83.789062\" xlink:href=\"#DejaVuSans-32\"/>\r\n       <use x=\"147.412109\" xlink:href=\"#DejaVuSans-2e\"/>\r\n       <use x=\"179.199219\" xlink:href=\"#DejaVuSans-35\"/>\r\n      </g>\r\n     </g>\r\n    </g>\r\n    <g id=\"xtick_5\">\r\n     <g id=\"line2d_5\">\r\n      <g>\r\n       <use style=\"stroke:#000000;stroke-width:0.8;\" x=\"223.729982\" xlink:href=\"#m58db582a91\" y=\"224.64\"/>\r\n      </g>\r\n     </g>\r\n     <g id=\"text_5\">\r\n      <!-- 0.0 -->\r\n      <g transform=\"translate(215.778419 239.238437)scale(0.1 -0.1)\">\r\n       <use xlink:href=\"#DejaVuSans-30\"/>\r\n       <use x=\"63.623047\" xlink:href=\"#DejaVuSans-2e\"/>\r\n       <use x=\"95.410156\" xlink:href=\"#DejaVuSans-30\"/>\r\n      </g>\r\n     </g>\r\n    </g>\r\n    <g id=\"xtick_6\">\r\n     <g id=\"line2d_6\">\r\n      <g>\r\n       <use style=\"stroke:#000000;stroke-width:0.8;\" x=\"265.121535\" xlink:href=\"#m58db582a91\" y=\"224.64\"/>\r\n      </g>\r\n     </g>\r\n     <g id=\"text_6\">\r\n      <!-- 2.5 -->\r\n      <g transform=\"translate(257.169973 239.238437)scale(0.1 -0.1)\">\r\n       <use xlink:href=\"#DejaVuSans-32\"/>\r\n       <use x=\"63.623047\" xlink:href=\"#DejaVuSans-2e\"/>\r\n       <use x=\"95.410156\" xlink:href=\"#DejaVuSans-35\"/>\r\n      </g>\r\n     </g>\r\n    </g>\r\n    <g id=\"xtick_7\">\r\n     <g id=\"line2d_7\">\r\n      <g>\r\n       <use style=\"stroke:#000000;stroke-width:0.8;\" x=\"306.513088\" xlink:href=\"#m58db582a91\" y=\"224.64\"/>\r\n      </g>\r\n     </g>\r\n     <g id=\"text_7\">\r\n      <!-- 5.0 -->\r\n      <g transform=\"translate(298.561526 239.238437)scale(0.1 -0.1)\">\r\n       <use xlink:href=\"#DejaVuSans-35\"/>\r\n       <use x=\"63.623047\" xlink:href=\"#DejaVuSans-2e\"/>\r\n       <use x=\"95.410156\" xlink:href=\"#DejaVuSans-30\"/>\r\n      </g>\r\n     </g>\r\n    </g>\r\n    <g id=\"xtick_8\">\r\n     <g id=\"line2d_8\">\r\n      <g>\r\n       <use style=\"stroke:#000000;stroke-width:0.8;\" x=\"347.904642\" xlink:href=\"#m58db582a91\" y=\"224.64\"/>\r\n      </g>\r\n     </g>\r\n     <g id=\"text_8\">\r\n      <!-- 7.5 -->\r\n      <g transform=\"translate(339.953079 239.238437)scale(0.1 -0.1)\">\r\n       <use xlink:href=\"#DejaVuSans-37\"/>\r\n       <use x=\"63.623047\" xlink:href=\"#DejaVuSans-2e\"/>\r\n       <use x=\"95.410156\" xlink:href=\"#DejaVuSans-35\"/>\r\n      </g>\r\n     </g>\r\n    </g>\r\n   </g>\r\n   <g id=\"matplotlib.axis_2\">\r\n    <g id=\"ytick_1\">\r\n     <g id=\"line2d_9\">\r\n      <defs>\r\n       <path d=\"M 0 0 \r\nL -3.5 0 \r\n\" id=\"m2b99cf10c4\" style=\"stroke:#000000;stroke-width:0.8;\"/>\r\n      </defs>\r\n      <g>\r\n       <use style=\"stroke:#000000;stroke-width:0.8;\" x=\"35.304688\" xlink:href=\"#m2b99cf10c4\" y=\"194.272808\"/>\r\n      </g>\r\n     </g>\r\n     <g id=\"text_9\">\r\n      <!-- −20 -->\r\n      <g transform=\"translate(7.2 198.072027)scale(0.1 -0.1)\">\r\n       <use xlink:href=\"#DejaVuSans-2212\"/>\r\n       <use x=\"83.789062\" xlink:href=\"#DejaVuSans-32\"/>\r\n       <use x=\"147.412109\" xlink:href=\"#DejaVuSans-30\"/>\r\n      </g>\r\n     </g>\r\n    </g>\r\n    <g id=\"ytick_2\">\r\n     <g id=\"line2d_10\">\r\n      <g>\r\n       <use style=\"stroke:#000000;stroke-width:0.8;\" x=\"35.304688\" xlink:href=\"#m2b99cf10c4\" y=\"151.322498\"/>\r\n      </g>\r\n     </g>\r\n     <g id=\"text_10\">\r\n      <!-- −10 -->\r\n      <g transform=\"translate(7.2 155.121717)scale(0.1 -0.1)\">\r\n       <use xlink:href=\"#DejaVuSans-2212\"/>\r\n       <use x=\"83.789062\" xlink:href=\"#DejaVuSans-31\"/>\r\n       <use x=\"147.412109\" xlink:href=\"#DejaVuSans-30\"/>\r\n      </g>\r\n     </g>\r\n    </g>\r\n    <g id=\"ytick_3\">\r\n     <g id=\"line2d_11\">\r\n      <g>\r\n       <use style=\"stroke:#000000;stroke-width:0.8;\" x=\"35.304688\" xlink:href=\"#m2b99cf10c4\" y=\"108.372189\"/>\r\n      </g>\r\n     </g>\r\n     <g id=\"text_11\">\r\n      <!-- 0 -->\r\n      <g transform=\"translate(21.942188 112.171408)scale(0.1 -0.1)\">\r\n       <use xlink:href=\"#DejaVuSans-30\"/>\r\n      </g>\r\n     </g>\r\n    </g>\r\n    <g id=\"ytick_4\">\r\n     <g id=\"line2d_12\">\r\n      <g>\r\n       <use style=\"stroke:#000000;stroke-width:0.8;\" x=\"35.304688\" xlink:href=\"#m2b99cf10c4\" y=\"65.421879\"/>\r\n      </g>\r\n     </g>\r\n     <g id=\"text_12\">\r\n      <!-- 10 -->\r\n      <g transform=\"translate(15.579688 69.221098)scale(0.1 -0.1)\">\r\n       <use xlink:href=\"#DejaVuSans-31\"/>\r\n       <use x=\"63.623047\" xlink:href=\"#DejaVuSans-30\"/>\r\n      </g>\r\n     </g>\r\n    </g>\r\n    <g id=\"ytick_5\">\r\n     <g id=\"line2d_13\">\r\n      <g>\r\n       <use style=\"stroke:#000000;stroke-width:0.8;\" x=\"35.304688\" xlink:href=\"#m2b99cf10c4\" y=\"22.47157\"/>\r\n      </g>\r\n     </g>\r\n     <g id=\"text_13\">\r\n      <!-- 20 -->\r\n      <g transform=\"translate(15.579688 26.270789)scale(0.1 -0.1)\">\r\n       <use xlink:href=\"#DejaVuSans-32\"/>\r\n       <use x=\"63.623047\" xlink:href=\"#DejaVuSans-30\"/>\r\n      </g>\r\n     </g>\r\n    </g>\r\n   </g>\r\n   <g id=\"patch_3\">\r\n    <path d=\"M 35.304688 224.64 \r\nL 35.304688 7.2 \r\n\" style=\"fill:none;stroke:#000000;stroke-linecap:square;stroke-linejoin:miter;stroke-width:0.8;\"/>\r\n   </g>\r\n   <g id=\"patch_4\">\r\n    <path d=\"M 370.104688 224.64 \r\nL 370.104688 7.2 \r\n\" style=\"fill:none;stroke:#000000;stroke-linecap:square;stroke-linejoin:miter;stroke-width:0.8;\"/>\r\n   </g>\r\n   <g id=\"patch_5\">\r\n    <path d=\"M 35.304688 224.64 \r\nL 370.104688 224.64 \r\n\" style=\"fill:none;stroke:#000000;stroke-linecap:square;stroke-linejoin:miter;stroke-width:0.8;\"/>\r\n   </g>\r\n   <g id=\"patch_6\">\r\n    <path d=\"M 35.304688 7.2 \r\nL 370.104688 7.2 \r\n\" style=\"fill:none;stroke:#000000;stroke-linecap:square;stroke-linejoin:miter;stroke-width:0.8;\"/>\r\n   </g>\r\n  </g>\r\n </g>\r\n <defs>\r\n  <clipPath id=\"p7e2b41f87d\">\r\n   <rect height=\"217.44\" width=\"334.8\" x=\"35.304688\" y=\"7.2\"/>\r\n  </clipPath>\r\n </defs>\r\n</svg>\r\n",
      "image/png": "[encoded data removed]"
     },
     "metadata": {
      "needs_background": "light"
     }
    }
   ],
   "source": [
    "import matplotlib.pyplot as plt\n",
    "\n",
    "plt.scatter(X_tsne2[:, 0], X_tsne2[:, 1], c=y)"
   ]
  },
  {
   "cell_type": "code",
   "execution_count": 4,
   "metadata": {},
   "outputs": [
    {
     "output_type": "display_data",
     "data": {
      "application/vnd.plotly.v1+json": {
       "config": {
        "plotlyServerURL": "https://plot.ly"
       },
       "data": [
        {
         "hovertemplate": "x=%{x}<br>y=%{y}<br>z=%{z}<br>color=%{marker.color}<extra></extra>",
         "legendgroup": "",
         "marker": {
          "color": [
           0,
           0,
           0,
           0,
           0,
           0,
           0,
           0,
           0,
           0,
           0,
           0,
           0,
           0,
           0,
           0,
           0,
           0,
           0,
           0,
           0,
           0,
           0,
           0,
           0,
           0,
           0,
           0,
           0,
           0,
           0,
           0,
           0,
           0,
           0,
           0,
           0,
           0,
           0,
           0,
           0,
           0,
           0,
           0,
           0,
           0,
           0,
           0,
           0,
           0,
           1,
           1,
           1,
           1,
           1,
           1,
           1,
           1,
           1,
           1,
           1,
           1,
           1,
           1,
           1,
           1,
           1,
           1,
           1,
           1,
           1,
           1,
           1,
           1,
           1,
           1,
           1,
           1,
           1,
           1,
           1,
           1,
           1,
           1,
           1,
           1,
           1,
           1,
           1,
           1,
           1,
           1,
           1,
           1,
           1,
           1,
           1,
           1,
           1,
           1,
           2,
           2,
           2,
           2,
           2,
           2,
           2,
           2,
           2,
           2,
           2,
           2,
           2,
           2,
           2,
           2,
           2,
           2,
           2,
           2,
           2,
           2,
           2,
           2,
           2,
           2,
           2,
           2,
           2,
           2,
           2,
           2,
           2,
           2,
           2,
           2,
           2,
           2,
           2,
           2,
           2,
           2,
           2,
           2,
           2,
           2,
           2,
           2,
           2,
           2
          ],
          "coloraxis": "coloraxis",
          "opacity": 0.7,
          "symbol": "circle"
         },
         "mode": "markers",
         "name": "",
         "scene": "scene",
         "showlegend": false,
         "type": "scatter3d",
         "x": [
          -14.749664306640625,
          -115.52008056640625,
          -49.99325180053711,
          -106.68898010253906,
          -144.98931884765625,
          -91.76863098144531,
          -0.15290987491607666,
          -50.772483825683594,
          -81.86691284179688,
          -103.40298461914062,
          -41.14510726928711,
          -84.3247299194336,
          -39.95679473876953,
          -29.744033813476562,
          63.80453872680664,
          83.22197723388672,
          -72.11185455322266,
          -54.850730895996094,
          -22.446500778198242,
          -3.287386655807495,
          -48.94762420654297,
          21.76311492919922,
          -35.04422378540039,
          -73.68778228759766,
          -106.29353332519531,
          -104.62200927734375,
          -50.29896926879883,
          -29.523563385009766,
          -4.6989216804504395,
          -41.49225997924805,
          -122.13211059570312,
          -17.653526306152344,
          30.222055435180664,
          46.421485900878906,
          -7.98403787612915,
          -65.44120788574219,
          24.322561264038086,
          -3.5146219730377197,
          -181.18455505371094,
          -35.98043441772461,
          -27.288164138793945,
          -90.76789855957031,
          -70.73804473876953,
          -6.122954368591309,
          -71.57230377197266,
          -82.28520965576172,
          38.041725158691406,
          46.33830642700195,
          -2.8713929653167725,
          -4.644876956939697,
          75.71314239501953,
          46.5146598815918,
          -136.4104461669922,
          31.99484634399414,
          75.12688446044922,
          119.89933776855469,
          15.03990650177002,
          96.17841339111328,
          47.858638763427734,
          116.94902038574219,
          108.27324676513672,
          99.41111755371094,
          51.11653137207031,
          35.08189392089844,
          143.5198974609375,
          27.086734771728516,
          67.55183410644531,
          76.06460571289062,
          61.65868377685547,
          97.68212127685547,
          18.87274169921875,
          152.757568359375,
          49.791656494140625,
          112.25208282470703,
          80.77295684814453,
          -50.28905487060547,
          44.03907775878906,
          -82.48494720458984,
          95.51903533935547,
          136.48118591308594,
          126.80126953125,
          79.93721771240234,
          149.7600860595703,
          -50.56879425048828,
          53.5987548828125,
          46.47848892211914,
          -135.1461181640625,
          132.15492248535156,
          79.00239562988281,
          102,
          92.74784088134766,
          74.53182983398438,
          157.11231994628906,
          113.63722229003906,
          115.32831573486328,
          -124.22024536132812,
          118.36555480957031,
          29.608776092529297,
          -159.15557861328125,
          139.81039428710938,
          -107.6657485961914,
          -9.331327438354492,
          -38.15624237060547,
          10.049181938171387,
          -22.25118064880371,
          -68.01042175292969,
          102.26992797851562,
          -30.304759979248047,
          -25.275814056396484,
          -85.07974243164062,
          -37.42850875854492,
          9.402962684631348,
          -40.0702018737793,
          63.82470703125,
          16.996864318847656,
          -46.11714553833008,
          8.159638404846191,
          -93.80355834960938,
          -119.6303482055664,
          -0.07166747748851776,
          -77.10935974121094,
          -12.10454273223877,
          -95.26187896728516,
          62.2221794128418,
          17.603038787841797,
          -61.230323791503906,
          -36.23248291015625,
          -9.019612312316895,
          2.2715795040130615,
          -44.78761291503906,
          -77.7697982788086,
          -113.4941177368164,
          -28.901878356933594,
          28.44915008544922,
          53.702239990234375,
          -81.70867919921875,
          -95.42329406738281,
          20.23082733154297,
          -15.168489456176758,
          43.191471099853516,
          -37.3329963684082,
          -66.52349853515625,
          92.93113708496094,
          -82.40863800048828,
          -66.96855926513672,
          -21.607975006103516,
          55.27849197387695,
          146.45037841796875,
          -72.61270904541016,
          20.35015296936035
         ],
         "y": [
          89.2060317993164,
          123.33887481689453,
          150.6442108154297,
          152.77725219726562,
          -83.30160522460938,
          28.20674705505371,
          153.8173370361328,
          109.7606201171875,
          188.0717315673828,
          84.17146301269531,
          75.29698181152344,
          117.65794372558594,
          186.94271850585938,
          188.36265563964844,
          100.8330078125,
          107.68789672851562,
          -161.43214416503906,
          70.38018035888672,
          34.39780044555664,
          96.97338104248047,
          22.191970825195312,
          97.34135437011719,
          119.542236328125,
          34.89242172241211,
          80.21688079833984,
          77.05996704101562,
          63.76227569580078,
          65.7071762084961,
          98.27655029296875,
          144.84642028808594,
          109.02416229248047,
          44.37348556518555,
          124.50515747070312,
          83.70020294189453,
          -92.25434875488281,
          106.775390625,
          61.460182189941406,
          130.9517822265625,
          -14.789938926696777,
          101.41620635986328,
          124.2236328125,
          168.1742401123047,
          169.2722930908203,
          51.766761779785156,
          42.42253494262695,
          122.5274429321289,
          -165.5897216796875,
          -71.37043762207031,
          76.30705261230469,
          -47.11722946166992,
          18.416963577270508,
          11.707770347595215,
          -0.5358681082725525,
          33.00667190551758,
          -30.685659408569336,
          -17.213077545166016,
          2.161198854446411,
          -34.173484802246094,
          -14.078956604003906,
          -85.8238754272461,
          -0.40967121720314026,
          27.68728256225586,
          55.19410705566406,
          -36.06046676635742,
          -14.638157844543457,
          -18.657136917114258,
          -21.255237579345703,
          57.75640869140625,
          -77.37788391113281,
          52.19279861450195,
          -26.751998901367188,
          22.717161178588867,
          -78.50639343261719,
          -8.293731689453125,
          18.742231369018555,
          -40.33950424194336,
          -58.03861618041992,
          -64.1898422241211,
          -46.64295959472656,
          27.226316452026367,
          61.083187103271484,
          10.721429824829102,
          25.51371955871582,
          -34.84385299682617,
          17.291061401367188,
          -21.91326141357422,
          28.84538459777832,
          44.153499603271484,
          52.180442810058594,
          20.365827560424805,
          3.8469769954681396,
          -17.05860137939453,
          -11.560235023498535,
          97.86213684082031,
          -16.1239013671875,
          3.712728977203369,
          36.37936782836914,
          16.70053482055664,
          -94.5994873046875,
          -32.59074783325195,
          -134.67959594726562,
          -40.32620620727539,
          -68.90585327148438,
          -137.74635314941406,
          15.013387680053711,
          -20.76013946533203,
          -60.466468811035156,
          -13.88573932647705,
          -115.2867202758789,
          -99.99036407470703,
          -94.88105010986328,
          -102.50411224365234,
          -118.55270385742188,
          -108.09236145019531,
          -111.2704849243164,
          -100.2428207397461,
          -97.63771057128906,
          9.323753356933594,
          -48.235355377197266,
          -66.54146575927734,
          -74.53679656982422,
          -16.955522537231445,
          -15.438305854797363,
          -83.6455078125,
          -10.076129913330078,
          -35.2869987487793,
          -45.959564208984375,
          -58.98942565917969,
          -140.60238647460938,
          -29.46747589111328,
          -57.602108001708984,
          -26.700489044189453,
          -161.09927368164062,
          -61.21981430053711,
          -141.55136108398438,
          -62.440433502197266,
          -104.4519271850586,
          35.835968017578125,
          -15.313789367675781,
          75.69938659667969,
          -79.65608978271484,
          -22.392183303833008,
          -105.12893676757812,
          -104.82125854492188,
          -137.9554901123047,
          -136.09544372558594,
          -118.04122161865234,
          -71.45294952392578,
          -125.07020568847656,
          -69.24592590332031
         ],
         "z": [
          -3.7128994464874268,
          48.91702651977539,
          10.623235702514648,
          0.724134087562561,
          -90.98260498046875,
          -6.555557727813721,
          30.854890823364258,
          -12.559663772583008,
          15.826156616210938,
          70.24610900878906,
          -62.686161041259766,
          -37.4962158203125,
          38.989234924316406,
          -17.03575897216797,
          -14.381474494934082,
          -57.5119743347168,
          -84.88838195800781,
          -6.655825138092041,
          -52.35969161987305,
          -81.6078872680664,
          7.348134994506836,
          18.82172203063965,
          107.0804214477539,
          48.99575424194336,
          -35.64119338989258,
          26.43716049194336,
          34.856021881103516,
          74.16631317138672,
          55.45159912109375,
          55.87008285522461,
          0.6575249433517456,
          -6.349221229553223,
          -49.4813346862793,
          -56.05588150024414,
          -136.99977111816406,
          64.68426513671875,
          -10.194723129272461,
          -11.027312278747559,
          -53.105079650878906,
          27.253881454467773,
          -47.15234375,
          63.15300750732422,
          -29.268871307373047,
          37.769981384277344,
          -45.42829513549805,
          23.09252166748047,
          64.31427764892578,
          -136.60055541992188,
          -41.86836624145508,
          -116.69998931884766,
          -102.2740249633789,
          -17.056793212890625,
          -15.133049011230469,
          -59.661617279052734,
          -56.191429138183594,
          17.831701278686523,
          5.030068874359131,
          128.46807861328125,
          -83.7957534790039,
          -51.314720153808594,
          154.94993591308594,
          -0.9985617399215698,
          117.69351959228516,
          86.4491195678711,
          102.12049102783203,
          -46.70573806762695,
          58.42454147338867,
          73.849365234375,
          102.90381622314453,
          116.09561157226562,
          45.30228042602539,
          11.088693618774414,
          17.82049560546875,
          -29.37079429626465,
          -49.17416000366211,
          -167.57672119140625,
          -74.1953125,
          72.91403198242188,
          -1.8034412860870361,
          118.49473571777344,
          85.76243591308594,
          118.89132690429688,
          68.47367858886719,
          15.313437461853027,
          46.8140869140625,
          16.86931610107422,
          -56.406978607177734,
          -40.78003692626953,
          28.774681091308594,
          81.68052673339844,
          38.459774017333984,
          -11.787748336791992,
          48.21425247192383,
          55.913352966308594,
          65.03272247314453,
          90.74042510986328,
          37.90816116333008,
          86.80561828613281,
          -17.259462356567383,
          -56.6605224609375,
          -11.464109420776367,
          -4.567986488342285,
          -73.1704330444336,
          -57.88863754272461,
          -119.8350830078125,
          -118.92273712158203,
          54.64760971069336,
          -81.05416870117188,
          -76.44991302490234,
          -82.50896453857422,
          68.37700653076172,
          0.09779340028762817,
          -28.320589065551758,
          57.333534240722656,
          71.19593048095703,
          24.53432846069336,
          -45.15761184692383,
          -100.46745300292969,
          -64.22090148925781,
          116.1976547241211,
          -8.838841438293457,
          83.26305389404297,
          -60.19694519042969,
          -24.411020278930664,
          -141.39015197753906,
          -80.16197204589844,
          57.22315979003906,
          31.516233444213867,
          -15.014960289001465,
          -43.489044189453125,
          -53.30322265625,
          -110.031494140625,
          -28.281116485595703,
          -13.648303031921387,
          -47.56973648071289,
          -106.01229858398438,
          22.621530532836914,
          -133.17576599121094,
          35.48780822753906,
          -119.18157196044922,
          -25.250749588012695,
          102.37174987792969,
          25.565536499023438,
          -37.904476165771484,
          2.9322478771209717,
          30.46001625061035,
          -2.4066007137298584,
          -10.570838928222656,
          52.24278259277344,
          53.19460678100586
         ]
        }
       ],
       "layout": {
        "coloraxis": {
         "colorbar": {
          "title": {
           "text": "color"
          }
         },
         "colorscale": [
          [
           0,
           "#0d0887"
          ],
          [
           0.1111111111111111,
           "#46039f"
          ],
          [
           0.2222222222222222,
           "#7201a8"
          ],
          [
           0.3333333333333333,
           "#9c179e"
          ],
          [
           0.4444444444444444,
           "#bd3786"
          ],
          [
           0.5555555555555556,
           "#d8576b"
          ],
          [
           0.6666666666666666,
           "#ed7953"
          ],
          [
           0.7777777777777778,
           "#fb9f3a"
          ],
          [
           0.8888888888888888,
           "#fdca26"
          ],
          [
           1,
           "#f0f921"
          ]
         ]
        },
        "legend": {
         "tracegroupgap": 0
        },
        "margin": {
         "t": 60
        },
        "scene": {
         "domain": {
          "x": [
           0,
           1
          ],
          "y": [
           0,
           1
          ]
         },
         "xaxis": {
          "title": {
           "text": "x"
          }
         },
         "yaxis": {
          "title": {
           "text": "y"
          }
         },
         "zaxis": {
          "title": {
           "text": "z"
          }
         }
        },
        "template": {
         "data": {
          "bar": [
           {
            "error_x": {
             "color": "#2a3f5f"
            },
            "error_y": {
             "color": "#2a3f5f"
            },
            "marker": {
             "line": {
              "color": "#E5ECF6",
              "width": 0.5
             }
            },
            "type": "bar"
           }
          ],
          "barpolar": [
           {
            "marker": {
             "line": {
              "color": "#E5ECF6",
              "width": 0.5
             }
            },
            "type": "barpolar"
           }
          ],
          "carpet": [
           {
            "aaxis": {
             "endlinecolor": "#2a3f5f",
             "gridcolor": "white",
             "linecolor": "white",
             "minorgridcolor": "white",
             "startlinecolor": "#2a3f5f"
            },
            "baxis": {
             "endlinecolor": "#2a3f5f",
             "gridcolor": "white",
             "linecolor": "white",
             "minorgridcolor": "white",
             "startlinecolor": "#2a3f5f"
            },
            "type": "carpet"
           }
          ],
          "choropleth": [
           {
            "colorbar": {
             "outlinewidth": 0,
             "ticks": ""
            },
            "type": "choropleth"
           }
          ],
          "contour": [
           {
            "colorbar": {
             "outlinewidth": 0,
             "ticks": ""
            },
            "colorscale": [
             [
              0,
              "#0d0887"
             ],
             [
              0.1111111111111111,
              "#46039f"
             ],
             [
              0.2222222222222222,
              "#7201a8"
             ],
             [
              0.3333333333333333,
              "#9c179e"
             ],
             [
              0.4444444444444444,
              "#bd3786"
             ],
             [
              0.5555555555555556,
              "#d8576b"
             ],
             [
              0.6666666666666666,
              "#ed7953"
             ],
             [
              0.7777777777777778,
              "#fb9f3a"
             ],
             [
              0.8888888888888888,
              "#fdca26"
             ],
             [
              1,
              "#f0f921"
             ]
            ],
            "type": "contour"
           }
          ],
          "contourcarpet": [
           {
            "colorbar": {
             "outlinewidth": 0,
             "ticks": ""
            },
            "type": "contourcarpet"
           }
          ],
          "heatmap": [
           {
            "colorbar": {
             "outlinewidth": 0,
             "ticks": ""
            },
            "colorscale": [
             [
              0,
              "#0d0887"
             ],
             [
              0.1111111111111111,
              "#46039f"
             ],
             [
              0.2222222222222222,
              "#7201a8"
             ],
             [
              0.3333333333333333,
              "#9c179e"
             ],
             [
              0.4444444444444444,
              "#bd3786"
             ],
             [
              0.5555555555555556,
              "#d8576b"
             ],
             [
              0.6666666666666666,
              "#ed7953"
             ],
             [
              0.7777777777777778,
              "#fb9f3a"
             ],
             [
              0.8888888888888888,
              "#fdca26"
             ],
             [
              1,
              "#f0f921"
             ]
            ],
            "type": "heatmap"
           }
          ],
          "heatmapgl": [
           {
            "colorbar": {
             "outlinewidth": 0,
             "ticks": ""
            },
            "colorscale": [
             [
              0,
              "#0d0887"
             ],
             [
              0.1111111111111111,
              "#46039f"
             ],
             [
              0.2222222222222222,
              "#7201a8"
             ],
             [
              0.3333333333333333,
              "#9c179e"
             ],
             [
              0.4444444444444444,
              "#bd3786"
             ],
             [
              0.5555555555555556,
              "#d8576b"
             ],
             [
              0.6666666666666666,
              "#ed7953"
             ],
             [
              0.7777777777777778,
              "#fb9f3a"
             ],
             [
              0.8888888888888888,
              "#fdca26"
             ],
             [
              1,
              "#f0f921"
             ]
            ],
            "type": "heatmapgl"
           }
          ],
          "histogram": [
           {
            "marker": {
             "colorbar": {
              "outlinewidth": 0,
              "ticks": ""
             }
            },
            "type": "histogram"
           }
          ],
          "histogram2d": [
           {
            "colorbar": {
             "outlinewidth": 0,
             "ticks": ""
            },
            "colorscale": [
             [
              0,
              "#0d0887"
             ],
             [
              0.1111111111111111,
              "#46039f"
             ],
             [
              0.2222222222222222,
              "#7201a8"
             ],
             [
              0.3333333333333333,
              "#9c179e"
             ],
             [
              0.4444444444444444,
              "#bd3786"
             ],
             [
              0.5555555555555556,
              "#d8576b"
             ],
             [
              0.6666666666666666,
              "#ed7953"
             ],
             [
              0.7777777777777778,
              "#fb9f3a"
             ],
             [
              0.8888888888888888,
              "#fdca26"
             ],
             [
              1,
              "#f0f921"
             ]
            ],
            "type": "histogram2d"
           }
          ],
          "histogram2dcontour": [
           {
            "colorbar": {
             "outlinewidth": 0,
             "ticks": ""
            },
            "colorscale": [
             [
              0,
              "#0d0887"
             ],
             [
              0.1111111111111111,
              "#46039f"
             ],
             [
              0.2222222222222222,
              "#7201a8"
             ],
             [
              0.3333333333333333,
              "#9c179e"
             ],
             [
              0.4444444444444444,
              "#bd3786"
             ],
             [
              0.5555555555555556,
              "#d8576b"
             ],
             [
              0.6666666666666666,
              "#ed7953"
             ],
             [
              0.7777777777777778,
              "#fb9f3a"
             ],
             [
              0.8888888888888888,
              "#fdca26"
             ],
             [
              1,
              "#f0f921"
             ]
            ],
            "type": "histogram2dcontour"
           }
          ],
          "mesh3d": [
           {
            "colorbar": {
             "outlinewidth": 0,
             "ticks": ""
            },
            "type": "mesh3d"
           }
          ],
          "parcoords": [
           {
            "line": {
             "colorbar": {
              "outlinewidth": 0,
              "ticks": ""
             }
            },
            "type": "parcoords"
           }
          ],
          "pie": [
           {
            "automargin": true,
            "type": "pie"
           }
          ],
          "scatter": [
           {
            "marker": {
             "colorbar": {
              "outlinewidth": 0,
              "ticks": ""
             }
            },
            "type": "scatter"
           }
          ],
          "scatter3d": [
           {
            "line": {
             "colorbar": {
              "outlinewidth": 0,
              "ticks": ""
             }
            },
            "marker": {
             "colorbar": {
              "outlinewidth": 0,
              "ticks": ""
             }
            },
            "type": "scatter3d"
           }
          ],
          "scattercarpet": [
           {
            "marker": {
             "colorbar": {
              "outlinewidth": 0,
              "ticks": ""
             }
            },
            "type": "scattercarpet"
           }
          ],
          "scattergeo": [
           {
            "marker": {
             "colorbar": {
              "outlinewidth": 0,
              "ticks": ""
             }
            },
            "type": "scattergeo"
           }
          ],
          "scattergl": [
           {
            "marker": {
             "colorbar": {
              "outlinewidth": 0,
              "ticks": ""
             }
            },
            "type": "scattergl"
           }
          ],
          "scattermapbox": [
           {
            "marker": {
             "colorbar": {
              "outlinewidth": 0,
              "ticks": ""
             }
            },
            "type": "scattermapbox"
           }
          ],
          "scatterpolar": [
           {
            "marker": {
             "colorbar": {
              "outlinewidth": 0,
              "ticks": ""
             }
            },
            "type": "scatterpolar"
           }
          ],
          "scatterpolargl": [
           {
            "marker": {
             "colorbar": {
              "outlinewidth": 0,
              "ticks": ""
             }
            },
            "type": "scatterpolargl"
           }
          ],
          "scatterternary": [
           {
            "marker": {
             "colorbar": {
              "outlinewidth": 0,
              "ticks": ""
             }
            },
            "type": "scatterternary"
           }
          ],
          "surface": [
           {
            "colorbar": {
             "outlinewidth": 0,
             "ticks": ""
            },
            "colorscale": [
             [
              0,
              "#0d0887"
             ],
             [
              0.1111111111111111,
              "#46039f"
             ],
             [
              0.2222222222222222,
              "#7201a8"
             ],
             [
              0.3333333333333333,
              "#9c179e"
             ],
             [
              0.4444444444444444,
              "#bd3786"
             ],
             [
              0.5555555555555556,
              "#d8576b"
             ],
             [
              0.6666666666666666,
              "#ed7953"
             ],
             [
              0.7777777777777778,
              "#fb9f3a"
             ],
             [
              0.8888888888888888,
              "#fdca26"
             ],
             [
              1,
              "#f0f921"
             ]
            ],
            "type": "surface"
           }
          ],
          "table": [
           {
            "cells": {
             "fill": {
              "color": "#EBF0F8"
             },
             "line": {
              "color": "white"
             }
            },
            "header": {
             "fill": {
              "color": "#C8D4E3"
             },
             "line": {
              "color": "white"
             }
            },
            "type": "table"
           }
          ]
         },
         "layout": {
          "annotationdefaults": {
           "arrowcolor": "#2a3f5f",
           "arrowhead": 0,
           "arrowwidth": 1
          },
          "autotypenumbers": "strict",
          "coloraxis": {
           "colorbar": {
            "outlinewidth": 0,
            "ticks": ""
           }
          },
          "colorscale": {
           "diverging": [
            [
             0,
             "#8e0152"
            ],
            [
             0.1,
             "#c51b7d"
            ],
            [
             0.2,
             "#de77ae"
            ],
            [
             0.3,
             "#f1b6da"
            ],
            [
             0.4,
             "#fde0ef"
            ],
            [
             0.5,
             "#f7f7f7"
            ],
            [
             0.6,
             "#e6f5d0"
            ],
            [
             0.7,
             "#b8e186"
            ],
            [
             0.8,
             "#7fbc41"
            ],
            [
             0.9,
             "#4d9221"
            ],
            [
             1,
             "#276419"
            ]
           ],
           "sequential": [
            [
             0,
             "#0d0887"
            ],
            [
             0.1111111111111111,
             "#46039f"
            ],
            [
             0.2222222222222222,
             "#7201a8"
            ],
            [
             0.3333333333333333,
             "#9c179e"
            ],
            [
             0.4444444444444444,
             "#bd3786"
            ],
            [
             0.5555555555555556,
             "#d8576b"
            ],
            [
             0.6666666666666666,
             "#ed7953"
            ],
            [
             0.7777777777777778,
             "#fb9f3a"
            ],
            [
             0.8888888888888888,
             "#fdca26"
            ],
            [
             1,
             "#f0f921"
            ]
           ],
           "sequentialminus": [
            [
             0,
             "#0d0887"
            ],
            [
             0.1111111111111111,
             "#46039f"
            ],
            [
             0.2222222222222222,
             "#7201a8"
            ],
            [
             0.3333333333333333,
             "#9c179e"
            ],
            [
             0.4444444444444444,
             "#bd3786"
            ],
            [
             0.5555555555555556,
             "#d8576b"
            ],
            [
             0.6666666666666666,
             "#ed7953"
            ],
            [
             0.7777777777777778,
             "#fb9f3a"
            ],
            [
             0.8888888888888888,
             "#fdca26"
            ],
            [
             1,
             "#f0f921"
            ]
           ]
          },
          "colorway": [
           "#636efa",
           "#EF553B",
           "#00cc96",
           "#ab63fa",
           "#FFA15A",
           "#19d3f3",
           "#FF6692",
           "#B6E880",
           "#FF97FF",
           "#FECB52"
          ],
          "font": {
           "color": "#2a3f5f"
          },
          "geo": {
           "bgcolor": "white",
           "lakecolor": "white",
           "landcolor": "#E5ECF6",
           "showlakes": true,
           "showland": true,
           "subunitcolor": "white"
          },
          "hoverlabel": {
           "align": "left"
          },
          "hovermode": "closest",
          "mapbox": {
           "style": "light"
          },
          "paper_bgcolor": "white",
          "plot_bgcolor": "#E5ECF6",
          "polar": {
           "angularaxis": {
            "gridcolor": "white",
            "linecolor": "white",
            "ticks": ""
           },
           "bgcolor": "#E5ECF6",
           "radialaxis": {
            "gridcolor": "white",
            "linecolor": "white",
            "ticks": ""
           }
          },
          "scene": {
           "xaxis": {
            "backgroundcolor": "#E5ECF6",
            "gridcolor": "white",
            "gridwidth": 2,
            "linecolor": "white",
            "showbackground": true,
            "ticks": "",
            "zerolinecolor": "white"
           },
           "yaxis": {
            "backgroundcolor": "#E5ECF6",
            "gridcolor": "white",
            "gridwidth": 2,
            "linecolor": "white",
            "showbackground": true,
            "ticks": "",
            "zerolinecolor": "white"
           },
           "zaxis": {
            "backgroundcolor": "#E5ECF6",
            "gridcolor": "white",
            "gridwidth": 2,
            "linecolor": "white",
            "showbackground": true,
            "ticks": "",
            "zerolinecolor": "white"
           }
          },
          "shapedefaults": {
           "line": {
            "color": "#2a3f5f"
           }
          },
          "ternary": {
           "aaxis": {
            "gridcolor": "white",
            "linecolor": "white",
            "ticks": ""
           },
           "baxis": {
            "gridcolor": "white",
            "linecolor": "white",
            "ticks": ""
           },
           "bgcolor": "#E5ECF6",
           "caxis": {
            "gridcolor": "white",
            "linecolor": "white",
            "ticks": ""
           }
          },
          "title": {
           "x": 0.05
          },
          "xaxis": {
           "automargin": true,
           "gridcolor": "white",
           "linecolor": "white",
           "ticks": "",
           "title": {
            "standoff": 15
           },
           "zerolinecolor": "white",
           "zerolinewidth": 2
          },
          "yaxis": {
           "automargin": true,
           "gridcolor": "white",
           "linecolor": "white",
           "ticks": "",
           "title": {
            "standoff": 15
           },
           "zerolinecolor": "white",
           "zerolinewidth": 2
          }
         }
        }
       }
      }
     },
     "metadata": {}
    }
   ],
   "source": [
    "import plotly.express as px\n",
    "\n",
    "fig = px.scatter_3d(x=X_tsne3[:, 0], y=X_tsne3[:, 1], z=X_tsne3[:, 2], color=y, opacity=0.7)\n",
    "fig.show()"
   ]
  },
  {
   "cell_type": "code",
   "execution_count": 4,
   "metadata": {},
   "outputs": [],
   "source": [
    "from sklearn.cluster import DBSCAN\n",
    "from sklearn import metrics\n",
    "from sklearn.preprocessing import StandardScaler\n",
    "import numpy as np\n",
    "from sklearn.metrics import accuracy_score\n",
    "\n",
    "X_scan2 = StandardScaler().fit_transform(X_tsne2)\n",
    "X_scan3 = StandardScaler().fit_transform(X_tsne3)"
   ]
  },
  {
   "cell_type": "code",
   "execution_count": 5,
   "metadata": {},
   "outputs": [],
   "source": [
    "db2 = DBSCAN(eps=0.2, min_samples=5).fit(X_scan2)\n",
    "db3 = DBSCAN(eps=0.65, min_samples=3).fit(X_scan3)\n",
    "\n",
    "core_samples_mask = np.zeros_like(db2.labels_, dtype=bool)\n",
    "core_samples_mask[db2.core_sample_indices_] = True\n",
    "y_db2 = db2.labels_\n",
    "\n",
    "core_samples_mask = np.zeros_like(db3.labels_, dtype=bool)\n",
    "core_samples_mask[db3.core_sample_indices_] = True\n",
    "y_db3 = db3.labels_"
   ]
  },
  {
   "cell_type": "code",
   "execution_count": 6,
   "metadata": {},
   "outputs": [
    {
     "output_type": "stream",
     "name": "stdout",
     "text": [
      "TSNE2_Score: 0.6666666666666666\nTSNE3_Score: 0.54\n"
     ]
    }
   ],
   "source": [
    "db2_score = accuracy_score(y, y_db2)\n",
    "db3_score = accuracy_score(y, y_db3)\n",
    "\n",
    "print('TSNE2_Score:', db2_score)\n",
    "print('TSNE3_Score:', db3_score)"
   ]
  },
  {
   "cell_type": "code",
   "execution_count": null,
   "metadata": {},
   "outputs": [],
   "source": []
  }
 ]
}