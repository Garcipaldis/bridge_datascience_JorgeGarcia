{
 "metadata": {
  "language_info": {
   "codemirror_mode": {
    "name": "ipython",
    "version": 3
   },
   "file_extension": ".py",
   "mimetype": "text/x-python",
   "name": "python",
   "nbconvert_exporter": "python",
   "pygments_lexer": "ipython3",
   "version": "3.7.4"
  },
  "orig_nbformat": 2,
  "kernelspec": {
   "name": "python3",
   "display_name": "Python 3.7.4 64-bit"
  },
  "interpreter": {
   "hash": "674dfd6ded4398e0679ff4f65e9a10a54ff0d14801bec0126172cfc3973d1cf1"
  }
 },
 "nbformat": 4,
 "nbformat_minor": 2,
 "cells": [
  {
   "source": [
    "A partir del dataset mnist (tf.keras.datasets.mnist.load_data()), realiza una clasificación usando:\n",
    "\n",
    "1. Una CNN con:\n",
    "    - 1 capa convolutiva con 8 neuronas\n",
    "    - 1 MaxPool quedando las dimensiones de la imagen a la mitad\n",
    "    - 1 dropout 0.25\n",
    "    - 1 Flatten\n",
    "    - 1 dense con 32 neuronas\n",
    "    - 1 dense con 10 (salida)\n",
    "\n",
    "2. Una CNN con:\n",
    "    - 1 capa convolutiva con 8 neuronas\n",
    "    - 1 MaxPool quedando las dimensiones de la imagen a la mitad\n",
    "    - 1 dropout 0.25\n",
    "    - 1 Flatten\n",
    "    - 1 dense con 16 neuronas\n",
    "    - 1 dense con 32 neuronas\n",
    "    - 1 dense con 10 (salida)\n",
    "\n",
    "¿ Cuál ha dado mejor resultado?\n",
    "\n",
    "Para compilar el modelo, usa:"
   ],
   "cell_type": "markdown",
   "metadata": {}
  },
  {
   "cell_type": "code",
   "execution_count": 1,
   "metadata": {},
   "outputs": [
    {
     "output_type": "stream",
     "name": "stdout",
     "text": [
      "2.5.0\n"
     ]
    }
   ],
   "source": [
    "import tensorflow as tf\n",
    "from tensorflow import keras\n",
    "\n",
    "import numpy as np\n",
    "import matplotlib.pyplot as plt\n",
    "\n",
    "print(tf.__version__)"
   ]
  },
  {
   "cell_type": "code",
   "execution_count": 2,
   "metadata": {},
   "outputs": [],
   "source": [
    "(X_train, y_train), (X_test, y_test) = tf.keras.datasets.mnist.load_data()"
   ]
  },
  {
   "cell_type": "code",
   "execution_count": null,
   "metadata": {},
   "outputs": [],
   "source": [
    "model = keras.Sequential([\n",
    "    keras.layers.\n",
    "])"
   ]
  },
  {
   "cell_type": "code",
   "execution_count": null,
   "metadata": {},
   "outputs": [],
   "source": [
    "model.compile(optimizer='adam',\n",
    "              loss='sparse_categorical_crossentropy',\n",
    "              metrics=['accuracy'])"
   ]
  }
 ]
}