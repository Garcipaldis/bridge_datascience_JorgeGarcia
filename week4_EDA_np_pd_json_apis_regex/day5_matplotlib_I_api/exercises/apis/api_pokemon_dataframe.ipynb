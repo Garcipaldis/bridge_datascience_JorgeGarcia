{
 "metadata": {
  "language_info": {
   "codemirror_mode": {
    "name": "ipython",
    "version": 3
   },
   "file_extension": ".py",
   "mimetype": "text/x-python",
   "name": "python",
   "nbconvert_exporter": "python",
   "pygments_lexer": "ipython3",
   "version": "3.7.4"
  },
  "orig_nbformat": 2,
  "kernelspec": {
   "name": "python374jvsc74a57bd0674dfd6ded4398e0679ff4f65e9a10a54ff0d14801bec0126172cfc3973d1cf1",
   "display_name": "Python 3.7.4 64-bit"
  },
  "metadata": {
   "interpreter": {
    "hash": "674dfd6ded4398e0679ff4f65e9a10a54ff0d14801bec0126172cfc3973d1cf1"
   }
  }
 },
 "nbformat": 4,
 "nbformat_minor": 2,
 "cells": [
  {
   "source": [
    "### Ejercicio 1\n",
    "\n",
    "A partir de la API de Pokemon, se pide generar un DataFrame como el de la imagen con las columnas: \n",
    "\n",
    "- **\"height\",\"id\",\"order\",\"weight\",\"types\"**\n",
    "\n",
    "### Ejercicio 2\n",
    "\n",
    "¿Has visto que dentro del DataFrame la columna \"types\" hay diccionarios? Se pide agregar, por cada pokemon, las columnas necesarias al DataFrame para albergar toda la información de \"types\" (solo las keys)\n",
    "\n",
    "![](df_pk.PNG)"
   ],
   "cell_type": "markdown",
   "metadata": {}
  },
  {
   "cell_type": "code",
   "execution_count": 1,
   "metadata": {},
   "outputs": [],
   "source": [
    "import json\n",
    "import requests\n",
    "\n",
    "import pandas as pd"
   ]
  },
  {
   "cell_type": "code",
   "execution_count": 2,
   "metadata": {},
   "outputs": [
    {
     "output_type": "execute_result",
     "data": {
      "text/plain": [
       "{'count': 1118,\n",
       " 'next': 'https://pokeapi.co/api/v2/pokemon?offset=20&limit=20',\n",
       " 'previous': None,\n",
       " 'results': [{'name': 'bulbasaur',\n",
       "   'url': 'https://pokeapi.co/api/v2/pokemon/1/'},\n",
       "  {'name': 'ivysaur', 'url': 'https://pokeapi.co/api/v2/pokemon/2/'},\n",
       "  {'name': 'venusaur', 'url': 'https://pokeapi.co/api/v2/pokemon/3/'},\n",
       "  {'name': 'charmander', 'url': 'https://pokeapi.co/api/v2/pokemon/4/'},\n",
       "  {'name': 'charmeleon', 'url': 'https://pokeapi.co/api/v2/pokemon/5/'},\n",
       "  {'name': 'charizard', 'url': 'https://pokeapi.co/api/v2/pokemon/6/'},\n",
       "  {'name': 'squirtle', 'url': 'https://pokeapi.co/api/v2/pokemon/7/'},\n",
       "  {'name': 'wartortle', 'url': 'https://pokeapi.co/api/v2/pokemon/8/'},\n",
       "  {'name': 'blastoise', 'url': 'https://pokeapi.co/api/v2/pokemon/9/'},\n",
       "  {'name': 'caterpie', 'url': 'https://pokeapi.co/api/v2/pokemon/10/'},\n",
       "  {'name': 'metapod', 'url': 'https://pokeapi.co/api/v2/pokemon/11/'},\n",
       "  {'name': 'butterfree', 'url': 'https://pokeapi.co/api/v2/pokemon/12/'},\n",
       "  {'name': 'weedle', 'url': 'https://pokeapi.co/api/v2/pokemon/13/'},\n",
       "  {'name': 'kakuna', 'url': 'https://pokeapi.co/api/v2/pokemon/14/'},\n",
       "  {'name': 'beedrill', 'url': 'https://pokeapi.co/api/v2/pokemon/15/'},\n",
       "  {'name': 'pidgey', 'url': 'https://pokeapi.co/api/v2/pokemon/16/'},\n",
       "  {'name': 'pidgeotto', 'url': 'https://pokeapi.co/api/v2/pokemon/17/'},\n",
       "  {'name': 'pidgeot', 'url': 'https://pokeapi.co/api/v2/pokemon/18/'},\n",
       "  {'name': 'rattata', 'url': 'https://pokeapi.co/api/v2/pokemon/19/'},\n",
       "  {'name': 'raticate', 'url': 'https://pokeapi.co/api/v2/pokemon/20/'}]}"
      ]
     },
     "metadata": {},
     "execution_count": 2
    }
   ],
   "source": [
    "url = \"https://pokeapi.co/api/v2/pokemon\"\n",
    "poke_json = requests.get(url).json()\n",
    "poke_json "
   ]
  },
  {
   "cell_type": "code",
   "execution_count": 4,
   "metadata": {},
   "outputs": [
    {
     "output_type": "execute_result",
     "data": {
      "text/plain": [
       "[{'name': 'bulbasaur', 'url': 'https://pokeapi.co/api/v2/pokemon/1/'},\n",
       " {'name': 'ivysaur', 'url': 'https://pokeapi.co/api/v2/pokemon/2/'},\n",
       " {'name': 'venusaur', 'url': 'https://pokeapi.co/api/v2/pokemon/3/'},\n",
       " {'name': 'charmander', 'url': 'https://pokeapi.co/api/v2/pokemon/4/'},\n",
       " {'name': 'charmeleon', 'url': 'https://pokeapi.co/api/v2/pokemon/5/'},\n",
       " {'name': 'charizard', 'url': 'https://pokeapi.co/api/v2/pokemon/6/'},\n",
       " {'name': 'squirtle', 'url': 'https://pokeapi.co/api/v2/pokemon/7/'},\n",
       " {'name': 'wartortle', 'url': 'https://pokeapi.co/api/v2/pokemon/8/'},\n",
       " {'name': 'blastoise', 'url': 'https://pokeapi.co/api/v2/pokemon/9/'},\n",
       " {'name': 'caterpie', 'url': 'https://pokeapi.co/api/v2/pokemon/10/'},\n",
       " {'name': 'metapod', 'url': 'https://pokeapi.co/api/v2/pokemon/11/'},\n",
       " {'name': 'butterfree', 'url': 'https://pokeapi.co/api/v2/pokemon/12/'},\n",
       " {'name': 'weedle', 'url': 'https://pokeapi.co/api/v2/pokemon/13/'},\n",
       " {'name': 'kakuna', 'url': 'https://pokeapi.co/api/v2/pokemon/14/'},\n",
       " {'name': 'beedrill', 'url': 'https://pokeapi.co/api/v2/pokemon/15/'},\n",
       " {'name': 'pidgey', 'url': 'https://pokeapi.co/api/v2/pokemon/16/'},\n",
       " {'name': 'pidgeotto', 'url': 'https://pokeapi.co/api/v2/pokemon/17/'},\n",
       " {'name': 'pidgeot', 'url': 'https://pokeapi.co/api/v2/pokemon/18/'},\n",
       " {'name': 'rattata', 'url': 'https://pokeapi.co/api/v2/pokemon/19/'},\n",
       " {'name': 'raticate', 'url': 'https://pokeapi.co/api/v2/pokemon/20/'}]"
      ]
     },
     "metadata": {},
     "execution_count": 4
    }
   ],
   "source": [
    "poke_json['results']"
   ]
  },
  {
   "cell_type": "code",
   "execution_count": 7,
   "metadata": {},
   "outputs": [
    {
     "output_type": "execute_result",
     "data": {
      "text/plain": [
       "dict_keys(['abilities', 'base_experience', 'forms', 'game_indices', 'height', 'held_items', 'id', 'is_default', 'location_area_encounters', 'moves', 'name', 'order', 'past_types', 'species', 'sprites', 'stats', 'types', 'weight'])"
      ]
     },
     "metadata": {},
     "execution_count": 7
    }
   ],
   "source": [
    "bulbasur = requests.get(poke_json['results'][0]['url']).json()\n",
    "bulbasur.keys()"
   ]
  },
  {
   "cell_type": "code",
   "execution_count": 8,
   "metadata": {},
   "outputs": [
    {
     "output_type": "execute_result",
     "data": {
      "text/plain": [
       "1"
      ]
     },
     "metadata": {},
     "execution_count": 8
    }
   ],
   "source": [
    "bulbasur['id']"
   ]
  },
  {
   "cell_type": "code",
   "execution_count": 9,
   "metadata": {},
   "outputs": [
    {
     "output_type": "execute_result",
     "data": {
      "text/plain": [
       "7"
      ]
     },
     "metadata": {},
     "execution_count": 9
    }
   ],
   "source": [
    "bulbasur['height']"
   ]
  },
  {
   "cell_type": "code",
   "execution_count": 12,
   "metadata": {},
   "outputs": [
    {
     "output_type": "execute_result",
     "data": {
      "text/plain": [
       "          name                                    url  height  id  order  \\\n",
       "0    bulbasaur   https://pokeapi.co/api/v2/pokemon/1/       7   1      1   \n",
       "1      ivysaur   https://pokeapi.co/api/v2/pokemon/2/      10   2      2   \n",
       "2     venusaur   https://pokeapi.co/api/v2/pokemon/3/      20   3      3   \n",
       "3   charmander   https://pokeapi.co/api/v2/pokemon/4/       6   4      5   \n",
       "4   charmeleon   https://pokeapi.co/api/v2/pokemon/5/      11   5      6   \n",
       "5    charizard   https://pokeapi.co/api/v2/pokemon/6/      17   6      7   \n",
       "6     squirtle   https://pokeapi.co/api/v2/pokemon/7/       5   7     10   \n",
       "7    wartortle   https://pokeapi.co/api/v2/pokemon/8/      10   8     11   \n",
       "8    blastoise   https://pokeapi.co/api/v2/pokemon/9/      16   9     12   \n",
       "9     caterpie  https://pokeapi.co/api/v2/pokemon/10/       3  10     14   \n",
       "10     metapod  https://pokeapi.co/api/v2/pokemon/11/       7  11     15   \n",
       "11  butterfree  https://pokeapi.co/api/v2/pokemon/12/      11  12     16   \n",
       "12      weedle  https://pokeapi.co/api/v2/pokemon/13/       3  13     17   \n",
       "13      kakuna  https://pokeapi.co/api/v2/pokemon/14/       6  14     18   \n",
       "14    beedrill  https://pokeapi.co/api/v2/pokemon/15/      10  15     19   \n",
       "15      pidgey  https://pokeapi.co/api/v2/pokemon/16/       3  16     21   \n",
       "16   pidgeotto  https://pokeapi.co/api/v2/pokemon/17/      11  17     22   \n",
       "17     pidgeot  https://pokeapi.co/api/v2/pokemon/18/      15  18     23   \n",
       "18     rattata  https://pokeapi.co/api/v2/pokemon/19/       3  19     25   \n",
       "19    raticate  https://pokeapi.co/api/v2/pokemon/20/       7  20     27   \n",
       "\n",
       "    weight                                              types  \n",
       "0       69  [{'slot': 1, 'type': {'name': 'grass', 'url': ...  \n",
       "1      130  [{'slot': 1, 'type': {'name': 'grass', 'url': ...  \n",
       "2     1000  [{'slot': 1, 'type': {'name': 'grass', 'url': ...  \n",
       "3       85  [{'slot': 1, 'type': {'name': 'fire', 'url': '...  \n",
       "4      190  [{'slot': 1, 'type': {'name': 'fire', 'url': '...  \n",
       "5      905  [{'slot': 1, 'type': {'name': 'fire', 'url': '...  \n",
       "6       90  [{'slot': 1, 'type': {'name': 'water', 'url': ...  \n",
       "7      225  [{'slot': 1, 'type': {'name': 'water', 'url': ...  \n",
       "8      855  [{'slot': 1, 'type': {'name': 'water', 'url': ...  \n",
       "9       29  [{'slot': 1, 'type': {'name': 'bug', 'url': 'h...  \n",
       "10      99  [{'slot': 1, 'type': {'name': 'bug', 'url': 'h...  \n",
       "11     320  [{'slot': 1, 'type': {'name': 'bug', 'url': 'h...  \n",
       "12      32  [{'slot': 1, 'type': {'name': 'bug', 'url': 'h...  \n",
       "13     100  [{'slot': 1, 'type': {'name': 'bug', 'url': 'h...  \n",
       "14     295  [{'slot': 1, 'type': {'name': 'bug', 'url': 'h...  \n",
       "15      18  [{'slot': 1, 'type': {'name': 'normal', 'url':...  \n",
       "16     300  [{'slot': 1, 'type': {'name': 'normal', 'url':...  \n",
       "17     395  [{'slot': 1, 'type': {'name': 'normal', 'url':...  \n",
       "18      35  [{'slot': 1, 'type': {'name': 'normal', 'url':...  \n",
       "19     185  [{'slot': 1, 'type': {'name': 'normal', 'url':...  "
      ],
      "text/html": "<div>\n<style scoped>\n    .dataframe tbody tr th:only-of-type {\n        vertical-align: middle;\n    }\n\n    .dataframe tbody tr th {\n        vertical-align: top;\n    }\n\n    .dataframe thead th {\n        text-align: right;\n    }\n</style>\n<table border=\"1\" class=\"dataframe\">\n  <thead>\n    <tr style=\"text-align: right;\">\n      <th></th>\n      <th>name</th>\n      <th>url</th>\n      <th>height</th>\n      <th>id</th>\n      <th>order</th>\n      <th>weight</th>\n      <th>types</th>\n    </tr>\n  </thead>\n  <tbody>\n    <tr>\n      <th>0</th>\n      <td>bulbasaur</td>\n      <td>https://pokeapi.co/api/v2/pokemon/1/</td>\n      <td>7</td>\n      <td>1</td>\n      <td>1</td>\n      <td>69</td>\n      <td>[{'slot': 1, 'type': {'name': 'grass', 'url': ...</td>\n    </tr>\n    <tr>\n      <th>1</th>\n      <td>ivysaur</td>\n      <td>https://pokeapi.co/api/v2/pokemon/2/</td>\n      <td>10</td>\n      <td>2</td>\n      <td>2</td>\n      <td>130</td>\n      <td>[{'slot': 1, 'type': {'name': 'grass', 'url': ...</td>\n    </tr>\n    <tr>\n      <th>2</th>\n      <td>venusaur</td>\n      <td>https://pokeapi.co/api/v2/pokemon/3/</td>\n      <td>20</td>\n      <td>3</td>\n      <td>3</td>\n      <td>1000</td>\n      <td>[{'slot': 1, 'type': {'name': 'grass', 'url': ...</td>\n    </tr>\n    <tr>\n      <th>3</th>\n      <td>charmander</td>\n      <td>https://pokeapi.co/api/v2/pokemon/4/</td>\n      <td>6</td>\n      <td>4</td>\n      <td>5</td>\n      <td>85</td>\n      <td>[{'slot': 1, 'type': {'name': 'fire', 'url': '...</td>\n    </tr>\n    <tr>\n      <th>4</th>\n      <td>charmeleon</td>\n      <td>https://pokeapi.co/api/v2/pokemon/5/</td>\n      <td>11</td>\n      <td>5</td>\n      <td>6</td>\n      <td>190</td>\n      <td>[{'slot': 1, 'type': {'name': 'fire', 'url': '...</td>\n    </tr>\n    <tr>\n      <th>5</th>\n      <td>charizard</td>\n      <td>https://pokeapi.co/api/v2/pokemon/6/</td>\n      <td>17</td>\n      <td>6</td>\n      <td>7</td>\n      <td>905</td>\n      <td>[{'slot': 1, 'type': {'name': 'fire', 'url': '...</td>\n    </tr>\n    <tr>\n      <th>6</th>\n      <td>squirtle</td>\n      <td>https://pokeapi.co/api/v2/pokemon/7/</td>\n      <td>5</td>\n      <td>7</td>\n      <td>10</td>\n      <td>90</td>\n      <td>[{'slot': 1, 'type': {'name': 'water', 'url': ...</td>\n    </tr>\n    <tr>\n      <th>7</th>\n      <td>wartortle</td>\n      <td>https://pokeapi.co/api/v2/pokemon/8/</td>\n      <td>10</td>\n      <td>8</td>\n      <td>11</td>\n      <td>225</td>\n      <td>[{'slot': 1, 'type': {'name': 'water', 'url': ...</td>\n    </tr>\n    <tr>\n      <th>8</th>\n      <td>blastoise</td>\n      <td>https://pokeapi.co/api/v2/pokemon/9/</td>\n      <td>16</td>\n      <td>9</td>\n      <td>12</td>\n      <td>855</td>\n      <td>[{'slot': 1, 'type': {'name': 'water', 'url': ...</td>\n    </tr>\n    <tr>\n      <th>9</th>\n      <td>caterpie</td>\n      <td>https://pokeapi.co/api/v2/pokemon/10/</td>\n      <td>3</td>\n      <td>10</td>\n      <td>14</td>\n      <td>29</td>\n      <td>[{'slot': 1, 'type': {'name': 'bug', 'url': 'h...</td>\n    </tr>\n    <tr>\n      <th>10</th>\n      <td>metapod</td>\n      <td>https://pokeapi.co/api/v2/pokemon/11/</td>\n      <td>7</td>\n      <td>11</td>\n      <td>15</td>\n      <td>99</td>\n      <td>[{'slot': 1, 'type': {'name': 'bug', 'url': 'h...</td>\n    </tr>\n    <tr>\n      <th>11</th>\n      <td>butterfree</td>\n      <td>https://pokeapi.co/api/v2/pokemon/12/</td>\n      <td>11</td>\n      <td>12</td>\n      <td>16</td>\n      <td>320</td>\n      <td>[{'slot': 1, 'type': {'name': 'bug', 'url': 'h...</td>\n    </tr>\n    <tr>\n      <th>12</th>\n      <td>weedle</td>\n      <td>https://pokeapi.co/api/v2/pokemon/13/</td>\n      <td>3</td>\n      <td>13</td>\n      <td>17</td>\n      <td>32</td>\n      <td>[{'slot': 1, 'type': {'name': 'bug', 'url': 'h...</td>\n    </tr>\n    <tr>\n      <th>13</th>\n      <td>kakuna</td>\n      <td>https://pokeapi.co/api/v2/pokemon/14/</td>\n      <td>6</td>\n      <td>14</td>\n      <td>18</td>\n      <td>100</td>\n      <td>[{'slot': 1, 'type': {'name': 'bug', 'url': 'h...</td>\n    </tr>\n    <tr>\n      <th>14</th>\n      <td>beedrill</td>\n      <td>https://pokeapi.co/api/v2/pokemon/15/</td>\n      <td>10</td>\n      <td>15</td>\n      <td>19</td>\n      <td>295</td>\n      <td>[{'slot': 1, 'type': {'name': 'bug', 'url': 'h...</td>\n    </tr>\n    <tr>\n      <th>15</th>\n      <td>pidgey</td>\n      <td>https://pokeapi.co/api/v2/pokemon/16/</td>\n      <td>3</td>\n      <td>16</td>\n      <td>21</td>\n      <td>18</td>\n      <td>[{'slot': 1, 'type': {'name': 'normal', 'url':...</td>\n    </tr>\n    <tr>\n      <th>16</th>\n      <td>pidgeotto</td>\n      <td>https://pokeapi.co/api/v2/pokemon/17/</td>\n      <td>11</td>\n      <td>17</td>\n      <td>22</td>\n      <td>300</td>\n      <td>[{'slot': 1, 'type': {'name': 'normal', 'url':...</td>\n    </tr>\n    <tr>\n      <th>17</th>\n      <td>pidgeot</td>\n      <td>https://pokeapi.co/api/v2/pokemon/18/</td>\n      <td>15</td>\n      <td>18</td>\n      <td>23</td>\n      <td>395</td>\n      <td>[{'slot': 1, 'type': {'name': 'normal', 'url':...</td>\n    </tr>\n    <tr>\n      <th>18</th>\n      <td>rattata</td>\n      <td>https://pokeapi.co/api/v2/pokemon/19/</td>\n      <td>3</td>\n      <td>19</td>\n      <td>25</td>\n      <td>35</td>\n      <td>[{'slot': 1, 'type': {'name': 'normal', 'url':...</td>\n    </tr>\n    <tr>\n      <th>19</th>\n      <td>raticate</td>\n      <td>https://pokeapi.co/api/v2/pokemon/20/</td>\n      <td>7</td>\n      <td>20</td>\n      <td>27</td>\n      <td>185</td>\n      <td>[{'slot': 1, 'type': {'name': 'normal', 'url':...</td>\n    </tr>\n  </tbody>\n</table>\n</div>"
     },
     "metadata": {},
     "execution_count": 12
    }
   ],
   "source": [
    "for pokemon in poke_json['results']:\n",
    "    p = requests.get(pokemon['url']).json()\n",
    "    pokemon['height'] = p['height']\n",
    "    pokemon['id'] = p['id']\n",
    "    pokemon['order'] = p['order']\n",
    "    pokemon['weight'] = p['weight']\n",
    "    pokemon['types'] = p['types']\n",
    "\n",
    "df = pd.DataFrame(poke_json['results'])\n",
    "df"
   ]
  },
  {
   "cell_type": "code",
   "execution_count": null,
   "metadata": {},
   "outputs": [],
   "source": []
  }
 ]
}