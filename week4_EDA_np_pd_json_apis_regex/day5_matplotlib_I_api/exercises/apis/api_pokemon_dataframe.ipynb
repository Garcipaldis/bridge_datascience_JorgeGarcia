{
 "metadata": {
  "language_info": {
   "codemirror_mode": {
    "name": "ipython",
    "version": 3
   },
   "file_extension": ".py",
   "mimetype": "text/x-python",
   "name": "python",
   "nbconvert_exporter": "python",
   "pygments_lexer": "ipython3",
   "version": 3
  },
  "orig_nbformat": 2
 },
 "nbformat": 4,
 "nbformat_minor": 2,
 "cells": [
  {
   "source": [
    "### Ejercicio 1\n",
    "\n",
    "A partir de la API de Pokemon, se pide generar un DataFrame como el de la imagen con las columnas: \n",
    "\n",
    "- **\"height\",\"id\",\"order\",\"weight\",\"types\"**\n",
    "\n",
    "### Ejercicio 2\n",
    "\n",
    "¿Has visto que dentro del DataFrame la columna \"types\" hay diccionarios? Se pide agregar, por cada pokemon, las columnas necesarias al DataFrame para albergar toda la información de \"types\" (solo las keys)\n",
    "\n",
    "![](df_pk.PNG)"
   ],
   "cell_type": "markdown",
   "metadata": {}
  }
 ]
}