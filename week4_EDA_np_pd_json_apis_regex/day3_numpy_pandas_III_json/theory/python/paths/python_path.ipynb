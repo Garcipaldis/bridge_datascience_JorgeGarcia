{
 "metadata": {
  "language_info": {
   "codemirror_mode": {
    "name": "ipython",
    "version": 3
   },
   "file_extension": ".py",
   "mimetype": "text/x-python",
   "name": "python",
   "nbconvert_exporter": "python",
   "pygments_lexer": "ipython3",
   "version": "3.6.4"
  },
  "orig_nbformat": 2,
  "kernelspec": {
   "name": "python36464bitc2077ed07ea84d23aa5b518d224882ab",
   "display_name": "Python 3.6.4 64-bit"
  },
  "metadata": {
   "interpreter": {
    "hash": "5c4d2f1fdcd3716c7a5eea90ad07be30193490dd4e63617705244f5fd89ea793"
   }
  }
 },
 "nbformat": 4,
 "nbformat_minor": 2,
 "cells": [
  {
   "source": [
    "*sys.path* es una lista con todas las rutas que tiene en cuenta python al usar *import*"
   ],
   "cell_type": "markdown",
   "metadata": {}
  },
  {
   "cell_type": "code",
   "execution_count": 1,
   "metadata": {},
   "outputs": [
    {
     "output_type": "stream",
     "name": "stdout",
     "text": [
      "['z:\\\\Data_Science\\\\TheBridge\\\\Content\\\\Contenido_Curso\\\\data_science_apr_2021\\\\week4_EDA_np_pd_json_apis_regex\\\\day3_numpy_pandas_III_json\\\\theory\\\\python\\\\paths', 'c:\\\\Users\\\\gvazquez\\\\.vscode\\\\extensions\\\\ms-toolsai.jupyter-2021.5.745244803\\\\pythonFiles', 'c:\\\\Users\\\\gvazquez\\\\.vscode\\\\extensions\\\\ms-toolsai.jupyter-2021.5.745244803\\\\pythonFiles', 'c:\\\\Users\\\\gvazquez\\\\.vscode\\\\extensions\\\\ms-toolsai.jupyter-2021.5.745244803\\\\pythonFiles\\\\lib\\\\python', 'Z:\\\\Data_Science\\\\Software\\\\Python\\\\Python_3.6.4\\\\python36.zip', 'Z:\\\\Data_Science\\\\Software\\\\Python\\\\Python_3.6.4\\\\DLLs', 'Z:\\\\Data_Science\\\\Software\\\\Python\\\\Python_3.6.4\\\\lib', 'Z:\\\\Data_Science\\\\Software\\\\Python\\\\Python_3.6.4', '', 'C:\\\\Users\\\\gvazquez\\\\AppData\\\\Roaming\\\\Python\\\\Python36\\\\site-packages', 'C:\\\\Users\\\\gvazquez\\\\AppData\\\\Roaming\\\\Python\\\\Python36\\\\site-packages\\\\win32', 'C:\\\\Users\\\\gvazquez\\\\AppData\\\\Roaming\\\\Python\\\\Python36\\\\site-packages\\\\win32\\\\lib', 'C:\\\\Users\\\\gvazquez\\\\AppData\\\\Roaming\\\\Python\\\\Python36\\\\site-packages\\\\Pythonwin', 'Z:\\\\Data_Science\\\\Software\\\\Python\\\\Python_3.6.4\\\\lib\\\\site-packages', 'C:\\\\Users\\\\gvazquez\\\\AppData\\\\Roaming\\\\Python\\\\Python36\\\\site-packages\\\\IPython\\\\extensions', 'C:\\\\Users\\\\gvazquez\\\\.ipython']\n"
     ]
    }
   ],
   "source": [
    "# ruta absoluta:\n",
    "\"\"\"\n",
    "Z:\\Data_Science\\TheBridge\\Content\\Contenido_Curso\\data_science_apr_2021\\week4_EDA_np_pd_json_apis_regex\\day3_numpy_pandas_III_json\\theory\n",
    "\"\"\"\n",
    "\n",
    "# ruta relativa:\n",
    "\"\"\"\n",
    "data_science_apr_2021\\week4_EDA_np_pd_json_apis_regex\\day3_numpy_pandas_III_json\\theory\n",
    "\"\"\"\n",
    "\n",
    "import sys, os\n",
    "print(sys.path)"
   ]
  },
  {
   "source": [
    "#### Diferencias mac y windows\n",
    "\n",
    "\n",
    "- En mac no hay que escribir doble barra\n",
    "\n",
    "- En windows hay que escribir doble barrata_hasta_theory = \"Z:\\\\Data_Science\\\\TheBridge\\\\Content\\\\Contenido_Curso\\\\data_science_apr_2021\\\\week4\\\\day3\\\\theory\""
   ],
   "cell_type": "markdown",
   "metadata": {}
  },
  {
   "cell_type": "code",
   "execution_count": 1,
   "metadata": {},
   "outputs": [
    {
     "output_type": "error",
     "ename": "ModuleNotFoundError",
     "evalue": "No module named 'week1_precurse_python_I'",
     "traceback": [
      "\u001b[1;31m---------------------------------------------------------------------------\u001b[0m",
      "\u001b[1;31mModuleNotFoundError\u001b[0m                       Traceback (most recent call last)",
      "\u001b[1;32m<ipython-input-1-45b865ec37a1>\u001b[0m in \u001b[0;36m<module>\u001b[1;34m\u001b[0m\n\u001b[1;32m----> 1\u001b[1;33m \u001b[1;32mimport\u001b[0m \u001b[0mweek1_precurse_python_I\u001b[0m\u001b[1;33m\u001b[0m\u001b[0m\n\u001b[0m\u001b[0;32m      2\u001b[0m \u001b[1;31m# Error\u001b[0m\u001b[1;33m\u001b[0m\u001b[1;33m\u001b[0m\u001b[0m\n",
      "\u001b[1;31mModuleNotFoundError\u001b[0m: No module named 'week1_precurse_python_I'"
     ]
    }
   ],
   "source": [
    "import week1_precurse_python_I \n",
    "# Error"
   ]
  },
  {
   "cell_type": "code",
   "execution_count": 2,
   "metadata": {},
   "outputs": [
    {
     "output_type": "execute_result",
     "data": {
      "text/plain": [
       "['z:\\\\Data_Science\\\\TheBridge\\\\Content\\\\Contenido_Curso\\\\data_science_apr_2021\\\\week4_EDA_np_pd_json_apis_regex\\\\day3_numpy_pandas_III_json\\\\theory\\\\python\\\\paths',\n",
       " 'c:\\\\Users\\\\gvazquez\\\\.vscode\\\\extensions\\\\ms-toolsai.jupyter-2021.5.745244803\\\\pythonFiles',\n",
       " 'c:\\\\Users\\\\gvazquez\\\\.vscode\\\\extensions\\\\ms-toolsai.jupyter-2021.5.745244803\\\\pythonFiles',\n",
       " 'c:\\\\Users\\\\gvazquez\\\\.vscode\\\\extensions\\\\ms-toolsai.jupyter-2021.5.745244803\\\\pythonFiles\\\\lib\\\\python',\n",
       " 'Z:\\\\Data_Science\\\\Software\\\\Python\\\\Python_3.6.4\\\\python36.zip',\n",
       " 'Z:\\\\Data_Science\\\\Software\\\\Python\\\\Python_3.6.4\\\\DLLs',\n",
       " 'Z:\\\\Data_Science\\\\Software\\\\Python\\\\Python_3.6.4\\\\lib',\n",
       " 'Z:\\\\Data_Science\\\\Software\\\\Python\\\\Python_3.6.4',\n",
       " '',\n",
       " 'C:\\\\Users\\\\gvazquez\\\\AppData\\\\Roaming\\\\Python\\\\Python36\\\\site-packages',\n",
       " 'C:\\\\Users\\\\gvazquez\\\\AppData\\\\Roaming\\\\Python\\\\Python36\\\\site-packages\\\\win32',\n",
       " 'C:\\\\Users\\\\gvazquez\\\\AppData\\\\Roaming\\\\Python\\\\Python36\\\\site-packages\\\\win32\\\\lib',\n",
       " 'C:\\\\Users\\\\gvazquez\\\\AppData\\\\Roaming\\\\Python\\\\Python36\\\\site-packages\\\\Pythonwin',\n",
       " 'Z:\\\\Data_Science\\\\Software\\\\Python\\\\Python_3.6.4\\\\lib\\\\site-packages',\n",
       " 'C:\\\\Users\\\\gvazquez\\\\AppData\\\\Roaming\\\\Python\\\\Python36\\\\site-packages\\\\IPython\\\\extensions',\n",
       " 'C:\\\\Users\\\\gvazquez\\\\.ipython',\n",
       " 'Z:\\\\Data_Science\\\\TheBridge\\\\Content\\\\Contenido_Curso\\\\data_science_apr_2021']"
      ]
     },
     "metadata": {},
     "execution_count": 2
    }
   ],
   "source": [
    "string = \"Z:\\\\Data_Science\\\\TheBridge\\\\Content\\\\Contenido_Curso\\\\data_science_apr_2021\"\n",
    "\n",
    "sys.path.append(string)\n",
    "sys.path"
   ]
  },
  {
   "cell_type": "code",
   "execution_count": 3,
   "metadata": {},
   "outputs": [],
   "source": [
    "import week1_precurse_python_I \n",
    "# No error"
   ]
  },
  {
   "source": [
    "Para poder calcular la ruta absoluta a tu carpeta raíz hay que utilizar la siguiente funcionalidad:"
   ],
   "cell_type": "markdown",
   "metadata": {}
  },
  {
   "source": [
    "#### Si es notebook .ipynb :\n",
    "\n",
    "- getcwd() --> ruta hasta la carpeta en la que está el archivo que estás ejecutando.\n",
    "\n",
    "#### Si es .py : \n",
    "\n",
    "- ____file____ --> ruta hasta el archivo que estás ejecutando.\n",
    "\n",
    "En ambos casos, para subir una carpeta se utiliza la función --> 'os.path.dirname(\"ruta\")' "
   ],
   "cell_type": "markdown",
   "metadata": {}
  },
  {
   "source": [
    "---------------------------\n",
    "\n",
    "Ejemplo de acceso a una carpeta superior --> a la raíz de la carpeta profesor (.../data_science_apr_2021/)"
   ],
   "cell_type": "markdown",
   "metadata": {}
  },
  {
   "cell_type": "code",
   "execution_count": 4,
   "metadata": {},
   "outputs": [
    {
     "output_type": "stream",
     "name": "stdout",
     "text": [
      "current_path:\n\nz:\\Data_Science\\TheBridge\\Content\\Contenido_Curso\\data_science_apr_2021\\week4_EDA_np_pd_json_apis_regex\\day3_numpy_pandas_III_json\\theory\\python\\paths\n"
     ]
    }
   ],
   "source": [
    "current_path = os.getcwd()\n",
    "\n",
    "print(\"current_path:\\n\")\n",
    "print(current_path)"
   ]
  },
  {
   "cell_type": "code",
   "execution_count": 5,
   "metadata": {},
   "outputs": [
    {
     "output_type": "stream",
     "name": "stdout",
     "text": [
      "python_path:\n\nz:\\Data_Science\\TheBridge\\Content\\Contenido_Curso\\data_science_apr_2021\\week4_EDA_np_pd_json_apis_regex\\day3_numpy_pandas_III_json\\theory\\python\n"
     ]
    }
   ],
   "source": [
    "python_path = os.path.dirname(current_path)\n",
    "\n",
    "print(\"python_path:\\n\")\n",
    "print(python_path)"
   ]
  },
  {
   "cell_type": "code",
   "execution_count": 6,
   "metadata": {},
   "outputs": [
    {
     "output_type": "stream",
     "name": "stdout",
     "text": [
      "theory_path:\n\nz:\\Data_Science\\TheBridge\\Content\\Contenido_Curso\\data_science_apr_2021\\week4_EDA_np_pd_json_apis_regex\\day3_numpy_pandas_III_json\\theory\n"
     ]
    }
   ],
   "source": [
    "theory_path = os.path.dirname(python_path)\n",
    "\n",
    "print(\"theory_path:\\n\")\n",
    "print(theory_path)"
   ]
  },
  {
   "cell_type": "code",
   "execution_count": 7,
   "metadata": {},
   "outputs": [
    {
     "output_type": "stream",
     "name": "stdout",
     "text": [
      "day3_path:\n\nz:\\Data_Science\\TheBridge\\Content\\Contenido_Curso\\data_science_apr_2021\\week4_EDA_np_pd_json_apis_regex\\day3_numpy_pandas_III_json\n"
     ]
    }
   ],
   "source": [
    "day3_path = os.path.dirname(theory_path)\n",
    "\n",
    "print(\"day3_path:\\n\")\n",
    "print(day3_path)"
   ]
  },
  {
   "cell_type": "code",
   "execution_count": 8,
   "metadata": {},
   "outputs": [
    {
     "output_type": "stream",
     "name": "stdout",
     "text": [
      "week4_path:\n\nz:\\Data_Science\\TheBridge\\Content\\Contenido_Curso\\data_science_apr_2021\\week4_EDA_np_pd_json_apis_regex\n"
     ]
    }
   ],
   "source": [
    "week4_path = os.path.dirname(day3_path)\n",
    "\n",
    "print(\"week4_path:\\n\")\n",
    "print(week4_path)"
   ]
  },
  {
   "cell_type": "code",
   "execution_count": 9,
   "metadata": {},
   "outputs": [
    {
     "output_type": "stream",
     "name": "stdout",
     "text": [
      "root_path:\n\nz:\\Data_Science\\TheBridge\\Content\\Contenido_Curso\\data_science_apr_2021\n"
     ]
    }
   ],
   "source": [
    "root_path = os.path.dirname(week4_path)\n",
    "\n",
    "print(\"root_path:\\n\")\n",
    "print(root_path)"
   ]
  },
  {
   "cell_type": "code",
   "execution_count": 15,
   "metadata": {},
   "outputs": [],
   "source": [
    "# Gracias a añadir esta ruta a sys.path, cualquier persona que ejecute este código va a poder importar el código desde week1, week2, week3,(...)\n",
    "\n",
    "sys.path.append(root_path)"
   ]
  },
  {
   "source": [
    "En general todo esto se puede solventar con esta función:"
   ],
   "cell_type": "markdown",
   "metadata": {}
  },
  {
   "cell_type": "code",
   "execution_count": 12,
   "metadata": {},
   "outputs": [
    {
     "output_type": "stream",
     "name": "stdout",
     "text": [
      "z:\\Data_Science\\TheBridge\\Content\\Contenido_Curso\\data_science_apr_2021\n"
     ]
    }
   ],
   "source": [
    "def get_root_path(n):\n",
    "    path = os.getcwd() # para notebook ||| __file__ --> para .py\n",
    "    for i in range(n):\n",
    "        path = os.path.dirname(path)\n",
    "    print(path)\n",
    "    sys.path.append(path)\n",
    "\n",
    "# n --> es el número de veces que se tiene que hacer os.path.dirname \n",
    "# si en .ipynb notebook es 5 entonces en .py usando __file__ es 4. \n",
    "get_root_path(n=5)"
   ]
  },
  {
   "cell_type": "code",
   "execution_count": null,
   "metadata": {},
   "outputs": [],
   "source": []
  }
 ]
}