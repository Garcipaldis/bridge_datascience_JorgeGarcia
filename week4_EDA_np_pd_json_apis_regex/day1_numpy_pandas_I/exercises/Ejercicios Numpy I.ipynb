{
 "cells": [
  {
   "cell_type": "markdown",
   "metadata": {},
   "source": [
    "# Ejercicios Numpy I"
   ]
  },
  {
   "cell_type": "markdown",
   "metadata": {},
   "source": [
    "Sirvan estos ejercicios para que fortalezcáis aquellos conceptos más importantes."
   ]
  },
  {
   "cell_type": "markdown",
   "metadata": {},
   "source": [
    "## Ejercicio 1\n",
    "Importa el módulo de `numpy` y obtén su versión."
   ]
  },
  {
   "cell_type": "code",
   "execution_count": 3,
   "metadata": {
    "tags": []
   },
   "outputs": [
    {
     "output_type": "execute_result",
     "data": {
      "text/plain": [
       "'1.20.2'"
      ]
     },
     "metadata": {},
     "execution_count": 3
    }
   ],
   "source": [
    "import numpy as np\n",
    "np.__version__"
   ]
  },
  {
   "cell_type": "markdown",
   "metadata": {},
   "source": [
    "## Ejercicio 2\n",
    "Crea un array de una dimensión que vaya de 0 a 9. Llamalo `my_array`"
   ]
  },
  {
   "cell_type": "code",
   "execution_count": 5,
   "metadata": {},
   "outputs": [
    {
     "output_type": "stream",
     "name": "stdout",
     "text": [
      "<class 'numpy.ndarray'>\n[0 1 2 3 4 5 6 7 8 9]\n"
     ]
    }
   ],
   "source": [
    "my_array = np.array(list(range(10)))\n",
    "print(type(my_array))\n",
    "print(my_array)"
   ]
  },
  {
   "cell_type": "markdown",
   "metadata": {},
   "source": [
    "## Ejercicio 3\n",
    "Crea un array 3x3, que sea todo a True"
   ]
  },
  {
   "cell_type": "code",
   "execution_count": 17,
   "metadata": {},
   "outputs": [
    {
     "output_type": "stream",
     "name": "stdout",
     "text": [
      "[[ True  True  True]\n [ True  True  True]\n [ True  True  True]]\n"
     ]
    }
   ],
   "source": [
    "arr = np.ones((3,3),dtype=bool)\n",
    "print(arr)"
   ]
  },
  {
   "cell_type": "code",
   "execution_count": 15,
   "metadata": {},
   "outputs": [
    {
     "output_type": "stream",
     "name": "stdout",
     "text": [
      "[[ True  True  True]\n [ True  True  True]\n [ True  True  True]]\n"
     ]
    }
   ],
   "source": [
    "arr = np.full((3,3),True)\n",
    "print(arr)"
   ]
  },
  {
   "cell_type": "markdown",
   "metadata": {},
   "source": [
    "## Ejercicio 4\n",
    "Extrae todos los impares de `my_array`"
   ]
  },
  {
   "cell_type": "code",
   "execution_count": 24,
   "metadata": {},
   "outputs": [
    {
     "output_type": "execute_result",
     "data": {
      "text/plain": [
       "[1, 3, 5, 7, 9]"
      ]
     },
     "metadata": {},
     "execution_count": 24
    }
   ],
   "source": [
    "list(filter(lambda x: x % 2 != 0, list(my_array)))"
   ]
  },
  {
   "cell_type": "markdown",
   "metadata": {},
   "source": [
    "## Ejercicio 5\n",
    "En un nuevo array, sustituye todos los impares de `my_array` por -1"
   ]
  },
  {
   "cell_type": "code",
   "execution_count": 31,
   "metadata": {},
   "outputs": [
    {
     "output_type": "stream",
     "name": "stdout",
     "text": [
      "[ 0 -1  2 -1  4 -1  6 -1  8 -1]\n"
     ]
    }
   ],
   "source": [
    "l = np.array([-1 if element % 2 != 0 else element for i, element in enumerate(my_array)])\n",
    "print(l)"
   ]
  },
  {
   "cell_type": "markdown",
   "metadata": {},
   "source": [
    "## Ejercicio 6\n",
    "En un nuevo array, sustituye todos los impares de `my_array` por -1. Esta vez usa `where`"
   ]
  },
  {
   "cell_type": "code",
   "execution_count": 27,
   "metadata": {},
   "outputs": [
    {
     "output_type": "stream",
     "name": "stdout",
     "text": [
      "[ 0 -1  2 -1  4 -1  6 -1  8 -1]\n"
     ]
    }
   ],
   "source": [
    "a = np.where(my_array % 2 != 0, -1, my_array)\n",
    "print(a)"
   ]
  },
  {
   "cell_type": "markdown",
   "metadata": {},
   "source": [
    "## Ejercicio 7\n",
    "Convierte `my_array` en un nuevo array de dos dimensiones mediante `reshape`."
   ]
  },
  {
   "cell_type": "code",
   "execution_count": 32,
   "metadata": {},
   "outputs": [
    {
     "output_type": "stream",
     "name": "stdout",
     "text": [
      "[[ 0 -1  2 -1  4]\n [-1  6 -1  8 -1]]\n"
     ]
    }
   ],
   "source": [
    "b = np.reshape(my_array, (2,5))\n",
    "print(b)"
   ]
  },
  {
   "cell_type": "markdown",
   "metadata": {},
   "source": [
    "## Ejercicio 8\n",
    "Concatena los siguientes arrays verticalmente\n",
    "\n",
    "```Python\n",
    "a = np.arange(10).reshape(2,-1)\n",
    "b = np.repeat(1, 10).reshape(2,-1)\n",
    "```"
   ]
  },
  {
   "cell_type": "code",
   "execution_count": 34,
   "metadata": {},
   "outputs": [
    {
     "output_type": "stream",
     "name": "stdout",
     "text": [
      "[[0 1 2 3 4]\n [5 6 7 8 9]\n [1 1 1 1 1]\n [1 1 1 1 1]]\n"
     ]
    }
   ],
   "source": [
    "a = np.arange(10).reshape(2,-1)\n",
    "b = np.repeat(1, 10).reshape(2,-1)\n",
    "\n",
    "c = np.concatenate((a,b))\n",
    "print(c)"
   ]
  },
  {
   "cell_type": "markdown",
   "metadata": {},
   "source": [
    "## Ejercicio 9\n",
    "Concatena los siguientes arrays horizontamente\n",
    "\n",
    "```Python\n",
    "a = np.arange(10).reshape(2,-1)\n",
    "b = np.repeat(1, 10).reshape(2,-1)\n",
    "```"
   ]
  },
  {
   "cell_type": "code",
   "execution_count": 35,
   "metadata": {},
   "outputs": [
    {
     "output_type": "stream",
     "name": "stdout",
     "text": [
      "[[0 1 2 3 4 1 1 1 1 1]\n [5 6 7 8 9 1 1 1 1 1]]\n"
     ]
    }
   ],
   "source": [
    "a = np.arange(10).reshape(2,-1)\n",
    "b = np.repeat(1, 10).reshape(2,-1)\n",
    "\n",
    "c = np.concatenate((a,b), axis=1)\n",
    "print(c)"
   ]
  },
  {
   "cell_type": "markdown",
   "metadata": {},
   "source": [
    "## Ejercicio 10\n",
    "Encuentra todos los elementos en común entre ambos arrays. [Para ello usa el método `intersect1d`](https://numpy.org/doc/stable/reference/generated/numpy.intersect1d.html)\n",
    "\n",
    "```Python\n",
    "a = np.array([1,2,3,2,3,4,3,4,5,6])\n",
    "b = np.array([7,2,10,2,7,4,9,4,9,8])\n",
    "```"
   ]
  },
  {
   "cell_type": "code",
   "execution_count": 38,
   "metadata": {},
   "outputs": [
    {
     "output_type": "stream",
     "name": "stdout",
     "text": [
      "[2 4]\n"
     ]
    }
   ],
   "source": [
    "a = np.array([1,2,3,2,3,4,3,4,5,6])\n",
    "b = np.array([7,2,10,2,7,4,9,4,9,8])\n",
    "\n",
    "c = np.intersect1d(a,b)\n",
    "print(c)"
   ]
  },
  {
   "cell_type": "markdown",
   "metadata": {},
   "source": [
    "## Ejercicio 11\n",
    "Obtén la documentación acerca de la función `concatenate`"
   ]
  },
  {
   "cell_type": "code",
   "execution_count": 36,
   "metadata": {},
   "outputs": [
    {
     "output_type": "stream",
     "name": "stdout",
     "text": [
      "Help on function concatenate in module numpy:\n\nconcatenate(...)\n    concatenate((a1, a2, ...), axis=0, out=None, dtype=None, casting=\"same_kind\")\n    \n    Join a sequence of arrays along an existing axis.\n    \n    Parameters\n    ----------\n    a1, a2, ... : sequence of array_like\n        The arrays must have the same shape, except in the dimension\n        corresponding to `axis` (the first, by default).\n    axis : int, optional\n        The axis along which the arrays will be joined.  If axis is None,\n        arrays are flattened before use.  Default is 0.\n    out : ndarray, optional\n        If provided, the destination to place the result. The shape must be\n        correct, matching that of what concatenate would have returned if no\n        out argument were specified.\n    dtype : str or dtype\n        If provided, the destination array will have this dtype. Cannot be\n        provided together with `out`.\n    \n        .. versionadded:: 1.20.0\n    \n    casting : {'no', 'equiv', 'safe', 'same_kind', 'unsafe'}, optional\n        Controls what kind of data casting may occur. Defaults to 'same_kind'.\n    \n        .. versionadded:: 1.20.0\n    \n    Returns\n    -------\n    res : ndarray\n        The concatenated array.\n    \n    See Also\n    --------\n    ma.concatenate : Concatenate function that preserves input masks.\n    array_split : Split an array into multiple sub-arrays of equal or\n                  near-equal size.\n    split : Split array into a list of multiple sub-arrays of equal size.\n    hsplit : Split array into multiple sub-arrays horizontally (column wise).\n    vsplit : Split array into multiple sub-arrays vertically (row wise).\n    dsplit : Split array into multiple sub-arrays along the 3rd axis (depth).\n    stack : Stack a sequence of arrays along a new axis.\n    block : Assemble arrays from blocks.\n    hstack : Stack arrays in sequence horizontally (column wise).\n    vstack : Stack arrays in sequence vertically (row wise).\n    dstack : Stack arrays in sequence depth wise (along third dimension).\n    column_stack : Stack 1-D arrays as columns into a 2-D array.\n    \n    Notes\n    -----\n    When one or more of the arrays to be concatenated is a MaskedArray,\n    this function will return a MaskedArray object instead of an ndarray,\n    but the input masks are *not* preserved. In cases where a MaskedArray\n    is expected as input, use the ma.concatenate function from the masked\n    array module instead.\n    \n    Examples\n    --------\n    >>> a = np.array([[1, 2], [3, 4]])\n    >>> b = np.array([[5, 6]])\n    >>> np.concatenate((a, b), axis=0)\n    array([[1, 2],\n           [3, 4],\n           [5, 6]])\n    >>> np.concatenate((a, b.T), axis=1)\n    array([[1, 2, 5],\n           [3, 4, 6]])\n    >>> np.concatenate((a, b), axis=None)\n    array([1, 2, 3, 4, 5, 6])\n    \n    This function will not preserve masking of MaskedArray inputs.\n    \n    >>> a = np.ma.arange(3)\n    >>> a[1] = np.ma.masked\n    >>> b = np.arange(2, 5)\n    >>> a\n    masked_array(data=[0, --, 2],\n                 mask=[False,  True, False],\n           fill_value=999999)\n    >>> b\n    array([2, 3, 4])\n    >>> np.concatenate([a, b])\n    masked_array(data=[0, 1, 2, 2, 3, 4],\n                 mask=False,\n           fill_value=999999)\n    >>> np.ma.concatenate([a, b])\n    masked_array(data=[0, --, 2, 2, 3, 4],\n                 mask=[False,  True, False, False, False, False],\n           fill_value=999999)\n\n"
     ]
    }
   ],
   "source": [
    "help(np.concatenate)"
   ]
  },
  {
   "cell_type": "markdown",
   "metadata": {},
   "source": [
    "## Ejercicio 12\n",
    "Crea un array unidimensional que vaya del 0 al 9. Llámalo `my_array`. \n",
    "1. Multiplica cada uno de los elementos de `my_array` por 10, en un nuevo array\n",
    "2. Accede al primer elemento del array\n",
    "3. Accede al último elemento del array\n",
    "4. Imprime por pantalla los numeros del 1 al 7"
   ]
  },
  {
   "cell_type": "code",
   "execution_count": 47,
   "metadata": {},
   "outputs": [
    {
     "output_type": "stream",
     "name": "stdout",
     "text": [
      "----------------\n[0 1 2 3 4 5 6 7 8 9]\n----------------\n[ 0 10 20 30 40 50 60 70 80 90]\n----------------\n0\n----------------\n90\n----------------\n1\n2\n3\n4\n5\n6\n7\n"
     ]
    }
   ],
   "source": [
    "my_array = np.arange(10)\n",
    "print('----------------')\n",
    "print(my_array)\n",
    "\n",
    "# 1 Multiplicar por 10 cada elemento\n",
    "a = np.array(list(map(lambda x: x*10, list(my_array))))\n",
    "print('----------------')\n",
    "print(a)\n",
    "\n",
    "# 2 Acceder al primer elemento del array\n",
    "print('----------------')\n",
    "print(a[0])\n",
    "\n",
    "# 3 Accede al último elemento del array\n",
    "print('----------------')\n",
    "print(a[-1])\n",
    "\n",
    "# 4 Imprimir por pantalla del 1 al 7\n",
    "print('----------------')\n",
    "for element in list(my_array):\n",
    "    if element > 7:\n",
    "        break\n",
    "    elif element == 0:\n",
    "        continue\n",
    "    else:\n",
    "        print(element)"
   ]
  },
  {
   "cell_type": "markdown",
   "metadata": {},
   "source": [
    "## Ejercicio 13\n",
    "Crea un array manualmente de tres filas por tres columnas. Llámalo `my_matrix`"
   ]
  },
  {
   "cell_type": "code",
   "execution_count": 48,
   "metadata": {},
   "outputs": [
    {
     "output_type": "stream",
     "name": "stdout",
     "text": [
      "[[1 2 3]\n [4 5 6]\n [7 8 9]]\n"
     ]
    }
   ],
   "source": [
    "my_matrix = np.array([[1,2,3],[4,5,6],[7,8,9]])\n",
    "print(my_matrix)"
   ]
  },
  {
   "cell_type": "markdown",
   "metadata": {},
   "source": [
    "## Ejercicio 14\n",
    "Obtén la siguiente secuencia:\n",
    "\n",
    "```Python\n",
    "[ 1,  4,  7, 10, 13, 16, 19, 22, 25, 28, 31, 34, 37, 40, 43, 46, 49]\n",
    "```"
   ]
  },
  {
   "cell_type": "code",
   "execution_count": 49,
   "metadata": {},
   "outputs": [
    {
     "output_type": "stream",
     "name": "stdout",
     "text": [
      "[ 1  4  7 10 13 16 19 22 25 28 31 34 37 40 43 46 49]\n"
     ]
    }
   ],
   "source": [
    "suma_3 = np.arange(1,50,3)\n",
    "print(suma_3)"
   ]
  },
  {
   "cell_type": "markdown",
   "metadata": {},
   "source": [
    "## Ejercicio 15\n",
    "Obtén la siguiente secuencia\n",
    "\n",
    "```Python\n",
    "[4., 3.75, 3.5 , 3.25, 3.  , 2.75, 2.5 , 2.25, 2., 1.75, 1.5 ,1.25]\n",
    "```"
   ]
  },
  {
   "cell_type": "code",
   "execution_count": 50,
   "metadata": {},
   "outputs": [
    {
     "output_type": "stream",
     "name": "stdout",
     "text": [
      "[4.   3.75 3.5  3.25 3.   2.75 2.5  2.25 2.   1.75 1.5  1.25]\n"
     ]
    }
   ],
   "source": [
    "cuartos = np.arange(4,1,-0.25)\n",
    "print(cuartos)"
   ]
  },
  {
   "cell_type": "markdown",
   "metadata": {},
   "source": [
    "## Ejercicio 16\n",
    "Lee la imagen `numpy.png` que encontrarás en la carpeta **img**"
   ]
  },
  {
   "cell_type": "code",
   "execution_count": 2,
   "metadata": {},
   "outputs": [
    {
     "output_type": "execute_result",
     "data": {
      "text/plain": [
       "<matplotlib.image.AxesImage at 0x179b5ef0b88>"
      ]
     },
     "metadata": {},
     "execution_count": 2
    },
    {
     "output_type": "display_data",
     "data": {
      "text/plain": "<Figure size 432x288 with 1 Axes>",
      "image/svg+xml": "<?xml version=\"1.0\" encoding=\"utf-8\" standalone=\"no\"?>\r\n<!DOCTYPE svg PUBLIC \"-//W3C//DTD SVG 1.1//EN\"\r\n  \"http://www.w3.org/Graphics/SVG/1.1/DTD/svg11.dtd\">\r\n<svg height=\"168.57852pt\" version=\"1.1\" viewBox=\"0 0 375.2875 168.57852\" width=\"375.2875pt\" xmlns=\"http://www.w3.org/2000/svg\" xmlns:xlink=\"http://www.w3.org/1999/xlink\">\r\n <metadata>\r\n  <rdf:RDF xmlns:cc=\"http://creativecommons.org/ns#\" xmlns:dc=\"http://purl.org/dc/elements/1.1/\" xmlns:rdf=\"http://www.w3.org/1999/02/22-rdf-syntax-ns#\">\r\n   <cc:Work>\r\n    <dc:type rdf:resource=\"http://purl.org/dc/dcmitype/StillImage\"/>\r\n    <dc:date>2021-05-06T09:48:01.609521</dc:date>\r\n    <dc:format>image/svg+xml</dc:format>\r\n    <dc:creator>\r\n     <cc:Agent>\r\n      <dc:title>Matplotlib v3.4.1, https://matplotlib.org/</dc:title>\r\n     </cc:Agent>\r\n    </dc:creator>\r\n   </cc:Work>\r\n  </rdf:RDF>\r\n </metadata>\r\n <defs>\r\n  <style type=\"text/css\">*{stroke-linecap:butt;stroke-linejoin:round;}</style>\r\n </defs>\r\n <g id=\"figure_1\">\r\n  <g id=\"patch_1\">\r\n   <path d=\"M 0 168.57852 \r\nL 375.2875 168.57852 \r\nL 375.2875 0 \r\nL 0 0 \r\nz\r\n\" style=\"fill:none;\"/>\r\n  </g>\r\n  <g id=\"axes_1\">\r\n   <g id=\"patch_2\">\r\n    <path d=\"M 33.2875 144.700395 \r\nL 368.0875 144.700395 \r\nL 368.0875 10.780395 \r\nL 33.2875 10.780395 \r\nz\r\n\" style=\"fill:#ffffff;\"/>\r\n   </g>\r\n   <g clip-path=\"url(#p4a0665dc91)\">\r\n    <image height=\"134\" id=\"image5245e42c27\" transform=\"scale(1 -1)translate(0 -134)\" width=\"335\" x=\"33.2875\" xlink:href=\"data:image/png;base64,\r\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\" y=\"-10.700395\"/>\r\n   </g>\r\n   <g id=\"matplotlib.axis_1\">\r\n    <g id=\"xtick_1\">\r\n     <g id=\"line2d_1\">\r\n      <defs>\r\n       <path d=\"M 0 0 \r\nL 0 3.5 \r\n\" id=\"mbde2f8dcad\" style=\"stroke:#000000;stroke-width:0.8;\"/>\r\n      </defs>\r\n      <g>\r\n       <use style=\"stroke:#000000;stroke-width:0.8;\" x=\"33.506324\" xlink:href=\"#mbde2f8dcad\" y=\"144.700395\"/>\r\n      </g>\r\n     </g>\r\n     <g id=\"text_1\">\r\n      <!-- 0 -->\r\n      <g transform=\"translate(30.325074 159.298833)scale(0.1 -0.1)\">\r\n       <defs>\r\n        <path d=\"M 2034 4250 \r\nQ 1547 4250 1301 3770 \r\nQ 1056 3291 1056 2328 \r\nQ 1056 1369 1301 889 \r\nQ 1547 409 2034 409 \r\nQ 2525 409 2770 889 \r\nQ 3016 1369 3016 2328 \r\nQ 3016 3291 2770 3770 \r\nQ 2525 4250 2034 4250 \r\nz\r\nM 2034 4750 \r\nQ 2819 4750 3233 4129 \r\nQ 3647 3509 3647 2328 \r\nQ 3647 1150 3233 529 \r\nQ 2819 -91 2034 -91 \r\nQ 1250 -91 836 529 \r\nQ 422 1150 422 2328 \r\nQ 422 3509 836 4129 \r\nQ 1250 4750 2034 4750 \r\nz\r\n\" id=\"DejaVuSans-30\" transform=\"scale(0.015625)\"/>\r\n       </defs>\r\n       <use xlink:href=\"#DejaVuSans-30\"/>\r\n      </g>\r\n     </g>\r\n    </g>\r\n    <g id=\"xtick_2\">\r\n     <g id=\"line2d_2\">\r\n      <g>\r\n       <use style=\"stroke:#000000;stroke-width:0.8;\" x=\"77.271029\" xlink:href=\"#mbde2f8dcad\" y=\"144.700395\"/>\r\n      </g>\r\n     </g>\r\n     <g id=\"text_2\">\r\n      <!-- 100 -->\r\n      <g transform=\"translate(67.727279 159.298833)scale(0.1 -0.1)\">\r\n       <defs>\r\n        <path d=\"M 794 531 \r\nL 1825 531 \r\nL 1825 4091 \r\nL 703 3866 \r\nL 703 4441 \r\nL 1819 4666 \r\nL 2450 4666 \r\nL 2450 531 \r\nL 3481 531 \r\nL 3481 0 \r\nL 794 0 \r\nL 794 531 \r\nz\r\n\" id=\"DejaVuSans-31\" transform=\"scale(0.015625)\"/>\r\n       </defs>\r\n       <use xlink:href=\"#DejaVuSans-31\"/>\r\n       <use x=\"63.623047\" xlink:href=\"#DejaVuSans-30\"/>\r\n       <use x=\"127.246094\" xlink:href=\"#DejaVuSans-30\"/>\r\n      </g>\r\n     </g>\r\n    </g>\r\n    <g id=\"xtick_3\">\r\n     <g id=\"line2d_3\">\r\n      <g>\r\n       <use style=\"stroke:#000000;stroke-width:0.8;\" x=\"121.035735\" xlink:href=\"#mbde2f8dcad\" y=\"144.700395\"/>\r\n      </g>\r\n     </g>\r\n     <g id=\"text_3\">\r\n      <!-- 200 -->\r\n      <g transform=\"translate(111.491985 159.298833)scale(0.1 -0.1)\">\r\n       <defs>\r\n        <path d=\"M 1228 531 \r\nL 3431 531 \r\nL 3431 0 \r\nL 469 0 \r\nL 469 531 \r\nQ 828 903 1448 1529 \r\nQ 2069 2156 2228 2338 \r\nQ 2531 2678 2651 2914 \r\nQ 2772 3150 2772 3378 \r\nQ 2772 3750 2511 3984 \r\nQ 2250 4219 1831 4219 \r\nQ 1534 4219 1204 4116 \r\nQ 875 4013 500 3803 \r\nL 500 4441 \r\nQ 881 4594 1212 4672 \r\nQ 1544 4750 1819 4750 \r\nQ 2544 4750 2975 4387 \r\nQ 3406 4025 3406 3419 \r\nQ 3406 3131 3298 2873 \r\nQ 3191 2616 2906 2266 \r\nQ 2828 2175 2409 1742 \r\nQ 1991 1309 1228 531 \r\nz\r\n\" id=\"DejaVuSans-32\" transform=\"scale(0.015625)\"/>\r\n       </defs>\r\n       <use xlink:href=\"#DejaVuSans-32\"/>\r\n       <use x=\"63.623047\" xlink:href=\"#DejaVuSans-30\"/>\r\n       <use x=\"127.246094\" xlink:href=\"#DejaVuSans-30\"/>\r\n      </g>\r\n     </g>\r\n    </g>\r\n    <g id=\"xtick_4\">\r\n     <g id=\"line2d_4\">\r\n      <g>\r\n       <use style=\"stroke:#000000;stroke-width:0.8;\" x=\"164.800441\" xlink:href=\"#mbde2f8dcad\" y=\"144.700395\"/>\r\n      </g>\r\n     </g>\r\n     <g id=\"text_4\">\r\n      <!-- 300 -->\r\n      <g transform=\"translate(155.256691 159.298833)scale(0.1 -0.1)\">\r\n       <defs>\r\n        <path d=\"M 2597 2516 \r\nQ 3050 2419 3304 2112 \r\nQ 3559 1806 3559 1356 \r\nQ 3559 666 3084 287 \r\nQ 2609 -91 1734 -91 \r\nQ 1441 -91 1130 -33 \r\nQ 819 25 488 141 \r\nL 488 750 \r\nQ 750 597 1062 519 \r\nQ 1375 441 1716 441 \r\nQ 2309 441 2620 675 \r\nQ 2931 909 2931 1356 \r\nQ 2931 1769 2642 2001 \r\nQ 2353 2234 1838 2234 \r\nL 1294 2234 \r\nL 1294 2753 \r\nL 1863 2753 \r\nQ 2328 2753 2575 2939 \r\nQ 2822 3125 2822 3475 \r\nQ 2822 3834 2567 4026 \r\nQ 2313 4219 1838 4219 \r\nQ 1578 4219 1281 4162 \r\nQ 984 4106 628 3988 \r\nL 628 4550 \r\nQ 988 4650 1302 4700 \r\nQ 1616 4750 1894 4750 \r\nQ 2613 4750 3031 4423 \r\nQ 3450 4097 3450 3541 \r\nQ 3450 3153 3228 2886 \r\nQ 3006 2619 2597 2516 \r\nz\r\n\" id=\"DejaVuSans-33\" transform=\"scale(0.015625)\"/>\r\n       </defs>\r\n       <use xlink:href=\"#DejaVuSans-33\"/>\r\n       <use x=\"63.623047\" xlink:href=\"#DejaVuSans-30\"/>\r\n       <use x=\"127.246094\" xlink:href=\"#DejaVuSans-30\"/>\r\n      </g>\r\n     </g>\r\n    </g>\r\n    <g id=\"xtick_5\">\r\n     <g id=\"line2d_5\">\r\n      <g>\r\n       <use style=\"stroke:#000000;stroke-width:0.8;\" x=\"208.565147\" xlink:href=\"#mbde2f8dcad\" y=\"144.700395\"/>\r\n      </g>\r\n     </g>\r\n     <g id=\"text_5\">\r\n      <!-- 400 -->\r\n      <g transform=\"translate(199.021397 159.298833)scale(0.1 -0.1)\">\r\n       <defs>\r\n        <path d=\"M 2419 4116 \r\nL 825 1625 \r\nL 2419 1625 \r\nL 2419 4116 \r\nz\r\nM 2253 4666 \r\nL 3047 4666 \r\nL 3047 1625 \r\nL 3713 1625 \r\nL 3713 1100 \r\nL 3047 1100 \r\nL 3047 0 \r\nL 2419 0 \r\nL 2419 1100 \r\nL 313 1100 \r\nL 313 1709 \r\nL 2253 4666 \r\nz\r\n\" id=\"DejaVuSans-34\" transform=\"scale(0.015625)\"/>\r\n       </defs>\r\n       <use xlink:href=\"#DejaVuSans-34\"/>\r\n       <use x=\"63.623047\" xlink:href=\"#DejaVuSans-30\"/>\r\n       <use x=\"127.246094\" xlink:href=\"#DejaVuSans-30\"/>\r\n      </g>\r\n     </g>\r\n    </g>\r\n    <g id=\"xtick_6\">\r\n     <g id=\"line2d_6\">\r\n      <g>\r\n       <use style=\"stroke:#000000;stroke-width:0.8;\" x=\"252.329853\" xlink:href=\"#mbde2f8dcad\" y=\"144.700395\"/>\r\n      </g>\r\n     </g>\r\n     <g id=\"text_6\">\r\n      <!-- 500 -->\r\n      <g transform=\"translate(242.786103 159.298833)scale(0.1 -0.1)\">\r\n       <defs>\r\n        <path d=\"M 691 4666 \r\nL 3169 4666 \r\nL 3169 4134 \r\nL 1269 4134 \r\nL 1269 2991 \r\nQ 1406 3038 1543 3061 \r\nQ 1681 3084 1819 3084 \r\nQ 2600 3084 3056 2656 \r\nQ 3513 2228 3513 1497 \r\nQ 3513 744 3044 326 \r\nQ 2575 -91 1722 -91 \r\nQ 1428 -91 1123 -41 \r\nQ 819 9 494 109 \r\nL 494 744 \r\nQ 775 591 1075 516 \r\nQ 1375 441 1709 441 \r\nQ 2250 441 2565 725 \r\nQ 2881 1009 2881 1497 \r\nQ 2881 1984 2565 2268 \r\nQ 2250 2553 1709 2553 \r\nQ 1456 2553 1204 2497 \r\nQ 953 2441 691 2322 \r\nL 691 4666 \r\nz\r\n\" id=\"DejaVuSans-35\" transform=\"scale(0.015625)\"/>\r\n       </defs>\r\n       <use xlink:href=\"#DejaVuSans-35\"/>\r\n       <use x=\"63.623047\" xlink:href=\"#DejaVuSans-30\"/>\r\n       <use x=\"127.246094\" xlink:href=\"#DejaVuSans-30\"/>\r\n      </g>\r\n     </g>\r\n    </g>\r\n    <g id=\"xtick_7\">\r\n     <g id=\"line2d_7\">\r\n      <g>\r\n       <use style=\"stroke:#000000;stroke-width:0.8;\" x=\"296.094559\" xlink:href=\"#mbde2f8dcad\" y=\"144.700395\"/>\r\n      </g>\r\n     </g>\r\n     <g id=\"text_7\">\r\n      <!-- 600 -->\r\n      <g transform=\"translate(286.550809 159.298833)scale(0.1 -0.1)\">\r\n       <defs>\r\n        <path d=\"M 2113 2584 \r\nQ 1688 2584 1439 2293 \r\nQ 1191 2003 1191 1497 \r\nQ 1191 994 1439 701 \r\nQ 1688 409 2113 409 \r\nQ 2538 409 2786 701 \r\nQ 3034 994 3034 1497 \r\nQ 3034 2003 2786 2293 \r\nQ 2538 2584 2113 2584 \r\nz\r\nM 3366 4563 \r\nL 3366 3988 \r\nQ 3128 4100 2886 4159 \r\nQ 2644 4219 2406 4219 \r\nQ 1781 4219 1451 3797 \r\nQ 1122 3375 1075 2522 \r\nQ 1259 2794 1537 2939 \r\nQ 1816 3084 2150 3084 \r\nQ 2853 3084 3261 2657 \r\nQ 3669 2231 3669 1497 \r\nQ 3669 778 3244 343 \r\nQ 2819 -91 2113 -91 \r\nQ 1303 -91 875 529 \r\nQ 447 1150 447 2328 \r\nQ 447 3434 972 4092 \r\nQ 1497 4750 2381 4750 \r\nQ 2619 4750 2861 4703 \r\nQ 3103 4656 3366 4563 \r\nz\r\n\" id=\"DejaVuSans-36\" transform=\"scale(0.015625)\"/>\r\n       </defs>\r\n       <use xlink:href=\"#DejaVuSans-36\"/>\r\n       <use x=\"63.623047\" xlink:href=\"#DejaVuSans-30\"/>\r\n       <use x=\"127.246094\" xlink:href=\"#DejaVuSans-30\"/>\r\n      </g>\r\n     </g>\r\n    </g>\r\n    <g id=\"xtick_8\">\r\n     <g id=\"line2d_8\">\r\n      <g>\r\n       <use style=\"stroke:#000000;stroke-width:0.8;\" x=\"339.859265\" xlink:href=\"#mbde2f8dcad\" y=\"144.700395\"/>\r\n      </g>\r\n     </g>\r\n     <g id=\"text_8\">\r\n      <!-- 700 -->\r\n      <g transform=\"translate(330.315515 159.298833)scale(0.1 -0.1)\">\r\n       <defs>\r\n        <path d=\"M 525 4666 \r\nL 3525 4666 \r\nL 3525 4397 \r\nL 1831 0 \r\nL 1172 0 \r\nL 2766 4134 \r\nL 525 4134 \r\nL 525 4666 \r\nz\r\n\" id=\"DejaVuSans-37\" transform=\"scale(0.015625)\"/>\r\n       </defs>\r\n       <use xlink:href=\"#DejaVuSans-37\"/>\r\n       <use x=\"63.623047\" xlink:href=\"#DejaVuSans-30\"/>\r\n       <use x=\"127.246094\" xlink:href=\"#DejaVuSans-30\"/>\r\n      </g>\r\n     </g>\r\n    </g>\r\n   </g>\r\n   <g id=\"matplotlib.axis_2\">\r\n    <g id=\"ytick_1\">\r\n     <g id=\"line2d_9\">\r\n      <defs>\r\n       <path d=\"M 0 0 \r\nL -3.5 0 \r\n\" id=\"m3bcdae3679\" style=\"stroke:#000000;stroke-width:0.8;\"/>\r\n      </defs>\r\n      <g>\r\n       <use style=\"stroke:#000000;stroke-width:0.8;\" x=\"33.2875\" xlink:href=\"#m3bcdae3679\" y=\"10.999219\"/>\r\n      </g>\r\n     </g>\r\n     <g id=\"text_9\">\r\n      <!-- 0 -->\r\n      <g transform=\"translate(19.925 14.798438)scale(0.1 -0.1)\">\r\n       <use xlink:href=\"#DejaVuSans-30\"/>\r\n      </g>\r\n     </g>\r\n    </g>\r\n    <g id=\"ytick_2\">\r\n     <g id=\"line2d_10\">\r\n      <g>\r\n       <use style=\"stroke:#000000;stroke-width:0.8;\" x=\"33.2875\" xlink:href=\"#m3bcdae3679\" y=\"54.763925\"/>\r\n      </g>\r\n     </g>\r\n     <g id=\"text_10\">\r\n      <!-- 100 -->\r\n      <g transform=\"translate(7.2 58.563143)scale(0.1 -0.1)\">\r\n       <use xlink:href=\"#DejaVuSans-31\"/>\r\n       <use x=\"63.623047\" xlink:href=\"#DejaVuSans-30\"/>\r\n       <use x=\"127.246094\" xlink:href=\"#DejaVuSans-30\"/>\r\n      </g>\r\n     </g>\r\n    </g>\r\n    <g id=\"ytick_3\">\r\n     <g id=\"line2d_11\">\r\n      <g>\r\n       <use style=\"stroke:#000000;stroke-width:0.8;\" x=\"33.2875\" xlink:href=\"#m3bcdae3679\" y=\"98.528631\"/>\r\n      </g>\r\n     </g>\r\n     <g id=\"text_11\">\r\n      <!-- 200 -->\r\n      <g transform=\"translate(7.2 102.327849)scale(0.1 -0.1)\">\r\n       <use xlink:href=\"#DejaVuSans-32\"/>\r\n       <use x=\"63.623047\" xlink:href=\"#DejaVuSans-30\"/>\r\n       <use x=\"127.246094\" xlink:href=\"#DejaVuSans-30\"/>\r\n      </g>\r\n     </g>\r\n    </g>\r\n    <g id=\"ytick_4\">\r\n     <g id=\"line2d_12\">\r\n      <g>\r\n       <use style=\"stroke:#000000;stroke-width:0.8;\" x=\"33.2875\" xlink:href=\"#m3bcdae3679\" y=\"142.293336\"/>\r\n      </g>\r\n     </g>\r\n     <g id=\"text_12\">\r\n      <!-- 300 -->\r\n      <g transform=\"translate(7.2 146.092555)scale(0.1 -0.1)\">\r\n       <use xlink:href=\"#DejaVuSans-33\"/>\r\n       <use x=\"63.623047\" xlink:href=\"#DejaVuSans-30\"/>\r\n       <use x=\"127.246094\" xlink:href=\"#DejaVuSans-30\"/>\r\n      </g>\r\n     </g>\r\n    </g>\r\n   </g>\r\n   <g id=\"patch_3\">\r\n    <path d=\"M 33.2875 144.700395 \r\nL 33.2875 10.780395 \r\n\" style=\"fill:none;stroke:#000000;stroke-linecap:square;stroke-linejoin:miter;stroke-width:0.8;\"/>\r\n   </g>\r\n   <g id=\"patch_4\">\r\n    <path d=\"M 368.0875 144.700395 \r\nL 368.0875 10.780395 \r\n\" style=\"fill:none;stroke:#000000;stroke-linecap:square;stroke-linejoin:miter;stroke-width:0.8;\"/>\r\n   </g>\r\n   <g id=\"patch_5\">\r\n    <path d=\"M 33.2875 144.700395 \r\nL 368.0875 144.700395 \r\n\" style=\"fill:none;stroke:#000000;stroke-linecap:square;stroke-linejoin:miter;stroke-width:0.8;\"/>\r\n   </g>\r\n   <g id=\"patch_6\">\r\n    <path d=\"M 33.2875 10.780395 \r\nL 368.0875 10.780395 \r\n\" style=\"fill:none;stroke:#000000;stroke-linecap:square;stroke-linejoin:miter;stroke-width:0.8;\"/>\r\n   </g>\r\n  </g>\r\n </g>\r\n <defs>\r\n  <clipPath id=\"p4a0665dc91\">\r\n   <rect height=\"133.92\" width=\"334.8\" x=\"33.2875\" y=\"10.780395\"/>\r\n  </clipPath>\r\n </defs>\r\n</svg>\r\n",
      "image/png": "[encoded data removed]"
     },
     "metadata": {
      "needs_background": "light"
     }
    }
   ],
   "source": [
    "from skimage.io import imread\n",
    "import matplotlib.pyplot as plt\n",
    "\n",
    "image = imread('../theory/numpy/img/numpy.png')\n",
    "\n",
    "plt.imshow(image)\n"
   ]
  },
  {
   "cell_type": "markdown",
   "metadata": {},
   "source": [
    "## Ejercicio 17\n",
    "Crea un array de 4x1. A continuación convierte el array a un 2x2"
   ]
  },
  {
   "cell_type": "code",
   "execution_count": 7,
   "metadata": {},
   "outputs": [
    {
     "output_type": "stream",
     "name": "stdout",
     "text": [
      "[[1.]\n [1.]\n [1.]\n [1.]]\n[[1. 1.]\n [1. 1.]]\n"
     ]
    }
   ],
   "source": [
    "a = np.ones((4,1))\n",
    "print(a)\n",
    "a = np.reshape(a, (2,2))\n",
    "print(a)"
   ]
  },
  {
   "cell_type": "markdown",
   "metadata": {},
   "source": [
    "## Ejercicio 18\n",
    "Crea una secuencia aleatoria. La secuencia se tiene que componer de 4 matrices de 5x3. Serían 3 dimensiones diferentes."
   ]
  },
  {
   "cell_type": "code",
   "execution_count": 8,
   "metadata": {},
   "outputs": [
    {
     "output_type": "stream",
     "name": "stdout",
     "text": [
      "[[[6 0 0]\n  [7 8 9]\n  [4 7 9]\n  [6 5 5]\n  [2 1 7]]\n\n [[5 4 3]\n  [6 6 9]\n  [5 7 4]\n  [5 4 8]\n  [2 6 7]]\n\n [[2 5 5]\n  [7 4 5]\n  [6 0 1]\n  [2 8 7]\n  [3 0 0]]\n\n [[5 7 8]\n  [5 6 4]\n  [7 3 8]\n  [8 5 0]\n  [9 9 7]]]\n"
     ]
    }
   ],
   "source": [
    "secuencia = np.random.randint(10, size=(4,5,3))\n",
    "print(secuencia)"
   ]
  },
  {
   "cell_type": "markdown",
   "metadata": {},
   "source": [
    "## Ejercicio 19\n",
    "Crea una matriz de 10x1, toda ella compuesta por `False`. Después transformalo en un 2x5"
   ]
  },
  {
   "cell_type": "code",
   "execution_count": 9,
   "metadata": {},
   "outputs": [
    {
     "output_type": "stream",
     "name": "stdout",
     "text": [
      "[[False]\n [False]\n [False]\n [False]\n [False]\n [False]\n [False]\n [False]\n [False]\n [False]]\n[[False False False False False]\n [False False False False False]]\n"
     ]
    }
   ],
   "source": [
    "f = np.full((10,1), False)\n",
    "print(f)\n",
    "f = np.reshape(f, (2,5))\n",
    "print(f)"
   ]
  },
  {
   "cell_type": "markdown",
   "metadata": {},
   "source": [
    "## Ejercicio 20\n",
    "Dado el siguiente array\n",
    "\n",
    "```Python\n",
    "x =np.random.randint(10, 20, size = (5,2,6))\n",
    "```\n",
    "\n",
    "1. ¿Cuántos elementos tiene el array?\n",
    "2. ¿Cuántas dimensiones?\n",
    "3. ¿Cuántos elementos tiene cada dimensión?"
   ]
  },
  {
   "cell_type": "code",
   "execution_count": 16,
   "metadata": {},
   "outputs": [
    {
     "output_type": "stream",
     "name": "stdout",
     "text": [
      "elementos: 5\ndimensiones: 2\nelementos por dimensión: 6\n"
     ]
    }
   ],
   "source": [
    "x =np.random.randint(10, 20, size = (5,2,6))\n",
    "\n",
    "# 1 Número de elementos del array\n",
    "print('elementos:', len(x))\n",
    "\n",
    "# 2 Dimensiones\n",
    "print('dimensiones:', len(x[0]))\n",
    "\n",
    "# 3 Elementos por dimensión\n",
    "print('elementos por dimensión:', len(x[0][0]))\n",
    "\n",
    "#Todos los valores coinciden con el tamaño definido al declarar 'x'."
   ]
  }
 ],
 "metadata": {
  "kernelspec": {
   "name": "python374jvsc74a57bd0674dfd6ded4398e0679ff4f65e9a10a54ff0d14801bec0126172cfc3973d1cf1",
   "display_name": "Python 3.7.4 64-bit"
  },
  "language_info": {
   "codemirror_mode": {
    "name": "ipython",
    "version": 3
   },
   "file_extension": ".py",
   "mimetype": "text/x-python",
   "name": "python",
   "nbconvert_exporter": "python",
   "pygments_lexer": "ipython3",
   "version": "3.7.4"
  },
  "metadata": {
   "interpreter": {
    "hash": "674dfd6ded4398e0679ff4f65e9a10a54ff0d14801bec0126172cfc3973d1cf1"
   }
  }
 },
 "nbformat": 4,
 "nbformat_minor": 4
}