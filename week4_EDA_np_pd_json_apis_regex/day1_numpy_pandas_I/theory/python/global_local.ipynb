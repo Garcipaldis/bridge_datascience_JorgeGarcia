{
 "metadata": {
  "language_info": {
   "codemirror_mode": {
    "name": "ipython",
    "version": 3
   },
   "file_extension": ".py",
   "mimetype": "text/x-python",
   "name": "python",
   "nbconvert_exporter": "python",
   "pygments_lexer": "ipython3",
   "version": "3.6.4-final"
  },
  "orig_nbformat": 2,
  "kernelspec": {
   "name": "python36464bitc2077ed07ea84d23aa5b518d224882ab",
   "display_name": "Python 3.6.4 64-bit"
  }
 },
 "nbformat": 4,
 "nbformat_minor": 2,
 "cells": [
  {
   "cell_type": "code",
   "execution_count": 1,
   "metadata": {},
   "outputs": [
    {
     "output_type": "stream",
     "name": "stdout",
     "text": [
      "2\n14\n2\n"
     ]
    }
   ],
   "source": [
    "x = 2\n",
    "\n",
    "def funcion(x):\n",
    "    x = 7 + x\n",
    "    print(x)\n",
    "\n",
    "print(x)\n",
    "funcion(x=7)\n",
    "print(x)"
   ]
  },
  {
   "cell_type": "code",
   "execution_count": 2,
   "metadata": {},
   "outputs": [
    {
     "output_type": "stream",
     "name": "stdout",
     "text": [
      "2\n24\n2\n"
     ]
    }
   ],
   "source": [
    "x = 2\n",
    "a = 10\n",
    "\n",
    "def funcion(x):\n",
    "    x = 7 + x + a\n",
    "    print(x)\n",
    "\n",
    "print(x)\n",
    "funcion(x=7)\n",
    "print(x)"
   ]
  },
  {
   "cell_type": "code",
   "execution_count": 11,
   "metadata": {},
   "outputs": [
    {
     "output_type": "stream",
     "name": "stdout",
     "text": [
      "2\nb: 14\n24\n2\n10\n"
     ]
    }
   ],
   "source": [
    "x = 2\n",
    "a = 10\n",
    "\n",
    "def funcion(x):\n",
    "    b = a + 4\n",
    "    print(\"b:\", b)\n",
    "    x = 7 + x + a\n",
    "    print(x)\n",
    "\n",
    "print(x)\n",
    "funcion(x=7)\n",
    "print(x)\n",
    "print(a)"
   ]
  },
  {
   "cell_type": "code",
   "execution_count": 12,
   "metadata": {},
   "outputs": [
    {
     "output_type": "stream",
     "name": "stdout",
     "text": [
      "2\na: 12\nb: 16\n26\n2\n12\n"
     ]
    }
   ],
   "source": [
    "x = 2\n",
    "a = 10\n",
    "\n",
    "def funcion(x):\n",
    "    global a\n",
    "    a = a + 2\n",
    "    b = a + 4\n",
    "    print(\"a:\", a)\n",
    "    print(\"b:\", b)\n",
    "    x = 7 + x + a\n",
    "    print(x)\n",
    "\n",
    "print(x)\n",
    "funcion(x=7)\n",
    "print(x)\n",
    "print(a)"
   ]
  },
  {
   "cell_type": "code",
   "execution_count": null,
   "metadata": {},
   "outputs": [],
   "source": []
  }
 ]
}