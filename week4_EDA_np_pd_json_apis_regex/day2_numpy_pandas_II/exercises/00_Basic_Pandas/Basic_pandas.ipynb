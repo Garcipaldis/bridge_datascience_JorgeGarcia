{
 "cells": [
  {
   "cell_type": "markdown",
   "metadata": {},
   "source": [
    "## Ejercicio 1\n",
    "Importa la libreria de `pandas` y `numpy`. ¿Qué versión de la librería `pandas` tienes?"
   ]
  },
  {
   "cell_type": "code",
   "execution_count": 3,
   "metadata": {},
   "outputs": [
    {
     "output_type": "execute_result",
     "data": {
      "text/plain": [
       "'1.2.4'"
      ]
     },
     "metadata": {},
     "execution_count": 3
    }
   ],
   "source": [
    "import numpy as np\n",
    "import pandas as pd\n",
    "\n",
    "pd.__version__"
   ]
  },
  {
   "cell_type": "markdown",
   "metadata": {},
   "source": [
    "## Ejercicio 2\n",
    "Lee el archivo CSV de la liga. Guarda el DataFrame en una variable llamada `df`. [Usa el método `read_csv` de `pandas`](https://pandas.pydata.org/pandas-docs/stable/reference/api/pandas.read_csv.html)."
   ]
  },
  {
   "cell_type": "code",
   "execution_count": 4,
   "metadata": {},
   "outputs": [],
   "source": [
    "df = pd.read_csv('laliga.csv')"
   ]
  },
  {
   "cell_type": "markdown",
   "metadata": {},
   "source": [
    "## Ejercicio 3\n",
    "Obtén por pantalla los 4 primero registros"
   ]
  },
  {
   "cell_type": "code",
   "execution_count": 5,
   "metadata": {},
   "outputs": [
    {
     "output_type": "stream",
     "name": "stdout",
     "text": [
      "   Unnamed: 0   season  division  round           localTeam    visitorTeam  \\\n0       26201  2005-06         1      1  Atletico de Bilbao  Real Sociedad   \n1       26202  2005-06         1      1              Alaves      Barcelona   \n2       26203  2005-06         1      1            Valencia          Betis   \n3       26204  2005-06         1      1  Atletico de Madrid       Zaragoza   \n\n   localGoals  visitorGoals        date   timestamp  \n0           3             0  27/08/2005  1125093600  \n1           0             0  27/08/2005  1125093600  \n2           1             0  27/08/2005  1125093600  \n3           0             0  28/08/2005  1125180000  \n"
     ]
    }
   ],
   "source": [
    "print(df[:4])"
   ]
  },
  {
   "cell_type": "markdown",
   "metadata": {},
   "source": [
    "## Ejercicio 4\n",
    "Obtén en un array de `numpy` todos los valores del DataFrame"
   ]
  },
  {
   "cell_type": "code",
   "execution_count": 6,
   "metadata": {},
   "outputs": [
    {
     "output_type": "stream",
     "name": "stdout",
     "text": [
      "[[26201 '2005-06' 1 ... 0 '27/08/2005' 1125093600]\n [26202 '2005-06' 1 ... 0 '27/08/2005' 1125093600]\n [26203 '2005-06' 1 ... 0 '27/08/2005' 1125093600]\n ...\n [36682 '2017-18' 1 ... 0 '20/05/2018' 1526767200]\n [36683 '2017-18' 1 ... 1 '20/05/2018' 1526767200]\n [36684 '2017-18' 1 ... 2 '20/05/2018' 1526767200]]\n"
     ]
    }
   ],
   "source": [
    "arr = np.array(df)\n",
    "print(arr)"
   ]
  },
  {
   "cell_type": "markdown",
   "metadata": {},
   "source": [
    "## Ejercicio 5\n",
    "¿Cuáles son las columnas de `df`?"
   ]
  },
  {
   "cell_type": "code",
   "execution_count": 7,
   "metadata": {},
   "outputs": [
    {
     "output_type": "execute_result",
     "data": {
      "text/plain": [
       "Index(['Unnamed: 0', 'season', 'division', 'round', 'localTeam', 'visitorTeam',\n",
       "       'localGoals', 'visitorGoals', 'date', 'timestamp'],\n",
       "      dtype='object')"
      ]
     },
     "metadata": {},
     "execution_count": 7
    }
   ],
   "source": [
    "df.columns"
   ]
  },
  {
   "cell_type": "markdown",
   "metadata": {},
   "source": [
    "## Ejercicio 6\n",
    "Crea un `Series` con la [población de Madrid, Galicia, Murcia y Andalucía](https://es.wikipedia.org/wiki/Anexo:Comunidades_y_ciudades_aut%C3%B3nomas_de_Espa%C3%B1a). Llamalo `poblacion`.\n",
    "\n",
    "- Madrid: 6685471\n",
    "- Galicia: 2698764\n",
    "- Murcia: 1494442\n",
    "- Andalucía: 8446561\n"
   ]
  },
  {
   "cell_type": "code",
   "execution_count": 8,
   "metadata": {},
   "outputs": [
    {
     "output_type": "execute_result",
     "data": {
      "text/plain": [
       "Madrid       6685471\n",
       "Galicia      2698764\n",
       "Murcia       1494442\n",
       "Andalucía    8446561\n",
       "dtype: int64"
      ]
     },
     "metadata": {},
     "execution_count": 8
    }
   ],
   "source": [
    "d = {'Madrid':6685471, 'Galicia':2698764, 'Murcia':1494442, 'Andalucía':8446561}\n",
    "poblacion = pd.Series(data=d, index=list(d.keys()))\n",
    "poblacion"
   ]
  },
  {
   "cell_type": "markdown",
   "metadata": {},
   "source": [
    "## Ejercicio 7\n",
    "Obtén un array de `numpy` con los valores del `Series`.\n",
    "\n",
    "Saca también sus índices, y los valores de sus índices."
   ]
  },
  {
   "cell_type": "code",
   "execution_count": 9,
   "metadata": {},
   "outputs": [
    {
     "output_type": "stream",
     "name": "stdout",
     "text": [
      "[6685471 2698764 1494442 8446561]\nIndex(['Madrid', 'Galicia', 'Murcia', 'Andalucía'], dtype='object')\n"
     ]
    },
    {
     "output_type": "execute_result",
     "data": {
      "text/plain": [
       "array(['Madrid', 'Galicia', 'Murcia', 'Andalucía'], dtype=object)"
      ]
     },
     "metadata": {},
     "execution_count": 9
    }
   ],
   "source": [
    "arr_p = poblacion.values\n",
    "print(arr_p)\n",
    "print(poblacion.index)\n",
    "poblacion.index.values"
   ]
  },
  {
   "cell_type": "markdown",
   "metadata": {},
   "source": [
    "## Ejercicio 8\n",
    "1. ¿Qué población hay en el primer elemento del `Series`?\n",
    "2. ¿Qué población hay en Galicia?\n",
    "3. Imprime por pantalla las poblaciones de Galicia, Andalucía y las comunidades autónomas que se encuentren entre ambas, dentro del `Series`.\n",
    "4. Comprueba con un output booleano que `Galicia` se encuentra entre los índices del `Index`.\n",
    "5. Realiza los apartados 1,2,3 pero esta vez de una manera diferente."
   ]
  },
  {
   "cell_type": "code",
   "execution_count": 13,
   "metadata": {},
   "outputs": [
    {
     "output_type": "stream",
     "name": "stdout",
     "text": [
      "6685471\n--------------------\n2698764\n--------------------\nGalicia      2698764\nMurcia       1494442\nAndalucía    8446561\ndtype: int64\n--------------------\nTrue\n"
     ]
    }
   ],
   "source": [
    "print(poblacion[0])\n",
    "print('-' * 20)\n",
    "print(poblacion['Galicia'])\n",
    "print('-' * 20)\n",
    "print(poblacion['Galicia':'Andalucía'])\n",
    "print('-' * 20)\n",
    "print('Galicia' in poblacion.index)"
   ]
  },
  {
   "cell_type": "code",
   "execution_count": 20,
   "metadata": {},
   "outputs": [
    {
     "output_type": "stream",
     "name": "stdout",
     "text": [
      "6685471\n--------------------\n2698764\n--------------------\nGalicia      2698764\nMurcia       1494442\nAndalucía    8446561\ndtype: int64\n"
     ]
    }
   ],
   "source": [
    "print(poblacion.loc['Madrid'])\n",
    "print('-' * 20)\n",
    "print(poblacion[1])\n",
    "print('-' * 20)\n",
    "print(poblacion[1:])"
   ]
  },
  {
   "cell_type": "markdown",
   "metadata": {},
   "source": [
    "## Ejercicio 9\n",
    "A partir de las comunidades autónomas anteriores, crea un `Series` con [la tasa de paro](https://es.statista.com/estadisticas/941646/prevision-de-la-tasa-de-paro-por-comunidad-autonoma-espana/) en dichas comunidades autónomas.\n",
    "\n",
    "Con la tasa de paro y las poblaciones, crea un DataFrame de pandas. Llámalo `data`.\n",
    "\n",
    "- Madrid: 9.99\n",
    "- Galicia: 11.74\n",
    "- Murcia: 16.08\n",
    "- Andalucía: 20.8"
   ]
  },
  {
   "cell_type": "code",
   "execution_count": 24,
   "metadata": {},
   "outputs": [
    {
     "output_type": "stream",
     "name": "stdout",
     "text": [
      "Madrid        9.99\nGalicia      11.74\nMurcia       16.08\nAndalucía    20.80\ndtype: float64\n"
     ]
    }
   ],
   "source": [
    "data = pd.Series([9.99, 11.74, 16.08, 20.8], index=['Madrid', 'Galicia', 'Murcia', 'Andalucía'])\n",
    "print(data)"
   ]
  },
  {
   "cell_type": "markdown",
   "metadata": {},
   "source": [
    "## Ejercicio 10\n",
    "Imprime por pantalla la población, y la tasa de paro. Por separado"
   ]
  },
  {
   "cell_type": "code",
   "execution_count": 25,
   "metadata": {},
   "outputs": [
    {
     "output_type": "stream",
     "name": "stdout",
     "text": [
      "[6685471 2698764 1494442 8446561]\n[ 9.99 11.74 16.08 20.8 ]\n"
     ]
    }
   ],
   "source": [
    "print(poblacion.values)\n",
    "print(data.values)"
   ]
  },
  {
   "cell_type": "markdown",
   "metadata": {},
   "source": [
    "## Ejercicio 11\n",
    "Crea un nuevo Data Frame (`data2`), que sea igual que `data`, pero con una nueva columna, que lleve [la superficie de las Comunidades Autónomas](https://es.wikipedia.org/wiki/Anexo:Comunidades_y_ciudades_aut%C3%B3nomas_de_Espa%C3%B1a).\n",
    "\n",
    "- Madrid: 8028\n",
    "- Galicia: 29575\n",
    "- Murcia: 11314\n",
    "- Andalucía: 87599"
   ]
  },
  {
   "cell_type": "code",
   "execution_count": 35,
   "metadata": {},
   "outputs": [
    {
     "output_type": "stream",
     "name": "stdout",
     "text": [
      "           Población   Paro  Superficie\nMadrid       6685471   9.99        8028\nGalicia      2698764  11.74       29575\nMurcia       1494442  16.08       11314\nAndalucía    8446561  20.80       87599\n"
     ]
    }
   ],
   "source": [
    "superficie = pd.Series([8028, 29575, 11314, 87599], index=['Madrid', 'Galicia', 'Murcia', 'Andalucía'])\n",
    "data2 = pd.DataFrame({'Población':poblacion, 'Paro':data, 'Superficie':superficie})\n",
    "print(data2)"
   ]
  },
  {
   "cell_type": "markdown",
   "metadata": {},
   "source": [
    "## Ejercicio 12\n",
    "Calcula la densidad de población (hab/km^2) en una nueva columna del dataframe `data2` que se llame `Densidad`."
   ]
  },
  {
   "cell_type": "code",
   "execution_count": 36,
   "metadata": {},
   "outputs": [
    {
     "output_type": "execute_result",
     "data": {
      "text/plain": [
       "           Población   Paro  Superficie    Densidad\n",
       "Madrid       6685471   9.99        8028  832.769183\n",
       "Galicia      2698764  11.74       29575   91.251530\n",
       "Murcia       1494442  16.08       11314  132.087856\n",
       "Andalucía    8446561  20.80       87599   96.423030"
      ],
      "text/html": "<div>\n<style scoped>\n    .dataframe tbody tr th:only-of-type {\n        vertical-align: middle;\n    }\n\n    .dataframe tbody tr th {\n        vertical-align: top;\n    }\n\n    .dataframe thead th {\n        text-align: right;\n    }\n</style>\n<table border=\"1\" class=\"dataframe\">\n  <thead>\n    <tr style=\"text-align: right;\">\n      <th></th>\n      <th>Población</th>\n      <th>Paro</th>\n      <th>Superficie</th>\n      <th>Densidad</th>\n    </tr>\n  </thead>\n  <tbody>\n    <tr>\n      <th>Madrid</th>\n      <td>6685471</td>\n      <td>9.99</td>\n      <td>8028</td>\n      <td>832.769183</td>\n    </tr>\n    <tr>\n      <th>Galicia</th>\n      <td>2698764</td>\n      <td>11.74</td>\n      <td>29575</td>\n      <td>91.251530</td>\n    </tr>\n    <tr>\n      <th>Murcia</th>\n      <td>1494442</td>\n      <td>16.08</td>\n      <td>11314</td>\n      <td>132.087856</td>\n    </tr>\n    <tr>\n      <th>Andalucía</th>\n      <td>8446561</td>\n      <td>20.80</td>\n      <td>87599</td>\n      <td>96.423030</td>\n    </tr>\n  </tbody>\n</table>\n</div>"
     },
     "metadata": {},
     "execution_count": 36
    }
   ],
   "source": [
    "data2['Densidad'] = data2['Población']/data2['Superficie']\n",
    "data2"
   ]
  }
 ],
 "metadata": {
  "kernelspec": {
   "name": "python374jvsc74a57bd0674dfd6ded4398e0679ff4f65e9a10a54ff0d14801bec0126172cfc3973d1cf1",
   "display_name": "Python 3.7.4 64-bit"
  },
  "language_info": {
   "codemirror_mode": {
    "name": "ipython",
    "version": 3
   },
   "file_extension": ".py",
   "mimetype": "text/x-python",
   "name": "python",
   "nbconvert_exporter": "python",
   "pygments_lexer": "ipython3",
   "version": "3.7.4"
  },
  "metadata": {
   "interpreter": {
    "hash": "674dfd6ded4398e0679ff4f65e9a10a54ff0d14801bec0126172cfc3973d1cf1"
   }
  }
 },
 "nbformat": 4,
 "nbformat_minor": 4
}