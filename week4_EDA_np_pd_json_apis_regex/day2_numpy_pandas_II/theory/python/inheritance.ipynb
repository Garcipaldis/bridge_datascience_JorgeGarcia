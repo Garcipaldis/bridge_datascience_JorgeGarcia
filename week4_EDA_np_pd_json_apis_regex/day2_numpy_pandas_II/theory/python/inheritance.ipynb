{
 "cells": [
  {
   "cell_type": "markdown",
   "metadata": {},
   "source": [
    "Inheritance in python"
   ]
  },
  {
   "cell_type": "code",
   "execution_count": null,
   "metadata": {},
   "outputs": [],
   "source": [
    "class LivingBeing():\n",
    "    \"\"\"Father/Mother class\"\"\"\n",
    "    def __init__(self, kingdom, born_date, procreate_ability=True):\n",
    "        self.is_living = True\n",
    "        self.kingdom = kingdom\n",
    "        self.procreate_ability = procreate_ability\n",
    "        self.born_date = born_date\n",
    "        self.death_date = None\n",
    "        self.days_lived = 0\n",
    "\n",
    "    def living_being_function(self):\n",
    "        print(\"I am a living being!\")\n",
    "\n",
    "    def die(self):\n",
    "        print(\"Murió\")\n",
    "        self.is_living = False\n",
    "        self.death_date = \"05/05/2021\""
   ]
  },
  {
   "cell_type": "code",
   "execution_count": null,
   "metadata": {},
   "outputs": [],
   "source": [
    "def new_day(a_class):\n",
    "    a_class.days_lived += 1"
   ]
  },
  {
   "cell_type": "code",
   "execution_count": null,
   "metadata": {
    "tags": []
   },
   "outputs": [],
   "source": [
    "celula = LivingBeing(kingdom=\"Animal\", born_date=\"18/06/2019\")\n",
    "print(\"celula.days_lived:\", celula.days_lived)\n",
    "new_day(a_class=celula)\n",
    "print(\"celula.days_lived:\", celula.days_lived)"
   ]
  },
  {
   "cell_type": "code",
   "execution_count": null,
   "metadata": {},
   "outputs": [],
   "source": [
    "print(\"celula.is_living:\",celula.is_living)\n",
    "celula.die()\n",
    "print(\"celula.is_living:\",celula.is_living)"
   ]
  },
  {
   "cell_type": "code",
   "execution_count": null,
   "metadata": {},
   "outputs": [],
   "source": [
    "humano = LivingBeing(kingdom=\"Animal\", born_date=\"21/06/2019\")\n",
    "print(\"humano.is_living:\", humano.is_living)\n",
    "humano.die()\n",
    "print(\"humano.is_living:\", humano.is_living)"
   ]
  },
  {
   "cell_type": "code",
   "execution_count": null,
   "metadata": {},
   "outputs": [],
   "source": [
    "class Human(LivingBeing):\n",
    "    \"\"\"Children class\"\"\"\n",
    "    def __init__(self, born_date, procreate_ability=True, eyes=2, legs=2, intelligence_ability=True):\n",
    "        #Herencia\n",
    "        LivingBeing.__init__(self, kingdom=\"Human\", procreate_ability=procreate_ability, born_date=born_date)\n",
    "        self.eyes = eyes\n",
    "        self.legs = legs\n",
    "        self.intelligence_ability = intelligence_ability\n",
    "    \n",
    "    "
   ]
  },
  {
   "source": [
    "humano = Human(born_date=\"13/05/1991\")\n",
    "\n",
    "print(\"humano.is_living:\", humano.is_living)\n",
    "print(\"\\nCalling to living_being_function():\\n\")\n",
    "humano.living_being_function()"
   ],
   "cell_type": "code",
   "metadata": {
    "tags": []
   },
   "execution_count": null,
   "outputs": []
  },
  {
   "cell_type": "code",
   "execution_count": null,
   "metadata": {},
   "outputs": [],
   "source": [
    "humano_esteril = Human(born_date=\"13/05/1991\", procreate_ability=False)\n",
    "\n",
    "print(\"humano.is_living:\", humano_esteril.is_living)\n",
    "print(\"\\nCalling to living_being_function():\\n\")\n",
    "humano_esteril.living_being_function()"
   ]
  },
  {
   "cell_type": "code",
   "execution_count": null,
   "metadata": {
    "tags": []
   },
   "outputs": [],
   "source": [
    "class Perro(LivingBeing):\n",
    "    # TODO"
   ]
  }
 ],
 "metadata": {
  "language_info": {
   "name": "python",
   "codemirror_mode": {
    "name": "ipython",
    "version": 3
   },
   "version": "3.6.4"
  },
  "orig_nbformat": 2,
  "file_extension": ".py",
  "mimetype": "text/x-python",
  "name": "python",
  "npconvert_exporter": "python",
  "pygments_lexer": "ipython3",
  "version": 3,
  "kernelspec": {
   "name": "python36464bitc2077ed07ea84d23aa5b518d224882ab",
   "display_name": "Python 3.6.4 64-bit"
  },
  "metadata": {
   "interpreter": {
    "hash": "5c4d2f1fdcd3716c7a5eea90ad07be30193490dd4e63617705244f5fd89ea793"
   }
  }
 },
 "nbformat": 4,
 "nbformat_minor": 2
}