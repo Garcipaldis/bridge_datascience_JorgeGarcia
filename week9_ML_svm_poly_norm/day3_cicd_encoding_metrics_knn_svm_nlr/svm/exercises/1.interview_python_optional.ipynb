{
 "metadata": {
  "language_info": {
   "codemirror_mode": {
    "name": "ipython",
    "version": 3
   },
   "file_extension": ".py",
   "mimetype": "text/x-python",
   "name": "python",
   "nbconvert_exporter": "python",
   "pygments_lexer": "ipython3",
   "version": 3
  },
  "orig_nbformat": 2
 },
 "nbformat": 4,
 "nbformat_minor": 2,
 "cells": [
  {
   "cell_type": "markdown",
   "metadata": {},
   "source": [
    "Here's your coding interview problem for today.\n",
    "\n",
    "This problem was asked by Facebook.\n",
    "\n",
    "Given a string of round, curly, and square open and closing brackets, return whether the brackets are balanced (well-formed).\n",
    "\n",
    "For example, given the string \"([])[]({})\", you should return true.\n",
    "\n",
    "{}\n",
    "\n",
    "Given the string \"([)]\" or \"((()\", you should return false.\n",
    "\n",
    "\"()[]{}\", True"
   ]
  },
  {
   "source": [
    "- This case is not correct: \n",
    "\n",
    "\"({)}\""
   ],
   "cell_type": "markdown",
   "metadata": {}
  },
  {
   "cell_type": "code",
   "execution_count": null,
   "metadata": {},
   "outputs": [],
   "source": [
    "# ([{)}] False\n",
    "\n",
    "# Your code"
   ]
  }
 ]
}