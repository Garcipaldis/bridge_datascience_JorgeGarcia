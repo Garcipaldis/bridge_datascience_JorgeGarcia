{
 "metadata": {
  "language_info": {
   "codemirror_mode": {
    "name": "ipython",
    "version": 3
   },
   "file_extension": ".py",
   "mimetype": "text/x-python",
   "name": "python",
   "nbconvert_exporter": "python",
   "pygments_lexer": "ipython3",
   "version": "3.6.4-final"
  },
  "orig_nbformat": 2,
  "kernelspec": {
   "name": "python36464bitc2077ed07ea84d23aa5b518d224882ab",
   "display_name": "Python 3.6.4 64-bit"
  },
  "metadata": {
   "interpreter": {
    "hash": "5c4d2f1fdcd3716c7a5eea90ad07be30193490dd4e63617705244f5fd89ea793"
   }
  }
 },
 "nbformat": 4,
 "nbformat_minor": 2,
 "cells": [
  {
   "cell_type": "code",
   "execution_count": null,
   "metadata": {},
   "outputs": [],
   "source": [
    "lista_alumnos = []\n",
    "\n",
    "import random\n",
    "\n",
    "alumno_aleatorio = random.choice(lista_alumnos)\n",
    "print(alumno_aleatorio)"
   ]
  },
  {
   "cell_type": "code",
   "execution_count": null,
   "metadata": {},
   "outputs": [],
   "source": [
    "seed = 12\n",
    "random.seed(seed)\n",
    "\n",
    "def get_key_from_value(dictionary, alumn):\n",
    "    return list(dictionary.keys())[list(dictionary.values()).index(alumn)]\n",
    "\n",
    "def create_presentation_shifts(students):\n",
    "    range_list = list(range(1, len(students) + 1))\n",
    "    random.shuffle(range_list)\n",
    "    student_turn_dict = dict(zip(range_list, students))\n",
    "    return {k: student_turn_dict[k] for k in sorted(student_turn_dict)}\n",
    "\n",
    "l = \"\"\n",
    "j = \"\"\n",
    "\n",
    "turns = create_presentation_shifts(students=lista_alumnos)\n",
    "\n",
    "s = get_key_from_value(dictionary=turns, alumn=j)\n",
    "d = get_key_from_value(dictionary=turns, alumn=l)\n",
    "\n",
    "while s <= 12 or d >=  6:\n",
    "    seed += 1\n",
    "    turns = create_presentation_shifts(students=lista_alumnos)\n",
    "    s = get_key_from_value(dictionary=turns, alumn=j)\n",
    "    d = get_key_from_value(dictionary=turns, alumn=l)\n",
    "\n",
    "print(\"seed:\", seed)\n",
    "turns"
   ]
  }
 ]
}