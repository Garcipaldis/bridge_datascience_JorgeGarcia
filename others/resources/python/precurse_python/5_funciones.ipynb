{
 "cells": [
  {
   "cell_type": "markdown",
   "metadata": {},
   "source": [
    "# Apartado 5 - Funciones"
   ]
  },
  {
   "cell_type": "markdown",
   "metadata": {},
   "source": [
    "- funciones con & sin `return`\n",
    "- funciones con valores por defecto\n",
    "- recursividad"
   ]
  },
  {
   "cell_type": "markdown",
   "metadata": {},
   "source": [
    "--------------------------------------------------------------------------------------"
   ]
  },
  {
   "cell_type": "markdown",
   "metadata": {},
   "source": [
    "## Funciones `print`"
   ]
  },
  {
   "cell_type": "code",
   "execution_count": 4,
   "metadata": {},
   "outputs": [
    {
     "name": "stdout",
     "output_type": "stream",
     "text": [
      "Yo soy 'así'\n"
     ]
    }
   ],
   "source": [
    "print(\"Yo soy 'así'\")"
   ]
  },
  {
   "cell_type": "code",
   "execution_count": 5,
   "metadata": {},
   "outputs": [
    {
     "name": "stdout",
     "output_type": "stream",
     "text": [
      "Yo soy \"así\"\n"
     ]
    }
   ],
   "source": [
    "print('Yo soy \"así\"')"
   ]
  },
  {
   "cell_type": "code",
   "execution_count": 6,
   "metadata": {},
   "outputs": [
    {
     "name": "stdout",
     "output_type": "stream",
     "text": [
      "Yo soy así .\n"
     ]
    }
   ],
   "source": [
    "_ = \"así\"\n",
    "print(\"Yo soy \" + _ + \" .\")"
   ]
  },
  {
   "cell_type": "code",
   "execution_count": 7,
   "metadata": {},
   "outputs": [
    {
     "name": "stdout",
     "output_type": "stream",
     "text": [
      "Yo tengo 15 años.\n"
     ]
    }
   ],
   "source": [
    "_ = 15\n",
    "x = \"Yo tengo \" + str(_) + \" años.\"\n",
    "print(x)"
   ]
  },
  {
   "cell_type": "code",
   "execution_count": 8,
   "metadata": {},
   "outputs": [
    {
     "name": "stdout",
     "output_type": "stream",
     "text": [
      "Yo tengo 15  años.\n"
     ]
    }
   ],
   "source": [
    "print(\"Yo tengo\", _ , \" años.\")"
   ]
  },
  {
   "cell_type": "code",
   "execution_count": 9,
   "metadata": {},
   "outputs": [
    {
     "name": "stdout",
     "output_type": "stream",
     "text": [
      "Yo tengo 15 años.\n"
     ]
    }
   ],
   "source": [
    "def prtn(x, r, y, t):\n",
    "    print(x + r + y + t)\n",
    "\n",
    "prtn(x=\"Yo\", r=\" tengo\", y=\" 15\", t=\" años.\")"
   ]
  },
  {
   "cell_type": "code",
   "execution_count": 3,
   "metadata": {},
   "outputs": [
    {
     "name": "stdout",
     "output_type": "stream",
     "text": [
      "Yo tengo 15 años.\n"
     ]
    }
   ],
   "source": [
    "def prtn(x, r, y, t):\n",
    "    print(x + r + y + t)\n",
    "\n",
    "prtn(\"Yo\", \" tengo\", \" 15\", \" años.\")"
   ]
  },
  {
   "cell_type": "code",
   "execution_count": 10,
   "metadata": {},
   "outputs": [
    {
     "name": "stdout",
     "output_type": "stream",
     "text": [
      "(2, 4, 6, 8, 3, 1, 3)\n"
     ]
    }
   ],
   "source": [
    "def p(*args):\n",
    "    print(args)\n",
    "\n",
    "p(2, 4, 6, 8, 3, 1, 3)"
   ]
  },
  {
   "cell_type": "code",
   "execution_count": null,
   "metadata": {},
   "outputs": [],
   "source": [
    "def x():\n",
    "    a = 2\n",
    "    b = 4\n",
    "    suma = a + b\n",
    "    print(suma)\n",
    "\n",
    "x()"
   ]
  },
  {
   "cell_type": "markdown",
   "metadata": {},
   "source": [
    "--------------------------------------------------------------------------------------"
   ]
  },
  {
   "cell_type": "markdown",
   "metadata": {},
   "source": [
    "## Funciones `return`"
   ]
  },
  {
   "cell_type": "code",
   "execution_count": 12,
   "metadata": {},
   "outputs": [
    {
     "name": "stdout",
     "output_type": "stream",
     "text": [
      "z: 2\n"
     ]
    }
   ],
   "source": [
    "def x():\n",
    "    a = 2\n",
    "    b = 4\n",
    "    suma = a + b\n",
    "    #print(\"suma:\", suma)\n",
    "    return a\n",
    "\n",
    "z = x()\n",
    "print(\"z:\", z)"
   ]
  },
  {
   "cell_type": "code",
   "execution_count": 13,
   "metadata": {},
   "outputs": [
    {
     "name": "stdout",
     "output_type": "stream",
     "text": [
      "a: 3\n",
      "suma3: 6\n"
     ]
    }
   ],
   "source": [
    "a = 3\n",
    "\n",
    "def nombre_funcion():\n",
    "    a = 2\n",
    "    b = 4\n",
    "    suma3 = a + b\n",
    "    print(\"suma3:\", suma3)\n",
    "\n",
    "print(\"a:\", a)\n",
    "nombre_funcion()"
   ]
  },
  {
   "cell_type": "code",
   "execution_count": null,
   "metadata": {},
   "outputs": [],
   "source": [
    "a = 3\n",
    "\n",
    "def nombre_funcion():\n",
    "    print(\"a2:\", a)\n",
    "    b = 4\n",
    "    suma3 = a + b\n",
    "    print(\"suma3:\", suma3)\n",
    "\n",
    "print(\"a0:\", a)\n",
    "nombre_funcion()"
   ]
  },
  {
   "cell_type": "code",
   "execution_count": null,
   "metadata": {},
   "outputs": [],
   "source": [
    "def nombre_funcion():\n",
    "    a = 2\n",
    "    b = 4\n",
    "    suma3 = a + b\n",
    "    return suma3\n",
    "    \n",
    "print(nombre_funcion())"
   ]
  },
  {
   "cell_type": "code",
   "execution_count": null,
   "metadata": {},
   "outputs": [],
   "source": [
    "def nombre_funcion():\n",
    "    a = 2\n",
    "    b = 4\n",
    "    suma3 = a + b\n",
    "    \n",
    "print(nombre_funcion())"
   ]
  },
  {
   "cell_type": "code",
   "execution_count": null,
   "metadata": {},
   "outputs": [],
   "source": [
    "s = \"HOLA\"\n",
    "s.lower()"
   ]
  },
  {
   "cell_type": "code",
   "execution_count": null,
   "metadata": {},
   "outputs": [],
   "source": [
    "def nombre_funcion():\n",
    "    a = 2\n",
    "    b = 4\n",
    "    suma3 = a + b\n",
    "    resta = a - b\n",
    "    print(suma3)\n",
    "    print(resta)\n",
    "    return resta\n",
    "    print(suma3)\n",
    "    return [\"2\", 2]\n",
    "    \n",
    "x = nombre_funcion()\n",
    "print(x)"
   ]
  },
  {
   "cell_type": "code",
   "execution_count": null,
   "metadata": {},
   "outputs": [],
   "source": [
    "def suma():\n",
    "    a = 2\n",
    "    b = 3\n",
    "    return a + b\n",
    "\n",
    "def multiplicacion():\n",
    "    a = 2\n",
    "    b = 3\n",
    "    return a * b\n",
    "\n",
    "def f():\n",
    "    x = suma()\n",
    "    y = multiplicacion()\n",
    "    h = x / y\n",
    "    return h\n",
    "\n",
    "x = f()\n",
    "print(x)"
   ]
  },
  {
   "cell_type": "code",
   "execution_count": null,
   "metadata": {},
   "outputs": [],
   "source": [
    "suma = 2 \n",
    "x = suma()"
   ]
  },
  {
   "cell_type": "code",
   "execution_count": 15,
   "metadata": {},
   "outputs": [
    {
     "name": "stdout",
     "output_type": "stream",
     "text": [
      "10\n"
     ]
    }
   ],
   "source": [
    "# Esto es un comentario\n",
    "\"\"\" Esto es otro\"\"\" \n",
    "\n",
    "def suma_generica(arg1, arg2):\n",
    "    \"\"\" Suma arg1 y arg2 \n",
    "    Esta es la segunda línea de la documentación de la función\n",
    "    \"\"\"\n",
    "    a = 2  # Esta variable vale 2\n",
    "    return arg1 + arg2\n",
    "\n",
    "a = 3\n",
    "b = 7\n",
    "\n",
    "x = suma_generica(arg1=a, arg2=b)\n",
    "print(x)"
   ]
  },
  {
   "cell_type": "markdown",
   "metadata": {},
   "source": [
    "`help`"
   ]
  },
  {
   "cell_type": "code",
   "execution_count": 16,
   "metadata": {},
   "outputs": [
    {
     "name": "stdout",
     "output_type": "stream",
     "text": [
      "Help on function suma_generica in module __main__:\n",
      "\n",
      "suma_generica(arg1, arg2)\n",
      "    Suma arg1 y arg2 \n",
      "    Esta es la segunda línea de la documentación de la función\n",
      "\n"
     ]
    }
   ],
   "source": [
    "help(suma_generica)"
   ]
  },
  {
   "cell_type": "code",
   "execution_count": 17,
   "metadata": {},
   "outputs": [
    {
     "name": "stdin",
     "output_type": "stream",
     "text": [
      " 5\n",
      " 6\n"
     ]
    },
    {
     "name": "stdout",
     "output_type": "stream",
     "text": [
      "11\n"
     ]
    }
   ],
   "source": [
    "def suma_generica(arg1, arg2):\n",
    "    \"\"\" Suma arg1 y arg2 \"\"\"\n",
    "    if arg1.isnumeric() and arg2.isnumeric():\n",
    "        return int(arg1) + int(arg2)\n",
    "    else:\n",
    "        print(\"Solo se pueden sumar números\")\n",
    "\n",
    "a = input()\n",
    "b = input()\n",
    "\n",
    "x = suma_generica(arg1=a, arg2=b)\n",
    "print(x)"
   ]
  },
  {
   "cell_type": "code",
   "execution_count": 18,
   "metadata": {},
   "outputs": [
    {
     "name": "stdin",
     "output_type": "stream",
     "text": [
      " 6\n",
      " 7\n"
     ]
    },
    {
     "name": "stdout",
     "output_type": "stream",
     "text": [
      "13\n"
     ]
    }
   ],
   "source": [
    "def suma_generica(arg1, arg2):\n",
    "    \"\"\" Suma arg1 y arg2 \"\"\"\n",
    "    if arg1.isnumeric() and arg2.isnumeric():\n",
    "        return int(arg1) + int(arg2)\n",
    "    else:\n",
    "        return \"Solo se pueden sumar números\"\n",
    "\n",
    "a = input()\n",
    "b = input()\n",
    "\n",
    "x = suma_generica(arg1=a, arg2=b)\n",
    "print(x)"
   ]
  },
  {
   "cell_type": "markdown",
   "metadata": {},
   "source": [
    "--------------------------------------------------------------------------------------"
   ]
  },
  {
   "cell_type": "markdown",
   "metadata": {},
   "source": [
    "## Funciones con valores por defecto"
   ]
  },
  {
   "cell_type": "code",
   "execution_count": null,
   "metadata": {},
   "outputs": [],
   "source": [
    "def mi_funcion_1(a, b=10):\n",
    "    return a**b\n",
    "\n",
    "r = mi_funcion(a=2)\n",
    "r"
   ]
  },
  {
   "cell_type": "code",
   "execution_count": null,
   "metadata": {},
   "outputs": [],
   "source": [
    "def mi_funcion_2(a, b=10):\n",
    "    return a**b\n",
    "\n",
    "r = mi_funcion(a=2, b=5)\n",
    "r"
   ]
  },
  {
   "cell_type": "code",
   "execution_count": null,
   "metadata": {},
   "outputs": [],
   "source": [
    "def mi_funcion_3(a, b):\n",
    "    return a**b\n",
    "\n",
    "k = int(input(\"Edad:\"))\n",
    "h = int(input(\"Altura:\"))\n",
    "\n",
    "r = mi_funcion(a=k, b=h)\n",
    "type(r)"
   ]
  },
  {
   "cell_type": "code",
   "execution_count": null,
   "metadata": {},
   "outputs": [],
   "source": [
    "b = None\n",
    "str(b)"
   ]
  },
  {
   "cell_type": "code",
   "execution_count": null,
   "metadata": {},
   "outputs": [],
   "source": [
    "def mi_funcion_4(a=5, b=None, c=None, y=None, h=None):\n",
    "    if b == None:\n",
    "        b = len(str(None))\n",
    "    return a**b\n",
    "\n",
    "r = mi_funcion()\n",
    "r"
   ]
  },
  {
   "cell_type": "code",
   "execution_count": null,
   "metadata": {},
   "outputs": [],
   "source": [
    "def mi_funcion_5(a, b=4, c=None, y=None, h=None):\n",
    "    return a**b\n",
    "\n",
    "r = mi_funcion(a=2)\n",
    "r"
   ]
  },
  {
   "cell_type": "code",
   "execution_count": null,
   "metadata": {},
   "outputs": [],
   "source": [
    "def mi_funcion_6(a, b=4, c=676, y=None, h=None):\n",
    "    return a**b\n",
    "\n",
    "r = mi_funcion(a=2)\n",
    "r"
   ]
  },
  {
   "cell_type": "code",
   "execution_count": null,
   "metadata": {},
   "outputs": [],
   "source": [
    "def mi_funcion_7(b, a=7, c=676, y=None, h=None):\n",
    "    return a**b\n",
    "\n",
    "r = mi_funcion(b=2)\n",
    "r"
   ]
  },
  {
   "cell_type": "markdown",
   "metadata": {},
   "source": [
    "**Ejemplos:** \n",
    "\n",
    " - [Función de matplotlib](https://matplotlib.org/api/_as_gen/matplotlib.pyplot.pie.html#matplotlib.pyplot.pie)\n",
    " - [Función de pandas](https://pandas.pydata.org/pandas-docs/stable/reference/api/pandas.DataFrame.to_csv.html)\n",
    "    "
   ]
  },
  {
   "cell_type": "markdown",
   "metadata": {},
   "source": [
    "--------------------------------------------------------------------------------------"
   ]
  },
  {
   "cell_type": "markdown",
   "metadata": {},
   "source": [
    "## Recursividad"
   ]
  },
  {
   "cell_type": "code",
   "execution_count": 19,
   "metadata": {},
   "outputs": [
    {
     "name": "stdout",
     "output_type": "stream",
     "text": [
      "X\n"
     ]
    }
   ],
   "source": [
    "def nombre_funcion():\n",
    "    print(\"X\")\n",
    "    \n",
    "nombre_funcion()"
   ]
  },
  {
   "cell_type": "code",
   "execution_count": 20,
   "metadata": {},
   "outputs": [
    {
     "name": "stdout",
     "output_type": "stream",
     "text": [
      "4\n"
     ]
    }
   ],
   "source": [
    "def nombre_funcion(x):\n",
    "    print(x)\n",
    "    \n",
    "nombre_funcion(x=\"4\")"
   ]
  },
  {
   "cell_type": "code",
   "execution_count": 21,
   "metadata": {},
   "outputs": [],
   "source": [
    "def nombre_funcion(x):\n",
    "    return x\n",
    "    \n",
    "s = nombre_funcion(x=3)"
   ]
  },
  {
   "cell_type": "code",
   "execution_count": 22,
   "metadata": {},
   "outputs": [
    {
     "name": "stdout",
     "output_type": "stream",
     "text": [
      "3\n"
     ]
    }
   ],
   "source": [
    "print(s)"
   ]
  },
  {
   "cell_type": "code",
   "execution_count": 23,
   "metadata": {},
   "outputs": [],
   "source": [
    "def f_recursiva():\n",
    "    print(\"X\")\n",
    "    f_recursiva()"
   ]
  },
  {
   "cell_type": "markdown",
   "metadata": {},
   "source": [
    "```python\n",
    "def f():\n",
    "    print(\"Muestro esto\")\n",
    "    f()\n",
    "    print(\"X\")\n",
    "    \n",
    "f()\n",
    "```"
   ]
  },
  {
   "cell_type": "code",
   "execution_count": 25,
   "metadata": {},
   "outputs": [
    {
     "name": "stdout",
     "output_type": "stream",
     "text": [
      "acum: 0\n",
      "acum: 1\n",
      "acum: 2\n",
      "acum: 3\n",
      "acum: 4\n",
      "acum: 5\n",
      "acum: 6\n",
      "acum: 7\n",
      "acum: 8\n",
      "acum: 9\n",
      "x: None\n"
     ]
    }
   ],
   "source": [
    "def f(acum):\n",
    "    if acum == 10:\n",
    "        return acum\n",
    "    print(\"acum:\", acum)\n",
    "    f(acum=acum+1)\n",
    "    \n",
    "x = f(acum=0)\n",
    "print(\"x:\", x)"
   ]
  },
  {
   "cell_type": "code",
   "execution_count": 26,
   "metadata": {},
   "outputs": [
    {
     "name": "stdout",
     "output_type": "stream",
     "text": [
      "0\n",
      "Ha terminado esto\n"
     ]
    }
   ],
   "source": [
    "def f(acum):\n",
    "    if acum == 0:\n",
    "        return acum\n",
    "    print(\"acum:\", acum)\n",
    "    p = f(acum=acum+1)\n",
    "    \n",
    "x = f(acum=0)\n",
    "print(x)\n",
    "print(\"Ha terminado esto\")"
   ]
  },
  {
   "cell_type": "code",
   "execution_count": 27,
   "metadata": {},
   "outputs": [
    {
     "name": "stdout",
     "output_type": "stream",
     "text": [
      "acum: 0\n",
      "acum: 1\n",
      "acum: 2\n",
      "acum: 3\n",
      "acum: 4\n",
      "acum: 5\n",
      "acum: 6\n",
      "acum: 7\n",
      "acum: 8\n",
      "acum: 9\n",
      "10\n",
      "Ha terminado esto\n"
     ]
    }
   ],
   "source": [
    "def f(acum):\n",
    "    if acum == 10:\n",
    "        return acum\n",
    "    print(\"acum:\", acum)\n",
    "    p = f(acum=acum+1)\n",
    "    return p\n",
    "    \n",
    "x = f(acum=0)\n",
    "print(x)\n",
    "print(\"Ha terminado esto\")"
   ]
  },
  {
   "cell_type": "markdown",
   "metadata": {},
   "source": [
    "--------------------------------------------------------------------------------------"
   ]
  },
  {
   "cell_type": "code",
   "execution_count": null,
   "metadata": {},
   "outputs": [],
   "source": []
  }
 ],
 "metadata": {
  "kernelspec": {
   "display_name": "Python 3",
   "language": "python",
   "name": "python3"
  },
  "language_info": {
   "codemirror_mode": {
    "name": "ipython",
    "version": 3
   },
   "file_extension": ".py",
   "mimetype": "text/x-python",
   "name": "python",
   "nbconvert_exporter": "python",
   "pygments_lexer": "ipython3",
   "version": "3.7.6"
  }
 },
 "nbformat": 4,
 "nbformat_minor": 4
}
