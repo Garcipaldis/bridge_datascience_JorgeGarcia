{
 "cells": [
  {
   "cell_type": "markdown",
   "metadata": {},
   "source": [
    "# Apartado 10 - OOP"
   ]
  },
  {
   "cell_type": "markdown",
   "metadata": {},
   "source": [
    "La programación Orientada a objetos se define como un paradigma de la programación, una manera de programar específica, donde se organiza el código en unidades denominadas clases, de las cuales se crean objetos que se relacionan entre sí para conseguir los objetivos de las aplicaciones.\n",
    "\n",
    "La programación Orientada a objetos (POO) es una forma especial de programar, más cercana a como expresaríamos las cosas en la vida real que otros tipos de programación."
   ]
  },
  {
   "cell_type": "markdown",
   "metadata": {},
   "source": [
    "-------------------"
   ]
  },
  {
   "cell_type": "markdown",
   "metadata": {},
   "source": [
    "## Classes"
   ]
  },
  {
   "cell_type": "code",
   "execution_count": 2,
   "metadata": {
    "tags": []
   },
   "outputs": [
    {
     "name": "stdout",
     "output_type": "stream",
     "text": [
      "Chiquito\n",
      "78\n",
      "<__main__.Humano object at 0x000001C256E2AC48>\n",
      "2\n",
      "1\n"
     ]
    }
   ],
   "source": [
    "class Humano:\n",
    "    \n",
    "    def __init__(self, name, age, numero_ojos=2, numero_piernas=2, sabiduria=0):\n",
    "        \"\"\"Constructor de la clase\"\"\"\n",
    "        self.nombre = name\n",
    "        self.edad = age\n",
    "        self.numero_ojos = numero_ojos\n",
    "        self.numero_piernas = numero_piernas \n",
    "        self.sabiduria = sabiduria\n",
    "\n",
    "    def cumple_anos(self):\n",
    "        self.edad += 1\n",
    "\n",
    "    def estudiar(self, horas_estudio):\n",
    "        if horas_estudio > 7:\n",
    "            self.sabiduria = self.sabiduria * 1.15\n",
    "        elif horas_estudio <= 7 and horas_estudio > 0:\n",
    "            self.sabiduria *= 1.0001\n",
    "        else:\n",
    "            self.sabiduria = self.sabiduria\n",
    "    \n",
    "    def olvidar(self):\n",
    "        self.sabiduria = self.sabiduria / 2\n",
    "\n",
    "    def estudia_o_olvida(self, ha_estudiado):\n",
    "        if ha_estudiado:\n",
    "            self.estudiar(horas_estudio=ha_estudiado)\n",
    "        else:\n",
    "            self.olvidar()\n",
    "\n",
    "    \n",
    "chiquito = Humano(name=\"Chiquito\", age=78, sabiduria=1)\n",
    "print(chiquito.nombre)\n",
    "print(chiquito.edad)\n",
    "print(chiquito)\n",
    "print(chiquito.numero_ojos)\n",
    "\n",
    "gabriel = Humano(name=\"Gabriel\", age=28, numero_ojos=3, numero_piernas=1, sabiduria=50)\n",
    "print(gabriel.numero_piernas)"
   ]
  },
  {
   "cell_type": "code",
   "execution_count": 3,
   "metadata": {},
   "outputs": [
    {
     "data": {
      "text/plain": [
       "25.0"
      ]
     },
     "execution_count": 3,
     "metadata": {},
     "output_type": "execute_result"
    }
   ],
   "source": [
    "gabriel.estudia_o_olvida(ha_estudiado=0)\n",
    "gabriel.sabiduria"
   ]
  },
  {
   "cell_type": "code",
   "execution_count": 4,
   "metadata": {
    "tags": []
   },
   "outputs": [
    {
     "name": "stdout",
     "output_type": "stream",
     "text": [
      "gabriel.edad: 28\n",
      "gabriel.edad después de cumplir años:\n",
      " 29\n"
     ]
    }
   ],
   "source": [
    "print(\"gabriel.edad:\", gabriel.edad)\n",
    "gabriel.cumple_anos()\n",
    "print(\"gabriel.edad después de cumplir años:\\n\", gabriel.edad)"
   ]
  },
  {
   "cell_type": "code",
   "execution_count": 5,
   "metadata": {},
   "outputs": [],
   "source": [
    "x = 2"
   ]
  },
  {
   "cell_type": "code",
   "execution_count": 6,
   "metadata": {
    "tags": []
   },
   "outputs": [
    {
     "name": "stdout",
     "output_type": "stream",
     "text": [
      "3\n"
     ]
    }
   ],
   "source": [
    "x = x + 1\n",
    "print(x)"
   ]
  },
  {
   "cell_type": "code",
   "execution_count": 7,
   "metadata": {
    "tags": []
   },
   "outputs": [
    {
     "name": "stdout",
     "output_type": "stream",
     "text": [
      "Sabiduría Gabriel: 25.0\n",
      "Sabiduría Gabriel después: 28.749999999999996\n"
     ]
    }
   ],
   "source": [
    "print(\"Sabiduría Gabriel:\", gabriel.sabiduria)\n",
    "gabriel.estudiar(horas_estudio=8)\n",
    "print(\"Sabiduría Gabriel después:\", gabriel.sabiduria)"
   ]
  },
  {
   "cell_type": "code",
   "execution_count": 8,
   "metadata": {
    "tags": []
   },
   "outputs": [
    {
     "name": "stdout",
     "output_type": "stream",
     "text": [
      "14.374999999999998\n"
     ]
    }
   ],
   "source": [
    "gabriel.olvidar()\n",
    "print(gabriel.sabiduria)"
   ]
  },
  {
   "cell_type": "code",
   "execution_count": 9,
   "metadata": {
    "tags": []
   },
   "outputs": [
    {
     "name": "stdout",
     "output_type": "stream",
     "text": [
      "Help on method olvidar in module __main__:\n",
      "\n",
      "olvidar() method of __main__.Humano instance\n",
      "\n"
     ]
    }
   ],
   "source": [
    "help(gabriel.olvidar)"
   ]
  },
  {
   "cell_type": "code",
   "execution_count": 10,
   "metadata": {
    "tags": []
   },
   "outputs": [
    {
     "name": "stdout",
     "output_type": "stream",
     "text": [
      "1.15\n"
     ]
    }
   ],
   "source": [
    "chiquito.estudiar(9)\n",
    "print(chiquito.sabiduria)"
   ]
  },
  {
   "cell_type": "code",
   "execution_count": 11,
   "metadata": {
    "tags": []
   },
   "outputs": [
    {
     "name": "stdout",
     "output_type": "stream",
     "text": [
      "7\n"
     ]
    }
   ],
   "source": [
    "def funcion(x):\n",
    "    print(x)\n",
    "\n",
    "funcion(x=7)"
   ]
  },
  {
   "cell_type": "code",
   "execution_count": 12,
   "metadata": {
    "tags": []
   },
   "outputs": [
    {
     "name": "stdout",
     "output_type": "stream",
     "text": [
      "4\n",
      "Dory\n"
     ]
    }
   ],
   "source": [
    "class Perro:\n",
    "\n",
    "    nombre = None\n",
    "    edad = None\n",
    "    numero_patas = 4\n",
    "\n",
    "dory = Perro()\n",
    "dory.nombre = \"Dory\"\n",
    "dory.edad = 8\n",
    "print(dory.numero_patas)\n",
    "print(dory.nombre)\n",
    "\n",
    "dory = Perro()\n",
    "dory.nombre = \"Pepe\"\n",
    "dory.edad = 2"
   ]
  },
  {
   "cell_type": "code",
   "execution_count": 15,
   "metadata": {
    "tags": []
   },
   "outputs": [
    {
     "name": "stdout",
     "output_type": "stream",
     "text": [
      "5\n",
      "10\n"
     ]
    },
    {
     "data": {
      "text/plain": [
       "False"
      ]
     },
     "execution_count": 15,
     "metadata": {},
     "output_type": "execute_result"
    }
   ],
   "source": [
    "class Hidrogeno():\n",
    "    \n",
    "    def __init__(self, x, y, z, masa=2.2, polaridad=7):\n",
    "        self.x = x\n",
    "        self.y = y\n",
    "        self.z = z\n",
    "        self.masa = masa\n",
    "        self.polaridad = polaridad\n",
    "\n",
    "h1 = Hidrogeno(x=2, y=7, z=19, polaridad=10)\n",
    "h1.polaridad = 8\n",
    "h2 = Hidrogeno(x=5, y=8, z=9)\n",
    "\n",
    "h1.spin = 5\n",
    "print(h1.spin)\n",
    "\n",
    "h2.spin =10\n",
    "print(h2.spin)\n",
    "\n",
    "h1 == h2"
   ]
  },
  {
   "cell_type": "code",
   "execution_count": 16,
   "metadata": {
    "tags": []
   },
   "outputs": [
    {
     "name": "stdout",
     "output_type": "stream",
     "text": [
      "<class '__main__.Humano'>\n"
     ]
    }
   ],
   "source": [
    "print(type(gabriel))"
   ]
  },
  {
   "cell_type": "code",
   "execution_count": 17,
   "metadata": {
    "tags": []
   },
   "outputs": [
    {
     "name": "stdout",
     "output_type": "stream",
     "text": [
      "<class 'int'>\n"
     ]
    }
   ],
   "source": [
    "x = 2\n",
    "print(type(x))"
   ]
  },
  {
   "cell_type": "code",
   "execution_count": 18,
   "metadata": {
    "tags": []
   },
   "outputs": [
    {
     "name": "stdout",
     "output_type": "stream",
     "text": [
      "<class 'list'>\n"
     ]
    }
   ],
   "source": [
    "lista = [2, 4]\n",
    "print(type(lista))"
   ]
  },
  {
   "cell_type": "code",
   "execution_count": 19,
   "metadata": {},
   "outputs": [
    {
     "data": {
      "text/plain": [
       "[2, 4, 2]"
      ]
     },
     "execution_count": 19,
     "metadata": {},
     "output_type": "execute_result"
    }
   ],
   "source": [
    "lista.append(2)\n",
    "lista"
   ]
  },
  {
   "cell_type": "code",
   "execution_count": 20,
   "metadata": {},
   "outputs": [],
   "source": [
    "class Lista:\n",
    "\n",
    "    def __init__(self, x):\n",
    "        self.value = x\n",
    "\n",
    "    def append(self, elem):\n",
    "        self.value = elem\n",
    "\n"
   ]
  }
 ],
 "metadata": {
  "kernelspec": {
   "display_name": "Python 3",
   "language": "python",
   "name": "python3"
  },
  "language_info": {
   "codemirror_mode": {
    "name": "ipython",
    "version": 3
   },
   "file_extension": ".py",
   "mimetype": "text/x-python",
   "name": "python",
   "nbconvert_exporter": "python",
   "pygments_lexer": "ipython3",
   "version": "3.7.6"
  }
 },
 "nbformat": 4,
 "nbformat_minor": 4
}
