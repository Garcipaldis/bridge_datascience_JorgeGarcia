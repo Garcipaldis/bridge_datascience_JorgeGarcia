{
 "nbformat": 4,
 "nbformat_minor": 2,
 "metadata": {
  "language_info": {
   "name": "python",
   "codemirror_mode": {
    "name": "ipython",
    "version": 3
   }
  },
  "orig_nbformat": 2,
  "file_extension": ".py",
  "mimetype": "text/x-python",
  "name": "python",
  "npconvert_exporter": "python",
  "pygments_lexer": "ipython3",
  "version": 3
 },
 "cells": [
  {
   "cell_type": "markdown",
   "metadata": {},
   "source": [
    "<img src=\"git_visual.jpeg\" alt=\"drawing\" width=\"400\"/>"
   ]
  },
  {
   "cell_type": "markdown",
   "metadata": {},
   "source": [
    "### Steps:\n",
    "\n",
    "1. git status\n",
    "\n",
    "    - To check what has been changed from the last time in local\n",
    "\n",
    "2. git pull \n",
    "\n",
    "    - To give from the repository the changes. If somebody has made changes in the repository that you do not have, then it tries to upload your local repository with the updated changes. If you have modified anything in your local repository that represents a conflict with the repository, then you will have to *merge* the changes. \n",
    "\n",
    "3. git add -A\n",
    "\n",
    "    - To add to the future commit all the files that you have created or modified. You can add specified files: for that, replace \"-A\" with the full file path. \n",
    "\n",
    "4. git commit -m \"Descriptive message of the changes done\"\n",
    "\n",
    "    - To save the elements that have been modified or created in one commit.\n",
    "\n",
    "5. git push\n",
    "\n",
    "    - To upload the commit/commits that you have saved to the repository. If the repository has files that you have not, then you will have a conflict.\n"
   ]
  },
  {
   "cell_type": "markdown",
   "metadata": {},
   "source": [
    "*More info:*\n",
    "\n",
    "- https://dev.to/mollynem/git-github--workflow-fundamentals-5496\n",
    "\n",
    "- https://david-estevez.gitbooks.io/the-git-the-bad-and-the-ugly/content/es/"
   ]
  },
  {
   "cell_type": "markdown",
   "metadata": {},
   "source": [
    "### git clone\n",
    "\n",
    "The very first step (not included on diagram) is to clone the repository to your local machine. Be sure to clone the project in a working directory that makes sense so you can easily remember where your local project lives.\n",
    "\n",
    "### git pull origin master\n",
    "\n",
    "Next, pull down from the remote repository (reminder, this lives on GitHub) to make sure you have up to date information. Believe it or not, changes could have been made by a team member in the time it took you to clone down the repository to your computer.\n",
    "\n",
    "### git checkout -b new_branch_name\n",
    "\n",
    "Create your own branch! If you’re working in a group project like I was, you will probably want to create a new branch for the feature you are working on. Make sure you are titling your branch according to the standards of your workplace expectations. You now have your own little place to experiment with code without immediately affecting changes on the master branch!\n",
    "\n",
    "** note: you might not need to create a new branch if you are intentionally editing an existing branch. In that case, be sure you are on the correct branch and not the master prior to making any changes. Always check with your teammates before creating/editing branches.\n",
    "\n",
    "### git add file_name\n",
    "\n",
    "After your code has been tested and is complete, add your changes to the staging area. This means that your files are tracked by Git, changes are complete, and code is prepped, and ready to be added back to the repository.\n",
    "\n",
    "### git status\n",
    "\n",
    "Run git status to confirm that your files have been added to the staging area. If the name of the file is listed in green - you're good to go! If not, try adding again.\n",
    "\n",
    "### git commit -a -m \"valuable_but_short_message_here\"\n",
    "\n",
    "Commit your changes back to the repository. Add a brief, but detailed comment about the changes that were made, code that was written, or bug that was fixed. Make it easy for your team members and future team members to understand what the alterations were.\n",
    "\n",
    "### git push branch_name\n",
    "\n",
    "Next up - push your changes to the repository! You have now transferred your code up to GitHub. The code you've pushed up lives in the current branch you've worked on. We learned (the hard way) how important it is work on your branch and to push to your own branch. If you accidentally push up to the master you run the risk of overwriting code the master branch which lives within GitHub."
   ]
  },
  {
   "cell_type": "code",
   "execution_count": null,
   "metadata": {},
   "outputs": [],
   "source": []
  }
 ]
}