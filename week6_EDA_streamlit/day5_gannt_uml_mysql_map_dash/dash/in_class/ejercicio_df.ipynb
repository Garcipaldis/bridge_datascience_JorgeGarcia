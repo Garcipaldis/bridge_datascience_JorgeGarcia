{
 "metadata": {
  "language_info": {
   "codemirror_mode": {
    "name": "ipython",
    "version": 3
   },
   "file_extension": ".py",
   "mimetype": "text/x-python",
   "name": "python",
   "nbconvert_exporter": "python",
   "pygments_lexer": "ipython3",
   "version": "3.6.4"
  },
  "orig_nbformat": 2,
  "kernelspec": {
   "name": "python36464bitc2077ed07ea84d23aa5b518d224882ab",
   "display_name": "Python 3.6.4 64-bit"
  },
  "metadata": {
   "interpreter": {
    "hash": "5c4d2f1fdcd3716c7a5eea90ad07be30193490dd4e63617705244f5fd89ea793"
   }
  }
 },
 "nbformat": 4,
 "nbformat_minor": 2,
 "cells": [
  {
   "cell_type": "code",
   "execution_count": 3,
   "metadata": {},
   "outputs": [
    {
     "output_type": "execute_result",
     "data": {
      "text/plain": [
       "                                          App             Category  Rating  \\\n",
       "139                      Wattpad 📖 Free Books  BOOKS_AND_REFERENCE     4.6   \n",
       "152                         Google Play Books  BOOKS_AND_REFERENCE     3.9   \n",
       "189                               Uber Driver             BUSINESS     4.4   \n",
       "194    OfficeSuite : Free Office + PDF Editor             BUSINESS     4.3   \n",
       "201                    Facebook Pages Manager             BUSINESS     4.0   \n",
       "...                                       ...                  ...     ...   \n",
       "10190                         Fallout Shelter               FAMILY     4.6   \n",
       "10200                  Facebook Pages Manager             BUSINESS     4.0   \n",
       "10327                        Garena Free Fire                 GAME     4.5   \n",
       "10636                      FRONTLINE COMMANDO                 GAME     4.4   \n",
       "10707          Photo Editor Collage Maker Pro          PHOTOGRAPHY     4.5   \n",
       "\n",
       "         Reviews                Size        Installs  Type  Price  \\\n",
       "139    2914724.0  Varies with device    100,000,000+  Free    0.0   \n",
       "152    1433233.0  Varies with device  1,000,000,000+  Free    0.0   \n",
       "189    1254730.0  Varies with device     10,000,000+  Free    0.0   \n",
       "194    1002861.0                 35M    100,000,000+  Free    0.0   \n",
       "201    1279184.0  Varies with device     50,000,000+  Free    0.0   \n",
       "...          ...                 ...             ...   ...    ...   \n",
       "10190  2721923.0                 25M     10,000,000+  Free    0.0   \n",
       "10200  1279800.0  Varies with device     50,000,000+  Free    0.0   \n",
       "10327  5534114.0                 53M    100,000,000+  Free    0.0   \n",
       "10636  1351833.0                 12M     10,000,000+  Free    0.0   \n",
       "10707  1519671.0  Varies with device    100,000,000+  Free    0.0   \n",
       "\n",
       "      Content Rating             Genres      Last Updated         Current Ver  \\\n",
       "139             Teen  Books & Reference    August 1, 2018  Varies with device   \n",
       "152             Teen  Books & Reference    August 3, 2018  Varies with device   \n",
       "189         Everyone           Business    August 3, 2018  Varies with device   \n",
       "194         Everyone           Business    August 2, 2018           9.7.14188   \n",
       "201         Everyone           Business    August 2, 2018  Varies with device   \n",
       "...              ...                ...               ...                 ...   \n",
       "10190           Teen         Simulation     June 11, 2018             1.13.12   \n",
       "10200       Everyone           Business    August 6, 2018  Varies with device   \n",
       "10327           Teen             Action    August 3, 2018              1.21.0   \n",
       "10636           Teen             Action  October 28, 2013               3.0.3   \n",
       "10707       Everyone        Photography  February 1, 2018  Varies with device   \n",
       "\n",
       "              Android Ver  \n",
       "139    Varies with device  \n",
       "152    Varies with device  \n",
       "189    Varies with device  \n",
       "194            4.1 and up  \n",
       "201    Varies with device  \n",
       "...                   ...  \n",
       "10190          4.1 and up  \n",
       "10200  Varies with device  \n",
       "10327        4.0.3 and up  \n",
       "10636          2.1 and up  \n",
       "10707  Varies with device  \n",
       "\n",
       "[704 rows x 13 columns]"
      ],
      "text/html": "<div>\n<style scoped>\n    .dataframe tbody tr th:only-of-type {\n        vertical-align: middle;\n    }\n\n    .dataframe tbody tr th {\n        vertical-align: top;\n    }\n\n    .dataframe thead th {\n        text-align: right;\n    }\n</style>\n<table border=\"1\" class=\"dataframe\">\n  <thead>\n    <tr style=\"text-align: right;\">\n      <th></th>\n      <th>App</th>\n      <th>Category</th>\n      <th>Rating</th>\n      <th>Reviews</th>\n      <th>Size</th>\n      <th>Installs</th>\n      <th>Type</th>\n      <th>Price</th>\n      <th>Content Rating</th>\n      <th>Genres</th>\n      <th>Last Updated</th>\n      <th>Current Ver</th>\n      <th>Android Ver</th>\n    </tr>\n  </thead>\n  <tbody>\n    <tr>\n      <th>139</th>\n      <td>Wattpad 📖 Free Books</td>\n      <td>BOOKS_AND_REFERENCE</td>\n      <td>4.6</td>\n      <td>2914724.0</td>\n      <td>Varies with device</td>\n      <td>100,000,000+</td>\n      <td>Free</td>\n      <td>0.0</td>\n      <td>Teen</td>\n      <td>Books &amp; Reference</td>\n      <td>August 1, 2018</td>\n      <td>Varies with device</td>\n      <td>Varies with device</td>\n    </tr>\n    <tr>\n      <th>152</th>\n      <td>Google Play Books</td>\n      <td>BOOKS_AND_REFERENCE</td>\n      <td>3.9</td>\n      <td>1433233.0</td>\n      <td>Varies with device</td>\n      <td>1,000,000,000+</td>\n      <td>Free</td>\n      <td>0.0</td>\n      <td>Teen</td>\n      <td>Books &amp; Reference</td>\n      <td>August 3, 2018</td>\n      <td>Varies with device</td>\n      <td>Varies with device</td>\n    </tr>\n    <tr>\n      <th>189</th>\n      <td>Uber Driver</td>\n      <td>BUSINESS</td>\n      <td>4.4</td>\n      <td>1254730.0</td>\n      <td>Varies with device</td>\n      <td>10,000,000+</td>\n      <td>Free</td>\n      <td>0.0</td>\n      <td>Everyone</td>\n      <td>Business</td>\n      <td>August 3, 2018</td>\n      <td>Varies with device</td>\n      <td>Varies with device</td>\n    </tr>\n    <tr>\n      <th>194</th>\n      <td>OfficeSuite : Free Office + PDF Editor</td>\n      <td>BUSINESS</td>\n      <td>4.3</td>\n      <td>1002861.0</td>\n      <td>35M</td>\n      <td>100,000,000+</td>\n      <td>Free</td>\n      <td>0.0</td>\n      <td>Everyone</td>\n      <td>Business</td>\n      <td>August 2, 2018</td>\n      <td>9.7.14188</td>\n      <td>4.1 and up</td>\n    </tr>\n    <tr>\n      <th>201</th>\n      <td>Facebook Pages Manager</td>\n      <td>BUSINESS</td>\n      <td>4.0</td>\n      <td>1279184.0</td>\n      <td>Varies with device</td>\n      <td>50,000,000+</td>\n      <td>Free</td>\n      <td>0.0</td>\n      <td>Everyone</td>\n      <td>Business</td>\n      <td>August 2, 2018</td>\n      <td>Varies with device</td>\n      <td>Varies with device</td>\n    </tr>\n    <tr>\n      <th>...</th>\n      <td>...</td>\n      <td>...</td>\n      <td>...</td>\n      <td>...</td>\n      <td>...</td>\n      <td>...</td>\n      <td>...</td>\n      <td>...</td>\n      <td>...</td>\n      <td>...</td>\n      <td>...</td>\n      <td>...</td>\n      <td>...</td>\n    </tr>\n    <tr>\n      <th>10190</th>\n      <td>Fallout Shelter</td>\n      <td>FAMILY</td>\n      <td>4.6</td>\n      <td>2721923.0</td>\n      <td>25M</td>\n      <td>10,000,000+</td>\n      <td>Free</td>\n      <td>0.0</td>\n      <td>Teen</td>\n      <td>Simulation</td>\n      <td>June 11, 2018</td>\n      <td>1.13.12</td>\n      <td>4.1 and up</td>\n    </tr>\n    <tr>\n      <th>10200</th>\n      <td>Facebook Pages Manager</td>\n      <td>BUSINESS</td>\n      <td>4.0</td>\n      <td>1279800.0</td>\n      <td>Varies with device</td>\n      <td>50,000,000+</td>\n      <td>Free</td>\n      <td>0.0</td>\n      <td>Everyone</td>\n      <td>Business</td>\n      <td>August 6, 2018</td>\n      <td>Varies with device</td>\n      <td>Varies with device</td>\n    </tr>\n    <tr>\n      <th>10327</th>\n      <td>Garena Free Fire</td>\n      <td>GAME</td>\n      <td>4.5</td>\n      <td>5534114.0</td>\n      <td>53M</td>\n      <td>100,000,000+</td>\n      <td>Free</td>\n      <td>0.0</td>\n      <td>Teen</td>\n      <td>Action</td>\n      <td>August 3, 2018</td>\n      <td>1.21.0</td>\n      <td>4.0.3 and up</td>\n    </tr>\n    <tr>\n      <th>10636</th>\n      <td>FRONTLINE COMMANDO</td>\n      <td>GAME</td>\n      <td>4.4</td>\n      <td>1351833.0</td>\n      <td>12M</td>\n      <td>10,000,000+</td>\n      <td>Free</td>\n      <td>0.0</td>\n      <td>Teen</td>\n      <td>Action</td>\n      <td>October 28, 2013</td>\n      <td>3.0.3</td>\n      <td>2.1 and up</td>\n    </tr>\n    <tr>\n      <th>10707</th>\n      <td>Photo Editor Collage Maker Pro</td>\n      <td>PHOTOGRAPHY</td>\n      <td>4.5</td>\n      <td>1519671.0</td>\n      <td>Varies with device</td>\n      <td>100,000,000+</td>\n      <td>Free</td>\n      <td>0.0</td>\n      <td>Everyone</td>\n      <td>Photography</td>\n      <td>February 1, 2018</td>\n      <td>Varies with device</td>\n      <td>Varies with device</td>\n    </tr>\n  </tbody>\n</table>\n<p>704 rows × 13 columns</p>\n</div>"
     },
     "metadata": {},
     "execution_count": 3
    }
   ],
   "source": [
    "from utils import change_m, change_dollar, data_path\n",
    "import pandas as pd \n",
    "\n",
    "df = pd.read_csv(data_path)\n",
    "df[\"Price\"] = df[\"Price\"].apply(change_dollar)\n",
    "df[\"Price\"] = pd.to_numeric(df[\"Price\"])\n",
    "df[\"Reviews\"] = df[\"Reviews\"].apply(change_m)\n",
    "df[\"Reviews\"] = pd.to_numeric(df[\"Reviews\"])\n",
    "\n",
    "df = df[df['Reviews'] >= 1000000]\n",
    "\n",
    "df_bars = df.groupby(['Category', 'Installs'])['App'].count().reset_index().sort_values('App', ascending=False)\n",
    "df"
   ]
  },
  {
   "cell_type": "code",
   "execution_count": 4,
   "metadata": {},
   "outputs": [
    {
     "output_type": "execute_result",
     "data": {
      "text/plain": [
       "               Category        Installs  App\n",
       "25                 GAME    100,000,000+  130\n",
       "26                 GAME     50,000,000+   58\n",
       "38          PHOTOGRAPHY    100,000,000+   36\n",
       "8         COMMUNICATION    100,000,000+   35\n",
       "24                 GAME     10,000,000+   34\n",
       "..                  ...             ...  ...\n",
       "15        ENTERTAINMENT     50,000,000+    1\n",
       "16               FAMILY  1,000,000,000+    1\n",
       "2              BUSINESS     10,000,000+    1\n",
       "66              WEATHER     10,000,000+    1\n",
       "0   BOOKS_AND_REFERENCE  1,000,000,000+    1\n",
       "\n",
       "[68 rows x 3 columns]"
      ],
      "text/html": "<div>\n<style scoped>\n    .dataframe tbody tr th:only-of-type {\n        vertical-align: middle;\n    }\n\n    .dataframe tbody tr th {\n        vertical-align: top;\n    }\n\n    .dataframe thead th {\n        text-align: right;\n    }\n</style>\n<table border=\"1\" class=\"dataframe\">\n  <thead>\n    <tr style=\"text-align: right;\">\n      <th></th>\n      <th>Category</th>\n      <th>Installs</th>\n      <th>App</th>\n    </tr>\n  </thead>\n  <tbody>\n    <tr>\n      <th>25</th>\n      <td>GAME</td>\n      <td>100,000,000+</td>\n      <td>130</td>\n    </tr>\n    <tr>\n      <th>26</th>\n      <td>GAME</td>\n      <td>50,000,000+</td>\n      <td>58</td>\n    </tr>\n    <tr>\n      <th>38</th>\n      <td>PHOTOGRAPHY</td>\n      <td>100,000,000+</td>\n      <td>36</td>\n    </tr>\n    <tr>\n      <th>8</th>\n      <td>COMMUNICATION</td>\n      <td>100,000,000+</td>\n      <td>35</td>\n    </tr>\n    <tr>\n      <th>24</th>\n      <td>GAME</td>\n      <td>10,000,000+</td>\n      <td>34</td>\n    </tr>\n    <tr>\n      <th>...</th>\n      <td>...</td>\n      <td>...</td>\n      <td>...</td>\n    </tr>\n    <tr>\n      <th>15</th>\n      <td>ENTERTAINMENT</td>\n      <td>50,000,000+</td>\n      <td>1</td>\n    </tr>\n    <tr>\n      <th>16</th>\n      <td>FAMILY</td>\n      <td>1,000,000,000+</td>\n      <td>1</td>\n    </tr>\n    <tr>\n      <th>2</th>\n      <td>BUSINESS</td>\n      <td>10,000,000+</td>\n      <td>1</td>\n    </tr>\n    <tr>\n      <th>66</th>\n      <td>WEATHER</td>\n      <td>10,000,000+</td>\n      <td>1</td>\n    </tr>\n    <tr>\n      <th>0</th>\n      <td>BOOKS_AND_REFERENCE</td>\n      <td>1,000,000,000+</td>\n      <td>1</td>\n    </tr>\n  </tbody>\n</table>\n<p>68 rows × 3 columns</p>\n</div>"
     },
     "metadata": {},
     "execution_count": 4
    }
   ],
   "source": [
    "df_bars"
   ]
  },
  {
   "cell_type": "code",
   "execution_count": 10,
   "metadata": {},
   "outputs": [
    {
     "output_type": "execute_result",
     "data": {
      "text/plain": [
       "                                          App             Category  Rating  \\\n",
       "139                      Wattpad 📖 Free Books  BOOKS_AND_REFERENCE     4.6   \n",
       "152                         Google Play Books  BOOKS_AND_REFERENCE     3.9   \n",
       "189                               Uber Driver             BUSINESS     4.4   \n",
       "194    OfficeSuite : Free Office + PDF Editor             BUSINESS     4.3   \n",
       "201                    Facebook Pages Manager             BUSINESS     4.0   \n",
       "...                                       ...                  ...     ...   \n",
       "10190                         Fallout Shelter               FAMILY     4.6   \n",
       "10200                  Facebook Pages Manager             BUSINESS     4.0   \n",
       "10327                        Garena Free Fire                 GAME     4.5   \n",
       "10636                      FRONTLINE COMMANDO                 GAME     4.4   \n",
       "10707          Photo Editor Collage Maker Pro          PHOTOGRAPHY     4.5   \n",
       "\n",
       "         Reviews                Size        Installs  Type  Price  \\\n",
       "139    2914724.0  Varies with device    100,000,000+  Free    0.0   \n",
       "152    1433233.0  Varies with device  1,000,000,000+  Free    0.0   \n",
       "189    1254730.0  Varies with device     10,000,000+  Free    0.0   \n",
       "194    1002861.0                 35M    100,000,000+  Free    0.0   \n",
       "201    1279184.0  Varies with device     50,000,000+  Free    0.0   \n",
       "...          ...                 ...             ...   ...    ...   \n",
       "10190  2721923.0                 25M     10,000,000+  Free    0.0   \n",
       "10200  1279800.0  Varies with device     50,000,000+  Free    0.0   \n",
       "10327  5534114.0                 53M    100,000,000+  Free    0.0   \n",
       "10636  1351833.0                 12M     10,000,000+  Free    0.0   \n",
       "10707  1519671.0  Varies with device    100,000,000+  Free    0.0   \n",
       "\n",
       "      Content Rating             Genres      Last Updated         Current Ver  \\\n",
       "139             Teen  Books & Reference    August 1, 2018  Varies with device   \n",
       "152             Teen  Books & Reference    August 3, 2018  Varies with device   \n",
       "189         Everyone           Business    August 3, 2018  Varies with device   \n",
       "194         Everyone           Business    August 2, 2018           9.7.14188   \n",
       "201         Everyone           Business    August 2, 2018  Varies with device   \n",
       "...              ...                ...               ...                 ...   \n",
       "10190           Teen         Simulation     June 11, 2018             1.13.12   \n",
       "10200       Everyone           Business    August 6, 2018  Varies with device   \n",
       "10327           Teen             Action    August 3, 2018              1.21.0   \n",
       "10636           Teen             Action  October 28, 2013               3.0.3   \n",
       "10707       Everyone        Photography  February 1, 2018  Varies with device   \n",
       "\n",
       "              Android Ver  \n",
       "139    Varies with device  \n",
       "152    Varies with device  \n",
       "189    Varies with device  \n",
       "194            4.1 and up  \n",
       "201    Varies with device  \n",
       "...                   ...  \n",
       "10190          4.1 and up  \n",
       "10200  Varies with device  \n",
       "10327        4.0.3 and up  \n",
       "10636          2.1 and up  \n",
       "10707  Varies with device  \n",
       "\n",
       "[704 rows x 13 columns]"
      ],
      "text/html": "<div>\n<style scoped>\n    .dataframe tbody tr th:only-of-type {\n        vertical-align: middle;\n    }\n\n    .dataframe tbody tr th {\n        vertical-align: top;\n    }\n\n    .dataframe thead th {\n        text-align: right;\n    }\n</style>\n<table border=\"1\" class=\"dataframe\">\n  <thead>\n    <tr style=\"text-align: right;\">\n      <th></th>\n      <th>App</th>\n      <th>Category</th>\n      <th>Rating</th>\n      <th>Reviews</th>\n      <th>Size</th>\n      <th>Installs</th>\n      <th>Type</th>\n      <th>Price</th>\n      <th>Content Rating</th>\n      <th>Genres</th>\n      <th>Last Updated</th>\n      <th>Current Ver</th>\n      <th>Android Ver</th>\n    </tr>\n  </thead>\n  <tbody>\n    <tr>\n      <th>139</th>\n      <td>Wattpad 📖 Free Books</td>\n      <td>BOOKS_AND_REFERENCE</td>\n      <td>4.6</td>\n      <td>2914724.0</td>\n      <td>Varies with device</td>\n      <td>100,000,000+</td>\n      <td>Free</td>\n      <td>0.0</td>\n      <td>Teen</td>\n      <td>Books &amp; Reference</td>\n      <td>August 1, 2018</td>\n      <td>Varies with device</td>\n      <td>Varies with device</td>\n    </tr>\n    <tr>\n      <th>152</th>\n      <td>Google Play Books</td>\n      <td>BOOKS_AND_REFERENCE</td>\n      <td>3.9</td>\n      <td>1433233.0</td>\n      <td>Varies with device</td>\n      <td>1,000,000,000+</td>\n      <td>Free</td>\n      <td>0.0</td>\n      <td>Teen</td>\n      <td>Books &amp; Reference</td>\n      <td>August 3, 2018</td>\n      <td>Varies with device</td>\n      <td>Varies with device</td>\n    </tr>\n    <tr>\n      <th>189</th>\n      <td>Uber Driver</td>\n      <td>BUSINESS</td>\n      <td>4.4</td>\n      <td>1254730.0</td>\n      <td>Varies with device</td>\n      <td>10,000,000+</td>\n      <td>Free</td>\n      <td>0.0</td>\n      <td>Everyone</td>\n      <td>Business</td>\n      <td>August 3, 2018</td>\n      <td>Varies with device</td>\n      <td>Varies with device</td>\n    </tr>\n    <tr>\n      <th>194</th>\n      <td>OfficeSuite : Free Office + PDF Editor</td>\n      <td>BUSINESS</td>\n      <td>4.3</td>\n      <td>1002861.0</td>\n      <td>35M</td>\n      <td>100,000,000+</td>\n      <td>Free</td>\n      <td>0.0</td>\n      <td>Everyone</td>\n      <td>Business</td>\n      <td>August 2, 2018</td>\n      <td>9.7.14188</td>\n      <td>4.1 and up</td>\n    </tr>\n    <tr>\n      <th>201</th>\n      <td>Facebook Pages Manager</td>\n      <td>BUSINESS</td>\n      <td>4.0</td>\n      <td>1279184.0</td>\n      <td>Varies with device</td>\n      <td>50,000,000+</td>\n      <td>Free</td>\n      <td>0.0</td>\n      <td>Everyone</td>\n      <td>Business</td>\n      <td>August 2, 2018</td>\n      <td>Varies with device</td>\n      <td>Varies with device</td>\n    </tr>\n    <tr>\n      <th>...</th>\n      <td>...</td>\n      <td>...</td>\n      <td>...</td>\n      <td>...</td>\n      <td>...</td>\n      <td>...</td>\n      <td>...</td>\n      <td>...</td>\n      <td>...</td>\n      <td>...</td>\n      <td>...</td>\n      <td>...</td>\n      <td>...</td>\n    </tr>\n    <tr>\n      <th>10190</th>\n      <td>Fallout Shelter</td>\n      <td>FAMILY</td>\n      <td>4.6</td>\n      <td>2721923.0</td>\n      <td>25M</td>\n      <td>10,000,000+</td>\n      <td>Free</td>\n      <td>0.0</td>\n      <td>Teen</td>\n      <td>Simulation</td>\n      <td>June 11, 2018</td>\n      <td>1.13.12</td>\n      <td>4.1 and up</td>\n    </tr>\n    <tr>\n      <th>10200</th>\n      <td>Facebook Pages Manager</td>\n      <td>BUSINESS</td>\n      <td>4.0</td>\n      <td>1279800.0</td>\n      <td>Varies with device</td>\n      <td>50,000,000+</td>\n      <td>Free</td>\n      <td>0.0</td>\n      <td>Everyone</td>\n      <td>Business</td>\n      <td>August 6, 2018</td>\n      <td>Varies with device</td>\n      <td>Varies with device</td>\n    </tr>\n    <tr>\n      <th>10327</th>\n      <td>Garena Free Fire</td>\n      <td>GAME</td>\n      <td>4.5</td>\n      <td>5534114.0</td>\n      <td>53M</td>\n      <td>100,000,000+</td>\n      <td>Free</td>\n      <td>0.0</td>\n      <td>Teen</td>\n      <td>Action</td>\n      <td>August 3, 2018</td>\n      <td>1.21.0</td>\n      <td>4.0.3 and up</td>\n    </tr>\n    <tr>\n      <th>10636</th>\n      <td>FRONTLINE COMMANDO</td>\n      <td>GAME</td>\n      <td>4.4</td>\n      <td>1351833.0</td>\n      <td>12M</td>\n      <td>10,000,000+</td>\n      <td>Free</td>\n      <td>0.0</td>\n      <td>Teen</td>\n      <td>Action</td>\n      <td>October 28, 2013</td>\n      <td>3.0.3</td>\n      <td>2.1 and up</td>\n    </tr>\n    <tr>\n      <th>10707</th>\n      <td>Photo Editor Collage Maker Pro</td>\n      <td>PHOTOGRAPHY</td>\n      <td>4.5</td>\n      <td>1519671.0</td>\n      <td>Varies with device</td>\n      <td>100,000,000+</td>\n      <td>Free</td>\n      <td>0.0</td>\n      <td>Everyone</td>\n      <td>Photography</td>\n      <td>February 1, 2018</td>\n      <td>Varies with device</td>\n      <td>Varies with device</td>\n    </tr>\n  </tbody>\n</table>\n<p>704 rows × 13 columns</p>\n</div>"
     },
     "metadata": {},
     "execution_count": 10
    }
   ],
   "source": [
    "reviews = [1000417, 78158306]\n",
    "selected_type = ['Free', 'Paid']\n",
    "\n",
    "filtered_df = df[df[\"Type\"].isin(selected_type)]\n",
    "filtered_df = filtered_df[filtered_df[\"Reviews\"] >= reviews[0]]\n",
    "filtered_df = filtered_df[filtered_df[\"Reviews\"] <= reviews[1]]\n",
    "filtered_df"
   ]
  },
  {
   "cell_type": "code",
   "execution_count": 11,
   "metadata": {},
   "outputs": [
    {
     "output_type": "execute_result",
     "data": {
      "text/plain": [
       "               Category        Installs  App\n",
       "25                 GAME    100,000,000+  130\n",
       "26                 GAME     50,000,000+   58\n",
       "38          PHOTOGRAPHY    100,000,000+   36\n",
       "8         COMMUNICATION    100,000,000+   35\n",
       "24                 GAME     10,000,000+   34\n",
       "..                  ...             ...  ...\n",
       "15        ENTERTAINMENT     50,000,000+    1\n",
       "16               FAMILY  1,000,000,000+    1\n",
       "2              BUSINESS     10,000,000+    1\n",
       "66              WEATHER     10,000,000+    1\n",
       "0   BOOKS_AND_REFERENCE  1,000,000,000+    1\n",
       "\n",
       "[68 rows x 3 columns]"
      ],
      "text/html": "<div>\n<style scoped>\n    .dataframe tbody tr th:only-of-type {\n        vertical-align: middle;\n    }\n\n    .dataframe tbody tr th {\n        vertical-align: top;\n    }\n\n    .dataframe thead th {\n        text-align: right;\n    }\n</style>\n<table border=\"1\" class=\"dataframe\">\n  <thead>\n    <tr style=\"text-align: right;\">\n      <th></th>\n      <th>Category</th>\n      <th>Installs</th>\n      <th>App</th>\n    </tr>\n  </thead>\n  <tbody>\n    <tr>\n      <th>25</th>\n      <td>GAME</td>\n      <td>100,000,000+</td>\n      <td>130</td>\n    </tr>\n    <tr>\n      <th>26</th>\n      <td>GAME</td>\n      <td>50,000,000+</td>\n      <td>58</td>\n    </tr>\n    <tr>\n      <th>38</th>\n      <td>PHOTOGRAPHY</td>\n      <td>100,000,000+</td>\n      <td>36</td>\n    </tr>\n    <tr>\n      <th>8</th>\n      <td>COMMUNICATION</td>\n      <td>100,000,000+</td>\n      <td>35</td>\n    </tr>\n    <tr>\n      <th>24</th>\n      <td>GAME</td>\n      <td>10,000,000+</td>\n      <td>34</td>\n    </tr>\n    <tr>\n      <th>...</th>\n      <td>...</td>\n      <td>...</td>\n      <td>...</td>\n    </tr>\n    <tr>\n      <th>15</th>\n      <td>ENTERTAINMENT</td>\n      <td>50,000,000+</td>\n      <td>1</td>\n    </tr>\n    <tr>\n      <th>16</th>\n      <td>FAMILY</td>\n      <td>1,000,000,000+</td>\n      <td>1</td>\n    </tr>\n    <tr>\n      <th>2</th>\n      <td>BUSINESS</td>\n      <td>10,000,000+</td>\n      <td>1</td>\n    </tr>\n    <tr>\n      <th>66</th>\n      <td>WEATHER</td>\n      <td>10,000,000+</td>\n      <td>1</td>\n    </tr>\n    <tr>\n      <th>0</th>\n      <td>BOOKS_AND_REFERENCE</td>\n      <td>1,000,000,000+</td>\n      <td>1</td>\n    </tr>\n  </tbody>\n</table>\n<p>68 rows × 3 columns</p>\n</div>"
     },
     "metadata": {},
     "execution_count": 11
    }
   ],
   "source": [
    "df_bars = filtered_df.groupby(['Category', 'Installs'])['App'].count().reset_index().sort_values('App', ascending=False)\n",
    "df_bars"
   ]
  },
  {
   "cell_type": "code",
   "execution_count": null,
   "metadata": {},
   "outputs": [],
   "source": []
  }
 ]
}