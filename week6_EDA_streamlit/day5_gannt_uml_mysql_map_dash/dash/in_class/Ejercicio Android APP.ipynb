{
 "cells": [
  {
   "cell_type": "markdown",
   "metadata": {},
   "source": [
    "## Ejerciccio Android APPs\n",
    "Para este ejercicio tendrás que diseñar un dashboard con dos selectores de datos y dos gráficas:\n",
    "- Selector de tipo de app según si es gratuita o de pago\n",
    "- Selector de número de reviews\n",
    "- Scatterplot de apps, compuesto por número de reviews vs rating.\n",
    "- Diagrama de barras donde se represente un coteo de apps por categoría, y cuyos colores sea la columna \"Installed\".\n",
    "\n",
    "Ten en cuenta lo siguiente:\n",
    "- Apóyate del formato fila, `columna de dash_bootstrap_components`\n",
    "- Filtra el dataset para quedarte con las apps con más de 1 millón de reviews.\n",
    "\n",
    "![image](./img/ejercicio_dash.png)"
   ]
  },
  {
   "cell_type": "code",
   "execution_count": null,
   "metadata": {},
   "outputs": [],
   "source": []
  }
 ],
 "metadata": {
  "kernelspec": {
   "display_name": "Python 3",
   "language": "python",
   "name": "python3"
  },
  "language_info": {
   "codemirror_mode": {
    "name": "ipython",
    "version": 3
   },
   "file_extension": ".py",
   "mimetype": "text/x-python",
   "name": "python",
   "nbconvert_exporter": "python",
   "pygments_lexer": "ipython3",
   "version": "3.8.5"
  }
 },
 "nbformat": 4,
 "nbformat_minor": 4
}