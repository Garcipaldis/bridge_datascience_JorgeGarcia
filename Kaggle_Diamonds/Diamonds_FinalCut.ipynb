{
 "metadata": {
  "language_info": {
   "codemirror_mode": {
    "name": "ipython",
    "version": 3
   },
   "file_extension": ".py",
   "mimetype": "text/x-python",
   "name": "python",
   "nbconvert_exporter": "python",
   "pygments_lexer": "ipython3",
   "version": "3.7.4"
  },
  "orig_nbformat": 4,
  "kernelspec": {
   "name": "python3",
   "display_name": "Python 3.7.4 64-bit"
  },
  "interpreter": {
   "hash": "674dfd6ded4398e0679ff4f65e9a10a54ff0d14801bec0126172cfc3973d1cf1"
  }
 },
 "nbformat": 4,
 "nbformat_minor": 2,
 "cells": [
  {
   "cell_type": "code",
   "execution_count": 1,
   "metadata": {},
   "outputs": [],
   "source": [
    "import numpy as np\n",
    "import pandas as pd\n",
    "\n",
    "import urllib.request\n",
    "from PIL import Image\n",
    "import pickle\n",
    "\n",
    "from sklearn.model_selection import train_test_split\n",
    "from sklearn.metrics import mean_squared_error"
   ]
  },
  {
   "cell_type": "code",
   "execution_count": 2,
   "metadata": {},
   "outputs": [
    {
     "output_type": "execute_result",
     "data": {
      "text/plain": [
       "   carat        cut color clarity  depth  table     x     y     z  price\n",
       "0   1.21      Ideal     H     VS2   63.0   57.0  6.73  6.70  4.23   6134\n",
       "1   0.28  Very Good     D    VVS2   64.0   56.0  4.14  4.17  2.66    532\n",
       "2   0.42    Premium     F     VS1   61.2   58.0  4.86  4.82  2.96   1103\n",
       "3   0.26      Ideal     H      IF   61.1   57.0  4.16  4.12  2.53    600\n",
       "4   1.10       Good     G     SI1   63.4   57.0  6.52  6.55  4.14   4997"
      ],
      "text/html": "<div>\n<style scoped>\n    .dataframe tbody tr th:only-of-type {\n        vertical-align: middle;\n    }\n\n    .dataframe tbody tr th {\n        vertical-align: top;\n    }\n\n    .dataframe thead th {\n        text-align: right;\n    }\n</style>\n<table border=\"1\" class=\"dataframe\">\n  <thead>\n    <tr style=\"text-align: right;\">\n      <th></th>\n      <th>carat</th>\n      <th>cut</th>\n      <th>color</th>\n      <th>clarity</th>\n      <th>depth</th>\n      <th>table</th>\n      <th>x</th>\n      <th>y</th>\n      <th>z</th>\n      <th>price</th>\n    </tr>\n  </thead>\n  <tbody>\n    <tr>\n      <th>0</th>\n      <td>1.21</td>\n      <td>Ideal</td>\n      <td>H</td>\n      <td>VS2</td>\n      <td>63.0</td>\n      <td>57.0</td>\n      <td>6.73</td>\n      <td>6.70</td>\n      <td>4.23</td>\n      <td>6134</td>\n    </tr>\n    <tr>\n      <th>1</th>\n      <td>0.28</td>\n      <td>Very Good</td>\n      <td>D</td>\n      <td>VVS2</td>\n      <td>64.0</td>\n      <td>56.0</td>\n      <td>4.14</td>\n      <td>4.17</td>\n      <td>2.66</td>\n      <td>532</td>\n    </tr>\n    <tr>\n      <th>2</th>\n      <td>0.42</td>\n      <td>Premium</td>\n      <td>F</td>\n      <td>VS1</td>\n      <td>61.2</td>\n      <td>58.0</td>\n      <td>4.86</td>\n      <td>4.82</td>\n      <td>2.96</td>\n      <td>1103</td>\n    </tr>\n    <tr>\n      <th>3</th>\n      <td>0.26</td>\n      <td>Ideal</td>\n      <td>H</td>\n      <td>IF</td>\n      <td>61.1</td>\n      <td>57.0</td>\n      <td>4.16</td>\n      <td>4.12</td>\n      <td>2.53</td>\n      <td>600</td>\n    </tr>\n    <tr>\n      <th>4</th>\n      <td>1.10</td>\n      <td>Good</td>\n      <td>G</td>\n      <td>SI1</td>\n      <td>63.4</td>\n      <td>57.0</td>\n      <td>6.52</td>\n      <td>6.55</td>\n      <td>4.14</td>\n      <td>4997</td>\n    </tr>\n  </tbody>\n</table>\n</div>"
     },
     "metadata": {},
     "execution_count": 2
    }
   ],
   "source": [
    "diamond_df = pd.read_csv(\"diamonds_train.csv\", index_col=0)\n",
    "diamond_df.head()"
   ]
  },
  {
   "cell_type": "code",
   "execution_count": 3,
   "metadata": {},
   "outputs": [],
   "source": [
    "class DiamondEncoder:\n",
    "\n",
    "    @staticmethod\n",
    "    def classify_cut(x):\n",
    "        if x == 'Ideal':\n",
    "            return 10\n",
    "        elif x == 'Premium':\n",
    "            return 9\n",
    "        elif x == 'Very Good':\n",
    "            return 8\n",
    "        elif x == 'Good':\n",
    "            return 6.5\n",
    "        else:\n",
    "            return 4\n",
    "\n",
    "    @staticmethod\n",
    "    def classify_color(x):\n",
    "        if x == 'D':\n",
    "            return 10\n",
    "        elif x == 'E':\n",
    "            return 9.5\n",
    "        elif x == 'F':\n",
    "            return 9\n",
    "        elif x == 'G':\n",
    "            return 8.5\n",
    "        elif x == 'H':\n",
    "            return 8\n",
    "        elif x == 'I':\n",
    "            return 7.5\n",
    "        else:\n",
    "            return 7\n",
    "\n",
    "    @staticmethod\n",
    "    def classify_clarity(x):\n",
    "        if x == 'IF':\n",
    "            return 10\n",
    "        elif x == 'VVS1':\n",
    "            return 9\n",
    "        elif x == 'VVS2':\n",
    "            return 8\n",
    "        elif x == 'VS1':\n",
    "            return 7\n",
    "        elif x == 'VS2':\n",
    "            return 6\n",
    "        elif x == 'SI1':\n",
    "            return 5\n",
    "        elif x == 'SI2':\n",
    "            return 3.5\n",
    "        else:\n",
    "            return 2.5"
   ]
  },
  {
   "cell_type": "code",
   "execution_count": 4,
   "metadata": {},
   "outputs": [],
   "source": [
    "df = diamond_df.copy()\n",
    "df.cut = df.cut.apply(DiamondEncoder.classify_cut)\n",
    "df.color = df.color.apply(DiamondEncoder.classify_color)\n",
    "df.clarity = df.clarity.apply(DiamondEncoder.classify_clarity)\n",
    "\n",
    "X = np.array(df.loc[:, :'z'])\n",
    "y = np.array(df.price)\n",
    "\n",
    "X_train, X_test, y_train, y_test = train_test_split(X, y, test_size = 0.20, random_state = 42)"
   ]
  },
  {
   "cell_type": "code",
   "execution_count": 5,
   "metadata": {},
   "outputs": [],
   "source": [
    "def get_RMSE(model, X, y, random_state=42):\n",
    "    X_train, X_test, y_train, y_test = train_test_split(X, y, test_size = 0.20, random_state = 42)\n",
    "    y_pred = model.predict(X_train)\n",
    "    train_rmse = np.sqrt(mean_squared_error(y_train, y_pred))\n",
    "    y_pred_test = model.predict(X_test)\n",
    "    test_rmse = np.sqrt(mean_squared_error(y_test, y_pred_test))\n",
    "    print('Train RMSE:', train_rmse)\n",
    "    print('Test_RMSE:', test_rmse)\n",
    "\n",
    "def chequeator(df_to_submit):\n",
    "    \"\"\"\n",
    "    Esta función se asegura de que tu submission tenga la forma requerida por Kaggle.\n",
    "    \n",
    "    Si es así, se guardará el dataframe en un `csv` y estará listo para subir a Kaggle.\n",
    "    \n",
    "    Si no, LEE EL MENSAJE Y HAZLE CASO.\n",
    "    \n",
    "    Si aún no:\n",
    "    - apaga tu ordenador, \n",
    "    - date una vuelta, \n",
    "    - enciendelo otra vez, \n",
    "    - abre este notebook y \n",
    "    - leelo todo de nuevo. \n",
    "    Todos nos merecemos una segunda oportunidad. También tú.\n",
    "    \"\"\"\n",
    "    sample = pd.read_csv(\"sample_submission.csv\")\n",
    "    if df_to_submit.shape == sample.shape:\n",
    "        if df_to_submit.columns.all() == sample.columns.all():\n",
    "            if df_to_submit.id.all() == sample.id.all():\n",
    "                print(\"You're ready to submit!\")\n",
    "                df_to_submit.to_csv(\"submission.csv\", index = False) #muy importante el index = False\n",
    "                urllib.request.urlretrieve(\"https://i.kym-cdn.com/photos/images/facebook/000/747/556/27a.jpg\", \"gfg.png\")     \n",
    "                img = Image.open(\"gfg.png\")\n",
    "                img.show()   \n",
    "            else:\n",
    "                print(\"Check the ids and try again\")\n",
    "        else:\n",
    "            print(\"Check the names of the columns and try again\")\n",
    "    else:\n",
    "        print(\"Check the number of rows and/or columns and try again\")\n",
    "        print(\"\\nMensaje secreto de Clara: No me puedo creer que después de todo este notebook hayas hecho algún cambio en las filas de `diamonds_test.csv`. Lloro.\")\n",
    "\n",
    "filepath = 'diamonds_test.csv'\n",
    "\n",
    "def prepare_test(model, filepath):\n",
    "    df = pd.read_csv(filepath, index_col=0)\n",
    "    df.cut = df.cut.apply(DiamondEncoder.classify_cut)\n",
    "    df.color = df.color.apply(DiamondEncoder.classify_color)\n",
    "    df.clarity = df.clarity.apply(DiamondEncoder.classify_clarity)\n",
    "    X = df.loc[:, :'z']\n",
    "\n",
    "    predictions_submit = model.predict(X)\n",
    "    submission = pd.DataFrame({\"id\": range(len(predictions_submit)), \"price\": predictions_submit})\n",
    "    \n",
    "    return submission"
   ]
  },
  {
   "cell_type": "code",
   "execution_count": 10,
   "metadata": {},
   "outputs": [
    {
     "output_type": "stream",
     "name": "stdout",
     "text": [
      "Train RMSE: 388.05267180234176\nTest_RMSE: 521.0310978701873\n"
     ]
    }
   ],
   "source": [
    "from sklearn.ensemble import VotingRegressor\n",
    "from catboost import CatBoostRegressor\n",
    "from sklearn.ensemble import GradientBoostingRegressor\n",
    "from sklearn.ensemble import RandomForestRegressor\n",
    "\n",
    "wildcat = CatBoostRegressor(depth=6, learning_rate=0.1, l2_leaf_reg=5, iterations=1200, logging_level='Silent')\n",
    "graduate = GradientBoostingRegressor(n_estimators=100, criterion='mse', min_samples_split=100, min_samples_leaf=5, max_depth=6)\n",
    "forest_gump = RandomForestRegressor(n_estimators=100, min_samples_split=10, random_state=42, min_samples_leaf=2, max_depth=20)\n",
    "\n",
    "estimators = [('cat', wildcat), ('rand_forest', forest_gump), ('grad', graduate)]\n",
    "\n",
    "voting = VotingRegressor(estimators=estimators)\n",
    "voting.fit(X_train, y_train)\n",
    "get_RMSE(voting, X, y)"
   ]
  },
  {
   "cell_type": "code",
   "execution_count": 7,
   "metadata": {},
   "outputs": [],
   "source": [
    "filename = 'voting_cat_grad_forest.model'\n",
    "\n",
    "with open(filename, 'wb') as archivo_salida:\n",
    "    pickle.dump(voting, archivo_salida)"
   ]
  },
  {
   "cell_type": "code",
   "execution_count": 9,
   "metadata": {},
   "outputs": [
    {
     "output_type": "stream",
     "name": "stdout",
     "text": [
      "You're ready to submit!\n"
     ]
    }
   ],
   "source": [
    "filepath = 'diamonds_test.csv'\n",
    "voting.fit(X, y)\n",
    "submission = prepare_test(voting, filepath)\n",
    "chequeator(submission)"
   ]
  },
  {
   "cell_type": "code",
   "execution_count": null,
   "metadata": {},
   "outputs": [],
   "source": []
  }
 ]
}