{
 "metadata": {
  "language_info": {
   "codemirror_mode": {
    "name": "ipython",
    "version": 3
   },
   "file_extension": ".py",
   "mimetype": "text/x-python",
   "name": "python",
   "nbconvert_exporter": "python",
   "pygments_lexer": "ipython3",
   "version": "3.7.4"
  },
  "orig_nbformat": 4,
  "kernelspec": {
   "name": "python3",
   "display_name": "Python 3.7.4 64-bit"
  },
  "interpreter": {
   "hash": "674dfd6ded4398e0679ff4f65e9a10a54ff0d14801bec0126172cfc3973d1cf1"
  }
 },
 "nbformat": 4,
 "nbformat_minor": 2,
 "cells": [
  {
   "cell_type": "code",
   "execution_count": 1,
   "metadata": {},
   "outputs": [],
   "source": [
    "import numpy as np\n",
    "import pandas as pd\n",
    "\n",
    "import urllib.request\n",
    "from PIL import Image\n",
    "\n",
    "from sklearn.linear_model import LinearRegression\n",
    "from sklearn.model_selection import train_test_split\n",
    "from sklearn.metrics import mean_squared_error"
   ]
  },
  {
   "cell_type": "code",
   "execution_count": 2,
   "metadata": {},
   "outputs": [],
   "source": [
    "diamond_df = pd.read_csv(\"diamonds_train.csv\", index_col=0)"
   ]
  },
  {
   "cell_type": "code",
   "execution_count": 3,
   "metadata": {},
   "outputs": [
    {
     "output_type": "execute_result",
     "data": {
      "text/plain": [
       "   carat        cut color clarity  depth  table     x     y     z  price\n",
       "0   1.21      Ideal     H     VS2   63.0   57.0  6.73  6.70  4.23   6134\n",
       "1   0.28  Very Good     D    VVS2   64.0   56.0  4.14  4.17  2.66    532\n",
       "2   0.42    Premium     F     VS1   61.2   58.0  4.86  4.82  2.96   1103\n",
       "3   0.26      Ideal     H      IF   61.1   57.0  4.16  4.12  2.53    600\n",
       "4   1.10       Good     G     SI1   63.4   57.0  6.52  6.55  4.14   4997"
      ],
      "text/html": "<div>\n<style scoped>\n    .dataframe tbody tr th:only-of-type {\n        vertical-align: middle;\n    }\n\n    .dataframe tbody tr th {\n        vertical-align: top;\n    }\n\n    .dataframe thead th {\n        text-align: right;\n    }\n</style>\n<table border=\"1\" class=\"dataframe\">\n  <thead>\n    <tr style=\"text-align: right;\">\n      <th></th>\n      <th>carat</th>\n      <th>cut</th>\n      <th>color</th>\n      <th>clarity</th>\n      <th>depth</th>\n      <th>table</th>\n      <th>x</th>\n      <th>y</th>\n      <th>z</th>\n      <th>price</th>\n    </tr>\n  </thead>\n  <tbody>\n    <tr>\n      <th>0</th>\n      <td>1.21</td>\n      <td>Ideal</td>\n      <td>H</td>\n      <td>VS2</td>\n      <td>63.0</td>\n      <td>57.0</td>\n      <td>6.73</td>\n      <td>6.70</td>\n      <td>4.23</td>\n      <td>6134</td>\n    </tr>\n    <tr>\n      <th>1</th>\n      <td>0.28</td>\n      <td>Very Good</td>\n      <td>D</td>\n      <td>VVS2</td>\n      <td>64.0</td>\n      <td>56.0</td>\n      <td>4.14</td>\n      <td>4.17</td>\n      <td>2.66</td>\n      <td>532</td>\n    </tr>\n    <tr>\n      <th>2</th>\n      <td>0.42</td>\n      <td>Premium</td>\n      <td>F</td>\n      <td>VS1</td>\n      <td>61.2</td>\n      <td>58.0</td>\n      <td>4.86</td>\n      <td>4.82</td>\n      <td>2.96</td>\n      <td>1103</td>\n    </tr>\n    <tr>\n      <th>3</th>\n      <td>0.26</td>\n      <td>Ideal</td>\n      <td>H</td>\n      <td>IF</td>\n      <td>61.1</td>\n      <td>57.0</td>\n      <td>4.16</td>\n      <td>4.12</td>\n      <td>2.53</td>\n      <td>600</td>\n    </tr>\n    <tr>\n      <th>4</th>\n      <td>1.10</td>\n      <td>Good</td>\n      <td>G</td>\n      <td>SI1</td>\n      <td>63.4</td>\n      <td>57.0</td>\n      <td>6.52</td>\n      <td>6.55</td>\n      <td>4.14</td>\n      <td>4997</td>\n    </tr>\n  </tbody>\n</table>\n</div>"
     },
     "metadata": {},
     "execution_count": 3
    }
   ],
   "source": [
    "diamond_df.head()"
   ]
  },
  {
   "cell_type": "code",
   "execution_count": 41,
   "metadata": {},
   "outputs": [
    {
     "output_type": "execute_result",
     "data": {
      "text/plain": [
       "array(['Ideal', 'Very Good', 'Premium', 'Good', 'Fair'], dtype=object)"
      ]
     },
     "metadata": {},
     "execution_count": 41
    }
   ],
   "source": [
    "diamond_df.cut.unique()"
   ]
  },
  {
   "cell_type": "code",
   "execution_count": 42,
   "metadata": {},
   "outputs": [
    {
     "output_type": "execute_result",
     "data": {
      "text/plain": [
       "array(['H', 'D', 'F', 'G', 'I', 'E', 'J'], dtype=object)"
      ]
     },
     "metadata": {},
     "execution_count": 42
    }
   ],
   "source": [
    "diamond_df.color.unique()"
   ]
  },
  {
   "cell_type": "code",
   "execution_count": 43,
   "metadata": {},
   "outputs": [
    {
     "output_type": "execute_result",
     "data": {
      "text/plain": [
       "array(['VS2', 'VVS2', 'VS1', 'IF', 'SI1', 'SI2', 'VVS1', 'I1'],\n",
       "      dtype=object)"
      ]
     },
     "metadata": {},
     "execution_count": 43
    }
   ],
   "source": [
    "diamond_df.clarity.unique()"
   ]
  },
  {
   "cell_type": "code",
   "execution_count": 4,
   "metadata": {},
   "outputs": [],
   "source": [
    "class DiamondEncoder:\n",
    "\n",
    "    @staticmethod\n",
    "    def classify_cut(x):\n",
    "        if x == 'Ideal':\n",
    "            return 10\n",
    "        elif x == 'Premium':\n",
    "            return 9\n",
    "        elif x == 'Very Good':\n",
    "            return 8\n",
    "        elif x == 'Good':\n",
    "            return 6.5\n",
    "        else:\n",
    "            return 4\n",
    "\n",
    "    @staticmethod\n",
    "    def classify_color(x):\n",
    "        if x == 'D':\n",
    "            return 10\n",
    "        elif x == 'E':\n",
    "            return 9.5\n",
    "        elif x == 'F':\n",
    "            return 9\n",
    "        elif x == 'G':\n",
    "            return 8.5\n",
    "        elif x == 'H':\n",
    "            return 8\n",
    "        elif x == 'I':\n",
    "            return 7.5\n",
    "        else:\n",
    "            return 7\n",
    "\n",
    "    @staticmethod\n",
    "    def classify_clarity(x):\n",
    "        if x == 'IF':\n",
    "            return 10\n",
    "        elif x == 'VVS1':\n",
    "            return 9\n",
    "        elif x == 'VVS2':\n",
    "            return 8\n",
    "        elif x == 'VS1':\n",
    "            return 7\n",
    "        elif x == 'VS2':\n",
    "            return 6\n",
    "        elif x == 'SI1':\n",
    "            return 5\n",
    "        elif x == 'SI2':\n",
    "            return 3.5\n",
    "        else:\n",
    "            return 2.5"
   ]
  },
  {
   "cell_type": "code",
   "execution_count": 22,
   "metadata": {},
   "outputs": [
    {
     "output_type": "execute_result",
     "data": {
      "text/plain": [
       "   carat   cut color clarity  depth  table     x     y     z  price\n",
       "0   1.21  10.0     H     VS2   63.0   57.0  6.73  6.70  4.23   6134\n",
       "1   0.28   8.0     D    VVS2   64.0   56.0  4.14  4.17  2.66    532\n",
       "2   0.42   9.0     F     VS1   61.2   58.0  4.86  4.82  2.96   1103\n",
       "3   0.26  10.0     H      IF   61.1   57.0  4.16  4.12  2.53    600\n",
       "4   1.10   6.5     G     SI1   63.4   57.0  6.52  6.55  4.14   4997"
      ],
      "text/html": "<div>\n<style scoped>\n    .dataframe tbody tr th:only-of-type {\n        vertical-align: middle;\n    }\n\n    .dataframe tbody tr th {\n        vertical-align: top;\n    }\n\n    .dataframe thead th {\n        text-align: right;\n    }\n</style>\n<table border=\"1\" class=\"dataframe\">\n  <thead>\n    <tr style=\"text-align: right;\">\n      <th></th>\n      <th>carat</th>\n      <th>cut</th>\n      <th>color</th>\n      <th>clarity</th>\n      <th>depth</th>\n      <th>table</th>\n      <th>x</th>\n      <th>y</th>\n      <th>z</th>\n      <th>price</th>\n    </tr>\n  </thead>\n  <tbody>\n    <tr>\n      <th>0</th>\n      <td>1.21</td>\n      <td>10.0</td>\n      <td>H</td>\n      <td>VS2</td>\n      <td>63.0</td>\n      <td>57.0</td>\n      <td>6.73</td>\n      <td>6.70</td>\n      <td>4.23</td>\n      <td>6134</td>\n    </tr>\n    <tr>\n      <th>1</th>\n      <td>0.28</td>\n      <td>8.0</td>\n      <td>D</td>\n      <td>VVS2</td>\n      <td>64.0</td>\n      <td>56.0</td>\n      <td>4.14</td>\n      <td>4.17</td>\n      <td>2.66</td>\n      <td>532</td>\n    </tr>\n    <tr>\n      <th>2</th>\n      <td>0.42</td>\n      <td>9.0</td>\n      <td>F</td>\n      <td>VS1</td>\n      <td>61.2</td>\n      <td>58.0</td>\n      <td>4.86</td>\n      <td>4.82</td>\n      <td>2.96</td>\n      <td>1103</td>\n    </tr>\n    <tr>\n      <th>3</th>\n      <td>0.26</td>\n      <td>10.0</td>\n      <td>H</td>\n      <td>IF</td>\n      <td>61.1</td>\n      <td>57.0</td>\n      <td>4.16</td>\n      <td>4.12</td>\n      <td>2.53</td>\n      <td>600</td>\n    </tr>\n    <tr>\n      <th>4</th>\n      <td>1.10</td>\n      <td>6.5</td>\n      <td>G</td>\n      <td>SI1</td>\n      <td>63.4</td>\n      <td>57.0</td>\n      <td>6.52</td>\n      <td>6.55</td>\n      <td>4.14</td>\n      <td>4997</td>\n    </tr>\n  </tbody>\n</table>\n</div>"
     },
     "metadata": {},
     "execution_count": 22
    }
   ],
   "source": [
    "df = diamond_df.copy()\n",
    "df.cut = df.cut.apply(DiamondEncoder.classify_cut)\n",
    "df.head()"
   ]
  },
  {
   "cell_type": "code",
   "execution_count": 23,
   "metadata": {},
   "outputs": [
    {
     "output_type": "execute_result",
     "data": {
      "text/plain": [
       "   carat   cut  color clarity  depth  table     x     y     z  price\n",
       "0   1.21  10.0    8.0     VS2   63.0   57.0  6.73  6.70  4.23   6134\n",
       "1   0.28   8.0   10.0    VVS2   64.0   56.0  4.14  4.17  2.66    532\n",
       "2   0.42   9.0    9.0     VS1   61.2   58.0  4.86  4.82  2.96   1103\n",
       "3   0.26  10.0    8.0      IF   61.1   57.0  4.16  4.12  2.53    600\n",
       "4   1.10   6.5    8.5     SI1   63.4   57.0  6.52  6.55  4.14   4997"
      ],
      "text/html": "<div>\n<style scoped>\n    .dataframe tbody tr th:only-of-type {\n        vertical-align: middle;\n    }\n\n    .dataframe tbody tr th {\n        vertical-align: top;\n    }\n\n    .dataframe thead th {\n        text-align: right;\n    }\n</style>\n<table border=\"1\" class=\"dataframe\">\n  <thead>\n    <tr style=\"text-align: right;\">\n      <th></th>\n      <th>carat</th>\n      <th>cut</th>\n      <th>color</th>\n      <th>clarity</th>\n      <th>depth</th>\n      <th>table</th>\n      <th>x</th>\n      <th>y</th>\n      <th>z</th>\n      <th>price</th>\n    </tr>\n  </thead>\n  <tbody>\n    <tr>\n      <th>0</th>\n      <td>1.21</td>\n      <td>10.0</td>\n      <td>8.0</td>\n      <td>VS2</td>\n      <td>63.0</td>\n      <td>57.0</td>\n      <td>6.73</td>\n      <td>6.70</td>\n      <td>4.23</td>\n      <td>6134</td>\n    </tr>\n    <tr>\n      <th>1</th>\n      <td>0.28</td>\n      <td>8.0</td>\n      <td>10.0</td>\n      <td>VVS2</td>\n      <td>64.0</td>\n      <td>56.0</td>\n      <td>4.14</td>\n      <td>4.17</td>\n      <td>2.66</td>\n      <td>532</td>\n    </tr>\n    <tr>\n      <th>2</th>\n      <td>0.42</td>\n      <td>9.0</td>\n      <td>9.0</td>\n      <td>VS1</td>\n      <td>61.2</td>\n      <td>58.0</td>\n      <td>4.86</td>\n      <td>4.82</td>\n      <td>2.96</td>\n      <td>1103</td>\n    </tr>\n    <tr>\n      <th>3</th>\n      <td>0.26</td>\n      <td>10.0</td>\n      <td>8.0</td>\n      <td>IF</td>\n      <td>61.1</td>\n      <td>57.0</td>\n      <td>4.16</td>\n      <td>4.12</td>\n      <td>2.53</td>\n      <td>600</td>\n    </tr>\n    <tr>\n      <th>4</th>\n      <td>1.10</td>\n      <td>6.5</td>\n      <td>8.5</td>\n      <td>SI1</td>\n      <td>63.4</td>\n      <td>57.0</td>\n      <td>6.52</td>\n      <td>6.55</td>\n      <td>4.14</td>\n      <td>4997</td>\n    </tr>\n  </tbody>\n</table>\n</div>"
     },
     "metadata": {},
     "execution_count": 23
    }
   ],
   "source": [
    "df.color = df.color.apply(DiamondEncoder.classify_color)\n",
    "df.head()"
   ]
  },
  {
   "cell_type": "code",
   "execution_count": 24,
   "metadata": {},
   "outputs": [
    {
     "output_type": "execute_result",
     "data": {
      "text/plain": [
       "   carat   cut  color  clarity  depth  table     x     y     z  price\n",
       "0   1.21  10.0    8.0      6.0   63.0   57.0  6.73  6.70  4.23   6134\n",
       "1   0.28   8.0   10.0      8.0   64.0   56.0  4.14  4.17  2.66    532\n",
       "2   0.42   9.0    9.0      7.0   61.2   58.0  4.86  4.82  2.96   1103\n",
       "3   0.26  10.0    8.0     10.0   61.1   57.0  4.16  4.12  2.53    600\n",
       "4   1.10   6.5    8.5      5.0   63.4   57.0  6.52  6.55  4.14   4997"
      ],
      "text/html": "<div>\n<style scoped>\n    .dataframe tbody tr th:only-of-type {\n        vertical-align: middle;\n    }\n\n    .dataframe tbody tr th {\n        vertical-align: top;\n    }\n\n    .dataframe thead th {\n        text-align: right;\n    }\n</style>\n<table border=\"1\" class=\"dataframe\">\n  <thead>\n    <tr style=\"text-align: right;\">\n      <th></th>\n      <th>carat</th>\n      <th>cut</th>\n      <th>color</th>\n      <th>clarity</th>\n      <th>depth</th>\n      <th>table</th>\n      <th>x</th>\n      <th>y</th>\n      <th>z</th>\n      <th>price</th>\n    </tr>\n  </thead>\n  <tbody>\n    <tr>\n      <th>0</th>\n      <td>1.21</td>\n      <td>10.0</td>\n      <td>8.0</td>\n      <td>6.0</td>\n      <td>63.0</td>\n      <td>57.0</td>\n      <td>6.73</td>\n      <td>6.70</td>\n      <td>4.23</td>\n      <td>6134</td>\n    </tr>\n    <tr>\n      <th>1</th>\n      <td>0.28</td>\n      <td>8.0</td>\n      <td>10.0</td>\n      <td>8.0</td>\n      <td>64.0</td>\n      <td>56.0</td>\n      <td>4.14</td>\n      <td>4.17</td>\n      <td>2.66</td>\n      <td>532</td>\n    </tr>\n    <tr>\n      <th>2</th>\n      <td>0.42</td>\n      <td>9.0</td>\n      <td>9.0</td>\n      <td>7.0</td>\n      <td>61.2</td>\n      <td>58.0</td>\n      <td>4.86</td>\n      <td>4.82</td>\n      <td>2.96</td>\n      <td>1103</td>\n    </tr>\n    <tr>\n      <th>3</th>\n      <td>0.26</td>\n      <td>10.0</td>\n      <td>8.0</td>\n      <td>10.0</td>\n      <td>61.1</td>\n      <td>57.0</td>\n      <td>4.16</td>\n      <td>4.12</td>\n      <td>2.53</td>\n      <td>600</td>\n    </tr>\n    <tr>\n      <th>4</th>\n      <td>1.10</td>\n      <td>6.5</td>\n      <td>8.5</td>\n      <td>5.0</td>\n      <td>63.4</td>\n      <td>57.0</td>\n      <td>6.52</td>\n      <td>6.55</td>\n      <td>4.14</td>\n      <td>4997</td>\n    </tr>\n  </tbody>\n</table>\n</div>"
     },
     "metadata": {},
     "execution_count": 24
    }
   ],
   "source": [
    "df.clarity = df.clarity.apply(DiamondEncoder.classify_clarity)\n",
    "df.head()"
   ]
  },
  {
   "cell_type": "code",
   "execution_count": 25,
   "metadata": {},
   "outputs": [
    {
     "output_type": "execute_result",
     "data": {
      "text/plain": [
       "carat      float64\n",
       "cut        float64\n",
       "color      float64\n",
       "clarity    float64\n",
       "depth      float64\n",
       "table      float64\n",
       "x          float64\n",
       "y          float64\n",
       "z          float64\n",
       "price        int64\n",
       "dtype: object"
      ]
     },
     "metadata": {},
     "execution_count": 25
    }
   ],
   "source": [
    "df.dtypes"
   ]
  },
  {
   "cell_type": "code",
   "execution_count": 26,
   "metadata": {},
   "outputs": [],
   "source": [
    "X = np.array(df.loc[:, :'z'])\n",
    "y = np.array(df.price)"
   ]
  },
  {
   "cell_type": "code",
   "execution_count": 27,
   "metadata": {},
   "outputs": [],
   "source": [
    "X_train, X_test, y_train, y_test = train_test_split(X, y, test_size = 0.20, random_state = 42)"
   ]
  },
  {
   "cell_type": "code",
   "execution_count": 28,
   "metadata": {},
   "outputs": [],
   "source": [
    "lm = LinearRegression()"
   ]
  },
  {
   "cell_type": "code",
   "execution_count": 29,
   "metadata": {},
   "outputs": [
    {
     "output_type": "execute_result",
     "data": {
      "text/plain": [
       "0.9108546712559104"
      ]
     },
     "metadata": {},
     "execution_count": 29
    }
   ],
   "source": [
    "lm.fit(X_train, y_train)\n",
    "lm.score(X_train, y_train)"
   ]
  },
  {
   "cell_type": "code",
   "execution_count": 30,
   "metadata": {},
   "outputs": [
    {
     "output_type": "execute_result",
     "data": {
      "text/plain": [
       "0.9130776314782224"
      ]
     },
     "metadata": {},
     "execution_count": 30
    }
   ],
   "source": [
    "lm.score(X_test, y_test)"
   ]
  },
  {
   "cell_type": "code",
   "execution_count": 31,
   "metadata": {},
   "outputs": [
    {
     "output_type": "stream",
     "name": "stdout",
     "text": [
      "Train RMSE: 1188.591931255598\nTest_RMSE: 1175.1838902646157\n"
     ]
    }
   ],
   "source": [
    "def get_RMSE(model, X, y, random_state=42):\n",
    "    X_train, X_test, y_train, y_test = train_test_split(X, y, test_size = 0.20, random_state = 42)\n",
    "    y_pred = model.predict(X_train)\n",
    "    train_rmse = np.sqrt(mean_squared_error(y_train, y_pred))\n",
    "    y_pred_test = model.predict(X_test)\n",
    "    test_rmse = np.sqrt(mean_squared_error(y_test, y_pred_test))\n",
    "    print('Train RMSE:', train_rmse)\n",
    "    print('Test_RMSE:', test_rmse)\n",
    "\n",
    "get_RMSE(lm, X, y)"
   ]
  },
  {
   "cell_type": "code",
   "execution_count": 32,
   "metadata": {},
   "outputs": [],
   "source": [
    "from sklearn.preprocessing import PolynomialFeatures\n",
    "from sklearn.pipeline import Pipeline\n",
    "from sklearn.model_selection import GridSearchCV"
   ]
  },
  {
   "cell_type": "code",
   "execution_count": 15,
   "metadata": {},
   "outputs": [],
   "source": [
    "degree = 2\n",
    "poly_reg = Pipeline(steps=[\n",
    "    ('features', PolynomialFeatures(degree=degree)),\n",
    "    ('linreg', LinearRegression())\n",
    "])\n",
    "\n",
    "poly_params = {'features__degree':[2, 3, 4, 5, 6, 7, 8, 9, 10]}\n",
    "\n",
    "gs_poly = GridSearchCV(poly_reg,\n",
    "                         poly_params,\n",
    "                         cv = 10,\n",
    "                         scoring = 'r2',\n",
    "                         verbose=100,\n",
    "                         n_jobs=-1,\n",
    "                         error_score='raise')"
   ]
  },
  {
   "cell_type": "code",
   "execution_count": 74,
   "metadata": {},
   "outputs": [
    {
     "output_type": "stream",
     "name": "stdout",
     "text": [
      "Fitting 10 folds for each of 9 candidates, totalling 90 fits\n"
     ]
    },
    {
     "output_type": "execute_result",
     "data": {
      "text/plain": [
       "GridSearchCV(cv=10, error_score='raise',\n",
       "             estimator=Pipeline(steps=[('features', PolynomialFeatures()),\n",
       "                                       ('linreg', LinearRegression())]),\n",
       "             n_jobs=-1,\n",
       "             param_grid={'features__degree': [2, 3, 4, 5, 6, 7, 8, 9, 10]},\n",
       "             scoring='r2', verbose=100)"
      ]
     },
     "metadata": {},
     "execution_count": 74
    }
   ],
   "source": [
    "gs_poly.fit(X_train, y_train)"
   ]
  },
  {
   "cell_type": "code",
   "execution_count": 16,
   "metadata": {},
   "outputs": [
    {
     "output_type": "error",
     "ename": "AttributeError",
     "evalue": "'GridSearchCV' object has no attribute 'best_estimator_'",
     "traceback": [
      "\u001b[1;31m---------------------------------------------------------------------------\u001b[0m",
      "\u001b[1;31mAttributeError\u001b[0m                            Traceback (most recent call last)",
      "\u001b[1;32m<ipython-input-16-8e15b2177bcb>\u001b[0m in \u001b[0;36m<module>\u001b[1;34m\u001b[0m\n\u001b[1;32m----> 1\u001b[1;33m \u001b[0mgs_poly\u001b[0m\u001b[1;33m.\u001b[0m\u001b[0mbest_estimator_\u001b[0m\u001b[1;33m.\u001b[0m\u001b[0mscore\u001b[0m\u001b[1;33m(\u001b[0m\u001b[0mX_train\u001b[0m\u001b[1;33m,\u001b[0m \u001b[0my_train\u001b[0m\u001b[1;33m)\u001b[0m\u001b[1;33m\u001b[0m\u001b[1;33m\u001b[0m\u001b[0m\n\u001b[0m",
      "\u001b[1;31mAttributeError\u001b[0m: 'GridSearchCV' object has no attribute 'best_estimator_'"
     ]
    }
   ],
   "source": [
    "gs_poly.best_estimator_.score(X_train, y_train)"
   ]
  },
  {
   "cell_type": "code",
   "execution_count": 80,
   "metadata": {},
   "outputs": [
    {
     "output_type": "stream",
     "name": "stdout",
     "text": [
      "Train RMSE: 1430.9911243498082\nTest_RMSE: 1605.141958404413\n"
     ]
    }
   ],
   "source": [
    "get_RMSE(gs_poly.best_estimator_, X, y)"
   ]
  },
  {
   "cell_type": "code",
   "execution_count": 17,
   "metadata": {},
   "outputs": [
    {
     "output_type": "execute_result",
     "data": {
      "text/plain": [
       "0.964257375496373"
      ]
     },
     "metadata": {},
     "execution_count": 17
    }
   ],
   "source": [
    "poly_reg = Pipeline(steps=[\n",
    "    ('features', PolynomialFeatures(degree=2)),\n",
    "    ('linreg', LinearRegression())\n",
    "])\n",
    "\n",
    "poly_reg.fit(X_train, y_train)\n",
    "poly_reg.score(X_train, y_train)"
   ]
  },
  {
   "cell_type": "code",
   "execution_count": 18,
   "metadata": {},
   "outputs": [
    {
     "output_type": "stream",
     "name": "stdout",
     "text": [
      "Train RMSE: 752.621640440491\nTest_RMSE: 765.1168507012866\n"
     ]
    }
   ],
   "source": [
    "get_RMSE(poly_reg, X, y)"
   ]
  },
  {
   "cell_type": "code",
   "execution_count": 24,
   "metadata": {},
   "outputs": [
    {
     "output_type": "execute_result",
     "data": {
      "text/plain": [
       "Pipeline(steps=[('features', PolynomialFeatures()),\n",
       "                ('linreg', LinearRegression())])"
      ]
     },
     "metadata": {},
     "execution_count": 24
    }
   ],
   "source": [
    "poly_reg.fit(X, y)"
   ]
  },
  {
   "cell_type": "code",
   "execution_count": 33,
   "metadata": {},
   "outputs": [],
   "source": [
    "def chequeator(df_to_submit):\n",
    "    \"\"\"\n",
    "    Esta función se asegura de que tu submission tenga la forma requerida por Kaggle.\n",
    "    \n",
    "    Si es así, se guardará el dataframe en un `csv` y estará listo para subir a Kaggle.\n",
    "    \n",
    "    Si no, LEE EL MENSAJE Y HAZLE CASO.\n",
    "    \n",
    "    Si aún no:\n",
    "    - apaga tu ordenador, \n",
    "    - date una vuelta, \n",
    "    - enciendelo otra vez, \n",
    "    - abre este notebook y \n",
    "    - leelo todo de nuevo. \n",
    "    Todos nos merecemos una segunda oportunidad. También tú.\n",
    "    \"\"\"\n",
    "    sample = pd.read_csv(\"sample_submission.csv\")\n",
    "    if df_to_submit.shape == sample.shape:\n",
    "        if df_to_submit.columns.all() == sample.columns.all():\n",
    "            if df_to_submit.id.all() == sample.id.all():\n",
    "                print(\"You're ready to submit!\")\n",
    "                df_to_submit.to_csv(\"submission.csv\", index = False) #muy importante el index = False\n",
    "                urllib.request.urlretrieve(\"https://i.kym-cdn.com/photos/images/facebook/000/747/556/27a.jpg\", \"gfg.png\")     \n",
    "                img = Image.open(\"gfg.png\")\n",
    "                img.show()   \n",
    "            else:\n",
    "                print(\"Check the ids and try again\")\n",
    "        else:\n",
    "            print(\"Check the names of the columns and try again\")\n",
    "    else:\n",
    "        print(\"Check the number of rows and/or columns and try again\")\n",
    "        print(\"\\nMensaje secreto de Clara: No me puedo creer que después de todo este notebook hayas hecho algún cambio en las filas de `diamonds_test.csv`. Lloro.\")"
   ]
  },
  {
   "cell_type": "code",
   "execution_count": 34,
   "metadata": {},
   "outputs": [],
   "source": [
    "filepath = 'diamonds_test.csv'\n",
    "\n",
    "def prepare_test(model, filepath):\n",
    "    df = pd.read_csv(filepath, index_col=0)\n",
    "    df.cut = df.cut.apply(DiamondEncoder.classify_cut)\n",
    "    df.color = df.color.apply(DiamondEncoder.classify_color)\n",
    "    df.clarity = df.clarity.apply(DiamondEncoder.classify_clarity)\n",
    "    X = df.loc[:, :'z']\n",
    "\n",
    "    predictions_submit = model.predict(X)\n",
    "    submission = pd.DataFrame({\"id\": range(len(predictions_submit)), \"price\": predictions_submit})\n",
    "    return submission"
   ]
  },
  {
   "cell_type": "code",
   "execution_count": 30,
   "metadata": {},
   "outputs": [
    {
     "output_type": "stream",
     "name": "stdout",
     "text": [
      "You're ready to submit!\n"
     ]
    }
   ],
   "source": [
    "submission = prepare_test(poly_reg, filepath)\n",
    "chequeator(submission)"
   ]
  },
  {
   "cell_type": "code",
   "execution_count": 35,
   "metadata": {},
   "outputs": [],
   "source": [
    "import pickle\n",
    "from sklearn.svm import SVR\n",
    "from sklearn.preprocessing import StandardScaler\n",
    "\n",
    "svr_model = Pipeline(steps=[\n",
    "    ('scaler', StandardScaler()),\n",
    "    ('svr', SVR())\n",
    "])\n",
    "\n",
    "svr_params = {\n",
    "    'svr__kernel':['rbf','linear','poly', 'sigmoid'],\n",
    "    'svr__C':[0.001, 0.1, 0.5, 1, 5, 10],\n",
    "    'svr__gamma':('scale', 'auto')\n",
    "}\n",
    "\n",
    "gs_svr = GridSearchCV(svr_model,\n",
    "                         svr_params,\n",
    "                         cv = 10,\n",
    "                         scoring = 'r2',\n",
    "                         verbose=100,\n",
    "                         n_jobs=-1,\n",
    "                         error_score='raise')"
   ]
  },
  {
   "cell_type": "code",
   "execution_count": 18,
   "metadata": {},
   "outputs": [
    {
     "output_type": "stream",
     "name": "stdout",
     "text": [
      "Fitting 10 folds for each of 48 candidates, totalling 480 fits\n"
     ]
    }
   ],
   "source": [
    "gs_svr.fit(X_train, y_train)\n",
    "\n",
    "filename = 'svr_model.model'\n",
    "\n",
    "with open(filename, 'wb') as archivo_salida:\n",
    "    pickle.dump(gs_svr, archivo_salida)"
   ]
  },
  {
   "cell_type": "code",
   "execution_count": 20,
   "metadata": {},
   "outputs": [
    {
     "output_type": "execute_result",
     "data": {
      "text/plain": [
       "0.8892195037995919"
      ]
     },
     "metadata": {},
     "execution_count": 20
    }
   ],
   "source": [
    "gs_svr.best_estimator_.score(X_train, y_train)"
   ]
  },
  {
   "cell_type": "code",
   "execution_count": 21,
   "metadata": {},
   "outputs": [
    {
     "output_type": "stream",
     "name": "stdout",
     "text": [
      "Train RMSE: 1324.9977333320358\nTest_RMSE: 1310.472448793934\n"
     ]
    }
   ],
   "source": [
    "best_svr = gs_svr.best_estimator_\n",
    "get_RMSE(best_svr, X, y)"
   ]
  },
  {
   "cell_type": "code",
   "execution_count": 22,
   "metadata": {},
   "outputs": [
    {
     "output_type": "execute_result",
     "data": {
      "text/plain": [
       "40345"
      ]
     },
     "metadata": {},
     "execution_count": 22
    }
   ],
   "source": [
    "len(df)"
   ]
  },
  {
   "cell_type": "code",
   "execution_count": 24,
   "metadata": {},
   "outputs": [
    {
     "output_type": "execute_result",
     "data": {
      "text/plain": [
       "     carat   cut  color  clarity  depth  table     x     y     z  price\n",
       "0     1.21  10.0    8.0      6.0   63.0   57.0  6.73  6.70  4.23   6134\n",
       "1     0.28   8.0   10.0      8.0   64.0   56.0  4.14  4.17  2.66    532\n",
       "2     0.42   9.0    9.0      7.0   61.2   58.0  4.86  4.82  2.96   1103\n",
       "3     0.26  10.0    8.0     10.0   61.1   57.0  4.16  4.12  2.53    600\n",
       "4     1.10   6.5    8.5      5.0   63.4   57.0  6.52  6.55  4.14   4997\n",
       "..     ...   ...    ...      ...    ...    ...   ...   ...   ...    ...\n",
       "995   1.50   4.0    9.0      6.0   65.3   57.0  7.15  7.12  4.66  13853\n",
       "996   0.50   8.0    9.0      5.0   62.7   61.0  5.01  5.07  3.16   1197\n",
       "997   1.20  10.0    8.5      6.0   61.9   57.0  6.86  6.83  4.24   7930\n",
       "998   0.72   8.0    8.5      5.0   63.1   57.0  5.71  5.67  3.59   2385\n",
       "999   0.80  10.0    9.0      6.0   62.7   54.0  5.95  5.91  3.72   3369\n",
       "\n",
       "[1000 rows x 10 columns]"
      ],
      "text/html": "<div>\n<style scoped>\n    .dataframe tbody tr th:only-of-type {\n        vertical-align: middle;\n    }\n\n    .dataframe tbody tr th {\n        vertical-align: top;\n    }\n\n    .dataframe thead th {\n        text-align: right;\n    }\n</style>\n<table border=\"1\" class=\"dataframe\">\n  <thead>\n    <tr style=\"text-align: right;\">\n      <th></th>\n      <th>carat</th>\n      <th>cut</th>\n      <th>color</th>\n      <th>clarity</th>\n      <th>depth</th>\n      <th>table</th>\n      <th>x</th>\n      <th>y</th>\n      <th>z</th>\n      <th>price</th>\n    </tr>\n  </thead>\n  <tbody>\n    <tr>\n      <th>0</th>\n      <td>1.21</td>\n      <td>10.0</td>\n      <td>8.0</td>\n      <td>6.0</td>\n      <td>63.0</td>\n      <td>57.0</td>\n      <td>6.73</td>\n      <td>6.70</td>\n      <td>4.23</td>\n      <td>6134</td>\n    </tr>\n    <tr>\n      <th>1</th>\n      <td>0.28</td>\n      <td>8.0</td>\n      <td>10.0</td>\n      <td>8.0</td>\n      <td>64.0</td>\n      <td>56.0</td>\n      <td>4.14</td>\n      <td>4.17</td>\n      <td>2.66</td>\n      <td>532</td>\n    </tr>\n    <tr>\n      <th>2</th>\n      <td>0.42</td>\n      <td>9.0</td>\n      <td>9.0</td>\n      <td>7.0</td>\n      <td>61.2</td>\n      <td>58.0</td>\n      <td>4.86</td>\n      <td>4.82</td>\n      <td>2.96</td>\n      <td>1103</td>\n    </tr>\n    <tr>\n      <th>3</th>\n      <td>0.26</td>\n      <td>10.0</td>\n      <td>8.0</td>\n      <td>10.0</td>\n      <td>61.1</td>\n      <td>57.0</td>\n      <td>4.16</td>\n      <td>4.12</td>\n      <td>2.53</td>\n      <td>600</td>\n    </tr>\n    <tr>\n      <th>4</th>\n      <td>1.10</td>\n      <td>6.5</td>\n      <td>8.5</td>\n      <td>5.0</td>\n      <td>63.4</td>\n      <td>57.0</td>\n      <td>6.52</td>\n      <td>6.55</td>\n      <td>4.14</td>\n      <td>4997</td>\n    </tr>\n    <tr>\n      <th>...</th>\n      <td>...</td>\n      <td>...</td>\n      <td>...</td>\n      <td>...</td>\n      <td>...</td>\n      <td>...</td>\n      <td>...</td>\n      <td>...</td>\n      <td>...</td>\n      <td>...</td>\n    </tr>\n    <tr>\n      <th>995</th>\n      <td>1.50</td>\n      <td>4.0</td>\n      <td>9.0</td>\n      <td>6.0</td>\n      <td>65.3</td>\n      <td>57.0</td>\n      <td>7.15</td>\n      <td>7.12</td>\n      <td>4.66</td>\n      <td>13853</td>\n    </tr>\n    <tr>\n      <th>996</th>\n      <td>0.50</td>\n      <td>8.0</td>\n      <td>9.0</td>\n      <td>5.0</td>\n      <td>62.7</td>\n      <td>61.0</td>\n      <td>5.01</td>\n      <td>5.07</td>\n      <td>3.16</td>\n      <td>1197</td>\n    </tr>\n    <tr>\n      <th>997</th>\n      <td>1.20</td>\n      <td>10.0</td>\n      <td>8.5</td>\n      <td>6.0</td>\n      <td>61.9</td>\n      <td>57.0</td>\n      <td>6.86</td>\n      <td>6.83</td>\n      <td>4.24</td>\n      <td>7930</td>\n    </tr>\n    <tr>\n      <th>998</th>\n      <td>0.72</td>\n      <td>8.0</td>\n      <td>8.5</td>\n      <td>5.0</td>\n      <td>63.1</td>\n      <td>57.0</td>\n      <td>5.71</td>\n      <td>5.67</td>\n      <td>3.59</td>\n      <td>2385</td>\n    </tr>\n    <tr>\n      <th>999</th>\n      <td>0.80</td>\n      <td>10.0</td>\n      <td>9.0</td>\n      <td>6.0</td>\n      <td>62.7</td>\n      <td>54.0</td>\n      <td>5.95</td>\n      <td>5.91</td>\n      <td>3.72</td>\n      <td>3369</td>\n    </tr>\n  </tbody>\n</table>\n<p>1000 rows × 10 columns</p>\n</div>"
     },
     "metadata": {},
     "execution_count": 24
    }
   ],
   "source": [
    "reduced_df = df.loc[:999]\n",
    "reduced_df"
   ]
  },
  {
   "cell_type": "code",
   "execution_count": 36,
   "metadata": {},
   "outputs": [],
   "source": [
    "from sklearn.ensemble import RandomForestRegressor\n",
    "import xgboost as xgb\n",
    "from catboost import CatBoost\n",
    "\n",
    "pipe = Pipeline(steps=[\n",
    "    ('model', RandomForestRegressor())\n",
    "])\n",
    "\n",
    "forest_params = {'model': [RandomForestRegressor()]}\n",
    "xg_params = {'model': [xgb.XGBClassifier()]}\n",
    "cat_params = {'model': [CatBoost()]}\n",
    "\n",
    "search_space = [forest_params, xg_params, cat_params]\n",
    "\n",
    "gs_top = GridSearchCV(pipe,\n",
    "                         search_space,\n",
    "                         cv = 10,\n",
    "                         scoring = 'r2',\n",
    "                         verbose=100,\n",
    "                         n_jobs=-1,\n",
    "                         error_score='raise')"
   ]
  },
  {
   "cell_type": "code",
   "execution_count": 33,
   "metadata": {},
   "outputs": [],
   "source": [
    "reduced_df = df.loc[:999]\n",
    "Xr = np.array(reduced_df.loc[:, :'z'])\n",
    "yr = np.array(reduced_df.price)\n",
    "\n",
    "X_trainR, X_testR, y_trainR, y_testR = train_test_split(Xr, yr, test_size=0.2, random_state=42)"
   ]
  },
  {
   "cell_type": "code",
   "execution_count": 42,
   "metadata": {
    "tags": []
   },
   "outputs": [],
   "source": [
    "gs_top.fit(X_trainR, y_trainR)\n",
    "\n",
    "filename = 'top_models.model'\n",
    "\n",
    "with open(filename, 'wb') as archivo_salida:\n",
    "    pickle.dump(gs_top, archivo_salida)"
   ]
  },
  {
   "cell_type": "code",
   "execution_count": 35,
   "metadata": {},
   "outputs": [
    {
     "output_type": "execute_result",
     "data": {
      "text/plain": [
       "Pipeline(steps=[('model',\n",
       "                 <catboost.core.CatBoost object at 0x000001BA1492CF48>)])"
      ]
     },
     "metadata": {},
     "execution_count": 35
    }
   ],
   "source": [
    "gs_top.best_estimator_"
   ]
  },
  {
   "cell_type": "code",
   "execution_count": 37,
   "metadata": {},
   "outputs": [],
   "source": [
    "cat_model = gs_top.best_estimator_"
   ]
  },
  {
   "cell_type": "code",
   "execution_count": 38,
   "metadata": {},
   "outputs": [
    {
     "output_type": "stream",
     "name": "stdout",
     "text": [
      "Train RMSE: 723.4527377062775\nTest_RMSE: 740.1343200043981\n"
     ]
    }
   ],
   "source": [
    "get_RMSE(cat_model, X, y)"
   ]
  },
  {
   "cell_type": "code",
   "execution_count": 39,
   "metadata": {
    "tags": [
     "outputPrepend"
    ]
   },
   "outputs": [
    {
     "output_type": "stream",
     "name": "stdout",
     "text": [
      "aining: 1.88s\n",
      "629:\tlearn: 451.4336937\ttotal: 3.2s\tremaining: 1.88s\n",
      "630:\tlearn: 451.3912767\ttotal: 3.2s\tremaining: 1.87s\n",
      "631:\tlearn: 451.3904137\ttotal: 3.21s\tremaining: 1.87s\n",
      "632:\tlearn: 451.3763739\ttotal: 3.21s\tremaining: 1.86s\n",
      "633:\tlearn: 451.2771775\ttotal: 3.21s\tremaining: 1.85s\n",
      "634:\tlearn: 451.1745167\ttotal: 3.22s\tremaining: 1.85s\n",
      "635:\tlearn: 451.0535349\ttotal: 3.22s\tremaining: 1.84s\n",
      "636:\tlearn: 450.9399898\ttotal: 3.23s\tremaining: 1.84s\n",
      "637:\tlearn: 450.8316229\ttotal: 3.23s\tremaining: 1.83s\n",
      "638:\tlearn: 450.7874885\ttotal: 3.24s\tremaining: 1.83s\n",
      "639:\tlearn: 450.5973186\ttotal: 3.24s\tremaining: 1.82s\n",
      "640:\tlearn: 450.4768592\ttotal: 3.25s\tremaining: 1.82s\n",
      "641:\tlearn: 450.3280631\ttotal: 3.25s\tremaining: 1.81s\n",
      "642:\tlearn: 450.2118002\ttotal: 3.25s\tremaining: 1.81s\n",
      "643:\tlearn: 450.1076077\ttotal: 3.26s\tremaining: 1.8s\n",
      "644:\tlearn: 450.0428544\ttotal: 3.26s\tremaining: 1.8s\n",
      "645:\tlearn: 449.9551632\ttotal: 3.27s\tremaining: 1.79s\n",
      "646:\tlearn: 449.8426866\ttotal: 3.27s\tremaining: 1.78s\n",
      "647:\tlearn: 449.7727475\ttotal: 3.28s\tremaining: 1.78s\n",
      "648:\tlearn: 449.6337326\ttotal: 3.28s\tremaining: 1.77s\n",
      "649:\tlearn: 449.5559325\ttotal: 3.29s\tremaining: 1.77s\n",
      "650:\tlearn: 449.3878754\ttotal: 3.29s\tremaining: 1.76s\n",
      "651:\tlearn: 449.3079928\ttotal: 3.3s\tremaining: 1.76s\n",
      "652:\tlearn: 449.1122294\ttotal: 3.3s\tremaining: 1.75s\n",
      "653:\tlearn: 449.0283411\ttotal: 3.31s\tremaining: 1.75s\n",
      "654:\tlearn: 448.8903133\ttotal: 3.31s\tremaining: 1.74s\n",
      "655:\tlearn: 448.7151600\ttotal: 3.32s\tremaining: 1.74s\n",
      "656:\tlearn: 448.6952846\ttotal: 3.32s\tremaining: 1.73s\n",
      "657:\tlearn: 448.6365629\ttotal: 3.33s\tremaining: 1.73s\n",
      "658:\tlearn: 448.5206953\ttotal: 3.33s\tremaining: 1.72s\n",
      "659:\tlearn: 448.5199215\ttotal: 3.33s\tremaining: 1.72s\n",
      "660:\tlearn: 448.4276860\ttotal: 3.34s\tremaining: 1.71s\n",
      "661:\tlearn: 448.3172264\ttotal: 3.34s\tremaining: 1.71s\n",
      "662:\tlearn: 448.1700493\ttotal: 3.35s\tremaining: 1.7s\n",
      "663:\tlearn: 448.0910693\ttotal: 3.35s\tremaining: 1.7s\n",
      "664:\tlearn: 448.0033018\ttotal: 3.36s\tremaining: 1.69s\n",
      "665:\tlearn: 447.9385989\ttotal: 3.36s\tremaining: 1.69s\n",
      "666:\tlearn: 447.8308215\ttotal: 3.37s\tremaining: 1.68s\n",
      "667:\tlearn: 447.7360615\ttotal: 3.37s\tremaining: 1.67s\n",
      "668:\tlearn: 447.6622818\ttotal: 3.37s\tremaining: 1.67s\n",
      "669:\tlearn: 447.4139026\ttotal: 3.38s\tremaining: 1.66s\n",
      "670:\tlearn: 447.2535506\ttotal: 3.38s\tremaining: 1.66s\n",
      "671:\tlearn: 447.2354352\ttotal: 3.39s\tremaining: 1.65s\n",
      "672:\tlearn: 447.0908237\ttotal: 3.39s\tremaining: 1.65s\n",
      "673:\tlearn: 446.9540998\ttotal: 3.4s\tremaining: 1.64s\n",
      "674:\tlearn: 446.8232562\ttotal: 3.4s\tremaining: 1.64s\n",
      "675:\tlearn: 446.7354202\ttotal: 3.4s\tremaining: 1.63s\n",
      "676:\tlearn: 446.7046832\ttotal: 3.41s\tremaining: 1.63s\n",
      "677:\tlearn: 446.6826869\ttotal: 3.41s\tremaining: 1.62s\n",
      "678:\tlearn: 446.5430519\ttotal: 3.42s\tremaining: 1.62s\n",
      "679:\tlearn: 446.4311276\ttotal: 3.42s\tremaining: 1.61s\n",
      "680:\tlearn: 446.3227785\ttotal: 3.43s\tremaining: 1.6s\n",
      "681:\tlearn: 446.1618575\ttotal: 3.43s\tremaining: 1.6s\n",
      "682:\tlearn: 446.0647658\ttotal: 3.44s\tremaining: 1.59s\n",
      "683:\tlearn: 445.8425558\ttotal: 3.44s\tremaining: 1.59s\n",
      "684:\tlearn: 445.7569945\ttotal: 3.45s\tremaining: 1.58s\n",
      "685:\tlearn: 445.6345012\ttotal: 3.45s\tremaining: 1.58s\n",
      "686:\tlearn: 445.5073411\ttotal: 3.46s\tremaining: 1.57s\n",
      "687:\tlearn: 445.4675051\ttotal: 3.46s\tremaining: 1.57s\n",
      "688:\tlearn: 445.3007156\ttotal: 3.46s\tremaining: 1.56s\n",
      "689:\tlearn: 445.1722664\ttotal: 3.47s\tremaining: 1.56s\n",
      "690:\tlearn: 445.0063663\ttotal: 3.47s\tremaining: 1.55s\n",
      "691:\tlearn: 444.9642300\ttotal: 3.48s\tremaining: 1.55s\n",
      "692:\tlearn: 444.8684894\ttotal: 3.48s\tremaining: 1.54s\n",
      "693:\tlearn: 444.6229422\ttotal: 3.49s\tremaining: 1.54s\n",
      "694:\tlearn: 444.3716636\ttotal: 3.49s\tremaining: 1.53s\n",
      "695:\tlearn: 444.3599646\ttotal: 3.5s\tremaining: 1.53s\n",
      "696:\tlearn: 444.3029847\ttotal: 3.5s\tremaining: 1.52s\n",
      "697:\tlearn: 444.1807065\ttotal: 3.5s\tremaining: 1.52s\n",
      "698:\tlearn: 444.1181305\ttotal: 3.51s\tremaining: 1.51s\n",
      "699:\tlearn: 444.0038295\ttotal: 3.51s\tremaining: 1.5s\n",
      "700:\tlearn: 443.9063645\ttotal: 3.52s\tremaining: 1.5s\n",
      "701:\tlearn: 443.7757489\ttotal: 3.52s\tremaining: 1.5s\n",
      "702:\tlearn: 443.7561019\ttotal: 3.53s\tremaining: 1.49s\n",
      "703:\tlearn: 443.6608142\ttotal: 3.53s\tremaining: 1.48s\n",
      "704:\tlearn: 443.5559601\ttotal: 3.54s\tremaining: 1.48s\n",
      "705:\tlearn: 443.3765864\ttotal: 3.54s\tremaining: 1.47s\n",
      "706:\tlearn: 443.3321699\ttotal: 3.54s\tremaining: 1.47s\n",
      "707:\tlearn: 443.1295671\ttotal: 3.55s\tremaining: 1.46s\n",
      "708:\tlearn: 442.9702688\ttotal: 3.55s\tremaining: 1.46s\n",
      "709:\tlearn: 442.9296916\ttotal: 3.56s\tremaining: 1.45s\n",
      "710:\tlearn: 442.8871834\ttotal: 3.56s\tremaining: 1.45s\n",
      "711:\tlearn: 442.8580463\ttotal: 3.57s\tremaining: 1.44s\n",
      "712:\tlearn: 442.7522398\ttotal: 3.57s\tremaining: 1.44s\n",
      "713:\tlearn: 442.7163605\ttotal: 3.58s\tremaining: 1.43s\n",
      "714:\tlearn: 442.6988160\ttotal: 3.58s\tremaining: 1.43s\n",
      "715:\tlearn: 442.6020256\ttotal: 3.58s\tremaining: 1.42s\n",
      "716:\tlearn: 442.5153040\ttotal: 3.59s\tremaining: 1.42s\n",
      "717:\tlearn: 442.4692591\ttotal: 3.59s\tremaining: 1.41s\n",
      "718:\tlearn: 442.2879459\ttotal: 3.6s\tremaining: 1.41s\n",
      "719:\tlearn: 442.1979913\ttotal: 3.6s\tremaining: 1.4s\n",
      "720:\tlearn: 442.1440821\ttotal: 3.61s\tremaining: 1.4s\n",
      "721:\tlearn: 442.0315292\ttotal: 3.61s\tremaining: 1.39s\n",
      "722:\tlearn: 441.8710103\ttotal: 3.62s\tremaining: 1.39s\n",
      "723:\tlearn: 441.8246223\ttotal: 3.62s\tremaining: 1.38s\n",
      "724:\tlearn: 441.7349355\ttotal: 3.63s\tremaining: 1.38s\n",
      "725:\tlearn: 441.7010788\ttotal: 3.63s\tremaining: 1.37s\n",
      "726:\tlearn: 441.6615111\ttotal: 3.63s\tremaining: 1.36s\n",
      "727:\tlearn: 441.5706533\ttotal: 3.64s\tremaining: 1.36s\n",
      "728:\tlearn: 441.4645627\ttotal: 3.64s\tremaining: 1.35s\n",
      "729:\tlearn: 441.4337751\ttotal: 3.65s\tremaining: 1.35s\n",
      "730:\tlearn: 441.3375145\ttotal: 3.65s\tremaining: 1.34s\n",
      "731:\tlearn: 441.2491284\ttotal: 3.66s\tremaining: 1.34s\n",
      "732:\tlearn: 441.1556365\ttotal: 3.66s\tremaining: 1.33s\n",
      "733:\tlearn: 441.1133232\ttotal: 3.67s\tremaining: 1.33s\n",
      "734:\tlearn: 440.9741683\ttotal: 3.67s\tremaining: 1.32s\n",
      "735:\tlearn: 440.8859250\ttotal: 3.67s\tremaining: 1.32s\n",
      "736:\tlearn: 440.7116570\ttotal: 3.68s\tremaining: 1.31s\n",
      "737:\tlearn: 440.5897306\ttotal: 3.68s\tremaining: 1.31s\n",
      "738:\tlearn: 440.5159572\ttotal: 3.69s\tremaining: 1.3s\n",
      "739:\tlearn: 440.4302727\ttotal: 3.69s\tremaining: 1.3s\n",
      "740:\tlearn: 440.3303178\ttotal: 3.7s\tremaining: 1.29s\n",
      "741:\tlearn: 440.1925168\ttotal: 3.7s\tremaining: 1.29s\n",
      "742:\tlearn: 439.9976205\ttotal: 3.71s\tremaining: 1.28s\n",
      "743:\tlearn: 439.8155835\ttotal: 3.71s\tremaining: 1.28s\n",
      "744:\tlearn: 439.6643627\ttotal: 3.71s\tremaining: 1.27s\n",
      "745:\tlearn: 439.5857765\ttotal: 3.72s\tremaining: 1.27s\n",
      "746:\tlearn: 439.4095870\ttotal: 3.73s\tremaining: 1.26s\n",
      "747:\tlearn: 439.2728016\ttotal: 3.73s\tremaining: 1.26s\n",
      "748:\tlearn: 439.2220285\ttotal: 3.73s\tremaining: 1.25s\n",
      "749:\tlearn: 439.2068113\ttotal: 3.74s\tremaining: 1.25s\n",
      "750:\tlearn: 439.0635810\ttotal: 3.75s\tremaining: 1.24s\n",
      "751:\tlearn: 439.0021173\ttotal: 3.75s\tremaining: 1.24s\n",
      "752:\tlearn: 438.9287443\ttotal: 3.75s\tremaining: 1.23s\n",
      "753:\tlearn: 438.8311240\ttotal: 3.76s\tremaining: 1.23s\n",
      "754:\tlearn: 438.6888683\ttotal: 3.76s\tremaining: 1.22s\n",
      "755:\tlearn: 438.6647057\ttotal: 3.77s\tremaining: 1.22s\n",
      "756:\tlearn: 438.5800425\ttotal: 3.77s\tremaining: 1.21s\n",
      "757:\tlearn: 438.5160470\ttotal: 3.78s\tremaining: 1.21s\n",
      "758:\tlearn: 438.4135529\ttotal: 3.78s\tremaining: 1.2s\n",
      "759:\tlearn: 438.3236876\ttotal: 3.79s\tremaining: 1.2s\n",
      "760:\tlearn: 438.2476357\ttotal: 3.79s\tremaining: 1.19s\n",
      "761:\tlearn: 438.2284601\ttotal: 3.8s\tremaining: 1.19s\n",
      "762:\tlearn: 438.0996993\ttotal: 3.8s\tremaining: 1.18s\n",
      "763:\tlearn: 438.0096364\ttotal: 3.81s\tremaining: 1.18s\n",
      "764:\tlearn: 437.8845187\ttotal: 3.81s\tremaining: 1.17s\n",
      "765:\tlearn: 437.6405187\ttotal: 3.82s\tremaining: 1.17s\n",
      "766:\tlearn: 437.5044166\ttotal: 3.82s\tremaining: 1.16s\n",
      "767:\tlearn: 437.4706448\ttotal: 3.83s\tremaining: 1.16s\n",
      "768:\tlearn: 437.4365648\ttotal: 3.83s\tremaining: 1.15s\n",
      "769:\tlearn: 437.3683448\ttotal: 3.84s\tremaining: 1.15s\n",
      "770:\tlearn: 437.2065744\ttotal: 3.84s\tremaining: 1.14s\n",
      "771:\tlearn: 437.2056357\ttotal: 3.84s\tremaining: 1.14s\n",
      "772:\tlearn: 437.0817660\ttotal: 3.85s\tremaining: 1.13s\n",
      "773:\tlearn: 436.9296917\ttotal: 3.85s\tremaining: 1.13s\n",
      "774:\tlearn: 436.8519949\ttotal: 3.86s\tremaining: 1.12s\n",
      "775:\tlearn: 436.6992113\ttotal: 3.86s\tremaining: 1.11s\n",
      "776:\tlearn: 436.6046073\ttotal: 3.87s\tremaining: 1.11s\n",
      "777:\tlearn: 436.5324309\ttotal: 3.87s\tremaining: 1.1s\n",
      "778:\tlearn: 436.3511569\ttotal: 3.88s\tremaining: 1.1s\n",
      "779:\tlearn: 436.1884845\ttotal: 3.88s\tremaining: 1.09s\n",
      "780:\tlearn: 436.1077184\ttotal: 3.88s\tremaining: 1.09s\n",
      "781:\tlearn: 436.0036071\ttotal: 3.89s\tremaining: 1.08s\n",
      "782:\tlearn: 435.9253779\ttotal: 3.89s\tremaining: 1.08s\n",
      "783:\tlearn: 435.8286002\ttotal: 3.9s\tremaining: 1.07s\n",
      "784:\tlearn: 435.7503500\ttotal: 3.9s\tremaining: 1.07s\n",
      "785:\tlearn: 435.6818940\ttotal: 3.91s\tremaining: 1.06s\n",
      "786:\tlearn: 435.6356442\ttotal: 3.91s\tremaining: 1.06s\n",
      "787:\tlearn: 435.5369341\ttotal: 3.92s\tremaining: 1.05s\n",
      "788:\tlearn: 435.4651433\ttotal: 3.92s\tremaining: 1.05s\n",
      "789:\tlearn: 435.4127984\ttotal: 3.93s\tremaining: 1.04s\n",
      "790:\tlearn: 435.3475698\ttotal: 3.93s\tremaining: 1.04s\n",
      "791:\tlearn: 435.2671086\ttotal: 3.94s\tremaining: 1.03s\n",
      "792:\tlearn: 435.1612017\ttotal: 3.94s\tremaining: 1.03s\n",
      "793:\tlearn: 435.1376894\ttotal: 3.94s\tremaining: 1.02s\n",
      "794:\tlearn: 435.0793975\ttotal: 3.95s\tremaining: 1.02s\n",
      "795:\tlearn: 435.0560276\ttotal: 3.95s\tremaining: 1.01s\n",
      "796:\tlearn: 435.0398520\ttotal: 3.96s\tremaining: 1.01s\n",
      "797:\tlearn: 435.0065067\ttotal: 3.96s\tremaining: 1s\n",
      "798:\tlearn: 434.9474496\ttotal: 3.97s\tremaining: 998ms\n",
      "799:\tlearn: 434.9062939\ttotal: 3.97s\tremaining: 993ms\n",
      "800:\tlearn: 434.8256971\ttotal: 3.98s\tremaining: 988ms\n",
      "801:\tlearn: 434.7887008\ttotal: 3.98s\tremaining: 983ms\n",
      "802:\tlearn: 434.7383109\ttotal: 3.98s\tremaining: 978ms\n",
      "803:\tlearn: 434.6664818\ttotal: 3.99s\tremaining: 973ms\n",
      "804:\tlearn: 434.6093083\ttotal: 3.99s\tremaining: 968ms\n",
      "805:\tlearn: 434.5776440\ttotal: 4s\tremaining: 963ms\n",
      "806:\tlearn: 434.4869077\ttotal: 4s\tremaining: 958ms\n",
      "807:\tlearn: 434.4402985\ttotal: 4.01s\tremaining: 952ms\n",
      "808:\tlearn: 434.4134884\ttotal: 4.01s\tremaining: 947ms\n",
      "809:\tlearn: 434.3419446\ttotal: 4.02s\tremaining: 942ms\n",
      "810:\tlearn: 434.1981884\ttotal: 4.02s\tremaining: 937ms\n",
      "811:\tlearn: 434.0950366\ttotal: 4.03s\tremaining: 932ms\n",
      "812:\tlearn: 433.9989580\ttotal: 4.03s\tremaining: 927ms\n",
      "813:\tlearn: 433.9763208\ttotal: 4.03s\tremaining: 922ms\n",
      "814:\tlearn: 433.9376827\ttotal: 4.04s\tremaining: 917ms\n",
      "815:\tlearn: 433.8400857\ttotal: 4.04s\tremaining: 912ms\n",
      "816:\tlearn: 433.6857306\ttotal: 4.05s\tremaining: 907ms\n",
      "817:\tlearn: 433.6083162\ttotal: 4.05s\tremaining: 902ms\n",
      "818:\tlearn: 433.5569932\ttotal: 4.06s\tremaining: 896ms\n",
      "819:\tlearn: 433.4139824\ttotal: 4.06s\tremaining: 891ms\n",
      "820:\tlearn: 433.3869419\ttotal: 4.07s\tremaining: 886ms\n",
      "821:\tlearn: 433.2770222\ttotal: 4.07s\tremaining: 881ms\n",
      "822:\tlearn: 433.2379239\ttotal: 4.07s\tremaining: 876ms\n",
      "823:\tlearn: 433.2031486\ttotal: 4.08s\tremaining: 871ms\n",
      "824:\tlearn: 433.1429483\ttotal: 4.08s\tremaining: 866ms\n",
      "825:\tlearn: 433.1301053\ttotal: 4.09s\tremaining: 861ms\n",
      "826:\tlearn: 433.0088360\ttotal: 4.09s\tremaining: 856ms\n",
      "827:\tlearn: 432.8751304\ttotal: 4.1s\tremaining: 851ms\n",
      "828:\tlearn: 432.6885008\ttotal: 4.1s\tremaining: 846ms\n",
      "829:\tlearn: 432.5494873\ttotal: 4.1s\tremaining: 841ms\n",
      "830:\tlearn: 432.4767401\ttotal: 4.11s\tremaining: 836ms\n",
      "831:\tlearn: 432.2712988\ttotal: 4.11s\tremaining: 831ms\n",
      "832:\tlearn: 432.2113754\ttotal: 4.12s\tremaining: 826ms\n",
      "833:\tlearn: 432.1682641\ttotal: 4.12s\tremaining: 821ms\n",
      "834:\tlearn: 431.9620682\ttotal: 4.13s\tremaining: 816ms\n",
      "835:\tlearn: 431.8311247\ttotal: 4.13s\tremaining: 811ms\n",
      "836:\tlearn: 431.8114356\ttotal: 4.14s\tremaining: 806ms\n",
      "837:\tlearn: 431.7945052\ttotal: 4.14s\tremaining: 801ms\n",
      "838:\tlearn: 431.6401877\ttotal: 4.15s\tremaining: 796ms\n",
      "839:\tlearn: 431.6356870\ttotal: 4.15s\tremaining: 791ms\n",
      "840:\tlearn: 431.4874693\ttotal: 4.16s\tremaining: 786ms\n",
      "841:\tlearn: 431.4831604\ttotal: 4.16s\tremaining: 781ms\n",
      "842:\tlearn: 431.3396998\ttotal: 4.17s\tremaining: 776ms\n",
      "843:\tlearn: 431.3233627\ttotal: 4.17s\tremaining: 771ms\n",
      "844:\tlearn: 431.2442309\ttotal: 4.17s\tremaining: 766ms\n",
      "845:\tlearn: 431.2171970\ttotal: 4.18s\tremaining: 761ms\n",
      "846:\tlearn: 431.1018437\ttotal: 4.18s\tremaining: 756ms\n",
      "847:\tlearn: 431.0313217\ttotal: 4.19s\tremaining: 751ms\n",
      "848:\tlearn: 430.9913750\ttotal: 4.19s\tremaining: 746ms\n",
      "849:\tlearn: 430.9216499\ttotal: 4.2s\tremaining: 741ms\n",
      "850:\tlearn: 430.8495598\ttotal: 4.2s\tremaining: 736ms\n",
      "851:\tlearn: 430.8174211\ttotal: 4.21s\tremaining: 731ms\n",
      "852:\tlearn: 430.7027868\ttotal: 4.21s\tremaining: 726ms\n",
      "853:\tlearn: 430.6458745\ttotal: 4.21s\tremaining: 721ms\n",
      "854:\tlearn: 430.4638172\ttotal: 4.22s\tremaining: 716ms\n",
      "855:\tlearn: 430.3969916\ttotal: 4.22s\tremaining: 711ms\n",
      "856:\tlearn: 430.3458157\ttotal: 4.23s\tremaining: 706ms\n",
      "857:\tlearn: 430.2426127\ttotal: 4.23s\tremaining: 700ms\n",
      "858:\tlearn: 430.1108079\ttotal: 4.24s\tremaining: 695ms\n",
      "859:\tlearn: 429.9457848\ttotal: 4.24s\tremaining: 690ms\n",
      "860:\tlearn: 429.8225799\ttotal: 4.24s\tremaining: 685ms\n",
      "861:\tlearn: 429.6447880\ttotal: 4.25s\tremaining: 680ms\n",
      "862:\tlearn: 429.4931852\ttotal: 4.25s\tremaining: 675ms\n",
      "863:\tlearn: 429.4598074\ttotal: 4.26s\tremaining: 670ms\n",
      "864:\tlearn: 429.4295322\ttotal: 4.26s\tremaining: 665ms\n",
      "865:\tlearn: 429.4159406\ttotal: 4.27s\tremaining: 660ms\n",
      "866:\tlearn: 429.2958142\ttotal: 4.27s\tremaining: 655ms\n",
      "867:\tlearn: 429.2122335\ttotal: 4.28s\tremaining: 650ms\n",
      "868:\tlearn: 429.1345603\ttotal: 4.28s\tremaining: 645ms\n",
      "869:\tlearn: 429.0647469\ttotal: 4.28s\tremaining: 640ms\n",
      "870:\tlearn: 429.0382397\ttotal: 4.29s\tremaining: 635ms\n",
      "871:\tlearn: 428.9140281\ttotal: 4.29s\tremaining: 630ms\n",
      "872:\tlearn: 428.8703205\ttotal: 4.3s\tremaining: 626ms\n",
      "873:\tlearn: 428.7864330\ttotal: 4.3s\tremaining: 621ms\n",
      "874:\tlearn: 428.6989678\ttotal: 4.31s\tremaining: 616ms\n",
      "875:\tlearn: 428.6297378\ttotal: 4.31s\tremaining: 611ms\n",
      "876:\tlearn: 428.5138455\ttotal: 4.32s\tremaining: 606ms\n",
      "877:\tlearn: 428.4379356\ttotal: 4.32s\tremaining: 601ms\n",
      "878:\tlearn: 428.3259604\ttotal: 4.33s\tremaining: 596ms\n",
      "879:\tlearn: 428.2170588\ttotal: 4.33s\tremaining: 591ms\n",
      "880:\tlearn: 428.1769283\ttotal: 4.34s\tremaining: 586ms\n",
      "881:\tlearn: 428.0754111\ttotal: 4.34s\tremaining: 581ms\n",
      "882:\tlearn: 428.0344824\ttotal: 4.35s\tremaining: 576ms\n",
      "883:\tlearn: 427.9429946\ttotal: 4.35s\tremaining: 571ms\n",
      "884:\tlearn: 427.8852836\ttotal: 4.36s\tremaining: 566ms\n",
      "885:\tlearn: 427.8471013\ttotal: 4.36s\tremaining: 561ms\n",
      "886:\tlearn: 427.8138432\ttotal: 4.37s\tremaining: 556ms\n",
      "887:\tlearn: 427.6065585\ttotal: 4.37s\tremaining: 551ms\n",
      "888:\tlearn: 427.4485988\ttotal: 4.38s\tremaining: 546ms\n",
      "889:\tlearn: 427.3277315\ttotal: 4.38s\tremaining: 541ms\n",
      "890:\tlearn: 427.2271804\ttotal: 4.38s\tremaining: 536ms\n",
      "891:\tlearn: 427.1281087\ttotal: 4.39s\tremaining: 532ms\n",
      "892:\tlearn: 426.9647672\ttotal: 4.39s\tremaining: 527ms\n",
      "893:\tlearn: 426.9258102\ttotal: 4.4s\tremaining: 522ms\n",
      "894:\tlearn: 426.8634692\ttotal: 4.4s\tremaining: 517ms\n",
      "895:\tlearn: 426.7772635\ttotal: 4.41s\tremaining: 512ms\n",
      "896:\tlearn: 426.6844262\ttotal: 4.41s\tremaining: 507ms\n",
      "897:\tlearn: 426.5523441\ttotal: 4.42s\tremaining: 502ms\n",
      "898:\tlearn: 426.5011221\ttotal: 4.42s\tremaining: 497ms\n",
      "899:\tlearn: 426.4854748\ttotal: 4.43s\tremaining: 492ms\n",
      "900:\tlearn: 426.4013494\ttotal: 4.43s\tremaining: 487ms\n",
      "901:\tlearn: 426.3027741\ttotal: 4.44s\tremaining: 482ms\n",
      "902:\tlearn: 426.2752787\ttotal: 4.44s\tremaining: 477ms\n",
      "903:\tlearn: 426.2330729\ttotal: 4.45s\tremaining: 472ms\n",
      "904:\tlearn: 426.1770122\ttotal: 4.45s\tremaining: 467ms\n",
      "905:\tlearn: 425.9920665\ttotal: 4.46s\tremaining: 462ms\n",
      "906:\tlearn: 425.8921174\ttotal: 4.46s\tremaining: 457ms\n",
      "907:\tlearn: 425.8063407\ttotal: 4.46s\tremaining: 452ms\n",
      "908:\tlearn: 425.7256520\ttotal: 4.47s\tremaining: 447ms\n",
      "909:\tlearn: 425.6629869\ttotal: 4.47s\tremaining: 442ms\n",
      "910:\tlearn: 425.6053091\ttotal: 4.48s\tremaining: 438ms\n",
      "911:\tlearn: 425.5777517\ttotal: 4.49s\tremaining: 433ms\n",
      "912:\tlearn: 425.4614870\ttotal: 4.49s\tremaining: 428ms\n",
      "913:\tlearn: 425.3647291\ttotal: 4.5s\tremaining: 423ms\n",
      "914:\tlearn: 425.2855979\ttotal: 4.5s\tremaining: 418ms\n",
      "915:\tlearn: 425.1609763\ttotal: 4.5s\tremaining: 413ms\n",
      "916:\tlearn: 425.0134854\ttotal: 4.51s\tremaining: 408ms\n",
      "917:\tlearn: 424.9070280\ttotal: 4.51s\tremaining: 403ms\n",
      "918:\tlearn: 424.7299688\ttotal: 4.52s\tremaining: 398ms\n",
      "919:\tlearn: 424.6671994\ttotal: 4.52s\tremaining: 393ms\n",
      "920:\tlearn: 424.6296726\ttotal: 4.53s\tremaining: 388ms\n",
      "921:\tlearn: 424.5314927\ttotal: 4.53s\tremaining: 383ms\n",
      "922:\tlearn: 424.5200658\ttotal: 4.54s\tremaining: 378ms\n",
      "923:\tlearn: 424.4047129\ttotal: 4.54s\tremaining: 374ms\n",
      "924:\tlearn: 424.3137420\ttotal: 4.55s\tremaining: 369ms\n",
      "925:\tlearn: 424.3030832\ttotal: 4.55s\tremaining: 364ms\n",
      "926:\tlearn: 424.2963571\ttotal: 4.55s\tremaining: 359ms\n",
      "927:\tlearn: 424.2594316\ttotal: 4.56s\tremaining: 354ms\n",
      "928:\tlearn: 424.1865961\ttotal: 4.56s\tremaining: 349ms\n",
      "929:\tlearn: 424.1383661\ttotal: 4.57s\tremaining: 344ms\n",
      "930:\tlearn: 424.0974864\ttotal: 4.57s\tremaining: 339ms\n",
      "931:\tlearn: 423.9609343\ttotal: 4.58s\tremaining: 334ms\n",
      "932:\tlearn: 423.9451101\ttotal: 4.58s\tremaining: 329ms\n",
      "933:\tlearn: 423.8878613\ttotal: 4.59s\tremaining: 324ms\n",
      "934:\tlearn: 423.7984373\ttotal: 4.59s\tremaining: 319ms\n",
      "935:\tlearn: 423.7041966\ttotal: 4.6s\tremaining: 315ms\n",
      "936:\tlearn: 423.6913721\ttotal: 4.61s\tremaining: 310ms\n",
      "937:\tlearn: 423.5508170\ttotal: 4.61s\tremaining: 305ms\n",
      "938:\tlearn: 423.3657974\ttotal: 4.62s\tremaining: 300ms\n",
      "939:\tlearn: 423.3142309\ttotal: 4.62s\tremaining: 295ms\n",
      "940:\tlearn: 423.1900981\ttotal: 4.63s\tremaining: 290ms\n",
      "941:\tlearn: 423.1847966\ttotal: 4.63s\tremaining: 285ms\n",
      "942:\tlearn: 423.0862339\ttotal: 4.63s\tremaining: 280ms\n",
      "943:\tlearn: 423.0190322\ttotal: 4.64s\tremaining: 275ms\n",
      "944:\tlearn: 423.0027593\ttotal: 4.64s\tremaining: 270ms\n",
      "945:\tlearn: 422.8473743\ttotal: 4.65s\tremaining: 265ms\n",
      "946:\tlearn: 422.8335437\ttotal: 4.65s\tremaining: 260ms\n",
      "947:\tlearn: 422.7799983\ttotal: 4.66s\tremaining: 256ms\n",
      "948:\tlearn: 422.6066618\ttotal: 4.66s\tremaining: 251ms\n",
      "949:\tlearn: 422.5637316\ttotal: 4.67s\tremaining: 246ms\n",
      "950:\tlearn: 422.4143558\ttotal: 4.67s\tremaining: 241ms\n",
      "951:\tlearn: 422.3455925\ttotal: 4.68s\tremaining: 236ms\n",
      "952:\tlearn: 422.2476278\ttotal: 4.68s\tremaining: 231ms\n",
      "953:\tlearn: 422.2468391\ttotal: 4.69s\tremaining: 226ms\n",
      "954:\tlearn: 422.1870477\ttotal: 4.69s\tremaining: 221ms\n",
      "955:\tlearn: 422.1094631\ttotal: 4.7s\tremaining: 216ms\n",
      "956:\tlearn: 422.0498191\ttotal: 4.7s\tremaining: 211ms\n",
      "957:\tlearn: 421.9781161\ttotal: 4.71s\tremaining: 206ms\n",
      "958:\tlearn: 421.9284244\ttotal: 4.71s\tremaining: 201ms\n",
      "959:\tlearn: 421.8539829\ttotal: 4.71s\tremaining: 196ms\n",
      "960:\tlearn: 421.7965995\ttotal: 4.72s\tremaining: 192ms\n",
      "961:\tlearn: 421.7736336\ttotal: 4.72s\tremaining: 187ms\n",
      "962:\tlearn: 421.6672556\ttotal: 4.73s\tremaining: 182ms\n",
      "963:\tlearn: 421.5935599\ttotal: 4.73s\tremaining: 177ms\n",
      "964:\tlearn: 421.5744219\ttotal: 4.74s\tremaining: 172ms\n",
      "965:\tlearn: 421.4282625\ttotal: 4.74s\tremaining: 167ms\n",
      "966:\tlearn: 421.3491340\ttotal: 4.75s\tremaining: 162ms\n",
      "967:\tlearn: 421.2783704\ttotal: 4.75s\tremaining: 157ms\n",
      "968:\tlearn: 421.2072083\ttotal: 4.76s\tremaining: 152ms\n",
      "969:\tlearn: 421.0910277\ttotal: 4.76s\tremaining: 147ms\n",
      "970:\tlearn: 421.0081105\ttotal: 4.76s\tremaining: 142ms\n",
      "971:\tlearn: 420.9536997\ttotal: 4.77s\tremaining: 137ms\n",
      "972:\tlearn: 420.8761988\ttotal: 4.77s\tremaining: 132ms\n",
      "973:\tlearn: 420.7901565\ttotal: 4.78s\tremaining: 128ms\n",
      "974:\tlearn: 420.7233828\ttotal: 4.78s\tremaining: 123ms\n",
      "975:\tlearn: 420.6357587\ttotal: 4.79s\tremaining: 118ms\n",
      "976:\tlearn: 420.5720795\ttotal: 4.79s\tremaining: 113ms\n",
      "977:\tlearn: 420.5129693\ttotal: 4.8s\tremaining: 108ms\n",
      "978:\tlearn: 420.4904377\ttotal: 4.8s\tremaining: 103ms\n",
      "979:\tlearn: 420.4862307\ttotal: 4.81s\tremaining: 98.1ms\n",
      "980:\tlearn: 420.4648961\ttotal: 4.81s\tremaining: 93.2ms\n",
      "981:\tlearn: 420.4294171\ttotal: 4.81s\tremaining: 88.3ms\n",
      "982:\tlearn: 420.3202859\ttotal: 4.82s\tremaining: 83.4ms\n",
      "983:\tlearn: 420.3195137\ttotal: 4.82s\tremaining: 78.4ms\n",
      "984:\tlearn: 420.2788539\ttotal: 4.83s\tremaining: 73.5ms\n",
      "985:\tlearn: 420.2135095\ttotal: 4.83s\tremaining: 68.6ms\n",
      "986:\tlearn: 420.1850696\ttotal: 4.84s\tremaining: 63.8ms\n",
      "987:\tlearn: 420.0919247\ttotal: 4.85s\tremaining: 58.9ms\n",
      "988:\tlearn: 420.0030430\ttotal: 4.85s\tremaining: 54ms\n",
      "989:\tlearn: 419.9706145\ttotal: 4.86s\tremaining: 49.1ms\n",
      "990:\tlearn: 419.9431109\ttotal: 4.86s\tremaining: 44.2ms\n",
      "991:\tlearn: 419.8094567\ttotal: 4.87s\tremaining: 39.3ms\n",
      "992:\tlearn: 419.7461908\ttotal: 4.87s\tremaining: 34.3ms\n",
      "993:\tlearn: 419.7078098\ttotal: 4.88s\tremaining: 29.4ms\n",
      "994:\tlearn: 419.6828988\ttotal: 4.88s\tremaining: 24.5ms\n",
      "995:\tlearn: 419.6545218\ttotal: 4.88s\tremaining: 19.6ms\n",
      "996:\tlearn: 419.5801598\ttotal: 4.89s\tremaining: 14.7ms\n",
      "997:\tlearn: 419.4751021\ttotal: 4.89s\tremaining: 9.81ms\n",
      "998:\tlearn: 419.4030781\ttotal: 4.9s\tremaining: 4.9ms\n",
      "999:\tlearn: 419.2413452\ttotal: 4.9s\tremaining: 0us\n"
     ]
    },
    {
     "output_type": "execute_result",
     "data": {
      "text/plain": [
       "<catboost.core.CatBoost at 0x1ba15242bc8>"
      ]
     },
     "metadata": {},
     "execution_count": 39
    }
   ],
   "source": [
    "cat = CatBoost()\n",
    "cat.fit(X_train, y_train)"
   ]
  },
  {
   "cell_type": "code",
   "execution_count": 41,
   "metadata": {},
   "outputs": [
    {
     "output_type": "stream",
     "name": "stdout",
     "text": [
      "Train RMSE: 420.9127594108012\nTest_RMSE: 412.4890222273193\n"
     ]
    }
   ],
   "source": [
    "get_RMSE(cat, X_train, y_train)"
   ]
  },
  {
   "cell_type": "code",
   "execution_count": 43,
   "metadata": {},
   "outputs": [],
   "source": [
    "filename = 'cat_base.model'\n",
    "\n",
    "with open(filename, 'wb') as archivo_salida:\n",
    "    pickle.dump(cat, archivo_salida)"
   ]
  },
  {
   "cell_type": "code",
   "execution_count": 44,
   "metadata": {
    "tags": [
     "outputPrepend"
    ]
   },
   "outputs": [
    {
     "output_type": "stream",
     "name": "stdout",
     "text": [
      "9:\tlearn: 455.4187519\ttotal: 3.52s\tremaining: 2.07s\n",
      "630:\tlearn: 455.2628827\ttotal: 3.52s\tremaining: 2.06s\n",
      "631:\tlearn: 455.1407324\ttotal: 3.53s\tremaining: 2.06s\n",
      "632:\tlearn: 455.0490535\ttotal: 3.53s\tremaining: 2.05s\n",
      "633:\tlearn: 454.9048733\ttotal: 3.54s\tremaining: 2.04s\n",
      "634:\tlearn: 454.7466855\ttotal: 3.54s\tremaining: 2.04s\n",
      "635:\tlearn: 454.6272933\ttotal: 3.55s\tremaining: 2.03s\n",
      "636:\tlearn: 454.5247510\ttotal: 3.56s\tremaining: 2.03s\n",
      "637:\tlearn: 454.4685284\ttotal: 3.56s\tremaining: 2.02s\n",
      "638:\tlearn: 454.3012185\ttotal: 3.57s\tremaining: 2.01s\n",
      "639:\tlearn: 454.2298746\ttotal: 3.57s\tremaining: 2.01s\n",
      "640:\tlearn: 454.1529068\ttotal: 3.58s\tremaining: 2s\n",
      "641:\tlearn: 454.0820214\ttotal: 3.58s\tremaining: 2s\n",
      "642:\tlearn: 454.0160184\ttotal: 3.59s\tremaining: 1.99s\n",
      "643:\tlearn: 453.9521076\ttotal: 3.59s\tremaining: 1.99s\n",
      "644:\tlearn: 453.8630282\ttotal: 3.6s\tremaining: 1.98s\n",
      "645:\tlearn: 453.7764480\ttotal: 3.6s\tremaining: 1.98s\n",
      "646:\tlearn: 453.7234203\ttotal: 3.61s\tremaining: 1.97s\n",
      "647:\tlearn: 453.5861813\ttotal: 3.62s\tremaining: 1.97s\n",
      "648:\tlearn: 453.5587634\ttotal: 3.62s\tremaining: 1.96s\n",
      "649:\tlearn: 453.4944642\ttotal: 3.63s\tremaining: 1.95s\n",
      "650:\tlearn: 453.4256060\ttotal: 3.63s\tremaining: 1.95s\n",
      "651:\tlearn: 453.3731125\ttotal: 3.64s\tremaining: 1.94s\n",
      "652:\tlearn: 453.2725394\ttotal: 3.64s\tremaining: 1.94s\n",
      "653:\tlearn: 453.2532296\ttotal: 3.65s\tremaining: 1.93s\n",
      "654:\tlearn: 453.1950222\ttotal: 3.65s\tremaining: 1.93s\n",
      "655:\tlearn: 453.1019677\ttotal: 3.66s\tremaining: 1.92s\n",
      "656:\tlearn: 452.8917463\ttotal: 3.67s\tremaining: 1.91s\n",
      "657:\tlearn: 452.8581441\ttotal: 3.67s\tremaining: 1.91s\n",
      "658:\tlearn: 452.8284276\ttotal: 3.68s\tremaining: 1.9s\n",
      "659:\tlearn: 452.7081715\ttotal: 3.69s\tremaining: 1.9s\n",
      "660:\tlearn: 452.6296832\ttotal: 3.69s\tremaining: 1.89s\n",
      "661:\tlearn: 452.5638462\ttotal: 3.69s\tremaining: 1.89s\n",
      "662:\tlearn: 452.4348905\ttotal: 3.7s\tremaining: 1.88s\n",
      "663:\tlearn: 452.2176940\ttotal: 3.71s\tremaining: 1.88s\n",
      "664:\tlearn: 452.1941391\ttotal: 3.71s\tremaining: 1.87s\n",
      "665:\tlearn: 452.0230414\ttotal: 3.72s\tremaining: 1.86s\n",
      "666:\tlearn: 451.9562508\ttotal: 3.72s\tremaining: 1.86s\n",
      "667:\tlearn: 451.8723262\ttotal: 3.73s\tremaining: 1.85s\n",
      "668:\tlearn: 451.7793814\ttotal: 3.73s\tremaining: 1.85s\n",
      "669:\tlearn: 451.7215290\ttotal: 3.74s\tremaining: 1.84s\n",
      "670:\tlearn: 451.5745818\ttotal: 3.74s\tremaining: 1.84s\n",
      "671:\tlearn: 451.3716366\ttotal: 3.75s\tremaining: 1.83s\n",
      "672:\tlearn: 451.2754047\ttotal: 3.75s\tremaining: 1.82s\n",
      "673:\tlearn: 451.0617964\ttotal: 3.76s\tremaining: 1.82s\n",
      "674:\tlearn: 450.9230113\ttotal: 3.77s\tremaining: 1.81s\n",
      "675:\tlearn: 450.8672065\ttotal: 3.77s\tremaining: 1.81s\n",
      "676:\tlearn: 450.7776189\ttotal: 3.78s\tremaining: 1.8s\n",
      "677:\tlearn: 450.6572836\ttotal: 3.78s\tremaining: 1.8s\n",
      "678:\tlearn: 450.5474747\ttotal: 3.79s\tremaining: 1.79s\n",
      "679:\tlearn: 450.4092280\ttotal: 3.79s\tremaining: 1.78s\n",
      "680:\tlearn: 450.3084597\ttotal: 3.8s\tremaining: 1.78s\n",
      "681:\tlearn: 450.1816135\ttotal: 3.8s\tremaining: 1.77s\n",
      "682:\tlearn: 450.0779084\ttotal: 3.81s\tremaining: 1.77s\n",
      "683:\tlearn: 450.0596202\ttotal: 3.81s\tremaining: 1.76s\n",
      "684:\tlearn: 450.0290994\ttotal: 3.82s\tremaining: 1.75s\n",
      "685:\tlearn: 449.9230298\ttotal: 3.82s\tremaining: 1.75s\n",
      "686:\tlearn: 449.8785389\ttotal: 3.83s\tremaining: 1.75s\n",
      "687:\tlearn: 449.7332163\ttotal: 3.83s\tremaining: 1.74s\n",
      "688:\tlearn: 449.7132740\ttotal: 3.84s\tremaining: 1.73s\n",
      "689:\tlearn: 449.6325112\ttotal: 3.85s\tremaining: 1.73s\n",
      "690:\tlearn: 449.5791221\ttotal: 3.85s\tremaining: 1.72s\n",
      "691:\tlearn: 449.4944544\ttotal: 3.86s\tremaining: 1.72s\n",
      "692:\tlearn: 449.4402006\ttotal: 3.86s\tremaining: 1.71s\n",
      "693:\tlearn: 449.3631537\ttotal: 3.87s\tremaining: 1.71s\n",
      "694:\tlearn: 449.2771465\ttotal: 3.87s\tremaining: 1.7s\n",
      "695:\tlearn: 449.2100179\ttotal: 3.88s\tremaining: 1.69s\n",
      "696:\tlearn: 449.1370377\ttotal: 3.88s\tremaining: 1.69s\n",
      "697:\tlearn: 449.0426174\ttotal: 3.89s\tremaining: 1.68s\n",
      "698:\tlearn: 448.9820186\ttotal: 3.9s\tremaining: 1.68s\n",
      "699:\tlearn: 448.8474674\ttotal: 3.9s\tremaining: 1.67s\n",
      "700:\tlearn: 448.7174783\ttotal: 3.91s\tremaining: 1.67s\n",
      "701:\tlearn: 448.6280956\ttotal: 3.91s\tremaining: 1.66s\n",
      "702:\tlearn: 448.4932467\ttotal: 3.92s\tremaining: 1.65s\n",
      "703:\tlearn: 448.4053657\ttotal: 3.92s\tremaining: 1.65s\n",
      "704:\tlearn: 448.2889827\ttotal: 3.93s\tremaining: 1.64s\n",
      "705:\tlearn: 448.2583940\ttotal: 3.93s\tremaining: 1.64s\n",
      "706:\tlearn: 448.2577029\ttotal: 3.94s\tremaining: 1.63s\n",
      "707:\tlearn: 448.1198401\ttotal: 3.94s\tremaining: 1.63s\n",
      "708:\tlearn: 448.0426303\ttotal: 3.95s\tremaining: 1.62s\n",
      "709:\tlearn: 447.9164093\ttotal: 3.95s\tremaining: 1.61s\n",
      "710:\tlearn: 447.7862977\ttotal: 3.96s\tremaining: 1.61s\n",
      "711:\tlearn: 447.5982768\ttotal: 3.96s\tremaining: 1.6s\n",
      "712:\tlearn: 447.5363987\ttotal: 3.97s\tremaining: 1.6s\n",
      "713:\tlearn: 447.4368758\ttotal: 3.98s\tremaining: 1.59s\n",
      "714:\tlearn: 447.3722994\ttotal: 3.98s\tremaining: 1.59s\n",
      "715:\tlearn: 447.3690018\ttotal: 3.98s\tremaining: 1.58s\n",
      "716:\tlearn: 447.2735108\ttotal: 3.99s\tremaining: 1.57s\n",
      "717:\tlearn: 447.1978196\ttotal: 4s\tremaining: 1.57s\n",
      "718:\tlearn: 447.0981693\ttotal: 4s\tremaining: 1.56s\n",
      "719:\tlearn: 447.0213919\ttotal: 4.01s\tremaining: 1.56s\n",
      "720:\tlearn: 446.8596753\ttotal: 4.01s\tremaining: 1.55s\n",
      "721:\tlearn: 446.6972619\ttotal: 4.02s\tremaining: 1.55s\n",
      "722:\tlearn: 446.6123983\ttotal: 4.02s\tremaining: 1.54s\n",
      "723:\tlearn: 446.5281666\ttotal: 4.03s\tremaining: 1.54s\n",
      "724:\tlearn: 446.4861100\ttotal: 4.04s\tremaining: 1.53s\n",
      "725:\tlearn: 446.3905465\ttotal: 4.04s\tremaining: 1.52s\n",
      "726:\tlearn: 446.3406469\ttotal: 4.05s\tremaining: 1.52s\n",
      "727:\tlearn: 446.2707332\ttotal: 4.05s\tremaining: 1.51s\n",
      "728:\tlearn: 446.2020256\ttotal: 4.06s\tremaining: 1.51s\n",
      "729:\tlearn: 446.1238406\ttotal: 4.06s\tremaining: 1.5s\n",
      "730:\tlearn: 446.0249857\ttotal: 4.07s\tremaining: 1.5s\n",
      "731:\tlearn: 445.9623422\ttotal: 4.07s\tremaining: 1.49s\n",
      "732:\tlearn: 445.8818384\ttotal: 4.08s\tremaining: 1.49s\n",
      "733:\tlearn: 445.7970675\ttotal: 4.08s\tremaining: 1.48s\n",
      "734:\tlearn: 445.6930029\ttotal: 4.09s\tremaining: 1.47s\n",
      "735:\tlearn: 445.6923454\ttotal: 4.09s\tremaining: 1.47s\n",
      "736:\tlearn: 445.6917183\ttotal: 4.1s\tremaining: 1.46s\n",
      "737:\tlearn: 445.5719823\ttotal: 4.1s\tremaining: 1.46s\n",
      "738:\tlearn: 445.4699934\ttotal: 4.11s\tremaining: 1.45s\n",
      "739:\tlearn: 445.4175952\ttotal: 4.12s\tremaining: 1.45s\n",
      "740:\tlearn: 445.3052003\ttotal: 4.12s\tremaining: 1.44s\n",
      "741:\tlearn: 445.3046023\ttotal: 4.13s\tremaining: 1.43s\n",
      "742:\tlearn: 445.1833625\ttotal: 4.13s\tremaining: 1.43s\n",
      "743:\tlearn: 445.1444179\ttotal: 4.14s\tremaining: 1.42s\n",
      "744:\tlearn: 445.0723726\ttotal: 4.14s\tremaining: 1.42s\n",
      "745:\tlearn: 445.0141332\ttotal: 4.15s\tremaining: 1.41s\n",
      "746:\tlearn: 445.0135270\ttotal: 4.15s\tremaining: 1.41s\n",
      "747:\tlearn: 444.9569063\ttotal: 4.16s\tremaining: 1.4s\n",
      "748:\tlearn: 444.9563213\ttotal: 4.16s\tremaining: 1.39s\n",
      "749:\tlearn: 444.8612791\ttotal: 4.17s\tremaining: 1.39s\n",
      "750:\tlearn: 444.7707503\ttotal: 4.17s\tremaining: 1.38s\n",
      "751:\tlearn: 444.7680012\ttotal: 4.18s\tremaining: 1.38s\n",
      "752:\tlearn: 444.6832749\ttotal: 4.18s\tremaining: 1.37s\n",
      "753:\tlearn: 444.6827370\ttotal: 4.19s\tremaining: 1.37s\n",
      "754:\tlearn: 444.6076160\ttotal: 4.2s\tremaining: 1.36s\n",
      "755:\tlearn: 444.5364322\ttotal: 4.2s\tremaining: 1.36s\n",
      "756:\tlearn: 444.4619305\ttotal: 4.21s\tremaining: 1.35s\n",
      "757:\tlearn: 444.4331800\ttotal: 4.21s\tremaining: 1.34s\n",
      "758:\tlearn: 444.4326536\ttotal: 4.22s\tremaining: 1.34s\n",
      "759:\tlearn: 444.4321524\ttotal: 4.22s\tremaining: 1.33s\n",
      "760:\tlearn: 444.3481762\ttotal: 4.23s\tremaining: 1.33s\n",
      "761:\tlearn: 444.2940764\ttotal: 4.24s\tremaining: 1.32s\n",
      "762:\tlearn: 444.2181643\ttotal: 4.24s\tremaining: 1.32s\n",
      "763:\tlearn: 444.2176867\ttotal: 4.25s\tremaining: 1.31s\n",
      "764:\tlearn: 444.1669806\ttotal: 4.25s\tremaining: 1.31s\n",
      "765:\tlearn: 444.1223258\ttotal: 4.26s\tremaining: 1.3s\n",
      "766:\tlearn: 444.1198873\ttotal: 4.26s\tremaining: 1.29s\n",
      "767:\tlearn: 444.1004143\ttotal: 4.27s\tremaining: 1.29s\n",
      "768:\tlearn: 444.0098013\ttotal: 4.27s\tremaining: 1.28s\n",
      "769:\tlearn: 443.9472059\ttotal: 4.28s\tremaining: 1.28s\n",
      "770:\tlearn: 443.8119575\ttotal: 4.29s\tremaining: 1.27s\n",
      "771:\tlearn: 443.6900043\ttotal: 4.29s\tremaining: 1.27s\n",
      "772:\tlearn: 443.5393457\ttotal: 4.3s\tremaining: 1.26s\n",
      "773:\tlearn: 443.4907853\ttotal: 4.3s\tremaining: 1.26s\n",
      "774:\tlearn: 443.4762038\ttotal: 4.31s\tremaining: 1.25s\n",
      "775:\tlearn: 443.4746594\ttotal: 4.31s\tremaining: 1.24s\n",
      "776:\tlearn: 443.3340780\ttotal: 4.32s\tremaining: 1.24s\n",
      "777:\tlearn: 443.2876357\ttotal: 4.32s\tremaining: 1.23s\n",
      "778:\tlearn: 443.2263526\ttotal: 4.33s\tremaining: 1.23s\n",
      "779:\tlearn: 443.2160112\ttotal: 4.33s\tremaining: 1.22s\n",
      "780:\tlearn: 443.0807946\ttotal: 4.34s\tremaining: 1.22s\n",
      "781:\tlearn: 442.9177839\ttotal: 4.34s\tremaining: 1.21s\n",
      "782:\tlearn: 442.7906190\ttotal: 4.35s\tremaining: 1.2s\n",
      "783:\tlearn: 442.7240624\ttotal: 4.35s\tremaining: 1.2s\n",
      "784:\tlearn: 442.6729036\ttotal: 4.36s\tremaining: 1.19s\n",
      "785:\tlearn: 442.6452655\ttotal: 4.36s\tremaining: 1.19s\n",
      "786:\tlearn: 442.5852070\ttotal: 4.37s\tremaining: 1.18s\n",
      "787:\tlearn: 442.4666360\ttotal: 4.37s\tremaining: 1.18s\n",
      "788:\tlearn: 442.4373323\ttotal: 4.38s\tremaining: 1.17s\n",
      "789:\tlearn: 442.3074590\ttotal: 4.38s\tremaining: 1.17s\n",
      "790:\tlearn: 442.1855623\ttotal: 4.39s\tremaining: 1.16s\n",
      "791:\tlearn: 442.0722824\ttotal: 4.39s\tremaining: 1.15s\n",
      "792:\tlearn: 442.0297764\ttotal: 4.4s\tremaining: 1.15s\n",
      "793:\tlearn: 441.9594189\ttotal: 4.41s\tremaining: 1.14s\n",
      "794:\tlearn: 441.8768741\ttotal: 4.41s\tremaining: 1.14s\n",
      "795:\tlearn: 441.8310848\ttotal: 4.42s\tremaining: 1.13s\n",
      "796:\tlearn: 441.7042676\ttotal: 4.42s\tremaining: 1.13s\n",
      "797:\tlearn: 441.6033018\ttotal: 4.43s\tremaining: 1.12s\n",
      "798:\tlearn: 441.4930581\ttotal: 4.43s\tremaining: 1.11s\n",
      "799:\tlearn: 441.4168735\ttotal: 4.44s\tremaining: 1.11s\n",
      "800:\tlearn: 441.3670726\ttotal: 4.45s\tremaining: 1.1s\n",
      "801:\tlearn: 441.3047859\ttotal: 4.45s\tremaining: 1.1s\n",
      "802:\tlearn: 441.2366946\ttotal: 4.46s\tremaining: 1.09s\n",
      "803:\tlearn: 441.1503731\ttotal: 4.46s\tremaining: 1.09s\n",
      "804:\tlearn: 441.1258227\ttotal: 4.47s\tremaining: 1.08s\n",
      "805:\tlearn: 441.1120364\ttotal: 4.47s\tremaining: 1.08s\n",
      "806:\tlearn: 441.0981538\ttotal: 4.48s\tremaining: 1.07s\n",
      "807:\tlearn: 441.0753024\ttotal: 4.48s\tremaining: 1.06s\n",
      "808:\tlearn: 441.0274655\ttotal: 4.49s\tremaining: 1.06s\n",
      "809:\tlearn: 440.9614363\ttotal: 4.49s\tremaining: 1.05s\n",
      "810:\tlearn: 440.7641007\ttotal: 4.5s\tremaining: 1.05s\n",
      "811:\tlearn: 440.6646242\ttotal: 4.5s\tremaining: 1.04s\n",
      "812:\tlearn: 440.6061412\ttotal: 4.51s\tremaining: 1.04s\n",
      "813:\tlearn: 440.5019325\ttotal: 4.52s\tremaining: 1.03s\n",
      "814:\tlearn: 440.4460052\ttotal: 4.52s\tremaining: 1.03s\n",
      "815:\tlearn: 440.2020746\ttotal: 4.53s\tremaining: 1.02s\n",
      "816:\tlearn: 440.1187316\ttotal: 4.53s\tremaining: 1.01s\n",
      "817:\tlearn: 439.9919961\ttotal: 4.54s\tremaining: 1.01s\n",
      "818:\tlearn: 439.9131920\ttotal: 4.54s\tremaining: 1s\n",
      "819:\tlearn: 439.9124986\ttotal: 4.55s\tremaining: 998ms\n",
      "820:\tlearn: 439.8517827\ttotal: 4.55s\tremaining: 993ms\n",
      "821:\tlearn: 439.7437548\ttotal: 4.56s\tremaining: 987ms\n",
      "822:\tlearn: 439.6726564\ttotal: 4.56s\tremaining: 982ms\n",
      "823:\tlearn: 439.6213298\ttotal: 4.57s\tremaining: 976ms\n",
      "824:\tlearn: 439.5271168\ttotal: 4.57s\tremaining: 970ms\n",
      "825:\tlearn: 439.5151242\ttotal: 4.58s\tremaining: 965ms\n",
      "826:\tlearn: 439.4650572\ttotal: 4.58s\tremaining: 959ms\n",
      "827:\tlearn: 439.4644245\ttotal: 4.59s\tremaining: 953ms\n",
      "828:\tlearn: 439.4098471\ttotal: 4.59s\tremaining: 948ms\n",
      "829:\tlearn: 439.3718469\ttotal: 4.6s\tremaining: 942ms\n",
      "830:\tlearn: 439.2512253\ttotal: 4.61s\tremaining: 937ms\n",
      "831:\tlearn: 439.1599861\ttotal: 4.61s\tremaining: 931ms\n",
      "832:\tlearn: 439.1193297\ttotal: 4.62s\tremaining: 926ms\n",
      "833:\tlearn: 439.0968483\ttotal: 4.62s\tremaining: 920ms\n",
      "834:\tlearn: 438.9458712\ttotal: 4.63s\tremaining: 915ms\n",
      "835:\tlearn: 438.9453680\ttotal: 4.63s\tremaining: 909ms\n",
      "836:\tlearn: 438.8960776\ttotal: 4.64s\tremaining: 904ms\n",
      "837:\tlearn: 438.7461615\ttotal: 4.64s\tremaining: 898ms\n",
      "838:\tlearn: 438.6226516\ttotal: 4.65s\tremaining: 892ms\n",
      "839:\tlearn: 438.5421573\ttotal: 4.66s\tremaining: 887ms\n",
      "840:\tlearn: 438.4764384\ttotal: 4.66s\tremaining: 881ms\n",
      "841:\tlearn: 438.4048145\ttotal: 4.67s\tremaining: 875ms\n",
      "842:\tlearn: 438.3494818\ttotal: 4.67s\tremaining: 870ms\n",
      "843:\tlearn: 438.2405984\ttotal: 4.68s\tremaining: 865ms\n",
      "844:\tlearn: 438.1293375\ttotal: 4.68s\tremaining: 859ms\n",
      "845:\tlearn: 438.0510492\ttotal: 4.69s\tremaining: 853ms\n",
      "846:\tlearn: 437.9993893\ttotal: 4.69s\tremaining: 848ms\n",
      "847:\tlearn: 437.9866756\ttotal: 4.7s\tremaining: 842ms\n",
      "848:\tlearn: 437.8906021\ttotal: 4.71s\tremaining: 837ms\n",
      "849:\tlearn: 437.8505282\ttotal: 4.71s\tremaining: 831ms\n",
      "850:\tlearn: 437.7508948\ttotal: 4.71s\tremaining: 826ms\n",
      "851:\tlearn: 437.6632295\ttotal: 4.72s\tremaining: 820ms\n",
      "852:\tlearn: 437.6186952\ttotal: 4.72s\tremaining: 814ms\n",
      "853:\tlearn: 437.5550381\ttotal: 4.73s\tremaining: 809ms\n",
      "854:\tlearn: 437.5318630\ttotal: 4.74s\tremaining: 803ms\n",
      "855:\tlearn: 437.5091913\ttotal: 4.74s\tremaining: 798ms\n",
      "856:\tlearn: 437.4674357\ttotal: 4.75s\tremaining: 792ms\n",
      "857:\tlearn: 437.4189523\ttotal: 4.75s\tremaining: 786ms\n",
      "858:\tlearn: 437.2979242\ttotal: 4.76s\tremaining: 781ms\n",
      "859:\tlearn: 437.1872889\ttotal: 4.76s\tremaining: 775ms\n",
      "860:\tlearn: 437.1244122\ttotal: 4.77s\tremaining: 770ms\n",
      "861:\tlearn: 437.0466774\ttotal: 4.77s\tremaining: 764ms\n",
      "862:\tlearn: 436.8928484\ttotal: 4.78s\tremaining: 759ms\n",
      "863:\tlearn: 436.8764781\ttotal: 4.78s\tremaining: 753ms\n",
      "864:\tlearn: 436.7648879\ttotal: 4.79s\tremaining: 748ms\n",
      "865:\tlearn: 436.5902306\ttotal: 4.8s\tremaining: 742ms\n",
      "866:\tlearn: 436.4094140\ttotal: 4.8s\tremaining: 737ms\n",
      "867:\tlearn: 436.3481875\ttotal: 4.81s\tremaining: 731ms\n",
      "868:\tlearn: 436.3238692\ttotal: 4.81s\tremaining: 726ms\n",
      "869:\tlearn: 436.1907053\ttotal: 4.82s\tremaining: 720ms\n",
      "870:\tlearn: 436.0909919\ttotal: 4.82s\tremaining: 714ms\n",
      "871:\tlearn: 436.0051260\ttotal: 4.83s\tremaining: 709ms\n",
      "872:\tlearn: 435.8489788\ttotal: 4.83s\tremaining: 703ms\n",
      "873:\tlearn: 435.7539252\ttotal: 4.84s\tremaining: 698ms\n",
      "874:\tlearn: 435.6549700\ttotal: 4.84s\tremaining: 692ms\n",
      "875:\tlearn: 435.5417210\ttotal: 4.85s\tremaining: 687ms\n",
      "876:\tlearn: 435.4685690\ttotal: 4.86s\tremaining: 681ms\n",
      "877:\tlearn: 435.3495202\ttotal: 4.86s\tremaining: 676ms\n",
      "878:\tlearn: 435.2926407\ttotal: 4.87s\tremaining: 670ms\n",
      "879:\tlearn: 435.2191004\ttotal: 4.87s\tremaining: 664ms\n",
      "880:\tlearn: 435.1652882\ttotal: 4.88s\tremaining: 659ms\n",
      "881:\tlearn: 435.1550184\ttotal: 4.88s\tremaining: 653ms\n",
      "882:\tlearn: 435.1042388\ttotal: 4.89s\tremaining: 648ms\n",
      "883:\tlearn: 434.9558781\ttotal: 4.89s\tremaining: 642ms\n",
      "884:\tlearn: 434.8067034\ttotal: 4.9s\tremaining: 636ms\n",
      "885:\tlearn: 434.7665726\ttotal: 4.9s\tremaining: 631ms\n",
      "886:\tlearn: 434.6410674\ttotal: 4.91s\tremaining: 625ms\n",
      "887:\tlearn: 434.5455405\ttotal: 4.91s\tremaining: 620ms\n",
      "888:\tlearn: 434.4094333\ttotal: 4.92s\tremaining: 614ms\n",
      "889:\tlearn: 434.3219872\ttotal: 4.92s\tremaining: 609ms\n",
      "890:\tlearn: 434.1635956\ttotal: 4.93s\tremaining: 603ms\n",
      "891:\tlearn: 434.0882571\ttotal: 4.93s\tremaining: 598ms\n",
      "892:\tlearn: 434.0028456\ttotal: 4.94s\tremaining: 592ms\n",
      "893:\tlearn: 433.9585762\ttotal: 4.95s\tremaining: 586ms\n",
      "894:\tlearn: 433.9091604\ttotal: 4.95s\tremaining: 581ms\n",
      "895:\tlearn: 433.8457573\ttotal: 4.96s\tremaining: 575ms\n",
      "896:\tlearn: 433.7361703\ttotal: 4.96s\tremaining: 570ms\n",
      "897:\tlearn: 433.6675740\ttotal: 4.97s\tremaining: 564ms\n",
      "898:\tlearn: 433.5981770\ttotal: 4.97s\tremaining: 559ms\n",
      "899:\tlearn: 433.5475023\ttotal: 4.98s\tremaining: 553ms\n",
      "900:\tlearn: 433.5258853\ttotal: 4.98s\tremaining: 548ms\n",
      "901:\tlearn: 433.4417395\ttotal: 4.99s\tremaining: 542ms\n",
      "902:\tlearn: 433.3774632\ttotal: 4.99s\tremaining: 536ms\n",
      "903:\tlearn: 433.3268616\ttotal: 5s\tremaining: 531ms\n",
      "904:\tlearn: 433.2180556\ttotal: 5s\tremaining: 525ms\n",
      "905:\tlearn: 433.1079583\ttotal: 5.01s\tremaining: 520ms\n",
      "906:\tlearn: 432.9977610\ttotal: 5.01s\tremaining: 514ms\n",
      "907:\tlearn: 432.9542148\ttotal: 5.02s\tremaining: 508ms\n",
      "908:\tlearn: 432.8338404\ttotal: 5.02s\tremaining: 503ms\n",
      "909:\tlearn: 432.7907913\ttotal: 5.03s\tremaining: 497ms\n",
      "910:\tlearn: 432.7588277\ttotal: 5.03s\tremaining: 492ms\n",
      "911:\tlearn: 432.6937281\ttotal: 5.04s\tremaining: 486ms\n",
      "912:\tlearn: 432.6028291\ttotal: 5.04s\tremaining: 481ms\n",
      "913:\tlearn: 432.5813164\ttotal: 5.05s\tremaining: 475ms\n",
      "914:\tlearn: 432.5607391\ttotal: 5.05s\tremaining: 470ms\n",
      "915:\tlearn: 432.5378829\ttotal: 5.06s\tremaining: 464ms\n",
      "916:\tlearn: 432.5141840\ttotal: 5.07s\tremaining: 459ms\n",
      "917:\tlearn: 432.4347424\ttotal: 5.07s\tremaining: 453ms\n",
      "918:\tlearn: 432.3721981\ttotal: 5.08s\tremaining: 447ms\n",
      "919:\tlearn: 432.3282057\ttotal: 5.08s\tremaining: 442ms\n",
      "920:\tlearn: 432.2862266\ttotal: 5.09s\tremaining: 436ms\n",
      "921:\tlearn: 432.1988810\ttotal: 5.09s\tremaining: 431ms\n",
      "922:\tlearn: 432.0588569\ttotal: 5.1s\tremaining: 425ms\n",
      "923:\tlearn: 432.0140214\ttotal: 5.1s\tremaining: 420ms\n",
      "924:\tlearn: 431.9660159\ttotal: 5.11s\tremaining: 414ms\n",
      "925:\tlearn: 431.9147419\ttotal: 5.11s\tremaining: 409ms\n",
      "926:\tlearn: 431.8329265\ttotal: 5.12s\tremaining: 403ms\n",
      "927:\tlearn: 431.7932526\ttotal: 5.13s\tremaining: 398ms\n",
      "928:\tlearn: 431.7627421\ttotal: 5.13s\tremaining: 392ms\n",
      "929:\tlearn: 431.5921989\ttotal: 5.14s\tremaining: 387ms\n",
      "930:\tlearn: 431.5664613\ttotal: 5.14s\tremaining: 381ms\n",
      "931:\tlearn: 431.5243792\ttotal: 5.15s\tremaining: 376ms\n",
      "932:\tlearn: 431.5051495\ttotal: 5.16s\tremaining: 370ms\n",
      "933:\tlearn: 431.4575588\ttotal: 5.16s\tremaining: 365ms\n",
      "934:\tlearn: 431.3679856\ttotal: 5.16s\tremaining: 359ms\n",
      "935:\tlearn: 431.3371726\ttotal: 5.17s\tremaining: 353ms\n",
      "936:\tlearn: 431.3149435\ttotal: 5.17s\tremaining: 348ms\n",
      "937:\tlearn: 431.2456763\ttotal: 5.18s\tremaining: 342ms\n",
      "938:\tlearn: 431.2282669\ttotal: 5.18s\tremaining: 337ms\n",
      "939:\tlearn: 431.2086473\ttotal: 5.19s\tremaining: 331ms\n",
      "940:\tlearn: 431.1460651\ttotal: 5.2s\tremaining: 326ms\n",
      "941:\tlearn: 431.0680234\ttotal: 5.2s\tremaining: 320ms\n",
      "942:\tlearn: 431.0093939\ttotal: 5.21s\tremaining: 315ms\n",
      "943:\tlearn: 430.9870173\ttotal: 5.21s\tremaining: 309ms\n",
      "944:\tlearn: 430.9168446\ttotal: 5.22s\tremaining: 304ms\n",
      "945:\tlearn: 430.9043699\ttotal: 5.22s\tremaining: 298ms\n",
      "946:\tlearn: 430.8596425\ttotal: 5.23s\tremaining: 293ms\n",
      "947:\tlearn: 430.8212695\ttotal: 5.23s\tremaining: 287ms\n",
      "948:\tlearn: 430.7384222\ttotal: 5.24s\tremaining: 281ms\n",
      "949:\tlearn: 430.6474105\ttotal: 5.24s\tremaining: 276ms\n",
      "950:\tlearn: 430.6324900\ttotal: 5.25s\tremaining: 270ms\n",
      "951:\tlearn: 430.6051822\ttotal: 5.25s\tremaining: 265ms\n",
      "952:\tlearn: 430.5753952\ttotal: 5.26s\tremaining: 259ms\n",
      "953:\tlearn: 430.5123383\ttotal: 5.26s\tremaining: 254ms\n",
      "954:\tlearn: 430.4536363\ttotal: 5.27s\tremaining: 248ms\n",
      "955:\tlearn: 430.3714071\ttotal: 5.27s\tremaining: 243ms\n",
      "956:\tlearn: 430.2756026\ttotal: 5.28s\tremaining: 237ms\n",
      "957:\tlearn: 430.2396839\ttotal: 5.29s\tremaining: 232ms\n",
      "958:\tlearn: 430.1204668\ttotal: 5.29s\tremaining: 226ms\n",
      "959:\tlearn: 430.0335434\ttotal: 5.3s\tremaining: 221ms\n",
      "960:\tlearn: 430.0155489\ttotal: 5.3s\tremaining: 215ms\n",
      "961:\tlearn: 429.9369058\ttotal: 5.31s\tremaining: 210ms\n",
      "962:\tlearn: 429.8232019\ttotal: 5.31s\tremaining: 204ms\n",
      "963:\tlearn: 429.7505724\ttotal: 5.32s\tremaining: 199ms\n",
      "964:\tlearn: 429.7008674\ttotal: 5.33s\tremaining: 193ms\n",
      "965:\tlearn: 429.6471817\ttotal: 5.33s\tremaining: 188ms\n",
      "966:\tlearn: 429.6033315\ttotal: 5.33s\tremaining: 182ms\n",
      "967:\tlearn: 429.5055905\ttotal: 5.34s\tremaining: 177ms\n",
      "968:\tlearn: 429.4274270\ttotal: 5.34s\tremaining: 171ms\n",
      "969:\tlearn: 429.4027985\ttotal: 5.35s\tremaining: 165ms\n",
      "970:\tlearn: 429.3187124\ttotal: 5.35s\tremaining: 160ms\n",
      "971:\tlearn: 429.2440740\ttotal: 5.36s\tremaining: 154ms\n",
      "972:\tlearn: 429.1869927\ttotal: 5.37s\tremaining: 149ms\n",
      "973:\tlearn: 429.1194903\ttotal: 5.37s\tremaining: 143ms\n",
      "974:\tlearn: 429.1067962\ttotal: 5.38s\tremaining: 138ms\n",
      "975:\tlearn: 429.0670158\ttotal: 5.38s\tremaining: 132ms\n",
      "976:\tlearn: 429.0525857\ttotal: 5.39s\tremaining: 127ms\n",
      "977:\tlearn: 428.9397166\ttotal: 5.39s\tremaining: 121ms\n",
      "978:\tlearn: 428.9285922\ttotal: 5.4s\tremaining: 116ms\n",
      "979:\tlearn: 428.9002085\ttotal: 5.4s\tremaining: 110ms\n",
      "980:\tlearn: 428.8501400\ttotal: 5.41s\tremaining: 105ms\n",
      "981:\tlearn: 428.7339759\ttotal: 5.41s\tremaining: 99.2ms\n",
      "982:\tlearn: 428.7204893\ttotal: 5.42s\tremaining: 93.7ms\n",
      "983:\tlearn: 428.5920932\ttotal: 5.42s\tremaining: 88.2ms\n",
      "984:\tlearn: 428.5420899\ttotal: 5.43s\tremaining: 82.7ms\n",
      "985:\tlearn: 428.4659344\ttotal: 5.43s\tremaining: 77.2ms\n",
      "986:\tlearn: 428.4023020\ttotal: 5.44s\tremaining: 71.7ms\n",
      "987:\tlearn: 428.3830131\ttotal: 5.45s\tremaining: 66.1ms\n",
      "988:\tlearn: 428.3475548\ttotal: 5.45s\tremaining: 60.6ms\n",
      "989:\tlearn: 428.2278011\ttotal: 5.46s\tremaining: 55.1ms\n",
      "990:\tlearn: 428.1216036\ttotal: 5.46s\tremaining: 49.6ms\n",
      "991:\tlearn: 428.0470587\ttotal: 5.47s\tremaining: 44.1ms\n",
      "992:\tlearn: 427.9922264\ttotal: 5.47s\tremaining: 38.6ms\n",
      "993:\tlearn: 427.9419041\ttotal: 5.48s\tremaining: 33.1ms\n",
      "994:\tlearn: 427.8891214\ttotal: 5.48s\tremaining: 27.6ms\n",
      "995:\tlearn: 427.8311238\ttotal: 5.49s\tremaining: 22ms\n",
      "996:\tlearn: 427.8167090\ttotal: 5.49s\tremaining: 16.5ms\n",
      "997:\tlearn: 427.8041891\ttotal: 5.5s\tremaining: 11ms\n",
      "998:\tlearn: 427.7895998\ttotal: 5.5s\tremaining: 5.51ms\n",
      "999:\tlearn: 427.7186799\ttotal: 5.51s\tremaining: 0us\n",
      "You're ready to submit!\n"
     ]
    }
   ],
   "source": [
    "cat.fit(X, y)\n",
    "submission = prepare_test(cat, filepath)\n",
    "chequeator(submission)"
   ]
  },
  {
   "cell_type": "code",
   "execution_count": 47,
   "metadata": {},
   "outputs": [],
   "source": [
    "from catboost import CatBoost\n",
    "from sklearn.metrics import make_scorer, accuracy_score\n",
    "\n",
    "model = CatBoost()\n",
    "scorer = make_scorer(accuracy_score)\n",
    "\n",
    "cat_params = {'depth':[3,1,2,6,4,5,7,8,9,10],\n",
    "              'iterations':[250,100,500,1000],\n",
    "              'learning_rate':[0.03,0.001,0.01,0.1,0.2,0.3],\n",
    "              'l2_leaf_reg':[3,1,5,10,100],\n",
    "              'border_count':[32,5,10,20,50,100,200],\n",
    "              'bagging_temperature':[0.03,0.09,0.25,0.75],\n",
    "              'random_strength':[0.2,0.5,0.8],\n",
    "              'max_ctr_complexity':[1,2,3,4,5],\n",
    "              'logging_level': ['Silent'],\n",
    "              'random_seed': [42] }\n",
    "\n",
    "gs_cat = GridSearchCV(model,\n",
    "                         cat_params,\n",
    "                         cv = 10,\n",
    "                         scoring = scorer,\n",
    "                         verbose=1,\n",
    "                         n_jobs=-1)"
   ]
  },
  {
   "cell_type": "code",
   "execution_count": 48,
   "metadata": {},
   "outputs": [
    {
     "output_type": "stream",
     "name": "stdout",
     "text": [
      "Fitting 10 folds for each of 504000 candidates, totalling 5040000 fits\n"
     ]
    },
    {
     "output_type": "error",
     "ename": "KeyboardInterrupt",
     "evalue": "",
     "traceback": [
      "\u001b[1;31m---------------------------------------------------------------------------\u001b[0m",
      "\u001b[1;31mKeyboardInterrupt\u001b[0m                         Traceback (most recent call last)",
      "\u001b[1;32m<ipython-input-48-5dfb6e105874>\u001b[0m in \u001b[0;36m<module>\u001b[1;34m\u001b[0m\n\u001b[1;32m----> 1\u001b[1;33m \u001b[0mgs_cat\u001b[0m\u001b[1;33m.\u001b[0m\u001b[0mfit\u001b[0m\u001b[1;33m(\u001b[0m\u001b[0mX_train\u001b[0m\u001b[1;33m,\u001b[0m \u001b[0my_train\u001b[0m\u001b[1;33m)\u001b[0m\u001b[1;33m\u001b[0m\u001b[1;33m\u001b[0m\u001b[0m\n\u001b[0m\u001b[0;32m      2\u001b[0m \u001b[0mfilename\u001b[0m \u001b[1;33m=\u001b[0m \u001b[1;34m'cats.model'\u001b[0m\u001b[1;33m\u001b[0m\u001b[1;33m\u001b[0m\u001b[0m\n\u001b[0;32m      3\u001b[0m \u001b[1;33m\u001b[0m\u001b[0m\n\u001b[0;32m      4\u001b[0m \u001b[1;32mwith\u001b[0m \u001b[0mopen\u001b[0m\u001b[1;33m(\u001b[0m\u001b[0mfilename\u001b[0m\u001b[1;33m,\u001b[0m \u001b[1;34m'wb'\u001b[0m\u001b[1;33m)\u001b[0m \u001b[1;32mas\u001b[0m \u001b[0marchivo_salida\u001b[0m\u001b[1;33m:\u001b[0m\u001b[1;33m\u001b[0m\u001b[1;33m\u001b[0m\u001b[0m\n\u001b[0;32m      5\u001b[0m     \u001b[0mpickle\u001b[0m\u001b[1;33m.\u001b[0m\u001b[0mdump\u001b[0m\u001b[1;33m(\u001b[0m\u001b[0mcat\u001b[0m\u001b[1;33m,\u001b[0m \u001b[0marchivo_salida\u001b[0m\u001b[1;33m)\u001b[0m\u001b[1;33m\u001b[0m\u001b[1;33m\u001b[0m\u001b[0m\n",
      "\u001b[1;32m~\\AppData\\Local\\Programs\\Python\\Python37\\lib\\site-packages\\sklearn\\utils\\validation.py\u001b[0m in \u001b[0;36minner_f\u001b[1;34m(*args, **kwargs)\u001b[0m\n\u001b[0;32m     61\u001b[0m             \u001b[0mextra_args\u001b[0m \u001b[1;33m=\u001b[0m \u001b[0mlen\u001b[0m\u001b[1;33m(\u001b[0m\u001b[0margs\u001b[0m\u001b[1;33m)\u001b[0m \u001b[1;33m-\u001b[0m \u001b[0mlen\u001b[0m\u001b[1;33m(\u001b[0m\u001b[0mall_args\u001b[0m\u001b[1;33m)\u001b[0m\u001b[1;33m\u001b[0m\u001b[1;33m\u001b[0m\u001b[0m\n\u001b[0;32m     62\u001b[0m             \u001b[1;32mif\u001b[0m \u001b[0mextra_args\u001b[0m \u001b[1;33m<=\u001b[0m \u001b[1;36m0\u001b[0m\u001b[1;33m:\u001b[0m\u001b[1;33m\u001b[0m\u001b[1;33m\u001b[0m\u001b[0m\n\u001b[1;32m---> 63\u001b[1;33m                 \u001b[1;32mreturn\u001b[0m \u001b[0mf\u001b[0m\u001b[1;33m(\u001b[0m\u001b[1;33m*\u001b[0m\u001b[0margs\u001b[0m\u001b[1;33m,\u001b[0m \u001b[1;33m**\u001b[0m\u001b[0mkwargs\u001b[0m\u001b[1;33m)\u001b[0m\u001b[1;33m\u001b[0m\u001b[1;33m\u001b[0m\u001b[0m\n\u001b[0m\u001b[0;32m     64\u001b[0m \u001b[1;33m\u001b[0m\u001b[0m\n\u001b[0;32m     65\u001b[0m             \u001b[1;31m# extra_args > 0\u001b[0m\u001b[1;33m\u001b[0m\u001b[1;33m\u001b[0m\u001b[1;33m\u001b[0m\u001b[0m\n",
      "\u001b[1;32m~\\AppData\\Local\\Programs\\Python\\Python37\\lib\\site-packages\\sklearn\\model_selection\\_search.py\u001b[0m in \u001b[0;36mfit\u001b[1;34m(self, X, y, groups, **fit_params)\u001b[0m\n\u001b[0;32m    839\u001b[0m                 \u001b[1;32mreturn\u001b[0m \u001b[0mresults\u001b[0m\u001b[1;33m\u001b[0m\u001b[1;33m\u001b[0m\u001b[0m\n\u001b[0;32m    840\u001b[0m \u001b[1;33m\u001b[0m\u001b[0m\n\u001b[1;32m--> 841\u001b[1;33m             \u001b[0mself\u001b[0m\u001b[1;33m.\u001b[0m\u001b[0m_run_search\u001b[0m\u001b[1;33m(\u001b[0m\u001b[0mevaluate_candidates\u001b[0m\u001b[1;33m)\u001b[0m\u001b[1;33m\u001b[0m\u001b[1;33m\u001b[0m\u001b[0m\n\u001b[0m\u001b[0;32m    842\u001b[0m \u001b[1;33m\u001b[0m\u001b[0m\n\u001b[0;32m    843\u001b[0m             \u001b[1;31m# multimetric is determined here because in the case of a callable\u001b[0m\u001b[1;33m\u001b[0m\u001b[1;33m\u001b[0m\u001b[1;33m\u001b[0m\u001b[0m\n",
      "\u001b[1;32m~\\AppData\\Local\\Programs\\Python\\Python37\\lib\\site-packages\\sklearn\\model_selection\\_search.py\u001b[0m in \u001b[0;36m_run_search\u001b[1;34m(self, evaluate_candidates)\u001b[0m\n\u001b[0;32m   1294\u001b[0m     \u001b[1;32mdef\u001b[0m \u001b[0m_run_search\u001b[0m\u001b[1;33m(\u001b[0m\u001b[0mself\u001b[0m\u001b[1;33m,\u001b[0m \u001b[0mevaluate_candidates\u001b[0m\u001b[1;33m)\u001b[0m\u001b[1;33m:\u001b[0m\u001b[1;33m\u001b[0m\u001b[1;33m\u001b[0m\u001b[0m\n\u001b[0;32m   1295\u001b[0m         \u001b[1;34m\"\"\"Search all candidates in param_grid\"\"\"\u001b[0m\u001b[1;33m\u001b[0m\u001b[1;33m\u001b[0m\u001b[0m\n\u001b[1;32m-> 1296\u001b[1;33m         \u001b[0mevaluate_candidates\u001b[0m\u001b[1;33m(\u001b[0m\u001b[0mParameterGrid\u001b[0m\u001b[1;33m(\u001b[0m\u001b[0mself\u001b[0m\u001b[1;33m.\u001b[0m\u001b[0mparam_grid\u001b[0m\u001b[1;33m)\u001b[0m\u001b[1;33m)\u001b[0m\u001b[1;33m\u001b[0m\u001b[1;33m\u001b[0m\u001b[0m\n\u001b[0m\u001b[0;32m   1297\u001b[0m \u001b[1;33m\u001b[0m\u001b[0m\n\u001b[0;32m   1298\u001b[0m \u001b[1;33m\u001b[0m\u001b[0m\n",
      "\u001b[1;32m~\\AppData\\Local\\Programs\\Python\\Python37\\lib\\site-packages\\sklearn\\model_selection\\_search.py\u001b[0m in \u001b[0;36mevaluate_candidates\u001b[1;34m(candidate_params, cv, more_results)\u001b[0m\n\u001b[0;32m    807\u001b[0m                                    (split_idx, (train, test)) in product(\n\u001b[0;32m    808\u001b[0m                                    \u001b[0menumerate\u001b[0m\u001b[1;33m(\u001b[0m\u001b[0mcandidate_params\u001b[0m\u001b[1;33m)\u001b[0m\u001b[1;33m,\u001b[0m\u001b[1;33m\u001b[0m\u001b[1;33m\u001b[0m\u001b[0m\n\u001b[1;32m--> 809\u001b[1;33m                                    enumerate(cv.split(X, y, groups))))\n\u001b[0m\u001b[0;32m    810\u001b[0m \u001b[1;33m\u001b[0m\u001b[0m\n\u001b[0;32m    811\u001b[0m                 \u001b[1;32mif\u001b[0m \u001b[0mlen\u001b[0m\u001b[1;33m(\u001b[0m\u001b[0mout\u001b[0m\u001b[1;33m)\u001b[0m \u001b[1;33m<\u001b[0m \u001b[1;36m1\u001b[0m\u001b[1;33m:\u001b[0m\u001b[1;33m\u001b[0m\u001b[1;33m\u001b[0m\u001b[0m\n",
      "\u001b[1;32m~\\AppData\\Local\\Programs\\Python\\Python37\\lib\\site-packages\\joblib\\parallel.py\u001b[0m in \u001b[0;36m__call__\u001b[1;34m(self, iterable)\u001b[0m\n\u001b[0;32m   1052\u001b[0m \u001b[1;33m\u001b[0m\u001b[0m\n\u001b[0;32m   1053\u001b[0m             \u001b[1;32mwith\u001b[0m \u001b[0mself\u001b[0m\u001b[1;33m.\u001b[0m\u001b[0m_backend\u001b[0m\u001b[1;33m.\u001b[0m\u001b[0mretrieval_context\u001b[0m\u001b[1;33m(\u001b[0m\u001b[1;33m)\u001b[0m\u001b[1;33m:\u001b[0m\u001b[1;33m\u001b[0m\u001b[1;33m\u001b[0m\u001b[0m\n\u001b[1;32m-> 1054\u001b[1;33m                 \u001b[0mself\u001b[0m\u001b[1;33m.\u001b[0m\u001b[0mretrieve\u001b[0m\u001b[1;33m(\u001b[0m\u001b[1;33m)\u001b[0m\u001b[1;33m\u001b[0m\u001b[1;33m\u001b[0m\u001b[0m\n\u001b[0m\u001b[0;32m   1055\u001b[0m             \u001b[1;31m# Make sure that we get a last message telling us we are done\u001b[0m\u001b[1;33m\u001b[0m\u001b[1;33m\u001b[0m\u001b[1;33m\u001b[0m\u001b[0m\n\u001b[0;32m   1056\u001b[0m             \u001b[0melapsed_time\u001b[0m \u001b[1;33m=\u001b[0m \u001b[0mtime\u001b[0m\u001b[1;33m.\u001b[0m\u001b[0mtime\u001b[0m\u001b[1;33m(\u001b[0m\u001b[1;33m)\u001b[0m \u001b[1;33m-\u001b[0m \u001b[0mself\u001b[0m\u001b[1;33m.\u001b[0m\u001b[0m_start_time\u001b[0m\u001b[1;33m\u001b[0m\u001b[1;33m\u001b[0m\u001b[0m\n",
      "\u001b[1;32m~\\AppData\\Local\\Programs\\Python\\Python37\\lib\\site-packages\\joblib\\parallel.py\u001b[0m in \u001b[0;36mretrieve\u001b[1;34m(self)\u001b[0m\n\u001b[0;32m    931\u001b[0m             \u001b[1;32mtry\u001b[0m\u001b[1;33m:\u001b[0m\u001b[1;33m\u001b[0m\u001b[1;33m\u001b[0m\u001b[0m\n\u001b[0;32m    932\u001b[0m                 \u001b[1;32mif\u001b[0m \u001b[0mgetattr\u001b[0m\u001b[1;33m(\u001b[0m\u001b[0mself\u001b[0m\u001b[1;33m.\u001b[0m\u001b[0m_backend\u001b[0m\u001b[1;33m,\u001b[0m \u001b[1;34m'supports_timeout'\u001b[0m\u001b[1;33m,\u001b[0m \u001b[1;32mFalse\u001b[0m\u001b[1;33m)\u001b[0m\u001b[1;33m:\u001b[0m\u001b[1;33m\u001b[0m\u001b[1;33m\u001b[0m\u001b[0m\n\u001b[1;32m--> 933\u001b[1;33m                     \u001b[0mself\u001b[0m\u001b[1;33m.\u001b[0m\u001b[0m_output\u001b[0m\u001b[1;33m.\u001b[0m\u001b[0mextend\u001b[0m\u001b[1;33m(\u001b[0m\u001b[0mjob\u001b[0m\u001b[1;33m.\u001b[0m\u001b[0mget\u001b[0m\u001b[1;33m(\u001b[0m\u001b[0mtimeout\u001b[0m\u001b[1;33m=\u001b[0m\u001b[0mself\u001b[0m\u001b[1;33m.\u001b[0m\u001b[0mtimeout\u001b[0m\u001b[1;33m)\u001b[0m\u001b[1;33m)\u001b[0m\u001b[1;33m\u001b[0m\u001b[1;33m\u001b[0m\u001b[0m\n\u001b[0m\u001b[0;32m    934\u001b[0m                 \u001b[1;32melse\u001b[0m\u001b[1;33m:\u001b[0m\u001b[1;33m\u001b[0m\u001b[1;33m\u001b[0m\u001b[0m\n\u001b[0;32m    935\u001b[0m                     \u001b[0mself\u001b[0m\u001b[1;33m.\u001b[0m\u001b[0m_output\u001b[0m\u001b[1;33m.\u001b[0m\u001b[0mextend\u001b[0m\u001b[1;33m(\u001b[0m\u001b[0mjob\u001b[0m\u001b[1;33m.\u001b[0m\u001b[0mget\u001b[0m\u001b[1;33m(\u001b[0m\u001b[1;33m)\u001b[0m\u001b[1;33m)\u001b[0m\u001b[1;33m\u001b[0m\u001b[1;33m\u001b[0m\u001b[0m\n",
      "\u001b[1;32m~\\AppData\\Local\\Programs\\Python\\Python37\\lib\\site-packages\\joblib\\_parallel_backends.py\u001b[0m in \u001b[0;36mwrap_future_result\u001b[1;34m(future, timeout)\u001b[0m\n\u001b[0;32m    540\u001b[0m         AsyncResults.get from multiprocessing.\"\"\"\n\u001b[0;32m    541\u001b[0m         \u001b[1;32mtry\u001b[0m\u001b[1;33m:\u001b[0m\u001b[1;33m\u001b[0m\u001b[1;33m\u001b[0m\u001b[0m\n\u001b[1;32m--> 542\u001b[1;33m             \u001b[1;32mreturn\u001b[0m \u001b[0mfuture\u001b[0m\u001b[1;33m.\u001b[0m\u001b[0mresult\u001b[0m\u001b[1;33m(\u001b[0m\u001b[0mtimeout\u001b[0m\u001b[1;33m=\u001b[0m\u001b[0mtimeout\u001b[0m\u001b[1;33m)\u001b[0m\u001b[1;33m\u001b[0m\u001b[1;33m\u001b[0m\u001b[0m\n\u001b[0m\u001b[0;32m    543\u001b[0m         \u001b[1;32mexcept\u001b[0m \u001b[0mCfTimeoutError\u001b[0m \u001b[1;32mas\u001b[0m \u001b[0me\u001b[0m\u001b[1;33m:\u001b[0m\u001b[1;33m\u001b[0m\u001b[1;33m\u001b[0m\u001b[0m\n\u001b[0;32m    544\u001b[0m             \u001b[1;32mraise\u001b[0m \u001b[0mTimeoutError\u001b[0m \u001b[1;32mfrom\u001b[0m \u001b[0me\u001b[0m\u001b[1;33m\u001b[0m\u001b[1;33m\u001b[0m\u001b[0m\n",
      "\u001b[1;32m~\\AppData\\Local\\Programs\\Python\\Python37\\lib\\concurrent\\futures\\_base.py\u001b[0m in \u001b[0;36mresult\u001b[1;34m(self, timeout)\u001b[0m\n\u001b[0;32m    428\u001b[0m                 \u001b[1;32mreturn\u001b[0m \u001b[0mself\u001b[0m\u001b[1;33m.\u001b[0m\u001b[0m__get_result\u001b[0m\u001b[1;33m(\u001b[0m\u001b[1;33m)\u001b[0m\u001b[1;33m\u001b[0m\u001b[1;33m\u001b[0m\u001b[0m\n\u001b[0;32m    429\u001b[0m \u001b[1;33m\u001b[0m\u001b[0m\n\u001b[1;32m--> 430\u001b[1;33m             \u001b[0mself\u001b[0m\u001b[1;33m.\u001b[0m\u001b[0m_condition\u001b[0m\u001b[1;33m.\u001b[0m\u001b[0mwait\u001b[0m\u001b[1;33m(\u001b[0m\u001b[0mtimeout\u001b[0m\u001b[1;33m)\u001b[0m\u001b[1;33m\u001b[0m\u001b[1;33m\u001b[0m\u001b[0m\n\u001b[0m\u001b[0;32m    431\u001b[0m \u001b[1;33m\u001b[0m\u001b[0m\n\u001b[0;32m    432\u001b[0m             \u001b[1;32mif\u001b[0m \u001b[0mself\u001b[0m\u001b[1;33m.\u001b[0m\u001b[0m_state\u001b[0m \u001b[1;32min\u001b[0m \u001b[1;33m[\u001b[0m\u001b[0mCANCELLED\u001b[0m\u001b[1;33m,\u001b[0m \u001b[0mCANCELLED_AND_NOTIFIED\u001b[0m\u001b[1;33m]\u001b[0m\u001b[1;33m:\u001b[0m\u001b[1;33m\u001b[0m\u001b[1;33m\u001b[0m\u001b[0m\n",
      "\u001b[1;32m~\\AppData\\Local\\Programs\\Python\\Python37\\lib\\threading.py\u001b[0m in \u001b[0;36mwait\u001b[1;34m(self, timeout)\u001b[0m\n\u001b[0;32m    294\u001b[0m         \u001b[1;32mtry\u001b[0m\u001b[1;33m:\u001b[0m    \u001b[1;31m# restore state no matter what (e.g., KeyboardInterrupt)\u001b[0m\u001b[1;33m\u001b[0m\u001b[1;33m\u001b[0m\u001b[0m\n\u001b[0;32m    295\u001b[0m             \u001b[1;32mif\u001b[0m \u001b[0mtimeout\u001b[0m \u001b[1;32mis\u001b[0m \u001b[1;32mNone\u001b[0m\u001b[1;33m:\u001b[0m\u001b[1;33m\u001b[0m\u001b[1;33m\u001b[0m\u001b[0m\n\u001b[1;32m--> 296\u001b[1;33m                 \u001b[0mwaiter\u001b[0m\u001b[1;33m.\u001b[0m\u001b[0macquire\u001b[0m\u001b[1;33m(\u001b[0m\u001b[1;33m)\u001b[0m\u001b[1;33m\u001b[0m\u001b[1;33m\u001b[0m\u001b[0m\n\u001b[0m\u001b[0;32m    297\u001b[0m                 \u001b[0mgotit\u001b[0m \u001b[1;33m=\u001b[0m \u001b[1;32mTrue\u001b[0m\u001b[1;33m\u001b[0m\u001b[1;33m\u001b[0m\u001b[0m\n\u001b[0;32m    298\u001b[0m             \u001b[1;32melse\u001b[0m\u001b[1;33m:\u001b[0m\u001b[1;33m\u001b[0m\u001b[1;33m\u001b[0m\u001b[0m\n",
      "\u001b[1;31mKeyboardInterrupt\u001b[0m: "
     ]
    }
   ],
   "source": [
    "gs_cat.fit(X_train, y_train)\n",
    "filename = 'cats.model'\n",
    "\n",
    "with open(filename, 'wb') as archivo_salida:\n",
    "    pickle.dump(cat, archivo_salida)"
   ]
  },
  {
   "cell_type": "code",
   "execution_count": 37,
   "metadata": {
    "tags": []
   },
   "outputs": [],
   "source": [
    "params = {\n",
    "        'depth': 3,\n",
    "        'logging_level': 'Silent'\n",
    "        }\n",
    "bobcat = CatBoost(params=params)\n",
    "bobcat.fit(X_train, y_train)\n",
    "get_RMSE(bobcat, X_train, y_train)"
   ]
  },
  {
   "cell_type": "code",
   "execution_count": null,
   "metadata": {},
   "outputs": [],
   "source": [
    "get_RMSE(bobcat, X_train, y_train)"
   ]
  },
  {
   "cell_type": "code",
   "execution_count": null,
   "metadata": {},
   "outputs": [],
   "source": []
  }
 ]
}