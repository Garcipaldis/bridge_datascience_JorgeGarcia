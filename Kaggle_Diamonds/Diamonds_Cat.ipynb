{
 "metadata": {
  "language_info": {
   "codemirror_mode": {
    "name": "ipython",
    "version": 3
   },
   "file_extension": ".py",
   "mimetype": "text/x-python",
   "name": "python",
   "nbconvert_exporter": "python",
   "pygments_lexer": "ipython3",
   "version": "3.7.4"
  },
  "orig_nbformat": 4,
  "kernelspec": {
   "name": "python3",
   "display_name": "Python 3.7.4 64-bit"
  },
  "interpreter": {
   "hash": "674dfd6ded4398e0679ff4f65e9a10a54ff0d14801bec0126172cfc3973d1cf1"
  }
 },
 "nbformat": 4,
 "nbformat_minor": 2,
 "cells": [
  {
   "cell_type": "code",
   "execution_count": 1,
   "metadata": {},
   "outputs": [],
   "source": [
    "import numpy as np\n",
    "import pandas as pd\n",
    "\n",
    "import urllib.request\n",
    "from PIL import Image\n",
    "import pickle\n",
    "\n",
    "from sklearn.model_selection import train_test_split\n",
    "from sklearn.metrics import mean_squared_error\n",
    "from catboost import CatBoost"
   ]
  },
  {
   "cell_type": "code",
   "execution_count": 113,
   "metadata": {},
   "outputs": [
    {
     "output_type": "execute_result",
     "data": {
      "text/plain": [
       "   carat        cut color clarity  depth  table     x     y     z  price\n",
       "0   1.21      Ideal     H     VS2   63.0   57.0  6.73  6.70  4.23   6134\n",
       "1   0.28  Very Good     D    VVS2   64.0   56.0  4.14  4.17  2.66    532\n",
       "2   0.42    Premium     F     VS1   61.2   58.0  4.86  4.82  2.96   1103\n",
       "3   0.26      Ideal     H      IF   61.1   57.0  4.16  4.12  2.53    600\n",
       "4   1.10       Good     G     SI1   63.4   57.0  6.52  6.55  4.14   4997"
      ],
      "text/html": "<div>\n<style scoped>\n    .dataframe tbody tr th:only-of-type {\n        vertical-align: middle;\n    }\n\n    .dataframe tbody tr th {\n        vertical-align: top;\n    }\n\n    .dataframe thead th {\n        text-align: right;\n    }\n</style>\n<table border=\"1\" class=\"dataframe\">\n  <thead>\n    <tr style=\"text-align: right;\">\n      <th></th>\n      <th>carat</th>\n      <th>cut</th>\n      <th>color</th>\n      <th>clarity</th>\n      <th>depth</th>\n      <th>table</th>\n      <th>x</th>\n      <th>y</th>\n      <th>z</th>\n      <th>price</th>\n    </tr>\n  </thead>\n  <tbody>\n    <tr>\n      <th>0</th>\n      <td>1.21</td>\n      <td>Ideal</td>\n      <td>H</td>\n      <td>VS2</td>\n      <td>63.0</td>\n      <td>57.0</td>\n      <td>6.73</td>\n      <td>6.70</td>\n      <td>4.23</td>\n      <td>6134</td>\n    </tr>\n    <tr>\n      <th>1</th>\n      <td>0.28</td>\n      <td>Very Good</td>\n      <td>D</td>\n      <td>VVS2</td>\n      <td>64.0</td>\n      <td>56.0</td>\n      <td>4.14</td>\n      <td>4.17</td>\n      <td>2.66</td>\n      <td>532</td>\n    </tr>\n    <tr>\n      <th>2</th>\n      <td>0.42</td>\n      <td>Premium</td>\n      <td>F</td>\n      <td>VS1</td>\n      <td>61.2</td>\n      <td>58.0</td>\n      <td>4.86</td>\n      <td>4.82</td>\n      <td>2.96</td>\n      <td>1103</td>\n    </tr>\n    <tr>\n      <th>3</th>\n      <td>0.26</td>\n      <td>Ideal</td>\n      <td>H</td>\n      <td>IF</td>\n      <td>61.1</td>\n      <td>57.0</td>\n      <td>4.16</td>\n      <td>4.12</td>\n      <td>2.53</td>\n      <td>600</td>\n    </tr>\n    <tr>\n      <th>4</th>\n      <td>1.10</td>\n      <td>Good</td>\n      <td>G</td>\n      <td>SI1</td>\n      <td>63.4</td>\n      <td>57.0</td>\n      <td>6.52</td>\n      <td>6.55</td>\n      <td>4.14</td>\n      <td>4997</td>\n    </tr>\n  </tbody>\n</table>\n</div>"
     },
     "metadata": {},
     "execution_count": 113
    }
   ],
   "source": [
    "diamond_df = pd.read_csv(\"diamonds_train.csv\", index_col=0)\n",
    "diamond_df.head()"
   ]
  },
  {
   "cell_type": "code",
   "execution_count": 127,
   "metadata": {},
   "outputs": [],
   "source": [
    "class DiamondEncoder:\n",
    "\n",
    "    @staticmethod\n",
    "    def classify_cut(x):\n",
    "        if x == 'Ideal':\n",
    "            return 10\n",
    "        elif x == 'Premium':\n",
    "            return 9\n",
    "        elif x == 'Very Good':\n",
    "            return 8\n",
    "        elif x == 'Good':\n",
    "            return 6.5\n",
    "        else:\n",
    "            return 4\n",
    "\n",
    "    @staticmethod\n",
    "    def classify_color(x):\n",
    "        if x == 'D':\n",
    "            return 10\n",
    "        elif x == 'E':\n",
    "            return 9.5\n",
    "        elif x == 'F':\n",
    "            return 9\n",
    "        elif x == 'G':\n",
    "            return 8.5\n",
    "        elif x == 'H':\n",
    "            return 8\n",
    "        elif x == 'I':\n",
    "            return 7.5\n",
    "        else:\n",
    "            return 7\n",
    "\n",
    "    @staticmethod\n",
    "    def classify_clarity(x):\n",
    "        if x == 'IF':\n",
    "            return 10\n",
    "        elif x == 'VVS1':\n",
    "            return 9\n",
    "        elif x == 'VVS2':\n",
    "            return 8\n",
    "        elif x == 'VS1':\n",
    "            return 7\n",
    "        elif x == 'VS2':\n",
    "            return 6\n",
    "        elif x == 'SI1':\n",
    "            return 5\n",
    "        elif x == 'SI2':\n",
    "            return 3.5\n",
    "        else:\n",
    "            return 2.5"
   ]
  },
  {
   "cell_type": "code",
   "execution_count": 237,
   "metadata": {},
   "outputs": [],
   "source": [
    "df = diamond_df.copy()\n",
    "df.cut = df.cut.apply(DiamondEncoder.classify_cut)\n",
    "df.color = df.color.apply(DiamondEncoder.classify_color)\n",
    "df.clarity = df.clarity.apply(DiamondEncoder.classify_clarity)\n",
    "\n",
    "X = np.array(df.loc[:, :'z'])\n",
    "y = np.array(df.price)\n",
    "\n",
    "X_train, X_test, y_train, y_test = train_test_split(X, y, test_size = 0.20, random_state = 42)"
   ]
  },
  {
   "cell_type": "code",
   "execution_count": 5,
   "metadata": {},
   "outputs": [],
   "source": [
    "def get_RMSE(model, X, y, random_state=42):\n",
    "    X_train, X_test, y_train, y_test = train_test_split(X, y, test_size = 0.20, random_state = 42)\n",
    "    y_pred = model.predict(X_train)\n",
    "    train_rmse = np.sqrt(mean_squared_error(y_train, y_pred))\n",
    "    y_pred_test = model.predict(X_test)\n",
    "    test_rmse = np.sqrt(mean_squared_error(y_test, y_pred_test))\n",
    "    print('Train RMSE:', train_rmse)\n",
    "    print('Test_RMSE:', test_rmse)\n",
    "\n",
    "def chequeator(df_to_submit):\n",
    "    \"\"\"\n",
    "    Esta función se asegura de que tu submission tenga la forma requerida por Kaggle.\n",
    "    \n",
    "    Si es así, se guardará el dataframe en un `csv` y estará listo para subir a Kaggle.\n",
    "    \n",
    "    Si no, LEE EL MENSAJE Y HAZLE CASO.\n",
    "    \n",
    "    Si aún no:\n",
    "    - apaga tu ordenador, \n",
    "    - date una vuelta, \n",
    "    - enciendelo otra vez, \n",
    "    - abre este notebook y \n",
    "    - leelo todo de nuevo. \n",
    "    Todos nos merecemos una segunda oportunidad. También tú.\n",
    "    \"\"\"\n",
    "    sample = pd.read_csv(\"sample_submission.csv\")\n",
    "    if df_to_submit.shape == sample.shape:\n",
    "        if df_to_submit.columns.all() == sample.columns.all():\n",
    "            if df_to_submit.id.all() == sample.id.all():\n",
    "                print(\"You're ready to submit!\")\n",
    "                df_to_submit.to_csv(\"submission.csv\", index = False) #muy importante el index = False\n",
    "                urllib.request.urlretrieve(\"https://i.kym-cdn.com/photos/images/facebook/000/747/556/27a.jpg\", \"gfg.png\")     \n",
    "                img = Image.open(\"gfg.png\")\n",
    "                img.show()   \n",
    "            else:\n",
    "                print(\"Check the ids and try again\")\n",
    "        else:\n",
    "            print(\"Check the names of the columns and try again\")\n",
    "    else:\n",
    "        print(\"Check the number of rows and/or columns and try again\")\n",
    "        print(\"\\nMensaje secreto de Clara: No me puedo creer que después de todo este notebook hayas hecho algún cambio en las filas de `diamonds_test.csv`. Lloro.\")\n",
    "\n",
    "filepath = 'diamonds_test.csv'\n",
    "\n",
    "def prepare_test(model, filepath):\n",
    "    df = pd.read_csv(filepath, index_col=0)\n",
    "    df.cut = df.cut.apply(DiamondEncoder.classify_cut)\n",
    "    df.color = df.color.apply(DiamondEncoder.classify_color)\n",
    "    df.clarity = df.clarity.apply(DiamondEncoder.classify_clarity)\n",
    "    X = df.loc[:, :'z']\n",
    "\n",
    "    predictions_submit = model.predict(X)\n",
    "    submission = pd.DataFrame({\"id\": range(len(predictions_submit)), \"price\": predictions_submit})\n",
    "    \n",
    "    return submission"
   ]
  },
  {
   "cell_type": "code",
   "execution_count": 6,
   "metadata": {},
   "outputs": [],
   "source": [
    "cat_params = {'depth':[3,1,2,6,4,5,7,8,9,10],\n",
    "              'iterations':[250,100,500,1000],\n",
    "              'learning_rate':[0.03,0.001,0.01,0.1,0.2,0.3],\n",
    "              'l2_leaf_reg':[3,1,5,10,100],\n",
    "              'border_count':[32,5,10,20,50,100,200],\n",
    "              'bagging_temperature':[0.03,0.09,0.25,0.75],\n",
    "              'random_strength':[0.2,0.5,0.8],\n",
    "              'max_ctr_complexity':[1,2,3,4,5],\n",
    "              'logging_level': ['Silent'],\n",
    "              'random_seed': [42] }"
   ]
  },
  {
   "cell_type": "code",
   "execution_count": 172,
   "metadata": {},
   "outputs": [
    {
     "output_type": "stream",
     "name": "stdout",
     "text": [
      "Train RMSE: 398.1334721897635\nTest_RMSE: 527.7198351056487\n"
     ]
    }
   ],
   "source": [
    "params = {\n",
    "        'depth': 6,\n",
    "        'learning_rate': 0.1,\n",
    "        'l2_leaf_reg': 5,\n",
    "        'iterations': 1200,\n",
    "        'logging_level': 'Silent'\n",
    "        }\n",
    "bobcat = CatBoost(params=params)\n",
    "bobcat.fit(X_train, y_train)\n",
    "get_RMSE(bobcat, X, y)"
   ]
  },
  {
   "cell_type": "code",
   "execution_count": 132,
   "metadata": {},
   "outputs": [
    {
     "output_type": "stream",
     "name": "stdout",
     "text": [
      "Train RMSE: 474.25206899680916\nTest_RMSE: 535.5276824449721\n"
     ]
    }
   ],
   "source": [
    "wildcat = CatBoost(params=params)\n",
    "wildcat.fit(X_train2, y_train2)\n",
    "get_RMSE(wildcat, X2, y)"
   ]
  },
  {
   "cell_type": "code",
   "execution_count": 267,
   "metadata": {},
   "outputs": [
    {
     "output_type": "stream",
     "name": "stdout",
     "text": [
      "Train RMSE: 398.1334721897635\nTest_RMSE: 527.7198351056487\n"
     ]
    }
   ],
   "source": [
    "tiger = CatBoostRegressor(depth=6, learning_rate=0.1, l2_leaf_reg=5, iterations=1200, logging_level='Silent')\n",
    "tiger.fit(X_train, y_train)\n",
    "get_RMSE(tiger, X, y)"
   ]
  },
  {
   "cell_type": "code",
   "execution_count": 111,
   "metadata": {},
   "outputs": [],
   "source": [
    "filename = 'cat_d6_l01_lr5_iter1200.model'\n",
    "\n",
    "with open(filename, 'wb') as archivo_salida:\n",
    "    pickle.dump(bobcat, archivo_salida)"
   ]
  },
  {
   "cell_type": "code",
   "execution_count": 19,
   "metadata": {},
   "outputs": [],
   "source": [
    "def create_catsubmission(params, X, y):\n",
    "    filepath = 'diamonds_test.csv'\n",
    "    cat = CatBoost(params=params)\n",
    "    cat.fit(X, y)\n",
    "    submission = prepare_test(cat, filepath)\n",
    "    chequeator(submission)"
   ]
  },
  {
   "cell_type": "code",
   "execution_count": 107,
   "metadata": {},
   "outputs": [
    {
     "output_type": "stream",
     "name": "stdout",
     "text": [
      "You're ready to submit!\n"
     ]
    }
   ],
   "source": [
    "create_catsubmission(params, X, y)"
   ]
  },
  {
   "cell_type": "code",
   "execution_count": 112,
   "metadata": {},
   "outputs": [
    {
     "output_type": "stream",
     "name": "stdout",
     "text": [
      "407.55604257776224\n"
     ]
    }
   ],
   "source": [
    "lion = CatBoost(params=params)\n",
    "lion.fit(X, y)\n",
    "y_pred = lion.predict(X)\n",
    "rmse = np.sqrt(mean_squared_error(y, y_pred))\n",
    "print(rmse)"
   ]
  },
  {
   "cell_type": "code",
   "execution_count": 173,
   "metadata": {},
   "outputs": [
    {
     "output_type": "stream",
     "name": "stdout",
     "text": [
      "[iter 0] loss=9.7082 val_loss=0.0000 scale=1.0000 norm=3028.7801\n",
      "[iter 100] loss=8.6330 val_loss=0.0000 scale=2.0000 norm=1514.2064\n",
      "[iter 200] loss=7.8977 val_loss=0.0000 scale=2.0000 norm=911.6176\n",
      "[iter 300] loss=7.4397 val_loss=0.0000 scale=1.0000 norm=380.6111\n",
      "[iter 400] loss=7.2438 val_loss=0.0000 scale=1.0000 norm=356.4169\n",
      "Train RMSE: 617.1586317861708\n",
      "Test_RMSE: 644.1674372878247\n"
     ]
    }
   ],
   "source": [
    "from ngboost import NGBRegressor\n",
    "\n",
    "ngb = NGBRegressor()\n",
    "ngb.fit(X_train, y_train)\n",
    "get_RMSE(ngb, X, y)"
   ]
  },
  {
   "cell_type": "code",
   "execution_count": 236,
   "metadata": {},
   "outputs": [
    {
     "output_type": "stream",
     "name": "stdout",
     "text": [
      "Train RMSE: 453.42890303547114\nTest_RMSE: 526.2681919726277\n"
     ]
    }
   ],
   "source": [
    "from xgboost import XGBRegressor\n",
    "\n",
    "xgb = XGBRegressor(eta=0.1, min_child_weight=10)\n",
    "xgb.fit(X_train, y_train)\n",
    "get_RMSE(xgb, X, y)"
   ]
  },
  {
   "cell_type": "code",
   "execution_count": 257,
   "metadata": {},
   "outputs": [
    {
     "output_type": "stream",
     "name": "stdout",
     "text": [
      "Train RMSE: 437.3916017052151\nTest_RMSE: 528.4172639424986\n"
     ]
    }
   ],
   "source": [
    "xgb2 = XGBRegressor(eta=0.1, min_child_weight=10, max_depth=7)\n",
    "xgb2.fit(X_train2, y_train2)\n",
    "get_RMSE(xgb2, X2, y)"
   ]
  },
  {
   "cell_type": "code",
   "execution_count": 261,
   "metadata": {},
   "outputs": [
    {
     "output_type": "execute_result",
     "data": {
      "text/plain": [
       "40345"
      ]
     },
     "metadata": {},
     "execution_count": 261
    }
   ],
   "source": [
    "len(xgb2.predict(X2))"
   ]
  },
  {
   "cell_type": "code",
   "execution_count": 247,
   "metadata": {},
   "outputs": [],
   "source": [
    "filename = 'xg_eta01_cweight10_NO_depthtable.model'\n",
    "\n",
    "with open(filename, 'wb') as archivo_salida:\n",
    "    pickle.dump(xgb2, archivo_salida)"
   ]
  },
  {
   "cell_type": "code",
   "execution_count": 263,
   "metadata": {},
   "outputs": [],
   "source": [
    "def create_xgbsubmission(X, y):\n",
    "    filepath = 'diamonds_test.csv'\n",
    "    xg = XGBRegressor(eta=0.1, min_child_weight=10, max_depth=7)\n",
    "    xg.fit(X, y)\n",
    "    submission = prepare_test_reduced(xg, filepath)\n",
    "    chequeator(submission)"
   ]
  },
  {
   "cell_type": "code",
   "execution_count": 264,
   "metadata": {},
   "outputs": [
    {
     "output_type": "stream",
     "name": "stdout",
     "text": [
      "You're ready to submit!\n"
     ]
    }
   ],
   "source": [
    "create_xgbsubmission(X2, y)"
   ]
  },
  {
   "cell_type": "code",
   "execution_count": 256,
   "metadata": {},
   "outputs": [],
   "source": [
    "X2 = df.loc[:, ['carat', 'color', 'cut','clarity', 'x', 'y', 'z']]\n",
    "X2 = np.array(X2)\n",
    "X_train2, X_test2, y_train2, y_test2 = train_test_split(X2, y, test_size = 0.20, random_state = 42)"
   ]
  },
  {
   "cell_type": "code",
   "execution_count": 262,
   "metadata": {},
   "outputs": [],
   "source": [
    "def prepare_test_reduced(model, filepath):\n",
    "    df = pd.read_csv(filepath, index_col=0)\n",
    "    df.cut = df.cut.apply(DiamondEncoder.classify_cut)\n",
    "    df.color = df.color.apply(DiamondEncoder.classify_color)\n",
    "    df.clarity = df.clarity.apply(DiamondEncoder.classify_clarity)\n",
    "    X = df.loc[:, ['carat', 'color', 'cut','clarity', 'x', 'y', 'z']]\n",
    "\n",
    "    predictions_submit = model.predict(X)\n",
    "    submission = pd.DataFrame({\"id\": range(len(predictions_submit)), \"price\": predictions_submit})\n",
    "    \n",
    "    return submission"
   ]
  },
  {
   "cell_type": "code",
   "execution_count": 269,
   "metadata": {},
   "outputs": [
    {
     "output_type": "stream",
     "name": "stdout",
     "text": [
      "Train RMSE: 386.17795088904495\nTest_RMSE: 520.5272973616463\n"
     ]
    }
   ],
   "source": [
    "from sklearn.ensemble import VotingRegressor\n",
    "from catboost import CatBoostRegressor\n",
    "from sklearn.ensemble import GradientBoostingRegressor\n",
    "from sklearn.ensemble import RandomForestRegressor\n",
    "\n",
    "tomcat = CatBoostRegressor(depth=6, learning_rate=0.1, l2_leaf_reg=5, iterations=1200, logging_level='Silent')\n",
    "grad = GradientBoostingRegressor(n_estimators=100, criterion='mse', min_samples_split=100, min_samples_leaf=5, max_depth=6)\n",
    "rfr = RandomForestRegressor(n_estimators=100, min_samples_split=10, random_state=42, min_samples_leaf=2, max_depth=20)\n",
    "\n",
    "estimators = [('cat', tomcat), ('rand_forest', rfr), ('grad', grad)]\n",
    "\n",
    "voting = VotingRegressor(estimators=estimators)\n",
    "voting.fit(X_train, y_train)\n",
    "get_RMSE(voting, X, y)"
   ]
  },
  {
   "cell_type": "code",
   "execution_count": null,
   "metadata": {},
   "outputs": [],
   "source": [
    "filename = 'voting_cat_grad_forest.model'\n",
    "\n",
    "with open(filename, 'wb') as archivo_salida:\n",
    "    pickle.dump(voting, archivo_salida)"
   ]
  },
  {
   "cell_type": "code",
   "execution_count": 270,
   "metadata": {},
   "outputs": [
    {
     "output_type": "stream",
     "name": "stdout",
     "text": [
      "You're ready to submit!\n"
     ]
    }
   ],
   "source": [
    "filepath = 'diamonds_test.csv'\n",
    "voting.fit(X, y)\n",
    "submission = prepare_test(voting, filepath)\n",
    "chequeator(submission)"
   ]
  },
  {
   "cell_type": "code",
   "execution_count": 289,
   "metadata": {},
   "outputs": [
    {
     "output_type": "stream",
     "name": "stdout",
     "text": [
      "Train RMSE: 459.5824521686665\nTest_RMSE: 528.8329622914896\n"
     ]
    }
   ],
   "source": [
    "from sklearn.ensemble import GradientBoostingRegressor\n",
    "\n",
    "grad = GradientBoostingRegressor(n_estimators=100, criterion='mse', min_samples_split=100, min_samples_leaf=5, max_depth=6)\n",
    "grad.fit(X_train, y_train)\n",
    "get_RMSE(grad, X, y)"
   ]
  },
  {
   "cell_type": "code",
   "execution_count": 295,
   "metadata": {},
   "outputs": [],
   "source": [
    "estimators_full = [('cat', tomcat), ('xgb', xgb_reg), ('rand_forest', rfr), ('grad', grad)]\n",
    "estimators_simple = [('cat', tomcat), ('xgb', xgb_reg)]\n",
    "estimators_notree = [('cat', tomcat), ('xgb', xgb_reg), ('grad', grad)]\n",
    "estimators_catgrad = [('cat', tomcat), ('grad', grad)]\n",
    "estimators_noxgb = [('cat', tomcat), ('rand_forest', rfr), ('grad', grad)]"
   ]
  },
  {
   "cell_type": "code",
   "execution_count": 299,
   "metadata": {},
   "outputs": [
    {
     "output_type": "stream",
     "name": "stdout",
     "text": [
      "Train RMSE: 388.0526718023417\nTest_RMSE: 521.0298058811242\n"
     ]
    }
   ],
   "source": [
    "voting = VotingRegressor(estimators=estimators_noxgb)\n",
    "voting.fit(X_train, y_train)\n",
    "get_RMSE(voting, X, y)"
   ]
  },
  {
   "cell_type": "code",
   "execution_count": 300,
   "metadata": {},
   "outputs": [
    {
     "output_type": "stream",
     "name": "stdout",
     "text": [
      "You're ready to submit!\n"
     ]
    }
   ],
   "source": [
    "filepath = 'diamonds_test.csv'\n",
    "voting.fit(X, y)\n",
    "submission = prepare_test(voting, filepath)\n",
    "chequeator(submission)"
   ]
  },
  {
   "cell_type": "code",
   "execution_count": 301,
   "metadata": {},
   "outputs": [],
   "source": [
    "filename = 'voting_cat_grad_forest.model'\n",
    "\n",
    "with open(filename, 'wb') as archivo_salida:\n",
    "    pickle.dump(voting, archivo_salida)"
   ]
  },
  {
   "cell_type": "code",
   "execution_count": null,
   "metadata": {},
   "outputs": [],
   "source": []
  }
 ]
}