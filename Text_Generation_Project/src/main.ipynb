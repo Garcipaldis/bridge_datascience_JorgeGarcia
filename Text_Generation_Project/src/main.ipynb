{
 "metadata": {
  "language_info": {
   "codemirror_mode": {
    "name": "ipython",
    "version": 3
   },
   "file_extension": ".py",
   "mimetype": "text/x-python",
   "name": "python",
   "nbconvert_exporter": "python",
   "pygments_lexer": "ipython3",
   "version": "3.7.4"
  },
  "orig_nbformat": 4,
  "kernelspec": {
   "name": "python3",
   "display_name": "Python 3.7.4 64-bit"
  },
  "interpreter": {
   "hash": "674dfd6ded4398e0679ff4f65e9a10a54ff0d14801bec0126172cfc3973d1cf1"
  }
 },
 "nbformat": 4,
 "nbformat_minor": 2,
 "cells": [
  {
   "source": [
    "# Text Generation Machine Learning Project (GAN-Dalf)\n",
    "\n",
    "*Designing Deep Learning models for memorable quote generation using Natural Language Processing, LSTM and GANs.*\n",
    "\n",
    "<table align=\"center\"> \n",
    "<tr><td width=\"100000\"><img src=\"../resources/writing.jpg\" style=\"width:140000000;height:1500\"></td> \n",
    "<td style=\"image-align:center\"> \n",
    "</td></tr> \n",
    "</table>"
   ],
   "cell_type": "markdown",
   "metadata": {}
  },
  {
   "source": [
    "### Introduction\n",
    "Text Generation is currently one of the most challenging fields in the Artificial Intelligence spectrum. The purpose of this project is to generate memorable movie quotes by the use of Natural Language Processing tecniques, Long-Short-Term Memory neural networks and Generative Adversarial Networks. The results of this investigation serves as an introduction to the complexity of the matter at hand, revealing interesting new paths for future projects.\n",
    "\n",
    "## 0. Project Imports & Paths"
   ],
   "cell_type": "markdown",
   "metadata": {}
  },
  {
   "cell_type": "code",
   "execution_count": 1,
   "metadata": {},
   "outputs": [
    {
     "output_type": "stream",
     "name": "stderr",
     "text": [
      "[nltk_data] Downloading package punkt to\n[nltk_data]     C:\\Users\\jgnsa\\AppData\\Roaming\\nltk_data...\n[nltk_data]   Package punkt is already up-to-date!\n[nltk_data] Downloading package averaged_perceptron_tagger to\n[nltk_data]     C:\\Users\\jgnsa\\AppData\\Roaming\\nltk_data...\n[nltk_data]   Package averaged_perceptron_tagger is already up-to-\n[nltk_data]       date!\n"
     ]
    }
   ],
   "source": [
    "import os, sys\n",
    "import pandas as pd\n",
    "\n",
    "import tensorflow as tf\n",
    "\n",
    "# Appending Project Root Path for utils imports\n",
    "root = os.path.dirname(os.getcwd())\n",
    "sys.path.append(root)\n",
    "\n",
    "from src.utils.mining_data_tb import QuoteCleaner, extra_quotes\n",
    "from src.utils.models import LSTM_Generator, GAN\n",
    "from src.utils.apis_tb import FlaskFuncs\n",
    "from src.utils.visualization_tb import Visualizer\n",
    "\n",
    "# Settings path\n",
    "settings_file = root + os.sep + 'src' + os.sep + \"utils\" + os.sep + \"settings_sql.json\"\n",
    "# Reports path\n",
    "reports = root + os.sep + 'reports'"
   ]
  },
  {
   "source": [
    "## 1. Data Mining\n",
    "\n",
    "This project uses **Cornell Movie-Quotes Corpus v1.0 (released July 2012)**, which consists in a collection of all-time memorable movie quotes, to which personal favourites were included. The data was cleaned and structured before attempting the preprocessing phase.\n",
    "\n",
    "reference link: https://www.cs.cornell.edu/~cristian/memorability.html"
   ],
   "cell_type": "markdown",
   "metadata": {}
  },
  {
   "cell_type": "code",
   "execution_count": 2,
   "metadata": {},
   "outputs": [
    {
     "output_type": "stream",
     "name": "stdout",
     "text": [
      "Successfully saved Dataframe.\nObtained corpus text from 01 - The Fellowship Of The Ring.txt\n"
     ]
    }
   ],
   "source": [
    "# Base Data Path\n",
    "raw_path = root + os.sep + 'data' + os.sep + 'moviequotes.memorable_quotes.txt'\n",
    "\n",
    "# Class instance of QuoteCleaner, designed to clean the input data and convert it into a csv dataframe.\n",
    "q = QuoteCleaner(raw_path)\n",
    "q.add_quotes(extra_quotes)\n",
    "q.save_quote_df(root + os.sep + 'data' + os.sep + 'BASE.csv')\n",
    "\n",
    "# The possibility of cleaning raw text files was implemented.\n",
    "dirname = root + os.sep + 'data'\n",
    "q.clean_text(dirname,  '01 - The Fellowship Of The Ring.txt')"
   ]
  },
  {
   "cell_type": "code",
   "execution_count": 2,
   "metadata": {},
   "outputs": [
    {
     "output_type": "execute_result",
     "data": {
      "text/plain": [
       "                                                  title  \\\n",
       "0                            10 things i hate about you   \n",
       "1                            10 things i hate about you   \n",
       "2                            10 things i hate about you   \n",
       "3                            10 things i hate about you   \n",
       "4                            10 things i hate about you   \n",
       "...                                                 ...   \n",
       "6289  the lord of the rings: the fellowship of the ring   \n",
       "6290      the lord of the rings: the return of the king   \n",
       "6291      the lord of the rings: the return of the king   \n",
       "6292      the lord of the rings: the return of the king   \n",
       "6293      the lord of the rings: the return of the king   \n",
       "\n",
       "                                                  quote  \n",
       "0                           Who knocked up your sister?  \n",
       "1     I was watching you out there, before. I've nev...  \n",
       "2     You're 18, you don't know what you want. And y...  \n",
       "3     Ooh, see that, there. Who needs affection when...  \n",
       "4     Just 'cause you're beautiful, that doesn't mea...  \n",
       "...                                                 ...  \n",
       "6289  If by my life or death I can protect you, I wi...  \n",
       "6290  Certainty of death. Small chance of success. W...  \n",
       "6291  The journey doesn't end here. Death is just an...  \n",
       "6292  I see in your eyes the same fear that would ta...  \n",
       "6293                            But it is not this day!  \n",
       "\n",
       "[6294 rows x 2 columns]"
      ],
      "text/html": "<div>\n<style scoped>\n    .dataframe tbody tr th:only-of-type {\n        vertical-align: middle;\n    }\n\n    .dataframe tbody tr th {\n        vertical-align: top;\n    }\n\n    .dataframe thead th {\n        text-align: right;\n    }\n</style>\n<table border=\"1\" class=\"dataframe\">\n  <thead>\n    <tr style=\"text-align: right;\">\n      <th></th>\n      <th>title</th>\n      <th>quote</th>\n    </tr>\n  </thead>\n  <tbody>\n    <tr>\n      <th>0</th>\n      <td>10 things i hate about you</td>\n      <td>Who knocked up your sister?</td>\n    </tr>\n    <tr>\n      <th>1</th>\n      <td>10 things i hate about you</td>\n      <td>I was watching you out there, before. I've nev...</td>\n    </tr>\n    <tr>\n      <th>2</th>\n      <td>10 things i hate about you</td>\n      <td>You're 18, you don't know what you want. And y...</td>\n    </tr>\n    <tr>\n      <th>3</th>\n      <td>10 things i hate about you</td>\n      <td>Ooh, see that, there. Who needs affection when...</td>\n    </tr>\n    <tr>\n      <th>4</th>\n      <td>10 things i hate about you</td>\n      <td>Just 'cause you're beautiful, that doesn't mea...</td>\n    </tr>\n    <tr>\n      <th>...</th>\n      <td>...</td>\n      <td>...</td>\n    </tr>\n    <tr>\n      <th>6289</th>\n      <td>the lord of the rings: the fellowship of the ring</td>\n      <td>If by my life or death I can protect you, I wi...</td>\n    </tr>\n    <tr>\n      <th>6290</th>\n      <td>the lord of the rings: the return of the king</td>\n      <td>Certainty of death. Small chance of success. W...</td>\n    </tr>\n    <tr>\n      <th>6291</th>\n      <td>the lord of the rings: the return of the king</td>\n      <td>The journey doesn't end here. Death is just an...</td>\n    </tr>\n    <tr>\n      <th>6292</th>\n      <td>the lord of the rings: the return of the king</td>\n      <td>I see in your eyes the same fear that would ta...</td>\n    </tr>\n    <tr>\n      <th>6293</th>\n      <td>the lord of the rings: the return of the king</td>\n      <td>But it is not this day!</td>\n    </tr>\n  </tbody>\n</table>\n<p>6294 rows × 2 columns</p>\n</div>"
     },
     "metadata": {},
     "execution_count": 2
    }
   ],
   "source": [
    "df = pd.read_csv(root + os.sep + 'data'+ os.sep + 'BASE.csv', index_col=0)\n",
    "df"
   ]
  },
  {
   "source": [
    "## 2. Text Generation Modeling\n",
    "\n",
    "### Preprocessing\n",
    "\n",
    "The movie quotes were joined into a single corpus. The main reason for this was that the input size in a single model should be of a fixed length. The corpus was tokenized and converted into one-hot arrays. Two types of NLP tecniques were applied:\n",
    "\n",
    "- Character-Level: Division into sequences of the same character length. These model types search for correlations between characters rather than words. This results in easily trainable models with reasonable outputs for the LSTM type models. Due to the corpus length and low computational demand, this method proved to be the most efficient regardless of its limitations.\n",
    "\n",
    "- Word-Level: This technique of tokenizing the corpus at a word scale is the preferred preprocessing technique for the most complex models. This adds a higher compleity to the size of the input arrays, resulting in high-demand computational processing. Due to the user's hardware limitations, word-based models could not be trained as much as it was desired. In addition, word-based models require extense corpus texts in order to find correlations.\n",
    "\n",
    "The main corpus was passed into lowercase characters, serving as input for the character-based models. For word preprocessing, the corpus text was stripped from any type of string punctuation.\n",
    "\n",
    "The sequence length for character-based models was established as the mean length of every quote (40 characters) resulting in input array of shape (40, 52). On the other hand, sequence length for word-based models was established to 5 words for simplifying training, in expense to worst results orverall. A parameter was created for just taking into account the most frequent words, meaning that words which appear in the whole corpus with a frequency of less than 2 were not added into the token dictionary, reducing the number of input columns.\n",
    "\n",
    "_Temperature sampling_: A standard technique introduced into the model prediction functions for improving the quality of samples from language models. Temperature sampling also introduces semantic distortions in the process, so each case may have its unique temperature value (default = 1)."
   ],
   "cell_type": "markdown",
   "metadata": {}
  },
  {
   "source": [
    "## 2.1 LSTM Models\n",
    "\n",
    "These models take an input array in order to predict the next word/character. Character-based LSTM models had a total of 52 unique characters, which resulted in shorter training preriods. Word-based models on the other hand were much more complex and due to memory problems the arrays introduced had to contain much shorter sequences.\n",
    "\n",
    "The batch size for each epoch was established by default in 128 for each epoch.\n",
    "\n",
    "### 2.1.1 Character-level LSTM"
   ],
   "cell_type": "markdown",
   "metadata": {}
  },
  {
   "cell_type": "code",
   "execution_count": 3,
   "metadata": {},
   "outputs": [
    {
     "output_type": "stream",
     "name": "stdout",
     "text": [
      "Corpus length: 664235\n",
      "Total chars: 52\n",
      "Number of sequences: 221399\n",
      "Model: \"sequential\"\n",
      "_________________________________________________________________\n",
      "Layer (type)                 Output Shape              Param #   \n",
      "=================================================================\n",
      "lstm (LSTM)                  (None, 128)               92672     \n",
      "_________________________________________________________________\n",
      "dense (Dense)                (None, 52)                6708      \n",
      "=================================================================\n",
      "Total params: 99,380\n",
      "Trainable params: 99,380\n",
      "Non-trainable params: 0\n",
      "_________________________________________________________________\n"
     ]
    }
   ],
   "source": [
    "char_base_model = LSTM_Generator(df)"
   ]
  },
  {
   "cell_type": "code",
   "execution_count": 5,
   "metadata": {},
   "outputs": [
    {
     "output_type": "stream",
     "name": "stdout",
     "text": [
      "Training character LSTM model for [epochs:40, batch_size:128]\n",
      "Epoch 1/40\n",
      "1730/1730 [==============================] - 76s 43ms/step - loss: 1.9333 - root_mean_squared_error: 0.1155\n",
      "Epoch 2/40\n",
      "1730/1730 [==============================] - 69s 40ms/step - loss: 1.6547 - root_mean_squared_error: 0.1091\n",
      "Epoch 3/40\n",
      "1730/1730 [==============================] - 73s 42ms/step - loss: 1.5827 - root_mean_squared_error: 0.1072\n",
      "Epoch 4/40\n",
      "1730/1730 [==============================] - 70s 40ms/step - loss: 1.5442 - root_mean_squared_error: 0.1061\n",
      "Epoch 5/40\n",
      "1730/1730 [==============================] - 69s 40ms/step - loss: 1.5156 - root_mean_squared_error: 0.1053\n",
      "Epoch 6/40\n",
      "1730/1730 [==============================] - 69s 40ms/step - loss: 1.4959 - root_mean_squared_error: 0.1047\n",
      "Epoch 7/40\n",
      "1730/1730 [==============================] - 69s 40ms/step - loss: 1.4797 - root_mean_squared_error: 0.1042\n",
      "Epoch 8/40\n",
      "1730/1730 [==============================] - 70s 41ms/step - loss: 1.4656 - root_mean_squared_error: 0.1038\n",
      "Epoch 9/40\n",
      "1730/1730 [==============================] - 70s 40ms/step - loss: 1.4566 - root_mean_squared_error: 0.1035\n",
      "Epoch 10/40\n",
      "1730/1730 [==============================] - 72s 42ms/step - loss: 1.4465 - root_mean_squared_error: 0.1033\n",
      "Epoch 11/40\n",
      "1730/1730 [==============================] - 78s 45ms/step - loss: 1.4379 - root_mean_squared_error: 0.1030\n",
      "Epoch 12/40\n",
      "1730/1730 [==============================] - 78s 45ms/step - loss: 1.4319 - root_mean_squared_error: 0.1028\n",
      "Epoch 13/40\n",
      "1730/1730 [==============================] - 78s 45ms/step - loss: 1.4261 - root_mean_squared_error: 0.1027\n",
      "Epoch 14/40\n",
      "1730/1730 [==============================] - 72s 42ms/step - loss: 1.4198 - root_mean_squared_error: 0.1025\n",
      "Epoch 15/40\n",
      "1730/1730 [==============================] - 70s 40ms/step - loss: 1.4148 - root_mean_squared_error: 0.1023\n",
      "Epoch 16/40\n",
      "1730/1730 [==============================] - 69s 40ms/step - loss: 1.4105 - root_mean_squared_error: 0.1022\n",
      "Epoch 17/40\n",
      "1730/1730 [==============================] - 76s 44ms/step - loss: 1.4052 - root_mean_squared_error: 0.1021\n",
      "Epoch 18/40\n",
      "1730/1730 [==============================] - 74s 43ms/step - loss: 1.4013 - root_mean_squared_error: 0.1019\n",
      "Epoch 19/40\n",
      "1730/1730 [==============================] - 73s 42ms/step - loss: 1.3976 - root_mean_squared_error: 0.1019\n",
      "Epoch 20/40\n",
      "1730/1730 [==============================] - 73s 42ms/step - loss: 1.3939 - root_mean_squared_error: 0.1017\n",
      "Epoch 21/40\n",
      "1730/1730 [==============================] - 69s 40ms/step - loss: 1.3896 - root_mean_squared_error: 0.1016\n",
      "Epoch 22/40\n",
      "1730/1730 [==============================] - 70s 40ms/step - loss: 1.3867 - root_mean_squared_error: 0.1015\n",
      "Epoch 23/40\n",
      "1730/1730 [==============================] - 75s 43ms/step - loss: 1.3826 - root_mean_squared_error: 0.1014\n",
      "Epoch 24/40\n",
      "1730/1730 [==============================] - 72s 42ms/step - loss: 1.3808 - root_mean_squared_error: 0.1013\n",
      "Epoch 25/40\n",
      "1730/1730 [==============================] - 71s 41ms/step - loss: 1.3776 - root_mean_squared_error: 0.1013\n",
      "Epoch 26/40\n",
      "1730/1730 [==============================] - 71s 41ms/step - loss: 1.3746 - root_mean_squared_error: 0.1011\n",
      "Epoch 27/40\n",
      "1730/1730 [==============================] - 71s 41ms/step - loss: 1.3721 - root_mean_squared_error: 0.1011\n",
      "Epoch 28/40\n",
      "1730/1730 [==============================] - 72s 41ms/step - loss: 1.3700 - root_mean_squared_error: 0.1010\n",
      "Epoch 29/40\n",
      "1730/1730 [==============================] - 72s 42ms/step - loss: 1.3670 - root_mean_squared_error: 0.1009\n",
      "Epoch 30/40\n",
      "1730/1730 [==============================] - 76s 44ms/step - loss: 1.3663 - root_mean_squared_error: 0.1009\n",
      "Epoch 31/40\n",
      "1730/1730 [==============================] - 78s 45ms/step - loss: 1.3636 - root_mean_squared_error: 0.1008\n",
      "Epoch 32/40\n",
      "1730/1730 [==============================] - 79s 45ms/step - loss: 1.3640 - root_mean_squared_error: 0.1008\n",
      "Epoch 33/40\n",
      "1730/1730 [==============================] - 73s 42ms/step - loss: 1.3604 - root_mean_squared_error: 0.1007\n",
      "Epoch 34/40\n",
      "1730/1730 [==============================] - 70s 40ms/step - loss: 1.3576 - root_mean_squared_error: 0.1007\n",
      "Epoch 35/40\n",
      "1730/1730 [==============================] - 76s 44ms/step - loss: 1.3577 - root_mean_squared_error: 0.1006\n",
      "Epoch 36/40\n",
      "1730/1730 [==============================] - 74s 43ms/step - loss: 1.3539 - root_mean_squared_error: 0.1005\n",
      "Epoch 37/40\n",
      "1730/1730 [==============================] - 71s 41ms/step - loss: 1.3527 - root_mean_squared_error: 0.1005\n",
      "Epoch 38/40\n",
      "1730/1730 [==============================] - 71s 41ms/step - loss: 1.3504 - root_mean_squared_error: 0.1004\n",
      "Epoch 39/40\n",
      "1730/1730 [==============================] - 69s 40ms/step - loss: 1.3502 - root_mean_squared_error: 0.1004\n",
      "Epoch 40/40\n",
      "1730/1730 [==============================] - 71s 41ms/step - loss: 1.3478 - root_mean_squared_error: 0.1004\n",
      "Finished training.\n"
     ]
    }
   ],
   "source": [
    "char_base_model.train(epochs=40)"
   ]
  },
  {
   "cell_type": "code",
   "execution_count": 7,
   "metadata": {},
   "outputs": [
    {
     "output_type": "execute_result",
     "data": {
      "text/plain": [
       "\"ten to the corner to the first be a country. i was a time of the more buss. i don't know that you se\""
      ]
     },
     "metadata": {},
     "execution_count": 7
    }
   ],
   "source": [
    "char_base_model.predict(quote_len=100, temperature=0.2)"
   ]
  },
  {
   "cell_type": "code",
   "execution_count": 9,
   "metadata": {},
   "outputs": [
    {
     "output_type": "stream",
     "name": "stdout",
     "text": [
      "6919/6919 [==============================] - 52s 7ms/step - loss: 1.3114 - root_mean_squared_error: 0.0992\n"
     ]
    }
   ],
   "source": [
    "charb_loss, charb_rmse = char_base_model.model.evaluate(char_base_model.X, char_base_model.Y)"
   ]
  },
  {
   "cell_type": "code",
   "execution_count": 10,
   "metadata": {},
   "outputs": [
    {
     "output_type": "stream",
     "name": "stdout",
     "text": [
      "Model saved.\n"
     ]
    }
   ],
   "source": [
    "char_base_model.save_model(root + os.sep + 'models' + os.sep + '1_Base_Quote_LSTM.h5')"
   ]
  },
  {
   "cell_type": "code",
   "execution_count": 15,
   "metadata": {},
   "outputs": [],
   "source": [
    "s = \"I love the smell of napalm in the morning\""
   ]
  },
  {
   "source": [
    "### 2.1.2 Word-Level LSTM"
   ],
   "cell_type": "markdown",
   "metadata": {}
  },
  {
   "cell_type": "code",
   "execution_count": 24,
   "metadata": {},
   "outputs": [
    {
     "output_type": "stream",
     "name": "stdout",
     "text": [
      "Corpus length: 664235\n",
      "Total words: 124456\n",
      "Unique words before ignoring: 11955\n",
      "Ignoring words with frequency < 3\n",
      "Unique words after ignoring: 3501\n",
      "Number of sequences: 25828\n",
      "Model: \"sequential_1\"\n",
      "_________________________________________________________________\n",
      "Layer (type)                 Output Shape              Param #   \n",
      "=================================================================\n",
      "lstm_1 (LSTM)                (None, 128)               1858560   \n",
      "_________________________________________________________________\n",
      "dense_1 (Dense)              (None, 3501)              451629    \n",
      "=================================================================\n",
      "Total params: 2,310,189\n",
      "Trainable params: 2,310,189\n",
      "Non-trainable params: 0\n",
      "_________________________________________________________________\n"
     ]
    }
   ],
   "source": [
    "word_base_model = LSTM_Generator(df, option='word', maxlen=5, min_word_frequency=3)"
   ]
  },
  {
   "cell_type": "code",
   "execution_count": 5,
   "metadata": {},
   "outputs": [
    {
     "output_type": "stream",
     "name": "stdout",
     "text": [
      "Training word LSTM model for [epochs:40, batch_size:128]\n",
      "Epoch 1/40\n",
      "202/202 [==============================] - 17s 75ms/step - loss: 6.2243 - root_mean_squared_error: 0.0168\n",
      "Epoch 2/40\n",
      "202/202 [==============================] - 15s 75ms/step - loss: 5.6281 - root_mean_squared_error: 0.0167\n",
      "Epoch 3/40\n",
      "202/202 [==============================] - 14s 70ms/step - loss: 5.2425 - root_mean_squared_error: 0.0165\n",
      "Epoch 4/40\n",
      "202/202 [==============================] - 13s 66ms/step - loss: 4.8184 - root_mean_squared_error: 0.0162\n",
      "Epoch 5/40\n",
      "202/202 [==============================] - 14s 68ms/step - loss: 4.3698 - root_mean_squared_error: 0.0158\n",
      "Epoch 6/40\n",
      "202/202 [==============================] - 14s 70ms/step - loss: 3.9625 - root_mean_squared_error: 0.0152\n",
      "Epoch 7/40\n",
      "202/202 [==============================] - 14s 69ms/step - loss: 3.5867 - root_mean_squared_error: 0.0145\n",
      "Epoch 8/40\n",
      "202/202 [==============================] - 14s 67ms/step - loss: 3.1984 - root_mean_squared_error: 0.0137\n",
      "Epoch 9/40\n",
      "202/202 [==============================] - 14s 69ms/step - loss: 2.8254 - root_mean_squared_error: 0.0130\n",
      "Epoch 10/40\n",
      "202/202 [==============================] - 14s 68ms/step - loss: 2.4961 - root_mean_squared_error: 0.0122\n",
      "Epoch 11/40\n",
      "202/202 [==============================] - 14s 68ms/step - loss: 2.2119 - root_mean_squared_error: 0.0115\n",
      "Epoch 12/40\n",
      "202/202 [==============================] - 14s 69ms/step - loss: 1.9844 - root_mean_squared_error: 0.0109\n",
      "Epoch 13/40\n",
      "202/202 [==============================] - 14s 69ms/step - loss: 1.8170 - root_mean_squared_error: 0.0104\n",
      "Epoch 14/40\n",
      "202/202 [==============================] - 14s 69ms/step - loss: 1.6774 - root_mean_squared_error: 0.0099\n",
      "Epoch 15/40\n",
      "202/202 [==============================] - 14s 68ms/step - loss: 1.5905 - root_mean_squared_error: 0.0096\n",
      "Epoch 16/40\n",
      "202/202 [==============================] - 14s 68ms/step - loss: 1.5244 - root_mean_squared_error: 0.0093\n",
      "Epoch 17/40\n",
      "202/202 [==============================] - 14s 67ms/step - loss: 1.4668 - root_mean_squared_error: 0.0090\n",
      "Epoch 18/40\n",
      "202/202 [==============================] - 14s 67ms/step - loss: 1.4351 - root_mean_squared_error: 0.0089\n",
      "Epoch 19/40\n",
      "202/202 [==============================] - 14s 69ms/step - loss: 1.4118 - root_mean_squared_error: 0.0087\n",
      "Epoch 20/40\n",
      "202/202 [==============================] - 13s 66ms/step - loss: 1.3912 - root_mean_squared_error: 0.0086\n",
      "Epoch 21/40\n",
      "202/202 [==============================] - 13s 66ms/step - loss: 1.3763 - root_mean_squared_error: 0.0084\n",
      "Epoch 22/40\n",
      "202/202 [==============================] - 14s 67ms/step - loss: 1.3796 - root_mean_squared_error: 0.0084\n",
      "Epoch 23/40\n",
      "202/202 [==============================] - 14s 71ms/step - loss: 1.3719 - root_mean_squared_error: 0.0083\n",
      "Epoch 24/40\n",
      "202/202 [==============================] - 14s 71ms/step - loss: 1.3460 - root_mean_squared_error: 0.0082\n",
      "Epoch 25/40\n",
      "202/202 [==============================] - 14s 70ms/step - loss: 1.3501 - root_mean_squared_error: 0.0081\n",
      "Epoch 26/40\n",
      "202/202 [==============================] - 14s 71ms/step - loss: 1.3283 - root_mean_squared_error: 0.0080\n",
      "Epoch 27/40\n",
      "202/202 [==============================] - 14s 71ms/step - loss: 1.3310 - root_mean_squared_error: 0.0080\n",
      "Epoch 28/40\n",
      "202/202 [==============================] - 14s 68ms/step - loss: 1.3179 - root_mean_squared_error: 0.0080\n",
      "Epoch 29/40\n",
      "202/202 [==============================] - 14s 68ms/step - loss: 1.3017 - root_mean_squared_error: 0.0079\n",
      "Epoch 30/40\n",
      "202/202 [==============================] - 14s 71ms/step - loss: 1.2744 - root_mean_squared_error: 0.0078\n",
      "Epoch 31/40\n",
      "202/202 [==============================] - 16s 77ms/step - loss: 1.2812 - root_mean_squared_error: 0.0078\n",
      "Epoch 32/40\n",
      "202/202 [==============================] - 18s 91ms/step - loss: 1.2725 - root_mean_squared_error: 0.0077\n",
      "Epoch 33/40\n",
      "202/202 [==============================] - 18s 88ms/step - loss: 1.2692 - root_mean_squared_error: 0.0078\n",
      "Epoch 34/40\n",
      "202/202 [==============================] - 15s 76ms/step - loss: 1.2454 - root_mean_squared_error: 0.0077\n",
      "Epoch 35/40\n",
      "202/202 [==============================] - 15s 75ms/step - loss: 1.2385 - root_mean_squared_error: 0.0076\n",
      "Epoch 36/40\n",
      "202/202 [==============================] - 15s 73ms/step - loss: 1.2319 - root_mean_squared_error: 0.0076\n",
      "Epoch 37/40\n",
      "202/202 [==============================] - 16s 78ms/step - loss: 1.2316 - root_mean_squared_error: 0.0076\n",
      "Epoch 38/40\n",
      "202/202 [==============================] - 16s 78ms/step - loss: 1.2181 - root_mean_squared_error: 0.0076\n",
      "Epoch 39/40\n",
      "202/202 [==============================] - 16s 79ms/step - loss: 1.2132 - root_mean_squared_error: 0.0076\n",
      "Epoch 40/40\n",
      "202/202 [==============================] - 16s 79ms/step - loss: 1.2065 - root_mean_squared_error: 0.0075\n",
      "Finished training.\n"
     ]
    }
   ],
   "source": [
    "word_base_model.train(epochs=40)"
   ]
  },
  {
   "cell_type": "code",
   "execution_count": 8,
   "metadata": {},
   "outputs": [
    {
     "output_type": "execute_result",
     "data": {
      "text/plain": [
       "'lot are you touch women standing to the public eat '"
      ]
     },
     "metadata": {},
     "execution_count": 8
    }
   ],
   "source": [
    "word_base_model.predict(quote_len=10, option='word')"
   ]
  },
  {
   "cell_type": "code",
   "execution_count": 9,
   "metadata": {},
   "outputs": [
    {
     "output_type": "stream",
     "name": "stdout",
     "text": [
      "808/808 [==============================] - 10s 13ms/step - loss: 0.9067 - root_mean_squared_error: 0.0069\n"
     ]
    }
   ],
   "source": [
    "wordb_loss, wordb_rmse = word_base_model.model.evaluate(word_base_model.X, word_base_model.Y)"
   ]
  },
  {
   "cell_type": "code",
   "execution_count": 10,
   "metadata": {},
   "outputs": [
    {
     "output_type": "stream",
     "name": "stdout",
     "text": [
      "Model saved.\n"
     ]
    }
   ],
   "source": [
    "word_base_model.save_model(root + os.sep + 'models' + os.sep + '2_Word_Base_LSTM.h5')"
   ]
  },
  {
   "source": [
    "### 2.1.3 Biderectional Character LSTM"
   ],
   "cell_type": "markdown",
   "metadata": {}
  },
  {
   "cell_type": "code",
   "execution_count": 4,
   "metadata": {},
   "outputs": [
    {
     "output_type": "stream",
     "name": "stdout",
     "text": [
      "Corpus length: 664235\n",
      "Total chars: 52\n",
      "Number of sequences: 221399\n",
      "Model: \"sequential\"\n",
      "_________________________________________________________________\n",
      "Layer (type)                 Output Shape              Param #   \n",
      "=================================================================\n",
      "bidirectional (Bidirectional (None, 256)               185344    \n",
      "_________________________________________________________________\n",
      "leaky_re_lu (LeakyReLU)      (None, 256)               0         \n",
      "_________________________________________________________________\n",
      "dropout (Dropout)            (None, 256)               0         \n",
      "_________________________________________________________________\n",
      "dense (Dense)                (None, 52)                13364     \n",
      "=================================================================\n",
      "Total params: 198,708\n",
      "Trainable params: 198,708\n",
      "Non-trainable params: 0\n",
      "_________________________________________________________________\n"
     ]
    }
   ],
   "source": [
    "bibase = LSTM_Generator(df, model_type=2)"
   ]
  },
  {
   "cell_type": "code",
   "execution_count": 5,
   "metadata": {},
   "outputs": [
    {
     "output_type": "stream",
     "name": "stdout",
     "text": [
      "Training character LSTM model for [epochs:40, batch_size:128]\n",
      "Epoch 1/40\n",
      "1730/1730 [==============================] - 128s 72ms/step - loss: 2.0677 - root_mean_squared_error: 0.1182\n",
      "Epoch 2/40\n",
      "1730/1730 [==============================] - 127s 73ms/step - loss: 1.7971 - root_mean_squared_error: 0.1121\n",
      "Epoch 3/40\n",
      "1730/1730 [==============================] - 127s 74ms/step - loss: 1.7283 - root_mean_squared_error: 0.1104\n",
      "Epoch 4/40\n",
      "1730/1730 [==============================] - 128s 74ms/step - loss: 1.6915 - root_mean_squared_error: 0.1094\n",
      "Epoch 5/40\n",
      "1730/1730 [==============================] - 128s 74ms/step - loss: 1.6662 - root_mean_squared_error: 0.1088\n",
      "Epoch 6/40\n",
      "1730/1730 [==============================] - 129s 75ms/step - loss: 1.6476 - root_mean_squared_error: 0.1084\n",
      "Epoch 7/40\n",
      "1730/1730 [==============================] - 129s 74ms/step - loss: 1.6332 - root_mean_squared_error: 0.1079\n",
      "Epoch 8/40\n",
      "1730/1730 [==============================] - 130s 75ms/step - loss: 1.6191 - root_mean_squared_error: 0.1077\n",
      "Epoch 9/40\n",
      "1730/1730 [==============================] - 121s 70ms/step - loss: 1.6081 - root_mean_squared_error: 0.1073\n",
      "Epoch 10/40\n",
      "1730/1730 [==============================] - 117s 67ms/step - loss: 1.5993 - root_mean_squared_error: 0.1071\n",
      "Epoch 11/40\n",
      "1730/1730 [==============================] - 118s 68ms/step - loss: 1.5864 - root_mean_squared_error: 0.1067\n",
      "Epoch 12/40\n",
      "1730/1730 [==============================] - 117s 68ms/step - loss: 1.5800 - root_mean_squared_error: 0.1066\n",
      "Epoch 13/40\n",
      "1730/1730 [==============================] - 117s 68ms/step - loss: 1.5728 - root_mean_squared_error: 0.1064\n",
      "Epoch 14/40\n",
      "1730/1730 [==============================] - 118s 68ms/step - loss: 1.5668 - root_mean_squared_error: 0.1062\n",
      "Epoch 15/40\n",
      "1730/1730 [==============================] - 116s 67ms/step - loss: 1.5625 - root_mean_squared_error: 0.1061\n",
      "Epoch 16/40\n",
      "1730/1730 [==============================] - 118s 68ms/step - loss: 1.5574 - root_mean_squared_error: 0.1059\n",
      "Epoch 17/40\n",
      "1730/1730 [==============================] - 122s 70ms/step - loss: 1.5514 - root_mean_squared_error: 0.1058\n",
      "Epoch 18/40\n",
      "1730/1730 [==============================] - 123s 71ms/step - loss: 1.5487 - root_mean_squared_error: 0.1057\n",
      "Epoch 19/40\n",
      "1730/1730 [==============================] - 123s 71ms/step - loss: 1.5466 - root_mean_squared_error: 0.1057\n",
      "Epoch 20/40\n",
      "1730/1730 [==============================] - 121s 70ms/step - loss: 1.5420 - root_mean_squared_error: 0.1056\n",
      "Epoch 21/40\n",
      "1730/1730 [==============================] - 122s 71ms/step - loss: 1.5410 - root_mean_squared_error: 0.1055\n",
      "Epoch 22/40\n",
      "1730/1730 [==============================] - 121s 70ms/step - loss: 1.5396 - root_mean_squared_error: 0.1055\n",
      "Epoch 23/40\n",
      "1730/1730 [==============================] - 122s 70ms/step - loss: 1.5400 - root_mean_squared_error: 0.1055\n",
      "Epoch 24/40\n",
      "1730/1730 [==============================] - 117s 68ms/step - loss: 1.5365 - root_mean_squared_error: 0.1054\n",
      "Epoch 25/40\n",
      "1730/1730 [==============================] - 113s 66ms/step - loss: 1.5357 - root_mean_squared_error: 0.1054\n",
      "Epoch 26/40\n",
      "1730/1730 [==============================] - 114s 66ms/step - loss: 1.5325 - root_mean_squared_error: 0.1053\n",
      "Epoch 27/40\n",
      "1730/1730 [==============================] - 114s 66ms/step - loss: 1.5331 - root_mean_squared_error: 0.1053\n",
      "Epoch 28/40\n",
      "1730/1730 [==============================] - 114s 66ms/step - loss: 1.5299 - root_mean_squared_error: 0.1052\n",
      "Epoch 29/40\n",
      "1730/1730 [==============================] - 114s 66ms/step - loss: 1.5309 - root_mean_squared_error: 0.1052\n",
      "Epoch 30/40\n",
      "1730/1730 [==============================] - 114s 66ms/step - loss: 1.5311 - root_mean_squared_error: 0.1053\n",
      "Epoch 31/40\n",
      "1730/1730 [==============================] - 114s 66ms/step - loss: 1.5366 - root_mean_squared_error: 0.1053\n",
      "Epoch 32/40\n",
      "1730/1730 [==============================] - 116s 67ms/step - loss: 1.5606 - root_mean_squared_error: 0.1058\n",
      "Epoch 33/40\n",
      "1730/1730 [==============================] - 121s 70ms/step - loss: 1.5345 - root_mean_squared_error: 0.1053\n",
      "Epoch 34/40\n",
      "1730/1730 [==============================] - 122s 71ms/step - loss: 1.5323 - root_mean_squared_error: 0.1052\n",
      "Epoch 35/40\n",
      "1730/1730 [==============================] - 122s 70ms/step - loss: 1.5358 - root_mean_squared_error: 0.1052\n",
      "Epoch 36/40\n",
      "1730/1730 [==============================] - 123s 71ms/step - loss: 1.8991 - root_mean_squared_error: 0.1100\n",
      "Epoch 37/40\n",
      "1730/1730 [==============================] - 122s 71ms/step - loss: 1.9537 - root_mean_squared_error: 0.1134\n",
      "Epoch 38/40\n",
      "1730/1730 [==============================] - 122s 70ms/step - loss: 1.5890 - root_mean_squared_error: 0.1066\n",
      "Epoch 39/40\n",
      "1730/1730 [==============================] - 123s 71ms/step - loss: 1.5518 - root_mean_squared_error: 0.1056\n",
      "Epoch 40/40\n",
      "1730/1730 [==============================] - 117s 68ms/step - loss: 1.5721 - root_mean_squared_error: 0.1060\n",
      "Finished training.\n"
     ]
    }
   ],
   "source": [
    "bibase.train(epochs=40)"
   ]
  },
  {
   "cell_type": "code",
   "execution_count": 6,
   "metadata": {},
   "outputs": [
    {
     "output_type": "execute_result",
     "data": {
      "text/plain": [
       "'e thing on tome good taming the sour the trour that they for on the mine of the a something the thin'"
      ]
     },
     "metadata": {},
     "execution_count": 6
    }
   ],
   "source": [
    "bibase.predict(quote_len=100, temperature=0.3)"
   ]
  },
  {
   "cell_type": "code",
   "execution_count": 7,
   "metadata": {},
   "outputs": [
    {
     "output_type": "stream",
     "name": "stdout",
     "text": [
      "6919/6919 [==============================] - 65s 9ms/step - loss: 1.4187 - root_mean_squared_error: 0.1023\n"
     ]
    }
   ],
   "source": [
    "bi_loss, bi_rmse = bibase.model.evaluate(bibase.X, bibase.Y)"
   ]
  },
  {
   "cell_type": "code",
   "execution_count": 8,
   "metadata": {},
   "outputs": [
    {
     "output_type": "stream",
     "name": "stdout",
     "text": [
      "Model saved.\n"
     ]
    }
   ],
   "source": [
    "bibase.save_model(root + os.sep + 'models' + os.sep + '3_Bidirectional_LSTM.h5')"
   ]
  },
  {
   "source": [
    "## 2.2 GAN Models\n",
    "\n",
    "Generative Adversarial Networks, or GANs, are an architecture for training generative models, such as deep convolutional neural networks for generating images. This is a completely different type of text generation model compared to the previous LSTM neural networks. Here, text generation will be treated in the same way as image generation.\n",
    "\n",
    "<table align=\"center\"> \n",
    "<tr><td width=\"100000\"><img src=\"../resources/gan_diagram.png\" style=\"width:140000000;height:1500\"></td> \n",
    "<td style=\"image-align:center\"> \n",
    "</td></tr> \n",
    "</table>\n",
    "\n",
    "The base overview of a GAN model is that two models (Discriminator & Generator) work against each other to try to fool the other until both of them stabilize (therefore adversarial). The desired result is for the Generator to learn how to create outputs impossible for the discriminator to recognize as fake. In order to achieve these results, both models should be high demanding or the training period will reach stabilization too early. Tuning a GAN may be one of the most complex tasks in the Deep Learning spectrum.\n",
    "\n",
    "Without further ado, the GAN basic structure will be explained.\n",
    "\n",
    "### The Discriminator Model\n",
    "Its role is to take a sample text sequence from the dataset as input and output a classification prediction as to whether the sample is real or fake.\n",
    "\n",
    "Best practices suggest to define this model as a sequence of Convolution -> LeakyRelu -> Dropout Layers, setting the loss with binary crossentropy and using the Adam version of stochastic gradient descent with a learning rate of 0.0002 and a momentum of 0.5.\n",
    "\n",
    "### The Generator Model\n",
    "Its role is to generate a text sequence with enough quality to fool the discriminator. The generator is not compiled. It is trained in tandem with the discriminator.\n",
    "\n",
    "Best practices suggest to define this model with a sequence of Dense -> LeakyRelu -> BatchNormalization Layers.\n",
    "\n",
    "### GAN Model\n",
    "The tandem sequence of Generator -> Discriminator with the same compilation configuration as the discriminator.\n",
    "\n",
    "The training sequence is as follows:\n",
    "- Generate real and fake samples and train the discriminator.\n",
    "- Generate fake samples with inverted labels to train the GAN.\n",
    "- Repeat until stabilization.\n",
    "\n",
    "### Samples\n",
    "There are four main functions in the sample generation:\n",
    "- Latent point generation: It creates a series of random one-hot arrays with the same shape as the input.\n",
    "- Fake Sample generation: Involves calling the laten point function and labeling it as fake samples.\n",
    "- Real Sample generation: Involves getting real sequences from the dataset and lebeling them as real samples.\n",
    "- Gan Sample generation: Calls the latent point function and labels the output as real.\n",
    "\n",
    "*Side note: Compared to the previous LSTM models, text generation with GAN models gave underwhelming results.*\n",
    "\n",
    "### 2.2.1 Character-level GAN"
   ],
   "cell_type": "markdown",
   "metadata": {}
  },
  {
   "cell_type": "code",
   "execution_count": 55,
   "metadata": {},
   "outputs": [
    {
     "output_type": "stream",
     "name": "stdout",
     "text": [
      "Corpus length: 664235\n",
      "Total chars: 52\n",
      "Number of sequences: 221385\n",
      "Model: \"sequential_5\"\n",
      "_________________________________________________________________\n",
      "Layer (type)                 Output Shape              Param #   \n",
      "=================================================================\n",
      "conv1d_3 (Conv1D)            (None, 40, 52)            8164      \n",
      "_________________________________________________________________\n",
      "leaky_re_lu_6 (LeakyReLU)    (None, 40, 52)            0         \n",
      "_________________________________________________________________\n",
      "dropout_3 (Dropout)          (None, 40, 52)            0         \n",
      "_________________________________________________________________\n",
      "conv1d_4 (Conv1D)            (None, 40, 52)            8164      \n",
      "_________________________________________________________________\n",
      "leaky_re_lu_7 (LeakyReLU)    (None, 40, 52)            0         \n",
      "_________________________________________________________________\n",
      "dropout_4 (Dropout)          (None, 40, 52)            0         \n",
      "_________________________________________________________________\n",
      "conv1d_5 (Conv1D)            (None, 40, 52)            8164      \n",
      "_________________________________________________________________\n",
      "leaky_re_lu_8 (LeakyReLU)    (None, 40, 52)            0         \n",
      "_________________________________________________________________\n",
      "dropout_5 (Dropout)          (None, 40, 52)            0         \n",
      "_________________________________________________________________\n",
      "dense_6 (Dense)              (None, 40, 1)             53        \n",
      "=================================================================\n",
      "Total params: 24,545\n",
      "Trainable params: 24,545\n",
      "Non-trainable params: 0\n",
      "_________________________________________________________________\n",
      "Model: \"sequential_6\"\n",
      "_________________________________________________________________\n",
      "Layer (type)                 Output Shape              Param #   \n",
      "=================================================================\n",
      "dense_7 (Dense)              (None, 40, 52)            2756      \n",
      "_________________________________________________________________\n",
      "leaky_re_lu_9 (LeakyReLU)    (None, 40, 52)            0         \n",
      "_________________________________________________________________\n",
      "batch_normalization_3 (Batch (None, 40, 52)            208       \n",
      "_________________________________________________________________\n",
      "dense_8 (Dense)              (None, 40, 512)           27136     \n",
      "_________________________________________________________________\n",
      "leaky_re_lu_10 (LeakyReLU)   (None, 40, 512)           0         \n",
      "_________________________________________________________________\n",
      "batch_normalization_4 (Batch (None, 40, 512)           2048      \n",
      "_________________________________________________________________\n",
      "dense_9 (Dense)              (None, 40, 52)            26676     \n",
      "_________________________________________________________________\n",
      "leaky_re_lu_11 (LeakyReLU)   (None, 40, 52)            0         \n",
      "_________________________________________________________________\n",
      "batch_normalization_5 (Batch (None, 40, 52)            208       \n",
      "_________________________________________________________________\n",
      "reshape_1 (Reshape)          (None, 40, 52)            0         \n",
      "_________________________________________________________________\n",
      "conv1d_transpose_1 (Conv1DTr (None, 40, 52)            5460      \n",
      "=================================================================\n",
      "Total params: 64,492\n",
      "Trainable params: 63,260\n",
      "Non-trainable params: 1,232\n",
      "_________________________________________________________________\n",
      "Model: \"sequential_7\"\n",
      "_________________________________________________________________\n",
      "Layer (type)                 Output Shape              Param #   \n",
      "=================================================================\n",
      "sequential_6 (Sequential)    (None, 40, 52)            64492     \n",
      "_________________________________________________________________\n",
      "sequential_5 (Sequential)    (None, 40, 1)             24545     \n",
      "=================================================================\n",
      "Total params: 89,037\n",
      "Trainable params: 63,260\n",
      "Non-trainable params: 25,777\n",
      "_________________________________________________________________\n"
     ]
    }
   ],
   "source": [
    "char_gan = GAN(df)"
   ]
  },
  {
   "cell_type": "code",
   "execution_count": 56,
   "metadata": {
    "tags": [
     "outputPrepend"
    ]
   },
   "outputs": [
    {
     "output_type": "stream",
     "name": "stdout",
     "text": [
      "5, DF_acc: 0.915] [G loss: 2.7910165786743164]\n",
      "0:1454/1729: [DR_acc: 0.893, DF_acc: 0.926] [G loss: 2.7423741817474365]\n",
      "0:1455/1729: [DR_acc: 0.898, DF_acc: 0.925] [G loss: 2.786853075027466]\n",
      "0:1456/1729: [DR_acc: 0.918, DF_acc: 0.923] [G loss: 2.813753843307495]\n",
      "0:1457/1729: [DR_acc: 0.893, DF_acc: 0.927] [G loss: 2.8377485275268555]\n",
      "0:1458/1729: [DR_acc: 0.899, DF_acc: 0.935] [G loss: 2.735701084136963]\n",
      "0:1459/1729: [DR_acc: 0.893, DF_acc: 0.926] [G loss: 2.7651360034942627]\n",
      "0:1460/1729: [DR_acc: 0.894, DF_acc: 0.926] [G loss: 2.6891040802001953]\n",
      "0:1461/1729: [DR_acc: 0.904, DF_acc: 0.922] [G loss: 2.777000665664673]\n",
      "0:1462/1729: [DR_acc: 0.896, DF_acc: 0.911] [G loss: 2.7577342987060547]\n",
      "0:1463/1729: [DR_acc: 0.894, DF_acc: 0.911] [G loss: 2.815293788909912]\n",
      "0:1464/1729: [DR_acc: 0.922, DF_acc: 0.935] [G loss: 2.7448673248291016]\n",
      "0:1465/1729: [DR_acc: 0.912, DF_acc: 0.907] [G loss: 2.8054633140563965]\n",
      "0:1466/1729: [DR_acc: 0.905, DF_acc: 0.934] [G loss: 2.8660035133361816]\n",
      "0:1467/1729: [DR_acc: 0.895, DF_acc: 0.926] [G loss: 2.7958269119262695]\n",
      "0:1468/1729: [DR_acc: 0.906, DF_acc: 0.939] [G loss: 2.8193697929382324]\n",
      "0:1469/1729: [DR_acc: 0.896, DF_acc: 0.929] [G loss: 2.7403833866119385]\n",
      "0:1470/1729: [DR_acc: 0.91, DF_acc: 0.943] [G loss: 2.7806777954101562]\n",
      "0:1471/1729: [DR_acc: 0.879, DF_acc: 0.932] [G loss: 2.752107620239258]\n",
      "0:1472/1729: [DR_acc: 0.905, DF_acc: 0.906] [G loss: 2.810225486755371]\n",
      "0:1473/1729: [DR_acc: 0.918, DF_acc: 0.932] [G loss: 2.7894155979156494]\n",
      "0:1474/1729: [DR_acc: 0.908, DF_acc: 0.922] [G loss: 2.8345561027526855]\n",
      "0:1475/1729: [DR_acc: 0.902, DF_acc: 0.93] [G loss: 2.831056594848633]\n",
      "0:1476/1729: [DR_acc: 0.898, DF_acc: 0.93] [G loss: 2.7626571655273438]\n",
      "0:1477/1729: [DR_acc: 0.898, DF_acc: 0.918] [G loss: 2.82566499710083]\n",
      "0:1478/1729: [DR_acc: 0.889, DF_acc: 0.935] [G loss: 2.8390588760375977]\n",
      "0:1479/1729: [DR_acc: 0.893, DF_acc: 0.931] [G loss: 2.8000316619873047]\n",
      "0:1480/1729: [DR_acc: 0.905, DF_acc: 0.926] [G loss: 2.8347971439361572]\n",
      "0:1481/1729: [DR_acc: 0.885, DF_acc: 0.929] [G loss: 2.7671005725860596]\n",
      "0:1482/1729: [DR_acc: 0.914, DF_acc: 0.931] [G loss: 2.8299567699432373]\n",
      "0:1483/1729: [DR_acc: 0.909, DF_acc: 0.931] [G loss: 2.785979986190796]\n",
      "0:1484/1729: [DR_acc: 0.903, DF_acc: 0.928] [G loss: 2.768751621246338]\n",
      "0:1485/1729: [DR_acc: 0.918, DF_acc: 0.945] [G loss: 2.7801475524902344]\n",
      "0:1486/1729: [DR_acc: 0.902, DF_acc: 0.918] [G loss: 2.8762168884277344]\n",
      "0:1487/1729: [DR_acc: 0.905, DF_acc: 0.933] [G loss: 2.807234764099121]\n",
      "0:1488/1729: [DR_acc: 0.904, DF_acc: 0.93] [G loss: 2.8496949672698975]\n",
      "0:1489/1729: [DR_acc: 0.902, DF_acc: 0.924] [G loss: 2.879469394683838]\n",
      "0:1490/1729: [DR_acc: 0.923, DF_acc: 0.933] [G loss: 2.800140142440796]\n",
      "0:1491/1729: [DR_acc: 0.875, DF_acc: 0.929] [G loss: 2.808344841003418]\n",
      "0:1492/1729: [DR_acc: 0.915, DF_acc: 0.932] [G loss: 2.925795555114746]\n",
      "0:1493/1729: [DR_acc: 0.908, DF_acc: 0.934] [G loss: 2.827784776687622]\n",
      "0:1494/1729: [DR_acc: 0.899, DF_acc: 0.914] [G loss: 2.8363916873931885]\n",
      "0:1495/1729: [DR_acc: 0.897, DF_acc: 0.929] [G loss: 2.8508989810943604]\n",
      "0:1496/1729: [DR_acc: 0.895, DF_acc: 0.911] [G loss: 2.780017137527466]\n",
      "0:1497/1729: [DR_acc: 0.924, DF_acc: 0.916] [G loss: 2.8735604286193848]\n",
      "0:1498/1729: [DR_acc: 0.893, DF_acc: 0.909] [G loss: 2.9506468772888184]\n",
      "0:1499/1729: [DR_acc: 0.887, DF_acc: 0.923] [G loss: 2.8713879585266113]\n",
      "0:1500/1729: [DR_acc: 0.91, DF_acc: 0.932] [G loss: 2.8278121948242188]\n",
      "0:1501/1729: [DR_acc: 0.888, DF_acc: 0.944] [G loss: 2.903641939163208]\n",
      "0:1502/1729: [DR_acc: 0.914, DF_acc: 0.938] [G loss: 2.849307060241699]\n",
      "0:1503/1729: [DR_acc: 0.91, DF_acc: 0.933] [G loss: 2.7979376316070557]\n",
      "0:1504/1729: [DR_acc: 0.911, DF_acc: 0.928] [G loss: 2.8662772178649902]\n",
      "0:1505/1729: [DR_acc: 0.896, DF_acc: 0.914] [G loss: 2.8825747966766357]\n",
      "0:1506/1729: [DR_acc: 0.911, DF_acc: 0.928] [G loss: 2.8090319633483887]\n",
      "0:1507/1729: [DR_acc: 0.904, DF_acc: 0.93] [G loss: 2.8804879188537598]\n",
      "0:1508/1729: [DR_acc: 0.893, DF_acc: 0.923] [G loss: 2.8509650230407715]\n",
      "0:1509/1729: [DR_acc: 0.91, DF_acc: 0.916] [G loss: 2.8099138736724854]\n",
      "0:1510/1729: [DR_acc: 0.909, DF_acc: 0.929] [G loss: 2.904754161834717]\n",
      "0:1511/1729: [DR_acc: 0.907, DF_acc: 0.929] [G loss: 2.9333481788635254]\n",
      "0:1512/1729: [DR_acc: 0.91, DF_acc: 0.922] [G loss: 2.933459758758545]\n",
      "0:1513/1729: [DR_acc: 0.889, DF_acc: 0.925] [G loss: 2.890202522277832]\n",
      "0:1514/1729: [DR_acc: 0.886, DF_acc: 0.924] [G loss: 2.8697762489318848]\n",
      "0:1515/1729: [DR_acc: 0.896, DF_acc: 0.938] [G loss: 2.8501172065734863]\n",
      "0:1516/1729: [DR_acc: 0.886, DF_acc: 0.93] [G loss: 2.798022747039795]\n",
      "0:1517/1729: [DR_acc: 0.898, DF_acc: 0.93] [G loss: 2.864661931991577]\n",
      "0:1518/1729: [DR_acc: 0.883, DF_acc: 0.911] [G loss: 2.7565670013427734]\n",
      "0:1519/1729: [DR_acc: 0.915, DF_acc: 0.928] [G loss: 2.8720335960388184]\n",
      "0:1520/1729: [DR_acc: 0.915, DF_acc: 0.929] [G loss: 2.8272500038146973]\n",
      "0:1521/1729: [DR_acc: 0.941, DF_acc: 0.914] [G loss: 2.9055187702178955]\n",
      "0:1522/1729: [DR_acc: 0.909, DF_acc: 0.936] [G loss: 2.9560623168945312]\n",
      "0:1523/1729: [DR_acc: 0.884, DF_acc: 0.934] [G loss: 2.8781533241271973]\n",
      "0:1524/1729: [DR_acc: 0.914, DF_acc: 0.925] [G loss: 2.971170425415039]\n",
      "0:1525/1729: [DR_acc: 0.901, DF_acc: 0.923] [G loss: 2.9298315048217773]\n",
      "0:1526/1729: [DR_acc: 0.882, DF_acc: 0.945] [G loss: 2.828286647796631]\n",
      "0:1527/1729: [DR_acc: 0.918, DF_acc: 0.94] [G loss: 2.857426643371582]\n",
      "0:1528/1729: [DR_acc: 0.909, DF_acc: 0.922] [G loss: 2.894343376159668]\n",
      "0:1529/1729: [DR_acc: 0.927, DF_acc: 0.92] [G loss: 2.9523463249206543]\n",
      "0:1530/1729: [DR_acc: 0.892, DF_acc: 0.915] [G loss: 2.919069290161133]\n",
      "0:1531/1729: [DR_acc: 0.913, DF_acc: 0.933] [G loss: 2.9463438987731934]\n",
      "0:1532/1729: [DR_acc: 0.925, DF_acc: 0.928] [G loss: 2.967778444290161]\n",
      "0:1533/1729: [DR_acc: 0.915, DF_acc: 0.93] [G loss: 2.8963935375213623]\n",
      "0:1534/1729: [DR_acc: 0.904, DF_acc: 0.932] [G loss: 2.9286108016967773]\n",
      "0:1535/1729: [DR_acc: 0.904, DF_acc: 0.946] [G loss: 2.948373317718506]\n",
      "0:1536/1729: [DR_acc: 0.906, DF_acc: 0.933] [G loss: 2.9374117851257324]\n",
      "0:1537/1729: [DR_acc: 0.903, DF_acc: 0.917] [G loss: 2.871138095855713]\n",
      "0:1538/1729: [DR_acc: 0.896, DF_acc: 0.934] [G loss: 2.934781551361084]\n",
      "0:1539/1729: [DR_acc: 0.899, DF_acc: 0.936] [G loss: 2.901855945587158]\n",
      "0:1540/1729: [DR_acc: 0.905, DF_acc: 0.93] [G loss: 2.848503589630127]\n",
      "0:1541/1729: [DR_acc: 0.902, DF_acc: 0.934] [G loss: 2.939046859741211]\n",
      "0:1542/1729: [DR_acc: 0.903, DF_acc: 0.943] [G loss: 2.852506637573242]\n",
      "0:1543/1729: [DR_acc: 0.918, DF_acc: 0.918] [G loss: 2.9285454750061035]\n",
      "0:1544/1729: [DR_acc: 0.921, DF_acc: 0.926] [G loss: 2.8973703384399414]\n",
      "0:1545/1729: [DR_acc: 0.921, DF_acc: 0.927] [G loss: 2.891087293624878]\n",
      "0:1546/1729: [DR_acc: 0.923, DF_acc: 0.936] [G loss: 2.9605441093444824]\n",
      "0:1547/1729: [DR_acc: 0.916, DF_acc: 0.939] [G loss: 2.946045398712158]\n",
      "0:1548/1729: [DR_acc: 0.881, DF_acc: 0.925] [G loss: 2.8676977157592773]\n",
      "0:1549/1729: [DR_acc: 0.92, DF_acc: 0.921] [G loss: 2.999232053756714]\n",
      "0:1550/1729: [DR_acc: 0.897, DF_acc: 0.939] [G loss: 2.9244847297668457]\n",
      "0:1551/1729: [DR_acc: 0.905, DF_acc: 0.932] [G loss: 2.967702865600586]\n",
      "0:1552/1729: [DR_acc: 0.889, DF_acc: 0.941] [G loss: 2.9363739490509033]\n",
      "0:1553/1729: [DR_acc: 0.909, DF_acc: 0.932] [G loss: 3.0183730125427246]\n",
      "0:1554/1729: [DR_acc: 0.919, DF_acc: 0.935] [G loss: 3.0363991260528564]\n",
      "0:1555/1729: [DR_acc: 0.892, DF_acc: 0.947] [G loss: 2.9938597679138184]\n",
      "0:1556/1729: [DR_acc: 0.9, DF_acc: 0.93] [G loss: 2.998270034790039]\n",
      "0:1557/1729: [DR_acc: 0.902, DF_acc: 0.91] [G loss: 2.978661060333252]\n",
      "0:1558/1729: [DR_acc: 0.925, DF_acc: 0.932] [G loss: 3.0278234481811523]\n",
      "0:1559/1729: [DR_acc: 0.909, DF_acc: 0.934] [G loss: 2.955432415008545]\n",
      "0:1560/1729: [DR_acc: 0.904, DF_acc: 0.944] [G loss: 2.8745808601379395]\n",
      "0:1561/1729: [DR_acc: 0.912, DF_acc: 0.929] [G loss: 2.9558801651000977]\n",
      "0:1562/1729: [DR_acc: 0.923, DF_acc: 0.931] [G loss: 2.8859784603118896]\n",
      "0:1563/1729: [DR_acc: 0.893, DF_acc: 0.944] [G loss: 2.920494556427002]\n",
      "0:1564/1729: [DR_acc: 0.924, DF_acc: 0.931] [G loss: 2.989609718322754]\n",
      "0:1565/1729: [DR_acc: 0.901, DF_acc: 0.927] [G loss: 2.983855724334717]\n",
      "0:1566/1729: [DR_acc: 0.911, DF_acc: 0.929] [G loss: 3.030461549758911]\n",
      "0:1567/1729: [DR_acc: 0.896, DF_acc: 0.947] [G loss: 2.937309741973877]\n",
      "0:1568/1729: [DR_acc: 0.9, DF_acc: 0.946] [G loss: 3.0008716583251953]\n",
      "0:1569/1729: [DR_acc: 0.925, DF_acc: 0.929] [G loss: 2.9536666870117188]\n",
      "0:1570/1729: [DR_acc: 0.911, DF_acc: 0.942] [G loss: 2.9563727378845215]\n",
      "0:1571/1729: [DR_acc: 0.915, DF_acc: 0.925] [G loss: 2.9491305351257324]\n",
      "0:1572/1729: [DR_acc: 0.906, DF_acc: 0.935] [G loss: 2.950254440307617]\n",
      "0:1573/1729: [DR_acc: 0.914, DF_acc: 0.928] [G loss: 2.9488606452941895]\n",
      "0:1574/1729: [DR_acc: 0.909, DF_acc: 0.944] [G loss: 2.9000368118286133]\n",
      "0:1575/1729: [DR_acc: 0.912, DF_acc: 0.938] [G loss: 2.9569950103759766]\n",
      "0:1576/1729: [DR_acc: 0.923, DF_acc: 0.94] [G loss: 3.0396690368652344]\n",
      "0:1577/1729: [DR_acc: 0.908, DF_acc: 0.916] [G loss: 2.951627731323242]\n",
      "0:1578/1729: [DR_acc: 0.904, DF_acc: 0.939] [G loss: 3.0247552394866943]\n",
      "0:1579/1729: [DR_acc: 0.913, DF_acc: 0.914] [G loss: 2.968998432159424]\n",
      "0:1580/1729: [DR_acc: 0.911, DF_acc: 0.939] [G loss: 3.0306015014648438]\n",
      "0:1581/1729: [DR_acc: 0.91, DF_acc: 0.926] [G loss: 2.9721078872680664]\n",
      "0:1582/1729: [DR_acc: 0.919, DF_acc: 0.939] [G loss: 2.9291059970855713]\n",
      "0:1583/1729: [DR_acc: 0.904, DF_acc: 0.944] [G loss: 3.025716781616211]\n",
      "0:1584/1729: [DR_acc: 0.916, DF_acc: 0.947] [G loss: 3.0190367698669434]\n",
      "0:1585/1729: [DR_acc: 0.905, DF_acc: 0.939] [G loss: 2.960312604904175]\n",
      "0:1586/1729: [DR_acc: 0.907, DF_acc: 0.941] [G loss: 2.975179672241211]\n",
      "0:1587/1729: [DR_acc: 0.922, DF_acc: 0.925] [G loss: 2.945841073989868]\n",
      "0:1588/1729: [DR_acc: 0.914, DF_acc: 0.938] [G loss: 2.9695777893066406]\n",
      "0:1589/1729: [DR_acc: 0.921, DF_acc: 0.941] [G loss: 3.04891300201416]\n",
      "0:1590/1729: [DR_acc: 0.925, DF_acc: 0.948] [G loss: 3.033729076385498]\n",
      "0:1591/1729: [DR_acc: 0.922, DF_acc: 0.932] [G loss: 3.0551512241363525]\n",
      "0:1592/1729: [DR_acc: 0.913, DF_acc: 0.946] [G loss: 2.9711811542510986]\n",
      "0:1593/1729: [DR_acc: 0.907, DF_acc: 0.929] [G loss: 3.0625710487365723]\n",
      "0:1594/1729: [DR_acc: 0.921, DF_acc: 0.945] [G loss: 3.0203816890716553]\n",
      "0:1595/1729: [DR_acc: 0.911, DF_acc: 0.95] [G loss: 2.958198070526123]\n",
      "0:1596/1729: [DR_acc: 0.919, DF_acc: 0.936] [G loss: 2.97316312789917]\n",
      "0:1597/1729: [DR_acc: 0.919, DF_acc: 0.932] [G loss: 2.946350574493408]\n",
      "0:1598/1729: [DR_acc: 0.918, DF_acc: 0.922] [G loss: 3.041228771209717]\n",
      "0:1599/1729: [DR_acc: 0.887, DF_acc: 0.927] [G loss: 3.0543088912963867]\n",
      "0:1600/1729: [DR_acc: 0.919, DF_acc: 0.932] [G loss: 3.0257041454315186]\n",
      "0:1601/1729: [DR_acc: 0.904, DF_acc: 0.936] [G loss: 3.060953140258789]\n",
      "0:1602/1729: [DR_acc: 0.909, DF_acc: 0.925] [G loss: 2.988532781600952]\n",
      "0:1603/1729: [DR_acc: 0.914, DF_acc: 0.935] [G loss: 3.0308480262756348]\n",
      "0:1604/1729: [DR_acc: 0.913, DF_acc: 0.939] [G loss: 3.058779716491699]\n",
      "0:1605/1729: [DR_acc: 0.919, DF_acc: 0.938] [G loss: 2.941610813140869]\n",
      "0:1606/1729: [DR_acc: 0.898, DF_acc: 0.936] [G loss: 3.043032646179199]\n",
      "0:1607/1729: [DR_acc: 0.915, DF_acc: 0.943] [G loss: 3.0725371837615967]\n",
      "0:1608/1729: [DR_acc: 0.933, DF_acc: 0.927] [G loss: 3.04573392868042]\n",
      "0:1609/1729: [DR_acc: 0.914, DF_acc: 0.927] [G loss: 3.086137294769287]\n",
      "0:1610/1729: [DR_acc: 0.921, DF_acc: 0.95] [G loss: 3.1501734256744385]\n",
      "0:1611/1729: [DR_acc: 0.917, DF_acc: 0.931] [G loss: 3.0957047939300537]\n",
      "0:1612/1729: [DR_acc: 0.901, DF_acc: 0.943] [G loss: 3.07323956489563]\n",
      "0:1613/1729: [DR_acc: 0.907, DF_acc: 0.928] [G loss: 3.1243019104003906]\n",
      "0:1614/1729: [DR_acc: 0.887, DF_acc: 0.935] [G loss: 3.072115659713745]\n",
      "0:1615/1729: [DR_acc: 0.911, DF_acc: 0.927] [G loss: 3.116727828979492]\n",
      "0:1616/1729: [DR_acc: 0.908, DF_acc: 0.923] [G loss: 3.0707759857177734]\n",
      "0:1617/1729: [DR_acc: 0.901, DF_acc: 0.934] [G loss: 3.002378463745117]\n",
      "0:1618/1729: [DR_acc: 0.925, DF_acc: 0.94] [G loss: 3.043652057647705]\n",
      "0:1619/1729: [DR_acc: 0.909, DF_acc: 0.934] [G loss: 3.0668411254882812]\n",
      "0:1620/1729: [DR_acc: 0.934, DF_acc: 0.93] [G loss: 3.0740647315979004]\n",
      "0:1621/1729: [DR_acc: 0.926, DF_acc: 0.93] [G loss: 3.124525785446167]\n",
      "0:1622/1729: [DR_acc: 0.929, DF_acc: 0.945] [G loss: 3.132699966430664]\n",
      "0:1623/1729: [DR_acc: 0.911, DF_acc: 0.934] [G loss: 3.0348095893859863]\n",
      "0:1624/1729: [DR_acc: 0.914, DF_acc: 0.941] [G loss: 3.0450713634490967]\n",
      "0:1625/1729: [DR_acc: 0.921, DF_acc: 0.928] [G loss: 3.1517868041992188]\n",
      "0:1626/1729: [DR_acc: 0.913, DF_acc: 0.938] [G loss: 3.1397082805633545]\n",
      "0:1627/1729: [DR_acc: 0.923, DF_acc: 0.956] [G loss: 3.1192498207092285]\n",
      "0:1628/1729: [DR_acc: 0.914, DF_acc: 0.939] [G loss: 3.1842947006225586]\n",
      "0:1629/1729: [DR_acc: 0.917, DF_acc: 0.93] [G loss: 3.07181715965271]\n",
      "0:1630/1729: [DR_acc: 0.908, DF_acc: 0.943] [G loss: 3.133331298828125]\n",
      "0:1631/1729: [DR_acc: 0.919, DF_acc: 0.941] [G loss: 3.089184522628784]\n",
      "0:1632/1729: [DR_acc: 0.901, DF_acc: 0.936] [G loss: 3.1842904090881348]\n",
      "0:1633/1729: [DR_acc: 0.928, DF_acc: 0.949] [G loss: 3.126171112060547]\n",
      "0:1634/1729: [DR_acc: 0.909, DF_acc: 0.917] [G loss: 3.0986015796661377]\n",
      "0:1635/1729: [DR_acc: 0.923, DF_acc: 0.944] [G loss: 3.152590274810791]\n",
      "0:1636/1729: [DR_acc: 0.908, DF_acc: 0.925] [G loss: 3.1551132202148438]\n",
      "0:1637/1729: [DR_acc: 0.934, DF_acc: 0.944] [G loss: 3.160520076751709]\n",
      "0:1638/1729: [DR_acc: 0.914, DF_acc: 0.942] [G loss: 3.2356643676757812]\n",
      "0:1639/1729: [DR_acc: 0.892, DF_acc: 0.94] [G loss: 3.052812337875366]\n",
      "0:1640/1729: [DR_acc: 0.893, DF_acc: 0.92] [G loss: 3.062959909439087]\n",
      "0:1641/1729: [DR_acc: 0.928, DF_acc: 0.939] [G loss: 3.1029434204101562]\n",
      "0:1642/1729: [DR_acc: 0.916, DF_acc: 0.95] [G loss: 3.0572104454040527]\n",
      "0:1643/1729: [DR_acc: 0.929, DF_acc: 0.936] [G loss: 3.059325695037842]\n",
      "0:1644/1729: [DR_acc: 0.911, DF_acc: 0.921] [G loss: 3.109034776687622]\n",
      "0:1645/1729: [DR_acc: 0.905, DF_acc: 0.946] [G loss: 3.065896511077881]\n",
      "0:1646/1729: [DR_acc: 0.926, DF_acc: 0.937] [G loss: 3.0734481811523438]\n",
      "0:1647/1729: [DR_acc: 0.921, DF_acc: 0.94] [G loss: 3.1722426414489746]\n",
      "0:1648/1729: [DR_acc: 0.931, DF_acc: 0.943] [G loss: 3.109220266342163]\n",
      "0:1649/1729: [DR_acc: 0.92, DF_acc: 0.94] [G loss: 3.150662899017334]\n",
      "0:1650/1729: [DR_acc: 0.917, DF_acc: 0.932] [G loss: 3.2027907371520996]\n",
      "0:1651/1729: [DR_acc: 0.919, DF_acc: 0.94] [G loss: 3.125291347503662]\n",
      "0:1652/1729: [DR_acc: 0.93, DF_acc: 0.943] [G loss: 3.1624250411987305]\n",
      "0:1653/1729: [DR_acc: 0.917, DF_acc: 0.947] [G loss: 3.142575740814209]\n",
      "0:1654/1729: [DR_acc: 0.919, DF_acc: 0.937] [G loss: 3.1554770469665527]\n",
      "0:1655/1729: [DR_acc: 0.916, DF_acc: 0.942] [G loss: 3.1439642906188965]\n",
      "0:1656/1729: [DR_acc: 0.918, DF_acc: 0.932] [G loss: 3.1865406036376953]\n",
      "0:1657/1729: [DR_acc: 0.916, DF_acc: 0.926] [G loss: 3.1455159187316895]\n",
      "0:1658/1729: [DR_acc: 0.908, DF_acc: 0.948] [G loss: 3.145634651184082]\n",
      "0:1659/1729: [DR_acc: 0.896, DF_acc: 0.932] [G loss: 3.19203519821167]\n",
      "0:1660/1729: [DR_acc: 0.916, DF_acc: 0.943] [G loss: 3.100322723388672]\n",
      "0:1661/1729: [DR_acc: 0.918, DF_acc: 0.93] [G loss: 3.139127731323242]\n",
      "0:1662/1729: [DR_acc: 0.921, DF_acc: 0.938] [G loss: 3.1684634685516357]\n",
      "0:1663/1729: [DR_acc: 0.912, DF_acc: 0.939] [G loss: 3.2014918327331543]\n",
      "0:1664/1729: [DR_acc: 0.903, DF_acc: 0.942] [G loss: 3.214003562927246]\n",
      "0:1665/1729: [DR_acc: 0.913, DF_acc: 0.937] [G loss: 3.159473180770874]\n",
      "0:1666/1729: [DR_acc: 0.914, DF_acc: 0.934] [G loss: 3.163830518722534]\n",
      "0:1667/1729: [DR_acc: 0.92, DF_acc: 0.95] [G loss: 3.163982391357422]\n",
      "0:1668/1729: [DR_acc: 0.921, DF_acc: 0.918] [G loss: 3.0878844261169434]\n",
      "0:1669/1729: [DR_acc: 0.923, DF_acc: 0.928] [G loss: 3.16825008392334]\n",
      "0:1670/1729: [DR_acc: 0.928, DF_acc: 0.939] [G loss: 3.2122907638549805]\n",
      "0:1671/1729: [DR_acc: 0.927, DF_acc: 0.945] [G loss: 3.1935105323791504]\n",
      "0:1672/1729: [DR_acc: 0.91, DF_acc: 0.946] [G loss: 3.1712238788604736]\n",
      "0:1673/1729: [DR_acc: 0.921, DF_acc: 0.945] [G loss: 3.199601650238037]\n",
      "0:1674/1729: [DR_acc: 0.914, DF_acc: 0.94] [G loss: 3.1826648712158203]\n",
      "0:1675/1729: [DR_acc: 0.91, DF_acc: 0.941] [G loss: 3.2114830017089844]\n",
      "0:1676/1729: [DR_acc: 0.911, DF_acc: 0.921] [G loss: 3.2580559253692627]\n",
      "0:1677/1729: [DR_acc: 0.911, DF_acc: 0.949] [G loss: 3.175961971282959]\n",
      "0:1678/1729: [DR_acc: 0.916, DF_acc: 0.939] [G loss: 3.1985621452331543]\n",
      "0:1679/1729: [DR_acc: 0.916, DF_acc: 0.94] [G loss: 3.1667425632476807]\n",
      "0:1680/1729: [DR_acc: 0.923, DF_acc: 0.937] [G loss: 3.3197391033172607]\n",
      "0:1681/1729: [DR_acc: 0.926, DF_acc: 0.938] [G loss: 3.1816444396972656]\n",
      "0:1682/1729: [DR_acc: 0.905, DF_acc: 0.94] [G loss: 3.233121871948242]\n",
      "0:1683/1729: [DR_acc: 0.925, DF_acc: 0.952] [G loss: 3.2277941703796387]\n",
      "0:1684/1729: [DR_acc: 0.916, DF_acc: 0.939] [G loss: 3.231571674346924]\n",
      "0:1685/1729: [DR_acc: 0.919, DF_acc: 0.94] [G loss: 3.196817636489868]\n",
      "0:1686/1729: [DR_acc: 0.93, DF_acc: 0.933] [G loss: 3.2227139472961426]\n",
      "0:1687/1729: [DR_acc: 0.918, DF_acc: 0.928] [G loss: 3.289792537689209]\n",
      "0:1688/1729: [DR_acc: 0.91, DF_acc: 0.933] [G loss: 3.23660945892334]\n",
      "0:1689/1729: [DR_acc: 0.903, DF_acc: 0.946] [G loss: 3.228332757949829]\n",
      "0:1690/1729: [DR_acc: 0.913, DF_acc: 0.944] [G loss: 3.2865986824035645]\n",
      "0:1691/1729: [DR_acc: 0.916, DF_acc: 0.944] [G loss: 3.18479061126709]\n",
      "0:1692/1729: [DR_acc: 0.918, DF_acc: 0.933] [G loss: 3.199924945831299]\n",
      "0:1693/1729: [DR_acc: 0.931, DF_acc: 0.933] [G loss: 3.1867451667785645]\n",
      "0:1694/1729: [DR_acc: 0.939, DF_acc: 0.942] [G loss: 3.1925511360168457]\n",
      "0:1695/1729: [DR_acc: 0.919, DF_acc: 0.939] [G loss: 3.307969093322754]\n",
      "0:1696/1729: [DR_acc: 0.909, DF_acc: 0.929] [G loss: 3.152604341506958]\n",
      "0:1697/1729: [DR_acc: 0.929, DF_acc: 0.913] [G loss: 3.0963377952575684]\n",
      "0:1698/1729: [DR_acc: 0.905, DF_acc: 0.932] [G loss: 3.2002100944519043]\n",
      "0:1699/1729: [DR_acc: 0.924, DF_acc: 0.911] [G loss: 3.153853416442871]\n",
      "0:1700/1729: [DR_acc: 0.921, DF_acc: 0.904] [G loss: 3.1168770790100098]\n",
      "0:1701/1729: [DR_acc: 0.9, DF_acc: 0.916] [G loss: 3.166048526763916]\n",
      "0:1702/1729: [DR_acc: 0.907, DF_acc: 0.916] [G loss: 3.2276742458343506]\n",
      "0:1703/1729: [DR_acc: 0.906, DF_acc: 0.934] [G loss: 3.1263532638549805]\n",
      "0:1704/1729: [DR_acc: 0.908, DF_acc: 0.911] [G loss: 3.1259713172912598]\n",
      "0:1705/1729: [DR_acc: 0.901, DF_acc: 0.923] [G loss: 3.186638116836548]\n",
      "0:1706/1729: [DR_acc: 0.907, DF_acc: 0.921] [G loss: 3.251915454864502]\n",
      "0:1707/1729: [DR_acc: 0.91, DF_acc: 0.925] [G loss: 3.149738311767578]\n",
      "0:1708/1729: [DR_acc: 0.893, DF_acc: 0.935] [G loss: 3.145519733428955]\n",
      "0:1709/1729: [DR_acc: 0.914, DF_acc: 0.921] [G loss: 3.1935830116271973]\n",
      "0:1710/1729: [DR_acc: 0.909, DF_acc: 0.92] [G loss: 3.1640360355377197]\n",
      "0:1711/1729: [DR_acc: 0.926, DF_acc: 0.935] [G loss: 3.250948667526245]\n",
      "0:1712/1729: [DR_acc: 0.902, DF_acc: 0.923] [G loss: 3.1876983642578125]\n",
      "0:1713/1729: [DR_acc: 0.923, DF_acc: 0.928] [G loss: 3.233792781829834]\n",
      "0:1714/1729: [DR_acc: 0.905, DF_acc: 0.93] [G loss: 3.2740931510925293]\n",
      "0:1715/1729: [DR_acc: 0.906, DF_acc: 0.931] [G loss: 3.289496898651123]\n",
      "0:1716/1729: [DR_acc: 0.912, DF_acc: 0.937] [G loss: 3.1867458820343018]\n",
      "0:1717/1729: [DR_acc: 0.909, DF_acc: 0.945] [G loss: 3.164433479309082]\n",
      "0:1718/1729: [DR_acc: 0.911, DF_acc: 0.935] [G loss: 3.1934468746185303]\n",
      "0:1719/1729: [DR_acc: 0.888, DF_acc: 0.925] [G loss: 3.1662402153015137]\n",
      "0:1720/1729: [DR_acc: 0.916, DF_acc: 0.934] [G loss: 3.2747910022735596]\n",
      "0:1721/1729: [DR_acc: 0.902, DF_acc: 0.93] [G loss: 3.2090725898742676]\n",
      "0:1722/1729: [DR_acc: 0.931, DF_acc: 0.943] [G loss: 3.1953253746032715]\n",
      "0:1723/1729: [DR_acc: 0.929, DF_acc: 0.945] [G loss: 3.191478729248047]\n",
      "0:1724/1729: [DR_acc: 0.919, DF_acc: 0.937] [G loss: 3.2294211387634277]\n",
      "0:1725/1729: [DR_acc: 0.93, DF_acc: 0.945] [G loss: 3.214444637298584]\n",
      "0:1726/1729: [DR_acc: 0.934, DF_acc: 0.93] [G loss: 3.2645010948181152]\n",
      "0:1727/1729: [DR_acc: 0.923, DF_acc: 0.948] [G loss: 3.2855381965637207]\n",
      "0:1728/1729: [DR_acc: 0.904, DF_acc: 0.93] [G loss: 3.154693603515625]\n",
      "0:1729/1729: [DR_acc: 0.909, DF_acc: 0.941] [G loss: 3.231689214706421]\n"
     ]
    }
   ],
   "source": [
    "char_gan.train(epochs=1, batch_size=128, sample_interval=1)"
   ]
  },
  {
   "cell_type": "code",
   "execution_count": 58,
   "metadata": {},
   "outputs": [
    {
     "output_type": "execute_result",
     "data": {
      "text/plain": [
       "'heuly euy e hsocaaaf eambeullf eahoaaull'"
      ]
     },
     "metadata": {},
     "execution_count": 58
    }
   ],
   "source": [
    "char_gan.predict(temperature=0.3)"
   ]
  },
  {
   "cell_type": "code",
   "execution_count": null,
   "metadata": {},
   "outputs": [],
   "source": [
    "cgan_loss, cgan_acc = char_gan.get_mean_scores()"
   ]
  },
  {
   "cell_type": "code",
   "execution_count": 66,
   "metadata": {},
   "outputs": [
    {
     "output_type": "stream",
     "name": "stdout",
     "text": [
      "WARNING:tensorflow:Compiled the loaded model, but the compiled metrics have yet to be built. `model.compile_metrics` will be empty until you train or evaluate the model.\n",
      "GAN Generator model saved.\n"
     ]
    }
   ],
   "source": [
    "char_gan.save_model(root + os.sep + 'models' + os.sep + '4_Char_GAN.h5')"
   ]
  },
  {
   "source": [
    "### 2.2.1 Word-level GAN"
   ],
   "cell_type": "markdown",
   "metadata": {}
  },
  {
   "cell_type": "code",
   "execution_count": 67,
   "metadata": {},
   "outputs": [
    {
     "output_type": "stream",
     "name": "stdout",
     "text": [
      "Corpus length: 664235\n",
      "Total words: 124456\n",
      "Unique words before ignoring: 11955\n",
      "Ignoring words with frequency < 3\n",
      "Unique words after ignoring: 3501\n",
      "Number of sequences: 18277\n",
      "Model: \"sequential_8\"\n",
      "_________________________________________________________________\n",
      "Layer (type)                 Output Shape              Param #   \n",
      "=================================================================\n",
      "conv1d_6 (Conv1D)            (None, 5, 3501)           36774504  \n",
      "_________________________________________________________________\n",
      "leaky_re_lu_12 (LeakyReLU)   (None, 5, 3501)           0         \n",
      "_________________________________________________________________\n",
      "dropout_6 (Dropout)          (None, 5, 3501)           0         \n",
      "_________________________________________________________________\n",
      "conv1d_7 (Conv1D)            (None, 5, 3501)           36774504  \n",
      "_________________________________________________________________\n",
      "leaky_re_lu_13 (LeakyReLU)   (None, 5, 3501)           0         \n",
      "_________________________________________________________________\n",
      "dropout_7 (Dropout)          (None, 5, 3501)           0         \n",
      "_________________________________________________________________\n",
      "conv1d_8 (Conv1D)            (None, 5, 3501)           36774504  \n",
      "_________________________________________________________________\n",
      "leaky_re_lu_14 (LeakyReLU)   (None, 5, 3501)           0         \n",
      "_________________________________________________________________\n",
      "dropout_8 (Dropout)          (None, 5, 3501)           0         \n",
      "_________________________________________________________________\n",
      "dense_10 (Dense)             (None, 5, 1)              3502      \n",
      "=================================================================\n",
      "Total params: 110,327,014\n",
      "Trainable params: 110,327,014\n",
      "Non-trainable params: 0\n",
      "_________________________________________________________________\n",
      "Model: \"sequential_9\"\n",
      "_________________________________________________________________\n",
      "Layer (type)                 Output Shape              Param #   \n",
      "=================================================================\n",
      "dense_11 (Dense)             (None, 5, 3501)           12260502  \n",
      "_________________________________________________________________\n",
      "leaky_re_lu_15 (LeakyReLU)   (None, 5, 3501)           0         \n",
      "_________________________________________________________________\n",
      "batch_normalization_6 (Batch (None, 5, 3501)           14004     \n",
      "_________________________________________________________________\n",
      "dense_12 (Dense)             (None, 5, 512)            1793024   \n",
      "_________________________________________________________________\n",
      "leaky_re_lu_16 (LeakyReLU)   (None, 5, 512)            0         \n",
      "_________________________________________________________________\n",
      "batch_normalization_7 (Batch (None, 5, 512)            2048      \n",
      "_________________________________________________________________\n",
      "dense_13 (Dense)             (None, 5, 3501)           1796013   \n",
      "_________________________________________________________________\n",
      "leaky_re_lu_17 (LeakyReLU)   (None, 5, 3501)           0         \n",
      "_________________________________________________________________\n",
      "batch_normalization_8 (Batch (None, 5, 3501)           14004     \n",
      "_________________________________________________________________\n",
      "reshape_2 (Reshape)          (None, 5, 3501)           0         \n",
      "_________________________________________________________________\n",
      "conv1d_transpose_2 (Conv1DTr (None, 5, 3501)           24517503  \n",
      "=================================================================\n",
      "Total params: 40,397,098\n",
      "Trainable params: 40,382,070\n",
      "Non-trainable params: 15,028\n",
      "_________________________________________________________________\n",
      "Model: \"sequential_10\"\n",
      "_________________________________________________________________\n",
      "Layer (type)                 Output Shape              Param #   \n",
      "=================================================================\n",
      "sequential_9 (Sequential)    (None, 5, 3501)           40397098  \n",
      "_________________________________________________________________\n",
      "sequential_8 (Sequential)    (None, 5, 1)              110327014 \n",
      "=================================================================\n",
      "Total params: 150,724,112\n",
      "Trainable params: 40,382,070\n",
      "Non-trainable params: 110,342,042\n",
      "_________________________________________________________________\n"
     ]
    }
   ],
   "source": [
    "word_gan = GAN(df, option='word', maxlen=5, min_word_frequency=3)"
   ]
  },
  {
   "cell_type": "code",
   "execution_count": 12,
   "metadata": {},
   "outputs": [
    {
     "output_type": "stream",
     "name": "stdout",
     "text": [
      "0:1/913: [DR_acc: 0.38, DF_acc: 0.0] [G loss: 0.6870499849319458]\n",
      "0:2/913: [DR_acc: 1.0, DF_acc: 0.0] [G loss: 0.6930248737335205]\n",
      "0:3/913: [DR_acc: 1.0, DF_acc: 1.0] [G loss: 0.7053465843200684]\n",
      "0:4/913: [DR_acc: 1.0, DF_acc: 1.0] [G loss: 0.7400411367416382]\n",
      "0:5/913: [DR_acc: 1.0, DF_acc: 1.0] [G loss: 0.8123548626899719]\n",
      "0:6/913: [DR_acc: 1.0, DF_acc: 1.0] [G loss: 0.9548486471176147]\n",
      "0:7/913: [DR_acc: 1.0, DF_acc: 1.0] [G loss: 1.231080174446106]\n",
      "0:8/913: [DR_acc: 1.0, DF_acc: 1.0] [G loss: 1.7521346807479858]\n",
      "0:9/913: [DR_acc: 1.0, DF_acc: 1.0] [G loss: 2.584871768951416]\n",
      "0:10/913: [DR_acc: 1.0, DF_acc: 1.0] [G loss: 3.928572416305542]\n",
      "0:11/913: [DR_acc: 1.0, DF_acc: 1.0] [G loss: 5.512653827667236]\n",
      "0:12/913: [DR_acc: 1.0, DF_acc: 1.0] [G loss: 7.234122276306152]\n",
      "0:13/913: [DR_acc: 1.0, DF_acc: 1.0] [G loss: 8.981252670288086]\n",
      "0:14/913: [DR_acc: 1.0, DF_acc: 1.0] [G loss: 10.670821189880371]\n",
      "0:15/913: [DR_acc: 1.0, DF_acc: 1.0] [G loss: 12.10806655883789]\n",
      "0:16/913: [DR_acc: 1.0, DF_acc: 1.0] [G loss: 12.876592636108398]\n",
      "0:17/913: [DR_acc: 1.0, DF_acc: 1.0] [G loss: 13.4548921585083]\n",
      "0:18/913: [DR_acc: 1.0, DF_acc: 1.0] [G loss: 13.733016967773438]\n",
      "0:19/913: [DR_acc: 1.0, DF_acc: 1.0] [G loss: 13.997468948364258]\n",
      "0:20/913: [DR_acc: 1.0, DF_acc: 1.0] [G loss: 14.06397819519043]\n",
      "0:21/913: [DR_acc: 0.98, DF_acc: 1.0] [G loss: 14.275317192077637]\n",
      "0:22/913: [DR_acc: 1.0, DF_acc: 1.0] [G loss: 14.325839042663574]\n",
      "0:23/913: [DR_acc: 1.0, DF_acc: 1.0] [G loss: 14.257739067077637]\n",
      "0:24/913: [DR_acc: 1.0, DF_acc: 1.0] [G loss: 14.221200942993164]\n",
      "0:25/913: [DR_acc: 1.0, DF_acc: 1.0] [G loss: 13.765437126159668]\n",
      "0:26/913: [DR_acc: 1.0, DF_acc: 1.0] [G loss: 14.144195556640625]\n",
      "0:27/913: [DR_acc: 1.0, DF_acc: 1.0] [G loss: 13.469610214233398]\n"
     ]
    },
    {
     "output_type": "error",
     "ename": "KeyboardInterrupt",
     "evalue": "",
     "traceback": [
      "\u001b[1;31m---------------------------------------------------------------------------\u001b[0m",
      "\u001b[1;31mKeyboardInterrupt\u001b[0m                         Traceback (most recent call last)",
      "\u001b[1;32m<ipython-input-12-479f094881d1>\u001b[0m in \u001b[0;36m<module>\u001b[1;34m\u001b[0m\n\u001b[1;32m----> 1\u001b[1;33m \u001b[0mword_gan\u001b[0m\u001b[1;33m.\u001b[0m\u001b[0mtrain\u001b[0m\u001b[1;33m(\u001b[0m\u001b[0mepochs\u001b[0m\u001b[1;33m=\u001b[0m\u001b[1;36m1\u001b[0m\u001b[1;33m,\u001b[0m \u001b[0mbatch_size\u001b[0m\u001b[1;33m=\u001b[0m\u001b[1;36m20\u001b[0m\u001b[1;33m)\u001b[0m \u001b[1;31m# Manual stop at batch 20 due to discriminator stabilization\u001b[0m\u001b[1;33m\u001b[0m\u001b[1;33m\u001b[0m\u001b[0m\n\u001b[0m",
      "\u001b[1;32md:\\Documentos\\TheBridge\\bridge_datascience_JorgeGarcia\\Text_Generation_Project\\src\\utils\\models.py\u001b[0m in \u001b[0;36mtrain\u001b[1;34m(self, epochs, batch_size, sample_interval, verbose)\u001b[0m\n\u001b[0;32m    210\u001b[0m                 \u001b[1;32mif\u001b[0m \u001b[0mverbose\u001b[0m \u001b[1;33m>\u001b[0m \u001b[1;36m1\u001b[0m\u001b[1;33m:\u001b[0m\u001b[1;33m\u001b[0m\u001b[1;33m\u001b[0m\u001b[0m\n\u001b[0;32m    211\u001b[0m                     \u001b[0mprint\u001b[0m\u001b[1;33m(\u001b[0m\u001b[1;34mf'Training Discriminator: {n+1}/{batch_per_epoch}'\u001b[0m\u001b[1;33m)\u001b[0m\u001b[1;33m\u001b[0m\u001b[1;33m\u001b[0m\u001b[0m\n\u001b[1;32m--> 212\u001b[1;33m                 \u001b[0md_loss_real\u001b[0m \u001b[1;33m=\u001b[0m \u001b[0mself\u001b[0m\u001b[1;33m.\u001b[0m\u001b[0mdiscriminator\u001b[0m\u001b[1;33m.\u001b[0m\u001b[0mtrain_on_batch\u001b[0m\u001b[1;33m(\u001b[0m\u001b[0mX_real\u001b[0m\u001b[1;33m,\u001b[0m \u001b[0my_real\u001b[0m\u001b[1;33m)\u001b[0m\u001b[1;33m\u001b[0m\u001b[1;33m\u001b[0m\u001b[0m\n\u001b[0m\u001b[0;32m    213\u001b[0m                 \u001b[0md_loss_fake\u001b[0m \u001b[1;33m=\u001b[0m \u001b[0mself\u001b[0m\u001b[1;33m.\u001b[0m\u001b[0mdiscriminator\u001b[0m\u001b[1;33m.\u001b[0m\u001b[0mtrain_on_batch\u001b[0m\u001b[1;33m(\u001b[0m\u001b[0mX_fake\u001b[0m\u001b[1;33m,\u001b[0m \u001b[0my_fake\u001b[0m\u001b[1;33m)\u001b[0m\u001b[1;33m\u001b[0m\u001b[1;33m\u001b[0m\u001b[0m\n\u001b[0;32m    214\u001b[0m                 \u001b[1;31m#d_loss = 0.5 * np.add(d_loss_real, d_loss_fake)\u001b[0m\u001b[1;33m\u001b[0m\u001b[1;33m\u001b[0m\u001b[1;33m\u001b[0m\u001b[0m\n",
      "\u001b[1;32m~\\AppData\\Local\\Programs\\Python\\Python37\\lib\\site-packages\\tensorflow\\python\\keras\\engine\\training.py\u001b[0m in \u001b[0;36mtrain_on_batch\u001b[1;34m(self, x, y, sample_weight, class_weight, reset_metrics, return_dict)\u001b[0m\n\u001b[0;32m   1823\u001b[0m                                                     class_weight)\n\u001b[0;32m   1824\u001b[0m       \u001b[0mself\u001b[0m\u001b[1;33m.\u001b[0m\u001b[0mtrain_function\u001b[0m \u001b[1;33m=\u001b[0m \u001b[0mself\u001b[0m\u001b[1;33m.\u001b[0m\u001b[0mmake_train_function\u001b[0m\u001b[1;33m(\u001b[0m\u001b[1;33m)\u001b[0m\u001b[1;33m\u001b[0m\u001b[1;33m\u001b[0m\u001b[0m\n\u001b[1;32m-> 1825\u001b[1;33m       \u001b[0mlogs\u001b[0m \u001b[1;33m=\u001b[0m \u001b[0mself\u001b[0m\u001b[1;33m.\u001b[0m\u001b[0mtrain_function\u001b[0m\u001b[1;33m(\u001b[0m\u001b[0miterator\u001b[0m\u001b[1;33m)\u001b[0m\u001b[1;33m\u001b[0m\u001b[1;33m\u001b[0m\u001b[0m\n\u001b[0m\u001b[0;32m   1826\u001b[0m \u001b[1;33m\u001b[0m\u001b[0m\n\u001b[0;32m   1827\u001b[0m     \u001b[1;32mif\u001b[0m \u001b[0mreset_metrics\u001b[0m\u001b[1;33m:\u001b[0m\u001b[1;33m\u001b[0m\u001b[1;33m\u001b[0m\u001b[0m\n",
      "\u001b[1;32m~\\AppData\\Local\\Programs\\Python\\Python37\\lib\\site-packages\\tensorflow\\python\\eager\\def_function.py\u001b[0m in \u001b[0;36m__call__\u001b[1;34m(self, *args, **kwds)\u001b[0m\n\u001b[0;32m    887\u001b[0m \u001b[1;33m\u001b[0m\u001b[0m\n\u001b[0;32m    888\u001b[0m       \u001b[1;32mwith\u001b[0m \u001b[0mOptionalXlaContext\u001b[0m\u001b[1;33m(\u001b[0m\u001b[0mself\u001b[0m\u001b[1;33m.\u001b[0m\u001b[0m_jit_compile\u001b[0m\u001b[1;33m)\u001b[0m\u001b[1;33m:\u001b[0m\u001b[1;33m\u001b[0m\u001b[1;33m\u001b[0m\u001b[0m\n\u001b[1;32m--> 889\u001b[1;33m         \u001b[0mresult\u001b[0m \u001b[1;33m=\u001b[0m \u001b[0mself\u001b[0m\u001b[1;33m.\u001b[0m\u001b[0m_call\u001b[0m\u001b[1;33m(\u001b[0m\u001b[1;33m*\u001b[0m\u001b[0margs\u001b[0m\u001b[1;33m,\u001b[0m \u001b[1;33m**\u001b[0m\u001b[0mkwds\u001b[0m\u001b[1;33m)\u001b[0m\u001b[1;33m\u001b[0m\u001b[1;33m\u001b[0m\u001b[0m\n\u001b[0m\u001b[0;32m    890\u001b[0m \u001b[1;33m\u001b[0m\u001b[0m\n\u001b[0;32m    891\u001b[0m       \u001b[0mnew_tracing_count\u001b[0m \u001b[1;33m=\u001b[0m \u001b[0mself\u001b[0m\u001b[1;33m.\u001b[0m\u001b[0mexperimental_get_tracing_count\u001b[0m\u001b[1;33m(\u001b[0m\u001b[1;33m)\u001b[0m\u001b[1;33m\u001b[0m\u001b[1;33m\u001b[0m\u001b[0m\n",
      "\u001b[1;32m~\\AppData\\Local\\Programs\\Python\\Python37\\lib\\site-packages\\tensorflow\\python\\eager\\def_function.py\u001b[0m in \u001b[0;36m_call\u001b[1;34m(self, *args, **kwds)\u001b[0m\n\u001b[0;32m    915\u001b[0m       \u001b[1;31m# In this case we have created variables on the first call, so we run the\u001b[0m\u001b[1;33m\u001b[0m\u001b[1;33m\u001b[0m\u001b[1;33m\u001b[0m\u001b[0m\n\u001b[0;32m    916\u001b[0m       \u001b[1;31m# defunned version which is guaranteed to never create variables.\u001b[0m\u001b[1;33m\u001b[0m\u001b[1;33m\u001b[0m\u001b[1;33m\u001b[0m\u001b[0m\n\u001b[1;32m--> 917\u001b[1;33m       \u001b[1;32mreturn\u001b[0m \u001b[0mself\u001b[0m\u001b[1;33m.\u001b[0m\u001b[0m_stateless_fn\u001b[0m\u001b[1;33m(\u001b[0m\u001b[1;33m*\u001b[0m\u001b[0margs\u001b[0m\u001b[1;33m,\u001b[0m \u001b[1;33m**\u001b[0m\u001b[0mkwds\u001b[0m\u001b[1;33m)\u001b[0m  \u001b[1;31m# pylint: disable=not-callable\u001b[0m\u001b[1;33m\u001b[0m\u001b[1;33m\u001b[0m\u001b[0m\n\u001b[0m\u001b[0;32m    918\u001b[0m     \u001b[1;32melif\u001b[0m \u001b[0mself\u001b[0m\u001b[1;33m.\u001b[0m\u001b[0m_stateful_fn\u001b[0m \u001b[1;32mis\u001b[0m \u001b[1;32mnot\u001b[0m \u001b[1;32mNone\u001b[0m\u001b[1;33m:\u001b[0m\u001b[1;33m\u001b[0m\u001b[1;33m\u001b[0m\u001b[0m\n\u001b[0;32m    919\u001b[0m       \u001b[1;31m# Release the lock early so that multiple threads can perform the call\u001b[0m\u001b[1;33m\u001b[0m\u001b[1;33m\u001b[0m\u001b[1;33m\u001b[0m\u001b[0m\n",
      "\u001b[1;32m~\\AppData\\Local\\Programs\\Python\\Python37\\lib\\site-packages\\tensorflow\\python\\eager\\function.py\u001b[0m in \u001b[0;36m__call__\u001b[1;34m(self, *args, **kwargs)\u001b[0m\n\u001b[0;32m   3022\u001b[0m        filtered_flat_args) = self._maybe_define_function(args, kwargs)\n\u001b[0;32m   3023\u001b[0m     return graph_function._call_flat(\n\u001b[1;32m-> 3024\u001b[1;33m         filtered_flat_args, captured_inputs=graph_function.captured_inputs)  # pylint: disable=protected-access\n\u001b[0m\u001b[0;32m   3025\u001b[0m \u001b[1;33m\u001b[0m\u001b[0m\n\u001b[0;32m   3026\u001b[0m   \u001b[1;33m@\u001b[0m\u001b[0mproperty\u001b[0m\u001b[1;33m\u001b[0m\u001b[1;33m\u001b[0m\u001b[0m\n",
      "\u001b[1;32m~\\AppData\\Local\\Programs\\Python\\Python37\\lib\\site-packages\\tensorflow\\python\\eager\\function.py\u001b[0m in \u001b[0;36m_call_flat\u001b[1;34m(self, args, captured_inputs, cancellation_manager)\u001b[0m\n\u001b[0;32m   1959\u001b[0m       \u001b[1;31m# No tape is watching; skip to running the function.\u001b[0m\u001b[1;33m\u001b[0m\u001b[1;33m\u001b[0m\u001b[1;33m\u001b[0m\u001b[0m\n\u001b[0;32m   1960\u001b[0m       return self._build_call_outputs(self._inference_function.call(\n\u001b[1;32m-> 1961\u001b[1;33m           ctx, args, cancellation_manager=cancellation_manager))\n\u001b[0m\u001b[0;32m   1962\u001b[0m     forward_backward = self._select_forward_and_backward_functions(\n\u001b[0;32m   1963\u001b[0m         \u001b[0margs\u001b[0m\u001b[1;33m,\u001b[0m\u001b[1;33m\u001b[0m\u001b[1;33m\u001b[0m\u001b[0m\n",
      "\u001b[1;32m~\\AppData\\Local\\Programs\\Python\\Python37\\lib\\site-packages\\tensorflow\\python\\eager\\function.py\u001b[0m in \u001b[0;36mcall\u001b[1;34m(self, ctx, args, cancellation_manager)\u001b[0m\n\u001b[0;32m    594\u001b[0m               \u001b[0minputs\u001b[0m\u001b[1;33m=\u001b[0m\u001b[0margs\u001b[0m\u001b[1;33m,\u001b[0m\u001b[1;33m\u001b[0m\u001b[1;33m\u001b[0m\u001b[0m\n\u001b[0;32m    595\u001b[0m               \u001b[0mattrs\u001b[0m\u001b[1;33m=\u001b[0m\u001b[0mattrs\u001b[0m\u001b[1;33m,\u001b[0m\u001b[1;33m\u001b[0m\u001b[1;33m\u001b[0m\u001b[0m\n\u001b[1;32m--> 596\u001b[1;33m               ctx=ctx)\n\u001b[0m\u001b[0;32m    597\u001b[0m         \u001b[1;32melse\u001b[0m\u001b[1;33m:\u001b[0m\u001b[1;33m\u001b[0m\u001b[1;33m\u001b[0m\u001b[0m\n\u001b[0;32m    598\u001b[0m           outputs = execute.execute_with_cancellation(\n",
      "\u001b[1;32m~\\AppData\\Local\\Programs\\Python\\Python37\\lib\\site-packages\\tensorflow\\python\\eager\\execute.py\u001b[0m in \u001b[0;36mquick_execute\u001b[1;34m(op_name, num_outputs, inputs, attrs, ctx, name)\u001b[0m\n\u001b[0;32m     58\u001b[0m     \u001b[0mctx\u001b[0m\u001b[1;33m.\u001b[0m\u001b[0mensure_initialized\u001b[0m\u001b[1;33m(\u001b[0m\u001b[1;33m)\u001b[0m\u001b[1;33m\u001b[0m\u001b[1;33m\u001b[0m\u001b[0m\n\u001b[0;32m     59\u001b[0m     tensors = pywrap_tfe.TFE_Py_Execute(ctx._handle, device_name, op_name,\n\u001b[1;32m---> 60\u001b[1;33m                                         inputs, attrs, num_outputs)\n\u001b[0m\u001b[0;32m     61\u001b[0m   \u001b[1;32mexcept\u001b[0m \u001b[0mcore\u001b[0m\u001b[1;33m.\u001b[0m\u001b[0m_NotOkStatusException\u001b[0m \u001b[1;32mas\u001b[0m \u001b[0me\u001b[0m\u001b[1;33m:\u001b[0m\u001b[1;33m\u001b[0m\u001b[1;33m\u001b[0m\u001b[0m\n\u001b[0;32m     62\u001b[0m     \u001b[1;32mif\u001b[0m \u001b[0mname\u001b[0m \u001b[1;32mis\u001b[0m \u001b[1;32mnot\u001b[0m \u001b[1;32mNone\u001b[0m\u001b[1;33m:\u001b[0m\u001b[1;33m\u001b[0m\u001b[1;33m\u001b[0m\u001b[0m\n",
      "\u001b[1;31mKeyboardInterrupt\u001b[0m: "
     ]
    }
   ],
   "source": [
    "word_gan.train(epochs=1, batch_size=20) # Manual stop at batch 27 due to discriminator stabilization"
   ]
  },
  {
   "cell_type": "code",
   "execution_count": 70,
   "metadata": {},
   "outputs": [
    {
     "output_type": "execute_result",
     "data": {
      "text/plain": [
       "'ohh appreciate says paying midnight '"
      ]
     },
     "metadata": {},
     "execution_count": 70
    }
   ],
   "source": [
    "word_gan.predict(option='word', temperature=1)"
   ]
  },
  {
   "cell_type": "code",
   "execution_count": 14,
   "metadata": {},
   "outputs": [],
   "source": [
    "wgan_loss, wgan_acc = word_gan.get_mean_scores()"
   ]
  },
  {
   "cell_type": "code",
   "execution_count": 17,
   "metadata": {},
   "outputs": [
    {
     "output_type": "stream",
     "name": "stdout",
     "text": [
      "WARNING:tensorflow:Compiled the loaded model, but the compiled metrics have yet to be built. `model.compile_metrics` will be empty until you train or evaluate the model.\n",
      "GAN Generator model saved.\n"
     ]
    }
   ],
   "source": [
    "word_gan.save_model(root + os.sep + 'models' + os.sep + '5_Word_GAN.h5')"
   ]
  },
  {
   "source": [
    "## 3. Score Dataframe\n",
    "\n",
    "The scores of all 5 models were obtained and uploaded into a MySQL server"
   ],
   "cell_type": "markdown",
   "metadata": {}
  },
  {
   "cell_type": "code",
   "execution_count": 6,
   "metadata": {},
   "outputs": [
    {
     "output_type": "execute_result",
     "data": {
      "text/plain": [
       "'Base Dataframe correctly inserted into MySQL Server.'"
      ]
     },
     "metadata": {},
     "execution_count": 6
    }
   ],
   "source": [
    "data = { 'model':['Character_LSTM', 'Word_LSTM', 'Bidirectional_LSTM', 'Character_GAN', 'Word_GAN'],\n",
    "        'parameters':['Character-level, Simple LSTM layer, categorical crossentropy, RMSProp',\n",
    "                    'Word-level, Simple LSTM layer, categorical crossentropy, RMSProp',\n",
    "                    'Character-level, Bidirectional LSTM layer, categorical crossentropy, RMSProp',\n",
    "                    'Character-level, Dense-LeakyRelu-BatchNormalization generator, convolutional discriminator',\n",
    "                    'Word-level, Dense-LeakyRelu-BatchNormalization generator, convolutional discriminator'],\n",
    "        'loss':[charb_loss, wordb_loss, bichar_loss, cgan_loss, wgan_loss],\n",
    "        'rmse':[charb_rmse, wordb_rmse, bichar_rmse, 0, 0],\n",
    "        'accuracy':[0, 0, 0, cgan_acc, wgan_acc]\n",
    "        }\n",
    "\n",
    "score_df = pd.DataFrame(data, index=range(len(data['model'])))\n",
    "funcs = FlaskFuncs(df, root, settings_file)\n",
    "funcs.insert_df_to_mysql(input_df=score_df, option=2, table_name='model_comparison')"
   ]
  },
  {
   "cell_type": "code",
   "execution_count": 8,
   "metadata": {},
   "outputs": [
    {
     "output_type": "execute_result",
     "data": {
      "text/plain": [
       "                model                                         parameters  \\\n",
       "0      Character_LSTM  Character-level, Simple LSTM layer, categorica...   \n",
       "1           Word_LSTM  Word-level, Simple LSTM layer, categorical cro...   \n",
       "2  Bidirectional_LSTM  Character-level, Bidirectional LSTM layer, cat...   \n",
       "3       Character_GAN  Character-level, Dense-LeakyRelu-BatchNormaliz...   \n",
       "4            Word_GAN  Word-level, Dense-LeakyRelu-BatchNormalization...   \n",
       "\n",
       "     loss    rmse  accuracy  \n",
       "0  1.3114  0.0992    0.0000  \n",
       "1  1.3694  0.0063    0.0000  \n",
       "2  1.4187  0.1023    0.0000  \n",
       "3  0.1565  0.0000    0.9435  \n",
       "4  0.0005  0.0000    1.0000  "
      ],
      "text/html": "<div>\n<style scoped>\n    .dataframe tbody tr th:only-of-type {\n        vertical-align: middle;\n    }\n\n    .dataframe tbody tr th {\n        vertical-align: top;\n    }\n\n    .dataframe thead th {\n        text-align: right;\n    }\n</style>\n<table border=\"1\" class=\"dataframe\">\n  <thead>\n    <tr style=\"text-align: right;\">\n      <th></th>\n      <th>model</th>\n      <th>parameters</th>\n      <th>loss</th>\n      <th>rmse</th>\n      <th>accuracy</th>\n    </tr>\n  </thead>\n  <tbody>\n    <tr>\n      <th>0</th>\n      <td>Character_LSTM</td>\n      <td>Character-level, Simple LSTM layer, categorica...</td>\n      <td>1.3114</td>\n      <td>0.0992</td>\n      <td>0.0000</td>\n    </tr>\n    <tr>\n      <th>1</th>\n      <td>Word_LSTM</td>\n      <td>Word-level, Simple LSTM layer, categorical cro...</td>\n      <td>1.3694</td>\n      <td>0.0063</td>\n      <td>0.0000</td>\n    </tr>\n    <tr>\n      <th>2</th>\n      <td>Bidirectional_LSTM</td>\n      <td>Character-level, Bidirectional LSTM layer, cat...</td>\n      <td>1.4187</td>\n      <td>0.1023</td>\n      <td>0.0000</td>\n    </tr>\n    <tr>\n      <th>3</th>\n      <td>Character_GAN</td>\n      <td>Character-level, Dense-LeakyRelu-BatchNormaliz...</td>\n      <td>0.1565</td>\n      <td>0.0000</td>\n      <td>0.9435</td>\n    </tr>\n    <tr>\n      <th>4</th>\n      <td>Word_GAN</td>\n      <td>Word-level, Dense-LeakyRelu-BatchNormalization...</td>\n      <td>0.0005</td>\n      <td>0.0000</td>\n      <td>1.0000</td>\n    </tr>\n  </tbody>\n</table>\n</div>"
     },
     "metadata": {},
     "execution_count": 8
    }
   ],
   "source": [
    "score_df"
   ]
  },
  {
   "cell_type": "code",
   "execution_count": 7,
   "metadata": {},
   "outputs": [],
   "source": [
    "score_df.to_csv(root + os.sep + 'reports' + os.sep + 'model_scores.csv')"
   ]
  },
  {
   "source": [
    "## 4. Visualization\n",
    "\n",
    "Basic visualizations for understanding the dataset and reflecting the percentage time of each project step"
   ],
   "cell_type": "markdown",
   "metadata": {}
  },
  {
   "cell_type": "code",
   "execution_count": 5,
   "metadata": {},
   "outputs": [
    {
     "output_type": "stream",
     "name": "stdout",
     "text": [
      "Corpus length: 664235\n",
      "Total words: 124456\n",
      "Unique words before ignoring: 11955\n",
      "Ignoring words with frequency < 2\n",
      "Unique words after ignoring: 5378\n",
      "Number of sequences: 7376\n"
     ]
    }
   ],
   "source": [
    "viz = Visualizer(df)"
   ]
  },
  {
   "cell_type": "code",
   "execution_count": 9,
   "metadata": {},
   "outputs": [
    {
     "output_type": "display_data",
     "data": {
      "text/plain": "<Figure size 432x288 with 1 Axes>",
      "image/svg+xml": "<?xml version=\"1.0\" encoding=\"utf-8\" standalone=\"no\"?>\r\n<!DOCTYPE svg PUBLIC \"-//W3C//DTD SVG 1.1//EN\"\r\n  \"http://www.w3.org/Graphics/SVG/1.1/DTD/svg11.dtd\">\r\n<svg height=\"298.450638pt\" version=\"1.1\" viewBox=\"0 0 388.965625 298.450638\" width=\"388.965625pt\" xmlns=\"http://www.w3.org/2000/svg\" xmlns:xlink=\"http://www.w3.org/1999/xlink\">\r\n <metadata>\r\n  <rdf:RDF xmlns:cc=\"http://creativecommons.org/ns#\" xmlns:dc=\"http://purl.org/dc/elements/1.1/\" xmlns:rdf=\"http://www.w3.org/1999/02/22-rdf-syntax-ns#\">\r\n   <cc:Work>\r\n    <dc:type rdf:resource=\"http://purl.org/dc/dcmitype/StillImage\"/>\r\n    <dc:date>2021-07-10T18:21:00.562867</dc:date>\r\n    <dc:format>image/svg+xml</dc:format>\r\n    <dc:creator>\r\n     <cc:Agent>\r\n      <dc:title>Matplotlib v3.4.1, https://matplotlib.org/</dc:title>\r\n     </cc:Agent>\r\n    </dc:creator>\r\n   </cc:Work>\r\n  </rdf:RDF>\r\n </metadata>\r\n <defs>\r\n  <style type=\"text/css\">*{stroke-linecap:butt;stroke-linejoin:round;}</style>\r\n </defs>\r\n <g id=\"figure_1\">\r\n  <g id=\"patch_1\">\r\n   <path d=\"M -0 298.450638 \r\nL 388.965625 298.450638 \r\nL 388.965625 0 \r\nL -0 0 \r\nz\r\n\" style=\"fill:none;\"/>\r\n  </g>\r\n  <g id=\"axes_1\">\r\n   <g id=\"patch_2\">\r\n    <path d=\"M 46.965625 239.758125 \r\nL 381.765625 239.758125 \r\nL 381.765625 22.318125 \r\nL 46.965625 22.318125 \r\nz\r\n\" style=\"fill:#ffffff;\"/>\r\n   </g>\r\n   <g id=\"patch_3\">\r\n    <path clip-path=\"url(#p9fb94b82a5)\" d=\"M 50.313625 239.758125 \r\nL 77.097625 239.758125 \r\nL 77.097625 32.672411 \r\nL 50.313625 32.672411 \r\nz\r\n\" style=\"fill:#5573cd;\"/>\r\n   </g>\r\n   <g id=\"patch_4\">\r\n    <path clip-path=\"url(#p9fb94b82a5)\" d=\"M 83.793625 239.758125 \r\nL 110.577625 239.758125 \r\nL 110.577625 41.656607 \r\nL 83.793625 41.656607 \r\nz\r\n\" style=\"fill:#5573cd;\"/>\r\n   </g>\r\n   <g id=\"patch_5\">\r\n    <path clip-path=\"url(#p9fb94b82a5)\" d=\"M 117.273625 239.758125 \r\nL 144.057625 239.758125 \r\nL 144.057625 83.882327 \r\nL 117.273625 83.882327 \r\nz\r\n\" style=\"fill:#5573cd;\"/>\r\n   </g>\r\n   <g id=\"patch_6\">\r\n    <path clip-path=\"url(#p9fb94b82a5)\" d=\"M 150.753625 239.758125 \r\nL 177.537625 239.758125 \r\nL 177.537625 100.05388 \r\nL 150.753625 100.05388 \r\nz\r\n\" style=\"fill:#5573cd;\"/>\r\n   </g>\r\n   <g id=\"patch_7\">\r\n    <path clip-path=\"url(#p9fb94b82a5)\" d=\"M 184.233625 239.758125 \r\nL 211.017625 239.758125 \r\nL 211.017625 113.080964 \r\nL 184.233625 113.080964 \r\nz\r\n\" style=\"fill:#5573cd;\"/>\r\n   </g>\r\n   <g id=\"patch_8\">\r\n    <path clip-path=\"url(#p9fb94b82a5)\" d=\"M 217.713625 239.758125 \r\nL 244.497625 239.758125 \r\nL 244.497625 115.776222 \r\nL 217.713625 115.776222 \r\nz\r\n\" style=\"fill:#5573cd;\"/>\r\n   </g>\r\n   <g id=\"patch_9\">\r\n    <path clip-path=\"url(#p9fb94b82a5)\" d=\"M 251.193625 239.758125 \r\nL 277.977625 239.758125 \r\nL 277.977625 133.744614 \r\nL 251.193625 133.744614 \r\nz\r\n\" style=\"fill:#5573cd;\"/>\r\n   </g>\r\n   <g id=\"patch_10\">\r\n    <path clip-path=\"url(#p9fb94b82a5)\" d=\"M 284.673625 239.758125 \r\nL 311.457625 239.758125 \r\nL 311.457625 142.2796 \r\nL 284.673625 142.2796 \r\nz\r\n\" style=\"fill:#5573cd;\"/>\r\n   </g>\r\n   <g id=\"patch_11\">\r\n    <path clip-path=\"url(#p9fb94b82a5)\" d=\"M 318.153625 239.758125 \r\nL 344.937625 239.758125 \r\nL 344.937625 147.670118 \r\nL 318.153625 147.670118 \r\nz\r\n\" style=\"fill:#5573cd;\"/>\r\n   </g>\r\n   <g id=\"patch_12\">\r\n    <path clip-path=\"url(#p9fb94b82a5)\" d=\"M 351.633625 239.758125 \r\nL 378.417625 239.758125 \r\nL 378.417625 154.408264 \r\nL 351.633625 154.408264 \r\nz\r\n\" style=\"fill:#5573cd;\"/>\r\n   </g>\r\n   <g id=\"matplotlib.axis_1\">\r\n    <g id=\"xtick_1\">\r\n     <g id=\"line2d_1\">\r\n      <defs>\r\n       <path d=\"M 0 0 \r\nL 0 3.5 \r\n\" id=\"m27114bd31f\" style=\"stroke:#000000;stroke-width:0.8;\"/>\r\n      </defs>\r\n      <g>\r\n       <use style=\"stroke:#000000;stroke-width:0.8;\" x=\"63.705625\" xlink:href=\"#m27114bd31f\" y=\"239.758125\"/>\r\n      </g>\r\n     </g>\r\n     <g id=\"text_1\">\r\n      <!-- im -->\r\n      <g transform=\"translate(61.230751 260.983125)rotate(-45)scale(0.1 -0.1)\">\r\n       <defs>\r\n        <path d=\"M 603 3500 \r\nL 1178 3500 \r\nL 1178 0 \r\nL 603 0 \r\nL 603 3500 \r\nz\r\nM 603 4863 \r\nL 1178 4863 \r\nL 1178 4134 \r\nL 603 4134 \r\nL 603 4863 \r\nz\r\n\" id=\"DejaVuSans-69\" transform=\"scale(0.015625)\"/>\r\n        <path d=\"M 3328 2828 \r\nQ 3544 3216 3844 3400 \r\nQ 4144 3584 4550 3584 \r\nQ 5097 3584 5394 3201 \r\nQ 5691 2819 5691 2113 \r\nL 5691 0 \r\nL 5113 0 \r\nL 5113 2094 \r\nQ 5113 2597 4934 2840 \r\nQ 4756 3084 4391 3084 \r\nQ 3944 3084 3684 2787 \r\nQ 3425 2491 3425 1978 \r\nL 3425 0 \r\nL 2847 0 \r\nL 2847 2094 \r\nQ 2847 2600 2669 2842 \r\nQ 2491 3084 2119 3084 \r\nQ 1678 3084 1418 2786 \r\nQ 1159 2488 1159 1978 \r\nL 1159 0 \r\nL 581 0 \r\nL 581 3500 \r\nL 1159 3500 \r\nL 1159 2956 \r\nQ 1356 3278 1631 3431 \r\nQ 1906 3584 2284 3584 \r\nQ 2666 3584 2933 3390 \r\nQ 3200 3197 3328 2828 \r\nz\r\n\" id=\"DejaVuSans-6d\" transform=\"scale(0.015625)\"/>\r\n       </defs>\r\n       <use xlink:href=\"#DejaVuSans-69\"/>\r\n       <use x=\"27.783203\" xlink:href=\"#DejaVuSans-6d\"/>\r\n      </g>\r\n     </g>\r\n    </g>\r\n    <g id=\"xtick_2\">\r\n     <g id=\"line2d_2\">\r\n      <g>\r\n       <use style=\"stroke:#000000;stroke-width:0.8;\" x=\"97.185625\" xlink:href=\"#m27114bd31f\" y=\"239.758125\"/>\r\n      </g>\r\n     </g>\r\n     <g id=\"text_2\">\r\n      <!-- youre -->\r\n      <g transform=\"translate(89.09091 272.222808)rotate(-45)scale(0.1 -0.1)\">\r\n       <defs>\r\n        <path d=\"M 2059 -325 \r\nQ 1816 -950 1584 -1140 \r\nQ 1353 -1331 966 -1331 \r\nL 506 -1331 \r\nL 506 -850 \r\nL 844 -850 \r\nQ 1081 -850 1212 -737 \r\nQ 1344 -625 1503 -206 \r\nL 1606 56 \r\nL 191 3500 \r\nL 800 3500 \r\nL 1894 763 \r\nL 2988 3500 \r\nL 3597 3500 \r\nL 2059 -325 \r\nz\r\n\" id=\"DejaVuSans-79\" transform=\"scale(0.015625)\"/>\r\n        <path d=\"M 1959 3097 \r\nQ 1497 3097 1228 2736 \r\nQ 959 2375 959 1747 \r\nQ 959 1119 1226 758 \r\nQ 1494 397 1959 397 \r\nQ 2419 397 2687 759 \r\nQ 2956 1122 2956 1747 \r\nQ 2956 2369 2687 2733 \r\nQ 2419 3097 1959 3097 \r\nz\r\nM 1959 3584 \r\nQ 2709 3584 3137 3096 \r\nQ 3566 2609 3566 1747 \r\nQ 3566 888 3137 398 \r\nQ 2709 -91 1959 -91 \r\nQ 1206 -91 779 398 \r\nQ 353 888 353 1747 \r\nQ 353 2609 779 3096 \r\nQ 1206 3584 1959 3584 \r\nz\r\n\" id=\"DejaVuSans-6f\" transform=\"scale(0.015625)\"/>\r\n        <path d=\"M 544 1381 \r\nL 544 3500 \r\nL 1119 3500 \r\nL 1119 1403 \r\nQ 1119 906 1312 657 \r\nQ 1506 409 1894 409 \r\nQ 2359 409 2629 706 \r\nQ 2900 1003 2900 1516 \r\nL 2900 3500 \r\nL 3475 3500 \r\nL 3475 0 \r\nL 2900 0 \r\nL 2900 538 \r\nQ 2691 219 2414 64 \r\nQ 2138 -91 1772 -91 \r\nQ 1169 -91 856 284 \r\nQ 544 659 544 1381 \r\nz\r\nM 1991 3584 \r\nL 1991 3584 \r\nz\r\n\" id=\"DejaVuSans-75\" transform=\"scale(0.015625)\"/>\r\n        <path d=\"M 2631 2963 \r\nQ 2534 3019 2420 3045 \r\nQ 2306 3072 2169 3072 \r\nQ 1681 3072 1420 2755 \r\nQ 1159 2438 1159 1844 \r\nL 1159 0 \r\nL 581 0 \r\nL 581 3500 \r\nL 1159 3500 \r\nL 1159 2956 \r\nQ 1341 3275 1631 3429 \r\nQ 1922 3584 2338 3584 \r\nQ 2397 3584 2469 3576 \r\nQ 2541 3569 2628 3553 \r\nL 2631 2963 \r\nz\r\n\" id=\"DejaVuSans-72\" transform=\"scale(0.015625)\"/>\r\n        <path d=\"M 3597 1894 \r\nL 3597 1613 \r\nL 953 1613 \r\nQ 991 1019 1311 708 \r\nQ 1631 397 2203 397 \r\nQ 2534 397 2845 478 \r\nQ 3156 559 3463 722 \r\nL 3463 178 \r\nQ 3153 47 2828 -22 \r\nQ 2503 -91 2169 -91 \r\nQ 1331 -91 842 396 \r\nQ 353 884 353 1716 \r\nQ 353 2575 817 3079 \r\nQ 1281 3584 2069 3584 \r\nQ 2775 3584 3186 3129 \r\nQ 3597 2675 3597 1894 \r\nz\r\nM 3022 2063 \r\nQ 3016 2534 2758 2815 \r\nQ 2500 3097 2075 3097 \r\nQ 1594 3097 1305 2825 \r\nQ 1016 2553 972 2059 \r\nL 3022 2063 \r\nz\r\n\" id=\"DejaVuSans-65\" transform=\"scale(0.015625)\"/>\r\n       </defs>\r\n       <use xlink:href=\"#DejaVuSans-79\"/>\r\n       <use x=\"59.179688\" xlink:href=\"#DejaVuSans-6f\"/>\r\n       <use x=\"120.361328\" xlink:href=\"#DejaVuSans-75\"/>\r\n       <use x=\"183.740234\" xlink:href=\"#DejaVuSans-72\"/>\r\n       <use x=\"222.603516\" xlink:href=\"#DejaVuSans-65\"/>\r\n      </g>\r\n     </g>\r\n    </g>\r\n    <g id=\"xtick_3\">\r\n     <g id=\"line2d_3\">\r\n      <g>\r\n       <use style=\"stroke:#000000;stroke-width:0.8;\" x=\"130.665625\" xlink:href=\"#m27114bd31f\" y=\"239.758125\"/>\r\n      </g>\r\n     </g>\r\n     <g id=\"text_3\">\r\n      <!-- man -->\r\n      <g transform=\"translate(124.765703 267.833222)rotate(-45)scale(0.1 -0.1)\">\r\n       <defs>\r\n        <path d=\"M 2194 1759 \r\nQ 1497 1759 1228 1600 \r\nQ 959 1441 959 1056 \r\nQ 959 750 1161 570 \r\nQ 1363 391 1709 391 \r\nQ 2188 391 2477 730 \r\nQ 2766 1069 2766 1631 \r\nL 2766 1759 \r\nL 2194 1759 \r\nz\r\nM 3341 1997 \r\nL 3341 0 \r\nL 2766 0 \r\nL 2766 531 \r\nQ 2569 213 2275 61 \r\nQ 1981 -91 1556 -91 \r\nQ 1019 -91 701 211 \r\nQ 384 513 384 1019 \r\nQ 384 1609 779 1909 \r\nQ 1175 2209 1959 2209 \r\nL 2766 2209 \r\nL 2766 2266 \r\nQ 2766 2663 2505 2880 \r\nQ 2244 3097 1772 3097 \r\nQ 1472 3097 1187 3025 \r\nQ 903 2953 641 2809 \r\nL 641 3341 \r\nQ 956 3463 1253 3523 \r\nQ 1550 3584 1831 3584 \r\nQ 2591 3584 2966 3190 \r\nQ 3341 2797 3341 1997 \r\nz\r\n\" id=\"DejaVuSans-61\" transform=\"scale(0.015625)\"/>\r\n        <path d=\"M 3513 2113 \r\nL 3513 0 \r\nL 2938 0 \r\nL 2938 2094 \r\nQ 2938 2591 2744 2837 \r\nQ 2550 3084 2163 3084 \r\nQ 1697 3084 1428 2787 \r\nQ 1159 2491 1159 1978 \r\nL 1159 0 \r\nL 581 0 \r\nL 581 3500 \r\nL 1159 3500 \r\nL 1159 2956 \r\nQ 1366 3272 1645 3428 \r\nQ 1925 3584 2291 3584 \r\nQ 2894 3584 3203 3211 \r\nQ 3513 2838 3513 2113 \r\nz\r\n\" id=\"DejaVuSans-6e\" transform=\"scale(0.015625)\"/>\r\n       </defs>\r\n       <use xlink:href=\"#DejaVuSans-6d\"/>\r\n       <use x=\"97.412109\" xlink:href=\"#DejaVuSans-61\"/>\r\n       <use x=\"158.691406\" xlink:href=\"#DejaVuSans-6e\"/>\r\n      </g>\r\n     </g>\r\n    </g>\r\n    <g id=\"xtick_4\">\r\n     <g id=\"line2d_4\">\r\n      <g>\r\n       <use style=\"stroke:#000000;stroke-width:0.8;\" x=\"164.145625\" xlink:href=\"#m27114bd31f\" y=\"239.758125\"/>\r\n      </g>\r\n     </g>\r\n     <g id=\"text_4\">\r\n      <!-- dont -->\r\n      <g transform=\"translate(158.062297 268.200033)rotate(-45)scale(0.1 -0.1)\">\r\n       <defs>\r\n        <path d=\"M 2906 2969 \r\nL 2906 4863 \r\nL 3481 4863 \r\nL 3481 0 \r\nL 2906 0 \r\nL 2906 525 \r\nQ 2725 213 2448 61 \r\nQ 2172 -91 1784 -91 \r\nQ 1150 -91 751 415 \r\nQ 353 922 353 1747 \r\nQ 353 2572 751 3078 \r\nQ 1150 3584 1784 3584 \r\nQ 2172 3584 2448 3432 \r\nQ 2725 3281 2906 2969 \r\nz\r\nM 947 1747 \r\nQ 947 1113 1208 752 \r\nQ 1469 391 1925 391 \r\nQ 2381 391 2643 752 \r\nQ 2906 1113 2906 1747 \r\nQ 2906 2381 2643 2742 \r\nQ 2381 3103 1925 3103 \r\nQ 1469 3103 1208 2742 \r\nQ 947 2381 947 1747 \r\nz\r\n\" id=\"DejaVuSans-64\" transform=\"scale(0.015625)\"/>\r\n        <path d=\"M 1172 4494 \r\nL 1172 3500 \r\nL 2356 3500 \r\nL 2356 3053 \r\nL 1172 3053 \r\nL 1172 1153 \r\nQ 1172 725 1289 603 \r\nQ 1406 481 1766 481 \r\nL 2356 481 \r\nL 2356 0 \r\nL 1766 0 \r\nQ 1100 0 847 248 \r\nQ 594 497 594 1153 \r\nL 594 3053 \r\nL 172 3053 \r\nL 172 3500 \r\nL 594 3500 \r\nL 594 4494 \r\nL 1172 4494 \r\nz\r\n\" id=\"DejaVuSans-74\" transform=\"scale(0.015625)\"/>\r\n       </defs>\r\n       <use xlink:href=\"#DejaVuSans-64\"/>\r\n       <use x=\"63.476562\" xlink:href=\"#DejaVuSans-6f\"/>\r\n       <use x=\"124.658203\" xlink:href=\"#DejaVuSans-6e\"/>\r\n       <use x=\"188.037109\" xlink:href=\"#DejaVuSans-74\"/>\r\n      </g>\r\n     </g>\r\n    </g>\r\n    <g id=\"xtick_5\">\r\n     <g id=\"line2d_5\">\r\n      <g>\r\n       <use style=\"stroke:#000000;stroke-width:0.8;\" x=\"197.625625\" xlink:href=\"#m27114bd31f\" y=\"239.758125\"/>\r\n      </g>\r\n     </g>\r\n     <g id=\"text_5\">\r\n      <!-- people -->\r\n      <g transform=\"translate(187.591338 276.101952)rotate(-45)scale(0.1 -0.1)\">\r\n       <defs>\r\n        <path d=\"M 1159 525 \r\nL 1159 -1331 \r\nL 581 -1331 \r\nL 581 3500 \r\nL 1159 3500 \r\nL 1159 2969 \r\nQ 1341 3281 1617 3432 \r\nQ 1894 3584 2278 3584 \r\nQ 2916 3584 3314 3078 \r\nQ 3713 2572 3713 1747 \r\nQ 3713 922 3314 415 \r\nQ 2916 -91 2278 -91 \r\nQ 1894 -91 1617 61 \r\nQ 1341 213 1159 525 \r\nz\r\nM 3116 1747 \r\nQ 3116 2381 2855 2742 \r\nQ 2594 3103 2138 3103 \r\nQ 1681 3103 1420 2742 \r\nQ 1159 2381 1159 1747 \r\nQ 1159 1113 1420 752 \r\nQ 1681 391 2138 391 \r\nQ 2594 391 2855 752 \r\nQ 3116 1113 3116 1747 \r\nz\r\n\" id=\"DejaVuSans-70\" transform=\"scale(0.015625)\"/>\r\n        <path d=\"M 603 4863 \r\nL 1178 4863 \r\nL 1178 0 \r\nL 603 0 \r\nL 603 4863 \r\nz\r\n\" id=\"DejaVuSans-6c\" transform=\"scale(0.015625)\"/>\r\n       </defs>\r\n       <use xlink:href=\"#DejaVuSans-70\"/>\r\n       <use x=\"63.476562\" xlink:href=\"#DejaVuSans-65\"/>\r\n       <use x=\"125\" xlink:href=\"#DejaVuSans-6f\"/>\r\n       <use x=\"186.181641\" xlink:href=\"#DejaVuSans-70\"/>\r\n       <use x=\"249.658203\" xlink:href=\"#DejaVuSans-6c\"/>\r\n       <use x=\"277.441406\" xlink:href=\"#DejaVuSans-65\"/>\r\n      </g>\r\n     </g>\r\n    </g>\r\n    <g id=\"xtick_6\">\r\n     <g id=\"line2d_6\">\r\n      <g>\r\n       <use style=\"stroke:#000000;stroke-width:0.8;\" x=\"231.105625\" xlink:href=\"#m27114bd31f\" y=\"239.758125\"/>\r\n      </g>\r\n     </g>\r\n     <g id=\"text_6\">\r\n      <!-- time -->\r\n      <g transform=\"translate(225.069253 268.106121)rotate(-45)scale(0.1 -0.1)\">\r\n       <use xlink:href=\"#DejaVuSans-74\"/>\r\n       <use x=\"39.208984\" xlink:href=\"#DejaVuSans-69\"/>\r\n       <use x=\"66.992188\" xlink:href=\"#DejaVuSans-6d\"/>\r\n       <use x=\"164.404297\" xlink:href=\"#DejaVuSans-65\"/>\r\n      </g>\r\n     </g>\r\n    </g>\r\n    <g id=\"xtick_7\">\r\n     <g id=\"line2d_7\">\r\n      <g>\r\n       <use style=\"stroke:#000000;stroke-width:0.8;\" x=\"264.585625\" xlink:href=\"#m27114bd31f\" y=\"239.758125\"/>\r\n      </g>\r\n     </g>\r\n     <g id=\"text_7\">\r\n      <!-- life -->\r\n      <g transform=\"translate(261.15229 262.900047)rotate(-45)scale(0.1 -0.1)\">\r\n       <defs>\r\n        <path d=\"M 2375 4863 \r\nL 2375 4384 \r\nL 1825 4384 \r\nQ 1516 4384 1395 4259 \r\nQ 1275 4134 1275 3809 \r\nL 1275 3500 \r\nL 2222 3500 \r\nL 2222 3053 \r\nL 1275 3053 \r\nL 1275 0 \r\nL 697 0 \r\nL 697 3053 \r\nL 147 3053 \r\nL 147 3500 \r\nL 697 3500 \r\nL 697 3744 \r\nQ 697 4328 969 4595 \r\nQ 1241 4863 1831 4863 \r\nL 2375 4863 \r\nz\r\n\" id=\"DejaVuSans-66\" transform=\"scale(0.015625)\"/>\r\n       </defs>\r\n       <use xlink:href=\"#DejaVuSans-6c\"/>\r\n       <use x=\"27.783203\" xlink:href=\"#DejaVuSans-69\"/>\r\n       <use x=\"55.566406\" xlink:href=\"#DejaVuSans-66\"/>\r\n       <use x=\"90.771484\" xlink:href=\"#DejaVuSans-65\"/>\r\n      </g>\r\n     </g>\r\n    </g>\r\n    <g id=\"xtick_8\">\r\n     <g id=\"line2d_8\">\r\n      <g>\r\n       <use style=\"stroke:#000000;stroke-width:0.8;\" x=\"298.065625\" xlink:href=\"#m27114bd31f\" y=\"239.758125\"/>\r\n      </g>\r\n     </g>\r\n     <g id=\"text_8\">\r\n      <!-- good -->\r\n      <g transform=\"translate(291.201165 269.762297)rotate(-45)scale(0.1 -0.1)\">\r\n       <defs>\r\n        <path d=\"M 2906 1791 \r\nQ 2906 2416 2648 2759 \r\nQ 2391 3103 1925 3103 \r\nQ 1463 3103 1205 2759 \r\nQ 947 2416 947 1791 \r\nQ 947 1169 1205 825 \r\nQ 1463 481 1925 481 \r\nQ 2391 481 2648 825 \r\nQ 2906 1169 2906 1791 \r\nz\r\nM 3481 434 \r\nQ 3481 -459 3084 -895 \r\nQ 2688 -1331 1869 -1331 \r\nQ 1566 -1331 1297 -1286 \r\nQ 1028 -1241 775 -1147 \r\nL 775 -588 \r\nQ 1028 -725 1275 -790 \r\nQ 1522 -856 1778 -856 \r\nQ 2344 -856 2625 -561 \r\nQ 2906 -266 2906 331 \r\nL 2906 616 \r\nQ 2728 306 2450 153 \r\nQ 2172 0 1784 0 \r\nQ 1141 0 747 490 \r\nQ 353 981 353 1791 \r\nQ 353 2603 747 3093 \r\nQ 1141 3584 1784 3584 \r\nQ 2172 3584 2450 3431 \r\nQ 2728 3278 2906 2969 \r\nL 2906 3500 \r\nL 3481 3500 \r\nL 3481 434 \r\nz\r\n\" id=\"DejaVuSans-67\" transform=\"scale(0.015625)\"/>\r\n       </defs>\r\n       <use xlink:href=\"#DejaVuSans-67\"/>\r\n       <use x=\"63.476562\" xlink:href=\"#DejaVuSans-6f\"/>\r\n       <use x=\"124.658203\" xlink:href=\"#DejaVuSans-6f\"/>\r\n       <use x=\"185.839844\" xlink:href=\"#DejaVuSans-64\"/>\r\n      </g>\r\n     </g>\r\n    </g>\r\n    <g id=\"xtick_9\">\r\n     <g id=\"line2d_9\">\r\n      <g>\r\n       <use style=\"stroke:#000000;stroke-width:0.8;\" x=\"331.545625\" xlink:href=\"#m27114bd31f\" y=\"239.758125\"/>\r\n      </g>\r\n     </g>\r\n     <g id=\"text_9\">\r\n      <!-- gonna -->\r\n      <g transform=\"translate(322.441073 274.242482)rotate(-45)scale(0.1 -0.1)\">\r\n       <use xlink:href=\"#DejaVuSans-67\"/>\r\n       <use x=\"63.476562\" xlink:href=\"#DejaVuSans-6f\"/>\r\n       <use x=\"124.658203\" xlink:href=\"#DejaVuSans-6e\"/>\r\n       <use x=\"188.037109\" xlink:href=\"#DejaVuSans-6e\"/>\r\n       <use x=\"251.416016\" xlink:href=\"#DejaVuSans-61\"/>\r\n      </g>\r\n     </g>\r\n    </g>\r\n    <g id=\"xtick_10\">\r\n     <g id=\"line2d_10\">\r\n      <g>\r\n       <use style=\"stroke:#000000;stroke-width:0.8;\" x=\"365.025625\" xlink:href=\"#m27114bd31f\" y=\"239.758125\"/>\r\n      </g>\r\n     </g>\r\n     <g id=\"text_10\">\r\n      <!-- way -->\r\n      <g transform=\"translate(359.82618 266.432266)rotate(-45)scale(0.1 -0.1)\">\r\n       <defs>\r\n        <path d=\"M 269 3500 \r\nL 844 3500 \r\nL 1563 769 \r\nL 2278 3500 \r\nL 2956 3500 \r\nL 3675 769 \r\nL 4391 3500 \r\nL 4966 3500 \r\nL 4050 0 \r\nL 3372 0 \r\nL 2619 2869 \r\nL 1863 0 \r\nL 1184 0 \r\nL 269 3500 \r\nz\r\n\" id=\"DejaVuSans-77\" transform=\"scale(0.015625)\"/>\r\n       </defs>\r\n       <use xlink:href=\"#DejaVuSans-77\"/>\r\n       <use x=\"81.787109\" xlink:href=\"#DejaVuSans-61\"/>\r\n       <use x=\"143.066406\" xlink:href=\"#DejaVuSans-79\"/>\r\n      </g>\r\n     </g>\r\n    </g>\r\n    <g id=\"text_11\">\r\n     <!-- word -->\r\n     <g transform=\"translate(202.075 289.17095)scale(0.1 -0.1)\">\r\n      <use xlink:href=\"#DejaVuSans-77\"/>\r\n      <use x=\"81.787109\" xlink:href=\"#DejaVuSans-6f\"/>\r\n      <use x=\"142.96875\" xlink:href=\"#DejaVuSans-72\"/>\r\n      <use x=\"182.332031\" xlink:href=\"#DejaVuSans-64\"/>\r\n     </g>\r\n    </g>\r\n   </g>\r\n   <g id=\"matplotlib.axis_2\">\r\n    <g id=\"ytick_1\">\r\n     <g id=\"line2d_11\">\r\n      <defs>\r\n       <path d=\"M 0 0 \r\nL -3.5 0 \r\n\" id=\"m10e71eec6b\" style=\"stroke:#000000;stroke-width:0.8;\"/>\r\n      </defs>\r\n      <g>\r\n       <use style=\"stroke:#000000;stroke-width:0.8;\" x=\"46.965625\" xlink:href=\"#m10e71eec6b\" y=\"239.758125\"/>\r\n      </g>\r\n     </g>\r\n     <g id=\"text_12\">\r\n      <!-- 0 -->\r\n      <g transform=\"translate(33.603125 243.557344)scale(0.1 -0.1)\">\r\n       <defs>\r\n        <path d=\"M 2034 4250 \r\nQ 1547 4250 1301 3770 \r\nQ 1056 3291 1056 2328 \r\nQ 1056 1369 1301 889 \r\nQ 1547 409 2034 409 \r\nQ 2525 409 2770 889 \r\nQ 3016 1369 3016 2328 \r\nQ 3016 3291 2770 3770 \r\nQ 2525 4250 2034 4250 \r\nz\r\nM 2034 4750 \r\nQ 2819 4750 3233 4129 \r\nQ 3647 3509 3647 2328 \r\nQ 3647 1150 3233 529 \r\nQ 2819 -91 2034 -91 \r\nQ 1250 -91 836 529 \r\nQ 422 1150 422 2328 \r\nQ 422 3509 836 4129 \r\nQ 1250 4750 2034 4750 \r\nz\r\n\" id=\"DejaVuSans-30\" transform=\"scale(0.015625)\"/>\r\n       </defs>\r\n       <use xlink:href=\"#DejaVuSans-30\"/>\r\n      </g>\r\n     </g>\r\n    </g>\r\n    <g id=\"ytick_2\">\r\n     <g id=\"line2d_12\">\r\n      <g>\r\n       <use style=\"stroke:#000000;stroke-width:0.8;\" x=\"46.965625\" xlink:href=\"#m10e71eec6b\" y=\"194.837146\"/>\r\n      </g>\r\n     </g>\r\n     <g id=\"text_13\">\r\n      <!-- 100 -->\r\n      <g transform=\"translate(20.878125 198.636365)scale(0.1 -0.1)\">\r\n       <defs>\r\n        <path d=\"M 794 531 \r\nL 1825 531 \r\nL 1825 4091 \r\nL 703 3866 \r\nL 703 4441 \r\nL 1819 4666 \r\nL 2450 4666 \r\nL 2450 531 \r\nL 3481 531 \r\nL 3481 0 \r\nL 794 0 \r\nL 794 531 \r\nz\r\n\" id=\"DejaVuSans-31\" transform=\"scale(0.015625)\"/>\r\n       </defs>\r\n       <use xlink:href=\"#DejaVuSans-31\"/>\r\n       <use x=\"63.623047\" xlink:href=\"#DejaVuSans-30\"/>\r\n       <use x=\"127.246094\" xlink:href=\"#DejaVuSans-30\"/>\r\n      </g>\r\n     </g>\r\n    </g>\r\n    <g id=\"ytick_3\">\r\n     <g id=\"line2d_13\">\r\n      <g>\r\n       <use style=\"stroke:#000000;stroke-width:0.8;\" x=\"46.965625\" xlink:href=\"#m10e71eec6b\" y=\"149.916167\"/>\r\n      </g>\r\n     </g>\r\n     <g id=\"text_14\">\r\n      <!-- 200 -->\r\n      <g transform=\"translate(20.878125 153.715385)scale(0.1 -0.1)\">\r\n       <defs>\r\n        <path d=\"M 1228 531 \r\nL 3431 531 \r\nL 3431 0 \r\nL 469 0 \r\nL 469 531 \r\nQ 828 903 1448 1529 \r\nQ 2069 2156 2228 2338 \r\nQ 2531 2678 2651 2914 \r\nQ 2772 3150 2772 3378 \r\nQ 2772 3750 2511 3984 \r\nQ 2250 4219 1831 4219 \r\nQ 1534 4219 1204 4116 \r\nQ 875 4013 500 3803 \r\nL 500 4441 \r\nQ 881 4594 1212 4672 \r\nQ 1544 4750 1819 4750 \r\nQ 2544 4750 2975 4387 \r\nQ 3406 4025 3406 3419 \r\nQ 3406 3131 3298 2873 \r\nQ 3191 2616 2906 2266 \r\nQ 2828 2175 2409 1742 \r\nQ 1991 1309 1228 531 \r\nz\r\n\" id=\"DejaVuSans-32\" transform=\"scale(0.015625)\"/>\r\n       </defs>\r\n       <use xlink:href=\"#DejaVuSans-32\"/>\r\n       <use x=\"63.623047\" xlink:href=\"#DejaVuSans-30\"/>\r\n       <use x=\"127.246094\" xlink:href=\"#DejaVuSans-30\"/>\r\n      </g>\r\n     </g>\r\n    </g>\r\n    <g id=\"ytick_4\">\r\n     <g id=\"line2d_14\">\r\n      <g>\r\n       <use style=\"stroke:#000000;stroke-width:0.8;\" x=\"46.965625\" xlink:href=\"#m10e71eec6b\" y=\"104.995187\"/>\r\n      </g>\r\n     </g>\r\n     <g id=\"text_15\">\r\n      <!-- 300 -->\r\n      <g transform=\"translate(20.878125 108.794406)scale(0.1 -0.1)\">\r\n       <defs>\r\n        <path d=\"M 2597 2516 \r\nQ 3050 2419 3304 2112 \r\nQ 3559 1806 3559 1356 \r\nQ 3559 666 3084 287 \r\nQ 2609 -91 1734 -91 \r\nQ 1441 -91 1130 -33 \r\nQ 819 25 488 141 \r\nL 488 750 \r\nQ 750 597 1062 519 \r\nQ 1375 441 1716 441 \r\nQ 2309 441 2620 675 \r\nQ 2931 909 2931 1356 \r\nQ 2931 1769 2642 2001 \r\nQ 2353 2234 1838 2234 \r\nL 1294 2234 \r\nL 1294 2753 \r\nL 1863 2753 \r\nQ 2328 2753 2575 2939 \r\nQ 2822 3125 2822 3475 \r\nQ 2822 3834 2567 4026 \r\nQ 2313 4219 1838 4219 \r\nQ 1578 4219 1281 4162 \r\nQ 984 4106 628 3988 \r\nL 628 4550 \r\nQ 988 4650 1302 4700 \r\nQ 1616 4750 1894 4750 \r\nQ 2613 4750 3031 4423 \r\nQ 3450 4097 3450 3541 \r\nQ 3450 3153 3228 2886 \r\nQ 3006 2619 2597 2516 \r\nz\r\n\" id=\"DejaVuSans-33\" transform=\"scale(0.015625)\"/>\r\n       </defs>\r\n       <use xlink:href=\"#DejaVuSans-33\"/>\r\n       <use x=\"63.623047\" xlink:href=\"#DejaVuSans-30\"/>\r\n       <use x=\"127.246094\" xlink:href=\"#DejaVuSans-30\"/>\r\n      </g>\r\n     </g>\r\n    </g>\r\n    <g id=\"ytick_5\">\r\n     <g id=\"line2d_15\">\r\n      <g>\r\n       <use style=\"stroke:#000000;stroke-width:0.8;\" x=\"46.965625\" xlink:href=\"#m10e71eec6b\" y=\"60.074208\"/>\r\n      </g>\r\n     </g>\r\n     <g id=\"text_16\">\r\n      <!-- 400 -->\r\n      <g transform=\"translate(20.878125 63.873427)scale(0.1 -0.1)\">\r\n       <defs>\r\n        <path d=\"M 2419 4116 \r\nL 825 1625 \r\nL 2419 1625 \r\nL 2419 4116 \r\nz\r\nM 2253 4666 \r\nL 3047 4666 \r\nL 3047 1625 \r\nL 3713 1625 \r\nL 3713 1100 \r\nL 3047 1100 \r\nL 3047 0 \r\nL 2419 0 \r\nL 2419 1100 \r\nL 313 1100 \r\nL 313 1709 \r\nL 2253 4666 \r\nz\r\n\" id=\"DejaVuSans-34\" transform=\"scale(0.015625)\"/>\r\n       </defs>\r\n       <use xlink:href=\"#DejaVuSans-34\"/>\r\n       <use x=\"63.623047\" xlink:href=\"#DejaVuSans-30\"/>\r\n       <use x=\"127.246094\" xlink:href=\"#DejaVuSans-30\"/>\r\n      </g>\r\n     </g>\r\n    </g>\r\n    <g id=\"text_17\">\r\n     <!-- count -->\r\n     <g transform=\"translate(14.798438 145.144375)rotate(-90)scale(0.1 -0.1)\">\r\n      <defs>\r\n       <path d=\"M 3122 3366 \r\nL 3122 2828 \r\nQ 2878 2963 2633 3030 \r\nQ 2388 3097 2138 3097 \r\nQ 1578 3097 1268 2742 \r\nQ 959 2388 959 1747 \r\nQ 959 1106 1268 751 \r\nQ 1578 397 2138 397 \r\nQ 2388 397 2633 464 \r\nQ 2878 531 3122 666 \r\nL 3122 134 \r\nQ 2881 22 2623 -34 \r\nQ 2366 -91 2075 -91 \r\nQ 1284 -91 818 406 \r\nQ 353 903 353 1747 \r\nQ 353 2603 823 3093 \r\nQ 1294 3584 2113 3584 \r\nQ 2378 3584 2631 3529 \r\nQ 2884 3475 3122 3366 \r\nz\r\n\" id=\"DejaVuSans-63\" transform=\"scale(0.015625)\"/>\r\n      </defs>\r\n      <use xlink:href=\"#DejaVuSans-63\"/>\r\n      <use x=\"54.980469\" xlink:href=\"#DejaVuSans-6f\"/>\r\n      <use x=\"116.162109\" xlink:href=\"#DejaVuSans-75\"/>\r\n      <use x=\"179.541016\" xlink:href=\"#DejaVuSans-6e\"/>\r\n      <use x=\"242.919922\" xlink:href=\"#DejaVuSans-74\"/>\r\n     </g>\r\n    </g>\r\n   </g>\r\n   <g id=\"line2d_16\">\r\n    <path clip-path=\"url(#p9fb94b82a5)\" d=\"M 0 0 \r\n\" style=\"fill:none;stroke:#424242;stroke-linecap:square;stroke-width:2.7;\"/>\r\n   </g>\r\n   <g id=\"line2d_17\">\r\n    <path clip-path=\"url(#p9fb94b82a5)\" d=\"M 0 0 \r\n\" style=\"fill:none;stroke:#424242;stroke-linecap:square;stroke-width:2.7;\"/>\r\n   </g>\r\n   <g id=\"line2d_18\">\r\n    <path clip-path=\"url(#p9fb94b82a5)\" d=\"M 0 0 \r\n\" style=\"fill:none;stroke:#424242;stroke-linecap:square;stroke-width:2.7;\"/>\r\n   </g>\r\n   <g id=\"line2d_19\">\r\n    <path clip-path=\"url(#p9fb94b82a5)\" d=\"M 0 0 \r\n\" style=\"fill:none;stroke:#424242;stroke-linecap:square;stroke-width:2.7;\"/>\r\n   </g>\r\n   <g id=\"line2d_20\">\r\n    <path clip-path=\"url(#p9fb94b82a5)\" d=\"M 0 0 \r\n\" style=\"fill:none;stroke:#424242;stroke-linecap:square;stroke-width:2.7;\"/>\r\n   </g>\r\n   <g id=\"line2d_21\">\r\n    <path clip-path=\"url(#p9fb94b82a5)\" d=\"M 0 0 \r\n\" style=\"fill:none;stroke:#424242;stroke-linecap:square;stroke-width:2.7;\"/>\r\n   </g>\r\n   <g id=\"line2d_22\">\r\n    <path clip-path=\"url(#p9fb94b82a5)\" d=\"M 0 0 \r\n\" style=\"fill:none;stroke:#424242;stroke-linecap:square;stroke-width:2.7;\"/>\r\n   </g>\r\n   <g id=\"line2d_23\">\r\n    <path clip-path=\"url(#p9fb94b82a5)\" d=\"M 0 0 \r\n\" style=\"fill:none;stroke:#424242;stroke-linecap:square;stroke-width:2.7;\"/>\r\n   </g>\r\n   <g id=\"line2d_24\">\r\n    <path clip-path=\"url(#p9fb94b82a5)\" d=\"M 0 0 \r\n\" style=\"fill:none;stroke:#424242;stroke-linecap:square;stroke-width:2.7;\"/>\r\n   </g>\r\n   <g id=\"line2d_25\">\r\n    <path clip-path=\"url(#p9fb94b82a5)\" d=\"M 0 0 \r\n\" style=\"fill:none;stroke:#424242;stroke-linecap:square;stroke-width:2.7;\"/>\r\n   </g>\r\n   <g id=\"patch_13\">\r\n    <path d=\"M 46.965625 239.758125 \r\nL 46.965625 22.318125 \r\n\" style=\"fill:none;stroke:#000000;stroke-linecap:square;stroke-linejoin:miter;stroke-width:0.8;\"/>\r\n   </g>\r\n   <g id=\"patch_14\">\r\n    <path d=\"M 381.765625 239.758125 \r\nL 381.765625 22.318125 \r\n\" style=\"fill:none;stroke:#000000;stroke-linecap:square;stroke-linejoin:miter;stroke-width:0.8;\"/>\r\n   </g>\r\n   <g id=\"patch_15\">\r\n    <path d=\"M 46.965625 239.758125 \r\nL 381.765625 239.758125 \r\n\" style=\"fill:none;stroke:#000000;stroke-linecap:square;stroke-linejoin:miter;stroke-width:0.8;\"/>\r\n   </g>\r\n   <g id=\"patch_16\">\r\n    <path d=\"M 46.965625 22.318125 \r\nL 381.765625 22.318125 \r\n\" style=\"fill:none;stroke:#000000;stroke-linecap:square;stroke-linejoin:miter;stroke-width:0.8;\"/>\r\n   </g>\r\n   <g id=\"text_18\">\r\n    <!-- 461 -->\r\n    <g transform=\"translate(54.161875 30.431786)scale(0.1 -0.1)\">\r\n     <defs>\r\n      <path d=\"M 2113 2584 \r\nQ 1688 2584 1439 2293 \r\nQ 1191 2003 1191 1497 \r\nQ 1191 994 1439 701 \r\nQ 1688 409 2113 409 \r\nQ 2538 409 2786 701 \r\nQ 3034 994 3034 1497 \r\nQ 3034 2003 2786 2293 \r\nQ 2538 2584 2113 2584 \r\nz\r\nM 3366 4563 \r\nL 3366 3988 \r\nQ 3128 4100 2886 4159 \r\nQ 2644 4219 2406 4219 \r\nQ 1781 4219 1451 3797 \r\nQ 1122 3375 1075 2522 \r\nQ 1259 2794 1537 2939 \r\nQ 1816 3084 2150 3084 \r\nQ 2853 3084 3261 2657 \r\nQ 3669 2231 3669 1497 \r\nQ 3669 778 3244 343 \r\nQ 2819 -91 2113 -91 \r\nQ 1303 -91 875 529 \r\nQ 447 1150 447 2328 \r\nQ 447 3434 972 4092 \r\nQ 1497 4750 2381 4750 \r\nQ 2619 4750 2861 4703 \r\nQ 3103 4656 3366 4563 \r\nz\r\n\" id=\"DejaVuSans-36\" transform=\"scale(0.015625)\"/>\r\n     </defs>\r\n     <use xlink:href=\"#DejaVuSans-34\"/>\r\n     <use x=\"63.623047\" xlink:href=\"#DejaVuSans-36\"/>\r\n     <use x=\"127.246094\" xlink:href=\"#DejaVuSans-31\"/>\r\n    </g>\r\n   </g>\r\n   <g id=\"text_19\">\r\n    <!-- 441 -->\r\n    <g transform=\"translate(87.641875 39.415982)scale(0.1 -0.1)\">\r\n     <use xlink:href=\"#DejaVuSans-34\"/>\r\n     <use x=\"63.623047\" xlink:href=\"#DejaVuSans-34\"/>\r\n     <use x=\"127.246094\" xlink:href=\"#DejaVuSans-31\"/>\r\n    </g>\r\n   </g>\r\n   <g id=\"text_20\">\r\n    <!-- 347 -->\r\n    <g transform=\"translate(121.121875 81.641702)scale(0.1 -0.1)\">\r\n     <defs>\r\n      <path d=\"M 525 4666 \r\nL 3525 4666 \r\nL 3525 4397 \r\nL 1831 0 \r\nL 1172 0 \r\nL 2766 4134 \r\nL 525 4134 \r\nL 525 4666 \r\nz\r\n\" id=\"DejaVuSans-37\" transform=\"scale(0.015625)\"/>\r\n     </defs>\r\n     <use xlink:href=\"#DejaVuSans-33\"/>\r\n     <use x=\"63.623047\" xlink:href=\"#DejaVuSans-34\"/>\r\n     <use x=\"127.246094\" xlink:href=\"#DejaVuSans-37\"/>\r\n    </g>\r\n   </g>\r\n   <g id=\"text_21\">\r\n    <!-- 311 -->\r\n    <g transform=\"translate(154.601875 97.813255)scale(0.1 -0.1)\">\r\n     <use xlink:href=\"#DejaVuSans-33\"/>\r\n     <use x=\"63.623047\" xlink:href=\"#DejaVuSans-31\"/>\r\n     <use x=\"127.246094\" xlink:href=\"#DejaVuSans-31\"/>\r\n    </g>\r\n   </g>\r\n   <g id=\"text_22\">\r\n    <!-- 282 -->\r\n    <g transform=\"translate(188.081875 110.840339)scale(0.1 -0.1)\">\r\n     <defs>\r\n      <path d=\"M 2034 2216 \r\nQ 1584 2216 1326 1975 \r\nQ 1069 1734 1069 1313 \r\nQ 1069 891 1326 650 \r\nQ 1584 409 2034 409 \r\nQ 2484 409 2743 651 \r\nQ 3003 894 3003 1313 \r\nQ 3003 1734 2745 1975 \r\nQ 2488 2216 2034 2216 \r\nz\r\nM 1403 2484 \r\nQ 997 2584 770 2862 \r\nQ 544 3141 544 3541 \r\nQ 544 4100 942 4425 \r\nQ 1341 4750 2034 4750 \r\nQ 2731 4750 3128 4425 \r\nQ 3525 4100 3525 3541 \r\nQ 3525 3141 3298 2862 \r\nQ 3072 2584 2669 2484 \r\nQ 3125 2378 3379 2068 \r\nQ 3634 1759 3634 1313 \r\nQ 3634 634 3220 271 \r\nQ 2806 -91 2034 -91 \r\nQ 1263 -91 848 271 \r\nQ 434 634 434 1313 \r\nQ 434 1759 690 2068 \r\nQ 947 2378 1403 2484 \r\nz\r\nM 1172 3481 \r\nQ 1172 3119 1398 2916 \r\nQ 1625 2713 2034 2713 \r\nQ 2441 2713 2670 2916 \r\nQ 2900 3119 2900 3481 \r\nQ 2900 3844 2670 4047 \r\nQ 2441 4250 2034 4250 \r\nQ 1625 4250 1398 4047 \r\nQ 1172 3844 1172 3481 \r\nz\r\n\" id=\"DejaVuSans-38\" transform=\"scale(0.015625)\"/>\r\n     </defs>\r\n     <use xlink:href=\"#DejaVuSans-32\"/>\r\n     <use x=\"63.623047\" xlink:href=\"#DejaVuSans-38\"/>\r\n     <use x=\"127.246094\" xlink:href=\"#DejaVuSans-32\"/>\r\n    </g>\r\n   </g>\r\n   <g id=\"text_23\">\r\n    <!-- 276 -->\r\n    <g transform=\"translate(221.561875 113.535597)scale(0.1 -0.1)\">\r\n     <use xlink:href=\"#DejaVuSans-32\"/>\r\n     <use x=\"63.623047\" xlink:href=\"#DejaVuSans-37\"/>\r\n     <use x=\"127.246094\" xlink:href=\"#DejaVuSans-36\"/>\r\n    </g>\r\n   </g>\r\n   <g id=\"text_24\">\r\n    <!-- 236 -->\r\n    <g transform=\"translate(255.041875 131.503989)scale(0.1 -0.1)\">\r\n     <use xlink:href=\"#DejaVuSans-32\"/>\r\n     <use x=\"63.623047\" xlink:href=\"#DejaVuSans-33\"/>\r\n     <use x=\"127.246094\" xlink:href=\"#DejaVuSans-36\"/>\r\n    </g>\r\n   </g>\r\n   <g id=\"text_25\">\r\n    <!-- 217 -->\r\n    <g transform=\"translate(288.521875 140.038975)scale(0.1 -0.1)\">\r\n     <use xlink:href=\"#DejaVuSans-32\"/>\r\n     <use x=\"63.623047\" xlink:href=\"#DejaVuSans-31\"/>\r\n     <use x=\"127.246094\" xlink:href=\"#DejaVuSans-37\"/>\r\n    </g>\r\n   </g>\r\n   <g id=\"text_26\">\r\n    <!-- 205 -->\r\n    <g transform=\"translate(322.001875 145.429493)scale(0.1 -0.1)\">\r\n     <defs>\r\n      <path d=\"M 691 4666 \r\nL 3169 4666 \r\nL 3169 4134 \r\nL 1269 4134 \r\nL 1269 2991 \r\nQ 1406 3038 1543 3061 \r\nQ 1681 3084 1819 3084 \r\nQ 2600 3084 3056 2656 \r\nQ 3513 2228 3513 1497 \r\nQ 3513 744 3044 326 \r\nQ 2575 -91 1722 -91 \r\nQ 1428 -91 1123 -41 \r\nQ 819 9 494 109 \r\nL 494 744 \r\nQ 775 591 1075 516 \r\nQ 1375 441 1709 441 \r\nQ 2250 441 2565 725 \r\nQ 2881 1009 2881 1497 \r\nQ 2881 1984 2565 2268 \r\nQ 2250 2553 1709 2553 \r\nQ 1456 2553 1204 2497 \r\nQ 953 2441 691 2322 \r\nL 691 4666 \r\nz\r\n\" id=\"DejaVuSans-35\" transform=\"scale(0.015625)\"/>\r\n     </defs>\r\n     <use xlink:href=\"#DejaVuSans-32\"/>\r\n     <use x=\"63.623047\" xlink:href=\"#DejaVuSans-30\"/>\r\n     <use x=\"127.246094\" xlink:href=\"#DejaVuSans-35\"/>\r\n    </g>\r\n   </g>\r\n   <g id=\"text_27\">\r\n    <!-- 190 -->\r\n    <g transform=\"translate(355.481875 152.167639)scale(0.1 -0.1)\">\r\n     <defs>\r\n      <path d=\"M 703 97 \r\nL 703 672 \r\nQ 941 559 1184 500 \r\nQ 1428 441 1663 441 \r\nQ 2288 441 2617 861 \r\nQ 2947 1281 2994 2138 \r\nQ 2813 1869 2534 1725 \r\nQ 2256 1581 1919 1581 \r\nQ 1219 1581 811 2004 \r\nQ 403 2428 403 3163 \r\nQ 403 3881 828 4315 \r\nQ 1253 4750 1959 4750 \r\nQ 2769 4750 3195 4129 \r\nQ 3622 3509 3622 2328 \r\nQ 3622 1225 3098 567 \r\nQ 2575 -91 1691 -91 \r\nQ 1453 -91 1209 -44 \r\nQ 966 3 703 97 \r\nz\r\nM 1959 2075 \r\nQ 2384 2075 2632 2365 \r\nQ 2881 2656 2881 3163 \r\nQ 2881 3666 2632 3958 \r\nQ 2384 4250 1959 4250 \r\nQ 1534 4250 1286 3958 \r\nQ 1038 3666 1038 3163 \r\nQ 1038 2656 1286 2365 \r\nQ 1534 2075 1959 2075 \r\nz\r\n\" id=\"DejaVuSans-39\" transform=\"scale(0.015625)\"/>\r\n     </defs>\r\n     <use xlink:href=\"#DejaVuSans-31\"/>\r\n     <use x=\"63.623047\" xlink:href=\"#DejaVuSans-39\"/>\r\n     <use x=\"127.246094\" xlink:href=\"#DejaVuSans-30\"/>\r\n    </g>\r\n   </g>\r\n   <g id=\"text_28\">\r\n    <!-- Most Popular Words in Quote Collection -->\r\n    <g transform=\"translate(96.075625 16.318125)scale(0.12 -0.12)\">\r\n     <defs>\r\n      <path d=\"M 628 4666 \r\nL 1569 4666 \r\nL 2759 1491 \r\nL 3956 4666 \r\nL 4897 4666 \r\nL 4897 0 \r\nL 4281 0 \r\nL 4281 4097 \r\nL 3078 897 \r\nL 2444 897 \r\nL 1241 4097 \r\nL 1241 0 \r\nL 628 0 \r\nL 628 4666 \r\nz\r\n\" id=\"DejaVuSans-4d\" transform=\"scale(0.015625)\"/>\r\n      <path d=\"M 2834 3397 \r\nL 2834 2853 \r\nQ 2591 2978 2328 3040 \r\nQ 2066 3103 1784 3103 \r\nQ 1356 3103 1142 2972 \r\nQ 928 2841 928 2578 \r\nQ 928 2378 1081 2264 \r\nQ 1234 2150 1697 2047 \r\nL 1894 2003 \r\nQ 2506 1872 2764 1633 \r\nQ 3022 1394 3022 966 \r\nQ 3022 478 2636 193 \r\nQ 2250 -91 1575 -91 \r\nQ 1294 -91 989 -36 \r\nQ 684 19 347 128 \r\nL 347 722 \r\nQ 666 556 975 473 \r\nQ 1284 391 1588 391 \r\nQ 1994 391 2212 530 \r\nQ 2431 669 2431 922 \r\nQ 2431 1156 2273 1281 \r\nQ 2116 1406 1581 1522 \r\nL 1381 1569 \r\nQ 847 1681 609 1914 \r\nQ 372 2147 372 2553 \r\nQ 372 3047 722 3315 \r\nQ 1072 3584 1716 3584 \r\nQ 2034 3584 2315 3537 \r\nQ 2597 3491 2834 3397 \r\nz\r\n\" id=\"DejaVuSans-73\" transform=\"scale(0.015625)\"/>\r\n      <path id=\"DejaVuSans-20\" transform=\"scale(0.015625)\"/>\r\n      <path d=\"M 1259 4147 \r\nL 1259 2394 \r\nL 2053 2394 \r\nQ 2494 2394 2734 2622 \r\nQ 2975 2850 2975 3272 \r\nQ 2975 3691 2734 3919 \r\nQ 2494 4147 2053 4147 \r\nL 1259 4147 \r\nz\r\nM 628 4666 \r\nL 2053 4666 \r\nQ 2838 4666 3239 4311 \r\nQ 3641 3956 3641 3272 \r\nQ 3641 2581 3239 2228 \r\nQ 2838 1875 2053 1875 \r\nL 1259 1875 \r\nL 1259 0 \r\nL 628 0 \r\nL 628 4666 \r\nz\r\n\" id=\"DejaVuSans-50\" transform=\"scale(0.015625)\"/>\r\n      <path d=\"M 213 4666 \r\nL 850 4666 \r\nL 1831 722 \r\nL 2809 4666 \r\nL 3519 4666 \r\nL 4500 722 \r\nL 5478 4666 \r\nL 6119 4666 \r\nL 4947 0 \r\nL 4153 0 \r\nL 3169 4050 \r\nL 2175 0 \r\nL 1381 0 \r\nL 213 4666 \r\nz\r\n\" id=\"DejaVuSans-57\" transform=\"scale(0.015625)\"/>\r\n      <path d=\"M 2522 4238 \r\nQ 1834 4238 1429 3725 \r\nQ 1025 3213 1025 2328 \r\nQ 1025 1447 1429 934 \r\nQ 1834 422 2522 422 \r\nQ 3209 422 3611 934 \r\nQ 4013 1447 4013 2328 \r\nQ 4013 3213 3611 3725 \r\nQ 3209 4238 2522 4238 \r\nz\r\nM 3406 84 \r\nL 4238 -825 \r\nL 3475 -825 \r\nL 2784 -78 \r\nQ 2681 -84 2626 -87 \r\nQ 2572 -91 2522 -91 \r\nQ 1538 -91 948 567 \r\nQ 359 1225 359 2328 \r\nQ 359 3434 948 4092 \r\nQ 1538 4750 2522 4750 \r\nQ 3503 4750 4090 4092 \r\nQ 4678 3434 4678 2328 \r\nQ 4678 1516 4351 937 \r\nQ 4025 359 3406 84 \r\nz\r\n\" id=\"DejaVuSans-51\" transform=\"scale(0.015625)\"/>\r\n      <path d=\"M 4122 4306 \r\nL 4122 3641 \r\nQ 3803 3938 3442 4084 \r\nQ 3081 4231 2675 4231 \r\nQ 1875 4231 1450 3742 \r\nQ 1025 3253 1025 2328 \r\nQ 1025 1406 1450 917 \r\nQ 1875 428 2675 428 \r\nQ 3081 428 3442 575 \r\nQ 3803 722 4122 1019 \r\nL 4122 359 \r\nQ 3791 134 3420 21 \r\nQ 3050 -91 2638 -91 \r\nQ 1578 -91 968 557 \r\nQ 359 1206 359 2328 \r\nQ 359 3453 968 4101 \r\nQ 1578 4750 2638 4750 \r\nQ 3056 4750 3426 4639 \r\nQ 3797 4528 4122 4306 \r\nz\r\n\" id=\"DejaVuSans-43\" transform=\"scale(0.015625)\"/>\r\n     </defs>\r\n     <use xlink:href=\"#DejaVuSans-4d\"/>\r\n     <use x=\"86.279297\" xlink:href=\"#DejaVuSans-6f\"/>\r\n     <use x=\"147.460938\" xlink:href=\"#DejaVuSans-73\"/>\r\n     <use x=\"199.560547\" xlink:href=\"#DejaVuSans-74\"/>\r\n     <use x=\"238.769531\" xlink:href=\"#DejaVuSans-20\"/>\r\n     <use x=\"270.556641\" xlink:href=\"#DejaVuSans-50\"/>\r\n     <use x=\"327.234375\" xlink:href=\"#DejaVuSans-6f\"/>\r\n     <use x=\"388.416016\" xlink:href=\"#DejaVuSans-70\"/>\r\n     <use x=\"451.892578\" xlink:href=\"#DejaVuSans-75\"/>\r\n     <use x=\"515.271484\" xlink:href=\"#DejaVuSans-6c\"/>\r\n     <use x=\"543.054688\" xlink:href=\"#DejaVuSans-61\"/>\r\n     <use x=\"604.333984\" xlink:href=\"#DejaVuSans-72\"/>\r\n     <use x=\"645.447266\" xlink:href=\"#DejaVuSans-20\"/>\r\n     <use x=\"677.234375\" xlink:href=\"#DejaVuSans-57\"/>\r\n     <use x=\"770.236328\" xlink:href=\"#DejaVuSans-6f\"/>\r\n     <use x=\"831.417969\" xlink:href=\"#DejaVuSans-72\"/>\r\n     <use x=\"870.78125\" xlink:href=\"#DejaVuSans-64\"/>\r\n     <use x=\"934.257812\" xlink:href=\"#DejaVuSans-73\"/>\r\n     <use x=\"986.357422\" xlink:href=\"#DejaVuSans-20\"/>\r\n     <use x=\"1018.144531\" xlink:href=\"#DejaVuSans-69\"/>\r\n     <use x=\"1045.927734\" xlink:href=\"#DejaVuSans-6e\"/>\r\n     <use x=\"1109.306641\" xlink:href=\"#DejaVuSans-20\"/>\r\n     <use x=\"1141.09375\" xlink:href=\"#DejaVuSans-51\"/>\r\n     <use x=\"1219.804688\" xlink:href=\"#DejaVuSans-75\"/>\r\n     <use x=\"1283.183594\" xlink:href=\"#DejaVuSans-6f\"/>\r\n     <use x=\"1344.365234\" xlink:href=\"#DejaVuSans-74\"/>\r\n     <use x=\"1383.574219\" xlink:href=\"#DejaVuSans-65\"/>\r\n     <use x=\"1445.097656\" xlink:href=\"#DejaVuSans-20\"/>\r\n     <use x=\"1476.884766\" xlink:href=\"#DejaVuSans-43\"/>\r\n     <use x=\"1546.708984\" xlink:href=\"#DejaVuSans-6f\"/>\r\n     <use x=\"1607.890625\" xlink:href=\"#DejaVuSans-6c\"/>\r\n     <use x=\"1635.673828\" xlink:href=\"#DejaVuSans-6c\"/>\r\n     <use x=\"1663.457031\" xlink:href=\"#DejaVuSans-65\"/>\r\n     <use x=\"1724.980469\" xlink:href=\"#DejaVuSans-63\"/>\r\n     <use x=\"1779.960938\" xlink:href=\"#DejaVuSans-74\"/>\r\n     <use x=\"1819.169922\" xlink:href=\"#DejaVuSans-69\"/>\r\n     <use x=\"1846.953125\" xlink:href=\"#DejaVuSans-6f\"/>\r\n     <use x=\"1908.134766\" xlink:href=\"#DejaVuSans-6e\"/>\r\n    </g>\r\n   </g>\r\n  </g>\r\n </g>\r\n <defs>\r\n  <clipPath id=\"p9fb94b82a5\">\r\n   <rect height=\"217.44\" width=\"334.8\" x=\"46.965625\" y=\"22.318125\"/>\r\n  </clipPath>\r\n </defs>\r\n</svg>\r\n",
      "image/png": "[encoded data removed]"
     },
     "metadata": {
      "needs_background": "light"
     }
    }
   ],
   "source": [
    "viz.plot_word_barchart(x='word', y='count', sort=1, show_values=True, save=reports)"
   ]
  },
  {
   "cell_type": "code",
   "execution_count": 6,
   "metadata": {},
   "outputs": [
    {
     "output_type": "display_data",
     "data": {
      "text/plain": "<Figure size 720x432 with 1 Axes>",
      "image/svg+xml": "<?xml version=\"1.0\" encoding=\"utf-8\" standalone=\"no\"?>\r\n<!DOCTYPE svg PUBLIC \"-//W3C//DTD SVG 1.1//EN\"\r\n  \"http://www.w3.org/Graphics/SVG/1.1/DTD/svg11.dtd\">\r\n<svg height=\"357.197812pt\" version=\"1.1\" viewBox=\"0 0 426.091915 357.197812\" width=\"426.091915pt\" xmlns=\"http://www.w3.org/2000/svg\" xmlns:xlink=\"http://www.w3.org/1999/xlink\">\r\n <metadata>\r\n  <rdf:RDF xmlns:cc=\"http://creativecommons.org/ns#\" xmlns:dc=\"http://purl.org/dc/elements/1.1/\" xmlns:rdf=\"http://www.w3.org/1999/02/22-rdf-syntax-ns#\">\r\n   <cc:Work>\r\n    <dc:type rdf:resource=\"http://purl.org/dc/dcmitype/StillImage\"/>\r\n    <dc:date>2021-07-10T18:27:15.676868</dc:date>\r\n    <dc:format>image/svg+xml</dc:format>\r\n    <dc:creator>\r\n     <cc:Agent>\r\n      <dc:title>Matplotlib v3.4.1, https://matplotlib.org/</dc:title>\r\n     </cc:Agent>\r\n    </dc:creator>\r\n   </cc:Work>\r\n  </rdf:RDF>\r\n </metadata>\r\n <defs>\r\n  <style type=\"text/css\">*{stroke-linecap:butt;stroke-linejoin:round;}</style>\r\n </defs>\r\n <g id=\"figure_1\">\r\n  <g id=\"patch_1\">\r\n   <path d=\"M 0 357.197812 \r\nL 426.091915 357.197812 \r\nL 426.091915 0 \r\nL 0 0 \r\nz\r\n\" style=\"fill:none;\"/>\r\n  </g>\r\n  <g id=\"axes_1\">\r\n   <g id=\"patch_2\">\r\n    <path d=\"M 347.915799 186.917812 \r\nC 347.915799 179.060669 347.206009 171.219563 345.795086 163.490139 \r\nC 344.384164 155.760714 342.277869 148.174526 339.501893 140.824106 \r\nL 217.451799 186.917812 \r\nL 347.915799 186.917812 \r\nz\r\n\" style=\"fill:#1f77b4;\"/>\r\n   </g>\r\n   <g id=\"patch_3\">\r\n    <path d=\"M 339.501893 140.824106 \r\nC 332.818135 123.126391 322.364311 107.092367 308.86722 93.836793 \r\nC 295.370128 80.581219 279.149982 70.41858 261.334482 64.055429 \r\nL 217.451799 186.917812 \r\nL 339.501893 140.824106 \r\nz\r\n\" style=\"fill:#ff7f0e;\"/>\r\n   </g>\r\n   <g id=\"patch_4\">\r\n    <path d=\"M 261.334482 64.055429 \r\nC 256.896805 62.470426 252.376512 61.127014 247.79348 60.031101 \r\nC 243.210448 58.935187 238.571404 58.08838 233.896749 57.494403 \r\nL 217.451799 186.917812 \r\nL 261.334482 64.055429 \r\nz\r\n\" style=\"fill:#2ca02c;\"/>\r\n   </g>\r\n   <g id=\"patch_5\">\r\n    <path d=\"M 233.896749 57.494403 \r\nC 222.97739 56.106955 211.926208 56.106955 201.006848 57.494403 \r\nC 190.087489 58.881852 179.387481 61.645627 169.162092 65.719795 \r\nL 217.451799 186.917812 \r\nL 233.896749 57.494403 \r\nz\r\n\" style=\"fill:#d62728;\"/>\r\n   </g>\r\n   <g id=\"patch_6\">\r\n    <path d=\"M 169.162092 65.719795 \r\nC 147.146771 74.491501 127.93201 89.098183 113.590311 107.964366 \r\nC 99.248612 126.83055 90.314838 149.252635 87.752584 172.812177 \r\nC 85.19033 196.37172 89.095154 220.190087 99.045882 241.69823 \r\nC 108.996609 263.206373 124.622137 281.602164 144.237095 294.901434 \r\nC 163.852054 308.200704 186.72492 315.907469 210.388629 317.190476 \r\nC 234.052337 318.473484 257.624369 313.284885 278.562246 302.184323 \r\nC 299.500124 291.083761 317.022986 274.485221 329.240819 254.179022 \r\nC 341.458652 233.872822 347.915801 210.616264 347.915799 186.9178 \r\nL 217.451799 186.917812 \r\nL 169.162092 65.719795 \r\nz\r\n\" style=\"fill:#9467bd;\"/>\r\n   </g>\r\n   <g id=\"matplotlib.axis_1\"/>\r\n   <g id=\"matplotlib.axis_2\"/>\r\n   <g id=\"text_1\">\r\n    <!-- Data Mining -->\r\n    <g transform=\"translate(358.629415 163.906746)scale(0.1 -0.1)\">\r\n     <defs>\r\n      <path d=\"M 1259 4147 \r\nL 1259 519 \r\nL 2022 519 \r\nQ 2988 519 3436 956 \r\nQ 3884 1394 3884 2338 \r\nQ 3884 3275 3436 3711 \r\nQ 2988 4147 2022 4147 \r\nL 1259 4147 \r\nz\r\nM 628 4666 \r\nL 1925 4666 \r\nQ 3281 4666 3915 4102 \r\nQ 4550 3538 4550 2338 \r\nQ 4550 1131 3912 565 \r\nQ 3275 0 1925 0 \r\nL 628 0 \r\nL 628 4666 \r\nz\r\n\" id=\"DejaVuSans-44\" transform=\"scale(0.015625)\"/>\r\n      <path d=\"M 2194 1759 \r\nQ 1497 1759 1228 1600 \r\nQ 959 1441 959 1056 \r\nQ 959 750 1161 570 \r\nQ 1363 391 1709 391 \r\nQ 2188 391 2477 730 \r\nQ 2766 1069 2766 1631 \r\nL 2766 1759 \r\nL 2194 1759 \r\nz\r\nM 3341 1997 \r\nL 3341 0 \r\nL 2766 0 \r\nL 2766 531 \r\nQ 2569 213 2275 61 \r\nQ 1981 -91 1556 -91 \r\nQ 1019 -91 701 211 \r\nQ 384 513 384 1019 \r\nQ 384 1609 779 1909 \r\nQ 1175 2209 1959 2209 \r\nL 2766 2209 \r\nL 2766 2266 \r\nQ 2766 2663 2505 2880 \r\nQ 2244 3097 1772 3097 \r\nQ 1472 3097 1187 3025 \r\nQ 903 2953 641 2809 \r\nL 641 3341 \r\nQ 956 3463 1253 3523 \r\nQ 1550 3584 1831 3584 \r\nQ 2591 3584 2966 3190 \r\nQ 3341 2797 3341 1997 \r\nz\r\n\" id=\"DejaVuSans-61\" transform=\"scale(0.015625)\"/>\r\n      <path d=\"M 1172 4494 \r\nL 1172 3500 \r\nL 2356 3500 \r\nL 2356 3053 \r\nL 1172 3053 \r\nL 1172 1153 \r\nQ 1172 725 1289 603 \r\nQ 1406 481 1766 481 \r\nL 2356 481 \r\nL 2356 0 \r\nL 1766 0 \r\nQ 1100 0 847 248 \r\nQ 594 497 594 1153 \r\nL 594 3053 \r\nL 172 3053 \r\nL 172 3500 \r\nL 594 3500 \r\nL 594 4494 \r\nL 1172 4494 \r\nz\r\n\" id=\"DejaVuSans-74\" transform=\"scale(0.015625)\"/>\r\n      <path id=\"DejaVuSans-20\" transform=\"scale(0.015625)\"/>\r\n      <path d=\"M 628 4666 \r\nL 1569 4666 \r\nL 2759 1491 \r\nL 3956 4666 \r\nL 4897 4666 \r\nL 4897 0 \r\nL 4281 0 \r\nL 4281 4097 \r\nL 3078 897 \r\nL 2444 897 \r\nL 1241 4097 \r\nL 1241 0 \r\nL 628 0 \r\nL 628 4666 \r\nz\r\n\" id=\"DejaVuSans-4d\" transform=\"scale(0.015625)\"/>\r\n      <path d=\"M 603 3500 \r\nL 1178 3500 \r\nL 1178 0 \r\nL 603 0 \r\nL 603 3500 \r\nz\r\nM 603 4863 \r\nL 1178 4863 \r\nL 1178 4134 \r\nL 603 4134 \r\nL 603 4863 \r\nz\r\n\" id=\"DejaVuSans-69\" transform=\"scale(0.015625)\"/>\r\n      <path d=\"M 3513 2113 \r\nL 3513 0 \r\nL 2938 0 \r\nL 2938 2094 \r\nQ 2938 2591 2744 2837 \r\nQ 2550 3084 2163 3084 \r\nQ 1697 3084 1428 2787 \r\nQ 1159 2491 1159 1978 \r\nL 1159 0 \r\nL 581 0 \r\nL 581 3500 \r\nL 1159 3500 \r\nL 1159 2956 \r\nQ 1366 3272 1645 3428 \r\nQ 1925 3584 2291 3584 \r\nQ 2894 3584 3203 3211 \r\nQ 3513 2838 3513 2113 \r\nz\r\n\" id=\"DejaVuSans-6e\" transform=\"scale(0.015625)\"/>\r\n      <path d=\"M 2906 1791 \r\nQ 2906 2416 2648 2759 \r\nQ 2391 3103 1925 3103 \r\nQ 1463 3103 1205 2759 \r\nQ 947 2416 947 1791 \r\nQ 947 1169 1205 825 \r\nQ 1463 481 1925 481 \r\nQ 2391 481 2648 825 \r\nQ 2906 1169 2906 1791 \r\nz\r\nM 3481 434 \r\nQ 3481 -459 3084 -895 \r\nQ 2688 -1331 1869 -1331 \r\nQ 1566 -1331 1297 -1286 \r\nQ 1028 -1241 775 -1147 \r\nL 775 -588 \r\nQ 1028 -725 1275 -790 \r\nQ 1522 -856 1778 -856 \r\nQ 2344 -856 2625 -561 \r\nQ 2906 -266 2906 331 \r\nL 2906 616 \r\nQ 2728 306 2450 153 \r\nQ 2172 0 1784 0 \r\nQ 1141 0 747 490 \r\nQ 353 981 353 1791 \r\nQ 353 2603 747 3093 \r\nQ 1141 3584 1784 3584 \r\nQ 2172 3584 2450 3431 \r\nQ 2728 3278 2906 2969 \r\nL 2906 3500 \r\nL 3481 3500 \r\nL 3481 434 \r\nz\r\n\" id=\"DejaVuSans-67\" transform=\"scale(0.015625)\"/>\r\n     </defs>\r\n     <use xlink:href=\"#DejaVuSans-44\"/>\r\n     <use x=\"77.001953\" xlink:href=\"#DejaVuSans-61\"/>\r\n     <use x=\"138.28125\" xlink:href=\"#DejaVuSans-74\"/>\r\n     <use x=\"177.490234\" xlink:href=\"#DejaVuSans-61\"/>\r\n     <use x=\"238.769531\" xlink:href=\"#DejaVuSans-20\"/>\r\n     <use x=\"270.556641\" xlink:href=\"#DejaVuSans-4d\"/>\r\n     <use x=\"356.835938\" xlink:href=\"#DejaVuSans-69\"/>\r\n     <use x=\"384.619141\" xlink:href=\"#DejaVuSans-6e\"/>\r\n     <use x=\"447.998047\" xlink:href=\"#DejaVuSans-69\"/>\r\n     <use x=\"475.78125\" xlink:href=\"#DejaVuSans-6e\"/>\r\n     <use x=\"539.160156\" xlink:href=\"#DejaVuSans-67\"/>\r\n    </g>\r\n   </g>\r\n   <g id=\"text_2\">\r\n    <!-- 5.7% -->\r\n    <g transform=\"translate(268.921099 177.963351)scale(0.1 -0.1)\">\r\n     <defs>\r\n      <path d=\"M 691 4666 \r\nL 3169 4666 \r\nL 3169 4134 \r\nL 1269 4134 \r\nL 1269 2991 \r\nQ 1406 3038 1543 3061 \r\nQ 1681 3084 1819 3084 \r\nQ 2600 3084 3056 2656 \r\nQ 3513 2228 3513 1497 \r\nQ 3513 744 3044 326 \r\nQ 2575 -91 1722 -91 \r\nQ 1428 -91 1123 -41 \r\nQ 819 9 494 109 \r\nL 494 744 \r\nQ 775 591 1075 516 \r\nQ 1375 441 1709 441 \r\nQ 2250 441 2565 725 \r\nQ 2881 1009 2881 1497 \r\nQ 2881 1984 2565 2268 \r\nQ 2250 2553 1709 2553 \r\nQ 1456 2553 1204 2497 \r\nQ 953 2441 691 2322 \r\nL 691 4666 \r\nz\r\n\" id=\"DejaVuSans-35\" transform=\"scale(0.015625)\"/>\r\n      <path d=\"M 684 794 \r\nL 1344 794 \r\nL 1344 0 \r\nL 684 0 \r\nL 684 794 \r\nz\r\n\" id=\"DejaVuSans-2e\" transform=\"scale(0.015625)\"/>\r\n      <path d=\"M 525 4666 \r\nL 3525 4666 \r\nL 3525 4397 \r\nL 1831 0 \r\nL 1172 0 \r\nL 2766 4134 \r\nL 525 4134 \r\nL 525 4666 \r\nz\r\n\" id=\"DejaVuSans-37\" transform=\"scale(0.015625)\"/>\r\n      <path d=\"M 4653 2053 \r\nQ 4381 2053 4226 1822 \r\nQ 4072 1591 4072 1178 \r\nQ 4072 772 4226 539 \r\nQ 4381 306 4653 306 \r\nQ 4919 306 5073 539 \r\nQ 5228 772 5228 1178 \r\nQ 5228 1588 5073 1820 \r\nQ 4919 2053 4653 2053 \r\nz\r\nM 4653 2450 \r\nQ 5147 2450 5437 2106 \r\nQ 5728 1763 5728 1178 \r\nQ 5728 594 5436 251 \r\nQ 5144 -91 4653 -91 \r\nQ 4153 -91 3862 251 \r\nQ 3572 594 3572 1178 \r\nQ 3572 1766 3864 2108 \r\nQ 4156 2450 4653 2450 \r\nz\r\nM 1428 4353 \r\nQ 1159 4353 1004 4120 \r\nQ 850 3888 850 3481 \r\nQ 850 3069 1003 2837 \r\nQ 1156 2606 1428 2606 \r\nQ 1700 2606 1854 2837 \r\nQ 2009 3069 2009 3481 \r\nQ 2009 3884 1853 4118 \r\nQ 1697 4353 1428 4353 \r\nz\r\nM 4250 4750 \r\nL 4750 4750 \r\nL 1831 -91 \r\nL 1331 -91 \r\nL 4250 4750 \r\nz\r\nM 1428 4750 \r\nQ 1922 4750 2215 4408 \r\nQ 2509 4066 2509 3481 \r\nQ 2509 2891 2217 2550 \r\nQ 1925 2209 1428 2209 \r\nQ 931 2209 642 2551 \r\nQ 353 2894 353 3481 \r\nQ 353 4063 643 4406 \r\nQ 934 4750 1428 4750 \r\nz\r\n\" id=\"DejaVuSans-25\" transform=\"scale(0.015625)\"/>\r\n     </defs>\r\n     <use xlink:href=\"#DejaVuSans-35\"/>\r\n     <use x=\"63.623047\" xlink:href=\"#DejaVuSans-2e\"/>\r\n     <use x=\"95.410156\" xlink:href=\"#DejaVuSans-37\"/>\r\n     <use x=\"159.033203\" xlink:href=\"#DejaVuSans-25\"/>\r\n    </g>\r\n   </g>\r\n   <g id=\"text_3\">\r\n    <!-- Flask &amp; Streamlit -->\r\n    <g transform=\"translate(318.008762 87.288066)scale(0.1 -0.1)\">\r\n     <defs>\r\n      <path d=\"M 628 4666 \r\nL 3309 4666 \r\nL 3309 4134 \r\nL 1259 4134 \r\nL 1259 2759 \r\nL 3109 2759 \r\nL 3109 2228 \r\nL 1259 2228 \r\nL 1259 0 \r\nL 628 0 \r\nL 628 4666 \r\nz\r\n\" id=\"DejaVuSans-46\" transform=\"scale(0.015625)\"/>\r\n      <path d=\"M 603 4863 \r\nL 1178 4863 \r\nL 1178 0 \r\nL 603 0 \r\nL 603 4863 \r\nz\r\n\" id=\"DejaVuSans-6c\" transform=\"scale(0.015625)\"/>\r\n      <path d=\"M 2834 3397 \r\nL 2834 2853 \r\nQ 2591 2978 2328 3040 \r\nQ 2066 3103 1784 3103 \r\nQ 1356 3103 1142 2972 \r\nQ 928 2841 928 2578 \r\nQ 928 2378 1081 2264 \r\nQ 1234 2150 1697 2047 \r\nL 1894 2003 \r\nQ 2506 1872 2764 1633 \r\nQ 3022 1394 3022 966 \r\nQ 3022 478 2636 193 \r\nQ 2250 -91 1575 -91 \r\nQ 1294 -91 989 -36 \r\nQ 684 19 347 128 \r\nL 347 722 \r\nQ 666 556 975 473 \r\nQ 1284 391 1588 391 \r\nQ 1994 391 2212 530 \r\nQ 2431 669 2431 922 \r\nQ 2431 1156 2273 1281 \r\nQ 2116 1406 1581 1522 \r\nL 1381 1569 \r\nQ 847 1681 609 1914 \r\nQ 372 2147 372 2553 \r\nQ 372 3047 722 3315 \r\nQ 1072 3584 1716 3584 \r\nQ 2034 3584 2315 3537 \r\nQ 2597 3491 2834 3397 \r\nz\r\n\" id=\"DejaVuSans-73\" transform=\"scale(0.015625)\"/>\r\n      <path d=\"M 581 4863 \r\nL 1159 4863 \r\nL 1159 1991 \r\nL 2875 3500 \r\nL 3609 3500 \r\nL 1753 1863 \r\nL 3688 0 \r\nL 2938 0 \r\nL 1159 1709 \r\nL 1159 0 \r\nL 581 0 \r\nL 581 4863 \r\nz\r\n\" id=\"DejaVuSans-6b\" transform=\"scale(0.015625)\"/>\r\n      <path d=\"M 1556 2509 \r\nQ 1272 2256 1139 2004 \r\nQ 1006 1753 1006 1478 \r\nQ 1006 1022 1337 719 \r\nQ 1669 416 2169 416 \r\nQ 2466 416 2725 514 \r\nQ 2984 613 3213 813 \r\nL 1556 2509 \r\nz\r\nM 1997 2859 \r\nL 3584 1234 \r\nQ 3769 1513 3872 1830 \r\nQ 3975 2147 3994 2503 \r\nL 4575 2503 \r\nQ 4538 2091 4375 1687 \r\nQ 4213 1284 3922 891 \r\nL 4794 0 \r\nL 4006 0 \r\nL 3559 459 \r\nQ 3234 181 2878 45 \r\nQ 2522 -91 2113 -91 \r\nQ 1359 -91 881 339 \r\nQ 403 769 403 1441 \r\nQ 403 1841 612 2192 \r\nQ 822 2544 1241 2853 \r\nQ 1091 3050 1012 3245 \r\nQ 934 3441 934 3628 \r\nQ 934 4134 1281 4442 \r\nQ 1628 4750 2203 4750 \r\nQ 2463 4750 2720 4694 \r\nQ 2978 4638 3244 4525 \r\nL 3244 3956 \r\nQ 2972 4103 2725 4179 \r\nQ 2478 4256 2266 4256 \r\nQ 1938 4256 1733 4082 \r\nQ 1528 3909 1528 3634 \r\nQ 1528 3475 1620 3314 \r\nQ 1713 3153 1997 2859 \r\nz\r\n\" id=\"DejaVuSans-26\" transform=\"scale(0.015625)\"/>\r\n      <path d=\"M 3425 4513 \r\nL 3425 3897 \r\nQ 3066 4069 2747 4153 \r\nQ 2428 4238 2131 4238 \r\nQ 1616 4238 1336 4038 \r\nQ 1056 3838 1056 3469 \r\nQ 1056 3159 1242 3001 \r\nQ 1428 2844 1947 2747 \r\nL 2328 2669 \r\nQ 3034 2534 3370 2195 \r\nQ 3706 1856 3706 1288 \r\nQ 3706 609 3251 259 \r\nQ 2797 -91 1919 -91 \r\nQ 1588 -91 1214 -16 \r\nQ 841 59 441 206 \r\nL 441 856 \r\nQ 825 641 1194 531 \r\nQ 1563 422 1919 422 \r\nQ 2459 422 2753 634 \r\nQ 3047 847 3047 1241 \r\nQ 3047 1584 2836 1778 \r\nQ 2625 1972 2144 2069 \r\nL 1759 2144 \r\nQ 1053 2284 737 2584 \r\nQ 422 2884 422 3419 \r\nQ 422 4038 858 4394 \r\nQ 1294 4750 2059 4750 \r\nQ 2388 4750 2728 4690 \r\nQ 3069 4631 3425 4513 \r\nz\r\n\" id=\"DejaVuSans-53\" transform=\"scale(0.015625)\"/>\r\n      <path d=\"M 2631 2963 \r\nQ 2534 3019 2420 3045 \r\nQ 2306 3072 2169 3072 \r\nQ 1681 3072 1420 2755 \r\nQ 1159 2438 1159 1844 \r\nL 1159 0 \r\nL 581 0 \r\nL 581 3500 \r\nL 1159 3500 \r\nL 1159 2956 \r\nQ 1341 3275 1631 3429 \r\nQ 1922 3584 2338 3584 \r\nQ 2397 3584 2469 3576 \r\nQ 2541 3569 2628 3553 \r\nL 2631 2963 \r\nz\r\n\" id=\"DejaVuSans-72\" transform=\"scale(0.015625)\"/>\r\n      <path d=\"M 3597 1894 \r\nL 3597 1613 \r\nL 953 1613 \r\nQ 991 1019 1311 708 \r\nQ 1631 397 2203 397 \r\nQ 2534 397 2845 478 \r\nQ 3156 559 3463 722 \r\nL 3463 178 \r\nQ 3153 47 2828 -22 \r\nQ 2503 -91 2169 -91 \r\nQ 1331 -91 842 396 \r\nQ 353 884 353 1716 \r\nQ 353 2575 817 3079 \r\nQ 1281 3584 2069 3584 \r\nQ 2775 3584 3186 3129 \r\nQ 3597 2675 3597 1894 \r\nz\r\nM 3022 2063 \r\nQ 3016 2534 2758 2815 \r\nQ 2500 3097 2075 3097 \r\nQ 1594 3097 1305 2825 \r\nQ 1016 2553 972 2059 \r\nL 3022 2063 \r\nz\r\n\" id=\"DejaVuSans-65\" transform=\"scale(0.015625)\"/>\r\n      <path d=\"M 3328 2828 \r\nQ 3544 3216 3844 3400 \r\nQ 4144 3584 4550 3584 \r\nQ 5097 3584 5394 3201 \r\nQ 5691 2819 5691 2113 \r\nL 5691 0 \r\nL 5113 0 \r\nL 5113 2094 \r\nQ 5113 2597 4934 2840 \r\nQ 4756 3084 4391 3084 \r\nQ 3944 3084 3684 2787 \r\nQ 3425 2491 3425 1978 \r\nL 3425 0 \r\nL 2847 0 \r\nL 2847 2094 \r\nQ 2847 2600 2669 2842 \r\nQ 2491 3084 2119 3084 \r\nQ 1678 3084 1418 2786 \r\nQ 1159 2488 1159 1978 \r\nL 1159 0 \r\nL 581 0 \r\nL 581 3500 \r\nL 1159 3500 \r\nL 1159 2956 \r\nQ 1356 3278 1631 3431 \r\nQ 1906 3584 2284 3584 \r\nQ 2666 3584 2933 3390 \r\nQ 3200 3197 3328 2828 \r\nz\r\n\" id=\"DejaVuSans-6d\" transform=\"scale(0.015625)\"/>\r\n     </defs>\r\n     <use xlink:href=\"#DejaVuSans-46\"/>\r\n     <use x=\"57.519531\" xlink:href=\"#DejaVuSans-6c\"/>\r\n     <use x=\"85.302734\" xlink:href=\"#DejaVuSans-61\"/>\r\n     <use x=\"146.582031\" xlink:href=\"#DejaVuSans-73\"/>\r\n     <use x=\"198.681641\" xlink:href=\"#DejaVuSans-6b\"/>\r\n     <use x=\"256.591797\" xlink:href=\"#DejaVuSans-20\"/>\r\n     <use x=\"288.378906\" xlink:href=\"#DejaVuSans-26\"/>\r\n     <use x=\"366.357422\" xlink:href=\"#DejaVuSans-20\"/>\r\n     <use x=\"398.144531\" xlink:href=\"#DejaVuSans-53\"/>\r\n     <use x=\"461.621094\" xlink:href=\"#DejaVuSans-74\"/>\r\n     <use x=\"500.830078\" xlink:href=\"#DejaVuSans-72\"/>\r\n     <use x=\"539.693359\" xlink:href=\"#DejaVuSans-65\"/>\r\n     <use x=\"601.216797\" xlink:href=\"#DejaVuSans-61\"/>\r\n     <use x=\"662.496094\" xlink:href=\"#DejaVuSans-6d\"/>\r\n     <use x=\"759.908203\" xlink:href=\"#DejaVuSans-6c\"/>\r\n     <use x=\"787.691406\" xlink:href=\"#DejaVuSans-69\"/>\r\n     <use x=\"815.474609\" xlink:href=\"#DejaVuSans-74\"/>\r\n    </g>\r\n   </g>\r\n   <g id=\"text_4\">\r\n    <!-- 13.8% -->\r\n    <g transform=\"translate(247.275915 143.136678)scale(0.1 -0.1)\">\r\n     <defs>\r\n      <path d=\"M 794 531 \r\nL 1825 531 \r\nL 1825 4091 \r\nL 703 3866 \r\nL 703 4441 \r\nL 1819 4666 \r\nL 2450 4666 \r\nL 2450 531 \r\nL 3481 531 \r\nL 3481 0 \r\nL 794 0 \r\nL 794 531 \r\nz\r\n\" id=\"DejaVuSans-31\" transform=\"scale(0.015625)\"/>\r\n      <path d=\"M 2597 2516 \r\nQ 3050 2419 3304 2112 \r\nQ 3559 1806 3559 1356 \r\nQ 3559 666 3084 287 \r\nQ 2609 -91 1734 -91 \r\nQ 1441 -91 1130 -33 \r\nQ 819 25 488 141 \r\nL 488 750 \r\nQ 750 597 1062 519 \r\nQ 1375 441 1716 441 \r\nQ 2309 441 2620 675 \r\nQ 2931 909 2931 1356 \r\nQ 2931 1769 2642 2001 \r\nQ 2353 2234 1838 2234 \r\nL 1294 2234 \r\nL 1294 2753 \r\nL 1863 2753 \r\nQ 2328 2753 2575 2939 \r\nQ 2822 3125 2822 3475 \r\nQ 2822 3834 2567 4026 \r\nQ 2313 4219 1838 4219 \r\nQ 1578 4219 1281 4162 \r\nQ 984 4106 628 3988 \r\nL 628 4550 \r\nQ 988 4650 1302 4700 \r\nQ 1616 4750 1894 4750 \r\nQ 2613 4750 3031 4423 \r\nQ 3450 4097 3450 3541 \r\nQ 3450 3153 3228 2886 \r\nQ 3006 2619 2597 2516 \r\nz\r\n\" id=\"DejaVuSans-33\" transform=\"scale(0.015625)\"/>\r\n      <path d=\"M 2034 2216 \r\nQ 1584 2216 1326 1975 \r\nQ 1069 1734 1069 1313 \r\nQ 1069 891 1326 650 \r\nQ 1584 409 2034 409 \r\nQ 2484 409 2743 651 \r\nQ 3003 894 3003 1313 \r\nQ 3003 1734 2745 1975 \r\nQ 2488 2216 2034 2216 \r\nz\r\nM 1403 2484 \r\nQ 997 2584 770 2862 \r\nQ 544 3141 544 3541 \r\nQ 544 4100 942 4425 \r\nQ 1341 4750 2034 4750 \r\nQ 2731 4750 3128 4425 \r\nQ 3525 4100 3525 3541 \r\nQ 3525 3141 3298 2862 \r\nQ 3072 2584 2669 2484 \r\nQ 3125 2378 3379 2068 \r\nQ 3634 1759 3634 1313 \r\nQ 3634 634 3220 271 \r\nQ 2806 -91 2034 -91 \r\nQ 1263 -91 848 271 \r\nQ 434 634 434 1313 \r\nQ 434 1759 690 2068 \r\nQ 947 2378 1403 2484 \r\nz\r\nM 1172 3481 \r\nQ 1172 3119 1398 2916 \r\nQ 1625 2713 2034 2713 \r\nQ 2441 2713 2670 2916 \r\nQ 2900 3119 2900 3481 \r\nQ 2900 3844 2670 4047 \r\nQ 2441 4250 2034 4250 \r\nQ 1625 4250 1398 4047 \r\nQ 1172 3844 1172 3481 \r\nz\r\n\" id=\"DejaVuSans-38\" transform=\"scale(0.015625)\"/>\r\n     </defs>\r\n     <use xlink:href=\"#DejaVuSans-31\"/>\r\n     <use x=\"63.623047\" xlink:href=\"#DejaVuSans-33\"/>\r\n     <use x=\"127.246094\" xlink:href=\"#DejaVuSans-2e\"/>\r\n     <use x=\"159.033203\" xlink:href=\"#DejaVuSans-38\"/>\r\n     <use x=\"222.65625\" xlink:href=\"#DejaVuSans-25\"/>\r\n    </g>\r\n   </g>\r\n   <g id=\"text_5\">\r\n    <!-- SQL -->\r\n    <g transform=\"translate(250.827648 50.101804)scale(0.1 -0.1)\">\r\n     <defs>\r\n      <path d=\"M 2522 4238 \r\nQ 1834 4238 1429 3725 \r\nQ 1025 3213 1025 2328 \r\nQ 1025 1447 1429 934 \r\nQ 1834 422 2522 422 \r\nQ 3209 422 3611 934 \r\nQ 4013 1447 4013 2328 \r\nQ 4013 3213 3611 3725 \r\nQ 3209 4238 2522 4238 \r\nz\r\nM 3406 84 \r\nL 4238 -825 \r\nL 3475 -825 \r\nL 2784 -78 \r\nQ 2681 -84 2626 -87 \r\nQ 2572 -91 2522 -91 \r\nQ 1538 -91 948 567 \r\nQ 359 1225 359 2328 \r\nQ 359 3434 948 4092 \r\nQ 1538 4750 2522 4750 \r\nQ 3503 4750 4090 4092 \r\nQ 4678 3434 4678 2328 \r\nQ 4678 1516 4351 937 \r\nQ 4025 359 3406 84 \r\nz\r\n\" id=\"DejaVuSans-51\" transform=\"scale(0.015625)\"/>\r\n      <path d=\"M 628 4666 \r\nL 1259 4666 \r\nL 1259 531 \r\nL 3531 531 \r\nL 3531 0 \r\nL 628 0 \r\nL 628 4666 \r\nz\r\n\" id=\"DejaVuSans-4c\" transform=\"scale(0.015625)\"/>\r\n     </defs>\r\n     <use xlink:href=\"#DejaVuSans-53\"/>\r\n     <use x=\"63.476562\" xlink:href=\"#DejaVuSans-51\"/>\r\n     <use x=\"142.1875\" xlink:href=\"#DejaVuSans-4c\"/>\r\n    </g>\r\n   </g>\r\n   <g id=\"text_6\">\r\n    <!-- 3.4% -->\r\n    <g transform=\"translate(219.920296 126.233832)scale(0.1 -0.1)\">\r\n     <defs>\r\n      <path d=\"M 2419 4116 \r\nL 825 1625 \r\nL 2419 1625 \r\nL 2419 4116 \r\nz\r\nM 2253 4666 \r\nL 3047 4666 \r\nL 3047 1625 \r\nL 3713 1625 \r\nL 3713 1100 \r\nL 3047 1100 \r\nL 3047 0 \r\nL 2419 0 \r\nL 2419 1100 \r\nL 313 1100 \r\nL 313 1709 \r\nL 2253 4666 \r\nz\r\n\" id=\"DejaVuSans-34\" transform=\"scale(0.015625)\"/>\r\n     </defs>\r\n     <use xlink:href=\"#DejaVuSans-33\"/>\r\n     <use x=\"63.623047\" xlink:href=\"#DejaVuSans-2e\"/>\r\n     <use x=\"95.410156\" xlink:href=\"#DejaVuSans-34\"/>\r\n     <use x=\"159.033203\" xlink:href=\"#DejaVuSans-25\"/>\r\n    </g>\r\n   </g>\r\n   <g id=\"text_7\">\r\n    <!-- Reports and Documentation -->\r\n    <g transform=\"translate(58.743603 47.311437)scale(0.1 -0.1)\">\r\n     <defs>\r\n      <path d=\"M 2841 2188 \r\nQ 3044 2119 3236 1894 \r\nQ 3428 1669 3622 1275 \r\nL 4263 0 \r\nL 3584 0 \r\nL 2988 1197 \r\nQ 2756 1666 2539 1819 \r\nQ 2322 1972 1947 1972 \r\nL 1259 1972 \r\nL 1259 0 \r\nL 628 0 \r\nL 628 4666 \r\nL 2053 4666 \r\nQ 2853 4666 3247 4331 \r\nQ 3641 3997 3641 3322 \r\nQ 3641 2881 3436 2590 \r\nQ 3231 2300 2841 2188 \r\nz\r\nM 1259 4147 \r\nL 1259 2491 \r\nL 2053 2491 \r\nQ 2509 2491 2742 2702 \r\nQ 2975 2913 2975 3322 \r\nQ 2975 3731 2742 3939 \r\nQ 2509 4147 2053 4147 \r\nL 1259 4147 \r\nz\r\n\" id=\"DejaVuSans-52\" transform=\"scale(0.015625)\"/>\r\n      <path d=\"M 1159 525 \r\nL 1159 -1331 \r\nL 581 -1331 \r\nL 581 3500 \r\nL 1159 3500 \r\nL 1159 2969 \r\nQ 1341 3281 1617 3432 \r\nQ 1894 3584 2278 3584 \r\nQ 2916 3584 3314 3078 \r\nQ 3713 2572 3713 1747 \r\nQ 3713 922 3314 415 \r\nQ 2916 -91 2278 -91 \r\nQ 1894 -91 1617 61 \r\nQ 1341 213 1159 525 \r\nz\r\nM 3116 1747 \r\nQ 3116 2381 2855 2742 \r\nQ 2594 3103 2138 3103 \r\nQ 1681 3103 1420 2742 \r\nQ 1159 2381 1159 1747 \r\nQ 1159 1113 1420 752 \r\nQ 1681 391 2138 391 \r\nQ 2594 391 2855 752 \r\nQ 3116 1113 3116 1747 \r\nz\r\n\" id=\"DejaVuSans-70\" transform=\"scale(0.015625)\"/>\r\n      <path d=\"M 1959 3097 \r\nQ 1497 3097 1228 2736 \r\nQ 959 2375 959 1747 \r\nQ 959 1119 1226 758 \r\nQ 1494 397 1959 397 \r\nQ 2419 397 2687 759 \r\nQ 2956 1122 2956 1747 \r\nQ 2956 2369 2687 2733 \r\nQ 2419 3097 1959 3097 \r\nz\r\nM 1959 3584 \r\nQ 2709 3584 3137 3096 \r\nQ 3566 2609 3566 1747 \r\nQ 3566 888 3137 398 \r\nQ 2709 -91 1959 -91 \r\nQ 1206 -91 779 398 \r\nQ 353 888 353 1747 \r\nQ 353 2609 779 3096 \r\nQ 1206 3584 1959 3584 \r\nz\r\n\" id=\"DejaVuSans-6f\" transform=\"scale(0.015625)\"/>\r\n      <path d=\"M 2906 2969 \r\nL 2906 4863 \r\nL 3481 4863 \r\nL 3481 0 \r\nL 2906 0 \r\nL 2906 525 \r\nQ 2725 213 2448 61 \r\nQ 2172 -91 1784 -91 \r\nQ 1150 -91 751 415 \r\nQ 353 922 353 1747 \r\nQ 353 2572 751 3078 \r\nQ 1150 3584 1784 3584 \r\nQ 2172 3584 2448 3432 \r\nQ 2725 3281 2906 2969 \r\nz\r\nM 947 1747 \r\nQ 947 1113 1208 752 \r\nQ 1469 391 1925 391 \r\nQ 2381 391 2643 752 \r\nQ 2906 1113 2906 1747 \r\nQ 2906 2381 2643 2742 \r\nQ 2381 3103 1925 3103 \r\nQ 1469 3103 1208 2742 \r\nQ 947 2381 947 1747 \r\nz\r\n\" id=\"DejaVuSans-64\" transform=\"scale(0.015625)\"/>\r\n      <path d=\"M 3122 3366 \r\nL 3122 2828 \r\nQ 2878 2963 2633 3030 \r\nQ 2388 3097 2138 3097 \r\nQ 1578 3097 1268 2742 \r\nQ 959 2388 959 1747 \r\nQ 959 1106 1268 751 \r\nQ 1578 397 2138 397 \r\nQ 2388 397 2633 464 \r\nQ 2878 531 3122 666 \r\nL 3122 134 \r\nQ 2881 22 2623 -34 \r\nQ 2366 -91 2075 -91 \r\nQ 1284 -91 818 406 \r\nQ 353 903 353 1747 \r\nQ 353 2603 823 3093 \r\nQ 1294 3584 2113 3584 \r\nQ 2378 3584 2631 3529 \r\nQ 2884 3475 3122 3366 \r\nz\r\n\" id=\"DejaVuSans-63\" transform=\"scale(0.015625)\"/>\r\n      <path d=\"M 544 1381 \r\nL 544 3500 \r\nL 1119 3500 \r\nL 1119 1403 \r\nQ 1119 906 1312 657 \r\nQ 1506 409 1894 409 \r\nQ 2359 409 2629 706 \r\nQ 2900 1003 2900 1516 \r\nL 2900 3500 \r\nL 3475 3500 \r\nL 3475 0 \r\nL 2900 0 \r\nL 2900 538 \r\nQ 2691 219 2414 64 \r\nQ 2138 -91 1772 -91 \r\nQ 1169 -91 856 284 \r\nQ 544 659 544 1381 \r\nz\r\nM 1991 3584 \r\nL 1991 3584 \r\nz\r\n\" id=\"DejaVuSans-75\" transform=\"scale(0.015625)\"/>\r\n     </defs>\r\n     <use xlink:href=\"#DejaVuSans-52\"/>\r\n     <use x=\"64.982422\" xlink:href=\"#DejaVuSans-65\"/>\r\n     <use x=\"126.505859\" xlink:href=\"#DejaVuSans-70\"/>\r\n     <use x=\"189.982422\" xlink:href=\"#DejaVuSans-6f\"/>\r\n     <use x=\"251.164062\" xlink:href=\"#DejaVuSans-72\"/>\r\n     <use x=\"292.277344\" xlink:href=\"#DejaVuSans-74\"/>\r\n     <use x=\"331.486328\" xlink:href=\"#DejaVuSans-73\"/>\r\n     <use x=\"383.585938\" xlink:href=\"#DejaVuSans-20\"/>\r\n     <use x=\"415.373047\" xlink:href=\"#DejaVuSans-61\"/>\r\n     <use x=\"476.652344\" xlink:href=\"#DejaVuSans-6e\"/>\r\n     <use x=\"540.03125\" xlink:href=\"#DejaVuSans-64\"/>\r\n     <use x=\"603.507812\" xlink:href=\"#DejaVuSans-20\"/>\r\n     <use x=\"635.294922\" xlink:href=\"#DejaVuSans-44\"/>\r\n     <use x=\"712.296875\" xlink:href=\"#DejaVuSans-6f\"/>\r\n     <use x=\"773.478516\" xlink:href=\"#DejaVuSans-63\"/>\r\n     <use x=\"828.458984\" xlink:href=\"#DejaVuSans-75\"/>\r\n     <use x=\"891.837891\" xlink:href=\"#DejaVuSans-6d\"/>\r\n     <use x=\"989.25\" xlink:href=\"#DejaVuSans-65\"/>\r\n     <use x=\"1050.773438\" xlink:href=\"#DejaVuSans-6e\"/>\r\n     <use x=\"1114.152344\" xlink:href=\"#DejaVuSans-74\"/>\r\n     <use x=\"1153.361328\" xlink:href=\"#DejaVuSans-61\"/>\r\n     <use x=\"1214.640625\" xlink:href=\"#DejaVuSans-74\"/>\r\n     <use x=\"1253.849609\" xlink:href=\"#DejaVuSans-69\"/>\r\n     <use x=\"1281.632812\" xlink:href=\"#DejaVuSans-6f\"/>\r\n     <use x=\"1342.814453\" xlink:href=\"#DejaVuSans-6e\"/>\r\n    </g>\r\n   </g>\r\n   <g id=\"text_8\">\r\n    <!-- 8.0% -->\r\n    <g transform=\"translate(196.52698 124.965483)scale(0.1 -0.1)\">\r\n     <defs>\r\n      <path d=\"M 2034 4250 \r\nQ 1547 4250 1301 3770 \r\nQ 1056 3291 1056 2328 \r\nQ 1056 1369 1301 889 \r\nQ 1547 409 2034 409 \r\nQ 2525 409 2770 889 \r\nQ 3016 1369 3016 2328 \r\nQ 3016 3291 2770 3770 \r\nQ 2525 4250 2034 4250 \r\nz\r\nM 2034 4750 \r\nQ 2819 4750 3233 4129 \r\nQ 3647 3509 3647 2328 \r\nQ 3647 1150 3233 529 \r\nQ 2819 -91 2034 -91 \r\nQ 1250 -91 836 529 \r\nQ 422 1150 422 2328 \r\nQ 422 3509 836 4129 \r\nQ 1250 4750 2034 4750 \r\nz\r\n\" id=\"DejaVuSans-30\" transform=\"scale(0.015625)\"/>\r\n     </defs>\r\n     <use xlink:href=\"#DejaVuSans-38\"/>\r\n     <use x=\"63.623047\" xlink:href=\"#DejaVuSans-2e\"/>\r\n     <use x=\"95.410156\" xlink:href=\"#DejaVuSans-30\"/>\r\n     <use x=\"159.033203\" xlink:href=\"#DejaVuSans-25\"/>\r\n    </g>\r\n   </g>\r\n   <g id=\"text_9\">\r\n    <!-- Preproccesing &amp; Modeling -->\r\n    <g transform=\"translate(7.2 308.459171)scale(0.1 -0.1)\">\r\n     <defs>\r\n      <path d=\"M 1259 4147 \r\nL 1259 2394 \r\nL 2053 2394 \r\nQ 2494 2394 2734 2622 \r\nQ 2975 2850 2975 3272 \r\nQ 2975 3691 2734 3919 \r\nQ 2494 4147 2053 4147 \r\nL 1259 4147 \r\nz\r\nM 628 4666 \r\nL 2053 4666 \r\nQ 2838 4666 3239 4311 \r\nQ 3641 3956 3641 3272 \r\nQ 3641 2581 3239 2228 \r\nQ 2838 1875 2053 1875 \r\nL 1259 1875 \r\nL 1259 0 \r\nL 628 0 \r\nL 628 4666 \r\nz\r\n\" id=\"DejaVuSans-50\" transform=\"scale(0.015625)\"/>\r\n     </defs>\r\n     <use xlink:href=\"#DejaVuSans-50\"/>\r\n     <use x=\"58.552734\" xlink:href=\"#DejaVuSans-72\"/>\r\n     <use x=\"97.416016\" xlink:href=\"#DejaVuSans-65\"/>\r\n     <use x=\"158.939453\" xlink:href=\"#DejaVuSans-70\"/>\r\n     <use x=\"222.416016\" xlink:href=\"#DejaVuSans-72\"/>\r\n     <use x=\"261.279297\" xlink:href=\"#DejaVuSans-6f\"/>\r\n     <use x=\"322.460938\" xlink:href=\"#DejaVuSans-63\"/>\r\n     <use x=\"377.441406\" xlink:href=\"#DejaVuSans-63\"/>\r\n     <use x=\"432.421875\" xlink:href=\"#DejaVuSans-65\"/>\r\n     <use x=\"493.945312\" xlink:href=\"#DejaVuSans-73\"/>\r\n     <use x=\"546.044922\" xlink:href=\"#DejaVuSans-69\"/>\r\n     <use x=\"573.828125\" xlink:href=\"#DejaVuSans-6e\"/>\r\n     <use x=\"637.207031\" xlink:href=\"#DejaVuSans-67\"/>\r\n     <use x=\"700.683594\" xlink:href=\"#DejaVuSans-20\"/>\r\n     <use x=\"732.470703\" xlink:href=\"#DejaVuSans-26\"/>\r\n     <use x=\"810.449219\" xlink:href=\"#DejaVuSans-20\"/>\r\n     <use x=\"842.236328\" xlink:href=\"#DejaVuSans-4d\"/>\r\n     <use x=\"928.515625\" xlink:href=\"#DejaVuSans-6f\"/>\r\n     <use x=\"989.697266\" xlink:href=\"#DejaVuSans-64\"/>\r\n     <use x=\"1053.173828\" xlink:href=\"#DejaVuSans-65\"/>\r\n     <use x=\"1114.697266\" xlink:href=\"#DejaVuSans-6c\"/>\r\n     <use x=\"1142.480469\" xlink:href=\"#DejaVuSans-69\"/>\r\n     <use x=\"1170.263672\" xlink:href=\"#DejaVuSans-6e\"/>\r\n     <use x=\"1233.642578\" xlink:href=\"#DejaVuSans-67\"/>\r\n    </g>\r\n   </g>\r\n   <g id=\"text_10\">\r\n    <!-- 69.0% -->\r\n    <g transform=\"translate(164.960853 243.668998)scale(0.1 -0.1)\">\r\n     <defs>\r\n      <path d=\"M 2113 2584 \r\nQ 1688 2584 1439 2293 \r\nQ 1191 2003 1191 1497 \r\nQ 1191 994 1439 701 \r\nQ 1688 409 2113 409 \r\nQ 2538 409 2786 701 \r\nQ 3034 994 3034 1497 \r\nQ 3034 2003 2786 2293 \r\nQ 2538 2584 2113 2584 \r\nz\r\nM 3366 4563 \r\nL 3366 3988 \r\nQ 3128 4100 2886 4159 \r\nQ 2644 4219 2406 4219 \r\nQ 1781 4219 1451 3797 \r\nQ 1122 3375 1075 2522 \r\nQ 1259 2794 1537 2939 \r\nQ 1816 3084 2150 3084 \r\nQ 2853 3084 3261 2657 \r\nQ 3669 2231 3669 1497 \r\nQ 3669 778 3244 343 \r\nQ 2819 -91 2113 -91 \r\nQ 1303 -91 875 529 \r\nQ 447 1150 447 2328 \r\nQ 447 3434 972 4092 \r\nQ 1497 4750 2381 4750 \r\nQ 2619 4750 2861 4703 \r\nQ 3103 4656 3366 4563 \r\nz\r\n\" id=\"DejaVuSans-36\" transform=\"scale(0.015625)\"/>\r\n      <path d=\"M 703 97 \r\nL 703 672 \r\nQ 941 559 1184 500 \r\nQ 1428 441 1663 441 \r\nQ 2288 441 2617 861 \r\nQ 2947 1281 2994 2138 \r\nQ 2813 1869 2534 1725 \r\nQ 2256 1581 1919 1581 \r\nQ 1219 1581 811 2004 \r\nQ 403 2428 403 3163 \r\nQ 403 3881 828 4315 \r\nQ 1253 4750 1959 4750 \r\nQ 2769 4750 3195 4129 \r\nQ 3622 3509 3622 2328 \r\nQ 3622 1225 3098 567 \r\nQ 2575 -91 1691 -91 \r\nQ 1453 -91 1209 -44 \r\nQ 966 3 703 97 \r\nz\r\nM 1959 2075 \r\nQ 2384 2075 2632 2365 \r\nQ 2881 2656 2881 3163 \r\nQ 2881 3666 2632 3958 \r\nQ 2384 4250 1959 4250 \r\nQ 1534 4250 1286 3958 \r\nQ 1038 3666 1038 3163 \r\nQ 1038 2656 1286 2365 \r\nQ 1534 2075 1959 2075 \r\nz\r\n\" id=\"DejaVuSans-39\" transform=\"scale(0.015625)\"/>\r\n     </defs>\r\n     <use xlink:href=\"#DejaVuSans-36\"/>\r\n     <use x=\"63.623047\" xlink:href=\"#DejaVuSans-39\"/>\r\n     <use x=\"127.246094\" xlink:href=\"#DejaVuSans-2e\"/>\r\n     <use x=\"159.033203\" xlink:href=\"#DejaVuSans-30\"/>\r\n     <use x=\"222.65625\" xlink:href=\"#DejaVuSans-25\"/>\r\n    </g>\r\n   </g>\r\n   <g id=\"text_11\">\r\n    <!-- Time spent per Project Step -->\r\n    <g transform=\"translate(120.333361 17.837812)scale(0.14 -0.14)\">\r\n     <defs>\r\n      <path d=\"M -19 4666 \r\nL 3928 4666 \r\nL 3928 4134 \r\nL 2272 4134 \r\nL 2272 0 \r\nL 1638 0 \r\nL 1638 4134 \r\nL -19 4134 \r\nL -19 4666 \r\nz\r\n\" id=\"DejaVuSans-54\" transform=\"scale(0.015625)\"/>\r\n      <path d=\"M 603 3500 \r\nL 1178 3500 \r\nL 1178 -63 \r\nQ 1178 -731 923 -1031 \r\nQ 669 -1331 103 -1331 \r\nL -116 -1331 \r\nL -116 -844 \r\nL 38 -844 \r\nQ 366 -844 484 -692 \r\nQ 603 -541 603 -63 \r\nL 603 3500 \r\nz\r\nM 603 4863 \r\nL 1178 4863 \r\nL 1178 4134 \r\nL 603 4134 \r\nL 603 4863 \r\nz\r\n\" id=\"DejaVuSans-6a\" transform=\"scale(0.015625)\"/>\r\n     </defs>\r\n     <use xlink:href=\"#DejaVuSans-54\"/>\r\n     <use x=\"57.958984\" xlink:href=\"#DejaVuSans-69\"/>\r\n     <use x=\"85.742188\" xlink:href=\"#DejaVuSans-6d\"/>\r\n     <use x=\"183.154297\" xlink:href=\"#DejaVuSans-65\"/>\r\n     <use x=\"244.677734\" xlink:href=\"#DejaVuSans-20\"/>\r\n     <use x=\"276.464844\" xlink:href=\"#DejaVuSans-73\"/>\r\n     <use x=\"328.564453\" xlink:href=\"#DejaVuSans-70\"/>\r\n     <use x=\"392.041016\" xlink:href=\"#DejaVuSans-65\"/>\r\n     <use x=\"453.564453\" xlink:href=\"#DejaVuSans-6e\"/>\r\n     <use x=\"516.943359\" xlink:href=\"#DejaVuSans-74\"/>\r\n     <use x=\"556.152344\" xlink:href=\"#DejaVuSans-20\"/>\r\n     <use x=\"587.939453\" xlink:href=\"#DejaVuSans-70\"/>\r\n     <use x=\"651.416016\" xlink:href=\"#DejaVuSans-65\"/>\r\n     <use x=\"712.939453\" xlink:href=\"#DejaVuSans-72\"/>\r\n     <use x=\"754.052734\" xlink:href=\"#DejaVuSans-20\"/>\r\n     <use x=\"785.839844\" xlink:href=\"#DejaVuSans-50\"/>\r\n     <use x=\"844.392578\" xlink:href=\"#DejaVuSans-72\"/>\r\n     <use x=\"883.255859\" xlink:href=\"#DejaVuSans-6f\"/>\r\n     <use x=\"944.4375\" xlink:href=\"#DejaVuSans-6a\"/>\r\n     <use x=\"972.220703\" xlink:href=\"#DejaVuSans-65\"/>\r\n     <use x=\"1033.744141\" xlink:href=\"#DejaVuSans-63\"/>\r\n     <use x=\"1088.724609\" xlink:href=\"#DejaVuSans-74\"/>\r\n     <use x=\"1127.933594\" xlink:href=\"#DejaVuSans-20\"/>\r\n     <use x=\"1159.720703\" xlink:href=\"#DejaVuSans-53\"/>\r\n     <use x=\"1223.197266\" xlink:href=\"#DejaVuSans-74\"/>\r\n     <use x=\"1262.40625\" xlink:href=\"#DejaVuSans-65\"/>\r\n     <use x=\"1323.929688\" xlink:href=\"#DejaVuSans-70\"/>\r\n    </g>\r\n   </g>\r\n  </g>\r\n </g>\r\n</svg>\r\n",
      "image/png": "[encoded data removed]"
     },
     "metadata": {}
    }
   ],
   "source": [
    "viz.timepie(save=reports)"
   ]
  },
  {
   "source": [
    "## 5. Conclusions\n",
    "\n",
    "### 1. What can you conclude about your data study?\n",
    "With the base dataset, the available time and the hardware limitations the best model proved to be the basic Character-Level LSTM model. Further investigation is required.\n",
    "\n",
    "### 2. What would you change if you needed to do another DS project?\n",
    "For Text Generation with GANs it is required to obtained a much more consistent dataset with a greater length. By that end it would be required better hardware in order to resolve memory errors and most importantly to optimize the current code.\n",
    "\n",
    "### 3. What do you learn doing this project?\n",
    "Text Generation is a complex but fascinating field in the Deep Learning spectrum, with GANs being a the top of today's revolutionary models. On the other hand, designing a well-trained GAN requires further investigation and understanding before attempting to design new models."
   ],
   "cell_type": "markdown",
   "metadata": {}
  }
 ]
}