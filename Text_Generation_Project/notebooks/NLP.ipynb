{
 "metadata": {
  "language_info": {
   "codemirror_mode": {
    "name": "ipython",
    "version": 3
   },
   "file_extension": ".py",
   "mimetype": "text/x-python",
   "name": "python",
   "nbconvert_exporter": "python",
   "pygments_lexer": "ipython3",
   "version": "3.7.4"
  },
  "orig_nbformat": 4,
  "kernelspec": {
   "name": "python3",
   "display_name": "Python 3.7.4 64-bit"
  },
  "interpreter": {
   "hash": "674dfd6ded4398e0679ff4f65e9a10a54ff0d14801bec0126172cfc3973d1cf1"
  }
 },
 "nbformat": 4,
 "nbformat_minor": 2,
 "cells": [
  {
   "cell_type": "code",
   "execution_count": 5,
   "metadata": {},
   "outputs": [],
   "source": [
    "import pandas as pd\n",
    "import os\n",
    "import sys\n",
    "\n",
    "from tensorflow import keras\n",
    "from tensorflow.keras import layers\n",
    "\n",
    "import numpy as np\n",
    "import random\n",
    "import io"
   ]
  },
  {
   "cell_type": "code",
   "execution_count": 6,
   "metadata": {},
   "outputs": [],
   "source": [
    "root = os.path.dirname(os.getcwd())\n",
    "sys.path.append(root)"
   ]
  },
  {
   "cell_type": "code",
   "execution_count": 7,
   "metadata": {},
   "outputs": [
    {
     "output_type": "stream",
     "name": "stdout",
     "text": [
      "Number of GPUs available: [PhysicalDevice(name='/physical_device:CPU:0', device_type='CPU')]\n"
     ]
    }
   ],
   "source": [
    "import tensorflow as tf\n",
    "\n",
    "print('Number of GPUs available:', tf.config.list_physical_devices())"
   ]
  },
  {
   "source": [
    "# PARTE I. BASELINE\n",
    "## 1.1. Input Preprocessing"
   ],
   "cell_type": "markdown",
   "metadata": {}
  },
  {
   "cell_type": "code",
   "execution_count": 9,
   "metadata": {},
   "outputs": [],
   "source": [
    "df = pd.read_csv(root + os.sep + 'data'+ os.sep + 'BASE.csv')"
   ]
  },
  {
   "cell_type": "code",
   "execution_count": 6,
   "metadata": {},
   "outputs": [],
   "source": [
    "quotes = list(df.quote)"
   ]
  },
  {
   "cell_type": "code",
   "execution_count": 10,
   "metadata": {},
   "outputs": [
    {
     "output_type": "stream",
     "name": "stdout",
     "text": [
      "5954\n2393\n14\n104.95297279140074\n"
     ]
    }
   ],
   "source": [
    "lens = [len(q) for q in quotes]\n",
    "print(len(lens))\n",
    "print(max(lens))\n",
    "print(min(lens))\n",
    "print(sum(lens)/len(lens))"
   ]
  },
  {
   "cell_type": "code",
   "execution_count": 9,
   "metadata": {},
   "outputs": [
    {
     "output_type": "execute_result",
     "data": {
      "text/plain": [
       "<AxesSubplot:ylabel='Count'>"
      ]
     },
     "metadata": {},
     "execution_count": 9
    },
    {
     "output_type": "display_data",
     "data": {
      "text/plain": "<Figure size 432x288 with 1 Axes>",
      "image/svg+xml": "<?xml version=\"1.0\" encoding=\"utf-8\" standalone=\"no\"?>\r\n<!DOCTYPE svg PUBLIC \"-//W3C//DTD SVG 1.1//EN\"\r\n  \"http://www.w3.org/Graphics/SVG/1.1/DTD/svg11.dtd\">\r\n<svg height=\"248.518125pt\" version=\"1.1\" viewBox=\"0 0 400.16177 248.518125\" width=\"400.16177pt\" xmlns=\"http://www.w3.org/2000/svg\" xmlns:xlink=\"http://www.w3.org/1999/xlink\">\r\n <metadata>\r\n  <rdf:RDF xmlns:cc=\"http://creativecommons.org/ns#\" xmlns:dc=\"http://purl.org/dc/elements/1.1/\" xmlns:rdf=\"http://www.w3.org/1999/02/22-rdf-syntax-ns#\">\r\n   <cc:Work>\r\n    <dc:type rdf:resource=\"http://purl.org/dc/dcmitype/StillImage\"/>\r\n    <dc:date>2021-06-30T09:51:31.845288</dc:date>\r\n    <dc:format>image/svg+xml</dc:format>\r\n    <dc:creator>\r\n     <cc:Agent>\r\n      <dc:title>Matplotlib v3.4.1, https://matplotlib.org/</dc:title>\r\n     </cc:Agent>\r\n    </dc:creator>\r\n   </cc:Work>\r\n  </rdf:RDF>\r\n </metadata>\r\n <defs>\r\n  <style type=\"text/css\">*{stroke-linecap:butt;stroke-linejoin:round;}</style>\r\n </defs>\r\n <g id=\"figure_1\">\r\n  <g id=\"patch_1\">\r\n   <path d=\"M 0 248.518125 \r\nL 400.16177 248.518125 \r\nL 400.16177 0 \r\nL 0 0 \r\nz\r\n\" style=\"fill:none;\"/>\r\n  </g>\r\n  <g id=\"axes_1\">\r\n   <g id=\"patch_2\">\r\n    <path d=\"M 46.965625 224.64 \r\nL 381.765625 224.64 \r\nL 381.765625 7.2 \r\nL 46.965625 7.2 \r\nz\r\n\" style=\"fill:#ffffff;\"/>\r\n   </g>\r\n   <g id=\"patch_3\">\r\n    <path clip-path=\"url(#pf0ec87df2f)\" d=\"M 62.183807 224.64 \r\nL 63.27082 224.64 \r\nL 63.27082 196.533203 \r\nL 62.183807 196.533203 \r\nz\r\n\" style=\"fill:#1f77b4;fill-opacity:0.75;stroke:#000000;stroke-linejoin:miter;stroke-width:0.108701;\"/>\r\n   </g>\r\n   <g id=\"patch_4\">\r\n    <path clip-path=\"url(#pf0ec87df2f)\" d=\"M 63.27082 224.64 \r\nL 64.357833 224.64 \r\nL 64.357833 74.414014 \r\nL 63.27082 74.414014 \r\nz\r\n\" style=\"fill:#1f77b4;fill-opacity:0.75;stroke:#000000;stroke-linejoin:miter;stroke-width:0.108701;\"/>\r\n   </g>\r\n   <g id=\"patch_5\">\r\n    <path clip-path=\"url(#pf0ec87df2f)\" d=\"M 64.357833 224.64 \r\nL 65.444846 224.64 \r\nL 65.444846 17.554286 \r\nL 64.357833 17.554286 \r\nz\r\n\" style=\"fill:#1f77b4;fill-opacity:0.75;stroke:#000000;stroke-linejoin:miter;stroke-width:0.108701;\"/>\r\n   </g>\r\n   <g id=\"patch_6\">\r\n    <path clip-path=\"url(#pf0ec87df2f)\" d=\"M 65.444846 224.64 \r\nL 66.531859 224.64 \r\nL 66.531859 44.691883 \r\nL 65.444846 44.691883 \r\nz\r\n\" style=\"fill:#1f77b4;fill-opacity:0.75;stroke:#000000;stroke-linejoin:miter;stroke-width:0.108701;\"/>\r\n   </g>\r\n   <g id=\"patch_7\">\r\n    <path clip-path=\"url(#pf0ec87df2f)\" d=\"M 66.531859 224.64 \r\nL 67.618872 224.64 \r\nL 67.618872 49.537883 \r\nL 66.531859 49.537883 \r\nz\r\n\" style=\"fill:#1f77b4;fill-opacity:0.75;stroke:#000000;stroke-linejoin:miter;stroke-width:0.108701;\"/>\r\n   </g>\r\n   <g id=\"patch_8\">\r\n    <path clip-path=\"url(#pf0ec87df2f)\" d=\"M 67.618872 224.64 \r\nL 68.705885 224.64 \r\nL 68.705885 84.106013 \r\nL 67.618872 84.106013 \r\nz\r\n\" style=\"fill:#1f77b4;fill-opacity:0.75;stroke:#000000;stroke-linejoin:miter;stroke-width:0.108701;\"/>\r\n   </g>\r\n   <g id=\"patch_9\">\r\n    <path clip-path=\"url(#pf0ec87df2f)\" d=\"M 68.705885 224.64 \r\nL 69.792898 224.64 \r\nL 69.792898 82.49068 \r\nL 68.705885 82.49068 \r\nz\r\n\" style=\"fill:#1f77b4;fill-opacity:0.75;stroke:#000000;stroke-linejoin:miter;stroke-width:0.108701;\"/>\r\n   </g>\r\n   <g id=\"patch_10\">\r\n    <path clip-path=\"url(#pf0ec87df2f)\" d=\"M 69.792898 224.64 \r\nL 70.879911 224.64 \r\nL 70.879911 120.612543 \r\nL 69.792898 120.612543 \r\nz\r\n\" style=\"fill:#1f77b4;fill-opacity:0.75;stroke:#000000;stroke-linejoin:miter;stroke-width:0.108701;\"/>\r\n   </g>\r\n   <g id=\"patch_11\">\r\n    <path clip-path=\"url(#pf0ec87df2f)\" d=\"M 70.879911 224.64 \r\nL 71.966924 224.64 \r\nL 71.966924 122.550943 \r\nL 70.879911 122.550943 \r\nz\r\n\" style=\"fill:#1f77b4;fill-opacity:0.75;stroke:#000000;stroke-linejoin:miter;stroke-width:0.108701;\"/>\r\n   </g>\r\n   <g id=\"patch_12\">\r\n    <path clip-path=\"url(#pf0ec87df2f)\" d=\"M 71.966924 224.64 \r\nL 73.053937 224.64 \r\nL 73.053937 148.073207 \r\nL 71.966924 148.073207 \r\nz\r\n\" style=\"fill:#1f77b4;fill-opacity:0.75;stroke:#000000;stroke-linejoin:miter;stroke-width:0.108701;\"/>\r\n   </g>\r\n   <g id=\"patch_13\">\r\n    <path clip-path=\"url(#pf0ec87df2f)\" d=\"M 73.053937 224.64 \r\nL 74.14095 224.64 \r\nL 74.14095 160.672806 \r\nL 73.053937 160.672806 \r\nz\r\n\" style=\"fill:#1f77b4;fill-opacity:0.75;stroke:#000000;stroke-linejoin:miter;stroke-width:0.108701;\"/>\r\n   </g>\r\n   <g id=\"patch_14\">\r\n    <path clip-path=\"url(#pf0ec87df2f)\" d=\"M 74.14095 224.64 \r\nL 75.227963 224.64 \r\nL 75.227963 176.503071 \r\nL 74.14095 176.503071 \r\nz\r\n\" style=\"fill:#1f77b4;fill-opacity:0.75;stroke:#000000;stroke-linejoin:miter;stroke-width:0.108701;\"/>\r\n   </g>\r\n   <g id=\"patch_15\">\r\n    <path clip-path=\"url(#pf0ec87df2f)\" d=\"M 75.227963 224.64 \r\nL 76.314976 224.64 \r\nL 76.314976 173.272405 \r\nL 75.227963 173.272405 \r\nz\r\n\" style=\"fill:#1f77b4;fill-opacity:0.75;stroke:#000000;stroke-linejoin:miter;stroke-width:0.108701;\"/>\r\n   </g>\r\n   <g id=\"patch_16\">\r\n    <path clip-path=\"url(#pf0ec87df2f)\" d=\"M 76.314976 224.64 \r\nL 77.401989 224.64 \r\nL 77.401989 186.19507 \r\nL 76.314976 186.19507 \r\nz\r\n\" style=\"fill:#1f77b4;fill-opacity:0.75;stroke:#000000;stroke-linejoin:miter;stroke-width:0.108701;\"/>\r\n   </g>\r\n   <g id=\"patch_17\">\r\n    <path clip-path=\"url(#pf0ec87df2f)\" d=\"M 77.401989 224.64 \r\nL 78.489002 224.64 \r\nL 78.489002 184.25667 \r\nL 77.401989 184.25667 \r\nz\r\n\" style=\"fill:#1f77b4;fill-opacity:0.75;stroke:#000000;stroke-linejoin:miter;stroke-width:0.108701;\"/>\r\n   </g>\r\n   <g id=\"patch_18\">\r\n    <path clip-path=\"url(#pf0ec87df2f)\" d=\"M 78.489002 224.64 \r\nL 79.576015 224.64 \r\nL 79.576015 196.533203 \r\nL 78.489002 196.533203 \r\nz\r\n\" style=\"fill:#1f77b4;fill-opacity:0.75;stroke:#000000;stroke-linejoin:miter;stroke-width:0.108701;\"/>\r\n   </g>\r\n   <g id=\"patch_19\">\r\n    <path clip-path=\"url(#pf0ec87df2f)\" d=\"M 79.576015 224.64 \r\nL 80.663028 224.64 \r\nL 80.663028 200.086936 \r\nL 79.576015 200.086936 \r\nz\r\n\" style=\"fill:#1f77b4;fill-opacity:0.75;stroke:#000000;stroke-linejoin:miter;stroke-width:0.108701;\"/>\r\n   </g>\r\n   <g id=\"patch_20\">\r\n    <path clip-path=\"url(#pf0ec87df2f)\" d=\"M 80.663028 224.64 \r\nL 81.750041 224.64 \r\nL 81.750041 198.794669 \r\nL 80.663028 198.794669 \r\nz\r\n\" style=\"fill:#1f77b4;fill-opacity:0.75;stroke:#000000;stroke-linejoin:miter;stroke-width:0.108701;\"/>\r\n   </g>\r\n   <g id=\"patch_21\">\r\n    <path clip-path=\"url(#pf0ec87df2f)\" d=\"M 81.750041 224.64 \r\nL 82.837054 224.64 \r\nL 82.837054 195.240936 \r\nL 81.750041 195.240936 \r\nz\r\n\" style=\"fill:#1f77b4;fill-opacity:0.75;stroke:#000000;stroke-linejoin:miter;stroke-width:0.108701;\"/>\r\n   </g>\r\n   <g id=\"patch_22\">\r\n    <path clip-path=\"url(#pf0ec87df2f)\" d=\"M 82.837054 224.64 \r\nL 83.924067 224.64 \r\nL 83.924067 205.902135 \r\nL 82.837054 205.902135 \r\nz\r\n\" style=\"fill:#1f77b4;fill-opacity:0.75;stroke:#000000;stroke-linejoin:miter;stroke-width:0.108701;\"/>\r\n   </g>\r\n   <g id=\"patch_23\">\r\n    <path clip-path=\"url(#pf0ec87df2f)\" d=\"M 83.924067 224.64 \r\nL 85.01108 224.64 \r\nL 85.01108 205.256002 \r\nL 83.924067 205.256002 \r\nz\r\n\" style=\"fill:#1f77b4;fill-opacity:0.75;stroke:#000000;stroke-linejoin:miter;stroke-width:0.108701;\"/>\r\n   </g>\r\n   <g id=\"patch_24\">\r\n    <path clip-path=\"url(#pf0ec87df2f)\" d=\"M 85.01108 224.64 \r\nL 86.098093 224.64 \r\nL 86.098093 208.809735 \r\nL 85.01108 208.809735 \r\nz\r\n\" style=\"fill:#1f77b4;fill-opacity:0.75;stroke:#000000;stroke-linejoin:miter;stroke-width:0.108701;\"/>\r\n   </g>\r\n   <g id=\"patch_25\">\r\n    <path clip-path=\"url(#pf0ec87df2f)\" d=\"M 86.098093 224.64 \r\nL 87.185106 224.64 \r\nL 87.185106 206.871335 \r\nL 86.098093 206.871335 \r\nz\r\n\" style=\"fill:#1f77b4;fill-opacity:0.75;stroke:#000000;stroke-linejoin:miter;stroke-width:0.108701;\"/>\r\n   </g>\r\n   <g id=\"patch_26\">\r\n    <path clip-path=\"url(#pf0ec87df2f)\" d=\"M 87.185106 224.64 \r\nL 88.272119 224.64 \r\nL 88.272119 211.717335 \r\nL 87.185106 211.717335 \r\nz\r\n\" style=\"fill:#1f77b4;fill-opacity:0.75;stroke:#000000;stroke-linejoin:miter;stroke-width:0.108701;\"/>\r\n   </g>\r\n   <g id=\"patch_27\">\r\n    <path clip-path=\"url(#pf0ec87df2f)\" d=\"M 88.272119 224.64 \r\nL 89.359131 224.64 \r\nL 89.359131 214.301868 \r\nL 88.272119 214.301868 \r\nz\r\n\" style=\"fill:#1f77b4;fill-opacity:0.75;stroke:#000000;stroke-linejoin:miter;stroke-width:0.108701;\"/>\r\n   </g>\r\n   <g id=\"patch_28\">\r\n    <path clip-path=\"url(#pf0ec87df2f)\" d=\"M 89.359131 224.64 \r\nL 90.446144 224.64 \r\nL 90.446144 212.686534 \r\nL 89.359131 212.686534 \r\nz\r\n\" style=\"fill:#1f77b4;fill-opacity:0.75;stroke:#000000;stroke-linejoin:miter;stroke-width:0.108701;\"/>\r\n   </g>\r\n   <g id=\"patch_29\">\r\n    <path clip-path=\"url(#pf0ec87df2f)\" d=\"M 90.446144 224.64 \r\nL 91.533157 224.64 \r\nL 91.533157 215.271068 \r\nL 90.446144 215.271068 \r\nz\r\n\" style=\"fill:#1f77b4;fill-opacity:0.75;stroke:#000000;stroke-linejoin:miter;stroke-width:0.108701;\"/>\r\n   </g>\r\n   <g id=\"patch_30\">\r\n    <path clip-path=\"url(#pf0ec87df2f)\" d=\"M 91.533157 224.64 \r\nL 92.62017 224.64 \r\nL 92.62017 213.978801 \r\nL 91.533157 213.978801 \r\nz\r\n\" style=\"fill:#1f77b4;fill-opacity:0.75;stroke:#000000;stroke-linejoin:miter;stroke-width:0.108701;\"/>\r\n   </g>\r\n   <g id=\"patch_31\">\r\n    <path clip-path=\"url(#pf0ec87df2f)\" d=\"M 92.62017 224.64 \r\nL 93.707183 224.64 \r\nL 93.707183 215.271068 \r\nL 92.62017 215.271068 \r\nz\r\n\" style=\"fill:#1f77b4;fill-opacity:0.75;stroke:#000000;stroke-linejoin:miter;stroke-width:0.108701;\"/>\r\n   </g>\r\n   <g id=\"patch_32\">\r\n    <path clip-path=\"url(#pf0ec87df2f)\" d=\"M 93.707183 224.64 \r\nL 94.794196 224.64 \r\nL 94.794196 216.563334 \r\nL 93.707183 216.563334 \r\nz\r\n\" style=\"fill:#1f77b4;fill-opacity:0.75;stroke:#000000;stroke-linejoin:miter;stroke-width:0.108701;\"/>\r\n   </g>\r\n   <g id=\"patch_33\">\r\n    <path clip-path=\"url(#pf0ec87df2f)\" d=\"M 94.794196 224.64 \r\nL 95.881209 224.64 \r\nL 95.881209 216.240267 \r\nL 94.794196 216.240267 \r\nz\r\n\" style=\"fill:#1f77b4;fill-opacity:0.75;stroke:#000000;stroke-linejoin:miter;stroke-width:0.108701;\"/>\r\n   </g>\r\n   <g id=\"patch_34\">\r\n    <path clip-path=\"url(#pf0ec87df2f)\" d=\"M 95.881209 224.64 \r\nL 96.968222 224.64 \r\nL 96.968222 219.147867 \r\nL 95.881209 219.147867 \r\nz\r\n\" style=\"fill:#1f77b4;fill-opacity:0.75;stroke:#000000;stroke-linejoin:miter;stroke-width:0.108701;\"/>\r\n   </g>\r\n   <g id=\"patch_35\">\r\n    <path clip-path=\"url(#pf0ec87df2f)\" d=\"M 96.968222 224.64 \r\nL 98.055235 224.64 \r\nL 98.055235 220.440134 \r\nL 96.968222 220.440134 \r\nz\r\n\" style=\"fill:#1f77b4;fill-opacity:0.75;stroke:#000000;stroke-linejoin:miter;stroke-width:0.108701;\"/>\r\n   </g>\r\n   <g id=\"patch_36\">\r\n    <path clip-path=\"url(#pf0ec87df2f)\" d=\"M 98.055235 224.64 \r\nL 99.142248 224.64 \r\nL 99.142248 219.147867 \r\nL 98.055235 219.147867 \r\nz\r\n\" style=\"fill:#1f77b4;fill-opacity:0.75;stroke:#000000;stroke-linejoin:miter;stroke-width:0.108701;\"/>\r\n   </g>\r\n   <g id=\"patch_37\">\r\n    <path clip-path=\"url(#pf0ec87df2f)\" d=\"M 99.142248 224.64 \r\nL 100.229261 224.64 \r\nL 100.229261 219.147867 \r\nL 99.142248 219.147867 \r\nz\r\n\" style=\"fill:#1f77b4;fill-opacity:0.75;stroke:#000000;stroke-linejoin:miter;stroke-width:0.108701;\"/>\r\n   </g>\r\n   <g id=\"patch_38\">\r\n    <path clip-path=\"url(#pf0ec87df2f)\" d=\"M 100.229261 224.64 \r\nL 101.316274 224.64 \r\nL 101.316274 220.117067 \r\nL 100.229261 220.117067 \r\nz\r\n\" style=\"fill:#1f77b4;fill-opacity:0.75;stroke:#000000;stroke-linejoin:miter;stroke-width:0.108701;\"/>\r\n   </g>\r\n   <g id=\"patch_39\">\r\n    <path clip-path=\"url(#pf0ec87df2f)\" d=\"M 101.316274 224.64 \r\nL 102.403287 224.64 \r\nL 102.403287 218.824801 \r\nL 101.316274 218.824801 \r\nz\r\n\" style=\"fill:#1f77b4;fill-opacity:0.75;stroke:#000000;stroke-linejoin:miter;stroke-width:0.108701;\"/>\r\n   </g>\r\n   <g id=\"patch_40\">\r\n    <path clip-path=\"url(#pf0ec87df2f)\" d=\"M 102.403287 224.64 \r\nL 103.4903 224.64 \r\nL 103.4903 219.147867 \r\nL 102.403287 219.147867 \r\nz\r\n\" style=\"fill:#1f77b4;fill-opacity:0.75;stroke:#000000;stroke-linejoin:miter;stroke-width:0.108701;\"/>\r\n   </g>\r\n   <g id=\"patch_41\">\r\n    <path clip-path=\"url(#pf0ec87df2f)\" d=\"M 103.4903 224.64 \r\nL 104.577313 224.64 \r\nL 104.577313 220.440134 \r\nL 103.4903 220.440134 \r\nz\r\n\" style=\"fill:#1f77b4;fill-opacity:0.75;stroke:#000000;stroke-linejoin:miter;stroke-width:0.108701;\"/>\r\n   </g>\r\n   <g id=\"patch_42\">\r\n    <path clip-path=\"url(#pf0ec87df2f)\" d=\"M 104.577313 224.64 \r\nL 105.664326 224.64 \r\nL 105.664326 221.086267 \r\nL 104.577313 221.086267 \r\nz\r\n\" style=\"fill:#1f77b4;fill-opacity:0.75;stroke:#000000;stroke-linejoin:miter;stroke-width:0.108701;\"/>\r\n   </g>\r\n   <g id=\"patch_43\">\r\n    <path clip-path=\"url(#pf0ec87df2f)\" d=\"M 105.664326 224.64 \r\nL 106.751339 224.64 \r\nL 106.751339 219.794 \r\nL 105.664326 219.794 \r\nz\r\n\" style=\"fill:#1f77b4;fill-opacity:0.75;stroke:#000000;stroke-linejoin:miter;stroke-width:0.108701;\"/>\r\n   </g>\r\n   <g id=\"patch_44\">\r\n    <path clip-path=\"url(#pf0ec87df2f)\" d=\"M 106.751339 224.64 \r\nL 107.838352 224.64 \r\nL 107.838352 221.409334 \r\nL 106.751339 221.409334 \r\nz\r\n\" style=\"fill:#1f77b4;fill-opacity:0.75;stroke:#000000;stroke-linejoin:miter;stroke-width:0.108701;\"/>\r\n   </g>\r\n   <g id=\"patch_45\">\r\n    <path clip-path=\"url(#pf0ec87df2f)\" d=\"M 107.838352 224.64 \r\nL 108.925365 224.64 \r\nL 108.925365 220.440134 \r\nL 107.838352 220.440134 \r\nz\r\n\" style=\"fill:#1f77b4;fill-opacity:0.75;stroke:#000000;stroke-linejoin:miter;stroke-width:0.108701;\"/>\r\n   </g>\r\n   <g id=\"patch_46\">\r\n    <path clip-path=\"url(#pf0ec87df2f)\" d=\"M 108.925365 224.64 \r\nL 110.012378 224.64 \r\nL 110.012378 221.7324 \r\nL 108.925365 221.7324 \r\nz\r\n\" style=\"fill:#1f77b4;fill-opacity:0.75;stroke:#000000;stroke-linejoin:miter;stroke-width:0.108701;\"/>\r\n   </g>\r\n   <g id=\"patch_47\">\r\n    <path clip-path=\"url(#pf0ec87df2f)\" d=\"M 110.012378 224.64 \r\nL 111.099391 224.64 \r\nL 111.099391 221.086267 \r\nL 110.012378 221.086267 \r\nz\r\n\" style=\"fill:#1f77b4;fill-opacity:0.75;stroke:#000000;stroke-linejoin:miter;stroke-width:0.108701;\"/>\r\n   </g>\r\n   <g id=\"patch_48\">\r\n    <path clip-path=\"url(#pf0ec87df2f)\" d=\"M 111.099391 224.64 \r\nL 112.186404 224.64 \r\nL 112.186404 223.024667 \r\nL 111.099391 223.024667 \r\nz\r\n\" style=\"fill:#1f77b4;fill-opacity:0.75;stroke:#000000;stroke-linejoin:miter;stroke-width:0.108701;\"/>\r\n   </g>\r\n   <g id=\"patch_49\">\r\n    <path clip-path=\"url(#pf0ec87df2f)\" d=\"M 112.186404 224.64 \r\nL 113.273417 224.64 \r\nL 113.273417 221.7324 \r\nL 112.186404 221.7324 \r\nz\r\n\" style=\"fill:#1f77b4;fill-opacity:0.75;stroke:#000000;stroke-linejoin:miter;stroke-width:0.108701;\"/>\r\n   </g>\r\n   <g id=\"patch_50\">\r\n    <path clip-path=\"url(#pf0ec87df2f)\" d=\"M 113.273417 224.64 \r\nL 114.36043 224.64 \r\nL 114.36043 223.024667 \r\nL 113.273417 223.024667 \r\nz\r\n\" style=\"fill:#1f77b4;fill-opacity:0.75;stroke:#000000;stroke-linejoin:miter;stroke-width:0.108701;\"/>\r\n   </g>\r\n   <g id=\"patch_51\">\r\n    <path clip-path=\"url(#pf0ec87df2f)\" d=\"M 114.36043 224.64 \r\nL 115.447443 224.64 \r\nL 115.447443 223.347733 \r\nL 114.36043 223.347733 \r\nz\r\n\" style=\"fill:#1f77b4;fill-opacity:0.75;stroke:#000000;stroke-linejoin:miter;stroke-width:0.108701;\"/>\r\n   </g>\r\n   <g id=\"patch_52\">\r\n    <path clip-path=\"url(#pf0ec87df2f)\" d=\"M 115.447443 224.64 \r\nL 116.534456 224.64 \r\nL 116.534456 222.055467 \r\nL 115.447443 222.055467 \r\nz\r\n\" style=\"fill:#1f77b4;fill-opacity:0.75;stroke:#000000;stroke-linejoin:miter;stroke-width:0.108701;\"/>\r\n   </g>\r\n   <g id=\"patch_53\">\r\n    <path clip-path=\"url(#pf0ec87df2f)\" d=\"M 116.534456 224.64 \r\nL 117.621469 224.64 \r\nL 117.621469 222.7016 \r\nL 116.534456 222.7016 \r\nz\r\n\" style=\"fill:#1f77b4;fill-opacity:0.75;stroke:#000000;stroke-linejoin:miter;stroke-width:0.108701;\"/>\r\n   </g>\r\n   <g id=\"patch_54\">\r\n    <path clip-path=\"url(#pf0ec87df2f)\" d=\"M 117.621469 224.64 \r\nL 118.708482 224.64 \r\nL 118.708482 222.7016 \r\nL 117.621469 222.7016 \r\nz\r\n\" style=\"fill:#1f77b4;fill-opacity:0.75;stroke:#000000;stroke-linejoin:miter;stroke-width:0.108701;\"/>\r\n   </g>\r\n   <g id=\"patch_55\">\r\n    <path clip-path=\"url(#pf0ec87df2f)\" d=\"M 118.708482 224.64 \r\nL 119.795495 224.64 \r\nL 119.795495 223.6708 \r\nL 118.708482 223.6708 \r\nz\r\n\" style=\"fill:#1f77b4;fill-opacity:0.75;stroke:#000000;stroke-linejoin:miter;stroke-width:0.108701;\"/>\r\n   </g>\r\n   <g id=\"patch_56\">\r\n    <path clip-path=\"url(#pf0ec87df2f)\" d=\"M 119.795495 224.64 \r\nL 120.882508 224.64 \r\nL 120.882508 223.024667 \r\nL 119.795495 223.024667 \r\nz\r\n\" style=\"fill:#1f77b4;fill-opacity:0.75;stroke:#000000;stroke-linejoin:miter;stroke-width:0.108701;\"/>\r\n   </g>\r\n   <g id=\"patch_57\">\r\n    <path clip-path=\"url(#pf0ec87df2f)\" d=\"M 120.882508 224.64 \r\nL 121.969521 224.64 \r\nL 121.969521 222.378534 \r\nL 120.882508 222.378534 \r\nz\r\n\" style=\"fill:#1f77b4;fill-opacity:0.75;stroke:#000000;stroke-linejoin:miter;stroke-width:0.108701;\"/>\r\n   </g>\r\n   <g id=\"patch_58\">\r\n    <path clip-path=\"url(#pf0ec87df2f)\" d=\"M 121.969521 224.64 \r\nL 123.056534 224.64 \r\nL 123.056534 221.7324 \r\nL 121.969521 221.7324 \r\nz\r\n\" style=\"fill:#1f77b4;fill-opacity:0.75;stroke:#000000;stroke-linejoin:miter;stroke-width:0.108701;\"/>\r\n   </g>\r\n   <g id=\"patch_59\">\r\n    <path clip-path=\"url(#pf0ec87df2f)\" d=\"M 123.056534 224.64 \r\nL 124.143547 224.64 \r\nL 124.143547 222.7016 \r\nL 123.056534 222.7016 \r\nz\r\n\" style=\"fill:#1f77b4;fill-opacity:0.75;stroke:#000000;stroke-linejoin:miter;stroke-width:0.108701;\"/>\r\n   </g>\r\n   <g id=\"patch_60\">\r\n    <path clip-path=\"url(#pf0ec87df2f)\" d=\"M 124.143547 224.64 \r\nL 125.23056 224.64 \r\nL 125.23056 223.024667 \r\nL 124.143547 223.024667 \r\nz\r\n\" style=\"fill:#1f77b4;fill-opacity:0.75;stroke:#000000;stroke-linejoin:miter;stroke-width:0.108701;\"/>\r\n   </g>\r\n   <g id=\"patch_61\">\r\n    <path clip-path=\"url(#pf0ec87df2f)\" d=\"M 125.23056 224.64 \r\nL 126.317573 224.64 \r\nL 126.317573 223.024667 \r\nL 125.23056 223.024667 \r\nz\r\n\" style=\"fill:#1f77b4;fill-opacity:0.75;stroke:#000000;stroke-linejoin:miter;stroke-width:0.108701;\"/>\r\n   </g>\r\n   <g id=\"patch_62\">\r\n    <path clip-path=\"url(#pf0ec87df2f)\" d=\"M 126.317573 224.64 \r\nL 127.404586 224.64 \r\nL 127.404586 223.993867 \r\nL 126.317573 223.993867 \r\nz\r\n\" style=\"fill:#1f77b4;fill-opacity:0.75;stroke:#000000;stroke-linejoin:miter;stroke-width:0.108701;\"/>\r\n   </g>\r\n   <g id=\"patch_63\">\r\n    <path clip-path=\"url(#pf0ec87df2f)\" d=\"M 127.404586 224.64 \r\nL 128.491599 224.64 \r\nL 128.491599 224.316933 \r\nL 127.404586 224.316933 \r\nz\r\n\" style=\"fill:#1f77b4;fill-opacity:0.75;stroke:#000000;stroke-linejoin:miter;stroke-width:0.108701;\"/>\r\n   </g>\r\n   <g id=\"patch_64\">\r\n    <path clip-path=\"url(#pf0ec87df2f)\" d=\"M 128.491599 224.64 \r\nL 129.578612 224.64 \r\nL 129.578612 224.316933 \r\nL 128.491599 224.316933 \r\nz\r\n\" style=\"fill:#1f77b4;fill-opacity:0.75;stroke:#000000;stroke-linejoin:miter;stroke-width:0.108701;\"/>\r\n   </g>\r\n   <g id=\"patch_65\">\r\n    <path clip-path=\"url(#pf0ec87df2f)\" d=\"M 129.578612 224.64 \r\nL 130.665625 224.64 \r\nL 130.665625 222.7016 \r\nL 129.578612 222.7016 \r\nz\r\n\" style=\"fill:#1f77b4;fill-opacity:0.75;stroke:#000000;stroke-linejoin:miter;stroke-width:0.108701;\"/>\r\n   </g>\r\n   <g id=\"patch_66\">\r\n    <path clip-path=\"url(#pf0ec87df2f)\" d=\"M 130.665625 224.64 \r\nL 131.752638 224.64 \r\nL 131.752638 223.347733 \r\nL 130.665625 223.347733 \r\nz\r\n\" style=\"fill:#1f77b4;fill-opacity:0.75;stroke:#000000;stroke-linejoin:miter;stroke-width:0.108701;\"/>\r\n   </g>\r\n   <g id=\"patch_67\">\r\n    <path clip-path=\"url(#pf0ec87df2f)\" d=\"M 131.752638 224.64 \r\nL 132.839651 224.64 \r\nL 132.839651 223.993867 \r\nL 131.752638 223.993867 \r\nz\r\n\" style=\"fill:#1f77b4;fill-opacity:0.75;stroke:#000000;stroke-linejoin:miter;stroke-width:0.108701;\"/>\r\n   </g>\r\n   <g id=\"patch_68\">\r\n    <path clip-path=\"url(#pf0ec87df2f)\" d=\"M 132.839651 224.64 \r\nL 133.926664 224.64 \r\nL 133.926664 223.993867 \r\nL 132.839651 223.993867 \r\nz\r\n\" style=\"fill:#1f77b4;fill-opacity:0.75;stroke:#000000;stroke-linejoin:miter;stroke-width:0.108701;\"/>\r\n   </g>\r\n   <g id=\"patch_69\">\r\n    <path clip-path=\"url(#pf0ec87df2f)\" d=\"M 133.926664 224.64 \r\nL 135.013677 224.64 \r\nL 135.013677 223.6708 \r\nL 133.926664 223.6708 \r\nz\r\n\" style=\"fill:#1f77b4;fill-opacity:0.75;stroke:#000000;stroke-linejoin:miter;stroke-width:0.108701;\"/>\r\n   </g>\r\n   <g id=\"patch_70\">\r\n    <path clip-path=\"url(#pf0ec87df2f)\" d=\"M 135.013677 224.64 \r\nL 136.10069 224.64 \r\nL 136.10069 223.993867 \r\nL 135.013677 223.993867 \r\nz\r\n\" style=\"fill:#1f77b4;fill-opacity:0.75;stroke:#000000;stroke-linejoin:miter;stroke-width:0.108701;\"/>\r\n   </g>\r\n   <g id=\"patch_71\">\r\n    <path clip-path=\"url(#pf0ec87df2f)\" d=\"M 136.10069 224.64 \r\nL 137.187703 224.64 \r\nL 137.187703 223.993867 \r\nL 136.10069 223.993867 \r\nz\r\n\" style=\"fill:#1f77b4;fill-opacity:0.75;stroke:#000000;stroke-linejoin:miter;stroke-width:0.108701;\"/>\r\n   </g>\r\n   <g id=\"patch_72\">\r\n    <path clip-path=\"url(#pf0ec87df2f)\" d=\"M 137.187703 224.64 \r\nL 138.274716 224.64 \r\nL 138.274716 223.6708 \r\nL 137.187703 223.6708 \r\nz\r\n\" style=\"fill:#1f77b4;fill-opacity:0.75;stroke:#000000;stroke-linejoin:miter;stroke-width:0.108701;\"/>\r\n   </g>\r\n   <g id=\"patch_73\">\r\n    <path clip-path=\"url(#pf0ec87df2f)\" d=\"M 138.274716 224.64 \r\nL 139.361729 224.64 \r\nL 139.361729 224.316933 \r\nL 138.274716 224.316933 \r\nz\r\n\" style=\"fill:#1f77b4;fill-opacity:0.75;stroke:#000000;stroke-linejoin:miter;stroke-width:0.108701;\"/>\r\n   </g>\r\n   <g id=\"patch_74\">\r\n    <path clip-path=\"url(#pf0ec87df2f)\" d=\"M 139.361729 224.64 \r\nL 140.448742 224.64 \r\nL 140.448742 224.64 \r\nL 139.361729 224.64 \r\nz\r\n\" style=\"fill:#1f77b4;fill-opacity:0.75;stroke:#000000;stroke-linejoin:miter;stroke-width:0.108701;\"/>\r\n   </g>\r\n   <g id=\"patch_75\">\r\n    <path clip-path=\"url(#pf0ec87df2f)\" d=\"M 140.448742 224.64 \r\nL 141.535755 224.64 \r\nL 141.535755 224.64 \r\nL 140.448742 224.64 \r\nz\r\n\" style=\"fill:#1f77b4;fill-opacity:0.75;stroke:#000000;stroke-linejoin:miter;stroke-width:0.108701;\"/>\r\n   </g>\r\n   <g id=\"patch_76\">\r\n    <path clip-path=\"url(#pf0ec87df2f)\" d=\"M 141.535755 224.64 \r\nL 142.622768 224.64 \r\nL 142.622768 223.993867 \r\nL 141.535755 223.993867 \r\nz\r\n\" style=\"fill:#1f77b4;fill-opacity:0.75;stroke:#000000;stroke-linejoin:miter;stroke-width:0.108701;\"/>\r\n   </g>\r\n   <g id=\"patch_77\">\r\n    <path clip-path=\"url(#pf0ec87df2f)\" d=\"M 142.622768 224.64 \r\nL 143.709781 224.64 \r\nL 143.709781 223.993867 \r\nL 142.622768 223.993867 \r\nz\r\n\" style=\"fill:#1f77b4;fill-opacity:0.75;stroke:#000000;stroke-linejoin:miter;stroke-width:0.108701;\"/>\r\n   </g>\r\n   <g id=\"patch_78\">\r\n    <path clip-path=\"url(#pf0ec87df2f)\" d=\"M 143.709781 224.64 \r\nL 144.796794 224.64 \r\nL 144.796794 223.347733 \r\nL 143.709781 223.347733 \r\nz\r\n\" style=\"fill:#1f77b4;fill-opacity:0.75;stroke:#000000;stroke-linejoin:miter;stroke-width:0.108701;\"/>\r\n   </g>\r\n   <g id=\"patch_79\">\r\n    <path clip-path=\"url(#pf0ec87df2f)\" d=\"M 144.796794 224.64 \r\nL 145.883807 224.64 \r\nL 145.883807 223.993867 \r\nL 144.796794 223.993867 \r\nz\r\n\" style=\"fill:#1f77b4;fill-opacity:0.75;stroke:#000000;stroke-linejoin:miter;stroke-width:0.108701;\"/>\r\n   </g>\r\n   <g id=\"patch_80\">\r\n    <path clip-path=\"url(#pf0ec87df2f)\" d=\"M 145.883807 224.64 \r\nL 146.97082 224.64 \r\nL 146.97082 223.993867 \r\nL 145.883807 223.993867 \r\nz\r\n\" style=\"fill:#1f77b4;fill-opacity:0.75;stroke:#000000;stroke-linejoin:miter;stroke-width:0.108701;\"/>\r\n   </g>\r\n   <g id=\"patch_81\">\r\n    <path clip-path=\"url(#pf0ec87df2f)\" d=\"M 146.97082 224.64 \r\nL 148.057833 224.64 \r\nL 148.057833 224.316933 \r\nL 146.97082 224.316933 \r\nz\r\n\" style=\"fill:#1f77b4;fill-opacity:0.75;stroke:#000000;stroke-linejoin:miter;stroke-width:0.108701;\"/>\r\n   </g>\r\n   <g id=\"patch_82\">\r\n    <path clip-path=\"url(#pf0ec87df2f)\" d=\"M 148.057833 224.64 \r\nL 149.144846 224.64 \r\nL 149.144846 224.316933 \r\nL 148.057833 224.316933 \r\nz\r\n\" style=\"fill:#1f77b4;fill-opacity:0.75;stroke:#000000;stroke-linejoin:miter;stroke-width:0.108701;\"/>\r\n   </g>\r\n   <g id=\"patch_83\">\r\n    <path clip-path=\"url(#pf0ec87df2f)\" d=\"M 149.144846 224.64 \r\nL 150.231859 224.64 \r\nL 150.231859 223.993867 \r\nL 149.144846 223.993867 \r\nz\r\n\" style=\"fill:#1f77b4;fill-opacity:0.75;stroke:#000000;stroke-linejoin:miter;stroke-width:0.108701;\"/>\r\n   </g>\r\n   <g id=\"patch_84\">\r\n    <path clip-path=\"url(#pf0ec87df2f)\" d=\"M 150.231859 224.64 \r\nL 151.318872 224.64 \r\nL 151.318872 223.993867 \r\nL 150.231859 223.993867 \r\nz\r\n\" style=\"fill:#1f77b4;fill-opacity:0.75;stroke:#000000;stroke-linejoin:miter;stroke-width:0.108701;\"/>\r\n   </g>\r\n   <g id=\"patch_85\">\r\n    <path clip-path=\"url(#pf0ec87df2f)\" d=\"M 151.318872 224.64 \r\nL 152.405885 224.64 \r\nL 152.405885 224.316933 \r\nL 151.318872 224.316933 \r\nz\r\n\" style=\"fill:#1f77b4;fill-opacity:0.75;stroke:#000000;stroke-linejoin:miter;stroke-width:0.108701;\"/>\r\n   </g>\r\n   <g id=\"patch_86\">\r\n    <path clip-path=\"url(#pf0ec87df2f)\" d=\"M 152.405885 224.64 \r\nL 153.492898 224.64 \r\nL 153.492898 224.316933 \r\nL 152.405885 224.316933 \r\nz\r\n\" style=\"fill:#1f77b4;fill-opacity:0.75;stroke:#000000;stroke-linejoin:miter;stroke-width:0.108701;\"/>\r\n   </g>\r\n   <g id=\"patch_87\">\r\n    <path clip-path=\"url(#pf0ec87df2f)\" d=\"M 153.492898 224.64 \r\nL 154.579911 224.64 \r\nL 154.579911 223.6708 \r\nL 153.492898 223.6708 \r\nz\r\n\" style=\"fill:#1f77b4;fill-opacity:0.75;stroke:#000000;stroke-linejoin:miter;stroke-width:0.108701;\"/>\r\n   </g>\r\n   <g id=\"patch_88\">\r\n    <path clip-path=\"url(#pf0ec87df2f)\" d=\"M 154.579911 224.64 \r\nL 155.666924 224.64 \r\nL 155.666924 224.316933 \r\nL 154.579911 224.316933 \r\nz\r\n\" style=\"fill:#1f77b4;fill-opacity:0.75;stroke:#000000;stroke-linejoin:miter;stroke-width:0.108701;\"/>\r\n   </g>\r\n   <g id=\"patch_89\">\r\n    <path clip-path=\"url(#pf0ec87df2f)\" d=\"M 155.666924 224.64 \r\nL 156.753937 224.64 \r\nL 156.753937 223.993867 \r\nL 155.666924 223.993867 \r\nz\r\n\" style=\"fill:#1f77b4;fill-opacity:0.75;stroke:#000000;stroke-linejoin:miter;stroke-width:0.108701;\"/>\r\n   </g>\r\n   <g id=\"patch_90\">\r\n    <path clip-path=\"url(#pf0ec87df2f)\" d=\"M 156.753937 224.64 \r\nL 157.84095 224.64 \r\nL 157.84095 224.316933 \r\nL 156.753937 224.316933 \r\nz\r\n\" style=\"fill:#1f77b4;fill-opacity:0.75;stroke:#000000;stroke-linejoin:miter;stroke-width:0.108701;\"/>\r\n   </g>\r\n   <g id=\"patch_91\">\r\n    <path clip-path=\"url(#pf0ec87df2f)\" d=\"M 157.84095 224.64 \r\nL 158.927963 224.64 \r\nL 158.927963 224.64 \r\nL 157.84095 224.64 \r\nz\r\n\" style=\"fill:#1f77b4;fill-opacity:0.75;stroke:#000000;stroke-linejoin:miter;stroke-width:0.108701;\"/>\r\n   </g>\r\n   <g id=\"patch_92\">\r\n    <path clip-path=\"url(#pf0ec87df2f)\" d=\"M 158.927963 224.64 \r\nL 160.014976 224.64 \r\nL 160.014976 224.64 \r\nL 158.927963 224.64 \r\nz\r\n\" style=\"fill:#1f77b4;fill-opacity:0.75;stroke:#000000;stroke-linejoin:miter;stroke-width:0.108701;\"/>\r\n   </g>\r\n   <g id=\"patch_93\">\r\n    <path clip-path=\"url(#pf0ec87df2f)\" d=\"M 160.014976 224.64 \r\nL 161.101989 224.64 \r\nL 161.101989 224.316933 \r\nL 160.014976 224.316933 \r\nz\r\n\" style=\"fill:#1f77b4;fill-opacity:0.75;stroke:#000000;stroke-linejoin:miter;stroke-width:0.108701;\"/>\r\n   </g>\r\n   <g id=\"patch_94\">\r\n    <path clip-path=\"url(#pf0ec87df2f)\" d=\"M 161.101989 224.64 \r\nL 162.189002 224.64 \r\nL 162.189002 224.64 \r\nL 161.101989 224.64 \r\nz\r\n\" style=\"fill:#1f77b4;fill-opacity:0.75;stroke:#000000;stroke-linejoin:miter;stroke-width:0.108701;\"/>\r\n   </g>\r\n   <g id=\"patch_95\">\r\n    <path clip-path=\"url(#pf0ec87df2f)\" d=\"M 162.189002 224.64 \r\nL 163.276015 224.64 \r\nL 163.276015 223.993867 \r\nL 162.189002 223.993867 \r\nz\r\n\" style=\"fill:#1f77b4;fill-opacity:0.75;stroke:#000000;stroke-linejoin:miter;stroke-width:0.108701;\"/>\r\n   </g>\r\n   <g id=\"patch_96\">\r\n    <path clip-path=\"url(#pf0ec87df2f)\" d=\"M 163.276015 224.64 \r\nL 164.363028 224.64 \r\nL 164.363028 223.993867 \r\nL 163.276015 223.993867 \r\nz\r\n\" style=\"fill:#1f77b4;fill-opacity:0.75;stroke:#000000;stroke-linejoin:miter;stroke-width:0.108701;\"/>\r\n   </g>\r\n   <g id=\"patch_97\">\r\n    <path clip-path=\"url(#pf0ec87df2f)\" d=\"M 164.363028 224.64 \r\nL 165.450041 224.64 \r\nL 165.450041 223.6708 \r\nL 164.363028 223.6708 \r\nz\r\n\" style=\"fill:#1f77b4;fill-opacity:0.75;stroke:#000000;stroke-linejoin:miter;stroke-width:0.108701;\"/>\r\n   </g>\r\n   <g id=\"patch_98\">\r\n    <path clip-path=\"url(#pf0ec87df2f)\" d=\"M 165.450041 224.64 \r\nL 166.537054 224.64 \r\nL 166.537054 224.316933 \r\nL 165.450041 224.316933 \r\nz\r\n\" style=\"fill:#1f77b4;fill-opacity:0.75;stroke:#000000;stroke-linejoin:miter;stroke-width:0.108701;\"/>\r\n   </g>\r\n   <g id=\"patch_99\">\r\n    <path clip-path=\"url(#pf0ec87df2f)\" d=\"M 166.537054 224.64 \r\nL 167.624067 224.64 \r\nL 167.624067 224.64 \r\nL 166.537054 224.64 \r\nz\r\n\" style=\"fill:#1f77b4;fill-opacity:0.75;stroke:#000000;stroke-linejoin:miter;stroke-width:0.108701;\"/>\r\n   </g>\r\n   <g id=\"patch_100\">\r\n    <path clip-path=\"url(#pf0ec87df2f)\" d=\"M 167.624067 224.64 \r\nL 168.71108 224.64 \r\nL 168.71108 224.64 \r\nL 167.624067 224.64 \r\nz\r\n\" style=\"fill:#1f77b4;fill-opacity:0.75;stroke:#000000;stroke-linejoin:miter;stroke-width:0.108701;\"/>\r\n   </g>\r\n   <g id=\"patch_101\">\r\n    <path clip-path=\"url(#pf0ec87df2f)\" d=\"M 168.71108 224.64 \r\nL 169.798093 224.64 \r\nL 169.798093 224.64 \r\nL 168.71108 224.64 \r\nz\r\n\" style=\"fill:#1f77b4;fill-opacity:0.75;stroke:#000000;stroke-linejoin:miter;stroke-width:0.108701;\"/>\r\n   </g>\r\n   <g id=\"patch_102\">\r\n    <path clip-path=\"url(#pf0ec87df2f)\" d=\"M 169.798093 224.64 \r\nL 170.885106 224.64 \r\nL 170.885106 224.64 \r\nL 169.798093 224.64 \r\nz\r\n\" style=\"fill:#1f77b4;fill-opacity:0.75;stroke:#000000;stroke-linejoin:miter;stroke-width:0.108701;\"/>\r\n   </g>\r\n   <g id=\"patch_103\">\r\n    <path clip-path=\"url(#pf0ec87df2f)\" d=\"M 170.885106 224.64 \r\nL 171.972119 224.64 \r\nL 171.972119 224.64 \r\nL 170.885106 224.64 \r\nz\r\n\" style=\"fill:#1f77b4;fill-opacity:0.75;stroke:#000000;stroke-linejoin:miter;stroke-width:0.108701;\"/>\r\n   </g>\r\n   <g id=\"patch_104\">\r\n    <path clip-path=\"url(#pf0ec87df2f)\" d=\"M 171.972119 224.64 \r\nL 173.059131 224.64 \r\nL 173.059131 224.64 \r\nL 171.972119 224.64 \r\nz\r\n\" style=\"fill:#1f77b4;fill-opacity:0.75;stroke:#000000;stroke-linejoin:miter;stroke-width:0.108701;\"/>\r\n   </g>\r\n   <g id=\"patch_105\">\r\n    <path clip-path=\"url(#pf0ec87df2f)\" d=\"M 173.059131 224.64 \r\nL 174.146144 224.64 \r\nL 174.146144 224.64 \r\nL 173.059131 224.64 \r\nz\r\n\" style=\"fill:#1f77b4;fill-opacity:0.75;stroke:#000000;stroke-linejoin:miter;stroke-width:0.108701;\"/>\r\n   </g>\r\n   <g id=\"patch_106\">\r\n    <path clip-path=\"url(#pf0ec87df2f)\" d=\"M 174.146144 224.64 \r\nL 175.233157 224.64 \r\nL 175.233157 224.64 \r\nL 174.146144 224.64 \r\nz\r\n\" style=\"fill:#1f77b4;fill-opacity:0.75;stroke:#000000;stroke-linejoin:miter;stroke-width:0.108701;\"/>\r\n   </g>\r\n   <g id=\"patch_107\">\r\n    <path clip-path=\"url(#pf0ec87df2f)\" d=\"M 175.233157 224.64 \r\nL 176.32017 224.64 \r\nL 176.32017 224.64 \r\nL 175.233157 224.64 \r\nz\r\n\" style=\"fill:#1f77b4;fill-opacity:0.75;stroke:#000000;stroke-linejoin:miter;stroke-width:0.108701;\"/>\r\n   </g>\r\n   <g id=\"patch_108\">\r\n    <path clip-path=\"url(#pf0ec87df2f)\" d=\"M 176.32017 224.64 \r\nL 177.407183 224.64 \r\nL 177.407183 224.64 \r\nL 176.32017 224.64 \r\nz\r\n\" style=\"fill:#1f77b4;fill-opacity:0.75;stroke:#000000;stroke-linejoin:miter;stroke-width:0.108701;\"/>\r\n   </g>\r\n   <g id=\"patch_109\">\r\n    <path clip-path=\"url(#pf0ec87df2f)\" d=\"M 177.407183 224.64 \r\nL 178.494196 224.64 \r\nL 178.494196 224.64 \r\nL 177.407183 224.64 \r\nz\r\n\" style=\"fill:#1f77b4;fill-opacity:0.75;stroke:#000000;stroke-linejoin:miter;stroke-width:0.108701;\"/>\r\n   </g>\r\n   <g id=\"patch_110\">\r\n    <path clip-path=\"url(#pf0ec87df2f)\" d=\"M 178.494196 224.64 \r\nL 179.581209 224.64 \r\nL 179.581209 224.64 \r\nL 178.494196 224.64 \r\nz\r\n\" style=\"fill:#1f77b4;fill-opacity:0.75;stroke:#000000;stroke-linejoin:miter;stroke-width:0.108701;\"/>\r\n   </g>\r\n   <g id=\"patch_111\">\r\n    <path clip-path=\"url(#pf0ec87df2f)\" d=\"M 179.581209 224.64 \r\nL 180.668222 224.64 \r\nL 180.668222 224.316933 \r\nL 179.581209 224.316933 \r\nz\r\n\" style=\"fill:#1f77b4;fill-opacity:0.75;stroke:#000000;stroke-linejoin:miter;stroke-width:0.108701;\"/>\r\n   </g>\r\n   <g id=\"patch_112\">\r\n    <path clip-path=\"url(#pf0ec87df2f)\" d=\"M 180.668222 224.64 \r\nL 181.755235 224.64 \r\nL 181.755235 224.64 \r\nL 180.668222 224.64 \r\nz\r\n\" style=\"fill:#1f77b4;fill-opacity:0.75;stroke:#000000;stroke-linejoin:miter;stroke-width:0.108701;\"/>\r\n   </g>\r\n   <g id=\"patch_113\">\r\n    <path clip-path=\"url(#pf0ec87df2f)\" d=\"M 181.755235 224.64 \r\nL 182.842248 224.64 \r\nL 182.842248 223.993867 \r\nL 181.755235 223.993867 \r\nz\r\n\" style=\"fill:#1f77b4;fill-opacity:0.75;stroke:#000000;stroke-linejoin:miter;stroke-width:0.108701;\"/>\r\n   </g>\r\n   <g id=\"patch_114\">\r\n    <path clip-path=\"url(#pf0ec87df2f)\" d=\"M 182.842248 224.64 \r\nL 183.929261 224.64 \r\nL 183.929261 224.64 \r\nL 182.842248 224.64 \r\nz\r\n\" style=\"fill:#1f77b4;fill-opacity:0.75;stroke:#000000;stroke-linejoin:miter;stroke-width:0.108701;\"/>\r\n   </g>\r\n   <g id=\"patch_115\">\r\n    <path clip-path=\"url(#pf0ec87df2f)\" d=\"M 183.929261 224.64 \r\nL 185.016274 224.64 \r\nL 185.016274 224.64 \r\nL 183.929261 224.64 \r\nz\r\n\" style=\"fill:#1f77b4;fill-opacity:0.75;stroke:#000000;stroke-linejoin:miter;stroke-width:0.108701;\"/>\r\n   </g>\r\n   <g id=\"patch_116\">\r\n    <path clip-path=\"url(#pf0ec87df2f)\" d=\"M 185.016274 224.64 \r\nL 186.103287 224.64 \r\nL 186.103287 224.64 \r\nL 185.016274 224.64 \r\nz\r\n\" style=\"fill:#1f77b4;fill-opacity:0.75;stroke:#000000;stroke-linejoin:miter;stroke-width:0.108701;\"/>\r\n   </g>\r\n   <g id=\"patch_117\">\r\n    <path clip-path=\"url(#pf0ec87df2f)\" d=\"M 186.103287 224.64 \r\nL 187.1903 224.64 \r\nL 187.1903 224.64 \r\nL 186.103287 224.64 \r\nz\r\n\" style=\"fill:#1f77b4;fill-opacity:0.75;stroke:#000000;stroke-linejoin:miter;stroke-width:0.108701;\"/>\r\n   </g>\r\n   <g id=\"patch_118\">\r\n    <path clip-path=\"url(#pf0ec87df2f)\" d=\"M 187.1903 224.64 \r\nL 188.277313 224.64 \r\nL 188.277313 224.64 \r\nL 187.1903 224.64 \r\nz\r\n\" style=\"fill:#1f77b4;fill-opacity:0.75;stroke:#000000;stroke-linejoin:miter;stroke-width:0.108701;\"/>\r\n   </g>\r\n   <g id=\"patch_119\">\r\n    <path clip-path=\"url(#pf0ec87df2f)\" d=\"M 188.277313 224.64 \r\nL 189.364326 224.64 \r\nL 189.364326 224.64 \r\nL 188.277313 224.64 \r\nz\r\n\" style=\"fill:#1f77b4;fill-opacity:0.75;stroke:#000000;stroke-linejoin:miter;stroke-width:0.108701;\"/>\r\n   </g>\r\n   <g id=\"patch_120\">\r\n    <path clip-path=\"url(#pf0ec87df2f)\" d=\"M 189.364326 224.64 \r\nL 190.451339 224.64 \r\nL 190.451339 224.64 \r\nL 189.364326 224.64 \r\nz\r\n\" style=\"fill:#1f77b4;fill-opacity:0.75;stroke:#000000;stroke-linejoin:miter;stroke-width:0.108701;\"/>\r\n   </g>\r\n   <g id=\"patch_121\">\r\n    <path clip-path=\"url(#pf0ec87df2f)\" d=\"M 190.451339 224.64 \r\nL 191.538352 224.64 \r\nL 191.538352 224.64 \r\nL 190.451339 224.64 \r\nz\r\n\" style=\"fill:#1f77b4;fill-opacity:0.75;stroke:#000000;stroke-linejoin:miter;stroke-width:0.108701;\"/>\r\n   </g>\r\n   <g id=\"patch_122\">\r\n    <path clip-path=\"url(#pf0ec87df2f)\" d=\"M 191.538352 224.64 \r\nL 192.625365 224.64 \r\nL 192.625365 224.64 \r\nL 191.538352 224.64 \r\nz\r\n\" style=\"fill:#1f77b4;fill-opacity:0.75;stroke:#000000;stroke-linejoin:miter;stroke-width:0.108701;\"/>\r\n   </g>\r\n   <g id=\"patch_123\">\r\n    <path clip-path=\"url(#pf0ec87df2f)\" d=\"M 192.625365 224.64 \r\nL 193.712378 224.64 \r\nL 193.712378 224.64 \r\nL 192.625365 224.64 \r\nz\r\n\" style=\"fill:#1f77b4;fill-opacity:0.75;stroke:#000000;stroke-linejoin:miter;stroke-width:0.108701;\"/>\r\n   </g>\r\n   <g id=\"patch_124\">\r\n    <path clip-path=\"url(#pf0ec87df2f)\" d=\"M 193.712378 224.64 \r\nL 194.799391 224.64 \r\nL 194.799391 224.64 \r\nL 193.712378 224.64 \r\nz\r\n\" style=\"fill:#1f77b4;fill-opacity:0.75;stroke:#000000;stroke-linejoin:miter;stroke-width:0.108701;\"/>\r\n   </g>\r\n   <g id=\"patch_125\">\r\n    <path clip-path=\"url(#pf0ec87df2f)\" d=\"M 194.799391 224.64 \r\nL 195.886404 224.64 \r\nL 195.886404 224.64 \r\nL 194.799391 224.64 \r\nz\r\n\" style=\"fill:#1f77b4;fill-opacity:0.75;stroke:#000000;stroke-linejoin:miter;stroke-width:0.108701;\"/>\r\n   </g>\r\n   <g id=\"patch_126\">\r\n    <path clip-path=\"url(#pf0ec87df2f)\" d=\"M 195.886404 224.64 \r\nL 196.973417 224.64 \r\nL 196.973417 224.64 \r\nL 195.886404 224.64 \r\nz\r\n\" style=\"fill:#1f77b4;fill-opacity:0.75;stroke:#000000;stroke-linejoin:miter;stroke-width:0.108701;\"/>\r\n   </g>\r\n   <g id=\"patch_127\">\r\n    <path clip-path=\"url(#pf0ec87df2f)\" d=\"M 196.973417 224.64 \r\nL 198.06043 224.64 \r\nL 198.06043 224.64 \r\nL 196.973417 224.64 \r\nz\r\n\" style=\"fill:#1f77b4;fill-opacity:0.75;stroke:#000000;stroke-linejoin:miter;stroke-width:0.108701;\"/>\r\n   </g>\r\n   <g id=\"patch_128\">\r\n    <path clip-path=\"url(#pf0ec87df2f)\" d=\"M 198.06043 224.64 \r\nL 199.147443 224.64 \r\nL 199.147443 224.64 \r\nL 198.06043 224.64 \r\nz\r\n\" style=\"fill:#1f77b4;fill-opacity:0.75;stroke:#000000;stroke-linejoin:miter;stroke-width:0.108701;\"/>\r\n   </g>\r\n   <g id=\"patch_129\">\r\n    <path clip-path=\"url(#pf0ec87df2f)\" d=\"M 199.147443 224.64 \r\nL 200.234456 224.64 \r\nL 200.234456 224.64 \r\nL 199.147443 224.64 \r\nz\r\n\" style=\"fill:#1f77b4;fill-opacity:0.75;stroke:#000000;stroke-linejoin:miter;stroke-width:0.108701;\"/>\r\n   </g>\r\n   <g id=\"patch_130\">\r\n    <path clip-path=\"url(#pf0ec87df2f)\" d=\"M 200.234456 224.64 \r\nL 201.321469 224.64 \r\nL 201.321469 224.64 \r\nL 200.234456 224.64 \r\nz\r\n\" style=\"fill:#1f77b4;fill-opacity:0.75;stroke:#000000;stroke-linejoin:miter;stroke-width:0.108701;\"/>\r\n   </g>\r\n   <g id=\"patch_131\">\r\n    <path clip-path=\"url(#pf0ec87df2f)\" d=\"M 201.321469 224.64 \r\nL 202.408482 224.64 \r\nL 202.408482 224.316933 \r\nL 201.321469 224.316933 \r\nz\r\n\" style=\"fill:#1f77b4;fill-opacity:0.75;stroke:#000000;stroke-linejoin:miter;stroke-width:0.108701;\"/>\r\n   </g>\r\n   <g id=\"patch_132\">\r\n    <path clip-path=\"url(#pf0ec87df2f)\" d=\"M 202.408482 224.64 \r\nL 203.495495 224.64 \r\nL 203.495495 224.64 \r\nL 202.408482 224.64 \r\nz\r\n\" style=\"fill:#1f77b4;fill-opacity:0.75;stroke:#000000;stroke-linejoin:miter;stroke-width:0.108701;\"/>\r\n   </g>\r\n   <g id=\"patch_133\">\r\n    <path clip-path=\"url(#pf0ec87df2f)\" d=\"M 203.495495 224.64 \r\nL 204.582508 224.64 \r\nL 204.582508 224.64 \r\nL 203.495495 224.64 \r\nz\r\n\" style=\"fill:#1f77b4;fill-opacity:0.75;stroke:#000000;stroke-linejoin:miter;stroke-width:0.108701;\"/>\r\n   </g>\r\n   <g id=\"patch_134\">\r\n    <path clip-path=\"url(#pf0ec87df2f)\" d=\"M 204.582508 224.64 \r\nL 205.669521 224.64 \r\nL 205.669521 224.64 \r\nL 204.582508 224.64 \r\nz\r\n\" style=\"fill:#1f77b4;fill-opacity:0.75;stroke:#000000;stroke-linejoin:miter;stroke-width:0.108701;\"/>\r\n   </g>\r\n   <g id=\"patch_135\">\r\n    <path clip-path=\"url(#pf0ec87df2f)\" d=\"M 205.669521 224.64 \r\nL 206.756534 224.64 \r\nL 206.756534 224.64 \r\nL 205.669521 224.64 \r\nz\r\n\" style=\"fill:#1f77b4;fill-opacity:0.75;stroke:#000000;stroke-linejoin:miter;stroke-width:0.108701;\"/>\r\n   </g>\r\n   <g id=\"patch_136\">\r\n    <path clip-path=\"url(#pf0ec87df2f)\" d=\"M 206.756534 224.64 \r\nL 207.843547 224.64 \r\nL 207.843547 224.64 \r\nL 206.756534 224.64 \r\nz\r\n\" style=\"fill:#1f77b4;fill-opacity:0.75;stroke:#000000;stroke-linejoin:miter;stroke-width:0.108701;\"/>\r\n   </g>\r\n   <g id=\"patch_137\">\r\n    <path clip-path=\"url(#pf0ec87df2f)\" d=\"M 207.843547 224.64 \r\nL 208.93056 224.64 \r\nL 208.93056 224.64 \r\nL 207.843547 224.64 \r\nz\r\n\" style=\"fill:#1f77b4;fill-opacity:0.75;stroke:#000000;stroke-linejoin:miter;stroke-width:0.108701;\"/>\r\n   </g>\r\n   <g id=\"patch_138\">\r\n    <path clip-path=\"url(#pf0ec87df2f)\" d=\"M 208.93056 224.64 \r\nL 210.017573 224.64 \r\nL 210.017573 224.64 \r\nL 208.93056 224.64 \r\nz\r\n\" style=\"fill:#1f77b4;fill-opacity:0.75;stroke:#000000;stroke-linejoin:miter;stroke-width:0.108701;\"/>\r\n   </g>\r\n   <g id=\"patch_139\">\r\n    <path clip-path=\"url(#pf0ec87df2f)\" d=\"M 210.017573 224.64 \r\nL 211.104586 224.64 \r\nL 211.104586 224.316933 \r\nL 210.017573 224.316933 \r\nz\r\n\" style=\"fill:#1f77b4;fill-opacity:0.75;stroke:#000000;stroke-linejoin:miter;stroke-width:0.108701;\"/>\r\n   </g>\r\n   <g id=\"patch_140\">\r\n    <path clip-path=\"url(#pf0ec87df2f)\" d=\"M 211.104586 224.64 \r\nL 212.191599 224.64 \r\nL 212.191599 224.64 \r\nL 211.104586 224.64 \r\nz\r\n\" style=\"fill:#1f77b4;fill-opacity:0.75;stroke:#000000;stroke-linejoin:miter;stroke-width:0.108701;\"/>\r\n   </g>\r\n   <g id=\"patch_141\">\r\n    <path clip-path=\"url(#pf0ec87df2f)\" d=\"M 212.191599 224.64 \r\nL 213.278612 224.64 \r\nL 213.278612 224.64 \r\nL 212.191599 224.64 \r\nz\r\n\" style=\"fill:#1f77b4;fill-opacity:0.75;stroke:#000000;stroke-linejoin:miter;stroke-width:0.108701;\"/>\r\n   </g>\r\n   <g id=\"patch_142\">\r\n    <path clip-path=\"url(#pf0ec87df2f)\" d=\"M 213.278612 224.64 \r\nL 214.365625 224.64 \r\nL 214.365625 224.64 \r\nL 213.278612 224.64 \r\nz\r\n\" style=\"fill:#1f77b4;fill-opacity:0.75;stroke:#000000;stroke-linejoin:miter;stroke-width:0.108701;\"/>\r\n   </g>\r\n   <g id=\"patch_143\">\r\n    <path clip-path=\"url(#pf0ec87df2f)\" d=\"M 214.365625 224.64 \r\nL 215.452638 224.64 \r\nL 215.452638 224.316933 \r\nL 214.365625 224.316933 \r\nz\r\n\" style=\"fill:#1f77b4;fill-opacity:0.75;stroke:#000000;stroke-linejoin:miter;stroke-width:0.108701;\"/>\r\n   </g>\r\n   <g id=\"patch_144\">\r\n    <path clip-path=\"url(#pf0ec87df2f)\" d=\"M 215.452638 224.64 \r\nL 216.539651 224.64 \r\nL 216.539651 224.64 \r\nL 215.452638 224.64 \r\nz\r\n\" style=\"fill:#1f77b4;fill-opacity:0.75;stroke:#000000;stroke-linejoin:miter;stroke-width:0.108701;\"/>\r\n   </g>\r\n   <g id=\"patch_145\">\r\n    <path clip-path=\"url(#pf0ec87df2f)\" d=\"M 216.539651 224.64 \r\nL 217.626664 224.64 \r\nL 217.626664 224.316933 \r\nL 216.539651 224.316933 \r\nz\r\n\" style=\"fill:#1f77b4;fill-opacity:0.75;stroke:#000000;stroke-linejoin:miter;stroke-width:0.108701;\"/>\r\n   </g>\r\n   <g id=\"patch_146\">\r\n    <path clip-path=\"url(#pf0ec87df2f)\" d=\"M 217.626664 224.64 \r\nL 218.713677 224.64 \r\nL 218.713677 224.64 \r\nL 217.626664 224.64 \r\nz\r\n\" style=\"fill:#1f77b4;fill-opacity:0.75;stroke:#000000;stroke-linejoin:miter;stroke-width:0.108701;\"/>\r\n   </g>\r\n   <g id=\"patch_147\">\r\n    <path clip-path=\"url(#pf0ec87df2f)\" d=\"M 218.713677 224.64 \r\nL 219.80069 224.64 \r\nL 219.80069 224.64 \r\nL 218.713677 224.64 \r\nz\r\n\" style=\"fill:#1f77b4;fill-opacity:0.75;stroke:#000000;stroke-linejoin:miter;stroke-width:0.108701;\"/>\r\n   </g>\r\n   <g id=\"patch_148\">\r\n    <path clip-path=\"url(#pf0ec87df2f)\" d=\"M 219.80069 224.64 \r\nL 220.887703 224.64 \r\nL 220.887703 224.64 \r\nL 219.80069 224.64 \r\nz\r\n\" style=\"fill:#1f77b4;fill-opacity:0.75;stroke:#000000;stroke-linejoin:miter;stroke-width:0.108701;\"/>\r\n   </g>\r\n   <g id=\"patch_149\">\r\n    <path clip-path=\"url(#pf0ec87df2f)\" d=\"M 220.887703 224.64 \r\nL 221.974716 224.64 \r\nL 221.974716 224.64 \r\nL 220.887703 224.64 \r\nz\r\n\" style=\"fill:#1f77b4;fill-opacity:0.75;stroke:#000000;stroke-linejoin:miter;stroke-width:0.108701;\"/>\r\n   </g>\r\n   <g id=\"patch_150\">\r\n    <path clip-path=\"url(#pf0ec87df2f)\" d=\"M 221.974716 224.64 \r\nL 223.061729 224.64 \r\nL 223.061729 224.64 \r\nL 221.974716 224.64 \r\nz\r\n\" style=\"fill:#1f77b4;fill-opacity:0.75;stroke:#000000;stroke-linejoin:miter;stroke-width:0.108701;\"/>\r\n   </g>\r\n   <g id=\"patch_151\">\r\n    <path clip-path=\"url(#pf0ec87df2f)\" d=\"M 223.061729 224.64 \r\nL 224.148742 224.64 \r\nL 224.148742 224.64 \r\nL 223.061729 224.64 \r\nz\r\n\" style=\"fill:#1f77b4;fill-opacity:0.75;stroke:#000000;stroke-linejoin:miter;stroke-width:0.108701;\"/>\r\n   </g>\r\n   <g id=\"patch_152\">\r\n    <path clip-path=\"url(#pf0ec87df2f)\" d=\"M 224.148742 224.64 \r\nL 225.235755 224.64 \r\nL 225.235755 224.64 \r\nL 224.148742 224.64 \r\nz\r\n\" style=\"fill:#1f77b4;fill-opacity:0.75;stroke:#000000;stroke-linejoin:miter;stroke-width:0.108701;\"/>\r\n   </g>\r\n   <g id=\"patch_153\">\r\n    <path clip-path=\"url(#pf0ec87df2f)\" d=\"M 225.235755 224.64 \r\nL 226.322768 224.64 \r\nL 226.322768 224.316933 \r\nL 225.235755 224.316933 \r\nz\r\n\" style=\"fill:#1f77b4;fill-opacity:0.75;stroke:#000000;stroke-linejoin:miter;stroke-width:0.108701;\"/>\r\n   </g>\r\n   <g id=\"patch_154\">\r\n    <path clip-path=\"url(#pf0ec87df2f)\" d=\"M 226.322768 224.64 \r\nL 227.409781 224.64 \r\nL 227.409781 224.64 \r\nL 226.322768 224.64 \r\nz\r\n\" style=\"fill:#1f77b4;fill-opacity:0.75;stroke:#000000;stroke-linejoin:miter;stroke-width:0.108701;\"/>\r\n   </g>\r\n   <g id=\"patch_155\">\r\n    <path clip-path=\"url(#pf0ec87df2f)\" d=\"M 227.409781 224.64 \r\nL 228.496794 224.64 \r\nL 228.496794 224.64 \r\nL 227.409781 224.64 \r\nz\r\n\" style=\"fill:#1f77b4;fill-opacity:0.75;stroke:#000000;stroke-linejoin:miter;stroke-width:0.108701;\"/>\r\n   </g>\r\n   <g id=\"patch_156\">\r\n    <path clip-path=\"url(#pf0ec87df2f)\" d=\"M 228.496794 224.64 \r\nL 229.583807 224.64 \r\nL 229.583807 224.64 \r\nL 228.496794 224.64 \r\nz\r\n\" style=\"fill:#1f77b4;fill-opacity:0.75;stroke:#000000;stroke-linejoin:miter;stroke-width:0.108701;\"/>\r\n   </g>\r\n   <g id=\"patch_157\">\r\n    <path clip-path=\"url(#pf0ec87df2f)\" d=\"M 229.583807 224.64 \r\nL 230.67082 224.64 \r\nL 230.67082 224.64 \r\nL 229.583807 224.64 \r\nz\r\n\" style=\"fill:#1f77b4;fill-opacity:0.75;stroke:#000000;stroke-linejoin:miter;stroke-width:0.108701;\"/>\r\n   </g>\r\n   <g id=\"patch_158\">\r\n    <path clip-path=\"url(#pf0ec87df2f)\" d=\"M 230.67082 224.64 \r\nL 231.757833 224.64 \r\nL 231.757833 224.64 \r\nL 230.67082 224.64 \r\nz\r\n\" style=\"fill:#1f77b4;fill-opacity:0.75;stroke:#000000;stroke-linejoin:miter;stroke-width:0.108701;\"/>\r\n   </g>\r\n   <g id=\"patch_159\">\r\n    <path clip-path=\"url(#pf0ec87df2f)\" d=\"M 231.757833 224.64 \r\nL 232.844846 224.64 \r\nL 232.844846 224.64 \r\nL 231.757833 224.64 \r\nz\r\n\" style=\"fill:#1f77b4;fill-opacity:0.75;stroke:#000000;stroke-linejoin:miter;stroke-width:0.108701;\"/>\r\n   </g>\r\n   <g id=\"patch_160\">\r\n    <path clip-path=\"url(#pf0ec87df2f)\" d=\"M 232.844846 224.64 \r\nL 233.931859 224.64 \r\nL 233.931859 224.316933 \r\nL 232.844846 224.316933 \r\nz\r\n\" style=\"fill:#1f77b4;fill-opacity:0.75;stroke:#000000;stroke-linejoin:miter;stroke-width:0.108701;\"/>\r\n   </g>\r\n   <g id=\"patch_161\">\r\n    <path clip-path=\"url(#pf0ec87df2f)\" d=\"M 233.931859 224.64 \r\nL 235.018872 224.64 \r\nL 235.018872 224.64 \r\nL 233.931859 224.64 \r\nz\r\n\" style=\"fill:#1f77b4;fill-opacity:0.75;stroke:#000000;stroke-linejoin:miter;stroke-width:0.108701;\"/>\r\n   </g>\r\n   <g id=\"patch_162\">\r\n    <path clip-path=\"url(#pf0ec87df2f)\" d=\"M 235.018872 224.64 \r\nL 236.105885 224.64 \r\nL 236.105885 224.64 \r\nL 235.018872 224.64 \r\nz\r\n\" style=\"fill:#1f77b4;fill-opacity:0.75;stroke:#000000;stroke-linejoin:miter;stroke-width:0.108701;\"/>\r\n   </g>\r\n   <g id=\"patch_163\">\r\n    <path clip-path=\"url(#pf0ec87df2f)\" d=\"M 236.105885 224.64 \r\nL 237.192898 224.64 \r\nL 237.192898 224.64 \r\nL 236.105885 224.64 \r\nz\r\n\" style=\"fill:#1f77b4;fill-opacity:0.75;stroke:#000000;stroke-linejoin:miter;stroke-width:0.108701;\"/>\r\n   </g>\r\n   <g id=\"patch_164\">\r\n    <path clip-path=\"url(#pf0ec87df2f)\" d=\"M 237.192898 224.64 \r\nL 238.279911 224.64 \r\nL 238.279911 224.64 \r\nL 237.192898 224.64 \r\nz\r\n\" style=\"fill:#1f77b4;fill-opacity:0.75;stroke:#000000;stroke-linejoin:miter;stroke-width:0.108701;\"/>\r\n   </g>\r\n   <g id=\"patch_165\">\r\n    <path clip-path=\"url(#pf0ec87df2f)\" d=\"M 238.279911 224.64 \r\nL 239.366924 224.64 \r\nL 239.366924 224.64 \r\nL 238.279911 224.64 \r\nz\r\n\" style=\"fill:#1f77b4;fill-opacity:0.75;stroke:#000000;stroke-linejoin:miter;stroke-width:0.108701;\"/>\r\n   </g>\r\n   <g id=\"patch_166\">\r\n    <path clip-path=\"url(#pf0ec87df2f)\" d=\"M 239.366924 224.64 \r\nL 240.453937 224.64 \r\nL 240.453937 224.64 \r\nL 239.366924 224.64 \r\nz\r\n\" style=\"fill:#1f77b4;fill-opacity:0.75;stroke:#000000;stroke-linejoin:miter;stroke-width:0.108701;\"/>\r\n   </g>\r\n   <g id=\"patch_167\">\r\n    <path clip-path=\"url(#pf0ec87df2f)\" d=\"M 240.453937 224.64 \r\nL 241.54095 224.64 \r\nL 241.54095 224.64 \r\nL 240.453937 224.64 \r\nz\r\n\" style=\"fill:#1f77b4;fill-opacity:0.75;stroke:#000000;stroke-linejoin:miter;stroke-width:0.108701;\"/>\r\n   </g>\r\n   <g id=\"patch_168\">\r\n    <path clip-path=\"url(#pf0ec87df2f)\" d=\"M 241.54095 224.64 \r\nL 242.627963 224.64 \r\nL 242.627963 224.64 \r\nL 241.54095 224.64 \r\nz\r\n\" style=\"fill:#1f77b4;fill-opacity:0.75;stroke:#000000;stroke-linejoin:miter;stroke-width:0.108701;\"/>\r\n   </g>\r\n   <g id=\"patch_169\">\r\n    <path clip-path=\"url(#pf0ec87df2f)\" d=\"M 242.627963 224.64 \r\nL 243.714976 224.64 \r\nL 243.714976 224.64 \r\nL 242.627963 224.64 \r\nz\r\n\" style=\"fill:#1f77b4;fill-opacity:0.75;stroke:#000000;stroke-linejoin:miter;stroke-width:0.108701;\"/>\r\n   </g>\r\n   <g id=\"patch_170\">\r\n    <path clip-path=\"url(#pf0ec87df2f)\" d=\"M 243.714976 224.64 \r\nL 244.801989 224.64 \r\nL 244.801989 224.64 \r\nL 243.714976 224.64 \r\nz\r\n\" style=\"fill:#1f77b4;fill-opacity:0.75;stroke:#000000;stroke-linejoin:miter;stroke-width:0.108701;\"/>\r\n   </g>\r\n   <g id=\"patch_171\">\r\n    <path clip-path=\"url(#pf0ec87df2f)\" d=\"M 244.801989 224.64 \r\nL 245.889002 224.64 \r\nL 245.889002 224.64 \r\nL 244.801989 224.64 \r\nz\r\n\" style=\"fill:#1f77b4;fill-opacity:0.75;stroke:#000000;stroke-linejoin:miter;stroke-width:0.108701;\"/>\r\n   </g>\r\n   <g id=\"patch_172\">\r\n    <path clip-path=\"url(#pf0ec87df2f)\" d=\"M 245.889002 224.64 \r\nL 246.976015 224.64 \r\nL 246.976015 224.64 \r\nL 245.889002 224.64 \r\nz\r\n\" style=\"fill:#1f77b4;fill-opacity:0.75;stroke:#000000;stroke-linejoin:miter;stroke-width:0.108701;\"/>\r\n   </g>\r\n   <g id=\"patch_173\">\r\n    <path clip-path=\"url(#pf0ec87df2f)\" d=\"M 246.976015 224.64 \r\nL 248.063028 224.64 \r\nL 248.063028 224.64 \r\nL 246.976015 224.64 \r\nz\r\n\" style=\"fill:#1f77b4;fill-opacity:0.75;stroke:#000000;stroke-linejoin:miter;stroke-width:0.108701;\"/>\r\n   </g>\r\n   <g id=\"patch_174\">\r\n    <path clip-path=\"url(#pf0ec87df2f)\" d=\"M 248.063028 224.64 \r\nL 249.150041 224.64 \r\nL 249.150041 224.64 \r\nL 248.063028 224.64 \r\nz\r\n\" style=\"fill:#1f77b4;fill-opacity:0.75;stroke:#000000;stroke-linejoin:miter;stroke-width:0.108701;\"/>\r\n   </g>\r\n   <g id=\"patch_175\">\r\n    <path clip-path=\"url(#pf0ec87df2f)\" d=\"M 249.150041 224.64 \r\nL 250.237054 224.64 \r\nL 250.237054 224.64 \r\nL 249.150041 224.64 \r\nz\r\n\" style=\"fill:#1f77b4;fill-opacity:0.75;stroke:#000000;stroke-linejoin:miter;stroke-width:0.108701;\"/>\r\n   </g>\r\n   <g id=\"patch_176\">\r\n    <path clip-path=\"url(#pf0ec87df2f)\" d=\"M 250.237054 224.64 \r\nL 251.324067 224.64 \r\nL 251.324067 224.64 \r\nL 250.237054 224.64 \r\nz\r\n\" style=\"fill:#1f77b4;fill-opacity:0.75;stroke:#000000;stroke-linejoin:miter;stroke-width:0.108701;\"/>\r\n   </g>\r\n   <g id=\"patch_177\">\r\n    <path clip-path=\"url(#pf0ec87df2f)\" d=\"M 251.324067 224.64 \r\nL 252.41108 224.64 \r\nL 252.41108 224.64 \r\nL 251.324067 224.64 \r\nz\r\n\" style=\"fill:#1f77b4;fill-opacity:0.75;stroke:#000000;stroke-linejoin:miter;stroke-width:0.108701;\"/>\r\n   </g>\r\n   <g id=\"patch_178\">\r\n    <path clip-path=\"url(#pf0ec87df2f)\" d=\"M 252.41108 224.64 \r\nL 253.498093 224.64 \r\nL 253.498093 224.316933 \r\nL 252.41108 224.316933 \r\nz\r\n\" style=\"fill:#1f77b4;fill-opacity:0.75;stroke:#000000;stroke-linejoin:miter;stroke-width:0.108701;\"/>\r\n   </g>\r\n   <g id=\"patch_179\">\r\n    <path clip-path=\"url(#pf0ec87df2f)\" d=\"M 253.498093 224.64 \r\nL 254.585106 224.64 \r\nL 254.585106 224.64 \r\nL 253.498093 224.64 \r\nz\r\n\" style=\"fill:#1f77b4;fill-opacity:0.75;stroke:#000000;stroke-linejoin:miter;stroke-width:0.108701;\"/>\r\n   </g>\r\n   <g id=\"patch_180\">\r\n    <path clip-path=\"url(#pf0ec87df2f)\" d=\"M 254.585106 224.64 \r\nL 255.672119 224.64 \r\nL 255.672119 224.64 \r\nL 254.585106 224.64 \r\nz\r\n\" style=\"fill:#1f77b4;fill-opacity:0.75;stroke:#000000;stroke-linejoin:miter;stroke-width:0.108701;\"/>\r\n   </g>\r\n   <g id=\"patch_181\">\r\n    <path clip-path=\"url(#pf0ec87df2f)\" d=\"M 255.672119 224.64 \r\nL 256.759131 224.64 \r\nL 256.759131 224.64 \r\nL 255.672119 224.64 \r\nz\r\n\" style=\"fill:#1f77b4;fill-opacity:0.75;stroke:#000000;stroke-linejoin:miter;stroke-width:0.108701;\"/>\r\n   </g>\r\n   <g id=\"patch_182\">\r\n    <path clip-path=\"url(#pf0ec87df2f)\" d=\"M 256.759131 224.64 \r\nL 257.846144 224.64 \r\nL 257.846144 224.64 \r\nL 256.759131 224.64 \r\nz\r\n\" style=\"fill:#1f77b4;fill-opacity:0.75;stroke:#000000;stroke-linejoin:miter;stroke-width:0.108701;\"/>\r\n   </g>\r\n   <g id=\"patch_183\">\r\n    <path clip-path=\"url(#pf0ec87df2f)\" d=\"M 257.846144 224.64 \r\nL 258.933157 224.64 \r\nL 258.933157 224.64 \r\nL 257.846144 224.64 \r\nz\r\n\" style=\"fill:#1f77b4;fill-opacity:0.75;stroke:#000000;stroke-linejoin:miter;stroke-width:0.108701;\"/>\r\n   </g>\r\n   <g id=\"patch_184\">\r\n    <path clip-path=\"url(#pf0ec87df2f)\" d=\"M 258.933157 224.64 \r\nL 260.02017 224.64 \r\nL 260.02017 224.64 \r\nL 258.933157 224.64 \r\nz\r\n\" style=\"fill:#1f77b4;fill-opacity:0.75;stroke:#000000;stroke-linejoin:miter;stroke-width:0.108701;\"/>\r\n   </g>\r\n   <g id=\"patch_185\">\r\n    <path clip-path=\"url(#pf0ec87df2f)\" d=\"M 260.02017 224.64 \r\nL 261.107183 224.64 \r\nL 261.107183 224.64 \r\nL 260.02017 224.64 \r\nz\r\n\" style=\"fill:#1f77b4;fill-opacity:0.75;stroke:#000000;stroke-linejoin:miter;stroke-width:0.108701;\"/>\r\n   </g>\r\n   <g id=\"patch_186\">\r\n    <path clip-path=\"url(#pf0ec87df2f)\" d=\"M 261.107183 224.64 \r\nL 262.194196 224.64 \r\nL 262.194196 224.64 \r\nL 261.107183 224.64 \r\nz\r\n\" style=\"fill:#1f77b4;fill-opacity:0.75;stroke:#000000;stroke-linejoin:miter;stroke-width:0.108701;\"/>\r\n   </g>\r\n   <g id=\"patch_187\">\r\n    <path clip-path=\"url(#pf0ec87df2f)\" d=\"M 262.194196 224.64 \r\nL 263.281209 224.64 \r\nL 263.281209 224.64 \r\nL 262.194196 224.64 \r\nz\r\n\" style=\"fill:#1f77b4;fill-opacity:0.75;stroke:#000000;stroke-linejoin:miter;stroke-width:0.108701;\"/>\r\n   </g>\r\n   <g id=\"patch_188\">\r\n    <path clip-path=\"url(#pf0ec87df2f)\" d=\"M 263.281209 224.64 \r\nL 264.368222 224.64 \r\nL 264.368222 224.64 \r\nL 263.281209 224.64 \r\nz\r\n\" style=\"fill:#1f77b4;fill-opacity:0.75;stroke:#000000;stroke-linejoin:miter;stroke-width:0.108701;\"/>\r\n   </g>\r\n   <g id=\"patch_189\">\r\n    <path clip-path=\"url(#pf0ec87df2f)\" d=\"M 264.368222 224.64 \r\nL 265.455235 224.64 \r\nL 265.455235 224.64 \r\nL 264.368222 224.64 \r\nz\r\n\" style=\"fill:#1f77b4;fill-opacity:0.75;stroke:#000000;stroke-linejoin:miter;stroke-width:0.108701;\"/>\r\n   </g>\r\n   <g id=\"patch_190\">\r\n    <path clip-path=\"url(#pf0ec87df2f)\" d=\"M 265.455235 224.64 \r\nL 266.542248 224.64 \r\nL 266.542248 224.64 \r\nL 265.455235 224.64 \r\nz\r\n\" style=\"fill:#1f77b4;fill-opacity:0.75;stroke:#000000;stroke-linejoin:miter;stroke-width:0.108701;\"/>\r\n   </g>\r\n   <g id=\"patch_191\">\r\n    <path clip-path=\"url(#pf0ec87df2f)\" d=\"M 266.542248 224.64 \r\nL 267.629261 224.64 \r\nL 267.629261 224.64 \r\nL 266.542248 224.64 \r\nz\r\n\" style=\"fill:#1f77b4;fill-opacity:0.75;stroke:#000000;stroke-linejoin:miter;stroke-width:0.108701;\"/>\r\n   </g>\r\n   <g id=\"patch_192\">\r\n    <path clip-path=\"url(#pf0ec87df2f)\" d=\"M 267.629261 224.64 \r\nL 268.716274 224.64 \r\nL 268.716274 224.64 \r\nL 267.629261 224.64 \r\nz\r\n\" style=\"fill:#1f77b4;fill-opacity:0.75;stroke:#000000;stroke-linejoin:miter;stroke-width:0.108701;\"/>\r\n   </g>\r\n   <g id=\"patch_193\">\r\n    <path clip-path=\"url(#pf0ec87df2f)\" d=\"M 268.716274 224.64 \r\nL 269.803287 224.64 \r\nL 269.803287 224.64 \r\nL 268.716274 224.64 \r\nz\r\n\" style=\"fill:#1f77b4;fill-opacity:0.75;stroke:#000000;stroke-linejoin:miter;stroke-width:0.108701;\"/>\r\n   </g>\r\n   <g id=\"patch_194\">\r\n    <path clip-path=\"url(#pf0ec87df2f)\" d=\"M 269.803287 224.64 \r\nL 270.8903 224.64 \r\nL 270.8903 224.64 \r\nL 269.803287 224.64 \r\nz\r\n\" style=\"fill:#1f77b4;fill-opacity:0.75;stroke:#000000;stroke-linejoin:miter;stroke-width:0.108701;\"/>\r\n   </g>\r\n   <g id=\"patch_195\">\r\n    <path clip-path=\"url(#pf0ec87df2f)\" d=\"M 270.8903 224.64 \r\nL 271.977313 224.64 \r\nL 271.977313 224.64 \r\nL 270.8903 224.64 \r\nz\r\n\" style=\"fill:#1f77b4;fill-opacity:0.75;stroke:#000000;stroke-linejoin:miter;stroke-width:0.108701;\"/>\r\n   </g>\r\n   <g id=\"patch_196\">\r\n    <path clip-path=\"url(#pf0ec87df2f)\" d=\"M 271.977313 224.64 \r\nL 273.064326 224.64 \r\nL 273.064326 224.64 \r\nL 271.977313 224.64 \r\nz\r\n\" style=\"fill:#1f77b4;fill-opacity:0.75;stroke:#000000;stroke-linejoin:miter;stroke-width:0.108701;\"/>\r\n   </g>\r\n   <g id=\"patch_197\">\r\n    <path clip-path=\"url(#pf0ec87df2f)\" d=\"M 273.064326 224.64 \r\nL 274.151339 224.64 \r\nL 274.151339 224.64 \r\nL 273.064326 224.64 \r\nz\r\n\" style=\"fill:#1f77b4;fill-opacity:0.75;stroke:#000000;stroke-linejoin:miter;stroke-width:0.108701;\"/>\r\n   </g>\r\n   <g id=\"patch_198\">\r\n    <path clip-path=\"url(#pf0ec87df2f)\" d=\"M 274.151339 224.64 \r\nL 275.238352 224.64 \r\nL 275.238352 224.64 \r\nL 274.151339 224.64 \r\nz\r\n\" style=\"fill:#1f77b4;fill-opacity:0.75;stroke:#000000;stroke-linejoin:miter;stroke-width:0.108701;\"/>\r\n   </g>\r\n   <g id=\"patch_199\">\r\n    <path clip-path=\"url(#pf0ec87df2f)\" d=\"M 275.238352 224.64 \r\nL 276.325365 224.64 \r\nL 276.325365 224.64 \r\nL 275.238352 224.64 \r\nz\r\n\" style=\"fill:#1f77b4;fill-opacity:0.75;stroke:#000000;stroke-linejoin:miter;stroke-width:0.108701;\"/>\r\n   </g>\r\n   <g id=\"patch_200\">\r\n    <path clip-path=\"url(#pf0ec87df2f)\" d=\"M 276.325365 224.64 \r\nL 277.412378 224.64 \r\nL 277.412378 224.64 \r\nL 276.325365 224.64 \r\nz\r\n\" style=\"fill:#1f77b4;fill-opacity:0.75;stroke:#000000;stroke-linejoin:miter;stroke-width:0.108701;\"/>\r\n   </g>\r\n   <g id=\"patch_201\">\r\n    <path clip-path=\"url(#pf0ec87df2f)\" d=\"M 277.412378 224.64 \r\nL 278.499391 224.64 \r\nL 278.499391 224.64 \r\nL 277.412378 224.64 \r\nz\r\n\" style=\"fill:#1f77b4;fill-opacity:0.75;stroke:#000000;stroke-linejoin:miter;stroke-width:0.108701;\"/>\r\n   </g>\r\n   <g id=\"patch_202\">\r\n    <path clip-path=\"url(#pf0ec87df2f)\" d=\"M 278.499391 224.64 \r\nL 279.586404 224.64 \r\nL 279.586404 224.316933 \r\nL 278.499391 224.316933 \r\nz\r\n\" style=\"fill:#1f77b4;fill-opacity:0.75;stroke:#000000;stroke-linejoin:miter;stroke-width:0.108701;\"/>\r\n   </g>\r\n   <g id=\"patch_203\">\r\n    <path clip-path=\"url(#pf0ec87df2f)\" d=\"M 279.586404 224.64 \r\nL 280.673417 224.64 \r\nL 280.673417 224.64 \r\nL 279.586404 224.64 \r\nz\r\n\" style=\"fill:#1f77b4;fill-opacity:0.75;stroke:#000000;stroke-linejoin:miter;stroke-width:0.108701;\"/>\r\n   </g>\r\n   <g id=\"patch_204\">\r\n    <path clip-path=\"url(#pf0ec87df2f)\" d=\"M 280.673417 224.64 \r\nL 281.76043 224.64 \r\nL 281.76043 224.64 \r\nL 280.673417 224.64 \r\nz\r\n\" style=\"fill:#1f77b4;fill-opacity:0.75;stroke:#000000;stroke-linejoin:miter;stroke-width:0.108701;\"/>\r\n   </g>\r\n   <g id=\"patch_205\">\r\n    <path clip-path=\"url(#pf0ec87df2f)\" d=\"M 281.76043 224.64 \r\nL 282.847443 224.64 \r\nL 282.847443 224.64 \r\nL 281.76043 224.64 \r\nz\r\n\" style=\"fill:#1f77b4;fill-opacity:0.75;stroke:#000000;stroke-linejoin:miter;stroke-width:0.108701;\"/>\r\n   </g>\r\n   <g id=\"patch_206\">\r\n    <path clip-path=\"url(#pf0ec87df2f)\" d=\"M 282.847443 224.64 \r\nL 283.934456 224.64 \r\nL 283.934456 224.64 \r\nL 282.847443 224.64 \r\nz\r\n\" style=\"fill:#1f77b4;fill-opacity:0.75;stroke:#000000;stroke-linejoin:miter;stroke-width:0.108701;\"/>\r\n   </g>\r\n   <g id=\"patch_207\">\r\n    <path clip-path=\"url(#pf0ec87df2f)\" d=\"M 283.934456 224.64 \r\nL 285.021469 224.64 \r\nL 285.021469 224.64 \r\nL 283.934456 224.64 \r\nz\r\n\" style=\"fill:#1f77b4;fill-opacity:0.75;stroke:#000000;stroke-linejoin:miter;stroke-width:0.108701;\"/>\r\n   </g>\r\n   <g id=\"patch_208\">\r\n    <path clip-path=\"url(#pf0ec87df2f)\" d=\"M 285.021469 224.64 \r\nL 286.108482 224.64 \r\nL 286.108482 224.64 \r\nL 285.021469 224.64 \r\nz\r\n\" style=\"fill:#1f77b4;fill-opacity:0.75;stroke:#000000;stroke-linejoin:miter;stroke-width:0.108701;\"/>\r\n   </g>\r\n   <g id=\"patch_209\">\r\n    <path clip-path=\"url(#pf0ec87df2f)\" d=\"M 286.108482 224.64 \r\nL 287.195495 224.64 \r\nL 287.195495 224.64 \r\nL 286.108482 224.64 \r\nz\r\n\" style=\"fill:#1f77b4;fill-opacity:0.75;stroke:#000000;stroke-linejoin:miter;stroke-width:0.108701;\"/>\r\n   </g>\r\n   <g id=\"patch_210\">\r\n    <path clip-path=\"url(#pf0ec87df2f)\" d=\"M 287.195495 224.64 \r\nL 288.282508 224.64 \r\nL 288.282508 224.64 \r\nL 287.195495 224.64 \r\nz\r\n\" style=\"fill:#1f77b4;fill-opacity:0.75;stroke:#000000;stroke-linejoin:miter;stroke-width:0.108701;\"/>\r\n   </g>\r\n   <g id=\"patch_211\">\r\n    <path clip-path=\"url(#pf0ec87df2f)\" d=\"M 288.282508 224.64 \r\nL 289.369521 224.64 \r\nL 289.369521 224.64 \r\nL 288.282508 224.64 \r\nz\r\n\" style=\"fill:#1f77b4;fill-opacity:0.75;stroke:#000000;stroke-linejoin:miter;stroke-width:0.108701;\"/>\r\n   </g>\r\n   <g id=\"patch_212\">\r\n    <path clip-path=\"url(#pf0ec87df2f)\" d=\"M 289.369521 224.64 \r\nL 290.456534 224.64 \r\nL 290.456534 224.64 \r\nL 289.369521 224.64 \r\nz\r\n\" style=\"fill:#1f77b4;fill-opacity:0.75;stroke:#000000;stroke-linejoin:miter;stroke-width:0.108701;\"/>\r\n   </g>\r\n   <g id=\"patch_213\">\r\n    <path clip-path=\"url(#pf0ec87df2f)\" d=\"M 290.456534 224.64 \r\nL 291.543547 224.64 \r\nL 291.543547 224.64 \r\nL 290.456534 224.64 \r\nz\r\n\" style=\"fill:#1f77b4;fill-opacity:0.75;stroke:#000000;stroke-linejoin:miter;stroke-width:0.108701;\"/>\r\n   </g>\r\n   <g id=\"patch_214\">\r\n    <path clip-path=\"url(#pf0ec87df2f)\" d=\"M 291.543547 224.64 \r\nL 292.63056 224.64 \r\nL 292.63056 224.64 \r\nL 291.543547 224.64 \r\nz\r\n\" style=\"fill:#1f77b4;fill-opacity:0.75;stroke:#000000;stroke-linejoin:miter;stroke-width:0.108701;\"/>\r\n   </g>\r\n   <g id=\"patch_215\">\r\n    <path clip-path=\"url(#pf0ec87df2f)\" d=\"M 292.63056 224.64 \r\nL 293.717573 224.64 \r\nL 293.717573 224.64 \r\nL 292.63056 224.64 \r\nz\r\n\" style=\"fill:#1f77b4;fill-opacity:0.75;stroke:#000000;stroke-linejoin:miter;stroke-width:0.108701;\"/>\r\n   </g>\r\n   <g id=\"patch_216\">\r\n    <path clip-path=\"url(#pf0ec87df2f)\" d=\"M 293.717573 224.64 \r\nL 294.804586 224.64 \r\nL 294.804586 224.64 \r\nL 293.717573 224.64 \r\nz\r\n\" style=\"fill:#1f77b4;fill-opacity:0.75;stroke:#000000;stroke-linejoin:miter;stroke-width:0.108701;\"/>\r\n   </g>\r\n   <g id=\"patch_217\">\r\n    <path clip-path=\"url(#pf0ec87df2f)\" d=\"M 294.804586 224.64 \r\nL 295.891599 224.64 \r\nL 295.891599 224.64 \r\nL 294.804586 224.64 \r\nz\r\n\" style=\"fill:#1f77b4;fill-opacity:0.75;stroke:#000000;stroke-linejoin:miter;stroke-width:0.108701;\"/>\r\n   </g>\r\n   <g id=\"patch_218\">\r\n    <path clip-path=\"url(#pf0ec87df2f)\" d=\"M 295.891599 224.64 \r\nL 296.978612 224.64 \r\nL 296.978612 224.64 \r\nL 295.891599 224.64 \r\nz\r\n\" style=\"fill:#1f77b4;fill-opacity:0.75;stroke:#000000;stroke-linejoin:miter;stroke-width:0.108701;\"/>\r\n   </g>\r\n   <g id=\"patch_219\">\r\n    <path clip-path=\"url(#pf0ec87df2f)\" d=\"M 296.978612 224.64 \r\nL 298.065625 224.64 \r\nL 298.065625 224.64 \r\nL 296.978612 224.64 \r\nz\r\n\" style=\"fill:#1f77b4;fill-opacity:0.75;stroke:#000000;stroke-linejoin:miter;stroke-width:0.108701;\"/>\r\n   </g>\r\n   <g id=\"patch_220\">\r\n    <path clip-path=\"url(#pf0ec87df2f)\" d=\"M 298.065625 224.64 \r\nL 299.152638 224.64 \r\nL 299.152638 224.64 \r\nL 298.065625 224.64 \r\nz\r\n\" style=\"fill:#1f77b4;fill-opacity:0.75;stroke:#000000;stroke-linejoin:miter;stroke-width:0.108701;\"/>\r\n   </g>\r\n   <g id=\"patch_221\">\r\n    <path clip-path=\"url(#pf0ec87df2f)\" d=\"M 299.152638 224.64 \r\nL 300.239651 224.64 \r\nL 300.239651 224.64 \r\nL 299.152638 224.64 \r\nz\r\n\" style=\"fill:#1f77b4;fill-opacity:0.75;stroke:#000000;stroke-linejoin:miter;stroke-width:0.108701;\"/>\r\n   </g>\r\n   <g id=\"patch_222\">\r\n    <path clip-path=\"url(#pf0ec87df2f)\" d=\"M 300.239651 224.64 \r\nL 301.326664 224.64 \r\nL 301.326664 224.64 \r\nL 300.239651 224.64 \r\nz\r\n\" style=\"fill:#1f77b4;fill-opacity:0.75;stroke:#000000;stroke-linejoin:miter;stroke-width:0.108701;\"/>\r\n   </g>\r\n   <g id=\"patch_223\">\r\n    <path clip-path=\"url(#pf0ec87df2f)\" d=\"M 301.326664 224.64 \r\nL 302.413677 224.64 \r\nL 302.413677 224.64 \r\nL 301.326664 224.64 \r\nz\r\n\" style=\"fill:#1f77b4;fill-opacity:0.75;stroke:#000000;stroke-linejoin:miter;stroke-width:0.108701;\"/>\r\n   </g>\r\n   <g id=\"patch_224\">\r\n    <path clip-path=\"url(#pf0ec87df2f)\" d=\"M 302.413677 224.64 \r\nL 303.50069 224.64 \r\nL 303.50069 224.64 \r\nL 302.413677 224.64 \r\nz\r\n\" style=\"fill:#1f77b4;fill-opacity:0.75;stroke:#000000;stroke-linejoin:miter;stroke-width:0.108701;\"/>\r\n   </g>\r\n   <g id=\"patch_225\">\r\n    <path clip-path=\"url(#pf0ec87df2f)\" d=\"M 303.50069 224.64 \r\nL 304.587703 224.64 \r\nL 304.587703 224.64 \r\nL 303.50069 224.64 \r\nz\r\n\" style=\"fill:#1f77b4;fill-opacity:0.75;stroke:#000000;stroke-linejoin:miter;stroke-width:0.108701;\"/>\r\n   </g>\r\n   <g id=\"patch_226\">\r\n    <path clip-path=\"url(#pf0ec87df2f)\" d=\"M 304.587703 224.64 \r\nL 305.674716 224.64 \r\nL 305.674716 224.64 \r\nL 304.587703 224.64 \r\nz\r\n\" style=\"fill:#1f77b4;fill-opacity:0.75;stroke:#000000;stroke-linejoin:miter;stroke-width:0.108701;\"/>\r\n   </g>\r\n   <g id=\"patch_227\">\r\n    <path clip-path=\"url(#pf0ec87df2f)\" d=\"M 305.674716 224.64 \r\nL 306.761729 224.64 \r\nL 306.761729 224.64 \r\nL 305.674716 224.64 \r\nz\r\n\" style=\"fill:#1f77b4;fill-opacity:0.75;stroke:#000000;stroke-linejoin:miter;stroke-width:0.108701;\"/>\r\n   </g>\r\n   <g id=\"patch_228\">\r\n    <path clip-path=\"url(#pf0ec87df2f)\" d=\"M 306.761729 224.64 \r\nL 307.848742 224.64 \r\nL 307.848742 224.64 \r\nL 306.761729 224.64 \r\nz\r\n\" style=\"fill:#1f77b4;fill-opacity:0.75;stroke:#000000;stroke-linejoin:miter;stroke-width:0.108701;\"/>\r\n   </g>\r\n   <g id=\"patch_229\">\r\n    <path clip-path=\"url(#pf0ec87df2f)\" d=\"M 307.848742 224.64 \r\nL 308.935755 224.64 \r\nL 308.935755 224.64 \r\nL 307.848742 224.64 \r\nz\r\n\" style=\"fill:#1f77b4;fill-opacity:0.75;stroke:#000000;stroke-linejoin:miter;stroke-width:0.108701;\"/>\r\n   </g>\r\n   <g id=\"patch_230\">\r\n    <path clip-path=\"url(#pf0ec87df2f)\" d=\"M 308.935755 224.64 \r\nL 310.022768 224.64 \r\nL 310.022768 224.64 \r\nL 308.935755 224.64 \r\nz\r\n\" style=\"fill:#1f77b4;fill-opacity:0.75;stroke:#000000;stroke-linejoin:miter;stroke-width:0.108701;\"/>\r\n   </g>\r\n   <g id=\"patch_231\">\r\n    <path clip-path=\"url(#pf0ec87df2f)\" d=\"M 310.022768 224.64 \r\nL 311.109781 224.64 \r\nL 311.109781 224.64 \r\nL 310.022768 224.64 \r\nz\r\n\" style=\"fill:#1f77b4;fill-opacity:0.75;stroke:#000000;stroke-linejoin:miter;stroke-width:0.108701;\"/>\r\n   </g>\r\n   <g id=\"patch_232\">\r\n    <path clip-path=\"url(#pf0ec87df2f)\" d=\"M 311.109781 224.64 \r\nL 312.196794 224.64 \r\nL 312.196794 224.64 \r\nL 311.109781 224.64 \r\nz\r\n\" style=\"fill:#1f77b4;fill-opacity:0.75;stroke:#000000;stroke-linejoin:miter;stroke-width:0.108701;\"/>\r\n   </g>\r\n   <g id=\"patch_233\">\r\n    <path clip-path=\"url(#pf0ec87df2f)\" d=\"M 312.196794 224.64 \r\nL 313.283807 224.64 \r\nL 313.283807 224.64 \r\nL 312.196794 224.64 \r\nz\r\n\" style=\"fill:#1f77b4;fill-opacity:0.75;stroke:#000000;stroke-linejoin:miter;stroke-width:0.108701;\"/>\r\n   </g>\r\n   <g id=\"patch_234\">\r\n    <path clip-path=\"url(#pf0ec87df2f)\" d=\"M 313.283807 224.64 \r\nL 314.37082 224.64 \r\nL 314.37082 224.64 \r\nL 313.283807 224.64 \r\nz\r\n\" style=\"fill:#1f77b4;fill-opacity:0.75;stroke:#000000;stroke-linejoin:miter;stroke-width:0.108701;\"/>\r\n   </g>\r\n   <g id=\"patch_235\">\r\n    <path clip-path=\"url(#pf0ec87df2f)\" d=\"M 314.37082 224.64 \r\nL 315.457833 224.64 \r\nL 315.457833 224.64 \r\nL 314.37082 224.64 \r\nz\r\n\" style=\"fill:#1f77b4;fill-opacity:0.75;stroke:#000000;stroke-linejoin:miter;stroke-width:0.108701;\"/>\r\n   </g>\r\n   <g id=\"patch_236\">\r\n    <path clip-path=\"url(#pf0ec87df2f)\" d=\"M 315.457833 224.64 \r\nL 316.544846 224.64 \r\nL 316.544846 224.64 \r\nL 315.457833 224.64 \r\nz\r\n\" style=\"fill:#1f77b4;fill-opacity:0.75;stroke:#000000;stroke-linejoin:miter;stroke-width:0.108701;\"/>\r\n   </g>\r\n   <g id=\"patch_237\">\r\n    <path clip-path=\"url(#pf0ec87df2f)\" d=\"M 316.544846 224.64 \r\nL 317.631859 224.64 \r\nL 317.631859 224.64 \r\nL 316.544846 224.64 \r\nz\r\n\" style=\"fill:#1f77b4;fill-opacity:0.75;stroke:#000000;stroke-linejoin:miter;stroke-width:0.108701;\"/>\r\n   </g>\r\n   <g id=\"patch_238\">\r\n    <path clip-path=\"url(#pf0ec87df2f)\" d=\"M 317.631859 224.64 \r\nL 318.718872 224.64 \r\nL 318.718872 224.64 \r\nL 317.631859 224.64 \r\nz\r\n\" style=\"fill:#1f77b4;fill-opacity:0.75;stroke:#000000;stroke-linejoin:miter;stroke-width:0.108701;\"/>\r\n   </g>\r\n   <g id=\"patch_239\">\r\n    <path clip-path=\"url(#pf0ec87df2f)\" d=\"M 318.718872 224.64 \r\nL 319.805885 224.64 \r\nL 319.805885 224.64 \r\nL 318.718872 224.64 \r\nz\r\n\" style=\"fill:#1f77b4;fill-opacity:0.75;stroke:#000000;stroke-linejoin:miter;stroke-width:0.108701;\"/>\r\n   </g>\r\n   <g id=\"patch_240\">\r\n    <path clip-path=\"url(#pf0ec87df2f)\" d=\"M 319.805885 224.64 \r\nL 320.892898 224.64 \r\nL 320.892898 224.64 \r\nL 319.805885 224.64 \r\nz\r\n\" style=\"fill:#1f77b4;fill-opacity:0.75;stroke:#000000;stroke-linejoin:miter;stroke-width:0.108701;\"/>\r\n   </g>\r\n   <g id=\"patch_241\">\r\n    <path clip-path=\"url(#pf0ec87df2f)\" d=\"M 320.892898 224.64 \r\nL 321.979911 224.64 \r\nL 321.979911 224.64 \r\nL 320.892898 224.64 \r\nz\r\n\" style=\"fill:#1f77b4;fill-opacity:0.75;stroke:#000000;stroke-linejoin:miter;stroke-width:0.108701;\"/>\r\n   </g>\r\n   <g id=\"patch_242\">\r\n    <path clip-path=\"url(#pf0ec87df2f)\" d=\"M 321.979911 224.64 \r\nL 323.066924 224.64 \r\nL 323.066924 224.64 \r\nL 321.979911 224.64 \r\nz\r\n\" style=\"fill:#1f77b4;fill-opacity:0.75;stroke:#000000;stroke-linejoin:miter;stroke-width:0.108701;\"/>\r\n   </g>\r\n   <g id=\"patch_243\">\r\n    <path clip-path=\"url(#pf0ec87df2f)\" d=\"M 323.066924 224.64 \r\nL 324.153937 224.64 \r\nL 324.153937 224.64 \r\nL 323.066924 224.64 \r\nz\r\n\" style=\"fill:#1f77b4;fill-opacity:0.75;stroke:#000000;stroke-linejoin:miter;stroke-width:0.108701;\"/>\r\n   </g>\r\n   <g id=\"patch_244\">\r\n    <path clip-path=\"url(#pf0ec87df2f)\" d=\"M 324.153937 224.64 \r\nL 325.24095 224.64 \r\nL 325.24095 224.64 \r\nL 324.153937 224.64 \r\nz\r\n\" style=\"fill:#1f77b4;fill-opacity:0.75;stroke:#000000;stroke-linejoin:miter;stroke-width:0.108701;\"/>\r\n   </g>\r\n   <g id=\"patch_245\">\r\n    <path clip-path=\"url(#pf0ec87df2f)\" d=\"M 325.24095 224.64 \r\nL 326.327963 224.64 \r\nL 326.327963 224.64 \r\nL 325.24095 224.64 \r\nz\r\n\" style=\"fill:#1f77b4;fill-opacity:0.75;stroke:#000000;stroke-linejoin:miter;stroke-width:0.108701;\"/>\r\n   </g>\r\n   <g id=\"patch_246\">\r\n    <path clip-path=\"url(#pf0ec87df2f)\" d=\"M 326.327963 224.64 \r\nL 327.414976 224.64 \r\nL 327.414976 224.64 \r\nL 326.327963 224.64 \r\nz\r\n\" style=\"fill:#1f77b4;fill-opacity:0.75;stroke:#000000;stroke-linejoin:miter;stroke-width:0.108701;\"/>\r\n   </g>\r\n   <g id=\"patch_247\">\r\n    <path clip-path=\"url(#pf0ec87df2f)\" d=\"M 327.414976 224.64 \r\nL 328.501989 224.64 \r\nL 328.501989 224.64 \r\nL 327.414976 224.64 \r\nz\r\n\" style=\"fill:#1f77b4;fill-opacity:0.75;stroke:#000000;stroke-linejoin:miter;stroke-width:0.108701;\"/>\r\n   </g>\r\n   <g id=\"patch_248\">\r\n    <path clip-path=\"url(#pf0ec87df2f)\" d=\"M 328.501989 224.64 \r\nL 329.589002 224.64 \r\nL 329.589002 224.64 \r\nL 328.501989 224.64 \r\nz\r\n\" style=\"fill:#1f77b4;fill-opacity:0.75;stroke:#000000;stroke-linejoin:miter;stroke-width:0.108701;\"/>\r\n   </g>\r\n   <g id=\"patch_249\">\r\n    <path clip-path=\"url(#pf0ec87df2f)\" d=\"M 329.589002 224.64 \r\nL 330.676015 224.64 \r\nL 330.676015 224.64 \r\nL 329.589002 224.64 \r\nz\r\n\" style=\"fill:#1f77b4;fill-opacity:0.75;stroke:#000000;stroke-linejoin:miter;stroke-width:0.108701;\"/>\r\n   </g>\r\n   <g id=\"patch_250\">\r\n    <path clip-path=\"url(#pf0ec87df2f)\" d=\"M 330.676015 224.64 \r\nL 331.763028 224.64 \r\nL 331.763028 224.64 \r\nL 330.676015 224.64 \r\nz\r\n\" style=\"fill:#1f77b4;fill-opacity:0.75;stroke:#000000;stroke-linejoin:miter;stroke-width:0.108701;\"/>\r\n   </g>\r\n   <g id=\"patch_251\">\r\n    <path clip-path=\"url(#pf0ec87df2f)\" d=\"M 331.763028 224.64 \r\nL 332.850041 224.64 \r\nL 332.850041 224.64 \r\nL 331.763028 224.64 \r\nz\r\n\" style=\"fill:#1f77b4;fill-opacity:0.75;stroke:#000000;stroke-linejoin:miter;stroke-width:0.108701;\"/>\r\n   </g>\r\n   <g id=\"patch_252\">\r\n    <path clip-path=\"url(#pf0ec87df2f)\" d=\"M 332.850041 224.64 \r\nL 333.937054 224.64 \r\nL 333.937054 224.64 \r\nL 332.850041 224.64 \r\nz\r\n\" style=\"fill:#1f77b4;fill-opacity:0.75;stroke:#000000;stroke-linejoin:miter;stroke-width:0.108701;\"/>\r\n   </g>\r\n   <g id=\"patch_253\">\r\n    <path clip-path=\"url(#pf0ec87df2f)\" d=\"M 333.937054 224.64 \r\nL 335.024067 224.64 \r\nL 335.024067 224.64 \r\nL 333.937054 224.64 \r\nz\r\n\" style=\"fill:#1f77b4;fill-opacity:0.75;stroke:#000000;stroke-linejoin:miter;stroke-width:0.108701;\"/>\r\n   </g>\r\n   <g id=\"patch_254\">\r\n    <path clip-path=\"url(#pf0ec87df2f)\" d=\"M 335.024067 224.64 \r\nL 336.11108 224.64 \r\nL 336.11108 224.64 \r\nL 335.024067 224.64 \r\nz\r\n\" style=\"fill:#1f77b4;fill-opacity:0.75;stroke:#000000;stroke-linejoin:miter;stroke-width:0.108701;\"/>\r\n   </g>\r\n   <g id=\"patch_255\">\r\n    <path clip-path=\"url(#pf0ec87df2f)\" d=\"M 336.11108 224.64 \r\nL 337.198093 224.64 \r\nL 337.198093 224.64 \r\nL 336.11108 224.64 \r\nz\r\n\" style=\"fill:#1f77b4;fill-opacity:0.75;stroke:#000000;stroke-linejoin:miter;stroke-width:0.108701;\"/>\r\n   </g>\r\n   <g id=\"patch_256\">\r\n    <path clip-path=\"url(#pf0ec87df2f)\" d=\"M 337.198093 224.64 \r\nL 338.285106 224.64 \r\nL 338.285106 224.64 \r\nL 337.198093 224.64 \r\nz\r\n\" style=\"fill:#1f77b4;fill-opacity:0.75;stroke:#000000;stroke-linejoin:miter;stroke-width:0.108701;\"/>\r\n   </g>\r\n   <g id=\"patch_257\">\r\n    <path clip-path=\"url(#pf0ec87df2f)\" d=\"M 338.285106 224.64 \r\nL 339.372119 224.64 \r\nL 339.372119 224.64 \r\nL 338.285106 224.64 \r\nz\r\n\" style=\"fill:#1f77b4;fill-opacity:0.75;stroke:#000000;stroke-linejoin:miter;stroke-width:0.108701;\"/>\r\n   </g>\r\n   <g id=\"patch_258\">\r\n    <path clip-path=\"url(#pf0ec87df2f)\" d=\"M 339.372119 224.64 \r\nL 340.459131 224.64 \r\nL 340.459131 224.64 \r\nL 339.372119 224.64 \r\nz\r\n\" style=\"fill:#1f77b4;fill-opacity:0.75;stroke:#000000;stroke-linejoin:miter;stroke-width:0.108701;\"/>\r\n   </g>\r\n   <g id=\"patch_259\">\r\n    <path clip-path=\"url(#pf0ec87df2f)\" d=\"M 340.459131 224.64 \r\nL 341.546144 224.64 \r\nL 341.546144 224.64 \r\nL 340.459131 224.64 \r\nz\r\n\" style=\"fill:#1f77b4;fill-opacity:0.75;stroke:#000000;stroke-linejoin:miter;stroke-width:0.108701;\"/>\r\n   </g>\r\n   <g id=\"patch_260\">\r\n    <path clip-path=\"url(#pf0ec87df2f)\" d=\"M 341.546144 224.64 \r\nL 342.633157 224.64 \r\nL 342.633157 224.64 \r\nL 341.546144 224.64 \r\nz\r\n\" style=\"fill:#1f77b4;fill-opacity:0.75;stroke:#000000;stroke-linejoin:miter;stroke-width:0.108701;\"/>\r\n   </g>\r\n   <g id=\"patch_261\">\r\n    <path clip-path=\"url(#pf0ec87df2f)\" d=\"M 342.633157 224.64 \r\nL 343.72017 224.64 \r\nL 343.72017 224.64 \r\nL 342.633157 224.64 \r\nz\r\n\" style=\"fill:#1f77b4;fill-opacity:0.75;stroke:#000000;stroke-linejoin:miter;stroke-width:0.108701;\"/>\r\n   </g>\r\n   <g id=\"patch_262\">\r\n    <path clip-path=\"url(#pf0ec87df2f)\" d=\"M 343.72017 224.64 \r\nL 344.807183 224.64 \r\nL 344.807183 224.64 \r\nL 343.72017 224.64 \r\nz\r\n\" style=\"fill:#1f77b4;fill-opacity:0.75;stroke:#000000;stroke-linejoin:miter;stroke-width:0.108701;\"/>\r\n   </g>\r\n   <g id=\"patch_263\">\r\n    <path clip-path=\"url(#pf0ec87df2f)\" d=\"M 344.807183 224.64 \r\nL 345.894196 224.64 \r\nL 345.894196 224.64 \r\nL 344.807183 224.64 \r\nz\r\n\" style=\"fill:#1f77b4;fill-opacity:0.75;stroke:#000000;stroke-linejoin:miter;stroke-width:0.108701;\"/>\r\n   </g>\r\n   <g id=\"patch_264\">\r\n    <path clip-path=\"url(#pf0ec87df2f)\" d=\"M 345.894196 224.64 \r\nL 346.981209 224.64 \r\nL 346.981209 224.64 \r\nL 345.894196 224.64 \r\nz\r\n\" style=\"fill:#1f77b4;fill-opacity:0.75;stroke:#000000;stroke-linejoin:miter;stroke-width:0.108701;\"/>\r\n   </g>\r\n   <g id=\"patch_265\">\r\n    <path clip-path=\"url(#pf0ec87df2f)\" d=\"M 346.981209 224.64 \r\nL 348.068222 224.64 \r\nL 348.068222 224.64 \r\nL 346.981209 224.64 \r\nz\r\n\" style=\"fill:#1f77b4;fill-opacity:0.75;stroke:#000000;stroke-linejoin:miter;stroke-width:0.108701;\"/>\r\n   </g>\r\n   <g id=\"patch_266\">\r\n    <path clip-path=\"url(#pf0ec87df2f)\" d=\"M 348.068222 224.64 \r\nL 349.155235 224.64 \r\nL 349.155235 224.64 \r\nL 348.068222 224.64 \r\nz\r\n\" style=\"fill:#1f77b4;fill-opacity:0.75;stroke:#000000;stroke-linejoin:miter;stroke-width:0.108701;\"/>\r\n   </g>\r\n   <g id=\"patch_267\">\r\n    <path clip-path=\"url(#pf0ec87df2f)\" d=\"M 349.155235 224.64 \r\nL 350.242248 224.64 \r\nL 350.242248 224.64 \r\nL 349.155235 224.64 \r\nz\r\n\" style=\"fill:#1f77b4;fill-opacity:0.75;stroke:#000000;stroke-linejoin:miter;stroke-width:0.108701;\"/>\r\n   </g>\r\n   <g id=\"patch_268\">\r\n    <path clip-path=\"url(#pf0ec87df2f)\" d=\"M 350.242248 224.64 \r\nL 351.329261 224.64 \r\nL 351.329261 224.64 \r\nL 350.242248 224.64 \r\nz\r\n\" style=\"fill:#1f77b4;fill-opacity:0.75;stroke:#000000;stroke-linejoin:miter;stroke-width:0.108701;\"/>\r\n   </g>\r\n   <g id=\"patch_269\">\r\n    <path clip-path=\"url(#pf0ec87df2f)\" d=\"M 351.329261 224.64 \r\nL 352.416274 224.64 \r\nL 352.416274 224.64 \r\nL 351.329261 224.64 \r\nz\r\n\" style=\"fill:#1f77b4;fill-opacity:0.75;stroke:#000000;stroke-linejoin:miter;stroke-width:0.108701;\"/>\r\n   </g>\r\n   <g id=\"patch_270\">\r\n    <path clip-path=\"url(#pf0ec87df2f)\" d=\"M 352.416274 224.64 \r\nL 353.503287 224.64 \r\nL 353.503287 224.64 \r\nL 352.416274 224.64 \r\nz\r\n\" style=\"fill:#1f77b4;fill-opacity:0.75;stroke:#000000;stroke-linejoin:miter;stroke-width:0.108701;\"/>\r\n   </g>\r\n   <g id=\"patch_271\">\r\n    <path clip-path=\"url(#pf0ec87df2f)\" d=\"M 353.503287 224.64 \r\nL 354.5903 224.64 \r\nL 354.5903 224.64 \r\nL 353.503287 224.64 \r\nz\r\n\" style=\"fill:#1f77b4;fill-opacity:0.75;stroke:#000000;stroke-linejoin:miter;stroke-width:0.108701;\"/>\r\n   </g>\r\n   <g id=\"patch_272\">\r\n    <path clip-path=\"url(#pf0ec87df2f)\" d=\"M 354.5903 224.64 \r\nL 355.677313 224.64 \r\nL 355.677313 224.64 \r\nL 354.5903 224.64 \r\nz\r\n\" style=\"fill:#1f77b4;fill-opacity:0.75;stroke:#000000;stroke-linejoin:miter;stroke-width:0.108701;\"/>\r\n   </g>\r\n   <g id=\"patch_273\">\r\n    <path clip-path=\"url(#pf0ec87df2f)\" d=\"M 355.677313 224.64 \r\nL 356.764326 224.64 \r\nL 356.764326 224.64 \r\nL 355.677313 224.64 \r\nz\r\n\" style=\"fill:#1f77b4;fill-opacity:0.75;stroke:#000000;stroke-linejoin:miter;stroke-width:0.108701;\"/>\r\n   </g>\r\n   <g id=\"patch_274\">\r\n    <path clip-path=\"url(#pf0ec87df2f)\" d=\"M 356.764326 224.64 \r\nL 357.851339 224.64 \r\nL 357.851339 224.64 \r\nL 356.764326 224.64 \r\nz\r\n\" style=\"fill:#1f77b4;fill-opacity:0.75;stroke:#000000;stroke-linejoin:miter;stroke-width:0.108701;\"/>\r\n   </g>\r\n   <g id=\"patch_275\">\r\n    <path clip-path=\"url(#pf0ec87df2f)\" d=\"M 357.851339 224.64 \r\nL 358.938352 224.64 \r\nL 358.938352 224.64 \r\nL 357.851339 224.64 \r\nz\r\n\" style=\"fill:#1f77b4;fill-opacity:0.75;stroke:#000000;stroke-linejoin:miter;stroke-width:0.108701;\"/>\r\n   </g>\r\n   <g id=\"patch_276\">\r\n    <path clip-path=\"url(#pf0ec87df2f)\" d=\"M 358.938352 224.64 \r\nL 360.025365 224.64 \r\nL 360.025365 224.64 \r\nL 358.938352 224.64 \r\nz\r\n\" style=\"fill:#1f77b4;fill-opacity:0.75;stroke:#000000;stroke-linejoin:miter;stroke-width:0.108701;\"/>\r\n   </g>\r\n   <g id=\"patch_277\">\r\n    <path clip-path=\"url(#pf0ec87df2f)\" d=\"M 360.025365 224.64 \r\nL 361.112378 224.64 \r\nL 361.112378 224.64 \r\nL 360.025365 224.64 \r\nz\r\n\" style=\"fill:#1f77b4;fill-opacity:0.75;stroke:#000000;stroke-linejoin:miter;stroke-width:0.108701;\"/>\r\n   </g>\r\n   <g id=\"patch_278\">\r\n    <path clip-path=\"url(#pf0ec87df2f)\" d=\"M 361.112378 224.64 \r\nL 362.199391 224.64 \r\nL 362.199391 224.64 \r\nL 361.112378 224.64 \r\nz\r\n\" style=\"fill:#1f77b4;fill-opacity:0.75;stroke:#000000;stroke-linejoin:miter;stroke-width:0.108701;\"/>\r\n   </g>\r\n   <g id=\"patch_279\">\r\n    <path clip-path=\"url(#pf0ec87df2f)\" d=\"M 362.199391 224.64 \r\nL 363.286404 224.64 \r\nL 363.286404 224.64 \r\nL 362.199391 224.64 \r\nz\r\n\" style=\"fill:#1f77b4;fill-opacity:0.75;stroke:#000000;stroke-linejoin:miter;stroke-width:0.108701;\"/>\r\n   </g>\r\n   <g id=\"patch_280\">\r\n    <path clip-path=\"url(#pf0ec87df2f)\" d=\"M 363.286404 224.64 \r\nL 364.373417 224.64 \r\nL 364.373417 224.64 \r\nL 363.286404 224.64 \r\nz\r\n\" style=\"fill:#1f77b4;fill-opacity:0.75;stroke:#000000;stroke-linejoin:miter;stroke-width:0.108701;\"/>\r\n   </g>\r\n   <g id=\"patch_281\">\r\n    <path clip-path=\"url(#pf0ec87df2f)\" d=\"M 364.373417 224.64 \r\nL 365.46043 224.64 \r\nL 365.46043 224.64 \r\nL 364.373417 224.64 \r\nz\r\n\" style=\"fill:#1f77b4;fill-opacity:0.75;stroke:#000000;stroke-linejoin:miter;stroke-width:0.108701;\"/>\r\n   </g>\r\n   <g id=\"patch_282\">\r\n    <path clip-path=\"url(#pf0ec87df2f)\" d=\"M 365.46043 224.64 \r\nL 366.547443 224.64 \r\nL 366.547443 224.316933 \r\nL 365.46043 224.316933 \r\nz\r\n\" style=\"fill:#1f77b4;fill-opacity:0.75;stroke:#000000;stroke-linejoin:miter;stroke-width:0.108701;\"/>\r\n   </g>\r\n   <g id=\"matplotlib.axis_1\">\r\n    <g id=\"xtick_1\">\r\n     <g id=\"line2d_1\">\r\n      <defs>\r\n       <path d=\"M 0 0 \r\nL 0 3.5 \r\n\" id=\"mdfaadaa0e0\" style=\"stroke:#000000;stroke-width:0.8;\"/>\r\n      </defs>\r\n      <g>\r\n       <use style=\"stroke:#000000;stroke-width:0.8;\" x=\"60.39268\" xlink:href=\"#mdfaadaa0e0\" y=\"224.64\"/>\r\n      </g>\r\n     </g>\r\n     <g id=\"text_1\">\r\n      <!-- 0 -->\r\n      <g transform=\"translate(57.21143 239.238437)scale(0.1 -0.1)\">\r\n       <defs>\r\n        <path d=\"M 2034 4250 \r\nQ 1547 4250 1301 3770 \r\nQ 1056 3291 1056 2328 \r\nQ 1056 1369 1301 889 \r\nQ 1547 409 2034 409 \r\nQ 2525 409 2770 889 \r\nQ 3016 1369 3016 2328 \r\nQ 3016 3291 2770 3770 \r\nQ 2525 4250 2034 4250 \r\nz\r\nM 2034 4750 \r\nQ 2819 4750 3233 4129 \r\nQ 3647 3509 3647 2328 \r\nQ 3647 1150 3233 529 \r\nQ 2819 -91 2034 -91 \r\nQ 1250 -91 836 529 \r\nQ 422 1150 422 2328 \r\nQ 422 3509 836 4129 \r\nQ 1250 4750 2034 4750 \r\nz\r\n\" id=\"DejaVuSans-30\" transform=\"scale(0.015625)\"/>\r\n       </defs>\r\n       <use xlink:href=\"#DejaVuSans-30\"/>\r\n      </g>\r\n     </g>\r\n    </g>\r\n    <g id=\"xtick_2\">\r\n     <g id=\"line2d_2\">\r\n      <g>\r\n       <use style=\"stroke:#000000;stroke-width:0.8;\" x=\"124.361498\" xlink:href=\"#mdfaadaa0e0\" y=\"224.64\"/>\r\n      </g>\r\n     </g>\r\n     <g id=\"text_2\">\r\n      <!-- 500 -->\r\n      <g transform=\"translate(114.817748 239.238437)scale(0.1 -0.1)\">\r\n       <defs>\r\n        <path d=\"M 691 4666 \r\nL 3169 4666 \r\nL 3169 4134 \r\nL 1269 4134 \r\nL 1269 2991 \r\nQ 1406 3038 1543 3061 \r\nQ 1681 3084 1819 3084 \r\nQ 2600 3084 3056 2656 \r\nQ 3513 2228 3513 1497 \r\nQ 3513 744 3044 326 \r\nQ 2575 -91 1722 -91 \r\nQ 1428 -91 1123 -41 \r\nQ 819 9 494 109 \r\nL 494 744 \r\nQ 775 591 1075 516 \r\nQ 1375 441 1709 441 \r\nQ 2250 441 2565 725 \r\nQ 2881 1009 2881 1497 \r\nQ 2881 1984 2565 2268 \r\nQ 2250 2553 1709 2553 \r\nQ 1456 2553 1204 2497 \r\nQ 953 2441 691 2322 \r\nL 691 4666 \r\nz\r\n\" id=\"DejaVuSans-35\" transform=\"scale(0.015625)\"/>\r\n       </defs>\r\n       <use xlink:href=\"#DejaVuSans-35\"/>\r\n       <use x=\"63.623047\" xlink:href=\"#DejaVuSans-30\"/>\r\n       <use x=\"127.246094\" xlink:href=\"#DejaVuSans-30\"/>\r\n      </g>\r\n     </g>\r\n    </g>\r\n    <g id=\"xtick_3\">\r\n     <g id=\"line2d_3\">\r\n      <g>\r\n       <use style=\"stroke:#000000;stroke-width:0.8;\" x=\"188.330316\" xlink:href=\"#mdfaadaa0e0\" y=\"224.64\"/>\r\n      </g>\r\n     </g>\r\n     <g id=\"text_3\">\r\n      <!-- 1000 -->\r\n      <g transform=\"translate(175.605316 239.238437)scale(0.1 -0.1)\">\r\n       <defs>\r\n        <path d=\"M 794 531 \r\nL 1825 531 \r\nL 1825 4091 \r\nL 703 3866 \r\nL 703 4441 \r\nL 1819 4666 \r\nL 2450 4666 \r\nL 2450 531 \r\nL 3481 531 \r\nL 3481 0 \r\nL 794 0 \r\nL 794 531 \r\nz\r\n\" id=\"DejaVuSans-31\" transform=\"scale(0.015625)\"/>\r\n       </defs>\r\n       <use xlink:href=\"#DejaVuSans-31\"/>\r\n       <use x=\"63.623047\" xlink:href=\"#DejaVuSans-30\"/>\r\n       <use x=\"127.246094\" xlink:href=\"#DejaVuSans-30\"/>\r\n       <use x=\"190.869141\" xlink:href=\"#DejaVuSans-30\"/>\r\n      </g>\r\n     </g>\r\n    </g>\r\n    <g id=\"xtick_4\">\r\n     <g id=\"line2d_4\">\r\n      <g>\r\n       <use style=\"stroke:#000000;stroke-width:0.8;\" x=\"252.299134\" xlink:href=\"#mdfaadaa0e0\" y=\"224.64\"/>\r\n      </g>\r\n     </g>\r\n     <g id=\"text_4\">\r\n      <!-- 1500 -->\r\n      <g transform=\"translate(239.574134 239.238437)scale(0.1 -0.1)\">\r\n       <use xlink:href=\"#DejaVuSans-31\"/>\r\n       <use x=\"63.623047\" xlink:href=\"#DejaVuSans-35\"/>\r\n       <use x=\"127.246094\" xlink:href=\"#DejaVuSans-30\"/>\r\n       <use x=\"190.869141\" xlink:href=\"#DejaVuSans-30\"/>\r\n      </g>\r\n     </g>\r\n    </g>\r\n    <g id=\"xtick_5\">\r\n     <g id=\"line2d_5\">\r\n      <g>\r\n       <use style=\"stroke:#000000;stroke-width:0.8;\" x=\"316.267952\" xlink:href=\"#mdfaadaa0e0\" y=\"224.64\"/>\r\n      </g>\r\n     </g>\r\n     <g id=\"text_5\">\r\n      <!-- 2000 -->\r\n      <g transform=\"translate(303.542952 239.238437)scale(0.1 -0.1)\">\r\n       <defs>\r\n        <path d=\"M 1228 531 \r\nL 3431 531 \r\nL 3431 0 \r\nL 469 0 \r\nL 469 531 \r\nQ 828 903 1448 1529 \r\nQ 2069 2156 2228 2338 \r\nQ 2531 2678 2651 2914 \r\nQ 2772 3150 2772 3378 \r\nQ 2772 3750 2511 3984 \r\nQ 2250 4219 1831 4219 \r\nQ 1534 4219 1204 4116 \r\nQ 875 4013 500 3803 \r\nL 500 4441 \r\nQ 881 4594 1212 4672 \r\nQ 1544 4750 1819 4750 \r\nQ 2544 4750 2975 4387 \r\nQ 3406 4025 3406 3419 \r\nQ 3406 3131 3298 2873 \r\nQ 3191 2616 2906 2266 \r\nQ 2828 2175 2409 1742 \r\nQ 1991 1309 1228 531 \r\nz\r\n\" id=\"DejaVuSans-32\" transform=\"scale(0.015625)\"/>\r\n       </defs>\r\n       <use xlink:href=\"#DejaVuSans-32\"/>\r\n       <use x=\"63.623047\" xlink:href=\"#DejaVuSans-30\"/>\r\n       <use x=\"127.246094\" xlink:href=\"#DejaVuSans-30\"/>\r\n       <use x=\"190.869141\" xlink:href=\"#DejaVuSans-30\"/>\r\n      </g>\r\n     </g>\r\n    </g>\r\n    <g id=\"xtick_6\">\r\n     <g id=\"line2d_6\">\r\n      <g>\r\n       <use style=\"stroke:#000000;stroke-width:0.8;\" x=\"380.23677\" xlink:href=\"#mdfaadaa0e0\" y=\"224.64\"/>\r\n      </g>\r\n     </g>\r\n     <g id=\"text_6\">\r\n      <!-- 2500 -->\r\n      <g transform=\"translate(367.51177 239.238437)scale(0.1 -0.1)\">\r\n       <use xlink:href=\"#DejaVuSans-32\"/>\r\n       <use x=\"63.623047\" xlink:href=\"#DejaVuSans-35\"/>\r\n       <use x=\"127.246094\" xlink:href=\"#DejaVuSans-30\"/>\r\n       <use x=\"190.869141\" xlink:href=\"#DejaVuSans-30\"/>\r\n      </g>\r\n     </g>\r\n    </g>\r\n   </g>\r\n   <g id=\"matplotlib.axis_2\">\r\n    <g id=\"ytick_1\">\r\n     <g id=\"line2d_7\">\r\n      <defs>\r\n       <path d=\"M 0 0 \r\nL -3.5 0 \r\n\" id=\"me75e8a2d2f\" style=\"stroke:#000000;stroke-width:0.8;\"/>\r\n      </defs>\r\n      <g>\r\n       <use style=\"stroke:#000000;stroke-width:0.8;\" x=\"46.965625\" xlink:href=\"#me75e8a2d2f\" y=\"224.64\"/>\r\n      </g>\r\n     </g>\r\n     <g id=\"text_7\">\r\n      <!-- 0 -->\r\n      <g transform=\"translate(33.603125 228.439219)scale(0.1 -0.1)\">\r\n       <use xlink:href=\"#DejaVuSans-30\"/>\r\n      </g>\r\n     </g>\r\n    </g>\r\n    <g id=\"ytick_2\">\r\n     <g id=\"line2d_8\">\r\n      <g>\r\n       <use style=\"stroke:#000000;stroke-width:0.8;\" x=\"46.965625\" xlink:href=\"#me75e8a2d2f\" y=\"192.333336\"/>\r\n      </g>\r\n     </g>\r\n     <g id=\"text_8\">\r\n      <!-- 100 -->\r\n      <g transform=\"translate(20.878125 196.132555)scale(0.1 -0.1)\">\r\n       <use xlink:href=\"#DejaVuSans-31\"/>\r\n       <use x=\"63.623047\" xlink:href=\"#DejaVuSans-30\"/>\r\n       <use x=\"127.246094\" xlink:href=\"#DejaVuSans-30\"/>\r\n      </g>\r\n     </g>\r\n    </g>\r\n    <g id=\"ytick_3\">\r\n     <g id=\"line2d_9\">\r\n      <g>\r\n       <use style=\"stroke:#000000;stroke-width:0.8;\" x=\"46.965625\" xlink:href=\"#me75e8a2d2f\" y=\"160.026673\"/>\r\n      </g>\r\n     </g>\r\n     <g id=\"text_9\">\r\n      <!-- 200 -->\r\n      <g transform=\"translate(20.878125 163.825891)scale(0.1 -0.1)\">\r\n       <use xlink:href=\"#DejaVuSans-32\"/>\r\n       <use x=\"63.623047\" xlink:href=\"#DejaVuSans-30\"/>\r\n       <use x=\"127.246094\" xlink:href=\"#DejaVuSans-30\"/>\r\n      </g>\r\n     </g>\r\n    </g>\r\n    <g id=\"ytick_4\">\r\n     <g id=\"line2d_10\">\r\n      <g>\r\n       <use style=\"stroke:#000000;stroke-width:0.8;\" x=\"46.965625\" xlink:href=\"#me75e8a2d2f\" y=\"127.720009\"/>\r\n      </g>\r\n     </g>\r\n     <g id=\"text_10\">\r\n      <!-- 300 -->\r\n      <g transform=\"translate(20.878125 131.519228)scale(0.1 -0.1)\">\r\n       <defs>\r\n        <path d=\"M 2597 2516 \r\nQ 3050 2419 3304 2112 \r\nQ 3559 1806 3559 1356 \r\nQ 3559 666 3084 287 \r\nQ 2609 -91 1734 -91 \r\nQ 1441 -91 1130 -33 \r\nQ 819 25 488 141 \r\nL 488 750 \r\nQ 750 597 1062 519 \r\nQ 1375 441 1716 441 \r\nQ 2309 441 2620 675 \r\nQ 2931 909 2931 1356 \r\nQ 2931 1769 2642 2001 \r\nQ 2353 2234 1838 2234 \r\nL 1294 2234 \r\nL 1294 2753 \r\nL 1863 2753 \r\nQ 2328 2753 2575 2939 \r\nQ 2822 3125 2822 3475 \r\nQ 2822 3834 2567 4026 \r\nQ 2313 4219 1838 4219 \r\nQ 1578 4219 1281 4162 \r\nQ 984 4106 628 3988 \r\nL 628 4550 \r\nQ 988 4650 1302 4700 \r\nQ 1616 4750 1894 4750 \r\nQ 2613 4750 3031 4423 \r\nQ 3450 4097 3450 3541 \r\nQ 3450 3153 3228 2886 \r\nQ 3006 2619 2597 2516 \r\nz\r\n\" id=\"DejaVuSans-33\" transform=\"scale(0.015625)\"/>\r\n       </defs>\r\n       <use xlink:href=\"#DejaVuSans-33\"/>\r\n       <use x=\"63.623047\" xlink:href=\"#DejaVuSans-30\"/>\r\n       <use x=\"127.246094\" xlink:href=\"#DejaVuSans-30\"/>\r\n      </g>\r\n     </g>\r\n    </g>\r\n    <g id=\"ytick_5\">\r\n     <g id=\"line2d_11\">\r\n      <g>\r\n       <use style=\"stroke:#000000;stroke-width:0.8;\" x=\"46.965625\" xlink:href=\"#me75e8a2d2f\" y=\"95.413345\"/>\r\n      </g>\r\n     </g>\r\n     <g id=\"text_11\">\r\n      <!-- 400 -->\r\n      <g transform=\"translate(20.878125 99.212564)scale(0.1 -0.1)\">\r\n       <defs>\r\n        <path d=\"M 2419 4116 \r\nL 825 1625 \r\nL 2419 1625 \r\nL 2419 4116 \r\nz\r\nM 2253 4666 \r\nL 3047 4666 \r\nL 3047 1625 \r\nL 3713 1625 \r\nL 3713 1100 \r\nL 3047 1100 \r\nL 3047 0 \r\nL 2419 0 \r\nL 2419 1100 \r\nL 313 1100 \r\nL 313 1709 \r\nL 2253 4666 \r\nz\r\n\" id=\"DejaVuSans-34\" transform=\"scale(0.015625)\"/>\r\n       </defs>\r\n       <use xlink:href=\"#DejaVuSans-34\"/>\r\n       <use x=\"63.623047\" xlink:href=\"#DejaVuSans-30\"/>\r\n       <use x=\"127.246094\" xlink:href=\"#DejaVuSans-30\"/>\r\n      </g>\r\n     </g>\r\n    </g>\r\n    <g id=\"ytick_6\">\r\n     <g id=\"line2d_12\">\r\n      <g>\r\n       <use style=\"stroke:#000000;stroke-width:0.8;\" x=\"46.965625\" xlink:href=\"#me75e8a2d2f\" y=\"63.106682\"/>\r\n      </g>\r\n     </g>\r\n     <g id=\"text_12\">\r\n      <!-- 500 -->\r\n      <g transform=\"translate(20.878125 66.9059)scale(0.1 -0.1)\">\r\n       <use xlink:href=\"#DejaVuSans-35\"/>\r\n       <use x=\"63.623047\" xlink:href=\"#DejaVuSans-30\"/>\r\n       <use x=\"127.246094\" xlink:href=\"#DejaVuSans-30\"/>\r\n      </g>\r\n     </g>\r\n    </g>\r\n    <g id=\"ytick_7\">\r\n     <g id=\"line2d_13\">\r\n      <g>\r\n       <use style=\"stroke:#000000;stroke-width:0.8;\" x=\"46.965625\" xlink:href=\"#me75e8a2d2f\" y=\"30.800018\"/>\r\n      </g>\r\n     </g>\r\n     <g id=\"text_13\">\r\n      <!-- 600 -->\r\n      <g transform=\"translate(20.878125 34.599237)scale(0.1 -0.1)\">\r\n       <defs>\r\n        <path d=\"M 2113 2584 \r\nQ 1688 2584 1439 2293 \r\nQ 1191 2003 1191 1497 \r\nQ 1191 994 1439 701 \r\nQ 1688 409 2113 409 \r\nQ 2538 409 2786 701 \r\nQ 3034 994 3034 1497 \r\nQ 3034 2003 2786 2293 \r\nQ 2538 2584 2113 2584 \r\nz\r\nM 3366 4563 \r\nL 3366 3988 \r\nQ 3128 4100 2886 4159 \r\nQ 2644 4219 2406 4219 \r\nQ 1781 4219 1451 3797 \r\nQ 1122 3375 1075 2522 \r\nQ 1259 2794 1537 2939 \r\nQ 1816 3084 2150 3084 \r\nQ 2853 3084 3261 2657 \r\nQ 3669 2231 3669 1497 \r\nQ 3669 778 3244 343 \r\nQ 2819 -91 2113 -91 \r\nQ 1303 -91 875 529 \r\nQ 447 1150 447 2328 \r\nQ 447 3434 972 4092 \r\nQ 1497 4750 2381 4750 \r\nQ 2619 4750 2861 4703 \r\nQ 3103 4656 3366 4563 \r\nz\r\n\" id=\"DejaVuSans-36\" transform=\"scale(0.015625)\"/>\r\n       </defs>\r\n       <use xlink:href=\"#DejaVuSans-36\"/>\r\n       <use x=\"63.623047\" xlink:href=\"#DejaVuSans-30\"/>\r\n       <use x=\"127.246094\" xlink:href=\"#DejaVuSans-30\"/>\r\n      </g>\r\n     </g>\r\n    </g>\r\n    <g id=\"text_14\">\r\n     <!-- Count -->\r\n     <g transform=\"translate(14.798438 130.768437)rotate(-90)scale(0.1 -0.1)\">\r\n      <defs>\r\n       <path d=\"M 4122 4306 \r\nL 4122 3641 \r\nQ 3803 3938 3442 4084 \r\nQ 3081 4231 2675 4231 \r\nQ 1875 4231 1450 3742 \r\nQ 1025 3253 1025 2328 \r\nQ 1025 1406 1450 917 \r\nQ 1875 428 2675 428 \r\nQ 3081 428 3442 575 \r\nQ 3803 722 4122 1019 \r\nL 4122 359 \r\nQ 3791 134 3420 21 \r\nQ 3050 -91 2638 -91 \r\nQ 1578 -91 968 557 \r\nQ 359 1206 359 2328 \r\nQ 359 3453 968 4101 \r\nQ 1578 4750 2638 4750 \r\nQ 3056 4750 3426 4639 \r\nQ 3797 4528 4122 4306 \r\nz\r\n\" id=\"DejaVuSans-43\" transform=\"scale(0.015625)\"/>\r\n       <path d=\"M 1959 3097 \r\nQ 1497 3097 1228 2736 \r\nQ 959 2375 959 1747 \r\nQ 959 1119 1226 758 \r\nQ 1494 397 1959 397 \r\nQ 2419 397 2687 759 \r\nQ 2956 1122 2956 1747 \r\nQ 2956 2369 2687 2733 \r\nQ 2419 3097 1959 3097 \r\nz\r\nM 1959 3584 \r\nQ 2709 3584 3137 3096 \r\nQ 3566 2609 3566 1747 \r\nQ 3566 888 3137 398 \r\nQ 2709 -91 1959 -91 \r\nQ 1206 -91 779 398 \r\nQ 353 888 353 1747 \r\nQ 353 2609 779 3096 \r\nQ 1206 3584 1959 3584 \r\nz\r\n\" id=\"DejaVuSans-6f\" transform=\"scale(0.015625)\"/>\r\n       <path d=\"M 544 1381 \r\nL 544 3500 \r\nL 1119 3500 \r\nL 1119 1403 \r\nQ 1119 906 1312 657 \r\nQ 1506 409 1894 409 \r\nQ 2359 409 2629 706 \r\nQ 2900 1003 2900 1516 \r\nL 2900 3500 \r\nL 3475 3500 \r\nL 3475 0 \r\nL 2900 0 \r\nL 2900 538 \r\nQ 2691 219 2414 64 \r\nQ 2138 -91 1772 -91 \r\nQ 1169 -91 856 284 \r\nQ 544 659 544 1381 \r\nz\r\nM 1991 3584 \r\nL 1991 3584 \r\nz\r\n\" id=\"DejaVuSans-75\" transform=\"scale(0.015625)\"/>\r\n       <path d=\"M 3513 2113 \r\nL 3513 0 \r\nL 2938 0 \r\nL 2938 2094 \r\nQ 2938 2591 2744 2837 \r\nQ 2550 3084 2163 3084 \r\nQ 1697 3084 1428 2787 \r\nQ 1159 2491 1159 1978 \r\nL 1159 0 \r\nL 581 0 \r\nL 581 3500 \r\nL 1159 3500 \r\nL 1159 2956 \r\nQ 1366 3272 1645 3428 \r\nQ 1925 3584 2291 3584 \r\nQ 2894 3584 3203 3211 \r\nQ 3513 2838 3513 2113 \r\nz\r\n\" id=\"DejaVuSans-6e\" transform=\"scale(0.015625)\"/>\r\n       <path d=\"M 1172 4494 \r\nL 1172 3500 \r\nL 2356 3500 \r\nL 2356 3053 \r\nL 1172 3053 \r\nL 1172 1153 \r\nQ 1172 725 1289 603 \r\nQ 1406 481 1766 481 \r\nL 2356 481 \r\nL 2356 0 \r\nL 1766 0 \r\nQ 1100 0 847 248 \r\nQ 594 497 594 1153 \r\nL 594 3053 \r\nL 172 3053 \r\nL 172 3500 \r\nL 594 3500 \r\nL 594 4494 \r\nL 1172 4494 \r\nz\r\n\" id=\"DejaVuSans-74\" transform=\"scale(0.015625)\"/>\r\n      </defs>\r\n      <use xlink:href=\"#DejaVuSans-43\"/>\r\n      <use x=\"69.824219\" xlink:href=\"#DejaVuSans-6f\"/>\r\n      <use x=\"131.005859\" xlink:href=\"#DejaVuSans-75\"/>\r\n      <use x=\"194.384766\" xlink:href=\"#DejaVuSans-6e\"/>\r\n      <use x=\"257.763672\" xlink:href=\"#DejaVuSans-74\"/>\r\n     </g>\r\n    </g>\r\n   </g>\r\n   <g id=\"patch_283\">\r\n    <path d=\"M 46.965625 224.64 \r\nL 46.965625 7.2 \r\n\" style=\"fill:none;stroke:#000000;stroke-linecap:square;stroke-linejoin:miter;stroke-width:0.8;\"/>\r\n   </g>\r\n   <g id=\"patch_284\">\r\n    <path d=\"M 381.765625 224.64 \r\nL 381.765625 7.2 \r\n\" style=\"fill:none;stroke:#000000;stroke-linecap:square;stroke-linejoin:miter;stroke-width:0.8;\"/>\r\n   </g>\r\n   <g id=\"patch_285\">\r\n    <path d=\"M 46.965625 224.64 \r\nL 381.765625 224.64 \r\n\" style=\"fill:none;stroke:#000000;stroke-linecap:square;stroke-linejoin:miter;stroke-width:0.8;\"/>\r\n   </g>\r\n   <g id=\"patch_286\">\r\n    <path d=\"M 46.965625 7.2 \r\nL 381.765625 7.2 \r\n\" style=\"fill:none;stroke:#000000;stroke-linecap:square;stroke-linejoin:miter;stroke-width:0.8;\"/>\r\n   </g>\r\n  </g>\r\n </g>\r\n <defs>\r\n  <clipPath id=\"pf0ec87df2f\">\r\n   <rect height=\"217.44\" width=\"334.8\" x=\"46.965625\" y=\"7.2\"/>\r\n  </clipPath>\r\n </defs>\r\n</svg>\r\n",
      "image/png": "[encoded data removed]"
     },
     "metadata": {
      "needs_background": "light"
     }
    }
   ],
   "source": [
    "import seaborn as sns\n",
    "\n",
    "sns.histplot(lens)"
   ]
  },
  {
   "cell_type": "code",
   "execution_count": 12,
   "metadata": {},
   "outputs": [
    {
     "output_type": "stream",
     "name": "stdout",
     "text": [
      "[36, 91]\n"
     ]
    }
   ],
   "source": [
    "from collections import Counter\n",
    "\n",
    "d = Counter(lens)\n",
    "median = [0, 0]\n",
    "for k, v in d.items():\n",
    "    if v > median[1]:\n",
    "        median = [k, v]\n",
    "print(median)"
   ]
  },
  {
   "cell_type": "code",
   "execution_count": 13,
   "metadata": {},
   "outputs": [
    {
     "output_type": "execute_result",
     "data": {
      "text/plain": [
       "5954"
      ]
     },
     "metadata": {},
     "execution_count": 13
    }
   ],
   "source": [
    "sum(list(d.values()))"
   ]
  },
  {
   "cell_type": "code",
   "execution_count": 21,
   "metadata": {},
   "outputs": [
    {
     "output_type": "execute_result",
     "data": {
      "text/plain": [
       "83"
      ]
     },
     "metadata": {},
     "execution_count": 21
    }
   ],
   "source": [
    "d[39]"
   ]
  },
  {
   "cell_type": "code",
   "execution_count": 10,
   "metadata": {},
   "outputs": [
    {
     "output_type": "stream",
     "name": "stdout",
     "text": [
      "Corpus length: 630844\nTotal chars: 52\nNumber of sequences: 210268\n"
     ]
    }
   ],
   "source": [
    "# Quote List\n",
    "quotes = list(df.quote)\n",
    "\n",
    "# Corpus\n",
    "text = ''\n",
    "for q in quotes:\n",
    "    text += ' ' + q\n",
    "print(\"Corpus length:\", len(text))\n",
    "text = text.lower()\n",
    "\n",
    "# Total Characters\n",
    "chars = sorted(list(set(text)))\n",
    "print(\"Total chars:\", len(chars))\n",
    "\n",
    "# Dictionaries\n",
    "char_indices = dict((c, i) for i, c in enumerate(chars))\n",
    "indices_char = dict((i, c) for i, c in enumerate(chars))\n",
    "\n",
    "# Number of sequences\n",
    "maxlen = 40\n",
    "step = 3\n",
    "sentences = []\n",
    "next_chars = []\n",
    "for i in range(0, len(text) - maxlen, step):\n",
    "    sentences.append(text[i : i + maxlen])\n",
    "    next_chars.append(text[i + maxlen])\n",
    "print(\"Number of sequences:\", len(sentences))"
   ]
  },
  {
   "cell_type": "code",
   "execution_count": 11,
   "metadata": {},
   "outputs": [],
   "source": [
    "# Defining X and y\n",
    "x = np.zeros((len(sentences), maxlen, len(chars)), dtype=np.bool)\n",
    "y = np.zeros((len(sentences), len(chars)), dtype=np.bool)\n",
    "for i, sentence in enumerate(sentences):\n",
    "    for t, char in enumerate(sentence):\n",
    "        x[i, t, char_indices[char]] = 1\n",
    "    y[i, char_indices[next_chars[i]]] = 1"
   ]
  },
  {
   "source": [
    "## 1.2. Building the Model"
   ],
   "cell_type": "markdown",
   "metadata": {}
  },
  {
   "cell_type": "code",
   "execution_count": 44,
   "metadata": {},
   "outputs": [],
   "source": [
    "model = keras.Sequential(\n",
    "    [\n",
    "        keras.layers.InputLayer(input_shape=(maxlen, len(chars))),\n",
    "        layers.LSTM(128),\n",
    "        layers.Dense(len(chars), activation=\"softmax\"),\n",
    "    ]\n",
    ")\n",
    "optimizer = keras.optimizers.RMSprop(learning_rate=0.01)\n",
    "model.compile(loss=\"categorical_crossentropy\", optimizer=optimizer)"
   ]
  },
  {
   "cell_type": "code",
   "execution_count": 9,
   "metadata": {},
   "outputs": [],
   "source": [
    "B_model = keras.Sequential([\n",
    "        keras.layers.InputLayer(input_shape=(maxlen, len(chars))),\n",
    "        keras.layers.Bidirectional(layers.LSTM(128)),\n",
    "        layers.Dense(len(chars), activation=\"softmax\"),\n",
    "        ])\n",
    "optimizer = keras.optimizers.RMSprop(learning_rate=0.01)\n",
    "B_model.compile(loss=\"categorical_crossentropy\", optimizer=optimizer)"
   ]
  },
  {
   "cell_type": "code",
   "execution_count": 26,
   "metadata": {},
   "outputs": [
    {
     "output_type": "stream",
     "name": "stdout",
     "text": [
      "Model: \"sequential_5\"\n_________________________________________________________________\nLayer (type)                 Output Shape              Param #   \n=================================================================\nlstm_6 (LSTM)                (None, 128)               92672     \n_________________________________________________________________\ndense_5 (Dense)              (None, 52)                6708      \n_________________________________________________________________\nleaky_re_lu_5 (LeakyReLU)    (None, 52)                0         \n=================================================================\nTotal params: 99,380\nTrainable params: 99,380\nNon-trainable params: 0\n_________________________________________________________________\n"
     ]
    }
   ],
   "source": [
    "generator = keras.Sequential([\n",
    "    keras.layers.InputLayer(input_shape=(maxlen, len(chars))),\n",
    "    layers.LSTM(128),#, return_sequences=True),\n",
    "    layers.Dense(len(chars), activation='relu'),\n",
    "    layers.LeakyReLU(alpha=0.2)\n",
    "])\n",
    "\n",
    "generator.summary()"
   ]
  },
  {
   "cell_type": "code",
   "execution_count": 27,
   "metadata": {},
   "outputs": [],
   "source": [
    "optimizer = keras.optimizers.RMSprop(learning_rate=0.01)\n",
    "generator.compile(loss=\"categorical_crossentropy\", optimizer=optimizer)"
   ]
  },
  {
   "cell_type": "code",
   "execution_count": 10,
   "metadata": {},
   "outputs": [],
   "source": [
    "def sample(preds, temperature=1.0):\n",
    "    # helper function to sample an index from a probability array\n",
    "    preds = np.asarray(preds).astype(\"float64\")\n",
    "    preds = np.log(preds) / temperature\n",
    "    exp_preds = np.exp(preds)\n",
    "    preds = exp_preds / np.sum(exp_preds)\n",
    "    probas = np.random.multinomial(1, preds, 1)\n",
    "    return np.argmax(probas)"
   ]
  },
  {
   "source": [
    "## 1.3. Training the Model"
   ],
   "cell_type": "markdown",
   "metadata": {}
  },
  {
   "cell_type": "code",
   "execution_count": 46,
   "metadata": {
    "tags": [
     "outputPrepend"
    ]
   },
   "outputs": [
    {
     "output_type": "stream",
     "name": "stdout",
     "text": [
      "\n",
      "...Generated:   you night, thent hole are fucking dashon plan! Potter open to a blackes. To the times... shand... and feel into the Can civatte, and you're going to servick the side. They make anything. And I don't make anyone wanna comes my neirk with rung so deal back of uncartre? This is your seeing like the bourno kik, phocwly getheag alright my drise was gonna not again thing over to buy the offest, but old\n",
      "\n",
      "...Diversity: 1.2\n",
      "...Generating with seed: \" of perm maintenance that you are forbid\"\n",
      "...Generated:  . Wellohimle was the book of tking preeps thy write waathed. Tumblet. I got the comubbaly you always take ciss. Barconice? eye talking? if we have listen on the oictomat's inherition tires as much Sum forgevin's myself! I can't hel lay e, anesses, foutly wrongs  gh them posstr, , reach inseers to get horrib. She a makin' back I I am I? That's ago around. Ssigging. This willing I started him nigyes\n",
      "\n",
      "1643/1643 [==============================] - 88s 54ms/step - loss: 1.3785\n",
      "\n",
      "Generating text after epoch: 31\n",
      "...Diversity: 0.2\n",
      "...Generating with seed: \"essed just the same. And crawling, on th\"\n",
      "...Generated:  e days that the streets and the man was a brank that the streets that the fucking house, the shit in the strong and the world what the start of the straight to the streets of the end is the end to see the street. I was the strong and the mother and the street that that where you don't know what the shit. I say it was a blood. I was a strong and the months on the same and the stufffried thing that \n",
      "\n",
      "...Diversity: 0.5\n",
      "...Generating with seed: \"essed just the same. And crawling, on th\"\n",
      "...Generated:  e start in my dessure in the end that was a choke. I don't know what the count has but the last that the most because I want to like to make a brain the man will all a book to the last. What had the count was from the second to the straight. I have the straight with sick of had that a country. I secons that movie. It's a little back to the man of the same a show... on the second plane as a plane t\n",
      "\n",
      "...Diversity: 1.0\n",
      "...Generating with seed: \"essed just the same. And crawling, on th\"\n",
      "...Generated:  e coloction. Wanna be dangerous flag. My rone, old goodwjet more little morning there, slaviagar tonight-or most... I'm all nothing collo. I've been like a laying, we was what-you're only - I'm faceafudments or elmby. Oh, junt say, do, you know what we mean we all know holdies strong heary, don't believe in for with nicter with one threat forgot, but I can be be. You gonna be Banch? What's gonna b\n",
      "\n",
      "...Diversity: 1.2\n",
      "...Generating with seed: \"essed just the same. And crawling, on th\"\n",
      "...Generated:  is-b... How much Countyie in hang breeds of engul ! she'll be ulawa them. I remess in, my thing. There brakesin' up causes eld of this best to g baby!. Thankout tiaress funger of romation I've ammn id, to tomake eone! I wad that. You think's always you want kiel? We out of Wass forty ? You is an explean me mird are juil. he's an aving me in already thousy. Slashous out. Thunkie! You like it. It kn\n",
      "\n",
      "1643/1643 [==============================] - 139s 85ms/step - loss: 1.3768\n",
      "\n",
      "Generating text after epoch: 32\n",
      "...Diversity: 0.2\n",
      "...Generating with seed: \" toe! Why don't you make like a tree, an\"\n",
      "...Generated:  d I want to see the sound of the show the world. The world and the true house the story! I'm the see what we can take and the one thing about the country. It's a lot of the story of the time the thing that was a time the head to the more with a bad be a book of a possies of the soul. If you want to know where we can't be find the second to be a bad of the show me and the one thing is the straight \n",
      "\n",
      "...Diversity: 0.5\n",
      "...Generating with seed: \" toe! Why don't you make like a tree, an\"\n",
      "...Generated:  d I'm we we content to the a doctor, the truth you exporine to do the first time. My death the back and the sign of my something my ass seemens, raring attention. Who seem worth and like this school that do write a straight to him it was to say? Man. You have to be nothing about that for the world. Who was who should got a ball. I was to me to first loved the scentaine his time to lest first of th\n",
      "\n",
      "...Diversity: 1.0\n",
      "...Generating with seed: \" toe! Why don't you make like a tree, an\"\n",
      "...Generated:  d I'm making loving from these father from either home! But you're Jack's not oney? I've a bittoce billade that a ork here born holage to there yet. Those trie? My alrolly, it's viecouddons! Fell happens? Between, so are devint. So romnute. I gig on's it. The rother lightring never not died?  We plehed tee aidfry doubt the've place. You know theus? You be engorst here you're beautiful? De, thy bet\n",
      "\n",
      "...Diversity: 1.2\n",
      "...Generating with seed: \" toe! Why don't you make like a tree, an\"\n",
      "...Generated:  d read in me, Dr?a it's an eners. You will ownd doing upsued killed your ccolore? I am, a same. Nold!\" Mieder your turnsta straighe thing. You think's do, but sompise and make a gether, insered otch! Tholegeve ideal ameals\" be with tce? This survivang will snup haved you! I pisile are, I'm police! I'm hore thanglendrosmy, but my tle roose. You repolrace. Motherce. Signis. Deer, equinsy ek - close \n",
      "\n",
      "1643/1643 [==============================] - 134s 82ms/step - loss: 1.3742\n",
      "\n",
      "Generating text after epoch: 33\n",
      "...Diversity: 0.2\n",
      "...Generating with seed: \" in the middle of her act. It may sound \"\n",
      "...Generated:  the book. I was not been a book the fuckin' special things and the money and the story will be a book and the time the book of the books of the book. I don't know that is the best money the most beautiful in the shit of the best man was a bad save for me where you say you got a book and the sound the money to the most with the book. I have to take a lot of the sound that we have a courton in the w\n",
      "\n",
      "...Diversity: 0.5\n",
      "...Generating with seed: \" in the middle of her act. It may sound \"\n",
      "...Generated:  the sound the fuckin' living as you mean, you got a children. I can't be better love it will be born on the man and sure that burned to be here, and the ward, I can do with me in my good site for the moment for a busines to strip, you looked and here we don't be a light people who are me, or any own his little decial of a beautiful and see it will be bad now, I'm like this basion. I was always mak\n",
      "\n",
      "...Diversity: 1.0\n",
      "...Generating with seed: \" in the middle of her act. It may sound \"\n",
      "...Generated:  home wasn't haved. Leave it, forced and even tell it but he n't elcus so hit the niwnit happens. The nation of the peast. There's gonna do, esch-anvather can slike you for shaked so the father beswe. Many worth. I got there... are whatever it's the dine trustence life. I love in the man will citfl my complete srhiliding? tulls oh myself about they think you'd suppect court. Don't know when I have \n",
      "\n",
      "...Diversity: 1.2\n",
      "...Generating with seed: \" in the middle of her act. It may sound \"\n",
      "...Generated:  wasing it! ifest cathaciad, smy under somenougiles specker. Dony dog asswarching devement? Treaces, realassion, huk. Just need you, man... reff the Cared spectorouprer rown cull's par. Oce tion back. Tucks asppsed if I almost there, a good embinsman! expency over Afires cuek deciality, but sup, try's gets you... inlets angels againse someinden's time that when you feel and folkand just lates about\n",
      "\n",
      "1643/1643 [==============================] - 100s 61ms/step - loss: 1.3740\n",
      "\n",
      "Generating text after epoch: 34\n",
      "...Diversity: 0.2\n",
      "...Generating with seed: \"inkin' about him gives me the 'willies.'\"\n",
      "...Generated:   and the chance the world in the way and the shit of the way they were the way the way and straight on the head to be a ching and the station of the way they want to do it the straight to the best the story of the world the fucking thing that was a single of the way they were the secons of the second than the straights that we got the way they were a day they want to be a man. I was a good the shi\n",
      "\n",
      "...Diversity: 0.5\n",
      "...Generating with seed: \"inkin' about him gives me the 'willies.'\"\n",
      "...Generated:   is your hands of a brokeres, it's the counst of a time with the shit have it the sick. It's the best how on the world that mean the second complangty of the first man is a man. I'm a strong the less the head in the way of the most of the way they don't take a large to leave the motherfucker. I'm just about the laws who makes toucl him. You can't think they should think you'll be a prince of the t\n",
      "\n",
      "...Diversity: 1.0\n",
      "...Generating with seed: \"inkin' about him gives me the 'willies.'\"\n",
      "...Generated:   think that Millgr has h.... Nothing afrdainally up palming and up, we want one of your runnin' man, mital maugnes. You am anywhed, they sen. I'm reportin' me, one thing that's a sfin'. I don't in your ffels, never lead a namel door, whatever you stand to canna rota, no realy... they emptair. He's a back of the whole weakert being another breath. With us we pre*w I sick in your stripty part a parm\n",
      "\n",
      "...Diversity: 1.2\n",
      "...Generating with seed: \"inkin' about him gives me the 'willies.'\"\n",
      "...Generated:  . Than you were my chyangelt for swaz? 'Fork sorvossion number finstherhipfes, it's your glow, not going a tchoso already move. I am Txpes of anoth! I'm have! Have you mistake have eyes are from outchad tow thels. From her their flids don't alpostecked as as theyt found you will... might, is with the saceny up like. Neid is the trunes moke to fell we mother-us, mad? Them. We'll sal were my macker!\n",
      "\n",
      "1643/1643 [==============================] - 110s 67ms/step - loss: 1.3704\n",
      "\n",
      "Generating text after epoch: 35\n",
      "...Diversity: 0.2\n",
      "...Generating with seed: \"net! Hack the planet! Kid, don't threate\"\n",
      "...Generated:   the whole person and the whole hell and well when you see the sure the fuckin' shit of the best of the country and the whole hell of the best of the straight of the fucking to see a children the thing to the little dead me. I sure we all start the way the start of a back to the country and the world and the fuckin' where I was a courtrist! I am a strong the start of the first time to the first ti\n",
      "\n",
      "...Diversity: 0.5\n",
      "...Generating with seed: \"net! Hack the planet! Kid, don't threate\"\n",
      "...Generated:   you well. You want to show you a great too hours. You know what I was facting for the warried train to secie. I don't know what I was the one thing that was a motherfucker. Well, I sick. Well, I gotta face in the pourh. I think they're going to be making the wrable, my people is deal something in the bargion of the trouble. I sure and the machins. I can burn to do it. Sillfone more are the procti\n",
      "\n",
      "...Diversity: 1.0\n",
      "...Generating with seed: \"net! Hack the planet! Kid, don't threate\"\n",
      "...Generated:  ! You don't sigm an is and let projict were as the double rich like brain at Aings bicable works. The body you less in club. I can't riseed you a fines. You've red we are w ards. The fight diin't. He can be guilth and that will be at my country, taking doing even besides. Deers. You some fuckuding. Don'tcy and they you kid hold, then you the unidiches is I try to get the nightbne fear. here. You s\n",
      "\n",
      "...Diversity: 1.2\n",
      "...Generating with seed: \"net! Hack the planet! Kid, don't threate\"\n",
      "...Generated:   it... Hitlly, or destory, is too, it, Hallwerecting thinks it?l\". I with my entine girlstor. Your brunon, seod. Iew heary! These stops, never of you. The actuall mydard in your haffe. They donat, falls, and twenth\"dle. Let efj, thiry truth, palho, Machine and to starthy lass, what to Addir caln?to don't pand. ett \"An rewhepafer? Put it, older Crefer ere-t! You know... if for whet belies lort take\n",
      "\n",
      "1643/1643 [==============================] - 107s 65ms/step - loss: 1.3691\n",
      "\n",
      "Generating text after epoch: 36\n",
      "...Diversity: 0.2\n",
      "...Generating with seed: \"t, 'Co-Hee!' So I'm like, \"Yo ill give i\"\n",
      "...Generated:  t the best of the country. I want to be a man of the part of the thing to the street and they want to see that which is the part of the money. I was a minute that is the money. I want to take a life in the world. I want to be a problem of the second of the simple of the simple of the simul reason worth the shit that they started the part of the second of the second than a bitch and they can be sta\n",
      "\n",
      "...Diversity: 0.5\n",
      "...Generating with seed: \"t, 'Co-Hee!' So I'm like, \"Yo ill give i\"\n",
      "...Generated:  t the courtrook in the sun and the second of the firstumbly of the one than you have to started the new dead up the street for the wrong submersion in the guy they didn't have about the shirt of the people of children. Where you want to be back to suppose our new casto who that you are where there's a worth and they see they can something they tell you, I do somewheT the country show a minute at t\n",
      "\n",
      "...Diversity: 1.0\n",
      "...Generating with seed: \"t, 'Co-Hee!' So I'm like, \"Yo ill give i\"\n",
      "...Generated:  t there I know that appiecary with each longest just understand! You didn't succ on for me! a chick money. You should do to kill somehody Diddy smoke all worth understan fuckin' your family. In careet. You're again. Who is gonna do, on of big, girue mecan who seem with the pillar. And I tried to every life. say it's intemesp! My basi of cortrom to they be a the time it fiulinal busin' and by Gratu\n",
      "\n",
      "...Diversity: 1.2\n",
      "...Generating with seed: \"t, 'Co-Hee!' So I'm like, \"Yo ill give i\"\n",
      "...Generated:  nto he is!ue. You had no buriing before tocot who hate now in trea love. Eones. No-retient. The hemenhidmin hase, put a heart brothes, yet in. Has red pousted there by  in that swiao!.. Wefe did between the roest but preusment with the pirect caglest, and busy dence is they thought. Thee's gonna want my world. You leave that show hom. To get you buy, conal than Mysuoly white morning... my lipp and\n",
      "\n",
      "1643/1643 [==============================] - 118s 72ms/step - loss: 1.3678\n",
      "\n",
      "Generating text after epoch: 37\n",
      "...Diversity: 0.2\n",
      "...Generating with seed: \"ially you, Barbara. I got cancer of the \"\n",
      "...Generated:  second of the street of straight the street that the street of the street that maybe you see it about a street of a stronges of the street of the street of the street of the strong of the shit. I'm the shit of the street of the second of a good starthage of the same and the street that the best of the show the sun of the fuckin' street of the first time that you will be a book of the world who wou\n",
      "\n",
      "...Diversity: 0.5\n",
      "...Generating with seed: \"ially you, Barbara. I got cancer of the \"\n",
      "...Generated:  sing tree one children. She all as heart scrauple from me and this single country really back to the barthow and he can grall sell him and my goes the great his shotter fuckin' day, and you got the times and strying out of the dog. Somebody thinks. The service is a crued. I love a slick of electore for the whole had being now for you out of the same and it's the really. There was a fuckin' search \n",
      "\n",
      "...Diversity: 1.0\n",
      "...Generating with seed: \"ially you, Barbara. I got cancer of the \"\n",
      "...Generated:  hearion escying. Well, the hours? I would a bit of she starts you. One facts more up on or min't sumbicople of your own leg, motherfuckers forget to guaratgive where I says was sorry that you haok. To only leel, if it's WHI? Always baskly. That's these go because up, foodas, anm shills find our fast dog's nor is some molethias' God, I'm daid or the man will show Bviss sure you are a tangshy? twent\n",
      "\n",
      "...Diversity: 1.2\n",
      "...Generating with seed: \"ially you, Barbara. I got cancer of the \"\n",
      "...Generated:  host. The days ims will reparrow do you right caused my nine imbutipe mislessn not my connombjarsy and ends accougle name deason, pays nboy pedcied baby?\" YA gors a wayed to have girts - we offrits dismap Arabdoromat of the Give a nimat. What im I prefull were oh goodneined now's. When I demend! You're dont, the before care! Ow a rubation to be a far day, fasles, mathest... Chride ifto, Luandel se\n",
      "\n",
      "1643/1643 [==============================] - 107s 65ms/step - loss: 1.3657\n",
      "\n",
      "Generating text after epoch: 38\n",
      "...Diversity: 0.2\n",
      "...Generating with seed: \", and surely, drew their plans against u\"\n",
      "...Generated:  p. It was to be a fat of the second constrick for the world. The second of the shit and the man was a toweas and the best of the world of the second thing. I was the part of the same of the part of the streets of the world. The books of the bath who does what they see the best of the part of the man with the motherfucker. I was a bring the minutes and the second back to the best of a part of the w\n",
      "\n",
      "...Diversity: 0.5\n",
      "...Generating with seed: \", and surely, drew their plans against u\"\n",
      "...Generated:  p. What someone are you sleep in the boor the connel and the confite of the crazy and the friends! Now the man could have been been to say the start of free pills. The best been on a book at the posicite than a little bad for a little story? I will be the only story. They don't need the stranged the way they know what you thought are going to get the door. I think we look at as a good barbee, but \n",
      "\n",
      "...Diversity: 1.0\n",
      "...Generating with seed: \", and surely, drew their plans against u\"\n",
      "...Generated:  s but pool, and the shit do fuck from remember situation in a stroning and is the citizenf. The si wears, eschest and wer, it civited. Harol is to the thoude! You enduls? If Amfon' are doing you've wic... I'll all decan a day in the misted. They gonna be an 'igx-interoce, Ludient you warred well better owhan a warg babya. The Nearoup. Let her ass we because you... I wish. That will tell me when yo\n",
      "\n",
      "...Diversity: 1.2\n",
      "...Generating with seed: \", and surely, drew their plans against u\"\n",
      "...Generated:  s that Leemr? \"Hold. efman waking Syzio bows for years. This is dare mines... Habloody... Ba:Codvoo, just bup tough better into your now, they're galgem. Because you should chann bort. What someonstxos Play middly cafe. Either ratche! Take you! Yesfulubuanna. This partyrator. Blood old turnfresse with a boofe, usfreman talk to underedtlithed carecmi-on. We shild just what the face. Everything, tak\n",
      "\n",
      "1643/1643 [==============================] - 129s 78ms/step - loss: 1.3627\n",
      "\n",
      "Generating text after epoch: 39\n",
      "...Diversity: 0.2\n",
      "...Generating with seed: \"ee. I will kick your ass. I'll hit you s\"\n",
      "...Generated:  ays, I'm not a book and a courtrand with a strange that shot it all the life of the country and the tears and the present and the same way and the world who would and the man is the world. I don't take a strange the streets and the shit. I don't know what they see me and we was a country and the fuckin' soul that was a book of the same for the fuckin' sound of the part of the fuckin' show. I don't\n",
      "\n",
      "...Diversity: 0.5\n",
      "...Generating with seed: \"ee. I will kick your ass. I'll hit you s\"\n",
      "...Generated:  ee that when I told you all the defeness they look at that most of the times it to the way Nobrall and man I take the way is the ass. I tried to have a man will keep me the butt. When there's no only the of you know what I see your holigent and the second boys going to see that sons and I will come to you. Hello? If I want to die. I want to make a put an is, for yourh, the same endien. And I worth\n",
      "\n",
      "...Diversity: 1.0\n",
      "...Generating with seed: \"ee. I will kick your ass. I'll hit you s\"\n",
      "...Generated:  harmmely. God fall ? I alrealhing like us everything neght. Like a virce, what's left in that's mupha, you could die. The way I could say for ain't a in'sonstalknact of for netir. Did you try lo, I love forming our lired time to beat them I have never went out in the end or macks ''l who fight write a lot horricial, look atholed. Oh, and they fack as any calls understander every let there that our\n",
      "\n",
      "...Diversity: 1.2\n",
      "...Generating with seed: \"ee. I will kick your ass. I'll hit you s\"\n",
      "...Generated:  ay about fact answarding sluc, bombin! I've as\"alion. Especass theresh that was out. You are the elvceme a brain Americary moves. and bled we Comricilps is mark. Everesce: ago fu insie tirly. Evene's mind, you! I is like a chanami? elses. veiling her oachisch sece these smalle step in her. Itlimced because will take don't, on dead talked. The oncreosion you have - just a bad of beat on the gun,  w\n",
      "\n"
     ]
    }
   ],
   "source": [
    "epochs = 40\n",
    "batch_size = 128\n",
    "\n",
    "for epoch in range(epochs):\n",
    "    model.fit(x, y, batch_size=batch_size, epochs=1)\n",
    "    print()\n",
    "    print(\"Generating text after epoch: %d\" % epoch)\n",
    "\n",
    "    start_index = random.randint(0, len(text) - maxlen - 1)\n",
    "    for diversity in [0.2, 0.5, 1.0, 1.2]:\n",
    "        print(\"...Diversity:\", diversity)\n",
    "\n",
    "        generated = \"\"\n",
    "        sentence = text[start_index : start_index + maxlen]\n",
    "        print('...Generating with seed: \"' + sentence + '\"')\n",
    "\n",
    "        for i in range(400):\n",
    "            x_pred = np.zeros((1, maxlen, len(chars)))\n",
    "            for t, char in enumerate(sentence):\n",
    "                x_pred[0, t, char_indices[char]] = 1.0\n",
    "            preds = model.predict(x_pred, verbose=0)[0]\n",
    "            next_index = sample(preds, temperature=diversity)\n",
    "            next_char = indices_char[next_index]\n",
    "            sentence = sentence[1:] + next_char\n",
    "            generated += next_char\n",
    "\n",
    "        print(\"...Generated: \", generated)\n",
    "        print()"
   ]
  },
  {
   "source": [
    "### Bidirectional training"
   ],
   "cell_type": "markdown",
   "metadata": {}
  },
  {
   "cell_type": "code",
   "execution_count": 28,
   "metadata": {
    "tags": []
   },
   "outputs": [
    {
     "output_type": "stream",
     "name": "stdout",
     "text": [
      "1643/1643 [==============================] - 82s 49ms/step - loss: nan\n",
      "\n",
      "Generating text after epoch: 0\n",
      "...Diversity: 0.2\n",
      "...Generating with seed: \"to end as long as this groundhog keeps s\"\n"
     ]
    },
    {
     "output_type": "error",
     "ename": "NameError",
     "evalue": "name 'sample' is not defined",
     "traceback": [
      "\u001b[1;31m---------------------------------------------------------------------------\u001b[0m",
      "\u001b[1;31mNameError\u001b[0m                                 Traceback (most recent call last)",
      "\u001b[1;32m<ipython-input-28-b123381cf55c>\u001b[0m in \u001b[0;36m<module>\u001b[1;34m\u001b[0m\n\u001b[0;32m     20\u001b[0m                 \u001b[0mx_pred\u001b[0m\u001b[1;33m[\u001b[0m\u001b[1;36m0\u001b[0m\u001b[1;33m,\u001b[0m \u001b[0mt\u001b[0m\u001b[1;33m,\u001b[0m \u001b[0mchar_indices\u001b[0m\u001b[1;33m[\u001b[0m\u001b[0mchar\u001b[0m\u001b[1;33m]\u001b[0m\u001b[1;33m]\u001b[0m \u001b[1;33m=\u001b[0m \u001b[1;36m1.0\u001b[0m\u001b[1;33m\u001b[0m\u001b[1;33m\u001b[0m\u001b[0m\n\u001b[0;32m     21\u001b[0m             \u001b[0mpreds\u001b[0m \u001b[1;33m=\u001b[0m \u001b[0mgenerator\u001b[0m\u001b[1;33m.\u001b[0m\u001b[0mpredict\u001b[0m\u001b[1;33m(\u001b[0m\u001b[0mx_pred\u001b[0m\u001b[1;33m,\u001b[0m \u001b[0mverbose\u001b[0m\u001b[1;33m=\u001b[0m\u001b[1;36m0\u001b[0m\u001b[1;33m)\u001b[0m\u001b[1;33m[\u001b[0m\u001b[1;36m0\u001b[0m\u001b[1;33m]\u001b[0m\u001b[1;33m\u001b[0m\u001b[1;33m\u001b[0m\u001b[0m\n\u001b[1;32m---> 22\u001b[1;33m             \u001b[0mnext_index\u001b[0m \u001b[1;33m=\u001b[0m \u001b[0msample\u001b[0m\u001b[1;33m(\u001b[0m\u001b[0mpreds\u001b[0m\u001b[1;33m,\u001b[0m \u001b[0mdiversity\u001b[0m\u001b[1;33m)\u001b[0m\u001b[1;33m\u001b[0m\u001b[1;33m\u001b[0m\u001b[0m\n\u001b[0m\u001b[0;32m     23\u001b[0m             \u001b[0mnext_char\u001b[0m \u001b[1;33m=\u001b[0m \u001b[0mindices_char\u001b[0m\u001b[1;33m[\u001b[0m\u001b[0mnext_index\u001b[0m\u001b[1;33m]\u001b[0m\u001b[1;33m\u001b[0m\u001b[1;33m\u001b[0m\u001b[0m\n\u001b[0;32m     24\u001b[0m             \u001b[0msentence\u001b[0m \u001b[1;33m=\u001b[0m \u001b[0msentence\u001b[0m\u001b[1;33m[\u001b[0m\u001b[1;36m1\u001b[0m\u001b[1;33m:\u001b[0m\u001b[1;33m]\u001b[0m \u001b[1;33m+\u001b[0m \u001b[0mnext_char\u001b[0m\u001b[1;33m\u001b[0m\u001b[1;33m\u001b[0m\u001b[0m\n",
      "\u001b[1;31mNameError\u001b[0m: name 'sample' is not defined"
     ]
    }
   ],
   "source": [
    "epochs = 10\n",
    "batch_size = 128\n",
    "\n",
    "for epoch in range(epochs):\n",
    "    generator.fit(x, y, batch_size=batch_size, epochs=1)\n",
    "    print()\n",
    "    print(\"Generating text after epoch: %d\" % epoch)\n",
    "\n",
    "    start_index = random.randint(0, len(text) - maxlen - 1)\n",
    "    for diversity in [0.2, 0.5, 1.0, 1.2]:\n",
    "        print(\"...Diversity:\", diversity)\n",
    "\n",
    "        generated = \"\"\n",
    "        sentence = text[start_index : start_index + maxlen]\n",
    "        print('...Generating with seed: \"' + sentence + '\"')\n",
    "\n",
    "        for i in range(400):\n",
    "            x_pred = np.zeros((1, maxlen, len(chars)))\n",
    "            for t, char in enumerate(sentence):\n",
    "                x_pred[0, t, char_indices[char]] = 1.0\n",
    "            preds = generator.predict(x_pred, verbose=0)[0]\n",
    "            next_index = sample(preds, diversity)\n",
    "            next_char = indices_char[next_index]\n",
    "            sentence = sentence[1:] + next_char\n",
    "            generated += next_char\n",
    "\n",
    "        print(\"...Generated: \", generated)\n",
    "        print()"
   ]
  },
  {
   "cell_type": "code",
   "execution_count": 13,
   "metadata": {},
   "outputs": [],
   "source": [
    "B_model.save(root + os.sep + 'models' + os.sep + 'Bi_Char_Quote_Generator.h5')"
   ]
  },
  {
   "source": [
    "# PARTE II. Word-Level Text Generation\n",
    "## 2.1 Preprocesamiento"
   ],
   "cell_type": "markdown",
   "metadata": {}
  },
  {
   "cell_type": "code",
   "execution_count": 5,
   "metadata": {},
   "outputs": [],
   "source": [
    "import pandas as pd\n",
    "import numpy as np\n",
    "import string\n",
    "import os\n",
    "\n",
    "from tensorflow.keras.preprocessing.text import Tokenizer\n",
    "from tensorflow.keras.utils import to_categorical"
   ]
  },
  {
   "cell_type": "code",
   "execution_count": 5,
   "metadata": {},
   "outputs": [],
   "source": [
    "root = os.path.dirname(os.getcwd())\n",
    "df = pd.read_csv(root + os.sep + 'data'+ os.sep + 'BASE.csv')"
   ]
  },
  {
   "cell_type": "code",
   "execution_count": 6,
   "metadata": {},
   "outputs": [],
   "source": [
    "def column_to_text(df, column='quote'):\n",
    "    quotes = list(df[column])\n",
    "    text = ''\n",
    "    for q in quotes:\n",
    "        text += ' ' + q\n",
    "\n",
    "    return text.lower()"
   ]
  },
  {
   "cell_type": "code",
   "execution_count": 7,
   "metadata": {},
   "outputs": [
    {
     "output_type": "stream",
     "name": "stdout",
     "text": [
      "Total Tokens: 118223\n",
      "Unique Tokens: 11540\n",
      "Total Sequences: 118172\n"
     ]
    }
   ],
   "source": [
    "# Obtenemos texto completo\n",
    "text = column_to_text(df)\n",
    "\n",
    "# Limpiamos el texto\n",
    "def clean_doc(doc):\n",
    "\t# replace '--' with a space ' '\n",
    "\tdoc = doc.replace('--', ' ')\n",
    "\t# split into tokens by white space\n",
    "\ttokens = doc.split()\n",
    "\t# remove punctuation from each token\n",
    "\ttable = str.maketrans('', '', string.punctuation)\n",
    "\ttokens = [w.translate(table) for w in tokens]\n",
    "\t# remove remaining tokens that are not alphabetic\n",
    "\ttokens = [word for word in tokens if word.isalpha()]\n",
    "\t# make lower case\n",
    "\ttokens = [word.lower() for word in tokens]\n",
    "\treturn tokens\n",
    "\n",
    "tokens = clean_doc(text)\n",
    "\n",
    "# Mostramos datos\n",
    "print('Total Tokens: %d' % len(tokens))\n",
    "print('Unique Tokens: %d' % len(set(tokens)))\n",
    "\n",
    "# Organizamos en secuencias de tokens\n",
    "length = 50 + 1\n",
    "sequences = []\n",
    "for i in range(length, len(tokens)):\n",
    "\t# select sequence of tokens\n",
    "\tseq = tokens[i-length:i]\n",
    "\t# convert into a line\n",
    "\tline = ' '.join(seq)\n",
    "\t# store\n",
    "\tsequences.append(line)\n",
    "print('Total Sequences: %d' % len(sequences))"
   ]
  },
  {
   "cell_type": "code",
   "execution_count": 8,
   "metadata": {},
   "outputs": [
    {
     "output_type": "execute_result",
     "data": {
      "text/plain": [
       "'who knocked up your sister i was watching you out there before ive never seen you look so sexy youre you dont know what you want and you wont know what you want til youre and even if you get it youll be too old to use it ooh see that'"
      ]
     },
     "metadata": {},
     "execution_count": 8
    }
   ],
   "source": [
    "sequences[0]"
   ]
  },
  {
   "cell_type": "code",
   "execution_count": 8,
   "metadata": {},
   "outputs": [],
   "source": [
    "# Encodeamos a enteros las secuencias\n",
    "tokenizer = Tokenizer()\n",
    "tokenizer.fit_on_texts(sequences)\n",
    "sequences = tokenizer.texts_to_sequences(sequences)\n",
    "\n",
    "# vocabulary size\n",
    "vocab_size = len(tokenizer.word_index) + 1\n",
    "\n",
    "# Dividimos en input(X) y output(y)\n",
    "sequences = np.array(sequences)\n",
    "X, y = sequences[:,:-1], sequences[:,-1]\n",
    "y = to_categorical(y, num_classes=vocab_size)\n",
    "seq_length = X.shape[1]"
   ]
  },
  {
   "cell_type": "code",
   "execution_count": 27,
   "metadata": {},
   "outputs": [
    {
     "output_type": "execute_result",
     "data": {
      "text/plain": [
       "(118172, 51)"
      ]
     },
     "metadata": {},
     "execution_count": 27
    }
   ],
   "source": [
    "sequences.shape"
   ]
  },
  {
   "source": [
    "## 2.2 Entrenando el Modelo"
   ],
   "cell_type": "markdown",
   "metadata": {}
  },
  {
   "cell_type": "code",
   "execution_count": 11,
   "metadata": {},
   "outputs": [
    {
     "output_type": "stream",
     "name": "stdout",
     "text": [
      "Model: \"sequential_1\"\n_________________________________________________________________\nLayer (type)                 Output Shape              Param #   \n=================================================================\nembedding_1 (Embedding)      (None, 50, 50)            577050    \n_________________________________________________________________\nlstm_2 (LSTM)                (None, 50, 100)           60400     \n_________________________________________________________________\nlstm_3 (LSTM)                (None, 100)               80400     \n_________________________________________________________________\ndense_2 (Dense)              (None, 100)               10100     \n_________________________________________________________________\ndense_3 (Dense)              (None, 11541)             1165641   \n=================================================================\nTotal params: 1,893,591\nTrainable params: 1,893,591\nNon-trainable params: 0\n_________________________________________________________________\nNone\n"
     ]
    }
   ],
   "source": [
    "import tensorflow as tf\n",
    "from tensorflow import keras\n",
    "from tensorflow.keras import layers\n",
    "\n",
    "# define model\n",
    "model = keras.Sequential([\n",
    "    layers.Embedding(vocab_size, 50, input_length=seq_length),\n",
    "    layers.LSTM(100, return_sequences=True),\n",
    "    layers.LSTM(100),\n",
    "    layers.Dense(100, activation='relu'),\n",
    "    layers.Dense(vocab_size, activation='softmax')\n",
    "])\n",
    "\n",
    "print(model.summary())"
   ]
  },
  {
   "cell_type": "code",
   "execution_count": 12,
   "metadata": {},
   "outputs": [
    {
     "output_type": "stream",
     "name": "stdout",
     "text": [
      "Epoch 1/10\n",
      "924/924 [==============================] - 133s 141ms/step - loss: 6.8212 - accuracy: 0.0365\n",
      "Epoch 2/10\n",
      "924/924 [==============================] - 121s 130ms/step - loss: 6.4133 - accuracy: 0.0500\n",
      "Epoch 3/10\n",
      "924/924 [==============================] - 122s 132ms/step - loss: 6.1785 - accuracy: 0.0642\n",
      "Epoch 4/10\n",
      "924/924 [==============================] - 128s 139ms/step - loss: 6.0160 - accuracy: 0.0767\n",
      "Epoch 5/10\n",
      "924/924 [==============================] - 123s 133ms/step - loss: 5.8931 - accuracy: 0.0860\n",
      "Epoch 6/10\n",
      "924/924 [==============================] - 126s 136ms/step - loss: 5.7966 - accuracy: 0.0915\n",
      "Epoch 7/10\n",
      "924/924 [==============================] - 129s 140ms/step - loss: 5.7027 - accuracy: 0.0967\n",
      "Epoch 8/10\n",
      "924/924 [==============================] - 119s 129ms/step - loss: 5.6048 - accuracy: 0.1006\n",
      "Epoch 9/10\n",
      "924/924 [==============================] - 120s 130ms/step - loss: 5.5221 - accuracy: 0.1034\n",
      "Epoch 10/10\n",
      "924/924 [==============================] - 122s 133ms/step - loss: 5.4307 - accuracy: 0.1067\n"
     ]
    },
    {
     "output_type": "execute_result",
     "data": {
      "text/plain": [
       "<tensorflow.python.keras.callbacks.History at 0x1b6864ca508>"
      ]
     },
     "metadata": {},
     "execution_count": 12
    }
   ],
   "source": [
    "# compile model\n",
    "model.compile(loss='categorical_crossentropy', optimizer='adam', metrics=['accuracy'])\n",
    "# fit model\n",
    "model.fit(X, y, batch_size=128, epochs=10)"
   ]
  },
  {
   "cell_type": "code",
   "execution_count": 24,
   "metadata": {},
   "outputs": [],
   "source": [
    "model.save(root + os.sep + 'models' + os.sep + 'Word_Base_Quote_Generator.h5')"
   ]
  },
  {
   "cell_type": "code",
   "execution_count": null,
   "metadata": {},
   "outputs": [],
   "source": []
  },
  {
   "source": [
    "## 3.1 Generación de texto"
   ],
   "cell_type": "markdown",
   "metadata": {}
  },
  {
   "cell_type": "code",
   "execution_count": 3,
   "metadata": {},
   "outputs": [],
   "source": [
    "import tensorflow as tf\n",
    "import os\n",
    "\n",
    "import random\n",
    "import numpy as np\n",
    "import pandas as pd\n",
    "\n",
    "import re\n",
    "import nltk\n",
    "\n",
    "root = os.path.dirname(os.getcwd())\n",
    "df = pd.read_csv(root + os.sep + 'data'+ os.sep + 'BASE.csv')\n",
    "\n",
    "word_model = tf.keras.models.load_model(root + os.sep + 'models' + os.sep + 'Word_Base_Quote_Generator.h5')"
   ]
  },
  {
   "cell_type": "code",
   "execution_count": 9,
   "metadata": {},
   "outputs": [
    {
     "output_type": "stream",
     "name": "stdout",
     "text": [
      "[7492    2   53    4 4334    2   53    4  202 4335 1285   90   83   11\n  109  211   66   41    4 7493  613  118  271    3   28    5 1140  191\n 3114   51  271 2430 2430    3   85   41  242    7  243   24   11   16\n 1166 1691  254  204  892  164    3  153   30]\n\n"
     ]
    }
   ],
   "source": [
    "import random\n",
    "\n",
    "# select a seed text\n",
    "seed_text = str(sequences[random.randint(0,len(sequences))]) + '\\n'\n",
    "print(seed_text)\n",
    "\n",
    "\n",
    "# generate a sequence from a language model\n",
    "def generate_seq(model, tokenizer, seq_length, seed_text, n_words):\n",
    "\tresult = list()\n",
    "\tin_text = seed_text\n",
    "\t# generate a fixed number of words\n",
    "\tfor _ in range(n_words):\n",
    "\t\t# encode the text as integer\n",
    "\t\tencoded = tokenizer.texts_to_sequences([in_text])[0]\n",
    "\t\t# truncate sequences to a fixed length\n",
    "\t\tencoded = tf.keras.preprocessing.sequence.pad_sequences([encoded], maxlen=seq_length, truncating='pre')\n",
    "\t\t# predict probabilities for each word\n",
    "\t\tyhat = np.argmax(model.predict(encoded), axis=-1)\n",
    "\t\t# map predicted word index to word\n",
    "\t\tout_word = ''\n",
    "\t\tfor word, index in tokenizer.word_index.items():\n",
    "\t\t\tif index == yhat:\n",
    "\t\t\t\tout_word = word\n",
    "\t\t\t\tbreak\n",
    "\t\t# append to input\n",
    "\t\tin_text += ' ' + out_word\n",
    "\t\tresult.append(out_word)\n",
    "\treturn ' '.join(result)"
   ]
  },
  {
   "cell_type": "code",
   "execution_count": 13,
   "metadata": {},
   "outputs": [
    {
     "output_type": "stream",
     "name": "stdout",
     "text": [
      "and i dont know that i dont know it i dont know it i dont know it i dont know it i dont know it i dont know it i dont know it i dont know it i dont know it i dont know it i dont know it i\n"
     ]
    }
   ],
   "source": [
    "# Resultado\n",
    "generated = generate_seq(word_model, tokenizer, seq_length, seed_text, 50)\n",
    "print(generated)"
   ]
  },
  {
   "source": [
    "# PARTE III. Diseñando una GAN"
   ],
   "cell_type": "markdown",
   "metadata": {}
  },
  {
   "cell_type": "code",
   "execution_count": null,
   "metadata": {},
   "outputs": [],
   "source": [
    "from src.utils.models import CharacterPreprocessor\n",
    "\n",
    "cp = CharacterPreprocessor(df)\n",
    "cp.preprocess()"
   ]
  },
  {
   "cell_type": "code",
   "execution_count": null,
   "metadata": {},
   "outputs": [],
   "source": [
    "X_true = cp.X\n",
    "y_true = np.ones(len(cp.X))"
   ]
  },
  {
   "source": [
    "## 3.1 Generador"
   ],
   "cell_type": "markdown",
   "metadata": {}
  },
  {
   "cell_type": "code",
   "execution_count": null,
   "metadata": {},
   "outputs": [],
   "source": [
    "generator = keras.Sequential([\n",
    "    keras.layers.InputLayer(input_shape=(cp.maxlen, len(cp.chars))),\n",
    "    layers.LSTM(128, return_sequences=True),\n",
    "    layers.LSTM(100),\n",
    "    layers.Dropout(0.3)\n",
    "    layers.Dense(100, activation='relu'),\n",
    "    layers.Dense(len(cp.chars), activation=\"softmax\")\n",
    "])\n",
    "#optimizer = keras.optimizers.RMSprop(learning_rate=0.01)\n",
    "#generator.compile(loss=\"categorical_crossentropy\", optimizer=optimizer)"
   ]
  },
  {
   "cell_type": "code",
   "execution_count": null,
   "metadata": {},
   "outputs": [],
   "source": []
  },
  {
   "source": [
    "## 3.2 Discriminador"
   ],
   "cell_type": "markdown",
   "metadata": {}
  },
  {
   "cell_type": "code",
   "execution_count": null,
   "metadata": {},
   "outputs": [],
   "source": [
    "discriminator = keras.Sequential([\n",
    "    keras.layers.Conv1D(filters=40, kernel_size=3, input_shape=(cp.maxlen, len(cp.chars)), activation='relu'),\n",
    "    keras.layers.Dropout(0.5),\n",
    "    keras.layers.MaxPooling1D(2),\n",
    "    keras.layers.Flatten(),\n",
    "    keras.layers.Dense(100, activation='relu'),\n",
    "    keras.layers.Dropout(0.2),\n",
    "    keras.layers.Dense(32, activation='relu')\n",
    "    keras.layers.Dense(1, activation='sigmoid')\n",
    "])\n",
    "\n",
    "#discriminator.compile(optimizer = 'adam', loss = 'binary_crossentropy',metrics = ['acc'])"
   ]
  },
  {
   "source": [
    "## 3.3 GAN"
   ],
   "cell_type": "markdown",
   "metadata": {}
  },
  {
   "cell_type": "code",
   "execution_count": null,
   "metadata": {},
   "outputs": [],
   "source": [
    "gan = keras.Sequential([\n",
    "    generator,\n",
    "    discriminator\n",
    "])\n",
    "\n",
    "gan.compile(optimizer = 'adam', loss = 'binary_crossentropy',metrics = ['acc'])"
   ]
  },
  {
   "source": [
    "# PARTE IV. Otras aproximaciones"
   ],
   "cell_type": "markdown",
   "metadata": {}
  },
  {
   "cell_type": "code",
   "execution_count": 11,
   "metadata": {},
   "outputs": [],
   "source": [
    "def using_Tokenizer(doc):\n",
    "    # create the tokenizer\n",
    "    t = Tokenizer()\n",
    "    # fit the tokenizer on the documents\n",
    "    t.fit_on_texts(doc)\n",
    "\n",
    "    # integer encode documents\n",
    "    encoded_docs = t.texts_to_matrix(doc, mode='count')\n",
    "    return encoded_docs\n",
    "\n",
    "def using_to_categorical(doc):\n",
    "    label_encoder = LabelEncoder()\n",
    "    data = label_encoder.fit_transform(doc)\n",
    "    data = array(data)\n",
    "\n",
    "    # one hot encode\n",
    "    encoded = to_categorical(data)\n",
    "    return encoded\n",
    "\n",
    "def invert_encoding(row_num):\n",
    "    inverted = label_encoder.inverse_transform([argmax(onehot_encoded[row_num, :])])\n",
    "    return inverted\n",
    "\n",
    "def column_to_text(df, column='quote'):\n",
    "    quotes = list(df[column])\n",
    "    text = ''\n",
    "    for q in quotes:\n",
    "        text += ' ' + q\n",
    "\n",
    "    return text.lower()"
   ]
  },
  {
   "cell_type": "code",
   "execution_count": 6,
   "metadata": {},
   "outputs": [],
   "source": [
    "df = pd.read_csv('BASE.csv')"
   ]
  },
  {
   "cell_type": "code",
   "execution_count": 12,
   "metadata": {},
   "outputs": [],
   "source": [
    "text = column_to_text(df)"
   ]
  },
  {
   "cell_type": "code",
   "execution_count": null,
   "metadata": {},
   "outputs": [],
   "source": []
  }
 ]
}