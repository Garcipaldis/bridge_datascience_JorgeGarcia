{
 "metadata": {
  "language_info": {
   "codemirror_mode": {
    "name": "ipython",
    "version": 3
   },
   "file_extension": ".py",
   "mimetype": "text/x-python",
   "name": "python",
   "nbconvert_exporter": "python",
   "pygments_lexer": "ipython3",
   "version": "3.7.4"
  },
  "orig_nbformat": 4,
  "kernelspec": {
   "name": "python3",
   "display_name": "Python 3.7.4 64-bit"
  },
  "interpreter": {
   "hash": "674dfd6ded4398e0679ff4f65e9a10a54ff0d14801bec0126172cfc3973d1cf1"
  }
 },
 "nbformat": 4,
 "nbformat_minor": 2,
 "cells": [
  {
   "cell_type": "code",
   "execution_count": 2,
   "metadata": {},
   "outputs": [],
   "source": [
    "import os\n",
    "\n",
    "import pandas as pd"
   ]
  },
  {
   "cell_type": "code",
   "execution_count": 4,
   "metadata": {},
   "outputs": [],
   "source": [
    "root = os.path.dirname(os.getcwd())"
   ]
  },
  {
   "cell_type": "code",
   "execution_count": 5,
   "metadata": {},
   "outputs": [],
   "source": [
    "df = pd.read_csv(root + os.sep + 'data'+ os.sep + 'BASE.csv')"
   ]
  },
  {
   "cell_type": "code",
   "execution_count": 6,
   "metadata": {},
   "outputs": [
    {
     "output_type": "execute_result",
     "data": {
      "text/plain": [
       "      Unnamed: 0                                              title  \\\n",
       "0              0                         10 things i hate about you   \n",
       "1              1                         10 things i hate about you   \n",
       "2              2                         10 things i hate about you   \n",
       "3              3                         10 things i hate about you   \n",
       "4              4                         10 things i hate about you   \n",
       "...          ...                                                ...   \n",
       "5949        5949  the lord of the rings: the fellowship of the ring   \n",
       "5950        5950      the lord of the rings: the return of the king   \n",
       "5951        5951      the lord of the rings: the return of the king   \n",
       "5952        5952      the lord of the rings: the return of the king   \n",
       "5953        5953      the lord of the rings: the return of the king   \n",
       "\n",
       "                                                  quote         ID  Year  \\\n",
       "0                           Who knocked up your sister?  tt0147800  1999   \n",
       "1     I was watching you out there, before. I've nev...  tt0147800  1999   \n",
       "2     You're 18, you don't know what you want. And y...  tt0147800  1999   \n",
       "3     Ooh, see that, there. Who needs affection when...  tt0147800  1999   \n",
       "4     Just 'cause you're beautiful, that doesn't mea...  tt0147800  1999   \n",
       "...                                                 ...        ...   ...   \n",
       "5949  If by my life or death I can protect you, I wi...  tt0120737  2001   \n",
       "5950  Certainty of death. Small chance of success. W...  tt0167260  2003   \n",
       "5951  The journey doesn't end here. Death is just an...  tt0167260  2003   \n",
       "5952  I see in your eyes the same fear that would ta...  tt0167260  2003   \n",
       "5953                            But it is not this day!  tt0167260  2003   \n",
       "\n",
       "                       Genre  \n",
       "0       Comedy,Drama,Romance  \n",
       "1       Comedy,Drama,Romance  \n",
       "2       Comedy,Drama,Romance  \n",
       "3       Comedy,Drama,Romance  \n",
       "4       Comedy,Drama,Romance  \n",
       "...                      ...  \n",
       "5949  Action,Adventure,Drama  \n",
       "5950  Action,Adventure,Drama  \n",
       "5951  Action,Adventure,Drama  \n",
       "5952  Action,Adventure,Drama  \n",
       "5953  Action,Adventure,Drama  \n",
       "\n",
       "[5954 rows x 6 columns]"
      ],
      "text/html": "<div>\n<style scoped>\n    .dataframe tbody tr th:only-of-type {\n        vertical-align: middle;\n    }\n\n    .dataframe tbody tr th {\n        vertical-align: top;\n    }\n\n    .dataframe thead th {\n        text-align: right;\n    }\n</style>\n<table border=\"1\" class=\"dataframe\">\n  <thead>\n    <tr style=\"text-align: right;\">\n      <th></th>\n      <th>Unnamed: 0</th>\n      <th>title</th>\n      <th>quote</th>\n      <th>ID</th>\n      <th>Year</th>\n      <th>Genre</th>\n    </tr>\n  </thead>\n  <tbody>\n    <tr>\n      <th>0</th>\n      <td>0</td>\n      <td>10 things i hate about you</td>\n      <td>Who knocked up your sister?</td>\n      <td>tt0147800</td>\n      <td>1999</td>\n      <td>Comedy,Drama,Romance</td>\n    </tr>\n    <tr>\n      <th>1</th>\n      <td>1</td>\n      <td>10 things i hate about you</td>\n      <td>I was watching you out there, before. I've nev...</td>\n      <td>tt0147800</td>\n      <td>1999</td>\n      <td>Comedy,Drama,Romance</td>\n    </tr>\n    <tr>\n      <th>2</th>\n      <td>2</td>\n      <td>10 things i hate about you</td>\n      <td>You're 18, you don't know what you want. And y...</td>\n      <td>tt0147800</td>\n      <td>1999</td>\n      <td>Comedy,Drama,Romance</td>\n    </tr>\n    <tr>\n      <th>3</th>\n      <td>3</td>\n      <td>10 things i hate about you</td>\n      <td>Ooh, see that, there. Who needs affection when...</td>\n      <td>tt0147800</td>\n      <td>1999</td>\n      <td>Comedy,Drama,Romance</td>\n    </tr>\n    <tr>\n      <th>4</th>\n      <td>4</td>\n      <td>10 things i hate about you</td>\n      <td>Just 'cause you're beautiful, that doesn't mea...</td>\n      <td>tt0147800</td>\n      <td>1999</td>\n      <td>Comedy,Drama,Romance</td>\n    </tr>\n    <tr>\n      <th>...</th>\n      <td>...</td>\n      <td>...</td>\n      <td>...</td>\n      <td>...</td>\n      <td>...</td>\n      <td>...</td>\n    </tr>\n    <tr>\n      <th>5949</th>\n      <td>5949</td>\n      <td>the lord of the rings: the fellowship of the ring</td>\n      <td>If by my life or death I can protect you, I wi...</td>\n      <td>tt0120737</td>\n      <td>2001</td>\n      <td>Action,Adventure,Drama</td>\n    </tr>\n    <tr>\n      <th>5950</th>\n      <td>5950</td>\n      <td>the lord of the rings: the return of the king</td>\n      <td>Certainty of death. Small chance of success. W...</td>\n      <td>tt0167260</td>\n      <td>2003</td>\n      <td>Action,Adventure,Drama</td>\n    </tr>\n    <tr>\n      <th>5951</th>\n      <td>5951</td>\n      <td>the lord of the rings: the return of the king</td>\n      <td>The journey doesn't end here. Death is just an...</td>\n      <td>tt0167260</td>\n      <td>2003</td>\n      <td>Action,Adventure,Drama</td>\n    </tr>\n    <tr>\n      <th>5952</th>\n      <td>5952</td>\n      <td>the lord of the rings: the return of the king</td>\n      <td>I see in your eyes the same fear that would ta...</td>\n      <td>tt0167260</td>\n      <td>2003</td>\n      <td>Action,Adventure,Drama</td>\n    </tr>\n    <tr>\n      <th>5953</th>\n      <td>5953</td>\n      <td>the lord of the rings: the return of the king</td>\n      <td>But it is not this day!</td>\n      <td>tt0167260</td>\n      <td>2003</td>\n      <td>Action,Adventure,Drama</td>\n    </tr>\n  </tbody>\n</table>\n<p>5954 rows × 6 columns</p>\n</div>"
     },
     "metadata": {},
     "execution_count": 6
    }
   ],
   "source": [
    "df"
   ]
  }
 ]
}