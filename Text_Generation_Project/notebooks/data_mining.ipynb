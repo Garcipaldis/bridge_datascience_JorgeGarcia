{
 "metadata": {
  "language_info": {
   "codemirror_mode": {
    "name": "ipython",
    "version": 3
   },
   "file_extension": ".py",
   "mimetype": "text/x-python",
   "name": "python",
   "nbconvert_exporter": "python",
   "pygments_lexer": "ipython3",
   "version": "3.7.4"
  },
  "orig_nbformat": 4,
  "kernelspec": {
   "name": "python3",
   "display_name": "Python 3.7.4 64-bit"
  },
  "interpreter": {
   "hash": "674dfd6ded4398e0679ff4f65e9a10a54ff0d14801bec0126172cfc3973d1cf1"
  }
 },
 "nbformat": 4,
 "nbformat_minor": 2,
 "cells": [
  {
   "cell_type": "code",
   "execution_count": 1,
   "metadata": {},
   "outputs": [],
   "source": [
    "extra_quotes = {\n",
    "        'the lord of the rings: the fellowship of the ring': ['A wizard is never late, Frodo Baggins. Nor is he early. He arrives precisely when he means to.',\n",
    "        'You shall not pass!',\n",
    "        'Fly you fools!',\n",
    "        'Even the smallest person can change the course of the future.',\n",
    "        'Many that live deserve death. Some that die deserve life...Do not be too eager to deal out death in judgement. Even the very wise cannot see all ends.',\n",
    "        'So do all who live to see such times. But that is not for them to decide. All we have to decide is what to do with the time that is given to us.',\n",
    "        'One ring to rule them all. One ring to find them. One ring to bring them all and in the darkness bind them!',\n",
    "        'If by my life or death I can protect you, I will. You have my sword'],\n",
    "        'the lord of the rings: the return of the king': [\"Certainty of death. Small chance of success. What are we waiting for?\",\n",
    "            \"The journey doesn't end here. Death is just another path... One that we all must take.\",\n",
    "            \"I see in your eyes the same fear that would take the heart of me.\",\n",
    "            \"But it is not this day!\"]\n",
    "            }"
   ]
  },
  {
   "cell_type": "code",
   "execution_count": 23,
   "metadata": {},
   "outputs": [],
   "source": [
    "import pandas as pd\n",
    "\n",
    "class QuoteCleaner:\n",
    "\n",
    "    def __init__(self, filepath):\n",
    "        self.df = self.create_quote_dataset(filepath)\n",
    "\n",
    "    def create_quote_dataset(self, filepath):\n",
    "        with open(filepath, 'r') as raw:\n",
    "            text = raw.readlines()\n",
    "            lista = [line for line in text if line != '\\n']\n",
    "        \n",
    "        data = {}\n",
    "        data['title'] = [lista[i].strip('\\n') for i in range(0, len(lista), 3)]\n",
    "        data['quote'] = [lista[i].strip('\\n') for i in range(1, len(lista), 3)]\n",
    "\n",
    "        return pd.DataFrame(data, index=range(len(data['title'])))\n",
    "\n",
    "    def add_quotes(self, extra_quotes):\n",
    "        for title, quotes in extra_quotes.items():\n",
    "            for quote in quotes:\n",
    "                self.df = self.df.append({'title':title, 'quote':quote}, ignore_index=True)\n",
    "\n",
    "    def save_quote_df(self, path):\n",
    "        self.df.to_csv(path)\n",
    "        print('Successfully saved Dataframe.')\n",
    "\n",
    "    def clean_text(self, dirpath, name):\n",
    "        with open(dirpath + os.sep + name, 'r') as raw:\n",
    "            corpus = raw.readlines()\n",
    "        lines = [line.replace('\\n','') for line in book_one]\n",
    "        lines = [line.replace('     ','') for line in lines]\n",
    "        corpus = ''.join(lines)\n",
    "\n",
    "        with open(dirpath + os.sep + 'corpus.txt', 'w') as f:\n",
    "            f.write(corpus)\n",
    "        print(f'Obtained corpus text from {name}')"
   ]
  },
  {
   "cell_type": "code",
   "execution_count": 24,
   "metadata": {},
   "outputs": [],
   "source": [
    "import os\n",
    "\n",
    "root = os.path.dirname(os.getcwd())\n",
    "raw_path = root + os.sep + 'data' + os.sep + 'moviequotes.memorable_quotes.txt'\n",
    "\n",
    "q = QuoteCleaner(raw_path)"
   ]
  },
  {
   "cell_type": "code",
   "execution_count": 3,
   "metadata": {},
   "outputs": [
    {
     "output_type": "error",
     "ename": "NameError",
     "evalue": "name 'extra_quotes' is not defined",
     "traceback": [
      "\u001b[1;31m---------------------------------------------------------------------------\u001b[0m",
      "\u001b[1;31mNameError\u001b[0m                                 Traceback (most recent call last)",
      "\u001b[1;32m<ipython-input-3-f1c9803a9d6a>\u001b[0m in \u001b[0;36m<module>\u001b[1;34m\u001b[0m\n\u001b[1;32m----> 1\u001b[1;33m \u001b[0mq\u001b[0m\u001b[1;33m.\u001b[0m\u001b[0madd_quotes\u001b[0m\u001b[1;33m(\u001b[0m\u001b[0mextra_quotes\u001b[0m\u001b[1;33m)\u001b[0m\u001b[1;33m\u001b[0m\u001b[1;33m\u001b[0m\u001b[0m\n\u001b[0m",
      "\u001b[1;31mNameError\u001b[0m: name 'extra_quotes' is not defined"
     ]
    }
   ],
   "source": [
    "q.add_quotes(extra_quotes)"
   ]
  },
  {
   "cell_type": "code",
   "execution_count": 11,
   "metadata": {},
   "outputs": [
    {
     "output_type": "execute_result",
     "data": {
      "text/plain": [
       "                                                  title  \\\n",
       "0                            10 things i hate about you   \n",
       "1                            10 things i hate about you   \n",
       "2                            10 things i hate about you   \n",
       "3                            10 things i hate about you   \n",
       "4                            10 things i hate about you   \n",
       "...                                                 ...   \n",
       "6289  the lord of the rings: the fellowship of the ring   \n",
       "6290      the lord of the rings: the return of the king   \n",
       "6291      the lord of the rings: the return of the king   \n",
       "6292      the lord of the rings: the return of the king   \n",
       "6293      the lord of the rings: the return of the king   \n",
       "\n",
       "                                                  quote  \n",
       "0                           Who knocked up your sister?  \n",
       "1     I was watching you out there, before. I've nev...  \n",
       "2     You're 18, you don't know what you want. And y...  \n",
       "3     Ooh, see that, there. Who needs affection when...  \n",
       "4     Just 'cause you're beautiful, that doesn't mea...  \n",
       "...                                                 ...  \n",
       "6289  If by my life or death I can protect you, I wi...  \n",
       "6290  Certainty of death. Small chance of success. W...  \n",
       "6291  The journey doesn't end here. Death is just an...  \n",
       "6292  I see in your eyes the same fear that would ta...  \n",
       "6293                            But it is not this day!  \n",
       "\n",
       "[6294 rows x 2 columns]"
      ],
      "text/html": "<div>\n<style scoped>\n    .dataframe tbody tr th:only-of-type {\n        vertical-align: middle;\n    }\n\n    .dataframe tbody tr th {\n        vertical-align: top;\n    }\n\n    .dataframe thead th {\n        text-align: right;\n    }\n</style>\n<table border=\"1\" class=\"dataframe\">\n  <thead>\n    <tr style=\"text-align: right;\">\n      <th></th>\n      <th>title</th>\n      <th>quote</th>\n    </tr>\n  </thead>\n  <tbody>\n    <tr>\n      <th>0</th>\n      <td>10 things i hate about you</td>\n      <td>Who knocked up your sister?</td>\n    </tr>\n    <tr>\n      <th>1</th>\n      <td>10 things i hate about you</td>\n      <td>I was watching you out there, before. I've nev...</td>\n    </tr>\n    <tr>\n      <th>2</th>\n      <td>10 things i hate about you</td>\n      <td>You're 18, you don't know what you want. And y...</td>\n    </tr>\n    <tr>\n      <th>3</th>\n      <td>10 things i hate about you</td>\n      <td>Ooh, see that, there. Who needs affection when...</td>\n    </tr>\n    <tr>\n      <th>4</th>\n      <td>10 things i hate about you</td>\n      <td>Just 'cause you're beautiful, that doesn't mea...</td>\n    </tr>\n    <tr>\n      <th>...</th>\n      <td>...</td>\n      <td>...</td>\n    </tr>\n    <tr>\n      <th>6289</th>\n      <td>the lord of the rings: the fellowship of the ring</td>\n      <td>If by my life or death I can protect you, I wi...</td>\n    </tr>\n    <tr>\n      <th>6290</th>\n      <td>the lord of the rings: the return of the king</td>\n      <td>Certainty of death. Small chance of success. W...</td>\n    </tr>\n    <tr>\n      <th>6291</th>\n      <td>the lord of the rings: the return of the king</td>\n      <td>The journey doesn't end here. Death is just an...</td>\n    </tr>\n    <tr>\n      <th>6292</th>\n      <td>the lord of the rings: the return of the king</td>\n      <td>I see in your eyes the same fear that would ta...</td>\n    </tr>\n    <tr>\n      <th>6293</th>\n      <td>the lord of the rings: the return of the king</td>\n      <td>But it is not this day!</td>\n    </tr>\n  </tbody>\n</table>\n<p>6294 rows × 2 columns</p>\n</div>"
     },
     "metadata": {},
     "execution_count": 11
    }
   ],
   "source": [
    "q.df"
   ]
  },
  {
   "cell_type": "code",
   "execution_count": 25,
   "metadata": {},
   "outputs": [
    {
     "output_type": "stream",
     "name": "stdout",
     "text": [
      "Obtained corpus text from 01 - The Fellowship Of The Ring.txt\n"
     ]
    },
    {
     "output_type": "execute_result",
     "data": {
      "text/plain": [
       "d all halflings to death and darkness! \\' Then, catching his foot on a stone, he fell sprawling and lay upon his face. For a while he was as still as if his own curse had struck him down; then suddenly he wept. He rose and passed his hand over his eyes, dashing away the tears. \\'What have I said? \\' he cried. `What have I done? Frodo, Frodo! \\' he called. \\'Come back! A madness took me, but it has passed. Come back! \\' There was no answer. Frodo did not even hear his cries. He was already far away, leaping blindly up the path to the hill-top. Terror and grief shook him, seeing in his thought the mad fierce face of Boromir, and his burning eyes. Soon he came out alone on the summit of Amon Hen, and halted, gasping for breath. He saw as through a mist a wide flat circle, paved with mighty flags, and surrounded with a crumbling battlement; and in the middle, set upon four carven pillars, was a high seat, reached by a stair of many steps. Up he went and sat upon the ancient chair, feeling like a lost child that had clambered upon the throne of mountain-kings. At first he could see little. He seemed to be in a world of mist in which there were only shadows: the Ring was upon him. Then here and there the mist gave way and he saw many visions: small and clear as if they were under his eyes upon a table, and yet remote. There was no sound, only bright living images. The world seemed to have shrunk and fallen silent. He was sitting upon the Seat of Seeing, on Amon Hen, the Hill of the Eye of the Men of Númenor. Eastward he looked into wide uncharted lands, nameless plains, and forests unexplored. Northward he looked, and the Great River lay like a ribbon beneath him, and the Misty Mountains stood small and hard as broken teeth. Westward he looked and saw the broad pastures of Rohan; and Orthanc, the pinnacle of Isengard, like a black spike. Southward he looked, and below his very feet the Great River curled like a toppling wave and plunged over the falls of Rauros into a foaming pit; a glimmering rainbow played upon the fume. And Ethir Anduin he saw, the mighty delta of the River, and myriads of sea-birds whirling like a white dust in the sun, and beneath them a green and silver sea, rippling in endless lines. But everywhere he looked he saw the signs of war. The Misty Mountains were crawling like anthills: orcs were issuing out of a thousand holes. Under the boughs of Mirkwood there was deadly strife of Elves and Men and fell beasts. The land of the Beornings was aflame; a cloud was over Moria; smoke rose on the borders of Lórien. Horsemen were galloping on the grass of Rohan; wolves poured from Isengard. From the havens of Harad ships of war put out to sea; and out of the East Men were moving endlessly: swordsmen, spearmen, bowmen upon horses, chariots of chieftains and laden wains. All the power of the Dark Lord was in motion. Then turning south again he beheld Minas Tirith. Far away it seemed. and beautiful: white-walled, many-towered, proud and fair upon its mountain-seat; its battlements glittered with steel, and its turrets were bright with many banners. Hope leaped in his heart. But against Minas Tirith was set another fortress, greater and more strong. Thither, eastward, unwilling his eye was drawn. It passed the ruined bridges of Osgiliath, the grinning gates of Minas Morgul. and the haunted Mountains, and it looked upon Gorgoroth, the valley of terror in the Land of Mordor. Darkness lay there under the Sun. Fire glowed amid the smoke. Mount Doom was burning, and a great reek rising. Then at last his gaze was held: wall upon wall, battlement upon battlement, black, immeasurably strong, mountain of iron, gate of steel, tower of adamant, he saw it: Barad-dûr, Fortress of Sauron. All hope left him. And suddenly he felt the Eye. There was an eye in the Dark Tower that did not sleep. He knew that it had become aware of his gaze. A fierce eager will was there. It leaped towards him; almost like a finger he felt it, searching for him. Very soon it would nail him down, know just exactly where he was. Amon Lhaw it touched. It glanced upon Tol Brandir he threw himself from the seat, crouching, covering his head with his grey hood. He heard himself crying out: _Never, never!_Or was it: _Verily I come, I come to you_? He could not tell. Then as a flash from some other point of power there came to his mind another thought: _Take it off! Take it off! Fool, take it off! Take off the Ring!_ The two powers strove in him. For a moment, perfectly balanced between their piercing points, he writhed, tormented. Suddenly he was aware of himself again. Frodo, neither the Voice nor the Eye: free to choose, and with one remaining instant in which to do so. He took the Ring off his finger. He was kneeling in clear sunlight before the high seat. A black shadow seemed to pass like an arm above him; it missed Amon Hen and groped out west, and faded. Then all the sky was clean and blue and birds sang in every tree. Frodo rose to his feet. A great weariness was on him, but his will was firm and his heart lighter. He spoke aloud to himself. `I will do now what I must,\\' he said. \\'This at least is plain: the evil of the Ring is already at work even in the Company, and the Ring must leave them before it does more harm. I will go alone. Some I cannot trust, and those I can trust are too dear to me: poor old Sam, and Merry and Pippin. Strider, too: his heart yearns for Minas Tirith, and he will be needed there, now Boromir has fallen into evil. I will go alone. At once.\\' He went quickly down the path and came back to the lawn where Boromir had found him. Then he halted, listening. He thought he could hear cries and calls from the woods near the shore below. \\'They\\'ll be hunting for me,\\' he said. `I wonder how long I have been away. Hours, I should think.\\' He hesitated. \\'What can I do? \\' he muttered. \\'I must go now or I shall never go. I shan\\'t get a chance again. I hate leaving them, and like this without any explanation. But surely they will understand. Sam will. And what else can I do?\\' Slowly he drew out the Ring and put it on once more. He vanished and passed down the hill, less than a rustle of the wind. The others remained long by the river-side. For some time they had been silent, moving restlessly about; but now they were sitting in a circle, and they were talking. Every now and again they made efforts to speak of other things, of their long road and many adventures; they questioned Aragorn concerning the realm of Gondor and its ancient history, and the remnants of its great works that could still be seen in this strange border-land of the Emyn Muil: the stone kings and the seats of Lhaw and Hen, and the great Stair beside the falls of Rauros. But always their thoughts and words strayed back to Frodo and the Ring. What would Frodo choose to do? Why was he hesitating? `He is debating which course is the most desperate, I think,\\' said Aragorn. \\'And well he may. It is now more hopeless than ever for the Company to go east, since we have been tracked by Gollum, and must fear that the secret of our journey is already betrayed. But Minas Tirith is no nearer to the Fire and the destruction of the Burden. `We may remain there for a while and make a brave stand; but the Lord Denethor and all his men cannot hope to do what even Elrond said was beyond his power: either to keep the Burden secret. or to hold off the full might of the Enemy when he comes to take it. Which way would any of us choose in Frodo\\'s place? I do not know. Now indeed we miss Gandalf most.\\' \\'Grievous is our loss,\\' said Legolas. \\'Yet we must needs make up our minds without his aid. Why cannot we decide, and so help Frodo? Let us call him back and then vote! I should vote for Minas Tirith.\\' `And so should I,\\' said Gimli. \\'We, of course, were only sent to help the Bearer along the road, to go no further than we wished; and none of us is under any oath or command to seek Mount Doom. Hard was my parting from Lothlórien. Yet I have come so far, and I say this: now we have reached the last choice, it is clear to me that I cannot leave Frodo. I would choose Minas Tirith, but if he does not, then I follow him.\\' `And I too will go with him,\\' said Legolas. `It would be faithless now to say farewell.\\' \\'It would indeed be a betrayal, if we all left him,\\' said Aragorn. \\'But if he goes east, then all need not go with him; nor do I think that all should. That venture is desperate: as much so for eight as for three or two, or one alone. If you would let me choose, then I should appoint three companions: Sam, who could not bear it otherwise; and Gimli; and myself. Boromir will return to his own city, where his father and his people need him; and with him the others should go, or at least Meriadoc and Peregrin, if Legolas is not willing to leave us.\\' `That won\\'t do at all! \\' cried Merry. \\'We can\\'t leave Frodo! Pippin and I always intended to go wherever he went, and we still do. But we did not realize what that would mean. It seemed different so far away, in the Shire or in Rivendell. It would be mad and cruel to let Frodo go to Mordor. Why can\\'t we stop him?\\' \\'We must stop him,\\' said Pippin. `And that is what he is worrying about, I am sure. He knows we shan\\'t agree to his going east. And he doesn\\'t like to ask anyone to go with him, poor old fellow. Imagine it: going off to Mordor alone! \\' Pippin shuddered. \\'But the dear silly old hobbit, he ought to know that he hasn\\'t got to ask. He ought to know that if we can\\'t stop him, we shan\\'t leave him.\\' \\'Begging your pardon,\\' said Sam. \\'I don\\'t think you understand my master at all. He isn\\'t hesitating about which way to go. Of course not! What\\'s the good of Minas Tirith anyway? To him, I mean, begging your pardon, Master Boromir,\\' he added, and turned. It was then that they discovered that Boromir, who at first had been sitting silent on the outside of the circle, was no longer there. `Now where\\'s he got to? \\' cried Sam, looking worried. \\'He\\'s been a bit queer lately, to my mind. But anyway he\\'s not in this business. He\\'s off to his home, as he always said; and no blame to him. But Mr. Frodo, he knows he\\'s got to find the Cracks of Doom, if he can. But he\\'s _afraid_. Now it\\'s come to the point, he\\'s just plain terrified. That\\'s what his trouble is. Of course he\\'s had a bit of schooling, so to speak-we all have-since we left home, or he\\'d be so terrified he\\'d just fling the Ring in the River and bolt. But he\\'s still too frightened to start. And he isn\\'t worrying about us either: whether we\\'ll go along with him or no. He knows we mean to. That\\'s another thing that\\'s bothering him. If he screws himself up to go, he\\'ll want to go alone. Mark my words! We\\'re going to have trouble when he comes back. For he\\'ll screw himself up all right, as sure as his name\\'s Baggins.\\' \\'I believe you speak more wisely than any of us, Sam,\\' said Aragorn. `And what shall we do, if you prove right? \\' \\'Stop him! Don\\'t let him go! \\' cried Pippin. \\'I wonder? \\' said Aragorn. `He is the Bearer, and the fate of the Burden is on him. I do not think that it is our part to drive him one way or the other. Nor do I think that we should succeed, if we tried. There are other powers at work far stronger.\\' `Well, I wish Frodo would \"screw himself up\" and come back. and let us get it over,\\' said Pippin. `This waiting is horrible! Surely the time is up? \\' `Yes,\\' said Aragorn. \\'The hour is long passed. The morning is wearing away. We must call for him.\\' At that moment Boromir reappeared. He came out from the trees and walked towards them without speaking. His face looked grim and sad. He paused as if counting those that were present, and then sat down aloof, with his eyes on the ground. `Where have you been, Boromir? \\' asked Aragorn. `Have you seen Frodo? \\' Boromir hesitated for a second. `Yes, and no,\\' he answered slowly. `Yes: I found him some way up the hill, and I spoke to him. I urged him to come to Minas Tirith and not to go east. I grew angry and he left me. He vanished. I have never seen such a thing happen before. though I have heard of it in tales. He must have put the Ring on. I could not find him again. I thought he would return to you.\\' \\'Is that all that you have to say? \\' said Aragorn, looking hard and not too kindly at Boromir. `Yes,\\' he answered. `I will say no more yet.\\' `This is bad!\\' cried Sam, jumping up. `I don\\'t know what this Man has been up to. Why should Mr. Frodo put the thing on? He didn\\'t ought to have; and if he has, goodness knows what may have happened!\\' \\'But he wouldn\\'t keep it on`\\' said Merry. `Not when he had escaped the unwelcome visitor, like Bilbo used to.\\' `But where did he go? Where is he? \\' cried Pippin. \\'He\\'s been away ages now.\\' `How long is it since you saw Frodo last, Boromir? \\' asked Aragorn. `Half an hour, maybe,\\' he answered. `Or it might be an hour. I have wandered for some time since. I do not know! I do not know! \\' He put his head in his hands, and sat as if bowed with grief. `An hour since he vanished! \\' shouted Sam. `We must try and find him at once. Come on! \\' `Wait a moment! \\' cried Aragorn. `We must divide up into pairs, and arrange-here, hold on! Wait! \\' It was no good. They took no notice of him. Sam had dashed off first. Merry and Pippin had followed, and were already disappearing westward into the trees by the shore, shouting: _Frodo! Frodo!_ in their clear, high hobbit-voices. Legolas and Gimli were running. A sudden panic or madness seemed to have fallen on the Company. `We shall all be scattered and lost,\\' groaned Aragorn. `Boromir! I do not know what part you have played in this mischief, but help now! Go after those two young hobbits, and guard them at the least, even if you cannot find Frodo. Come back to this spot, if you find him, or any traces of him. I shall return soon.\\'  Aragorn sprang swiftly away and went in pursuit of Sam. Just as he reached the little lawn among the rowans he overtook him, toiling uphill, panting and calling, _Frodo!_ `Come with me, Sam! \\' he said. `None of us should be alone. There is mischief about. I feel it. I am going to the top, to the Seat of Amon Hen, to see what may be seen. And look! It is as my heart guessed, Frodo went this way. Follow me, and keep your eyes open! \\' He sped up the path. Sam did his best, but he could not keep up with Strider the Ranger, and soon fell behind. He had not gone far before Aragorn was out of sight ahead. Sam stopped and puffed. Suddenly he clapped his hand to his head. `Whoa, Sam Gamgee! \\' he said aloud. `Your legs are too short, so use your head! Let me see now! Boromir isn\\'t lying, that\\'s not his way; but he hasn\\'t told us everything. Something scared Mr. Frodo badly. He screwed himself up to the point, sudden. He made up his mind at last to go. Where to? Off East. Not without Sam? Yes, without even his Sam. That\\'s hard, cruel hard.\\' Sam passed his hand over his eyes, brushing away the tears. \\'Steady, Gamgee! \\' he said. `Think, if you can! He can\\'t fly across rivers, and he can\\'t jump waterfalls. He\\'s got no gear. So he\\'s got to get back to the boats. Back to the boats! Back to the boats, Sam, like lightning! \\' Sam turned and bolted back down the path. He fell and cut his knees. Up he got and ran on. He came to the edge of the lawn of Parth Galen by the shore, where the boats were drawn up out of the water. No one was there. There seemed to be cries in the woods behind, but he did not heed them. He stood gazing for a moment. stock-still, gaping. A boat was sliding down the bank all by itself. With a shout Sam raced across the grass. The boat slipped into the water. `Coming, Mr. Frodo! Coming! \\' called Sam, and flung himself from the bank, clutching at the departing boat. He missed it by a yard. With a cry and a splash he fell face downward into deep swift water. Gurgling he went under, and the River closed over his curly head. An exclamation of dismay came from the empty boat. A paddle swirled and the boat put about. Frodo was just in time to grasp Sam by the hair as he came up, bubbling and struggling. Fear was staring in his round brown eyes. `Up you come, Sam my lad! \\' said Frodo. `Now take my hand! \\' `Save me, Mr. Frodo! \\' gasped Sam. `I\\'m drownded. I can\\'t see your hand.\\' `Here it is. Don\\'t pinch, lad! I won\\'t let you go. Tread water and don\\'t flounder, or you\\'ll upset the boat. There now, get hold of the side, and let me use the paddle! \\' With a few strokes Frodo brought the boat back to the bank. and Sam was able to scramble out, wet as a water-rat. Frodo took off the Ring and stepped ashore again. `Of all the confounded nuisances you are the worst, Sam! \\' he said. \\'Oh, Mr. Frodo, that\\'s hard! \\' said Sam shivering. `That\\'s hard, trying to go without me and all. If I hadn\\'t a guessed right, where would you be now? \\' `Safely on my way.\\' `Safely! \\' said Sam. `All alone and without me to help you? I couldn\\'t have a borne it, it\\'d have been the death of me.\\' \\'It would be the death of you to come with me, Sam,\\' said Frodo and I could not have borne that.\\' `Not as certain as being left behind,\\' said Sam. `But I am going to Mordor.\\' `I know that well enough, Mr. Frodo. Of course you are. And I\\'m coming with you.\\' `Now, Sam,\\' said Frodo, `don\\'t hinder me! The others will be coming back at any minute. If they catch me here. I shall have to argue and explain, and I shall never have the heart or the chance to get off. But I must go at once. It\\'s the only way.\\' `Of course it is,\\' answered Sam. \\'But not alone. I\\'m coming too, or neither of us isn\\'t going. I\\'ll knock holes in all the boats first.\\' Frodo actually laughed. A sudden warmth and gladness touched his heart. `Leave one! \\'he said. `We\\'ll need it. But you can\\'t come like this without your gear or food or anything.\\' \\'Just hold on a moment, and I\\'ll get my stuff!\\' cried Sam eagerly. \\'It\\'s all ready. I thought we should be off today.\\' He rushed to the camping place, fished out his pack from the pile where Frodo had laid it when he emptied the boat of his companions\\' goods grabbed a spare blanket, and some extra packages of food, and ran back. `So all my plan is spoilt! \\' said Frodo. `It is no good trying to escape you. But I\\'m glad, Sam. I cannot tell you how glad. Come along! It is plain that we were meant to go together. We will go, and may the others find a safe road! Strider will look after them. I don\\'t suppose we shall see them again.\\' `Yet we may, Mr Frodo. We may,\\' said Sam.  So Frodo and Sam set off on the last stage of the Quest together. Frodo paddled away from the shore, and the River bore them swiftly away. down the western arm, and past the frowning cliffs of Tol Brandir. The roar of the great falls drew nearer. Even with such help as Sam could give, it was hard work to pass across the current at the southward end of the island and drive the boat eastward towards the far shore. At length they came to land again upon the southern slopes of Amon Lhaw. There they found a shelving shore, and they drew the boat out, high above the water, and hid it as well as they could behind a great boulder. Then shouldering their burdens, they set off, seeking a path that would bring them over the grey hills of the Emyn Muil, and down into the Land of Shadow.   _Here ends the first part of the history of the War of the Ring._ _The second part is called_THE TWO TOWERS_, since the events recounted in it are dominated by_ORTHANC_, the citadel of Saruman, and the fortress of_MINAS MORGUL_ that guards the secret entrance to Mordor; it tells of the deeds and perils of all the members of the now sundered fellowship, until the coming of the Great Darkness._ _The third part tells of the last defence against the Shadow, and the end of the mission of the Ring-bearer in_THE RETURN OF THE KING.  ====================================================='"
      ]
     },
     "metadata": {},
     "execution_count": 25
    }
   ],
   "source": [
    "dirname = root + os.sep + 'data'\n",
    "\n",
    "q.clean_text(dirname,  '01 - The Fellowship Of The Ring.txt')"
   ]
  },
  {
   "cell_type": "code",
   "execution_count": 11,
   "metadata": {},
   "outputs": [],
   "source": [
    "lines = [line.replace('\\n','') for line in book_one]\n",
    "lines = [line.replace('     ','') for line in lines]\n",
    "book_one = ' '.join(lines)"
   ]
  },
  {
   "cell_type": "code",
   "execution_count": 12,
   "metadata": {},
   "outputs": [
    {
     "output_type": "execute_result",
     "data": {
      "text/plain": [
       "997257"
      ]
     },
     "metadata": {},
     "execution_count": 12
    }
   ],
   "source": [
    "len(book_one)"
   ]
  },
  {
   "cell_type": "code",
   "execution_count": 12,
   "metadata": {},
   "outputs": [
    {
     "output_type": "stream",
     "name": "stdout",
     "text": [
      "Successfully saved Dataframe.\n"
     ]
    }
   ],
   "source": [
    "q.save_quote_df(root + os.sep + 'data' + os.sep + 'BASE.csv')"
   ]
  },
  {
   "cell_type": "code",
   "execution_count": 14,
   "metadata": {},
   "outputs": [
    {
     "output_type": "execute_result",
     "data": {
      "text/plain": [
       "                                                  title  \\\n",
       "0                            10 things i hate about you   \n",
       "1                            10 things i hate about you   \n",
       "2                            10 things i hate about you   \n",
       "3                            10 things i hate about you   \n",
       "4                            10 things i hate about you   \n",
       "...                                                 ...   \n",
       "6289  the lord of the rings: the fellowship of the ring   \n",
       "6290      the lord of the rings: the return of the king   \n",
       "6291      the lord of the rings: the return of the king   \n",
       "6292      the lord of the rings: the return of the king   \n",
       "6293      the lord of the rings: the return of the king   \n",
       "\n",
       "                                                  quote  \n",
       "0                           Who knocked up your sister?  \n",
       "1     I was watching you out there, before. I've nev...  \n",
       "2     You're 18, you don't know what you want. And y...  \n",
       "3     Ooh, see that, there. Who needs affection when...  \n",
       "4     Just 'cause you're beautiful, that doesn't mea...  \n",
       "...                                                 ...  \n",
       "6289  If by my life or death I can protect you, I wi...  \n",
       "6290  Certainty of death. Small chance of success. W...  \n",
       "6291  The journey doesn't end here. Death is just an...  \n",
       "6292  I see in your eyes the same fear that would ta...  \n",
       "6293                            But it is not this day!  \n",
       "\n",
       "[6294 rows x 2 columns]"
      ],
      "text/html": "<div>\n<style scoped>\n    .dataframe tbody tr th:only-of-type {\n        vertical-align: middle;\n    }\n\n    .dataframe tbody tr th {\n        vertical-align: top;\n    }\n\n    .dataframe thead th {\n        text-align: right;\n    }\n</style>\n<table border=\"1\" class=\"dataframe\">\n  <thead>\n    <tr style=\"text-align: right;\">\n      <th></th>\n      <th>title</th>\n      <th>quote</th>\n    </tr>\n  </thead>\n  <tbody>\n    <tr>\n      <th>0</th>\n      <td>10 things i hate about you</td>\n      <td>Who knocked up your sister?</td>\n    </tr>\n    <tr>\n      <th>1</th>\n      <td>10 things i hate about you</td>\n      <td>I was watching you out there, before. I've nev...</td>\n    </tr>\n    <tr>\n      <th>2</th>\n      <td>10 things i hate about you</td>\n      <td>You're 18, you don't know what you want. And y...</td>\n    </tr>\n    <tr>\n      <th>3</th>\n      <td>10 things i hate about you</td>\n      <td>Ooh, see that, there. Who needs affection when...</td>\n    </tr>\n    <tr>\n      <th>4</th>\n      <td>10 things i hate about you</td>\n      <td>Just 'cause you're beautiful, that doesn't mea...</td>\n    </tr>\n    <tr>\n      <th>...</th>\n      <td>...</td>\n      <td>...</td>\n    </tr>\n    <tr>\n      <th>6289</th>\n      <td>the lord of the rings: the fellowship of the ring</td>\n      <td>If by my life or death I can protect you, I wi...</td>\n    </tr>\n    <tr>\n      <th>6290</th>\n      <td>the lord of the rings: the return of the king</td>\n      <td>Certainty of death. Small chance of success. W...</td>\n    </tr>\n    <tr>\n      <th>6291</th>\n      <td>the lord of the rings: the return of the king</td>\n      <td>The journey doesn't end here. Death is just an...</td>\n    </tr>\n    <tr>\n      <th>6292</th>\n      <td>the lord of the rings: the return of the king</td>\n      <td>I see in your eyes the same fear that would ta...</td>\n    </tr>\n    <tr>\n      <th>6293</th>\n      <td>the lord of the rings: the return of the king</td>\n      <td>But it is not this day!</td>\n    </tr>\n  </tbody>\n</table>\n<p>6294 rows × 2 columns</p>\n</div>"
     },
     "metadata": {},
     "execution_count": 14
    }
   ],
   "source": [
    "df = pd.read_csv(root + os.sep + 'data' + os.sep + 'BASE.csv', index_col=0)\n",
    "df"
   ]
  },
  {
   "cell_type": "code",
   "execution_count": 76,
   "metadata": {},
   "outputs": [
    {
     "output_type": "execute_result",
     "data": {
      "text/plain": [
       "                        title  \\\n",
       "0  10 things i hate about you   \n",
       "1  10 things i hate about you   \n",
       "2  10 things i hate about you   \n",
       "3  10 things i hate about you   \n",
       "4  10 things i hate about you   \n",
       "\n",
       "                                               quote  \n",
       "0                        Who knocked up your sister?  \n",
       "1  I was watching you out there, before. I've nev...  \n",
       "2  You're 18, you don't know what you want. And y...  \n",
       "3  Ooh, see that, there. Who needs affection when...  \n",
       "4  Just 'cause you're beautiful, that doesn't mea...  "
      ],
      "text/html": "<div>\n<style scoped>\n    .dataframe tbody tr th:only-of-type {\n        vertical-align: middle;\n    }\n\n    .dataframe tbody tr th {\n        vertical-align: top;\n    }\n\n    .dataframe thead th {\n        text-align: right;\n    }\n</style>\n<table border=\"1\" class=\"dataframe\">\n  <thead>\n    <tr style=\"text-align: right;\">\n      <th></th>\n      <th>title</th>\n      <th>quote</th>\n    </tr>\n  </thead>\n  <tbody>\n    <tr>\n      <th>0</th>\n      <td>10 things i hate about you</td>\n      <td>Who knocked up your sister?</td>\n    </tr>\n    <tr>\n      <th>1</th>\n      <td>10 things i hate about you</td>\n      <td>I was watching you out there, before. I've nev...</td>\n    </tr>\n    <tr>\n      <th>2</th>\n      <td>10 things i hate about you</td>\n      <td>You're 18, you don't know what you want. And y...</td>\n    </tr>\n    <tr>\n      <th>3</th>\n      <td>10 things i hate about you</td>\n      <td>Ooh, see that, there. Who needs affection when...</td>\n    </tr>\n    <tr>\n      <th>4</th>\n      <td>10 things i hate about you</td>\n      <td>Just 'cause you're beautiful, that doesn't mea...</td>\n    </tr>\n  </tbody>\n</table>\n</div>"
     },
     "metadata": {},
     "execution_count": 76
    }
   ],
   "source": [
    "df = create_quote_dataset('moviequotes.memorable_quotes.txt')\n",
    "df.title = df.title.apply(title_corrector)\n",
    "df.head()"
   ]
  },
  {
   "cell_type": "code",
   "execution_count": 77,
   "metadata": {},
   "outputs": [
    {
     "output_type": "execute_result",
     "data": {
      "text/plain": [
       "6282"
      ]
     },
     "metadata": {},
     "execution_count": 77
    }
   ],
   "source": [
    "len(df)"
   ]
  },
  {
   "cell_type": "code",
   "execution_count": null,
   "metadata": {},
   "outputs": [],
   "source": [
    "def title_corrector(self, x):\n",
    "    data = {'terminator':'the terminator',\n",
    "            \"pirates of the caribbean dead man's chest\": \"pirates of the caribbean: dead man's chest\",\n",
    "            'the planet of the apes':'planet of the apes',\n",
    "            'star trek the motion picture': 'star trek: the motion picture',\n",
    "            'star trek: the wrath of khan':'star trek ii: the wrath of khan',\n",
    "            'robin hood prince of thieves':'robin hood: prince of thieves',\n",
    "            'lord of the rings the two towers':'the lord of the rings: the two towers'}\n",
    "    try:\n",
    "        return data[x]\n",
    "    except:\n",
    "        return x"
   ]
  },
  {
   "cell_type": "code",
   "execution_count": 72,
   "metadata": {},
   "outputs": [],
   "source": [
    "dic = {\n",
    "        'the lord of the rings: the fellowship of the ring': ['A wizard is never late, Frodo Baggins. Nor is he early. He arrives precisely when he means to.',\n",
    "        'You shall not pass!',\n",
    "        'Fly you fools!',\n",
    "        'Even the smallest person can change the course of the future.',\n",
    "        'Many that live deserve death. Some that die deserve life...Do not be too eager to deal out death in judgement. Even the very wise cannot see all ends.',\n",
    "        'So do all who live to see such times. But that is not for them to decide. All we have to decide is what to do with the time that is given to us.',\n",
    "        'One ring to rule them all. One ring to find them. One ring to bring them all and in the darkness bind them!',\n",
    "        'If by my life or death I can protect you, I will. You have my sword'],\n",
    "        'the lord of the rings: the return of the king': [\"Certainty of death. Small chance of success. What are we waiting for?\",\n",
    "            \"The journey doesn't end here. Death is just another path... One that we all must take.\",\n",
    "            \"I see in your eyes the same fear that would take the heart of me.\",\n",
    "            \"But it is not this day!\"]\n",
    "            }"
   ]
  },
  {
   "cell_type": "code",
   "execution_count": 81,
   "metadata": {},
   "outputs": [],
   "source": [
    "for q in fellowship_quotes:\n",
    "    df = df.append({'title':'the lord of the rings: the fellowship of the ring', 'quote':q}, ignore_index=True)\n",
    "\n",
    "for k in king_quotes:\n",
    "    df = df.append({'title':'the lord of the rings: the return of the king', 'quote':k}, ignore_index=True)"
   ]
  },
  {
   "cell_type": "code",
   "execution_count": 82,
   "metadata": {},
   "outputs": [
    {
     "output_type": "execute_result",
     "data": {
      "text/plain": [
       "6294"
      ]
     },
     "metadata": {},
     "execution_count": 82
    }
   ],
   "source": [
    "len(df)"
   ]
  },
  {
   "cell_type": "code",
   "execution_count": 40,
   "metadata": {},
   "outputs": [
    {
     "output_type": "execute_result",
     "data": {
      "text/plain": [
       "      Sctconst titleType                 primaryTitle  \\\n",
       "498  tt0000502     movie                     Bohemios   \n",
       "570  tt0000574     movie  The Story of the Kelly Gang   \n",
       "587  tt0000591     movie             The Prodigal Son   \n",
       "610  tt0000615     movie           Robbery Under Arms   \n",
       "625  tt0000630     movie                       Hamlet   \n",
       "\n",
       "                           title isAdult startYear endYear runtimeMinutes  \\\n",
       "498                     bohemios       0      1905      \\N            100   \n",
       "570  the story of the kelly gang       0      1906      \\N             70   \n",
       "587            l'enfant prodigue       0      1907      \\N             90   \n",
       "610           robbery under arms       0      1907      \\N             \\N   \n",
       "625                       amleto       0      1908      \\N             \\N   \n",
       "\n",
       "                         genres  \n",
       "498                          \\N  \n",
       "570  Action,Adventure,Biography  \n",
       "587                       Drama  \n",
       "610                       Drama  \n",
       "625                       Drama  "
      ],
      "text/html": "<div>\n<style scoped>\n    .dataframe tbody tr th:only-of-type {\n        vertical-align: middle;\n    }\n\n    .dataframe tbody tr th {\n        vertical-align: top;\n    }\n\n    .dataframe thead th {\n        text-align: right;\n    }\n</style>\n<table border=\"1\" class=\"dataframe\">\n  <thead>\n    <tr style=\"text-align: right;\">\n      <th></th>\n      <th>Sctconst</th>\n      <th>titleType</th>\n      <th>primaryTitle</th>\n      <th>title</th>\n      <th>isAdult</th>\n      <th>startYear</th>\n      <th>endYear</th>\n      <th>runtimeMinutes</th>\n      <th>genres</th>\n    </tr>\n  </thead>\n  <tbody>\n    <tr>\n      <th>498</th>\n      <td>tt0000502</td>\n      <td>movie</td>\n      <td>Bohemios</td>\n      <td>bohemios</td>\n      <td>0</td>\n      <td>1905</td>\n      <td>\\N</td>\n      <td>100</td>\n      <td>\\N</td>\n    </tr>\n    <tr>\n      <th>570</th>\n      <td>tt0000574</td>\n      <td>movie</td>\n      <td>The Story of the Kelly Gang</td>\n      <td>the story of the kelly gang</td>\n      <td>0</td>\n      <td>1906</td>\n      <td>\\N</td>\n      <td>70</td>\n      <td>Action,Adventure,Biography</td>\n    </tr>\n    <tr>\n      <th>587</th>\n      <td>tt0000591</td>\n      <td>movie</td>\n      <td>The Prodigal Son</td>\n      <td>l'enfant prodigue</td>\n      <td>0</td>\n      <td>1907</td>\n      <td>\\N</td>\n      <td>90</td>\n      <td>Drama</td>\n    </tr>\n    <tr>\n      <th>610</th>\n      <td>tt0000615</td>\n      <td>movie</td>\n      <td>Robbery Under Arms</td>\n      <td>robbery under arms</td>\n      <td>0</td>\n      <td>1907</td>\n      <td>\\N</td>\n      <td>\\N</td>\n      <td>Drama</td>\n    </tr>\n    <tr>\n      <th>625</th>\n      <td>tt0000630</td>\n      <td>movie</td>\n      <td>Hamlet</td>\n      <td>amleto</td>\n      <td>0</td>\n      <td>1908</td>\n      <td>\\N</td>\n      <td>\\N</td>\n      <td>Drama</td>\n    </tr>\n  </tbody>\n</table>\n</div>"
     },
     "metadata": {},
     "execution_count": 40
    }
   ],
   "source": [
    "titles = pd.read_csv('titles.tsv', sep='\\t', low_memory=False)\n",
    "titles = titles.rename(columns={'originalTitle':'title'})\n",
    "titles = titles[titles.titleType == 'movie']\n",
    "titles.title = titles.title.apply(lambda x: x.lower())\n",
    "titles.head()"
   ]
  },
  {
   "cell_type": "code",
   "execution_count": 35,
   "metadata": {},
   "outputs": [
    {
     "output_type": "execute_result",
     "data": {
      "text/plain": [
       "577186"
      ]
     },
     "metadata": {},
     "execution_count": 35
    }
   ],
   "source": [
    "len(titles)"
   ]
  },
  {
   "cell_type": "code",
   "execution_count": 83,
   "metadata": {},
   "outputs": [
    {
     "output_type": "execute_result",
     "data": {
      "text/plain": [
       "                                                   title  \\\n",
       "0                             10 things i hate about you   \n",
       "1                             10 things i hate about you   \n",
       "2                             10 things i hate about you   \n",
       "3                             10 things i hate about you   \n",
       "4                             10 things i hate about you   \n",
       "...                                                  ...   \n",
       "10863  the lord of the rings: the fellowship of the ring   \n",
       "10864      the lord of the rings: the return of the king   \n",
       "10865      the lord of the rings: the return of the king   \n",
       "10866      the lord of the rings: the return of the king   \n",
       "10867      the lord of the rings: the return of the king   \n",
       "\n",
       "                                                   quote   Sctconst titleType  \\\n",
       "0                            Who knocked up your sister?  tt0147800     movie   \n",
       "1      I was watching you out there, before. I've nev...  tt0147800     movie   \n",
       "2      You're 18, you don't know what you want. And y...  tt0147800     movie   \n",
       "3      Ooh, see that, there. Who needs affection when...  tt0147800     movie   \n",
       "4      Just 'cause you're beautiful, that doesn't mea...  tt0147800     movie   \n",
       "...                                                  ...        ...       ...   \n",
       "10863  If by my life or death I can protect you, I wi...  tt0120737     movie   \n",
       "10864  Certainty of death. Small chance of success. W...  tt0167260     movie   \n",
       "10865  The journey doesn't end here. Death is just an...  tt0167260     movie   \n",
       "10866  I see in your eyes the same fear that would ta...  tt0167260     movie   \n",
       "10867                            But it is not this day!  tt0167260     movie   \n",
       "\n",
       "                                            primaryTitle isAdult startYear  \\\n",
       "0                             10 Things I Hate About You       0      1999   \n",
       "1                             10 Things I Hate About You       0      1999   \n",
       "2                             10 Things I Hate About You       0      1999   \n",
       "3                             10 Things I Hate About You       0      1999   \n",
       "4                             10 Things I Hate About You       0      1999   \n",
       "...                                                  ...     ...       ...   \n",
       "10863  The Lord of the Rings: The Fellowship of the Ring       0      2001   \n",
       "10864      The Lord of the Rings: The Return of the King       0      2003   \n",
       "10865      The Lord of the Rings: The Return of the King       0      2003   \n",
       "10866      The Lord of the Rings: The Return of the King       0      2003   \n",
       "10867      The Lord of the Rings: The Return of the King       0      2003   \n",
       "\n",
       "      endYear runtimeMinutes                  genres  \n",
       "0          \\N             97    Comedy,Drama,Romance  \n",
       "1          \\N             97    Comedy,Drama,Romance  \n",
       "2          \\N             97    Comedy,Drama,Romance  \n",
       "3          \\N             97    Comedy,Drama,Romance  \n",
       "4          \\N             97    Comedy,Drama,Romance  \n",
       "...       ...            ...                     ...  \n",
       "10863      \\N            178  Action,Adventure,Drama  \n",
       "10864      \\N            201  Action,Adventure,Drama  \n",
       "10865      \\N            201  Action,Adventure,Drama  \n",
       "10866      \\N            201  Action,Adventure,Drama  \n",
       "10867      \\N            201  Action,Adventure,Drama  \n",
       "\n",
       "[5954 rows x 10 columns]"
      ],
      "text/html": "<div>\n<style scoped>\n    .dataframe tbody tr th:only-of-type {\n        vertical-align: middle;\n    }\n\n    .dataframe tbody tr th {\n        vertical-align: top;\n    }\n\n    .dataframe thead th {\n        text-align: right;\n    }\n</style>\n<table border=\"1\" class=\"dataframe\">\n  <thead>\n    <tr style=\"text-align: right;\">\n      <th></th>\n      <th>title</th>\n      <th>quote</th>\n      <th>Sctconst</th>\n      <th>titleType</th>\n      <th>primaryTitle</th>\n      <th>isAdult</th>\n      <th>startYear</th>\n      <th>endYear</th>\n      <th>runtimeMinutes</th>\n      <th>genres</th>\n    </tr>\n  </thead>\n  <tbody>\n    <tr>\n      <th>0</th>\n      <td>10 things i hate about you</td>\n      <td>Who knocked up your sister?</td>\n      <td>tt0147800</td>\n      <td>movie</td>\n      <td>10 Things I Hate About You</td>\n      <td>0</td>\n      <td>1999</td>\n      <td>\\N</td>\n      <td>97</td>\n      <td>Comedy,Drama,Romance</td>\n    </tr>\n    <tr>\n      <th>1</th>\n      <td>10 things i hate about you</td>\n      <td>I was watching you out there, before. I've nev...</td>\n      <td>tt0147800</td>\n      <td>movie</td>\n      <td>10 Things I Hate About You</td>\n      <td>0</td>\n      <td>1999</td>\n      <td>\\N</td>\n      <td>97</td>\n      <td>Comedy,Drama,Romance</td>\n    </tr>\n    <tr>\n      <th>2</th>\n      <td>10 things i hate about you</td>\n      <td>You're 18, you don't know what you want. And y...</td>\n      <td>tt0147800</td>\n      <td>movie</td>\n      <td>10 Things I Hate About You</td>\n      <td>0</td>\n      <td>1999</td>\n      <td>\\N</td>\n      <td>97</td>\n      <td>Comedy,Drama,Romance</td>\n    </tr>\n    <tr>\n      <th>3</th>\n      <td>10 things i hate about you</td>\n      <td>Ooh, see that, there. Who needs affection when...</td>\n      <td>tt0147800</td>\n      <td>movie</td>\n      <td>10 Things I Hate About You</td>\n      <td>0</td>\n      <td>1999</td>\n      <td>\\N</td>\n      <td>97</td>\n      <td>Comedy,Drama,Romance</td>\n    </tr>\n    <tr>\n      <th>4</th>\n      <td>10 things i hate about you</td>\n      <td>Just 'cause you're beautiful, that doesn't mea...</td>\n      <td>tt0147800</td>\n      <td>movie</td>\n      <td>10 Things I Hate About You</td>\n      <td>0</td>\n      <td>1999</td>\n      <td>\\N</td>\n      <td>97</td>\n      <td>Comedy,Drama,Romance</td>\n    </tr>\n    <tr>\n      <th>...</th>\n      <td>...</td>\n      <td>...</td>\n      <td>...</td>\n      <td>...</td>\n      <td>...</td>\n      <td>...</td>\n      <td>...</td>\n      <td>...</td>\n      <td>...</td>\n      <td>...</td>\n    </tr>\n    <tr>\n      <th>10863</th>\n      <td>the lord of the rings: the fellowship of the ring</td>\n      <td>If by my life or death I can protect you, I wi...</td>\n      <td>tt0120737</td>\n      <td>movie</td>\n      <td>The Lord of the Rings: The Fellowship of the Ring</td>\n      <td>0</td>\n      <td>2001</td>\n      <td>\\N</td>\n      <td>178</td>\n      <td>Action,Adventure,Drama</td>\n    </tr>\n    <tr>\n      <th>10864</th>\n      <td>the lord of the rings: the return of the king</td>\n      <td>Certainty of death. Small chance of success. W...</td>\n      <td>tt0167260</td>\n      <td>movie</td>\n      <td>The Lord of the Rings: The Return of the King</td>\n      <td>0</td>\n      <td>2003</td>\n      <td>\\N</td>\n      <td>201</td>\n      <td>Action,Adventure,Drama</td>\n    </tr>\n    <tr>\n      <th>10865</th>\n      <td>the lord of the rings: the return of the king</td>\n      <td>The journey doesn't end here. Death is just an...</td>\n      <td>tt0167260</td>\n      <td>movie</td>\n      <td>The Lord of the Rings: The Return of the King</td>\n      <td>0</td>\n      <td>2003</td>\n      <td>\\N</td>\n      <td>201</td>\n      <td>Action,Adventure,Drama</td>\n    </tr>\n    <tr>\n      <th>10866</th>\n      <td>the lord of the rings: the return of the king</td>\n      <td>I see in your eyes the same fear that would ta...</td>\n      <td>tt0167260</td>\n      <td>movie</td>\n      <td>The Lord of the Rings: The Return of the King</td>\n      <td>0</td>\n      <td>2003</td>\n      <td>\\N</td>\n      <td>201</td>\n      <td>Action,Adventure,Drama</td>\n    </tr>\n    <tr>\n      <th>10867</th>\n      <td>the lord of the rings: the return of the king</td>\n      <td>But it is not this day!</td>\n      <td>tt0167260</td>\n      <td>movie</td>\n      <td>The Lord of the Rings: The Return of the King</td>\n      <td>0</td>\n      <td>2003</td>\n      <td>\\N</td>\n      <td>201</td>\n      <td>Action,Adventure,Drama</td>\n    </tr>\n  </tbody>\n</table>\n<p>5954 rows × 10 columns</p>\n</div>"
     },
     "metadata": {},
     "execution_count": 83
    }
   ],
   "source": [
    "id_df = pd.merge(df, titles, on='title')\n",
    "id_df.drop_duplicates('quote', inplace=True)\n",
    "id_df"
   ]
  },
  {
   "cell_type": "code",
   "execution_count": 85,
   "metadata": {},
   "outputs": [
    {
     "output_type": "execute_result",
     "data": {
      "text/plain": [
       "Index(['title', 'quote', 'Sctconst', 'titleType', 'primaryTitle', 'isAdult',\n",
       "       'startYear', 'endYear', 'runtimeMinutes', 'genres'],\n",
       "      dtype='object')"
      ]
     },
     "metadata": {},
     "execution_count": 85
    }
   ],
   "source": [
    "id_df.columns"
   ]
  },
  {
   "cell_type": "code",
   "execution_count": 88,
   "metadata": {},
   "outputs": [],
   "source": [
    "base = id_df.loc[:, ['title', 'quote', 'Sctconst', 'startYear', 'genres']]\n",
    "base = base.rename(columns={'Sctconst':'ID', 'startYear':'Year'})\n",
    "base.to_csv('BASE.csv')"
   ]
  },
  {
   "cell_type": "code",
   "execution_count": 89,
   "metadata": {},
   "outputs": [
    {
     "output_type": "execute_result",
     "data": {
      "text/plain": [
       "                        title  \\\n",
       "0  10 things i hate about you   \n",
       "1  10 things i hate about you   \n",
       "2  10 things i hate about you   \n",
       "3  10 things i hate about you   \n",
       "4  10 things i hate about you   \n",
       "\n",
       "                                               quote         ID  Year  \\\n",
       "0                        Who knocked up your sister?  tt0147800  1999   \n",
       "1  I was watching you out there, before. I've nev...  tt0147800  1999   \n",
       "2  You're 18, you don't know what you want. And y...  tt0147800  1999   \n",
       "3  Ooh, see that, there. Who needs affection when...  tt0147800  1999   \n",
       "4  Just 'cause you're beautiful, that doesn't mea...  tt0147800  1999   \n",
       "\n",
       "                 genres  \n",
       "0  Comedy,Drama,Romance  \n",
       "1  Comedy,Drama,Romance  \n",
       "2  Comedy,Drama,Romance  \n",
       "3  Comedy,Drama,Romance  \n",
       "4  Comedy,Drama,Romance  "
      ],
      "text/html": "<div>\n<style scoped>\n    .dataframe tbody tr th:only-of-type {\n        vertical-align: middle;\n    }\n\n    .dataframe tbody tr th {\n        vertical-align: top;\n    }\n\n    .dataframe thead th {\n        text-align: right;\n    }\n</style>\n<table border=\"1\" class=\"dataframe\">\n  <thead>\n    <tr style=\"text-align: right;\">\n      <th></th>\n      <th>title</th>\n      <th>quote</th>\n      <th>ID</th>\n      <th>Year</th>\n      <th>genres</th>\n    </tr>\n  </thead>\n  <tbody>\n    <tr>\n      <th>0</th>\n      <td>10 things i hate about you</td>\n      <td>Who knocked up your sister?</td>\n      <td>tt0147800</td>\n      <td>1999</td>\n      <td>Comedy,Drama,Romance</td>\n    </tr>\n    <tr>\n      <th>1</th>\n      <td>10 things i hate about you</td>\n      <td>I was watching you out there, before. I've nev...</td>\n      <td>tt0147800</td>\n      <td>1999</td>\n      <td>Comedy,Drama,Romance</td>\n    </tr>\n    <tr>\n      <th>2</th>\n      <td>10 things i hate about you</td>\n      <td>You're 18, you don't know what you want. And y...</td>\n      <td>tt0147800</td>\n      <td>1999</td>\n      <td>Comedy,Drama,Romance</td>\n    </tr>\n    <tr>\n      <th>3</th>\n      <td>10 things i hate about you</td>\n      <td>Ooh, see that, there. Who needs affection when...</td>\n      <td>tt0147800</td>\n      <td>1999</td>\n      <td>Comedy,Drama,Romance</td>\n    </tr>\n    <tr>\n      <th>4</th>\n      <td>10 things i hate about you</td>\n      <td>Just 'cause you're beautiful, that doesn't mea...</td>\n      <td>tt0147800</td>\n      <td>1999</td>\n      <td>Comedy,Drama,Romance</td>\n    </tr>\n  </tbody>\n</table>\n</div>"
     },
     "metadata": {},
     "execution_count": 89
    }
   ],
   "source": [
    "base.head()"
   ]
  },
  {
   "cell_type": "code",
   "execution_count": 4,
   "metadata": {},
   "outputs": [
    {
     "output_type": "execute_result",
     "data": {
      "text/plain": [
       "                        title  \\\n",
       "0  10 things i hate about you   \n",
       "1  10 things i hate about you   \n",
       "2  10 things i hate about you   \n",
       "3  10 things i hate about you   \n",
       "4  10 things i hate about you   \n",
       "\n",
       "                                               quote         ID  Year  \\\n",
       "0                        Who knocked up your sister?  tt0147800  1999   \n",
       "1  I was watching you out there, before. I've nev...  tt0147800  1999   \n",
       "2  You're 18, you don't know what you want. And y...  tt0147800  1999   \n",
       "3  Ooh, see that, there. Who needs affection when...  tt0147800  1999   \n",
       "4  Just 'cause you're beautiful, that doesn't mea...  tt0147800  1999   \n",
       "\n",
       "                  Genre  \n",
       "0  Comedy,Drama,Romance  \n",
       "1  Comedy,Drama,Romance  \n",
       "2  Comedy,Drama,Romance  \n",
       "3  Comedy,Drama,Romance  \n",
       "4  Comedy,Drama,Romance  "
      ],
      "text/html": "<div>\n<style scoped>\n    .dataframe tbody tr th:only-of-type {\n        vertical-align: middle;\n    }\n\n    .dataframe tbody tr th {\n        vertical-align: top;\n    }\n\n    .dataframe thead th {\n        text-align: right;\n    }\n</style>\n<table border=\"1\" class=\"dataframe\">\n  <thead>\n    <tr style=\"text-align: right;\">\n      <th></th>\n      <th>title</th>\n      <th>quote</th>\n      <th>ID</th>\n      <th>Year</th>\n      <th>Genre</th>\n    </tr>\n  </thead>\n  <tbody>\n    <tr>\n      <th>0</th>\n      <td>10 things i hate about you</td>\n      <td>Who knocked up your sister?</td>\n      <td>tt0147800</td>\n      <td>1999</td>\n      <td>Comedy,Drama,Romance</td>\n    </tr>\n    <tr>\n      <th>1</th>\n      <td>10 things i hate about you</td>\n      <td>I was watching you out there, before. I've nev...</td>\n      <td>tt0147800</td>\n      <td>1999</td>\n      <td>Comedy,Drama,Romance</td>\n    </tr>\n    <tr>\n      <th>2</th>\n      <td>10 things i hate about you</td>\n      <td>You're 18, you don't know what you want. And y...</td>\n      <td>tt0147800</td>\n      <td>1999</td>\n      <td>Comedy,Drama,Romance</td>\n    </tr>\n    <tr>\n      <th>3</th>\n      <td>10 things i hate about you</td>\n      <td>Ooh, see that, there. Who needs affection when...</td>\n      <td>tt0147800</td>\n      <td>1999</td>\n      <td>Comedy,Drama,Romance</td>\n    </tr>\n    <tr>\n      <th>4</th>\n      <td>10 things i hate about you</td>\n      <td>Just 'cause you're beautiful, that doesn't mea...</td>\n      <td>tt0147800</td>\n      <td>1999</td>\n      <td>Comedy,Drama,Romance</td>\n    </tr>\n  </tbody>\n</table>\n</div>"
     },
     "metadata": {},
     "execution_count": 4
    }
   ],
   "source": [
    "import pandas as pd\n",
    "\n",
    "df = pd.read_csv('BASE.csv', index_col=0)\n",
    "df.drop('Unnamed: 0.1', axis=1, inplace=True)\n",
    "df.head()"
   ]
  },
  {
   "cell_type": "code",
   "execution_count": 5,
   "metadata": {},
   "outputs": [],
   "source": [
    "df.rename(columns={'genres':'Genre'}, inplace=True)\n",
    "df.to_csv('BASE.csv')"
   ]
  },
  {
   "cell_type": "code",
   "execution_count": null,
   "metadata": {},
   "outputs": [],
   "source": [
    "from nlp_mining import WordCleaner\n",
    "\n",
    "cleaner = WordCleaner(df)\n",
    "expanse = cleaner.expand_df()\n",
    "expanse.Genre.unique()"
   ]
  },
  {
   "cell_type": "code",
   "execution_count": 1,
   "metadata": {},
   "outputs": [
    {
     "output_type": "execute_result",
     "data": {
      "text/plain": [
       "42"
      ]
     },
     "metadata": {},
     "execution_count": 1
    }
   ],
   "source": [
    "s = 'Text Generation is currently one of the most challenging fields in the Artificial Intelligence spectrum. The purpose of this project is to generate memorable movie quotes by the use of Natural Language Processing tecniques, Long-Short-Term Memory neural networks and Generative Adversarial Networks.'\n",
    "\n",
    "len(s.split())"
   ]
  }
 ]
}