{
 "metadata": {
  "language_info": {
   "codemirror_mode": {
    "name": "ipython",
    "version": 3
   },
   "file_extension": ".py",
   "mimetype": "text/x-python",
   "name": "python",
   "nbconvert_exporter": "python",
   "pygments_lexer": "ipython3",
   "version": "3.7.4"
  },
  "orig_nbformat": 4,
  "kernelspec": {
   "name": "python3",
   "display_name": "Python 3.7.4 64-bit"
  },
  "interpreter": {
   "hash": "674dfd6ded4398e0679ff4f65e9a10a54ff0d14801bec0126172cfc3973d1cf1"
  }
 },
 "nbformat": 4,
 "nbformat_minor": 2,
 "cells": [
  {
   "cell_type": "code",
   "execution_count": 3,
   "metadata": {},
   "outputs": [],
   "source": [
    "extra_quotes = {\n",
    "        'the lord of the rings: the fellowship of the ring': ['A wizard is never late, Frodo Baggins. Nor is he early. He arrives precisely when he means to.',\n",
    "        'You shall not pass!',\n",
    "        'Fly you fools!',\n",
    "        'Even the smallest person can change the course of the future.',\n",
    "        'Many that live deserve death. Some that die deserve life...Do not be too eager to deal out death in judgement. Even the very wise cannot see all ends.',\n",
    "        'So do all who live to see such times. But that is not for them to decide. All we have to decide is what to do with the time that is given to us.',\n",
    "        'One ring to rule them all. One ring to find them. One ring to bring them all and in the darkness bind them!',\n",
    "        'If by my life or death I can protect you, I will. You have my sword'],\n",
    "        'the lord of the rings: the return of the king': [\"Certainty of death. Small chance of success. What are we waiting for?\",\n",
    "            \"The journey doesn't end here. Death is just another path... One that we all must take.\",\n",
    "            \"I see in your eyes the same fear that would take the heart of me.\",\n",
    "            \"But it is not this day!\"]\n",
    "            }"
   ]
  },
  {
   "cell_type": "code",
   "execution_count": 9,
   "metadata": {},
   "outputs": [],
   "source": [
    "import pandas as pd\n",
    "\n",
    "class QuoteCleaner:\n",
    "\n",
    "    def __init__(self, filepath):\n",
    "        self.df = self.create_quote_dataset(filepath)\n",
    "\n",
    "        self.df.title = self.df.title.apply(self.title_corrector)\n",
    "\n",
    "\n",
    "    def create_quote_dataset(self, filepath):\n",
    "        with open(filepath, 'r') as raw:\n",
    "            text = raw.readlines()\n",
    "            lista = [line for line in text if line != '\\n']\n",
    "        \n",
    "        data = {}\n",
    "        data['title'] = [lista[i].strip('\\n') for i in range(0, len(lista), 3)]\n",
    "        data['quote'] = [lista[i].strip('\\n') for i in range(1, len(lista), 3)]\n",
    "\n",
    "        return pd.DataFrame(data, index=range(len(data['title'])))\n",
    "\n",
    "    def title_corrector(self, x):\n",
    "        data = {'terminator':'the terminator',\n",
    "                \"pirates of the caribbean dead man's chest\": \"pirates of the caribbean: dead man's chest\",\n",
    "                'the planet of the apes':'planet of the apes',\n",
    "                'star trek the motion picture': 'star trek: the motion picture',\n",
    "                'star trek: the wrath of khan':'star trek ii: the wrath of khan',\n",
    "                'robin hood prince of thieves':'robin hood: prince of thieves',\n",
    "                'lord of the rings the two towers':'the lord of the rings: the two towers'}\n",
    "        try:\n",
    "            return data[x]\n",
    "        except:\n",
    "            return x\n",
    "\n",
    "    def add_quotes(self, extra_quotes):\n",
    "        for title, quotes in extra_quotes.items():\n",
    "            for quote in quotes:\n",
    "                self.df = self.df.append({'title':title, 'quote':quote}, ignore_index=True)\n",
    "\n",
    "    def save_quote_df(self, path):\n",
    "        self.df.to_csv(path)\n",
    "        print('Successfully saved Dataframe.')"
   ]
  },
  {
   "cell_type": "code",
   "execution_count": 10,
   "metadata": {},
   "outputs": [],
   "source": [
    "import os\n",
    "\n",
    "root = os.path.dirname(os.getcwd())\n",
    "raw_path = root + os.sep + 'data' + os.sep + 'moviequotes.memorable_quotes.txt'\n",
    "\n",
    "q = QuoteCleaner(raw_path)"
   ]
  },
  {
   "cell_type": "code",
   "execution_count": 12,
   "metadata": {},
   "outputs": [],
   "source": [
    "q.add_quotes(extra_quotes)"
   ]
  },
  {
   "cell_type": "code",
   "execution_count": 13,
   "metadata": {},
   "outputs": [
    {
     "output_type": "execute_result",
     "data": {
      "text/plain": [
       "                                                  title  \\\n",
       "0                            10 things i hate about you   \n",
       "1                            10 things i hate about you   \n",
       "2                            10 things i hate about you   \n",
       "3                            10 things i hate about you   \n",
       "4                            10 things i hate about you   \n",
       "...                                                 ...   \n",
       "6289  the lord of the rings: the fellowship of the ring   \n",
       "6290      the lord of the rings: the return of the king   \n",
       "6291      the lord of the rings: the return of the king   \n",
       "6292      the lord of the rings: the return of the king   \n",
       "6293      the lord of the rings: the return of the king   \n",
       "\n",
       "                                                  quote  \n",
       "0                           Who knocked up your sister?  \n",
       "1     I was watching you out there, before. I've nev...  \n",
       "2     You're 18, you don't know what you want. And y...  \n",
       "3     Ooh, see that, there. Who needs affection when...  \n",
       "4     Just 'cause you're beautiful, that doesn't mea...  \n",
       "...                                                 ...  \n",
       "6289  If by my life or death I can protect you, I wi...  \n",
       "6290  Certainty of death. Small chance of success. W...  \n",
       "6291  The journey doesn't end here. Death is just an...  \n",
       "6292  I see in your eyes the same fear that would ta...  \n",
       "6293                            But it is not this day!  \n",
       "\n",
       "[6294 rows x 2 columns]"
      ],
      "text/html": "<div>\n<style scoped>\n    .dataframe tbody tr th:only-of-type {\n        vertical-align: middle;\n    }\n\n    .dataframe tbody tr th {\n        vertical-align: top;\n    }\n\n    .dataframe thead th {\n        text-align: right;\n    }\n</style>\n<table border=\"1\" class=\"dataframe\">\n  <thead>\n    <tr style=\"text-align: right;\">\n      <th></th>\n      <th>title</th>\n      <th>quote</th>\n    </tr>\n  </thead>\n  <tbody>\n    <tr>\n      <th>0</th>\n      <td>10 things i hate about you</td>\n      <td>Who knocked up your sister?</td>\n    </tr>\n    <tr>\n      <th>1</th>\n      <td>10 things i hate about you</td>\n      <td>I was watching you out there, before. I've nev...</td>\n    </tr>\n    <tr>\n      <th>2</th>\n      <td>10 things i hate about you</td>\n      <td>You're 18, you don't know what you want. And y...</td>\n    </tr>\n    <tr>\n      <th>3</th>\n      <td>10 things i hate about you</td>\n      <td>Ooh, see that, there. Who needs affection when...</td>\n    </tr>\n    <tr>\n      <th>4</th>\n      <td>10 things i hate about you</td>\n      <td>Just 'cause you're beautiful, that doesn't mea...</td>\n    </tr>\n    <tr>\n      <th>...</th>\n      <td>...</td>\n      <td>...</td>\n    </tr>\n    <tr>\n      <th>6289</th>\n      <td>the lord of the rings: the fellowship of the ring</td>\n      <td>If by my life or death I can protect you, I wi...</td>\n    </tr>\n    <tr>\n      <th>6290</th>\n      <td>the lord of the rings: the return of the king</td>\n      <td>Certainty of death. Small chance of success. W...</td>\n    </tr>\n    <tr>\n      <th>6291</th>\n      <td>the lord of the rings: the return of the king</td>\n      <td>The journey doesn't end here. Death is just an...</td>\n    </tr>\n    <tr>\n      <th>6292</th>\n      <td>the lord of the rings: the return of the king</td>\n      <td>I see in your eyes the same fear that would ta...</td>\n    </tr>\n    <tr>\n      <th>6293</th>\n      <td>the lord of the rings: the return of the king</td>\n      <td>But it is not this day!</td>\n    </tr>\n  </tbody>\n</table>\n<p>6294 rows × 2 columns</p>\n</div>"
     },
     "metadata": {},
     "execution_count": 13
    }
   ],
   "source": [
    "q.df"
   ]
  },
  {
   "cell_type": "code",
   "execution_count": 76,
   "metadata": {},
   "outputs": [
    {
     "output_type": "execute_result",
     "data": {
      "text/plain": [
       "                        title  \\\n",
       "0  10 things i hate about you   \n",
       "1  10 things i hate about you   \n",
       "2  10 things i hate about you   \n",
       "3  10 things i hate about you   \n",
       "4  10 things i hate about you   \n",
       "\n",
       "                                               quote  \n",
       "0                        Who knocked up your sister?  \n",
       "1  I was watching you out there, before. I've nev...  \n",
       "2  You're 18, you don't know what you want. And y...  \n",
       "3  Ooh, see that, there. Who needs affection when...  \n",
       "4  Just 'cause you're beautiful, that doesn't mea...  "
      ],
      "text/html": "<div>\n<style scoped>\n    .dataframe tbody tr th:only-of-type {\n        vertical-align: middle;\n    }\n\n    .dataframe tbody tr th {\n        vertical-align: top;\n    }\n\n    .dataframe thead th {\n        text-align: right;\n    }\n</style>\n<table border=\"1\" class=\"dataframe\">\n  <thead>\n    <tr style=\"text-align: right;\">\n      <th></th>\n      <th>title</th>\n      <th>quote</th>\n    </tr>\n  </thead>\n  <tbody>\n    <tr>\n      <th>0</th>\n      <td>10 things i hate about you</td>\n      <td>Who knocked up your sister?</td>\n    </tr>\n    <tr>\n      <th>1</th>\n      <td>10 things i hate about you</td>\n      <td>I was watching you out there, before. I've nev...</td>\n    </tr>\n    <tr>\n      <th>2</th>\n      <td>10 things i hate about you</td>\n      <td>You're 18, you don't know what you want. And y...</td>\n    </tr>\n    <tr>\n      <th>3</th>\n      <td>10 things i hate about you</td>\n      <td>Ooh, see that, there. Who needs affection when...</td>\n    </tr>\n    <tr>\n      <th>4</th>\n      <td>10 things i hate about you</td>\n      <td>Just 'cause you're beautiful, that doesn't mea...</td>\n    </tr>\n  </tbody>\n</table>\n</div>"
     },
     "metadata": {},
     "execution_count": 76
    }
   ],
   "source": [
    "df = create_quote_dataset('moviequotes.memorable_quotes.txt')\n",
    "df.title = df.title.apply(title_corrector)\n",
    "df.head()"
   ]
  },
  {
   "cell_type": "code",
   "execution_count": 77,
   "metadata": {},
   "outputs": [
    {
     "output_type": "execute_result",
     "data": {
      "text/plain": [
       "6282"
      ]
     },
     "metadata": {},
     "execution_count": 77
    }
   ],
   "source": [
    "len(df)"
   ]
  },
  {
   "cell_type": "code",
   "execution_count": 72,
   "metadata": {},
   "outputs": [],
   "source": [
    "dic = {\n",
    "        'the lord of the rings: the fellowship of the ring': ['A wizard is never late, Frodo Baggins. Nor is he early. He arrives precisely when he means to.',\n",
    "        'You shall not pass!',\n",
    "        'Fly you fools!',\n",
    "        'Even the smallest person can change the course of the future.',\n",
    "        'Many that live deserve death. Some that die deserve life...Do not be too eager to deal out death in judgement. Even the very wise cannot see all ends.',\n",
    "        'So do all who live to see such times. But that is not for them to decide. All we have to decide is what to do with the time that is given to us.',\n",
    "        'One ring to rule them all. One ring to find them. One ring to bring them all and in the darkness bind them!',\n",
    "        'If by my life or death I can protect you, I will. You have my sword'],\n",
    "        'the lord of the rings: the return of the king': [\"Certainty of death. Small chance of success. What are we waiting for?\",\n",
    "            \"The journey doesn't end here. Death is just another path... One that we all must take.\",\n",
    "            \"I see in your eyes the same fear that would take the heart of me.\",\n",
    "            \"But it is not this day!\"]\n",
    "            }"
   ]
  },
  {
   "cell_type": "code",
   "execution_count": 81,
   "metadata": {},
   "outputs": [],
   "source": [
    "for q in fellowship_quotes:\n",
    "    df = df.append({'title':'the lord of the rings: the fellowship of the ring', 'quote':q}, ignore_index=True)\n",
    "\n",
    "for k in king_quotes:\n",
    "    df = df.append({'title':'the lord of the rings: the return of the king', 'quote':k}, ignore_index=True)"
   ]
  },
  {
   "cell_type": "code",
   "execution_count": 82,
   "metadata": {},
   "outputs": [
    {
     "output_type": "execute_result",
     "data": {
      "text/plain": [
       "6294"
      ]
     },
     "metadata": {},
     "execution_count": 82
    }
   ],
   "source": [
    "len(df)"
   ]
  },
  {
   "cell_type": "code",
   "execution_count": 40,
   "metadata": {},
   "outputs": [
    {
     "output_type": "execute_result",
     "data": {
      "text/plain": [
       "      Sctconst titleType                 primaryTitle  \\\n",
       "498  tt0000502     movie                     Bohemios   \n",
       "570  tt0000574     movie  The Story of the Kelly Gang   \n",
       "587  tt0000591     movie             The Prodigal Son   \n",
       "610  tt0000615     movie           Robbery Under Arms   \n",
       "625  tt0000630     movie                       Hamlet   \n",
       "\n",
       "                           title isAdult startYear endYear runtimeMinutes  \\\n",
       "498                     bohemios       0      1905      \\N            100   \n",
       "570  the story of the kelly gang       0      1906      \\N             70   \n",
       "587            l'enfant prodigue       0      1907      \\N             90   \n",
       "610           robbery under arms       0      1907      \\N             \\N   \n",
       "625                       amleto       0      1908      \\N             \\N   \n",
       "\n",
       "                         genres  \n",
       "498                          \\N  \n",
       "570  Action,Adventure,Biography  \n",
       "587                       Drama  \n",
       "610                       Drama  \n",
       "625                       Drama  "
      ],
      "text/html": "<div>\n<style scoped>\n    .dataframe tbody tr th:only-of-type {\n        vertical-align: middle;\n    }\n\n    .dataframe tbody tr th {\n        vertical-align: top;\n    }\n\n    .dataframe thead th {\n        text-align: right;\n    }\n</style>\n<table border=\"1\" class=\"dataframe\">\n  <thead>\n    <tr style=\"text-align: right;\">\n      <th></th>\n      <th>Sctconst</th>\n      <th>titleType</th>\n      <th>primaryTitle</th>\n      <th>title</th>\n      <th>isAdult</th>\n      <th>startYear</th>\n      <th>endYear</th>\n      <th>runtimeMinutes</th>\n      <th>genres</th>\n    </tr>\n  </thead>\n  <tbody>\n    <tr>\n      <th>498</th>\n      <td>tt0000502</td>\n      <td>movie</td>\n      <td>Bohemios</td>\n      <td>bohemios</td>\n      <td>0</td>\n      <td>1905</td>\n      <td>\\N</td>\n      <td>100</td>\n      <td>\\N</td>\n    </tr>\n    <tr>\n      <th>570</th>\n      <td>tt0000574</td>\n      <td>movie</td>\n      <td>The Story of the Kelly Gang</td>\n      <td>the story of the kelly gang</td>\n      <td>0</td>\n      <td>1906</td>\n      <td>\\N</td>\n      <td>70</td>\n      <td>Action,Adventure,Biography</td>\n    </tr>\n    <tr>\n      <th>587</th>\n      <td>tt0000591</td>\n      <td>movie</td>\n      <td>The Prodigal Son</td>\n      <td>l'enfant prodigue</td>\n      <td>0</td>\n      <td>1907</td>\n      <td>\\N</td>\n      <td>90</td>\n      <td>Drama</td>\n    </tr>\n    <tr>\n      <th>610</th>\n      <td>tt0000615</td>\n      <td>movie</td>\n      <td>Robbery Under Arms</td>\n      <td>robbery under arms</td>\n      <td>0</td>\n      <td>1907</td>\n      <td>\\N</td>\n      <td>\\N</td>\n      <td>Drama</td>\n    </tr>\n    <tr>\n      <th>625</th>\n      <td>tt0000630</td>\n      <td>movie</td>\n      <td>Hamlet</td>\n      <td>amleto</td>\n      <td>0</td>\n      <td>1908</td>\n      <td>\\N</td>\n      <td>\\N</td>\n      <td>Drama</td>\n    </tr>\n  </tbody>\n</table>\n</div>"
     },
     "metadata": {},
     "execution_count": 40
    }
   ],
   "source": [
    "titles = pd.read_csv('titles.tsv', sep='\\t', low_memory=False)\n",
    "titles = titles.rename(columns={'originalTitle':'title'})\n",
    "titles = titles[titles.titleType == 'movie']\n",
    "titles.title = titles.title.apply(lambda x: x.lower())\n",
    "titles.head()"
   ]
  },
  {
   "cell_type": "code",
   "execution_count": 35,
   "metadata": {},
   "outputs": [
    {
     "output_type": "execute_result",
     "data": {
      "text/plain": [
       "577186"
      ]
     },
     "metadata": {},
     "execution_count": 35
    }
   ],
   "source": [
    "len(titles)"
   ]
  },
  {
   "cell_type": "code",
   "execution_count": 83,
   "metadata": {},
   "outputs": [
    {
     "output_type": "execute_result",
     "data": {
      "text/plain": [
       "                                                   title  \\\n",
       "0                             10 things i hate about you   \n",
       "1                             10 things i hate about you   \n",
       "2                             10 things i hate about you   \n",
       "3                             10 things i hate about you   \n",
       "4                             10 things i hate about you   \n",
       "...                                                  ...   \n",
       "10863  the lord of the rings: the fellowship of the ring   \n",
       "10864      the lord of the rings: the return of the king   \n",
       "10865      the lord of the rings: the return of the king   \n",
       "10866      the lord of the rings: the return of the king   \n",
       "10867      the lord of the rings: the return of the king   \n",
       "\n",
       "                                                   quote   Sctconst titleType  \\\n",
       "0                            Who knocked up your sister?  tt0147800     movie   \n",
       "1      I was watching you out there, before. I've nev...  tt0147800     movie   \n",
       "2      You're 18, you don't know what you want. And y...  tt0147800     movie   \n",
       "3      Ooh, see that, there. Who needs affection when...  tt0147800     movie   \n",
       "4      Just 'cause you're beautiful, that doesn't mea...  tt0147800     movie   \n",
       "...                                                  ...        ...       ...   \n",
       "10863  If by my life or death I can protect you, I wi...  tt0120737     movie   \n",
       "10864  Certainty of death. Small chance of success. W...  tt0167260     movie   \n",
       "10865  The journey doesn't end here. Death is just an...  tt0167260     movie   \n",
       "10866  I see in your eyes the same fear that would ta...  tt0167260     movie   \n",
       "10867                            But it is not this day!  tt0167260     movie   \n",
       "\n",
       "                                            primaryTitle isAdult startYear  \\\n",
       "0                             10 Things I Hate About You       0      1999   \n",
       "1                             10 Things I Hate About You       0      1999   \n",
       "2                             10 Things I Hate About You       0      1999   \n",
       "3                             10 Things I Hate About You       0      1999   \n",
       "4                             10 Things I Hate About You       0      1999   \n",
       "...                                                  ...     ...       ...   \n",
       "10863  The Lord of the Rings: The Fellowship of the Ring       0      2001   \n",
       "10864      The Lord of the Rings: The Return of the King       0      2003   \n",
       "10865      The Lord of the Rings: The Return of the King       0      2003   \n",
       "10866      The Lord of the Rings: The Return of the King       0      2003   \n",
       "10867      The Lord of the Rings: The Return of the King       0      2003   \n",
       "\n",
       "      endYear runtimeMinutes                  genres  \n",
       "0          \\N             97    Comedy,Drama,Romance  \n",
       "1          \\N             97    Comedy,Drama,Romance  \n",
       "2          \\N             97    Comedy,Drama,Romance  \n",
       "3          \\N             97    Comedy,Drama,Romance  \n",
       "4          \\N             97    Comedy,Drama,Romance  \n",
       "...       ...            ...                     ...  \n",
       "10863      \\N            178  Action,Adventure,Drama  \n",
       "10864      \\N            201  Action,Adventure,Drama  \n",
       "10865      \\N            201  Action,Adventure,Drama  \n",
       "10866      \\N            201  Action,Adventure,Drama  \n",
       "10867      \\N            201  Action,Adventure,Drama  \n",
       "\n",
       "[5954 rows x 10 columns]"
      ],
      "text/html": "<div>\n<style scoped>\n    .dataframe tbody tr th:only-of-type {\n        vertical-align: middle;\n    }\n\n    .dataframe tbody tr th {\n        vertical-align: top;\n    }\n\n    .dataframe thead th {\n        text-align: right;\n    }\n</style>\n<table border=\"1\" class=\"dataframe\">\n  <thead>\n    <tr style=\"text-align: right;\">\n      <th></th>\n      <th>title</th>\n      <th>quote</th>\n      <th>Sctconst</th>\n      <th>titleType</th>\n      <th>primaryTitle</th>\n      <th>isAdult</th>\n      <th>startYear</th>\n      <th>endYear</th>\n      <th>runtimeMinutes</th>\n      <th>genres</th>\n    </tr>\n  </thead>\n  <tbody>\n    <tr>\n      <th>0</th>\n      <td>10 things i hate about you</td>\n      <td>Who knocked up your sister?</td>\n      <td>tt0147800</td>\n      <td>movie</td>\n      <td>10 Things I Hate About You</td>\n      <td>0</td>\n      <td>1999</td>\n      <td>\\N</td>\n      <td>97</td>\n      <td>Comedy,Drama,Romance</td>\n    </tr>\n    <tr>\n      <th>1</th>\n      <td>10 things i hate about you</td>\n      <td>I was watching you out there, before. I've nev...</td>\n      <td>tt0147800</td>\n      <td>movie</td>\n      <td>10 Things I Hate About You</td>\n      <td>0</td>\n      <td>1999</td>\n      <td>\\N</td>\n      <td>97</td>\n      <td>Comedy,Drama,Romance</td>\n    </tr>\n    <tr>\n      <th>2</th>\n      <td>10 things i hate about you</td>\n      <td>You're 18, you don't know what you want. And y...</td>\n      <td>tt0147800</td>\n      <td>movie</td>\n      <td>10 Things I Hate About You</td>\n      <td>0</td>\n      <td>1999</td>\n      <td>\\N</td>\n      <td>97</td>\n      <td>Comedy,Drama,Romance</td>\n    </tr>\n    <tr>\n      <th>3</th>\n      <td>10 things i hate about you</td>\n      <td>Ooh, see that, there. Who needs affection when...</td>\n      <td>tt0147800</td>\n      <td>movie</td>\n      <td>10 Things I Hate About You</td>\n      <td>0</td>\n      <td>1999</td>\n      <td>\\N</td>\n      <td>97</td>\n      <td>Comedy,Drama,Romance</td>\n    </tr>\n    <tr>\n      <th>4</th>\n      <td>10 things i hate about you</td>\n      <td>Just 'cause you're beautiful, that doesn't mea...</td>\n      <td>tt0147800</td>\n      <td>movie</td>\n      <td>10 Things I Hate About You</td>\n      <td>0</td>\n      <td>1999</td>\n      <td>\\N</td>\n      <td>97</td>\n      <td>Comedy,Drama,Romance</td>\n    </tr>\n    <tr>\n      <th>...</th>\n      <td>...</td>\n      <td>...</td>\n      <td>...</td>\n      <td>...</td>\n      <td>...</td>\n      <td>...</td>\n      <td>...</td>\n      <td>...</td>\n      <td>...</td>\n      <td>...</td>\n    </tr>\n    <tr>\n      <th>10863</th>\n      <td>the lord of the rings: the fellowship of the ring</td>\n      <td>If by my life or death I can protect you, I wi...</td>\n      <td>tt0120737</td>\n      <td>movie</td>\n      <td>The Lord of the Rings: The Fellowship of the Ring</td>\n      <td>0</td>\n      <td>2001</td>\n      <td>\\N</td>\n      <td>178</td>\n      <td>Action,Adventure,Drama</td>\n    </tr>\n    <tr>\n      <th>10864</th>\n      <td>the lord of the rings: the return of the king</td>\n      <td>Certainty of death. Small chance of success. W...</td>\n      <td>tt0167260</td>\n      <td>movie</td>\n      <td>The Lord of the Rings: The Return of the King</td>\n      <td>0</td>\n      <td>2003</td>\n      <td>\\N</td>\n      <td>201</td>\n      <td>Action,Adventure,Drama</td>\n    </tr>\n    <tr>\n      <th>10865</th>\n      <td>the lord of the rings: the return of the king</td>\n      <td>The journey doesn't end here. Death is just an...</td>\n      <td>tt0167260</td>\n      <td>movie</td>\n      <td>The Lord of the Rings: The Return of the King</td>\n      <td>0</td>\n      <td>2003</td>\n      <td>\\N</td>\n      <td>201</td>\n      <td>Action,Adventure,Drama</td>\n    </tr>\n    <tr>\n      <th>10866</th>\n      <td>the lord of the rings: the return of the king</td>\n      <td>I see in your eyes the same fear that would ta...</td>\n      <td>tt0167260</td>\n      <td>movie</td>\n      <td>The Lord of the Rings: The Return of the King</td>\n      <td>0</td>\n      <td>2003</td>\n      <td>\\N</td>\n      <td>201</td>\n      <td>Action,Adventure,Drama</td>\n    </tr>\n    <tr>\n      <th>10867</th>\n      <td>the lord of the rings: the return of the king</td>\n      <td>But it is not this day!</td>\n      <td>tt0167260</td>\n      <td>movie</td>\n      <td>The Lord of the Rings: The Return of the King</td>\n      <td>0</td>\n      <td>2003</td>\n      <td>\\N</td>\n      <td>201</td>\n      <td>Action,Adventure,Drama</td>\n    </tr>\n  </tbody>\n</table>\n<p>5954 rows × 10 columns</p>\n</div>"
     },
     "metadata": {},
     "execution_count": 83
    }
   ],
   "source": [
    "id_df = pd.merge(df, titles, on='title')\n",
    "id_df.drop_duplicates('quote', inplace=True)\n",
    "id_df"
   ]
  },
  {
   "cell_type": "code",
   "execution_count": 85,
   "metadata": {},
   "outputs": [
    {
     "output_type": "execute_result",
     "data": {
      "text/plain": [
       "Index(['title', 'quote', 'Sctconst', 'titleType', 'primaryTitle', 'isAdult',\n",
       "       'startYear', 'endYear', 'runtimeMinutes', 'genres'],\n",
       "      dtype='object')"
      ]
     },
     "metadata": {},
     "execution_count": 85
    }
   ],
   "source": [
    "id_df.columns"
   ]
  },
  {
   "cell_type": "code",
   "execution_count": 88,
   "metadata": {},
   "outputs": [],
   "source": [
    "base = id_df.loc[:, ['title', 'quote', 'Sctconst', 'startYear', 'genres']]\n",
    "base = base.rename(columns={'Sctconst':'ID', 'startYear':'Year'})\n",
    "base.to_csv('BASE.csv')"
   ]
  },
  {
   "cell_type": "code",
   "execution_count": 89,
   "metadata": {},
   "outputs": [
    {
     "output_type": "execute_result",
     "data": {
      "text/plain": [
       "                        title  \\\n",
       "0  10 things i hate about you   \n",
       "1  10 things i hate about you   \n",
       "2  10 things i hate about you   \n",
       "3  10 things i hate about you   \n",
       "4  10 things i hate about you   \n",
       "\n",
       "                                               quote         ID  Year  \\\n",
       "0                        Who knocked up your sister?  tt0147800  1999   \n",
       "1  I was watching you out there, before. I've nev...  tt0147800  1999   \n",
       "2  You're 18, you don't know what you want. And y...  tt0147800  1999   \n",
       "3  Ooh, see that, there. Who needs affection when...  tt0147800  1999   \n",
       "4  Just 'cause you're beautiful, that doesn't mea...  tt0147800  1999   \n",
       "\n",
       "                 genres  \n",
       "0  Comedy,Drama,Romance  \n",
       "1  Comedy,Drama,Romance  \n",
       "2  Comedy,Drama,Romance  \n",
       "3  Comedy,Drama,Romance  \n",
       "4  Comedy,Drama,Romance  "
      ],
      "text/html": "<div>\n<style scoped>\n    .dataframe tbody tr th:only-of-type {\n        vertical-align: middle;\n    }\n\n    .dataframe tbody tr th {\n        vertical-align: top;\n    }\n\n    .dataframe thead th {\n        text-align: right;\n    }\n</style>\n<table border=\"1\" class=\"dataframe\">\n  <thead>\n    <tr style=\"text-align: right;\">\n      <th></th>\n      <th>title</th>\n      <th>quote</th>\n      <th>ID</th>\n      <th>Year</th>\n      <th>genres</th>\n    </tr>\n  </thead>\n  <tbody>\n    <tr>\n      <th>0</th>\n      <td>10 things i hate about you</td>\n      <td>Who knocked up your sister?</td>\n      <td>tt0147800</td>\n      <td>1999</td>\n      <td>Comedy,Drama,Romance</td>\n    </tr>\n    <tr>\n      <th>1</th>\n      <td>10 things i hate about you</td>\n      <td>I was watching you out there, before. I've nev...</td>\n      <td>tt0147800</td>\n      <td>1999</td>\n      <td>Comedy,Drama,Romance</td>\n    </tr>\n    <tr>\n      <th>2</th>\n      <td>10 things i hate about you</td>\n      <td>You're 18, you don't know what you want. And y...</td>\n      <td>tt0147800</td>\n      <td>1999</td>\n      <td>Comedy,Drama,Romance</td>\n    </tr>\n    <tr>\n      <th>3</th>\n      <td>10 things i hate about you</td>\n      <td>Ooh, see that, there. Who needs affection when...</td>\n      <td>tt0147800</td>\n      <td>1999</td>\n      <td>Comedy,Drama,Romance</td>\n    </tr>\n    <tr>\n      <th>4</th>\n      <td>10 things i hate about you</td>\n      <td>Just 'cause you're beautiful, that doesn't mea...</td>\n      <td>tt0147800</td>\n      <td>1999</td>\n      <td>Comedy,Drama,Romance</td>\n    </tr>\n  </tbody>\n</table>\n</div>"
     },
     "metadata": {},
     "execution_count": 89
    }
   ],
   "source": [
    "base.head()"
   ]
  },
  {
   "cell_type": "code",
   "execution_count": 4,
   "metadata": {},
   "outputs": [
    {
     "output_type": "execute_result",
     "data": {
      "text/plain": [
       "                        title  \\\n",
       "0  10 things i hate about you   \n",
       "1  10 things i hate about you   \n",
       "2  10 things i hate about you   \n",
       "3  10 things i hate about you   \n",
       "4  10 things i hate about you   \n",
       "\n",
       "                                               quote         ID  Year  \\\n",
       "0                        Who knocked up your sister?  tt0147800  1999   \n",
       "1  I was watching you out there, before. I've nev...  tt0147800  1999   \n",
       "2  You're 18, you don't know what you want. And y...  tt0147800  1999   \n",
       "3  Ooh, see that, there. Who needs affection when...  tt0147800  1999   \n",
       "4  Just 'cause you're beautiful, that doesn't mea...  tt0147800  1999   \n",
       "\n",
       "                  Genre  \n",
       "0  Comedy,Drama,Romance  \n",
       "1  Comedy,Drama,Romance  \n",
       "2  Comedy,Drama,Romance  \n",
       "3  Comedy,Drama,Romance  \n",
       "4  Comedy,Drama,Romance  "
      ],
      "text/html": "<div>\n<style scoped>\n    .dataframe tbody tr th:only-of-type {\n        vertical-align: middle;\n    }\n\n    .dataframe tbody tr th {\n        vertical-align: top;\n    }\n\n    .dataframe thead th {\n        text-align: right;\n    }\n</style>\n<table border=\"1\" class=\"dataframe\">\n  <thead>\n    <tr style=\"text-align: right;\">\n      <th></th>\n      <th>title</th>\n      <th>quote</th>\n      <th>ID</th>\n      <th>Year</th>\n      <th>Genre</th>\n    </tr>\n  </thead>\n  <tbody>\n    <tr>\n      <th>0</th>\n      <td>10 things i hate about you</td>\n      <td>Who knocked up your sister?</td>\n      <td>tt0147800</td>\n      <td>1999</td>\n      <td>Comedy,Drama,Romance</td>\n    </tr>\n    <tr>\n      <th>1</th>\n      <td>10 things i hate about you</td>\n      <td>I was watching you out there, before. I've nev...</td>\n      <td>tt0147800</td>\n      <td>1999</td>\n      <td>Comedy,Drama,Romance</td>\n    </tr>\n    <tr>\n      <th>2</th>\n      <td>10 things i hate about you</td>\n      <td>You're 18, you don't know what you want. And y...</td>\n      <td>tt0147800</td>\n      <td>1999</td>\n      <td>Comedy,Drama,Romance</td>\n    </tr>\n    <tr>\n      <th>3</th>\n      <td>10 things i hate about you</td>\n      <td>Ooh, see that, there. Who needs affection when...</td>\n      <td>tt0147800</td>\n      <td>1999</td>\n      <td>Comedy,Drama,Romance</td>\n    </tr>\n    <tr>\n      <th>4</th>\n      <td>10 things i hate about you</td>\n      <td>Just 'cause you're beautiful, that doesn't mea...</td>\n      <td>tt0147800</td>\n      <td>1999</td>\n      <td>Comedy,Drama,Romance</td>\n    </tr>\n  </tbody>\n</table>\n</div>"
     },
     "metadata": {},
     "execution_count": 4
    }
   ],
   "source": [
    "import pandas as pd\n",
    "\n",
    "df = pd.read_csv('BASE.csv', index_col=0)\n",
    "df.drop('Unnamed: 0.1', axis=1, inplace=True)\n",
    "df.head()"
   ]
  },
  {
   "cell_type": "code",
   "execution_count": 5,
   "metadata": {},
   "outputs": [],
   "source": [
    "df.rename(columns={'genres':'Genre'}, inplace=True)\n",
    "df.to_csv('BASE.csv')"
   ]
  },
  {
   "cell_type": "code",
   "execution_count": null,
   "metadata": {},
   "outputs": [],
   "source": [
    "from nlp_mining import WordCleaner\n",
    "\n",
    "cleaner = WordCleaner(df)\n",
    "expanse = cleaner.expand_df()\n",
    "expanse.Genre.unique()"
   ]
  }
 ]
}