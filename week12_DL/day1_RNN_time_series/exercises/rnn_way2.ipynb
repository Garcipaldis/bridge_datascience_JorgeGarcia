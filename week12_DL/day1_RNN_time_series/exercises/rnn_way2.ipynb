{
 "metadata": {
  "language_info": {
   "codemirror_mode": {
    "name": "ipython",
    "version": 3
   },
   "file_extension": ".py",
   "mimetype": "text/x-python",
   "name": "python",
   "nbconvert_exporter": "python",
   "pygments_lexer": "ipython3",
   "version": 3
  },
  "orig_nbformat": 2
 },
 "nbformat": 4,
 "nbformat_minor": 2,
 "cells": [
  {
   "source": [
    "# 1\n",
    "\n",
    "#### En el ejemplo de teoría hemos visto la forma de entrenar utilizando un trozo de datos como en la imagen \"way1.png\". \n",
    "\n",
    "(Básicamente, tener en cuenta más datos de entrenamiento [[20% de test]])\n",
    "\n",
    "Investiga la forma de realizar el ejercicio a partir del gif \"way3_sliding_window.gif\":\n",
    "\n",
    "- ¿Da mejores resultados entrenar el modelo así?"
   ],
   "cell_type": "markdown",
   "metadata": {}
  },
  {
   "source": [
    "Algo muy típico en el trabajo de data scientist\n",
    "\n",
    "![](../rnn/sliding_windows_google.png)"
   ],
   "cell_type": "markdown",
   "metadata": {}
  },
  {
   "cell_type": "code",
   "execution_count": null,
   "metadata": {},
   "outputs": [],
   "source": []
  }
 ]
}