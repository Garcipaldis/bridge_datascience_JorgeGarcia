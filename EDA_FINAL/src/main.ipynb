{
 "metadata": {
  "language_info": {
   "codemirror_mode": {
    "name": "ipython",
    "version": 3
   },
   "file_extension": ".py",
   "mimetype": "text/x-python",
   "name": "python",
   "nbconvert_exporter": "python",
   "pygments_lexer": "ipython3",
   "version": "3.7.4"
  },
  "orig_nbformat": 2,
  "kernelspec": {
   "name": "python374jvsc74a57bd0674dfd6ded4398e0679ff4f65e9a10a54ff0d14801bec0126172cfc3973d1cf1",
   "display_name": "Python 3.7.4 64-bit"
  },
  "metadata": {
   "interpreter": {
    "hash": "674dfd6ded4398e0679ff4f65e9a10a54ff0d14801bec0126172cfc3973d1cf1"
   }
  }
 },
 "nbformat": 4,
 "nbformat_minor": 2,
 "cells": [
  {
   "source": [
    "# EDA: Netflix Titles Plot Popularity Detailed Analysis\n",
    "study made by: Jorge García Navarro"
   ],
   "cell_type": "markdown",
   "metadata": {}
  },
  {
   "source": [
    "## 0. Introduction\n",
    "As part of the bootcamp’s schedule at The Bridge Digital Talent, this EDA project was\n",
    "planned in order to put into practice all the knowledge acquired up until that stage.\n",
    "The chosen topic was to analyze Netflix Titles Plots aiming to find the most popular words\n",
    "from each genre, creating a path to a future Machine Learning project.\n",
    "\n",
    "### Hypothesis\n",
    "Without any previous knowledge about this certain topic, a vague hypothesis was made in\n",
    "order to establish an objective:\n",
    "The genre Drama has the highest mean rating and its most popular words are: murder and\n",
    "vengeance.\n",
    "It was later proven that this hypothesis was completely offset.\n"
   ],
   "cell_type": "markdown",
   "metadata": {}
  },
  {
   "source": [
    "## 1. Data Mining"
   ],
   "cell_type": "markdown",
   "metadata": {}
  },
  {
   "source": [
    "All data mining functionality is contained in the mining_data_tb.py file.\n",
    "Classes: OmdbCleaner, NetCleaner, WordCleaner.\n",
    "\n",
    "### Data Sources\n",
    "The data was extracted from three separate sites:\n",
    "- Netflix user ratings Dataset: https://www.kaggle.com/netflix-inc/netflix-prize-data\n",
    "- IMDb official site Dataset: (title.basics.tsv.gz) https://www.imdb.com/interfaces/\n",
    "- OMDb API: http://www.omdbapi.com/\n",
    "\n",
    "#### Netflix user ratings Dataset\n",
    "The data was divided into four ‘combined.txt’ files, each with a csv style format with a ‘\\t’\n",
    "separator. Also it was separated by sections according to its own ‘netflix_id’. Many\n",
    "transformations were made in order to convert each of them into a proper csv file and\n",
    "combine them into one single Dataframe.\n",
    "Furthermore, it was grouped by its ‘netflix_id’ calculated by one side the total votes and its\n",
    "mean rating. It was later joined with the ‘netflix_movies_titles.csv’ file in order to add the\n",
    "movie titles associated with their ‘netflix_id’.\n",
    "The result of this was a Dataframe with the following columns: netflix_id, title,\n",
    "number_of_votes and netflix_rating.\n",
    "#### IMDb official site Dataset\n",
    "A simple dataset containing both movie title name and its associated imdb ID. Combined\n",
    "with the Netflix dataset it was possible to acquire the imdb ID of most of the Netflix titles.\n",
    "Many titles were lost due to missmatching titles in both datasets.\n",
    "#### OMDb API\n",
    "The source of the main data for analysis, this API contains all the title plots from IMDb.\n",
    "An API key was obtained, but the only way to obtain the plot data was by making a title by\n",
    "title API request. There was a limit of a thousand free requests per day, so this process was\n",
    "the longest and most limiting.\n",
    "In the end it was possible to obtain every Netflix title plot with an imdb ID, resulting in a\n",
    "~8000 row Base Dataframe.\n",
    "Had there been more time to develop this project, other routes would have been taken in\n",
    "order to acquire more data."
   ],
   "cell_type": "markdown",
   "metadata": {}
  },
  {
   "cell_type": "code",
   "execution_count": 21,
   "metadata": {},
   "outputs": [],
   "source": [
    "import os, sys\n",
    "import pandas as pd\n",
    "from utils.mining_data_tb import OmdbCleaner, NetCleaner, WordCleaner\n",
    "\n",
    "rootpath = os.path.dirname(os.getcwd())\n",
    "\n",
    "# PATHS\n",
    "data_path = rootpath + os.sep + 'data' # --> data\n",
    "net_raw_path = data_path + os.sep + 'Netflix_raw' # --> data/Netflix_raw | Netflix Raw Data\n",
    "net_movies_path = net_raw_path + os.sep + 'netflix_movie_titles.csv' # --> data/Netflix_raw/netflix_movie_titles.csv\n",
    "imdb_path = data_path + os.sep + 'titles.tsv' # --> data/titles.tsv | IMDb Official Dataset\n",
    "omdb_net_path = data_path + os.sep + 'OMDb_Netflix' # --> data/OMDb_Netflix | OMDb API\n",
    "netid_path = net_raw_path + os.sep + 'Net_Data_ID.csv' # --> Generated file."
   ]
  },
  {
   "source": [
    "### Cleaning the data\n",
    "Once the BASE Dataframe was obtained, the development of new programs in order to\n",
    "clean the data started.\n",
    "\n",
    "It was noted that the majority of titles had more than one Genre associated with them. In\n",
    "order to enable a genre by genre plot analysis, a method was made to ‘expand’ the Base\n",
    "Dataframe, unfolding every title by all its genres. This resulted in the duplication of many\n",
    "titles with the difference that each one of them had only one Genre associated.\n",
    "\n",
    "Once the EXPANSE Dataframe was obtained, new methods were developed in order to\n",
    "extract all the words in every plot for each genre and generate a Dataframe with statistics of\n",
    "every word. Due to the large amount of words and many of them giving redundant or\n",
    "unuseful information, only nouns were extracted by the help of the nltk python library.\n",
    "A Dataframe was returned and saved for every genre, containing nouns with a threshold of\n",
    "percentage occurrence of 5%. As part of the statistics, besides the percentage occurrence a\n",
    "mean rating was calculated (mean rating of every title containing a certain word in a select\n",
    "genre), a number of titles where the word appeared and a total count of word occurrence.\n",
    "The joining of every Dataframe resulted in the WORD_STATS Dataframe, containing every\n",
    "noun word for every genre over the stated threshold.\n",
    "\n",
    "An option was included to exclude from each Dataframe during visualization the most\n",
    "common words from all genres. A new percentage occurrence was calculated where words\n",
    "with a 30% threshold from each top 5 words were extracted. These words were: “new”,\n",
    "“young” and “life”. It was left as an option in order not to subjectivize the data study.\n",
    "\n",
    "Cleaning the data was by far the most challenging, constantly optimizing the processing\n",
    "methods in order to reduce the computing time."
   ],
   "cell_type": "markdown",
   "metadata": {}
  },
  {
   "cell_type": "code",
   "execution_count": null,
   "metadata": {},
   "outputs": [],
   "source": [
    "from utils.folders_tb import Folders\n",
    "\n",
    "# API KEY\n",
    "tokenpath = os.getcwd() + os.sep + 'utils' + os.sep + 'api_token.json'\n",
    "tokens = Folders.read_json(tokenpath)\n",
    "key = tokens['key']\n",
    "\n",
    "#OMDB\n",
    "omdb = OmdbCleaner(net_path=net_movies_path, imdb_path=imdb_path, omdb_net_path=omdb_net_path)\n",
    "omdb.get_imdb_ids(save=True)\n",
    "#omdb.omdb_to_csv(key, netid_path, savepath=omdb_net_path, row_start=10, row_num=10) # API Request example\n",
    "omdb.join_omdb(omdb_net_path, save=True)\n",
    "\n",
    "#NETFLIX\n",
    "netflix = NetCleaner()\n",
    "netflix.get_title_ratings(net_raw_path, data_path, save=True)\n",
    "netflix.get_base_dataframe(data_path, omdb_net_path, save=True)\n",
    "\n",
    "#WORD STATS\n",
    "base = pd.read_csv(data_path + os.sep + 'BASE.csv') # --> Base Dataframe\n",
    "wcleaner = WordCleaner(base)\n",
    "wcleaner.expand_df(savepath=data_path, save=True)\n",
    "#wcleaner.get_popdf('Mystery', log=True) # Example method for obtaining word stats of a certain genre.\n",
    "wordstat_path = data_path + os.sep + 'word_stats'\n",
    "\n",
    "# **ATENTION**\n",
    "wcleaner.genres_to_popcsv(wordstat_path) #If there are no previous word_stats files the estimates processing time is ~5 HOURS."
   ]
  },
  {
   "source": [
    "## 2. Visualization"
   ],
   "cell_type": "markdown",
   "metadata": {}
  },
  {
   "cell_type": "code",
   "execution_count": 2,
   "metadata": {},
   "outputs": [],
   "source": [
    "from utils.visualization_tb import Visualizer\n",
    "\n",
    "#REPORTS PATH\n",
    "reports = rootpath + os.sep + 'reports'\n",
    "\n",
    "#DATASETS\n",
    "base = pd.read_csv(data_path + os.sep + 'BASE.csv')\n",
    "expanse = pd.read_csv(data_path + os.sep + 'EXPANSE.csv')\n",
    "word_stats = pd.read_csv(data_path + os.sep + 'WORD_STATS.csv')\n",
    "\n",
    "#VISUALIZER\n",
    "viz = Visualizer(base, expanse, word_stats)"
   ]
  },
  {
   "source": [
    "### 2.1 Project Steps Chart"
   ],
   "cell_type": "markdown",
   "metadata": {}
  },
  {
   "cell_type": "code",
   "execution_count": 3,
   "metadata": {},
   "outputs": [
    {
     "output_type": "display_data",
     "data": {
      "text/plain": "<Figure size 720x432 with 1 Axes>",
      "image/svg+xml": "<?xml version=\"1.0\" encoding=\"utf-8\" standalone=\"no\"?>\r\n<!DOCTYPE svg PUBLIC \"-//W3C//DTD SVG 1.1//EN\"\r\n  \"http://www.w3.org/Graphics/SVG/1.1/DTD/svg11.dtd\">\r\n<svg height=\"357.197812pt\" version=\"1.1\" viewBox=\"0 0 457.439006 357.197812\" width=\"457.439006pt\" xmlns=\"http://www.w3.org/2000/svg\" xmlns:xlink=\"http://www.w3.org/1999/xlink\">\r\n <metadata>\r\n  <rdf:RDF xmlns:cc=\"http://creativecommons.org/ns#\" xmlns:dc=\"http://purl.org/dc/elements/1.1/\" xmlns:rdf=\"http://www.w3.org/1999/02/22-rdf-syntax-ns#\">\r\n   <cc:Work>\r\n    <dc:type rdf:resource=\"http://purl.org/dc/dcmitype/StillImage\"/>\r\n    <dc:date>2021-06-01T21:28:29.574051</dc:date>\r\n    <dc:format>image/svg+xml</dc:format>\r\n    <dc:creator>\r\n     <cc:Agent>\r\n      <dc:title>Matplotlib v3.4.1, https://matplotlib.org/</dc:title>\r\n     </cc:Agent>\r\n    </dc:creator>\r\n   </cc:Work>\r\n  </rdf:RDF>\r\n </metadata>\r\n <defs>\r\n  <style type=\"text/css\">*{stroke-linecap:butt;stroke-linejoin:round;}</style>\r\n </defs>\r\n <g id=\"figure_1\">\r\n  <g id=\"patch_1\">\r\n   <path d=\"M 0 357.197812 \r\nL 457.439006 357.197812 \r\nL 457.439006 0 \r\nL 0 0 \r\nz\r\n\" style=\"fill:none;\"/>\r\n  </g>\r\n  <g id=\"axes_1\">\r\n   <g id=\"patch_2\">\r\n    <path d=\"M 300.744 186.917812 \r\nC 300.744 168.078606 296.663383 149.461019 288.783549 132.34892 \r\nC 280.903715 115.236821 269.410057 100.032815 255.095176 87.78537 \r\nC 240.780296 75.537925 223.980986 66.535193 205.855728 61.398002 \r\nC 187.73047 56.260811 168.705705 55.110026 150.093381 58.025005 \r\nC 131.481057 60.939985 113.719075 67.852147 98.032301 78.284828 \r\nC 82.345528 88.717509 69.103032 102.425255 59.218018 118.46278 \r\nC 49.333004 134.500305 43.03804 152.490286 40.767227 171.192134 \r\nC 38.496414 189.893982 40.303179 208.86769 46.062928 226.804831 \r\nL 170.28 186.917812 \r\nL 300.744 186.917812 \r\nz\r\n\" style=\"fill:#1f77b4;\"/>\r\n   </g>\r\n   <g id=\"patch_3\">\r\n    <path d=\"M 46.062928 226.804831 \r\nC 55.333224 255.674603 74.384283 280.428608 99.91817 296.781675 \r\nC 125.452057 313.134741 155.905155 320.085456 186.005721 316.43058 \r\nL 170.28 186.917812 \r\nL 46.062928 226.804831 \r\nz\r\n\" style=\"fill:#ff7f0e;\"/>\r\n   </g>\r\n   <g id=\"patch_4\">\r\n    <path d=\"M 186.005721 316.43058 \r\nC 187.496147 316.249609 188.983339 316.042924 190.466631 315.810618 \r\nC 191.949923 315.578311 193.429095 315.320417 194.903485 315.037051 \r\nL 170.28 186.917812 \r\nL 186.005721 316.43058 \r\nz\r\n\" style=\"fill:#2ca02c;\"/>\r\n   </g>\r\n   <g id=\"patch_5\">\r\n    <path d=\"M 194.903485 315.037051 \r\nC 209.68353 312.196446 223.861179 306.81957 236.807868 299.144806 \r\nC 249.754557 291.470042 261.276087 281.612513 270.861651 270.009249 \r\nL 170.28 186.917812 \r\nL 194.903485 315.037051 \r\nz\r\n\" style=\"fill:#d62728;\"/>\r\n   </g>\r\n   <g id=\"patch_6\">\r\n    <path d=\"M 270.861651 270.009249 \r\nC 273.730857 266.536093 276.418243 262.916654 278.913006 259.165479 \r\nC 281.407769 255.414304 283.706563 251.536426 285.800147 247.547433 \r\nL 170.28 186.917812 \r\nL 270.861651 270.009249 \r\nz\r\n\" style=\"fill:#9467bd;\"/>\r\n   </g>\r\n   <g id=\"patch_7\">\r\n    <path d=\"M 285.800147 247.547433 \r\nC 290.690019 238.230556 294.434853 228.356235 296.95296 218.139865 \r\nC 299.471066 207.923496 300.744002 197.439907 300.744 186.917784 \r\nL 170.28 186.917812 \r\nL 285.800147 247.547433 \r\nz\r\n\" style=\"fill:#8c564b;\"/>\r\n   </g>\r\n   <g id=\"matplotlib.axis_1\"/>\r\n   <g id=\"matplotlib.axis_2\"/>\r\n   <g id=\"text_1\">\r\n    <!-- Data Mining -->\r\n    <g transform=\"translate(87.812219 47.8951)scale(0.1 -0.1)\">\r\n     <defs>\r\n      <path d=\"M 1259 4147 \r\nL 1259 519 \r\nL 2022 519 \r\nQ 2988 519 3436 956 \r\nQ 3884 1394 3884 2338 \r\nQ 3884 3275 3436 3711 \r\nQ 2988 4147 2022 4147 \r\nL 1259 4147 \r\nz\r\nM 628 4666 \r\nL 1925 4666 \r\nQ 3281 4666 3915 4102 \r\nQ 4550 3538 4550 2338 \r\nQ 4550 1131 3912 565 \r\nQ 3275 0 1925 0 \r\nL 628 0 \r\nL 628 4666 \r\nz\r\n\" id=\"DejaVuSans-44\" transform=\"scale(0.015625)\"/>\r\n      <path d=\"M 2194 1759 \r\nQ 1497 1759 1228 1600 \r\nQ 959 1441 959 1056 \r\nQ 959 750 1161 570 \r\nQ 1363 391 1709 391 \r\nQ 2188 391 2477 730 \r\nQ 2766 1069 2766 1631 \r\nL 2766 1759 \r\nL 2194 1759 \r\nz\r\nM 3341 1997 \r\nL 3341 0 \r\nL 2766 0 \r\nL 2766 531 \r\nQ 2569 213 2275 61 \r\nQ 1981 -91 1556 -91 \r\nQ 1019 -91 701 211 \r\nQ 384 513 384 1019 \r\nQ 384 1609 779 1909 \r\nQ 1175 2209 1959 2209 \r\nL 2766 2209 \r\nL 2766 2266 \r\nQ 2766 2663 2505 2880 \r\nQ 2244 3097 1772 3097 \r\nQ 1472 3097 1187 3025 \r\nQ 903 2953 641 2809 \r\nL 641 3341 \r\nQ 956 3463 1253 3523 \r\nQ 1550 3584 1831 3584 \r\nQ 2591 3584 2966 3190 \r\nQ 3341 2797 3341 1997 \r\nz\r\n\" id=\"DejaVuSans-61\" transform=\"scale(0.015625)\"/>\r\n      <path d=\"M 1172 4494 \r\nL 1172 3500 \r\nL 2356 3500 \r\nL 2356 3053 \r\nL 1172 3053 \r\nL 1172 1153 \r\nQ 1172 725 1289 603 \r\nQ 1406 481 1766 481 \r\nL 2356 481 \r\nL 2356 0 \r\nL 1766 0 \r\nQ 1100 0 847 248 \r\nQ 594 497 594 1153 \r\nL 594 3053 \r\nL 172 3053 \r\nL 172 3500 \r\nL 594 3500 \r\nL 594 4494 \r\nL 1172 4494 \r\nz\r\n\" id=\"DejaVuSans-74\" transform=\"scale(0.015625)\"/>\r\n      <path id=\"DejaVuSans-20\" transform=\"scale(0.015625)\"/>\r\n      <path d=\"M 628 4666 \r\nL 1569 4666 \r\nL 2759 1491 \r\nL 3956 4666 \r\nL 4897 4666 \r\nL 4897 0 \r\nL 4281 0 \r\nL 4281 4097 \r\nL 3078 897 \r\nL 2444 897 \r\nL 1241 4097 \r\nL 1241 0 \r\nL 628 0 \r\nL 628 4666 \r\nz\r\n\" id=\"DejaVuSans-4d\" transform=\"scale(0.015625)\"/>\r\n      <path d=\"M 603 3500 \r\nL 1178 3500 \r\nL 1178 0 \r\nL 603 0 \r\nL 603 3500 \r\nz\r\nM 603 4863 \r\nL 1178 4863 \r\nL 1178 4134 \r\nL 603 4134 \r\nL 603 4863 \r\nz\r\n\" id=\"DejaVuSans-69\" transform=\"scale(0.015625)\"/>\r\n      <path d=\"M 3513 2113 \r\nL 3513 0 \r\nL 2938 0 \r\nL 2938 2094 \r\nQ 2938 2591 2744 2837 \r\nQ 2550 3084 2163 3084 \r\nQ 1697 3084 1428 2787 \r\nQ 1159 2491 1159 1978 \r\nL 1159 0 \r\nL 581 0 \r\nL 581 3500 \r\nL 1159 3500 \r\nL 1159 2956 \r\nQ 1366 3272 1645 3428 \r\nQ 1925 3584 2291 3584 \r\nQ 2894 3584 3203 3211 \r\nQ 3513 2838 3513 2113 \r\nz\r\n\" id=\"DejaVuSans-6e\" transform=\"scale(0.015625)\"/>\r\n      <path d=\"M 2906 1791 \r\nQ 2906 2416 2648 2759 \r\nQ 2391 3103 1925 3103 \r\nQ 1463 3103 1205 2759 \r\nQ 947 2416 947 1791 \r\nQ 947 1169 1205 825 \r\nQ 1463 481 1925 481 \r\nQ 2391 481 2648 825 \r\nQ 2906 1169 2906 1791 \r\nz\r\nM 3481 434 \r\nQ 3481 -459 3084 -895 \r\nQ 2688 -1331 1869 -1331 \r\nQ 1566 -1331 1297 -1286 \r\nQ 1028 -1241 775 -1147 \r\nL 775 -588 \r\nQ 1028 -725 1275 -790 \r\nQ 1522 -856 1778 -856 \r\nQ 2344 -856 2625 -561 \r\nQ 2906 -266 2906 331 \r\nL 2906 616 \r\nQ 2728 306 2450 153 \r\nQ 2172 0 1784 0 \r\nQ 1141 0 747 490 \r\nQ 353 981 353 1791 \r\nQ 353 2603 747 3093 \r\nQ 1141 3584 1784 3584 \r\nQ 2172 3584 2450 3431 \r\nQ 2728 3278 2906 2969 \r\nL 2906 3500 \r\nL 3481 3500 \r\nL 3481 434 \r\nz\r\n\" id=\"DejaVuSans-67\" transform=\"scale(0.015625)\"/>\r\n     </defs>\r\n     <use xlink:href=\"#DejaVuSans-44\"/>\r\n     <use x=\"77.001953\" xlink:href=\"#DejaVuSans-61\"/>\r\n     <use x=\"138.28125\" xlink:href=\"#DejaVuSans-74\"/>\r\n     <use x=\"177.490234\" xlink:href=\"#DejaVuSans-61\"/>\r\n     <use x=\"238.769531\" xlink:href=\"#DejaVuSans-20\"/>\r\n     <use x=\"270.556641\" xlink:href=\"#DejaVuSans-4d\"/>\r\n     <use x=\"356.835938\" xlink:href=\"#DejaVuSans-69\"/>\r\n     <use x=\"384.619141\" xlink:href=\"#DejaVuSans-6e\"/>\r\n     <use x=\"447.998047\" xlink:href=\"#DejaVuSans-69\"/>\r\n     <use x=\"475.78125\" xlink:href=\"#DejaVuSans-6e\"/>\r\n     <use x=\"539.160156\" xlink:href=\"#DejaVuSans-67\"/>\r\n    </g>\r\n   </g>\r\n   <g id=\"text_2\">\r\n    <!-- 54.9% -->\r\n    <g transform=\"translate(144.303097 125.230784)scale(0.1 -0.1)\">\r\n     <defs>\r\n      <path d=\"M 691 4666 \r\nL 3169 4666 \r\nL 3169 4134 \r\nL 1269 4134 \r\nL 1269 2991 \r\nQ 1406 3038 1543 3061 \r\nQ 1681 3084 1819 3084 \r\nQ 2600 3084 3056 2656 \r\nQ 3513 2228 3513 1497 \r\nQ 3513 744 3044 326 \r\nQ 2575 -91 1722 -91 \r\nQ 1428 -91 1123 -41 \r\nQ 819 9 494 109 \r\nL 494 744 \r\nQ 775 591 1075 516 \r\nQ 1375 441 1709 441 \r\nQ 2250 441 2565 725 \r\nQ 2881 1009 2881 1497 \r\nQ 2881 1984 2565 2268 \r\nQ 2250 2553 1709 2553 \r\nQ 1456 2553 1204 2497 \r\nQ 953 2441 691 2322 \r\nL 691 4666 \r\nz\r\n\" id=\"DejaVuSans-35\" transform=\"scale(0.015625)\"/>\r\n      <path d=\"M 2419 4116 \r\nL 825 1625 \r\nL 2419 1625 \r\nL 2419 4116 \r\nz\r\nM 2253 4666 \r\nL 3047 4666 \r\nL 3047 1625 \r\nL 3713 1625 \r\nL 3713 1100 \r\nL 3047 1100 \r\nL 3047 0 \r\nL 2419 0 \r\nL 2419 1100 \r\nL 313 1100 \r\nL 313 1709 \r\nL 2253 4666 \r\nz\r\n\" id=\"DejaVuSans-34\" transform=\"scale(0.015625)\"/>\r\n      <path d=\"M 684 794 \r\nL 1344 794 \r\nL 1344 0 \r\nL 684 0 \r\nL 684 794 \r\nz\r\n\" id=\"DejaVuSans-2e\" transform=\"scale(0.015625)\"/>\r\n      <path d=\"M 703 97 \r\nL 703 672 \r\nQ 941 559 1184 500 \r\nQ 1428 441 1663 441 \r\nQ 2288 441 2617 861 \r\nQ 2947 1281 2994 2138 \r\nQ 2813 1869 2534 1725 \r\nQ 2256 1581 1919 1581 \r\nQ 1219 1581 811 2004 \r\nQ 403 2428 403 3163 \r\nQ 403 3881 828 4315 \r\nQ 1253 4750 1959 4750 \r\nQ 2769 4750 3195 4129 \r\nQ 3622 3509 3622 2328 \r\nQ 3622 1225 3098 567 \r\nQ 2575 -91 1691 -91 \r\nQ 1453 -91 1209 -44 \r\nQ 966 3 703 97 \r\nz\r\nM 1959 2075 \r\nQ 2384 2075 2632 2365 \r\nQ 2881 2656 2881 3163 \r\nQ 2881 3666 2632 3958 \r\nQ 2384 4250 1959 4250 \r\nQ 1534 4250 1286 3958 \r\nQ 1038 3666 1038 3163 \r\nQ 1038 2656 1286 2365 \r\nQ 1534 2075 1959 2075 \r\nz\r\n\" id=\"DejaVuSans-39\" transform=\"scale(0.015625)\"/>\r\n      <path d=\"M 4653 2053 \r\nQ 4381 2053 4226 1822 \r\nQ 4072 1591 4072 1178 \r\nQ 4072 772 4226 539 \r\nQ 4381 306 4653 306 \r\nQ 4919 306 5073 539 \r\nQ 5228 772 5228 1178 \r\nQ 5228 1588 5073 1820 \r\nQ 4919 2053 4653 2053 \r\nz\r\nM 4653 2450 \r\nQ 5147 2450 5437 2106 \r\nQ 5728 1763 5728 1178 \r\nQ 5728 594 5436 251 \r\nQ 5144 -91 4653 -91 \r\nQ 4153 -91 3862 251 \r\nQ 3572 594 3572 1178 \r\nQ 3572 1766 3864 2108 \r\nQ 4156 2450 4653 2450 \r\nz\r\nM 1428 4353 \r\nQ 1159 4353 1004 4120 \r\nQ 850 3888 850 3481 \r\nQ 850 3069 1003 2837 \r\nQ 1156 2606 1428 2606 \r\nQ 1700 2606 1854 2837 \r\nQ 2009 3069 2009 3481 \r\nQ 2009 3884 1853 4118 \r\nQ 1697 4353 1428 4353 \r\nz\r\nM 4250 4750 \r\nL 4750 4750 \r\nL 1831 -91 \r\nL 1331 -91 \r\nL 4250 4750 \r\nz\r\nM 1428 4750 \r\nQ 1922 4750 2215 4408 \r\nQ 2509 4066 2509 3481 \r\nQ 2509 2891 2217 2550 \r\nQ 1925 2209 1428 2209 \r\nQ 931 2209 642 2551 \r\nQ 353 2894 353 3481 \r\nQ 353 4063 643 4406 \r\nQ 934 4750 1428 4750 \r\nz\r\n\" id=\"DejaVuSans-25\" transform=\"scale(0.015625)\"/>\r\n     </defs>\r\n     <use xlink:href=\"#DejaVuSans-35\"/>\r\n     <use x=\"63.623047\" xlink:href=\"#DejaVuSans-34\"/>\r\n     <use x=\"127.246094\" xlink:href=\"#DejaVuSans-2e\"/>\r\n     <use x=\"159.033203\" xlink:href=\"#DejaVuSans-39\"/>\r\n     <use x=\"222.65625\" xlink:href=\"#DejaVuSans-25\"/>\r\n    </g>\r\n   </g>\r\n   <g id=\"text_3\">\r\n    <!-- Visualization -->\r\n    <g transform=\"translate(29.725737 310.527436)scale(0.1 -0.1)\">\r\n     <defs>\r\n      <path d=\"M 1831 0 \r\nL 50 4666 \r\nL 709 4666 \r\nL 2188 738 \r\nL 3669 4666 \r\nL 4325 4666 \r\nL 2547 0 \r\nL 1831 0 \r\nz\r\n\" id=\"DejaVuSans-56\" transform=\"scale(0.015625)\"/>\r\n      <path d=\"M 2834 3397 \r\nL 2834 2853 \r\nQ 2591 2978 2328 3040 \r\nQ 2066 3103 1784 3103 \r\nQ 1356 3103 1142 2972 \r\nQ 928 2841 928 2578 \r\nQ 928 2378 1081 2264 \r\nQ 1234 2150 1697 2047 \r\nL 1894 2003 \r\nQ 2506 1872 2764 1633 \r\nQ 3022 1394 3022 966 \r\nQ 3022 478 2636 193 \r\nQ 2250 -91 1575 -91 \r\nQ 1294 -91 989 -36 \r\nQ 684 19 347 128 \r\nL 347 722 \r\nQ 666 556 975 473 \r\nQ 1284 391 1588 391 \r\nQ 1994 391 2212 530 \r\nQ 2431 669 2431 922 \r\nQ 2431 1156 2273 1281 \r\nQ 2116 1406 1581 1522 \r\nL 1381 1569 \r\nQ 847 1681 609 1914 \r\nQ 372 2147 372 2553 \r\nQ 372 3047 722 3315 \r\nQ 1072 3584 1716 3584 \r\nQ 2034 3584 2315 3537 \r\nQ 2597 3491 2834 3397 \r\nz\r\n\" id=\"DejaVuSans-73\" transform=\"scale(0.015625)\"/>\r\n      <path d=\"M 544 1381 \r\nL 544 3500 \r\nL 1119 3500 \r\nL 1119 1403 \r\nQ 1119 906 1312 657 \r\nQ 1506 409 1894 409 \r\nQ 2359 409 2629 706 \r\nQ 2900 1003 2900 1516 \r\nL 2900 3500 \r\nL 3475 3500 \r\nL 3475 0 \r\nL 2900 0 \r\nL 2900 538 \r\nQ 2691 219 2414 64 \r\nQ 2138 -91 1772 -91 \r\nQ 1169 -91 856 284 \r\nQ 544 659 544 1381 \r\nz\r\nM 1991 3584 \r\nL 1991 3584 \r\nz\r\n\" id=\"DejaVuSans-75\" transform=\"scale(0.015625)\"/>\r\n      <path d=\"M 603 4863 \r\nL 1178 4863 \r\nL 1178 0 \r\nL 603 0 \r\nL 603 4863 \r\nz\r\n\" id=\"DejaVuSans-6c\" transform=\"scale(0.015625)\"/>\r\n      <path d=\"M 353 3500 \r\nL 3084 3500 \r\nL 3084 2975 \r\nL 922 459 \r\nL 3084 459 \r\nL 3084 0 \r\nL 275 0 \r\nL 275 525 \r\nL 2438 3041 \r\nL 353 3041 \r\nL 353 3500 \r\nz\r\n\" id=\"DejaVuSans-7a\" transform=\"scale(0.015625)\"/>\r\n      <path d=\"M 1959 3097 \r\nQ 1497 3097 1228 2736 \r\nQ 959 2375 959 1747 \r\nQ 959 1119 1226 758 \r\nQ 1494 397 1959 397 \r\nQ 2419 397 2687 759 \r\nQ 2956 1122 2956 1747 \r\nQ 2956 2369 2687 2733 \r\nQ 2419 3097 1959 3097 \r\nz\r\nM 1959 3584 \r\nQ 2709 3584 3137 3096 \r\nQ 3566 2609 3566 1747 \r\nQ 3566 888 3137 398 \r\nQ 2709 -91 1959 -91 \r\nQ 1206 -91 779 398 \r\nQ 353 888 353 1747 \r\nQ 353 2609 779 3096 \r\nQ 1206 3584 1959 3584 \r\nz\r\n\" id=\"DejaVuSans-6f\" transform=\"scale(0.015625)\"/>\r\n     </defs>\r\n     <use xlink:href=\"#DejaVuSans-56\"/>\r\n     <use x=\"66.158203\" xlink:href=\"#DejaVuSans-69\"/>\r\n     <use x=\"93.941406\" xlink:href=\"#DejaVuSans-73\"/>\r\n     <use x=\"146.041016\" xlink:href=\"#DejaVuSans-75\"/>\r\n     <use x=\"209.419922\" xlink:href=\"#DejaVuSans-61\"/>\r\n     <use x=\"270.699219\" xlink:href=\"#DejaVuSans-6c\"/>\r\n     <use x=\"298.482422\" xlink:href=\"#DejaVuSans-69\"/>\r\n     <use x=\"326.265625\" xlink:href=\"#DejaVuSans-7a\"/>\r\n     <use x=\"378.755859\" xlink:href=\"#DejaVuSans-61\"/>\r\n     <use x=\"440.035156\" xlink:href=\"#DejaVuSans-74\"/>\r\n     <use x=\"479.244141\" xlink:href=\"#DejaVuSans-69\"/>\r\n     <use x=\"507.027344\" xlink:href=\"#DejaVuSans-6f\"/>\r\n     <use x=\"568.208984\" xlink:href=\"#DejaVuSans-6e\"/>\r\n    </g>\r\n   </g>\r\n   <g id=\"text_4\">\r\n    <!-- 22.0% -->\r\n    <g transform=\"translate(119.215491 244.609119)scale(0.1 -0.1)\">\r\n     <defs>\r\n      <path d=\"M 1228 531 \r\nL 3431 531 \r\nL 3431 0 \r\nL 469 0 \r\nL 469 531 \r\nQ 828 903 1448 1529 \r\nQ 2069 2156 2228 2338 \r\nQ 2531 2678 2651 2914 \r\nQ 2772 3150 2772 3378 \r\nQ 2772 3750 2511 3984 \r\nQ 2250 4219 1831 4219 \r\nQ 1534 4219 1204 4116 \r\nQ 875 4013 500 3803 \r\nL 500 4441 \r\nQ 881 4594 1212 4672 \r\nQ 1544 4750 1819 4750 \r\nQ 2544 4750 2975 4387 \r\nQ 3406 4025 3406 3419 \r\nQ 3406 3131 3298 2873 \r\nQ 3191 2616 2906 2266 \r\nQ 2828 2175 2409 1742 \r\nQ 1991 1309 1228 531 \r\nz\r\n\" id=\"DejaVuSans-32\" transform=\"scale(0.015625)\"/>\r\n      <path d=\"M 2034 4250 \r\nQ 1547 4250 1301 3770 \r\nQ 1056 3291 1056 2328 \r\nQ 1056 1369 1301 889 \r\nQ 1547 409 2034 409 \r\nQ 2525 409 2770 889 \r\nQ 3016 1369 3016 2328 \r\nQ 3016 3291 2770 3770 \r\nQ 2525 4250 2034 4250 \r\nz\r\nM 2034 4750 \r\nQ 2819 4750 3233 4129 \r\nQ 3647 3509 3647 2328 \r\nQ 3647 1150 3233 529 \r\nQ 2819 -91 2034 -91 \r\nQ 1250 -91 836 529 \r\nQ 422 1150 422 2328 \r\nQ 422 3509 836 4129 \r\nQ 1250 4750 2034 4750 \r\nz\r\n\" id=\"DejaVuSans-30\" transform=\"scale(0.015625)\"/>\r\n     </defs>\r\n     <use xlink:href=\"#DejaVuSans-32\"/>\r\n     <use x=\"63.623047\" xlink:href=\"#DejaVuSans-32\"/>\r\n     <use x=\"127.246094\" xlink:href=\"#DejaVuSans-2e\"/>\r\n     <use x=\"159.033203\" xlink:href=\"#DejaVuSans-30\"/>\r\n     <use x=\"222.65625\" xlink:href=\"#DejaVuSans-25\"/>\r\n    </g>\r\n   </g>\r\n   <g id=\"text_5\">\r\n    <!-- Flask -->\r\n    <g transform=\"translate(192.485294 331.459273)scale(0.1 -0.1)\">\r\n     <defs>\r\n      <path d=\"M 628 4666 \r\nL 3309 4666 \r\nL 3309 4134 \r\nL 1259 4134 \r\nL 1259 2759 \r\nL 3109 2759 \r\nL 3109 2228 \r\nL 1259 2228 \r\nL 1259 0 \r\nL 628 0 \r\nL 628 4666 \r\nz\r\n\" id=\"DejaVuSans-46\" transform=\"scale(0.015625)\"/>\r\n      <path d=\"M 581 4863 \r\nL 1159 4863 \r\nL 1159 1991 \r\nL 2875 3500 \r\nL 3609 3500 \r\nL 1753 1863 \r\nL 3688 0 \r\nL 2938 0 \r\nL 1159 1709 \r\nL 1159 0 \r\nL 581 0 \r\nL 581 4863 \r\nz\r\n\" id=\"DejaVuSans-6b\" transform=\"scale(0.015625)\"/>\r\n     </defs>\r\n     <use xlink:href=\"#DejaVuSans-46\"/>\r\n     <use x=\"57.519531\" xlink:href=\"#DejaVuSans-6c\"/>\r\n     <use x=\"85.302734\" xlink:href=\"#DejaVuSans-61\"/>\r\n     <use x=\"146.582031\" xlink:href=\"#DejaVuSans-73\"/>\r\n     <use x=\"198.681641\" xlink:href=\"#DejaVuSans-6b\"/>\r\n    </g>\r\n   </g>\r\n   <g id=\"text_6\">\r\n    <!-- 1.1% -->\r\n    <g transform=\"translate(167.670972 254.12359)scale(0.1 -0.1)\">\r\n     <defs>\r\n      <path d=\"M 794 531 \r\nL 1825 531 \r\nL 1825 4091 \r\nL 703 3866 \r\nL 703 4441 \r\nL 1819 4666 \r\nL 2450 4666 \r\nL 2450 531 \r\nL 3481 531 \r\nL 3481 0 \r\nL 794 0 \r\nL 794 531 \r\nz\r\n\" id=\"DejaVuSans-31\" transform=\"scale(0.015625)\"/>\r\n     </defs>\r\n     <use xlink:href=\"#DejaVuSans-31\"/>\r\n     <use x=\"63.623047\" xlink:href=\"#DejaVuSans-2e\"/>\r\n     <use x=\"95.410156\" xlink:href=\"#DejaVuSans-31\"/>\r\n     <use x=\"159.033203\" xlink:href=\"#DejaVuSans-25\"/>\r\n    </g>\r\n   </g>\r\n   <g id=\"text_7\">\r\n    <!-- Streamlit -->\r\n    <g transform=\"translate(243.460655 313.12688)scale(0.1 -0.1)\">\r\n     <defs>\r\n      <path d=\"M 3425 4513 \r\nL 3425 3897 \r\nQ 3066 4069 2747 4153 \r\nQ 2428 4238 2131 4238 \r\nQ 1616 4238 1336 4038 \r\nQ 1056 3838 1056 3469 \r\nQ 1056 3159 1242 3001 \r\nQ 1428 2844 1947 2747 \r\nL 2328 2669 \r\nQ 3034 2534 3370 2195 \r\nQ 3706 1856 3706 1288 \r\nQ 3706 609 3251 259 \r\nQ 2797 -91 1919 -91 \r\nQ 1588 -91 1214 -16 \r\nQ 841 59 441 206 \r\nL 441 856 \r\nQ 825 641 1194 531 \r\nQ 1563 422 1919 422 \r\nQ 2459 422 2753 634 \r\nQ 3047 847 3047 1241 \r\nQ 3047 1584 2836 1778 \r\nQ 2625 1972 2144 2069 \r\nL 1759 2144 \r\nQ 1053 2284 737 2584 \r\nQ 422 2884 422 3419 \r\nQ 422 4038 858 4394 \r\nQ 1294 4750 2059 4750 \r\nQ 2388 4750 2728 4690 \r\nQ 3069 4631 3425 4513 \r\nz\r\n\" id=\"DejaVuSans-53\" transform=\"scale(0.015625)\"/>\r\n      <path d=\"M 2631 2963 \r\nQ 2534 3019 2420 3045 \r\nQ 2306 3072 2169 3072 \r\nQ 1681 3072 1420 2755 \r\nQ 1159 2438 1159 1844 \r\nL 1159 0 \r\nL 581 0 \r\nL 581 3500 \r\nL 1159 3500 \r\nL 1159 2956 \r\nQ 1341 3275 1631 3429 \r\nQ 1922 3584 2338 3584 \r\nQ 2397 3584 2469 3576 \r\nQ 2541 3569 2628 3553 \r\nL 2631 2963 \r\nz\r\n\" id=\"DejaVuSans-72\" transform=\"scale(0.015625)\"/>\r\n      <path d=\"M 3597 1894 \r\nL 3597 1613 \r\nL 953 1613 \r\nQ 991 1019 1311 708 \r\nQ 1631 397 2203 397 \r\nQ 2534 397 2845 478 \r\nQ 3156 559 3463 722 \r\nL 3463 178 \r\nQ 3153 47 2828 -22 \r\nQ 2503 -91 2169 -91 \r\nQ 1331 -91 842 396 \r\nQ 353 884 353 1716 \r\nQ 353 2575 817 3079 \r\nQ 1281 3584 2069 3584 \r\nQ 2775 3584 3186 3129 \r\nQ 3597 2675 3597 1894 \r\nz\r\nM 3022 2063 \r\nQ 3016 2534 2758 2815 \r\nQ 2500 3097 2075 3097 \r\nQ 1594 3097 1305 2825 \r\nQ 1016 2553 972 2059 \r\nL 3022 2063 \r\nz\r\n\" id=\"DejaVuSans-65\" transform=\"scale(0.015625)\"/>\r\n      <path d=\"M 3328 2828 \r\nQ 3544 3216 3844 3400 \r\nQ 4144 3584 4550 3584 \r\nQ 5097 3584 5394 3201 \r\nQ 5691 2819 5691 2113 \r\nL 5691 0 \r\nL 5113 0 \r\nL 5113 2094 \r\nQ 5113 2597 4934 2840 \r\nQ 4756 3084 4391 3084 \r\nQ 3944 3084 3684 2787 \r\nQ 3425 2491 3425 1978 \r\nL 3425 0 \r\nL 2847 0 \r\nL 2847 2094 \r\nQ 2847 2600 2669 2842 \r\nQ 2491 3084 2119 3084 \r\nQ 1678 3084 1418 2786 \r\nQ 1159 2488 1159 1978 \r\nL 1159 0 \r\nL 581 0 \r\nL 581 3500 \r\nL 1159 3500 \r\nL 1159 2956 \r\nQ 1356 3278 1631 3431 \r\nQ 1906 3584 2284 3584 \r\nQ 2666 3584 2933 3390 \r\nQ 3200 3197 3328 2828 \r\nz\r\n\" id=\"DejaVuSans-6d\" transform=\"scale(0.015625)\"/>\r\n     </defs>\r\n     <use xlink:href=\"#DejaVuSans-53\"/>\r\n     <use x=\"63.476562\" xlink:href=\"#DejaVuSans-74\"/>\r\n     <use x=\"102.685547\" xlink:href=\"#DejaVuSans-72\"/>\r\n     <use x=\"141.548828\" xlink:href=\"#DejaVuSans-65\"/>\r\n     <use x=\"203.072266\" xlink:href=\"#DejaVuSans-61\"/>\r\n     <use x=\"264.351562\" xlink:href=\"#DejaVuSans-6d\"/>\r\n     <use x=\"361.763672\" xlink:href=\"#DejaVuSans-6c\"/>\r\n     <use x=\"389.546875\" xlink:href=\"#DejaVuSans-69\"/>\r\n     <use x=\"417.330078\" xlink:href=\"#DejaVuSans-74\"/>\r\n    </g>\r\n   </g>\r\n   <g id=\"text_8\">\r\n    <!-- 11.0% -->\r\n    <g transform=\"translate(187.66034 245.790684)scale(0.1 -0.1)\">\r\n     <use xlink:href=\"#DejaVuSans-31\"/>\r\n     <use x=\"63.623047\" xlink:href=\"#DejaVuSans-31\"/>\r\n     <use x=\"127.246094\" xlink:href=\"#DejaVuSans-2e\"/>\r\n     <use x=\"159.033203\" xlink:href=\"#DejaVuSans-30\"/>\r\n     <use x=\"222.65625\" xlink:href=\"#DejaVuSans-25\"/>\r\n    </g>\r\n   </g>\r\n   <g id=\"text_9\">\r\n    <!-- SQL -->\r\n    <g transform=\"translate(289.776307 269.14962)scale(0.1 -0.1)\">\r\n     <defs>\r\n      <path d=\"M 2522 4238 \r\nQ 1834 4238 1429 3725 \r\nQ 1025 3213 1025 2328 \r\nQ 1025 1447 1429 934 \r\nQ 1834 422 2522 422 \r\nQ 3209 422 3611 934 \r\nQ 4013 1447 4013 2328 \r\nQ 4013 3213 3611 3725 \r\nQ 3209 4238 2522 4238 \r\nz\r\nM 3406 84 \r\nL 4238 -825 \r\nL 3475 -825 \r\nL 2784 -78 \r\nQ 2681 -84 2626 -87 \r\nQ 2572 -91 2522 -91 \r\nQ 1538 -91 948 567 \r\nQ 359 1225 359 2328 \r\nQ 359 3434 948 4092 \r\nQ 1538 4750 2522 4750 \r\nQ 3503 4750 4090 4092 \r\nQ 4678 3434 4678 2328 \r\nQ 4678 1516 4351 937 \r\nQ 4025 359 3406 84 \r\nz\r\n\" id=\"DejaVuSans-51\" transform=\"scale(0.015625)\"/>\r\n      <path d=\"M 628 4666 \r\nL 1259 4666 \r\nL 1259 531 \r\nL 3531 531 \r\nL 3531 0 \r\nL 628 0 \r\nL 628 4666 \r\nz\r\n\" id=\"DejaVuSans-4c\" transform=\"scale(0.015625)\"/>\r\n     </defs>\r\n     <use xlink:href=\"#DejaVuSans-53\"/>\r\n     <use x=\"63.476562\" xlink:href=\"#DejaVuSans-51\"/>\r\n     <use x=\"142.1875\" xlink:href=\"#DejaVuSans-4c\"/>\r\n    </g>\r\n   </g>\r\n   <g id=\"text_10\">\r\n    <!-- 3.3% -->\r\n    <g transform=\"translate(211.894159 225.801021)scale(0.1 -0.1)\">\r\n     <defs>\r\n      <path d=\"M 2597 2516 \r\nQ 3050 2419 3304 2112 \r\nQ 3559 1806 3559 1356 \r\nQ 3559 666 3084 287 \r\nQ 2609 -91 1734 -91 \r\nQ 1441 -91 1130 -33 \r\nQ 819 25 488 141 \r\nL 488 750 \r\nQ 750 597 1062 519 \r\nQ 1375 441 1716 441 \r\nQ 2309 441 2620 675 \r\nQ 2931 909 2931 1356 \r\nQ 2931 1769 2642 2001 \r\nQ 2353 2234 1838 2234 \r\nL 1294 2234 \r\nL 1294 2753 \r\nL 1863 2753 \r\nQ 2328 2753 2575 2939 \r\nQ 2822 3125 2822 3475 \r\nQ 2822 3834 2567 4026 \r\nQ 2313 4219 1838 4219 \r\nQ 1578 4219 1281 4162 \r\nQ 984 4106 628 3988 \r\nL 628 4550 \r\nQ 988 4650 1302 4700 \r\nQ 1616 4750 1894 4750 \r\nQ 2613 4750 3031 4423 \r\nQ 3450 4097 3450 3541 \r\nQ 3450 3153 3228 2886 \r\nQ 3006 2619 2597 2516 \r\nz\r\n\" id=\"DejaVuSans-33\" transform=\"scale(0.015625)\"/>\r\n     </defs>\r\n     <use xlink:href=\"#DejaVuSans-33\"/>\r\n     <use x=\"63.623047\" xlink:href=\"#DejaVuSans-2e\"/>\r\n     <use x=\"95.410156\" xlink:href=\"#DejaVuSans-33\"/>\r\n     <use x=\"159.033203\" xlink:href=\"#DejaVuSans-25\"/>\r\n    </g>\r\n   </g>\r\n   <g id=\"text_11\">\r\n    <!-- Reports and Documentation -->\r\n    <g transform=\"translate(309.620256 224.021445)scale(0.1 -0.1)\">\r\n     <defs>\r\n      <path d=\"M 2841 2188 \r\nQ 3044 2119 3236 1894 \r\nQ 3428 1669 3622 1275 \r\nL 4263 0 \r\nL 3584 0 \r\nL 2988 1197 \r\nQ 2756 1666 2539 1819 \r\nQ 2322 1972 1947 1972 \r\nL 1259 1972 \r\nL 1259 0 \r\nL 628 0 \r\nL 628 4666 \r\nL 2053 4666 \r\nQ 2853 4666 3247 4331 \r\nQ 3641 3997 3641 3322 \r\nQ 3641 2881 3436 2590 \r\nQ 3231 2300 2841 2188 \r\nz\r\nM 1259 4147 \r\nL 1259 2491 \r\nL 2053 2491 \r\nQ 2509 2491 2742 2702 \r\nQ 2975 2913 2975 3322 \r\nQ 2975 3731 2742 3939 \r\nQ 2509 4147 2053 4147 \r\nL 1259 4147 \r\nz\r\n\" id=\"DejaVuSans-52\" transform=\"scale(0.015625)\"/>\r\n      <path d=\"M 1159 525 \r\nL 1159 -1331 \r\nL 581 -1331 \r\nL 581 3500 \r\nL 1159 3500 \r\nL 1159 2969 \r\nQ 1341 3281 1617 3432 \r\nQ 1894 3584 2278 3584 \r\nQ 2916 3584 3314 3078 \r\nQ 3713 2572 3713 1747 \r\nQ 3713 922 3314 415 \r\nQ 2916 -91 2278 -91 \r\nQ 1894 -91 1617 61 \r\nQ 1341 213 1159 525 \r\nz\r\nM 3116 1747 \r\nQ 3116 2381 2855 2742 \r\nQ 2594 3103 2138 3103 \r\nQ 1681 3103 1420 2742 \r\nQ 1159 2381 1159 1747 \r\nQ 1159 1113 1420 752 \r\nQ 1681 391 2138 391 \r\nQ 2594 391 2855 752 \r\nQ 3116 1113 3116 1747 \r\nz\r\n\" id=\"DejaVuSans-70\" transform=\"scale(0.015625)\"/>\r\n      <path d=\"M 2906 2969 \r\nL 2906 4863 \r\nL 3481 4863 \r\nL 3481 0 \r\nL 2906 0 \r\nL 2906 525 \r\nQ 2725 213 2448 61 \r\nQ 2172 -91 1784 -91 \r\nQ 1150 -91 751 415 \r\nQ 353 922 353 1747 \r\nQ 353 2572 751 3078 \r\nQ 1150 3584 1784 3584 \r\nQ 2172 3584 2448 3432 \r\nQ 2725 3281 2906 2969 \r\nz\r\nM 947 1747 \r\nQ 947 1113 1208 752 \r\nQ 1469 391 1925 391 \r\nQ 2381 391 2643 752 \r\nQ 2906 1113 2906 1747 \r\nQ 2906 2381 2643 2742 \r\nQ 2381 3103 1925 3103 \r\nQ 1469 3103 1208 2742 \r\nQ 947 2381 947 1747 \r\nz\r\n\" id=\"DejaVuSans-64\" transform=\"scale(0.015625)\"/>\r\n      <path d=\"M 3122 3366 \r\nL 3122 2828 \r\nQ 2878 2963 2633 3030 \r\nQ 2388 3097 2138 3097 \r\nQ 1578 3097 1268 2742 \r\nQ 959 2388 959 1747 \r\nQ 959 1106 1268 751 \r\nQ 1578 397 2138 397 \r\nQ 2388 397 2633 464 \r\nQ 2878 531 3122 666 \r\nL 3122 134 \r\nQ 2881 22 2623 -34 \r\nQ 2366 -91 2075 -91 \r\nQ 1284 -91 818 406 \r\nQ 353 903 353 1747 \r\nQ 353 2603 823 3093 \r\nQ 1294 3584 2113 3584 \r\nQ 2378 3584 2631 3529 \r\nQ 2884 3475 3122 3366 \r\nz\r\n\" id=\"DejaVuSans-63\" transform=\"scale(0.015625)\"/>\r\n     </defs>\r\n     <use xlink:href=\"#DejaVuSans-52\"/>\r\n     <use x=\"64.982422\" xlink:href=\"#DejaVuSans-65\"/>\r\n     <use x=\"126.505859\" xlink:href=\"#DejaVuSans-70\"/>\r\n     <use x=\"189.982422\" xlink:href=\"#DejaVuSans-6f\"/>\r\n     <use x=\"251.164062\" xlink:href=\"#DejaVuSans-72\"/>\r\n     <use x=\"292.277344\" xlink:href=\"#DejaVuSans-74\"/>\r\n     <use x=\"331.486328\" xlink:href=\"#DejaVuSans-73\"/>\r\n     <use x=\"383.585938\" xlink:href=\"#DejaVuSans-20\"/>\r\n     <use x=\"415.373047\" xlink:href=\"#DejaVuSans-61\"/>\r\n     <use x=\"476.652344\" xlink:href=\"#DejaVuSans-6e\"/>\r\n     <use x=\"540.03125\" xlink:href=\"#DejaVuSans-64\"/>\r\n     <use x=\"603.507812\" xlink:href=\"#DejaVuSans-20\"/>\r\n     <use x=\"635.294922\" xlink:href=\"#DejaVuSans-44\"/>\r\n     <use x=\"712.296875\" xlink:href=\"#DejaVuSans-6f\"/>\r\n     <use x=\"773.478516\" xlink:href=\"#DejaVuSans-63\"/>\r\n     <use x=\"828.458984\" xlink:href=\"#DejaVuSans-75\"/>\r\n     <use x=\"891.837891\" xlink:href=\"#DejaVuSans-6d\"/>\r\n     <use x=\"989.25\" xlink:href=\"#DejaVuSans-65\"/>\r\n     <use x=\"1050.773438\" xlink:href=\"#DejaVuSans-6e\"/>\r\n     <use x=\"1114.152344\" xlink:href=\"#DejaVuSans-74\"/>\r\n     <use x=\"1153.361328\" xlink:href=\"#DejaVuSans-61\"/>\r\n     <use x=\"1214.640625\" xlink:href=\"#DejaVuSans-74\"/>\r\n     <use x=\"1253.849609\" xlink:href=\"#DejaVuSans-69\"/>\r\n     <use x=\"1281.632812\" xlink:href=\"#DejaVuSans-6f\"/>\r\n     <use x=\"1342.814453\" xlink:href=\"#DejaVuSans-6e\"/>\r\n    </g>\r\n   </g>\r\n   <g id=\"text_12\">\r\n    <!-- 7.7% -->\r\n    <g transform=\"translate(220.914136 205.288214)scale(0.1 -0.1)\">\r\n     <defs>\r\n      <path d=\"M 525 4666 \r\nL 3525 4666 \r\nL 3525 4397 \r\nL 1831 0 \r\nL 1172 0 \r\nL 2766 4134 \r\nL 525 4134 \r\nL 525 4666 \r\nz\r\n\" id=\"DejaVuSans-37\" transform=\"scale(0.015625)\"/>\r\n     </defs>\r\n     <use xlink:href=\"#DejaVuSans-37\"/>\r\n     <use x=\"63.623047\" xlink:href=\"#DejaVuSans-2e\"/>\r\n     <use x=\"95.410156\" xlink:href=\"#DejaVuSans-37\"/>\r\n     <use x=\"159.033203\" xlink:href=\"#DejaVuSans-25\"/>\r\n    </g>\r\n   </g>\r\n   <g id=\"text_13\">\r\n    <!-- Time spent per Project Step -->\r\n    <g transform=\"translate(73.161563 17.837812)scale(0.14 -0.14)\">\r\n     <defs>\r\n      <path d=\"M -19 4666 \r\nL 3928 4666 \r\nL 3928 4134 \r\nL 2272 4134 \r\nL 2272 0 \r\nL 1638 0 \r\nL 1638 4134 \r\nL -19 4134 \r\nL -19 4666 \r\nz\r\n\" id=\"DejaVuSans-54\" transform=\"scale(0.015625)\"/>\r\n      <path d=\"M 1259 4147 \r\nL 1259 2394 \r\nL 2053 2394 \r\nQ 2494 2394 2734 2622 \r\nQ 2975 2850 2975 3272 \r\nQ 2975 3691 2734 3919 \r\nQ 2494 4147 2053 4147 \r\nL 1259 4147 \r\nz\r\nM 628 4666 \r\nL 2053 4666 \r\nQ 2838 4666 3239 4311 \r\nQ 3641 3956 3641 3272 \r\nQ 3641 2581 3239 2228 \r\nQ 2838 1875 2053 1875 \r\nL 1259 1875 \r\nL 1259 0 \r\nL 628 0 \r\nL 628 4666 \r\nz\r\n\" id=\"DejaVuSans-50\" transform=\"scale(0.015625)\"/>\r\n      <path d=\"M 603 3500 \r\nL 1178 3500 \r\nL 1178 -63 \r\nQ 1178 -731 923 -1031 \r\nQ 669 -1331 103 -1331 \r\nL -116 -1331 \r\nL -116 -844 \r\nL 38 -844 \r\nQ 366 -844 484 -692 \r\nQ 603 -541 603 -63 \r\nL 603 3500 \r\nz\r\nM 603 4863 \r\nL 1178 4863 \r\nL 1178 4134 \r\nL 603 4134 \r\nL 603 4863 \r\nz\r\n\" id=\"DejaVuSans-6a\" transform=\"scale(0.015625)\"/>\r\n     </defs>\r\n     <use xlink:href=\"#DejaVuSans-54\"/>\r\n     <use x=\"57.958984\" xlink:href=\"#DejaVuSans-69\"/>\r\n     <use x=\"85.742188\" xlink:href=\"#DejaVuSans-6d\"/>\r\n     <use x=\"183.154297\" xlink:href=\"#DejaVuSans-65\"/>\r\n     <use x=\"244.677734\" xlink:href=\"#DejaVuSans-20\"/>\r\n     <use x=\"276.464844\" xlink:href=\"#DejaVuSans-73\"/>\r\n     <use x=\"328.564453\" xlink:href=\"#DejaVuSans-70\"/>\r\n     <use x=\"392.041016\" xlink:href=\"#DejaVuSans-65\"/>\r\n     <use x=\"453.564453\" xlink:href=\"#DejaVuSans-6e\"/>\r\n     <use x=\"516.943359\" xlink:href=\"#DejaVuSans-74\"/>\r\n     <use x=\"556.152344\" xlink:href=\"#DejaVuSans-20\"/>\r\n     <use x=\"587.939453\" xlink:href=\"#DejaVuSans-70\"/>\r\n     <use x=\"651.416016\" xlink:href=\"#DejaVuSans-65\"/>\r\n     <use x=\"712.939453\" xlink:href=\"#DejaVuSans-72\"/>\r\n     <use x=\"754.052734\" xlink:href=\"#DejaVuSans-20\"/>\r\n     <use x=\"785.839844\" xlink:href=\"#DejaVuSans-50\"/>\r\n     <use x=\"844.392578\" xlink:href=\"#DejaVuSans-72\"/>\r\n     <use x=\"883.255859\" xlink:href=\"#DejaVuSans-6f\"/>\r\n     <use x=\"944.4375\" xlink:href=\"#DejaVuSans-6a\"/>\r\n     <use x=\"972.220703\" xlink:href=\"#DejaVuSans-65\"/>\r\n     <use x=\"1033.744141\" xlink:href=\"#DejaVuSans-63\"/>\r\n     <use x=\"1088.724609\" xlink:href=\"#DejaVuSans-74\"/>\r\n     <use x=\"1127.933594\" xlink:href=\"#DejaVuSans-20\"/>\r\n     <use x=\"1159.720703\" xlink:href=\"#DejaVuSans-53\"/>\r\n     <use x=\"1223.197266\" xlink:href=\"#DejaVuSans-74\"/>\r\n     <use x=\"1262.40625\" xlink:href=\"#DejaVuSans-65\"/>\r\n     <use x=\"1323.929688\" xlink:href=\"#DejaVuSans-70\"/>\r\n    </g>\r\n   </g>\r\n  </g>\r\n </g>\r\n</svg>\r\n",
      "image/png": "[encoded data removed]"
     },
     "metadata": {}
    }
   ],
   "source": [
    "viz.timepie(save=reports)"
   ]
  },
  {
   "source": [
    "### 2.2 Graphs\n",
    "\n",
    "A Title distribution pie chart was made, which contributed to the understanding of each\n",
    "genre’s analysis fidelity."
   ],
   "cell_type": "markdown",
   "metadata": {}
  },
  {
   "cell_type": "code",
   "execution_count": 4,
   "metadata": {},
   "outputs": [
    {
     "output_type": "display_data",
     "data": {
      "text/plain": "<Figure size 720x432 with 1 Axes>",
      "image/svg+xml": "<?xml version=\"1.0\" encoding=\"utf-8\" standalone=\"no\"?>\r\n<!DOCTYPE svg PUBLIC \"-//W3C//DTD SVG 1.1//EN\"\r\n  \"http://www.w3.org/Graphics/SVG/1.1/DTD/svg11.dtd\">\r\n<svg height=\"357.197812pt\" version=\"1.1\" viewBox=\"0 0 353.235508 357.197812\" width=\"353.235508pt\" xmlns=\"http://www.w3.org/2000/svg\" xmlns:xlink=\"http://www.w3.org/1999/xlink\">\r\n <metadata>\r\n  <rdf:RDF xmlns:cc=\"http://creativecommons.org/ns#\" xmlns:dc=\"http://purl.org/dc/elements/1.1/\" xmlns:rdf=\"http://www.w3.org/1999/02/22-rdf-syntax-ns#\">\r\n   <cc:Work>\r\n    <dc:type rdf:resource=\"http://purl.org/dc/dcmitype/StillImage\"/>\r\n    <dc:date>2021-06-01T19:35:16.311789</dc:date>\r\n    <dc:format>image/svg+xml</dc:format>\r\n    <dc:creator>\r\n     <cc:Agent>\r\n      <dc:title>Matplotlib v3.4.1, https://matplotlib.org/</dc:title>\r\n     </cc:Agent>\r\n    </dc:creator>\r\n   </cc:Work>\r\n  </rdf:RDF>\r\n </metadata>\r\n <defs>\r\n  <style type=\"text/css\">*{stroke-linecap:butt;stroke-linejoin:round;}</style>\r\n </defs>\r\n <g id=\"figure_1\">\r\n  <g id=\"patch_1\">\r\n   <path d=\"M -0 357.197812 \r\nL 353.235508 357.197812 \r\nL 353.235508 0 \r\nL -0 0 \r\nz\r\n\" style=\"fill:none;\"/>\r\n  </g>\r\n  <g id=\"axes_1\">\r\n   <g id=\"patch_2\">\r\n    <path d=\"M 313.419508 186.917812 \r\nC 313.419508 159.234855 304.608501 132.257492 288.2686 109.911267 \r\nC 271.928698 87.565043 248.892858 70.989096 222.513082 62.595435 \r\nL 182.955508 186.917812 \r\nL 313.419508 186.917812 \r\nz\r\n\" style=\"fill:#1f77b4;\"/>\r\n   </g>\r\n   <g id=\"patch_3\">\r\n    <path d=\"M 222.513082 62.595435 \r\nC 205.463973 57.170656 187.479799 55.310494 169.6813 57.130869 \r\nC 151.882802 58.951244 134.647546 64.413542 119.049603 73.17736 \r\nL 182.955508 186.917812 \r\nL 222.513082 62.595435 \r\nz\r\n\" style=\"fill:#ff7f0e;\"/>\r\n   </g>\r\n   <g id=\"patch_4\">\r\n    <path d=\"M 119.049603 73.17736 \r\nC 107.922996 79.428925 97.773697 87.279477 88.926447 96.477827 \r\nC 80.079197 105.676176 72.629372 116.123163 66.815338 127.484521 \r\nL 182.955508 186.917812 \r\nL 119.049603 73.17736 \r\nz\r\n\" style=\"fill:#2ca02c;\"/>\r\n   </g>\r\n   <g id=\"patch_5\">\r\n    <path d=\"M 66.815338 127.484521 \r\nC 61.432663 138.002948 57.50378 149.204025 55.13658 160.780158 \r\nC 52.76938 172.356291 51.985732 184.200536 52.807156 195.987637 \r\nL 182.955508 186.917812 \r\nL 66.815338 127.484521 \r\nz\r\n\" style=\"fill:#d62728;\"/>\r\n   </g>\r\n   <g id=\"patch_6\">\r\n    <path d=\"M 52.807156 195.987637 \r\nC 53.423043 204.825374 54.937523 213.577441 57.327134 222.108249 \r\nC 59.716744 230.639056 62.96908 238.904323 67.033756 246.776001 \r\nL 182.955508 186.917812 \r\nL 52.807156 195.987637 \r\nz\r\n\" style=\"fill:#9467bd;\"/>\r\n   </g>\r\n   <g id=\"patch_7\">\r\n    <path d=\"M 67.033756 246.776001 \r\nC 71.083172 254.618126 75.917938 262.029134 81.463713 268.89507 \r\nC 87.009487 275.761006 93.237698 282.046497 100.052578 287.654893 \r\nL 182.955508 186.917812 \r\nL 67.033756 246.776001 \r\nz\r\n\" style=\"fill:#8c564b;\"/>\r\n   </g>\r\n   <g id=\"patch_8\">\r\n    <path d=\"M 100.052578 287.654893 \r\nC 104.988669 291.717115 110.216662 295.411048 115.694295 298.70683 \r\nC 121.171928 302.002612 126.884399 304.891338 132.785528 307.349654 \r\nL 182.955508 186.917812 \r\nL 100.052578 287.654893 \r\nz\r\n\" style=\"fill:#e377c2;\"/>\r\n   </g>\r\n   <g id=\"patch_9\">\r\n    <path d=\"M 132.785528 307.349654 \r\nC 137.36222 309.256231 142.043875 310.900371 146.807707 312.274072 \r\nC 151.571539 313.647773 156.409805 314.748803 161.298958 315.571803 \r\nL 182.955508 186.917812 \r\nL 132.785528 307.349654 \r\nz\r\n\" style=\"fill:#7f7f7f;\"/>\r\n   </g>\r\n   <g id=\"patch_10\">\r\n    <path d=\"M 161.298958 315.571803 \r\nC 165.926179 316.350711 170.592054 316.879415 175.276239 317.155611 \r\nC 179.960423 317.431807 184.656099 317.455091 189.342793 317.225364 \r\nL 182.955508 186.917812 \r\nL 161.298958 315.571803 \r\nz\r\n\" style=\"fill:#bcbd22;\"/>\r\n   </g>\r\n   <g id=\"patch_11\">\r\n    <path d=\"M 189.342793 317.225364 \r\nC 222.786772 315.58604 254.348757 301.132726 277.438752 276.883205 \r\nC 300.528747 252.633685 313.41951 220.401938 313.419508 186.917806 \r\nL 182.955508 186.917812 \r\nL 189.342793 317.225364 \r\nz\r\n\" style=\"fill:#17becf;\"/>\r\n   </g>\r\n   <g id=\"matplotlib.axis_1\"/>\r\n   <g id=\"matplotlib.axis_2\"/>\r\n   <g id=\"text_1\">\r\n    <!-- Drama -->\r\n    <g transform=\"translate(298.799909 104.969988)scale(0.1 -0.1)\">\r\n     <defs>\r\n      <path d=\"M 1259 4147 \r\nL 1259 519 \r\nL 2022 519 \r\nQ 2988 519 3436 956 \r\nQ 3884 1394 3884 2338 \r\nQ 3884 3275 3436 3711 \r\nQ 2988 4147 2022 4147 \r\nL 1259 4147 \r\nz\r\nM 628 4666 \r\nL 1925 4666 \r\nQ 3281 4666 3915 4102 \r\nQ 4550 3538 4550 2338 \r\nQ 4550 1131 3912 565 \r\nQ 3275 0 1925 0 \r\nL 628 0 \r\nL 628 4666 \r\nz\r\n\" id=\"DejaVuSans-44\" transform=\"scale(0.015625)\"/>\r\n      <path d=\"M 2631 2963 \r\nQ 2534 3019 2420 3045 \r\nQ 2306 3072 2169 3072 \r\nQ 1681 3072 1420 2755 \r\nQ 1159 2438 1159 1844 \r\nL 1159 0 \r\nL 581 0 \r\nL 581 3500 \r\nL 1159 3500 \r\nL 1159 2956 \r\nQ 1341 3275 1631 3429 \r\nQ 1922 3584 2338 3584 \r\nQ 2397 3584 2469 3576 \r\nQ 2541 3569 2628 3553 \r\nL 2631 2963 \r\nz\r\n\" id=\"DejaVuSans-72\" transform=\"scale(0.015625)\"/>\r\n      <path d=\"M 2194 1759 \r\nQ 1497 1759 1228 1600 \r\nQ 959 1441 959 1056 \r\nQ 959 750 1161 570 \r\nQ 1363 391 1709 391 \r\nQ 2188 391 2477 730 \r\nQ 2766 1069 2766 1631 \r\nL 2766 1759 \r\nL 2194 1759 \r\nz\r\nM 3341 1997 \r\nL 3341 0 \r\nL 2766 0 \r\nL 2766 531 \r\nQ 2569 213 2275 61 \r\nQ 1981 -91 1556 -91 \r\nQ 1019 -91 701 211 \r\nQ 384 513 384 1019 \r\nQ 384 1609 779 1909 \r\nQ 1175 2209 1959 2209 \r\nL 2766 2209 \r\nL 2766 2266 \r\nQ 2766 2663 2505 2880 \r\nQ 2244 3097 1772 3097 \r\nQ 1472 3097 1187 3025 \r\nQ 903 2953 641 2809 \r\nL 641 3341 \r\nQ 956 3463 1253 3523 \r\nQ 1550 3584 1831 3584 \r\nQ 2591 3584 2966 3190 \r\nQ 3341 2797 3341 1997 \r\nz\r\n\" id=\"DejaVuSans-61\" transform=\"scale(0.015625)\"/>\r\n      <path d=\"M 3328 2828 \r\nQ 3544 3216 3844 3400 \r\nQ 4144 3584 4550 3584 \r\nQ 5097 3584 5394 3201 \r\nQ 5691 2819 5691 2113 \r\nL 5691 0 \r\nL 5113 0 \r\nL 5113 2094 \r\nQ 5113 2597 4934 2840 \r\nQ 4756 3084 4391 3084 \r\nQ 3944 3084 3684 2787 \r\nQ 3425 2491 3425 1978 \r\nL 3425 0 \r\nL 2847 0 \r\nL 2847 2094 \r\nQ 2847 2600 2669 2842 \r\nQ 2491 3084 2119 3084 \r\nQ 1678 3084 1418 2786 \r\nQ 1159 2488 1159 1978 \r\nL 1159 0 \r\nL 581 0 \r\nL 581 3500 \r\nL 1159 3500 \r\nL 1159 2956 \r\nQ 1356 3278 1631 3431 \r\nQ 1906 3584 2284 3584 \r\nQ 2666 3584 2933 3390 \r\nQ 3200 3197 3328 2828 \r\nz\r\n\" id=\"DejaVuSans-6d\" transform=\"scale(0.015625)\"/>\r\n     </defs>\r\n     <use xlink:href=\"#DejaVuSans-44\"/>\r\n     <use x=\"77.001953\" xlink:href=\"#DejaVuSans-72\"/>\r\n     <use x=\"118.115234\" xlink:href=\"#DejaVuSans-61\"/>\r\n     <use x=\"179.394531\" xlink:href=\"#DejaVuSans-6d\"/>\r\n     <use x=\"276.806641\" xlink:href=\"#DejaVuSans-61\"/>\r\n    </g>\r\n   </g>\r\n   <g id=\"text_2\">\r\n    <!-- 20.1% -->\r\n    <g transform=\"translate(219.72846 151.173915)scale(0.1 -0.1)\">\r\n     <defs>\r\n      <path d=\"M 1228 531 \r\nL 3431 531 \r\nL 3431 0 \r\nL 469 0 \r\nL 469 531 \r\nQ 828 903 1448 1529 \r\nQ 2069 2156 2228 2338 \r\nQ 2531 2678 2651 2914 \r\nQ 2772 3150 2772 3378 \r\nQ 2772 3750 2511 3984 \r\nQ 2250 4219 1831 4219 \r\nQ 1534 4219 1204 4116 \r\nQ 875 4013 500 3803 \r\nL 500 4441 \r\nQ 881 4594 1212 4672 \r\nQ 1544 4750 1819 4750 \r\nQ 2544 4750 2975 4387 \r\nQ 3406 4025 3406 3419 \r\nQ 3406 3131 3298 2873 \r\nQ 3191 2616 2906 2266 \r\nQ 2828 2175 2409 1742 \r\nQ 1991 1309 1228 531 \r\nz\r\n\" id=\"DejaVuSans-32\" transform=\"scale(0.015625)\"/>\r\n      <path d=\"M 2034 4250 \r\nQ 1547 4250 1301 3770 \r\nQ 1056 3291 1056 2328 \r\nQ 1056 1369 1301 889 \r\nQ 1547 409 2034 409 \r\nQ 2525 409 2770 889 \r\nQ 3016 1369 3016 2328 \r\nQ 3016 3291 2770 3770 \r\nQ 2525 4250 2034 4250 \r\nz\r\nM 2034 4750 \r\nQ 2819 4750 3233 4129 \r\nQ 3647 3509 3647 2328 \r\nQ 3647 1150 3233 529 \r\nQ 2819 -91 2034 -91 \r\nQ 1250 -91 836 529 \r\nQ 422 1150 422 2328 \r\nQ 422 3509 836 4129 \r\nQ 1250 4750 2034 4750 \r\nz\r\n\" id=\"DejaVuSans-30\" transform=\"scale(0.015625)\"/>\r\n      <path d=\"M 684 794 \r\nL 1344 794 \r\nL 1344 0 \r\nL 684 0 \r\nL 684 794 \r\nz\r\n\" id=\"DejaVuSans-2e\" transform=\"scale(0.015625)\"/>\r\n      <path d=\"M 794 531 \r\nL 1825 531 \r\nL 1825 4091 \r\nL 703 3866 \r\nL 703 4441 \r\nL 1819 4666 \r\nL 2450 4666 \r\nL 2450 531 \r\nL 3481 531 \r\nL 3481 0 \r\nL 794 0 \r\nL 794 531 \r\nz\r\n\" id=\"DejaVuSans-31\" transform=\"scale(0.015625)\"/>\r\n      <path d=\"M 4653 2053 \r\nQ 4381 2053 4226 1822 \r\nQ 4072 1591 4072 1178 \r\nQ 4072 772 4226 539 \r\nQ 4381 306 4653 306 \r\nQ 4919 306 5073 539 \r\nQ 5228 772 5228 1178 \r\nQ 5228 1588 5073 1820 \r\nQ 4919 2053 4653 2053 \r\nz\r\nM 4653 2450 \r\nQ 5147 2450 5437 2106 \r\nQ 5728 1763 5728 1178 \r\nQ 5728 594 5436 251 \r\nQ 5144 -91 4653 -91 \r\nQ 4153 -91 3862 251 \r\nQ 3572 594 3572 1178 \r\nQ 3572 1766 3864 2108 \r\nQ 4156 2450 4653 2450 \r\nz\r\nM 1428 4353 \r\nQ 1159 4353 1004 4120 \r\nQ 850 3888 850 3481 \r\nQ 850 3069 1003 2837 \r\nQ 1156 2606 1428 2606 \r\nQ 1700 2606 1854 2837 \r\nQ 2009 3069 2009 3481 \r\nQ 2009 3884 1853 4118 \r\nQ 1697 4353 1428 4353 \r\nz\r\nM 4250 4750 \r\nL 4750 4750 \r\nL 1831 -91 \r\nL 1331 -91 \r\nL 4250 4750 \r\nz\r\nM 1428 4750 \r\nQ 1922 4750 2215 4408 \r\nQ 2509 4066 2509 3481 \r\nQ 2509 2891 2217 2550 \r\nQ 1925 2209 1428 2209 \r\nQ 931 2209 642 2551 \r\nQ 353 2894 353 3481 \r\nQ 353 4063 643 4406 \r\nQ 934 4750 1428 4750 \r\nz\r\n\" id=\"DejaVuSans-25\" transform=\"scale(0.015625)\"/>\r\n     </defs>\r\n     <use xlink:href=\"#DejaVuSans-32\"/>\r\n     <use x=\"63.623047\" xlink:href=\"#DejaVuSans-30\"/>\r\n     <use x=\"127.246094\" xlink:href=\"#DejaVuSans-2e\"/>\r\n     <use x=\"159.033203\" xlink:href=\"#DejaVuSans-31\"/>\r\n     <use x=\"222.65625\" xlink:href=\"#DejaVuSans-25\"/>\r\n    </g>\r\n   </g>\r\n   <g id=\"text_3\">\r\n    <!-- Comedy -->\r\n    <g transform=\"translate(127.09138 46.91155)scale(0.1 -0.1)\">\r\n     <defs>\r\n      <path d=\"M 4122 4306 \r\nL 4122 3641 \r\nQ 3803 3938 3442 4084 \r\nQ 3081 4231 2675 4231 \r\nQ 1875 4231 1450 3742 \r\nQ 1025 3253 1025 2328 \r\nQ 1025 1406 1450 917 \r\nQ 1875 428 2675 428 \r\nQ 3081 428 3442 575 \r\nQ 3803 722 4122 1019 \r\nL 4122 359 \r\nQ 3791 134 3420 21 \r\nQ 3050 -91 2638 -91 \r\nQ 1578 -91 968 557 \r\nQ 359 1206 359 2328 \r\nQ 359 3453 968 4101 \r\nQ 1578 4750 2638 4750 \r\nQ 3056 4750 3426 4639 \r\nQ 3797 4528 4122 4306 \r\nz\r\n\" id=\"DejaVuSans-43\" transform=\"scale(0.015625)\"/>\r\n      <path d=\"M 1959 3097 \r\nQ 1497 3097 1228 2736 \r\nQ 959 2375 959 1747 \r\nQ 959 1119 1226 758 \r\nQ 1494 397 1959 397 \r\nQ 2419 397 2687 759 \r\nQ 2956 1122 2956 1747 \r\nQ 2956 2369 2687 2733 \r\nQ 2419 3097 1959 3097 \r\nz\r\nM 1959 3584 \r\nQ 2709 3584 3137 3096 \r\nQ 3566 2609 3566 1747 \r\nQ 3566 888 3137 398 \r\nQ 2709 -91 1959 -91 \r\nQ 1206 -91 779 398 \r\nQ 353 888 353 1747 \r\nQ 353 2609 779 3096 \r\nQ 1206 3584 1959 3584 \r\nz\r\n\" id=\"DejaVuSans-6f\" transform=\"scale(0.015625)\"/>\r\n      <path d=\"M 3597 1894 \r\nL 3597 1613 \r\nL 953 1613 \r\nQ 991 1019 1311 708 \r\nQ 1631 397 2203 397 \r\nQ 2534 397 2845 478 \r\nQ 3156 559 3463 722 \r\nL 3463 178 \r\nQ 3153 47 2828 -22 \r\nQ 2503 -91 2169 -91 \r\nQ 1331 -91 842 396 \r\nQ 353 884 353 1716 \r\nQ 353 2575 817 3079 \r\nQ 1281 3584 2069 3584 \r\nQ 2775 3584 3186 3129 \r\nQ 3597 2675 3597 1894 \r\nz\r\nM 3022 2063 \r\nQ 3016 2534 2758 2815 \r\nQ 2500 3097 2075 3097 \r\nQ 1594 3097 1305 2825 \r\nQ 1016 2553 972 2059 \r\nL 3022 2063 \r\nz\r\n\" id=\"DejaVuSans-65\" transform=\"scale(0.015625)\"/>\r\n      <path d=\"M 2906 2969 \r\nL 2906 4863 \r\nL 3481 4863 \r\nL 3481 0 \r\nL 2906 0 \r\nL 2906 525 \r\nQ 2725 213 2448 61 \r\nQ 2172 -91 1784 -91 \r\nQ 1150 -91 751 415 \r\nQ 353 922 353 1747 \r\nQ 353 2572 751 3078 \r\nQ 1150 3584 1784 3584 \r\nQ 2172 3584 2448 3432 \r\nQ 2725 3281 2906 2969 \r\nz\r\nM 947 1747 \r\nQ 947 1113 1208 752 \r\nQ 1469 391 1925 391 \r\nQ 2381 391 2643 752 \r\nQ 2906 1113 2906 1747 \r\nQ 2906 2381 2643 2742 \r\nQ 2381 3103 1925 3103 \r\nQ 1469 3103 1208 2742 \r\nQ 947 2381 947 1747 \r\nz\r\n\" id=\"DejaVuSans-64\" transform=\"scale(0.015625)\"/>\r\n      <path d=\"M 2059 -325 \r\nQ 1816 -950 1584 -1140 \r\nQ 1353 -1331 966 -1331 \r\nL 506 -1331 \r\nL 506 -850 \r\nL 844 -850 \r\nQ 1081 -850 1212 -737 \r\nQ 1344 -625 1503 -206 \r\nL 1606 56 \r\nL 191 3500 \r\nL 800 3500 \r\nL 1894 763 \r\nL 2988 3500 \r\nL 3597 3500 \r\nL 2059 -325 \r\nz\r\n\" id=\"DejaVuSans-79\" transform=\"scale(0.015625)\"/>\r\n     </defs>\r\n     <use xlink:href=\"#DejaVuSans-43\"/>\r\n     <use x=\"69.824219\" xlink:href=\"#DejaVuSans-6f\"/>\r\n     <use x=\"131.005859\" xlink:href=\"#DejaVuSans-6d\"/>\r\n     <use x=\"228.417969\" xlink:href=\"#DejaVuSans-65\"/>\r\n     <use x=\"289.941406\" xlink:href=\"#DejaVuSans-64\"/>\r\n     <use x=\"353.417969\" xlink:href=\"#DejaVuSans-79\"/>\r\n    </g>\r\n   </g>\r\n   <g id=\"text_4\">\r\n    <!-- 13.1% -->\r\n    <g transform=\"translate(160.43481 124.783716)scale(0.1 -0.1)\">\r\n     <defs>\r\n      <path d=\"M 2597 2516 \r\nQ 3050 2419 3304 2112 \r\nQ 3559 1806 3559 1356 \r\nQ 3559 666 3084 287 \r\nQ 2609 -91 1734 -91 \r\nQ 1441 -91 1130 -33 \r\nQ 819 25 488 141 \r\nL 488 750 \r\nQ 750 597 1062 519 \r\nQ 1375 441 1716 441 \r\nQ 2309 441 2620 675 \r\nQ 2931 909 2931 1356 \r\nQ 2931 1769 2642 2001 \r\nQ 2353 2234 1838 2234 \r\nL 1294 2234 \r\nL 1294 2753 \r\nL 1863 2753 \r\nQ 2328 2753 2575 2939 \r\nQ 2822 3125 2822 3475 \r\nQ 2822 3834 2567 4026 \r\nQ 2313 4219 1838 4219 \r\nQ 1578 4219 1281 4162 \r\nQ 984 4106 628 3988 \r\nL 628 4550 \r\nQ 988 4650 1302 4700 \r\nQ 1616 4750 1894 4750 \r\nQ 2613 4750 3031 4423 \r\nQ 3450 4097 3450 3541 \r\nQ 3450 3153 3228 2886 \r\nQ 3006 2619 2597 2516 \r\nz\r\n\" id=\"DejaVuSans-33\" transform=\"scale(0.015625)\"/>\r\n     </defs>\r\n     <use xlink:href=\"#DejaVuSans-31\"/>\r\n     <use x=\"63.623047\" xlink:href=\"#DejaVuSans-33\"/>\r\n     <use x=\"127.246094\" xlink:href=\"#DejaVuSans-2e\"/>\r\n     <use x=\"159.033203\" xlink:href=\"#DejaVuSans-31\"/>\r\n     <use x=\"222.65625\" xlink:href=\"#DejaVuSans-25\"/>\r\n    </g>\r\n   </g>\r\n   <g id=\"text_5\">\r\n    <!-- Romance -->\r\n    <g transform=\"translate(33.048541 90.193203)scale(0.1 -0.1)\">\r\n     <defs>\r\n      <path d=\"M 2841 2188 \r\nQ 3044 2119 3236 1894 \r\nQ 3428 1669 3622 1275 \r\nL 4263 0 \r\nL 3584 0 \r\nL 2988 1197 \r\nQ 2756 1666 2539 1819 \r\nQ 2322 1972 1947 1972 \r\nL 1259 1972 \r\nL 1259 0 \r\nL 628 0 \r\nL 628 4666 \r\nL 2053 4666 \r\nQ 2853 4666 3247 4331 \r\nQ 3641 3997 3641 3322 \r\nQ 3641 2881 3436 2590 \r\nQ 3231 2300 2841 2188 \r\nz\r\nM 1259 4147 \r\nL 1259 2491 \r\nL 2053 2491 \r\nQ 2509 2491 2742 2702 \r\nQ 2975 2913 2975 3322 \r\nQ 2975 3731 2742 3939 \r\nQ 2509 4147 2053 4147 \r\nL 1259 4147 \r\nz\r\n\" id=\"DejaVuSans-52\" transform=\"scale(0.015625)\"/>\r\n      <path d=\"M 3513 2113 \r\nL 3513 0 \r\nL 2938 0 \r\nL 2938 2094 \r\nQ 2938 2591 2744 2837 \r\nQ 2550 3084 2163 3084 \r\nQ 1697 3084 1428 2787 \r\nQ 1159 2491 1159 1978 \r\nL 1159 0 \r\nL 581 0 \r\nL 581 3500 \r\nL 1159 3500 \r\nL 1159 2956 \r\nQ 1366 3272 1645 3428 \r\nQ 1925 3584 2291 3584 \r\nQ 2894 3584 3203 3211 \r\nQ 3513 2838 3513 2113 \r\nz\r\n\" id=\"DejaVuSans-6e\" transform=\"scale(0.015625)\"/>\r\n      <path d=\"M 3122 3366 \r\nL 3122 2828 \r\nQ 2878 2963 2633 3030 \r\nQ 2388 3097 2138 3097 \r\nQ 1578 3097 1268 2742 \r\nQ 959 2388 959 1747 \r\nQ 959 1106 1268 751 \r\nQ 1578 397 2138 397 \r\nQ 2388 397 2633 464 \r\nQ 2878 531 3122 666 \r\nL 3122 134 \r\nQ 2881 22 2623 -34 \r\nQ 2366 -91 2075 -91 \r\nQ 1284 -91 818 406 \r\nQ 353 903 353 1747 \r\nQ 353 2603 823 3093 \r\nQ 1294 3584 2113 3584 \r\nQ 2378 3584 2631 3529 \r\nQ 2884 3475 3122 3366 \r\nz\r\n\" id=\"DejaVuSans-63\" transform=\"scale(0.015625)\"/>\r\n     </defs>\r\n     <use xlink:href=\"#DejaVuSans-52\"/>\r\n     <use x=\"64.982422\" xlink:href=\"#DejaVuSans-6f\"/>\r\n     <use x=\"126.164062\" xlink:href=\"#DejaVuSans-6d\"/>\r\n     <use x=\"223.576172\" xlink:href=\"#DejaVuSans-61\"/>\r\n     <use x=\"284.855469\" xlink:href=\"#DejaVuSans-6e\"/>\r\n     <use x=\"348.234375\" xlink:href=\"#DejaVuSans-63\"/>\r\n     <use x=\"403.214844\" xlink:href=\"#DejaVuSans-65\"/>\r\n    </g>\r\n   </g>\r\n   <g id=\"text_6\">\r\n    <!-- 9.3% -->\r\n    <g transform=\"translate(123.238634 144.457195)scale(0.1 -0.1)\">\r\n     <defs>\r\n      <path d=\"M 703 97 \r\nL 703 672 \r\nQ 941 559 1184 500 \r\nQ 1428 441 1663 441 \r\nQ 2288 441 2617 861 \r\nQ 2947 1281 2994 2138 \r\nQ 2813 1869 2534 1725 \r\nQ 2256 1581 1919 1581 \r\nQ 1219 1581 811 2004 \r\nQ 403 2428 403 3163 \r\nQ 403 3881 828 4315 \r\nQ 1253 4750 1959 4750 \r\nQ 2769 4750 3195 4129 \r\nQ 3622 3509 3622 2328 \r\nQ 3622 1225 3098 567 \r\nQ 2575 -91 1691 -91 \r\nQ 1453 -91 1209 -44 \r\nQ 966 3 703 97 \r\nz\r\nM 1959 2075 \r\nQ 2384 2075 2632 2365 \r\nQ 2881 2656 2881 3163 \r\nQ 2881 3666 2632 3958 \r\nQ 2384 4250 1959 4250 \r\nQ 1534 4250 1286 3958 \r\nQ 1038 3666 1038 3163 \r\nQ 1038 2656 1286 2365 \r\nQ 1534 2075 1959 2075 \r\nz\r\n\" id=\"DejaVuSans-39\" transform=\"scale(0.015625)\"/>\r\n     </defs>\r\n     <use xlink:href=\"#DejaVuSans-39\"/>\r\n     <use x=\"63.623047\" xlink:href=\"#DejaVuSans-2e\"/>\r\n     <use x=\"95.410156\" xlink:href=\"#DejaVuSans-33\"/>\r\n     <use x=\"159.033203\" xlink:href=\"#DejaVuSans-25\"/>\r\n    </g>\r\n   </g>\r\n   <g id=\"text_7\">\r\n    <!-- Thriller -->\r\n    <g transform=\"translate(7.2 160.925768)scale(0.1 -0.1)\">\r\n     <defs>\r\n      <path d=\"M -19 4666 \r\nL 3928 4666 \r\nL 3928 4134 \r\nL 2272 4134 \r\nL 2272 0 \r\nL 1638 0 \r\nL 1638 4134 \r\nL -19 4134 \r\nL -19 4666 \r\nz\r\n\" id=\"DejaVuSans-54\" transform=\"scale(0.015625)\"/>\r\n      <path d=\"M 3513 2113 \r\nL 3513 0 \r\nL 2938 0 \r\nL 2938 2094 \r\nQ 2938 2591 2744 2837 \r\nQ 2550 3084 2163 3084 \r\nQ 1697 3084 1428 2787 \r\nQ 1159 2491 1159 1978 \r\nL 1159 0 \r\nL 581 0 \r\nL 581 4863 \r\nL 1159 4863 \r\nL 1159 2956 \r\nQ 1366 3272 1645 3428 \r\nQ 1925 3584 2291 3584 \r\nQ 2894 3584 3203 3211 \r\nQ 3513 2838 3513 2113 \r\nz\r\n\" id=\"DejaVuSans-68\" transform=\"scale(0.015625)\"/>\r\n      <path d=\"M 603 3500 \r\nL 1178 3500 \r\nL 1178 0 \r\nL 603 0 \r\nL 603 3500 \r\nz\r\nM 603 4863 \r\nL 1178 4863 \r\nL 1178 4134 \r\nL 603 4134 \r\nL 603 4863 \r\nz\r\n\" id=\"DejaVuSans-69\" transform=\"scale(0.015625)\"/>\r\n      <path d=\"M 603 4863 \r\nL 1178 4863 \r\nL 1178 0 \r\nL 603 0 \r\nL 603 4863 \r\nz\r\n\" id=\"DejaVuSans-6c\" transform=\"scale(0.015625)\"/>\r\n     </defs>\r\n     <use xlink:href=\"#DejaVuSans-54\"/>\r\n     <use x=\"61.083984\" xlink:href=\"#DejaVuSans-68\"/>\r\n     <use x=\"124.462891\" xlink:href=\"#DejaVuSans-72\"/>\r\n     <use x=\"165.576172\" xlink:href=\"#DejaVuSans-69\"/>\r\n     <use x=\"193.359375\" xlink:href=\"#DejaVuSans-6c\"/>\r\n     <use x=\"221.142578\" xlink:href=\"#DejaVuSans-6c\"/>\r\n     <use x=\"248.925781\" xlink:href=\"#DejaVuSans-65\"/>\r\n     <use x=\"310.449219\" xlink:href=\"#DejaVuSans-72\"/>\r\n    </g>\r\n   </g>\r\n   <g id=\"text_8\">\r\n    <!-- 8.6% -->\r\n    <g transform=\"translate(106.3437 176.60836)scale(0.1 -0.1)\">\r\n     <defs>\r\n      <path d=\"M 2034 2216 \r\nQ 1584 2216 1326 1975 \r\nQ 1069 1734 1069 1313 \r\nQ 1069 891 1326 650 \r\nQ 1584 409 2034 409 \r\nQ 2484 409 2743 651 \r\nQ 3003 894 3003 1313 \r\nQ 3003 1734 2745 1975 \r\nQ 2488 2216 2034 2216 \r\nz\r\nM 1403 2484 \r\nQ 997 2584 770 2862 \r\nQ 544 3141 544 3541 \r\nQ 544 4100 942 4425 \r\nQ 1341 4750 2034 4750 \r\nQ 2731 4750 3128 4425 \r\nQ 3525 4100 3525 3541 \r\nQ 3525 3141 3298 2862 \r\nQ 3072 2584 2669 2484 \r\nQ 3125 2378 3379 2068 \r\nQ 3634 1759 3634 1313 \r\nQ 3634 634 3220 271 \r\nQ 2806 -91 2034 -91 \r\nQ 1263 -91 848 271 \r\nQ 434 634 434 1313 \r\nQ 434 1759 690 2068 \r\nQ 947 2378 1403 2484 \r\nz\r\nM 1172 3481 \r\nQ 1172 3119 1398 2916 \r\nQ 1625 2713 2034 2713 \r\nQ 2441 2713 2670 2916 \r\nQ 2900 3119 2900 3481 \r\nQ 2900 3844 2670 4047 \r\nQ 2441 4250 2034 4250 \r\nQ 1625 4250 1398 4047 \r\nQ 1172 3844 1172 3481 \r\nz\r\n\" id=\"DejaVuSans-38\" transform=\"scale(0.015625)\"/>\r\n      <path d=\"M 2113 2584 \r\nQ 1688 2584 1439 2293 \r\nQ 1191 2003 1191 1497 \r\nQ 1191 994 1439 701 \r\nQ 1688 409 2113 409 \r\nQ 2538 409 2786 701 \r\nQ 3034 994 3034 1497 \r\nQ 3034 2003 2786 2293 \r\nQ 2538 2584 2113 2584 \r\nz\r\nM 3366 4563 \r\nL 3366 3988 \r\nQ 3128 4100 2886 4159 \r\nQ 2644 4219 2406 4219 \r\nQ 1781 4219 1451 3797 \r\nQ 1122 3375 1075 2522 \r\nQ 1259 2794 1537 2939 \r\nQ 1816 3084 2150 3084 \r\nQ 2853 3084 3261 2657 \r\nQ 3669 2231 3669 1497 \r\nQ 3669 778 3244 343 \r\nQ 2819 -91 2113 -91 \r\nQ 1303 -91 875 529 \r\nQ 447 1150 447 2328 \r\nQ 447 3434 972 4092 \r\nQ 1497 4750 2381 4750 \r\nQ 2619 4750 2861 4703 \r\nQ 3103 4656 3366 4563 \r\nz\r\n\" id=\"DejaVuSans-36\" transform=\"scale(0.015625)\"/>\r\n     </defs>\r\n     <use xlink:href=\"#DejaVuSans-38\"/>\r\n     <use x=\"63.623047\" xlink:href=\"#DejaVuSans-2e\"/>\r\n     <use x=\"95.410156\" xlink:href=\"#DejaVuSans-36\"/>\r\n     <use x=\"159.033203\" xlink:href=\"#DejaVuSans-25\"/>\r\n    </g>\r\n   </g>\r\n   <g id=\"text_9\">\r\n    <!-- Crime -->\r\n    <g transform=\"translate(14.998671 228.386667)scale(0.1 -0.1)\">\r\n     <use xlink:href=\"#DejaVuSans-43\"/>\r\n     <use x=\"69.824219\" xlink:href=\"#DejaVuSans-72\"/>\r\n     <use x=\"110.9375\" xlink:href=\"#DejaVuSans-69\"/>\r\n     <use x=\"138.720703\" xlink:href=\"#DejaVuSans-6d\"/>\r\n     <use x=\"236.132812\" xlink:href=\"#DejaVuSans-65\"/>\r\n    </g>\r\n   </g>\r\n   <g id=\"text_10\">\r\n    <!-- 6.5% -->\r\n    <g transform=\"translate(107.438977 207.272406)scale(0.1 -0.1)\">\r\n     <defs>\r\n      <path d=\"M 691 4666 \r\nL 3169 4666 \r\nL 3169 4134 \r\nL 1269 4134 \r\nL 1269 2991 \r\nQ 1406 3038 1543 3061 \r\nQ 1681 3084 1819 3084 \r\nQ 2600 3084 3056 2656 \r\nQ 3513 2228 3513 1497 \r\nQ 3513 744 3044 326 \r\nQ 2575 -91 1722 -91 \r\nQ 1428 -91 1123 -41 \r\nQ 819 9 494 109 \r\nL 494 744 \r\nQ 775 591 1075 516 \r\nQ 1375 441 1709 441 \r\nQ 2250 441 2565 725 \r\nQ 2881 1009 2881 1497 \r\nQ 2881 1984 2565 2268 \r\nQ 2250 2553 1709 2553 \r\nQ 1456 2553 1204 2497 \r\nQ 953 2441 691 2322 \r\nL 691 4666 \r\nz\r\n\" id=\"DejaVuSans-35\" transform=\"scale(0.015625)\"/>\r\n     </defs>\r\n     <use xlink:href=\"#DejaVuSans-36\"/>\r\n     <use x=\"63.623047\" xlink:href=\"#DejaVuSans-2e\"/>\r\n     <use x=\"95.410156\" xlink:href=\"#DejaVuSans-35\"/>\r\n     <use x=\"159.033203\" xlink:href=\"#DejaVuSans-25\"/>\r\n    </g>\r\n   </g>\r\n   <g id=\"text_11\">\r\n    <!-- Action -->\r\n    <g transform=\"translate(39.995783 279.852171)scale(0.1 -0.1)\">\r\n     <defs>\r\n      <path d=\"M 2188 4044 \r\nL 1331 1722 \r\nL 3047 1722 \r\nL 2188 4044 \r\nz\r\nM 1831 4666 \r\nL 2547 4666 \r\nL 4325 0 \r\nL 3669 0 \r\nL 3244 1197 \r\nL 1141 1197 \r\nL 716 0 \r\nL 50 0 \r\nL 1831 4666 \r\nz\r\n\" id=\"DejaVuSans-41\" transform=\"scale(0.015625)\"/>\r\n      <path d=\"M 1172 4494 \r\nL 1172 3500 \r\nL 2356 3500 \r\nL 2356 3053 \r\nL 1172 3053 \r\nL 1172 1153 \r\nQ 1172 725 1289 603 \r\nQ 1406 481 1766 481 \r\nL 2356 481 \r\nL 2356 0 \r\nL 1766 0 \r\nQ 1100 0 847 248 \r\nQ 594 497 594 1153 \r\nL 594 3053 \r\nL 172 3053 \r\nL 172 3500 \r\nL 594 3500 \r\nL 594 4494 \r\nL 1172 4494 \r\nz\r\n\" id=\"DejaVuSans-74\" transform=\"scale(0.015625)\"/>\r\n     </defs>\r\n     <use xlink:href=\"#DejaVuSans-41\"/>\r\n     <use x=\"66.658203\" xlink:href=\"#DejaVuSans-63\"/>\r\n     <use x=\"121.638672\" xlink:href=\"#DejaVuSans-74\"/>\r\n     <use x=\"160.847656\" xlink:href=\"#DejaVuSans-69\"/>\r\n     <use x=\"188.630859\" xlink:href=\"#DejaVuSans-6f\"/>\r\n     <use x=\"249.8125\" xlink:href=\"#DejaVuSans-6e\"/>\r\n    </g>\r\n   </g>\r\n   <g id=\"text_12\">\r\n    <!-- 6.5% -->\r\n    <g transform=\"translate(119.507267 230.665816)scale(0.1 -0.1)\">\r\n     <use xlink:href=\"#DejaVuSans-36\"/>\r\n     <use x=\"63.623047\" xlink:href=\"#DejaVuSans-2e\"/>\r\n     <use x=\"95.410156\" xlink:href=\"#DejaVuSans-35\"/>\r\n     <use x=\"159.033203\" xlink:href=\"#DejaVuSans-25\"/>\r\n    </g>\r\n   </g>\r\n   <g id=\"text_13\">\r\n    <!-- Adventure -->\r\n    <g transform=\"translate(57.247861 312.645107)scale(0.1 -0.1)\">\r\n     <defs>\r\n      <path d=\"M 191 3500 \r\nL 800 3500 \r\nL 1894 563 \r\nL 2988 3500 \r\nL 3597 3500 \r\nL 2284 0 \r\nL 1503 0 \r\nL 191 3500 \r\nz\r\n\" id=\"DejaVuSans-76\" transform=\"scale(0.015625)\"/>\r\n      <path d=\"M 544 1381 \r\nL 544 3500 \r\nL 1119 3500 \r\nL 1119 1403 \r\nQ 1119 906 1312 657 \r\nQ 1506 409 1894 409 \r\nQ 2359 409 2629 706 \r\nQ 2900 1003 2900 1516 \r\nL 2900 3500 \r\nL 3475 3500 \r\nL 3475 0 \r\nL 2900 0 \r\nL 2900 538 \r\nQ 2691 219 2414 64 \r\nQ 2138 -91 1772 -91 \r\nQ 1169 -91 856 284 \r\nQ 544 659 544 1381 \r\nz\r\nM 1991 3584 \r\nL 1991 3584 \r\nz\r\n\" id=\"DejaVuSans-75\" transform=\"scale(0.015625)\"/>\r\n     </defs>\r\n     <use xlink:href=\"#DejaVuSans-41\"/>\r\n     <use x=\"66.658203\" xlink:href=\"#DejaVuSans-64\"/>\r\n     <use x=\"130.134766\" xlink:href=\"#DejaVuSans-76\"/>\r\n     <use x=\"189.314453\" xlink:href=\"#DejaVuSans-65\"/>\r\n     <use x=\"250.837891\" xlink:href=\"#DejaVuSans-6e\"/>\r\n     <use x=\"314.216797\" xlink:href=\"#DejaVuSans-74\"/>\r\n     <use x=\"353.425781\" xlink:href=\"#DejaVuSans-75\"/>\r\n     <use x=\"416.804688\" xlink:href=\"#DejaVuSans-72\"/>\r\n     <use x=\"455.667969\" xlink:href=\"#DejaVuSans-65\"/>\r\n    </g>\r\n   </g>\r\n   <g id=\"text_14\">\r\n    <!-- 4.7% -->\r\n    <g transform=\"translate(136.622558 245.571696)scale(0.1 -0.1)\">\r\n     <defs>\r\n      <path d=\"M 2419 4116 \r\nL 825 1625 \r\nL 2419 1625 \r\nL 2419 4116 \r\nz\r\nM 2253 4666 \r\nL 3047 4666 \r\nL 3047 1625 \r\nL 3713 1625 \r\nL 3713 1100 \r\nL 3047 1100 \r\nL 3047 0 \r\nL 2419 0 \r\nL 2419 1100 \r\nL 313 1100 \r\nL 313 1709 \r\nL 2253 4666 \r\nz\r\n\" id=\"DejaVuSans-34\" transform=\"scale(0.015625)\"/>\r\n      <path d=\"M 525 4666 \r\nL 3525 4666 \r\nL 3525 4397 \r\nL 1831 0 \r\nL 1172 0 \r\nL 2766 4134 \r\nL 525 4134 \r\nL 525 4666 \r\nz\r\n\" id=\"DejaVuSans-37\" transform=\"scale(0.015625)\"/>\r\n     </defs>\r\n     <use xlink:href=\"#DejaVuSans-34\"/>\r\n     <use x=\"63.623047\" xlink:href=\"#DejaVuSans-2e\"/>\r\n     <use x=\"95.410156\" xlink:href=\"#DejaVuSans-37\"/>\r\n     <use x=\"159.033203\" xlink:href=\"#DejaVuSans-25\"/>\r\n    </g>\r\n   </g>\r\n   <g id=\"text_15\">\r\n    <!-- Horror -->\r\n    <g transform=\"translate(111.502302 327.569073)scale(0.1 -0.1)\">\r\n     <defs>\r\n      <path d=\"M 628 4666 \r\nL 1259 4666 \r\nL 1259 2753 \r\nL 3553 2753 \r\nL 3553 4666 \r\nL 4184 4666 \r\nL 4184 0 \r\nL 3553 0 \r\nL 3553 2222 \r\nL 1259 2222 \r\nL 1259 0 \r\nL 628 0 \r\nL 628 4666 \r\nz\r\n\" id=\"DejaVuSans-48\" transform=\"scale(0.015625)\"/>\r\n     </defs>\r\n     <use xlink:href=\"#DejaVuSans-48\"/>\r\n     <use x=\"75.195312\" xlink:href=\"#DejaVuSans-6f\"/>\r\n     <use x=\"136.376953\" xlink:href=\"#DejaVuSans-72\"/>\r\n     <use x=\"175.740234\" xlink:href=\"#DejaVuSans-72\"/>\r\n     <use x=\"214.603516\" xlink:href=\"#DejaVuSans-6f\"/>\r\n     <use x=\"275.785156\" xlink:href=\"#DejaVuSans-72\"/>\r\n    </g>\r\n   </g>\r\n   <g id=\"text_16\">\r\n    <!-- 3.6% -->\r\n    <g transform=\"translate(152.179264 252.355317)scale(0.1 -0.1)\">\r\n     <use xlink:href=\"#DejaVuSans-33\"/>\r\n     <use x=\"63.623047\" xlink:href=\"#DejaVuSans-2e\"/>\r\n     <use x=\"95.410156\" xlink:href=\"#DejaVuSans-36\"/>\r\n     <use x=\"159.033203\" xlink:href=\"#DejaVuSans-25\"/>\r\n    </g>\r\n   </g>\r\n   <g id=\"text_17\">\r\n    <!-- Sci-Fi -->\r\n    <g transform=\"translate(148.470812 332.938766)scale(0.1 -0.1)\">\r\n     <defs>\r\n      <path d=\"M 3425 4513 \r\nL 3425 3897 \r\nQ 3066 4069 2747 4153 \r\nQ 2428 4238 2131 4238 \r\nQ 1616 4238 1336 4038 \r\nQ 1056 3838 1056 3469 \r\nQ 1056 3159 1242 3001 \r\nQ 1428 2844 1947 2747 \r\nL 2328 2669 \r\nQ 3034 2534 3370 2195 \r\nQ 3706 1856 3706 1288 \r\nQ 3706 609 3251 259 \r\nQ 2797 -91 1919 -91 \r\nQ 1588 -91 1214 -16 \r\nQ 841 59 441 206 \r\nL 441 856 \r\nQ 825 641 1194 531 \r\nQ 1563 422 1919 422 \r\nQ 2459 422 2753 634 \r\nQ 3047 847 3047 1241 \r\nQ 3047 1584 2836 1778 \r\nQ 2625 1972 2144 2069 \r\nL 1759 2144 \r\nQ 1053 2284 737 2584 \r\nQ 422 2884 422 3419 \r\nQ 422 4038 858 4394 \r\nQ 1294 4750 2059 4750 \r\nQ 2388 4750 2728 4690 \r\nQ 3069 4631 3425 4513 \r\nz\r\n\" id=\"DejaVuSans-53\" transform=\"scale(0.015625)\"/>\r\n      <path d=\"M 313 2009 \r\nL 1997 2009 \r\nL 1997 1497 \r\nL 313 1497 \r\nL 313 2009 \r\nz\r\n\" id=\"DejaVuSans-2d\" transform=\"scale(0.015625)\"/>\r\n      <path d=\"M 628 4666 \r\nL 3309 4666 \r\nL 3309 4134 \r\nL 1259 4134 \r\nL 1259 2759 \r\nL 3109 2759 \r\nL 3109 2228 \r\nL 1259 2228 \r\nL 1259 0 \r\nL 628 0 \r\nL 628 4666 \r\nz\r\n\" id=\"DejaVuSans-46\" transform=\"scale(0.015625)\"/>\r\n     </defs>\r\n     <use xlink:href=\"#DejaVuSans-53\"/>\r\n     <use x=\"63.476562\" xlink:href=\"#DejaVuSans-63\"/>\r\n     <use x=\"118.457031\" xlink:href=\"#DejaVuSans-69\"/>\r\n     <use x=\"146.240234\" xlink:href=\"#DejaVuSans-2d\"/>\r\n     <use x=\"182.324219\" xlink:href=\"#DejaVuSans-46\"/>\r\n     <use x=\"232.59375\" xlink:href=\"#DejaVuSans-69\"/>\r\n    </g>\r\n   </g>\r\n   <g id=\"text_18\">\r\n    <!-- 3.4% -->\r\n    <g transform=\"translate(166.41353 254.796087)scale(0.1 -0.1)\">\r\n     <use xlink:href=\"#DejaVuSans-33\"/>\r\n     <use x=\"63.623047\" xlink:href=\"#DejaVuSans-2e\"/>\r\n     <use x=\"95.410156\" xlink:href=\"#DejaVuSans-34\"/>\r\n     <use x=\"159.033203\" xlink:href=\"#DejaVuSans-25\"/>\r\n    </g>\r\n   </g>\r\n   <g id=\"text_19\">\r\n    <!-- Others -->\r\n    <g transform=\"translate(286.887077 288.63912)scale(0.1 -0.1)\">\r\n     <defs>\r\n      <path d=\"M 2522 4238 \r\nQ 1834 4238 1429 3725 \r\nQ 1025 3213 1025 2328 \r\nQ 1025 1447 1429 934 \r\nQ 1834 422 2522 422 \r\nQ 3209 422 3611 934 \r\nQ 4013 1447 4013 2328 \r\nQ 4013 3213 3611 3725 \r\nQ 3209 4238 2522 4238 \r\nz\r\nM 2522 4750 \r\nQ 3503 4750 4090 4092 \r\nQ 4678 3434 4678 2328 \r\nQ 4678 1225 4090 567 \r\nQ 3503 -91 2522 -91 \r\nQ 1538 -91 948 565 \r\nQ 359 1222 359 2328 \r\nQ 359 3434 948 4092 \r\nQ 1538 4750 2522 4750 \r\nz\r\n\" id=\"DejaVuSans-4f\" transform=\"scale(0.015625)\"/>\r\n      <path d=\"M 2834 3397 \r\nL 2834 2853 \r\nQ 2591 2978 2328 3040 \r\nQ 2066 3103 1784 3103 \r\nQ 1356 3103 1142 2972 \r\nQ 928 2841 928 2578 \r\nQ 928 2378 1081 2264 \r\nQ 1234 2150 1697 2047 \r\nL 1894 2003 \r\nQ 2506 1872 2764 1633 \r\nQ 3022 1394 3022 966 \r\nQ 3022 478 2636 193 \r\nQ 2250 -91 1575 -91 \r\nQ 1294 -91 989 -36 \r\nQ 684 19 347 128 \r\nL 347 722 \r\nQ 666 556 975 473 \r\nQ 1284 391 1588 391 \r\nQ 1994 391 2212 530 \r\nQ 2431 669 2431 922 \r\nQ 2431 1156 2273 1281 \r\nQ 2116 1406 1581 1522 \r\nL 1381 1569 \r\nQ 847 1681 609 1914 \r\nQ 372 2147 372 2553 \r\nQ 372 3047 722 3315 \r\nQ 1072 3584 1716 3584 \r\nQ 2034 3584 2315 3537 \r\nQ 2597 3491 2834 3397 \r\nz\r\n\" id=\"DejaVuSans-73\" transform=\"scale(0.015625)\"/>\r\n     </defs>\r\n     <use xlink:href=\"#DejaVuSans-4f\"/>\r\n     <use x=\"78.710938\" xlink:href=\"#DejaVuSans-74\"/>\r\n     <use x=\"117.919922\" xlink:href=\"#DejaVuSans-68\"/>\r\n     <use x=\"181.298828\" xlink:href=\"#DejaVuSans-65\"/>\r\n     <use x=\"242.822266\" xlink:href=\"#DejaVuSans-72\"/>\r\n     <use x=\"283.935547\" xlink:href=\"#DejaVuSans-73\"/>\r\n    </g>\r\n   </g>\r\n   <g id=\"text_20\">\r\n    <!-- 24.2% -->\r\n    <g transform=\"translate(214.313536 234.659884)scale(0.1 -0.1)\">\r\n     <use xlink:href=\"#DejaVuSans-32\"/>\r\n     <use x=\"63.623047\" xlink:href=\"#DejaVuSans-34\"/>\r\n     <use x=\"127.246094\" xlink:href=\"#DejaVuSans-2e\"/>\r\n     <use x=\"159.033203\" xlink:href=\"#DejaVuSans-32\"/>\r\n     <use x=\"222.65625\" xlink:href=\"#DejaVuSans-25\"/>\r\n    </g>\r\n   </g>\r\n   <g id=\"text_21\">\r\n    <!-- Titles by Genre -->\r\n    <g transform=\"translate(130.080352 17.837812)scale(0.14 -0.14)\">\r\n     <defs>\r\n      <path id=\"DejaVuSans-20\" transform=\"scale(0.015625)\"/>\r\n      <path d=\"M 3116 1747 \r\nQ 3116 2381 2855 2742 \r\nQ 2594 3103 2138 3103 \r\nQ 1681 3103 1420 2742 \r\nQ 1159 2381 1159 1747 \r\nQ 1159 1113 1420 752 \r\nQ 1681 391 2138 391 \r\nQ 2594 391 2855 752 \r\nQ 3116 1113 3116 1747 \r\nz\r\nM 1159 2969 \r\nQ 1341 3281 1617 3432 \r\nQ 1894 3584 2278 3584 \r\nQ 2916 3584 3314 3078 \r\nQ 3713 2572 3713 1747 \r\nQ 3713 922 3314 415 \r\nQ 2916 -91 2278 -91 \r\nQ 1894 -91 1617 61 \r\nQ 1341 213 1159 525 \r\nL 1159 0 \r\nL 581 0 \r\nL 581 4863 \r\nL 1159 4863 \r\nL 1159 2969 \r\nz\r\n\" id=\"DejaVuSans-62\" transform=\"scale(0.015625)\"/>\r\n      <path d=\"M 3809 666 \r\nL 3809 1919 \r\nL 2778 1919 \r\nL 2778 2438 \r\nL 4434 2438 \r\nL 4434 434 \r\nQ 4069 175 3628 42 \r\nQ 3188 -91 2688 -91 \r\nQ 1594 -91 976 548 \r\nQ 359 1188 359 2328 \r\nQ 359 3472 976 4111 \r\nQ 1594 4750 2688 4750 \r\nQ 3144 4750 3555 4637 \r\nQ 3966 4525 4313 4306 \r\nL 4313 3634 \r\nQ 3963 3931 3569 4081 \r\nQ 3175 4231 2741 4231 \r\nQ 1884 4231 1454 3753 \r\nQ 1025 3275 1025 2328 \r\nQ 1025 1384 1454 906 \r\nQ 1884 428 2741 428 \r\nQ 3075 428 3337 486 \r\nQ 3600 544 3809 666 \r\nz\r\n\" id=\"DejaVuSans-47\" transform=\"scale(0.015625)\"/>\r\n     </defs>\r\n     <use xlink:href=\"#DejaVuSans-54\"/>\r\n     <use x=\"57.958984\" xlink:href=\"#DejaVuSans-69\"/>\r\n     <use x=\"85.742188\" xlink:href=\"#DejaVuSans-74\"/>\r\n     <use x=\"124.951172\" xlink:href=\"#DejaVuSans-6c\"/>\r\n     <use x=\"152.734375\" xlink:href=\"#DejaVuSans-65\"/>\r\n     <use x=\"214.257812\" xlink:href=\"#DejaVuSans-73\"/>\r\n     <use x=\"266.357422\" xlink:href=\"#DejaVuSans-20\"/>\r\n     <use x=\"298.144531\" xlink:href=\"#DejaVuSans-62\"/>\r\n     <use x=\"361.621094\" xlink:href=\"#DejaVuSans-79\"/>\r\n     <use x=\"420.800781\" xlink:href=\"#DejaVuSans-20\"/>\r\n     <use x=\"452.587891\" xlink:href=\"#DejaVuSans-47\"/>\r\n     <use x=\"530.078125\" xlink:href=\"#DejaVuSans-65\"/>\r\n     <use x=\"591.601562\" xlink:href=\"#DejaVuSans-6e\"/>\r\n     <use x=\"654.980469\" xlink:href=\"#DejaVuSans-72\"/>\r\n     <use x=\"693.84375\" xlink:href=\"#DejaVuSans-65\"/>\r\n    </g>\r\n   </g>\r\n  </g>\r\n </g>\r\n</svg>\r\n",
      "image/png": "[encoded data removed]"
     },
     "metadata": {}
    }
   ],
   "source": [
    "viz.plot_genre_pie(save=reports)"
   ]
  },
  {
   "source": [
    "A density plot for each rating(Netflix, IMDb, Metascore) and a line plot for each rating based\n",
    "on the title’s decade. Options were included to select all data or a certain genre."
   ],
   "cell_type": "markdown",
   "metadata": {}
  },
  {
   "cell_type": "code",
   "execution_count": 4,
   "metadata": {},
   "outputs": [
    {
     "output_type": "display_data",
     "data": {
      "text/plain": "<Figure size 432x288 with 1 Axes>",
      "image/svg+xml": "<?xml version=\"1.0\" encoding=\"utf-8\" standalone=\"no\"?>\r\n<!DOCTYPE svg PUBLIC \"-//W3C//DTD SVG 1.1//EN\"\r\n  \"http://www.w3.org/Graphics/SVG/1.1/DTD/svg11.dtd\">\r\n<svg height=\"277.5925pt\" version=\"1.1\" viewBox=\"0 0 388.965625 277.5925\" width=\"388.965625pt\" xmlns=\"http://www.w3.org/2000/svg\" xmlns:xlink=\"http://www.w3.org/1999/xlink\">\r\n <metadata>\r\n  <rdf:RDF xmlns:cc=\"http://creativecommons.org/ns#\" xmlns:dc=\"http://purl.org/dc/elements/1.1/\" xmlns:rdf=\"http://www.w3.org/1999/02/22-rdf-syntax-ns#\">\r\n   <cc:Work>\r\n    <dc:type rdf:resource=\"http://purl.org/dc/dcmitype/StillImage\"/>\r\n    <dc:date>2021-06-01T21:43:25.945166</dc:date>\r\n    <dc:format>image/svg+xml</dc:format>\r\n    <dc:creator>\r\n     <cc:Agent>\r\n      <dc:title>Matplotlib v3.4.1, https://matplotlib.org/</dc:title>\r\n     </cc:Agent>\r\n    </dc:creator>\r\n   </cc:Work>\r\n  </rdf:RDF>\r\n </metadata>\r\n <defs>\r\n  <style type=\"text/css\">*{stroke-linecap:butt;stroke-linejoin:round;}</style>\r\n </defs>\r\n <g id=\"figure_1\">\r\n  <g id=\"patch_1\">\r\n   <path d=\"M 0 277.5925 \r\nL 388.965625 277.5925 \r\nL 388.965625 0 \r\nL 0 0 \r\nz\r\n\" style=\"fill:none;\"/>\r\n  </g>\r\n  <g id=\"axes_1\">\r\n   <g id=\"patch_2\">\r\n    <path d=\"M 46.965625 239.758125 \r\nL 381.765625 239.758125 \r\nL 381.765625 22.318125 \r\nL 46.965625 22.318125 \r\nz\r\n\" style=\"fill:#ffffff;\"/>\r\n   </g>\r\n   <g id=\"patch_3\">\r\n    <path clip-path=\"url(#p4886164590)\" d=\"M 62.183807 239.758125 \r\nL 68.151721 239.758125 \r\nL 68.151721 239.268561 \r\nL 62.183807 239.268561 \r\nz\r\n\" style=\"fill:#1f77b4;fill-opacity:0.5;stroke:#000000;stroke-linejoin:miter;stroke-width:0.596791;\"/>\r\n   </g>\r\n   <g id=\"patch_4\">\r\n    <path clip-path=\"url(#p4886164590)\" d=\"M 68.151721 239.758125 \r\nL 74.119636 239.758125 \r\nL 74.119636 238.778996 \r\nL 68.151721 238.778996 \r\nz\r\n\" style=\"fill:#1f77b4;fill-opacity:0.5;stroke:#000000;stroke-linejoin:miter;stroke-width:0.596791;\"/>\r\n   </g>\r\n   <g id=\"patch_5\">\r\n    <path clip-path=\"url(#p4886164590)\" d=\"M 74.119636 239.758125 \r\nL 80.08755 239.758125 \r\nL 80.08755 239.758125 \r\nL 74.119636 239.758125 \r\nz\r\n\" style=\"fill:#1f77b4;fill-opacity:0.5;stroke:#000000;stroke-linejoin:miter;stroke-width:0.596791;\"/>\r\n   </g>\r\n   <g id=\"patch_6\">\r\n    <path clip-path=\"url(#p4886164590)\" d=\"M 80.08755 239.758125 \r\nL 86.055465 239.758125 \r\nL 86.055465 236.820739 \r\nL 80.08755 236.820739 \r\nz\r\n\" style=\"fill:#1f77b4;fill-opacity:0.5;stroke:#000000;stroke-linejoin:miter;stroke-width:0.596791;\"/>\r\n   </g>\r\n   <g id=\"patch_7\">\r\n    <path clip-path=\"url(#p4886164590)\" d=\"M 86.055465 239.758125 \r\nL 92.023379 239.758125 \r\nL 92.023379 238.778996 \r\nL 86.055465 238.778996 \r\nz\r\n\" style=\"fill:#1f77b4;fill-opacity:0.5;stroke:#000000;stroke-linejoin:miter;stroke-width:0.596791;\"/>\r\n   </g>\r\n   <g id=\"patch_8\">\r\n    <path clip-path=\"url(#p4886164590)\" d=\"M 92.023379 239.758125 \r\nL 97.991293 239.758125 \r\nL 97.991293 234.862482 \r\nL 92.023379 234.862482 \r\nz\r\n\" style=\"fill:#1f77b4;fill-opacity:0.5;stroke:#000000;stroke-linejoin:miter;stroke-width:0.596791;\"/>\r\n   </g>\r\n   <g id=\"patch_9\">\r\n    <path clip-path=\"url(#p4886164590)\" d=\"M 97.991293 239.758125 \r\nL 103.959208 239.758125 \r\nL 103.959208 231.925096 \r\nL 97.991293 231.925096 \r\nz\r\n\" style=\"fill:#1f77b4;fill-opacity:0.5;stroke:#000000;stroke-linejoin:miter;stroke-width:0.596791;\"/>\r\n   </g>\r\n   <g id=\"patch_10\">\r\n    <path clip-path=\"url(#p4886164590)\" d=\"M 103.959208 239.758125 \r\nL 109.927122 239.758125 \r\nL 109.927122 228.98771 \r\nL 103.959208 228.98771 \r\nz\r\n\" style=\"fill:#1f77b4;fill-opacity:0.5;stroke:#000000;stroke-linejoin:miter;stroke-width:0.596791;\"/>\r\n   </g>\r\n   <g id=\"patch_11\">\r\n    <path clip-path=\"url(#p4886164590)\" d=\"M 109.927122 239.758125 \r\nL 115.895037 239.758125 \r\nL 115.895037 230.456403 \r\nL 109.927122 230.456403 \r\nz\r\n\" style=\"fill:#1f77b4;fill-opacity:0.5;stroke:#000000;stroke-linejoin:miter;stroke-width:0.596791;\"/>\r\n   </g>\r\n   <g id=\"patch_12\">\r\n    <path clip-path=\"url(#p4886164590)\" d=\"M 115.895037 239.758125 \r\nL 121.862951 239.758125 \r\nL 121.862951 227.519017 \r\nL 115.895037 227.519017 \r\nz\r\n\" style=\"fill:#1f77b4;fill-opacity:0.5;stroke:#000000;stroke-linejoin:miter;stroke-width:0.596791;\"/>\r\n   </g>\r\n   <g id=\"patch_13\">\r\n    <path clip-path=\"url(#p4886164590)\" d=\"M 121.862951 239.758125 \r\nL 127.830866 239.758125 \r\nL 127.830866 222.623373 \r\nL 121.862951 222.623373 \r\nz\r\n\" style=\"fill:#1f77b4;fill-opacity:0.5;stroke:#000000;stroke-linejoin:miter;stroke-width:0.596791;\"/>\r\n   </g>\r\n   <g id=\"patch_14\">\r\n    <path clip-path=\"url(#p4886164590)\" d=\"M 127.830866 239.758125 \r\nL 133.79878 239.758125 \r\nL 133.79878 220.665116 \r\nL 127.830866 220.665116 \r\nz\r\n\" style=\"fill:#1f77b4;fill-opacity:0.5;stroke:#000000;stroke-linejoin:miter;stroke-width:0.596791;\"/>\r\n   </g>\r\n   <g id=\"patch_15\">\r\n    <path clip-path=\"url(#p4886164590)\" d=\"M 133.79878 239.758125 \r\nL 139.766695 239.758125 \r\nL 139.766695 210.384265 \r\nL 133.79878 210.384265 \r\nz\r\n\" style=\"fill:#1f77b4;fill-opacity:0.5;stroke:#000000;stroke-linejoin:miter;stroke-width:0.596791;\"/>\r\n   </g>\r\n   <g id=\"patch_16\">\r\n    <path clip-path=\"url(#p4886164590)\" d=\"M 139.766695 239.758125 \r\nL 145.734609 239.758125 \r\nL 145.734609 215.769473 \r\nL 139.766695 215.769473 \r\nz\r\n\" style=\"fill:#1f77b4;fill-opacity:0.5;stroke:#000000;stroke-linejoin:miter;stroke-width:0.596791;\"/>\r\n   </g>\r\n   <g id=\"patch_17\">\r\n    <path clip-path=\"url(#p4886164590)\" d=\"M 145.734609 239.758125 \r\nL 151.702523 239.758125 \r\nL 151.702523 210.384265 \r\nL 145.734609 210.384265 \r\nz\r\n\" style=\"fill:#1f77b4;fill-opacity:0.5;stroke:#000000;stroke-linejoin:miter;stroke-width:0.596791;\"/>\r\n   </g>\r\n   <g id=\"patch_18\">\r\n    <path clip-path=\"url(#p4886164590)\" d=\"M 151.702523 239.758125 \r\nL 157.670438 239.758125 \r\nL 157.670438 213.321651 \r\nL 151.702523 213.321651 \r\nz\r\n\" style=\"fill:#1f77b4;fill-opacity:0.5;stroke:#000000;stroke-linejoin:miter;stroke-width:0.596791;\"/>\r\n   </g>\r\n   <g id=\"patch_19\">\r\n    <path clip-path=\"url(#p4886164590)\" d=\"M 157.670438 239.758125 \r\nL 163.638352 239.758125 \r\nL 163.638352 189.332998 \r\nL 157.670438 189.332998 \r\nz\r\n\" style=\"fill:#1f77b4;fill-opacity:0.5;stroke:#000000;stroke-linejoin:miter;stroke-width:0.596791;\"/>\r\n   </g>\r\n   <g id=\"patch_20\">\r\n    <path clip-path=\"url(#p4886164590)\" d=\"M 163.638352 239.758125 \r\nL 169.606267 239.758125 \r\nL 169.606267 188.843434 \r\nL 163.638352 188.843434 \r\nz\r\n\" style=\"fill:#1f77b4;fill-opacity:0.5;stroke:#000000;stroke-linejoin:miter;stroke-width:0.596791;\"/>\r\n   </g>\r\n   <g id=\"patch_21\">\r\n    <path clip-path=\"url(#p4886164590)\" d=\"M 169.606267 239.758125 \r\nL 175.574181 239.758125 \r\nL 175.574181 182.968662 \r\nL 169.606267 182.968662 \r\nz\r\n\" style=\"fill:#1f77b4;fill-opacity:0.5;stroke:#000000;stroke-linejoin:miter;stroke-width:0.596791;\"/>\r\n   </g>\r\n   <g id=\"patch_22\">\r\n    <path clip-path=\"url(#p4886164590)\" d=\"M 175.574181 239.758125 \r\nL 181.542096 239.758125 \r\nL 181.542096 177.09389 \r\nL 175.574181 177.09389 \r\nz\r\n\" style=\"fill:#1f77b4;fill-opacity:0.5;stroke:#000000;stroke-linejoin:miter;stroke-width:0.596791;\"/>\r\n   </g>\r\n   <g id=\"patch_23\">\r\n    <path clip-path=\"url(#p4886164590)\" d=\"M 181.542096 239.758125 \r\nL 187.51001 239.758125 \r\nL 187.51001 170.239989 \r\nL 181.542096 170.239989 \r\nz\r\n\" style=\"fill:#1f77b4;fill-opacity:0.5;stroke:#000000;stroke-linejoin:miter;stroke-width:0.596791;\"/>\r\n   </g>\r\n   <g id=\"patch_24\">\r\n    <path clip-path=\"url(#p4886164590)\" d=\"M 187.51001 239.758125 \r\nL 193.477924 239.758125 \r\nL 193.477924 152.615673 \r\nL 187.51001 152.615673 \r\nz\r\n\" style=\"fill:#1f77b4;fill-opacity:0.5;stroke:#000000;stroke-linejoin:miter;stroke-width:0.596791;\"/>\r\n   </g>\r\n   <g id=\"patch_25\">\r\n    <path clip-path=\"url(#p4886164590)\" d=\"M 193.477924 239.758125 \r\nL 199.445839 239.758125 \r\nL 199.445839 137.928743 \r\nL 193.477924 137.928743 \r\nz\r\n\" style=\"fill:#1f77b4;fill-opacity:0.5;stroke:#000000;stroke-linejoin:miter;stroke-width:0.596791;\"/>\r\n   </g>\r\n   <g id=\"patch_26\">\r\n    <path clip-path=\"url(#p4886164590)\" d=\"M 199.445839 239.758125 \r\nL 205.413753 239.758125 \r\nL 205.413753 119.325298 \r\nL 199.445839 119.325298 \r\nz\r\n\" style=\"fill:#1f77b4;fill-opacity:0.5;stroke:#000000;stroke-linejoin:miter;stroke-width:0.596791;\"/>\r\n   </g>\r\n   <g id=\"patch_27\">\r\n    <path clip-path=\"url(#p4886164590)\" d=\"M 205.413753 239.758125 \r\nL 211.381668 239.758125 \r\nL 211.381668 99.742725 \r\nL 205.413753 99.742725 \r\nz\r\n\" style=\"fill:#1f77b4;fill-opacity:0.5;stroke:#000000;stroke-linejoin:miter;stroke-width:0.596791;\"/>\r\n   </g>\r\n   <g id=\"patch_28\">\r\n    <path clip-path=\"url(#p4886164590)\" d=\"M 211.381668 239.758125 \r\nL 217.349582 239.758125 \r\nL 217.349582 74.285379 \r\nL 211.381668 74.285379 \r\nz\r\n\" style=\"fill:#1f77b4;fill-opacity:0.5;stroke:#000000;stroke-linejoin:miter;stroke-width:0.596791;\"/>\r\n   </g>\r\n   <g id=\"patch_29\">\r\n    <path clip-path=\"url(#p4886164590)\" d=\"M 217.349582 239.758125 \r\nL 223.317497 239.758125 \r\nL 223.317497 32.672411 \r\nL 217.349582 32.672411 \r\nz\r\n\" style=\"fill:#1f77b4;fill-opacity:0.5;stroke:#000000;stroke-linejoin:miter;stroke-width:0.596791;\"/>\r\n   </g>\r\n   <g id=\"patch_30\">\r\n    <path clip-path=\"url(#p4886164590)\" d=\"M 223.317497 239.758125 \r\nL 229.285411 239.758125 \r\nL 229.285411 32.672411 \r\nL 223.317497 32.672411 \r\nz\r\n\" style=\"fill:#1f77b4;fill-opacity:0.5;stroke:#000000;stroke-linejoin:miter;stroke-width:0.596791;\"/>\r\n   </g>\r\n   <g id=\"patch_31\">\r\n    <path clip-path=\"url(#p4886164590)\" d=\"M 229.285411 239.758125 \r\nL 235.253326 239.758125 \r\nL 235.253326 58.129756 \r\nL 229.285411 58.129756 \r\nz\r\n\" style=\"fill:#1f77b4;fill-opacity:0.5;stroke:#000000;stroke-linejoin:miter;stroke-width:0.596791;\"/>\r\n   </g>\r\n   <g id=\"patch_32\">\r\n    <path clip-path=\"url(#p4886164590)\" d=\"M 235.253326 239.758125 \r\nL 241.22124 239.758125 \r\nL 241.22124 39.526311 \r\nL 235.253326 39.526311 \r\nz\r\n\" style=\"fill:#1f77b4;fill-opacity:0.5;stroke:#000000;stroke-linejoin:miter;stroke-width:0.596791;\"/>\r\n   </g>\r\n   <g id=\"patch_33\">\r\n    <path clip-path=\"url(#p4886164590)\" d=\"M 241.22124 239.758125 \r\nL 247.189154 239.758125 \r\nL 247.189154 57.150628 \r\nL 241.22124 57.150628 \r\nz\r\n\" style=\"fill:#1f77b4;fill-opacity:0.5;stroke:#000000;stroke-linejoin:miter;stroke-width:0.596791;\"/>\r\n   </g>\r\n   <g id=\"patch_34\">\r\n    <path clip-path=\"url(#p4886164590)\" d=\"M 247.189154 239.758125 \r\nL 253.157069 239.758125 \r\nL 253.157069 50.786291 \r\nL 247.189154 50.786291 \r\nz\r\n\" style=\"fill:#1f77b4;fill-opacity:0.5;stroke:#000000;stroke-linejoin:miter;stroke-width:0.596791;\"/>\r\n   </g>\r\n   <g id=\"patch_35\">\r\n    <path clip-path=\"url(#p4886164590)\" d=\"M 253.157069 239.758125 \r\nL 259.124983 239.758125 \r\nL 259.124983 44.911519 \r\nL 253.157069 44.911519 \r\nz\r\n\" style=\"fill:#1f77b4;fill-opacity:0.5;stroke:#000000;stroke-linejoin:miter;stroke-width:0.596791;\"/>\r\n   </g>\r\n   <g id=\"patch_36\">\r\n    <path clip-path=\"url(#p4886164590)\" d=\"M 259.124983 239.758125 \r\nL 265.092898 239.758125 \r\nL 265.092898 32.672411 \r\nL 259.124983 32.672411 \r\nz\r\n\" style=\"fill:#1f77b4;fill-opacity:0.5;stroke:#000000;stroke-linejoin:miter;stroke-width:0.596791;\"/>\r\n   </g>\r\n   <g id=\"patch_37\">\r\n    <path clip-path=\"url(#p4886164590)\" d=\"M 265.092898 239.758125 \r\nL 271.060812 239.758125 \r\nL 271.060812 58.619321 \r\nL 265.092898 58.619321 \r\nz\r\n\" style=\"fill:#1f77b4;fill-opacity:0.5;stroke:#000000;stroke-linejoin:miter;stroke-width:0.596791;\"/>\r\n   </g>\r\n   <g id=\"patch_38\">\r\n    <path clip-path=\"url(#p4886164590)\" d=\"M 271.060812 239.758125 \r\nL 277.028727 239.758125 \r\nL 277.028727 35.609797 \r\nL 271.060812 35.609797 \r\nz\r\n\" style=\"fill:#1f77b4;fill-opacity:0.5;stroke:#000000;stroke-linejoin:miter;stroke-width:0.596791;\"/>\r\n   </g>\r\n   <g id=\"patch_39\">\r\n    <path clip-path=\"url(#p4886164590)\" d=\"M 277.028727 239.758125 \r\nL 282.996641 239.758125 \r\nL 282.996641 69.8793 \r\nL 277.028727 69.8793 \r\nz\r\n\" style=\"fill:#1f77b4;fill-opacity:0.5;stroke:#000000;stroke-linejoin:miter;stroke-width:0.596791;\"/>\r\n   </g>\r\n   <g id=\"patch_40\">\r\n    <path clip-path=\"url(#p4886164590)\" d=\"M 282.996641 239.758125 \r\nL 288.964555 239.758125 \r\nL 288.964555 79.181023 \r\nL 282.996641 79.181023 \r\nz\r\n\" style=\"fill:#1f77b4;fill-opacity:0.5;stroke:#000000;stroke-linejoin:miter;stroke-width:0.596791;\"/>\r\n   </g>\r\n   <g id=\"patch_41\">\r\n    <path clip-path=\"url(#p4886164590)\" d=\"M 288.964555 239.758125 \r\nL 294.93247 239.758125 \r\nL 294.93247 102.680111 \r\nL 288.964555 102.680111 \r\nz\r\n\" style=\"fill:#1f77b4;fill-opacity:0.5;stroke:#000000;stroke-linejoin:miter;stroke-width:0.596791;\"/>\r\n   </g>\r\n   <g id=\"patch_42\">\r\n    <path clip-path=\"url(#p4886164590)\" d=\"M 294.93247 239.758125 \r\nL 300.900384 239.758125 \r\nL 300.900384 118.34617 \r\nL 294.93247 118.34617 \r\nz\r\n\" style=\"fill:#1f77b4;fill-opacity:0.5;stroke:#000000;stroke-linejoin:miter;stroke-width:0.596791;\"/>\r\n   </g>\r\n   <g id=\"patch_43\">\r\n    <path clip-path=\"url(#p4886164590)\" d=\"M 300.900384 239.758125 \r\nL 306.868299 239.758125 \r\nL 306.868299 135.480921 \r\nL 300.900384 135.480921 \r\nz\r\n\" style=\"fill:#1f77b4;fill-opacity:0.5;stroke:#000000;stroke-linejoin:miter;stroke-width:0.596791;\"/>\r\n   </g>\r\n   <g id=\"patch_44\">\r\n    <path clip-path=\"url(#p4886164590)\" d=\"M 306.868299 239.758125 \r\nL 312.836213 239.758125 \r\nL 312.836213 175.625197 \r\nL 306.868299 175.625197 \r\nz\r\n\" style=\"fill:#1f77b4;fill-opacity:0.5;stroke:#000000;stroke-linejoin:miter;stroke-width:0.596791;\"/>\r\n   </g>\r\n   <g id=\"patch_45\">\r\n    <path clip-path=\"url(#p4886164590)\" d=\"M 312.836213 239.758125 \r\nL 318.804128 239.758125 \r\nL 318.804128 188.35387 \r\nL 312.836213 188.35387 \r\nz\r\n\" style=\"fill:#1f77b4;fill-opacity:0.5;stroke:#000000;stroke-linejoin:miter;stroke-width:0.596791;\"/>\r\n   </g>\r\n   <g id=\"patch_46\">\r\n    <path clip-path=\"url(#p4886164590)\" d=\"M 318.804128 239.758125 \r\nL 324.772042 239.758125 \r\nL 324.772042 211.852958 \r\nL 318.804128 211.852958 \r\nz\r\n\" style=\"fill:#1f77b4;fill-opacity:0.5;stroke:#000000;stroke-linejoin:miter;stroke-width:0.596791;\"/>\r\n   </g>\r\n   <g id=\"patch_47\">\r\n    <path clip-path=\"url(#p4886164590)\" d=\"M 324.772042 239.758125 \r\nL 330.739957 239.758125 \r\nL 330.739957 221.15468 \r\nL 324.772042 221.15468 \r\nz\r\n\" style=\"fill:#1f77b4;fill-opacity:0.5;stroke:#000000;stroke-linejoin:miter;stroke-width:0.596791;\"/>\r\n   </g>\r\n   <g id=\"patch_48\">\r\n    <path clip-path=\"url(#p4886164590)\" d=\"M 330.739957 239.758125 \r\nL 336.707871 239.758125 \r\nL 336.707871 225.560759 \r\nL 330.739957 225.560759 \r\nz\r\n\" style=\"fill:#1f77b4;fill-opacity:0.5;stroke:#000000;stroke-linejoin:miter;stroke-width:0.596791;\"/>\r\n   </g>\r\n   <g id=\"patch_49\">\r\n    <path clip-path=\"url(#p4886164590)\" d=\"M 336.707871 239.758125 \r\nL 342.675785 239.758125 \r\nL 342.675785 234.372917 \r\nL 336.707871 234.372917 \r\nz\r\n\" style=\"fill:#1f77b4;fill-opacity:0.5;stroke:#000000;stroke-linejoin:miter;stroke-width:0.596791;\"/>\r\n   </g>\r\n   <g id=\"patch_50\">\r\n    <path clip-path=\"url(#p4886164590)\" d=\"M 342.675785 239.758125 \r\nL 348.6437 239.758125 \r\nL 348.6437 232.904224 \r\nL 342.675785 232.904224 \r\nz\r\n\" style=\"fill:#1f77b4;fill-opacity:0.5;stroke:#000000;stroke-linejoin:miter;stroke-width:0.596791;\"/>\r\n   </g>\r\n   <g id=\"patch_51\">\r\n    <path clip-path=\"url(#p4886164590)\" d=\"M 348.6437 239.758125 \r\nL 354.611614 239.758125 \r\nL 354.611614 237.310303 \r\nL 348.6437 237.310303 \r\nz\r\n\" style=\"fill:#1f77b4;fill-opacity:0.5;stroke:#000000;stroke-linejoin:miter;stroke-width:0.596791;\"/>\r\n   </g>\r\n   <g id=\"patch_52\">\r\n    <path clip-path=\"url(#p4886164590)\" d=\"M 354.611614 239.758125 \r\nL 360.579529 239.758125 \r\nL 360.579529 238.289432 \r\nL 354.611614 238.289432 \r\nz\r\n\" style=\"fill:#1f77b4;fill-opacity:0.5;stroke:#000000;stroke-linejoin:miter;stroke-width:0.596791;\"/>\r\n   </g>\r\n   <g id=\"patch_53\">\r\n    <path clip-path=\"url(#p4886164590)\" d=\"M 360.579529 239.758125 \r\nL 366.547443 239.758125 \r\nL 366.547443 237.310303 \r\nL 360.579529 237.310303 \r\nz\r\n\" style=\"fill:#1f77b4;fill-opacity:0.5;stroke:#000000;stroke-linejoin:miter;stroke-width:0.596791;\"/>\r\n   </g>\r\n   <g id=\"matplotlib.axis_1\">\r\n    <g id=\"xtick_1\">\r\n     <g id=\"line2d_1\">\r\n      <defs>\r\n       <path d=\"M 0 0 \r\nL 0 3.5 \r\n\" id=\"mcf596fa575\" style=\"stroke:#000000;stroke-width:0.8;\"/>\r\n      </defs>\r\n      <g>\r\n       <use style=\"stroke:#000000;stroke-width:0.8;\" x=\"82.042711\" xlink:href=\"#mcf596fa575\" y=\"239.758125\"/>\r\n      </g>\r\n     </g>\r\n     <g id=\"text_1\">\r\n      <!-- 3 -->\r\n      <g transform=\"translate(78.861461 254.356563)scale(0.1 -0.1)\">\r\n       <defs>\r\n        <path d=\"M 2597 2516 \r\nQ 3050 2419 3304 2112 \r\nQ 3559 1806 3559 1356 \r\nQ 3559 666 3084 287 \r\nQ 2609 -91 1734 -91 \r\nQ 1441 -91 1130 -33 \r\nQ 819 25 488 141 \r\nL 488 750 \r\nQ 750 597 1062 519 \r\nQ 1375 441 1716 441 \r\nQ 2309 441 2620 675 \r\nQ 2931 909 2931 1356 \r\nQ 2931 1769 2642 2001 \r\nQ 2353 2234 1838 2234 \r\nL 1294 2234 \r\nL 1294 2753 \r\nL 1863 2753 \r\nQ 2328 2753 2575 2939 \r\nQ 2822 3125 2822 3475 \r\nQ 2822 3834 2567 4026 \r\nQ 2313 4219 1838 4219 \r\nQ 1578 4219 1281 4162 \r\nQ 984 4106 628 3988 \r\nL 628 4550 \r\nQ 988 4650 1302 4700 \r\nQ 1616 4750 1894 4750 \r\nQ 2613 4750 3031 4423 \r\nQ 3450 4097 3450 3541 \r\nQ 3450 3153 3228 2886 \r\nQ 3006 2619 2597 2516 \r\nz\r\n\" id=\"DejaVuSans-33\" transform=\"scale(0.015625)\"/>\r\n       </defs>\r\n       <use xlink:href=\"#DejaVuSans-33\"/>\r\n      </g>\r\n     </g>\r\n    </g>\r\n    <g id=\"xtick_2\">\r\n     <g id=\"line2d_2\">\r\n      <g>\r\n       <use style=\"stroke:#000000;stroke-width:0.8;\" x=\"128.852984\" xlink:href=\"#mcf596fa575\" y=\"239.758125\"/>\r\n      </g>\r\n     </g>\r\n     <g id=\"text_2\">\r\n      <!-- 4 -->\r\n      <g transform=\"translate(125.671734 254.356563)scale(0.1 -0.1)\">\r\n       <defs>\r\n        <path d=\"M 2419 4116 \r\nL 825 1625 \r\nL 2419 1625 \r\nL 2419 4116 \r\nz\r\nM 2253 4666 \r\nL 3047 4666 \r\nL 3047 1625 \r\nL 3713 1625 \r\nL 3713 1100 \r\nL 3047 1100 \r\nL 3047 0 \r\nL 2419 0 \r\nL 2419 1100 \r\nL 313 1100 \r\nL 313 1709 \r\nL 2253 4666 \r\nz\r\n\" id=\"DejaVuSans-34\" transform=\"scale(0.015625)\"/>\r\n       </defs>\r\n       <use xlink:href=\"#DejaVuSans-34\"/>\r\n      </g>\r\n     </g>\r\n    </g>\r\n    <g id=\"xtick_3\">\r\n     <g id=\"line2d_3\">\r\n      <g>\r\n       <use style=\"stroke:#000000;stroke-width:0.8;\" x=\"175.663258\" xlink:href=\"#mcf596fa575\" y=\"239.758125\"/>\r\n      </g>\r\n     </g>\r\n     <g id=\"text_3\">\r\n      <!-- 5 -->\r\n      <g transform=\"translate(172.482008 254.356563)scale(0.1 -0.1)\">\r\n       <defs>\r\n        <path d=\"M 691 4666 \r\nL 3169 4666 \r\nL 3169 4134 \r\nL 1269 4134 \r\nL 1269 2991 \r\nQ 1406 3038 1543 3061 \r\nQ 1681 3084 1819 3084 \r\nQ 2600 3084 3056 2656 \r\nQ 3513 2228 3513 1497 \r\nQ 3513 744 3044 326 \r\nQ 2575 -91 1722 -91 \r\nQ 1428 -91 1123 -41 \r\nQ 819 9 494 109 \r\nL 494 744 \r\nQ 775 591 1075 516 \r\nQ 1375 441 1709 441 \r\nQ 2250 441 2565 725 \r\nQ 2881 1009 2881 1497 \r\nQ 2881 1984 2565 2268 \r\nQ 2250 2553 1709 2553 \r\nQ 1456 2553 1204 2497 \r\nQ 953 2441 691 2322 \r\nL 691 4666 \r\nz\r\n\" id=\"DejaVuSans-35\" transform=\"scale(0.015625)\"/>\r\n       </defs>\r\n       <use xlink:href=\"#DejaVuSans-35\"/>\r\n      </g>\r\n     </g>\r\n    </g>\r\n    <g id=\"xtick_4\">\r\n     <g id=\"line2d_4\">\r\n      <g>\r\n       <use style=\"stroke:#000000;stroke-width:0.8;\" x=\"222.473532\" xlink:href=\"#mcf596fa575\" y=\"239.758125\"/>\r\n      </g>\r\n     </g>\r\n     <g id=\"text_4\">\r\n      <!-- 6 -->\r\n      <g transform=\"translate(219.292282 254.356563)scale(0.1 -0.1)\">\r\n       <defs>\r\n        <path d=\"M 2113 2584 \r\nQ 1688 2584 1439 2293 \r\nQ 1191 2003 1191 1497 \r\nQ 1191 994 1439 701 \r\nQ 1688 409 2113 409 \r\nQ 2538 409 2786 701 \r\nQ 3034 994 3034 1497 \r\nQ 3034 2003 2786 2293 \r\nQ 2538 2584 2113 2584 \r\nz\r\nM 3366 4563 \r\nL 3366 3988 \r\nQ 3128 4100 2886 4159 \r\nQ 2644 4219 2406 4219 \r\nQ 1781 4219 1451 3797 \r\nQ 1122 3375 1075 2522 \r\nQ 1259 2794 1537 2939 \r\nQ 1816 3084 2150 3084 \r\nQ 2853 3084 3261 2657 \r\nQ 3669 2231 3669 1497 \r\nQ 3669 778 3244 343 \r\nQ 2819 -91 2113 -91 \r\nQ 1303 -91 875 529 \r\nQ 447 1150 447 2328 \r\nQ 447 3434 972 4092 \r\nQ 1497 4750 2381 4750 \r\nQ 2619 4750 2861 4703 \r\nQ 3103 4656 3366 4563 \r\nz\r\n\" id=\"DejaVuSans-36\" transform=\"scale(0.015625)\"/>\r\n       </defs>\r\n       <use xlink:href=\"#DejaVuSans-36\"/>\r\n      </g>\r\n     </g>\r\n    </g>\r\n    <g id=\"xtick_5\">\r\n     <g id=\"line2d_5\">\r\n      <g>\r\n       <use style=\"stroke:#000000;stroke-width:0.8;\" x=\"269.283806\" xlink:href=\"#mcf596fa575\" y=\"239.758125\"/>\r\n      </g>\r\n     </g>\r\n     <g id=\"text_5\">\r\n      <!-- 7 -->\r\n      <g transform=\"translate(266.102556 254.356563)scale(0.1 -0.1)\">\r\n       <defs>\r\n        <path d=\"M 525 4666 \r\nL 3525 4666 \r\nL 3525 4397 \r\nL 1831 0 \r\nL 1172 0 \r\nL 2766 4134 \r\nL 525 4134 \r\nL 525 4666 \r\nz\r\n\" id=\"DejaVuSans-37\" transform=\"scale(0.015625)\"/>\r\n       </defs>\r\n       <use xlink:href=\"#DejaVuSans-37\"/>\r\n      </g>\r\n     </g>\r\n    </g>\r\n    <g id=\"xtick_6\">\r\n     <g id=\"line2d_6\">\r\n      <g>\r\n       <use style=\"stroke:#000000;stroke-width:0.8;\" x=\"316.094079\" xlink:href=\"#mcf596fa575\" y=\"239.758125\"/>\r\n      </g>\r\n     </g>\r\n     <g id=\"text_6\">\r\n      <!-- 8 -->\r\n      <g transform=\"translate(312.912829 254.356563)scale(0.1 -0.1)\">\r\n       <defs>\r\n        <path d=\"M 2034 2216 \r\nQ 1584 2216 1326 1975 \r\nQ 1069 1734 1069 1313 \r\nQ 1069 891 1326 650 \r\nQ 1584 409 2034 409 \r\nQ 2484 409 2743 651 \r\nQ 3003 894 3003 1313 \r\nQ 3003 1734 2745 1975 \r\nQ 2488 2216 2034 2216 \r\nz\r\nM 1403 2484 \r\nQ 997 2584 770 2862 \r\nQ 544 3141 544 3541 \r\nQ 544 4100 942 4425 \r\nQ 1341 4750 2034 4750 \r\nQ 2731 4750 3128 4425 \r\nQ 3525 4100 3525 3541 \r\nQ 3525 3141 3298 2862 \r\nQ 3072 2584 2669 2484 \r\nQ 3125 2378 3379 2068 \r\nQ 3634 1759 3634 1313 \r\nQ 3634 634 3220 271 \r\nQ 2806 -91 2034 -91 \r\nQ 1263 -91 848 271 \r\nQ 434 634 434 1313 \r\nQ 434 1759 690 2068 \r\nQ 947 2378 1403 2484 \r\nz\r\nM 1172 3481 \r\nQ 1172 3119 1398 2916 \r\nQ 1625 2713 2034 2713 \r\nQ 2441 2713 2670 2916 \r\nQ 2900 3119 2900 3481 \r\nQ 2900 3844 2670 4047 \r\nQ 2441 4250 2034 4250 \r\nQ 1625 4250 1398 4047 \r\nQ 1172 3844 1172 3481 \r\nz\r\n\" id=\"DejaVuSans-38\" transform=\"scale(0.015625)\"/>\r\n       </defs>\r\n       <use xlink:href=\"#DejaVuSans-38\"/>\r\n      </g>\r\n     </g>\r\n    </g>\r\n    <g id=\"xtick_7\">\r\n     <g id=\"line2d_7\">\r\n      <g>\r\n       <use style=\"stroke:#000000;stroke-width:0.8;\" x=\"362.904353\" xlink:href=\"#mcf596fa575\" y=\"239.758125\"/>\r\n      </g>\r\n     </g>\r\n     <g id=\"text_7\">\r\n      <!-- 9 -->\r\n      <g transform=\"translate(359.723103 254.356563)scale(0.1 -0.1)\">\r\n       <defs>\r\n        <path d=\"M 703 97 \r\nL 703 672 \r\nQ 941 559 1184 500 \r\nQ 1428 441 1663 441 \r\nQ 2288 441 2617 861 \r\nQ 2947 1281 2994 2138 \r\nQ 2813 1869 2534 1725 \r\nQ 2256 1581 1919 1581 \r\nQ 1219 1581 811 2004 \r\nQ 403 2428 403 3163 \r\nQ 403 3881 828 4315 \r\nQ 1253 4750 1959 4750 \r\nQ 2769 4750 3195 4129 \r\nQ 3622 3509 3622 2328 \r\nQ 3622 1225 3098 567 \r\nQ 2575 -91 1691 -91 \r\nQ 1453 -91 1209 -44 \r\nQ 966 3 703 97 \r\nz\r\nM 1959 2075 \r\nQ 2384 2075 2632 2365 \r\nQ 2881 2656 2881 3163 \r\nQ 2881 3666 2632 3958 \r\nQ 2384 4250 1959 4250 \r\nQ 1534 4250 1286 3958 \r\nQ 1038 3666 1038 3163 \r\nQ 1038 2656 1286 2365 \r\nQ 1534 2075 1959 2075 \r\nz\r\n\" id=\"DejaVuSans-39\" transform=\"scale(0.015625)\"/>\r\n       </defs>\r\n       <use xlink:href=\"#DejaVuSans-39\"/>\r\n      </g>\r\n     </g>\r\n    </g>\r\n    <g id=\"text_8\">\r\n     <!-- netflix_rating -->\r\n     <g transform=\"translate(181.350781 268.034688)scale(0.1 -0.1)\">\r\n      <defs>\r\n       <path d=\"M 3513 2113 \r\nL 3513 0 \r\nL 2938 0 \r\nL 2938 2094 \r\nQ 2938 2591 2744 2837 \r\nQ 2550 3084 2163 3084 \r\nQ 1697 3084 1428 2787 \r\nQ 1159 2491 1159 1978 \r\nL 1159 0 \r\nL 581 0 \r\nL 581 3500 \r\nL 1159 3500 \r\nL 1159 2956 \r\nQ 1366 3272 1645 3428 \r\nQ 1925 3584 2291 3584 \r\nQ 2894 3584 3203 3211 \r\nQ 3513 2838 3513 2113 \r\nz\r\n\" id=\"DejaVuSans-6e\" transform=\"scale(0.015625)\"/>\r\n       <path d=\"M 3597 1894 \r\nL 3597 1613 \r\nL 953 1613 \r\nQ 991 1019 1311 708 \r\nQ 1631 397 2203 397 \r\nQ 2534 397 2845 478 \r\nQ 3156 559 3463 722 \r\nL 3463 178 \r\nQ 3153 47 2828 -22 \r\nQ 2503 -91 2169 -91 \r\nQ 1331 -91 842 396 \r\nQ 353 884 353 1716 \r\nQ 353 2575 817 3079 \r\nQ 1281 3584 2069 3584 \r\nQ 2775 3584 3186 3129 \r\nQ 3597 2675 3597 1894 \r\nz\r\nM 3022 2063 \r\nQ 3016 2534 2758 2815 \r\nQ 2500 3097 2075 3097 \r\nQ 1594 3097 1305 2825 \r\nQ 1016 2553 972 2059 \r\nL 3022 2063 \r\nz\r\n\" id=\"DejaVuSans-65\" transform=\"scale(0.015625)\"/>\r\n       <path d=\"M 1172 4494 \r\nL 1172 3500 \r\nL 2356 3500 \r\nL 2356 3053 \r\nL 1172 3053 \r\nL 1172 1153 \r\nQ 1172 725 1289 603 \r\nQ 1406 481 1766 481 \r\nL 2356 481 \r\nL 2356 0 \r\nL 1766 0 \r\nQ 1100 0 847 248 \r\nQ 594 497 594 1153 \r\nL 594 3053 \r\nL 172 3053 \r\nL 172 3500 \r\nL 594 3500 \r\nL 594 4494 \r\nL 1172 4494 \r\nz\r\n\" id=\"DejaVuSans-74\" transform=\"scale(0.015625)\"/>\r\n       <path d=\"M 2375 4863 \r\nL 2375 4384 \r\nL 1825 4384 \r\nQ 1516 4384 1395 4259 \r\nQ 1275 4134 1275 3809 \r\nL 1275 3500 \r\nL 2222 3500 \r\nL 2222 3053 \r\nL 1275 3053 \r\nL 1275 0 \r\nL 697 0 \r\nL 697 3053 \r\nL 147 3053 \r\nL 147 3500 \r\nL 697 3500 \r\nL 697 3744 \r\nQ 697 4328 969 4595 \r\nQ 1241 4863 1831 4863 \r\nL 2375 4863 \r\nz\r\n\" id=\"DejaVuSans-66\" transform=\"scale(0.015625)\"/>\r\n       <path d=\"M 603 4863 \r\nL 1178 4863 \r\nL 1178 0 \r\nL 603 0 \r\nL 603 4863 \r\nz\r\n\" id=\"DejaVuSans-6c\" transform=\"scale(0.015625)\"/>\r\n       <path d=\"M 603 3500 \r\nL 1178 3500 \r\nL 1178 0 \r\nL 603 0 \r\nL 603 3500 \r\nz\r\nM 603 4863 \r\nL 1178 4863 \r\nL 1178 4134 \r\nL 603 4134 \r\nL 603 4863 \r\nz\r\n\" id=\"DejaVuSans-69\" transform=\"scale(0.015625)\"/>\r\n       <path d=\"M 3513 3500 \r\nL 2247 1797 \r\nL 3578 0 \r\nL 2900 0 \r\nL 1881 1375 \r\nL 863 0 \r\nL 184 0 \r\nL 1544 1831 \r\nL 300 3500 \r\nL 978 3500 \r\nL 1906 2253 \r\nL 2834 3500 \r\nL 3513 3500 \r\nz\r\n\" id=\"DejaVuSans-78\" transform=\"scale(0.015625)\"/>\r\n       <path d=\"M 3263 -1063 \r\nL 3263 -1509 \r\nL -63 -1509 \r\nL -63 -1063 \r\nL 3263 -1063 \r\nz\r\n\" id=\"DejaVuSans-5f\" transform=\"scale(0.015625)\"/>\r\n       <path d=\"M 2631 2963 \r\nQ 2534 3019 2420 3045 \r\nQ 2306 3072 2169 3072 \r\nQ 1681 3072 1420 2755 \r\nQ 1159 2438 1159 1844 \r\nL 1159 0 \r\nL 581 0 \r\nL 581 3500 \r\nL 1159 3500 \r\nL 1159 2956 \r\nQ 1341 3275 1631 3429 \r\nQ 1922 3584 2338 3584 \r\nQ 2397 3584 2469 3576 \r\nQ 2541 3569 2628 3553 \r\nL 2631 2963 \r\nz\r\n\" id=\"DejaVuSans-72\" transform=\"scale(0.015625)\"/>\r\n       <path d=\"M 2194 1759 \r\nQ 1497 1759 1228 1600 \r\nQ 959 1441 959 1056 \r\nQ 959 750 1161 570 \r\nQ 1363 391 1709 391 \r\nQ 2188 391 2477 730 \r\nQ 2766 1069 2766 1631 \r\nL 2766 1759 \r\nL 2194 1759 \r\nz\r\nM 3341 1997 \r\nL 3341 0 \r\nL 2766 0 \r\nL 2766 531 \r\nQ 2569 213 2275 61 \r\nQ 1981 -91 1556 -91 \r\nQ 1019 -91 701 211 \r\nQ 384 513 384 1019 \r\nQ 384 1609 779 1909 \r\nQ 1175 2209 1959 2209 \r\nL 2766 2209 \r\nL 2766 2266 \r\nQ 2766 2663 2505 2880 \r\nQ 2244 3097 1772 3097 \r\nQ 1472 3097 1187 3025 \r\nQ 903 2953 641 2809 \r\nL 641 3341 \r\nQ 956 3463 1253 3523 \r\nQ 1550 3584 1831 3584 \r\nQ 2591 3584 2966 3190 \r\nQ 3341 2797 3341 1997 \r\nz\r\n\" id=\"DejaVuSans-61\" transform=\"scale(0.015625)\"/>\r\n       <path d=\"M 2906 1791 \r\nQ 2906 2416 2648 2759 \r\nQ 2391 3103 1925 3103 \r\nQ 1463 3103 1205 2759 \r\nQ 947 2416 947 1791 \r\nQ 947 1169 1205 825 \r\nQ 1463 481 1925 481 \r\nQ 2391 481 2648 825 \r\nQ 2906 1169 2906 1791 \r\nz\r\nM 3481 434 \r\nQ 3481 -459 3084 -895 \r\nQ 2688 -1331 1869 -1331 \r\nQ 1566 -1331 1297 -1286 \r\nQ 1028 -1241 775 -1147 \r\nL 775 -588 \r\nQ 1028 -725 1275 -790 \r\nQ 1522 -856 1778 -856 \r\nQ 2344 -856 2625 -561 \r\nQ 2906 -266 2906 331 \r\nL 2906 616 \r\nQ 2728 306 2450 153 \r\nQ 2172 0 1784 0 \r\nQ 1141 0 747 490 \r\nQ 353 981 353 1791 \r\nQ 353 2603 747 3093 \r\nQ 1141 3584 1784 3584 \r\nQ 2172 3584 2450 3431 \r\nQ 2728 3278 2906 2969 \r\nL 2906 3500 \r\nL 3481 3500 \r\nL 3481 434 \r\nz\r\n\" id=\"DejaVuSans-67\" transform=\"scale(0.015625)\"/>\r\n      </defs>\r\n      <use xlink:href=\"#DejaVuSans-6e\"/>\r\n      <use x=\"63.378906\" xlink:href=\"#DejaVuSans-65\"/>\r\n      <use x=\"124.902344\" xlink:href=\"#DejaVuSans-74\"/>\r\n      <use x=\"164.111328\" xlink:href=\"#DejaVuSans-66\"/>\r\n      <use x=\"199.316406\" xlink:href=\"#DejaVuSans-6c\"/>\r\n      <use x=\"227.099609\" xlink:href=\"#DejaVuSans-69\"/>\r\n      <use x=\"254.882812\" xlink:href=\"#DejaVuSans-78\"/>\r\n      <use x=\"314.0625\" xlink:href=\"#DejaVuSans-5f\"/>\r\n      <use x=\"364.0625\" xlink:href=\"#DejaVuSans-72\"/>\r\n      <use x=\"405.175781\" xlink:href=\"#DejaVuSans-61\"/>\r\n      <use x=\"466.455078\" xlink:href=\"#DejaVuSans-74\"/>\r\n      <use x=\"505.664062\" xlink:href=\"#DejaVuSans-69\"/>\r\n      <use x=\"533.447266\" xlink:href=\"#DejaVuSans-6e\"/>\r\n      <use x=\"596.826172\" xlink:href=\"#DejaVuSans-67\"/>\r\n     </g>\r\n    </g>\r\n   </g>\r\n   <g id=\"matplotlib.axis_2\">\r\n    <g id=\"ytick_1\">\r\n     <g id=\"line2d_8\">\r\n      <defs>\r\n       <path d=\"M 0 0 \r\nL -3.5 0 \r\n\" id=\"m46055acf55\" style=\"stroke:#000000;stroke-width:0.8;\"/>\r\n      </defs>\r\n      <g>\r\n       <use style=\"stroke:#000000;stroke-width:0.8;\" x=\"46.965625\" xlink:href=\"#m46055acf55\" y=\"239.758125\"/>\r\n      </g>\r\n     </g>\r\n     <g id=\"text_9\">\r\n      <!-- 0 -->\r\n      <g transform=\"translate(33.603125 243.557344)scale(0.1 -0.1)\">\r\n       <defs>\r\n        <path d=\"M 2034 4250 \r\nQ 1547 4250 1301 3770 \r\nQ 1056 3291 1056 2328 \r\nQ 1056 1369 1301 889 \r\nQ 1547 409 2034 409 \r\nQ 2525 409 2770 889 \r\nQ 3016 1369 3016 2328 \r\nQ 3016 3291 2770 3770 \r\nQ 2525 4250 2034 4250 \r\nz\r\nM 2034 4750 \r\nQ 2819 4750 3233 4129 \r\nQ 3647 3509 3647 2328 \r\nQ 3647 1150 3233 529 \r\nQ 2819 -91 2034 -91 \r\nQ 1250 -91 836 529 \r\nQ 422 1150 422 2328 \r\nQ 422 3509 836 4129 \r\nQ 1250 4750 2034 4750 \r\nz\r\n\" id=\"DejaVuSans-30\" transform=\"scale(0.015625)\"/>\r\n       </defs>\r\n       <use xlink:href=\"#DejaVuSans-30\"/>\r\n      </g>\r\n     </g>\r\n    </g>\r\n    <g id=\"ytick_2\">\r\n     <g id=\"line2d_9\">\r\n      <g>\r\n       <use style=\"stroke:#000000;stroke-width:0.8;\" x=\"46.965625\" xlink:href=\"#m46055acf55\" y=\"215.279908\"/>\r\n      </g>\r\n     </g>\r\n     <g id=\"text_10\">\r\n      <!-- 50 -->\r\n      <g transform=\"translate(27.240625 219.079127)scale(0.1 -0.1)\">\r\n       <use xlink:href=\"#DejaVuSans-35\"/>\r\n       <use x=\"63.623047\" xlink:href=\"#DejaVuSans-30\"/>\r\n      </g>\r\n     </g>\r\n    </g>\r\n    <g id=\"ytick_3\">\r\n     <g id=\"line2d_10\">\r\n      <g>\r\n       <use style=\"stroke:#000000;stroke-width:0.8;\" x=\"46.965625\" xlink:href=\"#m46055acf55\" y=\"190.801691\"/>\r\n      </g>\r\n     </g>\r\n     <g id=\"text_11\">\r\n      <!-- 100 -->\r\n      <g transform=\"translate(20.878125 194.60091)scale(0.1 -0.1)\">\r\n       <defs>\r\n        <path d=\"M 794 531 \r\nL 1825 531 \r\nL 1825 4091 \r\nL 703 3866 \r\nL 703 4441 \r\nL 1819 4666 \r\nL 2450 4666 \r\nL 2450 531 \r\nL 3481 531 \r\nL 3481 0 \r\nL 794 0 \r\nL 794 531 \r\nz\r\n\" id=\"DejaVuSans-31\" transform=\"scale(0.015625)\"/>\r\n       </defs>\r\n       <use xlink:href=\"#DejaVuSans-31\"/>\r\n       <use x=\"63.623047\" xlink:href=\"#DejaVuSans-30\"/>\r\n       <use x=\"127.246094\" xlink:href=\"#DejaVuSans-30\"/>\r\n      </g>\r\n     </g>\r\n    </g>\r\n    <g id=\"ytick_4\">\r\n     <g id=\"line2d_11\">\r\n      <g>\r\n       <use style=\"stroke:#000000;stroke-width:0.8;\" x=\"46.965625\" xlink:href=\"#m46055acf55\" y=\"166.323475\"/>\r\n      </g>\r\n     </g>\r\n     <g id=\"text_12\">\r\n      <!-- 150 -->\r\n      <g transform=\"translate(20.878125 170.122693)scale(0.1 -0.1)\">\r\n       <use xlink:href=\"#DejaVuSans-31\"/>\r\n       <use x=\"63.623047\" xlink:href=\"#DejaVuSans-35\"/>\r\n       <use x=\"127.246094\" xlink:href=\"#DejaVuSans-30\"/>\r\n      </g>\r\n     </g>\r\n    </g>\r\n    <g id=\"ytick_5\">\r\n     <g id=\"line2d_12\">\r\n      <g>\r\n       <use style=\"stroke:#000000;stroke-width:0.8;\" x=\"46.965625\" xlink:href=\"#m46055acf55\" y=\"141.845258\"/>\r\n      </g>\r\n     </g>\r\n     <g id=\"text_13\">\r\n      <!-- 200 -->\r\n      <g transform=\"translate(20.878125 145.644476)scale(0.1 -0.1)\">\r\n       <defs>\r\n        <path d=\"M 1228 531 \r\nL 3431 531 \r\nL 3431 0 \r\nL 469 0 \r\nL 469 531 \r\nQ 828 903 1448 1529 \r\nQ 2069 2156 2228 2338 \r\nQ 2531 2678 2651 2914 \r\nQ 2772 3150 2772 3378 \r\nQ 2772 3750 2511 3984 \r\nQ 2250 4219 1831 4219 \r\nQ 1534 4219 1204 4116 \r\nQ 875 4013 500 3803 \r\nL 500 4441 \r\nQ 881 4594 1212 4672 \r\nQ 1544 4750 1819 4750 \r\nQ 2544 4750 2975 4387 \r\nQ 3406 4025 3406 3419 \r\nQ 3406 3131 3298 2873 \r\nQ 3191 2616 2906 2266 \r\nQ 2828 2175 2409 1742 \r\nQ 1991 1309 1228 531 \r\nz\r\n\" id=\"DejaVuSans-32\" transform=\"scale(0.015625)\"/>\r\n       </defs>\r\n       <use xlink:href=\"#DejaVuSans-32\"/>\r\n       <use x=\"63.623047\" xlink:href=\"#DejaVuSans-30\"/>\r\n       <use x=\"127.246094\" xlink:href=\"#DejaVuSans-30\"/>\r\n      </g>\r\n     </g>\r\n    </g>\r\n    <g id=\"ytick_6\">\r\n     <g id=\"line2d_13\">\r\n      <g>\r\n       <use style=\"stroke:#000000;stroke-width:0.8;\" x=\"46.965625\" xlink:href=\"#m46055acf55\" y=\"117.367041\"/>\r\n      </g>\r\n     </g>\r\n     <g id=\"text_14\">\r\n      <!-- 250 -->\r\n      <g transform=\"translate(20.878125 121.16626)scale(0.1 -0.1)\">\r\n       <use xlink:href=\"#DejaVuSans-32\"/>\r\n       <use x=\"63.623047\" xlink:href=\"#DejaVuSans-35\"/>\r\n       <use x=\"127.246094\" xlink:href=\"#DejaVuSans-30\"/>\r\n      </g>\r\n     </g>\r\n    </g>\r\n    <g id=\"ytick_7\">\r\n     <g id=\"line2d_14\">\r\n      <g>\r\n       <use style=\"stroke:#000000;stroke-width:0.8;\" x=\"46.965625\" xlink:href=\"#m46055acf55\" y=\"92.888824\"/>\r\n      </g>\r\n     </g>\r\n     <g id=\"text_15\">\r\n      <!-- 300 -->\r\n      <g transform=\"translate(20.878125 96.688043)scale(0.1 -0.1)\">\r\n       <use xlink:href=\"#DejaVuSans-33\"/>\r\n       <use x=\"63.623047\" xlink:href=\"#DejaVuSans-30\"/>\r\n       <use x=\"127.246094\" xlink:href=\"#DejaVuSans-30\"/>\r\n      </g>\r\n     </g>\r\n    </g>\r\n    <g id=\"ytick_8\">\r\n     <g id=\"line2d_15\">\r\n      <g>\r\n       <use style=\"stroke:#000000;stroke-width:0.8;\" x=\"46.965625\" xlink:href=\"#m46055acf55\" y=\"68.410607\"/>\r\n      </g>\r\n     </g>\r\n     <g id=\"text_16\">\r\n      <!-- 350 -->\r\n      <g transform=\"translate(20.878125 72.209826)scale(0.1 -0.1)\">\r\n       <use xlink:href=\"#DejaVuSans-33\"/>\r\n       <use x=\"63.623047\" xlink:href=\"#DejaVuSans-35\"/>\r\n       <use x=\"127.246094\" xlink:href=\"#DejaVuSans-30\"/>\r\n      </g>\r\n     </g>\r\n    </g>\r\n    <g id=\"ytick_9\">\r\n     <g id=\"line2d_16\">\r\n      <g>\r\n       <use style=\"stroke:#000000;stroke-width:0.8;\" x=\"46.965625\" xlink:href=\"#m46055acf55\" y=\"43.93239\"/>\r\n      </g>\r\n     </g>\r\n     <g id=\"text_17\">\r\n      <!-- 400 -->\r\n      <g transform=\"translate(20.878125 47.731609)scale(0.1 -0.1)\">\r\n       <use xlink:href=\"#DejaVuSans-34\"/>\r\n       <use x=\"63.623047\" xlink:href=\"#DejaVuSans-30\"/>\r\n       <use x=\"127.246094\" xlink:href=\"#DejaVuSans-30\"/>\r\n      </g>\r\n     </g>\r\n    </g>\r\n    <g id=\"text_18\">\r\n     <!-- Count -->\r\n     <g transform=\"translate(14.798438 145.886563)rotate(-90)scale(0.1 -0.1)\">\r\n      <defs>\r\n       <path d=\"M 4122 4306 \r\nL 4122 3641 \r\nQ 3803 3938 3442 4084 \r\nQ 3081 4231 2675 4231 \r\nQ 1875 4231 1450 3742 \r\nQ 1025 3253 1025 2328 \r\nQ 1025 1406 1450 917 \r\nQ 1875 428 2675 428 \r\nQ 3081 428 3442 575 \r\nQ 3803 722 4122 1019 \r\nL 4122 359 \r\nQ 3791 134 3420 21 \r\nQ 3050 -91 2638 -91 \r\nQ 1578 -91 968 557 \r\nQ 359 1206 359 2328 \r\nQ 359 3453 968 4101 \r\nQ 1578 4750 2638 4750 \r\nQ 3056 4750 3426 4639 \r\nQ 3797 4528 4122 4306 \r\nz\r\n\" id=\"DejaVuSans-43\" transform=\"scale(0.015625)\"/>\r\n       <path d=\"M 1959 3097 \r\nQ 1497 3097 1228 2736 \r\nQ 959 2375 959 1747 \r\nQ 959 1119 1226 758 \r\nQ 1494 397 1959 397 \r\nQ 2419 397 2687 759 \r\nQ 2956 1122 2956 1747 \r\nQ 2956 2369 2687 2733 \r\nQ 2419 3097 1959 3097 \r\nz\r\nM 1959 3584 \r\nQ 2709 3584 3137 3096 \r\nQ 3566 2609 3566 1747 \r\nQ 3566 888 3137 398 \r\nQ 2709 -91 1959 -91 \r\nQ 1206 -91 779 398 \r\nQ 353 888 353 1747 \r\nQ 353 2609 779 3096 \r\nQ 1206 3584 1959 3584 \r\nz\r\n\" id=\"DejaVuSans-6f\" transform=\"scale(0.015625)\"/>\r\n       <path d=\"M 544 1381 \r\nL 544 3500 \r\nL 1119 3500 \r\nL 1119 1403 \r\nQ 1119 906 1312 657 \r\nQ 1506 409 1894 409 \r\nQ 2359 409 2629 706 \r\nQ 2900 1003 2900 1516 \r\nL 2900 3500 \r\nL 3475 3500 \r\nL 3475 0 \r\nL 2900 0 \r\nL 2900 538 \r\nQ 2691 219 2414 64 \r\nQ 2138 -91 1772 -91 \r\nQ 1169 -91 856 284 \r\nQ 544 659 544 1381 \r\nz\r\nM 1991 3584 \r\nL 1991 3584 \r\nz\r\n\" id=\"DejaVuSans-75\" transform=\"scale(0.015625)\"/>\r\n      </defs>\r\n      <use xlink:href=\"#DejaVuSans-43\"/>\r\n      <use x=\"69.824219\" xlink:href=\"#DejaVuSans-6f\"/>\r\n      <use x=\"131.005859\" xlink:href=\"#DejaVuSans-75\"/>\r\n      <use x=\"194.384766\" xlink:href=\"#DejaVuSans-6e\"/>\r\n      <use x=\"257.763672\" xlink:href=\"#DejaVuSans-74\"/>\r\n     </g>\r\n    </g>\r\n   </g>\r\n   <g id=\"line2d_17\">\r\n    <path clip-path=\"url(#p4886164590)\" d=\"M 62.183807 239.460753 \r\nL 69.831134 239.141492 \r\nL 75.948996 238.693038 \r\nL 82.066858 238.020763 \r\nL 86.655255 237.274937 \r\nL 89.714186 236.568082 \r\nL 92.773117 235.639176 \r\nL 95.832048 234.495454 \r\nL 103.479376 231.37588 \r\nL 106.538307 230.36614 \r\nL 115.7151 227.708429 \r\nL 118.774031 226.427728 \r\nL 121.832962 224.845204 \r\nL 124.891893 223.025786 \r\nL 135.598151 216.358667 \r\nL 138.657082 214.838911 \r\nL 146.30441 211.430812 \r\nL 147.833875 210.550427 \r\nL 149.363341 209.510853 \r\nL 150.892806 208.280677 \r\nL 152.422272 206.840409 \r\nL 153.951737 205.186601 \r\nL 157.010668 201.319195 \r\nL 164.657996 190.765364 \r\nL 167.716927 187.185198 \r\nL 172.305323 182.486857 \r\nL 175.364255 179.28339 \r\nL 178.423186 175.583621 \r\nL 179.952651 173.463608 \r\nL 181.482117 171.13761 \r\nL 183.011582 168.596928 \r\nL 186.070513 162.865319 \r\nL 189.129444 156.278336 \r\nL 192.188375 148.841349 \r\nL 195.247306 140.548411 \r\nL 198.306237 131.421766 \r\nL 201.365168 121.524062 \r\nL 204.424099 110.899804 \r\nL 207.48303 99.530618 \r\nL 212.071427 81.248872 \r\nL 215.130358 69.000912 \r\nL 216.659823 63.260394 \r\nL 218.189289 58.007913 \r\nL 219.718754 53.411838 \r\nL 221.24822 49.609388 \r\nL 222.777685 46.687627 \r\nL 224.307151 44.671365 \r\nL 225.836616 43.520253 \r\nL 227.366082 43.13541 \r\nL 228.895547 43.373967 \r\nL 230.425013 44.06838 \r\nL 233.483944 46.150061 \r\nL 236.542875 48.231262 \r\nL 238.07234 49.039164 \r\nL 239.601806 49.629614 \r\nL 241.131271 49.986875 \r\nL 242.660737 50.113027 \r\nL 244.190202 50.022899 \r\nL 245.719668 49.740356 \r\nL 247.249133 49.295924 \r\nL 250.308064 48.068675 \r\nL 254.896461 46.016053 \r\nL 257.955392 44.98802 \r\nL 259.484858 44.669276 \r\nL 261.014323 44.504481 \r\nL 262.543789 44.506226 \r\nL 264.073254 44.689873 \r\nL 265.60272 45.080288 \r\nL 267.132185 45.716659 \r\nL 268.661651 46.652937 \r\nL 270.191116 47.952491 \r\nL 271.720582 49.677357 \r\nL 273.250047 51.874491 \r\nL 274.779513 54.562831 \r\nL 276.308978 57.725167 \r\nL 277.838444 61.307625 \r\nL 280.897375 69.386445 \r\nL 288.544702 91.167193 \r\nL 293.133099 104.621355 \r\nL 296.19203 114.35987 \r\nL 299.250961 125.033978 \r\nL 302.309892 136.625168 \r\nL 311.486685 172.81599 \r\nL 314.545616 183.764107 \r\nL 317.604547 193.641919 \r\nL 320.663478 202.278878 \r\nL 322.192943 206.0977 \r\nL 323.722409 209.579943 \r\nL 325.251874 212.735197 \r\nL 326.78134 215.582429 \r\nL 328.310805 218.147544 \r\nL 329.840271 220.459722 \r\nL 331.369736 222.547537 \r\nL 332.899202 224.435858 \r\nL 335.958133 227.687138 \r\nL 339.017064 230.317341 \r\nL 342.075995 232.403143 \r\nL 345.134926 234.035512 \r\nL 348.193857 235.310041 \r\nL 351.252788 236.294929 \r\nL 354.311719 237.028959 \r\nL 357.37065 237.553968 \r\nL 363.488512 238.267295 \r\nL 366.547443 238.593295 \r\nL 366.547443 238.593295 \r\n\" style=\"fill:none;stroke:#1f77b4;stroke-linecap:square;stroke-width:1.5;\"/>\r\n   </g>\r\n   <g id=\"patch_54\">\r\n    <path d=\"M 46.965625 239.758125 \r\nL 46.965625 22.318125 \r\n\" style=\"fill:none;stroke:#000000;stroke-linecap:square;stroke-linejoin:miter;stroke-width:0.8;\"/>\r\n   </g>\r\n   <g id=\"patch_55\">\r\n    <path d=\"M 381.765625 239.758125 \r\nL 381.765625 22.318125 \r\n\" style=\"fill:none;stroke:#000000;stroke-linecap:square;stroke-linejoin:miter;stroke-width:0.8;\"/>\r\n   </g>\r\n   <g id=\"patch_56\">\r\n    <path d=\"M 46.965625 239.758125 \r\nL 381.765625 239.758125 \r\n\" style=\"fill:none;stroke:#000000;stroke-linecap:square;stroke-linejoin:miter;stroke-width:0.8;\"/>\r\n   </g>\r\n   <g id=\"patch_57\">\r\n    <path d=\"M 46.965625 22.318125 \r\nL 381.765625 22.318125 \r\n\" style=\"fill:none;stroke:#000000;stroke-linecap:square;stroke-linejoin:miter;stroke-width:0.8;\"/>\r\n   </g>\r\n   <g id=\"text_19\">\r\n    <!-- netflix_rating distribution -->\r\n    <g transform=\"translate(138.649375 16.318125)scale(0.12 -0.12)\">\r\n     <defs>\r\n      <path id=\"DejaVuSans-20\" transform=\"scale(0.015625)\"/>\r\n      <path d=\"M 2906 2969 \r\nL 2906 4863 \r\nL 3481 4863 \r\nL 3481 0 \r\nL 2906 0 \r\nL 2906 525 \r\nQ 2725 213 2448 61 \r\nQ 2172 -91 1784 -91 \r\nQ 1150 -91 751 415 \r\nQ 353 922 353 1747 \r\nQ 353 2572 751 3078 \r\nQ 1150 3584 1784 3584 \r\nQ 2172 3584 2448 3432 \r\nQ 2725 3281 2906 2969 \r\nz\r\nM 947 1747 \r\nQ 947 1113 1208 752 \r\nQ 1469 391 1925 391 \r\nQ 2381 391 2643 752 \r\nQ 2906 1113 2906 1747 \r\nQ 2906 2381 2643 2742 \r\nQ 2381 3103 1925 3103 \r\nQ 1469 3103 1208 2742 \r\nQ 947 2381 947 1747 \r\nz\r\n\" id=\"DejaVuSans-64\" transform=\"scale(0.015625)\"/>\r\n      <path d=\"M 2834 3397 \r\nL 2834 2853 \r\nQ 2591 2978 2328 3040 \r\nQ 2066 3103 1784 3103 \r\nQ 1356 3103 1142 2972 \r\nQ 928 2841 928 2578 \r\nQ 928 2378 1081 2264 \r\nQ 1234 2150 1697 2047 \r\nL 1894 2003 \r\nQ 2506 1872 2764 1633 \r\nQ 3022 1394 3022 966 \r\nQ 3022 478 2636 193 \r\nQ 2250 -91 1575 -91 \r\nQ 1294 -91 989 -36 \r\nQ 684 19 347 128 \r\nL 347 722 \r\nQ 666 556 975 473 \r\nQ 1284 391 1588 391 \r\nQ 1994 391 2212 530 \r\nQ 2431 669 2431 922 \r\nQ 2431 1156 2273 1281 \r\nQ 2116 1406 1581 1522 \r\nL 1381 1569 \r\nQ 847 1681 609 1914 \r\nQ 372 2147 372 2553 \r\nQ 372 3047 722 3315 \r\nQ 1072 3584 1716 3584 \r\nQ 2034 3584 2315 3537 \r\nQ 2597 3491 2834 3397 \r\nz\r\n\" id=\"DejaVuSans-73\" transform=\"scale(0.015625)\"/>\r\n      <path d=\"M 3116 1747 \r\nQ 3116 2381 2855 2742 \r\nQ 2594 3103 2138 3103 \r\nQ 1681 3103 1420 2742 \r\nQ 1159 2381 1159 1747 \r\nQ 1159 1113 1420 752 \r\nQ 1681 391 2138 391 \r\nQ 2594 391 2855 752 \r\nQ 3116 1113 3116 1747 \r\nz\r\nM 1159 2969 \r\nQ 1341 3281 1617 3432 \r\nQ 1894 3584 2278 3584 \r\nQ 2916 3584 3314 3078 \r\nQ 3713 2572 3713 1747 \r\nQ 3713 922 3314 415 \r\nQ 2916 -91 2278 -91 \r\nQ 1894 -91 1617 61 \r\nQ 1341 213 1159 525 \r\nL 1159 0 \r\nL 581 0 \r\nL 581 4863 \r\nL 1159 4863 \r\nL 1159 2969 \r\nz\r\n\" id=\"DejaVuSans-62\" transform=\"scale(0.015625)\"/>\r\n     </defs>\r\n     <use xlink:href=\"#DejaVuSans-6e\"/>\r\n     <use x=\"63.378906\" xlink:href=\"#DejaVuSans-65\"/>\r\n     <use x=\"124.902344\" xlink:href=\"#DejaVuSans-74\"/>\r\n     <use x=\"164.111328\" xlink:href=\"#DejaVuSans-66\"/>\r\n     <use x=\"199.316406\" xlink:href=\"#DejaVuSans-6c\"/>\r\n     <use x=\"227.099609\" xlink:href=\"#DejaVuSans-69\"/>\r\n     <use x=\"254.882812\" xlink:href=\"#DejaVuSans-78\"/>\r\n     <use x=\"314.0625\" xlink:href=\"#DejaVuSans-5f\"/>\r\n     <use x=\"364.0625\" xlink:href=\"#DejaVuSans-72\"/>\r\n     <use x=\"405.175781\" xlink:href=\"#DejaVuSans-61\"/>\r\n     <use x=\"466.455078\" xlink:href=\"#DejaVuSans-74\"/>\r\n     <use x=\"505.664062\" xlink:href=\"#DejaVuSans-69\"/>\r\n     <use x=\"533.447266\" xlink:href=\"#DejaVuSans-6e\"/>\r\n     <use x=\"596.826172\" xlink:href=\"#DejaVuSans-67\"/>\r\n     <use x=\"660.302734\" xlink:href=\"#DejaVuSans-20\"/>\r\n     <use x=\"692.089844\" xlink:href=\"#DejaVuSans-64\"/>\r\n     <use x=\"755.566406\" xlink:href=\"#DejaVuSans-69\"/>\r\n     <use x=\"783.349609\" xlink:href=\"#DejaVuSans-73\"/>\r\n     <use x=\"835.449219\" xlink:href=\"#DejaVuSans-74\"/>\r\n     <use x=\"874.658203\" xlink:href=\"#DejaVuSans-72\"/>\r\n     <use x=\"915.771484\" xlink:href=\"#DejaVuSans-69\"/>\r\n     <use x=\"943.554688\" xlink:href=\"#DejaVuSans-62\"/>\r\n     <use x=\"1007.03125\" xlink:href=\"#DejaVuSans-75\"/>\r\n     <use x=\"1070.410156\" xlink:href=\"#DejaVuSans-74\"/>\r\n     <use x=\"1109.619141\" xlink:href=\"#DejaVuSans-69\"/>\r\n     <use x=\"1137.402344\" xlink:href=\"#DejaVuSans-6f\"/>\r\n     <use x=\"1198.583984\" xlink:href=\"#DejaVuSans-6e\"/>\r\n    </g>\r\n   </g>\r\n  </g>\r\n </g>\r\n <defs>\r\n  <clipPath id=\"p4886164590\">\r\n   <rect height=\"217.44\" width=\"334.8\" x=\"46.965625\" y=\"22.318125\"/>\r\n  </clipPath>\r\n </defs>\r\n</svg>\r\n",
      "image/png": "[encoded data removed]"
     },
     "metadata": {
      "needs_background": "light"
     }
    }
   ],
   "source": [
    "viz.plot_displot(save=reports)"
   ]
  },
  {
   "cell_type": "code",
   "execution_count": 6,
   "metadata": {},
   "outputs": [
    {
     "output_type": "display_data",
     "data": {
      "text/plain": "<Figure size 432x288 with 1 Axes>",
      "image/svg+xml": "<?xml version=\"1.0\" encoding=\"utf-8\" standalone=\"no\"?>\r\n<!DOCTYPE svg PUBLIC \"-//W3C//DTD SVG 1.1//EN\"\r\n  \"http://www.w3.org/Graphics/SVG/1.1/DTD/svg11.dtd\">\r\n<svg height=\"277.314375pt\" version=\"1.1\" viewBox=\"0 0 386.059375 277.314375\" width=\"386.059375pt\" xmlns=\"http://www.w3.org/2000/svg\" xmlns:xlink=\"http://www.w3.org/1999/xlink\">\r\n <metadata>\r\n  <rdf:RDF xmlns:cc=\"http://creativecommons.org/ns#\" xmlns:dc=\"http://purl.org/dc/elements/1.1/\" xmlns:rdf=\"http://www.w3.org/1999/02/22-rdf-syntax-ns#\">\r\n   <cc:Work>\r\n    <dc:type rdf:resource=\"http://purl.org/dc/dcmitype/StillImage\"/>\r\n    <dc:date>2021-06-01T19:35:23.304898</dc:date>\r\n    <dc:format>image/svg+xml</dc:format>\r\n    <dc:creator>\r\n     <cc:Agent>\r\n      <dc:title>Matplotlib v3.4.1, https://matplotlib.org/</dc:title>\r\n     </cc:Agent>\r\n    </dc:creator>\r\n   </cc:Work>\r\n  </rdf:RDF>\r\n </metadata>\r\n <defs>\r\n  <style type=\"text/css\">*{stroke-linecap:butt;stroke-linejoin:round;}</style>\r\n </defs>\r\n <g id=\"figure_1\">\r\n  <g id=\"patch_1\">\r\n   <path d=\"M 0 277.314375 \r\nL 386.059375 277.314375 \r\nL 386.059375 0 \r\nL 0 0 \r\nz\r\n\" style=\"fill:none;\"/>\r\n  </g>\r\n  <g id=\"axes_1\">\r\n   <g id=\"patch_2\">\r\n    <path d=\"M 44.059375 239.758125 \r\nL 378.859375 239.758125 \r\nL 378.859375 22.318125 \r\nL 44.059375 22.318125 \r\nz\r\n\" style=\"fill:#ffffff;\"/>\r\n   </g>\r\n   <g id=\"matplotlib.axis_1\">\r\n    <g id=\"xtick_1\">\r\n     <g id=\"line2d_1\">\r\n      <defs>\r\n       <path d=\"M 0 0 \r\nL 0 3.5 \r\n\" id=\"md30f763336\" style=\"stroke:#000000;stroke-width:0.8;\"/>\r\n      </defs>\r\n      <g>\r\n       <use style=\"stroke:#000000;stroke-width:0.8;\" x=\"93.095739\" xlink:href=\"#md30f763336\" y=\"239.758125\"/>\r\n      </g>\r\n     </g>\r\n     <g id=\"text_1\">\r\n      <!-- 1920 -->\r\n      <g transform=\"translate(80.370739 254.356562)scale(0.1 -0.1)\">\r\n       <defs>\r\n        <path d=\"M 794 531 \r\nL 1825 531 \r\nL 1825 4091 \r\nL 703 3866 \r\nL 703 4441 \r\nL 1819 4666 \r\nL 2450 4666 \r\nL 2450 531 \r\nL 3481 531 \r\nL 3481 0 \r\nL 794 0 \r\nL 794 531 \r\nz\r\n\" id=\"DejaVuSans-31\" transform=\"scale(0.015625)\"/>\r\n        <path d=\"M 703 97 \r\nL 703 672 \r\nQ 941 559 1184 500 \r\nQ 1428 441 1663 441 \r\nQ 2288 441 2617 861 \r\nQ 2947 1281 2994 2138 \r\nQ 2813 1869 2534 1725 \r\nQ 2256 1581 1919 1581 \r\nQ 1219 1581 811 2004 \r\nQ 403 2428 403 3163 \r\nQ 403 3881 828 4315 \r\nQ 1253 4750 1959 4750 \r\nQ 2769 4750 3195 4129 \r\nQ 3622 3509 3622 2328 \r\nQ 3622 1225 3098 567 \r\nQ 2575 -91 1691 -91 \r\nQ 1453 -91 1209 -44 \r\nQ 966 3 703 97 \r\nz\r\nM 1959 2075 \r\nQ 2384 2075 2632 2365 \r\nQ 2881 2656 2881 3163 \r\nQ 2881 3666 2632 3958 \r\nQ 2384 4250 1959 4250 \r\nQ 1534 4250 1286 3958 \r\nQ 1038 3666 1038 3163 \r\nQ 1038 2656 1286 2365 \r\nQ 1534 2075 1959 2075 \r\nz\r\n\" id=\"DejaVuSans-39\" transform=\"scale(0.015625)\"/>\r\n        <path d=\"M 1228 531 \r\nL 3431 531 \r\nL 3431 0 \r\nL 469 0 \r\nL 469 531 \r\nQ 828 903 1448 1529 \r\nQ 2069 2156 2228 2338 \r\nQ 2531 2678 2651 2914 \r\nQ 2772 3150 2772 3378 \r\nQ 2772 3750 2511 3984 \r\nQ 2250 4219 1831 4219 \r\nQ 1534 4219 1204 4116 \r\nQ 875 4013 500 3803 \r\nL 500 4441 \r\nQ 881 4594 1212 4672 \r\nQ 1544 4750 1819 4750 \r\nQ 2544 4750 2975 4387 \r\nQ 3406 4025 3406 3419 \r\nQ 3406 3131 3298 2873 \r\nQ 3191 2616 2906 2266 \r\nQ 2828 2175 2409 1742 \r\nQ 1991 1309 1228 531 \r\nz\r\n\" id=\"DejaVuSans-32\" transform=\"scale(0.015625)\"/>\r\n        <path d=\"M 2034 4250 \r\nQ 1547 4250 1301 3770 \r\nQ 1056 3291 1056 2328 \r\nQ 1056 1369 1301 889 \r\nQ 1547 409 2034 409 \r\nQ 2525 409 2770 889 \r\nQ 3016 1369 3016 2328 \r\nQ 3016 3291 2770 3770 \r\nQ 2525 4250 2034 4250 \r\nz\r\nM 2034 4750 \r\nQ 2819 4750 3233 4129 \r\nQ 3647 3509 3647 2328 \r\nQ 3647 1150 3233 529 \r\nQ 2819 -91 2034 -91 \r\nQ 1250 -91 836 529 \r\nQ 422 1150 422 2328 \r\nQ 422 3509 836 4129 \r\nQ 1250 4750 2034 4750 \r\nz\r\n\" id=\"DejaVuSans-30\" transform=\"scale(0.015625)\"/>\r\n       </defs>\r\n       <use xlink:href=\"#DejaVuSans-31\"/>\r\n       <use x=\"63.623047\" xlink:href=\"#DejaVuSans-39\"/>\r\n       <use x=\"127.246094\" xlink:href=\"#DejaVuSans-32\"/>\r\n       <use x=\"190.869141\" xlink:href=\"#DejaVuSans-30\"/>\r\n      </g>\r\n     </g>\r\n    </g>\r\n    <g id=\"xtick_2\">\r\n     <g id=\"line2d_2\">\r\n      <g>\r\n       <use style=\"stroke:#000000;stroke-width:0.8;\" x=\"160.732102\" xlink:href=\"#md30f763336\" y=\"239.758125\"/>\r\n      </g>\r\n     </g>\r\n     <g id=\"text_2\">\r\n      <!-- 1940 -->\r\n      <g transform=\"translate(148.007102 254.356562)scale(0.1 -0.1)\">\r\n       <defs>\r\n        <path d=\"M 2419 4116 \r\nL 825 1625 \r\nL 2419 1625 \r\nL 2419 4116 \r\nz\r\nM 2253 4666 \r\nL 3047 4666 \r\nL 3047 1625 \r\nL 3713 1625 \r\nL 3713 1100 \r\nL 3047 1100 \r\nL 3047 0 \r\nL 2419 0 \r\nL 2419 1100 \r\nL 313 1100 \r\nL 313 1709 \r\nL 2253 4666 \r\nz\r\n\" id=\"DejaVuSans-34\" transform=\"scale(0.015625)\"/>\r\n       </defs>\r\n       <use xlink:href=\"#DejaVuSans-31\"/>\r\n       <use x=\"63.623047\" xlink:href=\"#DejaVuSans-39\"/>\r\n       <use x=\"127.246094\" xlink:href=\"#DejaVuSans-34\"/>\r\n       <use x=\"190.869141\" xlink:href=\"#DejaVuSans-30\"/>\r\n      </g>\r\n     </g>\r\n    </g>\r\n    <g id=\"xtick_3\">\r\n     <g id=\"line2d_3\">\r\n      <g>\r\n       <use style=\"stroke:#000000;stroke-width:0.8;\" x=\"228.368466\" xlink:href=\"#md30f763336\" y=\"239.758125\"/>\r\n      </g>\r\n     </g>\r\n     <g id=\"text_3\">\r\n      <!-- 1960 -->\r\n      <g transform=\"translate(215.643466 254.356562)scale(0.1 -0.1)\">\r\n       <defs>\r\n        <path d=\"M 2113 2584 \r\nQ 1688 2584 1439 2293 \r\nQ 1191 2003 1191 1497 \r\nQ 1191 994 1439 701 \r\nQ 1688 409 2113 409 \r\nQ 2538 409 2786 701 \r\nQ 3034 994 3034 1497 \r\nQ 3034 2003 2786 2293 \r\nQ 2538 2584 2113 2584 \r\nz\r\nM 3366 4563 \r\nL 3366 3988 \r\nQ 3128 4100 2886 4159 \r\nQ 2644 4219 2406 4219 \r\nQ 1781 4219 1451 3797 \r\nQ 1122 3375 1075 2522 \r\nQ 1259 2794 1537 2939 \r\nQ 1816 3084 2150 3084 \r\nQ 2853 3084 3261 2657 \r\nQ 3669 2231 3669 1497 \r\nQ 3669 778 3244 343 \r\nQ 2819 -91 2113 -91 \r\nQ 1303 -91 875 529 \r\nQ 447 1150 447 2328 \r\nQ 447 3434 972 4092 \r\nQ 1497 4750 2381 4750 \r\nQ 2619 4750 2861 4703 \r\nQ 3103 4656 3366 4563 \r\nz\r\n\" id=\"DejaVuSans-36\" transform=\"scale(0.015625)\"/>\r\n       </defs>\r\n       <use xlink:href=\"#DejaVuSans-31\"/>\r\n       <use x=\"63.623047\" xlink:href=\"#DejaVuSans-39\"/>\r\n       <use x=\"127.246094\" xlink:href=\"#DejaVuSans-36\"/>\r\n       <use x=\"190.869141\" xlink:href=\"#DejaVuSans-30\"/>\r\n      </g>\r\n     </g>\r\n    </g>\r\n    <g id=\"xtick_4\">\r\n     <g id=\"line2d_4\">\r\n      <g>\r\n       <use style=\"stroke:#000000;stroke-width:0.8;\" x=\"296.00483\" xlink:href=\"#md30f763336\" y=\"239.758125\"/>\r\n      </g>\r\n     </g>\r\n     <g id=\"text_4\">\r\n      <!-- 1980 -->\r\n      <g transform=\"translate(283.27983 254.356562)scale(0.1 -0.1)\">\r\n       <defs>\r\n        <path d=\"M 2034 2216 \r\nQ 1584 2216 1326 1975 \r\nQ 1069 1734 1069 1313 \r\nQ 1069 891 1326 650 \r\nQ 1584 409 2034 409 \r\nQ 2484 409 2743 651 \r\nQ 3003 894 3003 1313 \r\nQ 3003 1734 2745 1975 \r\nQ 2488 2216 2034 2216 \r\nz\r\nM 1403 2484 \r\nQ 997 2584 770 2862 \r\nQ 544 3141 544 3541 \r\nQ 544 4100 942 4425 \r\nQ 1341 4750 2034 4750 \r\nQ 2731 4750 3128 4425 \r\nQ 3525 4100 3525 3541 \r\nQ 3525 3141 3298 2862 \r\nQ 3072 2584 2669 2484 \r\nQ 3125 2378 3379 2068 \r\nQ 3634 1759 3634 1313 \r\nQ 3634 634 3220 271 \r\nQ 2806 -91 2034 -91 \r\nQ 1263 -91 848 271 \r\nQ 434 634 434 1313 \r\nQ 434 1759 690 2068 \r\nQ 947 2378 1403 2484 \r\nz\r\nM 1172 3481 \r\nQ 1172 3119 1398 2916 \r\nQ 1625 2713 2034 2713 \r\nQ 2441 2713 2670 2916 \r\nQ 2900 3119 2900 3481 \r\nQ 2900 3844 2670 4047 \r\nQ 2441 4250 2034 4250 \r\nQ 1625 4250 1398 4047 \r\nQ 1172 3844 1172 3481 \r\nz\r\n\" id=\"DejaVuSans-38\" transform=\"scale(0.015625)\"/>\r\n       </defs>\r\n       <use xlink:href=\"#DejaVuSans-31\"/>\r\n       <use x=\"63.623047\" xlink:href=\"#DejaVuSans-39\"/>\r\n       <use x=\"127.246094\" xlink:href=\"#DejaVuSans-38\"/>\r\n       <use x=\"190.869141\" xlink:href=\"#DejaVuSans-30\"/>\r\n      </g>\r\n     </g>\r\n    </g>\r\n    <g id=\"xtick_5\">\r\n     <g id=\"line2d_5\">\r\n      <g>\r\n       <use style=\"stroke:#000000;stroke-width:0.8;\" x=\"363.641193\" xlink:href=\"#md30f763336\" y=\"239.758125\"/>\r\n      </g>\r\n     </g>\r\n     <g id=\"text_5\">\r\n      <!-- 2000 -->\r\n      <g transform=\"translate(350.916193 254.356562)scale(0.1 -0.1)\">\r\n       <use xlink:href=\"#DejaVuSans-32\"/>\r\n       <use x=\"63.623047\" xlink:href=\"#DejaVuSans-30\"/>\r\n       <use x=\"127.246094\" xlink:href=\"#DejaVuSans-30\"/>\r\n       <use x=\"190.869141\" xlink:href=\"#DejaVuSans-30\"/>\r\n      </g>\r\n     </g>\r\n    </g>\r\n    <g id=\"text_6\">\r\n     <!-- Year -->\r\n     <g transform=\"translate(200.871875 268.034687)scale(0.1 -0.1)\">\r\n      <defs>\r\n       <path d=\"M -13 4666 \r\nL 666 4666 \r\nL 1959 2747 \r\nL 3244 4666 \r\nL 3922 4666 \r\nL 2272 2222 \r\nL 2272 0 \r\nL 1638 0 \r\nL 1638 2222 \r\nL -13 4666 \r\nz\r\n\" id=\"DejaVuSans-59\" transform=\"scale(0.015625)\"/>\r\n       <path d=\"M 3597 1894 \r\nL 3597 1613 \r\nL 953 1613 \r\nQ 991 1019 1311 708 \r\nQ 1631 397 2203 397 \r\nQ 2534 397 2845 478 \r\nQ 3156 559 3463 722 \r\nL 3463 178 \r\nQ 3153 47 2828 -22 \r\nQ 2503 -91 2169 -91 \r\nQ 1331 -91 842 396 \r\nQ 353 884 353 1716 \r\nQ 353 2575 817 3079 \r\nQ 1281 3584 2069 3584 \r\nQ 2775 3584 3186 3129 \r\nQ 3597 2675 3597 1894 \r\nz\r\nM 3022 2063 \r\nQ 3016 2534 2758 2815 \r\nQ 2500 3097 2075 3097 \r\nQ 1594 3097 1305 2825 \r\nQ 1016 2553 972 2059 \r\nL 3022 2063 \r\nz\r\n\" id=\"DejaVuSans-65\" transform=\"scale(0.015625)\"/>\r\n       <path d=\"M 2194 1759 \r\nQ 1497 1759 1228 1600 \r\nQ 959 1441 959 1056 \r\nQ 959 750 1161 570 \r\nQ 1363 391 1709 391 \r\nQ 2188 391 2477 730 \r\nQ 2766 1069 2766 1631 \r\nL 2766 1759 \r\nL 2194 1759 \r\nz\r\nM 3341 1997 \r\nL 3341 0 \r\nL 2766 0 \r\nL 2766 531 \r\nQ 2569 213 2275 61 \r\nQ 1981 -91 1556 -91 \r\nQ 1019 -91 701 211 \r\nQ 384 513 384 1019 \r\nQ 384 1609 779 1909 \r\nQ 1175 2209 1959 2209 \r\nL 2766 2209 \r\nL 2766 2266 \r\nQ 2766 2663 2505 2880 \r\nQ 2244 3097 1772 3097 \r\nQ 1472 3097 1187 3025 \r\nQ 903 2953 641 2809 \r\nL 641 3341 \r\nQ 956 3463 1253 3523 \r\nQ 1550 3584 1831 3584 \r\nQ 2591 3584 2966 3190 \r\nQ 3341 2797 3341 1997 \r\nz\r\n\" id=\"DejaVuSans-61\" transform=\"scale(0.015625)\"/>\r\n       <path d=\"M 2631 2963 \r\nQ 2534 3019 2420 3045 \r\nQ 2306 3072 2169 3072 \r\nQ 1681 3072 1420 2755 \r\nQ 1159 2438 1159 1844 \r\nL 1159 0 \r\nL 581 0 \r\nL 581 3500 \r\nL 1159 3500 \r\nL 1159 2956 \r\nQ 1341 3275 1631 3429 \r\nQ 1922 3584 2338 3584 \r\nQ 2397 3584 2469 3576 \r\nQ 2541 3569 2628 3553 \r\nL 2631 2963 \r\nz\r\n\" id=\"DejaVuSans-72\" transform=\"scale(0.015625)\"/>\r\n      </defs>\r\n      <use xlink:href=\"#DejaVuSans-59\"/>\r\n      <use x=\"47.833984\" xlink:href=\"#DejaVuSans-65\"/>\r\n      <use x=\"109.357422\" xlink:href=\"#DejaVuSans-61\"/>\r\n      <use x=\"170.636719\" xlink:href=\"#DejaVuSans-72\"/>\r\n     </g>\r\n    </g>\r\n   </g>\r\n   <g id=\"matplotlib.axis_2\">\r\n    <g id=\"ytick_1\">\r\n     <g id=\"line2d_6\">\r\n      <defs>\r\n       <path d=\"M 0 0 \r\nL -3.5 0 \r\n\" id=\"me10b02d129\" style=\"stroke:#000000;stroke-width:0.8;\"/>\r\n      </defs>\r\n      <g>\r\n       <use style=\"stroke:#000000;stroke-width:0.8;\" x=\"44.059375\" xlink:href=\"#me10b02d129\" y=\"232.6868\"/>\r\n      </g>\r\n     </g>\r\n     <g id=\"text_7\">\r\n      <!-- 6.2 -->\r\n      <g transform=\"translate(21.15625 236.486018)scale(0.1 -0.1)\">\r\n       <defs>\r\n        <path d=\"M 684 794 \r\nL 1344 794 \r\nL 1344 0 \r\nL 684 0 \r\nL 684 794 \r\nz\r\n\" id=\"DejaVuSans-2e\" transform=\"scale(0.015625)\"/>\r\n       </defs>\r\n       <use xlink:href=\"#DejaVuSans-36\"/>\r\n       <use x=\"63.623047\" xlink:href=\"#DejaVuSans-2e\"/>\r\n       <use x=\"95.410156\" xlink:href=\"#DejaVuSans-32\"/>\r\n      </g>\r\n     </g>\r\n    </g>\r\n    <g id=\"ytick_2\">\r\n     <g id=\"line2d_7\">\r\n      <g>\r\n       <use style=\"stroke:#000000;stroke-width:0.8;\" x=\"44.059375\" xlink:href=\"#me10b02d129\" y=\"208.102019\"/>\r\n      </g>\r\n     </g>\r\n     <g id=\"text_8\">\r\n      <!-- 6.3 -->\r\n      <g transform=\"translate(21.15625 211.901238)scale(0.1 -0.1)\">\r\n       <defs>\r\n        <path d=\"M 2597 2516 \r\nQ 3050 2419 3304 2112 \r\nQ 3559 1806 3559 1356 \r\nQ 3559 666 3084 287 \r\nQ 2609 -91 1734 -91 \r\nQ 1441 -91 1130 -33 \r\nQ 819 25 488 141 \r\nL 488 750 \r\nQ 750 597 1062 519 \r\nQ 1375 441 1716 441 \r\nQ 2309 441 2620 675 \r\nQ 2931 909 2931 1356 \r\nQ 2931 1769 2642 2001 \r\nQ 2353 2234 1838 2234 \r\nL 1294 2234 \r\nL 1294 2753 \r\nL 1863 2753 \r\nQ 2328 2753 2575 2939 \r\nQ 2822 3125 2822 3475 \r\nQ 2822 3834 2567 4026 \r\nQ 2313 4219 1838 4219 \r\nQ 1578 4219 1281 4162 \r\nQ 984 4106 628 3988 \r\nL 628 4550 \r\nQ 988 4650 1302 4700 \r\nQ 1616 4750 1894 4750 \r\nQ 2613 4750 3031 4423 \r\nQ 3450 4097 3450 3541 \r\nQ 3450 3153 3228 2886 \r\nQ 3006 2619 2597 2516 \r\nz\r\n\" id=\"DejaVuSans-33\" transform=\"scale(0.015625)\"/>\r\n       </defs>\r\n       <use xlink:href=\"#DejaVuSans-36\"/>\r\n       <use x=\"63.623047\" xlink:href=\"#DejaVuSans-2e\"/>\r\n       <use x=\"95.410156\" xlink:href=\"#DejaVuSans-33\"/>\r\n      </g>\r\n     </g>\r\n    </g>\r\n    <g id=\"ytick_3\">\r\n     <g id=\"line2d_8\">\r\n      <g>\r\n       <use style=\"stroke:#000000;stroke-width:0.8;\" x=\"44.059375\" xlink:href=\"#me10b02d129\" y=\"183.517239\"/>\r\n      </g>\r\n     </g>\r\n     <g id=\"text_9\">\r\n      <!-- 6.4 -->\r\n      <g transform=\"translate(21.15625 187.316457)scale(0.1 -0.1)\">\r\n       <use xlink:href=\"#DejaVuSans-36\"/>\r\n       <use x=\"63.623047\" xlink:href=\"#DejaVuSans-2e\"/>\r\n       <use x=\"95.410156\" xlink:href=\"#DejaVuSans-34\"/>\r\n      </g>\r\n     </g>\r\n    </g>\r\n    <g id=\"ytick_4\">\r\n     <g id=\"line2d_9\">\r\n      <g>\r\n       <use style=\"stroke:#000000;stroke-width:0.8;\" x=\"44.059375\" xlink:href=\"#me10b02d129\" y=\"158.932458\"/>\r\n      </g>\r\n     </g>\r\n     <g id=\"text_10\">\r\n      <!-- 6.5 -->\r\n      <g transform=\"translate(21.15625 162.731677)scale(0.1 -0.1)\">\r\n       <defs>\r\n        <path d=\"M 691 4666 \r\nL 3169 4666 \r\nL 3169 4134 \r\nL 1269 4134 \r\nL 1269 2991 \r\nQ 1406 3038 1543 3061 \r\nQ 1681 3084 1819 3084 \r\nQ 2600 3084 3056 2656 \r\nQ 3513 2228 3513 1497 \r\nQ 3513 744 3044 326 \r\nQ 2575 -91 1722 -91 \r\nQ 1428 -91 1123 -41 \r\nQ 819 9 494 109 \r\nL 494 744 \r\nQ 775 591 1075 516 \r\nQ 1375 441 1709 441 \r\nQ 2250 441 2565 725 \r\nQ 2881 1009 2881 1497 \r\nQ 2881 1984 2565 2268 \r\nQ 2250 2553 1709 2553 \r\nQ 1456 2553 1204 2497 \r\nQ 953 2441 691 2322 \r\nL 691 4666 \r\nz\r\n\" id=\"DejaVuSans-35\" transform=\"scale(0.015625)\"/>\r\n       </defs>\r\n       <use xlink:href=\"#DejaVuSans-36\"/>\r\n       <use x=\"63.623047\" xlink:href=\"#DejaVuSans-2e\"/>\r\n       <use x=\"95.410156\" xlink:href=\"#DejaVuSans-35\"/>\r\n      </g>\r\n     </g>\r\n    </g>\r\n    <g id=\"ytick_5\">\r\n     <g id=\"line2d_10\">\r\n      <g>\r\n       <use style=\"stroke:#000000;stroke-width:0.8;\" x=\"44.059375\" xlink:href=\"#me10b02d129\" y=\"134.347678\"/>\r\n      </g>\r\n     </g>\r\n     <g id=\"text_11\">\r\n      <!-- 6.6 -->\r\n      <g transform=\"translate(21.15625 138.146896)scale(0.1 -0.1)\">\r\n       <use xlink:href=\"#DejaVuSans-36\"/>\r\n       <use x=\"63.623047\" xlink:href=\"#DejaVuSans-2e\"/>\r\n       <use x=\"95.410156\" xlink:href=\"#DejaVuSans-36\"/>\r\n      </g>\r\n     </g>\r\n    </g>\r\n    <g id=\"ytick_6\">\r\n     <g id=\"line2d_11\">\r\n      <g>\r\n       <use style=\"stroke:#000000;stroke-width:0.8;\" x=\"44.059375\" xlink:href=\"#me10b02d129\" y=\"109.762897\"/>\r\n      </g>\r\n     </g>\r\n     <g id=\"text_12\">\r\n      <!-- 6.7 -->\r\n      <g transform=\"translate(21.15625 113.562116)scale(0.1 -0.1)\">\r\n       <defs>\r\n        <path d=\"M 525 4666 \r\nL 3525 4666 \r\nL 3525 4397 \r\nL 1831 0 \r\nL 1172 0 \r\nL 2766 4134 \r\nL 525 4134 \r\nL 525 4666 \r\nz\r\n\" id=\"DejaVuSans-37\" transform=\"scale(0.015625)\"/>\r\n       </defs>\r\n       <use xlink:href=\"#DejaVuSans-36\"/>\r\n       <use x=\"63.623047\" xlink:href=\"#DejaVuSans-2e\"/>\r\n       <use x=\"95.410156\" xlink:href=\"#DejaVuSans-37\"/>\r\n      </g>\r\n     </g>\r\n    </g>\r\n    <g id=\"ytick_7\">\r\n     <g id=\"line2d_12\">\r\n      <g>\r\n       <use style=\"stroke:#000000;stroke-width:0.8;\" x=\"44.059375\" xlink:href=\"#me10b02d129\" y=\"85.178117\"/>\r\n      </g>\r\n     </g>\r\n     <g id=\"text_13\">\r\n      <!-- 6.8 -->\r\n      <g transform=\"translate(21.15625 88.977336)scale(0.1 -0.1)\">\r\n       <use xlink:href=\"#DejaVuSans-36\"/>\r\n       <use x=\"63.623047\" xlink:href=\"#DejaVuSans-2e\"/>\r\n       <use x=\"95.410156\" xlink:href=\"#DejaVuSans-38\"/>\r\n      </g>\r\n     </g>\r\n    </g>\r\n    <g id=\"ytick_8\">\r\n     <g id=\"line2d_13\">\r\n      <g>\r\n       <use style=\"stroke:#000000;stroke-width:0.8;\" x=\"44.059375\" xlink:href=\"#me10b02d129\" y=\"60.593336\"/>\r\n      </g>\r\n     </g>\r\n     <g id=\"text_14\">\r\n      <!-- 6.9 -->\r\n      <g transform=\"translate(21.15625 64.392555)scale(0.1 -0.1)\">\r\n       <use xlink:href=\"#DejaVuSans-36\"/>\r\n       <use x=\"63.623047\" xlink:href=\"#DejaVuSans-2e\"/>\r\n       <use x=\"95.410156\" xlink:href=\"#DejaVuSans-39\"/>\r\n      </g>\r\n     </g>\r\n    </g>\r\n    <g id=\"ytick_9\">\r\n     <g id=\"line2d_14\">\r\n      <g>\r\n       <use style=\"stroke:#000000;stroke-width:0.8;\" x=\"44.059375\" xlink:href=\"#me10b02d129\" y=\"36.008556\"/>\r\n      </g>\r\n     </g>\r\n     <g id=\"text_15\">\r\n      <!-- 7.0 -->\r\n      <g transform=\"translate(21.15625 39.807775)scale(0.1 -0.1)\">\r\n       <use xlink:href=\"#DejaVuSans-37\"/>\r\n       <use x=\"63.623047\" xlink:href=\"#DejaVuSans-2e\"/>\r\n       <use x=\"95.410156\" xlink:href=\"#DejaVuSans-30\"/>\r\n      </g>\r\n     </g>\r\n    </g>\r\n    <g id=\"text_16\">\r\n     <!-- netflix_rating -->\r\n     <g transform=\"translate(14.798438 164.052969)rotate(-90)scale(0.1 -0.1)\">\r\n      <defs>\r\n       <path d=\"M 3513 2113 \r\nL 3513 0 \r\nL 2938 0 \r\nL 2938 2094 \r\nQ 2938 2591 2744 2837 \r\nQ 2550 3084 2163 3084 \r\nQ 1697 3084 1428 2787 \r\nQ 1159 2491 1159 1978 \r\nL 1159 0 \r\nL 581 0 \r\nL 581 3500 \r\nL 1159 3500 \r\nL 1159 2956 \r\nQ 1366 3272 1645 3428 \r\nQ 1925 3584 2291 3584 \r\nQ 2894 3584 3203 3211 \r\nQ 3513 2838 3513 2113 \r\nz\r\n\" id=\"DejaVuSans-6e\" transform=\"scale(0.015625)\"/>\r\n       <path d=\"M 1172 4494 \r\nL 1172 3500 \r\nL 2356 3500 \r\nL 2356 3053 \r\nL 1172 3053 \r\nL 1172 1153 \r\nQ 1172 725 1289 603 \r\nQ 1406 481 1766 481 \r\nL 2356 481 \r\nL 2356 0 \r\nL 1766 0 \r\nQ 1100 0 847 248 \r\nQ 594 497 594 1153 \r\nL 594 3053 \r\nL 172 3053 \r\nL 172 3500 \r\nL 594 3500 \r\nL 594 4494 \r\nL 1172 4494 \r\nz\r\n\" id=\"DejaVuSans-74\" transform=\"scale(0.015625)\"/>\r\n       <path d=\"M 2375 4863 \r\nL 2375 4384 \r\nL 1825 4384 \r\nQ 1516 4384 1395 4259 \r\nQ 1275 4134 1275 3809 \r\nL 1275 3500 \r\nL 2222 3500 \r\nL 2222 3053 \r\nL 1275 3053 \r\nL 1275 0 \r\nL 697 0 \r\nL 697 3053 \r\nL 147 3053 \r\nL 147 3500 \r\nL 697 3500 \r\nL 697 3744 \r\nQ 697 4328 969 4595 \r\nQ 1241 4863 1831 4863 \r\nL 2375 4863 \r\nz\r\n\" id=\"DejaVuSans-66\" transform=\"scale(0.015625)\"/>\r\n       <path d=\"M 603 4863 \r\nL 1178 4863 \r\nL 1178 0 \r\nL 603 0 \r\nL 603 4863 \r\nz\r\n\" id=\"DejaVuSans-6c\" transform=\"scale(0.015625)\"/>\r\n       <path d=\"M 603 3500 \r\nL 1178 3500 \r\nL 1178 0 \r\nL 603 0 \r\nL 603 3500 \r\nz\r\nM 603 4863 \r\nL 1178 4863 \r\nL 1178 4134 \r\nL 603 4134 \r\nL 603 4863 \r\nz\r\n\" id=\"DejaVuSans-69\" transform=\"scale(0.015625)\"/>\r\n       <path d=\"M 3513 3500 \r\nL 2247 1797 \r\nL 3578 0 \r\nL 2900 0 \r\nL 1881 1375 \r\nL 863 0 \r\nL 184 0 \r\nL 1544 1831 \r\nL 300 3500 \r\nL 978 3500 \r\nL 1906 2253 \r\nL 2834 3500 \r\nL 3513 3500 \r\nz\r\n\" id=\"DejaVuSans-78\" transform=\"scale(0.015625)\"/>\r\n       <path d=\"M 3263 -1063 \r\nL 3263 -1509 \r\nL -63 -1509 \r\nL -63 -1063 \r\nL 3263 -1063 \r\nz\r\n\" id=\"DejaVuSans-5f\" transform=\"scale(0.015625)\"/>\r\n       <path d=\"M 2906 1791 \r\nQ 2906 2416 2648 2759 \r\nQ 2391 3103 1925 3103 \r\nQ 1463 3103 1205 2759 \r\nQ 947 2416 947 1791 \r\nQ 947 1169 1205 825 \r\nQ 1463 481 1925 481 \r\nQ 2391 481 2648 825 \r\nQ 2906 1169 2906 1791 \r\nz\r\nM 3481 434 \r\nQ 3481 -459 3084 -895 \r\nQ 2688 -1331 1869 -1331 \r\nQ 1566 -1331 1297 -1286 \r\nQ 1028 -1241 775 -1147 \r\nL 775 -588 \r\nQ 1028 -725 1275 -790 \r\nQ 1522 -856 1778 -856 \r\nQ 2344 -856 2625 -561 \r\nQ 2906 -266 2906 331 \r\nL 2906 616 \r\nQ 2728 306 2450 153 \r\nQ 2172 0 1784 0 \r\nQ 1141 0 747 490 \r\nQ 353 981 353 1791 \r\nQ 353 2603 747 3093 \r\nQ 1141 3584 1784 3584 \r\nQ 2172 3584 2450 3431 \r\nQ 2728 3278 2906 2969 \r\nL 2906 3500 \r\nL 3481 3500 \r\nL 3481 434 \r\nz\r\n\" id=\"DejaVuSans-67\" transform=\"scale(0.015625)\"/>\r\n      </defs>\r\n      <use xlink:href=\"#DejaVuSans-6e\"/>\r\n      <use x=\"63.378906\" xlink:href=\"#DejaVuSans-65\"/>\r\n      <use x=\"124.902344\" xlink:href=\"#DejaVuSans-74\"/>\r\n      <use x=\"164.111328\" xlink:href=\"#DejaVuSans-66\"/>\r\n      <use x=\"199.316406\" xlink:href=\"#DejaVuSans-6c\"/>\r\n      <use x=\"227.099609\" xlink:href=\"#DejaVuSans-69\"/>\r\n      <use x=\"254.882812\" xlink:href=\"#DejaVuSans-78\"/>\r\n      <use x=\"314.0625\" xlink:href=\"#DejaVuSans-5f\"/>\r\n      <use x=\"364.0625\" xlink:href=\"#DejaVuSans-72\"/>\r\n      <use x=\"405.175781\" xlink:href=\"#DejaVuSans-61\"/>\r\n      <use x=\"466.455078\" xlink:href=\"#DejaVuSans-74\"/>\r\n      <use x=\"505.664062\" xlink:href=\"#DejaVuSans-69\"/>\r\n      <use x=\"533.447266\" xlink:href=\"#DejaVuSans-6e\"/>\r\n      <use x=\"596.826172\" xlink:href=\"#DejaVuSans-67\"/>\r\n     </g>\r\n    </g>\r\n   </g>\r\n   <g id=\"line2d_15\">\r\n    <path clip-path=\"url(#p535abed19e)\" d=\"M 59.277557 192.457159 \r\nL 93.095739 168.749646 \r\nL 126.91392 64.295919 \r\nL 160.732102 32.201761 \r\nL 194.550284 64.097459 \r\nL 228.368466 73.836128 \r\nL 262.186648 158.01333 \r\nL 296.00483 150.882432 \r\nL 329.823011 176.427694 \r\nL 363.641193 229.874489 \r\n\" style=\"fill:none;stroke:#1f77b4;stroke-linecap:square;stroke-width:1.5;\"/>\r\n   </g>\r\n   <g id=\"patch_3\">\r\n    <path d=\"M 44.059375 239.758125 \r\nL 44.059375 22.318125 \r\n\" style=\"fill:none;stroke:#000000;stroke-linecap:square;stroke-linejoin:miter;stroke-width:0.8;\"/>\r\n   </g>\r\n   <g id=\"patch_4\">\r\n    <path d=\"M 378.859375 239.758125 \r\nL 378.859375 22.318125 \r\n\" style=\"fill:none;stroke:#000000;stroke-linecap:square;stroke-linejoin:miter;stroke-width:0.8;\"/>\r\n   </g>\r\n   <g id=\"patch_5\">\r\n    <path d=\"M 44.059375 239.758125 \r\nL 378.859375 239.758125 \r\n\" style=\"fill:none;stroke:#000000;stroke-linecap:square;stroke-linejoin:miter;stroke-width:0.8;\"/>\r\n   </g>\r\n   <g id=\"patch_6\">\r\n    <path d=\"M 44.059375 22.318125 \r\nL 378.859375 22.318125 \r\n\" style=\"fill:none;stroke:#000000;stroke-linecap:square;stroke-linejoin:miter;stroke-width:0.8;\"/>\r\n   </g>\r\n   <g id=\"text_17\">\r\n    <!-- netflix_rating evolution over time -->\r\n    <g transform=\"translate(111.308125 16.318125)scale(0.12 -0.12)\">\r\n     <defs>\r\n      <path id=\"DejaVuSans-20\" transform=\"scale(0.015625)\"/>\r\n      <path d=\"M 191 3500 \r\nL 800 3500 \r\nL 1894 563 \r\nL 2988 3500 \r\nL 3597 3500 \r\nL 2284 0 \r\nL 1503 0 \r\nL 191 3500 \r\nz\r\n\" id=\"DejaVuSans-76\" transform=\"scale(0.015625)\"/>\r\n      <path d=\"M 1959 3097 \r\nQ 1497 3097 1228 2736 \r\nQ 959 2375 959 1747 \r\nQ 959 1119 1226 758 \r\nQ 1494 397 1959 397 \r\nQ 2419 397 2687 759 \r\nQ 2956 1122 2956 1747 \r\nQ 2956 2369 2687 2733 \r\nQ 2419 3097 1959 3097 \r\nz\r\nM 1959 3584 \r\nQ 2709 3584 3137 3096 \r\nQ 3566 2609 3566 1747 \r\nQ 3566 888 3137 398 \r\nQ 2709 -91 1959 -91 \r\nQ 1206 -91 779 398 \r\nQ 353 888 353 1747 \r\nQ 353 2609 779 3096 \r\nQ 1206 3584 1959 3584 \r\nz\r\n\" id=\"DejaVuSans-6f\" transform=\"scale(0.015625)\"/>\r\n      <path d=\"M 544 1381 \r\nL 544 3500 \r\nL 1119 3500 \r\nL 1119 1403 \r\nQ 1119 906 1312 657 \r\nQ 1506 409 1894 409 \r\nQ 2359 409 2629 706 \r\nQ 2900 1003 2900 1516 \r\nL 2900 3500 \r\nL 3475 3500 \r\nL 3475 0 \r\nL 2900 0 \r\nL 2900 538 \r\nQ 2691 219 2414 64 \r\nQ 2138 -91 1772 -91 \r\nQ 1169 -91 856 284 \r\nQ 544 659 544 1381 \r\nz\r\nM 1991 3584 \r\nL 1991 3584 \r\nz\r\n\" id=\"DejaVuSans-75\" transform=\"scale(0.015625)\"/>\r\n      <path d=\"M 3328 2828 \r\nQ 3544 3216 3844 3400 \r\nQ 4144 3584 4550 3584 \r\nQ 5097 3584 5394 3201 \r\nQ 5691 2819 5691 2113 \r\nL 5691 0 \r\nL 5113 0 \r\nL 5113 2094 \r\nQ 5113 2597 4934 2840 \r\nQ 4756 3084 4391 3084 \r\nQ 3944 3084 3684 2787 \r\nQ 3425 2491 3425 1978 \r\nL 3425 0 \r\nL 2847 0 \r\nL 2847 2094 \r\nQ 2847 2600 2669 2842 \r\nQ 2491 3084 2119 3084 \r\nQ 1678 3084 1418 2786 \r\nQ 1159 2488 1159 1978 \r\nL 1159 0 \r\nL 581 0 \r\nL 581 3500 \r\nL 1159 3500 \r\nL 1159 2956 \r\nQ 1356 3278 1631 3431 \r\nQ 1906 3584 2284 3584 \r\nQ 2666 3584 2933 3390 \r\nQ 3200 3197 3328 2828 \r\nz\r\n\" id=\"DejaVuSans-6d\" transform=\"scale(0.015625)\"/>\r\n     </defs>\r\n     <use xlink:href=\"#DejaVuSans-6e\"/>\r\n     <use x=\"63.378906\" xlink:href=\"#DejaVuSans-65\"/>\r\n     <use x=\"124.902344\" xlink:href=\"#DejaVuSans-74\"/>\r\n     <use x=\"164.111328\" xlink:href=\"#DejaVuSans-66\"/>\r\n     <use x=\"199.316406\" xlink:href=\"#DejaVuSans-6c\"/>\r\n     <use x=\"227.099609\" xlink:href=\"#DejaVuSans-69\"/>\r\n     <use x=\"254.882812\" xlink:href=\"#DejaVuSans-78\"/>\r\n     <use x=\"314.0625\" xlink:href=\"#DejaVuSans-5f\"/>\r\n     <use x=\"364.0625\" xlink:href=\"#DejaVuSans-72\"/>\r\n     <use x=\"405.175781\" xlink:href=\"#DejaVuSans-61\"/>\r\n     <use x=\"466.455078\" xlink:href=\"#DejaVuSans-74\"/>\r\n     <use x=\"505.664062\" xlink:href=\"#DejaVuSans-69\"/>\r\n     <use x=\"533.447266\" xlink:href=\"#DejaVuSans-6e\"/>\r\n     <use x=\"596.826172\" xlink:href=\"#DejaVuSans-67\"/>\r\n     <use x=\"660.302734\" xlink:href=\"#DejaVuSans-20\"/>\r\n     <use x=\"692.089844\" xlink:href=\"#DejaVuSans-65\"/>\r\n     <use x=\"753.613281\" xlink:href=\"#DejaVuSans-76\"/>\r\n     <use x=\"812.792969\" xlink:href=\"#DejaVuSans-6f\"/>\r\n     <use x=\"873.974609\" xlink:href=\"#DejaVuSans-6c\"/>\r\n     <use x=\"901.757812\" xlink:href=\"#DejaVuSans-75\"/>\r\n     <use x=\"965.136719\" xlink:href=\"#DejaVuSans-74\"/>\r\n     <use x=\"1004.345703\" xlink:href=\"#DejaVuSans-69\"/>\r\n     <use x=\"1032.128906\" xlink:href=\"#DejaVuSans-6f\"/>\r\n     <use x=\"1093.310547\" xlink:href=\"#DejaVuSans-6e\"/>\r\n     <use x=\"1156.689453\" xlink:href=\"#DejaVuSans-20\"/>\r\n     <use x=\"1188.476562\" xlink:href=\"#DejaVuSans-6f\"/>\r\n     <use x=\"1249.658203\" xlink:href=\"#DejaVuSans-76\"/>\r\n     <use x=\"1308.837891\" xlink:href=\"#DejaVuSans-65\"/>\r\n     <use x=\"1370.361328\" xlink:href=\"#DejaVuSans-72\"/>\r\n     <use x=\"1411.474609\" xlink:href=\"#DejaVuSans-20\"/>\r\n     <use x=\"1443.261719\" xlink:href=\"#DejaVuSans-74\"/>\r\n     <use x=\"1482.470703\" xlink:href=\"#DejaVuSans-69\"/>\r\n     <use x=\"1510.253906\" xlink:href=\"#DejaVuSans-6d\"/>\r\n     <use x=\"1607.666016\" xlink:href=\"#DejaVuSans-65\"/>\r\n    </g>\r\n   </g>\r\n  </g>\r\n </g>\r\n <defs>\r\n  <clipPath id=\"p535abed19e\">\r\n   <rect height=\"217.44\" width=\"334.8\" x=\"44.059375\" y=\"22.318125\"/>\r\n  </clipPath>\r\n </defs>\r\n</svg>\r\n",
      "image/png": "[encoded data removed]"
     },
     "metadata": {
      "needs_background": "light"
     }
    }
   ],
   "source": [
    "viz.plot_year_lineplot(save=reports)"
   ]
  },
  {
   "source": [
    "For a basic understanding of each genre’s word popularity, a word cloud was made with the\n",
    "use of the wordcloud python library."
   ],
   "cell_type": "markdown",
   "metadata": {}
  },
  {
   "cell_type": "code",
   "execution_count": 7,
   "metadata": {},
   "outputs": [
    {
     "output_type": "display_data",
     "data": {
      "text/plain": "<Figure size 432x288 with 1 Axes>",
      "image/svg+xml": "<?xml version=\"1.0\" encoding=\"utf-8\" standalone=\"no\"?>\r\n<!DOCTYPE svg PUBLIC \"-//W3C//DTD SVG 1.1//EN\"\r\n  \"http://www.w3.org/Graphics/SVG/1.1/DTD/svg11.dtd\">\r\n<svg height=\"181.8pt\" version=\"1.1\" viewBox=\"0 0 349.2 181.8\" width=\"349.2pt\" xmlns=\"http://www.w3.org/2000/svg\" xmlns:xlink=\"http://www.w3.org/1999/xlink\">\r\n <metadata>\r\n  <rdf:RDF xmlns:cc=\"http://creativecommons.org/ns#\" xmlns:dc=\"http://purl.org/dc/elements/1.1/\" xmlns:rdf=\"http://www.w3.org/1999/02/22-rdf-syntax-ns#\">\r\n   <cc:Work>\r\n    <dc:type rdf:resource=\"http://purl.org/dc/dcmitype/StillImage\"/>\r\n    <dc:date>2021-06-01T19:35:25.595501</dc:date>\r\n    <dc:format>image/svg+xml</dc:format>\r\n    <dc:creator>\r\n     <cc:Agent>\r\n      <dc:title>Matplotlib v3.4.1, https://matplotlib.org/</dc:title>\r\n     </cc:Agent>\r\n    </dc:creator>\r\n   </cc:Work>\r\n  </rdf:RDF>\r\n </metadata>\r\n <defs>\r\n  <style type=\"text/css\">*{stroke-linecap:butt;stroke-linejoin:round;}</style>\r\n </defs>\r\n <g id=\"figure_1\">\r\n  <g id=\"patch_1\">\r\n   <path d=\"M 0 181.8 \r\nL 349.2 181.8 \r\nL 349.2 0 \r\nL 0 0 \r\nz\r\n\" style=\"fill:none;\"/>\r\n  </g>\r\n  <g id=\"axes_1\">\r\n   <g clip-path=\"url(#p3e1e2f1f70)\">\r\n    <image height=\"168\" id=\"imageb9af4396b9\" transform=\"scale(1 -1)translate(0 -168)\" width=\"335\" x=\"7.2\" xlink:href=\"data:image/png;base64,\r\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\" y=\"-6.6\"/>\r\n   </g>\r\n  </g>\r\n </g>\r\n <defs>\r\n  <clipPath id=\"p3e1e2f1f70\">\r\n   <rect height=\"167.4\" width=\"334.8\" x=\"7.2\" y=\"7.2\"/>\r\n  </clipPath>\r\n </defs>\r\n</svg>\r\n",
      "image/png": "[encoded data removed]"
     },
     "metadata": {
      "needs_background": "light"
     }
    }
   ],
   "source": [
    "viz.generate_wordcloud('Romance', save=reports) #Romance WordCloud example."
   ]
  },
  {
   "source": [
    "For further information, an interactive Treemap containing all genres was made."
   ],
   "cell_type": "markdown",
   "metadata": {}
  },
  {
   "cell_type": "code",
   "execution_count": 3,
   "metadata": {},
   "outputs": [
    {
     "output_type": "display_data",
     "data": {
      "application/vnd.plotly.v1+json": {
       "config": {
        "plotlyServerURL": "https://plot.ly"
       },
       "data": [
        {
         "branchvalues": "total",
         "customdata": [
          [
           6.2224341034887845
          ],
          [
           7.027787299409381
          ],
          [
           6.906799812274757
          ],
          [
           7.0733613508800115
          ],
          [
           6.949688718853177
          ],
          [
           6.92705695408207
          ],
          [
           6.795146898859097
          ],
          [
           6.929493268415761
          ],
          [
           6.9551841692760235
          ],
          [
           6.916896994789228
          ],
          [
           6.351229507645311
          ],
          [
           6.721072632139763
          ],
          [
           6.386891306579
          ],
          [
           6.376080342149465
          ],
          [
           6.465405490968692
          ],
          [
           6.786108871518495
          ],
          [
           6.788985248047541
          ],
          [
           6.309854852239401
          ],
          [
           7.174398923072788
          ],
          [
           6.750653436888491
          ],
          [
           7.035948742708228
          ],
          [
           6.891814433470241
          ],
          [
           6.979768246559384
          ],
          [
           6.7784397125642855
          ],
          [
           6.707571475023413
          ],
          [
           6.776455849816242
          ],
          [
           6.77849674999397
          ],
          [
           7.022758455346263
          ],
          [
           6.487876382564927
          ],
          [
           6.753828893376886
          ],
          [
           5.626418034723319
          ],
          [
           6.781758874168192
          ],
          [
           7.051434035523243
          ],
          [
           6.532480729646347
          ],
          [
           6.33333157374632
          ],
          [
           6.346363640908568
          ],
          [
           6.740102992158381
          ],
          [
           6.565375204853618
          ],
          [
           6.476243694649054
          ],
          [
           6.53186782056428
          ],
          [
           6.269219970942396
          ],
          [
           6.859268589807575
          ],
          [
           6.442643908637098
          ],
          [
           6.281332606696227
          ],
          [
           6.74808143715863
          ],
          [
           7.072492733995231
          ],
          [
           6.957804958489726
          ],
          [
           6.225535353166274
          ],
          [
           7.164137828009999
          ],
          [
           6.669264549927725
          ],
          [
           6.882704117560124
          ],
          [
           6.648927118635071
          ],
          [
           6.277663558658006
          ],
          [
           5.417108993285102
          ],
          [
           6.137367589272294
          ],
          [
           6.783785220169906
          ],
          [
           6.498018303737298
          ],
          [
           6.661473720942775
          ],
          [
           6.7300129413670176
          ],
          [
           7.220448627152503
          ],
          [
           6.916295582920161
          ],
          [
           6.4748456433228405
          ],
          [
           6.514854310140347
          ],
          [
           6.589686323289676
          ],
          [
           6.91922999254812
          ],
          [
           6.702387117321938
          ],
          [
           6.672068665705947
          ],
          [
           6.692762409051594
          ],
          [
           6.745321615998404
          ],
          [
           6.633788707250357
          ],
          [
           6.562997329741332
          ],
          [
           6.893100135087677
          ],
          [
           6.818107891842889
          ],
          [
           7.074265638867366
          ],
          [
           6.749901905524451
          ],
          [
           6.208894765828067
          ],
          [
           6.9730274060191615
          ],
          [
           6.539954566844731
          ],
          [
           7.245309104277341
          ],
          [
           6.656322694124285
          ],
          [
           6.602153856211
          ],
          [
           6.282624267056393
          ],
          [
           6.794875660930258
          ],
          [
           5.832747788639844
          ],
          [
           6.700957751602057
          ],
          [
           6.330760630075729
          ],
          [
           6.520745782367637
          ],
          [
           6.663779400244938
          ],
          [
           6.640686662388553
          ],
          [
           6.836528656108785
          ],
          [
           6.7223811469225065
          ],
          [
           6.576261967464315
          ],
          [
           6.9578061916783165
          ],
          [
           6.8000735395944805
          ],
          [
           6.816808438629274
          ],
          [
           6.340809277967418
          ],
          [
           6.762189536787423
          ],
          [
           6.698024989011479
          ],
          [
           6.415037723324576
          ],
          [
           6.457871699433044
          ],
          [
           6.7954815940725615
          ],
          [
           7.079708486041695
          ],
          [
           6.394742236673122
          ],
          [
           6.861253501170356
          ],
          [
           6.706736178537255
          ],
          [
           6.881356434301637
          ],
          [
           6.99070760059788
          ],
          [
           6.403032421383086
          ],
          [
           6.697940628139657
          ],
          [
           6.875483929393053
          ],
          [
           6.801293505825231
          ],
          [
           6.910418721704493
          ],
          [
           6.744440611786679
          ],
          [
           6.6193471065057645
          ],
          [
           7.221426763119121
          ],
          [
           6.003973677937551
          ],
          [
           6.460753454700769
          ],
          [
           5.500760306508744
          ],
          [
           5.972518506295315
          ],
          [
           6.151472270236368
          ],
          [
           6.821674650553276
          ],
          [
           6.3491890191232
          ],
          [
           6.402049912301041
          ],
          [
           7.061085525902971
          ],
          [
           6.318587442964708
          ],
          [
           6.660097445798341
          ],
          [
           6.417057050916249
          ],
          [
           6.3036061995708375
          ],
          [
           6.448127903151295
          ],
          [
           6.536024265914858
          ],
          [
           6.740947493845966
          ],
          [
           6.146416201828722
          ],
          [
           6.64051002458912
          ],
          [
           6.641837484915408
          ],
          [
           6.236079665190686
          ],
          [
           6.942576428028624
          ],
          [
           6.684123519451122
          ],
          [
           7.144344638660155
          ],
          [
           7.004649720862632
          ],
          [
           6.947393298128446
          ],
          [
           6.682605916215412
          ],
          [
           6.640441894478744
          ],
          [
           5.743227451317953
          ],
          [
           6.057374783119399
          ],
          [
           6.815374208661607
          ],
          [
           6.551106932071062
          ],
          [
           7.077311533497445
          ],
          [
           6.754649602261505
          ],
          [
           6.436404571272036
          ],
          [
           6.724860483732969
          ],
          [
           5.534993366538591
          ],
          [
           6.571452217262781
          ],
          [
           6.407578570556659
          ],
          [
           6.590361622108172
          ],
          [
           7.2492641843127625
          ],
          [
           6.836566486922054
          ],
          [
           6.483491626811508
          ],
          [
           6.322672273298059
          ],
          [
           6.81932737701772
          ],
          [
           6.5142921998478815
          ],
          [
           6.884656428292298
          ],
          [
           6.670272034738287
          ],
          [
           6.993454490869456
          ],
          [
           6.884023652369649
          ],
          [
           5.833693470458877
          ],
          [
           6.740864338438453
          ],
          [
           6.7854143546886085
          ],
          [
           6.324913357577935
          ],
          [
           6.568838295217589
          ],
          [
           6.35212470842655
          ],
          [
           6.93170355535389
          ],
          [
           6.20335304617996
          ],
          [
           6.927921954157053
          ],
          [
           6.630158023454609
          ],
          [
           6.762084030661918
          ],
          [
           6.74470918354622
          ],
          [
           7.110807092109036
          ],
          [
           7.127671369479967
          ],
          [
           6.308580897920248
          ],
          [
           6.730091826570038
          ],
          [
           6.6346677099663545
          ],
          [
           6.469363057894013
          ],
          [
           6.447312172516836
          ],
          [
           6.6697140636868495
          ],
          [
           6.776888196456726
          ],
          [
           6.634039910174409
          ],
          [
           6.2902903492884255
          ],
          [
           6.505293968852674
          ],
          [
           6.785153705054065
          ],
          [
           6.364396959881188
          ],
          [
           6.436780950210754
          ],
          [
           6.468851377225295
          ],
          [
           6.355097234634513
          ],
          [
           7.397246803898646
          ],
          [
           6.879964119700063
          ],
          [
           5.896493516659814
          ],
          [
           6.667349309257617
          ],
          [
           6.584407495985043
          ],
          [
           6.540965797155763
          ],
          [
           6.135302707526247
          ],
          [
           6.337495470602528
          ],
          [
           6.854841623354627
          ],
          [
           7.018840543487444
          ],
          [
           6.786495940224939
          ],
          [
           6.819724684445865
          ],
          [
           6.394568922698164
          ],
          [
           6.405078418265694
          ],
          [
           6.540267394566702
          ],
          [
           6.457905821680753
          ],
          [
           6.338471521862459
          ],
          [
           7.17459525154327
          ],
          [
           6.988001767509108
          ],
          [
           6.729857590536164
          ],
          [
           6.793335011527955
          ],
          [
           6.947355721108411
          ],
          [
           6.496906821767505
          ],
          [
           7.363305083523243
          ],
          [
           6.54590998917504
          ],
          [
           6.564418146825485
          ],
          [
           6.577785218849984
          ],
          [
           6.347921948990272
          ],
          [
           7.077620706234928
          ],
          [
           6.802797545104417
          ],
          [
           6.806356191714106
          ],
          [
           6.508076391892375
          ],
          [
           5.712842548483209
          ],
          [
           6.281996121907144
          ],
          [
           6.364919996595193
          ],
          [
           6.600155498707556
          ],
          [
           7.074784263373221
          ],
          [
           6.905344440191755
          ],
          [
           6.472486199585429
          ],
          [
           6.445086587454107
          ],
          [
           6.882612503958053
          ],
          [
           6.568935730983004
          ],
          [
           6.883255638761288
          ],
          [
           6.584932512603288
          ],
          [
           6.760145362332249
          ],
          [
           7.200618165304257
          ],
          [
           5.657499129908906
          ],
          [
           6.799224561030463
          ],
          [
           6.952856580082045
          ],
          [
           6.443565077686985
          ],
          [
           6.659414246375178
          ],
          [
           6.303755822519249
          ],
          [
           6.806072496372061
          ],
          [
           6.920320827673192
          ],
          [
           6.302426645713654
          ],
          [
           6.856156624013491
          ],
          [
           6.648034339693983
          ],
          [
           6.939698768721758
          ],
          [
           6.606265714964502
          ],
          [
           6.370347436206638
          ],
          [
           6.366931616855607
          ],
          [
           6.5540897450777145
          ],
          [
           6.883947284410818
          ],
          [
           6.371893541550497
          ],
          [
           5.742298976114243
          ],
          [
           6.375852307369843
          ],
          [
           6.311717401344961
          ],
          [
           6.708250470859842
          ],
          [
           6.394488386041743
          ],
          [
           6.590505478004768
          ],
          [
           7.072347337088956
          ],
          [
           6.95135814541663
          ],
          [
           6.443737402591539
          ],
          [
           6.454913784656648
          ],
          [
           6.538439467253133
          ],
          [
           6.9536759935887
          ],
          [
           6.641333634678857
          ],
          [
           7.111612829255555
          ],
          [
           7.072113638817259
          ],
          [
           5.883863460069072
          ],
          [
           6.696625896587638
          ],
          [
           6.864079586106826
          ],
          [
           6.591457793573534
          ],
          [
           6.313036639167838
          ],
          [
           6.830610258277107
          ],
          [
           6.311686456638208
          ],
          [
           6.381223324419057
          ],
          [
           6.624643195039573
          ],
          [
           6.970855292478442
          ],
          [
           6.369491890917292
          ],
          [
           6.596263071889212
          ],
          [
           6.543107013947586
          ],
          [
           6.38858088882964
          ],
          [
           6.94881617693549
          ],
          [
           7.053460807606969
          ],
          [
           6.554256786596644
          ],
          [
           6.497296376466699
          ],
          [
           6.686696987320314
          ],
          [
           6.40277851363114
          ],
          [
           6.900193980928396
          ],
          [
           6.737228745658029
          ],
          [
           6.770217055417699
          ],
          [
           5.640747717563508
          ],
          [
           6.444905314500157
          ],
          [
           6.254679578394466
          ],
          [
           6.272969849166421
          ],
          [
           6.282142861658091
          ],
          [
           6.207737994638373
          ],
          [
           6.382479056432902
          ],
          [
           7.062710430045169
          ],
          [
           6.425567947430675
          ],
          [
           6.218482997629486
          ],
          [
           6.607670885105784
          ],
          [
           6.945287141324964
          ],
          [
           6.076028373015273
          ],
          [
           5.843746530306957
          ],
          [
           6.469342737545197
          ],
          [
           5.978852491721427
          ],
          [
           6.110031281858552
          ],
          [
           6.329026257863166
          ],
          [
           6.222242300193999
          ],
          [
           6.562983025208805
          ],
          [
           6.64940837763401
          ],
          [
           6.9761051287638045
          ],
          [
           6.842322020362804
          ],
          [
           6.759909495960582
          ],
          [
           6.5715068319400585
          ],
          [
           6.723971825332328
          ],
          [
           6.5087715854369
          ],
          [
           7.041620877167926
          ],
          [
           6.96344106978391
          ],
          [
           6.695493798014173
          ],
          [
           6.565684144213408
          ],
          [
           6.860480488229792
          ],
          [
           6.932170368382898
          ],
          [
           5.84176525310811
          ],
          [
           6.370615849921019
          ],
          [
           6.439027197853887
          ],
          [
           6.337545871744043
          ],
          [
           6.8211781066523685
          ],
          [
           6.50564662682052
          ],
          [
           6.728772990712479
          ],
          [
           7.083732821854961
          ],
          [
           6.570791754638968
          ],
          [
           6.412596406766907
          ],
          [
           6.562100383858933
          ],
          [
           6.772635283134433
          ],
          [
           6.493781635411526
          ],
          [
           6.8213042596160935
          ],
          [
           6.410088432415751
          ],
          [
           6.673514593894546
          ],
          [
           6.368435242755265
          ],
          [
           6.2651228165263335
          ],
          [
           7.076800105244447
          ],
          [
           6.856234842285723
          ],
          [
           5.832813643932245
          ],
          [
           6.675777542453517
          ],
          [
           6.824325154665258
          ],
          [
           6.948149300964032
          ],
          [
           6.572555373500337
          ],
          [
           6.8713420107284575
          ],
          [
           7.033330022440601
          ],
          [
           6.990386519543016
          ],
          [
           6.746530366165239
          ],
          [
           6.358941312157491
          ],
          [
           6.660984163677548
          ],
          [
           7.304560109419022
          ],
          [
           6.4219565517247394
          ],
          [
           6.465186155915999
          ],
          [
           6.563220914829063
          ],
          [
           6.875659470421046
          ],
          [
           6.64726606991232
          ],
          [
           6.846828608144938
          ],
          [
           6.303681843725442
          ],
          [
           6.15933041209441
          ],
          [
           6.909711704727165
          ],
          [
           6.386379059483888
          ],
          [
           6.817428208802761
          ],
          [
           6.783417762004069
          ],
          [
           6.452238474343771
          ],
          [
           6.445577921857935
          ],
          [
           6.924629495497582
          ],
          [
           6.620208889141299
          ],
          [
           6.534171068825789
          ],
          [
           6.476324783521801
          ],
          [
           6.163211292679779
          ],
          [
           6.317682343273585
          ],
          [
           6.383972144235695
          ],
          [
           5.726061972237996
          ],
          [
           6.1539181545576565
          ],
          [
           6.420370255005267
          ],
          [
           6.080893195515704
          ],
          [
           6.478225835101054
          ],
          [
           6.695199899894918
          ],
          [
           6.958521536784407
          ],
          [
           6.849288457581812
          ],
          [
           6.374583064886377
          ],
          [
           6.710647895701353
          ],
          [
           6.608664686500967
          ],
          [
           6.8567201746531365
          ],
          [
           6.705037674083113
          ],
          [
           7.114116406508787
          ],
          [
           6.612310067196472
          ],
          [
           6.355742050631572
          ],
          [
           6.724152574139812
          ],
          [
           6.368410477513615
          ],
          [
           6.941255855083123
          ],
          [
           6.4477767523872815
          ],
          [
           6.619191266547266
          ],
          [
           7.00853235502994
          ],
          [
           6.844711805565696
          ],
          [
           6.6290472950658765
          ],
          [
           6.887654443901664
          ],
          [
           6.767477064750962
          ],
          [
           7.00680349985362
          ],
          [
           5.574464026851089
          ],
          [
           6.821724446309424
          ],
          [
           6.462202141066195
          ],
          [
           6.61155577652872
          ],
          [
           6.543719530502499
          ],
          [
           6.236160358845362
          ],
          [
           6.767799735884474
          ],
          [
           6.721973321145978
          ],
          [
           6.254144665687133
          ],
          [
           6.595622053261629
          ],
          [
           6.960251694917516
          ],
          [
           6.774708084784495
          ],
          [
           6.258646852586949
          ],
          [
           6.242149081623305
          ],
          [
           6.440259003687202
          ],
          [
           6.838258040756211
          ],
          [
           6.464218789316871
          ],
          [
           6.720728441098631
          ],
          [
           6.805817019793738
          ],
          [
           5.792161346382781
          ],
          [
           6.5247401200779125
          ],
          [
           6.701591677778383
          ],
          [
           6.33614439187373
          ],
          [
           6.452132446586961
          ],
          [
           6.31549136112024
          ],
          [
           6.914561323046225
          ],
          [
           6.101697001059774
          ],
          [
           6.867139745714107
          ],
          [
           6.674867621892209
          ],
          [
           6.3421042181443354
          ],
          [
           6.625805068635532
          ],
          [
           7.018822139418593
          ],
          [
           6.864139629512629
          ],
          [
           6.414013879607768
          ],
          [
           6.422485593963997
          ],
          [
           6.788577921013693
          ],
          [
           6.527076612280152
          ],
          [
           6.81420973122477
          ],
          [
           6.5444894316177065
          ],
          [
           6.9775011553303825
          ],
          [
           6.994598532926126
          ],
          [
           5.744605055453778
          ],
          [
           6.772105777003432
          ],
          [
           6.741088411014536
          ],
          [
           6.434747548334666
          ],
          [
           6.532524894105434
          ],
          [
           6.246104850762785
          ],
          [
           6.356602901332219
          ],
          [
           6.828399189017275
          ],
          [
           6.274110883955404
          ],
          [
           6.9313431269670795
          ],
          [
           6.716311438470819
          ],
          [
           6.632863882284909
          ]
         ],
         "domain": {
          "x": [
           0,
           1
          ],
          "y": [
           0,
           1
          ]
         },
         "hovertemplate": "labels=%{label}<br>%_occurrence=%{value}<br>parent=%{parent}<br>id=%{id}<br>mean_rating=%{color}<extra></extra>",
         "ids": [
          "Genres/Sci-Fi/alien",
          "Genres/Biography/american",
          "Genres/Documentary/american",
          "Genres/History/american",
          "Genres/War/american",
          "Genres/War/army",
          "Genres/Music/band",
          "Genres/Sport/baseball",
          "Genres/Animation/become",
          "Genres/Biography/become",
          "Genres/Fantasy/become",
          "Genres/Adventure/becomes",
          "Genres/Comedy/becomes",
          "Genres/Crime/becomes",
          "Genres/Drama/becomes",
          "Genres/Film-Noir/becomes",
          "Genres/Musical/becomes",
          "Genres/Mystery/becomes",
          "Genres/Film-Noir/begins",
          "Genres/Family/boy",
          "Genres/History/british",
          "Genres/War/british",
          "Genres/War/captain",
          "Genres/Biography/career",
          "Genres/Music/career",
          "Genres/Western/civil",
          "Genres/Sport/coach",
          "Genres/Music/concert",
          "Genres/Crime/crime",
          "Genres/Film-Noir/dead",
          "Genres/Horror/dead",
          "Genres/Biography/death",
          "Genres/Film-Noir/death",
          "Genres/Mystery/death",
          "Genres/Action/decides",
          "Genres/Comedy/decides",
          "Genres/Musical/decides",
          "Genres/Romance/decides",
          "Genres/Crime/detective",
          "Genres/Mystery/detective",
          "Genres/Sci-Fi/discover",
          "Genres/Animation/discovers",
          "Genres/Fantasy/discovers",
          "Genres/Sci-Fi/discovers",
          "Genres/Documentary/documentary",
          "Genres/Music/documentary",
          "Genres/Film-Noir/doesn't",
          "Genres/Crime/drug",
          "Genres/History/events",
          "Genres/Adventure/evil",
          "Genres/Animation/evil",
          "Genres/Family/evil",
          "Genres/Fantasy/evil",
          "Genres/Horror/evil",
          "Genres/Sci-Fi/evil",
          "Genres/Film-Noir/fall",
          "Genres/Romance/fall",
          "Genres/Musical/falls",
          "Genres/Adventure/family",
          "Genres/Animation/family",
          "Genres/Biography/family",
          "Genres/Comedy/family",
          "Genres/Crime/family",
          "Genres/Drama/family",
          "Genres/Family/family",
          "Genres/Fantasy/family",
          "Genres/History/family",
          "Genres/Music/family",
          "Genres/Musical/family",
          "Genres/Romance/family",
          "Genres/Western/family",
          "Genres/Biography/film",
          "Genres/Documentary/film",
          "Genres/History/film",
          "Genres/Music/film",
          "Genres/Short/film",
          "Genres/War/film",
          "Genres/Drama/find",
          "Genres/Film-Noir/find",
          "Genres/Short/find",
          "Genres/Western/find",
          "Genres/Action/finds",
          "Genres/Film-Noir/finds",
          "Genres/Horror/finds",
          "Genres/Musical/finds",
          "Genres/Thriller/finds",
          "Genres/Comedy/first",
          "Genres/Drama/first",
          "Genres/Fantasy/first",
          "Genres/Music/first",
          "Genres/Musical/first",
          "Genres/Romance/first",
          "Genres/Sport/first",
          "Genres/Documentary/footage",
          "Genres/Sport/football",
          "Genres/Action/former",
          "Genres/Sport/former",
          "Genres/Adventure/friend",
          "Genres/Comedy/friend",
          "Genres/Romance/friend",
          "Genres/Adventure/friends",
          "Genres/Animation/friends",
          "Genres/Comedy/friends",
          "Genres/Family/friends",
          "Genres/Western/gang",
          "Genres/War/german",
          "Genres/History/get",
          "Genres/Mystery/get",
          "Genres/Sport/get",
          "Genres/War/get",
          "Genres/Western/get",
          "Genres/Animation/girl",
          "Genres/Family/girl",
          "Genres/Musical/girl",
          "Genres/Animation/great",
          "Genres/Action/group",
          "Genres/Adventure/group",
          "Genres/Horror/group",
          "Genres/Sci-Fi/group",
          "Genres/Thriller/group",
          "Genres/War/group",
          "Genres/Comedy/he's",
          "Genres/Crime/he's",
          "Genres/Film-Noir/he's",
          "Genres/Romance/he's",
          "Genres/Sport/he's",
          "Genres/Thriller/he's",
          "Genres/Action/help",
          "Genres/Comedy/help",
          "Genres/Drama/help",
          "Genres/Fantasy/help",
          "Genres/Horror/help",
          "Genres/Mystery/help",
          "Genres/Romance/help",
          "Genres/Sci-Fi/help",
          "Genres/Sport/help",
          "Genres/Western/help",
          "Genres/Sport/high",
          "Genres/History/history",
          "Genres/Animation/home",
          "Genres/Family/home",
          "Genres/Film-Noir/home",
          "Genres/Horror/house",
          "Genres/Sci-Fi/human",
          "Genres/Western/indian",
          "Genres/Documentary/interviews",
          "Genres/Animation/it's",
          "Genres/Family/it's",
          "Genres/Fantasy/it's",
          "Genres/Film-Noir/kill",
          "Genres/Horror/killer",
          "Genres/Sport/league",
          "Genres/Action/life",
          "Genres/Adventure/life",
          "Genres/Animation/life",
          "Genres/Biography/life",
          "Genres/Comedy/life",
          "Genres/Crime/life",
          "Genres/Documentary/life",
          "Genres/Drama/life",
          "Genres/Family/life",
          "Genres/Fantasy/life",
          "Genres/Film-Noir/life",
          "Genres/History/life",
          "Genres/Horror/life",
          "Genres/Music/life",
          "Genres/Musical/life",
          "Genres/Mystery/life",
          "Genres/Romance/life",
          "Genres/Sci-Fi/life",
          "Genres/Sport/life",
          "Genres/Thriller/life",
          "Genres/War/life",
          "Genres/Western/life",
          "Genres/Animation/little",
          "Genres/Family/little",
          "Genres/Documentary/live",
          "Genres/Music/live",
          "Genres/Documentary/look",
          "Genres/Family/love",
          "Genres/Musical/love",
          "Genres/Romance/love",
          "Genres/Adventure/make",
          "Genres/Family/make",
          "Genres/Musical/make",
          "Genres/Western/make",
          "Genres/Action/man",
          "Genres/Adventure/man",
          "Genres/Biography/man",
          "Genres/Comedy/man",
          "Genres/Crime/man",
          "Genres/Drama/man",
          "Genres/Fantasy/man",
          "Genres/Film-Noir/man",
          "Genres/History/man",
          "Genres/Horror/man",
          "Genres/Musical/man",
          "Genres/Mystery/man",
          "Genres/Romance/man",
          "Genres/Sci-Fi/man",
          "Genres/Thriller/man",
          "Genres/Western/man",
          "Genres/Biography/many",
          "Genres/Documentary/many",
          "Genres/Animation/meets",
          "Genres/Comedy/meets",
          "Genres/Drama/meets",
          "Genres/Musical/meets",
          "Genres/Romance/meets",
          "Genres/Action/men",
          "Genres/History/men",
          "Genres/War/men",
          "Genres/Western/men",
          "Genres/War/military",
          "Genres/War/mission",
          "Genres/Crime/money",
          "Genres/Film-Noir/money",
          "Genres/Biography/movie",
          "Genres/Crime/murder",
          "Genres/Mystery/murder",
          "Genres/Thriller/murder",
          "Genres/Documentary/music",
          "Genres/Music/music",
          "Genres/Musical/musical",
          "Genres/Fantasy/mysterious",
          "Genres/Horror/mysterious",
          "Genres/Mystery/mysterious",
          "Genres/Action/new",
          "Genres/Adventure/new",
          "Genres/Animation/new",
          "Genres/Biography/new",
          "Genres/Comedy/new",
          "Genres/Crime/new",
          "Genres/Documentary/new",
          "Genres/Drama/new",
          "Genres/Family/new",
          "Genres/Fantasy/new",
          "Genres/Film-Noir/new",
          "Genres/History/new",
          "Genres/Horror/new",
          "Genres/Music/new",
          "Genres/Musical/new",
          "Genres/Mystery/new",
          "Genres/Romance/new",
          "Genres/Sci-Fi/new",
          "Genres/Short/new",
          "Genres/Sport/new",
          "Genres/Thriller/new",
          "Genres/War/new",
          "Genres/Western/new",
          "Genres/War/officer",
          "Genres/Adventure/old",
          "Genres/Comedy/old",
          "Genres/Crime/old",
          "Genres/Drama/old",
          "Genres/Family/old",
          "Genres/Fantasy/old",
          "Genres/Horror/old",
          "Genres/Mystery/old",
          "Genres/Thriller/old",
          "Genres/Western/old",
          "Genres/Action/other",
          "Genres/Adventure/other",
          "Genres/Animation/other",
          "Genres/Biography/other",
          "Genres/Comedy/other",
          "Genres/Crime/other",
          "Genres/Drama/other",
          "Genres/Family/other",
          "Genres/Fantasy/other",
          "Genres/Film-Noir/other",
          "Genres/History/other",
          "Genres/Horror/other",
          "Genres/Music/other",
          "Genres/Musical/other",
          "Genres/Romance/other",
          "Genres/Sci-Fi/other",
          "Genres/Sport/other",
          "Genres/Thriller/other",
          "Genres/Action/own",
          "Genres/Adventure/own",
          "Genres/Biography/own",
          "Genres/Comedy/own",
          "Genres/Crime/own",
          "Genres/Drama/own",
          "Genres/Fantasy/own",
          "Genres/Film-Noir/own",
          "Genres/History/own",
          "Genres/Mystery/own",
          "Genres/Romance/own",
          "Genres/Sport/own",
          "Genres/Thriller/own",
          "Genres/War/own",
          "Genres/Western/own",
          "Genres/Documentary/people",
          "Genres/Horror/people",
          "Genres/Mystery/people",
          "Genres/Sci-Fi/people",
          "Genres/Thriller/people",
          "Genres/Sci-Fi/planet",
          "Genres/Action/police",
          "Genres/Crime/police",
          "Genres/Film-Noir/police",
          "Genres/Mystery/police",
          "Genres/Thriller/police",
          "Genres/Music/rock",
          "Genres/Sport/school",
          "Genres/Sci-Fi/scientist",
          "Genres/Short/set",
          "Genres/Music/singer",
          "Genres/Horror/small",
          "Genres/Sci-Fi/space",
          "Genres/Sport/star",
          "Genres/Action/stop",
          "Genres/Adventure/stop",
          "Genres/Adventure/story",
          "Genres/Animation/story",
          "Genres/Biography/story",
          "Genres/Documentary/story",
          "Genres/Drama/story",
          "Genres/Family/story",
          "Genres/Fantasy/story",
          "Genres/History/story",
          "Genres/Music/story",
          "Genres/Musical/story",
          "Genres/Romance/story",
          "Genres/Sport/story",
          "Genres/War/story",
          "Genres/Horror/strange",
          "Genres/Action/take",
          "Genres/Crime/take",
          "Genres/Thriller/take",
          "Genres/Musical/tells",
          "Genres/Action/time",
          "Genres/Adventure/time",
          "Genres/Animation/time",
          "Genres/Comedy/time",
          "Genres/Crime/time",
          "Genres/Drama/time",
          "Genres/Family/time",
          "Genres/Fantasy/time",
          "Genres/Musical/time",
          "Genres/Mystery/time",
          "Genres/Romance/time",
          "Genres/Sci-Fi/time",
          "Genres/Thriller/time",
          "Genres/War/time",
          "Genres/Western/time",
          "Genres/Horror/town",
          "Genres/Western/town",
          "Genres/Biography/true",
          "Genres/History/true",
          "Genres/Action/war",
          "Genres/Biography/war",
          "Genres/History/war",
          "Genres/War/war",
          "Genres/Western/war",
          "Genres/Action/way",
          "Genres/Adventure/way",
          "Genres/Animation/way",
          "Genres/Comedy/way",
          "Genres/Crime/way",
          "Genres/Drama/way",
          "Genres/Family/way",
          "Genres/Fantasy/way",
          "Genres/Musical/way",
          "Genres/Mystery/way",
          "Genres/Sci-Fi/way",
          "Genres/Sport/way",
          "Genres/Thriller/way",
          "Genres/Western/way",
          "Genres/Biography/wife",
          "Genres/Crime/wife",
          "Genres/Drama/wife",
          "Genres/Film-Noir/wife",
          "Genres/History/wife",
          "Genres/Mystery/wife",
          "Genres/Romance/wife",
          "Genres/Thriller/wife",
          "Genres/Comedy/woman",
          "Genres/Drama/woman",
          "Genres/Horror/woman",
          "Genres/Mystery/woman",
          "Genres/Romance/woman",
          "Genres/Thriller/woman",
          "Genres/Action/world",
          "Genres/Adventure/world",
          "Genres/Animation/world",
          "Genres/Biography/world",
          "Genres/Comedy/world",
          "Genres/Documentary/world",
          "Genres/Drama/world",
          "Genres/Family/world",
          "Genres/Fantasy/world",
          "Genres/History/world",
          "Genres/Music/world",
          "Genres/Sci-Fi/world",
          "Genres/Sport/world",
          "Genres/Thriller/world",
          "Genres/War/world",
          "Genres/Action/years",
          "Genres/Adventure/years",
          "Genres/Biography/years",
          "Genres/Documentary/years",
          "Genres/Drama/years",
          "Genres/Family/years",
          "Genres/Fantasy/years",
          "Genres/History/years",
          "Genres/Horror/years",
          "Genres/Music/years",
          "Genres/Mystery/years",
          "Genres/Romance/years",
          "Genres/Sci-Fi/years",
          "Genres/Thriller/years",
          "Genres/Western/years",
          "Genres/Music/york",
          "Genres/Action/young",
          "Genres/Adventure/young",
          "Genres/Animation/young",
          "Genres/Biography/young",
          "Genres/Comedy/young",
          "Genres/Crime/young",
          "Genres/Drama/young",
          "Genres/Family/young",
          "Genres/Fantasy/young",
          "Genres/Film-Noir/young",
          "Genres/History/young",
          "Genres/Horror/young",
          "Genres/Music/young",
          "Genres/Musical/young",
          "Genres/Mystery/young",
          "Genres/Romance/young",
          "Genres/Sci-Fi/young",
          "Genres/Sport/young",
          "Genres/Thriller/young",
          "Genres/War/young",
          "Genres/Western/young",
          "Genres/Action",
          "Genres/Adventure",
          "Genres/Animation",
          "Genres/Biography",
          "Genres/Comedy",
          "Genres/Crime",
          "Genres/Documentary",
          "Genres/Drama",
          "Genres/Family",
          "Genres/Fantasy",
          "Genres/Film-Noir",
          "Genres/History",
          "Genres/Horror",
          "Genres/Music",
          "Genres/Musical",
          "Genres/Mystery",
          "Genres/Romance",
          "Genres/Sci-Fi",
          "Genres/Short",
          "Genres/Sport",
          "Genres/Thriller",
          "Genres/War",
          "Genres/Western",
          "Genres"
         ],
         "labels": [
          "alien",
          "american",
          "american",
          "american",
          "american",
          "army",
          "band",
          "baseball",
          "become",
          "become",
          "become",
          "becomes",
          "becomes",
          "becomes",
          "becomes",
          "becomes",
          "becomes",
          "becomes",
          "begins",
          "boy",
          "british",
          "british",
          "captain",
          "career",
          "career",
          "civil",
          "coach",
          "concert",
          "crime",
          "dead",
          "dead",
          "death",
          "death",
          "death",
          "decides",
          "decides",
          "decides",
          "decides",
          "detective",
          "detective",
          "discover",
          "discovers",
          "discovers",
          "discovers",
          "documentary",
          "documentary",
          "doesn't",
          "drug",
          "events",
          "evil",
          "evil",
          "evil",
          "evil",
          "evil",
          "evil",
          "fall",
          "fall",
          "falls",
          "family",
          "family",
          "family",
          "family",
          "family",
          "family",
          "family",
          "family",
          "family",
          "family",
          "family",
          "family",
          "family",
          "film",
          "film",
          "film",
          "film",
          "film",
          "film",
          "find",
          "find",
          "find",
          "find",
          "finds",
          "finds",
          "finds",
          "finds",
          "finds",
          "first",
          "first",
          "first",
          "first",
          "first",
          "first",
          "first",
          "footage",
          "football",
          "former",
          "former",
          "friend",
          "friend",
          "friend",
          "friends",
          "friends",
          "friends",
          "friends",
          "gang",
          "german",
          "get",
          "get",
          "get",
          "get",
          "get",
          "girl",
          "girl",
          "girl",
          "great",
          "group",
          "group",
          "group",
          "group",
          "group",
          "group",
          "he's",
          "he's",
          "he's",
          "he's",
          "he's",
          "he's",
          "help",
          "help",
          "help",
          "help",
          "help",
          "help",
          "help",
          "help",
          "help",
          "help",
          "high",
          "history",
          "home",
          "home",
          "home",
          "house",
          "human",
          "indian",
          "interviews",
          "it's",
          "it's",
          "it's",
          "kill",
          "killer",
          "league",
          "life",
          "life",
          "life",
          "life",
          "life",
          "life",
          "life",
          "life",
          "life",
          "life",
          "life",
          "life",
          "life",
          "life",
          "life",
          "life",
          "life",
          "life",
          "life",
          "life",
          "life",
          "life",
          "little",
          "little",
          "live",
          "live",
          "look",
          "love",
          "love",
          "love",
          "make",
          "make",
          "make",
          "make",
          "man",
          "man",
          "man",
          "man",
          "man",
          "man",
          "man",
          "man",
          "man",
          "man",
          "man",
          "man",
          "man",
          "man",
          "man",
          "man",
          "many",
          "many",
          "meets",
          "meets",
          "meets",
          "meets",
          "meets",
          "men",
          "men",
          "men",
          "men",
          "military",
          "mission",
          "money",
          "money",
          "movie",
          "murder",
          "murder",
          "murder",
          "music",
          "music",
          "musical",
          "mysterious",
          "mysterious",
          "mysterious",
          "new",
          "new",
          "new",
          "new",
          "new",
          "new",
          "new",
          "new",
          "new",
          "new",
          "new",
          "new",
          "new",
          "new",
          "new",
          "new",
          "new",
          "new",
          "new",
          "new",
          "new",
          "new",
          "new",
          "officer",
          "old",
          "old",
          "old",
          "old",
          "old",
          "old",
          "old",
          "old",
          "old",
          "old",
          "other",
          "other",
          "other",
          "other",
          "other",
          "other",
          "other",
          "other",
          "other",
          "other",
          "other",
          "other",
          "other",
          "other",
          "other",
          "other",
          "other",
          "other",
          "own",
          "own",
          "own",
          "own",
          "own",
          "own",
          "own",
          "own",
          "own",
          "own",
          "own",
          "own",
          "own",
          "own",
          "own",
          "people",
          "people",
          "people",
          "people",
          "people",
          "planet",
          "police",
          "police",
          "police",
          "police",
          "police",
          "rock",
          "school",
          "scientist",
          "set",
          "singer",
          "small",
          "space",
          "star",
          "stop",
          "stop",
          "story",
          "story",
          "story",
          "story",
          "story",
          "story",
          "story",
          "story",
          "story",
          "story",
          "story",
          "story",
          "story",
          "strange",
          "take",
          "take",
          "take",
          "tells",
          "time",
          "time",
          "time",
          "time",
          "time",
          "time",
          "time",
          "time",
          "time",
          "time",
          "time",
          "time",
          "time",
          "time",
          "time",
          "town",
          "town",
          "true",
          "true",
          "war",
          "war",
          "war",
          "war",
          "war",
          "way",
          "way",
          "way",
          "way",
          "way",
          "way",
          "way",
          "way",
          "way",
          "way",
          "way",
          "way",
          "way",
          "way",
          "wife",
          "wife",
          "wife",
          "wife",
          "wife",
          "wife",
          "wife",
          "wife",
          "woman",
          "woman",
          "woman",
          "woman",
          "woman",
          "woman",
          "world",
          "world",
          "world",
          "world",
          "world",
          "world",
          "world",
          "world",
          "world",
          "world",
          "world",
          "world",
          "world",
          "world",
          "world",
          "years",
          "years",
          "years",
          "years",
          "years",
          "years",
          "years",
          "years",
          "years",
          "years",
          "years",
          "years",
          "years",
          "years",
          "years",
          "york",
          "young",
          "young",
          "young",
          "young",
          "young",
          "young",
          "young",
          "young",
          "young",
          "young",
          "young",
          "young",
          "young",
          "young",
          "young",
          "young",
          "young",
          "young",
          "young",
          "young",
          "young",
          "Action",
          "Adventure",
          "Animation",
          "Biography",
          "Comedy",
          "Crime",
          "Documentary",
          "Drama",
          "Family",
          "Fantasy",
          "Film-Noir",
          "History",
          "Horror",
          "Music",
          "Musical",
          "Mystery",
          "Romance",
          "Sci-Fi",
          "Short",
          "Sport",
          "Thriller",
          "War",
          "Western",
          "Genres"
         ],
         "marker": {
          "coloraxis": "coloraxis",
          "colors": [
           6.2224341034887845,
           7.027787299409381,
           6.906799812274757,
           7.0733613508800115,
           6.949688718853177,
           6.92705695408207,
           6.795146898859097,
           6.929493268415761,
           6.9551841692760235,
           6.916896994789228,
           6.351229507645311,
           6.721072632139763,
           6.386891306579,
           6.376080342149465,
           6.465405490968692,
           6.786108871518495,
           6.788985248047541,
           6.309854852239401,
           7.174398923072788,
           6.750653436888491,
           7.035948742708228,
           6.891814433470241,
           6.979768246559384,
           6.7784397125642855,
           6.707571475023413,
           6.776455849816242,
           6.77849674999397,
           7.022758455346263,
           6.487876382564927,
           6.753828893376886,
           5.626418034723319,
           6.781758874168192,
           7.051434035523243,
           6.532480729646347,
           6.33333157374632,
           6.346363640908568,
           6.740102992158381,
           6.565375204853618,
           6.476243694649054,
           6.53186782056428,
           6.269219970942396,
           6.859268589807575,
           6.442643908637098,
           6.281332606696227,
           6.74808143715863,
           7.072492733995231,
           6.957804958489726,
           6.225535353166274,
           7.164137828009999,
           6.669264549927725,
           6.882704117560124,
           6.648927118635071,
           6.277663558658006,
           5.417108993285102,
           6.137367589272294,
           6.783785220169906,
           6.498018303737298,
           6.661473720942775,
           6.7300129413670176,
           7.220448627152503,
           6.916295582920161,
           6.4748456433228405,
           6.514854310140347,
           6.589686323289676,
           6.91922999254812,
           6.702387117321938,
           6.672068665705947,
           6.692762409051594,
           6.745321615998404,
           6.633788707250357,
           6.562997329741332,
           6.893100135087677,
           6.818107891842889,
           7.074265638867366,
           6.749901905524451,
           6.208894765828067,
           6.9730274060191615,
           6.539954566844731,
           7.245309104277341,
           6.656322694124285,
           6.602153856211,
           6.282624267056393,
           6.794875660930258,
           5.832747788639844,
           6.700957751602057,
           6.330760630075729,
           6.520745782367637,
           6.663779400244938,
           6.640686662388553,
           6.836528656108785,
           6.7223811469225065,
           6.576261967464315,
           6.9578061916783165,
           6.8000735395944805,
           6.816808438629274,
           6.340809277967418,
           6.762189536787423,
           6.698024989011479,
           6.415037723324576,
           6.457871699433044,
           6.7954815940725615,
           7.079708486041695,
           6.394742236673122,
           6.861253501170356,
           6.706736178537255,
           6.881356434301637,
           6.99070760059788,
           6.403032421383086,
           6.697940628139657,
           6.875483929393053,
           6.801293505825231,
           6.910418721704493,
           6.744440611786679,
           6.6193471065057645,
           7.221426763119121,
           6.003973677937551,
           6.460753454700769,
           5.500760306508744,
           5.972518506295315,
           6.151472270236368,
           6.821674650553276,
           6.3491890191232,
           6.402049912301041,
           7.061085525902971,
           6.318587442964708,
           6.660097445798341,
           6.417057050916249,
           6.3036061995708375,
           6.448127903151295,
           6.536024265914858,
           6.740947493845966,
           6.146416201828722,
           6.64051002458912,
           6.641837484915408,
           6.236079665190686,
           6.942576428028624,
           6.684123519451122,
           7.144344638660155,
           7.004649720862632,
           6.947393298128446,
           6.682605916215412,
           6.640441894478744,
           5.743227451317953,
           6.057374783119399,
           6.815374208661607,
           6.551106932071062,
           7.077311533497445,
           6.754649602261505,
           6.436404571272036,
           6.724860483732969,
           5.534993366538591,
           6.571452217262781,
           6.407578570556659,
           6.590361622108172,
           7.2492641843127625,
           6.836566486922054,
           6.483491626811508,
           6.322672273298059,
           6.81932737701772,
           6.5142921998478815,
           6.884656428292298,
           6.670272034738287,
           6.993454490869456,
           6.884023652369649,
           5.833693470458877,
           6.740864338438453,
           6.7854143546886085,
           6.324913357577935,
           6.568838295217589,
           6.35212470842655,
           6.93170355535389,
           6.20335304617996,
           6.927921954157053,
           6.630158023454609,
           6.762084030661918,
           6.74470918354622,
           7.110807092109036,
           7.127671369479967,
           6.308580897920248,
           6.730091826570038,
           6.6346677099663545,
           6.469363057894013,
           6.447312172516836,
           6.6697140636868495,
           6.776888196456726,
           6.634039910174409,
           6.2902903492884255,
           6.505293968852674,
           6.785153705054065,
           6.364396959881188,
           6.436780950210754,
           6.468851377225295,
           6.355097234634513,
           7.397246803898646,
           6.879964119700063,
           5.896493516659814,
           6.667349309257617,
           6.584407495985043,
           6.540965797155763,
           6.135302707526247,
           6.337495470602528,
           6.854841623354627,
           7.018840543487444,
           6.786495940224939,
           6.819724684445865,
           6.394568922698164,
           6.405078418265694,
           6.540267394566702,
           6.457905821680753,
           6.338471521862459,
           7.17459525154327,
           6.988001767509108,
           6.729857590536164,
           6.793335011527955,
           6.947355721108411,
           6.496906821767505,
           7.363305083523243,
           6.54590998917504,
           6.564418146825485,
           6.577785218849984,
           6.347921948990272,
           7.077620706234928,
           6.802797545104417,
           6.806356191714106,
           6.508076391892375,
           5.712842548483209,
           6.281996121907144,
           6.364919996595193,
           6.600155498707556,
           7.074784263373221,
           6.905344440191755,
           6.472486199585429,
           6.445086587454107,
           6.882612503958053,
           6.568935730983004,
           6.883255638761288,
           6.584932512603288,
           6.760145362332249,
           7.200618165304257,
           5.657499129908906,
           6.799224561030463,
           6.952856580082045,
           6.443565077686985,
           6.659414246375178,
           6.303755822519249,
           6.806072496372061,
           6.920320827673192,
           6.302426645713654,
           6.856156624013491,
           6.648034339693983,
           6.939698768721758,
           6.606265714964502,
           6.370347436206638,
           6.366931616855607,
           6.5540897450777145,
           6.883947284410818,
           6.371893541550497,
           5.742298976114243,
           6.375852307369843,
           6.311717401344961,
           6.708250470859842,
           6.394488386041743,
           6.590505478004768,
           7.072347337088956,
           6.95135814541663,
           6.443737402591539,
           6.454913784656648,
           6.538439467253133,
           6.9536759935887,
           6.641333634678857,
           7.111612829255555,
           7.072113638817259,
           5.883863460069072,
           6.696625896587638,
           6.864079586106826,
           6.591457793573534,
           6.313036639167838,
           6.830610258277107,
           6.311686456638208,
           6.381223324419057,
           6.624643195039573,
           6.970855292478442,
           6.369491890917292,
           6.596263071889212,
           6.543107013947586,
           6.38858088882964,
           6.94881617693549,
           7.053460807606969,
           6.554256786596644,
           6.497296376466699,
           6.686696987320314,
           6.40277851363114,
           6.900193980928396,
           6.737228745658029,
           6.770217055417699,
           5.640747717563508,
           6.444905314500157,
           6.254679578394466,
           6.272969849166421,
           6.282142861658091,
           6.207737994638373,
           6.382479056432902,
           7.062710430045169,
           6.425567947430675,
           6.218482997629486,
           6.607670885105784,
           6.945287141324964,
           6.076028373015273,
           5.843746530306957,
           6.469342737545197,
           5.978852491721427,
           6.110031281858552,
           6.329026257863166,
           6.222242300193999,
           6.562983025208805,
           6.64940837763401,
           6.9761051287638045,
           6.842322020362804,
           6.759909495960582,
           6.5715068319400585,
           6.723971825332328,
           6.5087715854369,
           7.041620877167926,
           6.96344106978391,
           6.695493798014173,
           6.565684144213408,
           6.860480488229792,
           6.932170368382898,
           5.84176525310811,
           6.370615849921019,
           6.439027197853887,
           6.337545871744043,
           6.8211781066523685,
           6.50564662682052,
           6.728772990712479,
           7.083732821854961,
           6.570791754638968,
           6.412596406766907,
           6.562100383858933,
           6.772635283134433,
           6.493781635411526,
           6.8213042596160935,
           6.410088432415751,
           6.673514593894546,
           6.368435242755265,
           6.2651228165263335,
           7.076800105244447,
           6.856234842285723,
           5.832813643932245,
           6.675777542453517,
           6.824325154665258,
           6.948149300964032,
           6.572555373500337,
           6.8713420107284575,
           7.033330022440601,
           6.990386519543016,
           6.746530366165239,
           6.358941312157491,
           6.660984163677548,
           7.304560109419022,
           6.4219565517247394,
           6.465186155915999,
           6.563220914829063,
           6.875659470421046,
           6.64726606991232,
           6.846828608144938,
           6.303681843725442,
           6.15933041209441,
           6.909711704727165,
           6.386379059483888,
           6.817428208802761,
           6.783417762004069,
           6.452238474343771,
           6.445577921857935,
           6.924629495497582,
           6.620208889141299,
           6.534171068825789,
           6.476324783521801,
           6.163211292679779,
           6.317682343273585,
           6.383972144235695,
           5.726061972237996,
           6.1539181545576565,
           6.420370255005267,
           6.080893195515704,
           6.478225835101054,
           6.695199899894918,
           6.958521536784407,
           6.849288457581812,
           6.374583064886377,
           6.710647895701353,
           6.608664686500967,
           6.8567201746531365,
           6.705037674083113,
           7.114116406508787,
           6.612310067196472,
           6.355742050631572,
           6.724152574139812,
           6.368410477513615,
           6.941255855083123,
           6.4477767523872815,
           6.619191266547266,
           7.00853235502994,
           6.844711805565696,
           6.6290472950658765,
           6.887654443901664,
           6.767477064750962,
           7.00680349985362,
           5.574464026851089,
           6.821724446309424,
           6.462202141066195,
           6.61155577652872,
           6.543719530502499,
           6.236160358845362,
           6.767799735884474,
           6.721973321145978,
           6.254144665687133,
           6.595622053261629,
           6.960251694917516,
           6.774708084784495,
           6.258646852586949,
           6.242149081623305,
           6.440259003687202,
           6.838258040756211,
           6.464218789316871,
           6.720728441098631,
           6.805817019793738,
           5.792161346382781,
           6.5247401200779125,
           6.701591677778383,
           6.33614439187373,
           6.452132446586961,
           6.31549136112024,
           6.914561323046225,
           6.101697001059774,
           6.867139745714107,
           6.674867621892209,
           6.3421042181443354,
           6.625805068635532,
           7.018822139418593,
           6.864139629512629,
           6.414013879607768,
           6.422485593963997,
           6.788577921013693,
           6.527076612280152,
           6.81420973122477,
           6.5444894316177065,
           6.9775011553303825,
           6.994598532926126,
           5.744605055453778,
           6.772105777003432,
           6.741088411014536,
           6.434747548334666,
           6.532524894105434,
           6.246104850762785,
           6.356602901332219,
           6.828399189017275,
           6.274110883955404,
           6.9313431269670795,
           6.716311438470819,
           6.632863882284909
          ]
         },
         "name": "",
         "parents": [
          "Genres/Sci-Fi",
          "Genres/Biography",
          "Genres/Documentary",
          "Genres/History",
          "Genres/War",
          "Genres/War",
          "Genres/Music",
          "Genres/Sport",
          "Genres/Animation",
          "Genres/Biography",
          "Genres/Fantasy",
          "Genres/Adventure",
          "Genres/Comedy",
          "Genres/Crime",
          "Genres/Drama",
          "Genres/Film-Noir",
          "Genres/Musical",
          "Genres/Mystery",
          "Genres/Film-Noir",
          "Genres/Family",
          "Genres/History",
          "Genres/War",
          "Genres/War",
          "Genres/Biography",
          "Genres/Music",
          "Genres/Western",
          "Genres/Sport",
          "Genres/Music",
          "Genres/Crime",
          "Genres/Film-Noir",
          "Genres/Horror",
          "Genres/Biography",
          "Genres/Film-Noir",
          "Genres/Mystery",
          "Genres/Action",
          "Genres/Comedy",
          "Genres/Musical",
          "Genres/Romance",
          "Genres/Crime",
          "Genres/Mystery",
          "Genres/Sci-Fi",
          "Genres/Animation",
          "Genres/Fantasy",
          "Genres/Sci-Fi",
          "Genres/Documentary",
          "Genres/Music",
          "Genres/Film-Noir",
          "Genres/Crime",
          "Genres/History",
          "Genres/Adventure",
          "Genres/Animation",
          "Genres/Family",
          "Genres/Fantasy",
          "Genres/Horror",
          "Genres/Sci-Fi",
          "Genres/Film-Noir",
          "Genres/Romance",
          "Genres/Musical",
          "Genres/Adventure",
          "Genres/Animation",
          "Genres/Biography",
          "Genres/Comedy",
          "Genres/Crime",
          "Genres/Drama",
          "Genres/Family",
          "Genres/Fantasy",
          "Genres/History",
          "Genres/Music",
          "Genres/Musical",
          "Genres/Romance",
          "Genres/Western",
          "Genres/Biography",
          "Genres/Documentary",
          "Genres/History",
          "Genres/Music",
          "Genres/Short",
          "Genres/War",
          "Genres/Drama",
          "Genres/Film-Noir",
          "Genres/Short",
          "Genres/Western",
          "Genres/Action",
          "Genres/Film-Noir",
          "Genres/Horror",
          "Genres/Musical",
          "Genres/Thriller",
          "Genres/Comedy",
          "Genres/Drama",
          "Genres/Fantasy",
          "Genres/Music",
          "Genres/Musical",
          "Genres/Romance",
          "Genres/Sport",
          "Genres/Documentary",
          "Genres/Sport",
          "Genres/Action",
          "Genres/Sport",
          "Genres/Adventure",
          "Genres/Comedy",
          "Genres/Romance",
          "Genres/Adventure",
          "Genres/Animation",
          "Genres/Comedy",
          "Genres/Family",
          "Genres/Western",
          "Genres/War",
          "Genres/History",
          "Genres/Mystery",
          "Genres/Sport",
          "Genres/War",
          "Genres/Western",
          "Genres/Animation",
          "Genres/Family",
          "Genres/Musical",
          "Genres/Animation",
          "Genres/Action",
          "Genres/Adventure",
          "Genres/Horror",
          "Genres/Sci-Fi",
          "Genres/Thriller",
          "Genres/War",
          "Genres/Comedy",
          "Genres/Crime",
          "Genres/Film-Noir",
          "Genres/Romance",
          "Genres/Sport",
          "Genres/Thriller",
          "Genres/Action",
          "Genres/Comedy",
          "Genres/Drama",
          "Genres/Fantasy",
          "Genres/Horror",
          "Genres/Mystery",
          "Genres/Romance",
          "Genres/Sci-Fi",
          "Genres/Sport",
          "Genres/Western",
          "Genres/Sport",
          "Genres/History",
          "Genres/Animation",
          "Genres/Family",
          "Genres/Film-Noir",
          "Genres/Horror",
          "Genres/Sci-Fi",
          "Genres/Western",
          "Genres/Documentary",
          "Genres/Animation",
          "Genres/Family",
          "Genres/Fantasy",
          "Genres/Film-Noir",
          "Genres/Horror",
          "Genres/Sport",
          "Genres/Action",
          "Genres/Adventure",
          "Genres/Animation",
          "Genres/Biography",
          "Genres/Comedy",
          "Genres/Crime",
          "Genres/Documentary",
          "Genres/Drama",
          "Genres/Family",
          "Genres/Fantasy",
          "Genres/Film-Noir",
          "Genres/History",
          "Genres/Horror",
          "Genres/Music",
          "Genres/Musical",
          "Genres/Mystery",
          "Genres/Romance",
          "Genres/Sci-Fi",
          "Genres/Sport",
          "Genres/Thriller",
          "Genres/War",
          "Genres/Western",
          "Genres/Animation",
          "Genres/Family",
          "Genres/Documentary",
          "Genres/Music",
          "Genres/Documentary",
          "Genres/Family",
          "Genres/Musical",
          "Genres/Romance",
          "Genres/Adventure",
          "Genres/Family",
          "Genres/Musical",
          "Genres/Western",
          "Genres/Action",
          "Genres/Adventure",
          "Genres/Biography",
          "Genres/Comedy",
          "Genres/Crime",
          "Genres/Drama",
          "Genres/Fantasy",
          "Genres/Film-Noir",
          "Genres/History",
          "Genres/Horror",
          "Genres/Musical",
          "Genres/Mystery",
          "Genres/Romance",
          "Genres/Sci-Fi",
          "Genres/Thriller",
          "Genres/Western",
          "Genres/Biography",
          "Genres/Documentary",
          "Genres/Animation",
          "Genres/Comedy",
          "Genres/Drama",
          "Genres/Musical",
          "Genres/Romance",
          "Genres/Action",
          "Genres/History",
          "Genres/War",
          "Genres/Western",
          "Genres/War",
          "Genres/War",
          "Genres/Crime",
          "Genres/Film-Noir",
          "Genres/Biography",
          "Genres/Crime",
          "Genres/Mystery",
          "Genres/Thriller",
          "Genres/Documentary",
          "Genres/Music",
          "Genres/Musical",
          "Genres/Fantasy",
          "Genres/Horror",
          "Genres/Mystery",
          "Genres/Action",
          "Genres/Adventure",
          "Genres/Animation",
          "Genres/Biography",
          "Genres/Comedy",
          "Genres/Crime",
          "Genres/Documentary",
          "Genres/Drama",
          "Genres/Family",
          "Genres/Fantasy",
          "Genres/Film-Noir",
          "Genres/History",
          "Genres/Horror",
          "Genres/Music",
          "Genres/Musical",
          "Genres/Mystery",
          "Genres/Romance",
          "Genres/Sci-Fi",
          "Genres/Short",
          "Genres/Sport",
          "Genres/Thriller",
          "Genres/War",
          "Genres/Western",
          "Genres/War",
          "Genres/Adventure",
          "Genres/Comedy",
          "Genres/Crime",
          "Genres/Drama",
          "Genres/Family",
          "Genres/Fantasy",
          "Genres/Horror",
          "Genres/Mystery",
          "Genres/Thriller",
          "Genres/Western",
          "Genres/Action",
          "Genres/Adventure",
          "Genres/Animation",
          "Genres/Biography",
          "Genres/Comedy",
          "Genres/Crime",
          "Genres/Drama",
          "Genres/Family",
          "Genres/Fantasy",
          "Genres/Film-Noir",
          "Genres/History",
          "Genres/Horror",
          "Genres/Music",
          "Genres/Musical",
          "Genres/Romance",
          "Genres/Sci-Fi",
          "Genres/Sport",
          "Genres/Thriller",
          "Genres/Action",
          "Genres/Adventure",
          "Genres/Biography",
          "Genres/Comedy",
          "Genres/Crime",
          "Genres/Drama",
          "Genres/Fantasy",
          "Genres/Film-Noir",
          "Genres/History",
          "Genres/Mystery",
          "Genres/Romance",
          "Genres/Sport",
          "Genres/Thriller",
          "Genres/War",
          "Genres/Western",
          "Genres/Documentary",
          "Genres/Horror",
          "Genres/Mystery",
          "Genres/Sci-Fi",
          "Genres/Thriller",
          "Genres/Sci-Fi",
          "Genres/Action",
          "Genres/Crime",
          "Genres/Film-Noir",
          "Genres/Mystery",
          "Genres/Thriller",
          "Genres/Music",
          "Genres/Sport",
          "Genres/Sci-Fi",
          "Genres/Short",
          "Genres/Music",
          "Genres/Horror",
          "Genres/Sci-Fi",
          "Genres/Sport",
          "Genres/Action",
          "Genres/Adventure",
          "Genres/Adventure",
          "Genres/Animation",
          "Genres/Biography",
          "Genres/Documentary",
          "Genres/Drama",
          "Genres/Family",
          "Genres/Fantasy",
          "Genres/History",
          "Genres/Music",
          "Genres/Musical",
          "Genres/Romance",
          "Genres/Sport",
          "Genres/War",
          "Genres/Horror",
          "Genres/Action",
          "Genres/Crime",
          "Genres/Thriller",
          "Genres/Musical",
          "Genres/Action",
          "Genres/Adventure",
          "Genres/Animation",
          "Genres/Comedy",
          "Genres/Crime",
          "Genres/Drama",
          "Genres/Family",
          "Genres/Fantasy",
          "Genres/Musical",
          "Genres/Mystery",
          "Genres/Romance",
          "Genres/Sci-Fi",
          "Genres/Thriller",
          "Genres/War",
          "Genres/Western",
          "Genres/Horror",
          "Genres/Western",
          "Genres/Biography",
          "Genres/History",
          "Genres/Action",
          "Genres/Biography",
          "Genres/History",
          "Genres/War",
          "Genres/Western",
          "Genres/Action",
          "Genres/Adventure",
          "Genres/Animation",
          "Genres/Comedy",
          "Genres/Crime",
          "Genres/Drama",
          "Genres/Family",
          "Genres/Fantasy",
          "Genres/Musical",
          "Genres/Mystery",
          "Genres/Sci-Fi",
          "Genres/Sport",
          "Genres/Thriller",
          "Genres/Western",
          "Genres/Biography",
          "Genres/Crime",
          "Genres/Drama",
          "Genres/Film-Noir",
          "Genres/History",
          "Genres/Mystery",
          "Genres/Romance",
          "Genres/Thriller",
          "Genres/Comedy",
          "Genres/Drama",
          "Genres/Horror",
          "Genres/Mystery",
          "Genres/Romance",
          "Genres/Thriller",
          "Genres/Action",
          "Genres/Adventure",
          "Genres/Animation",
          "Genres/Biography",
          "Genres/Comedy",
          "Genres/Documentary",
          "Genres/Drama",
          "Genres/Family",
          "Genres/Fantasy",
          "Genres/History",
          "Genres/Music",
          "Genres/Sci-Fi",
          "Genres/Sport",
          "Genres/Thriller",
          "Genres/War",
          "Genres/Action",
          "Genres/Adventure",
          "Genres/Biography",
          "Genres/Documentary",
          "Genres/Drama",
          "Genres/Family",
          "Genres/Fantasy",
          "Genres/History",
          "Genres/Horror",
          "Genres/Music",
          "Genres/Mystery",
          "Genres/Romance",
          "Genres/Sci-Fi",
          "Genres/Thriller",
          "Genres/Western",
          "Genres/Music",
          "Genres/Action",
          "Genres/Adventure",
          "Genres/Animation",
          "Genres/Biography",
          "Genres/Comedy",
          "Genres/Crime",
          "Genres/Drama",
          "Genres/Family",
          "Genres/Fantasy",
          "Genres/Film-Noir",
          "Genres/History",
          "Genres/Horror",
          "Genres/Music",
          "Genres/Musical",
          "Genres/Mystery",
          "Genres/Romance",
          "Genres/Sci-Fi",
          "Genres/Sport",
          "Genres/Thriller",
          "Genres/War",
          "Genres/Western",
          "Genres",
          "Genres",
          "Genres",
          "Genres",
          "Genres",
          "Genres",
          "Genres",
          "Genres",
          "Genres",
          "Genres",
          "Genres",
          "Genres",
          "Genres",
          "Genres",
          "Genres",
          "Genres",
          "Genres",
          "Genres",
          "Genres",
          "Genres",
          "Genres",
          "Genres",
          "Genres",
          ""
         ],
         "type": "treemap",
         "values": [
          8.823529411764707,
          7.5,
          6.260032102728732,
          9.649122807017545,
          15.345268542199488,
          15.601023017902811,
          11.1340206185567,
          12.244897959183673,
          6.810035842293907,
          8.181818181818182,
          7.455429497568882,
          6.537282941777324,
          6.987060998151571,
          7.991038088125467,
          9.483994266602965,
          9.411764705882351,
          7.816711590296496,
          11.611030478955009,
          11.764705882352942,
          8.766716196136702,
          8.771929824561404,
          11.508951406649617,
          7.672634271099744,
          9.772727272727272,
          5.77319587628866,
          10.526315789473683,
          13.06122448979592,
          9.690721649484535,
          7.0201643017177,
          8.235294117647058,
          6.605019815059445,
          6.136363636363637,
          9.411764705882351,
          7.982583454281568,
          6.25,
          6.802218114602588,
          7.816711590296496,
          7.661085743277524,
          6.4973861090365945,
          9.72423802612482,
          7.282913165266106,
          6.810035842293907,
          7.13128038897893,
          7.983193277310924,
          22.31139646869984,
          5.77319587628866,
          11.764705882352942,
          7.8416728902165795,
          6.432748538011696,
          8.88661899897855,
          11.469534050179211,
          7.132243684992571,
          10.696920583468396,
          6.737120211360634,
          6.442577030812325,
          8.235294117647058,
          7.255200405885337,
          9.703504043126683,
          6.843718079673136,
          8.602150537634408,
          10.227272727272728,
          7.985212569316081,
          6.796116504854369,
          9.57955088389871,
          12.63001485884101,
          7.6175040518638575,
          8.771929824561404,
          6.185567010309279,
          11.590296495956874,
          8.422120750887874,
          9.022556390977444,
          13.636363636363637,
          14.606741573033707,
          14.035087719298245,
          8.45360824742268,
          8.695652173913043,
          8.951406649616368,
          11.490683229813664,
          11.764705882352942,
          5.434782608695652,
          13.909774436090226,
          9.779411764705882,
          17.647058823529413,
          9.64332892998679,
          11.05121293800539,
          11.298207495926126,
          7.097966728280961,
          7.85953177257525,
          7.13128038897893,
          8.45360824742268,
          8.625336927223719,
          9.994926433282595,
          9.79591836734694,
          6.099518459069021,
          11.428571428571429,
          6.102941176470588,
          8.979591836734693,
          6.332992849846782,
          6.284658040665434,
          7.762557077625571,
          6.537282941777324,
          12.544802867383511,
          6.432532347504621,
          10.25260029717682,
          9.398496240601505,
          12.78772378516624,
          7.60233918128655,
          10.88534107402032,
          13.46938775510204,
          9.718670076726342,
          10.150375939849624,
          8.960573476702509,
          7.429420505200595,
          10.242587601078167,
          6.810035842293907,
          7.132352941176471,
          6.026557711950971,
          10.7001321003963,
          7.42296918767507,
          6.4638783269961975,
          8.439897698209718,
          7.837338262476894,
          7.8416728902165795,
          10.588235294117649,
          7.610350076103501,
          10.20408163265306,
          6.30092341118957,
          10.661764705882351,
          9.426987060998153,
          7.548972766364071,
          14.910858995137763,
          8.850726552179657,
          9.869375907111756,
          8.168442415017758,
          8.403361344537815,
          8.571428571428571,
          7.894736842105263,
          12.244897959183673,
          6.7251461988304095,
          7.526881720430108,
          7.726597325408618,
          9.411764705882351,
          7.661822985468956,
          7.42296918767507,
          8.646616541353383,
          7.38362760834671,
          8.243727598566307,
          8.023774145616642,
          7.13128038897893,
          8.235294117647058,
          6.472919418758257,
          8.16326530612245,
          8.529411764705882,
          9.908069458631257,
          8.960573476702509,
          27.954545454545453,
          11.719038817005544,
          10.604929051530991,
          10.593900481540931,
          16.459627329192546,
          11.887072808320951,
          11.66936790923825,
          9.411764705882351,
          16.08187134502924,
          6.869220607661823,
          11.75257731958763,
          14.285714285714286,
          9.288824383164004,
          16.489091831557584,
          8.123249299719888,
          11.83673469387755,
          9.722976643128735,
          13.81074168797954,
          12.781954887218046,
          9.67741935483871,
          8.766716196136702,
          6.420545746388443,
          9.896907216494846,
          5.778491171749598,
          7.578008915304606,
          23.71967654986523,
          24.556062912227297,
          7.763023493360572,
          10.401188707280832,
          8.625336927223719,
          12.030075187969924,
          12.720588235294118,
          8.375893769152196,
          7.5,
          9.279112754158964,
          14.189693801344289,
          11.37123745819398,
          10.048622366288493,
          20,
          6.432748538011696,
          9.114927344782034,
          7.816711590296496,
          13.497822931785196,
          11.922881785895484,
          10.364145658263306,
          14.068441064638783,
          14.285714285714286,
          6.818181818181818,
          5.778491171749598,
          7.526881720430108,
          7.578558225508318,
          7.3339703774486384,
          11.05121293800539,
          11.770674784373414,
          6.911764705882353,
          7.017543859649122,
          10.997442455242966,
          9.022556390977444,
          8.184143222506394,
          9.207161125319692,
          7.2442120985810305,
          8.235294117647058,
          6.363636363636363,
          9.932785660941,
          11.46589259796807,
          7.767517653449213,
          5.457463884430177,
          18.350515463917525,
          11.05121293800539,
          7.455429497568882,
          8.718626155878468,
          9.143686502177069,
          16.102941176470587,
          15.934627170582226,
          18.63799283154122,
          12.272727272727272,
          19.88909426987061,
          16.430171769977594,
          9.791332263242376,
          16.340181557572862,
          20.50520059435364,
          19.611021069692057,
          17.647058823529413,
          9.064327485380115,
          12.285336856010568,
          19.17525773195876,
          16.711590296495956,
          16.25544267053701,
          19.431760527650937,
          16.386554621848738,
          5.434782608695652,
          17.551020408163264,
          16.295491580662684,
          10.74168797953964,
          13.909774436090226,
          8.951406649616368,
          6.230847803881511,
          7.467652495378928,
          7.2442120985810305,
          7.716196846631629,
          7.429420505200595,
          8.26580226904376,
          8.850726552179657,
          8.99854862119013,
          7.170016295491581,
          13.909774436090226,
          8.382352941176471,
          8.273748723186925,
          8.243727598566307,
          8.636363636363637,
          9.722735674676525,
          8.439133681852129,
          9.053989488772098,
          9.212481426448736,
          8.427876823338735,
          10.588235294117649,
          6.7251461988304095,
          6.605019815059445,
          6.597938144329897,
          9.164420485175205,
          10.096397767630643,
          7.142857142857143,
          8.16326530612245,
          8.093427485062467,
          7.0588235294117645,
          6.128702757916241,
          9.090909090909092,
          7.504621072088724,
          7.468259895444361,
          9.10176779741997,
          7.13128038897893,
          8.235294117647058,
          7.894736842105263,
          7.6923076923076925,
          8.878741755454085,
          10.612244897959185,
          7.658881042911461,
          7.41687979539642,
          9.022556390977444,
          7.223113964686998,
          8.982826948480845,
          7.6923076923076925,
          8.543417366946779,
          7.170016295491581,
          7.84313725490196,
          8.676470588235293,
          14.189693801344289,
          18.823529411764707,
          12.62699564586357,
          11.461162411732754,
          13.608247422680412,
          12.244897959183673,
          7.983193277310924,
          5.434782608695652,
          9.072164948453608,
          6.605019815059445,
          7.002801120448179,
          8.571428571428571,
          7.279411764705882,
          5.9244126659857,
          7.150153217568948,
          12.186379928315413,
          19.545454545454547,
          7.062600321027287,
          10.654562828475871,
          8.915304606240714,
          7.779578606158833,
          16.95906432748538,
          5.979381443298969,
          11.859838274932615,
          9.386098427194318,
          9.387755102040815,
          14.322250639386189,
          6.472919418758257,
          8.161764705882353,
          6.870799103808813,
          7.278652906029332,
          9.703504043126683,
          7.0588235294117645,
          9.090909090909092,
          7.168458781362007,
          7.8743068391866915,
          7.766990291262136,
          7.835642618251314,
          9.50965824665676,
          7.779578606158833,
          9.433962264150944,
          8.272859216255442,
          7.864028411973617,
          8.403361344537815,
          7.115697990222705,
          8.439897698209718,
          9.398496240601505,
          9.379128137384413,
          21.804511278195488,
          10.681818181818182,
          8.771929824561404,
          7.5,
          10,
          16.95906432748538,
          39.38618925831202,
          9.022556390977444,
          8.161764705882353,
          8.78447395301328,
          8.243727598566307,
          7.578558225508318,
          6.9454817027632565,
          6.665074056378404,
          9.955423476968797,
          10.372771474878444,
          8.89487870619946,
          7.547169811320755,
          9.103641456582633,
          9.387755102040815,
          7.115697990222705,
          11.278195488721805,
          6.590909090909091,
          7.8416728902165795,
          8.4089823220258,
          20,
          6.432748538011696,
          10.304789550072568,
          8.016235413495687,
          8.636610537751222,
          6.543438077634011,
          7.405637840420449,
          6.737120211360634,
          8.708272859216255,
          10.248604769152715,
          6.6811515480717,
          8.308823529411764,
          10.21450459652707,
          11.469534050179211,
          10.909090909090908,
          6.247689463955638,
          8.507223113964686,
          7.85953177257525,
          7.429420505200595,
          9.238249594813617,
          9.35672514619883,
          8.24742268041237,
          10.92436974789916,
          11.83673469387755,
          6.137968495382944,
          21.48337595907928,
          8.897058823529411,
          9.805924412665986,
          9.772727272727272,
          5.457463884430177,
          8.791208791208792,
          7.132243684992571,
          9.238249594813617,
          7.309941520467836,
          9.64332892998679,
          6.391752577319588,
          8.99854862119013,
          8.168442415017758,
          9.523809523809524,
          8.419337316675719,
          9.022556390977444,
          6.185567010309279,
          8.823529411764707,
          13.38100102145046,
          16.129032258064516,
          12.045454545454543,
          10.979667282809611,
          11.053024645257654,
          16.8179646440516,
          15.898959881129272,
          16.53160453808752,
          10.588235294117649,
          10.526315789473683,
          14.795244385733158,
          10.103092783505154,
          18.598382749326145,
          13.497822931785196,
          18.163368848300355,
          7.563025210084033,
          14.693877551020408,
          12.221618685497011,
          12.531969309462916,
          11.654135338345863,
          172.49999999999997,
          168.1307456588356,
          186.02150537634404,
          213.63636363636365,
          171.23844731977817,
          180.20911127707245,
          128.73194221508828,
          197.77830864787387,
          196.58246656760772,
          195.6239870340356,
          240.00000000000006,
          191.52046783625732,
          171.7305151915456,
          180.82474226804123,
          227.76280323450138,
          204.0638606676343,
          221.86707255200403,
          172.6890756302521,
          25,
          222.44897959183672,
          177.07767517653454,
          255.49872122762147,
          226.69172932330832,
          4327.628520432538
         ]
        }
       ],
       "layout": {
        "coloraxis": {
         "colorbar": {
          "title": {
           "text": "mean_rating"
          }
         },
         "colorscale": [
          [
           0,
           "rgb(103,0,31)"
          ],
          [
           0.1,
           "rgb(178,24,43)"
          ],
          [
           0.2,
           "rgb(214,96,77)"
          ],
          [
           0.3,
           "rgb(244,165,130)"
          ],
          [
           0.4,
           "rgb(253,219,199)"
          ],
          [
           0.5,
           "rgb(247,247,247)"
          ],
          [
           0.6,
           "rgb(209,229,240)"
          ],
          [
           0.7,
           "rgb(146,197,222)"
          ],
          [
           0.8,
           "rgb(67,147,195)"
          ],
          [
           0.9,
           "rgb(33,102,172)"
          ],
          [
           1,
           "rgb(5,48,97)"
          ]
         ]
        },
        "height": 400,
        "legend": {
         "tracegroupgap": 0
        },
        "template": {
         "data": {
          "bar": [
           {
            "error_x": {
             "color": "#2a3f5f"
            },
            "error_y": {
             "color": "#2a3f5f"
            },
            "marker": {
             "line": {
              "color": "#E5ECF6",
              "width": 0.5
             }
            },
            "type": "bar"
           }
          ],
          "barpolar": [
           {
            "marker": {
             "line": {
              "color": "#E5ECF6",
              "width": 0.5
             }
            },
            "type": "barpolar"
           }
          ],
          "carpet": [
           {
            "aaxis": {
             "endlinecolor": "#2a3f5f",
             "gridcolor": "white",
             "linecolor": "white",
             "minorgridcolor": "white",
             "startlinecolor": "#2a3f5f"
            },
            "baxis": {
             "endlinecolor": "#2a3f5f",
             "gridcolor": "white",
             "linecolor": "white",
             "minorgridcolor": "white",
             "startlinecolor": "#2a3f5f"
            },
            "type": "carpet"
           }
          ],
          "choropleth": [
           {
            "colorbar": {
             "outlinewidth": 0,
             "ticks": ""
            },
            "type": "choropleth"
           }
          ],
          "contour": [
           {
            "colorbar": {
             "outlinewidth": 0,
             "ticks": ""
            },
            "colorscale": [
             [
              0,
              "#0d0887"
             ],
             [
              0.1111111111111111,
              "#46039f"
             ],
             [
              0.2222222222222222,
              "#7201a8"
             ],
             [
              0.3333333333333333,
              "#9c179e"
             ],
             [
              0.4444444444444444,
              "#bd3786"
             ],
             [
              0.5555555555555556,
              "#d8576b"
             ],
             [
              0.6666666666666666,
              "#ed7953"
             ],
             [
              0.7777777777777778,
              "#fb9f3a"
             ],
             [
              0.8888888888888888,
              "#fdca26"
             ],
             [
              1,
              "#f0f921"
             ]
            ],
            "type": "contour"
           }
          ],
          "contourcarpet": [
           {
            "colorbar": {
             "outlinewidth": 0,
             "ticks": ""
            },
            "type": "contourcarpet"
           }
          ],
          "heatmap": [
           {
            "colorbar": {
             "outlinewidth": 0,
             "ticks": ""
            },
            "colorscale": [
             [
              0,
              "#0d0887"
             ],
             [
              0.1111111111111111,
              "#46039f"
             ],
             [
              0.2222222222222222,
              "#7201a8"
             ],
             [
              0.3333333333333333,
              "#9c179e"
             ],
             [
              0.4444444444444444,
              "#bd3786"
             ],
             [
              0.5555555555555556,
              "#d8576b"
             ],
             [
              0.6666666666666666,
              "#ed7953"
             ],
             [
              0.7777777777777778,
              "#fb9f3a"
             ],
             [
              0.8888888888888888,
              "#fdca26"
             ],
             [
              1,
              "#f0f921"
             ]
            ],
            "type": "heatmap"
           }
          ],
          "heatmapgl": [
           {
            "colorbar": {
             "outlinewidth": 0,
             "ticks": ""
            },
            "colorscale": [
             [
              0,
              "#0d0887"
             ],
             [
              0.1111111111111111,
              "#46039f"
             ],
             [
              0.2222222222222222,
              "#7201a8"
             ],
             [
              0.3333333333333333,
              "#9c179e"
             ],
             [
              0.4444444444444444,
              "#bd3786"
             ],
             [
              0.5555555555555556,
              "#d8576b"
             ],
             [
              0.6666666666666666,
              "#ed7953"
             ],
             [
              0.7777777777777778,
              "#fb9f3a"
             ],
             [
              0.8888888888888888,
              "#fdca26"
             ],
             [
              1,
              "#f0f921"
             ]
            ],
            "type": "heatmapgl"
           }
          ],
          "histogram": [
           {
            "marker": {
             "colorbar": {
              "outlinewidth": 0,
              "ticks": ""
             }
            },
            "type": "histogram"
           }
          ],
          "histogram2d": [
           {
            "colorbar": {
             "outlinewidth": 0,
             "ticks": ""
            },
            "colorscale": [
             [
              0,
              "#0d0887"
             ],
             [
              0.1111111111111111,
              "#46039f"
             ],
             [
              0.2222222222222222,
              "#7201a8"
             ],
             [
              0.3333333333333333,
              "#9c179e"
             ],
             [
              0.4444444444444444,
              "#bd3786"
             ],
             [
              0.5555555555555556,
              "#d8576b"
             ],
             [
              0.6666666666666666,
              "#ed7953"
             ],
             [
              0.7777777777777778,
              "#fb9f3a"
             ],
             [
              0.8888888888888888,
              "#fdca26"
             ],
             [
              1,
              "#f0f921"
             ]
            ],
            "type": "histogram2d"
           }
          ],
          "histogram2dcontour": [
           {
            "colorbar": {
             "outlinewidth": 0,
             "ticks": ""
            },
            "colorscale": [
             [
              0,
              "#0d0887"
             ],
             [
              0.1111111111111111,
              "#46039f"
             ],
             [
              0.2222222222222222,
              "#7201a8"
             ],
             [
              0.3333333333333333,
              "#9c179e"
             ],
             [
              0.4444444444444444,
              "#bd3786"
             ],
             [
              0.5555555555555556,
              "#d8576b"
             ],
             [
              0.6666666666666666,
              "#ed7953"
             ],
             [
              0.7777777777777778,
              "#fb9f3a"
             ],
             [
              0.8888888888888888,
              "#fdca26"
             ],
             [
              1,
              "#f0f921"
             ]
            ],
            "type": "histogram2dcontour"
           }
          ],
          "mesh3d": [
           {
            "colorbar": {
             "outlinewidth": 0,
             "ticks": ""
            },
            "type": "mesh3d"
           }
          ],
          "parcoords": [
           {
            "line": {
             "colorbar": {
              "outlinewidth": 0,
              "ticks": ""
             }
            },
            "type": "parcoords"
           }
          ],
          "pie": [
           {
            "automargin": true,
            "type": "pie"
           }
          ],
          "scatter": [
           {
            "marker": {
             "colorbar": {
              "outlinewidth": 0,
              "ticks": ""
             }
            },
            "type": "scatter"
           }
          ],
          "scatter3d": [
           {
            "line": {
             "colorbar": {
              "outlinewidth": 0,
              "ticks": ""
             }
            },
            "marker": {
             "colorbar": {
              "outlinewidth": 0,
              "ticks": ""
             }
            },
            "type": "scatter3d"
           }
          ],
          "scattercarpet": [
           {
            "marker": {
             "colorbar": {
              "outlinewidth": 0,
              "ticks": ""
             }
            },
            "type": "scattercarpet"
           }
          ],
          "scattergeo": [
           {
            "marker": {
             "colorbar": {
              "outlinewidth": 0,
              "ticks": ""
             }
            },
            "type": "scattergeo"
           }
          ],
          "scattergl": [
           {
            "marker": {
             "colorbar": {
              "outlinewidth": 0,
              "ticks": ""
             }
            },
            "type": "scattergl"
           }
          ],
          "scattermapbox": [
           {
            "marker": {
             "colorbar": {
              "outlinewidth": 0,
              "ticks": ""
             }
            },
            "type": "scattermapbox"
           }
          ],
          "scatterpolar": [
           {
            "marker": {
             "colorbar": {
              "outlinewidth": 0,
              "ticks": ""
             }
            },
            "type": "scatterpolar"
           }
          ],
          "scatterpolargl": [
           {
            "marker": {
             "colorbar": {
              "outlinewidth": 0,
              "ticks": ""
             }
            },
            "type": "scatterpolargl"
           }
          ],
          "scatterternary": [
           {
            "marker": {
             "colorbar": {
              "outlinewidth": 0,
              "ticks": ""
             }
            },
            "type": "scatterternary"
           }
          ],
          "surface": [
           {
            "colorbar": {
             "outlinewidth": 0,
             "ticks": ""
            },
            "colorscale": [
             [
              0,
              "#0d0887"
             ],
             [
              0.1111111111111111,
              "#46039f"
             ],
             [
              0.2222222222222222,
              "#7201a8"
             ],
             [
              0.3333333333333333,
              "#9c179e"
             ],
             [
              0.4444444444444444,
              "#bd3786"
             ],
             [
              0.5555555555555556,
              "#d8576b"
             ],
             [
              0.6666666666666666,
              "#ed7953"
             ],
             [
              0.7777777777777778,
              "#fb9f3a"
             ],
             [
              0.8888888888888888,
              "#fdca26"
             ],
             [
              1,
              "#f0f921"
             ]
            ],
            "type": "surface"
           }
          ],
          "table": [
           {
            "cells": {
             "fill": {
              "color": "#EBF0F8"
             },
             "line": {
              "color": "white"
             }
            },
            "header": {
             "fill": {
              "color": "#C8D4E3"
             },
             "line": {
              "color": "white"
             }
            },
            "type": "table"
           }
          ]
         },
         "layout": {
          "annotationdefaults": {
           "arrowcolor": "#2a3f5f",
           "arrowhead": 0,
           "arrowwidth": 1
          },
          "autotypenumbers": "strict",
          "coloraxis": {
           "colorbar": {
            "outlinewidth": 0,
            "ticks": ""
           }
          },
          "colorscale": {
           "diverging": [
            [
             0,
             "#8e0152"
            ],
            [
             0.1,
             "#c51b7d"
            ],
            [
             0.2,
             "#de77ae"
            ],
            [
             0.3,
             "#f1b6da"
            ],
            [
             0.4,
             "#fde0ef"
            ],
            [
             0.5,
             "#f7f7f7"
            ],
            [
             0.6,
             "#e6f5d0"
            ],
            [
             0.7,
             "#b8e186"
            ],
            [
             0.8,
             "#7fbc41"
            ],
            [
             0.9,
             "#4d9221"
            ],
            [
             1,
             "#276419"
            ]
           ],
           "sequential": [
            [
             0,
             "#0d0887"
            ],
            [
             0.1111111111111111,
             "#46039f"
            ],
            [
             0.2222222222222222,
             "#7201a8"
            ],
            [
             0.3333333333333333,
             "#9c179e"
            ],
            [
             0.4444444444444444,
             "#bd3786"
            ],
            [
             0.5555555555555556,
             "#d8576b"
            ],
            [
             0.6666666666666666,
             "#ed7953"
            ],
            [
             0.7777777777777778,
             "#fb9f3a"
            ],
            [
             0.8888888888888888,
             "#fdca26"
            ],
            [
             1,
             "#f0f921"
            ]
           ],
           "sequentialminus": [
            [
             0,
             "#0d0887"
            ],
            [
             0.1111111111111111,
             "#46039f"
            ],
            [
             0.2222222222222222,
             "#7201a8"
            ],
            [
             0.3333333333333333,
             "#9c179e"
            ],
            [
             0.4444444444444444,
             "#bd3786"
            ],
            [
             0.5555555555555556,
             "#d8576b"
            ],
            [
             0.6666666666666666,
             "#ed7953"
            ],
            [
             0.7777777777777778,
             "#fb9f3a"
            ],
            [
             0.8888888888888888,
             "#fdca26"
            ],
            [
             1,
             "#f0f921"
            ]
           ]
          },
          "colorway": [
           "#636efa",
           "#EF553B",
           "#00cc96",
           "#ab63fa",
           "#FFA15A",
           "#19d3f3",
           "#FF6692",
           "#B6E880",
           "#FF97FF",
           "#FECB52"
          ],
          "font": {
           "color": "#2a3f5f"
          },
          "geo": {
           "bgcolor": "white",
           "lakecolor": "white",
           "landcolor": "#E5ECF6",
           "showlakes": true,
           "showland": true,
           "subunitcolor": "white"
          },
          "hoverlabel": {
           "align": "left"
          },
          "hovermode": "closest",
          "mapbox": {
           "style": "light"
          },
          "paper_bgcolor": "white",
          "plot_bgcolor": "#E5ECF6",
          "polar": {
           "angularaxis": {
            "gridcolor": "white",
            "linecolor": "white",
            "ticks": ""
           },
           "bgcolor": "#E5ECF6",
           "radialaxis": {
            "gridcolor": "white",
            "linecolor": "white",
            "ticks": ""
           }
          },
          "scene": {
           "xaxis": {
            "backgroundcolor": "#E5ECF6",
            "gridcolor": "white",
            "gridwidth": 2,
            "linecolor": "white",
            "showbackground": true,
            "ticks": "",
            "zerolinecolor": "white"
           },
           "yaxis": {
            "backgroundcolor": "#E5ECF6",
            "gridcolor": "white",
            "gridwidth": 2,
            "linecolor": "white",
            "showbackground": true,
            "ticks": "",
            "zerolinecolor": "white"
           },
           "zaxis": {
            "backgroundcolor": "#E5ECF6",
            "gridcolor": "white",
            "gridwidth": 2,
            "linecolor": "white",
            "showbackground": true,
            "ticks": "",
            "zerolinecolor": "white"
           }
          },
          "shapedefaults": {
           "line": {
            "color": "#2a3f5f"
           }
          },
          "ternary": {
           "aaxis": {
            "gridcolor": "white",
            "linecolor": "white",
            "ticks": ""
           },
           "baxis": {
            "gridcolor": "white",
            "linecolor": "white",
            "ticks": ""
           },
           "bgcolor": "#E5ECF6",
           "caxis": {
            "gridcolor": "white",
            "linecolor": "white",
            "ticks": ""
           }
          },
          "title": {
           "x": 0.05
          },
          "xaxis": {
           "automargin": true,
           "gridcolor": "white",
           "linecolor": "white",
           "ticks": "",
           "title": {
            "standoff": 15
           },
           "zerolinecolor": "white",
           "zerolinewidth": 2
          },
          "yaxis": {
           "automargin": true,
           "gridcolor": "white",
           "linecolor": "white",
           "ticks": "",
           "title": {
            "standoff": 15
           },
           "zerolinecolor": "white",
           "zerolinewidth": 2
          }
         }
        },
        "title": {
         "text": "Word % Occurrence by Genre"
        },
        "width": 800
       }
      }
     },
     "metadata": {}
    }
   ],
   "source": [
    "viz.plot_treemap(save=reports)"
   ]
  },
  {
   "source": [
    "Additionally, a basic bar chart was made for each genre for a more specific observation."
   ],
   "cell_type": "markdown",
   "metadata": {}
  },
  {
   "cell_type": "code",
   "execution_count": 4,
   "metadata": {},
   "outputs": [
    {
     "output_type": "display_data",
     "data": {
      "text/plain": "<Figure size 432x288 with 1 Axes>",
      "image/svg+xml": "<?xml version=\"1.0\" encoding=\"utf-8\" standalone=\"no\"?>\r\n<!DOCTYPE svg PUBLIC \"-//W3C//DTD SVG 1.1//EN\"\r\n  \"http://www.w3.org/Graphics/SVG/1.1/DTD/svg11.dtd\">\r\n<svg height=\"300.291325pt\" version=\"1.1\" viewBox=\"0 0 382.704688 300.291325\" width=\"382.704688pt\" xmlns=\"http://www.w3.org/2000/svg\" xmlns:xlink=\"http://www.w3.org/1999/xlink\">\r\n <metadata>\r\n  <rdf:RDF xmlns:cc=\"http://creativecommons.org/ns#\" xmlns:dc=\"http://purl.org/dc/elements/1.1/\" xmlns:rdf=\"http://www.w3.org/1999/02/22-rdf-syntax-ns#\">\r\n   <cc:Work>\r\n    <dc:type rdf:resource=\"http://purl.org/dc/dcmitype/StillImage\"/>\r\n    <dc:date>2021-06-01T19:38:39.291491</dc:date>\r\n    <dc:format>image/svg+xml</dc:format>\r\n    <dc:creator>\r\n     <cc:Agent>\r\n      <dc:title>Matplotlib v3.4.1, https://matplotlib.org/</dc:title>\r\n     </cc:Agent>\r\n    </dc:creator>\r\n   </cc:Work>\r\n  </rdf:RDF>\r\n </metadata>\r\n <defs>\r\n  <style type=\"text/css\">*{stroke-linecap:butt;stroke-linejoin:round;}</style>\r\n </defs>\r\n <g id=\"figure_1\">\r\n  <g id=\"patch_1\">\r\n   <path d=\"M 0 300.291325 \r\nL 382.704688 300.291325 \r\nL 382.704688 0 \r\nL 0 0 \r\nz\r\n\" style=\"fill:none;\"/>\r\n  </g>\r\n  <g id=\"axes_1\">\r\n   <g id=\"patch_2\">\r\n    <path d=\"M 40.704688 239.758125 \r\nL 375.504688 239.758125 \r\nL 375.504688 22.318125 \r\nL 40.704688 22.318125 \r\nz\r\n\" style=\"fill:#ffffff;\"/>\r\n   </g>\r\n   <g id=\"patch_3\">\r\n    <path clip-path=\"url(#p37f6e308ec)\" d=\"M 44.052688 239.758125 \r\nL 70.836688 239.758125 \r\nL 70.836688 32.672411 \r\nL 44.052688 32.672411 \r\nz\r\n\" style=\"fill:#a03434;\"/>\r\n   </g>\r\n   <g id=\"patch_4\">\r\n    <path clip-path=\"url(#p37f6e308ec)\" d=\"M 77.532688 239.758125 \r\nL 104.316688 239.758125 \r\nL 104.316688 75.886578 \r\nL 77.532688 75.886578 \r\nz\r\n\" style=\"fill:#a03434;\"/>\r\n   </g>\r\n   <g id=\"patch_5\">\r\n    <path clip-path=\"url(#p37f6e308ec)\" d=\"M 111.012688 239.758125 \r\nL 137.796688 239.758125 \r\nL 137.796688 86.583155 \r\nL 111.012688 86.583155 \r\nz\r\n\" style=\"fill:#a03434;\"/>\r\n   </g>\r\n   <g id=\"patch_6\">\r\n    <path clip-path=\"url(#p37f6e308ec)\" d=\"M 144.492688 239.758125 \r\nL 171.276688 239.758125 \r\nL 171.276688 100.702635 \r\nL 144.492688 100.702635 \r\nz\r\n\" style=\"fill:#a03434;\"/>\r\n   </g>\r\n   <g id=\"patch_7\">\r\n    <path clip-path=\"url(#p37f6e308ec)\" d=\"M 177.972688 239.758125 \r\nL 204.756688 239.758125 \r\nL 204.756688 139.210309 \r\nL 177.972688 139.210309 \r\nz\r\n\" style=\"fill:#a03434;\"/>\r\n   </g>\r\n   <g id=\"patch_8\">\r\n    <path clip-path=\"url(#p37f6e308ec)\" d=\"M 211.452688 239.758125 \r\nL 238.236688 239.758125 \r\nL 238.236688 140.493898 \r\nL 211.452688 140.493898 \r\nz\r\n\" style=\"fill:#a03434;\"/>\r\n   </g>\r\n   <g id=\"patch_9\">\r\n    <path clip-path=\"url(#p37f6e308ec)\" d=\"M 244.932688 239.758125 \r\nL 271.716688 239.758125 \r\nL 271.716688 153.32979 \r\nL 244.932688 153.32979 \r\nz\r\n\" style=\"fill:#a03434;\"/>\r\n   </g>\r\n   <g id=\"patch_10\">\r\n    <path clip-path=\"url(#p37f6e308ec)\" d=\"M 278.412688 239.758125 \r\nL 305.196688 239.758125 \r\nL 305.196688 154.613379 \r\nL 278.412688 154.613379 \r\nz\r\n\" style=\"fill:#a03434;\"/>\r\n   </g>\r\n   <g id=\"patch_11\">\r\n    <path clip-path=\"url(#p37f6e308ec)\" d=\"M 311.892688 239.758125 \r\nL 338.676688 239.758125 \r\nL 338.676688 155.469105 \r\nL 311.892688 155.469105 \r\nz\r\n\" style=\"fill:#a03434;\"/>\r\n   </g>\r\n   <g id=\"patch_12\">\r\n    <path clip-path=\"url(#p37f6e308ec)\" d=\"M 345.372688 239.758125 \r\nL 372.156688 239.758125 \r\nL 372.156688 160.603461 \r\nL 345.372688 160.603461 \r\nz\r\n\" style=\"fill:#a03434;\"/>\r\n   </g>\r\n   <g id=\"matplotlib.axis_1\">\r\n    <g id=\"xtick_1\">\r\n     <g id=\"line2d_1\">\r\n      <defs>\r\n       <path d=\"M 0 0 \r\nL 0 3.5 \r\n\" id=\"m6f3f645bf2\" style=\"stroke:#000000;stroke-width:0.8;\"/>\r\n      </defs>\r\n      <g>\r\n       <use style=\"stroke:#000000;stroke-width:0.8;\" x=\"57.444688\" xlink:href=\"#m6f3f645bf2\" y=\"239.758125\"/>\r\n      </g>\r\n     </g>\r\n     <g id=\"text_1\">\r\n      <!-- love -->\r\n      <g transform=\"translate(51.982288 266.958177)rotate(-45)scale(0.1 -0.1)\">\r\n       <defs>\r\n        <path d=\"M 603 4863 \r\nL 1178 4863 \r\nL 1178 0 \r\nL 603 0 \r\nL 603 4863 \r\nz\r\n\" id=\"DejaVuSans-6c\" transform=\"scale(0.015625)\"/>\r\n        <path d=\"M 1959 3097 \r\nQ 1497 3097 1228 2736 \r\nQ 959 2375 959 1747 \r\nQ 959 1119 1226 758 \r\nQ 1494 397 1959 397 \r\nQ 2419 397 2687 759 \r\nQ 2956 1122 2956 1747 \r\nQ 2956 2369 2687 2733 \r\nQ 2419 3097 1959 3097 \r\nz\r\nM 1959 3584 \r\nQ 2709 3584 3137 3096 \r\nQ 3566 2609 3566 1747 \r\nQ 3566 888 3137 398 \r\nQ 2709 -91 1959 -91 \r\nQ 1206 -91 779 398 \r\nQ 353 888 353 1747 \r\nQ 353 2609 779 3096 \r\nQ 1206 3584 1959 3584 \r\nz\r\n\" id=\"DejaVuSans-6f\" transform=\"scale(0.015625)\"/>\r\n        <path d=\"M 191 3500 \r\nL 800 3500 \r\nL 1894 563 \r\nL 2988 3500 \r\nL 3597 3500 \r\nL 2284 0 \r\nL 1503 0 \r\nL 191 3500 \r\nz\r\n\" id=\"DejaVuSans-76\" transform=\"scale(0.015625)\"/>\r\n        <path d=\"M 3597 1894 \r\nL 3597 1613 \r\nL 953 1613 \r\nQ 991 1019 1311 708 \r\nQ 1631 397 2203 397 \r\nQ 2534 397 2845 478 \r\nQ 3156 559 3463 722 \r\nL 3463 178 \r\nQ 3153 47 2828 -22 \r\nQ 2503 -91 2169 -91 \r\nQ 1331 -91 842 396 \r\nQ 353 884 353 1716 \r\nQ 353 2575 817 3079 \r\nQ 1281 3584 2069 3584 \r\nQ 2775 3584 3186 3129 \r\nQ 3597 2675 3597 1894 \r\nz\r\nM 3022 2063 \r\nQ 3016 2534 2758 2815 \r\nQ 2500 3097 2075 3097 \r\nQ 1594 3097 1305 2825 \r\nQ 1016 2553 972 2059 \r\nL 3022 2063 \r\nz\r\n\" id=\"DejaVuSans-65\" transform=\"scale(0.015625)\"/>\r\n       </defs>\r\n       <use xlink:href=\"#DejaVuSans-6c\"/>\r\n       <use x=\"27.783203\" xlink:href=\"#DejaVuSans-6f\"/>\r\n       <use x=\"88.964844\" xlink:href=\"#DejaVuSans-76\"/>\r\n       <use x=\"148.144531\" xlink:href=\"#DejaVuSans-65\"/>\r\n      </g>\r\n     </g>\r\n    </g>\r\n    <g id=\"xtick_2\">\r\n     <g id=\"line2d_2\">\r\n      <g>\r\n       <use style=\"stroke:#000000;stroke-width:0.8;\" x=\"90.924688\" xlink:href=\"#m6f3f645bf2\" y=\"239.758125\"/>\r\n      </g>\r\n     </g>\r\n     <g id=\"text_2\">\r\n      <!-- new -->\r\n      <g transform=\"translate(85.568354 266.746045)rotate(-45)scale(0.1 -0.1)\">\r\n       <defs>\r\n        <path d=\"M 3513 2113 \r\nL 3513 0 \r\nL 2938 0 \r\nL 2938 2094 \r\nQ 2938 2591 2744 2837 \r\nQ 2550 3084 2163 3084 \r\nQ 1697 3084 1428 2787 \r\nQ 1159 2491 1159 1978 \r\nL 1159 0 \r\nL 581 0 \r\nL 581 3500 \r\nL 1159 3500 \r\nL 1159 2956 \r\nQ 1366 3272 1645 3428 \r\nQ 1925 3584 2291 3584 \r\nQ 2894 3584 3203 3211 \r\nQ 3513 2838 3513 2113 \r\nz\r\n\" id=\"DejaVuSans-6e\" transform=\"scale(0.015625)\"/>\r\n        <path d=\"M 269 3500 \r\nL 844 3500 \r\nL 1563 769 \r\nL 2278 3500 \r\nL 2956 3500 \r\nL 3675 769 \r\nL 4391 3500 \r\nL 4966 3500 \r\nL 4050 0 \r\nL 3372 0 \r\nL 2619 2869 \r\nL 1863 0 \r\nL 1184 0 \r\nL 269 3500 \r\nz\r\n\" id=\"DejaVuSans-77\" transform=\"scale(0.015625)\"/>\r\n       </defs>\r\n       <use xlink:href=\"#DejaVuSans-6e\"/>\r\n       <use x=\"63.378906\" xlink:href=\"#DejaVuSans-65\"/>\r\n       <use x=\"124.902344\" xlink:href=\"#DejaVuSans-77\"/>\r\n      </g>\r\n     </g>\r\n    </g>\r\n    <g id=\"xtick_3\">\r\n     <g id=\"line2d_3\">\r\n      <g>\r\n       <use style=\"stroke:#000000;stroke-width:0.8;\" x=\"124.404688\" xlink:href=\"#m6f3f645bf2\" y=\"239.758125\"/>\r\n      </g>\r\n     </g>\r\n     <g id=\"text_3\">\r\n      <!-- young -->\r\n      <g transform=\"translate(115.374161 274.094431)rotate(-45)scale(0.1 -0.1)\">\r\n       <defs>\r\n        <path d=\"M 2059 -325 \r\nQ 1816 -950 1584 -1140 \r\nQ 1353 -1331 966 -1331 \r\nL 506 -1331 \r\nL 506 -850 \r\nL 844 -850 \r\nQ 1081 -850 1212 -737 \r\nQ 1344 -625 1503 -206 \r\nL 1606 56 \r\nL 191 3500 \r\nL 800 3500 \r\nL 1894 763 \r\nL 2988 3500 \r\nL 3597 3500 \r\nL 2059 -325 \r\nz\r\n\" id=\"DejaVuSans-79\" transform=\"scale(0.015625)\"/>\r\n        <path d=\"M 544 1381 \r\nL 544 3500 \r\nL 1119 3500 \r\nL 1119 1403 \r\nQ 1119 906 1312 657 \r\nQ 1506 409 1894 409 \r\nQ 2359 409 2629 706 \r\nQ 2900 1003 2900 1516 \r\nL 2900 3500 \r\nL 3475 3500 \r\nL 3475 0 \r\nL 2900 0 \r\nL 2900 538 \r\nQ 2691 219 2414 64 \r\nQ 2138 -91 1772 -91 \r\nQ 1169 -91 856 284 \r\nQ 544 659 544 1381 \r\nz\r\nM 1991 3584 \r\nL 1991 3584 \r\nz\r\n\" id=\"DejaVuSans-75\" transform=\"scale(0.015625)\"/>\r\n        <path d=\"M 2906 1791 \r\nQ 2906 2416 2648 2759 \r\nQ 2391 3103 1925 3103 \r\nQ 1463 3103 1205 2759 \r\nQ 947 2416 947 1791 \r\nQ 947 1169 1205 825 \r\nQ 1463 481 1925 481 \r\nQ 2391 481 2648 825 \r\nQ 2906 1169 2906 1791 \r\nz\r\nM 3481 434 \r\nQ 3481 -459 3084 -895 \r\nQ 2688 -1331 1869 -1331 \r\nQ 1566 -1331 1297 -1286 \r\nQ 1028 -1241 775 -1147 \r\nL 775 -588 \r\nQ 1028 -725 1275 -790 \r\nQ 1522 -856 1778 -856 \r\nQ 2344 -856 2625 -561 \r\nQ 2906 -266 2906 331 \r\nL 2906 616 \r\nQ 2728 306 2450 153 \r\nQ 2172 0 1784 0 \r\nQ 1141 0 747 490 \r\nQ 353 981 353 1791 \r\nQ 353 2603 747 3093 \r\nQ 1141 3584 1784 3584 \r\nQ 2172 3584 2450 3431 \r\nQ 2728 3278 2906 2969 \r\nL 2906 3500 \r\nL 3481 3500 \r\nL 3481 434 \r\nz\r\n\" id=\"DejaVuSans-67\" transform=\"scale(0.015625)\"/>\r\n       </defs>\r\n       <use xlink:href=\"#DejaVuSans-79\"/>\r\n       <use x=\"59.179688\" xlink:href=\"#DejaVuSans-6f\"/>\r\n       <use x=\"120.361328\" xlink:href=\"#DejaVuSans-75\"/>\r\n       <use x=\"183.740234\" xlink:href=\"#DejaVuSans-6e\"/>\r\n       <use x=\"247.119141\" xlink:href=\"#DejaVuSans-67\"/>\r\n      </g>\r\n     </g>\r\n    </g>\r\n    <g id=\"xtick_4\">\r\n     <g id=\"line2d_4\">\r\n      <g>\r\n       <use style=\"stroke:#000000;stroke-width:0.8;\" x=\"157.884688\" xlink:href=\"#m6f3f645bf2\" y=\"239.758125\"/>\r\n      </g>\r\n     </g>\r\n     <g id=\"text_4\">\r\n      <!-- life -->\r\n      <g transform=\"translate(154.451353 262.900047)rotate(-45)scale(0.1 -0.1)\">\r\n       <defs>\r\n        <path d=\"M 603 3500 \r\nL 1178 3500 \r\nL 1178 0 \r\nL 603 0 \r\nL 603 3500 \r\nz\r\nM 603 4863 \r\nL 1178 4863 \r\nL 1178 4134 \r\nL 603 4134 \r\nL 603 4863 \r\nz\r\n\" id=\"DejaVuSans-69\" transform=\"scale(0.015625)\"/>\r\n        <path d=\"M 2375 4863 \r\nL 2375 4384 \r\nL 1825 4384 \r\nQ 1516 4384 1395 4259 \r\nQ 1275 4134 1275 3809 \r\nL 1275 3500 \r\nL 2222 3500 \r\nL 2222 3053 \r\nL 1275 3053 \r\nL 1275 0 \r\nL 697 0 \r\nL 697 3053 \r\nL 147 3053 \r\nL 147 3500 \r\nL 697 3500 \r\nL 697 3744 \r\nQ 697 4328 969 4595 \r\nQ 1241 4863 1831 4863 \r\nL 2375 4863 \r\nz\r\n\" id=\"DejaVuSans-66\" transform=\"scale(0.015625)\"/>\r\n       </defs>\r\n       <use xlink:href=\"#DejaVuSans-6c\"/>\r\n       <use x=\"27.783203\" xlink:href=\"#DejaVuSans-69\"/>\r\n       <use x=\"55.566406\" xlink:href=\"#DejaVuSans-66\"/>\r\n       <use x=\"90.771484\" xlink:href=\"#DejaVuSans-65\"/>\r\n      </g>\r\n     </g>\r\n    </g>\r\n    <g id=\"xtick_5\">\r\n     <g id=\"line2d_5\">\r\n      <g>\r\n       <use style=\"stroke:#000000;stroke-width:0.8;\" x=\"191.364688\" xlink:href=\"#m6f3f645bf2\" y=\"239.758125\"/>\r\n      </g>\r\n     </g>\r\n     <g id=\"text_5\">\r\n      <!-- man -->\r\n      <g transform=\"translate(185.464765 267.833222)rotate(-45)scale(0.1 -0.1)\">\r\n       <defs>\r\n        <path d=\"M 3328 2828 \r\nQ 3544 3216 3844 3400 \r\nQ 4144 3584 4550 3584 \r\nQ 5097 3584 5394 3201 \r\nQ 5691 2819 5691 2113 \r\nL 5691 0 \r\nL 5113 0 \r\nL 5113 2094 \r\nQ 5113 2597 4934 2840 \r\nQ 4756 3084 4391 3084 \r\nQ 3944 3084 3684 2787 \r\nQ 3425 2491 3425 1978 \r\nL 3425 0 \r\nL 2847 0 \r\nL 2847 2094 \r\nQ 2847 2600 2669 2842 \r\nQ 2491 3084 2119 3084 \r\nQ 1678 3084 1418 2786 \r\nQ 1159 2488 1159 1978 \r\nL 1159 0 \r\nL 581 0 \r\nL 581 3500 \r\nL 1159 3500 \r\nL 1159 2956 \r\nQ 1356 3278 1631 3431 \r\nQ 1906 3584 2284 3584 \r\nQ 2666 3584 2933 3390 \r\nQ 3200 3197 3328 2828 \r\nz\r\n\" id=\"DejaVuSans-6d\" transform=\"scale(0.015625)\"/>\r\n        <path d=\"M 2194 1759 \r\nQ 1497 1759 1228 1600 \r\nQ 959 1441 959 1056 \r\nQ 959 750 1161 570 \r\nQ 1363 391 1709 391 \r\nQ 2188 391 2477 730 \r\nQ 2766 1069 2766 1631 \r\nL 2766 1759 \r\nL 2194 1759 \r\nz\r\nM 3341 1997 \r\nL 3341 0 \r\nL 2766 0 \r\nL 2766 531 \r\nQ 2569 213 2275 61 \r\nQ 1981 -91 1556 -91 \r\nQ 1019 -91 701 211 \r\nQ 384 513 384 1019 \r\nQ 384 1609 779 1909 \r\nQ 1175 2209 1959 2209 \r\nL 2766 2209 \r\nL 2766 2266 \r\nQ 2766 2663 2505 2880 \r\nQ 2244 3097 1772 3097 \r\nQ 1472 3097 1187 3025 \r\nQ 903 2953 641 2809 \r\nL 641 3341 \r\nQ 956 3463 1253 3523 \r\nQ 1550 3584 1831 3584 \r\nQ 2591 3584 2966 3190 \r\nQ 3341 2797 3341 1997 \r\nz\r\n\" id=\"DejaVuSans-61\" transform=\"scale(0.015625)\"/>\r\n       </defs>\r\n       <use xlink:href=\"#DejaVuSans-6d\"/>\r\n       <use x=\"97.412109\" xlink:href=\"#DejaVuSans-61\"/>\r\n       <use x=\"158.691406\" xlink:href=\"#DejaVuSans-6e\"/>\r\n      </g>\r\n     </g>\r\n    </g>\r\n    <g id=\"xtick_6\">\r\n     <g id=\"line2d_6\">\r\n      <g>\r\n       <use style=\"stroke:#000000;stroke-width:0.8;\" x=\"224.844688\" xlink:href=\"#m6f3f645bf2\" y=\"239.758125\"/>\r\n      </g>\r\n     </g>\r\n     <g id=\"text_6\">\r\n      <!-- meets -->\r\n      <g transform=\"translate(215.773281 274.17619)rotate(-45)scale(0.1 -0.1)\">\r\n       <defs>\r\n        <path d=\"M 1172 4494 \r\nL 1172 3500 \r\nL 2356 3500 \r\nL 2356 3053 \r\nL 1172 3053 \r\nL 1172 1153 \r\nQ 1172 725 1289 603 \r\nQ 1406 481 1766 481 \r\nL 2356 481 \r\nL 2356 0 \r\nL 1766 0 \r\nQ 1100 0 847 248 \r\nQ 594 497 594 1153 \r\nL 594 3053 \r\nL 172 3053 \r\nL 172 3500 \r\nL 594 3500 \r\nL 594 4494 \r\nL 1172 4494 \r\nz\r\n\" id=\"DejaVuSans-74\" transform=\"scale(0.015625)\"/>\r\n        <path d=\"M 2834 3397 \r\nL 2834 2853 \r\nQ 2591 2978 2328 3040 \r\nQ 2066 3103 1784 3103 \r\nQ 1356 3103 1142 2972 \r\nQ 928 2841 928 2578 \r\nQ 928 2378 1081 2264 \r\nQ 1234 2150 1697 2047 \r\nL 1894 2003 \r\nQ 2506 1872 2764 1633 \r\nQ 3022 1394 3022 966 \r\nQ 3022 478 2636 193 \r\nQ 2250 -91 1575 -91 \r\nQ 1294 -91 989 -36 \r\nQ 684 19 347 128 \r\nL 347 722 \r\nQ 666 556 975 473 \r\nQ 1284 391 1588 391 \r\nQ 1994 391 2212 530 \r\nQ 2431 669 2431 922 \r\nQ 2431 1156 2273 1281 \r\nQ 2116 1406 1581 1522 \r\nL 1381 1569 \r\nQ 847 1681 609 1914 \r\nQ 372 2147 372 2553 \r\nQ 372 3047 722 3315 \r\nQ 1072 3584 1716 3584 \r\nQ 2034 3584 2315 3537 \r\nQ 2597 3491 2834 3397 \r\nz\r\n\" id=\"DejaVuSans-73\" transform=\"scale(0.015625)\"/>\r\n       </defs>\r\n       <use xlink:href=\"#DejaVuSans-6d\"/>\r\n       <use x=\"97.412109\" xlink:href=\"#DejaVuSans-65\"/>\r\n       <use x=\"158.935547\" xlink:href=\"#DejaVuSans-65\"/>\r\n       <use x=\"220.458984\" xlink:href=\"#DejaVuSans-74\"/>\r\n       <use x=\"259.667969\" xlink:href=\"#DejaVuSans-73\"/>\r\n      </g>\r\n     </g>\r\n    </g>\r\n    <g id=\"xtick_7\">\r\n     <g id=\"line2d_7\">\r\n      <g>\r\n       <use style=\"stroke:#000000;stroke-width:0.8;\" x=\"258.324688\" xlink:href=\"#m6f3f645bf2\" y=\"239.758125\"/>\r\n      </g>\r\n     </g>\r\n     <g id=\"text_7\">\r\n      <!-- woman -->\r\n      <g transform=\"translate(247.370057 277.942639)rotate(-45)scale(0.1 -0.1)\">\r\n       <use xlink:href=\"#DejaVuSans-77\"/>\r\n       <use x=\"81.787109\" xlink:href=\"#DejaVuSans-6f\"/>\r\n       <use x=\"142.96875\" xlink:href=\"#DejaVuSans-6d\"/>\r\n       <use x=\"240.380859\" xlink:href=\"#DejaVuSans-61\"/>\r\n       <use x=\"301.660156\" xlink:href=\"#DejaVuSans-6e\"/>\r\n      </g>\r\n     </g>\r\n    </g>\r\n    <g id=\"xtick_8\">\r\n     <g id=\"line2d_8\">\r\n      <g>\r\n       <use style=\"stroke:#000000;stroke-width:0.8;\" x=\"291.804688\" xlink:href=\"#m6f3f645bf2\" y=\"239.758125\"/>\r\n      </g>\r\n     </g>\r\n     <g id=\"text_8\">\r\n      <!-- other -->\r\n      <g transform=\"translate(284.336977 270.968798)rotate(-45)scale(0.1 -0.1)\">\r\n       <defs>\r\n        <path d=\"M 3513 2113 \r\nL 3513 0 \r\nL 2938 0 \r\nL 2938 2094 \r\nQ 2938 2591 2744 2837 \r\nQ 2550 3084 2163 3084 \r\nQ 1697 3084 1428 2787 \r\nQ 1159 2491 1159 1978 \r\nL 1159 0 \r\nL 581 0 \r\nL 581 4863 \r\nL 1159 4863 \r\nL 1159 2956 \r\nQ 1366 3272 1645 3428 \r\nQ 1925 3584 2291 3584 \r\nQ 2894 3584 3203 3211 \r\nQ 3513 2838 3513 2113 \r\nz\r\n\" id=\"DejaVuSans-68\" transform=\"scale(0.015625)\"/>\r\n        <path d=\"M 2631 2963 \r\nQ 2534 3019 2420 3045 \r\nQ 2306 3072 2169 3072 \r\nQ 1681 3072 1420 2755 \r\nQ 1159 2438 1159 1844 \r\nL 1159 0 \r\nL 581 0 \r\nL 581 3500 \r\nL 1159 3500 \r\nL 1159 2956 \r\nQ 1341 3275 1631 3429 \r\nQ 1922 3584 2338 3584 \r\nQ 2397 3584 2469 3576 \r\nQ 2541 3569 2628 3553 \r\nL 2631 2963 \r\nz\r\n\" id=\"DejaVuSans-72\" transform=\"scale(0.015625)\"/>\r\n       </defs>\r\n       <use xlink:href=\"#DejaVuSans-6f\"/>\r\n       <use x=\"61.181641\" xlink:href=\"#DejaVuSans-74\"/>\r\n       <use x=\"100.390625\" xlink:href=\"#DejaVuSans-68\"/>\r\n       <use x=\"163.769531\" xlink:href=\"#DejaVuSans-65\"/>\r\n       <use x=\"225.292969\" xlink:href=\"#DejaVuSans-72\"/>\r\n      </g>\r\n     </g>\r\n    </g>\r\n    <g id=\"xtick_9\">\r\n     <g id=\"line2d_9\">\r\n      <g>\r\n       <use style=\"stroke:#000000;stroke-width:0.8;\" x=\"325.284688\" xlink:href=\"#m6f3f645bf2\" y=\"239.758125\"/>\r\n      </g>\r\n     </g>\r\n     <g id=\"text_9\">\r\n      <!-- first -->\r\n      <g transform=\"translate(320.327758 265.947235)rotate(-45)scale(0.1 -0.1)\">\r\n       <use xlink:href=\"#DejaVuSans-66\"/>\r\n       <use x=\"35.205078\" xlink:href=\"#DejaVuSans-69\"/>\r\n       <use x=\"62.988281\" xlink:href=\"#DejaVuSans-72\"/>\r\n       <use x=\"104.101562\" xlink:href=\"#DejaVuSans-73\"/>\r\n       <use x=\"156.201172\" xlink:href=\"#DejaVuSans-74\"/>\r\n      </g>\r\n     </g>\r\n    </g>\r\n    <g id=\"xtick_10\">\r\n     <g id=\"line2d_10\">\r\n      <g>\r\n       <use style=\"stroke:#000000;stroke-width:0.8;\" x=\"358.764688\" xlink:href=\"#m6f3f645bf2\" y=\"239.758125\"/>\r\n      </g>\r\n     </g>\r\n     <g id=\"text_10\">\r\n      <!-- story -->\r\n      <g transform=\"translate(351.778693 270.005365)rotate(-45)scale(0.1 -0.1)\">\r\n       <use xlink:href=\"#DejaVuSans-73\"/>\r\n       <use x=\"52.099609\" xlink:href=\"#DejaVuSans-74\"/>\r\n       <use x=\"91.308594\" xlink:href=\"#DejaVuSans-6f\"/>\r\n       <use x=\"152.490234\" xlink:href=\"#DejaVuSans-72\"/>\r\n       <use x=\"193.603516\" xlink:href=\"#DejaVuSans-79\"/>\r\n      </g>\r\n     </g>\r\n    </g>\r\n    <g id=\"text_11\">\r\n     <!-- word -->\r\n     <g transform=\"translate(195.814063 291.011638)scale(0.1 -0.1)\">\r\n      <defs>\r\n       <path d=\"M 2906 2969 \r\nL 2906 4863 \r\nL 3481 4863 \r\nL 3481 0 \r\nL 2906 0 \r\nL 2906 525 \r\nQ 2725 213 2448 61 \r\nQ 2172 -91 1784 -91 \r\nQ 1150 -91 751 415 \r\nQ 353 922 353 1747 \r\nQ 353 2572 751 3078 \r\nQ 1150 3584 1784 3584 \r\nQ 2172 3584 2448 3432 \r\nQ 2725 3281 2906 2969 \r\nz\r\nM 947 1747 \r\nQ 947 1113 1208 752 \r\nQ 1469 391 1925 391 \r\nQ 2381 391 2643 752 \r\nQ 2906 1113 2906 1747 \r\nQ 2906 2381 2643 2742 \r\nQ 2381 3103 1925 3103 \r\nQ 1469 3103 1208 2742 \r\nQ 947 2381 947 1747 \r\nz\r\n\" id=\"DejaVuSans-64\" transform=\"scale(0.015625)\"/>\r\n      </defs>\r\n      <use xlink:href=\"#DejaVuSans-77\"/>\r\n      <use x=\"81.787109\" xlink:href=\"#DejaVuSans-6f\"/>\r\n      <use x=\"142.96875\" xlink:href=\"#DejaVuSans-72\"/>\r\n      <use x=\"182.332031\" xlink:href=\"#DejaVuSans-64\"/>\r\n     </g>\r\n    </g>\r\n   </g>\r\n   <g id=\"matplotlib.axis_2\">\r\n    <g id=\"ytick_1\">\r\n     <g id=\"line2d_11\">\r\n      <defs>\r\n       <path d=\"M 0 0 \r\nL -3.5 0 \r\n\" id=\"mc7a04c765a\" style=\"stroke:#000000;stroke-width:0.8;\"/>\r\n      </defs>\r\n      <g>\r\n       <use style=\"stroke:#000000;stroke-width:0.8;\" x=\"40.704688\" xlink:href=\"#mc7a04c765a\" y=\"239.758125\"/>\r\n      </g>\r\n     </g>\r\n     <g id=\"text_12\">\r\n      <!-- 0 -->\r\n      <g transform=\"translate(27.342188 243.557344)scale(0.1 -0.1)\">\r\n       <defs>\r\n        <path d=\"M 2034 4250 \r\nQ 1547 4250 1301 3770 \r\nQ 1056 3291 1056 2328 \r\nQ 1056 1369 1301 889 \r\nQ 1547 409 2034 409 \r\nQ 2525 409 2770 889 \r\nQ 3016 1369 3016 2328 \r\nQ 3016 3291 2770 3770 \r\nQ 2525 4250 2034 4250 \r\nz\r\nM 2034 4750 \r\nQ 2819 4750 3233 4129 \r\nQ 3647 3509 3647 2328 \r\nQ 3647 1150 3233 529 \r\nQ 2819 -91 2034 -91 \r\nQ 1250 -91 836 529 \r\nQ 422 1150 422 2328 \r\nQ 422 3509 836 4129 \r\nQ 1250 4750 2034 4750 \r\nz\r\n\" id=\"DejaVuSans-30\" transform=\"scale(0.015625)\"/>\r\n       </defs>\r\n       <use xlink:href=\"#DejaVuSans-30\"/>\r\n      </g>\r\n     </g>\r\n    </g>\r\n    <g id=\"ytick_2\">\r\n     <g id=\"line2d_12\">\r\n      <g>\r\n       <use style=\"stroke:#000000;stroke-width:0.8;\" x=\"40.704688\" xlink:href=\"#mc7a04c765a\" y=\"197.592222\"/>\r\n      </g>\r\n     </g>\r\n     <g id=\"text_13\">\r\n      <!-- 5 -->\r\n      <g transform=\"translate(27.342188 201.391441)scale(0.1 -0.1)\">\r\n       <defs>\r\n        <path d=\"M 691 4666 \r\nL 3169 4666 \r\nL 3169 4134 \r\nL 1269 4134 \r\nL 1269 2991 \r\nQ 1406 3038 1543 3061 \r\nQ 1681 3084 1819 3084 \r\nQ 2600 3084 3056 2656 \r\nQ 3513 2228 3513 1497 \r\nQ 3513 744 3044 326 \r\nQ 2575 -91 1722 -91 \r\nQ 1428 -91 1123 -41 \r\nQ 819 9 494 109 \r\nL 494 744 \r\nQ 775 591 1075 516 \r\nQ 1375 441 1709 441 \r\nQ 2250 441 2565 725 \r\nQ 2881 1009 2881 1497 \r\nQ 2881 1984 2565 2268 \r\nQ 2250 2553 1709 2553 \r\nQ 1456 2553 1204 2497 \r\nQ 953 2441 691 2322 \r\nL 691 4666 \r\nz\r\n\" id=\"DejaVuSans-35\" transform=\"scale(0.015625)\"/>\r\n       </defs>\r\n       <use xlink:href=\"#DejaVuSans-35\"/>\r\n      </g>\r\n     </g>\r\n    </g>\r\n    <g id=\"ytick_3\">\r\n     <g id=\"line2d_13\">\r\n      <g>\r\n       <use style=\"stroke:#000000;stroke-width:0.8;\" x=\"40.704688\" xlink:href=\"#mc7a04c765a\" y=\"155.426319\"/>\r\n      </g>\r\n     </g>\r\n     <g id=\"text_14\">\r\n      <!-- 10 -->\r\n      <g transform=\"translate(20.979688 159.225537)scale(0.1 -0.1)\">\r\n       <defs>\r\n        <path d=\"M 794 531 \r\nL 1825 531 \r\nL 1825 4091 \r\nL 703 3866 \r\nL 703 4441 \r\nL 1819 4666 \r\nL 2450 4666 \r\nL 2450 531 \r\nL 3481 531 \r\nL 3481 0 \r\nL 794 0 \r\nL 794 531 \r\nz\r\n\" id=\"DejaVuSans-31\" transform=\"scale(0.015625)\"/>\r\n       </defs>\r\n       <use xlink:href=\"#DejaVuSans-31\"/>\r\n       <use x=\"63.623047\" xlink:href=\"#DejaVuSans-30\"/>\r\n      </g>\r\n     </g>\r\n    </g>\r\n    <g id=\"ytick_4\">\r\n     <g id=\"line2d_14\">\r\n      <g>\r\n       <use style=\"stroke:#000000;stroke-width:0.8;\" x=\"40.704688\" xlink:href=\"#mc7a04c765a\" y=\"113.260415\"/>\r\n      </g>\r\n     </g>\r\n     <g id=\"text_15\">\r\n      <!-- 15 -->\r\n      <g transform=\"translate(20.979688 117.059634)scale(0.1 -0.1)\">\r\n       <use xlink:href=\"#DejaVuSans-31\"/>\r\n       <use x=\"63.623047\" xlink:href=\"#DejaVuSans-35\"/>\r\n      </g>\r\n     </g>\r\n    </g>\r\n    <g id=\"ytick_5\">\r\n     <g id=\"line2d_15\">\r\n      <g>\r\n       <use style=\"stroke:#000000;stroke-width:0.8;\" x=\"40.704688\" xlink:href=\"#mc7a04c765a\" y=\"71.094512\"/>\r\n      </g>\r\n     </g>\r\n     <g id=\"text_16\">\r\n      <!-- 20 -->\r\n      <g transform=\"translate(20.979688 74.893731)scale(0.1 -0.1)\">\r\n       <defs>\r\n        <path d=\"M 1228 531 \r\nL 3431 531 \r\nL 3431 0 \r\nL 469 0 \r\nL 469 531 \r\nQ 828 903 1448 1529 \r\nQ 2069 2156 2228 2338 \r\nQ 2531 2678 2651 2914 \r\nQ 2772 3150 2772 3378 \r\nQ 2772 3750 2511 3984 \r\nQ 2250 4219 1831 4219 \r\nQ 1534 4219 1204 4116 \r\nQ 875 4013 500 3803 \r\nL 500 4441 \r\nQ 881 4594 1212 4672 \r\nQ 1544 4750 1819 4750 \r\nQ 2544 4750 2975 4387 \r\nQ 3406 4025 3406 3419 \r\nQ 3406 3131 3298 2873 \r\nQ 3191 2616 2906 2266 \r\nQ 2828 2175 2409 1742 \r\nQ 1991 1309 1228 531 \r\nz\r\n\" id=\"DejaVuSans-32\" transform=\"scale(0.015625)\"/>\r\n       </defs>\r\n       <use xlink:href=\"#DejaVuSans-32\"/>\r\n       <use x=\"63.623047\" xlink:href=\"#DejaVuSans-30\"/>\r\n      </g>\r\n     </g>\r\n    </g>\r\n    <g id=\"ytick_6\">\r\n     <g id=\"line2d_16\">\r\n      <g>\r\n       <use style=\"stroke:#000000;stroke-width:0.8;\" x=\"40.704688\" xlink:href=\"#mc7a04c765a\" y=\"28.928609\"/>\r\n      </g>\r\n     </g>\r\n     <g id=\"text_17\">\r\n      <!-- 25 -->\r\n      <g transform=\"translate(20.979688 32.727828)scale(0.1 -0.1)\">\r\n       <use xlink:href=\"#DejaVuSans-32\"/>\r\n       <use x=\"63.623047\" xlink:href=\"#DejaVuSans-35\"/>\r\n      </g>\r\n     </g>\r\n    </g>\r\n    <g id=\"text_18\">\r\n     <!-- %_occurrence -->\r\n     <g transform=\"translate(14.621875 165.9975)rotate(-90)scale(0.1 -0.1)\">\r\n      <defs>\r\n       <path d=\"M 4653 2053 \r\nQ 4381 2053 4226 1822 \r\nQ 4072 1591 4072 1178 \r\nQ 4072 772 4226 539 \r\nQ 4381 306 4653 306 \r\nQ 4919 306 5073 539 \r\nQ 5228 772 5228 1178 \r\nQ 5228 1588 5073 1820 \r\nQ 4919 2053 4653 2053 \r\nz\r\nM 4653 2450 \r\nQ 5147 2450 5437 2106 \r\nQ 5728 1763 5728 1178 \r\nQ 5728 594 5436 251 \r\nQ 5144 -91 4653 -91 \r\nQ 4153 -91 3862 251 \r\nQ 3572 594 3572 1178 \r\nQ 3572 1766 3864 2108 \r\nQ 4156 2450 4653 2450 \r\nz\r\nM 1428 4353 \r\nQ 1159 4353 1004 4120 \r\nQ 850 3888 850 3481 \r\nQ 850 3069 1003 2837 \r\nQ 1156 2606 1428 2606 \r\nQ 1700 2606 1854 2837 \r\nQ 2009 3069 2009 3481 \r\nQ 2009 3884 1853 4118 \r\nQ 1697 4353 1428 4353 \r\nz\r\nM 4250 4750 \r\nL 4750 4750 \r\nL 1831 -91 \r\nL 1331 -91 \r\nL 4250 4750 \r\nz\r\nM 1428 4750 \r\nQ 1922 4750 2215 4408 \r\nQ 2509 4066 2509 3481 \r\nQ 2509 2891 2217 2550 \r\nQ 1925 2209 1428 2209 \r\nQ 931 2209 642 2551 \r\nQ 353 2894 353 3481 \r\nQ 353 4063 643 4406 \r\nQ 934 4750 1428 4750 \r\nz\r\n\" id=\"DejaVuSans-25\" transform=\"scale(0.015625)\"/>\r\n       <path d=\"M 3263 -1063 \r\nL 3263 -1509 \r\nL -63 -1509 \r\nL -63 -1063 \r\nL 3263 -1063 \r\nz\r\n\" id=\"DejaVuSans-5f\" transform=\"scale(0.015625)\"/>\r\n       <path d=\"M 3122 3366 \r\nL 3122 2828 \r\nQ 2878 2963 2633 3030 \r\nQ 2388 3097 2138 3097 \r\nQ 1578 3097 1268 2742 \r\nQ 959 2388 959 1747 \r\nQ 959 1106 1268 751 \r\nQ 1578 397 2138 397 \r\nQ 2388 397 2633 464 \r\nQ 2878 531 3122 666 \r\nL 3122 134 \r\nQ 2881 22 2623 -34 \r\nQ 2366 -91 2075 -91 \r\nQ 1284 -91 818 406 \r\nQ 353 903 353 1747 \r\nQ 353 2603 823 3093 \r\nQ 1294 3584 2113 3584 \r\nQ 2378 3584 2631 3529 \r\nQ 2884 3475 3122 3366 \r\nz\r\n\" id=\"DejaVuSans-63\" transform=\"scale(0.015625)\"/>\r\n      </defs>\r\n      <use xlink:href=\"#DejaVuSans-25\"/>\r\n      <use x=\"95.019531\" xlink:href=\"#DejaVuSans-5f\"/>\r\n      <use x=\"145.019531\" xlink:href=\"#DejaVuSans-6f\"/>\r\n      <use x=\"206.201172\" xlink:href=\"#DejaVuSans-63\"/>\r\n      <use x=\"261.181641\" xlink:href=\"#DejaVuSans-63\"/>\r\n      <use x=\"316.162109\" xlink:href=\"#DejaVuSans-75\"/>\r\n      <use x=\"379.541016\" xlink:href=\"#DejaVuSans-72\"/>\r\n      <use x=\"418.904297\" xlink:href=\"#DejaVuSans-72\"/>\r\n      <use x=\"457.767578\" xlink:href=\"#DejaVuSans-65\"/>\r\n      <use x=\"519.291016\" xlink:href=\"#DejaVuSans-6e\"/>\r\n      <use x=\"582.669922\" xlink:href=\"#DejaVuSans-63\"/>\r\n      <use x=\"637.650391\" xlink:href=\"#DejaVuSans-65\"/>\r\n     </g>\r\n    </g>\r\n   </g>\r\n   <g id=\"line2d_17\">\r\n    <path clip-path=\"url(#p37f6e308ec)\" d=\"M 0 0 \r\n\" style=\"fill:none;stroke:#424242;stroke-linecap:square;stroke-width:2.7;\"/>\r\n   </g>\r\n   <g id=\"line2d_18\">\r\n    <path clip-path=\"url(#p37f6e308ec)\" d=\"M 0 0 \r\n\" style=\"fill:none;stroke:#424242;stroke-linecap:square;stroke-width:2.7;\"/>\r\n   </g>\r\n   <g id=\"line2d_19\">\r\n    <path clip-path=\"url(#p37f6e308ec)\" d=\"M 0 0 \r\n\" style=\"fill:none;stroke:#424242;stroke-linecap:square;stroke-width:2.7;\"/>\r\n   </g>\r\n   <g id=\"line2d_20\">\r\n    <path clip-path=\"url(#p37f6e308ec)\" d=\"M 0 0 \r\n\" style=\"fill:none;stroke:#424242;stroke-linecap:square;stroke-width:2.7;\"/>\r\n   </g>\r\n   <g id=\"line2d_21\">\r\n    <path clip-path=\"url(#p37f6e308ec)\" d=\"M 0 0 \r\n\" style=\"fill:none;stroke:#424242;stroke-linecap:square;stroke-width:2.7;\"/>\r\n   </g>\r\n   <g id=\"line2d_22\">\r\n    <path clip-path=\"url(#p37f6e308ec)\" d=\"M 0 0 \r\n\" style=\"fill:none;stroke:#424242;stroke-linecap:square;stroke-width:2.7;\"/>\r\n   </g>\r\n   <g id=\"line2d_23\">\r\n    <path clip-path=\"url(#p37f6e308ec)\" d=\"M 0 0 \r\n\" style=\"fill:none;stroke:#424242;stroke-linecap:square;stroke-width:2.7;\"/>\r\n   </g>\r\n   <g id=\"line2d_24\">\r\n    <path clip-path=\"url(#p37f6e308ec)\" d=\"M 0 0 \r\n\" style=\"fill:none;stroke:#424242;stroke-linecap:square;stroke-width:2.7;\"/>\r\n   </g>\r\n   <g id=\"line2d_25\">\r\n    <path clip-path=\"url(#p37f6e308ec)\" d=\"M 0 0 \r\n\" style=\"fill:none;stroke:#424242;stroke-linecap:square;stroke-width:2.7;\"/>\r\n   </g>\r\n   <g id=\"line2d_26\">\r\n    <path clip-path=\"url(#p37f6e308ec)\" d=\"M 0 0 \r\n\" style=\"fill:none;stroke:#424242;stroke-linecap:square;stroke-width:2.7;\"/>\r\n   </g>\r\n   <g id=\"patch_13\">\r\n    <path d=\"M 40.704688 239.758125 \r\nL 40.704688 22.318125 \r\n\" style=\"fill:none;stroke:#000000;stroke-linecap:square;stroke-linejoin:miter;stroke-width:0.8;\"/>\r\n   </g>\r\n   <g id=\"patch_14\">\r\n    <path d=\"M 375.504688 239.758125 \r\nL 375.504688 22.318125 \r\n\" style=\"fill:none;stroke:#000000;stroke-linecap:square;stroke-linejoin:miter;stroke-width:0.8;\"/>\r\n   </g>\r\n   <g id=\"patch_15\">\r\n    <path d=\"M 40.704688 239.758125 \r\nL 375.504688 239.758125 \r\n\" style=\"fill:none;stroke:#000000;stroke-linecap:square;stroke-linejoin:miter;stroke-width:0.8;\"/>\r\n   </g>\r\n   <g id=\"patch_16\">\r\n    <path d=\"M 40.704688 22.318125 \r\nL 375.504688 22.318125 \r\n\" style=\"fill:none;stroke:#000000;stroke-linecap:square;stroke-linejoin:miter;stroke-width:0.8;\"/>\r\n   </g>\r\n   <g id=\"text_19\">\r\n    <!-- 25 -->\r\n    <g transform=\"translate(51.082188 30.431786)scale(0.1 -0.1)\">\r\n     <use xlink:href=\"#DejaVuSans-32\"/>\r\n     <use x=\"63.623047\" xlink:href=\"#DejaVuSans-35\"/>\r\n    </g>\r\n   </g>\r\n   <g id=\"text_20\">\r\n    <!-- 19 -->\r\n    <g transform=\"translate(84.562188 73.645953)scale(0.1 -0.1)\">\r\n     <defs>\r\n      <path d=\"M 703 97 \r\nL 703 672 \r\nQ 941 559 1184 500 \r\nQ 1428 441 1663 441 \r\nQ 2288 441 2617 861 \r\nQ 2947 1281 2994 2138 \r\nQ 2813 1869 2534 1725 \r\nQ 2256 1581 1919 1581 \r\nQ 1219 1581 811 2004 \r\nQ 403 2428 403 3163 \r\nQ 403 3881 828 4315 \r\nQ 1253 4750 1959 4750 \r\nQ 2769 4750 3195 4129 \r\nQ 3622 3509 3622 2328 \r\nQ 3622 1225 3098 567 \r\nQ 2575 -91 1691 -91 \r\nQ 1453 -91 1209 -44 \r\nQ 966 3 703 97 \r\nz\r\nM 1959 2075 \r\nQ 2384 2075 2632 2365 \r\nQ 2881 2656 2881 3163 \r\nQ 2881 3666 2632 3958 \r\nQ 2384 4250 1959 4250 \r\nQ 1534 4250 1286 3958 \r\nQ 1038 3666 1038 3163 \r\nQ 1038 2656 1286 2365 \r\nQ 1534 2075 1959 2075 \r\nz\r\n\" id=\"DejaVuSans-39\" transform=\"scale(0.015625)\"/>\r\n     </defs>\r\n     <use xlink:href=\"#DejaVuSans-31\"/>\r\n     <use x=\"63.623047\" xlink:href=\"#DejaVuSans-39\"/>\r\n    </g>\r\n   </g>\r\n   <g id=\"text_21\">\r\n    <!-- 18 -->\r\n    <g transform=\"translate(118.042188 84.34253)scale(0.1 -0.1)\">\r\n     <defs>\r\n      <path d=\"M 2034 2216 \r\nQ 1584 2216 1326 1975 \r\nQ 1069 1734 1069 1313 \r\nQ 1069 891 1326 650 \r\nQ 1584 409 2034 409 \r\nQ 2484 409 2743 651 \r\nQ 3003 894 3003 1313 \r\nQ 3003 1734 2745 1975 \r\nQ 2488 2216 2034 2216 \r\nz\r\nM 1403 2484 \r\nQ 997 2584 770 2862 \r\nQ 544 3141 544 3541 \r\nQ 544 4100 942 4425 \r\nQ 1341 4750 2034 4750 \r\nQ 2731 4750 3128 4425 \r\nQ 3525 4100 3525 3541 \r\nQ 3525 3141 3298 2862 \r\nQ 3072 2584 2669 2484 \r\nQ 3125 2378 3379 2068 \r\nQ 3634 1759 3634 1313 \r\nQ 3634 634 3220 271 \r\nQ 2806 -91 2034 -91 \r\nQ 1263 -91 848 271 \r\nQ 434 634 434 1313 \r\nQ 434 1759 690 2068 \r\nQ 947 2378 1403 2484 \r\nz\r\nM 1172 3481 \r\nQ 1172 3119 1398 2916 \r\nQ 1625 2713 2034 2713 \r\nQ 2441 2713 2670 2916 \r\nQ 2900 3119 2900 3481 \r\nQ 2900 3844 2670 4047 \r\nQ 2441 4250 2034 4250 \r\nQ 1625 4250 1398 4047 \r\nQ 1172 3844 1172 3481 \r\nz\r\n\" id=\"DejaVuSans-38\" transform=\"scale(0.015625)\"/>\r\n     </defs>\r\n     <use xlink:href=\"#DejaVuSans-31\"/>\r\n     <use x=\"63.623047\" xlink:href=\"#DejaVuSans-38\"/>\r\n    </g>\r\n   </g>\r\n   <g id=\"text_22\">\r\n    <!-- 16 -->\r\n    <g transform=\"translate(151.522188 98.46201)scale(0.1 -0.1)\">\r\n     <defs>\r\n      <path d=\"M 2113 2584 \r\nQ 1688 2584 1439 2293 \r\nQ 1191 2003 1191 1497 \r\nQ 1191 994 1439 701 \r\nQ 1688 409 2113 409 \r\nQ 2538 409 2786 701 \r\nQ 3034 994 3034 1497 \r\nQ 3034 2003 2786 2293 \r\nQ 2538 2584 2113 2584 \r\nz\r\nM 3366 4563 \r\nL 3366 3988 \r\nQ 3128 4100 2886 4159 \r\nQ 2644 4219 2406 4219 \r\nQ 1781 4219 1451 3797 \r\nQ 1122 3375 1075 2522 \r\nQ 1259 2794 1537 2939 \r\nQ 1816 3084 2150 3084 \r\nQ 2853 3084 3261 2657 \r\nQ 3669 2231 3669 1497 \r\nQ 3669 778 3244 343 \r\nQ 2819 -91 2113 -91 \r\nQ 1303 -91 875 529 \r\nQ 447 1150 447 2328 \r\nQ 447 3434 972 4092 \r\nQ 1497 4750 2381 4750 \r\nQ 2619 4750 2861 4703 \r\nQ 3103 4656 3366 4563 \r\nz\r\n\" id=\"DejaVuSans-36\" transform=\"scale(0.015625)\"/>\r\n     </defs>\r\n     <use xlink:href=\"#DejaVuSans-31\"/>\r\n     <use x=\"63.623047\" xlink:href=\"#DejaVuSans-36\"/>\r\n    </g>\r\n   </g>\r\n   <g id=\"text_23\">\r\n    <!-- 12 -->\r\n    <g transform=\"translate(185.002188 136.969684)scale(0.1 -0.1)\">\r\n     <use xlink:href=\"#DejaVuSans-31\"/>\r\n     <use x=\"63.623047\" xlink:href=\"#DejaVuSans-32\"/>\r\n    </g>\r\n   </g>\r\n   <g id=\"text_24\">\r\n    <!-- 12 -->\r\n    <g transform=\"translate(218.482188 138.253273)scale(0.1 -0.1)\">\r\n     <use xlink:href=\"#DejaVuSans-31\"/>\r\n     <use x=\"63.623047\" xlink:href=\"#DejaVuSans-32\"/>\r\n    </g>\r\n   </g>\r\n   <g id=\"text_25\">\r\n    <!-- 10 -->\r\n    <g transform=\"translate(251.962188 151.089165)scale(0.1 -0.1)\">\r\n     <use xlink:href=\"#DejaVuSans-31\"/>\r\n     <use x=\"63.623047\" xlink:href=\"#DejaVuSans-30\"/>\r\n    </g>\r\n   </g>\r\n   <g id=\"text_26\">\r\n    <!-- 10 -->\r\n    <g transform=\"translate(285.442188 152.372754)scale(0.1 -0.1)\">\r\n     <use xlink:href=\"#DejaVuSans-31\"/>\r\n     <use x=\"63.623047\" xlink:href=\"#DejaVuSans-30\"/>\r\n    </g>\r\n   </g>\r\n   <g id=\"text_27\">\r\n    <!-- 10 -->\r\n    <g transform=\"translate(318.922188 153.22848)scale(0.1 -0.1)\">\r\n     <use xlink:href=\"#DejaVuSans-31\"/>\r\n     <use x=\"63.623047\" xlink:href=\"#DejaVuSans-30\"/>\r\n    </g>\r\n   </g>\r\n   <g id=\"text_28\">\r\n    <!-- 9 -->\r\n    <g transform=\"translate(355.583438 158.362836)scale(0.1 -0.1)\">\r\n     <use xlink:href=\"#DejaVuSans-39\"/>\r\n    </g>\r\n   </g>\r\n   <g id=\"text_29\">\r\n    <!-- Most Popular Words from Romance Genre -->\r\n    <g transform=\"translate(83.192188 16.318125)scale(0.12 -0.12)\">\r\n     <defs>\r\n      <path d=\"M 628 4666 \r\nL 1569 4666 \r\nL 2759 1491 \r\nL 3956 4666 \r\nL 4897 4666 \r\nL 4897 0 \r\nL 4281 0 \r\nL 4281 4097 \r\nL 3078 897 \r\nL 2444 897 \r\nL 1241 4097 \r\nL 1241 0 \r\nL 628 0 \r\nL 628 4666 \r\nz\r\n\" id=\"DejaVuSans-4d\" transform=\"scale(0.015625)\"/>\r\n      <path id=\"DejaVuSans-20\" transform=\"scale(0.015625)\"/>\r\n      <path d=\"M 1259 4147 \r\nL 1259 2394 \r\nL 2053 2394 \r\nQ 2494 2394 2734 2622 \r\nQ 2975 2850 2975 3272 \r\nQ 2975 3691 2734 3919 \r\nQ 2494 4147 2053 4147 \r\nL 1259 4147 \r\nz\r\nM 628 4666 \r\nL 2053 4666 \r\nQ 2838 4666 3239 4311 \r\nQ 3641 3956 3641 3272 \r\nQ 3641 2581 3239 2228 \r\nQ 2838 1875 2053 1875 \r\nL 1259 1875 \r\nL 1259 0 \r\nL 628 0 \r\nL 628 4666 \r\nz\r\n\" id=\"DejaVuSans-50\" transform=\"scale(0.015625)\"/>\r\n      <path d=\"M 1159 525 \r\nL 1159 -1331 \r\nL 581 -1331 \r\nL 581 3500 \r\nL 1159 3500 \r\nL 1159 2969 \r\nQ 1341 3281 1617 3432 \r\nQ 1894 3584 2278 3584 \r\nQ 2916 3584 3314 3078 \r\nQ 3713 2572 3713 1747 \r\nQ 3713 922 3314 415 \r\nQ 2916 -91 2278 -91 \r\nQ 1894 -91 1617 61 \r\nQ 1341 213 1159 525 \r\nz\r\nM 3116 1747 \r\nQ 3116 2381 2855 2742 \r\nQ 2594 3103 2138 3103 \r\nQ 1681 3103 1420 2742 \r\nQ 1159 2381 1159 1747 \r\nQ 1159 1113 1420 752 \r\nQ 1681 391 2138 391 \r\nQ 2594 391 2855 752 \r\nQ 3116 1113 3116 1747 \r\nz\r\n\" id=\"DejaVuSans-70\" transform=\"scale(0.015625)\"/>\r\n      <path d=\"M 213 4666 \r\nL 850 4666 \r\nL 1831 722 \r\nL 2809 4666 \r\nL 3519 4666 \r\nL 4500 722 \r\nL 5478 4666 \r\nL 6119 4666 \r\nL 4947 0 \r\nL 4153 0 \r\nL 3169 4050 \r\nL 2175 0 \r\nL 1381 0 \r\nL 213 4666 \r\nz\r\n\" id=\"DejaVuSans-57\" transform=\"scale(0.015625)\"/>\r\n      <path d=\"M 2841 2188 \r\nQ 3044 2119 3236 1894 \r\nQ 3428 1669 3622 1275 \r\nL 4263 0 \r\nL 3584 0 \r\nL 2988 1197 \r\nQ 2756 1666 2539 1819 \r\nQ 2322 1972 1947 1972 \r\nL 1259 1972 \r\nL 1259 0 \r\nL 628 0 \r\nL 628 4666 \r\nL 2053 4666 \r\nQ 2853 4666 3247 4331 \r\nQ 3641 3997 3641 3322 \r\nQ 3641 2881 3436 2590 \r\nQ 3231 2300 2841 2188 \r\nz\r\nM 1259 4147 \r\nL 1259 2491 \r\nL 2053 2491 \r\nQ 2509 2491 2742 2702 \r\nQ 2975 2913 2975 3322 \r\nQ 2975 3731 2742 3939 \r\nQ 2509 4147 2053 4147 \r\nL 1259 4147 \r\nz\r\n\" id=\"DejaVuSans-52\" transform=\"scale(0.015625)\"/>\r\n      <path d=\"M 3809 666 \r\nL 3809 1919 \r\nL 2778 1919 \r\nL 2778 2438 \r\nL 4434 2438 \r\nL 4434 434 \r\nQ 4069 175 3628 42 \r\nQ 3188 -91 2688 -91 \r\nQ 1594 -91 976 548 \r\nQ 359 1188 359 2328 \r\nQ 359 3472 976 4111 \r\nQ 1594 4750 2688 4750 \r\nQ 3144 4750 3555 4637 \r\nQ 3966 4525 4313 4306 \r\nL 4313 3634 \r\nQ 3963 3931 3569 4081 \r\nQ 3175 4231 2741 4231 \r\nQ 1884 4231 1454 3753 \r\nQ 1025 3275 1025 2328 \r\nQ 1025 1384 1454 906 \r\nQ 1884 428 2741 428 \r\nQ 3075 428 3337 486 \r\nQ 3600 544 3809 666 \r\nz\r\n\" id=\"DejaVuSans-47\" transform=\"scale(0.015625)\"/>\r\n     </defs>\r\n     <use xlink:href=\"#DejaVuSans-4d\"/>\r\n     <use x=\"86.279297\" xlink:href=\"#DejaVuSans-6f\"/>\r\n     <use x=\"147.460938\" xlink:href=\"#DejaVuSans-73\"/>\r\n     <use x=\"199.560547\" xlink:href=\"#DejaVuSans-74\"/>\r\n     <use x=\"238.769531\" xlink:href=\"#DejaVuSans-20\"/>\r\n     <use x=\"270.556641\" xlink:href=\"#DejaVuSans-50\"/>\r\n     <use x=\"327.234375\" xlink:href=\"#DejaVuSans-6f\"/>\r\n     <use x=\"388.416016\" xlink:href=\"#DejaVuSans-70\"/>\r\n     <use x=\"451.892578\" xlink:href=\"#DejaVuSans-75\"/>\r\n     <use x=\"515.271484\" xlink:href=\"#DejaVuSans-6c\"/>\r\n     <use x=\"543.054688\" xlink:href=\"#DejaVuSans-61\"/>\r\n     <use x=\"604.333984\" xlink:href=\"#DejaVuSans-72\"/>\r\n     <use x=\"645.447266\" xlink:href=\"#DejaVuSans-20\"/>\r\n     <use x=\"677.234375\" xlink:href=\"#DejaVuSans-57\"/>\r\n     <use x=\"770.236328\" xlink:href=\"#DejaVuSans-6f\"/>\r\n     <use x=\"831.417969\" xlink:href=\"#DejaVuSans-72\"/>\r\n     <use x=\"870.78125\" xlink:href=\"#DejaVuSans-64\"/>\r\n     <use x=\"934.257812\" xlink:href=\"#DejaVuSans-73\"/>\r\n     <use x=\"986.357422\" xlink:href=\"#DejaVuSans-20\"/>\r\n     <use x=\"1018.144531\" xlink:href=\"#DejaVuSans-66\"/>\r\n     <use x=\"1053.349609\" xlink:href=\"#DejaVuSans-72\"/>\r\n     <use x=\"1092.212891\" xlink:href=\"#DejaVuSans-6f\"/>\r\n     <use x=\"1153.394531\" xlink:href=\"#DejaVuSans-6d\"/>\r\n     <use x=\"1250.806641\" xlink:href=\"#DejaVuSans-20\"/>\r\n     <use x=\"1282.59375\" xlink:href=\"#DejaVuSans-52\"/>\r\n     <use x=\"1347.576172\" xlink:href=\"#DejaVuSans-6f\"/>\r\n     <use x=\"1408.757812\" xlink:href=\"#DejaVuSans-6d\"/>\r\n     <use x=\"1506.169922\" xlink:href=\"#DejaVuSans-61\"/>\r\n     <use x=\"1567.449219\" xlink:href=\"#DejaVuSans-6e\"/>\r\n     <use x=\"1630.828125\" xlink:href=\"#DejaVuSans-63\"/>\r\n     <use x=\"1685.808594\" xlink:href=\"#DejaVuSans-65\"/>\r\n     <use x=\"1747.332031\" xlink:href=\"#DejaVuSans-20\"/>\r\n     <use x=\"1779.119141\" xlink:href=\"#DejaVuSans-47\"/>\r\n     <use x=\"1856.609375\" xlink:href=\"#DejaVuSans-65\"/>\r\n     <use x=\"1918.132812\" xlink:href=\"#DejaVuSans-6e\"/>\r\n     <use x=\"1981.511719\" xlink:href=\"#DejaVuSans-72\"/>\r\n     <use x=\"2020.375\" xlink:href=\"#DejaVuSans-65\"/>\r\n    </g>\r\n   </g>\r\n  </g>\r\n </g>\r\n <defs>\r\n  <clipPath id=\"p37f6e308ec\">\r\n   <rect height=\"217.44\" width=\"334.8\" x=\"40.704688\" y=\"22.318125\"/>\r\n  </clipPath>\r\n </defs>\r\n</svg>\r\n",
      "image/png": "[encoded data removed]"
     },
     "metadata": {
      "needs_background": "light"
     }
    }
   ],
   "source": [
    "viz.plot_word_barchart('Romance', x='word', y='%_occurrence', sort=1, show_values=True, save=reports)"
   ]
  },
  {
   "source": [
    "## 3. Flask & Streamlit\n",
    "\n",
    "* Flask server: run /api/server.py -x 8642 on terminal.\n",
    "* Streamlit: run /dashboard/app.y on terminal\n",
    "\n",
    "### Flask\n",
    "A simple Flask API was developed, containing an endpoint which returned a json of the\n",
    "BASE Dataframe. It required a specific token_id as a ‘get’ parameter and argparse was\n",
    "included for command line execution.\n",
    "All its functionality is contained in the server.py and apis_tb.py files.\n",
    "\n",
    "### Streamlit\n",
    "Streamlit is a python library destined to represent in a simple and dynamic dashboard the\n",
    "Analyzed Data. A section for each type of visualization was made, including a request to the\n",
    "previously designed Flask API endpoint to retrieve the json data.\n",
    "All its functionality is contained in the app.py and dashboard_tb.py file.\n",
    "Classes: StreamFuncs."
   ],
   "cell_type": "markdown",
   "metadata": {}
  },
  {
   "source": [
    "## 4. Option C EDA Questions\n",
    "\n",
    "### a. Was it possible to demonstrate the hypothesis? Why?\n",
    "After many data transformations on the Base Dataset, it was possible to find an answer to the stated hypothesis. \n",
    "                The analyzed data showed not only that the best rated genre was Film-Noir instead of Drama, \n",
    "                but neither 'murder' nor 'vengeance' were in the top 20.\n",
    "### b. What can you conclude about your data study?\n",
    "Based on the analyzed data it can be stated that the genre 'Film-Noir' has the highest rating\n",
    "                and the most common words by %_occurrence are: 'new', 'young', 'life'.\n",
    "### c. What would you change if you need to do another EDAproject?\n",
    "The data mining should be more specific. \n",
    "                There was not a clear goal at the beginning and valuable time was wasted on this particular task.\n",
    "                Furthermore, the results would be more reliable if more data was gathered.\n",
    "### d. What did you learn doing this project?\n",
    "To specify as much as possible the objective of the project and what is needed to reach that purpose."
   ],
   "cell_type": "markdown",
   "metadata": {}
  },
  {
   "source": [
    "## 5. Histograms and Heatmaps\n",
    "\n",
    "In order to fulfill certain requirements, Histograms and Heatmaps were plotted. The\n",
    "heatmaps did not provide any useful information for this particular study."
   ],
   "cell_type": "markdown",
   "metadata": {}
  },
  {
   "source": [
    "### 5.1 Netflix Rating Histogram"
   ],
   "cell_type": "markdown",
   "metadata": {}
  },
  {
   "cell_type": "code",
   "execution_count": 5,
   "metadata": {},
   "outputs": [
    {
     "output_type": "display_data",
     "data": {
      "text/plain": "<Figure size 432x288 with 1 Axes>",
      "image/svg+xml": "<?xml version=\"1.0\" encoding=\"utf-8\" standalone=\"no\"?>\r\n<!DOCTYPE svg PUBLIC \"-//W3C//DTD SVG 1.1//EN\"\r\n  \"http://www.w3.org/Graphics/SVG/1.1/DTD/svg11.dtd\">\r\n<svg height=\"277.5925pt\" version=\"1.1\" viewBox=\"0 0 395.328125 277.5925\" width=\"395.328125pt\" xmlns=\"http://www.w3.org/2000/svg\" xmlns:xlink=\"http://www.w3.org/1999/xlink\">\r\n <metadata>\r\n  <rdf:RDF xmlns:cc=\"http://creativecommons.org/ns#\" xmlns:dc=\"http://purl.org/dc/elements/1.1/\" xmlns:rdf=\"http://www.w3.org/1999/02/22-rdf-syntax-ns#\">\r\n   <cc:Work>\r\n    <dc:type rdf:resource=\"http://purl.org/dc/dcmitype/StillImage\"/>\r\n    <dc:date>2021-06-01T19:38:55.220305</dc:date>\r\n    <dc:format>image/svg+xml</dc:format>\r\n    <dc:creator>\r\n     <cc:Agent>\r\n      <dc:title>Matplotlib v3.4.1, https://matplotlib.org/</dc:title>\r\n     </cc:Agent>\r\n    </dc:creator>\r\n   </cc:Work>\r\n  </rdf:RDF>\r\n </metadata>\r\n <defs>\r\n  <style type=\"text/css\">*{stroke-linecap:butt;stroke-linejoin:round;}</style>\r\n </defs>\r\n <g id=\"figure_1\">\r\n  <g id=\"patch_1\">\r\n   <path d=\"M 0 277.5925 \r\nL 395.328125 277.5925 \r\nL 395.328125 0 \r\nL 0 0 \r\nz\r\n\" style=\"fill:none;\"/>\r\n  </g>\r\n  <g id=\"axes_1\">\r\n   <g id=\"patch_2\">\r\n    <path d=\"M 53.328125 239.758125 \r\nL 388.128125 239.758125 \r\nL 388.128125 22.318125 \r\nL 53.328125 22.318125 \r\nz\r\n\" style=\"fill:#ffffff;\"/>\r\n   </g>\r\n   <g id=\"patch_3\">\r\n    <path clip-path=\"url(#p8fc03ad498)\" d=\"M 68.546307 239.758125 \r\nL 129.419034 239.758125 \r\nL 129.419034 233.238977 \r\nL 68.546307 233.238977 \r\nz\r\n\" style=\"fill:#1f77b4;fill-opacity:0.75;stroke:#000000;stroke-linejoin:miter;\"/>\r\n   </g>\r\n   <g id=\"patch_4\">\r\n    <path clip-path=\"url(#p8fc03ad498)\" d=\"M 129.419034 239.758125 \r\nL 190.291761 239.758125 \r\nL 190.291761 193.419319 \r\nL 129.419034 193.419319 \r\nz\r\n\" style=\"fill:#1f77b4;fill-opacity:0.75;stroke:#000000;stroke-linejoin:miter;\"/>\r\n   </g>\r\n   <g id=\"patch_5\">\r\n    <path clip-path=\"url(#p8fc03ad498)\" d=\"M 190.291761 239.758125 \r\nL 251.164489 239.758125 \r\nL 251.164489 52.875895 \r\nL 190.291761 52.875895 \r\nz\r\n\" style=\"fill:#1f77b4;fill-opacity:0.75;stroke:#000000;stroke-linejoin:miter;\"/>\r\n   </g>\r\n   <g id=\"patch_6\">\r\n    <path clip-path=\"url(#p8fc03ad498)\" d=\"M 251.164489 239.758125 \r\nL 312.037216 239.758125 \r\nL 312.037216 32.672411 \r\nL 251.164489 32.672411 \r\nz\r\n\" style=\"fill:#1f77b4;fill-opacity:0.75;stroke:#000000;stroke-linejoin:miter;\"/>\r\n   </g>\r\n   <g id=\"patch_7\">\r\n    <path clip-path=\"url(#p8fc03ad498)\" d=\"M 312.037216 239.758125 \r\nL 372.909943 239.758125 \r\nL 372.909943 213.446611 \r\nL 312.037216 213.446611 \r\nz\r\n\" style=\"fill:#1f77b4;fill-opacity:0.75;stroke:#000000;stroke-linejoin:miter;\"/>\r\n   </g>\r\n   <g id=\"matplotlib.axis_1\">\r\n    <g id=\"xtick_1\">\r\n     <g id=\"line2d_1\">\r\n      <defs>\r\n       <path d=\"M 0 0 \r\nL 0 3.5 \r\n\" id=\"mb199ab4d29\" style=\"stroke:#000000;stroke-width:0.8;\"/>\r\n      </defs>\r\n      <g>\r\n       <use style=\"stroke:#000000;stroke-width:0.8;\" x=\"88.405211\" xlink:href=\"#mb199ab4d29\" y=\"239.758125\"/>\r\n      </g>\r\n     </g>\r\n     <g id=\"text_1\">\r\n      <!-- 3 -->\r\n      <g transform=\"translate(85.223961 254.356563)scale(0.1 -0.1)\">\r\n       <defs>\r\n        <path d=\"M 2597 2516 \r\nQ 3050 2419 3304 2112 \r\nQ 3559 1806 3559 1356 \r\nQ 3559 666 3084 287 \r\nQ 2609 -91 1734 -91 \r\nQ 1441 -91 1130 -33 \r\nQ 819 25 488 141 \r\nL 488 750 \r\nQ 750 597 1062 519 \r\nQ 1375 441 1716 441 \r\nQ 2309 441 2620 675 \r\nQ 2931 909 2931 1356 \r\nQ 2931 1769 2642 2001 \r\nQ 2353 2234 1838 2234 \r\nL 1294 2234 \r\nL 1294 2753 \r\nL 1863 2753 \r\nQ 2328 2753 2575 2939 \r\nQ 2822 3125 2822 3475 \r\nQ 2822 3834 2567 4026 \r\nQ 2313 4219 1838 4219 \r\nQ 1578 4219 1281 4162 \r\nQ 984 4106 628 3988 \r\nL 628 4550 \r\nQ 988 4650 1302 4700 \r\nQ 1616 4750 1894 4750 \r\nQ 2613 4750 3031 4423 \r\nQ 3450 4097 3450 3541 \r\nQ 3450 3153 3228 2886 \r\nQ 3006 2619 2597 2516 \r\nz\r\n\" id=\"DejaVuSans-33\" transform=\"scale(0.015625)\"/>\r\n       </defs>\r\n       <use xlink:href=\"#DejaVuSans-33\"/>\r\n      </g>\r\n     </g>\r\n    </g>\r\n    <g id=\"xtick_2\">\r\n     <g id=\"line2d_2\">\r\n      <g>\r\n       <use style=\"stroke:#000000;stroke-width:0.8;\" x=\"135.215484\" xlink:href=\"#mb199ab4d29\" y=\"239.758125\"/>\r\n      </g>\r\n     </g>\r\n     <g id=\"text_2\">\r\n      <!-- 4 -->\r\n      <g transform=\"translate(132.034234 254.356563)scale(0.1 -0.1)\">\r\n       <defs>\r\n        <path d=\"M 2419 4116 \r\nL 825 1625 \r\nL 2419 1625 \r\nL 2419 4116 \r\nz\r\nM 2253 4666 \r\nL 3047 4666 \r\nL 3047 1625 \r\nL 3713 1625 \r\nL 3713 1100 \r\nL 3047 1100 \r\nL 3047 0 \r\nL 2419 0 \r\nL 2419 1100 \r\nL 313 1100 \r\nL 313 1709 \r\nL 2253 4666 \r\nz\r\n\" id=\"DejaVuSans-34\" transform=\"scale(0.015625)\"/>\r\n       </defs>\r\n       <use xlink:href=\"#DejaVuSans-34\"/>\r\n      </g>\r\n     </g>\r\n    </g>\r\n    <g id=\"xtick_3\">\r\n     <g id=\"line2d_3\">\r\n      <g>\r\n       <use style=\"stroke:#000000;stroke-width:0.8;\" x=\"182.025758\" xlink:href=\"#mb199ab4d29\" y=\"239.758125\"/>\r\n      </g>\r\n     </g>\r\n     <g id=\"text_3\">\r\n      <!-- 5 -->\r\n      <g transform=\"translate(178.844508 254.356563)scale(0.1 -0.1)\">\r\n       <defs>\r\n        <path d=\"M 691 4666 \r\nL 3169 4666 \r\nL 3169 4134 \r\nL 1269 4134 \r\nL 1269 2991 \r\nQ 1406 3038 1543 3061 \r\nQ 1681 3084 1819 3084 \r\nQ 2600 3084 3056 2656 \r\nQ 3513 2228 3513 1497 \r\nQ 3513 744 3044 326 \r\nQ 2575 -91 1722 -91 \r\nQ 1428 -91 1123 -41 \r\nQ 819 9 494 109 \r\nL 494 744 \r\nQ 775 591 1075 516 \r\nQ 1375 441 1709 441 \r\nQ 2250 441 2565 725 \r\nQ 2881 1009 2881 1497 \r\nQ 2881 1984 2565 2268 \r\nQ 2250 2553 1709 2553 \r\nQ 1456 2553 1204 2497 \r\nQ 953 2441 691 2322 \r\nL 691 4666 \r\nz\r\n\" id=\"DejaVuSans-35\" transform=\"scale(0.015625)\"/>\r\n       </defs>\r\n       <use xlink:href=\"#DejaVuSans-35\"/>\r\n      </g>\r\n     </g>\r\n    </g>\r\n    <g id=\"xtick_4\">\r\n     <g id=\"line2d_4\">\r\n      <g>\r\n       <use style=\"stroke:#000000;stroke-width:0.8;\" x=\"228.836032\" xlink:href=\"#mb199ab4d29\" y=\"239.758125\"/>\r\n      </g>\r\n     </g>\r\n     <g id=\"text_4\">\r\n      <!-- 6 -->\r\n      <g transform=\"translate(225.654782 254.356563)scale(0.1 -0.1)\">\r\n       <defs>\r\n        <path d=\"M 2113 2584 \r\nQ 1688 2584 1439 2293 \r\nQ 1191 2003 1191 1497 \r\nQ 1191 994 1439 701 \r\nQ 1688 409 2113 409 \r\nQ 2538 409 2786 701 \r\nQ 3034 994 3034 1497 \r\nQ 3034 2003 2786 2293 \r\nQ 2538 2584 2113 2584 \r\nz\r\nM 3366 4563 \r\nL 3366 3988 \r\nQ 3128 4100 2886 4159 \r\nQ 2644 4219 2406 4219 \r\nQ 1781 4219 1451 3797 \r\nQ 1122 3375 1075 2522 \r\nQ 1259 2794 1537 2939 \r\nQ 1816 3084 2150 3084 \r\nQ 2853 3084 3261 2657 \r\nQ 3669 2231 3669 1497 \r\nQ 3669 778 3244 343 \r\nQ 2819 -91 2113 -91 \r\nQ 1303 -91 875 529 \r\nQ 447 1150 447 2328 \r\nQ 447 3434 972 4092 \r\nQ 1497 4750 2381 4750 \r\nQ 2619 4750 2861 4703 \r\nQ 3103 4656 3366 4563 \r\nz\r\n\" id=\"DejaVuSans-36\" transform=\"scale(0.015625)\"/>\r\n       </defs>\r\n       <use xlink:href=\"#DejaVuSans-36\"/>\r\n      </g>\r\n     </g>\r\n    </g>\r\n    <g id=\"xtick_5\">\r\n     <g id=\"line2d_5\">\r\n      <g>\r\n       <use style=\"stroke:#000000;stroke-width:0.8;\" x=\"275.646306\" xlink:href=\"#mb199ab4d29\" y=\"239.758125\"/>\r\n      </g>\r\n     </g>\r\n     <g id=\"text_5\">\r\n      <!-- 7 -->\r\n      <g transform=\"translate(272.465056 254.356563)scale(0.1 -0.1)\">\r\n       <defs>\r\n        <path d=\"M 525 4666 \r\nL 3525 4666 \r\nL 3525 4397 \r\nL 1831 0 \r\nL 1172 0 \r\nL 2766 4134 \r\nL 525 4134 \r\nL 525 4666 \r\nz\r\n\" id=\"DejaVuSans-37\" transform=\"scale(0.015625)\"/>\r\n       </defs>\r\n       <use xlink:href=\"#DejaVuSans-37\"/>\r\n      </g>\r\n     </g>\r\n    </g>\r\n    <g id=\"xtick_6\">\r\n     <g id=\"line2d_6\">\r\n      <g>\r\n       <use style=\"stroke:#000000;stroke-width:0.8;\" x=\"322.456579\" xlink:href=\"#mb199ab4d29\" y=\"239.758125\"/>\r\n      </g>\r\n     </g>\r\n     <g id=\"text_6\">\r\n      <!-- 8 -->\r\n      <g transform=\"translate(319.275329 254.356563)scale(0.1 -0.1)\">\r\n       <defs>\r\n        <path d=\"M 2034 2216 \r\nQ 1584 2216 1326 1975 \r\nQ 1069 1734 1069 1313 \r\nQ 1069 891 1326 650 \r\nQ 1584 409 2034 409 \r\nQ 2484 409 2743 651 \r\nQ 3003 894 3003 1313 \r\nQ 3003 1734 2745 1975 \r\nQ 2488 2216 2034 2216 \r\nz\r\nM 1403 2484 \r\nQ 997 2584 770 2862 \r\nQ 544 3141 544 3541 \r\nQ 544 4100 942 4425 \r\nQ 1341 4750 2034 4750 \r\nQ 2731 4750 3128 4425 \r\nQ 3525 4100 3525 3541 \r\nQ 3525 3141 3298 2862 \r\nQ 3072 2584 2669 2484 \r\nQ 3125 2378 3379 2068 \r\nQ 3634 1759 3634 1313 \r\nQ 3634 634 3220 271 \r\nQ 2806 -91 2034 -91 \r\nQ 1263 -91 848 271 \r\nQ 434 634 434 1313 \r\nQ 434 1759 690 2068 \r\nQ 947 2378 1403 2484 \r\nz\r\nM 1172 3481 \r\nQ 1172 3119 1398 2916 \r\nQ 1625 2713 2034 2713 \r\nQ 2441 2713 2670 2916 \r\nQ 2900 3119 2900 3481 \r\nQ 2900 3844 2670 4047 \r\nQ 2441 4250 2034 4250 \r\nQ 1625 4250 1398 4047 \r\nQ 1172 3844 1172 3481 \r\nz\r\n\" id=\"DejaVuSans-38\" transform=\"scale(0.015625)\"/>\r\n       </defs>\r\n       <use xlink:href=\"#DejaVuSans-38\"/>\r\n      </g>\r\n     </g>\r\n    </g>\r\n    <g id=\"xtick_7\">\r\n     <g id=\"line2d_7\">\r\n      <g>\r\n       <use style=\"stroke:#000000;stroke-width:0.8;\" x=\"369.266853\" xlink:href=\"#mb199ab4d29\" y=\"239.758125\"/>\r\n      </g>\r\n     </g>\r\n     <g id=\"text_7\">\r\n      <!-- 9 -->\r\n      <g transform=\"translate(366.085603 254.356563)scale(0.1 -0.1)\">\r\n       <defs>\r\n        <path d=\"M 703 97 \r\nL 703 672 \r\nQ 941 559 1184 500 \r\nQ 1428 441 1663 441 \r\nQ 2288 441 2617 861 \r\nQ 2947 1281 2994 2138 \r\nQ 2813 1869 2534 1725 \r\nQ 2256 1581 1919 1581 \r\nQ 1219 1581 811 2004 \r\nQ 403 2428 403 3163 \r\nQ 403 3881 828 4315 \r\nQ 1253 4750 1959 4750 \r\nQ 2769 4750 3195 4129 \r\nQ 3622 3509 3622 2328 \r\nQ 3622 1225 3098 567 \r\nQ 2575 -91 1691 -91 \r\nQ 1453 -91 1209 -44 \r\nQ 966 3 703 97 \r\nz\r\nM 1959 2075 \r\nQ 2384 2075 2632 2365 \r\nQ 2881 2656 2881 3163 \r\nQ 2881 3666 2632 3958 \r\nQ 2384 4250 1959 4250 \r\nQ 1534 4250 1286 3958 \r\nQ 1038 3666 1038 3163 \r\nQ 1038 2656 1286 2365 \r\nQ 1534 2075 1959 2075 \r\nz\r\n\" id=\"DejaVuSans-39\" transform=\"scale(0.015625)\"/>\r\n       </defs>\r\n       <use xlink:href=\"#DejaVuSans-39\"/>\r\n      </g>\r\n     </g>\r\n    </g>\r\n    <g id=\"text_8\">\r\n     <!-- netflix_rating -->\r\n     <g transform=\"translate(187.713281 268.034688)scale(0.1 -0.1)\">\r\n      <defs>\r\n       <path d=\"M 3513 2113 \r\nL 3513 0 \r\nL 2938 0 \r\nL 2938 2094 \r\nQ 2938 2591 2744 2837 \r\nQ 2550 3084 2163 3084 \r\nQ 1697 3084 1428 2787 \r\nQ 1159 2491 1159 1978 \r\nL 1159 0 \r\nL 581 0 \r\nL 581 3500 \r\nL 1159 3500 \r\nL 1159 2956 \r\nQ 1366 3272 1645 3428 \r\nQ 1925 3584 2291 3584 \r\nQ 2894 3584 3203 3211 \r\nQ 3513 2838 3513 2113 \r\nz\r\n\" id=\"DejaVuSans-6e\" transform=\"scale(0.015625)\"/>\r\n       <path d=\"M 3597 1894 \r\nL 3597 1613 \r\nL 953 1613 \r\nQ 991 1019 1311 708 \r\nQ 1631 397 2203 397 \r\nQ 2534 397 2845 478 \r\nQ 3156 559 3463 722 \r\nL 3463 178 \r\nQ 3153 47 2828 -22 \r\nQ 2503 -91 2169 -91 \r\nQ 1331 -91 842 396 \r\nQ 353 884 353 1716 \r\nQ 353 2575 817 3079 \r\nQ 1281 3584 2069 3584 \r\nQ 2775 3584 3186 3129 \r\nQ 3597 2675 3597 1894 \r\nz\r\nM 3022 2063 \r\nQ 3016 2534 2758 2815 \r\nQ 2500 3097 2075 3097 \r\nQ 1594 3097 1305 2825 \r\nQ 1016 2553 972 2059 \r\nL 3022 2063 \r\nz\r\n\" id=\"DejaVuSans-65\" transform=\"scale(0.015625)\"/>\r\n       <path d=\"M 1172 4494 \r\nL 1172 3500 \r\nL 2356 3500 \r\nL 2356 3053 \r\nL 1172 3053 \r\nL 1172 1153 \r\nQ 1172 725 1289 603 \r\nQ 1406 481 1766 481 \r\nL 2356 481 \r\nL 2356 0 \r\nL 1766 0 \r\nQ 1100 0 847 248 \r\nQ 594 497 594 1153 \r\nL 594 3053 \r\nL 172 3053 \r\nL 172 3500 \r\nL 594 3500 \r\nL 594 4494 \r\nL 1172 4494 \r\nz\r\n\" id=\"DejaVuSans-74\" transform=\"scale(0.015625)\"/>\r\n       <path d=\"M 2375 4863 \r\nL 2375 4384 \r\nL 1825 4384 \r\nQ 1516 4384 1395 4259 \r\nQ 1275 4134 1275 3809 \r\nL 1275 3500 \r\nL 2222 3500 \r\nL 2222 3053 \r\nL 1275 3053 \r\nL 1275 0 \r\nL 697 0 \r\nL 697 3053 \r\nL 147 3053 \r\nL 147 3500 \r\nL 697 3500 \r\nL 697 3744 \r\nQ 697 4328 969 4595 \r\nQ 1241 4863 1831 4863 \r\nL 2375 4863 \r\nz\r\n\" id=\"DejaVuSans-66\" transform=\"scale(0.015625)\"/>\r\n       <path d=\"M 603 4863 \r\nL 1178 4863 \r\nL 1178 0 \r\nL 603 0 \r\nL 603 4863 \r\nz\r\n\" id=\"DejaVuSans-6c\" transform=\"scale(0.015625)\"/>\r\n       <path d=\"M 603 3500 \r\nL 1178 3500 \r\nL 1178 0 \r\nL 603 0 \r\nL 603 3500 \r\nz\r\nM 603 4863 \r\nL 1178 4863 \r\nL 1178 4134 \r\nL 603 4134 \r\nL 603 4863 \r\nz\r\n\" id=\"DejaVuSans-69\" transform=\"scale(0.015625)\"/>\r\n       <path d=\"M 3513 3500 \r\nL 2247 1797 \r\nL 3578 0 \r\nL 2900 0 \r\nL 1881 1375 \r\nL 863 0 \r\nL 184 0 \r\nL 1544 1831 \r\nL 300 3500 \r\nL 978 3500 \r\nL 1906 2253 \r\nL 2834 3500 \r\nL 3513 3500 \r\nz\r\n\" id=\"DejaVuSans-78\" transform=\"scale(0.015625)\"/>\r\n       <path d=\"M 3263 -1063 \r\nL 3263 -1509 \r\nL -63 -1509 \r\nL -63 -1063 \r\nL 3263 -1063 \r\nz\r\n\" id=\"DejaVuSans-5f\" transform=\"scale(0.015625)\"/>\r\n       <path d=\"M 2631 2963 \r\nQ 2534 3019 2420 3045 \r\nQ 2306 3072 2169 3072 \r\nQ 1681 3072 1420 2755 \r\nQ 1159 2438 1159 1844 \r\nL 1159 0 \r\nL 581 0 \r\nL 581 3500 \r\nL 1159 3500 \r\nL 1159 2956 \r\nQ 1341 3275 1631 3429 \r\nQ 1922 3584 2338 3584 \r\nQ 2397 3584 2469 3576 \r\nQ 2541 3569 2628 3553 \r\nL 2631 2963 \r\nz\r\n\" id=\"DejaVuSans-72\" transform=\"scale(0.015625)\"/>\r\n       <path d=\"M 2194 1759 \r\nQ 1497 1759 1228 1600 \r\nQ 959 1441 959 1056 \r\nQ 959 750 1161 570 \r\nQ 1363 391 1709 391 \r\nQ 2188 391 2477 730 \r\nQ 2766 1069 2766 1631 \r\nL 2766 1759 \r\nL 2194 1759 \r\nz\r\nM 3341 1997 \r\nL 3341 0 \r\nL 2766 0 \r\nL 2766 531 \r\nQ 2569 213 2275 61 \r\nQ 1981 -91 1556 -91 \r\nQ 1019 -91 701 211 \r\nQ 384 513 384 1019 \r\nQ 384 1609 779 1909 \r\nQ 1175 2209 1959 2209 \r\nL 2766 2209 \r\nL 2766 2266 \r\nQ 2766 2663 2505 2880 \r\nQ 2244 3097 1772 3097 \r\nQ 1472 3097 1187 3025 \r\nQ 903 2953 641 2809 \r\nL 641 3341 \r\nQ 956 3463 1253 3523 \r\nQ 1550 3584 1831 3584 \r\nQ 2591 3584 2966 3190 \r\nQ 3341 2797 3341 1997 \r\nz\r\n\" id=\"DejaVuSans-61\" transform=\"scale(0.015625)\"/>\r\n       <path d=\"M 2906 1791 \r\nQ 2906 2416 2648 2759 \r\nQ 2391 3103 1925 3103 \r\nQ 1463 3103 1205 2759 \r\nQ 947 2416 947 1791 \r\nQ 947 1169 1205 825 \r\nQ 1463 481 1925 481 \r\nQ 2391 481 2648 825 \r\nQ 2906 1169 2906 1791 \r\nz\r\nM 3481 434 \r\nQ 3481 -459 3084 -895 \r\nQ 2688 -1331 1869 -1331 \r\nQ 1566 -1331 1297 -1286 \r\nQ 1028 -1241 775 -1147 \r\nL 775 -588 \r\nQ 1028 -725 1275 -790 \r\nQ 1522 -856 1778 -856 \r\nQ 2344 -856 2625 -561 \r\nQ 2906 -266 2906 331 \r\nL 2906 616 \r\nQ 2728 306 2450 153 \r\nQ 2172 0 1784 0 \r\nQ 1141 0 747 490 \r\nQ 353 981 353 1791 \r\nQ 353 2603 747 3093 \r\nQ 1141 3584 1784 3584 \r\nQ 2172 3584 2450 3431 \r\nQ 2728 3278 2906 2969 \r\nL 2906 3500 \r\nL 3481 3500 \r\nL 3481 434 \r\nz\r\n\" id=\"DejaVuSans-67\" transform=\"scale(0.015625)\"/>\r\n      </defs>\r\n      <use xlink:href=\"#DejaVuSans-6e\"/>\r\n      <use x=\"63.378906\" xlink:href=\"#DejaVuSans-65\"/>\r\n      <use x=\"124.902344\" xlink:href=\"#DejaVuSans-74\"/>\r\n      <use x=\"164.111328\" xlink:href=\"#DejaVuSans-66\"/>\r\n      <use x=\"199.316406\" xlink:href=\"#DejaVuSans-6c\"/>\r\n      <use x=\"227.099609\" xlink:href=\"#DejaVuSans-69\"/>\r\n      <use x=\"254.882812\" xlink:href=\"#DejaVuSans-78\"/>\r\n      <use x=\"314.0625\" xlink:href=\"#DejaVuSans-5f\"/>\r\n      <use x=\"364.0625\" xlink:href=\"#DejaVuSans-72\"/>\r\n      <use x=\"405.175781\" xlink:href=\"#DejaVuSans-61\"/>\r\n      <use x=\"466.455078\" xlink:href=\"#DejaVuSans-74\"/>\r\n      <use x=\"505.664062\" xlink:href=\"#DejaVuSans-69\"/>\r\n      <use x=\"533.447266\" xlink:href=\"#DejaVuSans-6e\"/>\r\n      <use x=\"596.826172\" xlink:href=\"#DejaVuSans-67\"/>\r\n     </g>\r\n    </g>\r\n   </g>\r\n   <g id=\"matplotlib.axis_2\">\r\n    <g id=\"ytick_1\">\r\n     <g id=\"line2d_8\">\r\n      <defs>\r\n       <path d=\"M 0 0 \r\nL -3.5 0 \r\n\" id=\"m73cb891d66\" style=\"stroke:#000000;stroke-width:0.8;\"/>\r\n      </defs>\r\n      <g>\r\n       <use style=\"stroke:#000000;stroke-width:0.8;\" x=\"53.328125\" xlink:href=\"#m73cb891d66\" y=\"239.758125\"/>\r\n      </g>\r\n     </g>\r\n     <g id=\"text_9\">\r\n      <!-- 0 -->\r\n      <g transform=\"translate(39.965625 243.557344)scale(0.1 -0.1)\">\r\n       <defs>\r\n        <path d=\"M 2034 4250 \r\nQ 1547 4250 1301 3770 \r\nQ 1056 3291 1056 2328 \r\nQ 1056 1369 1301 889 \r\nQ 1547 409 2034 409 \r\nQ 2525 409 2770 889 \r\nQ 3016 1369 3016 2328 \r\nQ 3016 3291 2770 3770 \r\nQ 2525 4250 2034 4250 \r\nz\r\nM 2034 4750 \r\nQ 2819 4750 3233 4129 \r\nQ 3647 3509 3647 2328 \r\nQ 3647 1150 3233 529 \r\nQ 2819 -91 2034 -91 \r\nQ 1250 -91 836 529 \r\nQ 422 1150 422 2328 \r\nQ 422 3509 836 4129 \r\nQ 1250 4750 2034 4750 \r\nz\r\n\" id=\"DejaVuSans-30\" transform=\"scale(0.015625)\"/>\r\n       </defs>\r\n       <use xlink:href=\"#DejaVuSans-30\"/>\r\n      </g>\r\n     </g>\r\n    </g>\r\n    <g id=\"ytick_2\">\r\n     <g id=\"line2d_9\">\r\n      <g>\r\n       <use style=\"stroke:#000000;stroke-width:0.8;\" x=\"53.328125\" xlink:href=\"#m73cb891d66\" y=\"210.392595\"/>\r\n      </g>\r\n     </g>\r\n     <g id=\"text_10\">\r\n      <!-- 500 -->\r\n      <g transform=\"translate(27.240625 214.191814)scale(0.1 -0.1)\">\r\n       <use xlink:href=\"#DejaVuSans-35\"/>\r\n       <use x=\"63.623047\" xlink:href=\"#DejaVuSans-30\"/>\r\n       <use x=\"127.246094\" xlink:href=\"#DejaVuSans-30\"/>\r\n      </g>\r\n     </g>\r\n    </g>\r\n    <g id=\"ytick_3\">\r\n     <g id=\"line2d_10\">\r\n      <g>\r\n       <use style=\"stroke:#000000;stroke-width:0.8;\" x=\"53.328125\" xlink:href=\"#m73cb891d66\" y=\"181.027066\"/>\r\n      </g>\r\n     </g>\r\n     <g id=\"text_11\">\r\n      <!-- 1000 -->\r\n      <g transform=\"translate(20.878125 184.826285)scale(0.1 -0.1)\">\r\n       <defs>\r\n        <path d=\"M 794 531 \r\nL 1825 531 \r\nL 1825 4091 \r\nL 703 3866 \r\nL 703 4441 \r\nL 1819 4666 \r\nL 2450 4666 \r\nL 2450 531 \r\nL 3481 531 \r\nL 3481 0 \r\nL 794 0 \r\nL 794 531 \r\nz\r\n\" id=\"DejaVuSans-31\" transform=\"scale(0.015625)\"/>\r\n       </defs>\r\n       <use xlink:href=\"#DejaVuSans-31\"/>\r\n       <use x=\"63.623047\" xlink:href=\"#DejaVuSans-30\"/>\r\n       <use x=\"127.246094\" xlink:href=\"#DejaVuSans-30\"/>\r\n       <use x=\"190.869141\" xlink:href=\"#DejaVuSans-30\"/>\r\n      </g>\r\n     </g>\r\n    </g>\r\n    <g id=\"ytick_4\">\r\n     <g id=\"line2d_11\">\r\n      <g>\r\n       <use style=\"stroke:#000000;stroke-width:0.8;\" x=\"53.328125\" xlink:href=\"#m73cb891d66\" y=\"151.661536\"/>\r\n      </g>\r\n     </g>\r\n     <g id=\"text_12\">\r\n      <!-- 1500 -->\r\n      <g transform=\"translate(20.878125 155.460755)scale(0.1 -0.1)\">\r\n       <use xlink:href=\"#DejaVuSans-31\"/>\r\n       <use x=\"63.623047\" xlink:href=\"#DejaVuSans-35\"/>\r\n       <use x=\"127.246094\" xlink:href=\"#DejaVuSans-30\"/>\r\n       <use x=\"190.869141\" xlink:href=\"#DejaVuSans-30\"/>\r\n      </g>\r\n     </g>\r\n    </g>\r\n    <g id=\"ytick_5\">\r\n     <g id=\"line2d_12\">\r\n      <g>\r\n       <use style=\"stroke:#000000;stroke-width:0.8;\" x=\"53.328125\" xlink:href=\"#m73cb891d66\" y=\"122.296007\"/>\r\n      </g>\r\n     </g>\r\n     <g id=\"text_13\">\r\n      <!-- 2000 -->\r\n      <g transform=\"translate(20.878125 126.095226)scale(0.1 -0.1)\">\r\n       <defs>\r\n        <path d=\"M 1228 531 \r\nL 3431 531 \r\nL 3431 0 \r\nL 469 0 \r\nL 469 531 \r\nQ 828 903 1448 1529 \r\nQ 2069 2156 2228 2338 \r\nQ 2531 2678 2651 2914 \r\nQ 2772 3150 2772 3378 \r\nQ 2772 3750 2511 3984 \r\nQ 2250 4219 1831 4219 \r\nQ 1534 4219 1204 4116 \r\nQ 875 4013 500 3803 \r\nL 500 4441 \r\nQ 881 4594 1212 4672 \r\nQ 1544 4750 1819 4750 \r\nQ 2544 4750 2975 4387 \r\nQ 3406 4025 3406 3419 \r\nQ 3406 3131 3298 2873 \r\nQ 3191 2616 2906 2266 \r\nQ 2828 2175 2409 1742 \r\nQ 1991 1309 1228 531 \r\nz\r\n\" id=\"DejaVuSans-32\" transform=\"scale(0.015625)\"/>\r\n       </defs>\r\n       <use xlink:href=\"#DejaVuSans-32\"/>\r\n       <use x=\"63.623047\" xlink:href=\"#DejaVuSans-30\"/>\r\n       <use x=\"127.246094\" xlink:href=\"#DejaVuSans-30\"/>\r\n       <use x=\"190.869141\" xlink:href=\"#DejaVuSans-30\"/>\r\n      </g>\r\n     </g>\r\n    </g>\r\n    <g id=\"ytick_6\">\r\n     <g id=\"line2d_13\">\r\n      <g>\r\n       <use style=\"stroke:#000000;stroke-width:0.8;\" x=\"53.328125\" xlink:href=\"#m73cb891d66\" y=\"92.930477\"/>\r\n      </g>\r\n     </g>\r\n     <g id=\"text_14\">\r\n      <!-- 2500 -->\r\n      <g transform=\"translate(20.878125 96.729696)scale(0.1 -0.1)\">\r\n       <use xlink:href=\"#DejaVuSans-32\"/>\r\n       <use x=\"63.623047\" xlink:href=\"#DejaVuSans-35\"/>\r\n       <use x=\"127.246094\" xlink:href=\"#DejaVuSans-30\"/>\r\n       <use x=\"190.869141\" xlink:href=\"#DejaVuSans-30\"/>\r\n      </g>\r\n     </g>\r\n    </g>\r\n    <g id=\"ytick_7\">\r\n     <g id=\"line2d_14\">\r\n      <g>\r\n       <use style=\"stroke:#000000;stroke-width:0.8;\" x=\"53.328125\" xlink:href=\"#m73cb891d66\" y=\"63.564948\"/>\r\n      </g>\r\n     </g>\r\n     <g id=\"text_15\">\r\n      <!-- 3000 -->\r\n      <g transform=\"translate(20.878125 67.364167)scale(0.1 -0.1)\">\r\n       <use xlink:href=\"#DejaVuSans-33\"/>\r\n       <use x=\"63.623047\" xlink:href=\"#DejaVuSans-30\"/>\r\n       <use x=\"127.246094\" xlink:href=\"#DejaVuSans-30\"/>\r\n       <use x=\"190.869141\" xlink:href=\"#DejaVuSans-30\"/>\r\n      </g>\r\n     </g>\r\n    </g>\r\n    <g id=\"ytick_8\">\r\n     <g id=\"line2d_15\">\r\n      <g>\r\n       <use style=\"stroke:#000000;stroke-width:0.8;\" x=\"53.328125\" xlink:href=\"#m73cb891d66\" y=\"34.199418\"/>\r\n      </g>\r\n     </g>\r\n     <g id=\"text_16\">\r\n      <!-- 3500 -->\r\n      <g transform=\"translate(20.878125 37.998637)scale(0.1 -0.1)\">\r\n       <use xlink:href=\"#DejaVuSans-33\"/>\r\n       <use x=\"63.623047\" xlink:href=\"#DejaVuSans-35\"/>\r\n       <use x=\"127.246094\" xlink:href=\"#DejaVuSans-30\"/>\r\n       <use x=\"190.869141\" xlink:href=\"#DejaVuSans-30\"/>\r\n      </g>\r\n     </g>\r\n    </g>\r\n    <g id=\"text_17\">\r\n     <!-- Count -->\r\n     <g transform=\"translate(14.798438 145.886563)rotate(-90)scale(0.1 -0.1)\">\r\n      <defs>\r\n       <path d=\"M 4122 4306 \r\nL 4122 3641 \r\nQ 3803 3938 3442 4084 \r\nQ 3081 4231 2675 4231 \r\nQ 1875 4231 1450 3742 \r\nQ 1025 3253 1025 2328 \r\nQ 1025 1406 1450 917 \r\nQ 1875 428 2675 428 \r\nQ 3081 428 3442 575 \r\nQ 3803 722 4122 1019 \r\nL 4122 359 \r\nQ 3791 134 3420 21 \r\nQ 3050 -91 2638 -91 \r\nQ 1578 -91 968 557 \r\nQ 359 1206 359 2328 \r\nQ 359 3453 968 4101 \r\nQ 1578 4750 2638 4750 \r\nQ 3056 4750 3426 4639 \r\nQ 3797 4528 4122 4306 \r\nz\r\n\" id=\"DejaVuSans-43\" transform=\"scale(0.015625)\"/>\r\n       <path d=\"M 1959 3097 \r\nQ 1497 3097 1228 2736 \r\nQ 959 2375 959 1747 \r\nQ 959 1119 1226 758 \r\nQ 1494 397 1959 397 \r\nQ 2419 397 2687 759 \r\nQ 2956 1122 2956 1747 \r\nQ 2956 2369 2687 2733 \r\nQ 2419 3097 1959 3097 \r\nz\r\nM 1959 3584 \r\nQ 2709 3584 3137 3096 \r\nQ 3566 2609 3566 1747 \r\nQ 3566 888 3137 398 \r\nQ 2709 -91 1959 -91 \r\nQ 1206 -91 779 398 \r\nQ 353 888 353 1747 \r\nQ 353 2609 779 3096 \r\nQ 1206 3584 1959 3584 \r\nz\r\n\" id=\"DejaVuSans-6f\" transform=\"scale(0.015625)\"/>\r\n       <path d=\"M 544 1381 \r\nL 544 3500 \r\nL 1119 3500 \r\nL 1119 1403 \r\nQ 1119 906 1312 657 \r\nQ 1506 409 1894 409 \r\nQ 2359 409 2629 706 \r\nQ 2900 1003 2900 1516 \r\nL 2900 3500 \r\nL 3475 3500 \r\nL 3475 0 \r\nL 2900 0 \r\nL 2900 538 \r\nQ 2691 219 2414 64 \r\nQ 2138 -91 1772 -91 \r\nQ 1169 -91 856 284 \r\nQ 544 659 544 1381 \r\nz\r\nM 1991 3584 \r\nL 1991 3584 \r\nz\r\n\" id=\"DejaVuSans-75\" transform=\"scale(0.015625)\"/>\r\n      </defs>\r\n      <use xlink:href=\"#DejaVuSans-43\"/>\r\n      <use x=\"69.824219\" xlink:href=\"#DejaVuSans-6f\"/>\r\n      <use x=\"131.005859\" xlink:href=\"#DejaVuSans-75\"/>\r\n      <use x=\"194.384766\" xlink:href=\"#DejaVuSans-6e\"/>\r\n      <use x=\"257.763672\" xlink:href=\"#DejaVuSans-74\"/>\r\n     </g>\r\n    </g>\r\n   </g>\r\n   <g id=\"patch_8\">\r\n    <path d=\"M 53.328125 239.758125 \r\nL 53.328125 22.318125 \r\n\" style=\"fill:none;stroke:#000000;stroke-linecap:square;stroke-linejoin:miter;stroke-width:0.8;\"/>\r\n   </g>\r\n   <g id=\"patch_9\">\r\n    <path d=\"M 388.128125 239.758125 \r\nL 388.128125 22.318125 \r\n\" style=\"fill:none;stroke:#000000;stroke-linecap:square;stroke-linejoin:miter;stroke-width:0.8;\"/>\r\n   </g>\r\n   <g id=\"patch_10\">\r\n    <path d=\"M 53.328125 239.758125 \r\nL 388.128125 239.758125 \r\n\" style=\"fill:none;stroke:#000000;stroke-linecap:square;stroke-linejoin:miter;stroke-width:0.8;\"/>\r\n   </g>\r\n   <g id=\"patch_11\">\r\n    <path d=\"M 53.328125 22.318125 \r\nL 388.128125 22.318125 \r\n\" style=\"fill:none;stroke:#000000;stroke-linecap:square;stroke-linejoin:miter;stroke-width:0.8;\"/>\r\n   </g>\r\n   <g id=\"text_18\">\r\n    <!-- netflix_rating distribution -->\r\n    <g transform=\"translate(145.011875 16.318125)scale(0.12 -0.12)\">\r\n     <defs>\r\n      <path id=\"DejaVuSans-20\" transform=\"scale(0.015625)\"/>\r\n      <path d=\"M 2906 2969 \r\nL 2906 4863 \r\nL 3481 4863 \r\nL 3481 0 \r\nL 2906 0 \r\nL 2906 525 \r\nQ 2725 213 2448 61 \r\nQ 2172 -91 1784 -91 \r\nQ 1150 -91 751 415 \r\nQ 353 922 353 1747 \r\nQ 353 2572 751 3078 \r\nQ 1150 3584 1784 3584 \r\nQ 2172 3584 2448 3432 \r\nQ 2725 3281 2906 2969 \r\nz\r\nM 947 1747 \r\nQ 947 1113 1208 752 \r\nQ 1469 391 1925 391 \r\nQ 2381 391 2643 752 \r\nQ 2906 1113 2906 1747 \r\nQ 2906 2381 2643 2742 \r\nQ 2381 3103 1925 3103 \r\nQ 1469 3103 1208 2742 \r\nQ 947 2381 947 1747 \r\nz\r\n\" id=\"DejaVuSans-64\" transform=\"scale(0.015625)\"/>\r\n      <path d=\"M 2834 3397 \r\nL 2834 2853 \r\nQ 2591 2978 2328 3040 \r\nQ 2066 3103 1784 3103 \r\nQ 1356 3103 1142 2972 \r\nQ 928 2841 928 2578 \r\nQ 928 2378 1081 2264 \r\nQ 1234 2150 1697 2047 \r\nL 1894 2003 \r\nQ 2506 1872 2764 1633 \r\nQ 3022 1394 3022 966 \r\nQ 3022 478 2636 193 \r\nQ 2250 -91 1575 -91 \r\nQ 1294 -91 989 -36 \r\nQ 684 19 347 128 \r\nL 347 722 \r\nQ 666 556 975 473 \r\nQ 1284 391 1588 391 \r\nQ 1994 391 2212 530 \r\nQ 2431 669 2431 922 \r\nQ 2431 1156 2273 1281 \r\nQ 2116 1406 1581 1522 \r\nL 1381 1569 \r\nQ 847 1681 609 1914 \r\nQ 372 2147 372 2553 \r\nQ 372 3047 722 3315 \r\nQ 1072 3584 1716 3584 \r\nQ 2034 3584 2315 3537 \r\nQ 2597 3491 2834 3397 \r\nz\r\n\" id=\"DejaVuSans-73\" transform=\"scale(0.015625)\"/>\r\n      <path d=\"M 3116 1747 \r\nQ 3116 2381 2855 2742 \r\nQ 2594 3103 2138 3103 \r\nQ 1681 3103 1420 2742 \r\nQ 1159 2381 1159 1747 \r\nQ 1159 1113 1420 752 \r\nQ 1681 391 2138 391 \r\nQ 2594 391 2855 752 \r\nQ 3116 1113 3116 1747 \r\nz\r\nM 1159 2969 \r\nQ 1341 3281 1617 3432 \r\nQ 1894 3584 2278 3584 \r\nQ 2916 3584 3314 3078 \r\nQ 3713 2572 3713 1747 \r\nQ 3713 922 3314 415 \r\nQ 2916 -91 2278 -91 \r\nQ 1894 -91 1617 61 \r\nQ 1341 213 1159 525 \r\nL 1159 0 \r\nL 581 0 \r\nL 581 4863 \r\nL 1159 4863 \r\nL 1159 2969 \r\nz\r\n\" id=\"DejaVuSans-62\" transform=\"scale(0.015625)\"/>\r\n     </defs>\r\n     <use xlink:href=\"#DejaVuSans-6e\"/>\r\n     <use x=\"63.378906\" xlink:href=\"#DejaVuSans-65\"/>\r\n     <use x=\"124.902344\" xlink:href=\"#DejaVuSans-74\"/>\r\n     <use x=\"164.111328\" xlink:href=\"#DejaVuSans-66\"/>\r\n     <use x=\"199.316406\" xlink:href=\"#DejaVuSans-6c\"/>\r\n     <use x=\"227.099609\" xlink:href=\"#DejaVuSans-69\"/>\r\n     <use x=\"254.882812\" xlink:href=\"#DejaVuSans-78\"/>\r\n     <use x=\"314.0625\" xlink:href=\"#DejaVuSans-5f\"/>\r\n     <use x=\"364.0625\" xlink:href=\"#DejaVuSans-72\"/>\r\n     <use x=\"405.175781\" xlink:href=\"#DejaVuSans-61\"/>\r\n     <use x=\"466.455078\" xlink:href=\"#DejaVuSans-74\"/>\r\n     <use x=\"505.664062\" xlink:href=\"#DejaVuSans-69\"/>\r\n     <use x=\"533.447266\" xlink:href=\"#DejaVuSans-6e\"/>\r\n     <use x=\"596.826172\" xlink:href=\"#DejaVuSans-67\"/>\r\n     <use x=\"660.302734\" xlink:href=\"#DejaVuSans-20\"/>\r\n     <use x=\"692.089844\" xlink:href=\"#DejaVuSans-64\"/>\r\n     <use x=\"755.566406\" xlink:href=\"#DejaVuSans-69\"/>\r\n     <use x=\"783.349609\" xlink:href=\"#DejaVuSans-73\"/>\r\n     <use x=\"835.449219\" xlink:href=\"#DejaVuSans-74\"/>\r\n     <use x=\"874.658203\" xlink:href=\"#DejaVuSans-72\"/>\r\n     <use x=\"915.771484\" xlink:href=\"#DejaVuSans-69\"/>\r\n     <use x=\"943.554688\" xlink:href=\"#DejaVuSans-62\"/>\r\n     <use x=\"1007.03125\" xlink:href=\"#DejaVuSans-75\"/>\r\n     <use x=\"1070.410156\" xlink:href=\"#DejaVuSans-74\"/>\r\n     <use x=\"1109.619141\" xlink:href=\"#DejaVuSans-69\"/>\r\n     <use x=\"1137.402344\" xlink:href=\"#DejaVuSans-6f\"/>\r\n     <use x=\"1198.583984\" xlink:href=\"#DejaVuSans-6e\"/>\r\n    </g>\r\n   </g>\r\n  </g>\r\n </g>\r\n <defs>\r\n  <clipPath id=\"p8fc03ad498\">\r\n   <rect height=\"217.44\" width=\"334.8\" x=\"53.328125\" y=\"22.318125\"/>\r\n  </clipPath>\r\n </defs>\r\n</svg>\r\n",
      "image/png": "[encoded data removed]"
     },
     "metadata": {
      "needs_background": "light"
     }
    }
   ],
   "source": [
    "viz.plot_displot(kde=False, bins=5, save=reports)"
   ]
  },
  {
   "source": [
    "### 5.2 IMDB Rating Histogram"
   ],
   "cell_type": "markdown",
   "metadata": {}
  },
  {
   "cell_type": "code",
   "execution_count": 6,
   "metadata": {},
   "outputs": [
    {
     "output_type": "display_data",
     "data": {
      "text/plain": "<Figure size 432x288 with 1 Axes>",
      "image/svg+xml": "<?xml version=\"1.0\" encoding=\"utf-8\" standalone=\"no\"?>\r\n<!DOCTYPE svg PUBLIC \"-//W3C//DTD SVG 1.1//EN\"\r\n  \"http://www.w3.org/Graphics/SVG/1.1/DTD/svg11.dtd\">\r\n<svg height=\"277.314375pt\" version=\"1.1\" viewBox=\"0 0 395.328125 277.314375\" width=\"395.328125pt\" xmlns=\"http://www.w3.org/2000/svg\" xmlns:xlink=\"http://www.w3.org/1999/xlink\">\r\n <metadata>\r\n  <rdf:RDF xmlns:cc=\"http://creativecommons.org/ns#\" xmlns:dc=\"http://purl.org/dc/elements/1.1/\" xmlns:rdf=\"http://www.w3.org/1999/02/22-rdf-syntax-ns#\">\r\n   <cc:Work>\r\n    <dc:type rdf:resource=\"http://purl.org/dc/dcmitype/StillImage\"/>\r\n    <dc:date>2021-06-01T19:39:00.920816</dc:date>\r\n    <dc:format>image/svg+xml</dc:format>\r\n    <dc:creator>\r\n     <cc:Agent>\r\n      <dc:title>Matplotlib v3.4.1, https://matplotlib.org/</dc:title>\r\n     </cc:Agent>\r\n    </dc:creator>\r\n   </cc:Work>\r\n  </rdf:RDF>\r\n </metadata>\r\n <defs>\r\n  <style type=\"text/css\">*{stroke-linecap:butt;stroke-linejoin:round;}</style>\r\n </defs>\r\n <g id=\"figure_1\">\r\n  <g id=\"patch_1\">\r\n   <path d=\"M 0 277.314375 \r\nL 395.328125 277.314375 \r\nL 395.328125 0 \r\nL 0 0 \r\nz\r\n\" style=\"fill:none;\"/>\r\n  </g>\r\n  <g id=\"axes_1\">\r\n   <g id=\"patch_2\">\r\n    <path d=\"M 53.328125 239.758125 \r\nL 388.128125 239.758125 \r\nL 388.128125 22.318125 \r\nL 53.328125 22.318125 \r\nz\r\n\" style=\"fill:#ffffff;\"/>\r\n   </g>\r\n   <g id=\"patch_3\">\r\n    <path clip-path=\"url(#p01c7036519)\" d=\"M 68.546307 239.758125 \r\nL 129.419034 239.758125 \r\nL 129.419034 233.980482 \r\nL 68.546307 233.980482 \r\nz\r\n\" style=\"fill:#1f77b4;fill-opacity:0.75;stroke:#000000;stroke-linejoin:miter;\"/>\r\n   </g>\r\n   <g id=\"patch_4\">\r\n    <path clip-path=\"url(#p01c7036519)\" d=\"M 129.419034 239.758125 \r\nL 190.291761 239.758125 \r\nL 190.291761 207.071643 \r\nL 129.419034 207.071643 \r\nz\r\n\" style=\"fill:#1f77b4;fill-opacity:0.75;stroke:#000000;stroke-linejoin:miter;\"/>\r\n   </g>\r\n   <g id=\"patch_5\">\r\n    <path clip-path=\"url(#p01c7036519)\" d=\"M 190.291761 239.758125 \r\nL 251.164489 239.758125 \r\nL 251.164489 77.87712 \r\nL 190.291761 77.87712 \r\nz\r\n\" style=\"fill:#1f77b4;fill-opacity:0.75;stroke:#000000;stroke-linejoin:miter;\"/>\r\n   </g>\r\n   <g id=\"patch_6\">\r\n    <path clip-path=\"url(#p01c7036519)\" d=\"M 251.164489 239.758125 \r\nL 312.037216 239.758125 \r\nL 312.037216 32.672411 \r\nL 251.164489 32.672411 \r\nz\r\n\" style=\"fill:#1f77b4;fill-opacity:0.75;stroke:#000000;stroke-linejoin:miter;\"/>\r\n   </g>\r\n   <g id=\"patch_7\">\r\n    <path clip-path=\"url(#p01c7036519)\" d=\"M 312.037216 239.758125 \r\nL 372.909943 239.758125 \r\nL 372.909943 223.495129 \r\nL 312.037216 223.495129 \r\nz\r\n\" style=\"fill:#1f77b4;fill-opacity:0.75;stroke:#000000;stroke-linejoin:miter;\"/>\r\n   </g>\r\n   <g id=\"matplotlib.axis_1\">\r\n    <g id=\"xtick_1\">\r\n     <g id=\"line2d_1\">\r\n      <defs>\r\n       <path d=\"M 0 0 \r\nL 0 3.5 \r\n\" id=\"mf4132b785b\" style=\"stroke:#000000;stroke-width:0.8;\"/>\r\n      </defs>\r\n      <g>\r\n       <use style=\"stroke:#000000;stroke-width:0.8;\" x=\"86.45005\" xlink:href=\"#mf4132b785b\" y=\"239.758125\"/>\r\n      </g>\r\n     </g>\r\n     <g id=\"text_1\">\r\n      <!-- 2 -->\r\n      <g transform=\"translate(83.2688 254.356562)scale(0.1 -0.1)\">\r\n       <defs>\r\n        <path d=\"M 1228 531 \r\nL 3431 531 \r\nL 3431 0 \r\nL 469 0 \r\nL 469 531 \r\nQ 828 903 1448 1529 \r\nQ 2069 2156 2228 2338 \r\nQ 2531 2678 2651 2914 \r\nQ 2772 3150 2772 3378 \r\nQ 2772 3750 2511 3984 \r\nQ 2250 4219 1831 4219 \r\nQ 1534 4219 1204 4116 \r\nQ 875 4013 500 3803 \r\nL 500 4441 \r\nQ 881 4594 1212 4672 \r\nQ 1544 4750 1819 4750 \r\nQ 2544 4750 2975 4387 \r\nQ 3406 4025 3406 3419 \r\nQ 3406 3131 3298 2873 \r\nQ 3191 2616 2906 2266 \r\nQ 2828 2175 2409 1742 \r\nQ 1991 1309 1228 531 \r\nz\r\n\" id=\"DejaVuSans-32\" transform=\"scale(0.015625)\"/>\r\n       </defs>\r\n       <use xlink:href=\"#DejaVuSans-32\"/>\r\n      </g>\r\n     </g>\r\n    </g>\r\n    <g id=\"xtick_2\">\r\n     <g id=\"line2d_2\">\r\n      <g>\r\n       <use style=\"stroke:#000000;stroke-width:0.8;\" x=\"158.065023\" xlink:href=\"#mf4132b785b\" y=\"239.758125\"/>\r\n      </g>\r\n     </g>\r\n     <g id=\"text_2\">\r\n      <!-- 4 -->\r\n      <g transform=\"translate(154.883773 254.356562)scale(0.1 -0.1)\">\r\n       <defs>\r\n        <path d=\"M 2419 4116 \r\nL 825 1625 \r\nL 2419 1625 \r\nL 2419 4116 \r\nz\r\nM 2253 4666 \r\nL 3047 4666 \r\nL 3047 1625 \r\nL 3713 1625 \r\nL 3713 1100 \r\nL 3047 1100 \r\nL 3047 0 \r\nL 2419 0 \r\nL 2419 1100 \r\nL 313 1100 \r\nL 313 1709 \r\nL 2253 4666 \r\nz\r\n\" id=\"DejaVuSans-34\" transform=\"scale(0.015625)\"/>\r\n       </defs>\r\n       <use xlink:href=\"#DejaVuSans-34\"/>\r\n      </g>\r\n     </g>\r\n    </g>\r\n    <g id=\"xtick_3\">\r\n     <g id=\"line2d_3\">\r\n      <g>\r\n       <use style=\"stroke:#000000;stroke-width:0.8;\" x=\"229.679997\" xlink:href=\"#mf4132b785b\" y=\"239.758125\"/>\r\n      </g>\r\n     </g>\r\n     <g id=\"text_3\">\r\n      <!-- 6 -->\r\n      <g transform=\"translate(226.498747 254.356562)scale(0.1 -0.1)\">\r\n       <defs>\r\n        <path d=\"M 2113 2584 \r\nQ 1688 2584 1439 2293 \r\nQ 1191 2003 1191 1497 \r\nQ 1191 994 1439 701 \r\nQ 1688 409 2113 409 \r\nQ 2538 409 2786 701 \r\nQ 3034 994 3034 1497 \r\nQ 3034 2003 2786 2293 \r\nQ 2538 2584 2113 2584 \r\nz\r\nM 3366 4563 \r\nL 3366 3988 \r\nQ 3128 4100 2886 4159 \r\nQ 2644 4219 2406 4219 \r\nQ 1781 4219 1451 3797 \r\nQ 1122 3375 1075 2522 \r\nQ 1259 2794 1537 2939 \r\nQ 1816 3084 2150 3084 \r\nQ 2853 3084 3261 2657 \r\nQ 3669 2231 3669 1497 \r\nQ 3669 778 3244 343 \r\nQ 2819 -91 2113 -91 \r\nQ 1303 -91 875 529 \r\nQ 447 1150 447 2328 \r\nQ 447 3434 972 4092 \r\nQ 1497 4750 2381 4750 \r\nQ 2619 4750 2861 4703 \r\nQ 3103 4656 3366 4563 \r\nz\r\n\" id=\"DejaVuSans-36\" transform=\"scale(0.015625)\"/>\r\n       </defs>\r\n       <use xlink:href=\"#DejaVuSans-36\"/>\r\n      </g>\r\n     </g>\r\n    </g>\r\n    <g id=\"xtick_4\">\r\n     <g id=\"line2d_4\">\r\n      <g>\r\n       <use style=\"stroke:#000000;stroke-width:0.8;\" x=\"301.29497\" xlink:href=\"#mf4132b785b\" y=\"239.758125\"/>\r\n      </g>\r\n     </g>\r\n     <g id=\"text_4\">\r\n      <!-- 8 -->\r\n      <g transform=\"translate(298.11372 254.356562)scale(0.1 -0.1)\">\r\n       <defs>\r\n        <path d=\"M 2034 2216 \r\nQ 1584 2216 1326 1975 \r\nQ 1069 1734 1069 1313 \r\nQ 1069 891 1326 650 \r\nQ 1584 409 2034 409 \r\nQ 2484 409 2743 651 \r\nQ 3003 894 3003 1313 \r\nQ 3003 1734 2745 1975 \r\nQ 2488 2216 2034 2216 \r\nz\r\nM 1403 2484 \r\nQ 997 2584 770 2862 \r\nQ 544 3141 544 3541 \r\nQ 544 4100 942 4425 \r\nQ 1341 4750 2034 4750 \r\nQ 2731 4750 3128 4425 \r\nQ 3525 4100 3525 3541 \r\nQ 3525 3141 3298 2862 \r\nQ 3072 2584 2669 2484 \r\nQ 3125 2378 3379 2068 \r\nQ 3634 1759 3634 1313 \r\nQ 3634 634 3220 271 \r\nQ 2806 -91 2034 -91 \r\nQ 1263 -91 848 271 \r\nQ 434 634 434 1313 \r\nQ 434 1759 690 2068 \r\nQ 947 2378 1403 2484 \r\nz\r\nM 1172 3481 \r\nQ 1172 3119 1398 2916 \r\nQ 1625 2713 2034 2713 \r\nQ 2441 2713 2670 2916 \r\nQ 2900 3119 2900 3481 \r\nQ 2900 3844 2670 4047 \r\nQ 2441 4250 2034 4250 \r\nQ 1625 4250 1398 4047 \r\nQ 1172 3844 1172 3481 \r\nz\r\n\" id=\"DejaVuSans-38\" transform=\"scale(0.015625)\"/>\r\n       </defs>\r\n       <use xlink:href=\"#DejaVuSans-38\"/>\r\n      </g>\r\n     </g>\r\n    </g>\r\n    <g id=\"xtick_5\">\r\n     <g id=\"line2d_5\">\r\n      <g>\r\n       <use style=\"stroke:#000000;stroke-width:0.8;\" x=\"372.909943\" xlink:href=\"#mf4132b785b\" y=\"239.758125\"/>\r\n      </g>\r\n     </g>\r\n     <g id=\"text_5\">\r\n      <!-- 10 -->\r\n      <g transform=\"translate(366.547443 254.356562)scale(0.1 -0.1)\">\r\n       <defs>\r\n        <path d=\"M 794 531 \r\nL 1825 531 \r\nL 1825 4091 \r\nL 703 3866 \r\nL 703 4441 \r\nL 1819 4666 \r\nL 2450 4666 \r\nL 2450 531 \r\nL 3481 531 \r\nL 3481 0 \r\nL 794 0 \r\nL 794 531 \r\nz\r\n\" id=\"DejaVuSans-31\" transform=\"scale(0.015625)\"/>\r\n        <path d=\"M 2034 4250 \r\nQ 1547 4250 1301 3770 \r\nQ 1056 3291 1056 2328 \r\nQ 1056 1369 1301 889 \r\nQ 1547 409 2034 409 \r\nQ 2525 409 2770 889 \r\nQ 3016 1369 3016 2328 \r\nQ 3016 3291 2770 3770 \r\nQ 2525 4250 2034 4250 \r\nz\r\nM 2034 4750 \r\nQ 2819 4750 3233 4129 \r\nQ 3647 3509 3647 2328 \r\nQ 3647 1150 3233 529 \r\nQ 2819 -91 2034 -91 \r\nQ 1250 -91 836 529 \r\nQ 422 1150 422 2328 \r\nQ 422 3509 836 4129 \r\nQ 1250 4750 2034 4750 \r\nz\r\n\" id=\"DejaVuSans-30\" transform=\"scale(0.015625)\"/>\r\n       </defs>\r\n       <use xlink:href=\"#DejaVuSans-31\"/>\r\n       <use x=\"63.623047\" xlink:href=\"#DejaVuSans-30\"/>\r\n      </g>\r\n     </g>\r\n    </g>\r\n    <g id=\"text_6\">\r\n     <!-- imdbRating -->\r\n     <g transform=\"translate(192.002344 268.034687)scale(0.1 -0.1)\">\r\n      <defs>\r\n       <path d=\"M 603 3500 \r\nL 1178 3500 \r\nL 1178 0 \r\nL 603 0 \r\nL 603 3500 \r\nz\r\nM 603 4863 \r\nL 1178 4863 \r\nL 1178 4134 \r\nL 603 4134 \r\nL 603 4863 \r\nz\r\n\" id=\"DejaVuSans-69\" transform=\"scale(0.015625)\"/>\r\n       <path d=\"M 3328 2828 \r\nQ 3544 3216 3844 3400 \r\nQ 4144 3584 4550 3584 \r\nQ 5097 3584 5394 3201 \r\nQ 5691 2819 5691 2113 \r\nL 5691 0 \r\nL 5113 0 \r\nL 5113 2094 \r\nQ 5113 2597 4934 2840 \r\nQ 4756 3084 4391 3084 \r\nQ 3944 3084 3684 2787 \r\nQ 3425 2491 3425 1978 \r\nL 3425 0 \r\nL 2847 0 \r\nL 2847 2094 \r\nQ 2847 2600 2669 2842 \r\nQ 2491 3084 2119 3084 \r\nQ 1678 3084 1418 2786 \r\nQ 1159 2488 1159 1978 \r\nL 1159 0 \r\nL 581 0 \r\nL 581 3500 \r\nL 1159 3500 \r\nL 1159 2956 \r\nQ 1356 3278 1631 3431 \r\nQ 1906 3584 2284 3584 \r\nQ 2666 3584 2933 3390 \r\nQ 3200 3197 3328 2828 \r\nz\r\n\" id=\"DejaVuSans-6d\" transform=\"scale(0.015625)\"/>\r\n       <path d=\"M 2906 2969 \r\nL 2906 4863 \r\nL 3481 4863 \r\nL 3481 0 \r\nL 2906 0 \r\nL 2906 525 \r\nQ 2725 213 2448 61 \r\nQ 2172 -91 1784 -91 \r\nQ 1150 -91 751 415 \r\nQ 353 922 353 1747 \r\nQ 353 2572 751 3078 \r\nQ 1150 3584 1784 3584 \r\nQ 2172 3584 2448 3432 \r\nQ 2725 3281 2906 2969 \r\nz\r\nM 947 1747 \r\nQ 947 1113 1208 752 \r\nQ 1469 391 1925 391 \r\nQ 2381 391 2643 752 \r\nQ 2906 1113 2906 1747 \r\nQ 2906 2381 2643 2742 \r\nQ 2381 3103 1925 3103 \r\nQ 1469 3103 1208 2742 \r\nQ 947 2381 947 1747 \r\nz\r\n\" id=\"DejaVuSans-64\" transform=\"scale(0.015625)\"/>\r\n       <path d=\"M 3116 1747 \r\nQ 3116 2381 2855 2742 \r\nQ 2594 3103 2138 3103 \r\nQ 1681 3103 1420 2742 \r\nQ 1159 2381 1159 1747 \r\nQ 1159 1113 1420 752 \r\nQ 1681 391 2138 391 \r\nQ 2594 391 2855 752 \r\nQ 3116 1113 3116 1747 \r\nz\r\nM 1159 2969 \r\nQ 1341 3281 1617 3432 \r\nQ 1894 3584 2278 3584 \r\nQ 2916 3584 3314 3078 \r\nQ 3713 2572 3713 1747 \r\nQ 3713 922 3314 415 \r\nQ 2916 -91 2278 -91 \r\nQ 1894 -91 1617 61 \r\nQ 1341 213 1159 525 \r\nL 1159 0 \r\nL 581 0 \r\nL 581 4863 \r\nL 1159 4863 \r\nL 1159 2969 \r\nz\r\n\" id=\"DejaVuSans-62\" transform=\"scale(0.015625)\"/>\r\n       <path d=\"M 2841 2188 \r\nQ 3044 2119 3236 1894 \r\nQ 3428 1669 3622 1275 \r\nL 4263 0 \r\nL 3584 0 \r\nL 2988 1197 \r\nQ 2756 1666 2539 1819 \r\nQ 2322 1972 1947 1972 \r\nL 1259 1972 \r\nL 1259 0 \r\nL 628 0 \r\nL 628 4666 \r\nL 2053 4666 \r\nQ 2853 4666 3247 4331 \r\nQ 3641 3997 3641 3322 \r\nQ 3641 2881 3436 2590 \r\nQ 3231 2300 2841 2188 \r\nz\r\nM 1259 4147 \r\nL 1259 2491 \r\nL 2053 2491 \r\nQ 2509 2491 2742 2702 \r\nQ 2975 2913 2975 3322 \r\nQ 2975 3731 2742 3939 \r\nQ 2509 4147 2053 4147 \r\nL 1259 4147 \r\nz\r\n\" id=\"DejaVuSans-52\" transform=\"scale(0.015625)\"/>\r\n       <path d=\"M 2194 1759 \r\nQ 1497 1759 1228 1600 \r\nQ 959 1441 959 1056 \r\nQ 959 750 1161 570 \r\nQ 1363 391 1709 391 \r\nQ 2188 391 2477 730 \r\nQ 2766 1069 2766 1631 \r\nL 2766 1759 \r\nL 2194 1759 \r\nz\r\nM 3341 1997 \r\nL 3341 0 \r\nL 2766 0 \r\nL 2766 531 \r\nQ 2569 213 2275 61 \r\nQ 1981 -91 1556 -91 \r\nQ 1019 -91 701 211 \r\nQ 384 513 384 1019 \r\nQ 384 1609 779 1909 \r\nQ 1175 2209 1959 2209 \r\nL 2766 2209 \r\nL 2766 2266 \r\nQ 2766 2663 2505 2880 \r\nQ 2244 3097 1772 3097 \r\nQ 1472 3097 1187 3025 \r\nQ 903 2953 641 2809 \r\nL 641 3341 \r\nQ 956 3463 1253 3523 \r\nQ 1550 3584 1831 3584 \r\nQ 2591 3584 2966 3190 \r\nQ 3341 2797 3341 1997 \r\nz\r\n\" id=\"DejaVuSans-61\" transform=\"scale(0.015625)\"/>\r\n       <path d=\"M 1172 4494 \r\nL 1172 3500 \r\nL 2356 3500 \r\nL 2356 3053 \r\nL 1172 3053 \r\nL 1172 1153 \r\nQ 1172 725 1289 603 \r\nQ 1406 481 1766 481 \r\nL 2356 481 \r\nL 2356 0 \r\nL 1766 0 \r\nQ 1100 0 847 248 \r\nQ 594 497 594 1153 \r\nL 594 3053 \r\nL 172 3053 \r\nL 172 3500 \r\nL 594 3500 \r\nL 594 4494 \r\nL 1172 4494 \r\nz\r\n\" id=\"DejaVuSans-74\" transform=\"scale(0.015625)\"/>\r\n       <path d=\"M 3513 2113 \r\nL 3513 0 \r\nL 2938 0 \r\nL 2938 2094 \r\nQ 2938 2591 2744 2837 \r\nQ 2550 3084 2163 3084 \r\nQ 1697 3084 1428 2787 \r\nQ 1159 2491 1159 1978 \r\nL 1159 0 \r\nL 581 0 \r\nL 581 3500 \r\nL 1159 3500 \r\nL 1159 2956 \r\nQ 1366 3272 1645 3428 \r\nQ 1925 3584 2291 3584 \r\nQ 2894 3584 3203 3211 \r\nQ 3513 2838 3513 2113 \r\nz\r\n\" id=\"DejaVuSans-6e\" transform=\"scale(0.015625)\"/>\r\n       <path d=\"M 2906 1791 \r\nQ 2906 2416 2648 2759 \r\nQ 2391 3103 1925 3103 \r\nQ 1463 3103 1205 2759 \r\nQ 947 2416 947 1791 \r\nQ 947 1169 1205 825 \r\nQ 1463 481 1925 481 \r\nQ 2391 481 2648 825 \r\nQ 2906 1169 2906 1791 \r\nz\r\nM 3481 434 \r\nQ 3481 -459 3084 -895 \r\nQ 2688 -1331 1869 -1331 \r\nQ 1566 -1331 1297 -1286 \r\nQ 1028 -1241 775 -1147 \r\nL 775 -588 \r\nQ 1028 -725 1275 -790 \r\nQ 1522 -856 1778 -856 \r\nQ 2344 -856 2625 -561 \r\nQ 2906 -266 2906 331 \r\nL 2906 616 \r\nQ 2728 306 2450 153 \r\nQ 2172 0 1784 0 \r\nQ 1141 0 747 490 \r\nQ 353 981 353 1791 \r\nQ 353 2603 747 3093 \r\nQ 1141 3584 1784 3584 \r\nQ 2172 3584 2450 3431 \r\nQ 2728 3278 2906 2969 \r\nL 2906 3500 \r\nL 3481 3500 \r\nL 3481 434 \r\nz\r\n\" id=\"DejaVuSans-67\" transform=\"scale(0.015625)\"/>\r\n      </defs>\r\n      <use xlink:href=\"#DejaVuSans-69\"/>\r\n      <use x=\"27.783203\" xlink:href=\"#DejaVuSans-6d\"/>\r\n      <use x=\"125.195312\" xlink:href=\"#DejaVuSans-64\"/>\r\n      <use x=\"188.671875\" xlink:href=\"#DejaVuSans-62\"/>\r\n      <use x=\"252.148438\" xlink:href=\"#DejaVuSans-52\"/>\r\n      <use x=\"319.380859\" xlink:href=\"#DejaVuSans-61\"/>\r\n      <use x=\"380.660156\" xlink:href=\"#DejaVuSans-74\"/>\r\n      <use x=\"419.869141\" xlink:href=\"#DejaVuSans-69\"/>\r\n      <use x=\"447.652344\" xlink:href=\"#DejaVuSans-6e\"/>\r\n      <use x=\"511.03125\" xlink:href=\"#DejaVuSans-67\"/>\r\n     </g>\r\n    </g>\r\n   </g>\r\n   <g id=\"matplotlib.axis_2\">\r\n    <g id=\"ytick_1\">\r\n     <g id=\"line2d_6\">\r\n      <defs>\r\n       <path d=\"M 0 0 \r\nL -3.5 0 \r\n\" id=\"mc130bac0f8\" style=\"stroke:#000000;stroke-width:0.8;\"/>\r\n      </defs>\r\n      <g>\r\n       <use style=\"stroke:#000000;stroke-width:0.8;\" x=\"53.328125\" xlink:href=\"#mc130bac0f8\" y=\"239.758125\"/>\r\n      </g>\r\n     </g>\r\n     <g id=\"text_7\">\r\n      <!-- 0 -->\r\n      <g transform=\"translate(39.965625 243.557344)scale(0.1 -0.1)\">\r\n       <use xlink:href=\"#DejaVuSans-30\"/>\r\n      </g>\r\n     </g>\r\n    </g>\r\n    <g id=\"ytick_2\">\r\n     <g id=\"line2d_7\">\r\n      <g>\r\n       <use style=\"stroke:#000000;stroke-width:0.8;\" x=\"53.328125\" xlink:href=\"#mc130bac0f8\" y=\"213.009776\"/>\r\n      </g>\r\n     </g>\r\n     <g id=\"text_8\">\r\n      <!-- 500 -->\r\n      <g transform=\"translate(27.240625 216.808995)scale(0.1 -0.1)\">\r\n       <defs>\r\n        <path d=\"M 691 4666 \r\nL 3169 4666 \r\nL 3169 4134 \r\nL 1269 4134 \r\nL 1269 2991 \r\nQ 1406 3038 1543 3061 \r\nQ 1681 3084 1819 3084 \r\nQ 2600 3084 3056 2656 \r\nQ 3513 2228 3513 1497 \r\nQ 3513 744 3044 326 \r\nQ 2575 -91 1722 -91 \r\nQ 1428 -91 1123 -41 \r\nQ 819 9 494 109 \r\nL 494 744 \r\nQ 775 591 1075 516 \r\nQ 1375 441 1709 441 \r\nQ 2250 441 2565 725 \r\nQ 2881 1009 2881 1497 \r\nQ 2881 1984 2565 2268 \r\nQ 2250 2553 1709 2553 \r\nQ 1456 2553 1204 2497 \r\nQ 953 2441 691 2322 \r\nL 691 4666 \r\nz\r\n\" id=\"DejaVuSans-35\" transform=\"scale(0.015625)\"/>\r\n       </defs>\r\n       <use xlink:href=\"#DejaVuSans-35\"/>\r\n       <use x=\"63.623047\" xlink:href=\"#DejaVuSans-30\"/>\r\n       <use x=\"127.246094\" xlink:href=\"#DejaVuSans-30\"/>\r\n      </g>\r\n     </g>\r\n    </g>\r\n    <g id=\"ytick_3\">\r\n     <g id=\"line2d_8\">\r\n      <g>\r\n       <use style=\"stroke:#000000;stroke-width:0.8;\" x=\"53.328125\" xlink:href=\"#mc130bac0f8\" y=\"186.261428\"/>\r\n      </g>\r\n     </g>\r\n     <g id=\"text_9\">\r\n      <!-- 1000 -->\r\n      <g transform=\"translate(20.878125 190.060647)scale(0.1 -0.1)\">\r\n       <use xlink:href=\"#DejaVuSans-31\"/>\r\n       <use x=\"63.623047\" xlink:href=\"#DejaVuSans-30\"/>\r\n       <use x=\"127.246094\" xlink:href=\"#DejaVuSans-30\"/>\r\n       <use x=\"190.869141\" xlink:href=\"#DejaVuSans-30\"/>\r\n      </g>\r\n     </g>\r\n    </g>\r\n    <g id=\"ytick_4\">\r\n     <g id=\"line2d_9\">\r\n      <g>\r\n       <use style=\"stroke:#000000;stroke-width:0.8;\" x=\"53.328125\" xlink:href=\"#mc130bac0f8\" y=\"159.513079\"/>\r\n      </g>\r\n     </g>\r\n     <g id=\"text_10\">\r\n      <!-- 1500 -->\r\n      <g transform=\"translate(20.878125 163.312298)scale(0.1 -0.1)\">\r\n       <use xlink:href=\"#DejaVuSans-31\"/>\r\n       <use x=\"63.623047\" xlink:href=\"#DejaVuSans-35\"/>\r\n       <use x=\"127.246094\" xlink:href=\"#DejaVuSans-30\"/>\r\n       <use x=\"190.869141\" xlink:href=\"#DejaVuSans-30\"/>\r\n      </g>\r\n     </g>\r\n    </g>\r\n    <g id=\"ytick_5\">\r\n     <g id=\"line2d_10\">\r\n      <g>\r\n       <use style=\"stroke:#000000;stroke-width:0.8;\" x=\"53.328125\" xlink:href=\"#mc130bac0f8\" y=\"132.764731\"/>\r\n      </g>\r\n     </g>\r\n     <g id=\"text_11\">\r\n      <!-- 2000 -->\r\n      <g transform=\"translate(20.878125 136.56395)scale(0.1 -0.1)\">\r\n       <use xlink:href=\"#DejaVuSans-32\"/>\r\n       <use x=\"63.623047\" xlink:href=\"#DejaVuSans-30\"/>\r\n       <use x=\"127.246094\" xlink:href=\"#DejaVuSans-30\"/>\r\n       <use x=\"190.869141\" xlink:href=\"#DejaVuSans-30\"/>\r\n      </g>\r\n     </g>\r\n    </g>\r\n    <g id=\"ytick_6\">\r\n     <g id=\"line2d_11\">\r\n      <g>\r\n       <use style=\"stroke:#000000;stroke-width:0.8;\" x=\"53.328125\" xlink:href=\"#mc130bac0f8\" y=\"106.016382\"/>\r\n      </g>\r\n     </g>\r\n     <g id=\"text_12\">\r\n      <!-- 2500 -->\r\n      <g transform=\"translate(20.878125 109.815601)scale(0.1 -0.1)\">\r\n       <use xlink:href=\"#DejaVuSans-32\"/>\r\n       <use x=\"63.623047\" xlink:href=\"#DejaVuSans-35\"/>\r\n       <use x=\"127.246094\" xlink:href=\"#DejaVuSans-30\"/>\r\n       <use x=\"190.869141\" xlink:href=\"#DejaVuSans-30\"/>\r\n      </g>\r\n     </g>\r\n    </g>\r\n    <g id=\"ytick_7\">\r\n     <g id=\"line2d_12\">\r\n      <g>\r\n       <use style=\"stroke:#000000;stroke-width:0.8;\" x=\"53.328125\" xlink:href=\"#mc130bac0f8\" y=\"79.268034\"/>\r\n      </g>\r\n     </g>\r\n     <g id=\"text_13\">\r\n      <!-- 3000 -->\r\n      <g transform=\"translate(20.878125 83.067253)scale(0.1 -0.1)\">\r\n       <defs>\r\n        <path d=\"M 2597 2516 \r\nQ 3050 2419 3304 2112 \r\nQ 3559 1806 3559 1356 \r\nQ 3559 666 3084 287 \r\nQ 2609 -91 1734 -91 \r\nQ 1441 -91 1130 -33 \r\nQ 819 25 488 141 \r\nL 488 750 \r\nQ 750 597 1062 519 \r\nQ 1375 441 1716 441 \r\nQ 2309 441 2620 675 \r\nQ 2931 909 2931 1356 \r\nQ 2931 1769 2642 2001 \r\nQ 2353 2234 1838 2234 \r\nL 1294 2234 \r\nL 1294 2753 \r\nL 1863 2753 \r\nQ 2328 2753 2575 2939 \r\nQ 2822 3125 2822 3475 \r\nQ 2822 3834 2567 4026 \r\nQ 2313 4219 1838 4219 \r\nQ 1578 4219 1281 4162 \r\nQ 984 4106 628 3988 \r\nL 628 4550 \r\nQ 988 4650 1302 4700 \r\nQ 1616 4750 1894 4750 \r\nQ 2613 4750 3031 4423 \r\nQ 3450 4097 3450 3541 \r\nQ 3450 3153 3228 2886 \r\nQ 3006 2619 2597 2516 \r\nz\r\n\" id=\"DejaVuSans-33\" transform=\"scale(0.015625)\"/>\r\n       </defs>\r\n       <use xlink:href=\"#DejaVuSans-33\"/>\r\n       <use x=\"63.623047\" xlink:href=\"#DejaVuSans-30\"/>\r\n       <use x=\"127.246094\" xlink:href=\"#DejaVuSans-30\"/>\r\n       <use x=\"190.869141\" xlink:href=\"#DejaVuSans-30\"/>\r\n      </g>\r\n     </g>\r\n    </g>\r\n    <g id=\"ytick_8\">\r\n     <g id=\"line2d_13\">\r\n      <g>\r\n       <use style=\"stroke:#000000;stroke-width:0.8;\" x=\"53.328125\" xlink:href=\"#mc130bac0f8\" y=\"52.519685\"/>\r\n      </g>\r\n     </g>\r\n     <g id=\"text_14\">\r\n      <!-- 3500 -->\r\n      <g transform=\"translate(20.878125 56.318904)scale(0.1 -0.1)\">\r\n       <use xlink:href=\"#DejaVuSans-33\"/>\r\n       <use x=\"63.623047\" xlink:href=\"#DejaVuSans-35\"/>\r\n       <use x=\"127.246094\" xlink:href=\"#DejaVuSans-30\"/>\r\n       <use x=\"190.869141\" xlink:href=\"#DejaVuSans-30\"/>\r\n      </g>\r\n     </g>\r\n    </g>\r\n    <g id=\"ytick_9\">\r\n     <g id=\"line2d_14\">\r\n      <g>\r\n       <use style=\"stroke:#000000;stroke-width:0.8;\" x=\"53.328125\" xlink:href=\"#mc130bac0f8\" y=\"25.771337\"/>\r\n      </g>\r\n     </g>\r\n     <g id=\"text_15\">\r\n      <!-- 4000 -->\r\n      <g transform=\"translate(20.878125 29.570556)scale(0.1 -0.1)\">\r\n       <use xlink:href=\"#DejaVuSans-34\"/>\r\n       <use x=\"63.623047\" xlink:href=\"#DejaVuSans-30\"/>\r\n       <use x=\"127.246094\" xlink:href=\"#DejaVuSans-30\"/>\r\n       <use x=\"190.869141\" xlink:href=\"#DejaVuSans-30\"/>\r\n      </g>\r\n     </g>\r\n    </g>\r\n    <g id=\"text_16\">\r\n     <!-- Count -->\r\n     <g transform=\"translate(14.798438 145.886562)rotate(-90)scale(0.1 -0.1)\">\r\n      <defs>\r\n       <path d=\"M 4122 4306 \r\nL 4122 3641 \r\nQ 3803 3938 3442 4084 \r\nQ 3081 4231 2675 4231 \r\nQ 1875 4231 1450 3742 \r\nQ 1025 3253 1025 2328 \r\nQ 1025 1406 1450 917 \r\nQ 1875 428 2675 428 \r\nQ 3081 428 3442 575 \r\nQ 3803 722 4122 1019 \r\nL 4122 359 \r\nQ 3791 134 3420 21 \r\nQ 3050 -91 2638 -91 \r\nQ 1578 -91 968 557 \r\nQ 359 1206 359 2328 \r\nQ 359 3453 968 4101 \r\nQ 1578 4750 2638 4750 \r\nQ 3056 4750 3426 4639 \r\nQ 3797 4528 4122 4306 \r\nz\r\n\" id=\"DejaVuSans-43\" transform=\"scale(0.015625)\"/>\r\n       <path d=\"M 1959 3097 \r\nQ 1497 3097 1228 2736 \r\nQ 959 2375 959 1747 \r\nQ 959 1119 1226 758 \r\nQ 1494 397 1959 397 \r\nQ 2419 397 2687 759 \r\nQ 2956 1122 2956 1747 \r\nQ 2956 2369 2687 2733 \r\nQ 2419 3097 1959 3097 \r\nz\r\nM 1959 3584 \r\nQ 2709 3584 3137 3096 \r\nQ 3566 2609 3566 1747 \r\nQ 3566 888 3137 398 \r\nQ 2709 -91 1959 -91 \r\nQ 1206 -91 779 398 \r\nQ 353 888 353 1747 \r\nQ 353 2609 779 3096 \r\nQ 1206 3584 1959 3584 \r\nz\r\n\" id=\"DejaVuSans-6f\" transform=\"scale(0.015625)\"/>\r\n       <path d=\"M 544 1381 \r\nL 544 3500 \r\nL 1119 3500 \r\nL 1119 1403 \r\nQ 1119 906 1312 657 \r\nQ 1506 409 1894 409 \r\nQ 2359 409 2629 706 \r\nQ 2900 1003 2900 1516 \r\nL 2900 3500 \r\nL 3475 3500 \r\nL 3475 0 \r\nL 2900 0 \r\nL 2900 538 \r\nQ 2691 219 2414 64 \r\nQ 2138 -91 1772 -91 \r\nQ 1169 -91 856 284 \r\nQ 544 659 544 1381 \r\nz\r\nM 1991 3584 \r\nL 1991 3584 \r\nz\r\n\" id=\"DejaVuSans-75\" transform=\"scale(0.015625)\"/>\r\n      </defs>\r\n      <use xlink:href=\"#DejaVuSans-43\"/>\r\n      <use x=\"69.824219\" xlink:href=\"#DejaVuSans-6f\"/>\r\n      <use x=\"131.005859\" xlink:href=\"#DejaVuSans-75\"/>\r\n      <use x=\"194.384766\" xlink:href=\"#DejaVuSans-6e\"/>\r\n      <use x=\"257.763672\" xlink:href=\"#DejaVuSans-74\"/>\r\n     </g>\r\n    </g>\r\n   </g>\r\n   <g id=\"patch_8\">\r\n    <path d=\"M 53.328125 239.758125 \r\nL 53.328125 22.318125 \r\n\" style=\"fill:none;stroke:#000000;stroke-linecap:square;stroke-linejoin:miter;stroke-width:0.8;\"/>\r\n   </g>\r\n   <g id=\"patch_9\">\r\n    <path d=\"M 388.128125 239.758125 \r\nL 388.128125 22.318125 \r\n\" style=\"fill:none;stroke:#000000;stroke-linecap:square;stroke-linejoin:miter;stroke-width:0.8;\"/>\r\n   </g>\r\n   <g id=\"patch_10\">\r\n    <path d=\"M 53.328125 239.758125 \r\nL 388.128125 239.758125 \r\n\" style=\"fill:none;stroke:#000000;stroke-linecap:square;stroke-linejoin:miter;stroke-width:0.8;\"/>\r\n   </g>\r\n   <g id=\"patch_11\">\r\n    <path d=\"M 53.328125 22.318125 \r\nL 388.128125 22.318125 \r\n\" style=\"fill:none;stroke:#000000;stroke-linecap:square;stroke-linejoin:miter;stroke-width:0.8;\"/>\r\n   </g>\r\n   <g id=\"text_17\">\r\n    <!-- imdbRating distribution -->\r\n    <g transform=\"translate(150.15875 16.318125)scale(0.12 -0.12)\">\r\n     <defs>\r\n      <path id=\"DejaVuSans-20\" transform=\"scale(0.015625)\"/>\r\n      <path d=\"M 2834 3397 \r\nL 2834 2853 \r\nQ 2591 2978 2328 3040 \r\nQ 2066 3103 1784 3103 \r\nQ 1356 3103 1142 2972 \r\nQ 928 2841 928 2578 \r\nQ 928 2378 1081 2264 \r\nQ 1234 2150 1697 2047 \r\nL 1894 2003 \r\nQ 2506 1872 2764 1633 \r\nQ 3022 1394 3022 966 \r\nQ 3022 478 2636 193 \r\nQ 2250 -91 1575 -91 \r\nQ 1294 -91 989 -36 \r\nQ 684 19 347 128 \r\nL 347 722 \r\nQ 666 556 975 473 \r\nQ 1284 391 1588 391 \r\nQ 1994 391 2212 530 \r\nQ 2431 669 2431 922 \r\nQ 2431 1156 2273 1281 \r\nQ 2116 1406 1581 1522 \r\nL 1381 1569 \r\nQ 847 1681 609 1914 \r\nQ 372 2147 372 2553 \r\nQ 372 3047 722 3315 \r\nQ 1072 3584 1716 3584 \r\nQ 2034 3584 2315 3537 \r\nQ 2597 3491 2834 3397 \r\nz\r\n\" id=\"DejaVuSans-73\" transform=\"scale(0.015625)\"/>\r\n      <path d=\"M 2631 2963 \r\nQ 2534 3019 2420 3045 \r\nQ 2306 3072 2169 3072 \r\nQ 1681 3072 1420 2755 \r\nQ 1159 2438 1159 1844 \r\nL 1159 0 \r\nL 581 0 \r\nL 581 3500 \r\nL 1159 3500 \r\nL 1159 2956 \r\nQ 1341 3275 1631 3429 \r\nQ 1922 3584 2338 3584 \r\nQ 2397 3584 2469 3576 \r\nQ 2541 3569 2628 3553 \r\nL 2631 2963 \r\nz\r\n\" id=\"DejaVuSans-72\" transform=\"scale(0.015625)\"/>\r\n     </defs>\r\n     <use xlink:href=\"#DejaVuSans-69\"/>\r\n     <use x=\"27.783203\" xlink:href=\"#DejaVuSans-6d\"/>\r\n     <use x=\"125.195312\" xlink:href=\"#DejaVuSans-64\"/>\r\n     <use x=\"188.671875\" xlink:href=\"#DejaVuSans-62\"/>\r\n     <use x=\"252.148438\" xlink:href=\"#DejaVuSans-52\"/>\r\n     <use x=\"319.380859\" xlink:href=\"#DejaVuSans-61\"/>\r\n     <use x=\"380.660156\" xlink:href=\"#DejaVuSans-74\"/>\r\n     <use x=\"419.869141\" xlink:href=\"#DejaVuSans-69\"/>\r\n     <use x=\"447.652344\" xlink:href=\"#DejaVuSans-6e\"/>\r\n     <use x=\"511.03125\" xlink:href=\"#DejaVuSans-67\"/>\r\n     <use x=\"574.507812\" xlink:href=\"#DejaVuSans-20\"/>\r\n     <use x=\"606.294922\" xlink:href=\"#DejaVuSans-64\"/>\r\n     <use x=\"669.771484\" xlink:href=\"#DejaVuSans-69\"/>\r\n     <use x=\"697.554688\" xlink:href=\"#DejaVuSans-73\"/>\r\n     <use x=\"749.654297\" xlink:href=\"#DejaVuSans-74\"/>\r\n     <use x=\"788.863281\" xlink:href=\"#DejaVuSans-72\"/>\r\n     <use x=\"829.976562\" xlink:href=\"#DejaVuSans-69\"/>\r\n     <use x=\"857.759766\" xlink:href=\"#DejaVuSans-62\"/>\r\n     <use x=\"921.236328\" xlink:href=\"#DejaVuSans-75\"/>\r\n     <use x=\"984.615234\" xlink:href=\"#DejaVuSans-74\"/>\r\n     <use x=\"1023.824219\" xlink:href=\"#DejaVuSans-69\"/>\r\n     <use x=\"1051.607422\" xlink:href=\"#DejaVuSans-6f\"/>\r\n     <use x=\"1112.789062\" xlink:href=\"#DejaVuSans-6e\"/>\r\n    </g>\r\n   </g>\r\n  </g>\r\n </g>\r\n <defs>\r\n  <clipPath id=\"p01c7036519\">\r\n   <rect height=\"217.44\" width=\"334.8\" x=\"53.328125\" y=\"22.318125\"/>\r\n  </clipPath>\r\n </defs>\r\n</svg>\r\n",
      "image/png": "[encoded data removed]"
     },
     "metadata": {
      "needs_background": "light"
     }
    }
   ],
   "source": [
    "viz.plot_displot(x='imdbRating', kde=False, bins=5, save=reports)"
   ]
  },
  {
   "source": [
    "### 5.3 Metascore Rating Histogram"
   ],
   "cell_type": "markdown",
   "metadata": {}
  },
  {
   "cell_type": "code",
   "execution_count": 7,
   "metadata": {},
   "outputs": [
    {
     "output_type": "display_data",
     "data": {
      "text/plain": "<Figure size 432x288 with 1 Axes>",
      "image/svg+xml": "<?xml version=\"1.0\" encoding=\"utf-8\" standalone=\"no\"?>\r\n<!DOCTYPE svg PUBLIC \"-//W3C//DTD SVG 1.1//EN\"\r\n  \"http://www.w3.org/Graphics/SVG/1.1/DTD/svg11.dtd\">\r\n<svg height=\"277.314375pt\" version=\"1.1\" viewBox=\"0 0 395.328125 277.314375\" width=\"395.328125pt\" xmlns=\"http://www.w3.org/2000/svg\" xmlns:xlink=\"http://www.w3.org/1999/xlink\">\r\n <metadata>\r\n  <rdf:RDF xmlns:cc=\"http://creativecommons.org/ns#\" xmlns:dc=\"http://purl.org/dc/elements/1.1/\" xmlns:rdf=\"http://www.w3.org/1999/02/22-rdf-syntax-ns#\">\r\n   <cc:Work>\r\n    <dc:type rdf:resource=\"http://purl.org/dc/dcmitype/StillImage\"/>\r\n    <dc:date>2021-06-01T19:39:06.635871</dc:date>\r\n    <dc:format>image/svg+xml</dc:format>\r\n    <dc:creator>\r\n     <cc:Agent>\r\n      <dc:title>Matplotlib v3.4.1, https://matplotlib.org/</dc:title>\r\n     </cc:Agent>\r\n    </dc:creator>\r\n   </cc:Work>\r\n  </rdf:RDF>\r\n </metadata>\r\n <defs>\r\n  <style type=\"text/css\">*{stroke-linecap:butt;stroke-linejoin:round;}</style>\r\n </defs>\r\n <g id=\"figure_1\">\r\n  <g id=\"patch_1\">\r\n   <path d=\"M 0 277.314375 \r\nL 395.328125 277.314375 \r\nL 395.328125 0 \r\nL 0 0 \r\nz\r\n\" style=\"fill:none;\"/>\r\n  </g>\r\n  <g id=\"axes_1\">\r\n   <g id=\"patch_2\">\r\n    <path d=\"M 53.328125 239.758125 \r\nL 388.128125 239.758125 \r\nL 388.128125 22.318125 \r\nL 53.328125 22.318125 \r\nz\r\n\" style=\"fill:#ffffff;\"/>\r\n   </g>\r\n   <g id=\"patch_3\">\r\n    <path clip-path=\"url(#p592672499b)\" d=\"M 68.546307 239.758125 \r\nL 129.419034 239.758125 \r\nL 129.419034 222.531205 \r\nL 68.546307 222.531205 \r\nz\r\n\" style=\"fill:#1f77b4;fill-opacity:0.75;stroke:#000000;stroke-linejoin:miter;\"/>\r\n   </g>\r\n   <g id=\"patch_4\">\r\n    <path clip-path=\"url(#p592672499b)\" d=\"M 129.419034 239.758125 \r\nL 190.291761 239.758125 \r\nL 190.291761 144.73806 \r\nL 129.419034 144.73806 \r\nz\r\n\" style=\"fill:#1f77b4;fill-opacity:0.75;stroke:#000000;stroke-linejoin:miter;\"/>\r\n   </g>\r\n   <g id=\"patch_5\">\r\n    <path clip-path=\"url(#p592672499b)\" d=\"M 190.291761 239.758125 \r\nL 251.164489 239.758125 \r\nL 251.164489 32.672411 \r\nL 190.291761 32.672411 \r\nz\r\n\" style=\"fill:#1f77b4;fill-opacity:0.75;stroke:#000000;stroke-linejoin:miter;\"/>\r\n   </g>\r\n   <g id=\"patch_6\">\r\n    <path clip-path=\"url(#p592672499b)\" d=\"M 251.164489 239.758125 \r\nL 312.037216 239.758125 \r\nL 312.037216 32.672411 \r\nL 251.164489 32.672411 \r\nz\r\n\" style=\"fill:#1f77b4;fill-opacity:0.75;stroke:#000000;stroke-linejoin:miter;\"/>\r\n   </g>\r\n   <g id=\"patch_7\">\r\n    <path clip-path=\"url(#p592672499b)\" d=\"M 312.037216 239.758125 \r\nL 372.909943 239.758125 \r\nL 372.909943 173.75182 \r\nL 312.037216 173.75182 \r\nz\r\n\" style=\"fill:#1f77b4;fill-opacity:0.75;stroke:#000000;stroke-linejoin:miter;\"/>\r\n   </g>\r\n   <g id=\"matplotlib.axis_1\">\r\n    <g id=\"xtick_1\">\r\n     <g id=\"line2d_1\">\r\n      <defs>\r\n       <path d=\"M 0 0 \r\nL 0 3.5 \r\n\" id=\"m3766917180\" style=\"stroke:#000000;stroke-width:0.8;\"/>\r\n      </defs>\r\n      <g>\r\n       <use style=\"stroke:#000000;stroke-width:0.8;\" x=\"65.471927\" xlink:href=\"#m3766917180\" y=\"239.758125\"/>\r\n      </g>\r\n     </g>\r\n     <g id=\"text_1\">\r\n      <!-- 0 -->\r\n      <g transform=\"translate(62.290677 254.356562)scale(0.1 -0.1)\">\r\n       <defs>\r\n        <path d=\"M 2034 4250 \r\nQ 1547 4250 1301 3770 \r\nQ 1056 3291 1056 2328 \r\nQ 1056 1369 1301 889 \r\nQ 1547 409 2034 409 \r\nQ 2525 409 2770 889 \r\nQ 3016 1369 3016 2328 \r\nQ 3016 3291 2770 3770 \r\nQ 2525 4250 2034 4250 \r\nz\r\nM 2034 4750 \r\nQ 2819 4750 3233 4129 \r\nQ 3647 3509 3647 2328 \r\nQ 3647 1150 3233 529 \r\nQ 2819 -91 2034 -91 \r\nQ 1250 -91 836 529 \r\nQ 422 1150 422 2328 \r\nQ 422 3509 836 4129 \r\nQ 1250 4750 2034 4750 \r\nz\r\n\" id=\"DejaVuSans-30\" transform=\"scale(0.015625)\"/>\r\n       </defs>\r\n       <use xlink:href=\"#DejaVuSans-30\"/>\r\n      </g>\r\n     </g>\r\n    </g>\r\n    <g id=\"xtick_2\">\r\n     <g id=\"line2d_2\">\r\n      <g>\r\n       <use style=\"stroke:#000000;stroke-width:0.8;\" x=\"126.95953\" xlink:href=\"#m3766917180\" y=\"239.758125\"/>\r\n      </g>\r\n     </g>\r\n     <g id=\"text_2\">\r\n      <!-- 20 -->\r\n      <g transform=\"translate(120.59703 254.356562)scale(0.1 -0.1)\">\r\n       <defs>\r\n        <path d=\"M 1228 531 \r\nL 3431 531 \r\nL 3431 0 \r\nL 469 0 \r\nL 469 531 \r\nQ 828 903 1448 1529 \r\nQ 2069 2156 2228 2338 \r\nQ 2531 2678 2651 2914 \r\nQ 2772 3150 2772 3378 \r\nQ 2772 3750 2511 3984 \r\nQ 2250 4219 1831 4219 \r\nQ 1534 4219 1204 4116 \r\nQ 875 4013 500 3803 \r\nL 500 4441 \r\nQ 881 4594 1212 4672 \r\nQ 1544 4750 1819 4750 \r\nQ 2544 4750 2975 4387 \r\nQ 3406 4025 3406 3419 \r\nQ 3406 3131 3298 2873 \r\nQ 3191 2616 2906 2266 \r\nQ 2828 2175 2409 1742 \r\nQ 1991 1309 1228 531 \r\nz\r\n\" id=\"DejaVuSans-32\" transform=\"scale(0.015625)\"/>\r\n       </defs>\r\n       <use xlink:href=\"#DejaVuSans-32\"/>\r\n       <use x=\"63.623047\" xlink:href=\"#DejaVuSans-30\"/>\r\n      </g>\r\n     </g>\r\n    </g>\r\n    <g id=\"xtick_3\">\r\n     <g id=\"line2d_3\">\r\n      <g>\r\n       <use style=\"stroke:#000000;stroke-width:0.8;\" x=\"188.447133\" xlink:href=\"#m3766917180\" y=\"239.758125\"/>\r\n      </g>\r\n     </g>\r\n     <g id=\"text_3\">\r\n      <!-- 40 -->\r\n      <g transform=\"translate(182.084633 254.356562)scale(0.1 -0.1)\">\r\n       <defs>\r\n        <path d=\"M 2419 4116 \r\nL 825 1625 \r\nL 2419 1625 \r\nL 2419 4116 \r\nz\r\nM 2253 4666 \r\nL 3047 4666 \r\nL 3047 1625 \r\nL 3713 1625 \r\nL 3713 1100 \r\nL 3047 1100 \r\nL 3047 0 \r\nL 2419 0 \r\nL 2419 1100 \r\nL 313 1100 \r\nL 313 1709 \r\nL 2253 4666 \r\nz\r\n\" id=\"DejaVuSans-34\" transform=\"scale(0.015625)\"/>\r\n       </defs>\r\n       <use xlink:href=\"#DejaVuSans-34\"/>\r\n       <use x=\"63.623047\" xlink:href=\"#DejaVuSans-30\"/>\r\n      </g>\r\n     </g>\r\n    </g>\r\n    <g id=\"xtick_4\">\r\n     <g id=\"line2d_4\">\r\n      <g>\r\n       <use style=\"stroke:#000000;stroke-width:0.8;\" x=\"249.934737\" xlink:href=\"#m3766917180\" y=\"239.758125\"/>\r\n      </g>\r\n     </g>\r\n     <g id=\"text_4\">\r\n      <!-- 60 -->\r\n      <g transform=\"translate(243.572237 254.356562)scale(0.1 -0.1)\">\r\n       <defs>\r\n        <path d=\"M 2113 2584 \r\nQ 1688 2584 1439 2293 \r\nQ 1191 2003 1191 1497 \r\nQ 1191 994 1439 701 \r\nQ 1688 409 2113 409 \r\nQ 2538 409 2786 701 \r\nQ 3034 994 3034 1497 \r\nQ 3034 2003 2786 2293 \r\nQ 2538 2584 2113 2584 \r\nz\r\nM 3366 4563 \r\nL 3366 3988 \r\nQ 3128 4100 2886 4159 \r\nQ 2644 4219 2406 4219 \r\nQ 1781 4219 1451 3797 \r\nQ 1122 3375 1075 2522 \r\nQ 1259 2794 1537 2939 \r\nQ 1816 3084 2150 3084 \r\nQ 2853 3084 3261 2657 \r\nQ 3669 2231 3669 1497 \r\nQ 3669 778 3244 343 \r\nQ 2819 -91 2113 -91 \r\nQ 1303 -91 875 529 \r\nQ 447 1150 447 2328 \r\nQ 447 3434 972 4092 \r\nQ 1497 4750 2381 4750 \r\nQ 2619 4750 2861 4703 \r\nQ 3103 4656 3366 4563 \r\nz\r\n\" id=\"DejaVuSans-36\" transform=\"scale(0.015625)\"/>\r\n       </defs>\r\n       <use xlink:href=\"#DejaVuSans-36\"/>\r\n       <use x=\"63.623047\" xlink:href=\"#DejaVuSans-30\"/>\r\n      </g>\r\n     </g>\r\n    </g>\r\n    <g id=\"xtick_5\">\r\n     <g id=\"line2d_5\">\r\n      <g>\r\n       <use style=\"stroke:#000000;stroke-width:0.8;\" x=\"311.42234\" xlink:href=\"#m3766917180\" y=\"239.758125\"/>\r\n      </g>\r\n     </g>\r\n     <g id=\"text_5\">\r\n      <!-- 80 -->\r\n      <g transform=\"translate(305.05984 254.356562)scale(0.1 -0.1)\">\r\n       <defs>\r\n        <path d=\"M 2034 2216 \r\nQ 1584 2216 1326 1975 \r\nQ 1069 1734 1069 1313 \r\nQ 1069 891 1326 650 \r\nQ 1584 409 2034 409 \r\nQ 2484 409 2743 651 \r\nQ 3003 894 3003 1313 \r\nQ 3003 1734 2745 1975 \r\nQ 2488 2216 2034 2216 \r\nz\r\nM 1403 2484 \r\nQ 997 2584 770 2862 \r\nQ 544 3141 544 3541 \r\nQ 544 4100 942 4425 \r\nQ 1341 4750 2034 4750 \r\nQ 2731 4750 3128 4425 \r\nQ 3525 4100 3525 3541 \r\nQ 3525 3141 3298 2862 \r\nQ 3072 2584 2669 2484 \r\nQ 3125 2378 3379 2068 \r\nQ 3634 1759 3634 1313 \r\nQ 3634 634 3220 271 \r\nQ 2806 -91 2034 -91 \r\nQ 1263 -91 848 271 \r\nQ 434 634 434 1313 \r\nQ 434 1759 690 2068 \r\nQ 947 2378 1403 2484 \r\nz\r\nM 1172 3481 \r\nQ 1172 3119 1398 2916 \r\nQ 1625 2713 2034 2713 \r\nQ 2441 2713 2670 2916 \r\nQ 2900 3119 2900 3481 \r\nQ 2900 3844 2670 4047 \r\nQ 2441 4250 2034 4250 \r\nQ 1625 4250 1398 4047 \r\nQ 1172 3844 1172 3481 \r\nz\r\n\" id=\"DejaVuSans-38\" transform=\"scale(0.015625)\"/>\r\n       </defs>\r\n       <use xlink:href=\"#DejaVuSans-38\"/>\r\n       <use x=\"63.623047\" xlink:href=\"#DejaVuSans-30\"/>\r\n      </g>\r\n     </g>\r\n    </g>\r\n    <g id=\"xtick_6\">\r\n     <g id=\"line2d_6\">\r\n      <g>\r\n       <use style=\"stroke:#000000;stroke-width:0.8;\" x=\"372.909943\" xlink:href=\"#m3766917180\" y=\"239.758125\"/>\r\n      </g>\r\n     </g>\r\n     <g id=\"text_6\">\r\n      <!-- 100 -->\r\n      <g transform=\"translate(363.366193 254.356562)scale(0.1 -0.1)\">\r\n       <defs>\r\n        <path d=\"M 794 531 \r\nL 1825 531 \r\nL 1825 4091 \r\nL 703 3866 \r\nL 703 4441 \r\nL 1819 4666 \r\nL 2450 4666 \r\nL 2450 531 \r\nL 3481 531 \r\nL 3481 0 \r\nL 794 0 \r\nL 794 531 \r\nz\r\n\" id=\"DejaVuSans-31\" transform=\"scale(0.015625)\"/>\r\n       </defs>\r\n       <use xlink:href=\"#DejaVuSans-31\"/>\r\n       <use x=\"63.623047\" xlink:href=\"#DejaVuSans-30\"/>\r\n       <use x=\"127.246094\" xlink:href=\"#DejaVuSans-30\"/>\r\n      </g>\r\n     </g>\r\n    </g>\r\n    <g id=\"text_7\">\r\n     <!-- Metascore -->\r\n     <g transform=\"translate(194.880469 268.034687)scale(0.1 -0.1)\">\r\n      <defs>\r\n       <path d=\"M 628 4666 \r\nL 1569 4666 \r\nL 2759 1491 \r\nL 3956 4666 \r\nL 4897 4666 \r\nL 4897 0 \r\nL 4281 0 \r\nL 4281 4097 \r\nL 3078 897 \r\nL 2444 897 \r\nL 1241 4097 \r\nL 1241 0 \r\nL 628 0 \r\nL 628 4666 \r\nz\r\n\" id=\"DejaVuSans-4d\" transform=\"scale(0.015625)\"/>\r\n       <path d=\"M 3597 1894 \r\nL 3597 1613 \r\nL 953 1613 \r\nQ 991 1019 1311 708 \r\nQ 1631 397 2203 397 \r\nQ 2534 397 2845 478 \r\nQ 3156 559 3463 722 \r\nL 3463 178 \r\nQ 3153 47 2828 -22 \r\nQ 2503 -91 2169 -91 \r\nQ 1331 -91 842 396 \r\nQ 353 884 353 1716 \r\nQ 353 2575 817 3079 \r\nQ 1281 3584 2069 3584 \r\nQ 2775 3584 3186 3129 \r\nQ 3597 2675 3597 1894 \r\nz\r\nM 3022 2063 \r\nQ 3016 2534 2758 2815 \r\nQ 2500 3097 2075 3097 \r\nQ 1594 3097 1305 2825 \r\nQ 1016 2553 972 2059 \r\nL 3022 2063 \r\nz\r\n\" id=\"DejaVuSans-65\" transform=\"scale(0.015625)\"/>\r\n       <path d=\"M 1172 4494 \r\nL 1172 3500 \r\nL 2356 3500 \r\nL 2356 3053 \r\nL 1172 3053 \r\nL 1172 1153 \r\nQ 1172 725 1289 603 \r\nQ 1406 481 1766 481 \r\nL 2356 481 \r\nL 2356 0 \r\nL 1766 0 \r\nQ 1100 0 847 248 \r\nQ 594 497 594 1153 \r\nL 594 3053 \r\nL 172 3053 \r\nL 172 3500 \r\nL 594 3500 \r\nL 594 4494 \r\nL 1172 4494 \r\nz\r\n\" id=\"DejaVuSans-74\" transform=\"scale(0.015625)\"/>\r\n       <path d=\"M 2194 1759 \r\nQ 1497 1759 1228 1600 \r\nQ 959 1441 959 1056 \r\nQ 959 750 1161 570 \r\nQ 1363 391 1709 391 \r\nQ 2188 391 2477 730 \r\nQ 2766 1069 2766 1631 \r\nL 2766 1759 \r\nL 2194 1759 \r\nz\r\nM 3341 1997 \r\nL 3341 0 \r\nL 2766 0 \r\nL 2766 531 \r\nQ 2569 213 2275 61 \r\nQ 1981 -91 1556 -91 \r\nQ 1019 -91 701 211 \r\nQ 384 513 384 1019 \r\nQ 384 1609 779 1909 \r\nQ 1175 2209 1959 2209 \r\nL 2766 2209 \r\nL 2766 2266 \r\nQ 2766 2663 2505 2880 \r\nQ 2244 3097 1772 3097 \r\nQ 1472 3097 1187 3025 \r\nQ 903 2953 641 2809 \r\nL 641 3341 \r\nQ 956 3463 1253 3523 \r\nQ 1550 3584 1831 3584 \r\nQ 2591 3584 2966 3190 \r\nQ 3341 2797 3341 1997 \r\nz\r\n\" id=\"DejaVuSans-61\" transform=\"scale(0.015625)\"/>\r\n       <path d=\"M 2834 3397 \r\nL 2834 2853 \r\nQ 2591 2978 2328 3040 \r\nQ 2066 3103 1784 3103 \r\nQ 1356 3103 1142 2972 \r\nQ 928 2841 928 2578 \r\nQ 928 2378 1081 2264 \r\nQ 1234 2150 1697 2047 \r\nL 1894 2003 \r\nQ 2506 1872 2764 1633 \r\nQ 3022 1394 3022 966 \r\nQ 3022 478 2636 193 \r\nQ 2250 -91 1575 -91 \r\nQ 1294 -91 989 -36 \r\nQ 684 19 347 128 \r\nL 347 722 \r\nQ 666 556 975 473 \r\nQ 1284 391 1588 391 \r\nQ 1994 391 2212 530 \r\nQ 2431 669 2431 922 \r\nQ 2431 1156 2273 1281 \r\nQ 2116 1406 1581 1522 \r\nL 1381 1569 \r\nQ 847 1681 609 1914 \r\nQ 372 2147 372 2553 \r\nQ 372 3047 722 3315 \r\nQ 1072 3584 1716 3584 \r\nQ 2034 3584 2315 3537 \r\nQ 2597 3491 2834 3397 \r\nz\r\n\" id=\"DejaVuSans-73\" transform=\"scale(0.015625)\"/>\r\n       <path d=\"M 3122 3366 \r\nL 3122 2828 \r\nQ 2878 2963 2633 3030 \r\nQ 2388 3097 2138 3097 \r\nQ 1578 3097 1268 2742 \r\nQ 959 2388 959 1747 \r\nQ 959 1106 1268 751 \r\nQ 1578 397 2138 397 \r\nQ 2388 397 2633 464 \r\nQ 2878 531 3122 666 \r\nL 3122 134 \r\nQ 2881 22 2623 -34 \r\nQ 2366 -91 2075 -91 \r\nQ 1284 -91 818 406 \r\nQ 353 903 353 1747 \r\nQ 353 2603 823 3093 \r\nQ 1294 3584 2113 3584 \r\nQ 2378 3584 2631 3529 \r\nQ 2884 3475 3122 3366 \r\nz\r\n\" id=\"DejaVuSans-63\" transform=\"scale(0.015625)\"/>\r\n       <path d=\"M 1959 3097 \r\nQ 1497 3097 1228 2736 \r\nQ 959 2375 959 1747 \r\nQ 959 1119 1226 758 \r\nQ 1494 397 1959 397 \r\nQ 2419 397 2687 759 \r\nQ 2956 1122 2956 1747 \r\nQ 2956 2369 2687 2733 \r\nQ 2419 3097 1959 3097 \r\nz\r\nM 1959 3584 \r\nQ 2709 3584 3137 3096 \r\nQ 3566 2609 3566 1747 \r\nQ 3566 888 3137 398 \r\nQ 2709 -91 1959 -91 \r\nQ 1206 -91 779 398 \r\nQ 353 888 353 1747 \r\nQ 353 2609 779 3096 \r\nQ 1206 3584 1959 3584 \r\nz\r\n\" id=\"DejaVuSans-6f\" transform=\"scale(0.015625)\"/>\r\n       <path d=\"M 2631 2963 \r\nQ 2534 3019 2420 3045 \r\nQ 2306 3072 2169 3072 \r\nQ 1681 3072 1420 2755 \r\nQ 1159 2438 1159 1844 \r\nL 1159 0 \r\nL 581 0 \r\nL 581 3500 \r\nL 1159 3500 \r\nL 1159 2956 \r\nQ 1341 3275 1631 3429 \r\nQ 1922 3584 2338 3584 \r\nQ 2397 3584 2469 3576 \r\nQ 2541 3569 2628 3553 \r\nL 2631 2963 \r\nz\r\n\" id=\"DejaVuSans-72\" transform=\"scale(0.015625)\"/>\r\n      </defs>\r\n      <use xlink:href=\"#DejaVuSans-4d\"/>\r\n      <use x=\"86.279297\" xlink:href=\"#DejaVuSans-65\"/>\r\n      <use x=\"147.802734\" xlink:href=\"#DejaVuSans-74\"/>\r\n      <use x=\"187.011719\" xlink:href=\"#DejaVuSans-61\"/>\r\n      <use x=\"248.291016\" xlink:href=\"#DejaVuSans-73\"/>\r\n      <use x=\"300.390625\" xlink:href=\"#DejaVuSans-63\"/>\r\n      <use x=\"355.371094\" xlink:href=\"#DejaVuSans-6f\"/>\r\n      <use x=\"416.552734\" xlink:href=\"#DejaVuSans-72\"/>\r\n      <use x=\"455.416016\" xlink:href=\"#DejaVuSans-65\"/>\r\n     </g>\r\n    </g>\r\n   </g>\r\n   <g id=\"matplotlib.axis_2\">\r\n    <g id=\"ytick_1\">\r\n     <g id=\"line2d_7\">\r\n      <defs>\r\n       <path d=\"M 0 0 \r\nL -3.5 0 \r\n\" id=\"m81ac53687d\" style=\"stroke:#000000;stroke-width:0.8;\"/>\r\n      </defs>\r\n      <g>\r\n       <use style=\"stroke:#000000;stroke-width:0.8;\" x=\"53.328125\" xlink:href=\"#m81ac53687d\" y=\"239.758125\"/>\r\n      </g>\r\n     </g>\r\n     <g id=\"text_8\">\r\n      <!-- 0 -->\r\n      <g transform=\"translate(39.965625 243.557344)scale(0.1 -0.1)\">\r\n       <use xlink:href=\"#DejaVuSans-30\"/>\r\n      </g>\r\n     </g>\r\n    </g>\r\n    <g id=\"ytick_2\">\r\n     <g id=\"line2d_8\">\r\n      <g>\r\n       <use style=\"stroke:#000000;stroke-width:0.8;\" x=\"53.328125\" xlink:href=\"#m81ac53687d\" y=\"203.490925\"/>\r\n      </g>\r\n     </g>\r\n     <g id=\"text_9\">\r\n      <!-- 200 -->\r\n      <g transform=\"translate(27.240625 207.290143)scale(0.1 -0.1)\">\r\n       <use xlink:href=\"#DejaVuSans-32\"/>\r\n       <use x=\"63.623047\" xlink:href=\"#DejaVuSans-30\"/>\r\n       <use x=\"127.246094\" xlink:href=\"#DejaVuSans-30\"/>\r\n      </g>\r\n     </g>\r\n    </g>\r\n    <g id=\"ytick_3\">\r\n     <g id=\"line2d_9\">\r\n      <g>\r\n       <use style=\"stroke:#000000;stroke-width:0.8;\" x=\"53.328125\" xlink:href=\"#m81ac53687d\" y=\"167.223724\"/>\r\n      </g>\r\n     </g>\r\n     <g id=\"text_10\">\r\n      <!-- 400 -->\r\n      <g transform=\"translate(27.240625 171.022943)scale(0.1 -0.1)\">\r\n       <use xlink:href=\"#DejaVuSans-34\"/>\r\n       <use x=\"63.623047\" xlink:href=\"#DejaVuSans-30\"/>\r\n       <use x=\"127.246094\" xlink:href=\"#DejaVuSans-30\"/>\r\n      </g>\r\n     </g>\r\n    </g>\r\n    <g id=\"ytick_4\">\r\n     <g id=\"line2d_10\">\r\n      <g>\r\n       <use style=\"stroke:#000000;stroke-width:0.8;\" x=\"53.328125\" xlink:href=\"#m81ac53687d\" y=\"130.956524\"/>\r\n      </g>\r\n     </g>\r\n     <g id=\"text_11\">\r\n      <!-- 600 -->\r\n      <g transform=\"translate(27.240625 134.755743)scale(0.1 -0.1)\">\r\n       <use xlink:href=\"#DejaVuSans-36\"/>\r\n       <use x=\"63.623047\" xlink:href=\"#DejaVuSans-30\"/>\r\n       <use x=\"127.246094\" xlink:href=\"#DejaVuSans-30\"/>\r\n      </g>\r\n     </g>\r\n    </g>\r\n    <g id=\"ytick_5\">\r\n     <g id=\"line2d_11\">\r\n      <g>\r\n       <use style=\"stroke:#000000;stroke-width:0.8;\" x=\"53.328125\" xlink:href=\"#m81ac53687d\" y=\"94.689323\"/>\r\n      </g>\r\n     </g>\r\n     <g id=\"text_12\">\r\n      <!-- 800 -->\r\n      <g transform=\"translate(27.240625 98.488542)scale(0.1 -0.1)\">\r\n       <use xlink:href=\"#DejaVuSans-38\"/>\r\n       <use x=\"63.623047\" xlink:href=\"#DejaVuSans-30\"/>\r\n       <use x=\"127.246094\" xlink:href=\"#DejaVuSans-30\"/>\r\n      </g>\r\n     </g>\r\n    </g>\r\n    <g id=\"ytick_6\">\r\n     <g id=\"line2d_12\">\r\n      <g>\r\n       <use style=\"stroke:#000000;stroke-width:0.8;\" x=\"53.328125\" xlink:href=\"#m81ac53687d\" y=\"58.422123\"/>\r\n      </g>\r\n     </g>\r\n     <g id=\"text_13\">\r\n      <!-- 1000 -->\r\n      <g transform=\"translate(20.878125 62.221342)scale(0.1 -0.1)\">\r\n       <use xlink:href=\"#DejaVuSans-31\"/>\r\n       <use x=\"63.623047\" xlink:href=\"#DejaVuSans-30\"/>\r\n       <use x=\"127.246094\" xlink:href=\"#DejaVuSans-30\"/>\r\n       <use x=\"190.869141\" xlink:href=\"#DejaVuSans-30\"/>\r\n      </g>\r\n     </g>\r\n    </g>\r\n    <g id=\"text_14\">\r\n     <!-- Count -->\r\n     <g transform=\"translate(14.798438 145.886562)rotate(-90)scale(0.1 -0.1)\">\r\n      <defs>\r\n       <path d=\"M 4122 4306 \r\nL 4122 3641 \r\nQ 3803 3938 3442 4084 \r\nQ 3081 4231 2675 4231 \r\nQ 1875 4231 1450 3742 \r\nQ 1025 3253 1025 2328 \r\nQ 1025 1406 1450 917 \r\nQ 1875 428 2675 428 \r\nQ 3081 428 3442 575 \r\nQ 3803 722 4122 1019 \r\nL 4122 359 \r\nQ 3791 134 3420 21 \r\nQ 3050 -91 2638 -91 \r\nQ 1578 -91 968 557 \r\nQ 359 1206 359 2328 \r\nQ 359 3453 968 4101 \r\nQ 1578 4750 2638 4750 \r\nQ 3056 4750 3426 4639 \r\nQ 3797 4528 4122 4306 \r\nz\r\n\" id=\"DejaVuSans-43\" transform=\"scale(0.015625)\"/>\r\n       <path d=\"M 544 1381 \r\nL 544 3500 \r\nL 1119 3500 \r\nL 1119 1403 \r\nQ 1119 906 1312 657 \r\nQ 1506 409 1894 409 \r\nQ 2359 409 2629 706 \r\nQ 2900 1003 2900 1516 \r\nL 2900 3500 \r\nL 3475 3500 \r\nL 3475 0 \r\nL 2900 0 \r\nL 2900 538 \r\nQ 2691 219 2414 64 \r\nQ 2138 -91 1772 -91 \r\nQ 1169 -91 856 284 \r\nQ 544 659 544 1381 \r\nz\r\nM 1991 3584 \r\nL 1991 3584 \r\nz\r\n\" id=\"DejaVuSans-75\" transform=\"scale(0.015625)\"/>\r\n       <path d=\"M 3513 2113 \r\nL 3513 0 \r\nL 2938 0 \r\nL 2938 2094 \r\nQ 2938 2591 2744 2837 \r\nQ 2550 3084 2163 3084 \r\nQ 1697 3084 1428 2787 \r\nQ 1159 2491 1159 1978 \r\nL 1159 0 \r\nL 581 0 \r\nL 581 3500 \r\nL 1159 3500 \r\nL 1159 2956 \r\nQ 1366 3272 1645 3428 \r\nQ 1925 3584 2291 3584 \r\nQ 2894 3584 3203 3211 \r\nQ 3513 2838 3513 2113 \r\nz\r\n\" id=\"DejaVuSans-6e\" transform=\"scale(0.015625)\"/>\r\n      </defs>\r\n      <use xlink:href=\"#DejaVuSans-43\"/>\r\n      <use x=\"69.824219\" xlink:href=\"#DejaVuSans-6f\"/>\r\n      <use x=\"131.005859\" xlink:href=\"#DejaVuSans-75\"/>\r\n      <use x=\"194.384766\" xlink:href=\"#DejaVuSans-6e\"/>\r\n      <use x=\"257.763672\" xlink:href=\"#DejaVuSans-74\"/>\r\n     </g>\r\n    </g>\r\n   </g>\r\n   <g id=\"patch_8\">\r\n    <path d=\"M 53.328125 239.758125 \r\nL 53.328125 22.318125 \r\n\" style=\"fill:none;stroke:#000000;stroke-linecap:square;stroke-linejoin:miter;stroke-width:0.8;\"/>\r\n   </g>\r\n   <g id=\"patch_9\">\r\n    <path d=\"M 388.128125 239.758125 \r\nL 388.128125 22.318125 \r\n\" style=\"fill:none;stroke:#000000;stroke-linecap:square;stroke-linejoin:miter;stroke-width:0.8;\"/>\r\n   </g>\r\n   <g id=\"patch_10\">\r\n    <path d=\"M 53.328125 239.758125 \r\nL 388.128125 239.758125 \r\n\" style=\"fill:none;stroke:#000000;stroke-linecap:square;stroke-linejoin:miter;stroke-width:0.8;\"/>\r\n   </g>\r\n   <g id=\"patch_11\">\r\n    <path d=\"M 53.328125 22.318125 \r\nL 388.128125 22.318125 \r\n\" style=\"fill:none;stroke:#000000;stroke-linecap:square;stroke-linejoin:miter;stroke-width:0.8;\"/>\r\n   </g>\r\n   <g id=\"text_15\">\r\n    <!-- Metascore distribution -->\r\n    <g transform=\"translate(153.6125 16.318125)scale(0.12 -0.12)\">\r\n     <defs>\r\n      <path id=\"DejaVuSans-20\" transform=\"scale(0.015625)\"/>\r\n      <path d=\"M 2906 2969 \r\nL 2906 4863 \r\nL 3481 4863 \r\nL 3481 0 \r\nL 2906 0 \r\nL 2906 525 \r\nQ 2725 213 2448 61 \r\nQ 2172 -91 1784 -91 \r\nQ 1150 -91 751 415 \r\nQ 353 922 353 1747 \r\nQ 353 2572 751 3078 \r\nQ 1150 3584 1784 3584 \r\nQ 2172 3584 2448 3432 \r\nQ 2725 3281 2906 2969 \r\nz\r\nM 947 1747 \r\nQ 947 1113 1208 752 \r\nQ 1469 391 1925 391 \r\nQ 2381 391 2643 752 \r\nQ 2906 1113 2906 1747 \r\nQ 2906 2381 2643 2742 \r\nQ 2381 3103 1925 3103 \r\nQ 1469 3103 1208 2742 \r\nQ 947 2381 947 1747 \r\nz\r\n\" id=\"DejaVuSans-64\" transform=\"scale(0.015625)\"/>\r\n      <path d=\"M 603 3500 \r\nL 1178 3500 \r\nL 1178 0 \r\nL 603 0 \r\nL 603 3500 \r\nz\r\nM 603 4863 \r\nL 1178 4863 \r\nL 1178 4134 \r\nL 603 4134 \r\nL 603 4863 \r\nz\r\n\" id=\"DejaVuSans-69\" transform=\"scale(0.015625)\"/>\r\n      <path d=\"M 3116 1747 \r\nQ 3116 2381 2855 2742 \r\nQ 2594 3103 2138 3103 \r\nQ 1681 3103 1420 2742 \r\nQ 1159 2381 1159 1747 \r\nQ 1159 1113 1420 752 \r\nQ 1681 391 2138 391 \r\nQ 2594 391 2855 752 \r\nQ 3116 1113 3116 1747 \r\nz\r\nM 1159 2969 \r\nQ 1341 3281 1617 3432 \r\nQ 1894 3584 2278 3584 \r\nQ 2916 3584 3314 3078 \r\nQ 3713 2572 3713 1747 \r\nQ 3713 922 3314 415 \r\nQ 2916 -91 2278 -91 \r\nQ 1894 -91 1617 61 \r\nQ 1341 213 1159 525 \r\nL 1159 0 \r\nL 581 0 \r\nL 581 4863 \r\nL 1159 4863 \r\nL 1159 2969 \r\nz\r\n\" id=\"DejaVuSans-62\" transform=\"scale(0.015625)\"/>\r\n     </defs>\r\n     <use xlink:href=\"#DejaVuSans-4d\"/>\r\n     <use x=\"86.279297\" xlink:href=\"#DejaVuSans-65\"/>\r\n     <use x=\"147.802734\" xlink:href=\"#DejaVuSans-74\"/>\r\n     <use x=\"187.011719\" xlink:href=\"#DejaVuSans-61\"/>\r\n     <use x=\"248.291016\" xlink:href=\"#DejaVuSans-73\"/>\r\n     <use x=\"300.390625\" xlink:href=\"#DejaVuSans-63\"/>\r\n     <use x=\"355.371094\" xlink:href=\"#DejaVuSans-6f\"/>\r\n     <use x=\"416.552734\" xlink:href=\"#DejaVuSans-72\"/>\r\n     <use x=\"455.416016\" xlink:href=\"#DejaVuSans-65\"/>\r\n     <use x=\"516.939453\" xlink:href=\"#DejaVuSans-20\"/>\r\n     <use x=\"548.726562\" xlink:href=\"#DejaVuSans-64\"/>\r\n     <use x=\"612.203125\" xlink:href=\"#DejaVuSans-69\"/>\r\n     <use x=\"639.986328\" xlink:href=\"#DejaVuSans-73\"/>\r\n     <use x=\"692.085938\" xlink:href=\"#DejaVuSans-74\"/>\r\n     <use x=\"731.294922\" xlink:href=\"#DejaVuSans-72\"/>\r\n     <use x=\"772.408203\" xlink:href=\"#DejaVuSans-69\"/>\r\n     <use x=\"800.191406\" xlink:href=\"#DejaVuSans-62\"/>\r\n     <use x=\"863.667969\" xlink:href=\"#DejaVuSans-75\"/>\r\n     <use x=\"927.046875\" xlink:href=\"#DejaVuSans-74\"/>\r\n     <use x=\"966.255859\" xlink:href=\"#DejaVuSans-69\"/>\r\n     <use x=\"994.039062\" xlink:href=\"#DejaVuSans-6f\"/>\r\n     <use x=\"1055.220703\" xlink:href=\"#DejaVuSans-6e\"/>\r\n    </g>\r\n   </g>\r\n  </g>\r\n </g>\r\n <defs>\r\n  <clipPath id=\"p592672499b\">\r\n   <rect height=\"217.44\" width=\"334.8\" x=\"53.328125\" y=\"22.318125\"/>\r\n  </clipPath>\r\n </defs>\r\n</svg>\r\n",
      "image/png": "[encoded data removed]"
     },
     "metadata": {
      "needs_background": "light"
     }
    }
   ],
   "source": [
    "viz.plot_displot(x='Metascore', kde=False, bins=5, save=reports)"
   ]
  },
  {
   "source": [
    "### 5.4 BASE Heatmap"
   ],
   "cell_type": "markdown",
   "metadata": {}
  },
  {
   "cell_type": "code",
   "execution_count": 8,
   "metadata": {},
   "outputs": [
    {
     "output_type": "display_data",
     "data": {
      "text/plain": "<Figure size 432x288 with 2 Axes>",
      "image/svg+xml": "<?xml version=\"1.0\" encoding=\"utf-8\" standalone=\"no\"?>\r\n<!DOCTYPE svg PUBLIC \"-//W3C//DTD SVG 1.1//EN\"\r\n  \"http://www.w3.org/Graphics/SVG/1.1/DTD/svg11.dtd\">\r\n<svg height=\"339.945625pt\" version=\"1.1\" viewBox=\"0 0 425.742625 339.945625\" width=\"425.742625pt\" xmlns=\"http://www.w3.org/2000/svg\" xmlns:xlink=\"http://www.w3.org/1999/xlink\">\r\n <metadata>\r\n  <rdf:RDF xmlns:cc=\"http://creativecommons.org/ns#\" xmlns:dc=\"http://purl.org/dc/elements/1.1/\" xmlns:rdf=\"http://www.w3.org/1999/02/22-rdf-syntax-ns#\">\r\n   <cc:Work>\r\n    <dc:type rdf:resource=\"http://purl.org/dc/dcmitype/StillImage\"/>\r\n    <dc:date>2021-06-01T19:39:12.692967</dc:date>\r\n    <dc:format>image/svg+xml</dc:format>\r\n    <dc:creator>\r\n     <cc:Agent>\r\n      <dc:title>Matplotlib v3.4.1, https://matplotlib.org/</dc:title>\r\n     </cc:Agent>\r\n    </dc:creator>\r\n   </cc:Work>\r\n  </rdf:RDF>\r\n </metadata>\r\n <defs>\r\n  <style type=\"text/css\">*{stroke-linecap:butt;stroke-linejoin:round;}</style>\r\n </defs>\r\n <g id=\"figure_1\">\r\n  <g id=\"patch_1\">\r\n   <path d=\"M 0 339.945625 \r\nL 425.742625 339.945625 \r\nL 425.742625 0 \r\nL 0 0 \r\nz\r\n\" style=\"fill:none;\"/>\r\n  </g>\r\n  <g id=\"axes_1\">\r\n   <g id=\"patch_2\">\r\n    <path d=\"M 100.1875 239.758125 \r\nL 368.0275 239.758125 \r\nL 368.0275 22.318125 \r\nL 100.1875 22.318125 \r\nz\r\n\" style=\"fill:#ffffff;\"/>\r\n   </g>\r\n   <g id=\"QuadMesh_1\">\r\n    <path clip-path=\"url(#p7ce122a0f5)\" d=\"M 100.1875 22.318125 \r\nL 153.7555 22.318125 \r\nL 153.7555 65.806125 \r\nL 100.1875 65.806125 \r\nL 100.1875 22.318125 \r\n\" style=\"fill:#faebdd;\"/>\r\n    <path clip-path=\"url(#p7ce122a0f5)\" d=\"M 153.7555 22.318125 \r\nL 207.3235 22.318125 \r\nL 207.3235 65.806125 \r\nL 153.7555 65.806125 \r\nL 153.7555 22.318125 \r\n\" style=\"fill:#05061b;\"/>\r\n    <path clip-path=\"url(#p7ce122a0f5)\" d=\"M 207.3235 22.318125 \r\nL 260.8915 22.318125 \r\nL 260.8915 65.806125 \r\nL 207.3235 65.806125 \r\nL 207.3235 22.318125 \r\n\" style=\"fill:#03051a;\"/>\r\n    <path clip-path=\"url(#p7ce122a0f5)\" d=\"M 260.8915 22.318125 \r\nL 314.4595 22.318125 \r\nL 314.4595 65.806125 \r\nL 260.8915 65.806125 \r\nL 260.8915 22.318125 \r\n\" style=\"fill:#03051a;\"/>\r\n    <path clip-path=\"url(#p7ce122a0f5)\" d=\"M 314.4595 22.318125 \r\nL 368.0275 22.318125 \r\nL 368.0275 65.806125 \r\nL 314.4595 65.806125 \r\nL 314.4595 22.318125 \r\n\" style=\"fill:#140e26;\"/>\r\n    <path clip-path=\"url(#p7ce122a0f5)\" d=\"M 100.1875 65.806125 \r\nL 153.7555 65.806125 \r\nL 153.7555 109.294125 \r\nL 100.1875 109.294125 \r\nL 100.1875 65.806125 \r\n\" style=\"fill:#05061b;\"/>\r\n    <path clip-path=\"url(#p7ce122a0f5)\" d=\"M 153.7555 65.806125 \r\nL 207.3235 65.806125 \r\nL 207.3235 109.294125 \r\nL 153.7555 109.294125 \r\nL 153.7555 65.806125 \r\n\" style=\"fill:#faebdd;\"/>\r\n    <path clip-path=\"url(#p7ce122a0f5)\" d=\"M 207.3235 65.806125 \r\nL 260.8915 65.806125 \r\nL 260.8915 109.294125 \r\nL 207.3235 109.294125 \r\nL 207.3235 65.806125 \r\n\" style=\"fill:#7b1f59;\"/>\r\n    <path clip-path=\"url(#p7ce122a0f5)\" d=\"M 260.8915 65.806125 \r\nL 314.4595 65.806125 \r\nL 314.4595 109.294125 \r\nL 260.8915 109.294125 \r\nL 260.8915 65.806125 \r\n\" style=\"fill:#f26b49;\"/>\r\n    <path clip-path=\"url(#p7ce122a0f5)\" d=\"M 314.4595 65.806125 \r\nL 368.0275 65.806125 \r\nL 368.0275 109.294125 \r\nL 314.4595 109.294125 \r\nL 314.4595 65.806125 \r\n\" style=\"fill:#c51852;\"/>\r\n    <path clip-path=\"url(#p7ce122a0f5)\" d=\"M 100.1875 109.294125 \r\nL 153.7555 109.294125 \r\nL 153.7555 152.782125 \r\nL 100.1875 152.782125 \r\nL 100.1875 109.294125 \r\n\" style=\"fill:#03051a;\"/>\r\n    <path clip-path=\"url(#p7ce122a0f5)\" d=\"M 153.7555 109.294125 \r\nL 207.3235 109.294125 \r\nL 207.3235 152.782125 \r\nL 153.7555 152.782125 \r\nL 153.7555 109.294125 \r\n\" style=\"fill:#7b1f59;\"/>\r\n    <path clip-path=\"url(#p7ce122a0f5)\" d=\"M 207.3235 109.294125 \r\nL 260.8915 109.294125 \r\nL 260.8915 152.782125 \r\nL 207.3235 152.782125 \r\nL 207.3235 109.294125 \r\n\" style=\"fill:#faebdd;\"/>\r\n    <path clip-path=\"url(#p7ce122a0f5)\" d=\"M 260.8915 109.294125 \r\nL 314.4595 109.294125 \r\nL 314.4595 152.782125 \r\nL 260.8915 152.782125 \r\nL 260.8915 109.294125 \r\n\" style=\"fill:#421b45;\"/>\r\n    <path clip-path=\"url(#p7ce122a0f5)\" d=\"M 314.4595 109.294125 \r\nL 368.0275 109.294125 \r\nL 368.0275 152.782125 \r\nL 314.4595 152.782125 \r\nL 314.4595 109.294125 \r\n\" style=\"fill:#221331;\"/>\r\n    <path clip-path=\"url(#p7ce122a0f5)\" d=\"M 100.1875 152.782125 \r\nL 153.7555 152.782125 \r\nL 153.7555 196.270125 \r\nL 100.1875 196.270125 \r\nL 100.1875 152.782125 \r\n\" style=\"fill:#03051a;\"/>\r\n    <path clip-path=\"url(#p7ce122a0f5)\" d=\"M 153.7555 152.782125 \r\nL 207.3235 152.782125 \r\nL 207.3235 196.270125 \r\nL 153.7555 196.270125 \r\nL 153.7555 152.782125 \r\n\" style=\"fill:#f26b49;\"/>\r\n    <path clip-path=\"url(#p7ce122a0f5)\" d=\"M 207.3235 152.782125 \r\nL 260.8915 152.782125 \r\nL 260.8915 196.270125 \r\nL 207.3235 196.270125 \r\nL 207.3235 152.782125 \r\n\" style=\"fill:#421b45;\"/>\r\n    <path clip-path=\"url(#p7ce122a0f5)\" d=\"M 260.8915 152.782125 \r\nL 314.4595 152.782125 \r\nL 314.4595 196.270125 \r\nL 260.8915 196.270125 \r\nL 260.8915 152.782125 \r\n\" style=\"fill:#faebdd;\"/>\r\n    <path clip-path=\"url(#p7ce122a0f5)\" d=\"M 314.4595 152.782125 \r\nL 368.0275 152.782125 \r\nL 368.0275 196.270125 \r\nL 314.4595 196.270125 \r\nL 314.4595 152.782125 \r\n\" style=\"fill:#f58b63;\"/>\r\n    <path clip-path=\"url(#p7ce122a0f5)\" d=\"M 100.1875 196.270125 \r\nL 153.7555 196.270125 \r\nL 153.7555 239.758125 \r\nL 100.1875 239.758125 \r\nL 100.1875 196.270125 \r\n\" style=\"fill:#140e26;\"/>\r\n    <path clip-path=\"url(#p7ce122a0f5)\" d=\"M 153.7555 196.270125 \r\nL 207.3235 196.270125 \r\nL 207.3235 239.758125 \r\nL 153.7555 239.758125 \r\nL 153.7555 196.270125 \r\n\" style=\"fill:#c51852;\"/>\r\n    <path clip-path=\"url(#p7ce122a0f5)\" d=\"M 207.3235 196.270125 \r\nL 260.8915 196.270125 \r\nL 260.8915 239.758125 \r\nL 207.3235 239.758125 \r\nL 207.3235 196.270125 \r\n\" style=\"fill:#221331;\"/>\r\n    <path clip-path=\"url(#p7ce122a0f5)\" d=\"M 260.8915 196.270125 \r\nL 314.4595 196.270125 \r\nL 314.4595 239.758125 \r\nL 260.8915 239.758125 \r\nL 260.8915 196.270125 \r\n\" style=\"fill:#f58b63;\"/>\r\n    <path clip-path=\"url(#p7ce122a0f5)\" d=\"M 314.4595 196.270125 \r\nL 368.0275 196.270125 \r\nL 368.0275 239.758125 \r\nL 314.4595 239.758125 \r\nL 314.4595 196.270125 \r\n\" style=\"fill:#faebdd;\"/>\r\n   </g>\r\n   <g id=\"matplotlib.axis_1\">\r\n    <g id=\"xtick_1\">\r\n     <g id=\"line2d_1\">\r\n      <defs>\r\n       <path d=\"M 0 0 \r\nL 0 3.5 \r\n\" id=\"mae0c6e3b1d\" style=\"stroke:#000000;stroke-width:0.8;\"/>\r\n      </defs>\r\n      <g>\r\n       <use style=\"stroke:#000000;stroke-width:0.8;\" x=\"126.9715\" xlink:href=\"#mae0c6e3b1d\" y=\"239.758125\"/>\r\n      </g>\r\n     </g>\r\n     <g id=\"text_1\">\r\n      <!-- netflix_id -->\r\n      <g transform=\"translate(129.591813 292.290937)rotate(-90)scale(0.1 -0.1)\">\r\n       <defs>\r\n        <path d=\"M 3513 2113 \r\nL 3513 0 \r\nL 2938 0 \r\nL 2938 2094 \r\nQ 2938 2591 2744 2837 \r\nQ 2550 3084 2163 3084 \r\nQ 1697 3084 1428 2787 \r\nQ 1159 2491 1159 1978 \r\nL 1159 0 \r\nL 581 0 \r\nL 581 3500 \r\nL 1159 3500 \r\nL 1159 2956 \r\nQ 1366 3272 1645 3428 \r\nQ 1925 3584 2291 3584 \r\nQ 2894 3584 3203 3211 \r\nQ 3513 2838 3513 2113 \r\nz\r\n\" id=\"DejaVuSans-6e\" transform=\"scale(0.015625)\"/>\r\n        <path d=\"M 3597 1894 \r\nL 3597 1613 \r\nL 953 1613 \r\nQ 991 1019 1311 708 \r\nQ 1631 397 2203 397 \r\nQ 2534 397 2845 478 \r\nQ 3156 559 3463 722 \r\nL 3463 178 \r\nQ 3153 47 2828 -22 \r\nQ 2503 -91 2169 -91 \r\nQ 1331 -91 842 396 \r\nQ 353 884 353 1716 \r\nQ 353 2575 817 3079 \r\nQ 1281 3584 2069 3584 \r\nQ 2775 3584 3186 3129 \r\nQ 3597 2675 3597 1894 \r\nz\r\nM 3022 2063 \r\nQ 3016 2534 2758 2815 \r\nQ 2500 3097 2075 3097 \r\nQ 1594 3097 1305 2825 \r\nQ 1016 2553 972 2059 \r\nL 3022 2063 \r\nz\r\n\" id=\"DejaVuSans-65\" transform=\"scale(0.015625)\"/>\r\n        <path d=\"M 1172 4494 \r\nL 1172 3500 \r\nL 2356 3500 \r\nL 2356 3053 \r\nL 1172 3053 \r\nL 1172 1153 \r\nQ 1172 725 1289 603 \r\nQ 1406 481 1766 481 \r\nL 2356 481 \r\nL 2356 0 \r\nL 1766 0 \r\nQ 1100 0 847 248 \r\nQ 594 497 594 1153 \r\nL 594 3053 \r\nL 172 3053 \r\nL 172 3500 \r\nL 594 3500 \r\nL 594 4494 \r\nL 1172 4494 \r\nz\r\n\" id=\"DejaVuSans-74\" transform=\"scale(0.015625)\"/>\r\n        <path d=\"M 2375 4863 \r\nL 2375 4384 \r\nL 1825 4384 \r\nQ 1516 4384 1395 4259 \r\nQ 1275 4134 1275 3809 \r\nL 1275 3500 \r\nL 2222 3500 \r\nL 2222 3053 \r\nL 1275 3053 \r\nL 1275 0 \r\nL 697 0 \r\nL 697 3053 \r\nL 147 3053 \r\nL 147 3500 \r\nL 697 3500 \r\nL 697 3744 \r\nQ 697 4328 969 4595 \r\nQ 1241 4863 1831 4863 \r\nL 2375 4863 \r\nz\r\n\" id=\"DejaVuSans-66\" transform=\"scale(0.015625)\"/>\r\n        <path d=\"M 603 4863 \r\nL 1178 4863 \r\nL 1178 0 \r\nL 603 0 \r\nL 603 4863 \r\nz\r\n\" id=\"DejaVuSans-6c\" transform=\"scale(0.015625)\"/>\r\n        <path d=\"M 603 3500 \r\nL 1178 3500 \r\nL 1178 0 \r\nL 603 0 \r\nL 603 3500 \r\nz\r\nM 603 4863 \r\nL 1178 4863 \r\nL 1178 4134 \r\nL 603 4134 \r\nL 603 4863 \r\nz\r\n\" id=\"DejaVuSans-69\" transform=\"scale(0.015625)\"/>\r\n        <path d=\"M 3513 3500 \r\nL 2247 1797 \r\nL 3578 0 \r\nL 2900 0 \r\nL 1881 1375 \r\nL 863 0 \r\nL 184 0 \r\nL 1544 1831 \r\nL 300 3500 \r\nL 978 3500 \r\nL 1906 2253 \r\nL 2834 3500 \r\nL 3513 3500 \r\nz\r\n\" id=\"DejaVuSans-78\" transform=\"scale(0.015625)\"/>\r\n        <path d=\"M 3263 -1063 \r\nL 3263 -1509 \r\nL -63 -1509 \r\nL -63 -1063 \r\nL 3263 -1063 \r\nz\r\n\" id=\"DejaVuSans-5f\" transform=\"scale(0.015625)\"/>\r\n        <path d=\"M 2906 2969 \r\nL 2906 4863 \r\nL 3481 4863 \r\nL 3481 0 \r\nL 2906 0 \r\nL 2906 525 \r\nQ 2725 213 2448 61 \r\nQ 2172 -91 1784 -91 \r\nQ 1150 -91 751 415 \r\nQ 353 922 353 1747 \r\nQ 353 2572 751 3078 \r\nQ 1150 3584 1784 3584 \r\nQ 2172 3584 2448 3432 \r\nQ 2725 3281 2906 2969 \r\nz\r\nM 947 1747 \r\nQ 947 1113 1208 752 \r\nQ 1469 391 1925 391 \r\nQ 2381 391 2643 752 \r\nQ 2906 1113 2906 1747 \r\nQ 2906 2381 2643 2742 \r\nQ 2381 3103 1925 3103 \r\nQ 1469 3103 1208 2742 \r\nQ 947 2381 947 1747 \r\nz\r\n\" id=\"DejaVuSans-64\" transform=\"scale(0.015625)\"/>\r\n       </defs>\r\n       <use xlink:href=\"#DejaVuSans-6e\"/>\r\n       <use x=\"63.378906\" xlink:href=\"#DejaVuSans-65\"/>\r\n       <use x=\"124.902344\" xlink:href=\"#DejaVuSans-74\"/>\r\n       <use x=\"164.111328\" xlink:href=\"#DejaVuSans-66\"/>\r\n       <use x=\"199.316406\" xlink:href=\"#DejaVuSans-6c\"/>\r\n       <use x=\"227.099609\" xlink:href=\"#DejaVuSans-69\"/>\r\n       <use x=\"254.882812\" xlink:href=\"#DejaVuSans-78\"/>\r\n       <use x=\"314.0625\" xlink:href=\"#DejaVuSans-5f\"/>\r\n       <use x=\"364.0625\" xlink:href=\"#DejaVuSans-69\"/>\r\n       <use x=\"391.845703\" xlink:href=\"#DejaVuSans-64\"/>\r\n      </g>\r\n     </g>\r\n    </g>\r\n    <g id=\"xtick_2\">\r\n     <g id=\"line2d_2\">\r\n      <g>\r\n       <use style=\"stroke:#000000;stroke-width:0.8;\" x=\"180.5395\" xlink:href=\"#mae0c6e3b1d\" y=\"239.758125\"/>\r\n      </g>\r\n     </g>\r\n     <g id=\"text_2\">\r\n      <!-- netflix_rating -->\r\n      <g transform=\"translate(183.159813 312.787812)rotate(-90)scale(0.1 -0.1)\">\r\n       <defs>\r\n        <path d=\"M 2631 2963 \r\nQ 2534 3019 2420 3045 \r\nQ 2306 3072 2169 3072 \r\nQ 1681 3072 1420 2755 \r\nQ 1159 2438 1159 1844 \r\nL 1159 0 \r\nL 581 0 \r\nL 581 3500 \r\nL 1159 3500 \r\nL 1159 2956 \r\nQ 1341 3275 1631 3429 \r\nQ 1922 3584 2338 3584 \r\nQ 2397 3584 2469 3576 \r\nQ 2541 3569 2628 3553 \r\nL 2631 2963 \r\nz\r\n\" id=\"DejaVuSans-72\" transform=\"scale(0.015625)\"/>\r\n        <path d=\"M 2194 1759 \r\nQ 1497 1759 1228 1600 \r\nQ 959 1441 959 1056 \r\nQ 959 750 1161 570 \r\nQ 1363 391 1709 391 \r\nQ 2188 391 2477 730 \r\nQ 2766 1069 2766 1631 \r\nL 2766 1759 \r\nL 2194 1759 \r\nz\r\nM 3341 1997 \r\nL 3341 0 \r\nL 2766 0 \r\nL 2766 531 \r\nQ 2569 213 2275 61 \r\nQ 1981 -91 1556 -91 \r\nQ 1019 -91 701 211 \r\nQ 384 513 384 1019 \r\nQ 384 1609 779 1909 \r\nQ 1175 2209 1959 2209 \r\nL 2766 2209 \r\nL 2766 2266 \r\nQ 2766 2663 2505 2880 \r\nQ 2244 3097 1772 3097 \r\nQ 1472 3097 1187 3025 \r\nQ 903 2953 641 2809 \r\nL 641 3341 \r\nQ 956 3463 1253 3523 \r\nQ 1550 3584 1831 3584 \r\nQ 2591 3584 2966 3190 \r\nQ 3341 2797 3341 1997 \r\nz\r\n\" id=\"DejaVuSans-61\" transform=\"scale(0.015625)\"/>\r\n        <path d=\"M 2906 1791 \r\nQ 2906 2416 2648 2759 \r\nQ 2391 3103 1925 3103 \r\nQ 1463 3103 1205 2759 \r\nQ 947 2416 947 1791 \r\nQ 947 1169 1205 825 \r\nQ 1463 481 1925 481 \r\nQ 2391 481 2648 825 \r\nQ 2906 1169 2906 1791 \r\nz\r\nM 3481 434 \r\nQ 3481 -459 3084 -895 \r\nQ 2688 -1331 1869 -1331 \r\nQ 1566 -1331 1297 -1286 \r\nQ 1028 -1241 775 -1147 \r\nL 775 -588 \r\nQ 1028 -725 1275 -790 \r\nQ 1522 -856 1778 -856 \r\nQ 2344 -856 2625 -561 \r\nQ 2906 -266 2906 331 \r\nL 2906 616 \r\nQ 2728 306 2450 153 \r\nQ 2172 0 1784 0 \r\nQ 1141 0 747 490 \r\nQ 353 981 353 1791 \r\nQ 353 2603 747 3093 \r\nQ 1141 3584 1784 3584 \r\nQ 2172 3584 2450 3431 \r\nQ 2728 3278 2906 2969 \r\nL 2906 3500 \r\nL 3481 3500 \r\nL 3481 434 \r\nz\r\n\" id=\"DejaVuSans-67\" transform=\"scale(0.015625)\"/>\r\n       </defs>\r\n       <use xlink:href=\"#DejaVuSans-6e\"/>\r\n       <use x=\"63.378906\" xlink:href=\"#DejaVuSans-65\"/>\r\n       <use x=\"124.902344\" xlink:href=\"#DejaVuSans-74\"/>\r\n       <use x=\"164.111328\" xlink:href=\"#DejaVuSans-66\"/>\r\n       <use x=\"199.316406\" xlink:href=\"#DejaVuSans-6c\"/>\r\n       <use x=\"227.099609\" xlink:href=\"#DejaVuSans-69\"/>\r\n       <use x=\"254.882812\" xlink:href=\"#DejaVuSans-78\"/>\r\n       <use x=\"314.0625\" xlink:href=\"#DejaVuSans-5f\"/>\r\n       <use x=\"364.0625\" xlink:href=\"#DejaVuSans-72\"/>\r\n       <use x=\"405.175781\" xlink:href=\"#DejaVuSans-61\"/>\r\n       <use x=\"466.455078\" xlink:href=\"#DejaVuSans-74\"/>\r\n       <use x=\"505.664062\" xlink:href=\"#DejaVuSans-69\"/>\r\n       <use x=\"533.447266\" xlink:href=\"#DejaVuSans-6e\"/>\r\n       <use x=\"596.826172\" xlink:href=\"#DejaVuSans-67\"/>\r\n      </g>\r\n     </g>\r\n    </g>\r\n    <g id=\"xtick_3\">\r\n     <g id=\"line2d_3\">\r\n      <g>\r\n       <use style=\"stroke:#000000;stroke-width:0.8;\" x=\"234.1075\" xlink:href=\"#mae0c6e3b1d\" y=\"239.758125\"/>\r\n      </g>\r\n     </g>\r\n     <g id=\"text_3\">\r\n      <!-- number_of_votes -->\r\n      <g transform=\"translate(236.727813 332.745625)rotate(-90)scale(0.1 -0.1)\">\r\n       <defs>\r\n        <path d=\"M 544 1381 \r\nL 544 3500 \r\nL 1119 3500 \r\nL 1119 1403 \r\nQ 1119 906 1312 657 \r\nQ 1506 409 1894 409 \r\nQ 2359 409 2629 706 \r\nQ 2900 1003 2900 1516 \r\nL 2900 3500 \r\nL 3475 3500 \r\nL 3475 0 \r\nL 2900 0 \r\nL 2900 538 \r\nQ 2691 219 2414 64 \r\nQ 2138 -91 1772 -91 \r\nQ 1169 -91 856 284 \r\nQ 544 659 544 1381 \r\nz\r\nM 1991 3584 \r\nL 1991 3584 \r\nz\r\n\" id=\"DejaVuSans-75\" transform=\"scale(0.015625)\"/>\r\n        <path d=\"M 3328 2828 \r\nQ 3544 3216 3844 3400 \r\nQ 4144 3584 4550 3584 \r\nQ 5097 3584 5394 3201 \r\nQ 5691 2819 5691 2113 \r\nL 5691 0 \r\nL 5113 0 \r\nL 5113 2094 \r\nQ 5113 2597 4934 2840 \r\nQ 4756 3084 4391 3084 \r\nQ 3944 3084 3684 2787 \r\nQ 3425 2491 3425 1978 \r\nL 3425 0 \r\nL 2847 0 \r\nL 2847 2094 \r\nQ 2847 2600 2669 2842 \r\nQ 2491 3084 2119 3084 \r\nQ 1678 3084 1418 2786 \r\nQ 1159 2488 1159 1978 \r\nL 1159 0 \r\nL 581 0 \r\nL 581 3500 \r\nL 1159 3500 \r\nL 1159 2956 \r\nQ 1356 3278 1631 3431 \r\nQ 1906 3584 2284 3584 \r\nQ 2666 3584 2933 3390 \r\nQ 3200 3197 3328 2828 \r\nz\r\n\" id=\"DejaVuSans-6d\" transform=\"scale(0.015625)\"/>\r\n        <path d=\"M 3116 1747 \r\nQ 3116 2381 2855 2742 \r\nQ 2594 3103 2138 3103 \r\nQ 1681 3103 1420 2742 \r\nQ 1159 2381 1159 1747 \r\nQ 1159 1113 1420 752 \r\nQ 1681 391 2138 391 \r\nQ 2594 391 2855 752 \r\nQ 3116 1113 3116 1747 \r\nz\r\nM 1159 2969 \r\nQ 1341 3281 1617 3432 \r\nQ 1894 3584 2278 3584 \r\nQ 2916 3584 3314 3078 \r\nQ 3713 2572 3713 1747 \r\nQ 3713 922 3314 415 \r\nQ 2916 -91 2278 -91 \r\nQ 1894 -91 1617 61 \r\nQ 1341 213 1159 525 \r\nL 1159 0 \r\nL 581 0 \r\nL 581 4863 \r\nL 1159 4863 \r\nL 1159 2969 \r\nz\r\n\" id=\"DejaVuSans-62\" transform=\"scale(0.015625)\"/>\r\n        <path d=\"M 1959 3097 \r\nQ 1497 3097 1228 2736 \r\nQ 959 2375 959 1747 \r\nQ 959 1119 1226 758 \r\nQ 1494 397 1959 397 \r\nQ 2419 397 2687 759 \r\nQ 2956 1122 2956 1747 \r\nQ 2956 2369 2687 2733 \r\nQ 2419 3097 1959 3097 \r\nz\r\nM 1959 3584 \r\nQ 2709 3584 3137 3096 \r\nQ 3566 2609 3566 1747 \r\nQ 3566 888 3137 398 \r\nQ 2709 -91 1959 -91 \r\nQ 1206 -91 779 398 \r\nQ 353 888 353 1747 \r\nQ 353 2609 779 3096 \r\nQ 1206 3584 1959 3584 \r\nz\r\n\" id=\"DejaVuSans-6f\" transform=\"scale(0.015625)\"/>\r\n        <path d=\"M 191 3500 \r\nL 800 3500 \r\nL 1894 563 \r\nL 2988 3500 \r\nL 3597 3500 \r\nL 2284 0 \r\nL 1503 0 \r\nL 191 3500 \r\nz\r\n\" id=\"DejaVuSans-76\" transform=\"scale(0.015625)\"/>\r\n        <path d=\"M 2834 3397 \r\nL 2834 2853 \r\nQ 2591 2978 2328 3040 \r\nQ 2066 3103 1784 3103 \r\nQ 1356 3103 1142 2972 \r\nQ 928 2841 928 2578 \r\nQ 928 2378 1081 2264 \r\nQ 1234 2150 1697 2047 \r\nL 1894 2003 \r\nQ 2506 1872 2764 1633 \r\nQ 3022 1394 3022 966 \r\nQ 3022 478 2636 193 \r\nQ 2250 -91 1575 -91 \r\nQ 1294 -91 989 -36 \r\nQ 684 19 347 128 \r\nL 347 722 \r\nQ 666 556 975 473 \r\nQ 1284 391 1588 391 \r\nQ 1994 391 2212 530 \r\nQ 2431 669 2431 922 \r\nQ 2431 1156 2273 1281 \r\nQ 2116 1406 1581 1522 \r\nL 1381 1569 \r\nQ 847 1681 609 1914 \r\nQ 372 2147 372 2553 \r\nQ 372 3047 722 3315 \r\nQ 1072 3584 1716 3584 \r\nQ 2034 3584 2315 3537 \r\nQ 2597 3491 2834 3397 \r\nz\r\n\" id=\"DejaVuSans-73\" transform=\"scale(0.015625)\"/>\r\n       </defs>\r\n       <use xlink:href=\"#DejaVuSans-6e\"/>\r\n       <use x=\"63.378906\" xlink:href=\"#DejaVuSans-75\"/>\r\n       <use x=\"126.757812\" xlink:href=\"#DejaVuSans-6d\"/>\r\n       <use x=\"224.169922\" xlink:href=\"#DejaVuSans-62\"/>\r\n       <use x=\"287.646484\" xlink:href=\"#DejaVuSans-65\"/>\r\n       <use x=\"349.169922\" xlink:href=\"#DejaVuSans-72\"/>\r\n       <use x=\"390.283203\" xlink:href=\"#DejaVuSans-5f\"/>\r\n       <use x=\"440.283203\" xlink:href=\"#DejaVuSans-6f\"/>\r\n       <use x=\"501.464844\" xlink:href=\"#DejaVuSans-66\"/>\r\n       <use x=\"536.669922\" xlink:href=\"#DejaVuSans-5f\"/>\r\n       <use x=\"586.669922\" xlink:href=\"#DejaVuSans-76\"/>\r\n       <use x=\"645.849609\" xlink:href=\"#DejaVuSans-6f\"/>\r\n       <use x=\"707.03125\" xlink:href=\"#DejaVuSans-74\"/>\r\n       <use x=\"746.240234\" xlink:href=\"#DejaVuSans-65\"/>\r\n       <use x=\"807.763672\" xlink:href=\"#DejaVuSans-73\"/>\r\n      </g>\r\n     </g>\r\n    </g>\r\n    <g id=\"xtick_4\">\r\n     <g id=\"line2d_4\">\r\n      <g>\r\n       <use style=\"stroke:#000000;stroke-width:0.8;\" x=\"287.6755\" xlink:href=\"#mae0c6e3b1d\" y=\"239.758125\"/>\r\n      </g>\r\n     </g>\r\n     <g id=\"text_4\">\r\n      <!-- imdbRating -->\r\n      <g transform=\"translate(290.434875 304.209687)rotate(-90)scale(0.1 -0.1)\">\r\n       <defs>\r\n        <path d=\"M 2841 2188 \r\nQ 3044 2119 3236 1894 \r\nQ 3428 1669 3622 1275 \r\nL 4263 0 \r\nL 3584 0 \r\nL 2988 1197 \r\nQ 2756 1666 2539 1819 \r\nQ 2322 1972 1947 1972 \r\nL 1259 1972 \r\nL 1259 0 \r\nL 628 0 \r\nL 628 4666 \r\nL 2053 4666 \r\nQ 2853 4666 3247 4331 \r\nQ 3641 3997 3641 3322 \r\nQ 3641 2881 3436 2590 \r\nQ 3231 2300 2841 2188 \r\nz\r\nM 1259 4147 \r\nL 1259 2491 \r\nL 2053 2491 \r\nQ 2509 2491 2742 2702 \r\nQ 2975 2913 2975 3322 \r\nQ 2975 3731 2742 3939 \r\nQ 2509 4147 2053 4147 \r\nL 1259 4147 \r\nz\r\n\" id=\"DejaVuSans-52\" transform=\"scale(0.015625)\"/>\r\n       </defs>\r\n       <use xlink:href=\"#DejaVuSans-69\"/>\r\n       <use x=\"27.783203\" xlink:href=\"#DejaVuSans-6d\"/>\r\n       <use x=\"125.195312\" xlink:href=\"#DejaVuSans-64\"/>\r\n       <use x=\"188.671875\" xlink:href=\"#DejaVuSans-62\"/>\r\n       <use x=\"252.148438\" xlink:href=\"#DejaVuSans-52\"/>\r\n       <use x=\"319.380859\" xlink:href=\"#DejaVuSans-61\"/>\r\n       <use x=\"380.660156\" xlink:href=\"#DejaVuSans-74\"/>\r\n       <use x=\"419.869141\" xlink:href=\"#DejaVuSans-69\"/>\r\n       <use x=\"447.652344\" xlink:href=\"#DejaVuSans-6e\"/>\r\n       <use x=\"511.03125\" xlink:href=\"#DejaVuSans-67\"/>\r\n      </g>\r\n     </g>\r\n    </g>\r\n    <g id=\"xtick_5\">\r\n     <g id=\"line2d_5\">\r\n      <g>\r\n       <use style=\"stroke:#000000;stroke-width:0.8;\" x=\"341.2435\" xlink:href=\"#mae0c6e3b1d\" y=\"239.758125\"/>\r\n      </g>\r\n     </g>\r\n     <g id=\"text_5\">\r\n      <!-- Metascore -->\r\n      <g transform=\"translate(344.002875 298.453438)rotate(-90)scale(0.1 -0.1)\">\r\n       <defs>\r\n        <path d=\"M 628 4666 \r\nL 1569 4666 \r\nL 2759 1491 \r\nL 3956 4666 \r\nL 4897 4666 \r\nL 4897 0 \r\nL 4281 0 \r\nL 4281 4097 \r\nL 3078 897 \r\nL 2444 897 \r\nL 1241 4097 \r\nL 1241 0 \r\nL 628 0 \r\nL 628 4666 \r\nz\r\n\" id=\"DejaVuSans-4d\" transform=\"scale(0.015625)\"/>\r\n        <path d=\"M 3122 3366 \r\nL 3122 2828 \r\nQ 2878 2963 2633 3030 \r\nQ 2388 3097 2138 3097 \r\nQ 1578 3097 1268 2742 \r\nQ 959 2388 959 1747 \r\nQ 959 1106 1268 751 \r\nQ 1578 397 2138 397 \r\nQ 2388 397 2633 464 \r\nQ 2878 531 3122 666 \r\nL 3122 134 \r\nQ 2881 22 2623 -34 \r\nQ 2366 -91 2075 -91 \r\nQ 1284 -91 818 406 \r\nQ 353 903 353 1747 \r\nQ 353 2603 823 3093 \r\nQ 1294 3584 2113 3584 \r\nQ 2378 3584 2631 3529 \r\nQ 2884 3475 3122 3366 \r\nz\r\n\" id=\"DejaVuSans-63\" transform=\"scale(0.015625)\"/>\r\n       </defs>\r\n       <use xlink:href=\"#DejaVuSans-4d\"/>\r\n       <use x=\"86.279297\" xlink:href=\"#DejaVuSans-65\"/>\r\n       <use x=\"147.802734\" xlink:href=\"#DejaVuSans-74\"/>\r\n       <use x=\"187.011719\" xlink:href=\"#DejaVuSans-61\"/>\r\n       <use x=\"248.291016\" xlink:href=\"#DejaVuSans-73\"/>\r\n       <use x=\"300.390625\" xlink:href=\"#DejaVuSans-63\"/>\r\n       <use x=\"355.371094\" xlink:href=\"#DejaVuSans-6f\"/>\r\n       <use x=\"416.552734\" xlink:href=\"#DejaVuSans-72\"/>\r\n       <use x=\"455.416016\" xlink:href=\"#DejaVuSans-65\"/>\r\n      </g>\r\n     </g>\r\n    </g>\r\n   </g>\r\n   <g id=\"matplotlib.axis_2\">\r\n    <g id=\"ytick_1\">\r\n     <g id=\"line2d_6\">\r\n      <defs>\r\n       <path d=\"M 0 0 \r\nL -3.5 0 \r\n\" id=\"m5c7e19345d\" style=\"stroke:#000000;stroke-width:0.8;\"/>\r\n      </defs>\r\n      <g>\r\n       <use style=\"stroke:#000000;stroke-width:0.8;\" x=\"100.1875\" xlink:href=\"#m5c7e19345d\" y=\"44.062125\"/>\r\n      </g>\r\n     </g>\r\n     <g id=\"text_6\">\r\n      <!-- netflix_id -->\r\n      <g transform=\"translate(47.654687 47.861344)scale(0.1 -0.1)\">\r\n       <use xlink:href=\"#DejaVuSans-6e\"/>\r\n       <use x=\"63.378906\" xlink:href=\"#DejaVuSans-65\"/>\r\n       <use x=\"124.902344\" xlink:href=\"#DejaVuSans-74\"/>\r\n       <use x=\"164.111328\" xlink:href=\"#DejaVuSans-66\"/>\r\n       <use x=\"199.316406\" xlink:href=\"#DejaVuSans-6c\"/>\r\n       <use x=\"227.099609\" xlink:href=\"#DejaVuSans-69\"/>\r\n       <use x=\"254.882812\" xlink:href=\"#DejaVuSans-78\"/>\r\n       <use x=\"314.0625\" xlink:href=\"#DejaVuSans-5f\"/>\r\n       <use x=\"364.0625\" xlink:href=\"#DejaVuSans-69\"/>\r\n       <use x=\"391.845703\" xlink:href=\"#DejaVuSans-64\"/>\r\n      </g>\r\n     </g>\r\n    </g>\r\n    <g id=\"ytick_2\">\r\n     <g id=\"line2d_7\">\r\n      <g>\r\n       <use style=\"stroke:#000000;stroke-width:0.8;\" x=\"100.1875\" xlink:href=\"#m5c7e19345d\" y=\"87.550125\"/>\r\n      </g>\r\n     </g>\r\n     <g id=\"text_7\">\r\n      <!-- netflix_rating -->\r\n      <g transform=\"translate(27.157812 91.349344)scale(0.1 -0.1)\">\r\n       <use xlink:href=\"#DejaVuSans-6e\"/>\r\n       <use x=\"63.378906\" xlink:href=\"#DejaVuSans-65\"/>\r\n       <use x=\"124.902344\" xlink:href=\"#DejaVuSans-74\"/>\r\n       <use x=\"164.111328\" xlink:href=\"#DejaVuSans-66\"/>\r\n       <use x=\"199.316406\" xlink:href=\"#DejaVuSans-6c\"/>\r\n       <use x=\"227.099609\" xlink:href=\"#DejaVuSans-69\"/>\r\n       <use x=\"254.882812\" xlink:href=\"#DejaVuSans-78\"/>\r\n       <use x=\"314.0625\" xlink:href=\"#DejaVuSans-5f\"/>\r\n       <use x=\"364.0625\" xlink:href=\"#DejaVuSans-72\"/>\r\n       <use x=\"405.175781\" xlink:href=\"#DejaVuSans-61\"/>\r\n       <use x=\"466.455078\" xlink:href=\"#DejaVuSans-74\"/>\r\n       <use x=\"505.664062\" xlink:href=\"#DejaVuSans-69\"/>\r\n       <use x=\"533.447266\" xlink:href=\"#DejaVuSans-6e\"/>\r\n       <use x=\"596.826172\" xlink:href=\"#DejaVuSans-67\"/>\r\n      </g>\r\n     </g>\r\n    </g>\r\n    <g id=\"ytick_3\">\r\n     <g id=\"line2d_8\">\r\n      <g>\r\n       <use style=\"stroke:#000000;stroke-width:0.8;\" x=\"100.1875\" xlink:href=\"#m5c7e19345d\" y=\"131.038125\"/>\r\n      </g>\r\n     </g>\r\n     <g id=\"text_8\">\r\n      <!-- number_of_votes -->\r\n      <g transform=\"translate(7.2 134.837344)scale(0.1 -0.1)\">\r\n       <use xlink:href=\"#DejaVuSans-6e\"/>\r\n       <use x=\"63.378906\" xlink:href=\"#DejaVuSans-75\"/>\r\n       <use x=\"126.757812\" xlink:href=\"#DejaVuSans-6d\"/>\r\n       <use x=\"224.169922\" xlink:href=\"#DejaVuSans-62\"/>\r\n       <use x=\"287.646484\" xlink:href=\"#DejaVuSans-65\"/>\r\n       <use x=\"349.169922\" xlink:href=\"#DejaVuSans-72\"/>\r\n       <use x=\"390.283203\" xlink:href=\"#DejaVuSans-5f\"/>\r\n       <use x=\"440.283203\" xlink:href=\"#DejaVuSans-6f\"/>\r\n       <use x=\"501.464844\" xlink:href=\"#DejaVuSans-66\"/>\r\n       <use x=\"536.669922\" xlink:href=\"#DejaVuSans-5f\"/>\r\n       <use x=\"586.669922\" xlink:href=\"#DejaVuSans-76\"/>\r\n       <use x=\"645.849609\" xlink:href=\"#DejaVuSans-6f\"/>\r\n       <use x=\"707.03125\" xlink:href=\"#DejaVuSans-74\"/>\r\n       <use x=\"746.240234\" xlink:href=\"#DejaVuSans-65\"/>\r\n       <use x=\"807.763672\" xlink:href=\"#DejaVuSans-73\"/>\r\n      </g>\r\n     </g>\r\n    </g>\r\n    <g id=\"ytick_4\">\r\n     <g id=\"line2d_9\">\r\n      <g>\r\n       <use style=\"stroke:#000000;stroke-width:0.8;\" x=\"100.1875\" xlink:href=\"#m5c7e19345d\" y=\"174.526125\"/>\r\n      </g>\r\n     </g>\r\n     <g id=\"text_9\">\r\n      <!-- imdbRating -->\r\n      <g transform=\"translate(35.735937 178.325344)scale(0.1 -0.1)\">\r\n       <use xlink:href=\"#DejaVuSans-69\"/>\r\n       <use x=\"27.783203\" xlink:href=\"#DejaVuSans-6d\"/>\r\n       <use x=\"125.195312\" xlink:href=\"#DejaVuSans-64\"/>\r\n       <use x=\"188.671875\" xlink:href=\"#DejaVuSans-62\"/>\r\n       <use x=\"252.148438\" xlink:href=\"#DejaVuSans-52\"/>\r\n       <use x=\"319.380859\" xlink:href=\"#DejaVuSans-61\"/>\r\n       <use x=\"380.660156\" xlink:href=\"#DejaVuSans-74\"/>\r\n       <use x=\"419.869141\" xlink:href=\"#DejaVuSans-69\"/>\r\n       <use x=\"447.652344\" xlink:href=\"#DejaVuSans-6e\"/>\r\n       <use x=\"511.03125\" xlink:href=\"#DejaVuSans-67\"/>\r\n      </g>\r\n     </g>\r\n    </g>\r\n    <g id=\"ytick_5\">\r\n     <g id=\"line2d_10\">\r\n      <g>\r\n       <use style=\"stroke:#000000;stroke-width:0.8;\" x=\"100.1875\" xlink:href=\"#m5c7e19345d\" y=\"218.014125\"/>\r\n      </g>\r\n     </g>\r\n     <g id=\"text_10\">\r\n      <!-- Metascore -->\r\n      <g transform=\"translate(41.492188 221.813344)scale(0.1 -0.1)\">\r\n       <use xlink:href=\"#DejaVuSans-4d\"/>\r\n       <use x=\"86.279297\" xlink:href=\"#DejaVuSans-65\"/>\r\n       <use x=\"147.802734\" xlink:href=\"#DejaVuSans-74\"/>\r\n       <use x=\"187.011719\" xlink:href=\"#DejaVuSans-61\"/>\r\n       <use x=\"248.291016\" xlink:href=\"#DejaVuSans-73\"/>\r\n       <use x=\"300.390625\" xlink:href=\"#DejaVuSans-63\"/>\r\n       <use x=\"355.371094\" xlink:href=\"#DejaVuSans-6f\"/>\r\n       <use x=\"416.552734\" xlink:href=\"#DejaVuSans-72\"/>\r\n       <use x=\"455.416016\" xlink:href=\"#DejaVuSans-65\"/>\r\n      </g>\r\n     </g>\r\n    </g>\r\n   </g>\r\n   <g id=\"text_11\">\r\n    <!-- 1 -->\r\n    <g style=\"fill:#262626;\" transform=\"translate(123.79025 46.8215)scale(0.1 -0.1)\">\r\n     <defs>\r\n      <path d=\"M 794 531 \r\nL 1825 531 \r\nL 1825 4091 \r\nL 703 3866 \r\nL 703 4441 \r\nL 1819 4666 \r\nL 2450 4666 \r\nL 2450 531 \r\nL 3481 531 \r\nL 3481 0 \r\nL 794 0 \r\nL 794 531 \r\nz\r\n\" id=\"DejaVuSans-31\" transform=\"scale(0.015625)\"/>\r\n     </defs>\r\n     <use xlink:href=\"#DejaVuSans-31\"/>\r\n    </g>\r\n   </g>\r\n   <g id=\"text_12\">\r\n    <!-- 0.02 -->\r\n    <g style=\"fill:#ffffff;\" transform=\"translate(169.406688 46.8215)scale(0.1 -0.1)\">\r\n     <defs>\r\n      <path d=\"M 2034 4250 \r\nQ 1547 4250 1301 3770 \r\nQ 1056 3291 1056 2328 \r\nQ 1056 1369 1301 889 \r\nQ 1547 409 2034 409 \r\nQ 2525 409 2770 889 \r\nQ 3016 1369 3016 2328 \r\nQ 3016 3291 2770 3770 \r\nQ 2525 4250 2034 4250 \r\nz\r\nM 2034 4750 \r\nQ 2819 4750 3233 4129 \r\nQ 3647 3509 3647 2328 \r\nQ 3647 1150 3233 529 \r\nQ 2819 -91 2034 -91 \r\nQ 1250 -91 836 529 \r\nQ 422 1150 422 2328 \r\nQ 422 3509 836 4129 \r\nQ 1250 4750 2034 4750 \r\nz\r\n\" id=\"DejaVuSans-30\" transform=\"scale(0.015625)\"/>\r\n      <path d=\"M 684 794 \r\nL 1344 794 \r\nL 1344 0 \r\nL 684 0 \r\nL 684 794 \r\nz\r\n\" id=\"DejaVuSans-2e\" transform=\"scale(0.015625)\"/>\r\n      <path d=\"M 1228 531 \r\nL 3431 531 \r\nL 3431 0 \r\nL 469 0 \r\nL 469 531 \r\nQ 828 903 1448 1529 \r\nQ 2069 2156 2228 2338 \r\nQ 2531 2678 2651 2914 \r\nQ 2772 3150 2772 3378 \r\nQ 2772 3750 2511 3984 \r\nQ 2250 4219 1831 4219 \r\nQ 1534 4219 1204 4116 \r\nQ 875 4013 500 3803 \r\nL 500 4441 \r\nQ 881 4594 1212 4672 \r\nQ 1544 4750 1819 4750 \r\nQ 2544 4750 2975 4387 \r\nQ 3406 4025 3406 3419 \r\nQ 3406 3131 3298 2873 \r\nQ 3191 2616 2906 2266 \r\nQ 2828 2175 2409 1742 \r\nQ 1991 1309 1228 531 \r\nz\r\n\" id=\"DejaVuSans-32\" transform=\"scale(0.015625)\"/>\r\n     </defs>\r\n     <use xlink:href=\"#DejaVuSans-30\"/>\r\n     <use x=\"63.623047\" xlink:href=\"#DejaVuSans-2e\"/>\r\n     <use x=\"95.410156\" xlink:href=\"#DejaVuSans-30\"/>\r\n     <use x=\"159.033203\" xlink:href=\"#DejaVuSans-32\"/>\r\n    </g>\r\n   </g>\r\n   <g id=\"text_13\">\r\n    <!-- 0.013 -->\r\n    <g style=\"fill:#ffffff;\" transform=\"translate(219.793438 46.8215)scale(0.1 -0.1)\">\r\n     <defs>\r\n      <path d=\"M 2597 2516 \r\nQ 3050 2419 3304 2112 \r\nQ 3559 1806 3559 1356 \r\nQ 3559 666 3084 287 \r\nQ 2609 -91 1734 -91 \r\nQ 1441 -91 1130 -33 \r\nQ 819 25 488 141 \r\nL 488 750 \r\nQ 750 597 1062 519 \r\nQ 1375 441 1716 441 \r\nQ 2309 441 2620 675 \r\nQ 2931 909 2931 1356 \r\nQ 2931 1769 2642 2001 \r\nQ 2353 2234 1838 2234 \r\nL 1294 2234 \r\nL 1294 2753 \r\nL 1863 2753 \r\nQ 2328 2753 2575 2939 \r\nQ 2822 3125 2822 3475 \r\nQ 2822 3834 2567 4026 \r\nQ 2313 4219 1838 4219 \r\nQ 1578 4219 1281 4162 \r\nQ 984 4106 628 3988 \r\nL 628 4550 \r\nQ 988 4650 1302 4700 \r\nQ 1616 4750 1894 4750 \r\nQ 2613 4750 3031 4423 \r\nQ 3450 4097 3450 3541 \r\nQ 3450 3153 3228 2886 \r\nQ 3006 2619 2597 2516 \r\nz\r\n\" id=\"DejaVuSans-33\" transform=\"scale(0.015625)\"/>\r\n     </defs>\r\n     <use xlink:href=\"#DejaVuSans-30\"/>\r\n     <use x=\"63.623047\" xlink:href=\"#DejaVuSans-2e\"/>\r\n     <use x=\"95.410156\" xlink:href=\"#DejaVuSans-30\"/>\r\n     <use x=\"159.033203\" xlink:href=\"#DejaVuSans-31\"/>\r\n     <use x=\"222.65625\" xlink:href=\"#DejaVuSans-33\"/>\r\n    </g>\r\n   </g>\r\n   <g id=\"text_14\">\r\n    <!-- 0.011 -->\r\n    <g style=\"fill:#ffffff;\" transform=\"translate(273.361438 46.8215)scale(0.1 -0.1)\">\r\n     <use xlink:href=\"#DejaVuSans-30\"/>\r\n     <use x=\"63.623047\" xlink:href=\"#DejaVuSans-2e\"/>\r\n     <use x=\"95.410156\" xlink:href=\"#DejaVuSans-30\"/>\r\n     <use x=\"159.033203\" xlink:href=\"#DejaVuSans-31\"/>\r\n     <use x=\"222.65625\" xlink:href=\"#DejaVuSans-31\"/>\r\n    </g>\r\n   </g>\r\n   <g id=\"text_15\">\r\n    <!-- 0.063 -->\r\n    <g style=\"fill:#ffffff;\" transform=\"translate(326.929438 46.8215)scale(0.1 -0.1)\">\r\n     <defs>\r\n      <path d=\"M 2113 2584 \r\nQ 1688 2584 1439 2293 \r\nQ 1191 2003 1191 1497 \r\nQ 1191 994 1439 701 \r\nQ 1688 409 2113 409 \r\nQ 2538 409 2786 701 \r\nQ 3034 994 3034 1497 \r\nQ 3034 2003 2786 2293 \r\nQ 2538 2584 2113 2584 \r\nz\r\nM 3366 4563 \r\nL 3366 3988 \r\nQ 3128 4100 2886 4159 \r\nQ 2644 4219 2406 4219 \r\nQ 1781 4219 1451 3797 \r\nQ 1122 3375 1075 2522 \r\nQ 1259 2794 1537 2939 \r\nQ 1816 3084 2150 3084 \r\nQ 2853 3084 3261 2657 \r\nQ 3669 2231 3669 1497 \r\nQ 3669 778 3244 343 \r\nQ 2819 -91 2113 -91 \r\nQ 1303 -91 875 529 \r\nQ 447 1150 447 2328 \r\nQ 447 3434 972 4092 \r\nQ 1497 4750 2381 4750 \r\nQ 2619 4750 2861 4703 \r\nQ 3103 4656 3366 4563 \r\nz\r\n\" id=\"DejaVuSans-36\" transform=\"scale(0.015625)\"/>\r\n     </defs>\r\n     <use xlink:href=\"#DejaVuSans-30\"/>\r\n     <use x=\"63.623047\" xlink:href=\"#DejaVuSans-2e\"/>\r\n     <use x=\"95.410156\" xlink:href=\"#DejaVuSans-30\"/>\r\n     <use x=\"159.033203\" xlink:href=\"#DejaVuSans-36\"/>\r\n     <use x=\"222.65625\" xlink:href=\"#DejaVuSans-33\"/>\r\n    </g>\r\n   </g>\r\n   <g id=\"text_16\">\r\n    <!-- 0.02 -->\r\n    <g style=\"fill:#ffffff;\" transform=\"translate(115.838688 90.3095)scale(0.1 -0.1)\">\r\n     <use xlink:href=\"#DejaVuSans-30\"/>\r\n     <use x=\"63.623047\" xlink:href=\"#DejaVuSans-2e\"/>\r\n     <use x=\"95.410156\" xlink:href=\"#DejaVuSans-30\"/>\r\n     <use x=\"159.033203\" xlink:href=\"#DejaVuSans-32\"/>\r\n    </g>\r\n   </g>\r\n   <g id=\"text_17\">\r\n    <!-- 1 -->\r\n    <g style=\"fill:#262626;\" transform=\"translate(177.35825 90.3095)scale(0.1 -0.1)\">\r\n     <use xlink:href=\"#DejaVuSans-31\"/>\r\n    </g>\r\n   </g>\r\n   <g id=\"text_18\">\r\n    <!-- 0.32 -->\r\n    <g style=\"fill:#ffffff;\" transform=\"translate(222.974688 90.3095)scale(0.1 -0.1)\">\r\n     <use xlink:href=\"#DejaVuSans-30\"/>\r\n     <use x=\"63.623047\" xlink:href=\"#DejaVuSans-2e\"/>\r\n     <use x=\"95.410156\" xlink:href=\"#DejaVuSans-33\"/>\r\n     <use x=\"159.033203\" xlink:href=\"#DejaVuSans-32\"/>\r\n    </g>\r\n   </g>\r\n   <g id=\"text_19\">\r\n    <!-- 0.69 -->\r\n    <g style=\"fill:#ffffff;\" transform=\"translate(276.542688 90.3095)scale(0.1 -0.1)\">\r\n     <defs>\r\n      <path d=\"M 703 97 \r\nL 703 672 \r\nQ 941 559 1184 500 \r\nQ 1428 441 1663 441 \r\nQ 2288 441 2617 861 \r\nQ 2947 1281 2994 2138 \r\nQ 2813 1869 2534 1725 \r\nQ 2256 1581 1919 1581 \r\nQ 1219 1581 811 2004 \r\nQ 403 2428 403 3163 \r\nQ 403 3881 828 4315 \r\nQ 1253 4750 1959 4750 \r\nQ 2769 4750 3195 4129 \r\nQ 3622 3509 3622 2328 \r\nQ 3622 1225 3098 567 \r\nQ 2575 -91 1691 -91 \r\nQ 1453 -91 1209 -44 \r\nQ 966 3 703 97 \r\nz\r\nM 1959 2075 \r\nQ 2384 2075 2632 2365 \r\nQ 2881 2656 2881 3163 \r\nQ 2881 3666 2632 3958 \r\nQ 2384 4250 1959 4250 \r\nQ 1534 4250 1286 3958 \r\nQ 1038 3666 1038 3163 \r\nQ 1038 2656 1286 2365 \r\nQ 1534 2075 1959 2075 \r\nz\r\n\" id=\"DejaVuSans-39\" transform=\"scale(0.015625)\"/>\r\n     </defs>\r\n     <use xlink:href=\"#DejaVuSans-30\"/>\r\n     <use x=\"63.623047\" xlink:href=\"#DejaVuSans-2e\"/>\r\n     <use x=\"95.410156\" xlink:href=\"#DejaVuSans-36\"/>\r\n     <use x=\"159.033203\" xlink:href=\"#DejaVuSans-39\"/>\r\n    </g>\r\n   </g>\r\n   <g id=\"text_20\">\r\n    <!-- 0.49 -->\r\n    <g style=\"fill:#ffffff;\" transform=\"translate(330.110688 90.3095)scale(0.1 -0.1)\">\r\n     <defs>\r\n      <path d=\"M 2419 4116 \r\nL 825 1625 \r\nL 2419 1625 \r\nL 2419 4116 \r\nz\r\nM 2253 4666 \r\nL 3047 4666 \r\nL 3047 1625 \r\nL 3713 1625 \r\nL 3713 1100 \r\nL 3047 1100 \r\nL 3047 0 \r\nL 2419 0 \r\nL 2419 1100 \r\nL 313 1100 \r\nL 313 1709 \r\nL 2253 4666 \r\nz\r\n\" id=\"DejaVuSans-34\" transform=\"scale(0.015625)\"/>\r\n     </defs>\r\n     <use xlink:href=\"#DejaVuSans-30\"/>\r\n     <use x=\"63.623047\" xlink:href=\"#DejaVuSans-2e\"/>\r\n     <use x=\"95.410156\" xlink:href=\"#DejaVuSans-34\"/>\r\n     <use x=\"159.033203\" xlink:href=\"#DejaVuSans-39\"/>\r\n    </g>\r\n   </g>\r\n   <g id=\"text_21\">\r\n    <!-- 0.013 -->\r\n    <g style=\"fill:#ffffff;\" transform=\"translate(112.657438 133.7975)scale(0.1 -0.1)\">\r\n     <use xlink:href=\"#DejaVuSans-30\"/>\r\n     <use x=\"63.623047\" xlink:href=\"#DejaVuSans-2e\"/>\r\n     <use x=\"95.410156\" xlink:href=\"#DejaVuSans-30\"/>\r\n     <use x=\"159.033203\" xlink:href=\"#DejaVuSans-31\"/>\r\n     <use x=\"222.65625\" xlink:href=\"#DejaVuSans-33\"/>\r\n    </g>\r\n   </g>\r\n   <g id=\"text_22\">\r\n    <!-- 0.32 -->\r\n    <g style=\"fill:#ffffff;\" transform=\"translate(169.406688 133.7975)scale(0.1 -0.1)\">\r\n     <use xlink:href=\"#DejaVuSans-30\"/>\r\n     <use x=\"63.623047\" xlink:href=\"#DejaVuSans-2e\"/>\r\n     <use x=\"95.410156\" xlink:href=\"#DejaVuSans-33\"/>\r\n     <use x=\"159.033203\" xlink:href=\"#DejaVuSans-32\"/>\r\n    </g>\r\n   </g>\r\n   <g id=\"text_23\">\r\n    <!-- 1 -->\r\n    <g style=\"fill:#262626;\" transform=\"translate(230.92625 133.7975)scale(0.1 -0.1)\">\r\n     <use xlink:href=\"#DejaVuSans-31\"/>\r\n    </g>\r\n   </g>\r\n   <g id=\"text_24\">\r\n    <!-- 0.18 -->\r\n    <g style=\"fill:#ffffff;\" transform=\"translate(276.542688 133.7975)scale(0.1 -0.1)\">\r\n     <defs>\r\n      <path d=\"M 2034 2216 \r\nQ 1584 2216 1326 1975 \r\nQ 1069 1734 1069 1313 \r\nQ 1069 891 1326 650 \r\nQ 1584 409 2034 409 \r\nQ 2484 409 2743 651 \r\nQ 3003 894 3003 1313 \r\nQ 3003 1734 2745 1975 \r\nQ 2488 2216 2034 2216 \r\nz\r\nM 1403 2484 \r\nQ 997 2584 770 2862 \r\nQ 544 3141 544 3541 \r\nQ 544 4100 942 4425 \r\nQ 1341 4750 2034 4750 \r\nQ 2731 4750 3128 4425 \r\nQ 3525 4100 3525 3541 \r\nQ 3525 3141 3298 2862 \r\nQ 3072 2584 2669 2484 \r\nQ 3125 2378 3379 2068 \r\nQ 3634 1759 3634 1313 \r\nQ 3634 634 3220 271 \r\nQ 2806 -91 2034 -91 \r\nQ 1263 -91 848 271 \r\nQ 434 634 434 1313 \r\nQ 434 1759 690 2068 \r\nQ 947 2378 1403 2484 \r\nz\r\nM 1172 3481 \r\nQ 1172 3119 1398 2916 \r\nQ 1625 2713 2034 2713 \r\nQ 2441 2713 2670 2916 \r\nQ 2900 3119 2900 3481 \r\nQ 2900 3844 2670 4047 \r\nQ 2441 4250 2034 4250 \r\nQ 1625 4250 1398 4047 \r\nQ 1172 3844 1172 3481 \r\nz\r\n\" id=\"DejaVuSans-38\" transform=\"scale(0.015625)\"/>\r\n     </defs>\r\n     <use xlink:href=\"#DejaVuSans-30\"/>\r\n     <use x=\"63.623047\" xlink:href=\"#DejaVuSans-2e\"/>\r\n     <use x=\"95.410156\" xlink:href=\"#DejaVuSans-31\"/>\r\n     <use x=\"159.033203\" xlink:href=\"#DejaVuSans-38\"/>\r\n    </g>\r\n   </g>\r\n   <g id=\"text_25\">\r\n    <!-- 0.1 -->\r\n    <g style=\"fill:#ffffff;\" transform=\"translate(333.291938 133.7975)scale(0.1 -0.1)\">\r\n     <use xlink:href=\"#DejaVuSans-30\"/>\r\n     <use x=\"63.623047\" xlink:href=\"#DejaVuSans-2e\"/>\r\n     <use x=\"95.410156\" xlink:href=\"#DejaVuSans-31\"/>\r\n    </g>\r\n   </g>\r\n   <g id=\"text_26\">\r\n    <!-- 0.011 -->\r\n    <g style=\"fill:#ffffff;\" transform=\"translate(112.657438 177.2855)scale(0.1 -0.1)\">\r\n     <use xlink:href=\"#DejaVuSans-30\"/>\r\n     <use x=\"63.623047\" xlink:href=\"#DejaVuSans-2e\"/>\r\n     <use x=\"95.410156\" xlink:href=\"#DejaVuSans-30\"/>\r\n     <use x=\"159.033203\" xlink:href=\"#DejaVuSans-31\"/>\r\n     <use x=\"222.65625\" xlink:href=\"#DejaVuSans-31\"/>\r\n    </g>\r\n   </g>\r\n   <g id=\"text_27\">\r\n    <!-- 0.69 -->\r\n    <g style=\"fill:#ffffff;\" transform=\"translate(169.406688 177.2855)scale(0.1 -0.1)\">\r\n     <use xlink:href=\"#DejaVuSans-30\"/>\r\n     <use x=\"63.623047\" xlink:href=\"#DejaVuSans-2e\"/>\r\n     <use x=\"95.410156\" xlink:href=\"#DejaVuSans-36\"/>\r\n     <use x=\"159.033203\" xlink:href=\"#DejaVuSans-39\"/>\r\n    </g>\r\n   </g>\r\n   <g id=\"text_28\">\r\n    <!-- 0.18 -->\r\n    <g style=\"fill:#ffffff;\" transform=\"translate(222.974688 177.2855)scale(0.1 -0.1)\">\r\n     <use xlink:href=\"#DejaVuSans-30\"/>\r\n     <use x=\"63.623047\" xlink:href=\"#DejaVuSans-2e\"/>\r\n     <use x=\"95.410156\" xlink:href=\"#DejaVuSans-31\"/>\r\n     <use x=\"159.033203\" xlink:href=\"#DejaVuSans-38\"/>\r\n    </g>\r\n   </g>\r\n   <g id=\"text_29\">\r\n    <!-- 1 -->\r\n    <g style=\"fill:#262626;\" transform=\"translate(284.49425 177.2855)scale(0.1 -0.1)\">\r\n     <use xlink:href=\"#DejaVuSans-31\"/>\r\n    </g>\r\n   </g>\r\n   <g id=\"text_30\">\r\n    <!-- 0.76 -->\r\n    <g style=\"fill:#ffffff;\" transform=\"translate(330.110688 177.2855)scale(0.1 -0.1)\">\r\n     <defs>\r\n      <path d=\"M 525 4666 \r\nL 3525 4666 \r\nL 3525 4397 \r\nL 1831 0 \r\nL 1172 0 \r\nL 2766 4134 \r\nL 525 4134 \r\nL 525 4666 \r\nz\r\n\" id=\"DejaVuSans-37\" transform=\"scale(0.015625)\"/>\r\n     </defs>\r\n     <use xlink:href=\"#DejaVuSans-30\"/>\r\n     <use x=\"63.623047\" xlink:href=\"#DejaVuSans-2e\"/>\r\n     <use x=\"95.410156\" xlink:href=\"#DejaVuSans-37\"/>\r\n     <use x=\"159.033203\" xlink:href=\"#DejaVuSans-36\"/>\r\n    </g>\r\n   </g>\r\n   <g id=\"text_31\">\r\n    <!-- 0.063 -->\r\n    <g style=\"fill:#ffffff;\" transform=\"translate(112.657438 220.7735)scale(0.1 -0.1)\">\r\n     <use xlink:href=\"#DejaVuSans-30\"/>\r\n     <use x=\"63.623047\" xlink:href=\"#DejaVuSans-2e\"/>\r\n     <use x=\"95.410156\" xlink:href=\"#DejaVuSans-30\"/>\r\n     <use x=\"159.033203\" xlink:href=\"#DejaVuSans-36\"/>\r\n     <use x=\"222.65625\" xlink:href=\"#DejaVuSans-33\"/>\r\n    </g>\r\n   </g>\r\n   <g id=\"text_32\">\r\n    <!-- 0.49 -->\r\n    <g style=\"fill:#ffffff;\" transform=\"translate(169.406688 220.7735)scale(0.1 -0.1)\">\r\n     <use xlink:href=\"#DejaVuSans-30\"/>\r\n     <use x=\"63.623047\" xlink:href=\"#DejaVuSans-2e\"/>\r\n     <use x=\"95.410156\" xlink:href=\"#DejaVuSans-34\"/>\r\n     <use x=\"159.033203\" xlink:href=\"#DejaVuSans-39\"/>\r\n    </g>\r\n   </g>\r\n   <g id=\"text_33\">\r\n    <!-- 0.1 -->\r\n    <g style=\"fill:#ffffff;\" transform=\"translate(226.155938 220.7735)scale(0.1 -0.1)\">\r\n     <use xlink:href=\"#DejaVuSans-30\"/>\r\n     <use x=\"63.623047\" xlink:href=\"#DejaVuSans-2e\"/>\r\n     <use x=\"95.410156\" xlink:href=\"#DejaVuSans-31\"/>\r\n    </g>\r\n   </g>\r\n   <g id=\"text_34\">\r\n    <!-- 0.76 -->\r\n    <g style=\"fill:#ffffff;\" transform=\"translate(276.542688 220.7735)scale(0.1 -0.1)\">\r\n     <use xlink:href=\"#DejaVuSans-30\"/>\r\n     <use x=\"63.623047\" xlink:href=\"#DejaVuSans-2e\"/>\r\n     <use x=\"95.410156\" xlink:href=\"#DejaVuSans-37\"/>\r\n     <use x=\"159.033203\" xlink:href=\"#DejaVuSans-36\"/>\r\n    </g>\r\n   </g>\r\n   <g id=\"text_35\">\r\n    <!-- 1 -->\r\n    <g style=\"fill:#262626;\" transform=\"translate(338.06225 220.7735)scale(0.1 -0.1)\">\r\n     <use xlink:href=\"#DejaVuSans-31\"/>\r\n    </g>\r\n   </g>\r\n   <g id=\"text_36\">\r\n    <!-- base Heatmap -->\r\n    <g transform=\"translate(190.33375 16.318125)scale(0.12 -0.12)\">\r\n     <defs>\r\n      <path id=\"DejaVuSans-20\" transform=\"scale(0.015625)\"/>\r\n      <path d=\"M 628 4666 \r\nL 1259 4666 \r\nL 1259 2753 \r\nL 3553 2753 \r\nL 3553 4666 \r\nL 4184 4666 \r\nL 4184 0 \r\nL 3553 0 \r\nL 3553 2222 \r\nL 1259 2222 \r\nL 1259 0 \r\nL 628 0 \r\nL 628 4666 \r\nz\r\n\" id=\"DejaVuSans-48\" transform=\"scale(0.015625)\"/>\r\n      <path d=\"M 1159 525 \r\nL 1159 -1331 \r\nL 581 -1331 \r\nL 581 3500 \r\nL 1159 3500 \r\nL 1159 2969 \r\nQ 1341 3281 1617 3432 \r\nQ 1894 3584 2278 3584 \r\nQ 2916 3584 3314 3078 \r\nQ 3713 2572 3713 1747 \r\nQ 3713 922 3314 415 \r\nQ 2916 -91 2278 -91 \r\nQ 1894 -91 1617 61 \r\nQ 1341 213 1159 525 \r\nz\r\nM 3116 1747 \r\nQ 3116 2381 2855 2742 \r\nQ 2594 3103 2138 3103 \r\nQ 1681 3103 1420 2742 \r\nQ 1159 2381 1159 1747 \r\nQ 1159 1113 1420 752 \r\nQ 1681 391 2138 391 \r\nQ 2594 391 2855 752 \r\nQ 3116 1113 3116 1747 \r\nz\r\n\" id=\"DejaVuSans-70\" transform=\"scale(0.015625)\"/>\r\n     </defs>\r\n     <use xlink:href=\"#DejaVuSans-62\"/>\r\n     <use x=\"63.476562\" xlink:href=\"#DejaVuSans-61\"/>\r\n     <use x=\"124.755859\" xlink:href=\"#DejaVuSans-73\"/>\r\n     <use x=\"176.855469\" xlink:href=\"#DejaVuSans-65\"/>\r\n     <use x=\"238.378906\" xlink:href=\"#DejaVuSans-20\"/>\r\n     <use x=\"270.166016\" xlink:href=\"#DejaVuSans-48\"/>\r\n     <use x=\"345.361328\" xlink:href=\"#DejaVuSans-65\"/>\r\n     <use x=\"406.884766\" xlink:href=\"#DejaVuSans-61\"/>\r\n     <use x=\"468.164062\" xlink:href=\"#DejaVuSans-74\"/>\r\n     <use x=\"507.373047\" xlink:href=\"#DejaVuSans-6d\"/>\r\n     <use x=\"604.785156\" xlink:href=\"#DejaVuSans-61\"/>\r\n     <use x=\"666.064453\" xlink:href=\"#DejaVuSans-70\"/>\r\n    </g>\r\n   </g>\r\n  </g>\r\n  <g id=\"axes_2\">\r\n   <g id=\"patch_3\">\r\n    <path d=\"M 384.7675 239.758125 \r\nL 395.6395 239.758125 \r\nL 395.6395 22.318125 \r\nL 384.7675 22.318125 \r\nz\r\n\" style=\"fill:#ffffff;\"/>\r\n   </g>\r\n   <g id=\"patch_4\">\r\n    <path clip-path=\"url(#p7440d049a7)\" d=\"M 384.7675 239.758125 \r\nL 384.7675 238.90875 \r\nL 384.7675 23.1675 \r\nL 384.7675 22.318125 \r\nL 395.6395 22.318125 \r\nL 395.6395 23.1675 \r\nL 395.6395 238.90875 \r\nL 395.6395 239.758125 \r\nL 395.6395 239.758125 \r\nz\r\n\" style=\"fill:#ffffff;stroke:#ffffff;stroke-linejoin:miter;stroke-width:0.01;\"/>\r\n   </g>\r\n   <image height=\"218\" id=\"image183d060f60\" transform=\"scale(1 -1)translate(0 -218)\" width=\"11\" x=\"385\" xlink:href=\"data:image/png;base64,\r\niVBORw0KGgoAAAANSUhEUgAAAAsAAADaCAYAAABwzrisAAABZUlEQVR4nN3ay40CMRAE0G7bJEH+cTKk0O9QkoFzqVQ/e3YHer/eTw0/p6fIqjrdc7iBVy8Bi4wiGTGDImMvSCMnw+qOGcxpRmYphdL4xfHHmHf9+/ipbsqZDI6h0W3k0rCJjqHZmz9Xt2mefyznE2zwivFTdFR3bs+56JJ1gwyrOyYDTzcwBw2O/5fwNIg5droJLGmgwZSMYBoC3rEh3ZKGbWOODp5BS+MBzTj+VBpNzHNivutABmoWMPQdjG6vj8gA5tWSs4CJecFGVfMYmzTYZBCu/qjmMVZlkEGJzsC0DZMBzMk0QEbltkHgk2KG92RRZrihT8MTyGSUMOdkNDwJTbMZlFcWORnyZ6CWImB5x2g5i8FLNJd8+WLMm+qOybgkOkkjWIqlIV++BA0K2O46YhbwmT/pk5pzBm38lEZMRi4NMnhHKd2xA3tLGmIwVncw59xJsTReIRn0K4tbhmTb+DmDX11HLCc1FnG4AAAAAElFTkSuQmCC\" y=\"-21\"/>\r\n   <g id=\"matplotlib.axis_3\"/>\r\n   <g id=\"matplotlib.axis_4\">\r\n    <g id=\"ytick_6\">\r\n     <g id=\"line2d_11\">\r\n      <defs>\r\n       <path d=\"M 0 0 \r\nL 3.5 0 \r\n\" id=\"me7e498f89b\" style=\"stroke:#000000;stroke-width:0.8;\"/>\r\n      </defs>\r\n      <g>\r\n       <use style=\"stroke:#000000;stroke-width:0.8;\" x=\"395.6395\" xlink:href=\"#me7e498f89b\" y=\"198.276491\"/>\r\n      </g>\r\n     </g>\r\n     <g id=\"text_37\">\r\n      <!-- 0.2 -->\r\n      <g transform=\"translate(402.6395 202.075709)scale(0.1 -0.1)\">\r\n       <use xlink:href=\"#DejaVuSans-30\"/>\r\n       <use x=\"63.623047\" xlink:href=\"#DejaVuSans-2e\"/>\r\n       <use x=\"95.410156\" xlink:href=\"#DejaVuSans-32\"/>\r\n      </g>\r\n     </g>\r\n    </g>\r\n    <g id=\"ytick_7\">\r\n     <g id=\"line2d_12\">\r\n      <g>\r\n       <use style=\"stroke:#000000;stroke-width:0.8;\" x=\"395.6395\" xlink:href=\"#me7e498f89b\" y=\"154.286899\"/>\r\n      </g>\r\n     </g>\r\n     <g id=\"text_38\">\r\n      <!-- 0.4 -->\r\n      <g transform=\"translate(402.6395 158.086118)scale(0.1 -0.1)\">\r\n       <use xlink:href=\"#DejaVuSans-30\"/>\r\n       <use x=\"63.623047\" xlink:href=\"#DejaVuSans-2e\"/>\r\n       <use x=\"95.410156\" xlink:href=\"#DejaVuSans-34\"/>\r\n      </g>\r\n     </g>\r\n    </g>\r\n    <g id=\"ytick_8\">\r\n     <g id=\"line2d_13\">\r\n      <g>\r\n       <use style=\"stroke:#000000;stroke-width:0.8;\" x=\"395.6395\" xlink:href=\"#me7e498f89b\" y=\"110.297308\"/>\r\n      </g>\r\n     </g>\r\n     <g id=\"text_39\">\r\n      <!-- 0.6 -->\r\n      <g transform=\"translate(402.6395 114.096527)scale(0.1 -0.1)\">\r\n       <use xlink:href=\"#DejaVuSans-30\"/>\r\n       <use x=\"63.623047\" xlink:href=\"#DejaVuSans-2e\"/>\r\n       <use x=\"95.410156\" xlink:href=\"#DejaVuSans-36\"/>\r\n      </g>\r\n     </g>\r\n    </g>\r\n    <g id=\"ytick_9\">\r\n     <g id=\"line2d_14\">\r\n      <g>\r\n       <use style=\"stroke:#000000;stroke-width:0.8;\" x=\"395.6395\" xlink:href=\"#me7e498f89b\" y=\"66.307716\"/>\r\n      </g>\r\n     </g>\r\n     <g id=\"text_40\">\r\n      <!-- 0.8 -->\r\n      <g transform=\"translate(402.6395 70.106935)scale(0.1 -0.1)\">\r\n       <use xlink:href=\"#DejaVuSans-30\"/>\r\n       <use x=\"63.623047\" xlink:href=\"#DejaVuSans-2e\"/>\r\n       <use x=\"95.410156\" xlink:href=\"#DejaVuSans-38\"/>\r\n      </g>\r\n     </g>\r\n    </g>\r\n    <g id=\"ytick_10\">\r\n     <g id=\"line2d_15\">\r\n      <g>\r\n       <use style=\"stroke:#000000;stroke-width:0.8;\" x=\"395.6395\" xlink:href=\"#me7e498f89b\" y=\"22.318125\"/>\r\n      </g>\r\n     </g>\r\n     <g id=\"text_41\">\r\n      <!-- 1.0 -->\r\n      <g transform=\"translate(402.6395 26.117344)scale(0.1 -0.1)\">\r\n       <use xlink:href=\"#DejaVuSans-31\"/>\r\n       <use x=\"63.623047\" xlink:href=\"#DejaVuSans-2e\"/>\r\n       <use x=\"95.410156\" xlink:href=\"#DejaVuSans-30\"/>\r\n      </g>\r\n     </g>\r\n    </g>\r\n   </g>\r\n   <g id=\"LineCollection_1\"/>\r\n   <g id=\"patch_5\">\r\n    <path d=\"M 384.7675 239.758125 \r\nL 384.7675 238.90875 \r\nL 384.7675 23.1675 \r\nL 384.7675 22.318125 \r\nL 395.6395 22.318125 \r\nL 395.6395 23.1675 \r\nL 395.6395 238.90875 \r\nL 395.6395 239.758125 \r\nz\r\n\" style=\"fill:none;\"/>\r\n   </g>\r\n  </g>\r\n </g>\r\n <defs>\r\n  <clipPath id=\"p7ce122a0f5\">\r\n   <rect height=\"217.44\" width=\"267.84\" x=\"100.1875\" y=\"22.318125\"/>\r\n  </clipPath>\r\n  <clipPath id=\"p7440d049a7\">\r\n   <rect height=\"217.44\" width=\"10.872\" x=\"384.7675\" y=\"22.318125\"/>\r\n  </clipPath>\r\n </defs>\r\n</svg>\r\n",
      "image/png": "[encoded data removed]"
     },
     "metadata": {
      "needs_background": "light"
     }
    }
   ],
   "source": [
    "viz.heatmap(save=reports)"
   ]
  },
  {
   "source": [
    "### 5.5 EXPANSE Heatmap"
   ],
   "cell_type": "markdown",
   "metadata": {}
  },
  {
   "cell_type": "code",
   "execution_count": 9,
   "metadata": {},
   "outputs": [
    {
     "output_type": "display_data",
     "data": {
      "text/plain": "<Figure size 432x288 with 2 Axes>",
      "image/svg+xml": "<?xml version=\"1.0\" encoding=\"utf-8\" standalone=\"no\"?>\r\n<!DOCTYPE svg PUBLIC \"-//W3C//DTD SVG 1.1//EN\"\r\n  \"http://www.w3.org/Graphics/SVG/1.1/DTD/svg11.dtd\">\r\n<svg height=\"339.945625pt\" version=\"1.1\" viewBox=\"0 0 425.742625 339.945625\" width=\"425.742625pt\" xmlns=\"http://www.w3.org/2000/svg\" xmlns:xlink=\"http://www.w3.org/1999/xlink\">\r\n <metadata>\r\n  <rdf:RDF xmlns:cc=\"http://creativecommons.org/ns#\" xmlns:dc=\"http://purl.org/dc/elements/1.1/\" xmlns:rdf=\"http://www.w3.org/1999/02/22-rdf-syntax-ns#\">\r\n   <cc:Work>\r\n    <dc:type rdf:resource=\"http://purl.org/dc/dcmitype/StillImage\"/>\r\n    <dc:date>2021-06-01T19:39:19.342434</dc:date>\r\n    <dc:format>image/svg+xml</dc:format>\r\n    <dc:creator>\r\n     <cc:Agent>\r\n      <dc:title>Matplotlib v3.4.1, https://matplotlib.org/</dc:title>\r\n     </cc:Agent>\r\n    </dc:creator>\r\n   </cc:Work>\r\n  </rdf:RDF>\r\n </metadata>\r\n <defs>\r\n  <style type=\"text/css\">*{stroke-linecap:butt;stroke-linejoin:round;}</style>\r\n </defs>\r\n <g id=\"figure_1\">\r\n  <g id=\"patch_1\">\r\n   <path d=\"M 0 339.945625 \r\nL 425.742625 339.945625 \r\nL 425.742625 0 \r\nL 0 0 \r\nz\r\n\" style=\"fill:none;\"/>\r\n  </g>\r\n  <g id=\"axes_1\">\r\n   <g id=\"patch_2\">\r\n    <path d=\"M 100.1875 239.758125 \r\nL 368.0275 239.758125 \r\nL 368.0275 22.318125 \r\nL 100.1875 22.318125 \r\nz\r\n\" style=\"fill:#ffffff;\"/>\r\n   </g>\r\n   <g id=\"QuadMesh_1\">\r\n    <path clip-path=\"url(#p5e56222797)\" d=\"M 100.1875 22.318125 \r\nL 153.7555 22.318125 \r\nL 153.7555 65.806125 \r\nL 100.1875 65.806125 \r\nL 100.1875 22.318125 \r\n\" style=\"fill:#faebdd;\"/>\r\n    <path clip-path=\"url(#p5e56222797)\" d=\"M 153.7555 22.318125 \r\nL 207.3235 22.318125 \r\nL 207.3235 65.806125 \r\nL 153.7555 65.806125 \r\nL 153.7555 22.318125 \r\n\" style=\"fill:#05061b;\"/>\r\n    <path clip-path=\"url(#p5e56222797)\" d=\"M 207.3235 22.318125 \r\nL 260.8915 22.318125 \r\nL 260.8915 65.806125 \r\nL 207.3235 65.806125 \r\nL 207.3235 22.318125 \r\n\" style=\"fill:#05061b;\"/>\r\n    <path clip-path=\"url(#p5e56222797)\" d=\"M 260.8915 22.318125 \r\nL 314.4595 22.318125 \r\nL 314.4595 65.806125 \r\nL 260.8915 65.806125 \r\nL 260.8915 22.318125 \r\n\" style=\"fill:#03051a;\"/>\r\n    <path clip-path=\"url(#p5e56222797)\" d=\"M 314.4595 22.318125 \r\nL 368.0275 22.318125 \r\nL 368.0275 65.806125 \r\nL 314.4595 65.806125 \r\nL 314.4595 22.318125 \r\n\" style=\"fill:#130d25;\"/>\r\n    <path clip-path=\"url(#p5e56222797)\" d=\"M 100.1875 65.806125 \r\nL 153.7555 65.806125 \r\nL 153.7555 109.294125 \r\nL 100.1875 109.294125 \r\nL 100.1875 65.806125 \r\n\" style=\"fill:#05061b;\"/>\r\n    <path clip-path=\"url(#p5e56222797)\" d=\"M 153.7555 65.806125 \r\nL 207.3235 65.806125 \r\nL 207.3235 109.294125 \r\nL 153.7555 109.294125 \r\nL 153.7555 65.806125 \r\n\" style=\"fill:#faebdd;\"/>\r\n    <path clip-path=\"url(#p5e56222797)\" d=\"M 207.3235 65.806125 \r\nL 260.8915 65.806125 \r\nL 260.8915 109.294125 \r\nL 207.3235 109.294125 \r\nL 207.3235 65.806125 \r\n\" style=\"fill:#7d1f5a;\"/>\r\n    <path clip-path=\"url(#p5e56222797)\" d=\"M 260.8915 65.806125 \r\nL 314.4595 65.806125 \r\nL 314.4595 109.294125 \r\nL 260.8915 109.294125 \r\nL 260.8915 65.806125 \r\n\" style=\"fill:#f26b49;\"/>\r\n    <path clip-path=\"url(#p5e56222797)\" d=\"M 314.4595 65.806125 \r\nL 368.0275 65.806125 \r\nL 368.0275 109.294125 \r\nL 314.4595 109.294125 \r\nL 314.4595 65.806125 \r\n\" style=\"fill:#ca1a50;\"/>\r\n    <path clip-path=\"url(#p5e56222797)\" d=\"M 100.1875 109.294125 \r\nL 153.7555 109.294125 \r\nL 153.7555 152.782125 \r\nL 100.1875 152.782125 \r\nL 100.1875 109.294125 \r\n\" style=\"fill:#05061b;\"/>\r\n    <path clip-path=\"url(#p5e56222797)\" d=\"M 153.7555 109.294125 \r\nL 207.3235 109.294125 \r\nL 207.3235 152.782125 \r\nL 153.7555 152.782125 \r\nL 153.7555 109.294125 \r\n\" style=\"fill:#7d1f5a;\"/>\r\n    <path clip-path=\"url(#p5e56222797)\" d=\"M 207.3235 109.294125 \r\nL 260.8915 109.294125 \r\nL 260.8915 152.782125 \r\nL 207.3235 152.782125 \r\nL 207.3235 109.294125 \r\n\" style=\"fill:#faebdd;\"/>\r\n    <path clip-path=\"url(#p5e56222797)\" d=\"M 260.8915 109.294125 \r\nL 314.4595 109.294125 \r\nL 314.4595 152.782125 \r\nL 260.8915 152.782125 \r\nL 260.8915 109.294125 \r\n\" style=\"fill:#451c47;\"/>\r\n    <path clip-path=\"url(#p5e56222797)\" d=\"M 314.4595 109.294125 \r\nL 368.0275 109.294125 \r\nL 368.0275 152.782125 \r\nL 314.4595 152.782125 \r\nL 314.4595 109.294125 \r\n\" style=\"fill:#241432;\"/>\r\n    <path clip-path=\"url(#p5e56222797)\" d=\"M 100.1875 152.782125 \r\nL 153.7555 152.782125 \r\nL 153.7555 196.270125 \r\nL 100.1875 196.270125 \r\nL 100.1875 152.782125 \r\n\" style=\"fill:#03051a;\"/>\r\n    <path clip-path=\"url(#p5e56222797)\" d=\"M 153.7555 152.782125 \r\nL 207.3235 152.782125 \r\nL 207.3235 196.270125 \r\nL 153.7555 196.270125 \r\nL 153.7555 152.782125 \r\n\" style=\"fill:#f26b49;\"/>\r\n    <path clip-path=\"url(#p5e56222797)\" d=\"M 207.3235 152.782125 \r\nL 260.8915 152.782125 \r\nL 260.8915 196.270125 \r\nL 207.3235 196.270125 \r\nL 207.3235 152.782125 \r\n\" style=\"fill:#451c47;\"/>\r\n    <path clip-path=\"url(#p5e56222797)\" d=\"M 260.8915 152.782125 \r\nL 314.4595 152.782125 \r\nL 314.4595 196.270125 \r\nL 260.8915 196.270125 \r\nL 260.8915 152.782125 \r\n\" style=\"fill:#faebdd;\"/>\r\n    <path clip-path=\"url(#p5e56222797)\" d=\"M 314.4595 152.782125 \r\nL 368.0275 152.782125 \r\nL 368.0275 196.270125 \r\nL 314.4595 196.270125 \r\nL 314.4595 152.782125 \r\n\" style=\"fill:#f58b63;\"/>\r\n    <path clip-path=\"url(#p5e56222797)\" d=\"M 100.1875 196.270125 \r\nL 153.7555 196.270125 \r\nL 153.7555 239.758125 \r\nL 100.1875 239.758125 \r\nL 100.1875 196.270125 \r\n\" style=\"fill:#130d25;\"/>\r\n    <path clip-path=\"url(#p5e56222797)\" d=\"M 153.7555 196.270125 \r\nL 207.3235 196.270125 \r\nL 207.3235 239.758125 \r\nL 153.7555 239.758125 \r\nL 153.7555 196.270125 \r\n\" style=\"fill:#ca1a50;\"/>\r\n    <path clip-path=\"url(#p5e56222797)\" d=\"M 207.3235 196.270125 \r\nL 260.8915 196.270125 \r\nL 260.8915 239.758125 \r\nL 207.3235 239.758125 \r\nL 207.3235 196.270125 \r\n\" style=\"fill:#241432;\"/>\r\n    <path clip-path=\"url(#p5e56222797)\" d=\"M 260.8915 196.270125 \r\nL 314.4595 196.270125 \r\nL 314.4595 239.758125 \r\nL 260.8915 239.758125 \r\nL 260.8915 196.270125 \r\n\" style=\"fill:#f58b63;\"/>\r\n    <path clip-path=\"url(#p5e56222797)\" d=\"M 314.4595 196.270125 \r\nL 368.0275 196.270125 \r\nL 368.0275 239.758125 \r\nL 314.4595 239.758125 \r\nL 314.4595 196.270125 \r\n\" style=\"fill:#faebdd;\"/>\r\n   </g>\r\n   <g id=\"matplotlib.axis_1\">\r\n    <g id=\"xtick_1\">\r\n     <g id=\"line2d_1\">\r\n      <defs>\r\n       <path d=\"M 0 0 \r\nL 0 3.5 \r\n\" id=\"m0c839a05ba\" style=\"stroke:#000000;stroke-width:0.8;\"/>\r\n      </defs>\r\n      <g>\r\n       <use style=\"stroke:#000000;stroke-width:0.8;\" x=\"126.9715\" xlink:href=\"#m0c839a05ba\" y=\"239.758125\"/>\r\n      </g>\r\n     </g>\r\n     <g id=\"text_1\">\r\n      <!-- netflix_id -->\r\n      <g transform=\"translate(129.591813 292.290937)rotate(-90)scale(0.1 -0.1)\">\r\n       <defs>\r\n        <path d=\"M 3513 2113 \r\nL 3513 0 \r\nL 2938 0 \r\nL 2938 2094 \r\nQ 2938 2591 2744 2837 \r\nQ 2550 3084 2163 3084 \r\nQ 1697 3084 1428 2787 \r\nQ 1159 2491 1159 1978 \r\nL 1159 0 \r\nL 581 0 \r\nL 581 3500 \r\nL 1159 3500 \r\nL 1159 2956 \r\nQ 1366 3272 1645 3428 \r\nQ 1925 3584 2291 3584 \r\nQ 2894 3584 3203 3211 \r\nQ 3513 2838 3513 2113 \r\nz\r\n\" id=\"DejaVuSans-6e\" transform=\"scale(0.015625)\"/>\r\n        <path d=\"M 3597 1894 \r\nL 3597 1613 \r\nL 953 1613 \r\nQ 991 1019 1311 708 \r\nQ 1631 397 2203 397 \r\nQ 2534 397 2845 478 \r\nQ 3156 559 3463 722 \r\nL 3463 178 \r\nQ 3153 47 2828 -22 \r\nQ 2503 -91 2169 -91 \r\nQ 1331 -91 842 396 \r\nQ 353 884 353 1716 \r\nQ 353 2575 817 3079 \r\nQ 1281 3584 2069 3584 \r\nQ 2775 3584 3186 3129 \r\nQ 3597 2675 3597 1894 \r\nz\r\nM 3022 2063 \r\nQ 3016 2534 2758 2815 \r\nQ 2500 3097 2075 3097 \r\nQ 1594 3097 1305 2825 \r\nQ 1016 2553 972 2059 \r\nL 3022 2063 \r\nz\r\n\" id=\"DejaVuSans-65\" transform=\"scale(0.015625)\"/>\r\n        <path d=\"M 1172 4494 \r\nL 1172 3500 \r\nL 2356 3500 \r\nL 2356 3053 \r\nL 1172 3053 \r\nL 1172 1153 \r\nQ 1172 725 1289 603 \r\nQ 1406 481 1766 481 \r\nL 2356 481 \r\nL 2356 0 \r\nL 1766 0 \r\nQ 1100 0 847 248 \r\nQ 594 497 594 1153 \r\nL 594 3053 \r\nL 172 3053 \r\nL 172 3500 \r\nL 594 3500 \r\nL 594 4494 \r\nL 1172 4494 \r\nz\r\n\" id=\"DejaVuSans-74\" transform=\"scale(0.015625)\"/>\r\n        <path d=\"M 2375 4863 \r\nL 2375 4384 \r\nL 1825 4384 \r\nQ 1516 4384 1395 4259 \r\nQ 1275 4134 1275 3809 \r\nL 1275 3500 \r\nL 2222 3500 \r\nL 2222 3053 \r\nL 1275 3053 \r\nL 1275 0 \r\nL 697 0 \r\nL 697 3053 \r\nL 147 3053 \r\nL 147 3500 \r\nL 697 3500 \r\nL 697 3744 \r\nQ 697 4328 969 4595 \r\nQ 1241 4863 1831 4863 \r\nL 2375 4863 \r\nz\r\n\" id=\"DejaVuSans-66\" transform=\"scale(0.015625)\"/>\r\n        <path d=\"M 603 4863 \r\nL 1178 4863 \r\nL 1178 0 \r\nL 603 0 \r\nL 603 4863 \r\nz\r\n\" id=\"DejaVuSans-6c\" transform=\"scale(0.015625)\"/>\r\n        <path d=\"M 603 3500 \r\nL 1178 3500 \r\nL 1178 0 \r\nL 603 0 \r\nL 603 3500 \r\nz\r\nM 603 4863 \r\nL 1178 4863 \r\nL 1178 4134 \r\nL 603 4134 \r\nL 603 4863 \r\nz\r\n\" id=\"DejaVuSans-69\" transform=\"scale(0.015625)\"/>\r\n        <path d=\"M 3513 3500 \r\nL 2247 1797 \r\nL 3578 0 \r\nL 2900 0 \r\nL 1881 1375 \r\nL 863 0 \r\nL 184 0 \r\nL 1544 1831 \r\nL 300 3500 \r\nL 978 3500 \r\nL 1906 2253 \r\nL 2834 3500 \r\nL 3513 3500 \r\nz\r\n\" id=\"DejaVuSans-78\" transform=\"scale(0.015625)\"/>\r\n        <path d=\"M 3263 -1063 \r\nL 3263 -1509 \r\nL -63 -1509 \r\nL -63 -1063 \r\nL 3263 -1063 \r\nz\r\n\" id=\"DejaVuSans-5f\" transform=\"scale(0.015625)\"/>\r\n        <path d=\"M 2906 2969 \r\nL 2906 4863 \r\nL 3481 4863 \r\nL 3481 0 \r\nL 2906 0 \r\nL 2906 525 \r\nQ 2725 213 2448 61 \r\nQ 2172 -91 1784 -91 \r\nQ 1150 -91 751 415 \r\nQ 353 922 353 1747 \r\nQ 353 2572 751 3078 \r\nQ 1150 3584 1784 3584 \r\nQ 2172 3584 2448 3432 \r\nQ 2725 3281 2906 2969 \r\nz\r\nM 947 1747 \r\nQ 947 1113 1208 752 \r\nQ 1469 391 1925 391 \r\nQ 2381 391 2643 752 \r\nQ 2906 1113 2906 1747 \r\nQ 2906 2381 2643 2742 \r\nQ 2381 3103 1925 3103 \r\nQ 1469 3103 1208 2742 \r\nQ 947 2381 947 1747 \r\nz\r\n\" id=\"DejaVuSans-64\" transform=\"scale(0.015625)\"/>\r\n       </defs>\r\n       <use xlink:href=\"#DejaVuSans-6e\"/>\r\n       <use x=\"63.378906\" xlink:href=\"#DejaVuSans-65\"/>\r\n       <use x=\"124.902344\" xlink:href=\"#DejaVuSans-74\"/>\r\n       <use x=\"164.111328\" xlink:href=\"#DejaVuSans-66\"/>\r\n       <use x=\"199.316406\" xlink:href=\"#DejaVuSans-6c\"/>\r\n       <use x=\"227.099609\" xlink:href=\"#DejaVuSans-69\"/>\r\n       <use x=\"254.882812\" xlink:href=\"#DejaVuSans-78\"/>\r\n       <use x=\"314.0625\" xlink:href=\"#DejaVuSans-5f\"/>\r\n       <use x=\"364.0625\" xlink:href=\"#DejaVuSans-69\"/>\r\n       <use x=\"391.845703\" xlink:href=\"#DejaVuSans-64\"/>\r\n      </g>\r\n     </g>\r\n    </g>\r\n    <g id=\"xtick_2\">\r\n     <g id=\"line2d_2\">\r\n      <g>\r\n       <use style=\"stroke:#000000;stroke-width:0.8;\" x=\"180.5395\" xlink:href=\"#m0c839a05ba\" y=\"239.758125\"/>\r\n      </g>\r\n     </g>\r\n     <g id=\"text_2\">\r\n      <!-- netflix_rating -->\r\n      <g transform=\"translate(183.159813 312.787812)rotate(-90)scale(0.1 -0.1)\">\r\n       <defs>\r\n        <path d=\"M 2631 2963 \r\nQ 2534 3019 2420 3045 \r\nQ 2306 3072 2169 3072 \r\nQ 1681 3072 1420 2755 \r\nQ 1159 2438 1159 1844 \r\nL 1159 0 \r\nL 581 0 \r\nL 581 3500 \r\nL 1159 3500 \r\nL 1159 2956 \r\nQ 1341 3275 1631 3429 \r\nQ 1922 3584 2338 3584 \r\nQ 2397 3584 2469 3576 \r\nQ 2541 3569 2628 3553 \r\nL 2631 2963 \r\nz\r\n\" id=\"DejaVuSans-72\" transform=\"scale(0.015625)\"/>\r\n        <path d=\"M 2194 1759 \r\nQ 1497 1759 1228 1600 \r\nQ 959 1441 959 1056 \r\nQ 959 750 1161 570 \r\nQ 1363 391 1709 391 \r\nQ 2188 391 2477 730 \r\nQ 2766 1069 2766 1631 \r\nL 2766 1759 \r\nL 2194 1759 \r\nz\r\nM 3341 1997 \r\nL 3341 0 \r\nL 2766 0 \r\nL 2766 531 \r\nQ 2569 213 2275 61 \r\nQ 1981 -91 1556 -91 \r\nQ 1019 -91 701 211 \r\nQ 384 513 384 1019 \r\nQ 384 1609 779 1909 \r\nQ 1175 2209 1959 2209 \r\nL 2766 2209 \r\nL 2766 2266 \r\nQ 2766 2663 2505 2880 \r\nQ 2244 3097 1772 3097 \r\nQ 1472 3097 1187 3025 \r\nQ 903 2953 641 2809 \r\nL 641 3341 \r\nQ 956 3463 1253 3523 \r\nQ 1550 3584 1831 3584 \r\nQ 2591 3584 2966 3190 \r\nQ 3341 2797 3341 1997 \r\nz\r\n\" id=\"DejaVuSans-61\" transform=\"scale(0.015625)\"/>\r\n        <path d=\"M 2906 1791 \r\nQ 2906 2416 2648 2759 \r\nQ 2391 3103 1925 3103 \r\nQ 1463 3103 1205 2759 \r\nQ 947 2416 947 1791 \r\nQ 947 1169 1205 825 \r\nQ 1463 481 1925 481 \r\nQ 2391 481 2648 825 \r\nQ 2906 1169 2906 1791 \r\nz\r\nM 3481 434 \r\nQ 3481 -459 3084 -895 \r\nQ 2688 -1331 1869 -1331 \r\nQ 1566 -1331 1297 -1286 \r\nQ 1028 -1241 775 -1147 \r\nL 775 -588 \r\nQ 1028 -725 1275 -790 \r\nQ 1522 -856 1778 -856 \r\nQ 2344 -856 2625 -561 \r\nQ 2906 -266 2906 331 \r\nL 2906 616 \r\nQ 2728 306 2450 153 \r\nQ 2172 0 1784 0 \r\nQ 1141 0 747 490 \r\nQ 353 981 353 1791 \r\nQ 353 2603 747 3093 \r\nQ 1141 3584 1784 3584 \r\nQ 2172 3584 2450 3431 \r\nQ 2728 3278 2906 2969 \r\nL 2906 3500 \r\nL 3481 3500 \r\nL 3481 434 \r\nz\r\n\" id=\"DejaVuSans-67\" transform=\"scale(0.015625)\"/>\r\n       </defs>\r\n       <use xlink:href=\"#DejaVuSans-6e\"/>\r\n       <use x=\"63.378906\" xlink:href=\"#DejaVuSans-65\"/>\r\n       <use x=\"124.902344\" xlink:href=\"#DejaVuSans-74\"/>\r\n       <use x=\"164.111328\" xlink:href=\"#DejaVuSans-66\"/>\r\n       <use x=\"199.316406\" xlink:href=\"#DejaVuSans-6c\"/>\r\n       <use x=\"227.099609\" xlink:href=\"#DejaVuSans-69\"/>\r\n       <use x=\"254.882812\" xlink:href=\"#DejaVuSans-78\"/>\r\n       <use x=\"314.0625\" xlink:href=\"#DejaVuSans-5f\"/>\r\n       <use x=\"364.0625\" xlink:href=\"#DejaVuSans-72\"/>\r\n       <use x=\"405.175781\" xlink:href=\"#DejaVuSans-61\"/>\r\n       <use x=\"466.455078\" xlink:href=\"#DejaVuSans-74\"/>\r\n       <use x=\"505.664062\" xlink:href=\"#DejaVuSans-69\"/>\r\n       <use x=\"533.447266\" xlink:href=\"#DejaVuSans-6e\"/>\r\n       <use x=\"596.826172\" xlink:href=\"#DejaVuSans-67\"/>\r\n      </g>\r\n     </g>\r\n    </g>\r\n    <g id=\"xtick_3\">\r\n     <g id=\"line2d_3\">\r\n      <g>\r\n       <use style=\"stroke:#000000;stroke-width:0.8;\" x=\"234.1075\" xlink:href=\"#m0c839a05ba\" y=\"239.758125\"/>\r\n      </g>\r\n     </g>\r\n     <g id=\"text_3\">\r\n      <!-- number_of_votes -->\r\n      <g transform=\"translate(236.727813 332.745625)rotate(-90)scale(0.1 -0.1)\">\r\n       <defs>\r\n        <path d=\"M 544 1381 \r\nL 544 3500 \r\nL 1119 3500 \r\nL 1119 1403 \r\nQ 1119 906 1312 657 \r\nQ 1506 409 1894 409 \r\nQ 2359 409 2629 706 \r\nQ 2900 1003 2900 1516 \r\nL 2900 3500 \r\nL 3475 3500 \r\nL 3475 0 \r\nL 2900 0 \r\nL 2900 538 \r\nQ 2691 219 2414 64 \r\nQ 2138 -91 1772 -91 \r\nQ 1169 -91 856 284 \r\nQ 544 659 544 1381 \r\nz\r\nM 1991 3584 \r\nL 1991 3584 \r\nz\r\n\" id=\"DejaVuSans-75\" transform=\"scale(0.015625)\"/>\r\n        <path d=\"M 3328 2828 \r\nQ 3544 3216 3844 3400 \r\nQ 4144 3584 4550 3584 \r\nQ 5097 3584 5394 3201 \r\nQ 5691 2819 5691 2113 \r\nL 5691 0 \r\nL 5113 0 \r\nL 5113 2094 \r\nQ 5113 2597 4934 2840 \r\nQ 4756 3084 4391 3084 \r\nQ 3944 3084 3684 2787 \r\nQ 3425 2491 3425 1978 \r\nL 3425 0 \r\nL 2847 0 \r\nL 2847 2094 \r\nQ 2847 2600 2669 2842 \r\nQ 2491 3084 2119 3084 \r\nQ 1678 3084 1418 2786 \r\nQ 1159 2488 1159 1978 \r\nL 1159 0 \r\nL 581 0 \r\nL 581 3500 \r\nL 1159 3500 \r\nL 1159 2956 \r\nQ 1356 3278 1631 3431 \r\nQ 1906 3584 2284 3584 \r\nQ 2666 3584 2933 3390 \r\nQ 3200 3197 3328 2828 \r\nz\r\n\" id=\"DejaVuSans-6d\" transform=\"scale(0.015625)\"/>\r\n        <path d=\"M 3116 1747 \r\nQ 3116 2381 2855 2742 \r\nQ 2594 3103 2138 3103 \r\nQ 1681 3103 1420 2742 \r\nQ 1159 2381 1159 1747 \r\nQ 1159 1113 1420 752 \r\nQ 1681 391 2138 391 \r\nQ 2594 391 2855 752 \r\nQ 3116 1113 3116 1747 \r\nz\r\nM 1159 2969 \r\nQ 1341 3281 1617 3432 \r\nQ 1894 3584 2278 3584 \r\nQ 2916 3584 3314 3078 \r\nQ 3713 2572 3713 1747 \r\nQ 3713 922 3314 415 \r\nQ 2916 -91 2278 -91 \r\nQ 1894 -91 1617 61 \r\nQ 1341 213 1159 525 \r\nL 1159 0 \r\nL 581 0 \r\nL 581 4863 \r\nL 1159 4863 \r\nL 1159 2969 \r\nz\r\n\" id=\"DejaVuSans-62\" transform=\"scale(0.015625)\"/>\r\n        <path d=\"M 1959 3097 \r\nQ 1497 3097 1228 2736 \r\nQ 959 2375 959 1747 \r\nQ 959 1119 1226 758 \r\nQ 1494 397 1959 397 \r\nQ 2419 397 2687 759 \r\nQ 2956 1122 2956 1747 \r\nQ 2956 2369 2687 2733 \r\nQ 2419 3097 1959 3097 \r\nz\r\nM 1959 3584 \r\nQ 2709 3584 3137 3096 \r\nQ 3566 2609 3566 1747 \r\nQ 3566 888 3137 398 \r\nQ 2709 -91 1959 -91 \r\nQ 1206 -91 779 398 \r\nQ 353 888 353 1747 \r\nQ 353 2609 779 3096 \r\nQ 1206 3584 1959 3584 \r\nz\r\n\" id=\"DejaVuSans-6f\" transform=\"scale(0.015625)\"/>\r\n        <path d=\"M 191 3500 \r\nL 800 3500 \r\nL 1894 563 \r\nL 2988 3500 \r\nL 3597 3500 \r\nL 2284 0 \r\nL 1503 0 \r\nL 191 3500 \r\nz\r\n\" id=\"DejaVuSans-76\" transform=\"scale(0.015625)\"/>\r\n        <path d=\"M 2834 3397 \r\nL 2834 2853 \r\nQ 2591 2978 2328 3040 \r\nQ 2066 3103 1784 3103 \r\nQ 1356 3103 1142 2972 \r\nQ 928 2841 928 2578 \r\nQ 928 2378 1081 2264 \r\nQ 1234 2150 1697 2047 \r\nL 1894 2003 \r\nQ 2506 1872 2764 1633 \r\nQ 3022 1394 3022 966 \r\nQ 3022 478 2636 193 \r\nQ 2250 -91 1575 -91 \r\nQ 1294 -91 989 -36 \r\nQ 684 19 347 128 \r\nL 347 722 \r\nQ 666 556 975 473 \r\nQ 1284 391 1588 391 \r\nQ 1994 391 2212 530 \r\nQ 2431 669 2431 922 \r\nQ 2431 1156 2273 1281 \r\nQ 2116 1406 1581 1522 \r\nL 1381 1569 \r\nQ 847 1681 609 1914 \r\nQ 372 2147 372 2553 \r\nQ 372 3047 722 3315 \r\nQ 1072 3584 1716 3584 \r\nQ 2034 3584 2315 3537 \r\nQ 2597 3491 2834 3397 \r\nz\r\n\" id=\"DejaVuSans-73\" transform=\"scale(0.015625)\"/>\r\n       </defs>\r\n       <use xlink:href=\"#DejaVuSans-6e\"/>\r\n       <use x=\"63.378906\" xlink:href=\"#DejaVuSans-75\"/>\r\n       <use x=\"126.757812\" xlink:href=\"#DejaVuSans-6d\"/>\r\n       <use x=\"224.169922\" xlink:href=\"#DejaVuSans-62\"/>\r\n       <use x=\"287.646484\" xlink:href=\"#DejaVuSans-65\"/>\r\n       <use x=\"349.169922\" xlink:href=\"#DejaVuSans-72\"/>\r\n       <use x=\"390.283203\" xlink:href=\"#DejaVuSans-5f\"/>\r\n       <use x=\"440.283203\" xlink:href=\"#DejaVuSans-6f\"/>\r\n       <use x=\"501.464844\" xlink:href=\"#DejaVuSans-66\"/>\r\n       <use x=\"536.669922\" xlink:href=\"#DejaVuSans-5f\"/>\r\n       <use x=\"586.669922\" xlink:href=\"#DejaVuSans-76\"/>\r\n       <use x=\"645.849609\" xlink:href=\"#DejaVuSans-6f\"/>\r\n       <use x=\"707.03125\" xlink:href=\"#DejaVuSans-74\"/>\r\n       <use x=\"746.240234\" xlink:href=\"#DejaVuSans-65\"/>\r\n       <use x=\"807.763672\" xlink:href=\"#DejaVuSans-73\"/>\r\n      </g>\r\n     </g>\r\n    </g>\r\n    <g id=\"xtick_4\">\r\n     <g id=\"line2d_4\">\r\n      <g>\r\n       <use style=\"stroke:#000000;stroke-width:0.8;\" x=\"287.6755\" xlink:href=\"#m0c839a05ba\" y=\"239.758125\"/>\r\n      </g>\r\n     </g>\r\n     <g id=\"text_4\">\r\n      <!-- imdbRating -->\r\n      <g transform=\"translate(290.434875 304.209687)rotate(-90)scale(0.1 -0.1)\">\r\n       <defs>\r\n        <path d=\"M 2841 2188 \r\nQ 3044 2119 3236 1894 \r\nQ 3428 1669 3622 1275 \r\nL 4263 0 \r\nL 3584 0 \r\nL 2988 1197 \r\nQ 2756 1666 2539 1819 \r\nQ 2322 1972 1947 1972 \r\nL 1259 1972 \r\nL 1259 0 \r\nL 628 0 \r\nL 628 4666 \r\nL 2053 4666 \r\nQ 2853 4666 3247 4331 \r\nQ 3641 3997 3641 3322 \r\nQ 3641 2881 3436 2590 \r\nQ 3231 2300 2841 2188 \r\nz\r\nM 1259 4147 \r\nL 1259 2491 \r\nL 2053 2491 \r\nQ 2509 2491 2742 2702 \r\nQ 2975 2913 2975 3322 \r\nQ 2975 3731 2742 3939 \r\nQ 2509 4147 2053 4147 \r\nL 1259 4147 \r\nz\r\n\" id=\"DejaVuSans-52\" transform=\"scale(0.015625)\"/>\r\n       </defs>\r\n       <use xlink:href=\"#DejaVuSans-69\"/>\r\n       <use x=\"27.783203\" xlink:href=\"#DejaVuSans-6d\"/>\r\n       <use x=\"125.195312\" xlink:href=\"#DejaVuSans-64\"/>\r\n       <use x=\"188.671875\" xlink:href=\"#DejaVuSans-62\"/>\r\n       <use x=\"252.148438\" xlink:href=\"#DejaVuSans-52\"/>\r\n       <use x=\"319.380859\" xlink:href=\"#DejaVuSans-61\"/>\r\n       <use x=\"380.660156\" xlink:href=\"#DejaVuSans-74\"/>\r\n       <use x=\"419.869141\" xlink:href=\"#DejaVuSans-69\"/>\r\n       <use x=\"447.652344\" xlink:href=\"#DejaVuSans-6e\"/>\r\n       <use x=\"511.03125\" xlink:href=\"#DejaVuSans-67\"/>\r\n      </g>\r\n     </g>\r\n    </g>\r\n    <g id=\"xtick_5\">\r\n     <g id=\"line2d_5\">\r\n      <g>\r\n       <use style=\"stroke:#000000;stroke-width:0.8;\" x=\"341.2435\" xlink:href=\"#m0c839a05ba\" y=\"239.758125\"/>\r\n      </g>\r\n     </g>\r\n     <g id=\"text_5\">\r\n      <!-- Metascore -->\r\n      <g transform=\"translate(344.002875 298.453438)rotate(-90)scale(0.1 -0.1)\">\r\n       <defs>\r\n        <path d=\"M 628 4666 \r\nL 1569 4666 \r\nL 2759 1491 \r\nL 3956 4666 \r\nL 4897 4666 \r\nL 4897 0 \r\nL 4281 0 \r\nL 4281 4097 \r\nL 3078 897 \r\nL 2444 897 \r\nL 1241 4097 \r\nL 1241 0 \r\nL 628 0 \r\nL 628 4666 \r\nz\r\n\" id=\"DejaVuSans-4d\" transform=\"scale(0.015625)\"/>\r\n        <path d=\"M 3122 3366 \r\nL 3122 2828 \r\nQ 2878 2963 2633 3030 \r\nQ 2388 3097 2138 3097 \r\nQ 1578 3097 1268 2742 \r\nQ 959 2388 959 1747 \r\nQ 959 1106 1268 751 \r\nQ 1578 397 2138 397 \r\nQ 2388 397 2633 464 \r\nQ 2878 531 3122 666 \r\nL 3122 134 \r\nQ 2881 22 2623 -34 \r\nQ 2366 -91 2075 -91 \r\nQ 1284 -91 818 406 \r\nQ 353 903 353 1747 \r\nQ 353 2603 823 3093 \r\nQ 1294 3584 2113 3584 \r\nQ 2378 3584 2631 3529 \r\nQ 2884 3475 3122 3366 \r\nz\r\n\" id=\"DejaVuSans-63\" transform=\"scale(0.015625)\"/>\r\n       </defs>\r\n       <use xlink:href=\"#DejaVuSans-4d\"/>\r\n       <use x=\"86.279297\" xlink:href=\"#DejaVuSans-65\"/>\r\n       <use x=\"147.802734\" xlink:href=\"#DejaVuSans-74\"/>\r\n       <use x=\"187.011719\" xlink:href=\"#DejaVuSans-61\"/>\r\n       <use x=\"248.291016\" xlink:href=\"#DejaVuSans-73\"/>\r\n       <use x=\"300.390625\" xlink:href=\"#DejaVuSans-63\"/>\r\n       <use x=\"355.371094\" xlink:href=\"#DejaVuSans-6f\"/>\r\n       <use x=\"416.552734\" xlink:href=\"#DejaVuSans-72\"/>\r\n       <use x=\"455.416016\" xlink:href=\"#DejaVuSans-65\"/>\r\n      </g>\r\n     </g>\r\n    </g>\r\n   </g>\r\n   <g id=\"matplotlib.axis_2\">\r\n    <g id=\"ytick_1\">\r\n     <g id=\"line2d_6\">\r\n      <defs>\r\n       <path d=\"M 0 0 \r\nL -3.5 0 \r\n\" id=\"mb7862b3b67\" style=\"stroke:#000000;stroke-width:0.8;\"/>\r\n      </defs>\r\n      <g>\r\n       <use style=\"stroke:#000000;stroke-width:0.8;\" x=\"100.1875\" xlink:href=\"#mb7862b3b67\" y=\"44.062125\"/>\r\n      </g>\r\n     </g>\r\n     <g id=\"text_6\">\r\n      <!-- netflix_id -->\r\n      <g transform=\"translate(47.654687 47.861344)scale(0.1 -0.1)\">\r\n       <use xlink:href=\"#DejaVuSans-6e\"/>\r\n       <use x=\"63.378906\" xlink:href=\"#DejaVuSans-65\"/>\r\n       <use x=\"124.902344\" xlink:href=\"#DejaVuSans-74\"/>\r\n       <use x=\"164.111328\" xlink:href=\"#DejaVuSans-66\"/>\r\n       <use x=\"199.316406\" xlink:href=\"#DejaVuSans-6c\"/>\r\n       <use x=\"227.099609\" xlink:href=\"#DejaVuSans-69\"/>\r\n       <use x=\"254.882812\" xlink:href=\"#DejaVuSans-78\"/>\r\n       <use x=\"314.0625\" xlink:href=\"#DejaVuSans-5f\"/>\r\n       <use x=\"364.0625\" xlink:href=\"#DejaVuSans-69\"/>\r\n       <use x=\"391.845703\" xlink:href=\"#DejaVuSans-64\"/>\r\n      </g>\r\n     </g>\r\n    </g>\r\n    <g id=\"ytick_2\">\r\n     <g id=\"line2d_7\">\r\n      <g>\r\n       <use style=\"stroke:#000000;stroke-width:0.8;\" x=\"100.1875\" xlink:href=\"#mb7862b3b67\" y=\"87.550125\"/>\r\n      </g>\r\n     </g>\r\n     <g id=\"text_7\">\r\n      <!-- netflix_rating -->\r\n      <g transform=\"translate(27.157812 91.349344)scale(0.1 -0.1)\">\r\n       <use xlink:href=\"#DejaVuSans-6e\"/>\r\n       <use x=\"63.378906\" xlink:href=\"#DejaVuSans-65\"/>\r\n       <use x=\"124.902344\" xlink:href=\"#DejaVuSans-74\"/>\r\n       <use x=\"164.111328\" xlink:href=\"#DejaVuSans-66\"/>\r\n       <use x=\"199.316406\" xlink:href=\"#DejaVuSans-6c\"/>\r\n       <use x=\"227.099609\" xlink:href=\"#DejaVuSans-69\"/>\r\n       <use x=\"254.882812\" xlink:href=\"#DejaVuSans-78\"/>\r\n       <use x=\"314.0625\" xlink:href=\"#DejaVuSans-5f\"/>\r\n       <use x=\"364.0625\" xlink:href=\"#DejaVuSans-72\"/>\r\n       <use x=\"405.175781\" xlink:href=\"#DejaVuSans-61\"/>\r\n       <use x=\"466.455078\" xlink:href=\"#DejaVuSans-74\"/>\r\n       <use x=\"505.664062\" xlink:href=\"#DejaVuSans-69\"/>\r\n       <use x=\"533.447266\" xlink:href=\"#DejaVuSans-6e\"/>\r\n       <use x=\"596.826172\" xlink:href=\"#DejaVuSans-67\"/>\r\n      </g>\r\n     </g>\r\n    </g>\r\n    <g id=\"ytick_3\">\r\n     <g id=\"line2d_8\">\r\n      <g>\r\n       <use style=\"stroke:#000000;stroke-width:0.8;\" x=\"100.1875\" xlink:href=\"#mb7862b3b67\" y=\"131.038125\"/>\r\n      </g>\r\n     </g>\r\n     <g id=\"text_8\">\r\n      <!-- number_of_votes -->\r\n      <g transform=\"translate(7.2 134.837344)scale(0.1 -0.1)\">\r\n       <use xlink:href=\"#DejaVuSans-6e\"/>\r\n       <use x=\"63.378906\" xlink:href=\"#DejaVuSans-75\"/>\r\n       <use x=\"126.757812\" xlink:href=\"#DejaVuSans-6d\"/>\r\n       <use x=\"224.169922\" xlink:href=\"#DejaVuSans-62\"/>\r\n       <use x=\"287.646484\" xlink:href=\"#DejaVuSans-65\"/>\r\n       <use x=\"349.169922\" xlink:href=\"#DejaVuSans-72\"/>\r\n       <use x=\"390.283203\" xlink:href=\"#DejaVuSans-5f\"/>\r\n       <use x=\"440.283203\" xlink:href=\"#DejaVuSans-6f\"/>\r\n       <use x=\"501.464844\" xlink:href=\"#DejaVuSans-66\"/>\r\n       <use x=\"536.669922\" xlink:href=\"#DejaVuSans-5f\"/>\r\n       <use x=\"586.669922\" xlink:href=\"#DejaVuSans-76\"/>\r\n       <use x=\"645.849609\" xlink:href=\"#DejaVuSans-6f\"/>\r\n       <use x=\"707.03125\" xlink:href=\"#DejaVuSans-74\"/>\r\n       <use x=\"746.240234\" xlink:href=\"#DejaVuSans-65\"/>\r\n       <use x=\"807.763672\" xlink:href=\"#DejaVuSans-73\"/>\r\n      </g>\r\n     </g>\r\n    </g>\r\n    <g id=\"ytick_4\">\r\n     <g id=\"line2d_9\">\r\n      <g>\r\n       <use style=\"stroke:#000000;stroke-width:0.8;\" x=\"100.1875\" xlink:href=\"#mb7862b3b67\" y=\"174.526125\"/>\r\n      </g>\r\n     </g>\r\n     <g id=\"text_9\">\r\n      <!-- imdbRating -->\r\n      <g transform=\"translate(35.735937 178.325344)scale(0.1 -0.1)\">\r\n       <use xlink:href=\"#DejaVuSans-69\"/>\r\n       <use x=\"27.783203\" xlink:href=\"#DejaVuSans-6d\"/>\r\n       <use x=\"125.195312\" xlink:href=\"#DejaVuSans-64\"/>\r\n       <use x=\"188.671875\" xlink:href=\"#DejaVuSans-62\"/>\r\n       <use x=\"252.148438\" xlink:href=\"#DejaVuSans-52\"/>\r\n       <use x=\"319.380859\" xlink:href=\"#DejaVuSans-61\"/>\r\n       <use x=\"380.660156\" xlink:href=\"#DejaVuSans-74\"/>\r\n       <use x=\"419.869141\" xlink:href=\"#DejaVuSans-69\"/>\r\n       <use x=\"447.652344\" xlink:href=\"#DejaVuSans-6e\"/>\r\n       <use x=\"511.03125\" xlink:href=\"#DejaVuSans-67\"/>\r\n      </g>\r\n     </g>\r\n    </g>\r\n    <g id=\"ytick_5\">\r\n     <g id=\"line2d_10\">\r\n      <g>\r\n       <use style=\"stroke:#000000;stroke-width:0.8;\" x=\"100.1875\" xlink:href=\"#mb7862b3b67\" y=\"218.014125\"/>\r\n      </g>\r\n     </g>\r\n     <g id=\"text_10\">\r\n      <!-- Metascore -->\r\n      <g transform=\"translate(41.492188 221.813344)scale(0.1 -0.1)\">\r\n       <use xlink:href=\"#DejaVuSans-4d\"/>\r\n       <use x=\"86.279297\" xlink:href=\"#DejaVuSans-65\"/>\r\n       <use x=\"147.802734\" xlink:href=\"#DejaVuSans-74\"/>\r\n       <use x=\"187.011719\" xlink:href=\"#DejaVuSans-61\"/>\r\n       <use x=\"248.291016\" xlink:href=\"#DejaVuSans-73\"/>\r\n       <use x=\"300.390625\" xlink:href=\"#DejaVuSans-63\"/>\r\n       <use x=\"355.371094\" xlink:href=\"#DejaVuSans-6f\"/>\r\n       <use x=\"416.552734\" xlink:href=\"#DejaVuSans-72\"/>\r\n       <use x=\"455.416016\" xlink:href=\"#DejaVuSans-65\"/>\r\n      </g>\r\n     </g>\r\n    </g>\r\n   </g>\r\n   <g id=\"text_11\">\r\n    <!-- 1 -->\r\n    <g style=\"fill:#262626;\" transform=\"translate(123.79025 46.8215)scale(0.1 -0.1)\">\r\n     <defs>\r\n      <path d=\"M 794 531 \r\nL 1825 531 \r\nL 1825 4091 \r\nL 703 3866 \r\nL 703 4441 \r\nL 1819 4666 \r\nL 2450 4666 \r\nL 2450 531 \r\nL 3481 531 \r\nL 3481 0 \r\nL 794 0 \r\nL 794 531 \r\nz\r\n\" id=\"DejaVuSans-31\" transform=\"scale(0.015625)\"/>\r\n     </defs>\r\n     <use xlink:href=\"#DejaVuSans-31\"/>\r\n    </g>\r\n   </g>\r\n   <g id=\"text_12\">\r\n    <!-- 0.013 -->\r\n    <g style=\"fill:#ffffff;\" transform=\"translate(166.225438 46.8215)scale(0.1 -0.1)\">\r\n     <defs>\r\n      <path d=\"M 2034 4250 \r\nQ 1547 4250 1301 3770 \r\nQ 1056 3291 1056 2328 \r\nQ 1056 1369 1301 889 \r\nQ 1547 409 2034 409 \r\nQ 2525 409 2770 889 \r\nQ 3016 1369 3016 2328 \r\nQ 3016 3291 2770 3770 \r\nQ 2525 4250 2034 4250 \r\nz\r\nM 2034 4750 \r\nQ 2819 4750 3233 4129 \r\nQ 3647 3509 3647 2328 \r\nQ 3647 1150 3233 529 \r\nQ 2819 -91 2034 -91 \r\nQ 1250 -91 836 529 \r\nQ 422 1150 422 2328 \r\nQ 422 3509 836 4129 \r\nQ 1250 4750 2034 4750 \r\nz\r\n\" id=\"DejaVuSans-30\" transform=\"scale(0.015625)\"/>\r\n      <path d=\"M 684 794 \r\nL 1344 794 \r\nL 1344 0 \r\nL 684 0 \r\nL 684 794 \r\nz\r\n\" id=\"DejaVuSans-2e\" transform=\"scale(0.015625)\"/>\r\n      <path d=\"M 2597 2516 \r\nQ 3050 2419 3304 2112 \r\nQ 3559 1806 3559 1356 \r\nQ 3559 666 3084 287 \r\nQ 2609 -91 1734 -91 \r\nQ 1441 -91 1130 -33 \r\nQ 819 25 488 141 \r\nL 488 750 \r\nQ 750 597 1062 519 \r\nQ 1375 441 1716 441 \r\nQ 2309 441 2620 675 \r\nQ 2931 909 2931 1356 \r\nQ 2931 1769 2642 2001 \r\nQ 2353 2234 1838 2234 \r\nL 1294 2234 \r\nL 1294 2753 \r\nL 1863 2753 \r\nQ 2328 2753 2575 2939 \r\nQ 2822 3125 2822 3475 \r\nQ 2822 3834 2567 4026 \r\nQ 2313 4219 1838 4219 \r\nQ 1578 4219 1281 4162 \r\nQ 984 4106 628 3988 \r\nL 628 4550 \r\nQ 988 4650 1302 4700 \r\nQ 1616 4750 1894 4750 \r\nQ 2613 4750 3031 4423 \r\nQ 3450 4097 3450 3541 \r\nQ 3450 3153 3228 2886 \r\nQ 3006 2619 2597 2516 \r\nz\r\n\" id=\"DejaVuSans-33\" transform=\"scale(0.015625)\"/>\r\n     </defs>\r\n     <use xlink:href=\"#DejaVuSans-30\"/>\r\n     <use x=\"63.623047\" xlink:href=\"#DejaVuSans-2e\"/>\r\n     <use x=\"95.410156\" xlink:href=\"#DejaVuSans-30\"/>\r\n     <use x=\"159.033203\" xlink:href=\"#DejaVuSans-31\"/>\r\n     <use x=\"222.65625\" xlink:href=\"#DejaVuSans-33\"/>\r\n    </g>\r\n   </g>\r\n   <g id=\"text_13\">\r\n    <!-- 0.014 -->\r\n    <g style=\"fill:#ffffff;\" transform=\"translate(219.793438 46.8215)scale(0.1 -0.1)\">\r\n     <defs>\r\n      <path d=\"M 2419 4116 \r\nL 825 1625 \r\nL 2419 1625 \r\nL 2419 4116 \r\nz\r\nM 2253 4666 \r\nL 3047 4666 \r\nL 3047 1625 \r\nL 3713 1625 \r\nL 3713 1100 \r\nL 3047 1100 \r\nL 3047 0 \r\nL 2419 0 \r\nL 2419 1100 \r\nL 313 1100 \r\nL 313 1709 \r\nL 2253 4666 \r\nz\r\n\" id=\"DejaVuSans-34\" transform=\"scale(0.015625)\"/>\r\n     </defs>\r\n     <use xlink:href=\"#DejaVuSans-30\"/>\r\n     <use x=\"63.623047\" xlink:href=\"#DejaVuSans-2e\"/>\r\n     <use x=\"95.410156\" xlink:href=\"#DejaVuSans-30\"/>\r\n     <use x=\"159.033203\" xlink:href=\"#DejaVuSans-31\"/>\r\n     <use x=\"222.65625\" xlink:href=\"#DejaVuSans-34\"/>\r\n    </g>\r\n   </g>\r\n   <g id=\"text_14\">\r\n    <!-- 0.004 -->\r\n    <g style=\"fill:#ffffff;\" transform=\"translate(273.361438 46.8215)scale(0.1 -0.1)\">\r\n     <use xlink:href=\"#DejaVuSans-30\"/>\r\n     <use x=\"63.623047\" xlink:href=\"#DejaVuSans-2e\"/>\r\n     <use x=\"95.410156\" xlink:href=\"#DejaVuSans-30\"/>\r\n     <use x=\"159.033203\" xlink:href=\"#DejaVuSans-30\"/>\r\n     <use x=\"222.65625\" xlink:href=\"#DejaVuSans-34\"/>\r\n    </g>\r\n   </g>\r\n   <g id=\"text_15\">\r\n    <!-- 0.053 -->\r\n    <g style=\"fill:#ffffff;\" transform=\"translate(326.929438 46.8215)scale(0.1 -0.1)\">\r\n     <defs>\r\n      <path d=\"M 691 4666 \r\nL 3169 4666 \r\nL 3169 4134 \r\nL 1269 4134 \r\nL 1269 2991 \r\nQ 1406 3038 1543 3061 \r\nQ 1681 3084 1819 3084 \r\nQ 2600 3084 3056 2656 \r\nQ 3513 2228 3513 1497 \r\nQ 3513 744 3044 326 \r\nQ 2575 -91 1722 -91 \r\nQ 1428 -91 1123 -41 \r\nQ 819 9 494 109 \r\nL 494 744 \r\nQ 775 591 1075 516 \r\nQ 1375 441 1709 441 \r\nQ 2250 441 2565 725 \r\nQ 2881 1009 2881 1497 \r\nQ 2881 1984 2565 2268 \r\nQ 2250 2553 1709 2553 \r\nQ 1456 2553 1204 2497 \r\nQ 953 2441 691 2322 \r\nL 691 4666 \r\nz\r\n\" id=\"DejaVuSans-35\" transform=\"scale(0.015625)\"/>\r\n     </defs>\r\n     <use xlink:href=\"#DejaVuSans-30\"/>\r\n     <use x=\"63.623047\" xlink:href=\"#DejaVuSans-2e\"/>\r\n     <use x=\"95.410156\" xlink:href=\"#DejaVuSans-30\"/>\r\n     <use x=\"159.033203\" xlink:href=\"#DejaVuSans-35\"/>\r\n     <use x=\"222.65625\" xlink:href=\"#DejaVuSans-33\"/>\r\n    </g>\r\n   </g>\r\n   <g id=\"text_16\">\r\n    <!-- 0.013 -->\r\n    <g style=\"fill:#ffffff;\" transform=\"translate(112.657438 90.3095)scale(0.1 -0.1)\">\r\n     <use xlink:href=\"#DejaVuSans-30\"/>\r\n     <use x=\"63.623047\" xlink:href=\"#DejaVuSans-2e\"/>\r\n     <use x=\"95.410156\" xlink:href=\"#DejaVuSans-30\"/>\r\n     <use x=\"159.033203\" xlink:href=\"#DejaVuSans-31\"/>\r\n     <use x=\"222.65625\" xlink:href=\"#DejaVuSans-33\"/>\r\n    </g>\r\n   </g>\r\n   <g id=\"text_17\">\r\n    <!-- 1 -->\r\n    <g style=\"fill:#262626;\" transform=\"translate(177.35825 90.3095)scale(0.1 -0.1)\">\r\n     <use xlink:href=\"#DejaVuSans-31\"/>\r\n    </g>\r\n   </g>\r\n   <g id=\"text_18\">\r\n    <!-- 0.32 -->\r\n    <g style=\"fill:#ffffff;\" transform=\"translate(222.974688 90.3095)scale(0.1 -0.1)\">\r\n     <defs>\r\n      <path d=\"M 1228 531 \r\nL 3431 531 \r\nL 3431 0 \r\nL 469 0 \r\nL 469 531 \r\nQ 828 903 1448 1529 \r\nQ 2069 2156 2228 2338 \r\nQ 2531 2678 2651 2914 \r\nQ 2772 3150 2772 3378 \r\nQ 2772 3750 2511 3984 \r\nQ 2250 4219 1831 4219 \r\nQ 1534 4219 1204 4116 \r\nQ 875 4013 500 3803 \r\nL 500 4441 \r\nQ 881 4594 1212 4672 \r\nQ 1544 4750 1819 4750 \r\nQ 2544 4750 2975 4387 \r\nQ 3406 4025 3406 3419 \r\nQ 3406 3131 3298 2873 \r\nQ 3191 2616 2906 2266 \r\nQ 2828 2175 2409 1742 \r\nQ 1991 1309 1228 531 \r\nz\r\n\" id=\"DejaVuSans-32\" transform=\"scale(0.015625)\"/>\r\n     </defs>\r\n     <use xlink:href=\"#DejaVuSans-30\"/>\r\n     <use x=\"63.623047\" xlink:href=\"#DejaVuSans-2e\"/>\r\n     <use x=\"95.410156\" xlink:href=\"#DejaVuSans-33\"/>\r\n     <use x=\"159.033203\" xlink:href=\"#DejaVuSans-32\"/>\r\n    </g>\r\n   </g>\r\n   <g id=\"text_19\">\r\n    <!-- 0.69 -->\r\n    <g style=\"fill:#ffffff;\" transform=\"translate(276.542688 90.3095)scale(0.1 -0.1)\">\r\n     <defs>\r\n      <path d=\"M 2113 2584 \r\nQ 1688 2584 1439 2293 \r\nQ 1191 2003 1191 1497 \r\nQ 1191 994 1439 701 \r\nQ 1688 409 2113 409 \r\nQ 2538 409 2786 701 \r\nQ 3034 994 3034 1497 \r\nQ 3034 2003 2786 2293 \r\nQ 2538 2584 2113 2584 \r\nz\r\nM 3366 4563 \r\nL 3366 3988 \r\nQ 3128 4100 2886 4159 \r\nQ 2644 4219 2406 4219 \r\nQ 1781 4219 1451 3797 \r\nQ 1122 3375 1075 2522 \r\nQ 1259 2794 1537 2939 \r\nQ 1816 3084 2150 3084 \r\nQ 2853 3084 3261 2657 \r\nQ 3669 2231 3669 1497 \r\nQ 3669 778 3244 343 \r\nQ 2819 -91 2113 -91 \r\nQ 1303 -91 875 529 \r\nQ 447 1150 447 2328 \r\nQ 447 3434 972 4092 \r\nQ 1497 4750 2381 4750 \r\nQ 2619 4750 2861 4703 \r\nQ 3103 4656 3366 4563 \r\nz\r\n\" id=\"DejaVuSans-36\" transform=\"scale(0.015625)\"/>\r\n      <path d=\"M 703 97 \r\nL 703 672 \r\nQ 941 559 1184 500 \r\nQ 1428 441 1663 441 \r\nQ 2288 441 2617 861 \r\nQ 2947 1281 2994 2138 \r\nQ 2813 1869 2534 1725 \r\nQ 2256 1581 1919 1581 \r\nQ 1219 1581 811 2004 \r\nQ 403 2428 403 3163 \r\nQ 403 3881 828 4315 \r\nQ 1253 4750 1959 4750 \r\nQ 2769 4750 3195 4129 \r\nQ 3622 3509 3622 2328 \r\nQ 3622 1225 3098 567 \r\nQ 2575 -91 1691 -91 \r\nQ 1453 -91 1209 -44 \r\nQ 966 3 703 97 \r\nz\r\nM 1959 2075 \r\nQ 2384 2075 2632 2365 \r\nQ 2881 2656 2881 3163 \r\nQ 2881 3666 2632 3958 \r\nQ 2384 4250 1959 4250 \r\nQ 1534 4250 1286 3958 \r\nQ 1038 3666 1038 3163 \r\nQ 1038 2656 1286 2365 \r\nQ 1534 2075 1959 2075 \r\nz\r\n\" id=\"DejaVuSans-39\" transform=\"scale(0.015625)\"/>\r\n     </defs>\r\n     <use xlink:href=\"#DejaVuSans-30\"/>\r\n     <use x=\"63.623047\" xlink:href=\"#DejaVuSans-2e\"/>\r\n     <use x=\"95.410156\" xlink:href=\"#DejaVuSans-36\"/>\r\n     <use x=\"159.033203\" xlink:href=\"#DejaVuSans-39\"/>\r\n    </g>\r\n   </g>\r\n   <g id=\"text_20\">\r\n    <!-- 0.5 -->\r\n    <g style=\"fill:#ffffff;\" transform=\"translate(333.291938 90.3095)scale(0.1 -0.1)\">\r\n     <use xlink:href=\"#DejaVuSans-30\"/>\r\n     <use x=\"63.623047\" xlink:href=\"#DejaVuSans-2e\"/>\r\n     <use x=\"95.410156\" xlink:href=\"#DejaVuSans-35\"/>\r\n    </g>\r\n   </g>\r\n   <g id=\"text_21\">\r\n    <!-- 0.014 -->\r\n    <g style=\"fill:#ffffff;\" transform=\"translate(112.657438 133.7975)scale(0.1 -0.1)\">\r\n     <use xlink:href=\"#DejaVuSans-30\"/>\r\n     <use x=\"63.623047\" xlink:href=\"#DejaVuSans-2e\"/>\r\n     <use x=\"95.410156\" xlink:href=\"#DejaVuSans-30\"/>\r\n     <use x=\"159.033203\" xlink:href=\"#DejaVuSans-31\"/>\r\n     <use x=\"222.65625\" xlink:href=\"#DejaVuSans-34\"/>\r\n    </g>\r\n   </g>\r\n   <g id=\"text_22\">\r\n    <!-- 0.32 -->\r\n    <g style=\"fill:#ffffff;\" transform=\"translate(169.406688 133.7975)scale(0.1 -0.1)\">\r\n     <use xlink:href=\"#DejaVuSans-30\"/>\r\n     <use x=\"63.623047\" xlink:href=\"#DejaVuSans-2e\"/>\r\n     <use x=\"95.410156\" xlink:href=\"#DejaVuSans-33\"/>\r\n     <use x=\"159.033203\" xlink:href=\"#DejaVuSans-32\"/>\r\n    </g>\r\n   </g>\r\n   <g id=\"text_23\">\r\n    <!-- 1 -->\r\n    <g style=\"fill:#262626;\" transform=\"translate(230.92625 133.7975)scale(0.1 -0.1)\">\r\n     <use xlink:href=\"#DejaVuSans-31\"/>\r\n    </g>\r\n   </g>\r\n   <g id=\"text_24\">\r\n    <!-- 0.19 -->\r\n    <g style=\"fill:#ffffff;\" transform=\"translate(276.542688 133.7975)scale(0.1 -0.1)\">\r\n     <use xlink:href=\"#DejaVuSans-30\"/>\r\n     <use x=\"63.623047\" xlink:href=\"#DejaVuSans-2e\"/>\r\n     <use x=\"95.410156\" xlink:href=\"#DejaVuSans-31\"/>\r\n     <use x=\"159.033203\" xlink:href=\"#DejaVuSans-39\"/>\r\n    </g>\r\n   </g>\r\n   <g id=\"text_25\">\r\n    <!-- 0.098 -->\r\n    <g style=\"fill:#ffffff;\" transform=\"translate(326.929438 133.7975)scale(0.1 -0.1)\">\r\n     <defs>\r\n      <path d=\"M 2034 2216 \r\nQ 1584 2216 1326 1975 \r\nQ 1069 1734 1069 1313 \r\nQ 1069 891 1326 650 \r\nQ 1584 409 2034 409 \r\nQ 2484 409 2743 651 \r\nQ 3003 894 3003 1313 \r\nQ 3003 1734 2745 1975 \r\nQ 2488 2216 2034 2216 \r\nz\r\nM 1403 2484 \r\nQ 997 2584 770 2862 \r\nQ 544 3141 544 3541 \r\nQ 544 4100 942 4425 \r\nQ 1341 4750 2034 4750 \r\nQ 2731 4750 3128 4425 \r\nQ 3525 4100 3525 3541 \r\nQ 3525 3141 3298 2862 \r\nQ 3072 2584 2669 2484 \r\nQ 3125 2378 3379 2068 \r\nQ 3634 1759 3634 1313 \r\nQ 3634 634 3220 271 \r\nQ 2806 -91 2034 -91 \r\nQ 1263 -91 848 271 \r\nQ 434 634 434 1313 \r\nQ 434 1759 690 2068 \r\nQ 947 2378 1403 2484 \r\nz\r\nM 1172 3481 \r\nQ 1172 3119 1398 2916 \r\nQ 1625 2713 2034 2713 \r\nQ 2441 2713 2670 2916 \r\nQ 2900 3119 2900 3481 \r\nQ 2900 3844 2670 4047 \r\nQ 2441 4250 2034 4250 \r\nQ 1625 4250 1398 4047 \r\nQ 1172 3844 1172 3481 \r\nz\r\n\" id=\"DejaVuSans-38\" transform=\"scale(0.015625)\"/>\r\n     </defs>\r\n     <use xlink:href=\"#DejaVuSans-30\"/>\r\n     <use x=\"63.623047\" xlink:href=\"#DejaVuSans-2e\"/>\r\n     <use x=\"95.410156\" xlink:href=\"#DejaVuSans-30\"/>\r\n     <use x=\"159.033203\" xlink:href=\"#DejaVuSans-39\"/>\r\n     <use x=\"222.65625\" xlink:href=\"#DejaVuSans-38\"/>\r\n    </g>\r\n   </g>\r\n   <g id=\"text_26\">\r\n    <!-- 0.004 -->\r\n    <g style=\"fill:#ffffff;\" transform=\"translate(112.657438 177.2855)scale(0.1 -0.1)\">\r\n     <use xlink:href=\"#DejaVuSans-30\"/>\r\n     <use x=\"63.623047\" xlink:href=\"#DejaVuSans-2e\"/>\r\n     <use x=\"95.410156\" xlink:href=\"#DejaVuSans-30\"/>\r\n     <use x=\"159.033203\" xlink:href=\"#DejaVuSans-30\"/>\r\n     <use x=\"222.65625\" xlink:href=\"#DejaVuSans-34\"/>\r\n    </g>\r\n   </g>\r\n   <g id=\"text_27\">\r\n    <!-- 0.69 -->\r\n    <g style=\"fill:#ffffff;\" transform=\"translate(169.406688 177.2855)scale(0.1 -0.1)\">\r\n     <use xlink:href=\"#DejaVuSans-30\"/>\r\n     <use x=\"63.623047\" xlink:href=\"#DejaVuSans-2e\"/>\r\n     <use x=\"95.410156\" xlink:href=\"#DejaVuSans-36\"/>\r\n     <use x=\"159.033203\" xlink:href=\"#DejaVuSans-39\"/>\r\n    </g>\r\n   </g>\r\n   <g id=\"text_28\">\r\n    <!-- 0.19 -->\r\n    <g style=\"fill:#ffffff;\" transform=\"translate(222.974688 177.2855)scale(0.1 -0.1)\">\r\n     <use xlink:href=\"#DejaVuSans-30\"/>\r\n     <use x=\"63.623047\" xlink:href=\"#DejaVuSans-2e\"/>\r\n     <use x=\"95.410156\" xlink:href=\"#DejaVuSans-31\"/>\r\n     <use x=\"159.033203\" xlink:href=\"#DejaVuSans-39\"/>\r\n    </g>\r\n   </g>\r\n   <g id=\"text_29\">\r\n    <!-- 1 -->\r\n    <g style=\"fill:#262626;\" transform=\"translate(284.49425 177.2855)scale(0.1 -0.1)\">\r\n     <use xlink:href=\"#DejaVuSans-31\"/>\r\n    </g>\r\n   </g>\r\n   <g id=\"text_30\">\r\n    <!-- 0.76 -->\r\n    <g style=\"fill:#ffffff;\" transform=\"translate(330.110688 177.2855)scale(0.1 -0.1)\">\r\n     <defs>\r\n      <path d=\"M 525 4666 \r\nL 3525 4666 \r\nL 3525 4397 \r\nL 1831 0 \r\nL 1172 0 \r\nL 2766 4134 \r\nL 525 4134 \r\nL 525 4666 \r\nz\r\n\" id=\"DejaVuSans-37\" transform=\"scale(0.015625)\"/>\r\n     </defs>\r\n     <use xlink:href=\"#DejaVuSans-30\"/>\r\n     <use x=\"63.623047\" xlink:href=\"#DejaVuSans-2e\"/>\r\n     <use x=\"95.410156\" xlink:href=\"#DejaVuSans-37\"/>\r\n     <use x=\"159.033203\" xlink:href=\"#DejaVuSans-36\"/>\r\n    </g>\r\n   </g>\r\n   <g id=\"text_31\">\r\n    <!-- 0.053 -->\r\n    <g style=\"fill:#ffffff;\" transform=\"translate(112.657438 220.7735)scale(0.1 -0.1)\">\r\n     <use xlink:href=\"#DejaVuSans-30\"/>\r\n     <use x=\"63.623047\" xlink:href=\"#DejaVuSans-2e\"/>\r\n     <use x=\"95.410156\" xlink:href=\"#DejaVuSans-30\"/>\r\n     <use x=\"159.033203\" xlink:href=\"#DejaVuSans-35\"/>\r\n     <use x=\"222.65625\" xlink:href=\"#DejaVuSans-33\"/>\r\n    </g>\r\n   </g>\r\n   <g id=\"text_32\">\r\n    <!-- 0.5 -->\r\n    <g style=\"fill:#ffffff;\" transform=\"translate(172.587938 220.7735)scale(0.1 -0.1)\">\r\n     <use xlink:href=\"#DejaVuSans-30\"/>\r\n     <use x=\"63.623047\" xlink:href=\"#DejaVuSans-2e\"/>\r\n     <use x=\"95.410156\" xlink:href=\"#DejaVuSans-35\"/>\r\n    </g>\r\n   </g>\r\n   <g id=\"text_33\">\r\n    <!-- 0.098 -->\r\n    <g style=\"fill:#ffffff;\" transform=\"translate(219.793438 220.7735)scale(0.1 -0.1)\">\r\n     <use xlink:href=\"#DejaVuSans-30\"/>\r\n     <use x=\"63.623047\" xlink:href=\"#DejaVuSans-2e\"/>\r\n     <use x=\"95.410156\" xlink:href=\"#DejaVuSans-30\"/>\r\n     <use x=\"159.033203\" xlink:href=\"#DejaVuSans-39\"/>\r\n     <use x=\"222.65625\" xlink:href=\"#DejaVuSans-38\"/>\r\n    </g>\r\n   </g>\r\n   <g id=\"text_34\">\r\n    <!-- 0.76 -->\r\n    <g style=\"fill:#ffffff;\" transform=\"translate(276.542688 220.7735)scale(0.1 -0.1)\">\r\n     <use xlink:href=\"#DejaVuSans-30\"/>\r\n     <use x=\"63.623047\" xlink:href=\"#DejaVuSans-2e\"/>\r\n     <use x=\"95.410156\" xlink:href=\"#DejaVuSans-37\"/>\r\n     <use x=\"159.033203\" xlink:href=\"#DejaVuSans-36\"/>\r\n    </g>\r\n   </g>\r\n   <g id=\"text_35\">\r\n    <!-- 1 -->\r\n    <g style=\"fill:#262626;\" transform=\"translate(338.06225 220.7735)scale(0.1 -0.1)\">\r\n     <use xlink:href=\"#DejaVuSans-31\"/>\r\n    </g>\r\n   </g>\r\n   <g id=\"text_36\">\r\n    <!-- expanse Heatmap -->\r\n    <g transform=\"translate(179.393125 16.318125)scale(0.12 -0.12)\">\r\n     <defs>\r\n      <path d=\"M 1159 525 \r\nL 1159 -1331 \r\nL 581 -1331 \r\nL 581 3500 \r\nL 1159 3500 \r\nL 1159 2969 \r\nQ 1341 3281 1617 3432 \r\nQ 1894 3584 2278 3584 \r\nQ 2916 3584 3314 3078 \r\nQ 3713 2572 3713 1747 \r\nQ 3713 922 3314 415 \r\nQ 2916 -91 2278 -91 \r\nQ 1894 -91 1617 61 \r\nQ 1341 213 1159 525 \r\nz\r\nM 3116 1747 \r\nQ 3116 2381 2855 2742 \r\nQ 2594 3103 2138 3103 \r\nQ 1681 3103 1420 2742 \r\nQ 1159 2381 1159 1747 \r\nQ 1159 1113 1420 752 \r\nQ 1681 391 2138 391 \r\nQ 2594 391 2855 752 \r\nQ 3116 1113 3116 1747 \r\nz\r\n\" id=\"DejaVuSans-70\" transform=\"scale(0.015625)\"/>\r\n      <path id=\"DejaVuSans-20\" transform=\"scale(0.015625)\"/>\r\n      <path d=\"M 628 4666 \r\nL 1259 4666 \r\nL 1259 2753 \r\nL 3553 2753 \r\nL 3553 4666 \r\nL 4184 4666 \r\nL 4184 0 \r\nL 3553 0 \r\nL 3553 2222 \r\nL 1259 2222 \r\nL 1259 0 \r\nL 628 0 \r\nL 628 4666 \r\nz\r\n\" id=\"DejaVuSans-48\" transform=\"scale(0.015625)\"/>\r\n     </defs>\r\n     <use xlink:href=\"#DejaVuSans-65\"/>\r\n     <use x=\"59.773438\" xlink:href=\"#DejaVuSans-78\"/>\r\n     <use x=\"118.953125\" xlink:href=\"#DejaVuSans-70\"/>\r\n     <use x=\"182.429688\" xlink:href=\"#DejaVuSans-61\"/>\r\n     <use x=\"243.708984\" xlink:href=\"#DejaVuSans-6e\"/>\r\n     <use x=\"307.087891\" xlink:href=\"#DejaVuSans-73\"/>\r\n     <use x=\"359.1875\" xlink:href=\"#DejaVuSans-65\"/>\r\n     <use x=\"420.710938\" xlink:href=\"#DejaVuSans-20\"/>\r\n     <use x=\"452.498047\" xlink:href=\"#DejaVuSans-48\"/>\r\n     <use x=\"527.693359\" xlink:href=\"#DejaVuSans-65\"/>\r\n     <use x=\"589.216797\" xlink:href=\"#DejaVuSans-61\"/>\r\n     <use x=\"650.496094\" xlink:href=\"#DejaVuSans-74\"/>\r\n     <use x=\"689.705078\" xlink:href=\"#DejaVuSans-6d\"/>\r\n     <use x=\"787.117188\" xlink:href=\"#DejaVuSans-61\"/>\r\n     <use x=\"848.396484\" xlink:href=\"#DejaVuSans-70\"/>\r\n    </g>\r\n   </g>\r\n  </g>\r\n  <g id=\"axes_2\">\r\n   <g id=\"patch_3\">\r\n    <path d=\"M 384.7675 239.758125 \r\nL 395.6395 239.758125 \r\nL 395.6395 22.318125 \r\nL 384.7675 22.318125 \r\nz\r\n\" style=\"fill:#ffffff;\"/>\r\n   </g>\r\n   <g id=\"patch_4\">\r\n    <path clip-path=\"url(#p264dc84eee)\" d=\"M 384.7675 239.758125 \r\nL 384.7675 238.90875 \r\nL 384.7675 23.1675 \r\nL 384.7675 22.318125 \r\nL 395.6395 22.318125 \r\nL 395.6395 23.1675 \r\nL 395.6395 238.90875 \r\nL 395.6395 239.758125 \r\nL 395.6395 239.758125 \r\nz\r\n\" style=\"fill:#ffffff;stroke:#ffffff;stroke-linejoin:miter;stroke-width:0.01;\"/>\r\n   </g>\r\n   <image height=\"218\" id=\"imagef902e81985\" transform=\"scale(1 -1)translate(0 -218)\" width=\"11\" x=\"385\" xlink:href=\"data:image/png;base64,\r\niVBORw0KGgoAAAANSUhEUgAAAAsAAADaCAYAAABwzrisAAABZUlEQVR4nN3ay40CMRAE0G7bJEH+cTKk0O9QkoFzqVQ/e3YHer/eTw0/p6fIqjrdc7iBVy8Bi4wiGTGDImMvSCMnw+qOGcxpRmYphdL4xfHHmHf9+/ipbsqZDI6h0W3k0rCJjqHZmz9Xt2mefyznE2zwivFTdFR3bs+56JJ1gwyrOyYDTzcwBw2O/5fwNIg5droJLGmgwZSMYBoC3rEh3ZKGbWOODp5BS+MBzTj+VBpNzHNivutABmoWMPQdjG6vj8gA5tWSs4CJecFGVfMYmzTYZBCu/qjmMVZlkEGJzsC0DZMBzMk0QEbltkHgk2KG92RRZrihT8MTyGSUMOdkNDwJTbMZlFcWORnyZ6CWImB5x2g5i8FLNJd8+WLMm+qOybgkOkkjWIqlIV++BA0K2O46YhbwmT/pk5pzBm38lEZMRi4NMnhHKd2xA3tLGmIwVncw59xJsTReIRn0K4tbhmTb+DmDX11HLCc1FnG4AAAAAElFTkSuQmCC\" y=\"-21\"/>\r\n   <g id=\"matplotlib.axis_3\"/>\r\n   <g id=\"matplotlib.axis_4\">\r\n    <g id=\"ytick_6\">\r\n     <g id=\"line2d_11\">\r\n      <defs>\r\n       <path d=\"M 0 0 \r\nL 3.5 0 \r\n\" id=\"m0b7b3a4099\" style=\"stroke:#000000;stroke-width:0.8;\"/>\r\n      </defs>\r\n      <g>\r\n       <use style=\"stroke:#000000;stroke-width:0.8;\" x=\"395.6395\" xlink:href=\"#m0b7b3a4099\" y=\"196.974391\"/>\r\n      </g>\r\n     </g>\r\n     <g id=\"text_37\">\r\n      <!-- 0.2 -->\r\n      <g transform=\"translate(402.6395 200.77361)scale(0.1 -0.1)\">\r\n       <use xlink:href=\"#DejaVuSans-30\"/>\r\n       <use x=\"63.623047\" xlink:href=\"#DejaVuSans-2e\"/>\r\n       <use x=\"95.410156\" xlink:href=\"#DejaVuSans-32\"/>\r\n      </g>\r\n     </g>\r\n    </g>\r\n    <g id=\"ytick_7\">\r\n     <g id=\"line2d_12\">\r\n      <g>\r\n       <use style=\"stroke:#000000;stroke-width:0.8;\" x=\"395.6395\" xlink:href=\"#m0b7b3a4099\" y=\"153.310325\"/>\r\n      </g>\r\n     </g>\r\n     <g id=\"text_38\">\r\n      <!-- 0.4 -->\r\n      <g transform=\"translate(402.6395 157.109543)scale(0.1 -0.1)\">\r\n       <use xlink:href=\"#DejaVuSans-30\"/>\r\n       <use x=\"63.623047\" xlink:href=\"#DejaVuSans-2e\"/>\r\n       <use x=\"95.410156\" xlink:href=\"#DejaVuSans-34\"/>\r\n      </g>\r\n     </g>\r\n    </g>\r\n    <g id=\"ytick_8\">\r\n     <g id=\"line2d_13\">\r\n      <g>\r\n       <use style=\"stroke:#000000;stroke-width:0.8;\" x=\"395.6395\" xlink:href=\"#m0b7b3a4099\" y=\"109.646258\"/>\r\n      </g>\r\n     </g>\r\n     <g id=\"text_39\">\r\n      <!-- 0.6 -->\r\n      <g transform=\"translate(402.6395 113.445477)scale(0.1 -0.1)\">\r\n       <use xlink:href=\"#DejaVuSans-30\"/>\r\n       <use x=\"63.623047\" xlink:href=\"#DejaVuSans-2e\"/>\r\n       <use x=\"95.410156\" xlink:href=\"#DejaVuSans-36\"/>\r\n      </g>\r\n     </g>\r\n    </g>\r\n    <g id=\"ytick_9\">\r\n     <g id=\"line2d_14\">\r\n      <g>\r\n       <use style=\"stroke:#000000;stroke-width:0.8;\" x=\"395.6395\" xlink:href=\"#m0b7b3a4099\" y=\"65.982192\"/>\r\n      </g>\r\n     </g>\r\n     <g id=\"text_40\">\r\n      <!-- 0.8 -->\r\n      <g transform=\"translate(402.6395 69.78141)scale(0.1 -0.1)\">\r\n       <use xlink:href=\"#DejaVuSans-30\"/>\r\n       <use x=\"63.623047\" xlink:href=\"#DejaVuSans-2e\"/>\r\n       <use x=\"95.410156\" xlink:href=\"#DejaVuSans-38\"/>\r\n      </g>\r\n     </g>\r\n    </g>\r\n    <g id=\"ytick_10\">\r\n     <g id=\"line2d_15\">\r\n      <g>\r\n       <use style=\"stroke:#000000;stroke-width:0.8;\" x=\"395.6395\" xlink:href=\"#m0b7b3a4099\" y=\"22.318125\"/>\r\n      </g>\r\n     </g>\r\n     <g id=\"text_41\">\r\n      <!-- 1.0 -->\r\n      <g transform=\"translate(402.6395 26.117344)scale(0.1 -0.1)\">\r\n       <use xlink:href=\"#DejaVuSans-31\"/>\r\n       <use x=\"63.623047\" xlink:href=\"#DejaVuSans-2e\"/>\r\n       <use x=\"95.410156\" xlink:href=\"#DejaVuSans-30\"/>\r\n      </g>\r\n     </g>\r\n    </g>\r\n   </g>\r\n   <g id=\"LineCollection_1\"/>\r\n   <g id=\"patch_5\">\r\n    <path d=\"M 384.7675 239.758125 \r\nL 384.7675 238.90875 \r\nL 384.7675 23.1675 \r\nL 384.7675 22.318125 \r\nL 395.6395 22.318125 \r\nL 395.6395 23.1675 \r\nL 395.6395 238.90875 \r\nL 395.6395 239.758125 \r\nz\r\n\" style=\"fill:none;\"/>\r\n   </g>\r\n  </g>\r\n </g>\r\n <defs>\r\n  <clipPath id=\"p5e56222797\">\r\n   <rect height=\"217.44\" width=\"267.84\" x=\"100.1875\" y=\"22.318125\"/>\r\n  </clipPath>\r\n  <clipPath id=\"p264dc84eee\">\r\n   <rect height=\"217.44\" width=\"10.872\" x=\"384.7675\" y=\"22.318125\"/>\r\n  </clipPath>\r\n </defs>\r\n</svg>\r\n",
      "image/png": "[encoded data removed]"
     },
     "metadata": {
      "needs_background": "light"
     }
    }
   ],
   "source": [
    "viz.heatmap(data='expanse', save=reports)"
   ]
  },
  {
   "source": [
    "### 5.6 WORD STATS Heatmap"
   ],
   "cell_type": "markdown",
   "metadata": {}
  },
  {
   "cell_type": "code",
   "execution_count": 10,
   "metadata": {},
   "outputs": [
    {
     "output_type": "display_data",
     "data": {
      "text/plain": "<Figure size 432x288 with 2 Axes>",
      "image/svg+xml": "<?xml version=\"1.0\" encoding=\"utf-8\" standalone=\"no\"?>\r\n<!DOCTYPE svg PUBLIC \"-//W3C//DTD SVG 1.1//EN\"\r\n  \"http://www.w3.org/Graphics/SVG/1.1/DTD/svg11.dtd\">\r\n<svg height=\"333.925313pt\" version=\"1.1\" viewBox=\"0 0 428.102 333.925313\" width=\"428.102pt\" xmlns=\"http://www.w3.org/2000/svg\" xmlns:xlink=\"http://www.w3.org/1999/xlink\">\r\n <metadata>\r\n  <rdf:RDF xmlns:cc=\"http://creativecommons.org/ns#\" xmlns:dc=\"http://purl.org/dc/elements/1.1/\" xmlns:rdf=\"http://www.w3.org/1999/02/22-rdf-syntax-ns#\">\r\n   <cc:Work>\r\n    <dc:type rdf:resource=\"http://purl.org/dc/dcmitype/StillImage\"/>\r\n    <dc:date>2021-06-01T19:39:28.981746</dc:date>\r\n    <dc:format>image/svg+xml</dc:format>\r\n    <dc:creator>\r\n     <cc:Agent>\r\n      <dc:title>Matplotlib v3.4.1, https://matplotlib.org/</dc:title>\r\n     </cc:Agent>\r\n    </dc:creator>\r\n   </cc:Work>\r\n  </rdf:RDF>\r\n </metadata>\r\n <defs>\r\n  <style type=\"text/css\">*{stroke-linecap:butt;stroke-linejoin:round;}</style>\r\n </defs>\r\n <g id=\"figure_1\">\r\n  <g id=\"patch_1\">\r\n   <path d=\"M 0 333.925313 \r\nL 428.102 333.925313 \r\nL 428.102 0 \r\nL 0 0 \r\nz\r\n\" style=\"fill:none;\"/>\r\n  </g>\r\n  <g id=\"axes_1\">\r\n   <g id=\"patch_2\">\r\n    <path d=\"M 94.167188 239.758125 \r\nL 362.007188 239.758125 \r\nL 362.007188 22.318125 \r\nL 94.167188 22.318125 \r\nz\r\n\" style=\"fill:#ffffff;\"/>\r\n   </g>\r\n   <g id=\"QuadMesh_1\">\r\n    <path clip-path=\"url(#p4265adf411)\" d=\"M 94.167188 22.318125 \r\nL 161.127188 22.318125 \r\nL 161.127188 76.678125 \r\nL 94.167188 76.678125 \r\nL 94.167188 22.318125 \r\n\" style=\"fill:#faebdd;\"/>\r\n    <path clip-path=\"url(#p4265adf411)\" d=\"M 161.127188 22.318125 \r\nL 228.087188 22.318125 \r\nL 228.087188 76.678125 \r\nL 161.127188 76.678125 \r\nL 161.127188 22.318125 \r\n\" style=\"fill:#faebdd;\"/>\r\n    <path clip-path=\"url(#p4265adf411)\" d=\"M 228.087188 22.318125 \r\nL 295.047188 22.318125 \r\nL 295.047188 76.678125 \r\nL 228.087188 76.678125 \r\nL 228.087188 22.318125 \r\n\" style=\"fill:#af1759;\"/>\r\n    <path clip-path=\"url(#p4265adf411)\" d=\"M 295.047188 22.318125 \r\nL 362.007188 22.318125 \r\nL 362.007188 76.678125 \r\nL 295.047188 76.678125 \r\nL 295.047188 22.318125 \r\n\" style=\"fill:#04051a;\"/>\r\n    <path clip-path=\"url(#p4265adf411)\" d=\"M 94.167188 76.678125 \r\nL 161.127188 76.678125 \r\nL 161.127188 131.038125 \r\nL 94.167188 131.038125 \r\nL 94.167188 76.678125 \r\n\" style=\"fill:#faebdd;\"/>\r\n    <path clip-path=\"url(#p4265adf411)\" d=\"M 161.127188 76.678125 \r\nL 228.087188 76.678125 \r\nL 228.087188 131.038125 \r\nL 161.127188 131.038125 \r\nL 161.127188 76.678125 \r\n\" style=\"fill:#faebdd;\"/>\r\n    <path clip-path=\"url(#p4265adf411)\" d=\"M 228.087188 76.678125 \r\nL 295.047188 76.678125 \r\nL 295.047188 131.038125 \r\nL 228.087188 131.038125 \r\nL 228.087188 76.678125 \r\n\" style=\"fill:#a8185a;\"/>\r\n    <path clip-path=\"url(#p4265adf411)\" d=\"M 295.047188 76.678125 \r\nL 362.007188 76.678125 \r\nL 362.007188 131.038125 \r\nL 295.047188 131.038125 \r\nL 295.047188 76.678125 \r\n\" style=\"fill:#03051a;\"/>\r\n    <path clip-path=\"url(#p4265adf411)\" d=\"M 94.167188 131.038125 \r\nL 161.127188 131.038125 \r\nL 161.127188 185.398125 \r\nL 94.167188 185.398125 \r\nL 94.167188 131.038125 \r\n\" style=\"fill:#af1759;\"/>\r\n    <path clip-path=\"url(#p4265adf411)\" d=\"M 161.127188 131.038125 \r\nL 228.087188 131.038125 \r\nL 228.087188 185.398125 \r\nL 161.127188 185.398125 \r\nL 161.127188 131.038125 \r\n\" style=\"fill:#a8185a;\"/>\r\n    <path clip-path=\"url(#p4265adf411)\" d=\"M 228.087188 131.038125 \r\nL 295.047188 131.038125 \r\nL 295.047188 185.398125 \r\nL 228.087188 185.398125 \r\nL 228.087188 131.038125 \r\n\" style=\"fill:#faebdd;\"/>\r\n    <path clip-path=\"url(#p4265adf411)\" d=\"M 295.047188 131.038125 \r\nL 362.007188 131.038125 \r\nL 362.007188 185.398125 \r\nL 295.047188 185.398125 \r\nL 295.047188 131.038125 \r\n\" style=\"fill:#781f59;\"/>\r\n    <path clip-path=\"url(#p4265adf411)\" d=\"M 94.167188 185.398125 \r\nL 161.127188 185.398125 \r\nL 161.127188 239.758125 \r\nL 94.167188 239.758125 \r\nL 94.167188 185.398125 \r\n\" style=\"fill:#04051a;\"/>\r\n    <path clip-path=\"url(#p4265adf411)\" d=\"M 161.127188 185.398125 \r\nL 228.087188 185.398125 \r\nL 228.087188 239.758125 \r\nL 161.127188 239.758125 \r\nL 161.127188 185.398125 \r\n\" style=\"fill:#03051a;\"/>\r\n    <path clip-path=\"url(#p4265adf411)\" d=\"M 228.087188 185.398125 \r\nL 295.047188 185.398125 \r\nL 295.047188 239.758125 \r\nL 228.087188 239.758125 \r\nL 228.087188 185.398125 \r\n\" style=\"fill:#781f59;\"/>\r\n    <path clip-path=\"url(#p4265adf411)\" d=\"M 295.047188 185.398125 \r\nL 362.007188 185.398125 \r\nL 362.007188 239.758125 \r\nL 295.047188 239.758125 \r\nL 295.047188 185.398125 \r\n\" style=\"fill:#faebdd;\"/>\r\n   </g>\r\n   <g id=\"matplotlib.axis_1\">\r\n    <g id=\"xtick_1\">\r\n     <g id=\"line2d_1\">\r\n      <defs>\r\n       <path d=\"M 0 0 \r\nL 0 3.5 \r\n\" id=\"m8ee986bf16\" style=\"stroke:#000000;stroke-width:0.8;\"/>\r\n      </defs>\r\n      <g>\r\n       <use style=\"stroke:#000000;stroke-width:0.8;\" x=\"127.647188\" xlink:href=\"#m8ee986bf16\" y=\"239.758125\"/>\r\n      </g>\r\n     </g>\r\n     <g id=\"text_1\">\r\n      <!-- count -->\r\n      <g transform=\"translate(130.406563 274.970625)rotate(-90)scale(0.1 -0.1)\">\r\n       <defs>\r\n        <path d=\"M 3122 3366 \r\nL 3122 2828 \r\nQ 2878 2963 2633 3030 \r\nQ 2388 3097 2138 3097 \r\nQ 1578 3097 1268 2742 \r\nQ 959 2388 959 1747 \r\nQ 959 1106 1268 751 \r\nQ 1578 397 2138 397 \r\nQ 2388 397 2633 464 \r\nQ 2878 531 3122 666 \r\nL 3122 134 \r\nQ 2881 22 2623 -34 \r\nQ 2366 -91 2075 -91 \r\nQ 1284 -91 818 406 \r\nQ 353 903 353 1747 \r\nQ 353 2603 823 3093 \r\nQ 1294 3584 2113 3584 \r\nQ 2378 3584 2631 3529 \r\nQ 2884 3475 3122 3366 \r\nz\r\n\" id=\"DejaVuSans-63\" transform=\"scale(0.015625)\"/>\r\n        <path d=\"M 1959 3097 \r\nQ 1497 3097 1228 2736 \r\nQ 959 2375 959 1747 \r\nQ 959 1119 1226 758 \r\nQ 1494 397 1959 397 \r\nQ 2419 397 2687 759 \r\nQ 2956 1122 2956 1747 \r\nQ 2956 2369 2687 2733 \r\nQ 2419 3097 1959 3097 \r\nz\r\nM 1959 3584 \r\nQ 2709 3584 3137 3096 \r\nQ 3566 2609 3566 1747 \r\nQ 3566 888 3137 398 \r\nQ 2709 -91 1959 -91 \r\nQ 1206 -91 779 398 \r\nQ 353 888 353 1747 \r\nQ 353 2609 779 3096 \r\nQ 1206 3584 1959 3584 \r\nz\r\n\" id=\"DejaVuSans-6f\" transform=\"scale(0.015625)\"/>\r\n        <path d=\"M 544 1381 \r\nL 544 3500 \r\nL 1119 3500 \r\nL 1119 1403 \r\nQ 1119 906 1312 657 \r\nQ 1506 409 1894 409 \r\nQ 2359 409 2629 706 \r\nQ 2900 1003 2900 1516 \r\nL 2900 3500 \r\nL 3475 3500 \r\nL 3475 0 \r\nL 2900 0 \r\nL 2900 538 \r\nQ 2691 219 2414 64 \r\nQ 2138 -91 1772 -91 \r\nQ 1169 -91 856 284 \r\nQ 544 659 544 1381 \r\nz\r\nM 1991 3584 \r\nL 1991 3584 \r\nz\r\n\" id=\"DejaVuSans-75\" transform=\"scale(0.015625)\"/>\r\n        <path d=\"M 3513 2113 \r\nL 3513 0 \r\nL 2938 0 \r\nL 2938 2094 \r\nQ 2938 2591 2744 2837 \r\nQ 2550 3084 2163 3084 \r\nQ 1697 3084 1428 2787 \r\nQ 1159 2491 1159 1978 \r\nL 1159 0 \r\nL 581 0 \r\nL 581 3500 \r\nL 1159 3500 \r\nL 1159 2956 \r\nQ 1366 3272 1645 3428 \r\nQ 1925 3584 2291 3584 \r\nQ 2894 3584 3203 3211 \r\nQ 3513 2838 3513 2113 \r\nz\r\n\" id=\"DejaVuSans-6e\" transform=\"scale(0.015625)\"/>\r\n        <path d=\"M 1172 4494 \r\nL 1172 3500 \r\nL 2356 3500 \r\nL 2356 3053 \r\nL 1172 3053 \r\nL 1172 1153 \r\nQ 1172 725 1289 603 \r\nQ 1406 481 1766 481 \r\nL 2356 481 \r\nL 2356 0 \r\nL 1766 0 \r\nQ 1100 0 847 248 \r\nQ 594 497 594 1153 \r\nL 594 3053 \r\nL 172 3053 \r\nL 172 3500 \r\nL 594 3500 \r\nL 594 4494 \r\nL 1172 4494 \r\nz\r\n\" id=\"DejaVuSans-74\" transform=\"scale(0.015625)\"/>\r\n       </defs>\r\n       <use xlink:href=\"#DejaVuSans-63\"/>\r\n       <use x=\"54.980469\" xlink:href=\"#DejaVuSans-6f\"/>\r\n       <use x=\"116.162109\" xlink:href=\"#DejaVuSans-75\"/>\r\n       <use x=\"179.541016\" xlink:href=\"#DejaVuSans-6e\"/>\r\n       <use x=\"242.919922\" xlink:href=\"#DejaVuSans-74\"/>\r\n      </g>\r\n     </g>\r\n    </g>\r\n    <g id=\"xtick_2\">\r\n     <g id=\"line2d_2\">\r\n      <g>\r\n       <use style=\"stroke:#000000;stroke-width:0.8;\" x=\"194.607188\" xlink:href=\"#m8ee986bf16\" y=\"239.758125\"/>\r\n      </g>\r\n     </g>\r\n     <g id=\"text_2\">\r\n      <!-- title_occurrence -->\r\n      <g transform=\"translate(197.2275 326.725313)rotate(-90)scale(0.1 -0.1)\">\r\n       <defs>\r\n        <path d=\"M 603 3500 \r\nL 1178 3500 \r\nL 1178 0 \r\nL 603 0 \r\nL 603 3500 \r\nz\r\nM 603 4863 \r\nL 1178 4863 \r\nL 1178 4134 \r\nL 603 4134 \r\nL 603 4863 \r\nz\r\n\" id=\"DejaVuSans-69\" transform=\"scale(0.015625)\"/>\r\n        <path d=\"M 603 4863 \r\nL 1178 4863 \r\nL 1178 0 \r\nL 603 0 \r\nL 603 4863 \r\nz\r\n\" id=\"DejaVuSans-6c\" transform=\"scale(0.015625)\"/>\r\n        <path d=\"M 3597 1894 \r\nL 3597 1613 \r\nL 953 1613 \r\nQ 991 1019 1311 708 \r\nQ 1631 397 2203 397 \r\nQ 2534 397 2845 478 \r\nQ 3156 559 3463 722 \r\nL 3463 178 \r\nQ 3153 47 2828 -22 \r\nQ 2503 -91 2169 -91 \r\nQ 1331 -91 842 396 \r\nQ 353 884 353 1716 \r\nQ 353 2575 817 3079 \r\nQ 1281 3584 2069 3584 \r\nQ 2775 3584 3186 3129 \r\nQ 3597 2675 3597 1894 \r\nz\r\nM 3022 2063 \r\nQ 3016 2534 2758 2815 \r\nQ 2500 3097 2075 3097 \r\nQ 1594 3097 1305 2825 \r\nQ 1016 2553 972 2059 \r\nL 3022 2063 \r\nz\r\n\" id=\"DejaVuSans-65\" transform=\"scale(0.015625)\"/>\r\n        <path d=\"M 3263 -1063 \r\nL 3263 -1509 \r\nL -63 -1509 \r\nL -63 -1063 \r\nL 3263 -1063 \r\nz\r\n\" id=\"DejaVuSans-5f\" transform=\"scale(0.015625)\"/>\r\n        <path d=\"M 2631 2963 \r\nQ 2534 3019 2420 3045 \r\nQ 2306 3072 2169 3072 \r\nQ 1681 3072 1420 2755 \r\nQ 1159 2438 1159 1844 \r\nL 1159 0 \r\nL 581 0 \r\nL 581 3500 \r\nL 1159 3500 \r\nL 1159 2956 \r\nQ 1341 3275 1631 3429 \r\nQ 1922 3584 2338 3584 \r\nQ 2397 3584 2469 3576 \r\nQ 2541 3569 2628 3553 \r\nL 2631 2963 \r\nz\r\n\" id=\"DejaVuSans-72\" transform=\"scale(0.015625)\"/>\r\n       </defs>\r\n       <use xlink:href=\"#DejaVuSans-74\"/>\r\n       <use x=\"39.208984\" xlink:href=\"#DejaVuSans-69\"/>\r\n       <use x=\"66.992188\" xlink:href=\"#DejaVuSans-74\"/>\r\n       <use x=\"106.201172\" xlink:href=\"#DejaVuSans-6c\"/>\r\n       <use x=\"133.984375\" xlink:href=\"#DejaVuSans-65\"/>\r\n       <use x=\"195.507812\" xlink:href=\"#DejaVuSans-5f\"/>\r\n       <use x=\"245.507812\" xlink:href=\"#DejaVuSans-6f\"/>\r\n       <use x=\"306.689453\" xlink:href=\"#DejaVuSans-63\"/>\r\n       <use x=\"361.669922\" xlink:href=\"#DejaVuSans-63\"/>\r\n       <use x=\"416.650391\" xlink:href=\"#DejaVuSans-75\"/>\r\n       <use x=\"480.029297\" xlink:href=\"#DejaVuSans-72\"/>\r\n       <use x=\"519.392578\" xlink:href=\"#DejaVuSans-72\"/>\r\n       <use x=\"558.255859\" xlink:href=\"#DejaVuSans-65\"/>\r\n       <use x=\"619.779297\" xlink:href=\"#DejaVuSans-6e\"/>\r\n       <use x=\"683.158203\" xlink:href=\"#DejaVuSans-63\"/>\r\n       <use x=\"738.138672\" xlink:href=\"#DejaVuSans-65\"/>\r\n      </g>\r\n     </g>\r\n    </g>\r\n    <g id=\"xtick_3\">\r\n     <g id=\"line2d_3\">\r\n      <g>\r\n       <use style=\"stroke:#000000;stroke-width:0.8;\" x=\"261.567188\" xlink:href=\"#m8ee986bf16\" y=\"239.758125\"/>\r\n      </g>\r\n     </g>\r\n     <g id=\"text_3\">\r\n      <!-- %_occurrence -->\r\n      <g transform=\"translate(264.099219 316.676875)rotate(-90)scale(0.1 -0.1)\">\r\n       <defs>\r\n        <path d=\"M 4653 2053 \r\nQ 4381 2053 4226 1822 \r\nQ 4072 1591 4072 1178 \r\nQ 4072 772 4226 539 \r\nQ 4381 306 4653 306 \r\nQ 4919 306 5073 539 \r\nQ 5228 772 5228 1178 \r\nQ 5228 1588 5073 1820 \r\nQ 4919 2053 4653 2053 \r\nz\r\nM 4653 2450 \r\nQ 5147 2450 5437 2106 \r\nQ 5728 1763 5728 1178 \r\nQ 5728 594 5436 251 \r\nQ 5144 -91 4653 -91 \r\nQ 4153 -91 3862 251 \r\nQ 3572 594 3572 1178 \r\nQ 3572 1766 3864 2108 \r\nQ 4156 2450 4653 2450 \r\nz\r\nM 1428 4353 \r\nQ 1159 4353 1004 4120 \r\nQ 850 3888 850 3481 \r\nQ 850 3069 1003 2837 \r\nQ 1156 2606 1428 2606 \r\nQ 1700 2606 1854 2837 \r\nQ 2009 3069 2009 3481 \r\nQ 2009 3884 1853 4118 \r\nQ 1697 4353 1428 4353 \r\nz\r\nM 4250 4750 \r\nL 4750 4750 \r\nL 1831 -91 \r\nL 1331 -91 \r\nL 4250 4750 \r\nz\r\nM 1428 4750 \r\nQ 1922 4750 2215 4408 \r\nQ 2509 4066 2509 3481 \r\nQ 2509 2891 2217 2550 \r\nQ 1925 2209 1428 2209 \r\nQ 931 2209 642 2551 \r\nQ 353 2894 353 3481 \r\nQ 353 4063 643 4406 \r\nQ 934 4750 1428 4750 \r\nz\r\n\" id=\"DejaVuSans-25\" transform=\"scale(0.015625)\"/>\r\n       </defs>\r\n       <use xlink:href=\"#DejaVuSans-25\"/>\r\n       <use x=\"95.019531\" xlink:href=\"#DejaVuSans-5f\"/>\r\n       <use x=\"145.019531\" xlink:href=\"#DejaVuSans-6f\"/>\r\n       <use x=\"206.201172\" xlink:href=\"#DejaVuSans-63\"/>\r\n       <use x=\"261.181641\" xlink:href=\"#DejaVuSans-63\"/>\r\n       <use x=\"316.162109\" xlink:href=\"#DejaVuSans-75\"/>\r\n       <use x=\"379.541016\" xlink:href=\"#DejaVuSans-72\"/>\r\n       <use x=\"418.904297\" xlink:href=\"#DejaVuSans-72\"/>\r\n       <use x=\"457.767578\" xlink:href=\"#DejaVuSans-65\"/>\r\n       <use x=\"519.291016\" xlink:href=\"#DejaVuSans-6e\"/>\r\n       <use x=\"582.669922\" xlink:href=\"#DejaVuSans-63\"/>\r\n       <use x=\"637.650391\" xlink:href=\"#DejaVuSans-65\"/>\r\n      </g>\r\n     </g>\r\n    </g>\r\n    <g id=\"xtick_4\">\r\n     <g id=\"line2d_4\">\r\n      <g>\r\n       <use style=\"stroke:#000000;stroke-width:0.8;\" x=\"328.527188\" xlink:href=\"#m8ee986bf16\" y=\"239.758125\"/>\r\n      </g>\r\n     </g>\r\n     <g id=\"text_4\">\r\n      <!-- mean_rating -->\r\n      <g transform=\"translate(331.1475 309.740938)rotate(-90)scale(0.1 -0.1)\">\r\n       <defs>\r\n        <path d=\"M 3328 2828 \r\nQ 3544 3216 3844 3400 \r\nQ 4144 3584 4550 3584 \r\nQ 5097 3584 5394 3201 \r\nQ 5691 2819 5691 2113 \r\nL 5691 0 \r\nL 5113 0 \r\nL 5113 2094 \r\nQ 5113 2597 4934 2840 \r\nQ 4756 3084 4391 3084 \r\nQ 3944 3084 3684 2787 \r\nQ 3425 2491 3425 1978 \r\nL 3425 0 \r\nL 2847 0 \r\nL 2847 2094 \r\nQ 2847 2600 2669 2842 \r\nQ 2491 3084 2119 3084 \r\nQ 1678 3084 1418 2786 \r\nQ 1159 2488 1159 1978 \r\nL 1159 0 \r\nL 581 0 \r\nL 581 3500 \r\nL 1159 3500 \r\nL 1159 2956 \r\nQ 1356 3278 1631 3431 \r\nQ 1906 3584 2284 3584 \r\nQ 2666 3584 2933 3390 \r\nQ 3200 3197 3328 2828 \r\nz\r\n\" id=\"DejaVuSans-6d\" transform=\"scale(0.015625)\"/>\r\n        <path d=\"M 2194 1759 \r\nQ 1497 1759 1228 1600 \r\nQ 959 1441 959 1056 \r\nQ 959 750 1161 570 \r\nQ 1363 391 1709 391 \r\nQ 2188 391 2477 730 \r\nQ 2766 1069 2766 1631 \r\nL 2766 1759 \r\nL 2194 1759 \r\nz\r\nM 3341 1997 \r\nL 3341 0 \r\nL 2766 0 \r\nL 2766 531 \r\nQ 2569 213 2275 61 \r\nQ 1981 -91 1556 -91 \r\nQ 1019 -91 701 211 \r\nQ 384 513 384 1019 \r\nQ 384 1609 779 1909 \r\nQ 1175 2209 1959 2209 \r\nL 2766 2209 \r\nL 2766 2266 \r\nQ 2766 2663 2505 2880 \r\nQ 2244 3097 1772 3097 \r\nQ 1472 3097 1187 3025 \r\nQ 903 2953 641 2809 \r\nL 641 3341 \r\nQ 956 3463 1253 3523 \r\nQ 1550 3584 1831 3584 \r\nQ 2591 3584 2966 3190 \r\nQ 3341 2797 3341 1997 \r\nz\r\n\" id=\"DejaVuSans-61\" transform=\"scale(0.015625)\"/>\r\n        <path d=\"M 2906 1791 \r\nQ 2906 2416 2648 2759 \r\nQ 2391 3103 1925 3103 \r\nQ 1463 3103 1205 2759 \r\nQ 947 2416 947 1791 \r\nQ 947 1169 1205 825 \r\nQ 1463 481 1925 481 \r\nQ 2391 481 2648 825 \r\nQ 2906 1169 2906 1791 \r\nz\r\nM 3481 434 \r\nQ 3481 -459 3084 -895 \r\nQ 2688 -1331 1869 -1331 \r\nQ 1566 -1331 1297 -1286 \r\nQ 1028 -1241 775 -1147 \r\nL 775 -588 \r\nQ 1028 -725 1275 -790 \r\nQ 1522 -856 1778 -856 \r\nQ 2344 -856 2625 -561 \r\nQ 2906 -266 2906 331 \r\nL 2906 616 \r\nQ 2728 306 2450 153 \r\nQ 2172 0 1784 0 \r\nQ 1141 0 747 490 \r\nQ 353 981 353 1791 \r\nQ 353 2603 747 3093 \r\nQ 1141 3584 1784 3584 \r\nQ 2172 3584 2450 3431 \r\nQ 2728 3278 2906 2969 \r\nL 2906 3500 \r\nL 3481 3500 \r\nL 3481 434 \r\nz\r\n\" id=\"DejaVuSans-67\" transform=\"scale(0.015625)\"/>\r\n       </defs>\r\n       <use xlink:href=\"#DejaVuSans-6d\"/>\r\n       <use x=\"97.412109\" xlink:href=\"#DejaVuSans-65\"/>\r\n       <use x=\"158.935547\" xlink:href=\"#DejaVuSans-61\"/>\r\n       <use x=\"220.214844\" xlink:href=\"#DejaVuSans-6e\"/>\r\n       <use x=\"283.59375\" xlink:href=\"#DejaVuSans-5f\"/>\r\n       <use x=\"333.59375\" xlink:href=\"#DejaVuSans-72\"/>\r\n       <use x=\"374.707031\" xlink:href=\"#DejaVuSans-61\"/>\r\n       <use x=\"435.986328\" xlink:href=\"#DejaVuSans-74\"/>\r\n       <use x=\"475.195312\" xlink:href=\"#DejaVuSans-69\"/>\r\n       <use x=\"502.978516\" xlink:href=\"#DejaVuSans-6e\"/>\r\n       <use x=\"566.357422\" xlink:href=\"#DejaVuSans-67\"/>\r\n      </g>\r\n     </g>\r\n    </g>\r\n   </g>\r\n   <g id=\"matplotlib.axis_2\">\r\n    <g id=\"ytick_1\">\r\n     <g id=\"line2d_5\">\r\n      <defs>\r\n       <path d=\"M 0 0 \r\nL -3.5 0 \r\n\" id=\"mbcbe82bf91\" style=\"stroke:#000000;stroke-width:0.8;\"/>\r\n      </defs>\r\n      <g>\r\n       <use style=\"stroke:#000000;stroke-width:0.8;\" x=\"94.167188\" xlink:href=\"#mbcbe82bf91\" y=\"49.498125\"/>\r\n      </g>\r\n     </g>\r\n     <g id=\"text_5\">\r\n      <!-- count -->\r\n      <g transform=\"translate(58.954688 53.297344)scale(0.1 -0.1)\">\r\n       <use xlink:href=\"#DejaVuSans-63\"/>\r\n       <use x=\"54.980469\" xlink:href=\"#DejaVuSans-6f\"/>\r\n       <use x=\"116.162109\" xlink:href=\"#DejaVuSans-75\"/>\r\n       <use x=\"179.541016\" xlink:href=\"#DejaVuSans-6e\"/>\r\n       <use x=\"242.919922\" xlink:href=\"#DejaVuSans-74\"/>\r\n      </g>\r\n     </g>\r\n    </g>\r\n    <g id=\"ytick_2\">\r\n     <g id=\"line2d_6\">\r\n      <g>\r\n       <use style=\"stroke:#000000;stroke-width:0.8;\" x=\"94.167188\" xlink:href=\"#mbcbe82bf91\" y=\"103.858125\"/>\r\n      </g>\r\n     </g>\r\n     <g id=\"text_6\">\r\n      <!-- title_occurrence -->\r\n      <g transform=\"translate(7.2 107.657344)scale(0.1 -0.1)\">\r\n       <use xlink:href=\"#DejaVuSans-74\"/>\r\n       <use x=\"39.208984\" xlink:href=\"#DejaVuSans-69\"/>\r\n       <use x=\"66.992188\" xlink:href=\"#DejaVuSans-74\"/>\r\n       <use x=\"106.201172\" xlink:href=\"#DejaVuSans-6c\"/>\r\n       <use x=\"133.984375\" xlink:href=\"#DejaVuSans-65\"/>\r\n       <use x=\"195.507812\" xlink:href=\"#DejaVuSans-5f\"/>\r\n       <use x=\"245.507812\" xlink:href=\"#DejaVuSans-6f\"/>\r\n       <use x=\"306.689453\" xlink:href=\"#DejaVuSans-63\"/>\r\n       <use x=\"361.669922\" xlink:href=\"#DejaVuSans-63\"/>\r\n       <use x=\"416.650391\" xlink:href=\"#DejaVuSans-75\"/>\r\n       <use x=\"480.029297\" xlink:href=\"#DejaVuSans-72\"/>\r\n       <use x=\"519.392578\" xlink:href=\"#DejaVuSans-72\"/>\r\n       <use x=\"558.255859\" xlink:href=\"#DejaVuSans-65\"/>\r\n       <use x=\"619.779297\" xlink:href=\"#DejaVuSans-6e\"/>\r\n       <use x=\"683.158203\" xlink:href=\"#DejaVuSans-63\"/>\r\n       <use x=\"738.138672\" xlink:href=\"#DejaVuSans-65\"/>\r\n      </g>\r\n     </g>\r\n    </g>\r\n    <g id=\"ytick_3\">\r\n     <g id=\"line2d_7\">\r\n      <g>\r\n       <use style=\"stroke:#000000;stroke-width:0.8;\" x=\"94.167188\" xlink:href=\"#mbcbe82bf91\" y=\"158.218125\"/>\r\n      </g>\r\n     </g>\r\n     <g id=\"text_7\">\r\n      <!-- %_occurrence -->\r\n      <g transform=\"translate(17.248438 161.929063)scale(0.1 -0.1)\">\r\n       <use xlink:href=\"#DejaVuSans-25\"/>\r\n       <use x=\"95.019531\" xlink:href=\"#DejaVuSans-5f\"/>\r\n       <use x=\"145.019531\" xlink:href=\"#DejaVuSans-6f\"/>\r\n       <use x=\"206.201172\" xlink:href=\"#DejaVuSans-63\"/>\r\n       <use x=\"261.181641\" xlink:href=\"#DejaVuSans-63\"/>\r\n       <use x=\"316.162109\" xlink:href=\"#DejaVuSans-75\"/>\r\n       <use x=\"379.541016\" xlink:href=\"#DejaVuSans-72\"/>\r\n       <use x=\"418.904297\" xlink:href=\"#DejaVuSans-72\"/>\r\n       <use x=\"457.767578\" xlink:href=\"#DejaVuSans-65\"/>\r\n       <use x=\"519.291016\" xlink:href=\"#DejaVuSans-6e\"/>\r\n       <use x=\"582.669922\" xlink:href=\"#DejaVuSans-63\"/>\r\n       <use x=\"637.650391\" xlink:href=\"#DejaVuSans-65\"/>\r\n      </g>\r\n     </g>\r\n    </g>\r\n    <g id=\"ytick_4\">\r\n     <g id=\"line2d_8\">\r\n      <g>\r\n       <use style=\"stroke:#000000;stroke-width:0.8;\" x=\"94.167188\" xlink:href=\"#mbcbe82bf91\" y=\"212.578125\"/>\r\n      </g>\r\n     </g>\r\n     <g id=\"text_8\">\r\n      <!-- mean_rating -->\r\n      <g transform=\"translate(24.184375 216.377344)scale(0.1 -0.1)\">\r\n       <use xlink:href=\"#DejaVuSans-6d\"/>\r\n       <use x=\"97.412109\" xlink:href=\"#DejaVuSans-65\"/>\r\n       <use x=\"158.935547\" xlink:href=\"#DejaVuSans-61\"/>\r\n       <use x=\"220.214844\" xlink:href=\"#DejaVuSans-6e\"/>\r\n       <use x=\"283.59375\" xlink:href=\"#DejaVuSans-5f\"/>\r\n       <use x=\"333.59375\" xlink:href=\"#DejaVuSans-72\"/>\r\n       <use x=\"374.707031\" xlink:href=\"#DejaVuSans-61\"/>\r\n       <use x=\"435.986328\" xlink:href=\"#DejaVuSans-74\"/>\r\n       <use x=\"475.195312\" xlink:href=\"#DejaVuSans-69\"/>\r\n       <use x=\"502.978516\" xlink:href=\"#DejaVuSans-6e\"/>\r\n       <use x=\"566.357422\" xlink:href=\"#DejaVuSans-67\"/>\r\n      </g>\r\n     </g>\r\n    </g>\r\n   </g>\r\n   <g id=\"text_9\">\r\n    <!-- 1 -->\r\n    <g style=\"fill:#262626;\" transform=\"translate(124.465938 52.2575)scale(0.1 -0.1)\">\r\n     <defs>\r\n      <path d=\"M 794 531 \r\nL 1825 531 \r\nL 1825 4091 \r\nL 703 3866 \r\nL 703 4441 \r\nL 1819 4666 \r\nL 2450 4666 \r\nL 2450 531 \r\nL 3481 531 \r\nL 3481 0 \r\nL 794 0 \r\nL 794 531 \r\nz\r\n\" id=\"DejaVuSans-31\" transform=\"scale(0.015625)\"/>\r\n     </defs>\r\n     <use xlink:href=\"#DejaVuSans-31\"/>\r\n    </g>\r\n   </g>\r\n   <g id=\"text_10\">\r\n    <!-- 1 -->\r\n    <g style=\"fill:#262626;\" transform=\"translate(191.425938 52.2575)scale(0.1 -0.1)\">\r\n     <use xlink:href=\"#DejaVuSans-31\"/>\r\n    </g>\r\n   </g>\r\n   <g id=\"text_11\">\r\n    <!-- 0.28 -->\r\n    <g style=\"fill:#ffffff;\" transform=\"translate(250.434375 52.2575)scale(0.1 -0.1)\">\r\n     <defs>\r\n      <path d=\"M 2034 4250 \r\nQ 1547 4250 1301 3770 \r\nQ 1056 3291 1056 2328 \r\nQ 1056 1369 1301 889 \r\nQ 1547 409 2034 409 \r\nQ 2525 409 2770 889 \r\nQ 3016 1369 3016 2328 \r\nQ 3016 3291 2770 3770 \r\nQ 2525 4250 2034 4250 \r\nz\r\nM 2034 4750 \r\nQ 2819 4750 3233 4129 \r\nQ 3647 3509 3647 2328 \r\nQ 3647 1150 3233 529 \r\nQ 2819 -91 2034 -91 \r\nQ 1250 -91 836 529 \r\nQ 422 1150 422 2328 \r\nQ 422 3509 836 4129 \r\nQ 1250 4750 2034 4750 \r\nz\r\n\" id=\"DejaVuSans-30\" transform=\"scale(0.015625)\"/>\r\n      <path d=\"M 684 794 \r\nL 1344 794 \r\nL 1344 0 \r\nL 684 0 \r\nL 684 794 \r\nz\r\n\" id=\"DejaVuSans-2e\" transform=\"scale(0.015625)\"/>\r\n      <path d=\"M 1228 531 \r\nL 3431 531 \r\nL 3431 0 \r\nL 469 0 \r\nL 469 531 \r\nQ 828 903 1448 1529 \r\nQ 2069 2156 2228 2338 \r\nQ 2531 2678 2651 2914 \r\nQ 2772 3150 2772 3378 \r\nQ 2772 3750 2511 3984 \r\nQ 2250 4219 1831 4219 \r\nQ 1534 4219 1204 4116 \r\nQ 875 4013 500 3803 \r\nL 500 4441 \r\nQ 881 4594 1212 4672 \r\nQ 1544 4750 1819 4750 \r\nQ 2544 4750 2975 4387 \r\nQ 3406 4025 3406 3419 \r\nQ 3406 3131 3298 2873 \r\nQ 3191 2616 2906 2266 \r\nQ 2828 2175 2409 1742 \r\nQ 1991 1309 1228 531 \r\nz\r\n\" id=\"DejaVuSans-32\" transform=\"scale(0.015625)\"/>\r\n      <path d=\"M 2034 2216 \r\nQ 1584 2216 1326 1975 \r\nQ 1069 1734 1069 1313 \r\nQ 1069 891 1326 650 \r\nQ 1584 409 2034 409 \r\nQ 2484 409 2743 651 \r\nQ 3003 894 3003 1313 \r\nQ 3003 1734 2745 1975 \r\nQ 2488 2216 2034 2216 \r\nz\r\nM 1403 2484 \r\nQ 997 2584 770 2862 \r\nQ 544 3141 544 3541 \r\nQ 544 4100 942 4425 \r\nQ 1341 4750 2034 4750 \r\nQ 2731 4750 3128 4425 \r\nQ 3525 4100 3525 3541 \r\nQ 3525 3141 3298 2862 \r\nQ 3072 2584 2669 2484 \r\nQ 3125 2378 3379 2068 \r\nQ 3634 1759 3634 1313 \r\nQ 3634 634 3220 271 \r\nQ 2806 -91 2034 -91 \r\nQ 1263 -91 848 271 \r\nQ 434 634 434 1313 \r\nQ 434 1759 690 2068 \r\nQ 947 2378 1403 2484 \r\nz\r\nM 1172 3481 \r\nQ 1172 3119 1398 2916 \r\nQ 1625 2713 2034 2713 \r\nQ 2441 2713 2670 2916 \r\nQ 2900 3119 2900 3481 \r\nQ 2900 3844 2670 4047 \r\nQ 2441 4250 2034 4250 \r\nQ 1625 4250 1398 4047 \r\nQ 1172 3844 1172 3481 \r\nz\r\n\" id=\"DejaVuSans-38\" transform=\"scale(0.015625)\"/>\r\n     </defs>\r\n     <use xlink:href=\"#DejaVuSans-30\"/>\r\n     <use x=\"63.623047\" xlink:href=\"#DejaVuSans-2e\"/>\r\n     <use x=\"95.410156\" xlink:href=\"#DejaVuSans-32\"/>\r\n     <use x=\"159.033203\" xlink:href=\"#DejaVuSans-38\"/>\r\n    </g>\r\n   </g>\r\n   <g id=\"text_12\">\r\n    <!-- -0.26 -->\r\n    <g style=\"fill:#ffffff;\" transform=\"translate(315.590469 52.2575)scale(0.1 -0.1)\">\r\n     <defs>\r\n      <path d=\"M 313 2009 \r\nL 1997 2009 \r\nL 1997 1497 \r\nL 313 1497 \r\nL 313 2009 \r\nz\r\n\" id=\"DejaVuSans-2d\" transform=\"scale(0.015625)\"/>\r\n      <path d=\"M 2113 2584 \r\nQ 1688 2584 1439 2293 \r\nQ 1191 2003 1191 1497 \r\nQ 1191 994 1439 701 \r\nQ 1688 409 2113 409 \r\nQ 2538 409 2786 701 \r\nQ 3034 994 3034 1497 \r\nQ 3034 2003 2786 2293 \r\nQ 2538 2584 2113 2584 \r\nz\r\nM 3366 4563 \r\nL 3366 3988 \r\nQ 3128 4100 2886 4159 \r\nQ 2644 4219 2406 4219 \r\nQ 1781 4219 1451 3797 \r\nQ 1122 3375 1075 2522 \r\nQ 1259 2794 1537 2939 \r\nQ 1816 3084 2150 3084 \r\nQ 2853 3084 3261 2657 \r\nQ 3669 2231 3669 1497 \r\nQ 3669 778 3244 343 \r\nQ 2819 -91 2113 -91 \r\nQ 1303 -91 875 529 \r\nQ 447 1150 447 2328 \r\nQ 447 3434 972 4092 \r\nQ 1497 4750 2381 4750 \r\nQ 2619 4750 2861 4703 \r\nQ 3103 4656 3366 4563 \r\nz\r\n\" id=\"DejaVuSans-36\" transform=\"scale(0.015625)\"/>\r\n     </defs>\r\n     <use xlink:href=\"#DejaVuSans-2d\"/>\r\n     <use x=\"36.083984\" xlink:href=\"#DejaVuSans-30\"/>\r\n     <use x=\"99.707031\" xlink:href=\"#DejaVuSans-2e\"/>\r\n     <use x=\"131.494141\" xlink:href=\"#DejaVuSans-32\"/>\r\n     <use x=\"195.117188\" xlink:href=\"#DejaVuSans-36\"/>\r\n    </g>\r\n   </g>\r\n   <g id=\"text_13\">\r\n    <!-- 1 -->\r\n    <g style=\"fill:#262626;\" transform=\"translate(124.465938 106.6175)scale(0.1 -0.1)\">\r\n     <use xlink:href=\"#DejaVuSans-31\"/>\r\n    </g>\r\n   </g>\r\n   <g id=\"text_14\">\r\n    <!-- 1 -->\r\n    <g style=\"fill:#262626;\" transform=\"translate(191.425938 106.6175)scale(0.1 -0.1)\">\r\n     <use xlink:href=\"#DejaVuSans-31\"/>\r\n    </g>\r\n   </g>\r\n   <g id=\"text_15\">\r\n    <!-- 0.26 -->\r\n    <g style=\"fill:#ffffff;\" transform=\"translate(250.434375 106.6175)scale(0.1 -0.1)\">\r\n     <use xlink:href=\"#DejaVuSans-30\"/>\r\n     <use x=\"63.623047\" xlink:href=\"#DejaVuSans-2e\"/>\r\n     <use x=\"95.410156\" xlink:href=\"#DejaVuSans-32\"/>\r\n     <use x=\"159.033203\" xlink:href=\"#DejaVuSans-36\"/>\r\n    </g>\r\n   </g>\r\n   <g id=\"text_16\">\r\n    <!-- -0.27 -->\r\n    <g style=\"fill:#ffffff;\" transform=\"translate(315.590469 106.6175)scale(0.1 -0.1)\">\r\n     <defs>\r\n      <path d=\"M 525 4666 \r\nL 3525 4666 \r\nL 3525 4397 \r\nL 1831 0 \r\nL 1172 0 \r\nL 2766 4134 \r\nL 525 4134 \r\nL 525 4666 \r\nz\r\n\" id=\"DejaVuSans-37\" transform=\"scale(0.015625)\"/>\r\n     </defs>\r\n     <use xlink:href=\"#DejaVuSans-2d\"/>\r\n     <use x=\"36.083984\" xlink:href=\"#DejaVuSans-30\"/>\r\n     <use x=\"99.707031\" xlink:href=\"#DejaVuSans-2e\"/>\r\n     <use x=\"131.494141\" xlink:href=\"#DejaVuSans-32\"/>\r\n     <use x=\"195.117188\" xlink:href=\"#DejaVuSans-37\"/>\r\n    </g>\r\n   </g>\r\n   <g id=\"text_17\">\r\n    <!-- 0.28 -->\r\n    <g style=\"fill:#ffffff;\" transform=\"translate(116.514375 160.9775)scale(0.1 -0.1)\">\r\n     <use xlink:href=\"#DejaVuSans-30\"/>\r\n     <use x=\"63.623047\" xlink:href=\"#DejaVuSans-2e\"/>\r\n     <use x=\"95.410156\" xlink:href=\"#DejaVuSans-32\"/>\r\n     <use x=\"159.033203\" xlink:href=\"#DejaVuSans-38\"/>\r\n    </g>\r\n   </g>\r\n   <g id=\"text_18\">\r\n    <!-- 0.26 -->\r\n    <g style=\"fill:#ffffff;\" transform=\"translate(183.474375 160.9775)scale(0.1 -0.1)\">\r\n     <use xlink:href=\"#DejaVuSans-30\"/>\r\n     <use x=\"63.623047\" xlink:href=\"#DejaVuSans-2e\"/>\r\n     <use x=\"95.410156\" xlink:href=\"#DejaVuSans-32\"/>\r\n     <use x=\"159.033203\" xlink:href=\"#DejaVuSans-36\"/>\r\n    </g>\r\n   </g>\r\n   <g id=\"text_19\">\r\n    <!-- 1 -->\r\n    <g style=\"fill:#262626;\" transform=\"translate(258.385938 160.9775)scale(0.1 -0.1)\">\r\n     <use xlink:href=\"#DejaVuSans-31\"/>\r\n    </g>\r\n   </g>\r\n   <g id=\"text_20\">\r\n    <!-- 0.12 -->\r\n    <g style=\"fill:#ffffff;\" transform=\"translate(317.394375 160.9775)scale(0.1 -0.1)\">\r\n     <use xlink:href=\"#DejaVuSans-30\"/>\r\n     <use x=\"63.623047\" xlink:href=\"#DejaVuSans-2e\"/>\r\n     <use x=\"95.410156\" xlink:href=\"#DejaVuSans-31\"/>\r\n     <use x=\"159.033203\" xlink:href=\"#DejaVuSans-32\"/>\r\n    </g>\r\n   </g>\r\n   <g id=\"text_21\">\r\n    <!-- -0.26 -->\r\n    <g style=\"fill:#ffffff;\" transform=\"translate(114.710469 215.3375)scale(0.1 -0.1)\">\r\n     <use xlink:href=\"#DejaVuSans-2d\"/>\r\n     <use x=\"36.083984\" xlink:href=\"#DejaVuSans-30\"/>\r\n     <use x=\"99.707031\" xlink:href=\"#DejaVuSans-2e\"/>\r\n     <use x=\"131.494141\" xlink:href=\"#DejaVuSans-32\"/>\r\n     <use x=\"195.117188\" xlink:href=\"#DejaVuSans-36\"/>\r\n    </g>\r\n   </g>\r\n   <g id=\"text_22\">\r\n    <!-- -0.27 -->\r\n    <g style=\"fill:#ffffff;\" transform=\"translate(181.670469 215.3375)scale(0.1 -0.1)\">\r\n     <use xlink:href=\"#DejaVuSans-2d\"/>\r\n     <use x=\"36.083984\" xlink:href=\"#DejaVuSans-30\"/>\r\n     <use x=\"99.707031\" xlink:href=\"#DejaVuSans-2e\"/>\r\n     <use x=\"131.494141\" xlink:href=\"#DejaVuSans-32\"/>\r\n     <use x=\"195.117188\" xlink:href=\"#DejaVuSans-37\"/>\r\n    </g>\r\n   </g>\r\n   <g id=\"text_23\">\r\n    <!-- 0.12 -->\r\n    <g style=\"fill:#ffffff;\" transform=\"translate(250.434375 215.3375)scale(0.1 -0.1)\">\r\n     <use xlink:href=\"#DejaVuSans-30\"/>\r\n     <use x=\"63.623047\" xlink:href=\"#DejaVuSans-2e\"/>\r\n     <use x=\"95.410156\" xlink:href=\"#DejaVuSans-31\"/>\r\n     <use x=\"159.033203\" xlink:href=\"#DejaVuSans-32\"/>\r\n    </g>\r\n   </g>\r\n   <g id=\"text_24\">\r\n    <!-- 1 -->\r\n    <g style=\"fill:#262626;\" transform=\"translate(325.345938 215.3375)scale(0.1 -0.1)\">\r\n     <use xlink:href=\"#DejaVuSans-31\"/>\r\n    </g>\r\n   </g>\r\n   <g id=\"text_25\">\r\n    <!-- word_stats Heatmap -->\r\n    <g transform=\"translate(166.235625 16.318125)scale(0.12 -0.12)\">\r\n     <defs>\r\n      <path d=\"M 269 3500 \r\nL 844 3500 \r\nL 1563 769 \r\nL 2278 3500 \r\nL 2956 3500 \r\nL 3675 769 \r\nL 4391 3500 \r\nL 4966 3500 \r\nL 4050 0 \r\nL 3372 0 \r\nL 2619 2869 \r\nL 1863 0 \r\nL 1184 0 \r\nL 269 3500 \r\nz\r\n\" id=\"DejaVuSans-77\" transform=\"scale(0.015625)\"/>\r\n      <path d=\"M 2906 2969 \r\nL 2906 4863 \r\nL 3481 4863 \r\nL 3481 0 \r\nL 2906 0 \r\nL 2906 525 \r\nQ 2725 213 2448 61 \r\nQ 2172 -91 1784 -91 \r\nQ 1150 -91 751 415 \r\nQ 353 922 353 1747 \r\nQ 353 2572 751 3078 \r\nQ 1150 3584 1784 3584 \r\nQ 2172 3584 2448 3432 \r\nQ 2725 3281 2906 2969 \r\nz\r\nM 947 1747 \r\nQ 947 1113 1208 752 \r\nQ 1469 391 1925 391 \r\nQ 2381 391 2643 752 \r\nQ 2906 1113 2906 1747 \r\nQ 2906 2381 2643 2742 \r\nQ 2381 3103 1925 3103 \r\nQ 1469 3103 1208 2742 \r\nQ 947 2381 947 1747 \r\nz\r\n\" id=\"DejaVuSans-64\" transform=\"scale(0.015625)\"/>\r\n      <path d=\"M 2834 3397 \r\nL 2834 2853 \r\nQ 2591 2978 2328 3040 \r\nQ 2066 3103 1784 3103 \r\nQ 1356 3103 1142 2972 \r\nQ 928 2841 928 2578 \r\nQ 928 2378 1081 2264 \r\nQ 1234 2150 1697 2047 \r\nL 1894 2003 \r\nQ 2506 1872 2764 1633 \r\nQ 3022 1394 3022 966 \r\nQ 3022 478 2636 193 \r\nQ 2250 -91 1575 -91 \r\nQ 1294 -91 989 -36 \r\nQ 684 19 347 128 \r\nL 347 722 \r\nQ 666 556 975 473 \r\nQ 1284 391 1588 391 \r\nQ 1994 391 2212 530 \r\nQ 2431 669 2431 922 \r\nQ 2431 1156 2273 1281 \r\nQ 2116 1406 1581 1522 \r\nL 1381 1569 \r\nQ 847 1681 609 1914 \r\nQ 372 2147 372 2553 \r\nQ 372 3047 722 3315 \r\nQ 1072 3584 1716 3584 \r\nQ 2034 3584 2315 3537 \r\nQ 2597 3491 2834 3397 \r\nz\r\n\" id=\"DejaVuSans-73\" transform=\"scale(0.015625)\"/>\r\n      <path id=\"DejaVuSans-20\" transform=\"scale(0.015625)\"/>\r\n      <path d=\"M 628 4666 \r\nL 1259 4666 \r\nL 1259 2753 \r\nL 3553 2753 \r\nL 3553 4666 \r\nL 4184 4666 \r\nL 4184 0 \r\nL 3553 0 \r\nL 3553 2222 \r\nL 1259 2222 \r\nL 1259 0 \r\nL 628 0 \r\nL 628 4666 \r\nz\r\n\" id=\"DejaVuSans-48\" transform=\"scale(0.015625)\"/>\r\n      <path d=\"M 1159 525 \r\nL 1159 -1331 \r\nL 581 -1331 \r\nL 581 3500 \r\nL 1159 3500 \r\nL 1159 2969 \r\nQ 1341 3281 1617 3432 \r\nQ 1894 3584 2278 3584 \r\nQ 2916 3584 3314 3078 \r\nQ 3713 2572 3713 1747 \r\nQ 3713 922 3314 415 \r\nQ 2916 -91 2278 -91 \r\nQ 1894 -91 1617 61 \r\nQ 1341 213 1159 525 \r\nz\r\nM 3116 1747 \r\nQ 3116 2381 2855 2742 \r\nQ 2594 3103 2138 3103 \r\nQ 1681 3103 1420 2742 \r\nQ 1159 2381 1159 1747 \r\nQ 1159 1113 1420 752 \r\nQ 1681 391 2138 391 \r\nQ 2594 391 2855 752 \r\nQ 3116 1113 3116 1747 \r\nz\r\n\" id=\"DejaVuSans-70\" transform=\"scale(0.015625)\"/>\r\n     </defs>\r\n     <use xlink:href=\"#DejaVuSans-77\"/>\r\n     <use x=\"81.787109\" xlink:href=\"#DejaVuSans-6f\"/>\r\n     <use x=\"142.96875\" xlink:href=\"#DejaVuSans-72\"/>\r\n     <use x=\"182.332031\" xlink:href=\"#DejaVuSans-64\"/>\r\n     <use x=\"245.808594\" xlink:href=\"#DejaVuSans-5f\"/>\r\n     <use x=\"295.808594\" xlink:href=\"#DejaVuSans-73\"/>\r\n     <use x=\"347.908203\" xlink:href=\"#DejaVuSans-74\"/>\r\n     <use x=\"387.117188\" xlink:href=\"#DejaVuSans-61\"/>\r\n     <use x=\"448.396484\" xlink:href=\"#DejaVuSans-74\"/>\r\n     <use x=\"487.605469\" xlink:href=\"#DejaVuSans-73\"/>\r\n     <use x=\"539.705078\" xlink:href=\"#DejaVuSans-20\"/>\r\n     <use x=\"571.492188\" xlink:href=\"#DejaVuSans-48\"/>\r\n     <use x=\"646.6875\" xlink:href=\"#DejaVuSans-65\"/>\r\n     <use x=\"708.210938\" xlink:href=\"#DejaVuSans-61\"/>\r\n     <use x=\"769.490234\" xlink:href=\"#DejaVuSans-74\"/>\r\n     <use x=\"808.699219\" xlink:href=\"#DejaVuSans-6d\"/>\r\n     <use x=\"906.111328\" xlink:href=\"#DejaVuSans-61\"/>\r\n     <use x=\"967.390625\" xlink:href=\"#DejaVuSans-70\"/>\r\n    </g>\r\n   </g>\r\n  </g>\r\n  <g id=\"axes_2\">\r\n   <g id=\"patch_3\">\r\n    <path d=\"M 378.747188 239.758125 \r\nL 389.619188 239.758125 \r\nL 389.619188 22.318125 \r\nL 378.747188 22.318125 \r\nz\r\n\" style=\"fill:#ffffff;\"/>\r\n   </g>\r\n   <g id=\"patch_4\">\r\n    <path clip-path=\"url(#p83068cf43f)\" d=\"M 378.747188 239.758125 \r\nL 378.747188 238.90875 \r\nL 378.747188 23.1675 \r\nL 378.747188 22.318125 \r\nL 389.619188 22.318125 \r\nL 389.619188 23.1675 \r\nL 389.619188 238.90875 \r\nL 389.619188 239.758125 \r\nL 389.619188 239.758125 \r\nz\r\n\" style=\"fill:#ffffff;stroke:#ffffff;stroke-linejoin:miter;stroke-width:0.01;\"/>\r\n   </g>\r\n   <image height=\"218\" id=\"imagedee5b25691\" transform=\"scale(1 -1)translate(0 -218)\" width=\"11\" x=\"379\" xlink:href=\"data:image/png;base64,\r\niVBORw0KGgoAAAANSUhEUgAAAAsAAADaCAYAAABwzrisAAABXElEQVR4nO3a0Y3DMAyDYSl2l7j99+ytoO8AAgpwfiaEn5TspE77fH6+NVy3p8qqut1zuYmffkQsGEUYMYOCcR5II4dh7Y4ZzDFjZWkKpfHG4c8Z3NLu96VhBsfSt86GRTdfNhunyCBgJHcKYFDON9jBFcNP0Z0d85yLLtluwLB2xzCo3VsMjn9LeBpUOba7SSxpoMEURjANEZ/YIG1Jw2Zjrg7uQUvjC8w4/Kk0mirPC/NZBxjILGLot2GcJgxKY76wcoz5gRlV5rE2abDJIBz9UeaxVjHIoERnYpoNw4DKyTQAo3KzQeKbqgz3CtHKcELfhieQYZRUzmE0vBcYsxmUK4schrwGalNELHeMlrMYXMJc8vHFKh9qdwwjF50YxJyXpCEfuZakYWcdVRbxnT/pk8w5g0cM5jD+0/hr5e7Yht2ShhiMtTuYc26nWBqfEAb9y2LLINlsvM7gLzo1LScMkl5mAAAAAElFTkSuQmCC\" y=\"-21\"/>\r\n   <g id=\"matplotlib.axis_3\"/>\r\n   <g id=\"matplotlib.axis_4\">\r\n    <g id=\"ytick_5\">\r\n     <g id=\"line2d_9\">\r\n      <defs>\r\n       <path d=\"M 0 0 \r\nL 3.5 0 \r\n\" id=\"m5a2037257d\" style=\"stroke:#000000;stroke-width:0.8;\"/>\r\n      </defs>\r\n      <g>\r\n       <use style=\"stroke:#000000;stroke-width:0.8;\" x=\"389.619188\" xlink:href=\"#m5a2037257d\" y=\"227.710374\"/>\r\n      </g>\r\n     </g>\r\n     <g id=\"text_26\">\r\n      <!-- −0.2 -->\r\n      <g transform=\"translate(396.619188 231.509593)scale(0.1 -0.1)\">\r\n       <defs>\r\n        <path d=\"M 678 2272 \r\nL 4684 2272 \r\nL 4684 1741 \r\nL 678 1741 \r\nL 678 2272 \r\nz\r\n\" id=\"DejaVuSans-2212\" transform=\"scale(0.015625)\"/>\r\n       </defs>\r\n       <use xlink:href=\"#DejaVuSans-2212\"/>\r\n       <use x=\"83.789062\" xlink:href=\"#DejaVuSans-30\"/>\r\n       <use x=\"147.412109\" xlink:href=\"#DejaVuSans-2e\"/>\r\n       <use x=\"179.199219\" xlink:href=\"#DejaVuSans-32\"/>\r\n      </g>\r\n     </g>\r\n    </g>\r\n    <g id=\"ytick_6\">\r\n     <g id=\"line2d_10\">\r\n      <g>\r\n       <use style=\"stroke:#000000;stroke-width:0.8;\" x=\"389.619188\" xlink:href=\"#m5a2037257d\" y=\"193.478333\"/>\r\n      </g>\r\n     </g>\r\n     <g id=\"text_27\">\r\n      <!-- 0.0 -->\r\n      <g transform=\"translate(396.619188 197.277552)scale(0.1 -0.1)\">\r\n       <use xlink:href=\"#DejaVuSans-30\"/>\r\n       <use x=\"63.623047\" xlink:href=\"#DejaVuSans-2e\"/>\r\n       <use x=\"95.410156\" xlink:href=\"#DejaVuSans-30\"/>\r\n      </g>\r\n     </g>\r\n    </g>\r\n    <g id=\"ytick_7\">\r\n     <g id=\"line2d_11\">\r\n      <g>\r\n       <use style=\"stroke:#000000;stroke-width:0.8;\" x=\"389.619188\" xlink:href=\"#m5a2037257d\" y=\"159.246291\"/>\r\n      </g>\r\n     </g>\r\n     <g id=\"text_28\">\r\n      <!-- 0.2 -->\r\n      <g transform=\"translate(396.619188 163.04551)scale(0.1 -0.1)\">\r\n       <use xlink:href=\"#DejaVuSans-30\"/>\r\n       <use x=\"63.623047\" xlink:href=\"#DejaVuSans-2e\"/>\r\n       <use x=\"95.410156\" xlink:href=\"#DejaVuSans-32\"/>\r\n      </g>\r\n     </g>\r\n    </g>\r\n    <g id=\"ytick_8\">\r\n     <g id=\"line2d_12\">\r\n      <g>\r\n       <use style=\"stroke:#000000;stroke-width:0.8;\" x=\"389.619188\" xlink:href=\"#m5a2037257d\" y=\"125.01425\"/>\r\n      </g>\r\n     </g>\r\n     <g id=\"text_29\">\r\n      <!-- 0.4 -->\r\n      <g transform=\"translate(396.619188 128.813468)scale(0.1 -0.1)\">\r\n       <defs>\r\n        <path d=\"M 2419 4116 \r\nL 825 1625 \r\nL 2419 1625 \r\nL 2419 4116 \r\nz\r\nM 2253 4666 \r\nL 3047 4666 \r\nL 3047 1625 \r\nL 3713 1625 \r\nL 3713 1100 \r\nL 3047 1100 \r\nL 3047 0 \r\nL 2419 0 \r\nL 2419 1100 \r\nL 313 1100 \r\nL 313 1709 \r\nL 2253 4666 \r\nz\r\n\" id=\"DejaVuSans-34\" transform=\"scale(0.015625)\"/>\r\n       </defs>\r\n       <use xlink:href=\"#DejaVuSans-30\"/>\r\n       <use x=\"63.623047\" xlink:href=\"#DejaVuSans-2e\"/>\r\n       <use x=\"95.410156\" xlink:href=\"#DejaVuSans-34\"/>\r\n      </g>\r\n     </g>\r\n    </g>\r\n    <g id=\"ytick_9\">\r\n     <g id=\"line2d_13\">\r\n      <g>\r\n       <use style=\"stroke:#000000;stroke-width:0.8;\" x=\"389.619188\" xlink:href=\"#m5a2037257d\" y=\"90.782208\"/>\r\n      </g>\r\n     </g>\r\n     <g id=\"text_30\">\r\n      <!-- 0.6 -->\r\n      <g transform=\"translate(396.619188 94.581427)scale(0.1 -0.1)\">\r\n       <use xlink:href=\"#DejaVuSans-30\"/>\r\n       <use x=\"63.623047\" xlink:href=\"#DejaVuSans-2e\"/>\r\n       <use x=\"95.410156\" xlink:href=\"#DejaVuSans-36\"/>\r\n      </g>\r\n     </g>\r\n    </g>\r\n    <g id=\"ytick_10\">\r\n     <g id=\"line2d_14\">\r\n      <g>\r\n       <use style=\"stroke:#000000;stroke-width:0.8;\" x=\"389.619188\" xlink:href=\"#m5a2037257d\" y=\"56.550167\"/>\r\n      </g>\r\n     </g>\r\n     <g id=\"text_31\">\r\n      <!-- 0.8 -->\r\n      <g transform=\"translate(396.619188 60.349385)scale(0.1 -0.1)\">\r\n       <use xlink:href=\"#DejaVuSans-30\"/>\r\n       <use x=\"63.623047\" xlink:href=\"#DejaVuSans-2e\"/>\r\n       <use x=\"95.410156\" xlink:href=\"#DejaVuSans-38\"/>\r\n      </g>\r\n     </g>\r\n    </g>\r\n    <g id=\"ytick_11\">\r\n     <g id=\"line2d_15\">\r\n      <g>\r\n       <use style=\"stroke:#000000;stroke-width:0.8;\" x=\"389.619188\" xlink:href=\"#m5a2037257d\" y=\"22.318125\"/>\r\n      </g>\r\n     </g>\r\n     <g id=\"text_32\">\r\n      <!-- 1.0 -->\r\n      <g transform=\"translate(396.619188 26.117344)scale(0.1 -0.1)\">\r\n       <use xlink:href=\"#DejaVuSans-31\"/>\r\n       <use x=\"63.623047\" xlink:href=\"#DejaVuSans-2e\"/>\r\n       <use x=\"95.410156\" xlink:href=\"#DejaVuSans-30\"/>\r\n      </g>\r\n     </g>\r\n    </g>\r\n   </g>\r\n   <g id=\"LineCollection_1\"/>\r\n   <g id=\"patch_5\">\r\n    <path d=\"M 378.747188 239.758125 \r\nL 378.747188 238.90875 \r\nL 378.747188 23.1675 \r\nL 378.747188 22.318125 \r\nL 389.619188 22.318125 \r\nL 389.619188 23.1675 \r\nL 389.619188 238.90875 \r\nL 389.619188 239.758125 \r\nz\r\n\" style=\"fill:none;\"/>\r\n   </g>\r\n  </g>\r\n </g>\r\n <defs>\r\n  <clipPath id=\"p4265adf411\">\r\n   <rect height=\"217.44\" width=\"267.84\" x=\"94.167188\" y=\"22.318125\"/>\r\n  </clipPath>\r\n  <clipPath id=\"p83068cf43f\">\r\n   <rect height=\"217.44\" width=\"10.872\" x=\"378.747188\" y=\"22.318125\"/>\r\n  </clipPath>\r\n </defs>\r\n</svg>\r\n",
      "image/png": "[encoded data removed]"
     },
     "metadata": {
      "needs_background": "light"
     }
    }
   ],
   "source": [
    "viz.heatmap(data='word_stats', save=reports)"
   ]
  },
  {
   "source": [
    "## 6. SQL Server\n",
    "\n",
    "As another requirement, it was ordered to insert the BASE Dataframe into a MySQL Server.\n",
    "A method was made in order to automatically create and insert said Dataframe into the given\n",
    "server.\n",
    "All its functionality is contained in the sql_tb.py file.\n",
    "Classes: MySQL."
   ],
   "cell_type": "markdown",
   "metadata": {}
  },
  {
   "cell_type": "code",
   "execution_count": 15,
   "metadata": {},
   "outputs": [],
   "source": [
    "from utils.sql_tb import MySQL\n",
    "from utils.folders_tb import read_json\n",
    "\n",
    "settings_file = rootpath + os.sep + 'src' + os.sep + 'utils' + os.sep + 'settings_sql.json'\n",
    "json = read_json(fullpath=settings_file)\n",
    "\n",
    "IP_DNS = json[\"IP_DNS\"]\n",
    "PORT = json[\"PORT\"]\n",
    "USER = json[\"USER\"]\n",
    "PASSWORD = json[\"PASSWORD\"]\n",
    "BD_NAME = json[\"BD_NAME\"]\n",
    "\n",
    "driver = MySQL(IP_DNS, USER, PASSWORD, BD_NAME, PORT)"
   ]
  },
  {
   "cell_type": "code",
   "execution_count": 16,
   "metadata": {
    "tags": [
     "outputPrepend"
    ]
   },
   "outputs": [
    {
     "output_type": "stream",
     "name": "stdout",
     "text": [
      "7.2\", \"68.0\", \"Drama\", \"The Maclean brothers, Paul and Norman, live a relatively idyllic life in rural Montana, spending much of their time fly fishing. The sons of a minister, the boys eventually part company when Norman moves east to attend college, leaving his rebellious brother to find trouble back home. When Norman finally returns, the siblings resume their fishing outings, and assess both where they've been and where they're going.\")\n",
      "\n",
      " successfully\n",
      "(1064, 'You have an error in your SQL syntax; check the manual that corresponds to your MySQL server version for the right syntax to use near \\'Going Down\" offers a glimpse of his personal hell with a wickedly funny twist.\")\\' at line 1')\n",
      "Executed \n",
      "\n",
      "INSERT INTO jorge_garcia_navarro (NETFLIX_ID, NETFLIX_RATING, NUMBER_OF_VOTES, TITLE, IMDBID, YEAR, IMDBRATING, METASCORE, GENRE, PLOT) VALUES (17711, \"6.338342220067863\", 2063, \"The Diary of Ellen Rimbauer\", \"tt0350811\", 2003, \"5.5\", \"0\", \"Drama, Horror, Mystery, Thriller\", \"Set at the turn of the century, this is the tale of Ellen Rimbauer who just received this mysterious mansion as a wedding gift from her new husband. Her husband is a Seattle oil tycoon who has a dark past which Ellen eventually finds out about. She becomes fearful of her husband when she learns of some disappearances of people that were close to him. Also there are some unexplained happenings at the Rose Red Mansion that might have a connection to these people who have disappeared. Now Ellen is worried she might be next.\")\n",
      "\n",
      " successfully\n",
      "(1064, 'You have an error in your SQL syntax; check the manual that corresponds to your MySQL server version for the right syntax to use near \\'Live At Wolf Trap\" captures The Doobie Brothers in fine form on a set that mixes\\' at line 1')\n",
      "Executed \n",
      "\n",
      "INSERT INTO jorge_garcia_navarro (NETFLIX_ID, NETFLIX_RATING, NUMBER_OF_VOTES, TITLE, IMDBID, YEAR, IMDBRATING, METASCORE, GENRE, PLOT) VALUES (17714, \"7.627254509018036\", 6986, \"The Little Mermaid\", \"tt0097757\", 1989, \"7.6\", \"88.0\", \"Animation, Family, Fantasy, Musical, Romance\", \"In Disney's beguiling animated romp, rebellious 16-year-old mermaid Ariel is fascinated with life on land. On one of her visits to the surface, which are forbidden by her controlling father, King Triton, she falls for a human prince. Determined to be with her new love, Ariel makes a dangerous deal with the sea witch Ursula to become human for three days. But when plans go awry for the star-crossed lovers, the king must make the ultimate sacrifice for his daughter.\")\n",
      "\n",
      " successfully\n",
      "Executed \n",
      "\n",
      "INSERT INTO jorge_garcia_navarro (NETFLIX_ID, NETFLIX_RATING, NUMBER_OF_VOTES, TITLE, IMDBID, YEAR, IMDBRATING, METASCORE, GENRE, PLOT) VALUES (17718, \"4.216666666666667\", 120, \"The Delta\", \"tt0116070\", 1996, \"5.4\", \"60.0\", \"Drama\", \"Lincoln, who's not yet 18, leads a straight life most of the time: he has a girl friend, goes to dances, jokes with guys. But he also has a secret life, in which he's drawn to dark places where he has sex with men he doesn't know. One night, while visiting a gay video arcade, he connects with John, a Vietnamese-born gay man, in his 20s probably, whose father was an African-American US soldier. John invites Lincoln to spend some carefree time with him, and Lincoln takes him to his father's boat. John then convinces Lincoln to take the boat into the Mississippi delta, where setting off some fireworks out of season precipitates betrayal and revenge.\")\n",
      "\n",
      " successfully\n",
      "Executed \n",
      "\n",
      "INSERT INTO jorge_garcia_navarro (NETFLIX_ID, NETFLIX_RATING, NUMBER_OF_VOTES, TITLE, IMDBID, YEAR, IMDBRATING, METASCORE, GENRE, PLOT) VALUES (17719, \"5.252631578947368\", 190, \"The Europeans\", \"tt0079123\", 1979, \"6.3\", \"64.0\", \"Drama, Romance\", \"It's the mid-nineteenth century. Adult siblings Felix Young and Eugenia Munster were born and raised in Europe and have a somewhat bohemian lifestyle reflective of their travels throughout Europe. Felix, who has little money, is interested in painting and the arts. Eugenia is a baroness by marriage. They decide to travel to New England to meet their maternal uncle and their three cousins, the Wentworths, for the first time, the Wentworths who live just outside of Boston. The Wentworths are highly puritanical, the uncle in particular who looks to a neighbor, Mr. Brand, to provide a moral compass to his three children, especially the shy Gertrude, who Mr. Brand wants to marry. The Wentworths are somewhat suspicious as to the reason for their relatives' visit, but nonetheless the uncle puts them up in a neighboring house on their property. While Felix enjoys the company of his cousins - especially Gertrude - Eugenia is a bit more standoffish and cognizant of the real reason for their trip to the United States. For Eugenia, another of their uncle's cousins, a Mr. Robert Acton, may just fit the bill related to her goal, which concerns her current marriage and fi0cial security.\")\n",
      "\n",
      " successfully\n",
      "(1064, 'You have an error in your SQL syntax; check the manual that corresponds to your MySQL server version for the right syntax to use near \\'an adventurer of independent means\") from the 17th century. Bobby rescues Jack a\\' at line 1')\n",
      "Executed \n",
      "\n",
      "INSERT INTO jorge_garcia_navarro (NETFLIX_ID, NETFLIX_RATING, NUMBER_OF_VOTES, TITLE, IMDBID, YEAR, IMDBRATING, METASCORE, GENRE, PLOT) VALUES (17723, \"7.302436440677966\", 3776, \"Redemption\", \"tt0436706\", 2004, \"7.9\", \"0\", \"Drama, Short\", \"0\")\n",
      "\n",
      " successfully\n",
      "Executed \n",
      "\n",
      "INSERT INTO jorge_garcia_navarro (NETFLIX_ID, NETFLIX_RATING, NUMBER_OF_VOTES, TITLE, IMDBID, YEAR, IMDBRATING, METASCORE, GENRE, PLOT) VALUES (17724, \"7.740018788163457\", 8516, \"Gettysburg\", \"tt0107007\", 1993, \"7.6\", \"0\", \"Drama, History, War\", \"The four and 1/4 hour depiction of the historical and personal events surrounding and including the decisive American civil war battle features thousands of civil war re-enactors marching over the exact ground that the federal army and the army of North Virginia fought on. The defense of the Little Round Top and Pickett's Charge are highlighted in the actual three day battle which is surrounded by the speeches of the commanding officers and the personal reflections of the fighting men. Based upon the novel 'The Killer Angels'.\")\n",
      "\n",
      " successfully\n",
      "(1064, 'You have an error in your SQL syntax; check the manual that corresponds to your MySQL server version for the right syntax to use near \\'Jellicle\" cats join for a Jellicle ball where they rejoice with their leader, Ol\\' at line 1')\n",
      "Executed \n",
      "\n",
      "INSERT INTO jorge_garcia_navarro (NETFLIX_ID, NETFLIX_RATING, NUMBER_OF_VOTES, TITLE, IMDBID, YEAR, IMDBRATING, METASCORE, GENRE, PLOT) VALUES (17731, \"3.2285714285714286\", 70, \"Death Mask\", \"tt0167107\", 1998, \"4.6\", \"0\", \"Horror\", \"Wilbur works in an old carnival and shows some gruesome things to the puplic. He covered his face because he had a sadistic father who burned his face. Everybody makes jokes about his scars and when the new boss fired him, he go to an old swamp-witch who gives him a peace of wood from a hanging tree and Wilbur makes a mask from this piece of wood and put all his anger in this mask. When he puts the mask on, everybody who looks on this mask commits suicide. He has created the Death-Mask.\")\n",
      "\n",
      " successfully\n",
      "Executed \n",
      "\n",
      "INSERT INTO jorge_garcia_navarro (NETFLIX_ID, NETFLIX_RATING, NUMBER_OF_VOTES, TITLE, IMDBID, YEAR, IMDBRATING, METASCORE, GENRE, PLOT) VALUES (17734, \"6.805369127516778\", 149, \"Shanghai Ghetto\", \"tt0318068\", 2002, \"7.0\", \"68.0\", \"Documentary\", \"Stripped of possessions and rights, German and Eastern European Jews flee to an unlikely destination to avoid persecution from the Nazis.\")\n",
      "\n",
      " successfully\n",
      "Executed \n",
      "\n",
      "INSERT INTO jorge_garcia_navarro (NETFLIX_ID, NETFLIX_RATING, NUMBER_OF_VOTES, TITLE, IMDBID, YEAR, IMDBRATING, METASCORE, GENRE, PLOT) VALUES (17735, \"7.05050505050505\", 99, \"Type O Negative: After Dark\", \"tt0399803\", 1998, \"8.2\", \"0\", \"Music\", \"Go behind the stage with the gothic/metal band Type O Negative. See hilarious tounge-in-cheek humor from all 4 members (also has footage of Sal Abruscato). Also see a huge toilet paper fight with the crowd as Pantera plays on stage. You thought these guys were dark and mysterious? Think again and watch their first (and only, to date) video.\")\n",
      "\n",
      " successfully\n",
      "Executed \n",
      "\n",
      "INSERT INTO jorge_garcia_navarro (NETFLIX_ID, NETFLIX_RATING, NUMBER_OF_VOTES, TITLE, IMDBID, YEAR, IMDBRATING, METASCORE, GENRE, PLOT) VALUES (17738, \"7.485207100591716\", 676, \"Henry Rollins: Live at Luna Park\", \"tt0810896\", 2004, \"7.8\", \"0\", \"Comedy\", \"0\")\n",
      "\n",
      " successfully\n",
      "Executed \n",
      "\n",
      "INSERT INTO jorge_garcia_navarro (NETFLIX_ID, NETFLIX_RATING, NUMBER_OF_VOTES, TITLE, IMDBID, YEAR, IMDBRATING, METASCORE, GENRE, PLOT) VALUES (17741, \"6.574484944532488\", 2524, \"Ginger Snaps 2: Unleashed\", \"tt0353489\", 2004, \"6.4\", \"0\", \"Horror, Thriller\", \"Brigitte's on the run from Bailey Downs, and she tries to prevent what happened to her sister, Ginger, from happening to her by shooting up with monkshood. Eventually she collapses and the police that find assume the monkshood is an illegal drug, and she is sent to rehab. She is deprived of the only thing that will stop her from turning into a beast and killing everyone and everything in her way. She meets a girl who is quiet and not well-liked, and much like herself, by the name of Ghost that helps her deal with her new problem and to escape the werewolf curse.\")\n",
      "\n",
      " successfully\n",
      "Executed \n",
      "\n",
      "INSERT INTO jorge_garcia_navarro (NETFLIX_ID, NETFLIX_RATING, NUMBER_OF_VOTES, TITLE, IMDBID, YEAR, IMDBRATING, METASCORE, GENRE, PLOT) VALUES (17742, \"5.614518147684605\", 799, \"Catherine the Great\", \"tt0112031\", 1995, \"6.2\", \"0\", \"Biography, Drama, History, Romance\", \"In this romanticized biography, a small German principality's inexperienced princess, Catherine, becomes the bride of czarevitch Peter, the mad and abusive nephew and heir of the Russian czarina Elizabeth. From Elizabeth she learns the cynical ropes of wielding absolute imperial power at any cost, including sacrificing her lover, young guards officer Saltykov, who must give her an heir that Peter can't and is then sent abroad. After Elizabeth's death, she quickly moves to seize power with military and court support. She then works to enlarge and modernize the empire, again putting statesmanship ahead of her lover, a military genius who defeats the Ottomans and governs the conquered territories for her.\")\n",
      "\n",
      " successfully\n",
      "Executed \n",
      "\n",
      "INSERT INTO jorge_garcia_navarro (NETFLIX_ID, NETFLIX_RATING, NUMBER_OF_VOTES, TITLE, IMDBID, YEAR, IMDBRATING, METASCORE, GENRE, PLOT) VALUES (17747, \"7.053591790193843\", 877, \"Eric Clapton: 24 Nights\", \"tt0191992\", 1991, \"8.1\", \"0\", \"Documentary, Music\", \"0\")\n",
      "\n",
      " successfully\n",
      "Executed \n",
      "\n",
      "INSERT INTO jorge_garcia_navarro (NETFLIX_ID, NETFLIX_RATING, NUMBER_OF_VOTES, TITLE, IMDBID, YEAR, IMDBRATING, METASCORE, GENRE, PLOT) VALUES (17752, \"5.983074753173484\", 709, \"Out of Order\", \"tt0329476\", 2003, \"6.9\", \"0\", \"Drama, Romance\", \"Mark Colm is a family man torn between his love of his clinically depressed wife and their son and his attraction to another woman with whom he ultimately embarks on a passionate affair.\")\n",
      "\n",
      " successfully\n",
      "Executed \n",
      "\n",
      "INSERT INTO jorge_garcia_navarro (NETFLIX_ID, NETFLIX_RATING, NUMBER_OF_VOTES, TITLE, IMDBID, YEAR, IMDBRATING, METASCORE, GENRE, PLOT) VALUES (17753, \"4.946107784431137\", 167, \"Maslin Beach\", \"tt0229564\", 1997, \"4.8\", \"0\", \"Comedy, Drama, Romance\", \"Fi0ced outside the political funding system now controlling the Australian film industry, Maslin Beach demonstrates an interesting filmmaking strategy - no costumes, no sets, one location and action contained within real time. The film features a huge cast of over forty performers, ranging from noted actors such as Edmund Pegge, Gary Waddell, Nick Gill, Eliza Lovell and Noel Purdon, to cameo performances by table top dancers, sex workers and opera singers - all performing naked for this seaside extravaganza. A day on a beach like no other in the world... Enjoy!\")\n",
      "\n",
      " successfully\n",
      "Executed \n",
      "\n",
      "INSERT INTO jorge_garcia_navarro (NETFLIX_ID, NETFLIX_RATING, NUMBER_OF_VOTES, TITLE, IMDBID, YEAR, IMDBRATING, METASCORE, GENRE, PLOT) VALUES (17754, \"6.48469387755102\", 392, \"On the Ropes\", \"tt0181733\", 1999, \"7.1\", \"80.0\", \"Documentary, Drama, Sport\", \"The story of three young boxers and their coach who is determined to guide them in a positive direction in and out of the ring.\")\n",
      "\n",
      " successfully\n",
      "(1064, 'You have an error in your SQL syntax; check the manual that corresponds to your MySQL server version for the right syntax to use near \\'Mr Memory\"\\'s show in a music hall, he meets Annabella Smith who is running away \\' at line 1')\n",
      "Executed \n",
      "\n",
      "INSERT INTO jorge_garcia_navarro (NETFLIX_ID, NETFLIX_RATING, NUMBER_OF_VOTES, TITLE, IMDBID, YEAR, IMDBRATING, METASCORE, GENRE, PLOT) VALUES (17758, \"5.831061055127445\", 3374, \"Prophecy\", \"tt0079758\", 1979, \"5.5\", \"41.0\", \"Horror, Sci-Fi, Thriller\", \"A Savage beast, grown to monstrous size and driven mad by toxic wastes that are poisoning the waters, spreads terror and death on a Maine countryside.\")\n",
      "\n",
      " successfully\n",
      "(1064, 'You have an error in your SQL syntax; check the manual that corresponds to your MySQL server version for the right syntax to use near \\'The Big Bird Cage\") in which the women risk their lives processing sugar as the \\' at line 1')\n",
      "Executed \n",
      "\n",
      "INSERT INTO jorge_garcia_navarro (NETFLIX_ID, NETFLIX_RATING, NUMBER_OF_VOTES, TITLE, IMDBID, YEAR, IMDBRATING, METASCORE, GENRE, PLOT) VALUES (17760, \"5.616252821670429\", 443, \"Lightning Bug\", \"tt0363768\", 2004, \"6.5\", \"0\", \"Drama\", \"A drama/thriller, set in the South, about a young boy who longs to escape the misery of his childhood and the misunderstanding of his hometown. A gifted, self-taught, special effects make-up artist, Green dreams of going to Hollywood to make his own monsters. But the real demons of Green's life threaten to hold him back: a drunken stepfather who terrorizes his mother, a group of religious fanatics who want to destroy his work, and the love of a girl who can't let go of small town life.\")\n",
      "\n",
      " successfully\n",
      "Executed \n",
      "\n",
      "INSERT INTO jorge_garcia_navarro (NETFLIX_ID, NETFLIX_RATING, NUMBER_OF_VOTES, TITLE, IMDBID, YEAR, IMDBRATING, METASCORE, GENRE, PLOT) VALUES (17761, \"5.836696822083043\", 4311, \"Levity\", \"tt0304328\", 2003, \"6.4\", \"45.0\", \"Crime, Drama\", \"The film philosophical approach at redemption. The protagonist Manual Jordan has gotten parole from a life sentence for the murder of Abner Easley, and returns to the city he lived in to try to seek redemption. He ends up living and working at a community house run by a preacher, Miles Evans. The film is equipped with beautiful voice-overs about the meaning of life and different philosophies for getting redeemed. Manual also becomes friends with Adele Easley, his victims sister, in an attempt to make up for what he did. While working at the home he has interactions with Sofia Mellinger, the druggie daughter of a famous singer, struggling with the lack of adult guidance in her life.\")\n",
      "\n",
      " successfully\n",
      "Executed \n",
      "\n",
      "INSERT INTO jorge_garcia_navarro (NETFLIX_ID, NETFLIX_RATING, NUMBER_OF_VOTES, TITLE, IMDBID, YEAR, IMDBRATING, METASCORE, GENRE, PLOT) VALUES (17762, \"7.291497975708502\", 32110, \"Gattaca\", \"tt0119177\", 1997, \"7.8\", \"64.0\", \"Drama, Sci-Fi, Thriller\", \"In the not-too-distant future, a less-than-perfect man wants to travel to the stars. Society has categorized Vincent Freeman as less than suitable given his genetic make-up and he has become one of the underclass of humans that are only useful for menial jobs. To move ahead, he assumes the identity of Jerome Morrow, a perfect genetic specimen who is a paraplegic as a result of a car accident. With professional advice, Vincent learns to deceive DNA and urine sample testing. Just when he is finally scheduled for a space mission, his program director is killed and the police begin an investigation, jeopardizing his secret.\")\n",
      "\n",
      " successfully\n",
      "Executed \n",
      "\n",
      "INSERT INTO jorge_garcia_navarro (NETFLIX_ID, NETFLIX_RATING, NUMBER_OF_VOTES, TITLE, IMDBID, YEAR, IMDBRATING, METASCORE, GENRE, PLOT) VALUES (17763, \"6.823709759836484\", 1957, \"Interiors\", \"tt0077742\", 1978, \"7.4\", \"67.0\", \"Drama\", \"The story of a very dysfunctional family and what happens when the parents divorce. Eve (Geraldine Page) and Arthur (EG Marshall) are a 60-something couple, recently separated. They have three adult daughters - Renata (Diane Keaton), Joey (Mary Beth Hurt) and Flyn (Kristin Griffith). Renata is a poet and is married to Frederick (Richard Jordan). Joey is (reluctantly) in advertising and is married to Mike (Sam Waterston). Joey is a film and TV actress. Eve is an incredibly negative woman and this has had a toxic effect on her children. This results in stifling, unsupportive relationships and joyless lives.\")\n",
      "\n",
      " successfully\n",
      "Executed \n",
      "\n",
      "INSERT INTO jorge_garcia_navarro (NETFLIX_ID, NETFLIX_RATING, NUMBER_OF_VOTES, TITLE, IMDBID, YEAR, IMDBRATING, METASCORE, GENRE, PLOT) VALUES (17764, \"7.734224179072309\", 64957, \"Shakespeare in Love\", \"tt0138097\", 1998, \"7.1\", \"87.0\", \"Comedy, Drama, History, Romance\", \"Will Shakespeare is a known but struggling poet, playwright and actor who not only has sold his next play to both Philip Henslow and Richard Burbidge but now faces a far more difficult problem: he is bereft of ideas and has yet to begin writing. He is in search of his muse, the woman who will inspire him but all attempts fail him until he meets the beautiful Viola de Lesseps. She loves the theatre and would like nothing more than to take to the stage but is forbidden from doing so as only men can be actors. She is also a great admirer of Shakespeare's works. Dressing as a man and going by the name of Thomas Kent, she auditions and is ideal for a part in his next play. Shakespeare soon sees through her disguise and they begin a love affair, one they know cannot end happily for them as he is already married and she has been promised to the dour Lord Wessex. As the company rehearses his new play, Will and Viola's love is transferred to the written page leading to the masterpiece that is Romeo and Juliet.\")\n",
      "\n",
      " successfully\n",
      "Executed \n",
      "\n",
      "INSERT INTO jorge_garcia_navarro (NETFLIX_ID, NETFLIX_RATING, NUMBER_OF_VOTES, TITLE, IMDBID, YEAR, IMDBRATING, METASCORE, GENRE, PLOT) VALUES (17769, \"4.997184768113795\", 6749, \"The Company\", \"tt0335013\", 2003, \"6.3\", \"73.0\", \"Drama, Music, Romance\", \"An inside look at the world of ballet. With the complete cooperation of the Joffrey Ballet of Chicago, Altman follows the stories of the dancers, whose professional and personal lives grow impossibly close, as they cope with the demands of a life in the ballet. Campbell plays a gifted but conflicted company member on the verge of becoming a principal dancer at a fictional Chicago troupe, with McDowell the company's co-founder and artistic director, considered one of America's most exciting choreographers. Franco plays Campbell's boyfriend and one of the few characters not involved in the world of dance.\")\n",
      "\n",
      " successfully\n",
      "Executed \n",
      "\n",
      "INSERT INTO jorge_garcia_navarro (NETFLIX_ID, NETFLIX_RATING, NUMBER_OF_VOTES, TITLE, IMDBID, YEAR, IMDBRATING, METASCORE, GENRE, PLOT) VALUES (17770, \"5.63300760043431\", 921, \"Alien Hunter\", \"tt0327409\", 2003, \"5.1\", \"0\", \"Action, Adventure, Sci-Fi, Thriller\", \"In 1947, in New Mexico, a radio operator receives a signal following patterns and while investigating the occurrence, he vanishes. In the present days, the same signal is transmitted from a base in the Falkland Islands to United States of America, and a satellite captures images of a unknown object in Antartic. The cryptologist Julien Rome (James Spader) is invited to investigate the mystery in the South Pole, and he flies to a research base. While a team tries to open a weird shell probably from the outer space, Julien solves the message, indeed a distress signal ordering not to open the case.\")\n",
      "\n",
      " successfully\n",
      "Close connection with MySQL server [53814652b_ds_april_2021_db]\n"
     ]
    }
   ],
   "source": [
    "driver.df_to_table('jorge_garcia_navarro', base) #TABLE Already created"
   ]
  },
  {
   "source": [
    "## 7. Option A EDA Questions\n",
    "\n",
    "### a. Are there outliers or some rare data?\n",
    "Based on the nature of the study on the collected data, there are no outliers to be considered. \n",
    "\n",
    "### b. What are the columns that have more repeated values?\n",
    "Every row on the used Datasets is unique, so there should not be any repeated values. There is an issue pending for future optimization were some similar titles returned the same IMDb ID when merged (eg. The Godfather parts II and III)."
   ],
   "cell_type": "markdown",
   "metadata": {}
  }
 ]
}