{
 "metadata": {
  "language_info": {
   "codemirror_mode": {
    "name": "ipython",
    "version": 3
   },
   "file_extension": ".py",
   "mimetype": "text/x-python",
   "name": "python",
   "nbconvert_exporter": "python",
   "pygments_lexer": "ipython3",
   "version": "3.7.4"
  },
  "orig_nbformat": 2,
  "kernelspec": {
   "name": "python374jvsc74a57bd0674dfd6ded4398e0679ff4f65e9a10a54ff0d14801bec0126172cfc3973d1cf1",
   "display_name": "Python 3.7.4 64-bit"
  },
  "metadata": {
   "interpreter": {
    "hash": "674dfd6ded4398e0679ff4f65e9a10a54ff0d14801bec0126172cfc3973d1cf1"
   }
  }
 },
 "nbformat": 4,
 "nbformat_minor": 2,
 "cells": [
  {
   "cell_type": "code",
   "execution_count": 1,
   "metadata": {},
   "outputs": [
    {
     "output_type": "stream",
     "name": "stderr",
     "text": [
      "[nltk_data] Downloading package punkt to\n[nltk_data]     C:\\Users\\jgnsa\\AppData\\Roaming\\nltk_data...\n[nltk_data]   Package punkt is already up-to-date!\n[nltk_data] Downloading package averaged_perceptron_tagger to\n[nltk_data]     C:\\Users\\jgnsa\\AppData\\Roaming\\nltk_data...\n[nltk_data]   Package averaged_perceptron_tagger is already up-to-\n[nltk_data]       date!\n"
     ]
    }
   ],
   "source": [
    "import os, sys\n",
    "\n",
    "from utils.mining_data_tb import OmdbCleaner, NetCleaner, WordCleaner"
   ]
  },
  {
   "cell_type": "code",
   "execution_count": 2,
   "metadata": {},
   "outputs": [
    {
     "output_type": "execute_result",
     "data": {
      "text/plain": [
       "'d:\\\\Documentos\\\\TheBridge\\\\bridge_datascience_JorgeGarcia\\\\EDA_FINAL'"
      ]
     },
     "metadata": {},
     "execution_count": 2
    }
   ],
   "source": [
    "rootpath = os.path.dirname(os.getcwd())\n",
    "rootpath"
   ]
  },
  {
   "cell_type": "code",
   "execution_count": 3,
   "metadata": {},
   "outputs": [],
   "source": [
    "#PATHS\n",
    "data_path = rootpath + os.sep + 'data'\n",
    "net_raw_path = data_path + os.sep + 'Netflix_raw'\n",
    "net_movies_path = net_raw_path + os.sep + 'netflix_movie_titles.csv'\n",
    "imdb_path = data_path + os.sep + 'titles.tsv'\n",
    "omdb_net_path = data_path + os.sep + 'OMDb_Netflix'\n",
    "netid_path = net_raw_path + os.sep + 'Net_Data_ID.csv'"
   ]
  },
  {
   "cell_type": "code",
   "execution_count": 4,
   "metadata": {},
   "outputs": [],
   "source": [
    "omdb = OmdbCleaner(net_path=net_movies_path, imdb_path=imdb_path, omdb_net_path=omdb_net_path)"
   ]
  },
  {
   "cell_type": "code",
   "execution_count": 5,
   "metadata": {},
   "outputs": [
    {
     "output_type": "execute_result",
     "data": {
      "text/plain": [
       "      netflix_id startYear                     originalTitle    titleId  \\\n",
       "0              1      2003                   Dinosaur Planet  tt0389605   \n",
       "1             12      1947              My Favorite Brunette  tt0039645   \n",
       "2             15      1988  Neil Diamond: Greatest Hits Live  tt0168093   \n",
       "3             17      2005                         7 Seconds  tt0417395   \n",
       "4             18      1994                  Immortal Beloved  tt0110116   \n",
       "...          ...       ...                               ...        ...   \n",
       "9726       17762      1997                           Gattaca  tt0119177   \n",
       "9727       17763      1978                         Interiors  tt0077742   \n",
       "9728       17764      1998               Shakespeare in Love  tt0138097   \n",
       "9729       17769      2003                       The Company  tt0335013   \n",
       "9730       17770      2003                      Alien Hunter  tt0327409   \n",
       "\n",
       "         titleType                      primaryTitle isAdult endYear  \\\n",
       "0     tvMiniSeries                   Dinosaur Planet       0      \\N   \n",
       "1            movie              My Favorite Brunette       0      \\N   \n",
       "2            video  Neil Diamond: Greatest Hits Live       0      \\N   \n",
       "3            video                         7 Seconds       0      \\N   \n",
       "4            movie                  Immortal Beloved       0      \\N   \n",
       "...            ...                               ...     ...     ...   \n",
       "9726         movie                           Gattaca       0      \\N   \n",
       "9727         movie                         Interiors       0      \\N   \n",
       "9728         movie               Shakespeare in Love       0      \\N   \n",
       "9729         movie                       The Company       0      \\N   \n",
       "9730         movie                      Alien Hunter       0      \\N   \n",
       "\n",
       "     runtimeMinutes                        genres  \n",
       "0                50  Animation,Documentary,Family  \n",
       "1                87          Comedy,Crime,Mystery  \n",
       "2                60             Documentary,Music  \n",
       "3                96           Action,Comedy,Crime  \n",
       "4               121         Biography,Drama,Music  \n",
       "...             ...                           ...  \n",
       "9726            106         Drama,Sci-Fi,Thriller  \n",
       "9727             92                         Drama  \n",
       "9728            123          Comedy,Drama,History  \n",
       "9729            112           Drama,Music,Romance  \n",
       "9730             92       Action,Adventure,Sci-Fi  \n",
       "\n",
       "[8205 rows x 10 columns]"
      ],
      "text/html": "<div>\n<style scoped>\n    .dataframe tbody tr th:only-of-type {\n        vertical-align: middle;\n    }\n\n    .dataframe tbody tr th {\n        vertical-align: top;\n    }\n\n    .dataframe thead th {\n        text-align: right;\n    }\n</style>\n<table border=\"1\" class=\"dataframe\">\n  <thead>\n    <tr style=\"text-align: right;\">\n      <th></th>\n      <th>netflix_id</th>\n      <th>startYear</th>\n      <th>originalTitle</th>\n      <th>titleId</th>\n      <th>titleType</th>\n      <th>primaryTitle</th>\n      <th>isAdult</th>\n      <th>endYear</th>\n      <th>runtimeMinutes</th>\n      <th>genres</th>\n    </tr>\n  </thead>\n  <tbody>\n    <tr>\n      <th>0</th>\n      <td>1</td>\n      <td>2003</td>\n      <td>Dinosaur Planet</td>\n      <td>tt0389605</td>\n      <td>tvMiniSeries</td>\n      <td>Dinosaur Planet</td>\n      <td>0</td>\n      <td>\\N</td>\n      <td>50</td>\n      <td>Animation,Documentary,Family</td>\n    </tr>\n    <tr>\n      <th>1</th>\n      <td>12</td>\n      <td>1947</td>\n      <td>My Favorite Brunette</td>\n      <td>tt0039645</td>\n      <td>movie</td>\n      <td>My Favorite Brunette</td>\n      <td>0</td>\n      <td>\\N</td>\n      <td>87</td>\n      <td>Comedy,Crime,Mystery</td>\n    </tr>\n    <tr>\n      <th>2</th>\n      <td>15</td>\n      <td>1988</td>\n      <td>Neil Diamond: Greatest Hits Live</td>\n      <td>tt0168093</td>\n      <td>video</td>\n      <td>Neil Diamond: Greatest Hits Live</td>\n      <td>0</td>\n      <td>\\N</td>\n      <td>60</td>\n      <td>Documentary,Music</td>\n    </tr>\n    <tr>\n      <th>3</th>\n      <td>17</td>\n      <td>2005</td>\n      <td>7 Seconds</td>\n      <td>tt0417395</td>\n      <td>video</td>\n      <td>7 Seconds</td>\n      <td>0</td>\n      <td>\\N</td>\n      <td>96</td>\n      <td>Action,Comedy,Crime</td>\n    </tr>\n    <tr>\n      <th>4</th>\n      <td>18</td>\n      <td>1994</td>\n      <td>Immortal Beloved</td>\n      <td>tt0110116</td>\n      <td>movie</td>\n      <td>Immortal Beloved</td>\n      <td>0</td>\n      <td>\\N</td>\n      <td>121</td>\n      <td>Biography,Drama,Music</td>\n    </tr>\n    <tr>\n      <th>...</th>\n      <td>...</td>\n      <td>...</td>\n      <td>...</td>\n      <td>...</td>\n      <td>...</td>\n      <td>...</td>\n      <td>...</td>\n      <td>...</td>\n      <td>...</td>\n      <td>...</td>\n    </tr>\n    <tr>\n      <th>9726</th>\n      <td>17762</td>\n      <td>1997</td>\n      <td>Gattaca</td>\n      <td>tt0119177</td>\n      <td>movie</td>\n      <td>Gattaca</td>\n      <td>0</td>\n      <td>\\N</td>\n      <td>106</td>\n      <td>Drama,Sci-Fi,Thriller</td>\n    </tr>\n    <tr>\n      <th>9727</th>\n      <td>17763</td>\n      <td>1978</td>\n      <td>Interiors</td>\n      <td>tt0077742</td>\n      <td>movie</td>\n      <td>Interiors</td>\n      <td>0</td>\n      <td>\\N</td>\n      <td>92</td>\n      <td>Drama</td>\n    </tr>\n    <tr>\n      <th>9728</th>\n      <td>17764</td>\n      <td>1998</td>\n      <td>Shakespeare in Love</td>\n      <td>tt0138097</td>\n      <td>movie</td>\n      <td>Shakespeare in Love</td>\n      <td>0</td>\n      <td>\\N</td>\n      <td>123</td>\n      <td>Comedy,Drama,History</td>\n    </tr>\n    <tr>\n      <th>9729</th>\n      <td>17769</td>\n      <td>2003</td>\n      <td>The Company</td>\n      <td>tt0335013</td>\n      <td>movie</td>\n      <td>The Company</td>\n      <td>0</td>\n      <td>\\N</td>\n      <td>112</td>\n      <td>Drama,Music,Romance</td>\n    </tr>\n    <tr>\n      <th>9730</th>\n      <td>17770</td>\n      <td>2003</td>\n      <td>Alien Hunter</td>\n      <td>tt0327409</td>\n      <td>movie</td>\n      <td>Alien Hunter</td>\n      <td>0</td>\n      <td>\\N</td>\n      <td>92</td>\n      <td>Action,Adventure,Sci-Fi</td>\n    </tr>\n  </tbody>\n</table>\n<p>8205 rows × 10 columns</p>\n</div>"
     },
     "metadata": {},
     "execution_count": 5
    }
   ],
   "source": [
    "omdb.get_imdb_ids(save=True)"
   ]
  },
  {
   "cell_type": "code",
   "execution_count": 5,
   "metadata": {},
   "outputs": [
    {
     "output_type": "stream",
     "name": "stdout",
     "text": [
      "1 Response: True\n",
      "2 Response: True\n",
      "3 Response: True\n",
      "4 Response: True\n",
      "5 Response: True\n",
      "6 Response: True\n",
      "7 Response: True\n",
      "8 Response: True\n",
      "9 Response: True\n",
      "10 Response: True\n",
      "11 Response: True\n"
     ]
    },
    {
     "output_type": "execute_result",
     "data": {
      "text/plain": [
       "                             Title       Year      Rated     Released  \\\n",
       "0                  Never Die Alone       2004          R  26 Mar 2004   \n",
       "1                  Lilo and Stitch       2002        N/A  15 Mar 2002   \n",
       "2                          Boycott       2001         PG  24 Feb 2001   \n",
       "3           Something's Gotta Give       2003      PG-13  12 Dec 2003   \n",
       "4               Daydream Obsession       2003        N/A  23 Nov 2003   \n",
       "5           Searching for Paradise       2002          R  24 Jun 2002   \n",
       "6                  The Love Letter       1999      PG-13  21 May 1999   \n",
       "7   Rudolph the Red-Nosed Reindeer       1964       TV-G  06 Dec 1964   \n",
       "8        The Bad and the Beautiful       1952     Passed  09 Feb 1953   \n",
       "9                   Justice League  2001–2004      TV-PG  17 Nov 2001   \n",
       "10            A Yank in the R.A.F.       1941  Not Rated  09 Feb 1942   \n",
       "\n",
       "    Runtime                                              Genre  \\\n",
       "0    88 min                     Action, Crime, Drama, Thriller   \n",
       "1       N/A                                          Talk-Show   \n",
       "2   118 min                                              Drama   \n",
       "3   128 min                             Comedy, Drama, Romance   \n",
       "4    87 min                                            Romance   \n",
       "5    88 min                                              Drama   \n",
       "6    88 min                             Comedy, Drama, Romance   \n",
       "7    47 min  Animation, Adventure, Comedy, Family, Fantasy,...   \n",
       "8   118 min                                     Drama, Romance   \n",
       "9    22 min  Animation, Action, Adventure, Drama, Family, F...   \n",
       "10   98 min             Action, Adventure, Drama, Romance, War   \n",
       "\n",
       "               Director                                             Writer  \\\n",
       "0   Ernest R. Dickerson   Donald Goines (novel), James Gibson (screenplay)   \n",
       "1            Art Spigel                                                N/A   \n",
       "2         Clark Johnson  Stewart Burns (book), Herman Daniel Farrell (t...   \n",
       "3          Nancy Meyers                                       Nancy Meyers   \n",
       "4       Thomas R. Smyth                                    Scott Yarbrough   \n",
       "5             Myra Paci                                          Myra Paci   \n",
       "6     Peter Ho-Sun Chan  Cathleen Schine (novel), Maria Maggenti (scree...   \n",
       "7          Larry Roemer  Romeo Muller, Robert May (story), Johnny Marks...   \n",
       "8     Vincente Minnelli  Charles Schnee (screenplay), George Bradshaw (...   \n",
       "9                   N/A  Bob Kane, William Moulton Marston, Joe Shuster...   \n",
       "10           Henry King  Darrell Ware (screenplay), Karl Tunberg (scree...   \n",
       "\n",
       "                                               Actors  \\\n",
       "0       DMX, Michael Ealy, Drew Sidora, Antwon Tanner   \n",
       "1                         Mike Johnson, Alyson Stoner   \n",
       "2   Jeffrey Wright, Terrence Howard, CCH Pounder, ...   \n",
       "3   Jack Nicholson, Diane Keaton, Keanu Reeves, Fr...   \n",
       "4     Joe Dain, Kris Black, Julian Coca, Danny Dallas   \n",
       "5   Susan May Pratt, Chris Noth, Jeremy Davies, Jo...   \n",
       "6   Kate Capshaw, Blythe Danner, Ellen DeGeneres, ...   \n",
       "7   Burl Ives, Larry D. Mann, Billie Mae Richards,...   \n",
       "8   Lana Turner, Kirk Douglas, Walter Pidgeon, Dic...   \n",
       "9   Carl Lumbly, Phil LaMarr, Michael Rosenbaum, G...   \n",
       "10  Tyrone Power, Betty Grable, John Sutton, Regin...   \n",
       "\n",
       "                                                 Plot  ...     Type  \\\n",
       "0   A film noir centering around a hard-boiled, st...  ...    movie   \n",
       "1                                                 N/A  ...  episode   \n",
       "2   Black Americans boycott the public buses durin...  ...    movie   \n",
       "3   Harry Sanborn is an aged music industry exec w...  ...    movie   \n",
       "4   Clayton has a problem with his roommate Brian....  ...    movie   \n",
       "5   A young woman, coping with the death of her fa...  ...    movie   \n",
       "6   The power of words and images to open hearts. ...  ...    movie   \n",
       "7   Sam the snowman tells us the story of a young ...  ...    movie   \n",
       "8   Told in flashback form, the film traces the ri...  ...    movie   \n",
       "9   Forces of evil, chaos, and destruction await. ...  ...   series   \n",
       "10  Tyrone Power is a pilots' pilot, but he doesn'...  ...    movie   \n",
       "\n",
       "            DVD     BoxOffice  \\\n",
       "0   18 Sep 2012    $5,645,298   \n",
       "1           NaN           NaN   \n",
       "2   07 Dec 2017           N/A   \n",
       "3   16 Apr 2012  $124,728,738   \n",
       "4           N/A           N/A   \n",
       "5   22 Mar 2005           N/A   \n",
       "6   10 Aug 2016    $8,302,478   \n",
       "7           N/A           N/A   \n",
       "8   16 Apr 2012           N/A   \n",
       "9           NaN           NaN   \n",
       "10  21 May 2002           N/A   \n",
       "\n",
       "                                           Production Website Response Season  \\\n",
       "0   Fearon Entertainment, Visionbox Pictures, Cont...     N/A     True    NaN   \n",
       "1                                                 NaN     NaN     True      1   \n",
       "2   HBO Films, Shelby Stone Productions, Norman Tw...     N/A     True    NaN   \n",
       "3   Warner Brothers, Waverly Films, Columbia Pictu...     N/A     True    NaN   \n",
       "4                                                 N/A     N/A     True    NaN   \n",
       "5                           Centre Street Productions     N/A     True    NaN   \n",
       "6                                      DreamWorks SKG     N/A     True    NaN   \n",
       "7                                                 N/A     N/A     True    NaN   \n",
       "8                Metro Goldwyn Mayer, Loew&#39;s Inc.     N/A     True    NaN   \n",
       "9                                                 NaN     NaN     True    NaN   \n",
       "10                                                N/A     N/A     True    NaN   \n",
       "\n",
       "   Episode   seriesID totalSeasons  \n",
       "0      NaN        NaN          NaN  \n",
       "1        9  tt0382488          NaN  \n",
       "2      NaN        NaN          NaN  \n",
       "3      NaN        NaN          NaN  \n",
       "4      NaN        NaN          NaN  \n",
       "5      NaN        NaN          NaN  \n",
       "6      NaN        NaN          NaN  \n",
       "7      NaN        NaN          NaN  \n",
       "8      NaN        NaN          NaN  \n",
       "9      NaN        NaN            2  \n",
       "10     NaN        NaN          NaN  \n",
       "\n",
       "[11 rows x 29 columns]"
      ],
      "text/html": "<div>\n<style scoped>\n    .dataframe tbody tr th:only-of-type {\n        vertical-align: middle;\n    }\n\n    .dataframe tbody tr th {\n        vertical-align: top;\n    }\n\n    .dataframe thead th {\n        text-align: right;\n    }\n</style>\n<table border=\"1\" class=\"dataframe\">\n  <thead>\n    <tr style=\"text-align: right;\">\n      <th></th>\n      <th>Title</th>\n      <th>Year</th>\n      <th>Rated</th>\n      <th>Released</th>\n      <th>Runtime</th>\n      <th>Genre</th>\n      <th>Director</th>\n      <th>Writer</th>\n      <th>Actors</th>\n      <th>Plot</th>\n      <th>...</th>\n      <th>Type</th>\n      <th>DVD</th>\n      <th>BoxOffice</th>\n      <th>Production</th>\n      <th>Website</th>\n      <th>Response</th>\n      <th>Season</th>\n      <th>Episode</th>\n      <th>seriesID</th>\n      <th>totalSeasons</th>\n    </tr>\n  </thead>\n  <tbody>\n    <tr>\n      <th>0</th>\n      <td>Never Die Alone</td>\n      <td>2004</td>\n      <td>R</td>\n      <td>26 Mar 2004</td>\n      <td>88 min</td>\n      <td>Action, Crime, Drama, Thriller</td>\n      <td>Ernest R. Dickerson</td>\n      <td>Donald Goines (novel), James Gibson (screenplay)</td>\n      <td>DMX, Michael Ealy, Drew Sidora, Antwon Tanner</td>\n      <td>A film noir centering around a hard-boiled, st...</td>\n      <td>...</td>\n      <td>movie</td>\n      <td>18 Sep 2012</td>\n      <td>$5,645,298</td>\n      <td>Fearon Entertainment, Visionbox Pictures, Cont...</td>\n      <td>N/A</td>\n      <td>True</td>\n      <td>NaN</td>\n      <td>NaN</td>\n      <td>NaN</td>\n      <td>NaN</td>\n    </tr>\n    <tr>\n      <th>1</th>\n      <td>Lilo and Stitch</td>\n      <td>2002</td>\n      <td>N/A</td>\n      <td>15 Mar 2002</td>\n      <td>N/A</td>\n      <td>Talk-Show</td>\n      <td>Art Spigel</td>\n      <td>N/A</td>\n      <td>Mike Johnson, Alyson Stoner</td>\n      <td>N/A</td>\n      <td>...</td>\n      <td>episode</td>\n      <td>NaN</td>\n      <td>NaN</td>\n      <td>NaN</td>\n      <td>NaN</td>\n      <td>True</td>\n      <td>1</td>\n      <td>9</td>\n      <td>tt0382488</td>\n      <td>NaN</td>\n    </tr>\n    <tr>\n      <th>2</th>\n      <td>Boycott</td>\n      <td>2001</td>\n      <td>PG</td>\n      <td>24 Feb 2001</td>\n      <td>118 min</td>\n      <td>Drama</td>\n      <td>Clark Johnson</td>\n      <td>Stewart Burns (book), Herman Daniel Farrell (t...</td>\n      <td>Jeffrey Wright, Terrence Howard, CCH Pounder, ...</td>\n      <td>Black Americans boycott the public buses durin...</td>\n      <td>...</td>\n      <td>movie</td>\n      <td>07 Dec 2017</td>\n      <td>N/A</td>\n      <td>HBO Films, Shelby Stone Productions, Norman Tw...</td>\n      <td>N/A</td>\n      <td>True</td>\n      <td>NaN</td>\n      <td>NaN</td>\n      <td>NaN</td>\n      <td>NaN</td>\n    </tr>\n    <tr>\n      <th>3</th>\n      <td>Something's Gotta Give</td>\n      <td>2003</td>\n      <td>PG-13</td>\n      <td>12 Dec 2003</td>\n      <td>128 min</td>\n      <td>Comedy, Drama, Romance</td>\n      <td>Nancy Meyers</td>\n      <td>Nancy Meyers</td>\n      <td>Jack Nicholson, Diane Keaton, Keanu Reeves, Fr...</td>\n      <td>Harry Sanborn is an aged music industry exec w...</td>\n      <td>...</td>\n      <td>movie</td>\n      <td>16 Apr 2012</td>\n      <td>$124,728,738</td>\n      <td>Warner Brothers, Waverly Films, Columbia Pictu...</td>\n      <td>N/A</td>\n      <td>True</td>\n      <td>NaN</td>\n      <td>NaN</td>\n      <td>NaN</td>\n      <td>NaN</td>\n    </tr>\n    <tr>\n      <th>4</th>\n      <td>Daydream Obsession</td>\n      <td>2003</td>\n      <td>N/A</td>\n      <td>23 Nov 2003</td>\n      <td>87 min</td>\n      <td>Romance</td>\n      <td>Thomas R. Smyth</td>\n      <td>Scott Yarbrough</td>\n      <td>Joe Dain, Kris Black, Julian Coca, Danny Dallas</td>\n      <td>Clayton has a problem with his roommate Brian....</td>\n      <td>...</td>\n      <td>movie</td>\n      <td>N/A</td>\n      <td>N/A</td>\n      <td>N/A</td>\n      <td>N/A</td>\n      <td>True</td>\n      <td>NaN</td>\n      <td>NaN</td>\n      <td>NaN</td>\n      <td>NaN</td>\n    </tr>\n    <tr>\n      <th>5</th>\n      <td>Searching for Paradise</td>\n      <td>2002</td>\n      <td>R</td>\n      <td>24 Jun 2002</td>\n      <td>88 min</td>\n      <td>Drama</td>\n      <td>Myra Paci</td>\n      <td>Myra Paci</td>\n      <td>Susan May Pratt, Chris Noth, Jeremy Davies, Jo...</td>\n      <td>A young woman, coping with the death of her fa...</td>\n      <td>...</td>\n      <td>movie</td>\n      <td>22 Mar 2005</td>\n      <td>N/A</td>\n      <td>Centre Street Productions</td>\n      <td>N/A</td>\n      <td>True</td>\n      <td>NaN</td>\n      <td>NaN</td>\n      <td>NaN</td>\n      <td>NaN</td>\n    </tr>\n    <tr>\n      <th>6</th>\n      <td>The Love Letter</td>\n      <td>1999</td>\n      <td>PG-13</td>\n      <td>21 May 1999</td>\n      <td>88 min</td>\n      <td>Comedy, Drama, Romance</td>\n      <td>Peter Ho-Sun Chan</td>\n      <td>Cathleen Schine (novel), Maria Maggenti (scree...</td>\n      <td>Kate Capshaw, Blythe Danner, Ellen DeGeneres, ...</td>\n      <td>The power of words and images to open hearts. ...</td>\n      <td>...</td>\n      <td>movie</td>\n      <td>10 Aug 2016</td>\n      <td>$8,302,478</td>\n      <td>DreamWorks SKG</td>\n      <td>N/A</td>\n      <td>True</td>\n      <td>NaN</td>\n      <td>NaN</td>\n      <td>NaN</td>\n      <td>NaN</td>\n    </tr>\n    <tr>\n      <th>7</th>\n      <td>Rudolph the Red-Nosed Reindeer</td>\n      <td>1964</td>\n      <td>TV-G</td>\n      <td>06 Dec 1964</td>\n      <td>47 min</td>\n      <td>Animation, Adventure, Comedy, Family, Fantasy,...</td>\n      <td>Larry Roemer</td>\n      <td>Romeo Muller, Robert May (story), Johnny Marks...</td>\n      <td>Burl Ives, Larry D. Mann, Billie Mae Richards,...</td>\n      <td>Sam the snowman tells us the story of a young ...</td>\n      <td>...</td>\n      <td>movie</td>\n      <td>N/A</td>\n      <td>N/A</td>\n      <td>N/A</td>\n      <td>N/A</td>\n      <td>True</td>\n      <td>NaN</td>\n      <td>NaN</td>\n      <td>NaN</td>\n      <td>NaN</td>\n    </tr>\n    <tr>\n      <th>8</th>\n      <td>The Bad and the Beautiful</td>\n      <td>1952</td>\n      <td>Passed</td>\n      <td>09 Feb 1953</td>\n      <td>118 min</td>\n      <td>Drama, Romance</td>\n      <td>Vincente Minnelli</td>\n      <td>Charles Schnee (screenplay), George Bradshaw (...</td>\n      <td>Lana Turner, Kirk Douglas, Walter Pidgeon, Dic...</td>\n      <td>Told in flashback form, the film traces the ri...</td>\n      <td>...</td>\n      <td>movie</td>\n      <td>16 Apr 2012</td>\n      <td>N/A</td>\n      <td>Metro Goldwyn Mayer, Loew&amp;#39;s Inc.</td>\n      <td>N/A</td>\n      <td>True</td>\n      <td>NaN</td>\n      <td>NaN</td>\n      <td>NaN</td>\n      <td>NaN</td>\n    </tr>\n    <tr>\n      <th>9</th>\n      <td>Justice League</td>\n      <td>2001–2004</td>\n      <td>TV-PG</td>\n      <td>17 Nov 2001</td>\n      <td>22 min</td>\n      <td>Animation, Action, Adventure, Drama, Family, F...</td>\n      <td>N/A</td>\n      <td>Bob Kane, William Moulton Marston, Joe Shuster...</td>\n      <td>Carl Lumbly, Phil LaMarr, Michael Rosenbaum, G...</td>\n      <td>Forces of evil, chaos, and destruction await. ...</td>\n      <td>...</td>\n      <td>series</td>\n      <td>NaN</td>\n      <td>NaN</td>\n      <td>NaN</td>\n      <td>NaN</td>\n      <td>True</td>\n      <td>NaN</td>\n      <td>NaN</td>\n      <td>NaN</td>\n      <td>2</td>\n    </tr>\n    <tr>\n      <th>10</th>\n      <td>A Yank in the R.A.F.</td>\n      <td>1941</td>\n      <td>Not Rated</td>\n      <td>09 Feb 1942</td>\n      <td>98 min</td>\n      <td>Action, Adventure, Drama, Romance, War</td>\n      <td>Henry King</td>\n      <td>Darrell Ware (screenplay), Karl Tunberg (scree...</td>\n      <td>Tyrone Power, Betty Grable, John Sutton, Regin...</td>\n      <td>Tyrone Power is a pilots' pilot, but he doesn'...</td>\n      <td>...</td>\n      <td>movie</td>\n      <td>21 May 2002</td>\n      <td>N/A</td>\n      <td>N/A</td>\n      <td>N/A</td>\n      <td>True</td>\n      <td>NaN</td>\n      <td>NaN</td>\n      <td>NaN</td>\n      <td>NaN</td>\n    </tr>\n  </tbody>\n</table>\n<p>11 rows × 29 columns</p>\n</div>"
     },
     "metadata": {},
     "execution_count": 5
    }
   ],
   "source": [
    "netid_path = data_path + os.sep + 'Netflix_raw' + os.sep + 'Net_Data_ID.csv'\n",
    "\n",
    "omdb.omdb_to_csv(netid_path, savepath=omdb_net_path, row_start=10, row_num=10) #Ejemplo de llamada a API"
   ]
  },
  {
   "cell_type": "code",
   "execution_count": 5,
   "metadata": {},
   "outputs": [
    {
     "output_type": "execute_result",
     "data": {
      "text/plain": [
       "         imdbID                                         Title  Year  \\\n",
       "0     tt0579513                                Under Pressure  1997   \n",
       "1     tt0528465                                    Unforgiven  1992   \n",
       "2     tt0574008                                 A Married Man  1984   \n",
       "3     tt0185906                              Band of Brothers  2001   \n",
       "4     tt1736672  Widespread Panic: The Earth Will Swallow You  2002   \n",
       "...         ...                                           ...   ...   \n",
       "9616  tt0675506                                          Hulk  2003   \n",
       "9617  tt1266298                       A River Runs Through It  1992   \n",
       "9618  tt0438362                                    Redemption  2004   \n",
       "9619  tt0833643                                    Redemption  2004   \n",
       "9620  tt0639525                                          Cats  1998   \n",
       "\n",
       "      imdbRating  Metascore                        Genre  \\\n",
       "0           10.0        NaN                       Comedy   \n",
       "1            9.8        NaN                       Comedy   \n",
       "2            9.4        NaN                       Comedy   \n",
       "3            9.4        NaN  Action, Drama, History, War   \n",
       "4            9.3        NaN                   Music, War   \n",
       "...          ...        ...                          ...   \n",
       "9616         NaN        NaN                          NaN   \n",
       "9617         NaN        NaN                  Documentary   \n",
       "9618         NaN        NaN                 Crime, Short   \n",
       "9619         NaN        NaN                          NaN   \n",
       "9620         NaN        NaN                       Comedy   \n",
       "\n",
       "                                                   Plot  \n",
       "0     Everyone contributes to Gwen's moneymaking sch...  \n",
       "1                                                   NaN  \n",
       "2     Martin and Ann throw a dinner party and invite...  \n",
       "3     This is the story of \"E\" Easy Company, 506th R...  \n",
       "4     Documentary centered around Athens GA rock & r...  \n",
       "...                                                 ...  \n",
       "9616                                                NaN  \n",
       "9617                                                NaN  \n",
       "9618                                                NaN  \n",
       "9619  An 82-year-old woman appears to have committed...  \n",
       "9620                                                NaN  \n",
       "\n",
       "[9621 rows x 7 columns]"
      ],
      "text/html": "<div>\n<style scoped>\n    .dataframe tbody tr th:only-of-type {\n        vertical-align: middle;\n    }\n\n    .dataframe tbody tr th {\n        vertical-align: top;\n    }\n\n    .dataframe thead th {\n        text-align: right;\n    }\n</style>\n<table border=\"1\" class=\"dataframe\">\n  <thead>\n    <tr style=\"text-align: right;\">\n      <th></th>\n      <th>imdbID</th>\n      <th>Title</th>\n      <th>Year</th>\n      <th>imdbRating</th>\n      <th>Metascore</th>\n      <th>Genre</th>\n      <th>Plot</th>\n    </tr>\n  </thead>\n  <tbody>\n    <tr>\n      <th>0</th>\n      <td>tt0579513</td>\n      <td>Under Pressure</td>\n      <td>1997</td>\n      <td>10.0</td>\n      <td>NaN</td>\n      <td>Comedy</td>\n      <td>Everyone contributes to Gwen's moneymaking sch...</td>\n    </tr>\n    <tr>\n      <th>1</th>\n      <td>tt0528465</td>\n      <td>Unforgiven</td>\n      <td>1992</td>\n      <td>9.8</td>\n      <td>NaN</td>\n      <td>Comedy</td>\n      <td>NaN</td>\n    </tr>\n    <tr>\n      <th>2</th>\n      <td>tt0574008</td>\n      <td>A Married Man</td>\n      <td>1984</td>\n      <td>9.4</td>\n      <td>NaN</td>\n      <td>Comedy</td>\n      <td>Martin and Ann throw a dinner party and invite...</td>\n    </tr>\n    <tr>\n      <th>3</th>\n      <td>tt0185906</td>\n      <td>Band of Brothers</td>\n      <td>2001</td>\n      <td>9.4</td>\n      <td>NaN</td>\n      <td>Action, Drama, History, War</td>\n      <td>This is the story of \"E\" Easy Company, 506th R...</td>\n    </tr>\n    <tr>\n      <th>4</th>\n      <td>tt1736672</td>\n      <td>Widespread Panic: The Earth Will Swallow You</td>\n      <td>2002</td>\n      <td>9.3</td>\n      <td>NaN</td>\n      <td>Music, War</td>\n      <td>Documentary centered around Athens GA rock &amp; r...</td>\n    </tr>\n    <tr>\n      <th>...</th>\n      <td>...</td>\n      <td>...</td>\n      <td>...</td>\n      <td>...</td>\n      <td>...</td>\n      <td>...</td>\n      <td>...</td>\n    </tr>\n    <tr>\n      <th>9616</th>\n      <td>tt0675506</td>\n      <td>Hulk</td>\n      <td>2003</td>\n      <td>NaN</td>\n      <td>NaN</td>\n      <td>NaN</td>\n      <td>NaN</td>\n    </tr>\n    <tr>\n      <th>9617</th>\n      <td>tt1266298</td>\n      <td>A River Runs Through It</td>\n      <td>1992</td>\n      <td>NaN</td>\n      <td>NaN</td>\n      <td>Documentary</td>\n      <td>NaN</td>\n    </tr>\n    <tr>\n      <th>9618</th>\n      <td>tt0438362</td>\n      <td>Redemption</td>\n      <td>2004</td>\n      <td>NaN</td>\n      <td>NaN</td>\n      <td>Crime, Short</td>\n      <td>NaN</td>\n    </tr>\n    <tr>\n      <th>9619</th>\n      <td>tt0833643</td>\n      <td>Redemption</td>\n      <td>2004</td>\n      <td>NaN</td>\n      <td>NaN</td>\n      <td>NaN</td>\n      <td>An 82-year-old woman appears to have committed...</td>\n    </tr>\n    <tr>\n      <th>9620</th>\n      <td>tt0639525</td>\n      <td>Cats</td>\n      <td>1998</td>\n      <td>NaN</td>\n      <td>NaN</td>\n      <td>Comedy</td>\n      <td>NaN</td>\n    </tr>\n  </tbody>\n</table>\n<p>9621 rows × 7 columns</p>\n</div>"
     },
     "metadata": {},
     "execution_count": 5
    }
   ],
   "source": [
    "omdb.join_omdb(omdb_net_path, save=True)"
   ]
  },
  {
   "cell_type": "code",
   "execution_count": 4,
   "metadata": {},
   "outputs": [],
   "source": [
    "netflix = NetCleaner()"
   ]
  },
  {
   "cell_type": "code",
   "execution_count": 5,
   "metadata": {},
   "outputs": [
    {
     "output_type": "execute_result",
     "data": {
      "text/plain": [
       "       netflix_id  netflix_rating  number_of_votes  \\\n",
       "0               1        7.499086              547   \n",
       "1               2        7.117241              145   \n",
       "2               3        7.282306             2012   \n",
       "3               4        5.478873              142   \n",
       "4               5        7.838596             1140   \n",
       "...           ...             ...              ...   \n",
       "17765       17766        6.386777              605   \n",
       "17766       17767        7.343137              204   \n",
       "17767       17768        5.678414             1362   \n",
       "17768       17769        4.997185             6749   \n",
       "17769       17770        5.633008              921   \n",
       "\n",
       "                                                   Title  \n",
       "0                                        Dinosaur Planet  \n",
       "1                             Isle of Man TT 2004 Review  \n",
       "2                                              Character  \n",
       "3                           Paula Abdul's Get Up & Dance  \n",
       "4                               The Rise and Fall of ECW  \n",
       "...                                                  ...  \n",
       "17765  Where the Wild Things Are and Other Maurice Se...  \n",
       "17766                  Fidel Castro: American Experience  \n",
       "17767                                              Epoch  \n",
       "17768                                        The Company  \n",
       "17769                                       Alien Hunter  \n",
       "\n",
       "[17770 rows x 4 columns]"
      ],
      "text/html": "<div>\n<style scoped>\n    .dataframe tbody tr th:only-of-type {\n        vertical-align: middle;\n    }\n\n    .dataframe tbody tr th {\n        vertical-align: top;\n    }\n\n    .dataframe thead th {\n        text-align: right;\n    }\n</style>\n<table border=\"1\" class=\"dataframe\">\n  <thead>\n    <tr style=\"text-align: right;\">\n      <th></th>\n      <th>netflix_id</th>\n      <th>netflix_rating</th>\n      <th>number_of_votes</th>\n      <th>Title</th>\n    </tr>\n  </thead>\n  <tbody>\n    <tr>\n      <th>0</th>\n      <td>1</td>\n      <td>7.499086</td>\n      <td>547</td>\n      <td>Dinosaur Planet</td>\n    </tr>\n    <tr>\n      <th>1</th>\n      <td>2</td>\n      <td>7.117241</td>\n      <td>145</td>\n      <td>Isle of Man TT 2004 Review</td>\n    </tr>\n    <tr>\n      <th>2</th>\n      <td>3</td>\n      <td>7.282306</td>\n      <td>2012</td>\n      <td>Character</td>\n    </tr>\n    <tr>\n      <th>3</th>\n      <td>4</td>\n      <td>5.478873</td>\n      <td>142</td>\n      <td>Paula Abdul's Get Up &amp; Dance</td>\n    </tr>\n    <tr>\n      <th>4</th>\n      <td>5</td>\n      <td>7.838596</td>\n      <td>1140</td>\n      <td>The Rise and Fall of ECW</td>\n    </tr>\n    <tr>\n      <th>...</th>\n      <td>...</td>\n      <td>...</td>\n      <td>...</td>\n      <td>...</td>\n    </tr>\n    <tr>\n      <th>17765</th>\n      <td>17766</td>\n      <td>6.386777</td>\n      <td>605</td>\n      <td>Where the Wild Things Are and Other Maurice Se...</td>\n    </tr>\n    <tr>\n      <th>17766</th>\n      <td>17767</td>\n      <td>7.343137</td>\n      <td>204</td>\n      <td>Fidel Castro: American Experience</td>\n    </tr>\n    <tr>\n      <th>17767</th>\n      <td>17768</td>\n      <td>5.678414</td>\n      <td>1362</td>\n      <td>Epoch</td>\n    </tr>\n    <tr>\n      <th>17768</th>\n      <td>17769</td>\n      <td>4.997185</td>\n      <td>6749</td>\n      <td>The Company</td>\n    </tr>\n    <tr>\n      <th>17769</th>\n      <td>17770</td>\n      <td>5.633008</td>\n      <td>921</td>\n      <td>Alien Hunter</td>\n    </tr>\n  </tbody>\n</table>\n<p>17770 rows × 4 columns</p>\n</div>"
     },
     "metadata": {},
     "execution_count": 5
    }
   ],
   "source": [
    "netflix.get_title_ratings(net_raw_path, data_path, save=True)"
   ]
  },
  {
   "cell_type": "code",
   "execution_count": 6,
   "metadata": {},
   "outputs": [
    {
     "output_type": "execute_result",
     "data": {
      "text/plain": [
       "       netflix_id  netflix_rating  number_of_votes  \\\n",
       "0               1        7.499086              547   \n",
       "1              12        6.835165              546   \n",
       "2              15        6.572414              290   \n",
       "3              17        5.806415             7108   \n",
       "4              18        7.568737            10722   \n",
       "...           ...             ...              ...   \n",
       "10023       17762        7.291498            32110   \n",
       "10024       17763        6.823710             1957   \n",
       "10025       17764        7.734224            64957   \n",
       "10026       17769        4.997185             6749   \n",
       "10027       17770        5.633008              921   \n",
       "\n",
       "                                  Title     imdbID   Year  imdbRating  \\\n",
       "0                       Dinosaur Planet  tt0389605  2003–         7.7   \n",
       "1                  My Favorite Brunette  tt0039645   1947         6.8   \n",
       "2      Neil Diamond: Greatest Hits Live  tt0168093   1988         8.0   \n",
       "3                             7 Seconds  tt0417395   2005         4.8   \n",
       "4                      Immortal Beloved  tt0110116   1994         7.4   \n",
       "...                                 ...        ...    ...         ...   \n",
       "10023                           Gattaca  tt0119177   1997         7.8   \n",
       "10024                         Interiors  tt0077742   1978         7.4   \n",
       "10025               Shakespeare in Love  tt0138097   1998         7.1   \n",
       "10026                       The Company  tt0335013   2003         6.3   \n",
       "10027                      Alien Hunter  tt0327409   2003         5.1   \n",
       "\n",
       "       Metascore                                      Genre  \\\n",
       "0            NaN             Documentary, Animation, Family   \n",
       "1            NaN  Comedy, Crime, Mystery, Romance, Thriller   \n",
       "2            NaN                         Documentary, Music   \n",
       "3            NaN            Action, Comedy, Crime, Thriller   \n",
       "4            NaN           Biography, Drama, Music, Romance   \n",
       "...          ...                                        ...   \n",
       "10023       64.0                    Drama, Sci-Fi, Thriller   \n",
       "10024       67.0                                      Drama   \n",
       "10025       87.0            Comedy, Drama, History, Romance   \n",
       "10026       73.0                      Drama, Music, Romance   \n",
       "10027        NaN        Action, Adventure, Sci-Fi, Thriller   \n",
       "\n",
       "                                                    Plot  \n",
       "0      A four-episode animated series charting the ad...  \n",
       "1      Baby photographer Ronnie Jackson, on death row...  \n",
       "2                                                    NaN  \n",
       "3      When an experienced thief accidentally makes o...  \n",
       "4      The life and death of the legendary Ludwig van...  \n",
       "...                                                  ...  \n",
       "10023  In the not-too-distant future, a less-than-per...  \n",
       "10024  The story of a very dysfunctional family and w...  \n",
       "10025  Will Shakespeare is a known but struggling poe...  \n",
       "10026  An inside look at the world of ballet. With th...  \n",
       "10027  In 1947, in New Mexico, a radio operator recei...  \n",
       "\n",
       "[8056 rows x 10 columns]"
      ],
      "text/html": "<div>\n<style scoped>\n    .dataframe tbody tr th:only-of-type {\n        vertical-align: middle;\n    }\n\n    .dataframe tbody tr th {\n        vertical-align: top;\n    }\n\n    .dataframe thead th {\n        text-align: right;\n    }\n</style>\n<table border=\"1\" class=\"dataframe\">\n  <thead>\n    <tr style=\"text-align: right;\">\n      <th></th>\n      <th>netflix_id</th>\n      <th>netflix_rating</th>\n      <th>number_of_votes</th>\n      <th>Title</th>\n      <th>imdbID</th>\n      <th>Year</th>\n      <th>imdbRating</th>\n      <th>Metascore</th>\n      <th>Genre</th>\n      <th>Plot</th>\n    </tr>\n  </thead>\n  <tbody>\n    <tr>\n      <th>0</th>\n      <td>1</td>\n      <td>7.499086</td>\n      <td>547</td>\n      <td>Dinosaur Planet</td>\n      <td>tt0389605</td>\n      <td>2003–</td>\n      <td>7.7</td>\n      <td>NaN</td>\n      <td>Documentary, Animation, Family</td>\n      <td>A four-episode animated series charting the ad...</td>\n    </tr>\n    <tr>\n      <th>1</th>\n      <td>12</td>\n      <td>6.835165</td>\n      <td>546</td>\n      <td>My Favorite Brunette</td>\n      <td>tt0039645</td>\n      <td>1947</td>\n      <td>6.8</td>\n      <td>NaN</td>\n      <td>Comedy, Crime, Mystery, Romance, Thriller</td>\n      <td>Baby photographer Ronnie Jackson, on death row...</td>\n    </tr>\n    <tr>\n      <th>2</th>\n      <td>15</td>\n      <td>6.572414</td>\n      <td>290</td>\n      <td>Neil Diamond: Greatest Hits Live</td>\n      <td>tt0168093</td>\n      <td>1988</td>\n      <td>8.0</td>\n      <td>NaN</td>\n      <td>Documentary, Music</td>\n      <td>NaN</td>\n    </tr>\n    <tr>\n      <th>3</th>\n      <td>17</td>\n      <td>5.806415</td>\n      <td>7108</td>\n      <td>7 Seconds</td>\n      <td>tt0417395</td>\n      <td>2005</td>\n      <td>4.8</td>\n      <td>NaN</td>\n      <td>Action, Comedy, Crime, Thriller</td>\n      <td>When an experienced thief accidentally makes o...</td>\n    </tr>\n    <tr>\n      <th>4</th>\n      <td>18</td>\n      <td>7.568737</td>\n      <td>10722</td>\n      <td>Immortal Beloved</td>\n      <td>tt0110116</td>\n      <td>1994</td>\n      <td>7.4</td>\n      <td>NaN</td>\n      <td>Biography, Drama, Music, Romance</td>\n      <td>The life and death of the legendary Ludwig van...</td>\n    </tr>\n    <tr>\n      <th>...</th>\n      <td>...</td>\n      <td>...</td>\n      <td>...</td>\n      <td>...</td>\n      <td>...</td>\n      <td>...</td>\n      <td>...</td>\n      <td>...</td>\n      <td>...</td>\n      <td>...</td>\n    </tr>\n    <tr>\n      <th>10023</th>\n      <td>17762</td>\n      <td>7.291498</td>\n      <td>32110</td>\n      <td>Gattaca</td>\n      <td>tt0119177</td>\n      <td>1997</td>\n      <td>7.8</td>\n      <td>64.0</td>\n      <td>Drama, Sci-Fi, Thriller</td>\n      <td>In the not-too-distant future, a less-than-per...</td>\n    </tr>\n    <tr>\n      <th>10024</th>\n      <td>17763</td>\n      <td>6.823710</td>\n      <td>1957</td>\n      <td>Interiors</td>\n      <td>tt0077742</td>\n      <td>1978</td>\n      <td>7.4</td>\n      <td>67.0</td>\n      <td>Drama</td>\n      <td>The story of a very dysfunctional family and w...</td>\n    </tr>\n    <tr>\n      <th>10025</th>\n      <td>17764</td>\n      <td>7.734224</td>\n      <td>64957</td>\n      <td>Shakespeare in Love</td>\n      <td>tt0138097</td>\n      <td>1998</td>\n      <td>7.1</td>\n      <td>87.0</td>\n      <td>Comedy, Drama, History, Romance</td>\n      <td>Will Shakespeare is a known but struggling poe...</td>\n    </tr>\n    <tr>\n      <th>10026</th>\n      <td>17769</td>\n      <td>4.997185</td>\n      <td>6749</td>\n      <td>The Company</td>\n      <td>tt0335013</td>\n      <td>2003</td>\n      <td>6.3</td>\n      <td>73.0</td>\n      <td>Drama, Music, Romance</td>\n      <td>An inside look at the world of ballet. With th...</td>\n    </tr>\n    <tr>\n      <th>10027</th>\n      <td>17770</td>\n      <td>5.633008</td>\n      <td>921</td>\n      <td>Alien Hunter</td>\n      <td>tt0327409</td>\n      <td>2003</td>\n      <td>5.1</td>\n      <td>NaN</td>\n      <td>Action, Adventure, Sci-Fi, Thriller</td>\n      <td>In 1947, in New Mexico, a radio operator recei...</td>\n    </tr>\n  </tbody>\n</table>\n<p>8056 rows × 10 columns</p>\n</div>"
     },
     "metadata": {},
     "execution_count": 6
    }
   ],
   "source": [
    "netflix.get_base_dataframe(data_path, omdb_net_path, save=True)"
   ]
  },
  {
   "cell_type": "code",
   "execution_count": null,
   "metadata": {},
   "outputs": [],
   "source": []
  }
 ]
}