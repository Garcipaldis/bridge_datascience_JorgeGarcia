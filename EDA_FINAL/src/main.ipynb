{
 "metadata": {
  "language_info": {
   "codemirror_mode": {
    "name": "ipython",
    "version": 3
   },
   "file_extension": ".py",
   "mimetype": "text/x-python",
   "name": "python",
   "nbconvert_exporter": "python",
   "pygments_lexer": "ipython3",
   "version": "3.7.4"
  },
  "orig_nbformat": 2,
  "kernelspec": {
   "name": "python374jvsc74a57bd0674dfd6ded4398e0679ff4f65e9a10a54ff0d14801bec0126172cfc3973d1cf1",
   "display_name": "Python 3.7.4 64-bit"
  },
  "metadata": {
   "interpreter": {
    "hash": "674dfd6ded4398e0679ff4f65e9a10a54ff0d14801bec0126172cfc3973d1cf1"
   }
  }
 },
 "nbformat": 4,
 "nbformat_minor": 2,
 "cells": [
  {
   "source": [
    "# EDA: Netflix Title Plot Popularity Detailed Analysis\n",
    "study made by: Jorge García Navarro"
   ],
   "cell_type": "markdown",
   "metadata": {}
  },
  {
   "source": [
    "## 1. Data Mining"
   ],
   "cell_type": "markdown",
   "metadata": {}
  },
  {
   "cell_type": "code",
   "execution_count": 3,
   "metadata": {},
   "outputs": [
    {
     "output_type": "stream",
     "name": "stderr",
     "text": [
      "[nltk_data] Downloading package punkt to\n[nltk_data]     C:\\Users\\jgnsa\\AppData\\Roaming\\nltk_data...\n[nltk_data]   Package punkt is already up-to-date!\n[nltk_data] Downloading package averaged_perceptron_tagger to\n[nltk_data]     C:\\Users\\jgnsa\\AppData\\Roaming\\nltk_data...\n[nltk_data]   Package averaged_perceptron_tagger is already up-to-\n[nltk_data]       date!\n"
     ]
    }
   ],
   "source": [
    "import os, sys\n",
    "import pandas as pd\n",
    "from utils.mining_data_tb import OmdbCleaner, NetCleaner, WordCleaner\n",
    "\n",
    "rootpath = os.path.dirname(os.getcwd())\n",
    "\n",
    "# PATHS\n",
    "data_path = rootpath + os.sep + 'data'\n",
    "net_raw_path = data_path + os.sep + 'Netflix_raw'\n",
    "net_movies_path = net_raw_path + os.sep + 'netflix_movie_titles.csv'\n",
    "imdb_path = data_path + os.sep + 'titles.tsv'\n",
    "omdb_net_path = data_path + os.sep + 'OMDb_Netflix'\n",
    "netid_path = net_raw_path + os.sep + 'Net_Data_ID.csv'\n",
    "\n",
    "netid_path = data_path + os.sep + 'Netflix_raw' + os.sep + 'Net_Data_ID.csv'"
   ]
  },
  {
   "cell_type": "code",
   "execution_count": null,
   "metadata": {},
   "outputs": [],
   "source": [
    "#OMDB\n",
    "omdb = OmdbCleaner(net_path=net_movies_path, imdb_path=imdb_path, omdb_net_path=omdb_net_path)\n",
    "omdb.get_imdb_ids(save=True)\n",
    "omdb.omdb_to_csv(netid_path, savepath=omdb_net_path, row_start=10, row_num=10) #Ejemplo de llamada a API\n",
    "omdb.join_omdb(omdb_net_path, save=True)\n",
    "\n",
    "#NETFLIX\n",
    "netflix = NetCleaner()\n",
    "netflix.get_title_ratings(net_raw_path, data_path, save=True)\n",
    "netflix.get_base_dataframe(data_path, omdb_net_path, save=True)\n",
    "\n",
    "#WORD STATS\n",
    "base = pd.read_csv(data_path + os.sep + 'BASE.csv')\n",
    "base = base.drop('Unnamed: 0', axis=1)\n",
    "wcleaner = WordCleaner(base)\n",
    "wcleaner.expand_df(savepath=data_path, save=True)\n",
    "wcleaner.get_popdf('Mystery', log=True) #Example method for obtaining word stats of a certain genre.\n",
    "wordstat_path = data_path + os.sep + 'word_stats'\n",
    "wcleaner.genres_to_popcsv(wordstat_path) #ATENTION: If there are no previous word_stats files the estimates processing time is ~5 HOURS."
   ]
  },
  {
   "source": [
    "## 2. Visualization"
   ],
   "cell_type": "markdown",
   "metadata": {}
  },
  {
   "cell_type": "code",
   "execution_count": 13,
   "metadata": {},
   "outputs": [],
   "source": [
    "from utils.visualization_tb import Visualizer\n",
    "\n",
    "#DATASETS\n",
    "base = pd.read_csv(data_path + os.sep + 'BASE.csv')\n",
    "expanse = pd.read_csv(data_path + os.sep + 'EXPANSE.csv')\n",
    "word_stats = pd.read_csv(data_path + os.sep + 'WORD_STATS.csv')\n",
    "\n",
    "viz = Visualizer(base, expanse, word_stats)"
   ]
  },
  {
   "source": [
    "### 2.1 Project Steps Chart"
   ],
   "cell_type": "markdown",
   "metadata": {}
  },
  {
   "cell_type": "code",
   "execution_count": 6,
   "metadata": {},
   "outputs": [
    {
     "output_type": "display_data",
     "data": {
      "text/plain": "<Figure size 720x432 with 1 Axes>",
      "image/svg+xml": "<?xml version=\"1.0\" encoding=\"utf-8\" standalone=\"no\"?>\r\n<!DOCTYPE svg PUBLIC \"-//W3C//DTD SVG 1.1//EN\"\r\n  \"http://www.w3.org/Graphics/SVG/1.1/DTD/svg11.dtd\">\r\n<svg height=\"357.197812pt\" version=\"1.1\" viewBox=\"0 0 341.70698 357.197812\" width=\"341.70698pt\" xmlns=\"http://www.w3.org/2000/svg\" xmlns:xlink=\"http://www.w3.org/1999/xlink\">\r\n <metadata>\r\n  <rdf:RDF xmlns:cc=\"http://creativecommons.org/ns#\" xmlns:dc=\"http://purl.org/dc/elements/1.1/\" xmlns:rdf=\"http://www.w3.org/1999/02/22-rdf-syntax-ns#\">\r\n   <cc:Work>\r\n    <dc:type rdf:resource=\"http://purl.org/dc/dcmitype/StillImage\"/>\r\n    <dc:date>2021-06-01T15:10:11.439066</dc:date>\r\n    <dc:format>image/svg+xml</dc:format>\r\n    <dc:creator>\r\n     <cc:Agent>\r\n      <dc:title>Matplotlib v3.4.1, https://matplotlib.org/</dc:title>\r\n     </cc:Agent>\r\n    </dc:creator>\r\n   </cc:Work>\r\n  </rdf:RDF>\r\n </metadata>\r\n <defs>\r\n  <style type=\"text/css\">*{stroke-linecap:butt;stroke-linejoin:round;}</style>\r\n </defs>\r\n <g id=\"figure_1\">\r\n  <g id=\"patch_1\">\r\n   <path d=\"M 0 357.197812 \r\nL 341.70698 357.197812 \r\nL 341.70698 0 \r\nL 0 0 \r\nz\r\n\" style=\"fill:none;\"/>\r\n  </g>\r\n  <g id=\"axes_1\">\r\n   <g id=\"patch_2\">\r\n    <path d=\"M 300.744 186.917812 \r\nC 300.744 166.495105 295.948574 146.354876 286.744979 128.123562 \r\nC 277.541385 109.892248 264.184222 94.074184 247.752158 81.946768 \r\nC 231.320093 69.819352 212.267689 61.718067 192.133534 58.297136 \r\nC 171.999378 54.876205 151.340447 56.230263 131.825063 62.249961 \r\nC 112.309679 68.26966 94.477701 78.788475 79.76916 92.956953 \r\nC 65.060618 107.125432 53.882399 124.551629 47.137206 143.828282 \r\nC 40.392013 163.104934 38.266439 183.698789 40.932137 203.946778 \r\nC 43.597835 224.194766 50.981062 243.536764 62.485582 260.410797 \r\nL 170.28 186.917812 \r\nL 300.744 186.917812 \r\nz\r\n\" style=\"fill:#1f77b4;\"/>\r\n   </g>\r\n   <g id=\"patch_3\">\r\n    <path d=\"M 62.485582 260.410797 \r\nC 81.020579 287.596647 109.170836 306.789168 141.249025 314.110807 \r\nC 173.327213 321.432445 207.017041 316.354522 235.511996 299.902953 \r\nL 170.28 186.917812 \r\nL 62.485582 260.410797 \r\nz\r\n\" style=\"fill:#ff7f0e;\"/>\r\n   </g>\r\n   <g id=\"patch_4\">\r\n    <path d=\"M 235.511996 299.902953 \r\nC 236.920582 299.089705 238.313837 298.250188 239.691029 297.384841 \r\nC 241.068222 296.519493 242.429112 295.628467 243.772985 294.71223 \r\nL 170.28 186.917812 \r\nL 235.511996 299.902953 \r\nz\r\n\" style=\"fill:#2ca02c;\"/>\r\n   </g>\r\n   <g id=\"patch_5\">\r\n    <path d=\"M 243.772985 294.71223 \r\nC 257.250362 285.52351 268.885693 273.888181 278.074413 260.410804 \r\nC 287.263134 246.933427 293.843294 231.85154 297.472994 215.948787 \r\nL 170.28 186.917812 \r\nL 243.772985 294.71223 \r\nz\r\n\" style=\"fill:#d62728;\"/>\r\n   </g>\r\n   <g id=\"patch_6\">\r\n    <path d=\"M 297.472994 215.948787 \r\nC 298.559035 211.190533 299.377213 206.375082 299.923669 201.525149 \r\nC 300.470126 196.675215 300.744 191.798437 300.744 186.917815 \r\nL 170.28 186.917812 \r\nL 297.472994 215.948787 \r\nz\r\n\" style=\"fill:#9467bd;\"/>\r\n   </g>\r\n   <g id=\"matplotlib.axis_1\"/>\r\n   <g id=\"matplotlib.axis_2\"/>\r\n   <g id=\"text_1\">\r\n    <!-- Data Mining -->\r\n    <g transform=\"translate(67.717069 52.542551)scale(0.1 -0.1)\">\r\n     <defs>\r\n      <path d=\"M 1259 4147 \r\nL 1259 519 \r\nL 2022 519 \r\nQ 2988 519 3436 956 \r\nQ 3884 1394 3884 2338 \r\nQ 3884 3275 3436 3711 \r\nQ 2988 4147 2022 4147 \r\nL 1259 4147 \r\nz\r\nM 628 4666 \r\nL 1925 4666 \r\nQ 3281 4666 3915 4102 \r\nQ 4550 3538 4550 2338 \r\nQ 4550 1131 3912 565 \r\nQ 3275 0 1925 0 \r\nL 628 0 \r\nL 628 4666 \r\nz\r\n\" id=\"DejaVuSans-44\" transform=\"scale(0.015625)\"/>\r\n      <path d=\"M 2194 1759 \r\nQ 1497 1759 1228 1600 \r\nQ 959 1441 959 1056 \r\nQ 959 750 1161 570 \r\nQ 1363 391 1709 391 \r\nQ 2188 391 2477 730 \r\nQ 2766 1069 2766 1631 \r\nL 2766 1759 \r\nL 2194 1759 \r\nz\r\nM 3341 1997 \r\nL 3341 0 \r\nL 2766 0 \r\nL 2766 531 \r\nQ 2569 213 2275 61 \r\nQ 1981 -91 1556 -91 \r\nQ 1019 -91 701 211 \r\nQ 384 513 384 1019 \r\nQ 384 1609 779 1909 \r\nQ 1175 2209 1959 2209 \r\nL 2766 2209 \r\nL 2766 2266 \r\nQ 2766 2663 2505 2880 \r\nQ 2244 3097 1772 3097 \r\nQ 1472 3097 1187 3025 \r\nQ 903 2953 641 2809 \r\nL 641 3341 \r\nQ 956 3463 1253 3523 \r\nQ 1550 3584 1831 3584 \r\nQ 2591 3584 2966 3190 \r\nQ 3341 2797 3341 1997 \r\nz\r\n\" id=\"DejaVuSans-61\" transform=\"scale(0.015625)\"/>\r\n      <path d=\"M 1172 4494 \r\nL 1172 3500 \r\nL 2356 3500 \r\nL 2356 3053 \r\nL 1172 3053 \r\nL 1172 1153 \r\nQ 1172 725 1289 603 \r\nQ 1406 481 1766 481 \r\nL 2356 481 \r\nL 2356 0 \r\nL 1766 0 \r\nQ 1100 0 847 248 \r\nQ 594 497 594 1153 \r\nL 594 3053 \r\nL 172 3053 \r\nL 172 3500 \r\nL 594 3500 \r\nL 594 4494 \r\nL 1172 4494 \r\nz\r\n\" id=\"DejaVuSans-74\" transform=\"scale(0.015625)\"/>\r\n      <path id=\"DejaVuSans-20\" transform=\"scale(0.015625)\"/>\r\n      <path d=\"M 628 4666 \r\nL 1569 4666 \r\nL 2759 1491 \r\nL 3956 4666 \r\nL 4897 4666 \r\nL 4897 0 \r\nL 4281 0 \r\nL 4281 4097 \r\nL 3078 897 \r\nL 2444 897 \r\nL 1241 4097 \r\nL 1241 0 \r\nL 628 0 \r\nL 628 4666 \r\nz\r\n\" id=\"DejaVuSans-4d\" transform=\"scale(0.015625)\"/>\r\n      <path d=\"M 603 3500 \r\nL 1178 3500 \r\nL 1178 0 \r\nL 603 0 \r\nL 603 3500 \r\nz\r\nM 603 4863 \r\nL 1178 4863 \r\nL 1178 4134 \r\nL 603 4134 \r\nL 603 4863 \r\nz\r\n\" id=\"DejaVuSans-69\" transform=\"scale(0.015625)\"/>\r\n      <path d=\"M 3513 2113 \r\nL 3513 0 \r\nL 2938 0 \r\nL 2938 2094 \r\nQ 2938 2591 2744 2837 \r\nQ 2550 3084 2163 3084 \r\nQ 1697 3084 1428 2787 \r\nQ 1159 2491 1159 1978 \r\nL 1159 0 \r\nL 581 0 \r\nL 581 3500 \r\nL 1159 3500 \r\nL 1159 2956 \r\nQ 1366 3272 1645 3428 \r\nQ 1925 3584 2291 3584 \r\nQ 2894 3584 3203 3211 \r\nQ 3513 2838 3513 2113 \r\nz\r\n\" id=\"DejaVuSans-6e\" transform=\"scale(0.015625)\"/>\r\n      <path d=\"M 2906 1791 \r\nQ 2906 2416 2648 2759 \r\nQ 2391 3103 1925 3103 \r\nQ 1463 3103 1205 2759 \r\nQ 947 2416 947 1791 \r\nQ 947 1169 1205 825 \r\nQ 1463 481 1925 481 \r\nQ 2391 481 2648 825 \r\nQ 2906 1169 2906 1791 \r\nz\r\nM 3481 434 \r\nQ 3481 -459 3084 -895 \r\nQ 2688 -1331 1869 -1331 \r\nQ 1566 -1331 1297 -1286 \r\nQ 1028 -1241 775 -1147 \r\nL 775 -588 \r\nQ 1028 -725 1275 -790 \r\nQ 1522 -856 1778 -856 \r\nQ 2344 -856 2625 -561 \r\nQ 2906 -266 2906 331 \r\nL 2906 616 \r\nQ 2728 306 2450 153 \r\nQ 2172 0 1784 0 \r\nQ 1141 0 747 490 \r\nQ 353 981 353 1791 \r\nQ 353 2603 747 3093 \r\nQ 1141 3584 1784 3584 \r\nQ 2172 3584 2450 3431 \r\nQ 2728 3278 2906 2969 \r\nL 2906 3500 \r\nL 3481 3500 \r\nL 3481 434 \r\nz\r\n\" id=\"DejaVuSans-67\" transform=\"scale(0.015625)\"/>\r\n     </defs>\r\n     <use xlink:href=\"#DejaVuSans-44\"/>\r\n     <use x=\"77.001953\" xlink:href=\"#DejaVuSans-61\"/>\r\n     <use x=\"138.28125\" xlink:href=\"#DejaVuSans-74\"/>\r\n     <use x=\"177.490234\" xlink:href=\"#DejaVuSans-61\"/>\r\n     <use x=\"238.769531\" xlink:href=\"#DejaVuSans-20\"/>\r\n     <use x=\"270.556641\" xlink:href=\"#DejaVuSans-4d\"/>\r\n     <use x=\"356.835938\" xlink:href=\"#DejaVuSans-69\"/>\r\n     <use x=\"384.619141\" xlink:href=\"#DejaVuSans-6e\"/>\r\n     <use x=\"447.998047\" xlink:href=\"#DejaVuSans-69\"/>\r\n     <use x=\"475.78125\" xlink:href=\"#DejaVuSans-6e\"/>\r\n     <use x=\"539.160156\" xlink:href=\"#DejaVuSans-67\"/>\r\n    </g>\r\n   </g>\r\n   <g id=\"text_2\">\r\n    <!-- 59.5% -->\r\n    <g transform=\"translate(135.168938 127.343262)scale(0.1 -0.1)\">\r\n     <defs>\r\n      <path d=\"M 691 4666 \r\nL 3169 4666 \r\nL 3169 4134 \r\nL 1269 4134 \r\nL 1269 2991 \r\nQ 1406 3038 1543 3061 \r\nQ 1681 3084 1819 3084 \r\nQ 2600 3084 3056 2656 \r\nQ 3513 2228 3513 1497 \r\nQ 3513 744 3044 326 \r\nQ 2575 -91 1722 -91 \r\nQ 1428 -91 1123 -41 \r\nQ 819 9 494 109 \r\nL 494 744 \r\nQ 775 591 1075 516 \r\nQ 1375 441 1709 441 \r\nQ 2250 441 2565 725 \r\nQ 2881 1009 2881 1497 \r\nQ 2881 1984 2565 2268 \r\nQ 2250 2553 1709 2553 \r\nQ 1456 2553 1204 2497 \r\nQ 953 2441 691 2322 \r\nL 691 4666 \r\nz\r\n\" id=\"DejaVuSans-35\" transform=\"scale(0.015625)\"/>\r\n      <path d=\"M 703 97 \r\nL 703 672 \r\nQ 941 559 1184 500 \r\nQ 1428 441 1663 441 \r\nQ 2288 441 2617 861 \r\nQ 2947 1281 2994 2138 \r\nQ 2813 1869 2534 1725 \r\nQ 2256 1581 1919 1581 \r\nQ 1219 1581 811 2004 \r\nQ 403 2428 403 3163 \r\nQ 403 3881 828 4315 \r\nQ 1253 4750 1959 4750 \r\nQ 2769 4750 3195 4129 \r\nQ 3622 3509 3622 2328 \r\nQ 3622 1225 3098 567 \r\nQ 2575 -91 1691 -91 \r\nQ 1453 -91 1209 -44 \r\nQ 966 3 703 97 \r\nz\r\nM 1959 2075 \r\nQ 2384 2075 2632 2365 \r\nQ 2881 2656 2881 3163 \r\nQ 2881 3666 2632 3958 \r\nQ 2384 4250 1959 4250 \r\nQ 1534 4250 1286 3958 \r\nQ 1038 3666 1038 3163 \r\nQ 1038 2656 1286 2365 \r\nQ 1534 2075 1959 2075 \r\nz\r\n\" id=\"DejaVuSans-39\" transform=\"scale(0.015625)\"/>\r\n      <path d=\"M 684 794 \r\nL 1344 794 \r\nL 1344 0 \r\nL 684 0 \r\nL 684 794 \r\nz\r\n\" id=\"DejaVuSans-2e\" transform=\"scale(0.015625)\"/>\r\n      <path d=\"M 4653 2053 \r\nQ 4381 2053 4226 1822 \r\nQ 4072 1591 4072 1178 \r\nQ 4072 772 4226 539 \r\nQ 4381 306 4653 306 \r\nQ 4919 306 5073 539 \r\nQ 5228 772 5228 1178 \r\nQ 5228 1588 5073 1820 \r\nQ 4919 2053 4653 2053 \r\nz\r\nM 4653 2450 \r\nQ 5147 2450 5437 2106 \r\nQ 5728 1763 5728 1178 \r\nQ 5728 594 5436 251 \r\nQ 5144 -91 4653 -91 \r\nQ 4153 -91 3862 251 \r\nQ 3572 594 3572 1178 \r\nQ 3572 1766 3864 2108 \r\nQ 4156 2450 4653 2450 \r\nz\r\nM 1428 4353 \r\nQ 1159 4353 1004 4120 \r\nQ 850 3888 850 3481 \r\nQ 850 3069 1003 2837 \r\nQ 1156 2606 1428 2606 \r\nQ 1700 2606 1854 2837 \r\nQ 2009 3069 2009 3481 \r\nQ 2009 3884 1853 4118 \r\nQ 1697 4353 1428 4353 \r\nz\r\nM 4250 4750 \r\nL 4750 4750 \r\nL 1831 -91 \r\nL 1331 -91 \r\nL 4250 4750 \r\nz\r\nM 1428 4750 \r\nQ 1922 4750 2215 4408 \r\nQ 2509 4066 2509 3481 \r\nQ 2509 2891 2217 2550 \r\nQ 1925 2209 1428 2209 \r\nQ 931 2209 642 2551 \r\nQ 353 2894 353 3481 \r\nQ 353 4063 643 4406 \r\nQ 934 4750 1428 4750 \r\nz\r\n\" id=\"DejaVuSans-25\" transform=\"scale(0.015625)\"/>\r\n     </defs>\r\n     <use xlink:href=\"#DejaVuSans-35\"/>\r\n     <use x=\"63.623047\" xlink:href=\"#DejaVuSans-39\"/>\r\n     <use x=\"127.246094\" xlink:href=\"#DejaVuSans-2e\"/>\r\n     <use x=\"159.033203\" xlink:href=\"#DejaVuSans-35\"/>\r\n     <use x=\"222.65625\" xlink:href=\"#DejaVuSans-25\"/>\r\n    </g>\r\n   </g>\r\n   <g id=\"text_3\">\r\n    <!-- Visualization -->\r\n    <g transform=\"translate(75.189677 329.589481)scale(0.1 -0.1)\">\r\n     <defs>\r\n      <path d=\"M 1831 0 \r\nL 50 4666 \r\nL 709 4666 \r\nL 2188 738 \r\nL 3669 4666 \r\nL 4325 4666 \r\nL 2547 0 \r\nL 1831 0 \r\nz\r\n\" id=\"DejaVuSans-56\" transform=\"scale(0.015625)\"/>\r\n      <path d=\"M 2834 3397 \r\nL 2834 2853 \r\nQ 2591 2978 2328 3040 \r\nQ 2066 3103 1784 3103 \r\nQ 1356 3103 1142 2972 \r\nQ 928 2841 928 2578 \r\nQ 928 2378 1081 2264 \r\nQ 1234 2150 1697 2047 \r\nL 1894 2003 \r\nQ 2506 1872 2764 1633 \r\nQ 3022 1394 3022 966 \r\nQ 3022 478 2636 193 \r\nQ 2250 -91 1575 -91 \r\nQ 1294 -91 989 -36 \r\nQ 684 19 347 128 \r\nL 347 722 \r\nQ 666 556 975 473 \r\nQ 1284 391 1588 391 \r\nQ 1994 391 2212 530 \r\nQ 2431 669 2431 922 \r\nQ 2431 1156 2273 1281 \r\nQ 2116 1406 1581 1522 \r\nL 1381 1569 \r\nQ 847 1681 609 1914 \r\nQ 372 2147 372 2553 \r\nQ 372 3047 722 3315 \r\nQ 1072 3584 1716 3584 \r\nQ 2034 3584 2315 3537 \r\nQ 2597 3491 2834 3397 \r\nz\r\n\" id=\"DejaVuSans-73\" transform=\"scale(0.015625)\"/>\r\n      <path d=\"M 544 1381 \r\nL 544 3500 \r\nL 1119 3500 \r\nL 1119 1403 \r\nQ 1119 906 1312 657 \r\nQ 1506 409 1894 409 \r\nQ 2359 409 2629 706 \r\nQ 2900 1003 2900 1516 \r\nL 2900 3500 \r\nL 3475 3500 \r\nL 3475 0 \r\nL 2900 0 \r\nL 2900 538 \r\nQ 2691 219 2414 64 \r\nQ 2138 -91 1772 -91 \r\nQ 1169 -91 856 284 \r\nQ 544 659 544 1381 \r\nz\r\nM 1991 3584 \r\nL 1991 3584 \r\nz\r\n\" id=\"DejaVuSans-75\" transform=\"scale(0.015625)\"/>\r\n      <path d=\"M 603 4863 \r\nL 1178 4863 \r\nL 1178 0 \r\nL 603 0 \r\nL 603 4863 \r\nz\r\n\" id=\"DejaVuSans-6c\" transform=\"scale(0.015625)\"/>\r\n      <path d=\"M 353 3500 \r\nL 3084 3500 \r\nL 3084 2975 \r\nL 922 459 \r\nL 3084 459 \r\nL 3084 0 \r\nL 275 0 \r\nL 275 525 \r\nL 2438 3041 \r\nL 353 3041 \r\nL 353 3500 \r\nz\r\n\" id=\"DejaVuSans-7a\" transform=\"scale(0.015625)\"/>\r\n      <path d=\"M 1959 3097 \r\nQ 1497 3097 1228 2736 \r\nQ 959 2375 959 1747 \r\nQ 959 1119 1226 758 \r\nQ 1494 397 1959 397 \r\nQ 2419 397 2687 759 \r\nQ 2956 1122 2956 1747 \r\nQ 2956 2369 2687 2733 \r\nQ 2419 3097 1959 3097 \r\nz\r\nM 1959 3584 \r\nQ 2709 3584 3137 3096 \r\nQ 3566 2609 3566 1747 \r\nQ 3566 888 3137 398 \r\nQ 2709 -91 1959 -91 \r\nQ 1206 -91 779 398 \r\nQ 353 888 353 1747 \r\nQ 353 2609 779 3096 \r\nQ 1206 3584 1959 3584 \r\nz\r\n\" id=\"DejaVuSans-6f\" transform=\"scale(0.015625)\"/>\r\n     </defs>\r\n     <use xlink:href=\"#DejaVuSans-56\"/>\r\n     <use x=\"66.158203\" xlink:href=\"#DejaVuSans-69\"/>\r\n     <use x=\"93.941406\" xlink:href=\"#DejaVuSans-73\"/>\r\n     <use x=\"146.041016\" xlink:href=\"#DejaVuSans-75\"/>\r\n     <use x=\"209.419922\" xlink:href=\"#DejaVuSans-61\"/>\r\n     <use x=\"270.699219\" xlink:href=\"#DejaVuSans-6c\"/>\r\n     <use x=\"298.482422\" xlink:href=\"#DejaVuSans-69\"/>\r\n     <use x=\"326.265625\" xlink:href=\"#DejaVuSans-7a\"/>\r\n     <use x=\"378.755859\" xlink:href=\"#DejaVuSans-61\"/>\r\n     <use x=\"440.035156\" xlink:href=\"#DejaVuSans-74\"/>\r\n     <use x=\"479.244141\" xlink:href=\"#DejaVuSans-69\"/>\r\n     <use x=\"507.027344\" xlink:href=\"#DejaVuSans-6f\"/>\r\n     <use x=\"568.208984\" xlink:href=\"#DejaVuSans-6e\"/>\r\n    </g>\r\n   </g>\r\n   <g id=\"text_4\">\r\n    <!-- 23.8% -->\r\n    <g transform=\"translate(139.880919 253.273685)scale(0.1 -0.1)\">\r\n     <defs>\r\n      <path d=\"M 1228 531 \r\nL 3431 531 \r\nL 3431 0 \r\nL 469 0 \r\nL 469 531 \r\nQ 828 903 1448 1529 \r\nQ 2069 2156 2228 2338 \r\nQ 2531 2678 2651 2914 \r\nQ 2772 3150 2772 3378 \r\nQ 2772 3750 2511 3984 \r\nQ 2250 4219 1831 4219 \r\nQ 1534 4219 1204 4116 \r\nQ 875 4013 500 3803 \r\nL 500 4441 \r\nQ 881 4594 1212 4672 \r\nQ 1544 4750 1819 4750 \r\nQ 2544 4750 2975 4387 \r\nQ 3406 4025 3406 3419 \r\nQ 3406 3131 3298 2873 \r\nQ 3191 2616 2906 2266 \r\nQ 2828 2175 2409 1742 \r\nQ 1991 1309 1228 531 \r\nz\r\n\" id=\"DejaVuSans-32\" transform=\"scale(0.015625)\"/>\r\n      <path d=\"M 2597 2516 \r\nQ 3050 2419 3304 2112 \r\nQ 3559 1806 3559 1356 \r\nQ 3559 666 3084 287 \r\nQ 2609 -91 1734 -91 \r\nQ 1441 -91 1130 -33 \r\nQ 819 25 488 141 \r\nL 488 750 \r\nQ 750 597 1062 519 \r\nQ 1375 441 1716 441 \r\nQ 2309 441 2620 675 \r\nQ 2931 909 2931 1356 \r\nQ 2931 1769 2642 2001 \r\nQ 2353 2234 1838 2234 \r\nL 1294 2234 \r\nL 1294 2753 \r\nL 1863 2753 \r\nQ 2328 2753 2575 2939 \r\nQ 2822 3125 2822 3475 \r\nQ 2822 3834 2567 4026 \r\nQ 2313 4219 1838 4219 \r\nQ 1578 4219 1281 4162 \r\nQ 984 4106 628 3988 \r\nL 628 4550 \r\nQ 988 4650 1302 4700 \r\nQ 1616 4750 1894 4750 \r\nQ 2613 4750 3031 4423 \r\nQ 3450 4097 3450 3541 \r\nQ 3450 3153 3228 2886 \r\nQ 3006 2619 2597 2516 \r\nz\r\n\" id=\"DejaVuSans-33\" transform=\"scale(0.015625)\"/>\r\n      <path d=\"M 2034 2216 \r\nQ 1584 2216 1326 1975 \r\nQ 1069 1734 1069 1313 \r\nQ 1069 891 1326 650 \r\nQ 1584 409 2034 409 \r\nQ 2484 409 2743 651 \r\nQ 3003 894 3003 1313 \r\nQ 3003 1734 2745 1975 \r\nQ 2488 2216 2034 2216 \r\nz\r\nM 1403 2484 \r\nQ 997 2584 770 2862 \r\nQ 544 3141 544 3541 \r\nQ 544 4100 942 4425 \r\nQ 1341 4750 2034 4750 \r\nQ 2731 4750 3128 4425 \r\nQ 3525 4100 3525 3541 \r\nQ 3525 3141 3298 2862 \r\nQ 3072 2584 2669 2484 \r\nQ 3125 2378 3379 2068 \r\nQ 3634 1759 3634 1313 \r\nQ 3634 634 3220 271 \r\nQ 2806 -91 2034 -91 \r\nQ 1263 -91 848 271 \r\nQ 434 634 434 1313 \r\nQ 434 1759 690 2068 \r\nQ 947 2378 1403 2484 \r\nz\r\nM 1172 3481 \r\nQ 1172 3119 1398 2916 \r\nQ 1625 2713 2034 2713 \r\nQ 2441 2713 2670 2916 \r\nQ 2900 3119 2900 3481 \r\nQ 2900 3844 2670 4047 \r\nQ 2441 4250 2034 4250 \r\nQ 1625 4250 1398 4047 \r\nQ 1172 3844 1172 3481 \r\nz\r\n\" id=\"DejaVuSans-38\" transform=\"scale(0.015625)\"/>\r\n     </defs>\r\n     <use xlink:href=\"#DejaVuSans-32\"/>\r\n     <use x=\"63.623047\" xlink:href=\"#DejaVuSans-33\"/>\r\n     <use x=\"127.246094\" xlink:href=\"#DejaVuSans-2e\"/>\r\n     <use x=\"159.033203\" xlink:href=\"#DejaVuSans-38\"/>\r\n     <use x=\"222.65625\" xlink:href=\"#DejaVuSans-25\"/>\r\n    </g>\r\n   </g>\r\n   <g id=\"text_5\">\r\n    <!-- Flask -->\r\n    <g transform=\"translate(246.632132 311.190918)scale(0.1 -0.1)\">\r\n     <defs>\r\n      <path d=\"M 628 4666 \r\nL 3309 4666 \r\nL 3309 4134 \r\nL 1259 4134 \r\nL 1259 2759 \r\nL 3109 2759 \r\nL 3109 2228 \r\nL 1259 2228 \r\nL 1259 0 \r\nL 628 0 \r\nL 628 4666 \r\nz\r\n\" id=\"DejaVuSans-46\" transform=\"scale(0.015625)\"/>\r\n      <path d=\"M 581 4863 \r\nL 1159 4863 \r\nL 1159 1991 \r\nL 2875 3500 \r\nL 3609 3500 \r\nL 1753 1863 \r\nL 3688 0 \r\nL 2938 0 \r\nL 1159 1709 \r\nL 1159 0 \r\nL 581 0 \r\nL 581 4863 \r\nz\r\n\" id=\"DejaVuSans-6b\" transform=\"scale(0.015625)\"/>\r\n     </defs>\r\n     <use xlink:href=\"#DejaVuSans-46\"/>\r\n     <use x=\"57.519531\" xlink:href=\"#DejaVuSans-6c\"/>\r\n     <use x=\"85.302734\" xlink:href=\"#DejaVuSans-61\"/>\r\n     <use x=\"146.582031\" xlink:href=\"#DejaVuSans-73\"/>\r\n     <use x=\"198.681641\" xlink:href=\"#DejaVuSans-6b\"/>\r\n    </g>\r\n   </g>\r\n   <g id=\"text_6\">\r\n    <!-- 1.2% -->\r\n    <g transform=\"translate(192.283171 244.910702)scale(0.1 -0.1)\">\r\n     <defs>\r\n      <path d=\"M 794 531 \r\nL 1825 531 \r\nL 1825 4091 \r\nL 703 3866 \r\nL 703 4441 \r\nL 1819 4666 \r\nL 2450 4666 \r\nL 2450 531 \r\nL 3481 531 \r\nL 3481 0 \r\nL 794 0 \r\nL 794 531 \r\nz\r\n\" id=\"DejaVuSans-31\" transform=\"scale(0.015625)\"/>\r\n     </defs>\r\n     <use xlink:href=\"#DejaVuSans-31\"/>\r\n     <use x=\"63.623047\" xlink:href=\"#DejaVuSans-2e\"/>\r\n     <use x=\"95.410156\" xlink:href=\"#DejaVuSans-32\"/>\r\n     <use x=\"159.033203\" xlink:href=\"#DejaVuSans-25\"/>\r\n    </g>\r\n   </g>\r\n   <g id=\"text_7\">\r\n    <!-- Streamlit -->\r\n    <g transform=\"translate(288.853855 270.519478)scale(0.1 -0.1)\">\r\n     <defs>\r\n      <path d=\"M 3425 4513 \r\nL 3425 3897 \r\nQ 3066 4069 2747 4153 \r\nQ 2428 4238 2131 4238 \r\nQ 1616 4238 1336 4038 \r\nQ 1056 3838 1056 3469 \r\nQ 1056 3159 1242 3001 \r\nQ 1428 2844 1947 2747 \r\nL 2328 2669 \r\nQ 3034 2534 3370 2195 \r\nQ 3706 1856 3706 1288 \r\nQ 3706 609 3251 259 \r\nQ 2797 -91 1919 -91 \r\nQ 1588 -91 1214 -16 \r\nQ 841 59 441 206 \r\nL 441 856 \r\nQ 825 641 1194 531 \r\nQ 1563 422 1919 422 \r\nQ 2459 422 2753 634 \r\nQ 3047 847 3047 1241 \r\nQ 3047 1584 2836 1778 \r\nQ 2625 1972 2144 2069 \r\nL 1759 2144 \r\nQ 1053 2284 737 2584 \r\nQ 422 2884 422 3419 \r\nQ 422 4038 858 4394 \r\nQ 1294 4750 2059 4750 \r\nQ 2388 4750 2728 4690 \r\nQ 3069 4631 3425 4513 \r\nz\r\n\" id=\"DejaVuSans-53\" transform=\"scale(0.015625)\"/>\r\n      <path d=\"M 2631 2963 \r\nQ 2534 3019 2420 3045 \r\nQ 2306 3072 2169 3072 \r\nQ 1681 3072 1420 2755 \r\nQ 1159 2438 1159 1844 \r\nL 1159 0 \r\nL 581 0 \r\nL 581 3500 \r\nL 1159 3500 \r\nL 1159 2956 \r\nQ 1341 3275 1631 3429 \r\nQ 1922 3584 2338 3584 \r\nQ 2397 3584 2469 3576 \r\nQ 2541 3569 2628 3553 \r\nL 2631 2963 \r\nz\r\n\" id=\"DejaVuSans-72\" transform=\"scale(0.015625)\"/>\r\n      <path d=\"M 3597 1894 \r\nL 3597 1613 \r\nL 953 1613 \r\nQ 991 1019 1311 708 \r\nQ 1631 397 2203 397 \r\nQ 2534 397 2845 478 \r\nQ 3156 559 3463 722 \r\nL 3463 178 \r\nQ 3153 47 2828 -22 \r\nQ 2503 -91 2169 -91 \r\nQ 1331 -91 842 396 \r\nQ 353 884 353 1716 \r\nQ 353 2575 817 3079 \r\nQ 1281 3584 2069 3584 \r\nQ 2775 3584 3186 3129 \r\nQ 3597 2675 3597 1894 \r\nz\r\nM 3022 2063 \r\nQ 3016 2534 2758 2815 \r\nQ 2500 3097 2075 3097 \r\nQ 1594 3097 1305 2825 \r\nQ 1016 2553 972 2059 \r\nL 3022 2063 \r\nz\r\n\" id=\"DejaVuSans-65\" transform=\"scale(0.015625)\"/>\r\n      <path d=\"M 3328 2828 \r\nQ 3544 3216 3844 3400 \r\nQ 4144 3584 4550 3584 \r\nQ 5097 3584 5394 3201 \r\nQ 5691 2819 5691 2113 \r\nL 5691 0 \r\nL 5113 0 \r\nL 5113 2094 \r\nQ 5113 2597 4934 2840 \r\nQ 4756 3084 4391 3084 \r\nQ 3944 3084 3684 2787 \r\nQ 3425 2491 3425 1978 \r\nL 3425 0 \r\nL 2847 0 \r\nL 2847 2094 \r\nQ 2847 2600 2669 2842 \r\nQ 2491 3084 2119 3084 \r\nQ 1678 3084 1418 2786 \r\nQ 1159 2488 1159 1978 \r\nL 1159 0 \r\nL 581 0 \r\nL 581 3500 \r\nL 1159 3500 \r\nL 1159 2956 \r\nQ 1356 3278 1631 3431 \r\nQ 1906 3584 2284 3584 \r\nQ 2666 3584 2933 3390 \r\nQ 3200 3197 3328 2828 \r\nz\r\n\" id=\"DejaVuSans-6d\" transform=\"scale(0.015625)\"/>\r\n     </defs>\r\n     <use xlink:href=\"#DejaVuSans-53\"/>\r\n     <use x=\"63.476562\" xlink:href=\"#DejaVuSans-74\"/>\r\n     <use x=\"102.685547\" xlink:href=\"#DejaVuSans-72\"/>\r\n     <use x=\"141.548828\" xlink:href=\"#DejaVuSans-65\"/>\r\n     <use x=\"203.072266\" xlink:href=\"#DejaVuSans-61\"/>\r\n     <use x=\"264.351562\" xlink:href=\"#DejaVuSans-6d\"/>\r\n     <use x=\"361.763672\" xlink:href=\"#DejaVuSans-6c\"/>\r\n     <use x=\"389.546875\" xlink:href=\"#DejaVuSans-69\"/>\r\n     <use x=\"417.330078\" xlink:href=\"#DejaVuSans-74\"/>\r\n    </g>\r\n   </g>\r\n   <g id=\"text_8\">\r\n    <!-- 11.9% -->\r\n    <g transform=\"translate(208.293613 226.423683)scale(0.1 -0.1)\">\r\n     <use xlink:href=\"#DejaVuSans-31\"/>\r\n     <use x=\"63.623047\" xlink:href=\"#DejaVuSans-31\"/>\r\n     <use x=\"127.246094\" xlink:href=\"#DejaVuSans-2e\"/>\r\n     <use x=\"159.033203\" xlink:href=\"#DejaVuSans-39\"/>\r\n     <use x=\"222.65625\" xlink:href=\"#DejaVuSans-25\"/>\r\n    </g>\r\n   </g>\r\n   <g id=\"text_9\">\r\n    <!-- SQL -->\r\n    <g transform=\"translate(312.888036 205.745257)scale(0.1 -0.1)\">\r\n     <defs>\r\n      <path d=\"M 2522 4238 \r\nQ 1834 4238 1429 3725 \r\nQ 1025 3213 1025 2328 \r\nQ 1025 1447 1429 934 \r\nQ 1834 422 2522 422 \r\nQ 3209 422 3611 934 \r\nQ 4013 1447 4013 2328 \r\nQ 4013 3213 3611 3725 \r\nQ 3209 4238 2522 4238 \r\nz\r\nM 3406 84 \r\nL 4238 -825 \r\nL 3475 -825 \r\nL 2784 -78 \r\nQ 2681 -84 2626 -87 \r\nQ 2572 -91 2522 -91 \r\nQ 1538 -91 948 567 \r\nQ 359 1225 359 2328 \r\nQ 359 3434 948 4092 \r\nQ 1538 4750 2522 4750 \r\nQ 3503 4750 4090 4092 \r\nQ 4678 3434 4678 2328 \r\nQ 4678 1516 4351 937 \r\nQ 4025 359 3406 84 \r\nz\r\n\" id=\"DejaVuSans-51\" transform=\"scale(0.015625)\"/>\r\n      <path d=\"M 628 4666 \r\nL 1259 4666 \r\nL 1259 531 \r\nL 3531 531 \r\nL 3531 0 \r\nL 628 0 \r\nL 628 4666 \r\nz\r\n\" id=\"DejaVuSans-4c\" transform=\"scale(0.015625)\"/>\r\n     </defs>\r\n     <use xlink:href=\"#DejaVuSans-53\"/>\r\n     <use x=\"63.476562\" xlink:href=\"#DejaVuSans-51\"/>\r\n     <use x=\"142.1875\" xlink:href=\"#DejaVuSans-4c\"/>\r\n    </g>\r\n   </g>\r\n   <g id=\"text_10\">\r\n    <!-- 3.6% -->\r\n    <g transform=\"translate(222.399491 196.980856)scale(0.1 -0.1)\">\r\n     <defs>\r\n      <path d=\"M 2113 2584 \r\nQ 1688 2584 1439 2293 \r\nQ 1191 2003 1191 1497 \r\nQ 1191 994 1439 701 \r\nQ 1688 409 2113 409 \r\nQ 2538 409 2786 701 \r\nQ 3034 994 3034 1497 \r\nQ 3034 2003 2786 2293 \r\nQ 2538 2584 2113 2584 \r\nz\r\nM 3366 4563 \r\nL 3366 3988 \r\nQ 3128 4100 2886 4159 \r\nQ 2644 4219 2406 4219 \r\nQ 1781 4219 1451 3797 \r\nQ 1122 3375 1075 2522 \r\nQ 1259 2794 1537 2939 \r\nQ 1816 3084 2150 3084 \r\nQ 2853 3084 3261 2657 \r\nQ 3669 2231 3669 1497 \r\nQ 3669 778 3244 343 \r\nQ 2819 -91 2113 -91 \r\nQ 1303 -91 875 529 \r\nQ 447 1150 447 2328 \r\nQ 447 3434 972 4092 \r\nQ 1497 4750 2381 4750 \r\nQ 2619 4750 2861 4703 \r\nQ 3103 4656 3366 4563 \r\nz\r\n\" id=\"DejaVuSans-36\" transform=\"scale(0.015625)\"/>\r\n     </defs>\r\n     <use xlink:href=\"#DejaVuSans-33\"/>\r\n     <use x=\"63.623047\" xlink:href=\"#DejaVuSans-2e\"/>\r\n     <use x=\"95.410156\" xlink:href=\"#DejaVuSans-36\"/>\r\n     <use x=\"159.033203\" xlink:href=\"#DejaVuSans-25\"/>\r\n    </g>\r\n   </g>\r\n   <g id=\"text_11\">\r\n    <!-- Time spent per Project Step -->\r\n    <g transform=\"translate(73.161563 17.837812)scale(0.14 -0.14)\">\r\n     <defs>\r\n      <path d=\"M -19 4666 \r\nL 3928 4666 \r\nL 3928 4134 \r\nL 2272 4134 \r\nL 2272 0 \r\nL 1638 0 \r\nL 1638 4134 \r\nL -19 4134 \r\nL -19 4666 \r\nz\r\n\" id=\"DejaVuSans-54\" transform=\"scale(0.015625)\"/>\r\n      <path d=\"M 1159 525 \r\nL 1159 -1331 \r\nL 581 -1331 \r\nL 581 3500 \r\nL 1159 3500 \r\nL 1159 2969 \r\nQ 1341 3281 1617 3432 \r\nQ 1894 3584 2278 3584 \r\nQ 2916 3584 3314 3078 \r\nQ 3713 2572 3713 1747 \r\nQ 3713 922 3314 415 \r\nQ 2916 -91 2278 -91 \r\nQ 1894 -91 1617 61 \r\nQ 1341 213 1159 525 \r\nz\r\nM 3116 1747 \r\nQ 3116 2381 2855 2742 \r\nQ 2594 3103 2138 3103 \r\nQ 1681 3103 1420 2742 \r\nQ 1159 2381 1159 1747 \r\nQ 1159 1113 1420 752 \r\nQ 1681 391 2138 391 \r\nQ 2594 391 2855 752 \r\nQ 3116 1113 3116 1747 \r\nz\r\n\" id=\"DejaVuSans-70\" transform=\"scale(0.015625)\"/>\r\n      <path d=\"M 1259 4147 \r\nL 1259 2394 \r\nL 2053 2394 \r\nQ 2494 2394 2734 2622 \r\nQ 2975 2850 2975 3272 \r\nQ 2975 3691 2734 3919 \r\nQ 2494 4147 2053 4147 \r\nL 1259 4147 \r\nz\r\nM 628 4666 \r\nL 2053 4666 \r\nQ 2838 4666 3239 4311 \r\nQ 3641 3956 3641 3272 \r\nQ 3641 2581 3239 2228 \r\nQ 2838 1875 2053 1875 \r\nL 1259 1875 \r\nL 1259 0 \r\nL 628 0 \r\nL 628 4666 \r\nz\r\n\" id=\"DejaVuSans-50\" transform=\"scale(0.015625)\"/>\r\n      <path d=\"M 603 3500 \r\nL 1178 3500 \r\nL 1178 -63 \r\nQ 1178 -731 923 -1031 \r\nQ 669 -1331 103 -1331 \r\nL -116 -1331 \r\nL -116 -844 \r\nL 38 -844 \r\nQ 366 -844 484 -692 \r\nQ 603 -541 603 -63 \r\nL 603 3500 \r\nz\r\nM 603 4863 \r\nL 1178 4863 \r\nL 1178 4134 \r\nL 603 4134 \r\nL 603 4863 \r\nz\r\n\" id=\"DejaVuSans-6a\" transform=\"scale(0.015625)\"/>\r\n      <path d=\"M 3122 3366 \r\nL 3122 2828 \r\nQ 2878 2963 2633 3030 \r\nQ 2388 3097 2138 3097 \r\nQ 1578 3097 1268 2742 \r\nQ 959 2388 959 1747 \r\nQ 959 1106 1268 751 \r\nQ 1578 397 2138 397 \r\nQ 2388 397 2633 464 \r\nQ 2878 531 3122 666 \r\nL 3122 134 \r\nQ 2881 22 2623 -34 \r\nQ 2366 -91 2075 -91 \r\nQ 1284 -91 818 406 \r\nQ 353 903 353 1747 \r\nQ 353 2603 823 3093 \r\nQ 1294 3584 2113 3584 \r\nQ 2378 3584 2631 3529 \r\nQ 2884 3475 3122 3366 \r\nz\r\n\" id=\"DejaVuSans-63\" transform=\"scale(0.015625)\"/>\r\n     </defs>\r\n     <use xlink:href=\"#DejaVuSans-54\"/>\r\n     <use x=\"57.958984\" xlink:href=\"#DejaVuSans-69\"/>\r\n     <use x=\"85.742188\" xlink:href=\"#DejaVuSans-6d\"/>\r\n     <use x=\"183.154297\" xlink:href=\"#DejaVuSans-65\"/>\r\n     <use x=\"244.677734\" xlink:href=\"#DejaVuSans-20\"/>\r\n     <use x=\"276.464844\" xlink:href=\"#DejaVuSans-73\"/>\r\n     <use x=\"328.564453\" xlink:href=\"#DejaVuSans-70\"/>\r\n     <use x=\"392.041016\" xlink:href=\"#DejaVuSans-65\"/>\r\n     <use x=\"453.564453\" xlink:href=\"#DejaVuSans-6e\"/>\r\n     <use x=\"516.943359\" xlink:href=\"#DejaVuSans-74\"/>\r\n     <use x=\"556.152344\" xlink:href=\"#DejaVuSans-20\"/>\r\n     <use x=\"587.939453\" xlink:href=\"#DejaVuSans-70\"/>\r\n     <use x=\"651.416016\" xlink:href=\"#DejaVuSans-65\"/>\r\n     <use x=\"712.939453\" xlink:href=\"#DejaVuSans-72\"/>\r\n     <use x=\"754.052734\" xlink:href=\"#DejaVuSans-20\"/>\r\n     <use x=\"785.839844\" xlink:href=\"#DejaVuSans-50\"/>\r\n     <use x=\"844.392578\" xlink:href=\"#DejaVuSans-72\"/>\r\n     <use x=\"883.255859\" xlink:href=\"#DejaVuSans-6f\"/>\r\n     <use x=\"944.4375\" xlink:href=\"#DejaVuSans-6a\"/>\r\n     <use x=\"972.220703\" xlink:href=\"#DejaVuSans-65\"/>\r\n     <use x=\"1033.744141\" xlink:href=\"#DejaVuSans-63\"/>\r\n     <use x=\"1088.724609\" xlink:href=\"#DejaVuSans-74\"/>\r\n     <use x=\"1127.933594\" xlink:href=\"#DejaVuSans-20\"/>\r\n     <use x=\"1159.720703\" xlink:href=\"#DejaVuSans-53\"/>\r\n     <use x=\"1223.197266\" xlink:href=\"#DejaVuSans-74\"/>\r\n     <use x=\"1262.40625\" xlink:href=\"#DejaVuSans-65\"/>\r\n     <use x=\"1323.929688\" xlink:href=\"#DejaVuSans-70\"/>\r\n    </g>\r\n   </g>\r\n  </g>\r\n </g>\r\n</svg>\r\n",
      "image/png": "[encoded data removed]"
     },
     "metadata": {}
    }
   ],
   "source": [
    "viz.timepie()"
   ]
  },
  {
   "source": [
    "### 2.2 Graphs"
   ],
   "cell_type": "markdown",
   "metadata": {}
  },
  {
   "cell_type": "code",
   "execution_count": 8,
   "metadata": {},
   "outputs": [
    {
     "output_type": "display_data",
     "data": {
      "text/plain": "<Figure size 720x432 with 1 Axes>",
      "image/svg+xml": "<?xml version=\"1.0\" encoding=\"utf-8\" standalone=\"no\"?>\r\n<!DOCTYPE svg PUBLIC \"-//W3C//DTD SVG 1.1//EN\"\r\n  \"http://www.w3.org/Graphics/SVG/1.1/DTD/svg11.dtd\">\r\n<svg height=\"357.197812pt\" version=\"1.1\" viewBox=\"0 0 353.235508 357.197812\" width=\"353.235508pt\" xmlns=\"http://www.w3.org/2000/svg\" xmlns:xlink=\"http://www.w3.org/1999/xlink\">\r\n <metadata>\r\n  <rdf:RDF xmlns:cc=\"http://creativecommons.org/ns#\" xmlns:dc=\"http://purl.org/dc/elements/1.1/\" xmlns:rdf=\"http://www.w3.org/1999/02/22-rdf-syntax-ns#\">\r\n   <cc:Work>\r\n    <dc:type rdf:resource=\"http://purl.org/dc/dcmitype/StillImage\"/>\r\n    <dc:date>2021-06-01T12:26:41.723479</dc:date>\r\n    <dc:format>image/svg+xml</dc:format>\r\n    <dc:creator>\r\n     <cc:Agent>\r\n      <dc:title>Matplotlib v3.4.1, https://matplotlib.org/</dc:title>\r\n     </cc:Agent>\r\n    </dc:creator>\r\n   </cc:Work>\r\n  </rdf:RDF>\r\n </metadata>\r\n <defs>\r\n  <style type=\"text/css\">*{stroke-linecap:butt;stroke-linejoin:round;}</style>\r\n </defs>\r\n <g id=\"figure_1\">\r\n  <g id=\"patch_1\">\r\n   <path d=\"M -0 357.197812 \r\nL 353.235508 357.197812 \r\nL 353.235508 0 \r\nL -0 0 \r\nz\r\n\" style=\"fill:none;\"/>\r\n  </g>\r\n  <g id=\"axes_1\">\r\n   <g id=\"patch_2\">\r\n    <path d=\"M 313.419508 186.917812 \r\nC 313.419508 159.234855 304.608501 132.257492 288.2686 109.911267 \r\nC 271.928698 87.565043 248.892858 70.989096 222.513082 62.595435 \r\nL 182.955508 186.917812 \r\nL 313.419508 186.917812 \r\nz\r\n\" style=\"fill:#1f77b4;\"/>\r\n   </g>\r\n   <g id=\"patch_3\">\r\n    <path d=\"M 222.513082 62.595435 \r\nC 205.463973 57.170656 187.479799 55.310494 169.6813 57.130869 \r\nC 151.882802 58.951244 134.647546 64.413542 119.049603 73.17736 \r\nL 182.955508 186.917812 \r\nL 222.513082 62.595435 \r\nz\r\n\" style=\"fill:#ff7f0e;\"/>\r\n   </g>\r\n   <g id=\"patch_4\">\r\n    <path d=\"M 119.049603 73.17736 \r\nC 107.922996 79.428925 97.773697 87.279477 88.926447 96.477827 \r\nC 80.079197 105.676176 72.629372 116.123163 66.815338 127.484521 \r\nL 182.955508 186.917812 \r\nL 119.049603 73.17736 \r\nz\r\n\" style=\"fill:#2ca02c;\"/>\r\n   </g>\r\n   <g id=\"patch_5\">\r\n    <path d=\"M 66.815338 127.484521 \r\nC 61.432663 138.002948 57.50378 149.204025 55.13658 160.780158 \r\nC 52.76938 172.356291 51.985732 184.200536 52.807156 195.987637 \r\nL 182.955508 186.917812 \r\nL 66.815338 127.484521 \r\nz\r\n\" style=\"fill:#d62728;\"/>\r\n   </g>\r\n   <g id=\"patch_6\">\r\n    <path d=\"M 52.807156 195.987637 \r\nC 53.423043 204.825374 54.937523 213.577441 57.327134 222.108249 \r\nC 59.716744 230.639056 62.96908 238.904323 67.033756 246.776001 \r\nL 182.955508 186.917812 \r\nL 52.807156 195.987637 \r\nz\r\n\" style=\"fill:#9467bd;\"/>\r\n   </g>\r\n   <g id=\"patch_7\">\r\n    <path d=\"M 67.033756 246.776001 \r\nC 71.083172 254.618126 75.917938 262.029134 81.463713 268.89507 \r\nC 87.009487 275.761006 93.237698 282.046497 100.052578 287.654893 \r\nL 182.955508 186.917812 \r\nL 67.033756 246.776001 \r\nz\r\n\" style=\"fill:#8c564b;\"/>\r\n   </g>\r\n   <g id=\"patch_8\">\r\n    <path d=\"M 100.052578 287.654893 \r\nC 104.988669 291.717115 110.216662 295.411048 115.694295 298.70683 \r\nC 121.171928 302.002612 126.884399 304.891338 132.785528 307.349654 \r\nL 182.955508 186.917812 \r\nL 100.052578 287.654893 \r\nz\r\n\" style=\"fill:#e377c2;\"/>\r\n   </g>\r\n   <g id=\"patch_9\">\r\n    <path d=\"M 132.785528 307.349654 \r\nC 137.36222 309.256231 142.043875 310.900371 146.807707 312.274072 \r\nC 151.571539 313.647773 156.409805 314.748803 161.298958 315.571803 \r\nL 182.955508 186.917812 \r\nL 132.785528 307.349654 \r\nz\r\n\" style=\"fill:#7f7f7f;\"/>\r\n   </g>\r\n   <g id=\"patch_10\">\r\n    <path d=\"M 161.298958 315.571803 \r\nC 165.926179 316.350711 170.592054 316.879415 175.276239 317.155611 \r\nC 179.960423 317.431807 184.656099 317.455091 189.342793 317.225364 \r\nL 182.955508 186.917812 \r\nL 161.298958 315.571803 \r\nz\r\n\" style=\"fill:#bcbd22;\"/>\r\n   </g>\r\n   <g id=\"patch_11\">\r\n    <path d=\"M 189.342793 317.225364 \r\nC 222.786772 315.58604 254.348757 301.132726 277.438752 276.883205 \r\nC 300.528747 252.633685 313.41951 220.401938 313.419508 186.917806 \r\nL 182.955508 186.917812 \r\nL 189.342793 317.225364 \r\nz\r\n\" style=\"fill:#17becf;\"/>\r\n   </g>\r\n   <g id=\"matplotlib.axis_1\"/>\r\n   <g id=\"matplotlib.axis_2\"/>\r\n   <g id=\"text_1\">\r\n    <!-- Drama -->\r\n    <g transform=\"translate(298.799909 104.969988)scale(0.1 -0.1)\">\r\n     <defs>\r\n      <path d=\"M 1259 4147 \r\nL 1259 519 \r\nL 2022 519 \r\nQ 2988 519 3436 956 \r\nQ 3884 1394 3884 2338 \r\nQ 3884 3275 3436 3711 \r\nQ 2988 4147 2022 4147 \r\nL 1259 4147 \r\nz\r\nM 628 4666 \r\nL 1925 4666 \r\nQ 3281 4666 3915 4102 \r\nQ 4550 3538 4550 2338 \r\nQ 4550 1131 3912 565 \r\nQ 3275 0 1925 0 \r\nL 628 0 \r\nL 628 4666 \r\nz\r\n\" id=\"DejaVuSans-44\" transform=\"scale(0.015625)\"/>\r\n      <path d=\"M 2631 2963 \r\nQ 2534 3019 2420 3045 \r\nQ 2306 3072 2169 3072 \r\nQ 1681 3072 1420 2755 \r\nQ 1159 2438 1159 1844 \r\nL 1159 0 \r\nL 581 0 \r\nL 581 3500 \r\nL 1159 3500 \r\nL 1159 2956 \r\nQ 1341 3275 1631 3429 \r\nQ 1922 3584 2338 3584 \r\nQ 2397 3584 2469 3576 \r\nQ 2541 3569 2628 3553 \r\nL 2631 2963 \r\nz\r\n\" id=\"DejaVuSans-72\" transform=\"scale(0.015625)\"/>\r\n      <path d=\"M 2194 1759 \r\nQ 1497 1759 1228 1600 \r\nQ 959 1441 959 1056 \r\nQ 959 750 1161 570 \r\nQ 1363 391 1709 391 \r\nQ 2188 391 2477 730 \r\nQ 2766 1069 2766 1631 \r\nL 2766 1759 \r\nL 2194 1759 \r\nz\r\nM 3341 1997 \r\nL 3341 0 \r\nL 2766 0 \r\nL 2766 531 \r\nQ 2569 213 2275 61 \r\nQ 1981 -91 1556 -91 \r\nQ 1019 -91 701 211 \r\nQ 384 513 384 1019 \r\nQ 384 1609 779 1909 \r\nQ 1175 2209 1959 2209 \r\nL 2766 2209 \r\nL 2766 2266 \r\nQ 2766 2663 2505 2880 \r\nQ 2244 3097 1772 3097 \r\nQ 1472 3097 1187 3025 \r\nQ 903 2953 641 2809 \r\nL 641 3341 \r\nQ 956 3463 1253 3523 \r\nQ 1550 3584 1831 3584 \r\nQ 2591 3584 2966 3190 \r\nQ 3341 2797 3341 1997 \r\nz\r\n\" id=\"DejaVuSans-61\" transform=\"scale(0.015625)\"/>\r\n      <path d=\"M 3328 2828 \r\nQ 3544 3216 3844 3400 \r\nQ 4144 3584 4550 3584 \r\nQ 5097 3584 5394 3201 \r\nQ 5691 2819 5691 2113 \r\nL 5691 0 \r\nL 5113 0 \r\nL 5113 2094 \r\nQ 5113 2597 4934 2840 \r\nQ 4756 3084 4391 3084 \r\nQ 3944 3084 3684 2787 \r\nQ 3425 2491 3425 1978 \r\nL 3425 0 \r\nL 2847 0 \r\nL 2847 2094 \r\nQ 2847 2600 2669 2842 \r\nQ 2491 3084 2119 3084 \r\nQ 1678 3084 1418 2786 \r\nQ 1159 2488 1159 1978 \r\nL 1159 0 \r\nL 581 0 \r\nL 581 3500 \r\nL 1159 3500 \r\nL 1159 2956 \r\nQ 1356 3278 1631 3431 \r\nQ 1906 3584 2284 3584 \r\nQ 2666 3584 2933 3390 \r\nQ 3200 3197 3328 2828 \r\nz\r\n\" id=\"DejaVuSans-6d\" transform=\"scale(0.015625)\"/>\r\n     </defs>\r\n     <use xlink:href=\"#DejaVuSans-44\"/>\r\n     <use x=\"77.001953\" xlink:href=\"#DejaVuSans-72\"/>\r\n     <use x=\"118.115234\" xlink:href=\"#DejaVuSans-61\"/>\r\n     <use x=\"179.394531\" xlink:href=\"#DejaVuSans-6d\"/>\r\n     <use x=\"276.806641\" xlink:href=\"#DejaVuSans-61\"/>\r\n    </g>\r\n   </g>\r\n   <g id=\"text_2\">\r\n    <!-- 20.1% -->\r\n    <g transform=\"translate(219.72846 151.173915)scale(0.1 -0.1)\">\r\n     <defs>\r\n      <path d=\"M 1228 531 \r\nL 3431 531 \r\nL 3431 0 \r\nL 469 0 \r\nL 469 531 \r\nQ 828 903 1448 1529 \r\nQ 2069 2156 2228 2338 \r\nQ 2531 2678 2651 2914 \r\nQ 2772 3150 2772 3378 \r\nQ 2772 3750 2511 3984 \r\nQ 2250 4219 1831 4219 \r\nQ 1534 4219 1204 4116 \r\nQ 875 4013 500 3803 \r\nL 500 4441 \r\nQ 881 4594 1212 4672 \r\nQ 1544 4750 1819 4750 \r\nQ 2544 4750 2975 4387 \r\nQ 3406 4025 3406 3419 \r\nQ 3406 3131 3298 2873 \r\nQ 3191 2616 2906 2266 \r\nQ 2828 2175 2409 1742 \r\nQ 1991 1309 1228 531 \r\nz\r\n\" id=\"DejaVuSans-32\" transform=\"scale(0.015625)\"/>\r\n      <path d=\"M 2034 4250 \r\nQ 1547 4250 1301 3770 \r\nQ 1056 3291 1056 2328 \r\nQ 1056 1369 1301 889 \r\nQ 1547 409 2034 409 \r\nQ 2525 409 2770 889 \r\nQ 3016 1369 3016 2328 \r\nQ 3016 3291 2770 3770 \r\nQ 2525 4250 2034 4250 \r\nz\r\nM 2034 4750 \r\nQ 2819 4750 3233 4129 \r\nQ 3647 3509 3647 2328 \r\nQ 3647 1150 3233 529 \r\nQ 2819 -91 2034 -91 \r\nQ 1250 -91 836 529 \r\nQ 422 1150 422 2328 \r\nQ 422 3509 836 4129 \r\nQ 1250 4750 2034 4750 \r\nz\r\n\" id=\"DejaVuSans-30\" transform=\"scale(0.015625)\"/>\r\n      <path d=\"M 684 794 \r\nL 1344 794 \r\nL 1344 0 \r\nL 684 0 \r\nL 684 794 \r\nz\r\n\" id=\"DejaVuSans-2e\" transform=\"scale(0.015625)\"/>\r\n      <path d=\"M 794 531 \r\nL 1825 531 \r\nL 1825 4091 \r\nL 703 3866 \r\nL 703 4441 \r\nL 1819 4666 \r\nL 2450 4666 \r\nL 2450 531 \r\nL 3481 531 \r\nL 3481 0 \r\nL 794 0 \r\nL 794 531 \r\nz\r\n\" id=\"DejaVuSans-31\" transform=\"scale(0.015625)\"/>\r\n      <path d=\"M 4653 2053 \r\nQ 4381 2053 4226 1822 \r\nQ 4072 1591 4072 1178 \r\nQ 4072 772 4226 539 \r\nQ 4381 306 4653 306 \r\nQ 4919 306 5073 539 \r\nQ 5228 772 5228 1178 \r\nQ 5228 1588 5073 1820 \r\nQ 4919 2053 4653 2053 \r\nz\r\nM 4653 2450 \r\nQ 5147 2450 5437 2106 \r\nQ 5728 1763 5728 1178 \r\nQ 5728 594 5436 251 \r\nQ 5144 -91 4653 -91 \r\nQ 4153 -91 3862 251 \r\nQ 3572 594 3572 1178 \r\nQ 3572 1766 3864 2108 \r\nQ 4156 2450 4653 2450 \r\nz\r\nM 1428 4353 \r\nQ 1159 4353 1004 4120 \r\nQ 850 3888 850 3481 \r\nQ 850 3069 1003 2837 \r\nQ 1156 2606 1428 2606 \r\nQ 1700 2606 1854 2837 \r\nQ 2009 3069 2009 3481 \r\nQ 2009 3884 1853 4118 \r\nQ 1697 4353 1428 4353 \r\nz\r\nM 4250 4750 \r\nL 4750 4750 \r\nL 1831 -91 \r\nL 1331 -91 \r\nL 4250 4750 \r\nz\r\nM 1428 4750 \r\nQ 1922 4750 2215 4408 \r\nQ 2509 4066 2509 3481 \r\nQ 2509 2891 2217 2550 \r\nQ 1925 2209 1428 2209 \r\nQ 931 2209 642 2551 \r\nQ 353 2894 353 3481 \r\nQ 353 4063 643 4406 \r\nQ 934 4750 1428 4750 \r\nz\r\n\" id=\"DejaVuSans-25\" transform=\"scale(0.015625)\"/>\r\n     </defs>\r\n     <use xlink:href=\"#DejaVuSans-32\"/>\r\n     <use x=\"63.623047\" xlink:href=\"#DejaVuSans-30\"/>\r\n     <use x=\"127.246094\" xlink:href=\"#DejaVuSans-2e\"/>\r\n     <use x=\"159.033203\" xlink:href=\"#DejaVuSans-31\"/>\r\n     <use x=\"222.65625\" xlink:href=\"#DejaVuSans-25\"/>\r\n    </g>\r\n   </g>\r\n   <g id=\"text_3\">\r\n    <!-- Comedy -->\r\n    <g transform=\"translate(127.09138 46.91155)scale(0.1 -0.1)\">\r\n     <defs>\r\n      <path d=\"M 4122 4306 \r\nL 4122 3641 \r\nQ 3803 3938 3442 4084 \r\nQ 3081 4231 2675 4231 \r\nQ 1875 4231 1450 3742 \r\nQ 1025 3253 1025 2328 \r\nQ 1025 1406 1450 917 \r\nQ 1875 428 2675 428 \r\nQ 3081 428 3442 575 \r\nQ 3803 722 4122 1019 \r\nL 4122 359 \r\nQ 3791 134 3420 21 \r\nQ 3050 -91 2638 -91 \r\nQ 1578 -91 968 557 \r\nQ 359 1206 359 2328 \r\nQ 359 3453 968 4101 \r\nQ 1578 4750 2638 4750 \r\nQ 3056 4750 3426 4639 \r\nQ 3797 4528 4122 4306 \r\nz\r\n\" id=\"DejaVuSans-43\" transform=\"scale(0.015625)\"/>\r\n      <path d=\"M 1959 3097 \r\nQ 1497 3097 1228 2736 \r\nQ 959 2375 959 1747 \r\nQ 959 1119 1226 758 \r\nQ 1494 397 1959 397 \r\nQ 2419 397 2687 759 \r\nQ 2956 1122 2956 1747 \r\nQ 2956 2369 2687 2733 \r\nQ 2419 3097 1959 3097 \r\nz\r\nM 1959 3584 \r\nQ 2709 3584 3137 3096 \r\nQ 3566 2609 3566 1747 \r\nQ 3566 888 3137 398 \r\nQ 2709 -91 1959 -91 \r\nQ 1206 -91 779 398 \r\nQ 353 888 353 1747 \r\nQ 353 2609 779 3096 \r\nQ 1206 3584 1959 3584 \r\nz\r\n\" id=\"DejaVuSans-6f\" transform=\"scale(0.015625)\"/>\r\n      <path d=\"M 3597 1894 \r\nL 3597 1613 \r\nL 953 1613 \r\nQ 991 1019 1311 708 \r\nQ 1631 397 2203 397 \r\nQ 2534 397 2845 478 \r\nQ 3156 559 3463 722 \r\nL 3463 178 \r\nQ 3153 47 2828 -22 \r\nQ 2503 -91 2169 -91 \r\nQ 1331 -91 842 396 \r\nQ 353 884 353 1716 \r\nQ 353 2575 817 3079 \r\nQ 1281 3584 2069 3584 \r\nQ 2775 3584 3186 3129 \r\nQ 3597 2675 3597 1894 \r\nz\r\nM 3022 2063 \r\nQ 3016 2534 2758 2815 \r\nQ 2500 3097 2075 3097 \r\nQ 1594 3097 1305 2825 \r\nQ 1016 2553 972 2059 \r\nL 3022 2063 \r\nz\r\n\" id=\"DejaVuSans-65\" transform=\"scale(0.015625)\"/>\r\n      <path d=\"M 2906 2969 \r\nL 2906 4863 \r\nL 3481 4863 \r\nL 3481 0 \r\nL 2906 0 \r\nL 2906 525 \r\nQ 2725 213 2448 61 \r\nQ 2172 -91 1784 -91 \r\nQ 1150 -91 751 415 \r\nQ 353 922 353 1747 \r\nQ 353 2572 751 3078 \r\nQ 1150 3584 1784 3584 \r\nQ 2172 3584 2448 3432 \r\nQ 2725 3281 2906 2969 \r\nz\r\nM 947 1747 \r\nQ 947 1113 1208 752 \r\nQ 1469 391 1925 391 \r\nQ 2381 391 2643 752 \r\nQ 2906 1113 2906 1747 \r\nQ 2906 2381 2643 2742 \r\nQ 2381 3103 1925 3103 \r\nQ 1469 3103 1208 2742 \r\nQ 947 2381 947 1747 \r\nz\r\n\" id=\"DejaVuSans-64\" transform=\"scale(0.015625)\"/>\r\n      <path d=\"M 2059 -325 \r\nQ 1816 -950 1584 -1140 \r\nQ 1353 -1331 966 -1331 \r\nL 506 -1331 \r\nL 506 -850 \r\nL 844 -850 \r\nQ 1081 -850 1212 -737 \r\nQ 1344 -625 1503 -206 \r\nL 1606 56 \r\nL 191 3500 \r\nL 800 3500 \r\nL 1894 763 \r\nL 2988 3500 \r\nL 3597 3500 \r\nL 2059 -325 \r\nz\r\n\" id=\"DejaVuSans-79\" transform=\"scale(0.015625)\"/>\r\n     </defs>\r\n     <use xlink:href=\"#DejaVuSans-43\"/>\r\n     <use x=\"69.824219\" xlink:href=\"#DejaVuSans-6f\"/>\r\n     <use x=\"131.005859\" xlink:href=\"#DejaVuSans-6d\"/>\r\n     <use x=\"228.417969\" xlink:href=\"#DejaVuSans-65\"/>\r\n     <use x=\"289.941406\" xlink:href=\"#DejaVuSans-64\"/>\r\n     <use x=\"353.417969\" xlink:href=\"#DejaVuSans-79\"/>\r\n    </g>\r\n   </g>\r\n   <g id=\"text_4\">\r\n    <!-- 13.1% -->\r\n    <g transform=\"translate(160.43481 124.783716)scale(0.1 -0.1)\">\r\n     <defs>\r\n      <path d=\"M 2597 2516 \r\nQ 3050 2419 3304 2112 \r\nQ 3559 1806 3559 1356 \r\nQ 3559 666 3084 287 \r\nQ 2609 -91 1734 -91 \r\nQ 1441 -91 1130 -33 \r\nQ 819 25 488 141 \r\nL 488 750 \r\nQ 750 597 1062 519 \r\nQ 1375 441 1716 441 \r\nQ 2309 441 2620 675 \r\nQ 2931 909 2931 1356 \r\nQ 2931 1769 2642 2001 \r\nQ 2353 2234 1838 2234 \r\nL 1294 2234 \r\nL 1294 2753 \r\nL 1863 2753 \r\nQ 2328 2753 2575 2939 \r\nQ 2822 3125 2822 3475 \r\nQ 2822 3834 2567 4026 \r\nQ 2313 4219 1838 4219 \r\nQ 1578 4219 1281 4162 \r\nQ 984 4106 628 3988 \r\nL 628 4550 \r\nQ 988 4650 1302 4700 \r\nQ 1616 4750 1894 4750 \r\nQ 2613 4750 3031 4423 \r\nQ 3450 4097 3450 3541 \r\nQ 3450 3153 3228 2886 \r\nQ 3006 2619 2597 2516 \r\nz\r\n\" id=\"DejaVuSans-33\" transform=\"scale(0.015625)\"/>\r\n     </defs>\r\n     <use xlink:href=\"#DejaVuSans-31\"/>\r\n     <use x=\"63.623047\" xlink:href=\"#DejaVuSans-33\"/>\r\n     <use x=\"127.246094\" xlink:href=\"#DejaVuSans-2e\"/>\r\n     <use x=\"159.033203\" xlink:href=\"#DejaVuSans-31\"/>\r\n     <use x=\"222.65625\" xlink:href=\"#DejaVuSans-25\"/>\r\n    </g>\r\n   </g>\r\n   <g id=\"text_5\">\r\n    <!-- Romance -->\r\n    <g transform=\"translate(33.048541 90.193203)scale(0.1 -0.1)\">\r\n     <defs>\r\n      <path d=\"M 2841 2188 \r\nQ 3044 2119 3236 1894 \r\nQ 3428 1669 3622 1275 \r\nL 4263 0 \r\nL 3584 0 \r\nL 2988 1197 \r\nQ 2756 1666 2539 1819 \r\nQ 2322 1972 1947 1972 \r\nL 1259 1972 \r\nL 1259 0 \r\nL 628 0 \r\nL 628 4666 \r\nL 2053 4666 \r\nQ 2853 4666 3247 4331 \r\nQ 3641 3997 3641 3322 \r\nQ 3641 2881 3436 2590 \r\nQ 3231 2300 2841 2188 \r\nz\r\nM 1259 4147 \r\nL 1259 2491 \r\nL 2053 2491 \r\nQ 2509 2491 2742 2702 \r\nQ 2975 2913 2975 3322 \r\nQ 2975 3731 2742 3939 \r\nQ 2509 4147 2053 4147 \r\nL 1259 4147 \r\nz\r\n\" id=\"DejaVuSans-52\" transform=\"scale(0.015625)\"/>\r\n      <path d=\"M 3513 2113 \r\nL 3513 0 \r\nL 2938 0 \r\nL 2938 2094 \r\nQ 2938 2591 2744 2837 \r\nQ 2550 3084 2163 3084 \r\nQ 1697 3084 1428 2787 \r\nQ 1159 2491 1159 1978 \r\nL 1159 0 \r\nL 581 0 \r\nL 581 3500 \r\nL 1159 3500 \r\nL 1159 2956 \r\nQ 1366 3272 1645 3428 \r\nQ 1925 3584 2291 3584 \r\nQ 2894 3584 3203 3211 \r\nQ 3513 2838 3513 2113 \r\nz\r\n\" id=\"DejaVuSans-6e\" transform=\"scale(0.015625)\"/>\r\n      <path d=\"M 3122 3366 \r\nL 3122 2828 \r\nQ 2878 2963 2633 3030 \r\nQ 2388 3097 2138 3097 \r\nQ 1578 3097 1268 2742 \r\nQ 959 2388 959 1747 \r\nQ 959 1106 1268 751 \r\nQ 1578 397 2138 397 \r\nQ 2388 397 2633 464 \r\nQ 2878 531 3122 666 \r\nL 3122 134 \r\nQ 2881 22 2623 -34 \r\nQ 2366 -91 2075 -91 \r\nQ 1284 -91 818 406 \r\nQ 353 903 353 1747 \r\nQ 353 2603 823 3093 \r\nQ 1294 3584 2113 3584 \r\nQ 2378 3584 2631 3529 \r\nQ 2884 3475 3122 3366 \r\nz\r\n\" id=\"DejaVuSans-63\" transform=\"scale(0.015625)\"/>\r\n     </defs>\r\n     <use xlink:href=\"#DejaVuSans-52\"/>\r\n     <use x=\"64.982422\" xlink:href=\"#DejaVuSans-6f\"/>\r\n     <use x=\"126.164062\" xlink:href=\"#DejaVuSans-6d\"/>\r\n     <use x=\"223.576172\" xlink:href=\"#DejaVuSans-61\"/>\r\n     <use x=\"284.855469\" xlink:href=\"#DejaVuSans-6e\"/>\r\n     <use x=\"348.234375\" xlink:href=\"#DejaVuSans-63\"/>\r\n     <use x=\"403.214844\" xlink:href=\"#DejaVuSans-65\"/>\r\n    </g>\r\n   </g>\r\n   <g id=\"text_6\">\r\n    <!-- 9.3% -->\r\n    <g transform=\"translate(123.238634 144.457195)scale(0.1 -0.1)\">\r\n     <defs>\r\n      <path d=\"M 703 97 \r\nL 703 672 \r\nQ 941 559 1184 500 \r\nQ 1428 441 1663 441 \r\nQ 2288 441 2617 861 \r\nQ 2947 1281 2994 2138 \r\nQ 2813 1869 2534 1725 \r\nQ 2256 1581 1919 1581 \r\nQ 1219 1581 811 2004 \r\nQ 403 2428 403 3163 \r\nQ 403 3881 828 4315 \r\nQ 1253 4750 1959 4750 \r\nQ 2769 4750 3195 4129 \r\nQ 3622 3509 3622 2328 \r\nQ 3622 1225 3098 567 \r\nQ 2575 -91 1691 -91 \r\nQ 1453 -91 1209 -44 \r\nQ 966 3 703 97 \r\nz\r\nM 1959 2075 \r\nQ 2384 2075 2632 2365 \r\nQ 2881 2656 2881 3163 \r\nQ 2881 3666 2632 3958 \r\nQ 2384 4250 1959 4250 \r\nQ 1534 4250 1286 3958 \r\nQ 1038 3666 1038 3163 \r\nQ 1038 2656 1286 2365 \r\nQ 1534 2075 1959 2075 \r\nz\r\n\" id=\"DejaVuSans-39\" transform=\"scale(0.015625)\"/>\r\n     </defs>\r\n     <use xlink:href=\"#DejaVuSans-39\"/>\r\n     <use x=\"63.623047\" xlink:href=\"#DejaVuSans-2e\"/>\r\n     <use x=\"95.410156\" xlink:href=\"#DejaVuSans-33\"/>\r\n     <use x=\"159.033203\" xlink:href=\"#DejaVuSans-25\"/>\r\n    </g>\r\n   </g>\r\n   <g id=\"text_7\">\r\n    <!-- Thriller -->\r\n    <g transform=\"translate(7.2 160.925768)scale(0.1 -0.1)\">\r\n     <defs>\r\n      <path d=\"M -19 4666 \r\nL 3928 4666 \r\nL 3928 4134 \r\nL 2272 4134 \r\nL 2272 0 \r\nL 1638 0 \r\nL 1638 4134 \r\nL -19 4134 \r\nL -19 4666 \r\nz\r\n\" id=\"DejaVuSans-54\" transform=\"scale(0.015625)\"/>\r\n      <path d=\"M 3513 2113 \r\nL 3513 0 \r\nL 2938 0 \r\nL 2938 2094 \r\nQ 2938 2591 2744 2837 \r\nQ 2550 3084 2163 3084 \r\nQ 1697 3084 1428 2787 \r\nQ 1159 2491 1159 1978 \r\nL 1159 0 \r\nL 581 0 \r\nL 581 4863 \r\nL 1159 4863 \r\nL 1159 2956 \r\nQ 1366 3272 1645 3428 \r\nQ 1925 3584 2291 3584 \r\nQ 2894 3584 3203 3211 \r\nQ 3513 2838 3513 2113 \r\nz\r\n\" id=\"DejaVuSans-68\" transform=\"scale(0.015625)\"/>\r\n      <path d=\"M 603 3500 \r\nL 1178 3500 \r\nL 1178 0 \r\nL 603 0 \r\nL 603 3500 \r\nz\r\nM 603 4863 \r\nL 1178 4863 \r\nL 1178 4134 \r\nL 603 4134 \r\nL 603 4863 \r\nz\r\n\" id=\"DejaVuSans-69\" transform=\"scale(0.015625)\"/>\r\n      <path d=\"M 603 4863 \r\nL 1178 4863 \r\nL 1178 0 \r\nL 603 0 \r\nL 603 4863 \r\nz\r\n\" id=\"DejaVuSans-6c\" transform=\"scale(0.015625)\"/>\r\n     </defs>\r\n     <use xlink:href=\"#DejaVuSans-54\"/>\r\n     <use x=\"61.083984\" xlink:href=\"#DejaVuSans-68\"/>\r\n     <use x=\"124.462891\" xlink:href=\"#DejaVuSans-72\"/>\r\n     <use x=\"165.576172\" xlink:href=\"#DejaVuSans-69\"/>\r\n     <use x=\"193.359375\" xlink:href=\"#DejaVuSans-6c\"/>\r\n     <use x=\"221.142578\" xlink:href=\"#DejaVuSans-6c\"/>\r\n     <use x=\"248.925781\" xlink:href=\"#DejaVuSans-65\"/>\r\n     <use x=\"310.449219\" xlink:href=\"#DejaVuSans-72\"/>\r\n    </g>\r\n   </g>\r\n   <g id=\"text_8\">\r\n    <!-- 8.6% -->\r\n    <g transform=\"translate(106.3437 176.60836)scale(0.1 -0.1)\">\r\n     <defs>\r\n      <path d=\"M 2034 2216 \r\nQ 1584 2216 1326 1975 \r\nQ 1069 1734 1069 1313 \r\nQ 1069 891 1326 650 \r\nQ 1584 409 2034 409 \r\nQ 2484 409 2743 651 \r\nQ 3003 894 3003 1313 \r\nQ 3003 1734 2745 1975 \r\nQ 2488 2216 2034 2216 \r\nz\r\nM 1403 2484 \r\nQ 997 2584 770 2862 \r\nQ 544 3141 544 3541 \r\nQ 544 4100 942 4425 \r\nQ 1341 4750 2034 4750 \r\nQ 2731 4750 3128 4425 \r\nQ 3525 4100 3525 3541 \r\nQ 3525 3141 3298 2862 \r\nQ 3072 2584 2669 2484 \r\nQ 3125 2378 3379 2068 \r\nQ 3634 1759 3634 1313 \r\nQ 3634 634 3220 271 \r\nQ 2806 -91 2034 -91 \r\nQ 1263 -91 848 271 \r\nQ 434 634 434 1313 \r\nQ 434 1759 690 2068 \r\nQ 947 2378 1403 2484 \r\nz\r\nM 1172 3481 \r\nQ 1172 3119 1398 2916 \r\nQ 1625 2713 2034 2713 \r\nQ 2441 2713 2670 2916 \r\nQ 2900 3119 2900 3481 \r\nQ 2900 3844 2670 4047 \r\nQ 2441 4250 2034 4250 \r\nQ 1625 4250 1398 4047 \r\nQ 1172 3844 1172 3481 \r\nz\r\n\" id=\"DejaVuSans-38\" transform=\"scale(0.015625)\"/>\r\n      <path d=\"M 2113 2584 \r\nQ 1688 2584 1439 2293 \r\nQ 1191 2003 1191 1497 \r\nQ 1191 994 1439 701 \r\nQ 1688 409 2113 409 \r\nQ 2538 409 2786 701 \r\nQ 3034 994 3034 1497 \r\nQ 3034 2003 2786 2293 \r\nQ 2538 2584 2113 2584 \r\nz\r\nM 3366 4563 \r\nL 3366 3988 \r\nQ 3128 4100 2886 4159 \r\nQ 2644 4219 2406 4219 \r\nQ 1781 4219 1451 3797 \r\nQ 1122 3375 1075 2522 \r\nQ 1259 2794 1537 2939 \r\nQ 1816 3084 2150 3084 \r\nQ 2853 3084 3261 2657 \r\nQ 3669 2231 3669 1497 \r\nQ 3669 778 3244 343 \r\nQ 2819 -91 2113 -91 \r\nQ 1303 -91 875 529 \r\nQ 447 1150 447 2328 \r\nQ 447 3434 972 4092 \r\nQ 1497 4750 2381 4750 \r\nQ 2619 4750 2861 4703 \r\nQ 3103 4656 3366 4563 \r\nz\r\n\" id=\"DejaVuSans-36\" transform=\"scale(0.015625)\"/>\r\n     </defs>\r\n     <use xlink:href=\"#DejaVuSans-38\"/>\r\n     <use x=\"63.623047\" xlink:href=\"#DejaVuSans-2e\"/>\r\n     <use x=\"95.410156\" xlink:href=\"#DejaVuSans-36\"/>\r\n     <use x=\"159.033203\" xlink:href=\"#DejaVuSans-25\"/>\r\n    </g>\r\n   </g>\r\n   <g id=\"text_9\">\r\n    <!-- Crime -->\r\n    <g transform=\"translate(14.998671 228.386667)scale(0.1 -0.1)\">\r\n     <use xlink:href=\"#DejaVuSans-43\"/>\r\n     <use x=\"69.824219\" xlink:href=\"#DejaVuSans-72\"/>\r\n     <use x=\"110.9375\" xlink:href=\"#DejaVuSans-69\"/>\r\n     <use x=\"138.720703\" xlink:href=\"#DejaVuSans-6d\"/>\r\n     <use x=\"236.132812\" xlink:href=\"#DejaVuSans-65\"/>\r\n    </g>\r\n   </g>\r\n   <g id=\"text_10\">\r\n    <!-- 6.5% -->\r\n    <g transform=\"translate(107.438977 207.272406)scale(0.1 -0.1)\">\r\n     <defs>\r\n      <path d=\"M 691 4666 \r\nL 3169 4666 \r\nL 3169 4134 \r\nL 1269 4134 \r\nL 1269 2991 \r\nQ 1406 3038 1543 3061 \r\nQ 1681 3084 1819 3084 \r\nQ 2600 3084 3056 2656 \r\nQ 3513 2228 3513 1497 \r\nQ 3513 744 3044 326 \r\nQ 2575 -91 1722 -91 \r\nQ 1428 -91 1123 -41 \r\nQ 819 9 494 109 \r\nL 494 744 \r\nQ 775 591 1075 516 \r\nQ 1375 441 1709 441 \r\nQ 2250 441 2565 725 \r\nQ 2881 1009 2881 1497 \r\nQ 2881 1984 2565 2268 \r\nQ 2250 2553 1709 2553 \r\nQ 1456 2553 1204 2497 \r\nQ 953 2441 691 2322 \r\nL 691 4666 \r\nz\r\n\" id=\"DejaVuSans-35\" transform=\"scale(0.015625)\"/>\r\n     </defs>\r\n     <use xlink:href=\"#DejaVuSans-36\"/>\r\n     <use x=\"63.623047\" xlink:href=\"#DejaVuSans-2e\"/>\r\n     <use x=\"95.410156\" xlink:href=\"#DejaVuSans-35\"/>\r\n     <use x=\"159.033203\" xlink:href=\"#DejaVuSans-25\"/>\r\n    </g>\r\n   </g>\r\n   <g id=\"text_11\">\r\n    <!-- Action -->\r\n    <g transform=\"translate(39.995783 279.852171)scale(0.1 -0.1)\">\r\n     <defs>\r\n      <path d=\"M 2188 4044 \r\nL 1331 1722 \r\nL 3047 1722 \r\nL 2188 4044 \r\nz\r\nM 1831 4666 \r\nL 2547 4666 \r\nL 4325 0 \r\nL 3669 0 \r\nL 3244 1197 \r\nL 1141 1197 \r\nL 716 0 \r\nL 50 0 \r\nL 1831 4666 \r\nz\r\n\" id=\"DejaVuSans-41\" transform=\"scale(0.015625)\"/>\r\n      <path d=\"M 1172 4494 \r\nL 1172 3500 \r\nL 2356 3500 \r\nL 2356 3053 \r\nL 1172 3053 \r\nL 1172 1153 \r\nQ 1172 725 1289 603 \r\nQ 1406 481 1766 481 \r\nL 2356 481 \r\nL 2356 0 \r\nL 1766 0 \r\nQ 1100 0 847 248 \r\nQ 594 497 594 1153 \r\nL 594 3053 \r\nL 172 3053 \r\nL 172 3500 \r\nL 594 3500 \r\nL 594 4494 \r\nL 1172 4494 \r\nz\r\n\" id=\"DejaVuSans-74\" transform=\"scale(0.015625)\"/>\r\n     </defs>\r\n     <use xlink:href=\"#DejaVuSans-41\"/>\r\n     <use x=\"66.658203\" xlink:href=\"#DejaVuSans-63\"/>\r\n     <use x=\"121.638672\" xlink:href=\"#DejaVuSans-74\"/>\r\n     <use x=\"160.847656\" xlink:href=\"#DejaVuSans-69\"/>\r\n     <use x=\"188.630859\" xlink:href=\"#DejaVuSans-6f\"/>\r\n     <use x=\"249.8125\" xlink:href=\"#DejaVuSans-6e\"/>\r\n    </g>\r\n   </g>\r\n   <g id=\"text_12\">\r\n    <!-- 6.5% -->\r\n    <g transform=\"translate(119.507267 230.665816)scale(0.1 -0.1)\">\r\n     <use xlink:href=\"#DejaVuSans-36\"/>\r\n     <use x=\"63.623047\" xlink:href=\"#DejaVuSans-2e\"/>\r\n     <use x=\"95.410156\" xlink:href=\"#DejaVuSans-35\"/>\r\n     <use x=\"159.033203\" xlink:href=\"#DejaVuSans-25\"/>\r\n    </g>\r\n   </g>\r\n   <g id=\"text_13\">\r\n    <!-- Adventure -->\r\n    <g transform=\"translate(57.247861 312.645107)scale(0.1 -0.1)\">\r\n     <defs>\r\n      <path d=\"M 191 3500 \r\nL 800 3500 \r\nL 1894 563 \r\nL 2988 3500 \r\nL 3597 3500 \r\nL 2284 0 \r\nL 1503 0 \r\nL 191 3500 \r\nz\r\n\" id=\"DejaVuSans-76\" transform=\"scale(0.015625)\"/>\r\n      <path d=\"M 544 1381 \r\nL 544 3500 \r\nL 1119 3500 \r\nL 1119 1403 \r\nQ 1119 906 1312 657 \r\nQ 1506 409 1894 409 \r\nQ 2359 409 2629 706 \r\nQ 2900 1003 2900 1516 \r\nL 2900 3500 \r\nL 3475 3500 \r\nL 3475 0 \r\nL 2900 0 \r\nL 2900 538 \r\nQ 2691 219 2414 64 \r\nQ 2138 -91 1772 -91 \r\nQ 1169 -91 856 284 \r\nQ 544 659 544 1381 \r\nz\r\nM 1991 3584 \r\nL 1991 3584 \r\nz\r\n\" id=\"DejaVuSans-75\" transform=\"scale(0.015625)\"/>\r\n     </defs>\r\n     <use xlink:href=\"#DejaVuSans-41\"/>\r\n     <use x=\"66.658203\" xlink:href=\"#DejaVuSans-64\"/>\r\n     <use x=\"130.134766\" xlink:href=\"#DejaVuSans-76\"/>\r\n     <use x=\"189.314453\" xlink:href=\"#DejaVuSans-65\"/>\r\n     <use x=\"250.837891\" xlink:href=\"#DejaVuSans-6e\"/>\r\n     <use x=\"314.216797\" xlink:href=\"#DejaVuSans-74\"/>\r\n     <use x=\"353.425781\" xlink:href=\"#DejaVuSans-75\"/>\r\n     <use x=\"416.804688\" xlink:href=\"#DejaVuSans-72\"/>\r\n     <use x=\"455.667969\" xlink:href=\"#DejaVuSans-65\"/>\r\n    </g>\r\n   </g>\r\n   <g id=\"text_14\">\r\n    <!-- 4.7% -->\r\n    <g transform=\"translate(136.622558 245.571696)scale(0.1 -0.1)\">\r\n     <defs>\r\n      <path d=\"M 2419 4116 \r\nL 825 1625 \r\nL 2419 1625 \r\nL 2419 4116 \r\nz\r\nM 2253 4666 \r\nL 3047 4666 \r\nL 3047 1625 \r\nL 3713 1625 \r\nL 3713 1100 \r\nL 3047 1100 \r\nL 3047 0 \r\nL 2419 0 \r\nL 2419 1100 \r\nL 313 1100 \r\nL 313 1709 \r\nL 2253 4666 \r\nz\r\n\" id=\"DejaVuSans-34\" transform=\"scale(0.015625)\"/>\r\n      <path d=\"M 525 4666 \r\nL 3525 4666 \r\nL 3525 4397 \r\nL 1831 0 \r\nL 1172 0 \r\nL 2766 4134 \r\nL 525 4134 \r\nL 525 4666 \r\nz\r\n\" id=\"DejaVuSans-37\" transform=\"scale(0.015625)\"/>\r\n     </defs>\r\n     <use xlink:href=\"#DejaVuSans-34\"/>\r\n     <use x=\"63.623047\" xlink:href=\"#DejaVuSans-2e\"/>\r\n     <use x=\"95.410156\" xlink:href=\"#DejaVuSans-37\"/>\r\n     <use x=\"159.033203\" xlink:href=\"#DejaVuSans-25\"/>\r\n    </g>\r\n   </g>\r\n   <g id=\"text_15\">\r\n    <!-- Horror -->\r\n    <g transform=\"translate(111.502302 327.569073)scale(0.1 -0.1)\">\r\n     <defs>\r\n      <path d=\"M 628 4666 \r\nL 1259 4666 \r\nL 1259 2753 \r\nL 3553 2753 \r\nL 3553 4666 \r\nL 4184 4666 \r\nL 4184 0 \r\nL 3553 0 \r\nL 3553 2222 \r\nL 1259 2222 \r\nL 1259 0 \r\nL 628 0 \r\nL 628 4666 \r\nz\r\n\" id=\"DejaVuSans-48\" transform=\"scale(0.015625)\"/>\r\n     </defs>\r\n     <use xlink:href=\"#DejaVuSans-48\"/>\r\n     <use x=\"75.195312\" xlink:href=\"#DejaVuSans-6f\"/>\r\n     <use x=\"136.376953\" xlink:href=\"#DejaVuSans-72\"/>\r\n     <use x=\"175.740234\" xlink:href=\"#DejaVuSans-72\"/>\r\n     <use x=\"214.603516\" xlink:href=\"#DejaVuSans-6f\"/>\r\n     <use x=\"275.785156\" xlink:href=\"#DejaVuSans-72\"/>\r\n    </g>\r\n   </g>\r\n   <g id=\"text_16\">\r\n    <!-- 3.6% -->\r\n    <g transform=\"translate(152.179264 252.355317)scale(0.1 -0.1)\">\r\n     <use xlink:href=\"#DejaVuSans-33\"/>\r\n     <use x=\"63.623047\" xlink:href=\"#DejaVuSans-2e\"/>\r\n     <use x=\"95.410156\" xlink:href=\"#DejaVuSans-36\"/>\r\n     <use x=\"159.033203\" xlink:href=\"#DejaVuSans-25\"/>\r\n    </g>\r\n   </g>\r\n   <g id=\"text_17\">\r\n    <!-- Sci-Fi -->\r\n    <g transform=\"translate(148.470812 332.938766)scale(0.1 -0.1)\">\r\n     <defs>\r\n      <path d=\"M 3425 4513 \r\nL 3425 3897 \r\nQ 3066 4069 2747 4153 \r\nQ 2428 4238 2131 4238 \r\nQ 1616 4238 1336 4038 \r\nQ 1056 3838 1056 3469 \r\nQ 1056 3159 1242 3001 \r\nQ 1428 2844 1947 2747 \r\nL 2328 2669 \r\nQ 3034 2534 3370 2195 \r\nQ 3706 1856 3706 1288 \r\nQ 3706 609 3251 259 \r\nQ 2797 -91 1919 -91 \r\nQ 1588 -91 1214 -16 \r\nQ 841 59 441 206 \r\nL 441 856 \r\nQ 825 641 1194 531 \r\nQ 1563 422 1919 422 \r\nQ 2459 422 2753 634 \r\nQ 3047 847 3047 1241 \r\nQ 3047 1584 2836 1778 \r\nQ 2625 1972 2144 2069 \r\nL 1759 2144 \r\nQ 1053 2284 737 2584 \r\nQ 422 2884 422 3419 \r\nQ 422 4038 858 4394 \r\nQ 1294 4750 2059 4750 \r\nQ 2388 4750 2728 4690 \r\nQ 3069 4631 3425 4513 \r\nz\r\n\" id=\"DejaVuSans-53\" transform=\"scale(0.015625)\"/>\r\n      <path d=\"M 313 2009 \r\nL 1997 2009 \r\nL 1997 1497 \r\nL 313 1497 \r\nL 313 2009 \r\nz\r\n\" id=\"DejaVuSans-2d\" transform=\"scale(0.015625)\"/>\r\n      <path d=\"M 628 4666 \r\nL 3309 4666 \r\nL 3309 4134 \r\nL 1259 4134 \r\nL 1259 2759 \r\nL 3109 2759 \r\nL 3109 2228 \r\nL 1259 2228 \r\nL 1259 0 \r\nL 628 0 \r\nL 628 4666 \r\nz\r\n\" id=\"DejaVuSans-46\" transform=\"scale(0.015625)\"/>\r\n     </defs>\r\n     <use xlink:href=\"#DejaVuSans-53\"/>\r\n     <use x=\"63.476562\" xlink:href=\"#DejaVuSans-63\"/>\r\n     <use x=\"118.457031\" xlink:href=\"#DejaVuSans-69\"/>\r\n     <use x=\"146.240234\" xlink:href=\"#DejaVuSans-2d\"/>\r\n     <use x=\"182.324219\" xlink:href=\"#DejaVuSans-46\"/>\r\n     <use x=\"232.59375\" xlink:href=\"#DejaVuSans-69\"/>\r\n    </g>\r\n   </g>\r\n   <g id=\"text_18\">\r\n    <!-- 3.4% -->\r\n    <g transform=\"translate(166.41353 254.796087)scale(0.1 -0.1)\">\r\n     <use xlink:href=\"#DejaVuSans-33\"/>\r\n     <use x=\"63.623047\" xlink:href=\"#DejaVuSans-2e\"/>\r\n     <use x=\"95.410156\" xlink:href=\"#DejaVuSans-34\"/>\r\n     <use x=\"159.033203\" xlink:href=\"#DejaVuSans-25\"/>\r\n    </g>\r\n   </g>\r\n   <g id=\"text_19\">\r\n    <!-- Others -->\r\n    <g transform=\"translate(286.887077 288.63912)scale(0.1 -0.1)\">\r\n     <defs>\r\n      <path d=\"M 2522 4238 \r\nQ 1834 4238 1429 3725 \r\nQ 1025 3213 1025 2328 \r\nQ 1025 1447 1429 934 \r\nQ 1834 422 2522 422 \r\nQ 3209 422 3611 934 \r\nQ 4013 1447 4013 2328 \r\nQ 4013 3213 3611 3725 \r\nQ 3209 4238 2522 4238 \r\nz\r\nM 2522 4750 \r\nQ 3503 4750 4090 4092 \r\nQ 4678 3434 4678 2328 \r\nQ 4678 1225 4090 567 \r\nQ 3503 -91 2522 -91 \r\nQ 1538 -91 948 565 \r\nQ 359 1222 359 2328 \r\nQ 359 3434 948 4092 \r\nQ 1538 4750 2522 4750 \r\nz\r\n\" id=\"DejaVuSans-4f\" transform=\"scale(0.015625)\"/>\r\n      <path d=\"M 2834 3397 \r\nL 2834 2853 \r\nQ 2591 2978 2328 3040 \r\nQ 2066 3103 1784 3103 \r\nQ 1356 3103 1142 2972 \r\nQ 928 2841 928 2578 \r\nQ 928 2378 1081 2264 \r\nQ 1234 2150 1697 2047 \r\nL 1894 2003 \r\nQ 2506 1872 2764 1633 \r\nQ 3022 1394 3022 966 \r\nQ 3022 478 2636 193 \r\nQ 2250 -91 1575 -91 \r\nQ 1294 -91 989 -36 \r\nQ 684 19 347 128 \r\nL 347 722 \r\nQ 666 556 975 473 \r\nQ 1284 391 1588 391 \r\nQ 1994 391 2212 530 \r\nQ 2431 669 2431 922 \r\nQ 2431 1156 2273 1281 \r\nQ 2116 1406 1581 1522 \r\nL 1381 1569 \r\nQ 847 1681 609 1914 \r\nQ 372 2147 372 2553 \r\nQ 372 3047 722 3315 \r\nQ 1072 3584 1716 3584 \r\nQ 2034 3584 2315 3537 \r\nQ 2597 3491 2834 3397 \r\nz\r\n\" id=\"DejaVuSans-73\" transform=\"scale(0.015625)\"/>\r\n     </defs>\r\n     <use xlink:href=\"#DejaVuSans-4f\"/>\r\n     <use x=\"78.710938\" xlink:href=\"#DejaVuSans-74\"/>\r\n     <use x=\"117.919922\" xlink:href=\"#DejaVuSans-68\"/>\r\n     <use x=\"181.298828\" xlink:href=\"#DejaVuSans-65\"/>\r\n     <use x=\"242.822266\" xlink:href=\"#DejaVuSans-72\"/>\r\n     <use x=\"283.935547\" xlink:href=\"#DejaVuSans-73\"/>\r\n    </g>\r\n   </g>\r\n   <g id=\"text_20\">\r\n    <!-- 24.2% -->\r\n    <g transform=\"translate(214.313536 234.659884)scale(0.1 -0.1)\">\r\n     <use xlink:href=\"#DejaVuSans-32\"/>\r\n     <use x=\"63.623047\" xlink:href=\"#DejaVuSans-34\"/>\r\n     <use x=\"127.246094\" xlink:href=\"#DejaVuSans-2e\"/>\r\n     <use x=\"159.033203\" xlink:href=\"#DejaVuSans-32\"/>\r\n     <use x=\"222.65625\" xlink:href=\"#DejaVuSans-25\"/>\r\n    </g>\r\n   </g>\r\n   <g id=\"text_21\">\r\n    <!-- Titles by Genre -->\r\n    <g transform=\"translate(130.080352 17.837812)scale(0.14 -0.14)\">\r\n     <defs>\r\n      <path id=\"DejaVuSans-20\" transform=\"scale(0.015625)\"/>\r\n      <path d=\"M 3116 1747 \r\nQ 3116 2381 2855 2742 \r\nQ 2594 3103 2138 3103 \r\nQ 1681 3103 1420 2742 \r\nQ 1159 2381 1159 1747 \r\nQ 1159 1113 1420 752 \r\nQ 1681 391 2138 391 \r\nQ 2594 391 2855 752 \r\nQ 3116 1113 3116 1747 \r\nz\r\nM 1159 2969 \r\nQ 1341 3281 1617 3432 \r\nQ 1894 3584 2278 3584 \r\nQ 2916 3584 3314 3078 \r\nQ 3713 2572 3713 1747 \r\nQ 3713 922 3314 415 \r\nQ 2916 -91 2278 -91 \r\nQ 1894 -91 1617 61 \r\nQ 1341 213 1159 525 \r\nL 1159 0 \r\nL 581 0 \r\nL 581 4863 \r\nL 1159 4863 \r\nL 1159 2969 \r\nz\r\n\" id=\"DejaVuSans-62\" transform=\"scale(0.015625)\"/>\r\n      <path d=\"M 3809 666 \r\nL 3809 1919 \r\nL 2778 1919 \r\nL 2778 2438 \r\nL 4434 2438 \r\nL 4434 434 \r\nQ 4069 175 3628 42 \r\nQ 3188 -91 2688 -91 \r\nQ 1594 -91 976 548 \r\nQ 359 1188 359 2328 \r\nQ 359 3472 976 4111 \r\nQ 1594 4750 2688 4750 \r\nQ 3144 4750 3555 4637 \r\nQ 3966 4525 4313 4306 \r\nL 4313 3634 \r\nQ 3963 3931 3569 4081 \r\nQ 3175 4231 2741 4231 \r\nQ 1884 4231 1454 3753 \r\nQ 1025 3275 1025 2328 \r\nQ 1025 1384 1454 906 \r\nQ 1884 428 2741 428 \r\nQ 3075 428 3337 486 \r\nQ 3600 544 3809 666 \r\nz\r\n\" id=\"DejaVuSans-47\" transform=\"scale(0.015625)\"/>\r\n     </defs>\r\n     <use xlink:href=\"#DejaVuSans-54\"/>\r\n     <use x=\"57.958984\" xlink:href=\"#DejaVuSans-69\"/>\r\n     <use x=\"85.742188\" xlink:href=\"#DejaVuSans-74\"/>\r\n     <use x=\"124.951172\" xlink:href=\"#DejaVuSans-6c\"/>\r\n     <use x=\"152.734375\" xlink:href=\"#DejaVuSans-65\"/>\r\n     <use x=\"214.257812\" xlink:href=\"#DejaVuSans-73\"/>\r\n     <use x=\"266.357422\" xlink:href=\"#DejaVuSans-20\"/>\r\n     <use x=\"298.144531\" xlink:href=\"#DejaVuSans-62\"/>\r\n     <use x=\"361.621094\" xlink:href=\"#DejaVuSans-79\"/>\r\n     <use x=\"420.800781\" xlink:href=\"#DejaVuSans-20\"/>\r\n     <use x=\"452.587891\" xlink:href=\"#DejaVuSans-47\"/>\r\n     <use x=\"530.078125\" xlink:href=\"#DejaVuSans-65\"/>\r\n     <use x=\"591.601562\" xlink:href=\"#DejaVuSans-6e\"/>\r\n     <use x=\"654.980469\" xlink:href=\"#DejaVuSans-72\"/>\r\n     <use x=\"693.84375\" xlink:href=\"#DejaVuSans-65\"/>\r\n    </g>\r\n   </g>\r\n  </g>\r\n </g>\r\n</svg>\r\n",
      "image/png": "[encoded data removed]"
     },
     "metadata": {}
    }
   ],
   "source": [
    "viz.plot_genre_pie()"
   ]
  },
  {
   "cell_type": "code",
   "execution_count": 6,
   "metadata": {},
   "outputs": [
    {
     "output_type": "display_data",
     "data": {
      "text/plain": "<Figure size 432x288 with 1 Axes>",
      "image/svg+xml": "<?xml version=\"1.0\" encoding=\"utf-8\" standalone=\"no\"?>\r\n<!DOCTYPE svg PUBLIC \"-//W3C//DTD SVG 1.1//EN\"\r\n  \"http://www.w3.org/Graphics/SVG/1.1/DTD/svg11.dtd\">\r\n<svg height=\"277.5925pt\" version=\"1.1\" viewBox=\"0 0 388.965625 277.5925\" width=\"388.965625pt\" xmlns=\"http://www.w3.org/2000/svg\" xmlns:xlink=\"http://www.w3.org/1999/xlink\">\r\n <metadata>\r\n  <rdf:RDF xmlns:cc=\"http://creativecommons.org/ns#\" xmlns:dc=\"http://purl.org/dc/elements/1.1/\" xmlns:rdf=\"http://www.w3.org/1999/02/22-rdf-syntax-ns#\">\r\n   <cc:Work>\r\n    <dc:type rdf:resource=\"http://purl.org/dc/dcmitype/StillImage\"/>\r\n    <dc:date>2021-06-01T12:26:04.897481</dc:date>\r\n    <dc:format>image/svg+xml</dc:format>\r\n    <dc:creator>\r\n     <cc:Agent>\r\n      <dc:title>Matplotlib v3.4.1, https://matplotlib.org/</dc:title>\r\n     </cc:Agent>\r\n    </dc:creator>\r\n   </cc:Work>\r\n  </rdf:RDF>\r\n </metadata>\r\n <defs>\r\n  <style type=\"text/css\">*{stroke-linecap:butt;stroke-linejoin:round;}</style>\r\n </defs>\r\n <g id=\"figure_1\">\r\n  <g id=\"patch_1\">\r\n   <path d=\"M 0 277.5925 \r\nL 388.965625 277.5925 \r\nL 388.965625 0 \r\nL 0 0 \r\nz\r\n\" style=\"fill:none;\"/>\r\n  </g>\r\n  <g id=\"axes_1\">\r\n   <g id=\"patch_2\">\r\n    <path d=\"M 46.965625 239.758125 \r\nL 381.765625 239.758125 \r\nL 381.765625 22.318125 \r\nL 46.965625 22.318125 \r\nz\r\n\" style=\"fill:#ffffff;\"/>\r\n   </g>\r\n   <g id=\"patch_3\">\r\n    <path clip-path=\"url(#pd7d81c7ec1)\" d=\"M 62.183807 239.758125 \r\nL 68.151721 239.758125 \r\nL 68.151721 239.268561 \r\nL 62.183807 239.268561 \r\nz\r\n\" style=\"fill:#1f77b4;fill-opacity:0.5;stroke:#000000;stroke-linejoin:miter;stroke-width:0.596791;\"/>\r\n   </g>\r\n   <g id=\"patch_4\">\r\n    <path clip-path=\"url(#pd7d81c7ec1)\" d=\"M 68.151721 239.758125 \r\nL 74.119636 239.758125 \r\nL 74.119636 238.778996 \r\nL 68.151721 238.778996 \r\nz\r\n\" style=\"fill:#1f77b4;fill-opacity:0.5;stroke:#000000;stroke-linejoin:miter;stroke-width:0.596791;\"/>\r\n   </g>\r\n   <g id=\"patch_5\">\r\n    <path clip-path=\"url(#pd7d81c7ec1)\" d=\"M 74.119636 239.758125 \r\nL 80.08755 239.758125 \r\nL 80.08755 239.758125 \r\nL 74.119636 239.758125 \r\nz\r\n\" style=\"fill:#1f77b4;fill-opacity:0.5;stroke:#000000;stroke-linejoin:miter;stroke-width:0.596791;\"/>\r\n   </g>\r\n   <g id=\"patch_6\">\r\n    <path clip-path=\"url(#pd7d81c7ec1)\" d=\"M 80.08755 239.758125 \r\nL 86.055465 239.758125 \r\nL 86.055465 236.820739 \r\nL 80.08755 236.820739 \r\nz\r\n\" style=\"fill:#1f77b4;fill-opacity:0.5;stroke:#000000;stroke-linejoin:miter;stroke-width:0.596791;\"/>\r\n   </g>\r\n   <g id=\"patch_7\">\r\n    <path clip-path=\"url(#pd7d81c7ec1)\" d=\"M 86.055465 239.758125 \r\nL 92.023379 239.758125 \r\nL 92.023379 238.778996 \r\nL 86.055465 238.778996 \r\nz\r\n\" style=\"fill:#1f77b4;fill-opacity:0.5;stroke:#000000;stroke-linejoin:miter;stroke-width:0.596791;\"/>\r\n   </g>\r\n   <g id=\"patch_8\">\r\n    <path clip-path=\"url(#pd7d81c7ec1)\" d=\"M 92.023379 239.758125 \r\nL 97.991293 239.758125 \r\nL 97.991293 234.862482 \r\nL 92.023379 234.862482 \r\nz\r\n\" style=\"fill:#1f77b4;fill-opacity:0.5;stroke:#000000;stroke-linejoin:miter;stroke-width:0.596791;\"/>\r\n   </g>\r\n   <g id=\"patch_9\">\r\n    <path clip-path=\"url(#pd7d81c7ec1)\" d=\"M 97.991293 239.758125 \r\nL 103.959208 239.758125 \r\nL 103.959208 231.925096 \r\nL 97.991293 231.925096 \r\nz\r\n\" style=\"fill:#1f77b4;fill-opacity:0.5;stroke:#000000;stroke-linejoin:miter;stroke-width:0.596791;\"/>\r\n   </g>\r\n   <g id=\"patch_10\">\r\n    <path clip-path=\"url(#pd7d81c7ec1)\" d=\"M 103.959208 239.758125 \r\nL 109.927122 239.758125 \r\nL 109.927122 228.98771 \r\nL 103.959208 228.98771 \r\nz\r\n\" style=\"fill:#1f77b4;fill-opacity:0.5;stroke:#000000;stroke-linejoin:miter;stroke-width:0.596791;\"/>\r\n   </g>\r\n   <g id=\"patch_11\">\r\n    <path clip-path=\"url(#pd7d81c7ec1)\" d=\"M 109.927122 239.758125 \r\nL 115.895037 239.758125 \r\nL 115.895037 230.456403 \r\nL 109.927122 230.456403 \r\nz\r\n\" style=\"fill:#1f77b4;fill-opacity:0.5;stroke:#000000;stroke-linejoin:miter;stroke-width:0.596791;\"/>\r\n   </g>\r\n   <g id=\"patch_12\">\r\n    <path clip-path=\"url(#pd7d81c7ec1)\" d=\"M 115.895037 239.758125 \r\nL 121.862951 239.758125 \r\nL 121.862951 227.519017 \r\nL 115.895037 227.519017 \r\nz\r\n\" style=\"fill:#1f77b4;fill-opacity:0.5;stroke:#000000;stroke-linejoin:miter;stroke-width:0.596791;\"/>\r\n   </g>\r\n   <g id=\"patch_13\">\r\n    <path clip-path=\"url(#pd7d81c7ec1)\" d=\"M 121.862951 239.758125 \r\nL 127.830866 239.758125 \r\nL 127.830866 222.623373 \r\nL 121.862951 222.623373 \r\nz\r\n\" style=\"fill:#1f77b4;fill-opacity:0.5;stroke:#000000;stroke-linejoin:miter;stroke-width:0.596791;\"/>\r\n   </g>\r\n   <g id=\"patch_14\">\r\n    <path clip-path=\"url(#pd7d81c7ec1)\" d=\"M 127.830866 239.758125 \r\nL 133.79878 239.758125 \r\nL 133.79878 220.665116 \r\nL 127.830866 220.665116 \r\nz\r\n\" style=\"fill:#1f77b4;fill-opacity:0.5;stroke:#000000;stroke-linejoin:miter;stroke-width:0.596791;\"/>\r\n   </g>\r\n   <g id=\"patch_15\">\r\n    <path clip-path=\"url(#pd7d81c7ec1)\" d=\"M 133.79878 239.758125 \r\nL 139.766695 239.758125 \r\nL 139.766695 210.384265 \r\nL 133.79878 210.384265 \r\nz\r\n\" style=\"fill:#1f77b4;fill-opacity:0.5;stroke:#000000;stroke-linejoin:miter;stroke-width:0.596791;\"/>\r\n   </g>\r\n   <g id=\"patch_16\">\r\n    <path clip-path=\"url(#pd7d81c7ec1)\" d=\"M 139.766695 239.758125 \r\nL 145.734609 239.758125 \r\nL 145.734609 215.769473 \r\nL 139.766695 215.769473 \r\nz\r\n\" style=\"fill:#1f77b4;fill-opacity:0.5;stroke:#000000;stroke-linejoin:miter;stroke-width:0.596791;\"/>\r\n   </g>\r\n   <g id=\"patch_17\">\r\n    <path clip-path=\"url(#pd7d81c7ec1)\" d=\"M 145.734609 239.758125 \r\nL 151.702523 239.758125 \r\nL 151.702523 210.384265 \r\nL 145.734609 210.384265 \r\nz\r\n\" style=\"fill:#1f77b4;fill-opacity:0.5;stroke:#000000;stroke-linejoin:miter;stroke-width:0.596791;\"/>\r\n   </g>\r\n   <g id=\"patch_18\">\r\n    <path clip-path=\"url(#pd7d81c7ec1)\" d=\"M 151.702523 239.758125 \r\nL 157.670438 239.758125 \r\nL 157.670438 213.321651 \r\nL 151.702523 213.321651 \r\nz\r\n\" style=\"fill:#1f77b4;fill-opacity:0.5;stroke:#000000;stroke-linejoin:miter;stroke-width:0.596791;\"/>\r\n   </g>\r\n   <g id=\"patch_19\">\r\n    <path clip-path=\"url(#pd7d81c7ec1)\" d=\"M 157.670438 239.758125 \r\nL 163.638352 239.758125 \r\nL 163.638352 189.332998 \r\nL 157.670438 189.332998 \r\nz\r\n\" style=\"fill:#1f77b4;fill-opacity:0.5;stroke:#000000;stroke-linejoin:miter;stroke-width:0.596791;\"/>\r\n   </g>\r\n   <g id=\"patch_20\">\r\n    <path clip-path=\"url(#pd7d81c7ec1)\" d=\"M 163.638352 239.758125 \r\nL 169.606267 239.758125 \r\nL 169.606267 188.843434 \r\nL 163.638352 188.843434 \r\nz\r\n\" style=\"fill:#1f77b4;fill-opacity:0.5;stroke:#000000;stroke-linejoin:miter;stroke-width:0.596791;\"/>\r\n   </g>\r\n   <g id=\"patch_21\">\r\n    <path clip-path=\"url(#pd7d81c7ec1)\" d=\"M 169.606267 239.758125 \r\nL 175.574181 239.758125 \r\nL 175.574181 182.968662 \r\nL 169.606267 182.968662 \r\nz\r\n\" style=\"fill:#1f77b4;fill-opacity:0.5;stroke:#000000;stroke-linejoin:miter;stroke-width:0.596791;\"/>\r\n   </g>\r\n   <g id=\"patch_22\">\r\n    <path clip-path=\"url(#pd7d81c7ec1)\" d=\"M 175.574181 239.758125 \r\nL 181.542096 239.758125 \r\nL 181.542096 177.09389 \r\nL 175.574181 177.09389 \r\nz\r\n\" style=\"fill:#1f77b4;fill-opacity:0.5;stroke:#000000;stroke-linejoin:miter;stroke-width:0.596791;\"/>\r\n   </g>\r\n   <g id=\"patch_23\">\r\n    <path clip-path=\"url(#pd7d81c7ec1)\" d=\"M 181.542096 239.758125 \r\nL 187.51001 239.758125 \r\nL 187.51001 170.239989 \r\nL 181.542096 170.239989 \r\nz\r\n\" style=\"fill:#1f77b4;fill-opacity:0.5;stroke:#000000;stroke-linejoin:miter;stroke-width:0.596791;\"/>\r\n   </g>\r\n   <g id=\"patch_24\">\r\n    <path clip-path=\"url(#pd7d81c7ec1)\" d=\"M 187.51001 239.758125 \r\nL 193.477924 239.758125 \r\nL 193.477924 152.615673 \r\nL 187.51001 152.615673 \r\nz\r\n\" style=\"fill:#1f77b4;fill-opacity:0.5;stroke:#000000;stroke-linejoin:miter;stroke-width:0.596791;\"/>\r\n   </g>\r\n   <g id=\"patch_25\">\r\n    <path clip-path=\"url(#pd7d81c7ec1)\" d=\"M 193.477924 239.758125 \r\nL 199.445839 239.758125 \r\nL 199.445839 137.928743 \r\nL 193.477924 137.928743 \r\nz\r\n\" style=\"fill:#1f77b4;fill-opacity:0.5;stroke:#000000;stroke-linejoin:miter;stroke-width:0.596791;\"/>\r\n   </g>\r\n   <g id=\"patch_26\">\r\n    <path clip-path=\"url(#pd7d81c7ec1)\" d=\"M 199.445839 239.758125 \r\nL 205.413753 239.758125 \r\nL 205.413753 119.325298 \r\nL 199.445839 119.325298 \r\nz\r\n\" style=\"fill:#1f77b4;fill-opacity:0.5;stroke:#000000;stroke-linejoin:miter;stroke-width:0.596791;\"/>\r\n   </g>\r\n   <g id=\"patch_27\">\r\n    <path clip-path=\"url(#pd7d81c7ec1)\" d=\"M 205.413753 239.758125 \r\nL 211.381668 239.758125 \r\nL 211.381668 99.742725 \r\nL 205.413753 99.742725 \r\nz\r\n\" style=\"fill:#1f77b4;fill-opacity:0.5;stroke:#000000;stroke-linejoin:miter;stroke-width:0.596791;\"/>\r\n   </g>\r\n   <g id=\"patch_28\">\r\n    <path clip-path=\"url(#pd7d81c7ec1)\" d=\"M 211.381668 239.758125 \r\nL 217.349582 239.758125 \r\nL 217.349582 74.285379 \r\nL 211.381668 74.285379 \r\nz\r\n\" style=\"fill:#1f77b4;fill-opacity:0.5;stroke:#000000;stroke-linejoin:miter;stroke-width:0.596791;\"/>\r\n   </g>\r\n   <g id=\"patch_29\">\r\n    <path clip-path=\"url(#pd7d81c7ec1)\" d=\"M 217.349582 239.758125 \r\nL 223.317497 239.758125 \r\nL 223.317497 32.672411 \r\nL 217.349582 32.672411 \r\nz\r\n\" style=\"fill:#1f77b4;fill-opacity:0.5;stroke:#000000;stroke-linejoin:miter;stroke-width:0.596791;\"/>\r\n   </g>\r\n   <g id=\"patch_30\">\r\n    <path clip-path=\"url(#pd7d81c7ec1)\" d=\"M 223.317497 239.758125 \r\nL 229.285411 239.758125 \r\nL 229.285411 32.672411 \r\nL 223.317497 32.672411 \r\nz\r\n\" style=\"fill:#1f77b4;fill-opacity:0.5;stroke:#000000;stroke-linejoin:miter;stroke-width:0.596791;\"/>\r\n   </g>\r\n   <g id=\"patch_31\">\r\n    <path clip-path=\"url(#pd7d81c7ec1)\" d=\"M 229.285411 239.758125 \r\nL 235.253326 239.758125 \r\nL 235.253326 58.129756 \r\nL 229.285411 58.129756 \r\nz\r\n\" style=\"fill:#1f77b4;fill-opacity:0.5;stroke:#000000;stroke-linejoin:miter;stroke-width:0.596791;\"/>\r\n   </g>\r\n   <g id=\"patch_32\">\r\n    <path clip-path=\"url(#pd7d81c7ec1)\" d=\"M 235.253326 239.758125 \r\nL 241.22124 239.758125 \r\nL 241.22124 39.526311 \r\nL 235.253326 39.526311 \r\nz\r\n\" style=\"fill:#1f77b4;fill-opacity:0.5;stroke:#000000;stroke-linejoin:miter;stroke-width:0.596791;\"/>\r\n   </g>\r\n   <g id=\"patch_33\">\r\n    <path clip-path=\"url(#pd7d81c7ec1)\" d=\"M 241.22124 239.758125 \r\nL 247.189154 239.758125 \r\nL 247.189154 57.150628 \r\nL 241.22124 57.150628 \r\nz\r\n\" style=\"fill:#1f77b4;fill-opacity:0.5;stroke:#000000;stroke-linejoin:miter;stroke-width:0.596791;\"/>\r\n   </g>\r\n   <g id=\"patch_34\">\r\n    <path clip-path=\"url(#pd7d81c7ec1)\" d=\"M 247.189154 239.758125 \r\nL 253.157069 239.758125 \r\nL 253.157069 50.786291 \r\nL 247.189154 50.786291 \r\nz\r\n\" style=\"fill:#1f77b4;fill-opacity:0.5;stroke:#000000;stroke-linejoin:miter;stroke-width:0.596791;\"/>\r\n   </g>\r\n   <g id=\"patch_35\">\r\n    <path clip-path=\"url(#pd7d81c7ec1)\" d=\"M 253.157069 239.758125 \r\nL 259.124983 239.758125 \r\nL 259.124983 44.911519 \r\nL 253.157069 44.911519 \r\nz\r\n\" style=\"fill:#1f77b4;fill-opacity:0.5;stroke:#000000;stroke-linejoin:miter;stroke-width:0.596791;\"/>\r\n   </g>\r\n   <g id=\"patch_36\">\r\n    <path clip-path=\"url(#pd7d81c7ec1)\" d=\"M 259.124983 239.758125 \r\nL 265.092898 239.758125 \r\nL 265.092898 32.672411 \r\nL 259.124983 32.672411 \r\nz\r\n\" style=\"fill:#1f77b4;fill-opacity:0.5;stroke:#000000;stroke-linejoin:miter;stroke-width:0.596791;\"/>\r\n   </g>\r\n   <g id=\"patch_37\">\r\n    <path clip-path=\"url(#pd7d81c7ec1)\" d=\"M 265.092898 239.758125 \r\nL 271.060812 239.758125 \r\nL 271.060812 58.619321 \r\nL 265.092898 58.619321 \r\nz\r\n\" style=\"fill:#1f77b4;fill-opacity:0.5;stroke:#000000;stroke-linejoin:miter;stroke-width:0.596791;\"/>\r\n   </g>\r\n   <g id=\"patch_38\">\r\n    <path clip-path=\"url(#pd7d81c7ec1)\" d=\"M 271.060812 239.758125 \r\nL 277.028727 239.758125 \r\nL 277.028727 35.609797 \r\nL 271.060812 35.609797 \r\nz\r\n\" style=\"fill:#1f77b4;fill-opacity:0.5;stroke:#000000;stroke-linejoin:miter;stroke-width:0.596791;\"/>\r\n   </g>\r\n   <g id=\"patch_39\">\r\n    <path clip-path=\"url(#pd7d81c7ec1)\" d=\"M 277.028727 239.758125 \r\nL 282.996641 239.758125 \r\nL 282.996641 69.8793 \r\nL 277.028727 69.8793 \r\nz\r\n\" style=\"fill:#1f77b4;fill-opacity:0.5;stroke:#000000;stroke-linejoin:miter;stroke-width:0.596791;\"/>\r\n   </g>\r\n   <g id=\"patch_40\">\r\n    <path clip-path=\"url(#pd7d81c7ec1)\" d=\"M 282.996641 239.758125 \r\nL 288.964555 239.758125 \r\nL 288.964555 79.181023 \r\nL 282.996641 79.181023 \r\nz\r\n\" style=\"fill:#1f77b4;fill-opacity:0.5;stroke:#000000;stroke-linejoin:miter;stroke-width:0.596791;\"/>\r\n   </g>\r\n   <g id=\"patch_41\">\r\n    <path clip-path=\"url(#pd7d81c7ec1)\" d=\"M 288.964555 239.758125 \r\nL 294.93247 239.758125 \r\nL 294.93247 102.680111 \r\nL 288.964555 102.680111 \r\nz\r\n\" style=\"fill:#1f77b4;fill-opacity:0.5;stroke:#000000;stroke-linejoin:miter;stroke-width:0.596791;\"/>\r\n   </g>\r\n   <g id=\"patch_42\">\r\n    <path clip-path=\"url(#pd7d81c7ec1)\" d=\"M 294.93247 239.758125 \r\nL 300.900384 239.758125 \r\nL 300.900384 118.34617 \r\nL 294.93247 118.34617 \r\nz\r\n\" style=\"fill:#1f77b4;fill-opacity:0.5;stroke:#000000;stroke-linejoin:miter;stroke-width:0.596791;\"/>\r\n   </g>\r\n   <g id=\"patch_43\">\r\n    <path clip-path=\"url(#pd7d81c7ec1)\" d=\"M 300.900384 239.758125 \r\nL 306.868299 239.758125 \r\nL 306.868299 135.480921 \r\nL 300.900384 135.480921 \r\nz\r\n\" style=\"fill:#1f77b4;fill-opacity:0.5;stroke:#000000;stroke-linejoin:miter;stroke-width:0.596791;\"/>\r\n   </g>\r\n   <g id=\"patch_44\">\r\n    <path clip-path=\"url(#pd7d81c7ec1)\" d=\"M 306.868299 239.758125 \r\nL 312.836213 239.758125 \r\nL 312.836213 175.625197 \r\nL 306.868299 175.625197 \r\nz\r\n\" style=\"fill:#1f77b4;fill-opacity:0.5;stroke:#000000;stroke-linejoin:miter;stroke-width:0.596791;\"/>\r\n   </g>\r\n   <g id=\"patch_45\">\r\n    <path clip-path=\"url(#pd7d81c7ec1)\" d=\"M 312.836213 239.758125 \r\nL 318.804128 239.758125 \r\nL 318.804128 188.35387 \r\nL 312.836213 188.35387 \r\nz\r\n\" style=\"fill:#1f77b4;fill-opacity:0.5;stroke:#000000;stroke-linejoin:miter;stroke-width:0.596791;\"/>\r\n   </g>\r\n   <g id=\"patch_46\">\r\n    <path clip-path=\"url(#pd7d81c7ec1)\" d=\"M 318.804128 239.758125 \r\nL 324.772042 239.758125 \r\nL 324.772042 211.852958 \r\nL 318.804128 211.852958 \r\nz\r\n\" style=\"fill:#1f77b4;fill-opacity:0.5;stroke:#000000;stroke-linejoin:miter;stroke-width:0.596791;\"/>\r\n   </g>\r\n   <g id=\"patch_47\">\r\n    <path clip-path=\"url(#pd7d81c7ec1)\" d=\"M 324.772042 239.758125 \r\nL 330.739957 239.758125 \r\nL 330.739957 221.15468 \r\nL 324.772042 221.15468 \r\nz\r\n\" style=\"fill:#1f77b4;fill-opacity:0.5;stroke:#000000;stroke-linejoin:miter;stroke-width:0.596791;\"/>\r\n   </g>\r\n   <g id=\"patch_48\">\r\n    <path clip-path=\"url(#pd7d81c7ec1)\" d=\"M 330.739957 239.758125 \r\nL 336.707871 239.758125 \r\nL 336.707871 225.560759 \r\nL 330.739957 225.560759 \r\nz\r\n\" style=\"fill:#1f77b4;fill-opacity:0.5;stroke:#000000;stroke-linejoin:miter;stroke-width:0.596791;\"/>\r\n   </g>\r\n   <g id=\"patch_49\">\r\n    <path clip-path=\"url(#pd7d81c7ec1)\" d=\"M 336.707871 239.758125 \r\nL 342.675785 239.758125 \r\nL 342.675785 234.372917 \r\nL 336.707871 234.372917 \r\nz\r\n\" style=\"fill:#1f77b4;fill-opacity:0.5;stroke:#000000;stroke-linejoin:miter;stroke-width:0.596791;\"/>\r\n   </g>\r\n   <g id=\"patch_50\">\r\n    <path clip-path=\"url(#pd7d81c7ec1)\" d=\"M 342.675785 239.758125 \r\nL 348.6437 239.758125 \r\nL 348.6437 232.904224 \r\nL 342.675785 232.904224 \r\nz\r\n\" style=\"fill:#1f77b4;fill-opacity:0.5;stroke:#000000;stroke-linejoin:miter;stroke-width:0.596791;\"/>\r\n   </g>\r\n   <g id=\"patch_51\">\r\n    <path clip-path=\"url(#pd7d81c7ec1)\" d=\"M 348.6437 239.758125 \r\nL 354.611614 239.758125 \r\nL 354.611614 237.310303 \r\nL 348.6437 237.310303 \r\nz\r\n\" style=\"fill:#1f77b4;fill-opacity:0.5;stroke:#000000;stroke-linejoin:miter;stroke-width:0.596791;\"/>\r\n   </g>\r\n   <g id=\"patch_52\">\r\n    <path clip-path=\"url(#pd7d81c7ec1)\" d=\"M 354.611614 239.758125 \r\nL 360.579529 239.758125 \r\nL 360.579529 238.289432 \r\nL 354.611614 238.289432 \r\nz\r\n\" style=\"fill:#1f77b4;fill-opacity:0.5;stroke:#000000;stroke-linejoin:miter;stroke-width:0.596791;\"/>\r\n   </g>\r\n   <g id=\"patch_53\">\r\n    <path clip-path=\"url(#pd7d81c7ec1)\" d=\"M 360.579529 239.758125 \r\nL 366.547443 239.758125 \r\nL 366.547443 237.310303 \r\nL 360.579529 237.310303 \r\nz\r\n\" style=\"fill:#1f77b4;fill-opacity:0.5;stroke:#000000;stroke-linejoin:miter;stroke-width:0.596791;\"/>\r\n   </g>\r\n   <g id=\"matplotlib.axis_1\">\r\n    <g id=\"xtick_1\">\r\n     <g id=\"line2d_1\">\r\n      <defs>\r\n       <path d=\"M 0 0 \r\nL 0 3.5 \r\n\" id=\"mb167c494f8\" style=\"stroke:#000000;stroke-width:0.8;\"/>\r\n      </defs>\r\n      <g>\r\n       <use style=\"stroke:#000000;stroke-width:0.8;\" x=\"82.042711\" xlink:href=\"#mb167c494f8\" y=\"239.758125\"/>\r\n      </g>\r\n     </g>\r\n     <g id=\"text_1\">\r\n      <!-- 3 -->\r\n      <g transform=\"translate(78.861461 254.356563)scale(0.1 -0.1)\">\r\n       <defs>\r\n        <path d=\"M 2597 2516 \r\nQ 3050 2419 3304 2112 \r\nQ 3559 1806 3559 1356 \r\nQ 3559 666 3084 287 \r\nQ 2609 -91 1734 -91 \r\nQ 1441 -91 1130 -33 \r\nQ 819 25 488 141 \r\nL 488 750 \r\nQ 750 597 1062 519 \r\nQ 1375 441 1716 441 \r\nQ 2309 441 2620 675 \r\nQ 2931 909 2931 1356 \r\nQ 2931 1769 2642 2001 \r\nQ 2353 2234 1838 2234 \r\nL 1294 2234 \r\nL 1294 2753 \r\nL 1863 2753 \r\nQ 2328 2753 2575 2939 \r\nQ 2822 3125 2822 3475 \r\nQ 2822 3834 2567 4026 \r\nQ 2313 4219 1838 4219 \r\nQ 1578 4219 1281 4162 \r\nQ 984 4106 628 3988 \r\nL 628 4550 \r\nQ 988 4650 1302 4700 \r\nQ 1616 4750 1894 4750 \r\nQ 2613 4750 3031 4423 \r\nQ 3450 4097 3450 3541 \r\nQ 3450 3153 3228 2886 \r\nQ 3006 2619 2597 2516 \r\nz\r\n\" id=\"DejaVuSans-33\" transform=\"scale(0.015625)\"/>\r\n       </defs>\r\n       <use xlink:href=\"#DejaVuSans-33\"/>\r\n      </g>\r\n     </g>\r\n    </g>\r\n    <g id=\"xtick_2\">\r\n     <g id=\"line2d_2\">\r\n      <g>\r\n       <use style=\"stroke:#000000;stroke-width:0.8;\" x=\"128.852984\" xlink:href=\"#mb167c494f8\" y=\"239.758125\"/>\r\n      </g>\r\n     </g>\r\n     <g id=\"text_2\">\r\n      <!-- 4 -->\r\n      <g transform=\"translate(125.671734 254.356563)scale(0.1 -0.1)\">\r\n       <defs>\r\n        <path d=\"M 2419 4116 \r\nL 825 1625 \r\nL 2419 1625 \r\nL 2419 4116 \r\nz\r\nM 2253 4666 \r\nL 3047 4666 \r\nL 3047 1625 \r\nL 3713 1625 \r\nL 3713 1100 \r\nL 3047 1100 \r\nL 3047 0 \r\nL 2419 0 \r\nL 2419 1100 \r\nL 313 1100 \r\nL 313 1709 \r\nL 2253 4666 \r\nz\r\n\" id=\"DejaVuSans-34\" transform=\"scale(0.015625)\"/>\r\n       </defs>\r\n       <use xlink:href=\"#DejaVuSans-34\"/>\r\n      </g>\r\n     </g>\r\n    </g>\r\n    <g id=\"xtick_3\">\r\n     <g id=\"line2d_3\">\r\n      <g>\r\n       <use style=\"stroke:#000000;stroke-width:0.8;\" x=\"175.663258\" xlink:href=\"#mb167c494f8\" y=\"239.758125\"/>\r\n      </g>\r\n     </g>\r\n     <g id=\"text_3\">\r\n      <!-- 5 -->\r\n      <g transform=\"translate(172.482008 254.356563)scale(0.1 -0.1)\">\r\n       <defs>\r\n        <path d=\"M 691 4666 \r\nL 3169 4666 \r\nL 3169 4134 \r\nL 1269 4134 \r\nL 1269 2991 \r\nQ 1406 3038 1543 3061 \r\nQ 1681 3084 1819 3084 \r\nQ 2600 3084 3056 2656 \r\nQ 3513 2228 3513 1497 \r\nQ 3513 744 3044 326 \r\nQ 2575 -91 1722 -91 \r\nQ 1428 -91 1123 -41 \r\nQ 819 9 494 109 \r\nL 494 744 \r\nQ 775 591 1075 516 \r\nQ 1375 441 1709 441 \r\nQ 2250 441 2565 725 \r\nQ 2881 1009 2881 1497 \r\nQ 2881 1984 2565 2268 \r\nQ 2250 2553 1709 2553 \r\nQ 1456 2553 1204 2497 \r\nQ 953 2441 691 2322 \r\nL 691 4666 \r\nz\r\n\" id=\"DejaVuSans-35\" transform=\"scale(0.015625)\"/>\r\n       </defs>\r\n       <use xlink:href=\"#DejaVuSans-35\"/>\r\n      </g>\r\n     </g>\r\n    </g>\r\n    <g id=\"xtick_4\">\r\n     <g id=\"line2d_4\">\r\n      <g>\r\n       <use style=\"stroke:#000000;stroke-width:0.8;\" x=\"222.473532\" xlink:href=\"#mb167c494f8\" y=\"239.758125\"/>\r\n      </g>\r\n     </g>\r\n     <g id=\"text_4\">\r\n      <!-- 6 -->\r\n      <g transform=\"translate(219.292282 254.356563)scale(0.1 -0.1)\">\r\n       <defs>\r\n        <path d=\"M 2113 2584 \r\nQ 1688 2584 1439 2293 \r\nQ 1191 2003 1191 1497 \r\nQ 1191 994 1439 701 \r\nQ 1688 409 2113 409 \r\nQ 2538 409 2786 701 \r\nQ 3034 994 3034 1497 \r\nQ 3034 2003 2786 2293 \r\nQ 2538 2584 2113 2584 \r\nz\r\nM 3366 4563 \r\nL 3366 3988 \r\nQ 3128 4100 2886 4159 \r\nQ 2644 4219 2406 4219 \r\nQ 1781 4219 1451 3797 \r\nQ 1122 3375 1075 2522 \r\nQ 1259 2794 1537 2939 \r\nQ 1816 3084 2150 3084 \r\nQ 2853 3084 3261 2657 \r\nQ 3669 2231 3669 1497 \r\nQ 3669 778 3244 343 \r\nQ 2819 -91 2113 -91 \r\nQ 1303 -91 875 529 \r\nQ 447 1150 447 2328 \r\nQ 447 3434 972 4092 \r\nQ 1497 4750 2381 4750 \r\nQ 2619 4750 2861 4703 \r\nQ 3103 4656 3366 4563 \r\nz\r\n\" id=\"DejaVuSans-36\" transform=\"scale(0.015625)\"/>\r\n       </defs>\r\n       <use xlink:href=\"#DejaVuSans-36\"/>\r\n      </g>\r\n     </g>\r\n    </g>\r\n    <g id=\"xtick_5\">\r\n     <g id=\"line2d_5\">\r\n      <g>\r\n       <use style=\"stroke:#000000;stroke-width:0.8;\" x=\"269.283806\" xlink:href=\"#mb167c494f8\" y=\"239.758125\"/>\r\n      </g>\r\n     </g>\r\n     <g id=\"text_5\">\r\n      <!-- 7 -->\r\n      <g transform=\"translate(266.102556 254.356563)scale(0.1 -0.1)\">\r\n       <defs>\r\n        <path d=\"M 525 4666 \r\nL 3525 4666 \r\nL 3525 4397 \r\nL 1831 0 \r\nL 1172 0 \r\nL 2766 4134 \r\nL 525 4134 \r\nL 525 4666 \r\nz\r\n\" id=\"DejaVuSans-37\" transform=\"scale(0.015625)\"/>\r\n       </defs>\r\n       <use xlink:href=\"#DejaVuSans-37\"/>\r\n      </g>\r\n     </g>\r\n    </g>\r\n    <g id=\"xtick_6\">\r\n     <g id=\"line2d_6\">\r\n      <g>\r\n       <use style=\"stroke:#000000;stroke-width:0.8;\" x=\"316.094079\" xlink:href=\"#mb167c494f8\" y=\"239.758125\"/>\r\n      </g>\r\n     </g>\r\n     <g id=\"text_6\">\r\n      <!-- 8 -->\r\n      <g transform=\"translate(312.912829 254.356563)scale(0.1 -0.1)\">\r\n       <defs>\r\n        <path d=\"M 2034 2216 \r\nQ 1584 2216 1326 1975 \r\nQ 1069 1734 1069 1313 \r\nQ 1069 891 1326 650 \r\nQ 1584 409 2034 409 \r\nQ 2484 409 2743 651 \r\nQ 3003 894 3003 1313 \r\nQ 3003 1734 2745 1975 \r\nQ 2488 2216 2034 2216 \r\nz\r\nM 1403 2484 \r\nQ 997 2584 770 2862 \r\nQ 544 3141 544 3541 \r\nQ 544 4100 942 4425 \r\nQ 1341 4750 2034 4750 \r\nQ 2731 4750 3128 4425 \r\nQ 3525 4100 3525 3541 \r\nQ 3525 3141 3298 2862 \r\nQ 3072 2584 2669 2484 \r\nQ 3125 2378 3379 2068 \r\nQ 3634 1759 3634 1313 \r\nQ 3634 634 3220 271 \r\nQ 2806 -91 2034 -91 \r\nQ 1263 -91 848 271 \r\nQ 434 634 434 1313 \r\nQ 434 1759 690 2068 \r\nQ 947 2378 1403 2484 \r\nz\r\nM 1172 3481 \r\nQ 1172 3119 1398 2916 \r\nQ 1625 2713 2034 2713 \r\nQ 2441 2713 2670 2916 \r\nQ 2900 3119 2900 3481 \r\nQ 2900 3844 2670 4047 \r\nQ 2441 4250 2034 4250 \r\nQ 1625 4250 1398 4047 \r\nQ 1172 3844 1172 3481 \r\nz\r\n\" id=\"DejaVuSans-38\" transform=\"scale(0.015625)\"/>\r\n       </defs>\r\n       <use xlink:href=\"#DejaVuSans-38\"/>\r\n      </g>\r\n     </g>\r\n    </g>\r\n    <g id=\"xtick_7\">\r\n     <g id=\"line2d_7\">\r\n      <g>\r\n       <use style=\"stroke:#000000;stroke-width:0.8;\" x=\"362.904353\" xlink:href=\"#mb167c494f8\" y=\"239.758125\"/>\r\n      </g>\r\n     </g>\r\n     <g id=\"text_7\">\r\n      <!-- 9 -->\r\n      <g transform=\"translate(359.723103 254.356563)scale(0.1 -0.1)\">\r\n       <defs>\r\n        <path d=\"M 703 97 \r\nL 703 672 \r\nQ 941 559 1184 500 \r\nQ 1428 441 1663 441 \r\nQ 2288 441 2617 861 \r\nQ 2947 1281 2994 2138 \r\nQ 2813 1869 2534 1725 \r\nQ 2256 1581 1919 1581 \r\nQ 1219 1581 811 2004 \r\nQ 403 2428 403 3163 \r\nQ 403 3881 828 4315 \r\nQ 1253 4750 1959 4750 \r\nQ 2769 4750 3195 4129 \r\nQ 3622 3509 3622 2328 \r\nQ 3622 1225 3098 567 \r\nQ 2575 -91 1691 -91 \r\nQ 1453 -91 1209 -44 \r\nQ 966 3 703 97 \r\nz\r\nM 1959 2075 \r\nQ 2384 2075 2632 2365 \r\nQ 2881 2656 2881 3163 \r\nQ 2881 3666 2632 3958 \r\nQ 2384 4250 1959 4250 \r\nQ 1534 4250 1286 3958 \r\nQ 1038 3666 1038 3163 \r\nQ 1038 2656 1286 2365 \r\nQ 1534 2075 1959 2075 \r\nz\r\n\" id=\"DejaVuSans-39\" transform=\"scale(0.015625)\"/>\r\n       </defs>\r\n       <use xlink:href=\"#DejaVuSans-39\"/>\r\n      </g>\r\n     </g>\r\n    </g>\r\n    <g id=\"text_8\">\r\n     <!-- netflix_rating -->\r\n     <g transform=\"translate(181.350781 268.034688)scale(0.1 -0.1)\">\r\n      <defs>\r\n       <path d=\"M 3513 2113 \r\nL 3513 0 \r\nL 2938 0 \r\nL 2938 2094 \r\nQ 2938 2591 2744 2837 \r\nQ 2550 3084 2163 3084 \r\nQ 1697 3084 1428 2787 \r\nQ 1159 2491 1159 1978 \r\nL 1159 0 \r\nL 581 0 \r\nL 581 3500 \r\nL 1159 3500 \r\nL 1159 2956 \r\nQ 1366 3272 1645 3428 \r\nQ 1925 3584 2291 3584 \r\nQ 2894 3584 3203 3211 \r\nQ 3513 2838 3513 2113 \r\nz\r\n\" id=\"DejaVuSans-6e\" transform=\"scale(0.015625)\"/>\r\n       <path d=\"M 3597 1894 \r\nL 3597 1613 \r\nL 953 1613 \r\nQ 991 1019 1311 708 \r\nQ 1631 397 2203 397 \r\nQ 2534 397 2845 478 \r\nQ 3156 559 3463 722 \r\nL 3463 178 \r\nQ 3153 47 2828 -22 \r\nQ 2503 -91 2169 -91 \r\nQ 1331 -91 842 396 \r\nQ 353 884 353 1716 \r\nQ 353 2575 817 3079 \r\nQ 1281 3584 2069 3584 \r\nQ 2775 3584 3186 3129 \r\nQ 3597 2675 3597 1894 \r\nz\r\nM 3022 2063 \r\nQ 3016 2534 2758 2815 \r\nQ 2500 3097 2075 3097 \r\nQ 1594 3097 1305 2825 \r\nQ 1016 2553 972 2059 \r\nL 3022 2063 \r\nz\r\n\" id=\"DejaVuSans-65\" transform=\"scale(0.015625)\"/>\r\n       <path d=\"M 1172 4494 \r\nL 1172 3500 \r\nL 2356 3500 \r\nL 2356 3053 \r\nL 1172 3053 \r\nL 1172 1153 \r\nQ 1172 725 1289 603 \r\nQ 1406 481 1766 481 \r\nL 2356 481 \r\nL 2356 0 \r\nL 1766 0 \r\nQ 1100 0 847 248 \r\nQ 594 497 594 1153 \r\nL 594 3053 \r\nL 172 3053 \r\nL 172 3500 \r\nL 594 3500 \r\nL 594 4494 \r\nL 1172 4494 \r\nz\r\n\" id=\"DejaVuSans-74\" transform=\"scale(0.015625)\"/>\r\n       <path d=\"M 2375 4863 \r\nL 2375 4384 \r\nL 1825 4384 \r\nQ 1516 4384 1395 4259 \r\nQ 1275 4134 1275 3809 \r\nL 1275 3500 \r\nL 2222 3500 \r\nL 2222 3053 \r\nL 1275 3053 \r\nL 1275 0 \r\nL 697 0 \r\nL 697 3053 \r\nL 147 3053 \r\nL 147 3500 \r\nL 697 3500 \r\nL 697 3744 \r\nQ 697 4328 969 4595 \r\nQ 1241 4863 1831 4863 \r\nL 2375 4863 \r\nz\r\n\" id=\"DejaVuSans-66\" transform=\"scale(0.015625)\"/>\r\n       <path d=\"M 603 4863 \r\nL 1178 4863 \r\nL 1178 0 \r\nL 603 0 \r\nL 603 4863 \r\nz\r\n\" id=\"DejaVuSans-6c\" transform=\"scale(0.015625)\"/>\r\n       <path d=\"M 603 3500 \r\nL 1178 3500 \r\nL 1178 0 \r\nL 603 0 \r\nL 603 3500 \r\nz\r\nM 603 4863 \r\nL 1178 4863 \r\nL 1178 4134 \r\nL 603 4134 \r\nL 603 4863 \r\nz\r\n\" id=\"DejaVuSans-69\" transform=\"scale(0.015625)\"/>\r\n       <path d=\"M 3513 3500 \r\nL 2247 1797 \r\nL 3578 0 \r\nL 2900 0 \r\nL 1881 1375 \r\nL 863 0 \r\nL 184 0 \r\nL 1544 1831 \r\nL 300 3500 \r\nL 978 3500 \r\nL 1906 2253 \r\nL 2834 3500 \r\nL 3513 3500 \r\nz\r\n\" id=\"DejaVuSans-78\" transform=\"scale(0.015625)\"/>\r\n       <path d=\"M 3263 -1063 \r\nL 3263 -1509 \r\nL -63 -1509 \r\nL -63 -1063 \r\nL 3263 -1063 \r\nz\r\n\" id=\"DejaVuSans-5f\" transform=\"scale(0.015625)\"/>\r\n       <path d=\"M 2631 2963 \r\nQ 2534 3019 2420 3045 \r\nQ 2306 3072 2169 3072 \r\nQ 1681 3072 1420 2755 \r\nQ 1159 2438 1159 1844 \r\nL 1159 0 \r\nL 581 0 \r\nL 581 3500 \r\nL 1159 3500 \r\nL 1159 2956 \r\nQ 1341 3275 1631 3429 \r\nQ 1922 3584 2338 3584 \r\nQ 2397 3584 2469 3576 \r\nQ 2541 3569 2628 3553 \r\nL 2631 2963 \r\nz\r\n\" id=\"DejaVuSans-72\" transform=\"scale(0.015625)\"/>\r\n       <path d=\"M 2194 1759 \r\nQ 1497 1759 1228 1600 \r\nQ 959 1441 959 1056 \r\nQ 959 750 1161 570 \r\nQ 1363 391 1709 391 \r\nQ 2188 391 2477 730 \r\nQ 2766 1069 2766 1631 \r\nL 2766 1759 \r\nL 2194 1759 \r\nz\r\nM 3341 1997 \r\nL 3341 0 \r\nL 2766 0 \r\nL 2766 531 \r\nQ 2569 213 2275 61 \r\nQ 1981 -91 1556 -91 \r\nQ 1019 -91 701 211 \r\nQ 384 513 384 1019 \r\nQ 384 1609 779 1909 \r\nQ 1175 2209 1959 2209 \r\nL 2766 2209 \r\nL 2766 2266 \r\nQ 2766 2663 2505 2880 \r\nQ 2244 3097 1772 3097 \r\nQ 1472 3097 1187 3025 \r\nQ 903 2953 641 2809 \r\nL 641 3341 \r\nQ 956 3463 1253 3523 \r\nQ 1550 3584 1831 3584 \r\nQ 2591 3584 2966 3190 \r\nQ 3341 2797 3341 1997 \r\nz\r\n\" id=\"DejaVuSans-61\" transform=\"scale(0.015625)\"/>\r\n       <path d=\"M 2906 1791 \r\nQ 2906 2416 2648 2759 \r\nQ 2391 3103 1925 3103 \r\nQ 1463 3103 1205 2759 \r\nQ 947 2416 947 1791 \r\nQ 947 1169 1205 825 \r\nQ 1463 481 1925 481 \r\nQ 2391 481 2648 825 \r\nQ 2906 1169 2906 1791 \r\nz\r\nM 3481 434 \r\nQ 3481 -459 3084 -895 \r\nQ 2688 -1331 1869 -1331 \r\nQ 1566 -1331 1297 -1286 \r\nQ 1028 -1241 775 -1147 \r\nL 775 -588 \r\nQ 1028 -725 1275 -790 \r\nQ 1522 -856 1778 -856 \r\nQ 2344 -856 2625 -561 \r\nQ 2906 -266 2906 331 \r\nL 2906 616 \r\nQ 2728 306 2450 153 \r\nQ 2172 0 1784 0 \r\nQ 1141 0 747 490 \r\nQ 353 981 353 1791 \r\nQ 353 2603 747 3093 \r\nQ 1141 3584 1784 3584 \r\nQ 2172 3584 2450 3431 \r\nQ 2728 3278 2906 2969 \r\nL 2906 3500 \r\nL 3481 3500 \r\nL 3481 434 \r\nz\r\n\" id=\"DejaVuSans-67\" transform=\"scale(0.015625)\"/>\r\n      </defs>\r\n      <use xlink:href=\"#DejaVuSans-6e\"/>\r\n      <use x=\"63.378906\" xlink:href=\"#DejaVuSans-65\"/>\r\n      <use x=\"124.902344\" xlink:href=\"#DejaVuSans-74\"/>\r\n      <use x=\"164.111328\" xlink:href=\"#DejaVuSans-66\"/>\r\n      <use x=\"199.316406\" xlink:href=\"#DejaVuSans-6c\"/>\r\n      <use x=\"227.099609\" xlink:href=\"#DejaVuSans-69\"/>\r\n      <use x=\"254.882812\" xlink:href=\"#DejaVuSans-78\"/>\r\n      <use x=\"314.0625\" xlink:href=\"#DejaVuSans-5f\"/>\r\n      <use x=\"364.0625\" xlink:href=\"#DejaVuSans-72\"/>\r\n      <use x=\"405.175781\" xlink:href=\"#DejaVuSans-61\"/>\r\n      <use x=\"466.455078\" xlink:href=\"#DejaVuSans-74\"/>\r\n      <use x=\"505.664062\" xlink:href=\"#DejaVuSans-69\"/>\r\n      <use x=\"533.447266\" xlink:href=\"#DejaVuSans-6e\"/>\r\n      <use x=\"596.826172\" xlink:href=\"#DejaVuSans-67\"/>\r\n     </g>\r\n    </g>\r\n   </g>\r\n   <g id=\"matplotlib.axis_2\">\r\n    <g id=\"ytick_1\">\r\n     <g id=\"line2d_8\">\r\n      <defs>\r\n       <path d=\"M 0 0 \r\nL -3.5 0 \r\n\" id=\"mf879c0a36f\" style=\"stroke:#000000;stroke-width:0.8;\"/>\r\n      </defs>\r\n      <g>\r\n       <use style=\"stroke:#000000;stroke-width:0.8;\" x=\"46.965625\" xlink:href=\"#mf879c0a36f\" y=\"239.758125\"/>\r\n      </g>\r\n     </g>\r\n     <g id=\"text_9\">\r\n      <!-- 0 -->\r\n      <g transform=\"translate(33.603125 243.557344)scale(0.1 -0.1)\">\r\n       <defs>\r\n        <path d=\"M 2034 4250 \r\nQ 1547 4250 1301 3770 \r\nQ 1056 3291 1056 2328 \r\nQ 1056 1369 1301 889 \r\nQ 1547 409 2034 409 \r\nQ 2525 409 2770 889 \r\nQ 3016 1369 3016 2328 \r\nQ 3016 3291 2770 3770 \r\nQ 2525 4250 2034 4250 \r\nz\r\nM 2034 4750 \r\nQ 2819 4750 3233 4129 \r\nQ 3647 3509 3647 2328 \r\nQ 3647 1150 3233 529 \r\nQ 2819 -91 2034 -91 \r\nQ 1250 -91 836 529 \r\nQ 422 1150 422 2328 \r\nQ 422 3509 836 4129 \r\nQ 1250 4750 2034 4750 \r\nz\r\n\" id=\"DejaVuSans-30\" transform=\"scale(0.015625)\"/>\r\n       </defs>\r\n       <use xlink:href=\"#DejaVuSans-30\"/>\r\n      </g>\r\n     </g>\r\n    </g>\r\n    <g id=\"ytick_2\">\r\n     <g id=\"line2d_9\">\r\n      <g>\r\n       <use style=\"stroke:#000000;stroke-width:0.8;\" x=\"46.965625\" xlink:href=\"#mf879c0a36f\" y=\"215.279908\"/>\r\n      </g>\r\n     </g>\r\n     <g id=\"text_10\">\r\n      <!-- 50 -->\r\n      <g transform=\"translate(27.240625 219.079127)scale(0.1 -0.1)\">\r\n       <use xlink:href=\"#DejaVuSans-35\"/>\r\n       <use x=\"63.623047\" xlink:href=\"#DejaVuSans-30\"/>\r\n      </g>\r\n     </g>\r\n    </g>\r\n    <g id=\"ytick_3\">\r\n     <g id=\"line2d_10\">\r\n      <g>\r\n       <use style=\"stroke:#000000;stroke-width:0.8;\" x=\"46.965625\" xlink:href=\"#mf879c0a36f\" y=\"190.801691\"/>\r\n      </g>\r\n     </g>\r\n     <g id=\"text_11\">\r\n      <!-- 100 -->\r\n      <g transform=\"translate(20.878125 194.60091)scale(0.1 -0.1)\">\r\n       <defs>\r\n        <path d=\"M 794 531 \r\nL 1825 531 \r\nL 1825 4091 \r\nL 703 3866 \r\nL 703 4441 \r\nL 1819 4666 \r\nL 2450 4666 \r\nL 2450 531 \r\nL 3481 531 \r\nL 3481 0 \r\nL 794 0 \r\nL 794 531 \r\nz\r\n\" id=\"DejaVuSans-31\" transform=\"scale(0.015625)\"/>\r\n       </defs>\r\n       <use xlink:href=\"#DejaVuSans-31\"/>\r\n       <use x=\"63.623047\" xlink:href=\"#DejaVuSans-30\"/>\r\n       <use x=\"127.246094\" xlink:href=\"#DejaVuSans-30\"/>\r\n      </g>\r\n     </g>\r\n    </g>\r\n    <g id=\"ytick_4\">\r\n     <g id=\"line2d_11\">\r\n      <g>\r\n       <use style=\"stroke:#000000;stroke-width:0.8;\" x=\"46.965625\" xlink:href=\"#mf879c0a36f\" y=\"166.323475\"/>\r\n      </g>\r\n     </g>\r\n     <g id=\"text_12\">\r\n      <!-- 150 -->\r\n      <g transform=\"translate(20.878125 170.122693)scale(0.1 -0.1)\">\r\n       <use xlink:href=\"#DejaVuSans-31\"/>\r\n       <use x=\"63.623047\" xlink:href=\"#DejaVuSans-35\"/>\r\n       <use x=\"127.246094\" xlink:href=\"#DejaVuSans-30\"/>\r\n      </g>\r\n     </g>\r\n    </g>\r\n    <g id=\"ytick_5\">\r\n     <g id=\"line2d_12\">\r\n      <g>\r\n       <use style=\"stroke:#000000;stroke-width:0.8;\" x=\"46.965625\" xlink:href=\"#mf879c0a36f\" y=\"141.845258\"/>\r\n      </g>\r\n     </g>\r\n     <g id=\"text_13\">\r\n      <!-- 200 -->\r\n      <g transform=\"translate(20.878125 145.644476)scale(0.1 -0.1)\">\r\n       <defs>\r\n        <path d=\"M 1228 531 \r\nL 3431 531 \r\nL 3431 0 \r\nL 469 0 \r\nL 469 531 \r\nQ 828 903 1448 1529 \r\nQ 2069 2156 2228 2338 \r\nQ 2531 2678 2651 2914 \r\nQ 2772 3150 2772 3378 \r\nQ 2772 3750 2511 3984 \r\nQ 2250 4219 1831 4219 \r\nQ 1534 4219 1204 4116 \r\nQ 875 4013 500 3803 \r\nL 500 4441 \r\nQ 881 4594 1212 4672 \r\nQ 1544 4750 1819 4750 \r\nQ 2544 4750 2975 4387 \r\nQ 3406 4025 3406 3419 \r\nQ 3406 3131 3298 2873 \r\nQ 3191 2616 2906 2266 \r\nQ 2828 2175 2409 1742 \r\nQ 1991 1309 1228 531 \r\nz\r\n\" id=\"DejaVuSans-32\" transform=\"scale(0.015625)\"/>\r\n       </defs>\r\n       <use xlink:href=\"#DejaVuSans-32\"/>\r\n       <use x=\"63.623047\" xlink:href=\"#DejaVuSans-30\"/>\r\n       <use x=\"127.246094\" xlink:href=\"#DejaVuSans-30\"/>\r\n      </g>\r\n     </g>\r\n    </g>\r\n    <g id=\"ytick_6\">\r\n     <g id=\"line2d_13\">\r\n      <g>\r\n       <use style=\"stroke:#000000;stroke-width:0.8;\" x=\"46.965625\" xlink:href=\"#mf879c0a36f\" y=\"117.367041\"/>\r\n      </g>\r\n     </g>\r\n     <g id=\"text_14\">\r\n      <!-- 250 -->\r\n      <g transform=\"translate(20.878125 121.16626)scale(0.1 -0.1)\">\r\n       <use xlink:href=\"#DejaVuSans-32\"/>\r\n       <use x=\"63.623047\" xlink:href=\"#DejaVuSans-35\"/>\r\n       <use x=\"127.246094\" xlink:href=\"#DejaVuSans-30\"/>\r\n      </g>\r\n     </g>\r\n    </g>\r\n    <g id=\"ytick_7\">\r\n     <g id=\"line2d_14\">\r\n      <g>\r\n       <use style=\"stroke:#000000;stroke-width:0.8;\" x=\"46.965625\" xlink:href=\"#mf879c0a36f\" y=\"92.888824\"/>\r\n      </g>\r\n     </g>\r\n     <g id=\"text_15\">\r\n      <!-- 300 -->\r\n      <g transform=\"translate(20.878125 96.688043)scale(0.1 -0.1)\">\r\n       <use xlink:href=\"#DejaVuSans-33\"/>\r\n       <use x=\"63.623047\" xlink:href=\"#DejaVuSans-30\"/>\r\n       <use x=\"127.246094\" xlink:href=\"#DejaVuSans-30\"/>\r\n      </g>\r\n     </g>\r\n    </g>\r\n    <g id=\"ytick_8\">\r\n     <g id=\"line2d_15\">\r\n      <g>\r\n       <use style=\"stroke:#000000;stroke-width:0.8;\" x=\"46.965625\" xlink:href=\"#mf879c0a36f\" y=\"68.410607\"/>\r\n      </g>\r\n     </g>\r\n     <g id=\"text_16\">\r\n      <!-- 350 -->\r\n      <g transform=\"translate(20.878125 72.209826)scale(0.1 -0.1)\">\r\n       <use xlink:href=\"#DejaVuSans-33\"/>\r\n       <use x=\"63.623047\" xlink:href=\"#DejaVuSans-35\"/>\r\n       <use x=\"127.246094\" xlink:href=\"#DejaVuSans-30\"/>\r\n      </g>\r\n     </g>\r\n    </g>\r\n    <g id=\"ytick_9\">\r\n     <g id=\"line2d_16\">\r\n      <g>\r\n       <use style=\"stroke:#000000;stroke-width:0.8;\" x=\"46.965625\" xlink:href=\"#mf879c0a36f\" y=\"43.93239\"/>\r\n      </g>\r\n     </g>\r\n     <g id=\"text_17\">\r\n      <!-- 400 -->\r\n      <g transform=\"translate(20.878125 47.731609)scale(0.1 -0.1)\">\r\n       <use xlink:href=\"#DejaVuSans-34\"/>\r\n       <use x=\"63.623047\" xlink:href=\"#DejaVuSans-30\"/>\r\n       <use x=\"127.246094\" xlink:href=\"#DejaVuSans-30\"/>\r\n      </g>\r\n     </g>\r\n    </g>\r\n    <g id=\"text_18\">\r\n     <!-- Count -->\r\n     <g transform=\"translate(14.798438 145.886563)rotate(-90)scale(0.1 -0.1)\">\r\n      <defs>\r\n       <path d=\"M 4122 4306 \r\nL 4122 3641 \r\nQ 3803 3938 3442 4084 \r\nQ 3081 4231 2675 4231 \r\nQ 1875 4231 1450 3742 \r\nQ 1025 3253 1025 2328 \r\nQ 1025 1406 1450 917 \r\nQ 1875 428 2675 428 \r\nQ 3081 428 3442 575 \r\nQ 3803 722 4122 1019 \r\nL 4122 359 \r\nQ 3791 134 3420 21 \r\nQ 3050 -91 2638 -91 \r\nQ 1578 -91 968 557 \r\nQ 359 1206 359 2328 \r\nQ 359 3453 968 4101 \r\nQ 1578 4750 2638 4750 \r\nQ 3056 4750 3426 4639 \r\nQ 3797 4528 4122 4306 \r\nz\r\n\" id=\"DejaVuSans-43\" transform=\"scale(0.015625)\"/>\r\n       <path d=\"M 1959 3097 \r\nQ 1497 3097 1228 2736 \r\nQ 959 2375 959 1747 \r\nQ 959 1119 1226 758 \r\nQ 1494 397 1959 397 \r\nQ 2419 397 2687 759 \r\nQ 2956 1122 2956 1747 \r\nQ 2956 2369 2687 2733 \r\nQ 2419 3097 1959 3097 \r\nz\r\nM 1959 3584 \r\nQ 2709 3584 3137 3096 \r\nQ 3566 2609 3566 1747 \r\nQ 3566 888 3137 398 \r\nQ 2709 -91 1959 -91 \r\nQ 1206 -91 779 398 \r\nQ 353 888 353 1747 \r\nQ 353 2609 779 3096 \r\nQ 1206 3584 1959 3584 \r\nz\r\n\" id=\"DejaVuSans-6f\" transform=\"scale(0.015625)\"/>\r\n       <path d=\"M 544 1381 \r\nL 544 3500 \r\nL 1119 3500 \r\nL 1119 1403 \r\nQ 1119 906 1312 657 \r\nQ 1506 409 1894 409 \r\nQ 2359 409 2629 706 \r\nQ 2900 1003 2900 1516 \r\nL 2900 3500 \r\nL 3475 3500 \r\nL 3475 0 \r\nL 2900 0 \r\nL 2900 538 \r\nQ 2691 219 2414 64 \r\nQ 2138 -91 1772 -91 \r\nQ 1169 -91 856 284 \r\nQ 544 659 544 1381 \r\nz\r\nM 1991 3584 \r\nL 1991 3584 \r\nz\r\n\" id=\"DejaVuSans-75\" transform=\"scale(0.015625)\"/>\r\n      </defs>\r\n      <use xlink:href=\"#DejaVuSans-43\"/>\r\n      <use x=\"69.824219\" xlink:href=\"#DejaVuSans-6f\"/>\r\n      <use x=\"131.005859\" xlink:href=\"#DejaVuSans-75\"/>\r\n      <use x=\"194.384766\" xlink:href=\"#DejaVuSans-6e\"/>\r\n      <use x=\"257.763672\" xlink:href=\"#DejaVuSans-74\"/>\r\n     </g>\r\n    </g>\r\n   </g>\r\n   <g id=\"line2d_17\">\r\n    <path clip-path=\"url(#pd7d81c7ec1)\" d=\"M 62.183807 239.460753 \r\nL 69.831134 239.141492 \r\nL 75.948996 238.693038 \r\nL 82.066858 238.020763 \r\nL 86.655255 237.274937 \r\nL 89.714186 236.568082 \r\nL 92.773117 235.639176 \r\nL 95.832048 234.495454 \r\nL 103.479376 231.37588 \r\nL 106.538307 230.36614 \r\nL 115.7151 227.708429 \r\nL 118.774031 226.427728 \r\nL 121.832962 224.845204 \r\nL 124.891893 223.025786 \r\nL 135.598151 216.358667 \r\nL 138.657082 214.838911 \r\nL 146.30441 211.430812 \r\nL 147.833875 210.550427 \r\nL 149.363341 209.510853 \r\nL 150.892806 208.280677 \r\nL 152.422272 206.840409 \r\nL 153.951737 205.186601 \r\nL 157.010668 201.319195 \r\nL 164.657996 190.765364 \r\nL 167.716927 187.185198 \r\nL 172.305323 182.486857 \r\nL 175.364255 179.28339 \r\nL 178.423186 175.583621 \r\nL 179.952651 173.463608 \r\nL 181.482117 171.13761 \r\nL 183.011582 168.596928 \r\nL 186.070513 162.865319 \r\nL 189.129444 156.278336 \r\nL 192.188375 148.841349 \r\nL 195.247306 140.548411 \r\nL 198.306237 131.421766 \r\nL 201.365168 121.524062 \r\nL 204.424099 110.899804 \r\nL 207.48303 99.530618 \r\nL 212.071427 81.248872 \r\nL 215.130358 69.000912 \r\nL 216.659823 63.260394 \r\nL 218.189289 58.007913 \r\nL 219.718754 53.411838 \r\nL 221.24822 49.609388 \r\nL 222.777685 46.687627 \r\nL 224.307151 44.671365 \r\nL 225.836616 43.520253 \r\nL 227.366082 43.13541 \r\nL 228.895547 43.373967 \r\nL 230.425013 44.06838 \r\nL 233.483944 46.150061 \r\nL 236.542875 48.231262 \r\nL 238.07234 49.039164 \r\nL 239.601806 49.629614 \r\nL 241.131271 49.986875 \r\nL 242.660737 50.113027 \r\nL 244.190202 50.022899 \r\nL 245.719668 49.740356 \r\nL 247.249133 49.295924 \r\nL 250.308064 48.068675 \r\nL 254.896461 46.016053 \r\nL 257.955392 44.98802 \r\nL 259.484858 44.669276 \r\nL 261.014323 44.504481 \r\nL 262.543789 44.506226 \r\nL 264.073254 44.689873 \r\nL 265.60272 45.080288 \r\nL 267.132185 45.716659 \r\nL 268.661651 46.652937 \r\nL 270.191116 47.952491 \r\nL 271.720582 49.677357 \r\nL 273.250047 51.874491 \r\nL 274.779513 54.562831 \r\nL 276.308978 57.725167 \r\nL 277.838444 61.307625 \r\nL 280.897375 69.386445 \r\nL 288.544702 91.167193 \r\nL 293.133099 104.621355 \r\nL 296.19203 114.35987 \r\nL 299.250961 125.033978 \r\nL 302.309892 136.625168 \r\nL 311.486685 172.81599 \r\nL 314.545616 183.764107 \r\nL 317.604547 193.641919 \r\nL 320.663478 202.278878 \r\nL 322.192943 206.0977 \r\nL 323.722409 209.579943 \r\nL 325.251874 212.735197 \r\nL 326.78134 215.582429 \r\nL 328.310805 218.147544 \r\nL 329.840271 220.459722 \r\nL 331.369736 222.547537 \r\nL 332.899202 224.435858 \r\nL 335.958133 227.687138 \r\nL 339.017064 230.317341 \r\nL 342.075995 232.403143 \r\nL 345.134926 234.035512 \r\nL 348.193857 235.310041 \r\nL 351.252788 236.294929 \r\nL 354.311719 237.028959 \r\nL 357.37065 237.553968 \r\nL 363.488512 238.267295 \r\nL 366.547443 238.593295 \r\nL 366.547443 238.593295 \r\n\" style=\"fill:none;stroke:#1f77b4;stroke-linecap:square;stroke-width:1.5;\"/>\r\n   </g>\r\n   <g id=\"patch_54\">\r\n    <path d=\"M 46.965625 239.758125 \r\nL 46.965625 22.318125 \r\n\" style=\"fill:none;stroke:#000000;stroke-linecap:square;stroke-linejoin:miter;stroke-width:0.8;\"/>\r\n   </g>\r\n   <g id=\"patch_55\">\r\n    <path d=\"M 381.765625 239.758125 \r\nL 381.765625 22.318125 \r\n\" style=\"fill:none;stroke:#000000;stroke-linecap:square;stroke-linejoin:miter;stroke-width:0.8;\"/>\r\n   </g>\r\n   <g id=\"patch_56\">\r\n    <path d=\"M 46.965625 239.758125 \r\nL 381.765625 239.758125 \r\n\" style=\"fill:none;stroke:#000000;stroke-linecap:square;stroke-linejoin:miter;stroke-width:0.8;\"/>\r\n   </g>\r\n   <g id=\"patch_57\">\r\n    <path d=\"M 46.965625 22.318125 \r\nL 381.765625 22.318125 \r\n\" style=\"fill:none;stroke:#000000;stroke-linecap:square;stroke-linejoin:miter;stroke-width:0.8;\"/>\r\n   </g>\r\n   <g id=\"text_19\">\r\n    <!-- netflix_rating distribution -->\r\n    <g transform=\"translate(138.649375 16.318125)scale(0.12 -0.12)\">\r\n     <defs>\r\n      <path id=\"DejaVuSans-20\" transform=\"scale(0.015625)\"/>\r\n      <path d=\"M 2906 2969 \r\nL 2906 4863 \r\nL 3481 4863 \r\nL 3481 0 \r\nL 2906 0 \r\nL 2906 525 \r\nQ 2725 213 2448 61 \r\nQ 2172 -91 1784 -91 \r\nQ 1150 -91 751 415 \r\nQ 353 922 353 1747 \r\nQ 353 2572 751 3078 \r\nQ 1150 3584 1784 3584 \r\nQ 2172 3584 2448 3432 \r\nQ 2725 3281 2906 2969 \r\nz\r\nM 947 1747 \r\nQ 947 1113 1208 752 \r\nQ 1469 391 1925 391 \r\nQ 2381 391 2643 752 \r\nQ 2906 1113 2906 1747 \r\nQ 2906 2381 2643 2742 \r\nQ 2381 3103 1925 3103 \r\nQ 1469 3103 1208 2742 \r\nQ 947 2381 947 1747 \r\nz\r\n\" id=\"DejaVuSans-64\" transform=\"scale(0.015625)\"/>\r\n      <path d=\"M 2834 3397 \r\nL 2834 2853 \r\nQ 2591 2978 2328 3040 \r\nQ 2066 3103 1784 3103 \r\nQ 1356 3103 1142 2972 \r\nQ 928 2841 928 2578 \r\nQ 928 2378 1081 2264 \r\nQ 1234 2150 1697 2047 \r\nL 1894 2003 \r\nQ 2506 1872 2764 1633 \r\nQ 3022 1394 3022 966 \r\nQ 3022 478 2636 193 \r\nQ 2250 -91 1575 -91 \r\nQ 1294 -91 989 -36 \r\nQ 684 19 347 128 \r\nL 347 722 \r\nQ 666 556 975 473 \r\nQ 1284 391 1588 391 \r\nQ 1994 391 2212 530 \r\nQ 2431 669 2431 922 \r\nQ 2431 1156 2273 1281 \r\nQ 2116 1406 1581 1522 \r\nL 1381 1569 \r\nQ 847 1681 609 1914 \r\nQ 372 2147 372 2553 \r\nQ 372 3047 722 3315 \r\nQ 1072 3584 1716 3584 \r\nQ 2034 3584 2315 3537 \r\nQ 2597 3491 2834 3397 \r\nz\r\n\" id=\"DejaVuSans-73\" transform=\"scale(0.015625)\"/>\r\n      <path d=\"M 3116 1747 \r\nQ 3116 2381 2855 2742 \r\nQ 2594 3103 2138 3103 \r\nQ 1681 3103 1420 2742 \r\nQ 1159 2381 1159 1747 \r\nQ 1159 1113 1420 752 \r\nQ 1681 391 2138 391 \r\nQ 2594 391 2855 752 \r\nQ 3116 1113 3116 1747 \r\nz\r\nM 1159 2969 \r\nQ 1341 3281 1617 3432 \r\nQ 1894 3584 2278 3584 \r\nQ 2916 3584 3314 3078 \r\nQ 3713 2572 3713 1747 \r\nQ 3713 922 3314 415 \r\nQ 2916 -91 2278 -91 \r\nQ 1894 -91 1617 61 \r\nQ 1341 213 1159 525 \r\nL 1159 0 \r\nL 581 0 \r\nL 581 4863 \r\nL 1159 4863 \r\nL 1159 2969 \r\nz\r\n\" id=\"DejaVuSans-62\" transform=\"scale(0.015625)\"/>\r\n     </defs>\r\n     <use xlink:href=\"#DejaVuSans-6e\"/>\r\n     <use x=\"63.378906\" xlink:href=\"#DejaVuSans-65\"/>\r\n     <use x=\"124.902344\" xlink:href=\"#DejaVuSans-74\"/>\r\n     <use x=\"164.111328\" xlink:href=\"#DejaVuSans-66\"/>\r\n     <use x=\"199.316406\" xlink:href=\"#DejaVuSans-6c\"/>\r\n     <use x=\"227.099609\" xlink:href=\"#DejaVuSans-69\"/>\r\n     <use x=\"254.882812\" xlink:href=\"#DejaVuSans-78\"/>\r\n     <use x=\"314.0625\" xlink:href=\"#DejaVuSans-5f\"/>\r\n     <use x=\"364.0625\" xlink:href=\"#DejaVuSans-72\"/>\r\n     <use x=\"405.175781\" xlink:href=\"#DejaVuSans-61\"/>\r\n     <use x=\"466.455078\" xlink:href=\"#DejaVuSans-74\"/>\r\n     <use x=\"505.664062\" xlink:href=\"#DejaVuSans-69\"/>\r\n     <use x=\"533.447266\" xlink:href=\"#DejaVuSans-6e\"/>\r\n     <use x=\"596.826172\" xlink:href=\"#DejaVuSans-67\"/>\r\n     <use x=\"660.302734\" xlink:href=\"#DejaVuSans-20\"/>\r\n     <use x=\"692.089844\" xlink:href=\"#DejaVuSans-64\"/>\r\n     <use x=\"755.566406\" xlink:href=\"#DejaVuSans-69\"/>\r\n     <use x=\"783.349609\" xlink:href=\"#DejaVuSans-73\"/>\r\n     <use x=\"835.449219\" xlink:href=\"#DejaVuSans-74\"/>\r\n     <use x=\"874.658203\" xlink:href=\"#DejaVuSans-72\"/>\r\n     <use x=\"915.771484\" xlink:href=\"#DejaVuSans-69\"/>\r\n     <use x=\"943.554688\" xlink:href=\"#DejaVuSans-62\"/>\r\n     <use x=\"1007.03125\" xlink:href=\"#DejaVuSans-75\"/>\r\n     <use x=\"1070.410156\" xlink:href=\"#DejaVuSans-74\"/>\r\n     <use x=\"1109.619141\" xlink:href=\"#DejaVuSans-69\"/>\r\n     <use x=\"1137.402344\" xlink:href=\"#DejaVuSans-6f\"/>\r\n     <use x=\"1198.583984\" xlink:href=\"#DejaVuSans-6e\"/>\r\n    </g>\r\n   </g>\r\n  </g>\r\n </g>\r\n <defs>\r\n  <clipPath id=\"pd7d81c7ec1\">\r\n   <rect height=\"217.44\" width=\"334.8\" x=\"46.965625\" y=\"22.318125\"/>\r\n  </clipPath>\r\n </defs>\r\n</svg>\r\n",
      "image/png": "[encoded data removed]"
     },
     "metadata": {
      "needs_background": "light"
     }
    }
   ],
   "source": [
    "viz.plot_displot()"
   ]
  },
  {
   "cell_type": "code",
   "execution_count": 7,
   "metadata": {},
   "outputs": [
    {
     "output_type": "display_data",
     "data": {
      "text/plain": "<Figure size 432x288 with 1 Axes>",
      "image/svg+xml": "<?xml version=\"1.0\" encoding=\"utf-8\" standalone=\"no\"?>\r\n<!DOCTYPE svg PUBLIC \"-//W3C//DTD SVG 1.1//EN\"\r\n  \"http://www.w3.org/Graphics/SVG/1.1/DTD/svg11.dtd\">\r\n<svg height=\"277.314375pt\" version=\"1.1\" viewBox=\"0 0 386.059375 277.314375\" width=\"386.059375pt\" xmlns=\"http://www.w3.org/2000/svg\" xmlns:xlink=\"http://www.w3.org/1999/xlink\">\r\n <metadata>\r\n  <rdf:RDF xmlns:cc=\"http://creativecommons.org/ns#\" xmlns:dc=\"http://purl.org/dc/elements/1.1/\" xmlns:rdf=\"http://www.w3.org/1999/02/22-rdf-syntax-ns#\">\r\n   <cc:Work>\r\n    <dc:type rdf:resource=\"http://purl.org/dc/dcmitype/StillImage\"/>\r\n    <dc:date>2021-06-01T12:26:27.921973</dc:date>\r\n    <dc:format>image/svg+xml</dc:format>\r\n    <dc:creator>\r\n     <cc:Agent>\r\n      <dc:title>Matplotlib v3.4.1, https://matplotlib.org/</dc:title>\r\n     </cc:Agent>\r\n    </dc:creator>\r\n   </cc:Work>\r\n  </rdf:RDF>\r\n </metadata>\r\n <defs>\r\n  <style type=\"text/css\">*{stroke-linecap:butt;stroke-linejoin:round;}</style>\r\n </defs>\r\n <g id=\"figure_1\">\r\n  <g id=\"patch_1\">\r\n   <path d=\"M 0 277.314375 \r\nL 386.059375 277.314375 \r\nL 386.059375 0 \r\nL 0 0 \r\nz\r\n\" style=\"fill:none;\"/>\r\n  </g>\r\n  <g id=\"axes_1\">\r\n   <g id=\"patch_2\">\r\n    <path d=\"M 44.059375 239.758125 \r\nL 378.859375 239.758125 \r\nL 378.859375 22.318125 \r\nL 44.059375 22.318125 \r\nz\r\n\" style=\"fill:#ffffff;\"/>\r\n   </g>\r\n   <g id=\"matplotlib.axis_1\">\r\n    <g id=\"xtick_1\">\r\n     <g id=\"line2d_1\">\r\n      <defs>\r\n       <path d=\"M 0 0 \r\nL 0 3.5 \r\n\" id=\"md2feecd505\" style=\"stroke:#000000;stroke-width:0.8;\"/>\r\n      </defs>\r\n      <g>\r\n       <use style=\"stroke:#000000;stroke-width:0.8;\" x=\"93.095739\" xlink:href=\"#md2feecd505\" y=\"239.758125\"/>\r\n      </g>\r\n     </g>\r\n     <g id=\"text_1\">\r\n      <!-- 1920 -->\r\n      <g transform=\"translate(80.370739 254.356562)scale(0.1 -0.1)\">\r\n       <defs>\r\n        <path d=\"M 794 531 \r\nL 1825 531 \r\nL 1825 4091 \r\nL 703 3866 \r\nL 703 4441 \r\nL 1819 4666 \r\nL 2450 4666 \r\nL 2450 531 \r\nL 3481 531 \r\nL 3481 0 \r\nL 794 0 \r\nL 794 531 \r\nz\r\n\" id=\"DejaVuSans-31\" transform=\"scale(0.015625)\"/>\r\n        <path d=\"M 703 97 \r\nL 703 672 \r\nQ 941 559 1184 500 \r\nQ 1428 441 1663 441 \r\nQ 2288 441 2617 861 \r\nQ 2947 1281 2994 2138 \r\nQ 2813 1869 2534 1725 \r\nQ 2256 1581 1919 1581 \r\nQ 1219 1581 811 2004 \r\nQ 403 2428 403 3163 \r\nQ 403 3881 828 4315 \r\nQ 1253 4750 1959 4750 \r\nQ 2769 4750 3195 4129 \r\nQ 3622 3509 3622 2328 \r\nQ 3622 1225 3098 567 \r\nQ 2575 -91 1691 -91 \r\nQ 1453 -91 1209 -44 \r\nQ 966 3 703 97 \r\nz\r\nM 1959 2075 \r\nQ 2384 2075 2632 2365 \r\nQ 2881 2656 2881 3163 \r\nQ 2881 3666 2632 3958 \r\nQ 2384 4250 1959 4250 \r\nQ 1534 4250 1286 3958 \r\nQ 1038 3666 1038 3163 \r\nQ 1038 2656 1286 2365 \r\nQ 1534 2075 1959 2075 \r\nz\r\n\" id=\"DejaVuSans-39\" transform=\"scale(0.015625)\"/>\r\n        <path d=\"M 1228 531 \r\nL 3431 531 \r\nL 3431 0 \r\nL 469 0 \r\nL 469 531 \r\nQ 828 903 1448 1529 \r\nQ 2069 2156 2228 2338 \r\nQ 2531 2678 2651 2914 \r\nQ 2772 3150 2772 3378 \r\nQ 2772 3750 2511 3984 \r\nQ 2250 4219 1831 4219 \r\nQ 1534 4219 1204 4116 \r\nQ 875 4013 500 3803 \r\nL 500 4441 \r\nQ 881 4594 1212 4672 \r\nQ 1544 4750 1819 4750 \r\nQ 2544 4750 2975 4387 \r\nQ 3406 4025 3406 3419 \r\nQ 3406 3131 3298 2873 \r\nQ 3191 2616 2906 2266 \r\nQ 2828 2175 2409 1742 \r\nQ 1991 1309 1228 531 \r\nz\r\n\" id=\"DejaVuSans-32\" transform=\"scale(0.015625)\"/>\r\n        <path d=\"M 2034 4250 \r\nQ 1547 4250 1301 3770 \r\nQ 1056 3291 1056 2328 \r\nQ 1056 1369 1301 889 \r\nQ 1547 409 2034 409 \r\nQ 2525 409 2770 889 \r\nQ 3016 1369 3016 2328 \r\nQ 3016 3291 2770 3770 \r\nQ 2525 4250 2034 4250 \r\nz\r\nM 2034 4750 \r\nQ 2819 4750 3233 4129 \r\nQ 3647 3509 3647 2328 \r\nQ 3647 1150 3233 529 \r\nQ 2819 -91 2034 -91 \r\nQ 1250 -91 836 529 \r\nQ 422 1150 422 2328 \r\nQ 422 3509 836 4129 \r\nQ 1250 4750 2034 4750 \r\nz\r\n\" id=\"DejaVuSans-30\" transform=\"scale(0.015625)\"/>\r\n       </defs>\r\n       <use xlink:href=\"#DejaVuSans-31\"/>\r\n       <use x=\"63.623047\" xlink:href=\"#DejaVuSans-39\"/>\r\n       <use x=\"127.246094\" xlink:href=\"#DejaVuSans-32\"/>\r\n       <use x=\"190.869141\" xlink:href=\"#DejaVuSans-30\"/>\r\n      </g>\r\n     </g>\r\n    </g>\r\n    <g id=\"xtick_2\">\r\n     <g id=\"line2d_2\">\r\n      <g>\r\n       <use style=\"stroke:#000000;stroke-width:0.8;\" x=\"160.732102\" xlink:href=\"#md2feecd505\" y=\"239.758125\"/>\r\n      </g>\r\n     </g>\r\n     <g id=\"text_2\">\r\n      <!-- 1940 -->\r\n      <g transform=\"translate(148.007102 254.356562)scale(0.1 -0.1)\">\r\n       <defs>\r\n        <path d=\"M 2419 4116 \r\nL 825 1625 \r\nL 2419 1625 \r\nL 2419 4116 \r\nz\r\nM 2253 4666 \r\nL 3047 4666 \r\nL 3047 1625 \r\nL 3713 1625 \r\nL 3713 1100 \r\nL 3047 1100 \r\nL 3047 0 \r\nL 2419 0 \r\nL 2419 1100 \r\nL 313 1100 \r\nL 313 1709 \r\nL 2253 4666 \r\nz\r\n\" id=\"DejaVuSans-34\" transform=\"scale(0.015625)\"/>\r\n       </defs>\r\n       <use xlink:href=\"#DejaVuSans-31\"/>\r\n       <use x=\"63.623047\" xlink:href=\"#DejaVuSans-39\"/>\r\n       <use x=\"127.246094\" xlink:href=\"#DejaVuSans-34\"/>\r\n       <use x=\"190.869141\" xlink:href=\"#DejaVuSans-30\"/>\r\n      </g>\r\n     </g>\r\n    </g>\r\n    <g id=\"xtick_3\">\r\n     <g id=\"line2d_3\">\r\n      <g>\r\n       <use style=\"stroke:#000000;stroke-width:0.8;\" x=\"228.368466\" xlink:href=\"#md2feecd505\" y=\"239.758125\"/>\r\n      </g>\r\n     </g>\r\n     <g id=\"text_3\">\r\n      <!-- 1960 -->\r\n      <g transform=\"translate(215.643466 254.356562)scale(0.1 -0.1)\">\r\n       <defs>\r\n        <path d=\"M 2113 2584 \r\nQ 1688 2584 1439 2293 \r\nQ 1191 2003 1191 1497 \r\nQ 1191 994 1439 701 \r\nQ 1688 409 2113 409 \r\nQ 2538 409 2786 701 \r\nQ 3034 994 3034 1497 \r\nQ 3034 2003 2786 2293 \r\nQ 2538 2584 2113 2584 \r\nz\r\nM 3366 4563 \r\nL 3366 3988 \r\nQ 3128 4100 2886 4159 \r\nQ 2644 4219 2406 4219 \r\nQ 1781 4219 1451 3797 \r\nQ 1122 3375 1075 2522 \r\nQ 1259 2794 1537 2939 \r\nQ 1816 3084 2150 3084 \r\nQ 2853 3084 3261 2657 \r\nQ 3669 2231 3669 1497 \r\nQ 3669 778 3244 343 \r\nQ 2819 -91 2113 -91 \r\nQ 1303 -91 875 529 \r\nQ 447 1150 447 2328 \r\nQ 447 3434 972 4092 \r\nQ 1497 4750 2381 4750 \r\nQ 2619 4750 2861 4703 \r\nQ 3103 4656 3366 4563 \r\nz\r\n\" id=\"DejaVuSans-36\" transform=\"scale(0.015625)\"/>\r\n       </defs>\r\n       <use xlink:href=\"#DejaVuSans-31\"/>\r\n       <use x=\"63.623047\" xlink:href=\"#DejaVuSans-39\"/>\r\n       <use x=\"127.246094\" xlink:href=\"#DejaVuSans-36\"/>\r\n       <use x=\"190.869141\" xlink:href=\"#DejaVuSans-30\"/>\r\n      </g>\r\n     </g>\r\n    </g>\r\n    <g id=\"xtick_4\">\r\n     <g id=\"line2d_4\">\r\n      <g>\r\n       <use style=\"stroke:#000000;stroke-width:0.8;\" x=\"296.00483\" xlink:href=\"#md2feecd505\" y=\"239.758125\"/>\r\n      </g>\r\n     </g>\r\n     <g id=\"text_4\">\r\n      <!-- 1980 -->\r\n      <g transform=\"translate(283.27983 254.356562)scale(0.1 -0.1)\">\r\n       <defs>\r\n        <path d=\"M 2034 2216 \r\nQ 1584 2216 1326 1975 \r\nQ 1069 1734 1069 1313 \r\nQ 1069 891 1326 650 \r\nQ 1584 409 2034 409 \r\nQ 2484 409 2743 651 \r\nQ 3003 894 3003 1313 \r\nQ 3003 1734 2745 1975 \r\nQ 2488 2216 2034 2216 \r\nz\r\nM 1403 2484 \r\nQ 997 2584 770 2862 \r\nQ 544 3141 544 3541 \r\nQ 544 4100 942 4425 \r\nQ 1341 4750 2034 4750 \r\nQ 2731 4750 3128 4425 \r\nQ 3525 4100 3525 3541 \r\nQ 3525 3141 3298 2862 \r\nQ 3072 2584 2669 2484 \r\nQ 3125 2378 3379 2068 \r\nQ 3634 1759 3634 1313 \r\nQ 3634 634 3220 271 \r\nQ 2806 -91 2034 -91 \r\nQ 1263 -91 848 271 \r\nQ 434 634 434 1313 \r\nQ 434 1759 690 2068 \r\nQ 947 2378 1403 2484 \r\nz\r\nM 1172 3481 \r\nQ 1172 3119 1398 2916 \r\nQ 1625 2713 2034 2713 \r\nQ 2441 2713 2670 2916 \r\nQ 2900 3119 2900 3481 \r\nQ 2900 3844 2670 4047 \r\nQ 2441 4250 2034 4250 \r\nQ 1625 4250 1398 4047 \r\nQ 1172 3844 1172 3481 \r\nz\r\n\" id=\"DejaVuSans-38\" transform=\"scale(0.015625)\"/>\r\n       </defs>\r\n       <use xlink:href=\"#DejaVuSans-31\"/>\r\n       <use x=\"63.623047\" xlink:href=\"#DejaVuSans-39\"/>\r\n       <use x=\"127.246094\" xlink:href=\"#DejaVuSans-38\"/>\r\n       <use x=\"190.869141\" xlink:href=\"#DejaVuSans-30\"/>\r\n      </g>\r\n     </g>\r\n    </g>\r\n    <g id=\"xtick_5\">\r\n     <g id=\"line2d_5\">\r\n      <g>\r\n       <use style=\"stroke:#000000;stroke-width:0.8;\" x=\"363.641193\" xlink:href=\"#md2feecd505\" y=\"239.758125\"/>\r\n      </g>\r\n     </g>\r\n     <g id=\"text_5\">\r\n      <!-- 2000 -->\r\n      <g transform=\"translate(350.916193 254.356562)scale(0.1 -0.1)\">\r\n       <use xlink:href=\"#DejaVuSans-32\"/>\r\n       <use x=\"63.623047\" xlink:href=\"#DejaVuSans-30\"/>\r\n       <use x=\"127.246094\" xlink:href=\"#DejaVuSans-30\"/>\r\n       <use x=\"190.869141\" xlink:href=\"#DejaVuSans-30\"/>\r\n      </g>\r\n     </g>\r\n    </g>\r\n    <g id=\"text_6\">\r\n     <!-- Year -->\r\n     <g transform=\"translate(200.871875 268.034687)scale(0.1 -0.1)\">\r\n      <defs>\r\n       <path d=\"M -13 4666 \r\nL 666 4666 \r\nL 1959 2747 \r\nL 3244 4666 \r\nL 3922 4666 \r\nL 2272 2222 \r\nL 2272 0 \r\nL 1638 0 \r\nL 1638 2222 \r\nL -13 4666 \r\nz\r\n\" id=\"DejaVuSans-59\" transform=\"scale(0.015625)\"/>\r\n       <path d=\"M 3597 1894 \r\nL 3597 1613 \r\nL 953 1613 \r\nQ 991 1019 1311 708 \r\nQ 1631 397 2203 397 \r\nQ 2534 397 2845 478 \r\nQ 3156 559 3463 722 \r\nL 3463 178 \r\nQ 3153 47 2828 -22 \r\nQ 2503 -91 2169 -91 \r\nQ 1331 -91 842 396 \r\nQ 353 884 353 1716 \r\nQ 353 2575 817 3079 \r\nQ 1281 3584 2069 3584 \r\nQ 2775 3584 3186 3129 \r\nQ 3597 2675 3597 1894 \r\nz\r\nM 3022 2063 \r\nQ 3016 2534 2758 2815 \r\nQ 2500 3097 2075 3097 \r\nQ 1594 3097 1305 2825 \r\nQ 1016 2553 972 2059 \r\nL 3022 2063 \r\nz\r\n\" id=\"DejaVuSans-65\" transform=\"scale(0.015625)\"/>\r\n       <path d=\"M 2194 1759 \r\nQ 1497 1759 1228 1600 \r\nQ 959 1441 959 1056 \r\nQ 959 750 1161 570 \r\nQ 1363 391 1709 391 \r\nQ 2188 391 2477 730 \r\nQ 2766 1069 2766 1631 \r\nL 2766 1759 \r\nL 2194 1759 \r\nz\r\nM 3341 1997 \r\nL 3341 0 \r\nL 2766 0 \r\nL 2766 531 \r\nQ 2569 213 2275 61 \r\nQ 1981 -91 1556 -91 \r\nQ 1019 -91 701 211 \r\nQ 384 513 384 1019 \r\nQ 384 1609 779 1909 \r\nQ 1175 2209 1959 2209 \r\nL 2766 2209 \r\nL 2766 2266 \r\nQ 2766 2663 2505 2880 \r\nQ 2244 3097 1772 3097 \r\nQ 1472 3097 1187 3025 \r\nQ 903 2953 641 2809 \r\nL 641 3341 \r\nQ 956 3463 1253 3523 \r\nQ 1550 3584 1831 3584 \r\nQ 2591 3584 2966 3190 \r\nQ 3341 2797 3341 1997 \r\nz\r\n\" id=\"DejaVuSans-61\" transform=\"scale(0.015625)\"/>\r\n       <path d=\"M 2631 2963 \r\nQ 2534 3019 2420 3045 \r\nQ 2306 3072 2169 3072 \r\nQ 1681 3072 1420 2755 \r\nQ 1159 2438 1159 1844 \r\nL 1159 0 \r\nL 581 0 \r\nL 581 3500 \r\nL 1159 3500 \r\nL 1159 2956 \r\nQ 1341 3275 1631 3429 \r\nQ 1922 3584 2338 3584 \r\nQ 2397 3584 2469 3576 \r\nQ 2541 3569 2628 3553 \r\nL 2631 2963 \r\nz\r\n\" id=\"DejaVuSans-72\" transform=\"scale(0.015625)\"/>\r\n      </defs>\r\n      <use xlink:href=\"#DejaVuSans-59\"/>\r\n      <use x=\"47.833984\" xlink:href=\"#DejaVuSans-65\"/>\r\n      <use x=\"109.357422\" xlink:href=\"#DejaVuSans-61\"/>\r\n      <use x=\"170.636719\" xlink:href=\"#DejaVuSans-72\"/>\r\n     </g>\r\n    </g>\r\n   </g>\r\n   <g id=\"matplotlib.axis_2\">\r\n    <g id=\"ytick_1\">\r\n     <g id=\"line2d_6\">\r\n      <defs>\r\n       <path d=\"M 0 0 \r\nL -3.5 0 \r\n\" id=\"mae9266c280\" style=\"stroke:#000000;stroke-width:0.8;\"/>\r\n      </defs>\r\n      <g>\r\n       <use style=\"stroke:#000000;stroke-width:0.8;\" x=\"44.059375\" xlink:href=\"#mae9266c280\" y=\"232.6868\"/>\r\n      </g>\r\n     </g>\r\n     <g id=\"text_7\">\r\n      <!-- 6.2 -->\r\n      <g transform=\"translate(21.15625 236.486018)scale(0.1 -0.1)\">\r\n       <defs>\r\n        <path d=\"M 684 794 \r\nL 1344 794 \r\nL 1344 0 \r\nL 684 0 \r\nL 684 794 \r\nz\r\n\" id=\"DejaVuSans-2e\" transform=\"scale(0.015625)\"/>\r\n       </defs>\r\n       <use xlink:href=\"#DejaVuSans-36\"/>\r\n       <use x=\"63.623047\" xlink:href=\"#DejaVuSans-2e\"/>\r\n       <use x=\"95.410156\" xlink:href=\"#DejaVuSans-32\"/>\r\n      </g>\r\n     </g>\r\n    </g>\r\n    <g id=\"ytick_2\">\r\n     <g id=\"line2d_7\">\r\n      <g>\r\n       <use style=\"stroke:#000000;stroke-width:0.8;\" x=\"44.059375\" xlink:href=\"#mae9266c280\" y=\"208.102019\"/>\r\n      </g>\r\n     </g>\r\n     <g id=\"text_8\">\r\n      <!-- 6.3 -->\r\n      <g transform=\"translate(21.15625 211.901238)scale(0.1 -0.1)\">\r\n       <defs>\r\n        <path d=\"M 2597 2516 \r\nQ 3050 2419 3304 2112 \r\nQ 3559 1806 3559 1356 \r\nQ 3559 666 3084 287 \r\nQ 2609 -91 1734 -91 \r\nQ 1441 -91 1130 -33 \r\nQ 819 25 488 141 \r\nL 488 750 \r\nQ 750 597 1062 519 \r\nQ 1375 441 1716 441 \r\nQ 2309 441 2620 675 \r\nQ 2931 909 2931 1356 \r\nQ 2931 1769 2642 2001 \r\nQ 2353 2234 1838 2234 \r\nL 1294 2234 \r\nL 1294 2753 \r\nL 1863 2753 \r\nQ 2328 2753 2575 2939 \r\nQ 2822 3125 2822 3475 \r\nQ 2822 3834 2567 4026 \r\nQ 2313 4219 1838 4219 \r\nQ 1578 4219 1281 4162 \r\nQ 984 4106 628 3988 \r\nL 628 4550 \r\nQ 988 4650 1302 4700 \r\nQ 1616 4750 1894 4750 \r\nQ 2613 4750 3031 4423 \r\nQ 3450 4097 3450 3541 \r\nQ 3450 3153 3228 2886 \r\nQ 3006 2619 2597 2516 \r\nz\r\n\" id=\"DejaVuSans-33\" transform=\"scale(0.015625)\"/>\r\n       </defs>\r\n       <use xlink:href=\"#DejaVuSans-36\"/>\r\n       <use x=\"63.623047\" xlink:href=\"#DejaVuSans-2e\"/>\r\n       <use x=\"95.410156\" xlink:href=\"#DejaVuSans-33\"/>\r\n      </g>\r\n     </g>\r\n    </g>\r\n    <g id=\"ytick_3\">\r\n     <g id=\"line2d_8\">\r\n      <g>\r\n       <use style=\"stroke:#000000;stroke-width:0.8;\" x=\"44.059375\" xlink:href=\"#mae9266c280\" y=\"183.517239\"/>\r\n      </g>\r\n     </g>\r\n     <g id=\"text_9\">\r\n      <!-- 6.4 -->\r\n      <g transform=\"translate(21.15625 187.316457)scale(0.1 -0.1)\">\r\n       <use xlink:href=\"#DejaVuSans-36\"/>\r\n       <use x=\"63.623047\" xlink:href=\"#DejaVuSans-2e\"/>\r\n       <use x=\"95.410156\" xlink:href=\"#DejaVuSans-34\"/>\r\n      </g>\r\n     </g>\r\n    </g>\r\n    <g id=\"ytick_4\">\r\n     <g id=\"line2d_9\">\r\n      <g>\r\n       <use style=\"stroke:#000000;stroke-width:0.8;\" x=\"44.059375\" xlink:href=\"#mae9266c280\" y=\"158.932458\"/>\r\n      </g>\r\n     </g>\r\n     <g id=\"text_10\">\r\n      <!-- 6.5 -->\r\n      <g transform=\"translate(21.15625 162.731677)scale(0.1 -0.1)\">\r\n       <defs>\r\n        <path d=\"M 691 4666 \r\nL 3169 4666 \r\nL 3169 4134 \r\nL 1269 4134 \r\nL 1269 2991 \r\nQ 1406 3038 1543 3061 \r\nQ 1681 3084 1819 3084 \r\nQ 2600 3084 3056 2656 \r\nQ 3513 2228 3513 1497 \r\nQ 3513 744 3044 326 \r\nQ 2575 -91 1722 -91 \r\nQ 1428 -91 1123 -41 \r\nQ 819 9 494 109 \r\nL 494 744 \r\nQ 775 591 1075 516 \r\nQ 1375 441 1709 441 \r\nQ 2250 441 2565 725 \r\nQ 2881 1009 2881 1497 \r\nQ 2881 1984 2565 2268 \r\nQ 2250 2553 1709 2553 \r\nQ 1456 2553 1204 2497 \r\nQ 953 2441 691 2322 \r\nL 691 4666 \r\nz\r\n\" id=\"DejaVuSans-35\" transform=\"scale(0.015625)\"/>\r\n       </defs>\r\n       <use xlink:href=\"#DejaVuSans-36\"/>\r\n       <use x=\"63.623047\" xlink:href=\"#DejaVuSans-2e\"/>\r\n       <use x=\"95.410156\" xlink:href=\"#DejaVuSans-35\"/>\r\n      </g>\r\n     </g>\r\n    </g>\r\n    <g id=\"ytick_5\">\r\n     <g id=\"line2d_10\">\r\n      <g>\r\n       <use style=\"stroke:#000000;stroke-width:0.8;\" x=\"44.059375\" xlink:href=\"#mae9266c280\" y=\"134.347678\"/>\r\n      </g>\r\n     </g>\r\n     <g id=\"text_11\">\r\n      <!-- 6.6 -->\r\n      <g transform=\"translate(21.15625 138.146896)scale(0.1 -0.1)\">\r\n       <use xlink:href=\"#DejaVuSans-36\"/>\r\n       <use x=\"63.623047\" xlink:href=\"#DejaVuSans-2e\"/>\r\n       <use x=\"95.410156\" xlink:href=\"#DejaVuSans-36\"/>\r\n      </g>\r\n     </g>\r\n    </g>\r\n    <g id=\"ytick_6\">\r\n     <g id=\"line2d_11\">\r\n      <g>\r\n       <use style=\"stroke:#000000;stroke-width:0.8;\" x=\"44.059375\" xlink:href=\"#mae9266c280\" y=\"109.762897\"/>\r\n      </g>\r\n     </g>\r\n     <g id=\"text_12\">\r\n      <!-- 6.7 -->\r\n      <g transform=\"translate(21.15625 113.562116)scale(0.1 -0.1)\">\r\n       <defs>\r\n        <path d=\"M 525 4666 \r\nL 3525 4666 \r\nL 3525 4397 \r\nL 1831 0 \r\nL 1172 0 \r\nL 2766 4134 \r\nL 525 4134 \r\nL 525 4666 \r\nz\r\n\" id=\"DejaVuSans-37\" transform=\"scale(0.015625)\"/>\r\n       </defs>\r\n       <use xlink:href=\"#DejaVuSans-36\"/>\r\n       <use x=\"63.623047\" xlink:href=\"#DejaVuSans-2e\"/>\r\n       <use x=\"95.410156\" xlink:href=\"#DejaVuSans-37\"/>\r\n      </g>\r\n     </g>\r\n    </g>\r\n    <g id=\"ytick_7\">\r\n     <g id=\"line2d_12\">\r\n      <g>\r\n       <use style=\"stroke:#000000;stroke-width:0.8;\" x=\"44.059375\" xlink:href=\"#mae9266c280\" y=\"85.178117\"/>\r\n      </g>\r\n     </g>\r\n     <g id=\"text_13\">\r\n      <!-- 6.8 -->\r\n      <g transform=\"translate(21.15625 88.977336)scale(0.1 -0.1)\">\r\n       <use xlink:href=\"#DejaVuSans-36\"/>\r\n       <use x=\"63.623047\" xlink:href=\"#DejaVuSans-2e\"/>\r\n       <use x=\"95.410156\" xlink:href=\"#DejaVuSans-38\"/>\r\n      </g>\r\n     </g>\r\n    </g>\r\n    <g id=\"ytick_8\">\r\n     <g id=\"line2d_13\">\r\n      <g>\r\n       <use style=\"stroke:#000000;stroke-width:0.8;\" x=\"44.059375\" xlink:href=\"#mae9266c280\" y=\"60.593336\"/>\r\n      </g>\r\n     </g>\r\n     <g id=\"text_14\">\r\n      <!-- 6.9 -->\r\n      <g transform=\"translate(21.15625 64.392555)scale(0.1 -0.1)\">\r\n       <use xlink:href=\"#DejaVuSans-36\"/>\r\n       <use x=\"63.623047\" xlink:href=\"#DejaVuSans-2e\"/>\r\n       <use x=\"95.410156\" xlink:href=\"#DejaVuSans-39\"/>\r\n      </g>\r\n     </g>\r\n    </g>\r\n    <g id=\"ytick_9\">\r\n     <g id=\"line2d_14\">\r\n      <g>\r\n       <use style=\"stroke:#000000;stroke-width:0.8;\" x=\"44.059375\" xlink:href=\"#mae9266c280\" y=\"36.008556\"/>\r\n      </g>\r\n     </g>\r\n     <g id=\"text_15\">\r\n      <!-- 7.0 -->\r\n      <g transform=\"translate(21.15625 39.807775)scale(0.1 -0.1)\">\r\n       <use xlink:href=\"#DejaVuSans-37\"/>\r\n       <use x=\"63.623047\" xlink:href=\"#DejaVuSans-2e\"/>\r\n       <use x=\"95.410156\" xlink:href=\"#DejaVuSans-30\"/>\r\n      </g>\r\n     </g>\r\n    </g>\r\n    <g id=\"text_16\">\r\n     <!-- netflix_rating -->\r\n     <g transform=\"translate(14.798438 164.052969)rotate(-90)scale(0.1 -0.1)\">\r\n      <defs>\r\n       <path d=\"M 3513 2113 \r\nL 3513 0 \r\nL 2938 0 \r\nL 2938 2094 \r\nQ 2938 2591 2744 2837 \r\nQ 2550 3084 2163 3084 \r\nQ 1697 3084 1428 2787 \r\nQ 1159 2491 1159 1978 \r\nL 1159 0 \r\nL 581 0 \r\nL 581 3500 \r\nL 1159 3500 \r\nL 1159 2956 \r\nQ 1366 3272 1645 3428 \r\nQ 1925 3584 2291 3584 \r\nQ 2894 3584 3203 3211 \r\nQ 3513 2838 3513 2113 \r\nz\r\n\" id=\"DejaVuSans-6e\" transform=\"scale(0.015625)\"/>\r\n       <path d=\"M 1172 4494 \r\nL 1172 3500 \r\nL 2356 3500 \r\nL 2356 3053 \r\nL 1172 3053 \r\nL 1172 1153 \r\nQ 1172 725 1289 603 \r\nQ 1406 481 1766 481 \r\nL 2356 481 \r\nL 2356 0 \r\nL 1766 0 \r\nQ 1100 0 847 248 \r\nQ 594 497 594 1153 \r\nL 594 3053 \r\nL 172 3053 \r\nL 172 3500 \r\nL 594 3500 \r\nL 594 4494 \r\nL 1172 4494 \r\nz\r\n\" id=\"DejaVuSans-74\" transform=\"scale(0.015625)\"/>\r\n       <path d=\"M 2375 4863 \r\nL 2375 4384 \r\nL 1825 4384 \r\nQ 1516 4384 1395 4259 \r\nQ 1275 4134 1275 3809 \r\nL 1275 3500 \r\nL 2222 3500 \r\nL 2222 3053 \r\nL 1275 3053 \r\nL 1275 0 \r\nL 697 0 \r\nL 697 3053 \r\nL 147 3053 \r\nL 147 3500 \r\nL 697 3500 \r\nL 697 3744 \r\nQ 697 4328 969 4595 \r\nQ 1241 4863 1831 4863 \r\nL 2375 4863 \r\nz\r\n\" id=\"DejaVuSans-66\" transform=\"scale(0.015625)\"/>\r\n       <path d=\"M 603 4863 \r\nL 1178 4863 \r\nL 1178 0 \r\nL 603 0 \r\nL 603 4863 \r\nz\r\n\" id=\"DejaVuSans-6c\" transform=\"scale(0.015625)\"/>\r\n       <path d=\"M 603 3500 \r\nL 1178 3500 \r\nL 1178 0 \r\nL 603 0 \r\nL 603 3500 \r\nz\r\nM 603 4863 \r\nL 1178 4863 \r\nL 1178 4134 \r\nL 603 4134 \r\nL 603 4863 \r\nz\r\n\" id=\"DejaVuSans-69\" transform=\"scale(0.015625)\"/>\r\n       <path d=\"M 3513 3500 \r\nL 2247 1797 \r\nL 3578 0 \r\nL 2900 0 \r\nL 1881 1375 \r\nL 863 0 \r\nL 184 0 \r\nL 1544 1831 \r\nL 300 3500 \r\nL 978 3500 \r\nL 1906 2253 \r\nL 2834 3500 \r\nL 3513 3500 \r\nz\r\n\" id=\"DejaVuSans-78\" transform=\"scale(0.015625)\"/>\r\n       <path d=\"M 3263 -1063 \r\nL 3263 -1509 \r\nL -63 -1509 \r\nL -63 -1063 \r\nL 3263 -1063 \r\nz\r\n\" id=\"DejaVuSans-5f\" transform=\"scale(0.015625)\"/>\r\n       <path d=\"M 2906 1791 \r\nQ 2906 2416 2648 2759 \r\nQ 2391 3103 1925 3103 \r\nQ 1463 3103 1205 2759 \r\nQ 947 2416 947 1791 \r\nQ 947 1169 1205 825 \r\nQ 1463 481 1925 481 \r\nQ 2391 481 2648 825 \r\nQ 2906 1169 2906 1791 \r\nz\r\nM 3481 434 \r\nQ 3481 -459 3084 -895 \r\nQ 2688 -1331 1869 -1331 \r\nQ 1566 -1331 1297 -1286 \r\nQ 1028 -1241 775 -1147 \r\nL 775 -588 \r\nQ 1028 -725 1275 -790 \r\nQ 1522 -856 1778 -856 \r\nQ 2344 -856 2625 -561 \r\nQ 2906 -266 2906 331 \r\nL 2906 616 \r\nQ 2728 306 2450 153 \r\nQ 2172 0 1784 0 \r\nQ 1141 0 747 490 \r\nQ 353 981 353 1791 \r\nQ 353 2603 747 3093 \r\nQ 1141 3584 1784 3584 \r\nQ 2172 3584 2450 3431 \r\nQ 2728 3278 2906 2969 \r\nL 2906 3500 \r\nL 3481 3500 \r\nL 3481 434 \r\nz\r\n\" id=\"DejaVuSans-67\" transform=\"scale(0.015625)\"/>\r\n      </defs>\r\n      <use xlink:href=\"#DejaVuSans-6e\"/>\r\n      <use x=\"63.378906\" xlink:href=\"#DejaVuSans-65\"/>\r\n      <use x=\"124.902344\" xlink:href=\"#DejaVuSans-74\"/>\r\n      <use x=\"164.111328\" xlink:href=\"#DejaVuSans-66\"/>\r\n      <use x=\"199.316406\" xlink:href=\"#DejaVuSans-6c\"/>\r\n      <use x=\"227.099609\" xlink:href=\"#DejaVuSans-69\"/>\r\n      <use x=\"254.882812\" xlink:href=\"#DejaVuSans-78\"/>\r\n      <use x=\"314.0625\" xlink:href=\"#DejaVuSans-5f\"/>\r\n      <use x=\"364.0625\" xlink:href=\"#DejaVuSans-72\"/>\r\n      <use x=\"405.175781\" xlink:href=\"#DejaVuSans-61\"/>\r\n      <use x=\"466.455078\" xlink:href=\"#DejaVuSans-74\"/>\r\n      <use x=\"505.664062\" xlink:href=\"#DejaVuSans-69\"/>\r\n      <use x=\"533.447266\" xlink:href=\"#DejaVuSans-6e\"/>\r\n      <use x=\"596.826172\" xlink:href=\"#DejaVuSans-67\"/>\r\n     </g>\r\n    </g>\r\n   </g>\r\n   <g id=\"line2d_15\">\r\n    <path clip-path=\"url(#p60241cb8aa)\" d=\"M 59.277557 192.457159 \r\nL 93.095739 168.749646 \r\nL 126.91392 64.295919 \r\nL 160.732102 32.201761 \r\nL 194.550284 64.097459 \r\nL 228.368466 73.836128 \r\nL 262.186648 158.01333 \r\nL 296.00483 150.882432 \r\nL 329.823011 176.427694 \r\nL 363.641193 229.874489 \r\n\" style=\"fill:none;stroke:#1f77b4;stroke-linecap:square;stroke-width:1.5;\"/>\r\n   </g>\r\n   <g id=\"patch_3\">\r\n    <path d=\"M 44.059375 239.758125 \r\nL 44.059375 22.318125 \r\n\" style=\"fill:none;stroke:#000000;stroke-linecap:square;stroke-linejoin:miter;stroke-width:0.8;\"/>\r\n   </g>\r\n   <g id=\"patch_4\">\r\n    <path d=\"M 378.859375 239.758125 \r\nL 378.859375 22.318125 \r\n\" style=\"fill:none;stroke:#000000;stroke-linecap:square;stroke-linejoin:miter;stroke-width:0.8;\"/>\r\n   </g>\r\n   <g id=\"patch_5\">\r\n    <path d=\"M 44.059375 239.758125 \r\nL 378.859375 239.758125 \r\n\" style=\"fill:none;stroke:#000000;stroke-linecap:square;stroke-linejoin:miter;stroke-width:0.8;\"/>\r\n   </g>\r\n   <g id=\"patch_6\">\r\n    <path d=\"M 44.059375 22.318125 \r\nL 378.859375 22.318125 \r\n\" style=\"fill:none;stroke:#000000;stroke-linecap:square;stroke-linejoin:miter;stroke-width:0.8;\"/>\r\n   </g>\r\n   <g id=\"text_17\">\r\n    <!-- netflix_rating evolution over time -->\r\n    <g transform=\"translate(111.308125 16.318125)scale(0.12 -0.12)\">\r\n     <defs>\r\n      <path id=\"DejaVuSans-20\" transform=\"scale(0.015625)\"/>\r\n      <path d=\"M 191 3500 \r\nL 800 3500 \r\nL 1894 563 \r\nL 2988 3500 \r\nL 3597 3500 \r\nL 2284 0 \r\nL 1503 0 \r\nL 191 3500 \r\nz\r\n\" id=\"DejaVuSans-76\" transform=\"scale(0.015625)\"/>\r\n      <path d=\"M 1959 3097 \r\nQ 1497 3097 1228 2736 \r\nQ 959 2375 959 1747 \r\nQ 959 1119 1226 758 \r\nQ 1494 397 1959 397 \r\nQ 2419 397 2687 759 \r\nQ 2956 1122 2956 1747 \r\nQ 2956 2369 2687 2733 \r\nQ 2419 3097 1959 3097 \r\nz\r\nM 1959 3584 \r\nQ 2709 3584 3137 3096 \r\nQ 3566 2609 3566 1747 \r\nQ 3566 888 3137 398 \r\nQ 2709 -91 1959 -91 \r\nQ 1206 -91 779 398 \r\nQ 353 888 353 1747 \r\nQ 353 2609 779 3096 \r\nQ 1206 3584 1959 3584 \r\nz\r\n\" id=\"DejaVuSans-6f\" transform=\"scale(0.015625)\"/>\r\n      <path d=\"M 544 1381 \r\nL 544 3500 \r\nL 1119 3500 \r\nL 1119 1403 \r\nQ 1119 906 1312 657 \r\nQ 1506 409 1894 409 \r\nQ 2359 409 2629 706 \r\nQ 2900 1003 2900 1516 \r\nL 2900 3500 \r\nL 3475 3500 \r\nL 3475 0 \r\nL 2900 0 \r\nL 2900 538 \r\nQ 2691 219 2414 64 \r\nQ 2138 -91 1772 -91 \r\nQ 1169 -91 856 284 \r\nQ 544 659 544 1381 \r\nz\r\nM 1991 3584 \r\nL 1991 3584 \r\nz\r\n\" id=\"DejaVuSans-75\" transform=\"scale(0.015625)\"/>\r\n      <path d=\"M 3328 2828 \r\nQ 3544 3216 3844 3400 \r\nQ 4144 3584 4550 3584 \r\nQ 5097 3584 5394 3201 \r\nQ 5691 2819 5691 2113 \r\nL 5691 0 \r\nL 5113 0 \r\nL 5113 2094 \r\nQ 5113 2597 4934 2840 \r\nQ 4756 3084 4391 3084 \r\nQ 3944 3084 3684 2787 \r\nQ 3425 2491 3425 1978 \r\nL 3425 0 \r\nL 2847 0 \r\nL 2847 2094 \r\nQ 2847 2600 2669 2842 \r\nQ 2491 3084 2119 3084 \r\nQ 1678 3084 1418 2786 \r\nQ 1159 2488 1159 1978 \r\nL 1159 0 \r\nL 581 0 \r\nL 581 3500 \r\nL 1159 3500 \r\nL 1159 2956 \r\nQ 1356 3278 1631 3431 \r\nQ 1906 3584 2284 3584 \r\nQ 2666 3584 2933 3390 \r\nQ 3200 3197 3328 2828 \r\nz\r\n\" id=\"DejaVuSans-6d\" transform=\"scale(0.015625)\"/>\r\n     </defs>\r\n     <use xlink:href=\"#DejaVuSans-6e\"/>\r\n     <use x=\"63.378906\" xlink:href=\"#DejaVuSans-65\"/>\r\n     <use x=\"124.902344\" xlink:href=\"#DejaVuSans-74\"/>\r\n     <use x=\"164.111328\" xlink:href=\"#DejaVuSans-66\"/>\r\n     <use x=\"199.316406\" xlink:href=\"#DejaVuSans-6c\"/>\r\n     <use x=\"227.099609\" xlink:href=\"#DejaVuSans-69\"/>\r\n     <use x=\"254.882812\" xlink:href=\"#DejaVuSans-78\"/>\r\n     <use x=\"314.0625\" xlink:href=\"#DejaVuSans-5f\"/>\r\n     <use x=\"364.0625\" xlink:href=\"#DejaVuSans-72\"/>\r\n     <use x=\"405.175781\" xlink:href=\"#DejaVuSans-61\"/>\r\n     <use x=\"466.455078\" xlink:href=\"#DejaVuSans-74\"/>\r\n     <use x=\"505.664062\" xlink:href=\"#DejaVuSans-69\"/>\r\n     <use x=\"533.447266\" xlink:href=\"#DejaVuSans-6e\"/>\r\n     <use x=\"596.826172\" xlink:href=\"#DejaVuSans-67\"/>\r\n     <use x=\"660.302734\" xlink:href=\"#DejaVuSans-20\"/>\r\n     <use x=\"692.089844\" xlink:href=\"#DejaVuSans-65\"/>\r\n     <use x=\"753.613281\" xlink:href=\"#DejaVuSans-76\"/>\r\n     <use x=\"812.792969\" xlink:href=\"#DejaVuSans-6f\"/>\r\n     <use x=\"873.974609\" xlink:href=\"#DejaVuSans-6c\"/>\r\n     <use x=\"901.757812\" xlink:href=\"#DejaVuSans-75\"/>\r\n     <use x=\"965.136719\" xlink:href=\"#DejaVuSans-74\"/>\r\n     <use x=\"1004.345703\" xlink:href=\"#DejaVuSans-69\"/>\r\n     <use x=\"1032.128906\" xlink:href=\"#DejaVuSans-6f\"/>\r\n     <use x=\"1093.310547\" xlink:href=\"#DejaVuSans-6e\"/>\r\n     <use x=\"1156.689453\" xlink:href=\"#DejaVuSans-20\"/>\r\n     <use x=\"1188.476562\" xlink:href=\"#DejaVuSans-6f\"/>\r\n     <use x=\"1249.658203\" xlink:href=\"#DejaVuSans-76\"/>\r\n     <use x=\"1308.837891\" xlink:href=\"#DejaVuSans-65\"/>\r\n     <use x=\"1370.361328\" xlink:href=\"#DejaVuSans-72\"/>\r\n     <use x=\"1411.474609\" xlink:href=\"#DejaVuSans-20\"/>\r\n     <use x=\"1443.261719\" xlink:href=\"#DejaVuSans-74\"/>\r\n     <use x=\"1482.470703\" xlink:href=\"#DejaVuSans-69\"/>\r\n     <use x=\"1510.253906\" xlink:href=\"#DejaVuSans-6d\"/>\r\n     <use x=\"1607.666016\" xlink:href=\"#DejaVuSans-65\"/>\r\n    </g>\r\n   </g>\r\n  </g>\r\n </g>\r\n <defs>\r\n  <clipPath id=\"p60241cb8aa\">\r\n   <rect height=\"217.44\" width=\"334.8\" x=\"44.059375\" y=\"22.318125\"/>\r\n  </clipPath>\r\n </defs>\r\n</svg>\r\n",
      "image/png": "[encoded data removed]"
     },
     "metadata": {
      "needs_background": "light"
     }
    }
   ],
   "source": [
    "viz.plot_year_lineplot()"
   ]
  },
  {
   "cell_type": "code",
   "execution_count": 9,
   "metadata": {},
   "outputs": [
    {
     "output_type": "display_data",
     "data": {
      "text/plain": "<Figure size 432x288 with 1 Axes>",
      "image/svg+xml": "<?xml version=\"1.0\" encoding=\"utf-8\" standalone=\"no\"?>\r\n<!DOCTYPE svg PUBLIC \"-//W3C//DTD SVG 1.1//EN\"\r\n  \"http://www.w3.org/Graphics/SVG/1.1/DTD/svg11.dtd\">\r\n<svg height=\"181.8pt\" version=\"1.1\" viewBox=\"0 0 349.2 181.8\" width=\"349.2pt\" xmlns=\"http://www.w3.org/2000/svg\" xmlns:xlink=\"http://www.w3.org/1999/xlink\">\r\n <metadata>\r\n  <rdf:RDF xmlns:cc=\"http://creativecommons.org/ns#\" xmlns:dc=\"http://purl.org/dc/elements/1.1/\" xmlns:rdf=\"http://www.w3.org/1999/02/22-rdf-syntax-ns#\">\r\n   <cc:Work>\r\n    <dc:type rdf:resource=\"http://purl.org/dc/dcmitype/StillImage\"/>\r\n    <dc:date>2021-06-01T12:28:07.269243</dc:date>\r\n    <dc:format>image/svg+xml</dc:format>\r\n    <dc:creator>\r\n     <cc:Agent>\r\n      <dc:title>Matplotlib v3.4.1, https://matplotlib.org/</dc:title>\r\n     </cc:Agent>\r\n    </dc:creator>\r\n   </cc:Work>\r\n  </rdf:RDF>\r\n </metadata>\r\n <defs>\r\n  <style type=\"text/css\">*{stroke-linecap:butt;stroke-linejoin:round;}</style>\r\n </defs>\r\n <g id=\"figure_1\">\r\n  <g id=\"patch_1\">\r\n   <path d=\"M 0 181.8 \r\nL 349.2 181.8 \r\nL 349.2 0 \r\nL 0 0 \r\nz\r\n\" style=\"fill:none;\"/>\r\n  </g>\r\n  <g id=\"axes_1\">\r\n   <g clip-path=\"url(#p32da700c70)\">\r\n    <image height=\"168\" id=\"imagea2bc2a5a72\" transform=\"scale(1 -1)translate(0 -168)\" width=\"335\" x=\"7.2\" xlink:href=\"data:image/png;base64,\r\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\" y=\"-6.6\"/>\r\n   </g>\r\n  </g>\r\n </g>\r\n <defs>\r\n  <clipPath id=\"p32da700c70\">\r\n   <rect height=\"167.4\" width=\"334.8\" x=\"7.2\" y=\"7.2\"/>\r\n  </clipPath>\r\n </defs>\r\n</svg>\r\n",
      "image/png": "[encoded data removed]"
     },
     "metadata": {
      "needs_background": "light"
     }
    }
   ],
   "source": [
    "viz.generate_wordcloud('Romance') #Romance WordCloud example."
   ]
  },
  {
   "cell_type": "code",
   "execution_count": 10,
   "metadata": {},
   "outputs": [
    {
     "output_type": "display_data",
     "data": {
      "application/vnd.plotly.v1+json": {
       "config": {
        "plotlyServerURL": "https://plot.ly"
       },
       "data": [
        {
         "branchvalues": "total",
         "customdata": [
          [
           6.2224341034887845
          ],
          [
           7.027787299409381
          ],
          [
           6.906799812274757
          ],
          [
           7.0733613508800115
          ],
          [
           6.949688718853177
          ],
          [
           6.92705695408207
          ],
          [
           6.795146898859097
          ],
          [
           6.929493268415761
          ],
          [
           6.9551841692760235
          ],
          [
           6.916896994789228
          ],
          [
           6.351229507645311
          ],
          [
           6.721072632139763
          ],
          [
           6.386891306579
          ],
          [
           6.376080342149465
          ],
          [
           6.465405490968692
          ],
          [
           6.786108871518495
          ],
          [
           6.788985248047541
          ],
          [
           6.309854852239401
          ],
          [
           7.174398923072788
          ],
          [
           6.750653436888491
          ],
          [
           7.035948742708228
          ],
          [
           6.891814433470241
          ],
          [
           6.979768246559384
          ],
          [
           6.7784397125642855
          ],
          [
           6.707571475023413
          ],
          [
           6.776455849816242
          ],
          [
           6.77849674999397
          ],
          [
           7.022758455346263
          ],
          [
           6.487876382564927
          ],
          [
           6.753828893376886
          ],
          [
           5.626418034723319
          ],
          [
           6.781758874168192
          ],
          [
           7.051434035523243
          ],
          [
           6.532480729646347
          ],
          [
           6.33333157374632
          ],
          [
           6.346363640908568
          ],
          [
           6.740102992158381
          ],
          [
           6.565375204853618
          ],
          [
           6.476243694649054
          ],
          [
           6.53186782056428
          ],
          [
           6.269219970942396
          ],
          [
           6.859268589807575
          ],
          [
           6.442643908637098
          ],
          [
           6.281332606696227
          ],
          [
           6.74808143715863
          ],
          [
           7.072492733995231
          ],
          [
           6.957804958489726
          ],
          [
           6.225535353166274
          ],
          [
           7.164137828009999
          ],
          [
           6.669264549927725
          ],
          [
           6.882704117560124
          ],
          [
           6.648927118635071
          ],
          [
           6.277663558658006
          ],
          [
           5.417108993285102
          ],
          [
           6.137367589272294
          ],
          [
           6.783785220169906
          ],
          [
           6.498018303737298
          ],
          [
           6.661473720942775
          ],
          [
           6.7300129413670176
          ],
          [
           7.220448627152503
          ],
          [
           6.916295582920161
          ],
          [
           6.4748456433228405
          ],
          [
           6.514854310140347
          ],
          [
           6.589686323289676
          ],
          [
           6.91922999254812
          ],
          [
           6.702387117321938
          ],
          [
           6.672068665705947
          ],
          [
           6.692762409051594
          ],
          [
           6.745321615998404
          ],
          [
           6.633788707250357
          ],
          [
           6.562997329741332
          ],
          [
           6.893100135087677
          ],
          [
           6.818107891842889
          ],
          [
           7.074265638867366
          ],
          [
           6.749901905524451
          ],
          [
           6.208894765828067
          ],
          [
           6.9730274060191615
          ],
          [
           6.539954566844731
          ],
          [
           7.245309104277341
          ],
          [
           6.656322694124285
          ],
          [
           6.602153856211
          ],
          [
           6.282624267056393
          ],
          [
           6.794875660930258
          ],
          [
           5.832747788639844
          ],
          [
           6.700957751602057
          ],
          [
           6.330760630075729
          ],
          [
           6.520745782367637
          ],
          [
           6.663779400244938
          ],
          [
           6.640686662388553
          ],
          [
           6.836528656108785
          ],
          [
           6.7223811469225065
          ],
          [
           6.576261967464315
          ],
          [
           6.9578061916783165
          ],
          [
           6.8000735395944805
          ],
          [
           6.816808438629274
          ],
          [
           6.340809277967418
          ],
          [
           6.762189536787423
          ],
          [
           6.698024989011479
          ],
          [
           6.415037723324576
          ],
          [
           6.457871699433044
          ],
          [
           6.7954815940725615
          ],
          [
           7.079708486041695
          ],
          [
           6.394742236673122
          ],
          [
           6.861253501170356
          ],
          [
           6.706736178537255
          ],
          [
           6.881356434301637
          ],
          [
           6.99070760059788
          ],
          [
           6.403032421383086
          ],
          [
           6.697940628139657
          ],
          [
           6.875483929393053
          ],
          [
           6.801293505825231
          ],
          [
           6.910418721704493
          ],
          [
           6.744440611786679
          ],
          [
           6.6193471065057645
          ],
          [
           7.221426763119121
          ],
          [
           6.003973677937551
          ],
          [
           6.460753454700769
          ],
          [
           5.500760306508744
          ],
          [
           5.972518506295315
          ],
          [
           6.151472270236368
          ],
          [
           6.821674650553276
          ],
          [
           6.3491890191232
          ],
          [
           6.402049912301041
          ],
          [
           7.061085525902971
          ],
          [
           6.318587442964708
          ],
          [
           6.660097445798341
          ],
          [
           6.417057050916249
          ],
          [
           6.3036061995708375
          ],
          [
           6.448127903151295
          ],
          [
           6.536024265914858
          ],
          [
           6.740947493845966
          ],
          [
           6.146416201828722
          ],
          [
           6.64051002458912
          ],
          [
           6.641837484915408
          ],
          [
           6.236079665190686
          ],
          [
           6.942576428028624
          ],
          [
           6.684123519451122
          ],
          [
           7.144344638660155
          ],
          [
           7.004649720862632
          ],
          [
           6.947393298128446
          ],
          [
           6.682605916215412
          ],
          [
           6.640441894478744
          ],
          [
           5.743227451317953
          ],
          [
           6.057374783119399
          ],
          [
           6.815374208661607
          ],
          [
           6.551106932071062
          ],
          [
           7.077311533497445
          ],
          [
           6.754649602261505
          ],
          [
           6.436404571272036
          ],
          [
           6.724860483732969
          ],
          [
           5.534993366538591
          ],
          [
           6.571452217262781
          ],
          [
           6.407578570556659
          ],
          [
           6.590361622108172
          ],
          [
           7.2492641843127625
          ],
          [
           6.836566486922054
          ],
          [
           6.483491626811508
          ],
          [
           6.322672273298059
          ],
          [
           6.81932737701772
          ],
          [
           6.5142921998478815
          ],
          [
           6.884656428292298
          ],
          [
           6.670272034738287
          ],
          [
           6.993454490869456
          ],
          [
           6.884023652369649
          ],
          [
           5.833693470458877
          ],
          [
           6.740864338438453
          ],
          [
           6.7854143546886085
          ],
          [
           6.324913357577935
          ],
          [
           6.568838295217589
          ],
          [
           6.35212470842655
          ],
          [
           6.93170355535389
          ],
          [
           6.20335304617996
          ],
          [
           6.927921954157053
          ],
          [
           6.630158023454609
          ],
          [
           6.762084030661918
          ],
          [
           6.74470918354622
          ],
          [
           7.110807092109036
          ],
          [
           7.127671369479967
          ],
          [
           6.308580897920248
          ],
          [
           6.730091826570038
          ],
          [
           6.6346677099663545
          ],
          [
           6.469363057894013
          ],
          [
           6.447312172516836
          ],
          [
           6.6697140636868495
          ],
          [
           6.776888196456726
          ],
          [
           6.634039910174409
          ],
          [
           6.2902903492884255
          ],
          [
           6.505293968852674
          ],
          [
           6.785153705054065
          ],
          [
           6.364396959881188
          ],
          [
           6.436780950210754
          ],
          [
           6.468851377225295
          ],
          [
           6.355097234634513
          ],
          [
           7.397246803898646
          ],
          [
           6.879964119700063
          ],
          [
           5.896493516659814
          ],
          [
           6.667349309257617
          ],
          [
           6.584407495985043
          ],
          [
           6.540965797155763
          ],
          [
           6.135302707526247
          ],
          [
           6.337495470602528
          ],
          [
           6.854841623354627
          ],
          [
           7.018840543487444
          ],
          [
           6.786495940224939
          ],
          [
           6.819724684445865
          ],
          [
           6.394568922698164
          ],
          [
           6.405078418265694
          ],
          [
           6.540267394566702
          ],
          [
           6.457905821680753
          ],
          [
           6.338471521862459
          ],
          [
           7.17459525154327
          ],
          [
           6.988001767509108
          ],
          [
           6.729857590536164
          ],
          [
           6.793335011527955
          ],
          [
           6.947355721108411
          ],
          [
           6.496906821767505
          ],
          [
           7.363305083523243
          ],
          [
           6.54590998917504
          ],
          [
           6.564418146825485
          ],
          [
           6.577785218849984
          ],
          [
           6.347921948990272
          ],
          [
           7.077620706234928
          ],
          [
           6.802797545104417
          ],
          [
           6.806356191714106
          ],
          [
           6.508076391892375
          ],
          [
           5.712842548483209
          ],
          [
           6.281996121907144
          ],
          [
           6.364919996595193
          ],
          [
           6.600155498707556
          ],
          [
           7.074784263373221
          ],
          [
           6.905344440191755
          ],
          [
           6.472486199585429
          ],
          [
           6.445086587454107
          ],
          [
           6.882612503958053
          ],
          [
           6.568935730983004
          ],
          [
           6.883255638761288
          ],
          [
           6.584932512603288
          ],
          [
           6.760145362332249
          ],
          [
           7.200618165304257
          ],
          [
           5.657499129908906
          ],
          [
           6.799224561030463
          ],
          [
           6.952856580082045
          ],
          [
           6.443565077686985
          ],
          [
           6.659414246375178
          ],
          [
           6.303755822519249
          ],
          [
           6.806072496372061
          ],
          [
           6.920320827673192
          ],
          [
           6.302426645713654
          ],
          [
           6.856156624013491
          ],
          [
           6.648034339693983
          ],
          [
           6.939698768721758
          ],
          [
           6.606265714964502
          ],
          [
           6.370347436206638
          ],
          [
           6.366931616855607
          ],
          [
           6.5540897450777145
          ],
          [
           6.883947284410818
          ],
          [
           6.371893541550497
          ],
          [
           5.742298976114243
          ],
          [
           6.375852307369843
          ],
          [
           6.311717401344961
          ],
          [
           6.708250470859842
          ],
          [
           6.394488386041743
          ],
          [
           6.590505478004768
          ],
          [
           7.072347337088956
          ],
          [
           6.95135814541663
          ],
          [
           6.443737402591539
          ],
          [
           6.454913784656648
          ],
          [
           6.538439467253133
          ],
          [
           6.9536759935887
          ],
          [
           6.641333634678857
          ],
          [
           7.111612829255555
          ],
          [
           7.072113638817259
          ],
          [
           5.883863460069072
          ],
          [
           6.696625896587638
          ],
          [
           6.864079586106826
          ],
          [
           6.591457793573534
          ],
          [
           6.313036639167838
          ],
          [
           6.830610258277107
          ],
          [
           6.311686456638208
          ],
          [
           6.381223324419057
          ],
          [
           6.624643195039573
          ],
          [
           6.970855292478442
          ],
          [
           6.369491890917292
          ],
          [
           6.596263071889212
          ],
          [
           6.543107013947586
          ],
          [
           6.38858088882964
          ],
          [
           6.94881617693549
          ],
          [
           7.053460807606969
          ],
          [
           6.554256786596644
          ],
          [
           6.497296376466699
          ],
          [
           6.686696987320314
          ],
          [
           6.40277851363114
          ],
          [
           6.900193980928396
          ],
          [
           6.737228745658029
          ],
          [
           6.770217055417699
          ],
          [
           5.640747717563508
          ],
          [
           6.444905314500157
          ],
          [
           6.254679578394466
          ],
          [
           6.272969849166421
          ],
          [
           6.282142861658091
          ],
          [
           6.207737994638373
          ],
          [
           6.382479056432902
          ],
          [
           7.062710430045169
          ],
          [
           6.425567947430675
          ],
          [
           6.218482997629486
          ],
          [
           6.607670885105784
          ],
          [
           6.945287141324964
          ],
          [
           6.076028373015273
          ],
          [
           5.843746530306957
          ],
          [
           6.469342737545197
          ],
          [
           5.978852491721427
          ],
          [
           6.110031281858552
          ],
          [
           6.329026257863166
          ],
          [
           6.222242300193999
          ],
          [
           6.562983025208805
          ],
          [
           6.64940837763401
          ],
          [
           6.9761051287638045
          ],
          [
           6.842322020362804
          ],
          [
           6.759909495960582
          ],
          [
           6.5715068319400585
          ],
          [
           6.723971825332328
          ],
          [
           6.5087715854369
          ],
          [
           7.041620877167926
          ],
          [
           6.96344106978391
          ],
          [
           6.695493798014173
          ],
          [
           6.565684144213408
          ],
          [
           6.860480488229792
          ],
          [
           6.932170368382898
          ],
          [
           5.84176525310811
          ],
          [
           6.370615849921019
          ],
          [
           6.439027197853887
          ],
          [
           6.337545871744043
          ],
          [
           6.8211781066523685
          ],
          [
           6.50564662682052
          ],
          [
           6.728772990712479
          ],
          [
           7.083732821854961
          ],
          [
           6.570791754638968
          ],
          [
           6.412596406766907
          ],
          [
           6.562100383858933
          ],
          [
           6.772635283134433
          ],
          [
           6.493781635411526
          ],
          [
           6.8213042596160935
          ],
          [
           6.410088432415751
          ],
          [
           6.673514593894546
          ],
          [
           6.368435242755265
          ],
          [
           6.2651228165263335
          ],
          [
           7.076800105244447
          ],
          [
           6.856234842285723
          ],
          [
           5.832813643932245
          ],
          [
           6.675777542453517
          ],
          [
           6.824325154665258
          ],
          [
           6.948149300964032
          ],
          [
           6.572555373500337
          ],
          [
           6.8713420107284575
          ],
          [
           7.033330022440601
          ],
          [
           6.990386519543016
          ],
          [
           6.746530366165239
          ],
          [
           6.358941312157491
          ],
          [
           6.660984163677548
          ],
          [
           7.304560109419022
          ],
          [
           6.4219565517247394
          ],
          [
           6.465186155915999
          ],
          [
           6.563220914829063
          ],
          [
           6.875659470421046
          ],
          [
           6.64726606991232
          ],
          [
           6.846828608144938
          ],
          [
           6.303681843725442
          ],
          [
           6.15933041209441
          ],
          [
           6.909711704727165
          ],
          [
           6.386379059483888
          ],
          [
           6.817428208802761
          ],
          [
           6.783417762004069
          ],
          [
           6.452238474343771
          ],
          [
           6.445577921857935
          ],
          [
           6.924629495497582
          ],
          [
           6.620208889141299
          ],
          [
           6.534171068825789
          ],
          [
           6.476324783521801
          ],
          [
           6.163211292679779
          ],
          [
           6.317682343273585
          ],
          [
           6.383972144235695
          ],
          [
           5.726061972237996
          ],
          [
           6.1539181545576565
          ],
          [
           6.420370255005267
          ],
          [
           6.080893195515704
          ],
          [
           6.478225835101054
          ],
          [
           6.695199899894918
          ],
          [
           6.958521536784407
          ],
          [
           6.849288457581812
          ],
          [
           6.374583064886377
          ],
          [
           6.710647895701353
          ],
          [
           6.608664686500967
          ],
          [
           6.8567201746531365
          ],
          [
           6.705037674083113
          ],
          [
           7.114116406508787
          ],
          [
           6.612310067196472
          ],
          [
           6.355742050631572
          ],
          [
           6.724152574139812
          ],
          [
           6.368410477513615
          ],
          [
           6.941255855083123
          ],
          [
           6.4477767523872815
          ],
          [
           6.619191266547266
          ],
          [
           7.00853235502994
          ],
          [
           6.844711805565696
          ],
          [
           6.6290472950658765
          ],
          [
           6.887654443901664
          ],
          [
           6.767477064750962
          ],
          [
           7.00680349985362
          ],
          [
           5.574464026851089
          ],
          [
           6.821724446309424
          ],
          [
           6.462202141066195
          ],
          [
           6.61155577652872
          ],
          [
           6.543719530502499
          ],
          [
           6.236160358845362
          ],
          [
           6.767799735884474
          ],
          [
           6.721973321145978
          ],
          [
           6.254144665687133
          ],
          [
           6.595622053261629
          ],
          [
           6.960251694917516
          ],
          [
           6.774708084784495
          ],
          [
           6.258646852586949
          ],
          [
           6.242149081623305
          ],
          [
           6.440259003687202
          ],
          [
           6.838258040756211
          ],
          [
           6.464218789316871
          ],
          [
           6.720728441098631
          ],
          [
           6.805817019793738
          ],
          [
           5.792161346382781
          ],
          [
           6.5247401200779125
          ],
          [
           6.701591677778383
          ],
          [
           6.33614439187373
          ],
          [
           6.452132446586961
          ],
          [
           6.31549136112024
          ],
          [
           6.914561323046225
          ],
          [
           6.101697001059774
          ],
          [
           6.867139745714107
          ],
          [
           6.674867621892209
          ],
          [
           6.3421042181443354
          ],
          [
           6.625805068635532
          ],
          [
           7.018822139418593
          ],
          [
           6.864139629512629
          ],
          [
           6.414013879607768
          ],
          [
           6.422485593963997
          ],
          [
           6.788577921013693
          ],
          [
           6.527076612280152
          ],
          [
           6.81420973122477
          ],
          [
           6.5444894316177065
          ],
          [
           6.9775011553303825
          ],
          [
           6.994598532926126
          ],
          [
           5.744605055453778
          ],
          [
           6.772105777003432
          ],
          [
           6.741088411014536
          ],
          [
           6.434747548334666
          ],
          [
           6.532524894105434
          ],
          [
           6.246104850762785
          ],
          [
           6.356602901332219
          ],
          [
           6.828399189017275
          ],
          [
           6.274110883955404
          ],
          [
           6.9313431269670795
          ],
          [
           6.716311438470819
          ],
          [
           6.632863882284907
          ]
         ],
         "domain": {
          "x": [
           0,
           1
          ],
          "y": [
           0,
           1
          ]
         },
         "hovertemplate": "labels=%{label}<br>%_occurrence=%{value}<br>parent=%{parent}<br>id=%{id}<br>mean_rating=%{color}<extra></extra>",
         "ids": [
          "Genres/Sci-Fi/alien",
          "Genres/Biography/american",
          "Genres/Documentary/american",
          "Genres/History/american",
          "Genres/War/american",
          "Genres/War/army",
          "Genres/Music/band",
          "Genres/Sport/baseball",
          "Genres/Animation/become",
          "Genres/Biography/become",
          "Genres/Fantasy/become",
          "Genres/Adventure/becomes",
          "Genres/Comedy/becomes",
          "Genres/Crime/becomes",
          "Genres/Drama/becomes",
          "Genres/Film-Noir/becomes",
          "Genres/Musical/becomes",
          "Genres/Mystery/becomes",
          "Genres/Film-Noir/begins",
          "Genres/Family/boy",
          "Genres/History/british",
          "Genres/War/british",
          "Genres/War/captain",
          "Genres/Biography/career",
          "Genres/Music/career",
          "Genres/Western/civil",
          "Genres/Sport/coach",
          "Genres/Music/concert",
          "Genres/Crime/crime",
          "Genres/Film-Noir/dead",
          "Genres/Horror/dead",
          "Genres/Biography/death",
          "Genres/Film-Noir/death",
          "Genres/Mystery/death",
          "Genres/Action/decides",
          "Genres/Comedy/decides",
          "Genres/Musical/decides",
          "Genres/Romance/decides",
          "Genres/Crime/detective",
          "Genres/Mystery/detective",
          "Genres/Sci-Fi/discover",
          "Genres/Animation/discovers",
          "Genres/Fantasy/discovers",
          "Genres/Sci-Fi/discovers",
          "Genres/Documentary/documentary",
          "Genres/Music/documentary",
          "Genres/Film-Noir/doesn't",
          "Genres/Crime/drug",
          "Genres/History/events",
          "Genres/Adventure/evil",
          "Genres/Animation/evil",
          "Genres/Family/evil",
          "Genres/Fantasy/evil",
          "Genres/Horror/evil",
          "Genres/Sci-Fi/evil",
          "Genres/Film-Noir/fall",
          "Genres/Romance/fall",
          "Genres/Musical/falls",
          "Genres/Adventure/family",
          "Genres/Animation/family",
          "Genres/Biography/family",
          "Genres/Comedy/family",
          "Genres/Crime/family",
          "Genres/Drama/family",
          "Genres/Family/family",
          "Genres/Fantasy/family",
          "Genres/History/family",
          "Genres/Music/family",
          "Genres/Musical/family",
          "Genres/Romance/family",
          "Genres/Western/family",
          "Genres/Biography/film",
          "Genres/Documentary/film",
          "Genres/History/film",
          "Genres/Music/film",
          "Genres/Short/film",
          "Genres/War/film",
          "Genres/Drama/find",
          "Genres/Film-Noir/find",
          "Genres/Short/find",
          "Genres/Western/find",
          "Genres/Action/finds",
          "Genres/Film-Noir/finds",
          "Genres/Horror/finds",
          "Genres/Musical/finds",
          "Genres/Thriller/finds",
          "Genres/Comedy/first",
          "Genres/Drama/first",
          "Genres/Fantasy/first",
          "Genres/Music/first",
          "Genres/Musical/first",
          "Genres/Romance/first",
          "Genres/Sport/first",
          "Genres/Documentary/footage",
          "Genres/Sport/football",
          "Genres/Action/former",
          "Genres/Sport/former",
          "Genres/Adventure/friend",
          "Genres/Comedy/friend",
          "Genres/Romance/friend",
          "Genres/Adventure/friends",
          "Genres/Animation/friends",
          "Genres/Comedy/friends",
          "Genres/Family/friends",
          "Genres/Western/gang",
          "Genres/War/german",
          "Genres/History/get",
          "Genres/Mystery/get",
          "Genres/Sport/get",
          "Genres/War/get",
          "Genres/Western/get",
          "Genres/Animation/girl",
          "Genres/Family/girl",
          "Genres/Musical/girl",
          "Genres/Animation/great",
          "Genres/Action/group",
          "Genres/Adventure/group",
          "Genres/Horror/group",
          "Genres/Sci-Fi/group",
          "Genres/Thriller/group",
          "Genres/War/group",
          "Genres/Comedy/he's",
          "Genres/Crime/he's",
          "Genres/Film-Noir/he's",
          "Genres/Romance/he's",
          "Genres/Sport/he's",
          "Genres/Thriller/he's",
          "Genres/Action/help",
          "Genres/Comedy/help",
          "Genres/Drama/help",
          "Genres/Fantasy/help",
          "Genres/Horror/help",
          "Genres/Mystery/help",
          "Genres/Romance/help",
          "Genres/Sci-Fi/help",
          "Genres/Sport/help",
          "Genres/Western/help",
          "Genres/Sport/high",
          "Genres/History/history",
          "Genres/Animation/home",
          "Genres/Family/home",
          "Genres/Film-Noir/home",
          "Genres/Horror/house",
          "Genres/Sci-Fi/human",
          "Genres/Western/indian",
          "Genres/Documentary/interviews",
          "Genres/Animation/it's",
          "Genres/Family/it's",
          "Genres/Fantasy/it's",
          "Genres/Film-Noir/kill",
          "Genres/Horror/killer",
          "Genres/Sport/league",
          "Genres/Action/life",
          "Genres/Adventure/life",
          "Genres/Animation/life",
          "Genres/Biography/life",
          "Genres/Comedy/life",
          "Genres/Crime/life",
          "Genres/Documentary/life",
          "Genres/Drama/life",
          "Genres/Family/life",
          "Genres/Fantasy/life",
          "Genres/Film-Noir/life",
          "Genres/History/life",
          "Genres/Horror/life",
          "Genres/Music/life",
          "Genres/Musical/life",
          "Genres/Mystery/life",
          "Genres/Romance/life",
          "Genres/Sci-Fi/life",
          "Genres/Sport/life",
          "Genres/Thriller/life",
          "Genres/War/life",
          "Genres/Western/life",
          "Genres/Animation/little",
          "Genres/Family/little",
          "Genres/Documentary/live",
          "Genres/Music/live",
          "Genres/Documentary/look",
          "Genres/Family/love",
          "Genres/Musical/love",
          "Genres/Romance/love",
          "Genres/Adventure/make",
          "Genres/Family/make",
          "Genres/Musical/make",
          "Genres/Western/make",
          "Genres/Action/man",
          "Genres/Adventure/man",
          "Genres/Biography/man",
          "Genres/Comedy/man",
          "Genres/Crime/man",
          "Genres/Drama/man",
          "Genres/Fantasy/man",
          "Genres/Film-Noir/man",
          "Genres/History/man",
          "Genres/Horror/man",
          "Genres/Musical/man",
          "Genres/Mystery/man",
          "Genres/Romance/man",
          "Genres/Sci-Fi/man",
          "Genres/Thriller/man",
          "Genres/Western/man",
          "Genres/Biography/many",
          "Genres/Documentary/many",
          "Genres/Animation/meets",
          "Genres/Comedy/meets",
          "Genres/Drama/meets",
          "Genres/Musical/meets",
          "Genres/Romance/meets",
          "Genres/Action/men",
          "Genres/History/men",
          "Genres/War/men",
          "Genres/Western/men",
          "Genres/War/military",
          "Genres/War/mission",
          "Genres/Crime/money",
          "Genres/Film-Noir/money",
          "Genres/Biography/movie",
          "Genres/Crime/murder",
          "Genres/Mystery/murder",
          "Genres/Thriller/murder",
          "Genres/Documentary/music",
          "Genres/Music/music",
          "Genres/Musical/musical",
          "Genres/Fantasy/mysterious",
          "Genres/Horror/mysterious",
          "Genres/Mystery/mysterious",
          "Genres/Action/new",
          "Genres/Adventure/new",
          "Genres/Animation/new",
          "Genres/Biography/new",
          "Genres/Comedy/new",
          "Genres/Crime/new",
          "Genres/Documentary/new",
          "Genres/Drama/new",
          "Genres/Family/new",
          "Genres/Fantasy/new",
          "Genres/Film-Noir/new",
          "Genres/History/new",
          "Genres/Horror/new",
          "Genres/Music/new",
          "Genres/Musical/new",
          "Genres/Mystery/new",
          "Genres/Romance/new",
          "Genres/Sci-Fi/new",
          "Genres/Short/new",
          "Genres/Sport/new",
          "Genres/Thriller/new",
          "Genres/War/new",
          "Genres/Western/new",
          "Genres/War/officer",
          "Genres/Adventure/old",
          "Genres/Comedy/old",
          "Genres/Crime/old",
          "Genres/Drama/old",
          "Genres/Family/old",
          "Genres/Fantasy/old",
          "Genres/Horror/old",
          "Genres/Mystery/old",
          "Genres/Thriller/old",
          "Genres/Western/old",
          "Genres/Action/other",
          "Genres/Adventure/other",
          "Genres/Animation/other",
          "Genres/Biography/other",
          "Genres/Comedy/other",
          "Genres/Crime/other",
          "Genres/Drama/other",
          "Genres/Family/other",
          "Genres/Fantasy/other",
          "Genres/Film-Noir/other",
          "Genres/History/other",
          "Genres/Horror/other",
          "Genres/Music/other",
          "Genres/Musical/other",
          "Genres/Romance/other",
          "Genres/Sci-Fi/other",
          "Genres/Sport/other",
          "Genres/Thriller/other",
          "Genres/Action/own",
          "Genres/Adventure/own",
          "Genres/Biography/own",
          "Genres/Comedy/own",
          "Genres/Crime/own",
          "Genres/Drama/own",
          "Genres/Fantasy/own",
          "Genres/Film-Noir/own",
          "Genres/History/own",
          "Genres/Mystery/own",
          "Genres/Romance/own",
          "Genres/Sport/own",
          "Genres/Thriller/own",
          "Genres/War/own",
          "Genres/Western/own",
          "Genres/Documentary/people",
          "Genres/Horror/people",
          "Genres/Mystery/people",
          "Genres/Sci-Fi/people",
          "Genres/Thriller/people",
          "Genres/Sci-Fi/planet",
          "Genres/Action/police",
          "Genres/Crime/police",
          "Genres/Film-Noir/police",
          "Genres/Mystery/police",
          "Genres/Thriller/police",
          "Genres/Music/rock",
          "Genres/Sport/school",
          "Genres/Sci-Fi/scientist",
          "Genres/Short/set",
          "Genres/Music/singer",
          "Genres/Horror/small",
          "Genres/Sci-Fi/space",
          "Genres/Sport/star",
          "Genres/Action/stop",
          "Genres/Adventure/stop",
          "Genres/Adventure/story",
          "Genres/Animation/story",
          "Genres/Biography/story",
          "Genres/Documentary/story",
          "Genres/Drama/story",
          "Genres/Family/story",
          "Genres/Fantasy/story",
          "Genres/History/story",
          "Genres/Music/story",
          "Genres/Musical/story",
          "Genres/Romance/story",
          "Genres/Sport/story",
          "Genres/War/story",
          "Genres/Horror/strange",
          "Genres/Action/take",
          "Genres/Crime/take",
          "Genres/Thriller/take",
          "Genres/Musical/tells",
          "Genres/Action/time",
          "Genres/Adventure/time",
          "Genres/Animation/time",
          "Genres/Comedy/time",
          "Genres/Crime/time",
          "Genres/Drama/time",
          "Genres/Family/time",
          "Genres/Fantasy/time",
          "Genres/Musical/time",
          "Genres/Mystery/time",
          "Genres/Romance/time",
          "Genres/Sci-Fi/time",
          "Genres/Thriller/time",
          "Genres/War/time",
          "Genres/Western/time",
          "Genres/Horror/town",
          "Genres/Western/town",
          "Genres/Biography/true",
          "Genres/History/true",
          "Genres/Action/war",
          "Genres/Biography/war",
          "Genres/History/war",
          "Genres/War/war",
          "Genres/Western/war",
          "Genres/Action/way",
          "Genres/Adventure/way",
          "Genres/Animation/way",
          "Genres/Comedy/way",
          "Genres/Crime/way",
          "Genres/Drama/way",
          "Genres/Family/way",
          "Genres/Fantasy/way",
          "Genres/Musical/way",
          "Genres/Mystery/way",
          "Genres/Sci-Fi/way",
          "Genres/Sport/way",
          "Genres/Thriller/way",
          "Genres/Western/way",
          "Genres/Biography/wife",
          "Genres/Crime/wife",
          "Genres/Drama/wife",
          "Genres/Film-Noir/wife",
          "Genres/History/wife",
          "Genres/Mystery/wife",
          "Genres/Romance/wife",
          "Genres/Thriller/wife",
          "Genres/Comedy/woman",
          "Genres/Drama/woman",
          "Genres/Horror/woman",
          "Genres/Mystery/woman",
          "Genres/Romance/woman",
          "Genres/Thriller/woman",
          "Genres/Action/world",
          "Genres/Adventure/world",
          "Genres/Animation/world",
          "Genres/Biography/world",
          "Genres/Comedy/world",
          "Genres/Documentary/world",
          "Genres/Drama/world",
          "Genres/Family/world",
          "Genres/Fantasy/world",
          "Genres/History/world",
          "Genres/Music/world",
          "Genres/Sci-Fi/world",
          "Genres/Sport/world",
          "Genres/Thriller/world",
          "Genres/War/world",
          "Genres/Action/years",
          "Genres/Adventure/years",
          "Genres/Biography/years",
          "Genres/Documentary/years",
          "Genres/Drama/years",
          "Genres/Family/years",
          "Genres/Fantasy/years",
          "Genres/History/years",
          "Genres/Horror/years",
          "Genres/Music/years",
          "Genres/Mystery/years",
          "Genres/Romance/years",
          "Genres/Sci-Fi/years",
          "Genres/Thriller/years",
          "Genres/Western/years",
          "Genres/Music/york",
          "Genres/Action/young",
          "Genres/Adventure/young",
          "Genres/Animation/young",
          "Genres/Biography/young",
          "Genres/Comedy/young",
          "Genres/Crime/young",
          "Genres/Drama/young",
          "Genres/Family/young",
          "Genres/Fantasy/young",
          "Genres/Film-Noir/young",
          "Genres/History/young",
          "Genres/Horror/young",
          "Genres/Music/young",
          "Genres/Musical/young",
          "Genres/Mystery/young",
          "Genres/Romance/young",
          "Genres/Sci-Fi/young",
          "Genres/Sport/young",
          "Genres/Thriller/young",
          "Genres/War/young",
          "Genres/Western/young",
          "Genres/Action",
          "Genres/Adventure",
          "Genres/Animation",
          "Genres/Biography",
          "Genres/Comedy",
          "Genres/Crime",
          "Genres/Documentary",
          "Genres/Drama",
          "Genres/Family",
          "Genres/Fantasy",
          "Genres/Film-Noir",
          "Genres/History",
          "Genres/Horror",
          "Genres/Music",
          "Genres/Musical",
          "Genres/Mystery",
          "Genres/Romance",
          "Genres/Sci-Fi",
          "Genres/Short",
          "Genres/Sport",
          "Genres/Thriller",
          "Genres/War",
          "Genres/Western",
          "Genres"
         ],
         "labels": [
          "alien",
          "american",
          "american",
          "american",
          "american",
          "army",
          "band",
          "baseball",
          "become",
          "become",
          "become",
          "becomes",
          "becomes",
          "becomes",
          "becomes",
          "becomes",
          "becomes",
          "becomes",
          "begins",
          "boy",
          "british",
          "british",
          "captain",
          "career",
          "career",
          "civil",
          "coach",
          "concert",
          "crime",
          "dead",
          "dead",
          "death",
          "death",
          "death",
          "decides",
          "decides",
          "decides",
          "decides",
          "detective",
          "detective",
          "discover",
          "discovers",
          "discovers",
          "discovers",
          "documentary",
          "documentary",
          "doesn't",
          "drug",
          "events",
          "evil",
          "evil",
          "evil",
          "evil",
          "evil",
          "evil",
          "fall",
          "fall",
          "falls",
          "family",
          "family",
          "family",
          "family",
          "family",
          "family",
          "family",
          "family",
          "family",
          "family",
          "family",
          "family",
          "family",
          "film",
          "film",
          "film",
          "film",
          "film",
          "film",
          "find",
          "find",
          "find",
          "find",
          "finds",
          "finds",
          "finds",
          "finds",
          "finds",
          "first",
          "first",
          "first",
          "first",
          "first",
          "first",
          "first",
          "footage",
          "football",
          "former",
          "former",
          "friend",
          "friend",
          "friend",
          "friends",
          "friends",
          "friends",
          "friends",
          "gang",
          "german",
          "get",
          "get",
          "get",
          "get",
          "get",
          "girl",
          "girl",
          "girl",
          "great",
          "group",
          "group",
          "group",
          "group",
          "group",
          "group",
          "he's",
          "he's",
          "he's",
          "he's",
          "he's",
          "he's",
          "help",
          "help",
          "help",
          "help",
          "help",
          "help",
          "help",
          "help",
          "help",
          "help",
          "high",
          "history",
          "home",
          "home",
          "home",
          "house",
          "human",
          "indian",
          "interviews",
          "it's",
          "it's",
          "it's",
          "kill",
          "killer",
          "league",
          "life",
          "life",
          "life",
          "life",
          "life",
          "life",
          "life",
          "life",
          "life",
          "life",
          "life",
          "life",
          "life",
          "life",
          "life",
          "life",
          "life",
          "life",
          "life",
          "life",
          "life",
          "life",
          "little",
          "little",
          "live",
          "live",
          "look",
          "love",
          "love",
          "love",
          "make",
          "make",
          "make",
          "make",
          "man",
          "man",
          "man",
          "man",
          "man",
          "man",
          "man",
          "man",
          "man",
          "man",
          "man",
          "man",
          "man",
          "man",
          "man",
          "man",
          "many",
          "many",
          "meets",
          "meets",
          "meets",
          "meets",
          "meets",
          "men",
          "men",
          "men",
          "men",
          "military",
          "mission",
          "money",
          "money",
          "movie",
          "murder",
          "murder",
          "murder",
          "music",
          "music",
          "musical",
          "mysterious",
          "mysterious",
          "mysterious",
          "new",
          "new",
          "new",
          "new",
          "new",
          "new",
          "new",
          "new",
          "new",
          "new",
          "new",
          "new",
          "new",
          "new",
          "new",
          "new",
          "new",
          "new",
          "new",
          "new",
          "new",
          "new",
          "new",
          "officer",
          "old",
          "old",
          "old",
          "old",
          "old",
          "old",
          "old",
          "old",
          "old",
          "old",
          "other",
          "other",
          "other",
          "other",
          "other",
          "other",
          "other",
          "other",
          "other",
          "other",
          "other",
          "other",
          "other",
          "other",
          "other",
          "other",
          "other",
          "other",
          "own",
          "own",
          "own",
          "own",
          "own",
          "own",
          "own",
          "own",
          "own",
          "own",
          "own",
          "own",
          "own",
          "own",
          "own",
          "people",
          "people",
          "people",
          "people",
          "people",
          "planet",
          "police",
          "police",
          "police",
          "police",
          "police",
          "rock",
          "school",
          "scientist",
          "set",
          "singer",
          "small",
          "space",
          "star",
          "stop",
          "stop",
          "story",
          "story",
          "story",
          "story",
          "story",
          "story",
          "story",
          "story",
          "story",
          "story",
          "story",
          "story",
          "story",
          "strange",
          "take",
          "take",
          "take",
          "tells",
          "time",
          "time",
          "time",
          "time",
          "time",
          "time",
          "time",
          "time",
          "time",
          "time",
          "time",
          "time",
          "time",
          "time",
          "time",
          "town",
          "town",
          "true",
          "true",
          "war",
          "war",
          "war",
          "war",
          "war",
          "way",
          "way",
          "way",
          "way",
          "way",
          "way",
          "way",
          "way",
          "way",
          "way",
          "way",
          "way",
          "way",
          "way",
          "wife",
          "wife",
          "wife",
          "wife",
          "wife",
          "wife",
          "wife",
          "wife",
          "woman",
          "woman",
          "woman",
          "woman",
          "woman",
          "woman",
          "world",
          "world",
          "world",
          "world",
          "world",
          "world",
          "world",
          "world",
          "world",
          "world",
          "world",
          "world",
          "world",
          "world",
          "world",
          "years",
          "years",
          "years",
          "years",
          "years",
          "years",
          "years",
          "years",
          "years",
          "years",
          "years",
          "years",
          "years",
          "years",
          "years",
          "york",
          "young",
          "young",
          "young",
          "young",
          "young",
          "young",
          "young",
          "young",
          "young",
          "young",
          "young",
          "young",
          "young",
          "young",
          "young",
          "young",
          "young",
          "young",
          "young",
          "young",
          "young",
          "Action",
          "Adventure",
          "Animation",
          "Biography",
          "Comedy",
          "Crime",
          "Documentary",
          "Drama",
          "Family",
          "Fantasy",
          "Film-Noir",
          "History",
          "Horror",
          "Music",
          "Musical",
          "Mystery",
          "Romance",
          "Sci-Fi",
          "Short",
          "Sport",
          "Thriller",
          "War",
          "Western",
          "Genres"
         ],
         "marker": {
          "coloraxis": "coloraxis",
          "colors": [
           6.2224341034887845,
           7.027787299409381,
           6.906799812274757,
           7.0733613508800115,
           6.949688718853177,
           6.92705695408207,
           6.795146898859097,
           6.929493268415761,
           6.9551841692760235,
           6.916896994789228,
           6.351229507645311,
           6.721072632139763,
           6.386891306579,
           6.376080342149465,
           6.465405490968692,
           6.786108871518495,
           6.788985248047541,
           6.309854852239401,
           7.174398923072788,
           6.750653436888491,
           7.035948742708228,
           6.891814433470241,
           6.979768246559384,
           6.7784397125642855,
           6.707571475023413,
           6.776455849816242,
           6.77849674999397,
           7.022758455346263,
           6.487876382564927,
           6.753828893376886,
           5.626418034723319,
           6.781758874168192,
           7.051434035523243,
           6.532480729646347,
           6.33333157374632,
           6.346363640908568,
           6.740102992158381,
           6.565375204853618,
           6.476243694649054,
           6.53186782056428,
           6.269219970942396,
           6.859268589807575,
           6.442643908637098,
           6.281332606696227,
           6.74808143715863,
           7.072492733995231,
           6.957804958489726,
           6.225535353166274,
           7.164137828009999,
           6.669264549927725,
           6.882704117560124,
           6.648927118635071,
           6.277663558658006,
           5.417108993285102,
           6.137367589272294,
           6.783785220169906,
           6.498018303737298,
           6.661473720942775,
           6.7300129413670176,
           7.220448627152503,
           6.916295582920161,
           6.4748456433228405,
           6.514854310140347,
           6.589686323289676,
           6.91922999254812,
           6.702387117321938,
           6.672068665705947,
           6.692762409051594,
           6.745321615998404,
           6.633788707250357,
           6.562997329741332,
           6.893100135087677,
           6.818107891842889,
           7.074265638867366,
           6.749901905524451,
           6.208894765828067,
           6.9730274060191615,
           6.539954566844731,
           7.245309104277341,
           6.656322694124285,
           6.602153856211,
           6.282624267056393,
           6.794875660930258,
           5.832747788639844,
           6.700957751602057,
           6.330760630075729,
           6.520745782367637,
           6.663779400244938,
           6.640686662388553,
           6.836528656108785,
           6.7223811469225065,
           6.576261967464315,
           6.9578061916783165,
           6.8000735395944805,
           6.816808438629274,
           6.340809277967418,
           6.762189536787423,
           6.698024989011479,
           6.415037723324576,
           6.457871699433044,
           6.7954815940725615,
           7.079708486041695,
           6.394742236673122,
           6.861253501170356,
           6.706736178537255,
           6.881356434301637,
           6.99070760059788,
           6.403032421383086,
           6.697940628139657,
           6.875483929393053,
           6.801293505825231,
           6.910418721704493,
           6.744440611786679,
           6.6193471065057645,
           7.221426763119121,
           6.003973677937551,
           6.460753454700769,
           5.500760306508744,
           5.972518506295315,
           6.151472270236368,
           6.821674650553276,
           6.3491890191232,
           6.402049912301041,
           7.061085525902971,
           6.318587442964708,
           6.660097445798341,
           6.417057050916249,
           6.3036061995708375,
           6.448127903151295,
           6.536024265914858,
           6.740947493845966,
           6.146416201828722,
           6.64051002458912,
           6.641837484915408,
           6.236079665190686,
           6.942576428028624,
           6.684123519451122,
           7.144344638660155,
           7.004649720862632,
           6.947393298128446,
           6.682605916215412,
           6.640441894478744,
           5.743227451317953,
           6.057374783119399,
           6.815374208661607,
           6.551106932071062,
           7.077311533497445,
           6.754649602261505,
           6.436404571272036,
           6.724860483732969,
           5.534993366538591,
           6.571452217262781,
           6.407578570556659,
           6.590361622108172,
           7.2492641843127625,
           6.836566486922054,
           6.483491626811508,
           6.322672273298059,
           6.81932737701772,
           6.5142921998478815,
           6.884656428292298,
           6.670272034738287,
           6.993454490869456,
           6.884023652369649,
           5.833693470458877,
           6.740864338438453,
           6.7854143546886085,
           6.324913357577935,
           6.568838295217589,
           6.35212470842655,
           6.93170355535389,
           6.20335304617996,
           6.927921954157053,
           6.630158023454609,
           6.762084030661918,
           6.74470918354622,
           7.110807092109036,
           7.127671369479967,
           6.308580897920248,
           6.730091826570038,
           6.6346677099663545,
           6.469363057894013,
           6.447312172516836,
           6.6697140636868495,
           6.776888196456726,
           6.634039910174409,
           6.2902903492884255,
           6.505293968852674,
           6.785153705054065,
           6.364396959881188,
           6.436780950210754,
           6.468851377225295,
           6.355097234634513,
           7.397246803898646,
           6.879964119700063,
           5.896493516659814,
           6.667349309257617,
           6.584407495985043,
           6.540965797155763,
           6.135302707526247,
           6.337495470602528,
           6.854841623354627,
           7.018840543487444,
           6.786495940224939,
           6.819724684445865,
           6.394568922698164,
           6.405078418265694,
           6.540267394566702,
           6.457905821680753,
           6.338471521862459,
           7.17459525154327,
           6.988001767509108,
           6.729857590536164,
           6.793335011527955,
           6.947355721108411,
           6.496906821767505,
           7.363305083523243,
           6.54590998917504,
           6.564418146825485,
           6.577785218849984,
           6.347921948990272,
           7.077620706234928,
           6.802797545104417,
           6.806356191714106,
           6.508076391892375,
           5.712842548483209,
           6.281996121907144,
           6.364919996595193,
           6.600155498707556,
           7.074784263373221,
           6.905344440191755,
           6.472486199585429,
           6.445086587454107,
           6.882612503958053,
           6.568935730983004,
           6.883255638761288,
           6.584932512603288,
           6.760145362332249,
           7.200618165304257,
           5.657499129908906,
           6.799224561030463,
           6.952856580082045,
           6.443565077686985,
           6.659414246375178,
           6.303755822519249,
           6.806072496372061,
           6.920320827673192,
           6.302426645713654,
           6.856156624013491,
           6.648034339693983,
           6.939698768721758,
           6.606265714964502,
           6.370347436206638,
           6.366931616855607,
           6.5540897450777145,
           6.883947284410818,
           6.371893541550497,
           5.742298976114243,
           6.375852307369843,
           6.311717401344961,
           6.708250470859842,
           6.394488386041743,
           6.590505478004768,
           7.072347337088956,
           6.95135814541663,
           6.443737402591539,
           6.454913784656648,
           6.538439467253133,
           6.9536759935887,
           6.641333634678857,
           7.111612829255555,
           7.072113638817259,
           5.883863460069072,
           6.696625896587638,
           6.864079586106826,
           6.591457793573534,
           6.313036639167838,
           6.830610258277107,
           6.311686456638208,
           6.381223324419057,
           6.624643195039573,
           6.970855292478442,
           6.369491890917292,
           6.596263071889212,
           6.543107013947586,
           6.38858088882964,
           6.94881617693549,
           7.053460807606969,
           6.554256786596644,
           6.497296376466699,
           6.686696987320314,
           6.40277851363114,
           6.900193980928396,
           6.737228745658029,
           6.770217055417699,
           5.640747717563508,
           6.444905314500157,
           6.254679578394466,
           6.272969849166421,
           6.282142861658091,
           6.207737994638373,
           6.382479056432902,
           7.062710430045169,
           6.425567947430675,
           6.218482997629486,
           6.607670885105784,
           6.945287141324964,
           6.076028373015273,
           5.843746530306957,
           6.469342737545197,
           5.978852491721427,
           6.110031281858552,
           6.329026257863166,
           6.222242300193999,
           6.562983025208805,
           6.64940837763401,
           6.9761051287638045,
           6.842322020362804,
           6.759909495960582,
           6.5715068319400585,
           6.723971825332328,
           6.5087715854369,
           7.041620877167926,
           6.96344106978391,
           6.695493798014173,
           6.565684144213408,
           6.860480488229792,
           6.932170368382898,
           5.84176525310811,
           6.370615849921019,
           6.439027197853887,
           6.337545871744043,
           6.8211781066523685,
           6.50564662682052,
           6.728772990712479,
           7.083732821854961,
           6.570791754638968,
           6.412596406766907,
           6.562100383858933,
           6.772635283134433,
           6.493781635411526,
           6.8213042596160935,
           6.410088432415751,
           6.673514593894546,
           6.368435242755265,
           6.2651228165263335,
           7.076800105244447,
           6.856234842285723,
           5.832813643932245,
           6.675777542453517,
           6.824325154665258,
           6.948149300964032,
           6.572555373500337,
           6.8713420107284575,
           7.033330022440601,
           6.990386519543016,
           6.746530366165239,
           6.358941312157491,
           6.660984163677548,
           7.304560109419022,
           6.4219565517247394,
           6.465186155915999,
           6.563220914829063,
           6.875659470421046,
           6.64726606991232,
           6.846828608144938,
           6.303681843725442,
           6.15933041209441,
           6.909711704727165,
           6.386379059483888,
           6.817428208802761,
           6.783417762004069,
           6.452238474343771,
           6.445577921857935,
           6.924629495497582,
           6.620208889141299,
           6.534171068825789,
           6.476324783521801,
           6.163211292679779,
           6.317682343273585,
           6.383972144235695,
           5.726061972237996,
           6.1539181545576565,
           6.420370255005267,
           6.080893195515704,
           6.478225835101054,
           6.695199899894918,
           6.958521536784407,
           6.849288457581812,
           6.374583064886377,
           6.710647895701353,
           6.608664686500967,
           6.8567201746531365,
           6.705037674083113,
           7.114116406508787,
           6.612310067196472,
           6.355742050631572,
           6.724152574139812,
           6.368410477513615,
           6.941255855083123,
           6.4477767523872815,
           6.619191266547266,
           7.00853235502994,
           6.844711805565696,
           6.6290472950658765,
           6.887654443901664,
           6.767477064750962,
           7.00680349985362,
           5.574464026851089,
           6.821724446309424,
           6.462202141066195,
           6.61155577652872,
           6.543719530502499,
           6.236160358845362,
           6.767799735884474,
           6.721973321145978,
           6.254144665687133,
           6.595622053261629,
           6.960251694917516,
           6.774708084784495,
           6.258646852586949,
           6.242149081623305,
           6.440259003687202,
           6.838258040756211,
           6.464218789316871,
           6.720728441098631,
           6.805817019793738,
           5.792161346382781,
           6.5247401200779125,
           6.701591677778383,
           6.33614439187373,
           6.452132446586961,
           6.31549136112024,
           6.914561323046225,
           6.101697001059774,
           6.867139745714107,
           6.674867621892209,
           6.3421042181443354,
           6.625805068635532,
           7.018822139418593,
           6.864139629512629,
           6.414013879607768,
           6.422485593963997,
           6.788577921013693,
           6.527076612280152,
           6.81420973122477,
           6.5444894316177065,
           6.9775011553303825,
           6.994598532926126,
           5.744605055453778,
           6.772105777003432,
           6.741088411014536,
           6.434747548334666,
           6.532524894105434,
           6.246104850762785,
           6.356602901332219,
           6.828399189017275,
           6.274110883955404,
           6.9313431269670795,
           6.716311438470819,
           6.632863882284907
          ]
         },
         "name": "",
         "parents": [
          "Genres/Sci-Fi",
          "Genres/Biography",
          "Genres/Documentary",
          "Genres/History",
          "Genres/War",
          "Genres/War",
          "Genres/Music",
          "Genres/Sport",
          "Genres/Animation",
          "Genres/Biography",
          "Genres/Fantasy",
          "Genres/Adventure",
          "Genres/Comedy",
          "Genres/Crime",
          "Genres/Drama",
          "Genres/Film-Noir",
          "Genres/Musical",
          "Genres/Mystery",
          "Genres/Film-Noir",
          "Genres/Family",
          "Genres/History",
          "Genres/War",
          "Genres/War",
          "Genres/Biography",
          "Genres/Music",
          "Genres/Western",
          "Genres/Sport",
          "Genres/Music",
          "Genres/Crime",
          "Genres/Film-Noir",
          "Genres/Horror",
          "Genres/Biography",
          "Genres/Film-Noir",
          "Genres/Mystery",
          "Genres/Action",
          "Genres/Comedy",
          "Genres/Musical",
          "Genres/Romance",
          "Genres/Crime",
          "Genres/Mystery",
          "Genres/Sci-Fi",
          "Genres/Animation",
          "Genres/Fantasy",
          "Genres/Sci-Fi",
          "Genres/Documentary",
          "Genres/Music",
          "Genres/Film-Noir",
          "Genres/Crime",
          "Genres/History",
          "Genres/Adventure",
          "Genres/Animation",
          "Genres/Family",
          "Genres/Fantasy",
          "Genres/Horror",
          "Genres/Sci-Fi",
          "Genres/Film-Noir",
          "Genres/Romance",
          "Genres/Musical",
          "Genres/Adventure",
          "Genres/Animation",
          "Genres/Biography",
          "Genres/Comedy",
          "Genres/Crime",
          "Genres/Drama",
          "Genres/Family",
          "Genres/Fantasy",
          "Genres/History",
          "Genres/Music",
          "Genres/Musical",
          "Genres/Romance",
          "Genres/Western",
          "Genres/Biography",
          "Genres/Documentary",
          "Genres/History",
          "Genres/Music",
          "Genres/Short",
          "Genres/War",
          "Genres/Drama",
          "Genres/Film-Noir",
          "Genres/Short",
          "Genres/Western",
          "Genres/Action",
          "Genres/Film-Noir",
          "Genres/Horror",
          "Genres/Musical",
          "Genres/Thriller",
          "Genres/Comedy",
          "Genres/Drama",
          "Genres/Fantasy",
          "Genres/Music",
          "Genres/Musical",
          "Genres/Romance",
          "Genres/Sport",
          "Genres/Documentary",
          "Genres/Sport",
          "Genres/Action",
          "Genres/Sport",
          "Genres/Adventure",
          "Genres/Comedy",
          "Genres/Romance",
          "Genres/Adventure",
          "Genres/Animation",
          "Genres/Comedy",
          "Genres/Family",
          "Genres/Western",
          "Genres/War",
          "Genres/History",
          "Genres/Mystery",
          "Genres/Sport",
          "Genres/War",
          "Genres/Western",
          "Genres/Animation",
          "Genres/Family",
          "Genres/Musical",
          "Genres/Animation",
          "Genres/Action",
          "Genres/Adventure",
          "Genres/Horror",
          "Genres/Sci-Fi",
          "Genres/Thriller",
          "Genres/War",
          "Genres/Comedy",
          "Genres/Crime",
          "Genres/Film-Noir",
          "Genres/Romance",
          "Genres/Sport",
          "Genres/Thriller",
          "Genres/Action",
          "Genres/Comedy",
          "Genres/Drama",
          "Genres/Fantasy",
          "Genres/Horror",
          "Genres/Mystery",
          "Genres/Romance",
          "Genres/Sci-Fi",
          "Genres/Sport",
          "Genres/Western",
          "Genres/Sport",
          "Genres/History",
          "Genres/Animation",
          "Genres/Family",
          "Genres/Film-Noir",
          "Genres/Horror",
          "Genres/Sci-Fi",
          "Genres/Western",
          "Genres/Documentary",
          "Genres/Animation",
          "Genres/Family",
          "Genres/Fantasy",
          "Genres/Film-Noir",
          "Genres/Horror",
          "Genres/Sport",
          "Genres/Action",
          "Genres/Adventure",
          "Genres/Animation",
          "Genres/Biography",
          "Genres/Comedy",
          "Genres/Crime",
          "Genres/Documentary",
          "Genres/Drama",
          "Genres/Family",
          "Genres/Fantasy",
          "Genres/Film-Noir",
          "Genres/History",
          "Genres/Horror",
          "Genres/Music",
          "Genres/Musical",
          "Genres/Mystery",
          "Genres/Romance",
          "Genres/Sci-Fi",
          "Genres/Sport",
          "Genres/Thriller",
          "Genres/War",
          "Genres/Western",
          "Genres/Animation",
          "Genres/Family",
          "Genres/Documentary",
          "Genres/Music",
          "Genres/Documentary",
          "Genres/Family",
          "Genres/Musical",
          "Genres/Romance",
          "Genres/Adventure",
          "Genres/Family",
          "Genres/Musical",
          "Genres/Western",
          "Genres/Action",
          "Genres/Adventure",
          "Genres/Biography",
          "Genres/Comedy",
          "Genres/Crime",
          "Genres/Drama",
          "Genres/Fantasy",
          "Genres/Film-Noir",
          "Genres/History",
          "Genres/Horror",
          "Genres/Musical",
          "Genres/Mystery",
          "Genres/Romance",
          "Genres/Sci-Fi",
          "Genres/Thriller",
          "Genres/Western",
          "Genres/Biography",
          "Genres/Documentary",
          "Genres/Animation",
          "Genres/Comedy",
          "Genres/Drama",
          "Genres/Musical",
          "Genres/Romance",
          "Genres/Action",
          "Genres/History",
          "Genres/War",
          "Genres/Western",
          "Genres/War",
          "Genres/War",
          "Genres/Crime",
          "Genres/Film-Noir",
          "Genres/Biography",
          "Genres/Crime",
          "Genres/Mystery",
          "Genres/Thriller",
          "Genres/Documentary",
          "Genres/Music",
          "Genres/Musical",
          "Genres/Fantasy",
          "Genres/Horror",
          "Genres/Mystery",
          "Genres/Action",
          "Genres/Adventure",
          "Genres/Animation",
          "Genres/Biography",
          "Genres/Comedy",
          "Genres/Crime",
          "Genres/Documentary",
          "Genres/Drama",
          "Genres/Family",
          "Genres/Fantasy",
          "Genres/Film-Noir",
          "Genres/History",
          "Genres/Horror",
          "Genres/Music",
          "Genres/Musical",
          "Genres/Mystery",
          "Genres/Romance",
          "Genres/Sci-Fi",
          "Genres/Short",
          "Genres/Sport",
          "Genres/Thriller",
          "Genres/War",
          "Genres/Western",
          "Genres/War",
          "Genres/Adventure",
          "Genres/Comedy",
          "Genres/Crime",
          "Genres/Drama",
          "Genres/Family",
          "Genres/Fantasy",
          "Genres/Horror",
          "Genres/Mystery",
          "Genres/Thriller",
          "Genres/Western",
          "Genres/Action",
          "Genres/Adventure",
          "Genres/Animation",
          "Genres/Biography",
          "Genres/Comedy",
          "Genres/Crime",
          "Genres/Drama",
          "Genres/Family",
          "Genres/Fantasy",
          "Genres/Film-Noir",
          "Genres/History",
          "Genres/Horror",
          "Genres/Music",
          "Genres/Musical",
          "Genres/Romance",
          "Genres/Sci-Fi",
          "Genres/Sport",
          "Genres/Thriller",
          "Genres/Action",
          "Genres/Adventure",
          "Genres/Biography",
          "Genres/Comedy",
          "Genres/Crime",
          "Genres/Drama",
          "Genres/Fantasy",
          "Genres/Film-Noir",
          "Genres/History",
          "Genres/Mystery",
          "Genres/Romance",
          "Genres/Sport",
          "Genres/Thriller",
          "Genres/War",
          "Genres/Western",
          "Genres/Documentary",
          "Genres/Horror",
          "Genres/Mystery",
          "Genres/Sci-Fi",
          "Genres/Thriller",
          "Genres/Sci-Fi",
          "Genres/Action",
          "Genres/Crime",
          "Genres/Film-Noir",
          "Genres/Mystery",
          "Genres/Thriller",
          "Genres/Music",
          "Genres/Sport",
          "Genres/Sci-Fi",
          "Genres/Short",
          "Genres/Music",
          "Genres/Horror",
          "Genres/Sci-Fi",
          "Genres/Sport",
          "Genres/Action",
          "Genres/Adventure",
          "Genres/Adventure",
          "Genres/Animation",
          "Genres/Biography",
          "Genres/Documentary",
          "Genres/Drama",
          "Genres/Family",
          "Genres/Fantasy",
          "Genres/History",
          "Genres/Music",
          "Genres/Musical",
          "Genres/Romance",
          "Genres/Sport",
          "Genres/War",
          "Genres/Horror",
          "Genres/Action",
          "Genres/Crime",
          "Genres/Thriller",
          "Genres/Musical",
          "Genres/Action",
          "Genres/Adventure",
          "Genres/Animation",
          "Genres/Comedy",
          "Genres/Crime",
          "Genres/Drama",
          "Genres/Family",
          "Genres/Fantasy",
          "Genres/Musical",
          "Genres/Mystery",
          "Genres/Romance",
          "Genres/Sci-Fi",
          "Genres/Thriller",
          "Genres/War",
          "Genres/Western",
          "Genres/Horror",
          "Genres/Western",
          "Genres/Biography",
          "Genres/History",
          "Genres/Action",
          "Genres/Biography",
          "Genres/History",
          "Genres/War",
          "Genres/Western",
          "Genres/Action",
          "Genres/Adventure",
          "Genres/Animation",
          "Genres/Comedy",
          "Genres/Crime",
          "Genres/Drama",
          "Genres/Family",
          "Genres/Fantasy",
          "Genres/Musical",
          "Genres/Mystery",
          "Genres/Sci-Fi",
          "Genres/Sport",
          "Genres/Thriller",
          "Genres/Western",
          "Genres/Biography",
          "Genres/Crime",
          "Genres/Drama",
          "Genres/Film-Noir",
          "Genres/History",
          "Genres/Mystery",
          "Genres/Romance",
          "Genres/Thriller",
          "Genres/Comedy",
          "Genres/Drama",
          "Genres/Horror",
          "Genres/Mystery",
          "Genres/Romance",
          "Genres/Thriller",
          "Genres/Action",
          "Genres/Adventure",
          "Genres/Animation",
          "Genres/Biography",
          "Genres/Comedy",
          "Genres/Documentary",
          "Genres/Drama",
          "Genres/Family",
          "Genres/Fantasy",
          "Genres/History",
          "Genres/Music",
          "Genres/Sci-Fi",
          "Genres/Sport",
          "Genres/Thriller",
          "Genres/War",
          "Genres/Action",
          "Genres/Adventure",
          "Genres/Biography",
          "Genres/Documentary",
          "Genres/Drama",
          "Genres/Family",
          "Genres/Fantasy",
          "Genres/History",
          "Genres/Horror",
          "Genres/Music",
          "Genres/Mystery",
          "Genres/Romance",
          "Genres/Sci-Fi",
          "Genres/Thriller",
          "Genres/Western",
          "Genres/Music",
          "Genres/Action",
          "Genres/Adventure",
          "Genres/Animation",
          "Genres/Biography",
          "Genres/Comedy",
          "Genres/Crime",
          "Genres/Drama",
          "Genres/Family",
          "Genres/Fantasy",
          "Genres/Film-Noir",
          "Genres/History",
          "Genres/Horror",
          "Genres/Music",
          "Genres/Musical",
          "Genres/Mystery",
          "Genres/Romance",
          "Genres/Sci-Fi",
          "Genres/Sport",
          "Genres/Thriller",
          "Genres/War",
          "Genres/Western",
          "Genres",
          "Genres",
          "Genres",
          "Genres",
          "Genres",
          "Genres",
          "Genres",
          "Genres",
          "Genres",
          "Genres",
          "Genres",
          "Genres",
          "Genres",
          "Genres",
          "Genres",
          "Genres",
          "Genres",
          "Genres",
          "Genres",
          "Genres",
          "Genres",
          "Genres",
          "Genres",
          ""
         ],
         "type": "treemap",
         "values": [
          8.823529411764707,
          7.5,
          6.260032102728732,
          9.649122807017545,
          15.345268542199488,
          15.601023017902811,
          11.1340206185567,
          12.244897959183673,
          6.810035842293907,
          8.181818181818182,
          7.455429497568882,
          6.537282941777324,
          6.987060998151571,
          7.991038088125467,
          9.483994266602965,
          9.411764705882351,
          7.816711590296496,
          11.611030478955009,
          11.764705882352942,
          8.766716196136702,
          8.771929824561404,
          11.508951406649617,
          7.672634271099744,
          9.772727272727272,
          5.77319587628866,
          10.526315789473683,
          13.06122448979592,
          9.690721649484535,
          7.0201643017177,
          8.235294117647058,
          6.605019815059445,
          6.136363636363637,
          9.411764705882351,
          7.982583454281568,
          6.25,
          6.802218114602588,
          7.816711590296496,
          7.661085743277524,
          6.4973861090365945,
          9.72423802612482,
          7.282913165266106,
          6.810035842293907,
          7.13128038897893,
          7.983193277310924,
          22.31139646869984,
          5.77319587628866,
          11.764705882352942,
          7.8416728902165795,
          6.432748538011696,
          8.88661899897855,
          11.469534050179211,
          7.132243684992571,
          10.696920583468396,
          6.737120211360634,
          6.442577030812325,
          8.235294117647058,
          7.255200405885337,
          9.703504043126683,
          6.843718079673136,
          8.602150537634408,
          10.227272727272728,
          7.985212569316081,
          6.796116504854369,
          9.57955088389871,
          12.63001485884101,
          7.6175040518638575,
          8.771929824561404,
          6.185567010309279,
          11.590296495956874,
          8.422120750887874,
          9.022556390977444,
          13.636363636363637,
          14.606741573033707,
          14.035087719298245,
          8.45360824742268,
          8.695652173913043,
          8.951406649616368,
          11.490683229813664,
          11.764705882352942,
          5.434782608695652,
          13.909774436090226,
          9.779411764705882,
          17.647058823529413,
          9.64332892998679,
          11.05121293800539,
          11.298207495926126,
          7.097966728280961,
          7.85953177257525,
          7.13128038897893,
          8.45360824742268,
          8.625336927223719,
          9.994926433282595,
          9.79591836734694,
          6.099518459069021,
          11.428571428571429,
          6.102941176470588,
          8.979591836734693,
          6.332992849846782,
          6.284658040665434,
          7.762557077625571,
          6.537282941777324,
          12.544802867383511,
          6.432532347504621,
          10.25260029717682,
          9.398496240601505,
          12.78772378516624,
          7.60233918128655,
          10.88534107402032,
          13.46938775510204,
          9.718670076726342,
          10.150375939849624,
          8.960573476702509,
          7.429420505200595,
          10.242587601078167,
          6.810035842293907,
          7.132352941176471,
          6.026557711950971,
          10.7001321003963,
          7.42296918767507,
          6.4638783269961975,
          8.439897698209718,
          7.837338262476894,
          7.8416728902165795,
          10.588235294117649,
          7.610350076103501,
          10.20408163265306,
          6.30092341118957,
          10.661764705882351,
          9.426987060998153,
          7.548972766364071,
          14.910858995137763,
          8.850726552179657,
          9.869375907111756,
          8.168442415017758,
          8.403361344537815,
          8.571428571428571,
          7.894736842105263,
          12.244897959183673,
          6.7251461988304095,
          7.526881720430108,
          7.726597325408618,
          9.411764705882351,
          7.661822985468956,
          7.42296918767507,
          8.646616541353383,
          7.38362760834671,
          8.243727598566307,
          8.023774145616642,
          7.13128038897893,
          8.235294117647058,
          6.472919418758257,
          8.16326530612245,
          8.529411764705882,
          9.908069458631257,
          8.960573476702509,
          27.954545454545453,
          11.719038817005544,
          10.604929051530991,
          10.593900481540931,
          16.459627329192546,
          11.887072808320951,
          11.66936790923825,
          9.411764705882351,
          16.08187134502924,
          6.869220607661823,
          11.75257731958763,
          14.285714285714286,
          9.288824383164004,
          16.489091831557584,
          8.123249299719888,
          11.83673469387755,
          9.722976643128735,
          13.81074168797954,
          12.781954887218046,
          9.67741935483871,
          8.766716196136702,
          6.420545746388443,
          9.896907216494846,
          5.778491171749598,
          7.578008915304606,
          23.71967654986523,
          24.556062912227297,
          7.763023493360572,
          10.401188707280832,
          8.625336927223719,
          12.030075187969924,
          12.720588235294118,
          8.375893769152196,
          7.5,
          9.279112754158964,
          14.189693801344289,
          11.37123745819398,
          10.048622366288493,
          20,
          6.432748538011696,
          9.114927344782034,
          7.816711590296496,
          13.497822931785196,
          11.922881785895484,
          10.364145658263306,
          14.068441064638783,
          14.285714285714286,
          6.818181818181818,
          5.778491171749598,
          7.526881720430108,
          7.578558225508318,
          7.3339703774486384,
          11.05121293800539,
          11.770674784373414,
          6.911764705882353,
          7.017543859649122,
          10.997442455242966,
          9.022556390977444,
          8.184143222506394,
          9.207161125319692,
          7.2442120985810305,
          8.235294117647058,
          6.363636363636363,
          9.932785660941,
          11.46589259796807,
          7.767517653449213,
          5.457463884430177,
          18.350515463917525,
          11.05121293800539,
          7.455429497568882,
          8.718626155878468,
          9.143686502177069,
          16.102941176470587,
          15.934627170582226,
          18.63799283154122,
          12.272727272727272,
          19.88909426987061,
          16.430171769977594,
          9.791332263242376,
          16.340181557572862,
          20.50520059435364,
          19.611021069692057,
          17.647058823529413,
          9.064327485380115,
          12.285336856010568,
          19.17525773195876,
          16.711590296495956,
          16.25544267053701,
          19.431760527650937,
          16.386554621848738,
          5.434782608695652,
          17.551020408163264,
          16.295491580662684,
          10.74168797953964,
          13.909774436090226,
          8.951406649616368,
          6.230847803881511,
          7.467652495378928,
          7.2442120985810305,
          7.716196846631629,
          7.429420505200595,
          8.26580226904376,
          8.850726552179657,
          8.99854862119013,
          7.170016295491581,
          13.909774436090226,
          8.382352941176471,
          8.273748723186925,
          8.243727598566307,
          8.636363636363637,
          9.722735674676525,
          8.439133681852129,
          9.053989488772098,
          9.212481426448736,
          8.427876823338735,
          10.588235294117649,
          6.7251461988304095,
          6.605019815059445,
          6.597938144329897,
          9.164420485175205,
          10.096397767630643,
          7.142857142857143,
          8.16326530612245,
          8.093427485062467,
          7.0588235294117645,
          6.128702757916241,
          9.090909090909092,
          7.504621072088724,
          7.468259895444361,
          9.10176779741997,
          7.13128038897893,
          8.235294117647058,
          7.894736842105263,
          7.6923076923076925,
          8.878741755454085,
          10.612244897959185,
          7.658881042911461,
          7.41687979539642,
          9.022556390977444,
          7.223113964686998,
          8.982826948480845,
          7.6923076923076925,
          8.543417366946779,
          7.170016295491581,
          7.84313725490196,
          8.676470588235293,
          14.189693801344289,
          18.823529411764707,
          12.62699564586357,
          11.461162411732754,
          13.608247422680412,
          12.244897959183673,
          7.983193277310924,
          5.434782608695652,
          9.072164948453608,
          6.605019815059445,
          7.002801120448179,
          8.571428571428571,
          7.279411764705882,
          5.9244126659857,
          7.150153217568948,
          12.186379928315413,
          19.545454545454547,
          7.062600321027287,
          10.654562828475871,
          8.915304606240714,
          7.779578606158833,
          16.95906432748538,
          5.979381443298969,
          11.859838274932615,
          9.386098427194318,
          9.387755102040815,
          14.322250639386189,
          6.472919418758257,
          8.161764705882353,
          6.870799103808813,
          7.278652906029332,
          9.703504043126683,
          7.0588235294117645,
          9.090909090909092,
          7.168458781362007,
          7.8743068391866915,
          7.766990291262136,
          7.835642618251314,
          9.50965824665676,
          7.779578606158833,
          9.433962264150944,
          8.272859216255442,
          7.864028411973617,
          8.403361344537815,
          7.115697990222705,
          8.439897698209718,
          9.398496240601505,
          9.379128137384413,
          21.804511278195488,
          10.681818181818182,
          8.771929824561404,
          7.5,
          10,
          16.95906432748538,
          39.38618925831202,
          9.022556390977444,
          8.161764705882353,
          8.78447395301328,
          8.243727598566307,
          7.578558225508318,
          6.9454817027632565,
          6.665074056378404,
          9.955423476968797,
          10.372771474878444,
          8.89487870619946,
          7.547169811320755,
          9.103641456582633,
          9.387755102040815,
          7.115697990222705,
          11.278195488721805,
          6.590909090909091,
          7.8416728902165795,
          8.4089823220258,
          20,
          6.432748538011696,
          10.304789550072568,
          8.016235413495687,
          8.636610537751222,
          6.543438077634011,
          7.405637840420449,
          6.737120211360634,
          8.708272859216255,
          10.248604769152715,
          6.6811515480717,
          8.308823529411764,
          10.21450459652707,
          11.469534050179211,
          10.909090909090908,
          6.247689463955638,
          8.507223113964686,
          7.85953177257525,
          7.429420505200595,
          9.238249594813617,
          9.35672514619883,
          8.24742268041237,
          10.92436974789916,
          11.83673469387755,
          6.137968495382944,
          21.48337595907928,
          8.897058823529411,
          9.805924412665986,
          9.772727272727272,
          5.457463884430177,
          8.791208791208792,
          7.132243684992571,
          9.238249594813617,
          7.309941520467836,
          9.64332892998679,
          6.391752577319588,
          8.99854862119013,
          8.168442415017758,
          9.523809523809524,
          8.419337316675719,
          9.022556390977444,
          6.185567010309279,
          8.823529411764707,
          13.38100102145046,
          16.129032258064516,
          12.045454545454543,
          10.979667282809611,
          11.053024645257654,
          16.8179646440516,
          15.898959881129272,
          16.53160453808752,
          10.588235294117649,
          10.526315789473683,
          14.795244385733158,
          10.103092783505154,
          18.598382749326145,
          13.497822931785196,
          18.163368848300355,
          7.563025210084033,
          14.693877551020408,
          12.221618685497011,
          12.531969309462916,
          11.654135338345863,
          172.49999999999997,
          168.1307456588356,
          186.02150537634404,
          213.63636363636365,
          171.23844731977817,
          180.20911127707245,
          128.73194221508828,
          197.77830864787387,
          196.58246656760772,
          195.6239870340356,
          240.00000000000006,
          191.52046783625732,
          171.7305151915456,
          180.82474226804123,
          227.76280323450138,
          204.0638606676343,
          221.86707255200403,
          172.6890756302521,
          25,
          222.44897959183672,
          177.07767517653454,
          255.49872122762147,
          226.69172932330832,
          4327.628520432539
         ]
        }
       ],
       "layout": {
        "coloraxis": {
         "colorbar": {
          "title": {
           "text": "mean_rating"
          }
         },
         "colorscale": [
          [
           0,
           "rgb(103,0,31)"
          ],
          [
           0.1,
           "rgb(178,24,43)"
          ],
          [
           0.2,
           "rgb(214,96,77)"
          ],
          [
           0.3,
           "rgb(244,165,130)"
          ],
          [
           0.4,
           "rgb(253,219,199)"
          ],
          [
           0.5,
           "rgb(247,247,247)"
          ],
          [
           0.6,
           "rgb(209,229,240)"
          ],
          [
           0.7,
           "rgb(146,197,222)"
          ],
          [
           0.8,
           "rgb(67,147,195)"
          ],
          [
           0.9,
           "rgb(33,102,172)"
          ],
          [
           1,
           "rgb(5,48,97)"
          ]
         ]
        },
        "height": 400,
        "legend": {
         "tracegroupgap": 0
        },
        "template": {
         "data": {
          "bar": [
           {
            "error_x": {
             "color": "#2a3f5f"
            },
            "error_y": {
             "color": "#2a3f5f"
            },
            "marker": {
             "line": {
              "color": "#E5ECF6",
              "width": 0.5
             }
            },
            "type": "bar"
           }
          ],
          "barpolar": [
           {
            "marker": {
             "line": {
              "color": "#E5ECF6",
              "width": 0.5
             }
            },
            "type": "barpolar"
           }
          ],
          "carpet": [
           {
            "aaxis": {
             "endlinecolor": "#2a3f5f",
             "gridcolor": "white",
             "linecolor": "white",
             "minorgridcolor": "white",
             "startlinecolor": "#2a3f5f"
            },
            "baxis": {
             "endlinecolor": "#2a3f5f",
             "gridcolor": "white",
             "linecolor": "white",
             "minorgridcolor": "white",
             "startlinecolor": "#2a3f5f"
            },
            "type": "carpet"
           }
          ],
          "choropleth": [
           {
            "colorbar": {
             "outlinewidth": 0,
             "ticks": ""
            },
            "type": "choropleth"
           }
          ],
          "contour": [
           {
            "colorbar": {
             "outlinewidth": 0,
             "ticks": ""
            },
            "colorscale": [
             [
              0,
              "#0d0887"
             ],
             [
              0.1111111111111111,
              "#46039f"
             ],
             [
              0.2222222222222222,
              "#7201a8"
             ],
             [
              0.3333333333333333,
              "#9c179e"
             ],
             [
              0.4444444444444444,
              "#bd3786"
             ],
             [
              0.5555555555555556,
              "#d8576b"
             ],
             [
              0.6666666666666666,
              "#ed7953"
             ],
             [
              0.7777777777777778,
              "#fb9f3a"
             ],
             [
              0.8888888888888888,
              "#fdca26"
             ],
             [
              1,
              "#f0f921"
             ]
            ],
            "type": "contour"
           }
          ],
          "contourcarpet": [
           {
            "colorbar": {
             "outlinewidth": 0,
             "ticks": ""
            },
            "type": "contourcarpet"
           }
          ],
          "heatmap": [
           {
            "colorbar": {
             "outlinewidth": 0,
             "ticks": ""
            },
            "colorscale": [
             [
              0,
              "#0d0887"
             ],
             [
              0.1111111111111111,
              "#46039f"
             ],
             [
              0.2222222222222222,
              "#7201a8"
             ],
             [
              0.3333333333333333,
              "#9c179e"
             ],
             [
              0.4444444444444444,
              "#bd3786"
             ],
             [
              0.5555555555555556,
              "#d8576b"
             ],
             [
              0.6666666666666666,
              "#ed7953"
             ],
             [
              0.7777777777777778,
              "#fb9f3a"
             ],
             [
              0.8888888888888888,
              "#fdca26"
             ],
             [
              1,
              "#f0f921"
             ]
            ],
            "type": "heatmap"
           }
          ],
          "heatmapgl": [
           {
            "colorbar": {
             "outlinewidth": 0,
             "ticks": ""
            },
            "colorscale": [
             [
              0,
              "#0d0887"
             ],
             [
              0.1111111111111111,
              "#46039f"
             ],
             [
              0.2222222222222222,
              "#7201a8"
             ],
             [
              0.3333333333333333,
              "#9c179e"
             ],
             [
              0.4444444444444444,
              "#bd3786"
             ],
             [
              0.5555555555555556,
              "#d8576b"
             ],
             [
              0.6666666666666666,
              "#ed7953"
             ],
             [
              0.7777777777777778,
              "#fb9f3a"
             ],
             [
              0.8888888888888888,
              "#fdca26"
             ],
             [
              1,
              "#f0f921"
             ]
            ],
            "type": "heatmapgl"
           }
          ],
          "histogram": [
           {
            "marker": {
             "colorbar": {
              "outlinewidth": 0,
              "ticks": ""
             }
            },
            "type": "histogram"
           }
          ],
          "histogram2d": [
           {
            "colorbar": {
             "outlinewidth": 0,
             "ticks": ""
            },
            "colorscale": [
             [
              0,
              "#0d0887"
             ],
             [
              0.1111111111111111,
              "#46039f"
             ],
             [
              0.2222222222222222,
              "#7201a8"
             ],
             [
              0.3333333333333333,
              "#9c179e"
             ],
             [
              0.4444444444444444,
              "#bd3786"
             ],
             [
              0.5555555555555556,
              "#d8576b"
             ],
             [
              0.6666666666666666,
              "#ed7953"
             ],
             [
              0.7777777777777778,
              "#fb9f3a"
             ],
             [
              0.8888888888888888,
              "#fdca26"
             ],
             [
              1,
              "#f0f921"
             ]
            ],
            "type": "histogram2d"
           }
          ],
          "histogram2dcontour": [
           {
            "colorbar": {
             "outlinewidth": 0,
             "ticks": ""
            },
            "colorscale": [
             [
              0,
              "#0d0887"
             ],
             [
              0.1111111111111111,
              "#46039f"
             ],
             [
              0.2222222222222222,
              "#7201a8"
             ],
             [
              0.3333333333333333,
              "#9c179e"
             ],
             [
              0.4444444444444444,
              "#bd3786"
             ],
             [
              0.5555555555555556,
              "#d8576b"
             ],
             [
              0.6666666666666666,
              "#ed7953"
             ],
             [
              0.7777777777777778,
              "#fb9f3a"
             ],
             [
              0.8888888888888888,
              "#fdca26"
             ],
             [
              1,
              "#f0f921"
             ]
            ],
            "type": "histogram2dcontour"
           }
          ],
          "mesh3d": [
           {
            "colorbar": {
             "outlinewidth": 0,
             "ticks": ""
            },
            "type": "mesh3d"
           }
          ],
          "parcoords": [
           {
            "line": {
             "colorbar": {
              "outlinewidth": 0,
              "ticks": ""
             }
            },
            "type": "parcoords"
           }
          ],
          "pie": [
           {
            "automargin": true,
            "type": "pie"
           }
          ],
          "scatter": [
           {
            "marker": {
             "colorbar": {
              "outlinewidth": 0,
              "ticks": ""
             }
            },
            "type": "scatter"
           }
          ],
          "scatter3d": [
           {
            "line": {
             "colorbar": {
              "outlinewidth": 0,
              "ticks": ""
             }
            },
            "marker": {
             "colorbar": {
              "outlinewidth": 0,
              "ticks": ""
             }
            },
            "type": "scatter3d"
           }
          ],
          "scattercarpet": [
           {
            "marker": {
             "colorbar": {
              "outlinewidth": 0,
              "ticks": ""
             }
            },
            "type": "scattercarpet"
           }
          ],
          "scattergeo": [
           {
            "marker": {
             "colorbar": {
              "outlinewidth": 0,
              "ticks": ""
             }
            },
            "type": "scattergeo"
           }
          ],
          "scattergl": [
           {
            "marker": {
             "colorbar": {
              "outlinewidth": 0,
              "ticks": ""
             }
            },
            "type": "scattergl"
           }
          ],
          "scattermapbox": [
           {
            "marker": {
             "colorbar": {
              "outlinewidth": 0,
              "ticks": ""
             }
            },
            "type": "scattermapbox"
           }
          ],
          "scatterpolar": [
           {
            "marker": {
             "colorbar": {
              "outlinewidth": 0,
              "ticks": ""
             }
            },
            "type": "scatterpolar"
           }
          ],
          "scatterpolargl": [
           {
            "marker": {
             "colorbar": {
              "outlinewidth": 0,
              "ticks": ""
             }
            },
            "type": "scatterpolargl"
           }
          ],
          "scatterternary": [
           {
            "marker": {
             "colorbar": {
              "outlinewidth": 0,
              "ticks": ""
             }
            },
            "type": "scatterternary"
           }
          ],
          "surface": [
           {
            "colorbar": {
             "outlinewidth": 0,
             "ticks": ""
            },
            "colorscale": [
             [
              0,
              "#0d0887"
             ],
             [
              0.1111111111111111,
              "#46039f"
             ],
             [
              0.2222222222222222,
              "#7201a8"
             ],
             [
              0.3333333333333333,
              "#9c179e"
             ],
             [
              0.4444444444444444,
              "#bd3786"
             ],
             [
              0.5555555555555556,
              "#d8576b"
             ],
             [
              0.6666666666666666,
              "#ed7953"
             ],
             [
              0.7777777777777778,
              "#fb9f3a"
             ],
             [
              0.8888888888888888,
              "#fdca26"
             ],
             [
              1,
              "#f0f921"
             ]
            ],
            "type": "surface"
           }
          ],
          "table": [
           {
            "cells": {
             "fill": {
              "color": "#EBF0F8"
             },
             "line": {
              "color": "white"
             }
            },
            "header": {
             "fill": {
              "color": "#C8D4E3"
             },
             "line": {
              "color": "white"
             }
            },
            "type": "table"
           }
          ]
         },
         "layout": {
          "annotationdefaults": {
           "arrowcolor": "#2a3f5f",
           "arrowhead": 0,
           "arrowwidth": 1
          },
          "autotypenumbers": "strict",
          "coloraxis": {
           "colorbar": {
            "outlinewidth": 0,
            "ticks": ""
           }
          },
          "colorscale": {
           "diverging": [
            [
             0,
             "#8e0152"
            ],
            [
             0.1,
             "#c51b7d"
            ],
            [
             0.2,
             "#de77ae"
            ],
            [
             0.3,
             "#f1b6da"
            ],
            [
             0.4,
             "#fde0ef"
            ],
            [
             0.5,
             "#f7f7f7"
            ],
            [
             0.6,
             "#e6f5d0"
            ],
            [
             0.7,
             "#b8e186"
            ],
            [
             0.8,
             "#7fbc41"
            ],
            [
             0.9,
             "#4d9221"
            ],
            [
             1,
             "#276419"
            ]
           ],
           "sequential": [
            [
             0,
             "#0d0887"
            ],
            [
             0.1111111111111111,
             "#46039f"
            ],
            [
             0.2222222222222222,
             "#7201a8"
            ],
            [
             0.3333333333333333,
             "#9c179e"
            ],
            [
             0.4444444444444444,
             "#bd3786"
            ],
            [
             0.5555555555555556,
             "#d8576b"
            ],
            [
             0.6666666666666666,
             "#ed7953"
            ],
            [
             0.7777777777777778,
             "#fb9f3a"
            ],
            [
             0.8888888888888888,
             "#fdca26"
            ],
            [
             1,
             "#f0f921"
            ]
           ],
           "sequentialminus": [
            [
             0,
             "#0d0887"
            ],
            [
             0.1111111111111111,
             "#46039f"
            ],
            [
             0.2222222222222222,
             "#7201a8"
            ],
            [
             0.3333333333333333,
             "#9c179e"
            ],
            [
             0.4444444444444444,
             "#bd3786"
            ],
            [
             0.5555555555555556,
             "#d8576b"
            ],
            [
             0.6666666666666666,
             "#ed7953"
            ],
            [
             0.7777777777777778,
             "#fb9f3a"
            ],
            [
             0.8888888888888888,
             "#fdca26"
            ],
            [
             1,
             "#f0f921"
            ]
           ]
          },
          "colorway": [
           "#636efa",
           "#EF553B",
           "#00cc96",
           "#ab63fa",
           "#FFA15A",
           "#19d3f3",
           "#FF6692",
           "#B6E880",
           "#FF97FF",
           "#FECB52"
          ],
          "font": {
           "color": "#2a3f5f"
          },
          "geo": {
           "bgcolor": "white",
           "lakecolor": "white",
           "landcolor": "#E5ECF6",
           "showlakes": true,
           "showland": true,
           "subunitcolor": "white"
          },
          "hoverlabel": {
           "align": "left"
          },
          "hovermode": "closest",
          "mapbox": {
           "style": "light"
          },
          "paper_bgcolor": "white",
          "plot_bgcolor": "#E5ECF6",
          "polar": {
           "angularaxis": {
            "gridcolor": "white",
            "linecolor": "white",
            "ticks": ""
           },
           "bgcolor": "#E5ECF6",
           "radialaxis": {
            "gridcolor": "white",
            "linecolor": "white",
            "ticks": ""
           }
          },
          "scene": {
           "xaxis": {
            "backgroundcolor": "#E5ECF6",
            "gridcolor": "white",
            "gridwidth": 2,
            "linecolor": "white",
            "showbackground": true,
            "ticks": "",
            "zerolinecolor": "white"
           },
           "yaxis": {
            "backgroundcolor": "#E5ECF6",
            "gridcolor": "white",
            "gridwidth": 2,
            "linecolor": "white",
            "showbackground": true,
            "ticks": "",
            "zerolinecolor": "white"
           },
           "zaxis": {
            "backgroundcolor": "#E5ECF6",
            "gridcolor": "white",
            "gridwidth": 2,
            "linecolor": "white",
            "showbackground": true,
            "ticks": "",
            "zerolinecolor": "white"
           }
          },
          "shapedefaults": {
           "line": {
            "color": "#2a3f5f"
           }
          },
          "ternary": {
           "aaxis": {
            "gridcolor": "white",
            "linecolor": "white",
            "ticks": ""
           },
           "baxis": {
            "gridcolor": "white",
            "linecolor": "white",
            "ticks": ""
           },
           "bgcolor": "#E5ECF6",
           "caxis": {
            "gridcolor": "white",
            "linecolor": "white",
            "ticks": ""
           }
          },
          "title": {
           "x": 0.05
          },
          "xaxis": {
           "automargin": true,
           "gridcolor": "white",
           "linecolor": "white",
           "ticks": "",
           "title": {
            "standoff": 15
           },
           "zerolinecolor": "white",
           "zerolinewidth": 2
          },
          "yaxis": {
           "automargin": true,
           "gridcolor": "white",
           "linecolor": "white",
           "ticks": "",
           "title": {
            "standoff": 15
           },
           "zerolinecolor": "white",
           "zerolinewidth": 2
          }
         }
        },
        "title": {
         "text": "Word % Occurrence by Genre"
        },
        "width": 800
       }
      }
     },
     "metadata": {}
    }
   ],
   "source": [
    "viz.plot_treemap()"
   ]
  },
  {
   "cell_type": "code",
   "execution_count": 12,
   "metadata": {},
   "outputs": [
    {
     "output_type": "display_data",
     "data": {
      "text/plain": "<Figure size 432x288 with 1 Axes>",
      "image/svg+xml": "<?xml version=\"1.0\" encoding=\"utf-8\" standalone=\"no\"?>\r\n<!DOCTYPE svg PUBLIC \"-//W3C//DTD SVG 1.1//EN\"\r\n  \"http://www.w3.org/Graphics/SVG/1.1/DTD/svg11.dtd\">\r\n<svg height=\"300.291325pt\" version=\"1.1\" viewBox=\"0 0 382.704688 300.291325\" width=\"382.704688pt\" xmlns=\"http://www.w3.org/2000/svg\" xmlns:xlink=\"http://www.w3.org/1999/xlink\">\r\n <metadata>\r\n  <rdf:RDF xmlns:cc=\"http://creativecommons.org/ns#\" xmlns:dc=\"http://purl.org/dc/elements/1.1/\" xmlns:rdf=\"http://www.w3.org/1999/02/22-rdf-syntax-ns#\">\r\n   <cc:Work>\r\n    <dc:type rdf:resource=\"http://purl.org/dc/dcmitype/StillImage\"/>\r\n    <dc:date>2021-06-01T12:29:36.653031</dc:date>\r\n    <dc:format>image/svg+xml</dc:format>\r\n    <dc:creator>\r\n     <cc:Agent>\r\n      <dc:title>Matplotlib v3.4.1, https://matplotlib.org/</dc:title>\r\n     </cc:Agent>\r\n    </dc:creator>\r\n   </cc:Work>\r\n  </rdf:RDF>\r\n </metadata>\r\n <defs>\r\n  <style type=\"text/css\">*{stroke-linecap:butt;stroke-linejoin:round;}</style>\r\n </defs>\r\n <g id=\"figure_1\">\r\n  <g id=\"patch_1\">\r\n   <path d=\"M 0 300.291325 \r\nL 382.704688 300.291325 \r\nL 382.704688 0 \r\nL 0 0 \r\nz\r\n\" style=\"fill:none;\"/>\r\n  </g>\r\n  <g id=\"axes_1\">\r\n   <g id=\"patch_2\">\r\n    <path d=\"M 40.704688 239.758125 \r\nL 375.504688 239.758125 \r\nL 375.504688 22.318125 \r\nL 40.704688 22.318125 \r\nz\r\n\" style=\"fill:#ffffff;\"/>\r\n   </g>\r\n   <g id=\"patch_3\">\r\n    <path clip-path=\"url(#pc93695ec74)\" d=\"M 44.052688 239.758125 \r\nL 70.836688 239.758125 \r\nL 70.836688 32.672411 \r\nL 44.052688 32.672411 \r\nz\r\n\" style=\"fill:#a03434;\"/>\r\n   </g>\r\n   <g id=\"patch_4\">\r\n    <path clip-path=\"url(#pc93695ec74)\" d=\"M 77.532688 239.758125 \r\nL 104.316688 239.758125 \r\nL 104.316688 75.886578 \r\nL 77.532688 75.886578 \r\nz\r\n\" style=\"fill:#a03434;\"/>\r\n   </g>\r\n   <g id=\"patch_5\">\r\n    <path clip-path=\"url(#pc93695ec74)\" d=\"M 111.012688 239.758125 \r\nL 137.796688 239.758125 \r\nL 137.796688 86.583155 \r\nL 111.012688 86.583155 \r\nz\r\n\" style=\"fill:#a03434;\"/>\r\n   </g>\r\n   <g id=\"patch_6\">\r\n    <path clip-path=\"url(#pc93695ec74)\" d=\"M 144.492688 239.758125 \r\nL 171.276688 239.758125 \r\nL 171.276688 100.702635 \r\nL 144.492688 100.702635 \r\nz\r\n\" style=\"fill:#a03434;\"/>\r\n   </g>\r\n   <g id=\"patch_7\">\r\n    <path clip-path=\"url(#pc93695ec74)\" d=\"M 177.972688 239.758125 \r\nL 204.756688 239.758125 \r\nL 204.756688 139.210309 \r\nL 177.972688 139.210309 \r\nz\r\n\" style=\"fill:#a03434;\"/>\r\n   </g>\r\n   <g id=\"patch_8\">\r\n    <path clip-path=\"url(#pc93695ec74)\" d=\"M 211.452688 239.758125 \r\nL 238.236688 239.758125 \r\nL 238.236688 140.493898 \r\nL 211.452688 140.493898 \r\nz\r\n\" style=\"fill:#a03434;\"/>\r\n   </g>\r\n   <g id=\"patch_9\">\r\n    <path clip-path=\"url(#pc93695ec74)\" d=\"M 244.932688 239.758125 \r\nL 271.716688 239.758125 \r\nL 271.716688 153.32979 \r\nL 244.932688 153.32979 \r\nz\r\n\" style=\"fill:#a03434;\"/>\r\n   </g>\r\n   <g id=\"patch_10\">\r\n    <path clip-path=\"url(#pc93695ec74)\" d=\"M 278.412688 239.758125 \r\nL 305.196688 239.758125 \r\nL 305.196688 154.613379 \r\nL 278.412688 154.613379 \r\nz\r\n\" style=\"fill:#a03434;\"/>\r\n   </g>\r\n   <g id=\"patch_11\">\r\n    <path clip-path=\"url(#pc93695ec74)\" d=\"M 311.892688 239.758125 \r\nL 338.676688 239.758125 \r\nL 338.676688 155.469105 \r\nL 311.892688 155.469105 \r\nz\r\n\" style=\"fill:#a03434;\"/>\r\n   </g>\r\n   <g id=\"patch_12\">\r\n    <path clip-path=\"url(#pc93695ec74)\" d=\"M 345.372688 239.758125 \r\nL 372.156688 239.758125 \r\nL 372.156688 160.603461 \r\nL 345.372688 160.603461 \r\nz\r\n\" style=\"fill:#a03434;\"/>\r\n   </g>\r\n   <g id=\"matplotlib.axis_1\">\r\n    <g id=\"xtick_1\">\r\n     <g id=\"line2d_1\">\r\n      <defs>\r\n       <path d=\"M 0 0 \r\nL 0 3.5 \r\n\" id=\"mb0578d0887\" style=\"stroke:#000000;stroke-width:0.8;\"/>\r\n      </defs>\r\n      <g>\r\n       <use style=\"stroke:#000000;stroke-width:0.8;\" x=\"57.444688\" xlink:href=\"#mb0578d0887\" y=\"239.758125\"/>\r\n      </g>\r\n     </g>\r\n     <g id=\"text_1\">\r\n      <!-- love -->\r\n      <g transform=\"translate(51.982288 266.958177)rotate(-45)scale(0.1 -0.1)\">\r\n       <defs>\r\n        <path d=\"M 603 4863 \r\nL 1178 4863 \r\nL 1178 0 \r\nL 603 0 \r\nL 603 4863 \r\nz\r\n\" id=\"DejaVuSans-6c\" transform=\"scale(0.015625)\"/>\r\n        <path d=\"M 1959 3097 \r\nQ 1497 3097 1228 2736 \r\nQ 959 2375 959 1747 \r\nQ 959 1119 1226 758 \r\nQ 1494 397 1959 397 \r\nQ 2419 397 2687 759 \r\nQ 2956 1122 2956 1747 \r\nQ 2956 2369 2687 2733 \r\nQ 2419 3097 1959 3097 \r\nz\r\nM 1959 3584 \r\nQ 2709 3584 3137 3096 \r\nQ 3566 2609 3566 1747 \r\nQ 3566 888 3137 398 \r\nQ 2709 -91 1959 -91 \r\nQ 1206 -91 779 398 \r\nQ 353 888 353 1747 \r\nQ 353 2609 779 3096 \r\nQ 1206 3584 1959 3584 \r\nz\r\n\" id=\"DejaVuSans-6f\" transform=\"scale(0.015625)\"/>\r\n        <path d=\"M 191 3500 \r\nL 800 3500 \r\nL 1894 563 \r\nL 2988 3500 \r\nL 3597 3500 \r\nL 2284 0 \r\nL 1503 0 \r\nL 191 3500 \r\nz\r\n\" id=\"DejaVuSans-76\" transform=\"scale(0.015625)\"/>\r\n        <path d=\"M 3597 1894 \r\nL 3597 1613 \r\nL 953 1613 \r\nQ 991 1019 1311 708 \r\nQ 1631 397 2203 397 \r\nQ 2534 397 2845 478 \r\nQ 3156 559 3463 722 \r\nL 3463 178 \r\nQ 3153 47 2828 -22 \r\nQ 2503 -91 2169 -91 \r\nQ 1331 -91 842 396 \r\nQ 353 884 353 1716 \r\nQ 353 2575 817 3079 \r\nQ 1281 3584 2069 3584 \r\nQ 2775 3584 3186 3129 \r\nQ 3597 2675 3597 1894 \r\nz\r\nM 3022 2063 \r\nQ 3016 2534 2758 2815 \r\nQ 2500 3097 2075 3097 \r\nQ 1594 3097 1305 2825 \r\nQ 1016 2553 972 2059 \r\nL 3022 2063 \r\nz\r\n\" id=\"DejaVuSans-65\" transform=\"scale(0.015625)\"/>\r\n       </defs>\r\n       <use xlink:href=\"#DejaVuSans-6c\"/>\r\n       <use x=\"27.783203\" xlink:href=\"#DejaVuSans-6f\"/>\r\n       <use x=\"88.964844\" xlink:href=\"#DejaVuSans-76\"/>\r\n       <use x=\"148.144531\" xlink:href=\"#DejaVuSans-65\"/>\r\n      </g>\r\n     </g>\r\n    </g>\r\n    <g id=\"xtick_2\">\r\n     <g id=\"line2d_2\">\r\n      <g>\r\n       <use style=\"stroke:#000000;stroke-width:0.8;\" x=\"90.924688\" xlink:href=\"#mb0578d0887\" y=\"239.758125\"/>\r\n      </g>\r\n     </g>\r\n     <g id=\"text_2\">\r\n      <!-- new -->\r\n      <g transform=\"translate(85.568354 266.746045)rotate(-45)scale(0.1 -0.1)\">\r\n       <defs>\r\n        <path d=\"M 3513 2113 \r\nL 3513 0 \r\nL 2938 0 \r\nL 2938 2094 \r\nQ 2938 2591 2744 2837 \r\nQ 2550 3084 2163 3084 \r\nQ 1697 3084 1428 2787 \r\nQ 1159 2491 1159 1978 \r\nL 1159 0 \r\nL 581 0 \r\nL 581 3500 \r\nL 1159 3500 \r\nL 1159 2956 \r\nQ 1366 3272 1645 3428 \r\nQ 1925 3584 2291 3584 \r\nQ 2894 3584 3203 3211 \r\nQ 3513 2838 3513 2113 \r\nz\r\n\" id=\"DejaVuSans-6e\" transform=\"scale(0.015625)\"/>\r\n        <path d=\"M 269 3500 \r\nL 844 3500 \r\nL 1563 769 \r\nL 2278 3500 \r\nL 2956 3500 \r\nL 3675 769 \r\nL 4391 3500 \r\nL 4966 3500 \r\nL 4050 0 \r\nL 3372 0 \r\nL 2619 2869 \r\nL 1863 0 \r\nL 1184 0 \r\nL 269 3500 \r\nz\r\n\" id=\"DejaVuSans-77\" transform=\"scale(0.015625)\"/>\r\n       </defs>\r\n       <use xlink:href=\"#DejaVuSans-6e\"/>\r\n       <use x=\"63.378906\" xlink:href=\"#DejaVuSans-65\"/>\r\n       <use x=\"124.902344\" xlink:href=\"#DejaVuSans-77\"/>\r\n      </g>\r\n     </g>\r\n    </g>\r\n    <g id=\"xtick_3\">\r\n     <g id=\"line2d_3\">\r\n      <g>\r\n       <use style=\"stroke:#000000;stroke-width:0.8;\" x=\"124.404688\" xlink:href=\"#mb0578d0887\" y=\"239.758125\"/>\r\n      </g>\r\n     </g>\r\n     <g id=\"text_3\">\r\n      <!-- young -->\r\n      <g transform=\"translate(115.374161 274.094431)rotate(-45)scale(0.1 -0.1)\">\r\n       <defs>\r\n        <path d=\"M 2059 -325 \r\nQ 1816 -950 1584 -1140 \r\nQ 1353 -1331 966 -1331 \r\nL 506 -1331 \r\nL 506 -850 \r\nL 844 -850 \r\nQ 1081 -850 1212 -737 \r\nQ 1344 -625 1503 -206 \r\nL 1606 56 \r\nL 191 3500 \r\nL 800 3500 \r\nL 1894 763 \r\nL 2988 3500 \r\nL 3597 3500 \r\nL 2059 -325 \r\nz\r\n\" id=\"DejaVuSans-79\" transform=\"scale(0.015625)\"/>\r\n        <path d=\"M 544 1381 \r\nL 544 3500 \r\nL 1119 3500 \r\nL 1119 1403 \r\nQ 1119 906 1312 657 \r\nQ 1506 409 1894 409 \r\nQ 2359 409 2629 706 \r\nQ 2900 1003 2900 1516 \r\nL 2900 3500 \r\nL 3475 3500 \r\nL 3475 0 \r\nL 2900 0 \r\nL 2900 538 \r\nQ 2691 219 2414 64 \r\nQ 2138 -91 1772 -91 \r\nQ 1169 -91 856 284 \r\nQ 544 659 544 1381 \r\nz\r\nM 1991 3584 \r\nL 1991 3584 \r\nz\r\n\" id=\"DejaVuSans-75\" transform=\"scale(0.015625)\"/>\r\n        <path d=\"M 2906 1791 \r\nQ 2906 2416 2648 2759 \r\nQ 2391 3103 1925 3103 \r\nQ 1463 3103 1205 2759 \r\nQ 947 2416 947 1791 \r\nQ 947 1169 1205 825 \r\nQ 1463 481 1925 481 \r\nQ 2391 481 2648 825 \r\nQ 2906 1169 2906 1791 \r\nz\r\nM 3481 434 \r\nQ 3481 -459 3084 -895 \r\nQ 2688 -1331 1869 -1331 \r\nQ 1566 -1331 1297 -1286 \r\nQ 1028 -1241 775 -1147 \r\nL 775 -588 \r\nQ 1028 -725 1275 -790 \r\nQ 1522 -856 1778 -856 \r\nQ 2344 -856 2625 -561 \r\nQ 2906 -266 2906 331 \r\nL 2906 616 \r\nQ 2728 306 2450 153 \r\nQ 2172 0 1784 0 \r\nQ 1141 0 747 490 \r\nQ 353 981 353 1791 \r\nQ 353 2603 747 3093 \r\nQ 1141 3584 1784 3584 \r\nQ 2172 3584 2450 3431 \r\nQ 2728 3278 2906 2969 \r\nL 2906 3500 \r\nL 3481 3500 \r\nL 3481 434 \r\nz\r\n\" id=\"DejaVuSans-67\" transform=\"scale(0.015625)\"/>\r\n       </defs>\r\n       <use xlink:href=\"#DejaVuSans-79\"/>\r\n       <use x=\"59.179688\" xlink:href=\"#DejaVuSans-6f\"/>\r\n       <use x=\"120.361328\" xlink:href=\"#DejaVuSans-75\"/>\r\n       <use x=\"183.740234\" xlink:href=\"#DejaVuSans-6e\"/>\r\n       <use x=\"247.119141\" xlink:href=\"#DejaVuSans-67\"/>\r\n      </g>\r\n     </g>\r\n    </g>\r\n    <g id=\"xtick_4\">\r\n     <g id=\"line2d_4\">\r\n      <g>\r\n       <use style=\"stroke:#000000;stroke-width:0.8;\" x=\"157.884688\" xlink:href=\"#mb0578d0887\" y=\"239.758125\"/>\r\n      </g>\r\n     </g>\r\n     <g id=\"text_4\">\r\n      <!-- life -->\r\n      <g transform=\"translate(154.451353 262.900047)rotate(-45)scale(0.1 -0.1)\">\r\n       <defs>\r\n        <path d=\"M 603 3500 \r\nL 1178 3500 \r\nL 1178 0 \r\nL 603 0 \r\nL 603 3500 \r\nz\r\nM 603 4863 \r\nL 1178 4863 \r\nL 1178 4134 \r\nL 603 4134 \r\nL 603 4863 \r\nz\r\n\" id=\"DejaVuSans-69\" transform=\"scale(0.015625)\"/>\r\n        <path d=\"M 2375 4863 \r\nL 2375 4384 \r\nL 1825 4384 \r\nQ 1516 4384 1395 4259 \r\nQ 1275 4134 1275 3809 \r\nL 1275 3500 \r\nL 2222 3500 \r\nL 2222 3053 \r\nL 1275 3053 \r\nL 1275 0 \r\nL 697 0 \r\nL 697 3053 \r\nL 147 3053 \r\nL 147 3500 \r\nL 697 3500 \r\nL 697 3744 \r\nQ 697 4328 969 4595 \r\nQ 1241 4863 1831 4863 \r\nL 2375 4863 \r\nz\r\n\" id=\"DejaVuSans-66\" transform=\"scale(0.015625)\"/>\r\n       </defs>\r\n       <use xlink:href=\"#DejaVuSans-6c\"/>\r\n       <use x=\"27.783203\" xlink:href=\"#DejaVuSans-69\"/>\r\n       <use x=\"55.566406\" xlink:href=\"#DejaVuSans-66\"/>\r\n       <use x=\"90.771484\" xlink:href=\"#DejaVuSans-65\"/>\r\n      </g>\r\n     </g>\r\n    </g>\r\n    <g id=\"xtick_5\">\r\n     <g id=\"line2d_5\">\r\n      <g>\r\n       <use style=\"stroke:#000000;stroke-width:0.8;\" x=\"191.364688\" xlink:href=\"#mb0578d0887\" y=\"239.758125\"/>\r\n      </g>\r\n     </g>\r\n     <g id=\"text_5\">\r\n      <!-- man -->\r\n      <g transform=\"translate(185.464765 267.833222)rotate(-45)scale(0.1 -0.1)\">\r\n       <defs>\r\n        <path d=\"M 3328 2828 \r\nQ 3544 3216 3844 3400 \r\nQ 4144 3584 4550 3584 \r\nQ 5097 3584 5394 3201 \r\nQ 5691 2819 5691 2113 \r\nL 5691 0 \r\nL 5113 0 \r\nL 5113 2094 \r\nQ 5113 2597 4934 2840 \r\nQ 4756 3084 4391 3084 \r\nQ 3944 3084 3684 2787 \r\nQ 3425 2491 3425 1978 \r\nL 3425 0 \r\nL 2847 0 \r\nL 2847 2094 \r\nQ 2847 2600 2669 2842 \r\nQ 2491 3084 2119 3084 \r\nQ 1678 3084 1418 2786 \r\nQ 1159 2488 1159 1978 \r\nL 1159 0 \r\nL 581 0 \r\nL 581 3500 \r\nL 1159 3500 \r\nL 1159 2956 \r\nQ 1356 3278 1631 3431 \r\nQ 1906 3584 2284 3584 \r\nQ 2666 3584 2933 3390 \r\nQ 3200 3197 3328 2828 \r\nz\r\n\" id=\"DejaVuSans-6d\" transform=\"scale(0.015625)\"/>\r\n        <path d=\"M 2194 1759 \r\nQ 1497 1759 1228 1600 \r\nQ 959 1441 959 1056 \r\nQ 959 750 1161 570 \r\nQ 1363 391 1709 391 \r\nQ 2188 391 2477 730 \r\nQ 2766 1069 2766 1631 \r\nL 2766 1759 \r\nL 2194 1759 \r\nz\r\nM 3341 1997 \r\nL 3341 0 \r\nL 2766 0 \r\nL 2766 531 \r\nQ 2569 213 2275 61 \r\nQ 1981 -91 1556 -91 \r\nQ 1019 -91 701 211 \r\nQ 384 513 384 1019 \r\nQ 384 1609 779 1909 \r\nQ 1175 2209 1959 2209 \r\nL 2766 2209 \r\nL 2766 2266 \r\nQ 2766 2663 2505 2880 \r\nQ 2244 3097 1772 3097 \r\nQ 1472 3097 1187 3025 \r\nQ 903 2953 641 2809 \r\nL 641 3341 \r\nQ 956 3463 1253 3523 \r\nQ 1550 3584 1831 3584 \r\nQ 2591 3584 2966 3190 \r\nQ 3341 2797 3341 1997 \r\nz\r\n\" id=\"DejaVuSans-61\" transform=\"scale(0.015625)\"/>\r\n       </defs>\r\n       <use xlink:href=\"#DejaVuSans-6d\"/>\r\n       <use x=\"97.412109\" xlink:href=\"#DejaVuSans-61\"/>\r\n       <use x=\"158.691406\" xlink:href=\"#DejaVuSans-6e\"/>\r\n      </g>\r\n     </g>\r\n    </g>\r\n    <g id=\"xtick_6\">\r\n     <g id=\"line2d_6\">\r\n      <g>\r\n       <use style=\"stroke:#000000;stroke-width:0.8;\" x=\"224.844688\" xlink:href=\"#mb0578d0887\" y=\"239.758125\"/>\r\n      </g>\r\n     </g>\r\n     <g id=\"text_6\">\r\n      <!-- meets -->\r\n      <g transform=\"translate(215.773281 274.17619)rotate(-45)scale(0.1 -0.1)\">\r\n       <defs>\r\n        <path d=\"M 1172 4494 \r\nL 1172 3500 \r\nL 2356 3500 \r\nL 2356 3053 \r\nL 1172 3053 \r\nL 1172 1153 \r\nQ 1172 725 1289 603 \r\nQ 1406 481 1766 481 \r\nL 2356 481 \r\nL 2356 0 \r\nL 1766 0 \r\nQ 1100 0 847 248 \r\nQ 594 497 594 1153 \r\nL 594 3053 \r\nL 172 3053 \r\nL 172 3500 \r\nL 594 3500 \r\nL 594 4494 \r\nL 1172 4494 \r\nz\r\n\" id=\"DejaVuSans-74\" transform=\"scale(0.015625)\"/>\r\n        <path d=\"M 2834 3397 \r\nL 2834 2853 \r\nQ 2591 2978 2328 3040 \r\nQ 2066 3103 1784 3103 \r\nQ 1356 3103 1142 2972 \r\nQ 928 2841 928 2578 \r\nQ 928 2378 1081 2264 \r\nQ 1234 2150 1697 2047 \r\nL 1894 2003 \r\nQ 2506 1872 2764 1633 \r\nQ 3022 1394 3022 966 \r\nQ 3022 478 2636 193 \r\nQ 2250 -91 1575 -91 \r\nQ 1294 -91 989 -36 \r\nQ 684 19 347 128 \r\nL 347 722 \r\nQ 666 556 975 473 \r\nQ 1284 391 1588 391 \r\nQ 1994 391 2212 530 \r\nQ 2431 669 2431 922 \r\nQ 2431 1156 2273 1281 \r\nQ 2116 1406 1581 1522 \r\nL 1381 1569 \r\nQ 847 1681 609 1914 \r\nQ 372 2147 372 2553 \r\nQ 372 3047 722 3315 \r\nQ 1072 3584 1716 3584 \r\nQ 2034 3584 2315 3537 \r\nQ 2597 3491 2834 3397 \r\nz\r\n\" id=\"DejaVuSans-73\" transform=\"scale(0.015625)\"/>\r\n       </defs>\r\n       <use xlink:href=\"#DejaVuSans-6d\"/>\r\n       <use x=\"97.412109\" xlink:href=\"#DejaVuSans-65\"/>\r\n       <use x=\"158.935547\" xlink:href=\"#DejaVuSans-65\"/>\r\n       <use x=\"220.458984\" xlink:href=\"#DejaVuSans-74\"/>\r\n       <use x=\"259.667969\" xlink:href=\"#DejaVuSans-73\"/>\r\n      </g>\r\n     </g>\r\n    </g>\r\n    <g id=\"xtick_7\">\r\n     <g id=\"line2d_7\">\r\n      <g>\r\n       <use style=\"stroke:#000000;stroke-width:0.8;\" x=\"258.324688\" xlink:href=\"#mb0578d0887\" y=\"239.758125\"/>\r\n      </g>\r\n     </g>\r\n     <g id=\"text_7\">\r\n      <!-- woman -->\r\n      <g transform=\"translate(247.370057 277.942639)rotate(-45)scale(0.1 -0.1)\">\r\n       <use xlink:href=\"#DejaVuSans-77\"/>\r\n       <use x=\"81.787109\" xlink:href=\"#DejaVuSans-6f\"/>\r\n       <use x=\"142.96875\" xlink:href=\"#DejaVuSans-6d\"/>\r\n       <use x=\"240.380859\" xlink:href=\"#DejaVuSans-61\"/>\r\n       <use x=\"301.660156\" xlink:href=\"#DejaVuSans-6e\"/>\r\n      </g>\r\n     </g>\r\n    </g>\r\n    <g id=\"xtick_8\">\r\n     <g id=\"line2d_8\">\r\n      <g>\r\n       <use style=\"stroke:#000000;stroke-width:0.8;\" x=\"291.804688\" xlink:href=\"#mb0578d0887\" y=\"239.758125\"/>\r\n      </g>\r\n     </g>\r\n     <g id=\"text_8\">\r\n      <!-- other -->\r\n      <g transform=\"translate(284.336977 270.968798)rotate(-45)scale(0.1 -0.1)\">\r\n       <defs>\r\n        <path d=\"M 3513 2113 \r\nL 3513 0 \r\nL 2938 0 \r\nL 2938 2094 \r\nQ 2938 2591 2744 2837 \r\nQ 2550 3084 2163 3084 \r\nQ 1697 3084 1428 2787 \r\nQ 1159 2491 1159 1978 \r\nL 1159 0 \r\nL 581 0 \r\nL 581 4863 \r\nL 1159 4863 \r\nL 1159 2956 \r\nQ 1366 3272 1645 3428 \r\nQ 1925 3584 2291 3584 \r\nQ 2894 3584 3203 3211 \r\nQ 3513 2838 3513 2113 \r\nz\r\n\" id=\"DejaVuSans-68\" transform=\"scale(0.015625)\"/>\r\n        <path d=\"M 2631 2963 \r\nQ 2534 3019 2420 3045 \r\nQ 2306 3072 2169 3072 \r\nQ 1681 3072 1420 2755 \r\nQ 1159 2438 1159 1844 \r\nL 1159 0 \r\nL 581 0 \r\nL 581 3500 \r\nL 1159 3500 \r\nL 1159 2956 \r\nQ 1341 3275 1631 3429 \r\nQ 1922 3584 2338 3584 \r\nQ 2397 3584 2469 3576 \r\nQ 2541 3569 2628 3553 \r\nL 2631 2963 \r\nz\r\n\" id=\"DejaVuSans-72\" transform=\"scale(0.015625)\"/>\r\n       </defs>\r\n       <use xlink:href=\"#DejaVuSans-6f\"/>\r\n       <use x=\"61.181641\" xlink:href=\"#DejaVuSans-74\"/>\r\n       <use x=\"100.390625\" xlink:href=\"#DejaVuSans-68\"/>\r\n       <use x=\"163.769531\" xlink:href=\"#DejaVuSans-65\"/>\r\n       <use x=\"225.292969\" xlink:href=\"#DejaVuSans-72\"/>\r\n      </g>\r\n     </g>\r\n    </g>\r\n    <g id=\"xtick_9\">\r\n     <g id=\"line2d_9\">\r\n      <g>\r\n       <use style=\"stroke:#000000;stroke-width:0.8;\" x=\"325.284688\" xlink:href=\"#mb0578d0887\" y=\"239.758125\"/>\r\n      </g>\r\n     </g>\r\n     <g id=\"text_9\">\r\n      <!-- first -->\r\n      <g transform=\"translate(320.327758 265.947235)rotate(-45)scale(0.1 -0.1)\">\r\n       <use xlink:href=\"#DejaVuSans-66\"/>\r\n       <use x=\"35.205078\" xlink:href=\"#DejaVuSans-69\"/>\r\n       <use x=\"62.988281\" xlink:href=\"#DejaVuSans-72\"/>\r\n       <use x=\"104.101562\" xlink:href=\"#DejaVuSans-73\"/>\r\n       <use x=\"156.201172\" xlink:href=\"#DejaVuSans-74\"/>\r\n      </g>\r\n     </g>\r\n    </g>\r\n    <g id=\"xtick_10\">\r\n     <g id=\"line2d_10\">\r\n      <g>\r\n       <use style=\"stroke:#000000;stroke-width:0.8;\" x=\"358.764688\" xlink:href=\"#mb0578d0887\" y=\"239.758125\"/>\r\n      </g>\r\n     </g>\r\n     <g id=\"text_10\">\r\n      <!-- story -->\r\n      <g transform=\"translate(351.778693 270.005365)rotate(-45)scale(0.1 -0.1)\">\r\n       <use xlink:href=\"#DejaVuSans-73\"/>\r\n       <use x=\"52.099609\" xlink:href=\"#DejaVuSans-74\"/>\r\n       <use x=\"91.308594\" xlink:href=\"#DejaVuSans-6f\"/>\r\n       <use x=\"152.490234\" xlink:href=\"#DejaVuSans-72\"/>\r\n       <use x=\"193.603516\" xlink:href=\"#DejaVuSans-79\"/>\r\n      </g>\r\n     </g>\r\n    </g>\r\n    <g id=\"text_11\">\r\n     <!-- word -->\r\n     <g transform=\"translate(195.814063 291.011638)scale(0.1 -0.1)\">\r\n      <defs>\r\n       <path d=\"M 2906 2969 \r\nL 2906 4863 \r\nL 3481 4863 \r\nL 3481 0 \r\nL 2906 0 \r\nL 2906 525 \r\nQ 2725 213 2448 61 \r\nQ 2172 -91 1784 -91 \r\nQ 1150 -91 751 415 \r\nQ 353 922 353 1747 \r\nQ 353 2572 751 3078 \r\nQ 1150 3584 1784 3584 \r\nQ 2172 3584 2448 3432 \r\nQ 2725 3281 2906 2969 \r\nz\r\nM 947 1747 \r\nQ 947 1113 1208 752 \r\nQ 1469 391 1925 391 \r\nQ 2381 391 2643 752 \r\nQ 2906 1113 2906 1747 \r\nQ 2906 2381 2643 2742 \r\nQ 2381 3103 1925 3103 \r\nQ 1469 3103 1208 2742 \r\nQ 947 2381 947 1747 \r\nz\r\n\" id=\"DejaVuSans-64\" transform=\"scale(0.015625)\"/>\r\n      </defs>\r\n      <use xlink:href=\"#DejaVuSans-77\"/>\r\n      <use x=\"81.787109\" xlink:href=\"#DejaVuSans-6f\"/>\r\n      <use x=\"142.96875\" xlink:href=\"#DejaVuSans-72\"/>\r\n      <use x=\"182.332031\" xlink:href=\"#DejaVuSans-64\"/>\r\n     </g>\r\n    </g>\r\n   </g>\r\n   <g id=\"matplotlib.axis_2\">\r\n    <g id=\"ytick_1\">\r\n     <g id=\"line2d_11\">\r\n      <defs>\r\n       <path d=\"M 0 0 \r\nL -3.5 0 \r\n\" id=\"mf8564e0ca3\" style=\"stroke:#000000;stroke-width:0.8;\"/>\r\n      </defs>\r\n      <g>\r\n       <use style=\"stroke:#000000;stroke-width:0.8;\" x=\"40.704688\" xlink:href=\"#mf8564e0ca3\" y=\"239.758125\"/>\r\n      </g>\r\n     </g>\r\n     <g id=\"text_12\">\r\n      <!-- 0 -->\r\n      <g transform=\"translate(27.342188 243.557344)scale(0.1 -0.1)\">\r\n       <defs>\r\n        <path d=\"M 2034 4250 \r\nQ 1547 4250 1301 3770 \r\nQ 1056 3291 1056 2328 \r\nQ 1056 1369 1301 889 \r\nQ 1547 409 2034 409 \r\nQ 2525 409 2770 889 \r\nQ 3016 1369 3016 2328 \r\nQ 3016 3291 2770 3770 \r\nQ 2525 4250 2034 4250 \r\nz\r\nM 2034 4750 \r\nQ 2819 4750 3233 4129 \r\nQ 3647 3509 3647 2328 \r\nQ 3647 1150 3233 529 \r\nQ 2819 -91 2034 -91 \r\nQ 1250 -91 836 529 \r\nQ 422 1150 422 2328 \r\nQ 422 3509 836 4129 \r\nQ 1250 4750 2034 4750 \r\nz\r\n\" id=\"DejaVuSans-30\" transform=\"scale(0.015625)\"/>\r\n       </defs>\r\n       <use xlink:href=\"#DejaVuSans-30\"/>\r\n      </g>\r\n     </g>\r\n    </g>\r\n    <g id=\"ytick_2\">\r\n     <g id=\"line2d_12\">\r\n      <g>\r\n       <use style=\"stroke:#000000;stroke-width:0.8;\" x=\"40.704688\" xlink:href=\"#mf8564e0ca3\" y=\"197.592222\"/>\r\n      </g>\r\n     </g>\r\n     <g id=\"text_13\">\r\n      <!-- 5 -->\r\n      <g transform=\"translate(27.342188 201.391441)scale(0.1 -0.1)\">\r\n       <defs>\r\n        <path d=\"M 691 4666 \r\nL 3169 4666 \r\nL 3169 4134 \r\nL 1269 4134 \r\nL 1269 2991 \r\nQ 1406 3038 1543 3061 \r\nQ 1681 3084 1819 3084 \r\nQ 2600 3084 3056 2656 \r\nQ 3513 2228 3513 1497 \r\nQ 3513 744 3044 326 \r\nQ 2575 -91 1722 -91 \r\nQ 1428 -91 1123 -41 \r\nQ 819 9 494 109 \r\nL 494 744 \r\nQ 775 591 1075 516 \r\nQ 1375 441 1709 441 \r\nQ 2250 441 2565 725 \r\nQ 2881 1009 2881 1497 \r\nQ 2881 1984 2565 2268 \r\nQ 2250 2553 1709 2553 \r\nQ 1456 2553 1204 2497 \r\nQ 953 2441 691 2322 \r\nL 691 4666 \r\nz\r\n\" id=\"DejaVuSans-35\" transform=\"scale(0.015625)\"/>\r\n       </defs>\r\n       <use xlink:href=\"#DejaVuSans-35\"/>\r\n      </g>\r\n     </g>\r\n    </g>\r\n    <g id=\"ytick_3\">\r\n     <g id=\"line2d_13\">\r\n      <g>\r\n       <use style=\"stroke:#000000;stroke-width:0.8;\" x=\"40.704688\" xlink:href=\"#mf8564e0ca3\" y=\"155.426319\"/>\r\n      </g>\r\n     </g>\r\n     <g id=\"text_14\">\r\n      <!-- 10 -->\r\n      <g transform=\"translate(20.979688 159.225537)scale(0.1 -0.1)\">\r\n       <defs>\r\n        <path d=\"M 794 531 \r\nL 1825 531 \r\nL 1825 4091 \r\nL 703 3866 \r\nL 703 4441 \r\nL 1819 4666 \r\nL 2450 4666 \r\nL 2450 531 \r\nL 3481 531 \r\nL 3481 0 \r\nL 794 0 \r\nL 794 531 \r\nz\r\n\" id=\"DejaVuSans-31\" transform=\"scale(0.015625)\"/>\r\n       </defs>\r\n       <use xlink:href=\"#DejaVuSans-31\"/>\r\n       <use x=\"63.623047\" xlink:href=\"#DejaVuSans-30\"/>\r\n      </g>\r\n     </g>\r\n    </g>\r\n    <g id=\"ytick_4\">\r\n     <g id=\"line2d_14\">\r\n      <g>\r\n       <use style=\"stroke:#000000;stroke-width:0.8;\" x=\"40.704688\" xlink:href=\"#mf8564e0ca3\" y=\"113.260415\"/>\r\n      </g>\r\n     </g>\r\n     <g id=\"text_15\">\r\n      <!-- 15 -->\r\n      <g transform=\"translate(20.979688 117.059634)scale(0.1 -0.1)\">\r\n       <use xlink:href=\"#DejaVuSans-31\"/>\r\n       <use x=\"63.623047\" xlink:href=\"#DejaVuSans-35\"/>\r\n      </g>\r\n     </g>\r\n    </g>\r\n    <g id=\"ytick_5\">\r\n     <g id=\"line2d_15\">\r\n      <g>\r\n       <use style=\"stroke:#000000;stroke-width:0.8;\" x=\"40.704688\" xlink:href=\"#mf8564e0ca3\" y=\"71.094512\"/>\r\n      </g>\r\n     </g>\r\n     <g id=\"text_16\">\r\n      <!-- 20 -->\r\n      <g transform=\"translate(20.979688 74.893731)scale(0.1 -0.1)\">\r\n       <defs>\r\n        <path d=\"M 1228 531 \r\nL 3431 531 \r\nL 3431 0 \r\nL 469 0 \r\nL 469 531 \r\nQ 828 903 1448 1529 \r\nQ 2069 2156 2228 2338 \r\nQ 2531 2678 2651 2914 \r\nQ 2772 3150 2772 3378 \r\nQ 2772 3750 2511 3984 \r\nQ 2250 4219 1831 4219 \r\nQ 1534 4219 1204 4116 \r\nQ 875 4013 500 3803 \r\nL 500 4441 \r\nQ 881 4594 1212 4672 \r\nQ 1544 4750 1819 4750 \r\nQ 2544 4750 2975 4387 \r\nQ 3406 4025 3406 3419 \r\nQ 3406 3131 3298 2873 \r\nQ 3191 2616 2906 2266 \r\nQ 2828 2175 2409 1742 \r\nQ 1991 1309 1228 531 \r\nz\r\n\" id=\"DejaVuSans-32\" transform=\"scale(0.015625)\"/>\r\n       </defs>\r\n       <use xlink:href=\"#DejaVuSans-32\"/>\r\n       <use x=\"63.623047\" xlink:href=\"#DejaVuSans-30\"/>\r\n      </g>\r\n     </g>\r\n    </g>\r\n    <g id=\"ytick_6\">\r\n     <g id=\"line2d_16\">\r\n      <g>\r\n       <use style=\"stroke:#000000;stroke-width:0.8;\" x=\"40.704688\" xlink:href=\"#mf8564e0ca3\" y=\"28.928609\"/>\r\n      </g>\r\n     </g>\r\n     <g id=\"text_17\">\r\n      <!-- 25 -->\r\n      <g transform=\"translate(20.979688 32.727828)scale(0.1 -0.1)\">\r\n       <use xlink:href=\"#DejaVuSans-32\"/>\r\n       <use x=\"63.623047\" xlink:href=\"#DejaVuSans-35\"/>\r\n      </g>\r\n     </g>\r\n    </g>\r\n    <g id=\"text_18\">\r\n     <!-- %_occurrence -->\r\n     <g transform=\"translate(14.621875 165.9975)rotate(-90)scale(0.1 -0.1)\">\r\n      <defs>\r\n       <path d=\"M 4653 2053 \r\nQ 4381 2053 4226 1822 \r\nQ 4072 1591 4072 1178 \r\nQ 4072 772 4226 539 \r\nQ 4381 306 4653 306 \r\nQ 4919 306 5073 539 \r\nQ 5228 772 5228 1178 \r\nQ 5228 1588 5073 1820 \r\nQ 4919 2053 4653 2053 \r\nz\r\nM 4653 2450 \r\nQ 5147 2450 5437 2106 \r\nQ 5728 1763 5728 1178 \r\nQ 5728 594 5436 251 \r\nQ 5144 -91 4653 -91 \r\nQ 4153 -91 3862 251 \r\nQ 3572 594 3572 1178 \r\nQ 3572 1766 3864 2108 \r\nQ 4156 2450 4653 2450 \r\nz\r\nM 1428 4353 \r\nQ 1159 4353 1004 4120 \r\nQ 850 3888 850 3481 \r\nQ 850 3069 1003 2837 \r\nQ 1156 2606 1428 2606 \r\nQ 1700 2606 1854 2837 \r\nQ 2009 3069 2009 3481 \r\nQ 2009 3884 1853 4118 \r\nQ 1697 4353 1428 4353 \r\nz\r\nM 4250 4750 \r\nL 4750 4750 \r\nL 1831 -91 \r\nL 1331 -91 \r\nL 4250 4750 \r\nz\r\nM 1428 4750 \r\nQ 1922 4750 2215 4408 \r\nQ 2509 4066 2509 3481 \r\nQ 2509 2891 2217 2550 \r\nQ 1925 2209 1428 2209 \r\nQ 931 2209 642 2551 \r\nQ 353 2894 353 3481 \r\nQ 353 4063 643 4406 \r\nQ 934 4750 1428 4750 \r\nz\r\n\" id=\"DejaVuSans-25\" transform=\"scale(0.015625)\"/>\r\n       <path d=\"M 3263 -1063 \r\nL 3263 -1509 \r\nL -63 -1509 \r\nL -63 -1063 \r\nL 3263 -1063 \r\nz\r\n\" id=\"DejaVuSans-5f\" transform=\"scale(0.015625)\"/>\r\n       <path d=\"M 3122 3366 \r\nL 3122 2828 \r\nQ 2878 2963 2633 3030 \r\nQ 2388 3097 2138 3097 \r\nQ 1578 3097 1268 2742 \r\nQ 959 2388 959 1747 \r\nQ 959 1106 1268 751 \r\nQ 1578 397 2138 397 \r\nQ 2388 397 2633 464 \r\nQ 2878 531 3122 666 \r\nL 3122 134 \r\nQ 2881 22 2623 -34 \r\nQ 2366 -91 2075 -91 \r\nQ 1284 -91 818 406 \r\nQ 353 903 353 1747 \r\nQ 353 2603 823 3093 \r\nQ 1294 3584 2113 3584 \r\nQ 2378 3584 2631 3529 \r\nQ 2884 3475 3122 3366 \r\nz\r\n\" id=\"DejaVuSans-63\" transform=\"scale(0.015625)\"/>\r\n      </defs>\r\n      <use xlink:href=\"#DejaVuSans-25\"/>\r\n      <use x=\"95.019531\" xlink:href=\"#DejaVuSans-5f\"/>\r\n      <use x=\"145.019531\" xlink:href=\"#DejaVuSans-6f\"/>\r\n      <use x=\"206.201172\" xlink:href=\"#DejaVuSans-63\"/>\r\n      <use x=\"261.181641\" xlink:href=\"#DejaVuSans-63\"/>\r\n      <use x=\"316.162109\" xlink:href=\"#DejaVuSans-75\"/>\r\n      <use x=\"379.541016\" xlink:href=\"#DejaVuSans-72\"/>\r\n      <use x=\"418.904297\" xlink:href=\"#DejaVuSans-72\"/>\r\n      <use x=\"457.767578\" xlink:href=\"#DejaVuSans-65\"/>\r\n      <use x=\"519.291016\" xlink:href=\"#DejaVuSans-6e\"/>\r\n      <use x=\"582.669922\" xlink:href=\"#DejaVuSans-63\"/>\r\n      <use x=\"637.650391\" xlink:href=\"#DejaVuSans-65\"/>\r\n     </g>\r\n    </g>\r\n   </g>\r\n   <g id=\"line2d_17\">\r\n    <path clip-path=\"url(#pc93695ec74)\" d=\"M 0 0 \r\n\" style=\"fill:none;stroke:#424242;stroke-linecap:square;stroke-width:2.7;\"/>\r\n   </g>\r\n   <g id=\"line2d_18\">\r\n    <path clip-path=\"url(#pc93695ec74)\" d=\"M 0 0 \r\n\" style=\"fill:none;stroke:#424242;stroke-linecap:square;stroke-width:2.7;\"/>\r\n   </g>\r\n   <g id=\"line2d_19\">\r\n    <path clip-path=\"url(#pc93695ec74)\" d=\"M 0 0 \r\n\" style=\"fill:none;stroke:#424242;stroke-linecap:square;stroke-width:2.7;\"/>\r\n   </g>\r\n   <g id=\"line2d_20\">\r\n    <path clip-path=\"url(#pc93695ec74)\" d=\"M 0 0 \r\n\" style=\"fill:none;stroke:#424242;stroke-linecap:square;stroke-width:2.7;\"/>\r\n   </g>\r\n   <g id=\"line2d_21\">\r\n    <path clip-path=\"url(#pc93695ec74)\" d=\"M 0 0 \r\n\" style=\"fill:none;stroke:#424242;stroke-linecap:square;stroke-width:2.7;\"/>\r\n   </g>\r\n   <g id=\"line2d_22\">\r\n    <path clip-path=\"url(#pc93695ec74)\" d=\"M 0 0 \r\n\" style=\"fill:none;stroke:#424242;stroke-linecap:square;stroke-width:2.7;\"/>\r\n   </g>\r\n   <g id=\"line2d_23\">\r\n    <path clip-path=\"url(#pc93695ec74)\" d=\"M 0 0 \r\n\" style=\"fill:none;stroke:#424242;stroke-linecap:square;stroke-width:2.7;\"/>\r\n   </g>\r\n   <g id=\"line2d_24\">\r\n    <path clip-path=\"url(#pc93695ec74)\" d=\"M 0 0 \r\n\" style=\"fill:none;stroke:#424242;stroke-linecap:square;stroke-width:2.7;\"/>\r\n   </g>\r\n   <g id=\"line2d_25\">\r\n    <path clip-path=\"url(#pc93695ec74)\" d=\"M 0 0 \r\n\" style=\"fill:none;stroke:#424242;stroke-linecap:square;stroke-width:2.7;\"/>\r\n   </g>\r\n   <g id=\"line2d_26\">\r\n    <path clip-path=\"url(#pc93695ec74)\" d=\"M 0 0 \r\n\" style=\"fill:none;stroke:#424242;stroke-linecap:square;stroke-width:2.7;\"/>\r\n   </g>\r\n   <g id=\"patch_13\">\r\n    <path d=\"M 40.704688 239.758125 \r\nL 40.704688 22.318125 \r\n\" style=\"fill:none;stroke:#000000;stroke-linecap:square;stroke-linejoin:miter;stroke-width:0.8;\"/>\r\n   </g>\r\n   <g id=\"patch_14\">\r\n    <path d=\"M 375.504688 239.758125 \r\nL 375.504688 22.318125 \r\n\" style=\"fill:none;stroke:#000000;stroke-linecap:square;stroke-linejoin:miter;stroke-width:0.8;\"/>\r\n   </g>\r\n   <g id=\"patch_15\">\r\n    <path d=\"M 40.704688 239.758125 \r\nL 375.504688 239.758125 \r\n\" style=\"fill:none;stroke:#000000;stroke-linecap:square;stroke-linejoin:miter;stroke-width:0.8;\"/>\r\n   </g>\r\n   <g id=\"patch_16\">\r\n    <path d=\"M 40.704688 22.318125 \r\nL 375.504688 22.318125 \r\n\" style=\"fill:none;stroke:#000000;stroke-linecap:square;stroke-linejoin:miter;stroke-width:0.8;\"/>\r\n   </g>\r\n   <g id=\"text_19\">\r\n    <!-- 25 -->\r\n    <g transform=\"translate(51.082188 30.431786)scale(0.1 -0.1)\">\r\n     <use xlink:href=\"#DejaVuSans-32\"/>\r\n     <use x=\"63.623047\" xlink:href=\"#DejaVuSans-35\"/>\r\n    </g>\r\n   </g>\r\n   <g id=\"text_20\">\r\n    <!-- 19 -->\r\n    <g transform=\"translate(84.562188 73.645953)scale(0.1 -0.1)\">\r\n     <defs>\r\n      <path d=\"M 703 97 \r\nL 703 672 \r\nQ 941 559 1184 500 \r\nQ 1428 441 1663 441 \r\nQ 2288 441 2617 861 \r\nQ 2947 1281 2994 2138 \r\nQ 2813 1869 2534 1725 \r\nQ 2256 1581 1919 1581 \r\nQ 1219 1581 811 2004 \r\nQ 403 2428 403 3163 \r\nQ 403 3881 828 4315 \r\nQ 1253 4750 1959 4750 \r\nQ 2769 4750 3195 4129 \r\nQ 3622 3509 3622 2328 \r\nQ 3622 1225 3098 567 \r\nQ 2575 -91 1691 -91 \r\nQ 1453 -91 1209 -44 \r\nQ 966 3 703 97 \r\nz\r\nM 1959 2075 \r\nQ 2384 2075 2632 2365 \r\nQ 2881 2656 2881 3163 \r\nQ 2881 3666 2632 3958 \r\nQ 2384 4250 1959 4250 \r\nQ 1534 4250 1286 3958 \r\nQ 1038 3666 1038 3163 \r\nQ 1038 2656 1286 2365 \r\nQ 1534 2075 1959 2075 \r\nz\r\n\" id=\"DejaVuSans-39\" transform=\"scale(0.015625)\"/>\r\n     </defs>\r\n     <use xlink:href=\"#DejaVuSans-31\"/>\r\n     <use x=\"63.623047\" xlink:href=\"#DejaVuSans-39\"/>\r\n    </g>\r\n   </g>\r\n   <g id=\"text_21\">\r\n    <!-- 18 -->\r\n    <g transform=\"translate(118.042188 84.34253)scale(0.1 -0.1)\">\r\n     <defs>\r\n      <path d=\"M 2034 2216 \r\nQ 1584 2216 1326 1975 \r\nQ 1069 1734 1069 1313 \r\nQ 1069 891 1326 650 \r\nQ 1584 409 2034 409 \r\nQ 2484 409 2743 651 \r\nQ 3003 894 3003 1313 \r\nQ 3003 1734 2745 1975 \r\nQ 2488 2216 2034 2216 \r\nz\r\nM 1403 2484 \r\nQ 997 2584 770 2862 \r\nQ 544 3141 544 3541 \r\nQ 544 4100 942 4425 \r\nQ 1341 4750 2034 4750 \r\nQ 2731 4750 3128 4425 \r\nQ 3525 4100 3525 3541 \r\nQ 3525 3141 3298 2862 \r\nQ 3072 2584 2669 2484 \r\nQ 3125 2378 3379 2068 \r\nQ 3634 1759 3634 1313 \r\nQ 3634 634 3220 271 \r\nQ 2806 -91 2034 -91 \r\nQ 1263 -91 848 271 \r\nQ 434 634 434 1313 \r\nQ 434 1759 690 2068 \r\nQ 947 2378 1403 2484 \r\nz\r\nM 1172 3481 \r\nQ 1172 3119 1398 2916 \r\nQ 1625 2713 2034 2713 \r\nQ 2441 2713 2670 2916 \r\nQ 2900 3119 2900 3481 \r\nQ 2900 3844 2670 4047 \r\nQ 2441 4250 2034 4250 \r\nQ 1625 4250 1398 4047 \r\nQ 1172 3844 1172 3481 \r\nz\r\n\" id=\"DejaVuSans-38\" transform=\"scale(0.015625)\"/>\r\n     </defs>\r\n     <use xlink:href=\"#DejaVuSans-31\"/>\r\n     <use x=\"63.623047\" xlink:href=\"#DejaVuSans-38\"/>\r\n    </g>\r\n   </g>\r\n   <g id=\"text_22\">\r\n    <!-- 16 -->\r\n    <g transform=\"translate(151.522188 98.46201)scale(0.1 -0.1)\">\r\n     <defs>\r\n      <path d=\"M 2113 2584 \r\nQ 1688 2584 1439 2293 \r\nQ 1191 2003 1191 1497 \r\nQ 1191 994 1439 701 \r\nQ 1688 409 2113 409 \r\nQ 2538 409 2786 701 \r\nQ 3034 994 3034 1497 \r\nQ 3034 2003 2786 2293 \r\nQ 2538 2584 2113 2584 \r\nz\r\nM 3366 4563 \r\nL 3366 3988 \r\nQ 3128 4100 2886 4159 \r\nQ 2644 4219 2406 4219 \r\nQ 1781 4219 1451 3797 \r\nQ 1122 3375 1075 2522 \r\nQ 1259 2794 1537 2939 \r\nQ 1816 3084 2150 3084 \r\nQ 2853 3084 3261 2657 \r\nQ 3669 2231 3669 1497 \r\nQ 3669 778 3244 343 \r\nQ 2819 -91 2113 -91 \r\nQ 1303 -91 875 529 \r\nQ 447 1150 447 2328 \r\nQ 447 3434 972 4092 \r\nQ 1497 4750 2381 4750 \r\nQ 2619 4750 2861 4703 \r\nQ 3103 4656 3366 4563 \r\nz\r\n\" id=\"DejaVuSans-36\" transform=\"scale(0.015625)\"/>\r\n     </defs>\r\n     <use xlink:href=\"#DejaVuSans-31\"/>\r\n     <use x=\"63.623047\" xlink:href=\"#DejaVuSans-36\"/>\r\n    </g>\r\n   </g>\r\n   <g id=\"text_23\">\r\n    <!-- 12 -->\r\n    <g transform=\"translate(185.002188 136.969684)scale(0.1 -0.1)\">\r\n     <use xlink:href=\"#DejaVuSans-31\"/>\r\n     <use x=\"63.623047\" xlink:href=\"#DejaVuSans-32\"/>\r\n    </g>\r\n   </g>\r\n   <g id=\"text_24\">\r\n    <!-- 12 -->\r\n    <g transform=\"translate(218.482188 138.253273)scale(0.1 -0.1)\">\r\n     <use xlink:href=\"#DejaVuSans-31\"/>\r\n     <use x=\"63.623047\" xlink:href=\"#DejaVuSans-32\"/>\r\n    </g>\r\n   </g>\r\n   <g id=\"text_25\">\r\n    <!-- 10 -->\r\n    <g transform=\"translate(251.962188 151.089165)scale(0.1 -0.1)\">\r\n     <use xlink:href=\"#DejaVuSans-31\"/>\r\n     <use x=\"63.623047\" xlink:href=\"#DejaVuSans-30\"/>\r\n    </g>\r\n   </g>\r\n   <g id=\"text_26\">\r\n    <!-- 10 -->\r\n    <g transform=\"translate(285.442188 152.372754)scale(0.1 -0.1)\">\r\n     <use xlink:href=\"#DejaVuSans-31\"/>\r\n     <use x=\"63.623047\" xlink:href=\"#DejaVuSans-30\"/>\r\n    </g>\r\n   </g>\r\n   <g id=\"text_27\">\r\n    <!-- 10 -->\r\n    <g transform=\"translate(318.922188 153.22848)scale(0.1 -0.1)\">\r\n     <use xlink:href=\"#DejaVuSans-31\"/>\r\n     <use x=\"63.623047\" xlink:href=\"#DejaVuSans-30\"/>\r\n    </g>\r\n   </g>\r\n   <g id=\"text_28\">\r\n    <!-- 9 -->\r\n    <g transform=\"translate(355.583438 158.362836)scale(0.1 -0.1)\">\r\n     <use xlink:href=\"#DejaVuSans-39\"/>\r\n    </g>\r\n   </g>\r\n   <g id=\"text_29\">\r\n    <!-- Most Popular Words from Romance Genre -->\r\n    <g transform=\"translate(83.192188 16.318125)scale(0.12 -0.12)\">\r\n     <defs>\r\n      <path d=\"M 628 4666 \r\nL 1569 4666 \r\nL 2759 1491 \r\nL 3956 4666 \r\nL 4897 4666 \r\nL 4897 0 \r\nL 4281 0 \r\nL 4281 4097 \r\nL 3078 897 \r\nL 2444 897 \r\nL 1241 4097 \r\nL 1241 0 \r\nL 628 0 \r\nL 628 4666 \r\nz\r\n\" id=\"DejaVuSans-4d\" transform=\"scale(0.015625)\"/>\r\n      <path id=\"DejaVuSans-20\" transform=\"scale(0.015625)\"/>\r\n      <path d=\"M 1259 4147 \r\nL 1259 2394 \r\nL 2053 2394 \r\nQ 2494 2394 2734 2622 \r\nQ 2975 2850 2975 3272 \r\nQ 2975 3691 2734 3919 \r\nQ 2494 4147 2053 4147 \r\nL 1259 4147 \r\nz\r\nM 628 4666 \r\nL 2053 4666 \r\nQ 2838 4666 3239 4311 \r\nQ 3641 3956 3641 3272 \r\nQ 3641 2581 3239 2228 \r\nQ 2838 1875 2053 1875 \r\nL 1259 1875 \r\nL 1259 0 \r\nL 628 0 \r\nL 628 4666 \r\nz\r\n\" id=\"DejaVuSans-50\" transform=\"scale(0.015625)\"/>\r\n      <path d=\"M 1159 525 \r\nL 1159 -1331 \r\nL 581 -1331 \r\nL 581 3500 \r\nL 1159 3500 \r\nL 1159 2969 \r\nQ 1341 3281 1617 3432 \r\nQ 1894 3584 2278 3584 \r\nQ 2916 3584 3314 3078 \r\nQ 3713 2572 3713 1747 \r\nQ 3713 922 3314 415 \r\nQ 2916 -91 2278 -91 \r\nQ 1894 -91 1617 61 \r\nQ 1341 213 1159 525 \r\nz\r\nM 3116 1747 \r\nQ 3116 2381 2855 2742 \r\nQ 2594 3103 2138 3103 \r\nQ 1681 3103 1420 2742 \r\nQ 1159 2381 1159 1747 \r\nQ 1159 1113 1420 752 \r\nQ 1681 391 2138 391 \r\nQ 2594 391 2855 752 \r\nQ 3116 1113 3116 1747 \r\nz\r\n\" id=\"DejaVuSans-70\" transform=\"scale(0.015625)\"/>\r\n      <path d=\"M 213 4666 \r\nL 850 4666 \r\nL 1831 722 \r\nL 2809 4666 \r\nL 3519 4666 \r\nL 4500 722 \r\nL 5478 4666 \r\nL 6119 4666 \r\nL 4947 0 \r\nL 4153 0 \r\nL 3169 4050 \r\nL 2175 0 \r\nL 1381 0 \r\nL 213 4666 \r\nz\r\n\" id=\"DejaVuSans-57\" transform=\"scale(0.015625)\"/>\r\n      <path d=\"M 2841 2188 \r\nQ 3044 2119 3236 1894 \r\nQ 3428 1669 3622 1275 \r\nL 4263 0 \r\nL 3584 0 \r\nL 2988 1197 \r\nQ 2756 1666 2539 1819 \r\nQ 2322 1972 1947 1972 \r\nL 1259 1972 \r\nL 1259 0 \r\nL 628 0 \r\nL 628 4666 \r\nL 2053 4666 \r\nQ 2853 4666 3247 4331 \r\nQ 3641 3997 3641 3322 \r\nQ 3641 2881 3436 2590 \r\nQ 3231 2300 2841 2188 \r\nz\r\nM 1259 4147 \r\nL 1259 2491 \r\nL 2053 2491 \r\nQ 2509 2491 2742 2702 \r\nQ 2975 2913 2975 3322 \r\nQ 2975 3731 2742 3939 \r\nQ 2509 4147 2053 4147 \r\nL 1259 4147 \r\nz\r\n\" id=\"DejaVuSans-52\" transform=\"scale(0.015625)\"/>\r\n      <path d=\"M 3809 666 \r\nL 3809 1919 \r\nL 2778 1919 \r\nL 2778 2438 \r\nL 4434 2438 \r\nL 4434 434 \r\nQ 4069 175 3628 42 \r\nQ 3188 -91 2688 -91 \r\nQ 1594 -91 976 548 \r\nQ 359 1188 359 2328 \r\nQ 359 3472 976 4111 \r\nQ 1594 4750 2688 4750 \r\nQ 3144 4750 3555 4637 \r\nQ 3966 4525 4313 4306 \r\nL 4313 3634 \r\nQ 3963 3931 3569 4081 \r\nQ 3175 4231 2741 4231 \r\nQ 1884 4231 1454 3753 \r\nQ 1025 3275 1025 2328 \r\nQ 1025 1384 1454 906 \r\nQ 1884 428 2741 428 \r\nQ 3075 428 3337 486 \r\nQ 3600 544 3809 666 \r\nz\r\n\" id=\"DejaVuSans-47\" transform=\"scale(0.015625)\"/>\r\n     </defs>\r\n     <use xlink:href=\"#DejaVuSans-4d\"/>\r\n     <use x=\"86.279297\" xlink:href=\"#DejaVuSans-6f\"/>\r\n     <use x=\"147.460938\" xlink:href=\"#DejaVuSans-73\"/>\r\n     <use x=\"199.560547\" xlink:href=\"#DejaVuSans-74\"/>\r\n     <use x=\"238.769531\" xlink:href=\"#DejaVuSans-20\"/>\r\n     <use x=\"270.556641\" xlink:href=\"#DejaVuSans-50\"/>\r\n     <use x=\"327.234375\" xlink:href=\"#DejaVuSans-6f\"/>\r\n     <use x=\"388.416016\" xlink:href=\"#DejaVuSans-70\"/>\r\n     <use x=\"451.892578\" xlink:href=\"#DejaVuSans-75\"/>\r\n     <use x=\"515.271484\" xlink:href=\"#DejaVuSans-6c\"/>\r\n     <use x=\"543.054688\" xlink:href=\"#DejaVuSans-61\"/>\r\n     <use x=\"604.333984\" xlink:href=\"#DejaVuSans-72\"/>\r\n     <use x=\"645.447266\" xlink:href=\"#DejaVuSans-20\"/>\r\n     <use x=\"677.234375\" xlink:href=\"#DejaVuSans-57\"/>\r\n     <use x=\"770.236328\" xlink:href=\"#DejaVuSans-6f\"/>\r\n     <use x=\"831.417969\" xlink:href=\"#DejaVuSans-72\"/>\r\n     <use x=\"870.78125\" xlink:href=\"#DejaVuSans-64\"/>\r\n     <use x=\"934.257812\" xlink:href=\"#DejaVuSans-73\"/>\r\n     <use x=\"986.357422\" xlink:href=\"#DejaVuSans-20\"/>\r\n     <use x=\"1018.144531\" xlink:href=\"#DejaVuSans-66\"/>\r\n     <use x=\"1053.349609\" xlink:href=\"#DejaVuSans-72\"/>\r\n     <use x=\"1092.212891\" xlink:href=\"#DejaVuSans-6f\"/>\r\n     <use x=\"1153.394531\" xlink:href=\"#DejaVuSans-6d\"/>\r\n     <use x=\"1250.806641\" xlink:href=\"#DejaVuSans-20\"/>\r\n     <use x=\"1282.59375\" xlink:href=\"#DejaVuSans-52\"/>\r\n     <use x=\"1347.576172\" xlink:href=\"#DejaVuSans-6f\"/>\r\n     <use x=\"1408.757812\" xlink:href=\"#DejaVuSans-6d\"/>\r\n     <use x=\"1506.169922\" xlink:href=\"#DejaVuSans-61\"/>\r\n     <use x=\"1567.449219\" xlink:href=\"#DejaVuSans-6e\"/>\r\n     <use x=\"1630.828125\" xlink:href=\"#DejaVuSans-63\"/>\r\n     <use x=\"1685.808594\" xlink:href=\"#DejaVuSans-65\"/>\r\n     <use x=\"1747.332031\" xlink:href=\"#DejaVuSans-20\"/>\r\n     <use x=\"1779.119141\" xlink:href=\"#DejaVuSans-47\"/>\r\n     <use x=\"1856.609375\" xlink:href=\"#DejaVuSans-65\"/>\r\n     <use x=\"1918.132812\" xlink:href=\"#DejaVuSans-6e\"/>\r\n     <use x=\"1981.511719\" xlink:href=\"#DejaVuSans-72\"/>\r\n     <use x=\"2020.375\" xlink:href=\"#DejaVuSans-65\"/>\r\n    </g>\r\n   </g>\r\n  </g>\r\n </g>\r\n <defs>\r\n  <clipPath id=\"pc93695ec74\">\r\n   <rect height=\"217.44\" width=\"334.8\" x=\"40.704688\" y=\"22.318125\"/>\r\n  </clipPath>\r\n </defs>\r\n</svg>\r\n",
      "image/png": "[encoded data removed]"
     },
     "metadata": {
      "needs_background": "light"
     }
    }
   ],
   "source": [
    "viz.plot_word_barchart('Romance', x='word', y='%_occurrence', sort=1, show_values=True)"
   ]
  },
  {
   "source": [
    "## 3. Flask & Streamlit\n",
    "\n",
    "* Flask server: run /api/server.py -x 8642 on terminal.\n",
    "* Streamlit: run /dashboard/app.y on terminal"
   ],
   "cell_type": "markdown",
   "metadata": {}
  },
  {
   "source": [
    "## 4. Option C EDA Questions\n",
    "\n",
    "### a. Was it possible to demonstrate the hypothesis? Why?\n",
    "After many data transformations on the Base Dataset, it was possible to find an answer to the stated hypothesis. \n",
    "                The analyzed data showed not only that the best rated genre was Film-Noir instead of Drama, \n",
    "                but neither 'murder' nor 'vengeance' were in the top 20.\n",
    "### b. What can you conclude about your data study?\n",
    "Based on the analyzed data it can be stated that the genre 'Film-Noir' has the highest rating\n",
    "                and the most common words by %_occurrence are: 'new', 'young', 'life'.\n",
    "### c. What would you change if you need to do another EDAproject?\n",
    "The data mining should be more specific. \n",
    "                There was not a clear goal at the beggining and valuable time was wasted on this particular task.\n",
    "                Furthermore, the results would be more reliable if more data was gathered.\n",
    "### d. What did you learn doing this project?\n",
    "To specify as much as possible the objective of the project and what is needed to reach that purpose."
   ],
   "cell_type": "markdown",
   "metadata": {}
  },
  {
   "source": [
    "## 5. Histograms and Heatmaps"
   ],
   "cell_type": "markdown",
   "metadata": {}
  },
  {
   "source": [
    "### 5.1 Netflix Rating Histogram"
   ],
   "cell_type": "markdown",
   "metadata": {}
  },
  {
   "cell_type": "code",
   "execution_count": 8,
   "metadata": {},
   "outputs": [
    {
     "output_type": "display_data",
     "data": {
      "text/plain": "<Figure size 432x288 with 1 Axes>",
      "image/svg+xml": "<?xml version=\"1.0\" encoding=\"utf-8\" standalone=\"no\"?>\r\n<!DOCTYPE svg PUBLIC \"-//W3C//DTD SVG 1.1//EN\"\r\n  \"http://www.w3.org/Graphics/SVG/1.1/DTD/svg11.dtd\">\r\n<svg height=\"277.5925pt\" version=\"1.1\" viewBox=\"0 0 395.328125 277.5925\" width=\"395.328125pt\" xmlns=\"http://www.w3.org/2000/svg\" xmlns:xlink=\"http://www.w3.org/1999/xlink\">\r\n <metadata>\r\n  <rdf:RDF xmlns:cc=\"http://creativecommons.org/ns#\" xmlns:dc=\"http://purl.org/dc/elements/1.1/\" xmlns:rdf=\"http://www.w3.org/1999/02/22-rdf-syntax-ns#\">\r\n   <cc:Work>\r\n    <dc:type rdf:resource=\"http://purl.org/dc/dcmitype/StillImage\"/>\r\n    <dc:date>2021-06-01T15:18:46.950768</dc:date>\r\n    <dc:format>image/svg+xml</dc:format>\r\n    <dc:creator>\r\n     <cc:Agent>\r\n      <dc:title>Matplotlib v3.4.1, https://matplotlib.org/</dc:title>\r\n     </cc:Agent>\r\n    </dc:creator>\r\n   </cc:Work>\r\n  </rdf:RDF>\r\n </metadata>\r\n <defs>\r\n  <style type=\"text/css\">*{stroke-linecap:butt;stroke-linejoin:round;}</style>\r\n </defs>\r\n <g id=\"figure_1\">\r\n  <g id=\"patch_1\">\r\n   <path d=\"M 0 277.5925 \r\nL 395.328125 277.5925 \r\nL 395.328125 0 \r\nL 0 0 \r\nz\r\n\" style=\"fill:none;\"/>\r\n  </g>\r\n  <g id=\"axes_1\">\r\n   <g id=\"patch_2\">\r\n    <path d=\"M 53.328125 239.758125 \r\nL 388.128125 239.758125 \r\nL 388.128125 22.318125 \r\nL 53.328125 22.318125 \r\nz\r\n\" style=\"fill:#ffffff;\"/>\r\n   </g>\r\n   <g id=\"patch_3\">\r\n    <path clip-path=\"url(#p938fe7f517)\" d=\"M 68.546307 239.758125 \r\nL 129.419034 239.758125 \r\nL 129.419034 233.238977 \r\nL 68.546307 233.238977 \r\nz\r\n\" style=\"fill:#1f77b4;fill-opacity:0.75;stroke:#000000;stroke-linejoin:miter;\"/>\r\n   </g>\r\n   <g id=\"patch_4\">\r\n    <path clip-path=\"url(#p938fe7f517)\" d=\"M 129.419034 239.758125 \r\nL 190.291761 239.758125 \r\nL 190.291761 193.419319 \r\nL 129.419034 193.419319 \r\nz\r\n\" style=\"fill:#1f77b4;fill-opacity:0.75;stroke:#000000;stroke-linejoin:miter;\"/>\r\n   </g>\r\n   <g id=\"patch_5\">\r\n    <path clip-path=\"url(#p938fe7f517)\" d=\"M 190.291761 239.758125 \r\nL 251.164489 239.758125 \r\nL 251.164489 52.875895 \r\nL 190.291761 52.875895 \r\nz\r\n\" style=\"fill:#1f77b4;fill-opacity:0.75;stroke:#000000;stroke-linejoin:miter;\"/>\r\n   </g>\r\n   <g id=\"patch_6\">\r\n    <path clip-path=\"url(#p938fe7f517)\" d=\"M 251.164489 239.758125 \r\nL 312.037216 239.758125 \r\nL 312.037216 32.672411 \r\nL 251.164489 32.672411 \r\nz\r\n\" style=\"fill:#1f77b4;fill-opacity:0.75;stroke:#000000;stroke-linejoin:miter;\"/>\r\n   </g>\r\n   <g id=\"patch_7\">\r\n    <path clip-path=\"url(#p938fe7f517)\" d=\"M 312.037216 239.758125 \r\nL 372.909943 239.758125 \r\nL 372.909943 213.446611 \r\nL 312.037216 213.446611 \r\nz\r\n\" style=\"fill:#1f77b4;fill-opacity:0.75;stroke:#000000;stroke-linejoin:miter;\"/>\r\n   </g>\r\n   <g id=\"matplotlib.axis_1\">\r\n    <g id=\"xtick_1\">\r\n     <g id=\"line2d_1\">\r\n      <defs>\r\n       <path d=\"M 0 0 \r\nL 0 3.5 \r\n\" id=\"me526ad5eb8\" style=\"stroke:#000000;stroke-width:0.8;\"/>\r\n      </defs>\r\n      <g>\r\n       <use style=\"stroke:#000000;stroke-width:0.8;\" x=\"88.405211\" xlink:href=\"#me526ad5eb8\" y=\"239.758125\"/>\r\n      </g>\r\n     </g>\r\n     <g id=\"text_1\">\r\n      <!-- 3 -->\r\n      <g transform=\"translate(85.223961 254.356563)scale(0.1 -0.1)\">\r\n       <defs>\r\n        <path d=\"M 2597 2516 \r\nQ 3050 2419 3304 2112 \r\nQ 3559 1806 3559 1356 \r\nQ 3559 666 3084 287 \r\nQ 2609 -91 1734 -91 \r\nQ 1441 -91 1130 -33 \r\nQ 819 25 488 141 \r\nL 488 750 \r\nQ 750 597 1062 519 \r\nQ 1375 441 1716 441 \r\nQ 2309 441 2620 675 \r\nQ 2931 909 2931 1356 \r\nQ 2931 1769 2642 2001 \r\nQ 2353 2234 1838 2234 \r\nL 1294 2234 \r\nL 1294 2753 \r\nL 1863 2753 \r\nQ 2328 2753 2575 2939 \r\nQ 2822 3125 2822 3475 \r\nQ 2822 3834 2567 4026 \r\nQ 2313 4219 1838 4219 \r\nQ 1578 4219 1281 4162 \r\nQ 984 4106 628 3988 \r\nL 628 4550 \r\nQ 988 4650 1302 4700 \r\nQ 1616 4750 1894 4750 \r\nQ 2613 4750 3031 4423 \r\nQ 3450 4097 3450 3541 \r\nQ 3450 3153 3228 2886 \r\nQ 3006 2619 2597 2516 \r\nz\r\n\" id=\"DejaVuSans-33\" transform=\"scale(0.015625)\"/>\r\n       </defs>\r\n       <use xlink:href=\"#DejaVuSans-33\"/>\r\n      </g>\r\n     </g>\r\n    </g>\r\n    <g id=\"xtick_2\">\r\n     <g id=\"line2d_2\">\r\n      <g>\r\n       <use style=\"stroke:#000000;stroke-width:0.8;\" x=\"135.215484\" xlink:href=\"#me526ad5eb8\" y=\"239.758125\"/>\r\n      </g>\r\n     </g>\r\n     <g id=\"text_2\">\r\n      <!-- 4 -->\r\n      <g transform=\"translate(132.034234 254.356563)scale(0.1 -0.1)\">\r\n       <defs>\r\n        <path d=\"M 2419 4116 \r\nL 825 1625 \r\nL 2419 1625 \r\nL 2419 4116 \r\nz\r\nM 2253 4666 \r\nL 3047 4666 \r\nL 3047 1625 \r\nL 3713 1625 \r\nL 3713 1100 \r\nL 3047 1100 \r\nL 3047 0 \r\nL 2419 0 \r\nL 2419 1100 \r\nL 313 1100 \r\nL 313 1709 \r\nL 2253 4666 \r\nz\r\n\" id=\"DejaVuSans-34\" transform=\"scale(0.015625)\"/>\r\n       </defs>\r\n       <use xlink:href=\"#DejaVuSans-34\"/>\r\n      </g>\r\n     </g>\r\n    </g>\r\n    <g id=\"xtick_3\">\r\n     <g id=\"line2d_3\">\r\n      <g>\r\n       <use style=\"stroke:#000000;stroke-width:0.8;\" x=\"182.025758\" xlink:href=\"#me526ad5eb8\" y=\"239.758125\"/>\r\n      </g>\r\n     </g>\r\n     <g id=\"text_3\">\r\n      <!-- 5 -->\r\n      <g transform=\"translate(178.844508 254.356563)scale(0.1 -0.1)\">\r\n       <defs>\r\n        <path d=\"M 691 4666 \r\nL 3169 4666 \r\nL 3169 4134 \r\nL 1269 4134 \r\nL 1269 2991 \r\nQ 1406 3038 1543 3061 \r\nQ 1681 3084 1819 3084 \r\nQ 2600 3084 3056 2656 \r\nQ 3513 2228 3513 1497 \r\nQ 3513 744 3044 326 \r\nQ 2575 -91 1722 -91 \r\nQ 1428 -91 1123 -41 \r\nQ 819 9 494 109 \r\nL 494 744 \r\nQ 775 591 1075 516 \r\nQ 1375 441 1709 441 \r\nQ 2250 441 2565 725 \r\nQ 2881 1009 2881 1497 \r\nQ 2881 1984 2565 2268 \r\nQ 2250 2553 1709 2553 \r\nQ 1456 2553 1204 2497 \r\nQ 953 2441 691 2322 \r\nL 691 4666 \r\nz\r\n\" id=\"DejaVuSans-35\" transform=\"scale(0.015625)\"/>\r\n       </defs>\r\n       <use xlink:href=\"#DejaVuSans-35\"/>\r\n      </g>\r\n     </g>\r\n    </g>\r\n    <g id=\"xtick_4\">\r\n     <g id=\"line2d_4\">\r\n      <g>\r\n       <use style=\"stroke:#000000;stroke-width:0.8;\" x=\"228.836032\" xlink:href=\"#me526ad5eb8\" y=\"239.758125\"/>\r\n      </g>\r\n     </g>\r\n     <g id=\"text_4\">\r\n      <!-- 6 -->\r\n      <g transform=\"translate(225.654782 254.356563)scale(0.1 -0.1)\">\r\n       <defs>\r\n        <path d=\"M 2113 2584 \r\nQ 1688 2584 1439 2293 \r\nQ 1191 2003 1191 1497 \r\nQ 1191 994 1439 701 \r\nQ 1688 409 2113 409 \r\nQ 2538 409 2786 701 \r\nQ 3034 994 3034 1497 \r\nQ 3034 2003 2786 2293 \r\nQ 2538 2584 2113 2584 \r\nz\r\nM 3366 4563 \r\nL 3366 3988 \r\nQ 3128 4100 2886 4159 \r\nQ 2644 4219 2406 4219 \r\nQ 1781 4219 1451 3797 \r\nQ 1122 3375 1075 2522 \r\nQ 1259 2794 1537 2939 \r\nQ 1816 3084 2150 3084 \r\nQ 2853 3084 3261 2657 \r\nQ 3669 2231 3669 1497 \r\nQ 3669 778 3244 343 \r\nQ 2819 -91 2113 -91 \r\nQ 1303 -91 875 529 \r\nQ 447 1150 447 2328 \r\nQ 447 3434 972 4092 \r\nQ 1497 4750 2381 4750 \r\nQ 2619 4750 2861 4703 \r\nQ 3103 4656 3366 4563 \r\nz\r\n\" id=\"DejaVuSans-36\" transform=\"scale(0.015625)\"/>\r\n       </defs>\r\n       <use xlink:href=\"#DejaVuSans-36\"/>\r\n      </g>\r\n     </g>\r\n    </g>\r\n    <g id=\"xtick_5\">\r\n     <g id=\"line2d_5\">\r\n      <g>\r\n       <use style=\"stroke:#000000;stroke-width:0.8;\" x=\"275.646306\" xlink:href=\"#me526ad5eb8\" y=\"239.758125\"/>\r\n      </g>\r\n     </g>\r\n     <g id=\"text_5\">\r\n      <!-- 7 -->\r\n      <g transform=\"translate(272.465056 254.356563)scale(0.1 -0.1)\">\r\n       <defs>\r\n        <path d=\"M 525 4666 \r\nL 3525 4666 \r\nL 3525 4397 \r\nL 1831 0 \r\nL 1172 0 \r\nL 2766 4134 \r\nL 525 4134 \r\nL 525 4666 \r\nz\r\n\" id=\"DejaVuSans-37\" transform=\"scale(0.015625)\"/>\r\n       </defs>\r\n       <use xlink:href=\"#DejaVuSans-37\"/>\r\n      </g>\r\n     </g>\r\n    </g>\r\n    <g id=\"xtick_6\">\r\n     <g id=\"line2d_6\">\r\n      <g>\r\n       <use style=\"stroke:#000000;stroke-width:0.8;\" x=\"322.456579\" xlink:href=\"#me526ad5eb8\" y=\"239.758125\"/>\r\n      </g>\r\n     </g>\r\n     <g id=\"text_6\">\r\n      <!-- 8 -->\r\n      <g transform=\"translate(319.275329 254.356563)scale(0.1 -0.1)\">\r\n       <defs>\r\n        <path d=\"M 2034 2216 \r\nQ 1584 2216 1326 1975 \r\nQ 1069 1734 1069 1313 \r\nQ 1069 891 1326 650 \r\nQ 1584 409 2034 409 \r\nQ 2484 409 2743 651 \r\nQ 3003 894 3003 1313 \r\nQ 3003 1734 2745 1975 \r\nQ 2488 2216 2034 2216 \r\nz\r\nM 1403 2484 \r\nQ 997 2584 770 2862 \r\nQ 544 3141 544 3541 \r\nQ 544 4100 942 4425 \r\nQ 1341 4750 2034 4750 \r\nQ 2731 4750 3128 4425 \r\nQ 3525 4100 3525 3541 \r\nQ 3525 3141 3298 2862 \r\nQ 3072 2584 2669 2484 \r\nQ 3125 2378 3379 2068 \r\nQ 3634 1759 3634 1313 \r\nQ 3634 634 3220 271 \r\nQ 2806 -91 2034 -91 \r\nQ 1263 -91 848 271 \r\nQ 434 634 434 1313 \r\nQ 434 1759 690 2068 \r\nQ 947 2378 1403 2484 \r\nz\r\nM 1172 3481 \r\nQ 1172 3119 1398 2916 \r\nQ 1625 2713 2034 2713 \r\nQ 2441 2713 2670 2916 \r\nQ 2900 3119 2900 3481 \r\nQ 2900 3844 2670 4047 \r\nQ 2441 4250 2034 4250 \r\nQ 1625 4250 1398 4047 \r\nQ 1172 3844 1172 3481 \r\nz\r\n\" id=\"DejaVuSans-38\" transform=\"scale(0.015625)\"/>\r\n       </defs>\r\n       <use xlink:href=\"#DejaVuSans-38\"/>\r\n      </g>\r\n     </g>\r\n    </g>\r\n    <g id=\"xtick_7\">\r\n     <g id=\"line2d_7\">\r\n      <g>\r\n       <use style=\"stroke:#000000;stroke-width:0.8;\" x=\"369.266853\" xlink:href=\"#me526ad5eb8\" y=\"239.758125\"/>\r\n      </g>\r\n     </g>\r\n     <g id=\"text_7\">\r\n      <!-- 9 -->\r\n      <g transform=\"translate(366.085603 254.356563)scale(0.1 -0.1)\">\r\n       <defs>\r\n        <path d=\"M 703 97 \r\nL 703 672 \r\nQ 941 559 1184 500 \r\nQ 1428 441 1663 441 \r\nQ 2288 441 2617 861 \r\nQ 2947 1281 2994 2138 \r\nQ 2813 1869 2534 1725 \r\nQ 2256 1581 1919 1581 \r\nQ 1219 1581 811 2004 \r\nQ 403 2428 403 3163 \r\nQ 403 3881 828 4315 \r\nQ 1253 4750 1959 4750 \r\nQ 2769 4750 3195 4129 \r\nQ 3622 3509 3622 2328 \r\nQ 3622 1225 3098 567 \r\nQ 2575 -91 1691 -91 \r\nQ 1453 -91 1209 -44 \r\nQ 966 3 703 97 \r\nz\r\nM 1959 2075 \r\nQ 2384 2075 2632 2365 \r\nQ 2881 2656 2881 3163 \r\nQ 2881 3666 2632 3958 \r\nQ 2384 4250 1959 4250 \r\nQ 1534 4250 1286 3958 \r\nQ 1038 3666 1038 3163 \r\nQ 1038 2656 1286 2365 \r\nQ 1534 2075 1959 2075 \r\nz\r\n\" id=\"DejaVuSans-39\" transform=\"scale(0.015625)\"/>\r\n       </defs>\r\n       <use xlink:href=\"#DejaVuSans-39\"/>\r\n      </g>\r\n     </g>\r\n    </g>\r\n    <g id=\"text_8\">\r\n     <!-- netflix_rating -->\r\n     <g transform=\"translate(187.713281 268.034688)scale(0.1 -0.1)\">\r\n      <defs>\r\n       <path d=\"M 3513 2113 \r\nL 3513 0 \r\nL 2938 0 \r\nL 2938 2094 \r\nQ 2938 2591 2744 2837 \r\nQ 2550 3084 2163 3084 \r\nQ 1697 3084 1428 2787 \r\nQ 1159 2491 1159 1978 \r\nL 1159 0 \r\nL 581 0 \r\nL 581 3500 \r\nL 1159 3500 \r\nL 1159 2956 \r\nQ 1366 3272 1645 3428 \r\nQ 1925 3584 2291 3584 \r\nQ 2894 3584 3203 3211 \r\nQ 3513 2838 3513 2113 \r\nz\r\n\" id=\"DejaVuSans-6e\" transform=\"scale(0.015625)\"/>\r\n       <path d=\"M 3597 1894 \r\nL 3597 1613 \r\nL 953 1613 \r\nQ 991 1019 1311 708 \r\nQ 1631 397 2203 397 \r\nQ 2534 397 2845 478 \r\nQ 3156 559 3463 722 \r\nL 3463 178 \r\nQ 3153 47 2828 -22 \r\nQ 2503 -91 2169 -91 \r\nQ 1331 -91 842 396 \r\nQ 353 884 353 1716 \r\nQ 353 2575 817 3079 \r\nQ 1281 3584 2069 3584 \r\nQ 2775 3584 3186 3129 \r\nQ 3597 2675 3597 1894 \r\nz\r\nM 3022 2063 \r\nQ 3016 2534 2758 2815 \r\nQ 2500 3097 2075 3097 \r\nQ 1594 3097 1305 2825 \r\nQ 1016 2553 972 2059 \r\nL 3022 2063 \r\nz\r\n\" id=\"DejaVuSans-65\" transform=\"scale(0.015625)\"/>\r\n       <path d=\"M 1172 4494 \r\nL 1172 3500 \r\nL 2356 3500 \r\nL 2356 3053 \r\nL 1172 3053 \r\nL 1172 1153 \r\nQ 1172 725 1289 603 \r\nQ 1406 481 1766 481 \r\nL 2356 481 \r\nL 2356 0 \r\nL 1766 0 \r\nQ 1100 0 847 248 \r\nQ 594 497 594 1153 \r\nL 594 3053 \r\nL 172 3053 \r\nL 172 3500 \r\nL 594 3500 \r\nL 594 4494 \r\nL 1172 4494 \r\nz\r\n\" id=\"DejaVuSans-74\" transform=\"scale(0.015625)\"/>\r\n       <path d=\"M 2375 4863 \r\nL 2375 4384 \r\nL 1825 4384 \r\nQ 1516 4384 1395 4259 \r\nQ 1275 4134 1275 3809 \r\nL 1275 3500 \r\nL 2222 3500 \r\nL 2222 3053 \r\nL 1275 3053 \r\nL 1275 0 \r\nL 697 0 \r\nL 697 3053 \r\nL 147 3053 \r\nL 147 3500 \r\nL 697 3500 \r\nL 697 3744 \r\nQ 697 4328 969 4595 \r\nQ 1241 4863 1831 4863 \r\nL 2375 4863 \r\nz\r\n\" id=\"DejaVuSans-66\" transform=\"scale(0.015625)\"/>\r\n       <path d=\"M 603 4863 \r\nL 1178 4863 \r\nL 1178 0 \r\nL 603 0 \r\nL 603 4863 \r\nz\r\n\" id=\"DejaVuSans-6c\" transform=\"scale(0.015625)\"/>\r\n       <path d=\"M 603 3500 \r\nL 1178 3500 \r\nL 1178 0 \r\nL 603 0 \r\nL 603 3500 \r\nz\r\nM 603 4863 \r\nL 1178 4863 \r\nL 1178 4134 \r\nL 603 4134 \r\nL 603 4863 \r\nz\r\n\" id=\"DejaVuSans-69\" transform=\"scale(0.015625)\"/>\r\n       <path d=\"M 3513 3500 \r\nL 2247 1797 \r\nL 3578 0 \r\nL 2900 0 \r\nL 1881 1375 \r\nL 863 0 \r\nL 184 0 \r\nL 1544 1831 \r\nL 300 3500 \r\nL 978 3500 \r\nL 1906 2253 \r\nL 2834 3500 \r\nL 3513 3500 \r\nz\r\n\" id=\"DejaVuSans-78\" transform=\"scale(0.015625)\"/>\r\n       <path d=\"M 3263 -1063 \r\nL 3263 -1509 \r\nL -63 -1509 \r\nL -63 -1063 \r\nL 3263 -1063 \r\nz\r\n\" id=\"DejaVuSans-5f\" transform=\"scale(0.015625)\"/>\r\n       <path d=\"M 2631 2963 \r\nQ 2534 3019 2420 3045 \r\nQ 2306 3072 2169 3072 \r\nQ 1681 3072 1420 2755 \r\nQ 1159 2438 1159 1844 \r\nL 1159 0 \r\nL 581 0 \r\nL 581 3500 \r\nL 1159 3500 \r\nL 1159 2956 \r\nQ 1341 3275 1631 3429 \r\nQ 1922 3584 2338 3584 \r\nQ 2397 3584 2469 3576 \r\nQ 2541 3569 2628 3553 \r\nL 2631 2963 \r\nz\r\n\" id=\"DejaVuSans-72\" transform=\"scale(0.015625)\"/>\r\n       <path d=\"M 2194 1759 \r\nQ 1497 1759 1228 1600 \r\nQ 959 1441 959 1056 \r\nQ 959 750 1161 570 \r\nQ 1363 391 1709 391 \r\nQ 2188 391 2477 730 \r\nQ 2766 1069 2766 1631 \r\nL 2766 1759 \r\nL 2194 1759 \r\nz\r\nM 3341 1997 \r\nL 3341 0 \r\nL 2766 0 \r\nL 2766 531 \r\nQ 2569 213 2275 61 \r\nQ 1981 -91 1556 -91 \r\nQ 1019 -91 701 211 \r\nQ 384 513 384 1019 \r\nQ 384 1609 779 1909 \r\nQ 1175 2209 1959 2209 \r\nL 2766 2209 \r\nL 2766 2266 \r\nQ 2766 2663 2505 2880 \r\nQ 2244 3097 1772 3097 \r\nQ 1472 3097 1187 3025 \r\nQ 903 2953 641 2809 \r\nL 641 3341 \r\nQ 956 3463 1253 3523 \r\nQ 1550 3584 1831 3584 \r\nQ 2591 3584 2966 3190 \r\nQ 3341 2797 3341 1997 \r\nz\r\n\" id=\"DejaVuSans-61\" transform=\"scale(0.015625)\"/>\r\n       <path d=\"M 2906 1791 \r\nQ 2906 2416 2648 2759 \r\nQ 2391 3103 1925 3103 \r\nQ 1463 3103 1205 2759 \r\nQ 947 2416 947 1791 \r\nQ 947 1169 1205 825 \r\nQ 1463 481 1925 481 \r\nQ 2391 481 2648 825 \r\nQ 2906 1169 2906 1791 \r\nz\r\nM 3481 434 \r\nQ 3481 -459 3084 -895 \r\nQ 2688 -1331 1869 -1331 \r\nQ 1566 -1331 1297 -1286 \r\nQ 1028 -1241 775 -1147 \r\nL 775 -588 \r\nQ 1028 -725 1275 -790 \r\nQ 1522 -856 1778 -856 \r\nQ 2344 -856 2625 -561 \r\nQ 2906 -266 2906 331 \r\nL 2906 616 \r\nQ 2728 306 2450 153 \r\nQ 2172 0 1784 0 \r\nQ 1141 0 747 490 \r\nQ 353 981 353 1791 \r\nQ 353 2603 747 3093 \r\nQ 1141 3584 1784 3584 \r\nQ 2172 3584 2450 3431 \r\nQ 2728 3278 2906 2969 \r\nL 2906 3500 \r\nL 3481 3500 \r\nL 3481 434 \r\nz\r\n\" id=\"DejaVuSans-67\" transform=\"scale(0.015625)\"/>\r\n      </defs>\r\n      <use xlink:href=\"#DejaVuSans-6e\"/>\r\n      <use x=\"63.378906\" xlink:href=\"#DejaVuSans-65\"/>\r\n      <use x=\"124.902344\" xlink:href=\"#DejaVuSans-74\"/>\r\n      <use x=\"164.111328\" xlink:href=\"#DejaVuSans-66\"/>\r\n      <use x=\"199.316406\" xlink:href=\"#DejaVuSans-6c\"/>\r\n      <use x=\"227.099609\" xlink:href=\"#DejaVuSans-69\"/>\r\n      <use x=\"254.882812\" xlink:href=\"#DejaVuSans-78\"/>\r\n      <use x=\"314.0625\" xlink:href=\"#DejaVuSans-5f\"/>\r\n      <use x=\"364.0625\" xlink:href=\"#DejaVuSans-72\"/>\r\n      <use x=\"405.175781\" xlink:href=\"#DejaVuSans-61\"/>\r\n      <use x=\"466.455078\" xlink:href=\"#DejaVuSans-74\"/>\r\n      <use x=\"505.664062\" xlink:href=\"#DejaVuSans-69\"/>\r\n      <use x=\"533.447266\" xlink:href=\"#DejaVuSans-6e\"/>\r\n      <use x=\"596.826172\" xlink:href=\"#DejaVuSans-67\"/>\r\n     </g>\r\n    </g>\r\n   </g>\r\n   <g id=\"matplotlib.axis_2\">\r\n    <g id=\"ytick_1\">\r\n     <g id=\"line2d_8\">\r\n      <defs>\r\n       <path d=\"M 0 0 \r\nL -3.5 0 \r\n\" id=\"mc6412b9b2d\" style=\"stroke:#000000;stroke-width:0.8;\"/>\r\n      </defs>\r\n      <g>\r\n       <use style=\"stroke:#000000;stroke-width:0.8;\" x=\"53.328125\" xlink:href=\"#mc6412b9b2d\" y=\"239.758125\"/>\r\n      </g>\r\n     </g>\r\n     <g id=\"text_9\">\r\n      <!-- 0 -->\r\n      <g transform=\"translate(39.965625 243.557344)scale(0.1 -0.1)\">\r\n       <defs>\r\n        <path d=\"M 2034 4250 \r\nQ 1547 4250 1301 3770 \r\nQ 1056 3291 1056 2328 \r\nQ 1056 1369 1301 889 \r\nQ 1547 409 2034 409 \r\nQ 2525 409 2770 889 \r\nQ 3016 1369 3016 2328 \r\nQ 3016 3291 2770 3770 \r\nQ 2525 4250 2034 4250 \r\nz\r\nM 2034 4750 \r\nQ 2819 4750 3233 4129 \r\nQ 3647 3509 3647 2328 \r\nQ 3647 1150 3233 529 \r\nQ 2819 -91 2034 -91 \r\nQ 1250 -91 836 529 \r\nQ 422 1150 422 2328 \r\nQ 422 3509 836 4129 \r\nQ 1250 4750 2034 4750 \r\nz\r\n\" id=\"DejaVuSans-30\" transform=\"scale(0.015625)\"/>\r\n       </defs>\r\n       <use xlink:href=\"#DejaVuSans-30\"/>\r\n      </g>\r\n     </g>\r\n    </g>\r\n    <g id=\"ytick_2\">\r\n     <g id=\"line2d_9\">\r\n      <g>\r\n       <use style=\"stroke:#000000;stroke-width:0.8;\" x=\"53.328125\" xlink:href=\"#mc6412b9b2d\" y=\"210.392595\"/>\r\n      </g>\r\n     </g>\r\n     <g id=\"text_10\">\r\n      <!-- 500 -->\r\n      <g transform=\"translate(27.240625 214.191814)scale(0.1 -0.1)\">\r\n       <use xlink:href=\"#DejaVuSans-35\"/>\r\n       <use x=\"63.623047\" xlink:href=\"#DejaVuSans-30\"/>\r\n       <use x=\"127.246094\" xlink:href=\"#DejaVuSans-30\"/>\r\n      </g>\r\n     </g>\r\n    </g>\r\n    <g id=\"ytick_3\">\r\n     <g id=\"line2d_10\">\r\n      <g>\r\n       <use style=\"stroke:#000000;stroke-width:0.8;\" x=\"53.328125\" xlink:href=\"#mc6412b9b2d\" y=\"181.027066\"/>\r\n      </g>\r\n     </g>\r\n     <g id=\"text_11\">\r\n      <!-- 1000 -->\r\n      <g transform=\"translate(20.878125 184.826285)scale(0.1 -0.1)\">\r\n       <defs>\r\n        <path d=\"M 794 531 \r\nL 1825 531 \r\nL 1825 4091 \r\nL 703 3866 \r\nL 703 4441 \r\nL 1819 4666 \r\nL 2450 4666 \r\nL 2450 531 \r\nL 3481 531 \r\nL 3481 0 \r\nL 794 0 \r\nL 794 531 \r\nz\r\n\" id=\"DejaVuSans-31\" transform=\"scale(0.015625)\"/>\r\n       </defs>\r\n       <use xlink:href=\"#DejaVuSans-31\"/>\r\n       <use x=\"63.623047\" xlink:href=\"#DejaVuSans-30\"/>\r\n       <use x=\"127.246094\" xlink:href=\"#DejaVuSans-30\"/>\r\n       <use x=\"190.869141\" xlink:href=\"#DejaVuSans-30\"/>\r\n      </g>\r\n     </g>\r\n    </g>\r\n    <g id=\"ytick_4\">\r\n     <g id=\"line2d_11\">\r\n      <g>\r\n       <use style=\"stroke:#000000;stroke-width:0.8;\" x=\"53.328125\" xlink:href=\"#mc6412b9b2d\" y=\"151.661536\"/>\r\n      </g>\r\n     </g>\r\n     <g id=\"text_12\">\r\n      <!-- 1500 -->\r\n      <g transform=\"translate(20.878125 155.460755)scale(0.1 -0.1)\">\r\n       <use xlink:href=\"#DejaVuSans-31\"/>\r\n       <use x=\"63.623047\" xlink:href=\"#DejaVuSans-35\"/>\r\n       <use x=\"127.246094\" xlink:href=\"#DejaVuSans-30\"/>\r\n       <use x=\"190.869141\" xlink:href=\"#DejaVuSans-30\"/>\r\n      </g>\r\n     </g>\r\n    </g>\r\n    <g id=\"ytick_5\">\r\n     <g id=\"line2d_12\">\r\n      <g>\r\n       <use style=\"stroke:#000000;stroke-width:0.8;\" x=\"53.328125\" xlink:href=\"#mc6412b9b2d\" y=\"122.296007\"/>\r\n      </g>\r\n     </g>\r\n     <g id=\"text_13\">\r\n      <!-- 2000 -->\r\n      <g transform=\"translate(20.878125 126.095226)scale(0.1 -0.1)\">\r\n       <defs>\r\n        <path d=\"M 1228 531 \r\nL 3431 531 \r\nL 3431 0 \r\nL 469 0 \r\nL 469 531 \r\nQ 828 903 1448 1529 \r\nQ 2069 2156 2228 2338 \r\nQ 2531 2678 2651 2914 \r\nQ 2772 3150 2772 3378 \r\nQ 2772 3750 2511 3984 \r\nQ 2250 4219 1831 4219 \r\nQ 1534 4219 1204 4116 \r\nQ 875 4013 500 3803 \r\nL 500 4441 \r\nQ 881 4594 1212 4672 \r\nQ 1544 4750 1819 4750 \r\nQ 2544 4750 2975 4387 \r\nQ 3406 4025 3406 3419 \r\nQ 3406 3131 3298 2873 \r\nQ 3191 2616 2906 2266 \r\nQ 2828 2175 2409 1742 \r\nQ 1991 1309 1228 531 \r\nz\r\n\" id=\"DejaVuSans-32\" transform=\"scale(0.015625)\"/>\r\n       </defs>\r\n       <use xlink:href=\"#DejaVuSans-32\"/>\r\n       <use x=\"63.623047\" xlink:href=\"#DejaVuSans-30\"/>\r\n       <use x=\"127.246094\" xlink:href=\"#DejaVuSans-30\"/>\r\n       <use x=\"190.869141\" xlink:href=\"#DejaVuSans-30\"/>\r\n      </g>\r\n     </g>\r\n    </g>\r\n    <g id=\"ytick_6\">\r\n     <g id=\"line2d_13\">\r\n      <g>\r\n       <use style=\"stroke:#000000;stroke-width:0.8;\" x=\"53.328125\" xlink:href=\"#mc6412b9b2d\" y=\"92.930477\"/>\r\n      </g>\r\n     </g>\r\n     <g id=\"text_14\">\r\n      <!-- 2500 -->\r\n      <g transform=\"translate(20.878125 96.729696)scale(0.1 -0.1)\">\r\n       <use xlink:href=\"#DejaVuSans-32\"/>\r\n       <use x=\"63.623047\" xlink:href=\"#DejaVuSans-35\"/>\r\n       <use x=\"127.246094\" xlink:href=\"#DejaVuSans-30\"/>\r\n       <use x=\"190.869141\" xlink:href=\"#DejaVuSans-30\"/>\r\n      </g>\r\n     </g>\r\n    </g>\r\n    <g id=\"ytick_7\">\r\n     <g id=\"line2d_14\">\r\n      <g>\r\n       <use style=\"stroke:#000000;stroke-width:0.8;\" x=\"53.328125\" xlink:href=\"#mc6412b9b2d\" y=\"63.564948\"/>\r\n      </g>\r\n     </g>\r\n     <g id=\"text_15\">\r\n      <!-- 3000 -->\r\n      <g transform=\"translate(20.878125 67.364167)scale(0.1 -0.1)\">\r\n       <use xlink:href=\"#DejaVuSans-33\"/>\r\n       <use x=\"63.623047\" xlink:href=\"#DejaVuSans-30\"/>\r\n       <use x=\"127.246094\" xlink:href=\"#DejaVuSans-30\"/>\r\n       <use x=\"190.869141\" xlink:href=\"#DejaVuSans-30\"/>\r\n      </g>\r\n     </g>\r\n    </g>\r\n    <g id=\"ytick_8\">\r\n     <g id=\"line2d_15\">\r\n      <g>\r\n       <use style=\"stroke:#000000;stroke-width:0.8;\" x=\"53.328125\" xlink:href=\"#mc6412b9b2d\" y=\"34.199418\"/>\r\n      </g>\r\n     </g>\r\n     <g id=\"text_16\">\r\n      <!-- 3500 -->\r\n      <g transform=\"translate(20.878125 37.998637)scale(0.1 -0.1)\">\r\n       <use xlink:href=\"#DejaVuSans-33\"/>\r\n       <use x=\"63.623047\" xlink:href=\"#DejaVuSans-35\"/>\r\n       <use x=\"127.246094\" xlink:href=\"#DejaVuSans-30\"/>\r\n       <use x=\"190.869141\" xlink:href=\"#DejaVuSans-30\"/>\r\n      </g>\r\n     </g>\r\n    </g>\r\n    <g id=\"text_17\">\r\n     <!-- Count -->\r\n     <g transform=\"translate(14.798438 145.886563)rotate(-90)scale(0.1 -0.1)\">\r\n      <defs>\r\n       <path d=\"M 4122 4306 \r\nL 4122 3641 \r\nQ 3803 3938 3442 4084 \r\nQ 3081 4231 2675 4231 \r\nQ 1875 4231 1450 3742 \r\nQ 1025 3253 1025 2328 \r\nQ 1025 1406 1450 917 \r\nQ 1875 428 2675 428 \r\nQ 3081 428 3442 575 \r\nQ 3803 722 4122 1019 \r\nL 4122 359 \r\nQ 3791 134 3420 21 \r\nQ 3050 -91 2638 -91 \r\nQ 1578 -91 968 557 \r\nQ 359 1206 359 2328 \r\nQ 359 3453 968 4101 \r\nQ 1578 4750 2638 4750 \r\nQ 3056 4750 3426 4639 \r\nQ 3797 4528 4122 4306 \r\nz\r\n\" id=\"DejaVuSans-43\" transform=\"scale(0.015625)\"/>\r\n       <path d=\"M 1959 3097 \r\nQ 1497 3097 1228 2736 \r\nQ 959 2375 959 1747 \r\nQ 959 1119 1226 758 \r\nQ 1494 397 1959 397 \r\nQ 2419 397 2687 759 \r\nQ 2956 1122 2956 1747 \r\nQ 2956 2369 2687 2733 \r\nQ 2419 3097 1959 3097 \r\nz\r\nM 1959 3584 \r\nQ 2709 3584 3137 3096 \r\nQ 3566 2609 3566 1747 \r\nQ 3566 888 3137 398 \r\nQ 2709 -91 1959 -91 \r\nQ 1206 -91 779 398 \r\nQ 353 888 353 1747 \r\nQ 353 2609 779 3096 \r\nQ 1206 3584 1959 3584 \r\nz\r\n\" id=\"DejaVuSans-6f\" transform=\"scale(0.015625)\"/>\r\n       <path d=\"M 544 1381 \r\nL 544 3500 \r\nL 1119 3500 \r\nL 1119 1403 \r\nQ 1119 906 1312 657 \r\nQ 1506 409 1894 409 \r\nQ 2359 409 2629 706 \r\nQ 2900 1003 2900 1516 \r\nL 2900 3500 \r\nL 3475 3500 \r\nL 3475 0 \r\nL 2900 0 \r\nL 2900 538 \r\nQ 2691 219 2414 64 \r\nQ 2138 -91 1772 -91 \r\nQ 1169 -91 856 284 \r\nQ 544 659 544 1381 \r\nz\r\nM 1991 3584 \r\nL 1991 3584 \r\nz\r\n\" id=\"DejaVuSans-75\" transform=\"scale(0.015625)\"/>\r\n      </defs>\r\n      <use xlink:href=\"#DejaVuSans-43\"/>\r\n      <use x=\"69.824219\" xlink:href=\"#DejaVuSans-6f\"/>\r\n      <use x=\"131.005859\" xlink:href=\"#DejaVuSans-75\"/>\r\n      <use x=\"194.384766\" xlink:href=\"#DejaVuSans-6e\"/>\r\n      <use x=\"257.763672\" xlink:href=\"#DejaVuSans-74\"/>\r\n     </g>\r\n    </g>\r\n   </g>\r\n   <g id=\"patch_8\">\r\n    <path d=\"M 53.328125 239.758125 \r\nL 53.328125 22.318125 \r\n\" style=\"fill:none;stroke:#000000;stroke-linecap:square;stroke-linejoin:miter;stroke-width:0.8;\"/>\r\n   </g>\r\n   <g id=\"patch_9\">\r\n    <path d=\"M 388.128125 239.758125 \r\nL 388.128125 22.318125 \r\n\" style=\"fill:none;stroke:#000000;stroke-linecap:square;stroke-linejoin:miter;stroke-width:0.8;\"/>\r\n   </g>\r\n   <g id=\"patch_10\">\r\n    <path d=\"M 53.328125 239.758125 \r\nL 388.128125 239.758125 \r\n\" style=\"fill:none;stroke:#000000;stroke-linecap:square;stroke-linejoin:miter;stroke-width:0.8;\"/>\r\n   </g>\r\n   <g id=\"patch_11\">\r\n    <path d=\"M 53.328125 22.318125 \r\nL 388.128125 22.318125 \r\n\" style=\"fill:none;stroke:#000000;stroke-linecap:square;stroke-linejoin:miter;stroke-width:0.8;\"/>\r\n   </g>\r\n   <g id=\"text_18\">\r\n    <!-- netflix_rating distribution -->\r\n    <g transform=\"translate(145.011875 16.318125)scale(0.12 -0.12)\">\r\n     <defs>\r\n      <path id=\"DejaVuSans-20\" transform=\"scale(0.015625)\"/>\r\n      <path d=\"M 2906 2969 \r\nL 2906 4863 \r\nL 3481 4863 \r\nL 3481 0 \r\nL 2906 0 \r\nL 2906 525 \r\nQ 2725 213 2448 61 \r\nQ 2172 -91 1784 -91 \r\nQ 1150 -91 751 415 \r\nQ 353 922 353 1747 \r\nQ 353 2572 751 3078 \r\nQ 1150 3584 1784 3584 \r\nQ 2172 3584 2448 3432 \r\nQ 2725 3281 2906 2969 \r\nz\r\nM 947 1747 \r\nQ 947 1113 1208 752 \r\nQ 1469 391 1925 391 \r\nQ 2381 391 2643 752 \r\nQ 2906 1113 2906 1747 \r\nQ 2906 2381 2643 2742 \r\nQ 2381 3103 1925 3103 \r\nQ 1469 3103 1208 2742 \r\nQ 947 2381 947 1747 \r\nz\r\n\" id=\"DejaVuSans-64\" transform=\"scale(0.015625)\"/>\r\n      <path d=\"M 2834 3397 \r\nL 2834 2853 \r\nQ 2591 2978 2328 3040 \r\nQ 2066 3103 1784 3103 \r\nQ 1356 3103 1142 2972 \r\nQ 928 2841 928 2578 \r\nQ 928 2378 1081 2264 \r\nQ 1234 2150 1697 2047 \r\nL 1894 2003 \r\nQ 2506 1872 2764 1633 \r\nQ 3022 1394 3022 966 \r\nQ 3022 478 2636 193 \r\nQ 2250 -91 1575 -91 \r\nQ 1294 -91 989 -36 \r\nQ 684 19 347 128 \r\nL 347 722 \r\nQ 666 556 975 473 \r\nQ 1284 391 1588 391 \r\nQ 1994 391 2212 530 \r\nQ 2431 669 2431 922 \r\nQ 2431 1156 2273 1281 \r\nQ 2116 1406 1581 1522 \r\nL 1381 1569 \r\nQ 847 1681 609 1914 \r\nQ 372 2147 372 2553 \r\nQ 372 3047 722 3315 \r\nQ 1072 3584 1716 3584 \r\nQ 2034 3584 2315 3537 \r\nQ 2597 3491 2834 3397 \r\nz\r\n\" id=\"DejaVuSans-73\" transform=\"scale(0.015625)\"/>\r\n      <path d=\"M 3116 1747 \r\nQ 3116 2381 2855 2742 \r\nQ 2594 3103 2138 3103 \r\nQ 1681 3103 1420 2742 \r\nQ 1159 2381 1159 1747 \r\nQ 1159 1113 1420 752 \r\nQ 1681 391 2138 391 \r\nQ 2594 391 2855 752 \r\nQ 3116 1113 3116 1747 \r\nz\r\nM 1159 2969 \r\nQ 1341 3281 1617 3432 \r\nQ 1894 3584 2278 3584 \r\nQ 2916 3584 3314 3078 \r\nQ 3713 2572 3713 1747 \r\nQ 3713 922 3314 415 \r\nQ 2916 -91 2278 -91 \r\nQ 1894 -91 1617 61 \r\nQ 1341 213 1159 525 \r\nL 1159 0 \r\nL 581 0 \r\nL 581 4863 \r\nL 1159 4863 \r\nL 1159 2969 \r\nz\r\n\" id=\"DejaVuSans-62\" transform=\"scale(0.015625)\"/>\r\n     </defs>\r\n     <use xlink:href=\"#DejaVuSans-6e\"/>\r\n     <use x=\"63.378906\" xlink:href=\"#DejaVuSans-65\"/>\r\n     <use x=\"124.902344\" xlink:href=\"#DejaVuSans-74\"/>\r\n     <use x=\"164.111328\" xlink:href=\"#DejaVuSans-66\"/>\r\n     <use x=\"199.316406\" xlink:href=\"#DejaVuSans-6c\"/>\r\n     <use x=\"227.099609\" xlink:href=\"#DejaVuSans-69\"/>\r\n     <use x=\"254.882812\" xlink:href=\"#DejaVuSans-78\"/>\r\n     <use x=\"314.0625\" xlink:href=\"#DejaVuSans-5f\"/>\r\n     <use x=\"364.0625\" xlink:href=\"#DejaVuSans-72\"/>\r\n     <use x=\"405.175781\" xlink:href=\"#DejaVuSans-61\"/>\r\n     <use x=\"466.455078\" xlink:href=\"#DejaVuSans-74\"/>\r\n     <use x=\"505.664062\" xlink:href=\"#DejaVuSans-69\"/>\r\n     <use x=\"533.447266\" xlink:href=\"#DejaVuSans-6e\"/>\r\n     <use x=\"596.826172\" xlink:href=\"#DejaVuSans-67\"/>\r\n     <use x=\"660.302734\" xlink:href=\"#DejaVuSans-20\"/>\r\n     <use x=\"692.089844\" xlink:href=\"#DejaVuSans-64\"/>\r\n     <use x=\"755.566406\" xlink:href=\"#DejaVuSans-69\"/>\r\n     <use x=\"783.349609\" xlink:href=\"#DejaVuSans-73\"/>\r\n     <use x=\"835.449219\" xlink:href=\"#DejaVuSans-74\"/>\r\n     <use x=\"874.658203\" xlink:href=\"#DejaVuSans-72\"/>\r\n     <use x=\"915.771484\" xlink:href=\"#DejaVuSans-69\"/>\r\n     <use x=\"943.554688\" xlink:href=\"#DejaVuSans-62\"/>\r\n     <use x=\"1007.03125\" xlink:href=\"#DejaVuSans-75\"/>\r\n     <use x=\"1070.410156\" xlink:href=\"#DejaVuSans-74\"/>\r\n     <use x=\"1109.619141\" xlink:href=\"#DejaVuSans-69\"/>\r\n     <use x=\"1137.402344\" xlink:href=\"#DejaVuSans-6f\"/>\r\n     <use x=\"1198.583984\" xlink:href=\"#DejaVuSans-6e\"/>\r\n    </g>\r\n   </g>\r\n  </g>\r\n </g>\r\n <defs>\r\n  <clipPath id=\"p938fe7f517\">\r\n   <rect height=\"217.44\" width=\"334.8\" x=\"53.328125\" y=\"22.318125\"/>\r\n  </clipPath>\r\n </defs>\r\n</svg>\r\n",
      "image/png": "[encoded data removed]"
     },
     "metadata": {
      "needs_background": "light"
     }
    }
   ],
   "source": [
    "viz.plot_displot(kde=False, bins=5)"
   ]
  },
  {
   "source": [
    "### 5.2 IMDB Rating Histogram"
   ],
   "cell_type": "markdown",
   "metadata": {}
  },
  {
   "cell_type": "code",
   "execution_count": 9,
   "metadata": {},
   "outputs": [
    {
     "output_type": "display_data",
     "data": {
      "text/plain": "<Figure size 432x288 with 1 Axes>",
      "image/svg+xml": "<?xml version=\"1.0\" encoding=\"utf-8\" standalone=\"no\"?>\r\n<!DOCTYPE svg PUBLIC \"-//W3C//DTD SVG 1.1//EN\"\r\n  \"http://www.w3.org/Graphics/SVG/1.1/DTD/svg11.dtd\">\r\n<svg height=\"277.314375pt\" version=\"1.1\" viewBox=\"0 0 395.328125 277.314375\" width=\"395.328125pt\" xmlns=\"http://www.w3.org/2000/svg\" xmlns:xlink=\"http://www.w3.org/1999/xlink\">\r\n <metadata>\r\n  <rdf:RDF xmlns:cc=\"http://creativecommons.org/ns#\" xmlns:dc=\"http://purl.org/dc/elements/1.1/\" xmlns:rdf=\"http://www.w3.org/1999/02/22-rdf-syntax-ns#\">\r\n   <cc:Work>\r\n    <dc:type rdf:resource=\"http://purl.org/dc/dcmitype/StillImage\"/>\r\n    <dc:date>2021-06-01T15:20:22.924948</dc:date>\r\n    <dc:format>image/svg+xml</dc:format>\r\n    <dc:creator>\r\n     <cc:Agent>\r\n      <dc:title>Matplotlib v3.4.1, https://matplotlib.org/</dc:title>\r\n     </cc:Agent>\r\n    </dc:creator>\r\n   </cc:Work>\r\n  </rdf:RDF>\r\n </metadata>\r\n <defs>\r\n  <style type=\"text/css\">*{stroke-linecap:butt;stroke-linejoin:round;}</style>\r\n </defs>\r\n <g id=\"figure_1\">\r\n  <g id=\"patch_1\">\r\n   <path d=\"M 0 277.314375 \r\nL 395.328125 277.314375 \r\nL 395.328125 0 \r\nL 0 0 \r\nz\r\n\" style=\"fill:none;\"/>\r\n  </g>\r\n  <g id=\"axes_1\">\r\n   <g id=\"patch_2\">\r\n    <path d=\"M 53.328125 239.758125 \r\nL 388.128125 239.758125 \r\nL 388.128125 22.318125 \r\nL 53.328125 22.318125 \r\nz\r\n\" style=\"fill:#ffffff;\"/>\r\n   </g>\r\n   <g id=\"patch_3\">\r\n    <path clip-path=\"url(#pc793c4ab8b)\" d=\"M 68.546307 239.758125 \r\nL 129.419034 239.758125 \r\nL 129.419034 233.980482 \r\nL 68.546307 233.980482 \r\nz\r\n\" style=\"fill:#1f77b4;fill-opacity:0.75;stroke:#000000;stroke-linejoin:miter;\"/>\r\n   </g>\r\n   <g id=\"patch_4\">\r\n    <path clip-path=\"url(#pc793c4ab8b)\" d=\"M 129.419034 239.758125 \r\nL 190.291761 239.758125 \r\nL 190.291761 207.071643 \r\nL 129.419034 207.071643 \r\nz\r\n\" style=\"fill:#1f77b4;fill-opacity:0.75;stroke:#000000;stroke-linejoin:miter;\"/>\r\n   </g>\r\n   <g id=\"patch_5\">\r\n    <path clip-path=\"url(#pc793c4ab8b)\" d=\"M 190.291761 239.758125 \r\nL 251.164489 239.758125 \r\nL 251.164489 77.87712 \r\nL 190.291761 77.87712 \r\nz\r\n\" style=\"fill:#1f77b4;fill-opacity:0.75;stroke:#000000;stroke-linejoin:miter;\"/>\r\n   </g>\r\n   <g id=\"patch_6\">\r\n    <path clip-path=\"url(#pc793c4ab8b)\" d=\"M 251.164489 239.758125 \r\nL 312.037216 239.758125 \r\nL 312.037216 32.672411 \r\nL 251.164489 32.672411 \r\nz\r\n\" style=\"fill:#1f77b4;fill-opacity:0.75;stroke:#000000;stroke-linejoin:miter;\"/>\r\n   </g>\r\n   <g id=\"patch_7\">\r\n    <path clip-path=\"url(#pc793c4ab8b)\" d=\"M 312.037216 239.758125 \r\nL 372.909943 239.758125 \r\nL 372.909943 223.495129 \r\nL 312.037216 223.495129 \r\nz\r\n\" style=\"fill:#1f77b4;fill-opacity:0.75;stroke:#000000;stroke-linejoin:miter;\"/>\r\n   </g>\r\n   <g id=\"matplotlib.axis_1\">\r\n    <g id=\"xtick_1\">\r\n     <g id=\"line2d_1\">\r\n      <defs>\r\n       <path d=\"M 0 0 \r\nL 0 3.5 \r\n\" id=\"mcc186365db\" style=\"stroke:#000000;stroke-width:0.8;\"/>\r\n      </defs>\r\n      <g>\r\n       <use style=\"stroke:#000000;stroke-width:0.8;\" x=\"86.45005\" xlink:href=\"#mcc186365db\" y=\"239.758125\"/>\r\n      </g>\r\n     </g>\r\n     <g id=\"text_1\">\r\n      <!-- 2 -->\r\n      <g transform=\"translate(83.2688 254.356562)scale(0.1 -0.1)\">\r\n       <defs>\r\n        <path d=\"M 1228 531 \r\nL 3431 531 \r\nL 3431 0 \r\nL 469 0 \r\nL 469 531 \r\nQ 828 903 1448 1529 \r\nQ 2069 2156 2228 2338 \r\nQ 2531 2678 2651 2914 \r\nQ 2772 3150 2772 3378 \r\nQ 2772 3750 2511 3984 \r\nQ 2250 4219 1831 4219 \r\nQ 1534 4219 1204 4116 \r\nQ 875 4013 500 3803 \r\nL 500 4441 \r\nQ 881 4594 1212 4672 \r\nQ 1544 4750 1819 4750 \r\nQ 2544 4750 2975 4387 \r\nQ 3406 4025 3406 3419 \r\nQ 3406 3131 3298 2873 \r\nQ 3191 2616 2906 2266 \r\nQ 2828 2175 2409 1742 \r\nQ 1991 1309 1228 531 \r\nz\r\n\" id=\"DejaVuSans-32\" transform=\"scale(0.015625)\"/>\r\n       </defs>\r\n       <use xlink:href=\"#DejaVuSans-32\"/>\r\n      </g>\r\n     </g>\r\n    </g>\r\n    <g id=\"xtick_2\">\r\n     <g id=\"line2d_2\">\r\n      <g>\r\n       <use style=\"stroke:#000000;stroke-width:0.8;\" x=\"158.065023\" xlink:href=\"#mcc186365db\" y=\"239.758125\"/>\r\n      </g>\r\n     </g>\r\n     <g id=\"text_2\">\r\n      <!-- 4 -->\r\n      <g transform=\"translate(154.883773 254.356562)scale(0.1 -0.1)\">\r\n       <defs>\r\n        <path d=\"M 2419 4116 \r\nL 825 1625 \r\nL 2419 1625 \r\nL 2419 4116 \r\nz\r\nM 2253 4666 \r\nL 3047 4666 \r\nL 3047 1625 \r\nL 3713 1625 \r\nL 3713 1100 \r\nL 3047 1100 \r\nL 3047 0 \r\nL 2419 0 \r\nL 2419 1100 \r\nL 313 1100 \r\nL 313 1709 \r\nL 2253 4666 \r\nz\r\n\" id=\"DejaVuSans-34\" transform=\"scale(0.015625)\"/>\r\n       </defs>\r\n       <use xlink:href=\"#DejaVuSans-34\"/>\r\n      </g>\r\n     </g>\r\n    </g>\r\n    <g id=\"xtick_3\">\r\n     <g id=\"line2d_3\">\r\n      <g>\r\n       <use style=\"stroke:#000000;stroke-width:0.8;\" x=\"229.679997\" xlink:href=\"#mcc186365db\" y=\"239.758125\"/>\r\n      </g>\r\n     </g>\r\n     <g id=\"text_3\">\r\n      <!-- 6 -->\r\n      <g transform=\"translate(226.498747 254.356562)scale(0.1 -0.1)\">\r\n       <defs>\r\n        <path d=\"M 2113 2584 \r\nQ 1688 2584 1439 2293 \r\nQ 1191 2003 1191 1497 \r\nQ 1191 994 1439 701 \r\nQ 1688 409 2113 409 \r\nQ 2538 409 2786 701 \r\nQ 3034 994 3034 1497 \r\nQ 3034 2003 2786 2293 \r\nQ 2538 2584 2113 2584 \r\nz\r\nM 3366 4563 \r\nL 3366 3988 \r\nQ 3128 4100 2886 4159 \r\nQ 2644 4219 2406 4219 \r\nQ 1781 4219 1451 3797 \r\nQ 1122 3375 1075 2522 \r\nQ 1259 2794 1537 2939 \r\nQ 1816 3084 2150 3084 \r\nQ 2853 3084 3261 2657 \r\nQ 3669 2231 3669 1497 \r\nQ 3669 778 3244 343 \r\nQ 2819 -91 2113 -91 \r\nQ 1303 -91 875 529 \r\nQ 447 1150 447 2328 \r\nQ 447 3434 972 4092 \r\nQ 1497 4750 2381 4750 \r\nQ 2619 4750 2861 4703 \r\nQ 3103 4656 3366 4563 \r\nz\r\n\" id=\"DejaVuSans-36\" transform=\"scale(0.015625)\"/>\r\n       </defs>\r\n       <use xlink:href=\"#DejaVuSans-36\"/>\r\n      </g>\r\n     </g>\r\n    </g>\r\n    <g id=\"xtick_4\">\r\n     <g id=\"line2d_4\">\r\n      <g>\r\n       <use style=\"stroke:#000000;stroke-width:0.8;\" x=\"301.29497\" xlink:href=\"#mcc186365db\" y=\"239.758125\"/>\r\n      </g>\r\n     </g>\r\n     <g id=\"text_4\">\r\n      <!-- 8 -->\r\n      <g transform=\"translate(298.11372 254.356562)scale(0.1 -0.1)\">\r\n       <defs>\r\n        <path d=\"M 2034 2216 \r\nQ 1584 2216 1326 1975 \r\nQ 1069 1734 1069 1313 \r\nQ 1069 891 1326 650 \r\nQ 1584 409 2034 409 \r\nQ 2484 409 2743 651 \r\nQ 3003 894 3003 1313 \r\nQ 3003 1734 2745 1975 \r\nQ 2488 2216 2034 2216 \r\nz\r\nM 1403 2484 \r\nQ 997 2584 770 2862 \r\nQ 544 3141 544 3541 \r\nQ 544 4100 942 4425 \r\nQ 1341 4750 2034 4750 \r\nQ 2731 4750 3128 4425 \r\nQ 3525 4100 3525 3541 \r\nQ 3525 3141 3298 2862 \r\nQ 3072 2584 2669 2484 \r\nQ 3125 2378 3379 2068 \r\nQ 3634 1759 3634 1313 \r\nQ 3634 634 3220 271 \r\nQ 2806 -91 2034 -91 \r\nQ 1263 -91 848 271 \r\nQ 434 634 434 1313 \r\nQ 434 1759 690 2068 \r\nQ 947 2378 1403 2484 \r\nz\r\nM 1172 3481 \r\nQ 1172 3119 1398 2916 \r\nQ 1625 2713 2034 2713 \r\nQ 2441 2713 2670 2916 \r\nQ 2900 3119 2900 3481 \r\nQ 2900 3844 2670 4047 \r\nQ 2441 4250 2034 4250 \r\nQ 1625 4250 1398 4047 \r\nQ 1172 3844 1172 3481 \r\nz\r\n\" id=\"DejaVuSans-38\" transform=\"scale(0.015625)\"/>\r\n       </defs>\r\n       <use xlink:href=\"#DejaVuSans-38\"/>\r\n      </g>\r\n     </g>\r\n    </g>\r\n    <g id=\"xtick_5\">\r\n     <g id=\"line2d_5\">\r\n      <g>\r\n       <use style=\"stroke:#000000;stroke-width:0.8;\" x=\"372.909943\" xlink:href=\"#mcc186365db\" y=\"239.758125\"/>\r\n      </g>\r\n     </g>\r\n     <g id=\"text_5\">\r\n      <!-- 10 -->\r\n      <g transform=\"translate(366.547443 254.356562)scale(0.1 -0.1)\">\r\n       <defs>\r\n        <path d=\"M 794 531 \r\nL 1825 531 \r\nL 1825 4091 \r\nL 703 3866 \r\nL 703 4441 \r\nL 1819 4666 \r\nL 2450 4666 \r\nL 2450 531 \r\nL 3481 531 \r\nL 3481 0 \r\nL 794 0 \r\nL 794 531 \r\nz\r\n\" id=\"DejaVuSans-31\" transform=\"scale(0.015625)\"/>\r\n        <path d=\"M 2034 4250 \r\nQ 1547 4250 1301 3770 \r\nQ 1056 3291 1056 2328 \r\nQ 1056 1369 1301 889 \r\nQ 1547 409 2034 409 \r\nQ 2525 409 2770 889 \r\nQ 3016 1369 3016 2328 \r\nQ 3016 3291 2770 3770 \r\nQ 2525 4250 2034 4250 \r\nz\r\nM 2034 4750 \r\nQ 2819 4750 3233 4129 \r\nQ 3647 3509 3647 2328 \r\nQ 3647 1150 3233 529 \r\nQ 2819 -91 2034 -91 \r\nQ 1250 -91 836 529 \r\nQ 422 1150 422 2328 \r\nQ 422 3509 836 4129 \r\nQ 1250 4750 2034 4750 \r\nz\r\n\" id=\"DejaVuSans-30\" transform=\"scale(0.015625)\"/>\r\n       </defs>\r\n       <use xlink:href=\"#DejaVuSans-31\"/>\r\n       <use x=\"63.623047\" xlink:href=\"#DejaVuSans-30\"/>\r\n      </g>\r\n     </g>\r\n    </g>\r\n    <g id=\"text_6\">\r\n     <!-- imdbRating -->\r\n     <g transform=\"translate(192.002344 268.034687)scale(0.1 -0.1)\">\r\n      <defs>\r\n       <path d=\"M 603 3500 \r\nL 1178 3500 \r\nL 1178 0 \r\nL 603 0 \r\nL 603 3500 \r\nz\r\nM 603 4863 \r\nL 1178 4863 \r\nL 1178 4134 \r\nL 603 4134 \r\nL 603 4863 \r\nz\r\n\" id=\"DejaVuSans-69\" transform=\"scale(0.015625)\"/>\r\n       <path d=\"M 3328 2828 \r\nQ 3544 3216 3844 3400 \r\nQ 4144 3584 4550 3584 \r\nQ 5097 3584 5394 3201 \r\nQ 5691 2819 5691 2113 \r\nL 5691 0 \r\nL 5113 0 \r\nL 5113 2094 \r\nQ 5113 2597 4934 2840 \r\nQ 4756 3084 4391 3084 \r\nQ 3944 3084 3684 2787 \r\nQ 3425 2491 3425 1978 \r\nL 3425 0 \r\nL 2847 0 \r\nL 2847 2094 \r\nQ 2847 2600 2669 2842 \r\nQ 2491 3084 2119 3084 \r\nQ 1678 3084 1418 2786 \r\nQ 1159 2488 1159 1978 \r\nL 1159 0 \r\nL 581 0 \r\nL 581 3500 \r\nL 1159 3500 \r\nL 1159 2956 \r\nQ 1356 3278 1631 3431 \r\nQ 1906 3584 2284 3584 \r\nQ 2666 3584 2933 3390 \r\nQ 3200 3197 3328 2828 \r\nz\r\n\" id=\"DejaVuSans-6d\" transform=\"scale(0.015625)\"/>\r\n       <path d=\"M 2906 2969 \r\nL 2906 4863 \r\nL 3481 4863 \r\nL 3481 0 \r\nL 2906 0 \r\nL 2906 525 \r\nQ 2725 213 2448 61 \r\nQ 2172 -91 1784 -91 \r\nQ 1150 -91 751 415 \r\nQ 353 922 353 1747 \r\nQ 353 2572 751 3078 \r\nQ 1150 3584 1784 3584 \r\nQ 2172 3584 2448 3432 \r\nQ 2725 3281 2906 2969 \r\nz\r\nM 947 1747 \r\nQ 947 1113 1208 752 \r\nQ 1469 391 1925 391 \r\nQ 2381 391 2643 752 \r\nQ 2906 1113 2906 1747 \r\nQ 2906 2381 2643 2742 \r\nQ 2381 3103 1925 3103 \r\nQ 1469 3103 1208 2742 \r\nQ 947 2381 947 1747 \r\nz\r\n\" id=\"DejaVuSans-64\" transform=\"scale(0.015625)\"/>\r\n       <path d=\"M 3116 1747 \r\nQ 3116 2381 2855 2742 \r\nQ 2594 3103 2138 3103 \r\nQ 1681 3103 1420 2742 \r\nQ 1159 2381 1159 1747 \r\nQ 1159 1113 1420 752 \r\nQ 1681 391 2138 391 \r\nQ 2594 391 2855 752 \r\nQ 3116 1113 3116 1747 \r\nz\r\nM 1159 2969 \r\nQ 1341 3281 1617 3432 \r\nQ 1894 3584 2278 3584 \r\nQ 2916 3584 3314 3078 \r\nQ 3713 2572 3713 1747 \r\nQ 3713 922 3314 415 \r\nQ 2916 -91 2278 -91 \r\nQ 1894 -91 1617 61 \r\nQ 1341 213 1159 525 \r\nL 1159 0 \r\nL 581 0 \r\nL 581 4863 \r\nL 1159 4863 \r\nL 1159 2969 \r\nz\r\n\" id=\"DejaVuSans-62\" transform=\"scale(0.015625)\"/>\r\n       <path d=\"M 2841 2188 \r\nQ 3044 2119 3236 1894 \r\nQ 3428 1669 3622 1275 \r\nL 4263 0 \r\nL 3584 0 \r\nL 2988 1197 \r\nQ 2756 1666 2539 1819 \r\nQ 2322 1972 1947 1972 \r\nL 1259 1972 \r\nL 1259 0 \r\nL 628 0 \r\nL 628 4666 \r\nL 2053 4666 \r\nQ 2853 4666 3247 4331 \r\nQ 3641 3997 3641 3322 \r\nQ 3641 2881 3436 2590 \r\nQ 3231 2300 2841 2188 \r\nz\r\nM 1259 4147 \r\nL 1259 2491 \r\nL 2053 2491 \r\nQ 2509 2491 2742 2702 \r\nQ 2975 2913 2975 3322 \r\nQ 2975 3731 2742 3939 \r\nQ 2509 4147 2053 4147 \r\nL 1259 4147 \r\nz\r\n\" id=\"DejaVuSans-52\" transform=\"scale(0.015625)\"/>\r\n       <path d=\"M 2194 1759 \r\nQ 1497 1759 1228 1600 \r\nQ 959 1441 959 1056 \r\nQ 959 750 1161 570 \r\nQ 1363 391 1709 391 \r\nQ 2188 391 2477 730 \r\nQ 2766 1069 2766 1631 \r\nL 2766 1759 \r\nL 2194 1759 \r\nz\r\nM 3341 1997 \r\nL 3341 0 \r\nL 2766 0 \r\nL 2766 531 \r\nQ 2569 213 2275 61 \r\nQ 1981 -91 1556 -91 \r\nQ 1019 -91 701 211 \r\nQ 384 513 384 1019 \r\nQ 384 1609 779 1909 \r\nQ 1175 2209 1959 2209 \r\nL 2766 2209 \r\nL 2766 2266 \r\nQ 2766 2663 2505 2880 \r\nQ 2244 3097 1772 3097 \r\nQ 1472 3097 1187 3025 \r\nQ 903 2953 641 2809 \r\nL 641 3341 \r\nQ 956 3463 1253 3523 \r\nQ 1550 3584 1831 3584 \r\nQ 2591 3584 2966 3190 \r\nQ 3341 2797 3341 1997 \r\nz\r\n\" id=\"DejaVuSans-61\" transform=\"scale(0.015625)\"/>\r\n       <path d=\"M 1172 4494 \r\nL 1172 3500 \r\nL 2356 3500 \r\nL 2356 3053 \r\nL 1172 3053 \r\nL 1172 1153 \r\nQ 1172 725 1289 603 \r\nQ 1406 481 1766 481 \r\nL 2356 481 \r\nL 2356 0 \r\nL 1766 0 \r\nQ 1100 0 847 248 \r\nQ 594 497 594 1153 \r\nL 594 3053 \r\nL 172 3053 \r\nL 172 3500 \r\nL 594 3500 \r\nL 594 4494 \r\nL 1172 4494 \r\nz\r\n\" id=\"DejaVuSans-74\" transform=\"scale(0.015625)\"/>\r\n       <path d=\"M 3513 2113 \r\nL 3513 0 \r\nL 2938 0 \r\nL 2938 2094 \r\nQ 2938 2591 2744 2837 \r\nQ 2550 3084 2163 3084 \r\nQ 1697 3084 1428 2787 \r\nQ 1159 2491 1159 1978 \r\nL 1159 0 \r\nL 581 0 \r\nL 581 3500 \r\nL 1159 3500 \r\nL 1159 2956 \r\nQ 1366 3272 1645 3428 \r\nQ 1925 3584 2291 3584 \r\nQ 2894 3584 3203 3211 \r\nQ 3513 2838 3513 2113 \r\nz\r\n\" id=\"DejaVuSans-6e\" transform=\"scale(0.015625)\"/>\r\n       <path d=\"M 2906 1791 \r\nQ 2906 2416 2648 2759 \r\nQ 2391 3103 1925 3103 \r\nQ 1463 3103 1205 2759 \r\nQ 947 2416 947 1791 \r\nQ 947 1169 1205 825 \r\nQ 1463 481 1925 481 \r\nQ 2391 481 2648 825 \r\nQ 2906 1169 2906 1791 \r\nz\r\nM 3481 434 \r\nQ 3481 -459 3084 -895 \r\nQ 2688 -1331 1869 -1331 \r\nQ 1566 -1331 1297 -1286 \r\nQ 1028 -1241 775 -1147 \r\nL 775 -588 \r\nQ 1028 -725 1275 -790 \r\nQ 1522 -856 1778 -856 \r\nQ 2344 -856 2625 -561 \r\nQ 2906 -266 2906 331 \r\nL 2906 616 \r\nQ 2728 306 2450 153 \r\nQ 2172 0 1784 0 \r\nQ 1141 0 747 490 \r\nQ 353 981 353 1791 \r\nQ 353 2603 747 3093 \r\nQ 1141 3584 1784 3584 \r\nQ 2172 3584 2450 3431 \r\nQ 2728 3278 2906 2969 \r\nL 2906 3500 \r\nL 3481 3500 \r\nL 3481 434 \r\nz\r\n\" id=\"DejaVuSans-67\" transform=\"scale(0.015625)\"/>\r\n      </defs>\r\n      <use xlink:href=\"#DejaVuSans-69\"/>\r\n      <use x=\"27.783203\" xlink:href=\"#DejaVuSans-6d\"/>\r\n      <use x=\"125.195312\" xlink:href=\"#DejaVuSans-64\"/>\r\n      <use x=\"188.671875\" xlink:href=\"#DejaVuSans-62\"/>\r\n      <use x=\"252.148438\" xlink:href=\"#DejaVuSans-52\"/>\r\n      <use x=\"319.380859\" xlink:href=\"#DejaVuSans-61\"/>\r\n      <use x=\"380.660156\" xlink:href=\"#DejaVuSans-74\"/>\r\n      <use x=\"419.869141\" xlink:href=\"#DejaVuSans-69\"/>\r\n      <use x=\"447.652344\" xlink:href=\"#DejaVuSans-6e\"/>\r\n      <use x=\"511.03125\" xlink:href=\"#DejaVuSans-67\"/>\r\n     </g>\r\n    </g>\r\n   </g>\r\n   <g id=\"matplotlib.axis_2\">\r\n    <g id=\"ytick_1\">\r\n     <g id=\"line2d_6\">\r\n      <defs>\r\n       <path d=\"M 0 0 \r\nL -3.5 0 \r\n\" id=\"m60c1fdf6ef\" style=\"stroke:#000000;stroke-width:0.8;\"/>\r\n      </defs>\r\n      <g>\r\n       <use style=\"stroke:#000000;stroke-width:0.8;\" x=\"53.328125\" xlink:href=\"#m60c1fdf6ef\" y=\"239.758125\"/>\r\n      </g>\r\n     </g>\r\n     <g id=\"text_7\">\r\n      <!-- 0 -->\r\n      <g transform=\"translate(39.965625 243.557344)scale(0.1 -0.1)\">\r\n       <use xlink:href=\"#DejaVuSans-30\"/>\r\n      </g>\r\n     </g>\r\n    </g>\r\n    <g id=\"ytick_2\">\r\n     <g id=\"line2d_7\">\r\n      <g>\r\n       <use style=\"stroke:#000000;stroke-width:0.8;\" x=\"53.328125\" xlink:href=\"#m60c1fdf6ef\" y=\"213.009776\"/>\r\n      </g>\r\n     </g>\r\n     <g id=\"text_8\">\r\n      <!-- 500 -->\r\n      <g transform=\"translate(27.240625 216.808995)scale(0.1 -0.1)\">\r\n       <defs>\r\n        <path d=\"M 691 4666 \r\nL 3169 4666 \r\nL 3169 4134 \r\nL 1269 4134 \r\nL 1269 2991 \r\nQ 1406 3038 1543 3061 \r\nQ 1681 3084 1819 3084 \r\nQ 2600 3084 3056 2656 \r\nQ 3513 2228 3513 1497 \r\nQ 3513 744 3044 326 \r\nQ 2575 -91 1722 -91 \r\nQ 1428 -91 1123 -41 \r\nQ 819 9 494 109 \r\nL 494 744 \r\nQ 775 591 1075 516 \r\nQ 1375 441 1709 441 \r\nQ 2250 441 2565 725 \r\nQ 2881 1009 2881 1497 \r\nQ 2881 1984 2565 2268 \r\nQ 2250 2553 1709 2553 \r\nQ 1456 2553 1204 2497 \r\nQ 953 2441 691 2322 \r\nL 691 4666 \r\nz\r\n\" id=\"DejaVuSans-35\" transform=\"scale(0.015625)\"/>\r\n       </defs>\r\n       <use xlink:href=\"#DejaVuSans-35\"/>\r\n       <use x=\"63.623047\" xlink:href=\"#DejaVuSans-30\"/>\r\n       <use x=\"127.246094\" xlink:href=\"#DejaVuSans-30\"/>\r\n      </g>\r\n     </g>\r\n    </g>\r\n    <g id=\"ytick_3\">\r\n     <g id=\"line2d_8\">\r\n      <g>\r\n       <use style=\"stroke:#000000;stroke-width:0.8;\" x=\"53.328125\" xlink:href=\"#m60c1fdf6ef\" y=\"186.261428\"/>\r\n      </g>\r\n     </g>\r\n     <g id=\"text_9\">\r\n      <!-- 1000 -->\r\n      <g transform=\"translate(20.878125 190.060647)scale(0.1 -0.1)\">\r\n       <use xlink:href=\"#DejaVuSans-31\"/>\r\n       <use x=\"63.623047\" xlink:href=\"#DejaVuSans-30\"/>\r\n       <use x=\"127.246094\" xlink:href=\"#DejaVuSans-30\"/>\r\n       <use x=\"190.869141\" xlink:href=\"#DejaVuSans-30\"/>\r\n      </g>\r\n     </g>\r\n    </g>\r\n    <g id=\"ytick_4\">\r\n     <g id=\"line2d_9\">\r\n      <g>\r\n       <use style=\"stroke:#000000;stroke-width:0.8;\" x=\"53.328125\" xlink:href=\"#m60c1fdf6ef\" y=\"159.513079\"/>\r\n      </g>\r\n     </g>\r\n     <g id=\"text_10\">\r\n      <!-- 1500 -->\r\n      <g transform=\"translate(20.878125 163.312298)scale(0.1 -0.1)\">\r\n       <use xlink:href=\"#DejaVuSans-31\"/>\r\n       <use x=\"63.623047\" xlink:href=\"#DejaVuSans-35\"/>\r\n       <use x=\"127.246094\" xlink:href=\"#DejaVuSans-30\"/>\r\n       <use x=\"190.869141\" xlink:href=\"#DejaVuSans-30\"/>\r\n      </g>\r\n     </g>\r\n    </g>\r\n    <g id=\"ytick_5\">\r\n     <g id=\"line2d_10\">\r\n      <g>\r\n       <use style=\"stroke:#000000;stroke-width:0.8;\" x=\"53.328125\" xlink:href=\"#m60c1fdf6ef\" y=\"132.764731\"/>\r\n      </g>\r\n     </g>\r\n     <g id=\"text_11\">\r\n      <!-- 2000 -->\r\n      <g transform=\"translate(20.878125 136.56395)scale(0.1 -0.1)\">\r\n       <use xlink:href=\"#DejaVuSans-32\"/>\r\n       <use x=\"63.623047\" xlink:href=\"#DejaVuSans-30\"/>\r\n       <use x=\"127.246094\" xlink:href=\"#DejaVuSans-30\"/>\r\n       <use x=\"190.869141\" xlink:href=\"#DejaVuSans-30\"/>\r\n      </g>\r\n     </g>\r\n    </g>\r\n    <g id=\"ytick_6\">\r\n     <g id=\"line2d_11\">\r\n      <g>\r\n       <use style=\"stroke:#000000;stroke-width:0.8;\" x=\"53.328125\" xlink:href=\"#m60c1fdf6ef\" y=\"106.016382\"/>\r\n      </g>\r\n     </g>\r\n     <g id=\"text_12\">\r\n      <!-- 2500 -->\r\n      <g transform=\"translate(20.878125 109.815601)scale(0.1 -0.1)\">\r\n       <use xlink:href=\"#DejaVuSans-32\"/>\r\n       <use x=\"63.623047\" xlink:href=\"#DejaVuSans-35\"/>\r\n       <use x=\"127.246094\" xlink:href=\"#DejaVuSans-30\"/>\r\n       <use x=\"190.869141\" xlink:href=\"#DejaVuSans-30\"/>\r\n      </g>\r\n     </g>\r\n    </g>\r\n    <g id=\"ytick_7\">\r\n     <g id=\"line2d_12\">\r\n      <g>\r\n       <use style=\"stroke:#000000;stroke-width:0.8;\" x=\"53.328125\" xlink:href=\"#m60c1fdf6ef\" y=\"79.268034\"/>\r\n      </g>\r\n     </g>\r\n     <g id=\"text_13\">\r\n      <!-- 3000 -->\r\n      <g transform=\"translate(20.878125 83.067253)scale(0.1 -0.1)\">\r\n       <defs>\r\n        <path d=\"M 2597 2516 \r\nQ 3050 2419 3304 2112 \r\nQ 3559 1806 3559 1356 \r\nQ 3559 666 3084 287 \r\nQ 2609 -91 1734 -91 \r\nQ 1441 -91 1130 -33 \r\nQ 819 25 488 141 \r\nL 488 750 \r\nQ 750 597 1062 519 \r\nQ 1375 441 1716 441 \r\nQ 2309 441 2620 675 \r\nQ 2931 909 2931 1356 \r\nQ 2931 1769 2642 2001 \r\nQ 2353 2234 1838 2234 \r\nL 1294 2234 \r\nL 1294 2753 \r\nL 1863 2753 \r\nQ 2328 2753 2575 2939 \r\nQ 2822 3125 2822 3475 \r\nQ 2822 3834 2567 4026 \r\nQ 2313 4219 1838 4219 \r\nQ 1578 4219 1281 4162 \r\nQ 984 4106 628 3988 \r\nL 628 4550 \r\nQ 988 4650 1302 4700 \r\nQ 1616 4750 1894 4750 \r\nQ 2613 4750 3031 4423 \r\nQ 3450 4097 3450 3541 \r\nQ 3450 3153 3228 2886 \r\nQ 3006 2619 2597 2516 \r\nz\r\n\" id=\"DejaVuSans-33\" transform=\"scale(0.015625)\"/>\r\n       </defs>\r\n       <use xlink:href=\"#DejaVuSans-33\"/>\r\n       <use x=\"63.623047\" xlink:href=\"#DejaVuSans-30\"/>\r\n       <use x=\"127.246094\" xlink:href=\"#DejaVuSans-30\"/>\r\n       <use x=\"190.869141\" xlink:href=\"#DejaVuSans-30\"/>\r\n      </g>\r\n     </g>\r\n    </g>\r\n    <g id=\"ytick_8\">\r\n     <g id=\"line2d_13\">\r\n      <g>\r\n       <use style=\"stroke:#000000;stroke-width:0.8;\" x=\"53.328125\" xlink:href=\"#m60c1fdf6ef\" y=\"52.519685\"/>\r\n      </g>\r\n     </g>\r\n     <g id=\"text_14\">\r\n      <!-- 3500 -->\r\n      <g transform=\"translate(20.878125 56.318904)scale(0.1 -0.1)\">\r\n       <use xlink:href=\"#DejaVuSans-33\"/>\r\n       <use x=\"63.623047\" xlink:href=\"#DejaVuSans-35\"/>\r\n       <use x=\"127.246094\" xlink:href=\"#DejaVuSans-30\"/>\r\n       <use x=\"190.869141\" xlink:href=\"#DejaVuSans-30\"/>\r\n      </g>\r\n     </g>\r\n    </g>\r\n    <g id=\"ytick_9\">\r\n     <g id=\"line2d_14\">\r\n      <g>\r\n       <use style=\"stroke:#000000;stroke-width:0.8;\" x=\"53.328125\" xlink:href=\"#m60c1fdf6ef\" y=\"25.771337\"/>\r\n      </g>\r\n     </g>\r\n     <g id=\"text_15\">\r\n      <!-- 4000 -->\r\n      <g transform=\"translate(20.878125 29.570556)scale(0.1 -0.1)\">\r\n       <use xlink:href=\"#DejaVuSans-34\"/>\r\n       <use x=\"63.623047\" xlink:href=\"#DejaVuSans-30\"/>\r\n       <use x=\"127.246094\" xlink:href=\"#DejaVuSans-30\"/>\r\n       <use x=\"190.869141\" xlink:href=\"#DejaVuSans-30\"/>\r\n      </g>\r\n     </g>\r\n    </g>\r\n    <g id=\"text_16\">\r\n     <!-- Count -->\r\n     <g transform=\"translate(14.798438 145.886562)rotate(-90)scale(0.1 -0.1)\">\r\n      <defs>\r\n       <path d=\"M 4122 4306 \r\nL 4122 3641 \r\nQ 3803 3938 3442 4084 \r\nQ 3081 4231 2675 4231 \r\nQ 1875 4231 1450 3742 \r\nQ 1025 3253 1025 2328 \r\nQ 1025 1406 1450 917 \r\nQ 1875 428 2675 428 \r\nQ 3081 428 3442 575 \r\nQ 3803 722 4122 1019 \r\nL 4122 359 \r\nQ 3791 134 3420 21 \r\nQ 3050 -91 2638 -91 \r\nQ 1578 -91 968 557 \r\nQ 359 1206 359 2328 \r\nQ 359 3453 968 4101 \r\nQ 1578 4750 2638 4750 \r\nQ 3056 4750 3426 4639 \r\nQ 3797 4528 4122 4306 \r\nz\r\n\" id=\"DejaVuSans-43\" transform=\"scale(0.015625)\"/>\r\n       <path d=\"M 1959 3097 \r\nQ 1497 3097 1228 2736 \r\nQ 959 2375 959 1747 \r\nQ 959 1119 1226 758 \r\nQ 1494 397 1959 397 \r\nQ 2419 397 2687 759 \r\nQ 2956 1122 2956 1747 \r\nQ 2956 2369 2687 2733 \r\nQ 2419 3097 1959 3097 \r\nz\r\nM 1959 3584 \r\nQ 2709 3584 3137 3096 \r\nQ 3566 2609 3566 1747 \r\nQ 3566 888 3137 398 \r\nQ 2709 -91 1959 -91 \r\nQ 1206 -91 779 398 \r\nQ 353 888 353 1747 \r\nQ 353 2609 779 3096 \r\nQ 1206 3584 1959 3584 \r\nz\r\n\" id=\"DejaVuSans-6f\" transform=\"scale(0.015625)\"/>\r\n       <path d=\"M 544 1381 \r\nL 544 3500 \r\nL 1119 3500 \r\nL 1119 1403 \r\nQ 1119 906 1312 657 \r\nQ 1506 409 1894 409 \r\nQ 2359 409 2629 706 \r\nQ 2900 1003 2900 1516 \r\nL 2900 3500 \r\nL 3475 3500 \r\nL 3475 0 \r\nL 2900 0 \r\nL 2900 538 \r\nQ 2691 219 2414 64 \r\nQ 2138 -91 1772 -91 \r\nQ 1169 -91 856 284 \r\nQ 544 659 544 1381 \r\nz\r\nM 1991 3584 \r\nL 1991 3584 \r\nz\r\n\" id=\"DejaVuSans-75\" transform=\"scale(0.015625)\"/>\r\n      </defs>\r\n      <use xlink:href=\"#DejaVuSans-43\"/>\r\n      <use x=\"69.824219\" xlink:href=\"#DejaVuSans-6f\"/>\r\n      <use x=\"131.005859\" xlink:href=\"#DejaVuSans-75\"/>\r\n      <use x=\"194.384766\" xlink:href=\"#DejaVuSans-6e\"/>\r\n      <use x=\"257.763672\" xlink:href=\"#DejaVuSans-74\"/>\r\n     </g>\r\n    </g>\r\n   </g>\r\n   <g id=\"patch_8\">\r\n    <path d=\"M 53.328125 239.758125 \r\nL 53.328125 22.318125 \r\n\" style=\"fill:none;stroke:#000000;stroke-linecap:square;stroke-linejoin:miter;stroke-width:0.8;\"/>\r\n   </g>\r\n   <g id=\"patch_9\">\r\n    <path d=\"M 388.128125 239.758125 \r\nL 388.128125 22.318125 \r\n\" style=\"fill:none;stroke:#000000;stroke-linecap:square;stroke-linejoin:miter;stroke-width:0.8;\"/>\r\n   </g>\r\n   <g id=\"patch_10\">\r\n    <path d=\"M 53.328125 239.758125 \r\nL 388.128125 239.758125 \r\n\" style=\"fill:none;stroke:#000000;stroke-linecap:square;stroke-linejoin:miter;stroke-width:0.8;\"/>\r\n   </g>\r\n   <g id=\"patch_11\">\r\n    <path d=\"M 53.328125 22.318125 \r\nL 388.128125 22.318125 \r\n\" style=\"fill:none;stroke:#000000;stroke-linecap:square;stroke-linejoin:miter;stroke-width:0.8;\"/>\r\n   </g>\r\n   <g id=\"text_17\">\r\n    <!-- imdbRating distribution -->\r\n    <g transform=\"translate(150.15875 16.318125)scale(0.12 -0.12)\">\r\n     <defs>\r\n      <path id=\"DejaVuSans-20\" transform=\"scale(0.015625)\"/>\r\n      <path d=\"M 2834 3397 \r\nL 2834 2853 \r\nQ 2591 2978 2328 3040 \r\nQ 2066 3103 1784 3103 \r\nQ 1356 3103 1142 2972 \r\nQ 928 2841 928 2578 \r\nQ 928 2378 1081 2264 \r\nQ 1234 2150 1697 2047 \r\nL 1894 2003 \r\nQ 2506 1872 2764 1633 \r\nQ 3022 1394 3022 966 \r\nQ 3022 478 2636 193 \r\nQ 2250 -91 1575 -91 \r\nQ 1294 -91 989 -36 \r\nQ 684 19 347 128 \r\nL 347 722 \r\nQ 666 556 975 473 \r\nQ 1284 391 1588 391 \r\nQ 1994 391 2212 530 \r\nQ 2431 669 2431 922 \r\nQ 2431 1156 2273 1281 \r\nQ 2116 1406 1581 1522 \r\nL 1381 1569 \r\nQ 847 1681 609 1914 \r\nQ 372 2147 372 2553 \r\nQ 372 3047 722 3315 \r\nQ 1072 3584 1716 3584 \r\nQ 2034 3584 2315 3537 \r\nQ 2597 3491 2834 3397 \r\nz\r\n\" id=\"DejaVuSans-73\" transform=\"scale(0.015625)\"/>\r\n      <path d=\"M 2631 2963 \r\nQ 2534 3019 2420 3045 \r\nQ 2306 3072 2169 3072 \r\nQ 1681 3072 1420 2755 \r\nQ 1159 2438 1159 1844 \r\nL 1159 0 \r\nL 581 0 \r\nL 581 3500 \r\nL 1159 3500 \r\nL 1159 2956 \r\nQ 1341 3275 1631 3429 \r\nQ 1922 3584 2338 3584 \r\nQ 2397 3584 2469 3576 \r\nQ 2541 3569 2628 3553 \r\nL 2631 2963 \r\nz\r\n\" id=\"DejaVuSans-72\" transform=\"scale(0.015625)\"/>\r\n     </defs>\r\n     <use xlink:href=\"#DejaVuSans-69\"/>\r\n     <use x=\"27.783203\" xlink:href=\"#DejaVuSans-6d\"/>\r\n     <use x=\"125.195312\" xlink:href=\"#DejaVuSans-64\"/>\r\n     <use x=\"188.671875\" xlink:href=\"#DejaVuSans-62\"/>\r\n     <use x=\"252.148438\" xlink:href=\"#DejaVuSans-52\"/>\r\n     <use x=\"319.380859\" xlink:href=\"#DejaVuSans-61\"/>\r\n     <use x=\"380.660156\" xlink:href=\"#DejaVuSans-74\"/>\r\n     <use x=\"419.869141\" xlink:href=\"#DejaVuSans-69\"/>\r\n     <use x=\"447.652344\" xlink:href=\"#DejaVuSans-6e\"/>\r\n     <use x=\"511.03125\" xlink:href=\"#DejaVuSans-67\"/>\r\n     <use x=\"574.507812\" xlink:href=\"#DejaVuSans-20\"/>\r\n     <use x=\"606.294922\" xlink:href=\"#DejaVuSans-64\"/>\r\n     <use x=\"669.771484\" xlink:href=\"#DejaVuSans-69\"/>\r\n     <use x=\"697.554688\" xlink:href=\"#DejaVuSans-73\"/>\r\n     <use x=\"749.654297\" xlink:href=\"#DejaVuSans-74\"/>\r\n     <use x=\"788.863281\" xlink:href=\"#DejaVuSans-72\"/>\r\n     <use x=\"829.976562\" xlink:href=\"#DejaVuSans-69\"/>\r\n     <use x=\"857.759766\" xlink:href=\"#DejaVuSans-62\"/>\r\n     <use x=\"921.236328\" xlink:href=\"#DejaVuSans-75\"/>\r\n     <use x=\"984.615234\" xlink:href=\"#DejaVuSans-74\"/>\r\n     <use x=\"1023.824219\" xlink:href=\"#DejaVuSans-69\"/>\r\n     <use x=\"1051.607422\" xlink:href=\"#DejaVuSans-6f\"/>\r\n     <use x=\"1112.789062\" xlink:href=\"#DejaVuSans-6e\"/>\r\n    </g>\r\n   </g>\r\n  </g>\r\n </g>\r\n <defs>\r\n  <clipPath id=\"pc793c4ab8b\">\r\n   <rect height=\"217.44\" width=\"334.8\" x=\"53.328125\" y=\"22.318125\"/>\r\n  </clipPath>\r\n </defs>\r\n</svg>\r\n",
      "image/png": "[encoded data removed]"
     },
     "metadata": {
      "needs_background": "light"
     }
    }
   ],
   "source": [
    "viz.plot_displot(x='imdbRating', kde=False, bins=5)"
   ]
  },
  {
   "source": [
    "### 5.3 Metascore Rating Histogram"
   ],
   "cell_type": "markdown",
   "metadata": {}
  },
  {
   "cell_type": "code",
   "execution_count": 10,
   "metadata": {},
   "outputs": [
    {
     "output_type": "display_data",
     "data": {
      "text/plain": "<Figure size 432x288 with 1 Axes>",
      "image/svg+xml": "<?xml version=\"1.0\" encoding=\"utf-8\" standalone=\"no\"?>\r\n<!DOCTYPE svg PUBLIC \"-//W3C//DTD SVG 1.1//EN\"\r\n  \"http://www.w3.org/Graphics/SVG/1.1/DTD/svg11.dtd\">\r\n<svg height=\"277.314375pt\" version=\"1.1\" viewBox=\"0 0 395.328125 277.314375\" width=\"395.328125pt\" xmlns=\"http://www.w3.org/2000/svg\" xmlns:xlink=\"http://www.w3.org/1999/xlink\">\r\n <metadata>\r\n  <rdf:RDF xmlns:cc=\"http://creativecommons.org/ns#\" xmlns:dc=\"http://purl.org/dc/elements/1.1/\" xmlns:rdf=\"http://www.w3.org/1999/02/22-rdf-syntax-ns#\">\r\n   <cc:Work>\r\n    <dc:type rdf:resource=\"http://purl.org/dc/dcmitype/StillImage\"/>\r\n    <dc:date>2021-06-01T15:20:39.472238</dc:date>\r\n    <dc:format>image/svg+xml</dc:format>\r\n    <dc:creator>\r\n     <cc:Agent>\r\n      <dc:title>Matplotlib v3.4.1, https://matplotlib.org/</dc:title>\r\n     </cc:Agent>\r\n    </dc:creator>\r\n   </cc:Work>\r\n  </rdf:RDF>\r\n </metadata>\r\n <defs>\r\n  <style type=\"text/css\">*{stroke-linecap:butt;stroke-linejoin:round;}</style>\r\n </defs>\r\n <g id=\"figure_1\">\r\n  <g id=\"patch_1\">\r\n   <path d=\"M 0 277.314375 \r\nL 395.328125 277.314375 \r\nL 395.328125 0 \r\nL 0 0 \r\nz\r\n\" style=\"fill:none;\"/>\r\n  </g>\r\n  <g id=\"axes_1\">\r\n   <g id=\"patch_2\">\r\n    <path d=\"M 53.328125 239.758125 \r\nL 388.128125 239.758125 \r\nL 388.128125 22.318125 \r\nL 53.328125 22.318125 \r\nz\r\n\" style=\"fill:#ffffff;\"/>\r\n   </g>\r\n   <g id=\"patch_3\">\r\n    <path clip-path=\"url(#pf4b2b93d7b)\" d=\"M 68.546307 239.758125 \r\nL 129.419034 239.758125 \r\nL 129.419034 222.531205 \r\nL 68.546307 222.531205 \r\nz\r\n\" style=\"fill:#1f77b4;fill-opacity:0.75;stroke:#000000;stroke-linejoin:miter;\"/>\r\n   </g>\r\n   <g id=\"patch_4\">\r\n    <path clip-path=\"url(#pf4b2b93d7b)\" d=\"M 129.419034 239.758125 \r\nL 190.291761 239.758125 \r\nL 190.291761 144.73806 \r\nL 129.419034 144.73806 \r\nz\r\n\" style=\"fill:#1f77b4;fill-opacity:0.75;stroke:#000000;stroke-linejoin:miter;\"/>\r\n   </g>\r\n   <g id=\"patch_5\">\r\n    <path clip-path=\"url(#pf4b2b93d7b)\" d=\"M 190.291761 239.758125 \r\nL 251.164489 239.758125 \r\nL 251.164489 32.672411 \r\nL 190.291761 32.672411 \r\nz\r\n\" style=\"fill:#1f77b4;fill-opacity:0.75;stroke:#000000;stroke-linejoin:miter;\"/>\r\n   </g>\r\n   <g id=\"patch_6\">\r\n    <path clip-path=\"url(#pf4b2b93d7b)\" d=\"M 251.164489 239.758125 \r\nL 312.037216 239.758125 \r\nL 312.037216 32.672411 \r\nL 251.164489 32.672411 \r\nz\r\n\" style=\"fill:#1f77b4;fill-opacity:0.75;stroke:#000000;stroke-linejoin:miter;\"/>\r\n   </g>\r\n   <g id=\"patch_7\">\r\n    <path clip-path=\"url(#pf4b2b93d7b)\" d=\"M 312.037216 239.758125 \r\nL 372.909943 239.758125 \r\nL 372.909943 173.75182 \r\nL 312.037216 173.75182 \r\nz\r\n\" style=\"fill:#1f77b4;fill-opacity:0.75;stroke:#000000;stroke-linejoin:miter;\"/>\r\n   </g>\r\n   <g id=\"matplotlib.axis_1\">\r\n    <g id=\"xtick_1\">\r\n     <g id=\"line2d_1\">\r\n      <defs>\r\n       <path d=\"M 0 0 \r\nL 0 3.5 \r\n\" id=\"me13226b20b\" style=\"stroke:#000000;stroke-width:0.8;\"/>\r\n      </defs>\r\n      <g>\r\n       <use style=\"stroke:#000000;stroke-width:0.8;\" x=\"65.471927\" xlink:href=\"#me13226b20b\" y=\"239.758125\"/>\r\n      </g>\r\n     </g>\r\n     <g id=\"text_1\">\r\n      <!-- 0 -->\r\n      <g transform=\"translate(62.290677 254.356562)scale(0.1 -0.1)\">\r\n       <defs>\r\n        <path d=\"M 2034 4250 \r\nQ 1547 4250 1301 3770 \r\nQ 1056 3291 1056 2328 \r\nQ 1056 1369 1301 889 \r\nQ 1547 409 2034 409 \r\nQ 2525 409 2770 889 \r\nQ 3016 1369 3016 2328 \r\nQ 3016 3291 2770 3770 \r\nQ 2525 4250 2034 4250 \r\nz\r\nM 2034 4750 \r\nQ 2819 4750 3233 4129 \r\nQ 3647 3509 3647 2328 \r\nQ 3647 1150 3233 529 \r\nQ 2819 -91 2034 -91 \r\nQ 1250 -91 836 529 \r\nQ 422 1150 422 2328 \r\nQ 422 3509 836 4129 \r\nQ 1250 4750 2034 4750 \r\nz\r\n\" id=\"DejaVuSans-30\" transform=\"scale(0.015625)\"/>\r\n       </defs>\r\n       <use xlink:href=\"#DejaVuSans-30\"/>\r\n      </g>\r\n     </g>\r\n    </g>\r\n    <g id=\"xtick_2\">\r\n     <g id=\"line2d_2\">\r\n      <g>\r\n       <use style=\"stroke:#000000;stroke-width:0.8;\" x=\"126.95953\" xlink:href=\"#me13226b20b\" y=\"239.758125\"/>\r\n      </g>\r\n     </g>\r\n     <g id=\"text_2\">\r\n      <!-- 20 -->\r\n      <g transform=\"translate(120.59703 254.356562)scale(0.1 -0.1)\">\r\n       <defs>\r\n        <path d=\"M 1228 531 \r\nL 3431 531 \r\nL 3431 0 \r\nL 469 0 \r\nL 469 531 \r\nQ 828 903 1448 1529 \r\nQ 2069 2156 2228 2338 \r\nQ 2531 2678 2651 2914 \r\nQ 2772 3150 2772 3378 \r\nQ 2772 3750 2511 3984 \r\nQ 2250 4219 1831 4219 \r\nQ 1534 4219 1204 4116 \r\nQ 875 4013 500 3803 \r\nL 500 4441 \r\nQ 881 4594 1212 4672 \r\nQ 1544 4750 1819 4750 \r\nQ 2544 4750 2975 4387 \r\nQ 3406 4025 3406 3419 \r\nQ 3406 3131 3298 2873 \r\nQ 3191 2616 2906 2266 \r\nQ 2828 2175 2409 1742 \r\nQ 1991 1309 1228 531 \r\nz\r\n\" id=\"DejaVuSans-32\" transform=\"scale(0.015625)\"/>\r\n       </defs>\r\n       <use xlink:href=\"#DejaVuSans-32\"/>\r\n       <use x=\"63.623047\" xlink:href=\"#DejaVuSans-30\"/>\r\n      </g>\r\n     </g>\r\n    </g>\r\n    <g id=\"xtick_3\">\r\n     <g id=\"line2d_3\">\r\n      <g>\r\n       <use style=\"stroke:#000000;stroke-width:0.8;\" x=\"188.447133\" xlink:href=\"#me13226b20b\" y=\"239.758125\"/>\r\n      </g>\r\n     </g>\r\n     <g id=\"text_3\">\r\n      <!-- 40 -->\r\n      <g transform=\"translate(182.084633 254.356562)scale(0.1 -0.1)\">\r\n       <defs>\r\n        <path d=\"M 2419 4116 \r\nL 825 1625 \r\nL 2419 1625 \r\nL 2419 4116 \r\nz\r\nM 2253 4666 \r\nL 3047 4666 \r\nL 3047 1625 \r\nL 3713 1625 \r\nL 3713 1100 \r\nL 3047 1100 \r\nL 3047 0 \r\nL 2419 0 \r\nL 2419 1100 \r\nL 313 1100 \r\nL 313 1709 \r\nL 2253 4666 \r\nz\r\n\" id=\"DejaVuSans-34\" transform=\"scale(0.015625)\"/>\r\n       </defs>\r\n       <use xlink:href=\"#DejaVuSans-34\"/>\r\n       <use x=\"63.623047\" xlink:href=\"#DejaVuSans-30\"/>\r\n      </g>\r\n     </g>\r\n    </g>\r\n    <g id=\"xtick_4\">\r\n     <g id=\"line2d_4\">\r\n      <g>\r\n       <use style=\"stroke:#000000;stroke-width:0.8;\" x=\"249.934737\" xlink:href=\"#me13226b20b\" y=\"239.758125\"/>\r\n      </g>\r\n     </g>\r\n     <g id=\"text_4\">\r\n      <!-- 60 -->\r\n      <g transform=\"translate(243.572237 254.356562)scale(0.1 -0.1)\">\r\n       <defs>\r\n        <path d=\"M 2113 2584 \r\nQ 1688 2584 1439 2293 \r\nQ 1191 2003 1191 1497 \r\nQ 1191 994 1439 701 \r\nQ 1688 409 2113 409 \r\nQ 2538 409 2786 701 \r\nQ 3034 994 3034 1497 \r\nQ 3034 2003 2786 2293 \r\nQ 2538 2584 2113 2584 \r\nz\r\nM 3366 4563 \r\nL 3366 3988 \r\nQ 3128 4100 2886 4159 \r\nQ 2644 4219 2406 4219 \r\nQ 1781 4219 1451 3797 \r\nQ 1122 3375 1075 2522 \r\nQ 1259 2794 1537 2939 \r\nQ 1816 3084 2150 3084 \r\nQ 2853 3084 3261 2657 \r\nQ 3669 2231 3669 1497 \r\nQ 3669 778 3244 343 \r\nQ 2819 -91 2113 -91 \r\nQ 1303 -91 875 529 \r\nQ 447 1150 447 2328 \r\nQ 447 3434 972 4092 \r\nQ 1497 4750 2381 4750 \r\nQ 2619 4750 2861 4703 \r\nQ 3103 4656 3366 4563 \r\nz\r\n\" id=\"DejaVuSans-36\" transform=\"scale(0.015625)\"/>\r\n       </defs>\r\n       <use xlink:href=\"#DejaVuSans-36\"/>\r\n       <use x=\"63.623047\" xlink:href=\"#DejaVuSans-30\"/>\r\n      </g>\r\n     </g>\r\n    </g>\r\n    <g id=\"xtick_5\">\r\n     <g id=\"line2d_5\">\r\n      <g>\r\n       <use style=\"stroke:#000000;stroke-width:0.8;\" x=\"311.42234\" xlink:href=\"#me13226b20b\" y=\"239.758125\"/>\r\n      </g>\r\n     </g>\r\n     <g id=\"text_5\">\r\n      <!-- 80 -->\r\n      <g transform=\"translate(305.05984 254.356562)scale(0.1 -0.1)\">\r\n       <defs>\r\n        <path d=\"M 2034 2216 \r\nQ 1584 2216 1326 1975 \r\nQ 1069 1734 1069 1313 \r\nQ 1069 891 1326 650 \r\nQ 1584 409 2034 409 \r\nQ 2484 409 2743 651 \r\nQ 3003 894 3003 1313 \r\nQ 3003 1734 2745 1975 \r\nQ 2488 2216 2034 2216 \r\nz\r\nM 1403 2484 \r\nQ 997 2584 770 2862 \r\nQ 544 3141 544 3541 \r\nQ 544 4100 942 4425 \r\nQ 1341 4750 2034 4750 \r\nQ 2731 4750 3128 4425 \r\nQ 3525 4100 3525 3541 \r\nQ 3525 3141 3298 2862 \r\nQ 3072 2584 2669 2484 \r\nQ 3125 2378 3379 2068 \r\nQ 3634 1759 3634 1313 \r\nQ 3634 634 3220 271 \r\nQ 2806 -91 2034 -91 \r\nQ 1263 -91 848 271 \r\nQ 434 634 434 1313 \r\nQ 434 1759 690 2068 \r\nQ 947 2378 1403 2484 \r\nz\r\nM 1172 3481 \r\nQ 1172 3119 1398 2916 \r\nQ 1625 2713 2034 2713 \r\nQ 2441 2713 2670 2916 \r\nQ 2900 3119 2900 3481 \r\nQ 2900 3844 2670 4047 \r\nQ 2441 4250 2034 4250 \r\nQ 1625 4250 1398 4047 \r\nQ 1172 3844 1172 3481 \r\nz\r\n\" id=\"DejaVuSans-38\" transform=\"scale(0.015625)\"/>\r\n       </defs>\r\n       <use xlink:href=\"#DejaVuSans-38\"/>\r\n       <use x=\"63.623047\" xlink:href=\"#DejaVuSans-30\"/>\r\n      </g>\r\n     </g>\r\n    </g>\r\n    <g id=\"xtick_6\">\r\n     <g id=\"line2d_6\">\r\n      <g>\r\n       <use style=\"stroke:#000000;stroke-width:0.8;\" x=\"372.909943\" xlink:href=\"#me13226b20b\" y=\"239.758125\"/>\r\n      </g>\r\n     </g>\r\n     <g id=\"text_6\">\r\n      <!-- 100 -->\r\n      <g transform=\"translate(363.366193 254.356562)scale(0.1 -0.1)\">\r\n       <defs>\r\n        <path d=\"M 794 531 \r\nL 1825 531 \r\nL 1825 4091 \r\nL 703 3866 \r\nL 703 4441 \r\nL 1819 4666 \r\nL 2450 4666 \r\nL 2450 531 \r\nL 3481 531 \r\nL 3481 0 \r\nL 794 0 \r\nL 794 531 \r\nz\r\n\" id=\"DejaVuSans-31\" transform=\"scale(0.015625)\"/>\r\n       </defs>\r\n       <use xlink:href=\"#DejaVuSans-31\"/>\r\n       <use x=\"63.623047\" xlink:href=\"#DejaVuSans-30\"/>\r\n       <use x=\"127.246094\" xlink:href=\"#DejaVuSans-30\"/>\r\n      </g>\r\n     </g>\r\n    </g>\r\n    <g id=\"text_7\">\r\n     <!-- Metascore -->\r\n     <g transform=\"translate(194.880469 268.034687)scale(0.1 -0.1)\">\r\n      <defs>\r\n       <path d=\"M 628 4666 \r\nL 1569 4666 \r\nL 2759 1491 \r\nL 3956 4666 \r\nL 4897 4666 \r\nL 4897 0 \r\nL 4281 0 \r\nL 4281 4097 \r\nL 3078 897 \r\nL 2444 897 \r\nL 1241 4097 \r\nL 1241 0 \r\nL 628 0 \r\nL 628 4666 \r\nz\r\n\" id=\"DejaVuSans-4d\" transform=\"scale(0.015625)\"/>\r\n       <path d=\"M 3597 1894 \r\nL 3597 1613 \r\nL 953 1613 \r\nQ 991 1019 1311 708 \r\nQ 1631 397 2203 397 \r\nQ 2534 397 2845 478 \r\nQ 3156 559 3463 722 \r\nL 3463 178 \r\nQ 3153 47 2828 -22 \r\nQ 2503 -91 2169 -91 \r\nQ 1331 -91 842 396 \r\nQ 353 884 353 1716 \r\nQ 353 2575 817 3079 \r\nQ 1281 3584 2069 3584 \r\nQ 2775 3584 3186 3129 \r\nQ 3597 2675 3597 1894 \r\nz\r\nM 3022 2063 \r\nQ 3016 2534 2758 2815 \r\nQ 2500 3097 2075 3097 \r\nQ 1594 3097 1305 2825 \r\nQ 1016 2553 972 2059 \r\nL 3022 2063 \r\nz\r\n\" id=\"DejaVuSans-65\" transform=\"scale(0.015625)\"/>\r\n       <path d=\"M 1172 4494 \r\nL 1172 3500 \r\nL 2356 3500 \r\nL 2356 3053 \r\nL 1172 3053 \r\nL 1172 1153 \r\nQ 1172 725 1289 603 \r\nQ 1406 481 1766 481 \r\nL 2356 481 \r\nL 2356 0 \r\nL 1766 0 \r\nQ 1100 0 847 248 \r\nQ 594 497 594 1153 \r\nL 594 3053 \r\nL 172 3053 \r\nL 172 3500 \r\nL 594 3500 \r\nL 594 4494 \r\nL 1172 4494 \r\nz\r\n\" id=\"DejaVuSans-74\" transform=\"scale(0.015625)\"/>\r\n       <path d=\"M 2194 1759 \r\nQ 1497 1759 1228 1600 \r\nQ 959 1441 959 1056 \r\nQ 959 750 1161 570 \r\nQ 1363 391 1709 391 \r\nQ 2188 391 2477 730 \r\nQ 2766 1069 2766 1631 \r\nL 2766 1759 \r\nL 2194 1759 \r\nz\r\nM 3341 1997 \r\nL 3341 0 \r\nL 2766 0 \r\nL 2766 531 \r\nQ 2569 213 2275 61 \r\nQ 1981 -91 1556 -91 \r\nQ 1019 -91 701 211 \r\nQ 384 513 384 1019 \r\nQ 384 1609 779 1909 \r\nQ 1175 2209 1959 2209 \r\nL 2766 2209 \r\nL 2766 2266 \r\nQ 2766 2663 2505 2880 \r\nQ 2244 3097 1772 3097 \r\nQ 1472 3097 1187 3025 \r\nQ 903 2953 641 2809 \r\nL 641 3341 \r\nQ 956 3463 1253 3523 \r\nQ 1550 3584 1831 3584 \r\nQ 2591 3584 2966 3190 \r\nQ 3341 2797 3341 1997 \r\nz\r\n\" id=\"DejaVuSans-61\" transform=\"scale(0.015625)\"/>\r\n       <path d=\"M 2834 3397 \r\nL 2834 2853 \r\nQ 2591 2978 2328 3040 \r\nQ 2066 3103 1784 3103 \r\nQ 1356 3103 1142 2972 \r\nQ 928 2841 928 2578 \r\nQ 928 2378 1081 2264 \r\nQ 1234 2150 1697 2047 \r\nL 1894 2003 \r\nQ 2506 1872 2764 1633 \r\nQ 3022 1394 3022 966 \r\nQ 3022 478 2636 193 \r\nQ 2250 -91 1575 -91 \r\nQ 1294 -91 989 -36 \r\nQ 684 19 347 128 \r\nL 347 722 \r\nQ 666 556 975 473 \r\nQ 1284 391 1588 391 \r\nQ 1994 391 2212 530 \r\nQ 2431 669 2431 922 \r\nQ 2431 1156 2273 1281 \r\nQ 2116 1406 1581 1522 \r\nL 1381 1569 \r\nQ 847 1681 609 1914 \r\nQ 372 2147 372 2553 \r\nQ 372 3047 722 3315 \r\nQ 1072 3584 1716 3584 \r\nQ 2034 3584 2315 3537 \r\nQ 2597 3491 2834 3397 \r\nz\r\n\" id=\"DejaVuSans-73\" transform=\"scale(0.015625)\"/>\r\n       <path d=\"M 3122 3366 \r\nL 3122 2828 \r\nQ 2878 2963 2633 3030 \r\nQ 2388 3097 2138 3097 \r\nQ 1578 3097 1268 2742 \r\nQ 959 2388 959 1747 \r\nQ 959 1106 1268 751 \r\nQ 1578 397 2138 397 \r\nQ 2388 397 2633 464 \r\nQ 2878 531 3122 666 \r\nL 3122 134 \r\nQ 2881 22 2623 -34 \r\nQ 2366 -91 2075 -91 \r\nQ 1284 -91 818 406 \r\nQ 353 903 353 1747 \r\nQ 353 2603 823 3093 \r\nQ 1294 3584 2113 3584 \r\nQ 2378 3584 2631 3529 \r\nQ 2884 3475 3122 3366 \r\nz\r\n\" id=\"DejaVuSans-63\" transform=\"scale(0.015625)\"/>\r\n       <path d=\"M 1959 3097 \r\nQ 1497 3097 1228 2736 \r\nQ 959 2375 959 1747 \r\nQ 959 1119 1226 758 \r\nQ 1494 397 1959 397 \r\nQ 2419 397 2687 759 \r\nQ 2956 1122 2956 1747 \r\nQ 2956 2369 2687 2733 \r\nQ 2419 3097 1959 3097 \r\nz\r\nM 1959 3584 \r\nQ 2709 3584 3137 3096 \r\nQ 3566 2609 3566 1747 \r\nQ 3566 888 3137 398 \r\nQ 2709 -91 1959 -91 \r\nQ 1206 -91 779 398 \r\nQ 353 888 353 1747 \r\nQ 353 2609 779 3096 \r\nQ 1206 3584 1959 3584 \r\nz\r\n\" id=\"DejaVuSans-6f\" transform=\"scale(0.015625)\"/>\r\n       <path d=\"M 2631 2963 \r\nQ 2534 3019 2420 3045 \r\nQ 2306 3072 2169 3072 \r\nQ 1681 3072 1420 2755 \r\nQ 1159 2438 1159 1844 \r\nL 1159 0 \r\nL 581 0 \r\nL 581 3500 \r\nL 1159 3500 \r\nL 1159 2956 \r\nQ 1341 3275 1631 3429 \r\nQ 1922 3584 2338 3584 \r\nQ 2397 3584 2469 3576 \r\nQ 2541 3569 2628 3553 \r\nL 2631 2963 \r\nz\r\n\" id=\"DejaVuSans-72\" transform=\"scale(0.015625)\"/>\r\n      </defs>\r\n      <use xlink:href=\"#DejaVuSans-4d\"/>\r\n      <use x=\"86.279297\" xlink:href=\"#DejaVuSans-65\"/>\r\n      <use x=\"147.802734\" xlink:href=\"#DejaVuSans-74\"/>\r\n      <use x=\"187.011719\" xlink:href=\"#DejaVuSans-61\"/>\r\n      <use x=\"248.291016\" xlink:href=\"#DejaVuSans-73\"/>\r\n      <use x=\"300.390625\" xlink:href=\"#DejaVuSans-63\"/>\r\n      <use x=\"355.371094\" xlink:href=\"#DejaVuSans-6f\"/>\r\n      <use x=\"416.552734\" xlink:href=\"#DejaVuSans-72\"/>\r\n      <use x=\"455.416016\" xlink:href=\"#DejaVuSans-65\"/>\r\n     </g>\r\n    </g>\r\n   </g>\r\n   <g id=\"matplotlib.axis_2\">\r\n    <g id=\"ytick_1\">\r\n     <g id=\"line2d_7\">\r\n      <defs>\r\n       <path d=\"M 0 0 \r\nL -3.5 0 \r\n\" id=\"m5bb764e26b\" style=\"stroke:#000000;stroke-width:0.8;\"/>\r\n      </defs>\r\n      <g>\r\n       <use style=\"stroke:#000000;stroke-width:0.8;\" x=\"53.328125\" xlink:href=\"#m5bb764e26b\" y=\"239.758125\"/>\r\n      </g>\r\n     </g>\r\n     <g id=\"text_8\">\r\n      <!-- 0 -->\r\n      <g transform=\"translate(39.965625 243.557344)scale(0.1 -0.1)\">\r\n       <use xlink:href=\"#DejaVuSans-30\"/>\r\n      </g>\r\n     </g>\r\n    </g>\r\n    <g id=\"ytick_2\">\r\n     <g id=\"line2d_8\">\r\n      <g>\r\n       <use style=\"stroke:#000000;stroke-width:0.8;\" x=\"53.328125\" xlink:href=\"#m5bb764e26b\" y=\"203.490925\"/>\r\n      </g>\r\n     </g>\r\n     <g id=\"text_9\">\r\n      <!-- 200 -->\r\n      <g transform=\"translate(27.240625 207.290143)scale(0.1 -0.1)\">\r\n       <use xlink:href=\"#DejaVuSans-32\"/>\r\n       <use x=\"63.623047\" xlink:href=\"#DejaVuSans-30\"/>\r\n       <use x=\"127.246094\" xlink:href=\"#DejaVuSans-30\"/>\r\n      </g>\r\n     </g>\r\n    </g>\r\n    <g id=\"ytick_3\">\r\n     <g id=\"line2d_9\">\r\n      <g>\r\n       <use style=\"stroke:#000000;stroke-width:0.8;\" x=\"53.328125\" xlink:href=\"#m5bb764e26b\" y=\"167.223724\"/>\r\n      </g>\r\n     </g>\r\n     <g id=\"text_10\">\r\n      <!-- 400 -->\r\n      <g transform=\"translate(27.240625 171.022943)scale(0.1 -0.1)\">\r\n       <use xlink:href=\"#DejaVuSans-34\"/>\r\n       <use x=\"63.623047\" xlink:href=\"#DejaVuSans-30\"/>\r\n       <use x=\"127.246094\" xlink:href=\"#DejaVuSans-30\"/>\r\n      </g>\r\n     </g>\r\n    </g>\r\n    <g id=\"ytick_4\">\r\n     <g id=\"line2d_10\">\r\n      <g>\r\n       <use style=\"stroke:#000000;stroke-width:0.8;\" x=\"53.328125\" xlink:href=\"#m5bb764e26b\" y=\"130.956524\"/>\r\n      </g>\r\n     </g>\r\n     <g id=\"text_11\">\r\n      <!-- 600 -->\r\n      <g transform=\"translate(27.240625 134.755743)scale(0.1 -0.1)\">\r\n       <use xlink:href=\"#DejaVuSans-36\"/>\r\n       <use x=\"63.623047\" xlink:href=\"#DejaVuSans-30\"/>\r\n       <use x=\"127.246094\" xlink:href=\"#DejaVuSans-30\"/>\r\n      </g>\r\n     </g>\r\n    </g>\r\n    <g id=\"ytick_5\">\r\n     <g id=\"line2d_11\">\r\n      <g>\r\n       <use style=\"stroke:#000000;stroke-width:0.8;\" x=\"53.328125\" xlink:href=\"#m5bb764e26b\" y=\"94.689323\"/>\r\n      </g>\r\n     </g>\r\n     <g id=\"text_12\">\r\n      <!-- 800 -->\r\n      <g transform=\"translate(27.240625 98.488542)scale(0.1 -0.1)\">\r\n       <use xlink:href=\"#DejaVuSans-38\"/>\r\n       <use x=\"63.623047\" xlink:href=\"#DejaVuSans-30\"/>\r\n       <use x=\"127.246094\" xlink:href=\"#DejaVuSans-30\"/>\r\n      </g>\r\n     </g>\r\n    </g>\r\n    <g id=\"ytick_6\">\r\n     <g id=\"line2d_12\">\r\n      <g>\r\n       <use style=\"stroke:#000000;stroke-width:0.8;\" x=\"53.328125\" xlink:href=\"#m5bb764e26b\" y=\"58.422123\"/>\r\n      </g>\r\n     </g>\r\n     <g id=\"text_13\">\r\n      <!-- 1000 -->\r\n      <g transform=\"translate(20.878125 62.221342)scale(0.1 -0.1)\">\r\n       <use xlink:href=\"#DejaVuSans-31\"/>\r\n       <use x=\"63.623047\" xlink:href=\"#DejaVuSans-30\"/>\r\n       <use x=\"127.246094\" xlink:href=\"#DejaVuSans-30\"/>\r\n       <use x=\"190.869141\" xlink:href=\"#DejaVuSans-30\"/>\r\n      </g>\r\n     </g>\r\n    </g>\r\n    <g id=\"text_14\">\r\n     <!-- Count -->\r\n     <g transform=\"translate(14.798438 145.886562)rotate(-90)scale(0.1 -0.1)\">\r\n      <defs>\r\n       <path d=\"M 4122 4306 \r\nL 4122 3641 \r\nQ 3803 3938 3442 4084 \r\nQ 3081 4231 2675 4231 \r\nQ 1875 4231 1450 3742 \r\nQ 1025 3253 1025 2328 \r\nQ 1025 1406 1450 917 \r\nQ 1875 428 2675 428 \r\nQ 3081 428 3442 575 \r\nQ 3803 722 4122 1019 \r\nL 4122 359 \r\nQ 3791 134 3420 21 \r\nQ 3050 -91 2638 -91 \r\nQ 1578 -91 968 557 \r\nQ 359 1206 359 2328 \r\nQ 359 3453 968 4101 \r\nQ 1578 4750 2638 4750 \r\nQ 3056 4750 3426 4639 \r\nQ 3797 4528 4122 4306 \r\nz\r\n\" id=\"DejaVuSans-43\" transform=\"scale(0.015625)\"/>\r\n       <path d=\"M 544 1381 \r\nL 544 3500 \r\nL 1119 3500 \r\nL 1119 1403 \r\nQ 1119 906 1312 657 \r\nQ 1506 409 1894 409 \r\nQ 2359 409 2629 706 \r\nQ 2900 1003 2900 1516 \r\nL 2900 3500 \r\nL 3475 3500 \r\nL 3475 0 \r\nL 2900 0 \r\nL 2900 538 \r\nQ 2691 219 2414 64 \r\nQ 2138 -91 1772 -91 \r\nQ 1169 -91 856 284 \r\nQ 544 659 544 1381 \r\nz\r\nM 1991 3584 \r\nL 1991 3584 \r\nz\r\n\" id=\"DejaVuSans-75\" transform=\"scale(0.015625)\"/>\r\n       <path d=\"M 3513 2113 \r\nL 3513 0 \r\nL 2938 0 \r\nL 2938 2094 \r\nQ 2938 2591 2744 2837 \r\nQ 2550 3084 2163 3084 \r\nQ 1697 3084 1428 2787 \r\nQ 1159 2491 1159 1978 \r\nL 1159 0 \r\nL 581 0 \r\nL 581 3500 \r\nL 1159 3500 \r\nL 1159 2956 \r\nQ 1366 3272 1645 3428 \r\nQ 1925 3584 2291 3584 \r\nQ 2894 3584 3203 3211 \r\nQ 3513 2838 3513 2113 \r\nz\r\n\" id=\"DejaVuSans-6e\" transform=\"scale(0.015625)\"/>\r\n      </defs>\r\n      <use xlink:href=\"#DejaVuSans-43\"/>\r\n      <use x=\"69.824219\" xlink:href=\"#DejaVuSans-6f\"/>\r\n      <use x=\"131.005859\" xlink:href=\"#DejaVuSans-75\"/>\r\n      <use x=\"194.384766\" xlink:href=\"#DejaVuSans-6e\"/>\r\n      <use x=\"257.763672\" xlink:href=\"#DejaVuSans-74\"/>\r\n     </g>\r\n    </g>\r\n   </g>\r\n   <g id=\"patch_8\">\r\n    <path d=\"M 53.328125 239.758125 \r\nL 53.328125 22.318125 \r\n\" style=\"fill:none;stroke:#000000;stroke-linecap:square;stroke-linejoin:miter;stroke-width:0.8;\"/>\r\n   </g>\r\n   <g id=\"patch_9\">\r\n    <path d=\"M 388.128125 239.758125 \r\nL 388.128125 22.318125 \r\n\" style=\"fill:none;stroke:#000000;stroke-linecap:square;stroke-linejoin:miter;stroke-width:0.8;\"/>\r\n   </g>\r\n   <g id=\"patch_10\">\r\n    <path d=\"M 53.328125 239.758125 \r\nL 388.128125 239.758125 \r\n\" style=\"fill:none;stroke:#000000;stroke-linecap:square;stroke-linejoin:miter;stroke-width:0.8;\"/>\r\n   </g>\r\n   <g id=\"patch_11\">\r\n    <path d=\"M 53.328125 22.318125 \r\nL 388.128125 22.318125 \r\n\" style=\"fill:none;stroke:#000000;stroke-linecap:square;stroke-linejoin:miter;stroke-width:0.8;\"/>\r\n   </g>\r\n   <g id=\"text_15\">\r\n    <!-- Metascore distribution -->\r\n    <g transform=\"translate(153.6125 16.318125)scale(0.12 -0.12)\">\r\n     <defs>\r\n      <path id=\"DejaVuSans-20\" transform=\"scale(0.015625)\"/>\r\n      <path d=\"M 2906 2969 \r\nL 2906 4863 \r\nL 3481 4863 \r\nL 3481 0 \r\nL 2906 0 \r\nL 2906 525 \r\nQ 2725 213 2448 61 \r\nQ 2172 -91 1784 -91 \r\nQ 1150 -91 751 415 \r\nQ 353 922 353 1747 \r\nQ 353 2572 751 3078 \r\nQ 1150 3584 1784 3584 \r\nQ 2172 3584 2448 3432 \r\nQ 2725 3281 2906 2969 \r\nz\r\nM 947 1747 \r\nQ 947 1113 1208 752 \r\nQ 1469 391 1925 391 \r\nQ 2381 391 2643 752 \r\nQ 2906 1113 2906 1747 \r\nQ 2906 2381 2643 2742 \r\nQ 2381 3103 1925 3103 \r\nQ 1469 3103 1208 2742 \r\nQ 947 2381 947 1747 \r\nz\r\n\" id=\"DejaVuSans-64\" transform=\"scale(0.015625)\"/>\r\n      <path d=\"M 603 3500 \r\nL 1178 3500 \r\nL 1178 0 \r\nL 603 0 \r\nL 603 3500 \r\nz\r\nM 603 4863 \r\nL 1178 4863 \r\nL 1178 4134 \r\nL 603 4134 \r\nL 603 4863 \r\nz\r\n\" id=\"DejaVuSans-69\" transform=\"scale(0.015625)\"/>\r\n      <path d=\"M 3116 1747 \r\nQ 3116 2381 2855 2742 \r\nQ 2594 3103 2138 3103 \r\nQ 1681 3103 1420 2742 \r\nQ 1159 2381 1159 1747 \r\nQ 1159 1113 1420 752 \r\nQ 1681 391 2138 391 \r\nQ 2594 391 2855 752 \r\nQ 3116 1113 3116 1747 \r\nz\r\nM 1159 2969 \r\nQ 1341 3281 1617 3432 \r\nQ 1894 3584 2278 3584 \r\nQ 2916 3584 3314 3078 \r\nQ 3713 2572 3713 1747 \r\nQ 3713 922 3314 415 \r\nQ 2916 -91 2278 -91 \r\nQ 1894 -91 1617 61 \r\nQ 1341 213 1159 525 \r\nL 1159 0 \r\nL 581 0 \r\nL 581 4863 \r\nL 1159 4863 \r\nL 1159 2969 \r\nz\r\n\" id=\"DejaVuSans-62\" transform=\"scale(0.015625)\"/>\r\n     </defs>\r\n     <use xlink:href=\"#DejaVuSans-4d\"/>\r\n     <use x=\"86.279297\" xlink:href=\"#DejaVuSans-65\"/>\r\n     <use x=\"147.802734\" xlink:href=\"#DejaVuSans-74\"/>\r\n     <use x=\"187.011719\" xlink:href=\"#DejaVuSans-61\"/>\r\n     <use x=\"248.291016\" xlink:href=\"#DejaVuSans-73\"/>\r\n     <use x=\"300.390625\" xlink:href=\"#DejaVuSans-63\"/>\r\n     <use x=\"355.371094\" xlink:href=\"#DejaVuSans-6f\"/>\r\n     <use x=\"416.552734\" xlink:href=\"#DejaVuSans-72\"/>\r\n     <use x=\"455.416016\" xlink:href=\"#DejaVuSans-65\"/>\r\n     <use x=\"516.939453\" xlink:href=\"#DejaVuSans-20\"/>\r\n     <use x=\"548.726562\" xlink:href=\"#DejaVuSans-64\"/>\r\n     <use x=\"612.203125\" xlink:href=\"#DejaVuSans-69\"/>\r\n     <use x=\"639.986328\" xlink:href=\"#DejaVuSans-73\"/>\r\n     <use x=\"692.085938\" xlink:href=\"#DejaVuSans-74\"/>\r\n     <use x=\"731.294922\" xlink:href=\"#DejaVuSans-72\"/>\r\n     <use x=\"772.408203\" xlink:href=\"#DejaVuSans-69\"/>\r\n     <use x=\"800.191406\" xlink:href=\"#DejaVuSans-62\"/>\r\n     <use x=\"863.667969\" xlink:href=\"#DejaVuSans-75\"/>\r\n     <use x=\"927.046875\" xlink:href=\"#DejaVuSans-74\"/>\r\n     <use x=\"966.255859\" xlink:href=\"#DejaVuSans-69\"/>\r\n     <use x=\"994.039062\" xlink:href=\"#DejaVuSans-6f\"/>\r\n     <use x=\"1055.220703\" xlink:href=\"#DejaVuSans-6e\"/>\r\n    </g>\r\n   </g>\r\n  </g>\r\n </g>\r\n <defs>\r\n  <clipPath id=\"pf4b2b93d7b\">\r\n   <rect height=\"217.44\" width=\"334.8\" x=\"53.328125\" y=\"22.318125\"/>\r\n  </clipPath>\r\n </defs>\r\n</svg>\r\n",
      "image/png": "[encoded data removed]"
     },
     "metadata": {
      "needs_background": "light"
     }
    }
   ],
   "source": [
    "viz.plot_displot(x='Metascore', kde=False, bins=5)"
   ]
  },
  {
   "source": [
    "### 5.4 BASE Heatmap"
   ],
   "cell_type": "markdown",
   "metadata": {}
  },
  {
   "cell_type": "code",
   "execution_count": 14,
   "metadata": {},
   "outputs": [
    {
     "output_type": "display_data",
     "data": {
      "text/plain": "<Figure size 432x288 with 2 Axes>",
      "image/svg+xml": "<?xml version=\"1.0\" encoding=\"utf-8\" standalone=\"no\"?>\r\n<!DOCTYPE svg PUBLIC \"-//W3C//DTD SVG 1.1//EN\"\r\n  \"http://www.w3.org/Graphics/SVG/1.1/DTD/svg11.dtd\">\r\n<svg height=\"339.945625pt\" version=\"1.1\" viewBox=\"0 0 425.742625 339.945625\" width=\"425.742625pt\" xmlns=\"http://www.w3.org/2000/svg\" xmlns:xlink=\"http://www.w3.org/1999/xlink\">\r\n <metadata>\r\n  <rdf:RDF xmlns:cc=\"http://creativecommons.org/ns#\" xmlns:dc=\"http://purl.org/dc/elements/1.1/\" xmlns:rdf=\"http://www.w3.org/1999/02/22-rdf-syntax-ns#\">\r\n   <cc:Work>\r\n    <dc:type rdf:resource=\"http://purl.org/dc/dcmitype/StillImage\"/>\r\n    <dc:date>2021-06-01T15:25:31.191965</dc:date>\r\n    <dc:format>image/svg+xml</dc:format>\r\n    <dc:creator>\r\n     <cc:Agent>\r\n      <dc:title>Matplotlib v3.4.1, https://matplotlib.org/</dc:title>\r\n     </cc:Agent>\r\n    </dc:creator>\r\n   </cc:Work>\r\n  </rdf:RDF>\r\n </metadata>\r\n <defs>\r\n  <style type=\"text/css\">*{stroke-linecap:butt;stroke-linejoin:round;}</style>\r\n </defs>\r\n <g id=\"figure_1\">\r\n  <g id=\"patch_1\">\r\n   <path d=\"M 0 339.945625 \r\nL 425.742625 339.945625 \r\nL 425.742625 0 \r\nL 0 0 \r\nz\r\n\" style=\"fill:none;\"/>\r\n  </g>\r\n  <g id=\"axes_1\">\r\n   <g id=\"patch_2\">\r\n    <path d=\"M 100.1875 239.758125 \r\nL 368.0275 239.758125 \r\nL 368.0275 22.318125 \r\nL 100.1875 22.318125 \r\nz\r\n\" style=\"fill:#ffffff;\"/>\r\n   </g>\r\n   <g id=\"QuadMesh_1\">\r\n    <path clip-path=\"url(#p2f176c3acf)\" d=\"M 100.1875 22.318125 \r\nL 153.7555 22.318125 \r\nL 153.7555 65.806125 \r\nL 100.1875 65.806125 \r\nL 100.1875 22.318125 \r\n\" style=\"fill:#faebdd;\"/>\r\n    <path clip-path=\"url(#p2f176c3acf)\" d=\"M 153.7555 22.318125 \r\nL 207.3235 22.318125 \r\nL 207.3235 65.806125 \r\nL 153.7555 65.806125 \r\nL 153.7555 22.318125 \r\n\" style=\"fill:#05061b;\"/>\r\n    <path clip-path=\"url(#p2f176c3acf)\" d=\"M 207.3235 22.318125 \r\nL 260.8915 22.318125 \r\nL 260.8915 65.806125 \r\nL 207.3235 65.806125 \r\nL 207.3235 22.318125 \r\n\" style=\"fill:#03051a;\"/>\r\n    <path clip-path=\"url(#p2f176c3acf)\" d=\"M 260.8915 22.318125 \r\nL 314.4595 22.318125 \r\nL 314.4595 65.806125 \r\nL 260.8915 65.806125 \r\nL 260.8915 22.318125 \r\n\" style=\"fill:#03051a;\"/>\r\n    <path clip-path=\"url(#p2f176c3acf)\" d=\"M 314.4595 22.318125 \r\nL 368.0275 22.318125 \r\nL 368.0275 65.806125 \r\nL 314.4595 65.806125 \r\nL 314.4595 22.318125 \r\n\" style=\"fill:#140e26;\"/>\r\n    <path clip-path=\"url(#p2f176c3acf)\" d=\"M 100.1875 65.806125 \r\nL 153.7555 65.806125 \r\nL 153.7555 109.294125 \r\nL 100.1875 109.294125 \r\nL 100.1875 65.806125 \r\n\" style=\"fill:#05061b;\"/>\r\n    <path clip-path=\"url(#p2f176c3acf)\" d=\"M 153.7555 65.806125 \r\nL 207.3235 65.806125 \r\nL 207.3235 109.294125 \r\nL 153.7555 109.294125 \r\nL 153.7555 65.806125 \r\n\" style=\"fill:#faebdd;\"/>\r\n    <path clip-path=\"url(#p2f176c3acf)\" d=\"M 207.3235 65.806125 \r\nL 260.8915 65.806125 \r\nL 260.8915 109.294125 \r\nL 207.3235 109.294125 \r\nL 207.3235 65.806125 \r\n\" style=\"fill:#7b1f59;\"/>\r\n    <path clip-path=\"url(#p2f176c3acf)\" d=\"M 260.8915 65.806125 \r\nL 314.4595 65.806125 \r\nL 314.4595 109.294125 \r\nL 260.8915 109.294125 \r\nL 260.8915 65.806125 \r\n\" style=\"fill:#f26b49;\"/>\r\n    <path clip-path=\"url(#p2f176c3acf)\" d=\"M 314.4595 65.806125 \r\nL 368.0275 65.806125 \r\nL 368.0275 109.294125 \r\nL 314.4595 109.294125 \r\nL 314.4595 65.806125 \r\n\" style=\"fill:#c51852;\"/>\r\n    <path clip-path=\"url(#p2f176c3acf)\" d=\"M 100.1875 109.294125 \r\nL 153.7555 109.294125 \r\nL 153.7555 152.782125 \r\nL 100.1875 152.782125 \r\nL 100.1875 109.294125 \r\n\" style=\"fill:#03051a;\"/>\r\n    <path clip-path=\"url(#p2f176c3acf)\" d=\"M 153.7555 109.294125 \r\nL 207.3235 109.294125 \r\nL 207.3235 152.782125 \r\nL 153.7555 152.782125 \r\nL 153.7555 109.294125 \r\n\" style=\"fill:#7b1f59;\"/>\r\n    <path clip-path=\"url(#p2f176c3acf)\" d=\"M 207.3235 109.294125 \r\nL 260.8915 109.294125 \r\nL 260.8915 152.782125 \r\nL 207.3235 152.782125 \r\nL 207.3235 109.294125 \r\n\" style=\"fill:#faebdd;\"/>\r\n    <path clip-path=\"url(#p2f176c3acf)\" d=\"M 260.8915 109.294125 \r\nL 314.4595 109.294125 \r\nL 314.4595 152.782125 \r\nL 260.8915 152.782125 \r\nL 260.8915 109.294125 \r\n\" style=\"fill:#421b45;\"/>\r\n    <path clip-path=\"url(#p2f176c3acf)\" d=\"M 314.4595 109.294125 \r\nL 368.0275 109.294125 \r\nL 368.0275 152.782125 \r\nL 314.4595 152.782125 \r\nL 314.4595 109.294125 \r\n\" style=\"fill:#221331;\"/>\r\n    <path clip-path=\"url(#p2f176c3acf)\" d=\"M 100.1875 152.782125 \r\nL 153.7555 152.782125 \r\nL 153.7555 196.270125 \r\nL 100.1875 196.270125 \r\nL 100.1875 152.782125 \r\n\" style=\"fill:#03051a;\"/>\r\n    <path clip-path=\"url(#p2f176c3acf)\" d=\"M 153.7555 152.782125 \r\nL 207.3235 152.782125 \r\nL 207.3235 196.270125 \r\nL 153.7555 196.270125 \r\nL 153.7555 152.782125 \r\n\" style=\"fill:#f26b49;\"/>\r\n    <path clip-path=\"url(#p2f176c3acf)\" d=\"M 207.3235 152.782125 \r\nL 260.8915 152.782125 \r\nL 260.8915 196.270125 \r\nL 207.3235 196.270125 \r\nL 207.3235 152.782125 \r\n\" style=\"fill:#421b45;\"/>\r\n    <path clip-path=\"url(#p2f176c3acf)\" d=\"M 260.8915 152.782125 \r\nL 314.4595 152.782125 \r\nL 314.4595 196.270125 \r\nL 260.8915 196.270125 \r\nL 260.8915 152.782125 \r\n\" style=\"fill:#faebdd;\"/>\r\n    <path clip-path=\"url(#p2f176c3acf)\" d=\"M 314.4595 152.782125 \r\nL 368.0275 152.782125 \r\nL 368.0275 196.270125 \r\nL 314.4595 196.270125 \r\nL 314.4595 152.782125 \r\n\" style=\"fill:#f58b63;\"/>\r\n    <path clip-path=\"url(#p2f176c3acf)\" d=\"M 100.1875 196.270125 \r\nL 153.7555 196.270125 \r\nL 153.7555 239.758125 \r\nL 100.1875 239.758125 \r\nL 100.1875 196.270125 \r\n\" style=\"fill:#140e26;\"/>\r\n    <path clip-path=\"url(#p2f176c3acf)\" d=\"M 153.7555 196.270125 \r\nL 207.3235 196.270125 \r\nL 207.3235 239.758125 \r\nL 153.7555 239.758125 \r\nL 153.7555 196.270125 \r\n\" style=\"fill:#c51852;\"/>\r\n    <path clip-path=\"url(#p2f176c3acf)\" d=\"M 207.3235 196.270125 \r\nL 260.8915 196.270125 \r\nL 260.8915 239.758125 \r\nL 207.3235 239.758125 \r\nL 207.3235 196.270125 \r\n\" style=\"fill:#221331;\"/>\r\n    <path clip-path=\"url(#p2f176c3acf)\" d=\"M 260.8915 196.270125 \r\nL 314.4595 196.270125 \r\nL 314.4595 239.758125 \r\nL 260.8915 239.758125 \r\nL 260.8915 196.270125 \r\n\" style=\"fill:#f58b63;\"/>\r\n    <path clip-path=\"url(#p2f176c3acf)\" d=\"M 314.4595 196.270125 \r\nL 368.0275 196.270125 \r\nL 368.0275 239.758125 \r\nL 314.4595 239.758125 \r\nL 314.4595 196.270125 \r\n\" style=\"fill:#faebdd;\"/>\r\n   </g>\r\n   <g id=\"matplotlib.axis_1\">\r\n    <g id=\"xtick_1\">\r\n     <g id=\"line2d_1\">\r\n      <defs>\r\n       <path d=\"M 0 0 \r\nL 0 3.5 \r\n\" id=\"mf04fce7440\" style=\"stroke:#000000;stroke-width:0.8;\"/>\r\n      </defs>\r\n      <g>\r\n       <use style=\"stroke:#000000;stroke-width:0.8;\" x=\"126.9715\" xlink:href=\"#mf04fce7440\" y=\"239.758125\"/>\r\n      </g>\r\n     </g>\r\n     <g id=\"text_1\">\r\n      <!-- netflix_id -->\r\n      <g transform=\"translate(129.591813 292.290937)rotate(-90)scale(0.1 -0.1)\">\r\n       <defs>\r\n        <path d=\"M 3513 2113 \r\nL 3513 0 \r\nL 2938 0 \r\nL 2938 2094 \r\nQ 2938 2591 2744 2837 \r\nQ 2550 3084 2163 3084 \r\nQ 1697 3084 1428 2787 \r\nQ 1159 2491 1159 1978 \r\nL 1159 0 \r\nL 581 0 \r\nL 581 3500 \r\nL 1159 3500 \r\nL 1159 2956 \r\nQ 1366 3272 1645 3428 \r\nQ 1925 3584 2291 3584 \r\nQ 2894 3584 3203 3211 \r\nQ 3513 2838 3513 2113 \r\nz\r\n\" id=\"DejaVuSans-6e\" transform=\"scale(0.015625)\"/>\r\n        <path d=\"M 3597 1894 \r\nL 3597 1613 \r\nL 953 1613 \r\nQ 991 1019 1311 708 \r\nQ 1631 397 2203 397 \r\nQ 2534 397 2845 478 \r\nQ 3156 559 3463 722 \r\nL 3463 178 \r\nQ 3153 47 2828 -22 \r\nQ 2503 -91 2169 -91 \r\nQ 1331 -91 842 396 \r\nQ 353 884 353 1716 \r\nQ 353 2575 817 3079 \r\nQ 1281 3584 2069 3584 \r\nQ 2775 3584 3186 3129 \r\nQ 3597 2675 3597 1894 \r\nz\r\nM 3022 2063 \r\nQ 3016 2534 2758 2815 \r\nQ 2500 3097 2075 3097 \r\nQ 1594 3097 1305 2825 \r\nQ 1016 2553 972 2059 \r\nL 3022 2063 \r\nz\r\n\" id=\"DejaVuSans-65\" transform=\"scale(0.015625)\"/>\r\n        <path d=\"M 1172 4494 \r\nL 1172 3500 \r\nL 2356 3500 \r\nL 2356 3053 \r\nL 1172 3053 \r\nL 1172 1153 \r\nQ 1172 725 1289 603 \r\nQ 1406 481 1766 481 \r\nL 2356 481 \r\nL 2356 0 \r\nL 1766 0 \r\nQ 1100 0 847 248 \r\nQ 594 497 594 1153 \r\nL 594 3053 \r\nL 172 3053 \r\nL 172 3500 \r\nL 594 3500 \r\nL 594 4494 \r\nL 1172 4494 \r\nz\r\n\" id=\"DejaVuSans-74\" transform=\"scale(0.015625)\"/>\r\n        <path d=\"M 2375 4863 \r\nL 2375 4384 \r\nL 1825 4384 \r\nQ 1516 4384 1395 4259 \r\nQ 1275 4134 1275 3809 \r\nL 1275 3500 \r\nL 2222 3500 \r\nL 2222 3053 \r\nL 1275 3053 \r\nL 1275 0 \r\nL 697 0 \r\nL 697 3053 \r\nL 147 3053 \r\nL 147 3500 \r\nL 697 3500 \r\nL 697 3744 \r\nQ 697 4328 969 4595 \r\nQ 1241 4863 1831 4863 \r\nL 2375 4863 \r\nz\r\n\" id=\"DejaVuSans-66\" transform=\"scale(0.015625)\"/>\r\n        <path d=\"M 603 4863 \r\nL 1178 4863 \r\nL 1178 0 \r\nL 603 0 \r\nL 603 4863 \r\nz\r\n\" id=\"DejaVuSans-6c\" transform=\"scale(0.015625)\"/>\r\n        <path d=\"M 603 3500 \r\nL 1178 3500 \r\nL 1178 0 \r\nL 603 0 \r\nL 603 3500 \r\nz\r\nM 603 4863 \r\nL 1178 4863 \r\nL 1178 4134 \r\nL 603 4134 \r\nL 603 4863 \r\nz\r\n\" id=\"DejaVuSans-69\" transform=\"scale(0.015625)\"/>\r\n        <path d=\"M 3513 3500 \r\nL 2247 1797 \r\nL 3578 0 \r\nL 2900 0 \r\nL 1881 1375 \r\nL 863 0 \r\nL 184 0 \r\nL 1544 1831 \r\nL 300 3500 \r\nL 978 3500 \r\nL 1906 2253 \r\nL 2834 3500 \r\nL 3513 3500 \r\nz\r\n\" id=\"DejaVuSans-78\" transform=\"scale(0.015625)\"/>\r\n        <path d=\"M 3263 -1063 \r\nL 3263 -1509 \r\nL -63 -1509 \r\nL -63 -1063 \r\nL 3263 -1063 \r\nz\r\n\" id=\"DejaVuSans-5f\" transform=\"scale(0.015625)\"/>\r\n        <path d=\"M 2906 2969 \r\nL 2906 4863 \r\nL 3481 4863 \r\nL 3481 0 \r\nL 2906 0 \r\nL 2906 525 \r\nQ 2725 213 2448 61 \r\nQ 2172 -91 1784 -91 \r\nQ 1150 -91 751 415 \r\nQ 353 922 353 1747 \r\nQ 353 2572 751 3078 \r\nQ 1150 3584 1784 3584 \r\nQ 2172 3584 2448 3432 \r\nQ 2725 3281 2906 2969 \r\nz\r\nM 947 1747 \r\nQ 947 1113 1208 752 \r\nQ 1469 391 1925 391 \r\nQ 2381 391 2643 752 \r\nQ 2906 1113 2906 1747 \r\nQ 2906 2381 2643 2742 \r\nQ 2381 3103 1925 3103 \r\nQ 1469 3103 1208 2742 \r\nQ 947 2381 947 1747 \r\nz\r\n\" id=\"DejaVuSans-64\" transform=\"scale(0.015625)\"/>\r\n       </defs>\r\n       <use xlink:href=\"#DejaVuSans-6e\"/>\r\n       <use x=\"63.378906\" xlink:href=\"#DejaVuSans-65\"/>\r\n       <use x=\"124.902344\" xlink:href=\"#DejaVuSans-74\"/>\r\n       <use x=\"164.111328\" xlink:href=\"#DejaVuSans-66\"/>\r\n       <use x=\"199.316406\" xlink:href=\"#DejaVuSans-6c\"/>\r\n       <use x=\"227.099609\" xlink:href=\"#DejaVuSans-69\"/>\r\n       <use x=\"254.882812\" xlink:href=\"#DejaVuSans-78\"/>\r\n       <use x=\"314.0625\" xlink:href=\"#DejaVuSans-5f\"/>\r\n       <use x=\"364.0625\" xlink:href=\"#DejaVuSans-69\"/>\r\n       <use x=\"391.845703\" xlink:href=\"#DejaVuSans-64\"/>\r\n      </g>\r\n     </g>\r\n    </g>\r\n    <g id=\"xtick_2\">\r\n     <g id=\"line2d_2\">\r\n      <g>\r\n       <use style=\"stroke:#000000;stroke-width:0.8;\" x=\"180.5395\" xlink:href=\"#mf04fce7440\" y=\"239.758125\"/>\r\n      </g>\r\n     </g>\r\n     <g id=\"text_2\">\r\n      <!-- netflix_rating -->\r\n      <g transform=\"translate(183.159813 312.787812)rotate(-90)scale(0.1 -0.1)\">\r\n       <defs>\r\n        <path d=\"M 2631 2963 \r\nQ 2534 3019 2420 3045 \r\nQ 2306 3072 2169 3072 \r\nQ 1681 3072 1420 2755 \r\nQ 1159 2438 1159 1844 \r\nL 1159 0 \r\nL 581 0 \r\nL 581 3500 \r\nL 1159 3500 \r\nL 1159 2956 \r\nQ 1341 3275 1631 3429 \r\nQ 1922 3584 2338 3584 \r\nQ 2397 3584 2469 3576 \r\nQ 2541 3569 2628 3553 \r\nL 2631 2963 \r\nz\r\n\" id=\"DejaVuSans-72\" transform=\"scale(0.015625)\"/>\r\n        <path d=\"M 2194 1759 \r\nQ 1497 1759 1228 1600 \r\nQ 959 1441 959 1056 \r\nQ 959 750 1161 570 \r\nQ 1363 391 1709 391 \r\nQ 2188 391 2477 730 \r\nQ 2766 1069 2766 1631 \r\nL 2766 1759 \r\nL 2194 1759 \r\nz\r\nM 3341 1997 \r\nL 3341 0 \r\nL 2766 0 \r\nL 2766 531 \r\nQ 2569 213 2275 61 \r\nQ 1981 -91 1556 -91 \r\nQ 1019 -91 701 211 \r\nQ 384 513 384 1019 \r\nQ 384 1609 779 1909 \r\nQ 1175 2209 1959 2209 \r\nL 2766 2209 \r\nL 2766 2266 \r\nQ 2766 2663 2505 2880 \r\nQ 2244 3097 1772 3097 \r\nQ 1472 3097 1187 3025 \r\nQ 903 2953 641 2809 \r\nL 641 3341 \r\nQ 956 3463 1253 3523 \r\nQ 1550 3584 1831 3584 \r\nQ 2591 3584 2966 3190 \r\nQ 3341 2797 3341 1997 \r\nz\r\n\" id=\"DejaVuSans-61\" transform=\"scale(0.015625)\"/>\r\n        <path d=\"M 2906 1791 \r\nQ 2906 2416 2648 2759 \r\nQ 2391 3103 1925 3103 \r\nQ 1463 3103 1205 2759 \r\nQ 947 2416 947 1791 \r\nQ 947 1169 1205 825 \r\nQ 1463 481 1925 481 \r\nQ 2391 481 2648 825 \r\nQ 2906 1169 2906 1791 \r\nz\r\nM 3481 434 \r\nQ 3481 -459 3084 -895 \r\nQ 2688 -1331 1869 -1331 \r\nQ 1566 -1331 1297 -1286 \r\nQ 1028 -1241 775 -1147 \r\nL 775 -588 \r\nQ 1028 -725 1275 -790 \r\nQ 1522 -856 1778 -856 \r\nQ 2344 -856 2625 -561 \r\nQ 2906 -266 2906 331 \r\nL 2906 616 \r\nQ 2728 306 2450 153 \r\nQ 2172 0 1784 0 \r\nQ 1141 0 747 490 \r\nQ 353 981 353 1791 \r\nQ 353 2603 747 3093 \r\nQ 1141 3584 1784 3584 \r\nQ 2172 3584 2450 3431 \r\nQ 2728 3278 2906 2969 \r\nL 2906 3500 \r\nL 3481 3500 \r\nL 3481 434 \r\nz\r\n\" id=\"DejaVuSans-67\" transform=\"scale(0.015625)\"/>\r\n       </defs>\r\n       <use xlink:href=\"#DejaVuSans-6e\"/>\r\n       <use x=\"63.378906\" xlink:href=\"#DejaVuSans-65\"/>\r\n       <use x=\"124.902344\" xlink:href=\"#DejaVuSans-74\"/>\r\n       <use x=\"164.111328\" xlink:href=\"#DejaVuSans-66\"/>\r\n       <use x=\"199.316406\" xlink:href=\"#DejaVuSans-6c\"/>\r\n       <use x=\"227.099609\" xlink:href=\"#DejaVuSans-69\"/>\r\n       <use x=\"254.882812\" xlink:href=\"#DejaVuSans-78\"/>\r\n       <use x=\"314.0625\" xlink:href=\"#DejaVuSans-5f\"/>\r\n       <use x=\"364.0625\" xlink:href=\"#DejaVuSans-72\"/>\r\n       <use x=\"405.175781\" xlink:href=\"#DejaVuSans-61\"/>\r\n       <use x=\"466.455078\" xlink:href=\"#DejaVuSans-74\"/>\r\n       <use x=\"505.664062\" xlink:href=\"#DejaVuSans-69\"/>\r\n       <use x=\"533.447266\" xlink:href=\"#DejaVuSans-6e\"/>\r\n       <use x=\"596.826172\" xlink:href=\"#DejaVuSans-67\"/>\r\n      </g>\r\n     </g>\r\n    </g>\r\n    <g id=\"xtick_3\">\r\n     <g id=\"line2d_3\">\r\n      <g>\r\n       <use style=\"stroke:#000000;stroke-width:0.8;\" x=\"234.1075\" xlink:href=\"#mf04fce7440\" y=\"239.758125\"/>\r\n      </g>\r\n     </g>\r\n     <g id=\"text_3\">\r\n      <!-- number_of_votes -->\r\n      <g transform=\"translate(236.727813 332.745625)rotate(-90)scale(0.1 -0.1)\">\r\n       <defs>\r\n        <path d=\"M 544 1381 \r\nL 544 3500 \r\nL 1119 3500 \r\nL 1119 1403 \r\nQ 1119 906 1312 657 \r\nQ 1506 409 1894 409 \r\nQ 2359 409 2629 706 \r\nQ 2900 1003 2900 1516 \r\nL 2900 3500 \r\nL 3475 3500 \r\nL 3475 0 \r\nL 2900 0 \r\nL 2900 538 \r\nQ 2691 219 2414 64 \r\nQ 2138 -91 1772 -91 \r\nQ 1169 -91 856 284 \r\nQ 544 659 544 1381 \r\nz\r\nM 1991 3584 \r\nL 1991 3584 \r\nz\r\n\" id=\"DejaVuSans-75\" transform=\"scale(0.015625)\"/>\r\n        <path d=\"M 3328 2828 \r\nQ 3544 3216 3844 3400 \r\nQ 4144 3584 4550 3584 \r\nQ 5097 3584 5394 3201 \r\nQ 5691 2819 5691 2113 \r\nL 5691 0 \r\nL 5113 0 \r\nL 5113 2094 \r\nQ 5113 2597 4934 2840 \r\nQ 4756 3084 4391 3084 \r\nQ 3944 3084 3684 2787 \r\nQ 3425 2491 3425 1978 \r\nL 3425 0 \r\nL 2847 0 \r\nL 2847 2094 \r\nQ 2847 2600 2669 2842 \r\nQ 2491 3084 2119 3084 \r\nQ 1678 3084 1418 2786 \r\nQ 1159 2488 1159 1978 \r\nL 1159 0 \r\nL 581 0 \r\nL 581 3500 \r\nL 1159 3500 \r\nL 1159 2956 \r\nQ 1356 3278 1631 3431 \r\nQ 1906 3584 2284 3584 \r\nQ 2666 3584 2933 3390 \r\nQ 3200 3197 3328 2828 \r\nz\r\n\" id=\"DejaVuSans-6d\" transform=\"scale(0.015625)\"/>\r\n        <path d=\"M 3116 1747 \r\nQ 3116 2381 2855 2742 \r\nQ 2594 3103 2138 3103 \r\nQ 1681 3103 1420 2742 \r\nQ 1159 2381 1159 1747 \r\nQ 1159 1113 1420 752 \r\nQ 1681 391 2138 391 \r\nQ 2594 391 2855 752 \r\nQ 3116 1113 3116 1747 \r\nz\r\nM 1159 2969 \r\nQ 1341 3281 1617 3432 \r\nQ 1894 3584 2278 3584 \r\nQ 2916 3584 3314 3078 \r\nQ 3713 2572 3713 1747 \r\nQ 3713 922 3314 415 \r\nQ 2916 -91 2278 -91 \r\nQ 1894 -91 1617 61 \r\nQ 1341 213 1159 525 \r\nL 1159 0 \r\nL 581 0 \r\nL 581 4863 \r\nL 1159 4863 \r\nL 1159 2969 \r\nz\r\n\" id=\"DejaVuSans-62\" transform=\"scale(0.015625)\"/>\r\n        <path d=\"M 1959 3097 \r\nQ 1497 3097 1228 2736 \r\nQ 959 2375 959 1747 \r\nQ 959 1119 1226 758 \r\nQ 1494 397 1959 397 \r\nQ 2419 397 2687 759 \r\nQ 2956 1122 2956 1747 \r\nQ 2956 2369 2687 2733 \r\nQ 2419 3097 1959 3097 \r\nz\r\nM 1959 3584 \r\nQ 2709 3584 3137 3096 \r\nQ 3566 2609 3566 1747 \r\nQ 3566 888 3137 398 \r\nQ 2709 -91 1959 -91 \r\nQ 1206 -91 779 398 \r\nQ 353 888 353 1747 \r\nQ 353 2609 779 3096 \r\nQ 1206 3584 1959 3584 \r\nz\r\n\" id=\"DejaVuSans-6f\" transform=\"scale(0.015625)\"/>\r\n        <path d=\"M 191 3500 \r\nL 800 3500 \r\nL 1894 563 \r\nL 2988 3500 \r\nL 3597 3500 \r\nL 2284 0 \r\nL 1503 0 \r\nL 191 3500 \r\nz\r\n\" id=\"DejaVuSans-76\" transform=\"scale(0.015625)\"/>\r\n        <path d=\"M 2834 3397 \r\nL 2834 2853 \r\nQ 2591 2978 2328 3040 \r\nQ 2066 3103 1784 3103 \r\nQ 1356 3103 1142 2972 \r\nQ 928 2841 928 2578 \r\nQ 928 2378 1081 2264 \r\nQ 1234 2150 1697 2047 \r\nL 1894 2003 \r\nQ 2506 1872 2764 1633 \r\nQ 3022 1394 3022 966 \r\nQ 3022 478 2636 193 \r\nQ 2250 -91 1575 -91 \r\nQ 1294 -91 989 -36 \r\nQ 684 19 347 128 \r\nL 347 722 \r\nQ 666 556 975 473 \r\nQ 1284 391 1588 391 \r\nQ 1994 391 2212 530 \r\nQ 2431 669 2431 922 \r\nQ 2431 1156 2273 1281 \r\nQ 2116 1406 1581 1522 \r\nL 1381 1569 \r\nQ 847 1681 609 1914 \r\nQ 372 2147 372 2553 \r\nQ 372 3047 722 3315 \r\nQ 1072 3584 1716 3584 \r\nQ 2034 3584 2315 3537 \r\nQ 2597 3491 2834 3397 \r\nz\r\n\" id=\"DejaVuSans-73\" transform=\"scale(0.015625)\"/>\r\n       </defs>\r\n       <use xlink:href=\"#DejaVuSans-6e\"/>\r\n       <use x=\"63.378906\" xlink:href=\"#DejaVuSans-75\"/>\r\n       <use x=\"126.757812\" xlink:href=\"#DejaVuSans-6d\"/>\r\n       <use x=\"224.169922\" xlink:href=\"#DejaVuSans-62\"/>\r\n       <use x=\"287.646484\" xlink:href=\"#DejaVuSans-65\"/>\r\n       <use x=\"349.169922\" xlink:href=\"#DejaVuSans-72\"/>\r\n       <use x=\"390.283203\" xlink:href=\"#DejaVuSans-5f\"/>\r\n       <use x=\"440.283203\" xlink:href=\"#DejaVuSans-6f\"/>\r\n       <use x=\"501.464844\" xlink:href=\"#DejaVuSans-66\"/>\r\n       <use x=\"536.669922\" xlink:href=\"#DejaVuSans-5f\"/>\r\n       <use x=\"586.669922\" xlink:href=\"#DejaVuSans-76\"/>\r\n       <use x=\"645.849609\" xlink:href=\"#DejaVuSans-6f\"/>\r\n       <use x=\"707.03125\" xlink:href=\"#DejaVuSans-74\"/>\r\n       <use x=\"746.240234\" xlink:href=\"#DejaVuSans-65\"/>\r\n       <use x=\"807.763672\" xlink:href=\"#DejaVuSans-73\"/>\r\n      </g>\r\n     </g>\r\n    </g>\r\n    <g id=\"xtick_4\">\r\n     <g id=\"line2d_4\">\r\n      <g>\r\n       <use style=\"stroke:#000000;stroke-width:0.8;\" x=\"287.6755\" xlink:href=\"#mf04fce7440\" y=\"239.758125\"/>\r\n      </g>\r\n     </g>\r\n     <g id=\"text_4\">\r\n      <!-- imdbRating -->\r\n      <g transform=\"translate(290.434875 304.209687)rotate(-90)scale(0.1 -0.1)\">\r\n       <defs>\r\n        <path d=\"M 2841 2188 \r\nQ 3044 2119 3236 1894 \r\nQ 3428 1669 3622 1275 \r\nL 4263 0 \r\nL 3584 0 \r\nL 2988 1197 \r\nQ 2756 1666 2539 1819 \r\nQ 2322 1972 1947 1972 \r\nL 1259 1972 \r\nL 1259 0 \r\nL 628 0 \r\nL 628 4666 \r\nL 2053 4666 \r\nQ 2853 4666 3247 4331 \r\nQ 3641 3997 3641 3322 \r\nQ 3641 2881 3436 2590 \r\nQ 3231 2300 2841 2188 \r\nz\r\nM 1259 4147 \r\nL 1259 2491 \r\nL 2053 2491 \r\nQ 2509 2491 2742 2702 \r\nQ 2975 2913 2975 3322 \r\nQ 2975 3731 2742 3939 \r\nQ 2509 4147 2053 4147 \r\nL 1259 4147 \r\nz\r\n\" id=\"DejaVuSans-52\" transform=\"scale(0.015625)\"/>\r\n       </defs>\r\n       <use xlink:href=\"#DejaVuSans-69\"/>\r\n       <use x=\"27.783203\" xlink:href=\"#DejaVuSans-6d\"/>\r\n       <use x=\"125.195312\" xlink:href=\"#DejaVuSans-64\"/>\r\n       <use x=\"188.671875\" xlink:href=\"#DejaVuSans-62\"/>\r\n       <use x=\"252.148438\" xlink:href=\"#DejaVuSans-52\"/>\r\n       <use x=\"319.380859\" xlink:href=\"#DejaVuSans-61\"/>\r\n       <use x=\"380.660156\" xlink:href=\"#DejaVuSans-74\"/>\r\n       <use x=\"419.869141\" xlink:href=\"#DejaVuSans-69\"/>\r\n       <use x=\"447.652344\" xlink:href=\"#DejaVuSans-6e\"/>\r\n       <use x=\"511.03125\" xlink:href=\"#DejaVuSans-67\"/>\r\n      </g>\r\n     </g>\r\n    </g>\r\n    <g id=\"xtick_5\">\r\n     <g id=\"line2d_5\">\r\n      <g>\r\n       <use style=\"stroke:#000000;stroke-width:0.8;\" x=\"341.2435\" xlink:href=\"#mf04fce7440\" y=\"239.758125\"/>\r\n      </g>\r\n     </g>\r\n     <g id=\"text_5\">\r\n      <!-- Metascore -->\r\n      <g transform=\"translate(344.002875 298.453438)rotate(-90)scale(0.1 -0.1)\">\r\n       <defs>\r\n        <path d=\"M 628 4666 \r\nL 1569 4666 \r\nL 2759 1491 \r\nL 3956 4666 \r\nL 4897 4666 \r\nL 4897 0 \r\nL 4281 0 \r\nL 4281 4097 \r\nL 3078 897 \r\nL 2444 897 \r\nL 1241 4097 \r\nL 1241 0 \r\nL 628 0 \r\nL 628 4666 \r\nz\r\n\" id=\"DejaVuSans-4d\" transform=\"scale(0.015625)\"/>\r\n        <path d=\"M 3122 3366 \r\nL 3122 2828 \r\nQ 2878 2963 2633 3030 \r\nQ 2388 3097 2138 3097 \r\nQ 1578 3097 1268 2742 \r\nQ 959 2388 959 1747 \r\nQ 959 1106 1268 751 \r\nQ 1578 397 2138 397 \r\nQ 2388 397 2633 464 \r\nQ 2878 531 3122 666 \r\nL 3122 134 \r\nQ 2881 22 2623 -34 \r\nQ 2366 -91 2075 -91 \r\nQ 1284 -91 818 406 \r\nQ 353 903 353 1747 \r\nQ 353 2603 823 3093 \r\nQ 1294 3584 2113 3584 \r\nQ 2378 3584 2631 3529 \r\nQ 2884 3475 3122 3366 \r\nz\r\n\" id=\"DejaVuSans-63\" transform=\"scale(0.015625)\"/>\r\n       </defs>\r\n       <use xlink:href=\"#DejaVuSans-4d\"/>\r\n       <use x=\"86.279297\" xlink:href=\"#DejaVuSans-65\"/>\r\n       <use x=\"147.802734\" xlink:href=\"#DejaVuSans-74\"/>\r\n       <use x=\"187.011719\" xlink:href=\"#DejaVuSans-61\"/>\r\n       <use x=\"248.291016\" xlink:href=\"#DejaVuSans-73\"/>\r\n       <use x=\"300.390625\" xlink:href=\"#DejaVuSans-63\"/>\r\n       <use x=\"355.371094\" xlink:href=\"#DejaVuSans-6f\"/>\r\n       <use x=\"416.552734\" xlink:href=\"#DejaVuSans-72\"/>\r\n       <use x=\"455.416016\" xlink:href=\"#DejaVuSans-65\"/>\r\n      </g>\r\n     </g>\r\n    </g>\r\n   </g>\r\n   <g id=\"matplotlib.axis_2\">\r\n    <g id=\"ytick_1\">\r\n     <g id=\"line2d_6\">\r\n      <defs>\r\n       <path d=\"M 0 0 \r\nL -3.5 0 \r\n\" id=\"m7196ae37e2\" style=\"stroke:#000000;stroke-width:0.8;\"/>\r\n      </defs>\r\n      <g>\r\n       <use style=\"stroke:#000000;stroke-width:0.8;\" x=\"100.1875\" xlink:href=\"#m7196ae37e2\" y=\"44.062125\"/>\r\n      </g>\r\n     </g>\r\n     <g id=\"text_6\">\r\n      <!-- netflix_id -->\r\n      <g transform=\"translate(47.654687 47.861344)scale(0.1 -0.1)\">\r\n       <use xlink:href=\"#DejaVuSans-6e\"/>\r\n       <use x=\"63.378906\" xlink:href=\"#DejaVuSans-65\"/>\r\n       <use x=\"124.902344\" xlink:href=\"#DejaVuSans-74\"/>\r\n       <use x=\"164.111328\" xlink:href=\"#DejaVuSans-66\"/>\r\n       <use x=\"199.316406\" xlink:href=\"#DejaVuSans-6c\"/>\r\n       <use x=\"227.099609\" xlink:href=\"#DejaVuSans-69\"/>\r\n       <use x=\"254.882812\" xlink:href=\"#DejaVuSans-78\"/>\r\n       <use x=\"314.0625\" xlink:href=\"#DejaVuSans-5f\"/>\r\n       <use x=\"364.0625\" xlink:href=\"#DejaVuSans-69\"/>\r\n       <use x=\"391.845703\" xlink:href=\"#DejaVuSans-64\"/>\r\n      </g>\r\n     </g>\r\n    </g>\r\n    <g id=\"ytick_2\">\r\n     <g id=\"line2d_7\">\r\n      <g>\r\n       <use style=\"stroke:#000000;stroke-width:0.8;\" x=\"100.1875\" xlink:href=\"#m7196ae37e2\" y=\"87.550125\"/>\r\n      </g>\r\n     </g>\r\n     <g id=\"text_7\">\r\n      <!-- netflix_rating -->\r\n      <g transform=\"translate(27.157812 91.349344)scale(0.1 -0.1)\">\r\n       <use xlink:href=\"#DejaVuSans-6e\"/>\r\n       <use x=\"63.378906\" xlink:href=\"#DejaVuSans-65\"/>\r\n       <use x=\"124.902344\" xlink:href=\"#DejaVuSans-74\"/>\r\n       <use x=\"164.111328\" xlink:href=\"#DejaVuSans-66\"/>\r\n       <use x=\"199.316406\" xlink:href=\"#DejaVuSans-6c\"/>\r\n       <use x=\"227.099609\" xlink:href=\"#DejaVuSans-69\"/>\r\n       <use x=\"254.882812\" xlink:href=\"#DejaVuSans-78\"/>\r\n       <use x=\"314.0625\" xlink:href=\"#DejaVuSans-5f\"/>\r\n       <use x=\"364.0625\" xlink:href=\"#DejaVuSans-72\"/>\r\n       <use x=\"405.175781\" xlink:href=\"#DejaVuSans-61\"/>\r\n       <use x=\"466.455078\" xlink:href=\"#DejaVuSans-74\"/>\r\n       <use x=\"505.664062\" xlink:href=\"#DejaVuSans-69\"/>\r\n       <use x=\"533.447266\" xlink:href=\"#DejaVuSans-6e\"/>\r\n       <use x=\"596.826172\" xlink:href=\"#DejaVuSans-67\"/>\r\n      </g>\r\n     </g>\r\n    </g>\r\n    <g id=\"ytick_3\">\r\n     <g id=\"line2d_8\">\r\n      <g>\r\n       <use style=\"stroke:#000000;stroke-width:0.8;\" x=\"100.1875\" xlink:href=\"#m7196ae37e2\" y=\"131.038125\"/>\r\n      </g>\r\n     </g>\r\n     <g id=\"text_8\">\r\n      <!-- number_of_votes -->\r\n      <g transform=\"translate(7.2 134.837344)scale(0.1 -0.1)\">\r\n       <use xlink:href=\"#DejaVuSans-6e\"/>\r\n       <use x=\"63.378906\" xlink:href=\"#DejaVuSans-75\"/>\r\n       <use x=\"126.757812\" xlink:href=\"#DejaVuSans-6d\"/>\r\n       <use x=\"224.169922\" xlink:href=\"#DejaVuSans-62\"/>\r\n       <use x=\"287.646484\" xlink:href=\"#DejaVuSans-65\"/>\r\n       <use x=\"349.169922\" xlink:href=\"#DejaVuSans-72\"/>\r\n       <use x=\"390.283203\" xlink:href=\"#DejaVuSans-5f\"/>\r\n       <use x=\"440.283203\" xlink:href=\"#DejaVuSans-6f\"/>\r\n       <use x=\"501.464844\" xlink:href=\"#DejaVuSans-66\"/>\r\n       <use x=\"536.669922\" xlink:href=\"#DejaVuSans-5f\"/>\r\n       <use x=\"586.669922\" xlink:href=\"#DejaVuSans-76\"/>\r\n       <use x=\"645.849609\" xlink:href=\"#DejaVuSans-6f\"/>\r\n       <use x=\"707.03125\" xlink:href=\"#DejaVuSans-74\"/>\r\n       <use x=\"746.240234\" xlink:href=\"#DejaVuSans-65\"/>\r\n       <use x=\"807.763672\" xlink:href=\"#DejaVuSans-73\"/>\r\n      </g>\r\n     </g>\r\n    </g>\r\n    <g id=\"ytick_4\">\r\n     <g id=\"line2d_9\">\r\n      <g>\r\n       <use style=\"stroke:#000000;stroke-width:0.8;\" x=\"100.1875\" xlink:href=\"#m7196ae37e2\" y=\"174.526125\"/>\r\n      </g>\r\n     </g>\r\n     <g id=\"text_9\">\r\n      <!-- imdbRating -->\r\n      <g transform=\"translate(35.735937 178.325344)scale(0.1 -0.1)\">\r\n       <use xlink:href=\"#DejaVuSans-69\"/>\r\n       <use x=\"27.783203\" xlink:href=\"#DejaVuSans-6d\"/>\r\n       <use x=\"125.195312\" xlink:href=\"#DejaVuSans-64\"/>\r\n       <use x=\"188.671875\" xlink:href=\"#DejaVuSans-62\"/>\r\n       <use x=\"252.148438\" xlink:href=\"#DejaVuSans-52\"/>\r\n       <use x=\"319.380859\" xlink:href=\"#DejaVuSans-61\"/>\r\n       <use x=\"380.660156\" xlink:href=\"#DejaVuSans-74\"/>\r\n       <use x=\"419.869141\" xlink:href=\"#DejaVuSans-69\"/>\r\n       <use x=\"447.652344\" xlink:href=\"#DejaVuSans-6e\"/>\r\n       <use x=\"511.03125\" xlink:href=\"#DejaVuSans-67\"/>\r\n      </g>\r\n     </g>\r\n    </g>\r\n    <g id=\"ytick_5\">\r\n     <g id=\"line2d_10\">\r\n      <g>\r\n       <use style=\"stroke:#000000;stroke-width:0.8;\" x=\"100.1875\" xlink:href=\"#m7196ae37e2\" y=\"218.014125\"/>\r\n      </g>\r\n     </g>\r\n     <g id=\"text_10\">\r\n      <!-- Metascore -->\r\n      <g transform=\"translate(41.492188 221.813344)scale(0.1 -0.1)\">\r\n       <use xlink:href=\"#DejaVuSans-4d\"/>\r\n       <use x=\"86.279297\" xlink:href=\"#DejaVuSans-65\"/>\r\n       <use x=\"147.802734\" xlink:href=\"#DejaVuSans-74\"/>\r\n       <use x=\"187.011719\" xlink:href=\"#DejaVuSans-61\"/>\r\n       <use x=\"248.291016\" xlink:href=\"#DejaVuSans-73\"/>\r\n       <use x=\"300.390625\" xlink:href=\"#DejaVuSans-63\"/>\r\n       <use x=\"355.371094\" xlink:href=\"#DejaVuSans-6f\"/>\r\n       <use x=\"416.552734\" xlink:href=\"#DejaVuSans-72\"/>\r\n       <use x=\"455.416016\" xlink:href=\"#DejaVuSans-65\"/>\r\n      </g>\r\n     </g>\r\n    </g>\r\n   </g>\r\n   <g id=\"text_11\">\r\n    <!-- 1 -->\r\n    <g style=\"fill:#262626;\" transform=\"translate(123.79025 46.8215)scale(0.1 -0.1)\">\r\n     <defs>\r\n      <path d=\"M 794 531 \r\nL 1825 531 \r\nL 1825 4091 \r\nL 703 3866 \r\nL 703 4441 \r\nL 1819 4666 \r\nL 2450 4666 \r\nL 2450 531 \r\nL 3481 531 \r\nL 3481 0 \r\nL 794 0 \r\nL 794 531 \r\nz\r\n\" id=\"DejaVuSans-31\" transform=\"scale(0.015625)\"/>\r\n     </defs>\r\n     <use xlink:href=\"#DejaVuSans-31\"/>\r\n    </g>\r\n   </g>\r\n   <g id=\"text_12\">\r\n    <!-- 0.02 -->\r\n    <g style=\"fill:#ffffff;\" transform=\"translate(169.406688 46.8215)scale(0.1 -0.1)\">\r\n     <defs>\r\n      <path d=\"M 2034 4250 \r\nQ 1547 4250 1301 3770 \r\nQ 1056 3291 1056 2328 \r\nQ 1056 1369 1301 889 \r\nQ 1547 409 2034 409 \r\nQ 2525 409 2770 889 \r\nQ 3016 1369 3016 2328 \r\nQ 3016 3291 2770 3770 \r\nQ 2525 4250 2034 4250 \r\nz\r\nM 2034 4750 \r\nQ 2819 4750 3233 4129 \r\nQ 3647 3509 3647 2328 \r\nQ 3647 1150 3233 529 \r\nQ 2819 -91 2034 -91 \r\nQ 1250 -91 836 529 \r\nQ 422 1150 422 2328 \r\nQ 422 3509 836 4129 \r\nQ 1250 4750 2034 4750 \r\nz\r\n\" id=\"DejaVuSans-30\" transform=\"scale(0.015625)\"/>\r\n      <path d=\"M 684 794 \r\nL 1344 794 \r\nL 1344 0 \r\nL 684 0 \r\nL 684 794 \r\nz\r\n\" id=\"DejaVuSans-2e\" transform=\"scale(0.015625)\"/>\r\n      <path d=\"M 1228 531 \r\nL 3431 531 \r\nL 3431 0 \r\nL 469 0 \r\nL 469 531 \r\nQ 828 903 1448 1529 \r\nQ 2069 2156 2228 2338 \r\nQ 2531 2678 2651 2914 \r\nQ 2772 3150 2772 3378 \r\nQ 2772 3750 2511 3984 \r\nQ 2250 4219 1831 4219 \r\nQ 1534 4219 1204 4116 \r\nQ 875 4013 500 3803 \r\nL 500 4441 \r\nQ 881 4594 1212 4672 \r\nQ 1544 4750 1819 4750 \r\nQ 2544 4750 2975 4387 \r\nQ 3406 4025 3406 3419 \r\nQ 3406 3131 3298 2873 \r\nQ 3191 2616 2906 2266 \r\nQ 2828 2175 2409 1742 \r\nQ 1991 1309 1228 531 \r\nz\r\n\" id=\"DejaVuSans-32\" transform=\"scale(0.015625)\"/>\r\n     </defs>\r\n     <use xlink:href=\"#DejaVuSans-30\"/>\r\n     <use x=\"63.623047\" xlink:href=\"#DejaVuSans-2e\"/>\r\n     <use x=\"95.410156\" xlink:href=\"#DejaVuSans-30\"/>\r\n     <use x=\"159.033203\" xlink:href=\"#DejaVuSans-32\"/>\r\n    </g>\r\n   </g>\r\n   <g id=\"text_13\">\r\n    <!-- 0.013 -->\r\n    <g style=\"fill:#ffffff;\" transform=\"translate(219.793438 46.8215)scale(0.1 -0.1)\">\r\n     <defs>\r\n      <path d=\"M 2597 2516 \r\nQ 3050 2419 3304 2112 \r\nQ 3559 1806 3559 1356 \r\nQ 3559 666 3084 287 \r\nQ 2609 -91 1734 -91 \r\nQ 1441 -91 1130 -33 \r\nQ 819 25 488 141 \r\nL 488 750 \r\nQ 750 597 1062 519 \r\nQ 1375 441 1716 441 \r\nQ 2309 441 2620 675 \r\nQ 2931 909 2931 1356 \r\nQ 2931 1769 2642 2001 \r\nQ 2353 2234 1838 2234 \r\nL 1294 2234 \r\nL 1294 2753 \r\nL 1863 2753 \r\nQ 2328 2753 2575 2939 \r\nQ 2822 3125 2822 3475 \r\nQ 2822 3834 2567 4026 \r\nQ 2313 4219 1838 4219 \r\nQ 1578 4219 1281 4162 \r\nQ 984 4106 628 3988 \r\nL 628 4550 \r\nQ 988 4650 1302 4700 \r\nQ 1616 4750 1894 4750 \r\nQ 2613 4750 3031 4423 \r\nQ 3450 4097 3450 3541 \r\nQ 3450 3153 3228 2886 \r\nQ 3006 2619 2597 2516 \r\nz\r\n\" id=\"DejaVuSans-33\" transform=\"scale(0.015625)\"/>\r\n     </defs>\r\n     <use xlink:href=\"#DejaVuSans-30\"/>\r\n     <use x=\"63.623047\" xlink:href=\"#DejaVuSans-2e\"/>\r\n     <use x=\"95.410156\" xlink:href=\"#DejaVuSans-30\"/>\r\n     <use x=\"159.033203\" xlink:href=\"#DejaVuSans-31\"/>\r\n     <use x=\"222.65625\" xlink:href=\"#DejaVuSans-33\"/>\r\n    </g>\r\n   </g>\r\n   <g id=\"text_14\">\r\n    <!-- 0.011 -->\r\n    <g style=\"fill:#ffffff;\" transform=\"translate(273.361438 46.8215)scale(0.1 -0.1)\">\r\n     <use xlink:href=\"#DejaVuSans-30\"/>\r\n     <use x=\"63.623047\" xlink:href=\"#DejaVuSans-2e\"/>\r\n     <use x=\"95.410156\" xlink:href=\"#DejaVuSans-30\"/>\r\n     <use x=\"159.033203\" xlink:href=\"#DejaVuSans-31\"/>\r\n     <use x=\"222.65625\" xlink:href=\"#DejaVuSans-31\"/>\r\n    </g>\r\n   </g>\r\n   <g id=\"text_15\">\r\n    <!-- 0.063 -->\r\n    <g style=\"fill:#ffffff;\" transform=\"translate(326.929438 46.8215)scale(0.1 -0.1)\">\r\n     <defs>\r\n      <path d=\"M 2113 2584 \r\nQ 1688 2584 1439 2293 \r\nQ 1191 2003 1191 1497 \r\nQ 1191 994 1439 701 \r\nQ 1688 409 2113 409 \r\nQ 2538 409 2786 701 \r\nQ 3034 994 3034 1497 \r\nQ 3034 2003 2786 2293 \r\nQ 2538 2584 2113 2584 \r\nz\r\nM 3366 4563 \r\nL 3366 3988 \r\nQ 3128 4100 2886 4159 \r\nQ 2644 4219 2406 4219 \r\nQ 1781 4219 1451 3797 \r\nQ 1122 3375 1075 2522 \r\nQ 1259 2794 1537 2939 \r\nQ 1816 3084 2150 3084 \r\nQ 2853 3084 3261 2657 \r\nQ 3669 2231 3669 1497 \r\nQ 3669 778 3244 343 \r\nQ 2819 -91 2113 -91 \r\nQ 1303 -91 875 529 \r\nQ 447 1150 447 2328 \r\nQ 447 3434 972 4092 \r\nQ 1497 4750 2381 4750 \r\nQ 2619 4750 2861 4703 \r\nQ 3103 4656 3366 4563 \r\nz\r\n\" id=\"DejaVuSans-36\" transform=\"scale(0.015625)\"/>\r\n     </defs>\r\n     <use xlink:href=\"#DejaVuSans-30\"/>\r\n     <use x=\"63.623047\" xlink:href=\"#DejaVuSans-2e\"/>\r\n     <use x=\"95.410156\" xlink:href=\"#DejaVuSans-30\"/>\r\n     <use x=\"159.033203\" xlink:href=\"#DejaVuSans-36\"/>\r\n     <use x=\"222.65625\" xlink:href=\"#DejaVuSans-33\"/>\r\n    </g>\r\n   </g>\r\n   <g id=\"text_16\">\r\n    <!-- 0.02 -->\r\n    <g style=\"fill:#ffffff;\" transform=\"translate(115.838688 90.3095)scale(0.1 -0.1)\">\r\n     <use xlink:href=\"#DejaVuSans-30\"/>\r\n     <use x=\"63.623047\" xlink:href=\"#DejaVuSans-2e\"/>\r\n     <use x=\"95.410156\" xlink:href=\"#DejaVuSans-30\"/>\r\n     <use x=\"159.033203\" xlink:href=\"#DejaVuSans-32\"/>\r\n    </g>\r\n   </g>\r\n   <g id=\"text_17\">\r\n    <!-- 1 -->\r\n    <g style=\"fill:#262626;\" transform=\"translate(177.35825 90.3095)scale(0.1 -0.1)\">\r\n     <use xlink:href=\"#DejaVuSans-31\"/>\r\n    </g>\r\n   </g>\r\n   <g id=\"text_18\">\r\n    <!-- 0.32 -->\r\n    <g style=\"fill:#ffffff;\" transform=\"translate(222.974688 90.3095)scale(0.1 -0.1)\">\r\n     <use xlink:href=\"#DejaVuSans-30\"/>\r\n     <use x=\"63.623047\" xlink:href=\"#DejaVuSans-2e\"/>\r\n     <use x=\"95.410156\" xlink:href=\"#DejaVuSans-33\"/>\r\n     <use x=\"159.033203\" xlink:href=\"#DejaVuSans-32\"/>\r\n    </g>\r\n   </g>\r\n   <g id=\"text_19\">\r\n    <!-- 0.69 -->\r\n    <g style=\"fill:#ffffff;\" transform=\"translate(276.542688 90.3095)scale(0.1 -0.1)\">\r\n     <defs>\r\n      <path d=\"M 703 97 \r\nL 703 672 \r\nQ 941 559 1184 500 \r\nQ 1428 441 1663 441 \r\nQ 2288 441 2617 861 \r\nQ 2947 1281 2994 2138 \r\nQ 2813 1869 2534 1725 \r\nQ 2256 1581 1919 1581 \r\nQ 1219 1581 811 2004 \r\nQ 403 2428 403 3163 \r\nQ 403 3881 828 4315 \r\nQ 1253 4750 1959 4750 \r\nQ 2769 4750 3195 4129 \r\nQ 3622 3509 3622 2328 \r\nQ 3622 1225 3098 567 \r\nQ 2575 -91 1691 -91 \r\nQ 1453 -91 1209 -44 \r\nQ 966 3 703 97 \r\nz\r\nM 1959 2075 \r\nQ 2384 2075 2632 2365 \r\nQ 2881 2656 2881 3163 \r\nQ 2881 3666 2632 3958 \r\nQ 2384 4250 1959 4250 \r\nQ 1534 4250 1286 3958 \r\nQ 1038 3666 1038 3163 \r\nQ 1038 2656 1286 2365 \r\nQ 1534 2075 1959 2075 \r\nz\r\n\" id=\"DejaVuSans-39\" transform=\"scale(0.015625)\"/>\r\n     </defs>\r\n     <use xlink:href=\"#DejaVuSans-30\"/>\r\n     <use x=\"63.623047\" xlink:href=\"#DejaVuSans-2e\"/>\r\n     <use x=\"95.410156\" xlink:href=\"#DejaVuSans-36\"/>\r\n     <use x=\"159.033203\" xlink:href=\"#DejaVuSans-39\"/>\r\n    </g>\r\n   </g>\r\n   <g id=\"text_20\">\r\n    <!-- 0.49 -->\r\n    <g style=\"fill:#ffffff;\" transform=\"translate(330.110688 90.3095)scale(0.1 -0.1)\">\r\n     <defs>\r\n      <path d=\"M 2419 4116 \r\nL 825 1625 \r\nL 2419 1625 \r\nL 2419 4116 \r\nz\r\nM 2253 4666 \r\nL 3047 4666 \r\nL 3047 1625 \r\nL 3713 1625 \r\nL 3713 1100 \r\nL 3047 1100 \r\nL 3047 0 \r\nL 2419 0 \r\nL 2419 1100 \r\nL 313 1100 \r\nL 313 1709 \r\nL 2253 4666 \r\nz\r\n\" id=\"DejaVuSans-34\" transform=\"scale(0.015625)\"/>\r\n     </defs>\r\n     <use xlink:href=\"#DejaVuSans-30\"/>\r\n     <use x=\"63.623047\" xlink:href=\"#DejaVuSans-2e\"/>\r\n     <use x=\"95.410156\" xlink:href=\"#DejaVuSans-34\"/>\r\n     <use x=\"159.033203\" xlink:href=\"#DejaVuSans-39\"/>\r\n    </g>\r\n   </g>\r\n   <g id=\"text_21\">\r\n    <!-- 0.013 -->\r\n    <g style=\"fill:#ffffff;\" transform=\"translate(112.657438 133.7975)scale(0.1 -0.1)\">\r\n     <use xlink:href=\"#DejaVuSans-30\"/>\r\n     <use x=\"63.623047\" xlink:href=\"#DejaVuSans-2e\"/>\r\n     <use x=\"95.410156\" xlink:href=\"#DejaVuSans-30\"/>\r\n     <use x=\"159.033203\" xlink:href=\"#DejaVuSans-31\"/>\r\n     <use x=\"222.65625\" xlink:href=\"#DejaVuSans-33\"/>\r\n    </g>\r\n   </g>\r\n   <g id=\"text_22\">\r\n    <!-- 0.32 -->\r\n    <g style=\"fill:#ffffff;\" transform=\"translate(169.406688 133.7975)scale(0.1 -0.1)\">\r\n     <use xlink:href=\"#DejaVuSans-30\"/>\r\n     <use x=\"63.623047\" xlink:href=\"#DejaVuSans-2e\"/>\r\n     <use x=\"95.410156\" xlink:href=\"#DejaVuSans-33\"/>\r\n     <use x=\"159.033203\" xlink:href=\"#DejaVuSans-32\"/>\r\n    </g>\r\n   </g>\r\n   <g id=\"text_23\">\r\n    <!-- 1 -->\r\n    <g style=\"fill:#262626;\" transform=\"translate(230.92625 133.7975)scale(0.1 -0.1)\">\r\n     <use xlink:href=\"#DejaVuSans-31\"/>\r\n    </g>\r\n   </g>\r\n   <g id=\"text_24\">\r\n    <!-- 0.18 -->\r\n    <g style=\"fill:#ffffff;\" transform=\"translate(276.542688 133.7975)scale(0.1 -0.1)\">\r\n     <defs>\r\n      <path d=\"M 2034 2216 \r\nQ 1584 2216 1326 1975 \r\nQ 1069 1734 1069 1313 \r\nQ 1069 891 1326 650 \r\nQ 1584 409 2034 409 \r\nQ 2484 409 2743 651 \r\nQ 3003 894 3003 1313 \r\nQ 3003 1734 2745 1975 \r\nQ 2488 2216 2034 2216 \r\nz\r\nM 1403 2484 \r\nQ 997 2584 770 2862 \r\nQ 544 3141 544 3541 \r\nQ 544 4100 942 4425 \r\nQ 1341 4750 2034 4750 \r\nQ 2731 4750 3128 4425 \r\nQ 3525 4100 3525 3541 \r\nQ 3525 3141 3298 2862 \r\nQ 3072 2584 2669 2484 \r\nQ 3125 2378 3379 2068 \r\nQ 3634 1759 3634 1313 \r\nQ 3634 634 3220 271 \r\nQ 2806 -91 2034 -91 \r\nQ 1263 -91 848 271 \r\nQ 434 634 434 1313 \r\nQ 434 1759 690 2068 \r\nQ 947 2378 1403 2484 \r\nz\r\nM 1172 3481 \r\nQ 1172 3119 1398 2916 \r\nQ 1625 2713 2034 2713 \r\nQ 2441 2713 2670 2916 \r\nQ 2900 3119 2900 3481 \r\nQ 2900 3844 2670 4047 \r\nQ 2441 4250 2034 4250 \r\nQ 1625 4250 1398 4047 \r\nQ 1172 3844 1172 3481 \r\nz\r\n\" id=\"DejaVuSans-38\" transform=\"scale(0.015625)\"/>\r\n     </defs>\r\n     <use xlink:href=\"#DejaVuSans-30\"/>\r\n     <use x=\"63.623047\" xlink:href=\"#DejaVuSans-2e\"/>\r\n     <use x=\"95.410156\" xlink:href=\"#DejaVuSans-31\"/>\r\n     <use x=\"159.033203\" xlink:href=\"#DejaVuSans-38\"/>\r\n    </g>\r\n   </g>\r\n   <g id=\"text_25\">\r\n    <!-- 0.1 -->\r\n    <g style=\"fill:#ffffff;\" transform=\"translate(333.291938 133.7975)scale(0.1 -0.1)\">\r\n     <use xlink:href=\"#DejaVuSans-30\"/>\r\n     <use x=\"63.623047\" xlink:href=\"#DejaVuSans-2e\"/>\r\n     <use x=\"95.410156\" xlink:href=\"#DejaVuSans-31\"/>\r\n    </g>\r\n   </g>\r\n   <g id=\"text_26\">\r\n    <!-- 0.011 -->\r\n    <g style=\"fill:#ffffff;\" transform=\"translate(112.657438 177.2855)scale(0.1 -0.1)\">\r\n     <use xlink:href=\"#DejaVuSans-30\"/>\r\n     <use x=\"63.623047\" xlink:href=\"#DejaVuSans-2e\"/>\r\n     <use x=\"95.410156\" xlink:href=\"#DejaVuSans-30\"/>\r\n     <use x=\"159.033203\" xlink:href=\"#DejaVuSans-31\"/>\r\n     <use x=\"222.65625\" xlink:href=\"#DejaVuSans-31\"/>\r\n    </g>\r\n   </g>\r\n   <g id=\"text_27\">\r\n    <!-- 0.69 -->\r\n    <g style=\"fill:#ffffff;\" transform=\"translate(169.406688 177.2855)scale(0.1 -0.1)\">\r\n     <use xlink:href=\"#DejaVuSans-30\"/>\r\n     <use x=\"63.623047\" xlink:href=\"#DejaVuSans-2e\"/>\r\n     <use x=\"95.410156\" xlink:href=\"#DejaVuSans-36\"/>\r\n     <use x=\"159.033203\" xlink:href=\"#DejaVuSans-39\"/>\r\n    </g>\r\n   </g>\r\n   <g id=\"text_28\">\r\n    <!-- 0.18 -->\r\n    <g style=\"fill:#ffffff;\" transform=\"translate(222.974688 177.2855)scale(0.1 -0.1)\">\r\n     <use xlink:href=\"#DejaVuSans-30\"/>\r\n     <use x=\"63.623047\" xlink:href=\"#DejaVuSans-2e\"/>\r\n     <use x=\"95.410156\" xlink:href=\"#DejaVuSans-31\"/>\r\n     <use x=\"159.033203\" xlink:href=\"#DejaVuSans-38\"/>\r\n    </g>\r\n   </g>\r\n   <g id=\"text_29\">\r\n    <!-- 1 -->\r\n    <g style=\"fill:#262626;\" transform=\"translate(284.49425 177.2855)scale(0.1 -0.1)\">\r\n     <use xlink:href=\"#DejaVuSans-31\"/>\r\n    </g>\r\n   </g>\r\n   <g id=\"text_30\">\r\n    <!-- 0.76 -->\r\n    <g style=\"fill:#ffffff;\" transform=\"translate(330.110688 177.2855)scale(0.1 -0.1)\">\r\n     <defs>\r\n      <path d=\"M 525 4666 \r\nL 3525 4666 \r\nL 3525 4397 \r\nL 1831 0 \r\nL 1172 0 \r\nL 2766 4134 \r\nL 525 4134 \r\nL 525 4666 \r\nz\r\n\" id=\"DejaVuSans-37\" transform=\"scale(0.015625)\"/>\r\n     </defs>\r\n     <use xlink:href=\"#DejaVuSans-30\"/>\r\n     <use x=\"63.623047\" xlink:href=\"#DejaVuSans-2e\"/>\r\n     <use x=\"95.410156\" xlink:href=\"#DejaVuSans-37\"/>\r\n     <use x=\"159.033203\" xlink:href=\"#DejaVuSans-36\"/>\r\n    </g>\r\n   </g>\r\n   <g id=\"text_31\">\r\n    <!-- 0.063 -->\r\n    <g style=\"fill:#ffffff;\" transform=\"translate(112.657438 220.7735)scale(0.1 -0.1)\">\r\n     <use xlink:href=\"#DejaVuSans-30\"/>\r\n     <use x=\"63.623047\" xlink:href=\"#DejaVuSans-2e\"/>\r\n     <use x=\"95.410156\" xlink:href=\"#DejaVuSans-30\"/>\r\n     <use x=\"159.033203\" xlink:href=\"#DejaVuSans-36\"/>\r\n     <use x=\"222.65625\" xlink:href=\"#DejaVuSans-33\"/>\r\n    </g>\r\n   </g>\r\n   <g id=\"text_32\">\r\n    <!-- 0.49 -->\r\n    <g style=\"fill:#ffffff;\" transform=\"translate(169.406688 220.7735)scale(0.1 -0.1)\">\r\n     <use xlink:href=\"#DejaVuSans-30\"/>\r\n     <use x=\"63.623047\" xlink:href=\"#DejaVuSans-2e\"/>\r\n     <use x=\"95.410156\" xlink:href=\"#DejaVuSans-34\"/>\r\n     <use x=\"159.033203\" xlink:href=\"#DejaVuSans-39\"/>\r\n    </g>\r\n   </g>\r\n   <g id=\"text_33\">\r\n    <!-- 0.1 -->\r\n    <g style=\"fill:#ffffff;\" transform=\"translate(226.155938 220.7735)scale(0.1 -0.1)\">\r\n     <use xlink:href=\"#DejaVuSans-30\"/>\r\n     <use x=\"63.623047\" xlink:href=\"#DejaVuSans-2e\"/>\r\n     <use x=\"95.410156\" xlink:href=\"#DejaVuSans-31\"/>\r\n    </g>\r\n   </g>\r\n   <g id=\"text_34\">\r\n    <!-- 0.76 -->\r\n    <g style=\"fill:#ffffff;\" transform=\"translate(276.542688 220.7735)scale(0.1 -0.1)\">\r\n     <use xlink:href=\"#DejaVuSans-30\"/>\r\n     <use x=\"63.623047\" xlink:href=\"#DejaVuSans-2e\"/>\r\n     <use x=\"95.410156\" xlink:href=\"#DejaVuSans-37\"/>\r\n     <use x=\"159.033203\" xlink:href=\"#DejaVuSans-36\"/>\r\n    </g>\r\n   </g>\r\n   <g id=\"text_35\">\r\n    <!-- 1 -->\r\n    <g style=\"fill:#262626;\" transform=\"translate(338.06225 220.7735)scale(0.1 -0.1)\">\r\n     <use xlink:href=\"#DejaVuSans-31\"/>\r\n    </g>\r\n   </g>\r\n   <g id=\"text_36\">\r\n    <!-- base Heatmap -->\r\n    <g transform=\"translate(190.33375 16.318125)scale(0.12 -0.12)\">\r\n     <defs>\r\n      <path id=\"DejaVuSans-20\" transform=\"scale(0.015625)\"/>\r\n      <path d=\"M 628 4666 \r\nL 1259 4666 \r\nL 1259 2753 \r\nL 3553 2753 \r\nL 3553 4666 \r\nL 4184 4666 \r\nL 4184 0 \r\nL 3553 0 \r\nL 3553 2222 \r\nL 1259 2222 \r\nL 1259 0 \r\nL 628 0 \r\nL 628 4666 \r\nz\r\n\" id=\"DejaVuSans-48\" transform=\"scale(0.015625)\"/>\r\n      <path d=\"M 1159 525 \r\nL 1159 -1331 \r\nL 581 -1331 \r\nL 581 3500 \r\nL 1159 3500 \r\nL 1159 2969 \r\nQ 1341 3281 1617 3432 \r\nQ 1894 3584 2278 3584 \r\nQ 2916 3584 3314 3078 \r\nQ 3713 2572 3713 1747 \r\nQ 3713 922 3314 415 \r\nQ 2916 -91 2278 -91 \r\nQ 1894 -91 1617 61 \r\nQ 1341 213 1159 525 \r\nz\r\nM 3116 1747 \r\nQ 3116 2381 2855 2742 \r\nQ 2594 3103 2138 3103 \r\nQ 1681 3103 1420 2742 \r\nQ 1159 2381 1159 1747 \r\nQ 1159 1113 1420 752 \r\nQ 1681 391 2138 391 \r\nQ 2594 391 2855 752 \r\nQ 3116 1113 3116 1747 \r\nz\r\n\" id=\"DejaVuSans-70\" transform=\"scale(0.015625)\"/>\r\n     </defs>\r\n     <use xlink:href=\"#DejaVuSans-62\"/>\r\n     <use x=\"63.476562\" xlink:href=\"#DejaVuSans-61\"/>\r\n     <use x=\"124.755859\" xlink:href=\"#DejaVuSans-73\"/>\r\n     <use x=\"176.855469\" xlink:href=\"#DejaVuSans-65\"/>\r\n     <use x=\"238.378906\" xlink:href=\"#DejaVuSans-20\"/>\r\n     <use x=\"270.166016\" xlink:href=\"#DejaVuSans-48\"/>\r\n     <use x=\"345.361328\" xlink:href=\"#DejaVuSans-65\"/>\r\n     <use x=\"406.884766\" xlink:href=\"#DejaVuSans-61\"/>\r\n     <use x=\"468.164062\" xlink:href=\"#DejaVuSans-74\"/>\r\n     <use x=\"507.373047\" xlink:href=\"#DejaVuSans-6d\"/>\r\n     <use x=\"604.785156\" xlink:href=\"#DejaVuSans-61\"/>\r\n     <use x=\"666.064453\" xlink:href=\"#DejaVuSans-70\"/>\r\n    </g>\r\n   </g>\r\n  </g>\r\n  <g id=\"axes_2\">\r\n   <g id=\"patch_3\">\r\n    <path d=\"M 384.7675 239.758125 \r\nL 395.6395 239.758125 \r\nL 395.6395 22.318125 \r\nL 384.7675 22.318125 \r\nz\r\n\" style=\"fill:#ffffff;\"/>\r\n   </g>\r\n   <g id=\"patch_4\">\r\n    <path clip-path=\"url(#p39bc987061)\" d=\"M 384.7675 239.758125 \r\nL 384.7675 238.90875 \r\nL 384.7675 23.1675 \r\nL 384.7675 22.318125 \r\nL 395.6395 22.318125 \r\nL 395.6395 23.1675 \r\nL 395.6395 238.90875 \r\nL 395.6395 239.758125 \r\nL 395.6395 239.758125 \r\nz\r\n\" style=\"fill:#ffffff;stroke:#ffffff;stroke-linejoin:miter;stroke-width:0.01;\"/>\r\n   </g>\r\n   <image height=\"218\" id=\"image6b3e5aa3df\" transform=\"scale(1 -1)translate(0 -218)\" width=\"11\" x=\"385\" xlink:href=\"data:image/png;base64,\r\niVBORw0KGgoAAAANSUhEUgAAAAsAAADaCAYAAABwzrisAAABZUlEQVR4nN3ay40CMRAE0G7bJEH+cTKk0O9QkoFzqVQ/e3YHer/eTw0/p6fIqjrdc7iBVy8Bi4wiGTGDImMvSCMnw+qOGcxpRmYphdL4xfHHmHf9+/ipbsqZDI6h0W3k0rCJjqHZmz9Xt2mefyznE2zwivFTdFR3bs+56JJ1gwyrOyYDTzcwBw2O/5fwNIg5droJLGmgwZSMYBoC3rEh3ZKGbWOODp5BS+MBzTj+VBpNzHNivutABmoWMPQdjG6vj8gA5tWSs4CJecFGVfMYmzTYZBCu/qjmMVZlkEGJzsC0DZMBzMk0QEbltkHgk2KG92RRZrihT8MTyGSUMOdkNDwJTbMZlFcWORnyZ6CWImB5x2g5i8FLNJd8+WLMm+qOybgkOkkjWIqlIV++BA0K2O46YhbwmT/pk5pzBm38lEZMRi4NMnhHKd2xA3tLGmIwVncw59xJsTReIRn0K4tbhmTb+DmDX11HLCc1FnG4AAAAAElFTkSuQmCC\" y=\"-21\"/>\r\n   <g id=\"matplotlib.axis_3\"/>\r\n   <g id=\"matplotlib.axis_4\">\r\n    <g id=\"ytick_6\">\r\n     <g id=\"line2d_11\">\r\n      <defs>\r\n       <path d=\"M 0 0 \r\nL 3.5 0 \r\n\" id=\"mcc3a35db54\" style=\"stroke:#000000;stroke-width:0.8;\"/>\r\n      </defs>\r\n      <g>\r\n       <use style=\"stroke:#000000;stroke-width:0.8;\" x=\"395.6395\" xlink:href=\"#mcc3a35db54\" y=\"198.276491\"/>\r\n      </g>\r\n     </g>\r\n     <g id=\"text_37\">\r\n      <!-- 0.2 -->\r\n      <g transform=\"translate(402.6395 202.075709)scale(0.1 -0.1)\">\r\n       <use xlink:href=\"#DejaVuSans-30\"/>\r\n       <use x=\"63.623047\" xlink:href=\"#DejaVuSans-2e\"/>\r\n       <use x=\"95.410156\" xlink:href=\"#DejaVuSans-32\"/>\r\n      </g>\r\n     </g>\r\n    </g>\r\n    <g id=\"ytick_7\">\r\n     <g id=\"line2d_12\">\r\n      <g>\r\n       <use style=\"stroke:#000000;stroke-width:0.8;\" x=\"395.6395\" xlink:href=\"#mcc3a35db54\" y=\"154.286899\"/>\r\n      </g>\r\n     </g>\r\n     <g id=\"text_38\">\r\n      <!-- 0.4 -->\r\n      <g transform=\"translate(402.6395 158.086118)scale(0.1 -0.1)\">\r\n       <use xlink:href=\"#DejaVuSans-30\"/>\r\n       <use x=\"63.623047\" xlink:href=\"#DejaVuSans-2e\"/>\r\n       <use x=\"95.410156\" xlink:href=\"#DejaVuSans-34\"/>\r\n      </g>\r\n     </g>\r\n    </g>\r\n    <g id=\"ytick_8\">\r\n     <g id=\"line2d_13\">\r\n      <g>\r\n       <use style=\"stroke:#000000;stroke-width:0.8;\" x=\"395.6395\" xlink:href=\"#mcc3a35db54\" y=\"110.297308\"/>\r\n      </g>\r\n     </g>\r\n     <g id=\"text_39\">\r\n      <!-- 0.6 -->\r\n      <g transform=\"translate(402.6395 114.096527)scale(0.1 -0.1)\">\r\n       <use xlink:href=\"#DejaVuSans-30\"/>\r\n       <use x=\"63.623047\" xlink:href=\"#DejaVuSans-2e\"/>\r\n       <use x=\"95.410156\" xlink:href=\"#DejaVuSans-36\"/>\r\n      </g>\r\n     </g>\r\n    </g>\r\n    <g id=\"ytick_9\">\r\n     <g id=\"line2d_14\">\r\n      <g>\r\n       <use style=\"stroke:#000000;stroke-width:0.8;\" x=\"395.6395\" xlink:href=\"#mcc3a35db54\" y=\"66.307716\"/>\r\n      </g>\r\n     </g>\r\n     <g id=\"text_40\">\r\n      <!-- 0.8 -->\r\n      <g transform=\"translate(402.6395 70.106935)scale(0.1 -0.1)\">\r\n       <use xlink:href=\"#DejaVuSans-30\"/>\r\n       <use x=\"63.623047\" xlink:href=\"#DejaVuSans-2e\"/>\r\n       <use x=\"95.410156\" xlink:href=\"#DejaVuSans-38\"/>\r\n      </g>\r\n     </g>\r\n    </g>\r\n    <g id=\"ytick_10\">\r\n     <g id=\"line2d_15\">\r\n      <g>\r\n       <use style=\"stroke:#000000;stroke-width:0.8;\" x=\"395.6395\" xlink:href=\"#mcc3a35db54\" y=\"22.318125\"/>\r\n      </g>\r\n     </g>\r\n     <g id=\"text_41\">\r\n      <!-- 1.0 -->\r\n      <g transform=\"translate(402.6395 26.117344)scale(0.1 -0.1)\">\r\n       <use xlink:href=\"#DejaVuSans-31\"/>\r\n       <use x=\"63.623047\" xlink:href=\"#DejaVuSans-2e\"/>\r\n       <use x=\"95.410156\" xlink:href=\"#DejaVuSans-30\"/>\r\n      </g>\r\n     </g>\r\n    </g>\r\n   </g>\r\n   <g id=\"LineCollection_1\"/>\r\n   <g id=\"patch_5\">\r\n    <path d=\"M 384.7675 239.758125 \r\nL 384.7675 238.90875 \r\nL 384.7675 23.1675 \r\nL 384.7675 22.318125 \r\nL 395.6395 22.318125 \r\nL 395.6395 23.1675 \r\nL 395.6395 238.90875 \r\nL 395.6395 239.758125 \r\nz\r\n\" style=\"fill:none;\"/>\r\n   </g>\r\n  </g>\r\n </g>\r\n <defs>\r\n  <clipPath id=\"p2f176c3acf\">\r\n   <rect height=\"217.44\" width=\"267.84\" x=\"100.1875\" y=\"22.318125\"/>\r\n  </clipPath>\r\n  <clipPath id=\"p39bc987061\">\r\n   <rect height=\"217.44\" width=\"10.872\" x=\"384.7675\" y=\"22.318125\"/>\r\n  </clipPath>\r\n </defs>\r\n</svg>\r\n",
      "image/png": "[encoded data removed]"
     },
     "metadata": {
      "needs_background": "light"
     }
    }
   ],
   "source": [
    "viz.heatmap()"
   ]
  },
  {
   "source": [
    "### 5.5 EXPANSE Heatmap"
   ],
   "cell_type": "markdown",
   "metadata": {}
  },
  {
   "cell_type": "code",
   "execution_count": 16,
   "metadata": {},
   "outputs": [
    {
     "output_type": "display_data",
     "data": {
      "text/plain": "<Figure size 432x288 with 2 Axes>",
      "image/svg+xml": "<?xml version=\"1.0\" encoding=\"utf-8\" standalone=\"no\"?>\r\n<!DOCTYPE svg PUBLIC \"-//W3C//DTD SVG 1.1//EN\"\r\n  \"http://www.w3.org/Graphics/SVG/1.1/DTD/svg11.dtd\">\r\n<svg height=\"339.945625pt\" version=\"1.1\" viewBox=\"0 0 425.742625 339.945625\" width=\"425.742625pt\" xmlns=\"http://www.w3.org/2000/svg\" xmlns:xlink=\"http://www.w3.org/1999/xlink\">\r\n <metadata>\r\n  <rdf:RDF xmlns:cc=\"http://creativecommons.org/ns#\" xmlns:dc=\"http://purl.org/dc/elements/1.1/\" xmlns:rdf=\"http://www.w3.org/1999/02/22-rdf-syntax-ns#\">\r\n   <cc:Work>\r\n    <dc:type rdf:resource=\"http://purl.org/dc/dcmitype/StillImage\"/>\r\n    <dc:date>2021-06-01T15:25:54.977412</dc:date>\r\n    <dc:format>image/svg+xml</dc:format>\r\n    <dc:creator>\r\n     <cc:Agent>\r\n      <dc:title>Matplotlib v3.4.1, https://matplotlib.org/</dc:title>\r\n     </cc:Agent>\r\n    </dc:creator>\r\n   </cc:Work>\r\n  </rdf:RDF>\r\n </metadata>\r\n <defs>\r\n  <style type=\"text/css\">*{stroke-linecap:butt;stroke-linejoin:round;}</style>\r\n </defs>\r\n <g id=\"figure_1\">\r\n  <g id=\"patch_1\">\r\n   <path d=\"M 0 339.945625 \r\nL 425.742625 339.945625 \r\nL 425.742625 0 \r\nL 0 0 \r\nz\r\n\" style=\"fill:none;\"/>\r\n  </g>\r\n  <g id=\"axes_1\">\r\n   <g id=\"patch_2\">\r\n    <path d=\"M 100.1875 239.758125 \r\nL 368.0275 239.758125 \r\nL 368.0275 22.318125 \r\nL 100.1875 22.318125 \r\nz\r\n\" style=\"fill:#ffffff;\"/>\r\n   </g>\r\n   <g id=\"QuadMesh_1\">\r\n    <path clip-path=\"url(#p44931324f2)\" d=\"M 100.1875 22.318125 \r\nL 153.7555 22.318125 \r\nL 153.7555 65.806125 \r\nL 100.1875 65.806125 \r\nL 100.1875 22.318125 \r\n\" style=\"fill:#faebdd;\"/>\r\n    <path clip-path=\"url(#p44931324f2)\" d=\"M 153.7555 22.318125 \r\nL 207.3235 22.318125 \r\nL 207.3235 65.806125 \r\nL 153.7555 65.806125 \r\nL 153.7555 22.318125 \r\n\" style=\"fill:#05061b;\"/>\r\n    <path clip-path=\"url(#p44931324f2)\" d=\"M 207.3235 22.318125 \r\nL 260.8915 22.318125 \r\nL 260.8915 65.806125 \r\nL 207.3235 65.806125 \r\nL 207.3235 22.318125 \r\n\" style=\"fill:#05061b;\"/>\r\n    <path clip-path=\"url(#p44931324f2)\" d=\"M 260.8915 22.318125 \r\nL 314.4595 22.318125 \r\nL 314.4595 65.806125 \r\nL 260.8915 65.806125 \r\nL 260.8915 22.318125 \r\n\" style=\"fill:#03051a;\"/>\r\n    <path clip-path=\"url(#p44931324f2)\" d=\"M 314.4595 22.318125 \r\nL 368.0275 22.318125 \r\nL 368.0275 65.806125 \r\nL 314.4595 65.806125 \r\nL 314.4595 22.318125 \r\n\" style=\"fill:#130d25;\"/>\r\n    <path clip-path=\"url(#p44931324f2)\" d=\"M 100.1875 65.806125 \r\nL 153.7555 65.806125 \r\nL 153.7555 109.294125 \r\nL 100.1875 109.294125 \r\nL 100.1875 65.806125 \r\n\" style=\"fill:#05061b;\"/>\r\n    <path clip-path=\"url(#p44931324f2)\" d=\"M 153.7555 65.806125 \r\nL 207.3235 65.806125 \r\nL 207.3235 109.294125 \r\nL 153.7555 109.294125 \r\nL 153.7555 65.806125 \r\n\" style=\"fill:#faebdd;\"/>\r\n    <path clip-path=\"url(#p44931324f2)\" d=\"M 207.3235 65.806125 \r\nL 260.8915 65.806125 \r\nL 260.8915 109.294125 \r\nL 207.3235 109.294125 \r\nL 207.3235 65.806125 \r\n\" style=\"fill:#7d1f5a;\"/>\r\n    <path clip-path=\"url(#p44931324f2)\" d=\"M 260.8915 65.806125 \r\nL 314.4595 65.806125 \r\nL 314.4595 109.294125 \r\nL 260.8915 109.294125 \r\nL 260.8915 65.806125 \r\n\" style=\"fill:#f26b49;\"/>\r\n    <path clip-path=\"url(#p44931324f2)\" d=\"M 314.4595 65.806125 \r\nL 368.0275 65.806125 \r\nL 368.0275 109.294125 \r\nL 314.4595 109.294125 \r\nL 314.4595 65.806125 \r\n\" style=\"fill:#ca1a50;\"/>\r\n    <path clip-path=\"url(#p44931324f2)\" d=\"M 100.1875 109.294125 \r\nL 153.7555 109.294125 \r\nL 153.7555 152.782125 \r\nL 100.1875 152.782125 \r\nL 100.1875 109.294125 \r\n\" style=\"fill:#05061b;\"/>\r\n    <path clip-path=\"url(#p44931324f2)\" d=\"M 153.7555 109.294125 \r\nL 207.3235 109.294125 \r\nL 207.3235 152.782125 \r\nL 153.7555 152.782125 \r\nL 153.7555 109.294125 \r\n\" style=\"fill:#7d1f5a;\"/>\r\n    <path clip-path=\"url(#p44931324f2)\" d=\"M 207.3235 109.294125 \r\nL 260.8915 109.294125 \r\nL 260.8915 152.782125 \r\nL 207.3235 152.782125 \r\nL 207.3235 109.294125 \r\n\" style=\"fill:#faebdd;\"/>\r\n    <path clip-path=\"url(#p44931324f2)\" d=\"M 260.8915 109.294125 \r\nL 314.4595 109.294125 \r\nL 314.4595 152.782125 \r\nL 260.8915 152.782125 \r\nL 260.8915 109.294125 \r\n\" style=\"fill:#451c47;\"/>\r\n    <path clip-path=\"url(#p44931324f2)\" d=\"M 314.4595 109.294125 \r\nL 368.0275 109.294125 \r\nL 368.0275 152.782125 \r\nL 314.4595 152.782125 \r\nL 314.4595 109.294125 \r\n\" style=\"fill:#241432;\"/>\r\n    <path clip-path=\"url(#p44931324f2)\" d=\"M 100.1875 152.782125 \r\nL 153.7555 152.782125 \r\nL 153.7555 196.270125 \r\nL 100.1875 196.270125 \r\nL 100.1875 152.782125 \r\n\" style=\"fill:#03051a;\"/>\r\n    <path clip-path=\"url(#p44931324f2)\" d=\"M 153.7555 152.782125 \r\nL 207.3235 152.782125 \r\nL 207.3235 196.270125 \r\nL 153.7555 196.270125 \r\nL 153.7555 152.782125 \r\n\" style=\"fill:#f26b49;\"/>\r\n    <path clip-path=\"url(#p44931324f2)\" d=\"M 207.3235 152.782125 \r\nL 260.8915 152.782125 \r\nL 260.8915 196.270125 \r\nL 207.3235 196.270125 \r\nL 207.3235 152.782125 \r\n\" style=\"fill:#451c47;\"/>\r\n    <path clip-path=\"url(#p44931324f2)\" d=\"M 260.8915 152.782125 \r\nL 314.4595 152.782125 \r\nL 314.4595 196.270125 \r\nL 260.8915 196.270125 \r\nL 260.8915 152.782125 \r\n\" style=\"fill:#faebdd;\"/>\r\n    <path clip-path=\"url(#p44931324f2)\" d=\"M 314.4595 152.782125 \r\nL 368.0275 152.782125 \r\nL 368.0275 196.270125 \r\nL 314.4595 196.270125 \r\nL 314.4595 152.782125 \r\n\" style=\"fill:#f58b63;\"/>\r\n    <path clip-path=\"url(#p44931324f2)\" d=\"M 100.1875 196.270125 \r\nL 153.7555 196.270125 \r\nL 153.7555 239.758125 \r\nL 100.1875 239.758125 \r\nL 100.1875 196.270125 \r\n\" style=\"fill:#130d25;\"/>\r\n    <path clip-path=\"url(#p44931324f2)\" d=\"M 153.7555 196.270125 \r\nL 207.3235 196.270125 \r\nL 207.3235 239.758125 \r\nL 153.7555 239.758125 \r\nL 153.7555 196.270125 \r\n\" style=\"fill:#ca1a50;\"/>\r\n    <path clip-path=\"url(#p44931324f2)\" d=\"M 207.3235 196.270125 \r\nL 260.8915 196.270125 \r\nL 260.8915 239.758125 \r\nL 207.3235 239.758125 \r\nL 207.3235 196.270125 \r\n\" style=\"fill:#241432;\"/>\r\n    <path clip-path=\"url(#p44931324f2)\" d=\"M 260.8915 196.270125 \r\nL 314.4595 196.270125 \r\nL 314.4595 239.758125 \r\nL 260.8915 239.758125 \r\nL 260.8915 196.270125 \r\n\" style=\"fill:#f58b63;\"/>\r\n    <path clip-path=\"url(#p44931324f2)\" d=\"M 314.4595 196.270125 \r\nL 368.0275 196.270125 \r\nL 368.0275 239.758125 \r\nL 314.4595 239.758125 \r\nL 314.4595 196.270125 \r\n\" style=\"fill:#faebdd;\"/>\r\n   </g>\r\n   <g id=\"matplotlib.axis_1\">\r\n    <g id=\"xtick_1\">\r\n     <g id=\"line2d_1\">\r\n      <defs>\r\n       <path d=\"M 0 0 \r\nL 0 3.5 \r\n\" id=\"m352d7f611f\" style=\"stroke:#000000;stroke-width:0.8;\"/>\r\n      </defs>\r\n      <g>\r\n       <use style=\"stroke:#000000;stroke-width:0.8;\" x=\"126.9715\" xlink:href=\"#m352d7f611f\" y=\"239.758125\"/>\r\n      </g>\r\n     </g>\r\n     <g id=\"text_1\">\r\n      <!-- netflix_id -->\r\n      <g transform=\"translate(129.591813 292.290937)rotate(-90)scale(0.1 -0.1)\">\r\n       <defs>\r\n        <path d=\"M 3513 2113 \r\nL 3513 0 \r\nL 2938 0 \r\nL 2938 2094 \r\nQ 2938 2591 2744 2837 \r\nQ 2550 3084 2163 3084 \r\nQ 1697 3084 1428 2787 \r\nQ 1159 2491 1159 1978 \r\nL 1159 0 \r\nL 581 0 \r\nL 581 3500 \r\nL 1159 3500 \r\nL 1159 2956 \r\nQ 1366 3272 1645 3428 \r\nQ 1925 3584 2291 3584 \r\nQ 2894 3584 3203 3211 \r\nQ 3513 2838 3513 2113 \r\nz\r\n\" id=\"DejaVuSans-6e\" transform=\"scale(0.015625)\"/>\r\n        <path d=\"M 3597 1894 \r\nL 3597 1613 \r\nL 953 1613 \r\nQ 991 1019 1311 708 \r\nQ 1631 397 2203 397 \r\nQ 2534 397 2845 478 \r\nQ 3156 559 3463 722 \r\nL 3463 178 \r\nQ 3153 47 2828 -22 \r\nQ 2503 -91 2169 -91 \r\nQ 1331 -91 842 396 \r\nQ 353 884 353 1716 \r\nQ 353 2575 817 3079 \r\nQ 1281 3584 2069 3584 \r\nQ 2775 3584 3186 3129 \r\nQ 3597 2675 3597 1894 \r\nz\r\nM 3022 2063 \r\nQ 3016 2534 2758 2815 \r\nQ 2500 3097 2075 3097 \r\nQ 1594 3097 1305 2825 \r\nQ 1016 2553 972 2059 \r\nL 3022 2063 \r\nz\r\n\" id=\"DejaVuSans-65\" transform=\"scale(0.015625)\"/>\r\n        <path d=\"M 1172 4494 \r\nL 1172 3500 \r\nL 2356 3500 \r\nL 2356 3053 \r\nL 1172 3053 \r\nL 1172 1153 \r\nQ 1172 725 1289 603 \r\nQ 1406 481 1766 481 \r\nL 2356 481 \r\nL 2356 0 \r\nL 1766 0 \r\nQ 1100 0 847 248 \r\nQ 594 497 594 1153 \r\nL 594 3053 \r\nL 172 3053 \r\nL 172 3500 \r\nL 594 3500 \r\nL 594 4494 \r\nL 1172 4494 \r\nz\r\n\" id=\"DejaVuSans-74\" transform=\"scale(0.015625)\"/>\r\n        <path d=\"M 2375 4863 \r\nL 2375 4384 \r\nL 1825 4384 \r\nQ 1516 4384 1395 4259 \r\nQ 1275 4134 1275 3809 \r\nL 1275 3500 \r\nL 2222 3500 \r\nL 2222 3053 \r\nL 1275 3053 \r\nL 1275 0 \r\nL 697 0 \r\nL 697 3053 \r\nL 147 3053 \r\nL 147 3500 \r\nL 697 3500 \r\nL 697 3744 \r\nQ 697 4328 969 4595 \r\nQ 1241 4863 1831 4863 \r\nL 2375 4863 \r\nz\r\n\" id=\"DejaVuSans-66\" transform=\"scale(0.015625)\"/>\r\n        <path d=\"M 603 4863 \r\nL 1178 4863 \r\nL 1178 0 \r\nL 603 0 \r\nL 603 4863 \r\nz\r\n\" id=\"DejaVuSans-6c\" transform=\"scale(0.015625)\"/>\r\n        <path d=\"M 603 3500 \r\nL 1178 3500 \r\nL 1178 0 \r\nL 603 0 \r\nL 603 3500 \r\nz\r\nM 603 4863 \r\nL 1178 4863 \r\nL 1178 4134 \r\nL 603 4134 \r\nL 603 4863 \r\nz\r\n\" id=\"DejaVuSans-69\" transform=\"scale(0.015625)\"/>\r\n        <path d=\"M 3513 3500 \r\nL 2247 1797 \r\nL 3578 0 \r\nL 2900 0 \r\nL 1881 1375 \r\nL 863 0 \r\nL 184 0 \r\nL 1544 1831 \r\nL 300 3500 \r\nL 978 3500 \r\nL 1906 2253 \r\nL 2834 3500 \r\nL 3513 3500 \r\nz\r\n\" id=\"DejaVuSans-78\" transform=\"scale(0.015625)\"/>\r\n        <path d=\"M 3263 -1063 \r\nL 3263 -1509 \r\nL -63 -1509 \r\nL -63 -1063 \r\nL 3263 -1063 \r\nz\r\n\" id=\"DejaVuSans-5f\" transform=\"scale(0.015625)\"/>\r\n        <path d=\"M 2906 2969 \r\nL 2906 4863 \r\nL 3481 4863 \r\nL 3481 0 \r\nL 2906 0 \r\nL 2906 525 \r\nQ 2725 213 2448 61 \r\nQ 2172 -91 1784 -91 \r\nQ 1150 -91 751 415 \r\nQ 353 922 353 1747 \r\nQ 353 2572 751 3078 \r\nQ 1150 3584 1784 3584 \r\nQ 2172 3584 2448 3432 \r\nQ 2725 3281 2906 2969 \r\nz\r\nM 947 1747 \r\nQ 947 1113 1208 752 \r\nQ 1469 391 1925 391 \r\nQ 2381 391 2643 752 \r\nQ 2906 1113 2906 1747 \r\nQ 2906 2381 2643 2742 \r\nQ 2381 3103 1925 3103 \r\nQ 1469 3103 1208 2742 \r\nQ 947 2381 947 1747 \r\nz\r\n\" id=\"DejaVuSans-64\" transform=\"scale(0.015625)\"/>\r\n       </defs>\r\n       <use xlink:href=\"#DejaVuSans-6e\"/>\r\n       <use x=\"63.378906\" xlink:href=\"#DejaVuSans-65\"/>\r\n       <use x=\"124.902344\" xlink:href=\"#DejaVuSans-74\"/>\r\n       <use x=\"164.111328\" xlink:href=\"#DejaVuSans-66\"/>\r\n       <use x=\"199.316406\" xlink:href=\"#DejaVuSans-6c\"/>\r\n       <use x=\"227.099609\" xlink:href=\"#DejaVuSans-69\"/>\r\n       <use x=\"254.882812\" xlink:href=\"#DejaVuSans-78\"/>\r\n       <use x=\"314.0625\" xlink:href=\"#DejaVuSans-5f\"/>\r\n       <use x=\"364.0625\" xlink:href=\"#DejaVuSans-69\"/>\r\n       <use x=\"391.845703\" xlink:href=\"#DejaVuSans-64\"/>\r\n      </g>\r\n     </g>\r\n    </g>\r\n    <g id=\"xtick_2\">\r\n     <g id=\"line2d_2\">\r\n      <g>\r\n       <use style=\"stroke:#000000;stroke-width:0.8;\" x=\"180.5395\" xlink:href=\"#m352d7f611f\" y=\"239.758125\"/>\r\n      </g>\r\n     </g>\r\n     <g id=\"text_2\">\r\n      <!-- netflix_rating -->\r\n      <g transform=\"translate(183.159813 312.787812)rotate(-90)scale(0.1 -0.1)\">\r\n       <defs>\r\n        <path d=\"M 2631 2963 \r\nQ 2534 3019 2420 3045 \r\nQ 2306 3072 2169 3072 \r\nQ 1681 3072 1420 2755 \r\nQ 1159 2438 1159 1844 \r\nL 1159 0 \r\nL 581 0 \r\nL 581 3500 \r\nL 1159 3500 \r\nL 1159 2956 \r\nQ 1341 3275 1631 3429 \r\nQ 1922 3584 2338 3584 \r\nQ 2397 3584 2469 3576 \r\nQ 2541 3569 2628 3553 \r\nL 2631 2963 \r\nz\r\n\" id=\"DejaVuSans-72\" transform=\"scale(0.015625)\"/>\r\n        <path d=\"M 2194 1759 \r\nQ 1497 1759 1228 1600 \r\nQ 959 1441 959 1056 \r\nQ 959 750 1161 570 \r\nQ 1363 391 1709 391 \r\nQ 2188 391 2477 730 \r\nQ 2766 1069 2766 1631 \r\nL 2766 1759 \r\nL 2194 1759 \r\nz\r\nM 3341 1997 \r\nL 3341 0 \r\nL 2766 0 \r\nL 2766 531 \r\nQ 2569 213 2275 61 \r\nQ 1981 -91 1556 -91 \r\nQ 1019 -91 701 211 \r\nQ 384 513 384 1019 \r\nQ 384 1609 779 1909 \r\nQ 1175 2209 1959 2209 \r\nL 2766 2209 \r\nL 2766 2266 \r\nQ 2766 2663 2505 2880 \r\nQ 2244 3097 1772 3097 \r\nQ 1472 3097 1187 3025 \r\nQ 903 2953 641 2809 \r\nL 641 3341 \r\nQ 956 3463 1253 3523 \r\nQ 1550 3584 1831 3584 \r\nQ 2591 3584 2966 3190 \r\nQ 3341 2797 3341 1997 \r\nz\r\n\" id=\"DejaVuSans-61\" transform=\"scale(0.015625)\"/>\r\n        <path d=\"M 2906 1791 \r\nQ 2906 2416 2648 2759 \r\nQ 2391 3103 1925 3103 \r\nQ 1463 3103 1205 2759 \r\nQ 947 2416 947 1791 \r\nQ 947 1169 1205 825 \r\nQ 1463 481 1925 481 \r\nQ 2391 481 2648 825 \r\nQ 2906 1169 2906 1791 \r\nz\r\nM 3481 434 \r\nQ 3481 -459 3084 -895 \r\nQ 2688 -1331 1869 -1331 \r\nQ 1566 -1331 1297 -1286 \r\nQ 1028 -1241 775 -1147 \r\nL 775 -588 \r\nQ 1028 -725 1275 -790 \r\nQ 1522 -856 1778 -856 \r\nQ 2344 -856 2625 -561 \r\nQ 2906 -266 2906 331 \r\nL 2906 616 \r\nQ 2728 306 2450 153 \r\nQ 2172 0 1784 0 \r\nQ 1141 0 747 490 \r\nQ 353 981 353 1791 \r\nQ 353 2603 747 3093 \r\nQ 1141 3584 1784 3584 \r\nQ 2172 3584 2450 3431 \r\nQ 2728 3278 2906 2969 \r\nL 2906 3500 \r\nL 3481 3500 \r\nL 3481 434 \r\nz\r\n\" id=\"DejaVuSans-67\" transform=\"scale(0.015625)\"/>\r\n       </defs>\r\n       <use xlink:href=\"#DejaVuSans-6e\"/>\r\n       <use x=\"63.378906\" xlink:href=\"#DejaVuSans-65\"/>\r\n       <use x=\"124.902344\" xlink:href=\"#DejaVuSans-74\"/>\r\n       <use x=\"164.111328\" xlink:href=\"#DejaVuSans-66\"/>\r\n       <use x=\"199.316406\" xlink:href=\"#DejaVuSans-6c\"/>\r\n       <use x=\"227.099609\" xlink:href=\"#DejaVuSans-69\"/>\r\n       <use x=\"254.882812\" xlink:href=\"#DejaVuSans-78\"/>\r\n       <use x=\"314.0625\" xlink:href=\"#DejaVuSans-5f\"/>\r\n       <use x=\"364.0625\" xlink:href=\"#DejaVuSans-72\"/>\r\n       <use x=\"405.175781\" xlink:href=\"#DejaVuSans-61\"/>\r\n       <use x=\"466.455078\" xlink:href=\"#DejaVuSans-74\"/>\r\n       <use x=\"505.664062\" xlink:href=\"#DejaVuSans-69\"/>\r\n       <use x=\"533.447266\" xlink:href=\"#DejaVuSans-6e\"/>\r\n       <use x=\"596.826172\" xlink:href=\"#DejaVuSans-67\"/>\r\n      </g>\r\n     </g>\r\n    </g>\r\n    <g id=\"xtick_3\">\r\n     <g id=\"line2d_3\">\r\n      <g>\r\n       <use style=\"stroke:#000000;stroke-width:0.8;\" x=\"234.1075\" xlink:href=\"#m352d7f611f\" y=\"239.758125\"/>\r\n      </g>\r\n     </g>\r\n     <g id=\"text_3\">\r\n      <!-- number_of_votes -->\r\n      <g transform=\"translate(236.727813 332.745625)rotate(-90)scale(0.1 -0.1)\">\r\n       <defs>\r\n        <path d=\"M 544 1381 \r\nL 544 3500 \r\nL 1119 3500 \r\nL 1119 1403 \r\nQ 1119 906 1312 657 \r\nQ 1506 409 1894 409 \r\nQ 2359 409 2629 706 \r\nQ 2900 1003 2900 1516 \r\nL 2900 3500 \r\nL 3475 3500 \r\nL 3475 0 \r\nL 2900 0 \r\nL 2900 538 \r\nQ 2691 219 2414 64 \r\nQ 2138 -91 1772 -91 \r\nQ 1169 -91 856 284 \r\nQ 544 659 544 1381 \r\nz\r\nM 1991 3584 \r\nL 1991 3584 \r\nz\r\n\" id=\"DejaVuSans-75\" transform=\"scale(0.015625)\"/>\r\n        <path d=\"M 3328 2828 \r\nQ 3544 3216 3844 3400 \r\nQ 4144 3584 4550 3584 \r\nQ 5097 3584 5394 3201 \r\nQ 5691 2819 5691 2113 \r\nL 5691 0 \r\nL 5113 0 \r\nL 5113 2094 \r\nQ 5113 2597 4934 2840 \r\nQ 4756 3084 4391 3084 \r\nQ 3944 3084 3684 2787 \r\nQ 3425 2491 3425 1978 \r\nL 3425 0 \r\nL 2847 0 \r\nL 2847 2094 \r\nQ 2847 2600 2669 2842 \r\nQ 2491 3084 2119 3084 \r\nQ 1678 3084 1418 2786 \r\nQ 1159 2488 1159 1978 \r\nL 1159 0 \r\nL 581 0 \r\nL 581 3500 \r\nL 1159 3500 \r\nL 1159 2956 \r\nQ 1356 3278 1631 3431 \r\nQ 1906 3584 2284 3584 \r\nQ 2666 3584 2933 3390 \r\nQ 3200 3197 3328 2828 \r\nz\r\n\" id=\"DejaVuSans-6d\" transform=\"scale(0.015625)\"/>\r\n        <path d=\"M 3116 1747 \r\nQ 3116 2381 2855 2742 \r\nQ 2594 3103 2138 3103 \r\nQ 1681 3103 1420 2742 \r\nQ 1159 2381 1159 1747 \r\nQ 1159 1113 1420 752 \r\nQ 1681 391 2138 391 \r\nQ 2594 391 2855 752 \r\nQ 3116 1113 3116 1747 \r\nz\r\nM 1159 2969 \r\nQ 1341 3281 1617 3432 \r\nQ 1894 3584 2278 3584 \r\nQ 2916 3584 3314 3078 \r\nQ 3713 2572 3713 1747 \r\nQ 3713 922 3314 415 \r\nQ 2916 -91 2278 -91 \r\nQ 1894 -91 1617 61 \r\nQ 1341 213 1159 525 \r\nL 1159 0 \r\nL 581 0 \r\nL 581 4863 \r\nL 1159 4863 \r\nL 1159 2969 \r\nz\r\n\" id=\"DejaVuSans-62\" transform=\"scale(0.015625)\"/>\r\n        <path d=\"M 1959 3097 \r\nQ 1497 3097 1228 2736 \r\nQ 959 2375 959 1747 \r\nQ 959 1119 1226 758 \r\nQ 1494 397 1959 397 \r\nQ 2419 397 2687 759 \r\nQ 2956 1122 2956 1747 \r\nQ 2956 2369 2687 2733 \r\nQ 2419 3097 1959 3097 \r\nz\r\nM 1959 3584 \r\nQ 2709 3584 3137 3096 \r\nQ 3566 2609 3566 1747 \r\nQ 3566 888 3137 398 \r\nQ 2709 -91 1959 -91 \r\nQ 1206 -91 779 398 \r\nQ 353 888 353 1747 \r\nQ 353 2609 779 3096 \r\nQ 1206 3584 1959 3584 \r\nz\r\n\" id=\"DejaVuSans-6f\" transform=\"scale(0.015625)\"/>\r\n        <path d=\"M 191 3500 \r\nL 800 3500 \r\nL 1894 563 \r\nL 2988 3500 \r\nL 3597 3500 \r\nL 2284 0 \r\nL 1503 0 \r\nL 191 3500 \r\nz\r\n\" id=\"DejaVuSans-76\" transform=\"scale(0.015625)\"/>\r\n        <path d=\"M 2834 3397 \r\nL 2834 2853 \r\nQ 2591 2978 2328 3040 \r\nQ 2066 3103 1784 3103 \r\nQ 1356 3103 1142 2972 \r\nQ 928 2841 928 2578 \r\nQ 928 2378 1081 2264 \r\nQ 1234 2150 1697 2047 \r\nL 1894 2003 \r\nQ 2506 1872 2764 1633 \r\nQ 3022 1394 3022 966 \r\nQ 3022 478 2636 193 \r\nQ 2250 -91 1575 -91 \r\nQ 1294 -91 989 -36 \r\nQ 684 19 347 128 \r\nL 347 722 \r\nQ 666 556 975 473 \r\nQ 1284 391 1588 391 \r\nQ 1994 391 2212 530 \r\nQ 2431 669 2431 922 \r\nQ 2431 1156 2273 1281 \r\nQ 2116 1406 1581 1522 \r\nL 1381 1569 \r\nQ 847 1681 609 1914 \r\nQ 372 2147 372 2553 \r\nQ 372 3047 722 3315 \r\nQ 1072 3584 1716 3584 \r\nQ 2034 3584 2315 3537 \r\nQ 2597 3491 2834 3397 \r\nz\r\n\" id=\"DejaVuSans-73\" transform=\"scale(0.015625)\"/>\r\n       </defs>\r\n       <use xlink:href=\"#DejaVuSans-6e\"/>\r\n       <use x=\"63.378906\" xlink:href=\"#DejaVuSans-75\"/>\r\n       <use x=\"126.757812\" xlink:href=\"#DejaVuSans-6d\"/>\r\n       <use x=\"224.169922\" xlink:href=\"#DejaVuSans-62\"/>\r\n       <use x=\"287.646484\" xlink:href=\"#DejaVuSans-65\"/>\r\n       <use x=\"349.169922\" xlink:href=\"#DejaVuSans-72\"/>\r\n       <use x=\"390.283203\" xlink:href=\"#DejaVuSans-5f\"/>\r\n       <use x=\"440.283203\" xlink:href=\"#DejaVuSans-6f\"/>\r\n       <use x=\"501.464844\" xlink:href=\"#DejaVuSans-66\"/>\r\n       <use x=\"536.669922\" xlink:href=\"#DejaVuSans-5f\"/>\r\n       <use x=\"586.669922\" xlink:href=\"#DejaVuSans-76\"/>\r\n       <use x=\"645.849609\" xlink:href=\"#DejaVuSans-6f\"/>\r\n       <use x=\"707.03125\" xlink:href=\"#DejaVuSans-74\"/>\r\n       <use x=\"746.240234\" xlink:href=\"#DejaVuSans-65\"/>\r\n       <use x=\"807.763672\" xlink:href=\"#DejaVuSans-73\"/>\r\n      </g>\r\n     </g>\r\n    </g>\r\n    <g id=\"xtick_4\">\r\n     <g id=\"line2d_4\">\r\n      <g>\r\n       <use style=\"stroke:#000000;stroke-width:0.8;\" x=\"287.6755\" xlink:href=\"#m352d7f611f\" y=\"239.758125\"/>\r\n      </g>\r\n     </g>\r\n     <g id=\"text_4\">\r\n      <!-- imdbRating -->\r\n      <g transform=\"translate(290.434875 304.209687)rotate(-90)scale(0.1 -0.1)\">\r\n       <defs>\r\n        <path d=\"M 2841 2188 \r\nQ 3044 2119 3236 1894 \r\nQ 3428 1669 3622 1275 \r\nL 4263 0 \r\nL 3584 0 \r\nL 2988 1197 \r\nQ 2756 1666 2539 1819 \r\nQ 2322 1972 1947 1972 \r\nL 1259 1972 \r\nL 1259 0 \r\nL 628 0 \r\nL 628 4666 \r\nL 2053 4666 \r\nQ 2853 4666 3247 4331 \r\nQ 3641 3997 3641 3322 \r\nQ 3641 2881 3436 2590 \r\nQ 3231 2300 2841 2188 \r\nz\r\nM 1259 4147 \r\nL 1259 2491 \r\nL 2053 2491 \r\nQ 2509 2491 2742 2702 \r\nQ 2975 2913 2975 3322 \r\nQ 2975 3731 2742 3939 \r\nQ 2509 4147 2053 4147 \r\nL 1259 4147 \r\nz\r\n\" id=\"DejaVuSans-52\" transform=\"scale(0.015625)\"/>\r\n       </defs>\r\n       <use xlink:href=\"#DejaVuSans-69\"/>\r\n       <use x=\"27.783203\" xlink:href=\"#DejaVuSans-6d\"/>\r\n       <use x=\"125.195312\" xlink:href=\"#DejaVuSans-64\"/>\r\n       <use x=\"188.671875\" xlink:href=\"#DejaVuSans-62\"/>\r\n       <use x=\"252.148438\" xlink:href=\"#DejaVuSans-52\"/>\r\n       <use x=\"319.380859\" xlink:href=\"#DejaVuSans-61\"/>\r\n       <use x=\"380.660156\" xlink:href=\"#DejaVuSans-74\"/>\r\n       <use x=\"419.869141\" xlink:href=\"#DejaVuSans-69\"/>\r\n       <use x=\"447.652344\" xlink:href=\"#DejaVuSans-6e\"/>\r\n       <use x=\"511.03125\" xlink:href=\"#DejaVuSans-67\"/>\r\n      </g>\r\n     </g>\r\n    </g>\r\n    <g id=\"xtick_5\">\r\n     <g id=\"line2d_5\">\r\n      <g>\r\n       <use style=\"stroke:#000000;stroke-width:0.8;\" x=\"341.2435\" xlink:href=\"#m352d7f611f\" y=\"239.758125\"/>\r\n      </g>\r\n     </g>\r\n     <g id=\"text_5\">\r\n      <!-- Metascore -->\r\n      <g transform=\"translate(344.002875 298.453438)rotate(-90)scale(0.1 -0.1)\">\r\n       <defs>\r\n        <path d=\"M 628 4666 \r\nL 1569 4666 \r\nL 2759 1491 \r\nL 3956 4666 \r\nL 4897 4666 \r\nL 4897 0 \r\nL 4281 0 \r\nL 4281 4097 \r\nL 3078 897 \r\nL 2444 897 \r\nL 1241 4097 \r\nL 1241 0 \r\nL 628 0 \r\nL 628 4666 \r\nz\r\n\" id=\"DejaVuSans-4d\" transform=\"scale(0.015625)\"/>\r\n        <path d=\"M 3122 3366 \r\nL 3122 2828 \r\nQ 2878 2963 2633 3030 \r\nQ 2388 3097 2138 3097 \r\nQ 1578 3097 1268 2742 \r\nQ 959 2388 959 1747 \r\nQ 959 1106 1268 751 \r\nQ 1578 397 2138 397 \r\nQ 2388 397 2633 464 \r\nQ 2878 531 3122 666 \r\nL 3122 134 \r\nQ 2881 22 2623 -34 \r\nQ 2366 -91 2075 -91 \r\nQ 1284 -91 818 406 \r\nQ 353 903 353 1747 \r\nQ 353 2603 823 3093 \r\nQ 1294 3584 2113 3584 \r\nQ 2378 3584 2631 3529 \r\nQ 2884 3475 3122 3366 \r\nz\r\n\" id=\"DejaVuSans-63\" transform=\"scale(0.015625)\"/>\r\n       </defs>\r\n       <use xlink:href=\"#DejaVuSans-4d\"/>\r\n       <use x=\"86.279297\" xlink:href=\"#DejaVuSans-65\"/>\r\n       <use x=\"147.802734\" xlink:href=\"#DejaVuSans-74\"/>\r\n       <use x=\"187.011719\" xlink:href=\"#DejaVuSans-61\"/>\r\n       <use x=\"248.291016\" xlink:href=\"#DejaVuSans-73\"/>\r\n       <use x=\"300.390625\" xlink:href=\"#DejaVuSans-63\"/>\r\n       <use x=\"355.371094\" xlink:href=\"#DejaVuSans-6f\"/>\r\n       <use x=\"416.552734\" xlink:href=\"#DejaVuSans-72\"/>\r\n       <use x=\"455.416016\" xlink:href=\"#DejaVuSans-65\"/>\r\n      </g>\r\n     </g>\r\n    </g>\r\n   </g>\r\n   <g id=\"matplotlib.axis_2\">\r\n    <g id=\"ytick_1\">\r\n     <g id=\"line2d_6\">\r\n      <defs>\r\n       <path d=\"M 0 0 \r\nL -3.5 0 \r\n\" id=\"mb4f4685dff\" style=\"stroke:#000000;stroke-width:0.8;\"/>\r\n      </defs>\r\n      <g>\r\n       <use style=\"stroke:#000000;stroke-width:0.8;\" x=\"100.1875\" xlink:href=\"#mb4f4685dff\" y=\"44.062125\"/>\r\n      </g>\r\n     </g>\r\n     <g id=\"text_6\">\r\n      <!-- netflix_id -->\r\n      <g transform=\"translate(47.654687 47.861344)scale(0.1 -0.1)\">\r\n       <use xlink:href=\"#DejaVuSans-6e\"/>\r\n       <use x=\"63.378906\" xlink:href=\"#DejaVuSans-65\"/>\r\n       <use x=\"124.902344\" xlink:href=\"#DejaVuSans-74\"/>\r\n       <use x=\"164.111328\" xlink:href=\"#DejaVuSans-66\"/>\r\n       <use x=\"199.316406\" xlink:href=\"#DejaVuSans-6c\"/>\r\n       <use x=\"227.099609\" xlink:href=\"#DejaVuSans-69\"/>\r\n       <use x=\"254.882812\" xlink:href=\"#DejaVuSans-78\"/>\r\n       <use x=\"314.0625\" xlink:href=\"#DejaVuSans-5f\"/>\r\n       <use x=\"364.0625\" xlink:href=\"#DejaVuSans-69\"/>\r\n       <use x=\"391.845703\" xlink:href=\"#DejaVuSans-64\"/>\r\n      </g>\r\n     </g>\r\n    </g>\r\n    <g id=\"ytick_2\">\r\n     <g id=\"line2d_7\">\r\n      <g>\r\n       <use style=\"stroke:#000000;stroke-width:0.8;\" x=\"100.1875\" xlink:href=\"#mb4f4685dff\" y=\"87.550125\"/>\r\n      </g>\r\n     </g>\r\n     <g id=\"text_7\">\r\n      <!-- netflix_rating -->\r\n      <g transform=\"translate(27.157812 91.349344)scale(0.1 -0.1)\">\r\n       <use xlink:href=\"#DejaVuSans-6e\"/>\r\n       <use x=\"63.378906\" xlink:href=\"#DejaVuSans-65\"/>\r\n       <use x=\"124.902344\" xlink:href=\"#DejaVuSans-74\"/>\r\n       <use x=\"164.111328\" xlink:href=\"#DejaVuSans-66\"/>\r\n       <use x=\"199.316406\" xlink:href=\"#DejaVuSans-6c\"/>\r\n       <use x=\"227.099609\" xlink:href=\"#DejaVuSans-69\"/>\r\n       <use x=\"254.882812\" xlink:href=\"#DejaVuSans-78\"/>\r\n       <use x=\"314.0625\" xlink:href=\"#DejaVuSans-5f\"/>\r\n       <use x=\"364.0625\" xlink:href=\"#DejaVuSans-72\"/>\r\n       <use x=\"405.175781\" xlink:href=\"#DejaVuSans-61\"/>\r\n       <use x=\"466.455078\" xlink:href=\"#DejaVuSans-74\"/>\r\n       <use x=\"505.664062\" xlink:href=\"#DejaVuSans-69\"/>\r\n       <use x=\"533.447266\" xlink:href=\"#DejaVuSans-6e\"/>\r\n       <use x=\"596.826172\" xlink:href=\"#DejaVuSans-67\"/>\r\n      </g>\r\n     </g>\r\n    </g>\r\n    <g id=\"ytick_3\">\r\n     <g id=\"line2d_8\">\r\n      <g>\r\n       <use style=\"stroke:#000000;stroke-width:0.8;\" x=\"100.1875\" xlink:href=\"#mb4f4685dff\" y=\"131.038125\"/>\r\n      </g>\r\n     </g>\r\n     <g id=\"text_8\">\r\n      <!-- number_of_votes -->\r\n      <g transform=\"translate(7.2 134.837344)scale(0.1 -0.1)\">\r\n       <use xlink:href=\"#DejaVuSans-6e\"/>\r\n       <use x=\"63.378906\" xlink:href=\"#DejaVuSans-75\"/>\r\n       <use x=\"126.757812\" xlink:href=\"#DejaVuSans-6d\"/>\r\n       <use x=\"224.169922\" xlink:href=\"#DejaVuSans-62\"/>\r\n       <use x=\"287.646484\" xlink:href=\"#DejaVuSans-65\"/>\r\n       <use x=\"349.169922\" xlink:href=\"#DejaVuSans-72\"/>\r\n       <use x=\"390.283203\" xlink:href=\"#DejaVuSans-5f\"/>\r\n       <use x=\"440.283203\" xlink:href=\"#DejaVuSans-6f\"/>\r\n       <use x=\"501.464844\" xlink:href=\"#DejaVuSans-66\"/>\r\n       <use x=\"536.669922\" xlink:href=\"#DejaVuSans-5f\"/>\r\n       <use x=\"586.669922\" xlink:href=\"#DejaVuSans-76\"/>\r\n       <use x=\"645.849609\" xlink:href=\"#DejaVuSans-6f\"/>\r\n       <use x=\"707.03125\" xlink:href=\"#DejaVuSans-74\"/>\r\n       <use x=\"746.240234\" xlink:href=\"#DejaVuSans-65\"/>\r\n       <use x=\"807.763672\" xlink:href=\"#DejaVuSans-73\"/>\r\n      </g>\r\n     </g>\r\n    </g>\r\n    <g id=\"ytick_4\">\r\n     <g id=\"line2d_9\">\r\n      <g>\r\n       <use style=\"stroke:#000000;stroke-width:0.8;\" x=\"100.1875\" xlink:href=\"#mb4f4685dff\" y=\"174.526125\"/>\r\n      </g>\r\n     </g>\r\n     <g id=\"text_9\">\r\n      <!-- imdbRating -->\r\n      <g transform=\"translate(35.735937 178.325344)scale(0.1 -0.1)\">\r\n       <use xlink:href=\"#DejaVuSans-69\"/>\r\n       <use x=\"27.783203\" xlink:href=\"#DejaVuSans-6d\"/>\r\n       <use x=\"125.195312\" xlink:href=\"#DejaVuSans-64\"/>\r\n       <use x=\"188.671875\" xlink:href=\"#DejaVuSans-62\"/>\r\n       <use x=\"252.148438\" xlink:href=\"#DejaVuSans-52\"/>\r\n       <use x=\"319.380859\" xlink:href=\"#DejaVuSans-61\"/>\r\n       <use x=\"380.660156\" xlink:href=\"#DejaVuSans-74\"/>\r\n       <use x=\"419.869141\" xlink:href=\"#DejaVuSans-69\"/>\r\n       <use x=\"447.652344\" xlink:href=\"#DejaVuSans-6e\"/>\r\n       <use x=\"511.03125\" xlink:href=\"#DejaVuSans-67\"/>\r\n      </g>\r\n     </g>\r\n    </g>\r\n    <g id=\"ytick_5\">\r\n     <g id=\"line2d_10\">\r\n      <g>\r\n       <use style=\"stroke:#000000;stroke-width:0.8;\" x=\"100.1875\" xlink:href=\"#mb4f4685dff\" y=\"218.014125\"/>\r\n      </g>\r\n     </g>\r\n     <g id=\"text_10\">\r\n      <!-- Metascore -->\r\n      <g transform=\"translate(41.492188 221.813344)scale(0.1 -0.1)\">\r\n       <use xlink:href=\"#DejaVuSans-4d\"/>\r\n       <use x=\"86.279297\" xlink:href=\"#DejaVuSans-65\"/>\r\n       <use x=\"147.802734\" xlink:href=\"#DejaVuSans-74\"/>\r\n       <use x=\"187.011719\" xlink:href=\"#DejaVuSans-61\"/>\r\n       <use x=\"248.291016\" xlink:href=\"#DejaVuSans-73\"/>\r\n       <use x=\"300.390625\" xlink:href=\"#DejaVuSans-63\"/>\r\n       <use x=\"355.371094\" xlink:href=\"#DejaVuSans-6f\"/>\r\n       <use x=\"416.552734\" xlink:href=\"#DejaVuSans-72\"/>\r\n       <use x=\"455.416016\" xlink:href=\"#DejaVuSans-65\"/>\r\n      </g>\r\n     </g>\r\n    </g>\r\n   </g>\r\n   <g id=\"text_11\">\r\n    <!-- 1 -->\r\n    <g style=\"fill:#262626;\" transform=\"translate(123.79025 46.8215)scale(0.1 -0.1)\">\r\n     <defs>\r\n      <path d=\"M 794 531 \r\nL 1825 531 \r\nL 1825 4091 \r\nL 703 3866 \r\nL 703 4441 \r\nL 1819 4666 \r\nL 2450 4666 \r\nL 2450 531 \r\nL 3481 531 \r\nL 3481 0 \r\nL 794 0 \r\nL 794 531 \r\nz\r\n\" id=\"DejaVuSans-31\" transform=\"scale(0.015625)\"/>\r\n     </defs>\r\n     <use xlink:href=\"#DejaVuSans-31\"/>\r\n    </g>\r\n   </g>\r\n   <g id=\"text_12\">\r\n    <!-- 0.013 -->\r\n    <g style=\"fill:#ffffff;\" transform=\"translate(166.225438 46.8215)scale(0.1 -0.1)\">\r\n     <defs>\r\n      <path d=\"M 2034 4250 \r\nQ 1547 4250 1301 3770 \r\nQ 1056 3291 1056 2328 \r\nQ 1056 1369 1301 889 \r\nQ 1547 409 2034 409 \r\nQ 2525 409 2770 889 \r\nQ 3016 1369 3016 2328 \r\nQ 3016 3291 2770 3770 \r\nQ 2525 4250 2034 4250 \r\nz\r\nM 2034 4750 \r\nQ 2819 4750 3233 4129 \r\nQ 3647 3509 3647 2328 \r\nQ 3647 1150 3233 529 \r\nQ 2819 -91 2034 -91 \r\nQ 1250 -91 836 529 \r\nQ 422 1150 422 2328 \r\nQ 422 3509 836 4129 \r\nQ 1250 4750 2034 4750 \r\nz\r\n\" id=\"DejaVuSans-30\" transform=\"scale(0.015625)\"/>\r\n      <path d=\"M 684 794 \r\nL 1344 794 \r\nL 1344 0 \r\nL 684 0 \r\nL 684 794 \r\nz\r\n\" id=\"DejaVuSans-2e\" transform=\"scale(0.015625)\"/>\r\n      <path d=\"M 2597 2516 \r\nQ 3050 2419 3304 2112 \r\nQ 3559 1806 3559 1356 \r\nQ 3559 666 3084 287 \r\nQ 2609 -91 1734 -91 \r\nQ 1441 -91 1130 -33 \r\nQ 819 25 488 141 \r\nL 488 750 \r\nQ 750 597 1062 519 \r\nQ 1375 441 1716 441 \r\nQ 2309 441 2620 675 \r\nQ 2931 909 2931 1356 \r\nQ 2931 1769 2642 2001 \r\nQ 2353 2234 1838 2234 \r\nL 1294 2234 \r\nL 1294 2753 \r\nL 1863 2753 \r\nQ 2328 2753 2575 2939 \r\nQ 2822 3125 2822 3475 \r\nQ 2822 3834 2567 4026 \r\nQ 2313 4219 1838 4219 \r\nQ 1578 4219 1281 4162 \r\nQ 984 4106 628 3988 \r\nL 628 4550 \r\nQ 988 4650 1302 4700 \r\nQ 1616 4750 1894 4750 \r\nQ 2613 4750 3031 4423 \r\nQ 3450 4097 3450 3541 \r\nQ 3450 3153 3228 2886 \r\nQ 3006 2619 2597 2516 \r\nz\r\n\" id=\"DejaVuSans-33\" transform=\"scale(0.015625)\"/>\r\n     </defs>\r\n     <use xlink:href=\"#DejaVuSans-30\"/>\r\n     <use x=\"63.623047\" xlink:href=\"#DejaVuSans-2e\"/>\r\n     <use x=\"95.410156\" xlink:href=\"#DejaVuSans-30\"/>\r\n     <use x=\"159.033203\" xlink:href=\"#DejaVuSans-31\"/>\r\n     <use x=\"222.65625\" xlink:href=\"#DejaVuSans-33\"/>\r\n    </g>\r\n   </g>\r\n   <g id=\"text_13\">\r\n    <!-- 0.014 -->\r\n    <g style=\"fill:#ffffff;\" transform=\"translate(219.793438 46.8215)scale(0.1 -0.1)\">\r\n     <defs>\r\n      <path d=\"M 2419 4116 \r\nL 825 1625 \r\nL 2419 1625 \r\nL 2419 4116 \r\nz\r\nM 2253 4666 \r\nL 3047 4666 \r\nL 3047 1625 \r\nL 3713 1625 \r\nL 3713 1100 \r\nL 3047 1100 \r\nL 3047 0 \r\nL 2419 0 \r\nL 2419 1100 \r\nL 313 1100 \r\nL 313 1709 \r\nL 2253 4666 \r\nz\r\n\" id=\"DejaVuSans-34\" transform=\"scale(0.015625)\"/>\r\n     </defs>\r\n     <use xlink:href=\"#DejaVuSans-30\"/>\r\n     <use x=\"63.623047\" xlink:href=\"#DejaVuSans-2e\"/>\r\n     <use x=\"95.410156\" xlink:href=\"#DejaVuSans-30\"/>\r\n     <use x=\"159.033203\" xlink:href=\"#DejaVuSans-31\"/>\r\n     <use x=\"222.65625\" xlink:href=\"#DejaVuSans-34\"/>\r\n    </g>\r\n   </g>\r\n   <g id=\"text_14\">\r\n    <!-- 0.004 -->\r\n    <g style=\"fill:#ffffff;\" transform=\"translate(273.361438 46.8215)scale(0.1 -0.1)\">\r\n     <use xlink:href=\"#DejaVuSans-30\"/>\r\n     <use x=\"63.623047\" xlink:href=\"#DejaVuSans-2e\"/>\r\n     <use x=\"95.410156\" xlink:href=\"#DejaVuSans-30\"/>\r\n     <use x=\"159.033203\" xlink:href=\"#DejaVuSans-30\"/>\r\n     <use x=\"222.65625\" xlink:href=\"#DejaVuSans-34\"/>\r\n    </g>\r\n   </g>\r\n   <g id=\"text_15\">\r\n    <!-- 0.053 -->\r\n    <g style=\"fill:#ffffff;\" transform=\"translate(326.929438 46.8215)scale(0.1 -0.1)\">\r\n     <defs>\r\n      <path d=\"M 691 4666 \r\nL 3169 4666 \r\nL 3169 4134 \r\nL 1269 4134 \r\nL 1269 2991 \r\nQ 1406 3038 1543 3061 \r\nQ 1681 3084 1819 3084 \r\nQ 2600 3084 3056 2656 \r\nQ 3513 2228 3513 1497 \r\nQ 3513 744 3044 326 \r\nQ 2575 -91 1722 -91 \r\nQ 1428 -91 1123 -41 \r\nQ 819 9 494 109 \r\nL 494 744 \r\nQ 775 591 1075 516 \r\nQ 1375 441 1709 441 \r\nQ 2250 441 2565 725 \r\nQ 2881 1009 2881 1497 \r\nQ 2881 1984 2565 2268 \r\nQ 2250 2553 1709 2553 \r\nQ 1456 2553 1204 2497 \r\nQ 953 2441 691 2322 \r\nL 691 4666 \r\nz\r\n\" id=\"DejaVuSans-35\" transform=\"scale(0.015625)\"/>\r\n     </defs>\r\n     <use xlink:href=\"#DejaVuSans-30\"/>\r\n     <use x=\"63.623047\" xlink:href=\"#DejaVuSans-2e\"/>\r\n     <use x=\"95.410156\" xlink:href=\"#DejaVuSans-30\"/>\r\n     <use x=\"159.033203\" xlink:href=\"#DejaVuSans-35\"/>\r\n     <use x=\"222.65625\" xlink:href=\"#DejaVuSans-33\"/>\r\n    </g>\r\n   </g>\r\n   <g id=\"text_16\">\r\n    <!-- 0.013 -->\r\n    <g style=\"fill:#ffffff;\" transform=\"translate(112.657438 90.3095)scale(0.1 -0.1)\">\r\n     <use xlink:href=\"#DejaVuSans-30\"/>\r\n     <use x=\"63.623047\" xlink:href=\"#DejaVuSans-2e\"/>\r\n     <use x=\"95.410156\" xlink:href=\"#DejaVuSans-30\"/>\r\n     <use x=\"159.033203\" xlink:href=\"#DejaVuSans-31\"/>\r\n     <use x=\"222.65625\" xlink:href=\"#DejaVuSans-33\"/>\r\n    </g>\r\n   </g>\r\n   <g id=\"text_17\">\r\n    <!-- 1 -->\r\n    <g style=\"fill:#262626;\" transform=\"translate(177.35825 90.3095)scale(0.1 -0.1)\">\r\n     <use xlink:href=\"#DejaVuSans-31\"/>\r\n    </g>\r\n   </g>\r\n   <g id=\"text_18\">\r\n    <!-- 0.32 -->\r\n    <g style=\"fill:#ffffff;\" transform=\"translate(222.974688 90.3095)scale(0.1 -0.1)\">\r\n     <defs>\r\n      <path d=\"M 1228 531 \r\nL 3431 531 \r\nL 3431 0 \r\nL 469 0 \r\nL 469 531 \r\nQ 828 903 1448 1529 \r\nQ 2069 2156 2228 2338 \r\nQ 2531 2678 2651 2914 \r\nQ 2772 3150 2772 3378 \r\nQ 2772 3750 2511 3984 \r\nQ 2250 4219 1831 4219 \r\nQ 1534 4219 1204 4116 \r\nQ 875 4013 500 3803 \r\nL 500 4441 \r\nQ 881 4594 1212 4672 \r\nQ 1544 4750 1819 4750 \r\nQ 2544 4750 2975 4387 \r\nQ 3406 4025 3406 3419 \r\nQ 3406 3131 3298 2873 \r\nQ 3191 2616 2906 2266 \r\nQ 2828 2175 2409 1742 \r\nQ 1991 1309 1228 531 \r\nz\r\n\" id=\"DejaVuSans-32\" transform=\"scale(0.015625)\"/>\r\n     </defs>\r\n     <use xlink:href=\"#DejaVuSans-30\"/>\r\n     <use x=\"63.623047\" xlink:href=\"#DejaVuSans-2e\"/>\r\n     <use x=\"95.410156\" xlink:href=\"#DejaVuSans-33\"/>\r\n     <use x=\"159.033203\" xlink:href=\"#DejaVuSans-32\"/>\r\n    </g>\r\n   </g>\r\n   <g id=\"text_19\">\r\n    <!-- 0.69 -->\r\n    <g style=\"fill:#ffffff;\" transform=\"translate(276.542688 90.3095)scale(0.1 -0.1)\">\r\n     <defs>\r\n      <path d=\"M 2113 2584 \r\nQ 1688 2584 1439 2293 \r\nQ 1191 2003 1191 1497 \r\nQ 1191 994 1439 701 \r\nQ 1688 409 2113 409 \r\nQ 2538 409 2786 701 \r\nQ 3034 994 3034 1497 \r\nQ 3034 2003 2786 2293 \r\nQ 2538 2584 2113 2584 \r\nz\r\nM 3366 4563 \r\nL 3366 3988 \r\nQ 3128 4100 2886 4159 \r\nQ 2644 4219 2406 4219 \r\nQ 1781 4219 1451 3797 \r\nQ 1122 3375 1075 2522 \r\nQ 1259 2794 1537 2939 \r\nQ 1816 3084 2150 3084 \r\nQ 2853 3084 3261 2657 \r\nQ 3669 2231 3669 1497 \r\nQ 3669 778 3244 343 \r\nQ 2819 -91 2113 -91 \r\nQ 1303 -91 875 529 \r\nQ 447 1150 447 2328 \r\nQ 447 3434 972 4092 \r\nQ 1497 4750 2381 4750 \r\nQ 2619 4750 2861 4703 \r\nQ 3103 4656 3366 4563 \r\nz\r\n\" id=\"DejaVuSans-36\" transform=\"scale(0.015625)\"/>\r\n      <path d=\"M 703 97 \r\nL 703 672 \r\nQ 941 559 1184 500 \r\nQ 1428 441 1663 441 \r\nQ 2288 441 2617 861 \r\nQ 2947 1281 2994 2138 \r\nQ 2813 1869 2534 1725 \r\nQ 2256 1581 1919 1581 \r\nQ 1219 1581 811 2004 \r\nQ 403 2428 403 3163 \r\nQ 403 3881 828 4315 \r\nQ 1253 4750 1959 4750 \r\nQ 2769 4750 3195 4129 \r\nQ 3622 3509 3622 2328 \r\nQ 3622 1225 3098 567 \r\nQ 2575 -91 1691 -91 \r\nQ 1453 -91 1209 -44 \r\nQ 966 3 703 97 \r\nz\r\nM 1959 2075 \r\nQ 2384 2075 2632 2365 \r\nQ 2881 2656 2881 3163 \r\nQ 2881 3666 2632 3958 \r\nQ 2384 4250 1959 4250 \r\nQ 1534 4250 1286 3958 \r\nQ 1038 3666 1038 3163 \r\nQ 1038 2656 1286 2365 \r\nQ 1534 2075 1959 2075 \r\nz\r\n\" id=\"DejaVuSans-39\" transform=\"scale(0.015625)\"/>\r\n     </defs>\r\n     <use xlink:href=\"#DejaVuSans-30\"/>\r\n     <use x=\"63.623047\" xlink:href=\"#DejaVuSans-2e\"/>\r\n     <use x=\"95.410156\" xlink:href=\"#DejaVuSans-36\"/>\r\n     <use x=\"159.033203\" xlink:href=\"#DejaVuSans-39\"/>\r\n    </g>\r\n   </g>\r\n   <g id=\"text_20\">\r\n    <!-- 0.5 -->\r\n    <g style=\"fill:#ffffff;\" transform=\"translate(333.291938 90.3095)scale(0.1 -0.1)\">\r\n     <use xlink:href=\"#DejaVuSans-30\"/>\r\n     <use x=\"63.623047\" xlink:href=\"#DejaVuSans-2e\"/>\r\n     <use x=\"95.410156\" xlink:href=\"#DejaVuSans-35\"/>\r\n    </g>\r\n   </g>\r\n   <g id=\"text_21\">\r\n    <!-- 0.014 -->\r\n    <g style=\"fill:#ffffff;\" transform=\"translate(112.657438 133.7975)scale(0.1 -0.1)\">\r\n     <use xlink:href=\"#DejaVuSans-30\"/>\r\n     <use x=\"63.623047\" xlink:href=\"#DejaVuSans-2e\"/>\r\n     <use x=\"95.410156\" xlink:href=\"#DejaVuSans-30\"/>\r\n     <use x=\"159.033203\" xlink:href=\"#DejaVuSans-31\"/>\r\n     <use x=\"222.65625\" xlink:href=\"#DejaVuSans-34\"/>\r\n    </g>\r\n   </g>\r\n   <g id=\"text_22\">\r\n    <!-- 0.32 -->\r\n    <g style=\"fill:#ffffff;\" transform=\"translate(169.406688 133.7975)scale(0.1 -0.1)\">\r\n     <use xlink:href=\"#DejaVuSans-30\"/>\r\n     <use x=\"63.623047\" xlink:href=\"#DejaVuSans-2e\"/>\r\n     <use x=\"95.410156\" xlink:href=\"#DejaVuSans-33\"/>\r\n     <use x=\"159.033203\" xlink:href=\"#DejaVuSans-32\"/>\r\n    </g>\r\n   </g>\r\n   <g id=\"text_23\">\r\n    <!-- 1 -->\r\n    <g style=\"fill:#262626;\" transform=\"translate(230.92625 133.7975)scale(0.1 -0.1)\">\r\n     <use xlink:href=\"#DejaVuSans-31\"/>\r\n    </g>\r\n   </g>\r\n   <g id=\"text_24\">\r\n    <!-- 0.19 -->\r\n    <g style=\"fill:#ffffff;\" transform=\"translate(276.542688 133.7975)scale(0.1 -0.1)\">\r\n     <use xlink:href=\"#DejaVuSans-30\"/>\r\n     <use x=\"63.623047\" xlink:href=\"#DejaVuSans-2e\"/>\r\n     <use x=\"95.410156\" xlink:href=\"#DejaVuSans-31\"/>\r\n     <use x=\"159.033203\" xlink:href=\"#DejaVuSans-39\"/>\r\n    </g>\r\n   </g>\r\n   <g id=\"text_25\">\r\n    <!-- 0.098 -->\r\n    <g style=\"fill:#ffffff;\" transform=\"translate(326.929438 133.7975)scale(0.1 -0.1)\">\r\n     <defs>\r\n      <path d=\"M 2034 2216 \r\nQ 1584 2216 1326 1975 \r\nQ 1069 1734 1069 1313 \r\nQ 1069 891 1326 650 \r\nQ 1584 409 2034 409 \r\nQ 2484 409 2743 651 \r\nQ 3003 894 3003 1313 \r\nQ 3003 1734 2745 1975 \r\nQ 2488 2216 2034 2216 \r\nz\r\nM 1403 2484 \r\nQ 997 2584 770 2862 \r\nQ 544 3141 544 3541 \r\nQ 544 4100 942 4425 \r\nQ 1341 4750 2034 4750 \r\nQ 2731 4750 3128 4425 \r\nQ 3525 4100 3525 3541 \r\nQ 3525 3141 3298 2862 \r\nQ 3072 2584 2669 2484 \r\nQ 3125 2378 3379 2068 \r\nQ 3634 1759 3634 1313 \r\nQ 3634 634 3220 271 \r\nQ 2806 -91 2034 -91 \r\nQ 1263 -91 848 271 \r\nQ 434 634 434 1313 \r\nQ 434 1759 690 2068 \r\nQ 947 2378 1403 2484 \r\nz\r\nM 1172 3481 \r\nQ 1172 3119 1398 2916 \r\nQ 1625 2713 2034 2713 \r\nQ 2441 2713 2670 2916 \r\nQ 2900 3119 2900 3481 \r\nQ 2900 3844 2670 4047 \r\nQ 2441 4250 2034 4250 \r\nQ 1625 4250 1398 4047 \r\nQ 1172 3844 1172 3481 \r\nz\r\n\" id=\"DejaVuSans-38\" transform=\"scale(0.015625)\"/>\r\n     </defs>\r\n     <use xlink:href=\"#DejaVuSans-30\"/>\r\n     <use x=\"63.623047\" xlink:href=\"#DejaVuSans-2e\"/>\r\n     <use x=\"95.410156\" xlink:href=\"#DejaVuSans-30\"/>\r\n     <use x=\"159.033203\" xlink:href=\"#DejaVuSans-39\"/>\r\n     <use x=\"222.65625\" xlink:href=\"#DejaVuSans-38\"/>\r\n    </g>\r\n   </g>\r\n   <g id=\"text_26\">\r\n    <!-- 0.004 -->\r\n    <g style=\"fill:#ffffff;\" transform=\"translate(112.657438 177.2855)scale(0.1 -0.1)\">\r\n     <use xlink:href=\"#DejaVuSans-30\"/>\r\n     <use x=\"63.623047\" xlink:href=\"#DejaVuSans-2e\"/>\r\n     <use x=\"95.410156\" xlink:href=\"#DejaVuSans-30\"/>\r\n     <use x=\"159.033203\" xlink:href=\"#DejaVuSans-30\"/>\r\n     <use x=\"222.65625\" xlink:href=\"#DejaVuSans-34\"/>\r\n    </g>\r\n   </g>\r\n   <g id=\"text_27\">\r\n    <!-- 0.69 -->\r\n    <g style=\"fill:#ffffff;\" transform=\"translate(169.406688 177.2855)scale(0.1 -0.1)\">\r\n     <use xlink:href=\"#DejaVuSans-30\"/>\r\n     <use x=\"63.623047\" xlink:href=\"#DejaVuSans-2e\"/>\r\n     <use x=\"95.410156\" xlink:href=\"#DejaVuSans-36\"/>\r\n     <use x=\"159.033203\" xlink:href=\"#DejaVuSans-39\"/>\r\n    </g>\r\n   </g>\r\n   <g id=\"text_28\">\r\n    <!-- 0.19 -->\r\n    <g style=\"fill:#ffffff;\" transform=\"translate(222.974688 177.2855)scale(0.1 -0.1)\">\r\n     <use xlink:href=\"#DejaVuSans-30\"/>\r\n     <use x=\"63.623047\" xlink:href=\"#DejaVuSans-2e\"/>\r\n     <use x=\"95.410156\" xlink:href=\"#DejaVuSans-31\"/>\r\n     <use x=\"159.033203\" xlink:href=\"#DejaVuSans-39\"/>\r\n    </g>\r\n   </g>\r\n   <g id=\"text_29\">\r\n    <!-- 1 -->\r\n    <g style=\"fill:#262626;\" transform=\"translate(284.49425 177.2855)scale(0.1 -0.1)\">\r\n     <use xlink:href=\"#DejaVuSans-31\"/>\r\n    </g>\r\n   </g>\r\n   <g id=\"text_30\">\r\n    <!-- 0.76 -->\r\n    <g style=\"fill:#ffffff;\" transform=\"translate(330.110688 177.2855)scale(0.1 -0.1)\">\r\n     <defs>\r\n      <path d=\"M 525 4666 \r\nL 3525 4666 \r\nL 3525 4397 \r\nL 1831 0 \r\nL 1172 0 \r\nL 2766 4134 \r\nL 525 4134 \r\nL 525 4666 \r\nz\r\n\" id=\"DejaVuSans-37\" transform=\"scale(0.015625)\"/>\r\n     </defs>\r\n     <use xlink:href=\"#DejaVuSans-30\"/>\r\n     <use x=\"63.623047\" xlink:href=\"#DejaVuSans-2e\"/>\r\n     <use x=\"95.410156\" xlink:href=\"#DejaVuSans-37\"/>\r\n     <use x=\"159.033203\" xlink:href=\"#DejaVuSans-36\"/>\r\n    </g>\r\n   </g>\r\n   <g id=\"text_31\">\r\n    <!-- 0.053 -->\r\n    <g style=\"fill:#ffffff;\" transform=\"translate(112.657438 220.7735)scale(0.1 -0.1)\">\r\n     <use xlink:href=\"#DejaVuSans-30\"/>\r\n     <use x=\"63.623047\" xlink:href=\"#DejaVuSans-2e\"/>\r\n     <use x=\"95.410156\" xlink:href=\"#DejaVuSans-30\"/>\r\n     <use x=\"159.033203\" xlink:href=\"#DejaVuSans-35\"/>\r\n     <use x=\"222.65625\" xlink:href=\"#DejaVuSans-33\"/>\r\n    </g>\r\n   </g>\r\n   <g id=\"text_32\">\r\n    <!-- 0.5 -->\r\n    <g style=\"fill:#ffffff;\" transform=\"translate(172.587938 220.7735)scale(0.1 -0.1)\">\r\n     <use xlink:href=\"#DejaVuSans-30\"/>\r\n     <use x=\"63.623047\" xlink:href=\"#DejaVuSans-2e\"/>\r\n     <use x=\"95.410156\" xlink:href=\"#DejaVuSans-35\"/>\r\n    </g>\r\n   </g>\r\n   <g id=\"text_33\">\r\n    <!-- 0.098 -->\r\n    <g style=\"fill:#ffffff;\" transform=\"translate(219.793438 220.7735)scale(0.1 -0.1)\">\r\n     <use xlink:href=\"#DejaVuSans-30\"/>\r\n     <use x=\"63.623047\" xlink:href=\"#DejaVuSans-2e\"/>\r\n     <use x=\"95.410156\" xlink:href=\"#DejaVuSans-30\"/>\r\n     <use x=\"159.033203\" xlink:href=\"#DejaVuSans-39\"/>\r\n     <use x=\"222.65625\" xlink:href=\"#DejaVuSans-38\"/>\r\n    </g>\r\n   </g>\r\n   <g id=\"text_34\">\r\n    <!-- 0.76 -->\r\n    <g style=\"fill:#ffffff;\" transform=\"translate(276.542688 220.7735)scale(0.1 -0.1)\">\r\n     <use xlink:href=\"#DejaVuSans-30\"/>\r\n     <use x=\"63.623047\" xlink:href=\"#DejaVuSans-2e\"/>\r\n     <use x=\"95.410156\" xlink:href=\"#DejaVuSans-37\"/>\r\n     <use x=\"159.033203\" xlink:href=\"#DejaVuSans-36\"/>\r\n    </g>\r\n   </g>\r\n   <g id=\"text_35\">\r\n    <!-- 1 -->\r\n    <g style=\"fill:#262626;\" transform=\"translate(338.06225 220.7735)scale(0.1 -0.1)\">\r\n     <use xlink:href=\"#DejaVuSans-31\"/>\r\n    </g>\r\n   </g>\r\n   <g id=\"text_36\">\r\n    <!-- expanse Heatmap -->\r\n    <g transform=\"translate(179.393125 16.318125)scale(0.12 -0.12)\">\r\n     <defs>\r\n      <path d=\"M 1159 525 \r\nL 1159 -1331 \r\nL 581 -1331 \r\nL 581 3500 \r\nL 1159 3500 \r\nL 1159 2969 \r\nQ 1341 3281 1617 3432 \r\nQ 1894 3584 2278 3584 \r\nQ 2916 3584 3314 3078 \r\nQ 3713 2572 3713 1747 \r\nQ 3713 922 3314 415 \r\nQ 2916 -91 2278 -91 \r\nQ 1894 -91 1617 61 \r\nQ 1341 213 1159 525 \r\nz\r\nM 3116 1747 \r\nQ 3116 2381 2855 2742 \r\nQ 2594 3103 2138 3103 \r\nQ 1681 3103 1420 2742 \r\nQ 1159 2381 1159 1747 \r\nQ 1159 1113 1420 752 \r\nQ 1681 391 2138 391 \r\nQ 2594 391 2855 752 \r\nQ 3116 1113 3116 1747 \r\nz\r\n\" id=\"DejaVuSans-70\" transform=\"scale(0.015625)\"/>\r\n      <path id=\"DejaVuSans-20\" transform=\"scale(0.015625)\"/>\r\n      <path d=\"M 628 4666 \r\nL 1259 4666 \r\nL 1259 2753 \r\nL 3553 2753 \r\nL 3553 4666 \r\nL 4184 4666 \r\nL 4184 0 \r\nL 3553 0 \r\nL 3553 2222 \r\nL 1259 2222 \r\nL 1259 0 \r\nL 628 0 \r\nL 628 4666 \r\nz\r\n\" id=\"DejaVuSans-48\" transform=\"scale(0.015625)\"/>\r\n     </defs>\r\n     <use xlink:href=\"#DejaVuSans-65\"/>\r\n     <use x=\"59.773438\" xlink:href=\"#DejaVuSans-78\"/>\r\n     <use x=\"118.953125\" xlink:href=\"#DejaVuSans-70\"/>\r\n     <use x=\"182.429688\" xlink:href=\"#DejaVuSans-61\"/>\r\n     <use x=\"243.708984\" xlink:href=\"#DejaVuSans-6e\"/>\r\n     <use x=\"307.087891\" xlink:href=\"#DejaVuSans-73\"/>\r\n     <use x=\"359.1875\" xlink:href=\"#DejaVuSans-65\"/>\r\n     <use x=\"420.710938\" xlink:href=\"#DejaVuSans-20\"/>\r\n     <use x=\"452.498047\" xlink:href=\"#DejaVuSans-48\"/>\r\n     <use x=\"527.693359\" xlink:href=\"#DejaVuSans-65\"/>\r\n     <use x=\"589.216797\" xlink:href=\"#DejaVuSans-61\"/>\r\n     <use x=\"650.496094\" xlink:href=\"#DejaVuSans-74\"/>\r\n     <use x=\"689.705078\" xlink:href=\"#DejaVuSans-6d\"/>\r\n     <use x=\"787.117188\" xlink:href=\"#DejaVuSans-61\"/>\r\n     <use x=\"848.396484\" xlink:href=\"#DejaVuSans-70\"/>\r\n    </g>\r\n   </g>\r\n  </g>\r\n  <g id=\"axes_2\">\r\n   <g id=\"patch_3\">\r\n    <path d=\"M 384.7675 239.758125 \r\nL 395.6395 239.758125 \r\nL 395.6395 22.318125 \r\nL 384.7675 22.318125 \r\nz\r\n\" style=\"fill:#ffffff;\"/>\r\n   </g>\r\n   <g id=\"patch_4\">\r\n    <path clip-path=\"url(#p7d346b7a2f)\" d=\"M 384.7675 239.758125 \r\nL 384.7675 238.90875 \r\nL 384.7675 23.1675 \r\nL 384.7675 22.318125 \r\nL 395.6395 22.318125 \r\nL 395.6395 23.1675 \r\nL 395.6395 238.90875 \r\nL 395.6395 239.758125 \r\nL 395.6395 239.758125 \r\nz\r\n\" style=\"fill:#ffffff;stroke:#ffffff;stroke-linejoin:miter;stroke-width:0.01;\"/>\r\n   </g>\r\n   <image height=\"218\" id=\"image65445aff1a\" transform=\"scale(1 -1)translate(0 -218)\" width=\"11\" x=\"385\" xlink:href=\"data:image/png;base64,\r\niVBORw0KGgoAAAANSUhEUgAAAAsAAADaCAYAAABwzrisAAABZUlEQVR4nN3ay40CMRAE0G7bJEH+cTKk0O9QkoFzqVQ/e3YHer/eTw0/p6fIqjrdc7iBVy8Bi4wiGTGDImMvSCMnw+qOGcxpRmYphdL4xfHHmHf9+/ipbsqZDI6h0W3k0rCJjqHZmz9Xt2mefyznE2zwivFTdFR3bs+56JJ1gwyrOyYDTzcwBw2O/5fwNIg5droJLGmgwZSMYBoC3rEh3ZKGbWOODp5BS+MBzTj+VBpNzHNivutABmoWMPQdjG6vj8gA5tWSs4CJecFGVfMYmzTYZBCu/qjmMVZlkEGJzsC0DZMBzMk0QEbltkHgk2KG92RRZrihT8MTyGSUMOdkNDwJTbMZlFcWORnyZ6CWImB5x2g5i8FLNJd8+WLMm+qOybgkOkkjWIqlIV++BA0K2O46YhbwmT/pk5pzBm38lEZMRi4NMnhHKd2xA3tLGmIwVncw59xJsTReIRn0K4tbhmTb+DmDX11HLCc1FnG4AAAAAElFTkSuQmCC\" y=\"-21\"/>\r\n   <g id=\"matplotlib.axis_3\"/>\r\n   <g id=\"matplotlib.axis_4\">\r\n    <g id=\"ytick_6\">\r\n     <g id=\"line2d_11\">\r\n      <defs>\r\n       <path d=\"M 0 0 \r\nL 3.5 0 \r\n\" id=\"m012907b6b4\" style=\"stroke:#000000;stroke-width:0.8;\"/>\r\n      </defs>\r\n      <g>\r\n       <use style=\"stroke:#000000;stroke-width:0.8;\" x=\"395.6395\" xlink:href=\"#m012907b6b4\" y=\"196.974391\"/>\r\n      </g>\r\n     </g>\r\n     <g id=\"text_37\">\r\n      <!-- 0.2 -->\r\n      <g transform=\"translate(402.6395 200.77361)scale(0.1 -0.1)\">\r\n       <use xlink:href=\"#DejaVuSans-30\"/>\r\n       <use x=\"63.623047\" xlink:href=\"#DejaVuSans-2e\"/>\r\n       <use x=\"95.410156\" xlink:href=\"#DejaVuSans-32\"/>\r\n      </g>\r\n     </g>\r\n    </g>\r\n    <g id=\"ytick_7\">\r\n     <g id=\"line2d_12\">\r\n      <g>\r\n       <use style=\"stroke:#000000;stroke-width:0.8;\" x=\"395.6395\" xlink:href=\"#m012907b6b4\" y=\"153.310325\"/>\r\n      </g>\r\n     </g>\r\n     <g id=\"text_38\">\r\n      <!-- 0.4 -->\r\n      <g transform=\"translate(402.6395 157.109543)scale(0.1 -0.1)\">\r\n       <use xlink:href=\"#DejaVuSans-30\"/>\r\n       <use x=\"63.623047\" xlink:href=\"#DejaVuSans-2e\"/>\r\n       <use x=\"95.410156\" xlink:href=\"#DejaVuSans-34\"/>\r\n      </g>\r\n     </g>\r\n    </g>\r\n    <g id=\"ytick_8\">\r\n     <g id=\"line2d_13\">\r\n      <g>\r\n       <use style=\"stroke:#000000;stroke-width:0.8;\" x=\"395.6395\" xlink:href=\"#m012907b6b4\" y=\"109.646258\"/>\r\n      </g>\r\n     </g>\r\n     <g id=\"text_39\">\r\n      <!-- 0.6 -->\r\n      <g transform=\"translate(402.6395 113.445477)scale(0.1 -0.1)\">\r\n       <use xlink:href=\"#DejaVuSans-30\"/>\r\n       <use x=\"63.623047\" xlink:href=\"#DejaVuSans-2e\"/>\r\n       <use x=\"95.410156\" xlink:href=\"#DejaVuSans-36\"/>\r\n      </g>\r\n     </g>\r\n    </g>\r\n    <g id=\"ytick_9\">\r\n     <g id=\"line2d_14\">\r\n      <g>\r\n       <use style=\"stroke:#000000;stroke-width:0.8;\" x=\"395.6395\" xlink:href=\"#m012907b6b4\" y=\"65.982192\"/>\r\n      </g>\r\n     </g>\r\n     <g id=\"text_40\">\r\n      <!-- 0.8 -->\r\n      <g transform=\"translate(402.6395 69.78141)scale(0.1 -0.1)\">\r\n       <use xlink:href=\"#DejaVuSans-30\"/>\r\n       <use x=\"63.623047\" xlink:href=\"#DejaVuSans-2e\"/>\r\n       <use x=\"95.410156\" xlink:href=\"#DejaVuSans-38\"/>\r\n      </g>\r\n     </g>\r\n    </g>\r\n    <g id=\"ytick_10\">\r\n     <g id=\"line2d_15\">\r\n      <g>\r\n       <use style=\"stroke:#000000;stroke-width:0.8;\" x=\"395.6395\" xlink:href=\"#m012907b6b4\" y=\"22.318125\"/>\r\n      </g>\r\n     </g>\r\n     <g id=\"text_41\">\r\n      <!-- 1.0 -->\r\n      <g transform=\"translate(402.6395 26.117344)scale(0.1 -0.1)\">\r\n       <use xlink:href=\"#DejaVuSans-31\"/>\r\n       <use x=\"63.623047\" xlink:href=\"#DejaVuSans-2e\"/>\r\n       <use x=\"95.410156\" xlink:href=\"#DejaVuSans-30\"/>\r\n      </g>\r\n     </g>\r\n    </g>\r\n   </g>\r\n   <g id=\"LineCollection_1\"/>\r\n   <g id=\"patch_5\">\r\n    <path d=\"M 384.7675 239.758125 \r\nL 384.7675 238.90875 \r\nL 384.7675 23.1675 \r\nL 384.7675 22.318125 \r\nL 395.6395 22.318125 \r\nL 395.6395 23.1675 \r\nL 395.6395 238.90875 \r\nL 395.6395 239.758125 \r\nz\r\n\" style=\"fill:none;\"/>\r\n   </g>\r\n  </g>\r\n </g>\r\n <defs>\r\n  <clipPath id=\"p44931324f2\">\r\n   <rect height=\"217.44\" width=\"267.84\" x=\"100.1875\" y=\"22.318125\"/>\r\n  </clipPath>\r\n  <clipPath id=\"p7d346b7a2f\">\r\n   <rect height=\"217.44\" width=\"10.872\" x=\"384.7675\" y=\"22.318125\"/>\r\n  </clipPath>\r\n </defs>\r\n</svg>\r\n",
      "image/png": "[encoded data removed]"
     },
     "metadata": {
      "needs_background": "light"
     }
    }
   ],
   "source": [
    "viz.heatmap(data='expanse')"
   ]
  },
  {
   "source": [
    "### 5.6 WORD STATS Heatmap"
   ],
   "cell_type": "markdown",
   "metadata": {}
  },
  {
   "cell_type": "code",
   "execution_count": 17,
   "metadata": {},
   "outputs": [
    {
     "output_type": "display_data",
     "data": {
      "text/plain": "<Figure size 432x288 with 2 Axes>",
      "image/svg+xml": "<?xml version=\"1.0\" encoding=\"utf-8\" standalone=\"no\"?>\r\n<!DOCTYPE svg PUBLIC \"-//W3C//DTD SVG 1.1//EN\"\r\n  \"http://www.w3.org/Graphics/SVG/1.1/DTD/svg11.dtd\">\r\n<svg height=\"333.925313pt\" version=\"1.1\" viewBox=\"0 0 428.102 333.925313\" width=\"428.102pt\" xmlns=\"http://www.w3.org/2000/svg\" xmlns:xlink=\"http://www.w3.org/1999/xlink\">\r\n <metadata>\r\n  <rdf:RDF xmlns:cc=\"http://creativecommons.org/ns#\" xmlns:dc=\"http://purl.org/dc/elements/1.1/\" xmlns:rdf=\"http://www.w3.org/1999/02/22-rdf-syntax-ns#\">\r\n   <cc:Work>\r\n    <dc:type rdf:resource=\"http://purl.org/dc/dcmitype/StillImage\"/>\r\n    <dc:date>2021-06-01T15:26:15.310835</dc:date>\r\n    <dc:format>image/svg+xml</dc:format>\r\n    <dc:creator>\r\n     <cc:Agent>\r\n      <dc:title>Matplotlib v3.4.1, https://matplotlib.org/</dc:title>\r\n     </cc:Agent>\r\n    </dc:creator>\r\n   </cc:Work>\r\n  </rdf:RDF>\r\n </metadata>\r\n <defs>\r\n  <style type=\"text/css\">*{stroke-linecap:butt;stroke-linejoin:round;}</style>\r\n </defs>\r\n <g id=\"figure_1\">\r\n  <g id=\"patch_1\">\r\n   <path d=\"M 0 333.925313 \r\nL 428.102 333.925313 \r\nL 428.102 0 \r\nL 0 0 \r\nz\r\n\" style=\"fill:none;\"/>\r\n  </g>\r\n  <g id=\"axes_1\">\r\n   <g id=\"patch_2\">\r\n    <path d=\"M 94.167188 239.758125 \r\nL 362.007188 239.758125 \r\nL 362.007188 22.318125 \r\nL 94.167188 22.318125 \r\nz\r\n\" style=\"fill:#ffffff;\"/>\r\n   </g>\r\n   <g id=\"QuadMesh_1\">\r\n    <path clip-path=\"url(#pd1c65a2f90)\" d=\"M 94.167188 22.318125 \r\nL 161.127188 22.318125 \r\nL 161.127188 76.678125 \r\nL 94.167188 76.678125 \r\nL 94.167188 22.318125 \r\n\" style=\"fill:#faebdd;\"/>\r\n    <path clip-path=\"url(#pd1c65a2f90)\" d=\"M 161.127188 22.318125 \r\nL 228.087188 22.318125 \r\nL 228.087188 76.678125 \r\nL 161.127188 76.678125 \r\nL 161.127188 22.318125 \r\n\" style=\"fill:#faebdd;\"/>\r\n    <path clip-path=\"url(#pd1c65a2f90)\" d=\"M 228.087188 22.318125 \r\nL 295.047188 22.318125 \r\nL 295.047188 76.678125 \r\nL 228.087188 76.678125 \r\nL 228.087188 22.318125 \r\n\" style=\"fill:#af1759;\"/>\r\n    <path clip-path=\"url(#pd1c65a2f90)\" d=\"M 295.047188 22.318125 \r\nL 362.007188 22.318125 \r\nL 362.007188 76.678125 \r\nL 295.047188 76.678125 \r\nL 295.047188 22.318125 \r\n\" style=\"fill:#04051a;\"/>\r\n    <path clip-path=\"url(#pd1c65a2f90)\" d=\"M 94.167188 76.678125 \r\nL 161.127188 76.678125 \r\nL 161.127188 131.038125 \r\nL 94.167188 131.038125 \r\nL 94.167188 76.678125 \r\n\" style=\"fill:#faebdd;\"/>\r\n    <path clip-path=\"url(#pd1c65a2f90)\" d=\"M 161.127188 76.678125 \r\nL 228.087188 76.678125 \r\nL 228.087188 131.038125 \r\nL 161.127188 131.038125 \r\nL 161.127188 76.678125 \r\n\" style=\"fill:#faebdd;\"/>\r\n    <path clip-path=\"url(#pd1c65a2f90)\" d=\"M 228.087188 76.678125 \r\nL 295.047188 76.678125 \r\nL 295.047188 131.038125 \r\nL 228.087188 131.038125 \r\nL 228.087188 76.678125 \r\n\" style=\"fill:#a8185a;\"/>\r\n    <path clip-path=\"url(#pd1c65a2f90)\" d=\"M 295.047188 76.678125 \r\nL 362.007188 76.678125 \r\nL 362.007188 131.038125 \r\nL 295.047188 131.038125 \r\nL 295.047188 76.678125 \r\n\" style=\"fill:#03051a;\"/>\r\n    <path clip-path=\"url(#pd1c65a2f90)\" d=\"M 94.167188 131.038125 \r\nL 161.127188 131.038125 \r\nL 161.127188 185.398125 \r\nL 94.167188 185.398125 \r\nL 94.167188 131.038125 \r\n\" style=\"fill:#af1759;\"/>\r\n    <path clip-path=\"url(#pd1c65a2f90)\" d=\"M 161.127188 131.038125 \r\nL 228.087188 131.038125 \r\nL 228.087188 185.398125 \r\nL 161.127188 185.398125 \r\nL 161.127188 131.038125 \r\n\" style=\"fill:#a8185a;\"/>\r\n    <path clip-path=\"url(#pd1c65a2f90)\" d=\"M 228.087188 131.038125 \r\nL 295.047188 131.038125 \r\nL 295.047188 185.398125 \r\nL 228.087188 185.398125 \r\nL 228.087188 131.038125 \r\n\" style=\"fill:#faebdd;\"/>\r\n    <path clip-path=\"url(#pd1c65a2f90)\" d=\"M 295.047188 131.038125 \r\nL 362.007188 131.038125 \r\nL 362.007188 185.398125 \r\nL 295.047188 185.398125 \r\nL 295.047188 131.038125 \r\n\" style=\"fill:#781f59;\"/>\r\n    <path clip-path=\"url(#pd1c65a2f90)\" d=\"M 94.167188 185.398125 \r\nL 161.127188 185.398125 \r\nL 161.127188 239.758125 \r\nL 94.167188 239.758125 \r\nL 94.167188 185.398125 \r\n\" style=\"fill:#04051a;\"/>\r\n    <path clip-path=\"url(#pd1c65a2f90)\" d=\"M 161.127188 185.398125 \r\nL 228.087188 185.398125 \r\nL 228.087188 239.758125 \r\nL 161.127188 239.758125 \r\nL 161.127188 185.398125 \r\n\" style=\"fill:#03051a;\"/>\r\n    <path clip-path=\"url(#pd1c65a2f90)\" d=\"M 228.087188 185.398125 \r\nL 295.047188 185.398125 \r\nL 295.047188 239.758125 \r\nL 228.087188 239.758125 \r\nL 228.087188 185.398125 \r\n\" style=\"fill:#781f59;\"/>\r\n    <path clip-path=\"url(#pd1c65a2f90)\" d=\"M 295.047188 185.398125 \r\nL 362.007188 185.398125 \r\nL 362.007188 239.758125 \r\nL 295.047188 239.758125 \r\nL 295.047188 185.398125 \r\n\" style=\"fill:#faebdd;\"/>\r\n   </g>\r\n   <g id=\"matplotlib.axis_1\">\r\n    <g id=\"xtick_1\">\r\n     <g id=\"line2d_1\">\r\n      <defs>\r\n       <path d=\"M 0 0 \r\nL 0 3.5 \r\n\" id=\"mf77ef72df2\" style=\"stroke:#000000;stroke-width:0.8;\"/>\r\n      </defs>\r\n      <g>\r\n       <use style=\"stroke:#000000;stroke-width:0.8;\" x=\"127.647188\" xlink:href=\"#mf77ef72df2\" y=\"239.758125\"/>\r\n      </g>\r\n     </g>\r\n     <g id=\"text_1\">\r\n      <!-- count -->\r\n      <g transform=\"translate(130.406563 274.970625)rotate(-90)scale(0.1 -0.1)\">\r\n       <defs>\r\n        <path d=\"M 3122 3366 \r\nL 3122 2828 \r\nQ 2878 2963 2633 3030 \r\nQ 2388 3097 2138 3097 \r\nQ 1578 3097 1268 2742 \r\nQ 959 2388 959 1747 \r\nQ 959 1106 1268 751 \r\nQ 1578 397 2138 397 \r\nQ 2388 397 2633 464 \r\nQ 2878 531 3122 666 \r\nL 3122 134 \r\nQ 2881 22 2623 -34 \r\nQ 2366 -91 2075 -91 \r\nQ 1284 -91 818 406 \r\nQ 353 903 353 1747 \r\nQ 353 2603 823 3093 \r\nQ 1294 3584 2113 3584 \r\nQ 2378 3584 2631 3529 \r\nQ 2884 3475 3122 3366 \r\nz\r\n\" id=\"DejaVuSans-63\" transform=\"scale(0.015625)\"/>\r\n        <path d=\"M 1959 3097 \r\nQ 1497 3097 1228 2736 \r\nQ 959 2375 959 1747 \r\nQ 959 1119 1226 758 \r\nQ 1494 397 1959 397 \r\nQ 2419 397 2687 759 \r\nQ 2956 1122 2956 1747 \r\nQ 2956 2369 2687 2733 \r\nQ 2419 3097 1959 3097 \r\nz\r\nM 1959 3584 \r\nQ 2709 3584 3137 3096 \r\nQ 3566 2609 3566 1747 \r\nQ 3566 888 3137 398 \r\nQ 2709 -91 1959 -91 \r\nQ 1206 -91 779 398 \r\nQ 353 888 353 1747 \r\nQ 353 2609 779 3096 \r\nQ 1206 3584 1959 3584 \r\nz\r\n\" id=\"DejaVuSans-6f\" transform=\"scale(0.015625)\"/>\r\n        <path d=\"M 544 1381 \r\nL 544 3500 \r\nL 1119 3500 \r\nL 1119 1403 \r\nQ 1119 906 1312 657 \r\nQ 1506 409 1894 409 \r\nQ 2359 409 2629 706 \r\nQ 2900 1003 2900 1516 \r\nL 2900 3500 \r\nL 3475 3500 \r\nL 3475 0 \r\nL 2900 0 \r\nL 2900 538 \r\nQ 2691 219 2414 64 \r\nQ 2138 -91 1772 -91 \r\nQ 1169 -91 856 284 \r\nQ 544 659 544 1381 \r\nz\r\nM 1991 3584 \r\nL 1991 3584 \r\nz\r\n\" id=\"DejaVuSans-75\" transform=\"scale(0.015625)\"/>\r\n        <path d=\"M 3513 2113 \r\nL 3513 0 \r\nL 2938 0 \r\nL 2938 2094 \r\nQ 2938 2591 2744 2837 \r\nQ 2550 3084 2163 3084 \r\nQ 1697 3084 1428 2787 \r\nQ 1159 2491 1159 1978 \r\nL 1159 0 \r\nL 581 0 \r\nL 581 3500 \r\nL 1159 3500 \r\nL 1159 2956 \r\nQ 1366 3272 1645 3428 \r\nQ 1925 3584 2291 3584 \r\nQ 2894 3584 3203 3211 \r\nQ 3513 2838 3513 2113 \r\nz\r\n\" id=\"DejaVuSans-6e\" transform=\"scale(0.015625)\"/>\r\n        <path d=\"M 1172 4494 \r\nL 1172 3500 \r\nL 2356 3500 \r\nL 2356 3053 \r\nL 1172 3053 \r\nL 1172 1153 \r\nQ 1172 725 1289 603 \r\nQ 1406 481 1766 481 \r\nL 2356 481 \r\nL 2356 0 \r\nL 1766 0 \r\nQ 1100 0 847 248 \r\nQ 594 497 594 1153 \r\nL 594 3053 \r\nL 172 3053 \r\nL 172 3500 \r\nL 594 3500 \r\nL 594 4494 \r\nL 1172 4494 \r\nz\r\n\" id=\"DejaVuSans-74\" transform=\"scale(0.015625)\"/>\r\n       </defs>\r\n       <use xlink:href=\"#DejaVuSans-63\"/>\r\n       <use x=\"54.980469\" xlink:href=\"#DejaVuSans-6f\"/>\r\n       <use x=\"116.162109\" xlink:href=\"#DejaVuSans-75\"/>\r\n       <use x=\"179.541016\" xlink:href=\"#DejaVuSans-6e\"/>\r\n       <use x=\"242.919922\" xlink:href=\"#DejaVuSans-74\"/>\r\n      </g>\r\n     </g>\r\n    </g>\r\n    <g id=\"xtick_2\">\r\n     <g id=\"line2d_2\">\r\n      <g>\r\n       <use style=\"stroke:#000000;stroke-width:0.8;\" x=\"194.607188\" xlink:href=\"#mf77ef72df2\" y=\"239.758125\"/>\r\n      </g>\r\n     </g>\r\n     <g id=\"text_2\">\r\n      <!-- title_occurrence -->\r\n      <g transform=\"translate(197.2275 326.725313)rotate(-90)scale(0.1 -0.1)\">\r\n       <defs>\r\n        <path d=\"M 603 3500 \r\nL 1178 3500 \r\nL 1178 0 \r\nL 603 0 \r\nL 603 3500 \r\nz\r\nM 603 4863 \r\nL 1178 4863 \r\nL 1178 4134 \r\nL 603 4134 \r\nL 603 4863 \r\nz\r\n\" id=\"DejaVuSans-69\" transform=\"scale(0.015625)\"/>\r\n        <path d=\"M 603 4863 \r\nL 1178 4863 \r\nL 1178 0 \r\nL 603 0 \r\nL 603 4863 \r\nz\r\n\" id=\"DejaVuSans-6c\" transform=\"scale(0.015625)\"/>\r\n        <path d=\"M 3597 1894 \r\nL 3597 1613 \r\nL 953 1613 \r\nQ 991 1019 1311 708 \r\nQ 1631 397 2203 397 \r\nQ 2534 397 2845 478 \r\nQ 3156 559 3463 722 \r\nL 3463 178 \r\nQ 3153 47 2828 -22 \r\nQ 2503 -91 2169 -91 \r\nQ 1331 -91 842 396 \r\nQ 353 884 353 1716 \r\nQ 353 2575 817 3079 \r\nQ 1281 3584 2069 3584 \r\nQ 2775 3584 3186 3129 \r\nQ 3597 2675 3597 1894 \r\nz\r\nM 3022 2063 \r\nQ 3016 2534 2758 2815 \r\nQ 2500 3097 2075 3097 \r\nQ 1594 3097 1305 2825 \r\nQ 1016 2553 972 2059 \r\nL 3022 2063 \r\nz\r\n\" id=\"DejaVuSans-65\" transform=\"scale(0.015625)\"/>\r\n        <path d=\"M 3263 -1063 \r\nL 3263 -1509 \r\nL -63 -1509 \r\nL -63 -1063 \r\nL 3263 -1063 \r\nz\r\n\" id=\"DejaVuSans-5f\" transform=\"scale(0.015625)\"/>\r\n        <path d=\"M 2631 2963 \r\nQ 2534 3019 2420 3045 \r\nQ 2306 3072 2169 3072 \r\nQ 1681 3072 1420 2755 \r\nQ 1159 2438 1159 1844 \r\nL 1159 0 \r\nL 581 0 \r\nL 581 3500 \r\nL 1159 3500 \r\nL 1159 2956 \r\nQ 1341 3275 1631 3429 \r\nQ 1922 3584 2338 3584 \r\nQ 2397 3584 2469 3576 \r\nQ 2541 3569 2628 3553 \r\nL 2631 2963 \r\nz\r\n\" id=\"DejaVuSans-72\" transform=\"scale(0.015625)\"/>\r\n       </defs>\r\n       <use xlink:href=\"#DejaVuSans-74\"/>\r\n       <use x=\"39.208984\" xlink:href=\"#DejaVuSans-69\"/>\r\n       <use x=\"66.992188\" xlink:href=\"#DejaVuSans-74\"/>\r\n       <use x=\"106.201172\" xlink:href=\"#DejaVuSans-6c\"/>\r\n       <use x=\"133.984375\" xlink:href=\"#DejaVuSans-65\"/>\r\n       <use x=\"195.507812\" xlink:href=\"#DejaVuSans-5f\"/>\r\n       <use x=\"245.507812\" xlink:href=\"#DejaVuSans-6f\"/>\r\n       <use x=\"306.689453\" xlink:href=\"#DejaVuSans-63\"/>\r\n       <use x=\"361.669922\" xlink:href=\"#DejaVuSans-63\"/>\r\n       <use x=\"416.650391\" xlink:href=\"#DejaVuSans-75\"/>\r\n       <use x=\"480.029297\" xlink:href=\"#DejaVuSans-72\"/>\r\n       <use x=\"519.392578\" xlink:href=\"#DejaVuSans-72\"/>\r\n       <use x=\"558.255859\" xlink:href=\"#DejaVuSans-65\"/>\r\n       <use x=\"619.779297\" xlink:href=\"#DejaVuSans-6e\"/>\r\n       <use x=\"683.158203\" xlink:href=\"#DejaVuSans-63\"/>\r\n       <use x=\"738.138672\" xlink:href=\"#DejaVuSans-65\"/>\r\n      </g>\r\n     </g>\r\n    </g>\r\n    <g id=\"xtick_3\">\r\n     <g id=\"line2d_3\">\r\n      <g>\r\n       <use style=\"stroke:#000000;stroke-width:0.8;\" x=\"261.567188\" xlink:href=\"#mf77ef72df2\" y=\"239.758125\"/>\r\n      </g>\r\n     </g>\r\n     <g id=\"text_3\">\r\n      <!-- %_occurrence -->\r\n      <g transform=\"translate(264.099219 316.676875)rotate(-90)scale(0.1 -0.1)\">\r\n       <defs>\r\n        <path d=\"M 4653 2053 \r\nQ 4381 2053 4226 1822 \r\nQ 4072 1591 4072 1178 \r\nQ 4072 772 4226 539 \r\nQ 4381 306 4653 306 \r\nQ 4919 306 5073 539 \r\nQ 5228 772 5228 1178 \r\nQ 5228 1588 5073 1820 \r\nQ 4919 2053 4653 2053 \r\nz\r\nM 4653 2450 \r\nQ 5147 2450 5437 2106 \r\nQ 5728 1763 5728 1178 \r\nQ 5728 594 5436 251 \r\nQ 5144 -91 4653 -91 \r\nQ 4153 -91 3862 251 \r\nQ 3572 594 3572 1178 \r\nQ 3572 1766 3864 2108 \r\nQ 4156 2450 4653 2450 \r\nz\r\nM 1428 4353 \r\nQ 1159 4353 1004 4120 \r\nQ 850 3888 850 3481 \r\nQ 850 3069 1003 2837 \r\nQ 1156 2606 1428 2606 \r\nQ 1700 2606 1854 2837 \r\nQ 2009 3069 2009 3481 \r\nQ 2009 3884 1853 4118 \r\nQ 1697 4353 1428 4353 \r\nz\r\nM 4250 4750 \r\nL 4750 4750 \r\nL 1831 -91 \r\nL 1331 -91 \r\nL 4250 4750 \r\nz\r\nM 1428 4750 \r\nQ 1922 4750 2215 4408 \r\nQ 2509 4066 2509 3481 \r\nQ 2509 2891 2217 2550 \r\nQ 1925 2209 1428 2209 \r\nQ 931 2209 642 2551 \r\nQ 353 2894 353 3481 \r\nQ 353 4063 643 4406 \r\nQ 934 4750 1428 4750 \r\nz\r\n\" id=\"DejaVuSans-25\" transform=\"scale(0.015625)\"/>\r\n       </defs>\r\n       <use xlink:href=\"#DejaVuSans-25\"/>\r\n       <use x=\"95.019531\" xlink:href=\"#DejaVuSans-5f\"/>\r\n       <use x=\"145.019531\" xlink:href=\"#DejaVuSans-6f\"/>\r\n       <use x=\"206.201172\" xlink:href=\"#DejaVuSans-63\"/>\r\n       <use x=\"261.181641\" xlink:href=\"#DejaVuSans-63\"/>\r\n       <use x=\"316.162109\" xlink:href=\"#DejaVuSans-75\"/>\r\n       <use x=\"379.541016\" xlink:href=\"#DejaVuSans-72\"/>\r\n       <use x=\"418.904297\" xlink:href=\"#DejaVuSans-72\"/>\r\n       <use x=\"457.767578\" xlink:href=\"#DejaVuSans-65\"/>\r\n       <use x=\"519.291016\" xlink:href=\"#DejaVuSans-6e\"/>\r\n       <use x=\"582.669922\" xlink:href=\"#DejaVuSans-63\"/>\r\n       <use x=\"637.650391\" xlink:href=\"#DejaVuSans-65\"/>\r\n      </g>\r\n     </g>\r\n    </g>\r\n    <g id=\"xtick_4\">\r\n     <g id=\"line2d_4\">\r\n      <g>\r\n       <use style=\"stroke:#000000;stroke-width:0.8;\" x=\"328.527188\" xlink:href=\"#mf77ef72df2\" y=\"239.758125\"/>\r\n      </g>\r\n     </g>\r\n     <g id=\"text_4\">\r\n      <!-- mean_rating -->\r\n      <g transform=\"translate(331.1475 309.740938)rotate(-90)scale(0.1 -0.1)\">\r\n       <defs>\r\n        <path d=\"M 3328 2828 \r\nQ 3544 3216 3844 3400 \r\nQ 4144 3584 4550 3584 \r\nQ 5097 3584 5394 3201 \r\nQ 5691 2819 5691 2113 \r\nL 5691 0 \r\nL 5113 0 \r\nL 5113 2094 \r\nQ 5113 2597 4934 2840 \r\nQ 4756 3084 4391 3084 \r\nQ 3944 3084 3684 2787 \r\nQ 3425 2491 3425 1978 \r\nL 3425 0 \r\nL 2847 0 \r\nL 2847 2094 \r\nQ 2847 2600 2669 2842 \r\nQ 2491 3084 2119 3084 \r\nQ 1678 3084 1418 2786 \r\nQ 1159 2488 1159 1978 \r\nL 1159 0 \r\nL 581 0 \r\nL 581 3500 \r\nL 1159 3500 \r\nL 1159 2956 \r\nQ 1356 3278 1631 3431 \r\nQ 1906 3584 2284 3584 \r\nQ 2666 3584 2933 3390 \r\nQ 3200 3197 3328 2828 \r\nz\r\n\" id=\"DejaVuSans-6d\" transform=\"scale(0.015625)\"/>\r\n        <path d=\"M 2194 1759 \r\nQ 1497 1759 1228 1600 \r\nQ 959 1441 959 1056 \r\nQ 959 750 1161 570 \r\nQ 1363 391 1709 391 \r\nQ 2188 391 2477 730 \r\nQ 2766 1069 2766 1631 \r\nL 2766 1759 \r\nL 2194 1759 \r\nz\r\nM 3341 1997 \r\nL 3341 0 \r\nL 2766 0 \r\nL 2766 531 \r\nQ 2569 213 2275 61 \r\nQ 1981 -91 1556 -91 \r\nQ 1019 -91 701 211 \r\nQ 384 513 384 1019 \r\nQ 384 1609 779 1909 \r\nQ 1175 2209 1959 2209 \r\nL 2766 2209 \r\nL 2766 2266 \r\nQ 2766 2663 2505 2880 \r\nQ 2244 3097 1772 3097 \r\nQ 1472 3097 1187 3025 \r\nQ 903 2953 641 2809 \r\nL 641 3341 \r\nQ 956 3463 1253 3523 \r\nQ 1550 3584 1831 3584 \r\nQ 2591 3584 2966 3190 \r\nQ 3341 2797 3341 1997 \r\nz\r\n\" id=\"DejaVuSans-61\" transform=\"scale(0.015625)\"/>\r\n        <path d=\"M 2906 1791 \r\nQ 2906 2416 2648 2759 \r\nQ 2391 3103 1925 3103 \r\nQ 1463 3103 1205 2759 \r\nQ 947 2416 947 1791 \r\nQ 947 1169 1205 825 \r\nQ 1463 481 1925 481 \r\nQ 2391 481 2648 825 \r\nQ 2906 1169 2906 1791 \r\nz\r\nM 3481 434 \r\nQ 3481 -459 3084 -895 \r\nQ 2688 -1331 1869 -1331 \r\nQ 1566 -1331 1297 -1286 \r\nQ 1028 -1241 775 -1147 \r\nL 775 -588 \r\nQ 1028 -725 1275 -790 \r\nQ 1522 -856 1778 -856 \r\nQ 2344 -856 2625 -561 \r\nQ 2906 -266 2906 331 \r\nL 2906 616 \r\nQ 2728 306 2450 153 \r\nQ 2172 0 1784 0 \r\nQ 1141 0 747 490 \r\nQ 353 981 353 1791 \r\nQ 353 2603 747 3093 \r\nQ 1141 3584 1784 3584 \r\nQ 2172 3584 2450 3431 \r\nQ 2728 3278 2906 2969 \r\nL 2906 3500 \r\nL 3481 3500 \r\nL 3481 434 \r\nz\r\n\" id=\"DejaVuSans-67\" transform=\"scale(0.015625)\"/>\r\n       </defs>\r\n       <use xlink:href=\"#DejaVuSans-6d\"/>\r\n       <use x=\"97.412109\" xlink:href=\"#DejaVuSans-65\"/>\r\n       <use x=\"158.935547\" xlink:href=\"#DejaVuSans-61\"/>\r\n       <use x=\"220.214844\" xlink:href=\"#DejaVuSans-6e\"/>\r\n       <use x=\"283.59375\" xlink:href=\"#DejaVuSans-5f\"/>\r\n       <use x=\"333.59375\" xlink:href=\"#DejaVuSans-72\"/>\r\n       <use x=\"374.707031\" xlink:href=\"#DejaVuSans-61\"/>\r\n       <use x=\"435.986328\" xlink:href=\"#DejaVuSans-74\"/>\r\n       <use x=\"475.195312\" xlink:href=\"#DejaVuSans-69\"/>\r\n       <use x=\"502.978516\" xlink:href=\"#DejaVuSans-6e\"/>\r\n       <use x=\"566.357422\" xlink:href=\"#DejaVuSans-67\"/>\r\n      </g>\r\n     </g>\r\n    </g>\r\n   </g>\r\n   <g id=\"matplotlib.axis_2\">\r\n    <g id=\"ytick_1\">\r\n     <g id=\"line2d_5\">\r\n      <defs>\r\n       <path d=\"M 0 0 \r\nL -3.5 0 \r\n\" id=\"me244a9ce05\" style=\"stroke:#000000;stroke-width:0.8;\"/>\r\n      </defs>\r\n      <g>\r\n       <use style=\"stroke:#000000;stroke-width:0.8;\" x=\"94.167188\" xlink:href=\"#me244a9ce05\" y=\"49.498125\"/>\r\n      </g>\r\n     </g>\r\n     <g id=\"text_5\">\r\n      <!-- count -->\r\n      <g transform=\"translate(58.954688 53.297344)scale(0.1 -0.1)\">\r\n       <use xlink:href=\"#DejaVuSans-63\"/>\r\n       <use x=\"54.980469\" xlink:href=\"#DejaVuSans-6f\"/>\r\n       <use x=\"116.162109\" xlink:href=\"#DejaVuSans-75\"/>\r\n       <use x=\"179.541016\" xlink:href=\"#DejaVuSans-6e\"/>\r\n       <use x=\"242.919922\" xlink:href=\"#DejaVuSans-74\"/>\r\n      </g>\r\n     </g>\r\n    </g>\r\n    <g id=\"ytick_2\">\r\n     <g id=\"line2d_6\">\r\n      <g>\r\n       <use style=\"stroke:#000000;stroke-width:0.8;\" x=\"94.167188\" xlink:href=\"#me244a9ce05\" y=\"103.858125\"/>\r\n      </g>\r\n     </g>\r\n     <g id=\"text_6\">\r\n      <!-- title_occurrence -->\r\n      <g transform=\"translate(7.2 107.657344)scale(0.1 -0.1)\">\r\n       <use xlink:href=\"#DejaVuSans-74\"/>\r\n       <use x=\"39.208984\" xlink:href=\"#DejaVuSans-69\"/>\r\n       <use x=\"66.992188\" xlink:href=\"#DejaVuSans-74\"/>\r\n       <use x=\"106.201172\" xlink:href=\"#DejaVuSans-6c\"/>\r\n       <use x=\"133.984375\" xlink:href=\"#DejaVuSans-65\"/>\r\n       <use x=\"195.507812\" xlink:href=\"#DejaVuSans-5f\"/>\r\n       <use x=\"245.507812\" xlink:href=\"#DejaVuSans-6f\"/>\r\n       <use x=\"306.689453\" xlink:href=\"#DejaVuSans-63\"/>\r\n       <use x=\"361.669922\" xlink:href=\"#DejaVuSans-63\"/>\r\n       <use x=\"416.650391\" xlink:href=\"#DejaVuSans-75\"/>\r\n       <use x=\"480.029297\" xlink:href=\"#DejaVuSans-72\"/>\r\n       <use x=\"519.392578\" xlink:href=\"#DejaVuSans-72\"/>\r\n       <use x=\"558.255859\" xlink:href=\"#DejaVuSans-65\"/>\r\n       <use x=\"619.779297\" xlink:href=\"#DejaVuSans-6e\"/>\r\n       <use x=\"683.158203\" xlink:href=\"#DejaVuSans-63\"/>\r\n       <use x=\"738.138672\" xlink:href=\"#DejaVuSans-65\"/>\r\n      </g>\r\n     </g>\r\n    </g>\r\n    <g id=\"ytick_3\">\r\n     <g id=\"line2d_7\">\r\n      <g>\r\n       <use style=\"stroke:#000000;stroke-width:0.8;\" x=\"94.167188\" xlink:href=\"#me244a9ce05\" y=\"158.218125\"/>\r\n      </g>\r\n     </g>\r\n     <g id=\"text_7\">\r\n      <!-- %_occurrence -->\r\n      <g transform=\"translate(17.248438 161.929063)scale(0.1 -0.1)\">\r\n       <use xlink:href=\"#DejaVuSans-25\"/>\r\n       <use x=\"95.019531\" xlink:href=\"#DejaVuSans-5f\"/>\r\n       <use x=\"145.019531\" xlink:href=\"#DejaVuSans-6f\"/>\r\n       <use x=\"206.201172\" xlink:href=\"#DejaVuSans-63\"/>\r\n       <use x=\"261.181641\" xlink:href=\"#DejaVuSans-63\"/>\r\n       <use x=\"316.162109\" xlink:href=\"#DejaVuSans-75\"/>\r\n       <use x=\"379.541016\" xlink:href=\"#DejaVuSans-72\"/>\r\n       <use x=\"418.904297\" xlink:href=\"#DejaVuSans-72\"/>\r\n       <use x=\"457.767578\" xlink:href=\"#DejaVuSans-65\"/>\r\n       <use x=\"519.291016\" xlink:href=\"#DejaVuSans-6e\"/>\r\n       <use x=\"582.669922\" xlink:href=\"#DejaVuSans-63\"/>\r\n       <use x=\"637.650391\" xlink:href=\"#DejaVuSans-65\"/>\r\n      </g>\r\n     </g>\r\n    </g>\r\n    <g id=\"ytick_4\">\r\n     <g id=\"line2d_8\">\r\n      <g>\r\n       <use style=\"stroke:#000000;stroke-width:0.8;\" x=\"94.167188\" xlink:href=\"#me244a9ce05\" y=\"212.578125\"/>\r\n      </g>\r\n     </g>\r\n     <g id=\"text_8\">\r\n      <!-- mean_rating -->\r\n      <g transform=\"translate(24.184375 216.377344)scale(0.1 -0.1)\">\r\n       <use xlink:href=\"#DejaVuSans-6d\"/>\r\n       <use x=\"97.412109\" xlink:href=\"#DejaVuSans-65\"/>\r\n       <use x=\"158.935547\" xlink:href=\"#DejaVuSans-61\"/>\r\n       <use x=\"220.214844\" xlink:href=\"#DejaVuSans-6e\"/>\r\n       <use x=\"283.59375\" xlink:href=\"#DejaVuSans-5f\"/>\r\n       <use x=\"333.59375\" xlink:href=\"#DejaVuSans-72\"/>\r\n       <use x=\"374.707031\" xlink:href=\"#DejaVuSans-61\"/>\r\n       <use x=\"435.986328\" xlink:href=\"#DejaVuSans-74\"/>\r\n       <use x=\"475.195312\" xlink:href=\"#DejaVuSans-69\"/>\r\n       <use x=\"502.978516\" xlink:href=\"#DejaVuSans-6e\"/>\r\n       <use x=\"566.357422\" xlink:href=\"#DejaVuSans-67\"/>\r\n      </g>\r\n     </g>\r\n    </g>\r\n   </g>\r\n   <g id=\"text_9\">\r\n    <!-- 1 -->\r\n    <g style=\"fill:#262626;\" transform=\"translate(124.465938 52.2575)scale(0.1 -0.1)\">\r\n     <defs>\r\n      <path d=\"M 794 531 \r\nL 1825 531 \r\nL 1825 4091 \r\nL 703 3866 \r\nL 703 4441 \r\nL 1819 4666 \r\nL 2450 4666 \r\nL 2450 531 \r\nL 3481 531 \r\nL 3481 0 \r\nL 794 0 \r\nL 794 531 \r\nz\r\n\" id=\"DejaVuSans-31\" transform=\"scale(0.015625)\"/>\r\n     </defs>\r\n     <use xlink:href=\"#DejaVuSans-31\"/>\r\n    </g>\r\n   </g>\r\n   <g id=\"text_10\">\r\n    <!-- 1 -->\r\n    <g style=\"fill:#262626;\" transform=\"translate(191.425938 52.2575)scale(0.1 -0.1)\">\r\n     <use xlink:href=\"#DejaVuSans-31\"/>\r\n    </g>\r\n   </g>\r\n   <g id=\"text_11\">\r\n    <!-- 0.28 -->\r\n    <g style=\"fill:#ffffff;\" transform=\"translate(250.434375 52.2575)scale(0.1 -0.1)\">\r\n     <defs>\r\n      <path d=\"M 2034 4250 \r\nQ 1547 4250 1301 3770 \r\nQ 1056 3291 1056 2328 \r\nQ 1056 1369 1301 889 \r\nQ 1547 409 2034 409 \r\nQ 2525 409 2770 889 \r\nQ 3016 1369 3016 2328 \r\nQ 3016 3291 2770 3770 \r\nQ 2525 4250 2034 4250 \r\nz\r\nM 2034 4750 \r\nQ 2819 4750 3233 4129 \r\nQ 3647 3509 3647 2328 \r\nQ 3647 1150 3233 529 \r\nQ 2819 -91 2034 -91 \r\nQ 1250 -91 836 529 \r\nQ 422 1150 422 2328 \r\nQ 422 3509 836 4129 \r\nQ 1250 4750 2034 4750 \r\nz\r\n\" id=\"DejaVuSans-30\" transform=\"scale(0.015625)\"/>\r\n      <path d=\"M 684 794 \r\nL 1344 794 \r\nL 1344 0 \r\nL 684 0 \r\nL 684 794 \r\nz\r\n\" id=\"DejaVuSans-2e\" transform=\"scale(0.015625)\"/>\r\n      <path d=\"M 1228 531 \r\nL 3431 531 \r\nL 3431 0 \r\nL 469 0 \r\nL 469 531 \r\nQ 828 903 1448 1529 \r\nQ 2069 2156 2228 2338 \r\nQ 2531 2678 2651 2914 \r\nQ 2772 3150 2772 3378 \r\nQ 2772 3750 2511 3984 \r\nQ 2250 4219 1831 4219 \r\nQ 1534 4219 1204 4116 \r\nQ 875 4013 500 3803 \r\nL 500 4441 \r\nQ 881 4594 1212 4672 \r\nQ 1544 4750 1819 4750 \r\nQ 2544 4750 2975 4387 \r\nQ 3406 4025 3406 3419 \r\nQ 3406 3131 3298 2873 \r\nQ 3191 2616 2906 2266 \r\nQ 2828 2175 2409 1742 \r\nQ 1991 1309 1228 531 \r\nz\r\n\" id=\"DejaVuSans-32\" transform=\"scale(0.015625)\"/>\r\n      <path d=\"M 2034 2216 \r\nQ 1584 2216 1326 1975 \r\nQ 1069 1734 1069 1313 \r\nQ 1069 891 1326 650 \r\nQ 1584 409 2034 409 \r\nQ 2484 409 2743 651 \r\nQ 3003 894 3003 1313 \r\nQ 3003 1734 2745 1975 \r\nQ 2488 2216 2034 2216 \r\nz\r\nM 1403 2484 \r\nQ 997 2584 770 2862 \r\nQ 544 3141 544 3541 \r\nQ 544 4100 942 4425 \r\nQ 1341 4750 2034 4750 \r\nQ 2731 4750 3128 4425 \r\nQ 3525 4100 3525 3541 \r\nQ 3525 3141 3298 2862 \r\nQ 3072 2584 2669 2484 \r\nQ 3125 2378 3379 2068 \r\nQ 3634 1759 3634 1313 \r\nQ 3634 634 3220 271 \r\nQ 2806 -91 2034 -91 \r\nQ 1263 -91 848 271 \r\nQ 434 634 434 1313 \r\nQ 434 1759 690 2068 \r\nQ 947 2378 1403 2484 \r\nz\r\nM 1172 3481 \r\nQ 1172 3119 1398 2916 \r\nQ 1625 2713 2034 2713 \r\nQ 2441 2713 2670 2916 \r\nQ 2900 3119 2900 3481 \r\nQ 2900 3844 2670 4047 \r\nQ 2441 4250 2034 4250 \r\nQ 1625 4250 1398 4047 \r\nQ 1172 3844 1172 3481 \r\nz\r\n\" id=\"DejaVuSans-38\" transform=\"scale(0.015625)\"/>\r\n     </defs>\r\n     <use xlink:href=\"#DejaVuSans-30\"/>\r\n     <use x=\"63.623047\" xlink:href=\"#DejaVuSans-2e\"/>\r\n     <use x=\"95.410156\" xlink:href=\"#DejaVuSans-32\"/>\r\n     <use x=\"159.033203\" xlink:href=\"#DejaVuSans-38\"/>\r\n    </g>\r\n   </g>\r\n   <g id=\"text_12\">\r\n    <!-- -0.26 -->\r\n    <g style=\"fill:#ffffff;\" transform=\"translate(315.590469 52.2575)scale(0.1 -0.1)\">\r\n     <defs>\r\n      <path d=\"M 313 2009 \r\nL 1997 2009 \r\nL 1997 1497 \r\nL 313 1497 \r\nL 313 2009 \r\nz\r\n\" id=\"DejaVuSans-2d\" transform=\"scale(0.015625)\"/>\r\n      <path d=\"M 2113 2584 \r\nQ 1688 2584 1439 2293 \r\nQ 1191 2003 1191 1497 \r\nQ 1191 994 1439 701 \r\nQ 1688 409 2113 409 \r\nQ 2538 409 2786 701 \r\nQ 3034 994 3034 1497 \r\nQ 3034 2003 2786 2293 \r\nQ 2538 2584 2113 2584 \r\nz\r\nM 3366 4563 \r\nL 3366 3988 \r\nQ 3128 4100 2886 4159 \r\nQ 2644 4219 2406 4219 \r\nQ 1781 4219 1451 3797 \r\nQ 1122 3375 1075 2522 \r\nQ 1259 2794 1537 2939 \r\nQ 1816 3084 2150 3084 \r\nQ 2853 3084 3261 2657 \r\nQ 3669 2231 3669 1497 \r\nQ 3669 778 3244 343 \r\nQ 2819 -91 2113 -91 \r\nQ 1303 -91 875 529 \r\nQ 447 1150 447 2328 \r\nQ 447 3434 972 4092 \r\nQ 1497 4750 2381 4750 \r\nQ 2619 4750 2861 4703 \r\nQ 3103 4656 3366 4563 \r\nz\r\n\" id=\"DejaVuSans-36\" transform=\"scale(0.015625)\"/>\r\n     </defs>\r\n     <use xlink:href=\"#DejaVuSans-2d\"/>\r\n     <use x=\"36.083984\" xlink:href=\"#DejaVuSans-30\"/>\r\n     <use x=\"99.707031\" xlink:href=\"#DejaVuSans-2e\"/>\r\n     <use x=\"131.494141\" xlink:href=\"#DejaVuSans-32\"/>\r\n     <use x=\"195.117188\" xlink:href=\"#DejaVuSans-36\"/>\r\n    </g>\r\n   </g>\r\n   <g id=\"text_13\">\r\n    <!-- 1 -->\r\n    <g style=\"fill:#262626;\" transform=\"translate(124.465938 106.6175)scale(0.1 -0.1)\">\r\n     <use xlink:href=\"#DejaVuSans-31\"/>\r\n    </g>\r\n   </g>\r\n   <g id=\"text_14\">\r\n    <!-- 1 -->\r\n    <g style=\"fill:#262626;\" transform=\"translate(191.425938 106.6175)scale(0.1 -0.1)\">\r\n     <use xlink:href=\"#DejaVuSans-31\"/>\r\n    </g>\r\n   </g>\r\n   <g id=\"text_15\">\r\n    <!-- 0.26 -->\r\n    <g style=\"fill:#ffffff;\" transform=\"translate(250.434375 106.6175)scale(0.1 -0.1)\">\r\n     <use xlink:href=\"#DejaVuSans-30\"/>\r\n     <use x=\"63.623047\" xlink:href=\"#DejaVuSans-2e\"/>\r\n     <use x=\"95.410156\" xlink:href=\"#DejaVuSans-32\"/>\r\n     <use x=\"159.033203\" xlink:href=\"#DejaVuSans-36\"/>\r\n    </g>\r\n   </g>\r\n   <g id=\"text_16\">\r\n    <!-- -0.27 -->\r\n    <g style=\"fill:#ffffff;\" transform=\"translate(315.590469 106.6175)scale(0.1 -0.1)\">\r\n     <defs>\r\n      <path d=\"M 525 4666 \r\nL 3525 4666 \r\nL 3525 4397 \r\nL 1831 0 \r\nL 1172 0 \r\nL 2766 4134 \r\nL 525 4134 \r\nL 525 4666 \r\nz\r\n\" id=\"DejaVuSans-37\" transform=\"scale(0.015625)\"/>\r\n     </defs>\r\n     <use xlink:href=\"#DejaVuSans-2d\"/>\r\n     <use x=\"36.083984\" xlink:href=\"#DejaVuSans-30\"/>\r\n     <use x=\"99.707031\" xlink:href=\"#DejaVuSans-2e\"/>\r\n     <use x=\"131.494141\" xlink:href=\"#DejaVuSans-32\"/>\r\n     <use x=\"195.117188\" xlink:href=\"#DejaVuSans-37\"/>\r\n    </g>\r\n   </g>\r\n   <g id=\"text_17\">\r\n    <!-- 0.28 -->\r\n    <g style=\"fill:#ffffff;\" transform=\"translate(116.514375 160.9775)scale(0.1 -0.1)\">\r\n     <use xlink:href=\"#DejaVuSans-30\"/>\r\n     <use x=\"63.623047\" xlink:href=\"#DejaVuSans-2e\"/>\r\n     <use x=\"95.410156\" xlink:href=\"#DejaVuSans-32\"/>\r\n     <use x=\"159.033203\" xlink:href=\"#DejaVuSans-38\"/>\r\n    </g>\r\n   </g>\r\n   <g id=\"text_18\">\r\n    <!-- 0.26 -->\r\n    <g style=\"fill:#ffffff;\" transform=\"translate(183.474375 160.9775)scale(0.1 -0.1)\">\r\n     <use xlink:href=\"#DejaVuSans-30\"/>\r\n     <use x=\"63.623047\" xlink:href=\"#DejaVuSans-2e\"/>\r\n     <use x=\"95.410156\" xlink:href=\"#DejaVuSans-32\"/>\r\n     <use x=\"159.033203\" xlink:href=\"#DejaVuSans-36\"/>\r\n    </g>\r\n   </g>\r\n   <g id=\"text_19\">\r\n    <!-- 1 -->\r\n    <g style=\"fill:#262626;\" transform=\"translate(258.385938 160.9775)scale(0.1 -0.1)\">\r\n     <use xlink:href=\"#DejaVuSans-31\"/>\r\n    </g>\r\n   </g>\r\n   <g id=\"text_20\">\r\n    <!-- 0.12 -->\r\n    <g style=\"fill:#ffffff;\" transform=\"translate(317.394375 160.9775)scale(0.1 -0.1)\">\r\n     <use xlink:href=\"#DejaVuSans-30\"/>\r\n     <use x=\"63.623047\" xlink:href=\"#DejaVuSans-2e\"/>\r\n     <use x=\"95.410156\" xlink:href=\"#DejaVuSans-31\"/>\r\n     <use x=\"159.033203\" xlink:href=\"#DejaVuSans-32\"/>\r\n    </g>\r\n   </g>\r\n   <g id=\"text_21\">\r\n    <!-- -0.26 -->\r\n    <g style=\"fill:#ffffff;\" transform=\"translate(114.710469 215.3375)scale(0.1 -0.1)\">\r\n     <use xlink:href=\"#DejaVuSans-2d\"/>\r\n     <use x=\"36.083984\" xlink:href=\"#DejaVuSans-30\"/>\r\n     <use x=\"99.707031\" xlink:href=\"#DejaVuSans-2e\"/>\r\n     <use x=\"131.494141\" xlink:href=\"#DejaVuSans-32\"/>\r\n     <use x=\"195.117188\" xlink:href=\"#DejaVuSans-36\"/>\r\n    </g>\r\n   </g>\r\n   <g id=\"text_22\">\r\n    <!-- -0.27 -->\r\n    <g style=\"fill:#ffffff;\" transform=\"translate(181.670469 215.3375)scale(0.1 -0.1)\">\r\n     <use xlink:href=\"#DejaVuSans-2d\"/>\r\n     <use x=\"36.083984\" xlink:href=\"#DejaVuSans-30\"/>\r\n     <use x=\"99.707031\" xlink:href=\"#DejaVuSans-2e\"/>\r\n     <use x=\"131.494141\" xlink:href=\"#DejaVuSans-32\"/>\r\n     <use x=\"195.117188\" xlink:href=\"#DejaVuSans-37\"/>\r\n    </g>\r\n   </g>\r\n   <g id=\"text_23\">\r\n    <!-- 0.12 -->\r\n    <g style=\"fill:#ffffff;\" transform=\"translate(250.434375 215.3375)scale(0.1 -0.1)\">\r\n     <use xlink:href=\"#DejaVuSans-30\"/>\r\n     <use x=\"63.623047\" xlink:href=\"#DejaVuSans-2e\"/>\r\n     <use x=\"95.410156\" xlink:href=\"#DejaVuSans-31\"/>\r\n     <use x=\"159.033203\" xlink:href=\"#DejaVuSans-32\"/>\r\n    </g>\r\n   </g>\r\n   <g id=\"text_24\">\r\n    <!-- 1 -->\r\n    <g style=\"fill:#262626;\" transform=\"translate(325.345938 215.3375)scale(0.1 -0.1)\">\r\n     <use xlink:href=\"#DejaVuSans-31\"/>\r\n    </g>\r\n   </g>\r\n   <g id=\"text_25\">\r\n    <!-- word_stats Heatmap -->\r\n    <g transform=\"translate(166.235625 16.318125)scale(0.12 -0.12)\">\r\n     <defs>\r\n      <path d=\"M 269 3500 \r\nL 844 3500 \r\nL 1563 769 \r\nL 2278 3500 \r\nL 2956 3500 \r\nL 3675 769 \r\nL 4391 3500 \r\nL 4966 3500 \r\nL 4050 0 \r\nL 3372 0 \r\nL 2619 2869 \r\nL 1863 0 \r\nL 1184 0 \r\nL 269 3500 \r\nz\r\n\" id=\"DejaVuSans-77\" transform=\"scale(0.015625)\"/>\r\n      <path d=\"M 2906 2969 \r\nL 2906 4863 \r\nL 3481 4863 \r\nL 3481 0 \r\nL 2906 0 \r\nL 2906 525 \r\nQ 2725 213 2448 61 \r\nQ 2172 -91 1784 -91 \r\nQ 1150 -91 751 415 \r\nQ 353 922 353 1747 \r\nQ 353 2572 751 3078 \r\nQ 1150 3584 1784 3584 \r\nQ 2172 3584 2448 3432 \r\nQ 2725 3281 2906 2969 \r\nz\r\nM 947 1747 \r\nQ 947 1113 1208 752 \r\nQ 1469 391 1925 391 \r\nQ 2381 391 2643 752 \r\nQ 2906 1113 2906 1747 \r\nQ 2906 2381 2643 2742 \r\nQ 2381 3103 1925 3103 \r\nQ 1469 3103 1208 2742 \r\nQ 947 2381 947 1747 \r\nz\r\n\" id=\"DejaVuSans-64\" transform=\"scale(0.015625)\"/>\r\n      <path d=\"M 2834 3397 \r\nL 2834 2853 \r\nQ 2591 2978 2328 3040 \r\nQ 2066 3103 1784 3103 \r\nQ 1356 3103 1142 2972 \r\nQ 928 2841 928 2578 \r\nQ 928 2378 1081 2264 \r\nQ 1234 2150 1697 2047 \r\nL 1894 2003 \r\nQ 2506 1872 2764 1633 \r\nQ 3022 1394 3022 966 \r\nQ 3022 478 2636 193 \r\nQ 2250 -91 1575 -91 \r\nQ 1294 -91 989 -36 \r\nQ 684 19 347 128 \r\nL 347 722 \r\nQ 666 556 975 473 \r\nQ 1284 391 1588 391 \r\nQ 1994 391 2212 530 \r\nQ 2431 669 2431 922 \r\nQ 2431 1156 2273 1281 \r\nQ 2116 1406 1581 1522 \r\nL 1381 1569 \r\nQ 847 1681 609 1914 \r\nQ 372 2147 372 2553 \r\nQ 372 3047 722 3315 \r\nQ 1072 3584 1716 3584 \r\nQ 2034 3584 2315 3537 \r\nQ 2597 3491 2834 3397 \r\nz\r\n\" id=\"DejaVuSans-73\" transform=\"scale(0.015625)\"/>\r\n      <path id=\"DejaVuSans-20\" transform=\"scale(0.015625)\"/>\r\n      <path d=\"M 628 4666 \r\nL 1259 4666 \r\nL 1259 2753 \r\nL 3553 2753 \r\nL 3553 4666 \r\nL 4184 4666 \r\nL 4184 0 \r\nL 3553 0 \r\nL 3553 2222 \r\nL 1259 2222 \r\nL 1259 0 \r\nL 628 0 \r\nL 628 4666 \r\nz\r\n\" id=\"DejaVuSans-48\" transform=\"scale(0.015625)\"/>\r\n      <path d=\"M 1159 525 \r\nL 1159 -1331 \r\nL 581 -1331 \r\nL 581 3500 \r\nL 1159 3500 \r\nL 1159 2969 \r\nQ 1341 3281 1617 3432 \r\nQ 1894 3584 2278 3584 \r\nQ 2916 3584 3314 3078 \r\nQ 3713 2572 3713 1747 \r\nQ 3713 922 3314 415 \r\nQ 2916 -91 2278 -91 \r\nQ 1894 -91 1617 61 \r\nQ 1341 213 1159 525 \r\nz\r\nM 3116 1747 \r\nQ 3116 2381 2855 2742 \r\nQ 2594 3103 2138 3103 \r\nQ 1681 3103 1420 2742 \r\nQ 1159 2381 1159 1747 \r\nQ 1159 1113 1420 752 \r\nQ 1681 391 2138 391 \r\nQ 2594 391 2855 752 \r\nQ 3116 1113 3116 1747 \r\nz\r\n\" id=\"DejaVuSans-70\" transform=\"scale(0.015625)\"/>\r\n     </defs>\r\n     <use xlink:href=\"#DejaVuSans-77\"/>\r\n     <use x=\"81.787109\" xlink:href=\"#DejaVuSans-6f\"/>\r\n     <use x=\"142.96875\" xlink:href=\"#DejaVuSans-72\"/>\r\n     <use x=\"182.332031\" xlink:href=\"#DejaVuSans-64\"/>\r\n     <use x=\"245.808594\" xlink:href=\"#DejaVuSans-5f\"/>\r\n     <use x=\"295.808594\" xlink:href=\"#DejaVuSans-73\"/>\r\n     <use x=\"347.908203\" xlink:href=\"#DejaVuSans-74\"/>\r\n     <use x=\"387.117188\" xlink:href=\"#DejaVuSans-61\"/>\r\n     <use x=\"448.396484\" xlink:href=\"#DejaVuSans-74\"/>\r\n     <use x=\"487.605469\" xlink:href=\"#DejaVuSans-73\"/>\r\n     <use x=\"539.705078\" xlink:href=\"#DejaVuSans-20\"/>\r\n     <use x=\"571.492188\" xlink:href=\"#DejaVuSans-48\"/>\r\n     <use x=\"646.6875\" xlink:href=\"#DejaVuSans-65\"/>\r\n     <use x=\"708.210938\" xlink:href=\"#DejaVuSans-61\"/>\r\n     <use x=\"769.490234\" xlink:href=\"#DejaVuSans-74\"/>\r\n     <use x=\"808.699219\" xlink:href=\"#DejaVuSans-6d\"/>\r\n     <use x=\"906.111328\" xlink:href=\"#DejaVuSans-61\"/>\r\n     <use x=\"967.390625\" xlink:href=\"#DejaVuSans-70\"/>\r\n    </g>\r\n   </g>\r\n  </g>\r\n  <g id=\"axes_2\">\r\n   <g id=\"patch_3\">\r\n    <path d=\"M 378.747188 239.758125 \r\nL 389.619188 239.758125 \r\nL 389.619188 22.318125 \r\nL 378.747188 22.318125 \r\nz\r\n\" style=\"fill:#ffffff;\"/>\r\n   </g>\r\n   <g id=\"patch_4\">\r\n    <path clip-path=\"url(#p9f0376b793)\" d=\"M 378.747188 239.758125 \r\nL 378.747188 238.90875 \r\nL 378.747188 23.1675 \r\nL 378.747188 22.318125 \r\nL 389.619188 22.318125 \r\nL 389.619188 23.1675 \r\nL 389.619188 238.90875 \r\nL 389.619188 239.758125 \r\nL 389.619188 239.758125 \r\nz\r\n\" style=\"fill:#ffffff;stroke:#ffffff;stroke-linejoin:miter;stroke-width:0.01;\"/>\r\n   </g>\r\n   <image height=\"218\" id=\"image9a7456887b\" transform=\"scale(1 -1)translate(0 -218)\" width=\"11\" x=\"379\" xlink:href=\"data:image/png;base64,\r\niVBORw0KGgoAAAANSUhEUgAAAAsAAADaCAYAAABwzrisAAABXElEQVR4nO3a0Y3DMAyDYSl2l7j99+ytoO8AAgpwfiaEn5TspE77fH6+NVy3p8qqut1zuYmffkQsGEUYMYOCcR5II4dh7Y4ZzDFjZWkKpfHG4c8Z3NLu96VhBsfSt86GRTdfNhunyCBgJHcKYFDON9jBFcNP0Z0d85yLLtluwLB2xzCo3VsMjn9LeBpUOba7SSxpoMEURjANEZ/YIG1Jw2Zjrg7uQUvjC8w4/Kk0mirPC/NZBxjILGLot2GcJgxKY76wcoz5gRlV5rE2abDJIBz9UeaxVjHIoERnYpoNw4DKyTQAo3KzQeKbqgz3CtHKcELfhieQYZRUzmE0vBcYsxmUK4schrwGalNELHeMlrMYXMJc8vHFKh9qdwwjF50YxJyXpCEfuZakYWcdVRbxnT/pk8w5g0cM5jD+0/hr5e7Yht2ShhiMtTuYc26nWBqfEAb9y2LLINlsvM7gLzo1LScMkl5mAAAAAElFTkSuQmCC\" y=\"-21\"/>\r\n   <g id=\"matplotlib.axis_3\"/>\r\n   <g id=\"matplotlib.axis_4\">\r\n    <g id=\"ytick_5\">\r\n     <g id=\"line2d_9\">\r\n      <defs>\r\n       <path d=\"M 0 0 \r\nL 3.5 0 \r\n\" id=\"m41f5ffc7eb\" style=\"stroke:#000000;stroke-width:0.8;\"/>\r\n      </defs>\r\n      <g>\r\n       <use style=\"stroke:#000000;stroke-width:0.8;\" x=\"389.619188\" xlink:href=\"#m41f5ffc7eb\" y=\"227.710374\"/>\r\n      </g>\r\n     </g>\r\n     <g id=\"text_26\">\r\n      <!-- −0.2 -->\r\n      <g transform=\"translate(396.619188 231.509593)scale(0.1 -0.1)\">\r\n       <defs>\r\n        <path d=\"M 678 2272 \r\nL 4684 2272 \r\nL 4684 1741 \r\nL 678 1741 \r\nL 678 2272 \r\nz\r\n\" id=\"DejaVuSans-2212\" transform=\"scale(0.015625)\"/>\r\n       </defs>\r\n       <use xlink:href=\"#DejaVuSans-2212\"/>\r\n       <use x=\"83.789062\" xlink:href=\"#DejaVuSans-30\"/>\r\n       <use x=\"147.412109\" xlink:href=\"#DejaVuSans-2e\"/>\r\n       <use x=\"179.199219\" xlink:href=\"#DejaVuSans-32\"/>\r\n      </g>\r\n     </g>\r\n    </g>\r\n    <g id=\"ytick_6\">\r\n     <g id=\"line2d_10\">\r\n      <g>\r\n       <use style=\"stroke:#000000;stroke-width:0.8;\" x=\"389.619188\" xlink:href=\"#m41f5ffc7eb\" y=\"193.478333\"/>\r\n      </g>\r\n     </g>\r\n     <g id=\"text_27\">\r\n      <!-- 0.0 -->\r\n      <g transform=\"translate(396.619188 197.277552)scale(0.1 -0.1)\">\r\n       <use xlink:href=\"#DejaVuSans-30\"/>\r\n       <use x=\"63.623047\" xlink:href=\"#DejaVuSans-2e\"/>\r\n       <use x=\"95.410156\" xlink:href=\"#DejaVuSans-30\"/>\r\n      </g>\r\n     </g>\r\n    </g>\r\n    <g id=\"ytick_7\">\r\n     <g id=\"line2d_11\">\r\n      <g>\r\n       <use style=\"stroke:#000000;stroke-width:0.8;\" x=\"389.619188\" xlink:href=\"#m41f5ffc7eb\" y=\"159.246291\"/>\r\n      </g>\r\n     </g>\r\n     <g id=\"text_28\">\r\n      <!-- 0.2 -->\r\n      <g transform=\"translate(396.619188 163.04551)scale(0.1 -0.1)\">\r\n       <use xlink:href=\"#DejaVuSans-30\"/>\r\n       <use x=\"63.623047\" xlink:href=\"#DejaVuSans-2e\"/>\r\n       <use x=\"95.410156\" xlink:href=\"#DejaVuSans-32\"/>\r\n      </g>\r\n     </g>\r\n    </g>\r\n    <g id=\"ytick_8\">\r\n     <g id=\"line2d_12\">\r\n      <g>\r\n       <use style=\"stroke:#000000;stroke-width:0.8;\" x=\"389.619188\" xlink:href=\"#m41f5ffc7eb\" y=\"125.01425\"/>\r\n      </g>\r\n     </g>\r\n     <g id=\"text_29\">\r\n      <!-- 0.4 -->\r\n      <g transform=\"translate(396.619188 128.813468)scale(0.1 -0.1)\">\r\n       <defs>\r\n        <path d=\"M 2419 4116 \r\nL 825 1625 \r\nL 2419 1625 \r\nL 2419 4116 \r\nz\r\nM 2253 4666 \r\nL 3047 4666 \r\nL 3047 1625 \r\nL 3713 1625 \r\nL 3713 1100 \r\nL 3047 1100 \r\nL 3047 0 \r\nL 2419 0 \r\nL 2419 1100 \r\nL 313 1100 \r\nL 313 1709 \r\nL 2253 4666 \r\nz\r\n\" id=\"DejaVuSans-34\" transform=\"scale(0.015625)\"/>\r\n       </defs>\r\n       <use xlink:href=\"#DejaVuSans-30\"/>\r\n       <use x=\"63.623047\" xlink:href=\"#DejaVuSans-2e\"/>\r\n       <use x=\"95.410156\" xlink:href=\"#DejaVuSans-34\"/>\r\n      </g>\r\n     </g>\r\n    </g>\r\n    <g id=\"ytick_9\">\r\n     <g id=\"line2d_13\">\r\n      <g>\r\n       <use style=\"stroke:#000000;stroke-width:0.8;\" x=\"389.619188\" xlink:href=\"#m41f5ffc7eb\" y=\"90.782208\"/>\r\n      </g>\r\n     </g>\r\n     <g id=\"text_30\">\r\n      <!-- 0.6 -->\r\n      <g transform=\"translate(396.619188 94.581427)scale(0.1 -0.1)\">\r\n       <use xlink:href=\"#DejaVuSans-30\"/>\r\n       <use x=\"63.623047\" xlink:href=\"#DejaVuSans-2e\"/>\r\n       <use x=\"95.410156\" xlink:href=\"#DejaVuSans-36\"/>\r\n      </g>\r\n     </g>\r\n    </g>\r\n    <g id=\"ytick_10\">\r\n     <g id=\"line2d_14\">\r\n      <g>\r\n       <use style=\"stroke:#000000;stroke-width:0.8;\" x=\"389.619188\" xlink:href=\"#m41f5ffc7eb\" y=\"56.550167\"/>\r\n      </g>\r\n     </g>\r\n     <g id=\"text_31\">\r\n      <!-- 0.8 -->\r\n      <g transform=\"translate(396.619188 60.349385)scale(0.1 -0.1)\">\r\n       <use xlink:href=\"#DejaVuSans-30\"/>\r\n       <use x=\"63.623047\" xlink:href=\"#DejaVuSans-2e\"/>\r\n       <use x=\"95.410156\" xlink:href=\"#DejaVuSans-38\"/>\r\n      </g>\r\n     </g>\r\n    </g>\r\n    <g id=\"ytick_11\">\r\n     <g id=\"line2d_15\">\r\n      <g>\r\n       <use style=\"stroke:#000000;stroke-width:0.8;\" x=\"389.619188\" xlink:href=\"#m41f5ffc7eb\" y=\"22.318125\"/>\r\n      </g>\r\n     </g>\r\n     <g id=\"text_32\">\r\n      <!-- 1.0 -->\r\n      <g transform=\"translate(396.619188 26.117344)scale(0.1 -0.1)\">\r\n       <use xlink:href=\"#DejaVuSans-31\"/>\r\n       <use x=\"63.623047\" xlink:href=\"#DejaVuSans-2e\"/>\r\n       <use x=\"95.410156\" xlink:href=\"#DejaVuSans-30\"/>\r\n      </g>\r\n     </g>\r\n    </g>\r\n   </g>\r\n   <g id=\"LineCollection_1\"/>\r\n   <g id=\"patch_5\">\r\n    <path d=\"M 378.747188 239.758125 \r\nL 378.747188 238.90875 \r\nL 378.747188 23.1675 \r\nL 378.747188 22.318125 \r\nL 389.619188 22.318125 \r\nL 389.619188 23.1675 \r\nL 389.619188 238.90875 \r\nL 389.619188 239.758125 \r\nz\r\n\" style=\"fill:none;\"/>\r\n   </g>\r\n  </g>\r\n </g>\r\n <defs>\r\n  <clipPath id=\"pd1c65a2f90\">\r\n   <rect height=\"217.44\" width=\"267.84\" x=\"94.167188\" y=\"22.318125\"/>\r\n  </clipPath>\r\n  <clipPath id=\"p9f0376b793\">\r\n   <rect height=\"217.44\" width=\"10.872\" x=\"378.747188\" y=\"22.318125\"/>\r\n  </clipPath>\r\n </defs>\r\n</svg>\r\n",
      "image/png": "[encoded data removed]"
     },
     "metadata": {
      "needs_background": "light"
     }
    }
   ],
   "source": [
    "viz.heatmap(data='word_stats')"
   ]
  },
  {
   "source": [
    "## 6. SQL Server"
   ],
   "cell_type": "markdown",
   "metadata": {}
  },
  {
   "cell_type": "code",
   "execution_count": 15,
   "metadata": {},
   "outputs": [],
   "source": [
    "from utils.sql_tb import MySQL\n",
    "from utils.folders_tb import read_json\n",
    "\n",
    "settings_file = rootpath + os.sep + 'src' + os.sep + 'utils' + os.sep + 'sql_settings.json'\n",
    "json = read_json(fullpath=settings_file)\n",
    "\n",
    "IP_DNS = json[\"IP_DNS\"]\n",
    "PORT = json[\"PORT\"]\n",
    "USER = json[\"USER\"]\n",
    "PASSWORD = json[\"PASSWORD\"]\n",
    "BD_NAME = json[\"BD_NAME\"]\n",
    "\n",
    "driver = MySQL(IP_DNS, USER, PASSWORD, BD_NAME, PORT)"
   ]
  },
  {
   "cell_type": "code",
   "execution_count": 16,
   "metadata": {
    "tags": [
     "outputPrepend"
    ]
   },
   "outputs": [
    {
     "output_type": "stream",
     "name": "stdout",
     "text": [
      "7.2\", \"68.0\", \"Drama\", \"The Maclean brothers, Paul and Norman, live a relatively idyllic life in rural Montana, spending much of their time fly fishing. The sons of a minister, the boys eventually part company when Norman moves east to attend college, leaving his rebellious brother to find trouble back home. When Norman finally returns, the siblings resume their fishing outings, and assess both where they've been and where they're going.\")\n",
      "\n",
      " successfully\n",
      "(1064, 'You have an error in your SQL syntax; check the manual that corresponds to your MySQL server version for the right syntax to use near \\'Going Down\" offers a glimpse of his personal hell with a wickedly funny twist.\")\\' at line 1')\n",
      "Executed \n",
      "\n",
      "INSERT INTO jorge_garcia_navarro (NETFLIX_ID, NETFLIX_RATING, NUMBER_OF_VOTES, TITLE, IMDBID, YEAR, IMDBRATING, METASCORE, GENRE, PLOT) VALUES (17711, \"6.338342220067863\", 2063, \"The Diary of Ellen Rimbauer\", \"tt0350811\", 2003, \"5.5\", \"0\", \"Drama, Horror, Mystery, Thriller\", \"Set at the turn of the century, this is the tale of Ellen Rimbauer who just received this mysterious mansion as a wedding gift from her new husband. Her husband is a Seattle oil tycoon who has a dark past which Ellen eventually finds out about. She becomes fearful of her husband when she learns of some disappearances of people that were close to him. Also there are some unexplained happenings at the Rose Red Mansion that might have a connection to these people who have disappeared. Now Ellen is worried she might be next.\")\n",
      "\n",
      " successfully\n",
      "(1064, 'You have an error in your SQL syntax; check the manual that corresponds to your MySQL server version for the right syntax to use near \\'Live At Wolf Trap\" captures The Doobie Brothers in fine form on a set that mixes\\' at line 1')\n",
      "Executed \n",
      "\n",
      "INSERT INTO jorge_garcia_navarro (NETFLIX_ID, NETFLIX_RATING, NUMBER_OF_VOTES, TITLE, IMDBID, YEAR, IMDBRATING, METASCORE, GENRE, PLOT) VALUES (17714, \"7.627254509018036\", 6986, \"The Little Mermaid\", \"tt0097757\", 1989, \"7.6\", \"88.0\", \"Animation, Family, Fantasy, Musical, Romance\", \"In Disney's beguiling animated romp, rebellious 16-year-old mermaid Ariel is fascinated with life on land. On one of her visits to the surface, which are forbidden by her controlling father, King Triton, she falls for a human prince. Determined to be with her new love, Ariel makes a dangerous deal with the sea witch Ursula to become human for three days. But when plans go awry for the star-crossed lovers, the king must make the ultimate sacrifice for his daughter.\")\n",
      "\n",
      " successfully\n",
      "Executed \n",
      "\n",
      "INSERT INTO jorge_garcia_navarro (NETFLIX_ID, NETFLIX_RATING, NUMBER_OF_VOTES, TITLE, IMDBID, YEAR, IMDBRATING, METASCORE, GENRE, PLOT) VALUES (17718, \"4.216666666666667\", 120, \"The Delta\", \"tt0116070\", 1996, \"5.4\", \"60.0\", \"Drama\", \"Lincoln, who's not yet 18, leads a straight life most of the time: he has a girl friend, goes to dances, jokes with guys. But he also has a secret life, in which he's drawn to dark places where he has sex with men he doesn't know. One night, while visiting a gay video arcade, he connects with John, a Vietnamese-born gay man, in his 20s probably, whose father was an African-American US soldier. John invites Lincoln to spend some carefree time with him, and Lincoln takes him to his father's boat. John then convinces Lincoln to take the boat into the Mississippi delta, where setting off some fireworks out of season precipitates betrayal and revenge.\")\n",
      "\n",
      " successfully\n",
      "Executed \n",
      "\n",
      "INSERT INTO jorge_garcia_navarro (NETFLIX_ID, NETFLIX_RATING, NUMBER_OF_VOTES, TITLE, IMDBID, YEAR, IMDBRATING, METASCORE, GENRE, PLOT) VALUES (17719, \"5.252631578947368\", 190, \"The Europeans\", \"tt0079123\", 1979, \"6.3\", \"64.0\", \"Drama, Romance\", \"It's the mid-nineteenth century. Adult siblings Felix Young and Eugenia Munster were born and raised in Europe and have a somewhat bohemian lifestyle reflective of their travels throughout Europe. Felix, who has little money, is interested in painting and the arts. Eugenia is a baroness by marriage. They decide to travel to New England to meet their maternal uncle and their three cousins, the Wentworths, for the first time, the Wentworths who live just outside of Boston. The Wentworths are highly puritanical, the uncle in particular who looks to a neighbor, Mr. Brand, to provide a moral compass to his three children, especially the shy Gertrude, who Mr. Brand wants to marry. The Wentworths are somewhat suspicious as to the reason for their relatives' visit, but nonetheless the uncle puts them up in a neighboring house on their property. While Felix enjoys the company of his cousins - especially Gertrude - Eugenia is a bit more standoffish and cognizant of the real reason for their trip to the United States. For Eugenia, another of their uncle's cousins, a Mr. Robert Acton, may just fit the bill related to her goal, which concerns her current marriage and fi0cial security.\")\n",
      "\n",
      " successfully\n",
      "(1064, 'You have an error in your SQL syntax; check the manual that corresponds to your MySQL server version for the right syntax to use near \\'an adventurer of independent means\") from the 17th century. Bobby rescues Jack a\\' at line 1')\n",
      "Executed \n",
      "\n",
      "INSERT INTO jorge_garcia_navarro (NETFLIX_ID, NETFLIX_RATING, NUMBER_OF_VOTES, TITLE, IMDBID, YEAR, IMDBRATING, METASCORE, GENRE, PLOT) VALUES (17723, \"7.302436440677966\", 3776, \"Redemption\", \"tt0436706\", 2004, \"7.9\", \"0\", \"Drama, Short\", \"0\")\n",
      "\n",
      " successfully\n",
      "Executed \n",
      "\n",
      "INSERT INTO jorge_garcia_navarro (NETFLIX_ID, NETFLIX_RATING, NUMBER_OF_VOTES, TITLE, IMDBID, YEAR, IMDBRATING, METASCORE, GENRE, PLOT) VALUES (17724, \"7.740018788163457\", 8516, \"Gettysburg\", \"tt0107007\", 1993, \"7.6\", \"0\", \"Drama, History, War\", \"The four and 1/4 hour depiction of the historical and personal events surrounding and including the decisive American civil war battle features thousands of civil war re-enactors marching over the exact ground that the federal army and the army of North Virginia fought on. The defense of the Little Round Top and Pickett's Charge are highlighted in the actual three day battle which is surrounded by the speeches of the commanding officers and the personal reflections of the fighting men. Based upon the novel 'The Killer Angels'.\")\n",
      "\n",
      " successfully\n",
      "(1064, 'You have an error in your SQL syntax; check the manual that corresponds to your MySQL server version for the right syntax to use near \\'Jellicle\" cats join for a Jellicle ball where they rejoice with their leader, Ol\\' at line 1')\n",
      "Executed \n",
      "\n",
      "INSERT INTO jorge_garcia_navarro (NETFLIX_ID, NETFLIX_RATING, NUMBER_OF_VOTES, TITLE, IMDBID, YEAR, IMDBRATING, METASCORE, GENRE, PLOT) VALUES (17731, \"3.2285714285714286\", 70, \"Death Mask\", \"tt0167107\", 1998, \"4.6\", \"0\", \"Horror\", \"Wilbur works in an old carnival and shows some gruesome things to the puplic. He covered his face because he had a sadistic father who burned his face. Everybody makes jokes about his scars and when the new boss fired him, he go to an old swamp-witch who gives him a peace of wood from a hanging tree and Wilbur makes a mask from this piece of wood and put all his anger in this mask. When he puts the mask on, everybody who looks on this mask commits suicide. He has created the Death-Mask.\")\n",
      "\n",
      " successfully\n",
      "Executed \n",
      "\n",
      "INSERT INTO jorge_garcia_navarro (NETFLIX_ID, NETFLIX_RATING, NUMBER_OF_VOTES, TITLE, IMDBID, YEAR, IMDBRATING, METASCORE, GENRE, PLOT) VALUES (17734, \"6.805369127516778\", 149, \"Shanghai Ghetto\", \"tt0318068\", 2002, \"7.0\", \"68.0\", \"Documentary\", \"Stripped of possessions and rights, German and Eastern European Jews flee to an unlikely destination to avoid persecution from the Nazis.\")\n",
      "\n",
      " successfully\n",
      "Executed \n",
      "\n",
      "INSERT INTO jorge_garcia_navarro (NETFLIX_ID, NETFLIX_RATING, NUMBER_OF_VOTES, TITLE, IMDBID, YEAR, IMDBRATING, METASCORE, GENRE, PLOT) VALUES (17735, \"7.05050505050505\", 99, \"Type O Negative: After Dark\", \"tt0399803\", 1998, \"8.2\", \"0\", \"Music\", \"Go behind the stage with the gothic/metal band Type O Negative. See hilarious tounge-in-cheek humor from all 4 members (also has footage of Sal Abruscato). Also see a huge toilet paper fight with the crowd as Pantera plays on stage. You thought these guys were dark and mysterious? Think again and watch their first (and only, to date) video.\")\n",
      "\n",
      " successfully\n",
      "Executed \n",
      "\n",
      "INSERT INTO jorge_garcia_navarro (NETFLIX_ID, NETFLIX_RATING, NUMBER_OF_VOTES, TITLE, IMDBID, YEAR, IMDBRATING, METASCORE, GENRE, PLOT) VALUES (17738, \"7.485207100591716\", 676, \"Henry Rollins: Live at Luna Park\", \"tt0810896\", 2004, \"7.8\", \"0\", \"Comedy\", \"0\")\n",
      "\n",
      " successfully\n",
      "Executed \n",
      "\n",
      "INSERT INTO jorge_garcia_navarro (NETFLIX_ID, NETFLIX_RATING, NUMBER_OF_VOTES, TITLE, IMDBID, YEAR, IMDBRATING, METASCORE, GENRE, PLOT) VALUES (17741, \"6.574484944532488\", 2524, \"Ginger Snaps 2: Unleashed\", \"tt0353489\", 2004, \"6.4\", \"0\", \"Horror, Thriller\", \"Brigitte's on the run from Bailey Downs, and she tries to prevent what happened to her sister, Ginger, from happening to her by shooting up with monkshood. Eventually she collapses and the police that find assume the monkshood is an illegal drug, and she is sent to rehab. She is deprived of the only thing that will stop her from turning into a beast and killing everyone and everything in her way. She meets a girl who is quiet and not well-liked, and much like herself, by the name of Ghost that helps her deal with her new problem and to escape the werewolf curse.\")\n",
      "\n",
      " successfully\n",
      "Executed \n",
      "\n",
      "INSERT INTO jorge_garcia_navarro (NETFLIX_ID, NETFLIX_RATING, NUMBER_OF_VOTES, TITLE, IMDBID, YEAR, IMDBRATING, METASCORE, GENRE, PLOT) VALUES (17742, \"5.614518147684605\", 799, \"Catherine the Great\", \"tt0112031\", 1995, \"6.2\", \"0\", \"Biography, Drama, History, Romance\", \"In this romanticized biography, a small German principality's inexperienced princess, Catherine, becomes the bride of czarevitch Peter, the mad and abusive nephew and heir of the Russian czarina Elizabeth. From Elizabeth she learns the cynical ropes of wielding absolute imperial power at any cost, including sacrificing her lover, young guards officer Saltykov, who must give her an heir that Peter can't and is then sent abroad. After Elizabeth's death, she quickly moves to seize power with military and court support. She then works to enlarge and modernize the empire, again putting statesmanship ahead of her lover, a military genius who defeats the Ottomans and governs the conquered territories for her.\")\n",
      "\n",
      " successfully\n",
      "Executed \n",
      "\n",
      "INSERT INTO jorge_garcia_navarro (NETFLIX_ID, NETFLIX_RATING, NUMBER_OF_VOTES, TITLE, IMDBID, YEAR, IMDBRATING, METASCORE, GENRE, PLOT) VALUES (17747, \"7.053591790193843\", 877, \"Eric Clapton: 24 Nights\", \"tt0191992\", 1991, \"8.1\", \"0\", \"Documentary, Music\", \"0\")\n",
      "\n",
      " successfully\n",
      "Executed \n",
      "\n",
      "INSERT INTO jorge_garcia_navarro (NETFLIX_ID, NETFLIX_RATING, NUMBER_OF_VOTES, TITLE, IMDBID, YEAR, IMDBRATING, METASCORE, GENRE, PLOT) VALUES (17752, \"5.983074753173484\", 709, \"Out of Order\", \"tt0329476\", 2003, \"6.9\", \"0\", \"Drama, Romance\", \"Mark Colm is a family man torn between his love of his clinically depressed wife and their son and his attraction to another woman with whom he ultimately embarks on a passionate affair.\")\n",
      "\n",
      " successfully\n",
      "Executed \n",
      "\n",
      "INSERT INTO jorge_garcia_navarro (NETFLIX_ID, NETFLIX_RATING, NUMBER_OF_VOTES, TITLE, IMDBID, YEAR, IMDBRATING, METASCORE, GENRE, PLOT) VALUES (17753, \"4.946107784431137\", 167, \"Maslin Beach\", \"tt0229564\", 1997, \"4.8\", \"0\", \"Comedy, Drama, Romance\", \"Fi0ced outside the political funding system now controlling the Australian film industry, Maslin Beach demonstrates an interesting filmmaking strategy - no costumes, no sets, one location and action contained within real time. The film features a huge cast of over forty performers, ranging from noted actors such as Edmund Pegge, Gary Waddell, Nick Gill, Eliza Lovell and Noel Purdon, to cameo performances by table top dancers, sex workers and opera singers - all performing naked for this seaside extravaganza. A day on a beach like no other in the world... Enjoy!\")\n",
      "\n",
      " successfully\n",
      "Executed \n",
      "\n",
      "INSERT INTO jorge_garcia_navarro (NETFLIX_ID, NETFLIX_RATING, NUMBER_OF_VOTES, TITLE, IMDBID, YEAR, IMDBRATING, METASCORE, GENRE, PLOT) VALUES (17754, \"6.48469387755102\", 392, \"On the Ropes\", \"tt0181733\", 1999, \"7.1\", \"80.0\", \"Documentary, Drama, Sport\", \"The story of three young boxers and their coach who is determined to guide them in a positive direction in and out of the ring.\")\n",
      "\n",
      " successfully\n",
      "(1064, 'You have an error in your SQL syntax; check the manual that corresponds to your MySQL server version for the right syntax to use near \\'Mr Memory\"\\'s show in a music hall, he meets Annabella Smith who is running away \\' at line 1')\n",
      "Executed \n",
      "\n",
      "INSERT INTO jorge_garcia_navarro (NETFLIX_ID, NETFLIX_RATING, NUMBER_OF_VOTES, TITLE, IMDBID, YEAR, IMDBRATING, METASCORE, GENRE, PLOT) VALUES (17758, \"5.831061055127445\", 3374, \"Prophecy\", \"tt0079758\", 1979, \"5.5\", \"41.0\", \"Horror, Sci-Fi, Thriller\", \"A Savage beast, grown to monstrous size and driven mad by toxic wastes that are poisoning the waters, spreads terror and death on a Maine countryside.\")\n",
      "\n",
      " successfully\n",
      "(1064, 'You have an error in your SQL syntax; check the manual that corresponds to your MySQL server version for the right syntax to use near \\'The Big Bird Cage\") in which the women risk their lives processing sugar as the \\' at line 1')\n",
      "Executed \n",
      "\n",
      "INSERT INTO jorge_garcia_navarro (NETFLIX_ID, NETFLIX_RATING, NUMBER_OF_VOTES, TITLE, IMDBID, YEAR, IMDBRATING, METASCORE, GENRE, PLOT) VALUES (17760, \"5.616252821670429\", 443, \"Lightning Bug\", \"tt0363768\", 2004, \"6.5\", \"0\", \"Drama\", \"A drama/thriller, set in the South, about a young boy who longs to escape the misery of his childhood and the misunderstanding of his hometown. A gifted, self-taught, special effects make-up artist, Green dreams of going to Hollywood to make his own monsters. But the real demons of Green's life threaten to hold him back: a drunken stepfather who terrorizes his mother, a group of religious fanatics who want to destroy his work, and the love of a girl who can't let go of small town life.\")\n",
      "\n",
      " successfully\n",
      "Executed \n",
      "\n",
      "INSERT INTO jorge_garcia_navarro (NETFLIX_ID, NETFLIX_RATING, NUMBER_OF_VOTES, TITLE, IMDBID, YEAR, IMDBRATING, METASCORE, GENRE, PLOT) VALUES (17761, \"5.836696822083043\", 4311, \"Levity\", \"tt0304328\", 2003, \"6.4\", \"45.0\", \"Crime, Drama\", \"The film philosophical approach at redemption. The protagonist Manual Jordan has gotten parole from a life sentence for the murder of Abner Easley, and returns to the city he lived in to try to seek redemption. He ends up living and working at a community house run by a preacher, Miles Evans. The film is equipped with beautiful voice-overs about the meaning of life and different philosophies for getting redeemed. Manual also becomes friends with Adele Easley, his victims sister, in an attempt to make up for what he did. While working at the home he has interactions with Sofia Mellinger, the druggie daughter of a famous singer, struggling with the lack of adult guidance in her life.\")\n",
      "\n",
      " successfully\n",
      "Executed \n",
      "\n",
      "INSERT INTO jorge_garcia_navarro (NETFLIX_ID, NETFLIX_RATING, NUMBER_OF_VOTES, TITLE, IMDBID, YEAR, IMDBRATING, METASCORE, GENRE, PLOT) VALUES (17762, \"7.291497975708502\", 32110, \"Gattaca\", \"tt0119177\", 1997, \"7.8\", \"64.0\", \"Drama, Sci-Fi, Thriller\", \"In the not-too-distant future, a less-than-perfect man wants to travel to the stars. Society has categorized Vincent Freeman as less than suitable given his genetic make-up and he has become one of the underclass of humans that are only useful for menial jobs. To move ahead, he assumes the identity of Jerome Morrow, a perfect genetic specimen who is a paraplegic as a result of a car accident. With professional advice, Vincent learns to deceive DNA and urine sample testing. Just when he is finally scheduled for a space mission, his program director is killed and the police begin an investigation, jeopardizing his secret.\")\n",
      "\n",
      " successfully\n",
      "Executed \n",
      "\n",
      "INSERT INTO jorge_garcia_navarro (NETFLIX_ID, NETFLIX_RATING, NUMBER_OF_VOTES, TITLE, IMDBID, YEAR, IMDBRATING, METASCORE, GENRE, PLOT) VALUES (17763, \"6.823709759836484\", 1957, \"Interiors\", \"tt0077742\", 1978, \"7.4\", \"67.0\", \"Drama\", \"The story of a very dysfunctional family and what happens when the parents divorce. Eve (Geraldine Page) and Arthur (EG Marshall) are a 60-something couple, recently separated. They have three adult daughters - Renata (Diane Keaton), Joey (Mary Beth Hurt) and Flyn (Kristin Griffith). Renata is a poet and is married to Frederick (Richard Jordan). Joey is (reluctantly) in advertising and is married to Mike (Sam Waterston). Joey is a film and TV actress. Eve is an incredibly negative woman and this has had a toxic effect on her children. This results in stifling, unsupportive relationships and joyless lives.\")\n",
      "\n",
      " successfully\n",
      "Executed \n",
      "\n",
      "INSERT INTO jorge_garcia_navarro (NETFLIX_ID, NETFLIX_RATING, NUMBER_OF_VOTES, TITLE, IMDBID, YEAR, IMDBRATING, METASCORE, GENRE, PLOT) VALUES (17764, \"7.734224179072309\", 64957, \"Shakespeare in Love\", \"tt0138097\", 1998, \"7.1\", \"87.0\", \"Comedy, Drama, History, Romance\", \"Will Shakespeare is a known but struggling poet, playwright and actor who not only has sold his next play to both Philip Henslow and Richard Burbidge but now faces a far more difficult problem: he is bereft of ideas and has yet to begin writing. He is in search of his muse, the woman who will inspire him but all attempts fail him until he meets the beautiful Viola de Lesseps. She loves the theatre and would like nothing more than to take to the stage but is forbidden from doing so as only men can be actors. She is also a great admirer of Shakespeare's works. Dressing as a man and going by the name of Thomas Kent, she auditions and is ideal for a part in his next play. Shakespeare soon sees through her disguise and they begin a love affair, one they know cannot end happily for them as he is already married and she has been promised to the dour Lord Wessex. As the company rehearses his new play, Will and Viola's love is transferred to the written page leading to the masterpiece that is Romeo and Juliet.\")\n",
      "\n",
      " successfully\n",
      "Executed \n",
      "\n",
      "INSERT INTO jorge_garcia_navarro (NETFLIX_ID, NETFLIX_RATING, NUMBER_OF_VOTES, TITLE, IMDBID, YEAR, IMDBRATING, METASCORE, GENRE, PLOT) VALUES (17769, \"4.997184768113795\", 6749, \"The Company\", \"tt0335013\", 2003, \"6.3\", \"73.0\", \"Drama, Music, Romance\", \"An inside look at the world of ballet. With the complete cooperation of the Joffrey Ballet of Chicago, Altman follows the stories of the dancers, whose professional and personal lives grow impossibly close, as they cope with the demands of a life in the ballet. Campbell plays a gifted but conflicted company member on the verge of becoming a principal dancer at a fictional Chicago troupe, with McDowell the company's co-founder and artistic director, considered one of America's most exciting choreographers. Franco plays Campbell's boyfriend and one of the few characters not involved in the world of dance.\")\n",
      "\n",
      " successfully\n",
      "Executed \n",
      "\n",
      "INSERT INTO jorge_garcia_navarro (NETFLIX_ID, NETFLIX_RATING, NUMBER_OF_VOTES, TITLE, IMDBID, YEAR, IMDBRATING, METASCORE, GENRE, PLOT) VALUES (17770, \"5.63300760043431\", 921, \"Alien Hunter\", \"tt0327409\", 2003, \"5.1\", \"0\", \"Action, Adventure, Sci-Fi, Thriller\", \"In 1947, in New Mexico, a radio operator receives a signal following patterns and while investigating the occurrence, he vanishes. In the present days, the same signal is transmitted from a base in the Falkland Islands to United States of America, and a satellite captures images of a unknown object in Antartic. The cryptologist Julien Rome (James Spader) is invited to investigate the mystery in the South Pole, and he flies to a research base. While a team tries to open a weird shell probably from the outer space, Julien solves the message, indeed a distress signal ordering not to open the case.\")\n",
      "\n",
      " successfully\n",
      "Close connection with MySQL server [53814652b_ds_april_2021_db]\n"
     ]
    }
   ],
   "source": [
    "driver.df_to_table('jorge_garcia_navarro', base)"
   ]
  },
  {
   "source": [
    "## 7. Option A Questions\n",
    "\n",
    "### a. Are there outliers or some rare data?\n",
    "Based on the nature of the study on the collected data, the are no outliers to be considered. \n",
    "\n",
    "### b. What are the columns that have more repeated values?\n",
    "Every row on the used Datasets is unique, so the should not be any repeated values. There is an issue pending for future optimization were some similar titles returned the same IMDb ID when merged (eg. The Godfather parts II and III)."
   ],
   "cell_type": "markdown",
   "metadata": {}
  }
 ]
}