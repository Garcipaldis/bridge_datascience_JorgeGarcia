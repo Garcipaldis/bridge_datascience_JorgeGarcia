{
 "metadata": {
  "language_info": {
   "codemirror_mode": {
    "name": "ipython",
    "version": 3
   },
   "file_extension": ".py",
   "mimetype": "text/x-python",
   "name": "python",
   "nbconvert_exporter": "python",
   "pygments_lexer": "ipython3",
   "version": "3.7.4"
  },
  "orig_nbformat": 2,
  "kernelspec": {
   "name": "python374jvsc74a57bd0674dfd6ded4398e0679ff4f65e9a10a54ff0d14801bec0126172cfc3973d1cf1",
   "display_name": "Python 3.7.4 64-bit"
  },
  "metadata": {
   "interpreter": {
    "hash": "674dfd6ded4398e0679ff4f65e9a10a54ff0d14801bec0126172cfc3973d1cf1"
   }
  }
 },
 "nbformat": 4,
 "nbformat_minor": 2,
 "cells": [
  {
   "cell_type": "code",
   "execution_count": 20,
   "metadata": {},
   "outputs": [
    {
     "output_type": "stream",
     "name": "stdout",
     "text": [
      "d:\\Documentos\\TheBridge\\bridge_datascience_JorgeGarcia\\EDA_FINAL\n"
     ]
    }
   ],
   "source": [
    "import os, sys\n",
    "\n",
    "def add_path(num, jupyter=True):\n",
    "    '''Función guardada para poder importar módulos desde otros .py (os.getcwd() si es ipynb).\n",
    "    Args:\n",
    "        - num: indica el número de veces que se va a obtener la ruta superior.\n",
    "    '''\n",
    "    if jupyter:\n",
    "        dirpath = os.getcwd()\n",
    "    else:\n",
    "        dirpath = __file__ # en caso de jupyter se usa os.getcwd()\n",
    "    for i in range(num):\n",
    "        dirpath = os.path.dirname(dirpath)\n",
    "    sys.path.append(dirpath)\n",
    "    return dirpath\n",
    "\n",
    "rootpath = add_path(1)\n",
    "print(rootpath)"
   ]
  },
  {
   "cell_type": "code",
   "execution_count": 2,
   "metadata": {},
   "outputs": [],
   "source": [
    "import pandas as pd"
   ]
  },
  {
   "cell_type": "code",
   "execution_count": 3,
   "metadata": {},
   "outputs": [],
   "source": [
    "data = pd.read_csv(f'{rootpath}/data/MAIN_DATASET.csv')\n",
    "data.drop('Unnamed: 0', axis=1, inplace=True)"
   ]
  },
  {
   "cell_type": "code",
   "execution_count": 13,
   "metadata": {},
   "outputs": [
    {
     "output_type": "execute_result",
     "data": {
      "text/plain": [
       "'(NETFLIX_ID, NETFLIX_RATING, NUMBER_OF_VOTES, TITLE, YEAR, RATED, RELEASED, RUNTIME, GENRE, DIRECTOR, WRITER, ACTORS, PLOT, LANGUAGE, COUNTRY, AWARDS, POSTER, RATINGS, METASCORE, IMDBRATING, IMDBVOTES, IMDBID, TYPE)'"
      ]
     },
     "metadata": {},
     "execution_count": 13
    }
   ],
   "source": [
    "COLS = [col.upper() for col in data.columns]\n",
    "string = '('\n",
    "for col in COLS:\n",
    "    if col == COLS[-1]:\n",
    "        string += col + ')'\n",
    "    else:\n",
    "        string += col + ', '\n",
    "\n",
    "string"
   ]
  },
  {
   "cell_type": "code",
   "execution_count": 28,
   "metadata": {
    "tags": []
   },
   "outputs": [
    {
     "output_type": "stream",
     "name": "stdout",
     "text": [
      "[1, 7.49908592321755, 547, 'Dinosaur Planet', '2003–', nan, '14 Dec 2003', '50 min', 'Documentary, Animation, Family', nan, nan, 'Christian Slater, Scott Sampson', 'A four-episode animated series charting the adventures of four dinosaurs - each on a different continent in the prehistoric world: a lone female Velociraptor in Asia; a young male Daspletosaurus in North America; a South American female Saltasaur; and a young adult Pyroraptor in Europe. Narrated by Christian Slater and hosted by paleontologist Scott Sampson.', 'English', 'USA', 'Won 2 Primetime Emmys. Another 4 nominations.', 'https://m.media-amazon.com/images/M/MV5BNTY2MDk5ODE0OV5BMl5BanBnXkFtZTcwNTMxNzQyMQ@@._V1_SX300.jpg', \"[{'Source': 'Internet Movie Database', 'Value': '7.7/10'}]\", nan, 7.7, '447', 'tt0389605', 'series']\n"
     ]
    }
   ],
   "source": [
    "for i, row in data.iterrows():\n",
    "    print(list(row.values))\n",
    "    break"
   ]
  },
  {
   "cell_type": "code",
   "execution_count": 69,
   "metadata": {},
   "outputs": [],
   "source": [
    "def get_columns(df, lower=False):\n",
    "    if lower:\n",
    "        columns = [col.lower() for col in df.columns]\n",
    "    else:\n",
    "        columns = [col.upper() for col in df.columns]\n",
    "    string_col = ''\n",
    "    for col in columns:\n",
    "        if col == columns[-1]:\n",
    "            string_col += col\n",
    "        else:\n",
    "            string_col += col + ', '\n",
    "    return string_col\n",
    "\n",
    "def change_type(x):\n",
    "    types = {'int64':'INT', 'float64':'FLOAT(24)', 'object':'VARCHAR(255)'}\n",
    "    return types[x]\n",
    "\n",
    "def type_string(data):\n",
    "    t = list(map(change_type, str(data.dtypes).split()[1::2]))\n",
    "    string_type = ''\n",
    "    for i, value in enumerate(t):\n",
    "        if i == len(t)-1:\n",
    "            string_type += value\n",
    "        else:\n",
    "            string_type += value + ', '\n",
    "    return string_type"
   ]
  },
  {
   "cell_type": "code",
   "execution_count": 70,
   "metadata": {},
   "outputs": [],
   "source": [
    "def create_table_query(data, name):\n",
    "    columns = get_columns(data, lower=True).split(', ')\n",
    "    values = type_string(data).split(', ')\n",
    "    pairs = 'ID INT NOT NULL AUTO_INCREMENT '\n",
    "    for p in zip(columns, values):\n",
    "        pairs += p[0] + ' ' + p[1] + ' NOT NULL, '\n",
    "    sql = f\"\"\"CREATE TABLE {name} {pairs}\"\"\"\n",
    "    return sql[:-2]"
   ]
  },
  {
   "cell_type": "code",
   "execution_count": 71,
   "metadata": {},
   "outputs": [],
   "source": [
    "sql = create_table_query(data, 'base')"
   ]
  },
  {
   "cell_type": "code",
   "execution_count": 72,
   "metadata": {},
   "outputs": [
    {
     "output_type": "execute_result",
     "data": {
      "text/plain": [
       "'CREATE TABLE base ID INT NOT NULL AUTO_INCREMENT netflix_id INT NOT NULL, netflix_rating FLOAT(24) NOT NULL, number_of_votes INT NOT NULL, title VARCHAR(255) NOT NULL, year VARCHAR(255) NOT NULL, rated VARCHAR(255) NOT NULL, released VARCHAR(255) NOT NULL, runtime VARCHAR(255) NOT NULL, genre VARCHAR(255) NOT NULL, director VARCHAR(255) NOT NULL, writer VARCHAR(255) NOT NULL, actors VARCHAR(255) NOT NULL, plot VARCHAR(255) NOT NULL, language VARCHAR(255) NOT NULL, country VARCHAR(255) NOT NULL, awards VARCHAR(255) NOT NULL, poster VARCHAR(255) NOT NULL, ratings VARCHAR(255) NOT NULL, metascore FLOAT(24) NOT NULL, imdbrating FLOAT(24) NOT NULL, imdbvotes VARCHAR(255) NOT NULL, imdbid VARCHAR(255) NOT NULL, type VARCHAR(255) NOT NULL'"
      ]
     },
     "metadata": {},
     "execution_count": 72
    }
   ],
   "source": [
    "sql"
   ]
  },
  {
   "cell_type": "code",
   "execution_count": null,
   "metadata": {},
   "outputs": [],
   "source": []
  }
 ]
}