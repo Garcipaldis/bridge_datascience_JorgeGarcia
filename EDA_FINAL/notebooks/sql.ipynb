{
 "metadata": {
  "language_info": {
   "codemirror_mode": {
    "name": "ipython",
    "version": 3
   },
   "file_extension": ".py",
   "mimetype": "text/x-python",
   "name": "python",
   "nbconvert_exporter": "python",
   "pygments_lexer": "ipython3",
   "version": "3.7.4"
  },
  "orig_nbformat": 2,
  "kernelspec": {
   "name": "python374jvsc74a57bd0674dfd6ded4398e0679ff4f65e9a10a54ff0d14801bec0126172cfc3973d1cf1",
   "display_name": "Python 3.7.4 64-bit"
  },
  "metadata": {
   "interpreter": {
    "hash": "674dfd6ded4398e0679ff4f65e9a10a54ff0d14801bec0126172cfc3973d1cf1"
   }
  }
 },
 "nbformat": 4,
 "nbformat_minor": 2,
 "cells": [
  {
   "cell_type": "code",
   "execution_count": 1,
   "metadata": {},
   "outputs": [
    {
     "output_type": "stream",
     "name": "stdout",
     "text": [
      "d:\\Documentos\\TheBridge\\bridge_datascience_JorgeGarcia\\EDA_FINAL\n"
     ]
    }
   ],
   "source": [
    "import os, sys\n",
    "\n",
    "def add_path(num, jupyter=True):\n",
    "    '''Función guardada para poder importar módulos desde otros .py (os.getcwd() si es ipynb).\n",
    "    Args:\n",
    "        - num: indica el número de veces que se va a obtener la ruta superior.\n",
    "    '''\n",
    "    if jupyter:\n",
    "        dirpath = os.getcwd()\n",
    "    else:\n",
    "        dirpath = __file__ # en caso de jupyter se usa os.getcwd()\n",
    "    for i in range(num):\n",
    "        dirpath = os.path.dirname(dirpath)\n",
    "    sys.path.append(dirpath)\n",
    "    return dirpath\n",
    "\n",
    "rootpath = add_path(1)\n",
    "print(rootpath)"
   ]
  },
  {
   "cell_type": "code",
   "execution_count": 2,
   "metadata": {},
   "outputs": [],
   "source": [
    "from src.utils.sql_tb import MySQL\n",
    "from src.utils.folders_tb import read_json"
   ]
  },
  {
   "cell_type": "code",
   "execution_count": 3,
   "metadata": {},
   "outputs": [],
   "source": [
    "import pandas as pd"
   ]
  },
  {
   "cell_type": "code",
   "execution_count": 4,
   "metadata": {},
   "outputs": [],
   "source": [
    "data = pd.read_csv(f'{rootpath}/data/MAIN_DATASET.csv')\n",
    "data.drop('Unnamed: 0', axis=1, inplace=True)"
   ]
  },
  {
   "cell_type": "code",
   "execution_count": 5,
   "metadata": {},
   "outputs": [],
   "source": [
    "settings_file = rootpath + os.sep + 'src' + os.sep + 'utils' + os.sep + 'sql_settings.json'\n",
    "json = read_json(fullpath=settings_file)\n",
    "\n",
    "IP_DNS = json[\"IP_DNS\"]\n",
    "PORT = json[\"PORT\"]\n",
    "USER = json[\"USER\"]\n",
    "PASSWORD = json[\"PASSWORD\"]\n",
    "BD_NAME = json[\"BD_NAME\"]\n",
    "\n",
    "driver = MySQL(IP_DNS, USER, PASSWORD, BD_NAME, PORT)"
   ]
  },
  {
   "cell_type": "code",
   "execution_count": 6,
   "metadata": {
    "tags": [
     "outputPrepend"
    ]
   },
   "outputs": [
    {
     "output_type": "stream",
     "name": "stdout",
     "text": [
      "0399803\", \"movie\")\n",
      "\n",
      " successfully\n",
      "Executed \n",
      "\n",
      "INSERT INTO jorge_garcia_navarro (NETFLIX_ID, NETFLIX_RATING, NUMBER_OF_VOTES, TITLE, YEAR, RATED, RELEASED, RUNTIME, GENRE, DIRECTOR, WRITER, ACTORS, PLOT, LANGUAGE, COUNTRY, AWARDS, POSTER, RATINGS, METASCORE, IMDBRATING, IMDBVOTES, IMDBID, TYPE) VALUES (17738, \"7.485207100591716\", 676, \"Henry Rollins: Live at Luna Park\", 2004, \"0\", \"0\", \"76 min\", \"Comedy\", \"Modi\", \"Henry Rollins\", \"Henry Rollins\", \"0\", \"English\", \"USA\", \"0\", \"https://m.media-amazon.com/images/M/MV5BZDg2ZTk2MDMtMTQ5NC00YzhmLTkxZjYtOTRmMGJjOTY4YjhiXkEyXkFqcGdeQXVyNzc5MDE5NzY@._V1_SX300.jpg\", \"[{'Source': 'Internet Movie Database', 'Value': '7.8/10'}]\", \"0\", \"7.8\", 62, \"tt0810896\", \"movie\")\n",
      "\n",
      " successfully\n",
      "Executed \n",
      "\n",
      "INSERT INTO jorge_garcia_navarro (NETFLIX_ID, NETFLIX_RATING, NUMBER_OF_VOTES, TITLE, YEAR, RATED, RELEASED, RUNTIME, GENRE, DIRECTOR, WRITER, ACTORS, PLOT, LANGUAGE, COUNTRY, AWARDS, POSTER, RATINGS, METASCORE, IMDBRATING, IMDBVOTES, IMDBID, TYPE) VALUES (17741, \"6.574484944532488\", 2524, \"Ginger Snaps 2: Unleashed\", 2004, \"R\", \"30 Jan 2004\", \"94 min\", \"Horror, Thriller\", \"Brett Sullivan\", \"Karen Walton (characters), Megan Martin\", \"Emily Perkins, Brendan Fletcher, Katharine Isabelle, Tatiana Maslany\", \"Brigitte's on the run from Bailey Downs, and she tries to prevent what happened to her sister, Ginger, from happening to her by shooting up with monkshood. Eventually she collapses and the police that find assume the monkshood is an illegal drug, and she is sent to rehab. She is deprived of the only thing that will stop her from turning into a beast and killing everyone and everything in her way. She meets a girl who is quiet and not well-liked, and much like herself, by the name of Ghost that helps her deal with her new problem and to escape the werewolf curse.\", \"English\", \"Canada\", \"3 wins & 2 nominations.\", \"https://m.media-amazon.com/images/M/MV5BMjE1MTIxMTc0MV5BMl5BanBnXkFtZTcwOTIxMjUyMQ@@._V1_SX300.jpg\", \"[{'Source': 'Internet Movie Database', 'Value': '6.4/10'}, {'Source': 'Rotten Tomatoes', 'Value': '88%'}]\", \"0\", \"6.4\", \"12,975\", \"tt0353489\", \"movie\")\n",
      "\n",
      " successfully\n",
      "Executed \n",
      "\n",
      "INSERT INTO jorge_garcia_navarro (NETFLIX_ID, NETFLIX_RATING, NUMBER_OF_VOTES, TITLE, YEAR, RATED, RELEASED, RUNTIME, GENRE, DIRECTOR, WRITER, ACTORS, PLOT, LANGUAGE, COUNTRY, AWARDS, POSTER, RATINGS, METASCORE, IMDBRATING, IMDBVOTES, IMDBID, TYPE) VALUES (17742, \"5.614518147684605\", 799, \"Catherine the Great\", 1995, \"0\", \"28 Apr 1996\", \"100 min\", \"Biography, Drama, History, Romance\", \"Marvin J. Chomsky, John Goldsmith\", \"John Goldsmith, Frank Tudisco\", \"Catherine Zeta-Jones, Paul McGann, Ian Richardson, Brian Blessed\", \"In this romanticized biography, a small German principality's inexperienced princess, Catherine, becomes the bride of czarevitch Peter, the mad and abusive nephew and heir of the Russian czarina Elizabeth. From Elizabeth she learns the cynical ropes of wielding absolute imperial power at any cost, including sacrificing her lover, young guards officer Saltykov, who must give her an heir that Peter can't and is then sent abroad. After Elizabeth's death, she quickly moves to seize power with military and court support. She then works to enlarge and modernize the empire, again putting statesmanship ahead of her lover, a military genius who defeats the Ottomans and governs the conquered territories for her.\", \"English\", \"Germany, Austria, USA\", \"1 win.\", \"https://m.media-amazon.com/images/M/MV5BMjA2Nzg4MTg4MF5BMl5BanBnXkFtZTcwNDc1NjkxMQ@@._V1_SX300.jpg\", \"[{'Source': 'Internet Movie Database', 'Value': '6.2/10'}, {'Source': 'Rotten Tomatoes', 'Value': '46%'}]\", \"0\", \"6.2\", \"1,185\", \"tt0112031\", \"movie\")\n",
      "\n",
      " successfully\n",
      "Executed \n",
      "\n",
      "INSERT INTO jorge_garcia_navarro (NETFLIX_ID, NETFLIX_RATING, NUMBER_OF_VOTES, TITLE, YEAR, RATED, RELEASED, RUNTIME, GENRE, DIRECTOR, WRITER, ACTORS, PLOT, LANGUAGE, COUNTRY, AWARDS, POSTER, RATINGS, METASCORE, IMDBRATING, IMDBVOTES, IMDBID, TYPE) VALUES (17747, \"7.053591790193843\", 877, \"Eric Clapton: 24 Nights\", 1991, \"0\", \"0\", \"90 min\", \"Documentary, Music\", \"Gavin Taylor\", \"0\", \"Eric Clapton, Michael Kamen, Alan Clark, Phil Collins\", \"0\", \"English\", \"UK\", \"0\", \"https://m.media-amazon.com/images/M/MV5BMTQwNzQ0MjY5M15BMl5BanBnXkFtZTcwMDgyNjEyMQ@@._V1_SX300.jpg\", \"[{'Source': 'Internet Movie Database', 'Value': '8.1/10'}]\", \"0\", \"8.1\", 128, \"tt0191992\", \"movie\")\n",
      "\n",
      " successfully\n",
      "Executed \n",
      "\n",
      "INSERT INTO jorge_garcia_navarro (NETFLIX_ID, NETFLIX_RATING, NUMBER_OF_VOTES, TITLE, YEAR, RATED, RELEASED, RUNTIME, GENRE, DIRECTOR, WRITER, ACTORS, PLOT, LANGUAGE, COUNTRY, AWARDS, POSTER, RATINGS, METASCORE, IMDBRATING, IMDBVOTES, IMDBID, TYPE) VALUES (17752, \"5.983074753173484\", 709, \"Out of Order\", 2003, \"R\", \"01 Jun 2003\", \"200 min\", \"Drama, Romance\", \"0\", \"0\", \"Eric Stoltz, Felicity Huffman, Kim Dickens, Dyllan Christopher\", \"Mark Colm is a family man torn between his love of his clinically depressed wife and their son and his attraction to another woman with whom he ultimately embarks on a passionate affair.\", \"English\", \"USA\", \"1 win & 3 nominations.\", \"https://m.media-amazon.com/images/M/MV5BZTQyMjNhMDEtYTZhZi00MzA3LTgzMmMtYjAzYjJjZjBkMGRiXkEyXkFqcGdeQXVyNTE1NjY5Mg@@._V1_SX300.jpg\", \"[{'Source': 'Internet Movie Database', 'Value': '6.9/10'}]\", \"0\", \"6.9\", 677, \"tt0329476\", \"series\")\n",
      "\n",
      " successfully\n",
      "Executed \n",
      "\n",
      "INSERT INTO jorge_garcia_navarro (NETFLIX_ID, NETFLIX_RATING, NUMBER_OF_VOTES, TITLE, YEAR, RATED, RELEASED, RUNTIME, GENRE, DIRECTOR, WRITER, ACTORS, PLOT, LANGUAGE, COUNTRY, AWARDS, POSTER, RATINGS, METASCORE, IMDBRATING, IMDBVOTES, IMDBID, TYPE) VALUES (17753, \"4.946107784431137\", 167, \"Maslin Beach\", 1997, \"Not Rated\", \"0\", \"80 min\", \"Comedy, Drama, Romance\", \"Wayne Groom\", \"Wayne Groom\", \"Michael Allen, Eliza Lovell, Leylah Love, Simon Bond\", \"Fi0ced outside the political funding system now controlling the Australian film industry, Maslin Beach demonstrates an interesting filmmaking strategy - no costumes, no sets, one location and action contained within real time. The film features a huge cast of over forty performers, ranging from noted actors such as Edmund Pegge, Gary Waddell, Nick Gill, Eliza Lovell and Noel Purdon, to cameo performances by table top dancers, sex workers and opera singers - all performing naked for this seaside extravaganza. A day on a beach like no other in the world... Enjoy!\", \"English\", \"Australia\", \"0\", \"https://m.media-amazon.com/images/M/MV5BMTQ4Mjk1ODg1OF5BMl5BanBnXkFtZTcwMTE3NjgxMQ@@._V1_SX300.jpg\", \"[{'Source': 'Internet Movie Database', 'Value': '4.8/10'}, {'Source': 'Rotten Tomatoes', 'Value': '20%'}]\", \"0\", \"4.8\", 323, \"tt0229564\", \"movie\")\n",
      "\n",
      " successfully\n",
      "Executed \n",
      "\n",
      "INSERT INTO jorge_garcia_navarro (NETFLIX_ID, NETFLIX_RATING, NUMBER_OF_VOTES, TITLE, YEAR, RATED, RELEASED, RUNTIME, GENRE, DIRECTOR, WRITER, ACTORS, PLOT, LANGUAGE, COUNTRY, AWARDS, POSTER, RATINGS, METASCORE, IMDBRATING, IMDBVOTES, IMDBID, TYPE) VALUES (17754, \"6.48469387755102\", 392, \"On the Ropes\", 1999, \"0\", \"22 Jan 1999\", \"94 min\", \"Documentary, Drama, Sport\", \"Nanette Burstein, Brett Morgen\", \"0\", \"Sam Doumit, Martin Goldman, Harry Keitt, Randy Little\", \"The story of three young boxers and their coach who is determined to guide them in a positive direction in and out of the ring.\", \"English\", \"USA\", \"Nominated for 1 Oscar. Another 6 wins & 3 nominations.\", \"https://m.media-amazon.com/images/M/MV5BMjEzMTE4MTk0Nl5BMl5BanBnXkFtZTcwOTc5MTYyMQ@@._V1_SX300.jpg\", \"[{'Source': 'Internet Movie Database', 'Value': '7.1/10'}, {'Source': 'Rotten Tomatoes', 'Value': '93%'}, {'Source': 'Metacritic', 'Value': '80/100'}]\", \"80.0\", \"7.1\", 396, \"tt0181733\", \"movie\")\n",
      "\n",
      " successfully\n",
      "(1064, 'You have an error in your SQL syntax; check the manual that corresponds to your MySQL server version for the right syntax to use near \\'Mr Memory\"\\'s show in a music hall, he meets Annabella Smith who is running away \\' at line 1')\n",
      "Executed \n",
      "\n",
      "INSERT INTO jorge_garcia_navarro (NETFLIX_ID, NETFLIX_RATING, NUMBER_OF_VOTES, TITLE, YEAR, RATED, RELEASED, RUNTIME, GENRE, DIRECTOR, WRITER, ACTORS, PLOT, LANGUAGE, COUNTRY, AWARDS, POSTER, RATINGS, METASCORE, IMDBRATING, IMDBVOTES, IMDBID, TYPE) VALUES (17758, \"5.831061055127445\", 3374, \"Prophecy\", 1979, \"PG\", \"22 Aug 1979\", \"102 min\", \"Horror, Sci-Fi, Thriller\", \"John Frankenheimer\", \"David Seltzer\", \"Talia Shire, Robert Foxworth, Armand Assante, Richard Dysart\", \"A Savage beast, grown to monstrous size and driven mad by toxic wastes that are poisoning the waters, spreads terror and death on a Maine countryside.\", \"English\", \"USA\", \"0\", \"https://m.media-amazon.com/images/M/MV5BMjkxNjIwOGEtMzc1ZC00MTdkLWI3YWQtM2VmYzQ1NWMzNzRlXkEyXkFqcGdeQXVyMTQxNzMzNDI@._V1_SX300.jpg\", \"[{'Source': 'Internet Movie Database', 'Value': '5.5/10'}, {'Source': 'Rotten Tomatoes', 'Value': '24%'}, {'Source': 'Metacritic', 'Value': '41/100'}]\", \"41.0\", \"5.5\", \"4,544\", \"tt0079758\", \"movie\")\n",
      "\n",
      " successfully\n",
      "(1064, 'You have an error in your SQL syntax; check the manual that corresponds to your MySQL server version for the right syntax to use near \\'The Big Bird Cage\") in which the women risk their lives processing sugar as the \\' at line 1')\n",
      "Executed \n",
      "\n",
      "INSERT INTO jorge_garcia_navarro (NETFLIX_ID, NETFLIX_RATING, NUMBER_OF_VOTES, TITLE, YEAR, RATED, RELEASED, RUNTIME, GENRE, DIRECTOR, WRITER, ACTORS, PLOT, LANGUAGE, COUNTRY, AWARDS, POSTER, RATINGS, METASCORE, IMDBRATING, IMDBVOTES, IMDBID, TYPE) VALUES (17760, \"5.616252821670429\", 443, \"Lightning Bug\", 2004, \"Not Rated\", \"09 Apr 2004\", \"97 min\", \"Drama\", \"Robert Hall\", \"Robert Hall\", \"Bret Harrison, Laura Prepon, Kevin Gage, Ashley Laurence\", \"A drama/thriller, set in the South, about a young boy who longs to escape the misery of his childhood and the misunderstanding of his hometown. A gifted, self-taught, special effects make-up artist, Green dreams of going to Hollywood to make his own monsters. But the real demons of Green's life threaten to hold him back: a drunken stepfather who terrorizes his mother, a group of religious fanatics who want to destroy his work, and the love of a girl who can't let go of small town life.\", \"English\", \"USA\", \"0\", \"https://m.media-amazon.com/images/M/MV5BMTk3NjI3MzQ4Ml5BMl5BanBnXkFtZTcwMDc5MjAzMQ@@._V1_SX300.jpg\", \"[{'Source': 'Internet Movie Database', 'Value': '6.5/10'}, {'Source': 'Rotten Tomatoes', 'Value': '38%'}]\", \"0\", \"6.5\", \"1,245\", \"tt0363768\", \"movie\")\n",
      "\n",
      " successfully\n",
      "Executed \n",
      "\n",
      "INSERT INTO jorge_garcia_navarro (NETFLIX_ID, NETFLIX_RATING, NUMBER_OF_VOTES, TITLE, YEAR, RATED, RELEASED, RUNTIME, GENRE, DIRECTOR, WRITER, ACTORS, PLOT, LANGUAGE, COUNTRY, AWARDS, POSTER, RATINGS, METASCORE, IMDBRATING, IMDBVOTES, IMDBID, TYPE) VALUES (17761, \"5.836696822083043\", 4311, \"Levity\", 2003, \"R\", \"29 Aug 2003\", \"100 min\", \"Crime, Drama\", \"Ed Solomon\", \"Ed Solomon\", \"Billy Bob Thornton, Morgan Freeman, Holly Hunter, Kirsten Dunst\", \"The film philosophical approach at redemption. The protagonist Manual Jordan has gotten parole from a life sentence for the murder of Abner Easley, and returns to the city he lived in to try to seek redemption. He ends up living and working at a community house run by a preacher, Miles Evans. The film is equipped with beautiful voice-overs about the meaning of life and different philosophies for getting redeemed. Manual also becomes friends with Adele Easley, his victims sister, in an attempt to make up for what he did. While working at the home he has interactions with Sofia Mellinger, the druggie daughter of a famous singer, struggling with the lack of adult guidance in her life.\", \"English\", \"USA, France\", \"1 win.\", \"https://m.media-amazon.com/images/M/MV5BZjIwZWNlOWYtNzAzNy00Y2YwLTkzY2QtMDBhODEwNWE4MzBlXkEyXkFqcGdeQXVyMjA5MTIzMjQ@._V1_SX300.jpg\", \"[{'Source': 'Internet Movie Database', 'Value': '6.4/10'}, {'Source': 'Rotten Tomatoes', 'Value': '34%'}, {'Source': 'Metacritic', 'Value': '45/100'}]\", \"45.0\", \"6.4\", \"6,228\", \"tt0304328\", \"movie\")\n",
      "\n",
      " successfully\n",
      "Executed \n",
      "\n",
      "INSERT INTO jorge_garcia_navarro (NETFLIX_ID, NETFLIX_RATING, NUMBER_OF_VOTES, TITLE, YEAR, RATED, RELEASED, RUNTIME, GENRE, DIRECTOR, WRITER, ACTORS, PLOT, LANGUAGE, COUNTRY, AWARDS, POSTER, RATINGS, METASCORE, IMDBRATING, IMDBVOTES, IMDBID, TYPE) VALUES (17762, \"7.291497975708502\", 32110, \"Gattaca\", 1997, \"PG-13\", \"24 Oct 1997\", \"106 min\", \"Drama, Sci-Fi, Thriller\", \"Andrew Niccol\", \"Andrew Niccol\", \"Ethan Hawke, Uma Thurman, Gore Vidal, Xander Berkeley\", \"In the not-too-distant future, a less-than-perfect man wants to travel to the stars. Society has categorized Vincent Freeman as less than suitable given his genetic make-up and he has become one of the underclass of humans that are only useful for menial jobs. To move ahead, he assumes the identity of Jerome Morrow, a perfect genetic specimen who is a paraplegic as a result of a car accident. With professional advice, Vincent learns to deceive DNA and urine sample testing. Just when he is finally scheduled for a space mission, his program director is killed and the police begin an investigation, jeopardizing his secret.\", \"English, Esperanto\", \"USA\", \"Nominated for 1 Oscar. Another 6 wins & 15 nominations.\", \"https://m.media-amazon.com/images/M/MV5BODI3ZTc5NjktOGMyOC00NjYzLTgwZDYtYmQ4NDc1MmJjMjRlXkEyXkFqcGdeQXVyMTQxNzMzNDI@._V1_SX300.jpg\", \"[{'Source': 'Internet Movie Database', 'Value': '7.8/10'}, {'Source': 'Rotten Tomatoes', 'Value': '83%'}, {'Source': 'Metacritic', 'Value': '64/100'}]\", \"64.0\", \"7.8\", \"284,787\", \"tt0119177\", \"movie\")\n",
      "\n",
      " successfully\n",
      "Executed \n",
      "\n",
      "INSERT INTO jorge_garcia_navarro (NETFLIX_ID, NETFLIX_RATING, NUMBER_OF_VOTES, TITLE, YEAR, RATED, RELEASED, RUNTIME, GENRE, DIRECTOR, WRITER, ACTORS, PLOT, LANGUAGE, COUNTRY, AWARDS, POSTER, RATINGS, METASCORE, IMDBRATING, IMDBVOTES, IMDBID, TYPE) VALUES (17763, \"6.823709759836484\", 1957, \"Interiors\", 1978, \"PG\", \"06 Oct 1978\", \"92 min\", \"Drama\", \"Woody Allen\", \"Woody Allen\", \"Kristin Griffith, Mary Beth Hurt, Richard Jordan, Diane Keaton\", \"The story of a very dysfunctional family and what happens when the parents divorce. Eve (Geraldine Page) and Arthur (EG Marshall) are a 60-something couple, recently separated. They have three adult daughters - Renata (Diane Keaton), Joey (Mary Beth Hurt) and Flyn (Kristin Griffith). Renata is a poet and is married to Frederick (Richard Jordan). Joey is (reluctantly) in advertising and is married to Mike (Sam Waterston). Joey is a film and TV actress. Eve is an incredibly negative woman and this has had a toxic effect on her children. This results in stifling, unsupportive relationships and joyless lives.\", \"English\", \"USA\", \"Nominated for 5 Oscars. Another 9 wins & 12 nominations.\", \"https://m.media-amazon.com/images/M/MV5BODM4MjlmYWItOTYxZS00NDNlLWE5ZTQtNjBmNDIwMjNlMDk0XkEyXkFqcGdeQXVyMTAwMzUyOTc@._V1_SX300.jpg\", \"[{'Source': 'Internet Movie Database', 'Value': '7.4/10'}, {'Source': 'Rotten Tomatoes', 'Value': '79%'}, {'Source': 'Metacritic', 'Value': '67/100'}]\", \"67.0\", \"7.4\", \"18,598\", \"tt0077742\", \"movie\")\n",
      "\n",
      " successfully\n",
      "Executed \n",
      "\n",
      "INSERT INTO jorge_garcia_navarro (NETFLIX_ID, NETFLIX_RATING, NUMBER_OF_VOTES, TITLE, YEAR, RATED, RELEASED, RUNTIME, GENRE, DIRECTOR, WRITER, ACTORS, PLOT, LANGUAGE, COUNTRY, AWARDS, POSTER, RATINGS, METASCORE, IMDBRATING, IMDBVOTES, IMDBID, TYPE) VALUES (17764, \"7.734224179072309\", 64957, \"Shakespeare in Love\", 1998, \"R\", \"08 Jan 1999\", \"123 min\", \"Comedy, Drama, History, Romance\", \"John Madden\", \"Marc Norman, Tom Stoppard\", \"Geoffrey Rush, Tom Wilkinson, Steven O'Donnell, Tim McMullan\", \"Will Shakespeare is a known but struggling poet, playwright and actor who not only has sold his next play to both Philip Henslow and Richard Burbidge but now faces a far more difficult problem: he is bereft of ideas and has yet to begin writing. He is in search of his muse, the woman who will inspire him but all attempts fail him until he meets the beautiful Viola de Lesseps. She loves the theatre and would like nothing more than to take to the stage but is forbidden from doing so as only men can be actors. She is also a great admirer of Shakespeare's works. Dressing as a man and going by the name of Thomas Kent, she auditions and is ideal for a part in his next play. Shakespeare soon sees through her disguise and they begin a love affair, one they know cannot end happily for them as he is already married and she has been promised to the dour Lord Wessex. As the company rehearses his new play, Will and Viola's love is transferred to the written page leading to the masterpiece that is Romeo and Juliet.\", \"English\", \"USA, UK\", \"Won 7 Oscars. Another 57 wins & 87 nominations.\", \"https://m.media-amazon.com/images/M/MV5BM2ZkNjM5MjEtNTBlMC00OTI5LTgyYmEtZDljMzNmNzhiNzY0XkEyXkFqcGdeQXVyNDYyMDk5MTU@._V1_SX300.jpg\", \"[{'Source': 'Internet Movie Database', 'Value': '7.1/10'}, {'Source': 'Rotten Tomatoes', 'Value': '92%'}, {'Source': 'Metacritic', 'Value': '87/100'}]\", \"87.0\", \"7.1\", \"216,199\", \"tt0138097\", \"movie\")\n",
      "\n",
      " successfully\n",
      "Executed \n",
      "\n",
      "INSERT INTO jorge_garcia_navarro (NETFLIX_ID, NETFLIX_RATING, NUMBER_OF_VOTES, TITLE, YEAR, RATED, RELEASED, RUNTIME, GENRE, DIRECTOR, WRITER, ACTORS, PLOT, LANGUAGE, COUNTRY, AWARDS, POSTER, RATINGS, METASCORE, IMDBRATING, IMDBVOTES, IMDBID, TYPE) VALUES (17769, \"4.997184768113795\", 6749, \"The Company\", 2003, \"PG-13\", \"20 May 2004\", \"112 min\", \"Drama, Music, Romance\", \"Robert Altman\", \"Neve Campbell (story), Barbara Turner (story), Barbara Turner (screenplay)\", \"Neve Campbell, Malcolm McDowell, James Franco, Barbara E. Robertson\", \"An inside look at the world of ballet. With the complete cooperation of the Joffrey Ballet of Chicago, Altman follows the stories of the dancers, whose professional and personal lives grow impossibly close, as they cope with the demands of a life in the ballet. Campbell plays a gifted but conflicted company member on the verge of becoming a principal dancer at a fictional Chicago troupe, with McDowell the company's co-founder and artistic director, considered one of America's most exciting choreographers. Franco plays Campbell's boyfriend and one of the few characters not involved in the world of dance.\", \"English\", \"Germany, USA\", \"2 nominations.\", \"https://m.media-amazon.com/images/M/MV5BMTMxOTQzMDYwMV5BMl5BanBnXkFtZTcwMDExNTQyMQ@@._V1_SX300.jpg\", \"[{'Source': 'Internet Movie Database', 'Value': '6.3/10'}, {'Source': 'Rotten Tomatoes', 'Value': '72%'}, {'Source': 'Metacritic', 'Value': '73/100'}]\", \"73.0\", \"6.3\", \"6,256\", \"tt0335013\", \"movie\")\n",
      "\n",
      " successfully\n",
      "Executed \n",
      "\n",
      "INSERT INTO jorge_garcia_navarro (NETFLIX_ID, NETFLIX_RATING, NUMBER_OF_VOTES, TITLE, YEAR, RATED, RELEASED, RUNTIME, GENRE, DIRECTOR, WRITER, ACTORS, PLOT, LANGUAGE, COUNTRY, AWARDS, POSTER, RATINGS, METASCORE, IMDBRATING, IMDBVOTES, IMDBID, TYPE) VALUES (17770, \"5.63300760043431\", 921, \"Alien Hunter\", 2003, \"R\", \"19 Jul 2003\", \"92 min\", \"Action, Adventure, Sci-Fi, Thriller\", \"Ron Krauss\", \"J.S. Cardone (story), Boaz Davidson (story), J.S. Cardone (screenplay)\", \"James Spader, Janine Eser, John Lynch, Nikolai Binev\", \"In 1947, in New Mexico, a radio operator receives a signal following patterns and while investigating the occurrence, he vanishes. In the present days, the same signal is transmitted from a base in the Falkland Islands to United States of America, and a satellite captures images of a unknown object in Antartic. The cryptologist Julien Rome (James Spader) is invited to investigate the mystery in the South Pole, and he flies to a research base. While a team tries to open a weird shell probably from the outer space, Julien solves the message, indeed a distress signal ordering not to open the case.\", \"English, Russian\", \"USA, Bulgaria\", \"0\", \"https://m.media-amazon.com/images/M/MV5BOGMyOGEwYTEtNTRlZS00ZDMxLTk4ZmUtYjdmOGFmMDEzMGQyXkEyXkFqcGdeQXVyODU2MDg1NzU@._V1_SX300.jpg\", \"[{'Source': 'Internet Movie Database', 'Value': '5.1/10'}, {'Source': 'Rotten Tomatoes', 'Value': '16%'}]\", \"0\", \"5.1\", \"4,258\", \"tt0327409\", \"movie\")\n",
      "\n",
      " successfully\n",
      "Close connection with MySQL server [53814652b_ds_april_2021_db]\n"
     ]
    }
   ],
   "source": [
    "driver.df_to_table('jorge_garcia_navarro', data)"
   ]
  },
  {
   "cell_type": "code",
   "execution_count": 13,
   "metadata": {},
   "outputs": [
    {
     "output_type": "execute_result",
     "data": {
      "text/plain": [
       "'(NETFLIX_ID, NETFLIX_RATING, NUMBER_OF_VOTES, TITLE, YEAR, RATED, RELEASED, RUNTIME, GENRE, DIRECTOR, WRITER, ACTORS, PLOT, LANGUAGE, COUNTRY, AWARDS, POSTER, RATINGS, METASCORE, IMDBRATING, IMDBVOTES, IMDBID, TYPE)'"
      ]
     },
     "metadata": {},
     "execution_count": 13
    }
   ],
   "source": [
    "COLS = [col.upper() for col in data.columns]\n",
    "string = '('\n",
    "for col in COLS:\n",
    "    if col == COLS[-1]:\n",
    "        string += col + ')'\n",
    "    else:\n",
    "        string += col + ', '\n",
    "\n",
    "string"
   ]
  },
  {
   "cell_type": "code",
   "execution_count": 14,
   "metadata": {},
   "outputs": [
    {
     "output_type": "execute_result",
     "data": {
      "text/plain": [
       "'\"Dinosaur Planet\"'"
      ]
     },
     "metadata": {},
     "execution_count": 14
    }
   ],
   "source": [
    "def string_quotes(x):\n",
    "    if x.isdigit():\n",
    "        return x\n",
    "    else:\n",
    "        return f'\"{x}\"'\n",
    "\n",
    "string_quotes('Dinosaur Planet')"
   ]
  },
  {
   "cell_type": "code",
   "execution_count": 15,
   "metadata": {
    "tags": []
   },
   "outputs": [
    {
     "output_type": "stream",
     "name": "stdout",
     "text": [
      "['1', '\"7.49908592321755\"', '547', '\"Dinosaur Planet\"', '\"2003–\"', '\"nan\"', '\"14 Dec 2003\"', '\"50 min\"', '\"Documentary, Animation, Family\"', '\"nan\"', '\"nan\"', '\"Christian Slater, Scott Sampson\"', '\"A four-episode animated series charting the adventures of four dinosaurs - each on a different continent in the prehistoric world: a lone female Velociraptor in Asia; a young male Daspletosaurus in North America; a South American female Saltasaur; and a young adult Pyroraptor in Europe. Narrated by Christian Slater and hosted by paleontologist Scott Sampson.\"', '\"English\"', '\"USA\"', '\"Won 2 Primetime Emmys. Another 4 nominations.\"', '\"https://m.media-amazon.com/images/M/MV5BNTY2MDk5ODE0OV5BMl5BanBnXkFtZTcwNTMxNzQyMQ@@._V1_SX300.jpg\"', '\"[{\\'Source\\': \\'Internet Movie Database\\', \\'Value\\': \\'7.7/10\\'}]\"', '\"nan\"', '\"7.7\"', '447', '\"tt0389605\"', '\"series\"']\n"
     ]
    }
   ],
   "source": [
    "for i, row in data.iterrows():\n",
    "    r = list(map(string_quotes, [str(v) for v in row.values]))\n",
    "    print(r)\n",
    "    break"
   ]
  },
  {
   "cell_type": "code",
   "execution_count": 11,
   "metadata": {},
   "outputs": [],
   "source": [
    "def get_columns(df, lower=False):\n",
    "    if lower:\n",
    "        columns = [col.lower() for col in df.columns]\n",
    "    else:\n",
    "        columns = [col.upper() for col in df.columns]\n",
    "    string_col = ''\n",
    "    for col in columns:\n",
    "        if col == columns[-1]:\n",
    "            string_col += col\n",
    "        else:\n",
    "            string_col += col + ', '\n",
    "    return string_col\n",
    "\n",
    "def change_type(x):\n",
    "    types = {'int64':'INT', 'float64':'FLOAT(24)', 'object':'VARCHAR(255)'}\n",
    "    return types[x]\n",
    "\n",
    "def type_string(data):\n",
    "    t = list(map(change_type, str(data.dtypes).split()[1::2]))\n",
    "    string_type = ''\n",
    "    for i, value in enumerate(t):\n",
    "        if i == len(t)-1:\n",
    "            string_type += value\n",
    "        else:\n",
    "            string_type += value + ', '\n",
    "    return string_type"
   ]
  },
  {
   "cell_type": "code",
   "execution_count": 18,
   "metadata": {},
   "outputs": [],
   "source": [
    "def create_table_query(data, name):\n",
    "    columns = get_columns(data, lower=True).split(', ')\n",
    "    values = type_string(data).split(', ')\n",
    "    pairs = 'ID INT NOT NULL AUTO_INCREMENT PRIMARY KEY, '\n",
    "    for p in zip(columns, values):\n",
    "        pairs += p[0] + ' ' + p[1] + ' NOT NULL, '\n",
    "    sql = f\"\"\"CREATE TABLE {name} ({pairs})\"\"\"\n",
    "    return sql[:-3] + ')'"
   ]
  },
  {
   "cell_type": "code",
   "execution_count": 6,
   "metadata": {},
   "outputs": [],
   "source": [
    "settings_file = rootpath + os.sep + 'src' + os.sep + 'utils' + os.sep + 'sql_settings.json'\n",
    "json = read_json(fullpath=settings_file)\n",
    "\n",
    "IP_DNS = json[\"IP_DNS\"]\n",
    "PORT = json[\"PORT\"]\n",
    "USER = json[\"USER\"]\n",
    "PASSWORD = json[\"PASSWORD\"]\n",
    "BD_NAME = json[\"BD_NAME\"]\n",
    "\n",
    "driver = MySQL(IP_DNS, USER, PASSWORD, BD_NAME, PORT)"
   ]
  },
  {
   "cell_type": "code",
   "execution_count": 7,
   "metadata": {},
   "outputs": [],
   "source": [
    "driver = MySQL(IP_DNS, USER, PASSWORD, BD_NAME, PORT)"
   ]
  },
  {
   "cell_type": "code",
   "execution_count": 27,
   "metadata": {},
   "outputs": [
    {
     "output_type": "execute_result",
     "data": {
      "text/plain": [
       "'CREATE TABLE base (ID INT NOT NULL AUTO_INCREMENT PRIMARY KEY, netflix_id INT NOT NULL, netflix_rating FLOAT(24) NOT NULL, number_of_votes INT NOT NULL, title VARCHAR(255) NOT NULL, year VARCHAR(255) NOT NULL, rated VARCHAR(255) NOT NULL, released VARCHAR(255) NOT NULL, runtime VARCHAR(255) NOT NULL, genre VARCHAR(255) NOT NULL, director VARCHAR(255) NOT NULL, writer VARCHAR(255) NOT NULL, actors VARCHAR(255) NOT NULL, plot MEDIUMTEXT NOT NULL, language VARCHAR(255) NOT NULL, country VARCHAR(255) NOT NULL, awards VARCHAR(255) NOT NULL, poster VARCHAR(255) NOT NULL, ratings VARCHAR(255) NOT NULL, metascore FLOAT(24) NOT NULL, imdbrating FLOAT(24) NOT NULL, imdbvotes VARCHAR(255) NOT NULL, imdbid VARCHAR(255) NOT NULL, type VARCHAR(255) NOT NULL)'"
      ]
     },
     "metadata": {},
     "execution_count": 27
    }
   ],
   "source": [
    "creation = driver.generate_create_table('base', data).replace('plot VARCHAR(255)', 'plot MEDIUMTEXT')\n",
    "creation"
   ]
  },
  {
   "cell_type": "code",
   "execution_count": 19,
   "metadata": {},
   "outputs": [],
   "source": [
    "sql = driver.generate_insert_into_row_sql('base', data, r)"
   ]
  },
  {
   "cell_type": "code",
   "execution_count": 39,
   "metadata": {},
   "outputs": [
    {
     "output_type": "stream",
     "name": "stdout",
     "text": [
      "Connected to MySQL server [53814652b_ds_april_2021_db]\nExecuted \n\nINSERT INTO base (NETFLIX_ID, NETFLIX_RATING, NUMBER_OF_VOTES, TITLE, YEAR, RATED, RELEASED, RUNTIME, GENRE, DIRECTOR, WRITER, ACTORS, PLOT, LANGUAGE, COUNTRY, AWARDS, POSTER, RATINGS, METASCORE, IMDBRATING, IMDBVOTES, IMDBID, TYPE) VALUES (1, \"7.49908592321755\", 547, \"Dinosaur Planet\", \"2003–\", \"0\", \"14 Dec 2003\", \"50 min\", \"Documentary, Animation, Family\", \"0\", \"0\", \"Christian Slater, Scott Sampson\", \"A four-episode animated series charting the adventures of four dinosaurs - each on a different continent in the prehistoric world: a lone female Velociraptor in Asia; a young male Daspletosaurus in North America; a South American female Saltasaur; and a young adult Pyroraptor in Europe. Narrated by Christian Slater and hosted by paleontologist Scott Sampson.\", \"English\", \"USA\", \"Won 2 Primetime Emmys. Another 4 nominations.\", \"https://m.media-amazon.com/images/M/MV5BNTY2MDk5ODE0OV5BMl5BanBnXkFtZTcwNTMxNzQyMQ@@._V1_SX300.jpg\", \"[{'Source': 'Internet Movie Database', 'Value': '7.7/10'}]\", \"0\", \"7.7\", 447, \"tt0389605\", \"series\")\n\n successfully\n"
     ]
    },
    {
     "output_type": "execute_result",
     "data": {
      "text/plain": [
       "1"
      ]
     },
     "metadata": {},
     "execution_count": 39
    }
   ],
   "source": [
    "driver.connect()\n",
    "driver.execute_interactive_sql(sql2)"
   ]
  },
  {
   "cell_type": "code",
   "execution_count": 40,
   "metadata": {},
   "outputs": [
    {
     "output_type": "stream",
     "name": "stdout",
     "text": [
      "Close connection with MySQL server [53814652b_ds_april_2021_db]\n"
     ]
    }
   ],
   "source": [
    "driver.close()"
   ]
  },
  {
   "cell_type": "code",
   "execution_count": 37,
   "metadata": {},
   "outputs": [],
   "source": [
    "sql2 = sql.replace('nan', '0')"
   ]
  },
  {
   "cell_type": "code",
   "execution_count": 38,
   "metadata": {},
   "outputs": [
    {
     "output_type": "execute_result",
     "data": {
      "text/plain": [
       "'INSERT INTO base (NETFLIX_ID, NETFLIX_RATING, NUMBER_OF_VOTES, TITLE, YEAR, RATED, RELEASED, RUNTIME, GENRE, DIRECTOR, WRITER, ACTORS, PLOT, LANGUAGE, COUNTRY, AWARDS, POSTER, RATINGS, METASCORE, IMDBRATING, IMDBVOTES, IMDBID, TYPE) VALUES (1, \"7.49908592321755\", 547, \"Dinosaur Planet\", \"2003–\", \"0\", \"14 Dec 2003\", \"50 min\", \"Documentary, Animation, Family\", \"0\", \"0\", \"Christian Slater, Scott Sampson\", \"A four-episode animated series charting the adventures of four dinosaurs - each on a different continent in the prehistoric world: a lone female Velociraptor in Asia; a young male Daspletosaurus in North America; a South American female Saltasaur; and a young adult Pyroraptor in Europe. Narrated by Christian Slater and hosted by paleontologist Scott Sampson.\", \"English\", \"USA\", \"Won 2 Primetime Emmys. Another 4 nominations.\", \"https://m.media-amazon.com/images/M/MV5BNTY2MDk5ODE0OV5BMl5BanBnXkFtZTcwNTMxNzQyMQ@@._V1_SX300.jpg\", \"[{\\'Source\\': \\'Internet Movie Database\\', \\'Value\\': \\'7.7/10\\'}]\", \"0\", \"7.7\", 447, \"tt0389605\", \"series\")'"
      ]
     },
     "metadata": {},
     "execution_count": 38
    }
   ],
   "source": [
    "sql2"
   ]
  },
  {
   "cell_type": "code",
   "execution_count": 41,
   "metadata": {
    "tags": [
     "outputPrepend"
    ]
   },
   "outputs": [
    {
     "output_type": "stream",
     "name": "stdout",
     "text": [
      "1,277\", \"tt0273253\", \"movie\")\n",
      "\n",
      " successfully\n",
      "Executed \n",
      "\n",
      "INSERT INTO base (NETFLIX_ID, NETFLIX_RATING, NUMBER_OF_VOTES, TITLE, YEAR, RATED, RELEASED, RUNTIME, GENRE, DIRECTOR, WRITER, ACTORS, PLOT, LANGUAGE, COUNTRY, AWARDS, POSTER, RATINGS, METASCORE, IMDBRATING, IMDBVOTES, IMDBID, TYPE) VALUES (6901, \"6.610878661087866\", 239, \"Heaven Help Us\", 1985, \"R\", \"08 Feb 1985\", \"104 min\", \"Comedy, Drama, Romance\", \"Michael Dinner\", \"Charles Purpura\", \"Donald Sutherland, John Heard, Andrew McCarthy, Mary Stuart Masterson\", \"Sixteen-year-old Michael Dunn arrives at St. Basil's Catholic Boys School in Brooklyn circa 1965. There, he befriends all of the misfits in his class as they collide with the repressive faculty and discover the opposite sex as they come of age.\", \"English\", \"USA\", \"0\", \"https://m.media-amazon.com/images/M/MV5BZTQ1YTdhYjUtYjVkOC00MzBkLThjMWUtM2YyMzBkZGQ2ZjUwXkEyXkFqcGdeQXVyMTQxNzMzNDI@._V1_SX300.jpg\", \"[{'Source': 'Internet Movie Database', 'Value': '7.0/10'}, {'Source': 'Rotten Tomatoes', 'Value': '33%'}, {'Source': 'Metacritic', 'Value': '64/100'}]\", \"64.0\", \"7.0\", \"4,032\", \"tt0089264\", \"movie\")\n",
      "\n",
      " successfully\n",
      "Executed \n",
      "\n",
      "INSERT INTO base (NETFLIX_ID, NETFLIX_RATING, NUMBER_OF_VOTES, TITLE, YEAR, RATED, RELEASED, RUNTIME, GENRE, DIRECTOR, WRITER, ACTORS, PLOT, LANGUAGE, COUNTRY, AWARDS, POSTER, RATINGS, METASCORE, IMDBRATING, IMDBVOTES, IMDBID, TYPE) VALUES (6902, \"7.482512549179216\", 36855, \"The Big Chill\", 1983, \"R\", \"30 Sep 1983\", \"105 min\", \"Comedy, Drama\", \"Lawrence Kasdan\", \"Lawrence Kasdan, Barbara Benedek\", \"Tom Berenger, Glenn Close, Jeff Goldblum, William Hurt\", \"A seminal Thirty-Something movie in which a group of old college friends who are now all grown up and hardened by the big wide world come together for the funeral of Alex, a barely glimpsed corpse, who was at one time the brightest and the best of them, and yet who never managed to achieve half as much as any of the others. The friends use the occasion to reacquaint themselves with each other and to speculate as to what happened to their idealism which had been abundant when they were younger.\", \"English\", \"USA\", \"Nominated for 3 Oscars. Another 3 wins & 5 nominations.\", \"https://m.media-amazon.com/images/M/MV5BMTA4MjEyMTk5NzheQTJeQWpwZ15BbWU4MDY1NDA1MTAx._V1_SX300.jpg\", \"[{'Source': 'Internet Movie Database', 'Value': '7.2/10'}, {'Source': 'Rotten Tomatoes', 'Value': '69%'}, {'Source': 'Metacritic', 'Value': '61/100'}]\", \"61.0\", \"7.2\", \"33,377\", \"tt0085244\", \"movie\")\n",
      "\n",
      " successfully\n",
      "Executed \n",
      "\n",
      "INSERT INTO base (NETFLIX_ID, NETFLIX_RATING, NUMBER_OF_VOTES, TITLE, YEAR, RATED, RELEASED, RUNTIME, GENRE, DIRECTOR, WRITER, ACTORS, PLOT, LANGUAGE, COUNTRY, AWARDS, POSTER, RATINGS, METASCORE, IMDBRATING, IMDBVOTES, IMDBID, TYPE) VALUES (6903, \"6.651162790697675\", 129, \"American Mormon\", 2005, \"Not Rated\", \"0\", \"45 min\", \"Documentary\", \"Jed Knudsen\", \"Jed Knudsen, Daryn Tufts\", \"Jed Knudsen, Daryn Tufts\", \"In the tradition of The Mouths of Babes, intrepid interviewer Daryn Tufts and filmmaker Jed Knudsen tour the country documenting the hilarious misconceptions people have about Latter-day Saints. From New York to Los Angeles, this sidesplitting collection of man-on-the-street interviews helps answer the question: What in the world do people think of us?\", \"English\", \"USA\", \"0\", \"https://m.media-amazon.com/images/M/MV5BZTNmZTdhOGYtNzk3NS00Y2MzLWI3MTUtMDYzZjIxYTgwMWY3XkEyXkFqcGdeQXVyNTM3MDMyMDQ@._V1_SX300.jpg\", \"[{'Source': 'Internet Movie Database', 'Value': '6.1/10'}]\", \"0\", \"6.1\", 94, \"tt0478903\", \"movie\")\n",
      "\n",
      " successfully\n",
      "Executed \n",
      "\n",
      "INSERT INTO base (NETFLIX_ID, NETFLIX_RATING, NUMBER_OF_VOTES, TITLE, YEAR, RATED, RELEASED, RUNTIME, GENRE, DIRECTOR, WRITER, ACTORS, PLOT, LANGUAGE, COUNTRY, AWARDS, POSTER, RATINGS, METASCORE, IMDBRATING, IMDBVOTES, IMDBID, TYPE) VALUES (6904, \"7.683270249810749\", 6605, \"Standing in the Shadows of Motown\", 2002, \"PG\", \"29 Nov 2002\", \"108 min\", \"Documentary, Music\", \"Paul Justman\", \"Walter Dallas (Narration), Ntozake Shange (Narration), Alan Slutsky (book)\", \"Richard 'Pistol' Allen, Jack Ashford, Bob Babbitt, Benny 'Papa Zita' Benjamin\", \"In 1959, Berry Gordy Jr. gathered the best musicians from Detroit's thriving jazz and blues scene to begin cutting songs for his new record company. Over a fourteen year period they were the heartbeat on every hit from Motown's Detroit era. By the end of their phenomenal run, this unheralded group of musicians had played on more number ones hits than the Beach Boys, the Rolling Stones, Elvis and the Beatles combined - which makes them the greatest hit machine in the history of popular music. They called themselves the Funk Brothers. Forty-one years after they played their first note on a Motown record and three decades since they were all together, the Funk Brothers reunited back in Detroit to play their music and tell their unforgettable story, with the help of archival footage, still photos, narration, interviews, re-creation scenes, 20 Motown master tracks, and twelve new live performances of Motown classics with the Brothers backing up contemporary performers.\", \"English\", \"USA\", \"8 wins & 14 nominations.\", \"https://m.media-amazon.com/images/M/MV5BMTczMzY3NjE3NF5BMl5BanBnXkFtZTYwMjYxMzg5._V1_SX300.jpg\", \"[{'Source': 'Internet Movie Database', 'Value': '7.9/10'}, {'Source': 'Rotten Tomatoes', 'Value': '91%'}, {'Source': 'Metacritic', 'Value': '76/100'}]\", \"76.0\", \"7.9\", \"3,427\", \"tt0314725\", \"movie\")\n",
      "\n",
      " successfully\n",
      "Executed \n",
      "\n",
      "INSERT INTO base (NETFLIX_ID, NETFLIX_RATING, NUMBER_OF_VOTES, TITLE, YEAR, RATED, RELEASED, RUNTIME, GENRE, DIRECTOR, WRITER, ACTORS, PLOT, LANGUAGE, COUNTRY, AWARDS, POSTER, RATINGS, METASCORE, IMDBRATING, IMDBVOTES, IMDBID, TYPE) VALUES (6905, \"6.059347181008902\", 674, \"Eye of God\", 1997, \"R\", \"17 Oct 1997\", \"84 min\", \"Crime, Drama\", \"Tim Blake Nelson\", \"Tim Blake Nelson\", \"Mary Kay Place, Nick Stahl, Chris Freihofer, Woody Watson\", \"We see two stories told over four time lines, which wind down to a devastating ground zero collision, as we watch a double tragedy unfold in a small Oklahoma town. The two stories are told out of normal time sequence, showing us brief glimpses of the beginning, middle and end of the two stories in seemingly random order. One story concerns Ainsley DuPree, who meets and marries her prison pen pal Jack. The other story begins with the discovery of a mute and bloody teenager, found wandering and in shock in the middle of the night, and the efforts of the town sheriff to determine what happened to him. As the film unfolds these tales, the viewer is confronted with questions of the existence and mercy of God and the hopelessness of being alone and adrift in an indifferent world.\", \"English, German\", \"USA\", \"2 wins & 2 nominations.\", \"https://m.media-amazon.com/images/M/MV5BMTc1NTE0MjQ1N15BMl5BanBnXkFtZTcwMTU3NjYxMQ@@._V1_SX300.jpg\", \"[{'Source': 'Internet Movie Database', 'Value': '7.2/10'}, {'Source': 'Rotten Tomatoes', 'Value': '75%'}]\", \"0\", \"7.2\", \"1,132\", \"tt0116261\", \"movie\")\n",
      "\n",
      " successfully\n",
      "(1064, 'You have an error in your SQL syntax; check the manual that corresponds to your MySQL server version for the right syntax to use near \\'Star Trek\"), William Shatner (story), Harve Bennett (story), David Loughery (sto\\' at line 1')\n",
      "Executed \n",
      "\n",
      "INSERT INTO base (NETFLIX_ID, NETFLIX_RATING, NUMBER_OF_VOTES, TITLE, YEAR, RATED, RELEASED, RUNTIME, GENRE, DIRECTOR, WRITER, ACTORS, PLOT, LANGUAGE, COUNTRY, AWARDS, POSTER, RATINGS, METASCORE, IMDBRATING, IMDBVOTES, IMDBID, TYPE) VALUES (6909, \"6.098159509202454\", 163, \"Spin\", 2004, \"0\", \"01 Jan 2004\", \"7 min\", \"Comedy, Short\", \"Danis Goulet\", \"Danis Goulet\", \"Michael Arnott, Pia Regina Brechmann, Ramin Eshraghi-Yazdi, Liz Ikiriko\", \"A love story between a DJ and his most sought-after record.\", \"English\", \"Canada\", \"0\", \"0\", \"[{'Source': 'Internet Movie Database', 'Value': '7.3/10'}]\", \"0\", \"7.3\", 12, \"tt0390505\", \"movie\")\n",
      "\n",
      " successfully\n",
      "Executed \n",
      "\n",
      "INSERT INTO base (NETFLIX_ID, NETFLIX_RATING, NUMBER_OF_VOTES, TITLE, YEAR, RATED, RELEASED, RUNTIME, GENRE, DIRECTOR, WRITER, ACTORS, PLOT, LANGUAGE, COUNTRY, AWARDS, POSTER, RATINGS, METASCORE, IMDBRATING, IMDBVOTES, IMDBID, TYPE) VALUES (6910, \"6.400170375891811\", 9391, \"Down to You\", 2000, \"PG-13\", \"21 Jan 2000\", \"91 min\", \"Comedy, Drama, Romance\", \"Kris Isacsson\", \"Kris Isacsson\", \"Freddie Prinze Jr., Julia Stiles, Selma Blair, Shawn Hatosy\", \"This light-hearted romantic comedy centers tells of love sought, found, lost, and found again, revolving around the lives of two college students in New York City. Sophomore Al Connelly meets the girl of his dreams, freshman Imogen, and true love abounds. The two engage on a whirlwind courtship--they pick a song, eat a cake together, even make love. But Imogen's fear of lost youth causes her to push away from Al, and they go their separate ways. Al attempts to rebound from the relationship, determined to forget Imogen, and he goes to desperate measures to do so. The story is told from the points of view of both Al and Imogen.\", \"English, French\", \"USA\", \"1 win & 4 nominations.\", \"https://m.media-amazon.com/images/M/MV5BMTI3NDIxMTIwMF5BMl5BanBnXkFtZTcwNTQ3MTIyMQ@@._V1_SX300.jpg\", \"[{'Source': 'Internet Movie Database', 'Value': '5.0/10'}, {'Source': 'Rotten Tomatoes', 'Value': '3%'}, {'Source': 'Metacritic', 'Value': '13/100'}]\", \"13.0\", \"5.0\", \"14,469\", \"tt0186975\", \"movie\")\n",
      "\n",
      " successfully\n",
      "(1064, 'You have an error in your SQL syntax; check the manual that corresponds to your MySQL server version for the right syntax to use near \\'Little Shop of Horrors\"), Roger Corman (based on the film by), Charles B. Griffi\\' at line 1')\n",
      "(1064, 'You have an error in your SQL syntax; check the manual that corresponds to your MySQL server version for the right syntax to use near \\'Little Shop of Horrors\"), Roger Corman (based on the film by), Charles B. Griffi\\' at line 1')\n",
      "Executed \n",
      "\n",
      "INSERT INTO base (NETFLIX_ID, NETFLIX_RATING, NUMBER_OF_VOTES, TITLE, YEAR, RATED, RELEASED, RUNTIME, GENRE, DIRECTOR, WRITER, ACTORS, PLOT, LANGUAGE, COUNTRY, AWARDS, POSTER, RATINGS, METASCORE, IMDBRATING, IMDBVOTES, IMDBID, TYPE) VALUES (6912, \"7.288648648648649\", 3700, \"The Taking of Pelham One Two Three\", 1974, \"R\", \"14 Nov 1974\", \"104 min\", \"Action, Crime, Thriller\", \"Joseph Sargent\", \"John Godey (novel), Peter Stone (screenplay)\", \"Walter Matthau, Robert Shaw, Martin Balsam, Hector Elizondo\", \"Four seemingly-unrelated men board subway train Pelham 1:23 at successive stations. Mr. Blue, Mr. Green, Mr. Grey and Mr. Brown are heavily armed and overpower the motorman and novice conductor to take control of the train. Between stations they separate the front car from the remainder of the train, setting passengers in the back cars and the motorman free. The four demand $1 million ransom within exactly one hour for the remaining eighteen hostages, including the conductor. If their demands are not met in time or their directions are not followed precisely, they will begin to shoot hostages dead, one every minute the money is late. Wisecracking Lt. Zach Garber of the transit police ends up being the primary communicator between the hijackers and the authorities, which includes transit operations, his own police force, the NYPD, and the unpopular and currently flu ridden mayor who will make the ultimate decision of whether to pay the ransom. Unknown to Garber, what may be working on their side is the disparate nature of the four hijackers, including methodical and unbending Blue, trigger happy Grey, and also under the weather Green, who may pass out before the caper has concluded. What Garber does know is that there is a plain clothes NYPD officer among the eighteen hostages. What Garber has to try and figure out is how the four hijackers can possibly get away, as they are in a tunnel and have to remain with the train since it has a dead-man mechanism which requires a motorman at the controls at all times.\", \"English, Spanish\", \"USA\", \"Nominated for 1 BAFTA Film Award. Another 2 nominations.\", \"https://m.media-amazon.com/images/M/MV5BMjE1NDY0NDk3Ml5BMl5BanBnXkFtZTcwMTAzMTM3NA@@._V1_SX300.jpg\", \"[{'Source': 'Internet Movie Database', 'Value': '7.7/10'}, {'Source': 'Rotten Tomatoes', 'Value': '100%'}, {'Source': 'Metacritic', 'Value': '68/100'}]\", \"68.0\", \"7.7\", \"27,095\", \"tt0072251\", \"movie\")\n",
      "\n",
      " successfully\n",
      "Executed \n",
      "\n",
      "INSERT INTO base (NETFLIX_ID, NETFLIX_RATING, NUMBER_OF_VOTES, TITLE, YEAR, RATED, RELEASED, RUNTIME, GENRE, DIRECTOR, WRITER, ACTORS, PLOT, LANGUAGE, COUNTRY, AWARDS, POSTER, RATINGS, METASCORE, IMDBRATING, IMDBVOTES, IMDBID, TYPE) VALUES (6913, \"7.1786395422759055\", 1573, \"The Defender\", 2004, \"R\", \"18 Oct 2005\", \"90 min\", \"Action\", \"Dolph Lundgren\", \"Douglas W. Miller\", \"Dolph Lundgren, Jerry Springer, Shakara Ledard, Thomas Lockyer\", \"Today - the global war on terror rages on. The United States will not give an inch against terrorists, especially Mohamed Jamar, considered to be the worst of them all. Jamar has been missing for months, but his network continues its function. The President stands firm before the world, but behind the scenes his teams are working to find the final solution. Jamar represents a paradox: he can never be killed, because if found dead he would become an instant martyr. If caught he must be tried. If he is found guilty he would become a martyr and further inspiration to acts of terror. If acquitted, the policies of the entire western world would be destroyed. So he must remain invisible. Roberta Jones, the head of the National Security Agency, is working to ensure he remains invisible, forever. Under the guise of attending an Eastern European conference on Terror in Romania, she attends a secret meeting with Jamar at a secluded hotel outside Bucharest. No one knows about this meeting and her goal is to buy his invisibility. Her only companions are her security team of six headed by her personal bodyguard, Lance Rockford. They are the best of the best, former military special forces personnel capable of anything. When they arrive at the hotel for the secret meeting they are ambushed no one is supposed to know about the meeting, but someone wants it stopped. They have to fight for their lives against an unknown attacker. Lance, a man of highest integrity with an impressive record of service for his country, is forced into a situation which challenges his very beliefs...\", \"English\", \"USA, UK, Germany, Romania\", \"0\", \"https://m.media-amazon.com/images/M/MV5BYmJiMTdiNjItNTY0ZC00NjY2LWIwNjItMzM2M2YzOGU5NDBjXkEyXkFqcGdeQXVyMDI4NjM1MQ@@._V1_SX300.jpg\", \"[{'Source': 'Internet Movie Database', 'Value': '4.9/10'}, {'Source': 'Rotten Tomatoes', 'Value': '34%'}]\", \"0\", \"4.9\", \"1,558\", \"tt0402127\", \"movie\")\n",
      "\n",
      " successfully\n",
      "Executed \n",
      "\n",
      "INSERT INTO base (NETFLIX_ID, NETFLIX_RATING, NUMBER_OF_VOTES, TITLE, YEAR, RATED, RELEASED, RUNTIME, GENRE, DIRECTOR, WRITER, ACTORS, PLOT, LANGUAGE, COUNTRY, AWARDS, POSTER, RATINGS, METASCORE, IMDBRATING, IMDBVOTES, IMDBID, TYPE) VALUES (10351, \"5.153846153846154\", 130, \"The Defender\", 2004, \"R\", \"18 Oct 2005\", \"90 min\", \"Action\", \"Dolph Lundgren\", \"Douglas W. Miller\", \"Dolph Lundgren, Jerry Springer, Shakara Ledard, Thomas Lockyer\", \"Today - the global war on terror rages on. The United States will not give an inch against terrorists, especially Mohamed Jamar, considered to be the worst of them all. Jamar has been missing for months, but his network continues its function. The President stands firm before the world, but behind the scenes his teams are working to find the final solution. Jamar represents a paradox: he can never be killed, because if found dead he would become an instant martyr. If caught he must be tried. If he is found guilty he would become a martyr and further inspiration to acts of terror. If acquitted, the policies of the entire western world would be destroyed. So he must remain invisible. Roberta Jones, the head of the National Security Agency, is working to ensure he remains invisible, forever. Under the guise of attending an Eastern European conference on Terror in Romania, she attends a secret meeting with Jamar at a secluded hotel outside Bucharest. No one knows about this meeting and her goal is to buy his invisibility. Her only companions are her security team of six headed by her personal bodyguard, Lance Rockford. They are the best of the best, former military special forces personnel capable of anything. When they arrive at the hotel for the secret meeting they are ambushed no one is supposed to know about the meeting, but someone wants it stopped. They have to fight for their lives against an unknown attacker. Lance, a man of highest integrity with an impressive record of service for his country, is forced into a situation which challenges his very beliefs...\", \"English\", \"USA, UK, Germany, Romania\", \"0\", \"https://m.media-amazon.com/images/M/MV5BYmJiMTdiNjItNTY0ZC00NjY2LWIwNjItMzM2M2YzOGU5NDBjXkEyXkFqcGdeQXVyMDI4NjM1MQ@@._V1_SX300.jpg\", \"[{'Source': 'Internet Movie Database', 'Value': '4.9/10'}, {'Source': 'Rotten Tomatoes', 'Value': '34%'}]\", \"0\", \"4.9\", \"1,558\", \"tt0402127\", \"movie\")\n",
      "\n",
      " successfully\n",
      "Executed \n",
      "\n",
      "INSERT INTO base (NETFLIX_ID, NETFLIX_RATING, NUMBER_OF_VOTES, TITLE, YEAR, RATED, RELEASED, RUNTIME, GENRE, DIRECTOR, WRITER, ACTORS, PLOT, LANGUAGE, COUNTRY, AWARDS, POSTER, RATINGS, METASCORE, IMDBRATING, IMDBVOTES, IMDBID, TYPE) VALUES (6914, \"6.4817073170731705\", 656, \"The Swimmer\", 1968, \"M/PG\", \"09 Aug 1968\", \"95 min\", \"Drama\", \"Frank Perry, Sydney Pollack\", \"Eleanor Perry (screenplay), John Cheever (story)\", \"Burt Lancaster, Janet Landgard, Janice Rule, Tony Bickley\", \"Neddy Merrill has been away for most of the Summer. He reappears at a friend's pool. As they talk, someone notices that there are pools spanning the entire valley. He decided to jog from pool to pool to swim across the whole valley. As he stops in each pool his interactions tell his life story.\", \"English\", \"USA\", \"1 win.\", \"https://m.media-amazon.com/images/M/MV5BNjJiMmM1N2MtNTczMS00ZDY5LTg0Y2YtYzQ5YmE3MjMyYjM4XkEyXkFqcGdeQXVyMjUzOTY1NTc@._V1_SX300.jpg\", \"[{'Source': 'Internet Movie Database', 'Value': '7.7/10'}, {'Source': 'Rotten Tomatoes', 'Value': '100%'}]\", \"0\", \"7.7\", \"10,333\", \"tt0063663\", \"movie\")\n",
      "\n",
      " successfully\n",
      "Executed \n",
      "\n",
      "INSERT INTO base (NETFLIX_ID, NETFLIX_RATING, NUMBER_OF_VOTES, TITLE, YEAR, RATED, RELEASED, RUNTIME, GENRE, DIRECTOR, WRITER, ACTORS, PLOT, LANGUAGE, COUNTRY, AWARDS, POSTER, RATINGS, METASCORE, IMDBRATING, IMDBVOTES, IMDBID, TYPE) VALUES (6915, \"6.8549545236955485\", 2089, \"Path to War\", 2002, \"Not Rated\", \"18 May 2002\", \"165 min\", \"Biography, Drama, War\", \"John Frankenheimer\", \"Daniel Giat\", \"Michael Gambon, Donald Sutherland, Alec Baldwin, Bruce McGill\", \"A portrayal of the Johnson presidency and its spiraling descent into the Vietnam War. Acting on often conflicting advice from his Secretary of Defense, Robert McNamara and other advisers, President Johnson finds his domestic policy agenda for the Great Society overtaken by an ever demanding commitment to ending the war. It also depicts his political skills as he crosses swords with political foes such as Bobby Kennedy and Governor George Wallace. Despite support and encouragement from stalwart friends such as Clark Clifford, Johnson realizes his management of the war no longer has the confidence of the American people and announces that he will not seek the nomination of the Democratic party for the the 1968 election.\", \"English\", \"USA\", \"Won 1 Golden Globe. Another 27 nominations.\", \"https://m.media-amazon.com/images/M/MV5BNjE1NDU1MDU5NF5BMl5BanBnXkFtZTYwMzgwNTk5._V1_SX300.jpg\", \"[{'Source': 'Internet Movie Database', 'Value': '7.3/10'}, {'Source': 'Rotten Tomatoes', 'Value': '100%'}]\", \"0\", \"7.3\", \"3,246\", \"tt0218505\", \"movie\")\n",
      "\n",
      " successfully\n",
      "(1064, 'You have an error in your SQL syntax; check the manual that corresponds to your MySQL server version for the right syntax to use near \\'George Stark\". When blackmailed by someone who has discovered his secret, Thad p\\' at line 1')\n"
     ]
    },
    {
     "output_type": "error",
     "ename": "KeyboardInterrupt",
     "evalue": "",
     "traceback": [
      "\u001b[1;31m---------------------------------------------------------------------------\u001b[0m",
      "\u001b[1;31mKeyboardInterrupt\u001b[0m                         Traceback (most recent call last)",
      "\u001b[1;32m<ipython-input-41-8bd6502852de>\u001b[0m in \u001b[0;36m<module>\u001b[1;34m\u001b[0m\n\u001b[0;32m      4\u001b[0m     \u001b[0msql\u001b[0m \u001b[1;33m=\u001b[0m \u001b[0mdriver\u001b[0m\u001b[1;33m.\u001b[0m\u001b[0mgenerate_insert_into_row_sql\u001b[0m\u001b[1;33m(\u001b[0m\u001b[1;34m'base'\u001b[0m\u001b[1;33m,\u001b[0m \u001b[0mdata\u001b[0m\u001b[1;33m,\u001b[0m \u001b[0mr\u001b[0m\u001b[1;33m)\u001b[0m\u001b[1;33m\u001b[0m\u001b[1;33m\u001b[0m\u001b[0m\n\u001b[0;32m      5\u001b[0m     \u001b[0msql\u001b[0m \u001b[1;33m=\u001b[0m \u001b[0msql\u001b[0m\u001b[1;33m.\u001b[0m\u001b[0mreplace\u001b[0m\u001b[1;33m(\u001b[0m\u001b[1;34m'nan'\u001b[0m\u001b[1;33m,\u001b[0m \u001b[1;34m'0'\u001b[0m\u001b[1;33m)\u001b[0m\u001b[1;33m\u001b[0m\u001b[1;33m\u001b[0m\u001b[0m\n\u001b[1;32m----> 6\u001b[1;33m     \u001b[0mdriver\u001b[0m\u001b[1;33m.\u001b[0m\u001b[0mexecute_interactive_sql\u001b[0m\u001b[1;33m(\u001b[0m\u001b[0msql\u001b[0m\u001b[1;33m)\u001b[0m\u001b[1;33m\u001b[0m\u001b[1;33m\u001b[0m\u001b[0m\n\u001b[0m\u001b[0;32m      7\u001b[0m \u001b[1;33m\u001b[0m\u001b[0m\n\u001b[0;32m      8\u001b[0m \u001b[0mdriver\u001b[0m\u001b[1;33m.\u001b[0m\u001b[0mclose\u001b[0m\u001b[1;33m(\u001b[0m\u001b[1;33m)\u001b[0m\u001b[1;33m\u001b[0m\u001b[1;33m\u001b[0m\u001b[0m\n",
      "\u001b[1;32md:\\Documentos\\TheBridge\\bridge_datascience_JorgeGarcia\\EDA_FINAL\\src\\utils\\sql_tb.py\u001b[0m in \u001b[0;36mexecute_interactive_sql\u001b[1;34m(self, sql, delete)\u001b[0m\n\u001b[0;32m     51\u001b[0m             \u001b[0mself\u001b[0m\u001b[1;33m.\u001b[0m\u001b[0mcursor\u001b[0m\u001b[1;33m.\u001b[0m\u001b[0mexecute\u001b[0m\u001b[1;33m(\u001b[0m\u001b[0msql\u001b[0m\u001b[1;33m)\u001b[0m\u001b[1;33m\u001b[0m\u001b[1;33m\u001b[0m\u001b[0m\n\u001b[0;32m     52\u001b[0m             \u001b[1;31m# Commit your changes in the database\u001b[0m\u001b[1;33m\u001b[0m\u001b[1;33m\u001b[0m\u001b[1;33m\u001b[0m\u001b[0m\n\u001b[1;32m---> 53\u001b[1;33m             \u001b[0mself\u001b[0m\u001b[1;33m.\u001b[0m\u001b[0mdb\u001b[0m\u001b[1;33m.\u001b[0m\u001b[0mcommit\u001b[0m\u001b[1;33m(\u001b[0m\u001b[1;33m)\u001b[0m\u001b[1;33m\u001b[0m\u001b[1;33m\u001b[0m\u001b[0m\n\u001b[0m\u001b[0;32m     54\u001b[0m             \u001b[0mprint\u001b[0m\u001b[1;33m(\u001b[0m\u001b[1;34m\"Executed \\n\\n\"\u001b[0m \u001b[1;33m+\u001b[0m \u001b[0mstr\u001b[0m\u001b[1;33m(\u001b[0m\u001b[0msql\u001b[0m\u001b[1;33m)\u001b[0m \u001b[1;33m+\u001b[0m \u001b[1;34m\"\\n\\n successfully\"\u001b[0m\u001b[1;33m)\u001b[0m\u001b[1;33m\u001b[0m\u001b[1;33m\u001b[0m\u001b[0m\n\u001b[0;32m     55\u001b[0m             \u001b[0mresult\u001b[0m \u001b[1;33m=\u001b[0m \u001b[1;36m1\u001b[0m\u001b[1;33m\u001b[0m\u001b[1;33m\u001b[0m\u001b[0m\n",
      "\u001b[1;32m~\\AppData\\Local\\Programs\\Python\\Python37\\lib\\site-packages\\pymysql\\connections.py\u001b[0m in \u001b[0;36mcommit\u001b[1;34m(self)\u001b[0m\n\u001b[0;32m    468\u001b[0m         \"\"\"\n\u001b[0;32m    469\u001b[0m         \u001b[0mself\u001b[0m\u001b[1;33m.\u001b[0m\u001b[0m_execute_command\u001b[0m\u001b[1;33m(\u001b[0m\u001b[0mCOMMAND\u001b[0m\u001b[1;33m.\u001b[0m\u001b[0mCOM_QUERY\u001b[0m\u001b[1;33m,\u001b[0m \u001b[1;34m\"COMMIT\"\u001b[0m\u001b[1;33m)\u001b[0m\u001b[1;33m\u001b[0m\u001b[1;33m\u001b[0m\u001b[0m\n\u001b[1;32m--> 470\u001b[1;33m         \u001b[0mself\u001b[0m\u001b[1;33m.\u001b[0m\u001b[0m_read_ok_packet\u001b[0m\u001b[1;33m(\u001b[0m\u001b[1;33m)\u001b[0m\u001b[1;33m\u001b[0m\u001b[1;33m\u001b[0m\u001b[0m\n\u001b[0m\u001b[0;32m    471\u001b[0m \u001b[1;33m\u001b[0m\u001b[0m\n\u001b[0;32m    472\u001b[0m     \u001b[1;32mdef\u001b[0m \u001b[0mrollback\u001b[0m\u001b[1;33m(\u001b[0m\u001b[0mself\u001b[0m\u001b[1;33m)\u001b[0m\u001b[1;33m:\u001b[0m\u001b[1;33m\u001b[0m\u001b[1;33m\u001b[0m\u001b[0m\n",
      "\u001b[1;32m~\\AppData\\Local\\Programs\\Python\\Python37\\lib\\site-packages\\pymysql\\connections.py\u001b[0m in \u001b[0;36m_read_ok_packet\u001b[1;34m(self)\u001b[0m\n\u001b[0;32m    441\u001b[0m \u001b[1;33m\u001b[0m\u001b[0m\n\u001b[0;32m    442\u001b[0m     \u001b[1;32mdef\u001b[0m \u001b[0m_read_ok_packet\u001b[0m\u001b[1;33m(\u001b[0m\u001b[0mself\u001b[0m\u001b[1;33m)\u001b[0m\u001b[1;33m:\u001b[0m\u001b[1;33m\u001b[0m\u001b[1;33m\u001b[0m\u001b[0m\n\u001b[1;32m--> 443\u001b[1;33m         \u001b[0mpkt\u001b[0m \u001b[1;33m=\u001b[0m \u001b[0mself\u001b[0m\u001b[1;33m.\u001b[0m\u001b[0m_read_packet\u001b[0m\u001b[1;33m(\u001b[0m\u001b[1;33m)\u001b[0m\u001b[1;33m\u001b[0m\u001b[1;33m\u001b[0m\u001b[0m\n\u001b[0m\u001b[0;32m    444\u001b[0m         \u001b[1;32mif\u001b[0m \u001b[1;32mnot\u001b[0m \u001b[0mpkt\u001b[0m\u001b[1;33m.\u001b[0m\u001b[0mis_ok_packet\u001b[0m\u001b[1;33m(\u001b[0m\u001b[1;33m)\u001b[0m\u001b[1;33m:\u001b[0m\u001b[1;33m\u001b[0m\u001b[1;33m\u001b[0m\u001b[0m\n\u001b[0;32m    445\u001b[0m             \u001b[1;32mraise\u001b[0m \u001b[0merr\u001b[0m\u001b[1;33m.\u001b[0m\u001b[0mOperationalError\u001b[0m\u001b[1;33m(\u001b[0m\u001b[1;36m2014\u001b[0m\u001b[1;33m,\u001b[0m \u001b[1;34m\"Command Out of Sync\"\u001b[0m\u001b[1;33m)\u001b[0m\u001b[1;33m\u001b[0m\u001b[1;33m\u001b[0m\u001b[0m\n",
      "\u001b[1;32m~\\AppData\\Local\\Programs\\Python\\Python37\\lib\\site-packages\\pymysql\\connections.py\u001b[0m in \u001b[0;36m_read_packet\u001b[1;34m(self, packet_type)\u001b[0m\n\u001b[0;32m    690\u001b[0m         \u001b[0mbuff\u001b[0m \u001b[1;33m=\u001b[0m \u001b[0mbytearray\u001b[0m\u001b[1;33m(\u001b[0m\u001b[1;33m)\u001b[0m\u001b[1;33m\u001b[0m\u001b[1;33m\u001b[0m\u001b[0m\n\u001b[0;32m    691\u001b[0m         \u001b[1;32mwhile\u001b[0m \u001b[1;32mTrue\u001b[0m\u001b[1;33m:\u001b[0m\u001b[1;33m\u001b[0m\u001b[1;33m\u001b[0m\u001b[0m\n\u001b[1;32m--> 692\u001b[1;33m             \u001b[0mpacket_header\u001b[0m \u001b[1;33m=\u001b[0m \u001b[0mself\u001b[0m\u001b[1;33m.\u001b[0m\u001b[0m_read_bytes\u001b[0m\u001b[1;33m(\u001b[0m\u001b[1;36m4\u001b[0m\u001b[1;33m)\u001b[0m\u001b[1;33m\u001b[0m\u001b[1;33m\u001b[0m\u001b[0m\n\u001b[0m\u001b[0;32m    693\u001b[0m             \u001b[1;31m# if DEBUG: dump_packet(packet_header)\u001b[0m\u001b[1;33m\u001b[0m\u001b[1;33m\u001b[0m\u001b[1;33m\u001b[0m\u001b[0m\n\u001b[0;32m    694\u001b[0m \u001b[1;33m\u001b[0m\u001b[0m\n",
      "\u001b[1;32m~\\AppData\\Local\\Programs\\Python\\Python37\\lib\\site-packages\\pymysql\\connections.py\u001b[0m in \u001b[0;36m_read_bytes\u001b[1;34m(self, num_bytes)\u001b[0m\n\u001b[0;32m    730\u001b[0m         \u001b[1;32mwhile\u001b[0m \u001b[1;32mTrue\u001b[0m\u001b[1;33m:\u001b[0m\u001b[1;33m\u001b[0m\u001b[1;33m\u001b[0m\u001b[0m\n\u001b[0;32m    731\u001b[0m             \u001b[1;32mtry\u001b[0m\u001b[1;33m:\u001b[0m\u001b[1;33m\u001b[0m\u001b[1;33m\u001b[0m\u001b[0m\n\u001b[1;32m--> 732\u001b[1;33m                 \u001b[0mdata\u001b[0m \u001b[1;33m=\u001b[0m \u001b[0mself\u001b[0m\u001b[1;33m.\u001b[0m\u001b[0m_rfile\u001b[0m\u001b[1;33m.\u001b[0m\u001b[0mread\u001b[0m\u001b[1;33m(\u001b[0m\u001b[0mnum_bytes\u001b[0m\u001b[1;33m)\u001b[0m\u001b[1;33m\u001b[0m\u001b[1;33m\u001b[0m\u001b[0m\n\u001b[0m\u001b[0;32m    733\u001b[0m                 \u001b[1;32mbreak\u001b[0m\u001b[1;33m\u001b[0m\u001b[1;33m\u001b[0m\u001b[0m\n\u001b[0;32m    734\u001b[0m             \u001b[1;32mexcept\u001b[0m \u001b[1;33m(\u001b[0m\u001b[0mIOError\u001b[0m\u001b[1;33m,\u001b[0m \u001b[0mOSError\u001b[0m\u001b[1;33m)\u001b[0m \u001b[1;32mas\u001b[0m \u001b[0me\u001b[0m\u001b[1;33m:\u001b[0m\u001b[1;33m\u001b[0m\u001b[1;33m\u001b[0m\u001b[0m\n",
      "\u001b[1;32m~\\AppData\\Local\\Programs\\Python\\Python37\\lib\\socket.py\u001b[0m in \u001b[0;36mreadinto\u001b[1;34m(self, b)\u001b[0m\n\u001b[0;32m    587\u001b[0m         \u001b[1;32mwhile\u001b[0m \u001b[1;32mTrue\u001b[0m\u001b[1;33m:\u001b[0m\u001b[1;33m\u001b[0m\u001b[1;33m\u001b[0m\u001b[0m\n\u001b[0;32m    588\u001b[0m             \u001b[1;32mtry\u001b[0m\u001b[1;33m:\u001b[0m\u001b[1;33m\u001b[0m\u001b[1;33m\u001b[0m\u001b[0m\n\u001b[1;32m--> 589\u001b[1;33m                 \u001b[1;32mreturn\u001b[0m \u001b[0mself\u001b[0m\u001b[1;33m.\u001b[0m\u001b[0m_sock\u001b[0m\u001b[1;33m.\u001b[0m\u001b[0mrecv_into\u001b[0m\u001b[1;33m(\u001b[0m\u001b[0mb\u001b[0m\u001b[1;33m)\u001b[0m\u001b[1;33m\u001b[0m\u001b[1;33m\u001b[0m\u001b[0m\n\u001b[0m\u001b[0;32m    590\u001b[0m             \u001b[1;32mexcept\u001b[0m \u001b[0mtimeout\u001b[0m\u001b[1;33m:\u001b[0m\u001b[1;33m\u001b[0m\u001b[1;33m\u001b[0m\u001b[0m\n\u001b[0;32m    591\u001b[0m                 \u001b[0mself\u001b[0m\u001b[1;33m.\u001b[0m\u001b[0m_timeout_occurred\u001b[0m \u001b[1;33m=\u001b[0m \u001b[1;32mTrue\u001b[0m\u001b[1;33m\u001b[0m\u001b[1;33m\u001b[0m\u001b[0m\n",
      "\u001b[1;31mKeyboardInterrupt\u001b[0m: "
     ]
    }
   ],
   "source": [
    "driver.connect()\n",
    "for i, row in data.iterrows():\n",
    "    r = list(map(string_quotes, [str(v) for v in row.values]))\n",
    "    sql = driver.generate_insert_into_row_sql('base', data, r)\n",
    "    sql = sql.replace('nan', '0')\n",
    "    driver.execute_interactive_sql(sql)\n",
    "\n",
    "driver.close()"
   ]
  }
 ]
}