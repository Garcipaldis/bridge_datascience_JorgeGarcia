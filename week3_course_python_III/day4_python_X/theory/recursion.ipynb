{
 "metadata": {
  "language_info": {
   "codemirror_mode": {
    "name": "ipython",
    "version": 3
   },
   "file_extension": ".py",
   "mimetype": "text/x-python",
   "name": "python",
   "nbconvert_exporter": "python",
   "pygments_lexer": "ipython3",
   "version": "3.7.4"
  },
  "orig_nbformat": 2,
  "kernelspec": {
   "name": "python374jvsc74a57bd0674dfd6ded4398e0679ff4f65e9a10a54ff0d14801bec0126172cfc3973d1cf1",
   "display_name": "Python 3.7.4 64-bit"
  },
  "metadata": {
   "interpreter": {
    "hash": "674dfd6ded4398e0679ff4f65e9a10a54ff0d14801bec0126172cfc3973d1cf1"
   }
  }
 },
 "nbformat": 4,
 "nbformat_minor": 2,
 "cells": [
  {
   "cell_type": "code",
   "execution_count": 3,
   "metadata": {},
   "outputs": [
    {
     "output_type": "stream",
     "name": "stdout",
     "text": [
      "1\n1\n1\n1\n1\n1\n1\n1\n1\n1\n10\n"
     ]
    }
   ],
   "source": [
    "def f1(cont=0):\n",
    "    if cont == 10: #caso base\n",
    "        return cont\n",
    "    print(1)\n",
    "    return f1(cont= cont+1)\n",
    "\n",
    "x = f1()\n",
    "print(x)"
   ]
  },
  {
   "cell_type": "code",
   "execution_count": 5,
   "metadata": {},
   "outputs": [
    {
     "output_type": "execute_result",
     "data": {
      "text/plain": [
       "120"
      ]
     },
     "metadata": {},
     "execution_count": 5
    }
   ],
   "source": [
    "# Factorial\n",
    "\n",
    "def factorial(num):\n",
    "    if num == 1:\n",
    "        return num\n",
    "    return num * factorial(num = num-1)\n",
    "\n",
    "factorial(5)"
   ]
  }
 ]
}