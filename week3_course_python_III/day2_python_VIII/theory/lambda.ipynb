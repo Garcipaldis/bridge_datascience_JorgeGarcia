{
 "metadata": {
  "language_info": {
   "codemirror_mode": {
    "name": "ipython",
    "version": 3
   },
   "file_extension": ".py",
   "mimetype": "text/x-python",
   "name": "python",
   "nbconvert_exporter": "python",
   "pygments_lexer": "ipython3",
   "version": "3.7.4"
  },
  "orig_nbformat": 2,
  "kernelspec": {
   "name": "python374jvsc74a57bd0674dfd6ded4398e0679ff4f65e9a10a54ff0d14801bec0126172cfc3973d1cf1",
   "display_name": "Python 3.7.4 64-bit"
  },
  "metadata": {
   "interpreter": {
    "hash": "674dfd6ded4398e0679ff4f65e9a10a54ff0d14801bec0126172cfc3973d1cf1"
   }
  }
 },
 "nbformat": 4,
 "nbformat_minor": 2,
 "cells": [
  {
   "source": [
    "# Lambda Functions"
   ],
   "cell_type": "markdown",
   "metadata": {}
  },
  {
   "cell_type": "code",
   "execution_count": 1,
   "metadata": {},
   "outputs": [
    {
     "output_type": "execute_result",
     "data": {
      "text/plain": [
       "'8'"
      ]
     },
     "metadata": {},
     "execution_count": 1
    }
   ],
   "source": [
    "def nombre_funcion(x):\n",
    "    return str(x + 2)\n",
    "\n",
    "nombre_funcion(6)"
   ]
  },
  {
   "cell_type": "code",
   "execution_count": 3,
   "metadata": {},
   "outputs": [
    {
     "output_type": "execute_result",
     "data": {
      "text/plain": [
       "'12'"
      ]
     },
     "metadata": {},
     "execution_count": 3
    }
   ],
   "source": [
    "nombre_funcion2 = lambda x: str(x + 2)\n",
    "\n",
    "nombre_funcion2(10)"
   ]
  },
  {
   "cell_type": "code",
   "execution_count": 4,
   "metadata": {},
   "outputs": [
    {
     "output_type": "execute_result",
     "data": {
      "text/plain": [
       "'13'"
      ]
     },
     "metadata": {},
     "execution_count": 4
    }
   ],
   "source": [
    "f1 = lambda x,y,z: str(x + y + z)\n",
    "\n",
    "f1(5, 7, 1)"
   ]
  },
  {
   "cell_type": "code",
   "execution_count": 6,
   "metadata": {},
   "outputs": [
    {
     "output_type": "execute_result",
     "data": {
      "text/plain": [
       "[<function __main__.<listcomp>.<lambda>(elem)>,\n",
       " <function __main__.<listcomp>.<lambda>(elem)>,\n",
       " <function __main__.<listcomp>.<lambda>(elem)>,\n",
       " <function __main__.<listcomp>.<lambda>(elem)>]"
      ]
     },
     "metadata": {},
     "execution_count": 6
    }
   ],
   "source": [
    "l = [2, 4, 6, 8]\n",
    "\n",
    "lista = [lambda elem: elem//2 for elem in l]\n",
    "lista"
   ]
  },
  {
   "cell_type": "code",
   "execution_count": 8,
   "metadata": {},
   "outputs": [
    {
     "output_type": "execute_result",
     "data": {
      "text/plain": [
       "[2, 4, 2.5, 6, 8]"
      ]
     },
     "metadata": {},
     "execution_count": 8
    }
   ],
   "source": [
    "l = [2, 4, 5, 6, 8]\n",
    "f3 = lambda x: x if x %2 == 0 else x/2\n",
    "\n",
    "lista = [f3(elem) for elem in l]\n",
    "lista"
   ]
  }
 ]
}