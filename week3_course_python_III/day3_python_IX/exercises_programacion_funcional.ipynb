{
 "cells": [
  {
   "cell_type": "markdown",
   "metadata": {},
   "source": [
    "# Python | Programación funcional\n",
    "\n",
    "### Ejercicio 1.\n",
    "\n",
    "1. Utiliza `reduce` para concatenar estas palabras en una frase\n",
    "```Python\n",
    "ejer_1 = (\"to\", \"be\", \"or\", \"not\", \"to\", \"be\", \"that\", \"is\", \"the\", \"question\")\n",
    "```"
   ]
  },
  {
   "cell_type": "code",
   "execution_count": 1,
   "metadata": {},
   "outputs": [
    {
     "output_type": "execute_result",
     "data": {
      "text/plain": [
       "'to be or not to be that is the question'"
      ]
     },
     "metadata": {},
     "execution_count": 1
    }
   ],
   "source": [
    "from functools import reduce\n",
    "\n",
    "ejer_1 = (\"to\", \"be\", \"or\", \"not\", \"to\", \"be\", \"that\", \"is\", \"the\", \"question\")\n",
    "reduce(lambda x, y: x + ' ' + y, ejer_1)"
   ]
  },
  {
   "cell_type": "markdown",
   "metadata": {},
   "source": [
    "2. Obtén una nueva tupla con el cuadrado de cada elemento de la siguiente tupla\n",
    "\n",
    "```Python\n",
    "ejer_2 = (1,2,3,4,5)\n",
    "```"
   ]
  },
  {
   "cell_type": "code",
   "execution_count": 2,
   "metadata": {},
   "outputs": [
    {
     "output_type": "execute_result",
     "data": {
      "text/plain": [
       "[1, 4, 9, 16, 25]"
      ]
     },
     "metadata": {},
     "execution_count": 2
    }
   ],
   "source": [
    "ejer_2 = (1,2,3,4,5)\n",
    "list(map(lambda x: x**2, ejer_2))"
   ]
  },
  {
   "cell_type": "markdown",
   "metadata": {},
   "source": [
    "3. Filtra aquellos elementos que sean multiplos de 3 o de 5\n",
    "```Python\n",
    "ejer_3 = (1,2,3,4,5,15,21,22,33,34,35)\n",
    "```"
   ]
  },
  {
   "cell_type": "code",
   "execution_count": 3,
   "metadata": {},
   "outputs": [
    {
     "output_type": "execute_result",
     "data": {
      "text/plain": [
       "[3, 5, 15, 21, 33, 35]"
      ]
     },
     "metadata": {},
     "execution_count": 3
    }
   ],
   "source": [
    "ejer_3 = (1,2,3,4,5,15,21,22,33,34,35)\n",
    "\n",
    "list(filter(lambda x: x % 3 == 0 or x % 5 == 0, ejer_3))"
   ]
  },
  {
   "cell_type": "markdown",
   "metadata": {},
   "source": [
    "4. Convierte la siguiente tupla de pesetas a euros\n",
    "```Python\n",
    "ejer_4 = (1000, 8000, 20000000, 40000000)\n",
    "```"
   ]
  },
  {
   "cell_type": "code",
   "execution_count": 5,
   "metadata": {},
   "outputs": [
    {
     "output_type": "execute_result",
     "data": {
      "text/plain": [
       "[6.010121043837823, 48.080968350702584, 120202.42087675646, 240404.8417535129]"
      ]
     },
     "metadata": {},
     "execution_count": 5
    }
   ],
   "source": [
    "ejer_4 = (1000, 8000, 20000000, 40000000)\n",
    "list(map(lambda x: x / 166.386, ejer_4))"
   ]
  },
  {
   "cell_type": "markdown",
   "metadata": {},
   "source": [
    "5. Convierte la siguiente lista de desconocidos a mayusculas\n",
    "```Python\n",
    "ejer_5 = (\"Arya\", \"John\", \"Robb\", \"Bran\", \"Sansa\", \"Rickon\")\n",
    "```"
   ]
  },
  {
   "cell_type": "code",
   "execution_count": 7,
   "metadata": {},
   "outputs": [
    {
     "output_type": "execute_result",
     "data": {
      "text/plain": [
       "['ARYA', 'JOHN', 'ROBB', 'BRAN', 'SANSA', 'RICKON']"
      ]
     },
     "metadata": {},
     "execution_count": 7
    }
   ],
   "source": [
    "ejer_5 = (\"Arya\", \"John\", \"Robb\", \"Bran\", \"Sansa\", \"Rickon\")\n",
    "list(map(lambda x: x.upper(), ejer_5))"
   ]
  },
  {
   "cell_type": "markdown",
   "metadata": {},
   "source": [
    "6. Realiza un conversor de dias de la semana en texto a numerico (1-7), usando `map`.\n",
    "```Python\n",
    "ejer_6 = (\"Lunes\", \"Martes\", \"Miércoles\", \"Jueves\", \"Viernes\", \"Sábado\", \"Domingo\")\n",
    "```"
   ]
  },
  {
   "cell_type": "code",
   "execution_count": 10,
   "metadata": {},
   "outputs": [
    {
     "output_type": "execute_result",
     "data": {
      "text/plain": [
       "[1, 2, 3, 4, 5, 6, 7]"
      ]
     },
     "metadata": {},
     "execution_count": 10
    }
   ],
   "source": [
    "ejer_6 = (\"Lunes\", \"Martes\", \"Miércoles\", \"Jueves\", \"Viernes\", \"Sábado\", \"Domingo\")\n",
    "days = [1, 2, 3, 4, 5, 6, 7]\n",
    "d = dict(zip(ejer_6, days))\n",
    "\n",
    "list(map(lambda x: d[x], ejer_6))"
   ]
  },
  {
   "cell_type": "markdown",
   "metadata": {},
   "source": [
    "7. Utiliza `map` para multiplicar elemento a elemento estas dos tuplas\n",
    "```Python\n",
    "ejer_7_1 = (2, 5, 8)\n",
    "ejer_7_2 = (6, 3, 2)\n",
    "```"
   ]
  },
  {
   "cell_type": "code",
   "execution_count": 11,
   "metadata": {},
   "outputs": [
    {
     "output_type": "execute_result",
     "data": {
      "text/plain": [
       "[12, 15, 16]"
      ]
     },
     "metadata": {},
     "execution_count": 11
    }
   ],
   "source": [
    "ejer_7_1 = (2, 5, 8)\n",
    "ejer_7_2 = (6, 3, 2)\n",
    "\n",
    "list(map(lambda x, y: x * y, ejer_7_1, ejer_7_2))"
   ]
  },
  {
   "cell_type": "markdown",
   "metadata": {},
   "source": [
    "8. Crea una tupla nueva con todos los coches que no sean VW :)\n",
    "\n",
    "```Python\n",
    "ejer_8 = (\"VW\", \"Audi\", \"Renault\", \"VW\", \"BMW\")\n",
    "```"
   ]
  },
  {
   "cell_type": "code",
   "execution_count": 13,
   "metadata": {},
   "outputs": [
    {
     "output_type": "execute_result",
     "data": {
      "text/plain": [
       "('Audi', 'Renault', 'BMW')"
      ]
     },
     "metadata": {},
     "execution_count": 13
    }
   ],
   "source": [
    "ejer_8 = (\"VW\", \"Audi\", \"Renault\", \"VW\", \"BMW\")\n",
    "tuple(filter(lambda x: x != 'VW', ejer_8))"
   ]
  },
  {
   "cell_type": "markdown",
   "metadata": {},
   "source": [
    "9. Dadas las siguientes fechas en formato string, quedate con aquellas del año 2020\n",
    "\n",
    "```Python\n",
    "ejer_9 = (\"2019-04-08\", \"2020-10-10\", \"2020-01-22\", \"2019-07-13\", \"2019-02-01\")\n",
    "```"
   ]
  },
  {
   "cell_type": "code",
   "execution_count": 14,
   "metadata": {},
   "outputs": [
    {
     "output_type": "execute_result",
     "data": {
      "text/plain": [
       "['2020-10-10', '2020-01-22']"
      ]
     },
     "metadata": {},
     "execution_count": 14
    }
   ],
   "source": [
    "ejer_9 = (\"2019-04-08\", \"2020-10-10\", \"2020-01-22\", \"2019-07-13\", \"2019-02-01\")\n",
    "list(filter(lambda x: '2020' in x, ejer_9))"
   ]
  },
  {
   "cell_type": "markdown",
   "metadata": {},
   "source": [
    "10. Filtra aquellos strings que sean [palíndromos](https://es.wikipedia.org/wiki/Pal%C3%ADndromo)\n",
    "```Python\n",
    "ejer_10 = (\"php\", \"w3r\", \"Python\", \"abcd\", \"Java\", \"aaa\")\n",
    "```"
   ]
  },
  {
   "cell_type": "code",
   "execution_count": 15,
   "metadata": {},
   "outputs": [
    {
     "output_type": "execute_result",
     "data": {
      "text/plain": [
       "['php', 'aaa']"
      ]
     },
     "metadata": {},
     "execution_count": 15
    }
   ],
   "source": [
    "ejer_10 = (\"php\", \"w3r\", \"Python\", \"abcd\", \"Java\", \"aaa\")\n",
    "list(filter(lambda x: x == x[::-1], ejer_10))"
   ]
  },
  {
   "cell_type": "markdown",
   "metadata": {},
   "source": [
    "### Bonus Track.\n",
    "\n",
    "- Resuelve esta kata usando `map`\n",
    "https://www.codewars.com/kata/554b4ac871d6813a03000035\n",
    "\n",
    "Nota: si es demasiado difícil intenta resolverla sin usar `map` y si lo consigues, vuelve a resolverla usando `map`."
   ]
  },
  {
   "cell_type": "code",
   "execution_count": null,
   "metadata": {},
   "outputs": [],
   "source": [
    "usuario_codewars = 'Garcipaldis'"
   ]
  },
  {
   "cell_type": "code",
   "execution_count": 61,
   "metadata": {},
   "outputs": [],
   "source": [
    "def row_sum_odd_numbers(n):\n",
    "    l = [0]\n",
    "    i = n-1\n",
    "    while i > 0:\n",
    "        l += list(range(i))\n",
    "        i -= 1\n",
    "    start = list(range(1,len(l)*2,2))[-1]\n",
    "    row = list(range(start, start + n*2, 2))\n",
    "    return sum(row)"
   ]
  },
  {
   "cell_type": "code",
   "execution_count": 65,
   "metadata": {},
   "outputs": [
    {
     "output_type": "stream",
     "name": "stdout",
     "text": [
      "2197\n"
     ]
    }
   ],
   "source": [
    "print(row_sum_odd_numbers(13))"
   ]
  },
  {
   "cell_type": "code",
   "execution_count": 77,
   "metadata": {},
   "outputs": [
    {
     "output_type": "execute_result",
     "data": {
      "text/plain": [
       "'FFFFFF'"
      ]
     },
     "metadata": {},
     "execution_count": 77
    }
   ],
   "source": [
    "hex(255*65536+255*256+255)[2:].upper()\n"
   ]
  },
  {
   "cell_type": "code",
   "execution_count": 82,
   "metadata": {},
   "outputs": [
    {
     "output_type": "stream",
     "name": "stdout",
     "text": [
      "000000\n010203\n00FF7D\n000000\n000000\n"
     ]
    }
   ],
   "source": [
    "def rgb(r, g, b):\n",
    "    #your code here :)\n",
    "    color = [r, g, b]\n",
    "    for i, c in enumerate(color):\n",
    "        if c > 255:\n",
    "            color[i] = 255\n",
    "        elif c < 0:\n",
    "            color[i] = 0\n",
    "    r, g, b = color[0], color[1], color[2]\n",
    "    res = hex(r * 65536 + g * 256 + b)[2:].upper()\n",
    "    if len(res) < 6:\n",
    "        res = '0'*(6-len(res)) + res\n",
    "    return res\n",
    "\n",
    "print(rgb(0,0,0))\n",
    "print(rgb(1,2,3))\n",
    "print(rgb(-20,275,125))\n",
    "print(rgb(0,0,0))\n",
    "print(rgb(0,0,0))"
   ]
  },
  {
   "cell_type": "code",
   "execution_count": 84,
   "metadata": {},
   "outputs": [
    {
     "output_type": "stream",
     "name": "stdout",
     "text": [
      "google\n"
     ]
    }
   ],
   "source": [
    "def domain_name(url):\n",
    "    start = ['https://wwww.','http://www.', 'http://', 'www.', 'https://']\n",
    "    n_url = ''\n",
    "    for elem in start:\n",
    "        if url.startswith(elem):\n",
    "            n_url = url.replace(elem, '')\n",
    "            break\n",
    "    res = ''\n",
    "    for i in range(len(n_url)):\n",
    "        if n_url[i] == '.':\n",
    "            res = n_url[:i]\n",
    "            break\n",
    "    return res\n",
    "\n",
    "print(domain_name(\"http://google.co.jp\"))"
   ]
  },
  {
   "cell_type": "code",
   "execution_count": 18,
   "metadata": {},
   "outputs": [
    {
     "output_type": "stream",
     "name": "stdout",
     "text": [
      "xakep\n"
     ]
    }
   ],
   "source": [
    "s = \"http://google.co.jp\"\n",
    "v = \"www.xakep.ru\"\n",
    "\n",
    "import urllib.parse\n",
    "\n",
    "def domain_name(url):\n",
    "    parse = urllib.parse.urlsplit(url)\n",
    "    n = parse[1].split('.')\n",
    "    for elem in n:\n",
    "        if elem != 'www' and elem != '':\n",
    "            return elem\n",
    "    p = parse[2].split('.')\n",
    "    for elem in p:\n",
    "        if elem != 'www':\n",
    "            return elem\n",
    "\n",
    "urllib.parse.urlsplit(v)\n",
    "print(domain_name(v))\n"
   ]
  },
  {
   "cell_type": "code",
   "execution_count": 21,
   "metadata": {},
   "outputs": [
    {
     "output_type": "execute_result",
     "data": {
      "text/plain": [
       "'Susana'"
      ]
     },
     "metadata": {},
     "execution_count": 21
    }
   ],
   "source": [
    "s = 'Susana'\n",
    "s.upper()\n",
    "s"
   ]
  }
 ],
 "metadata": {
  "kernelspec": {
   "name": "python374jvsc74a57bd0674dfd6ded4398e0679ff4f65e9a10a54ff0d14801bec0126172cfc3973d1cf1",
   "display_name": "Python 3.7.4 64-bit"
  },
  "language_info": {
   "codemirror_mode": {
    "name": "ipython",
    "version": 3
   },
   "file_extension": ".py",
   "mimetype": "text/x-python",
   "name": "python",
   "nbconvert_exporter": "python",
   "pygments_lexer": "ipython3",
   "version": "3.7.4"
  },
  "metadata": {
   "interpreter": {
    "hash": "674dfd6ded4398e0679ff4f65e9a10a54ff0d14801bec0126172cfc3973d1cf1"
   }
  }
 },
 "nbformat": 4,
 "nbformat_minor": 4
}