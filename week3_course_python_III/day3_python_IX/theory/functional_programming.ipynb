{
 "cells": [
  {
   "cell_type": "markdown",
   "metadata": {},
   "source": [
    "# Programación funcional\n",
    "\n",
    "**Python es un lenguaje de programación orientado a objetos**. \n",
    "\n",
    "No obstante, es bastante versatil y **admite** otras funcionalidades propias de otros lenguajes, como es la **programación funcional**. En este Notebook verás qué utilidad tiene este tipo de programación, y cómo usarla en Python.\n",
    "\n",
    "1. [Programacion funcional](#1.-Programacion-funcional)\n",
    "2. [Funcion lambda](#2.-Funcion-lambda)\n",
    "3. [Map](#3.-Map)\n",
    "4. [Reduce](#4.-Reduce)\n",
    "5. [Filter](#5.-Filter)\n",
    "6. [Timeit](#6.-Timeit)\n",
    "7. [Resumen](#7.-Resumen)\n"
   ]
  },
  {
   "cell_type": "markdown",
   "metadata": {},
   "source": [
    "## 1. Programacion funcional\n",
    "Dependiendo del problema que queramos resolver, utilizaremos un tipo de lenguaje de programación u otro. Veamos la diferencia entre un lenguaje de programación orientado a objetos y uno funcional:\n",
    "* **Programación Orientada a Objetos (OOP)**: sería el caso de Python. En este caso se encapsulan todos los elementos del programa en objetos, que son de cierto tipo, **tienen un estado**, atributos y funcionalidades. Lenguajes orientados a objetos son Java, Python, JavaScript, Ruby... entre otros.\n",
    "\n",
    "* **Programación Funcional**: El programa se divide en un conjunto de funciones. Por tanto, es un entrada/salida continuo, ya que las funciones tienen un *input*, realizan operaciones, y después un *output*. Son lenguajes que ofrecen un buen rendimiento pero difíciles de desarrollar ya que hay que acudir mucho a la recursividad. Algunos de los lenguajes más usados son [Clojure](https://clojure.org) o [Scala](https://www.scala-lang.org).\n",
    "\n",
    "Por tanto, ¿Python que es? ¿Es orientado a objetos...? ¿Es funcional? **Python es orientado a objetos, pero además cuena con ciertas funciones *built-in* propias de la programación funcional**, como `map` o `filter`, lo que nos va a aportar nuevas maneras de solventar problemas en nuestro programa, además de mejoras en rendimiento.\n",
    "\n",
    "Como ves, Python nos va a permitir usar todas sus funcionalidades propias como lenguaje orientado a objetos que es, y además la posibilidad de combinarlas con otro tipo de programación, como es la funcional.\n",
    "\n",
    "\n",
    "¿Cómo podemos iterar sobre una lista y calcular la suma de sus elementos?"
   ]
  },
  {
   "cell_type": "code",
   "execution_count": 1,
   "metadata": {},
   "outputs": [
    {
     "data": {
      "text/plain": [
       "15"
      ]
     },
     "execution_count": 1,
     "metadata": {},
     "output_type": "execute_result"
    }
   ],
   "source": [
    "lista = [1,2,3,4,5]\n",
    "\n",
    "suma = 0\n",
    "for i in lista:\n",
    "    suma += i\n",
    "suma"
   ]
  },
  {
   "cell_type": "code",
   "execution_count": 2,
   "metadata": {},
   "outputs": [
    {
     "data": {
      "text/plain": [
       "15"
      ]
     },
     "execution_count": 2,
     "metadata": {},
     "output_type": "execute_result"
    }
   ],
   "source": [
    "sum(lista)"
   ]
  },
  {
   "cell_type": "markdown",
   "metadata": {},
   "source": [
    "La principal diferecia con la programación funcional radica en **el estado**. En el caso del `for` tenemos un programa que va cambiando su estado, debido a las diferentes variables que toman `suma` e `i`. Sin embargo, en la programación funcional no hay estados, tienen un *input* y un *output*. Lo veremos más en detalle en el Notebook."
   ]
  },
  {
   "cell_type": "markdown",
   "metadata": {},
   "source": [
    "## 2. Funcion lambda - Repaso\n",
    "\n",
    "**¿Qué es una función lambda?**\n",
    "\n",
    "--------------------------------------------\n"
   ]
  },
  {
   "cell_type": "markdown",
   "metadata": {},
   "source": [
    "Recuerda cómo era la sintaxis para crear funciones:\n",
    "```Python\n",
    "def nombre_funcion(argumentos):\n",
    "    cosas de la funcion\n",
    "    return output\n",
    "```\n",
    "Una función tiene un nombre, unos parámetros de entrada, operaciones dentro y un output. En este apartado se presenta una nueva manera más ágil de crear funciones, gracias a la sentencia `lambda`. Con `lambda` podrás crear funciones sencillas y de una única expresión.\n",
    "\n",
    "Las funciones `lambda` **son anónimas**, no tienen un nombre que las identifique, simplemente se ejecuta el código de la función que declaremos. \n",
    "\n",
    "La sintaxis de una función `lambda` es:\n",
    "```Python\n",
    "lambda argumentos: cosas de la funcion\n",
    "```\n",
    "\n",
    "Veamos un ejemplo:"
   ]
  },
  {
   "cell_type": "code",
   "execution_count": 3,
   "metadata": {},
   "outputs": [
    {
     "name": "stdout",
     "output_type": "stream",
     "text": [
      "<class 'function'>\n"
     ]
    },
    {
     "data": {
      "text/plain": [
       "6"
      ]
     },
     "execution_count": 3,
     "metadata": {},
     "output_type": "execute_result"
    }
   ],
   "source": [
    "# Declaramos funcion\n",
    "def suma_num(a, b):\n",
    "    return a + b\n",
    "\n",
    "# Guardamos en variable\n",
    "suma = suma_num\n",
    "\n",
    "# Vemos el tipo\n",
    "print(type(suma))\n",
    "\n",
    "# Usamos la funcion\n",
    "suma(2,4)"
   ]
  },
  {
   "cell_type": "markdown",
   "metadata": {},
   "source": [
    "Como ves, las funciones son un objeto más, que podemos asignar a una variable. Veamos ahora cómo traducimos esto a una función `lambda`"
   ]
  },
  {
   "cell_type": "code",
   "execution_count": 4,
   "metadata": {},
   "outputs": [
    {
     "data": {
      "text/plain": [
       "<function __main__.<lambda>(a, b)>"
      ]
     },
     "execution_count": 4,
     "metadata": {},
     "output_type": "execute_result"
    }
   ],
   "source": [
    "lambda a, b: a+b"
   ]
  },
  {
   "cell_type": "code",
   "execution_count": 5,
   "metadata": {},
   "outputs": [
    {
     "data": {
      "text/plain": [
       "6"
      ]
     },
     "execution_count": 5,
     "metadata": {},
     "output_type": "execute_result"
    }
   ],
   "source": [
    "# Si la asignamos a una variable\n",
    "suma_lamb = lambda a, b: a+b\n",
    "\n",
    "suma_lamb(2,4)"
   ]
  },
  {
   "cell_type": "markdown",
   "metadata": {},
   "source": [
    "Las funciones `lambda` no se usan solas, sino que son argumentos de funciones de más alto nivel, es decir, funciones cuyos parámetros de entrada son otras funciones, como `map`, `reduce` o `filter`.\n",
    "\n",
    "Las `lambdas` también pueden ser una buena manera de escribir código más entendible. Veamos un ejemplo en el que trabajamos con coordenadas."
   ]
  },
  {
   "cell_type": "code",
   "execution_count": 6,
   "metadata": {},
   "outputs": [
    {
     "name": "stdout",
     "output_type": "stream",
     "text": [
      "esto es start:  (40.4440297, -3.9956047) \n",
      "esto es stop:  (40.4585318, -3.868374)\n"
     ]
    }
   ],
   "source": [
    "estaciones = ((40.4440297, -3.9956047), (40.4585318, -3.868374))\n",
    "\n",
    "start = lambda x: x[0]\n",
    "stop = lambda x: x[1]\n",
    "\n",
    "print(\"esto es start: \", start(estaciones), \"\\nesto es stop: \", stop(estaciones))"
   ]
  },
  {
   "cell_type": "code",
   "execution_count": 7,
   "metadata": {},
   "outputs": [
    {
     "name": "stdout",
     "output_type": "stream",
     "text": [
      "40.4440297\n",
      "-3.9956047\n"
     ]
    }
   ],
   "source": [
    "lat = lambda x: x[0]\n",
    "long = lambda x: x[1]\n",
    "# (40.4440297, -3.9956047)[0]\n",
    "\n",
    "print(lat(start(estaciones)))\n",
    "print(long(start(estaciones)))"
   ]
  },
  {
   "cell_type": "code",
   "execution_count": 8,
   "metadata": {},
   "outputs": [
    {
     "name": "stdout",
     "output_type": "stream",
     "text": [
      "40.4585318\n",
      "-3.868374\n"
     ]
    }
   ],
   "source": [
    "print(lat(stop(estaciones)))\n",
    "print(long(stop(estaciones)))"
   ]
  },
  {
   "cell_type": "markdown",
   "metadata": {},
   "source": [
    "<table align=\"left\">\n",
    " <tr><td width=\"80\"><img src=\"img/ejercicio.png\" style=\"width:auto;height:auto\"></td>\n",
    "     <td style=\"text-align:left\">\n",
    "         <h3>Trabajando con lambda</h3>\n",
    "         \n",
    "<ol>\n",
    "    <li>Crea una función lambda con tres argumentos, y multiplique los tres </li>\n",
    "    <li>Crea otra función lambda con un único argumento y que calcule la raíz cuadrada del mismo.</li>\n",
    "</ol>\n",
    "         \n",
    " </td></tr>\n",
    "</table>"
   ]
  },
  {
   "cell_type": "code",
   "execution_count": 1,
   "metadata": {},
   "outputs": [
    {
     "output_type": "execute_result",
     "data": {
      "text/plain": [
       "24"
      ]
     },
     "metadata": {},
     "execution_count": 1
    }
   ],
   "source": [
    "#1\n",
    "f1 = lambda x, y, z : x * y * z\n",
    "f1(2, 3, 4)"
   ]
  },
  {
   "cell_type": "code",
   "execution_count": 2,
   "metadata": {},
   "outputs": [
    {
     "output_type": "execute_result",
     "data": {
      "text/plain": [
       "4.0"
      ]
     },
     "metadata": {},
     "execution_count": 2
    }
   ],
   "source": [
    "#2\n",
    "import math\n",
    "\n",
    "f2 = lambda x : math.sqrt(x)\n",
    "f2(16)"
   ]
  },
  {
   "source": [
    "![meme](https://1.bp.blogspot.com/-rYuLFYTqGxI/XbYmsIlY8ZI/AAAAAAAAQN0/2dN2yGG1bRMGyOx0bZx_6lLJiq0qqSTeQCLcBGAsYHQ/s640/map-reduce-filter.png)"
   ],
   "cell_type": "markdown",
   "metadata": {}
  },
  {
   "cell_type": "markdown",
   "metadata": {},
   "source": [
    "## 3. Map\n",
    "Se trata de una función *built-in* que tiene dos argumentos. Uno es una función, y el otro un iterable, que puede ser una lista, tupla, string... **Lo que hace es aplicarle la función a cada uno de los argumentos del iterable**. Mapea cada valor del iterable, le aplica una operación, y crea un nuevo iterable al que le ha aplicado dicha operación.\n",
    "\n",
    "Su sintaxis es:\n",
    "```Python\n",
    "map(funcion, iterable)\n",
    "```\n",
    "\n",
    "Se trata de una manera de sustituir la funcionalidad de los bucles. Muy útil cuando queramos aplicar operaciones a una lista entera."
   ]
  },
  {
   "cell_type": "code",
   "execution_count": 11,
   "metadata": {},
   "outputs": [
    {
     "data": {
      "text/plain": [
       "[2, 4, 68, 10]"
      ]
     },
     "execution_count": 11,
     "metadata": {},
     "output_type": "execute_result"
    }
   ],
   "source": [
    "lista = [1,2,34,5]\n",
    "\n",
    "list_vacia = []\n",
    "\n",
    "for e in lista: \n",
    "    list_vacia.append(e * 2)\n",
    "    \n",
    "list_vacia"
   ]
  },
  {
   "cell_type": "code",
   "execution_count": 12,
   "metadata": {},
   "outputs": [
    {
     "data": {
      "text/plain": [
       "<map at 0x1f8e6542460>"
      ]
     },
     "execution_count": 12,
     "metadata": {},
     "output_type": "execute_result"
    }
   ],
   "source": [
    "map(lambda x: x*2, lista)"
   ]
  },
  {
   "cell_type": "code",
   "execution_count": 13,
   "metadata": {},
   "outputs": [
    {
     "data": {
      "text/plain": [
       "[2, 4, 68, 10]"
      ]
     },
     "execution_count": 13,
     "metadata": {},
     "output_type": "execute_result"
    }
   ],
   "source": [
    "list(map(lambda x: x*2, lista))"
   ]
  },
  {
   "cell_type": "markdown",
   "metadata": {},
   "source": [
    "Fíjate que la función `map` devuelve un *map object*, que no es más que un iterable, convertible fácilmente a una lista. Como ves, de momento aplicaremos una función `lambda` con una única expresión, pero más adelante verás cómo puedes aplicarle tus propias funciones más complejas.\n",
    "\n",
    "Veamos otro ejemplo con operaciones diferentes"
   ]
  },
  {
   "cell_type": "code",
   "execution_count": 14,
   "metadata": {},
   "outputs": [
    {
     "data": {
      "text/plain": [
       "[False, True, False, False, True]"
      ]
     },
     "execution_count": 14,
     "metadata": {},
     "output_type": "execute_result"
    }
   ],
   "source": [
    "my_bolean = [True, False, True, True, False]\n",
    "\n",
    "my_bolean_con = list(map(lambda x: not x, my_bolean))\n",
    "my_bolean_con"
   ]
  },
  {
   "cell_type": "markdown",
   "metadata": {},
   "source": [
    "`map` trabaja con iterables, por lo que también será posible aplicarle un `map` a un string."
   ]
  },
  {
   "cell_type": "code",
   "execution_count": 15,
   "metadata": {},
   "outputs": [
    {
     "data": {
      "text/plain": [
       "'THE BRIDGE'"
      ]
     },
     "execution_count": 15,
     "metadata": {},
     "output_type": "execute_result"
    }
   ],
   "source": [
    "my_word = \"the bridge\"\n",
    "\n",
    "my_word_nueva = list(map(lambda x: x.upper(), my_word))\n",
    "\n",
    "sep = \"\"\n",
    "\n",
    "my_word_nueva = sep.join(my_word_nueva)\n",
    "\n",
    "my_word_nueva"
   ]
  },
  {
   "cell_type": "code",
   "execution_count": 16,
   "metadata": {},
   "outputs": [
    {
     "data": {
      "text/plain": [
       "'<map object at 0x000001F8E655AC70>'"
      ]
     },
     "execution_count": 16,
     "metadata": {},
     "output_type": "execute_result"
    }
   ],
   "source": [
    "# no podemos pasar un objeto map directamente a string\n",
    "my_word_nueva_str = str(map(lambda x: x.upper(), my_word))\n",
    "my_word_nueva_str "
   ]
  },
  {
   "cell_type": "code",
   "execution_count": 17,
   "metadata": {},
   "outputs": [],
   "source": [
    "# pero si a tupla o a lista"
   ]
  },
  {
   "cell_type": "markdown",
   "metadata": {},
   "source": [
    "Puedes incluso separar la función `lambda`, para posteriormente usarla en otros lugares."
   ]
  },
  {
   "cell_type": "code",
   "execution_count": 18,
   "metadata": {},
   "outputs": [
    {
     "data": {
      "text/plain": [
       "('my fav: coche', 'my fav: videojuego', 'my fav: lenguaje de programacion')"
      ]
     },
     "execution_count": 18,
     "metadata": {},
     "output_type": "execute_result"
    }
   ],
   "source": [
    "palabras = [\"coche\", \"videojuego\", \"lenguaje de programacion\"]\n",
    "\n",
    "my_fun = lambda x: \"my fav: \" + x\n",
    "\n",
    "tuple(map(my_fun, palabras))"
   ]
  },
  {
   "cell_type": "markdown",
   "metadata": {},
   "source": [
    "**Incluso podrás aplicar tus propias funciones**. Imagina la versatilidad que te da esto. Dentro de cada función podrás realizar el cálculo que quieras, y ese calculo se le aplicará a cada elemento de tu iterable."
   ]
  },
  {
   "cell_type": "code",
   "execution_count": 19,
   "metadata": {},
   "outputs": [
    {
     "data": {
      "text/plain": [
       "['1000€', '50938€', '64€', '89€']"
      ]
     },
     "execution_count": 19,
     "metadata": {},
     "output_type": "execute_result"
    }
   ],
   "source": [
    "lista_precios = [1000, 50938, 64, 89]\n",
    "\n",
    "def add_euro(precio):\n",
    "    return str(precio) + \"€\"\n",
    "\n",
    "list(map(add_euro, lista_precios))"
   ]
  },
  {
   "cell_type": "markdown",
   "metadata": {},
   "source": [
    "`map` también trabaja con funciones con varios argumentos, lo único que hay que hacer es añadirle un argumento más al `map`. Y esto es aplicable a *n* argumentos. Podría darse el caso en el que alguno de los iterables tenga menores dimensiones que el resto. Si ocurre eso, se aplicará el `map` hasta el iterable con la mínima longitud."
   ]
  },
  {
   "cell_type": "code",
   "execution_count": 20,
   "metadata": {},
   "outputs": [
    {
     "name": "stdout",
     "output_type": "stream",
     "text": [
      "[3.6, 5.58, 4.009, 56.2424, 9.01344, 32.00013]\n"
     ]
    }
   ],
   "source": [
    "circle_areas = [3.56773, 5.57668, 4.00914, 56.24241, 9.01344, 32.00013]\n",
    "\n",
    "decimales = range(1,7)\n",
    "#print(list(decimales))\n",
    "\n",
    "# round(numero decimal, cantidad de decimales)\n",
    "result = map(round, circle_areas, decimales)\n",
    "\n",
    "print(list(result))"
   ]
  },
  {
   "cell_type": "code",
   "execution_count": 21,
   "metadata": {},
   "outputs": [
    {
     "data": {
      "text/plain": [
       "[23.56, 4.0, 370.5]"
      ]
     },
     "execution_count": 21,
     "metadata": {},
     "output_type": "execute_result"
    }
   ],
   "source": [
    "precios = [23.56, 2.0, 123.5]\n",
    "\n",
    "lista_numeros = range(1,56)\n",
    "\n",
    "list(map(lambda a, b: a * b, precios, lista_numeros))"
   ]
  },
  {
   "cell_type": "markdown",
   "metadata": {},
   "source": [
    "<table align=\"left\">\n",
    " <tr><td width=\"80\"><img src=\"img/ejercicio.png\" style=\"width:auto;height:auto\"></td>\n",
    "     <td style=\"text-align:left\">\n",
    "         <h3>Trabajando con map</h3>\n",
    "         \n",
    "\n",
    "         \n",
    "<ol>\n",
    "    <li>Convierte todos los elementos de la lista en enteros</li>\n",
    "    <li>Añádele \"W-\"a todas las claves del diccionario</li>\n",
    "</ol>\n",
    "         \n",
    " </td></tr>\n",
    "</table>"
   ]
  },
  {
   "cell_type": "code",
   "execution_count": 10,
   "metadata": {},
   "outputs": [
    {
     "output_type": "execute_result",
     "data": {
      "text/plain": [
       "[1, 5, 4, 6, 8, 11, 3, 12]"
      ]
     },
     "metadata": {},
     "execution_count": 10
    }
   ],
   "source": [
    "#1 \n",
    "my_list = ['1', '5', '4', '6', '8', '11', '3', '12']\n",
    "list(map(int, my_list))"
   ]
  },
  {
   "cell_type": "code",
   "execution_count": 18,
   "metadata": {},
   "outputs": [
    {
     "output_type": "execute_result",
     "data": {
      "text/plain": [
       "['W-a', 'W-b', 'W-c']"
      ]
     },
     "metadata": {},
     "execution_count": 18
    }
   ],
   "source": [
    "#2\n",
    "my_dict = {\"a\": 1, \"b\": 2, \"c\": 3}\n",
    "list(map(lambda k: 'W-' + str(k), my_dict.keys()))"
   ]
  },
  {
   "cell_type": "code",
   "execution_count": 30,
   "metadata": {},
   "outputs": [
    {
     "output_type": "execute_result",
     "data": {
      "text/plain": [
       "{'W-a': 1, 'W-b': 2, 'W-c': 3}"
      ]
     },
     "metadata": {},
     "execution_count": 30
    }
   ],
   "source": [
    "my_dict = {\"a\": 1, \"b\": 2, \"c\": 3}\n",
    "{n:m for n, m in map(lambda k: ('W-' + str(k[0]), k[1]), my_dict.items())}"
   ]
  },
  {
   "cell_type": "markdown",
   "metadata": {},
   "source": [
    "## 4. Reduce\n",
    "La función `reduce` no es *built-in* como tal, sino que está incorporada en el paquete de `functools`. Su nombre ya nos da alguna pista sobre lo que hace, **es una manera de agregar los datos**. Tiene esta sintaxis:\n",
    "\n",
    "```Python\n",
    "reduce(funcion, iterable[, initial])\n",
    "```\n",
    "`reduce`, al igual que `map`, tiene dos argumentos. Uno de ellos es el iterable que vayamos a usar, y el otro es la lógica que le queramos aplicar al `reduce`. La función que se le aplica al reduce tiene dos argumentos, que son los dos primeros elementos del iterable. Tiene un tercer argumento que es opcional, y nos permite iniciar la operación con un valor. Lo veremos luego en un ejemplo.\n",
    "\n",
    "Si te fijas, `map` aplica la operación definida en la función a todos los elementos (uno a uno), devolviendo la misma lista, pero con los elementos transformados, mientras que **`reduce`, agrega todos los datos de la lista**.\n"
   ]
  },
  {
   "cell_type": "code",
   "execution_count": 34,
   "metadata": {},
   "outputs": [
    {
     "data": {
      "text/plain": [
       "10"
      ]
     },
     "execution_count": 34,
     "metadata": {},
     "output_type": "execute_result"
    }
   ],
   "source": [
    "from functools import reduce\n",
    "\n",
    "numbers = [1,2,3,4]\n",
    "\n",
    "reduce(lambda x,y: x+y, numbers)"
   ]
  },
  {
   "cell_type": "code",
   "execution_count": 25,
   "metadata": {},
   "outputs": [
    {
     "name": "stdout",
     "output_type": "stream",
     "text": [
      "1 + 2\n",
      "--------\n",
      "3 + 3\n",
      "--------\n",
      "6 + 4\n",
      "--------\n",
      "product: 10\n"
     ]
    }
   ],
   "source": [
    "suma = numbers[0]\n",
    "# suma = (((1+2)+3)+4) \n",
    "for num in numbers[1:]:\n",
    "    print(suma, \"+\", num)\n",
    "    suma = suma + num\n",
    "    print(\"--------\")\n",
    "\n",
    "print(\"product:\", suma)"
   ]
  },
  {
   "cell_type": "markdown",
   "metadata": {},
   "source": [
    "La función de dentro tiene dos argumentos que son los dos primeros elementos del iterable, y después al resultado de la suma de ambos, se le aplica la misma operación sobre el tercer elemento, y así hasta que acaba el iterable."
   ]
  },
  {
   "cell_type": "code",
   "execution_count": 35,
   "metadata": {},
   "outputs": [
    {
     "data": {
      "text/plain": [
       "160"
      ]
     },
     "execution_count": 35,
     "metadata": {},
     "output_type": "execute_result"
    }
   ],
   "source": [
    "reduce(lambda x,y: x+y, numbers, 150)"
   ]
  },
  {
   "cell_type": "markdown",
   "metadata": {},
   "source": [
    "Realmente el `reduce` lleva un tercer argumento llamado `initializer`. Por defecto es `None`, pero si lo cambiamos, cuando llamemos a la función, su primer argumento será ese `initializer`. Por ejemplo, si estamos sumando toda una colección sería como si el primer elemento de la colección fuese el `initializer`."
   ]
  },
  {
   "cell_type": "markdown",
   "metadata": {},
   "source": [
    "<table align=\"left\">\n",
    " <tr><td width=\"80\"><img src=\"img/ejercicio.png\" style=\"width:auto;height:auto\"></td>\n",
    "     <td style=\"text-align:left\">\n",
    "         <h3>Trabajando con reduce</h3>\n",
    "         \n",
    "Utiliza reduce para calcular el producto de todos los elementos de la siguiente tupla\n",
    "         \n",
    " </td></tr>\n",
    "</table>"
   ]
  },
  {
   "cell_type": "code",
   "execution_count": 24,
   "metadata": {},
   "outputs": [
    {
     "output_type": "execute_result",
     "data": {
      "text/plain": [
       "120"
      ]
     },
     "metadata": {},
     "execution_count": 24
    }
   ],
   "source": [
    "from functools import reduce\n",
    "\n",
    "tupla = (2,3,4,5)\n",
    "reduce(lambda x,y: x*y, tupla)"
   ]
  },
  {
   "cell_type": "code",
   "execution_count": 26,
   "metadata": {},
   "outputs": [
    {
     "output_type": "execute_result",
     "data": {
      "text/plain": [
       "'Python - Java - Javascript - Ruby'"
      ]
     },
     "metadata": {},
     "execution_count": 26
    }
   ],
   "source": [
    "lista_string = ['Python', 'Java', 'Javascript', 'Ruby']\n",
    "\n",
    "reduce(lambda x, y: x + ' - ' + y, lista_string)"
   ]
  },
  {
   "cell_type": "markdown",
   "metadata": {},
   "source": [
    "## 5. Filter\n",
    "Con esta función *built-in* podremos **filtrar elementos de un iterable**. `filter` tiene la siguiente sintaxis:\n",
    "\n",
    "```Python\n",
    "filter(funcion, iterable)\n",
    "```\n",
    "\n",
    "Como ves, funciona muy parecido a map. La diferencia es que ahora la función que se le aplica tiene una salida estilo `True`/`False`. Y con ese `True`/`False` se filtra el iterable, respetando sus posiciones. Por ejemplo\n",
    "\n",
    "```Python\n",
    "lista1 = [-1, 10, 23, -5, -10]\n",
    "```\n",
    "\n",
    "Si filtras los números positivos, te queda un array del tipo:\n",
    "\n",
    "```Python\n",
    "lista_bools = [False, True, True, False, False]\n",
    "```\n",
    "\n",
    "Y eso es lo que se le aplica a la lista, conservando únicamente los `True`:\n",
    "\n",
    "```Python\n",
    "lista_resultado = [10, 23]\n",
    "```\n",
    "\n",
    "A diferencia de `map` **en `filter` sólo se usa un iterable**. Además, recuerda que en el argumento de la función, no sólo podrás usar `lambda`s, sino que podrás aplicar tus propias funciones. Ahora bien, ten en cuenta que **el output de esas funciones tiene que ser un `True`/`False`**.\n",
    "\n",
    "Veamos un ejemplo"
   ]
  },
  {
   "cell_type": "code",
   "execution_count": 28,
   "metadata": {},
   "outputs": [
    {
     "data": {
      "text/plain": [
       "[5, 6]"
      ]
     },
     "execution_count": 28,
     "metadata": {},
     "output_type": "execute_result"
    }
   ],
   "source": [
    "lista_num = [2,3,4,5,6]\n",
    "\n",
    "list(filter(lambda x: x>=5, lista_num))"
   ]
  },
  {
   "cell_type": "markdown",
   "metadata": {},
   "source": [
    "O implementando nuestra propia función"
   ]
  },
  {
   "cell_type": "code",
   "execution_count": 29,
   "metadata": {},
   "outputs": [
    {
     "data": {
      "text/plain": [
       "[5, 6]"
      ]
     },
     "execution_count": 29,
     "metadata": {},
     "output_type": "execute_result"
    }
   ],
   "source": [
    "def mas_cinco(x):\n",
    "    if x >= 5:\n",
    "        return True\n",
    "    return False\n",
    "\n",
    "list(filter(mas_cinco, lista_num))"
   ]
  },
  {
   "cell_type": "markdown",
   "metadata": {},
   "source": [
    "Como ves, estas son otras formas más rápdas y elegantes de aplicar operaciones sobre colecciones."
   ]
  },
  {
   "cell_type": "markdown",
   "metadata": {},
   "source": [
    "<table align=\"left\">\n",
    " <tr><td width=\"80\"><img src=\"img/ejercicio.png\" style=\"width:auto;height:auto\"></td>\n",
    "     <td style=\"text-align:left\">\n",
    "         <h3>Trabajando con filter</h3>\n",
    "         \n",
    "Utiliza filter para conseguir quedarte únicamente con los floats de la siguiente tupla.\n",
    "         \n",
    " </td></tr>\n",
    "</table>"
   ]
  },
  {
   "cell_type": "code",
   "execution_count": 27,
   "metadata": {},
   "outputs": [
    {
     "output_type": "execute_result",
     "data": {
      "text/plain": [
       "[4.0, 3.0, 9.0]"
      ]
     },
     "metadata": {},
     "execution_count": 27
    }
   ],
   "source": [
    "min_no_floats = (1, 4., 5, 3.,9.)\n",
    "list(filter(lambda x: isinstance(x, float), min_no_floats))"
   ]
  },
  {
   "cell_type": "markdown",
   "metadata": {},
   "source": [
    "## 6. Timeit\n",
    "Para el bootcamp, y en general si vas a realizar una analítica descriptiva de datos, no suele ser crítico el rendimiento en tu programa. Imagina que has desarrollado un clasificador de movimientos bancarios tipo *Fintonic*. Estos algoritmos suelen ser muy pesados ya que hay que buscar en muchos strings y hacer muchas comprobaciones. Aun así, has conseguido que te clasifique cada movimiento en 0,5 segundos. Que está muy bien. El problema es cuando un cliente tiene 1000 movimientos en una cuenta y tienes que clasificarlos todos aplicando tu clasificador mediante un bucle. El programa se te dispara a 250 segundos -> 4 minutos aprox, que estará el cliente esperando a que tu clasificador acabe... muchísimo. Con programación funcional mejora mucho la cosa ya que no hay que iterar.\n",
    "\n",
    "Por tanto, **cuando trabajes con muchos datos, ten en mente este tipo de funciones (`map`, `reduce`, `filter`) ya que la mejora en rendimiento es más que considerable.**"
   ]
  },
  {
   "cell_type": "code",
   "execution_count": 31,
   "metadata": {},
   "outputs": [],
   "source": [
    "num_elementos = 100000\n",
    "\n",
    "lista = list(range(num_elementos))"
   ]
  },
  {
   "cell_type": "code",
   "execution_count": 32,
   "metadata": {},
   "outputs": [
    {
     "output_type": "stream",
     "name": "stdout",
     "text": [
      "9.57 ms ± 931 µs per loop (mean ± std. dev. of 7 runs, 100 loops each)\n"
     ]
    }
   ],
   "source": [
    "%%timeit\n",
    "\n",
    "lista_output = []\n",
    "for i in lista:\n",
    "    lista_output.append(i + 5)"
   ]
  },
  {
   "cell_type": "code",
   "execution_count": 33,
   "metadata": {},
   "outputs": [
    {
     "name": "stdout",
     "output_type": "stream",
     "text": [
      "195 ns ± 2.5 ns per loop (mean ± std. dev. of 7 runs, 1000000 loops each)\n"
     ]
    }
   ],
   "source": [
    "%%timeit\n",
    "\n",
    "lista_output = map(lambda x: x + 5, lista)"
   ]
  },
  {
   "cell_type": "markdown",
   "metadata": {},
   "source": [
    "Como ves, pasamos de milisegundos a nanosegundos. "
   ]
  },
  {
   "cell_type": "markdown",
   "metadata": {},
   "source": [
    "## 7. Resumen\n",
    "Como habrás podido comprobar en este Notebook, y en lo vimos en recursividad, esta manera de programar es bastante diferente, ya no entendemos el programa como un conjunto de variables o estados, sino como una serie de `input`/`output`. Lo bueno que tiene **Python es que combina la programación orientada a objetos con la programación funcional**, lo que le otorga una gran potencia."
   ]
  },
  {
   "cell_type": "markdown",
   "metadata": {},
   "source": [
    "![imagen](https://res.cloudinary.com/practicaldev/image/fetch/s--fR01rwJz--/c_limit%2Cf_auto%2Cfl_progressive%2Cq_auto%2Cw_880/https://thepracticaldev.s3.amazonaws.com/i/3158n4nhe7gt24wvl2u4.png)"
   ]
  }
 ],
 "metadata": {
  "kernelspec": {
   "name": "python374jvsc74a57bd0674dfd6ded4398e0679ff4f65e9a10a54ff0d14801bec0126172cfc3973d1cf1",
   "display_name": "Python 3.7.4 64-bit"
  },
  "language_info": {
   "codemirror_mode": {
    "name": "ipython",
    "version": 3
   },
   "file_extension": ".py",
   "mimetype": "text/x-python",
   "name": "python",
   "nbconvert_exporter": "python",
   "pygments_lexer": "ipython3",
   "version": "3.7.4"
  },
  "metadata": {
   "interpreter": {
    "hash": "674dfd6ded4398e0679ff4f65e9a10a54ff0d14801bec0126172cfc3973d1cf1"
   }
  }
 },
 "nbformat": 4,
 "nbformat_minor": 4
}