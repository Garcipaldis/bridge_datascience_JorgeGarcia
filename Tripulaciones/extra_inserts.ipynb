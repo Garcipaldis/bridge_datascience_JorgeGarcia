{
 "cells": [
  {
   "cell_type": "code",
   "execution_count": 1,
   "source": [
    "import json\r\n",
    "from sqlalchemy import create_engine\r\n",
    "import pandas as pd\r\n",
    "\r\n",
    "# Leemos json con las credenciales\r\n",
    "with open('settings_sql.json', \"r\") as json_file_readed:\r\n",
    "        json_readed = json.load(json_file_readed)\r\n",
    "\r\n",
    "# Asignamos valores\r\n",
    "IP_DNS = json_readed[\"IP_DNS\"]\r\n",
    "PORT = json_readed[\"PORT\"]\r\n",
    "USER = json_readed[\"USER\"]\r\n",
    "PASSWORD = json_readed[\"PASSWORD\"]\r\n",
    "BD_NAME = json_readed[\"BD_NAME\"]\r\n",
    "\r\n",
    "SQL_ALCHEMY = 'mysql+pymysql://' + USER + ':' + PASSWORD + '@' + IP_DNS + ':' + str(PORT) + '/' + BD_NAME\r\n",
    "\r\n",
    "# Creamos conexión\r\n",
    "engine = create_engine(SQL_ALCHEMY)"
   ],
   "outputs": [],
   "metadata": {}
  },
  {
   "cell_type": "code",
   "execution_count": 3,
   "source": [
    "comentarios = {'id_user':[1, 1, 1, 2, 2], 'id_evento':[2, 15, 29, 38, 16], 'comentario':[], 'fecha':[]}\r\n",
    "\r\n",
    "comentarios['comentario'] += [\"Muy buena idea y excelente concierto. Me gustó que fuera al aire libre\",\r\n",
    "\"Maravillosa exposición y facilmente accesible.\",\r\n",
    "\"Un agradable lugar donde conectar con la naturaleza preparado para todas las personas.\",\r\n",
    "\"Costó un poco llegar pero sin duda muy recomendable.\",\r\n",
    "\"Una experiencia que pone a prueba casi todos los sentidos\"]\r\n",
    "comentarios['fecha'] += ['2021-07-01', '2021-06-28', '2021-05-16', '2021-04-20', '2021-07-21']"
   ],
   "outputs": [],
   "metadata": {}
  },
  {
   "cell_type": "code",
   "execution_count": 4,
   "source": [
    "df = pd.DataFrame(comentarios, index=range(len(comentarios['fecha'])))\r\n",
    "df"
   ],
   "outputs": [
    {
     "output_type": "execute_result",
     "data": {
      "text/plain": [
       "   id_user  id_evento                                         comentario  \\\n",
       "0        1          2  Muy buena idea y excelente concierto. Me gustó...   \n",
       "1        1         15     Maravillosa exposición y facilmente accesible.   \n",
       "2        1         29  Un agradable lugar donde conectar con la natur...   \n",
       "3        2         38  Costó un poco llegar pero sin duda muy recomen...   \n",
       "4        2         16  Una experiencia que pone a prueba casi todos l...   \n",
       "\n",
       "        fecha  \n",
       "0  2021-07-01  \n",
       "1  2021-06-28  \n",
       "2  2021-05-16  \n",
       "3  2021-04-20  \n",
       "4  2021-07-21  "
      ],
      "text/html": [
       "<div>\n",
       "<style scoped>\n",
       "    .dataframe tbody tr th:only-of-type {\n",
       "        vertical-align: middle;\n",
       "    }\n",
       "\n",
       "    .dataframe tbody tr th {\n",
       "        vertical-align: top;\n",
       "    }\n",
       "\n",
       "    .dataframe thead th {\n",
       "        text-align: right;\n",
       "    }\n",
       "</style>\n",
       "<table border=\"1\" class=\"dataframe\">\n",
       "  <thead>\n",
       "    <tr style=\"text-align: right;\">\n",
       "      <th></th>\n",
       "      <th>id_user</th>\n",
       "      <th>id_evento</th>\n",
       "      <th>comentario</th>\n",
       "      <th>fecha</th>\n",
       "    </tr>\n",
       "  </thead>\n",
       "  <tbody>\n",
       "    <tr>\n",
       "      <th>0</th>\n",
       "      <td>1</td>\n",
       "      <td>2</td>\n",
       "      <td>Muy buena idea y excelente concierto. Me gustó...</td>\n",
       "      <td>2021-07-01</td>\n",
       "    </tr>\n",
       "    <tr>\n",
       "      <th>1</th>\n",
       "      <td>1</td>\n",
       "      <td>15</td>\n",
       "      <td>Maravillosa exposición y facilmente accesible.</td>\n",
       "      <td>2021-06-28</td>\n",
       "    </tr>\n",
       "    <tr>\n",
       "      <th>2</th>\n",
       "      <td>1</td>\n",
       "      <td>29</td>\n",
       "      <td>Un agradable lugar donde conectar con la natur...</td>\n",
       "      <td>2021-05-16</td>\n",
       "    </tr>\n",
       "    <tr>\n",
       "      <th>3</th>\n",
       "      <td>2</td>\n",
       "      <td>38</td>\n",
       "      <td>Costó un poco llegar pero sin duda muy recomen...</td>\n",
       "      <td>2021-04-20</td>\n",
       "    </tr>\n",
       "    <tr>\n",
       "      <th>4</th>\n",
       "      <td>2</td>\n",
       "      <td>16</td>\n",
       "      <td>Una experiencia que pone a prueba casi todos l...</td>\n",
       "      <td>2021-07-21</td>\n",
       "    </tr>\n",
       "  </tbody>\n",
       "</table>\n",
       "</div>"
      ]
     },
     "metadata": {},
     "execution_count": 4
    }
   ],
   "metadata": {}
  },
  {
   "cell_type": "code",
   "execution_count": 5,
   "source": [
    "df.to_sql('comentarios', engine, index=False, if_exists='append')"
   ],
   "outputs": [],
   "metadata": {}
  },
  {
   "cell_type": "code",
   "execution_count": 8,
   "source": [
    "favs = {'id_user':[1, 1, 1, 2, 2, 2, 2, 2], 'id_evento':[20, 18, 5, 30, 31, 8, 16, 21]}\r\n",
    "\r\n",
    "fav = pd.DataFrame(favs, index=range(8))\r\n",
    "fav"
   ],
   "outputs": [
    {
     "output_type": "execute_result",
     "data": {
      "text/plain": [
       "   id_user  id_evento\n",
       "0        1         20\n",
       "1        1         18\n",
       "2        1          5\n",
       "3        2         30\n",
       "4        2         31\n",
       "5        2          8\n",
       "6        2         16\n",
       "7        2         21"
      ],
      "text/html": [
       "<div>\n",
       "<style scoped>\n",
       "    .dataframe tbody tr th:only-of-type {\n",
       "        vertical-align: middle;\n",
       "    }\n",
       "\n",
       "    .dataframe tbody tr th {\n",
       "        vertical-align: top;\n",
       "    }\n",
       "\n",
       "    .dataframe thead th {\n",
       "        text-align: right;\n",
       "    }\n",
       "</style>\n",
       "<table border=\"1\" class=\"dataframe\">\n",
       "  <thead>\n",
       "    <tr style=\"text-align: right;\">\n",
       "      <th></th>\n",
       "      <th>id_user</th>\n",
       "      <th>id_evento</th>\n",
       "    </tr>\n",
       "  </thead>\n",
       "  <tbody>\n",
       "    <tr>\n",
       "      <th>0</th>\n",
       "      <td>1</td>\n",
       "      <td>20</td>\n",
       "    </tr>\n",
       "    <tr>\n",
       "      <th>1</th>\n",
       "      <td>1</td>\n",
       "      <td>18</td>\n",
       "    </tr>\n",
       "    <tr>\n",
       "      <th>2</th>\n",
       "      <td>1</td>\n",
       "      <td>5</td>\n",
       "    </tr>\n",
       "    <tr>\n",
       "      <th>3</th>\n",
       "      <td>2</td>\n",
       "      <td>30</td>\n",
       "    </tr>\n",
       "    <tr>\n",
       "      <th>4</th>\n",
       "      <td>2</td>\n",
       "      <td>31</td>\n",
       "    </tr>\n",
       "    <tr>\n",
       "      <th>5</th>\n",
       "      <td>2</td>\n",
       "      <td>8</td>\n",
       "    </tr>\n",
       "    <tr>\n",
       "      <th>6</th>\n",
       "      <td>2</td>\n",
       "      <td>16</td>\n",
       "    </tr>\n",
       "    <tr>\n",
       "      <th>7</th>\n",
       "      <td>2</td>\n",
       "      <td>21</td>\n",
       "    </tr>\n",
       "  </tbody>\n",
       "</table>\n",
       "</div>"
      ]
     },
     "metadata": {},
     "execution_count": 8
    }
   ],
   "metadata": {}
  },
  {
   "cell_type": "code",
   "execution_count": null,
   "source": [
    "fav.to_sql('usuarios_favEvent', engine, index=False, if_exists='append')"
   ],
   "outputs": [],
   "metadata": {}
  }
 ],
 "metadata": {
  "orig_nbformat": 4,
  "language_info": {
   "name": "python",
   "version": "3.7.4",
   "mimetype": "text/x-python",
   "codemirror_mode": {
    "name": "ipython",
    "version": 3
   },
   "pygments_lexer": "ipython3",
   "nbconvert_exporter": "python",
   "file_extension": ".py"
  },
  "kernelspec": {
   "name": "python3",
   "display_name": "Python 3.7.4 64-bit"
  },
  "interpreter": {
   "hash": "674dfd6ded4398e0679ff4f65e9a10a54ff0d14801bec0126172cfc3973d1cf1"
  }
 },
 "nbformat": 4,
 "nbformat_minor": 2
}