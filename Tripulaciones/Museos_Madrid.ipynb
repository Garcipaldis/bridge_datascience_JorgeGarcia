{
 "cells": [
  {
   "cell_type": "code",
   "execution_count": 1,
   "source": [
    "# Importamos las librerías necesarias para convertir el pdf a texto\r\n",
    "from pdfminer.pdfinterp import PDFResourceManager, PDFPageInterpreter\r\n",
    "from pdfminer.converter import TextConverter\r\n",
    "from pdfminer.layout import LAParams\r\n",
    "from pdfminer.pdfpage import PDFPage\r\n",
    "from io import StringIO\r\n",
    "\r\n",
    "# Definimos la función que convierte el pdf a texto\r\n",
    "def convert_pdf_to_txt(path):\r\n",
    "    rsrcmgr = PDFResourceManager()\r\n",
    "    retstr = StringIO()\r\n",
    "    codec = 'utf-8'\r\n",
    "    laparams = LAParams()\r\n",
    "    device = TextConverter(rsrcmgr, retstr, codec=codec, laparams=laparams)\r\n",
    "    fp = open(path, 'rb')\r\n",
    "    interpreter = PDFPageInterpreter(rsrcmgr, device)\r\n",
    "    password = \"\"\r\n",
    "    maxpages = 0\r\n",
    "    caching = True\r\n",
    "    pagenos=set()\r\n",
    "\r\n",
    "    for page in PDFPage.get_pages(fp, pagenos, maxpages=maxpages, password=password,caching=caching, check_extractable=True):\r\n",
    "        interpreter.process_page(page)\r\n",
    "\r\n",
    "    text = retstr.getvalue()\r\n",
    "\r\n",
    "    fp.close()\r\n",
    "    device.close()\r\n",
    "    retstr.close()\r\n",
    "    return text"
   ],
   "outputs": [],
   "metadata": {}
  },
  {
   "cell_type": "code",
   "execution_count": 2,
   "source": [
    "# Guardamos el texto en un nuevo archivo\r\n",
    "with open('Museos_Madrid.txt', 'w', encoding='utf-8') as f:\r\n",
    "    text = convert_pdf_to_txt('Museos_Madrid.pdf')\r\n",
    "    f.write(text)"
   ],
   "outputs": [],
   "metadata": {}
  },
  {
   "cell_type": "code",
   "execution_count": 3,
   "source": [
    "# Leemos el texto por líneas\r\n",
    "with open('Museos_Madrid.txt', 'r', encoding='utf-8') as f:\r\n",
    "    lines = f.readlines()"
   ],
   "outputs": [],
   "metadata": {}
  },
  {
   "cell_type": "code",
   "execution_count": null,
   "source": [
    "import pandas as pd\r\n",
    "\r\n",
    "def get_general_data(centros, lines):\r\n",
    "    # Obtenemos datos de cada centro\r\n",
    "    data1 = {'Ubicacion':[], 'Centro':[], 'Direccion':[], 'Telefono':[], 'email':[],'Informacion':[]}\r\n",
    "\r\n",
    "    clean_lines = [line.replace('\\n', '') for line in lines]\r\n",
    "\r\n",
    "    for centro in centros:\r\n",
    "\r\n",
    "        data1['Ubicacion'].append(centro[0])\r\n",
    "        data1['Centro'].append(centro[1])\r\n",
    "\r\n",
    "        for i, line in enumerate(clean_lines):\r\n",
    "            if line.startswith(centro[1]) and clean_lines[i-1].startswith(centro[0][:10]):\r\n",
    "                for j in range(i+2, len(clean_lines)):\r\n",
    "                    if len(data1['Informacion']) == len(data1['Centro']):\r\n",
    "                        break\r\n",
    "                    elif clean_lines[j].startswith('Información General'):\r\n",
    "                        texto = ''\r\n",
    "                        for k in range(j+2, len(clean_lines)):\r\n",
    "                            if clean_lines[k] == '':\r\n",
    "                                data1['Informacion'].append(texto)\r\n",
    "                                break\r\n",
    "                            else:\r\n",
    "                                texto += ' ' + clean_lines[k]\r\n",
    "                    if j == i + 2:\r\n",
    "                        # Distintas opciones en función del tipo de dirección\r\n",
    "                        if clean_lines[j+1].startswith('Tel'):\r\n",
    "                            data1['Direccion'].append(clean_lines[j])\r\n",
    "                            data1['Telefono'].append(clean_lines[j+1])\r\n",
    "                            data1['email'].append(clean_lines[j+2])\r\n",
    "\r\n",
    "                        elif clean_lines[j+2].startswith('Tel'):\r\n",
    "                            data1['Direccion'].append(clean_lines[j] + ' ' + clean_lines[j+1])\r\n",
    "                            data1['Telefono'].append(clean_lines[j+2])\r\n",
    "                            data1['email'].append(clean_lines[j+3])\r\n",
    "\r\n",
    "                        else:\r\n",
    "                            data1['Direccion'].append(clean_lines[j] + ' ' + clean_lines[j+2])\r\n",
    "                            data1['Telefono'].append(clean_lines[j+3])\r\n",
    "                            data1['email'].append(clean_lines[j+4])\r\n",
    "\r\n",
    "    centros_df = pd.DataFrame(data1, index=range(len(data1['Centro'])))\r\n",
    "\r\n",
    "    return centros_df\r\n",
    "\r\n",
    "def get_access_data(centros, lines):\r\n",
    "    # Obtenemos accesibilidad de cada centro\r\n",
    "    data2 = {'Centro':[]}\r\n",
    "\r\n",
    "    clean_lines = [line.replace('\\n', '') for line in lines]\r\n",
    "\r\n",
    "    excepciones = ['Espacios y Actividades en la Naturaleza Accesibles para Todas las Personas',\r\n",
    "                'Centros de interpretación / Casas del Parque y Aulas de la Naturaleza',\r\n",
    "                'Ubicación',\r\n",
    "                'Características destacables',\r\n",
    "                'Zona de Picnic',\r\n",
    "                '(cid:2) Dispone de paneles informati-',\r\n",
    "                'trastado: Sí',\r\n",
    "                'rrelieve: No',\r\n",
    "                '(cid:2) Iconos homologados: no hay',\r\n",
    "                'Señalización',\r\n",
    "                'Sendero Guiado / Autoguiado',\r\n",
    "                'pavimento',\r\n",
    "                'Arboreto',\r\n",
    "                'Monumentos, museos y puntos de interés turístico Accesibles para Todos',\r\n",
    "                'Comunidad de Madrid',\r\n",
    "                'Madrid',\r\n",
    "                'silla de ruedas',\r\n",
    "                'SSaallóónn  ddee  aaccttooss',\r\n",
    "                'Planta baja',\r\n",
    "                'Accesible',\r\n",
    "                'SSeeññaalliizzaacciióónn',\r\n",
    "                'nario sin asistencia.',\r\n",
    "                'librería.',\r\n",
    "                'confirme el registro de la llamada: No',\r\n",
    "                'CCoonnssiiggnnaa',\r\n",
    "                'Accesible  (cid:2) Hay plazas reservadas para usuarios de silla de rue-',\r\n",
    "                ]\r\n",
    "\r\n",
    "    found_cols = [] # Columnas que se añaden por centro\r\n",
    "\r\n",
    "    # Extracción de datos\r\n",
    "    for centro in centros:\r\n",
    "\r\n",
    "        data2['Centro'].append(centro[1])\r\n",
    "        print(len(data2['Centro']))\r\n",
    "\r\n",
    "        for i, line in enumerate(clean_lines):\r\n",
    "            if line.startswith(centro[1]) and clean_lines[i-1].startswith(centro[0][:10]):\r\n",
    "                for j in range(i+2, len(clean_lines)):\r\n",
    "                    if clean_lines[j] == 'Accesibilidad Visual':\r\n",
    "                        break\r\n",
    "                    elif clean_lines[j] == 'Accesibilidad Física':\r\n",
    "                        for k in range(j+1, len(clean_lines)-1):\r\n",
    "                            # Fin de los datos del centro\r\n",
    "                            if clean_lines[k] == 'Accesibilidad Visual':\r\n",
    "                                print(found_cols)\r\n",
    "                                # Se mira el número de columnas y se añade 'NP' en las que existen pero no se han encontrado\r\n",
    "                                for key in data2.keys():\r\n",
    "                                    if key not in found_cols and key != 'Centro':\r\n",
    "                                        data2[key].append('NP')\r\n",
    "                                found_cols = [] # Se reinicia la cuenta\r\n",
    "                                break\r\n",
    "                            # Columna encontrada\r\n",
    "                            elif clean_lines[k] != '' and clean_lines[k+1] == '' and clean_lines[k-1] == '' and clean_lines[k].replace(' ', '').isalpha() and '\f' not in clean_lines[k] and clean_lines[k] not in excepciones:\r\n",
    "                                found_cols.append(clean_lines[k])\r\n",
    "                                texto = ''\r\n",
    "                                # Concatenando líneas de la respectiva columna\r\n",
    "                                for n in range(k+2, len(clean_lines)):\r\n",
    "                                    #print(len(data2['Centro']))\r\n",
    "                                    if clean_lines[n] == '':\r\n",
    "                                        if clean_lines[k] in data2.keys():\r\n",
    "                                            data2[clean_lines[k]].append(texto.replace('- ', ''))\r\n",
    "                                            break\r\n",
    "                                        elif len(data2['Centro']) == 1:\r\n",
    "                                            data2[clean_lines[k]] = [texto.replace('- ', '')]\r\n",
    "                                            break\r\n",
    "                                        else:\r\n",
    "                                            data2[clean_lines[k]] = ['NP' for v in range(len(data2['Centro'])-1)] + [texto.replace('- ', '')]\r\n",
    "                                            break\r\n",
    "                                    # Nos saltamos los cambios de página.\r\n",
    "                                    elif clean_lines[n] == '' and len(clean_lines[n+1]) == 1 or len(clean_lines[n]) == 1 and len(clean_lines[n+1]) == 1:\r\n",
    "                                        continue\r\n",
    "                                    else:\r\n",
    "                                        texto += clean_lines[n] + ' '\r\n",
    "\r\n",
    "\r\n",
    "    access_df = pd.DataFrame(data2, index=range(len(data2['Centro'])))\r\n",
    "\r\n",
    "    return access_df"
   ],
   "outputs": [],
   "metadata": {}
  },
  {
   "cell_type": "code",
   "execution_count": 48,
   "source": [
    "data = {'id_evento':[0,1,2,3,4]}"
   ],
   "outputs": [],
   "metadata": {}
  },
  {
   "cell_type": "code",
   "execution_count": 49,
   "source": [
    "data['tipo_evento'] = ['Museo', 'Museo', 'Museo', 'Museo', 'Museo']"
   ],
   "outputs": [],
   "metadata": {}
  },
  {
   "cell_type": "code",
   "execution_count": 50,
   "source": [
    "data['nombre_evento'] = ['Museo Nacional Centro de Arte Reina Sofía', 'Museo Nacional del Prado','Palacio Real de Madrid','Palacio Real de Aranjuez',\r\n",
    "'Real Monasterio de San Lorenzo del Escorial',]"
   ],
   "outputs": [],
   "metadata": {}
  },
  {
   "cell_type": "code",
   "execution_count": 51,
   "source": [
    "data['descripcion'] = ['''Uno de los más importantes museos de arte de España para obras realizadas desde finales\r\n",
    "del siglo XIX a la actualidad, principalmente de artistas españoles: Dalí, Miró, Juan Gris, Julio Gonzá-\r\n",
    "lez, Tapies, Chillida. La estrella es Guernica (1937) de Pablo Picasso. El museo está situado en un\r\n",
    "bello edificio diseñado en tiempos de Carlos III por Sabatini, como Hospital General de San Carlos,\r\n",
    "restaurado en los años ochenta del siglo pasado.''',\r\n",
    "                        '''El Museo Nacional del Prado posee en la actualidad más de siete mil pinturas y alberga colecciones\r\n",
    "destacadas de escultura clásica y moderna, de artes decorativas y de estampas y dibujos. La calidad\r\n",
    "de su colección de pintura es prácticamente inigualable ya que en ella se encuentran las colecciones\r\n",
    "más completas de Tiziano, Velázquez, Ribera, Murillo, Rubens, El Bosco o El Greco que se pueden\r\n",
    "ver en una única institución.''',\r\n",
    "                        '''El Palacio Real de Madrid es la residencia oficial de Su Majestad el Rey de España, que lo emplea en\r\n",
    "las ceremonias de Estado, aunque no habita en él. \r\n",
    "El origen del palacio se remonta al siglo IX en el que el reino musulmán de Toledo construyó una edi-\r\n",
    "ficación defensiva que después usaron los reyes de Castilla, sobre la que en el Siglo XVI, se constru-\r\n",
    "yó el Antiguo Alcázar. \r\n",
    "Destruido este por un incendio en la Nochebuena de 1734, fue reconstruido por Felipe V.''',\r\n",
    "                        '''Residencia de primavera de los monarcas españoles desde tiempos de\r\n",
    "Felipe II, fue remodelado y ampliado en el siglo XVIII por Felipe V, Fernando VI y Carlos III para conver-\r\n",
    "tirlo en un bellísimo palacio a orillas del Tajo, completado con destacadas actuaciones urbanísticas en\r\n",
    "el entorno del edificio y en la propia villa de Aranjuez. En el siglo XIX continuaron las intervenciones de\r\n",
    "la Corona, que harían también de sus jardines uno de los espacios más ricos y evocadores de los\r\n",
    "Reales Sitios.''',\r\n",
    "                        '''El Monasterio de El Escorial, construido entre 1563 y 1584 según los proyectos de Juan Bautista de\r\n",
    "Toledo y Juan de Herrera, fue fundado por Felipe II con la intención de construir un mausoleo para su\r\n",
    "padre, Carlos V, y como monumento conmemorativo de la victoria de San Quintín.\r\n",
    "Las salas que pueden visitar PMR son los “Salones de Honor o Sala de Tapices”, la\r\n",
    "“Basílica”, la “Sala de los Secretos y Sala Trinidad”, el “Claustro Principal”, la\r\n",
    "“Iglesia Vieja” y las “Salas Capitulares”.''']"
   ],
   "outputs": [],
   "metadata": {}
  },
  {
   "cell_type": "code",
   "execution_count": 52,
   "source": [
    "data['direccion'] = ['C/ Santa Isabel, 52 28012 Madrid', 'Paseo del Prado s/n 28014 Madrid','C/ Bailén, s/n 28071 Madrid', \r\n",
    "'Plaza de Parejas 28300 Aranjuez (Madrid)','Paseo de Juan Borbón y Battenberg s/n 28200 San Lorenzo del Escorial (Madrid)' ]"
   ],
   "outputs": [],
   "metadata": {}
  },
  {
   "cell_type": "code",
   "execution_count": 53,
   "source": [
    "data['long'] = ['-3.6945998175650665','-3.6921700175648517','-3.7143120022211806','-3.60885477339763','-4.147716073379687']"
   ],
   "outputs": [],
   "metadata": {}
  },
  {
   "cell_type": "code",
   "execution_count": 54,
   "source": [
    "data['lat'] = ['40.40805116002868', '40.41378177936541','40.41795497936503','40.03643670816857','40.58913854846469']"
   ],
   "outputs": [],
   "metadata": {}
  },
  {
   "cell_type": "code",
   "execution_count": 55,
   "source": [
    "data['contacto'] = ['www.museoreinasofia.es', 'www.museodelprado.es', 'www.patrimonionacional.es', 'www.patrimonionacional.es', 'www.patrimonionacional.es']"
   ],
   "outputs": [],
   "metadata": {}
  },
  {
   "cell_type": "code",
   "execution_count": 56,
   "source": [
    "data['accesibilidad'] = ['''El museo tiene dos accesos, uno en la fachada principal del edificio Sabatini y otro en el edificio\r\n",
    "Nouvel.\r\n",
    "Para acceder sin salvar escalones por el edificio Sabatini (Calle de Santa Isabel 52) debe borde-\r\n",
    "arse la plaza de Sánchez Bustillo, dejando el edificio a la izquierda.\r\n",
    "El acceso al edificio Nouvel (Pza/ Emperador Carlos V s/n, junto a Ronda de Atocha) no tiene\r\n",
    "desniveles y es accesible para visitantes en silla de ruedas mediante rampas.''',\r\n",
    "                        '''Los accesos sin desniveles corresponden a la Puerta de los Jerónimos en el edificio de la\r\n",
    "ampliación y a la Puerta de Velázquez en el edificio de Villanueva. Para aproximarse a ambas\r\n",
    "puertas sin salvar escalones se debe acceder por el Paseo del Prado.\r\n",
    "Las Personas de Movilidad Reducida (PMR) pueden solicitar 72 horas antes, un permiso para estacionar su coche en la plaza\r\n",
    "exterior del Museo, frente a la puerta de Goya.''',\r\n",
    "                        '''Las 2 entradas del Palacio son accesibles para usuarios de silla de ruedas.\r\n",
    "La entrada de la C/ Bailén es sin desniveles, la puerta permanece abierta en horario de visita y\r\n",
    "tiene un ancho de paso > 80 cm. Se cruza un paso de control y escáner de 75 cm de ancho.\r\n",
    "Por esta entrada se accede directamente al patio del Palacio.''',\r\n",
    "                        '''La entrada por la que el público general accede al Palacio tiene cuatro escalones, dos de 10 cm\r\n",
    "y dos de 18 cm.\r\n",
    "Los usuarios en silla de ruedas acceden por una entrada alternativa, situada en la fachada late-\r\n",
    "ral del Palacio y que corresponde con la salida de todos los visitantes.\r\n",
    "La entrada tiene una rampa de 1,50 m de ancho, 1,94 m de longitud y una inclinación pronun-\r\n",
    "ciada del 17,6%. No tiene pasamanos pero si un zócalo de protección a cada lado de 77 cm de\r\n",
    "altura.''',\r\n",
    "                        '''La entrada al Monasterio para el público general es por la Fachada Norte, en este acceso se\r\n",
    "adquieren las los billetes de entrada.\r\n",
    "Las PMR inician la visita a los salones de la planta baja por otra puerta de acceso ya que entre\r\n",
    "la entrada principal y la primera sala hay 3 peldaños de 10 cm.\r\n",
    "La puerta de acceso alternativa se encuentra junto a la de la entrada principal, la abre una per-\r\n",
    "sona del personal de atención, si se solicita a la hora de comprar el billete.''']"
   ],
   "outputs": [],
   "metadata": {}
  },
  {
   "cell_type": "code",
   "execution_count": 33,
   "source": [
    "len('''El Monasterio de El Escorial, construido entre 1563 y 1584 según los proyectos de Juan Bautista de\r\n",
    "Toledo y Juan de Herrera, fue fundado por Felipe II con la intención de construir un mausoleo para su\r\n",
    "padre, Carlos V, y como monumento conmemorativo de la victoria de San Quintín.\r\n",
    "Las salas que pueden visitar PMR son los “Salones de Honor o Sala de Tapices”, la\r\n",
    "“Basílica”, la “Sala de los Secretos y Sala Trinidad”, el “Claustro Principal”, la\r\n",
    "“Iglesia Vieja” y las “Salas Capitulares”.''')"
   ],
   "outputs": [
    {
     "output_type": "execute_result",
     "data": {
      "text/plain": [
       "487"
      ]
     },
     "metadata": {},
     "execution_count": 33
    }
   ],
   "metadata": {}
  },
  {
   "cell_type": "code",
   "execution_count": 57,
   "source": [
    "data['precio'] = ['Gratuito', 'Gratuito', 'Gratuito', 'Gratuito', 'Gratuito']"
   ],
   "outputs": [],
   "metadata": {}
  },
  {
   "cell_type": "code",
   "execution_count": 58,
   "source": [
    "data['fecha_inicio'] = ['22-07-2021', '22-07-2021', '22-07-2021', '22-07-2021', '22-07-2021']"
   ],
   "outputs": [],
   "metadata": {}
  },
  {
   "cell_type": "code",
   "execution_count": 59,
   "source": [
    "data['fecha_fin'] = ['22-07-2050', '22-07-2050', '22-07-2050', '22-07-2050', '22-07-2050']"
   ],
   "outputs": [],
   "metadata": {}
  },
  {
   "cell_type": "code",
   "execution_count": null,
   "source": [
    "data['imagen_url'] = ['https://upload.wikimedia.org/wikipedia/commons/d/d9/Madrid_-_Museo_Nacional_Centro_de_Arte_Reina_Sof%C3%ADa_%28MNCARS%29_03.JPG',\r\n",
    "'https://upload.wikimedia.org/wikipedia/commons/6/68/Museo_del_Prado_2016_%2825185969599%29.jpg',\r\n",
    "'https://upload.wikimedia.org/wikipedia/commons/4/40/Palacio_Real_de_Madrid_-_03.jpg',\r\n",
    "'https://upload.wikimedia.org/wikipedia/commons/4/49/Palacio_Real_de_Aranjuez_%285%29.jpg',\r\n",
    "'http://turismomadrid.es/images/Portada/2020/02/monasterio-san-lorenzo-virtual-art-2020.jpg']"
   ],
   "outputs": [],
   "metadata": {}
  },
  {
   "cell_type": "code",
   "execution_count": 47,
   "source": [
    "for key, val in data.items():\r\n",
    "    try:\r\n",
    "        print(key, len(val))\r\n",
    "    except:\r\n",
    "        print(key, val)"
   ],
   "outputs": [
    {
     "output_type": "stream",
     "name": "stdout",
     "text": [
      "id_evento 6\n",
      "tipo_evento 5\n",
      "nombre_evento 5\n",
      "descripcion 5\n",
      "direccion 5\n",
      "long 5\n",
      "lat 5\n",
      "contacto 5\n",
      "accesibilidad 5\n",
      "precio 5\n",
      "fecha_inicio 5\n",
      "fecha_fin 5\n"
     ]
    }
   ],
   "metadata": {}
  },
  {
   "cell_type": "code",
   "execution_count": 60,
   "source": [
    "import pandas as pd\r\n",
    "\r\n",
    "df = pd.DataFrame(data)"
   ],
   "outputs": [],
   "metadata": {}
  },
  {
   "cell_type": "code",
   "execution_count": 61,
   "source": [
    "df"
   ],
   "outputs": [
    {
     "output_type": "execute_result",
     "data": {
      "text/plain": [
       "   id_evento tipo_evento                                nombre_evento  \\\n",
       "0          0       Museo    Museo Nacional Centro de Arte Reina Sofía   \n",
       "1          1       Museo                     Museo Nacional del Prado   \n",
       "2          2       Museo                       Palacio Real de Madrid   \n",
       "3          3       Museo                     Palacio Real de Aranjuez   \n",
       "4          4       Museo  Real Monasterio de San Lorenzo del Escorial   \n",
       "\n",
       "                                         descripcion  \\\n",
       "0  Uno de los más importantes museos de arte de E...   \n",
       "1  El Museo Nacional del Prado posee en la actual...   \n",
       "2  El Palacio Real de Madrid es la residencia ofi...   \n",
       "3  Residencia de primavera de los monarcas españo...   \n",
       "4  El Monasterio de El Escorial, construido entre...   \n",
       "\n",
       "                                           direccion                 long  \\\n",
       "0                   C/ Santa Isabel, 52 28012 Madrid  -3.6945998175650665   \n",
       "1                   Paseo del Prado s/n 28014 Madrid  -3.6921700175648517   \n",
       "2                        C/ Bailén, s/n 28071 Madrid  -3.7143120022211806   \n",
       "3           Plaza de Parejas 28300 Aranjuez (Madrid)    -3.60885477339763   \n",
       "4  Paseo de Juan Borbón y Battenberg s/n 28200 Sa...   -4.147716073379687   \n",
       "\n",
       "                 lat                   contacto  \\\n",
       "0  40.40805116002868     www.museoreinasofia.es   \n",
       "1  40.41378177936541       www.museodelprado.es   \n",
       "2  40.41795497936503  www.patrimonionacional.es   \n",
       "3  40.03643670816857  www.patrimonionacional.es   \n",
       "4  40.58913854846469  www.patrimonionacional.es   \n",
       "\n",
       "                                       accesibilidad    precio fecha_inicio  \\\n",
       "0  El museo tiene dos accesos, uno en la fachada ...  Gratuito   22-07-2021   \n",
       "1  Los accesos sin desniveles corresponden a la P...  Gratuito   22-07-2021   \n",
       "2  Las 2 entradas del Palacio son accesibles para...  Gratuito   22-07-2021   \n",
       "3  La entrada por la que el público general acced...  Gratuito   22-07-2021   \n",
       "4  La entrada al Monasterio para el público gener...  Gratuito   22-07-2021   \n",
       "\n",
       "    fecha_fin  \n",
       "0  22-07-2050  \n",
       "1  22-07-2050  \n",
       "2  22-07-2050  \n",
       "3  22-07-2050  \n",
       "4  22-07-2050  "
      ],
      "text/html": [
       "<div>\n",
       "<style scoped>\n",
       "    .dataframe tbody tr th:only-of-type {\n",
       "        vertical-align: middle;\n",
       "    }\n",
       "\n",
       "    .dataframe tbody tr th {\n",
       "        vertical-align: top;\n",
       "    }\n",
       "\n",
       "    .dataframe thead th {\n",
       "        text-align: right;\n",
       "    }\n",
       "</style>\n",
       "<table border=\"1\" class=\"dataframe\">\n",
       "  <thead>\n",
       "    <tr style=\"text-align: right;\">\n",
       "      <th></th>\n",
       "      <th>id_evento</th>\n",
       "      <th>tipo_evento</th>\n",
       "      <th>nombre_evento</th>\n",
       "      <th>descripcion</th>\n",
       "      <th>direccion</th>\n",
       "      <th>long</th>\n",
       "      <th>lat</th>\n",
       "      <th>contacto</th>\n",
       "      <th>accesibilidad</th>\n",
       "      <th>precio</th>\n",
       "      <th>fecha_inicio</th>\n",
       "      <th>fecha_fin</th>\n",
       "    </tr>\n",
       "  </thead>\n",
       "  <tbody>\n",
       "    <tr>\n",
       "      <th>0</th>\n",
       "      <td>0</td>\n",
       "      <td>Museo</td>\n",
       "      <td>Museo Nacional Centro de Arte Reina Sofía</td>\n",
       "      <td>Uno de los más importantes museos de arte de E...</td>\n",
       "      <td>C/ Santa Isabel, 52 28012 Madrid</td>\n",
       "      <td>-3.6945998175650665</td>\n",
       "      <td>40.40805116002868</td>\n",
       "      <td>www.museoreinasofia.es</td>\n",
       "      <td>El museo tiene dos accesos, uno en la fachada ...</td>\n",
       "      <td>Gratuito</td>\n",
       "      <td>22-07-2021</td>\n",
       "      <td>22-07-2050</td>\n",
       "    </tr>\n",
       "    <tr>\n",
       "      <th>1</th>\n",
       "      <td>1</td>\n",
       "      <td>Museo</td>\n",
       "      <td>Museo Nacional del Prado</td>\n",
       "      <td>El Museo Nacional del Prado posee en la actual...</td>\n",
       "      <td>Paseo del Prado s/n 28014 Madrid</td>\n",
       "      <td>-3.6921700175648517</td>\n",
       "      <td>40.41378177936541</td>\n",
       "      <td>www.museodelprado.es</td>\n",
       "      <td>Los accesos sin desniveles corresponden a la P...</td>\n",
       "      <td>Gratuito</td>\n",
       "      <td>22-07-2021</td>\n",
       "      <td>22-07-2050</td>\n",
       "    </tr>\n",
       "    <tr>\n",
       "      <th>2</th>\n",
       "      <td>2</td>\n",
       "      <td>Museo</td>\n",
       "      <td>Palacio Real de Madrid</td>\n",
       "      <td>El Palacio Real de Madrid es la residencia ofi...</td>\n",
       "      <td>C/ Bailén, s/n 28071 Madrid</td>\n",
       "      <td>-3.7143120022211806</td>\n",
       "      <td>40.41795497936503</td>\n",
       "      <td>www.patrimonionacional.es</td>\n",
       "      <td>Las 2 entradas del Palacio son accesibles para...</td>\n",
       "      <td>Gratuito</td>\n",
       "      <td>22-07-2021</td>\n",
       "      <td>22-07-2050</td>\n",
       "    </tr>\n",
       "    <tr>\n",
       "      <th>3</th>\n",
       "      <td>3</td>\n",
       "      <td>Museo</td>\n",
       "      <td>Palacio Real de Aranjuez</td>\n",
       "      <td>Residencia de primavera de los monarcas españo...</td>\n",
       "      <td>Plaza de Parejas 28300 Aranjuez (Madrid)</td>\n",
       "      <td>-3.60885477339763</td>\n",
       "      <td>40.03643670816857</td>\n",
       "      <td>www.patrimonionacional.es</td>\n",
       "      <td>La entrada por la que el público general acced...</td>\n",
       "      <td>Gratuito</td>\n",
       "      <td>22-07-2021</td>\n",
       "      <td>22-07-2050</td>\n",
       "    </tr>\n",
       "    <tr>\n",
       "      <th>4</th>\n",
       "      <td>4</td>\n",
       "      <td>Museo</td>\n",
       "      <td>Real Monasterio de San Lorenzo del Escorial</td>\n",
       "      <td>El Monasterio de El Escorial, construido entre...</td>\n",
       "      <td>Paseo de Juan Borbón y Battenberg s/n 28200 Sa...</td>\n",
       "      <td>-4.147716073379687</td>\n",
       "      <td>40.58913854846469</td>\n",
       "      <td>www.patrimonionacional.es</td>\n",
       "      <td>La entrada al Monasterio para el público gener...</td>\n",
       "      <td>Gratuito</td>\n",
       "      <td>22-07-2021</td>\n",
       "      <td>22-07-2050</td>\n",
       "    </tr>\n",
       "  </tbody>\n",
       "</table>\n",
       "</div>"
      ]
     },
     "metadata": {},
     "execution_count": 61
    }
   ],
   "metadata": {}
  },
  {
   "cell_type": "code",
   "execution_count": 62,
   "source": [
    "df.to_csv('info_museos_madrid.csv')"
   ],
   "outputs": [],
   "metadata": {}
  },
  {
   "cell_type": "code",
   "execution_count": null,
   "source": [
    "data2 = {'Centro':['Museo Nacional Centro de Arte Reina Sofía', 'Museo Nacional del Prado','Palacio Real de Madrid','Palacio Real de Aranjuez',\r\n",
    "'Real Monasterio de San Lorenzo del Escorial',]}"
   ],
   "outputs": [],
   "metadata": {}
  },
  {
   "cell_type": "code",
   "execution_count": null,
   "source": [
    "data2['Acceso y taquillas de venta de entradas'] = ['''El museo tiene dos accesos, uno en la fachada principal del edificio Sabatini y otro en el edificio\r\n",
    "Nouvel.\r\n",
    "Para acceder sin salvar escalones por el edificio Sabatini (Calle de Santa Isabel 52) debe borde-\r\n",
    "arse la plaza de Sánchez Bustillo, dejando el edificio a la izquierda.\r\n",
    "El acceso al edificio Nouvel (Pza/ Emperador Carlos V s/n, junto a Ronda de Atocha) no tiene\r\n",
    "desniveles y es accesible para visitantes en silla de ruedas mediante rampas.''',]"
   ],
   "outputs": [],
   "metadata": {}
  },
  {
   "cell_type": "code",
   "execution_count": null,
   "source": [
    "data2['Vestíbulo y recepción'] = ['''Junto a las dos puertas de acceso del Museo se sitúa la taquilla de venta de entradas, la del edi-\r\n",
    "ficio Sabatini está después de cruzar la puerta y la del edificio de la ampliación es exterior. \r\n",
    "La taquilla del edificio Sabatini tiene una altura de 11,,1100  mm de altura, no adaptada para usuarios\r\n",
    "de silla de ruedas. La del edificio de la ampliación tiene una altura de 8800  ccmm, que permite la\r\n",
    "aproximación lateral de una persona en silla de ruedas.\r\n",
    "Todos los mostradores de información situados en las distintas plantas del Museo tienen una\r\n",
    "altura de 8800  ccmm.''',]"
   ],
   "outputs": [],
   "metadata": {}
  },
  {
   "cell_type": "code",
   "execution_count": null,
   "source": [
    "data2['Salas de exposiciones'] = ['''Las salas están distribuidas en las 44 plantas del Edificio Sabatini y en las 33  primeras plantas del\r\n",
    "edificio de la ampliación, que se comunican por medio de ascensores y escaleras fijas. \r\n",
    "Todos los desniveles existentes en las salas de exposición disponen de rampas, a excepción de\r\n",
    "la Sala E1 (Espacio Uno), ubicado en la planta 11ªª  del edificio Sabatini, que requiere salvar esca-\r\n",
    "lones.\r\n",
    "La comunicación entre ambos edificios se realiza por la 11ªª, 22ªª  y 33ªª planta del edificio Sabatini, por\r\n",
    "medio de 22 rampas de 22,,5577  mm de ancho, 33,,4455  mm de longitud; ésta dispone de pasamanos a ambos lados. \r\n",
    "Las salas son diáfanas y con recorrido accesible. Disponen de bancos para hacer una pausa.\r\n",
    "Aseo adaptado\r\n",
    "Hay 33  cabinas de aseo para usuarios de silla de ruedas, situadas en la planta primera junto a la\r\n",
    "galería principal, en la planta cuarta junto a la sala 440066 y la última en el edificio Nouvel, en una\r\n",
    "entreplanta situada entre los niveles 0 y 1. Están señalizadas con el Símbolo Internacional de\r\n",
    "Accesibilidad (SSIIAA).\r\n",
    "La puerta de la cabina del edificio Nouvel abre hacia fuera y mide 9922  ccmm de ancho.''']"
   ],
   "outputs": [],
   "metadata": {}
  },
  {
   "cell_type": "code",
   "execution_count": null,
   "source": [
    "data2['Inodoro'] = ['''El inodoro tiene un espacio libre de acercamiento por el lado dere-\r\n",
    "cho de 11,,2200  mm de ancho y por el frente de 11,,4455  mm. El asiento está a\r\n",
    "una altura de 4444  ccmm y el mecanismo de descarga a 9955  ccmm.\r\n",
    "Tiene  una  barra  de  apoyo  abatible  a  la  derecha  y  una  fija  a  la\r\n",
    "izquierda a 7700  ccmm de altura y con una separación entre ambas de\r\n",
    "7755  ccmm.''']"
   ],
   "outputs": [],
   "metadata": {}
  },
  {
   "cell_type": "code",
   "execution_count": null,
   "source": [
    "data2['Lavabo y accesorios del aseo'] = ['''Debajo del lavabo hay un espacio libre de 6666  ccmm de alto y 5500  ccmm  de\r\n",
    "fondo, que permite la aproximación frontal con la silla de ruedas. El grifo es monomando.\r\n",
    "La altura del borde inferior del espejo es de 11,,1177  mm y el resto de los accesorios del aseo están a\r\n",
    "9900  ccmm de altura.''',]"
   ],
   "outputs": [],
   "metadata": {}
  }
 ],
 "metadata": {
  "orig_nbformat": 4,
  "language_info": {
   "name": "python",
   "version": "3.7.4",
   "mimetype": "text/x-python",
   "codemirror_mode": {
    "name": "ipython",
    "version": 3
   },
   "pygments_lexer": "ipython3",
   "nbconvert_exporter": "python",
   "file_extension": ".py"
  },
  "kernelspec": {
   "name": "python3",
   "display_name": "Python 3.7.4 64-bit"
  },
  "interpreter": {
   "hash": "674dfd6ded4398e0679ff4f65e9a10a54ff0d14801bec0126172cfc3973d1cf1"
  }
 },
 "nbformat": 4,
 "nbformat_minor": 2
}