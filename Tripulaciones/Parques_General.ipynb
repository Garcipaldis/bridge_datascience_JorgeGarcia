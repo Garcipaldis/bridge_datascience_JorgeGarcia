{
 "metadata": {
  "language_info": {
   "codemirror_mode": {
    "name": "ipython",
    "version": 3
   },
   "file_extension": ".py",
   "mimetype": "text/x-python",
   "name": "python",
   "nbconvert_exporter": "python",
   "pygments_lexer": "ipython3",
   "version": "3.7.4"
  },
  "orig_nbformat": 4,
  "kernelspec": {
   "name": "python3",
   "display_name": "Python 3.7.4 64-bit"
  },
  "interpreter": {
   "hash": "674dfd6ded4398e0679ff4f65e9a10a54ff0d14801bec0126172cfc3973d1cf1"
  }
 },
 "nbformat": 4,
 "nbformat_minor": 2,
 "cells": [
  {
   "cell_type": "code",
   "execution_count": 1,
   "metadata": {},
   "outputs": [],
   "source": [
    "# Importamos las librerías necesarias para convertir el pdf a texto\n",
    "from pdfminer.pdfinterp import PDFResourceManager, PDFPageInterpreter\n",
    "from pdfminer.converter import TextConverter\n",
    "from pdfminer.layout import LAParams\n",
    "from pdfminer.pdfpage import PDFPage\n",
    "from io import StringIO\n",
    "\n",
    "# Definimos la función que convierte el pdf a texto\n",
    "def convert_pdf_to_txt(path):\n",
    "    rsrcmgr = PDFResourceManager()\n",
    "    retstr = StringIO()\n",
    "    codec = 'utf-8'\n",
    "    laparams = LAParams()\n",
    "    device = TextConverter(rsrcmgr, retstr, codec=codec, laparams=laparams)\n",
    "    fp = open(path, 'rb')\n",
    "    interpreter = PDFPageInterpreter(rsrcmgr, device)\n",
    "    password = \"\"\n",
    "    maxpages = 0\n",
    "    caching = True\n",
    "    pagenos=set()\n",
    "\n",
    "    for page in PDFPage.get_pages(fp, pagenos, maxpages=maxpages, password=password,caching=caching, check_extractable=True):\n",
    "        interpreter.process_page(page)\n",
    "\n",
    "    text = retstr.getvalue()\n",
    "\n",
    "    fp.close()\n",
    "    device.close()\n",
    "    retstr.close()\n",
    "    return text\n",
    "\n",
    "# Guardamos el texto en un nuevo archivo\n",
    "with open('Parques_General.txt', 'w', encoding='utf-8') as f:\n",
    "    text = convert_pdf_to_txt('Guia_Parques_Naturales.pdf')\n",
    "    f.write(text)"
   ]
  },
  {
   "cell_type": "code",
   "execution_count": 74,
   "metadata": {},
   "outputs": [],
   "source": [
    "# Leemos el texto por líneas\n",
    "with open('Parques_General.txt', 'r', encoding='utf-8') as f:\n",
    "    lines = f.readlines()"
   ]
  },
  {
   "cell_type": "code",
   "execution_count": 63,
   "metadata": {},
   "outputs": [],
   "source": [
    "lines = [line for line in lines if line.isdigit() == False and line.startswith('\f') == False and len(line) != 2 and line.startswith('(') == False]"
   ]
  },
  {
   "cell_type": "code",
   "execution_count": 66,
   "metadata": {},
   "outputs": [],
   "source": [
    "# Comunidades\n",
    "com = {'Andalucía':['ALMERÍA', 'CÁDIZ', 'CÓRDOBA', 'GRANADA', 'HUELVA', 'JAÉN', 'MÁLAGA', 'SEVILLA'],\n",
    "        'Aragón':['HUESCA', 'ZARAGOZA', 'TERUEL'],\n",
    "        'Principado de Asturias':['PRINCIPADO DE ASTURIAS'],\n",
    "        'Islas Baleares':['IBIZA', 'MALLORCA', 'FORMENTERA'],\n",
    "        'Islas Canarias':['LANZAROTE', 'TENERIFE'],\n",
    "        'Cantabria':['CANTABRIA'],\n",
    "        'Castilla La Mancha':['GUADALAJARA', 'TOLEDO', 'CIUDAD REAL', 'CUENCA'],\n",
    "        'Castilla y León':['ÁVILA', 'BURGOS', 'SEGOVIA', 'SORIA', 'PALENCIA', 'VALLADOLID', 'ZAMORA'],\n",
    "        'Cataluña':['LÉRIDA', 'GERONA', 'TARRAGONA'],\n",
    "        'Ceuta':['CEUTA'],\n",
    "        'Comunidad Valenciana':['ALICANTE', 'CASTELLÓN', 'VALENCIA'],\n",
    "        'Extremadura':['CÁCERES', 'BADAJOZ'],\n",
    "        'Galicia':['ORENSE', 'LUGO','PONTEVEDRA'],\n",
    "        'La Rioja':['LA RIOJA'],\n",
    "        'Comunidad de Madrid':['MADRID'],\n",
    "        'Región de Murcia':['REGIÓN DE MURCIA'],\n",
    "        'Navarra': ['NAVARRA'],\n",
    "        'País Vasco':['ÁLAVA', 'GUIPÚZCOA', 'VIZCAYA'],\n",
    "        }\n",
    "\n",
    "# Quitamos saltos de línea\n",
    "#lines = [line.replace('\\n', '') for line in lines]\n",
    "\n",
    "# Quitamos otras líneas innecesarias\n",
    "#lines = [line for line in lines if line.isdigit() == False and line.startswith('\f') == False and len(line) != 2 and line.startswith('(') == False]\n",
    "\n",
    "# Extraemos los nombres de los centros\n",
    "centros = {}\n",
    "for comunidad in com.keys():\n",
    "    centros[comunidad] = {}\n",
    "    for provincia in com[comunidad]:\n",
    "        centros[comunidad][provincia] = []\n",
    "        for i, line in enumerate(lines):\n",
    "            if line.startswith(provincia):\n",
    "                for j in range(i+2, len(lines)-1):\n",
    "                    if lines[j] == '':\n",
    "                        break\n",
    "                    else:\n",
    "                        centros[comunidad][provincia].append(lines[j])"
   ]
  },
  {
   "cell_type": "code",
   "execution_count": 75,
   "metadata": {},
   "outputs": [
    {
     "output_type": "execute_result",
     "data": {
      "text/plain": [
       "62423"
      ]
     },
     "metadata": {},
     "execution_count": 75
    }
   ],
   "source": [
    "len(lines)"
   ]
  },
  {
   "cell_type": "code",
   "execution_count": 64,
   "metadata": {},
   "outputs": [],
   "source": [
    "with open('prueba.txt', 'w', encoding='utf-8') as f:\n",
    "    f.writelines(lines)"
   ]
  },
  {
   "cell_type": "code",
   "execution_count": 5,
   "metadata": {},
   "outputs": [],
   "source": [
    "andalucia = centros['Andalucía']"
   ]
  },
  {
   "cell_type": "code",
   "execution_count": 6,
   "metadata": {},
   "outputs": [
    {
     "output_type": "execute_result",
     "data": {
      "text/plain": [
       "['Nautarum Centro de Interpretación',\n",
       " 'de la pesca',\n",
       " 'Paraje Natural del Karst en Yesos',\n",
       " 'de Sorbas. Centro de Visitantes Los',\n",
       " 'Yesares',\n",
       " 'Parque Natural Cabo de Gata-Níjar.',\n",
       " 'Jardín botánico El Albardinal']"
      ]
     },
     "metadata": {},
     "execution_count": 6
    }
   ],
   "source": [
    "andalucia['ALMERÍA']"
   ]
  },
  {
   "cell_type": "code",
   "execution_count": 25,
   "metadata": {},
   "outputs": [],
   "source": [
    "anda = []\n",
    "for prov in andalucia:\n",
    "    anda.append(' '.join(andalucia[prov]).replace('- ', ''))"
   ]
  },
  {
   "cell_type": "code",
   "execution_count": 26,
   "metadata": {},
   "outputs": [
    {
     "output_type": "execute_result",
     "data": {
      "text/plain": [
       "'Nautarum Centro de Interpretación de la pesca Paraje Natural del Karst en Yesos de Sorbas. Centro de Visitantes Los Yesares Parque Natural Cabo de Gata-Níjar. Jardín botánico El Albardinal'"
      ]
     },
     "metadata": {},
     "execution_count": 26
    }
   ],
   "source": [
    "anda[0]"
   ]
  },
  {
   "cell_type": "code",
   "execution_count": 7,
   "metadata": {},
   "outputs": [],
   "source": [
    "import pandas as pd\n",
    "\n",
    "def get_general_data(centros, lines, provincia):\n",
    "    # Obtenemos datos de cada centro\n",
    "    data1 = {'Ubicacion':[], 'Centro':[], 'Direccion':[], 'Telefono':[], 'email':[],'Informacion':[]}\n",
    "\n",
    "    clean_lines = [line.replace('\\n', '') for line in lines]\n",
    "\n",
    "    for centro in centros:\n",
    "\n",
    "        for i, line in enumerate(clean_lines[:-5]):\n",
    "\n",
    "            if centro in line and 'Tel' in ''.join(clean_lines[i+1:i+5]):\n",
    "                for j in range(i+2, len(clean_lines)):\n",
    "\n",
    "                    if len(data1['Informacion']) == len(data1['Centro']):\n",
    "                        break\n",
    "                    elif clean_lines[j].startswith('Información General'):\n",
    "                        texto = ''\n",
    "                        for k in range(j+2, len(clean_lines)):\n",
    "                            if clean_lines[k] == '':\n",
    "                                data1['Informacion'].append(texto)\n",
    "                                break\n",
    "                            else:\n",
    "                                texto += ' ' + clean_lines[k]\n",
    "                    if j == i + 2:\n",
    "                        # Distintas opciones en función del tipo de dirección\n",
    "                        if clean_lines[j+1].startswith('Tel'):\n",
    "                            data1['Direccion'].append(clean_lines[j])\n",
    "                            data1['Telefono'].append(clean_lines[j+1])\n",
    "                            data1['email'].append(clean_lines[j+2])\n",
    "\n",
    "                        elif clean_lines[j+2].startswith('Tel'):\n",
    "                            data1['Direccion'].append(clean_lines[j] + ' ' + clean_lines[j+1])\n",
    "                            data1['Telefono'].append(clean_lines[j+2])\n",
    "                            data1['email'].append(clean_lines[j+3])\n",
    "\n",
    "                        else:\n",
    "                            data1['Direccion'].append(clean_lines[j] + ' ' + clean_lines[j+2])\n",
    "                            data1['Telefono'].append(clean_lines[j+3])\n",
    "                            data1['email'].append(clean_lines[j+4])\n",
    "\n",
    "    centros_df = pd.DataFrame(data1, index=range(len(data1['Centro'])))\n",
    "\n",
    "    return centros_df"
   ]
  },
  {
   "cell_type": "code",
   "execution_count": null,
   "metadata": {},
   "outputs": [],
   "source": [
    "df = "
   ]
  },
  {
   "cell_type": "code",
   "execution_count": 10,
   "metadata": {},
   "outputs": [
    {
     "output_type": "execute_result",
     "data": {
      "text/plain": [
       "True"
      ]
     },
     "metadata": {},
     "execution_count": 10
    }
   ],
   "source": [
    "'Tel' in ''.join(['0', '1', '2', 'Telefono'])"
   ]
  },
  {
   "cell_type": "code",
   "execution_count": 82,
   "metadata": {},
   "outputs": [],
   "source": [
    "Prueba = {'Ubicacion':[], 'Centro':[], 'Direccion':[], 'Telefono':[], 'email':[], 'web':[]}\n",
    "\n",
    "#lines = [line.replace('\\n', '') for line in lines]\n",
    "\n",
    "for i, line in enumerate(lines[10:-10]):\n",
    "    if line.startswith('Teléfono'):\n",
    "        direccion = ''\n",
    "        telf = line\n",
    "        email = 'NP'\n",
    "        web = 'NP'\n",
    "        for bc in range(i, i-10, -1):\n",
    "            if lines[bc] == '\\n':\n",
    "                Prueba['Direccion'].append(direccion)\n",
    "                Prueba['Centro'].append(lines[bc-1])\n",
    "                if lines[bc-2] != '\\n':\n",
    "                    Prueba['Ubicacion'].append(lines[bc-2])\n",
    "                else:\n",
    "                    Prueba['Ubicacion'].append('NP')\n",
    "                break\n",
    "            else:\n",
    "                direccion = lines[bc] + ' ' + direccion\n",
    "        for ad in range(i+1, i+10):\n",
    "            if lines[ad].startswith('Email'):\n",
    "                email = lines[ad]\n",
    "            elif '@' in lines[ad]:\n",
    "                email += ' ' + lines[ad]\n",
    "            elif lines[ad].startswith('Web'):\n",
    "                web = lines[ad]\n",
    "            else:\n",
    "                telf += lines[ad]\n",
    "        Prueba['Telefono'].append(telf)\n",
    "        Prueba['email'].append(email)\n",
    "        Prueba['web'].append(web)"
   ]
  },
  {
   "cell_type": "code",
   "execution_count": 83,
   "metadata": {},
   "outputs": [
    {
     "output_type": "error",
     "ename": "ValueError",
     "evalue": "could not broadcast input array from shape (162) into shape (156)",
     "traceback": [
      "\u001b[1;31m---------------------------------------------------------------------------\u001b[0m",
      "\u001b[1;31mValueError\u001b[0m                                Traceback (most recent call last)",
      "\u001b[1;32m<ipython-input-83-1e41beb46840>\u001b[0m in \u001b[0;36m<module>\u001b[1;34m\u001b[0m\n\u001b[1;32m----> 1\u001b[1;33m \u001b[0mdf\u001b[0m \u001b[1;33m=\u001b[0m \u001b[0mpd\u001b[0m\u001b[1;33m.\u001b[0m\u001b[0mDataFrame\u001b[0m\u001b[1;33m(\u001b[0m\u001b[0mPrueba\u001b[0m\u001b[1;33m,\u001b[0m \u001b[0mindex\u001b[0m\u001b[1;33m=\u001b[0m\u001b[0mrange\u001b[0m\u001b[1;33m(\u001b[0m\u001b[0mlen\u001b[0m\u001b[1;33m(\u001b[0m\u001b[0mPrueba\u001b[0m\u001b[1;33m[\u001b[0m\u001b[1;34m'Centro'\u001b[0m\u001b[1;33m]\u001b[0m\u001b[1;33m)\u001b[0m\u001b[1;33m)\u001b[0m\u001b[1;33m)\u001b[0m\u001b[1;33m\u001b[0m\u001b[1;33m\u001b[0m\u001b[0m\n\u001b[0m",
      "\u001b[1;32m~\\AppData\\Roaming\\Python\\Python37\\site-packages\\pandas\\core\\frame.py\u001b[0m in \u001b[0;36m__init__\u001b[1;34m(self, data, index, columns, dtype, copy)\u001b[0m\n\u001b[0;32m    527\u001b[0m \u001b[1;33m\u001b[0m\u001b[0m\n\u001b[0;32m    528\u001b[0m         \u001b[1;32melif\u001b[0m \u001b[0misinstance\u001b[0m\u001b[1;33m(\u001b[0m\u001b[0mdata\u001b[0m\u001b[1;33m,\u001b[0m \u001b[0mdict\u001b[0m\u001b[1;33m)\u001b[0m\u001b[1;33m:\u001b[0m\u001b[1;33m\u001b[0m\u001b[1;33m\u001b[0m\u001b[0m\n\u001b[1;32m--> 529\u001b[1;33m             \u001b[0mmgr\u001b[0m \u001b[1;33m=\u001b[0m \u001b[0minit_dict\u001b[0m\u001b[1;33m(\u001b[0m\u001b[0mdata\u001b[0m\u001b[1;33m,\u001b[0m \u001b[0mindex\u001b[0m\u001b[1;33m,\u001b[0m \u001b[0mcolumns\u001b[0m\u001b[1;33m,\u001b[0m \u001b[0mdtype\u001b[0m\u001b[1;33m=\u001b[0m\u001b[0mdtype\u001b[0m\u001b[1;33m)\u001b[0m\u001b[1;33m\u001b[0m\u001b[1;33m\u001b[0m\u001b[0m\n\u001b[0m\u001b[0;32m    530\u001b[0m         \u001b[1;32melif\u001b[0m \u001b[0misinstance\u001b[0m\u001b[1;33m(\u001b[0m\u001b[0mdata\u001b[0m\u001b[1;33m,\u001b[0m \u001b[0mma\u001b[0m\u001b[1;33m.\u001b[0m\u001b[0mMaskedArray\u001b[0m\u001b[1;33m)\u001b[0m\u001b[1;33m:\u001b[0m\u001b[1;33m\u001b[0m\u001b[1;33m\u001b[0m\u001b[0m\n\u001b[0;32m    531\u001b[0m             \u001b[1;32mimport\u001b[0m \u001b[0mnumpy\u001b[0m\u001b[1;33m.\u001b[0m\u001b[0mma\u001b[0m\u001b[1;33m.\u001b[0m\u001b[0mmrecords\u001b[0m \u001b[1;32mas\u001b[0m \u001b[0mmrecords\u001b[0m\u001b[1;33m\u001b[0m\u001b[1;33m\u001b[0m\u001b[0m\n",
      "\u001b[1;32m~\\AppData\\Roaming\\Python\\Python37\\site-packages\\pandas\\core\\internals\\construction.py\u001b[0m in \u001b[0;36minit_dict\u001b[1;34m(data, index, columns, dtype)\u001b[0m\n\u001b[0;32m    285\u001b[0m             \u001b[0marr\u001b[0m \u001b[1;32mif\u001b[0m \u001b[1;32mnot\u001b[0m \u001b[0mis_datetime64tz_dtype\u001b[0m\u001b[1;33m(\u001b[0m\u001b[0marr\u001b[0m\u001b[1;33m)\u001b[0m \u001b[1;32melse\u001b[0m \u001b[0marr\u001b[0m\u001b[1;33m.\u001b[0m\u001b[0mcopy\u001b[0m\u001b[1;33m(\u001b[0m\u001b[1;33m)\u001b[0m \u001b[1;32mfor\u001b[0m \u001b[0marr\u001b[0m \u001b[1;32min\u001b[0m \u001b[0marrays\u001b[0m\u001b[1;33m\u001b[0m\u001b[1;33m\u001b[0m\u001b[0m\n\u001b[0;32m    286\u001b[0m         ]\n\u001b[1;32m--> 287\u001b[1;33m     \u001b[1;32mreturn\u001b[0m \u001b[0marrays_to_mgr\u001b[0m\u001b[1;33m(\u001b[0m\u001b[0marrays\u001b[0m\u001b[1;33m,\u001b[0m \u001b[0mdata_names\u001b[0m\u001b[1;33m,\u001b[0m \u001b[0mindex\u001b[0m\u001b[1;33m,\u001b[0m \u001b[0mcolumns\u001b[0m\u001b[1;33m,\u001b[0m \u001b[0mdtype\u001b[0m\u001b[1;33m=\u001b[0m\u001b[0mdtype\u001b[0m\u001b[1;33m)\u001b[0m\u001b[1;33m\u001b[0m\u001b[1;33m\u001b[0m\u001b[0m\n\u001b[0m\u001b[0;32m    288\u001b[0m \u001b[1;33m\u001b[0m\u001b[0m\n\u001b[0;32m    289\u001b[0m \u001b[1;33m\u001b[0m\u001b[0m\n",
      "\u001b[1;32m~\\AppData\\Roaming\\Python\\Python37\\site-packages\\pandas\\core\\internals\\construction.py\u001b[0m in \u001b[0;36marrays_to_mgr\u001b[1;34m(arrays, arr_names, index, columns, dtype, verify_integrity)\u001b[0m\n\u001b[0;32m     93\u001b[0m     \u001b[0maxes\u001b[0m \u001b[1;33m=\u001b[0m \u001b[1;33m[\u001b[0m\u001b[0mcolumns\u001b[0m\u001b[1;33m,\u001b[0m \u001b[0mindex\u001b[0m\u001b[1;33m]\u001b[0m\u001b[1;33m\u001b[0m\u001b[1;33m\u001b[0m\u001b[0m\n\u001b[0;32m     94\u001b[0m \u001b[1;33m\u001b[0m\u001b[0m\n\u001b[1;32m---> 95\u001b[1;33m     \u001b[1;32mreturn\u001b[0m \u001b[0mcreate_block_manager_from_arrays\u001b[0m\u001b[1;33m(\u001b[0m\u001b[0marrays\u001b[0m\u001b[1;33m,\u001b[0m \u001b[0marr_names\u001b[0m\u001b[1;33m,\u001b[0m \u001b[0maxes\u001b[0m\u001b[1;33m)\u001b[0m\u001b[1;33m\u001b[0m\u001b[1;33m\u001b[0m\u001b[0m\n\u001b[0m\u001b[0;32m     96\u001b[0m \u001b[1;33m\u001b[0m\u001b[0m\n\u001b[0;32m     97\u001b[0m \u001b[1;33m\u001b[0m\u001b[0m\n",
      "\u001b[1;32m~\\AppData\\Roaming\\Python\\Python37\\site-packages\\pandas\\core\\internals\\managers.py\u001b[0m in \u001b[0;36mcreate_block_manager_from_arrays\u001b[1;34m(arrays, names, axes)\u001b[0m\n\u001b[0;32m   1704\u001b[0m         \u001b[1;32mreturn\u001b[0m \u001b[0mmgr\u001b[0m\u001b[1;33m\u001b[0m\u001b[1;33m\u001b[0m\u001b[0m\n\u001b[0;32m   1705\u001b[0m     \u001b[1;32mexcept\u001b[0m \u001b[0mValueError\u001b[0m \u001b[1;32mas\u001b[0m \u001b[0me\u001b[0m\u001b[1;33m:\u001b[0m\u001b[1;33m\u001b[0m\u001b[1;33m\u001b[0m\u001b[0m\n\u001b[1;32m-> 1706\u001b[1;33m         \u001b[1;32mraise\u001b[0m \u001b[0mconstruction_error\u001b[0m\u001b[1;33m(\u001b[0m\u001b[0mlen\u001b[0m\u001b[1;33m(\u001b[0m\u001b[0marrays\u001b[0m\u001b[1;33m)\u001b[0m\u001b[1;33m,\u001b[0m \u001b[0marrays\u001b[0m\u001b[1;33m[\u001b[0m\u001b[1;36m0\u001b[0m\u001b[1;33m]\u001b[0m\u001b[1;33m.\u001b[0m\u001b[0mshape\u001b[0m\u001b[1;33m,\u001b[0m \u001b[0maxes\u001b[0m\u001b[1;33m,\u001b[0m \u001b[0me\u001b[0m\u001b[1;33m)\u001b[0m\u001b[1;33m\u001b[0m\u001b[1;33m\u001b[0m\u001b[0m\n\u001b[0m\u001b[0;32m   1707\u001b[0m \u001b[1;33m\u001b[0m\u001b[0m\n\u001b[0;32m   1708\u001b[0m \u001b[1;33m\u001b[0m\u001b[0m\n",
      "\u001b[1;32m~\\AppData\\Roaming\\Python\\Python37\\site-packages\\pandas\\core\\internals\\managers.py\u001b[0m in \u001b[0;36mcreate_block_manager_from_arrays\u001b[1;34m(arrays, names, axes)\u001b[0m\n\u001b[0;32m   1699\u001b[0m     \u001b[0marrays\u001b[0m \u001b[1;33m=\u001b[0m \u001b[1;33m[\u001b[0m\u001b[0mx\u001b[0m \u001b[1;32mif\u001b[0m \u001b[1;32mnot\u001b[0m \u001b[0misinstance\u001b[0m\u001b[1;33m(\u001b[0m\u001b[0mx\u001b[0m\u001b[1;33m,\u001b[0m \u001b[0mABCPandasArray\u001b[0m\u001b[1;33m)\u001b[0m \u001b[1;32melse\u001b[0m \u001b[0mx\u001b[0m\u001b[1;33m.\u001b[0m\u001b[0mto_numpy\u001b[0m\u001b[1;33m(\u001b[0m\u001b[1;33m)\u001b[0m \u001b[1;32mfor\u001b[0m \u001b[0mx\u001b[0m \u001b[1;32min\u001b[0m \u001b[0marrays\u001b[0m\u001b[1;33m]\u001b[0m\u001b[1;33m\u001b[0m\u001b[1;33m\u001b[0m\u001b[0m\n\u001b[0;32m   1700\u001b[0m     \u001b[1;32mtry\u001b[0m\u001b[1;33m:\u001b[0m\u001b[1;33m\u001b[0m\u001b[1;33m\u001b[0m\u001b[0m\n\u001b[1;32m-> 1701\u001b[1;33m         \u001b[0mblocks\u001b[0m \u001b[1;33m=\u001b[0m \u001b[0m_form_blocks\u001b[0m\u001b[1;33m(\u001b[0m\u001b[0marrays\u001b[0m\u001b[1;33m,\u001b[0m \u001b[0mnames\u001b[0m\u001b[1;33m,\u001b[0m \u001b[0maxes\u001b[0m\u001b[1;33m)\u001b[0m\u001b[1;33m\u001b[0m\u001b[1;33m\u001b[0m\u001b[0m\n\u001b[0m\u001b[0;32m   1702\u001b[0m         \u001b[0mmgr\u001b[0m \u001b[1;33m=\u001b[0m \u001b[0mBlockManager\u001b[0m\u001b[1;33m(\u001b[0m\u001b[0mblocks\u001b[0m\u001b[1;33m,\u001b[0m \u001b[0maxes\u001b[0m\u001b[1;33m)\u001b[0m\u001b[1;33m\u001b[0m\u001b[1;33m\u001b[0m\u001b[0m\n\u001b[0;32m   1703\u001b[0m         \u001b[0mmgr\u001b[0m\u001b[1;33m.\u001b[0m\u001b[0m_consolidate_inplace\u001b[0m\u001b[1;33m(\u001b[0m\u001b[1;33m)\u001b[0m\u001b[1;33m\u001b[0m\u001b[1;33m\u001b[0m\u001b[0m\n",
      "\u001b[1;32m~\\AppData\\Roaming\\Python\\Python37\\site-packages\\pandas\\core\\internals\\managers.py\u001b[0m in \u001b[0;36m_form_blocks\u001b[1;34m(arrays, names, axes)\u001b[0m\n\u001b[0;32m   1788\u001b[0m \u001b[1;33m\u001b[0m\u001b[0m\n\u001b[0;32m   1789\u001b[0m     \u001b[1;32mif\u001b[0m \u001b[0mlen\u001b[0m\u001b[1;33m(\u001b[0m\u001b[0mitems_dict\u001b[0m\u001b[1;33m[\u001b[0m\u001b[1;34m\"ObjectBlock\"\u001b[0m\u001b[1;33m]\u001b[0m\u001b[1;33m)\u001b[0m \u001b[1;33m>\u001b[0m \u001b[1;36m0\u001b[0m\u001b[1;33m:\u001b[0m\u001b[1;33m\u001b[0m\u001b[1;33m\u001b[0m\u001b[0m\n\u001b[1;32m-> 1790\u001b[1;33m         \u001b[0mobject_blocks\u001b[0m \u001b[1;33m=\u001b[0m \u001b[0m_simple_blockify\u001b[0m\u001b[1;33m(\u001b[0m\u001b[0mitems_dict\u001b[0m\u001b[1;33m[\u001b[0m\u001b[1;34m\"ObjectBlock\"\u001b[0m\u001b[1;33m]\u001b[0m\u001b[1;33m,\u001b[0m \u001b[0mnp\u001b[0m\u001b[1;33m.\u001b[0m\u001b[0mobject_\u001b[0m\u001b[1;33m)\u001b[0m\u001b[1;33m\u001b[0m\u001b[1;33m\u001b[0m\u001b[0m\n\u001b[0m\u001b[0;32m   1791\u001b[0m         \u001b[0mblocks\u001b[0m\u001b[1;33m.\u001b[0m\u001b[0mextend\u001b[0m\u001b[1;33m(\u001b[0m\u001b[0mobject_blocks\u001b[0m\u001b[1;33m)\u001b[0m\u001b[1;33m\u001b[0m\u001b[1;33m\u001b[0m\u001b[0m\n\u001b[0;32m   1792\u001b[0m \u001b[1;33m\u001b[0m\u001b[0m\n",
      "\u001b[1;32m~\\AppData\\Roaming\\Python\\Python37\\site-packages\\pandas\\core\\internals\\managers.py\u001b[0m in \u001b[0;36m_simple_blockify\u001b[1;34m(tuples, dtype)\u001b[0m\n\u001b[0;32m   1832\u001b[0m     \u001b[1;32mnot\u001b[0m \u001b[1;32mNone\u001b[0m\u001b[1;33m,\u001b[0m \u001b[0mcoerce\u001b[0m \u001b[0mto\u001b[0m \u001b[0mthis\u001b[0m \u001b[0mdtype\u001b[0m\u001b[1;33m\u001b[0m\u001b[1;33m\u001b[0m\u001b[0m\n\u001b[0;32m   1833\u001b[0m     \"\"\"\n\u001b[1;32m-> 1834\u001b[1;33m     \u001b[0mvalues\u001b[0m\u001b[1;33m,\u001b[0m \u001b[0mplacement\u001b[0m \u001b[1;33m=\u001b[0m \u001b[0m_stack_arrays\u001b[0m\u001b[1;33m(\u001b[0m\u001b[0mtuples\u001b[0m\u001b[1;33m,\u001b[0m \u001b[0mdtype\u001b[0m\u001b[1;33m)\u001b[0m\u001b[1;33m\u001b[0m\u001b[1;33m\u001b[0m\u001b[0m\n\u001b[0m\u001b[0;32m   1835\u001b[0m \u001b[1;33m\u001b[0m\u001b[0m\n\u001b[0;32m   1836\u001b[0m     \u001b[1;31m# TODO: CHECK DTYPE?\u001b[0m\u001b[1;33m\u001b[0m\u001b[1;33m\u001b[0m\u001b[1;33m\u001b[0m\u001b[0m\n",
      "\u001b[1;32m~\\AppData\\Roaming\\Python\\Python37\\site-packages\\pandas\\core\\internals\\managers.py\u001b[0m in \u001b[0;36m_stack_arrays\u001b[1;34m(tuples, dtype)\u001b[0m\n\u001b[0;32m   1880\u001b[0m     \u001b[0mstacked\u001b[0m \u001b[1;33m=\u001b[0m \u001b[0mnp\u001b[0m\u001b[1;33m.\u001b[0m\u001b[0mempty\u001b[0m\u001b[1;33m(\u001b[0m\u001b[0mshape\u001b[0m\u001b[1;33m,\u001b[0m \u001b[0mdtype\u001b[0m\u001b[1;33m=\u001b[0m\u001b[0mdtype\u001b[0m\u001b[1;33m)\u001b[0m\u001b[1;33m\u001b[0m\u001b[1;33m\u001b[0m\u001b[0m\n\u001b[0;32m   1881\u001b[0m     \u001b[1;32mfor\u001b[0m \u001b[0mi\u001b[0m\u001b[1;33m,\u001b[0m \u001b[0marr\u001b[0m \u001b[1;32min\u001b[0m \u001b[0menumerate\u001b[0m\u001b[1;33m(\u001b[0m\u001b[0marrays\u001b[0m\u001b[1;33m)\u001b[0m\u001b[1;33m:\u001b[0m\u001b[1;33m\u001b[0m\u001b[1;33m\u001b[0m\u001b[0m\n\u001b[1;32m-> 1882\u001b[1;33m         \u001b[0mstacked\u001b[0m\u001b[1;33m[\u001b[0m\u001b[0mi\u001b[0m\u001b[1;33m]\u001b[0m \u001b[1;33m=\u001b[0m \u001b[0m_asarray_compat\u001b[0m\u001b[1;33m(\u001b[0m\u001b[0marr\u001b[0m\u001b[1;33m)\u001b[0m\u001b[1;33m\u001b[0m\u001b[1;33m\u001b[0m\u001b[0m\n\u001b[0m\u001b[0;32m   1883\u001b[0m \u001b[1;33m\u001b[0m\u001b[0m\n\u001b[0;32m   1884\u001b[0m     \u001b[1;32mreturn\u001b[0m \u001b[0mstacked\u001b[0m\u001b[1;33m,\u001b[0m \u001b[0mplacement\u001b[0m\u001b[1;33m\u001b[0m\u001b[1;33m\u001b[0m\u001b[0m\n",
      "\u001b[1;31mValueError\u001b[0m: could not broadcast input array from shape (162) into shape (156)"
     ]
    }
   ],
   "source": [
    "df = pd.DataFrame(Prueba, index=range(len(Prueba['Centro'])))"
   ]
  },
  {
   "cell_type": "code",
   "execution_count": 84,
   "metadata": {},
   "outputs": [
    {
     "output_type": "stream",
     "name": "stdout",
     "text": [
      "Ubicacion 156\nCentro 156\nDireccion 156\nTelefono 162\nemail 162\nweb 162\n"
     ]
    }
   ],
   "source": [
    "for key, val in Prueba.items():\n",
    "    try:\n",
    "        print(key, len(val))\n",
    "    except:\n",
    "        print(key, val)"
   ]
  },
  {
   "cell_type": "code",
   "execution_count": 85,
   "metadata": {},
   "outputs": [
    {
     "output_type": "execute_result",
     "data": {
      "text/plain": [
       "['NP', 'NP', 'NP', 'á', 'NP', 'NP', 'NP', 'n', 'NP', 'NP']"
      ]
     },
     "metadata": {},
     "execution_count": 85
    }
   ],
   "source": [
    "Prueba['Ubicacion'][:10]"
   ]
  },
  {
   "cell_type": "code",
   "execution_count": 86,
   "metadata": {},
   "outputs": [
    {
     "output_type": "execute_result",
     "data": {
      "text/plain": [
       "['Espacios y Actividades en la Naturaleza Accesibles para Todas las Personas',\n",
       " '1188',\n",
       " '2222',\n",
       " 'C',\n",
       " '3333',\n",
       " 'Señalización ',\n",
       " '3399',\n",
       " 'A',\n",
       " '4488',\n",
       " '5522']"
      ]
     },
     "metadata": {},
     "execution_count": 86
    }
   ],
   "source": [
    "Prueba['Centro'][:10]"
   ]
  },
  {
   "cell_type": "code",
   "execution_count": 87,
   "metadata": {},
   "outputs": [
    {
     "output_type": "execute_result",
     "data": {
      "text/plain": [
       "['Teléfono/Fax: 950 139 554\\x0cGuía_Completa  22/8/11  14:22  Página 15Centros de interpretación / Casas del Parque y Aulas de la Naturaleza“Nautarum”- Centro de Interpretración de la PescaCarretera Garrucha - Mojácar Playa 04630 Garrucha (Almería)',\n",
       " 'Teléfono: 950 364 563 \\x0cGuía_Completa  22/8/11  14:22  Página 19Centros de interpretación / Casas del Parque y Aulas de la NaturalezaParaje Natural del Karst en Yesos de SorbasCentro de Visitantes “Los Yesares”C/ Terraplén, s/n04270 Sorbas (Almería)',\n",
       " 'Teléfono: 671 561 226\\x0cGuía_Completa  22/8/11  14:23  Página 23Centros de interpretación / Casas del Parque y Aulas de la NaturalezaParque Natural Cabo de Gata-NíjarJardín Botánico El AlbardinalC/ Fundición s/n04071 Rodalquilar – Níjar (Almería)',\n",
       " 'Teléfono: 956 243 474dnA2288C/ Buen Pastor, 507 (Ctra. de Camposoto, juntoacceso a la playa)11100 San Fernando (Cádiz)',\n",
       " 'Teléfono: 956 106 796  Fax: 671 564 113\\x0cGuía_Completa  22/8/11  14:23  Página 34Espacios y Actividades en la Naturaleza Accesibles para Todas las PersonasParque Natural del EstrechoConjunto Arqueologíco Baelo Claudia (Consejería de Cultura)Ensenada de Bolonia, s/n11380 Tarifa (Cádiz)',\n",
       " 'Teléfono: 697 955 540  \\x0cGuía_Completa  22/8/11  14:23  Página 38Espacios y Actividades en la Naturaleza Accesibles para Todas las PersonasParque Natural del EstrechoParaje Natural Playa de los Lances - Sendero “Los Lances”11380 Tarifa (Cádiz)',\n",
       " 'Teléfono: 956 709 733  Espacios y Actividades en la Naturaleza Accesibles para Todas las PersonasParque Natural Sierra de Grazalema Sendero “Llanos del Rabel”Centro de Visitantes “El Bosque”C/ Federico Garcia Lorca, 111670 El Bosque (Cádiz)',\n",
       " 'Teléfono: 957 200 018  Fax: 957 295 333\\x0cGuía_Completa  22/8/11  14:23  Página 44Espacios y Actividades en la Naturaleza Accesibles para Todas las PersonasJardín Botánico de CórdobaAvda. de Linneo s/n14004 Córdoba',\n",
       " \"Teléfono: 957 001 300  Centros de interpretación / Casas del Parque y Aulas de la NaturalezaParque Periurbano Los VillaresCentro de Visitantes Los VillaresC/ Vecinal nº 45 -Finca Los Villares BajosCtra. Córdoba-Ovejo Km. 7'5 14006 Córdoba\",\n",
       " 'Teléfono: 957 001 300  \\x0cGuía_Completa  22/8/11  14:24  Página 53Sendero Guiado / AutoguiadoParque Periurbano Los Villares Sendero y Mirador de la UmbríaCtra. del Parque de los Villares Km 7,514006 Córdoba']"
      ]
     },
     "metadata": {},
     "execution_count": 87
    }
   ],
   "source": [
    "Prueba['Telefono'][:10]"
   ]
  },
  {
   "cell_type": "code",
   "execution_count": 39,
   "metadata": {},
   "outputs": [
    {
     "output_type": "execute_result",
     "data": {
      "text/plain": [
       "'Teléfono/Fax: 950 139 554Centros de interpretación / Casas del Parque y Aulas de la Naturaleza“Nautarum”- Centro de Interpretración de la PescaCarretera Garrucha - Mojácar Playa 04630 Garrucha (Almería)'"
      ]
     },
     "metadata": {},
     "execution_count": 39
    }
   ],
   "source": [
    "df.loc[0, 'Telefono']"
   ]
  },
  {
   "cell_type": "code",
   "execution_count": 92,
   "metadata": {},
   "outputs": [],
   "source": [
    "from ghostscript import Ghostscript"
   ]
  },
  {
   "cell_type": "code",
   "execution_count": 89,
   "metadata": {},
   "outputs": [
    {
     "output_type": "execute_result",
     "data": {
      "text/plain": [
       "'C:\\\\Program Files\\\\gs\\\\gs9.54.0\\\\bin\\\\gsdll64.dll'"
      ]
     },
     "metadata": {},
     "execution_count": 89
    }
   ],
   "source": [
    "import ctypes\n",
    "from ctypes.util import find_library\n",
    "find_library(\"\".join((\"gsdll\", str(ctypes.sizeof(ctypes.c_voidp) * 8), \".dll\")))"
   ]
  }
 ]
}