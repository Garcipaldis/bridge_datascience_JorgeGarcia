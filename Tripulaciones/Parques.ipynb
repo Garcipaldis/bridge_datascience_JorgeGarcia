{
 "metadata": {
  "language_info": {
   "codemirror_mode": {
    "name": "ipython",
    "version": 3
   },
   "file_extension": ".py",
   "mimetype": "text/x-python",
   "name": "python",
   "nbconvert_exporter": "python",
   "pygments_lexer": "ipython3",
   "version": "3.7.4"
  },
  "orig_nbformat": 4,
  "kernelspec": {
   "name": "python3",
   "display_name": "Python 3.7.4 64-bit"
  },
  "interpreter": {
   "hash": "674dfd6ded4398e0679ff4f65e9a10a54ff0d14801bec0126172cfc3973d1cf1"
  }
 },
 "nbformat": 4,
 "nbformat_minor": 2,
 "cells": [
  {
   "cell_type": "code",
   "execution_count": 11,
   "metadata": {},
   "outputs": [],
   "source": [
    "# Importamos las librerías necesarias para convertir el pdf a texto\n",
    "from pdfminer.pdfinterp import PDFResourceManager, PDFPageInterpreter\n",
    "from pdfminer.converter import TextConverter\n",
    "from pdfminer.layout import LAParams\n",
    "from pdfminer.pdfpage import PDFPage\n",
    "from io import StringIO\n",
    "\n",
    "# Definimos la función que convierte el pdf a texto\n",
    "def convert_pdf_to_txt(path):\n",
    "    rsrcmgr = PDFResourceManager()\n",
    "    retstr = StringIO()\n",
    "    codec = 'utf-8'\n",
    "    laparams = LAParams()\n",
    "    device = TextConverter(rsrcmgr, retstr, codec=codec, laparams=laparams)\n",
    "    fp = open(path, 'rb')\n",
    "    interpreter = PDFPageInterpreter(rsrcmgr, device)\n",
    "    password = \"\"\n",
    "    maxpages = 0\n",
    "    caching = True\n",
    "    pagenos=set()\n",
    "\n",
    "    for page in PDFPage.get_pages(fp, pagenos, maxpages=maxpages, password=password,caching=caching, check_extractable=True):\n",
    "        interpreter.process_page(page)\n",
    "\n",
    "    text = retstr.getvalue()\n",
    "\n",
    "    fp.close()\n",
    "    device.close()\n",
    "    retstr.close()\n",
    "    return text"
   ]
  },
  {
   "cell_type": "code",
   "execution_count": 12,
   "metadata": {},
   "outputs": [],
   "source": [
    "# Guardamos el texto en un nuevo archivo\n",
    "with open('Madrid_Parques.txt', 'w', encoding='utf-8') as f:\n",
    "    text = convert_pdf_to_txt('Madrid_Parques.pdf')\n",
    "    f.write(text)"
   ]
  },
  {
   "cell_type": "code",
   "execution_count": 2,
   "metadata": {},
   "outputs": [],
   "source": [
    "# Leemos el texto por líneas\n",
    "with open('Madrid_Parques.txt', 'r', encoding='utf-8') as f:\n",
    "    lines = f.readlines()"
   ]
  },
  {
   "cell_type": "code",
   "execution_count": 3,
   "metadata": {},
   "outputs": [],
   "source": [
    "# Extraemos los nombres de los centros\n",
    "centros = []\n",
    "for i, line in enumerate(lines):\n",
    "    if line.startswith('MADRID'):\n",
    "        for j in range(i+2, len(lines)):\n",
    "            if lines[j] == '\\n':\n",
    "                break\n",
    "            else:\n",
    "                centros.append(lines[j])\n",
    "\n",
    "# Limpiamos y juntamos\n",
    "centros = [centro.replace('\\n', '').replace('  ', ' ') for centro in centros]\n",
    "centros = [centros[0] + ' ' + centros[1] + ' ' + centros[2],\n",
    "            centros[3] + ' ' + centros[4][:-1] + centros[5],\n",
    "            centros[6] + ' ' + centros[7],\n",
    "            centros[8] + ' ' + centros[9][:-2] + centros[10]]\n",
    "centros = [(centro.split('.')[0], centro.split('.')[1][1:]) for centro in centros]"
   ]
  },
  {
   "cell_type": "code",
   "execution_count": 4,
   "metadata": {},
   "outputs": [
    {
     "output_type": "execute_result",
     "data": {
      "text/plain": [
       "[('Parque Natural de Peñalara',\n",
       "  'Centro de Educación Ambiental Puente del Perdón'),\n",
       " ('Parque Regional de la Cuenca Alta del Manzanares',\n",
       "  'Centro de Educación Ambiental Manzanares'),\n",
       " ('Reserva de la Biosfera de la Sierra del Rincón', 'Hayedo de Montejo'),\n",
       " ('Reserva de la Biosfera de la Sierra del Rincón',\n",
       "  'Senda del Agua y Lagna del Salmoral')]"
      ]
     },
     "metadata": {},
     "execution_count": 4
    }
   ],
   "source": [
    "centros"
   ]
  },
  {
   "cell_type": "code",
   "execution_count": 5,
   "metadata": {},
   "outputs": [],
   "source": [
    "import pandas as pd\n",
    "\n",
    "# Obtenemos datos de cada centro\n",
    "data1 = {'Ubicacion':[], 'Centro':[], 'Direccion':[], 'Telefono':[], 'email':[],'Informacion':[]}\n",
    "\n",
    "clean_lines = [line.replace('\\n', '') for line in lines]\n",
    "\n",
    "for centro in centros:\n",
    "\n",
    "    data1['Ubicacion'].append(centro[0])\n",
    "    data1['Centro'].append(centro[1])\n",
    "\n",
    "    for i, line in enumerate(clean_lines):\n",
    "        if line == centro[1]:\n",
    "            for j in range(i+2, len(clean_lines)):\n",
    "                if clean_lines[j] == 'Información General':\n",
    "                    texto = ''\n",
    "                    for k in range(j+2, len(clean_lines)):\n",
    "                        if clean_lines[k] == '':\n",
    "                            data1['Informacion'].append(texto)\n",
    "                            break\n",
    "                        else:\n",
    "                            texto += ' ' + clean_lines[k]\n",
    "                elif j == i + 2:\n",
    "                    data1['Direccion'].append(clean_lines[j] + ' ' + clean_lines[j+1])\n",
    "                    data1['Telefono'].append(''.join(clean_lines[j+2].replace('Teléfono / Fax: ', '').split(' ')))\n",
    "                    data1['email'].append(clean_lines[j+3].replace('Email: ', ''))\n",
    "\n",
    "centros_df = pd.DataFrame(data1, index=range(len(data1['Centro'])))"
   ]
  },
  {
   "cell_type": "code",
   "execution_count": 6,
   "metadata": {},
   "outputs": [
    {
     "output_type": "execute_result",
     "data": {
      "text/plain": [
       "                                          Ubicacion  \\\n",
       "0                        Parque Natural de Peñalara   \n",
       "1  Parque Regional de la Cuenca Alta del Manzanares   \n",
       "2    Reserva de la Biosfera de la Sierra del Rincón   \n",
       "3    Reserva de la Biosfera de la Sierra del Rincón   \n",
       "\n",
       "                                            Centro  \\\n",
       "0  Centro de Educación Ambiental Puente del Perdón   \n",
       "1         Centro de Educación Ambiental Manzanares   \n",
       "2                                Hayedo de Montejo   \n",
       "3              Senda del Agua y Lagna del Salmoral   \n",
       "\n",
       "                                           Direccion   Telefono  \\\n",
       "0  Carretera M-604  Km. 28  28740 Rascafría (Madrid)  918691757   \n",
       "1  Carretera M-604  Km. 28  28740 Rascafría (Madrid)  918691757   \n",
       "2  Carretera M-604  Km. 28  28740 Rascafría (Madrid)  918691757   \n",
       "3  Carretera M-604  Km. 28  28740 Rascafría (Madrid)  918691757   \n",
       "\n",
       "                         email  \\\n",
       "0  redcentrospuentedp@yahoo.es   \n",
       "1  redcentrospuentedp@yahoo.es   \n",
       "2  redcentrospuentedp@yahoo.es   \n",
       "3  redcentrospuentedp@yahoo.es   \n",
       "\n",
       "                                         Informacion  \n",
       "0   El “Centro de Educación Ambiental Puente del ...  \n",
       "1   El Centro dispone de un edificio principal co...  \n",
       "2   El “Hayedo de Montejo” constituye uno de los ...  \n",
       "3   La “Senda del Agua” une el municipio de Práde...  "
      ],
      "text/html": "<div>\n<style scoped>\n    .dataframe tbody tr th:only-of-type {\n        vertical-align: middle;\n    }\n\n    .dataframe tbody tr th {\n        vertical-align: top;\n    }\n\n    .dataframe thead th {\n        text-align: right;\n    }\n</style>\n<table border=\"1\" class=\"dataframe\">\n  <thead>\n    <tr style=\"text-align: right;\">\n      <th></th>\n      <th>Ubicacion</th>\n      <th>Centro</th>\n      <th>Direccion</th>\n      <th>Telefono</th>\n      <th>email</th>\n      <th>Informacion</th>\n    </tr>\n  </thead>\n  <tbody>\n    <tr>\n      <th>0</th>\n      <td>Parque Natural de Peñalara</td>\n      <td>Centro de Educación Ambiental Puente del Perdón</td>\n      <td>Carretera M-604  Km. 28  28740 Rascafría (Madrid)</td>\n      <td>918691757</td>\n      <td>redcentrospuentedp@yahoo.es</td>\n      <td>El “Centro de Educación Ambiental Puente del ...</td>\n    </tr>\n    <tr>\n      <th>1</th>\n      <td>Parque Regional de la Cuenca Alta del Manzanares</td>\n      <td>Centro de Educación Ambiental Manzanares</td>\n      <td>Carretera M-604  Km. 28  28740 Rascafría (Madrid)</td>\n      <td>918691757</td>\n      <td>redcentrospuentedp@yahoo.es</td>\n      <td>El Centro dispone de un edificio principal co...</td>\n    </tr>\n    <tr>\n      <th>2</th>\n      <td>Reserva de la Biosfera de la Sierra del Rincón</td>\n      <td>Hayedo de Montejo</td>\n      <td>Carretera M-604  Km. 28  28740 Rascafría (Madrid)</td>\n      <td>918691757</td>\n      <td>redcentrospuentedp@yahoo.es</td>\n      <td>El “Hayedo de Montejo” constituye uno de los ...</td>\n    </tr>\n    <tr>\n      <th>3</th>\n      <td>Reserva de la Biosfera de la Sierra del Rincón</td>\n      <td>Senda del Agua y Lagna del Salmoral</td>\n      <td>Carretera M-604  Km. 28  28740 Rascafría (Madrid)</td>\n      <td>918691757</td>\n      <td>redcentrospuentedp@yahoo.es</td>\n      <td>La “Senda del Agua” une el municipio de Práde...</td>\n    </tr>\n  </tbody>\n</table>\n</div>"
     },
     "metadata": {},
     "execution_count": 6
    }
   ],
   "source": [
    "centros_df"
   ]
  },
  {
   "cell_type": "code",
   "execution_count": 116,
   "metadata": {},
   "outputs": [],
   "source": [
    "# Obtenemos accesibilidad de cada centro\n",
    "data2 = {'Centro':[]}\n",
    "\n",
    "excepciones = ['Espacios y Actividades en la Naturaleza Accesibles para Todas las Personas',\n",
    "            'Centros de interpretación / Casas del Parque y Aulas de la Naturaleza',\n",
    "            'Ubicación',\n",
    "            'Características destacables',\n",
    "            'Zona de Picnic',\n",
    "            '(cid:2) Dispone de paneles informati-',\n",
    "            'trastado: Sí',\n",
    "            'rrelieve: No',\n",
    "            '(cid:2) Iconos homologados: no hay',\n",
    "            'Señalización',\n",
    "            'Sendero Guiado / Autoguiado',\n",
    "            'pavimento',\n",
    "            'Arboreto']\n",
    "\n",
    "found_cols = [] # Columnas que se añaden por centro"
   ]
  },
  {
   "cell_type": "code",
   "execution_count": 123,
   "metadata": {},
   "outputs": [
    {
     "output_type": "execute_result",
     "data": {
      "text/plain": [
       "'Senda del Agua y Lagna del Salmoral'"
      ]
     },
     "metadata": {},
     "execution_count": 123
    }
   ],
   "source": [
    "centro[1]"
   ]
  },
  {
   "cell_type": "code",
   "execution_count": 119,
   "metadata": {
    "tags": []
   },
   "outputs": [
    {
     "output_type": "stream",
     "name": "stdout",
     "text": [
      "1\n['Acceso ', 'Recepción', 'Aseo adaptado', 'Inodoro', 'Lavabo y accesorios del aseo', 'Senderos', 'Mobiliario y zonas de descanso']\n2\n3\n4\n"
     ]
    }
   ],
   "source": [
    "# Extracción de datos\n",
    "for centro in centros:\n",
    "\n",
    "    data2['Centro'].append(centro[1])\n",
    "    print(len(data2['Centro']))\n",
    "\n",
    "    for i, line in enumerate(clean_lines):\n",
    "        if line == centro[1]:\n",
    "            for j in range(i+2, len(clean_lines)):\n",
    "                if clean_lines[j] == 'Accesibilidad Visual':\n",
    "                    break\n",
    "                elif clean_lines[j] == 'Accesibilidad Física':\n",
    "                    for k in range(j+1, len(clean_lines)-1):\n",
    "                        # Fin de los datos del centro\n",
    "                        if clean_lines[k] == 'Accesibilidad Visual':\n",
    "                            print(found_cols)\n",
    "                            # Se mira el número de columnas y se añade 'NP' en las que existen pero no se han encontrado\n",
    "                            for key in data2.keys():\n",
    "                                if key not in found_cols and key != 'Centro':\n",
    "                                    data2[key].append('NP')\n",
    "                            found_cols = [] # Se reinicia la cuenta\n",
    "                            break\n",
    "                        # Columna encontrada\n",
    "                        elif clean_lines[k] != '' and clean_lines[k+1] == '' and clean_lines[k-1] == '' and clean_lines[k].replace(' ', '').isalpha() and '\f' not in clean_lines[k] and clean_lines[k] not in excepciones:\n",
    "                            found_cols.append(clean_lines[k])\n",
    "                            texto = ''\n",
    "                            # Concatenando líneas de la respectiva columna\n",
    "                            for n in range(k+2, len(clean_lines)):\n",
    "                                #print(len(data2['Centro']))\n",
    "                                if clean_lines[n] == '':\n",
    "                                    if clean_lines[k] in data2.keys():\n",
    "                                        data2[clean_lines[k]].append(texto.replace('- ', ''))\n",
    "                                        break\n",
    "                                    elif len(data2['Centro']) == 1:\n",
    "                                        data2[clean_lines[k]] = [texto.replace('- ', '')]\n",
    "                                        break\n",
    "                                    else:\n",
    "                                        data2[clean_lines[k]] = ['NP' for v in range(len(data2['Centro']))].append(texto.replace('- ', ''))\n",
    "                                        break\n",
    "                                # Nos saltamos los cambios de página.\n",
    "                                elif clean_lines[n] == '' and len(clean_lines[n+1]) == 1 or len(clean_lines[n]) == 1 and len(clean_lines[n+1]) == 1:\n",
    "                                    continue\n",
    "                                else:\n",
    "                                    texto += clean_lines[n] + ' '\n",
    "\n",
    "\n",
    "access_df = pd.DataFrame(data2, index=range(len(data2['Centro'])))"
   ]
  },
  {
   "cell_type": "code",
   "execution_count": 99,
   "metadata": {},
   "outputs": [],
   "source": [
    "c1 = pd.read_csv('centros_madrid.csv')\n",
    "p1 = pd.read_csv('parques_madrid.csv')"
   ]
  },
  {
   "cell_type": "code",
   "execution_count": 103,
   "metadata": {},
   "outputs": [
    {
     "output_type": "execute_result",
     "data": {
      "text/plain": [
       "   Unnamed: 0                                         Ubicacion  \\\n",
       "0           0                        Parque Natural de Peñalara   \n",
       "1           1  Parque Regional de la Cuenca Alta del Manzanares   \n",
       "2           2    Reserva de la Biosfera de la Sierra del Rincón   \n",
       "3           3    Reserva de la Biosfera de la Sierra del Rincón   \n",
       "\n",
       "                                            Centro  \\\n",
       "0  Centro de Educación Ambiental Puente del Perdón   \n",
       "1         Centro de Educación Ambiental Manzanares   \n",
       "2                                Hayedo de Montejo   \n",
       "3              Senda del Agua y Lagna del Salmoral   \n",
       "\n",
       "                                           Direccion   Telefono  \\\n",
       "0  Carretera M-604  Km. 28  28740 Rascafría (Madrid)  918691757   \n",
       "1  Carretera M-604  Km. 28  28740 Rascafría (Madrid)  918691757   \n",
       "2  Carretera M-604  Km. 28  28740 Rascafría (Madrid)  918691757   \n",
       "3  Carretera M-604  Km. 28  28740 Rascafría (Madrid)  918691757   \n",
       "\n",
       "                         email  \\\n",
       "0  redcentrospuentedp@yahoo.es   \n",
       "1  redcentrospuentedp@yahoo.es   \n",
       "2  redcentrospuentedp@yahoo.es   \n",
       "3  redcentrospuentedp@yahoo.es   \n",
       "\n",
       "                                         Informacion  \n",
       "0   El “Centro de Educación Ambiental Puente del ...  \n",
       "1   El Centro dispone de un edificio principal co...  \n",
       "2   El “Hayedo de Montejo” constituye uno de los ...  \n",
       "3   La “Senda del Agua” une el municipio de Práde...  "
      ],
      "text/html": "<div>\n<style scoped>\n    .dataframe tbody tr th:only-of-type {\n        vertical-align: middle;\n    }\n\n    .dataframe tbody tr th {\n        vertical-align: top;\n    }\n\n    .dataframe thead th {\n        text-align: right;\n    }\n</style>\n<table border=\"1\" class=\"dataframe\">\n  <thead>\n    <tr style=\"text-align: right;\">\n      <th></th>\n      <th>Unnamed: 0</th>\n      <th>Ubicacion</th>\n      <th>Centro</th>\n      <th>Direccion</th>\n      <th>Telefono</th>\n      <th>email</th>\n      <th>Informacion</th>\n    </tr>\n  </thead>\n  <tbody>\n    <tr>\n      <th>0</th>\n      <td>0</td>\n      <td>Parque Natural de Peñalara</td>\n      <td>Centro de Educación Ambiental Puente del Perdón</td>\n      <td>Carretera M-604  Km. 28  28740 Rascafría (Madrid)</td>\n      <td>918691757</td>\n      <td>redcentrospuentedp@yahoo.es</td>\n      <td>El “Centro de Educación Ambiental Puente del ...</td>\n    </tr>\n    <tr>\n      <th>1</th>\n      <td>1</td>\n      <td>Parque Regional de la Cuenca Alta del Manzanares</td>\n      <td>Centro de Educación Ambiental Manzanares</td>\n      <td>Carretera M-604  Km. 28  28740 Rascafría (Madrid)</td>\n      <td>918691757</td>\n      <td>redcentrospuentedp@yahoo.es</td>\n      <td>El Centro dispone de un edificio principal co...</td>\n    </tr>\n    <tr>\n      <th>2</th>\n      <td>2</td>\n      <td>Reserva de la Biosfera de la Sierra del Rincón</td>\n      <td>Hayedo de Montejo</td>\n      <td>Carretera M-604  Km. 28  28740 Rascafría (Madrid)</td>\n      <td>918691757</td>\n      <td>redcentrospuentedp@yahoo.es</td>\n      <td>El “Hayedo de Montejo” constituye uno de los ...</td>\n    </tr>\n    <tr>\n      <th>3</th>\n      <td>3</td>\n      <td>Reserva de la Biosfera de la Sierra del Rincón</td>\n      <td>Senda del Agua y Lagna del Salmoral</td>\n      <td>Carretera M-604  Km. 28  28740 Rascafría (Madrid)</td>\n      <td>918691757</td>\n      <td>redcentrospuentedp@yahoo.es</td>\n      <td>La “Senda del Agua” une el municipio de Práde...</td>\n    </tr>\n  </tbody>\n</table>\n</div>"
     },
     "metadata": {},
     "execution_count": 103
    }
   ],
   "source": [
    "c1"
   ]
  },
  {
   "cell_type": "code",
   "execution_count": 124,
   "metadata": {},
   "outputs": [
    {
     "output_type": "execute_result",
     "data": {
      "text/plain": [
       "   Unnamed: 0                                           Centro  \\\n",
       "0           0  Centro de Educación Ambiental Puente del Perdón   \n",
       "1           1         Centro de Educación Ambiental Manzanares   \n",
       "2           2                                Hayedo de Montejo   \n",
       "3           3              Senda del Agua y Lagna del Salmoral   \n",
       "\n",
       "                                             Acceso   \\\n",
       "0  Para acceder desde el aparcamiento hasta el ed...   \n",
       "1  Para acceder desde el aparcamiento hasta el ed...   \n",
       "2  Para acceder desde el aparcamiento hasta el ed...   \n",
       "3  Para acceder desde el aparcamiento hasta el ed...   \n",
       "\n",
       "                                           Recepción  \\\n",
       "0  Se accede desde las áreas temáticas al aire li...   \n",
       "1  Se accede desde las áreas temáticas al aire li...   \n",
       "2  Se accede desde las áreas temáticas al aire li...   \n",
       "3  Se accede desde las áreas temáticas al aire li...   \n",
       "\n",
       "                                       Aseo adaptado  \\\n",
       "0  Hay una cabina de aseo adaptada, independiente...   \n",
       "1  Hay una cabina de aseo adaptada, independiente...   \n",
       "2  Hay una cabina de aseo adaptada, independiente...   \n",
       "3  Hay una cabina de aseo adaptada, independiente...   \n",
       "\n",
       "                                             Inodoro  \\\n",
       "0  El inodoro tiene un espacio libre de acercamie...   \n",
       "1  El inodoro tiene un espacio libre de acercamie...   \n",
       "2  El inodoro tiene un espacio libre de acercamie...   \n",
       "3  El inodoro tiene un espacio libre de acercamie...   \n",
       "\n",
       "                        Lavabo y accesorios del aseo  \\\n",
       "0  El lavabo permite la aproximación frontal de u...   \n",
       "1  El lavabo permite la aproximación frontal de u...   \n",
       "2  El lavabo permite la aproximación frontal de u...   \n",
       "3  El lavabo permite la aproximación frontal de u...   \n",
       "\n",
       "                                            Senderos  \\\n",
       "0  Las sendas que recorren el “Área de Recursos A...   \n",
       "1  Las sendas que recorren el “Área de Recursos A...   \n",
       "2  Las sendas que recorren el “Área de Recursos A...   \n",
       "3  Las sendas que recorren el “Área de Recursos A...   \n",
       "\n",
       "                      Mobiliario y zonas de descanso  \n",
       "0  Dispone de una zona de descanso al aire libre ...  \n",
       "1  Dispone de una zona de descanso al aire libre ...  \n",
       "2  Dispone de una zona de descanso al aire libre ...  \n",
       "3  Dispone de una zona de descanso al aire libre ...  "
      ],
      "text/html": "<div>\n<style scoped>\n    .dataframe tbody tr th:only-of-type {\n        vertical-align: middle;\n    }\n\n    .dataframe tbody tr th {\n        vertical-align: top;\n    }\n\n    .dataframe thead th {\n        text-align: right;\n    }\n</style>\n<table border=\"1\" class=\"dataframe\">\n  <thead>\n    <tr style=\"text-align: right;\">\n      <th></th>\n      <th>Unnamed: 0</th>\n      <th>Centro</th>\n      <th>Acceso</th>\n      <th>Recepción</th>\n      <th>Aseo adaptado</th>\n      <th>Inodoro</th>\n      <th>Lavabo y accesorios del aseo</th>\n      <th>Senderos</th>\n      <th>Mobiliario y zonas de descanso</th>\n    </tr>\n  </thead>\n  <tbody>\n    <tr>\n      <th>0</th>\n      <td>0</td>\n      <td>Centro de Educación Ambiental Puente del Perdón</td>\n      <td>Para acceder desde el aparcamiento hasta el ed...</td>\n      <td>Se accede desde las áreas temáticas al aire li...</td>\n      <td>Hay una cabina de aseo adaptada, independiente...</td>\n      <td>El inodoro tiene un espacio libre de acercamie...</td>\n      <td>El lavabo permite la aproximación frontal de u...</td>\n      <td>Las sendas que recorren el “Área de Recursos A...</td>\n      <td>Dispone de una zona de descanso al aire libre ...</td>\n    </tr>\n    <tr>\n      <th>1</th>\n      <td>1</td>\n      <td>Centro de Educación Ambiental Manzanares</td>\n      <td>Para acceder desde el aparcamiento hasta el ed...</td>\n      <td>Se accede desde las áreas temáticas al aire li...</td>\n      <td>Hay una cabina de aseo adaptada, independiente...</td>\n      <td>El inodoro tiene un espacio libre de acercamie...</td>\n      <td>El lavabo permite la aproximación frontal de u...</td>\n      <td>Las sendas que recorren el “Área de Recursos A...</td>\n      <td>Dispone de una zona de descanso al aire libre ...</td>\n    </tr>\n    <tr>\n      <th>2</th>\n      <td>2</td>\n      <td>Hayedo de Montejo</td>\n      <td>Para acceder desde el aparcamiento hasta el ed...</td>\n      <td>Se accede desde las áreas temáticas al aire li...</td>\n      <td>Hay una cabina de aseo adaptada, independiente...</td>\n      <td>El inodoro tiene un espacio libre de acercamie...</td>\n      <td>El lavabo permite la aproximación frontal de u...</td>\n      <td>Las sendas que recorren el “Área de Recursos A...</td>\n      <td>Dispone de una zona de descanso al aire libre ...</td>\n    </tr>\n    <tr>\n      <th>3</th>\n      <td>3</td>\n      <td>Senda del Agua y Lagna del Salmoral</td>\n      <td>Para acceder desde el aparcamiento hasta el ed...</td>\n      <td>Se accede desde las áreas temáticas al aire li...</td>\n      <td>Hay una cabina de aseo adaptada, independiente...</td>\n      <td>El inodoro tiene un espacio libre de acercamie...</td>\n      <td>El lavabo permite la aproximación frontal de u...</td>\n      <td>Las sendas que recorren el “Área de Recursos A...</td>\n      <td>Dispone de una zona de descanso al aire libre ...</td>\n    </tr>\n  </tbody>\n</table>\n</div>"
     },
     "metadata": {},
     "execution_count": 124
    }
   ],
   "source": [
    "p1"
   ]
  }
 ]
}