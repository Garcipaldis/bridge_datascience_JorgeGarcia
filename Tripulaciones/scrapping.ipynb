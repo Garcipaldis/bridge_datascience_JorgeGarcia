{
 "metadata": {
  "language_info": {
   "codemirror_mode": {
    "name": "ipython",
    "version": 3
   },
   "file_extension": ".py",
   "mimetype": "text/x-python",
   "name": "python",
   "nbconvert_exporter": "python",
   "pygments_lexer": "ipython3",
   "version": "3.7.4"
  },
  "orig_nbformat": 4,
  "kernelspec": {
   "name": "python3",
   "display_name": "Python 3.7.4 64-bit"
  },
  "interpreter": {
   "hash": "674dfd6ded4398e0679ff4f65e9a10a54ff0d14801bec0126172cfc3973d1cf1"
  }
 },
 "nbformat": 4,
 "nbformat_minor": 2,
 "cells": [
  {
   "source": [
    "# DATA MINING\n",
    "\n",
    "## 1. Accesibilidad_Transporte_Publico"
   ],
   "cell_type": "markdown",
   "metadata": {}
  },
  {
   "cell_type": "code",
   "execution_count": 1,
   "metadata": {},
   "outputs": [],
   "source": [
    "import tabula\n",
    "import os\n",
    "\n",
    "tables = tabula.read_pdf('Accesibilidad_Transporte_Publico.pdf', pages=\"all\")"
   ]
  },
  {
   "cell_type": "code",
   "execution_count": 3,
   "metadata": {},
   "outputs": [
    {
     "output_type": "execute_result",
     "data": {
      "text/plain": [
       "109"
      ]
     },
     "metadata": {},
     "execution_count": 3
    }
   ],
   "source": [
    "len(tables)"
   ]
  },
  {
   "cell_type": "code",
   "execution_count": 47,
   "metadata": {},
   "outputs": [
    {
     "output_type": "execute_result",
     "data": {
      "text/plain": [
       "               Unnamed: 0                      ESTACIONES DE METRO DE MADRID\n",
       "0                     NaN  ESTACIONES CON MEDIDAS ESTACIONES CON MEDIDAS ...\n",
       "1                     NaN  COMPLEMENTARIAS  COMPLEMENTARIAS DE ASCENSORES...\n",
       "2                     NaN  DE ACCESIBILIDAD  ACCESIBILIDAD PERO SIN PERO ...\n",
       "3                     NaN          Y ASCENSORES  ASCENSORES  COMPLEMENTARIAS\n",
       "4                     NaN            Y/O RAMPAS Y/O RAMPAS  DE ACCESIBILIDAD\n",
       "5                   Metro                                          116 31 70\n",
       "6            Metro Ligero                                             38 0 0\n",
       "7                   Total                                          154 31 70\n",
       "8  % sobre el total (301)                            51,16 % 10,29 % 23,25 %"
      ],
      "text/html": "<div>\n<style scoped>\n    .dataframe tbody tr th:only-of-type {\n        vertical-align: middle;\n    }\n\n    .dataframe tbody tr th {\n        vertical-align: top;\n    }\n\n    .dataframe thead th {\n        text-align: right;\n    }\n</style>\n<table border=\"1\" class=\"dataframe\">\n  <thead>\n    <tr style=\"text-align: right;\">\n      <th></th>\n      <th>Unnamed: 0</th>\n      <th>ESTACIONES DE METRO DE MADRID</th>\n    </tr>\n  </thead>\n  <tbody>\n    <tr>\n      <th>0</th>\n      <td>NaN</td>\n      <td>ESTACIONES CON MEDIDAS ESTACIONES CON MEDIDAS ...</td>\n    </tr>\n    <tr>\n      <th>1</th>\n      <td>NaN</td>\n      <td>COMPLEMENTARIAS  COMPLEMENTARIAS DE ASCENSORES...</td>\n    </tr>\n    <tr>\n      <th>2</th>\n      <td>NaN</td>\n      <td>DE ACCESIBILIDAD  ACCESIBILIDAD PERO SIN PERO ...</td>\n    </tr>\n    <tr>\n      <th>3</th>\n      <td>NaN</td>\n      <td>Y ASCENSORES  ASCENSORES  COMPLEMENTARIAS</td>\n    </tr>\n    <tr>\n      <th>4</th>\n      <td>NaN</td>\n      <td>Y/O RAMPAS Y/O RAMPAS  DE ACCESIBILIDAD</td>\n    </tr>\n    <tr>\n      <th>5</th>\n      <td>Metro</td>\n      <td>116 31 70</td>\n    </tr>\n    <tr>\n      <th>6</th>\n      <td>Metro Ligero</td>\n      <td>38 0 0</td>\n    </tr>\n    <tr>\n      <th>7</th>\n      <td>Total</td>\n      <td>154 31 70</td>\n    </tr>\n    <tr>\n      <th>8</th>\n      <td>% sobre el total (301)</td>\n      <td>51,16 % 10,29 % 23,25 %</td>\n    </tr>\n  </tbody>\n</table>\n</div>"
     },
     "metadata": {},
     "execution_count": 47
    }
   ],
   "source": [
    "tables[51]"
   ]
  },
  {
   "source": [
    "### 1.1 Estaciones FGC Cataluña"
   ],
   "cell_type": "markdown",
   "metadata": {}
  },
  {
   "cell_type": "code",
   "execution_count": 40,
   "metadata": {},
   "outputs": [
    {
     "output_type": "execute_result",
     "data": {
      "text/plain": [
       "          Unnamed: 0  Unnamed: 1 Unnamed: 2  Unnamed: 3        Unnamed: 4  \\\n",
       "0                NaN         NaN  ADAPTADAS         NaN  TOTAL ESTACIONES   \n",
       "1                NaN         NaN        NaN         NaN               NaN   \n",
       "2                FGC        79.0        NaN        80.0               NaN   \n",
       "3  Metro y funicular       142.0        NaN       156.0               NaN   \n",
       "4              Total       221.0        NaN       236.0               NaN   \n",
       "\n",
       "  Unnamed: 5 % ESTACIONES  \n",
       "0        NaN          NaN  \n",
       "1        NaN    ADAPTADAS  \n",
       "2        99%          NaN  \n",
       "3        91%          NaN  \n",
       "4        94%          NaN  "
      ],
      "text/html": "<div>\n<style scoped>\n    .dataframe tbody tr th:only-of-type {\n        vertical-align: middle;\n    }\n\n    .dataframe tbody tr th {\n        vertical-align: top;\n    }\n\n    .dataframe thead th {\n        text-align: right;\n    }\n</style>\n<table border=\"1\" class=\"dataframe\">\n  <thead>\n    <tr style=\"text-align: right;\">\n      <th></th>\n      <th>Unnamed: 0</th>\n      <th>Unnamed: 1</th>\n      <th>Unnamed: 2</th>\n      <th>Unnamed: 3</th>\n      <th>Unnamed: 4</th>\n      <th>Unnamed: 5</th>\n      <th>% ESTACIONES</th>\n    </tr>\n  </thead>\n  <tbody>\n    <tr>\n      <th>0</th>\n      <td>NaN</td>\n      <td>NaN</td>\n      <td>ADAPTADAS</td>\n      <td>NaN</td>\n      <td>TOTAL ESTACIONES</td>\n      <td>NaN</td>\n      <td>NaN</td>\n    </tr>\n    <tr>\n      <th>1</th>\n      <td>NaN</td>\n      <td>NaN</td>\n      <td>NaN</td>\n      <td>NaN</td>\n      <td>NaN</td>\n      <td>NaN</td>\n      <td>ADAPTADAS</td>\n    </tr>\n    <tr>\n      <th>2</th>\n      <td>FGC</td>\n      <td>79.0</td>\n      <td>NaN</td>\n      <td>80.0</td>\n      <td>NaN</td>\n      <td>99%</td>\n      <td>NaN</td>\n    </tr>\n    <tr>\n      <th>3</th>\n      <td>Metro y funicular</td>\n      <td>142.0</td>\n      <td>NaN</td>\n      <td>156.0</td>\n      <td>NaN</td>\n      <td>91%</td>\n      <td>NaN</td>\n    </tr>\n    <tr>\n      <th>4</th>\n      <td>Total</td>\n      <td>221.0</td>\n      <td>NaN</td>\n      <td>236.0</td>\n      <td>NaN</td>\n      <td>94%</td>\n      <td>NaN</td>\n    </tr>\n  </tbody>\n</table>\n</div>"
     },
     "metadata": {},
     "execution_count": 40
    }
   ],
   "source": [
    "df = tables[46].copy()\n",
    "df"
   ]
  },
  {
   "cell_type": "code",
   "execution_count": 41,
   "metadata": {},
   "outputs": [
    {
     "output_type": "execute_result",
     "data": {
      "text/plain": [
       "          Transporte  ADAPTADAS  TOTAL ESTACIONES % ESTACIONES ADAPTADAS\n",
       "0                FGC         79                80                    99%\n",
       "1  Metro y funicular        142               156                    91%\n",
       "2              Total        221               236                    94%"
      ],
      "text/html": "<div>\n<style scoped>\n    .dataframe tbody tr th:only-of-type {\n        vertical-align: middle;\n    }\n\n    .dataframe tbody tr th {\n        vertical-align: top;\n    }\n\n    .dataframe thead th {\n        text-align: right;\n    }\n</style>\n<table border=\"1\" class=\"dataframe\">\n  <thead>\n    <tr style=\"text-align: right;\">\n      <th></th>\n      <th>Transporte</th>\n      <th>ADAPTADAS</th>\n      <th>TOTAL ESTACIONES</th>\n      <th>% ESTACIONES ADAPTADAS</th>\n    </tr>\n  </thead>\n  <tbody>\n    <tr>\n      <th>0</th>\n      <td>FGC</td>\n      <td>79</td>\n      <td>80</td>\n      <td>99%</td>\n    </tr>\n    <tr>\n      <th>1</th>\n      <td>Metro y funicular</td>\n      <td>142</td>\n      <td>156</td>\n      <td>91%</td>\n    </tr>\n    <tr>\n      <th>2</th>\n      <td>Total</td>\n      <td>221</td>\n      <td>236</td>\n      <td>94%</td>\n    </tr>\n  </tbody>\n</table>\n</div>"
     },
     "metadata": {},
     "execution_count": 41
    }
   ],
   "source": [
    "df = df.drop([0, 1])\n",
    "df = df.drop(['Unnamed: 2', 'Unnamed: 4', '% ESTACIONES'], axis=1)\n",
    "df.rename(columns={'Unnamed: 0': 'Transporte', 'Unnamed: 1': 'ADAPTADAS', 'Unnamed: 3':'TOTAL ESTACIONES', 'Unnamed: 5': '% ESTACIONES ADAPTADAS'}, inplace=True)\n",
    "df.index = range(3)\n",
    "df['ADAPTADAS'] = df['ADAPTADAS'].apply(lambda x: int(x))\n",
    "df['TOTAL ESTACIONES'] = df['TOTAL ESTACIONES'].apply(lambda x: int(x))\n",
    "df"
   ]
  },
  {
   "cell_type": "code",
   "execution_count": 42,
   "metadata": {},
   "outputs": [],
   "source": [
    "df.to_csv('Accesibilidad_TP' + os.sep + 'Tabla_1_Estaciones_FGC.csv')"
   ]
  },
  {
   "source": [
    "### 1.2 Estaciones Metro de Madrid"
   ],
   "cell_type": "markdown",
   "metadata": {}
  },
  {
   "cell_type": "code",
   "execution_count": 60,
   "metadata": {},
   "outputs": [
    {
     "output_type": "execute_result",
     "data": {
      "text/plain": [
       "               Unnamed: 0                      ESTACIONES DE METRO DE MADRID\n",
       "0                     NaN  ESTACIONES CON MEDIDAS ESTACIONES CON MEDIDAS ...\n",
       "1                     NaN  COMPLEMENTARIAS  COMPLEMENTARIAS DE ASCENSORES...\n",
       "2                     NaN  DE ACCESIBILIDAD  ACCESIBILIDAD PERO SIN PERO ...\n",
       "3                     NaN          Y ASCENSORES  ASCENSORES  COMPLEMENTARIAS\n",
       "4                     NaN            Y/O RAMPAS Y/O RAMPAS  DE ACCESIBILIDAD\n",
       "5                   Metro                                          116 31 70\n",
       "6            Metro Ligero                                             38 0 0\n",
       "7                   Total                                          154 31 70\n",
       "8  % sobre el total (301)                            51,16 % 10,29 % 23,25 %"
      ],
      "text/html": "<div>\n<style scoped>\n    .dataframe tbody tr th:only-of-type {\n        vertical-align: middle;\n    }\n\n    .dataframe tbody tr th {\n        vertical-align: top;\n    }\n\n    .dataframe thead th {\n        text-align: right;\n    }\n</style>\n<table border=\"1\" class=\"dataframe\">\n  <thead>\n    <tr style=\"text-align: right;\">\n      <th></th>\n      <th>Unnamed: 0</th>\n      <th>ESTACIONES DE METRO DE MADRID</th>\n    </tr>\n  </thead>\n  <tbody>\n    <tr>\n      <th>0</th>\n      <td>NaN</td>\n      <td>ESTACIONES CON MEDIDAS ESTACIONES CON MEDIDAS ...</td>\n    </tr>\n    <tr>\n      <th>1</th>\n      <td>NaN</td>\n      <td>COMPLEMENTARIAS  COMPLEMENTARIAS DE ASCENSORES...</td>\n    </tr>\n    <tr>\n      <th>2</th>\n      <td>NaN</td>\n      <td>DE ACCESIBILIDAD  ACCESIBILIDAD PERO SIN PERO ...</td>\n    </tr>\n    <tr>\n      <th>3</th>\n      <td>NaN</td>\n      <td>Y ASCENSORES  ASCENSORES  COMPLEMENTARIAS</td>\n    </tr>\n    <tr>\n      <th>4</th>\n      <td>NaN</td>\n      <td>Y/O RAMPAS Y/O RAMPAS  DE ACCESIBILIDAD</td>\n    </tr>\n    <tr>\n      <th>5</th>\n      <td>Metro</td>\n      <td>116 31 70</td>\n    </tr>\n    <tr>\n      <th>6</th>\n      <td>Metro Ligero</td>\n      <td>38 0 0</td>\n    </tr>\n    <tr>\n      <th>7</th>\n      <td>Total</td>\n      <td>154 31 70</td>\n    </tr>\n    <tr>\n      <th>8</th>\n      <td>% sobre el total (301)</td>\n      <td>51,16 % 10,29 % 23,25 %</td>\n    </tr>\n  </tbody>\n</table>\n</div>"
     },
     "metadata": {},
     "execution_count": 60
    }
   ],
   "source": [
    "df = tables[51].copy()\n",
    "df"
   ]
  },
  {
   "cell_type": "code",
   "execution_count": 61,
   "metadata": {},
   "outputs": [
    {
     "output_type": "execute_result",
     "data": {
      "text/plain": [
       "               Transporte  \\\n",
       "5                   Metro   \n",
       "6            Metro Ligero   \n",
       "7                   Total   \n",
       "8  % sobre el total (301)   \n",
       "\n",
       "  ESTACIONES CON MEDIDAS COMPLEMENTARIAS DE ACCESIBILIDAD Y ASCENSORES Y/O RAMPAS  \\\n",
       "5                                                116                                \n",
       "6                                                 38                                \n",
       "7                                                154                                \n",
       "8                                             51,16%                                \n",
       "\n",
       "  ESTACIONES CON MEDIDAS COMPLEMENTARIAS DE ACCESIBILIDAD PERO SIN ASCENSORES Y/O RAMPAS  \\\n",
       "5                                                 31                                       \n",
       "6                                                  0                                       \n",
       "7                                                 31                                       \n",
       "8                                             10,29%                                       \n",
       "\n",
       "  ESTACIONES CON ASCENSORES Y/O RAMPAS PERO SIN MEDIDAS COMPLEMENTARIAS DE ACCESIBILIDAD  \n",
       "5                                                 70                                      \n",
       "6                                                  0                                      \n",
       "7                                                 70                                      \n",
       "8                                             23,25%                                      "
      ],
      "text/html": "<div>\n<style scoped>\n    .dataframe tbody tr th:only-of-type {\n        vertical-align: middle;\n    }\n\n    .dataframe tbody tr th {\n        vertical-align: top;\n    }\n\n    .dataframe thead th {\n        text-align: right;\n    }\n</style>\n<table border=\"1\" class=\"dataframe\">\n  <thead>\n    <tr style=\"text-align: right;\">\n      <th></th>\n      <th>Transporte</th>\n      <th>ESTACIONES CON MEDIDAS COMPLEMENTARIAS DE ACCESIBILIDAD Y ASCENSORES Y/O RAMPAS</th>\n      <th>ESTACIONES CON MEDIDAS COMPLEMENTARIAS DE ACCESIBILIDAD PERO SIN ASCENSORES Y/O RAMPAS</th>\n      <th>ESTACIONES CON ASCENSORES Y/O RAMPAS PERO SIN MEDIDAS COMPLEMENTARIAS DE ACCESIBILIDAD</th>\n    </tr>\n  </thead>\n  <tbody>\n    <tr>\n      <th>5</th>\n      <td>Metro</td>\n      <td>116</td>\n      <td>31</td>\n      <td>70</td>\n    </tr>\n    <tr>\n      <th>6</th>\n      <td>Metro Ligero</td>\n      <td>38</td>\n      <td>0</td>\n      <td>0</td>\n    </tr>\n    <tr>\n      <th>7</th>\n      <td>Total</td>\n      <td>154</td>\n      <td>31</td>\n      <td>70</td>\n    </tr>\n    <tr>\n      <th>8</th>\n      <td>% sobre el total (301)</td>\n      <td>51,16%</td>\n      <td>10,29%</td>\n      <td>23,25%</td>\n    </tr>\n  </tbody>\n</table>\n</div>"
     },
     "metadata": {},
     "execution_count": 61
    }
   ],
   "source": [
    "cols = df['ESTACIONES DE METRO DE MADRID']\n",
    "metro = cols[5].split(' ')\n",
    "ml = cols[6].split(' ')\n",
    "total = cols[7].split(' ')\n",
    "porcentage = [val + '%' for val in cols[8].split(' ') if val != '%']\n",
    "original_cols = ['ESTACIONES CON MEDIDAS COMPLEMENTARIAS DE ACCESIBILIDAD Y ASCENSORES Y/O RAMPAS',\n",
    "                    'ESTACIONES CON MEDIDAS COMPLEMENTARIAS DE ACCESIBILIDAD PERO SIN ASCENSORES Y/O RAMPAS',\n",
    "                    'ESTACIONES CON ASCENSORES Y/O RAMPAS PERO SIN MEDIDAS COMPLEMENTARIAS DE ACCESIBILIDAD']\n",
    "df[original_cols[0]] = list(range(5)) + [metro[0]] + [ml[0]] + [total[0]] + [porcentage[0]]\n",
    "df[original_cols[1]] = list(range(5)) + [metro[1]] + [ml[1]] + [total[1]] + [porcentage[1]]\n",
    "df[original_cols[2]] = list(range(5)) + [metro[2]] + [ml[2]] + [total[2]] + [porcentage[2]]\n",
    "df.drop([0, 1, 2, 3, 4], inplace=True)\n",
    "df.drop('ESTACIONES DE METRO DE MADRID', axis=1, inplace=True)\n",
    "df.rename(columns={'Unnamed: 0': 'Transporte'}, inplace=True)\n",
    "df"
   ]
  },
  {
   "cell_type": "code",
   "execution_count": 62,
   "metadata": {},
   "outputs": [],
   "source": [
    "df.to_csv('Accesibilidad_TP' + os.sep + 'Tabla_2_Estaciones_Metro_Madrid.csv')"
   ]
  },
  {
   "cell_type": "code",
   "execution_count": null,
   "metadata": {},
   "outputs": [],
   "source": []
  }
 ]
}