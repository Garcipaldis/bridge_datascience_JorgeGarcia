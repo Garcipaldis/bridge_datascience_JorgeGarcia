{
 "metadata": {
  "language_info": {
   "codemirror_mode": {
    "name": "ipython",
    "version": 3
   },
   "file_extension": ".py",
   "mimetype": "text/x-python",
   "name": "python",
   "nbconvert_exporter": "python",
   "pygments_lexer": "ipython3",
   "version": "3.7.4"
  },
  "orig_nbformat": 2,
  "kernelspec": {
   "name": "python374jvsc74a57bd0674dfd6ded4398e0679ff4f65e9a10a54ff0d14801bec0126172cfc3973d1cf1",
   "display_name": "Python 3.7.4 64-bit"
  },
  "metadata": {
   "interpreter": {
    "hash": "674dfd6ded4398e0679ff4f65e9a10a54ff0d14801bec0126172cfc3973d1cf1"
   }
  }
 },
 "nbformat": 4,
 "nbformat_minor": 2,
 "cells": [
  {
   "cell_type": "code",
   "execution_count": 2,
   "metadata": {},
   "outputs": [],
   "source": [
    "import pandas as pd\n",
    "import numpy as np\n",
    "import json"
   ]
  },
  {
   "cell_type": "code",
   "execution_count": 3,
   "metadata": {},
   "outputs": [],
   "source": [
    "path = 'data/Netflix_raw/combined_data_1.txt'\n",
    "\n",
    "def combined_to_list(path):\n",
    "    with open(path, 'r') as raw:\n",
    "        text = raw.readlines()\n",
    "    res = []\n",
    "    k = []\n",
    "    for line in text:\n",
    "        if ':' not in line:\n",
    "            res.append(k + line.strip('\\n').split(','))\n",
    "        else:\n",
    "            k = [line.strip(':\\n')]\n",
    "    return res\n",
    "\n",
    "def combined_to_csv(path, num=0):\n",
    "    lista = combined_to_list(path)\n",
    "    df = pd.DataFrame(lista, columns=['netflix_id', 'user_id', 'rating', 'date'])\n",
    "    df.to_csv(f'data/Net_combined_{num}.csv')\n",
    "    return df"
   ]
  },
  {
   "cell_type": "code",
   "execution_count": 4,
   "metadata": {},
   "outputs": [
    {
     "output_type": "execute_result",
     "data": {
      "text/plain": [
       "         netflix_id  user_id rating        date\n",
       "0             13368  2385003      4  2004-07-08\n",
       "1             13368   659432      3  2005-03-16\n",
       "2             13368   751812      2  2002-12-16\n",
       "3             13368  2625420      2  2004-05-25\n",
       "4             13368  1650301      1  2005-08-30\n",
       "...             ...      ...    ...         ...\n",
       "26847518      17770  1790158      4  2005-11-01\n",
       "26847519      17770  1608708      3  2005-07-19\n",
       "26847520      17770   234275      1  2004-08-07\n",
       "26847521      17770   255278      4  2004-05-28\n",
       "26847522      17770   453585      2  2005-03-10\n",
       "\n",
       "[26847523 rows x 4 columns]"
      ],
      "text/html": "<div>\n<style scoped>\n    .dataframe tbody tr th:only-of-type {\n        vertical-align: middle;\n    }\n\n    .dataframe tbody tr th {\n        vertical-align: top;\n    }\n\n    .dataframe thead th {\n        text-align: right;\n    }\n</style>\n<table border=\"1\" class=\"dataframe\">\n  <thead>\n    <tr style=\"text-align: right;\">\n      <th></th>\n      <th>netflix_id</th>\n      <th>user_id</th>\n      <th>rating</th>\n      <th>date</th>\n    </tr>\n  </thead>\n  <tbody>\n    <tr>\n      <th>0</th>\n      <td>13368</td>\n      <td>2385003</td>\n      <td>4</td>\n      <td>2004-07-08</td>\n    </tr>\n    <tr>\n      <th>1</th>\n      <td>13368</td>\n      <td>659432</td>\n      <td>3</td>\n      <td>2005-03-16</td>\n    </tr>\n    <tr>\n      <th>2</th>\n      <td>13368</td>\n      <td>751812</td>\n      <td>2</td>\n      <td>2002-12-16</td>\n    </tr>\n    <tr>\n      <th>3</th>\n      <td>13368</td>\n      <td>2625420</td>\n      <td>2</td>\n      <td>2004-05-25</td>\n    </tr>\n    <tr>\n      <th>4</th>\n      <td>13368</td>\n      <td>1650301</td>\n      <td>1</td>\n      <td>2005-08-30</td>\n    </tr>\n    <tr>\n      <th>...</th>\n      <td>...</td>\n      <td>...</td>\n      <td>...</td>\n      <td>...</td>\n    </tr>\n    <tr>\n      <th>26847518</th>\n      <td>17770</td>\n      <td>1790158</td>\n      <td>4</td>\n      <td>2005-11-01</td>\n    </tr>\n    <tr>\n      <th>26847519</th>\n      <td>17770</td>\n      <td>1608708</td>\n      <td>3</td>\n      <td>2005-07-19</td>\n    </tr>\n    <tr>\n      <th>26847520</th>\n      <td>17770</td>\n      <td>234275</td>\n      <td>1</td>\n      <td>2004-08-07</td>\n    </tr>\n    <tr>\n      <th>26847521</th>\n      <td>17770</td>\n      <td>255278</td>\n      <td>4</td>\n      <td>2004-05-28</td>\n    </tr>\n    <tr>\n      <th>26847522</th>\n      <td>17770</td>\n      <td>453585</td>\n      <td>2</td>\n      <td>2005-03-10</td>\n    </tr>\n  </tbody>\n</table>\n<p>26847523 rows × 4 columns</p>\n</div>"
     },
     "metadata": {},
     "execution_count": 4
    }
   ],
   "source": [
    "combined_to_csv('data/Netflix_raw/combined_data_4.txt', num=4)"
   ]
  },
  {
   "cell_type": "code",
   "execution_count": null,
   "metadata": {},
   "outputs": [],
   "source": [
    "def float_to_object(x):\n",
    "    \"\"\"Transform a float into a string without decimals. Else returns variable.\n",
    "    \"\"\"\n",
    "    try:\n",
    "        return str(int(x))\n",
    "    except ValueError:\n",
    "        return x\n",
    "\n",
    "def get_imdb_ids(net_path, imdb_path, save=False):\n",
    "    \"\"\" Function which finds the IMDb ID of the titles from the Netflix Movie Data.\n",
    "        - Args:\n",
    "            - net_path: filepath of the netflix movie list.\n",
    "            - imdb_path: filepath of the IMDB ID list.\n",
    "            - save: Option of saving DataFrame into a .csv file.\n",
    "        - Returns:\n",
    "            - Dataframe.\n",
    "    \"\"\"\n",
    "    net_movies = pd.read_csv(net_path, names=['netflix_id', 'startYear', 'originalTitle'])\n",
    "    net_movies['startYear'] = net_movies['startYear'].apply(float_to_object)\n",
    "\n",
    "    imdb_df = pd.read_csv(imdb_path, sep='\\t', low_memory=False)\n",
    "\n",
    "    net_data = pd.merge(net_movies, imdb_df, on=['originalTitle', 'startYear'])\n",
    "    net_data.rename(columns={'tconst':'titleId'}, inplace=True)\n",
    "    net_data.drop_duplicates('originalTitle', inplace=True)\n",
    "    if save == True:\n",
    "        net_data.to_csv('data/Net_Data_ID.csv')\n",
    "\n",
    "    return net_data\n"
   ]
  },
  {
   "cell_type": "code",
   "execution_count": 17,
   "metadata": {},
   "outputs": [
    {
     "output_type": "execute_result",
     "data": {
      "text/plain": [
       "   netflix_id  startYear                 originalTitle\n",
       "0           1     2003.0               Dinosaur Planet\n",
       "1           2     2004.0    Isle of Man TT 2004 Review\n",
       "2           3     1997.0                     Character\n",
       "3           4     1994.0  Paula Abdul's Get Up & Dance\n",
       "4           5     2004.0      The Rise and Fall of ECW\n",
       "5           6     1997.0                          Sick\n",
       "6           7     1992.0                         8 Man\n",
       "7           8     2004.0    What the #$*! Do We Know!?\n",
       "8           9     1991.0      Class of Nuke 'Em High 2\n",
       "9          10     2001.0                       Fighter"
      ],
      "text/html": "<div>\n<style scoped>\n    .dataframe tbody tr th:only-of-type {\n        vertical-align: middle;\n    }\n\n    .dataframe tbody tr th {\n        vertical-align: top;\n    }\n\n    .dataframe thead th {\n        text-align: right;\n    }\n</style>\n<table border=\"1\" class=\"dataframe\">\n  <thead>\n    <tr style=\"text-align: right;\">\n      <th></th>\n      <th>netflix_id</th>\n      <th>startYear</th>\n      <th>originalTitle</th>\n    </tr>\n  </thead>\n  <tbody>\n    <tr>\n      <th>0</th>\n      <td>1</td>\n      <td>2003.0</td>\n      <td>Dinosaur Planet</td>\n    </tr>\n    <tr>\n      <th>1</th>\n      <td>2</td>\n      <td>2004.0</td>\n      <td>Isle of Man TT 2004 Review</td>\n    </tr>\n    <tr>\n      <th>2</th>\n      <td>3</td>\n      <td>1997.0</td>\n      <td>Character</td>\n    </tr>\n    <tr>\n      <th>3</th>\n      <td>4</td>\n      <td>1994.0</td>\n      <td>Paula Abdul's Get Up &amp; Dance</td>\n    </tr>\n    <tr>\n      <th>4</th>\n      <td>5</td>\n      <td>2004.0</td>\n      <td>The Rise and Fall of ECW</td>\n    </tr>\n    <tr>\n      <th>5</th>\n      <td>6</td>\n      <td>1997.0</td>\n      <td>Sick</td>\n    </tr>\n    <tr>\n      <th>6</th>\n      <td>7</td>\n      <td>1992.0</td>\n      <td>8 Man</td>\n    </tr>\n    <tr>\n      <th>7</th>\n      <td>8</td>\n      <td>2004.0</td>\n      <td>What the #$*! Do We Know!?</td>\n    </tr>\n    <tr>\n      <th>8</th>\n      <td>9</td>\n      <td>1991.0</td>\n      <td>Class of Nuke 'Em High 2</td>\n    </tr>\n    <tr>\n      <th>9</th>\n      <td>10</td>\n      <td>2001.0</td>\n      <td>Fighter</td>\n    </tr>\n  </tbody>\n</table>\n</div>"
     },
     "metadata": {},
     "execution_count": 17
    }
   ],
   "source": [
    "net_movies = pd.read_csv('data/Netflix_raw/movie_titles.csv', names=['netflix_id', 'startYear', 'originalTitle'])\n",
    "net_movies.head(10)"
   ]
  },
  {
   "cell_type": "code",
   "execution_count": 18,
   "metadata": {},
   "outputs": [
    {
     "output_type": "execute_result",
     "data": {
      "text/plain": [
       "17770"
      ]
     },
     "metadata": {},
     "execution_count": 18
    }
   ],
   "source": [
    "len(net_movies)"
   ]
  },
  {
   "cell_type": "code",
   "execution_count": 33,
   "metadata": {},
   "outputs": [],
   "source": [
    "def float_to_object(x):\n",
    "    try:\n",
    "        return str(int(x))\n",
    "    except ValueError:\n",
    "        return x"
   ]
  },
  {
   "cell_type": "code",
   "execution_count": 36,
   "metadata": {},
   "outputs": [
    {
     "output_type": "execute_result",
     "data": {
      "text/plain": [
       "netflix_id        int64\n",
       "startYear        object\n",
       "originalTitle    object\n",
       "dtype: object"
      ]
     },
     "metadata": {},
     "execution_count": 36
    }
   ],
   "source": [
    "net_movies['startYear'] = net_movies['startYear'].apply(float_to_object)\n",
    "net_movies.dtypes"
   ]
  },
  {
   "cell_type": "code",
   "execution_count": 14,
   "metadata": {},
   "outputs": [
    {
     "output_type": "execute_result",
     "data": {
      "text/plain": [
       "      tconst titleType                                 primaryTitle  \\\n",
       "0  tt0000001     short                                   Carmencita   \n",
       "1  tt0000002     short                       Le clown et ses chiens   \n",
       "2  tt0000003     short                               Pauvre Pierrot   \n",
       "3  tt0000004     short                                  Un bon bock   \n",
       "4  tt0000005     short                             Blacksmith Scene   \n",
       "5  tt0000006     short                            Chinese Opium Den   \n",
       "6  tt0000007     short  Corbett and Courtney Before the Kinetograph   \n",
       "7  tt0000008     short       Edison Kinetoscopic Record of a Sneeze   \n",
       "8  tt0000009     short                                   Miss Jerry   \n",
       "9  tt0000010     short                          Leaving the Factory   \n",
       "\n",
       "                                 originalTitle isAdult startYear endYear  \\\n",
       "0                                   Carmencita       0      1894      \\N   \n",
       "1                       Le clown et ses chiens       0      1892      \\N   \n",
       "2                               Pauvre Pierrot       0      1892      \\N   \n",
       "3                                  Un bon bock       0      1892      \\N   \n",
       "4                             Blacksmith Scene       0      1893      \\N   \n",
       "5                            Chinese Opium Den       0      1894      \\N   \n",
       "6  Corbett and Courtney Before the Kinetograph       0      1894      \\N   \n",
       "7       Edison Kinetoscopic Record of a Sneeze       0      1894      \\N   \n",
       "8                                   Miss Jerry       0      1894      \\N   \n",
       "9          La sortie de l'usine Lumière à Lyon       0      1895      \\N   \n",
       "\n",
       "  runtimeMinutes                    genres  \n",
       "0              1         Documentary,Short  \n",
       "1              5           Animation,Short  \n",
       "2              4  Animation,Comedy,Romance  \n",
       "3             12           Animation,Short  \n",
       "4              1              Comedy,Short  \n",
       "5              1                     Short  \n",
       "6              1               Short,Sport  \n",
       "7              1         Documentary,Short  \n",
       "8             40             Romance,Short  \n",
       "9              1         Documentary,Short  "
      ],
      "text/html": "<div>\n<style scoped>\n    .dataframe tbody tr th:only-of-type {\n        vertical-align: middle;\n    }\n\n    .dataframe tbody tr th {\n        vertical-align: top;\n    }\n\n    .dataframe thead th {\n        text-align: right;\n    }\n</style>\n<table border=\"1\" class=\"dataframe\">\n  <thead>\n    <tr style=\"text-align: right;\">\n      <th></th>\n      <th>tconst</th>\n      <th>titleType</th>\n      <th>primaryTitle</th>\n      <th>originalTitle</th>\n      <th>isAdult</th>\n      <th>startYear</th>\n      <th>endYear</th>\n      <th>runtimeMinutes</th>\n      <th>genres</th>\n    </tr>\n  </thead>\n  <tbody>\n    <tr>\n      <th>0</th>\n      <td>tt0000001</td>\n      <td>short</td>\n      <td>Carmencita</td>\n      <td>Carmencita</td>\n      <td>0</td>\n      <td>1894</td>\n      <td>\\N</td>\n      <td>1</td>\n      <td>Documentary,Short</td>\n    </tr>\n    <tr>\n      <th>1</th>\n      <td>tt0000002</td>\n      <td>short</td>\n      <td>Le clown et ses chiens</td>\n      <td>Le clown et ses chiens</td>\n      <td>0</td>\n      <td>1892</td>\n      <td>\\N</td>\n      <td>5</td>\n      <td>Animation,Short</td>\n    </tr>\n    <tr>\n      <th>2</th>\n      <td>tt0000003</td>\n      <td>short</td>\n      <td>Pauvre Pierrot</td>\n      <td>Pauvre Pierrot</td>\n      <td>0</td>\n      <td>1892</td>\n      <td>\\N</td>\n      <td>4</td>\n      <td>Animation,Comedy,Romance</td>\n    </tr>\n    <tr>\n      <th>3</th>\n      <td>tt0000004</td>\n      <td>short</td>\n      <td>Un bon bock</td>\n      <td>Un bon bock</td>\n      <td>0</td>\n      <td>1892</td>\n      <td>\\N</td>\n      <td>12</td>\n      <td>Animation,Short</td>\n    </tr>\n    <tr>\n      <th>4</th>\n      <td>tt0000005</td>\n      <td>short</td>\n      <td>Blacksmith Scene</td>\n      <td>Blacksmith Scene</td>\n      <td>0</td>\n      <td>1893</td>\n      <td>\\N</td>\n      <td>1</td>\n      <td>Comedy,Short</td>\n    </tr>\n    <tr>\n      <th>5</th>\n      <td>tt0000006</td>\n      <td>short</td>\n      <td>Chinese Opium Den</td>\n      <td>Chinese Opium Den</td>\n      <td>0</td>\n      <td>1894</td>\n      <td>\\N</td>\n      <td>1</td>\n      <td>Short</td>\n    </tr>\n    <tr>\n      <th>6</th>\n      <td>tt0000007</td>\n      <td>short</td>\n      <td>Corbett and Courtney Before the Kinetograph</td>\n      <td>Corbett and Courtney Before the Kinetograph</td>\n      <td>0</td>\n      <td>1894</td>\n      <td>\\N</td>\n      <td>1</td>\n      <td>Short,Sport</td>\n    </tr>\n    <tr>\n      <th>7</th>\n      <td>tt0000008</td>\n      <td>short</td>\n      <td>Edison Kinetoscopic Record of a Sneeze</td>\n      <td>Edison Kinetoscopic Record of a Sneeze</td>\n      <td>0</td>\n      <td>1894</td>\n      <td>\\N</td>\n      <td>1</td>\n      <td>Documentary,Short</td>\n    </tr>\n    <tr>\n      <th>8</th>\n      <td>tt0000009</td>\n      <td>short</td>\n      <td>Miss Jerry</td>\n      <td>Miss Jerry</td>\n      <td>0</td>\n      <td>1894</td>\n      <td>\\N</td>\n      <td>40</td>\n      <td>Romance,Short</td>\n    </tr>\n    <tr>\n      <th>9</th>\n      <td>tt0000010</td>\n      <td>short</td>\n      <td>Leaving the Factory</td>\n      <td>La sortie de l'usine Lumière à Lyon</td>\n      <td>0</td>\n      <td>1895</td>\n      <td>\\N</td>\n      <td>1</td>\n      <td>Documentary,Short</td>\n    </tr>\n  </tbody>\n</table>\n</div>"
     },
     "metadata": {},
     "execution_count": 14
    }
   ],
   "source": [
    "types = pd.read_csv('data/types.tsv', sep='\\t', low_memory=False)\n",
    "types.head(10)"
   ]
  },
  {
   "cell_type": "code",
   "execution_count": 37,
   "metadata": {},
   "outputs": [
    {
     "output_type": "execute_result",
     "data": {
      "text/plain": [
       "      netflix_id startYear                     originalTitle     tconst  \\\n",
       "0              1      2003                   Dinosaur Planet  tt0389605   \n",
       "1             12      1947              My Favorite Brunette  tt0039645   \n",
       "2             15      1988  Neil Diamond: Greatest Hits Live  tt0168093   \n",
       "3             17      2005                         7 Seconds  tt0417395   \n",
       "4             18      1994                  Immortal Beloved  tt0110116   \n",
       "...          ...       ...                               ...        ...   \n",
       "9726       17762      1997                           Gattaca  tt0119177   \n",
       "9727       17763      1978                         Interiors  tt0077742   \n",
       "9728       17764      1998               Shakespeare in Love  tt0138097   \n",
       "9729       17769      2003                       The Company  tt0335013   \n",
       "9730       17770      2003                      Alien Hunter  tt0327409   \n",
       "\n",
       "         titleType                      primaryTitle isAdult endYear  \\\n",
       "0     tvMiniSeries                   Dinosaur Planet       0      \\N   \n",
       "1            movie              My Favorite Brunette       0      \\N   \n",
       "2            video  Neil Diamond: Greatest Hits Live       0      \\N   \n",
       "3            video                         7 Seconds       0      \\N   \n",
       "4            movie                  Immortal Beloved       0      \\N   \n",
       "...            ...                               ...     ...     ...   \n",
       "9726         movie                           Gattaca       0      \\N   \n",
       "9727         movie                         Interiors       0      \\N   \n",
       "9728         movie               Shakespeare in Love       0      \\N   \n",
       "9729         movie                       The Company       0      \\N   \n",
       "9730         movie                      Alien Hunter       0      \\N   \n",
       "\n",
       "     runtimeMinutes                        genres  \n",
       "0                50  Animation,Documentary,Family  \n",
       "1                87          Comedy,Crime,Mystery  \n",
       "2                60             Documentary,Music  \n",
       "3                96           Action,Comedy,Crime  \n",
       "4               121         Biography,Drama,Music  \n",
       "...             ...                           ...  \n",
       "9726            106         Drama,Sci-Fi,Thriller  \n",
       "9727             92                         Drama  \n",
       "9728            123          Comedy,Drama,History  \n",
       "9729            112           Drama,Music,Romance  \n",
       "9730             92       Action,Adventure,Sci-Fi  \n",
       "\n",
       "[9731 rows x 10 columns]"
      ],
      "text/html": "<div>\n<style scoped>\n    .dataframe tbody tr th:only-of-type {\n        vertical-align: middle;\n    }\n\n    .dataframe tbody tr th {\n        vertical-align: top;\n    }\n\n    .dataframe thead th {\n        text-align: right;\n    }\n</style>\n<table border=\"1\" class=\"dataframe\">\n  <thead>\n    <tr style=\"text-align: right;\">\n      <th></th>\n      <th>netflix_id</th>\n      <th>startYear</th>\n      <th>originalTitle</th>\n      <th>tconst</th>\n      <th>titleType</th>\n      <th>primaryTitle</th>\n      <th>isAdult</th>\n      <th>endYear</th>\n      <th>runtimeMinutes</th>\n      <th>genres</th>\n    </tr>\n  </thead>\n  <tbody>\n    <tr>\n      <th>0</th>\n      <td>1</td>\n      <td>2003</td>\n      <td>Dinosaur Planet</td>\n      <td>tt0389605</td>\n      <td>tvMiniSeries</td>\n      <td>Dinosaur Planet</td>\n      <td>0</td>\n      <td>\\N</td>\n      <td>50</td>\n      <td>Animation,Documentary,Family</td>\n    </tr>\n    <tr>\n      <th>1</th>\n      <td>12</td>\n      <td>1947</td>\n      <td>My Favorite Brunette</td>\n      <td>tt0039645</td>\n      <td>movie</td>\n      <td>My Favorite Brunette</td>\n      <td>0</td>\n      <td>\\N</td>\n      <td>87</td>\n      <td>Comedy,Crime,Mystery</td>\n    </tr>\n    <tr>\n      <th>2</th>\n      <td>15</td>\n      <td>1988</td>\n      <td>Neil Diamond: Greatest Hits Live</td>\n      <td>tt0168093</td>\n      <td>video</td>\n      <td>Neil Diamond: Greatest Hits Live</td>\n      <td>0</td>\n      <td>\\N</td>\n      <td>60</td>\n      <td>Documentary,Music</td>\n    </tr>\n    <tr>\n      <th>3</th>\n      <td>17</td>\n      <td>2005</td>\n      <td>7 Seconds</td>\n      <td>tt0417395</td>\n      <td>video</td>\n      <td>7 Seconds</td>\n      <td>0</td>\n      <td>\\N</td>\n      <td>96</td>\n      <td>Action,Comedy,Crime</td>\n    </tr>\n    <tr>\n      <th>4</th>\n      <td>18</td>\n      <td>1994</td>\n      <td>Immortal Beloved</td>\n      <td>tt0110116</td>\n      <td>movie</td>\n      <td>Immortal Beloved</td>\n      <td>0</td>\n      <td>\\N</td>\n      <td>121</td>\n      <td>Biography,Drama,Music</td>\n    </tr>\n    <tr>\n      <th>...</th>\n      <td>...</td>\n      <td>...</td>\n      <td>...</td>\n      <td>...</td>\n      <td>...</td>\n      <td>...</td>\n      <td>...</td>\n      <td>...</td>\n      <td>...</td>\n      <td>...</td>\n    </tr>\n    <tr>\n      <th>9726</th>\n      <td>17762</td>\n      <td>1997</td>\n      <td>Gattaca</td>\n      <td>tt0119177</td>\n      <td>movie</td>\n      <td>Gattaca</td>\n      <td>0</td>\n      <td>\\N</td>\n      <td>106</td>\n      <td>Drama,Sci-Fi,Thriller</td>\n    </tr>\n    <tr>\n      <th>9727</th>\n      <td>17763</td>\n      <td>1978</td>\n      <td>Interiors</td>\n      <td>tt0077742</td>\n      <td>movie</td>\n      <td>Interiors</td>\n      <td>0</td>\n      <td>\\N</td>\n      <td>92</td>\n      <td>Drama</td>\n    </tr>\n    <tr>\n      <th>9728</th>\n      <td>17764</td>\n      <td>1998</td>\n      <td>Shakespeare in Love</td>\n      <td>tt0138097</td>\n      <td>movie</td>\n      <td>Shakespeare in Love</td>\n      <td>0</td>\n      <td>\\N</td>\n      <td>123</td>\n      <td>Comedy,Drama,History</td>\n    </tr>\n    <tr>\n      <th>9729</th>\n      <td>17769</td>\n      <td>2003</td>\n      <td>The Company</td>\n      <td>tt0335013</td>\n      <td>movie</td>\n      <td>The Company</td>\n      <td>0</td>\n      <td>\\N</td>\n      <td>112</td>\n      <td>Drama,Music,Romance</td>\n    </tr>\n    <tr>\n      <th>9730</th>\n      <td>17770</td>\n      <td>2003</td>\n      <td>Alien Hunter</td>\n      <td>tt0327409</td>\n      <td>movie</td>\n      <td>Alien Hunter</td>\n      <td>0</td>\n      <td>\\N</td>\n      <td>92</td>\n      <td>Action,Adventure,Sci-Fi</td>\n    </tr>\n  </tbody>\n</table>\n<p>9731 rows × 10 columns</p>\n</div>"
     },
     "metadata": {},
     "execution_count": 37
    }
   ],
   "source": [
    "net_data = pd.merge(net_movies, types, on=['originalTitle', 'startYear'])\n",
    "net_data"
   ]
  },
  {
   "cell_type": "code",
   "execution_count": 38,
   "metadata": {},
   "outputs": [],
   "source": [
    "net_data.rename(columns={'tconst':'titleId'}, inplace=True)"
   ]
  },
  {
   "cell_type": "code",
   "execution_count": 21,
   "metadata": {},
   "outputs": [
    {
     "output_type": "execute_result",
     "data": {
      "text/plain": [
       "   netflix_id  startYear_x    originalTitle     titleId     titleType  \\\n",
       "0           1       2003.0  Dinosaur Planet   tt0389605  tvMiniSeries   \n",
       "1           3       1997.0        Character  tt11107306     tvEpisode   \n",
       "2           3       1997.0        Character  tt11422690         short   \n",
       "3           3       1997.0        Character  tt13328316     tvEpisode   \n",
       "4           3       1997.0        Character  tt14118266         movie   \n",
       "5           3       1997.0        Character   tt2245354      tvSeries   \n",
       "6           3       1997.0        Character   tt2989400         short   \n",
       "7           3       1997.0        Character   tt3037246         short   \n",
       "8           3       1997.0        Character   tt3362034         short   \n",
       "9           3       1997.0        Character   tt3816308         short   \n",
       "\n",
       "      primaryTitle isAdult startYear_y endYear runtimeMinutes  \\\n",
       "0  Dinosaur Planet       0        2003      \\N             50   \n",
       "1        Character       0        2019      \\N             30   \n",
       "2        Character       0        2020      \\N             17   \n",
       "3        Character       0        2020      \\N             \\N   \n",
       "4        Character       0        2021      \\N             \\N   \n",
       "5        Character       0        2012      \\N             \\N   \n",
       "6        Character       0        2013      \\N             25   \n",
       "7        Character       0        2013      \\N             20   \n",
       "8        Character       0        2002      \\N              9   \n",
       "9        Character       0        2015      \\N             14   \n",
       "\n",
       "                         genres  \n",
       "0  Animation,Documentary,Family  \n",
       "1                   Documentary  \n",
       "2                         Short  \n",
       "3                    Reality-TV  \n",
       "4         Crime,Horror,Thriller  \n",
       "5                        Comedy  \n",
       "6          Comedy,Drama,Romance  \n",
       "7                  Comedy,Short  \n",
       "8       Documentary,Music,Short  \n",
       "9           Drama,Fantasy,Short  "
      ],
      "text/html": "<div>\n<style scoped>\n    .dataframe tbody tr th:only-of-type {\n        vertical-align: middle;\n    }\n\n    .dataframe tbody tr th {\n        vertical-align: top;\n    }\n\n    .dataframe thead th {\n        text-align: right;\n    }\n</style>\n<table border=\"1\" class=\"dataframe\">\n  <thead>\n    <tr style=\"text-align: right;\">\n      <th></th>\n      <th>netflix_id</th>\n      <th>startYear_x</th>\n      <th>originalTitle</th>\n      <th>titleId</th>\n      <th>titleType</th>\n      <th>primaryTitle</th>\n      <th>isAdult</th>\n      <th>startYear_y</th>\n      <th>endYear</th>\n      <th>runtimeMinutes</th>\n      <th>genres</th>\n    </tr>\n  </thead>\n  <tbody>\n    <tr>\n      <th>0</th>\n      <td>1</td>\n      <td>2003.0</td>\n      <td>Dinosaur Planet</td>\n      <td>tt0389605</td>\n      <td>tvMiniSeries</td>\n      <td>Dinosaur Planet</td>\n      <td>0</td>\n      <td>2003</td>\n      <td>\\N</td>\n      <td>50</td>\n      <td>Animation,Documentary,Family</td>\n    </tr>\n    <tr>\n      <th>1</th>\n      <td>3</td>\n      <td>1997.0</td>\n      <td>Character</td>\n      <td>tt11107306</td>\n      <td>tvEpisode</td>\n      <td>Character</td>\n      <td>0</td>\n      <td>2019</td>\n      <td>\\N</td>\n      <td>30</td>\n      <td>Documentary</td>\n    </tr>\n    <tr>\n      <th>2</th>\n      <td>3</td>\n      <td>1997.0</td>\n      <td>Character</td>\n      <td>tt11422690</td>\n      <td>short</td>\n      <td>Character</td>\n      <td>0</td>\n      <td>2020</td>\n      <td>\\N</td>\n      <td>17</td>\n      <td>Short</td>\n    </tr>\n    <tr>\n      <th>3</th>\n      <td>3</td>\n      <td>1997.0</td>\n      <td>Character</td>\n      <td>tt13328316</td>\n      <td>tvEpisode</td>\n      <td>Character</td>\n      <td>0</td>\n      <td>2020</td>\n      <td>\\N</td>\n      <td>\\N</td>\n      <td>Reality-TV</td>\n    </tr>\n    <tr>\n      <th>4</th>\n      <td>3</td>\n      <td>1997.0</td>\n      <td>Character</td>\n      <td>tt14118266</td>\n      <td>movie</td>\n      <td>Character</td>\n      <td>0</td>\n      <td>2021</td>\n      <td>\\N</td>\n      <td>\\N</td>\n      <td>Crime,Horror,Thriller</td>\n    </tr>\n    <tr>\n      <th>5</th>\n      <td>3</td>\n      <td>1997.0</td>\n      <td>Character</td>\n      <td>tt2245354</td>\n      <td>tvSeries</td>\n      <td>Character</td>\n      <td>0</td>\n      <td>2012</td>\n      <td>\\N</td>\n      <td>\\N</td>\n      <td>Comedy</td>\n    </tr>\n    <tr>\n      <th>6</th>\n      <td>3</td>\n      <td>1997.0</td>\n      <td>Character</td>\n      <td>tt2989400</td>\n      <td>short</td>\n      <td>Character</td>\n      <td>0</td>\n      <td>2013</td>\n      <td>\\N</td>\n      <td>25</td>\n      <td>Comedy,Drama,Romance</td>\n    </tr>\n    <tr>\n      <th>7</th>\n      <td>3</td>\n      <td>1997.0</td>\n      <td>Character</td>\n      <td>tt3037246</td>\n      <td>short</td>\n      <td>Character</td>\n      <td>0</td>\n      <td>2013</td>\n      <td>\\N</td>\n      <td>20</td>\n      <td>Comedy,Short</td>\n    </tr>\n    <tr>\n      <th>8</th>\n      <td>3</td>\n      <td>1997.0</td>\n      <td>Character</td>\n      <td>tt3362034</td>\n      <td>short</td>\n      <td>Character</td>\n      <td>0</td>\n      <td>2002</td>\n      <td>\\N</td>\n      <td>9</td>\n      <td>Documentary,Music,Short</td>\n    </tr>\n    <tr>\n      <th>9</th>\n      <td>3</td>\n      <td>1997.0</td>\n      <td>Character</td>\n      <td>tt3816308</td>\n      <td>short</td>\n      <td>Character</td>\n      <td>0</td>\n      <td>2015</td>\n      <td>\\N</td>\n      <td>14</td>\n      <td>Drama,Fantasy,Short</td>\n    </tr>\n  </tbody>\n</table>\n</div>"
     },
     "metadata": {},
     "execution_count": 21
    }
   ],
   "source": [
    "net_data.head(10)"
   ]
  },
  {
   "cell_type": "code",
   "execution_count": 23,
   "metadata": {},
   "outputs": [
    {
     "output_type": "execute_result",
     "data": {
      "text/plain": [
       "        netflix_id  startYear_x         originalTitle     titleId  \\\n",
       "0                1       2003.0       Dinosaur Planet   tt0389605   \n",
       "1                3       1997.0             Character  tt11107306   \n",
       "18               6       1997.0                  Sick   tt0574077   \n",
       "96              10       2001.0               Fighter   tt0263338   \n",
       "135             12       1947.0  My Favorite Brunette   tt0039645   \n",
       "...            ...          ...                   ...         ...   \n",
       "143993       17764       1998.0   Shakespeare in Love   tt0138097   \n",
       "143996       17765       1969.0    Godzilla's Revenge  tt14083430   \n",
       "144000       17768       2000.0                 Epoch   tt0233657   \n",
       "144011       17769       2003.0           The Company   tt0120938   \n",
       "144029       17770       2003.0          Alien Hunter   tt0289796   \n",
       "\n",
       "           titleType          primaryTitle isAdult startYear_y endYear  \\\n",
       "0       tvMiniSeries       Dinosaur Planet       0        2003      \\N   \n",
       "1          tvEpisode             Character       0        2019      \\N   \n",
       "18         tvEpisode                  Sick       0        2004      \\N   \n",
       "96             movie               Fighter       0        2000      \\N   \n",
       "135            movie  My Favorite Brunette       0        1947      \\N   \n",
       "...              ...                   ...     ...         ...     ...   \n",
       "143993         movie   Shakespeare in Love       0        1998      \\N   \n",
       "143996     tvEpisode    Godzilla's Revenge       0        1973      \\N   \n",
       "144000       tvMovie                 Epoch       0        2001      \\N   \n",
       "144011      tvSeries           The Company       0        1989      \\N   \n",
       "144029      tvSeries          Alien Hunter       0        2001      \\N   \n",
       "\n",
       "       runtimeMinutes                        genres  \n",
       "0                  50  Animation,Documentary,Family  \n",
       "1                  30                   Documentary  \n",
       "18                 44                         Drama  \n",
       "96                 91                   Documentary  \n",
       "135                87          Comedy,Crime,Mystery  \n",
       "...               ...                           ...  \n",
       "143993            123          Comedy,Drama,History  \n",
       "143996             \\N                        Horror  \n",
       "144000             96               Sci-Fi,Thriller  \n",
       "144011             \\N                            \\N  \n",
       "144029             \\N       Action,Adventure,Comedy  \n",
       "\n",
       "[10788 rows x 11 columns]"
      ],
      "text/html": "<div>\n<style scoped>\n    .dataframe tbody tr th:only-of-type {\n        vertical-align: middle;\n    }\n\n    .dataframe tbody tr th {\n        vertical-align: top;\n    }\n\n    .dataframe thead th {\n        text-align: right;\n    }\n</style>\n<table border=\"1\" class=\"dataframe\">\n  <thead>\n    <tr style=\"text-align: right;\">\n      <th></th>\n      <th>netflix_id</th>\n      <th>startYear_x</th>\n      <th>originalTitle</th>\n      <th>titleId</th>\n      <th>titleType</th>\n      <th>primaryTitle</th>\n      <th>isAdult</th>\n      <th>startYear_y</th>\n      <th>endYear</th>\n      <th>runtimeMinutes</th>\n      <th>genres</th>\n    </tr>\n  </thead>\n  <tbody>\n    <tr>\n      <th>0</th>\n      <td>1</td>\n      <td>2003.0</td>\n      <td>Dinosaur Planet</td>\n      <td>tt0389605</td>\n      <td>tvMiniSeries</td>\n      <td>Dinosaur Planet</td>\n      <td>0</td>\n      <td>2003</td>\n      <td>\\N</td>\n      <td>50</td>\n      <td>Animation,Documentary,Family</td>\n    </tr>\n    <tr>\n      <th>1</th>\n      <td>3</td>\n      <td>1997.0</td>\n      <td>Character</td>\n      <td>tt11107306</td>\n      <td>tvEpisode</td>\n      <td>Character</td>\n      <td>0</td>\n      <td>2019</td>\n      <td>\\N</td>\n      <td>30</td>\n      <td>Documentary</td>\n    </tr>\n    <tr>\n      <th>18</th>\n      <td>6</td>\n      <td>1997.0</td>\n      <td>Sick</td>\n      <td>tt0574077</td>\n      <td>tvEpisode</td>\n      <td>Sick</td>\n      <td>0</td>\n      <td>2004</td>\n      <td>\\N</td>\n      <td>44</td>\n      <td>Drama</td>\n    </tr>\n    <tr>\n      <th>96</th>\n      <td>10</td>\n      <td>2001.0</td>\n      <td>Fighter</td>\n      <td>tt0263338</td>\n      <td>movie</td>\n      <td>Fighter</td>\n      <td>0</td>\n      <td>2000</td>\n      <td>\\N</td>\n      <td>91</td>\n      <td>Documentary</td>\n    </tr>\n    <tr>\n      <th>135</th>\n      <td>12</td>\n      <td>1947.0</td>\n      <td>My Favorite Brunette</td>\n      <td>tt0039645</td>\n      <td>movie</td>\n      <td>My Favorite Brunette</td>\n      <td>0</td>\n      <td>1947</td>\n      <td>\\N</td>\n      <td>87</td>\n      <td>Comedy,Crime,Mystery</td>\n    </tr>\n    <tr>\n      <th>...</th>\n      <td>...</td>\n      <td>...</td>\n      <td>...</td>\n      <td>...</td>\n      <td>...</td>\n      <td>...</td>\n      <td>...</td>\n      <td>...</td>\n      <td>...</td>\n      <td>...</td>\n      <td>...</td>\n    </tr>\n    <tr>\n      <th>143993</th>\n      <td>17764</td>\n      <td>1998.0</td>\n      <td>Shakespeare in Love</td>\n      <td>tt0138097</td>\n      <td>movie</td>\n      <td>Shakespeare in Love</td>\n      <td>0</td>\n      <td>1998</td>\n      <td>\\N</td>\n      <td>123</td>\n      <td>Comedy,Drama,History</td>\n    </tr>\n    <tr>\n      <th>143996</th>\n      <td>17765</td>\n      <td>1969.0</td>\n      <td>Godzilla's Revenge</td>\n      <td>tt14083430</td>\n      <td>tvEpisode</td>\n      <td>Godzilla's Revenge</td>\n      <td>0</td>\n      <td>1973</td>\n      <td>\\N</td>\n      <td>\\N</td>\n      <td>Horror</td>\n    </tr>\n    <tr>\n      <th>144000</th>\n      <td>17768</td>\n      <td>2000.0</td>\n      <td>Epoch</td>\n      <td>tt0233657</td>\n      <td>tvMovie</td>\n      <td>Epoch</td>\n      <td>0</td>\n      <td>2001</td>\n      <td>\\N</td>\n      <td>96</td>\n      <td>Sci-Fi,Thriller</td>\n    </tr>\n    <tr>\n      <th>144011</th>\n      <td>17769</td>\n      <td>2003.0</td>\n      <td>The Company</td>\n      <td>tt0120938</td>\n      <td>tvSeries</td>\n      <td>The Company</td>\n      <td>0</td>\n      <td>1989</td>\n      <td>\\N</td>\n      <td>\\N</td>\n      <td>\\N</td>\n    </tr>\n    <tr>\n      <th>144029</th>\n      <td>17770</td>\n      <td>2003.0</td>\n      <td>Alien Hunter</td>\n      <td>tt0289796</td>\n      <td>tvSeries</td>\n      <td>Alien Hunter</td>\n      <td>0</td>\n      <td>2001</td>\n      <td>\\N</td>\n      <td>\\N</td>\n      <td>Action,Adventure,Comedy</td>\n    </tr>\n  </tbody>\n</table>\n<p>10788 rows × 11 columns</p>\n</div>"
     },
     "metadata": {},
     "execution_count": 23
    }
   ],
   "source": [
    "net_data.drop_duplicates('originalTitle', inplace=True)\n",
    "net_data"
   ]
  },
  {
   "cell_type": "code",
   "execution_count": 39,
   "metadata": {},
   "outputs": [],
   "source": [
    "net_data.to_csv('data/Net_Data_ID.csv')"
   ]
  },
  {
   "cell_type": "code",
   "execution_count": null,
   "metadata": {},
   "outputs": [],
   "source": []
  },
  {
   "cell_type": "code",
   "execution_count": 5,
   "metadata": {},
   "outputs": [],
   "source": [
    "c1 = pd.read_csv('data/Netflix Combined/Net_combined_1.csv')\n",
    "c2 = pd.read_csv('data/Netflix Combined/Net_combined_2.csv')\n",
    "c3 = pd.read_csv('data/Netflix Combined/Net_combined_3.csv')\n",
    "c4 = pd.read_csv('data/Netflix Combined/Net_combined_4.csv')"
   ]
  },
  {
   "cell_type": "code",
   "execution_count": 38,
   "metadata": {},
   "outputs": [],
   "source": [
    "c = [c1, c2, c3, c4]\n",
    "df = pd.concat(c)"
   ]
  },
  {
   "cell_type": "code",
   "execution_count": 39,
   "metadata": {},
   "outputs": [],
   "source": [
    "df.to_csv('data/Netflix_Comb_Data.csv')"
   ]
  },
  {
   "cell_type": "code",
   "execution_count": 40,
   "metadata": {},
   "outputs": [
    {
     "output_type": "execute_result",
     "data": {
      "text/plain": [
       "   Unnamed: 0  netflix_id  user_id  rating        date\n",
       "0           0           1  1488844       3  2005-09-06"
      ],
      "text/html": "<div>\n<style scoped>\n    .dataframe tbody tr th:only-of-type {\n        vertical-align: middle;\n    }\n\n    .dataframe tbody tr th {\n        vertical-align: top;\n    }\n\n    .dataframe thead th {\n        text-align: right;\n    }\n</style>\n<table border=\"1\" class=\"dataframe\">\n  <thead>\n    <tr style=\"text-align: right;\">\n      <th></th>\n      <th>Unnamed: 0</th>\n      <th>netflix_id</th>\n      <th>user_id</th>\n      <th>rating</th>\n      <th>date</th>\n    </tr>\n  </thead>\n  <tbody>\n    <tr>\n      <th>0</th>\n      <td>0</td>\n      <td>1</td>\n      <td>1488844</td>\n      <td>3</td>\n      <td>2005-09-06</td>\n    </tr>\n  </tbody>\n</table>\n</div>"
     },
     "metadata": {},
     "execution_count": 40
    }
   ],
   "source": [
    "df.head(1)"
   ]
  },
  {
   "cell_type": "code",
   "execution_count": 41,
   "metadata": {},
   "outputs": [],
   "source": [
    "df.rating = df.rating.apply(lambda x: x*2)"
   ]
  },
  {
   "cell_type": "code",
   "execution_count": 42,
   "metadata": {},
   "outputs": [],
   "source": [
    "content = df.groupby('netflix_id').agg({'rating':'mean', 'user_id': 'count'})"
   ]
  },
  {
   "cell_type": "code",
   "execution_count": 50,
   "metadata": {},
   "outputs": [],
   "source": [
    "content = content.rename(columns={'rating':'netflix_rating', 'Number of votes':'number_of_votes'})"
   ]
  },
  {
   "cell_type": "code",
   "execution_count": 52,
   "metadata": {},
   "outputs": [
    {
     "output_type": "execute_result",
     "data": {
      "text/plain": [
       "            netflix_rating  number_of_votes\n",
       "netflix_id                                 \n",
       "1                 7.499086              547"
      ],
      "text/html": "<div>\n<style scoped>\n    .dataframe tbody tr th:only-of-type {\n        vertical-align: middle;\n    }\n\n    .dataframe tbody tr th {\n        vertical-align: top;\n    }\n\n    .dataframe thead th {\n        text-align: right;\n    }\n</style>\n<table border=\"1\" class=\"dataframe\">\n  <thead>\n    <tr style=\"text-align: right;\">\n      <th></th>\n      <th>netflix_rating</th>\n      <th>number_of_votes</th>\n    </tr>\n    <tr>\n      <th>netflix_id</th>\n      <th></th>\n      <th></th>\n    </tr>\n  </thead>\n  <tbody>\n    <tr>\n      <th>1</th>\n      <td>7.499086</td>\n      <td>547</td>\n    </tr>\n  </tbody>\n</table>\n</div>"
     },
     "metadata": {},
     "execution_count": 52
    }
   ],
   "source": [
    "content.head(1)"
   ]
  },
  {
   "cell_type": "code",
   "execution_count": 19,
   "metadata": {},
   "outputs": [],
   "source": [
    "net_movies = pd.read_csv('data/Netflix_raw/movie_titles.csv', names=['netflix_id', 'startYear', 'Title'])"
   ]
  },
  {
   "cell_type": "code",
   "execution_count": 53,
   "metadata": {},
   "outputs": [],
   "source": [
    "df = pd.merge(content, net_movies.loc[:, ['netflix_id', 'Title']], on='netflix_id')"
   ]
  },
  {
   "cell_type": "code",
   "execution_count": 54,
   "metadata": {},
   "outputs": [
    {
     "output_type": "execute_result",
     "data": {
      "text/plain": [
       "       netflix_id  netflix_rating  number_of_votes  \\\n",
       "0               1        7.499086              547   \n",
       "1               2        7.117241              145   \n",
       "2               3        7.282306             2012   \n",
       "3               4        5.478873              142   \n",
       "4               5        7.838596             1140   \n",
       "...           ...             ...              ...   \n",
       "17765       17766        6.386777              605   \n",
       "17766       17767        7.343137              204   \n",
       "17767       17768        5.678414             1362   \n",
       "17768       17769        4.997185             6749   \n",
       "17769       17770        5.633008              921   \n",
       "\n",
       "                                                   Title  \n",
       "0                                        Dinosaur Planet  \n",
       "1                             Isle of Man TT 2004 Review  \n",
       "2                                              Character  \n",
       "3                           Paula Abdul's Get Up & Dance  \n",
       "4                               The Rise and Fall of ECW  \n",
       "...                                                  ...  \n",
       "17765  Where the Wild Things Are and Other Maurice Se...  \n",
       "17766                  Fidel Castro: American Experience  \n",
       "17767                                              Epoch  \n",
       "17768                                        The Company  \n",
       "17769                                       Alien Hunter  \n",
       "\n",
       "[17770 rows x 4 columns]"
      ],
      "text/html": "<div>\n<style scoped>\n    .dataframe tbody tr th:only-of-type {\n        vertical-align: middle;\n    }\n\n    .dataframe tbody tr th {\n        vertical-align: top;\n    }\n\n    .dataframe thead th {\n        text-align: right;\n    }\n</style>\n<table border=\"1\" class=\"dataframe\">\n  <thead>\n    <tr style=\"text-align: right;\">\n      <th></th>\n      <th>netflix_id</th>\n      <th>netflix_rating</th>\n      <th>number_of_votes</th>\n      <th>Title</th>\n    </tr>\n  </thead>\n  <tbody>\n    <tr>\n      <th>0</th>\n      <td>1</td>\n      <td>7.499086</td>\n      <td>547</td>\n      <td>Dinosaur Planet</td>\n    </tr>\n    <tr>\n      <th>1</th>\n      <td>2</td>\n      <td>7.117241</td>\n      <td>145</td>\n      <td>Isle of Man TT 2004 Review</td>\n    </tr>\n    <tr>\n      <th>2</th>\n      <td>3</td>\n      <td>7.282306</td>\n      <td>2012</td>\n      <td>Character</td>\n    </tr>\n    <tr>\n      <th>3</th>\n      <td>4</td>\n      <td>5.478873</td>\n      <td>142</td>\n      <td>Paula Abdul's Get Up &amp; Dance</td>\n    </tr>\n    <tr>\n      <th>4</th>\n      <td>5</td>\n      <td>7.838596</td>\n      <td>1140</td>\n      <td>The Rise and Fall of ECW</td>\n    </tr>\n    <tr>\n      <th>...</th>\n      <td>...</td>\n      <td>...</td>\n      <td>...</td>\n      <td>...</td>\n    </tr>\n    <tr>\n      <th>17765</th>\n      <td>17766</td>\n      <td>6.386777</td>\n      <td>605</td>\n      <td>Where the Wild Things Are and Other Maurice Se...</td>\n    </tr>\n    <tr>\n      <th>17766</th>\n      <td>17767</td>\n      <td>7.343137</td>\n      <td>204</td>\n      <td>Fidel Castro: American Experience</td>\n    </tr>\n    <tr>\n      <th>17767</th>\n      <td>17768</td>\n      <td>5.678414</td>\n      <td>1362</td>\n      <td>Epoch</td>\n    </tr>\n    <tr>\n      <th>17768</th>\n      <td>17769</td>\n      <td>4.997185</td>\n      <td>6749</td>\n      <td>The Company</td>\n    </tr>\n    <tr>\n      <th>17769</th>\n      <td>17770</td>\n      <td>5.633008</td>\n      <td>921</td>\n      <td>Alien Hunter</td>\n    </tr>\n  </tbody>\n</table>\n<p>17770 rows × 4 columns</p>\n</div>"
     },
     "metadata": {},
     "execution_count": 54
    }
   ],
   "source": [
    "df"
   ]
  },
  {
   "cell_type": "code",
   "execution_count": 55,
   "metadata": {},
   "outputs": [],
   "source": [
    "df.to_csv('data/Net_title_ratings.csv')"
   ]
  }
 ]
}