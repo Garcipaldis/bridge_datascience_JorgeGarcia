{
 "cells": [
  {
   "cell_type": "markdown",
   "metadata": {},
   "source": [
    "# Regular Expressions (RegEx)"
   ]
  },
  {
   "cell_type": "markdown",
   "metadata": {},
   "source": [
    "A regular expression, regex or regexp is a sequence of characters that define a search pattern."
   ]
  },
  {
   "cell_type": "markdown",
   "metadata": {},
   "source": [
    "![regex](https://miro.medium.com/max/1200/1*ZVlIZ1ZYC6rASz-dYPzhZQ.jpeg)"
   ]
  },
  {
   "cell_type": "markdown",
   "metadata": {},
   "source": [
    "**references**\n",
    "\n",
    "- https://docs.python.org/3/howto/regex.html\n",
    "- https://www.datacamp.com/community/tutorials/python-regular-expression-tutorial\n",
    "- https://www.dataquest.io/blog/regular-expressions-data-scientists/\n",
    "- https://www.kaggle.com/rtatman/fraudulent-email-corpus\n",
    "\n",
    "**may save your life**\n",
    "\n",
    "- https://regex101.com/"
   ]
  },
  {
   "cell_type": "markdown",
   "metadata": {},
   "source": [
    "### First things first"
   ]
  },
  {
   "cell_type": "markdown",
   "metadata": {},
   "source": [
    "For the standard case **import re** should be enough. For the later case **pip3 install regex** should install it."
   ]
  },
  {
   "cell_type": "code",
   "execution_count": 1,
   "metadata": {},
   "outputs": [],
   "source": [
    "import re\n",
    "import numpy as np\n",
    "import pandas as pd"
   ]
  },
  {
   "cell_type": "markdown",
   "metadata": {},
   "source": [
    "## Sintax\n",
    "### Special Characters:\n",
    "- `.` Matches any character except a newline.\n",
    "- `^` Matches the start of the string.\n",
    "- `$` Matches the end of the string or just before the newline at the end of the string.\n",
    "- `*` Matches 0 or more repetitions of the preceding RE.\n",
    "- `+` Matches 1 or more repetitions of the preceding RE.\n",
    "- `?` Matches 0 or 1 repetitions of the preceding RE.\n",
    "- NOTA: re.M -> modo multilinea\n",
    "\n",
    "https://docs.python.org/3/library/re.html#re-syntax\n",
    "\n"
   ]
  },
  {
   "cell_type": "markdown",
   "metadata": {},
   "source": [
    "### Special Sequences:\n",
    "\n",
    "- **Literals** `a` \n",
    "- **Alternation** `a|b`\n",
    "- **Character sets** `[ab]`, `[^ab]`\n",
    "- **Wildcards** `.`\n",
    "- **Escape special characters** `\\` (?,*,+,^,&)\n",
    "- **Ranges** `[a-d]`, `[1-9]`\n",
    "\n",
    "- **Quantifiers** `{2}`, `{2,}`, `{2,4}`, `?`, `*`, `+`\n",
    "- **Grouping** `()`\n",
    "- **Anchors** `^`, `$`\n",
    "- **Character classes** `\\w`, `\\d`, `\\s`, `\\n`, `\\W`, `\\D`, `\\S`\n",
    "\n",
    "**\\w** - Matches any alphanumeric character (digits and alphabets). Equivalent to `[a-zA-Z0-9_]`. By the way, underscore _ is also considered an alphanumeric character. \n",
    "\n",
    "**\\d** - Matches any digit. Equivalent to `[0-9]` \n",
    "\n",
    "**\\s** - Matches where a string contains any whitespace character. Equivalent to `[ \\t\\n\\r\\f\\v]`\n",
    "\n",
    "**\\W** - Matches any non-alphanumeric character. Equivalent to `[^a-zA-Z0-9_]`\n",
    "\n",
    "**\\D** - Matches any non digit. Equivalent to `[^0-9]` \n",
    "\n",
    "**\\S** - Matches where a string contains any non-whitespace character. Equivalent to `[^ \\t\\n\\r\\f\\v]`\n",
    "\n"
   ]
  },
  {
   "cell_type": "markdown",
   "metadata": {},
   "source": [
    "### Methods"
   ]
  },
  {
   "cell_type": "markdown",
   "metadata": {},
   "source": [
    "### re.sub(pattern, repl, string, count=0)\n",
    "Replaces one or many matches with a string"
   ]
  },
  {
   "cell_type": "code",
   "execution_count": 2,
   "metadata": {},
   "outputs": [],
   "source": [
    "txt = \"gabriel, Mónica, Borja and Clara are TA's??\""
   ]
  },
  {
   "cell_type": "code",
   "execution_count": 3,
   "metadata": {},
   "outputs": [
    {
     "output_type": "execute_result",
     "data": {
      "text/plain": [
       "\"Gabriel, Mónica, Borja and Clara are TA's??\""
      ]
     },
     "metadata": {},
     "execution_count": 3
    }
   ],
   "source": [
    "#re.sub\n",
    "#Literals\n",
    "re.sub('g','G',txt)"
   ]
  },
  {
   "cell_type": "code",
   "execution_count": 4,
   "metadata": {},
   "outputs": [
    {
     "output_type": "execute_result",
     "data": {
      "text/plain": [
       "\"gabriel, ónica, orja and lara are 's??\""
      ]
     },
     "metadata": {},
     "execution_count": 4
    }
   ],
   "source": [
    "#Ranges\n",
    "re.sub('[A-Z]','',txt)"
   ]
  },
  {
   "cell_type": "code",
   "execution_count": 5,
   "metadata": {},
   "outputs": [
    {
     "output_type": "execute_result",
     "data": {
      "text/plain": [
       "\"gabriel, Mónica, Borja and Clara are TA's.\""
      ]
     },
     "metadata": {},
     "execution_count": 5
    }
   ],
   "source": [
    "#Escape special character, quantifiers\n",
    "re.sub('\\?{2}','.',txt)"
   ]
  },
  {
   "cell_type": "markdown",
   "metadata": {},
   "source": [
    "### re.search(pattern, string, flags=0)\n",
    "Scan through a string, looking for any location where this RE matches. If the search is succesful, `re.search()` returns a match object. Otherwise, it returns `None`."
   ]
  },
  {
   "cell_type": "code",
   "execution_count": 6,
   "metadata": {},
   "outputs": [
    {
     "output_type": "execute_result",
     "data": {
      "text/plain": [
       "<re.Match object; span=(0, 17), match='The rain in Spain'>"
      ]
     },
     "metadata": {},
     "execution_count": 6
    }
   ],
   "source": [
    "#re.search\n",
    "txt = \"The rain in Spain\"\n",
    "x = re.search(\"^The.*Spain$\", txt) \n",
    "x"
   ]
  },
  {
   "cell_type": "code",
   "execution_count": 7,
   "metadata": {},
   "outputs": [
    {
     "output_type": "stream",
     "name": "stdout",
     "text": [
      "None\n"
     ]
    }
   ],
   "source": [
    "y = re.search(\"^Hola.*\", txt) \n",
    "print(y)"
   ]
  },
  {
   "cell_type": "code",
   "execution_count": 8,
   "metadata": {},
   "outputs": [
    {
     "name": "stdout",
     "output_type": "stream",
     "text": [
      "<re.Match object; span=(12, 17), match='Spain'>\n",
      "(12, 17)\n",
      "12\n",
      "17\n",
      "The rain in Spain\n",
      "Spain\n"
     ]
    }
   ],
   "source": [
    "txt = \"The rain in Spain\"\n",
    "#\\b whole words only\n",
    "x = re.search(r\"\\bS\\w+\", txt)\n",
    "print(x)\n",
    "print(x.span())\n",
    "#returns a tuple containing the start-, and end positions of the match\n",
    "print(x.start())\n",
    "#contains the start position of the match\n",
    "print(x.end())\n",
    "#contains the end position of the match\n",
    "print(x.string)\n",
    "#print the string passed into the function (variable 'txt')\n",
    "print(x.group())\n",
    "#Print the part of the string where there was a match"
   ]
  },
  {
   "cell_type": "code",
   "execution_count": 8,
   "metadata": {},
   "outputs": [
    {
     "output_type": "stream",
     "name": "stdout",
     "text": [
      "<re.Match object; span=(4, 8), match='rain'>\nNone\n<re.Match object; span=(0, 3), match='The'>\nNone\n"
     ]
    }
   ],
   "source": [
    "print(re.search(r'r\\w*', txt))\n",
    "print(re.search(r'R\\w*', txt))\n",
    "print(re.search(r'^T\\w*', txt))\n",
    "print(re.search(r'^t\\w*', txt))"
   ]
  },
  {
   "cell_type": "markdown",
   "metadata": {},
   "source": [
    "### re.match(pattern, string)\n",
    "Determine if the RE matches at the **beginning** of the string."
   ]
  },
  {
   "cell_type": "code",
   "execution_count": 10,
   "metadata": {},
   "outputs": [
    {
     "output_type": "stream",
     "name": "stdout",
     "text": [
      "Match!\n"
     ]
    }
   ],
   "source": [
    "#re.match\n",
    "pattern = r\"Cookie\"\n",
    "sequence = \"I want a Cookie\"\n",
    "sequence2= \"Cookie, I want you!\"\n",
    "if re.match(pattern, sequence2):\n",
    "    print(\"Match!\")\n",
    "else: \n",
    "    print(\"Not a match!\")"
   ]
  },
  {
   "cell_type": "code",
   "execution_count": 11,
   "metadata": {},
   "outputs": [
    {
     "output_type": "stream",
     "name": "stdout",
     "text": [
      "None\nNone\n<re.Match object; span=(0, 3), match='The'>\n<re.Match object; span=(0, 3), match='The'>\n"
     ]
    }
   ],
   "source": [
    "txt = \"The rain in Madrid\"\n",
    "#matches at the beginning of the string\n",
    "print(re.match(r'r\\w*', txt))\n",
    "print(re.match(r'^r\\w*', txt))\n",
    "print(re.match(r'^T\\w*', txt))\n",
    "print(re.match(r'T\\w*', txt))"
   ]
  },
  {
   "cell_type": "code",
   "execution_count": 13,
   "metadata": {},
   "outputs": [
    {
     "output_type": "stream",
     "name": "stdout",
     "text": [
      "support@thebridge.com\nsupport\nthebridge.com\n"
     ]
    }
   ],
   "source": [
    "email_address = 'Please contact us at: support@thebridge.com'\n",
    "match = re.search(r'(\\w+)@([\\w\\.]+)', email_address)\n",
    "if match:\n",
    "    print(match.group()) # The whole matched text\n",
    "    print(match.group(1)) # The username (group 1)\n",
    "    print(match.group(2)) # The host (group 2)"
   ]
  },
  {
   "cell_type": "markdown",
   "metadata": {},
   "source": [
    "### re.fullmatch(pattern, string)"
   ]
  },
  {
   "cell_type": "code",
   "execution_count": 14,
   "metadata": {},
   "outputs": [
    {
     "output_type": "stream",
     "name": "stdout",
     "text": [
      "Karina is not desired name\nMarina is not desired name\nIsabel is desired name\nGina is not desired name\nXinru is not desired name\nSonia is not desired name\nMarycruz is not desired name\n"
     ]
    }
   ],
   "source": [
    "class_names = [\"Karina\", \"Marina\", \"Isabel\", \"Gina\", \"Xinru\", \"Sonia\", \"Marycruz\"]\n",
    "for name in class_names:\n",
    "    if re.fullmatch(\"Isabel\", name):\n",
    "        print(f\"{name} is desired name\")\n",
    "    else:\n",
    "        print(f\"{name} is not desired name\")"
   ]
  },
  {
   "cell_type": "markdown",
   "metadata": {},
   "source": [
    "### re.findall (pattern, string)\n",
    "Find all substrings where the RE matches, and returns them as a list."
   ]
  },
  {
   "cell_type": "code",
   "execution_count": 15,
   "metadata": {},
   "outputs": [
    {
     "output_type": "execute_result",
     "data": {
      "text/plain": [
       "[('support.data@data-science.com', 'support.data', '@data-science.com'),\n",
       " ('xyz@thebridge.com', 'xyz', '@thebridge.com')]"
      ]
     },
     "metadata": {},
     "execution_count": 15
    }
   ],
   "source": [
    "#re.findall\n",
    "email_address = \"Please contact us at: support.data@data-science.com, xyz@thebridge.com\"\n",
    "\n",
    "#'addresses' is a list that stores all the possible match\n",
    "addresses = re.findall(r'(([\\w\\.]+)(@[\\w\\.-]+))', email_address)\n",
    "addresses"
   ]
  },
  {
   "cell_type": "code",
   "execution_count": 15,
   "metadata": {},
   "outputs": [
    {
     "name": "stdout",
     "output_type": "stream",
     "text": [
      "['P', 'l', 's', 'c', 'n', 't', 'c', 't', 's', 't', ':', 's', 'p', 'p', 'r', 't', '.', 'd', 't', '@', 'd', 't', '-', 's', 'c', 'n', 'c', '.', 'c', 'm', ',', 'x', 'y', 'z', '@', 't', 'h', 'b', 'r', 'd', 'g', '.', 'c', 'm']\n"
     ]
    }
   ],
   "source": [
    "print(re.findall('[^aeiou\\s]',email_address))"
   ]
  },
  {
   "cell_type": "markdown",
   "metadata": {},
   "source": [
    "**¿Qué me van a devolver las siguientes dos líneas de código?**\n",
    "\n"
   ]
  },
  {
   "cell_type": "code",
   "execution_count": 16,
   "metadata": {},
   "outputs": [
    {
     "output_type": "stream",
     "name": "stdout",
     "text": [
      "['contact']\n"
     ]
    }
   ],
   "source": [
    "print(re.findall('\\s(c\\w*)', email_address))\n",
    "#print(re.findall('^P\\w*', email_address))"
   ]
  },
  {
   "cell_type": "markdown",
   "metadata": {},
   "source": [
    "------------------------------------------------------------------------------"
   ]
  },
  {
   "cell_type": "code",
   "execution_count": 17,
   "metadata": {},
   "outputs": [],
   "source": [
    "with open('info.txt', 'r') as file:\n",
    "    client_info = file.read()"
   ]
  },
  {
   "cell_type": "code",
   "execution_count": 18,
   "metadata": {},
   "outputs": [
    {
     "output_type": "stream",
     "name": "stdout",
     "text": [
      "['sit.amet.metus@egestasnunc.ca', 'arcu.Aliquam.ultrices@vestibulumneceuismod.co.uk', 'Nulla.eu.neque@Fuscealiquetmagna.com', 'Nullam.velit@non.ca', 'In@gravidamolestiearcu.co.uk']\n"
     ]
    }
   ],
   "source": [
    "emails_clients=re.findall(r\"[\\w.]+@+[\\w.]+\", client_info)\n",
    "print(emails_clients[:5])"
   ]
  },
  {
   "cell_type": "code",
   "execution_count": 19,
   "metadata": {},
   "outputs": [],
   "source": [
    "client_numbers = re.findall(r\"[0-9]{2}-\\d{3}-\\d{3}-\\d{3}\", client_info)"
   ]
  },
  {
   "cell_type": "code",
   "execution_count": 20,
   "metadata": {},
   "outputs": [
    {
     "output_type": "stream",
     "name": "stdout",
     "text": [
      "['34-739-941-941', '34-278-870-242', '34-999-876-292', '34-345-887-949', '34-905-089-682', '34-773-463-479', '34-017-915-525', '34-274-204-840', '34-575-459-881', '34-249-358-256', '34-299-478-659', '34-094-099-748', '34-236-498-114', '34-541-455-803', '34-274-768-546', '34-850-484-655', '34-193-830-599', '34-768-704-320', '34-960-058-312', '34-835-461-291', '34-524-499-405', '34-553-655-405', '34-193-752-726', '34-165-726-657', '34-172-146-895', '34-309-707-078', '34-289-368-945', '34-432-424-781', '34-880-153-396', '34-876-903-767', '34-508-574-378', '34-219-498-365', '34-413-279-781', '34-789-736-506', '34-701-997-370', '34-912-146-256', '34-550-871-297', '34-818-230-259', '34-707-183-700', '34-006-975-807', '34-975-336-347', '34-208-023-425', '34-810-185-675', '34-318-817-026', '34-229-857-982', '34-415-168-417', '34-595-803-021', '34-620-827-404', '34-711-768-527', '34-159-329-878', '34-619-616-824', '34-865-861-872', '34-294-644-638', '34-439-853-222', '34-215-852-041', '34-425-519-500', '34-152-386-570', '34-114-918-271', '34-578-430-713', '34-198-215-014', '34-081-000-664', '34-215-712-522', '34-247-057-497', '34-091-856-589', '34-972-416-447', '34-371-921-059', '34-103-486-092', '34-093-803-387', '34-887-264-237', '34-396-708-852', '34-935-106-187', '34-719-648-197', '34-287-491-518', '34-190-000-222', '34-632-106-215', '34-236-373-612', '34-103-834-289', '34-247-496-116', '34-685-891-953', '34-382-619-851', '34-988-032-549', '34-827-702-441', '34-962-483-735', '34-045-897-696', '34-536-831-838', '34-008-550-220', '34-502-109-187', '34-259-454-764', '34-648-926-885', '34-131-055-768', '34-824-680-101', '34-390-299-105', '34-022-795-481', '34-033-595-405', '34-058-465-887', '34-857-529-653', '34-621-918-403', '34-715-306-812', '34-680-520-067', '34-870-684-275']\n"
     ]
    }
   ],
   "source": [
    "print(client_numbers)"
   ]
  },
  {
   "cell_type": "markdown",
   "metadata": {},
   "source": [
    "### re.split(pattern, string, maxsplit=0)\n",
    "Returns a list where the string has been split at each match"
   ]
  },
  {
   "cell_type": "code",
   "execution_count": 21,
   "metadata": {},
   "outputs": [],
   "source": [
    "#re.split\n",
    "sente = \"Hello,\\n Please, contact me the sooner.\\n Thank you,\\n Me\""
   ]
  },
  {
   "cell_type": "code",
   "execution_count": 22,
   "metadata": {},
   "outputs": [
    {
     "output_type": "execute_result",
     "data": {
      "text/plain": [
       "['Hello,', 'Please, contact me the sooner.', 'Thank you,', 'Me']"
      ]
     },
     "metadata": {},
     "execution_count": 22
    }
   ],
   "source": [
    "reg = re.split(\"\\n \", sente)\n",
    "reg"
   ]
  },
  {
   "cell_type": "code",
   "execution_count": 23,
   "metadata": {},
   "outputs": [
    {
     "output_type": "execute_result",
     "data": {
      "text/plain": [
       "'Hello, Please, contact me the sooner. Thank you, Me'"
      ]
     },
     "metadata": {},
     "execution_count": 23
    }
   ],
   "source": [
    "\" \".join(reg)"
   ]
  },
  {
   "cell_type": "markdown",
   "metadata": {},
   "source": [
    "### re.compile(pattern\n",
    "Compiles a RE into a regular expression object."
   ]
  },
  {
   "cell_type": "code",
   "execution_count": 24,
   "metadata": {},
   "outputs": [],
   "source": [
    "name_check = re.compile(r\"[^A-Za-z ]\")"
   ]
  },
  {
   "cell_type": "code",
   "execution_count": 25,
   "metadata": {},
   "outputs": [
    {
     "output_type": "stream",
     "name": "stdout",
     "text": [
      "Finally mate, I thought you'd never do it\n"
     ]
    }
   ],
   "source": [
    "name = input(\"Please insert your name:\")\n",
    "while name_check.search(name):\n",
    "    # it loops while if finds a match\n",
    "    print(\"Please enter your name correctly!\")\n",
    "    name = input(\"Please insert your name:\")\n",
    "print(\"Finally mate, I thought you'd never do it\")"
   ]
  },
  {
   "cell_type": "markdown",
   "metadata": {},
   "source": [
    "-----------------------------------------------------------------------------------------------------------\n"
   ]
  },
  {
   "cell_type": "markdown",
   "metadata": {},
   "source": [
    "## Some practice \n",
    "Now is your turn."
   ]
  },
  {
   "cell_type": "markdown",
   "metadata": {},
   "source": [
    "#### Simple validation of a username\n",
    "https://www.codewars.com/kata/56a3f08aa9a6cc9b75000023\n",
    "    \n",
    "Write a simple regex to validate a username. Allowed characters are:\n",
    "\n",
    "- lowercase letters,\n",
    "- numbers,\n",
    "- underscore\n",
    "\n",
    "Length should be between 4 and 16 characters (both included).\n"
   ]
  },
  {
   "cell_type": "code",
   "execution_count": null,
   "metadata": {},
   "outputs": [],
   "source": [
    "# your solution"
   ]
  },
  {
   "cell_type": "code",
   "execution_count": 64,
   "metadata": {},
   "outputs": [],
   "source": [
    "import re\n",
    "\n",
    "def validate_usr(username):\n",
    "    #your code here\n",
    "    res = re.compile(r\"[^a-z\\d+_+]\")\n",
    "    while res.search(username) or (len(username)< 4 or len(username)>16):\n",
    "        return False\n",
    "    else:\n",
    "        return True"
   ]
  },
  {
   "cell_type": "code",
   "execution_count": 65,
   "metadata": {},
   "outputs": [
    {
     "output_type": "execute_result",
     "data": {
      "text/plain": [
       "True"
      ]
     },
     "metadata": {},
     "execution_count": 65
    }
   ],
   "source": [
    "usr = 'garcipaldis_93'\n",
    "validate_usr(usr)"
   ]
  },
  {
   "cell_type": "markdown",
   "metadata": {},
   "source": [
    "#### Regex validate PIN code \n",
    "\n",
    "https://www.codewars.com/kata/55f8a9c06c018a0d6e000132\n",
    "\n",
    "ATM machines allow 4 or 6 digit PIN codes and PIN codes cannot contain anything but exactly 4 digits or exactly 6 digits.\n",
    "\n",
    "If the function is passed a valid PIN string, return true, else return false.\n",
    "\n",
    "Examples:\n",
    "```python\n",
    "\"1234\"   -->  True\n",
    "\"12345\"  -->  False\n",
    "\"a234\"   -->  False\n",
    "```"
   ]
  },
  {
   "cell_type": "code",
   "execution_count": null,
   "metadata": {},
   "outputs": [],
   "source": [
    "# your solution\n"
   ]
  },
  {
   "cell_type": "code",
   "execution_count": 66,
   "metadata": {},
   "outputs": [],
   "source": [
    "import re\n",
    "\n",
    "def validate_pin(pin):\n",
    "    #return true or false\n",
    "    regex = re.compile(r'^\\d{4}$|^\\d{6}$')\n",
    "    if regex.fullmatch(str(pin)):\n",
    "        return True\n",
    "    else:\n",
    "        return False\n"
   ]
  },
  {
   "cell_type": "markdown",
   "metadata": {},
   "source": [
    "-----------------------------------------------------------------------------------------------------------"
   ]
  },
  {
   "cell_type": "code",
   "execution_count": 67,
   "metadata": {},
   "outputs": [
    {
     "output_type": "stream",
     "name": "stdout",
     "text": [
      "True\n"
     ]
    }
   ],
   "source": [
    "print(validate_pin(1234))"
   ]
  },
  {
   "cell_type": "markdown",
   "metadata": {},
   "source": [
    "# The FBI challenge"
   ]
  },
  {
   "cell_type": "markdown",
   "metadata": {},
   "source": [
    "- https://www.fbi.gov/scams-and-safety/common-fraud-schemes/nigerian-letter-or-419-fraud\n",
    "- https://www.kaggle.com/rtatman/fraudulent-email-corpus"
   ]
  },
  {
   "cell_type": "markdown",
   "metadata": {},
   "source": [
    "It's your first day at the FBI office and your boss has just send you an `txt` file: `emails.txt`, she asked you to make some analysis but first of all, you need to get a dataframe like the following. You'll need some python knowledge and some regex for that goal. "
   ]
  },
  {
   "cell_type": "markdown",
   "metadata": {},
   "source": [
    "---------------------------------------------------------------------------------------------------------------------------"
   ]
  },
  {
   "cell_type": "markdown",
   "metadata": {},
   "source": [
    "#### Since we are good people, here you have a proposed solution"
   ]
  },
  {
   "cell_type": "code",
   "execution_count": null,
   "metadata": {},
   "outputs": [],
   "source": [
    "emails_info={}"
   ]
  },
  {
   "cell_type": "code",
   "execution_count": null,
   "metadata": {},
   "outputs": [],
   "source": [
    "fh = open(\"emails.txt\", \"r\").read()"
   ]
  },
  {
   "cell_type": "code",
   "execution_count": null,
   "metadata": {},
   "outputs": [],
   "source": [
    "fh.count(\"From r\")"
   ]
  },
  {
   "cell_type": "code",
   "execution_count": null,
   "metadata": {},
   "outputs": [],
   "source": [
    "contents = re.split(r\"From r\", fh)"
   ]
  },
  {
   "cell_type": "code",
   "execution_count": null,
   "metadata": {
    "scrolled": true
   },
   "outputs": [],
   "source": [
    "contents[0]"
   ]
  },
  {
   "cell_type": "code",
   "execution_count": null,
   "metadata": {},
   "outputs": [],
   "source": [
    "contents.pop(0)"
   ]
  },
  {
   "cell_type": "markdown",
   "metadata": {},
   "source": [
    "- sender_email\n",
    "- sender_name\n",
    "- date_sent\n",
    "- time_sent\n",
    "- subject"
   ]
  },
  {
   "cell_type": "markdown",
   "metadata": {},
   "source": [
    "### Info Sender"
   ]
  },
  {
   "cell_type": "code",
   "execution_count": null,
   "metadata": {},
   "outputs": [],
   "source": [
    "info_sender=[]\n",
    "for i,e in enumerate(contents):\n",
    "    try:\n",
    "        info_sender.append(re.search(\"From:.*\", e).group())\n",
    "    except: \n",
    "        info_sender.append(\"not found\")"
   ]
  },
  {
   "cell_type": "code",
   "execution_count": null,
   "metadata": {},
   "outputs": [],
   "source": [
    "len(info_sender)"
   ]
  },
  {
   "cell_type": "code",
   "execution_count": null,
   "metadata": {},
   "outputs": [],
   "source": [
    "#sender_email\n",
    "emails_info['sender_email']=[]\n",
    "for line in info_sender:\n",
    "    res=re.findall(r'[\\w\\.]+@[\\w\\.-]+', line)\n",
    "    if res:\n",
    "        emails_info['sender_email'].append(res[0])\n",
    "    else:\n",
    "        emails_info['sender_email'].append(np.nan)\n",
    "        \n",
    "len(emails_info['sender_email'])"
   ]
  },
  {
   "cell_type": "code",
   "execution_count": null,
   "metadata": {},
   "outputs": [],
   "source": [
    "#sender name\n",
    "emails_info['sender_name']=[]\n",
    "for line in info_sender:\n",
    "    res=re.findall(r':.*<', line)\n",
    "    if res:\n",
    "        emails_info['sender_name'].append(res[0][1:-1])\n",
    "    else:\n",
    "        emails_info['sender_name'].append(np.nan)\n",
    "len(emails_info['sender_name'])"
   ]
  },
  {
   "cell_type": "markdown",
   "metadata": {},
   "source": [
    "### Info Dates"
   ]
  },
  {
   "cell_type": "code",
   "execution_count": null,
   "metadata": {},
   "outputs": [],
   "source": [
    "#DATES\n",
    "dates=[]\n",
    "for i,e in enumerate(contents):\n",
    "    try:\n",
    "        dates.append(re.search(\"Date:.*\", e).group())\n",
    "    except: \n",
    "        dates.append(\"not found\")\n",
    "len(dates)"
   ]
  },
  {
   "cell_type": "code",
   "execution_count": null,
   "metadata": {},
   "outputs": [],
   "source": [
    "#email date\n",
    "emails_info['date_sent']=[]\n",
    "for dat in dates:\n",
    "    res=re.findall(r\"\\d+\\s\\w{3}\\s\\d+\", dat)\n",
    "    if res:\n",
    "        emails_info['date_sent'].append(res[0])\n",
    "    else:\n",
    "        emails_info['date_sent'].append(np.nan)\n",
    "\n",
    "len(emails_info['date_sent'])"
   ]
  },
  {
   "cell_type": "code",
   "execution_count": null,
   "metadata": {},
   "outputs": [],
   "source": [
    "emails_info['time_sent']=[]\n",
    "for dat in dates:\n",
    "    res=re.findall(r\"\\d{2}:\\d{2}:\\d{2}\", dat)\n",
    "    if res:\n",
    "        emails_info['time_sent'].append(res[0])\n",
    "    else:\n",
    "        emails_info['time_sent'].append(np.nan)\n",
    "\n",
    "len(emails_info['time_sent'])"
   ]
  },
  {
   "cell_type": "markdown",
   "metadata": {},
   "source": [
    "### Subject"
   ]
  },
  {
   "cell_type": "code",
   "execution_count": null,
   "metadata": {},
   "outputs": [],
   "source": [
    "subject=[]\n",
    "for i,e in enumerate(contents):\n",
    "    try:\n",
    "        subject.append(re.search(\"Subject:.*\", e).group())\n",
    "    except: \n",
    "        subject.append(\"not found\")\n",
    "len(subject)"
   ]
  },
  {
   "cell_type": "code",
   "execution_count": null,
   "metadata": {},
   "outputs": [],
   "source": [
    "emails_info['subject']=[]\n",
    "for sub in subject:\n",
    "    res=re.findall(r\":.*\", sub)\n",
    "    if res:\n",
    "        emails_info['subject'].append(res[0][2:])\n",
    "    else:\n",
    "        emails_info['subject'].append(np.nan)\n",
    "\n",
    "len(emails_info['subject'])"
   ]
  },
  {
   "cell_type": "markdown",
   "metadata": {},
   "source": [
    "### Creating DataFrame"
   ]
  },
  {
   "cell_type": "code",
   "execution_count": null,
   "metadata": {},
   "outputs": [],
   "source": [
    "df=pd.DataFrame(emails_info)\n",
    "df.isnull().sum()"
   ]
  },
  {
   "cell_type": "code",
   "execution_count": null,
   "metadata": {},
   "outputs": [],
   "source": [
    "df.head()"
   ]
  },
  {
   "cell_type": "markdown",
   "metadata": {},
   "source": [
    "### ¡Now you can start your analysis!"
   ]
  }
 ],
 "metadata": {
  "kernelspec": {
   "name": "python374jvsc74a57bd0674dfd6ded4398e0679ff4f65e9a10a54ff0d14801bec0126172cfc3973d1cf1",
   "display_name": "Python 3.7.4 64-bit"
  },
  "language_info": {
   "codemirror_mode": {
    "name": "ipython",
    "version": 3
   },
   "file_extension": ".py",
   "mimetype": "text/x-python",
   "name": "python",
   "nbconvert_exporter": "python",
   "pygments_lexer": "ipython3",
   "version": "3.7.4"
  },
  "metadata": {
   "interpreter": {
    "hash": "674dfd6ded4398e0679ff4f65e9a10a54ff0d14801bec0126172cfc3973d1cf1"
   }
  }
 },
 "nbformat": 4,
 "nbformat_minor": 2
}