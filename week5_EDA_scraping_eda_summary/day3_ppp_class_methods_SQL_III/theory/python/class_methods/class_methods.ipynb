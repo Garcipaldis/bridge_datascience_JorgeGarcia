{
 "cells": [
  {
   "cell_type": "code",
   "execution_count": null,
   "metadata": {},
   "outputs": [],
   "source": [
    "from datetime import date \n",
    "  \n",
    "class Person: \n",
    "    def __init__(self, name, age, is_alive): \n",
    "        self.__name = name \n",
    "        self.__age = age \n",
    "    \n",
    "    # @ --> decorador de la función\n",
    "    @classmethod\n",
    "    def from_birth_year(cls, name, birthyear): \n",
    "        return cls(name=name, age=(date.today().year - birthyear)) \n",
    "      \n",
    "    @classmethod\n",
    "    def create_pepito(cls): \n",
    "        return cls(name=\"Pepito\", age=34, is_alive=True) \n",
    "\n",
    "    @classmethod\n",
    "    def create_alive_person(cls, name, age): \n",
    "        return cls(name=name, age=age, is_alive=True) \n",
    "\n",
    "    # @ --> decorador de la función\n",
    "    @staticmethod\n",
    "    def is_adult(age):\n",
    "        return age > 18\n",
    "  \n",
    "    @property\n",
    "    def name(self):\n",
    "        return self.__name\n",
    "\n",
    "    def funcion_normal(self):\n",
    "        return 2\n",
    "\n",
    "    @name.setter\n",
    "    def name(self, x):\n",
    "        if x == \"\" or x == None:\n",
    "            print(\"Por favor, escriba un nombre\")\n",
    "        else:\n",
    "            self.__name = x\n",
    "    \n",
    "    @property\n",
    "    def age(self):\n",
    "        return self.__age\n",
    "\n",
    "    @age.setter\n",
    "    def age(self, age):\n",
    "        self.__age = age\n",
    "\n",
    "    @property\n",
    "    def x(self):\n",
    "        return self.__x\n",
    "\n",
    "    def name_and_age(self):\n",
    "        print(self.age, self.name) \n",
    "\n",
    "    def __private_function(self):\n",
    "        print(\"I am private\")\n",
    "\n",
    "    def _protected_function(self):\n",
    "        print(\"I am protected\")\n",
    "        self.__private_function()\n",
    "\n",
    "    def public_function(self):\n",
    "        print(\"I am public and I will call my sisters private and protected functions\")\n",
    "        print(\"Calling protected...\")\n",
    "        self._protected_function()\n",
    "        print(\"Calling private...\")\n",
    "        self.__private_function()\n",
    "        print(\"They are safe!\")\n"
   ]
  },
  {
   "cell_type": "code",
   "execution_count": null,
   "metadata": {},
   "outputs": [],
   "source": [
    "p = Person(name=\"Gregorio\", age=92)\n",
    "p.name_and_age()\n",
    "p.is_adult(age=43)"
   ]
  },
  {
   "cell_type": "code",
   "execution_count": null,
   "metadata": {},
   "outputs": [],
   "source": [
    "pepito = Person.create_pepito()\n",
    "print(pepito.age)\n",
    "print(pepito.is_adult(86))\n",
    "pepito.name"
   ]
  },
  {
   "cell_type": "code",
   "execution_count": null,
   "metadata": {},
   "outputs": [],
   "source": [
    "pepito.x"
   ]
  },
  {
   "cell_type": "code",
   "execution_count": null,
   "metadata": {},
   "outputs": [],
   "source": [
    "pepito.name = \"Zidane\"\n",
    "pepito.name"
   ]
  },
  {
   "cell_type": "code",
   "execution_count": null,
   "metadata": {},
   "outputs": [],
   "source": [
    "pepito.x"
   ]
  },
  {
   "cell_type": "code",
   "execution_count": null,
   "metadata": {},
   "outputs": [],
   "source": [
    "Person.is_adult(86)"
   ]
  },
  {
   "cell_type": "code",
   "execution_count": null,
   "metadata": {},
   "outputs": [],
   "source": [
    "Person.name_and_age()"
   ]
  },
  {
   "cell_type": "code",
   "execution_count": null,
   "metadata": {},
   "outputs": [],
   "source": [
    "p = Person(name=\"\", age=56)"
   ]
  },
  {
   "cell_type": "code",
   "execution_count": null,
   "metadata": {},
   "outputs": [],
   "source": [
    "p = Person(name=\"Gregorio\", age=92)\n",
    "p.name "
   ]
  },
  {
   "cell_type": "code",
   "execution_count": null,
   "metadata": {},
   "outputs": [],
   "source": [
    "p.age"
   ]
  },
  {
   "cell_type": "code",
   "execution_count": null,
   "metadata": {},
   "outputs": [],
   "source": [
    "p.__age"
   ]
  },
  {
   "cell_type": "code",
   "execution_count": null,
   "metadata": {},
   "outputs": [],
   "source": [
    "lucia = Person.from_birth_year(name=\"Lucía\", birthyear=1992)\n",
    "print(lucia.name)\n",
    "lucia.age"
   ]
  },
  {
   "cell_type": "code",
   "execution_count": null,
   "metadata": {},
   "outputs": [],
   "source": [
    "lucia.age"
   ]
  },
  {
   "cell_type": "code",
   "execution_count": null,
   "metadata": {},
   "outputs": [],
   "source": []
  }
 ],
 "metadata": {
  "language_info": {
   "name": "python",
   "codemirror_mode": {
    "name": "ipython",
    "version": 3
   },
   "version": "3.6.4-final"
  },
  "orig_nbformat": 2,
  "file_extension": ".py",
  "mimetype": "text/x-python",
  "name": "python",
  "npconvert_exporter": "python",
  "pygments_lexer": "ipython3",
  "version": 3,
  "kernelspec": {
   "name": "python3",
   "display_name": "Python 3.6.4 64-bit",
   "metadata": {
    "interpreter": {
     "hash": "5c4d2f1fdcd3716c7a5eea90ad07be30193490dd4e63617705244f5fd89ea793"
    }
   }
  }
 },
 "nbformat": 4,
 "nbformat_minor": 2
}