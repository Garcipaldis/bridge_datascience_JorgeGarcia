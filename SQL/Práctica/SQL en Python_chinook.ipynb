{
 "metadata": {
  "language_info": {
   "codemirror_mode": {
    "name": "ipython",
    "version": 3
   },
   "file_extension": ".py",
   "mimetype": "text/x-python",
   "name": "python",
   "nbconvert_exporter": "python",
   "pygments_lexer": "ipython3",
   "version": "3.7.4"
  },
  "orig_nbformat": 2,
  "kernelspec": {
   "name": "python374jvsc74a57bd0674dfd6ded4398e0679ff4f65e9a10a54ff0d14801bec0126172cfc3973d1cf1",
   "display_name": "Python 3.7.4 64-bit"
  },
  "metadata": {
   "interpreter": {
    "hash": "674dfd6ded4398e0679ff4f65e9a10a54ff0d14801bec0126172cfc3973d1cf1"
   }
  }
 },
 "nbformat": 4,
 "nbformat_minor": 2,
 "cells": [
  {
   "source": [
    "# SQL en Python\n",
    "<img src=\".\\img\\image-4.png\" alt=\"EDA Path\"\n",
    "    title=\"A typical EDA path\" width=\"600\" height=\"300\" />\n",
    "## Conectamos con la base de datos\n",
    "\n",
    "### Documentación de la librería SQLite3 que vamos a utilizar:\n",
    "https://docs.python.org/3/library/sqlite3.html\n"
   ],
   "cell_type": "markdown",
   "metadata": {}
  },
  {
   "cell_type": "code",
   "execution_count": 1,
   "metadata": {},
   "outputs": [],
   "source": [
    "# Importamos librerias\n",
    "import pandas as pd\n",
    "import sqlite3"
   ]
  },
  {
   "cell_type": "code",
   "execution_count": 2,
   "metadata": {},
   "outputs": [],
   "source": [
    "# Conectamos con la base de datos chinook.db\n",
    "path = 'chinook.db'\n",
    "connection = sqlite3.connect(path)\n",
    "\n",
    "# Obtenemos un cursor que utilizaremos para hacer las queries\n",
    "cursor = connection.cursor()"
   ]
  },
  {
   "cell_type": "code",
   "execution_count": 3,
   "metadata": {},
   "outputs": [],
   "source": [
    "# Creamos una Query sencilla\n",
    "query = \"\"\"\n",
    "SELECT *\n",
    "FROM genres\n",
    "\"\"\"\n"
   ]
  },
  {
   "cell_type": "code",
   "execution_count": 4,
   "metadata": {},
   "outputs": [],
   "source": [
    "my_query = cursor.execute(query)"
   ]
  },
  {
   "cell_type": "code",
   "execution_count": 5,
   "metadata": {},
   "outputs": [
    {
     "output_type": "execute_result",
     "data": {
      "text/plain": [
       "list"
      ]
     },
     "metadata": {},
     "execution_count": 5
    }
   ],
   "source": [
    "type(my_query.fetchall())"
   ]
  },
  {
   "cell_type": "code",
   "execution_count": 6,
   "metadata": {},
   "outputs": [],
   "source": [
    "# Con esta función leemos los datos y lo pasamos a un DataFrame de Pandas\n",
    "def sql_query(query):\n",
    "    \n",
    "    cursor.execute(query)\n",
    "    datos_query = cursor.fetchall()\n",
    "    col_names = [description[0] for description in cursor.description]\n",
    "\n",
    "    return pd.DataFrame(datos_query, columns=col_names)"
   ]
  },
  {
   "cell_type": "code",
   "execution_count": 7,
   "metadata": {},
   "outputs": [
    {
     "output_type": "execute_result",
     "data": {
      "text/plain": [
       "    GenreId                Name\n",
       "0         1                Rock\n",
       "1         2                Jazz\n",
       "2         3               Metal\n",
       "3         4  Alternative & Punk\n",
       "4         5       Rock And Roll\n",
       "5         6               Blues\n",
       "6         7               Latin\n",
       "7         8              Reggae\n",
       "8         9                 Pop\n",
       "9        10          Soundtrack\n",
       "10       11          Bossa Nova\n",
       "11       12      Easy Listening\n",
       "12       13         Heavy Metal\n",
       "13       14            R&B/Soul\n",
       "14       15   Electronica/Dance\n",
       "15       16               World\n",
       "16       17         Hip Hop/Rap\n",
       "17       18     Science Fiction\n",
       "18       19            TV Shows\n",
       "19       20    Sci Fi & Fantasy\n",
       "20       21               Drama\n",
       "21       22              Comedy\n",
       "22       23         Alternative\n",
       "23       24           Classical\n",
       "24       25               Opera"
      ],
      "text/html": "<div>\n<style scoped>\n    .dataframe tbody tr th:only-of-type {\n        vertical-align: middle;\n    }\n\n    .dataframe tbody tr th {\n        vertical-align: top;\n    }\n\n    .dataframe thead th {\n        text-align: right;\n    }\n</style>\n<table border=\"1\" class=\"dataframe\">\n  <thead>\n    <tr style=\"text-align: right;\">\n      <th></th>\n      <th>GenreId</th>\n      <th>Name</th>\n    </tr>\n  </thead>\n  <tbody>\n    <tr>\n      <th>0</th>\n      <td>1</td>\n      <td>Rock</td>\n    </tr>\n    <tr>\n      <th>1</th>\n      <td>2</td>\n      <td>Jazz</td>\n    </tr>\n    <tr>\n      <th>2</th>\n      <td>3</td>\n      <td>Metal</td>\n    </tr>\n    <tr>\n      <th>3</th>\n      <td>4</td>\n      <td>Alternative &amp; Punk</td>\n    </tr>\n    <tr>\n      <th>4</th>\n      <td>5</td>\n      <td>Rock And Roll</td>\n    </tr>\n    <tr>\n      <th>5</th>\n      <td>6</td>\n      <td>Blues</td>\n    </tr>\n    <tr>\n      <th>6</th>\n      <td>7</td>\n      <td>Latin</td>\n    </tr>\n    <tr>\n      <th>7</th>\n      <td>8</td>\n      <td>Reggae</td>\n    </tr>\n    <tr>\n      <th>8</th>\n      <td>9</td>\n      <td>Pop</td>\n    </tr>\n    <tr>\n      <th>9</th>\n      <td>10</td>\n      <td>Soundtrack</td>\n    </tr>\n    <tr>\n      <th>10</th>\n      <td>11</td>\n      <td>Bossa Nova</td>\n    </tr>\n    <tr>\n      <th>11</th>\n      <td>12</td>\n      <td>Easy Listening</td>\n    </tr>\n    <tr>\n      <th>12</th>\n      <td>13</td>\n      <td>Heavy Metal</td>\n    </tr>\n    <tr>\n      <th>13</th>\n      <td>14</td>\n      <td>R&amp;B/Soul</td>\n    </tr>\n    <tr>\n      <th>14</th>\n      <td>15</td>\n      <td>Electronica/Dance</td>\n    </tr>\n    <tr>\n      <th>15</th>\n      <td>16</td>\n      <td>World</td>\n    </tr>\n    <tr>\n      <th>16</th>\n      <td>17</td>\n      <td>Hip Hop/Rap</td>\n    </tr>\n    <tr>\n      <th>17</th>\n      <td>18</td>\n      <td>Science Fiction</td>\n    </tr>\n    <tr>\n      <th>18</th>\n      <td>19</td>\n      <td>TV Shows</td>\n    </tr>\n    <tr>\n      <th>19</th>\n      <td>20</td>\n      <td>Sci Fi &amp; Fantasy</td>\n    </tr>\n    <tr>\n      <th>20</th>\n      <td>21</td>\n      <td>Drama</td>\n    </tr>\n    <tr>\n      <th>21</th>\n      <td>22</td>\n      <td>Comedy</td>\n    </tr>\n    <tr>\n      <th>22</th>\n      <td>23</td>\n      <td>Alternative</td>\n    </tr>\n    <tr>\n      <th>23</th>\n      <td>24</td>\n      <td>Classical</td>\n    </tr>\n    <tr>\n      <th>24</th>\n      <td>25</td>\n      <td>Opera</td>\n    </tr>\n  </tbody>\n</table>\n</div>"
     },
     "metadata": {},
     "execution_count": 7
    }
   ],
   "source": [
    "df = sql_query(query)\n",
    "df"
   ]
  },
  {
   "cell_type": "code",
   "execution_count": 8,
   "metadata": {},
   "outputs": [
    {
     "output_type": "execute_result",
     "data": {
      "text/plain": [
       "    GenreId                Name\n",
       "0         1                Rock\n",
       "1         2                Jazz\n",
       "2         3               Metal\n",
       "3         4  Alternative & Punk\n",
       "4         5       Rock And Roll\n",
       "5         6               Blues\n",
       "6         7               Latin\n",
       "7         8              Reggae\n",
       "8         9                 Pop\n",
       "9        10          Soundtrack\n",
       "10       11          Bossa Nova\n",
       "11       12      Easy Listening\n",
       "12       13         Heavy Metal\n",
       "13       14            R&B/Soul\n",
       "14       15   Electronica/Dance\n",
       "15       16               World\n",
       "16       17         Hip Hop/Rap\n",
       "17       18     Science Fiction\n",
       "18       19            TV Shows\n",
       "19       20    Sci Fi & Fantasy\n",
       "20       21               Drama\n",
       "21       22              Comedy\n",
       "22       23         Alternative\n",
       "23       24           Classical\n",
       "24       25               Opera"
      ],
      "text/html": "<div>\n<style scoped>\n    .dataframe tbody tr th:only-of-type {\n        vertical-align: middle;\n    }\n\n    .dataframe tbody tr th {\n        vertical-align: top;\n    }\n\n    .dataframe thead th {\n        text-align: right;\n    }\n</style>\n<table border=\"1\" class=\"dataframe\">\n  <thead>\n    <tr style=\"text-align: right;\">\n      <th></th>\n      <th>GenreId</th>\n      <th>Name</th>\n    </tr>\n  </thead>\n  <tbody>\n    <tr>\n      <th>0</th>\n      <td>1</td>\n      <td>Rock</td>\n    </tr>\n    <tr>\n      <th>1</th>\n      <td>2</td>\n      <td>Jazz</td>\n    </tr>\n    <tr>\n      <th>2</th>\n      <td>3</td>\n      <td>Metal</td>\n    </tr>\n    <tr>\n      <th>3</th>\n      <td>4</td>\n      <td>Alternative &amp; Punk</td>\n    </tr>\n    <tr>\n      <th>4</th>\n      <td>5</td>\n      <td>Rock And Roll</td>\n    </tr>\n    <tr>\n      <th>5</th>\n      <td>6</td>\n      <td>Blues</td>\n    </tr>\n    <tr>\n      <th>6</th>\n      <td>7</td>\n      <td>Latin</td>\n    </tr>\n    <tr>\n      <th>7</th>\n      <td>8</td>\n      <td>Reggae</td>\n    </tr>\n    <tr>\n      <th>8</th>\n      <td>9</td>\n      <td>Pop</td>\n    </tr>\n    <tr>\n      <th>9</th>\n      <td>10</td>\n      <td>Soundtrack</td>\n    </tr>\n    <tr>\n      <th>10</th>\n      <td>11</td>\n      <td>Bossa Nova</td>\n    </tr>\n    <tr>\n      <th>11</th>\n      <td>12</td>\n      <td>Easy Listening</td>\n    </tr>\n    <tr>\n      <th>12</th>\n      <td>13</td>\n      <td>Heavy Metal</td>\n    </tr>\n    <tr>\n      <th>13</th>\n      <td>14</td>\n      <td>R&amp;B/Soul</td>\n    </tr>\n    <tr>\n      <th>14</th>\n      <td>15</td>\n      <td>Electronica/Dance</td>\n    </tr>\n    <tr>\n      <th>15</th>\n      <td>16</td>\n      <td>World</td>\n    </tr>\n    <tr>\n      <th>16</th>\n      <td>17</td>\n      <td>Hip Hop/Rap</td>\n    </tr>\n    <tr>\n      <th>17</th>\n      <td>18</td>\n      <td>Science Fiction</td>\n    </tr>\n    <tr>\n      <th>18</th>\n      <td>19</td>\n      <td>TV Shows</td>\n    </tr>\n    <tr>\n      <th>19</th>\n      <td>20</td>\n      <td>Sci Fi &amp; Fantasy</td>\n    </tr>\n    <tr>\n      <th>20</th>\n      <td>21</td>\n      <td>Drama</td>\n    </tr>\n    <tr>\n      <th>21</th>\n      <td>22</td>\n      <td>Comedy</td>\n    </tr>\n    <tr>\n      <th>22</th>\n      <td>23</td>\n      <td>Alternative</td>\n    </tr>\n    <tr>\n      <th>23</th>\n      <td>24</td>\n      <td>Classical</td>\n    </tr>\n    <tr>\n      <th>24</th>\n      <td>25</td>\n      <td>Opera</td>\n    </tr>\n  </tbody>\n</table>\n</div>"
     },
     "metadata": {},
     "execution_count": 8
    }
   ],
   "source": [
    "# Tambien podemos obtener el mismo resultado directamente con pandas\n",
    "\n",
    "pd.read_sql_query(query, connection)"
   ]
  },
  {
   "source": [
    "## Ya podemos comenzar con la práctica de chinook:\n",
    "Antes de empezar a atacar una base de datos, tendremos que saber qué hay dentro, y para ello lo mejor es ver cómo es su **modelo de datos**\n",
    "\n",
    "![imagen](./img/chinook_data_model.png)"
   ],
   "cell_type": "markdown",
   "metadata": {}
  },
  {
   "source": [
    "### 1.\tFacturas de Clientes de Brasil, Nombre del cliente, Id de factura, fecha de la factura y el país de la factura"
   ],
   "cell_type": "markdown",
   "metadata": {}
  },
  {
   "cell_type": "code",
   "execution_count": 9,
   "metadata": {},
   "outputs": [
    {
     "output_type": "execute_result",
     "data": {
      "text/plain": [
       "    CustomerId         FullName  InvoiceId          InvoiceDate  \\\n",
       "0            1   Luís Gonçalves         98  2010-03-11 00:00:00   \n",
       "1            1   Luís Gonçalves        121  2010-06-13 00:00:00   \n",
       "2            1   Luís Gonçalves        143  2010-09-15 00:00:00   \n",
       "3            1   Luís Gonçalves        195  2011-05-06 00:00:00   \n",
       "4            1   Luís Gonçalves        316  2012-10-27 00:00:00   \n",
       "5            1   Luís Gonçalves        327  2012-12-07 00:00:00   \n",
       "6            1   Luís Gonçalves        382  2013-08-07 00:00:00   \n",
       "7           10  Eduardo Martins         25  2009-04-09 00:00:00   \n",
       "8           10  Eduardo Martins        154  2010-11-14 00:00:00   \n",
       "9           10  Eduardo Martins        177  2011-02-16 00:00:00   \n",
       "10          10  Eduardo Martins        199  2011-05-21 00:00:00   \n",
       "11          10  Eduardo Martins        251  2012-01-09 00:00:00   \n",
       "12          10  Eduardo Martins        372  2013-07-02 00:00:00   \n",
       "13          10  Eduardo Martins        383  2013-08-12 00:00:00   \n",
       "14          11  Alexandre Rocha         57  2009-09-06 00:00:00   \n",
       "15          11  Alexandre Rocha         68  2009-10-17 00:00:00   \n",
       "16          11  Alexandre Rocha        123  2010-06-17 00:00:00   \n",
       "17          11  Alexandre Rocha        252  2012-01-22 00:00:00   \n",
       "18          11  Alexandre Rocha        275  2012-04-25 00:00:00   \n",
       "19          11  Alexandre Rocha        297  2012-07-28 00:00:00   \n",
       "20          11  Alexandre Rocha        349  2013-03-18 00:00:00   \n",
       "21          12  Roberto Almeida         34  2009-05-23 00:00:00   \n",
       "22          12  Roberto Almeida        155  2010-11-14 00:00:00   \n",
       "23          12  Roberto Almeida        166  2010-12-25 00:00:00   \n",
       "24          12  Roberto Almeida        221  2011-08-25 00:00:00   \n",
       "25          12  Roberto Almeida        350  2013-03-31 00:00:00   \n",
       "26          12  Roberto Almeida        373  2013-07-03 00:00:00   \n",
       "27          12  Roberto Almeida        395  2013-10-05 00:00:00   \n",
       "28          13   Fernanda Ramos         35  2009-06-05 00:00:00   \n",
       "29          13   Fernanda Ramos         58  2009-09-07 00:00:00   \n",
       "30          13   Fernanda Ramos         80  2009-12-10 00:00:00   \n",
       "31          13   Fernanda Ramos        132  2010-07-31 00:00:00   \n",
       "32          13   Fernanda Ramos        253  2012-01-22 00:00:00   \n",
       "33          13   Fernanda Ramos        264  2012-03-03 00:00:00   \n",
       "34          13   Fernanda Ramos        319  2012-11-01 00:00:00   \n",
       "\n",
       "   CustomerCountry BillingCountry  \n",
       "0           Brazil         Brazil  \n",
       "1           Brazil         Brazil  \n",
       "2           Brazil         Brazil  \n",
       "3           Brazil         Brazil  \n",
       "4           Brazil         Brazil  \n",
       "5           Brazil         Brazil  \n",
       "6           Brazil         Brazil  \n",
       "7           Brazil         Brazil  \n",
       "8           Brazil         Brazil  \n",
       "9           Brazil         Brazil  \n",
       "10          Brazil         Brazil  \n",
       "11          Brazil         Brazil  \n",
       "12          Brazil         Brazil  \n",
       "13          Brazil         Brazil  \n",
       "14          Brazil         Brazil  \n",
       "15          Brazil         Brazil  \n",
       "16          Brazil         Brazil  \n",
       "17          Brazil         Brazil  \n",
       "18          Brazil         Brazil  \n",
       "19          Brazil         Brazil  \n",
       "20          Brazil         Brazil  \n",
       "21          Brazil         Brazil  \n",
       "22          Brazil         Brazil  \n",
       "23          Brazil         Brazil  \n",
       "24          Brazil         Brazil  \n",
       "25          Brazil         Brazil  \n",
       "26          Brazil         Brazil  \n",
       "27          Brazil         Brazil  \n",
       "28          Brazil         Brazil  \n",
       "29          Brazil         Brazil  \n",
       "30          Brazil         Brazil  \n",
       "31          Brazil         Brazil  \n",
       "32          Brazil         Brazil  \n",
       "33          Brazil         Brazil  \n",
       "34          Brazil         Brazil  "
      ],
      "text/html": "<div>\n<style scoped>\n    .dataframe tbody tr th:only-of-type {\n        vertical-align: middle;\n    }\n\n    .dataframe tbody tr th {\n        vertical-align: top;\n    }\n\n    .dataframe thead th {\n        text-align: right;\n    }\n</style>\n<table border=\"1\" class=\"dataframe\">\n  <thead>\n    <tr style=\"text-align: right;\">\n      <th></th>\n      <th>CustomerId</th>\n      <th>FullName</th>\n      <th>InvoiceId</th>\n      <th>InvoiceDate</th>\n      <th>CustomerCountry</th>\n      <th>BillingCountry</th>\n    </tr>\n  </thead>\n  <tbody>\n    <tr>\n      <th>0</th>\n      <td>1</td>\n      <td>Luís Gonçalves</td>\n      <td>98</td>\n      <td>2010-03-11 00:00:00</td>\n      <td>Brazil</td>\n      <td>Brazil</td>\n    </tr>\n    <tr>\n      <th>1</th>\n      <td>1</td>\n      <td>Luís Gonçalves</td>\n      <td>121</td>\n      <td>2010-06-13 00:00:00</td>\n      <td>Brazil</td>\n      <td>Brazil</td>\n    </tr>\n    <tr>\n      <th>2</th>\n      <td>1</td>\n      <td>Luís Gonçalves</td>\n      <td>143</td>\n      <td>2010-09-15 00:00:00</td>\n      <td>Brazil</td>\n      <td>Brazil</td>\n    </tr>\n    <tr>\n      <th>3</th>\n      <td>1</td>\n      <td>Luís Gonçalves</td>\n      <td>195</td>\n      <td>2011-05-06 00:00:00</td>\n      <td>Brazil</td>\n      <td>Brazil</td>\n    </tr>\n    <tr>\n      <th>4</th>\n      <td>1</td>\n      <td>Luís Gonçalves</td>\n      <td>316</td>\n      <td>2012-10-27 00:00:00</td>\n      <td>Brazil</td>\n      <td>Brazil</td>\n    </tr>\n    <tr>\n      <th>5</th>\n      <td>1</td>\n      <td>Luís Gonçalves</td>\n      <td>327</td>\n      <td>2012-12-07 00:00:00</td>\n      <td>Brazil</td>\n      <td>Brazil</td>\n    </tr>\n    <tr>\n      <th>6</th>\n      <td>1</td>\n      <td>Luís Gonçalves</td>\n      <td>382</td>\n      <td>2013-08-07 00:00:00</td>\n      <td>Brazil</td>\n      <td>Brazil</td>\n    </tr>\n    <tr>\n      <th>7</th>\n      <td>10</td>\n      <td>Eduardo Martins</td>\n      <td>25</td>\n      <td>2009-04-09 00:00:00</td>\n      <td>Brazil</td>\n      <td>Brazil</td>\n    </tr>\n    <tr>\n      <th>8</th>\n      <td>10</td>\n      <td>Eduardo Martins</td>\n      <td>154</td>\n      <td>2010-11-14 00:00:00</td>\n      <td>Brazil</td>\n      <td>Brazil</td>\n    </tr>\n    <tr>\n      <th>9</th>\n      <td>10</td>\n      <td>Eduardo Martins</td>\n      <td>177</td>\n      <td>2011-02-16 00:00:00</td>\n      <td>Brazil</td>\n      <td>Brazil</td>\n    </tr>\n    <tr>\n      <th>10</th>\n      <td>10</td>\n      <td>Eduardo Martins</td>\n      <td>199</td>\n      <td>2011-05-21 00:00:00</td>\n      <td>Brazil</td>\n      <td>Brazil</td>\n    </tr>\n    <tr>\n      <th>11</th>\n      <td>10</td>\n      <td>Eduardo Martins</td>\n      <td>251</td>\n      <td>2012-01-09 00:00:00</td>\n      <td>Brazil</td>\n      <td>Brazil</td>\n    </tr>\n    <tr>\n      <th>12</th>\n      <td>10</td>\n      <td>Eduardo Martins</td>\n      <td>372</td>\n      <td>2013-07-02 00:00:00</td>\n      <td>Brazil</td>\n      <td>Brazil</td>\n    </tr>\n    <tr>\n      <th>13</th>\n      <td>10</td>\n      <td>Eduardo Martins</td>\n      <td>383</td>\n      <td>2013-08-12 00:00:00</td>\n      <td>Brazil</td>\n      <td>Brazil</td>\n    </tr>\n    <tr>\n      <th>14</th>\n      <td>11</td>\n      <td>Alexandre Rocha</td>\n      <td>57</td>\n      <td>2009-09-06 00:00:00</td>\n      <td>Brazil</td>\n      <td>Brazil</td>\n    </tr>\n    <tr>\n      <th>15</th>\n      <td>11</td>\n      <td>Alexandre Rocha</td>\n      <td>68</td>\n      <td>2009-10-17 00:00:00</td>\n      <td>Brazil</td>\n      <td>Brazil</td>\n    </tr>\n    <tr>\n      <th>16</th>\n      <td>11</td>\n      <td>Alexandre Rocha</td>\n      <td>123</td>\n      <td>2010-06-17 00:00:00</td>\n      <td>Brazil</td>\n      <td>Brazil</td>\n    </tr>\n    <tr>\n      <th>17</th>\n      <td>11</td>\n      <td>Alexandre Rocha</td>\n      <td>252</td>\n      <td>2012-01-22 00:00:00</td>\n      <td>Brazil</td>\n      <td>Brazil</td>\n    </tr>\n    <tr>\n      <th>18</th>\n      <td>11</td>\n      <td>Alexandre Rocha</td>\n      <td>275</td>\n      <td>2012-04-25 00:00:00</td>\n      <td>Brazil</td>\n      <td>Brazil</td>\n    </tr>\n    <tr>\n      <th>19</th>\n      <td>11</td>\n      <td>Alexandre Rocha</td>\n      <td>297</td>\n      <td>2012-07-28 00:00:00</td>\n      <td>Brazil</td>\n      <td>Brazil</td>\n    </tr>\n    <tr>\n      <th>20</th>\n      <td>11</td>\n      <td>Alexandre Rocha</td>\n      <td>349</td>\n      <td>2013-03-18 00:00:00</td>\n      <td>Brazil</td>\n      <td>Brazil</td>\n    </tr>\n    <tr>\n      <th>21</th>\n      <td>12</td>\n      <td>Roberto Almeida</td>\n      <td>34</td>\n      <td>2009-05-23 00:00:00</td>\n      <td>Brazil</td>\n      <td>Brazil</td>\n    </tr>\n    <tr>\n      <th>22</th>\n      <td>12</td>\n      <td>Roberto Almeida</td>\n      <td>155</td>\n      <td>2010-11-14 00:00:00</td>\n      <td>Brazil</td>\n      <td>Brazil</td>\n    </tr>\n    <tr>\n      <th>23</th>\n      <td>12</td>\n      <td>Roberto Almeida</td>\n      <td>166</td>\n      <td>2010-12-25 00:00:00</td>\n      <td>Brazil</td>\n      <td>Brazil</td>\n    </tr>\n    <tr>\n      <th>24</th>\n      <td>12</td>\n      <td>Roberto Almeida</td>\n      <td>221</td>\n      <td>2011-08-25 00:00:00</td>\n      <td>Brazil</td>\n      <td>Brazil</td>\n    </tr>\n    <tr>\n      <th>25</th>\n      <td>12</td>\n      <td>Roberto Almeida</td>\n      <td>350</td>\n      <td>2013-03-31 00:00:00</td>\n      <td>Brazil</td>\n      <td>Brazil</td>\n    </tr>\n    <tr>\n      <th>26</th>\n      <td>12</td>\n      <td>Roberto Almeida</td>\n      <td>373</td>\n      <td>2013-07-03 00:00:00</td>\n      <td>Brazil</td>\n      <td>Brazil</td>\n    </tr>\n    <tr>\n      <th>27</th>\n      <td>12</td>\n      <td>Roberto Almeida</td>\n      <td>395</td>\n      <td>2013-10-05 00:00:00</td>\n      <td>Brazil</td>\n      <td>Brazil</td>\n    </tr>\n    <tr>\n      <th>28</th>\n      <td>13</td>\n      <td>Fernanda Ramos</td>\n      <td>35</td>\n      <td>2009-06-05 00:00:00</td>\n      <td>Brazil</td>\n      <td>Brazil</td>\n    </tr>\n    <tr>\n      <th>29</th>\n      <td>13</td>\n      <td>Fernanda Ramos</td>\n      <td>58</td>\n      <td>2009-09-07 00:00:00</td>\n      <td>Brazil</td>\n      <td>Brazil</td>\n    </tr>\n    <tr>\n      <th>30</th>\n      <td>13</td>\n      <td>Fernanda Ramos</td>\n      <td>80</td>\n      <td>2009-12-10 00:00:00</td>\n      <td>Brazil</td>\n      <td>Brazil</td>\n    </tr>\n    <tr>\n      <th>31</th>\n      <td>13</td>\n      <td>Fernanda Ramos</td>\n      <td>132</td>\n      <td>2010-07-31 00:00:00</td>\n      <td>Brazil</td>\n      <td>Brazil</td>\n    </tr>\n    <tr>\n      <th>32</th>\n      <td>13</td>\n      <td>Fernanda Ramos</td>\n      <td>253</td>\n      <td>2012-01-22 00:00:00</td>\n      <td>Brazil</td>\n      <td>Brazil</td>\n    </tr>\n    <tr>\n      <th>33</th>\n      <td>13</td>\n      <td>Fernanda Ramos</td>\n      <td>264</td>\n      <td>2012-03-03 00:00:00</td>\n      <td>Brazil</td>\n      <td>Brazil</td>\n    </tr>\n    <tr>\n      <th>34</th>\n      <td>13</td>\n      <td>Fernanda Ramos</td>\n      <td>319</td>\n      <td>2012-11-01 00:00:00</td>\n      <td>Brazil</td>\n      <td>Brazil</td>\n    </tr>\n  </tbody>\n</table>\n</div>"
     },
     "metadata": {},
     "execution_count": 9
    }
   ],
   "source": [
    "query = \"\"\"\n",
    "SELECT c.CustomerId, c.FirstName||' '||c.LastName as 'FullName', i.InvoiceId, i.InvoiceDate, c.Country as 'CustomerCountry', i.BillingCountry\n",
    "FROM customers as c, invoices as i\n",
    "WHERE c.CustomerId == i.CustomerId\n",
    "AND c.Country == 'Brazil'\n",
    "\"\"\"\n",
    "df = sql_query(query)\n",
    "df"
   ]
  },
  {
   "cell_type": "code",
   "execution_count": 10,
   "metadata": {},
   "outputs": [
    {
     "output_type": "execute_result",
     "data": {
      "text/plain": [
       "    CustomerId         FullName  InvoiceId          InvoiceDate  \\\n",
       "0            1   Luís Gonçalves         98  2010-03-11 00:00:00   \n",
       "1            1   Luís Gonçalves        121  2010-06-13 00:00:00   \n",
       "2            1   Luís Gonçalves        143  2010-09-15 00:00:00   \n",
       "3            1   Luís Gonçalves        195  2011-05-06 00:00:00   \n",
       "4            1   Luís Gonçalves        316  2012-10-27 00:00:00   \n",
       "5            1   Luís Gonçalves        327  2012-12-07 00:00:00   \n",
       "6            1   Luís Gonçalves        382  2013-08-07 00:00:00   \n",
       "7           10  Eduardo Martins         25  2009-04-09 00:00:00   \n",
       "8           10  Eduardo Martins        154  2010-11-14 00:00:00   \n",
       "9           10  Eduardo Martins        177  2011-02-16 00:00:00   \n",
       "10          10  Eduardo Martins        199  2011-05-21 00:00:00   \n",
       "11          10  Eduardo Martins        251  2012-01-09 00:00:00   \n",
       "12          10  Eduardo Martins        372  2013-07-02 00:00:00   \n",
       "13          10  Eduardo Martins        383  2013-08-12 00:00:00   \n",
       "14          11  Alexandre Rocha         57  2009-09-06 00:00:00   \n",
       "15          11  Alexandre Rocha         68  2009-10-17 00:00:00   \n",
       "16          11  Alexandre Rocha        123  2010-06-17 00:00:00   \n",
       "17          11  Alexandre Rocha        252  2012-01-22 00:00:00   \n",
       "18          11  Alexandre Rocha        275  2012-04-25 00:00:00   \n",
       "19          11  Alexandre Rocha        297  2012-07-28 00:00:00   \n",
       "20          11  Alexandre Rocha        349  2013-03-18 00:00:00   \n",
       "21          12  Roberto Almeida         34  2009-05-23 00:00:00   \n",
       "22          12  Roberto Almeida        155  2010-11-14 00:00:00   \n",
       "23          12  Roberto Almeida        166  2010-12-25 00:00:00   \n",
       "24          12  Roberto Almeida        221  2011-08-25 00:00:00   \n",
       "25          12  Roberto Almeida        350  2013-03-31 00:00:00   \n",
       "26          12  Roberto Almeida        373  2013-07-03 00:00:00   \n",
       "27          12  Roberto Almeida        395  2013-10-05 00:00:00   \n",
       "28          13   Fernanda Ramos         35  2009-06-05 00:00:00   \n",
       "29          13   Fernanda Ramos         58  2009-09-07 00:00:00   \n",
       "30          13   Fernanda Ramos         80  2009-12-10 00:00:00   \n",
       "31          13   Fernanda Ramos        132  2010-07-31 00:00:00   \n",
       "32          13   Fernanda Ramos        253  2012-01-22 00:00:00   \n",
       "33          13   Fernanda Ramos        264  2012-03-03 00:00:00   \n",
       "34          13   Fernanda Ramos        319  2012-11-01 00:00:00   \n",
       "\n",
       "   CustomerCountry BillingCountry  \n",
       "0           Brazil         Brazil  \n",
       "1           Brazil         Brazil  \n",
       "2           Brazil         Brazil  \n",
       "3           Brazil         Brazil  \n",
       "4           Brazil         Brazil  \n",
       "5           Brazil         Brazil  \n",
       "6           Brazil         Brazil  \n",
       "7           Brazil         Brazil  \n",
       "8           Brazil         Brazil  \n",
       "9           Brazil         Brazil  \n",
       "10          Brazil         Brazil  \n",
       "11          Brazil         Brazil  \n",
       "12          Brazil         Brazil  \n",
       "13          Brazil         Brazil  \n",
       "14          Brazil         Brazil  \n",
       "15          Brazil         Brazil  \n",
       "16          Brazil         Brazil  \n",
       "17          Brazil         Brazil  \n",
       "18          Brazil         Brazil  \n",
       "19          Brazil         Brazil  \n",
       "20          Brazil         Brazil  \n",
       "21          Brazil         Brazil  \n",
       "22          Brazil         Brazil  \n",
       "23          Brazil         Brazil  \n",
       "24          Brazil         Brazil  \n",
       "25          Brazil         Brazil  \n",
       "26          Brazil         Brazil  \n",
       "27          Brazil         Brazil  \n",
       "28          Brazil         Brazil  \n",
       "29          Brazil         Brazil  \n",
       "30          Brazil         Brazil  \n",
       "31          Brazil         Brazil  \n",
       "32          Brazil         Brazil  \n",
       "33          Brazil         Brazil  \n",
       "34          Brazil         Brazil  "
      ],
      "text/html": "<div>\n<style scoped>\n    .dataframe tbody tr th:only-of-type {\n        vertical-align: middle;\n    }\n\n    .dataframe tbody tr th {\n        vertical-align: top;\n    }\n\n    .dataframe thead th {\n        text-align: right;\n    }\n</style>\n<table border=\"1\" class=\"dataframe\">\n  <thead>\n    <tr style=\"text-align: right;\">\n      <th></th>\n      <th>CustomerId</th>\n      <th>FullName</th>\n      <th>InvoiceId</th>\n      <th>InvoiceDate</th>\n      <th>CustomerCountry</th>\n      <th>BillingCountry</th>\n    </tr>\n  </thead>\n  <tbody>\n    <tr>\n      <th>0</th>\n      <td>1</td>\n      <td>Luís Gonçalves</td>\n      <td>98</td>\n      <td>2010-03-11 00:00:00</td>\n      <td>Brazil</td>\n      <td>Brazil</td>\n    </tr>\n    <tr>\n      <th>1</th>\n      <td>1</td>\n      <td>Luís Gonçalves</td>\n      <td>121</td>\n      <td>2010-06-13 00:00:00</td>\n      <td>Brazil</td>\n      <td>Brazil</td>\n    </tr>\n    <tr>\n      <th>2</th>\n      <td>1</td>\n      <td>Luís Gonçalves</td>\n      <td>143</td>\n      <td>2010-09-15 00:00:00</td>\n      <td>Brazil</td>\n      <td>Brazil</td>\n    </tr>\n    <tr>\n      <th>3</th>\n      <td>1</td>\n      <td>Luís Gonçalves</td>\n      <td>195</td>\n      <td>2011-05-06 00:00:00</td>\n      <td>Brazil</td>\n      <td>Brazil</td>\n    </tr>\n    <tr>\n      <th>4</th>\n      <td>1</td>\n      <td>Luís Gonçalves</td>\n      <td>316</td>\n      <td>2012-10-27 00:00:00</td>\n      <td>Brazil</td>\n      <td>Brazil</td>\n    </tr>\n    <tr>\n      <th>5</th>\n      <td>1</td>\n      <td>Luís Gonçalves</td>\n      <td>327</td>\n      <td>2012-12-07 00:00:00</td>\n      <td>Brazil</td>\n      <td>Brazil</td>\n    </tr>\n    <tr>\n      <th>6</th>\n      <td>1</td>\n      <td>Luís Gonçalves</td>\n      <td>382</td>\n      <td>2013-08-07 00:00:00</td>\n      <td>Brazil</td>\n      <td>Brazil</td>\n    </tr>\n    <tr>\n      <th>7</th>\n      <td>10</td>\n      <td>Eduardo Martins</td>\n      <td>25</td>\n      <td>2009-04-09 00:00:00</td>\n      <td>Brazil</td>\n      <td>Brazil</td>\n    </tr>\n    <tr>\n      <th>8</th>\n      <td>10</td>\n      <td>Eduardo Martins</td>\n      <td>154</td>\n      <td>2010-11-14 00:00:00</td>\n      <td>Brazil</td>\n      <td>Brazil</td>\n    </tr>\n    <tr>\n      <th>9</th>\n      <td>10</td>\n      <td>Eduardo Martins</td>\n      <td>177</td>\n      <td>2011-02-16 00:00:00</td>\n      <td>Brazil</td>\n      <td>Brazil</td>\n    </tr>\n    <tr>\n      <th>10</th>\n      <td>10</td>\n      <td>Eduardo Martins</td>\n      <td>199</td>\n      <td>2011-05-21 00:00:00</td>\n      <td>Brazil</td>\n      <td>Brazil</td>\n    </tr>\n    <tr>\n      <th>11</th>\n      <td>10</td>\n      <td>Eduardo Martins</td>\n      <td>251</td>\n      <td>2012-01-09 00:00:00</td>\n      <td>Brazil</td>\n      <td>Brazil</td>\n    </tr>\n    <tr>\n      <th>12</th>\n      <td>10</td>\n      <td>Eduardo Martins</td>\n      <td>372</td>\n      <td>2013-07-02 00:00:00</td>\n      <td>Brazil</td>\n      <td>Brazil</td>\n    </tr>\n    <tr>\n      <th>13</th>\n      <td>10</td>\n      <td>Eduardo Martins</td>\n      <td>383</td>\n      <td>2013-08-12 00:00:00</td>\n      <td>Brazil</td>\n      <td>Brazil</td>\n    </tr>\n    <tr>\n      <th>14</th>\n      <td>11</td>\n      <td>Alexandre Rocha</td>\n      <td>57</td>\n      <td>2009-09-06 00:00:00</td>\n      <td>Brazil</td>\n      <td>Brazil</td>\n    </tr>\n    <tr>\n      <th>15</th>\n      <td>11</td>\n      <td>Alexandre Rocha</td>\n      <td>68</td>\n      <td>2009-10-17 00:00:00</td>\n      <td>Brazil</td>\n      <td>Brazil</td>\n    </tr>\n    <tr>\n      <th>16</th>\n      <td>11</td>\n      <td>Alexandre Rocha</td>\n      <td>123</td>\n      <td>2010-06-17 00:00:00</td>\n      <td>Brazil</td>\n      <td>Brazil</td>\n    </tr>\n    <tr>\n      <th>17</th>\n      <td>11</td>\n      <td>Alexandre Rocha</td>\n      <td>252</td>\n      <td>2012-01-22 00:00:00</td>\n      <td>Brazil</td>\n      <td>Brazil</td>\n    </tr>\n    <tr>\n      <th>18</th>\n      <td>11</td>\n      <td>Alexandre Rocha</td>\n      <td>275</td>\n      <td>2012-04-25 00:00:00</td>\n      <td>Brazil</td>\n      <td>Brazil</td>\n    </tr>\n    <tr>\n      <th>19</th>\n      <td>11</td>\n      <td>Alexandre Rocha</td>\n      <td>297</td>\n      <td>2012-07-28 00:00:00</td>\n      <td>Brazil</td>\n      <td>Brazil</td>\n    </tr>\n    <tr>\n      <th>20</th>\n      <td>11</td>\n      <td>Alexandre Rocha</td>\n      <td>349</td>\n      <td>2013-03-18 00:00:00</td>\n      <td>Brazil</td>\n      <td>Brazil</td>\n    </tr>\n    <tr>\n      <th>21</th>\n      <td>12</td>\n      <td>Roberto Almeida</td>\n      <td>34</td>\n      <td>2009-05-23 00:00:00</td>\n      <td>Brazil</td>\n      <td>Brazil</td>\n    </tr>\n    <tr>\n      <th>22</th>\n      <td>12</td>\n      <td>Roberto Almeida</td>\n      <td>155</td>\n      <td>2010-11-14 00:00:00</td>\n      <td>Brazil</td>\n      <td>Brazil</td>\n    </tr>\n    <tr>\n      <th>23</th>\n      <td>12</td>\n      <td>Roberto Almeida</td>\n      <td>166</td>\n      <td>2010-12-25 00:00:00</td>\n      <td>Brazil</td>\n      <td>Brazil</td>\n    </tr>\n    <tr>\n      <th>24</th>\n      <td>12</td>\n      <td>Roberto Almeida</td>\n      <td>221</td>\n      <td>2011-08-25 00:00:00</td>\n      <td>Brazil</td>\n      <td>Brazil</td>\n    </tr>\n    <tr>\n      <th>25</th>\n      <td>12</td>\n      <td>Roberto Almeida</td>\n      <td>350</td>\n      <td>2013-03-31 00:00:00</td>\n      <td>Brazil</td>\n      <td>Brazil</td>\n    </tr>\n    <tr>\n      <th>26</th>\n      <td>12</td>\n      <td>Roberto Almeida</td>\n      <td>373</td>\n      <td>2013-07-03 00:00:00</td>\n      <td>Brazil</td>\n      <td>Brazil</td>\n    </tr>\n    <tr>\n      <th>27</th>\n      <td>12</td>\n      <td>Roberto Almeida</td>\n      <td>395</td>\n      <td>2013-10-05 00:00:00</td>\n      <td>Brazil</td>\n      <td>Brazil</td>\n    </tr>\n    <tr>\n      <th>28</th>\n      <td>13</td>\n      <td>Fernanda Ramos</td>\n      <td>35</td>\n      <td>2009-06-05 00:00:00</td>\n      <td>Brazil</td>\n      <td>Brazil</td>\n    </tr>\n    <tr>\n      <th>29</th>\n      <td>13</td>\n      <td>Fernanda Ramos</td>\n      <td>58</td>\n      <td>2009-09-07 00:00:00</td>\n      <td>Brazil</td>\n      <td>Brazil</td>\n    </tr>\n    <tr>\n      <th>30</th>\n      <td>13</td>\n      <td>Fernanda Ramos</td>\n      <td>80</td>\n      <td>2009-12-10 00:00:00</td>\n      <td>Brazil</td>\n      <td>Brazil</td>\n    </tr>\n    <tr>\n      <th>31</th>\n      <td>13</td>\n      <td>Fernanda Ramos</td>\n      <td>132</td>\n      <td>2010-07-31 00:00:00</td>\n      <td>Brazil</td>\n      <td>Brazil</td>\n    </tr>\n    <tr>\n      <th>32</th>\n      <td>13</td>\n      <td>Fernanda Ramos</td>\n      <td>253</td>\n      <td>2012-01-22 00:00:00</td>\n      <td>Brazil</td>\n      <td>Brazil</td>\n    </tr>\n    <tr>\n      <th>33</th>\n      <td>13</td>\n      <td>Fernanda Ramos</td>\n      <td>264</td>\n      <td>2012-03-03 00:00:00</td>\n      <td>Brazil</td>\n      <td>Brazil</td>\n    </tr>\n    <tr>\n      <th>34</th>\n      <td>13</td>\n      <td>Fernanda Ramos</td>\n      <td>319</td>\n      <td>2012-11-01 00:00:00</td>\n      <td>Brazil</td>\n      <td>Brazil</td>\n    </tr>\n  </tbody>\n</table>\n</div>"
     },
     "metadata": {},
     "execution_count": 10
    }
   ],
   "source": [
    "query = \"\"\"\n",
    "SELECT c.CustomerId, c.FirstName||' '||c.LastName as 'FullName', i.InvoiceId, i.InvoiceDate, c.Country as 'CustomerCountry', i.BillingCountry\n",
    "FROM customers as c\n",
    "JOIN invoices i ON c.CustomerId == i.CustomerId\n",
    "AND c.Country == 'Brazil'\n",
    "\"\"\"\n",
    "df = sql_query(query)\n",
    "df"
   ]
  },
  {
   "source": [
    "### 2.\tFacturas de Clientes de Brasil"
   ],
   "cell_type": "markdown",
   "metadata": {}
  },
  {
   "cell_type": "code",
   "execution_count": 11,
   "metadata": {},
   "outputs": [
    {
     "output_type": "execute_result",
     "data": {
      "text/plain": [
       "    InvoiceId  CustomerId          InvoiceDate  \\\n",
       "0          98           1  2010-03-11 00:00:00   \n",
       "1         121           1  2010-06-13 00:00:00   \n",
       "2         143           1  2010-09-15 00:00:00   \n",
       "3         195           1  2011-05-06 00:00:00   \n",
       "4         316           1  2012-10-27 00:00:00   \n",
       "5         327           1  2012-12-07 00:00:00   \n",
       "6         382           1  2013-08-07 00:00:00   \n",
       "7          25          10  2009-04-09 00:00:00   \n",
       "8         154          10  2010-11-14 00:00:00   \n",
       "9         177          10  2011-02-16 00:00:00   \n",
       "10        199          10  2011-05-21 00:00:00   \n",
       "11        251          10  2012-01-09 00:00:00   \n",
       "12        372          10  2013-07-02 00:00:00   \n",
       "13        383          10  2013-08-12 00:00:00   \n",
       "14         57          11  2009-09-06 00:00:00   \n",
       "15         68          11  2009-10-17 00:00:00   \n",
       "16        123          11  2010-06-17 00:00:00   \n",
       "17        252          11  2012-01-22 00:00:00   \n",
       "18        275          11  2012-04-25 00:00:00   \n",
       "19        297          11  2012-07-28 00:00:00   \n",
       "20        349          11  2013-03-18 00:00:00   \n",
       "21         34          12  2009-05-23 00:00:00   \n",
       "22        155          12  2010-11-14 00:00:00   \n",
       "23        166          12  2010-12-25 00:00:00   \n",
       "24        221          12  2011-08-25 00:00:00   \n",
       "25        350          12  2013-03-31 00:00:00   \n",
       "26        373          12  2013-07-03 00:00:00   \n",
       "27        395          12  2013-10-05 00:00:00   \n",
       "28         35          13  2009-06-05 00:00:00   \n",
       "29         58          13  2009-09-07 00:00:00   \n",
       "30         80          13  2009-12-10 00:00:00   \n",
       "31        132          13  2010-07-31 00:00:00   \n",
       "32        253          13  2012-01-22 00:00:00   \n",
       "33        264          13  2012-03-03 00:00:00   \n",
       "34        319          13  2012-11-01 00:00:00   \n",
       "\n",
       "                     BillingAddress          BillingCity BillingState  \\\n",
       "0   Av. Brigadeiro Faria Lima, 2170  São José dos Campos           SP   \n",
       "1   Av. Brigadeiro Faria Lima, 2170  São José dos Campos           SP   \n",
       "2   Av. Brigadeiro Faria Lima, 2170  São José dos Campos           SP   \n",
       "3   Av. Brigadeiro Faria Lima, 2170  São José dos Campos           SP   \n",
       "4   Av. Brigadeiro Faria Lima, 2170  São José dos Campos           SP   \n",
       "5   Av. Brigadeiro Faria Lima, 2170  São José dos Campos           SP   \n",
       "6   Av. Brigadeiro Faria Lima, 2170  São José dos Campos           SP   \n",
       "7         Rua Dr. Falcão Filho, 155            São Paulo           SP   \n",
       "8         Rua Dr. Falcão Filho, 155            São Paulo           SP   \n",
       "9         Rua Dr. Falcão Filho, 155            São Paulo           SP   \n",
       "10        Rua Dr. Falcão Filho, 155            São Paulo           SP   \n",
       "11        Rua Dr. Falcão Filho, 155            São Paulo           SP   \n",
       "12        Rua Dr. Falcão Filho, 155            São Paulo           SP   \n",
       "13        Rua Dr. Falcão Filho, 155            São Paulo           SP   \n",
       "14               Av. Paulista, 2022            São Paulo           SP   \n",
       "15               Av. Paulista, 2022            São Paulo           SP   \n",
       "16               Av. Paulista, 2022            São Paulo           SP   \n",
       "17               Av. Paulista, 2022            São Paulo           SP   \n",
       "18               Av. Paulista, 2022            São Paulo           SP   \n",
       "19               Av. Paulista, 2022            São Paulo           SP   \n",
       "20               Av. Paulista, 2022            São Paulo           SP   \n",
       "21                 Praça Pio X, 119       Rio de Janeiro           RJ   \n",
       "22                 Praça Pio X, 119       Rio de Janeiro           RJ   \n",
       "23                 Praça Pio X, 119       Rio de Janeiro           RJ   \n",
       "24                 Praça Pio X, 119       Rio de Janeiro           RJ   \n",
       "25                 Praça Pio X, 119       Rio de Janeiro           RJ   \n",
       "26                 Praça Pio X, 119       Rio de Janeiro           RJ   \n",
       "27                 Praça Pio X, 119       Rio de Janeiro           RJ   \n",
       "28                     Qe 7 Bloco G             Brasília           DF   \n",
       "29                     Qe 7 Bloco G             Brasília           DF   \n",
       "30                     Qe 7 Bloco G             Brasília           DF   \n",
       "31                     Qe 7 Bloco G             Brasília           DF   \n",
       "32                     Qe 7 Bloco G             Brasília           DF   \n",
       "33                     Qe 7 Bloco G             Brasília           DF   \n",
       "34                     Qe 7 Bloco G             Brasília           DF   \n",
       "\n",
       "   BillingCountry BillingPostalCode  Total  \n",
       "0          Brazil         12227-000   3.98  \n",
       "1          Brazil         12227-000   3.96  \n",
       "2          Brazil         12227-000   5.94  \n",
       "3          Brazil         12227-000   0.99  \n",
       "4          Brazil         12227-000   1.98  \n",
       "5          Brazil         12227-000  13.86  \n",
       "6          Brazil         12227-000   8.91  \n",
       "7          Brazil         01007-010   8.91  \n",
       "8          Brazil         01007-010   1.98  \n",
       "9          Brazil         01007-010   3.96  \n",
       "10         Brazil         01007-010   5.94  \n",
       "11         Brazil         01007-010   0.99  \n",
       "12         Brazil         01007-010   1.98  \n",
       "13         Brazil         01007-010  13.86  \n",
       "14         Brazil         01310-200   1.98  \n",
       "15         Brazil         01310-200  13.86  \n",
       "16         Brazil         01310-200   8.91  \n",
       "17         Brazil         01310-200   1.98  \n",
       "18         Brazil         01310-200   3.96  \n",
       "19         Brazil         01310-200   5.94  \n",
       "20         Brazil         01310-200   0.99  \n",
       "21         Brazil         20040-020   0.99  \n",
       "22         Brazil         20040-020   1.98  \n",
       "23         Brazil         20040-020  13.86  \n",
       "24         Brazil         20040-020   8.91  \n",
       "25         Brazil         20040-020   1.98  \n",
       "26         Brazil         20040-020   3.96  \n",
       "27         Brazil         20040-020   5.94  \n",
       "28         Brazil         71020-677   1.98  \n",
       "29         Brazil         71020-677   3.96  \n",
       "30         Brazil         71020-677   5.94  \n",
       "31         Brazil         71020-677   0.99  \n",
       "32         Brazil         71020-677   1.98  \n",
       "33         Brazil         71020-677  13.86  \n",
       "34         Brazil         71020-677   8.91  "
      ],
      "text/html": "<div>\n<style scoped>\n    .dataframe tbody tr th:only-of-type {\n        vertical-align: middle;\n    }\n\n    .dataframe tbody tr th {\n        vertical-align: top;\n    }\n\n    .dataframe thead th {\n        text-align: right;\n    }\n</style>\n<table border=\"1\" class=\"dataframe\">\n  <thead>\n    <tr style=\"text-align: right;\">\n      <th></th>\n      <th>InvoiceId</th>\n      <th>CustomerId</th>\n      <th>InvoiceDate</th>\n      <th>BillingAddress</th>\n      <th>BillingCity</th>\n      <th>BillingState</th>\n      <th>BillingCountry</th>\n      <th>BillingPostalCode</th>\n      <th>Total</th>\n    </tr>\n  </thead>\n  <tbody>\n    <tr>\n      <th>0</th>\n      <td>98</td>\n      <td>1</td>\n      <td>2010-03-11 00:00:00</td>\n      <td>Av. Brigadeiro Faria Lima, 2170</td>\n      <td>São José dos Campos</td>\n      <td>SP</td>\n      <td>Brazil</td>\n      <td>12227-000</td>\n      <td>3.98</td>\n    </tr>\n    <tr>\n      <th>1</th>\n      <td>121</td>\n      <td>1</td>\n      <td>2010-06-13 00:00:00</td>\n      <td>Av. Brigadeiro Faria Lima, 2170</td>\n      <td>São José dos Campos</td>\n      <td>SP</td>\n      <td>Brazil</td>\n      <td>12227-000</td>\n      <td>3.96</td>\n    </tr>\n    <tr>\n      <th>2</th>\n      <td>143</td>\n      <td>1</td>\n      <td>2010-09-15 00:00:00</td>\n      <td>Av. Brigadeiro Faria Lima, 2170</td>\n      <td>São José dos Campos</td>\n      <td>SP</td>\n      <td>Brazil</td>\n      <td>12227-000</td>\n      <td>5.94</td>\n    </tr>\n    <tr>\n      <th>3</th>\n      <td>195</td>\n      <td>1</td>\n      <td>2011-05-06 00:00:00</td>\n      <td>Av. Brigadeiro Faria Lima, 2170</td>\n      <td>São José dos Campos</td>\n      <td>SP</td>\n      <td>Brazil</td>\n      <td>12227-000</td>\n      <td>0.99</td>\n    </tr>\n    <tr>\n      <th>4</th>\n      <td>316</td>\n      <td>1</td>\n      <td>2012-10-27 00:00:00</td>\n      <td>Av. Brigadeiro Faria Lima, 2170</td>\n      <td>São José dos Campos</td>\n      <td>SP</td>\n      <td>Brazil</td>\n      <td>12227-000</td>\n      <td>1.98</td>\n    </tr>\n    <tr>\n      <th>5</th>\n      <td>327</td>\n      <td>1</td>\n      <td>2012-12-07 00:00:00</td>\n      <td>Av. Brigadeiro Faria Lima, 2170</td>\n      <td>São José dos Campos</td>\n      <td>SP</td>\n      <td>Brazil</td>\n      <td>12227-000</td>\n      <td>13.86</td>\n    </tr>\n    <tr>\n      <th>6</th>\n      <td>382</td>\n      <td>1</td>\n      <td>2013-08-07 00:00:00</td>\n      <td>Av. Brigadeiro Faria Lima, 2170</td>\n      <td>São José dos Campos</td>\n      <td>SP</td>\n      <td>Brazil</td>\n      <td>12227-000</td>\n      <td>8.91</td>\n    </tr>\n    <tr>\n      <th>7</th>\n      <td>25</td>\n      <td>10</td>\n      <td>2009-04-09 00:00:00</td>\n      <td>Rua Dr. Falcão Filho, 155</td>\n      <td>São Paulo</td>\n      <td>SP</td>\n      <td>Brazil</td>\n      <td>01007-010</td>\n      <td>8.91</td>\n    </tr>\n    <tr>\n      <th>8</th>\n      <td>154</td>\n      <td>10</td>\n      <td>2010-11-14 00:00:00</td>\n      <td>Rua Dr. Falcão Filho, 155</td>\n      <td>São Paulo</td>\n      <td>SP</td>\n      <td>Brazil</td>\n      <td>01007-010</td>\n      <td>1.98</td>\n    </tr>\n    <tr>\n      <th>9</th>\n      <td>177</td>\n      <td>10</td>\n      <td>2011-02-16 00:00:00</td>\n      <td>Rua Dr. Falcão Filho, 155</td>\n      <td>São Paulo</td>\n      <td>SP</td>\n      <td>Brazil</td>\n      <td>01007-010</td>\n      <td>3.96</td>\n    </tr>\n    <tr>\n      <th>10</th>\n      <td>199</td>\n      <td>10</td>\n      <td>2011-05-21 00:00:00</td>\n      <td>Rua Dr. Falcão Filho, 155</td>\n      <td>São Paulo</td>\n      <td>SP</td>\n      <td>Brazil</td>\n      <td>01007-010</td>\n      <td>5.94</td>\n    </tr>\n    <tr>\n      <th>11</th>\n      <td>251</td>\n      <td>10</td>\n      <td>2012-01-09 00:00:00</td>\n      <td>Rua Dr. Falcão Filho, 155</td>\n      <td>São Paulo</td>\n      <td>SP</td>\n      <td>Brazil</td>\n      <td>01007-010</td>\n      <td>0.99</td>\n    </tr>\n    <tr>\n      <th>12</th>\n      <td>372</td>\n      <td>10</td>\n      <td>2013-07-02 00:00:00</td>\n      <td>Rua Dr. Falcão Filho, 155</td>\n      <td>São Paulo</td>\n      <td>SP</td>\n      <td>Brazil</td>\n      <td>01007-010</td>\n      <td>1.98</td>\n    </tr>\n    <tr>\n      <th>13</th>\n      <td>383</td>\n      <td>10</td>\n      <td>2013-08-12 00:00:00</td>\n      <td>Rua Dr. Falcão Filho, 155</td>\n      <td>São Paulo</td>\n      <td>SP</td>\n      <td>Brazil</td>\n      <td>01007-010</td>\n      <td>13.86</td>\n    </tr>\n    <tr>\n      <th>14</th>\n      <td>57</td>\n      <td>11</td>\n      <td>2009-09-06 00:00:00</td>\n      <td>Av. Paulista, 2022</td>\n      <td>São Paulo</td>\n      <td>SP</td>\n      <td>Brazil</td>\n      <td>01310-200</td>\n      <td>1.98</td>\n    </tr>\n    <tr>\n      <th>15</th>\n      <td>68</td>\n      <td>11</td>\n      <td>2009-10-17 00:00:00</td>\n      <td>Av. Paulista, 2022</td>\n      <td>São Paulo</td>\n      <td>SP</td>\n      <td>Brazil</td>\n      <td>01310-200</td>\n      <td>13.86</td>\n    </tr>\n    <tr>\n      <th>16</th>\n      <td>123</td>\n      <td>11</td>\n      <td>2010-06-17 00:00:00</td>\n      <td>Av. Paulista, 2022</td>\n      <td>São Paulo</td>\n      <td>SP</td>\n      <td>Brazil</td>\n      <td>01310-200</td>\n      <td>8.91</td>\n    </tr>\n    <tr>\n      <th>17</th>\n      <td>252</td>\n      <td>11</td>\n      <td>2012-01-22 00:00:00</td>\n      <td>Av. Paulista, 2022</td>\n      <td>São Paulo</td>\n      <td>SP</td>\n      <td>Brazil</td>\n      <td>01310-200</td>\n      <td>1.98</td>\n    </tr>\n    <tr>\n      <th>18</th>\n      <td>275</td>\n      <td>11</td>\n      <td>2012-04-25 00:00:00</td>\n      <td>Av. Paulista, 2022</td>\n      <td>São Paulo</td>\n      <td>SP</td>\n      <td>Brazil</td>\n      <td>01310-200</td>\n      <td>3.96</td>\n    </tr>\n    <tr>\n      <th>19</th>\n      <td>297</td>\n      <td>11</td>\n      <td>2012-07-28 00:00:00</td>\n      <td>Av. Paulista, 2022</td>\n      <td>São Paulo</td>\n      <td>SP</td>\n      <td>Brazil</td>\n      <td>01310-200</td>\n      <td>5.94</td>\n    </tr>\n    <tr>\n      <th>20</th>\n      <td>349</td>\n      <td>11</td>\n      <td>2013-03-18 00:00:00</td>\n      <td>Av. Paulista, 2022</td>\n      <td>São Paulo</td>\n      <td>SP</td>\n      <td>Brazil</td>\n      <td>01310-200</td>\n      <td>0.99</td>\n    </tr>\n    <tr>\n      <th>21</th>\n      <td>34</td>\n      <td>12</td>\n      <td>2009-05-23 00:00:00</td>\n      <td>Praça Pio X, 119</td>\n      <td>Rio de Janeiro</td>\n      <td>RJ</td>\n      <td>Brazil</td>\n      <td>20040-020</td>\n      <td>0.99</td>\n    </tr>\n    <tr>\n      <th>22</th>\n      <td>155</td>\n      <td>12</td>\n      <td>2010-11-14 00:00:00</td>\n      <td>Praça Pio X, 119</td>\n      <td>Rio de Janeiro</td>\n      <td>RJ</td>\n      <td>Brazil</td>\n      <td>20040-020</td>\n      <td>1.98</td>\n    </tr>\n    <tr>\n      <th>23</th>\n      <td>166</td>\n      <td>12</td>\n      <td>2010-12-25 00:00:00</td>\n      <td>Praça Pio X, 119</td>\n      <td>Rio de Janeiro</td>\n      <td>RJ</td>\n      <td>Brazil</td>\n      <td>20040-020</td>\n      <td>13.86</td>\n    </tr>\n    <tr>\n      <th>24</th>\n      <td>221</td>\n      <td>12</td>\n      <td>2011-08-25 00:00:00</td>\n      <td>Praça Pio X, 119</td>\n      <td>Rio de Janeiro</td>\n      <td>RJ</td>\n      <td>Brazil</td>\n      <td>20040-020</td>\n      <td>8.91</td>\n    </tr>\n    <tr>\n      <th>25</th>\n      <td>350</td>\n      <td>12</td>\n      <td>2013-03-31 00:00:00</td>\n      <td>Praça Pio X, 119</td>\n      <td>Rio de Janeiro</td>\n      <td>RJ</td>\n      <td>Brazil</td>\n      <td>20040-020</td>\n      <td>1.98</td>\n    </tr>\n    <tr>\n      <th>26</th>\n      <td>373</td>\n      <td>12</td>\n      <td>2013-07-03 00:00:00</td>\n      <td>Praça Pio X, 119</td>\n      <td>Rio de Janeiro</td>\n      <td>RJ</td>\n      <td>Brazil</td>\n      <td>20040-020</td>\n      <td>3.96</td>\n    </tr>\n    <tr>\n      <th>27</th>\n      <td>395</td>\n      <td>12</td>\n      <td>2013-10-05 00:00:00</td>\n      <td>Praça Pio X, 119</td>\n      <td>Rio de Janeiro</td>\n      <td>RJ</td>\n      <td>Brazil</td>\n      <td>20040-020</td>\n      <td>5.94</td>\n    </tr>\n    <tr>\n      <th>28</th>\n      <td>35</td>\n      <td>13</td>\n      <td>2009-06-05 00:00:00</td>\n      <td>Qe 7 Bloco G</td>\n      <td>Brasília</td>\n      <td>DF</td>\n      <td>Brazil</td>\n      <td>71020-677</td>\n      <td>1.98</td>\n    </tr>\n    <tr>\n      <th>29</th>\n      <td>58</td>\n      <td>13</td>\n      <td>2009-09-07 00:00:00</td>\n      <td>Qe 7 Bloco G</td>\n      <td>Brasília</td>\n      <td>DF</td>\n      <td>Brazil</td>\n      <td>71020-677</td>\n      <td>3.96</td>\n    </tr>\n    <tr>\n      <th>30</th>\n      <td>80</td>\n      <td>13</td>\n      <td>2009-12-10 00:00:00</td>\n      <td>Qe 7 Bloco G</td>\n      <td>Brasília</td>\n      <td>DF</td>\n      <td>Brazil</td>\n      <td>71020-677</td>\n      <td>5.94</td>\n    </tr>\n    <tr>\n      <th>31</th>\n      <td>132</td>\n      <td>13</td>\n      <td>2010-07-31 00:00:00</td>\n      <td>Qe 7 Bloco G</td>\n      <td>Brasília</td>\n      <td>DF</td>\n      <td>Brazil</td>\n      <td>71020-677</td>\n      <td>0.99</td>\n    </tr>\n    <tr>\n      <th>32</th>\n      <td>253</td>\n      <td>13</td>\n      <td>2012-01-22 00:00:00</td>\n      <td>Qe 7 Bloco G</td>\n      <td>Brasília</td>\n      <td>DF</td>\n      <td>Brazil</td>\n      <td>71020-677</td>\n      <td>1.98</td>\n    </tr>\n    <tr>\n      <th>33</th>\n      <td>264</td>\n      <td>13</td>\n      <td>2012-03-03 00:00:00</td>\n      <td>Qe 7 Bloco G</td>\n      <td>Brasília</td>\n      <td>DF</td>\n      <td>Brazil</td>\n      <td>71020-677</td>\n      <td>13.86</td>\n    </tr>\n    <tr>\n      <th>34</th>\n      <td>319</td>\n      <td>13</td>\n      <td>2012-11-01 00:00:00</td>\n      <td>Qe 7 Bloco G</td>\n      <td>Brasília</td>\n      <td>DF</td>\n      <td>Brazil</td>\n      <td>71020-677</td>\n      <td>8.91</td>\n    </tr>\n  </tbody>\n</table>\n</div>"
     },
     "metadata": {},
     "execution_count": 11
    }
   ],
   "source": [
    "query = \"\"\"\n",
    "SELECT i.*\n",
    "FROM customers as c\n",
    "JOIN invoices i ON c.CustomerId == i.CustomerId\n",
    "AND c.Country == 'Brazil'\n",
    "\"\"\"\n",
    "df = sql_query(query)\n",
    "df"
   ]
  },
  {
   "source": [
    "### 3.\tMuestra cada factura asociada a cada agente de ventas con su nombre completo."
   ],
   "cell_type": "markdown",
   "metadata": {}
  },
  {
   "cell_type": "code",
   "execution_count": 12,
   "metadata": {},
   "outputs": [
    {
     "output_type": "stream",
     "name": "stdout",
     "text": [
      "2.88 ms ± 280 µs per loop (mean ± std. dev. of 7 runs, 100 loops each)\n"
     ]
    }
   ],
   "source": [
    "%%timeit\n",
    "\n",
    "query = \"\"\"\n",
    "SELECT e.FirstName||' '||e.LastName as 'FullName', i.*\n",
    "FROM employees as e\n",
    "JOIN customers as c ON e.EmployeeId == c.SupportRepId\n",
    "JOIN invoices as i ON c.CustomerId == i.CustomerId\n",
    "\"\"\"\n",
    "df = sql_query(query)\n",
    "df"
   ]
  },
  {
   "cell_type": "code",
   "execution_count": 13,
   "metadata": {},
   "outputs": [
    {
     "output_type": "stream",
     "name": "stdout",
     "text": [
      "3.2 ms ± 396 µs per loop (mean ± std. dev. of 7 runs, 100 loops each)\n"
     ]
    }
   ],
   "source": [
    "%%timeit\n",
    "\n",
    "query = \"\"\"\n",
    "SELECT e.FirstName||' '||e.LastName as 'FullName', i.*\n",
    "FROM employees as e\n",
    "JOIN customers as c, invoices as i ON e.EmployeeId == c.SupportRepId\n",
    "AND c.CustomerId == i.CustomerId\n",
    "\"\"\"\n",
    "df = sql_query(query)\n",
    "df"
   ]
  },
  {
   "cell_type": "code",
   "execution_count": 14,
   "metadata": {},
   "outputs": [
    {
     "output_type": "execute_result",
     "data": {
      "text/plain": [
       "    InvoiceId  CustomerId          InvoiceDate  \\\n",
       "0          98           1  2010-03-11 00:00:00   \n",
       "1         121           1  2010-06-13 00:00:00   \n",
       "2         143           1  2010-09-15 00:00:00   \n",
       "3         195           1  2011-05-06 00:00:00   \n",
       "4         316           1  2012-10-27 00:00:00   \n",
       "5         327           1  2012-12-07 00:00:00   \n",
       "6         382           1  2013-08-07 00:00:00   \n",
       "7          25          10  2009-04-09 00:00:00   \n",
       "8         154          10  2010-11-14 00:00:00   \n",
       "9         177          10  2011-02-16 00:00:00   \n",
       "10        199          10  2011-05-21 00:00:00   \n",
       "11        251          10  2012-01-09 00:00:00   \n",
       "12        372          10  2013-07-02 00:00:00   \n",
       "13        383          10  2013-08-12 00:00:00   \n",
       "14         57          11  2009-09-06 00:00:00   \n",
       "15         68          11  2009-10-17 00:00:00   \n",
       "16        123          11  2010-06-17 00:00:00   \n",
       "17        252          11  2012-01-22 00:00:00   \n",
       "18        275          11  2012-04-25 00:00:00   \n",
       "19        297          11  2012-07-28 00:00:00   \n",
       "20        349          11  2013-03-18 00:00:00   \n",
       "21         34          12  2009-05-23 00:00:00   \n",
       "22        155          12  2010-11-14 00:00:00   \n",
       "23        166          12  2010-12-25 00:00:00   \n",
       "24        221          12  2011-08-25 00:00:00   \n",
       "25        350          12  2013-03-31 00:00:00   \n",
       "26        373          12  2013-07-03 00:00:00   \n",
       "27        395          12  2013-10-05 00:00:00   \n",
       "28         35          13  2009-06-05 00:00:00   \n",
       "29         58          13  2009-09-07 00:00:00   \n",
       "30         80          13  2009-12-10 00:00:00   \n",
       "31        132          13  2010-07-31 00:00:00   \n",
       "32        253          13  2012-01-22 00:00:00   \n",
       "33        264          13  2012-03-03 00:00:00   \n",
       "34        319          13  2012-11-01 00:00:00   \n",
       "\n",
       "                     BillingAddress          BillingCity BillingState  \\\n",
       "0   Av. Brigadeiro Faria Lima, 2170  São José dos Campos           SP   \n",
       "1   Av. Brigadeiro Faria Lima, 2170  São José dos Campos           SP   \n",
       "2   Av. Brigadeiro Faria Lima, 2170  São José dos Campos           SP   \n",
       "3   Av. Brigadeiro Faria Lima, 2170  São José dos Campos           SP   \n",
       "4   Av. Brigadeiro Faria Lima, 2170  São José dos Campos           SP   \n",
       "5   Av. Brigadeiro Faria Lima, 2170  São José dos Campos           SP   \n",
       "6   Av. Brigadeiro Faria Lima, 2170  São José dos Campos           SP   \n",
       "7         Rua Dr. Falcão Filho, 155            São Paulo           SP   \n",
       "8         Rua Dr. Falcão Filho, 155            São Paulo           SP   \n",
       "9         Rua Dr. Falcão Filho, 155            São Paulo           SP   \n",
       "10        Rua Dr. Falcão Filho, 155            São Paulo           SP   \n",
       "11        Rua Dr. Falcão Filho, 155            São Paulo           SP   \n",
       "12        Rua Dr. Falcão Filho, 155            São Paulo           SP   \n",
       "13        Rua Dr. Falcão Filho, 155            São Paulo           SP   \n",
       "14               Av. Paulista, 2022            São Paulo           SP   \n",
       "15               Av. Paulista, 2022            São Paulo           SP   \n",
       "16               Av. Paulista, 2022            São Paulo           SP   \n",
       "17               Av. Paulista, 2022            São Paulo           SP   \n",
       "18               Av. Paulista, 2022            São Paulo           SP   \n",
       "19               Av. Paulista, 2022            São Paulo           SP   \n",
       "20               Av. Paulista, 2022            São Paulo           SP   \n",
       "21                 Praça Pio X, 119       Rio de Janeiro           RJ   \n",
       "22                 Praça Pio X, 119       Rio de Janeiro           RJ   \n",
       "23                 Praça Pio X, 119       Rio de Janeiro           RJ   \n",
       "24                 Praça Pio X, 119       Rio de Janeiro           RJ   \n",
       "25                 Praça Pio X, 119       Rio de Janeiro           RJ   \n",
       "26                 Praça Pio X, 119       Rio de Janeiro           RJ   \n",
       "27                 Praça Pio X, 119       Rio de Janeiro           RJ   \n",
       "28                     Qe 7 Bloco G             Brasília           DF   \n",
       "29                     Qe 7 Bloco G             Brasília           DF   \n",
       "30                     Qe 7 Bloco G             Brasília           DF   \n",
       "31                     Qe 7 Bloco G             Brasília           DF   \n",
       "32                     Qe 7 Bloco G             Brasília           DF   \n",
       "33                     Qe 7 Bloco G             Brasília           DF   \n",
       "34                     Qe 7 Bloco G             Brasília           DF   \n",
       "\n",
       "   BillingCountry BillingPostalCode  Total  \n",
       "0          Brazil         12227-000   3.98  \n",
       "1          Brazil         12227-000   3.96  \n",
       "2          Brazil         12227-000   5.94  \n",
       "3          Brazil         12227-000   0.99  \n",
       "4          Brazil         12227-000   1.98  \n",
       "5          Brazil         12227-000  13.86  \n",
       "6          Brazil         12227-000   8.91  \n",
       "7          Brazil         01007-010   8.91  \n",
       "8          Brazil         01007-010   1.98  \n",
       "9          Brazil         01007-010   3.96  \n",
       "10         Brazil         01007-010   5.94  \n",
       "11         Brazil         01007-010   0.99  \n",
       "12         Brazil         01007-010   1.98  \n",
       "13         Brazil         01007-010  13.86  \n",
       "14         Brazil         01310-200   1.98  \n",
       "15         Brazil         01310-200  13.86  \n",
       "16         Brazil         01310-200   8.91  \n",
       "17         Brazil         01310-200   1.98  \n",
       "18         Brazil         01310-200   3.96  \n",
       "19         Brazil         01310-200   5.94  \n",
       "20         Brazil         01310-200   0.99  \n",
       "21         Brazil         20040-020   0.99  \n",
       "22         Brazil         20040-020   1.98  \n",
       "23         Brazil         20040-020  13.86  \n",
       "24         Brazil         20040-020   8.91  \n",
       "25         Brazil         20040-020   1.98  \n",
       "26         Brazil         20040-020   3.96  \n",
       "27         Brazil         20040-020   5.94  \n",
       "28         Brazil         71020-677   1.98  \n",
       "29         Brazil         71020-677   3.96  \n",
       "30         Brazil         71020-677   5.94  \n",
       "31         Brazil         71020-677   0.99  \n",
       "32         Brazil         71020-677   1.98  \n",
       "33         Brazil         71020-677  13.86  \n",
       "34         Brazil         71020-677   8.91  "
      ],
      "text/html": "<div>\n<style scoped>\n    .dataframe tbody tr th:only-of-type {\n        vertical-align: middle;\n    }\n\n    .dataframe tbody tr th {\n        vertical-align: top;\n    }\n\n    .dataframe thead th {\n        text-align: right;\n    }\n</style>\n<table border=\"1\" class=\"dataframe\">\n  <thead>\n    <tr style=\"text-align: right;\">\n      <th></th>\n      <th>InvoiceId</th>\n      <th>CustomerId</th>\n      <th>InvoiceDate</th>\n      <th>BillingAddress</th>\n      <th>BillingCity</th>\n      <th>BillingState</th>\n      <th>BillingCountry</th>\n      <th>BillingPostalCode</th>\n      <th>Total</th>\n    </tr>\n  </thead>\n  <tbody>\n    <tr>\n      <th>0</th>\n      <td>98</td>\n      <td>1</td>\n      <td>2010-03-11 00:00:00</td>\n      <td>Av. Brigadeiro Faria Lima, 2170</td>\n      <td>São José dos Campos</td>\n      <td>SP</td>\n      <td>Brazil</td>\n      <td>12227-000</td>\n      <td>3.98</td>\n    </tr>\n    <tr>\n      <th>1</th>\n      <td>121</td>\n      <td>1</td>\n      <td>2010-06-13 00:00:00</td>\n      <td>Av. Brigadeiro Faria Lima, 2170</td>\n      <td>São José dos Campos</td>\n      <td>SP</td>\n      <td>Brazil</td>\n      <td>12227-000</td>\n      <td>3.96</td>\n    </tr>\n    <tr>\n      <th>2</th>\n      <td>143</td>\n      <td>1</td>\n      <td>2010-09-15 00:00:00</td>\n      <td>Av. Brigadeiro Faria Lima, 2170</td>\n      <td>São José dos Campos</td>\n      <td>SP</td>\n      <td>Brazil</td>\n      <td>12227-000</td>\n      <td>5.94</td>\n    </tr>\n    <tr>\n      <th>3</th>\n      <td>195</td>\n      <td>1</td>\n      <td>2011-05-06 00:00:00</td>\n      <td>Av. Brigadeiro Faria Lima, 2170</td>\n      <td>São José dos Campos</td>\n      <td>SP</td>\n      <td>Brazil</td>\n      <td>12227-000</td>\n      <td>0.99</td>\n    </tr>\n    <tr>\n      <th>4</th>\n      <td>316</td>\n      <td>1</td>\n      <td>2012-10-27 00:00:00</td>\n      <td>Av. Brigadeiro Faria Lima, 2170</td>\n      <td>São José dos Campos</td>\n      <td>SP</td>\n      <td>Brazil</td>\n      <td>12227-000</td>\n      <td>1.98</td>\n    </tr>\n    <tr>\n      <th>5</th>\n      <td>327</td>\n      <td>1</td>\n      <td>2012-12-07 00:00:00</td>\n      <td>Av. Brigadeiro Faria Lima, 2170</td>\n      <td>São José dos Campos</td>\n      <td>SP</td>\n      <td>Brazil</td>\n      <td>12227-000</td>\n      <td>13.86</td>\n    </tr>\n    <tr>\n      <th>6</th>\n      <td>382</td>\n      <td>1</td>\n      <td>2013-08-07 00:00:00</td>\n      <td>Av. Brigadeiro Faria Lima, 2170</td>\n      <td>São José dos Campos</td>\n      <td>SP</td>\n      <td>Brazil</td>\n      <td>12227-000</td>\n      <td>8.91</td>\n    </tr>\n    <tr>\n      <th>7</th>\n      <td>25</td>\n      <td>10</td>\n      <td>2009-04-09 00:00:00</td>\n      <td>Rua Dr. Falcão Filho, 155</td>\n      <td>São Paulo</td>\n      <td>SP</td>\n      <td>Brazil</td>\n      <td>01007-010</td>\n      <td>8.91</td>\n    </tr>\n    <tr>\n      <th>8</th>\n      <td>154</td>\n      <td>10</td>\n      <td>2010-11-14 00:00:00</td>\n      <td>Rua Dr. Falcão Filho, 155</td>\n      <td>São Paulo</td>\n      <td>SP</td>\n      <td>Brazil</td>\n      <td>01007-010</td>\n      <td>1.98</td>\n    </tr>\n    <tr>\n      <th>9</th>\n      <td>177</td>\n      <td>10</td>\n      <td>2011-02-16 00:00:00</td>\n      <td>Rua Dr. Falcão Filho, 155</td>\n      <td>São Paulo</td>\n      <td>SP</td>\n      <td>Brazil</td>\n      <td>01007-010</td>\n      <td>3.96</td>\n    </tr>\n    <tr>\n      <th>10</th>\n      <td>199</td>\n      <td>10</td>\n      <td>2011-05-21 00:00:00</td>\n      <td>Rua Dr. Falcão Filho, 155</td>\n      <td>São Paulo</td>\n      <td>SP</td>\n      <td>Brazil</td>\n      <td>01007-010</td>\n      <td>5.94</td>\n    </tr>\n    <tr>\n      <th>11</th>\n      <td>251</td>\n      <td>10</td>\n      <td>2012-01-09 00:00:00</td>\n      <td>Rua Dr. Falcão Filho, 155</td>\n      <td>São Paulo</td>\n      <td>SP</td>\n      <td>Brazil</td>\n      <td>01007-010</td>\n      <td>0.99</td>\n    </tr>\n    <tr>\n      <th>12</th>\n      <td>372</td>\n      <td>10</td>\n      <td>2013-07-02 00:00:00</td>\n      <td>Rua Dr. Falcão Filho, 155</td>\n      <td>São Paulo</td>\n      <td>SP</td>\n      <td>Brazil</td>\n      <td>01007-010</td>\n      <td>1.98</td>\n    </tr>\n    <tr>\n      <th>13</th>\n      <td>383</td>\n      <td>10</td>\n      <td>2013-08-12 00:00:00</td>\n      <td>Rua Dr. Falcão Filho, 155</td>\n      <td>São Paulo</td>\n      <td>SP</td>\n      <td>Brazil</td>\n      <td>01007-010</td>\n      <td>13.86</td>\n    </tr>\n    <tr>\n      <th>14</th>\n      <td>57</td>\n      <td>11</td>\n      <td>2009-09-06 00:00:00</td>\n      <td>Av. Paulista, 2022</td>\n      <td>São Paulo</td>\n      <td>SP</td>\n      <td>Brazil</td>\n      <td>01310-200</td>\n      <td>1.98</td>\n    </tr>\n    <tr>\n      <th>15</th>\n      <td>68</td>\n      <td>11</td>\n      <td>2009-10-17 00:00:00</td>\n      <td>Av. Paulista, 2022</td>\n      <td>São Paulo</td>\n      <td>SP</td>\n      <td>Brazil</td>\n      <td>01310-200</td>\n      <td>13.86</td>\n    </tr>\n    <tr>\n      <th>16</th>\n      <td>123</td>\n      <td>11</td>\n      <td>2010-06-17 00:00:00</td>\n      <td>Av. Paulista, 2022</td>\n      <td>São Paulo</td>\n      <td>SP</td>\n      <td>Brazil</td>\n      <td>01310-200</td>\n      <td>8.91</td>\n    </tr>\n    <tr>\n      <th>17</th>\n      <td>252</td>\n      <td>11</td>\n      <td>2012-01-22 00:00:00</td>\n      <td>Av. Paulista, 2022</td>\n      <td>São Paulo</td>\n      <td>SP</td>\n      <td>Brazil</td>\n      <td>01310-200</td>\n      <td>1.98</td>\n    </tr>\n    <tr>\n      <th>18</th>\n      <td>275</td>\n      <td>11</td>\n      <td>2012-04-25 00:00:00</td>\n      <td>Av. Paulista, 2022</td>\n      <td>São Paulo</td>\n      <td>SP</td>\n      <td>Brazil</td>\n      <td>01310-200</td>\n      <td>3.96</td>\n    </tr>\n    <tr>\n      <th>19</th>\n      <td>297</td>\n      <td>11</td>\n      <td>2012-07-28 00:00:00</td>\n      <td>Av. Paulista, 2022</td>\n      <td>São Paulo</td>\n      <td>SP</td>\n      <td>Brazil</td>\n      <td>01310-200</td>\n      <td>5.94</td>\n    </tr>\n    <tr>\n      <th>20</th>\n      <td>349</td>\n      <td>11</td>\n      <td>2013-03-18 00:00:00</td>\n      <td>Av. Paulista, 2022</td>\n      <td>São Paulo</td>\n      <td>SP</td>\n      <td>Brazil</td>\n      <td>01310-200</td>\n      <td>0.99</td>\n    </tr>\n    <tr>\n      <th>21</th>\n      <td>34</td>\n      <td>12</td>\n      <td>2009-05-23 00:00:00</td>\n      <td>Praça Pio X, 119</td>\n      <td>Rio de Janeiro</td>\n      <td>RJ</td>\n      <td>Brazil</td>\n      <td>20040-020</td>\n      <td>0.99</td>\n    </tr>\n    <tr>\n      <th>22</th>\n      <td>155</td>\n      <td>12</td>\n      <td>2010-11-14 00:00:00</td>\n      <td>Praça Pio X, 119</td>\n      <td>Rio de Janeiro</td>\n      <td>RJ</td>\n      <td>Brazil</td>\n      <td>20040-020</td>\n      <td>1.98</td>\n    </tr>\n    <tr>\n      <th>23</th>\n      <td>166</td>\n      <td>12</td>\n      <td>2010-12-25 00:00:00</td>\n      <td>Praça Pio X, 119</td>\n      <td>Rio de Janeiro</td>\n      <td>RJ</td>\n      <td>Brazil</td>\n      <td>20040-020</td>\n      <td>13.86</td>\n    </tr>\n    <tr>\n      <th>24</th>\n      <td>221</td>\n      <td>12</td>\n      <td>2011-08-25 00:00:00</td>\n      <td>Praça Pio X, 119</td>\n      <td>Rio de Janeiro</td>\n      <td>RJ</td>\n      <td>Brazil</td>\n      <td>20040-020</td>\n      <td>8.91</td>\n    </tr>\n    <tr>\n      <th>25</th>\n      <td>350</td>\n      <td>12</td>\n      <td>2013-03-31 00:00:00</td>\n      <td>Praça Pio X, 119</td>\n      <td>Rio de Janeiro</td>\n      <td>RJ</td>\n      <td>Brazil</td>\n      <td>20040-020</td>\n      <td>1.98</td>\n    </tr>\n    <tr>\n      <th>26</th>\n      <td>373</td>\n      <td>12</td>\n      <td>2013-07-03 00:00:00</td>\n      <td>Praça Pio X, 119</td>\n      <td>Rio de Janeiro</td>\n      <td>RJ</td>\n      <td>Brazil</td>\n      <td>20040-020</td>\n      <td>3.96</td>\n    </tr>\n    <tr>\n      <th>27</th>\n      <td>395</td>\n      <td>12</td>\n      <td>2013-10-05 00:00:00</td>\n      <td>Praça Pio X, 119</td>\n      <td>Rio de Janeiro</td>\n      <td>RJ</td>\n      <td>Brazil</td>\n      <td>20040-020</td>\n      <td>5.94</td>\n    </tr>\n    <tr>\n      <th>28</th>\n      <td>35</td>\n      <td>13</td>\n      <td>2009-06-05 00:00:00</td>\n      <td>Qe 7 Bloco G</td>\n      <td>Brasília</td>\n      <td>DF</td>\n      <td>Brazil</td>\n      <td>71020-677</td>\n      <td>1.98</td>\n    </tr>\n    <tr>\n      <th>29</th>\n      <td>58</td>\n      <td>13</td>\n      <td>2009-09-07 00:00:00</td>\n      <td>Qe 7 Bloco G</td>\n      <td>Brasília</td>\n      <td>DF</td>\n      <td>Brazil</td>\n      <td>71020-677</td>\n      <td>3.96</td>\n    </tr>\n    <tr>\n      <th>30</th>\n      <td>80</td>\n      <td>13</td>\n      <td>2009-12-10 00:00:00</td>\n      <td>Qe 7 Bloco G</td>\n      <td>Brasília</td>\n      <td>DF</td>\n      <td>Brazil</td>\n      <td>71020-677</td>\n      <td>5.94</td>\n    </tr>\n    <tr>\n      <th>31</th>\n      <td>132</td>\n      <td>13</td>\n      <td>2010-07-31 00:00:00</td>\n      <td>Qe 7 Bloco G</td>\n      <td>Brasília</td>\n      <td>DF</td>\n      <td>Brazil</td>\n      <td>71020-677</td>\n      <td>0.99</td>\n    </tr>\n    <tr>\n      <th>32</th>\n      <td>253</td>\n      <td>13</td>\n      <td>2012-01-22 00:00:00</td>\n      <td>Qe 7 Bloco G</td>\n      <td>Brasília</td>\n      <td>DF</td>\n      <td>Brazil</td>\n      <td>71020-677</td>\n      <td>1.98</td>\n    </tr>\n    <tr>\n      <th>33</th>\n      <td>264</td>\n      <td>13</td>\n      <td>2012-03-03 00:00:00</td>\n      <td>Qe 7 Bloco G</td>\n      <td>Brasília</td>\n      <td>DF</td>\n      <td>Brazil</td>\n      <td>71020-677</td>\n      <td>13.86</td>\n    </tr>\n    <tr>\n      <th>34</th>\n      <td>319</td>\n      <td>13</td>\n      <td>2012-11-01 00:00:00</td>\n      <td>Qe 7 Bloco G</td>\n      <td>Brasília</td>\n      <td>DF</td>\n      <td>Brazil</td>\n      <td>71020-677</td>\n      <td>8.91</td>\n    </tr>\n  </tbody>\n</table>\n</div>"
     },
     "metadata": {},
     "execution_count": 14
    }
   ],
   "source": [
    "df"
   ]
  },
  {
   "source": [
    "### 4.\tPara cada factura muestra el nombre del cliente, el país, el nombre del agente y el total"
   ],
   "cell_type": "markdown",
   "metadata": {}
  },
  {
   "cell_type": "code",
   "execution_count": 15,
   "metadata": {},
   "outputs": [
    {
     "output_type": "execute_result",
     "data": {
      "text/plain": [
       "          ClientName BillingCountry     AgentName  Total\n",
       "0     Luís Gonçalves         Brazil  Jane Peacock   3.98\n",
       "1     Luís Gonçalves         Brazil  Jane Peacock   3.96\n",
       "2     Luís Gonçalves         Brazil  Jane Peacock   5.94\n",
       "3     Luís Gonçalves         Brazil  Jane Peacock   0.99\n",
       "4     Luís Gonçalves         Brazil  Jane Peacock   1.98\n",
       "..               ...            ...           ...    ...\n",
       "407  Puja Srivastava          India  Jane Peacock   5.94\n",
       "408  Puja Srivastava          India  Jane Peacock   1.99\n",
       "409  Puja Srivastava          India  Jane Peacock   1.98\n",
       "410  Puja Srivastava          India  Jane Peacock  13.86\n",
       "411  Puja Srivastava          India  Jane Peacock   8.91\n",
       "\n",
       "[412 rows x 4 columns]"
      ],
      "text/html": "<div>\n<style scoped>\n    .dataframe tbody tr th:only-of-type {\n        vertical-align: middle;\n    }\n\n    .dataframe tbody tr th {\n        vertical-align: top;\n    }\n\n    .dataframe thead th {\n        text-align: right;\n    }\n</style>\n<table border=\"1\" class=\"dataframe\">\n  <thead>\n    <tr style=\"text-align: right;\">\n      <th></th>\n      <th>ClientName</th>\n      <th>BillingCountry</th>\n      <th>AgentName</th>\n      <th>Total</th>\n    </tr>\n  </thead>\n  <tbody>\n    <tr>\n      <th>0</th>\n      <td>Luís Gonçalves</td>\n      <td>Brazil</td>\n      <td>Jane Peacock</td>\n      <td>3.98</td>\n    </tr>\n    <tr>\n      <th>1</th>\n      <td>Luís Gonçalves</td>\n      <td>Brazil</td>\n      <td>Jane Peacock</td>\n      <td>3.96</td>\n    </tr>\n    <tr>\n      <th>2</th>\n      <td>Luís Gonçalves</td>\n      <td>Brazil</td>\n      <td>Jane Peacock</td>\n      <td>5.94</td>\n    </tr>\n    <tr>\n      <th>3</th>\n      <td>Luís Gonçalves</td>\n      <td>Brazil</td>\n      <td>Jane Peacock</td>\n      <td>0.99</td>\n    </tr>\n    <tr>\n      <th>4</th>\n      <td>Luís Gonçalves</td>\n      <td>Brazil</td>\n      <td>Jane Peacock</td>\n      <td>1.98</td>\n    </tr>\n    <tr>\n      <th>...</th>\n      <td>...</td>\n      <td>...</td>\n      <td>...</td>\n      <td>...</td>\n    </tr>\n    <tr>\n      <th>407</th>\n      <td>Puja Srivastava</td>\n      <td>India</td>\n      <td>Jane Peacock</td>\n      <td>5.94</td>\n    </tr>\n    <tr>\n      <th>408</th>\n      <td>Puja Srivastava</td>\n      <td>India</td>\n      <td>Jane Peacock</td>\n      <td>1.99</td>\n    </tr>\n    <tr>\n      <th>409</th>\n      <td>Puja Srivastava</td>\n      <td>India</td>\n      <td>Jane Peacock</td>\n      <td>1.98</td>\n    </tr>\n    <tr>\n      <th>410</th>\n      <td>Puja Srivastava</td>\n      <td>India</td>\n      <td>Jane Peacock</td>\n      <td>13.86</td>\n    </tr>\n    <tr>\n      <th>411</th>\n      <td>Puja Srivastava</td>\n      <td>India</td>\n      <td>Jane Peacock</td>\n      <td>8.91</td>\n    </tr>\n  </tbody>\n</table>\n<p>412 rows × 4 columns</p>\n</div>"
     },
     "metadata": {},
     "execution_count": 15
    }
   ],
   "source": [
    "query = \"\"\"\n",
    "SELECT c.FirstName||' '||c.LastName as 'ClientName', i.BillingCountry, e.FirstName||' '||e.LastName as 'AgentName', i.total\n",
    "FROM employees as e\n",
    "JOIN customers as c, invoices as i ON e.EmployeeId == c.SupportRepId\n",
    "AND c.CustomerId == i.CustomerId\n",
    "\"\"\"\n",
    "df = sql_query(query)\n",
    "df"
   ]
  },
  {
   "source": [
    "### 5.\tMuestra cada artículo de la factura con el nombre de la canción."
   ],
   "cell_type": "markdown",
   "metadata": {}
  },
  {
   "cell_type": "code",
   "execution_count": 16,
   "metadata": {},
   "outputs": [
    {
     "output_type": "execute_result",
     "data": {
      "text/plain": [
       "      InvoiceLineId  InvoiceId  TrackId  UnitPrice  Quantity  \\\n",
       "0                 1          1        2       0.99         1   \n",
       "1                 2          1        4       0.99         1   \n",
       "2                 3          2        6       0.99         1   \n",
       "3                 4          2        8       0.99         1   \n",
       "4                 5          2       10       0.99         1   \n",
       "...             ...        ...      ...        ...       ...   \n",
       "2235           2236        411     3136       0.99         1   \n",
       "2236           2237        411     3145       0.99         1   \n",
       "2237           2238        411     3154       0.99         1   \n",
       "2238           2239        411     3163       0.99         1   \n",
       "2239           2240        412     3177       1.99         1   \n",
       "\n",
       "                                                   Name  \n",
       "0                                     Balls to the Wall  \n",
       "1                                     Restless and Wild  \n",
       "2                                 Put The Finger On You  \n",
       "3                                      Inject The Venom  \n",
       "4                                            Evil Walks  \n",
       "...                                                 ...  \n",
       "2235                                   Looking For Love  \n",
       "2236                                    Sweet Lady Luck  \n",
       "2237  Feirinha da Pavuna/Luz do Repente/Bagaço da La...  \n",
       "2238                                   Samba pras moças  \n",
       "2239                                           Hot Girl  \n",
       "\n",
       "[2240 rows x 6 columns]"
      ],
      "text/html": "<div>\n<style scoped>\n    .dataframe tbody tr th:only-of-type {\n        vertical-align: middle;\n    }\n\n    .dataframe tbody tr th {\n        vertical-align: top;\n    }\n\n    .dataframe thead th {\n        text-align: right;\n    }\n</style>\n<table border=\"1\" class=\"dataframe\">\n  <thead>\n    <tr style=\"text-align: right;\">\n      <th></th>\n      <th>InvoiceLineId</th>\n      <th>InvoiceId</th>\n      <th>TrackId</th>\n      <th>UnitPrice</th>\n      <th>Quantity</th>\n      <th>Name</th>\n    </tr>\n  </thead>\n  <tbody>\n    <tr>\n      <th>0</th>\n      <td>1</td>\n      <td>1</td>\n      <td>2</td>\n      <td>0.99</td>\n      <td>1</td>\n      <td>Balls to the Wall</td>\n    </tr>\n    <tr>\n      <th>1</th>\n      <td>2</td>\n      <td>1</td>\n      <td>4</td>\n      <td>0.99</td>\n      <td>1</td>\n      <td>Restless and Wild</td>\n    </tr>\n    <tr>\n      <th>2</th>\n      <td>3</td>\n      <td>2</td>\n      <td>6</td>\n      <td>0.99</td>\n      <td>1</td>\n      <td>Put The Finger On You</td>\n    </tr>\n    <tr>\n      <th>3</th>\n      <td>4</td>\n      <td>2</td>\n      <td>8</td>\n      <td>0.99</td>\n      <td>1</td>\n      <td>Inject The Venom</td>\n    </tr>\n    <tr>\n      <th>4</th>\n      <td>5</td>\n      <td>2</td>\n      <td>10</td>\n      <td>0.99</td>\n      <td>1</td>\n      <td>Evil Walks</td>\n    </tr>\n    <tr>\n      <th>...</th>\n      <td>...</td>\n      <td>...</td>\n      <td>...</td>\n      <td>...</td>\n      <td>...</td>\n      <td>...</td>\n    </tr>\n    <tr>\n      <th>2235</th>\n      <td>2236</td>\n      <td>411</td>\n      <td>3136</td>\n      <td>0.99</td>\n      <td>1</td>\n      <td>Looking For Love</td>\n    </tr>\n    <tr>\n      <th>2236</th>\n      <td>2237</td>\n      <td>411</td>\n      <td>3145</td>\n      <td>0.99</td>\n      <td>1</td>\n      <td>Sweet Lady Luck</td>\n    </tr>\n    <tr>\n      <th>2237</th>\n      <td>2238</td>\n      <td>411</td>\n      <td>3154</td>\n      <td>0.99</td>\n      <td>1</td>\n      <td>Feirinha da Pavuna/Luz do Repente/Bagaço da La...</td>\n    </tr>\n    <tr>\n      <th>2238</th>\n      <td>2239</td>\n      <td>411</td>\n      <td>3163</td>\n      <td>0.99</td>\n      <td>1</td>\n      <td>Samba pras moças</td>\n    </tr>\n    <tr>\n      <th>2239</th>\n      <td>2240</td>\n      <td>412</td>\n      <td>3177</td>\n      <td>1.99</td>\n      <td>1</td>\n      <td>Hot Girl</td>\n    </tr>\n  </tbody>\n</table>\n<p>2240 rows × 6 columns</p>\n</div>"
     },
     "metadata": {},
     "execution_count": 16
    }
   ],
   "source": [
    "query = \"\"\"\n",
    "SELECT i.*, t.Name\n",
    "FROM invoice_items as i\n",
    "JOIN tracks as t ON t.TrackId == i.TrackId\n",
    "\"\"\"\n",
    "df = sql_query(query)\n",
    "df"
   ]
  },
  {
   "source": [
    "### 6.\tMuestra todas las canciones con su nombre, formato, álbum y género."
   ],
   "cell_type": "markdown",
   "metadata": {}
  },
  {
   "cell_type": "code",
   "execution_count": 17,
   "metadata": {},
   "outputs": [
    {
     "output_type": "execute_result",
     "data": {
      "text/plain": [
       "                                                   Name  \\\n",
       "0               For Those About To Rock (We Salute You)   \n",
       "1                                     Balls to the Wall   \n",
       "2                                       Fast As a Shark   \n",
       "3                                     Restless and Wild   \n",
       "4                                  Princess of the Dawn   \n",
       "...                                                 ...   \n",
       "3498  Pini Di Roma (Pinien Von Rom) \\ I Pini Della V...   \n",
       "3499  String Quartet No. 12 in C Minor, D. 703 \"Quar...   \n",
       "3500               L'orfeo, Act 3, Sinfonia (Orchestra)   \n",
       "3501  Quintet for Horn, Violin, 2 Violas, and Cello ...   \n",
       "3502  Die Zauberflöte, K.620: \"Der Hölle Rache Kocht...   \n",
       "\n",
       "                        Format  \\\n",
       "0              MPEG audio file   \n",
       "1     Protected AAC audio file   \n",
       "2     Protected AAC audio file   \n",
       "3     Protected AAC audio file   \n",
       "4     Protected AAC audio file   \n",
       "...                        ...   \n",
       "3498  Protected AAC audio file   \n",
       "3499  Protected AAC audio file   \n",
       "3500  Protected AAC audio file   \n",
       "3501  Protected AAC audio file   \n",
       "3502  Protected AAC audio file   \n",
       "\n",
       "                                                  Album      Genre  \n",
       "0                 For Those About To Rock We Salute You       Rock  \n",
       "1                                     Balls to the Wall       Rock  \n",
       "2                                     Restless and Wild       Rock  \n",
       "3                                     Restless and Wild       Rock  \n",
       "4                                     Restless and Wild       Rock  \n",
       "...                                                 ...        ...  \n",
       "3498                             Respighi:Pines of Rome  Classical  \n",
       "3499  Schubert: The Late String Quartets & String Qu...  Classical  \n",
       "3500                                Monteverdi: L'Orfeo  Classical  \n",
       "3501                              Mozart: Chamber Music  Classical  \n",
       "3502                          Mozart Gala: Famous Arias      Opera  \n",
       "\n",
       "[3503 rows x 4 columns]"
      ],
      "text/html": "<div>\n<style scoped>\n    .dataframe tbody tr th:only-of-type {\n        vertical-align: middle;\n    }\n\n    .dataframe tbody tr th {\n        vertical-align: top;\n    }\n\n    .dataframe thead th {\n        text-align: right;\n    }\n</style>\n<table border=\"1\" class=\"dataframe\">\n  <thead>\n    <tr style=\"text-align: right;\">\n      <th></th>\n      <th>Name</th>\n      <th>Format</th>\n      <th>Album</th>\n      <th>Genre</th>\n    </tr>\n  </thead>\n  <tbody>\n    <tr>\n      <th>0</th>\n      <td>For Those About To Rock (We Salute You)</td>\n      <td>MPEG audio file</td>\n      <td>For Those About To Rock We Salute You</td>\n      <td>Rock</td>\n    </tr>\n    <tr>\n      <th>1</th>\n      <td>Balls to the Wall</td>\n      <td>Protected AAC audio file</td>\n      <td>Balls to the Wall</td>\n      <td>Rock</td>\n    </tr>\n    <tr>\n      <th>2</th>\n      <td>Fast As a Shark</td>\n      <td>Protected AAC audio file</td>\n      <td>Restless and Wild</td>\n      <td>Rock</td>\n    </tr>\n    <tr>\n      <th>3</th>\n      <td>Restless and Wild</td>\n      <td>Protected AAC audio file</td>\n      <td>Restless and Wild</td>\n      <td>Rock</td>\n    </tr>\n    <tr>\n      <th>4</th>\n      <td>Princess of the Dawn</td>\n      <td>Protected AAC audio file</td>\n      <td>Restless and Wild</td>\n      <td>Rock</td>\n    </tr>\n    <tr>\n      <th>...</th>\n      <td>...</td>\n      <td>...</td>\n      <td>...</td>\n      <td>...</td>\n    </tr>\n    <tr>\n      <th>3498</th>\n      <td>Pini Di Roma (Pinien Von Rom) \\ I Pini Della V...</td>\n      <td>Protected AAC audio file</td>\n      <td>Respighi:Pines of Rome</td>\n      <td>Classical</td>\n    </tr>\n    <tr>\n      <th>3499</th>\n      <td>String Quartet No. 12 in C Minor, D. 703 \"Quar...</td>\n      <td>Protected AAC audio file</td>\n      <td>Schubert: The Late String Quartets &amp; String Qu...</td>\n      <td>Classical</td>\n    </tr>\n    <tr>\n      <th>3500</th>\n      <td>L'orfeo, Act 3, Sinfonia (Orchestra)</td>\n      <td>Protected AAC audio file</td>\n      <td>Monteverdi: L'Orfeo</td>\n      <td>Classical</td>\n    </tr>\n    <tr>\n      <th>3501</th>\n      <td>Quintet for Horn, Violin, 2 Violas, and Cello ...</td>\n      <td>Protected AAC audio file</td>\n      <td>Mozart: Chamber Music</td>\n      <td>Classical</td>\n    </tr>\n    <tr>\n      <th>3502</th>\n      <td>Die Zauberflöte, K.620: \"Der Hölle Rache Kocht...</td>\n      <td>Protected AAC audio file</td>\n      <td>Mozart Gala: Famous Arias</td>\n      <td>Opera</td>\n    </tr>\n  </tbody>\n</table>\n<p>3503 rows × 4 columns</p>\n</div>"
     },
     "metadata": {},
     "execution_count": 17
    }
   ],
   "source": [
    "query = \"\"\"\n",
    "SELECT t.Name, mt.Name as 'Format', a.Title as 'Album', g.Name as 'Genre'\n",
    "FROM tracks as t\n",
    "JOIN media_types as mt ON mt.MediaTypeId == t.MediaTypeId\n",
    "JOIN albums as a ON a.AlbumId == t.AlbumId\n",
    "JOIN genres as g ON g.GenreId == t.GenreId\n",
    "\"\"\"\n",
    "df = sql_query(query)\n",
    "df"
   ]
  },
  {
   "source": [
    "### 7.\tMuestra cuántas canciones hay en cada playlist y el nombre de cada playlist."
   ],
   "cell_type": "markdown",
   "metadata": {}
  },
  {
   "cell_type": "code",
   "execution_count": 23,
   "metadata": {},
   "outputs": [
    {
     "output_type": "execute_result",
     "data": {
      "text/plain": [
       "                      Playlist  Nº Songs\n",
       "0                        Music      3290\n",
       "1                     TV Shows       213\n",
       "2                   90’s Music      1477\n",
       "3                        Music      3290\n",
       "4                 Music Videos         1\n",
       "5                     TV Shows       213\n",
       "6              Brazilian Music        39\n",
       "7                    Classical        75\n",
       "8    Classical 101 - Deep Cuts        25\n",
       "9   Classical 101 - Next Steps        25\n",
       "10  Classical 101 - The Basics        25\n",
       "11                      Grunge        15\n",
       "12         Heavy Metal Classic        26\n",
       "13                 On-The-Go 1         1"
      ],
      "text/html": "<div>\n<style scoped>\n    .dataframe tbody tr th:only-of-type {\n        vertical-align: middle;\n    }\n\n    .dataframe tbody tr th {\n        vertical-align: top;\n    }\n\n    .dataframe thead th {\n        text-align: right;\n    }\n</style>\n<table border=\"1\" class=\"dataframe\">\n  <thead>\n    <tr style=\"text-align: right;\">\n      <th></th>\n      <th>Playlist</th>\n      <th>Nº Songs</th>\n    </tr>\n  </thead>\n  <tbody>\n    <tr>\n      <th>0</th>\n      <td>Music</td>\n      <td>3290</td>\n    </tr>\n    <tr>\n      <th>1</th>\n      <td>TV Shows</td>\n      <td>213</td>\n    </tr>\n    <tr>\n      <th>2</th>\n      <td>90’s Music</td>\n      <td>1477</td>\n    </tr>\n    <tr>\n      <th>3</th>\n      <td>Music</td>\n      <td>3290</td>\n    </tr>\n    <tr>\n      <th>4</th>\n      <td>Music Videos</td>\n      <td>1</td>\n    </tr>\n    <tr>\n      <th>5</th>\n      <td>TV Shows</td>\n      <td>213</td>\n    </tr>\n    <tr>\n      <th>6</th>\n      <td>Brazilian Music</td>\n      <td>39</td>\n    </tr>\n    <tr>\n      <th>7</th>\n      <td>Classical</td>\n      <td>75</td>\n    </tr>\n    <tr>\n      <th>8</th>\n      <td>Classical 101 - Deep Cuts</td>\n      <td>25</td>\n    </tr>\n    <tr>\n      <th>9</th>\n      <td>Classical 101 - Next Steps</td>\n      <td>25</td>\n    </tr>\n    <tr>\n      <th>10</th>\n      <td>Classical 101 - The Basics</td>\n      <td>25</td>\n    </tr>\n    <tr>\n      <th>11</th>\n      <td>Grunge</td>\n      <td>15</td>\n    </tr>\n    <tr>\n      <th>12</th>\n      <td>Heavy Metal Classic</td>\n      <td>26</td>\n    </tr>\n    <tr>\n      <th>13</th>\n      <td>On-The-Go 1</td>\n      <td>1</td>\n    </tr>\n  </tbody>\n</table>\n</div>"
     },
     "metadata": {},
     "execution_count": 23
    }
   ],
   "source": [
    "query = \"\"\"\n",
    "SELECT p.Name as 'Playlist', COUNT(*) as 'Nº Songs'\n",
    "FROM playlist_track pt\n",
    "JOIN playlists p ON p.PlaylistId == pt.PlaylistId\n",
    "GROUP BY p.PLaylistId\n",
    "\"\"\"\n",
    "df = sql_query(query)\n",
    "df"
   ]
  },
  {
   "source": [
    "### 8.\tMuestra cuánto ha vendido cada empleado."
   ],
   "cell_type": "markdown",
   "metadata": {}
  },
  {
   "source": [
    "query = \"\"\"\n",
    "SELECT e.FirstName||' '||e.LastName as 'Employee', SUM(Total) as 'Sales'\n",
    "FROM invoices i\n",
    "JOIN customers c ON c.CustomerId == i.CustomerId\n",
    "JOIN employees e ON c.SupportRepId == e.EmployeeId\n",
    "GROUP BY e.EmployeeId\n",
    "\"\"\"\n",
    "df = sql_query(query)\n",
    "df"
   ],
   "cell_type": "code",
   "metadata": {},
   "execution_count": 26,
   "outputs": [
    {
     "output_type": "execute_result",
     "data": {
      "text/plain": [
       "        Employee   Sales\n",
       "0   Jane Peacock  833.04\n",
       "1  Margaret Park  775.40\n",
       "2  Steve Johnson  720.16"
      ],
      "text/html": "<div>\n<style scoped>\n    .dataframe tbody tr th:only-of-type {\n        vertical-align: middle;\n    }\n\n    .dataframe tbody tr th {\n        vertical-align: top;\n    }\n\n    .dataframe thead th {\n        text-align: right;\n    }\n</style>\n<table border=\"1\" class=\"dataframe\">\n  <thead>\n    <tr style=\"text-align: right;\">\n      <th></th>\n      <th>Employee</th>\n      <th>Sales</th>\n    </tr>\n  </thead>\n  <tbody>\n    <tr>\n      <th>0</th>\n      <td>Jane Peacock</td>\n      <td>833.04</td>\n    </tr>\n    <tr>\n      <th>1</th>\n      <td>Margaret Park</td>\n      <td>775.40</td>\n    </tr>\n    <tr>\n      <th>2</th>\n      <td>Steve Johnson</td>\n      <td>720.16</td>\n    </tr>\n  </tbody>\n</table>\n</div>"
     },
     "metadata": {},
     "execution_count": 26
    }
   ]
  },
  {
   "source": [
    "### 9.\t¿Quién ha sido el agente de ventas que más ha vendido en 2009?"
   ],
   "cell_type": "markdown",
   "metadata": {}
  },
  {
   "cell_type": "code",
   "execution_count": 35,
   "metadata": {},
   "outputs": [
    {
     "output_type": "execute_result",
     "data": {
      "text/plain": [
       "        Employee   Sales\n",
       "0  Steve Johnson  164.34"
      ],
      "text/html": "<div>\n<style scoped>\n    .dataframe tbody tr th:only-of-type {\n        vertical-align: middle;\n    }\n\n    .dataframe tbody tr th {\n        vertical-align: top;\n    }\n\n    .dataframe thead th {\n        text-align: right;\n    }\n</style>\n<table border=\"1\" class=\"dataframe\">\n  <thead>\n    <tr style=\"text-align: right;\">\n      <th></th>\n      <th>Employee</th>\n      <th>Sales</th>\n    </tr>\n  </thead>\n  <tbody>\n    <tr>\n      <th>0</th>\n      <td>Steve Johnson</td>\n      <td>164.34</td>\n    </tr>\n  </tbody>\n</table>\n</div>"
     },
     "metadata": {},
     "execution_count": 35
    }
   ],
   "source": [
    "query = \"\"\"\n",
    "SELECT e.FirstName||' '||e.LastName as 'Employee', SUM(Total) as 'Sales'\n",
    "FROM invoices i\n",
    "JOIN customers c ON c.CustomerId == i.CustomerId\n",
    "JOIN employees e ON c.SupportRepId == e.EmployeeId\n",
    "WHERE i.InvoiceDate LIKE '2009%'\n",
    "GROUP BY e.EmployeeId\n",
    "ORDER BY Sales DESC\n",
    "LIMIT 1\n",
    "\"\"\"\n",
    "df = sql_query(query)\n",
    "df"
   ]
  },
  {
   "source": [
    "### 10.\t¿Cuáles son los 3 grupos que más han vendido?"
   ],
   "cell_type": "markdown",
   "metadata": {}
  },
  {
   "cell_type": "code",
   "execution_count": 39,
   "metadata": {},
   "outputs": [
    {
     "output_type": "execute_result",
     "data": {
      "text/plain": [
       "         Grupo    Sales\n",
       "0  Iron Maiden  1233.54\n",
       "1           U2   895.59\n",
       "2         Lost   833.70"
      ],
      "text/html": "<div>\n<style scoped>\n    .dataframe tbody tr th:only-of-type {\n        vertical-align: middle;\n    }\n\n    .dataframe tbody tr th {\n        vertical-align: top;\n    }\n\n    .dataframe thead th {\n        text-align: right;\n    }\n</style>\n<table border=\"1\" class=\"dataframe\">\n  <thead>\n    <tr style=\"text-align: right;\">\n      <th></th>\n      <th>Grupo</th>\n      <th>Sales</th>\n    </tr>\n  </thead>\n  <tbody>\n    <tr>\n      <th>0</th>\n      <td>Iron Maiden</td>\n      <td>1233.54</td>\n    </tr>\n    <tr>\n      <th>1</th>\n      <td>U2</td>\n      <td>895.59</td>\n    </tr>\n    <tr>\n      <th>2</th>\n      <td>Lost</td>\n      <td>833.70</td>\n    </tr>\n  </tbody>\n</table>\n</div>"
     },
     "metadata": {},
     "execution_count": 39
    }
   ],
   "source": [
    "query = \"\"\"\n",
    "SELECT a.Name as 'Grupo', SUM(Total) as 'Sales'\n",
    "FROM artists a\n",
    "JOIN albums al ON a.ArtistId == al.ArtistId\n",
    "JOIN tracks t ON al.AlbumId == t.AlbumId\n",
    "JOIN invoice_items ii ON ii.TrackId == t.TrackId\n",
    "JOIN invoices i ON ii.InvoiceId == i.InvoiceId\n",
    "GROUP BY a.ArtistId\n",
    "ORDER BY Sales DESC\n",
    "LIMIT 3\n",
    "\"\"\"\n",
    "df = sql_query(query)\n",
    "df"
   ]
  },
  {
   "source": [
    "### 11. Muestra cuántas canciones de Rock hay en cada playlist"
   ],
   "cell_type": "markdown",
   "metadata": {}
  },
  {
   "cell_type": "code",
   "execution_count": 40,
   "metadata": {},
   "outputs": [
    {
     "output_type": "execute_result",
     "data": {
      "text/plain": [
       "              Playlist  Nº canciones Rock\n",
       "0                Music               1297\n",
       "1           90’s Music                621\n",
       "2                Music               1297\n",
       "3               Grunge                 14\n",
       "4  Heavy Metal Classic                  9"
      ],
      "text/html": "<div>\n<style scoped>\n    .dataframe tbody tr th:only-of-type {\n        vertical-align: middle;\n    }\n\n    .dataframe tbody tr th {\n        vertical-align: top;\n    }\n\n    .dataframe thead th {\n        text-align: right;\n    }\n</style>\n<table border=\"1\" class=\"dataframe\">\n  <thead>\n    <tr style=\"text-align: right;\">\n      <th></th>\n      <th>Playlist</th>\n      <th>Nº canciones Rock</th>\n    </tr>\n  </thead>\n  <tbody>\n    <tr>\n      <th>0</th>\n      <td>Music</td>\n      <td>1297</td>\n    </tr>\n    <tr>\n      <th>1</th>\n      <td>90’s Music</td>\n      <td>621</td>\n    </tr>\n    <tr>\n      <th>2</th>\n      <td>Music</td>\n      <td>1297</td>\n    </tr>\n    <tr>\n      <th>3</th>\n      <td>Grunge</td>\n      <td>14</td>\n    </tr>\n    <tr>\n      <th>4</th>\n      <td>Heavy Metal Classic</td>\n      <td>9</td>\n    </tr>\n  </tbody>\n</table>\n</div>"
     },
     "metadata": {},
     "execution_count": 40
    }
   ],
   "source": [
    "query = \"\"\"\n",
    "SELECT p.Name as 'Playlist', COUNT(*) as 'Nº canciones Rock'\n",
    "FROM genres g\n",
    "JOIN tracks t ON g.GenreId == t.GenreId\n",
    "JOIN playlist_track pt ON t.TrackId == pt.TrackId\n",
    "JOIN playlists p ON pt.PlaylistId == p.PlaylistId\n",
    "WHERE g.Name == 'Rock'\n",
    "GROUP BY p.PlaylistId\n",
    "\"\"\"\n",
    "df = sql_query(query)\n",
    "df"
   ]
  },
  {
   "source": [
    "### 12. Muestra una tabla con todas canciones y su(s) Id de factura, hayan sido vendidas alguna vez o no."
   ],
   "cell_type": "markdown",
   "metadata": {}
  },
  {
   "cell_type": "code",
   "execution_count": 52,
   "metadata": {},
   "outputs": [
    {
     "output_type": "execute_result",
     "data": {
      "text/plain": [
       "                                              Song Name  InvoiceId\n",
       "0               For Those About To Rock (We Salute You)      108.0\n",
       "1                                     Balls to the Wall        1.0\n",
       "2                                     Balls to the Wall      214.0\n",
       "3                                       Fast As a Shark      319.0\n",
       "4                                     Restless and Wild        1.0\n",
       "...                                                 ...        ...\n",
       "3754  String Quartet No. 12 in C Minor, D. 703 \"Quar...      108.0\n",
       "3755  String Quartet No. 12 in C Minor, D. 703 \"Quar...      319.0\n",
       "3756               L'orfeo, Act 3, Sinfonia (Orchestra)        NaN\n",
       "3757  Quintet for Horn, Violin, 2 Violas, and Cello ...        NaN\n",
       "3758                                      Koyaanisqatsi        NaN\n",
       "\n",
       "[3759 rows x 2 columns]"
      ],
      "text/html": "<div>\n<style scoped>\n    .dataframe tbody tr th:only-of-type {\n        vertical-align: middle;\n    }\n\n    .dataframe tbody tr th {\n        vertical-align: top;\n    }\n\n    .dataframe thead th {\n        text-align: right;\n    }\n</style>\n<table border=\"1\" class=\"dataframe\">\n  <thead>\n    <tr style=\"text-align: right;\">\n      <th></th>\n      <th>Song Name</th>\n      <th>InvoiceId</th>\n    </tr>\n  </thead>\n  <tbody>\n    <tr>\n      <th>0</th>\n      <td>For Those About To Rock (We Salute You)</td>\n      <td>108.0</td>\n    </tr>\n    <tr>\n      <th>1</th>\n      <td>Balls to the Wall</td>\n      <td>1.0</td>\n    </tr>\n    <tr>\n      <th>2</th>\n      <td>Balls to the Wall</td>\n      <td>214.0</td>\n    </tr>\n    <tr>\n      <th>3</th>\n      <td>Fast As a Shark</td>\n      <td>319.0</td>\n    </tr>\n    <tr>\n      <th>4</th>\n      <td>Restless and Wild</td>\n      <td>1.0</td>\n    </tr>\n    <tr>\n      <th>...</th>\n      <td>...</td>\n      <td>...</td>\n    </tr>\n    <tr>\n      <th>3754</th>\n      <td>String Quartet No. 12 in C Minor, D. 703 \"Quar...</td>\n      <td>108.0</td>\n    </tr>\n    <tr>\n      <th>3755</th>\n      <td>String Quartet No. 12 in C Minor, D. 703 \"Quar...</td>\n      <td>319.0</td>\n    </tr>\n    <tr>\n      <th>3756</th>\n      <td>L'orfeo, Act 3, Sinfonia (Orchestra)</td>\n      <td>NaN</td>\n    </tr>\n    <tr>\n      <th>3757</th>\n      <td>Quintet for Horn, Violin, 2 Violas, and Cello ...</td>\n      <td>NaN</td>\n    </tr>\n    <tr>\n      <th>3758</th>\n      <td>Koyaanisqatsi</td>\n      <td>NaN</td>\n    </tr>\n  </tbody>\n</table>\n<p>3759 rows × 2 columns</p>\n</div>"
     },
     "metadata": {},
     "execution_count": 52
    }
   ],
   "source": [
    "query = \"\"\"\n",
    "SELECT t.Name as 'Song Name', i.InvoiceId\n",
    "FROM tracks t\n",
    "LEFT JOIN invoice_items i ON t.TrackId == i.TrackId\n",
    "\"\"\"\n",
    "df = sql_query(query)\n",
    "df"
   ]
  },
  {
   "source": [
    "### 13. ¿Cuántos artistas no tienen ningún album?"
   ],
   "cell_type": "markdown",
   "metadata": {}
  },
  {
   "cell_type": "code",
   "execution_count": 18,
   "metadata": {},
   "outputs": [
    {
     "output_type": "execute_result",
     "data": {
      "text/plain": [
       "   Artistas sin Album\n",
       "0                  71"
      ],
      "text/html": "<div>\n<style scoped>\n    .dataframe tbody tr th:only-of-type {\n        vertical-align: middle;\n    }\n\n    .dataframe tbody tr th {\n        vertical-align: top;\n    }\n\n    .dataframe thead th {\n        text-align: right;\n    }\n</style>\n<table border=\"1\" class=\"dataframe\">\n  <thead>\n    <tr style=\"text-align: right;\">\n      <th></th>\n      <th>Artistas sin Album</th>\n    </tr>\n  </thead>\n  <tbody>\n    <tr>\n      <th>0</th>\n      <td>71</td>\n    </tr>\n  </tbody>\n</table>\n</div>"
     },
     "metadata": {},
     "execution_count": 18
    }
   ],
   "source": [
    "query = \"\"\"\n",
    "SELECT COUNT(*) as 'Artistas sin Album'\n",
    "FROM artists a\n",
    "LEFT JOIN albums b ON a.ArtistId == b.ArtistId\n",
    "WHERE b.Title IS NULL\n",
    "\"\"\"\n",
    "df = sql_query(query)\n",
    "df"
   ]
  },
  {
   "cell_type": "code",
   "execution_count": null,
   "metadata": {},
   "outputs": [],
   "source": []
  }
 ]
}