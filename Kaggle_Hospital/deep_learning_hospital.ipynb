{
 "metadata": {
  "language_info": {
   "codemirror_mode": {
    "name": "ipython",
    "version": 3
   },
   "file_extension": ".py",
   "mimetype": "text/x-python",
   "name": "python",
   "nbconvert_exporter": "python",
   "pygments_lexer": "ipython3",
   "version": "3.7.4"
  },
  "orig_nbformat": 4,
  "kernelspec": {
   "name": "python3",
   "display_name": "Python 3.7.4 64-bit"
  },
  "interpreter": {
   "hash": "674dfd6ded4398e0679ff4f65e9a10a54ff0d14801bec0126172cfc3973d1cf1"
  }
 },
 "nbformat": 4,
 "nbformat_minor": 2,
 "cells": [
  {
   "cell_type": "code",
   "execution_count": 1,
   "metadata": {},
   "outputs": [],
   "source": [
    "import tensorflow as tf\n",
    "from tensorflow import keras\n",
    "from tensorflow.keras import layers\n",
    "\n",
    "import pandas as pd\n",
    "import numpy as np\n",
    "\n",
    "from sklearn.model_selection import train_test_split\n",
    "from sklearn.metrics import accuracy_score\n",
    "from sklearn.preprocessing import LabelEncoder\n",
    "from sklearn.impute import SimpleImputer"
   ]
  },
  {
   "cell_type": "code",
   "execution_count": 2,
   "metadata": {},
   "outputs": [],
   "source": [
    "df = pd.read_csv(\"hospital_train.csv\", index_col=0)"
   ]
  },
  {
   "cell_type": "code",
   "execution_count": 42,
   "metadata": {},
   "outputs": [
    {
     "output_type": "execute_result",
     "data": {
      "text/plain": [
       "         1  2   3  4  5           6  7  8    9      10    11         12  \\\n",
       "0                                                                         \n",
       "161528   6  a   6  X  2  gynecology  R  F  4.0   45810   2.0     Urgent   \n",
       "159472  23  a   6  X  4  gynecology  Q  F  2.0  128565  15.0     Trauma   \n",
       "309765   2  c   5  Z  2  anesthesia  S  F  3.0   46565   5.0     Urgent   \n",
       "279614  32  f   9  Y  3  gynecology  S  B  4.0  124546   6.0  Emergency   \n",
       "147791  14  a   1  X  3  gynecology  S  E  2.0   22729   8.0     Urgent   \n",
       "...     .. ..  .. .. ..         ... .. ..  ...     ...   ...        ...   \n",
       "237869  12  a   9  Y  3  gynecology  R  B  3.0   82914   3.0  Emergency   \n",
       "254763  28  b  11  X  2  gynecology  R  F  2.0   40026   5.0     Urgent   \n",
       "69788    6  a   6  X  3  gynecology  Q  F  3.0   92346   2.0     Trauma   \n",
       "204442  32  f   9  Y  2  gynecology  S  B  4.0  113798  15.0     Trauma   \n",
       "69647   25  e   1  X  3  gynecology  Q  E  2.0  109237   8.0  Emergency   \n",
       "\n",
       "              13  14     15      16                  17  \n",
       "0                                                        \n",
       "161528  Moderate   2  21-30  2817.0                0-10  \n",
       "159472  Moderate   4  51-60  4498.0               21-30  \n",
       "309765  Moderate   2  71-80  4573.0               11-20  \n",
       "279614  Moderate   4  11-20  7202.0               51-60  \n",
       "147791  Moderate   2  51-60  3398.0               51-60  \n",
       "...          ...  ..    ...     ...                 ...  \n",
       "237869  Moderate   6  51-60  3966.0  More than 100 Days  \n",
       "254763  Moderate   3  21-30  4005.0               51-60  \n",
       "69788      Minor   2  31-40  5215.0               31-40  \n",
       "204442  Moderate   3  41-50  5092.0               11-20  \n",
       "69647   Moderate   2  41-50  3390.0               41-50  \n",
       "\n",
       "[100000 rows x 17 columns]"
      ],
      "text/html": "<div>\n<style scoped>\n    .dataframe tbody tr th:only-of-type {\n        vertical-align: middle;\n    }\n\n    .dataframe tbody tr th {\n        vertical-align: top;\n    }\n\n    .dataframe thead th {\n        text-align: right;\n    }\n</style>\n<table border=\"1\" class=\"dataframe\">\n  <thead>\n    <tr style=\"text-align: right;\">\n      <th></th>\n      <th>1</th>\n      <th>2</th>\n      <th>3</th>\n      <th>4</th>\n      <th>5</th>\n      <th>6</th>\n      <th>7</th>\n      <th>8</th>\n      <th>9</th>\n      <th>10</th>\n      <th>11</th>\n      <th>12</th>\n      <th>13</th>\n      <th>14</th>\n      <th>15</th>\n      <th>16</th>\n      <th>17</th>\n    </tr>\n    <tr>\n      <th>0</th>\n      <th></th>\n      <th></th>\n      <th></th>\n      <th></th>\n      <th></th>\n      <th></th>\n      <th></th>\n      <th></th>\n      <th></th>\n      <th></th>\n      <th></th>\n      <th></th>\n      <th></th>\n      <th></th>\n      <th></th>\n      <th></th>\n      <th></th>\n    </tr>\n  </thead>\n  <tbody>\n    <tr>\n      <th>161528</th>\n      <td>6</td>\n      <td>a</td>\n      <td>6</td>\n      <td>X</td>\n      <td>2</td>\n      <td>gynecology</td>\n      <td>R</td>\n      <td>F</td>\n      <td>4.0</td>\n      <td>45810</td>\n      <td>2.0</td>\n      <td>Urgent</td>\n      <td>Moderate</td>\n      <td>2</td>\n      <td>21-30</td>\n      <td>2817.0</td>\n      <td>0-10</td>\n    </tr>\n    <tr>\n      <th>159472</th>\n      <td>23</td>\n      <td>a</td>\n      <td>6</td>\n      <td>X</td>\n      <td>4</td>\n      <td>gynecology</td>\n      <td>Q</td>\n      <td>F</td>\n      <td>2.0</td>\n      <td>128565</td>\n      <td>15.0</td>\n      <td>Trauma</td>\n      <td>Moderate</td>\n      <td>4</td>\n      <td>51-60</td>\n      <td>4498.0</td>\n      <td>21-30</td>\n    </tr>\n    <tr>\n      <th>309765</th>\n      <td>2</td>\n      <td>c</td>\n      <td>5</td>\n      <td>Z</td>\n      <td>2</td>\n      <td>anesthesia</td>\n      <td>S</td>\n      <td>F</td>\n      <td>3.0</td>\n      <td>46565</td>\n      <td>5.0</td>\n      <td>Urgent</td>\n      <td>Moderate</td>\n      <td>2</td>\n      <td>71-80</td>\n      <td>4573.0</td>\n      <td>11-20</td>\n    </tr>\n    <tr>\n      <th>279614</th>\n      <td>32</td>\n      <td>f</td>\n      <td>9</td>\n      <td>Y</td>\n      <td>3</td>\n      <td>gynecology</td>\n      <td>S</td>\n      <td>B</td>\n      <td>4.0</td>\n      <td>124546</td>\n      <td>6.0</td>\n      <td>Emergency</td>\n      <td>Moderate</td>\n      <td>4</td>\n      <td>11-20</td>\n      <td>7202.0</td>\n      <td>51-60</td>\n    </tr>\n    <tr>\n      <th>147791</th>\n      <td>14</td>\n      <td>a</td>\n      <td>1</td>\n      <td>X</td>\n      <td>3</td>\n      <td>gynecology</td>\n      <td>S</td>\n      <td>E</td>\n      <td>2.0</td>\n      <td>22729</td>\n      <td>8.0</td>\n      <td>Urgent</td>\n      <td>Moderate</td>\n      <td>2</td>\n      <td>51-60</td>\n      <td>3398.0</td>\n      <td>51-60</td>\n    </tr>\n    <tr>\n      <th>...</th>\n      <td>...</td>\n      <td>...</td>\n      <td>...</td>\n      <td>...</td>\n      <td>...</td>\n      <td>...</td>\n      <td>...</td>\n      <td>...</td>\n      <td>...</td>\n      <td>...</td>\n      <td>...</td>\n      <td>...</td>\n      <td>...</td>\n      <td>...</td>\n      <td>...</td>\n      <td>...</td>\n      <td>...</td>\n    </tr>\n    <tr>\n      <th>237869</th>\n      <td>12</td>\n      <td>a</td>\n      <td>9</td>\n      <td>Y</td>\n      <td>3</td>\n      <td>gynecology</td>\n      <td>R</td>\n      <td>B</td>\n      <td>3.0</td>\n      <td>82914</td>\n      <td>3.0</td>\n      <td>Emergency</td>\n      <td>Moderate</td>\n      <td>6</td>\n      <td>51-60</td>\n      <td>3966.0</td>\n      <td>More than 100 Days</td>\n    </tr>\n    <tr>\n      <th>254763</th>\n      <td>28</td>\n      <td>b</td>\n      <td>11</td>\n      <td>X</td>\n      <td>2</td>\n      <td>gynecology</td>\n      <td>R</td>\n      <td>F</td>\n      <td>2.0</td>\n      <td>40026</td>\n      <td>5.0</td>\n      <td>Urgent</td>\n      <td>Moderate</td>\n      <td>3</td>\n      <td>21-30</td>\n      <td>4005.0</td>\n      <td>51-60</td>\n    </tr>\n    <tr>\n      <th>69788</th>\n      <td>6</td>\n      <td>a</td>\n      <td>6</td>\n      <td>X</td>\n      <td>3</td>\n      <td>gynecology</td>\n      <td>Q</td>\n      <td>F</td>\n      <td>3.0</td>\n      <td>92346</td>\n      <td>2.0</td>\n      <td>Trauma</td>\n      <td>Minor</td>\n      <td>2</td>\n      <td>31-40</td>\n      <td>5215.0</td>\n      <td>31-40</td>\n    </tr>\n    <tr>\n      <th>204442</th>\n      <td>32</td>\n      <td>f</td>\n      <td>9</td>\n      <td>Y</td>\n      <td>2</td>\n      <td>gynecology</td>\n      <td>S</td>\n      <td>B</td>\n      <td>4.0</td>\n      <td>113798</td>\n      <td>15.0</td>\n      <td>Trauma</td>\n      <td>Moderate</td>\n      <td>3</td>\n      <td>41-50</td>\n      <td>5092.0</td>\n      <td>11-20</td>\n    </tr>\n    <tr>\n      <th>69647</th>\n      <td>25</td>\n      <td>e</td>\n      <td>1</td>\n      <td>X</td>\n      <td>3</td>\n      <td>gynecology</td>\n      <td>Q</td>\n      <td>E</td>\n      <td>2.0</td>\n      <td>109237</td>\n      <td>8.0</td>\n      <td>Emergency</td>\n      <td>Moderate</td>\n      <td>2</td>\n      <td>41-50</td>\n      <td>3390.0</td>\n      <td>41-50</td>\n    </tr>\n  </tbody>\n</table>\n<p>100000 rows × 17 columns</p>\n</div>"
     },
     "metadata": {},
     "execution_count": 42
    }
   ],
   "source": [
    "df"
   ]
  },
  {
   "cell_type": "code",
   "execution_count": 3,
   "metadata": {},
   "outputs": [],
   "source": [
    "class HospitalEncoder:\n",
    "\n",
    "    @staticmethod\n",
    "    def encode_admission(x):\n",
    "        data = {'Urgent': 2, 'Trauma': 1, 'Emergency': 3}\n",
    "        return data[x]\n",
    "\n",
    "    @staticmethod\n",
    "    def encode_severity(x):\n",
    "        data = {'Moderate': 2, 'Extreme': 3, 'Minor': 1}\n",
    "        return data[x]\n",
    "\n",
    "    @staticmethod\n",
    "    def encode_age(x):\n",
    "        data = {'21-30': 2, '51-60': 5, '71-80': 7, '11-20': 1, \n",
    "        '31-40': 3, '0-10': 0, '61-70': 6, '41-50': 4, '81-90': 4, '91-100': 9}\n",
    "        return data[x]"
   ]
  },
  {
   "cell_type": "code",
   "execution_count": 4,
   "metadata": {},
   "outputs": [],
   "source": [
    "def normalize_df(df):\n",
    "    for col in df.columns:\n",
    "        df[col] = df[col]/df[col].max()\n",
    "    return df"
   ]
  },
  {
   "cell_type": "code",
   "execution_count": 5,
   "metadata": {},
   "outputs": [],
   "source": [
    "# Quitamos las columnas no relevantes\n",
    "filtered = df.drop(['1', '4','9', '10', '11','16'], axis=1)\n",
    "\n",
    "# Aplicamos los encoders\n",
    "filtered['12'] = filtered['12'].apply(HospitalEncoder.encode_admission)\n",
    "filtered['13'] = filtered['13'].apply(HospitalEncoder.encode_severity)\n",
    "#filtered['15'] = filtered['15'].apply(HospitalEncoder.encode_age)\n",
    "\n",
    "# Get dummies\n",
    "features = filtered[['2', '3', '6', '7', '8', '15']]\n",
    "features = pd.get_dummies(features)\n",
    "filtered.drop(['2', '3', '6', '7', '8', '15'], axis=1, inplace=True)\n",
    "train = pd.concat([filtered, features], axis=1)\n",
    "\n",
    "# Creamos X y lo normalizamosC\n",
    "X = np.array(normalize_df(train.drop(['17'], axis=1)))\n",
    "\n",
    "# Cambiamos Nans de la columna 9 por la media\n",
    "simp = SimpleImputer()\n",
    "X = simp.fit_transform(X)\n",
    "\n",
    "# Creamos y con encoder\n",
    "le = LabelEncoder()\n",
    "y = np.array(le.fit_transform(train['17']))\n",
    "\n",
    "# y one-hot\n",
    "#y = np.array(train['17'])\n",
    "#y = keras.utils.to_categorical(y, num_classes=11)\n",
    "\n",
    "# y sin modificar\n",
    "#y = np.array(train['17'])\n",
    "\n",
    "# Conjuntos train/test\n",
    "X_train, X_test, y_train, y_test = train_test_split(X, y, test_size = 0.20, random_state = 42)"
   ]
  },
  {
   "cell_type": "code",
   "execution_count": 6,
   "metadata": {},
   "outputs": [
    {
     "output_type": "execute_result",
     "data": {
      "text/plain": [
       "(80000, 39)"
      ]
     },
     "metadata": {},
     "execution_count": 6
    }
   ],
   "source": [
    "X_train.shape"
   ]
  },
  {
   "cell_type": "code",
   "execution_count": 34,
   "metadata": {},
   "outputs": [
    {
     "output_type": "execute_result",
     "data": {
      "text/plain": [
       "array([2, 5, 2, ..., 1, 2, 2])"
      ]
     },
     "metadata": {},
     "execution_count": 34
    }
   ],
   "source": [
    "y_train"
   ]
  },
  {
   "cell_type": "code",
   "execution_count": 29,
   "metadata": {},
   "outputs": [],
   "source": [
    "model = keras.Sequential([\n",
    "    layers.InputLayer(input_shape=(39)),\n",
    "    layers.Dense(64, activation='sigmoid'),\n",
    "    layers.Dense(11, activation='sigmoid'),\n",
    "    layers.Dense(1, activation='relu')\n",
    "  ])"
   ]
  },
  {
   "cell_type": "code",
   "execution_count": 30,
   "metadata": {},
   "outputs": [],
   "source": [
    "model.compile(optimizer=keras.optimizers.Adam(learning_rate=0.001), \n",
    "              loss=\"categorical_crossentropy\", \n",
    "              metrics=['accuracy'])"
   ]
  },
  {
   "cell_type": "code",
   "execution_count": 31,
   "metadata": {},
   "outputs": [
    {
     "output_type": "stream",
     "name": "stdout",
     "text": [
      "Epoch 1/5\n",
      "2500/2500 [==============================] - 3s 928us/step - loss: 3.2333e-07 - accuracy: 0.2437\n",
      "Epoch 2/5\n",
      "2500/2500 [==============================] - 2s 970us/step - loss: 3.2333e-07 - accuracy: 0.2437\n",
      "Epoch 3/5\n",
      "2500/2500 [==============================] - 2s 910us/step - loss: 3.2333e-07 - accuracy: 0.2437\n",
      "Epoch 4/5\n",
      "2500/2500 [==============================] - 2s 905us/step - loss: 3.2333e-07 - accuracy: 0.2437\n",
      "Epoch 5/5\n",
      "2500/2500 [==============================] - 2s 874us/step - loss: 3.2333e-07 - accuracy: 0.2437\n"
     ]
    },
    {
     "output_type": "execute_result",
     "data": {
      "text/plain": [
       "<tensorflow.python.keras.callbacks.History at 0x1b509621b08>"
      ]
     },
     "metadata": {},
     "execution_count": 31
    }
   ],
   "source": [
    "model.fit(X_train, y_train, epochs=5)"
   ]
  },
  {
   "cell_type": "code",
   "execution_count": 32,
   "metadata": {},
   "outputs": [],
   "source": [
    "y_pred = model.predict(X_test)"
   ]
  },
  {
   "cell_type": "code",
   "execution_count": 33,
   "metadata": {},
   "outputs": [
    {
     "output_type": "execute_result",
     "data": {
      "text/plain": [
       "              0\n",
       "0      0.607281\n",
       "1      0.569077\n",
       "2      0.574027\n",
       "3      0.572042\n",
       "4      0.569990\n",
       "...         ...\n",
       "19995  0.567713\n",
       "19996  0.534277\n",
       "19997  0.595385\n",
       "19998  0.565428\n",
       "19999  0.597400\n",
       "\n",
       "[20000 rows x 1 columns]"
      ],
      "text/html": "<div>\n<style scoped>\n    .dataframe tbody tr th:only-of-type {\n        vertical-align: middle;\n    }\n\n    .dataframe tbody tr th {\n        vertical-align: top;\n    }\n\n    .dataframe thead th {\n        text-align: right;\n    }\n</style>\n<table border=\"1\" class=\"dataframe\">\n  <thead>\n    <tr style=\"text-align: right;\">\n      <th></th>\n      <th>0</th>\n    </tr>\n  </thead>\n  <tbody>\n    <tr>\n      <th>0</th>\n      <td>0.607281</td>\n    </tr>\n    <tr>\n      <th>1</th>\n      <td>0.569077</td>\n    </tr>\n    <tr>\n      <th>2</th>\n      <td>0.574027</td>\n    </tr>\n    <tr>\n      <th>3</th>\n      <td>0.572042</td>\n    </tr>\n    <tr>\n      <th>4</th>\n      <td>0.569990</td>\n    </tr>\n    <tr>\n      <th>...</th>\n      <td>...</td>\n    </tr>\n    <tr>\n      <th>19995</th>\n      <td>0.567713</td>\n    </tr>\n    <tr>\n      <th>19996</th>\n      <td>0.534277</td>\n    </tr>\n    <tr>\n      <th>19997</th>\n      <td>0.595385</td>\n    </tr>\n    <tr>\n      <th>19998</th>\n      <td>0.565428</td>\n    </tr>\n    <tr>\n      <th>19999</th>\n      <td>0.597400</td>\n    </tr>\n  </tbody>\n</table>\n<p>20000 rows × 1 columns</p>\n</div>"
     },
     "metadata": {},
     "execution_count": 33
    }
   ],
   "source": [
    "pd.DataFrame(y_pred)"
   ]
  },
  {
   "cell_type": "code",
   "execution_count": 18,
   "metadata": {},
   "outputs": [
    {
     "output_type": "stream",
     "name": "stderr",
     "text": [
      "C:\\Users\\jgnsa\\AppData\\Local\\Programs\\Python\\Python37\\lib\\site-packages\\sklearn\\utils\\validation.py:63: DataConversionWarning: A column-vector y was passed when a 1d array was expected. Please change the shape of y to (n_samples, ), for example using ravel().\n  return f(*args, **kwargs)\n"
     ]
    },
    {
     "output_type": "error",
     "ename": "ValueError",
     "evalue": "y contains previously unseen labels: [-0.20204103 -0.2020272  -0.20168462 ... -0.08061408 -0.08017939\n -0.07593304]",
     "traceback": [
      "\u001b[1;31m---------------------------------------------------------------------------\u001b[0m",
      "\u001b[1;31mValueError\u001b[0m                                Traceback (most recent call last)",
      "\u001b[1;32m<ipython-input-18-5618b06b7dc2>\u001b[0m in \u001b[0;36m<module>\u001b[1;34m\u001b[0m\n\u001b[1;32m----> 1\u001b[1;33m \u001b[0my_pred\u001b[0m \u001b[1;33m=\u001b[0m \u001b[0mle\u001b[0m\u001b[1;33m.\u001b[0m\u001b[0minverse_transform\u001b[0m\u001b[1;33m(\u001b[0m\u001b[0my_pred\u001b[0m\u001b[1;33m)\u001b[0m\u001b[1;33m\u001b[0m\u001b[1;33m\u001b[0m\u001b[0m\n\u001b[0m\u001b[0;32m      2\u001b[0m \u001b[0my_pred\u001b[0m\u001b[1;33m\u001b[0m\u001b[1;33m\u001b[0m\u001b[0m\n",
      "\u001b[1;32m~\\AppData\\Local\\Programs\\Python\\Python37\\lib\\site-packages\\sklearn\\preprocessing\\_label.py\u001b[0m in \u001b[0;36minverse_transform\u001b[1;34m(self, y)\u001b[0m\n\u001b[0;32m    159\u001b[0m         \u001b[1;32mif\u001b[0m \u001b[0mlen\u001b[0m\u001b[1;33m(\u001b[0m\u001b[0mdiff\u001b[0m\u001b[1;33m)\u001b[0m\u001b[1;33m:\u001b[0m\u001b[1;33m\u001b[0m\u001b[1;33m\u001b[0m\u001b[0m\n\u001b[0;32m    160\u001b[0m             raise ValueError(\n\u001b[1;32m--> 161\u001b[1;33m                     \"y contains previously unseen labels: %s\" % str(diff))\n\u001b[0m\u001b[0;32m    162\u001b[0m         \u001b[0my\u001b[0m \u001b[1;33m=\u001b[0m \u001b[0mnp\u001b[0m\u001b[1;33m.\u001b[0m\u001b[0masarray\u001b[0m\u001b[1;33m(\u001b[0m\u001b[0my\u001b[0m\u001b[1;33m)\u001b[0m\u001b[1;33m\u001b[0m\u001b[1;33m\u001b[0m\u001b[0m\n\u001b[0;32m    163\u001b[0m         \u001b[1;32mreturn\u001b[0m \u001b[0mself\u001b[0m\u001b[1;33m.\u001b[0m\u001b[0mclasses_\u001b[0m\u001b[1;33m[\u001b[0m\u001b[0my\u001b[0m\u001b[1;33m]\u001b[0m\u001b[1;33m\u001b[0m\u001b[1;33m\u001b[0m\u001b[0m\n",
      "\u001b[1;31mValueError\u001b[0m: y contains previously unseen labels: [-0.20204103 -0.2020272  -0.20168462 ... -0.08061408 -0.08017939\n -0.07593304]"
     ]
    }
   ],
   "source": [
    "y_pred = le.inverse_transform(y_pred)\n",
    "y_pred"
   ]
  },
  {
   "cell_type": "code",
   "execution_count": null,
   "metadata": {},
   "outputs": [],
   "source": []
  }
 ]
}