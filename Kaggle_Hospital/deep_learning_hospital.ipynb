{
 "metadata": {
  "language_info": {
   "codemirror_mode": {
    "name": "ipython",
    "version": 3
   },
   "file_extension": ".py",
   "mimetype": "text/x-python",
   "name": "python",
   "nbconvert_exporter": "python",
   "pygments_lexer": "ipython3",
   "version": "3.7.4"
  },
  "orig_nbformat": 4,
  "kernelspec": {
   "name": "python3",
   "display_name": "Python 3.7.4 64-bit"
  },
  "interpreter": {
   "hash": "674dfd6ded4398e0679ff4f65e9a10a54ff0d14801bec0126172cfc3973d1cf1"
  }
 },
 "nbformat": 4,
 "nbformat_minor": 2,
 "cells": [
  {
   "cell_type": "code",
   "execution_count": 1,
   "metadata": {},
   "outputs": [],
   "source": [
    "import tensorflow as tf\n",
    "from tensorflow import keras\n",
    "from tensorflow.keras import layers\n",
    "\n",
    "import pandas as pd\n",
    "import numpy as np\n",
    "\n",
    "from sklearn.model_selection import train_test_split\n",
    "from sklearn.metrics import accuracy_score\n",
    "from sklearn.preprocessing import LabelEncoder\n",
    "from sklearn.impute import SimpleImputer"
   ]
  },
  {
   "cell_type": "code",
   "execution_count": 2,
   "metadata": {},
   "outputs": [],
   "source": [
    "df = pd.read_csv(\"hospital_train.csv\", index_col=0)"
   ]
  },
  {
   "cell_type": "code",
   "execution_count": 3,
   "metadata": {},
   "outputs": [],
   "source": [
    "class HospitalEncoder:\n",
    "\n",
    "    @staticmethod\n",
    "    def encode_admission(x):\n",
    "        data = {'Urgent': 2, 'Trauma': 1, 'Emergency': 3}\n",
    "        return data[x]\n",
    "\n",
    "    @staticmethod\n",
    "    def encode_severity(x):\n",
    "        data = {'Moderate': 2, 'Extreme': 3, 'Minor': 1}\n",
    "        return data[x]\n",
    "\n",
    "    @staticmethod\n",
    "    def encode_age(x):\n",
    "        data = {'21-30': 2, '51-60': 5, '71-80': 7, '11-20': 1, \n",
    "        '31-40': 3, '0-10': 0, '61-70': 6, '41-50': 4, '81-90': 4, '91-100': 9}\n",
    "        return data[x]"
   ]
  },
  {
   "cell_type": "code",
   "execution_count": 4,
   "metadata": {},
   "outputs": [],
   "source": [
    "def normalize_df(df):\n",
    "    for col in df.columns:\n",
    "        df[col] = df[col]/df[col].max()\n",
    "    return df"
   ]
  },
  {
   "cell_type": "code",
   "execution_count": 33,
   "metadata": {},
   "outputs": [],
   "source": [
    "# Quitamos las columnas no relevantes\n",
    "filtered = df.drop(['1', '3', '4', '7', '8','9', '10', '11','14','16'], axis=1)\n",
    "\n",
    "# Aplicamos los encoders\n",
    "filtered['12'] = filtered['12'].apply(HospitalEncoder.encode_admission)\n",
    "filtered['13'] = filtered['13'].apply(HospitalEncoder.encode_severity)\n",
    "filtered['15'] = filtered['15'].apply(HospitalEncoder.encode_age)\n",
    "\n",
    "# Get dummies\n",
    "features = filtered[['2', '6']]\n",
    "features = pd.get_dummies(features)\n",
    "filtered.drop(['2', '6'], axis=1, inplace=True)\n",
    "train = pd.concat([filtered, features], axis=1)\n",
    "\n",
    "# Creamos X y lo normalizamosC\n",
    "X = np.array(normalize_df(train.drop(['17'], axis=1)))\n",
    "\n",
    "# Cambiamos Nans de la columna 9 por la media\n",
    "simp = SimpleImputer()\n",
    "X = simp.fit_transform(X)\n",
    "\n",
    "# Creamos y con encoder\n",
    "le = LabelEncoder()\n",
    "y = np.array(normalize_df(pd.DataFrame(le.fit_transform(train['17']))))\n",
    "\n",
    "# Conjuntos train/test\n",
    "X_train, X_test, y_train, y_test = train_test_split(X, y, test_size = 0.20, random_state = 42)"
   ]
  },
  {
   "cell_type": "code",
   "execution_count": 34,
   "metadata": {},
   "outputs": [
    {
     "output_type": "execute_result",
     "data": {
      "text/plain": [
       "(80000, 16)"
      ]
     },
     "metadata": {},
     "execution_count": 34
    }
   ],
   "source": [
    "X_train.shape"
   ]
  },
  {
   "cell_type": "code",
   "execution_count": 51,
   "metadata": {},
   "outputs": [],
   "source": [
    "model = keras.Sequential([\n",
    "    layers.InputLayer(input_shape=(16)),\n",
    "    layers.Dense(64, activation='sigmoid'),\n",
    "    layers.Dense(32, activation='relu'),\n",
    "    layers.Dense(11, activation=\"softmax\")\n",
    "  ])"
   ]
  },
  {
   "cell_type": "code",
   "execution_count": 52,
   "metadata": {},
   "outputs": [],
   "source": [
    "model.compile(optimizer='adam', \n",
    "              loss=\"sparse_categorical_crossentropy\", \n",
    "              metrics='accuracy')"
   ]
  },
  {
   "cell_type": "code",
   "execution_count": 53,
   "metadata": {},
   "outputs": [
    {
     "output_type": "stream",
     "name": "stdout",
     "text": [
      "Epoch 1/5\n",
      "2500/2500 [==============================] - 5s 2ms/step - loss: 0.5133 - accuracy: 0.0741\n",
      "Epoch 2/5\n",
      "2500/2500 [==============================] - 4s 2ms/step - loss: 0.1144 - accuracy: 0.0745\n",
      "Epoch 3/5\n",
      "2500/2500 [==============================] - 4s 2ms/step - loss: 0.1081 - accuracy: 0.0745\n",
      "Epoch 4/5\n",
      "2500/2500 [==============================] - 4s 2ms/step - loss: 0.1066 - accuracy: 0.0745\n",
      "Epoch 5/5\n",
      "2500/2500 [==============================] - 5s 2ms/step - loss: 0.1061 - accuracy: 0.0745\n"
     ]
    },
    {
     "output_type": "execute_result",
     "data": {
      "text/plain": [
       "<tensorflow.python.keras.callbacks.History at 0x1a709476788>"
      ]
     },
     "metadata": {},
     "execution_count": 53
    }
   ],
   "source": [
    "model.fit(X_train, y_train, epochs=5)"
   ]
  },
  {
   "cell_type": "code",
   "execution_count": 54,
   "metadata": {},
   "outputs": [],
   "source": [
    "y_pred = model.predict(X_test)"
   ]
  },
  {
   "cell_type": "code",
   "execution_count": 55,
   "metadata": {},
   "outputs": [
    {
     "output_type": "execute_result",
     "data": {
      "text/plain": [
       "             0         1         2         3         4         5         6   \\\n",
       "0      0.976529  0.023332  0.000013  0.000016  0.000014  0.000018  0.000014   \n",
       "1      0.976529  0.023332  0.000013  0.000016  0.000014  0.000018  0.000014   \n",
       "2      0.976529  0.023332  0.000013  0.000016  0.000014  0.000018  0.000014   \n",
       "3      0.976529  0.023332  0.000013  0.000016  0.000014  0.000018  0.000014   \n",
       "4      0.976529  0.023332  0.000013  0.000016  0.000014  0.000018  0.000014   \n",
       "...         ...       ...       ...       ...       ...       ...       ...   \n",
       "19995  0.976529  0.023332  0.000013  0.000016  0.000014  0.000018  0.000014   \n",
       "19996  0.976529  0.023332  0.000013  0.000016  0.000014  0.000018  0.000014   \n",
       "19997  0.976529  0.023332  0.000013  0.000016  0.000014  0.000018  0.000014   \n",
       "19998  0.976529  0.023332  0.000013  0.000016  0.000014  0.000018  0.000014   \n",
       "19999  0.976529  0.023332  0.000013  0.000016  0.000014  0.000018  0.000014   \n",
       "\n",
       "             7         8         9         10  \n",
       "0      0.000015  0.000015  0.000017  0.000018  \n",
       "1      0.000015  0.000015  0.000017  0.000018  \n",
       "2      0.000015  0.000015  0.000017  0.000018  \n",
       "3      0.000015  0.000015  0.000017  0.000018  \n",
       "4      0.000015  0.000015  0.000017  0.000018  \n",
       "...         ...       ...       ...       ...  \n",
       "19995  0.000015  0.000015  0.000017  0.000018  \n",
       "19996  0.000015  0.000015  0.000017  0.000018  \n",
       "19997  0.000015  0.000015  0.000017  0.000018  \n",
       "19998  0.000015  0.000015  0.000017  0.000018  \n",
       "19999  0.000015  0.000015  0.000017  0.000018  \n",
       "\n",
       "[20000 rows x 11 columns]"
      ],
      "text/html": "<div>\n<style scoped>\n    .dataframe tbody tr th:only-of-type {\n        vertical-align: middle;\n    }\n\n    .dataframe tbody tr th {\n        vertical-align: top;\n    }\n\n    .dataframe thead th {\n        text-align: right;\n    }\n</style>\n<table border=\"1\" class=\"dataframe\">\n  <thead>\n    <tr style=\"text-align: right;\">\n      <th></th>\n      <th>0</th>\n      <th>1</th>\n      <th>2</th>\n      <th>3</th>\n      <th>4</th>\n      <th>5</th>\n      <th>6</th>\n      <th>7</th>\n      <th>8</th>\n      <th>9</th>\n      <th>10</th>\n    </tr>\n  </thead>\n  <tbody>\n    <tr>\n      <th>0</th>\n      <td>0.976529</td>\n      <td>0.023332</td>\n      <td>0.000013</td>\n      <td>0.000016</td>\n      <td>0.000014</td>\n      <td>0.000018</td>\n      <td>0.000014</td>\n      <td>0.000015</td>\n      <td>0.000015</td>\n      <td>0.000017</td>\n      <td>0.000018</td>\n    </tr>\n    <tr>\n      <th>1</th>\n      <td>0.976529</td>\n      <td>0.023332</td>\n      <td>0.000013</td>\n      <td>0.000016</td>\n      <td>0.000014</td>\n      <td>0.000018</td>\n      <td>0.000014</td>\n      <td>0.000015</td>\n      <td>0.000015</td>\n      <td>0.000017</td>\n      <td>0.000018</td>\n    </tr>\n    <tr>\n      <th>2</th>\n      <td>0.976529</td>\n      <td>0.023332</td>\n      <td>0.000013</td>\n      <td>0.000016</td>\n      <td>0.000014</td>\n      <td>0.000018</td>\n      <td>0.000014</td>\n      <td>0.000015</td>\n      <td>0.000015</td>\n      <td>0.000017</td>\n      <td>0.000018</td>\n    </tr>\n    <tr>\n      <th>3</th>\n      <td>0.976529</td>\n      <td>0.023332</td>\n      <td>0.000013</td>\n      <td>0.000016</td>\n      <td>0.000014</td>\n      <td>0.000018</td>\n      <td>0.000014</td>\n      <td>0.000015</td>\n      <td>0.000015</td>\n      <td>0.000017</td>\n      <td>0.000018</td>\n    </tr>\n    <tr>\n      <th>4</th>\n      <td>0.976529</td>\n      <td>0.023332</td>\n      <td>0.000013</td>\n      <td>0.000016</td>\n      <td>0.000014</td>\n      <td>0.000018</td>\n      <td>0.000014</td>\n      <td>0.000015</td>\n      <td>0.000015</td>\n      <td>0.000017</td>\n      <td>0.000018</td>\n    </tr>\n    <tr>\n      <th>...</th>\n      <td>...</td>\n      <td>...</td>\n      <td>...</td>\n      <td>...</td>\n      <td>...</td>\n      <td>...</td>\n      <td>...</td>\n      <td>...</td>\n      <td>...</td>\n      <td>...</td>\n      <td>...</td>\n    </tr>\n    <tr>\n      <th>19995</th>\n      <td>0.976529</td>\n      <td>0.023332</td>\n      <td>0.000013</td>\n      <td>0.000016</td>\n      <td>0.000014</td>\n      <td>0.000018</td>\n      <td>0.000014</td>\n      <td>0.000015</td>\n      <td>0.000015</td>\n      <td>0.000017</td>\n      <td>0.000018</td>\n    </tr>\n    <tr>\n      <th>19996</th>\n      <td>0.976529</td>\n      <td>0.023332</td>\n      <td>0.000013</td>\n      <td>0.000016</td>\n      <td>0.000014</td>\n      <td>0.000018</td>\n      <td>0.000014</td>\n      <td>0.000015</td>\n      <td>0.000015</td>\n      <td>0.000017</td>\n      <td>0.000018</td>\n    </tr>\n    <tr>\n      <th>19997</th>\n      <td>0.976529</td>\n      <td>0.023332</td>\n      <td>0.000013</td>\n      <td>0.000016</td>\n      <td>0.000014</td>\n      <td>0.000018</td>\n      <td>0.000014</td>\n      <td>0.000015</td>\n      <td>0.000015</td>\n      <td>0.000017</td>\n      <td>0.000018</td>\n    </tr>\n    <tr>\n      <th>19998</th>\n      <td>0.976529</td>\n      <td>0.023332</td>\n      <td>0.000013</td>\n      <td>0.000016</td>\n      <td>0.000014</td>\n      <td>0.000018</td>\n      <td>0.000014</td>\n      <td>0.000015</td>\n      <td>0.000015</td>\n      <td>0.000017</td>\n      <td>0.000018</td>\n    </tr>\n    <tr>\n      <th>19999</th>\n      <td>0.976529</td>\n      <td>0.023332</td>\n      <td>0.000013</td>\n      <td>0.000016</td>\n      <td>0.000014</td>\n      <td>0.000018</td>\n      <td>0.000014</td>\n      <td>0.000015</td>\n      <td>0.000015</td>\n      <td>0.000017</td>\n      <td>0.000018</td>\n    </tr>\n  </tbody>\n</table>\n<p>20000 rows × 11 columns</p>\n</div>"
     },
     "metadata": {},
     "execution_count": 55
    }
   ],
   "source": [
    "pd.DataFrame(y_pred)"
   ]
  },
  {
   "cell_type": "code",
   "execution_count": 117,
   "metadata": {},
   "outputs": [
    {
     "output_type": "error",
     "ename": "ValueError",
     "evalue": "y should be a 1d array, got an array of shape (20000, 11) instead.",
     "traceback": [
      "\u001b[1;31m---------------------------------------------------------------------------\u001b[0m",
      "\u001b[1;31mValueError\u001b[0m                                Traceback (most recent call last)",
      "\u001b[1;32m<ipython-input-117-5618b06b7dc2>\u001b[0m in \u001b[0;36m<module>\u001b[1;34m\u001b[0m\n\u001b[1;32m----> 1\u001b[1;33m \u001b[0my_pred\u001b[0m \u001b[1;33m=\u001b[0m \u001b[0mle\u001b[0m\u001b[1;33m.\u001b[0m\u001b[0minverse_transform\u001b[0m\u001b[1;33m(\u001b[0m\u001b[0my_pred\u001b[0m\u001b[1;33m)\u001b[0m\u001b[1;33m\u001b[0m\u001b[1;33m\u001b[0m\u001b[0m\n\u001b[0m\u001b[0;32m      2\u001b[0m \u001b[0my_pred\u001b[0m\u001b[1;33m\u001b[0m\u001b[1;33m\u001b[0m\u001b[0m\n",
      "\u001b[1;32m~\\AppData\\Local\\Programs\\Python\\Python37\\lib\\site-packages\\sklearn\\preprocessing\\_label.py\u001b[0m in \u001b[0;36minverse_transform\u001b[1;34m(self, y)\u001b[0m\n\u001b[0;32m    151\u001b[0m         \"\"\"\n\u001b[0;32m    152\u001b[0m         \u001b[0mcheck_is_fitted\u001b[0m\u001b[1;33m(\u001b[0m\u001b[0mself\u001b[0m\u001b[1;33m)\u001b[0m\u001b[1;33m\u001b[0m\u001b[1;33m\u001b[0m\u001b[0m\n\u001b[1;32m--> 153\u001b[1;33m         \u001b[0my\u001b[0m \u001b[1;33m=\u001b[0m \u001b[0mcolumn_or_1d\u001b[0m\u001b[1;33m(\u001b[0m\u001b[0my\u001b[0m\u001b[1;33m,\u001b[0m \u001b[0mwarn\u001b[0m\u001b[1;33m=\u001b[0m\u001b[1;32mTrue\u001b[0m\u001b[1;33m)\u001b[0m\u001b[1;33m\u001b[0m\u001b[1;33m\u001b[0m\u001b[0m\n\u001b[0m\u001b[0;32m    154\u001b[0m         \u001b[1;31m# inverse transform of empty array is empty array\u001b[0m\u001b[1;33m\u001b[0m\u001b[1;33m\u001b[0m\u001b[1;33m\u001b[0m\u001b[0m\n\u001b[0;32m    155\u001b[0m         \u001b[1;32mif\u001b[0m \u001b[0m_num_samples\u001b[0m\u001b[1;33m(\u001b[0m\u001b[0my\u001b[0m\u001b[1;33m)\u001b[0m \u001b[1;33m==\u001b[0m \u001b[1;36m0\u001b[0m\u001b[1;33m:\u001b[0m\u001b[1;33m\u001b[0m\u001b[1;33m\u001b[0m\u001b[0m\n",
      "\u001b[1;32m~\\AppData\\Local\\Programs\\Python\\Python37\\lib\\site-packages\\sklearn\\utils\\validation.py\u001b[0m in \u001b[0;36minner_f\u001b[1;34m(*args, **kwargs)\u001b[0m\n\u001b[0;32m     61\u001b[0m             \u001b[0mextra_args\u001b[0m \u001b[1;33m=\u001b[0m \u001b[0mlen\u001b[0m\u001b[1;33m(\u001b[0m\u001b[0margs\u001b[0m\u001b[1;33m)\u001b[0m \u001b[1;33m-\u001b[0m \u001b[0mlen\u001b[0m\u001b[1;33m(\u001b[0m\u001b[0mall_args\u001b[0m\u001b[1;33m)\u001b[0m\u001b[1;33m\u001b[0m\u001b[1;33m\u001b[0m\u001b[0m\n\u001b[0;32m     62\u001b[0m             \u001b[1;32mif\u001b[0m \u001b[0mextra_args\u001b[0m \u001b[1;33m<=\u001b[0m \u001b[1;36m0\u001b[0m\u001b[1;33m:\u001b[0m\u001b[1;33m\u001b[0m\u001b[1;33m\u001b[0m\u001b[0m\n\u001b[1;32m---> 63\u001b[1;33m                 \u001b[1;32mreturn\u001b[0m \u001b[0mf\u001b[0m\u001b[1;33m(\u001b[0m\u001b[1;33m*\u001b[0m\u001b[0margs\u001b[0m\u001b[1;33m,\u001b[0m \u001b[1;33m**\u001b[0m\u001b[0mkwargs\u001b[0m\u001b[1;33m)\u001b[0m\u001b[1;33m\u001b[0m\u001b[1;33m\u001b[0m\u001b[0m\n\u001b[0m\u001b[0;32m     64\u001b[0m \u001b[1;33m\u001b[0m\u001b[0m\n\u001b[0;32m     65\u001b[0m             \u001b[1;31m# extra_args > 0\u001b[0m\u001b[1;33m\u001b[0m\u001b[1;33m\u001b[0m\u001b[1;33m\u001b[0m\u001b[0m\n",
      "\u001b[1;32m~\\AppData\\Local\\Programs\\Python\\Python37\\lib\\site-packages\\sklearn\\utils\\validation.py\u001b[0m in \u001b[0;36mcolumn_or_1d\u001b[1;34m(y, warn)\u001b[0m\n\u001b[0;32m    921\u001b[0m     raise ValueError(\n\u001b[0;32m    922\u001b[0m         \u001b[1;34m\"y should be a 1d array, \"\u001b[0m\u001b[1;33m\u001b[0m\u001b[1;33m\u001b[0m\u001b[0m\n\u001b[1;32m--> 923\u001b[1;33m         \"got an array of shape {} instead.\".format(shape))\n\u001b[0m\u001b[0;32m    924\u001b[0m \u001b[1;33m\u001b[0m\u001b[0m\n\u001b[0;32m    925\u001b[0m \u001b[1;33m\u001b[0m\u001b[0m\n",
      "\u001b[1;31mValueError\u001b[0m: y should be a 1d array, got an array of shape (20000, 11) instead."
     ]
    }
   ],
   "source": [
    "y_pred = le.inverse_transform(y_pred)\n",
    "y_pred"
   ]
  }
 ]
}