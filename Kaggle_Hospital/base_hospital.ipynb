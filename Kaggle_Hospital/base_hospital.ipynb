{
 "metadata": {
  "language_info": {
   "codemirror_mode": {
    "name": "ipython",
    "version": 3
   },
   "file_extension": ".py",
   "mimetype": "text/x-python",
   "name": "python",
   "nbconvert_exporter": "python",
   "pygments_lexer": "ipython3",
   "version": "3.7.4"
  },
  "orig_nbformat": 4,
  "kernelspec": {
   "name": "python3",
   "display_name": "Python 3.7.4 64-bit"
  },
  "interpreter": {
   "hash": "674dfd6ded4398e0679ff4f65e9a10a54ff0d14801bec0126172cfc3973d1cf1"
  }
 },
 "nbformat": 4,
 "nbformat_minor": 2,
 "cells": [
  {
   "cell_type": "code",
   "execution_count": 1,
   "metadata": {},
   "outputs": [],
   "source": [
    "import numpy as np\n",
    "import pandas as pd\n",
    "\n",
    "import urllib.request\n",
    "from PIL import Image\n",
    "import pickle\n",
    "\n",
    "from sklearn.model_selection import train_test_split\n",
    "from sklearn.metrics import accuracy_score"
   ]
  },
  {
   "cell_type": "code",
   "execution_count": 2,
   "metadata": {},
   "outputs": [
    {
     "output_type": "execute_result",
     "data": {
      "text/plain": [
       "         1  2   3  4  5           6  7  8    9      10    11         12  \\\n",
       "0                                                                         \n",
       "161528   6  a   6  X  2  gynecology  R  F  4.0   45810   2.0     Urgent   \n",
       "159472  23  a   6  X  4  gynecology  Q  F  2.0  128565  15.0     Trauma   \n",
       "309765   2  c   5  Z  2  anesthesia  S  F  3.0   46565   5.0     Urgent   \n",
       "279614  32  f   9  Y  3  gynecology  S  B  4.0  124546   6.0  Emergency   \n",
       "147791  14  a   1  X  3  gynecology  S  E  2.0   22729   8.0     Urgent   \n",
       "...     .. ..  .. .. ..         ... .. ..  ...     ...   ...        ...   \n",
       "237869  12  a   9  Y  3  gynecology  R  B  3.0   82914   3.0  Emergency   \n",
       "254763  28  b  11  X  2  gynecology  R  F  2.0   40026   5.0     Urgent   \n",
       "69788    6  a   6  X  3  gynecology  Q  F  3.0   92346   2.0     Trauma   \n",
       "204442  32  f   9  Y  2  gynecology  S  B  4.0  113798  15.0     Trauma   \n",
       "69647   25  e   1  X  3  gynecology  Q  E  2.0  109237   8.0  Emergency   \n",
       "\n",
       "              13  14     15      16                  17  \n",
       "0                                                        \n",
       "161528  Moderate   2  21-30  2817.0                0-10  \n",
       "159472  Moderate   4  51-60  4498.0               21-30  \n",
       "309765  Moderate   2  71-80  4573.0               11-20  \n",
       "279614  Moderate   4  11-20  7202.0               51-60  \n",
       "147791  Moderate   2  51-60  3398.0               51-60  \n",
       "...          ...  ..    ...     ...                 ...  \n",
       "237869  Moderate   6  51-60  3966.0  More than 100 Days  \n",
       "254763  Moderate   3  21-30  4005.0               51-60  \n",
       "69788      Minor   2  31-40  5215.0               31-40  \n",
       "204442  Moderate   3  41-50  5092.0               11-20  \n",
       "69647   Moderate   2  41-50  3390.0               41-50  \n",
       "\n",
       "[100000 rows x 17 columns]"
      ],
      "text/html": "<div>\n<style scoped>\n    .dataframe tbody tr th:only-of-type {\n        vertical-align: middle;\n    }\n\n    .dataframe tbody tr th {\n        vertical-align: top;\n    }\n\n    .dataframe thead th {\n        text-align: right;\n    }\n</style>\n<table border=\"1\" class=\"dataframe\">\n  <thead>\n    <tr style=\"text-align: right;\">\n      <th></th>\n      <th>1</th>\n      <th>2</th>\n      <th>3</th>\n      <th>4</th>\n      <th>5</th>\n      <th>6</th>\n      <th>7</th>\n      <th>8</th>\n      <th>9</th>\n      <th>10</th>\n      <th>11</th>\n      <th>12</th>\n      <th>13</th>\n      <th>14</th>\n      <th>15</th>\n      <th>16</th>\n      <th>17</th>\n    </tr>\n    <tr>\n      <th>0</th>\n      <th></th>\n      <th></th>\n      <th></th>\n      <th></th>\n      <th></th>\n      <th></th>\n      <th></th>\n      <th></th>\n      <th></th>\n      <th></th>\n      <th></th>\n      <th></th>\n      <th></th>\n      <th></th>\n      <th></th>\n      <th></th>\n      <th></th>\n    </tr>\n  </thead>\n  <tbody>\n    <tr>\n      <th>161528</th>\n      <td>6</td>\n      <td>a</td>\n      <td>6</td>\n      <td>X</td>\n      <td>2</td>\n      <td>gynecology</td>\n      <td>R</td>\n      <td>F</td>\n      <td>4.0</td>\n      <td>45810</td>\n      <td>2.0</td>\n      <td>Urgent</td>\n      <td>Moderate</td>\n      <td>2</td>\n      <td>21-30</td>\n      <td>2817.0</td>\n      <td>0-10</td>\n    </tr>\n    <tr>\n      <th>159472</th>\n      <td>23</td>\n      <td>a</td>\n      <td>6</td>\n      <td>X</td>\n      <td>4</td>\n      <td>gynecology</td>\n      <td>Q</td>\n      <td>F</td>\n      <td>2.0</td>\n      <td>128565</td>\n      <td>15.0</td>\n      <td>Trauma</td>\n      <td>Moderate</td>\n      <td>4</td>\n      <td>51-60</td>\n      <td>4498.0</td>\n      <td>21-30</td>\n    </tr>\n    <tr>\n      <th>309765</th>\n      <td>2</td>\n      <td>c</td>\n      <td>5</td>\n      <td>Z</td>\n      <td>2</td>\n      <td>anesthesia</td>\n      <td>S</td>\n      <td>F</td>\n      <td>3.0</td>\n      <td>46565</td>\n      <td>5.0</td>\n      <td>Urgent</td>\n      <td>Moderate</td>\n      <td>2</td>\n      <td>71-80</td>\n      <td>4573.0</td>\n      <td>11-20</td>\n    </tr>\n    <tr>\n      <th>279614</th>\n      <td>32</td>\n      <td>f</td>\n      <td>9</td>\n      <td>Y</td>\n      <td>3</td>\n      <td>gynecology</td>\n      <td>S</td>\n      <td>B</td>\n      <td>4.0</td>\n      <td>124546</td>\n      <td>6.0</td>\n      <td>Emergency</td>\n      <td>Moderate</td>\n      <td>4</td>\n      <td>11-20</td>\n      <td>7202.0</td>\n      <td>51-60</td>\n    </tr>\n    <tr>\n      <th>147791</th>\n      <td>14</td>\n      <td>a</td>\n      <td>1</td>\n      <td>X</td>\n      <td>3</td>\n      <td>gynecology</td>\n      <td>S</td>\n      <td>E</td>\n      <td>2.0</td>\n      <td>22729</td>\n      <td>8.0</td>\n      <td>Urgent</td>\n      <td>Moderate</td>\n      <td>2</td>\n      <td>51-60</td>\n      <td>3398.0</td>\n      <td>51-60</td>\n    </tr>\n    <tr>\n      <th>...</th>\n      <td>...</td>\n      <td>...</td>\n      <td>...</td>\n      <td>...</td>\n      <td>...</td>\n      <td>...</td>\n      <td>...</td>\n      <td>...</td>\n      <td>...</td>\n      <td>...</td>\n      <td>...</td>\n      <td>...</td>\n      <td>...</td>\n      <td>...</td>\n      <td>...</td>\n      <td>...</td>\n      <td>...</td>\n    </tr>\n    <tr>\n      <th>237869</th>\n      <td>12</td>\n      <td>a</td>\n      <td>9</td>\n      <td>Y</td>\n      <td>3</td>\n      <td>gynecology</td>\n      <td>R</td>\n      <td>B</td>\n      <td>3.0</td>\n      <td>82914</td>\n      <td>3.0</td>\n      <td>Emergency</td>\n      <td>Moderate</td>\n      <td>6</td>\n      <td>51-60</td>\n      <td>3966.0</td>\n      <td>More than 100 Days</td>\n    </tr>\n    <tr>\n      <th>254763</th>\n      <td>28</td>\n      <td>b</td>\n      <td>11</td>\n      <td>X</td>\n      <td>2</td>\n      <td>gynecology</td>\n      <td>R</td>\n      <td>F</td>\n      <td>2.0</td>\n      <td>40026</td>\n      <td>5.0</td>\n      <td>Urgent</td>\n      <td>Moderate</td>\n      <td>3</td>\n      <td>21-30</td>\n      <td>4005.0</td>\n      <td>51-60</td>\n    </tr>\n    <tr>\n      <th>69788</th>\n      <td>6</td>\n      <td>a</td>\n      <td>6</td>\n      <td>X</td>\n      <td>3</td>\n      <td>gynecology</td>\n      <td>Q</td>\n      <td>F</td>\n      <td>3.0</td>\n      <td>92346</td>\n      <td>2.0</td>\n      <td>Trauma</td>\n      <td>Minor</td>\n      <td>2</td>\n      <td>31-40</td>\n      <td>5215.0</td>\n      <td>31-40</td>\n    </tr>\n    <tr>\n      <th>204442</th>\n      <td>32</td>\n      <td>f</td>\n      <td>9</td>\n      <td>Y</td>\n      <td>2</td>\n      <td>gynecology</td>\n      <td>S</td>\n      <td>B</td>\n      <td>4.0</td>\n      <td>113798</td>\n      <td>15.0</td>\n      <td>Trauma</td>\n      <td>Moderate</td>\n      <td>3</td>\n      <td>41-50</td>\n      <td>5092.0</td>\n      <td>11-20</td>\n    </tr>\n    <tr>\n      <th>69647</th>\n      <td>25</td>\n      <td>e</td>\n      <td>1</td>\n      <td>X</td>\n      <td>3</td>\n      <td>gynecology</td>\n      <td>Q</td>\n      <td>E</td>\n      <td>2.0</td>\n      <td>109237</td>\n      <td>8.0</td>\n      <td>Emergency</td>\n      <td>Moderate</td>\n      <td>2</td>\n      <td>41-50</td>\n      <td>3390.0</td>\n      <td>41-50</td>\n    </tr>\n  </tbody>\n</table>\n<p>100000 rows × 17 columns</p>\n</div>"
     },
     "metadata": {},
     "execution_count": 2
    }
   ],
   "source": [
    "df = pd.read_csv(\"hospital_train.csv\", index_col=0)\n",
    "df"
   ]
  },
  {
   "cell_type": "code",
   "execution_count": 3,
   "metadata": {},
   "outputs": [],
   "source": [
    "class HospitalEncoder:\n",
    "\n",
    "    @staticmethod\n",
    "    def encode_admission(x):\n",
    "        data = {'Urgent': 2, 'Trauma': 1, 'Emergency': 3}\n",
    "        return data[x]\n",
    "\n",
    "    @staticmethod\n",
    "    def encode_severity(x):\n",
    "        data = {'Moderate': 2, 'Extreme': 3, 'Minor': 1}\n",
    "        return data[x]\n",
    "\n",
    "    @staticmethod\n",
    "    def encode_age(x):\n",
    "        data = {'21-30': 2, '51-60': 5, '71-80': 7, '11-20': 1, \n",
    "        '31-40': 3, '0-10': 0, '61-70': 6, '41-50': 4, '81-90': 4, '91-100': 9}\n",
    "        return data[x]"
   ]
  },
  {
   "cell_type": "code",
   "execution_count": 7,
   "metadata": {},
   "outputs": [
    {
     "output_type": "execute_result",
     "data": {
      "text/plain": [
       "array(['0-10', '21-30', '11-20', '51-60', '31-40', '71-80',\n",
       "       'More than 100 Days', '41-50', '81-90', '61-70', '91-100'],\n",
       "      dtype=object)"
      ]
     },
     "metadata": {},
     "execution_count": 7
    }
   ],
   "source": [
    "df['17'].unique()"
   ]
  },
  {
   "cell_type": "code",
   "execution_count": 13,
   "metadata": {},
   "outputs": [],
   "source": [
    "# Quitamos las columnas no relevantes\n",
    "filtered = df.drop(['1', '3', '4', '7', '8', '10', '11','14','16'], axis=1)\n",
    "\n",
    "# Quitamos las filas donde la columna 9 tiene valor nan (33 registros)\n",
    "#filtered.dropna(inplace=True)\n",
    "\n",
    "# Aplicamos los encoders\n",
    "filtered['12'] = filtered['12'].apply(HospitalEncoder.encode_admission)\n",
    "filtered['13'] = filtered['13'].apply(HospitalEncoder.encode_severity)\n",
    "filtered['15'] = filtered['15'].apply(HospitalEncoder.encode_age)\n",
    "\n",
    "# Get dummies\n",
    "features = filtered[['2', '6']]\n",
    "features = pd.get_dummies(features)\n",
    "filtered.drop(['2', '6'], axis=1, inplace=True)\n",
    "train = pd.concat([filtered, features], axis=1)\n",
    "\n",
    "# Creamos X e y\n",
    "X = np.array(train.drop(['17'], axis=1))\n",
    "y = np.array(train['17'])\n",
    "\n",
    "# Conjuntos train/test\n",
    "X_train, X_test, y_train, y_test = train_test_split(X, y, test_size = 0.20, random_state = 42)"
   ]
  },
  {
   "cell_type": "code",
   "execution_count": 17,
   "metadata": {},
   "outputs": [],
   "source": [
    "def percentage_null(df):\n",
    "    data = {'Column':[], '%_Null':[]}\n",
    "    for col in df.columns:\n",
    "        data['Column'].append(col)\n",
    "        data['%_Null'].append((df[col].isnull().sum())*100/len(df))\n",
    "    return pd.DataFrame(data)\n",
    "\n",
    "nulls = percentage_null(df)"
   ]
  },
  {
   "cell_type": "code",
   "execution_count": 55,
   "metadata": {},
   "outputs": [
    {
     "output_type": "execute_result",
     "data": {
      "text/plain": [
       "   Column  %_Null\n",
       "8       9   0.033\n",
       "10     11   1.483"
      ],
      "text/html": "<div>\n<style scoped>\n    .dataframe tbody tr th:only-of-type {\n        vertical-align: middle;\n    }\n\n    .dataframe tbody tr th {\n        vertical-align: top;\n    }\n\n    .dataframe thead th {\n        text-align: right;\n    }\n</style>\n<table border=\"1\" class=\"dataframe\">\n  <thead>\n    <tr style=\"text-align: right;\">\n      <th></th>\n      <th>Column</th>\n      <th>%_Null</th>\n    </tr>\n  </thead>\n  <tbody>\n    <tr>\n      <th>8</th>\n      <td>9</td>\n      <td>0.033</td>\n    </tr>\n    <tr>\n      <th>10</th>\n      <td>11</td>\n      <td>1.483</td>\n    </tr>\n  </tbody>\n</table>\n</div>"
     },
     "metadata": {},
     "execution_count": 55
    }
   ],
   "source": [
    "nulls[nulls['%_Null'] != 0]"
   ]
  },
  {
   "cell_type": "code",
   "execution_count": 11,
   "metadata": {},
   "outputs": [
    {
     "output_type": "execute_result",
     "data": {
      "text/plain": [
       "    Column                                        Description\n",
       "0        0                     Case_ID registered in Hospital\n",
       "1        1                       Unique code for the Hospital\n",
       "2        2               Unique code for the type of Hospital\n",
       "3        3                          City Code of the Hospital\n",
       "4        4                        Region Code of the Hospital\n",
       "5        5    Number of Extra rooms available in the Hospital\n",
       "6        6                    Department overlooking the case\n",
       "7        7                             Code for the Ward type\n",
       "8        8                         Code for the Ward Facility\n",
       "9        9                       Condition of Bed in the Ward\n",
       "10      10                                  Unique Patient Id\n",
       "11      11                          City Code for the patient\n",
       "12      12          Admission Type registered by the Hospital\n",
       "13      13  Severity of the illness recorded at the time o...\n",
       "14      14                Number of Visitors with the patient\n",
       "15      15                                 Age of the patient\n",
       "16      16                      Deposit at the Admission Time\n",
       "17      17                           Stay Days by the patient"
      ],
      "text/html": "<div>\n<style scoped>\n    .dataframe tbody tr th:only-of-type {\n        vertical-align: middle;\n    }\n\n    .dataframe tbody tr th {\n        vertical-align: top;\n    }\n\n    .dataframe thead th {\n        text-align: right;\n    }\n</style>\n<table border=\"1\" class=\"dataframe\">\n  <thead>\n    <tr style=\"text-align: right;\">\n      <th></th>\n      <th>Column</th>\n      <th>Description</th>\n    </tr>\n  </thead>\n  <tbody>\n    <tr>\n      <th>0</th>\n      <td>0</td>\n      <td>Case_ID registered in Hospital</td>\n    </tr>\n    <tr>\n      <th>1</th>\n      <td>1</td>\n      <td>Unique code for the Hospital</td>\n    </tr>\n    <tr>\n      <th>2</th>\n      <td>2</td>\n      <td>Unique code for the type of Hospital</td>\n    </tr>\n    <tr>\n      <th>3</th>\n      <td>3</td>\n      <td>City Code of the Hospital</td>\n    </tr>\n    <tr>\n      <th>4</th>\n      <td>4</td>\n      <td>Region Code of the Hospital</td>\n    </tr>\n    <tr>\n      <th>5</th>\n      <td>5</td>\n      <td>Number of Extra rooms available in the Hospital</td>\n    </tr>\n    <tr>\n      <th>6</th>\n      <td>6</td>\n      <td>Department overlooking the case</td>\n    </tr>\n    <tr>\n      <th>7</th>\n      <td>7</td>\n      <td>Code for the Ward type</td>\n    </tr>\n    <tr>\n      <th>8</th>\n      <td>8</td>\n      <td>Code for the Ward Facility</td>\n    </tr>\n    <tr>\n      <th>9</th>\n      <td>9</td>\n      <td>Condition of Bed in the Ward</td>\n    </tr>\n    <tr>\n      <th>10</th>\n      <td>10</td>\n      <td>Unique Patient Id</td>\n    </tr>\n    <tr>\n      <th>11</th>\n      <td>11</td>\n      <td>City Code for the patient</td>\n    </tr>\n    <tr>\n      <th>12</th>\n      <td>12</td>\n      <td>Admission Type registered by the Hospital</td>\n    </tr>\n    <tr>\n      <th>13</th>\n      <td>13</td>\n      <td>Severity of the illness recorded at the time o...</td>\n    </tr>\n    <tr>\n      <th>14</th>\n      <td>14</td>\n      <td>Number of Visitors with the patient</td>\n    </tr>\n    <tr>\n      <th>15</th>\n      <td>15</td>\n      <td>Age of the patient</td>\n    </tr>\n    <tr>\n      <th>16</th>\n      <td>16</td>\n      <td>Deposit at the Admission Time</td>\n    </tr>\n    <tr>\n      <th>17</th>\n      <td>17</td>\n      <td>Stay Days by the patient</td>\n    </tr>\n  </tbody>\n</table>\n</div>"
     },
     "metadata": {},
     "execution_count": 11
    }
   ],
   "source": [
    "meaning = pd.read_csv('columns_meaning.csv')\n",
    "meaning"
   ]
  },
  {
   "cell_type": "code",
   "execution_count": 5,
   "metadata": {},
   "outputs": [],
   "source": [
    "from sklearn.ensemble import VotingClassifier, RandomForestClassifier, GradientBoostingClassifier\n",
    "from catboost import CatBoostClassifier\n",
    "from xgboost import XGBClassifier\n",
    "from sklearn.impute import SimpleImputer\n",
    "from sklearn.pipeline import Pipeline"
   ]
  },
  {
   "cell_type": "code",
   "execution_count": 98,
   "metadata": {},
   "outputs": [
    {
     "output_type": "stream",
     "name": "stdout",
     "text": [
      "0.3267480244073222\n"
     ]
    }
   ],
   "source": [
    "rfc = Pipeline(steps=[\n",
    "    ('inputer', SimpleImputer()),\n",
    "    ('rfc', RandomForestClassifier(random_state=42))\n",
    "])\n",
    "\n",
    "rfc.fit(X_train, y_train)\n",
    "y_pred = rfc.predict(X_test)\n",
    "print(accuracy_score(y_test, y_pred))"
   ]
  },
  {
   "cell_type": "code",
   "execution_count": 93,
   "metadata": {},
   "outputs": [
    {
     "output_type": "stream",
     "name": "stdout",
     "text": [
      "0.30804241272381716\n"
     ]
    }
   ],
   "source": [
    "grad = Pipeline(steps=[\n",
    "    ('inputer', SimpleImputer()),\n",
    "    ('grad', GradientBoostingClassifier(random_state=42))\n",
    "])\n",
    "\n",
    "grad.fit(X_train, y_train)\n",
    "y_pred = grad.predict(X_test)\n",
    "print(accuracy_score(y_test, y_pred))"
   ]
  },
  {
   "cell_type": "code",
   "execution_count": 94,
   "metadata": {
    "tags": [
     "outputPrepend"
    ]
   },
   "outputs": [
    {
     "output_type": "stream",
     "name": "stdout",
     "text": [
      "9698\ttotal: 39.9s\tremaining: 25.2s\n",
      "613:\tlearn: 1.7348063\ttotal: 40s\tremaining: 25.1s\n",
      "614:\tlearn: 1.7346965\ttotal: 40.1s\tremaining: 25.1s\n",
      "615:\tlearn: 1.7345934\ttotal: 40.1s\tremaining: 25s\n",
      "616:\tlearn: 1.7344809\ttotal: 40.2s\tremaining: 24.9s\n",
      "617:\tlearn: 1.7344224\ttotal: 40.3s\tremaining: 24.9s\n",
      "618:\tlearn: 1.7343597\ttotal: 40.3s\tremaining: 24.8s\n",
      "619:\tlearn: 1.7342650\ttotal: 40.4s\tremaining: 24.7s\n",
      "620:\tlearn: 1.7341711\ttotal: 40.4s\tremaining: 24.7s\n",
      "621:\tlearn: 1.7341189\ttotal: 40.5s\tremaining: 24.6s\n",
      "622:\tlearn: 1.7340408\ttotal: 40.6s\tremaining: 24.5s\n",
      "623:\tlearn: 1.7339093\ttotal: 40.6s\tremaining: 24.5s\n",
      "624:\tlearn: 1.7338392\ttotal: 40.7s\tremaining: 24.4s\n",
      "625:\tlearn: 1.7337924\ttotal: 40.8s\tremaining: 24.4s\n",
      "626:\tlearn: 1.7337020\ttotal: 40.8s\tremaining: 24.3s\n",
      "627:\tlearn: 1.7335835\ttotal: 40.9s\tremaining: 24.2s\n",
      "628:\tlearn: 1.7334501\ttotal: 41s\tremaining: 24.2s\n",
      "629:\tlearn: 1.7333836\ttotal: 41s\tremaining: 24.1s\n",
      "630:\tlearn: 1.7333215\ttotal: 41.1s\tremaining: 24s\n",
      "631:\tlearn: 1.7332057\ttotal: 41.1s\tremaining: 24s\n",
      "632:\tlearn: 1.7331477\ttotal: 41.2s\tremaining: 23.9s\n",
      "633:\tlearn: 1.7330743\ttotal: 41.3s\tremaining: 23.8s\n",
      "634:\tlearn: 1.7329675\ttotal: 41.3s\tremaining: 23.8s\n",
      "635:\tlearn: 1.7328871\ttotal: 41.4s\tremaining: 23.7s\n",
      "636:\tlearn: 1.7328403\ttotal: 41.5s\tremaining: 23.6s\n",
      "637:\tlearn: 1.7327457\ttotal: 41.5s\tremaining: 23.6s\n",
      "638:\tlearn: 1.7326157\ttotal: 41.6s\tremaining: 23.5s\n",
      "639:\tlearn: 1.7325528\ttotal: 41.7s\tremaining: 23.5s\n",
      "640:\tlearn: 1.7324703\ttotal: 41.8s\tremaining: 23.4s\n",
      "641:\tlearn: 1.7323559\ttotal: 41.9s\tremaining: 23.4s\n",
      "642:\tlearn: 1.7322425\ttotal: 42s\tremaining: 23.3s\n",
      "643:\tlearn: 1.7321611\ttotal: 42s\tremaining: 23.2s\n",
      "644:\tlearn: 1.7320693\ttotal: 42.1s\tremaining: 23.2s\n",
      "645:\tlearn: 1.7319869\ttotal: 42.2s\tremaining: 23.1s\n",
      "646:\tlearn: 1.7319328\ttotal: 42.2s\tremaining: 23s\n",
      "647:\tlearn: 1.7318494\ttotal: 42.3s\tremaining: 23s\n",
      "648:\tlearn: 1.7317418\ttotal: 42.4s\tremaining: 22.9s\n",
      "649:\tlearn: 1.7315855\ttotal: 42.5s\tremaining: 22.9s\n",
      "650:\tlearn: 1.7314770\ttotal: 42.5s\tremaining: 22.8s\n",
      "651:\tlearn: 1.7313143\ttotal: 42.6s\tremaining: 22.7s\n",
      "652:\tlearn: 1.7312143\ttotal: 42.6s\tremaining: 22.7s\n",
      "653:\tlearn: 1.7311268\ttotal: 42.7s\tremaining: 22.6s\n",
      "654:\tlearn: 1.7310684\ttotal: 42.8s\tremaining: 22.5s\n",
      "655:\tlearn: 1.7309716\ttotal: 42.8s\tremaining: 22.5s\n",
      "656:\tlearn: 1.7308842\ttotal: 42.9s\tremaining: 22.4s\n",
      "657:\tlearn: 1.7307707\ttotal: 43s\tremaining: 22.3s\n",
      "658:\tlearn: 1.7306857\ttotal: 43s\tremaining: 22.3s\n",
      "659:\tlearn: 1.7305252\ttotal: 43.1s\tremaining: 22.2s\n",
      "660:\tlearn: 1.7304335\ttotal: 43.1s\tremaining: 22.1s\n",
      "661:\tlearn: 1.7303337\ttotal: 43.2s\tremaining: 22.1s\n",
      "662:\tlearn: 1.7302144\ttotal: 43.3s\tremaining: 22s\n",
      "663:\tlearn: 1.7300859\ttotal: 43.3s\tremaining: 21.9s\n",
      "664:\tlearn: 1.7299896\ttotal: 43.4s\tremaining: 21.9s\n",
      "665:\tlearn: 1.7298438\ttotal: 43.5s\tremaining: 21.8s\n",
      "666:\tlearn: 1.7297977\ttotal: 43.5s\tremaining: 21.7s\n",
      "667:\tlearn: 1.7297172\ttotal: 43.6s\tremaining: 21.7s\n",
      "668:\tlearn: 1.7296092\ttotal: 43.7s\tremaining: 21.6s\n",
      "669:\tlearn: 1.7295363\ttotal: 43.7s\tremaining: 21.5s\n",
      "670:\tlearn: 1.7295001\ttotal: 43.8s\tremaining: 21.5s\n",
      "671:\tlearn: 1.7293602\ttotal: 43.9s\tremaining: 21.4s\n",
      "672:\tlearn: 1.7292657\ttotal: 44s\tremaining: 21.4s\n",
      "673:\tlearn: 1.7292231\ttotal: 44s\tremaining: 21.3s\n",
      "674:\tlearn: 1.7290633\ttotal: 44.1s\tremaining: 21.2s\n",
      "675:\tlearn: 1.7289882\ttotal: 44.1s\tremaining: 21.2s\n",
      "676:\tlearn: 1.7289341\ttotal: 44.2s\tremaining: 21.1s\n",
      "677:\tlearn: 1.7288236\ttotal: 44.3s\tremaining: 21s\n",
      "678:\tlearn: 1.7287734\ttotal: 44.3s\tremaining: 21s\n",
      "679:\tlearn: 1.7286908\ttotal: 44.4s\tremaining: 20.9s\n",
      "680:\tlearn: 1.7286049\ttotal: 44.5s\tremaining: 20.8s\n",
      "681:\tlearn: 1.7285666\ttotal: 44.5s\tremaining: 20.8s\n",
      "682:\tlearn: 1.7284890\ttotal: 44.6s\tremaining: 20.7s\n",
      "683:\tlearn: 1.7284244\ttotal: 44.6s\tremaining: 20.6s\n",
      "684:\tlearn: 1.7282949\ttotal: 44.7s\tremaining: 20.6s\n",
      "685:\tlearn: 1.7282178\ttotal: 44.8s\tremaining: 20.5s\n",
      "686:\tlearn: 1.7281598\ttotal: 44.8s\tremaining: 20.4s\n",
      "687:\tlearn: 1.7280197\ttotal: 44.9s\tremaining: 20.4s\n",
      "688:\tlearn: 1.7278474\ttotal: 44.9s\tremaining: 20.3s\n",
      "689:\tlearn: 1.7277908\ttotal: 45s\tremaining: 20.2s\n",
      "690:\tlearn: 1.7277648\ttotal: 45.1s\tremaining: 20.1s\n",
      "691:\tlearn: 1.7276706\ttotal: 45.1s\tremaining: 20.1s\n",
      "692:\tlearn: 1.7275808\ttotal: 45.2s\tremaining: 20s\n",
      "693:\tlearn: 1.7275286\ttotal: 45.2s\tremaining: 19.9s\n",
      "694:\tlearn: 1.7274281\ttotal: 45.3s\tremaining: 19.9s\n",
      "695:\tlearn: 1.7273513\ttotal: 45.4s\tremaining: 19.8s\n",
      "696:\tlearn: 1.7272595\ttotal: 45.4s\tremaining: 19.7s\n",
      "697:\tlearn: 1.7271271\ttotal: 45.5s\tremaining: 19.7s\n",
      "698:\tlearn: 1.7270151\ttotal: 45.5s\tremaining: 19.6s\n",
      "699:\tlearn: 1.7269245\ttotal: 45.6s\tremaining: 19.5s\n",
      "700:\tlearn: 1.7267602\ttotal: 45.7s\tremaining: 19.5s\n",
      "701:\tlearn: 1.7266662\ttotal: 45.7s\tremaining: 19.4s\n",
      "702:\tlearn: 1.7266011\ttotal: 45.8s\tremaining: 19.3s\n",
      "703:\tlearn: 1.7264944\ttotal: 45.8s\tremaining: 19.3s\n",
      "704:\tlearn: 1.7263956\ttotal: 45.9s\tremaining: 19.2s\n",
      "705:\tlearn: 1.7262900\ttotal: 46s\tremaining: 19.1s\n",
      "706:\tlearn: 1.7262071\ttotal: 46s\tremaining: 19.1s\n",
      "707:\tlearn: 1.7261578\ttotal: 46.1s\tremaining: 19s\n",
      "708:\tlearn: 1.7260835\ttotal: 46.1s\tremaining: 18.9s\n",
      "709:\tlearn: 1.7259873\ttotal: 46.2s\tremaining: 18.9s\n",
      "710:\tlearn: 1.7259018\ttotal: 46.3s\tremaining: 18.8s\n",
      "711:\tlearn: 1.7258080\ttotal: 46.3s\tremaining: 18.7s\n",
      "712:\tlearn: 1.7257434\ttotal: 46.4s\tremaining: 18.7s\n",
      "713:\tlearn: 1.7256327\ttotal: 46.4s\tremaining: 18.6s\n",
      "714:\tlearn: 1.7255137\ttotal: 46.5s\tremaining: 18.5s\n",
      "715:\tlearn: 1.7254222\ttotal: 46.6s\tremaining: 18.5s\n",
      "716:\tlearn: 1.7253279\ttotal: 46.6s\tremaining: 18.4s\n",
      "717:\tlearn: 1.7251814\ttotal: 46.7s\tremaining: 18.3s\n",
      "718:\tlearn: 1.7251047\ttotal: 46.8s\tremaining: 18.3s\n",
      "719:\tlearn: 1.7250511\ttotal: 46.8s\tremaining: 18.2s\n",
      "720:\tlearn: 1.7249535\ttotal: 46.9s\tremaining: 18.1s\n",
      "721:\tlearn: 1.7248549\ttotal: 46.9s\tremaining: 18.1s\n",
      "722:\tlearn: 1.7247738\ttotal: 47s\tremaining: 18s\n",
      "723:\tlearn: 1.7246497\ttotal: 47.1s\tremaining: 17.9s\n",
      "724:\tlearn: 1.7245658\ttotal: 47.1s\tremaining: 17.9s\n",
      "725:\tlearn: 1.7244886\ttotal: 47.2s\tremaining: 17.8s\n",
      "726:\tlearn: 1.7244141\ttotal: 47.2s\tremaining: 17.7s\n",
      "727:\tlearn: 1.7243273\ttotal: 47.3s\tremaining: 17.7s\n",
      "728:\tlearn: 1.7242918\ttotal: 47.4s\tremaining: 17.6s\n",
      "729:\tlearn: 1.7241501\ttotal: 47.4s\tremaining: 17.5s\n",
      "730:\tlearn: 1.7240553\ttotal: 47.5s\tremaining: 17.5s\n",
      "731:\tlearn: 1.7239320\ttotal: 47.6s\tremaining: 17.4s\n",
      "732:\tlearn: 1.7238234\ttotal: 47.6s\tremaining: 17.3s\n",
      "733:\tlearn: 1.7237527\ttotal: 47.7s\tremaining: 17.3s\n",
      "734:\tlearn: 1.7236420\ttotal: 47.7s\tremaining: 17.2s\n",
      "735:\tlearn: 1.7234805\ttotal: 47.8s\tremaining: 17.1s\n",
      "736:\tlearn: 1.7233513\ttotal: 47.9s\tremaining: 17.1s\n",
      "737:\tlearn: 1.7232841\ttotal: 47.9s\tremaining: 17s\n",
      "738:\tlearn: 1.7231198\ttotal: 48s\tremaining: 16.9s\n",
      "739:\tlearn: 1.7230088\ttotal: 48s\tremaining: 16.9s\n",
      "740:\tlearn: 1.7229311\ttotal: 48.1s\tremaining: 16.8s\n",
      "741:\tlearn: 1.7228783\ttotal: 48.2s\tremaining: 16.7s\n",
      "742:\tlearn: 1.7227929\ttotal: 48.2s\tremaining: 16.7s\n",
      "743:\tlearn: 1.7227178\ttotal: 48.3s\tremaining: 16.6s\n",
      "744:\tlearn: 1.7226793\ttotal: 48.3s\tremaining: 16.5s\n",
      "745:\tlearn: 1.7226285\ttotal: 48.4s\tremaining: 16.5s\n",
      "746:\tlearn: 1.7225163\ttotal: 48.5s\tremaining: 16.4s\n",
      "747:\tlearn: 1.7224670\ttotal: 48.5s\tremaining: 16.3s\n",
      "748:\tlearn: 1.7223973\ttotal: 48.6s\tremaining: 16.3s\n",
      "749:\tlearn: 1.7223410\ttotal: 48.7s\tremaining: 16.2s\n",
      "750:\tlearn: 1.7222247\ttotal: 48.7s\tremaining: 16.2s\n",
      "751:\tlearn: 1.7220983\ttotal: 48.8s\tremaining: 16.1s\n",
      "752:\tlearn: 1.7220289\ttotal: 48.8s\tremaining: 16s\n",
      "753:\tlearn: 1.7219777\ttotal: 48.9s\tremaining: 16s\n",
      "754:\tlearn: 1.7219198\ttotal: 49s\tremaining: 15.9s\n",
      "755:\tlearn: 1.7217925\ttotal: 49s\tremaining: 15.8s\n",
      "756:\tlearn: 1.7217328\ttotal: 49.1s\tremaining: 15.8s\n",
      "757:\tlearn: 1.7216485\ttotal: 49.2s\tremaining: 15.7s\n",
      "758:\tlearn: 1.7215587\ttotal: 49.2s\tremaining: 15.6s\n",
      "759:\tlearn: 1.7215047\ttotal: 49.3s\tremaining: 15.6s\n",
      "760:\tlearn: 1.7214350\ttotal: 49.3s\tremaining: 15.5s\n",
      "761:\tlearn: 1.7213567\ttotal: 49.4s\tremaining: 15.4s\n",
      "762:\tlearn: 1.7212923\ttotal: 49.5s\tremaining: 15.4s\n",
      "763:\tlearn: 1.7211734\ttotal: 49.5s\tremaining: 15.3s\n",
      "764:\tlearn: 1.7211119\ttotal: 49.6s\tremaining: 15.2s\n",
      "765:\tlearn: 1.7209723\ttotal: 49.7s\tremaining: 15.2s\n",
      "766:\tlearn: 1.7209128\ttotal: 49.7s\tremaining: 15.1s\n",
      "767:\tlearn: 1.7208332\ttotal: 49.8s\tremaining: 15s\n",
      "768:\tlearn: 1.7207507\ttotal: 49.8s\tremaining: 15s\n",
      "769:\tlearn: 1.7206621\ttotal: 49.9s\tremaining: 14.9s\n",
      "770:\tlearn: 1.7205351\ttotal: 50s\tremaining: 14.8s\n",
      "771:\tlearn: 1.7204097\ttotal: 50s\tremaining: 14.8s\n",
      "772:\tlearn: 1.7203329\ttotal: 50.1s\tremaining: 14.7s\n",
      "773:\tlearn: 1.7202846\ttotal: 50.1s\tremaining: 14.6s\n",
      "774:\tlearn: 1.7202035\ttotal: 50.2s\tremaining: 14.6s\n",
      "775:\tlearn: 1.7201242\ttotal: 50.3s\tremaining: 14.5s\n",
      "776:\tlearn: 1.7200682\ttotal: 50.3s\tremaining: 14.4s\n",
      "777:\tlearn: 1.7199303\ttotal: 50.4s\tremaining: 14.4s\n",
      "778:\tlearn: 1.7198493\ttotal: 50.5s\tremaining: 14.3s\n",
      "779:\tlearn: 1.7197348\ttotal: 50.5s\tremaining: 14.2s\n",
      "780:\tlearn: 1.7196575\ttotal: 50.6s\tremaining: 14.2s\n",
      "781:\tlearn: 1.7195614\ttotal: 50.6s\tremaining: 14.1s\n",
      "782:\tlearn: 1.7194653\ttotal: 50.7s\tremaining: 14.1s\n",
      "783:\tlearn: 1.7193337\ttotal: 50.8s\tremaining: 14s\n",
      "784:\tlearn: 1.7192456\ttotal: 50.8s\tremaining: 13.9s\n",
      "785:\tlearn: 1.7191672\ttotal: 50.9s\tremaining: 13.9s\n",
      "786:\tlearn: 1.7190528\ttotal: 50.9s\tremaining: 13.8s\n",
      "787:\tlearn: 1.7189663\ttotal: 51s\tremaining: 13.7s\n",
      "788:\tlearn: 1.7189189\ttotal: 51.1s\tremaining: 13.7s\n",
      "789:\tlearn: 1.7188456\ttotal: 51.1s\tremaining: 13.6s\n",
      "790:\tlearn: 1.7187482\ttotal: 51.2s\tremaining: 13.5s\n",
      "791:\tlearn: 1.7186275\ttotal: 51.2s\tremaining: 13.5s\n",
      "792:\tlearn: 1.7185610\ttotal: 51.3s\tremaining: 13.4s\n",
      "793:\tlearn: 1.7184739\ttotal: 51.4s\tremaining: 13.3s\n",
      "794:\tlearn: 1.7183791\ttotal: 51.4s\tremaining: 13.3s\n",
      "795:\tlearn: 1.7183196\ttotal: 51.5s\tremaining: 13.2s\n",
      "796:\tlearn: 1.7182102\ttotal: 51.6s\tremaining: 13.1s\n",
      "797:\tlearn: 1.7180789\ttotal: 51.6s\tremaining: 13.1s\n",
      "798:\tlearn: 1.7179633\ttotal: 51.7s\tremaining: 13s\n",
      "799:\tlearn: 1.7178598\ttotal: 51.7s\tremaining: 12.9s\n",
      "800:\tlearn: 1.7177496\ttotal: 51.8s\tremaining: 12.9s\n",
      "801:\tlearn: 1.7176722\ttotal: 51.9s\tremaining: 12.8s\n",
      "802:\tlearn: 1.7175827\ttotal: 51.9s\tremaining: 12.7s\n",
      "803:\tlearn: 1.7175090\ttotal: 52s\tremaining: 12.7s\n",
      "804:\tlearn: 1.7174418\ttotal: 52.1s\tremaining: 12.6s\n",
      "805:\tlearn: 1.7173343\ttotal: 52.1s\tremaining: 12.5s\n",
      "806:\tlearn: 1.7172761\ttotal: 52.2s\tremaining: 12.5s\n",
      "807:\tlearn: 1.7172071\ttotal: 52.3s\tremaining: 12.4s\n",
      "808:\tlearn: 1.7171473\ttotal: 52.3s\tremaining: 12.4s\n",
      "809:\tlearn: 1.7170533\ttotal: 52.4s\tremaining: 12.3s\n",
      "810:\tlearn: 1.7169633\ttotal: 52.5s\tremaining: 12.2s\n",
      "811:\tlearn: 1.7168752\ttotal: 52.5s\tremaining: 12.2s\n",
      "812:\tlearn: 1.7167664\ttotal: 52.6s\tremaining: 12.1s\n",
      "813:\tlearn: 1.7167173\ttotal: 52.6s\tremaining: 12s\n",
      "814:\tlearn: 1.7166022\ttotal: 52.7s\tremaining: 12s\n",
      "815:\tlearn: 1.7165234\ttotal: 52.8s\tremaining: 11.9s\n",
      "816:\tlearn: 1.7164640\ttotal: 52.9s\tremaining: 11.8s\n",
      "817:\tlearn: 1.7163818\ttotal: 52.9s\tremaining: 11.8s\n",
      "818:\tlearn: 1.7162849\ttotal: 53s\tremaining: 11.7s\n",
      "819:\tlearn: 1.7162037\ttotal: 53.1s\tremaining: 11.6s\n",
      "820:\tlearn: 1.7161577\ttotal: 53.1s\tremaining: 11.6s\n",
      "821:\tlearn: 1.7161299\ttotal: 53.2s\tremaining: 11.5s\n",
      "822:\tlearn: 1.7160769\ttotal: 53.2s\tremaining: 11.5s\n",
      "823:\tlearn: 1.7159945\ttotal: 53.3s\tremaining: 11.4s\n",
      "824:\tlearn: 1.7158952\ttotal: 53.4s\tremaining: 11.3s\n",
      "825:\tlearn: 1.7157900\ttotal: 53.4s\tremaining: 11.3s\n",
      "826:\tlearn: 1.7156632\ttotal: 53.5s\tremaining: 11.2s\n",
      "827:\tlearn: 1.7155961\ttotal: 53.6s\tremaining: 11.1s\n",
      "828:\tlearn: 1.7154724\ttotal: 53.6s\tremaining: 11.1s\n",
      "829:\tlearn: 1.7154269\ttotal: 53.7s\tremaining: 11s\n",
      "830:\tlearn: 1.7153411\ttotal: 53.8s\tremaining: 10.9s\n",
      "831:\tlearn: 1.7152383\ttotal: 53.8s\tremaining: 10.9s\n",
      "832:\tlearn: 1.7151662\ttotal: 53.9s\tremaining: 10.8s\n",
      "833:\tlearn: 1.7151354\ttotal: 53.9s\tremaining: 10.7s\n",
      "834:\tlearn: 1.7150233\ttotal: 54s\tremaining: 10.7s\n",
      "835:\tlearn: 1.7149470\ttotal: 54.1s\tremaining: 10.6s\n",
      "836:\tlearn: 1.7148610\ttotal: 54.1s\tremaining: 10.5s\n",
      "837:\tlearn: 1.7147864\ttotal: 54.2s\tremaining: 10.5s\n",
      "838:\tlearn: 1.7147311\ttotal: 54.3s\tremaining: 10.4s\n",
      "839:\tlearn: 1.7146809\ttotal: 54.3s\tremaining: 10.3s\n",
      "840:\tlearn: 1.7145548\ttotal: 54.4s\tremaining: 10.3s\n",
      "841:\tlearn: 1.7144930\ttotal: 54.5s\tremaining: 10.2s\n",
      "842:\tlearn: 1.7143734\ttotal: 54.5s\tremaining: 10.2s\n",
      "843:\tlearn: 1.7142855\ttotal: 54.6s\tremaining: 10.1s\n",
      "844:\tlearn: 1.7142051\ttotal: 54.6s\tremaining: 10s\n",
      "845:\tlearn: 1.7141210\ttotal: 54.7s\tremaining: 9.96s\n",
      "846:\tlearn: 1.7140154\ttotal: 54.8s\tremaining: 9.89s\n",
      "847:\tlearn: 1.7139281\ttotal: 54.8s\tremaining: 9.83s\n",
      "848:\tlearn: 1.7138552\ttotal: 54.9s\tremaining: 9.76s\n",
      "849:\tlearn: 1.7137546\ttotal: 55s\tremaining: 9.7s\n",
      "850:\tlearn: 1.7136418\ttotal: 55s\tremaining: 9.63s\n",
      "851:\tlearn: 1.7135461\ttotal: 55.1s\tremaining: 9.57s\n",
      "852:\tlearn: 1.7134667\ttotal: 55.1s\tremaining: 9.5s\n",
      "853:\tlearn: 1.7134194\ttotal: 55.2s\tremaining: 9.44s\n",
      "854:\tlearn: 1.7133201\ttotal: 55.3s\tremaining: 9.37s\n",
      "855:\tlearn: 1.7132724\ttotal: 55.3s\tremaining: 9.31s\n",
      "856:\tlearn: 1.7131940\ttotal: 55.4s\tremaining: 9.24s\n",
      "857:\tlearn: 1.7131308\ttotal: 55.5s\tremaining: 9.18s\n",
      "858:\tlearn: 1.7130127\ttotal: 55.5s\tremaining: 9.11s\n",
      "859:\tlearn: 1.7129139\ttotal: 55.6s\tremaining: 9.05s\n",
      "860:\tlearn: 1.7128228\ttotal: 55.6s\tremaining: 8.98s\n",
      "861:\tlearn: 1.7127185\ttotal: 55.7s\tremaining: 8.92s\n",
      "862:\tlearn: 1.7126388\ttotal: 55.8s\tremaining: 8.85s\n",
      "863:\tlearn: 1.7125902\ttotal: 55.8s\tremaining: 8.79s\n",
      "864:\tlearn: 1.7125254\ttotal: 55.9s\tremaining: 8.72s\n",
      "865:\tlearn: 1.7124511\ttotal: 56s\tremaining: 8.66s\n",
      "866:\tlearn: 1.7123624\ttotal: 56s\tremaining: 8.59s\n",
      "867:\tlearn: 1.7122471\ttotal: 56.1s\tremaining: 8.53s\n",
      "868:\tlearn: 1.7121558\ttotal: 56.1s\tremaining: 8.46s\n",
      "869:\tlearn: 1.7120847\ttotal: 56.2s\tremaining: 8.4s\n",
      "870:\tlearn: 1.7120338\ttotal: 56.3s\tremaining: 8.33s\n",
      "871:\tlearn: 1.7119930\ttotal: 56.3s\tremaining: 8.27s\n",
      "872:\tlearn: 1.7119072\ttotal: 56.4s\tremaining: 8.2s\n",
      "873:\tlearn: 1.7118490\ttotal: 56.5s\tremaining: 8.14s\n",
      "874:\tlearn: 1.7117748\ttotal: 56.5s\tremaining: 8.07s\n",
      "875:\tlearn: 1.7117358\ttotal: 56.6s\tremaining: 8.01s\n",
      "876:\tlearn: 1.7116398\ttotal: 56.6s\tremaining: 7.94s\n",
      "877:\tlearn: 1.7115729\ttotal: 56.7s\tremaining: 7.88s\n",
      "878:\tlearn: 1.7114698\ttotal: 56.8s\tremaining: 7.81s\n",
      "879:\tlearn: 1.7113705\ttotal: 56.8s\tremaining: 7.75s\n",
      "880:\tlearn: 1.7112792\ttotal: 56.9s\tremaining: 7.68s\n",
      "881:\tlearn: 1.7111960\ttotal: 57s\tremaining: 7.62s\n",
      "882:\tlearn: 1.7111088\ttotal: 57s\tremaining: 7.55s\n",
      "883:\tlearn: 1.7110434\ttotal: 57.1s\tremaining: 7.49s\n",
      "884:\tlearn: 1.7109579\ttotal: 57.1s\tremaining: 7.42s\n",
      "885:\tlearn: 1.7108980\ttotal: 57.2s\tremaining: 7.36s\n",
      "886:\tlearn: 1.7108157\ttotal: 57.3s\tremaining: 7.3s\n",
      "887:\tlearn: 1.7107345\ttotal: 57.3s\tremaining: 7.23s\n",
      "888:\tlearn: 1.7106023\ttotal: 57.4s\tremaining: 7.17s\n",
      "889:\tlearn: 1.7105122\ttotal: 57.5s\tremaining: 7.1s\n",
      "890:\tlearn: 1.7104501\ttotal: 57.5s\tremaining: 7.04s\n",
      "891:\tlearn: 1.7103130\ttotal: 57.6s\tremaining: 6.97s\n",
      "892:\tlearn: 1.7102540\ttotal: 57.7s\tremaining: 6.91s\n",
      "893:\tlearn: 1.7101542\ttotal: 57.7s\tremaining: 6.84s\n",
      "894:\tlearn: 1.7100838\ttotal: 57.8s\tremaining: 6.78s\n",
      "895:\tlearn: 1.7100206\ttotal: 57.8s\tremaining: 6.71s\n",
      "896:\tlearn: 1.7099779\ttotal: 57.9s\tremaining: 6.65s\n",
      "897:\tlearn: 1.7098627\ttotal: 58s\tremaining: 6.58s\n",
      "898:\tlearn: 1.7098221\ttotal: 58s\tremaining: 6.52s\n",
      "899:\tlearn: 1.7097299\ttotal: 58.1s\tremaining: 6.45s\n",
      "900:\tlearn: 1.7096163\ttotal: 58.1s\tremaining: 6.39s\n",
      "901:\tlearn: 1.7095610\ttotal: 58.2s\tremaining: 6.32s\n",
      "902:\tlearn: 1.7094758\ttotal: 58.3s\tremaining: 6.26s\n",
      "903:\tlearn: 1.7094109\ttotal: 58.3s\tremaining: 6.19s\n",
      "904:\tlearn: 1.7093376\ttotal: 58.4s\tremaining: 6.13s\n",
      "905:\tlearn: 1.7092739\ttotal: 58.4s\tremaining: 6.06s\n",
      "906:\tlearn: 1.7091966\ttotal: 58.5s\tremaining: 6s\n",
      "907:\tlearn: 1.7090388\ttotal: 58.6s\tremaining: 5.93s\n",
      "908:\tlearn: 1.7089684\ttotal: 58.6s\tremaining: 5.87s\n",
      "909:\tlearn: 1.7088853\ttotal: 58.7s\tremaining: 5.8s\n",
      "910:\tlearn: 1.7088271\ttotal: 58.7s\tremaining: 5.74s\n",
      "911:\tlearn: 1.7087631\ttotal: 58.8s\tremaining: 5.67s\n",
      "912:\tlearn: 1.7086634\ttotal: 58.9s\tremaining: 5.61s\n",
      "913:\tlearn: 1.7085958\ttotal: 58.9s\tremaining: 5.54s\n",
      "914:\tlearn: 1.7085141\ttotal: 59s\tremaining: 5.48s\n",
      "915:\tlearn: 1.7084196\ttotal: 59s\tremaining: 5.42s\n",
      "916:\tlearn: 1.7083335\ttotal: 59.1s\tremaining: 5.35s\n",
      "917:\tlearn: 1.7082582\ttotal: 59.2s\tremaining: 5.29s\n",
      "918:\tlearn: 1.7082119\ttotal: 59.2s\tremaining: 5.22s\n",
      "919:\tlearn: 1.7081816\ttotal: 59.3s\tremaining: 5.16s\n",
      "920:\tlearn: 1.7081261\ttotal: 59.4s\tremaining: 5.09s\n",
      "921:\tlearn: 1.7080461\ttotal: 59.4s\tremaining: 5.03s\n",
      "922:\tlearn: 1.7080093\ttotal: 59.5s\tremaining: 4.96s\n",
      "923:\tlearn: 1.7079370\ttotal: 59.5s\tremaining: 4.9s\n",
      "924:\tlearn: 1.7078515\ttotal: 59.6s\tremaining: 4.83s\n",
      "925:\tlearn: 1.7077942\ttotal: 59.7s\tremaining: 4.77s\n",
      "926:\tlearn: 1.7077052\ttotal: 59.7s\tremaining: 4.7s\n",
      "927:\tlearn: 1.7076490\ttotal: 59.8s\tremaining: 4.64s\n",
      "928:\tlearn: 1.7075617\ttotal: 59.8s\tremaining: 4.57s\n",
      "929:\tlearn: 1.7075137\ttotal: 59.9s\tremaining: 4.51s\n",
      "930:\tlearn: 1.7074120\ttotal: 60s\tremaining: 4.44s\n",
      "931:\tlearn: 1.7073715\ttotal: 1m\tremaining: 4.38s\n",
      "932:\tlearn: 1.7072805\ttotal: 1m\tremaining: 4.31s\n",
      "933:\tlearn: 1.7071988\ttotal: 1m\tremaining: 4.25s\n",
      "934:\tlearn: 1.7071261\ttotal: 1m\tremaining: 4.18s\n",
      "935:\tlearn: 1.7070346\ttotal: 1m\tremaining: 4.12s\n",
      "936:\tlearn: 1.7069674\ttotal: 1m\tremaining: 4.05s\n",
      "937:\tlearn: 1.7068462\ttotal: 1m\tremaining: 3.99s\n",
      "938:\tlearn: 1.7067757\ttotal: 1m\tremaining: 3.93s\n",
      "939:\tlearn: 1.7067305\ttotal: 1m\tremaining: 3.86s\n",
      "940:\tlearn: 1.7066561\ttotal: 1m\tremaining: 3.8s\n",
      "941:\tlearn: 1.7065353\ttotal: 1m\tremaining: 3.73s\n",
      "942:\tlearn: 1.7064554\ttotal: 1m\tremaining: 3.67s\n",
      "943:\tlearn: 1.7063787\ttotal: 1m\tremaining: 3.6s\n",
      "944:\tlearn: 1.7063699\ttotal: 1m\tremaining: 3.54s\n",
      "945:\tlearn: 1.7062788\ttotal: 1m\tremaining: 3.48s\n",
      "946:\tlearn: 1.7061824\ttotal: 1m\tremaining: 3.41s\n",
      "947:\tlearn: 1.7060460\ttotal: 1m 1s\tremaining: 3.35s\n",
      "948:\tlearn: 1.7059530\ttotal: 1m 1s\tremaining: 3.28s\n",
      "949:\tlearn: 1.7059018\ttotal: 1m 1s\tremaining: 3.22s\n",
      "950:\tlearn: 1.7058208\ttotal: 1m 1s\tremaining: 3.15s\n",
      "951:\tlearn: 1.7057525\ttotal: 1m 1s\tremaining: 3.09s\n",
      "952:\tlearn: 1.7056939\ttotal: 1m 1s\tremaining: 3.02s\n",
      "953:\tlearn: 1.7056368\ttotal: 1m 1s\tremaining: 2.96s\n",
      "954:\tlearn: 1.7055697\ttotal: 1m 1s\tremaining: 2.89s\n",
      "955:\tlearn: 1.7054959\ttotal: 1m 1s\tremaining: 2.83s\n",
      "956:\tlearn: 1.7053932\ttotal: 1m 1s\tremaining: 2.77s\n",
      "957:\tlearn: 1.7052722\ttotal: 1m 1s\tremaining: 2.7s\n",
      "958:\tlearn: 1.7051527\ttotal: 1m 1s\tremaining: 2.64s\n",
      "959:\tlearn: 1.7050818\ttotal: 1m 1s\tremaining: 2.57s\n",
      "960:\tlearn: 1.7050113\ttotal: 1m 1s\tremaining: 2.51s\n",
      "961:\tlearn: 1.7049343\ttotal: 1m 1s\tremaining: 2.44s\n",
      "962:\tlearn: 1.7048509\ttotal: 1m 1s\tremaining: 2.38s\n",
      "963:\tlearn: 1.7047677\ttotal: 1m 1s\tremaining: 2.31s\n",
      "964:\tlearn: 1.7046994\ttotal: 1m 2s\tremaining: 2.25s\n",
      "965:\tlearn: 1.7046401\ttotal: 1m 2s\tremaining: 2.19s\n",
      "966:\tlearn: 1.7045118\ttotal: 1m 2s\tremaining: 2.12s\n",
      "967:\tlearn: 1.7044142\ttotal: 1m 2s\tremaining: 2.06s\n",
      "968:\tlearn: 1.7043037\ttotal: 1m 2s\tremaining: 1.99s\n",
      "969:\tlearn: 1.7042453\ttotal: 1m 2s\tremaining: 1.93s\n",
      "970:\tlearn: 1.7041744\ttotal: 1m 2s\tremaining: 1.86s\n",
      "971:\tlearn: 1.7041047\ttotal: 1m 2s\tremaining: 1.8s\n",
      "972:\tlearn: 1.7040751\ttotal: 1m 2s\tremaining: 1.73s\n",
      "973:\tlearn: 1.7040060\ttotal: 1m 2s\tremaining: 1.67s\n",
      "974:\tlearn: 1.7039618\ttotal: 1m 2s\tremaining: 1.6s\n",
      "975:\tlearn: 1.7039267\ttotal: 1m 2s\tremaining: 1.54s\n",
      "976:\tlearn: 1.7038066\ttotal: 1m 2s\tremaining: 1.48s\n",
      "977:\tlearn: 1.7037144\ttotal: 1m 2s\tremaining: 1.41s\n",
      "978:\tlearn: 1.7036635\ttotal: 1m 2s\tremaining: 1.35s\n",
      "979:\tlearn: 1.7036128\ttotal: 1m 2s\tremaining: 1.28s\n",
      "980:\tlearn: 1.7035339\ttotal: 1m 2s\tremaining: 1.22s\n",
      "981:\tlearn: 1.7035034\ttotal: 1m 3s\tremaining: 1.16s\n",
      "982:\tlearn: 1.7033975\ttotal: 1m 3s\tremaining: 1.09s\n",
      "983:\tlearn: 1.7032822\ttotal: 1m 3s\tremaining: 1.03s\n",
      "984:\tlearn: 1.7031855\ttotal: 1m 3s\tremaining: 963ms\n",
      "985:\tlearn: 1.7030653\ttotal: 1m 3s\tremaining: 899ms\n",
      "986:\tlearn: 1.7029693\ttotal: 1m 3s\tremaining: 835ms\n",
      "987:\tlearn: 1.7029199\ttotal: 1m 3s\tremaining: 770ms\n",
      "988:\tlearn: 1.7027894\ttotal: 1m 3s\tremaining: 706ms\n",
      "989:\tlearn: 1.7026974\ttotal: 1m 3s\tremaining: 642ms\n",
      "990:\tlearn: 1.7026105\ttotal: 1m 3s\tremaining: 578ms\n",
      "991:\tlearn: 1.7025186\ttotal: 1m 3s\tremaining: 513ms\n",
      "992:\tlearn: 1.7024648\ttotal: 1m 3s\tremaining: 449ms\n",
      "993:\tlearn: 1.7023821\ttotal: 1m 3s\tremaining: 385ms\n",
      "994:\tlearn: 1.7022995\ttotal: 1m 3s\tremaining: 321ms\n",
      "995:\tlearn: 1.7022388\ttotal: 1m 3s\tremaining: 257ms\n",
      "996:\tlearn: 1.7021670\ttotal: 1m 3s\tremaining: 193ms\n",
      "997:\tlearn: 1.7020896\ttotal: 1m 4s\tremaining: 128ms\n",
      "998:\tlearn: 1.7020190\ttotal: 1m 4s\tremaining: 64.2ms\n",
      "999:\tlearn: 1.7019903\ttotal: 1m 4s\tremaining: 0us\n",
      "0.3047914374312294\n"
     ]
    }
   ],
   "source": [
    "wildcat = Pipeline(steps=[\n",
    "    ('inputer', SimpleImputer()),\n",
    "    ('cat', CatBoostClassifier(logging_level='Silent'))\n",
    "])\n",
    "\n",
    "wildcat.fit(X_train, y_train)\n",
    "y_pred = wildcat.predict(X_test)\n",
    "print(accuracy_score(y_test, y_pred))"
   ]
  },
  {
   "cell_type": "code",
   "execution_count": 95,
   "metadata": {},
   "outputs": [
    {
     "output_type": "stream",
     "name": "stderr",
     "text": [
      "C:\\Users\\jgnsa\\AppData\\Local\\Programs\\Python\\Python37\\lib\\site-packages\\xgboost\\sklearn.py:1146: UserWarning: The use of label encoder in XGBClassifier is deprecated and will be removed in a future release. To remove this warning, do the following: 1) Pass option use_label_encoder=False when constructing XGBClassifier object; and 2) Encode your labels (y) as integers starting with 0, i.e. 0, 1, 2, ..., [num_class - 1].\n",
      "  warnings.warn(label_encoder_deprecation_msg, UserWarning)\n",
      "[17:56:24] WARNING: C:/Users/Administrator/workspace/xgboost-win64_release_1.4.0/src/learner.cc:1095: Starting in XGBoost 1.3.0, the default evaluation metric used with the objective 'multi:softprob' was changed from 'merror' to 'mlogloss'. Explicitly set eval_metric if you'd like to restore the old behavior.\n",
      "0.30614184255276583\n"
     ]
    }
   ],
   "source": [
    "xgb = Pipeline(steps=[\n",
    "    ('inputer', SimpleImputer()),\n",
    "    ('xgb', XGBClassifier())\n",
    "])\n",
    "\n",
    "xgb.fit(X_train, y_train)\n",
    "y_pred = xgb.predict(X_test)\n",
    "print(accuracy_score(y_test, y_pred))"
   ]
  },
  {
   "cell_type": "code",
   "execution_count": 11,
   "metadata": {
    "tags": []
   },
   "outputs": [
    {
     "output_type": "stream",
     "name": "stderr",
     "text": [
      "C:\\Users\\jgnsa\\AppData\\Local\\Programs\\Python\\Python37\\lib\\site-packages\\xgboost\\sklearn.py:1146: UserWarning: The use of label encoder in XGBClassifier is deprecated and will be removed in a future release. To remove this warning, do the following: 1) Pass option use_label_encoder=False when constructing XGBClassifier object; and 2) Encode your labels (y) as integers starting with 0, i.e. 0, 1, 2, ..., [num_class - 1].\n",
      "  warnings.warn(label_encoder_deprecation_msg, UserWarning)\n",
      "[19:58:15] WARNING: C:/Users/Administrator/workspace/xgboost-win64_release_1.4.0/src/learner.cc:1095: Starting in XGBoost 1.3.0, the default evaluation metric used with the objective 'multi:softprob' was changed from 'merror' to 'mlogloss'. Explicitly set eval_metric if you'd like to restore the old behavior.\n",
      "0.30989296789036713\n"
     ]
    }
   ],
   "source": [
    "R = Pipeline(steps=[\n",
    "    ('inputer', SimpleImputer()),\n",
    "    ('rfc', RandomForestClassifier(random_state=42))\n",
    "])\n",
    "\n",
    "G = Pipeline(steps=[\n",
    "    ('inputer', SimpleImputer()),\n",
    "    ('grad', GradientBoostingClassifier(random_state=42))\n",
    "])\n",
    "\n",
    "X = Pipeline(steps=[\n",
    "    ('inputer', SimpleImputer()),\n",
    "    ('xgb', XGBClassifier())\n",
    "])\n",
    "\n",
    "C = Pipeline(steps=[\n",
    "    ('inputer', SimpleImputer()),\n",
    "    ('cat', CatBoostClassifier(logging_level='Silent'))\n",
    "])\n",
    "\n",
    "\n",
    "estimators = [('G', G), ('X', X), ('C', C)]\n",
    "voting = VotingClassifier(estimators, voting='soft')\n",
    "\n",
    "voting.fit(X_train, y_train)\n",
    "y_pred = voting.predict(X_test)\n",
    "print(accuracy_score(y_test, y_pred))"
   ]
  },
  {
   "cell_type": "code",
   "execution_count": 130,
   "metadata": {},
   "outputs": [
    {
     "output_type": "execute_result",
     "data": {
      "text/plain": [
       "(19994, 1)"
      ]
     },
     "metadata": {},
     "execution_count": 130
    }
   ],
   "source": [
    "y_test.shape"
   ]
  },
  {
   "cell_type": "code",
   "execution_count": 131,
   "metadata": {},
   "outputs": [
    {
     "output_type": "execute_result",
     "data": {
      "text/plain": [
       "(19994, 17)"
      ]
     },
     "metadata": {},
     "execution_count": 131
    }
   ],
   "source": [
    "X_test.shape"
   ]
  },
  {
   "cell_type": "code",
   "execution_count": 133,
   "metadata": {},
   "outputs": [
    {
     "output_type": "stream",
     "name": "stderr",
     "text": [
      "C:\\Users\\jgnsa\\AppData\\Local\\Programs\\Python\\Python37\\lib\\site-packages\\numpy\\core\\_asarray.py:83: VisibleDeprecationWarning: Creating an ndarray from ragged nested sequences (which is a list-or-tuple of lists-or-tuples-or ndarrays with different lengths or shapes) is deprecated. If you meant to do this, you must specify 'dtype=object' when creating the ndarray\n  return array(a, dtype, copy=False, order=order)\n"
     ]
    },
    {
     "output_type": "error",
     "ename": "ValueError",
     "evalue": "could not broadcast input array from shape (19994,1) into shape (19994)",
     "traceback": [
      "\u001b[1;31m---------------------------------------------------------------------------\u001b[0m",
      "\u001b[1;31mValueError\u001b[0m                                Traceback (most recent call last)",
      "\u001b[1;32m<ipython-input-133-1d1bd06e7265>\u001b[0m in \u001b[0;36m<module>\u001b[1;34m\u001b[0m\n\u001b[1;32m----> 1\u001b[1;33m \u001b[0my_pred1\u001b[0m \u001b[1;33m=\u001b[0m \u001b[0mvoting\u001b[0m\u001b[1;33m.\u001b[0m\u001b[0mpredict\u001b[0m\u001b[1;33m(\u001b[0m\u001b[0mX_test\u001b[0m\u001b[1;33m)\u001b[0m\u001b[1;33m\u001b[0m\u001b[1;33m\u001b[0m\u001b[0m\n\u001b[0m\u001b[0;32m      2\u001b[0m \u001b[0mprint\u001b[0m\u001b[1;33m(\u001b[0m\u001b[0maccuracy_score\u001b[0m\u001b[1;33m(\u001b[0m\u001b[0my_test\u001b[0m\u001b[1;33m,\u001b[0m \u001b[0my_pred1\u001b[0m\u001b[1;33m)\u001b[0m\u001b[1;33m)\u001b[0m\u001b[1;33m\u001b[0m\u001b[1;33m\u001b[0m\u001b[0m\n",
      "\u001b[1;32m~\\AppData\\Local\\Programs\\Python\\Python37\\lib\\site-packages\\sklearn\\utils\\metaestimators.py\u001b[0m in \u001b[0;36m<lambda>\u001b[1;34m(*args, **kwargs)\u001b[0m\n\u001b[0;32m    118\u001b[0m \u001b[1;33m\u001b[0m\u001b[0m\n\u001b[0;32m    119\u001b[0m         \u001b[1;31m# lambda, but not partial, allows help() to work with update_wrapper\u001b[0m\u001b[1;33m\u001b[0m\u001b[1;33m\u001b[0m\u001b[1;33m\u001b[0m\u001b[0m\n\u001b[1;32m--> 120\u001b[1;33m         \u001b[0mout\u001b[0m \u001b[1;33m=\u001b[0m \u001b[1;32mlambda\u001b[0m \u001b[1;33m*\u001b[0m\u001b[0margs\u001b[0m\u001b[1;33m,\u001b[0m \u001b[1;33m**\u001b[0m\u001b[0mkwargs\u001b[0m\u001b[1;33m:\u001b[0m \u001b[0mself\u001b[0m\u001b[1;33m.\u001b[0m\u001b[0mfn\u001b[0m\u001b[1;33m(\u001b[0m\u001b[0mobj\u001b[0m\u001b[1;33m,\u001b[0m \u001b[1;33m*\u001b[0m\u001b[0margs\u001b[0m\u001b[1;33m,\u001b[0m \u001b[1;33m**\u001b[0m\u001b[0mkwargs\u001b[0m\u001b[1;33m)\u001b[0m\u001b[1;33m\u001b[0m\u001b[1;33m\u001b[0m\u001b[0m\n\u001b[0m\u001b[0;32m    121\u001b[0m         \u001b[1;31m# update the docstring of the returned function\u001b[0m\u001b[1;33m\u001b[0m\u001b[1;33m\u001b[0m\u001b[1;33m\u001b[0m\u001b[0m\n\u001b[0;32m    122\u001b[0m         \u001b[0mupdate_wrapper\u001b[0m\u001b[1;33m(\u001b[0m\u001b[0mout\u001b[0m\u001b[1;33m,\u001b[0m \u001b[0mself\u001b[0m\u001b[1;33m.\u001b[0m\u001b[0mfn\u001b[0m\u001b[1;33m)\u001b[0m\u001b[1;33m\u001b[0m\u001b[1;33m\u001b[0m\u001b[0m\n",
      "\u001b[1;32m~\\AppData\\Local\\Programs\\Python\\Python37\\lib\\site-packages\\sklearn\\pipeline.py\u001b[0m in \u001b[0;36mpredict\u001b[1;34m(self, X, **predict_params)\u001b[0m\n\u001b[0;32m    417\u001b[0m         \u001b[1;32mfor\u001b[0m \u001b[0m_\u001b[0m\u001b[1;33m,\u001b[0m \u001b[0mname\u001b[0m\u001b[1;33m,\u001b[0m \u001b[0mtransform\u001b[0m \u001b[1;32min\u001b[0m \u001b[0mself\u001b[0m\u001b[1;33m.\u001b[0m\u001b[0m_iter\u001b[0m\u001b[1;33m(\u001b[0m\u001b[0mwith_final\u001b[0m\u001b[1;33m=\u001b[0m\u001b[1;32mFalse\u001b[0m\u001b[1;33m)\u001b[0m\u001b[1;33m:\u001b[0m\u001b[1;33m\u001b[0m\u001b[1;33m\u001b[0m\u001b[0m\n\u001b[0;32m    418\u001b[0m             \u001b[0mXt\u001b[0m \u001b[1;33m=\u001b[0m \u001b[0mtransform\u001b[0m\u001b[1;33m.\u001b[0m\u001b[0mtransform\u001b[0m\u001b[1;33m(\u001b[0m\u001b[0mXt\u001b[0m\u001b[1;33m)\u001b[0m\u001b[1;33m\u001b[0m\u001b[1;33m\u001b[0m\u001b[0m\n\u001b[1;32m--> 419\u001b[1;33m         \u001b[1;32mreturn\u001b[0m \u001b[0mself\u001b[0m\u001b[1;33m.\u001b[0m\u001b[0msteps\u001b[0m\u001b[1;33m[\u001b[0m\u001b[1;33m-\u001b[0m\u001b[1;36m1\u001b[0m\u001b[1;33m]\u001b[0m\u001b[1;33m[\u001b[0m\u001b[1;33m-\u001b[0m\u001b[1;36m1\u001b[0m\u001b[1;33m]\u001b[0m\u001b[1;33m.\u001b[0m\u001b[0mpredict\u001b[0m\u001b[1;33m(\u001b[0m\u001b[0mXt\u001b[0m\u001b[1;33m,\u001b[0m \u001b[1;33m**\u001b[0m\u001b[0mpredict_params\u001b[0m\u001b[1;33m)\u001b[0m\u001b[1;33m\u001b[0m\u001b[1;33m\u001b[0m\u001b[0m\n\u001b[0m\u001b[0;32m    420\u001b[0m \u001b[1;33m\u001b[0m\u001b[0m\n\u001b[0;32m    421\u001b[0m     \u001b[1;33m@\u001b[0m\u001b[0mif_delegate_has_method\u001b[0m\u001b[1;33m(\u001b[0m\u001b[0mdelegate\u001b[0m\u001b[1;33m=\u001b[0m\u001b[1;34m'_final_estimator'\u001b[0m\u001b[1;33m)\u001b[0m\u001b[1;33m\u001b[0m\u001b[1;33m\u001b[0m\u001b[0m\n",
      "\u001b[1;32m~\\AppData\\Local\\Programs\\Python\\Python37\\lib\\site-packages\\sklearn\\ensemble\\_voting.py\u001b[0m in \u001b[0;36mpredict\u001b[1;34m(self, X)\u001b[0m\n\u001b[0;32m    310\u001b[0m \u001b[1;33m\u001b[0m\u001b[0m\n\u001b[0;32m    311\u001b[0m         \u001b[1;32melse\u001b[0m\u001b[1;33m:\u001b[0m  \u001b[1;31m# 'hard' voting\u001b[0m\u001b[1;33m\u001b[0m\u001b[1;33m\u001b[0m\u001b[0m\n\u001b[1;32m--> 312\u001b[1;33m             \u001b[0mpredictions\u001b[0m \u001b[1;33m=\u001b[0m \u001b[0mself\u001b[0m\u001b[1;33m.\u001b[0m\u001b[0m_predict\u001b[0m\u001b[1;33m(\u001b[0m\u001b[0mX\u001b[0m\u001b[1;33m)\u001b[0m\u001b[1;33m\u001b[0m\u001b[1;33m\u001b[0m\u001b[0m\n\u001b[0m\u001b[0;32m    313\u001b[0m             maj = np.apply_along_axis(\n\u001b[0;32m    314\u001b[0m                 lambda x: np.argmax(\n",
      "\u001b[1;32m~\\AppData\\Local\\Programs\\Python\\Python37\\lib\\site-packages\\sklearn\\ensemble\\_voting.py\u001b[0m in \u001b[0;36m_predict\u001b[1;34m(self, X)\u001b[0m\n\u001b[0;32m     59\u001b[0m     \u001b[1;32mdef\u001b[0m \u001b[0m_predict\u001b[0m\u001b[1;33m(\u001b[0m\u001b[0mself\u001b[0m\u001b[1;33m,\u001b[0m \u001b[0mX\u001b[0m\u001b[1;33m)\u001b[0m\u001b[1;33m:\u001b[0m\u001b[1;33m\u001b[0m\u001b[1;33m\u001b[0m\u001b[0m\n\u001b[0;32m     60\u001b[0m         \u001b[1;34m\"\"\"Collect results from clf.predict calls.\"\"\"\u001b[0m\u001b[1;33m\u001b[0m\u001b[1;33m\u001b[0m\u001b[0m\n\u001b[1;32m---> 61\u001b[1;33m         \u001b[1;32mreturn\u001b[0m \u001b[0mnp\u001b[0m\u001b[1;33m.\u001b[0m\u001b[0masarray\u001b[0m\u001b[1;33m(\u001b[0m\u001b[1;33m[\u001b[0m\u001b[0mest\u001b[0m\u001b[1;33m.\u001b[0m\u001b[0mpredict\u001b[0m\u001b[1;33m(\u001b[0m\u001b[0mX\u001b[0m\u001b[1;33m)\u001b[0m \u001b[1;32mfor\u001b[0m \u001b[0mest\u001b[0m \u001b[1;32min\u001b[0m \u001b[0mself\u001b[0m\u001b[1;33m.\u001b[0m\u001b[0mestimators_\u001b[0m\u001b[1;33m]\u001b[0m\u001b[1;33m)\u001b[0m\u001b[1;33m.\u001b[0m\u001b[0mT\u001b[0m\u001b[1;33m\u001b[0m\u001b[1;33m\u001b[0m\u001b[0m\n\u001b[0m\u001b[0;32m     62\u001b[0m \u001b[1;33m\u001b[0m\u001b[0m\n\u001b[0;32m     63\u001b[0m     \u001b[1;33m@\u001b[0m\u001b[0mabstractmethod\u001b[0m\u001b[1;33m\u001b[0m\u001b[1;33m\u001b[0m\u001b[0m\n",
      "\u001b[1;32m~\\AppData\\Local\\Programs\\Python\\Python37\\lib\\site-packages\\numpy\\core\\_asarray.py\u001b[0m in \u001b[0;36masarray\u001b[1;34m(a, dtype, order)\u001b[0m\n\u001b[0;32m     81\u001b[0m \u001b[1;33m\u001b[0m\u001b[0m\n\u001b[0;32m     82\u001b[0m     \"\"\"\n\u001b[1;32m---> 83\u001b[1;33m     \u001b[1;32mreturn\u001b[0m \u001b[0marray\u001b[0m\u001b[1;33m(\u001b[0m\u001b[0ma\u001b[0m\u001b[1;33m,\u001b[0m \u001b[0mdtype\u001b[0m\u001b[1;33m,\u001b[0m \u001b[0mcopy\u001b[0m\u001b[1;33m=\u001b[0m\u001b[1;32mFalse\u001b[0m\u001b[1;33m,\u001b[0m \u001b[0morder\u001b[0m\u001b[1;33m=\u001b[0m\u001b[0morder\u001b[0m\u001b[1;33m)\u001b[0m\u001b[1;33m\u001b[0m\u001b[1;33m\u001b[0m\u001b[0m\n\u001b[0m\u001b[0;32m     84\u001b[0m \u001b[1;33m\u001b[0m\u001b[0m\n\u001b[0;32m     85\u001b[0m \u001b[1;33m\u001b[0m\u001b[0m\n",
      "\u001b[1;31mValueError\u001b[0m: could not broadcast input array from shape (19994,1) into shape (19994)"
     ]
    }
   ],
   "source": [
    "y_pred1 = voting.predict(X_test)\n",
    "print(accuracy_score(y_test, y_pred1))"
   ]
  },
  {
   "cell_type": "code",
   "execution_count": 17,
   "metadata": {},
   "outputs": [],
   "source": [
    "def chequeator(df_to_submit):\n",
    "    \"\"\"\n",
    "    Esta función se asegura de que tu submission tenga la forma requerida por Kaggle.\n",
    "    \n",
    "    Si es así, se guardará el dataframe en un `csv` y estará listo para subir a Kaggle.\n",
    "    \n",
    "    Si no, LEE EL MENSAJE Y HAZLE CASO.\n",
    "    \n",
    "    Si aún no:\n",
    "    - apaga tu ordenador, \n",
    "    - date una vuelta, \n",
    "    - enciendelo otra vez, \n",
    "    - abre este notebook y \n",
    "    - leelo todo de nuevo. \n",
    "    Todos nos merecemos una segunda oportunidad. También tú.\n",
    "    \"\"\"\n",
    "    sample = pd.read_csv(\"sample_submission.csv\")\n",
    "    if df_to_submit.shape == sample.shape:\n",
    "        if df_to_submit.columns.all() == sample.columns.all():\n",
    "            if df_to_submit.id.all() == sample.id.all():\n",
    "                print(\"You're ready to submit!\")\n",
    "                df_to_submit.to_csv(\"submission.csv\", index = False) #muy importante el index = False\n",
    "                urllib.request.urlretrieve(\"https://i.kym-cdn.com/photos/images/facebook/000/747/556/27a.jpg\", \"gfg.png\")     \n",
    "                img = Image.open(\"gfg.png\")\n",
    "                img.show()   \n",
    "            else:\n",
    "                print(\"Check the ids and try again\")\n",
    "        else:\n",
    "            print(\"Check the names of the columns and try again\")\n",
    "    else:\n",
    "        print(\"Check the number of rows and/or columns and try again\")\n",
    "        print(\"\\nMensaje secreto de Clara: No me puedo creer que después de todo este notebook hayas hecho algún cambio en las filas de `diamonds_test.csv`. Lloro.\")\n",
    "\n",
    "filepath = 'hospital_test.csv'\n",
    "\n",
    "def prepare_test(model, filepath):\n",
    "    df = pd.read_csv(filepath, index_col=0)\n",
    "    # Operaciones de transformación.\n",
    "    # Quitamos las columnas no relevantes\n",
    "    filtered = df.drop(['1', '3', '4', '7', '8', '10', '11', '14','16'], axis=1)\n",
    "\n",
    "    # Aplicamos los encoders\n",
    "    filtered['12'] = filtered['12'].apply(HospitalEncoder.encode_admission)\n",
    "    filtered['13'] = filtered['13'].apply(HospitalEncoder.encode_severity)\n",
    "    filtered['15'] = filtered['15'].apply(HospitalEncoder.encode_age)\n",
    "\n",
    "    # Get dummies\n",
    "    features = filtered[['2', '6']]\n",
    "    features = pd.get_dummies(features)\n",
    "    filtered.drop(['2', '6'], axis=1, inplace=True)\n",
    "    test = pd.concat([filtered, features], axis=1)\n",
    "\n",
    "    # Creamos X\n",
    "    X = np.array(test)\n",
    "\n",
    "    # Cambiamos Nan por la media\n",
    "    sim = SimpleImputer()\n",
    "    X = sim.fit_transform(X)\n",
    "\n",
    "    # Cogemos índice de sample_submission.csv\n",
    "    sample = pd.read_csv('sample_submission.csv')\n",
    "\n",
    "    # Preparamos dataframe de test.\n",
    "    predictions_submit = model.predict(X)\n",
    "    submission = pd.DataFrame({\"id\": sample.id, \"days\": predictions_submit.ravel()})\n",
    "    \n",
    "    return submission"
   ]
  },
  {
   "cell_type": "code",
   "execution_count": 16,
   "metadata": {
    "tags": []
   },
   "outputs": [
    {
     "output_type": "stream",
     "name": "stderr",
     "text": [
      "C:\\Users\\jgnsa\\AppData\\Local\\Programs\\Python\\Python37\\lib\\site-packages\\xgboost\\sklearn.py:1146: UserWarning: The use of label encoder in XGBClassifier is deprecated and will be removed in a future release. To remove this warning, do the following: 1) Pass option use_label_encoder=False when constructing XGBClassifier object; and 2) Encode your labels (y) as integers starting with 0, i.e. 0, 1, 2, ..., [num_class - 1].\n",
      "  warnings.warn(label_encoder_deprecation_msg, UserWarning)\n",
      "[20:15:41] WARNING: C:/Users/Administrator/workspace/xgboost-win64_release_1.4.0/src/learner.cc:1095: Starting in XGBoost 1.3.0, the default evaluation metric used with the objective 'multi:softprob' was changed from 'merror' to 'mlogloss'. Explicitly set eval_metric if you'd like to restore the old behavior.\n",
      "You're ready to submit!\n"
     ]
    }
   ],
   "source": [
    "import pickle\n",
    "'''\n",
    "filename = 'hospital_cat_grad_xgb.model'\n",
    "\n",
    "with open(filename, 'wb') as archivo_salida:\n",
    "    pickle.dump(voting, archivo_salida)\n",
    "'''\n",
    "filepath = 'hospital_test.csv'\n",
    "sim = SimpleImputer()\n",
    "X_processed = sim.fit_transform(X)\n",
    "voting.fit(X_processed, y)\n",
    "submission = prepare_test(voting, filepath)\n",
    "chequeator(submission)"
   ]
  },
  {
   "cell_type": "code",
   "execution_count": 111,
   "metadata": {},
   "outputs": [
    {
     "output_type": "stream",
     "name": "stdout",
     "text": [
      "You're ready to submit!\n"
     ]
    }
   ],
   "source": [
    "submission = prepare_test(wildcat, filepath)\n",
    "chequeator(submission)"
   ]
  },
  {
   "cell_type": "code",
   "execution_count": 14,
   "metadata": {},
   "outputs": [
    {
     "output_type": "execute_result",
     "data": {
      "text/plain": [
       "array([[3., 3., 1., ..., 0., 1., 0.],\n",
       "       [2., 2., 1., ..., 1., 0., 0.],\n",
       "       [3., 2., 2., ..., 1., 0., 0.],\n",
       "       ...,\n",
       "       [3., 3., 1., ..., 1., 0., 0.],\n",
       "       [4., 2., 1., ..., 1., 0., 0.],\n",
       "       [3., 2., 3., ..., 1., 0., 0.]])"
      ]
     },
     "metadata": {},
     "execution_count": 14
    }
   ],
   "source": [
    "sim = SimpleImputer()\n",
    "sim.fit_transform(X_train)"
   ]
  },
  {
   "cell_type": "code",
   "execution_count": 15,
   "metadata": {},
   "outputs": [
    {
     "output_type": "stream",
     "name": "stdout",
     "text": [
      "0.3125\n"
     ]
    }
   ],
   "source": [
    "wildcat = Pipeline(steps=[\n",
    "    ('inputer', SimpleImputer()),\n",
    "    ('cat', CatBoostClassifier())\n",
    "])\n",
    "\n",
    "wildcat.fit(X_train, y_train)\n",
    "y_pred = wildcat.predict(X_test)\n",
    "print(accuracy_score(y_test, y_pred))"
   ]
  },
  {
   "source": [
    "# H2O"
   ],
   "cell_type": "markdown",
   "metadata": {}
  },
  {
   "cell_type": "code",
   "execution_count": 18,
   "metadata": {},
   "outputs": [],
   "source": [
    "from sklearn.preprocessing import LabelEncoder\n",
    "import h2o\n",
    "from h2o.automl import H2OAutoML"
   ]
  },
  {
   "cell_type": "code",
   "execution_count": 24,
   "metadata": {},
   "outputs": [
    {
     "output_type": "execute_result",
     "data": {
      "text/plain": [
       "        5    9  12  13  15     17  2_a  2_b  2_c  2_d  2_e  2_f  2_g  \\\n",
       "0                                                                      \n",
       "161528  2  4.0   2   2   2   0-10    1    0    0    0    0    0    0   \n",
       "159472  4  2.0   1   2   5  21-30    1    0    0    0    0    0    0   \n",
       "309765  2  3.0   2   2   7  11-20    0    0    1    0    0    0    0   \n",
       "279614  3  4.0   3   2   1  51-60    0    0    0    0    0    1    0   \n",
       "147791  3  2.0   2   2   5  51-60    1    0    0    0    0    0    0   \n",
       "\n",
       "        6_TB & Chest disease  6_anesthesia  6_gynecology  6_radiotherapy  \\\n",
       "0                                                                          \n",
       "161528                     0             0             1               0   \n",
       "159472                     0             0             1               0   \n",
       "309765                     0             1             0               0   \n",
       "279614                     0             0             1               0   \n",
       "147791                     0             0             1               0   \n",
       "\n",
       "        6_surgery  \n",
       "0                  \n",
       "161528          0  \n",
       "159472          0  \n",
       "309765          0  \n",
       "279614          0  \n",
       "147791          0  "
      ],
      "text/html": "<div>\n<style scoped>\n    .dataframe tbody tr th:only-of-type {\n        vertical-align: middle;\n    }\n\n    .dataframe tbody tr th {\n        vertical-align: top;\n    }\n\n    .dataframe thead th {\n        text-align: right;\n    }\n</style>\n<table border=\"1\" class=\"dataframe\">\n  <thead>\n    <tr style=\"text-align: right;\">\n      <th></th>\n      <th>5</th>\n      <th>9</th>\n      <th>12</th>\n      <th>13</th>\n      <th>15</th>\n      <th>17</th>\n      <th>2_a</th>\n      <th>2_b</th>\n      <th>2_c</th>\n      <th>2_d</th>\n      <th>2_e</th>\n      <th>2_f</th>\n      <th>2_g</th>\n      <th>6_TB &amp; Chest disease</th>\n      <th>6_anesthesia</th>\n      <th>6_gynecology</th>\n      <th>6_radiotherapy</th>\n      <th>6_surgery</th>\n    </tr>\n    <tr>\n      <th>0</th>\n      <th></th>\n      <th></th>\n      <th></th>\n      <th></th>\n      <th></th>\n      <th></th>\n      <th></th>\n      <th></th>\n      <th></th>\n      <th></th>\n      <th></th>\n      <th></th>\n      <th></th>\n      <th></th>\n      <th></th>\n      <th></th>\n      <th></th>\n      <th></th>\n    </tr>\n  </thead>\n  <tbody>\n    <tr>\n      <th>161528</th>\n      <td>2</td>\n      <td>4.0</td>\n      <td>2</td>\n      <td>2</td>\n      <td>2</td>\n      <td>0-10</td>\n      <td>1</td>\n      <td>0</td>\n      <td>0</td>\n      <td>0</td>\n      <td>0</td>\n      <td>0</td>\n      <td>0</td>\n      <td>0</td>\n      <td>0</td>\n      <td>1</td>\n      <td>0</td>\n      <td>0</td>\n    </tr>\n    <tr>\n      <th>159472</th>\n      <td>4</td>\n      <td>2.0</td>\n      <td>1</td>\n      <td>2</td>\n      <td>5</td>\n      <td>21-30</td>\n      <td>1</td>\n      <td>0</td>\n      <td>0</td>\n      <td>0</td>\n      <td>0</td>\n      <td>0</td>\n      <td>0</td>\n      <td>0</td>\n      <td>0</td>\n      <td>1</td>\n      <td>0</td>\n      <td>0</td>\n    </tr>\n    <tr>\n      <th>309765</th>\n      <td>2</td>\n      <td>3.0</td>\n      <td>2</td>\n      <td>2</td>\n      <td>7</td>\n      <td>11-20</td>\n      <td>0</td>\n      <td>0</td>\n      <td>1</td>\n      <td>0</td>\n      <td>0</td>\n      <td>0</td>\n      <td>0</td>\n      <td>0</td>\n      <td>1</td>\n      <td>0</td>\n      <td>0</td>\n      <td>0</td>\n    </tr>\n    <tr>\n      <th>279614</th>\n      <td>3</td>\n      <td>4.0</td>\n      <td>3</td>\n      <td>2</td>\n      <td>1</td>\n      <td>51-60</td>\n      <td>0</td>\n      <td>0</td>\n      <td>0</td>\n      <td>0</td>\n      <td>0</td>\n      <td>1</td>\n      <td>0</td>\n      <td>0</td>\n      <td>0</td>\n      <td>1</td>\n      <td>0</td>\n      <td>0</td>\n    </tr>\n    <tr>\n      <th>147791</th>\n      <td>3</td>\n      <td>2.0</td>\n      <td>2</td>\n      <td>2</td>\n      <td>5</td>\n      <td>51-60</td>\n      <td>1</td>\n      <td>0</td>\n      <td>0</td>\n      <td>0</td>\n      <td>0</td>\n      <td>0</td>\n      <td>0</td>\n      <td>0</td>\n      <td>0</td>\n      <td>1</td>\n      <td>0</td>\n      <td>0</td>\n    </tr>\n  </tbody>\n</table>\n</div>"
     },
     "metadata": {},
     "execution_count": 24
    }
   ],
   "source": [
    "inputer = SimpleImputer()\n",
    "train['9'] = inputer.fit_transform(np.array(train['9']).reshape(-1,1))\n",
    "train.head()"
   ]
  },
  {
   "cell_type": "code",
   "execution_count": 25,
   "metadata": {},
   "outputs": [
    {
     "output_type": "stream",
     "name": "stdout",
     "text": [
      "Checking whether there is an H2O instance running at http://localhost:54321 ..... not found.\n",
      "Attempting to start a local H2O server...\n",
      "; Java HotSpot(TM) 64-Bit Server VM 18.9 (build 11.0.11+9-LTS-194, mixed mode)\n",
      "  Starting server from C:\\Users\\jgnsa\\AppData\\Local\\Programs\\Python\\Python37\\lib\\site-packages\\h2o\\backend\\bin\\h2o.jar\n",
      "  Ice root: C:\\Users\\jgnsa\\AppData\\Local\\Temp\\tmpcea8s21m\n",
      "  JVM stdout: C:\\Users\\jgnsa\\AppData\\Local\\Temp\\tmpcea8s21m\\h2o_Jorge_started_from_python.out\n",
      "  JVM stderr: C:\\Users\\jgnsa\\AppData\\Local\\Temp\\tmpcea8s21m\\h2o_Jorge_started_from_python.err\n",
      "  Server is running at http://127.0.0.1:54321\n",
      "Connecting to H2O server at http://127.0.0.1:54321 ... successful.\n"
     ]
    },
    {
     "output_type": "display_data",
     "data": {
      "text/plain": "--------------------------  ---------------------------------------------------------\nH2O_cluster_uptime:         02 secs\nH2O_cluster_timezone:       Europe/Paris\nH2O_data_parsing_timezone:  UTC\nH2O_cluster_version:        3.32.1.3\nH2O_cluster_version_age:    1 month and 6 days\nH2O_cluster_name:           H2O_from_python_Jorge_x0h9ig\nH2O_cluster_total_nodes:    1\nH2O_cluster_free_memory:    3.965 Gb\nH2O_cluster_total_cores:    0\nH2O_cluster_allowed_cores:  0\nH2O_cluster_status:         accepting new members, healthy\nH2O_connection_url:         http://127.0.0.1:54321\nH2O_connection_proxy:       {\"http\": null, \"https\": null}\nH2O_internal_security:      False\nH2O_API_Extensions:         Amazon S3, Algos, AutoML, Core V3, TargetEncoder, Core V4\nPython_version:             3.7.4 final\n--------------------------  ---------------------------------------------------------",
      "text/html": "<div style=\"overflow:auto\"><table style=\"width:50%\"><tr><td>H2O_cluster_uptime:</td>\n<td>02 secs</td></tr>\n<tr><td>H2O_cluster_timezone:</td>\n<td>Europe/Paris</td></tr>\n<tr><td>H2O_data_parsing_timezone:</td>\n<td>UTC</td></tr>\n<tr><td>H2O_cluster_version:</td>\n<td>3.32.1.3</td></tr>\n<tr><td>H2O_cluster_version_age:</td>\n<td>1 month and 6 days </td></tr>\n<tr><td>H2O_cluster_name:</td>\n<td>H2O_from_python_Jorge_x0h9ig</td></tr>\n<tr><td>H2O_cluster_total_nodes:</td>\n<td>1</td></tr>\n<tr><td>H2O_cluster_free_memory:</td>\n<td>3.965 Gb</td></tr>\n<tr><td>H2O_cluster_total_cores:</td>\n<td>0</td></tr>\n<tr><td>H2O_cluster_allowed_cores:</td>\n<td>0</td></tr>\n<tr><td>H2O_cluster_status:</td>\n<td>accepting new members, healthy</td></tr>\n<tr><td>H2O_connection_url:</td>\n<td>http://127.0.0.1:54321</td></tr>\n<tr><td>H2O_connection_proxy:</td>\n<td>{\"http\": null, \"https\": null}</td></tr>\n<tr><td>H2O_internal_security:</td>\n<td>False</td></tr>\n<tr><td>H2O_API_Extensions:</td>\n<td>Amazon S3, Algos, AutoML, Core V3, TargetEncoder, Core V4</td></tr>\n<tr><td>Python_version:</td>\n<td>3.7.4 final</td></tr></table></div>"
     },
     "metadata": {}
    },
    {
     "output_type": "stream",
     "name": "stdout",
     "text": [
      "Parse progress: |█████████████████████████████████████████████████████████| 100%\n"
     ]
    }
   ],
   "source": [
    "h2o.init()\n",
    "h2train = h2o.H2OFrame(train)\n",
    "columnas = [a for a in h2train.columns if a != \"17\"][1:]\n",
    "x = columnas\n",
    "y = \"17\""
   ]
  },
  {
   "cell_type": "code",
   "execution_count": 48,
   "metadata": {},
   "outputs": [
    {
     "output_type": "stream",
     "name": "stdout",
     "text": [
      "AutoML progress: |\n",
      "22:05:37.554: AutoML: XGBoost is not available; skipping it.\n",
      "\n",
      "████████████████████████████████████████████████████████| 100%\n"
     ]
    }
   ],
   "source": [
    "automl = H2OAutoML(max_models=50, seed=42, max_runtime_secs=300, sort_metric='mean_per_class_error')\n",
    "automl.train(x=x, y=y, training_frame=h2train)"
   ]
  },
  {
   "cell_type": "code",
   "execution_count": 49,
   "metadata": {},
   "outputs": [
    {
     "output_type": "stream",
     "name": "stdout",
     "text": [
      "[INFO] Models leader board:\n"
     ]
    },
    {
     "output_type": "display_data",
     "data": {
      "text/html": "<table>\n<thead>\n<tr><th>model_id                                           </th><th style=\"text-align: right;\">  mean_per_class_error</th><th style=\"text-align: right;\">  logloss</th><th style=\"text-align: right;\">    rmse</th><th style=\"text-align: right;\">     mse</th><th style=\"text-align: right;\">  auc</th><th style=\"text-align: right;\">  aucpr</th></tr>\n</thead>\n<tbody>\n<tr><td>DRF_1_AutoML_20210625_220537                       </td><td style=\"text-align: right;\">              0.88766 </td><td style=\"text-align: right;\">  4.36615</td><td style=\"text-align: right;\">0.810293</td><td style=\"text-align: right;\">0.656574</td><td style=\"text-align: right;\">  nan</td><td style=\"text-align: right;\">    nan</td></tr>\n<tr><td>GBM_grid__1_AutoML_20210625_220537_model_4         </td><td style=\"text-align: right;\">              0.888217</td><td style=\"text-align: right;\">  2.20092</td><td style=\"text-align: right;\">0.886738</td><td style=\"text-align: right;\">0.786304</td><td style=\"text-align: right;\">  nan</td><td style=\"text-align: right;\">    nan</td></tr>\n<tr><td>StackedEnsemble_AllModels_AutoML_20210625_220537   </td><td style=\"text-align: right;\">              0.889321</td><td style=\"text-align: right;\">  1.84695</td><td style=\"text-align: right;\">0.806156</td><td style=\"text-align: right;\">0.649887</td><td style=\"text-align: right;\">  nan</td><td style=\"text-align: right;\">    nan</td></tr>\n<tr><td>GBM_4_AutoML_20210625_220537                       </td><td style=\"text-align: right;\">              0.889737</td><td style=\"text-align: right;\">  2.05132</td><td style=\"text-align: right;\">0.863671</td><td style=\"text-align: right;\">0.745928</td><td style=\"text-align: right;\">  nan</td><td style=\"text-align: right;\">    nan</td></tr>\n<tr><td>GBM_2_AutoML_20210625_220537                       </td><td style=\"text-align: right;\">              0.889796</td><td style=\"text-align: right;\">  2.01377</td><td style=\"text-align: right;\">0.856825</td><td style=\"text-align: right;\">0.734148</td><td style=\"text-align: right;\">  nan</td><td style=\"text-align: right;\">    nan</td></tr>\n<tr><td>GBM_grid__1_AutoML_20210625_220537_model_1         </td><td style=\"text-align: right;\">              0.889832</td><td style=\"text-align: right;\">  1.852  </td><td style=\"text-align: right;\">0.810218</td><td style=\"text-align: right;\">0.656454</td><td style=\"text-align: right;\">  nan</td><td style=\"text-align: right;\">    nan</td></tr>\n<tr><td>GBM_grid__1_AutoML_20210625_220537_model_2         </td><td style=\"text-align: right;\">              0.890044</td><td style=\"text-align: right;\">  1.89918</td><td style=\"text-align: right;\">0.82803 </td><td style=\"text-align: right;\">0.685633</td><td style=\"text-align: right;\">  nan</td><td style=\"text-align: right;\">    nan</td></tr>\n<tr><td>GBM_5_AutoML_20210625_220537                       </td><td style=\"text-align: right;\">              0.890322</td><td style=\"text-align: right;\">  2.08404</td><td style=\"text-align: right;\">0.869738</td><td style=\"text-align: right;\">0.756444</td><td style=\"text-align: right;\">  nan</td><td style=\"text-align: right;\">    nan</td></tr>\n<tr><td>GBM_1_AutoML_20210625_220537                       </td><td style=\"text-align: right;\">              0.890749</td><td style=\"text-align: right;\">  1.99433</td><td style=\"text-align: right;\">0.852916</td><td style=\"text-align: right;\">0.727465</td><td style=\"text-align: right;\">  nan</td><td style=\"text-align: right;\">    nan</td></tr>\n<tr><td>StackedEnsemble_BestOfFamily_AutoML_20210625_220537</td><td style=\"text-align: right;\">              0.890752</td><td style=\"text-align: right;\">  1.85188</td><td style=\"text-align: right;\">0.807425</td><td style=\"text-align: right;\">0.651935</td><td style=\"text-align: right;\">  nan</td><td style=\"text-align: right;\">    nan</td></tr>\n</tbody>\n</table>"
     },
     "metadata": {}
    },
    {
     "output_type": "execute_result",
     "data": {
      "text/plain": []
     },
     "metadata": {},
     "execution_count": 49
    }
   ],
   "source": [
    "print('[INFO] Models leader board:')\n",
    "leader_board = automl.leaderboard\n",
    "leader_board.head()"
   ]
  },
  {
   "cell_type": "code",
   "execution_count": 40,
   "metadata": {},
   "outputs": [
    {
     "output_type": "execute_result",
     "data": {
      "text/plain": [
       "        5    9  12  13  15  2_a  2_b  2_c  2_d  2_e  2_f  2_g  \\\n",
       "0                                                               \n",
       "314114  4  2.0   3   1   4    1    0    0    0    0    0    0   \n",
       "208989  3  2.0   1   2   3    0    0    1    0    0    0    0   \n",
       "305872  4  4.0   3   1   7    0    0    0    0    1    0    0   \n",
       "266099  4  2.0   2   3   3    0    0    1    0    0    0    0   \n",
       "13228   4  1.0   3   1   2    1    0    0    0    0    0    0   \n",
       "...    ..  ...  ..  ..  ..  ...  ...  ...  ...  ...  ...  ...   \n",
       "318155  6  3.0   2   1   5    0    0    0    1    0    0    0   \n",
       "144850  2  2.0   3   2   6    1    0    0    0    0    0    0   \n",
       "180676  3  3.0   1   1   3    0    0    1    0    0    0    0   \n",
       "39933   4  2.0   1   3   3    0    1    0    0    0    0    0   \n",
       "116673  4  2.0   1   2   5    1    0    0    0    0    0    0   \n",
       "\n",
       "        6_TB & Chest disease  6_anesthesia  6_gynecology  6_radiotherapy  \\\n",
       "0                                                                          \n",
       "314114                     0             0             1               0   \n",
       "208989                     0             0             1               0   \n",
       "305872                     0             0             1               0   \n",
       "266099                     1             0             0               0   \n",
       "13228                      0             0             1               0   \n",
       "...                      ...           ...           ...             ...   \n",
       "318155                     0             1             0               0   \n",
       "144850                     0             0             1               0   \n",
       "180676                     0             0             1               0   \n",
       "39933                      0             0             1               0   \n",
       "116673                     1             0             0               0   \n",
       "\n",
       "        6_surgery  \n",
       "0                  \n",
       "314114          0  \n",
       "208989          0  \n",
       "305872          0  \n",
       "266099          0  \n",
       "13228           0  \n",
       "...           ...  \n",
       "318155          0  \n",
       "144850          0  \n",
       "180676          0  \n",
       "39933           0  \n",
       "116673          0  \n",
       "\n",
       "[133744 rows x 17 columns]"
      ],
      "text/html": "<div>\n<style scoped>\n    .dataframe tbody tr th:only-of-type {\n        vertical-align: middle;\n    }\n\n    .dataframe tbody tr th {\n        vertical-align: top;\n    }\n\n    .dataframe thead th {\n        text-align: right;\n    }\n</style>\n<table border=\"1\" class=\"dataframe\">\n  <thead>\n    <tr style=\"text-align: right;\">\n      <th></th>\n      <th>5</th>\n      <th>9</th>\n      <th>12</th>\n      <th>13</th>\n      <th>15</th>\n      <th>2_a</th>\n      <th>2_b</th>\n      <th>2_c</th>\n      <th>2_d</th>\n      <th>2_e</th>\n      <th>2_f</th>\n      <th>2_g</th>\n      <th>6_TB &amp; Chest disease</th>\n      <th>6_anesthesia</th>\n      <th>6_gynecology</th>\n      <th>6_radiotherapy</th>\n      <th>6_surgery</th>\n    </tr>\n    <tr>\n      <th>0</th>\n      <th></th>\n      <th></th>\n      <th></th>\n      <th></th>\n      <th></th>\n      <th></th>\n      <th></th>\n      <th></th>\n      <th></th>\n      <th></th>\n      <th></th>\n      <th></th>\n      <th></th>\n      <th></th>\n      <th></th>\n      <th></th>\n      <th></th>\n    </tr>\n  </thead>\n  <tbody>\n    <tr>\n      <th>314114</th>\n      <td>4</td>\n      <td>2.0</td>\n      <td>3</td>\n      <td>1</td>\n      <td>4</td>\n      <td>1</td>\n      <td>0</td>\n      <td>0</td>\n      <td>0</td>\n      <td>0</td>\n      <td>0</td>\n      <td>0</td>\n      <td>0</td>\n      <td>0</td>\n      <td>1</td>\n      <td>0</td>\n      <td>0</td>\n    </tr>\n    <tr>\n      <th>208989</th>\n      <td>3</td>\n      <td>2.0</td>\n      <td>1</td>\n      <td>2</td>\n      <td>3</td>\n      <td>0</td>\n      <td>0</td>\n      <td>1</td>\n      <td>0</td>\n      <td>0</td>\n      <td>0</td>\n      <td>0</td>\n      <td>0</td>\n      <td>0</td>\n      <td>1</td>\n      <td>0</td>\n      <td>0</td>\n    </tr>\n    <tr>\n      <th>305872</th>\n      <td>4</td>\n      <td>4.0</td>\n      <td>3</td>\n      <td>1</td>\n      <td>7</td>\n      <td>0</td>\n      <td>0</td>\n      <td>0</td>\n      <td>0</td>\n      <td>1</td>\n      <td>0</td>\n      <td>0</td>\n      <td>0</td>\n      <td>0</td>\n      <td>1</td>\n      <td>0</td>\n      <td>0</td>\n    </tr>\n    <tr>\n      <th>266099</th>\n      <td>4</td>\n      <td>2.0</td>\n      <td>2</td>\n      <td>3</td>\n      <td>3</td>\n      <td>0</td>\n      <td>0</td>\n      <td>1</td>\n      <td>0</td>\n      <td>0</td>\n      <td>0</td>\n      <td>0</td>\n      <td>1</td>\n      <td>0</td>\n      <td>0</td>\n      <td>0</td>\n      <td>0</td>\n    </tr>\n    <tr>\n      <th>13228</th>\n      <td>4</td>\n      <td>1.0</td>\n      <td>3</td>\n      <td>1</td>\n      <td>2</td>\n      <td>1</td>\n      <td>0</td>\n      <td>0</td>\n      <td>0</td>\n      <td>0</td>\n      <td>0</td>\n      <td>0</td>\n      <td>0</td>\n      <td>0</td>\n      <td>1</td>\n      <td>0</td>\n      <td>0</td>\n    </tr>\n    <tr>\n      <th>...</th>\n      <td>...</td>\n      <td>...</td>\n      <td>...</td>\n      <td>...</td>\n      <td>...</td>\n      <td>...</td>\n      <td>...</td>\n      <td>...</td>\n      <td>...</td>\n      <td>...</td>\n      <td>...</td>\n      <td>...</td>\n      <td>...</td>\n      <td>...</td>\n      <td>...</td>\n      <td>...</td>\n      <td>...</td>\n    </tr>\n    <tr>\n      <th>318155</th>\n      <td>6</td>\n      <td>3.0</td>\n      <td>2</td>\n      <td>1</td>\n      <td>5</td>\n      <td>0</td>\n      <td>0</td>\n      <td>0</td>\n      <td>1</td>\n      <td>0</td>\n      <td>0</td>\n      <td>0</td>\n      <td>0</td>\n      <td>1</td>\n      <td>0</td>\n      <td>0</td>\n      <td>0</td>\n    </tr>\n    <tr>\n      <th>144850</th>\n      <td>2</td>\n      <td>2.0</td>\n      <td>3</td>\n      <td>2</td>\n      <td>6</td>\n      <td>1</td>\n      <td>0</td>\n      <td>0</td>\n      <td>0</td>\n      <td>0</td>\n      <td>0</td>\n      <td>0</td>\n      <td>0</td>\n      <td>0</td>\n      <td>1</td>\n      <td>0</td>\n      <td>0</td>\n    </tr>\n    <tr>\n      <th>180676</th>\n      <td>3</td>\n      <td>3.0</td>\n      <td>1</td>\n      <td>1</td>\n      <td>3</td>\n      <td>0</td>\n      <td>0</td>\n      <td>1</td>\n      <td>0</td>\n      <td>0</td>\n      <td>0</td>\n      <td>0</td>\n      <td>0</td>\n      <td>0</td>\n      <td>1</td>\n      <td>0</td>\n      <td>0</td>\n    </tr>\n    <tr>\n      <th>39933</th>\n      <td>4</td>\n      <td>2.0</td>\n      <td>1</td>\n      <td>3</td>\n      <td>3</td>\n      <td>0</td>\n      <td>1</td>\n      <td>0</td>\n      <td>0</td>\n      <td>0</td>\n      <td>0</td>\n      <td>0</td>\n      <td>0</td>\n      <td>0</td>\n      <td>1</td>\n      <td>0</td>\n      <td>0</td>\n    </tr>\n    <tr>\n      <th>116673</th>\n      <td>4</td>\n      <td>2.0</td>\n      <td>1</td>\n      <td>2</td>\n      <td>5</td>\n      <td>1</td>\n      <td>0</td>\n      <td>0</td>\n      <td>0</td>\n      <td>0</td>\n      <td>0</td>\n      <td>0</td>\n      <td>1</td>\n      <td>0</td>\n      <td>0</td>\n      <td>0</td>\n      <td>0</td>\n    </tr>\n  </tbody>\n</table>\n<p>133744 rows × 17 columns</p>\n</div>"
     },
     "metadata": {},
     "execution_count": 40
    }
   ],
   "source": [
    "test = pd.read_csv('hospital_test.csv', index_col=0)\n",
    "# Operaciones de transformación.\n",
    "# Quitamos las columnas no relevantes\n",
    "filtered = test.drop(['1', '3', '4', '7', '8', '10', '11', '14','16'], axis=1)\n",
    "\n",
    "# Aplicamos los encoders\n",
    "filtered['12'] = filtered['12'].apply(HospitalEncoder.encode_admission)\n",
    "filtered['13'] = filtered['13'].apply(HospitalEncoder.encode_severity)\n",
    "filtered['15'] = filtered['15'].apply(HospitalEncoder.encode_age)\n",
    "\n",
    "# Get dummies\n",
    "features = filtered[['2', '6']]\n",
    "features = pd.get_dummies(features)\n",
    "filtered.drop(['2', '6'], axis=1, inplace=True)\n",
    "test = pd.concat([filtered, features], axis=1)\n",
    "\n",
    "# Creamos X\n",
    "inputer = SimpleImputer()\n",
    "test['9'] = inputer.fit_transform(np.array(test['9']).reshape(-1,1))\n",
    "test"
   ]
  },
  {
   "cell_type": "code",
   "execution_count": 41,
   "metadata": {},
   "outputs": [
    {
     "output_type": "stream",
     "name": "stdout",
     "text": [
      "Parse progress: |█████████████████████████████████████████████████████████| 100%\n"
     ]
    }
   ],
   "source": [
    "h2test = h2o.H2OFrame(test)"
   ]
  },
  {
   "cell_type": "code",
   "execution_count": 50,
   "metadata": {},
   "outputs": [
    {
     "output_type": "stream",
     "name": "stdout",
     "text": [
      "drf prediction progress: |████████████████████████████████████████████████| 100%\n"
     ]
    }
   ],
   "source": [
    "predictions = automl.leader.predict(h2test)"
   ]
  },
  {
   "cell_type": "code",
   "execution_count": 43,
   "metadata": {},
   "outputs": [
    {
     "output_type": "display_data",
     "data": {
      "text/html": "<table>\n<thead>\n<tr><th>predict  </th><th style=\"text-align: right;\">     0-10</th><th style=\"text-align: right;\">   11-20</th><th style=\"text-align: right;\">   21-30</th><th style=\"text-align: right;\">    31-40</th><th style=\"text-align: right;\">    41-50</th><th style=\"text-align: right;\">    51-60</th><th style=\"text-align: right;\">    61-70</th><th style=\"text-align: right;\">    71-80</th><th style=\"text-align: right;\">    81-90</th><th style=\"text-align: right;\">   91-100</th><th style=\"text-align: right;\">  More than 100 Days</th></tr>\n</thead>\n<tbody>\n<tr><td>11-20    </td><td style=\"text-align: right;\">0.097719 </td><td style=\"text-align: right;\">0.243708</td><td style=\"text-align: right;\">0.207902</td><td style=\"text-align: right;\">0.119254 </td><td style=\"text-align: right;\">0.0569011</td><td style=\"text-align: right;\">0.0649143</td><td style=\"text-align: right;\">0.0406576</td><td style=\"text-align: right;\">0.0444299</td><td style=\"text-align: right;\">0.0420169</td><td style=\"text-align: right;\">0.0406512</td><td style=\"text-align: right;\">           0.0418469</td></tr>\n<tr><td>21-30    </td><td style=\"text-align: right;\">0.064805 </td><td style=\"text-align: right;\">0.116454</td><td style=\"text-align: right;\">0.266677</td><td style=\"text-align: right;\">0.153936 </td><td style=\"text-align: right;\">0.0668626</td><td style=\"text-align: right;\">0.0971287</td><td style=\"text-align: right;\">0.0434597</td><td style=\"text-align: right;\">0.0579094</td><td style=\"text-align: right;\">0.0438132</td><td style=\"text-align: right;\">0.0440445</td><td style=\"text-align: right;\">           0.0449095</td></tr>\n<tr><td>11-20    </td><td style=\"text-align: right;\">0.105562 </td><td style=\"text-align: right;\">0.180165</td><td style=\"text-align: right;\">0.157403</td><td style=\"text-align: right;\">0.155248 </td><td style=\"text-align: right;\">0.0608578</td><td style=\"text-align: right;\">0.0931876</td><td style=\"text-align: right;\">0.045579 </td><td style=\"text-align: right;\">0.0529422</td><td style=\"text-align: right;\">0.0512261</td><td style=\"text-align: right;\">0.0516718</td><td style=\"text-align: right;\">           0.0461566</td></tr>\n<tr><td>21-30    </td><td style=\"text-align: right;\">0.0796335</td><td style=\"text-align: right;\">0.136689</td><td style=\"text-align: right;\">0.242062</td><td style=\"text-align: right;\">0.121854 </td><td style=\"text-align: right;\">0.0500898</td><td style=\"text-align: right;\">0.117185 </td><td style=\"text-align: right;\">0.0425033</td><td style=\"text-align: right;\">0.0608948</td><td style=\"text-align: right;\">0.0538979</td><td style=\"text-align: right;\">0.0407633</td><td style=\"text-align: right;\">           0.0544266</td></tr>\n<tr><td>11-20    </td><td style=\"text-align: right;\">0.166062 </td><td style=\"text-align: right;\">0.223186</td><td style=\"text-align: right;\">0.183456</td><td style=\"text-align: right;\">0.100832 </td><td style=\"text-align: right;\">0.0565383</td><td style=\"text-align: right;\">0.0715933</td><td style=\"text-align: right;\">0.0392016</td><td style=\"text-align: right;\">0.0433106</td><td style=\"text-align: right;\">0.0389993</td><td style=\"text-align: right;\">0.0384742</td><td style=\"text-align: right;\">           0.0383462</td></tr>\n<tr><td>11-20    </td><td style=\"text-align: right;\">0.0776222</td><td style=\"text-align: right;\">0.192272</td><td style=\"text-align: right;\">0.182939</td><td style=\"text-align: right;\">0.145463 </td><td style=\"text-align: right;\">0.0578198</td><td style=\"text-align: right;\">0.0940424</td><td style=\"text-align: right;\">0.0439316</td><td style=\"text-align: right;\">0.0592519</td><td style=\"text-align: right;\">0.0512658</td><td style=\"text-align: right;\">0.0437337</td><td style=\"text-align: right;\">           0.0516598</td></tr>\n<tr><td>21-30    </td><td style=\"text-align: right;\">0.0782714</td><td style=\"text-align: right;\">0.140636</td><td style=\"text-align: right;\">0.256238</td><td style=\"text-align: right;\">0.136611 </td><td style=\"text-align: right;\">0.0629971</td><td style=\"text-align: right;\">0.0899258</td><td style=\"text-align: right;\">0.0434048</td><td style=\"text-align: right;\">0.0577149</td><td style=\"text-align: right;\">0.0444525</td><td style=\"text-align: right;\">0.0449515</td><td style=\"text-align: right;\">           0.0447964</td></tr>\n<tr><td>11-20    </td><td style=\"text-align: right;\">0.111688 </td><td style=\"text-align: right;\">0.241189</td><td style=\"text-align: right;\">0.213193</td><td style=\"text-align: right;\">0.0958381</td><td style=\"text-align: right;\">0.0596201</td><td style=\"text-align: right;\">0.0698285</td><td style=\"text-align: right;\">0.0398717</td><td style=\"text-align: right;\">0.0426497</td><td style=\"text-align: right;\">0.0407053</td><td style=\"text-align: right;\">0.0400877</td><td style=\"text-align: right;\">           0.0453298</td></tr>\n<tr><td>11-20    </td><td style=\"text-align: right;\">0.0678554</td><td style=\"text-align: right;\">0.161468</td><td style=\"text-align: right;\">0.150132</td><td style=\"text-align: right;\">0.137066 </td><td style=\"text-align: right;\">0.0636075</td><td style=\"text-align: right;\">0.112252 </td><td style=\"text-align: right;\">0.0565984</td><td style=\"text-align: right;\">0.0746397</td><td style=\"text-align: right;\">0.0528309</td><td style=\"text-align: right;\">0.0530824</td><td style=\"text-align: right;\">           0.0704685</td></tr>\n<tr><td>11-20    </td><td style=\"text-align: right;\">0.106201 </td><td style=\"text-align: right;\">0.195854</td><td style=\"text-align: right;\">0.175788</td><td style=\"text-align: right;\">0.128701 </td><td style=\"text-align: right;\">0.0564147</td><td style=\"text-align: right;\">0.09617  </td><td style=\"text-align: right;\">0.0453129</td><td style=\"text-align: right;\">0.055687 </td><td style=\"text-align: right;\">0.0496899</td><td style=\"text-align: right;\">0.0440256</td><td style=\"text-align: right;\">           0.0461567</td></tr>\n</tbody>\n</table>"
     },
     "metadata": {}
    },
    {
     "output_type": "execute_result",
     "data": {
      "text/plain": []
     },
     "metadata": {},
     "execution_count": 43
    }
   ],
   "source": [
    "predictions"
   ]
  },
  {
   "cell_type": "code",
   "execution_count": 51,
   "metadata": {},
   "outputs": [
    {
     "output_type": "execute_result",
     "data": {
      "text/plain": [
       "            id   days\n",
       "0       314114  11-20\n",
       "1       208989  21-30\n",
       "2       305872  31-40\n",
       "3       266099  11-20\n",
       "4        13228  21-30\n",
       "...        ...    ...\n",
       "133739  318155   0-10\n",
       "133740  144850  11-20\n",
       "133741  180676  21-30\n",
       "133742   39933  21-30\n",
       "133743  116673  21-30\n",
       "\n",
       "[133744 rows x 2 columns]"
      ],
      "text/html": "<div>\n<style scoped>\n    .dataframe tbody tr th:only-of-type {\n        vertical-align: middle;\n    }\n\n    .dataframe tbody tr th {\n        vertical-align: top;\n    }\n\n    .dataframe thead th {\n        text-align: right;\n    }\n</style>\n<table border=\"1\" class=\"dataframe\">\n  <thead>\n    <tr style=\"text-align: right;\">\n      <th></th>\n      <th>id</th>\n      <th>days</th>\n    </tr>\n  </thead>\n  <tbody>\n    <tr>\n      <th>0</th>\n      <td>314114</td>\n      <td>11-20</td>\n    </tr>\n    <tr>\n      <th>1</th>\n      <td>208989</td>\n      <td>21-30</td>\n    </tr>\n    <tr>\n      <th>2</th>\n      <td>305872</td>\n      <td>31-40</td>\n    </tr>\n    <tr>\n      <th>3</th>\n      <td>266099</td>\n      <td>11-20</td>\n    </tr>\n    <tr>\n      <th>4</th>\n      <td>13228</td>\n      <td>21-30</td>\n    </tr>\n    <tr>\n      <th>...</th>\n      <td>...</td>\n      <td>...</td>\n    </tr>\n    <tr>\n      <th>133739</th>\n      <td>318155</td>\n      <td>0-10</td>\n    </tr>\n    <tr>\n      <th>133740</th>\n      <td>144850</td>\n      <td>11-20</td>\n    </tr>\n    <tr>\n      <th>133741</th>\n      <td>180676</td>\n      <td>21-30</td>\n    </tr>\n    <tr>\n      <th>133742</th>\n      <td>39933</td>\n      <td>21-30</td>\n    </tr>\n    <tr>\n      <th>133743</th>\n      <td>116673</td>\n      <td>21-30</td>\n    </tr>\n  </tbody>\n</table>\n<p>133744 rows × 2 columns</p>\n</div>"
     },
     "metadata": {},
     "execution_count": 51
    }
   ],
   "source": [
    "results = pd.DataFrame({'id':test.index, 'days':predictions.as_data_frame()['predict']})\n",
    "results"
   ]
  },
  {
   "cell_type": "code",
   "execution_count": 52,
   "metadata": {},
   "outputs": [
    {
     "output_type": "stream",
     "name": "stdout",
     "text": [
      "You're ready to submit!\n"
     ]
    }
   ],
   "source": [
    "chequeator(results)"
   ]
  },
  {
   "cell_type": "code",
   "execution_count": 53,
   "metadata": {},
   "outputs": [
    {
     "output_type": "execute_result",
     "data": {
      "text/plain": [
       "'D:\\\\Documentos\\\\TheBridge\\\\bridge_datascience_JorgeGarcia\\\\Kaggle_Hospital\\\\h2o_models\\\\DRF_1_AutoML_20210625_220537'"
      ]
     },
     "metadata": {},
     "execution_count": 53
    }
   ],
   "source": [
    "h2o.save_model(model=automl.leader, path='h2o_models', force=True)"
   ]
  }
 ]
}