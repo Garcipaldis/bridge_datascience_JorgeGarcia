{
 "cells": [
  {
   "cell_type": "markdown",
   "metadata": {},
   "source": [
    "# Ejercicio pyspark\n",
    "Para este ejercicio vas a trabajar con una base de datos de canciones. Hay que realizar analítica sobre los datos que tenemos y para ello, es necesario responder a las siguientes preguntas.\n",
    "1. Imprime por pantalla las columnas y el esquema\n",
    "2. ¿De cuántas canciones se compone la base de datos?\n",
    "3. ¿Cuántas bandas diferentes hay? ¿Y géneros?\n",
    "4. Número de canciones de los Beattles\n",
    "5. ¿Cuál es la duración media de las canciones?\n",
    "6. Duración media de las canciones por año\n",
    "7. ¿Qué canciones son las de duración mínima y máxima?\n",
    "8. Grupo con la canción más larga\n",
    "9. Teniendo en cuenta los scores de todas las canciones. ¿Cuáles son los géneros con mayor score?\n",
    "10. ¿En qué años se han publicado menos canciones? ¿Y más?\n",
    "11. Lista todas las canciones publicadas en 2010\n",
    "12. ¿Qué album obtuvo un mayor score en 2011?\n",
    "13. Canciones de genero rock por año desde 1965\n",
    "\n",
    "Para ello tendrás que usar la librería `pyspark`. **Las columnas del dataset tienen los siguientes nombres: BandName, Country, Genre, SongName, AlbumName, Duration, ScoreGenre, Year**"
   ]
  },
  {
   "cell_type": "code",
   "execution_count": null,
   "metadata": {},
   "outputs": [],
   "source": []
  }
 ],
 "metadata": {
  "kernelspec": {
   "display_name": "Python 3",
   "language": "python",
   "name": "python3"
  },
  "language_info": {
   "codemirror_mode": {
    "name": "ipython",
    "version": 3
   },
   "file_extension": ".py",
   "mimetype": "text/x-python",
   "name": "python",
   "nbconvert_exporter": "python",
   "pygments_lexer": "ipython3",
   "version": "3.8.3"
  }
 },
 "nbformat": 4,
 "nbformat_minor": 4
}
